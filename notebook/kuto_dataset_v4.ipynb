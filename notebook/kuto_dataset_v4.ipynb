{
 "cells": [
  {
   "cell_type": "markdown",
   "id": "4e9b39d9-5a56-4367-a43a-6082013baba3",
   "metadata": {},
   "source": [
    "## local feature dataset for LSTMを作成\n",
    "\n",
    "[WiFi Fingerprinting Indoor Localization Using LocalFeature-Based Deep LSTM](https://ieeexplore.ieee.org/abstract/document/8733822/)"
   ]
  },
  {
   "cell_type": "code",
   "execution_count": 1,
   "id": "8724464d-d03d-433e-91b7-f991d34366a8",
   "metadata": {},
   "outputs": [
    {
     "name": "stdout",
     "output_type": "stream",
     "text": [
      "Defaulting to user installation because normal site-packages is not writeable\n",
      "Requirement already satisfied: dask in /home/user/.local/lib/python3.8/site-packages (2021.4.0)\n",
      "Requirement already satisfied: cloudpickle>=1.1.1 in /home/user/.local/lib/python3.8/site-packages (from dask) (1.6.0)\n",
      "Requirement already satisfied: partd>=0.3.10 in /home/user/.local/lib/python3.8/site-packages (from dask) (1.2.0)\n",
      "Requirement already satisfied: pyyaml in /usr/local/lib/python3.8/dist-packages (from dask) (5.3.1)\n",
      "Requirement already satisfied: toolz>=0.8.2 in /home/user/.local/lib/python3.8/site-packages (from dask) (0.11.1)\n",
      "Requirement already satisfied: fsspec>=0.6.0 in /usr/local/lib/python3.8/dist-packages (from dask) (0.9.0)\n",
      "Requirement already satisfied: locket in /home/user/.local/lib/python3.8/site-packages (from partd>=0.3.10->dask) (0.2.1)\n",
      "Defaulting to user installation because normal site-packages is not writeable\n",
      "Requirement already satisfied: dask[distributed] in /home/user/.local/lib/python3.8/site-packages (2021.4.0)\n",
      "Requirement already satisfied: cloudpickle>=1.1.1 in /home/user/.local/lib/python3.8/site-packages (from dask[distributed]) (1.6.0)\n",
      "Requirement already satisfied: partd>=0.3.10 in /home/user/.local/lib/python3.8/site-packages (from dask[distributed]) (1.2.0)\n",
      "Requirement already satisfied: toolz>=0.8.2 in /home/user/.local/lib/python3.8/site-packages (from dask[distributed]) (0.11.1)\n",
      "Requirement already satisfied: fsspec>=0.6.0 in /usr/local/lib/python3.8/dist-packages (from dask[distributed]) (0.9.0)\n",
      "Requirement already satisfied: pyyaml in /usr/local/lib/python3.8/dist-packages (from dask[distributed]) (5.3.1)\n",
      "Requirement already satisfied: distributed>=2021.03.0 in /home/user/.local/lib/python3.8/site-packages (from dask[distributed]) (2021.4.0)\n",
      "Requirement already satisfied: zict>=0.1.3 in /home/user/.local/lib/python3.8/site-packages (from distributed>=2021.03.0->dask[distributed]) (2.0.0)\n",
      "Requirement already satisfied: setuptools in /home/user/.local/lib/python3.8/site-packages (from distributed>=2021.03.0->dask[distributed]) (56.0.0)\n",
      "Requirement already satisfied: msgpack>=0.6.0 in /usr/lib/python3/dist-packages (from distributed>=2021.03.0->dask[distributed]) (0.6.2)\n",
      "Requirement already satisfied: psutil>=5.0 in /usr/local/lib/python3.8/dist-packages (from distributed>=2021.03.0->dask[distributed]) (5.8.0)\n",
      "Requirement already satisfied: sortedcontainers!=2.0.0,!=2.0.1 in /home/user/.local/lib/python3.8/site-packages (from distributed>=2021.03.0->dask[distributed]) (2.3.0)\n",
      "Requirement already satisfied: tornado>=6.0.3 in /usr/local/lib/python3.8/dist-packages (from distributed>=2021.03.0->dask[distributed]) (6.1)\n",
      "Requirement already satisfied: tblib>=1.6.0 in /home/user/.local/lib/python3.8/site-packages (from distributed>=2021.03.0->dask[distributed]) (1.7.0)\n",
      "Requirement already satisfied: click>=6.6 in /usr/local/lib/python3.8/dist-packages (from distributed>=2021.03.0->dask[distributed]) (7.1.2)\n",
      "Requirement already satisfied: locket in /home/user/.local/lib/python3.8/site-packages (from partd>=0.3.10->dask[distributed]) (0.2.1)\n",
      "Requirement already satisfied: heapdict in /home/user/.local/lib/python3.8/site-packages (from zict>=0.1.3->distributed>=2021.03.0->dask[distributed]) (1.0.1)\n"
     ]
    }
   ],
   "source": [
    "!pip install dask\n",
    "!python3 -m pip install \"dask[distributed]\" "
   ]
  },
  {
   "cell_type": "code",
   "execution_count": 22,
   "id": "bbbb60d4-ca99-4188-a04e-40b771886b5b",
   "metadata": {},
   "outputs": [],
   "source": [
    "import pandas as pd\n",
    "import numpy as np\n",
    "import glob\n",
    "import os\n",
    "import gc\n",
    "import json \n",
    "import pickle\n",
    "from tqdm import tqdm\n",
    "import matplotlib.pyplot as plt\n",
    "import dask\n",
    "from dask.distributed import Client, wait, LocalCluster"
   ]
  },
  {
   "cell_type": "code",
   "execution_count": 23,
   "id": "3c81cf33-1e52-4c70-927d-a9ab4d7fcb45",
   "metadata": {},
   "outputs": [],
   "source": [
    "base_path = '../input/indoor-location-navigation/'"
   ]
  },
  {
   "cell_type": "code",
   "execution_count": 24,
   "id": "d8eba11c-1fd9-4841-9b74-cb7931e14526",
   "metadata": {},
   "outputs": [],
   "source": [
    "ssubm = pd.read_csv(base_path + 'sample_submission.csv')\n",
    "\n",
    "ssubm_df = ssubm[\"site_path_timestamp\"].apply(lambda x: pd.Series(x.split(\"_\")))\n",
    "used_buildings = sorted(ssubm_df[0].value_counts().index.tolist())\n",
    "\n",
    "floor_map = {\"B2\":-2, \"B1\":-1, \"F1\":0, \"F2\": 1, \"F3\":2, \"F4\":3, \"F5\":4, \"F6\":5, \"F7\":6,\"F8\":7, \"F9\":8,\n",
    "             \"1F\":0, \"2F\":1, \"3F\":2, \"4F\":3, \"5F\":4, \"6F\":5, \"7F\":6, \"8F\": 7, \"9F\":8}"
   ]
  },
  {
   "cell_type": "code",
   "execution_count": 25,
   "id": "0bac21ce-2a0b-4256-bd40-92f9e863e029",
   "metadata": {},
   "outputs": [],
   "source": [
    "def to_pickle(filename, obj):\n",
    "    with open(filename, mode='wb') as f:\n",
    "        pickle.dump(obj, f)\n",
    "        \n",
    "def from_pickle(filename):\n",
    "    with open(filename, mode='rb') as f:\n",
    "        obj = pickle.load(f)\n",
    "    return obj"
   ]
  },
  {
   "cell_type": "code",
   "execution_count": 8,
   "id": "35d68c7b-88c9-4ca4-80d0-1507dacf61b9",
   "metadata": {
    "papermill": {
     "duration": 0.026514,
     "end_time": "2021-02-03T20:30:09.420694",
     "exception": false,
     "start_time": "2021-02-03T20:30:09.394180",
     "status": "completed"
    },
    "tags": []
   },
   "outputs": [
    {
     "name": "stderr",
     "output_type": "stream",
     "text": [
      "100%|██████████| 24/24 [20:15<00:00, 50.63s/it]"
     ]
    },
    {
     "name": "stdout",
     "output_type": "stream",
     "text": [
      "CPU times: user 19min 56s, sys: 9.71 s, total: 20min 5s\n",
      "Wall time: 20min 15s\n"
     ]
    },
    {
     "name": "stderr",
     "output_type": "stream",
     "text": [
      "\n"
     ]
    }
   ],
   "source": [
    "TIME_DIFF_THRESHOLD = 5000 # 抽出対象とする最大時間（ミリ秒）\n",
    "WINDOW_RANGE = 1000\n",
    "# WIFI_NUM = 100 # WiFi抽出件数\n",
    "WIFI_MIN_NUM = 10 # waypointに紐づくWiFiの最低数（この数以下の場合は学習データから除外する）"
   ]
  },
  {
   "cell_type": "markdown",
   "id": "42d3fbd1-c41e-4072-9d79-0b1535e8ee52",
   "metadata": {},
   "source": [
    "## site内で50回以上登場するwifiを抽出"
   ]
  },
  {
   "cell_type": "code",
   "execution_count": 26,
   "id": "1ef0910d-e14b-43b8-8954-e7c405e681f9",
   "metadata": {
    "papermill": {
     "duration": 0.021272,
     "end_time": "2021-02-03T20:30:09.363069",
     "exception": false,
     "start_time": "2021-02-03T20:30:09.341797",
     "status": "completed"
    },
    "tags": []
   },
   "outputs": [],
   "source": [
    "# %%time\n",
    "\n",
    "# # TODO 全体の登場回数ではなく、waypointの近くの登場回数で絞るべき\n",
    "WIFI_USE_COUT = 50\n",
    "\n",
    "bssid = dict()\n",
    "\n",
    "for building in used_buildings:\n",
    "    #break\n",
    "    folders = sorted(glob.glob(os.path.join(base_path,'train/'+building+'/*')))\n",
    "    print(building)\n",
    "    wifi = list()\n",
    "    for folder in folders:\n",
    "        floor = floor_map[folder.split('/')[-1]]\n",
    "        files = glob.glob(os.path.join(folder, \"*.txt\"))\n",
    "        for file in files:\n",
    "            with open(file, encoding='utf-8') as f:\n",
    "                txt = f.readlines()\n",
    "                for e, line in enumerate(txt):\n",
    "                    tmp = line.strip().split()\n",
    "                    if tmp[1] == \"TYPE_WIFI\":\n",
    "                        wifi.append(tmp)\n",
    "    df = pd.DataFrame(wifi)\n",
    "    value_counts = df[3].value_counts()\n",
    "    top_bssid = value_counts[value_counts > WIFI_USE_COUT].index.tolist() # 50回以上登場するBSSIDのみを対象にする。\n",
    "    # print(len(top_bssid))\n",
    "    bssid[building][floor] = top_bssid\n",
    "    del df\n",
    "    del wifi\n",
    "    gc.collect()"
   ]
  },
  {
   "cell_type": "code",
   "execution_count": 27,
   "id": "94405f78-4fed-42a0-ada3-908138c7323b",
   "metadata": {
    "papermill": {
     "duration": 0.016635,
     "end_time": "2021-02-03T20:30:09.386885",
     "exception": false,
     "start_time": "2021-02-03T20:30:09.370250",
     "status": "completed"
    },
    "tags": []
   },
   "outputs": [],
   "source": [
    "# with open(f\"../input/kuto_wifi_dataset_v4/bssid_{WIFI_USE_COUT}.json\", \"w\") as f:\n",
    "#     json.dump(bssid, f)\n",
    "\n",
    "with open(f\"../input/kuto_wifi_dataset_v4/bssid_{WIFI_USE_COUT}.json\") as f:\n",
    "    bssid = json.load(f)"
   ]
  },
  {
   "cell_type": "markdown",
   "id": "482b47c9-925f-4411-837b-da6d3b0be562",
   "metadata": {},
   "source": [
    "## train dataの作成"
   ]
  },
  {
   "cell_type": "code",
   "execution_count": 9,
   "id": "93a5935f-470e-41b8-b212-2922c7096f4a",
   "metadata": {},
   "outputs": [
    {
     "data": {
      "text/html": [
       "<div>\n",
       "<style scoped>\n",
       "    .dataframe tbody tr th:only-of-type {\n",
       "        vertical-align: middle;\n",
       "    }\n",
       "\n",
       "    .dataframe tbody tr th {\n",
       "        vertical-align: top;\n",
       "    }\n",
       "\n",
       "    .dataframe thead th {\n",
       "        text-align: right;\n",
       "    }\n",
       "</style>\n",
       "<table border=\"1\" class=\"dataframe\">\n",
       "  <thead>\n",
       "    <tr style=\"text-align: right;\">\n",
       "      <th></th>\n",
       "      <th>site</th>\n",
       "      <th>path</th>\n",
       "      <th>timestamp</th>\n",
       "      <th>file_name</th>\n",
       "      <th>floor</th>\n",
       "      <th>floor_str</th>\n",
       "      <th>x</th>\n",
       "      <th>y</th>\n",
       "    </tr>\n",
       "  </thead>\n",
       "  <tbody>\n",
       "    <tr>\n",
       "      <th>0</th>\n",
       "      <td>5a0546857ecc773753327266</td>\n",
       "      <td>5e1580d1f4c3420006d520e4</td>\n",
       "      <td>1578466132778</td>\n",
       "      <td>5a0546857ecc773753327266_5e1580d1f4c3420006d52...</td>\n",
       "      <td>-1</td>\n",
       "      <td>B1</td>\n",
       "      <td>114.33501</td>\n",
       "      <td>156.84224</td>\n",
       "    </tr>\n",
       "    <tr>\n",
       "      <th>1</th>\n",
       "      <td>5a0546857ecc773753327266</td>\n",
       "      <td>5e1580d1f4c3420006d520e4</td>\n",
       "      <td>1578466149574</td>\n",
       "      <td>5a0546857ecc773753327266_5e1580d1f4c3420006d52...</td>\n",
       "      <td>-1</td>\n",
       "      <td>B1</td>\n",
       "      <td>106.65901</td>\n",
       "      <td>154.62952</td>\n",
       "    </tr>\n",
       "    <tr>\n",
       "      <th>2</th>\n",
       "      <td>5a0546857ecc773753327266</td>\n",
       "      <td>5e1580d1f4c3420006d520e4</td>\n",
       "      <td>1578466158395</td>\n",
       "      <td>5a0546857ecc773753327266_5e1580d1f4c3420006d52...</td>\n",
       "      <td>-1</td>\n",
       "      <td>B1</td>\n",
       "      <td>102.16824</td>\n",
       "      <td>158.42908</td>\n",
       "    </tr>\n",
       "    <tr>\n",
       "      <th>3</th>\n",
       "      <td>5a0546857ecc773753327266</td>\n",
       "      <td>5e1580d1f4c3420006d520e4</td>\n",
       "      <td>1578466166621</td>\n",
       "      <td>5a0546857ecc773753327266_5e1580d1f4c3420006d52...</td>\n",
       "      <td>-1</td>\n",
       "      <td>B1</td>\n",
       "      <td>107.85044</td>\n",
       "      <td>161.89262</td>\n",
       "    </tr>\n",
       "    <tr>\n",
       "      <th>4</th>\n",
       "      <td>5a0546857ecc773753327266</td>\n",
       "      <td>5e1580bb1506f2000638fc62</td>\n",
       "      <td>1578466886458</td>\n",
       "      <td>5a0546857ecc773753327266_5e1580bb1506f2000638f...</td>\n",
       "      <td>-1</td>\n",
       "      <td>B1</td>\n",
       "      <td>41.316772</td>\n",
       "      <td>180.0171</td>\n",
       "    </tr>\n",
       "    <tr>\n",
       "      <th>...</th>\n",
       "      <td>...</td>\n",
       "      <td>...</td>\n",
       "      <td>...</td>\n",
       "      <td>...</td>\n",
       "      <td>...</td>\n",
       "      <td>...</td>\n",
       "      <td>...</td>\n",
       "      <td>...</td>\n",
       "    </tr>\n",
       "    <tr>\n",
       "      <th>74636</th>\n",
       "      <td>5dc8cea7659e181adb076a3f</td>\n",
       "      <td>5dcfb393878f3300066c70a6</td>\n",
       "      <td>1573892854685</td>\n",
       "      <td>5dc8cea7659e181adb076a3f_5dcfb393878f3300066c7...</td>\n",
       "      <td>6</td>\n",
       "      <td>F7</td>\n",
       "      <td>117.17671</td>\n",
       "      <td>99.23578</td>\n",
       "    </tr>\n",
       "    <tr>\n",
       "      <th>74637</th>\n",
       "      <td>5dc8cea7659e181adb076a3f</td>\n",
       "      <td>5dcfb393878f3300066c70a6</td>\n",
       "      <td>1573892859436</td>\n",
       "      <td>5dc8cea7659e181adb076a3f_5dcfb393878f3300066c7...</td>\n",
       "      <td>6</td>\n",
       "      <td>F7</td>\n",
       "      <td>122.26995</td>\n",
       "      <td>102.66496</td>\n",
       "    </tr>\n",
       "    <tr>\n",
       "      <th>74638</th>\n",
       "      <td>5dc8cea7659e181adb076a3f</td>\n",
       "      <td>5dcfb393878f3300066c70a6</td>\n",
       "      <td>1573892863738</td>\n",
       "      <td>5dc8cea7659e181adb076a3f_5dcfb393878f3300066c7...</td>\n",
       "      <td>6</td>\n",
       "      <td>F7</td>\n",
       "      <td>126.63109</td>\n",
       "      <td>107.01164</td>\n",
       "    </tr>\n",
       "    <tr>\n",
       "      <th>74639</th>\n",
       "      <td>5dc8cea7659e181adb076a3f</td>\n",
       "      <td>5dcfb393878f3300066c70a6</td>\n",
       "      <td>1573892868972</td>\n",
       "      <td>5dc8cea7659e181adb076a3f_5dcfb393878f3300066c7...</td>\n",
       "      <td>6</td>\n",
       "      <td>F7</td>\n",
       "      <td>131.79286</td>\n",
       "      <td>111.526085</td>\n",
       "    </tr>\n",
       "    <tr>\n",
       "      <th>74640</th>\n",
       "      <td>5dc8cea7659e181adb076a3f</td>\n",
       "      <td>5dcfb393878f3300066c70a6</td>\n",
       "      <td>1573892874306</td>\n",
       "      <td>5dc8cea7659e181adb076a3f_5dcfb393878f3300066c7...</td>\n",
       "      <td>6</td>\n",
       "      <td>F7</td>\n",
       "      <td>136.65004</td>\n",
       "      <td>116.40799</td>\n",
       "    </tr>\n",
       "  </tbody>\n",
       "</table>\n",
       "<p>74641 rows × 8 columns</p>\n",
       "</div>"
      ],
      "text/plain": [
       "                           site                      path      timestamp  \\\n",
       "0      5a0546857ecc773753327266  5e1580d1f4c3420006d520e4  1578466132778   \n",
       "1      5a0546857ecc773753327266  5e1580d1f4c3420006d520e4  1578466149574   \n",
       "2      5a0546857ecc773753327266  5e1580d1f4c3420006d520e4  1578466158395   \n",
       "3      5a0546857ecc773753327266  5e1580d1f4c3420006d520e4  1578466166621   \n",
       "4      5a0546857ecc773753327266  5e1580bb1506f2000638fc62  1578466886458   \n",
       "...                         ...                       ...            ...   \n",
       "74636  5dc8cea7659e181adb076a3f  5dcfb393878f3300066c70a6  1573892854685   \n",
       "74637  5dc8cea7659e181adb076a3f  5dcfb393878f3300066c70a6  1573892859436   \n",
       "74638  5dc8cea7659e181adb076a3f  5dcfb393878f3300066c70a6  1573892863738   \n",
       "74639  5dc8cea7659e181adb076a3f  5dcfb393878f3300066c70a6  1573892868972   \n",
       "74640  5dc8cea7659e181adb076a3f  5dcfb393878f3300066c70a6  1573892874306   \n",
       "\n",
       "                                               file_name  floor floor_str  \\\n",
       "0      5a0546857ecc773753327266_5e1580d1f4c3420006d52...     -1        B1   \n",
       "1      5a0546857ecc773753327266_5e1580d1f4c3420006d52...     -1        B1   \n",
       "2      5a0546857ecc773753327266_5e1580d1f4c3420006d52...     -1        B1   \n",
       "3      5a0546857ecc773753327266_5e1580d1f4c3420006d52...     -1        B1   \n",
       "4      5a0546857ecc773753327266_5e1580bb1506f2000638f...     -1        B1   \n",
       "...                                                  ...    ...       ...   \n",
       "74636  5dc8cea7659e181adb076a3f_5dcfb393878f3300066c7...      6        F7   \n",
       "74637  5dc8cea7659e181adb076a3f_5dcfb393878f3300066c7...      6        F7   \n",
       "74638  5dc8cea7659e181adb076a3f_5dcfb393878f3300066c7...      6        F7   \n",
       "74639  5dc8cea7659e181adb076a3f_5dcfb393878f3300066c7...      6        F7   \n",
       "74640  5dc8cea7659e181adb076a3f_5dcfb393878f3300066c7...      6        F7   \n",
       "\n",
       "               x           y  \n",
       "0      114.33501   156.84224  \n",
       "1      106.65901   154.62952  \n",
       "2      102.16824   158.42908  \n",
       "3      107.85044   161.89262  \n",
       "4      41.316772    180.0171  \n",
       "...          ...         ...  \n",
       "74636  117.17671    99.23578  \n",
       "74637  122.26995   102.66496  \n",
       "74638  126.63109   107.01164  \n",
       "74639  131.79286  111.526085  \n",
       "74640  136.65004   116.40799  \n",
       "\n",
       "[74641 rows x 8 columns]"
      ]
     },
     "execution_count": 9,
     "metadata": {},
     "output_type": "execute_result"
    }
   ],
   "source": [
    "all_train_df = pd.DataFrame(all_train_list)\n",
    "all_train_df"
   ]
  },
  {
   "cell_type": "code",
   "execution_count": 8,
   "id": "72d602a7-4175-408d-9465-9d02d787d21a",
   "metadata": {
    "papermill": {
     "duration": 0.026514,
     "end_time": "2021-02-03T20:30:09.420694",
     "exception": false,
     "start_time": "2021-02-03T20:30:09.394180",
     "status": "completed"
    },
    "tags": []
   },
   "outputs": [
    {
     "name": "stderr",
     "output_type": "stream",
     "text": [
      "100%|██████████| 24/24 [20:15<00:00, 50.63s/it]"
     ]
    },
    {
     "name": "stdout",
     "output_type": "stream",
     "text": [
      "CPU times: user 19min 56s, sys: 9.71 s, total: 20min 5s\n",
      "Wall time: 20min 15s\n"
     ]
    },
    {
     "name": "stderr",
     "output_type": "stream",
     "text": [
      "\n"
     ]
    }
   ],
   "source": [
    "%%time\n",
    "\n",
    "DUMMY_RECORD = [9999999999999, 'DUMMY', 'NONE', 'NONE', -999, 0, 9999999999999, 99999, 99999] # waypointに紐づくWiFi数が100件に満たない場合に穴埋めするためのダミー\n",
    "\n",
    "train_output_dir = f\"../input/kuto_wifi_dataset_v4/train/{TIME_DIFF_THRESHOLD}_{WIFI_MIN_NUM}_{NUM_WINDOW}/\"\n",
    "os.makedirs(train_output_dir, exist_ok=True)\n",
    "\n",
    "# train_save_file_name = f'train_{TIME_DIFF_THRESHOLD}_{WIFI_MIN_NUM}_{WIFI_USE_COUT}.pkl'\n",
    "# test_save_file_name = f'test_{TIME_DIFF_THRESHOLD}_{WIFI_MIN_NUM}_{WIFI_USE_COUT}.pkl'\n",
    "\n",
    "train_wifi_count = []\n",
    "rows = []\n",
    "all_train_list = []\n",
    "for building in tqdm(used_buildings):\n",
    "    bssids = bssid[building]\n",
    "        \n",
    "    for folder in sorted(glob.glob(os.path.join(base_path,'train', building +'/*'))):\n",
    "\n",
    "        floor_str = folder.split('/')[-1]\n",
    "        floor = floor_map[floor_str]\n",
    "        \n",
    "        for file in glob.glob(os.path.join(folder, \"*.txt\")):\n",
    "            path = file.split('/')[-1].split('.')[0]\n",
    "            wifi = list()\n",
    "            waypoint = list()\n",
    "            \n",
    "            with open(file, encoding='utf-8') as f:\n",
    "                txt = f.readlines()\n",
    "                \n",
    "            for line in txt:\n",
    "                line = line.strip().split()\n",
    "                if line[1] == \"TYPE_WAYPOINT\":\n",
    "                    waypoint.append(line)\n",
    "                if line[1] == \"TYPE_WIFI\":\n",
    "                    wifi.append(line)\n",
    "\n",
    "            if len(wifi) <= 0:\n",
    "                continue\n",
    "                    \n",
    "            wifi_base_df = pd.DataFrame(np.array(wifi), columns=['timestamp', 'data_type', 'ssid', 'bssid', 'rssi', 'frequency', 'last_seen_timestamp'])\n",
    "\n",
    "            for wp_row in waypoint:\n",
    "                wifi_df = wifi_base_df.copy()\n",
    "                \n",
    "                wifi_df = wifi_df[wifi_df['bssid'].isin(bssids)]\n",
    "                \n",
    "                wp_timestamp = wp_row[0]\n",
    "\n",
    "                wifi_df['time_diff'] = wifi_df['last_seen_timestamp'].astype(np.float) - int(wp_timestamp)\n",
    "                wifi_df['time_diff_abs'] = wifi_df['time_diff'].abs()\n",
    "                \n",
    "                # waypointに近いWiFi(last_seen_timestamp)のみ抽出\n",
    "                wifi_df = wifi_df[np.abs(wifi_df['time_diff']) < TIME_DIFF_THRESHOLD] \n",
    "      \n",
    "                # 同一 SSID * BSSIDのうちtime_diffが一番小さいもののみを抽出する\n",
    "#                 wifi_df = wifi_df.sort_values('time_diff_abs')\n",
    "#                 wifi_df = wifi_df.groupby(['ssid', 'bssid']).head(1).reset_index(drop=True)\n",
    "\n",
    "                wifi_count = len(wifi_df)\n",
    "                # train_wifi_count.append(wifi_count)\n",
    "                \n",
    "                # WiFiが最低件数に満たない場合はスキップする\n",
    "                if wifi_count < WIFI_MIN_NUM:\n",
    "                    continue\n",
    "                \n",
    "                # WiFi件数に満たない行を埋める\n",
    "#                 dummy_count = WIFI_NUM - wifi_count\n",
    "#                 if dummy_count > 0:\n",
    "#                     dummy_df = pd.DataFrame(np.tile(DUMMY_RECORD, (dummy_count, 1)), \n",
    "#                                             columns=['timestamp', 'data_type', 'ssid', 'bssid', 'rssi', 'frequency', 'last_seen_timestamp', 'time_diff', 'time_diff_abs'])\n",
    "#                     wifi_df = pd.concat([wifi_df, dummy_df])\n",
    "                    \n",
    "                # wifi_df = wifi_df.head(100)\n",
    "                \n",
    "#                 row = np.concatenate([wifi_df['ssid'].to_numpy(),\n",
    "#                                       wifi_df['bssid'].to_numpy(), \n",
    "#                                       wifi_df['rssi'].to_numpy(), \n",
    "#                                       wifi_df['frequency'].to_numpy(), \n",
    "#                                       wifi_df['time_diff'].to_numpy(),\n",
    "#                                       [wp_row[0], # waypoint timestamp\n",
    "#                                       wp_row[2], # x\n",
    "#                                       wp_row[3], # y\n",
    "#                                       floor, # floor number\n",
    "#                                       floor_str, # floor string\n",
    "#                                       file.split('/')[-1].split('.')[0], # path_id\n",
    "#                                       building, # site_id\n",
    "#                                       wifi_count]\n",
    "#                                      ])\n",
    "                # rows.append(row)\n",
    "\n",
    "                # 以下追加\n",
    "                col = [i for i in range(-TIME_DIFF_THRESHOLD, TIME_DIFF_THRESHOLD, NUM_WINDOW)]\n",
    "                wifi_df[\"time_cat\"] = pd.cut(wifi_df['time_diff'], col, labels=col[1:])\n",
    "                wifi_df[\"rssi\"] = wifi_df[\"rssi\"].astype(int)\n",
    "                sample_df = wifi_df.groupby([\"bssid\", \"time_cat\"])[\"rssi\"].mean().reset_index().pivot(index=\"bssid\", columns=\"time_cat\", values=\"rssi\").reindex(index=bssids, columns=col[1:])\n",
    "\n",
    "                # sampleを保存\n",
    "                file_name = f'{building}_{path}_{wp_row[0]}'\n",
    "\n",
    "                np.save(train_output_dir + file_name, sample_df.values)\n",
    "                sample_dict = {'site':building, 'path':path, 'timestamp':wp_row[0], 'file_name':file_name, 'floor':floor, 'floor_str':floor_str, 'x':wp_row[2], 'y':wp_row[3]}\n",
    "                all_train_list.append(sample_dict)"
   ]
  },
  {
   "cell_type": "code",
   "execution_count": 10,
   "id": "b693e363-420b-4f6a-b9f7-09a5eaecbfc4",
   "metadata": {},
   "outputs": [],
   "source": [
    "all_train_df.to_csv(train_output_dir + 'train.csv',index=False)"
   ]
  },
  {
   "cell_type": "code",
   "execution_count": 11,
   "id": "bb118bd9-a9a5-4dd6-803c-3f3b7431708b",
   "metadata": {},
   "outputs": [
    {
     "data": {
      "text/plain": [
       "(2838, 9)"
      ]
     },
     "execution_count": 11,
     "metadata": {},
     "output_type": "execute_result"
    }
   ],
   "source": [
    "# sampleを取り出す\n",
    "sample_file_name = all_train_df['file_name'].sample(1).values[0]\n",
    "sample_file_path = train_output_dir + sample_file_name + '.npy'\n",
    "sample = np.load(sample_file_path)\n",
    "sample.shape"
   ]
  },
  {
   "cell_type": "code",
   "execution_count": 12,
   "id": "eef8e686-b172-489c-a2af-be8501eef9cc",
   "metadata": {},
   "outputs": [
    {
     "data": {
      "text/plain": [
       "array([[ nan,  nan,  nan, ...,  nan,  nan, -91.],\n",
       "       [ nan,  nan,  nan, ...,  nan,  nan,  nan],\n",
       "       [ nan,  nan,  nan, ...,  nan,  nan, -91.],\n",
       "       ...,\n",
       "       [ nan,  nan,  nan, ...,  nan,  nan,  nan],\n",
       "       [ nan,  nan,  nan, ...,  nan,  nan,  nan],\n",
       "       [ nan,  nan,  nan, ...,  nan,  nan,  nan]])"
      ]
     },
     "execution_count": 12,
     "metadata": {},
     "output_type": "execute_result"
    }
   ],
   "source": [
    "sample"
   ]
  },
  {
   "cell_type": "markdown",
   "id": "f9c75844-4da9-4f2b-9cd6-f68a2a83e31a",
   "metadata": {},
   "source": [
    "## test dataの作成  \n",
    "※ testのpathファイルにWiFiが存在しないデータはtimestampが不明であるため除外する  "
   ]
  },
  {
   "cell_type": "code",
   "execution_count": 28,
   "id": "d34c97ee-b5e0-4279-a3ef-bba3634a0ef1",
   "metadata": {},
   "outputs": [
    {
     "data": {
      "text/plain": [
       "493"
      ]
     },
     "execution_count": 28,
     "metadata": {},
     "output_type": "execute_result"
    }
   ],
   "source": [
    "realtime_sample_submission_df = pd.read_csv('real_timestamp_sample_submission_v2.csv')\n",
    "test_len = len(realtime_sample_submission_df)\n",
    "\n",
    "realtime_sample_submission_df = realtime_sample_submission_df[realtime_sample_submission_df['is_real_timestamp']]\n",
    "test_len - len(realtime_sample_submission_df)"
   ]
  },
  {
   "cell_type": "markdown",
   "id": "4e217a41-97c6-4fcc-aa7b-b1b468b181c6",
   "metadata": {},
   "source": [
    "493件は別のデータセットで学習したモデルで予測する必要あり。"
   ]
  },
  {
   "cell_type": "code",
   "execution_count": 29,
   "id": "79636753-4d0b-4eac-a056-8280acb3fa7f",
   "metadata": {},
   "outputs": [
    {
     "data": {
      "text/html": [
       "<div>\n",
       "<style scoped>\n",
       "    .dataframe tbody tr th:only-of-type {\n",
       "        vertical-align: middle;\n",
       "    }\n",
       "\n",
       "    .dataframe tbody tr th {\n",
       "        vertical-align: top;\n",
       "    }\n",
       "\n",
       "    .dataframe thead th {\n",
       "        text-align: right;\n",
       "    }\n",
       "</style>\n",
       "<table border=\"1\" class=\"dataframe\">\n",
       "  <thead>\n",
       "    <tr style=\"text-align: right;\">\n",
       "      <th></th>\n",
       "      <th>site_id</th>\n",
       "      <th>path_id</th>\n",
       "      <th>waypoint_timestamp</th>\n",
       "      <th>site_path_timestamp</th>\n",
       "    </tr>\n",
       "  </thead>\n",
       "  <tbody>\n",
       "    <tr>\n",
       "      <th>0</th>\n",
       "      <td>5da1389e4db8ce0c98bd0547</td>\n",
       "      <td>00ff0c9a71cc37a2ebdd0f05</td>\n",
       "      <td>1573190310863</td>\n",
       "      <td>5da1389e4db8ce0c98bd0547_00ff0c9a71cc37a2ebdd0...</td>\n",
       "    </tr>\n",
       "    <tr>\n",
       "      <th>1</th>\n",
       "      <td>5da1389e4db8ce0c98bd0547</td>\n",
       "      <td>00ff0c9a71cc37a2ebdd0f05</td>\n",
       "      <td>1573190314901</td>\n",
       "      <td>5da1389e4db8ce0c98bd0547_00ff0c9a71cc37a2ebdd0...</td>\n",
       "    </tr>\n",
       "    <tr>\n",
       "      <th>2</th>\n",
       "      <td>5da1389e4db8ce0c98bd0547</td>\n",
       "      <td>00ff0c9a71cc37a2ebdd0f05</td>\n",
       "      <td>1573190323379</td>\n",
       "      <td>5da1389e4db8ce0c98bd0547_00ff0c9a71cc37a2ebdd0...</td>\n",
       "    </tr>\n",
       "  </tbody>\n",
       "</table>\n",
       "</div>"
      ],
      "text/plain": [
       "                    site_id                   path_id waypoint_timestamp  \\\n",
       "0  5da1389e4db8ce0c98bd0547  00ff0c9a71cc37a2ebdd0f05      1573190310863   \n",
       "1  5da1389e4db8ce0c98bd0547  00ff0c9a71cc37a2ebdd0f05      1573190314901   \n",
       "2  5da1389e4db8ce0c98bd0547  00ff0c9a71cc37a2ebdd0f05      1573190323379   \n",
       "\n",
       "                                 site_path_timestamp  \n",
       "0  5da1389e4db8ce0c98bd0547_00ff0c9a71cc37a2ebdd0...  \n",
       "1  5da1389e4db8ce0c98bd0547_00ff0c9a71cc37a2ebdd0...  \n",
       "2  5da1389e4db8ce0c98bd0547_00ff0c9a71cc37a2ebdd0...  "
      ]
     },
     "execution_count": 29,
     "metadata": {},
     "output_type": "execute_result"
    }
   ],
   "source": [
    "site_path_time_df = realtime_sample_submission_df['site_path_timestamp'].str.split('_').apply(lambda x: pd.Series(x))\n",
    "site_path_time_df.columns = ['site_id', 'path_id', 'waypoint_timestamp']\n",
    "site_path_time_df['site_path_timestamp'] = realtime_sample_submission_df['site_path_timestamp']\n",
    "site_path_time_df.head(3)"
   ]
  },
  {
   "cell_type": "code",
   "execution_count": 30,
   "id": "eb9d7bd6-c947-4a39-83b4-59e213229105",
   "metadata": {},
   "outputs": [],
   "source": [
    "def create_wifi_df(path_id):\n",
    "    wifi = list()\n",
    "    \n",
    "    with open(os.path.join(base_path + f'/test/{path_id}.txt'), encoding='utf-8') as f:\n",
    "        txt = f.readlines()\n",
    "\n",
    "    for line in txt:\n",
    "        line = line.strip().split()\n",
    "        if line[1] == \"TYPE_WIFI\":\n",
    "            wifi.append(line)\n",
    "            \n",
    "    return pd.DataFrame(np.array(wifi), columns=['timestamp', 'data_type', 'ssid', 'bssid', 'rssi', 'frequency', 'last_seen_timestamp'])"
   ]
  },
  {
   "cell_type": "code",
   "execution_count": 31,
   "id": "4d2cff14-cda0-445a-9c9d-715ba4e36bed",
   "metadata": {},
   "outputs": [
    {
     "name": "stderr",
     "output_type": "stream",
     "text": [
      " 15%|█▍        | 86/592 [00:26<03:45,  2.24it/s]"
     ]
    },
    {
     "name": "stdout",
     "output_type": "stream",
     "text": [
      "2b4bacedc942ffcb523ff20f 1573792112944\n",
      "2b4bacedc942ffcb523ff20f 1573792131949\n",
      "2b4bacedc942ffcb523ff20f 1573792139960\n"
     ]
    },
    {
     "name": "stderr",
     "output_type": "stream",
     "text": [
      " 26%|██▋       | 156/592 [00:48<01:23,  5.22it/s]"
     ]
    },
    {
     "name": "stdout",
     "output_type": "stream",
     "text": [
      "472be94f5be907c04c932114 1571300537352\n"
     ]
    },
    {
     "name": "stderr",
     "output_type": "stream",
     "text": [
      " 28%|██▊       | 163/592 [00:51<02:47,  2.56it/s]"
     ]
    },
    {
     "name": "stdout",
     "output_type": "stream",
     "text": [
      "4b38e02c59253ce02b52eec5 1573196944334\n"
     ]
    },
    {
     "name": "stderr",
     "output_type": "stream",
     "text": [
      " 70%|███████   | 415/592 [02:10<00:33,  5.25it/s]"
     ]
    },
    {
     "name": "stdout",
     "output_type": "stream",
     "text": [
      "b406c5c925f3b64d8972b2c0 1573704597292\n"
     ]
    },
    {
     "name": "stderr",
     "output_type": "stream",
     "text": [
      " 93%|█████████▎| 549/592 [02:53<00:09,  4.43it/s]"
     ]
    },
    {
     "name": "stdout",
     "output_type": "stream",
     "text": [
      "eca017e97a25f3e4832fdb91 1573273369889\n"
     ]
    },
    {
     "name": "stderr",
     "output_type": "stream",
     "text": [
      " 99%|█████████▉| 586/592 [03:04<00:01,  4.34it/s]"
     ]
    },
    {
     "name": "stdout",
     "output_type": "stream",
     "text": [
      "fc99dca042a1ed67dc80a0fe 1573704836058\n"
     ]
    },
    {
     "name": "stderr",
     "output_type": "stream",
     "text": [
      "100%|██████████| 592/592 [03:06<00:00,  3.18it/s]"
     ]
    },
    {
     "name": "stdout",
     "output_type": "stream",
     "text": [
      "CPU times: user 3min 3s, sys: 2.49 s, total: 3min 6s\n",
      "Wall time: 3min 6s\n"
     ]
    },
    {
     "name": "stderr",
     "output_type": "stream",
     "text": [
      "\n"
     ]
    }
   ],
   "source": [
    "%%time\n",
    "\n",
    "\n",
    "test_output_dir = f\"../input/kuto_wifi_dataset_v4/test/{TIME_DIFF_THRESHOLD}_{WIFI_MIN_NUM}_{NUM_WINDOW}/\"\n",
    "os.makedirs(test_output_dir, exist_ok=True)\n",
    "\n",
    "test_wifi_count = []\n",
    "# test_rows = []\n",
    "all_test_list = []\n",
    "for path_id, path_df in tqdm(site_path_time_df.groupby('path_id')):\n",
    "    \n",
    "    site_id = path_df.iloc[0]['site_id']\n",
    "    bssids = bssid[site_id]\n",
    "    \n",
    "    wifi_base_df = create_wifi_df(path_id)\n",
    "    wifi_base_df = wifi_base_df[wifi_base_df['bssid'].isin(bssids)] # 指定の件数以下の登場回数のWiFiは除外\n",
    "    \n",
    "    for i, path_row in path_df.iterrows():\n",
    "        wifi_df = wifi_base_df.copy()\n",
    "        site_path_timestamp = path_row['site_path_timestamp']\n",
    "        waypoint_timestamp = path_row['waypoint_timestamp']\n",
    "        \n",
    "        wifi_df['time_diff'] = wifi_df['last_seen_timestamp'].astype(np.float) - int(waypoint_timestamp)\n",
    "        wifi_df['time_diff_abs'] = wifi_df['time_diff'].abs()\n",
    "        \n",
    "        wifi_df = wifi_df[wifi_df['time_diff_abs'] < TIME_DIFF_THRESHOLD]\n",
    "        \n",
    "\n",
    "                    \n",
    "#         wifi_df = wifi_df.sort_values('time_diff_abs')\n",
    "#         wifi_df = wifi_df.groupby(['ssid', 'bssid']).head(1).reset_index(drop=True)\n",
    "        \n",
    "        wifi_count = len(wifi_df)\n",
    "\n",
    "        # WiFiが最低件数に満たない場合はスキップする  \n",
    "        # wifiが0件のものがあるのはなぜ？\n",
    "        if wifi_count < WIFI_MIN_NUM:\n",
    "            print(path_id, waypoint_timestamp)\n",
    "            continue\n",
    "\n",
    "#         test_wifi_count.append(wifi_count)\n",
    "        \n",
    "#         dummy_count = WIFI_NUM - wifi_count\n",
    "#         if dummy_count > 0:\n",
    "#             dummy_df = pd.DataFrame(np.tile(DUMMY_RECORD, (dummy_count, 1)), \n",
    "#                                     columns=['timestamp', 'data_type', 'ssid', 'bssid', 'rssi', 'frequency', 'last_seen_timestamp', 'time_diff', 'time_diff_abs'])\n",
    "\n",
    "#         wifi_df = pd.concat([wifi_df, dummy_df]).head(WIFI_NUM)\n",
    "\n",
    "#         test_row = np.concatenate([wifi_df['ssid'].to_numpy(),\n",
    "#                               wifi_df['bssid'].to_numpy(), \n",
    "#                               wifi_df['rssi'].to_numpy(), \n",
    "#                               wifi_df['frequency'].to_numpy(), \n",
    "#                               wifi_df['time_diff'].to_numpy(),\n",
    "#                               [waypoint_timestamp, # waypoint timestamp\n",
    "#                               path_id, # path_id\n",
    "#                               building, # site_id\n",
    "#                               site_path_timestamp,\n",
    "#                               wifi_count]\n",
    "#                              ])\n",
    "#         test_rows.append(test_row)\n",
    "\n",
    "        # 以下追加\n",
    "        col = [i for i in range(-TIME_DIFF_THRESHOLD, TIME_DIFF_THRESHOLD, int(TIME_DIFF_THRESHOLD/10))]\n",
    "        wifi_df[\"time_cat\"] = pd.cut(wifi_df['time_diff'], col, labels=col[1:])\n",
    "        wifi_df[\"rssi\"] = wifi_df[\"rssi\"].astype(int)\n",
    "        sample_df = wifi_df.groupby([\"bssid\", \"time_cat\"])[\"rssi\"].mean().reset_index().pivot(index=\"bssid\", columns=\"time_cat\", values=\"rssi\").reindex(index=bssids, columns=col[1:])\n",
    "\n",
    "        # sampleを保存\n",
    "        file_name = f'{building}_{path}_{waypoint_timestamp}'\n",
    "        np.save(test_output_dir + file_name, sample_df.values)\n",
    "        sample_dict = {'site':building, 'path':path, 'timestamp':wp_row[0], 'file_name':file_name}\n",
    "        all_test_list.append(sample_dict)"
   ]
  },
  {
   "cell_type": "code",
   "execution_count": 32,
   "id": "756fd651-e706-45e0-bffa-43d9db346d78",
   "metadata": {},
   "outputs": [
    {
     "data": {
      "text/html": [
       "<div>\n",
       "<style scoped>\n",
       "    .dataframe tbody tr th:only-of-type {\n",
       "        vertical-align: middle;\n",
       "    }\n",
       "\n",
       "    .dataframe tbody tr th {\n",
       "        vertical-align: top;\n",
       "    }\n",
       "\n",
       "    .dataframe thead th {\n",
       "        text-align: right;\n",
       "    }\n",
       "</style>\n",
       "<table border=\"1\" class=\"dataframe\">\n",
       "  <thead>\n",
       "    <tr style=\"text-align: right;\">\n",
       "      <th></th>\n",
       "      <th>site</th>\n",
       "      <th>path</th>\n",
       "      <th>timestamp</th>\n",
       "      <th>file_name</th>\n",
       "    </tr>\n",
       "  </thead>\n",
       "  <tbody>\n",
       "    <tr>\n",
       "      <th>0</th>\n",
       "      <td>5dc8cea7659e181adb076a3f</td>\n",
       "      <td>5dcfb393878f3300066c70a6</td>\n",
       "      <td>1573892874306</td>\n",
       "      <td>5dc8cea7659e181adb076a3f_5dcfb393878f3300066c7...</td>\n",
       "    </tr>\n",
       "    <tr>\n",
       "      <th>1</th>\n",
       "      <td>5dc8cea7659e181adb076a3f</td>\n",
       "      <td>5dcfb393878f3300066c70a6</td>\n",
       "      <td>1573892874306</td>\n",
       "      <td>5dc8cea7659e181adb076a3f_5dcfb393878f3300066c7...</td>\n",
       "    </tr>\n",
       "    <tr>\n",
       "      <th>2</th>\n",
       "      <td>5dc8cea7659e181adb076a3f</td>\n",
       "      <td>5dcfb393878f3300066c70a6</td>\n",
       "      <td>1573892874306</td>\n",
       "      <td>5dc8cea7659e181adb076a3f_5dcfb393878f3300066c7...</td>\n",
       "    </tr>\n",
       "    <tr>\n",
       "      <th>3</th>\n",
       "      <td>5dc8cea7659e181adb076a3f</td>\n",
       "      <td>5dcfb393878f3300066c70a6</td>\n",
       "      <td>1573892874306</td>\n",
       "      <td>5dc8cea7659e181adb076a3f_5dcfb393878f3300066c7...</td>\n",
       "    </tr>\n",
       "    <tr>\n",
       "      <th>4</th>\n",
       "      <td>5dc8cea7659e181adb076a3f</td>\n",
       "      <td>5dcfb393878f3300066c70a6</td>\n",
       "      <td>1573892874306</td>\n",
       "      <td>5dc8cea7659e181adb076a3f_5dcfb393878f3300066c7...</td>\n",
       "    </tr>\n",
       "    <tr>\n",
       "      <th>...</th>\n",
       "      <td>...</td>\n",
       "      <td>...</td>\n",
       "      <td>...</td>\n",
       "      <td>...</td>\n",
       "    </tr>\n",
       "    <tr>\n",
       "      <th>9627</th>\n",
       "      <td>5dc8cea7659e181adb076a3f</td>\n",
       "      <td>5dcfb393878f3300066c70a6</td>\n",
       "      <td>1573892874306</td>\n",
       "      <td>5dc8cea7659e181adb076a3f_5dcfb393878f3300066c7...</td>\n",
       "    </tr>\n",
       "    <tr>\n",
       "      <th>9628</th>\n",
       "      <td>5dc8cea7659e181adb076a3f</td>\n",
       "      <td>5dcfb393878f3300066c70a6</td>\n",
       "      <td>1573892874306</td>\n",
       "      <td>5dc8cea7659e181adb076a3f_5dcfb393878f3300066c7...</td>\n",
       "    </tr>\n",
       "    <tr>\n",
       "      <th>9629</th>\n",
       "      <td>5dc8cea7659e181adb076a3f</td>\n",
       "      <td>5dcfb393878f3300066c70a6</td>\n",
       "      <td>1573892874306</td>\n",
       "      <td>5dc8cea7659e181adb076a3f_5dcfb393878f3300066c7...</td>\n",
       "    </tr>\n",
       "    <tr>\n",
       "      <th>9630</th>\n",
       "      <td>5dc8cea7659e181adb076a3f</td>\n",
       "      <td>5dcfb393878f3300066c70a6</td>\n",
       "      <td>1573892874306</td>\n",
       "      <td>5dc8cea7659e181adb076a3f_5dcfb393878f3300066c7...</td>\n",
       "    </tr>\n",
       "    <tr>\n",
       "      <th>9631</th>\n",
       "      <td>5dc8cea7659e181adb076a3f</td>\n",
       "      <td>5dcfb393878f3300066c70a6</td>\n",
       "      <td>1573892874306</td>\n",
       "      <td>5dc8cea7659e181adb076a3f_5dcfb393878f3300066c7...</td>\n",
       "    </tr>\n",
       "  </tbody>\n",
       "</table>\n",
       "<p>9632 rows × 4 columns</p>\n",
       "</div>"
      ],
      "text/plain": [
       "                          site                      path      timestamp  \\\n",
       "0     5dc8cea7659e181adb076a3f  5dcfb393878f3300066c70a6  1573892874306   \n",
       "1     5dc8cea7659e181adb076a3f  5dcfb393878f3300066c70a6  1573892874306   \n",
       "2     5dc8cea7659e181adb076a3f  5dcfb393878f3300066c70a6  1573892874306   \n",
       "3     5dc8cea7659e181adb076a3f  5dcfb393878f3300066c70a6  1573892874306   \n",
       "4     5dc8cea7659e181adb076a3f  5dcfb393878f3300066c70a6  1573892874306   \n",
       "...                        ...                       ...            ...   \n",
       "9627  5dc8cea7659e181adb076a3f  5dcfb393878f3300066c70a6  1573892874306   \n",
       "9628  5dc8cea7659e181adb076a3f  5dcfb393878f3300066c70a6  1573892874306   \n",
       "9629  5dc8cea7659e181adb076a3f  5dcfb393878f3300066c70a6  1573892874306   \n",
       "9630  5dc8cea7659e181adb076a3f  5dcfb393878f3300066c70a6  1573892874306   \n",
       "9631  5dc8cea7659e181adb076a3f  5dcfb393878f3300066c70a6  1573892874306   \n",
       "\n",
       "                                              file_name  \n",
       "0     5dc8cea7659e181adb076a3f_5dcfb393878f3300066c7...  \n",
       "1     5dc8cea7659e181adb076a3f_5dcfb393878f3300066c7...  \n",
       "2     5dc8cea7659e181adb076a3f_5dcfb393878f3300066c7...  \n",
       "3     5dc8cea7659e181adb076a3f_5dcfb393878f3300066c7...  \n",
       "4     5dc8cea7659e181adb076a3f_5dcfb393878f3300066c7...  \n",
       "...                                                 ...  \n",
       "9627  5dc8cea7659e181adb076a3f_5dcfb393878f3300066c7...  \n",
       "9628  5dc8cea7659e181adb076a3f_5dcfb393878f3300066c7...  \n",
       "9629  5dc8cea7659e181adb076a3f_5dcfb393878f3300066c7...  \n",
       "9630  5dc8cea7659e181adb076a3f_5dcfb393878f3300066c7...  \n",
       "9631  5dc8cea7659e181adb076a3f_5dcfb393878f3300066c7...  \n",
       "\n",
       "[9632 rows x 4 columns]"
      ]
     },
     "execution_count": 32,
     "metadata": {},
     "output_type": "execute_result"
    }
   ],
   "source": [
    "test_df = pd.DataFrame(all_test_list)\n",
    "test_df"
   ]
  },
  {
   "cell_type": "code",
   "execution_count": 33,
   "id": "08c651af-bbc3-4cb4-835a-cf2fee10e7e7",
   "metadata": {},
   "outputs": [
    {
     "data": {
      "text/plain": [
       "0    2710\n",
       "1      62\n",
       "3      39\n",
       "2      27\n",
       "dtype: int64"
      ]
     },
     "execution_count": 33,
     "metadata": {},
     "output_type": "execute_result"
    }
   ],
   "source": [
    "sample_df.notnull().sum(axis=1).value_counts()"
   ]
  },
  {
   "cell_type": "code",
   "execution_count": 34,
   "id": "ed3a8aae-bc3a-40ad-92bd-70a43c78ddce",
   "metadata": {},
   "outputs": [],
   "source": [
    "test_df.to_csv(test_output_dir + 'test.csv', index=False)"
   ]
  },
  {
   "cell_type": "code",
   "execution_count": 35,
   "id": "cf27a4a5-b257-4800-875f-ef8374ebcaa9",
   "metadata": {},
   "outputs": [
    {
     "data": {
      "text/plain": [
       "(2936, 19)"
      ]
     },
     "execution_count": 35,
     "metadata": {},
     "output_type": "execute_result"
    }
   ],
   "source": [
    "# sampleを取り出す\n",
    "sample_file_name = test_df['file_name'].sample(1).values[0]\n",
    "sample_file_path = test_output_dir + sample_file_name + '.npy'\n",
    "sample = np.load(sample_file_path)\n",
    "sample.shape"
   ]
  },
  {
   "cell_type": "code",
   "execution_count": 36,
   "id": "07876eb0-c79b-45d0-9417-08342d92f5d4",
   "metadata": {},
   "outputs": [
    {
     "data": {
      "text/plain": [
       "array([[ nan,  nan, -84., ...,  nan,  nan,  nan],\n",
       "       [ nan,  nan,  nan, ...,  nan,  nan,  nan],\n",
       "       [ nan,  nan,  nan, ...,  nan,  nan,  nan],\n",
       "       ...,\n",
       "       [ nan,  nan,  nan, ...,  nan,  nan,  nan],\n",
       "       [ nan,  nan,  nan, ...,  nan,  nan,  nan],\n",
       "       [ nan,  nan,  nan, ...,  nan,  nan,  nan]])"
      ]
     },
     "execution_count": 36,
     "metadata": {},
     "output_type": "execute_result"
    }
   ],
   "source": [
    "sample"
   ]
  },
  {
   "cell_type": "code",
   "execution_count": null,
   "id": "8ceff4b3-16c5-46a5-8e24-5ca57b7263bf",
   "metadata": {},
   "outputs": [],
   "source": []
  }
 ],
 "metadata": {
  "kernelspec": {
   "display_name": "Python 3",
   "language": "python",
   "name": "python3"
  },
  "language_info": {
   "codemirror_mode": {
    "name": "ipython",
    "version": 3
   },
   "file_extension": ".py",
   "mimetype": "text/x-python",
   "name": "python",
   "nbconvert_exporter": "python",
   "pygments_lexer": "ipython3",
   "version": "3.8.5"
  }
 },
 "nbformat": 4,
 "nbformat_minor": 5
}
