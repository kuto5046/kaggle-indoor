{
 "metadata": {
  "language_info": {
   "codemirror_mode": {
    "name": "ipython",
    "version": 3
   },
   "file_extension": ".py",
   "mimetype": "text/x-python",
   "name": "python",
   "nbconvert_exporter": "python",
   "pygments_lexer": "ipython3",
   "version": "3.8.5"
  },
  "orig_nbformat": 2,
  "kernelspec": {
   "name": "python385jvsc74a57bd031f2aee4e71d21fbe5cf8b01ff0e069b9275f58929596ceb00d14d90e3e16cd6",
   "display_name": "Python 3.8.5 64-bit"
  },
  "metadata": {
   "interpreter": {
    "hash": "31f2aee4e71d21fbe5cf8b01ff0e069b9275f58929596ceb00d14d90e3e16cd6"
   }
  }
 },
 "nbformat": 4,
 "nbformat_minor": 2,
 "cells": [
  {
   "cell_type": "code",
   "execution_count": 2,
   "metadata": {},
   "outputs": [],
   "source": [
    "import os\n",
    "import sys\n",
    "import glob\n",
    "import yaml\n",
    "import pickle\n",
    "import random\n",
    "\n",
    "import numpy as np\n",
    "import pandas as pd\n",
    "import scipy.stats as stats\n",
    "from pathlib import Path\n",
    "import matplotlib.pyplot as plt\n",
    "import seaborn as sns \n",
    "sns.set()\n",
    "from sklearn import model_selection\n",
    "from sklearn.preprocessing import StandardScaler, LabelEncoder"
   ]
  },
  {
   "cell_type": "code",
   "execution_count": 47,
   "metadata": {},
   "outputs": [
    {
     "output_type": "execute_result",
     "data": {
      "text/plain": [
       "                           path floor_pred floor_actual\n",
       "0      5d10a1699c50c70008fe8979         F3           F3\n",
       "1      5d10a16cf9037900086afc3f         F3           F3\n",
       "2      5d11942cffe23f0008604e2e         F3           F3\n",
       "3      5d119434ffe23f0008604e34         F3           F3\n",
       "4      5d11943dffe23f0008604e3a         F3           F3\n",
       "...                         ...        ...          ...\n",
       "10826  5dd7af4b9191710006b56823         F2           F2\n",
       "10827  5dd7b2a8c5b77e0006b16ae4         F1           F1\n",
       "10828  5dd7b4bbc5b77e0006b16afb         B1           B1\n",
       "10829  5dd7bea99191710006b568a0         B1           B1\n",
       "10830  5dd7bfe79191710006b568b8         B1           B1\n",
       "\n",
       "[10831 rows x 3 columns]"
      ],
      "text/html": "<div>\n<style scoped>\n    .dataframe tbody tr th:only-of-type {\n        vertical-align: middle;\n    }\n\n    .dataframe tbody tr th {\n        vertical-align: top;\n    }\n\n    .dataframe thead th {\n        text-align: right;\n    }\n</style>\n<table border=\"1\" class=\"dataframe\">\n  <thead>\n    <tr style=\"text-align: right;\">\n      <th></th>\n      <th>path</th>\n      <th>floor_pred</th>\n      <th>floor_actual</th>\n    </tr>\n  </thead>\n  <tbody>\n    <tr>\n      <th>0</th>\n      <td>5d10a1699c50c70008fe8979</td>\n      <td>F3</td>\n      <td>F3</td>\n    </tr>\n    <tr>\n      <th>1</th>\n      <td>5d10a16cf9037900086afc3f</td>\n      <td>F3</td>\n      <td>F3</td>\n    </tr>\n    <tr>\n      <th>2</th>\n      <td>5d11942cffe23f0008604e2e</td>\n      <td>F3</td>\n      <td>F3</td>\n    </tr>\n    <tr>\n      <th>3</th>\n      <td>5d119434ffe23f0008604e34</td>\n      <td>F3</td>\n      <td>F3</td>\n    </tr>\n    <tr>\n      <th>4</th>\n      <td>5d11943dffe23f0008604e3a</td>\n      <td>F3</td>\n      <td>F3</td>\n    </tr>\n    <tr>\n      <th>...</th>\n      <td>...</td>\n      <td>...</td>\n      <td>...</td>\n    </tr>\n    <tr>\n      <th>10826</th>\n      <td>5dd7af4b9191710006b56823</td>\n      <td>F2</td>\n      <td>F2</td>\n    </tr>\n    <tr>\n      <th>10827</th>\n      <td>5dd7b2a8c5b77e0006b16ae4</td>\n      <td>F1</td>\n      <td>F1</td>\n    </tr>\n    <tr>\n      <th>10828</th>\n      <td>5dd7b4bbc5b77e0006b16afb</td>\n      <td>B1</td>\n      <td>B1</td>\n    </tr>\n    <tr>\n      <th>10829</th>\n      <td>5dd7bea99191710006b568a0</td>\n      <td>B1</td>\n      <td>B1</td>\n    </tr>\n    <tr>\n      <th>10830</th>\n      <td>5dd7bfe79191710006b568b8</td>\n      <td>B1</td>\n      <td>B1</td>\n    </tr>\n  </tbody>\n</table>\n<p>10831 rows × 3 columns</p>\n</div>"
     },
     "metadata": {},
     "execution_count": 47
    }
   ],
   "source": [
    "floor = pd.read_csv(\"../input/oof_preds_floor.csv\")\n",
    "floor['path'] = floor['path'].str.split('.', expand=True)[0]\n",
    "floor"
   ]
  },
  {
   "cell_type": "code",
   "execution_count": 48,
   "metadata": {},
   "outputs": [
    {
     "output_type": "execute_result",
     "data": {
      "text/plain": [
       "                           path floor_pred floor_actual  is_known_floor\n",
       "0      5d10a1699c50c70008fe8979         F3           F3            True\n",
       "1      5d10a16cf9037900086afc3f         F3           F3            True\n",
       "2      5d11942cffe23f0008604e2e         F3           F3            True\n",
       "3      5d119434ffe23f0008604e34         F3           F3            True\n",
       "4      5d11943dffe23f0008604e3a         F3           F3            True\n",
       "...                         ...        ...          ...             ...\n",
       "10826  5dd7af4b9191710006b56823         F2           F2            True\n",
       "10827  5dd7b2a8c5b77e0006b16ae4         F1           F1            True\n",
       "10828  5dd7b4bbc5b77e0006b16afb         B1           B1            True\n",
       "10829  5dd7bea99191710006b568a0         B1           B1            True\n",
       "10830  5dd7bfe79191710006b568b8         B1           B1            True\n",
       "\n",
       "[10831 rows x 4 columns]"
      ],
      "text/html": "<div>\n<style scoped>\n    .dataframe tbody tr th:only-of-type {\n        vertical-align: middle;\n    }\n\n    .dataframe tbody tr th {\n        vertical-align: top;\n    }\n\n    .dataframe thead th {\n        text-align: right;\n    }\n</style>\n<table border=\"1\" class=\"dataframe\">\n  <thead>\n    <tr style=\"text-align: right;\">\n      <th></th>\n      <th>path</th>\n      <th>floor_pred</th>\n      <th>floor_actual</th>\n      <th>is_known_floor</th>\n    </tr>\n  </thead>\n  <tbody>\n    <tr>\n      <th>0</th>\n      <td>5d10a1699c50c70008fe8979</td>\n      <td>F3</td>\n      <td>F3</td>\n      <td>True</td>\n    </tr>\n    <tr>\n      <th>1</th>\n      <td>5d10a16cf9037900086afc3f</td>\n      <td>F3</td>\n      <td>F3</td>\n      <td>True</td>\n    </tr>\n    <tr>\n      <th>2</th>\n      <td>5d11942cffe23f0008604e2e</td>\n      <td>F3</td>\n      <td>F3</td>\n      <td>True</td>\n    </tr>\n    <tr>\n      <th>3</th>\n      <td>5d119434ffe23f0008604e34</td>\n      <td>F3</td>\n      <td>F3</td>\n      <td>True</td>\n    </tr>\n    <tr>\n      <th>4</th>\n      <td>5d11943dffe23f0008604e3a</td>\n      <td>F3</td>\n      <td>F3</td>\n      <td>True</td>\n    </tr>\n    <tr>\n      <th>...</th>\n      <td>...</td>\n      <td>...</td>\n      <td>...</td>\n      <td>...</td>\n    </tr>\n    <tr>\n      <th>10826</th>\n      <td>5dd7af4b9191710006b56823</td>\n      <td>F2</td>\n      <td>F2</td>\n      <td>True</td>\n    </tr>\n    <tr>\n      <th>10827</th>\n      <td>5dd7b2a8c5b77e0006b16ae4</td>\n      <td>F1</td>\n      <td>F1</td>\n      <td>True</td>\n    </tr>\n    <tr>\n      <th>10828</th>\n      <td>5dd7b4bbc5b77e0006b16afb</td>\n      <td>B1</td>\n      <td>B1</td>\n      <td>True</td>\n    </tr>\n    <tr>\n      <th>10829</th>\n      <td>5dd7bea99191710006b568a0</td>\n      <td>B1</td>\n      <td>B1</td>\n      <td>True</td>\n    </tr>\n    <tr>\n      <th>10830</th>\n      <td>5dd7bfe79191710006b568b8</td>\n      <td>B1</td>\n      <td>B1</td>\n      <td>True</td>\n    </tr>\n  </tbody>\n</table>\n<p>10831 rows × 4 columns</p>\n</div>"
     },
     "metadata": {},
     "execution_count": 48
    }
   ],
   "source": [
    "identifiable_list = []\n",
    "for idx, row in floor.iterrows():\n",
    "    if row['floor_pred'] == row['floor_actual']:\n",
    "        identifiable_list.append(True)\n",
    "    else:\n",
    "        identifiable_list.append(False)\n",
    "    \n",
    "floor['is_known_floor'] = identifiable_list\n",
    "floor"
   ]
  },
  {
   "cell_type": "code",
   "execution_count": 49,
   "metadata": {},
   "outputs": [
    {
     "output_type": "execute_result",
     "data": {
      "text/plain": [
       "                         site_id floor_str                      path\n",
       "0       5a0546857ecc773753327266        B1  5e1580d1f4c3420006d520e4\n",
       "19      5a0546857ecc773753327266        B1  5e1580bb1506f2000638fc62\n",
       "38      5a0546857ecc773753327266        B1  5e158ef31506f2000638fd1d\n",
       "61      5a0546857ecc773753327266        B1  5e158ed7f4c3420006d5216a\n",
       "86      5a0546857ecc773753327266        B1  5e158efe1506f2000638fd25\n",
       "...                          ...       ...                       ...\n",
       "240758  5dc8cea7659e181adb076a3f        F7  5dcd5c9323759900063d590a\n",
       "240790  5dc8cea7659e181adb076a3f        F7  5dcd5c88a4dbe7000630b084\n",
       "240823  5dc8cea7659e181adb076a3f        F7  5dcd5c95a4dbe7000630b090\n",
       "240835  5dc8cea7659e181adb076a3f        F7  5dcfb844878f3300066c70ee\n",
       "240853  5dc8cea7659e181adb076a3f        F7  5dcfb393878f3300066c70a6\n",
       "\n",
       "[10535 rows x 3 columns]"
      ],
      "text/html": "<div>\n<style scoped>\n    .dataframe tbody tr th:only-of-type {\n        vertical-align: middle;\n    }\n\n    .dataframe tbody tr th {\n        vertical-align: top;\n    }\n\n    .dataframe thead th {\n        text-align: right;\n    }\n</style>\n<table border=\"1\" class=\"dataframe\">\n  <thead>\n    <tr style=\"text-align: right;\">\n      <th></th>\n      <th>site_id</th>\n      <th>floor_str</th>\n      <th>path</th>\n    </tr>\n  </thead>\n  <tbody>\n    <tr>\n      <th>0</th>\n      <td>5a0546857ecc773753327266</td>\n      <td>B1</td>\n      <td>5e1580d1f4c3420006d520e4</td>\n    </tr>\n    <tr>\n      <th>19</th>\n      <td>5a0546857ecc773753327266</td>\n      <td>B1</td>\n      <td>5e1580bb1506f2000638fc62</td>\n    </tr>\n    <tr>\n      <th>38</th>\n      <td>5a0546857ecc773753327266</td>\n      <td>B1</td>\n      <td>5e158ef31506f2000638fd1d</td>\n    </tr>\n    <tr>\n      <th>61</th>\n      <td>5a0546857ecc773753327266</td>\n      <td>B1</td>\n      <td>5e158ed7f4c3420006d5216a</td>\n    </tr>\n    <tr>\n      <th>86</th>\n      <td>5a0546857ecc773753327266</td>\n      <td>B1</td>\n      <td>5e158efe1506f2000638fd25</td>\n    </tr>\n    <tr>\n      <th>...</th>\n      <td>...</td>\n      <td>...</td>\n      <td>...</td>\n    </tr>\n    <tr>\n      <th>240758</th>\n      <td>5dc8cea7659e181adb076a3f</td>\n      <td>F7</td>\n      <td>5dcd5c9323759900063d590a</td>\n    </tr>\n    <tr>\n      <th>240790</th>\n      <td>5dc8cea7659e181adb076a3f</td>\n      <td>F7</td>\n      <td>5dcd5c88a4dbe7000630b084</td>\n    </tr>\n    <tr>\n      <th>240823</th>\n      <td>5dc8cea7659e181adb076a3f</td>\n      <td>F7</td>\n      <td>5dcd5c95a4dbe7000630b090</td>\n    </tr>\n    <tr>\n      <th>240835</th>\n      <td>5dc8cea7659e181adb076a3f</td>\n      <td>F7</td>\n      <td>5dcfb844878f3300066c70ee</td>\n    </tr>\n    <tr>\n      <th>240853</th>\n      <td>5dc8cea7659e181adb076a3f</td>\n      <td>F7</td>\n      <td>5dcfb393878f3300066c70a6</td>\n    </tr>\n  </tbody>\n</table>\n<p>10535 rows × 3 columns</p>\n</div>"
     },
     "metadata": {},
     "execution_count": 49
    }
   ],
   "source": [
    "with open('../input/2kaido_wifi_dataset_v4/train_10000_7.pkl', 'rb') as f:\n",
    "  train_df = pickle.load(f)\n",
    "train_df = train_df[['site_id', 'floor_str', 'path']].drop_duplicates()\n",
    "train_df"
   ]
  },
  {
   "cell_type": "code",
   "execution_count": 50,
   "metadata": {},
   "outputs": [
    {
     "output_type": "execute_result",
     "data": {
      "text/plain": [
       "                        site_id floor_str                      path  \\\n",
       "0      5a0546857ecc773753327266        B1  5e1580d1f4c3420006d520e4   \n",
       "1      5a0546857ecc773753327266        B1  5e1580bb1506f2000638fc62   \n",
       "2      5a0546857ecc773753327266        B1  5e158ef31506f2000638fd1d   \n",
       "3      5a0546857ecc773753327266        B1  5e158ed7f4c3420006d5216a   \n",
       "4      5a0546857ecc773753327266        B1  5e158efe1506f2000638fd25   \n",
       "...                         ...       ...                       ...   \n",
       "10507  5dc8cea7659e181adb076a3f        F7  5dcd5c9323759900063d590a   \n",
       "10508  5dc8cea7659e181adb076a3f        F7  5dcd5c88a4dbe7000630b084   \n",
       "10509  5dc8cea7659e181adb076a3f        F7  5dcd5c95a4dbe7000630b090   \n",
       "10510  5dc8cea7659e181adb076a3f        F7  5dcfb844878f3300066c70ee   \n",
       "10511  5dc8cea7659e181adb076a3f        F7  5dcfb393878f3300066c70a6   \n",
       "\n",
       "       is_known_floor  \n",
       "0                True  \n",
       "1                True  \n",
       "2                True  \n",
       "3                True  \n",
       "4                True  \n",
       "...               ...  \n",
       "10507            True  \n",
       "10508            True  \n",
       "10509            True  \n",
       "10510            True  \n",
       "10511            True  \n",
       "\n",
       "[10512 rows x 4 columns]"
      ],
      "text/html": "<div>\n<style scoped>\n    .dataframe tbody tr th:only-of-type {\n        vertical-align: middle;\n    }\n\n    .dataframe tbody tr th {\n        vertical-align: top;\n    }\n\n    .dataframe thead th {\n        text-align: right;\n    }\n</style>\n<table border=\"1\" class=\"dataframe\">\n  <thead>\n    <tr style=\"text-align: right;\">\n      <th></th>\n      <th>site_id</th>\n      <th>floor_str</th>\n      <th>path</th>\n      <th>is_known_floor</th>\n    </tr>\n  </thead>\n  <tbody>\n    <tr>\n      <th>0</th>\n      <td>5a0546857ecc773753327266</td>\n      <td>B1</td>\n      <td>5e1580d1f4c3420006d520e4</td>\n      <td>True</td>\n    </tr>\n    <tr>\n      <th>1</th>\n      <td>5a0546857ecc773753327266</td>\n      <td>B1</td>\n      <td>5e1580bb1506f2000638fc62</td>\n      <td>True</td>\n    </tr>\n    <tr>\n      <th>2</th>\n      <td>5a0546857ecc773753327266</td>\n      <td>B1</td>\n      <td>5e158ef31506f2000638fd1d</td>\n      <td>True</td>\n    </tr>\n    <tr>\n      <th>3</th>\n      <td>5a0546857ecc773753327266</td>\n      <td>B1</td>\n      <td>5e158ed7f4c3420006d5216a</td>\n      <td>True</td>\n    </tr>\n    <tr>\n      <th>4</th>\n      <td>5a0546857ecc773753327266</td>\n      <td>B1</td>\n      <td>5e158efe1506f2000638fd25</td>\n      <td>True</td>\n    </tr>\n    <tr>\n      <th>...</th>\n      <td>...</td>\n      <td>...</td>\n      <td>...</td>\n      <td>...</td>\n    </tr>\n    <tr>\n      <th>10507</th>\n      <td>5dc8cea7659e181adb076a3f</td>\n      <td>F7</td>\n      <td>5dcd5c9323759900063d590a</td>\n      <td>True</td>\n    </tr>\n    <tr>\n      <th>10508</th>\n      <td>5dc8cea7659e181adb076a3f</td>\n      <td>F7</td>\n      <td>5dcd5c88a4dbe7000630b084</td>\n      <td>True</td>\n    </tr>\n    <tr>\n      <th>10509</th>\n      <td>5dc8cea7659e181adb076a3f</td>\n      <td>F7</td>\n      <td>5dcd5c95a4dbe7000630b090</td>\n      <td>True</td>\n    </tr>\n    <tr>\n      <th>10510</th>\n      <td>5dc8cea7659e181adb076a3f</td>\n      <td>F7</td>\n      <td>5dcfb844878f3300066c70ee</td>\n      <td>True</td>\n    </tr>\n    <tr>\n      <th>10511</th>\n      <td>5dc8cea7659e181adb076a3f</td>\n      <td>F7</td>\n      <td>5dcfb393878f3300066c70a6</td>\n      <td>True</td>\n    </tr>\n  </tbody>\n</table>\n<p>10512 rows × 4 columns</p>\n</div>"
     },
     "metadata": {},
     "execution_count": 50
    }
   ],
   "source": [
    "floor_df = train_df.merge(floor[['path', 'is_known_floor']])\n",
    "floor_df"
   ]
  },
  {
   "cell_type": "code",
   "execution_count": 51,
   "metadata": {},
   "outputs": [],
   "source": [
    "site_floor_dict = {}\n",
    "for (site_id, floor_str), df in floor_df.groupby(['site_id', 'floor_str']):\n",
    "\n",
    "    # floor内の全てのpathのfloor予測が正解していれば100%特定可能なfloorとする。\n",
    "    if df['is_known_floor'].sum() == len(df):\n",
    "        site_floor_dict[f\"{site_id}_{floor_str}\"] = True\n",
    "    else:\n",
    "        site_floor_dict[f\"{site_id}_{floor_str}\"] = False"
   ]
  },
  {
   "cell_type": "code",
   "execution_count": 53,
   "metadata": {},
   "outputs": [
    {
     "output_type": "execute_result",
     "data": {
      "text/plain": [
       "{'5a0546857ecc773753327266_B1': True,\n",
       " '5a0546857ecc773753327266_F1': True,\n",
       " '5a0546857ecc773753327266_F2': True,\n",
       " '5a0546857ecc773753327266_F3': False,\n",
       " '5a0546857ecc773753327266_F4': False,\n",
       " '5c3c44b80379370013e0fd2b_B1': True,\n",
       " '5c3c44b80379370013e0fd2b_F1': True,\n",
       " '5c3c44b80379370013e0fd2b_F2': True,\n",
       " '5c3c44b80379370013e0fd2b_F3': False,\n",
       " '5c3c44b80379370013e0fd2b_F4': False,\n",
       " '5c3c44b80379370013e0fd2b_F5': False,\n",
       " '5d27075f03f801723c2e360f_B1': True,\n",
       " '5d27075f03f801723c2e360f_F1': True,\n",
       " '5d27075f03f801723c2e360f_F2': True,\n",
       " '5d27075f03f801723c2e360f_F3': False,\n",
       " '5d27075f03f801723c2e360f_F4': False,\n",
       " '5d27075f03f801723c2e360f_F5': True,\n",
       " '5d27096c03f801723c31e5e0_B1': True,\n",
       " '5d27096c03f801723c31e5e0_F1': True,\n",
       " '5d27096c03f801723c31e5e0_F2': False,\n",
       " '5d27096c03f801723c31e5e0_F3': False,\n",
       " '5d27096c03f801723c31e5e0_F4': True,\n",
       " '5d27096c03f801723c31e5e0_F5': True,\n",
       " '5d27096c03f801723c31e5e0_F6': True,\n",
       " '5d27097f03f801723c320d97_B1': True,\n",
       " '5d27097f03f801723c320d97_B2': True,\n",
       " '5d27097f03f801723c320d97_F1': True,\n",
       " '5d27097f03f801723c320d97_F2': True,\n",
       " '5d27097f03f801723c320d97_F3': False,\n",
       " '5d27097f03f801723c320d97_F4': False,\n",
       " '5d27097f03f801723c320d97_F5': True,\n",
       " '5d27099f03f801723c32511d_B1': False,\n",
       " '5d27099f03f801723c32511d_F1': True,\n",
       " '5d27099f03f801723c32511d_F2': True,\n",
       " '5d27099f03f801723c32511d_F3': True,\n",
       " '5d27099f03f801723c32511d_F4': True,\n",
       " '5d2709a003f801723c3251bf_1F': True,\n",
       " '5d2709a003f801723c3251bf_2F': True,\n",
       " '5d2709a003f801723c3251bf_3F': True,\n",
       " '5d2709a003f801723c3251bf_4F': True,\n",
       " '5d2709b303f801723c327472_1F': True,\n",
       " '5d2709b303f801723c327472_2F': False,\n",
       " '5d2709b303f801723c327472_3F': False,\n",
       " '5d2709b303f801723c327472_4F': False,\n",
       " '5d2709b303f801723c327472_B1': True,\n",
       " '5d2709bb03f801723c32852c_B1': False,\n",
       " '5d2709bb03f801723c32852c_F1': False,\n",
       " '5d2709bb03f801723c32852c_F2': False,\n",
       " '5d2709bb03f801723c32852c_F3': False,\n",
       " '5d2709bb03f801723c32852c_F4': False,\n",
       " '5d2709c303f801723c3299ee_1F': True,\n",
       " '5d2709c303f801723c3299ee_2F': True,\n",
       " '5d2709c303f801723c3299ee_3F': True,\n",
       " '5d2709c303f801723c3299ee_4F': True,\n",
       " '5d2709c303f801723c3299ee_5F': False,\n",
       " '5d2709c303f801723c3299ee_6F': True,\n",
       " '5d2709c303f801723c3299ee_7F': True,\n",
       " '5d2709c303f801723c3299ee_8F': False,\n",
       " '5d2709c303f801723c3299ee_9F': True,\n",
       " '5d2709c303f801723c3299ee_B1': True,\n",
       " '5d2709d403f801723c32bd39_1F': True,\n",
       " '5d2709d403f801723c32bd39_2F': True,\n",
       " '5d2709d403f801723c32bd39_3F': False,\n",
       " '5d2709d403f801723c32bd39_B1': True,\n",
       " '5d2709e003f801723c32d896_B1': True,\n",
       " '5d2709e003f801723c32d896_F1': True,\n",
       " '5d2709e003f801723c32d896_F2': False,\n",
       " '5d2709e003f801723c32d896_F3': False,\n",
       " '5d2709e003f801723c32d896_F4': False,\n",
       " '5d2709e003f801723c32d896_F5': False,\n",
       " '5da138274db8ce0c98bbd3d2_F1': True,\n",
       " '5da138274db8ce0c98bbd3d2_F2': False,\n",
       " '5da138274db8ce0c98bbd3d2_F3': False,\n",
       " '5da1382d4db8ce0c98bbe92e_B1': False,\n",
       " '5da1382d4db8ce0c98bbe92e_F1': False,\n",
       " '5da1382d4db8ce0c98bbe92e_F2': False,\n",
       " '5da1382d4db8ce0c98bbe92e_F3': False,\n",
       " '5da1382d4db8ce0c98bbe92e_F4': False,\n",
       " '5da1382d4db8ce0c98bbe92e_F5': False,\n",
       " '5da138314db8ce0c98bbf3a0_B1': True,\n",
       " '5da138314db8ce0c98bbf3a0_B2': False,\n",
       " '5da138314db8ce0c98bbf3a0_F1': True,\n",
       " '5da138314db8ce0c98bbf3a0_F2': True,\n",
       " '5da138314db8ce0c98bbf3a0_F3': True,\n",
       " '5da138364db8ce0c98bc00f1_F1': True,\n",
       " '5da138364db8ce0c98bc00f1_F2': True,\n",
       " '5da138364db8ce0c98bc00f1_F3': True,\n",
       " '5da1383b4db8ce0c98bc11ab_F1': True,\n",
       " '5da1383b4db8ce0c98bc11ab_F2': False,\n",
       " '5da1383b4db8ce0c98bc11ab_F3': False,\n",
       " '5da138754db8ce0c98bca82f_F1': False,\n",
       " '5da138754db8ce0c98bca82f_F2': False,\n",
       " '5da138754db8ce0c98bca82f_F3': True,\n",
       " '5da138754db8ce0c98bca82f_F4': False,\n",
       " '5da138764db8ce0c98bcaa46_B1': True,\n",
       " '5da138764db8ce0c98bcaa46_F1': True,\n",
       " '5da138764db8ce0c98bcaa46_F2': False,\n",
       " '5da138764db8ce0c98bcaa46_F3': True,\n",
       " '5da138764db8ce0c98bcaa46_F4': True,\n",
       " '5da138764db8ce0c98bcaa46_F5': True,\n",
       " '5da1389e4db8ce0c98bd0547_B1': False,\n",
       " '5da1389e4db8ce0c98bd0547_B2': False,\n",
       " '5da1389e4db8ce0c98bd0547_F1': True,\n",
       " '5da1389e4db8ce0c98bd0547_F2': False,\n",
       " '5da1389e4db8ce0c98bd0547_F3': False,\n",
       " '5da1389e4db8ce0c98bd0547_F4': False,\n",
       " '5da138b74db8ce0c98bd4774_B1': False,\n",
       " '5da138b74db8ce0c98bd4774_B2': True,\n",
       " '5da138b74db8ce0c98bd4774_F1': False,\n",
       " '5da138b74db8ce0c98bd4774_F2': False,\n",
       " '5da138b74db8ce0c98bd4774_F3': False,\n",
       " '5da138b74db8ce0c98bd4774_F4': True,\n",
       " '5da138b74db8ce0c98bd4774_F5': False,\n",
       " '5da958dd46f8266d0737457b_B1': True,\n",
       " '5da958dd46f8266d0737457b_F1': True,\n",
       " '5da958dd46f8266d0737457b_F2': False,\n",
       " '5da958dd46f8266d0737457b_F3': True,\n",
       " '5da958dd46f8266d0737457b_F4': False,\n",
       " '5da958dd46f8266d0737457b_F5': True,\n",
       " '5da958dd46f8266d0737457b_F6': False,\n",
       " '5da958dd46f8266d0737457b_F7': False,\n",
       " '5dbc1d84c1eb61796cf7c010_B1': True,\n",
       " '5dbc1d84c1eb61796cf7c010_F2': True,\n",
       " '5dbc1d84c1eb61796cf7c010_F3': False,\n",
       " '5dbc1d84c1eb61796cf7c010_F4': False,\n",
       " '5dbc1d84c1eb61796cf7c010_F5': False,\n",
       " '5dbc1d84c1eb61796cf7c010_F6': False,\n",
       " '5dbc1d84c1eb61796cf7c010_F7': True,\n",
       " '5dbc1d84c1eb61796cf7c010_F8': False,\n",
       " '5dc8cea7659e181adb076a3f_B1': True,\n",
       " '5dc8cea7659e181adb076a3f_F1': False,\n",
       " '5dc8cea7659e181adb076a3f_F2': False,\n",
       " '5dc8cea7659e181adb076a3f_F3': False,\n",
       " '5dc8cea7659e181adb076a3f_F4': False,\n",
       " '5dc8cea7659e181adb076a3f_F5': True,\n",
       " '5dc8cea7659e181adb076a3f_F6': False,\n",
       " '5dc8cea7659e181adb076a3f_F7': True}"
      ]
     },
     "metadata": {},
     "execution_count": 53
    }
   ],
   "source": [
    "site_floor_dict"
   ]
  },
  {
   "cell_type": "code",
   "execution_count": 58,
   "metadata": {},
   "outputs": [
    {
     "output_type": "execute_result",
     "data": {
      "text/plain": [
       "0.5182481751824818"
      ]
     },
     "metadata": {},
     "execution_count": 58
    }
   ],
   "source": [
    "sum(list(site_floor_dict.values()))/len(list(site_floor_dict.values()))"
   ]
  },
  {
   "source": [
    "## 半分のfloorは完全に特定可能"
   ],
   "cell_type": "markdown",
   "metadata": {}
  },
  {
   "cell_type": "code",
   "execution_count": 60,
   "metadata": {},
   "outputs": [
    {
     "output_type": "execute_result",
     "data": {
      "text/plain": [
       "                      site_floor  is_known_floor\n",
       "0    5a0546857ecc773753327266_B1            True\n",
       "1    5a0546857ecc773753327266_F1            True\n",
       "2    5a0546857ecc773753327266_F2            True\n",
       "3    5a0546857ecc773753327266_F3           False\n",
       "4    5a0546857ecc773753327266_F4           False\n",
       "..                           ...             ...\n",
       "132  5dc8cea7659e181adb076a3f_F3           False\n",
       "133  5dc8cea7659e181adb076a3f_F4           False\n",
       "134  5dc8cea7659e181adb076a3f_F5            True\n",
       "135  5dc8cea7659e181adb076a3f_F6           False\n",
       "136  5dc8cea7659e181adb076a3f_F7            True\n",
       "\n",
       "[137 rows x 2 columns]"
      ],
      "text/html": "<div>\n<style scoped>\n    .dataframe tbody tr th:only-of-type {\n        vertical-align: middle;\n    }\n\n    .dataframe tbody tr th {\n        vertical-align: top;\n    }\n\n    .dataframe thead th {\n        text-align: right;\n    }\n</style>\n<table border=\"1\" class=\"dataframe\">\n  <thead>\n    <tr style=\"text-align: right;\">\n      <th></th>\n      <th>site_floor</th>\n      <th>is_known_floor</th>\n    </tr>\n  </thead>\n  <tbody>\n    <tr>\n      <th>0</th>\n      <td>5a0546857ecc773753327266_B1</td>\n      <td>True</td>\n    </tr>\n    <tr>\n      <th>1</th>\n      <td>5a0546857ecc773753327266_F1</td>\n      <td>True</td>\n    </tr>\n    <tr>\n      <th>2</th>\n      <td>5a0546857ecc773753327266_F2</td>\n      <td>True</td>\n    </tr>\n    <tr>\n      <th>3</th>\n      <td>5a0546857ecc773753327266_F3</td>\n      <td>False</td>\n    </tr>\n    <tr>\n      <th>4</th>\n      <td>5a0546857ecc773753327266_F4</td>\n      <td>False</td>\n    </tr>\n    <tr>\n      <th>...</th>\n      <td>...</td>\n      <td>...</td>\n    </tr>\n    <tr>\n      <th>132</th>\n      <td>5dc8cea7659e181adb076a3f_F3</td>\n      <td>False</td>\n    </tr>\n    <tr>\n      <th>133</th>\n      <td>5dc8cea7659e181adb076a3f_F4</td>\n      <td>False</td>\n    </tr>\n    <tr>\n      <th>134</th>\n      <td>5dc8cea7659e181adb076a3f_F5</td>\n      <td>True</td>\n    </tr>\n    <tr>\n      <th>135</th>\n      <td>5dc8cea7659e181adb076a3f_F6</td>\n      <td>False</td>\n    </tr>\n    <tr>\n      <th>136</th>\n      <td>5dc8cea7659e181adb076a3f_F7</td>\n      <td>True</td>\n    </tr>\n  </tbody>\n</table>\n<p>137 rows × 2 columns</p>\n</div>"
     },
     "metadata": {},
     "execution_count": 60
    }
   ],
   "source": [
    "output_df = pd.DataFrame()\n",
    "output_df['site_floor'] = site_floor_dict.keys()\n",
    "output_df['is_known_floor'] = site_floor_dict.values()\n",
    "output_df"
   ]
  },
  {
   "cell_type": "code",
   "execution_count": 61,
   "metadata": {},
   "outputs": [],
   "source": [
    "output_df.to_csv('../input/is_known_floor.csv', index=False)"
   ]
  },
  {
   "cell_type": "code",
   "execution_count": null,
   "metadata": {},
   "outputs": [],
   "source": []
  }
 ]
}