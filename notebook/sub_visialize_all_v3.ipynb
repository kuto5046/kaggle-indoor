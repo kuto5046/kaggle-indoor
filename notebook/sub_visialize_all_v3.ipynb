{
 "cells": [
  {
   "cell_type": "code",
   "execution_count": null,
   "metadata": {},
   "outputs": [],
   "source": [
    "import json\n",
    "import numpy as np\n",
    "import pandas as pd\n",
    "import seaborn as sns\n",
    "from PIL import Image\n",
    "import matplotlib.pyplot as plt\n",
    "from glob import glob\n",
    "import cv2"
   ]
  },
  {
   "cell_type": "code",
   "execution_count": null,
   "metadata": {},
   "outputs": [],
   "source": [
    "def visualize_map(train_waypoint, train_df,dpi=100):\n",
    "    map_floor = {'B2': -2, 'B1': -1, 'F1': 0, 'F2': 1, 'F3': 2, 'F4': 3, 'F5': 4, 'F6': 5, 'F7': 6, 'F8': 7, 'F9': 8,\n",
    "                 '2B': -2, '1B': -1, '1F': 0, '2F': 1, '3F': 2, '4F': 3, '5F': 4, '6F': 5, '7F': 6, '8F': 7, '9F': 8}\n",
    " \n",
    "    site_list = train_waypoint['site'].unique()\n",
    "\n",
    "    # site loop\n",
    "    for site in sorted(site_list):\n",
    "        floor_list = sorted(glob(f'{DIR_META}{site}/*'))\n",
    "        floor_list = [text.split('/')[-1] for text in floor_list]\n",
    "        \n",
    "        # 画像の比を決めるために一度floor_info.jsonを取得\n",
    "        path_json = f'{DIR_META}{site}/{floor_list[0]}/floor_info.json'\n",
    "        with open(path_json) as json_file:\n",
    "            json_data = json.load(json_file)\n",
    "        _width_meter = json_data[\"map_info\"][\"width\"]\n",
    "        _height_meter = json_data[\"map_info\"][\"height\"]\n",
    "        s = max(_width_meter, _height_meter)\n",
    "\n",
    "        t_site_wp = train_waypoint.loc[train_waypoint['site']==site, :].reset_index(drop=True)\n",
    "        t_site_wp2 = train_df.loc[train_df['site']==site, :].reset_index(drop=True)\n",
    "        \n",
    "        # figとaxesの用意\n",
    "        n_floor = len(floor_list)\n",
    "        n_row = int(np.ceil(n_floor / 3))\n",
    "        w = round(5*3*_width_meter/s)\n",
    "        h = round(5*n_row*_height_meter/s)\n",
    "        fig, axs = plt.subplots(n_row, 3, figsize=(w, h), dpi=dpi)\n",
    "        # fig.suptitle(f'{site} (train:{len(t_site_wp)} extra:{len(a_site_wp)})', fontsize=15)\n",
    "        fig.suptitle(site, fontsize=15)\n",
    "        fig.patch.set_facecolor('white')\n",
    "        axs = axs.ravel()\n",
    "\n",
    "        # floor loop\n",
    "        for i_floor, floor in enumerate(floor_list):\n",
    "            # json\n",
    "            path_json = f'{DIR_META}{site}/{floor}/floor_info.json'\n",
    "            with open(path_json) as json_file:\n",
    "                json_data = json.load(json_file)\n",
    "            width_meter = json_data[\"map_info\"][\"width\"]\n",
    "            height_meter = json_data[\"map_info\"][\"height\"]\n",
    "\n",
    "            # show image\n",
    "            path_img = f'{DIR_META}{site}/{floor}/floor_image.png'\n",
    "            im = Image.open(path_img)\n",
    "            axs[i_floor].imshow(np.asarray(im), extent=(0, width_meter, 0, height_meter))\n",
    "            \n",
    "            t_wp = t_site_wp.loc[t_site_wp['floor']==map_floor[floor], :].reset_index(drop=True)\n",
    "            t_wp2 = t_site_wp2.loc[t_site_wp2['floor']==map_floor[floor], :].reset_index(drop=True)\n",
    "\n",
    "            # show waypoint\n",
    "            axs[i_floor].scatter(t_wp['x'], t_wp['y'], marker='o', color='black', s=1, label=\"Given\")\n",
    "            t_wp2 = t_wp2[5>t_wp2['distance']]\n",
    "            axs[i_floor].scatter(t_wp2['ix'], t_wp2['iy'], marker='o', color='green', s=0.5, alpha=0.5, label=\"LI\")\n",
    "            axs[i_floor].scatter(t_wp2['fx'], t_wp2['fy'], marker='o', color='orange', s=0.5, alpha=0.5, label=\"KF\")\n",
    "            \n",
    "#             for path, path_data in t_wp2.groupby(\"path\"):\n",
    "#                 path_data.plot(x=\"ix\", y=\"iy\", style=\".-\", ax=axs[i_floor], alpha=0.5, color='orange', markersize=1, linewidth=0.5, legend=False)\n",
    "#             for path, path_data in t_wp2.groupby(\"path\"):\n",
    "#                 path_data.plot(x=\"fx\", y=\"fy\", style=\".-\", ax=axs[i_floor], alpha=0.5,color='black',  markersize=1, linewidth=0.5, legend=False)\n",
    "                \n",
    "            axs[i_floor].set_title(floor, fontsize=10)\n",
    "            \n",
    "            \n",
    "            axs[i_floor].legend()\n",
    "        plt.tight_layout()\n",
    "        plt.show()\n",
    "        break"
   ]
  },
  {
   "cell_type": "code",
   "execution_count": null,
   "metadata": {},
   "outputs": [],
   "source": [
    "DIR_META = \"../input/indoor-location-navigation/metadata/\"\n",
    "\n",
    "train_waypoint = pd.read_csv('../input/indoor-location-train-waypoints/train_waypoints.csv')"
   ]
  },
  {
   "cell_type": "code",
   "execution_count": null,
   "metadata": {},
   "outputs": [],
   "source": [
    "import pickle\n",
    "def from_pickle(filename):\n",
    "    with open(filename, mode='rb') as f:\n",
    "        obj = pickle.load(f)\n",
    "    return obj\n",
    "\n",
    "train_df = from_pickle('../input/2kaido_wifi_dataset_v5/train_10000_7.pkl')\n",
    "train_df"
   ]
  },
  {
   "cell_type": "code",
   "execution_count": null,
   "metadata": {},
   "outputs": [],
   "source": [
    "train_df['timestamp'] = train_df['timestamp'].astype(int) - train_df['timediff'].astype(int)\n",
    "train_df = train_df[['site_id', 'path', 'timestamp','floor','ix','iy','x','y','fx','fy']]\n",
    "train_df = train_df.astype({'timestamp':int, 'floor':np.float32,'x': np.float32, 'y': np.float32,'ix':np.float32, 'iy':np.float32,'fx':np.float32, 'fy':np.float32})\n",
    "train_df = train_df.rename(columns={'site_id':'site'})\n",
    "train_df['distance'] = np.sqrt((train_df['ix']-train_df['fx'])**2 + (train_df['iy']-train_df['fy'])**2)\n",
    "train_df"
   ]
  },
  {
   "cell_type": "code",
   "execution_count": null,
   "metadata": {},
   "outputs": [],
   "source": [
    "train_df['distance'].hist(bins=50)\n",
    "plt.xlabel('distance betweeen linear waypoint and kalman waypoint')"
   ]
  },
  {
   "cell_type": "code",
   "execution_count": null,
   "metadata": {},
   "outputs": [],
   "source": [
    "visualize_map(train_waypoint, train_df)"
   ]
  },
  {
   "cell_type": "code",
   "execution_count": null,
   "metadata": {},
   "outputs": [],
   "source": []
  }
 ],
 "metadata": {
  "kernelspec": {
   "display_name": "Python 3",
   "language": "python",
   "name": "python3"
  },
  "language_info": {
   "codemirror_mode": {
    "name": "ipython",
    "version": 3
   },
   "file_extension": ".py",
   "mimetype": "text/x-python",
   "name": "python",
   "nbconvert_exporter": "python",
   "pygments_lexer": "ipython3",
   "version": "3.8.5"
  },
  "metadata": {
   "interpreter": {
    "hash": "31f2aee4e71d21fbe5cf8b01ff0e069b9275f58929596ceb00d14d90e3e16cd6"
   }
  }
 },
 "nbformat": 4,
 "nbformat_minor": 4
}