{
 "cells": [
  {
   "cell_type": "code",
   "execution_count": 3,
   "id": "d17cb1ee-2d83-4753-be84-9988a698f9f4",
   "metadata": {},
   "outputs": [],
   "source": [
    "import pandas as pd\n",
    "import numpy as np\n",
    "import matplotlib.pyplot as plt\n",
    "import glob\n",
    "import os\n",
    "import random\n",
    "import sys\n",
    "\n",
    "sys.path.append('../')\n",
    "from src.io_f import read_data_file\n",
    "import src.compute_f as compute_f"
   ]
  },
  {
   "cell_type": "code",
   "execution_count": 4,
   "id": "375bd82a-e4b0-41fe-9099-a5f19182ae1a",
   "metadata": {},
   "outputs": [],
   "source": [
    "floor_map = {\"B2\":-2, \"B1\":-1, \"F1\":0, \"F2\": 1, \"F3\":2, \"F4\":3, \"F5\":4, \"F6\":5, \"F7\":6,\"F8\":7, \"F9\":8,\n",
    "             \"1F\":0, \"2F\":1, \"3F\":2, \"4F\":3, \"5F\":4, \"6F\":5, \"7F\":6, \"8F\": 7, \"9F\":8}\n",
    "            \n",
    "base_path = '../input/indoor-location-navigation/'\n",
    "sample_submission = pd.read_csv(base_path + 'sample_submission.csv')\n",
    "used_buildings = sample_submission['site_path_timestamp'].str.split('_', expand=True)[0].unique()"
   ]
  },
  {
   "cell_type": "code",
   "execution_count": 5,
   "id": "d01d5c06-40b9-443d-aabc-ead000b6fe8c",
   "metadata": {},
   "outputs": [
    {
     "data": {
      "text/plain": [
       "array(['5a0546857ecc773753327266', '5c3c44b80379370013e0fd2b',\n",
       "       '5d27075f03f801723c2e360f', '5d27096c03f801723c31e5e0',\n",
       "       '5d27097f03f801723c320d97', '5d27099f03f801723c32511d',\n",
       "       '5d2709a003f801723c3251bf', '5d2709b303f801723c327472',\n",
       "       '5d2709bb03f801723c32852c', '5d2709c303f801723c3299ee',\n",
       "       '5d2709d403f801723c32bd39', '5d2709e003f801723c32d896',\n",
       "       '5da138274db8ce0c98bbd3d2', '5da1382d4db8ce0c98bbe92e',\n",
       "       '5da138314db8ce0c98bbf3a0', '5da138364db8ce0c98bc00f1',\n",
       "       '5da1383b4db8ce0c98bc11ab', '5da138754db8ce0c98bca82f',\n",
       "       '5da138764db8ce0c98bcaa46', '5da1389e4db8ce0c98bd0547',\n",
       "       '5da138b74db8ce0c98bd4774', '5da958dd46f8266d0737457b',\n",
       "       '5dbc1d84c1eb61796cf7c010', '5dc8cea7659e181adb076a3f'],\n",
       "      dtype=object)"
      ]
     },
     "execution_count": 5,
     "metadata": {},
     "output_type": "execute_result"
    }
   ],
   "source": [
    "used_buildings"
   ]
  },
  {
   "cell_type": "code",
   "execution_count": 11,
   "id": "ed03025f-6092-4726-ac3d-3eb269b24582",
   "metadata": {},
   "outputs": [],
   "source": [
    "# sample = {}\n",
    "path_files = []\n",
    "p = 0.01\n",
    "for building in used_buildings:\n",
    "    folders = sorted(glob.glob(os.path.join(base_path,'train/'+building+'/*')))\n",
    "    wifi = list()\n",
    "    for folder in folders:\n",
    "        floor = floor_map[folder.split('/')[-1]]\n",
    "        files = glob.glob(os.path.join(folder, \"*.txt\"))\n",
    "        for file in files:\n",
    "            path_files.append(file)\n",
    "            # sample[building] = file\n",
    "            break\n",
    "        break "
   ]
  },
  {
   "cell_type": "code",
   "execution_count": 12,
   "id": "41952c80-d678-4a31-af26-2421649e49f6",
   "metadata": {},
   "outputs": [
    {
     "data": {
      "text/plain": [
       "['../input/indoor-location-navigation/train/5a0546857ecc773753327266/B1/5e1580d1f4c3420006d520e4.txt',\n",
       " '../input/indoor-location-navigation/train/5c3c44b80379370013e0fd2b/B1/5d0761dfb53a8d0008dd4c26.txt',\n",
       " '../input/indoor-location-navigation/train/5d27075f03f801723c2e360f/B1/5da9aac918410e00067e684d.txt',\n",
       " '../input/indoor-location-navigation/train/5d27096c03f801723c31e5e0/B1/5db805b65741f4000680a8f8.txt',\n",
       " '../input/indoor-location-navigation/train/5d27097f03f801723c320d97/B1/5dd0f21c94e4900006126045.txt',\n",
       " '../input/indoor-location-navigation/train/5d27099f03f801723c32511d/B1/5dce74c35516ad00065f034a.txt',\n",
       " '../input/indoor-location-navigation/train/5d2709a003f801723c3251bf/1F/5dbbd809dc27ae0006bbe60d.txt',\n",
       " '../input/indoor-location-navigation/train/5d2709b303f801723c327472/1F/5da83b7eae6cfc0006ca821b.txt',\n",
       " '../input/indoor-location-navigation/train/5d2709bb03f801723c32852c/B1/5dca36345e083300061bc838.txt',\n",
       " '../input/indoor-location-navigation/train/5d2709c303f801723c3299ee/1F/5dad84b4aa1d300006faa82c.txt',\n",
       " '../input/indoor-location-navigation/train/5d2709d403f801723c32bd39/1F/5dccce3e757dea0006080073.txt',\n",
       " '../input/indoor-location-navigation/train/5d2709e003f801723c32d896/B1/5dc78fce1cda3700060310f9.txt',\n",
       " '../input/indoor-location-navigation/train/5da138274db8ce0c98bbd3d2/F1/5dc65d2b17ffdd0006f114dd.txt',\n",
       " '../input/indoor-location-navigation/train/5da1382d4db8ce0c98bbe92e/B1/5da7e342aec4b20006154bc9.txt',\n",
       " '../input/indoor-location-navigation/train/5da138314db8ce0c98bbf3a0/B1/5da4666d93f1580006d7d268.txt',\n",
       " '../input/indoor-location-navigation/train/5da138364db8ce0c98bc00f1/F1/5daebc89e415cd000662938b.txt',\n",
       " '../input/indoor-location-navigation/train/5da1383b4db8ce0c98bc11ab/F1/5dd4d85050e04e0006f55ef6.txt',\n",
       " '../input/indoor-location-navigation/train/5da138754db8ce0c98bca82f/F1/5dd0e49994e4900006125ee3.txt',\n",
       " '../input/indoor-location-navigation/train/5da138764db8ce0c98bcaa46/B1/5dad174618410e00067e72fe.txt',\n",
       " '../input/indoor-location-navigation/train/5da1389e4db8ce0c98bd0547/B1/5dc52ae621dceb00061148b1.txt',\n",
       " '../input/indoor-location-navigation/train/5da138b74db8ce0c98bd4774/B1/5db107d4e62491000652b9ba.txt',\n",
       " '../input/indoor-location-navigation/train/5da958dd46f8266d0737457b/B1/5db1104de62491000652b9fa.txt',\n",
       " '../input/indoor-location-navigation/train/5dbc1d84c1eb61796cf7c010/B1/5dd511d5d48f840006f148e2.txt',\n",
       " '../input/indoor-location-navigation/train/5dc8cea7659e181adb076a3f/B1/5dcf885f878f3300066c6e1e.txt']"
      ]
     },
     "execution_count": 12,
     "metadata": {},
     "output_type": "execute_result"
    }
   ],
   "source": [
    "path_files"
   ]
  },
  {
   "cell_type": "code",
   "execution_count": 38,
   "id": "cb986eff-7d47-4ce5-a36e-20cbf36705a7",
   "metadata": {},
   "outputs": [],
   "source": [
    "# 加速度と磁場？から相対位置を算出\n",
    "# https://www.kaggle.com/saitodevel01/indoor-post-processing-by-cost-minimization\n",
    "def compute_rel_positions(acce_datas, ahrs_datas):\n",
    "    \"\"\"\n",
    "    input: (2316, 4) (timestamp, x, y, z)\n",
    "    output: \n",
    "    \"\"\"\n",
    "    step_timestamps, step_indexs, step_acce_max_mins = compute_f.compute_steps(acce_datas)\n",
    "    headings = compute_f.compute_headings(ahrs_datas)\n",
    "    stride_lengths = compute_f.compute_stride_length(step_acce_max_mins)\n",
    "    step_headings = compute_f.compute_step_heading(step_timestamps, headings)\n",
    "    rel_positions = compute_f.compute_rel_positions(stride_lengths, step_headings)\n",
    "    return rel_positions\n",
    "\n",
    "\n",
    "def correct_path(args):\n",
    "    path, path_df = args\n",
    "    \n",
    "    T_ref  = path_df['timestamp'].values\n",
    "    xy_hat = path_df[['x', 'y']].values\n",
    "    \n",
    "    example = read_data_file(f'{INPUT_PATH}/test/{path}.txt')\n",
    "    rel_positions = compute_rel_positions(example.acce, example.ahrs)\n",
    "    if T_ref[-1] > rel_positions[-1, 0]:\n",
    "        rel_positions = [np.array([[0, 0, 0]]), rel_positions, np.array([[T_ref[-1], 0, 0]])]\n",
    "    else:\n",
    "        rel_positions = [np.array([[0, 0, 0]]), rel_positions]\n",
    "    rel_positions = np.concatenate(rel_positions)\n",
    "    \n",
    "    T_rel = rel_positions[:, 0]\n",
    "    delta_xy_hat = np.diff(scipy.interpolate.interp1d(T_rel, np.cumsum(rel_positions[:, 1:3], axis=0), axis=0)(T_ref), axis=0)\n",
    "\n",
    "    N = xy_hat.shape[0]\n",
    "    delta_t = np.diff(T_ref)\n",
    "    alpha = (8.1)**(-2) * np.ones(N)\n",
    "    beta  = (0.3 + 0.3 * 1e-3 * delta_t)**(-2)\n",
    "    A = scipy.sparse.spdiags(alpha, [0], N, N)\n",
    "    B = scipy.sparse.spdiags( beta, [0], N-1, N-1)\n",
    "    D = scipy.sparse.spdiags(np.stack([-np.ones(N), np.ones(N)]), [0, 1], N-1, N)\n",
    "\n",
    "    Q = A + (D.T @ B @ D)\n",
    "    c = (A @ xy_hat) + (D.T @ (B @ delta_xy_hat))\n",
    "    xy_star = scipy.sparse.linalg.spsolve(Q, c)\n",
    "\n",
    "    return pd.DataFrame({\n",
    "        'site_path_timestamp' : path_df['site_path_timestamp'],\n",
    "        'floor' : path_df['floor'],\n",
    "        'x' : xy_star[:, 0],\n",
    "        'y' : xy_star[:, 1],\n",
    "    })\n",
    "\n",
    "\n",
    "def complement_sensor_waypoint(trajectory_timestamp, trajectory_waypoint, sensor):\n",
    "    sensor_timestamp = sensor[:, 0]\n",
    "    sensor_rel_waypoint = sensor[:, 1:]\n",
    "    sensor_waypoint = []\n",
    "    for i in range(len(trajectory_timestamp)-1):\n",
    "        # あるwaypointから次のwaypointの間にあるsensorデータを取り出したいのでtimestampで該当のidxを取得\n",
    "        target_idx = (sensor_timestamp > trajectory_timestamp[i]) & (sensor_timestamp < trajectory_timestamp[i+1])\n",
    "        # 対象区間の相対位置の累積和を取りスタート地点のwaypointを足すことでsensorによる位置が取得できる\n",
    "        tmp_sensor_waypoint = trajectory_waypoint[i] + np.cumsum(sensor_rel_waypoint[target_idx], axis=0)\n",
    "        sensor_waypoint.append(tmp_sensor_waypoint)\n",
    "    sensor_waypoint = np.concatenate(sensor_waypoint)\n",
    "    return sensor_timestamp, sensor_waypoint"
   ]
  },
  {
   "cell_type": "code",
   "execution_count": 27,
   "id": "c755ef9f-4d1c-47c9-a5e0-bb1db555dd3e",
   "metadata": {},
   "outputs": [],
   "source": [
    "example = read_data_file(path_files[0])\n",
    "trajectory = example.waypoint\n",
    "wifi = example.wifi\n",
    "sensor = compute_rel_positions(example.acce, example.ahrs)\n",
    "\n",
    "trajectory_timestamp = trajectory[:,0]\n",
    "trajectory_waypoint = trajectory[:, 1:]\n",
    "wifi_timestamp = np.unique(wifi[:, 0]).astype(int)"
   ]
  },
  {
   "cell_type": "code",
   "execution_count": 39,
   "id": "c551fccc-635f-44df-8b45-936b1be44674",
   "metadata": {},
   "outputs": [
    {
     "data": {
      "text/plain": [
       "[<matplotlib.lines.Line2D at 0x7fe7c9348760>]"
      ]
     },
     "execution_count": 39,
     "metadata": {},
     "output_type": "execute_result"
    },
    {
     "data": {
      "image/png": "[encoded data removed]",
      "text/plain": [
       "<Figure size 432x288 with 1 Axes>"
      ]
     },
     "metadata": {
      "needs_background": "light"
     },
     "output_type": "display_data"
    }
   ],
   "source": [
    "sensor_timestamp, sensor_waypoint = complement_sensor_waypoint(trajectory_timestamp, trajectory_waypoint, sensor)"
   ]
  },
  {
   "cell_type": "code",
   "execution_count": 44,
   "id": "d1c4bdc6-ea47-49a9-8c10-cdb3a5deb9f7",
   "metadata": {},
   "outputs": [
    {
     "data": {
      "text/plain": [
       "<matplotlib.legend.Legend at 0x7fe7c9646fa0>"
      ]
     },
     "execution_count": 44,
     "metadata": {},
     "output_type": "execute_result"
    },
    {
     "data": {
      "image/png": "[encoded data removed]",
      "text/plain": [
       "<Figure size 432x288 with 1 Axes>"
      ]
     },
     "metadata": {
      "needs_background": "light"
     },
     "output_type": "display_data"
    }
   ],
   "source": [
    "plt.scatter(sensor_waypoint[:,0], sensor_waypoint[:,1], label='wifi')\n",
    "plt.scatter(trajectory_waypoint[:,0], trajectory_waypoint[:,1], label='waypoint')\n",
    "plt.legend()"
   ]
  },
  {
   "cell_type": "markdown",
   "id": "e6e27cc1-3b11-4a52-9fa7-f3591a4fe207",
   "metadata": {},
   "source": [
    "### センサを使った位置推定 part2"
   ]
  },
  {
   "cell_type": "code",
   "execution_count": 71,
   "id": "d7abf1f8-7633-48b5-bd3d-5809666befff",
   "metadata": {},
   "outputs": [],
   "source": [
    "step_distance = 0.8\n",
    "w_height = 1.7\n",
    "m_trans = -5"
   ]
  },
  {
   "cell_type": "code",
   "execution_count": 85,
   "id": "caa567e8-a4e8-4a35-a9b8-9c0b139c282d",
   "metadata": {},
   "outputs": [
    {
     "data": {
      "text/html": [
       "<div>\n",
       "<style scoped>\n",
       "    .dataframe tbody tr th:only-of-type {\n",
       "        vertical-align: middle;\n",
       "    }\n",
       "\n",
       "    .dataframe tbody tr th {\n",
       "        vertical-align: top;\n",
       "    }\n",
       "\n",
       "    .dataframe thead th {\n",
       "        text-align: right;\n",
       "    }\n",
       "</style>\n",
       "<table border=\"1\" class=\"dataframe\">\n",
       "  <thead>\n",
       "    <tr style=\"text-align: right;\">\n",
       "      <th></th>\n",
       "      <th>timestamp</th>\n",
       "      <th>acce</th>\n",
       "    </tr>\n",
       "  </thead>\n",
       "  <tbody>\n",
       "    <tr>\n",
       "      <th>0</th>\n",
       "      <td>1.578466e+12</td>\n",
       "      <td>9.983129</td>\n",
       "    </tr>\n",
       "    <tr>\n",
       "      <th>1</th>\n",
       "      <td>1.578466e+12</td>\n",
       "      <td>10.118029</td>\n",
       "    </tr>\n",
       "    <tr>\n",
       "      <th>2</th>\n",
       "      <td>1.578466e+12</td>\n",
       "      <td>9.996192</td>\n",
       "    </tr>\n",
       "    <tr>\n",
       "      <th>3</th>\n",
       "      <td>1.578466e+12</td>\n",
       "      <td>9.958784</td>\n",
       "    </tr>\n",
       "    <tr>\n",
       "      <th>4</th>\n",
       "      <td>1.578466e+12</td>\n",
       "      <td>9.975923</td>\n",
       "    </tr>\n",
       "    <tr>\n",
       "      <th>...</th>\n",
       "      <td>...</td>\n",
       "      <td>...</td>\n",
       "    </tr>\n",
       "    <tr>\n",
       "      <th>1834</th>\n",
       "      <td>1.578466e+12</td>\n",
       "      <td>9.936211</td>\n",
       "    </tr>\n",
       "    <tr>\n",
       "      <th>1835</th>\n",
       "      <td>1.578466e+12</td>\n",
       "      <td>8.386364</td>\n",
       "    </tr>\n",
       "    <tr>\n",
       "      <th>1836</th>\n",
       "      <td>1.578466e+12</td>\n",
       "      <td>8.833745</td>\n",
       "    </tr>\n",
       "    <tr>\n",
       "      <th>1837</th>\n",
       "      <td>1.578466e+12</td>\n",
       "      <td>10.876840</td>\n",
       "    </tr>\n",
       "    <tr>\n",
       "      <th>1838</th>\n",
       "      <td>1.578466e+12</td>\n",
       "      <td>10.893019</td>\n",
       "    </tr>\n",
       "  </tbody>\n",
       "</table>\n",
       "<p>1839 rows × 2 columns</p>\n",
       "</div>"
      ],
      "text/plain": [
       "         timestamp       acce\n",
       "0     1.578466e+12   9.983129\n",
       "1     1.578466e+12  10.118029\n",
       "2     1.578466e+12   9.996192\n",
       "3     1.578466e+12   9.958784\n",
       "4     1.578466e+12   9.975923\n",
       "...            ...        ...\n",
       "1834  1.578466e+12   9.936211\n",
       "1835  1.578466e+12   8.386364\n",
       "1836  1.578466e+12   8.833745\n",
       "1837  1.578466e+12  10.876840\n",
       "1838  1.578466e+12  10.893019\n",
       "\n",
       "[1839 rows x 2 columns]"
      ]
     },
     "execution_count": 85,
     "metadata": {},
     "output_type": "execute_result"
    }
   ],
   "source": [
    "mix_acce = np.sqrt(example.acce[:,1:2]**2 + example.acce[:,2:3]**2 + example.acce[:,3:4]**2)\n",
    "mix_acce = np.concatenate([example.acce[:,0:1], mix_acce], 1)\n",
    "mix_df = pd.DataFrame(mix_acce)\n",
    "mix_df.columns = [\"timestamp\",\"acce\"]\n",
    "mix_df"
   ]
  },
  {
   "cell_type": "code",
   "execution_count": 87,
   "id": "d0a05bdf-49b5-4e35-b7e8-ffc9dde780cb",
   "metadata": {},
   "outputs": [
    {
     "data": {
      "text/plain": [
       "[<matplotlib.lines.Line2D at 0x7fe8ed3b7790>]"
      ]
     },
     "execution_count": 87,
     "metadata": {},
     "output_type": "execute_result"
    },
    {
     "data": {
      "image/png": "[encoded data removed]",
      "text/plain": [
       "<Figure size 432x288 with 1 Axes>"
      ]
     },
     "metadata": {
      "needs_background": "light"
     },
     "output_type": "display_data"
    }
   ],
   "source": [
    "plt.plot(mix_df['timestamp'], mix_df['acce'])"
   ]
  },
  {
   "cell_type": "code",
   "execution_count": 88,
   "id": "2493dc22-9883-4e76-aa07-102915c23ebf",
   "metadata": {},
   "outputs": [
    {
     "data": {
      "text/plain": [
       "array([ 0.04742509,  0.29705171,  0.91905434, ..., 10.05752511,\n",
       "        9.91506492,  9.77741099])"
      ]
     },
     "execution_count": 88,
     "metadata": {},
     "output_type": "execute_result"
    }
   ],
   "source": [
    "from scipy.signal import butter, lfilter\n",
    "\n",
    "def butter_lowpass(cutoff, fs, order=5):\n",
    "    nyq = 0.5 * fs\n",
    "    normal_cutoff = cutoff / nyq\n",
    "    b, a = butter(order, normal_cutoff, btype='low', analog=False)\n",
    "    return b, a\n",
    "\n",
    "def butter_lowpass_filter(data, cutoff, fs, order=5):\n",
    "    b, a = butter_lowpass(cutoff, fs, order=order)\n",
    "    y = lfilter(b, a, data)\n",
    "    return y\n",
    "\n",
    "order = 3\n",
    "fs = 50.0  # sample rate, Hz\n",
    "# fs = 100\n",
    "# cutoff = 3.667  # desired cutoff frequency of the filter, Hz\n",
    "cutoff = 3\n",
    "\n",
    "filtered = butter_lowpass_filter(mix_df[\"acce\"], cutoff, fs, order)\n",
    "filtered"
   ]
  },
  {
   "cell_type": "code",
   "execution_count": null,
   "id": "23df9474-e973-49fe-a894-33e0d11cbd80",
   "metadata": {},
   "outputs": [],
   "source": []
  }
 ],
 "metadata": {
  "kernelspec": {
   "display_name": "Python 3",
   "language": "python",
   "name": "python3"
  },
  "language_info": {
   "codemirror_mode": {
    "name": "ipython",
    "version": 3
   },
   "file_extension": ".py",
   "mimetype": "text/x-python",
   "name": "python",
   "nbconvert_exporter": "python",
   "pygments_lexer": "ipython3",
   "version": "3.8.5"
  }
 },
 "nbformat": 4,
 "nbformat_minor": 5
}
