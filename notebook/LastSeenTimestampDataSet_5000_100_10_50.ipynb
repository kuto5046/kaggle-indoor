{
 "cells": [
  {
   "cell_type": "markdown",
   "metadata": {},
   "source": []
  },
  {
   "cell_type": "code",
   "execution_count": 9,
   "metadata": {
    "_cell_guid": "b1076dfc-b9ad-4769-8c92-a6c4dae69d19",
    "_uuid": "8f2839f25d086af736a60e9eeb907d3b93b6e0e5",
    "papermill": {
     "duration": 0.01623,
     "end_time": "2021-02-03T20:30:06.593847",
     "exception": false,
     "start_time": "2021-02-03T20:30:06.577617",
     "status": "completed"
    },
    "tags": []
   },
   "outputs": [],
   "source": [
    "import pandas as pd\n",
    "import numpy as np\n",
    "import glob\n",
    "import os\n",
    "import gc\n",
    "import json \n",
    "import pickle\n",
    "from tqdm import tqdm\n",
    "import matplotlib.pyplot as plt\n",
    "import dask\n",
    "from dask.distributed import Client, wait, LocalCluster"
   ]
  },
  {
   "cell_type": "code",
   "execution_count": 2,
   "metadata": {
    "papermill": {
     "duration": 0.015585,
     "end_time": "2021-02-03T20:30:06.616837",
     "exception": false,
     "start_time": "2021-02-03T20:30:06.601252",
     "status": "completed"
    },
    "tags": []
   },
   "outputs": [],
   "source": [
    "base_path = '../../data'"
   ]
  },
  {
   "cell_type": "code",
   "execution_count": 3,
   "metadata": {
    "papermill": {
     "duration": 2.711076,
     "end_time": "2021-02-03T20:30:09.334617",
     "exception": false,
     "start_time": "2021-02-03T20:30:06.623541",
     "status": "completed"
    },
    "tags": []
   },
   "outputs": [],
   "source": [
    "ssubm = pd.read_csv(base_path + '/sample_submission.csv')\n",
    "\n",
    "ssubm_df = ssubm[\"site_path_timestamp\"].apply(lambda x: pd.Series(x.split(\"_\")))\n",
    "used_buildings = sorted(ssubm_df[0].value_counts().index.tolist())\n",
    "\n",
    "floor_map = {\"B2\":-2, \"B1\":-1, \"F1\":0, \"F2\": 1, \"F3\":2, \"F4\":3, \"F5\":4, \"F6\":5, \"F7\":6,\"F8\":7, \"F9\":8,\n",
    "             \"1F\":0, \"2F\":1, \"3F\":2, \"4F\":3, \"5F\":4, \"6F\":5, \"7F\":6, \"8F\": 7, \"9F\":8}"
   ]
  },
  {
   "cell_type": "code",
   "execution_count": 7,
   "metadata": {},
   "outputs": [],
   "source": [
    "def to_pickle(filename, obj):\n",
    "    with open(filename, mode='wb') as f:\n",
    "        pickle.dump(obj, f)"
   ]
  },
  {
   "cell_type": "markdown",
   "metadata": {},
   "source": [
    "### site内で50回以上登場するWiFiを抽出\n",
    "100とかにしたかったが対象となるWiFiが少なすぎる。testのwaypointに紐づくWiFiの件数が少ない"
   ]
  },
  {
   "cell_type": "code",
   "execution_count": 4,
   "metadata": {
    "papermill": {
     "duration": 0.021272,
     "end_time": "2021-02-03T20:30:09.363069",
     "exception": false,
     "start_time": "2021-02-03T20:30:09.341797",
     "status": "completed"
    },
    "tags": []
   },
   "outputs": [
    {
     "name": "stdout",
     "output_type": "stream",
     "text": [
      "5a0546857ecc773753327266\n",
      "2838\n",
      "5c3c44b80379370013e0fd2b\n",
      "2630\n",
      "5d27075f03f801723c2e360f\n",
      "5606\n",
      "5d27096c03f801723c31e5e0\n",
      "831\n",
      "5d27097f03f801723c320d97\n",
      "1663\n",
      "5d27099f03f801723c32511d\n",
      "724\n",
      "5d2709a003f801723c3251bf\n",
      "927\n",
      "5d2709b303f801723c327472\n",
      "1432\n",
      "5d2709bb03f801723c32852c\n",
      "1817\n",
      "5d2709c303f801723c3299ee\n",
      "5209\n",
      "5d2709d403f801723c32bd39\n",
      "1382\n",
      "5d2709e003f801723c32d896\n",
      "911\n",
      "5da138274db8ce0c98bbd3d2\n",
      "298\n",
      "5da1382d4db8ce0c98bbe92e\n",
      "2226\n",
      "5da138314db8ce0c98bbf3a0\n",
      "957\n",
      "5da138364db8ce0c98bc00f1\n",
      "506\n",
      "5da1383b4db8ce0c98bc11ab\n",
      "1213\n",
      "5da138754db8ce0c98bca82f\n",
      "938\n",
      "5da138764db8ce0c98bcaa46\n",
      "1288\n",
      "5da1389e4db8ce0c98bd0547\n",
      "448\n",
      "5da138b74db8ce0c98bd4774\n",
      "2956\n",
      "5da958dd46f8266d0737457b\n",
      "2936\n",
      "5dbc1d84c1eb61796cf7c010\n",
      "3791\n",
      "5dc8cea7659e181adb076a3f\n",
      "3044\n",
      "Wall time: 6min 14s\n"
     ]
    }
   ],
   "source": [
    "%%time\n",
    "\n",
    "# TODO 全体の登場回数ではなく、waypointの近くの登場回数で絞るべき\n",
    "WIFI_USE_COUT = 50\n",
    "\n",
    "bssid = dict()\n",
    "\n",
    "for building in used_buildings:\n",
    "    #break\n",
    "    folders = sorted(glob.glob(os.path.join(base_path,'train/'+building+'/*')))\n",
    "    print(building)\n",
    "    wifi = list()\n",
    "    for folder in folders:\n",
    "        floor = floor_map[folder.split('\\\\')[-1]]\n",
    "        files = glob.glob(os.path.join(folder, \"*.txt\"))\n",
    "        for file in files:\n",
    "            with open(file, encoding='utf-8') as f:\n",
    "                txt = f.readlines()\n",
    "                for e, line in enumerate(txt):\n",
    "                    tmp = line.strip().split()\n",
    "                    if tmp[1] == \"TYPE_WIFI\":\n",
    "                        wifi.append(tmp)\n",
    "    df = pd.DataFrame(wifi)\n",
    "    value_counts = df[3].value_counts()\n",
    "    top_bssid = value_counts[value_counts > WIFI_USE_COUT].index.tolist() # 50回以上登場するBSSIDのみを対象にする。\n",
    "    print(len(top_bssid))\n",
    "    bssid[building] = top_bssid\n",
    "    del df\n",
    "    del wifi\n",
    "    gc.collect()"
   ]
  },
  {
   "cell_type": "code",
   "execution_count": 5,
   "metadata": {
    "papermill": {
     "duration": 0.016635,
     "end_time": "2021-02-03T20:30:09.386885",
     "exception": false,
     "start_time": "2021-02-03T20:30:09.370250",
     "status": "completed"
    },
    "tags": []
   },
   "outputs": [],
   "source": [
    "with open(f\"bssid_{WIFI_USE_COUT}.json\", \"w\") as f:\n",
    "    json.dump(bssid, f)\n",
    "\n",
    "with open(f\"bssid_{WIFI_USE_COUT}.json\") as f:\n",
    "    bssid = json.load(f)"
   ]
  },
  {
   "cell_type": "markdown",
   "metadata": {},
   "source": [
    "## train作成"
   ]
  },
  {
   "cell_type": "code",
   "execution_count": 6,
   "metadata": {
    "papermill": {
     "duration": 0.026514,
     "end_time": "2021-02-03T20:30:09.420694",
     "exception": false,
     "start_time": "2021-02-03T20:30:09.394180",
     "status": "completed"
    },
    "tags": []
   },
   "outputs": [
    {
     "name": "stderr",
     "output_type": "stream",
     "text": [
      "100%|██████████████████████████████████████████████████████████████████████████████████| 24/24 [16:07<00:00, 40.31s/it]\n"
     ]
    },
    {
     "name": "stdout",
     "output_type": "stream",
     "text": [
      "Wall time: 16min 13s\n"
     ]
    }
   ],
   "source": [
    "%%time\n",
    "\n",
    "TIME_DIFF_THRESHOLD = 5000 # 抽出対象とする最大時間（ミリ秒）\n",
    "WIFI_NUM = 100 # WiFi抽出件数\n",
    "WIFI_MIN_NUM = 10 # waypointに紐づくWiFiの最低数（この数以下の場合は学習データから除外する）\n",
    "DUMMY_RECORD = [9999999999999,\t'DUMMY', 'NONE', 'NONE', -999, 0, 9999999999999, 99999, 99999] # waypointに紐づくWiFi数が100件に満たない場合に穴埋めするためのダミー\n",
    "\n",
    "train_save_file_name = f'train_{TIME_DIFF_THRESHOLD}_{WIFI_NUM}_{WIFI_MIN_NUM}_{WIFI_USE_COUT}.pkl'\n",
    "test_save_file_name = f'test_{TIME_DIFF_THRESHOLD}_{WIFI_NUM}_{WIFI_USE_COUT}.pkl'\n",
    "\n",
    "train_wifi_count = []\n",
    "rows = []\n",
    "\n",
    "for building in tqdm(used_buildings):\n",
    "    bssids = bssid[building]\n",
    "\n",
    "    for folder in sorted(glob.glob(os.path.join(base_path,'train', building +'/*'))):\n",
    "        floor_str = folder.split('\\\\')[-1]\n",
    "        floor = floor_map[floor_str]\n",
    "        \n",
    "        for file in glob.glob(os.path.join(folder, \"*.txt\")):\n",
    "            wifi = list()\n",
    "            waypoint = list()\n",
    "            \n",
    "            with open(file, encoding='utf-8') as f:\n",
    "                txt = f.readlines()\n",
    "                \n",
    "            for line in txt:\n",
    "                line = line.strip().split()\n",
    "                if line[1] == \"TYPE_WAYPOINT\":\n",
    "                    waypoint.append(line)\n",
    "                if line[1] == \"TYPE_WIFI\":\n",
    "                    wifi.append(line)\n",
    "\n",
    "            if len(wifi) <= 0:\n",
    "                continue\n",
    "                    \n",
    "            wifi_base_df = pd.DataFrame(np.array(wifi), columns=['timestamp', 'data_type', 'ssid', 'bssid', 'rssi', 'frequency', 'last_seen_timestamp'])\n",
    "            \n",
    "            for wp_row in waypoint:\n",
    "                wifi_df = wifi_base_df.copy()\n",
    "                \n",
    "                wifi_df = wifi_df[wifi_df['bssid'].isin(bssids)]\n",
    "                \n",
    "                wp_timestamp = wp_row[0]\n",
    "\n",
    "                wifi_df['time_diff'] = wifi_df['last_seen_timestamp'].astype(np.float) - int(wp_timestamp)\n",
    "                wifi_df['time_diff_abs'] = wifi_df['time_diff'].abs()\n",
    "                \n",
    "                # waypointに近いWiFi(last_seen_timestamp)のみ抽出\n",
    "                wifi_df = wifi_df[np.abs(wifi_df['time_diff']) < TIME_DIFF_THRESHOLD] \n",
    "                \n",
    "                # 同一 SSID * BSSIDのうちtime_diffが一番小さいもののみを抽出する\n",
    "                wifi_df = wifi_df.sort_values('time_diff_abs')\n",
    "                wifi_df = wifi_df.groupby(['ssid', 'bssid']).head(1).reset_index(drop=True)\n",
    "\n",
    "                wifi_count = len(wifi_df)\n",
    "                train_wifi_count.append(wifi_count)\n",
    "                \n",
    "                # WiFiが最低件数に満たない場合はスキップする\n",
    "                if wifi_count < WIFI_MIN_NUM:\n",
    "                    continue\n",
    "                \n",
    "                # WiFi件数に満たない行を埋める\n",
    "                dummy_count = WIFI_NUM - wifi_count\n",
    "                if dummy_count > 0:\n",
    "                    dummy_df = pd.DataFrame(np.tile(DUMMY_RECORD, (dummy_count, 1)), \n",
    "                                            columns=['timestamp', 'data_type', 'ssid', 'bssid', 'rssi', 'frequency', 'last_seen_timestamp', 'time_diff', 'time_diff_abs'])\n",
    "                    wifi_df = pd.concat([wifi_df, dummy_df])\n",
    "                    \n",
    "                wifi_df = wifi_df.head(100)\n",
    "                \n",
    "                row = np.concatenate([wifi_df['ssid'].to_numpy(),\n",
    "                                      wifi_df['bssid'].to_numpy(), \n",
    "                                      wifi_df['rssi'].to_numpy(), \n",
    "                                      wifi_df['frequency'].to_numpy(), \n",
    "                                      wifi_df['time_diff'].to_numpy(),\n",
    "                                      [wp_row[0], # waypoint timestamp\n",
    "                                      wp_row[2], # x\n",
    "                                      wp_row[3], # y\n",
    "                                      floor, # floor number\n",
    "                                      floor_str, # floor string\n",
    "                                      file.split('\\\\')[-1].split('.')[0], # path_id\n",
    "                                      building, # site_id\n",
    "                                      wifi_count]\n",
    "                                     ])\n",
    "                rows.append(row)\n",
    "\n",
    "columns = [f'ssid_{i}' for i in range(WIFI_NUM)] + [f'bssid_{i}' for i in range(WIFI_NUM)] + [f'rssi_{i}' for i in range(WIFI_NUM)] + [f'frequency_{i}' for i in range(WIFI_NUM)] +  [f'time_diff_{i}' for i in range(WIFI_NUM)] +  ['wp_tmestamp', 'x', 'y', 'floor', 'floor_str', 'path_id', 'site_id', 'wifi_count']\n",
    "train_df = pd.DataFrame(rows, columns=columns)"
   ]
  },
  {
   "cell_type": "code",
   "execution_count": 22,
   "metadata": {},
   "outputs": [],
   "source": [
    "to_pickle(train_save_file_name, train_df)"
   ]
  },
  {
   "cell_type": "code",
   "execution_count": 11,
   "metadata": {},
   "outputs": [
    {
     "data": {
      "text/plain": [
       "(73455, 508)"
      ]
     },
     "execution_count": 11,
     "metadata": {},
     "output_type": "execute_result"
    }
   ],
   "source": [
    "train_df.shape"
   ]
  },
  {
   "cell_type": "code",
   "execution_count": 13,
   "metadata": {},
   "outputs": [
    {
     "data": {
      "image/png": "[encoded data removed]",
      "text/plain": [
       "<Figure size 432x288 with 1 Axes>"
      ]
     },
     "metadata": {
      "needs_background": "light"
     },
     "output_type": "display_data"
    },
    {
     "data": {
      "text/html": [
       "<div>\n",
       "<style scoped>\n",
       "    .dataframe tbody tr th:only-of-type {\n",
       "        vertical-align: middle;\n",
       "    }\n",
       "\n",
       "    .dataframe tbody tr th {\n",
       "        vertical-align: top;\n",
       "    }\n",
       "\n",
       "    .dataframe thead th {\n",
       "        text-align: right;\n",
       "    }\n",
       "</style>\n",
       "<table border=\"1\" class=\"dataframe\">\n",
       "  <thead>\n",
       "    <tr style=\"text-align: right;\">\n",
       "      <th></th>\n",
       "      <th>count</th>\n",
       "      <th>mean</th>\n",
       "      <th>std</th>\n",
       "      <th>min</th>\n",
       "      <th>25%</th>\n",
       "      <th>50%</th>\n",
       "      <th>75%</th>\n",
       "      <th>max</th>\n",
       "    </tr>\n",
       "  </thead>\n",
       "  <tbody>\n",
       "    <tr>\n",
       "      <th>0</th>\n",
       "      <td>75206.0</td>\n",
       "      <td>126.683323</td>\n",
       "      <td>97.704373</td>\n",
       "      <td>0.0</td>\n",
       "      <td>52.0</td>\n",
       "      <td>96.0</td>\n",
       "      <td>181.0</td>\n",
       "      <td>521.0</td>\n",
       "    </tr>\n",
       "  </tbody>\n",
       "</table>\n",
       "</div>"
      ],
      "text/plain": [
       "     count        mean        std  min   25%   50%    75%    max\n",
       "0  75206.0  126.683323  97.704373  0.0  52.0  96.0  181.0  521.0"
      ]
     },
     "execution_count": 13,
     "metadata": {},
     "output_type": "execute_result"
    }
   ],
   "source": [
    "plt.hist(train_wifi_count, bins=50)\n",
    "plt.show()\n",
    "pd.DataFrame(train_wifi_count).describe().T"
   ]
  },
  {
   "cell_type": "markdown",
   "metadata": {},
   "source": [
    "## test作成\n",
    "※ testのpathファイルにWiFiが存在しないデータはtimestampが不明であるため除外する"
   ]
  },
  {
   "cell_type": "code",
   "execution_count": 14,
   "metadata": {},
   "outputs": [
    {
     "data": {
      "text/plain": [
       "493"
      ]
     },
     "execution_count": 14,
     "metadata": {},
     "output_type": "execute_result"
    }
   ],
   "source": [
    "realtime_sample_submission_df = pd.read_csv('real_timestamp_sample_submission.csv')\n",
    "test_len = len(realtime_sample_submission_df)\n",
    "\n",
    "realtime_sample_submission_df = realtime_sample_submission_df[realtime_sample_submission_df['is_real_timestamp']]\n",
    "test_len - len(realtime_sample_submission_df)"
   ]
  },
  {
   "cell_type": "markdown",
   "metadata": {},
   "source": [
    "493件は別のデータセットで学習したモデルで予測する必要あり。"
   ]
  },
  {
   "cell_type": "code",
   "execution_count": 15,
   "metadata": {},
   "outputs": [
    {
     "data": {
      "text/html": [
       "<div>\n",
       "<style scoped>\n",
       "    .dataframe tbody tr th:only-of-type {\n",
       "        vertical-align: middle;\n",
       "    }\n",
       "\n",
       "    .dataframe tbody tr th {\n",
       "        vertical-align: top;\n",
       "    }\n",
       "\n",
       "    .dataframe thead th {\n",
       "        text-align: right;\n",
       "    }\n",
       "</style>\n",
       "<table border=\"1\" class=\"dataframe\">\n",
       "  <thead>\n",
       "    <tr style=\"text-align: right;\">\n",
       "      <th></th>\n",
       "      <th>site_id</th>\n",
       "      <th>path_id</th>\n",
       "      <th>waypoint_timestamp</th>\n",
       "      <th>site_path_timestamp</th>\n",
       "    </tr>\n",
       "  </thead>\n",
       "  <tbody>\n",
       "    <tr>\n",
       "      <th>0</th>\n",
       "      <td>5da1389e4db8ce0c98bd0547</td>\n",
       "      <td>00ff0c9a71cc37a2ebdd0f05</td>\n",
       "      <td>1573190310863</td>\n",
       "      <td>5da1389e4db8ce0c98bd0547_00ff0c9a71cc37a2ebdd0...</td>\n",
       "    </tr>\n",
       "    <tr>\n",
       "      <th>1</th>\n",
       "      <td>5da1389e4db8ce0c98bd0547</td>\n",
       "      <td>00ff0c9a71cc37a2ebdd0f05</td>\n",
       "      <td>1573190314901</td>\n",
       "      <td>5da1389e4db8ce0c98bd0547_00ff0c9a71cc37a2ebdd0...</td>\n",
       "    </tr>\n",
       "    <tr>\n",
       "      <th>2</th>\n",
       "      <td>5da1389e4db8ce0c98bd0547</td>\n",
       "      <td>00ff0c9a71cc37a2ebdd0f05</td>\n",
       "      <td>1573190323379</td>\n",
       "      <td>5da1389e4db8ce0c98bd0547_00ff0c9a71cc37a2ebdd0...</td>\n",
       "    </tr>\n",
       "  </tbody>\n",
       "</table>\n",
       "</div>"
      ],
      "text/plain": [
       "                    site_id                   path_id waypoint_timestamp  \\\n",
       "0  5da1389e4db8ce0c98bd0547  00ff0c9a71cc37a2ebdd0f05      1573190310863   \n",
       "1  5da1389e4db8ce0c98bd0547  00ff0c9a71cc37a2ebdd0f05      1573190314901   \n",
       "2  5da1389e4db8ce0c98bd0547  00ff0c9a71cc37a2ebdd0f05      1573190323379   \n",
       "\n",
       "                                 site_path_timestamp  \n",
       "0  5da1389e4db8ce0c98bd0547_00ff0c9a71cc37a2ebdd0...  \n",
       "1  5da1389e4db8ce0c98bd0547_00ff0c9a71cc37a2ebdd0...  \n",
       "2  5da1389e4db8ce0c98bd0547_00ff0c9a71cc37a2ebdd0...  "
      ]
     },
     "execution_count": 15,
     "metadata": {},
     "output_type": "execute_result"
    }
   ],
   "source": [
    "site_path_time_df = realtime_sample_submission_df['site_path_timestamp'].str.split('_').apply(lambda x: pd.Series(x))\n",
    "site_path_time_df.columns = ['site_id', 'path_id', 'waypoint_timestamp']\n",
    "site_path_time_df['site_path_timestamp'] = realtime_sample_submission_df['site_path_timestamp']\n",
    "site_path_time_df.head(3)"
   ]
  },
  {
   "cell_type": "code",
   "execution_count": 16,
   "metadata": {},
   "outputs": [
    {
     "name": "stdout",
     "output_type": "stream",
     "text": [
      "Wall time: 2min 4s\n"
     ]
    }
   ],
   "source": [
    "%%time\n",
    "\n",
    "test_wifi_count = []\n",
    "test_rows = []\n",
    "\n",
    "def create_wifi_df(path_id):\n",
    "    wifi = list()\n",
    "    \n",
    "    with open(os.path.join(f'../../data/test/{path_id}.txt'), encoding='utf-8') as f:\n",
    "        txt = f.readlines()\n",
    "\n",
    "    for line in txt:\n",
    "        line = line.strip().split()\n",
    "        if line[1] == \"TYPE_WIFI\":\n",
    "            wifi.append(line)\n",
    "            \n",
    "    return pd.DataFrame(np.array(wifi), columns=['timestamp', 'data_type', 'ssid', 'bssid', 'rssi', 'frequency', 'last_seen_timestamp'])\n",
    "            \n",
    "\n",
    "for path_id, path_df in site_path_time_df.groupby('path_id'):\n",
    "    \n",
    "    site_id = path_df.iloc[0]['site_id']\n",
    "    bssids = bssid[site_id]\n",
    "    \n",
    "    wifi_base_df = create_wifi_df(path_id)\n",
    "    wifi_base_df = wifi_base_df[wifi_base_df['bssid'].isin(bssids)] # 指定の件数以下の登場回数のWiFiは除外\n",
    "    \n",
    "    for i, path_row in path_df.iterrows():\n",
    "        wifi_df = wifi_base_df.copy()\n",
    "        site_path_timestamp = path_row['site_path_timestamp']\n",
    "        waypoint_timestamp = path_row['waypoint_timestamp']\n",
    "        \n",
    "        wifi_df['time_diff'] = wifi_df['last_seen_timestamp'].astype(np.float) - int(waypoint_timestamp)\n",
    "        wifi_df['time_diff_abs'] = wifi_df['time_diff'].abs()\n",
    "        \n",
    "        wifi_df = wifi_df[wifi_df['time_diff_abs'] < TIME_DIFF_THRESHOLD] \n",
    "        wifi_df = wifi_df.sort_values('time_diff_abs')\n",
    "        wifi_df = wifi_df.groupby(['ssid', 'bssid']).head(1).reset_index(drop=True)\n",
    "        \n",
    "        wifi_count = len(wifi_df)\n",
    "        \n",
    "        test_wifi_count.append(wifi_count)\n",
    "        \n",
    "        dummy_count = WIFI_NUM - wifi_count\n",
    "        if dummy_count > 0:\n",
    "            dummy_df = pd.DataFrame(np.tile(DUMMY_RECORD, (dummy_count, 1)), \n",
    "                                    columns=['timestamp', 'data_type', 'ssid', 'bssid', 'rssi', 'frequency', 'last_seen_timestamp', 'time_diff', 'time_diff_abs'])\n",
    "\n",
    "        wifi_df = pd.concat([wifi_df, dummy_df]).head(WIFI_NUM)\n",
    "\n",
    "        test_row = np.concatenate([wifi_df['ssid'].to_numpy(),\n",
    "                              wifi_df['bssid'].to_numpy(), \n",
    "                              wifi_df['rssi'].to_numpy(), \n",
    "                              wifi_df['frequency'].to_numpy(), \n",
    "                              wifi_df['time_diff'].to_numpy(),\n",
    "                              [waypoint_timestamp, # waypoint timestamp\n",
    "                              path_id, # path_id\n",
    "                              building, # site_id\n",
    "                              site_path_timestamp,\n",
    "                              wifi_count]\n",
    "                             ])\n",
    "        test_rows.append(test_row)\n",
    "            \n",
    "columns = [f'ssid_{i}' for i in range(WIFI_NUM)] + [f'bssid_{i}' for i in range(WIFI_NUM)] + [f'rssi_{i}' for i in range(WIFI_NUM)] + [f'frequency_{i}' for i in range(WIFI_NUM)] +  [f'time_diff_{i}' for i in range(WIFI_NUM)] +  ['wp_tmestamp', 'path_id', 'site_id', 'site_path_timestamp', 'wifi_count']\n",
    "test_df = pd.DataFrame(test_rows, columns=columns)"
   ]
  },
  {
   "cell_type": "code",
   "execution_count": 18,
   "metadata": {},
   "outputs": [],
   "source": [
    "to_pickle(test_save_file_name, test_df)"
   ]
  },
  {
   "cell_type": "code",
   "execution_count": 19,
   "metadata": {},
   "outputs": [
    {
     "data": {
      "text/plain": [
       "(9640, 505)"
      ]
     },
     "execution_count": 19,
     "metadata": {},
     "output_type": "execute_result"
    }
   ],
   "source": [
    "test_df.shape"
   ]
  },
  {
   "cell_type": "code",
   "execution_count": 20,
   "metadata": {},
   "outputs": [
    {
     "data": {
      "image/png": "[encoded data removed]",
      "text/plain": [
       "<Figure size 432x288 with 1 Axes>"
      ]
     },
     "metadata": {
      "needs_background": "light"
     },
     "output_type": "display_data"
    },
    {
     "data": {
      "text/html": [
       "<div>\n",
       "<style scoped>\n",
       "    .dataframe tbody tr th:only-of-type {\n",
       "        vertical-align: middle;\n",
       "    }\n",
       "\n",
       "    .dataframe tbody tr th {\n",
       "        vertical-align: top;\n",
       "    }\n",
       "\n",
       "    .dataframe thead th {\n",
       "        text-align: right;\n",
       "    }\n",
       "</style>\n",
       "<table border=\"1\" class=\"dataframe\">\n",
       "  <thead>\n",
       "    <tr style=\"text-align: right;\">\n",
       "      <th></th>\n",
       "      <th>count</th>\n",
       "      <th>mean</th>\n",
       "      <th>std</th>\n",
       "      <th>min</th>\n",
       "      <th>25%</th>\n",
       "      <th>50%</th>\n",
       "      <th>75%</th>\n",
       "      <th>max</th>\n",
       "    </tr>\n",
       "  </thead>\n",
       "  <tbody>\n",
       "    <tr>\n",
       "      <th>0</th>\n",
       "      <td>9640.0</td>\n",
       "      <td>125.318983</td>\n",
       "      <td>93.775387</td>\n",
       "      <td>0.0</td>\n",
       "      <td>57.0</td>\n",
       "      <td>92.0</td>\n",
       "      <td>170.0</td>\n",
       "      <td>513.0</td>\n",
       "    </tr>\n",
       "  </tbody>\n",
       "</table>\n",
       "</div>"
      ],
      "text/plain": [
       "    count        mean        std  min   25%   50%    75%    max\n",
       "0  9640.0  125.318983  93.775387  0.0  57.0  92.0  170.0  513.0"
      ]
     },
     "execution_count": 20,
     "metadata": {},
     "output_type": "execute_result"
    }
   ],
   "source": [
    "plt.hist(test_wifi_count, bins=50)\n",
    "plt.show()\n",
    "pd.DataFrame(test_wifi_count).describe().T"
   ]
  },
  {
   "cell_type": "code",
   "execution_count": 21,
   "metadata": {},
   "outputs": [
    {
     "name": "stdout",
     "output_type": "stream",
     "text": [
      "WiFi10件以下の件数:41\n",
      "WiFi20件以下の件数:185\n"
     ]
    }
   ],
   "source": [
    "test_wifi_count_np = np.array(test_wifi_count)\n",
    "print('WiFi10件以下の件数:{}'.format(len(test_wifi_count_np[test_wifi_count_np <= 10])))\n",
    "print('WiFi20件以下の件数:{}'.format(len(test_wifi_count_np[test_wifi_count_np <= 20])))"
   ]
  },
  {
   "cell_type": "code",
   "execution_count": null,
   "metadata": {},
   "outputs": [],
   "source": []
  },
  {
   "cell_type": "code",
   "execution_count": null,
   "metadata": {},
   "outputs": [],
   "source": []
  }
 ],
 "metadata": {
  "kernelspec": {
   "display_name": "Python 3",
   "language": "python",
   "name": "python3"
  },
  "language_info": {
   "codemirror_mode": {
    "name": "ipython",
    "version": 3
   },
   "file_extension": ".py",
   "mimetype": "text/x-python",
   "name": "python",
   "nbconvert_exporter": "python",
   "pygments_lexer": "ipython3",
   "version": "3.8.5"
  },
  "papermill": {
   "default_parameters": {},
   "duration": 9.894085,
   "end_time": "2021-02-03T20:30:10.083699",
   "environment_variables": {},
   "exception": null,
   "input_path": "__notebook__.ipynb",
   "output_path": "__notebook__.ipynb",
   "parameters": {},
   "start_time": "2021-02-03T20:30:00.189614",
   "version": "2.2.2"
  }
 },
 "nbformat": 4,
 "nbformat_minor": 4
}
