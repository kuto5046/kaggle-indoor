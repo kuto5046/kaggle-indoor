{
 "metadata": {
  "language_info": {
   "codemirror_mode": {
    "name": "ipython",
    "version": 3
   },
   "file_extension": ".py",
   "mimetype": "text/x-python",
   "name": "python",
   "nbconvert_exporter": "python",
   "pygments_lexer": "ipython3",
   "version": "3.8.5"
  },
  "orig_nbformat": 2,
  "kernelspec": {
   "name": "python3",
   "display_name": "Python 3.8.5 64-bit ('base': conda)",
   "metadata": {
    "interpreter": {
     "hash": "dca0ade3e726a953b501b15e8e990130d2b7799f14cfd9f4271676035ebe5511"
    }
   }
  }
 },
 "nbformat": 4,
 "nbformat_minor": 2,
 "cells": [
  {
   "source": [
    "## wifi feature by kuto\n",
    "\n",
    "[yukiさんのdataset](https://www.kaggle.com/dataset/951fe0fd675e58937311e936e941b01d517c227ce30192c8477bbe2bddeec602)をもとにを参考に、waypointを補正したwifi featureを作成する。  \n",
    "trainにwifi_x, wifi_yが加わっただけ。  \n",
    "\n",
    "v2は線形補完をtimestampを使ってやってみる(last seenは使っていないことに注意)"
   ],
   "cell_type": "markdown",
   "metadata": {}
  },
  {
   "cell_type": "code",
   "execution_count": 1,
   "metadata": {},
   "outputs": [],
   "source": [
    "import pandas as pd\n",
    "import numpy as np\n",
    "from tqdm.notebook import tqdm\n",
    "import glob\n",
    "import os\n",
    "import sys \n",
    "sys.path.append(\"../\")\n",
    "from src.io_f import read_data_file\n",
    "\n",
    "from scipy import interpolate"
   ]
  },
  {
   "cell_type": "code",
   "execution_count": 2,
   "metadata": {},
   "outputs": [],
   "source": [
    "base_path = '..'\n",
    "feature_dir = f\"{base_path}/input/wifi-feature-with-timestamp\"\n",
    "train_files = sorted(glob.glob(os.path.join(feature_dir, '*_train.csv')))\n",
    "test_files = sorted(glob.glob(os.path.join(feature_dir, '*_test.csv')))"
   ]
  },
  {
   "cell_type": "code",
   "execution_count": 3,
   "metadata": {},
   "outputs": [],
   "source": [
    "output_dir = \"../input/kuto_wifi_dataset_v2/\"\n",
    "os.makedirs(output_dir, exist_ok=True)"
   ]
  },
  {
   "cell_type": "code",
   "execution_count": 4,
   "metadata": {},
   "outputs": [
    {
     "output_type": "execute_result",
     "data": {
      "text/plain": [
       "      000840e5c600de293cea57f13326f273c86c3988  \\\n",
       "0                                         -999   \n",
       "1                                         -999   \n",
       "2                                         -999   \n",
       "3                                         -999   \n",
       "4                                         -999   \n",
       "...                                        ...   \n",
       "9291                                      -999   \n",
       "9292                                      -999   \n",
       "9293                                      -999   \n",
       "9294                                      -999   \n",
       "9295                                      -999   \n",
       "\n",
       "      005246b6f51feb1a069e8f005d3e6aba2591b65b  \\\n",
       "0                                         -999   \n",
       "1                                         -999   \n",
       "2                                         -999   \n",
       "3                                         -999   \n",
       "4                                         -999   \n",
       "...                                        ...   \n",
       "9291                                      -999   \n",
       "9292                                      -999   \n",
       "9293                                      -999   \n",
       "9294                                      -999   \n",
       "9295                                      -999   \n",
       "\n",
       "      0076ff7a084cb2ac8c146139965ab1be296e72c4  \\\n",
       "0                                         -999   \n",
       "1                                         -999   \n",
       "2                                         -999   \n",
       "3                                         -999   \n",
       "4                                         -999   \n",
       "...                                        ...   \n",
       "9291                                      -999   \n",
       "9292                                      -999   \n",
       "9293                                      -999   \n",
       "9294                                      -999   \n",
       "9295                                      -999   \n",
       "\n",
       "      009a3ed672be7bd1b9c4437b43a53296771af098  \\\n",
       "0                                         -999   \n",
       "1                                         -999   \n",
       "2                                         -999   \n",
       "3                                         -999   \n",
       "4                                         -999   \n",
       "...                                        ...   \n",
       "9291                                      -999   \n",
       "9292                                      -999   \n",
       "9293                                      -999   \n",
       "9294                                      -999   \n",
       "9295                                      -999   \n",
       "\n",
       "      00ad587dcb9c7ce3788b92e22777a22ee0efea31  \\\n",
       "0                                         -999   \n",
       "1                                         -999   \n",
       "2                                         -999   \n",
       "3                                         -999   \n",
       "4                                         -999   \n",
       "...                                        ...   \n",
       "9291                                      -999   \n",
       "9292                                      -999   \n",
       "9293                                      -999   \n",
       "9294                                      -999   \n",
       "9295                                      -999   \n",
       "\n",
       "      00af060fc145ee6a6a50475efa57b91cbf54237f  \\\n",
       "0                                         -999   \n",
       "1                                         -999   \n",
       "2                                         -999   \n",
       "3                                         -999   \n",
       "4                                         -999   \n",
       "...                                        ...   \n",
       "9291                                       -75   \n",
       "9292                                       -75   \n",
       "9293                                       -72   \n",
       "9294                                       -72   \n",
       "9295                                       -72   \n",
       "\n",
       "      00bcc61bdea4d52d050822d66952dd707c2fcdf3  \\\n",
       "0                                         -999   \n",
       "1                                         -999   \n",
       "2                                         -999   \n",
       "3                                         -999   \n",
       "4                                         -999   \n",
       "...                                        ...   \n",
       "9291                                      -999   \n",
       "9292                                      -999   \n",
       "9293                                      -999   \n",
       "9294                                      -999   \n",
       "9295                                      -999   \n",
       "\n",
       "      00c8933965e23cd2bb890ca08ee7f8a22f933df8  \\\n",
       "0                                         -999   \n",
       "1                                         -999   \n",
       "2                                         -999   \n",
       "3                                         -999   \n",
       "4                                         -999   \n",
       "...                                        ...   \n",
       "9291                                      -999   \n",
       "9292                                      -999   \n",
       "9293                                      -999   \n",
       "9294                                      -999   \n",
       "9295                                      -999   \n",
       "\n",
       "      00f0904087c01d922d6ebf3005607dfdeaf6687b  \\\n",
       "0                                         -999   \n",
       "1                                         -999   \n",
       "2                                         -999   \n",
       "3                                         -999   \n",
       "4                                         -999   \n",
       "...                                        ...   \n",
       "9291                                       -86   \n",
       "9292                                       -84   \n",
       "9293                                       -82   \n",
       "9294                                       -79   \n",
       "9295                                       -86   \n",
       "\n",
       "      00f09c4561768a871af2921cffa0a4fda515766b  ...  \\\n",
       "0                                         -999  ...   \n",
       "1                                         -999  ...   \n",
       "2                                         -999  ...   \n",
       "3                                         -999  ...   \n",
       "4                                         -999  ...   \n",
       "...                                        ...  ...   \n",
       "9291                                      -999  ...   \n",
       "9292                                      -999  ...   \n",
       "9293                                      -999  ...   \n",
       "9294                                      -999  ...   \n",
       "9295                                      -999  ...   \n",
       "\n",
       "      ffc7c34369257431c7de9129094deb923bb3e3af  \\\n",
       "0                                          -53   \n",
       "1                                          -53   \n",
       "2                                          -55   \n",
       "3                                          -52   \n",
       "4                                          -53   \n",
       "...                                        ...   \n",
       "9291                                      -999   \n",
       "9292                                      -999   \n",
       "9293                                      -999   \n",
       "9294                                      -999   \n",
       "9295                                      -999   \n",
       "\n",
       "      ffe53bd4dcfaa42668baf5ea0d2ddc676538fce0  \\\n",
       "0                                         -999   \n",
       "1                                         -999   \n",
       "2                                         -999   \n",
       "3                                         -999   \n",
       "4                                         -999   \n",
       "...                                        ...   \n",
       "9291                                       -78   \n",
       "9292                                       -78   \n",
       "9293                                       -78   \n",
       "9294                                      -999   \n",
       "9295                                      -999   \n",
       "\n",
       "      fffedf27bf3bf8fa64d01e6b0a6affc9170716f1      timestamp           x  \\\n",
       "0                                         -999  1578462618392  230.037380   \n",
       "1                                         -999  1578462618392  230.037380   \n",
       "2                                         -999  1578462618392  230.037380   \n",
       "3                                         -999  1578462628512  231.402900   \n",
       "4                                         -999  1578462628512  231.402900   \n",
       "...                                        ...            ...         ...   \n",
       "9291                                      -999  1572951934638  123.473170   \n",
       "9292                                      -999  1572951934638  123.473170   \n",
       "9293                                      -999  1572951946278  126.059975   \n",
       "9294                                      -999  1572951946278  126.059975   \n",
       "9295                                      -999  1572951946278  126.059975   \n",
       "\n",
       "              y  f  floor_str                      path  time_diff  \n",
       "0     153.49635 -1         B1  5e15730aa280850006f3d005        434  \n",
       "1     153.49635 -1         B1  5e15730aa280850006f3d005       2331  \n",
       "2     153.49635 -1         B1  5e15730aa280850006f3d005       4257  \n",
       "3     158.41515 -1         B1  5e15730aa280850006f3d005      -3938  \n",
       "4     158.41515 -1         B1  5e15730aa280850006f3d005      -2011  \n",
       "...         ... ..        ...                       ...        ...  \n",
       "9291   77.84787  3         F4  5dc1579ebce0a000068ae8eb       3771  \n",
       "9292   77.84787  3         F4  5dc1579ebce0a000068ae8eb       5801  \n",
       "9293   68.08712  3         F4  5dc1579ebce0a000068ae8eb      -3807  \n",
       "9294   68.08712  3         F4  5dc1579ebce0a000068ae8eb      -1777  \n",
       "9295   68.08712  3         F4  5dc1579ebce0a000068ae8eb        242  \n",
       "\n",
       "[9296 rows x 2605 columns]"
      ],
      "text/html": "<div>\n<style scoped>\n    .dataframe tbody tr th:only-of-type {\n        vertical-align: middle;\n    }\n\n    .dataframe tbody tr th {\n        vertical-align: top;\n    }\n\n    .dataframe thead th {\n        text-align: right;\n    }\n</style>\n<table border=\"1\" class=\"dataframe\">\n  <thead>\n    <tr style=\"text-align: right;\">\n      <th></th>\n      <th>000840e5c600de293cea57f13326f273c86c3988</th>\n      <th>005246b6f51feb1a069e8f005d3e6aba2591b65b</th>\n      <th>0076ff7a084cb2ac8c146139965ab1be296e72c4</th>\n      <th>009a3ed672be7bd1b9c4437b43a53296771af098</th>\n      <th>00ad587dcb9c7ce3788b92e22777a22ee0efea31</th>\n      <th>00af060fc145ee6a6a50475efa57b91cbf54237f</th>\n      <th>00bcc61bdea4d52d050822d66952dd707c2fcdf3</th>\n      <th>00c8933965e23cd2bb890ca08ee7f8a22f933df8</th>\n      <th>00f0904087c01d922d6ebf3005607dfdeaf6687b</th>\n      <th>00f09c4561768a871af2921cffa0a4fda515766b</th>\n      <th>...</th>\n      <th>ffc7c34369257431c7de9129094deb923bb3e3af</th>\n      <th>ffe53bd4dcfaa42668baf5ea0d2ddc676538fce0</th>\n      <th>fffedf27bf3bf8fa64d01e6b0a6affc9170716f1</th>\n      <th>timestamp</th>\n      <th>x</th>\n      <th>y</th>\n      <th>f</th>\n      <th>floor_str</th>\n      <th>path</th>\n      <th>time_diff</th>\n    </tr>\n  </thead>\n  <tbody>\n    <tr>\n      <th>0</th>\n      <td>-999</td>\n      <td>-999</td>\n      <td>-999</td>\n      <td>-999</td>\n      <td>-999</td>\n      <td>-999</td>\n      <td>-999</td>\n      <td>-999</td>\n      <td>-999</td>\n      <td>-999</td>\n      <td>...</td>\n      <td>-53</td>\n      <td>-999</td>\n      <td>-999</td>\n      <td>1578462618392</td>\n      <td>230.037380</td>\n      <td>153.49635</td>\n      <td>-1</td>\n      <td>B1</td>\n      <td>5e15730aa280850006f3d005</td>\n      <td>434</td>\n    </tr>\n    <tr>\n      <th>1</th>\n      <td>-999</td>\n      <td>-999</td>\n      <td>-999</td>\n      <td>-999</td>\n      <td>-999</td>\n      <td>-999</td>\n      <td>-999</td>\n      <td>-999</td>\n      <td>-999</td>\n      <td>-999</td>\n      <td>...</td>\n      <td>-53</td>\n      <td>-999</td>\n      <td>-999</td>\n      <td>1578462618392</td>\n      <td>230.037380</td>\n      <td>153.49635</td>\n      <td>-1</td>\n      <td>B1</td>\n      <td>5e15730aa280850006f3d005</td>\n      <td>2331</td>\n    </tr>\n    <tr>\n      <th>2</th>\n      <td>-999</td>\n      <td>-999</td>\n      <td>-999</td>\n      <td>-999</td>\n      <td>-999</td>\n      <td>-999</td>\n      <td>-999</td>\n      <td>-999</td>\n      <td>-999</td>\n      <td>-999</td>\n      <td>...</td>\n      <td>-55</td>\n      <td>-999</td>\n      <td>-999</td>\n      <td>1578462618392</td>\n      <td>230.037380</td>\n      <td>153.49635</td>\n      <td>-1</td>\n      <td>B1</td>\n      <td>5e15730aa280850006f3d005</td>\n      <td>4257</td>\n    </tr>\n    <tr>\n      <th>3</th>\n      <td>-999</td>\n      <td>-999</td>\n      <td>-999</td>\n      <td>-999</td>\n      <td>-999</td>\n      <td>-999</td>\n      <td>-999</td>\n      <td>-999</td>\n      <td>-999</td>\n      <td>-999</td>\n      <td>...</td>\n      <td>-52</td>\n      <td>-999</td>\n      <td>-999</td>\n      <td>1578462628512</td>\n      <td>231.402900</td>\n      <td>158.41515</td>\n      <td>-1</td>\n      <td>B1</td>\n      <td>5e15730aa280850006f3d005</td>\n      <td>-3938</td>\n    </tr>\n    <tr>\n      <th>4</th>\n      <td>-999</td>\n      <td>-999</td>\n      <td>-999</td>\n      <td>-999</td>\n      <td>-999</td>\n      <td>-999</td>\n      <td>-999</td>\n      <td>-999</td>\n      <td>-999</td>\n      <td>-999</td>\n      <td>...</td>\n      <td>-53</td>\n      <td>-999</td>\n      <td>-999</td>\n      <td>1578462628512</td>\n      <td>231.402900</td>\n      <td>158.41515</td>\n      <td>-1</td>\n      <td>B1</td>\n      <td>5e15730aa280850006f3d005</td>\n      <td>-2011</td>\n    </tr>\n    <tr>\n      <th>...</th>\n      <td>...</td>\n      <td>...</td>\n      <td>...</td>\n      <td>...</td>\n      <td>...</td>\n      <td>...</td>\n      <td>...</td>\n      <td>...</td>\n      <td>...</td>\n      <td>...</td>\n      <td>...</td>\n      <td>...</td>\n      <td>...</td>\n      <td>...</td>\n      <td>...</td>\n      <td>...</td>\n      <td>...</td>\n      <td>...</td>\n      <td>...</td>\n      <td>...</td>\n      <td>...</td>\n    </tr>\n    <tr>\n      <th>9291</th>\n      <td>-999</td>\n      <td>-999</td>\n      <td>-999</td>\n      <td>-999</td>\n      <td>-999</td>\n      <td>-75</td>\n      <td>-999</td>\n      <td>-999</td>\n      <td>-86</td>\n      <td>-999</td>\n      <td>...</td>\n      <td>-999</td>\n      <td>-78</td>\n      <td>-999</td>\n      <td>1572951934638</td>\n      <td>123.473170</td>\n      <td>77.84787</td>\n      <td>3</td>\n      <td>F4</td>\n      <td>5dc1579ebce0a000068ae8eb</td>\n      <td>3771</td>\n    </tr>\n    <tr>\n      <th>9292</th>\n      <td>-999</td>\n      <td>-999</td>\n      <td>-999</td>\n      <td>-999</td>\n      <td>-999</td>\n      <td>-75</td>\n      <td>-999</td>\n      <td>-999</td>\n      <td>-84</td>\n      <td>-999</td>\n      <td>...</td>\n      <td>-999</td>\n      <td>-78</td>\n      <td>-999</td>\n      <td>1572951934638</td>\n      <td>123.473170</td>\n      <td>77.84787</td>\n      <td>3</td>\n      <td>F4</td>\n      <td>5dc1579ebce0a000068ae8eb</td>\n      <td>5801</td>\n    </tr>\n    <tr>\n      <th>9293</th>\n      <td>-999</td>\n      <td>-999</td>\n      <td>-999</td>\n      <td>-999</td>\n      <td>-999</td>\n      <td>-72</td>\n      <td>-999</td>\n      <td>-999</td>\n      <td>-82</td>\n      <td>-999</td>\n      <td>...</td>\n      <td>-999</td>\n      <td>-78</td>\n      <td>-999</td>\n      <td>1572951946278</td>\n      <td>126.059975</td>\n      <td>68.08712</td>\n      <td>3</td>\n      <td>F4</td>\n      <td>5dc1579ebce0a000068ae8eb</td>\n      <td>-3807</td>\n    </tr>\n    <tr>\n      <th>9294</th>\n      <td>-999</td>\n      <td>-999</td>\n      <td>-999</td>\n      <td>-999</td>\n      <td>-999</td>\n      <td>-72</td>\n      <td>-999</td>\n      <td>-999</td>\n      <td>-79</td>\n      <td>-999</td>\n      <td>...</td>\n      <td>-999</td>\n      <td>-999</td>\n      <td>-999</td>\n      <td>1572951946278</td>\n      <td>126.059975</td>\n      <td>68.08712</td>\n      <td>3</td>\n      <td>F4</td>\n      <td>5dc1579ebce0a000068ae8eb</td>\n      <td>-1777</td>\n    </tr>\n    <tr>\n      <th>9295</th>\n      <td>-999</td>\n      <td>-999</td>\n      <td>-999</td>\n      <td>-999</td>\n      <td>-999</td>\n      <td>-72</td>\n      <td>-999</td>\n      <td>-999</td>\n      <td>-86</td>\n      <td>-999</td>\n      <td>...</td>\n      <td>-999</td>\n      <td>-999</td>\n      <td>-999</td>\n      <td>1572951946278</td>\n      <td>126.059975</td>\n      <td>68.08712</td>\n      <td>3</td>\n      <td>F4</td>\n      <td>5dc1579ebce0a000068ae8eb</td>\n      <td>242</td>\n    </tr>\n  </tbody>\n</table>\n<p>9296 rows × 2605 columns</p>\n</div>"
     },
     "metadata": {},
     "execution_count": 4
    }
   ],
   "source": [
    "train_file = train_files[0]\n",
    "train = pd.read_csv(train_file, index_col=0).reset_index(drop=True).rename(columns={'foor_str':'floor_str'})\n",
    "train"
   ]
  },
  {
   "cell_type": "code",
   "execution_count": 5,
   "metadata": {},
   "outputs": [
    {
     "output_type": "execute_result",
     "data": {
      "text/plain": [
       "['../input/wifi-feature-with-timestamp/5a0546857ecc773753327266_timediff_1000_train.csv',\n",
       " '../input/wifi-feature-with-timestamp/5c3c44b80379370013e0fd2b_timediff_1000_train.csv',\n",
       " '../input/wifi-feature-with-timestamp/5d27075f03f801723c2e360f_timediff_1000_train.csv',\n",
       " '../input/wifi-feature-with-timestamp/5d27096c03f801723c31e5e0_timediff_1000_train.csv',\n",
       " '../input/wifi-feature-with-timestamp/5d27097f03f801723c320d97_timediff_1000_train.csv',\n",
       " '../input/wifi-feature-with-timestamp/5d27099f03f801723c32511d_timediff_1000_train.csv',\n",
       " '../input/wifi-feature-with-timestamp/5d2709a003f801723c3251bf_timediff_1000_train.csv',\n",
       " '../input/wifi-feature-with-timestamp/5d2709b303f801723c327472_timediff_1000_train.csv',\n",
       " '../input/wifi-feature-with-timestamp/5d2709bb03f801723c32852c_timediff_1000_train.csv',\n",
       " '../input/wifi-feature-with-timestamp/5d2709c303f801723c3299ee_timediff_1000_train.csv',\n",
       " '../input/wifi-feature-with-timestamp/5d2709d403f801723c32bd39_timediff_1000_train.csv',\n",
       " '../input/wifi-feature-with-timestamp/5d2709e003f801723c32d896_timediff_1000_train.csv',\n",
       " '../input/wifi-feature-with-timestamp/5da138274db8ce0c98bbd3d2_timediff_1000_train.csv',\n",
       " '../input/wifi-feature-with-timestamp/5da1382d4db8ce0c98bbe92e_timediff_1000_train.csv',\n",
       " '../input/wifi-feature-with-timestamp/5da138314db8ce0c98bbf3a0_timediff_1000_train.csv',\n",
       " '../input/wifi-feature-with-timestamp/5da138364db8ce0c98bc00f1_timediff_1000_train.csv',\n",
       " '../input/wifi-feature-with-timestamp/5da1383b4db8ce0c98bc11ab_timediff_1000_train.csv',\n",
       " '../input/wifi-feature-with-timestamp/5da138754db8ce0c98bca82f_timediff_1000_train.csv',\n",
       " '../input/wifi-feature-with-timestamp/5da138764db8ce0c98bcaa46_timediff_1000_train.csv',\n",
       " '../input/wifi-feature-with-timestamp/5da1389e4db8ce0c98bd0547_timediff_1000_train.csv',\n",
       " '../input/wifi-feature-with-timestamp/5da138b74db8ce0c98bd4774_timediff_1000_train.csv',\n",
       " '../input/wifi-feature-with-timestamp/5da958dd46f8266d0737457b_timediff_1000_train.csv',\n",
       " '../input/wifi-feature-with-timestamp/5dbc1d84c1eb61796cf7c010_timediff_1000_train.csv',\n",
       " '../input/wifi-feature-with-timestamp/5dc8cea7659e181adb076a3f_timediff_1000_train.csv']"
      ]
     },
     "metadata": {},
     "execution_count": 5
    }
   ],
   "source": [
    "train_files"
   ]
  },
  {
   "cell_type": "code",
   "execution_count": 6,
   "metadata": {},
   "outputs": [],
   "source": [
    "import sys \n",
    "sys.path.append(\"../\")\n",
    "from multiprocessing import Pool\n",
    "\n",
    "def wifi_waypoint_by_linear_interpolation(\n",
    "        trajectory_timestamp, wifi_timestamp,\n",
    "        x_observed, y_observed, delta_time=1000,\n",
    "        ): \n",
    "\n",
    "    wifi_waypoint_list = []\n",
    "    num_interpolation = len(trajectory_timestamp) - 1  # 補完回数 \n",
    "    # 各waypoint間で線形補完\n",
    "    for i in range(num_interpolation):\n",
    "        # 潜在的なtimestampを作成(これのどれかにwifiを当てはめるような形)\n",
    "        n_split = int((max(trajectory_timestamp[i:i+2]) - min(trajectory_timestamp[i:i+2])) / delta_time) + 2  # delta_time刻みとなるように分割数を指定(+2は始点と終点分)\n",
    "        timestamp_latent = np.linspace(min(trajectory_timestamp[i:i+2]), max(trajectory_timestamp[i:i+2]), n_split).astype(int) \n",
    "        \n",
    "        # xが昇順の場合はlatentも昇順になるようにする\n",
    "        if x_observed[i] < x_observed[i+1]:\n",
    "            x_latent = np.linspace(min(x_observed[i:i+2]), max(x_observed[i:i+2]), n_split)\n",
    "        # xが降順の場合はlatentも降順になるようにする\n",
    "        else:\n",
    "            x_latent = np.linspace(min(x_observed[i:i+2]), max(x_observed[i:i+2]), n_split)[::-1]\n",
    "        \n",
    "        # 線形補完関数の適用\n",
    "        fitted_curve = interpolate.interp1d(x_observed[i:i+2], y_observed[i:i+2])\n",
    "\n",
    "        # wifiのtimestampに最も近いものをsplit_timestampから取得しそれに対応するwaypointをwifiのwaypointとして取得\n",
    "        wifi_x = []\n",
    "        wifi_y = []\n",
    "\n",
    "        # 区間内のwifiデータのみ考える\n",
    "        if i == num_interpolation-1:\n",
    "            # 最後のwaypointより未来のwifiデータがあるようなのでこの処理を追加\n",
    "            target_idx = min(trajectory_timestamp[i:i+2]) <= wifi_timestamp\n",
    "        else:\n",
    "            target_idx = (min(trajectory_timestamp[i:i+2]) <= wifi_timestamp) & (wifi_timestamp < max(trajectory_timestamp[i:i+2]))\n",
    "        target_wifi_timestamp = wifi_timestamp[target_idx]\n",
    "\n",
    "        # timestampが最も近いものをwifiのwaypointとして取得\n",
    "        for t in target_wifi_timestamp:\n",
    "            idx = np.abs(timestamp_latent - t).argmin()  # wifiデータとtimestampが最も近いものをlatentから取得\n",
    "            wifi_x.append(x_latent[idx])\n",
    "            wifi_y.append(fitted_curve(x_latent[idx]))\n",
    "\n",
    "        wifi_waypoint = np.stack([wifi_x, wifi_y], axis=1)\n",
    "        wifi_waypoint_list.append(wifi_waypoint)\n",
    "\n",
    "    wifi_waypoint = np.concatenate(wifi_waypoint_list)\n",
    "    return wifi_waypoint\n",
    "\n",
    "def get_wifi_waypoint(site, floor, path, timestamp):\n",
    "    path_file = f'../input/indoor-location-navigation/train/{site}/{floor}/{path}.txt'\n",
    "    example = read_data_file(path_file)\n",
    "\n",
    "    # waypoint\n",
    "    trajectory = example.waypoint\n",
    "    trajectory_timestamp = trajectory[:,0]\n",
    "    trajectory_waypoint = trajectory[:, 1:]\n",
    "    x_observed = trajectory_waypoint[:, 0]\n",
    "    y_observed = trajectory_waypoint[:, 1]\n",
    "\n",
    "    # wifi\n",
    "    wifi = example.wifi\n",
    "    wifi_timestamp = np.unique(wifi[:, 0]).astype(int)\n",
    "\n",
    "    # 線形補完\n",
    "    wifi_waypoint = wifi_waypoint_by_linear_interpolation(trajectory_timestamp, wifi_timestamp,x_observed, y_observed) \n",
    "    return wifi_waypoint"
   ]
  },
  {
   "cell_type": "code",
   "execution_count": 7,
   "metadata": {},
   "outputs": [],
   "source": [
    "\n",
    "def make_dataset_for_train(train_file):\n",
    "    train = pd.read_csv(train_file, index_col=0).reset_index(drop=True).rename(columns={'foor_str':'floor_str'})\n",
    "    file_name = train_file.split('/')[-1]\n",
    "    num_of_lines = train.shape[0]\n",
    "    print(f'{file_name} : {num_of_lines}')\n",
    "\n",
    "    data_list = []\n",
    "    for path, df in tqdm(train.groupby('path')):\n",
    "\n",
    "        bssid = df.columns[:-7].values\n",
    "        rssi = df.iloc[:, :-7].values\n",
    "        targets = df.iloc[:,-7:].values\n",
    "\n",
    "        # path内の各waypointのwifi値を取得\n",
    "        sort_rssi = []\n",
    "        sort_bssid = []\n",
    "        for i in range(len(df)):\n",
    "            sort_rssi.append(np.sort(rssi[i])[::-1][:100])\n",
    "            idx = np.argsort(rssi[i])[::-1]\n",
    "            sort_bssid.append(bssid[idx][:100])\n",
    "\n",
    "        sort_rssi = np.stack(sort_rssi)\n",
    "        sort_bssid = np.stack(sort_bssid)\n",
    "        site = train_file.split('/')[-1].split('_')[0]\n",
    "        timestamp = targets[i][0]\n",
    "        floor = targets[i][4]\n",
    "  \n",
    "        wifi_waypoint = get_wifi_waypoint(site, floor, path, timestamp)  # 1行ずつ処理するのは計算コスト的にもったいない\n",
    "        path_data = np.concatenate((sort_bssid, sort_rssi, targets, wifi_waypoint), axis=1)\n",
    "        path_df = pd.DataFrame(path_data)\n",
    "        data_list.append(path_df)\n",
    "    \n",
    "    data_df = pd.concat(data_list)\n",
    "    columns = [f'bssid_{str(i)}' for i in range(100)] + [f'rssi_{str(i)}' for i in range(100)] + \\\n",
    "            ['timestamp', 'x', 'y', 'floor', 'floor_str', 'path', 'time_diff', 'wifi_x', 'wifi_y']\n",
    "    data_df.columns = columns\n",
    "    data_df.to_csv(output_dir + file_name, index=False)\n"
   ]
  },
  {
   "cell_type": "code",
   "execution_count": 8,
   "metadata": {
    "tags": []
   },
   "outputs": [
    {
     "output_type": "stream",
     "name": "stdout",
     "text": [
      "5da138274db8ce0c98bbd3d2_timediff_1000_train.csv : 2662\n",
      "5da138364db8ce0c98bc00f1_timediff_1000_train.csv : 2767\n"
     ]
    },
    {
     "output_type": "display_data",
     "data": {
      "text/plain": "HBox(children=(HTML(value=''), FloatProgress(value=0.0, max=213.0), HTML(value='')))",
      "application/vnd.jupyter.widget-view+json": {
       "version_major": 2,
       "version_minor": 0,
       "model_id": "98c56997054440ba9058d09cf36f0ebd"
      }
     },
     "metadata": {}
    },
    {
     "output_type": "stream",
     "name": "stdout",
     "text": [
      "5da1389e4db8ce0c98bd0547_timediff_1000_train.csv : 6312\n"
     ]
    },
    {
     "output_type": "display_data",
     "data": {
      "text/plain": "HBox(children=(HTML(value=''), FloatProgress(value=0.0, max=82.0), HTML(value='')))",
      "application/vnd.jupyter.widget-view+json": {
       "version_major": 2,
       "version_minor": 0,
       "model_id": "360fc65409fe40c58fcf1746271f53b8"
      }
     },
     "metadata": {}
    },
    {
     "output_type": "display_data",
     "data": {
      "text/plain": "HBox(children=(HTML(value=''), FloatProgress(value=0.0, max=502.0), HTML(value='')))",
      "application/vnd.jupyter.widget-view+json": {
       "version_major": 2,
       "version_minor": 0,
       "model_id": "cd5730f2184341f89fce39c501dfd58a"
      }
     },
     "metadata": {}
    },
    {
     "output_type": "stream",
     "name": "stdout",
     "text": [
      "5d27099f03f801723c32511d_timediff_1000_train.csv : 4251\n",
      "5d2709a003f801723c3251bf_timediff_1000_train.csv : 3940\n"
     ]
    },
    {
     "output_type": "display_data",
     "data": {
      "text/plain": "HBox(children=(HTML(value=''), FloatProgress(value=0.0, max=131.0), HTML(value='')))",
      "application/vnd.jupyter.widget-view+json": {
       "version_major": 2,
       "version_minor": 0,
       "model_id": "6f7507464c4341b7a5e63ca24b1fa518"
      }
     },
     "metadata": {}
    },
    {
     "output_type": "display_data",
     "data": {
      "text/plain": "HBox(children=(HTML(value=''), FloatProgress(value=0.0, max=310.0), HTML(value='')))",
      "application/vnd.jupyter.widget-view+json": {
       "version_major": 2,
       "version_minor": 0,
       "model_id": "9afb9980aa91458c9508e6cc94d7a83d"
      }
     },
     "metadata": {}
    },
    {
     "output_type": "stream",
     "name": "stdout",
     "text": [
      "5da138754db8ce0c98bca82f_timediff_1000_train.csv : 7188\n"
     ]
    },
    {
     "output_type": "display_data",
     "data": {
      "text/plain": "HBox(children=(HTML(value=''), FloatProgress(value=0.0, max=205.0), HTML(value='')))",
      "application/vnd.jupyter.widget-view+json": {
       "version_major": 2,
       "version_minor": 0,
       "model_id": "51fb6e905e1946ac8f3b01f36935bac4"
      }
     },
     "metadata": {}
    },
    {
     "output_type": "stream",
     "name": "stdout",
     "text": [
      "5d27096c03f801723c31e5e0_timediff_1000_train.csv : 9100\n"
     ]
    },
    {
     "output_type": "display_data",
     "data": {
      "text/plain": "HBox(children=(HTML(value=''), FloatProgress(value=0.0, max=351.0), HTML(value='')))",
      "application/vnd.jupyter.widget-view+json": {
       "version_major": 2,
       "version_minor": 0,
       "model_id": "c50a9a1daf724474956019741dce4dfd"
      }
     },
     "metadata": {}
    },
    {
     "output_type": "stream",
     "name": "stdout",
     "text": [
      "5da138314db8ce0c98bbf3a0_timediff_1000_train.csv : 9012\n",
      "5d2709e003f801723c32d896_timediff_1000_train.csv : 11042\n"
     ]
    },
    {
     "output_type": "display_data",
     "data": {
      "text/plain": "HBox(children=(HTML(value=''), FloatProgress(value=0.0, max=428.0), HTML(value='')))",
      "application/vnd.jupyter.widget-view+json": {
       "version_major": 2,
       "version_minor": 0,
       "model_id": "21dc1738d1d24904abc528b83099785b"
      }
     },
     "metadata": {}
    },
    {
     "output_type": "display_data",
     "data": {
      "text/plain": "HBox(children=(HTML(value=''), FloatProgress(value=0.0, max=343.0), HTML(value='')))",
      "application/vnd.jupyter.widget-view+json": {
       "version_major": 2,
       "version_minor": 0,
       "model_id": "2912f25befa4474b9e75318e267891ee"
      }
     },
     "metadata": {}
    },
    {
     "output_type": "stream",
     "name": "stdout",
     "text": [
      "5da138764db8ce0c98bcaa46_timediff_1000_train.csv : 9420\n"
     ]
    },
    {
     "output_type": "display_data",
     "data": {
      "text/plain": "HBox(children=(HTML(value=''), FloatProgress(value=0.0, max=513.0), HTML(value='')))",
      "application/vnd.jupyter.widget-view+json": {
       "version_major": 2,
       "version_minor": 0,
       "model_id": "2d67623cf56943b3959c59736c129867"
      }
     },
     "metadata": {}
    },
    {
     "output_type": "stream",
     "name": "stdout",
     "text": [
      "5d2709d403f801723c32bd39_timediff_1000_train.csv : 10027\n"
     ]
    },
    {
     "output_type": "display_data",
     "data": {
      "text/plain": "HBox(children=(HTML(value=''), FloatProgress(value=0.0, max=359.0), HTML(value='')))",
      "application/vnd.jupyter.widget-view+json": {
       "version_major": 2,
       "version_minor": 0,
       "model_id": "0fad3914a1d1450190b7576514c10500"
      }
     },
     "metadata": {}
    },
    {
     "output_type": "stream",
     "name": "stdout",
     "text": [
      "5da1383b4db8ce0c98bc11ab_timediff_1000_train.csv : 13196\n"
     ]
    },
    {
     "output_type": "display_data",
     "data": {
      "text/plain": "HBox(children=(HTML(value=''), FloatProgress(value=0.0, max=239.0), HTML(value='')))",
      "application/vnd.jupyter.widget-view+json": {
       "version_major": 2,
       "version_minor": 0,
       "model_id": "c726f5a3b18f48e1b35e5a3fe9e83573"
      }
     },
     "metadata": {}
    },
    {
     "output_type": "stream",
     "name": "stdout",
     "text": [
      "5d27097f03f801723c320d97_timediff_1000_train.csv : 10507\n"
     ]
    },
    {
     "output_type": "display_data",
     "data": {
      "text/plain": "HBox(children=(HTML(value=''), FloatProgress(value=0.0, max=404.0), HTML(value='')))",
      "application/vnd.jupyter.widget-view+json": {
       "version_major": 2,
       "version_minor": 0,
       "model_id": "70f56d378e5e4e43b7c52994b62f4d40"
      }
     },
     "metadata": {}
    },
    {
     "output_type": "stream",
     "name": "stdout",
     "text": [
      "5d2709b303f801723c327472_timediff_1000_train.csv : 15358\n",
      "5da1382d4db8ce0c98bbe92e_timediff_1000_train.csv : 8999\n"
     ]
    },
    {
     "output_type": "display_data",
     "data": {
      "text/plain": "HBox(children=(HTML(value=''), FloatProgress(value=0.0, max=639.0), HTML(value='')))",
      "application/vnd.jupyter.widget-view+json": {
       "version_major": 2,
       "version_minor": 0,
       "model_id": "8b1d2a0446d742958588f3b5c878c065"
      }
     },
     "metadata": {}
    },
    {
     "output_type": "display_data",
     "data": {
      "text/plain": "HBox(children=(HTML(value=''), FloatProgress(value=0.0, max=338.0), HTML(value='')))",
      "application/vnd.jupyter.widget-view+json": {
       "version_major": 2,
       "version_minor": 0,
       "model_id": "3de90391b5a94185a29b977c0ae6d09f"
      }
     },
     "metadata": {}
    },
    {
     "output_type": "stream",
     "name": "stdout",
     "text": [
      "5c3c44b80379370013e0fd2b_timediff_1000_train.csv : 9737\n",
      "5d2709bb03f801723c32852c_timediff_1000_train.csv : 17203\n"
     ]
    },
    {
     "output_type": "display_data",
     "data": {
      "text/plain": "HBox(children=(HTML(value=''), FloatProgress(value=0.0, max=385.0), HTML(value='')))",
      "application/vnd.jupyter.widget-view+json": {
       "version_major": 2,
       "version_minor": 0,
       "model_id": "6e7be2c36b224e7593b1eba798a1343b"
      }
     },
     "metadata": {}
    },
    {
     "output_type": "display_data",
     "data": {
      "text/plain": "HBox(children=(HTML(value=''), FloatProgress(value=0.0, max=264.0), HTML(value='')))",
      "application/vnd.jupyter.widget-view+json": {
       "version_major": 2,
       "version_minor": 0,
       "model_id": "7ba9bc5e87a54a41a8870c6643ec48f2"
      }
     },
     "metadata": {}
    },
    {
     "output_type": "stream",
     "name": "stdout",
     "text": [
      "5a0546857ecc773753327266_timediff_1000_train.csv : 9296\n"
     ]
    },
    {
     "output_type": "display_data",
     "data": {
      "text/plain": "HBox(children=(HTML(value=''), FloatProgress(value=0.0, max=512.0), HTML(value='')))",
      "application/vnd.jupyter.widget-view+json": {
       "version_major": 2,
       "version_minor": 0,
       "model_id": "fadf63e0b91d4d18a46cf3d50a7f2109"
      }
     },
     "metadata": {}
    },
    {
     "output_type": "stream",
     "name": "stdout",
     "text": [
      "5da958dd46f8266d0737457b_timediff_1000_train.csv : 15148\n"
     ]
    },
    {
     "output_type": "display_data",
     "data": {
      "text/plain": "HBox(children=(HTML(value=''), FloatProgress(value=0.0, max=552.0), HTML(value='')))",
      "application/vnd.jupyter.widget-view+json": {
       "version_major": 2,
       "version_minor": 0,
       "model_id": "3edd0d11ecce45cbb14b9367830293cf"
      }
     },
     "metadata": {}
    },
    {
     "output_type": "stream",
     "name": "stdout",
     "text": [
      "5dc8cea7659e181adb076a3f_timediff_1000_train.csv : 15655\n"
     ]
    },
    {
     "output_type": "display_data",
     "data": {
      "text/plain": "HBox(children=(HTML(value=''), FloatProgress(value=0.0, max=740.0), HTML(value='')))",
      "application/vnd.jupyter.widget-view+json": {
       "version_major": 2,
       "version_minor": 0,
       "model_id": "e3b7830e267743de80303f2daa50d118"
      }
     },
     "metadata": {}
    },
    {
     "output_type": "stream",
     "name": "stdout",
     "text": [
      "5da138b74db8ce0c98bd4774_timediff_1000_train.csv : 17382\n"
     ]
    },
    {
     "output_type": "display_data",
     "data": {
      "text/plain": "HBox(children=(HTML(value=''), FloatProgress(value=0.0, max=748.0), HTML(value='')))",
      "application/vnd.jupyter.widget-view+json": {
       "version_major": 2,
       "version_minor": 0,
       "model_id": "c18aae7238494d42a38684df19c4488e"
      }
     },
     "metadata": {}
    },
    {
     "output_type": "stream",
     "name": "stdout",
     "text": [
      "5dbc1d84c1eb61796cf7c010_timediff_1000_train.csv : 16174\n"
     ]
    },
    {
     "output_type": "display_data",
     "data": {
      "text/plain": "HBox(children=(HTML(value=''), FloatProgress(value=0.0, max=791.0), HTML(value='')))",
      "application/vnd.jupyter.widget-view+json": {
       "version_major": 2,
       "version_minor": 0,
       "model_id": "4f74e848a0af4dff8b13958b99b54f34"
      }
     },
     "metadata": {}
    },
    {
     "output_type": "stream",
     "name": "stdout",
     "text": [
      "5d2709c303f801723c3299ee_timediff_1000_train.csv : 10083\n"
     ]
    },
    {
     "output_type": "display_data",
     "data": {
      "text/plain": "HBox(children=(HTML(value=''), FloatProgress(value=0.0, max=664.0), HTML(value='')))",
      "application/vnd.jupyter.widget-view+json": {
       "version_major": 2,
       "version_minor": 0,
       "model_id": "e1cccf48408a4bb68c2e1964a560475a"
      }
     },
     "metadata": {}
    },
    {
     "output_type": "stream",
     "name": "stdout",
     "text": [
      "\n",
      "\n",
      "5d27075f03f801723c2e360f_timediff_1000_train.csv : 23666\n"
     ]
    },
    {
     "output_type": "display_data",
     "data": {
      "text/plain": "HBox(children=(HTML(value=''), FloatProgress(value=0.0, max=1139.0), HTML(value='')))",
      "application/vnd.jupyter.widget-view+json": {
       "version_major": 2,
       "version_minor": 0,
       "model_id": "5ea7937e009440a6bf7751f8e880ec3e"
      }
     },
     "metadata": {}
    },
    {
     "output_type": "stream",
     "name": "stdout",
     "text": [
      "\n",
      "\n",
      "\n",
      "\n",
      "\n",
      "\n",
      "\n",
      "\n",
      "\n",
      "\n",
      "\n",
      "\n",
      "\n",
      "\n",
      "\n",
      "\n",
      "\n",
      "\n",
      "\n",
      "\n",
      "\n",
      "\n"
     ]
    }
   ],
   "source": [
    "with Pool(processes=24) as pool:\n",
    "    pool.map(make_dataset_for_train, train_files)"
   ]
  },
  {
   "cell_type": "code",
   "execution_count": 15,
   "metadata": {},
   "outputs": [],
   "source": [
    "def make_dataset_for_test(test_file):\n",
    "    train = pd.read_csv(test_file)\n",
    "\n",
    "    file_name = test_file.split('/')[-1]\n",
    "\n",
    "    num_of_lines = train.shape[0]\n",
    "    print(f'{file_name} : {num_of_lines}')\n",
    "\n",
    "    data = None\n",
    "    for i in tqdm(range(num_of_lines)):\n",
    "\n",
    "        tmp = train.iloc[i,1:-2].astype(int).sort_values(ascending=False).head(100)\n",
    "        target = train.iloc[i, -2:]\n",
    "\n",
    "        line = pd.concat([pd.Series(tmp.index.astype(str)), tmp.astype(int), pd.Series(target)])\n",
    "        line.index = [str(i) for i in range(202)]\n",
    "        if data is None:\n",
    "            data = pd.DataFrame(line).T\n",
    "            data.columns = [str(i) for i in range(202)]\n",
    "        else:\n",
    "            data = data.append(line, ignore_index=True)\n",
    "    data.columns = [f'bssid_{str(i)}' for i in range(100)] + [f'rssi_{str(i)}' for i in range(100)] + ['site_path_timestamp', 'time_diff']\n",
    "    data.to_csv(output_dir + file_name, index=False)"
   ]
  },
  {
   "cell_type": "code",
   "execution_count": 17,
   "metadata": {},
   "outputs": [
    {
     "output_type": "stream",
     "name": "stdout",
     "text": [
      "5da138274db8ce0c98bbd3d2_timediff_1000_test.csv : 103\n",
      "5da1389e4db8ce0c98bd0547_timediff_1000_test.csv : 1745d27099f03f801723c32511d_timediff_1000_test.csv : 49\n",
      "\n",
      "5da138364db8ce0c98bc00f1_timediff_1000_test.csv : 139\n"
     ]
    },
    {
     "output_type": "display_data",
     "data": {
      "text/plain": "HBox(children=(HTML(value=''), FloatProgress(value=0.0, max=49.0), HTML(value='')))",
      "application/vnd.jupyter.widget-view+json": {
       "version_major": 2,
       "version_minor": 0,
       "model_id": "0b7087e6560d46dd820241a1b64be732"
      }
     },
     "metadata": {}
    },
    {
     "output_type": "stream",
     "name": "stdout",
     "text": [
      "5d2709a003f801723c3251bf_timediff_1000_test.csv : 218\n",
      "5da138314db8ce0c98bbf3a0_timediff_1000_test.csv : 171"
     ]
    },
    {
     "output_type": "display_data",
     "data": {
      "text/plain": "HBox(children=(HTML(value=''), FloatProgress(value=0.0, max=103.0), HTML(value='')))",
      "application/vnd.jupyter.widget-view+json": {
       "version_major": 2,
       "version_minor": 0,
       "model_id": "cd971e370cec4beea9b0be82ea231842"
      }
     },
     "metadata": {}
    },
    {
     "output_type": "display_data",
     "data": {
      "text/plain": "HBox(children=(HTML(value=''), FloatProgress(value=0.0, max=174.0), HTML(value='')))",
      "application/vnd.jupyter.widget-view+json": {
       "version_major": 2,
       "version_minor": 0,
       "model_id": "b5bab54dc0384548a74065c06bd0e709"
      }
     },
     "metadata": {}
    },
    {
     "output_type": "stream",
     "name": "stdout",
     "text": [
      "\n",
      "5da138754db8ce0c98bca82f_timediff_1000_test.csv : 386\n",
      "5d27096c03f801723c31e5e0_timediff_1000_test.csv : 654\n",
      "5d2709e003f801723c32d896_timediff_1000_test.csv : 531\n"
     ]
    },
    {
     "output_type": "display_data",
     "data": {
      "text/plain": "HBox(children=(HTML(value=''), FloatProgress(value=0.0, max=139.0), HTML(value='')))",
      "application/vnd.jupyter.widget-view+json": {
       "version_major": 2,
       "version_minor": 0,
       "model_id": "b605a6e0a61b4a8ab20ee97d767f16c5"
      }
     },
     "metadata": {}
    },
    {
     "output_type": "stream",
     "name": "stdout",
     "text": [
      "5da1383b4db8ce0c98bc11ab_timediff_1000_test.csv : 380\n"
     ]
    },
    {
     "output_type": "display_data",
     "data": {
      "text/plain": "HBox(children=(HTML(value=''), FloatProgress(value=0.0, max=171.0), HTML(value='')))",
      "application/vnd.jupyter.widget-view+json": {
       "version_major": 2,
       "version_minor": 0,
       "model_id": "9e08e30e33eb42cca43658579a848fd4"
      }
     },
     "metadata": {}
    },
    {
     "output_type": "stream",
     "name": "stdout",
     "text": [
      "5d27097f03f801723c320d97_timediff_1000_test.csv : 303\n",
      "5da138764db8ce0c98bcaa46_timediff_1000_test.csv : 573\n",
      "5c3c44b80379370013e0fd2b_timediff_1000_test.csv : 26\n"
     ]
    },
    {
     "output_type": "display_data",
     "data": {
      "text/plain": "HBox(children=(HTML(value=''), FloatProgress(value=0.0, max=531.0), HTML(value='')))",
      "application/vnd.jupyter.widget-view+json": {
       "version_major": 2,
       "version_minor": 0,
       "model_id": "3bb5e1b14eac4788966d50550a8d07a3"
      }
     },
     "metadata": {}
    },
    {
     "output_type": "display_data",
     "data": {
      "text/plain": "HBox(children=(HTML(value=''), FloatProgress(value=0.0, max=654.0), HTML(value='')))",
      "application/vnd.jupyter.widget-view+json": {
       "version_major": 2,
       "version_minor": 0,
       "model_id": "8a4824da533e4803a70a46e4c163b62b"
      }
     },
     "metadata": {}
    },
    {
     "output_type": "display_data",
     "data": {
      "text/plain": "HBox(children=(HTML(value=''), FloatProgress(value=0.0, max=218.0), HTML(value='')))",
      "application/vnd.jupyter.widget-view+json": {
       "version_major": 2,
       "version_minor": 0,
       "model_id": "d1e73d6f775c4d709daabc9e65730e2b"
      }
     },
     "metadata": {}
    },
    {
     "output_type": "display_data",
     "data": {
      "text/plain": "HBox(children=(HTML(value=''), FloatProgress(value=0.0, max=386.0), HTML(value='')))",
      "application/vnd.jupyter.widget-view+json": {
       "version_major": 2,
       "version_minor": 0,
       "model_id": "2aec1e99c0c64022a65a8c3070b8bf64"
      }
     },
     "metadata": {}
    },
    {
     "output_type": "display_data",
     "data": {
      "text/plain": "HBox(children=(HTML(value=''), FloatProgress(value=0.0, max=573.0), HTML(value='')))",
      "application/vnd.jupyter.widget-view+json": {
       "version_major": 2,
       "version_minor": 0,
       "model_id": "daa40e17237548bebc8a03b223d1274b"
      }
     },
     "metadata": {}
    },
    {
     "output_type": "display_data",
     "data": {
      "text/plain": "HBox(children=(HTML(value=''), FloatProgress(value=0.0, max=380.0), HTML(value='')))",
      "application/vnd.jupyter.widget-view+json": {
       "version_major": 2,
       "version_minor": 0,
       "model_id": "630fca921a55450ea13e83a77b431b0e"
      }
     },
     "metadata": {}
    },
    {
     "output_type": "stream",
     "name": "stdout",
     "text": [
      "5d2709b303f801723c327472_timediff_1000_test.csv : 527\n"
     ]
    },
    {
     "output_type": "display_data",
     "data": {
      "text/plain": "HBox(children=(HTML(value=''), FloatProgress(value=0.0, max=26.0), HTML(value='')))",
      "application/vnd.jupyter.widget-view+json": {
       "version_major": 2,
       "version_minor": 0,
       "model_id": "32fcf914c4b347f2b8140de9b705f29e"
      }
     },
     "metadata": {}
    },
    {
     "output_type": "stream",
     "name": "stdout",
     "text": [
      "5da1382d4db8ce0c98bbe92e_timediff_1000_test.csv : 311\n"
     ]
    },
    {
     "output_type": "display_data",
     "data": {
      "text/plain": "HBox(children=(HTML(value=''), FloatProgress(value=0.0, max=303.0), HTML(value='')))",
      "application/vnd.jupyter.widget-view+json": {
       "version_major": 2,
       "version_minor": 0,
       "model_id": "8d14fa01271f44e5abc300c91df9a30a"
      }
     },
     "metadata": {}
    },
    {
     "output_type": "stream",
     "name": "stdout",
     "text": [
      "5d2709d403f801723c32bd39_timediff_1000_test.csv : 1223\n"
     ]
    },
    {
     "output_type": "display_data",
     "data": {
      "text/plain": "HBox(children=(HTML(value=''), FloatProgress(value=0.0, max=527.0), HTML(value='')))",
      "application/vnd.jupyter.widget-view+json": {
       "version_major": 2,
       "version_minor": 0,
       "model_id": "a465c2c6d61b4028a88c05e50d136108"
      }
     },
     "metadata": {}
    },
    {
     "output_type": "display_data",
     "data": {
      "text/plain": "HBox(children=(HTML(value=''), FloatProgress(value=0.0, max=311.0), HTML(value='')))",
      "application/vnd.jupyter.widget-view+json": {
       "version_major": 2,
       "version_minor": 0,
       "model_id": "5b8e5934a4e34ed1a7586e307ac497e7"
      }
     },
     "metadata": {}
    },
    {
     "output_type": "stream",
     "name": "stdout",
     "text": [
      "5d2709bb03f801723c32852c_timediff_1000_test.csv : 716\n",
      "5a0546857ecc773753327266_timediff_1000_test.csv : 299\n",
      "5d27075f03f801723c2e360f_timediff_1000_test.csv : 47\n"
     ]
    },
    {
     "output_type": "display_data",
     "data": {
      "text/plain": "HBox(children=(HTML(value=''), FloatProgress(value=0.0, max=1223.0), HTML(value='')))",
      "application/vnd.jupyter.widget-view+json": {
       "version_major": 2,
       "version_minor": 0,
       "model_id": "4ce08f5d25a84104a9ce1d9d2e50bfc1"
      }
     },
     "metadata": {}
    },
    {
     "output_type": "stream",
     "name": "stdout",
     "text": [
      "5da138b74db8ce0c98bd4774_timediff_1000_test.csv : 445\n"
     ]
    },
    {
     "output_type": "display_data",
     "data": {
      "text/plain": "HBox(children=(HTML(value=''), FloatProgress(value=0.0, max=716.0), HTML(value='')))",
      "application/vnd.jupyter.widget-view+json": {
       "version_major": 2,
       "version_minor": 0,
       "model_id": "4bf94b3b7f2049b7adcb5d1a991042c6"
      }
     },
     "metadata": {}
    },
    {
     "output_type": "display_data",
     "data": {
      "text/plain": "HBox(children=(HTML(value=''), FloatProgress(value=0.0, max=47.0), HTML(value='')))",
      "application/vnd.jupyter.widget-view+json": {
       "version_major": 2,
       "version_minor": 0,
       "model_id": "4905d56992fa4d0c8146fe72b1466d4f"
      }
     },
     "metadata": {}
    },
    {
     "output_type": "display_data",
     "data": {
      "text/plain": "HBox(children=(HTML(value=''), FloatProgress(value=0.0, max=299.0), HTML(value='')))",
      "application/vnd.jupyter.widget-view+json": {
       "version_major": 2,
       "version_minor": 0,
       "model_id": "c323a63b447640c19592958affb2bb96"
      }
     },
     "metadata": {}
    },
    {
     "output_type": "stream",
     "name": "stdout",
     "text": [
      "5dc8cea7659e181adb076a3f_timediff_1000_test.csv : 648\n"
     ]
    },
    {
     "output_type": "display_data",
     "data": {
      "text/plain": "HBox(children=(HTML(value=''), FloatProgress(value=0.0, max=445.0), HTML(value='')))",
      "application/vnd.jupyter.widget-view+json": {
       "version_major": 2,
       "version_minor": 0,
       "model_id": "e627e64eb55d448db7a5dfcd8b4ad2dc"
      }
     },
     "metadata": {}
    },
    {
     "output_type": "display_data",
     "data": {
      "text/plain": "HBox(children=(HTML(value=''), FloatProgress(value=0.0, max=648.0), HTML(value='')))",
      "application/vnd.jupyter.widget-view+json": {
       "version_major": 2,
       "version_minor": 0,
       "model_id": "5d988a0d3294418c94d3c9e0f0355854"
      }
     },
     "metadata": {}
    },
    {
     "output_type": "stream",
     "name": "stdout",
     "text": [
      "5da958dd46f8266d0737457b_timediff_1000_test.csv : 778\n"
     ]
    },
    {
     "output_type": "display_data",
     "data": {
      "text/plain": "HBox(children=(HTML(value=''), FloatProgress(value=0.0, max=778.0), HTML(value='')))",
      "application/vnd.jupyter.widget-view+json": {
       "version_major": 2,
       "version_minor": 0,
       "model_id": "b1477b27b4a840f8be9018c22f87278c"
      }
     },
     "metadata": {}
    },
    {
     "output_type": "stream",
     "name": "stdout",
     "text": [
      "5dbc1d84c1eb61796cf7c010_timediff_1000_test.csv : 923\n",
      "5d2709c303f801723c3299ee_timediff_1000_test.csv : 509\n"
     ]
    },
    {
     "output_type": "display_data",
     "data": {
      "text/plain": "HBox(children=(HTML(value=''), FloatProgress(value=0.0, max=509.0), HTML(value='')))",
      "application/vnd.jupyter.widget-view+json": {
       "version_major": 2,
       "version_minor": 0,
       "model_id": "d2e4cd9e21034dde8207aa5b7a744ceb"
      }
     },
     "metadata": {}
    },
    {
     "output_type": "display_data",
     "data": {
      "text/plain": "HBox(children=(HTML(value=''), FloatProgress(value=0.0, max=923.0), HTML(value='')))",
      "application/vnd.jupyter.widget-view+json": {
       "version_major": 2,
       "version_minor": 0,
       "model_id": "d6f504c4ba014a05bbabde960c362439"
      }
     },
     "metadata": {}
    },
    {
     "output_type": "stream",
     "name": "stdout",
     "text": [
      "\n",
      "\n",
      "\n",
      "\n",
      "\n",
      "\n",
      "\n",
      "\n",
      "\n",
      "\n",
      "\n",
      "\n",
      "\n",
      "\n",
      "\n",
      "\n",
      "\n",
      "\n",
      "\n",
      "\n",
      "\n",
      "\n",
      "\n",
      "\n"
     ]
    }
   ],
   "source": [
    "with Pool(processes=24) as pool:\n",
    "    pool.map(make_dataset_for_test, test_files)"
   ]
  },
  {
   "cell_type": "code",
   "execution_count": 19,
   "metadata": {},
   "outputs": [],
   "source": [
    "import pickle\n",
    "dfs = []\n",
    "for f in glob.glob(output_dir + '*train.csv'):\n",
    "    site_id = f.split('/')[-1].split('_')[0]\n",
    "    _df = pd.read_csv(f)\n",
    "    _df['site_id'] = site_id\n",
    "    dfs.append(_df)"
   ]
  },
  {
   "cell_type": "code",
   "execution_count": 20,
   "metadata": {},
   "outputs": [],
   "source": [
    "def to_pickle(filename, obj):\n",
    "    with open(filename, mode='wb') as f:\n",
    "        pickle.dump(obj, f)\n",
    "        \n",
    "to_pickle(output_dir + 'train_all.pkl', pd.concat(dfs).reset_index(drop=True))"
   ]
  },
  {
   "cell_type": "code",
   "execution_count": 21,
   "metadata": {},
   "outputs": [],
   "source": [
    "dfs = []\n",
    "for f in glob.glob(output_dir + '*test.csv'):\n",
    "    site_id = f.split('/')[-1].split('_')[0]\n",
    "    _df = pd.read_csv(f)\n",
    "    _df['site_id'] = site_id\n",
    "    dfs.append(_df)"
   ]
  },
  {
   "cell_type": "code",
   "execution_count": 22,
   "metadata": {},
   "outputs": [],
   "source": [
    "to_pickle(output_dir + 'test_all.pkl', pd.concat(dfs).reset_index(drop=True))"
   ]
  },
  {
   "cell_type": "code",
   "execution_count": 3,
   "metadata": {},
   "outputs": [],
   "source": [
    "import os\n",
    "import sys\n",
    "import glob\n",
    "import yaml\n",
    "import pickle\n",
    "from pathlib import Path\n",
    "# waypointを補正したdataset\n",
    "root_dir = Path('../input/')\n",
    "with open(root_dir/'kuto_wifi_dataset_v2/train_all.pkl', 'rb') as f:\n",
    "  train_df = pickle.load(f)"
   ]
  },
  {
   "cell_type": "code",
   "execution_count": 6,
   "metadata": {},
   "outputs": [
    {
     "output_type": "execute_result",
     "data": {
      "text/plain": [
       "                                         bssid_0  \\\n",
       "0       ffe684dfd25a52b046e3108a3f70df46001425f0   \n",
       "1       97e4a381c3a02ed3151bbf41b8fc1fe5815f5387   \n",
       "2       97e4a381c3a02ed3151bbf41b8fc1fe5815f5387   \n",
       "3       97e4a381c3a02ed3151bbf41b8fc1fe5815f5387   \n",
       "4       97e4a381c3a02ed3151bbf41b8fc1fe5815f5387   \n",
       "...                                          ...   \n",
       "258120  993a56b32432fb19bfb4461a0e1a2ead9bcf192f   \n",
       "258121  773cde25cb4e9fd90b11603abd5bf84d83b340e6   \n",
       "258122  993a56b32432fb19bfb4461a0e1a2ead9bcf192f   \n",
       "258123  993a56b32432fb19bfb4461a0e1a2ead9bcf192f   \n",
       "258124  993a56b32432fb19bfb4461a0e1a2ead9bcf192f   \n",
       "\n",
       "                                         bssid_1  \\\n",
       "0       97e4a381c3a02ed3151bbf41b8fc1fe5815f5387   \n",
       "1       5b71ef95e53358c558b78bf3fb152d793729bc8d   \n",
       "2       6b769b9eeb24ff287e6a53736cc7c013d5902901   \n",
       "3       4328f33869766d0f77a9299441556338e4d8a2b9   \n",
       "4       4328f33869766d0f77a9299441556338e4d8a2b9   \n",
       "...                                          ...   \n",
       "258120  773cde25cb4e9fd90b11603abd5bf84d83b340e6   \n",
       "258121  993a56b32432fb19bfb4461a0e1a2ead9bcf192f   \n",
       "258122  773cde25cb4e9fd90b11603abd5bf84d83b340e6   \n",
       "258123  c7d8359344120911f8550487f282c241d93c4750   \n",
       "258124  c7d8359344120911f8550487f282c241d93c4750   \n",
       "\n",
       "                                         bssid_2  \\\n",
       "0       5b71ef95e53358c558b78bf3fb152d793729bc8d   \n",
       "1       cb8f53745c342e2bfd0bf77a5fd8cac6cf303945   \n",
       "2       cb8f53745c342e2bfd0bf77a5fd8cac6cf303945   \n",
       "3       3fef087dd272ab07981a60c9cbf6f27460d1364e   \n",
       "4       5a1a7a8496e5f8b88db082de0b412e447e01fd0b   \n",
       "...                                          ...   \n",
       "258120  19647ac7bb55a673554aa08cafb3b096aac7f32c   \n",
       "258121  19647ac7bb55a673554aa08cafb3b096aac7f32c   \n",
       "258122  c7d8359344120911f8550487f282c241d93c4750   \n",
       "258123  fc27c0656fc13157bb2f58543d51e8ee972fdf66   \n",
       "258124  773cde25cb4e9fd90b11603abd5bf84d83b340e6   \n",
       "\n",
       "                                         bssid_3  \\\n",
       "0       2f85d197aec7bfddfee3f53ae9e1b6ed1fc56e92   \n",
       "1       ffe684dfd25a52b046e3108a3f70df46001425f0   \n",
       "2       4328f33869766d0f77a9299441556338e4d8a2b9   \n",
       "3       5a1a7a8496e5f8b88db082de0b412e447e01fd0b   \n",
       "4       cb8f53745c342e2bfd0bf77a5fd8cac6cf303945   \n",
       "...                                          ...   \n",
       "258120  a4a410696cb935d542d62afd8e8090dbbc341a16   \n",
       "258121  fc27c0656fc13157bb2f58543d51e8ee972fdf66   \n",
       "258122  fc27c0656fc13157bb2f58543d51e8ee972fdf66   \n",
       "258123  773cde25cb4e9fd90b11603abd5bf84d83b340e6   \n",
       "258124  fc27c0656fc13157bb2f58543d51e8ee972fdf66   \n",
       "\n",
       "                                         bssid_4  \\\n",
       "0       4328f33869766d0f77a9299441556338e4d8a2b9   \n",
       "1       6b769b9eeb24ff287e6a53736cc7c013d5902901   \n",
       "2       3fef087dd272ab07981a60c9cbf6f27460d1364e   \n",
       "3       5d82171d37c5296bcaed8c02745540b491d8a284   \n",
       "4       6b769b9eeb24ff287e6a53736cc7c013d5902901   \n",
       "...                                          ...   \n",
       "258120  fc27c0656fc13157bb2f58543d51e8ee972fdf66   \n",
       "258121  a4a410696cb935d542d62afd8e8090dbbc341a16   \n",
       "258122  a4a410696cb935d542d62afd8e8090dbbc341a16   \n",
       "258123  a4a410696cb935d542d62afd8e8090dbbc341a16   \n",
       "258124  a4a410696cb935d542d62afd8e8090dbbc341a16   \n",
       "\n",
       "                                         bssid_5  \\\n",
       "0       df41c761b69993669d4eb875b4474ec44d2372ed   \n",
       "1       7dc49736770ee9073043134656c89a17529f882f   \n",
       "2       5a1a7a8496e5f8b88db082de0b412e447e01fd0b   \n",
       "3       471740ef5065943b791f277ada358f9ffc011645   \n",
       "4       5d82171d37c5296bcaed8c02745540b491d8a284   \n",
       "...                                          ...   \n",
       "258120  c7d8359344120911f8550487f282c241d93c4750   \n",
       "258121  827530050f580378b7aa53fb292dfb8a12b775e1   \n",
       "258122  827530050f580378b7aa53fb292dfb8a12b775e1   \n",
       "258123  064419dd1c862bc6c960b365fed666a1a5ff36a9   \n",
       "258124  827530050f580378b7aa53fb292dfb8a12b775e1   \n",
       "\n",
       "                                         bssid_6  \\\n",
       "0       7dc49736770ee9073043134656c89a17529f882f   \n",
       "1       3fef087dd272ab07981a60c9cbf6f27460d1364e   \n",
       "2       7dc49736770ee9073043134656c89a17529f882f   \n",
       "3       2f85d197aec7bfddfee3f53ae9e1b6ed1fc56e92   \n",
       "4       5b71ef95e53358c558b78bf3fb152d793729bc8d   \n",
       "...                                          ...   \n",
       "258120  26b22cce3b7694a7d765d9cf329b9065f3fb3a3c   \n",
       "258121  c7d8359344120911f8550487f282c241d93c4750   \n",
       "258122  d64eeb8d997e8d87203479556bbb9efaf7e487fd   \n",
       "258123  b08a1d79d6d4bb2ca71336f7e995c7aa1342aa1f   \n",
       "258124  19647ac7bb55a673554aa08cafb3b096aac7f32c   \n",
       "\n",
       "                                         bssid_7  \\\n",
       "0       5a1a7a8496e5f8b88db082de0b412e447e01fd0b   \n",
       "1       5a1a7a8496e5f8b88db082de0b412e447e01fd0b   \n",
       "2       df41c761b69993669d4eb875b4474ec44d2372ed   \n",
       "3       afe423c7bc0641d63c95e232ffd65cae3be95351   \n",
       "4       df41c761b69993669d4eb875b4474ec44d2372ed   \n",
       "...                                          ...   \n",
       "258120  827530050f580378b7aa53fb292dfb8a12b775e1   \n",
       "258121  d64eeb8d997e8d87203479556bbb9efaf7e487fd   \n",
       "258122  18874cb574f0cae84582df367941ad94d877ccbb   \n",
       "258123  3c43188acbcc9704dd3987cf1ef14906f9dbe444   \n",
       "258124  064419dd1c862bc6c960b365fed666a1a5ff36a9   \n",
       "\n",
       "                                         bssid_8  \\\n",
       "0       463d0cfe3748eb70524138ed970f03375e8d1030   \n",
       "1       df41c761b69993669d4eb875b4474ec44d2372ed   \n",
       "2       5b71ef95e53358c558b78bf3fb152d793729bc8d   \n",
       "3       df41c761b69993669d4eb875b4474ec44d2372ed   \n",
       "4       2f85d197aec7bfddfee3f53ae9e1b6ed1fc56e92   \n",
       "...                                          ...   \n",
       "258120  d64eeb8d997e8d87203479556bbb9efaf7e487fd   \n",
       "258121  b08a1d79d6d4bb2ca71336f7e995c7aa1342aa1f   \n",
       "258122  22a52f1717436ee378dc44b6d707a3816a65b5e4   \n",
       "258123  19647ac7bb55a673554aa08cafb3b096aac7f32c   \n",
       "258124  3c43188acbcc9704dd3987cf1ef14906f9dbe444   \n",
       "\n",
       "                                         bssid_9  ...      timestamp  \\\n",
       "0       79179095e63e2b0431e85e3e33b02d95bb135c2e  ...  1571625311855   \n",
       "1       d8b1ff62702e02106553be91dc22a0dcf0e780a7  ...  1571625311855   \n",
       "2       2f85d197aec7bfddfee3f53ae9e1b6ed1fc56e92  ...  1571625320099   \n",
       "3       5b71ef95e53358c558b78bf3fb152d793729bc8d  ...  1571625320099   \n",
       "4       afe423c7bc0641d63c95e232ffd65cae3be95351  ...  1571625320099   \n",
       "...                                          ...  ...            ...   \n",
       "258120  22a52f1717436ee378dc44b6d707a3816a65b5e4  ...  1573822164854   \n",
       "258121  26b22cce3b7694a7d765d9cf329b9065f3fb3a3c  ...  1573822164854   \n",
       "258122  3c43188acbcc9704dd3987cf1ef14906f9dbe444  ...  1573822173051   \n",
       "258123  cdc456af06dec9e63340fdf06b976b04eaa3a4a8  ...  1573822173051   \n",
       "258124  2ee4dca6f3705253eceaeecf2144083b14741d08  ...  1573822173051   \n",
       "\n",
       "                x          y floor floor_str                      path  \\\n",
       "0       68.064926  241.94000     0        F1  5dad1ca1dc3e2c0006606c3f   \n",
       "1       68.064926  241.94000     0        F1  5dad1ca1dc3e2c0006606c3f   \n",
       "2       62.480465  241.71216     0        F1  5dad1ca1dc3e2c0006606c3f   \n",
       "3       62.480465  241.71216     0        F1  5dad1ca1dc3e2c0006606c3f   \n",
       "4       62.480465  241.71216     0        F1  5dad1ca1dc3e2c0006606c3f   \n",
       "...           ...        ...   ...       ...                       ...   \n",
       "258120  12.662716  100.47756     1        F2  5dce9eea5516ad00065f04a7   \n",
       "258121  12.662716  100.47756     1        F2  5dce9eea5516ad00065f04a7   \n",
       "258122   7.799886  107.13921     1        F2  5dce9eea5516ad00065f04a7   \n",
       "258123   7.799886  107.13921     1        F2  5dce9eea5516ad00065f04a7   \n",
       "258124   7.799886  107.13921     1        F2  5dce9eea5516ad00065f04a7   \n",
       "\n",
       "       time_diff     wifi_x      wifi_y                   site_id  \n",
       "0           1952  66.823935  241.889369  5da958dd46f8266d0737457b  \n",
       "1           3900  65.582943  241.838738  5da958dd46f8266d0737457b  \n",
       "2          -2385  64.341952  241.788107  5da958dd46f8266d0737457b  \n",
       "3           -427  62.480465  241.712160  5da958dd46f8266d0737457b  \n",
       "4           1528  62.893219  240.715162  5da958dd46f8266d0737457b  \n",
       "...          ...        ...         ...                       ...  \n",
       "258120       447  12.662716  100.477560  5d27099f03f801723c32511d  \n",
       "258121      2393  11.041773  102.698110  5d27099f03f801723c32511d  \n",
       "258122     -3876   9.961144  104.178477  5d27099f03f801723c32511d  \n",
       "258123     -1946   8.880515  105.658843  5d27099f03f801723c32511d  \n",
       "258124       -17   7.799886  107.139210  5d27099f03f801723c32511d  \n",
       "\n",
       "[258125 rows x 210 columns]"
      ],
      "text/html": "<div>\n<style scoped>\n    .dataframe tbody tr th:only-of-type {\n        vertical-align: middle;\n    }\n\n    .dataframe tbody tr th {\n        vertical-align: top;\n    }\n\n    .dataframe thead th {\n        text-align: right;\n    }\n</style>\n<table border=\"1\" class=\"dataframe\">\n  <thead>\n    <tr style=\"text-align: right;\">\n      <th></th>\n      <th>bssid_0</th>\n      <th>bssid_1</th>\n      <th>bssid_2</th>\n      <th>bssid_3</th>\n      <th>bssid_4</th>\n      <th>bssid_5</th>\n      <th>bssid_6</th>\n      <th>bssid_7</th>\n      <th>bssid_8</th>\n      <th>bssid_9</th>\n      <th>...</th>\n      <th>timestamp</th>\n      <th>x</th>\n      <th>y</th>\n      <th>floor</th>\n      <th>floor_str</th>\n      <th>path</th>\n      <th>time_diff</th>\n      <th>wifi_x</th>\n      <th>wifi_y</th>\n      <th>site_id</th>\n    </tr>\n  </thead>\n  <tbody>\n    <tr>\n      <th>0</th>\n      <td>ffe684dfd25a52b046e3108a3f70df46001425f0</td>\n      <td>97e4a381c3a02ed3151bbf41b8fc1fe5815f5387</td>\n      <td>5b71ef95e53358c558b78bf3fb152d793729bc8d</td>\n      <td>2f85d197aec7bfddfee3f53ae9e1b6ed1fc56e92</td>\n      <td>4328f33869766d0f77a9299441556338e4d8a2b9</td>\n      <td>df41c761b69993669d4eb875b4474ec44d2372ed</td>\n      <td>7dc49736770ee9073043134656c89a17529f882f</td>\n      <td>5a1a7a8496e5f8b88db082de0b412e447e01fd0b</td>\n      <td>463d0cfe3748eb70524138ed970f03375e8d1030</td>\n      <td>79179095e63e2b0431e85e3e33b02d95bb135c2e</td>\n      <td>...</td>\n      <td>1571625311855</td>\n      <td>68.064926</td>\n      <td>241.94000</td>\n      <td>0</td>\n      <td>F1</td>\n      <td>5dad1ca1dc3e2c0006606c3f</td>\n      <td>1952</td>\n      <td>66.823935</td>\n      <td>241.889369</td>\n      <td>5da958dd46f8266d0737457b</td>\n    </tr>\n    <tr>\n      <th>1</th>\n      <td>97e4a381c3a02ed3151bbf41b8fc1fe5815f5387</td>\n      <td>5b71ef95e53358c558b78bf3fb152d793729bc8d</td>\n      <td>cb8f53745c342e2bfd0bf77a5fd8cac6cf303945</td>\n      <td>ffe684dfd25a52b046e3108a3f70df46001425f0</td>\n      <td>6b769b9eeb24ff287e6a53736cc7c013d5902901</td>\n      <td>7dc49736770ee9073043134656c89a17529f882f</td>\n      <td>3fef087dd272ab07981a60c9cbf6f27460d1364e</td>\n      <td>5a1a7a8496e5f8b88db082de0b412e447e01fd0b</td>\n      <td>df41c761b69993669d4eb875b4474ec44d2372ed</td>\n      <td>d8b1ff62702e02106553be91dc22a0dcf0e780a7</td>\n      <td>...</td>\n      <td>1571625311855</td>\n      <td>68.064926</td>\n      <td>241.94000</td>\n      <td>0</td>\n      <td>F1</td>\n      <td>5dad1ca1dc3e2c0006606c3f</td>\n      <td>3900</td>\n      <td>65.582943</td>\n      <td>241.838738</td>\n      <td>5da958dd46f8266d0737457b</td>\n    </tr>\n    <tr>\n      <th>2</th>\n      <td>97e4a381c3a02ed3151bbf41b8fc1fe5815f5387</td>\n      <td>6b769b9eeb24ff287e6a53736cc7c013d5902901</td>\n      <td>cb8f53745c342e2bfd0bf77a5fd8cac6cf303945</td>\n      <td>4328f33869766d0f77a9299441556338e4d8a2b9</td>\n      <td>3fef087dd272ab07981a60c9cbf6f27460d1364e</td>\n      <td>5a1a7a8496e5f8b88db082de0b412e447e01fd0b</td>\n      <td>7dc49736770ee9073043134656c89a17529f882f</td>\n      <td>df41c761b69993669d4eb875b4474ec44d2372ed</td>\n      <td>5b71ef95e53358c558b78bf3fb152d793729bc8d</td>\n      <td>2f85d197aec7bfddfee3f53ae9e1b6ed1fc56e92</td>\n      <td>...</td>\n      <td>1571625320099</td>\n      <td>62.480465</td>\n      <td>241.71216</td>\n      <td>0</td>\n      <td>F1</td>\n      <td>5dad1ca1dc3e2c0006606c3f</td>\n      <td>-2385</td>\n      <td>64.341952</td>\n      <td>241.788107</td>\n      <td>5da958dd46f8266d0737457b</td>\n    </tr>\n    <tr>\n      <th>3</th>\n      <td>97e4a381c3a02ed3151bbf41b8fc1fe5815f5387</td>\n      <td>4328f33869766d0f77a9299441556338e4d8a2b9</td>\n      <td>3fef087dd272ab07981a60c9cbf6f27460d1364e</td>\n      <td>5a1a7a8496e5f8b88db082de0b412e447e01fd0b</td>\n      <td>5d82171d37c5296bcaed8c02745540b491d8a284</td>\n      <td>471740ef5065943b791f277ada358f9ffc011645</td>\n      <td>2f85d197aec7bfddfee3f53ae9e1b6ed1fc56e92</td>\n      <td>afe423c7bc0641d63c95e232ffd65cae3be95351</td>\n      <td>df41c761b69993669d4eb875b4474ec44d2372ed</td>\n      <td>5b71ef95e53358c558b78bf3fb152d793729bc8d</td>\n      <td>...</td>\n      <td>1571625320099</td>\n      <td>62.480465</td>\n      <td>241.71216</td>\n      <td>0</td>\n      <td>F1</td>\n      <td>5dad1ca1dc3e2c0006606c3f</td>\n      <td>-427</td>\n      <td>62.480465</td>\n      <td>241.712160</td>\n      <td>5da958dd46f8266d0737457b</td>\n    </tr>\n    <tr>\n      <th>4</th>\n      <td>97e4a381c3a02ed3151bbf41b8fc1fe5815f5387</td>\n      <td>4328f33869766d0f77a9299441556338e4d8a2b9</td>\n      <td>5a1a7a8496e5f8b88db082de0b412e447e01fd0b</td>\n      <td>cb8f53745c342e2bfd0bf77a5fd8cac6cf303945</td>\n      <td>6b769b9eeb24ff287e6a53736cc7c013d5902901</td>\n      <td>5d82171d37c5296bcaed8c02745540b491d8a284</td>\n      <td>5b71ef95e53358c558b78bf3fb152d793729bc8d</td>\n      <td>df41c761b69993669d4eb875b4474ec44d2372ed</td>\n      <td>2f85d197aec7bfddfee3f53ae9e1b6ed1fc56e92</td>\n      <td>afe423c7bc0641d63c95e232ffd65cae3be95351</td>\n      <td>...</td>\n      <td>1571625320099</td>\n      <td>62.480465</td>\n      <td>241.71216</td>\n      <td>0</td>\n      <td>F1</td>\n      <td>5dad1ca1dc3e2c0006606c3f</td>\n      <td>1528</td>\n      <td>62.893219</td>\n      <td>240.715162</td>\n      <td>5da958dd46f8266d0737457b</td>\n    </tr>\n    <tr>\n      <th>...</th>\n      <td>...</td>\n      <td>...</td>\n      <td>...</td>\n      <td>...</td>\n      <td>...</td>\n      <td>...</td>\n      <td>...</td>\n      <td>...</td>\n      <td>...</td>\n      <td>...</td>\n      <td>...</td>\n      <td>...</td>\n      <td>...</td>\n      <td>...</td>\n      <td>...</td>\n      <td>...</td>\n      <td>...</td>\n      <td>...</td>\n      <td>...</td>\n      <td>...</td>\n      <td>...</td>\n    </tr>\n    <tr>\n      <th>258120</th>\n      <td>993a56b32432fb19bfb4461a0e1a2ead9bcf192f</td>\n      <td>773cde25cb4e9fd90b11603abd5bf84d83b340e6</td>\n      <td>19647ac7bb55a673554aa08cafb3b096aac7f32c</td>\n      <td>a4a410696cb935d542d62afd8e8090dbbc341a16</td>\n      <td>fc27c0656fc13157bb2f58543d51e8ee972fdf66</td>\n      <td>c7d8359344120911f8550487f282c241d93c4750</td>\n      <td>26b22cce3b7694a7d765d9cf329b9065f3fb3a3c</td>\n      <td>827530050f580378b7aa53fb292dfb8a12b775e1</td>\n      <td>d64eeb8d997e8d87203479556bbb9efaf7e487fd</td>\n      <td>22a52f1717436ee378dc44b6d707a3816a65b5e4</td>\n      <td>...</td>\n      <td>1573822164854</td>\n      <td>12.662716</td>\n      <td>100.47756</td>\n      <td>1</td>\n      <td>F2</td>\n      <td>5dce9eea5516ad00065f04a7</td>\n      <td>447</td>\n      <td>12.662716</td>\n      <td>100.477560</td>\n      <td>5d27099f03f801723c32511d</td>\n    </tr>\n    <tr>\n      <th>258121</th>\n      <td>773cde25cb4e9fd90b11603abd5bf84d83b340e6</td>\n      <td>993a56b32432fb19bfb4461a0e1a2ead9bcf192f</td>\n      <td>19647ac7bb55a673554aa08cafb3b096aac7f32c</td>\n      <td>fc27c0656fc13157bb2f58543d51e8ee972fdf66</td>\n      <td>a4a410696cb935d542d62afd8e8090dbbc341a16</td>\n      <td>827530050f580378b7aa53fb292dfb8a12b775e1</td>\n      <td>c7d8359344120911f8550487f282c241d93c4750</td>\n      <td>d64eeb8d997e8d87203479556bbb9efaf7e487fd</td>\n      <td>b08a1d79d6d4bb2ca71336f7e995c7aa1342aa1f</td>\n      <td>26b22cce3b7694a7d765d9cf329b9065f3fb3a3c</td>\n      <td>...</td>\n      <td>1573822164854</td>\n      <td>12.662716</td>\n      <td>100.47756</td>\n      <td>1</td>\n      <td>F2</td>\n      <td>5dce9eea5516ad00065f04a7</td>\n      <td>2393</td>\n      <td>11.041773</td>\n      <td>102.698110</td>\n      <td>5d27099f03f801723c32511d</td>\n    </tr>\n    <tr>\n      <th>258122</th>\n      <td>993a56b32432fb19bfb4461a0e1a2ead9bcf192f</td>\n      <td>773cde25cb4e9fd90b11603abd5bf84d83b340e6</td>\n      <td>c7d8359344120911f8550487f282c241d93c4750</td>\n      <td>fc27c0656fc13157bb2f58543d51e8ee972fdf66</td>\n      <td>a4a410696cb935d542d62afd8e8090dbbc341a16</td>\n      <td>827530050f580378b7aa53fb292dfb8a12b775e1</td>\n      <td>d64eeb8d997e8d87203479556bbb9efaf7e487fd</td>\n      <td>18874cb574f0cae84582df367941ad94d877ccbb</td>\n      <td>22a52f1717436ee378dc44b6d707a3816a65b5e4</td>\n      <td>3c43188acbcc9704dd3987cf1ef14906f9dbe444</td>\n      <td>...</td>\n      <td>1573822173051</td>\n      <td>7.799886</td>\n      <td>107.13921</td>\n      <td>1</td>\n      <td>F2</td>\n      <td>5dce9eea5516ad00065f04a7</td>\n      <td>-3876</td>\n      <td>9.961144</td>\n      <td>104.178477</td>\n      <td>5d27099f03f801723c32511d</td>\n    </tr>\n    <tr>\n      <th>258123</th>\n      <td>993a56b32432fb19bfb4461a0e1a2ead9bcf192f</td>\n      <td>c7d8359344120911f8550487f282c241d93c4750</td>\n      <td>fc27c0656fc13157bb2f58543d51e8ee972fdf66</td>\n      <td>773cde25cb4e9fd90b11603abd5bf84d83b340e6</td>\n      <td>a4a410696cb935d542d62afd8e8090dbbc341a16</td>\n      <td>064419dd1c862bc6c960b365fed666a1a5ff36a9</td>\n      <td>b08a1d79d6d4bb2ca71336f7e995c7aa1342aa1f</td>\n      <td>3c43188acbcc9704dd3987cf1ef14906f9dbe444</td>\n      <td>19647ac7bb55a673554aa08cafb3b096aac7f32c</td>\n      <td>cdc456af06dec9e63340fdf06b976b04eaa3a4a8</td>\n      <td>...</td>\n      <td>1573822173051</td>\n      <td>7.799886</td>\n      <td>107.13921</td>\n      <td>1</td>\n      <td>F2</td>\n      <td>5dce9eea5516ad00065f04a7</td>\n      <td>-1946</td>\n      <td>8.880515</td>\n      <td>105.658843</td>\n      <td>5d27099f03f801723c32511d</td>\n    </tr>\n    <tr>\n      <th>258124</th>\n      <td>993a56b32432fb19bfb4461a0e1a2ead9bcf192f</td>\n      <td>c7d8359344120911f8550487f282c241d93c4750</td>\n      <td>773cde25cb4e9fd90b11603abd5bf84d83b340e6</td>\n      <td>fc27c0656fc13157bb2f58543d51e8ee972fdf66</td>\n      <td>a4a410696cb935d542d62afd8e8090dbbc341a16</td>\n      <td>827530050f580378b7aa53fb292dfb8a12b775e1</td>\n      <td>19647ac7bb55a673554aa08cafb3b096aac7f32c</td>\n      <td>064419dd1c862bc6c960b365fed666a1a5ff36a9</td>\n      <td>3c43188acbcc9704dd3987cf1ef14906f9dbe444</td>\n      <td>2ee4dca6f3705253eceaeecf2144083b14741d08</td>\n      <td>...</td>\n      <td>1573822173051</td>\n      <td>7.799886</td>\n      <td>107.13921</td>\n      <td>1</td>\n      <td>F2</td>\n      <td>5dce9eea5516ad00065f04a7</td>\n      <td>-17</td>\n      <td>7.799886</td>\n      <td>107.139210</td>\n      <td>5d27099f03f801723c32511d</td>\n    </tr>\n  </tbody>\n</table>\n<p>258125 rows × 210 columns</p>\n</div>"
     },
     "metadata": {},
     "execution_count": 6
    }
   ],
   "source": [
    "train_df"
   ]
  },
  {
   "cell_type": "code",
   "execution_count": 11,
   "metadata": {},
   "outputs": [
    {
     "output_type": "execute_result",
     "data": {
      "text/plain": [
       "<AxesSubplot:>"
      ]
     },
     "metadata": {},
     "execution_count": 11
    },
    {
     "output_type": "display_data",
     "data": {
      "text/plain": "<Figure size 432x288 with 1 Axes>",
      "image/svg+xml": "<?xml version=\"1.0\" encoding=\"utf-8\" standalone=\"no\"?>\n<!DOCTYPE svg PUBLIC \"-//W3C//DTD SVG 1.1//EN\"\n  \"http://www.w3.org/Graphics/SVG/1.1/DTD/svg11.dtd\">\n<!-- Created with matplotlib (https://matplotlib.org/) -->\n<svg height=\"248.518125pt\" version=\"1.1\" viewBox=\"0 0 394.375 248.518125\" width=\"394.375pt\" xmlns=\"http://www.w3.org/2000/svg\" xmlns:xlink=\"http://www.w3.org/1999/xlink\">\n <metadata>\n  <rdf:RDF xmlns:cc=\"http://creativecommons.org/ns#\" xmlns:dc=\"http://purl.org/dc/elements/1.1/\" xmlns:rdf=\"http://www.w3.org/1999/02/22-rdf-syntax-ns#\">\n   <cc:Work>\n    <dc:type rdf:resource=\"http://purl.org/dc/dcmitype/StillImage\"/>\n    <dc:date>2021-03-31T20:51:52.279041</dc:date>\n    <dc:format>image/svg+xml</dc:format>\n    <dc:creator>\n     <cc:Agent>\n      <dc:title>Matplotlib v3.3.2, https://matplotlib.org/</dc:title>\n     </cc:Agent>\n    </dc:creator>\n   </cc:Work>\n  </rdf:RDF>\n </metadata>\n <defs>\n  <style type=\"text/css\">*{stroke-linecap:butt;stroke-linejoin:round;}</style>\n </defs>\n <g id=\"figure_1\">\n  <g id=\"patch_1\">\n   <path d=\"M 0 248.518125 \nL 394.375 248.518125 \nL 394.375 0 \nL 0 0 \nz\n\" style=\"fill:none;\"/>\n  </g>\n  <g id=\"axes_1\">\n   <g id=\"patch_2\">\n    <path d=\"M 52.375 224.64 \nL 387.175 224.64 \nL 387.175 7.2 \nL 52.375 7.2 \nz\n\" style=\"fill:#ffffff;\"/>\n   </g>\n   <g id=\"patch_3\">\n    <path clip-path=\"url(#pa6b3a70e8e)\" d=\"M 67.593182 224.64 \nL 73.680455 224.64 \nL 73.680455 224.638255 \nL 67.593182 224.638255 \nz\n\" style=\"fill:#1f77b4;\"/>\n   </g>\n   <g id=\"patch_4\">\n    <path clip-path=\"url(#pa6b3a70e8e)\" d=\"M 73.680455 224.64 \nL 79.767727 224.64 \nL 79.767727 224.638255 \nL 73.680455 224.638255 \nz\n\" style=\"fill:#1f77b4;\"/>\n   </g>\n   <g id=\"patch_5\">\n    <path clip-path=\"url(#pa6b3a70e8e)\" d=\"M 79.767727 224.64 \nL 85.855 224.64 \nL 85.855 224.638255 \nL 79.767727 224.638255 \nz\n\" style=\"fill:#1f77b4;\"/>\n   </g>\n   <g id=\"patch_6\">\n    <path clip-path=\"url(#pa6b3a70e8e)\" d=\"M 85.855 224.64 \nL 91.942273 224.64 \nL 91.942273 224.64 \nL 85.855 224.64 \nz\n\" style=\"fill:#1f77b4;\"/>\n   </g>\n   <g id=\"patch_7\">\n    <path clip-path=\"url(#pa6b3a70e8e)\" d=\"M 91.942273 224.64 \nL 98.029545 224.64 \nL 98.029545 224.638255 \nL 91.942273 224.638255 \nz\n\" style=\"fill:#1f77b4;\"/>\n   </g>\n   <g id=\"patch_8\">\n    <path clip-path=\"url(#pa6b3a70e8e)\" d=\"M 98.029545 224.64 \nL 104.116818 224.64 \nL 104.116818 224.64 \nL 98.029545 224.64 \nz\n\" style=\"fill:#1f77b4;\"/>\n   </g>\n   <g id=\"patch_9\">\n    <path clip-path=\"url(#pa6b3a70e8e)\" d=\"M 104.116818 224.64 \nL 110.204091 224.64 \nL 110.204091 224.638255 \nL 104.116818 224.638255 \nz\n\" style=\"fill:#1f77b4;\"/>\n   </g>\n   <g id=\"patch_10\">\n    <path clip-path=\"url(#pa6b3a70e8e)\" d=\"M 110.204091 224.64 \nL 116.291364 224.64 \nL 116.291364 224.636509 \nL 110.204091 224.636509 \nz\n\" style=\"fill:#1f77b4;\"/>\n   </g>\n   <g id=\"patch_11\">\n    <path clip-path=\"url(#pa6b3a70e8e)\" d=\"M 116.291364 224.64 \nL 122.378636 224.64 \nL 122.378636 224.636509 \nL 116.291364 224.636509 \nz\n\" style=\"fill:#1f77b4;\"/>\n   </g>\n   <g id=\"patch_12\">\n    <path clip-path=\"url(#pa6b3a70e8e)\" d=\"M 122.378636 224.64 \nL 128.465909 224.64 \nL 128.465909 224.636509 \nL 122.378636 224.636509 \nz\n\" style=\"fill:#1f77b4;\"/>\n   </g>\n   <g id=\"patch_13\">\n    <path clip-path=\"url(#pa6b3a70e8e)\" d=\"M 128.465909 224.64 \nL 134.553182 224.64 \nL 134.553182 224.636509 \nL 128.465909 224.636509 \nz\n\" style=\"fill:#1f77b4;\"/>\n   </g>\n   <g id=\"patch_14\">\n    <path clip-path=\"url(#pa6b3a70e8e)\" d=\"M 134.553182 224.64 \nL 140.640455 224.64 \nL 140.640455 224.626036 \nL 134.553182 224.626036 \nz\n\" style=\"fill:#1f77b4;\"/>\n   </g>\n   <g id=\"patch_15\">\n    <path clip-path=\"url(#pa6b3a70e8e)\" d=\"M 140.640455 224.64 \nL 146.727727 224.64 \nL 146.727727 224.6208 \nL 140.640455 224.6208 \nz\n\" style=\"fill:#1f77b4;\"/>\n   </g>\n   <g id=\"patch_16\">\n    <path clip-path=\"url(#pa6b3a70e8e)\" d=\"M 146.727727 224.64 \nL 152.815 224.64 \nL 152.815 224.615563 \nL 146.727727 224.615563 \nz\n\" style=\"fill:#1f77b4;\"/>\n   </g>\n   <g id=\"patch_17\">\n    <path clip-path=\"url(#pa6b3a70e8e)\" d=\"M 152.815 224.64 \nL 158.902273 224.64 \nL 158.902273 224.592872 \nL 152.815 224.592872 \nz\n\" style=\"fill:#1f77b4;\"/>\n   </g>\n   <g id=\"patch_18\">\n    <path clip-path=\"url(#pa6b3a70e8e)\" d=\"M 158.902273 224.64 \nL 164.989545 224.64 \nL 164.989545 224.568435 \nL 158.902273 224.568435 \nz\n\" style=\"fill:#1f77b4;\"/>\n   </g>\n   <g id=\"patch_19\">\n    <path clip-path=\"url(#pa6b3a70e8e)\" d=\"M 164.989545 224.64 \nL 171.076818 224.64 \nL 171.076818 224.545744 \nL 164.989545 224.545744 \nz\n\" style=\"fill:#1f77b4;\"/>\n   </g>\n   <g id=\"patch_20\">\n    <path clip-path=\"url(#pa6b3a70e8e)\" d=\"M 171.076818 224.64 \nL 177.164091 224.64 \nL 177.164091 224.510834 \nL 171.076818 224.510834 \nz\n\" style=\"fill:#1f77b4;\"/>\n   </g>\n   <g id=\"patch_21\">\n    <path clip-path=\"url(#pa6b3a70e8e)\" d=\"M 177.164091 224.64 \nL 183.251364 224.64 \nL 183.251364 224.428797 \nL 177.164091 224.428797 \nz\n\" style=\"fill:#1f77b4;\"/>\n   </g>\n   <g id=\"patch_22\">\n    <path clip-path=\"url(#pa6b3a70e8e)\" d=\"M 183.251364 224.64 \nL 189.338636 224.64 \nL 189.338636 224.332795 \nL 183.251364 224.332795 \nz\n\" style=\"fill:#1f77b4;\"/>\n   </g>\n   <g id=\"patch_23\">\n    <path clip-path=\"url(#pa6b3a70e8e)\" d=\"M 189.338636 224.64 \nL 195.425909 224.64 \nL 195.425909 224.121592 \nL 189.338636 224.121592 \nz\n\" style=\"fill:#1f77b4;\"/>\n   </g>\n   <g id=\"patch_24\">\n    <path clip-path=\"url(#pa6b3a70e8e)\" d=\"M 195.425909 224.64 \nL 201.513182 224.64 \nL 201.513182 222.533203 \nL 195.425909 222.533203 \nz\n\" style=\"fill:#1f77b4;\"/>\n   </g>\n   <g id=\"patch_25\">\n    <path clip-path=\"url(#pa6b3a70e8e)\" d=\"M 201.513182 224.64 \nL 207.600455 224.64 \nL 207.600455 216.535728 \nL 201.513182 216.535728 \nz\n\" style=\"fill:#1f77b4;\"/>\n   </g>\n   <g id=\"patch_26\">\n    <path clip-path=\"url(#pa6b3a70e8e)\" d=\"M 207.600455 224.64 \nL 213.687727 224.64 \nL 213.687727 200.400493 \nL 207.600455 200.400493 \nz\n\" style=\"fill:#1f77b4;\"/>\n   </g>\n   <g id=\"patch_27\">\n    <path clip-path=\"url(#pa6b3a70e8e)\" d=\"M 213.687727 224.64 \nL 219.775 224.64 \nL 219.775 160.495287 \nL 213.687727 160.495287 \nz\n\" style=\"fill:#1f77b4;\"/>\n   </g>\n   <g id=\"patch_28\">\n    <path clip-path=\"url(#pa6b3a70e8e)\" d=\"M 219.775 224.64 \nL 225.862273 224.64 \nL 225.862273 17.554286 \nL 219.775 17.554286 \nz\n\" style=\"fill:#1f77b4;\"/>\n   </g>\n   <g id=\"patch_29\">\n    <path clip-path=\"url(#pa6b3a70e8e)\" d=\"M 225.862273 224.64 \nL 231.949545 224.64 \nL 231.949545 133.747523 \nL 225.862273 133.747523 \nz\n\" style=\"fill:#1f77b4;\"/>\n   </g>\n   <g id=\"patch_30\">\n    <path clip-path=\"url(#pa6b3a70e8e)\" d=\"M 231.949545 224.64 \nL 238.036818 224.64 \nL 238.036818 189.964257 \nL 231.949545 189.964257 \nz\n\" style=\"fill:#1f77b4;\"/>\n   </g>\n   <g id=\"patch_31\">\n    <path clip-path=\"url(#pa6b3a70e8e)\" d=\"M 238.036818 224.64 \nL 244.124091 224.64 \nL 244.124091 212.12315 \nL 238.036818 212.12315 \nz\n\" style=\"fill:#1f77b4;\"/>\n   </g>\n   <g id=\"patch_32\">\n    <path clip-path=\"url(#pa6b3a70e8e)\" d=\"M 244.124091 224.64 \nL 250.211364 224.64 \nL 250.211364 221.169982 \nL 244.124091 221.169982 \nz\n\" style=\"fill:#1f77b4;\"/>\n   </g>\n   <g id=\"patch_33\">\n    <path clip-path=\"url(#pa6b3a70e8e)\" d=\"M 250.211364 224.64 \nL 256.298636 224.64 \nL 256.298636 223.796932 \nL 250.211364 223.796932 \nz\n\" style=\"fill:#1f77b4;\"/>\n   </g>\n   <g id=\"patch_34\">\n    <path clip-path=\"url(#pa6b3a70e8e)\" d=\"M 256.298636 224.64 \nL 262.385909 224.64 \nL 262.385909 224.306613 \nL 256.298636 224.306613 \nz\n\" style=\"fill:#1f77b4;\"/>\n   </g>\n   <g id=\"patch_35\">\n    <path clip-path=\"url(#pa6b3a70e8e)\" d=\"M 262.385909 224.64 \nL 268.473182 224.64 \nL 268.473182 224.407851 \nL 262.385909 224.407851 \nz\n\" style=\"fill:#1f77b4;\"/>\n   </g>\n   <g id=\"patch_36\">\n    <path clip-path=\"url(#pa6b3a70e8e)\" d=\"M 268.473182 224.64 \nL 274.560455 224.64 \nL 274.560455 224.498616 \nL 268.473182 224.498616 \nz\n\" style=\"fill:#1f77b4;\"/>\n   </g>\n   <g id=\"patch_37\">\n    <path clip-path=\"url(#pa6b3a70e8e)\" d=\"M 274.560455 224.64 \nL 280.647727 224.64 \nL 280.647727 224.543998 \nL 274.560455 224.543998 \nz\n\" style=\"fill:#1f77b4;\"/>\n   </g>\n   <g id=\"patch_38\">\n    <path clip-path=\"url(#pa6b3a70e8e)\" d=\"M 280.647727 224.64 \nL 286.735 224.64 \nL 286.735 224.571926 \nL 280.647727 224.571926 \nz\n\" style=\"fill:#1f77b4;\"/>\n   </g>\n   <g id=\"patch_39\">\n    <path clip-path=\"url(#pa6b3a70e8e)\" d=\"M 286.735 224.64 \nL 292.822273 224.64 \nL 292.822273 224.589381 \nL 286.735 224.589381 \nz\n\" style=\"fill:#1f77b4;\"/>\n   </g>\n   <g id=\"patch_40\">\n    <path clip-path=\"url(#pa6b3a70e8e)\" d=\"M 292.822273 224.64 \nL 298.909545 224.64 \nL 298.909545 224.606836 \nL 292.822273 224.606836 \nz\n\" style=\"fill:#1f77b4;\"/>\n   </g>\n   <g id=\"patch_41\">\n    <path clip-path=\"url(#pa6b3a70e8e)\" d=\"M 298.909545 224.64 \nL 304.996818 224.64 \nL 304.996818 224.617309 \nL 298.909545 224.617309 \nz\n\" style=\"fill:#1f77b4;\"/>\n   </g>\n   <g id=\"patch_42\">\n    <path clip-path=\"url(#pa6b3a70e8e)\" d=\"M 304.996818 224.64 \nL 311.084091 224.64 \nL 311.084091 224.627782 \nL 304.996818 224.627782 \nz\n\" style=\"fill:#1f77b4;\"/>\n   </g>\n   <g id=\"patch_43\">\n    <path clip-path=\"url(#pa6b3a70e8e)\" d=\"M 311.084091 224.64 \nL 317.171364 224.64 \nL 317.171364 224.633018 \nL 311.084091 224.633018 \nz\n\" style=\"fill:#1f77b4;\"/>\n   </g>\n   <g id=\"patch_44\">\n    <path clip-path=\"url(#pa6b3a70e8e)\" d=\"M 317.171364 224.64 \nL 323.258636 224.64 \nL 323.258636 224.636509 \nL 317.171364 224.636509 \nz\n\" style=\"fill:#1f77b4;\"/>\n   </g>\n   <g id=\"patch_45\">\n    <path clip-path=\"url(#pa6b3a70e8e)\" d=\"M 323.258636 224.64 \nL 329.345909 224.64 \nL 329.345909 224.636509 \nL 323.258636 224.636509 \nz\n\" style=\"fill:#1f77b4;\"/>\n   </g>\n   <g id=\"patch_46\">\n    <path clip-path=\"url(#pa6b3a70e8e)\" d=\"M 329.345909 224.64 \nL 335.433182 224.64 \nL 335.433182 224.636509 \nL 329.345909 224.636509 \nz\n\" style=\"fill:#1f77b4;\"/>\n   </g>\n   <g id=\"patch_47\">\n    <path clip-path=\"url(#pa6b3a70e8e)\" d=\"M 335.433182 224.64 \nL 341.520455 224.64 \nL 341.520455 224.64 \nL 335.433182 224.64 \nz\n\" style=\"fill:#1f77b4;\"/>\n   </g>\n   <g id=\"patch_48\">\n    <path clip-path=\"url(#pa6b3a70e8e)\" d=\"M 341.520455 224.64 \nL 347.607727 224.64 \nL 347.607727 224.638255 \nL 341.520455 224.638255 \nz\n\" style=\"fill:#1f77b4;\"/>\n   </g>\n   <g id=\"patch_49\">\n    <path clip-path=\"url(#pa6b3a70e8e)\" d=\"M 347.607727 224.64 \nL 353.695 224.64 \nL 353.695 224.64 \nL 347.607727 224.64 \nz\n\" style=\"fill:#1f77b4;\"/>\n   </g>\n   <g id=\"patch_50\">\n    <path clip-path=\"url(#pa6b3a70e8e)\" d=\"M 353.695 224.64 \nL 359.782273 224.64 \nL 359.782273 224.638255 \nL 353.695 224.638255 \nz\n\" style=\"fill:#1f77b4;\"/>\n   </g>\n   <g id=\"patch_51\">\n    <path clip-path=\"url(#pa6b3a70e8e)\" d=\"M 359.782273 224.64 \nL 365.869545 224.64 \nL 365.869545 224.638255 \nL 359.782273 224.638255 \nz\n\" style=\"fill:#1f77b4;\"/>\n   </g>\n   <g id=\"patch_52\">\n    <path clip-path=\"url(#pa6b3a70e8e)\" d=\"M 365.869545 224.64 \nL 371.956818 224.64 \nL 371.956818 224.638255 \nL 365.869545 224.638255 \nz\n\" style=\"fill:#1f77b4;\"/>\n   </g>\n   <g id=\"matplotlib.axis_1\">\n    <g id=\"xtick_1\">\n     <g id=\"line2d_1\">\n      <path clip-path=\"url(#pa6b3a70e8e)\" d=\"M 55.963845 224.64 \nL 55.963845 7.2 \n\" style=\"fill:none;stroke:#b0b0b0;stroke-linecap:square;stroke-width:0.8;\"/>\n     </g>\n     <g id=\"line2d_2\">\n      <defs>\n       <path d=\"M 0 0 \nL 0 3.5 \n\" id=\"m7a012a7876\" style=\"stroke:#000000;stroke-width:0.8;\"/>\n      </defs>\n      <g>\n       <use style=\"stroke:#000000;stroke-width:0.8;\" x=\"55.963845\" xlink:href=\"#m7a012a7876\" y=\"224.64\"/>\n      </g>\n     </g>\n     <g id=\"text_1\">\n      <!-- −40 -->\n      <g transform=\"translate(45.411501 239.238437)scale(0.1 -0.1)\">\n       <defs>\n        <path d=\"M 10.59375 35.5 \nL 73.1875 35.5 \nL 73.1875 27.203125 \nL 10.59375 27.203125 \nz\n\" id=\"DejaVuSans-8722\"/>\n        <path d=\"M 37.796875 64.3125 \nL 12.890625 25.390625 \nL 37.796875 25.390625 \nz\nM 35.203125 72.90625 \nL 47.609375 72.90625 \nL 47.609375 25.390625 \nL 58.015625 25.390625 \nL 58.015625 17.1875 \nL 47.609375 17.1875 \nL 47.609375 0 \nL 37.796875 0 \nL 37.796875 17.1875 \nL 4.890625 17.1875 \nL 4.890625 26.703125 \nz\n\" id=\"DejaVuSans-52\"/>\n        <path d=\"M 31.78125 66.40625 \nQ 24.171875 66.40625 20.328125 58.90625 \nQ 16.5 51.421875 16.5 36.375 \nQ 16.5 21.390625 20.328125 13.890625 \nQ 24.171875 6.390625 31.78125 6.390625 \nQ 39.453125 6.390625 43.28125 13.890625 \nQ 47.125 21.390625 47.125 36.375 \nQ 47.125 51.421875 43.28125 58.90625 \nQ 39.453125 66.40625 31.78125 66.40625 \nz\nM 31.78125 74.21875 \nQ 44.046875 74.21875 50.515625 64.515625 \nQ 56.984375 54.828125 56.984375 36.375 \nQ 56.984375 17.96875 50.515625 8.265625 \nQ 44.046875 -1.421875 31.78125 -1.421875 \nQ 19.53125 -1.421875 13.0625 8.265625 \nQ 6.59375 17.96875 6.59375 36.375 \nQ 6.59375 54.828125 13.0625 64.515625 \nQ 19.53125 74.21875 31.78125 74.21875 \nz\n\" id=\"DejaVuSans-48\"/>\n       </defs>\n       <use xlink:href=\"#DejaVuSans-8722\"/>\n       <use x=\"83.789062\" xlink:href=\"#DejaVuSans-52\"/>\n       <use x=\"147.412109\" xlink:href=\"#DejaVuSans-48\"/>\n      </g>\n     </g>\n    </g>\n    <g id=\"xtick_2\">\n     <g id=\"line2d_3\">\n      <path clip-path=\"url(#pa6b3a70e8e)\" d=\"M 97.944889 224.64 \nL 97.944889 7.2 \n\" style=\"fill:none;stroke:#b0b0b0;stroke-linecap:square;stroke-width:0.8;\"/>\n     </g>\n     <g id=\"line2d_4\">\n      <g>\n       <use style=\"stroke:#000000;stroke-width:0.8;\" x=\"97.944889\" xlink:href=\"#m7a012a7876\" y=\"224.64\"/>\n      </g>\n     </g>\n     <g id=\"text_2\">\n      <!-- −30 -->\n      <g transform=\"translate(87.392545 239.238437)scale(0.1 -0.1)\">\n       <defs>\n        <path d=\"M 40.578125 39.3125 \nQ 47.65625 37.796875 51.625 33 \nQ 55.609375 28.21875 55.609375 21.1875 \nQ 55.609375 10.40625 48.1875 4.484375 \nQ 40.765625 -1.421875 27.09375 -1.421875 \nQ 22.515625 -1.421875 17.65625 -0.515625 \nQ 12.796875 0.390625 7.625 2.203125 \nL 7.625 11.71875 \nQ 11.71875 9.328125 16.59375 8.109375 \nQ 21.484375 6.890625 26.8125 6.890625 \nQ 36.078125 6.890625 40.9375 10.546875 \nQ 45.796875 14.203125 45.796875 21.1875 \nQ 45.796875 27.640625 41.28125 31.265625 \nQ 36.765625 34.90625 28.71875 34.90625 \nL 20.21875 34.90625 \nL 20.21875 43.015625 \nL 29.109375 43.015625 \nQ 36.375 43.015625 40.234375 45.921875 \nQ 44.09375 48.828125 44.09375 54.296875 \nQ 44.09375 59.90625 40.109375 62.90625 \nQ 36.140625 65.921875 28.71875 65.921875 \nQ 24.65625 65.921875 20.015625 65.03125 \nQ 15.375 64.15625 9.8125 62.3125 \nL 9.8125 71.09375 \nQ 15.4375 72.65625 20.34375 73.4375 \nQ 25.25 74.21875 29.59375 74.21875 \nQ 40.828125 74.21875 47.359375 69.109375 \nQ 53.90625 64.015625 53.90625 55.328125 \nQ 53.90625 49.265625 50.4375 45.09375 \nQ 46.96875 40.921875 40.578125 39.3125 \nz\n\" id=\"DejaVuSans-51\"/>\n       </defs>\n       <use xlink:href=\"#DejaVuSans-8722\"/>\n       <use x=\"83.789062\" xlink:href=\"#DejaVuSans-51\"/>\n       <use x=\"147.412109\" xlink:href=\"#DejaVuSans-48\"/>\n      </g>\n     </g>\n    </g>\n    <g id=\"xtick_3\">\n     <g id=\"line2d_5\">\n      <path clip-path=\"url(#pa6b3a70e8e)\" d=\"M 139.925933 224.64 \nL 139.925933 7.2 \n\" style=\"fill:none;stroke:#b0b0b0;stroke-linecap:square;stroke-width:0.8;\"/>\n     </g>\n     <g id=\"line2d_6\">\n      <g>\n       <use style=\"stroke:#000000;stroke-width:0.8;\" x=\"139.925933\" xlink:href=\"#m7a012a7876\" y=\"224.64\"/>\n      </g>\n     </g>\n     <g id=\"text_3\">\n      <!-- −20 -->\n      <g transform=\"translate(129.37359 239.238437)scale(0.1 -0.1)\">\n       <defs>\n        <path d=\"M 19.1875 8.296875 \nL 53.609375 8.296875 \nL 53.609375 0 \nL 7.328125 0 \nL 7.328125 8.296875 \nQ 12.9375 14.109375 22.625 23.890625 \nQ 32.328125 33.6875 34.8125 36.53125 \nQ 39.546875 41.84375 41.421875 45.53125 \nQ 43.3125 49.21875 43.3125 52.78125 \nQ 43.3125 58.59375 39.234375 62.25 \nQ 35.15625 65.921875 28.609375 65.921875 \nQ 23.96875 65.921875 18.8125 64.3125 \nQ 13.671875 62.703125 7.8125 59.421875 \nL 7.8125 69.390625 \nQ 13.765625 71.78125 18.9375 73 \nQ 24.125 74.21875 28.421875 74.21875 \nQ 39.75 74.21875 46.484375 68.546875 \nQ 53.21875 62.890625 53.21875 53.421875 \nQ 53.21875 48.921875 51.53125 44.890625 \nQ 49.859375 40.875 45.40625 35.40625 \nQ 44.1875 33.984375 37.640625 27.21875 \nQ 31.109375 20.453125 19.1875 8.296875 \nz\n\" id=\"DejaVuSans-50\"/>\n       </defs>\n       <use xlink:href=\"#DejaVuSans-8722\"/>\n       <use x=\"83.789062\" xlink:href=\"#DejaVuSans-50\"/>\n       <use x=\"147.412109\" xlink:href=\"#DejaVuSans-48\"/>\n      </g>\n     </g>\n    </g>\n    <g id=\"xtick_4\">\n     <g id=\"line2d_7\">\n      <path clip-path=\"url(#pa6b3a70e8e)\" d=\"M 181.906978 224.64 \nL 181.906978 7.2 \n\" style=\"fill:none;stroke:#b0b0b0;stroke-linecap:square;stroke-width:0.8;\"/>\n     </g>\n     <g id=\"line2d_8\">\n      <g>\n       <use style=\"stroke:#000000;stroke-width:0.8;\" x=\"181.906978\" xlink:href=\"#m7a012a7876\" y=\"224.64\"/>\n      </g>\n     </g>\n     <g id=\"text_4\">\n      <!-- −10 -->\n      <g transform=\"translate(171.354634 239.238437)scale(0.1 -0.1)\">\n       <defs>\n        <path d=\"M 12.40625 8.296875 \nL 28.515625 8.296875 \nL 28.515625 63.921875 \nL 10.984375 60.40625 \nL 10.984375 69.390625 \nL 28.421875 72.90625 \nL 38.28125 72.90625 \nL 38.28125 8.296875 \nL 54.390625 8.296875 \nL 54.390625 0 \nL 12.40625 0 \nz\n\" id=\"DejaVuSans-49\"/>\n       </defs>\n       <use xlink:href=\"#DejaVuSans-8722\"/>\n       <use x=\"83.789062\" xlink:href=\"#DejaVuSans-49\"/>\n       <use x=\"147.412109\" xlink:href=\"#DejaVuSans-48\"/>\n      </g>\n     </g>\n    </g>\n    <g id=\"xtick_5\">\n     <g id=\"line2d_9\">\n      <path clip-path=\"url(#pa6b3a70e8e)\" d=\"M 223.888022 224.64 \nL 223.888022 7.2 \n\" style=\"fill:none;stroke:#b0b0b0;stroke-linecap:square;stroke-width:0.8;\"/>\n     </g>\n     <g id=\"line2d_10\">\n      <g>\n       <use style=\"stroke:#000000;stroke-width:0.8;\" x=\"223.888022\" xlink:href=\"#m7a012a7876\" y=\"224.64\"/>\n      </g>\n     </g>\n     <g id=\"text_5\">\n      <!-- 0 -->\n      <g transform=\"translate(220.706772 239.238437)scale(0.1 -0.1)\">\n       <use xlink:href=\"#DejaVuSans-48\"/>\n      </g>\n     </g>\n    </g>\n    <g id=\"xtick_6\">\n     <g id=\"line2d_11\">\n      <path clip-path=\"url(#pa6b3a70e8e)\" d=\"M 265.869066 224.64 \nL 265.869066 7.2 \n\" style=\"fill:none;stroke:#b0b0b0;stroke-linecap:square;stroke-width:0.8;\"/>\n     </g>\n     <g id=\"line2d_12\">\n      <g>\n       <use style=\"stroke:#000000;stroke-width:0.8;\" x=\"265.869066\" xlink:href=\"#m7a012a7876\" y=\"224.64\"/>\n      </g>\n     </g>\n     <g id=\"text_6\">\n      <!-- 10 -->\n      <g transform=\"translate(259.506566 239.238437)scale(0.1 -0.1)\">\n       <use xlink:href=\"#DejaVuSans-49\"/>\n       <use x=\"63.623047\" xlink:href=\"#DejaVuSans-48\"/>\n      </g>\n     </g>\n    </g>\n    <g id=\"xtick_7\">\n     <g id=\"line2d_13\">\n      <path clip-path=\"url(#pa6b3a70e8e)\" d=\"M 307.850111 224.64 \nL 307.850111 7.2 \n\" style=\"fill:none;stroke:#b0b0b0;stroke-linecap:square;stroke-width:0.8;\"/>\n     </g>\n     <g id=\"line2d_14\">\n      <g>\n       <use style=\"stroke:#000000;stroke-width:0.8;\" x=\"307.850111\" xlink:href=\"#m7a012a7876\" y=\"224.64\"/>\n      </g>\n     </g>\n     <g id=\"text_7\">\n      <!-- 20 -->\n      <g transform=\"translate(301.487611 239.238437)scale(0.1 -0.1)\">\n       <use xlink:href=\"#DejaVuSans-50\"/>\n       <use x=\"63.623047\" xlink:href=\"#DejaVuSans-48\"/>\n      </g>\n     </g>\n    </g>\n    <g id=\"xtick_8\">\n     <g id=\"line2d_15\">\n      <path clip-path=\"url(#pa6b3a70e8e)\" d=\"M 349.831155 224.64 \nL 349.831155 7.2 \n\" style=\"fill:none;stroke:#b0b0b0;stroke-linecap:square;stroke-width:0.8;\"/>\n     </g>\n     <g id=\"line2d_16\">\n      <g>\n       <use style=\"stroke:#000000;stroke-width:0.8;\" x=\"349.831155\" xlink:href=\"#m7a012a7876\" y=\"224.64\"/>\n      </g>\n     </g>\n     <g id=\"text_8\">\n      <!-- 30 -->\n      <g transform=\"translate(343.468655 239.238437)scale(0.1 -0.1)\">\n       <use xlink:href=\"#DejaVuSans-51\"/>\n       <use x=\"63.623047\" xlink:href=\"#DejaVuSans-48\"/>\n      </g>\n     </g>\n    </g>\n   </g>\n   <g id=\"matplotlib.axis_2\">\n    <g id=\"ytick_1\">\n     <g id=\"line2d_17\">\n      <path clip-path=\"url(#pa6b3a70e8e)\" d=\"M 52.375 224.64 \nL 387.175 224.64 \n\" style=\"fill:none;stroke:#b0b0b0;stroke-linecap:square;stroke-width:0.8;\"/>\n     </g>\n     <g id=\"line2d_18\">\n      <defs>\n       <path d=\"M 0 0 \nL -3.5 0 \n\" id=\"me6326fb233\" style=\"stroke:#000000;stroke-width:0.8;\"/>\n      </defs>\n      <g>\n       <use style=\"stroke:#000000;stroke-width:0.8;\" x=\"52.375\" xlink:href=\"#me6326fb233\" y=\"224.64\"/>\n      </g>\n     </g>\n     <g id=\"text_9\">\n      <!-- 0 -->\n      <g transform=\"translate(39.0125 228.439219)scale(0.1 -0.1)\">\n       <use xlink:href=\"#DejaVuSans-48\"/>\n      </g>\n     </g>\n    </g>\n    <g id=\"ytick_2\">\n     <g id=\"line2d_19\">\n      <path clip-path=\"url(#pa6b3a70e8e)\" d=\"M 52.375 189.730363 \nL 387.175 189.730363 \n\" style=\"fill:none;stroke:#b0b0b0;stroke-linecap:square;stroke-width:0.8;\"/>\n     </g>\n     <g id=\"line2d_20\">\n      <g>\n       <use style=\"stroke:#000000;stroke-width:0.8;\" x=\"52.375\" xlink:href=\"#me6326fb233\" y=\"189.730363\"/>\n      </g>\n     </g>\n     <g id=\"text_10\">\n      <!-- 20000 -->\n      <g transform=\"translate(13.5625 193.529581)scale(0.1 -0.1)\">\n       <use xlink:href=\"#DejaVuSans-50\"/>\n       <use x=\"63.623047\" xlink:href=\"#DejaVuSans-48\"/>\n       <use x=\"127.246094\" xlink:href=\"#DejaVuSans-48\"/>\n       <use x=\"190.869141\" xlink:href=\"#DejaVuSans-48\"/>\n       <use x=\"254.492188\" xlink:href=\"#DejaVuSans-48\"/>\n      </g>\n     </g>\n    </g>\n    <g id=\"ytick_3\">\n     <g id=\"line2d_21\">\n      <path clip-path=\"url(#pa6b3a70e8e)\" d=\"M 52.375 154.820725 \nL 387.175 154.820725 \n\" style=\"fill:none;stroke:#b0b0b0;stroke-linecap:square;stroke-width:0.8;\"/>\n     </g>\n     <g id=\"line2d_22\">\n      <g>\n       <use style=\"stroke:#000000;stroke-width:0.8;\" x=\"52.375\" xlink:href=\"#me6326fb233\" y=\"154.820725\"/>\n      </g>\n     </g>\n     <g id=\"text_11\">\n      <!-- 40000 -->\n      <g transform=\"translate(13.5625 158.619944)scale(0.1 -0.1)\">\n       <use xlink:href=\"#DejaVuSans-52\"/>\n       <use x=\"63.623047\" xlink:href=\"#DejaVuSans-48\"/>\n       <use x=\"127.246094\" xlink:href=\"#DejaVuSans-48\"/>\n       <use x=\"190.869141\" xlink:href=\"#DejaVuSans-48\"/>\n       <use x=\"254.492188\" xlink:href=\"#DejaVuSans-48\"/>\n      </g>\n     </g>\n    </g>\n    <g id=\"ytick_4\">\n     <g id=\"line2d_23\">\n      <path clip-path=\"url(#pa6b3a70e8e)\" d=\"M 52.375 119.911088 \nL 387.175 119.911088 \n\" style=\"fill:none;stroke:#b0b0b0;stroke-linecap:square;stroke-width:0.8;\"/>\n     </g>\n     <g id=\"line2d_24\">\n      <g>\n       <use style=\"stroke:#000000;stroke-width:0.8;\" x=\"52.375\" xlink:href=\"#me6326fb233\" y=\"119.911088\"/>\n      </g>\n     </g>\n     <g id=\"text_12\">\n      <!-- 60000 -->\n      <g transform=\"translate(13.5625 123.710307)scale(0.1 -0.1)\">\n       <defs>\n        <path d=\"M 33.015625 40.375 \nQ 26.375 40.375 22.484375 35.828125 \nQ 18.609375 31.296875 18.609375 23.390625 \nQ 18.609375 15.53125 22.484375 10.953125 \nQ 26.375 6.390625 33.015625 6.390625 \nQ 39.65625 6.390625 43.53125 10.953125 \nQ 47.40625 15.53125 47.40625 23.390625 \nQ 47.40625 31.296875 43.53125 35.828125 \nQ 39.65625 40.375 33.015625 40.375 \nz\nM 52.59375 71.296875 \nL 52.59375 62.3125 \nQ 48.875 64.0625 45.09375 64.984375 \nQ 41.3125 65.921875 37.59375 65.921875 \nQ 27.828125 65.921875 22.671875 59.328125 \nQ 17.53125 52.734375 16.796875 39.40625 \nQ 19.671875 43.65625 24.015625 45.921875 \nQ 28.375 48.1875 33.59375 48.1875 \nQ 44.578125 48.1875 50.953125 41.515625 \nQ 57.328125 34.859375 57.328125 23.390625 \nQ 57.328125 12.15625 50.6875 5.359375 \nQ 44.046875 -1.421875 33.015625 -1.421875 \nQ 20.359375 -1.421875 13.671875 8.265625 \nQ 6.984375 17.96875 6.984375 36.375 \nQ 6.984375 53.65625 15.1875 63.9375 \nQ 23.390625 74.21875 37.203125 74.21875 \nQ 40.921875 74.21875 44.703125 73.484375 \nQ 48.484375 72.75 52.59375 71.296875 \nz\n\" id=\"DejaVuSans-54\"/>\n       </defs>\n       <use xlink:href=\"#DejaVuSans-54\"/>\n       <use x=\"63.623047\" xlink:href=\"#DejaVuSans-48\"/>\n       <use x=\"127.246094\" xlink:href=\"#DejaVuSans-48\"/>\n       <use x=\"190.869141\" xlink:href=\"#DejaVuSans-48\"/>\n       <use x=\"254.492188\" xlink:href=\"#DejaVuSans-48\"/>\n      </g>\n     </g>\n    </g>\n    <g id=\"ytick_5\">\n     <g id=\"line2d_25\">\n      <path clip-path=\"url(#pa6b3a70e8e)\" d=\"M 52.375 85.001451 \nL 387.175 85.001451 \n\" style=\"fill:none;stroke:#b0b0b0;stroke-linecap:square;stroke-width:0.8;\"/>\n     </g>\n     <g id=\"line2d_26\">\n      <g>\n       <use style=\"stroke:#000000;stroke-width:0.8;\" x=\"52.375\" xlink:href=\"#me6326fb233\" y=\"85.001451\"/>\n      </g>\n     </g>\n     <g id=\"text_13\">\n      <!-- 80000 -->\n      <g transform=\"translate(13.5625 88.800669)scale(0.1 -0.1)\">\n       <defs>\n        <path d=\"M 31.78125 34.625 \nQ 24.75 34.625 20.71875 30.859375 \nQ 16.703125 27.09375 16.703125 20.515625 \nQ 16.703125 13.921875 20.71875 10.15625 \nQ 24.75 6.390625 31.78125 6.390625 \nQ 38.8125 6.390625 42.859375 10.171875 \nQ 46.921875 13.96875 46.921875 20.515625 \nQ 46.921875 27.09375 42.890625 30.859375 \nQ 38.875 34.625 31.78125 34.625 \nz\nM 21.921875 38.8125 \nQ 15.578125 40.375 12.03125 44.71875 \nQ 8.5 49.078125 8.5 55.328125 \nQ 8.5 64.0625 14.71875 69.140625 \nQ 20.953125 74.21875 31.78125 74.21875 \nQ 42.671875 74.21875 48.875 69.140625 \nQ 55.078125 64.0625 55.078125 55.328125 \nQ 55.078125 49.078125 51.53125 44.71875 \nQ 48 40.375 41.703125 38.8125 \nQ 48.828125 37.15625 52.796875 32.3125 \nQ 56.78125 27.484375 56.78125 20.515625 \nQ 56.78125 9.90625 50.3125 4.234375 \nQ 43.84375 -1.421875 31.78125 -1.421875 \nQ 19.734375 -1.421875 13.25 4.234375 \nQ 6.78125 9.90625 6.78125 20.515625 \nQ 6.78125 27.484375 10.78125 32.3125 \nQ 14.796875 37.15625 21.921875 38.8125 \nz\nM 18.3125 54.390625 \nQ 18.3125 48.734375 21.84375 45.5625 \nQ 25.390625 42.390625 31.78125 42.390625 \nQ 38.140625 42.390625 41.71875 45.5625 \nQ 45.3125 48.734375 45.3125 54.390625 \nQ 45.3125 60.0625 41.71875 63.234375 \nQ 38.140625 66.40625 31.78125 66.40625 \nQ 25.390625 66.40625 21.84375 63.234375 \nQ 18.3125 60.0625 18.3125 54.390625 \nz\n\" id=\"DejaVuSans-56\"/>\n       </defs>\n       <use xlink:href=\"#DejaVuSans-56\"/>\n       <use x=\"63.623047\" xlink:href=\"#DejaVuSans-48\"/>\n       <use x=\"127.246094\" xlink:href=\"#DejaVuSans-48\"/>\n       <use x=\"190.869141\" xlink:href=\"#DejaVuSans-48\"/>\n       <use x=\"254.492188\" xlink:href=\"#DejaVuSans-48\"/>\n      </g>\n     </g>\n    </g>\n    <g id=\"ytick_6\">\n     <g id=\"line2d_27\">\n      <path clip-path=\"url(#pa6b3a70e8e)\" d=\"M 52.375 50.091813 \nL 387.175 50.091813 \n\" style=\"fill:none;stroke:#b0b0b0;stroke-linecap:square;stroke-width:0.8;\"/>\n     </g>\n     <g id=\"line2d_28\">\n      <g>\n       <use style=\"stroke:#000000;stroke-width:0.8;\" x=\"52.375\" xlink:href=\"#me6326fb233\" y=\"50.091813\"/>\n      </g>\n     </g>\n     <g id=\"text_14\">\n      <!-- 100000 -->\n      <g transform=\"translate(7.2 53.891032)scale(0.1 -0.1)\">\n       <use xlink:href=\"#DejaVuSans-49\"/>\n       <use x=\"63.623047\" xlink:href=\"#DejaVuSans-48\"/>\n       <use x=\"127.246094\" xlink:href=\"#DejaVuSans-48\"/>\n       <use x=\"190.869141\" xlink:href=\"#DejaVuSans-48\"/>\n       <use x=\"254.492188\" xlink:href=\"#DejaVuSans-48\"/>\n       <use x=\"318.115234\" xlink:href=\"#DejaVuSans-48\"/>\n      </g>\n     </g>\n    </g>\n    <g id=\"ytick_7\">\n     <g id=\"line2d_29\">\n      <path clip-path=\"url(#pa6b3a70e8e)\" d=\"M 52.375 15.182176 \nL 387.175 15.182176 \n\" style=\"fill:none;stroke:#b0b0b0;stroke-linecap:square;stroke-width:0.8;\"/>\n     </g>\n     <g id=\"line2d_30\">\n      <g>\n       <use style=\"stroke:#000000;stroke-width:0.8;\" x=\"52.375\" xlink:href=\"#me6326fb233\" y=\"15.182176\"/>\n      </g>\n     </g>\n     <g id=\"text_15\">\n      <!-- 120000 -->\n      <g transform=\"translate(7.2 18.981395)scale(0.1 -0.1)\">\n       <use xlink:href=\"#DejaVuSans-49\"/>\n       <use x=\"63.623047\" xlink:href=\"#DejaVuSans-50\"/>\n       <use x=\"127.246094\" xlink:href=\"#DejaVuSans-48\"/>\n       <use x=\"190.869141\" xlink:href=\"#DejaVuSans-48\"/>\n       <use x=\"254.492188\" xlink:href=\"#DejaVuSans-48\"/>\n       <use x=\"318.115234\" xlink:href=\"#DejaVuSans-48\"/>\n      </g>\n     </g>\n    </g>\n   </g>\n   <g id=\"patch_53\">\n    <path d=\"M 52.375 224.64 \nL 52.375 7.2 \n\" style=\"fill:none;stroke:#000000;stroke-linecap:square;stroke-linejoin:miter;stroke-width:0.8;\"/>\n   </g>\n   <g id=\"patch_54\">\n    <path d=\"M 387.175 224.64 \nL 387.175 7.2 \n\" style=\"fill:none;stroke:#000000;stroke-linecap:square;stroke-linejoin:miter;stroke-width:0.8;\"/>\n   </g>\n   <g id=\"patch_55\">\n    <path d=\"M 52.375 224.64 \nL 387.175 224.64 \n\" style=\"fill:none;stroke:#000000;stroke-linecap:square;stroke-linejoin:miter;stroke-width:0.8;\"/>\n   </g>\n   <g id=\"patch_56\">\n    <path d=\"M 52.375 7.2 \nL 387.175 7.2 \n\" style=\"fill:none;stroke:#000000;stroke-linecap:square;stroke-linejoin:miter;stroke-width:0.8;\"/>\n   </g>\n  </g>\n </g>\n <defs>\n  <clipPath id=\"pa6b3a70e8e\">\n   <rect height=\"217.44\" width=\"334.8\" x=\"52.375\" y=\"7.2\"/>\n  </clipPath>\n </defs>\n</svg>\n",
      "image/png": "[encoded data removed]"
     },
     "metadata": {
      "needs_background": "light"
     }
    }
   ],
   "source": [
    "(train_df['x'] - train_df['wifi_x']).hist(bins=50)"
   ]
  },
  {
   "cell_type": "code",
   "execution_count": 12,
   "metadata": {},
   "outputs": [
    {
     "output_type": "execute_result",
     "data": {
      "text/plain": [
       "<AxesSubplot:>"
      ]
     },
     "metadata": {},
     "execution_count": 12
    },
    {
     "output_type": "display_data",
     "data": {
      "text/plain": "<Figure size 432x288 with 1 Axes>",
      "image/svg+xml": "<?xml version=\"1.0\" encoding=\"utf-8\" standalone=\"no\"?>\n<!DOCTYPE svg PUBLIC \"-//W3C//DTD SVG 1.1//EN\"\n  \"http://www.w3.org/Graphics/SVG/1.1/DTD/svg11.dtd\">\n<!-- Created with matplotlib (https://matplotlib.org/) -->\n<svg height=\"248.518125pt\" version=\"1.1\" viewBox=\"0 0 396.205455 248.518125\" width=\"396.205455pt\" xmlns=\"http://www.w3.org/2000/svg\" xmlns:xlink=\"http://www.w3.org/1999/xlink\">\n <metadata>\n  <rdf:RDF xmlns:cc=\"http://creativecommons.org/ns#\" xmlns:dc=\"http://purl.org/dc/elements/1.1/\" xmlns:rdf=\"http://www.w3.org/1999/02/22-rdf-syntax-ns#\">\n   <cc:Work>\n    <dc:type rdf:resource=\"http://purl.org/dc/dcmitype/StillImage\"/>\n    <dc:date>2021-03-31T20:52:51.026242</dc:date>\n    <dc:format>image/svg+xml</dc:format>\n    <dc:creator>\n     <cc:Agent>\n      <dc:title>Matplotlib v3.3.2, https://matplotlib.org/</dc:title>\n     </cc:Agent>\n    </dc:creator>\n   </cc:Work>\n  </rdf:RDF>\n </metadata>\n <defs>\n  <style type=\"text/css\">*{stroke-linecap:butt;stroke-linejoin:round;}</style>\n </defs>\n <g id=\"figure_1\">\n  <g id=\"patch_1\">\n   <path d=\"M 0 248.518125 \nL 396.205455 248.518125 \nL 396.205455 0 \nL 0 0 \nz\n\" style=\"fill:none;\"/>\n  </g>\n  <g id=\"axes_1\">\n   <g id=\"patch_2\">\n    <path d=\"M 52.375 224.64 \nL 387.175 224.64 \nL 387.175 7.2 \nL 52.375 7.2 \nz\n\" style=\"fill:#ffffff;\"/>\n   </g>\n   <g id=\"patch_3\">\n    <path clip-path=\"url(#pead1d636f5)\" d=\"M 67.593182 224.64 \nL 73.680455 224.64 \nL 73.680455 224.633646 \nL 67.593182 224.633646 \nz\n\" style=\"fill:#1f77b4;\"/>\n   </g>\n   <g id=\"patch_4\">\n    <path clip-path=\"url(#pead1d636f5)\" d=\"M 73.680455 224.64 \nL 79.767727 224.64 \nL 79.767727 224.637882 \nL 73.680455 224.637882 \nz\n\" style=\"fill:#1f77b4;\"/>\n   </g>\n   <g id=\"patch_5\">\n    <path clip-path=\"url(#pead1d636f5)\" d=\"M 79.767727 224.64 \nL 85.855 224.64 \nL 85.855 224.631528 \nL 79.767727 224.631528 \nz\n\" style=\"fill:#1f77b4;\"/>\n   </g>\n   <g id=\"patch_6\">\n    <path clip-path=\"url(#pead1d636f5)\" d=\"M 85.855 224.64 \nL 91.942273 224.64 \nL 91.942273 224.629409 \nL 85.855 224.629409 \nz\n\" style=\"fill:#1f77b4;\"/>\n   </g>\n   <g id=\"patch_7\">\n    <path clip-path=\"url(#pead1d636f5)\" d=\"M 91.942273 224.64 \nL 98.029545 224.64 \nL 98.029545 224.627291 \nL 91.942273 224.627291 \nz\n\" style=\"fill:#1f77b4;\"/>\n   </g>\n   <g id=\"patch_8\">\n    <path clip-path=\"url(#pead1d636f5)\" d=\"M 98.029545 224.64 \nL 104.116818 224.64 \nL 104.116818 224.625173 \nL 98.029545 224.625173 \nz\n\" style=\"fill:#1f77b4;\"/>\n   </g>\n   <g id=\"patch_9\">\n    <path clip-path=\"url(#pead1d636f5)\" d=\"M 104.116818 224.64 \nL 110.204091 224.64 \nL 110.204091 224.610346 \nL 104.116818 224.610346 \nz\n\" style=\"fill:#1f77b4;\"/>\n   </g>\n   <g id=\"patch_10\">\n    <path clip-path=\"url(#pead1d636f5)\" d=\"M 110.204091 224.64 \nL 116.291364 224.64 \nL 116.291364 224.597638 \nL 110.204091 224.597638 \nz\n\" style=\"fill:#1f77b4;\"/>\n   </g>\n   <g id=\"patch_11\">\n    <path clip-path=\"url(#pead1d636f5)\" d=\"M 116.291364 224.64 \nL 122.378636 224.64 \nL 122.378636 224.587047 \nL 116.291364 224.587047 \nz\n\" style=\"fill:#1f77b4;\"/>\n   </g>\n   <g id=\"patch_12\">\n    <path clip-path=\"url(#pead1d636f5)\" d=\"M 122.378636 224.64 \nL 128.465909 224.64 \nL 128.465909 224.56163 \nL 122.378636 224.56163 \nz\n\" style=\"fill:#1f77b4;\"/>\n   </g>\n   <g id=\"patch_13\">\n    <path clip-path=\"url(#pead1d636f5)\" d=\"M 128.465909 224.64 \nL 134.553182 224.64 \nL 134.553182 224.52774 \nL 128.465909 224.52774 \nz\n\" style=\"fill:#1f77b4;\"/>\n   </g>\n   <g id=\"patch_14\">\n    <path clip-path=\"url(#pead1d636f5)\" d=\"M 134.553182 224.64 \nL 140.640455 224.64 \nL 140.640455 224.443016 \nL 134.553182 224.443016 \nz\n\" style=\"fill:#1f77b4;\"/>\n   </g>\n   <g id=\"patch_15\">\n    <path clip-path=\"url(#pead1d636f5)\" d=\"M 140.640455 224.64 \nL 146.727727 224.64 \nL 146.727727 224.390063 \nL 140.640455 224.390063 \nz\n\" style=\"fill:#1f77b4;\"/>\n   </g>\n   <g id=\"patch_16\">\n    <path clip-path=\"url(#pead1d636f5)\" d=\"M 146.727727 224.64 \nL 152.815 224.64 \nL 152.815 224.315929 \nL 146.727727 224.315929 \nz\n\" style=\"fill:#1f77b4;\"/>\n   </g>\n   <g id=\"patch_17\">\n    <path clip-path=\"url(#pead1d636f5)\" d=\"M 152.815 224.64 \nL 158.902273 224.64 \nL 158.902273 223.92196 \nL 152.815 223.92196 \nz\n\" style=\"fill:#1f77b4;\"/>\n   </g>\n   <g id=\"patch_18\">\n    <path clip-path=\"url(#pead1d636f5)\" d=\"M 158.902273 224.64 \nL 164.989545 224.64 \nL 164.989545 222.684982 \nL 158.902273 222.684982 \nz\n\" style=\"fill:#1f77b4;\"/>\n   </g>\n   <g id=\"patch_19\">\n    <path clip-path=\"url(#pead1d636f5)\" d=\"M 164.989545 224.64 \nL 171.076818 224.64 \nL 171.076818 219.440034 \nL 164.989545 219.440034 \nz\n\" style=\"fill:#1f77b4;\"/>\n   </g>\n   <g id=\"patch_20\">\n    <path clip-path=\"url(#pead1d636f5)\" d=\"M 171.076818 224.64 \nL 177.164091 224.64 \nL 177.164091 213.009446 \nL 171.076818 213.009446 \nz\n\" style=\"fill:#1f77b4;\"/>\n   </g>\n   <g id=\"patch_21\">\n    <path clip-path=\"url(#pead1d636f5)\" d=\"M 177.164091 224.64 \nL 183.251364 224.64 \nL 183.251364 201.789805 \nL 177.164091 201.789805 \nz\n\" style=\"fill:#1f77b4;\"/>\n   </g>\n   <g id=\"patch_22\">\n    <path clip-path=\"url(#pead1d636f5)\" d=\"M 183.251364 224.64 \nL 189.338636 224.64 \nL 189.338636 181.642322 \nL 183.251364 181.642322 \nz\n\" style=\"fill:#1f77b4;\"/>\n   </g>\n   <g id=\"patch_23\">\n    <path clip-path=\"url(#pead1d636f5)\" d=\"M 189.338636 224.64 \nL 195.425909 224.64 \nL 195.425909 136.712925 \nL 189.338636 136.712925 \nz\n\" style=\"fill:#1f77b4;\"/>\n   </g>\n   <g id=\"patch_24\">\n    <path clip-path=\"url(#pead1d636f5)\" d=\"M 195.425909 224.64 \nL 201.513182 224.64 \nL 201.513182 17.554286 \nL 195.425909 17.554286 \nz\n\" style=\"fill:#1f77b4;\"/>\n   </g>\n   <g id=\"patch_25\">\n    <path clip-path=\"url(#pead1d636f5)\" d=\"M 201.513182 224.64 \nL 207.600455 224.64 \nL 207.600455 141.415134 \nL 201.513182 141.415134 \nz\n\" style=\"fill:#1f77b4;\"/>\n   </g>\n   <g id=\"patch_26\">\n    <path clip-path=\"url(#pead1d636f5)\" d=\"M 207.600455 224.64 \nL 213.687727 224.64 \nL 213.687727 183.474489 \nL 207.600455 183.474489 \nz\n\" style=\"fill:#1f77b4;\"/>\n   </g>\n   <g id=\"patch_27\">\n    <path clip-path=\"url(#pead1d636f5)\" d=\"M 213.687727 224.64 \nL 219.775 224.64 \nL 219.775 203.20894 \nL 213.687727 203.20894 \nz\n\" style=\"fill:#1f77b4;\"/>\n   </g>\n   <g id=\"patch_28\">\n    <path clip-path=\"url(#pead1d636f5)\" d=\"M 219.775 224.64 \nL 225.862273 224.64 \nL 225.862273 213.678769 \nL 219.775 213.678769 \nz\n\" style=\"fill:#1f77b4;\"/>\n   </g>\n   <g id=\"patch_29\">\n    <path clip-path=\"url(#pead1d636f5)\" d=\"M 225.862273 224.64 \nL 231.949545 224.64 \nL 231.949545 219.827649 \nL 225.862273 219.827649 \nz\n\" style=\"fill:#1f77b4;\"/>\n   </g>\n   <g id=\"patch_30\">\n    <path clip-path=\"url(#pead1d636f5)\" d=\"M 231.949545 224.64 \nL 238.036818 224.64 \nL 238.036818 222.778179 \nL 231.949545 222.778179 \nz\n\" style=\"fill:#1f77b4;\"/>\n   </g>\n   <g id=\"patch_31\">\n    <path clip-path=\"url(#pead1d636f5)\" d=\"M 238.036818 224.64 \nL 244.124091 224.64 \nL 244.124091 223.98974 \nL 238.036818 223.98974 \nz\n\" style=\"fill:#1f77b4;\"/>\n   </g>\n   <g id=\"patch_32\">\n    <path clip-path=\"url(#pead1d636f5)\" d=\"M 244.124091 224.64 \nL 250.211364 224.64 \nL 250.211364 224.305338 \nL 244.124091 224.305338 \nz\n\" style=\"fill:#1f77b4;\"/>\n   </g>\n   <g id=\"patch_33\">\n    <path clip-path=\"url(#pead1d636f5)\" d=\"M 250.211364 224.64 \nL 256.298636 224.64 \nL 256.298636 224.368882 \nL 250.211364 224.368882 \nz\n\" style=\"fill:#1f77b4;\"/>\n   </g>\n   <g id=\"patch_34\">\n    <path clip-path=\"url(#pead1d636f5)\" d=\"M 256.298636 224.64 \nL 262.385909 224.64 \nL 262.385909 224.466315 \nL 256.298636 224.466315 \nz\n\" style=\"fill:#1f77b4;\"/>\n   </g>\n   <g id=\"patch_35\">\n    <path clip-path=\"url(#pead1d636f5)\" d=\"M 262.385909 224.64 \nL 268.473182 224.64 \nL 268.473182 224.553157 \nL 262.385909 224.553157 \nz\n\" style=\"fill:#1f77b4;\"/>\n   </g>\n   <g id=\"patch_36\">\n    <path clip-path=\"url(#pead1d636f5)\" d=\"M 268.473182 224.64 \nL 274.560455 224.64 \nL 274.560455 224.563748 \nL 268.473182 224.563748 \nz\n\" style=\"fill:#1f77b4;\"/>\n   </g>\n   <g id=\"patch_37\">\n    <path clip-path=\"url(#pead1d636f5)\" d=\"M 274.560455 224.64 \nL 280.647727 224.64 \nL 280.647727 224.59552 \nL 274.560455 224.59552 \nz\n\" style=\"fill:#1f77b4;\"/>\n   </g>\n   <g id=\"patch_38\">\n    <path clip-path=\"url(#pead1d636f5)\" d=\"M 280.647727 224.64 \nL 286.735 224.64 \nL 286.735 224.587047 \nL 280.647727 224.587047 \nz\n\" style=\"fill:#1f77b4;\"/>\n   </g>\n   <g id=\"patch_39\">\n    <path clip-path=\"url(#pead1d636f5)\" d=\"M 286.735 224.64 \nL 292.822273 224.64 \nL 292.822273 224.618819 \nL 286.735 224.618819 \nz\n\" style=\"fill:#1f77b4;\"/>\n   </g>\n   <g id=\"patch_40\">\n    <path clip-path=\"url(#pead1d636f5)\" d=\"M 292.822273 224.64 \nL 298.909545 224.64 \nL 298.909545 224.623055 \nL 292.822273 224.623055 \nz\n\" style=\"fill:#1f77b4;\"/>\n   </g>\n   <g id=\"patch_41\">\n    <path clip-path=\"url(#pead1d636f5)\" d=\"M 298.909545 224.64 \nL 304.996818 224.64 \nL 304.996818 224.633646 \nL 298.909545 224.633646 \nz\n\" style=\"fill:#1f77b4;\"/>\n   </g>\n   <g id=\"patch_42\">\n    <path clip-path=\"url(#pead1d636f5)\" d=\"M 304.996818 224.64 \nL 311.084091 224.64 \nL 311.084091 224.625173 \nL 304.996818 224.625173 \nz\n\" style=\"fill:#1f77b4;\"/>\n   </g>\n   <g id=\"patch_43\">\n    <path clip-path=\"url(#pead1d636f5)\" d=\"M 311.084091 224.64 \nL 317.171364 224.64 \nL 317.171364 224.631528 \nL 311.084091 224.631528 \nz\n\" style=\"fill:#1f77b4;\"/>\n   </g>\n   <g id=\"patch_44\">\n    <path clip-path=\"url(#pead1d636f5)\" d=\"M 317.171364 224.64 \nL 323.258636 224.64 \nL 323.258636 224.635764 \nL 317.171364 224.635764 \nz\n\" style=\"fill:#1f77b4;\"/>\n   </g>\n   <g id=\"patch_45\">\n    <path clip-path=\"url(#pead1d636f5)\" d=\"M 323.258636 224.64 \nL 329.345909 224.64 \nL 329.345909 224.637882 \nL 323.258636 224.637882 \nz\n\" style=\"fill:#1f77b4;\"/>\n   </g>\n   <g id=\"patch_46\">\n    <path clip-path=\"url(#pead1d636f5)\" d=\"M 329.345909 224.64 \nL 335.433182 224.64 \nL 335.433182 224.637882 \nL 329.345909 224.637882 \nz\n\" style=\"fill:#1f77b4;\"/>\n   </g>\n   <g id=\"patch_47\">\n    <path clip-path=\"url(#pead1d636f5)\" d=\"M 335.433182 224.64 \nL 341.520455 224.64 \nL 341.520455 224.637882 \nL 335.433182 224.637882 \nz\n\" style=\"fill:#1f77b4;\"/>\n   </g>\n   <g id=\"patch_48\">\n    <path clip-path=\"url(#pead1d636f5)\" d=\"M 341.520455 224.64 \nL 347.607727 224.64 \nL 347.607727 224.64 \nL 341.520455 224.64 \nz\n\" style=\"fill:#1f77b4;\"/>\n   </g>\n   <g id=\"patch_49\">\n    <path clip-path=\"url(#pead1d636f5)\" d=\"M 347.607727 224.64 \nL 353.695 224.64 \nL 353.695 224.637882 \nL 347.607727 224.637882 \nz\n\" style=\"fill:#1f77b4;\"/>\n   </g>\n   <g id=\"patch_50\">\n    <path clip-path=\"url(#pead1d636f5)\" d=\"M 353.695 224.64 \nL 359.782273 224.64 \nL 359.782273 224.64 \nL 353.695 224.64 \nz\n\" style=\"fill:#1f77b4;\"/>\n   </g>\n   <g id=\"patch_51\">\n    <path clip-path=\"url(#pead1d636f5)\" d=\"M 359.782273 224.64 \nL 365.869545 224.64 \nL 365.869545 224.637882 \nL 359.782273 224.637882 \nz\n\" style=\"fill:#1f77b4;\"/>\n   </g>\n   <g id=\"patch_52\">\n    <path clip-path=\"url(#pead1d636f5)\" d=\"M 365.869545 224.64 \nL 371.956818 224.64 \nL 371.956818 224.637882 \nL 365.869545 224.637882 \nz\n\" style=\"fill:#1f77b4;\"/>\n   </g>\n   <g id=\"matplotlib.axis_1\">\n    <g id=\"xtick_1\">\n     <g id=\"line2d_1\">\n      <path clip-path=\"url(#pead1d636f5)\" d=\"M 75.291236 224.64 \nL 75.291236 7.2 \n\" style=\"fill:none;stroke:#b0b0b0;stroke-linecap:square;stroke-width:0.8;\"/>\n     </g>\n     <g id=\"line2d_2\">\n      <defs>\n       <path d=\"M 0 0 \nL 0 3.5 \n\" id=\"m6973705f56\" style=\"stroke:#000000;stroke-width:0.8;\"/>\n      </defs>\n      <g>\n       <use style=\"stroke:#000000;stroke-width:0.8;\" x=\"75.291236\" xlink:href=\"#m6973705f56\" y=\"224.64\"/>\n      </g>\n     </g>\n     <g id=\"text_1\">\n      <!-- −20 -->\n      <g transform=\"translate(64.738892 239.238437)scale(0.1 -0.1)\">\n       <defs>\n        <path d=\"M 10.59375 35.5 \nL 73.1875 35.5 \nL 73.1875 27.203125 \nL 10.59375 27.203125 \nz\n\" id=\"DejaVuSans-8722\"/>\n        <path d=\"M 19.1875 8.296875 \nL 53.609375 8.296875 \nL 53.609375 0 \nL 7.328125 0 \nL 7.328125 8.296875 \nQ 12.9375 14.109375 22.625 23.890625 \nQ 32.328125 33.6875 34.8125 36.53125 \nQ 39.546875 41.84375 41.421875 45.53125 \nQ 43.3125 49.21875 43.3125 52.78125 \nQ 43.3125 58.59375 39.234375 62.25 \nQ 35.15625 65.921875 28.609375 65.921875 \nQ 23.96875 65.921875 18.8125 64.3125 \nQ 13.671875 62.703125 7.8125 59.421875 \nL 7.8125 69.390625 \nQ 13.765625 71.78125 18.9375 73 \nQ 24.125 74.21875 28.421875 74.21875 \nQ 39.75 74.21875 46.484375 68.546875 \nQ 53.21875 62.890625 53.21875 53.421875 \nQ 53.21875 48.921875 51.53125 44.890625 \nQ 49.859375 40.875 45.40625 35.40625 \nQ 44.1875 33.984375 37.640625 27.21875 \nQ 31.109375 20.453125 19.1875 8.296875 \nz\n\" id=\"DejaVuSans-50\"/>\n        <path d=\"M 31.78125 66.40625 \nQ 24.171875 66.40625 20.328125 58.90625 \nQ 16.5 51.421875 16.5 36.375 \nQ 16.5 21.390625 20.328125 13.890625 \nQ 24.171875 6.390625 31.78125 6.390625 \nQ 39.453125 6.390625 43.28125 13.890625 \nQ 47.125 21.390625 47.125 36.375 \nQ 47.125 51.421875 43.28125 58.90625 \nQ 39.453125 66.40625 31.78125 66.40625 \nz\nM 31.78125 74.21875 \nQ 44.046875 74.21875 50.515625 64.515625 \nQ 56.984375 54.828125 56.984375 36.375 \nQ 56.984375 17.96875 50.515625 8.265625 \nQ 44.046875 -1.421875 31.78125 -1.421875 \nQ 19.53125 -1.421875 13.0625 8.265625 \nQ 6.59375 17.96875 6.59375 36.375 \nQ 6.59375 54.828125 13.0625 64.515625 \nQ 19.53125 74.21875 31.78125 74.21875 \nz\n\" id=\"DejaVuSans-48\"/>\n       </defs>\n       <use xlink:href=\"#DejaVuSans-8722\"/>\n       <use x=\"83.789062\" xlink:href=\"#DejaVuSans-50\"/>\n       <use x=\"147.412109\" xlink:href=\"#DejaVuSans-48\"/>\n      </g>\n     </g>\n    </g>\n    <g id=\"xtick_2\">\n     <g id=\"line2d_3\">\n      <path clip-path=\"url(#pead1d636f5)\" d=\"M 136.76158 224.64 \nL 136.76158 7.2 \n\" style=\"fill:none;stroke:#b0b0b0;stroke-linecap:square;stroke-width:0.8;\"/>\n     </g>\n     <g id=\"line2d_4\">\n      <g>\n       <use style=\"stroke:#000000;stroke-width:0.8;\" x=\"136.76158\" xlink:href=\"#m6973705f56\" y=\"224.64\"/>\n      </g>\n     </g>\n     <g id=\"text_2\">\n      <!-- −10 -->\n      <g transform=\"translate(126.209236 239.238437)scale(0.1 -0.1)\">\n       <defs>\n        <path d=\"M 12.40625 8.296875 \nL 28.515625 8.296875 \nL 28.515625 63.921875 \nL 10.984375 60.40625 \nL 10.984375 69.390625 \nL 28.421875 72.90625 \nL 38.28125 72.90625 \nL 38.28125 8.296875 \nL 54.390625 8.296875 \nL 54.390625 0 \nL 12.40625 0 \nz\n\" id=\"DejaVuSans-49\"/>\n       </defs>\n       <use xlink:href=\"#DejaVuSans-8722\"/>\n       <use x=\"83.789062\" xlink:href=\"#DejaVuSans-49\"/>\n       <use x=\"147.412109\" xlink:href=\"#DejaVuSans-48\"/>\n      </g>\n     </g>\n    </g>\n    <g id=\"xtick_3\">\n     <g id=\"line2d_5\">\n      <path clip-path=\"url(#pead1d636f5)\" d=\"M 198.231923 224.64 \nL 198.231923 7.2 \n\" style=\"fill:none;stroke:#b0b0b0;stroke-linecap:square;stroke-width:0.8;\"/>\n     </g>\n     <g id=\"line2d_6\">\n      <g>\n       <use style=\"stroke:#000000;stroke-width:0.8;\" x=\"198.231923\" xlink:href=\"#m6973705f56\" y=\"224.64\"/>\n      </g>\n     </g>\n     <g id=\"text_3\">\n      <!-- 0 -->\n      <g transform=\"translate(195.050673 239.238437)scale(0.1 -0.1)\">\n       <use xlink:href=\"#DejaVuSans-48\"/>\n      </g>\n     </g>\n    </g>\n    <g id=\"xtick_4\">\n     <g id=\"line2d_7\">\n      <path clip-path=\"url(#pead1d636f5)\" d=\"M 259.702267 224.64 \nL 259.702267 7.2 \n\" style=\"fill:none;stroke:#b0b0b0;stroke-linecap:square;stroke-width:0.8;\"/>\n     </g>\n     <g id=\"line2d_8\">\n      <g>\n       <use style=\"stroke:#000000;stroke-width:0.8;\" x=\"259.702267\" xlink:href=\"#m6973705f56\" y=\"224.64\"/>\n      </g>\n     </g>\n     <g id=\"text_4\">\n      <!-- 10 -->\n      <g transform=\"translate(253.339767 239.238437)scale(0.1 -0.1)\">\n       <use xlink:href=\"#DejaVuSans-49\"/>\n       <use x=\"63.623047\" xlink:href=\"#DejaVuSans-48\"/>\n      </g>\n     </g>\n    </g>\n    <g id=\"xtick_5\">\n     <g id=\"line2d_9\">\n      <path clip-path=\"url(#pead1d636f5)\" d=\"M 321.172611 224.64 \nL 321.172611 7.2 \n\" style=\"fill:none;stroke:#b0b0b0;stroke-linecap:square;stroke-width:0.8;\"/>\n     </g>\n     <g id=\"line2d_10\">\n      <g>\n       <use style=\"stroke:#000000;stroke-width:0.8;\" x=\"321.172611\" xlink:href=\"#m6973705f56\" y=\"224.64\"/>\n      </g>\n     </g>\n     <g id=\"text_5\">\n      <!-- 20 -->\n      <g transform=\"translate(314.810111 239.238437)scale(0.1 -0.1)\">\n       <use xlink:href=\"#DejaVuSans-50\"/>\n       <use x=\"63.623047\" xlink:href=\"#DejaVuSans-48\"/>\n      </g>\n     </g>\n    </g>\n    <g id=\"xtick_6\">\n     <g id=\"line2d_11\">\n      <path clip-path=\"url(#pead1d636f5)\" d=\"M 382.642955 224.64 \nL 382.642955 7.2 \n\" style=\"fill:none;stroke:#b0b0b0;stroke-linecap:square;stroke-width:0.8;\"/>\n     </g>\n     <g id=\"line2d_12\">\n      <g>\n       <use style=\"stroke:#000000;stroke-width:0.8;\" x=\"382.642955\" xlink:href=\"#m6973705f56\" y=\"224.64\"/>\n      </g>\n     </g>\n     <g id=\"text_6\">\n      <!-- 30 -->\n      <g transform=\"translate(376.280455 239.238437)scale(0.1 -0.1)\">\n       <defs>\n        <path d=\"M 40.578125 39.3125 \nQ 47.65625 37.796875 51.625 33 \nQ 55.609375 28.21875 55.609375 21.1875 \nQ 55.609375 10.40625 48.1875 4.484375 \nQ 40.765625 -1.421875 27.09375 -1.421875 \nQ 22.515625 -1.421875 17.65625 -0.515625 \nQ 12.796875 0.390625 7.625 2.203125 \nL 7.625 11.71875 \nQ 11.71875 9.328125 16.59375 8.109375 \nQ 21.484375 6.890625 26.8125 6.890625 \nQ 36.078125 6.890625 40.9375 10.546875 \nQ 45.796875 14.203125 45.796875 21.1875 \nQ 45.796875 27.640625 41.28125 31.265625 \nQ 36.765625 34.90625 28.71875 34.90625 \nL 20.21875 34.90625 \nL 20.21875 43.015625 \nL 29.109375 43.015625 \nQ 36.375 43.015625 40.234375 45.921875 \nQ 44.09375 48.828125 44.09375 54.296875 \nQ 44.09375 59.90625 40.109375 62.90625 \nQ 36.140625 65.921875 28.71875 65.921875 \nQ 24.65625 65.921875 20.015625 65.03125 \nQ 15.375 64.15625 9.8125 62.3125 \nL 9.8125 71.09375 \nQ 15.4375 72.65625 20.34375 73.4375 \nQ 25.25 74.21875 29.59375 74.21875 \nQ 40.828125 74.21875 47.359375 69.109375 \nQ 53.90625 64.015625 53.90625 55.328125 \nQ 53.90625 49.265625 50.4375 45.09375 \nQ 46.96875 40.921875 40.578125 39.3125 \nz\n\" id=\"DejaVuSans-51\"/>\n       </defs>\n       <use xlink:href=\"#DejaVuSans-51\"/>\n       <use x=\"63.623047\" xlink:href=\"#DejaVuSans-48\"/>\n      </g>\n     </g>\n    </g>\n   </g>\n   <g id=\"matplotlib.axis_2\">\n    <g id=\"ytick_1\">\n     <g id=\"line2d_13\">\n      <path clip-path=\"url(#pead1d636f5)\" d=\"M 52.375 224.64 \nL 387.175 224.64 \n\" style=\"fill:none;stroke:#b0b0b0;stroke-linecap:square;stroke-width:0.8;\"/>\n     </g>\n     <g id=\"line2d_14\">\n      <defs>\n       <path d=\"M 0 0 \nL -3.5 0 \n\" id=\"m859df1dd5c\" style=\"stroke:#000000;stroke-width:0.8;\"/>\n      </defs>\n      <g>\n       <use style=\"stroke:#000000;stroke-width:0.8;\" x=\"52.375\" xlink:href=\"#m859df1dd5c\" y=\"224.64\"/>\n      </g>\n     </g>\n     <g id=\"text_7\">\n      <!-- 0 -->\n      <g transform=\"translate(39.0125 228.439219)scale(0.1 -0.1)\">\n       <use xlink:href=\"#DejaVuSans-48\"/>\n      </g>\n     </g>\n    </g>\n    <g id=\"ytick_2\">\n     <g id=\"line2d_15\">\n      <path clip-path=\"url(#pead1d636f5)\" d=\"M 52.375 182.277755 \nL 387.175 182.277755 \n\" style=\"fill:none;stroke:#b0b0b0;stroke-linecap:square;stroke-width:0.8;\"/>\n     </g>\n     <g id=\"line2d_16\">\n      <g>\n       <use style=\"stroke:#000000;stroke-width:0.8;\" x=\"52.375\" xlink:href=\"#m859df1dd5c\" y=\"182.277755\"/>\n      </g>\n     </g>\n     <g id=\"text_8\">\n      <!-- 20000 -->\n      <g transform=\"translate(13.5625 186.076974)scale(0.1 -0.1)\">\n       <use xlink:href=\"#DejaVuSans-50\"/>\n       <use x=\"63.623047\" xlink:href=\"#DejaVuSans-48\"/>\n       <use x=\"127.246094\" xlink:href=\"#DejaVuSans-48\"/>\n       <use x=\"190.869141\" xlink:href=\"#DejaVuSans-48\"/>\n       <use x=\"254.492188\" xlink:href=\"#DejaVuSans-48\"/>\n      </g>\n     </g>\n    </g>\n    <g id=\"ytick_3\">\n     <g id=\"line2d_17\">\n      <path clip-path=\"url(#pead1d636f5)\" d=\"M 52.375 139.915511 \nL 387.175 139.915511 \n\" style=\"fill:none;stroke:#b0b0b0;stroke-linecap:square;stroke-width:0.8;\"/>\n     </g>\n     <g id=\"line2d_18\">\n      <g>\n       <use style=\"stroke:#000000;stroke-width:0.8;\" x=\"52.375\" xlink:href=\"#m859df1dd5c\" y=\"139.915511\"/>\n      </g>\n     </g>\n     <g id=\"text_9\">\n      <!-- 40000 -->\n      <g transform=\"translate(13.5625 143.71473)scale(0.1 -0.1)\">\n       <defs>\n        <path d=\"M 37.796875 64.3125 \nL 12.890625 25.390625 \nL 37.796875 25.390625 \nz\nM 35.203125 72.90625 \nL 47.609375 72.90625 \nL 47.609375 25.390625 \nL 58.015625 25.390625 \nL 58.015625 17.1875 \nL 47.609375 17.1875 \nL 47.609375 0 \nL 37.796875 0 \nL 37.796875 17.1875 \nL 4.890625 17.1875 \nL 4.890625 26.703125 \nz\n\" id=\"DejaVuSans-52\"/>\n       </defs>\n       <use xlink:href=\"#DejaVuSans-52\"/>\n       <use x=\"63.623047\" xlink:href=\"#DejaVuSans-48\"/>\n       <use x=\"127.246094\" xlink:href=\"#DejaVuSans-48\"/>\n       <use x=\"190.869141\" xlink:href=\"#DejaVuSans-48\"/>\n       <use x=\"254.492188\" xlink:href=\"#DejaVuSans-48\"/>\n      </g>\n     </g>\n    </g>\n    <g id=\"ytick_4\">\n     <g id=\"line2d_19\">\n      <path clip-path=\"url(#pead1d636f5)\" d=\"M 52.375 97.553266 \nL 387.175 97.553266 \n\" style=\"fill:none;stroke:#b0b0b0;stroke-linecap:square;stroke-width:0.8;\"/>\n     </g>\n     <g id=\"line2d_20\">\n      <g>\n       <use style=\"stroke:#000000;stroke-width:0.8;\" x=\"52.375\" xlink:href=\"#m859df1dd5c\" y=\"97.553266\"/>\n      </g>\n     </g>\n     <g id=\"text_10\">\n      <!-- 60000 -->\n      <g transform=\"translate(13.5625 101.352485)scale(0.1 -0.1)\">\n       <defs>\n        <path d=\"M 33.015625 40.375 \nQ 26.375 40.375 22.484375 35.828125 \nQ 18.609375 31.296875 18.609375 23.390625 \nQ 18.609375 15.53125 22.484375 10.953125 \nQ 26.375 6.390625 33.015625 6.390625 \nQ 39.65625 6.390625 43.53125 10.953125 \nQ 47.40625 15.53125 47.40625 23.390625 \nQ 47.40625 31.296875 43.53125 35.828125 \nQ 39.65625 40.375 33.015625 40.375 \nz\nM 52.59375 71.296875 \nL 52.59375 62.3125 \nQ 48.875 64.0625 45.09375 64.984375 \nQ 41.3125 65.921875 37.59375 65.921875 \nQ 27.828125 65.921875 22.671875 59.328125 \nQ 17.53125 52.734375 16.796875 39.40625 \nQ 19.671875 43.65625 24.015625 45.921875 \nQ 28.375 48.1875 33.59375 48.1875 \nQ 44.578125 48.1875 50.953125 41.515625 \nQ 57.328125 34.859375 57.328125 23.390625 \nQ 57.328125 12.15625 50.6875 5.359375 \nQ 44.046875 -1.421875 33.015625 -1.421875 \nQ 20.359375 -1.421875 13.671875 8.265625 \nQ 6.984375 17.96875 6.984375 36.375 \nQ 6.984375 53.65625 15.1875 63.9375 \nQ 23.390625 74.21875 37.203125 74.21875 \nQ 40.921875 74.21875 44.703125 73.484375 \nQ 48.484375 72.75 52.59375 71.296875 \nz\n\" id=\"DejaVuSans-54\"/>\n       </defs>\n       <use xlink:href=\"#DejaVuSans-54\"/>\n       <use x=\"63.623047\" xlink:href=\"#DejaVuSans-48\"/>\n       <use x=\"127.246094\" xlink:href=\"#DejaVuSans-48\"/>\n       <use x=\"190.869141\" xlink:href=\"#DejaVuSans-48\"/>\n       <use x=\"254.492188\" xlink:href=\"#DejaVuSans-48\"/>\n      </g>\n     </g>\n    </g>\n    <g id=\"ytick_5\">\n     <g id=\"line2d_21\">\n      <path clip-path=\"url(#pead1d636f5)\" d=\"M 52.375 55.191022 \nL 387.175 55.191022 \n\" style=\"fill:none;stroke:#b0b0b0;stroke-linecap:square;stroke-width:0.8;\"/>\n     </g>\n     <g id=\"line2d_22\">\n      <g>\n       <use style=\"stroke:#000000;stroke-width:0.8;\" x=\"52.375\" xlink:href=\"#m859df1dd5c\" y=\"55.191022\"/>\n      </g>\n     </g>\n     <g id=\"text_11\">\n      <!-- 80000 -->\n      <g transform=\"translate(13.5625 58.990241)scale(0.1 -0.1)\">\n       <defs>\n        <path d=\"M 31.78125 34.625 \nQ 24.75 34.625 20.71875 30.859375 \nQ 16.703125 27.09375 16.703125 20.515625 \nQ 16.703125 13.921875 20.71875 10.15625 \nQ 24.75 6.390625 31.78125 6.390625 \nQ 38.8125 6.390625 42.859375 10.171875 \nQ 46.921875 13.96875 46.921875 20.515625 \nQ 46.921875 27.09375 42.890625 30.859375 \nQ 38.875 34.625 31.78125 34.625 \nz\nM 21.921875 38.8125 \nQ 15.578125 40.375 12.03125 44.71875 \nQ 8.5 49.078125 8.5 55.328125 \nQ 8.5 64.0625 14.71875 69.140625 \nQ 20.953125 74.21875 31.78125 74.21875 \nQ 42.671875 74.21875 48.875 69.140625 \nQ 55.078125 64.0625 55.078125 55.328125 \nQ 55.078125 49.078125 51.53125 44.71875 \nQ 48 40.375 41.703125 38.8125 \nQ 48.828125 37.15625 52.796875 32.3125 \nQ 56.78125 27.484375 56.78125 20.515625 \nQ 56.78125 9.90625 50.3125 4.234375 \nQ 43.84375 -1.421875 31.78125 -1.421875 \nQ 19.734375 -1.421875 13.25 4.234375 \nQ 6.78125 9.90625 6.78125 20.515625 \nQ 6.78125 27.484375 10.78125 32.3125 \nQ 14.796875 37.15625 21.921875 38.8125 \nz\nM 18.3125 54.390625 \nQ 18.3125 48.734375 21.84375 45.5625 \nQ 25.390625 42.390625 31.78125 42.390625 \nQ 38.140625 42.390625 41.71875 45.5625 \nQ 45.3125 48.734375 45.3125 54.390625 \nQ 45.3125 60.0625 41.71875 63.234375 \nQ 38.140625 66.40625 31.78125 66.40625 \nQ 25.390625 66.40625 21.84375 63.234375 \nQ 18.3125 60.0625 18.3125 54.390625 \nz\n\" id=\"DejaVuSans-56\"/>\n       </defs>\n       <use xlink:href=\"#DejaVuSans-56\"/>\n       <use x=\"63.623047\" xlink:href=\"#DejaVuSans-48\"/>\n       <use x=\"127.246094\" xlink:href=\"#DejaVuSans-48\"/>\n       <use x=\"190.869141\" xlink:href=\"#DejaVuSans-48\"/>\n       <use x=\"254.492188\" xlink:href=\"#DejaVuSans-48\"/>\n      </g>\n     </g>\n    </g>\n    <g id=\"ytick_6\">\n     <g id=\"line2d_23\">\n      <path clip-path=\"url(#pead1d636f5)\" d=\"M 52.375 12.828777 \nL 387.175 12.828777 \n\" style=\"fill:none;stroke:#b0b0b0;stroke-linecap:square;stroke-width:0.8;\"/>\n     </g>\n     <g id=\"line2d_24\">\n      <g>\n       <use style=\"stroke:#000000;stroke-width:0.8;\" x=\"52.375\" xlink:href=\"#m859df1dd5c\" y=\"12.828777\"/>\n      </g>\n     </g>\n     <g id=\"text_12\">\n      <!-- 100000 -->\n      <g transform=\"translate(7.2 16.627996)scale(0.1 -0.1)\">\n       <use xlink:href=\"#DejaVuSans-49\"/>\n       <use x=\"63.623047\" xlink:href=\"#DejaVuSans-48\"/>\n       <use x=\"127.246094\" xlink:href=\"#DejaVuSans-48\"/>\n       <use x=\"190.869141\" xlink:href=\"#DejaVuSans-48\"/>\n       <use x=\"254.492188\" xlink:href=\"#DejaVuSans-48\"/>\n       <use x=\"318.115234\" xlink:href=\"#DejaVuSans-48\"/>\n      </g>\n     </g>\n    </g>\n   </g>\n   <g id=\"patch_53\">\n    <path d=\"M 52.375 224.64 \nL 52.375 7.2 \n\" style=\"fill:none;stroke:#000000;stroke-linecap:square;stroke-linejoin:miter;stroke-width:0.8;\"/>\n   </g>\n   <g id=\"patch_54\">\n    <path d=\"M 387.175 224.64 \nL 387.175 7.2 \n\" style=\"fill:none;stroke:#000000;stroke-linecap:square;stroke-linejoin:miter;stroke-width:0.8;\"/>\n   </g>\n   <g id=\"patch_55\">\n    <path d=\"M 52.375 224.64 \nL 387.175 224.64 \n\" style=\"fill:none;stroke:#000000;stroke-linecap:square;stroke-linejoin:miter;stroke-width:0.8;\"/>\n   </g>\n   <g id=\"patch_56\">\n    <path d=\"M 52.375 7.2 \nL 387.175 7.2 \n\" style=\"fill:none;stroke:#000000;stroke-linecap:square;stroke-linejoin:miter;stroke-width:0.8;\"/>\n   </g>\n  </g>\n </g>\n <defs>\n  <clipPath id=\"pead1d636f5\">\n   <rect height=\"217.44\" width=\"334.8\" x=\"52.375\" y=\"7.2\"/>\n  </clipPath>\n </defs>\n</svg>\n",
      "image/png": "[encoded data removed]"
     },
     "metadata": {
      "needs_background": "light"
     }
    }
   ],
   "source": [
    "(train_df['y'] - train_df['wifi_y']).hist(bins=50)"
   ]
  },
  {
   "cell_type": "code",
   "execution_count": 15,
   "metadata": {},
   "outputs": [
    {
     "output_type": "stream",
     "name": "stdout",
     "text": [
      "1.9266937226098104\n1.8650742693762432\n"
     ]
    }
   ],
   "source": [
    "print((train_df['x'] - train_df['wifi_x']).std())\n",
    "print((train_df['y'] - train_df['wifi_y']).std())"
   ]
  },
  {
   "cell_type": "code",
   "execution_count": null,
   "metadata": {},
   "outputs": [],
   "source": []
  }
 ]
}