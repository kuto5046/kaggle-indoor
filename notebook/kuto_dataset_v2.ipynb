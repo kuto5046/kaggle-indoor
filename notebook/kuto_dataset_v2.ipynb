{
 "metadata": {
  "language_info": {
   "codemirror_mode": {
    "name": "ipython",
    "version": 3
   },
   "file_extension": ".py",
   "mimetype": "text/x-python",
   "name": "python",
   "nbconvert_exporter": "python",
   "pygments_lexer": "ipython3",
   "version": "3.8.5"
  },
  "orig_nbformat": 2,
  "kernelspec": {
   "name": "python3",
   "display_name": "Python 3.8.5 64-bit ('base': conda)",
   "metadata": {
    "interpreter": {
     "hash": "dca0ade3e726a953b501b15e8e990130d2b7799f14cfd9f4271676035ebe5511"
    }
   }
  }
 },
 "nbformat": 4,
 "nbformat_minor": 2,
 "cells": [
  {
   "source": [
    "## wifi feature by kuto\n",
    "\n",
    "[yukiさんのdataset](https://www.kaggle.com/dataset/951fe0fd675e58937311e936e941b01d517c227ce30192c8477bbe2bddeec602)をもとにを参考に、waypointを補正したwifi featureを作成する。  \n",
    "trainにwifi_x, wifi_yが加わっただけ。  \n",
    "\n",
    "v2は線形補完をtimestampを使ってやってみる(last seenは使っていないことに注意)"
   ],
   "cell_type": "markdown",
   "metadata": {}
  },
  {
   "cell_type": "code",
   "execution_count": 1,
   "metadata": {},
   "outputs": [],
   "source": [
    "import pandas as pd\n",
    "import numpy as np\n",
    "from tqdm.notebook import tqdm\n",
    "import glob\n",
    "import os\n",
    "import sys \n",
    "sys.path.append(\"../\")\n",
    "from src.io_f import read_data_file\n",
    "\n",
    "from scipy import interpolate"
   ]
  },
  {
   "cell_type": "code",
   "execution_count": 2,
   "metadata": {},
   "outputs": [],
   "source": [
    "base_path = '..'\n",
    "feature_dir = f\"{base_path}/input/wifi-feature-with-timestamp\"\n",
    "train_files = sorted(glob.glob(os.path.join(feature_dir, '*_train.csv')))\n",
    "test_files = sorted(glob.glob(os.path.join(feature_dir, '*_test.csv')))"
   ]
  },
  {
   "cell_type": "code",
   "execution_count": 3,
   "metadata": {},
   "outputs": [],
   "source": [
    "output_dir = \"../input/kuto_wifi_dataset_v2/\"\n",
    "os.makedirs(output_dir, exist_ok=True)"
   ]
  },
  {
   "cell_type": "code",
   "execution_count": 4,
   "metadata": {},
   "outputs": [
    {
     "output_type": "execute_result",
     "data": {
      "text/plain": [
       "      000840e5c600de293cea57f13326f273c86c3988  \\\n",
       "0                                         -999   \n",
       "1                                         -999   \n",
       "2                                         -999   \n",
       "3                                         -999   \n",
       "4                                         -999   \n",
       "...                                        ...   \n",
       "9291                                      -999   \n",
       "9292                                      -999   \n",
       "9293                                      -999   \n",
       "9294                                      -999   \n",
       "9295                                      -999   \n",
       "\n",
       "      005246b6f51feb1a069e8f005d3e6aba2591b65b  \\\n",
       "0                                         -999   \n",
       "1                                         -999   \n",
       "2                                         -999   \n",
       "3                                         -999   \n",
       "4                                         -999   \n",
       "...                                        ...   \n",
       "9291                                      -999   \n",
       "9292                                      -999   \n",
       "9293                                      -999   \n",
       "9294                                      -999   \n",
       "9295                                      -999   \n",
       "\n",
       "      0076ff7a084cb2ac8c146139965ab1be296e72c4  \\\n",
       "0                                         -999   \n",
       "1                                         -999   \n",
       "2                                         -999   \n",
       "3                                         -999   \n",
       "4                                         -999   \n",
       "...                                        ...   \n",
       "9291                                      -999   \n",
       "9292                                      -999   \n",
       "9293                                      -999   \n",
       "9294                                      -999   \n",
       "9295                                      -999   \n",
       "\n",
       "      009a3ed672be7bd1b9c4437b43a53296771af098  \\\n",
       "0                                         -999   \n",
       "1                                         -999   \n",
       "2                                         -999   \n",
       "3                                         -999   \n",
       "4                                         -999   \n",
       "...                                        ...   \n",
       "9291                                      -999   \n",
       "9292                                      -999   \n",
       "9293                                      -999   \n",
       "9294                                      -999   \n",
       "9295                                      -999   \n",
       "\n",
       "      00ad587dcb9c7ce3788b92e22777a22ee0efea31  \\\n",
       "0                                         -999   \n",
       "1                                         -999   \n",
       "2                                         -999   \n",
       "3                                         -999   \n",
       "4                                         -999   \n",
       "...                                        ...   \n",
       "9291                                      -999   \n",
       "9292                                      -999   \n",
       "9293                                      -999   \n",
       "9294                                      -999   \n",
       "9295                                      -999   \n",
       "\n",
       "      00af060fc145ee6a6a50475efa57b91cbf54237f  \\\n",
       "0                                         -999   \n",
       "1                                         -999   \n",
       "2                                         -999   \n",
       "3                                         -999   \n",
       "4                                         -999   \n",
       "...                                        ...   \n",
       "9291                                       -75   \n",
       "9292                                       -75   \n",
       "9293                                       -72   \n",
       "9294                                       -72   \n",
       "9295                                       -72   \n",
       "\n",
       "      00bcc61bdea4d52d050822d66952dd707c2fcdf3  \\\n",
       "0                                         -999   \n",
       "1                                         -999   \n",
       "2                                         -999   \n",
       "3                                         -999   \n",
       "4                                         -999   \n",
       "...                                        ...   \n",
       "9291                                      -999   \n",
       "9292                                      -999   \n",
       "9293                                      -999   \n",
       "9294                                      -999   \n",
       "9295                                      -999   \n",
       "\n",
       "      00c8933965e23cd2bb890ca08ee7f8a22f933df8  \\\n",
       "0                                         -999   \n",
       "1                                         -999   \n",
       "2                                         -999   \n",
       "3                                         -999   \n",
       "4                                         -999   \n",
       "...                                        ...   \n",
       "9291                                      -999   \n",
       "9292                                      -999   \n",
       "9293                                      -999   \n",
       "9294                                      -999   \n",
       "9295                                      -999   \n",
       "\n",
       "      00f0904087c01d922d6ebf3005607dfdeaf6687b  \\\n",
       "0                                         -999   \n",
       "1                                         -999   \n",
       "2                                         -999   \n",
       "3                                         -999   \n",
       "4                                         -999   \n",
       "...                                        ...   \n",
       "9291                                       -86   \n",
       "9292                                       -84   \n",
       "9293                                       -82   \n",
       "9294                                       -79   \n",
       "9295                                       -86   \n",
       "\n",
       "      00f09c4561768a871af2921cffa0a4fda515766b  ...  \\\n",
       "0                                         -999  ...   \n",
       "1                                         -999  ...   \n",
       "2                                         -999  ...   \n",
       "3                                         -999  ...   \n",
       "4                                         -999  ...   \n",
       "...                                        ...  ...   \n",
       "9291                                      -999  ...   \n",
       "9292                                      -999  ...   \n",
       "9293                                      -999  ...   \n",
       "9294                                      -999  ...   \n",
       "9295                                      -999  ...   \n",
       "\n",
       "      ffc7c34369257431c7de9129094deb923bb3e3af  \\\n",
       "0                                          -53   \n",
       "1                                          -53   \n",
       "2                                          -55   \n",
       "3                                          -52   \n",
       "4                                          -53   \n",
       "...                                        ...   \n",
       "9291                                      -999   \n",
       "9292                                      -999   \n",
       "9293                                      -999   \n",
       "9294                                      -999   \n",
       "9295                                      -999   \n",
       "\n",
       "      ffe53bd4dcfaa42668baf5ea0d2ddc676538fce0  \\\n",
       "0                                         -999   \n",
       "1                                         -999   \n",
       "2                                         -999   \n",
       "3                                         -999   \n",
       "4                                         -999   \n",
       "...                                        ...   \n",
       "9291                                       -78   \n",
       "9292                                       -78   \n",
       "9293                                       -78   \n",
       "9294                                      -999   \n",
       "9295                                      -999   \n",
       "\n",
       "      fffedf27bf3bf8fa64d01e6b0a6affc9170716f1      timestamp           x  \\\n",
       "0                                         -999  1578462618392  230.037380   \n",
       "1                                         -999  1578462618392  230.037380   \n",
       "2                                         -999  1578462618392  230.037380   \n",
       "3                                         -999  1578462628512  231.402900   \n",
       "4                                         -999  1578462628512  231.402900   \n",
       "...                                        ...            ...         ...   \n",
       "9291                                      -999  1572951934638  123.473170   \n",
       "9292                                      -999  1572951934638  123.473170   \n",
       "9293                                      -999  1572951946278  126.059975   \n",
       "9294                                      -999  1572951946278  126.059975   \n",
       "9295                                      -999  1572951946278  126.059975   \n",
       "\n",
       "              y  f  floor_str                      path  time_diff  \n",
       "0     153.49635 -1         B1  5e15730aa280850006f3d005        434  \n",
       "1     153.49635 -1         B1  5e15730aa280850006f3d005       2331  \n",
       "2     153.49635 -1         B1  5e15730aa280850006f3d005       4257  \n",
       "3     158.41515 -1         B1  5e15730aa280850006f3d005      -3938  \n",
       "4     158.41515 -1         B1  5e15730aa280850006f3d005      -2011  \n",
       "...         ... ..        ...                       ...        ...  \n",
       "9291   77.84787  3         F4  5dc1579ebce0a000068ae8eb       3771  \n",
       "9292   77.84787  3         F4  5dc1579ebce0a000068ae8eb       5801  \n",
       "9293   68.08712  3         F4  5dc1579ebce0a000068ae8eb      -3807  \n",
       "9294   68.08712  3         F4  5dc1579ebce0a000068ae8eb      -1777  \n",
       "9295   68.08712  3         F4  5dc1579ebce0a000068ae8eb        242  \n",
       "\n",
       "[9296 rows x 2605 columns]"
      ],
      "text/html": "<div>\n<style scoped>\n    .dataframe tbody tr th:only-of-type {\n        vertical-align: middle;\n    }\n\n    .dataframe tbody tr th {\n        vertical-align: top;\n    }\n\n    .dataframe thead th {\n        text-align: right;\n    }\n</style>\n<table border=\"1\" class=\"dataframe\">\n  <thead>\n    <tr style=\"text-align: right;\">\n      <th></th>\n      <th>000840e5c600de293cea57f13326f273c86c3988</th>\n      <th>005246b6f51feb1a069e8f005d3e6aba2591b65b</th>\n      <th>0076ff7a084cb2ac8c146139965ab1be296e72c4</th>\n      <th>009a3ed672be7bd1b9c4437b43a53296771af098</th>\n      <th>00ad587dcb9c7ce3788b92e22777a22ee0efea31</th>\n      <th>00af060fc145ee6a6a50475efa57b91cbf54237f</th>\n      <th>00bcc61bdea4d52d050822d66952dd707c2fcdf3</th>\n      <th>00c8933965e23cd2bb890ca08ee7f8a22f933df8</th>\n      <th>00f0904087c01d922d6ebf3005607dfdeaf6687b</th>\n      <th>00f09c4561768a871af2921cffa0a4fda515766b</th>\n      <th>...</th>\n      <th>ffc7c34369257431c7de9129094deb923bb3e3af</th>\n      <th>ffe53bd4dcfaa42668baf5ea0d2ddc676538fce0</th>\n      <th>fffedf27bf3bf8fa64d01e6b0a6affc9170716f1</th>\n      <th>timestamp</th>\n      <th>x</th>\n      <th>y</th>\n      <th>f</th>\n      <th>floor_str</th>\n      <th>path</th>\n      <th>time_diff</th>\n    </tr>\n  </thead>\n  <tbody>\n    <tr>\n      <th>0</th>\n      <td>-999</td>\n      <td>-999</td>\n      <td>-999</td>\n      <td>-999</td>\n      <td>-999</td>\n      <td>-999</td>\n      <td>-999</td>\n      <td>-999</td>\n      <td>-999</td>\n      <td>-999</td>\n      <td>...</td>\n      <td>-53</td>\n      <td>-999</td>\n      <td>-999</td>\n      <td>1578462618392</td>\n      <td>230.037380</td>\n      <td>153.49635</td>\n      <td>-1</td>\n      <td>B1</td>\n      <td>5e15730aa280850006f3d005</td>\n      <td>434</td>\n    </tr>\n    <tr>\n      <th>1</th>\n      <td>-999</td>\n      <td>-999</td>\n      <td>-999</td>\n      <td>-999</td>\n      <td>-999</td>\n      <td>-999</td>\n      <td>-999</td>\n      <td>-999</td>\n      <td>-999</td>\n      <td>-999</td>\n      <td>...</td>\n      <td>-53</td>\n      <td>-999</td>\n      <td>-999</td>\n      <td>1578462618392</td>\n      <td>230.037380</td>\n      <td>153.49635</td>\n      <td>-1</td>\n      <td>B1</td>\n      <td>5e15730aa280850006f3d005</td>\n      <td>2331</td>\n    </tr>\n    <tr>\n      <th>2</th>\n      <td>-999</td>\n      <td>-999</td>\n      <td>-999</td>\n      <td>-999</td>\n      <td>-999</td>\n      <td>-999</td>\n      <td>-999</td>\n      <td>-999</td>\n      <td>-999</td>\n      <td>-999</td>\n      <td>...</td>\n      <td>-55</td>\n      <td>-999</td>\n      <td>-999</td>\n      <td>1578462618392</td>\n      <td>230.037380</td>\n      <td>153.49635</td>\n      <td>-1</td>\n      <td>B1</td>\n      <td>5e15730aa280850006f3d005</td>\n      <td>4257</td>\n    </tr>\n    <tr>\n      <th>3</th>\n      <td>-999</td>\n      <td>-999</td>\n      <td>-999</td>\n      <td>-999</td>\n      <td>-999</td>\n      <td>-999</td>\n      <td>-999</td>\n      <td>-999</td>\n      <td>-999</td>\n      <td>-999</td>\n      <td>...</td>\n      <td>-52</td>\n      <td>-999</td>\n      <td>-999</td>\n      <td>1578462628512</td>\n      <td>231.402900</td>\n      <td>158.41515</td>\n      <td>-1</td>\n      <td>B1</td>\n      <td>5e15730aa280850006f3d005</td>\n      <td>-3938</td>\n    </tr>\n    <tr>\n      <th>4</th>\n      <td>-999</td>\n      <td>-999</td>\n      <td>-999</td>\n      <td>-999</td>\n      <td>-999</td>\n      <td>-999</td>\n      <td>-999</td>\n      <td>-999</td>\n      <td>-999</td>\n      <td>-999</td>\n      <td>...</td>\n      <td>-53</td>\n      <td>-999</td>\n      <td>-999</td>\n      <td>1578462628512</td>\n      <td>231.402900</td>\n      <td>158.41515</td>\n      <td>-1</td>\n      <td>B1</td>\n      <td>5e15730aa280850006f3d005</td>\n      <td>-2011</td>\n    </tr>\n    <tr>\n      <th>...</th>\n      <td>...</td>\n      <td>...</td>\n      <td>...</td>\n      <td>...</td>\n      <td>...</td>\n      <td>...</td>\n      <td>...</td>\n      <td>...</td>\n      <td>...</td>\n      <td>...</td>\n      <td>...</td>\n      <td>...</td>\n      <td>...</td>\n      <td>...</td>\n      <td>...</td>\n      <td>...</td>\n      <td>...</td>\n      <td>...</td>\n      <td>...</td>\n      <td>...</td>\n      <td>...</td>\n    </tr>\n    <tr>\n      <th>9291</th>\n      <td>-999</td>\n      <td>-999</td>\n      <td>-999</td>\n      <td>-999</td>\n      <td>-999</td>\n      <td>-75</td>\n      <td>-999</td>\n      <td>-999</td>\n      <td>-86</td>\n      <td>-999</td>\n      <td>...</td>\n      <td>-999</td>\n      <td>-78</td>\n      <td>-999</td>\n      <td>1572951934638</td>\n      <td>123.473170</td>\n      <td>77.84787</td>\n      <td>3</td>\n      <td>F4</td>\n      <td>5dc1579ebce0a000068ae8eb</td>\n      <td>3771</td>\n    </tr>\n    <tr>\n      <th>9292</th>\n      <td>-999</td>\n      <td>-999</td>\n      <td>-999</td>\n      <td>-999</td>\n      <td>-999</td>\n      <td>-75</td>\n      <td>-999</td>\n      <td>-999</td>\n      <td>-84</td>\n      <td>-999</td>\n      <td>...</td>\n      <td>-999</td>\n      <td>-78</td>\n      <td>-999</td>\n      <td>1572951934638</td>\n      <td>123.473170</td>\n      <td>77.84787</td>\n      <td>3</td>\n      <td>F4</td>\n      <td>5dc1579ebce0a000068ae8eb</td>\n      <td>5801</td>\n    </tr>\n    <tr>\n      <th>9293</th>\n      <td>-999</td>\n      <td>-999</td>\n      <td>-999</td>\n      <td>-999</td>\n      <td>-999</td>\n      <td>-72</td>\n      <td>-999</td>\n      <td>-999</td>\n      <td>-82</td>\n      <td>-999</td>\n      <td>...</td>\n      <td>-999</td>\n      <td>-78</td>\n      <td>-999</td>\n      <td>1572951946278</td>\n      <td>126.059975</td>\n      <td>68.08712</td>\n      <td>3</td>\n      <td>F4</td>\n      <td>5dc1579ebce0a000068ae8eb</td>\n      <td>-3807</td>\n    </tr>\n    <tr>\n      <th>9294</th>\n      <td>-999</td>\n      <td>-999</td>\n      <td>-999</td>\n      <td>-999</td>\n      <td>-999</td>\n      <td>-72</td>\n      <td>-999</td>\n      <td>-999</td>\n      <td>-79</td>\n      <td>-999</td>\n      <td>...</td>\n      <td>-999</td>\n      <td>-999</td>\n      <td>-999</td>\n      <td>1572951946278</td>\n      <td>126.059975</td>\n      <td>68.08712</td>\n      <td>3</td>\n      <td>F4</td>\n      <td>5dc1579ebce0a000068ae8eb</td>\n      <td>-1777</td>\n    </tr>\n    <tr>\n      <th>9295</th>\n      <td>-999</td>\n      <td>-999</td>\n      <td>-999</td>\n      <td>-999</td>\n      <td>-999</td>\n      <td>-72</td>\n      <td>-999</td>\n      <td>-999</td>\n      <td>-86</td>\n      <td>-999</td>\n      <td>...</td>\n      <td>-999</td>\n      <td>-999</td>\n      <td>-999</td>\n      <td>1572951946278</td>\n      <td>126.059975</td>\n      <td>68.08712</td>\n      <td>3</td>\n      <td>F4</td>\n      <td>5dc1579ebce0a000068ae8eb</td>\n      <td>242</td>\n    </tr>\n  </tbody>\n</table>\n<p>9296 rows × 2605 columns</p>\n</div>"
     },
     "metadata": {},
     "execution_count": 4
    }
   ],
   "source": [
    "train_file = train_files[0]\n",
    "train = pd.read_csv(train_file, index_col=0).reset_index(drop=True).rename(columns={'foor_str':'floor_str'})\n",
    "train"
   ]
  },
  {
   "cell_type": "code",
   "execution_count": 5,
   "metadata": {},
   "outputs": [
    {
     "output_type": "execute_result",
     "data": {
      "text/plain": [
       "['../input/wifi-feature-with-timestamp/5a0546857ecc773753327266_timediff_1000_train.csv',\n",
       " '../input/wifi-feature-with-timestamp/5c3c44b80379370013e0fd2b_timediff_1000_train.csv',\n",
       " '../input/wifi-feature-with-timestamp/5d27075f03f801723c2e360f_timediff_1000_train.csv',\n",
       " '../input/wifi-feature-with-timestamp/5d27096c03f801723c31e5e0_timediff_1000_train.csv',\n",
       " '../input/wifi-feature-with-timestamp/5d27097f03f801723c320d97_timediff_1000_train.csv',\n",
       " '../input/wifi-feature-with-timestamp/5d27099f03f801723c32511d_timediff_1000_train.csv',\n",
       " '../input/wifi-feature-with-timestamp/5d2709a003f801723c3251bf_timediff_1000_train.csv',\n",
       " '../input/wifi-feature-with-timestamp/5d2709b303f801723c327472_timediff_1000_train.csv',\n",
       " '../input/wifi-feature-with-timestamp/5d2709bb03f801723c32852c_timediff_1000_train.csv',\n",
       " '../input/wifi-feature-with-timestamp/5d2709c303f801723c3299ee_timediff_1000_train.csv',\n",
       " '../input/wifi-feature-with-timestamp/5d2709d403f801723c32bd39_timediff_1000_train.csv',\n",
       " '../input/wifi-feature-with-timestamp/5d2709e003f801723c32d896_timediff_1000_train.csv',\n",
       " '../input/wifi-feature-with-timestamp/5da138274db8ce0c98bbd3d2_timediff_1000_train.csv',\n",
       " '../input/wifi-feature-with-timestamp/5da1382d4db8ce0c98bbe92e_timediff_1000_train.csv',\n",
       " '../input/wifi-feature-with-timestamp/5da138314db8ce0c98bbf3a0_timediff_1000_train.csv',\n",
       " '../input/wifi-feature-with-timestamp/5da138364db8ce0c98bc00f1_timediff_1000_train.csv',\n",
       " '../input/wifi-feature-with-timestamp/5da1383b4db8ce0c98bc11ab_timediff_1000_train.csv',\n",
       " '../input/wifi-feature-with-timestamp/5da138754db8ce0c98bca82f_timediff_1000_train.csv',\n",
       " '../input/wifi-feature-with-timestamp/5da138764db8ce0c98bcaa46_timediff_1000_train.csv',\n",
       " '../input/wifi-feature-with-timestamp/5da1389e4db8ce0c98bd0547_timediff_1000_train.csv',\n",
       " '../input/wifi-feature-with-timestamp/5da138b74db8ce0c98bd4774_timediff_1000_train.csv',\n",
       " '../input/wifi-feature-with-timestamp/5da958dd46f8266d0737457b_timediff_1000_train.csv',\n",
       " '../input/wifi-feature-with-timestamp/5dbc1d84c1eb61796cf7c010_timediff_1000_train.csv',\n",
       " '../input/wifi-feature-with-timestamp/5dc8cea7659e181adb076a3f_timediff_1000_train.csv']"
      ]
     },
     "metadata": {},
     "execution_count": 5
    }
   ],
   "source": [
    "train_files"
   ]
  },
  {
   "cell_type": "code",
   "execution_count": 6,
   "metadata": {},
   "outputs": [],
   "source": [
    "import sys \n",
    "sys.path.append(\"../\")\n",
    "from multiprocessing import Pool\n",
    "\n",
    "def wifi_waypoint_by_linear_interpolation(\n",
    "        trajectory_timestamp, wifi_timestamp,\n",
    "        x_observed, y_observed, delta_time=1000,\n",
    "        ): \n",
    "\n",
    "    wifi_waypoint_list = []\n",
    "    num_interpolation = len(trajectory_timestamp) - 1  # 補完回数 \n",
    "    # 各waypoint間で線形補完\n",
    "    for i in range(num_interpolation):\n",
    "        # 潜在的なtimestampを作成(これのどれかにwifiを当てはめるような形)\n",
    "        n_split = int((max(trajectory_timestamp[i:i+2]) - min(trajectory_timestamp[i:i+2])) / delta_time) + 2  # delta_time刻みとなるように分割数を指定(+2は始点と終点分)\n",
    "        timestamp_latent = np.linspace(min(trajectory_timestamp[i:i+2]), max(trajectory_timestamp[i:i+2]), n_split).astype(int) \n",
    "        \n",
    "        # xが昇順の場合はlatentも昇順になるようにする\n",
    "        if x_observed[i] < x_observed[i+1]:\n",
    "            x_latent = np.linspace(min(x_observed[i:i+2]), max(x_observed[i:i+2]), n_split)\n",
    "        # xが降順の場合はlatentも降順になるようにする\n",
    "        else:\n",
    "            x_latent = np.linspace(min(x_observed[i:i+2]), max(x_observed[i:i+2]), n_split)[::-1]\n",
    "        \n",
    "        # 線形補完関数の適用\n",
    "        fitted_curve = interpolate.interp1d(x_observed[i:i+2], y_observed[i:i+2])\n",
    "\n",
    "        # wifiのtimestampに最も近いものをsplit_timestampから取得しそれに対応するwaypointをwifiのwaypointとして取得\n",
    "        wifi_x = []\n",
    "        wifi_y = []\n",
    "\n",
    "        # 区間内のwifiデータのみ考える\n",
    "        if i == num_interpolation-1:\n",
    "            # 最後のwaypointより未来のwifiデータがあるようなのでこの処理を追加\n",
    "            target_idx = min(trajectory_timestamp[i:i+2]) <= wifi_timestamp\n",
    "        else:\n",
    "            target_idx = (min(trajectory_timestamp[i:i+2]) <= wifi_timestamp) & (wifi_timestamp < max(trajectory_timestamp[i:i+2]))\n",
    "        target_wifi_timestamp = wifi_timestamp[target_idx]\n",
    "\n",
    "        # timestampが最も近いものをwifiのwaypointとして取得\n",
    "        for t in target_wifi_timestamp:\n",
    "            idx = np.abs(timestamp_latent - t).argmin()  # wifiデータとtimestampが最も近いものをlatentから取得\n",
    "            wifi_x.append(x_latent[idx])\n",
    "            wifi_y.append(fitted_curve(x_latent[idx]))\n",
    "\n",
    "        wifi_waypoint = np.stack([wifi_x, wifi_y], axis=1)\n",
    "        wifi_waypoint_list.append(wifi_waypoint)\n",
    "\n",
    "    wifi_waypoint = np.concatenate(wifi_waypoint_list)\n",
    "    return wifi_waypoint\n",
    "\n",
    "def get_wifi_waypoint(site, floor, path, timestamp):\n",
    "    path_file = f'../input/indoor-location-navigation/train/{site}/{floor}/{path}.txt'\n",
    "    example = read_data_file(path_file)\n",
    "\n",
    "    # waypoint\n",
    "    trajectory = example.waypoint\n",
    "    trajectory_timestamp = trajectory[:,0]\n",
    "    trajectory_waypoint = trajectory[:, 1:]\n",
    "    x_observed = trajectory_waypoint[:, 0]\n",
    "    y_observed = trajectory_waypoint[:, 1]\n",
    "\n",
    "    # wifi\n",
    "    wifi = example.wifi\n",
    "    wifi_timestamp = np.unique(wifi[:, 0]).astype(int)\n",
    "\n",
    "    # 線形補完\n",
    "    wifi_waypoint = wifi_waypoint_by_linear_interpolation(trajectory_timestamp, wifi_timestamp,x_observed, y_observed) \n",
    "    return wifi_waypoint"
   ]
  },
  {
   "cell_type": "code",
   "execution_count": 7,
   "metadata": {},
   "outputs": [],
   "source": [
    "\n",
    "def make_dataset_for_train(train_file):\n",
    "    train = pd.read_csv(train_file, index_col=0).reset_index(drop=True).rename(columns={'foor_str':'floor_str'})\n",
    "    file_name = train_file.split('/')[-1]\n",
    "    num_of_lines = train.shape[0]\n",
    "    print(f'{file_name} : {num_of_lines}')\n",
    "\n",
    "    data_list = []\n",
    "    for path, df in tqdm(train.groupby('path')):\n",
    "\n",
    "        bssid = df.columns[:-7].values\n",
    "        rssi = df.iloc[:, :-7].values\n",
    "        targets = df.iloc[:,-7:].values\n",
    "\n",
    "        # path内の各waypointのwifi値を取得\n",
    "        sort_rssi = []\n",
    "        sort_bssid = []\n",
    "        for i in range(len(df)):\n",
    "            sort_rssi.append(np.sort(rssi[i])[::-1][:100])\n",
    "            idx = np.argsort(rssi[i])[::-1]\n",
    "            sort_bssid.append(bssid[idx][:100])\n",
    "\n",
    "        sort_rssi = np.stack(sort_rssi)\n",
    "        sort_bssid = np.stack(sort_bssid)\n",
    "        site = train_file.split('/')[-1].split('_')[0]\n",
    "        timestamp = targets[i][0]\n",
    "        floor = targets[i][4]\n",
    "  \n",
    "        wifi_waypoint = get_wifi_waypoint(site, floor, path, timestamp)  # 1行ずつ処理するのは計算コスト的にもったいない\n",
    "        path_data = np.concatenate((sort_bssid, sort_rssi, targets, wifi_waypoint), axis=1)\n",
    "        path_df = pd.DataFrame(path_data)\n",
    "        data_list.append(path_df)\n",
    "    \n",
    "    data_df = pd.concat(data_list)\n",
    "    columns = [f'bssid_{str(i)}' for i in range(100)] + [f'rssi_{str(i)}' for i in range(100)] + \\\n",
    "            ['timestamp', 'x', 'y', 'floor', 'floor_str', 'path', 'time_diff', 'wifi_x', 'wifi_y']\n",
    "    data_df.columns = columns\n",
    "    data_df.to_csv(output_dir + file_name, index=False)\n"
   ]
  },
  {
   "cell_type": "code",
   "execution_count": 8,
   "metadata": {
    "tags": []
   },
   "outputs": [
    {
     "output_type": "stream",
     "name": "stdout",
     "text": [
      "5da138274db8ce0c98bbd3d2_timediff_1000_train.csv : 2662\n",
      "5da138364db8ce0c98bc00f1_timediff_1000_train.csv : 2767\n"
     ]
    },
    {
     "output_type": "display_data",
     "data": {
      "text/plain": "HBox(children=(HTML(value=''), FloatProgress(value=0.0, max=213.0), HTML(value='')))",
      "application/vnd.jupyter.widget-view+json": {
       "version_major": 2,
       "version_minor": 0,
       "model_id": "98c56997054440ba9058d09cf36f0ebd"
      }
     },
     "metadata": {}
    },
    {
     "output_type": "stream",
     "name": "stdout",
     "text": [
      "5da1389e4db8ce0c98bd0547_timediff_1000_train.csv : 6312\n"
     ]
    },
    {
     "output_type": "display_data",
     "data": {
      "text/plain": "HBox(children=(HTML(value=''), FloatProgress(value=0.0, max=82.0), HTML(value='')))",
      "application/vnd.jupyter.widget-view+json": {
       "version_major": 2,
       "version_minor": 0,
       "model_id": "360fc65409fe40c58fcf1746271f53b8"
      }
     },
     "metadata": {}
    },
    {
     "output_type": "display_data",
     "data": {
      "text/plain": "HBox(children=(HTML(value=''), FloatProgress(value=0.0, max=502.0), HTML(value='')))",
      "application/vnd.jupyter.widget-view+json": {
       "version_major": 2,
       "version_minor": 0,
       "model_id": "cd5730f2184341f89fce39c501dfd58a"
      }
     },
     "metadata": {}
    },
    {
     "output_type": "stream",
     "name": "stdout",
     "text": [
      "5d27099f03f801723c32511d_timediff_1000_train.csv : 4251\n",
      "5d2709a003f801723c3251bf_timediff_1000_train.csv : 3940\n"
     ]
    },
    {
     "output_type": "display_data",
     "data": {
      "text/plain": "HBox(children=(HTML(value=''), FloatProgress(value=0.0, max=131.0), HTML(value='')))",
      "application/vnd.jupyter.widget-view+json": {
       "version_major": 2,
       "version_minor": 0,
       "model_id": "6f7507464c4341b7a5e63ca24b1fa518"
      }
     },
     "metadata": {}
    },
    {
     "output_type": "display_data",
     "data": {
      "text/plain": "HBox(children=(HTML(value=''), FloatProgress(value=0.0, max=310.0), HTML(value='')))",
      "application/vnd.jupyter.widget-view+json": {
       "version_major": 2,
       "version_minor": 0,
       "model_id": "9afb9980aa91458c9508e6cc94d7a83d"
      }
     },
     "metadata": {}
    },
    {
     "output_type": "stream",
     "name": "stdout",
     "text": [
      "5da138754db8ce0c98bca82f_timediff_1000_train.csv : 7188\n"
     ]
    },
    {
     "output_type": "display_data",
     "data": {
      "text/plain": "HBox(children=(HTML(value=''), FloatProgress(value=0.0, max=205.0), HTML(value='')))",
      "application/vnd.jupyter.widget-view+json": {
       "version_major": 2,
       "version_minor": 0,
       "model_id": "51fb6e905e1946ac8f3b01f36935bac4"
      }
     },
     "metadata": {}
    },
    {
     "output_type": "stream",
     "name": "stdout",
     "text": [
      "5d27096c03f801723c31e5e0_timediff_1000_train.csv : 9100\n"
     ]
    },
    {
     "output_type": "display_data",
     "data": {
      "text/plain": "HBox(children=(HTML(value=''), FloatProgress(value=0.0, max=351.0), HTML(value='')))",
      "application/vnd.jupyter.widget-view+json": {
       "version_major": 2,
       "version_minor": 0,
       "model_id": "c50a9a1daf724474956019741dce4dfd"
      }
     },
     "metadata": {}
    },
    {
     "output_type": "stream",
     "name": "stdout",
     "text": [
      "5da138314db8ce0c98bbf3a0_timediff_1000_train.csv : 9012\n",
      "5d2709e003f801723c32d896_timediff_1000_train.csv : 11042\n"
     ]
    },
    {
     "output_type": "display_data",
     "data": {
      "text/plain": "HBox(children=(HTML(value=''), FloatProgress(value=0.0, max=428.0), HTML(value='')))",
      "application/vnd.jupyter.widget-view+json": {
       "version_major": 2,
       "version_minor": 0,
       "model_id": "21dc1738d1d24904abc528b83099785b"
      }
     },
     "metadata": {}
    },
    {
     "output_type": "display_data",
     "data": {
      "text/plain": "HBox(children=(HTML(value=''), FloatProgress(value=0.0, max=343.0), HTML(value='')))",
      "application/vnd.jupyter.widget-view+json": {
       "version_major": 2,
       "version_minor": 0,
       "model_id": "2912f25befa4474b9e75318e267891ee"
      }
     },
     "metadata": {}
    },
    {
     "output_type": "stream",
     "name": "stdout",
     "text": [
      "5da138764db8ce0c98bcaa46_timediff_1000_train.csv : 9420\n"
     ]
    },
    {
     "output_type": "display_data",
     "data": {
      "text/plain": "HBox(children=(HTML(value=''), FloatProgress(value=0.0, max=513.0), HTML(value='')))",
      "application/vnd.jupyter.widget-view+json": {
       "version_major": 2,
       "version_minor": 0,
       "model_id": "2d67623cf56943b3959c59736c129867"
      }
     },
     "metadata": {}
    },
    {
     "output_type": "stream",
     "name": "stdout",
     "text": [
      "5d2709d403f801723c32bd39_timediff_1000_train.csv : 10027\n"
     ]
    },
    {
     "output_type": "display_data",
     "data": {
      "text/plain": "HBox(children=(HTML(value=''), FloatProgress(value=0.0, max=359.0), HTML(value='')))",
      "application/vnd.jupyter.widget-view+json": {
       "version_major": 2,
       "version_minor": 0,
       "model_id": "0fad3914a1d1450190b7576514c10500"
      }
     },
     "metadata": {}
    },
    {
     "output_type": "stream",
     "name": "stdout",
     "text": [
      "5da1383b4db8ce0c98bc11ab_timediff_1000_train.csv : 13196\n"
     ]
    },
    {
     "output_type": "display_data",
     "data": {
      "text/plain": "HBox(children=(HTML(value=''), FloatProgress(value=0.0, max=239.0), HTML(value='')))",
      "application/vnd.jupyter.widget-view+json": {
       "version_major": 2,
       "version_minor": 0,
       "model_id": "c726f5a3b18f48e1b35e5a3fe9e83573"
      }
     },
     "metadata": {}
    },
    {
     "output_type": "stream",
     "name": "stdout",
     "text": [
      "5d27097f03f801723c320d97_timediff_1000_train.csv : 10507\n"
     ]
    },
    {
     "output_type": "display_data",
     "data": {
      "text/plain": "HBox(children=(HTML(value=''), FloatProgress(value=0.0, max=404.0), HTML(value='')))",
      "application/vnd.jupyter.widget-view+json": {
       "version_major": 2,
       "version_minor": 0,
       "model_id": "70f56d378e5e4e43b7c52994b62f4d40"
      }
     },
     "metadata": {}
    },
    {
     "output_type": "stream",
     "name": "stdout",
     "text": [
      "5d2709b303f801723c327472_timediff_1000_train.csv : 15358\n",
      "5da1382d4db8ce0c98bbe92e_timediff_1000_train.csv : 8999\n"
     ]
    },
    {
     "output_type": "display_data",
     "data": {
      "text/plain": "HBox(children=(HTML(value=''), FloatProgress(value=0.0, max=639.0), HTML(value='')))",
      "application/vnd.jupyter.widget-view+json": {
       "version_major": 2,
       "version_minor": 0,
       "model_id": "8b1d2a0446d742958588f3b5c878c065"
      }
     },
     "metadata": {}
    },
    {
     "output_type": "display_data",
     "data": {
      "text/plain": "HBox(children=(HTML(value=''), FloatProgress(value=0.0, max=338.0), HTML(value='')))",
      "application/vnd.jupyter.widget-view+json": {
       "version_major": 2,
       "version_minor": 0,
       "model_id": "3de90391b5a94185a29b977c0ae6d09f"
      }
     },
     "metadata": {}
    },
    {
     "output_type": "stream",
     "name": "stdout",
     "text": [
      "5c3c44b80379370013e0fd2b_timediff_1000_train.csv : 9737\n",
      "5d2709bb03f801723c32852c_timediff_1000_train.csv : 17203\n"
     ]
    },
    {
     "output_type": "display_data",
     "data": {
      "text/plain": "HBox(children=(HTML(value=''), FloatProgress(value=0.0, max=385.0), HTML(value='')))",
      "application/vnd.jupyter.widget-view+json": {
       "version_major": 2,
       "version_minor": 0,
       "model_id": "6e7be2c36b224e7593b1eba798a1343b"
      }
     },
     "metadata": {}
    },
    {
     "output_type": "display_data",
     "data": {
      "text/plain": "HBox(children=(HTML(value=''), FloatProgress(value=0.0, max=264.0), HTML(value='')))",
      "application/vnd.jupyter.widget-view+json": {
       "version_major": 2,
       "version_minor": 0,
       "model_id": "7ba9bc5e87a54a41a8870c6643ec48f2"
      }
     },
     "metadata": {}
    },
    {
     "output_type": "stream",
     "name": "stdout",
     "text": [
      "5a0546857ecc773753327266_timediff_1000_train.csv : 9296\n"
     ]
    },
    {
     "output_type": "display_data",
     "data": {
      "text/plain": "HBox(children=(HTML(value=''), FloatProgress(value=0.0, max=512.0), HTML(value='')))",
      "application/vnd.jupyter.widget-view+json": {
       "version_major": 2,
       "version_minor": 0,
       "model_id": "fadf63e0b91d4d18a46cf3d50a7f2109"
      }
     },
     "metadata": {}
    },
    {
     "output_type": "stream",
     "name": "stdout",
     "text": [
      "5da958dd46f8266d0737457b_timediff_1000_train.csv : 15148\n"
     ]
    },
    {
     "output_type": "display_data",
     "data": {
      "text/plain": "HBox(children=(HTML(value=''), FloatProgress(value=0.0, max=552.0), HTML(value='')))",
      "application/vnd.jupyter.widget-view+json": {
       "version_major": 2,
       "version_minor": 0,
       "model_id": "3edd0d11ecce45cbb14b9367830293cf"
      }
     },
     "metadata": {}
    },
    {
     "output_type": "stream",
     "name": "stdout",
     "text": [
      "5dc8cea7659e181adb076a3f_timediff_1000_train.csv : 15655\n"
     ]
    },
    {
     "output_type": "display_data",
     "data": {
      "text/plain": "HBox(children=(HTML(value=''), FloatProgress(value=0.0, max=740.0), HTML(value='')))",
      "application/vnd.jupyter.widget-view+json": {
       "version_major": 2,
       "version_minor": 0,
       "model_id": "e3b7830e267743de80303f2daa50d118"
      }
     },
     "metadata": {}
    },
    {
     "output_type": "stream",
     "name": "stdout",
     "text": [
      "5da138b74db8ce0c98bd4774_timediff_1000_train.csv : 17382\n"
     ]
    },
    {
     "output_type": "display_data",
     "data": {
      "text/plain": "HBox(children=(HTML(value=''), FloatProgress(value=0.0, max=748.0), HTML(value='')))",
      "application/vnd.jupyter.widget-view+json": {
       "version_major": 2,
       "version_minor": 0,
       "model_id": "c18aae7238494d42a38684df19c4488e"
      }
     },
     "metadata": {}
    },
    {
     "output_type": "stream",
     "name": "stdout",
     "text": [
      "5dbc1d84c1eb61796cf7c010_timediff_1000_train.csv : 16174\n"
     ]
    },
    {
     "output_type": "display_data",
     "data": {
      "text/plain": "HBox(children=(HTML(value=''), FloatProgress(value=0.0, max=791.0), HTML(value='')))",
      "application/vnd.jupyter.widget-view+json": {
       "version_major": 2,
       "version_minor": 0,
       "model_id": "4f74e848a0af4dff8b13958b99b54f34"
      }
     },
     "metadata": {}
    },
    {
     "output_type": "stream",
     "name": "stdout",
     "text": [
      "5d2709c303f801723c3299ee_timediff_1000_train.csv : 10083\n"
     ]
    },
    {
     "output_type": "display_data",
     "data": {
      "text/plain": "HBox(children=(HTML(value=''), FloatProgress(value=0.0, max=664.0), HTML(value='')))",
      "application/vnd.jupyter.widget-view+json": {
       "version_major": 2,
       "version_minor": 0,
       "model_id": "e1cccf48408a4bb68c2e1964a560475a"
      }
     },
     "metadata": {}
    },
    {
     "output_type": "stream",
     "name": "stdout",
     "text": [
      "\n",
      "\n",
      "5d27075f03f801723c2e360f_timediff_1000_train.csv : 23666\n"
     ]
    },
    {
     "output_type": "display_data",
     "data": {
      "text/plain": "HBox(children=(HTML(value=''), FloatProgress(value=0.0, max=1139.0), HTML(value='')))",
      "application/vnd.jupyter.widget-view+json": {
       "version_major": 2,
       "version_minor": 0,
       "model_id": "5ea7937e009440a6bf7751f8e880ec3e"
      }
     },
     "metadata": {}
    },
    {
     "output_type": "stream",
     "name": "stdout",
     "text": [
      "\n",
      "\n",
      "\n",
      "\n",
      "\n",
      "\n",
      "\n",
      "\n",
      "\n",
      "\n",
      "\n",
      "\n",
      "\n",
      "\n",
      "\n",
      "\n",
      "\n",
      "\n",
      "\n",
      "\n",
      "\n",
      "\n"
     ]
    }
   ],
   "source": [
    "with Pool(processes=24) as pool:\n",
    "    pool.map(make_dataset_for_train, train_files)"
   ]
  },
  {
   "cell_type": "code",
   "execution_count": 15,
   "metadata": {},
   "outputs": [],
   "source": [
    "def make_dataset_for_test(test_file):\n",
    "    train = pd.read_csv(test_file)\n",
    "\n",
    "    file_name = test_file.split('/')[-1]\n",
    "\n",
    "    num_of_lines = train.shape[0]\n",
    "    print(f'{file_name} : {num_of_lines}')\n",
    "\n",
    "    data = None\n",
    "    for i in tqdm(range(num_of_lines)):\n",
    "\n",
    "        tmp = train.iloc[i,1:-2].astype(int).sort_values(ascending=False).head(100)\n",
    "        target = train.iloc[i, -2:]\n",
    "\n",
    "        line = pd.concat([pd.Series(tmp.index.astype(str)), tmp.astype(int), pd.Series(target)])\n",
    "        line.index = [str(i) for i in range(202)]\n",
    "        if data is None:\n",
    "            data = pd.DataFrame(line).T\n",
    "            data.columns = [str(i) for i in range(202)]\n",
    "        else:\n",
    "            data = data.append(line, ignore_index=True)\n",
    "    data.columns = [f'bssid_{str(i)}' for i in range(100)] + [f'rssi_{str(i)}' for i in range(100)] + ['site_path_timestamp', 'time_diff']\n",
    "    data.to_csv(output_dir + file_name, index=False)"
   ]
  },
  {
   "cell_type": "code",
   "execution_count": 17,
   "metadata": {},
   "outputs": [
    {
     "output_type": "stream",
     "name": "stdout",
     "text": [
      "5da138274db8ce0c98bbd3d2_timediff_1000_test.csv : 103\n",
      "5da1389e4db8ce0c98bd0547_timediff_1000_test.csv : 1745d27099f03f801723c32511d_timediff_1000_test.csv : 49\n",
      "\n",
      "5da138364db8ce0c98bc00f1_timediff_1000_test.csv : 139\n"
     ]
    },
    {
     "output_type": "display_data",
     "data": {
      "text/plain": "HBox(children=(HTML(value=''), FloatProgress(value=0.0, max=49.0), HTML(value='')))",
      "application/vnd.jupyter.widget-view+json": {
       "version_major": 2,
       "version_minor": 0,
       "model_id": "0b7087e6560d46dd820241a1b64be732"
      }
     },
     "metadata": {}
    },
    {
     "output_type": "stream",
     "name": "stdout",
     "text": [
      "5d2709a003f801723c3251bf_timediff_1000_test.csv : 218\n",
      "5da138314db8ce0c98bbf3a0_timediff_1000_test.csv : 171"
     ]
    },
    {
     "output_type": "display_data",
     "data": {
      "text/plain": "HBox(children=(HTML(value=''), FloatProgress(value=0.0, max=103.0), HTML(value='')))",
      "application/vnd.jupyter.widget-view+json": {
       "version_major": 2,
       "version_minor": 0,
       "model_id": "cd971e370cec4beea9b0be82ea231842"
      }
     },
     "metadata": {}
    },
    {
     "output_type": "display_data",
     "data": {
      "text/plain": "HBox(children=(HTML(value=''), FloatProgress(value=0.0, max=174.0), HTML(value='')))",
      "application/vnd.jupyter.widget-view+json": {
       "version_major": 2,
       "version_minor": 0,
       "model_id": "b5bab54dc0384548a74065c06bd0e709"
      }
     },
     "metadata": {}
    },
    {
     "output_type": "stream",
     "name": "stdout",
     "text": [
      "\n",
      "5da138754db8ce0c98bca82f_timediff_1000_test.csv : 386\n",
      "5d27096c03f801723c31e5e0_timediff_1000_test.csv : 654\n",
      "5d2709e003f801723c32d896_timediff_1000_test.csv : 531\n"
     ]
    },
    {
     "output_type": "display_data",
     "data": {
      "text/plain": "HBox(children=(HTML(value=''), FloatProgress(value=0.0, max=139.0), HTML(value='')))",
      "application/vnd.jupyter.widget-view+json": {
       "version_major": 2,
       "version_minor": 0,
       "model_id": "b605a6e0a61b4a8ab20ee97d767f16c5"
      }
     },
     "metadata": {}
    },
    {
     "output_type": "stream",
     "name": "stdout",
     "text": [
      "5da1383b4db8ce0c98bc11ab_timediff_1000_test.csv : 380\n"
     ]
    },
    {
     "output_type": "display_data",
     "data": {
      "text/plain": "HBox(children=(HTML(value=''), FloatProgress(value=0.0, max=171.0), HTML(value='')))",
      "application/vnd.jupyter.widget-view+json": {
       "version_major": 2,
       "version_minor": 0,
       "model_id": "9e08e30e33eb42cca43658579a848fd4"
      }
     },
     "metadata": {}
    },
    {
     "output_type": "stream",
     "name": "stdout",
     "text": [
      "5d27097f03f801723c320d97_timediff_1000_test.csv : 303\n",
      "5da138764db8ce0c98bcaa46_timediff_1000_test.csv : 573\n",
      "5c3c44b80379370013e0fd2b_timediff_1000_test.csv : 26\n"
     ]
    },
    {
     "output_type": "display_data",
     "data": {
      "text/plain": "HBox(children=(HTML(value=''), FloatProgress(value=0.0, max=531.0), HTML(value='')))",
      "application/vnd.jupyter.widget-view+json": {
       "version_major": 2,
       "version_minor": 0,
       "model_id": "3bb5e1b14eac4788966d50550a8d07a3"
      }
     },
     "metadata": {}
    },
    {
     "output_type": "display_data",
     "data": {
      "text/plain": "HBox(children=(HTML(value=''), FloatProgress(value=0.0, max=654.0), HTML(value='')))",
      "application/vnd.jupyter.widget-view+json": {
       "version_major": 2,
       "version_minor": 0,
       "model_id": "8a4824da533e4803a70a46e4c163b62b"
      }
     },
     "metadata": {}
    },
    {
     "output_type": "display_data",
     "data": {
      "text/plain": "HBox(children=(HTML(value=''), FloatProgress(value=0.0, max=218.0), HTML(value='')))",
      "application/vnd.jupyter.widget-view+json": {
       "version_major": 2,
       "version_minor": 0,
       "model_id": "d1e73d6f775c4d709daabc9e65730e2b"
      }
     },
     "metadata": {}
    },
    {
     "output_type": "display_data",
     "data": {
      "text/plain": "HBox(children=(HTML(value=''), FloatProgress(value=0.0, max=386.0), HTML(value='')))",
      "application/vnd.jupyter.widget-view+json": {
       "version_major": 2,
       "version_minor": 0,
       "model_id": "2aec1e99c0c64022a65a8c3070b8bf64"
      }
     },
     "metadata": {}
    },
    {
     "output_type": "display_data",
     "data": {
      "text/plain": "HBox(children=(HTML(value=''), FloatProgress(value=0.0, max=573.0), HTML(value='')))",
      "application/vnd.jupyter.widget-view+json": {
       "version_major": 2,
       "version_minor": 0,
       "model_id": "daa40e17237548bebc8a03b223d1274b"
      }
     },
     "metadata": {}
    },
    {
     "output_type": "display_data",
     "data": {
      "text/plain": "HBox(children=(HTML(value=''), FloatProgress(value=0.0, max=380.0), HTML(value='')))",
      "application/vnd.jupyter.widget-view+json": {
       "version_major": 2,
       "version_minor": 0,
       "model_id": "630fca921a55450ea13e83a77b431b0e"
      }
     },
     "metadata": {}
    },
    {
     "output_type": "stream",
     "name": "stdout",
     "text": [
      "5d2709b303f801723c327472_timediff_1000_test.csv : 527\n"
     ]
    },
    {
     "output_type": "display_data",
     "data": {
      "text/plain": "HBox(children=(HTML(value=''), FloatProgress(value=0.0, max=26.0), HTML(value='')))",
      "application/vnd.jupyter.widget-view+json": {
       "version_major": 2,
       "version_minor": 0,
       "model_id": "32fcf914c4b347f2b8140de9b705f29e"
      }
     },
     "metadata": {}
    },
    {
     "output_type": "stream",
     "name": "stdout",
     "text": [
      "5da1382d4db8ce0c98bbe92e_timediff_1000_test.csv : 311\n"
     ]
    },
    {
     "output_type": "display_data",
     "data": {
      "text/plain": "HBox(children=(HTML(value=''), FloatProgress(value=0.0, max=303.0), HTML(value='')))",
      "application/vnd.jupyter.widget-view+json": {
       "version_major": 2,
       "version_minor": 0,
       "model_id": "8d14fa01271f44e5abc300c91df9a30a"
      }
     },
     "metadata": {}
    },
    {
     "output_type": "stream",
     "name": "stdout",
     "text": [
      "5d2709d403f801723c32bd39_timediff_1000_test.csv : 1223\n"
     ]
    },
    {
     "output_type": "display_data",
     "data": {
      "text/plain": "HBox(children=(HTML(value=''), FloatProgress(value=0.0, max=527.0), HTML(value='')))",
      "application/vnd.jupyter.widget-view+json": {
       "version_major": 2,
       "version_minor": 0,
       "model_id": "a465c2c6d61b4028a88c05e50d136108"
      }
     },
     "metadata": {}
    },
    {
     "output_type": "display_data",
     "data": {
      "text/plain": "HBox(children=(HTML(value=''), FloatProgress(value=0.0, max=311.0), HTML(value='')))",
      "application/vnd.jupyter.widget-view+json": {
       "version_major": 2,
       "version_minor": 0,
       "model_id": "5b8e5934a4e34ed1a7586e307ac497e7"
      }
     },
     "metadata": {}
    },
    {
     "output_type": "stream",
     "name": "stdout",
     "text": [
      "5d2709bb03f801723c32852c_timediff_1000_test.csv : 716\n",
      "5a0546857ecc773753327266_timediff_1000_test.csv : 299\n",
      "5d27075f03f801723c2e360f_timediff_1000_test.csv : 47\n"
     ]
    },
    {
     "output_type": "display_data",
     "data": {
      "text/plain": "HBox(children=(HTML(value=''), FloatProgress(value=0.0, max=1223.0), HTML(value='')))",
      "application/vnd.jupyter.widget-view+json": {
       "version_major": 2,
       "version_minor": 0,
       "model_id": "4ce08f5d25a84104a9ce1d9d2e50bfc1"
      }
     },
     "metadata": {}
    },
    {
     "output_type": "stream",
     "name": "stdout",
     "text": [
      "5da138b74db8ce0c98bd4774_timediff_1000_test.csv : 445\n"
     ]
    },
    {
     "output_type": "display_data",
     "data": {
      "text/plain": "HBox(children=(HTML(value=''), FloatProgress(value=0.0, max=716.0), HTML(value='')))",
      "application/vnd.jupyter.widget-view+json": {
       "version_major": 2,
       "version_minor": 0,
       "model_id": "4bf94b3b7f2049b7adcb5d1a991042c6"
      }
     },
     "metadata": {}
    },
    {
     "output_type": "display_data",
     "data": {
      "text/plain": "HBox(children=(HTML(value=''), FloatProgress(value=0.0, max=47.0), HTML(value='')))",
      "application/vnd.jupyter.widget-view+json": {
       "version_major": 2,
       "version_minor": 0,
       "model_id": "4905d56992fa4d0c8146fe72b1466d4f"
      }
     },
     "metadata": {}
    },
    {
     "output_type": "display_data",
     "data": {
      "text/plain": "HBox(children=(HTML(value=''), FloatProgress(value=0.0, max=299.0), HTML(value='')))",
      "application/vnd.jupyter.widget-view+json": {
       "version_major": 2,
       "version_minor": 0,
       "model_id": "c323a63b447640c19592958affb2bb96"
      }
     },
     "metadata": {}
    },
    {
     "output_type": "stream",
     "name": "stdout",
     "text": [
      "5dc8cea7659e181adb076a3f_timediff_1000_test.csv : 648\n"
     ]
    },
    {
     "output_type": "display_data",
     "data": {
      "text/plain": "HBox(children=(HTML(value=''), FloatProgress(value=0.0, max=445.0), HTML(value='')))",
      "application/vnd.jupyter.widget-view+json": {
       "version_major": 2,
       "version_minor": 0,
       "model_id": "e627e64eb55d448db7a5dfcd8b4ad2dc"
      }
     },
     "metadata": {}
    },
    {
     "output_type": "display_data",
     "data": {
      "text/plain": "HBox(children=(HTML(value=''), FloatProgress(value=0.0, max=648.0), HTML(value='')))",
      "application/vnd.jupyter.widget-view+json": {
       "version_major": 2,
       "version_minor": 0,
       "model_id": "5d988a0d3294418c94d3c9e0f0355854"
      }
     },
     "metadata": {}
    },
    {
     "output_type": "stream",
     "name": "stdout",
     "text": [
      "5da958dd46f8266d0737457b_timediff_1000_test.csv : 778\n"
     ]
    },
    {
     "output_type": "display_data",
     "data": {
      "text/plain": "HBox(children=(HTML(value=''), FloatProgress(value=0.0, max=778.0), HTML(value='')))",
      "application/vnd.jupyter.widget-view+json": {
       "version_major": 2,
       "version_minor": 0,
       "model_id": "b1477b27b4a840f8be9018c22f87278c"
      }
     },
     "metadata": {}
    },
    {
     "output_type": "stream",
     "name": "stdout",
     "text": [
      "5dbc1d84c1eb61796cf7c010_timediff_1000_test.csv : 923\n",
      "5d2709c303f801723c3299ee_timediff_1000_test.csv : 509\n"
     ]
    },
    {
     "output_type": "display_data",
     "data": {
      "text/plain": "HBox(children=(HTML(value=''), FloatProgress(value=0.0, max=509.0), HTML(value='')))",
      "application/vnd.jupyter.widget-view+json": {
       "version_major": 2,
       "version_minor": 0,
       "model_id": "d2e4cd9e21034dde8207aa5b7a744ceb"
      }
     },
     "metadata": {}
    },
    {
     "output_type": "display_data",
     "data": {
      "text/plain": "HBox(children=(HTML(value=''), FloatProgress(value=0.0, max=923.0), HTML(value='')))",
      "application/vnd.jupyter.widget-view+json": {
       "version_major": 2,
       "version_minor": 0,
       "model_id": "d6f504c4ba014a05bbabde960c362439"
      }
     },
     "metadata": {}
    },
    {
     "output_type": "stream",
     "name": "stdout",
     "text": [
      "\n",
      "\n",
      "\n",
      "\n",
      "\n",
      "\n",
      "\n",
      "\n",
      "\n",
      "\n",
      "\n",
      "\n",
      "\n",
      "\n",
      "\n",
      "\n",
      "\n",
      "\n",
      "\n",
      "\n",
      "\n",
      "\n",
      "\n",
      "\n"
     ]
    }
   ],
   "source": [
    "with Pool(processes=24) as pool:\n",
    "    pool.map(make_dataset_for_test, test_files)"
   ]
  },
  {
   "cell_type": "code",
   "execution_count": 19,
   "metadata": {},
   "outputs": [],
   "source": [
    "import pickle\n",
    "dfs = []\n",
    "for f in glob.glob(output_dir + '*train.csv'):\n",
    "    site_id = f.split('/')[-1].split('_')[0]\n",
    "    _df = pd.read_csv(f)\n",
    "    _df['site_id'] = site_id\n",
    "    dfs.append(_df)"
   ]
  },
  {
   "cell_type": "code",
   "execution_count": 20,
   "metadata": {},
   "outputs": [],
   "source": [
    "def to_pickle(filename, obj):\n",
    "    with open(filename, mode='wb') as f:\n",
    "        pickle.dump(obj, f)\n",
    "        \n",
    "to_pickle(output_dir + 'train_all.pkl', pd.concat(dfs).reset_index(drop=True))"
   ]
  },
  {
   "cell_type": "code",
   "execution_count": 21,
   "metadata": {},
   "outputs": [],
   "source": [
    "dfs = []\n",
    "for f in glob.glob(output_dir + '*test.csv'):\n",
    "    site_id = f.split('/')[-1].split('_')[0]\n",
    "    _df = pd.read_csv(f)\n",
    "    _df['site_id'] = site_id\n",
    "    dfs.append(_df)"
   ]
  },
  {
   "cell_type": "code",
   "execution_count": 22,
   "metadata": {},
   "outputs": [],
   "source": [
    "to_pickle(output_dir + 'test_all.pkl', pd.concat(dfs).reset_index(drop=True))"
   ]
  },
  {
   "cell_type": "code",
   "execution_count": null,
   "metadata": {},
   "outputs": [],
   "source": []
  }
 ]
}