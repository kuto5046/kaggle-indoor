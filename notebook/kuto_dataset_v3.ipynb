{
 "metadata": {
  "language_info": {
   "codemirror_mode": {
    "name": "ipython",
    "version": 3
   },
   "file_extension": ".py",
   "mimetype": "text/x-python",
   "name": "python",
   "nbconvert_exporter": "python",
   "pygments_lexer": "ipython3",
   "version": "3.8.5"
  },
  "orig_nbformat": 2,
  "kernelspec": {
   "name": "python3",
   "display_name": "Python 3",
   "language": "python"
  }
 },
 "nbformat": 4,
 "nbformat_minor": 2,
 "cells": [
  {
   "cell_type": "code",
   "execution_count": 1,
   "metadata": {},
   "outputs": [],
   "source": [
    "import pandas as pd\n",
    "import numpy as np\n",
    "import glob\n",
    "import os\n",
    "import gc\n",
    "import json\n",
    "from tqdm.notebook import tqdm\n",
    "\n",
    "import sys \n",
    "sys.path.append(\"../\")\n",
    "from src.io_f import read_data_file\n",
    "\n",
    "from scipy import interpolate"
   ]
  },
  {
   "cell_type": "code",
   "execution_count": 2,
   "metadata": {},
   "outputs": [],
   "source": [
    "base_path = '../input/indoor-location-navigation/'"
   ]
  },
  {
   "cell_type": "code",
   "execution_count": 3,
   "metadata": {},
   "outputs": [],
   "source": [
    "# pull out all the buildings actually used in the test set, given current method we don't need the other ones\n",
    "ssubm = pd.read_csv(base_path + 'sample_submission.csv')\n",
    "\n",
    "# only 24 of the total buildings are used in the test set, \n",
    "# this allows us to greatly reduce the intial size of the dataset\n",
    "ssubm_df = ssubm[\"site_path_timestamp\"].apply(lambda x: pd.Series(x.split(\"_\")))\n",
    "ssubm_df = ssubm_df.rename(columns={0:'site', 1:'path', 2:'timestamp'})\n",
    "ssubm_df['timestamp'] = ssubm_df['timestamp'].astype(int)\n",
    "used_buildings = sorted(ssubm_df['site'].value_counts().index.tolist())\n",
    "\n",
    "# dictionary used to map the floor codes to the values used in the submission file. \n",
    "floor_map = {\"B2\":-2, \"B1\":-1, \"F1\":0, \"F2\": 1, \"F3\":2, \"F4\":3, \"F5\":4, \"F6\":5, \"F7\":6,\"F8\":7, \"F9\":8,\n",
    "             \"1F\":0, \"2F\":1, \"3F\":2, \"4F\":3, \"5F\":4, \"6F\":5, \"7F\":6, \"8F\": 7, \"9F\":8}"
   ]
  },
  {
   "cell_type": "code",
   "execution_count": 4,
   "metadata": {},
   "outputs": [],
   "source": [
    "# # get only the wifi bssid that occur over 1000 times(this number can be experimented with)\n",
    "# # these will be the only ones used when constructing features\n",
    "# bssid = dict()\n",
    "# for building in tqdm(used_buildings):\n",
    "#     folders = sorted(glob.glob(os.path.join(base_path,'train/'+building+'/*')))\n",
    "#     wifi = list()\n",
    "#     for folder in folders:\n",
    "#         floor = floor_map[folder.split('/')[-1]]\n",
    "#         files = glob.glob(os.path.join(folder, \"*.txt\"))\n",
    "#         for file in files:\n",
    "#             with open(file, encoding='utf-8') as f:\n",
    "#                 txt = f.readlines()\n",
    "#                 for e, line in enumerate(txt):\n",
    "#                     tmp = line.strip().split()\n",
    "#                     if tmp[1] == \"TYPE_WIFI\":\n",
    "#                         wifi.append(tmp)\n",
    "#     df = pd.DataFrame(wifi)\n",
    "#     #top_bssid = df[3].value_counts().iloc[:500].index.tolist()\n",
    "#     value_counts = df[3].value_counts()\n",
    "#     top_bssid = value_counts[value_counts > 100].index.tolist()\n",
    "#     # print(len(top_bssid))\n",
    "#     bssid[building] = top_bssid\n",
    "#     del df\n",
    "#     del wifi\n",
    "#     gc.collect()"
   ]
  },
  {
   "cell_type": "code",
   "execution_count": 5,
   "metadata": {},
   "outputs": [],
   "source": [
    "# with open(\"bssid_1000.json\", \"w\") as f:\n",
    "#     json.dump(bssid, f)"
   ]
  },
  {
   "cell_type": "code",
   "execution_count": 6,
   "metadata": {},
   "outputs": [],
   "source": [
    "with open(\"bssid_1000.json\") as f:\n",
    "    all_bssid = json.load(f)"
   ]
  },
  {
   "cell_type": "code",
   "execution_count": 7,
   "metadata": {},
   "outputs": [],
   "source": [
    "def wifi_waypoint_by_linear_interpolation(\n",
    "        trajectory_timestamp, wifi_timestamp,\n",
    "        x_observed, y_observed, delta_time=500,\n",
    "        ): \n",
    "    \"\"\"\n",
    "    arg: wifi_timestampの数\n",
    "    return: wifi_waypointの数\n",
    "    これらが必ず一致する\n",
    "    \"\"\"\n",
    "    wifi_waypoint_list = []\n",
    "    num_interpolation = len(trajectory_timestamp) - 1  # 補完回数 \n",
    "    # 各waypoint間で線形補完\n",
    "    for i in range(num_interpolation):\n",
    "        # 潜在的なtimestampを作成(これのどれかにwifiを当てはめるような形)\n",
    "        n_split = int((max(trajectory_timestamp[i:i+2]) - min(trajectory_timestamp[i:i+2])) / delta_time) + 2  # delta_time刻みとなるように分割数を指定(+2は始点と終点分)\n",
    "        timestamp_latent = np.linspace(min(trajectory_timestamp[i:i+2]), max(trajectory_timestamp[i:i+2]), n_split).astype(int) \n",
    "        \n",
    "        # xが昇順の場合はlatentも昇順になるようにする\n",
    "        if x_observed[i] < x_observed[i+1]:\n",
    "            x_latent = np.linspace(min(x_observed[i:i+2]), max(x_observed[i:i+2]), n_split)\n",
    "        # xが降順の場合はlatentも降順になるようにする\n",
    "        else:\n",
    "            x_latent = np.linspace(min(x_observed[i:i+2]), max(x_observed[i:i+2]), n_split)[::-1]\n",
    "        \n",
    "        # 線形補完関数の適用\n",
    "        fitted_curve = interpolate.interp1d(x_observed[i:i+2], y_observed[i:i+2])\n",
    "\n",
    "        # wifiのtimestampに最も近いものをsplit_timestampから取得しそれに対応するwaypointをwifiのwaypointとして取得\n",
    "        wifi_x = []\n",
    "        wifi_y = []\n",
    "\n",
    "        # 区間内のwifiデータのみ考える\n",
    "        if i == num_interpolation-1:  # 最後の補完の場合\n",
    "            # 最後のwaypointより未来のwifiデータがあるようなのでこの処理を追加\n",
    "            target_idx = min(trajectory_timestamp[i:i+2]) <= wifi_timestamp\n",
    "        else:\n",
    "            target_idx = (min(trajectory_timestamp[i:i+2]) <= wifi_timestamp) & (wifi_timestamp < max(trajectory_timestamp[i:i+2]))\n",
    "\n",
    "        target_wifi_timestamp = wifi_timestamp[target_idx]\n",
    "\n",
    "        # timestampが最も近いものをwifiのwaypointとして取得\n",
    "        for t in target_wifi_timestamp:\n",
    "            idx = np.abs(timestamp_latent - t).argmin()  # wifiデータとtimestampが最も近いものをlatentから取得\n",
    "            wifi_x.append(x_latent[idx])\n",
    "            wifi_y.append(fitted_curve(x_latent[idx]))\n",
    "\n",
    "        wifi_waypoint = np.stack([wifi_x, wifi_y], axis=1)\n",
    "        wifi_waypoint_list.append(wifi_waypoint)\n",
    "\n",
    "    wifi_waypoint = np.concatenate(wifi_waypoint_list)\n",
    "    return wifi_waypoint\n",
    "\n",
    "\n",
    "def get_wifi_waypoint(site, floor, path, wifi_timestamp):\n",
    "\n",
    "    path_file = f'../input/indoor-location-navigation/train/{site}/{floor}/{path}.txt'\n",
    "    example = read_data_file(path_file)\n",
    "\n",
    "    # waypoint\n",
    "    trajectory = example.waypoint\n",
    "    trajectory_timestamp = trajectory[:,0]\n",
    "    trajectory_waypoint = trajectory[:, 1:]\n",
    "    x_observed = trajectory_waypoint[:, 0]\n",
    "    y_observed = trajectory_waypoint[:, 1]\n",
    "\n",
    "    # 線形補完\n",
    "    wifi_waypoint = wifi_waypoint_by_linear_interpolation(trajectory_timestamp, wifi_timestamp, x_observed, y_observed) \n",
    "    return wifi_waypoint\n",
    "\n",
    "\n",
    "def grouping_last_seen_timestamp(df):\n",
    "    # last seen timestampでグループを作成する \n",
    "    bins = int((df['last_seen_timestamp'].max() - df['last_seen_timestamp'].min()) / BIN_TIME)\n",
    "    if bins == 0:\n",
    "        df['last_seen_timestamp'] = int(df['last_seen_timestamp'].mean())  # まとめたもので上書き\n",
    "    else:\n",
    "        s_cut = pd.cut(df['last_seen_timestamp'], bins, labels=[str(i) for i in range(bins)])\n",
    "        df['group'] = s_cut\n",
    "        gr = df.groupby('group')\n",
    "        df['last_seen_timestamp'] = gr.transform('mean')['last_seen_timestamp']  # まとめたもので上書き\n",
    "        df['last_seen_timestamp'] = df['last_seen_timestamp'].astype(int)\n",
    "    return df"
   ]
  },
  {
   "cell_type": "code",
   "execution_count": 8,
   "metadata": {},
   "outputs": [],
   "source": [
    "TIME_DIFF_THR = 5000  # 5s以上ズレている場合は消す\n",
    "BIN_TIME = 3000  # 3sごとにlast seenの塊を作る\n",
    "NUM_WIFI = 50   # 揃えるwifiデータ数"
   ]
  },
  {
   "cell_type": "code",
   "execution_count": 9,
   "metadata": {},
   "outputs": [],
   "source": [
    "output_dir = '../input/kuto_wifi_dataset_v4/'\n",
    "os.makedirs(output_dir, exist_ok=True)"
   ]
  },
  {
   "cell_type": "code",
   "execution_count": 10,
   "metadata": {},
   "outputs": [],
   "source": [
    "def create_train_dataset(building):\n",
    "    folders = sorted(glob.glob(os.path.join(base_path,'train', building +'/*')))\n",
    "    building_dfs = list()\n",
    "    index = sorted(all_bssid[building])\n",
    "    print(building)\n",
    "    for i, folder in enumerate(tqdm(folders)):\n",
    "        floor_str = folder.split('/')[-1]\n",
    "        floor = floor_map[folder.split('/')[-1]]\n",
    "        \n",
    "        files = glob.glob(os.path.join(folder, \"*.txt\"))\n",
    "\n",
    "        # path内の処理\n",
    "        for file in files:\n",
    "            wifi = list()\n",
    "            waypoint = list()\n",
    "   \n",
    "            with open(file, encoding='utf-8') as f:\n",
    "                txt = f.readlines()\n",
    "            for line in txt:\n",
    "                line = line.strip().split()\n",
    "                if line[1] == \"TYPE_WAYPOINT\":\n",
    "                    waypoint.append(line)\n",
    "                if line[1] == \"TYPE_WIFI\":\n",
    "                    wifi.append(line)\n",
    "\n",
    "            # wifiデータが1つもない場合は飛ばす\n",
    "            if len(wifi) == 0:\n",
    "                print(f'wifiデータがないpath:{file}')\n",
    "                break\n",
    "\n",
    "            df = pd.DataFrame(np.array(wifi)) \n",
    "            df = df.rename(columns={0:'timestamp', 1:'type_wifi', 2:'ssid', 3:'bssid', 4:'rssi', 5:'freq', 6:'last_seen_timestamp'})\n",
    "            df['timestamp'] = df['timestamp'].astype(int)\n",
    "            df['last_seen_timestamp'] = df['last_seen_timestamp'].astype(int)\n",
    "            \n",
    "            # last seen timestampとtimestampの差が小さいもののみ使用\n",
    "            df = df[(df['last_seen_timestamp'] - df['timestamp']).abs() < TIME_DIFF_THR].reset_index(drop=True)\n",
    "\n",
    "            # last seen timestampで塊を作る\n",
    "            df = grouping_last_seen_timestamp(df)\n",
    "\n",
    "            # last seenのgroupごとに処理\n",
    "            dfs = []\n",
    "            for last_seen_timestamp, g in df.groupby('last_seen_timestamp'):\n",
    "                dists = list()\n",
    "                # waypointのtimestampに最も近いwifiのindexを取得\n",
    "                for e, k in enumerate(waypoint):\n",
    "                    dist = abs(int(last_seen_timestamp) - int(k[0]))  # last_seen_timestamp - waypointのtimestamp\n",
    "                    dists.append(dist)\n",
    "                nearest_wp_index = np.argmin(dists)\n",
    "                \n",
    "                g = g.drop_duplicates(subset='bssid')  # last seenでまとめた時のbssidの被りを削除  TODO rssiは平均を取った方がいい？\n",
    "    \n",
    "                tmp = g.loc[:,'bssid':\"rssi\"]\n",
    "                feat = tmp.set_index('bssid').reindex(index).replace(np.nan, -999).T\n",
    "                # last seen timestampに最も近いwaypointのtimestamp,x,y\n",
    "                feat[\"timestamp\"] = str(waypoint[nearest_wp_index][0])  \n",
    "                feat[\"x\"] = float(waypoint[nearest_wp_index][2])\n",
    "                feat[\"y\"] = float(waypoint[nearest_wp_index][3])\n",
    "                feat[\"f\"] = floor\n",
    "                feat[\"floor_str\"] = floor_str\n",
    "                feat[\"path\"] = file.split('/')[-1].split('.')[0] # useful for crossvalidation\n",
    "                feat[\"last_seen_timestamp\"] = last_seen_timestamp\n",
    "                feat[\"time_diff\"] = last_seen_timestamp - int(waypoint[nearest_wp_index][0])  # last seen timestampとwaypointのtime_diff\n",
    "                dfs.append(feat)\n",
    "\n",
    "            path_df = pd.concat(dfs).reset_index(drop=True)\n",
    "\n",
    "            # pathのstart地点のtimestampより過去のwifiデータは使用しない(要検討)\n",
    "            start_timestamp = int(waypoint[0][0])\n",
    "            path_df = path_df[path_df['last_seen_timestamp'] > int(waypoint[0][0])].reset_index(drop=True)\n",
    "\n",
    "            bssid = path_df.columns[:-8].values\n",
    "            rssi = path_df.iloc[:, :-8].astype(int).values\n",
    "            targets = path_df.iloc[:,-8:].values\n",
    "\n",
    "            # wifiのデータ数がNUM_WIFI以上のlast seen timestampのみ使用 \n",
    "            use_idx = ((path_df.iloc[:, :-8] != -999).sum(axis=1) > NUM_WIFI).values\n",
    "            targets = targets[use_idx]\n",
    "            path_df = path_df[use_idx]\n",
    "\n",
    "            sort_rssi = []\n",
    "            sort_bssid = []\n",
    "            for i in range(len(path_df)):\n",
    "                sort_rssi.append(np.sort(rssi[i])[::-1][:NUM_WIFI])\n",
    "                idx = np.argsort(rssi[i])[::-1]\n",
    "                sort_bssid.append(bssid[idx][:NUM_WIFI])\n",
    "            if len(sort_bssid) == 0:\n",
    "                # path内でlast seen timestampごとにまとめたときにNUM_WIFI個以上のwifiデータをもつlast seen timestampが1つもない場合\n",
    "                print(f'使用しないpath:{file}')\n",
    "                break\n",
    "            else:\n",
    "                sort_rssi = np.stack(sort_rssi)\n",
    "                sort_bssid = np.stack(sort_bssid)\n",
    "\n",
    "            path = path_df['path'].unique()[0]\n",
    "            timestamp = path_df['last_seen_timestamp'].values\n",
    "            # # last seen timestamp(塊)に対応するwaypointを算出したい\n",
    "            wifi_waypoint = get_wifi_waypoint(site=building, floor=floor_str, path=path, wifi_timestamp=timestamp)  # 1行ずつ処理するのは計算コスト的にもったいない\n",
    "            path_data = np.concatenate((sort_bssid, sort_rssi, targets, wifi_waypoint), axis=1)\n",
    "            building_dfs.append(pd.DataFrame(path_data))\n",
    "\n",
    "    building_df = pd.concat(building_dfs)\n",
    "    columns = [f'bssid_{str(i)}' for i in range(NUM_WIFI)] + [f'rssi_{str(i)}' for i in range(NUM_WIFI)] + \\\n",
    "            ['timestamp', 'x', 'y', 'floor', 'floor_str', 'path', 'last_seen_timestamp', 'time_diff', 'wifi_x', 'wifi_y']\n",
    "    building_df.columns = columns\n",
    "    building_df.to_csv(output_dir + f\"{building}_wifi{NUM_WIFI}_bin{BIN_TIME}_train.csv\", index=False)"
   ]
  },
  {
   "cell_type": "code",
   "execution_count": 11,
   "metadata": {
    "tags": []
   },
   "outputs": [
    {
     "output_type": "stream",
     "name": "stdout",
     "text": [
      "5a0546857ecc7737533272665c3c44b80379370013e0fd2b5d2709b303f801723c327472\n",
      "5d27097f03f801723c320d975d2709bb03f801723c32852c5da138274db8ce0c98bbd3d25d27096c03f801723c31e5e05d27075f03f801723c2e360f5d2709d403f801723c32bd39\n",
      "5da138314db8ce0c98bbf3a05da1389e4db8ce0c98bd05475d2709e003f801723c32d8965da138364db8ce0c98bc00f15da1382d4db8ce0c98bbe92e5da138754db8ce0c98bca82f5da138764db8ce0c98bcaa46\n",
      "\n",
      "\n",
      "\n",
      "5da1383b4db8ce0c98bc11ab5d2709c303f801723c3299ee5da138b74db8ce0c98bd4774\n",
      "\n",
      "5da958dd46f8266d0737457b\n",
      "\n",
      "\n",
      "5dc8cea7659e181adb076a3f5dbc1d84c1eb61796cf7c010\n",
      "\n",
      "\n",
      "\n",
      "\n",
      "\n",
      "\n",
      "\n",
      "\n",
      "\n",
      "\n",
      "5d27099f03f801723c32511d"
     ]
    },
    {
     "output_type": "display_data",
     "data": {
      "text/plain": "  0%|          | 0/5 [00:00<?, ?it/s]",
      "application/vnd.jupyter.widget-view+json": {
       "version_major": 2,
       "version_minor": 0,
       "model_id": "4c11e695290f406fa2175540f0ff0de7"
      }
     },
     "metadata": {}
    },
    {
     "output_type": "display_data",
     "data": {
      "text/plain": "  0%|          | 0/5 [00:00<?, ?it/s]",
      "application/vnd.jupyter.widget-view+json": {
       "version_major": 2,
       "version_minor": 0,
       "model_id": "bb9321485dcf41318d305807a6be3a85"
      }
     },
     "metadata": {}
    },
    {
     "output_type": "display_data",
     "data": {
      "text/plain": "  0%|          | 0/7 [00:00<?, ?it/s]",
      "application/vnd.jupyter.widget-view+json": {
       "version_major": 2,
       "version_minor": 0,
       "model_id": "8ebeed6d61c54c8699370562eaf73ee9"
      }
     },
     "metadata": {}
    },
    {
     "output_type": "display_data",
     "data": {
      "text/plain": "  0%|          | 0/3 [00:00<?, ?it/s]",
      "application/vnd.jupyter.widget-view+json": {
       "version_major": 2,
       "version_minor": 0,
       "model_id": "ce3df3d3aea448b7982f4a909133d5ec"
      }
     },
     "metadata": {}
    },
    {
     "output_type": "stream",
     "name": "stdout",
     "text": [
      "\n"
     ]
    },
    {
     "output_type": "display_data",
     "data": {
      "text/plain": "  0%|          | 0/3 [00:00<?, ?it/s]",
      "application/vnd.jupyter.widget-view+json": {
       "version_major": 2,
       "version_minor": 0,
       "model_id": "ca3e390be3544c2891e372ee9040ed8b"
      }
     },
     "metadata": {}
    },
    {
     "output_type": "display_data",
     "data": {
      "text/plain": "  0%|          | 0/5 [00:00<?, ?it/s]",
      "application/vnd.jupyter.widget-view+json": {
       "version_major": 2,
       "version_minor": 0,
       "model_id": "759f109abbec4e1d88f746e41fb057a8"
      }
     },
     "metadata": {}
    },
    {
     "output_type": "display_data",
     "data": {
      "text/plain": "  0%|          | 0/7 [00:00<?, ?it/s]",
      "application/vnd.jupyter.widget-view+json": {
       "version_major": 2,
       "version_minor": 0,
       "model_id": "2c5279969d564c78bbdd25dea4d43832"
      }
     },
     "metadata": {}
    },
    {
     "output_type": "display_data",
     "data": {
      "text/plain": "  0%|          | 0/5 [00:00<?, ?it/s]",
      "application/vnd.jupyter.widget-view+json": {
       "version_major": 2,
       "version_minor": 0,
       "model_id": "55bd77b97fd442a0847c9b7bd53a6f6b"
      }
     },
     "metadata": {}
    },
    {
     "output_type": "display_data",
     "data": {
      "text/plain": "  0%|          | 0/8 [00:00<?, ?it/s]",
      "application/vnd.jupyter.widget-view+json": {
       "version_major": 2,
       "version_minor": 0,
       "model_id": "310cfae4fad647e085414af31fb49854"
      }
     },
     "metadata": {}
    },
    {
     "output_type": "display_data",
     "data": {
      "text/plain": "  0%|          | 0/4 [00:00<?, ?it/s]",
      "application/vnd.jupyter.widget-view+json": {
       "version_major": 2,
       "version_minor": 0,
       "model_id": "4c7283aebcfe423c89e374da9f98a039"
      }
     },
     "metadata": {}
    },
    {
     "output_type": "display_data",
     "data": {
      "text/plain": "  0%|          | 0/10 [00:00<?, ?it/s]",
      "application/vnd.jupyter.widget-view+json": {
       "version_major": 2,
       "version_minor": 0,
       "model_id": "aeb392ad768840f89125e6d28190ec7b"
      }
     },
     "metadata": {}
    },
    {
     "output_type": "display_data",
     "data": {
      "text/plain": "  0%|          | 0/6 [00:00<?, ?it/s]",
      "application/vnd.jupyter.widget-view+json": {
       "version_major": 2,
       "version_minor": 0,
       "model_id": "411deccc053a4d2292c73355e326edb2"
      }
     },
     "metadata": {}
    },
    {
     "output_type": "display_data",
     "data": {
      "text/plain": "  0%|          | 0/6 [00:00<?, ?it/s]",
      "application/vnd.jupyter.widget-view+json": {
       "version_major": 2,
       "version_minor": 0,
       "model_id": "cf8c3bfdc56445bfbc369aecf7a2ca27"
      }
     },
     "metadata": {}
    },
    {
     "output_type": "display_data",
     "data": {
      "text/plain": "  0%|          | 0/8 [00:00<?, ?it/s]",
      "application/vnd.jupyter.widget-view+json": {
       "version_major": 2,
       "version_minor": 0,
       "model_id": "f999645d68ca435fb3c14c4f73fa77e2"
      }
     },
     "metadata": {}
    },
    {
     "output_type": "display_data",
     "data": {
      "text/plain": "  0%|          | 0/3 [00:00<?, ?it/s]",
      "application/vnd.jupyter.widget-view+json": {
       "version_major": 2,
       "version_minor": 0,
       "model_id": "29ca899ada4f43bc90f34a76a6f98e3a"
      }
     },
     "metadata": {}
    },
    {
     "output_type": "display_data",
     "data": {
      "text/plain": "  0%|          | 0/8 [00:00<?, ?it/s]",
      "application/vnd.jupyter.widget-view+json": {
       "version_major": 2,
       "version_minor": 0,
       "model_id": "dd9eb050f5c74a8ea05db5ffc7dde938"
      }
     },
     "metadata": {}
    },
    {
     "output_type": "display_data",
     "data": {
      "text/plain": "  0%|          | 0/6 [00:00<?, ?it/s]",
      "application/vnd.jupyter.widget-view+json": {
       "version_major": 2,
       "version_minor": 0,
       "model_id": "0d045f01fefe40dcbfab848d9dc6deb3"
      }
     },
     "metadata": {}
    },
    {
     "output_type": "display_data",
     "data": {
      "text/plain": "  0%|          | 0/8 [00:00<?, ?it/s]",
      "application/vnd.jupyter.widget-view+json": {
       "version_major": 2,
       "version_minor": 0,
       "model_id": "07b5bc1bd92b4430a823a9d23e5829a3"
      }
     },
     "metadata": {}
    },
    {
     "output_type": "display_data",
     "data": {
      "text/plain": "  0%|          | 0/7 [00:00<?, ?it/s]",
      "application/vnd.jupyter.widget-view+json": {
       "version_major": 2,
       "version_minor": 0,
       "model_id": "5fca599dcced49cb9aaed50062ab4e48"
      }
     },
     "metadata": {}
    },
    {
     "output_type": "display_data",
     "data": {
      "text/plain": "  0%|          | 0/6 [00:00<?, ?it/s]",
      "application/vnd.jupyter.widget-view+json": {
       "version_major": 2,
       "version_minor": 0,
       "model_id": "a0f0e767cd6e43b6b3c56ce7094acb9d"
      }
     },
     "metadata": {}
    },
    {
     "output_type": "display_data",
     "data": {
      "text/plain": "  0%|          | 0/6 [00:00<?, ?it/s]",
      "application/vnd.jupyter.widget-view+json": {
       "version_major": 2,
       "version_minor": 0,
       "model_id": "eb2160c956ca41ecb19cae0c5fb1e903"
      }
     },
     "metadata": {}
    },
    {
     "output_type": "stream",
     "name": "stdout",
     "text": [
      "5d2709a003f801723c3251bf\n"
     ]
    },
    {
     "output_type": "display_data",
     "data": {
      "text/plain": "  0%|          | 0/5 [00:00<?, ?it/s]",
      "application/vnd.jupyter.widget-view+json": {
       "version_major": 2,
       "version_minor": 0,
       "model_id": "33de2a29b3494835be3fadb8e2edef81"
      }
     },
     "metadata": {}
    },
    {
     "output_type": "display_data",
     "data": {
      "text/plain": "  0%|          | 0/4 [00:00<?, ?it/s]",
      "application/vnd.jupyter.widget-view+json": {
       "version_major": 2,
       "version_minor": 0,
       "model_id": "38266b85e2bf464686d2f8d723efddf9"
      }
     },
     "metadata": {}
    },
    {
     "output_type": "display_data",
     "data": {
      "text/plain": "  0%|          | 0/4 [00:00<?, ?it/s]",
      "application/vnd.jupyter.widget-view+json": {
       "version_major": 2,
       "version_minor": 0,
       "model_id": "dcdc4118d96c48eaa7a933b2e09e52f1"
      }
     },
     "metadata": {}
    },
    {
     "output_type": "stream",
     "name": "stdout",
     "text": [
      "使用しないpath:../input/indoor-location-navigation/train/5d27097f03f801723c320d97/B1/5dd0f21c94e4900006126045.txt\n",
      "使用しないpath:../input/indoor-location-navigation/train/5da138274db8ce0c98bbd3d2/F1/5dc65d2b17ffdd0006f114dd.txt\n",
      "使用しないpath:../input/indoor-location-navigation/train/5d2709e003f801723c32d896/B1/5dc78fce1cda3700060310f9.txt\n",
      "使用しないpath:../input/indoor-location-navigation/train/5da1389e4db8ce0c98bd0547/B1/5dc52ae621dceb00061148b1.txt使用しないpath:../input/indoor-location-navigation/train/5da138274db8ce0c98bbd3d2/F2/5dc521041cda37000602f96b.txt\n",
      "\n",
      "使用しないpath:../input/indoor-location-navigation/train/5da138274db8ce0c98bbd3d2/F3/5dc5072a21dceb00061145ca.txt\n",
      "使用しないpath:../input/indoor-location-navigation/train/5d2709bb03f801723c32852c/B1/5dca36345e083300061bc838.txt\n",
      "使用しないpath:../input/indoor-location-navigation/train/5d27097f03f801723c320d97/B2/5dd280f3878f3300066c836a.txt\n",
      "使用しないpath:../input/indoor-location-navigation/train/5da1389e4db8ce0c98bd0547/B2/5dc518fd171e610006b5dad6.txt\n",
      "使用しないpath:../input/indoor-location-navigation/train/5d2709b303f801723c327472/1F/5da83b7eae6cfc0006ca821b.txt\n",
      "使用しないpath:../input/indoor-location-navigation/train/5da1389e4db8ce0c98bd0547/F1/5dd786ccc5b77e0006b16896.txt\n",
      "使用しないpath:../input/indoor-location-navigation/train/5da138764db8ce0c98bcaa46/B1/5dad1740dc3e2c0006606bf6.txt\n",
      "使用しないpath:../input/indoor-location-navigation/train/5da1389e4db8ce0c98bd0547/F2/5dc6800e17ffdd0006f117c5.txt\n",
      "使用しないpath:../input/indoor-location-navigation/train/5da1389e4db8ce0c98bd0547/F3/5dc699ea17ffdd0006f11985.txt\n",
      "wifiデータがないpath:../input/indoor-location-navigation/train/5da1389e4db8ce0c98bd0547/F4/5dc6986f1cda370006030a7b.txt\n",
      "使用しないpath:../input/indoor-location-navigation/train/5dc8cea7659e181adb076a3f/B1/5dcf885f878f3300066c6e1e.txt\n",
      "使用しないpath:../input/indoor-location-navigation/train/5d2709d403f801723c32bd39/1F/5dccea91c04f060006e6e2b0.txt\n",
      "使用しないpath:../input/indoor-location-navigation/train/5d2709a003f801723c3251bf/1F/5dbbd05f4cc3e90006e00a9c.txt\n",
      "使用しないpath:../input/indoor-location-navigation/train/5d2709e003f801723c32d896/F1/5dc7ace117ffdd0006f1230b.txt\n",
      "使用しないpath:../input/indoor-location-navigation/train/5d2709a003f801723c3251bf/2F/5d60ace304ffc90008edf3e3.txt\n",
      "使用しないpath:../input/indoor-location-navigation/train/5da138364db8ce0c98bc00f1/F1/5daeafcdaa1d300006faaeba.txt\n",
      "使用しないpath:../input/indoor-location-navigation/train/5d2709e003f801723c32d896/F2/5dc7bf9a1cda370006031618.txt\n",
      "使用しないpath:../input/indoor-location-navigation/train/5da138754db8ce0c98bca82f/F1/5dd0e596878f3300066c763b.txt\n",
      "使用しないpath:../input/indoor-location-navigation/train/5da138364db8ce0c98bc00f1/F2/5dce5c4d5516ad00065f01ea.txt\n",
      "使用しないpath:../input/indoor-location-navigation/train/5da138364db8ce0c98bc00f1/F3/5daed643e415cd000662947e.txt\n",
      "使用しないpath:../input/indoor-location-navigation/train/5d2709a003f801723c3251bf/3F/5d60ad1b04ffc90008edf431.txt\n",
      "使用しないpath:../input/indoor-location-navigation/train/5dc8cea7659e181adb076a3f/F1/5dcf785694e490000612560f.txt\n",
      "使用しないpath:../input/indoor-location-navigation/train/5d2709b303f801723c327472/2F/5da6e586ab07440006432572.txt\n",
      "使用しないpath:../input/indoor-location-navigation/train/5da138754db8ce0c98bca82f/F2/5dd240c494e4900006126b34.txt\n",
      "使用しないpath:../input/indoor-location-navigation/train/5d2709a003f801723c3251bf/4F/5d60ad3804ffc90008edf455.txt\n",
      "使用しないpath:../input/indoor-location-navigation/train/5dc8cea7659e181adb076a3f/F2/5dcfafc994e490000612590e.txt\n",
      "使用しないpath:../input/indoor-location-navigation/train/5dc8cea7659e181adb076a3f/F3/5dccee0f757dea000608031f.txt\n",
      "使用しないpath:../input/indoor-location-navigation/train/5d27099f03f801723c32511d/B1/5dce74b75516ad00065f033f.txt\n",
      "使用しないpath:../input/indoor-location-navigation/train/5dc8cea7659e181adb076a3f/F4/5dcd020823759900063d5370.txt\n",
      "使用しないpath:../input/indoor-location-navigation/train/5da138764db8ce0c98bcaa46/F1/5daae257df065a00069becc5.txt\n",
      "使用しないpath:../input/indoor-location-navigation/train/5d27075f03f801723c2e360f/B1/5daefd82dd739c00062f19e6.txt\n",
      "使用しないpath:../input/indoor-location-navigation/train/5da138764db8ce0c98bcaa46/F2/5dac348918410e00067e71b5.txt\n",
      "使用しないpath:../input/indoor-location-navigation/train/5d2709d403f801723c32bd39/2F/5dcd15ada4dbe7000630ac65.txt\n",
      "使用しないpath:../input/indoor-location-navigation/train/5d2709d403f801723c32bd39/3F/5dc770481cda370006030d44.txt\n",
      "使用しないpath:../input/indoor-location-navigation/train/5da138764db8ce0c98bcaa46/F3/5dabeef8df065a00069beff8.txt\n",
      "使用しないpath:../input/indoor-location-navigation/train/5da138764db8ce0c98bcaa46/F4/5dabfad118410e00067e70b0.txt\n",
      "使用しないpath:../input/indoor-location-navigation/train/5d2709d403f801723c32bd39/B1/5ddca75cc5b77e0006b17b22.txt\n",
      "使用しないpath:../input/indoor-location-navigation/train/5da138b74db8ce0c98bd4774/B1/5db26608ec4254000601c01c.txt\n",
      "使用しないpath:../input/indoor-location-navigation/train/5d2709e003f801723c32d896/F3/5dc7e02b1cda370006031916.txt\n",
      "使用しないpath:../input/indoor-location-navigation/train/5d2709e003f801723c32d896/F4/5ddbca1a9191710006b57732.txt\n",
      "使用しないpath:../input/indoor-location-navigation/train/5d2709e003f801723c32d896/F5/5ddbcd80c5b77e0006b17a8e.txt\n",
      "使用しないpath:../input/indoor-location-navigation/train/5da138764db8ce0c98bcaa46/F5/5dabff7e18410e00067e70c4.txt\n",
      "使用しないpath:../input/indoor-location-navigation/train/5da138b74db8ce0c98bd4774/B2/5db19c6aec4254000601bfd5.txt\n",
      "使用しないpath:../input/indoor-location-navigation/train/5d2709bb03f801723c32852c/F1/5dcb98847cd16800060558ee.txt\n",
      "使用しないpath:../input/indoor-location-navigation/train/5dbc1d84c1eb61796cf7c010/B1/5dd506c050e04e0006f562a3.txt\n",
      "使用しないpath:../input/indoor-location-navigation/train/5dc8cea7659e181adb076a3f/F5/5dcd26d323759900063d570b.txt\n",
      "使用しないpath:../input/indoor-location-navigation/train/5da138754db8ce0c98bca82f/F3/5dd20fcd94e490000612684c.txt\n",
      "使用しないpath:../input/indoor-location-navigation/train/5dc8cea7659e181adb076a3f/F6/5dcd3282a4dbe7000630afb1.txt\n",
      "使用しないpath:../input/indoor-location-navigation/train/5da138754db8ce0c98bca82f/F4/5dd21b74878f3300066c7fff.txt\n",
      "使用しないpath:../input/indoor-location-navigation/train/5dc8cea7659e181adb076a3f/F7/5dcfb84a94e49000061259a5.txt\n",
      "使用しないpath:../input/indoor-location-navigation/train/5d2709b303f801723c327472/3F/5da6e517ab07440006432540.txt\n",
      "使用しないpath:../input/indoor-location-navigation/train/5d27097f03f801723c320d97/F2/5dd117a094e4900006126366.txt\n",
      "使用しないpath:../input/indoor-location-navigation/train/5d27097f03f801723c320d97/F3/5dd26b19878f3300066c82ce.txt\n",
      "使用しないpath:../input/indoor-location-navigation/train/5d27096c03f801723c31e5e0/F1/5dafde3911adb40006afc7fc.txt\n",
      "使用しないpath:../input/indoor-location-navigation/train/5d2709b303f801723c327472/4F/5da7d28faec4b20006154b16.txt\n",
      "使用しないpath:../input/indoor-location-navigation/train/5d27096c03f801723c31e5e0/F2/5db116532aaa8f0006512635.txt\n",
      "使用しないpath:../input/indoor-location-navigation/train/5d2709b303f801723c327472/B1/5da82892ae6cfc0006ca8151.txt\n",
      "使用しないpath:../input/indoor-location-navigation/train/5d27096c03f801723c31e5e0/F3/5db12c8f2aaa8f0006512726.txt\n",
      "使用しないpath:../input/indoor-location-navigation/train/5d27097f03f801723c320d97/F4/5dd223f994e49000061269ac.txt\n",
      "使用しないpath:../input/indoor-location-navigation/train/5d27096c03f801723c31e5e0/F4/5db199cfec4254000601bfc7.txt\n",
      "使用しないpath:../input/indoor-location-navigation/train/5d27096c03f801723c31e5e0/F5/5db11682e62491000652ba7a.txt\n",
      "使用しないpath:../input/indoor-location-navigation/train/5d27097f03f801723c320d97/F5/5dd27bce878f3300066c833f.txt\n",
      "使用しないpath:../input/indoor-location-navigation/train/5da958dd46f8266d0737457b/B1/5db129bae62491000652bb32.txt\n",
      "使用しないpath:../input/indoor-location-navigation/train/5d27096c03f801723c31e5e0/F6/5db00cc6e62491000652b39b.txt\n",
      "使用しないpath:../input/indoor-location-navigation/train/5d2709bb03f801723c32852c/F2/5dc9281fefaf870006bad70c.txt\n",
      "使用しないpath:../input/indoor-location-navigation/train/5d2709bb03f801723c32852c/F3/5dca6fdae518c500069ebe75.txt\n",
      "使用しないpath:../input/indoor-location-navigation/train/5dbc1d84c1eb61796cf7c010/F2/5dd3792c27889b0006b76913.txt\n",
      "使用しないpath:../input/indoor-location-navigation/train/5da958dd46f8266d0737457b/F1/5dad3ab018410e00067e741a.txt\n",
      "使用しないpath:../input/indoor-location-navigation/train/5da138b74db8ce0c98bd4774/F1/5db26bb95741f4000680a75a.txt\n",
      "使用しないpath:../input/indoor-location-navigation/train/5dbc1d84c1eb61796cf7c010/F3/5dd51bf850e04e0006f5643c.txt\n",
      "使用しないpath:../input/indoor-location-navigation/train/5a0546857ecc773753327266/B1/5e158ed0f4c3420006d52166.txt\n",
      "使用しないpath:../input/indoor-location-navigation/train/5da138b74db8ce0c98bd4774/F2/5db272465741f4000680a798.txt\n",
      "使用しないpath:../input/indoor-location-navigation/train/5dbc1d84c1eb61796cf7c010/F4/5dd3bbd544333f00067aa806.txt\n",
      "使用しないpath:../input/indoor-location-navigation/train/5da138b74db8ce0c98bd4774/F3/5db140b8e62491000652bc53.txt\n",
      "使用しないpath:../input/indoor-location-navigation/train/5da138b74db8ce0c98bd4774/F4/5db2a245ec4254000601c102.txt\n",
      "使用しないpath:../input/indoor-location-navigation/train/5da138b74db8ce0c98bd4774/F5/5db2ad325741f4000680a859.txt\n",
      "使用しないpath:../input/indoor-location-navigation/train/5d27099f03f801723c32511d/F3/5dce817e5516ad00065f039b.txt\n",
      "使用しないpath:../input/indoor-location-navigation/train/5d27099f03f801723c32511d/F4/5dce8b5f94e49000061251bf.txt\n",
      "使用しないpath:../input/indoor-location-navigation/train/5dbc1d84c1eb61796cf7c010/F5/5dd3ce6927889b0006b7711f.txt\n",
      "使用しないpath:../input/indoor-location-navigation/train/5da958dd46f8266d0737457b/F2/5daeac2baa1d300006faaeac.txt\n",
      "使用しないpath:../input/indoor-location-navigation/train/5dbc1d84c1eb61796cf7c010/F6/5dd4ad7927889b0006b77691.txt\n",
      "使用しないpath:../input/indoor-location-navigation/train/5da1382d4db8ce0c98bbe92e/B1/5da7f512aec4b20006154d0b.txt\n",
      "使用しないpath:../input/indoor-location-navigation/train/5d2709bb03f801723c32852c/F4/5dcbab7d7cd168000605594d.txt\n",
      "使用しないpath:../input/indoor-location-navigation/train/5c3c44b80379370013e0fd2b/B1/5d0761ec4cae4f000a2db57c.txt\n",
      "使用しないpath:../input/indoor-location-navigation/train/5da138314db8ce0c98bbf3a0/B2/5da5c4a01d4d9a0006312718.txt\n",
      "使用しないpath:../input/indoor-location-navigation/train/5dbc1d84c1eb61796cf7c010/F7/5dd4c98127889b0006b779b0.txt\n",
      "使用しないpath:../input/indoor-location-navigation/train/5dbc1d84c1eb61796cf7c010/F8/5dd5f8cf50e04e0006f565b7.txt\n",
      "使用しないpath:../input/indoor-location-navigation/train/5da958dd46f8266d0737457b/F3/5db141bee62491000652bc7f.txt\n",
      "使用しないpath:../input/indoor-location-navigation/train/5da958dd46f8266d0737457b/F4/5db14ce6e62491000652bcc8.txt\n",
      "使用しないpath:../input/indoor-location-navigation/train/5da958dd46f8266d0737457b/F5/5db15cf9e62491000652bd5b.txt\n",
      "使用しないpath:../input/indoor-location-navigation/train/5d2709c303f801723c3299ee/1F/5dad84c294fc5300066db77c.txt\n",
      "使用しないpath:../input/indoor-location-navigation/train/5da958dd46f8266d0737457b/F6/5db15d182aaa8f000651298a.txt\n",
      "使用しないpath:../input/indoor-location-navigation/train/5da1383b4db8ce0c98bc11ab/F1/5dd4d1bf27889b0006b779fa.txt\n",
      "使用しないpath:../input/indoor-location-navigation/train/5da958dd46f8266d0737457b/F7/5db15f392aaa8f00065129a3.txt\n",
      "使用しないpath:../input/indoor-location-navigation/train/5d27075f03f801723c2e360f/F1/5da6f54cab07440006432671.txt\n",
      "使用しないpath:../input/indoor-location-navigation/train/5da1383b4db8ce0c98bc11ab/F2/5dd52481d48f840006f14a20.txt\n",
      "使用しないpath:../input/indoor-location-navigation/train/5d27075f03f801723c2e360f/F2/5da96e2545eb0f0006d21371.txt\n",
      "使用しないpath:../input/indoor-location-navigation/train/5da1383b4db8ce0c98bc11ab/F3/5dd4bc3e27889b0006b7779c.txt\n",
      "使用しないpath:../input/indoor-location-navigation/train/5da138314db8ce0c98bbf3a0/F2/5da57b112928b50006db2a4c.txt\n",
      "使用しないpath:../input/indoor-location-navigation/train/5da138314db8ce0c98bbf3a0/F3/5da47667ab35fd0006c2a675.txt\n",
      "使用しないpath:../input/indoor-location-navigation/train/5d27075f03f801723c2e360f/F3/5da81a1faec4b20006154e68.txt\n",
      "使用しないpath:../input/indoor-location-navigation/train/5da1382d4db8ce0c98bbe92e/F1/5da442321261860006629e9f.txt\n",
      "使用しないpath:../input/indoor-location-navigation/train/5d27075f03f801723c2e360f/F4/5da93b24a7bb0e000682eeb6.txt\n",
      "使用しないpath:../input/indoor-location-navigation/train/5d27075f03f801723c2e360f/F5/5da830a1ae6cfc0006ca81c0.txt\n",
      "使用しないpath:../input/indoor-location-navigation/train/5d2709c303f801723c3299ee/2F/5dada47aaa1d300006faa9f0.txt\n",
      "使用しないpath:../input/indoor-location-navigation/train/5d27075f03f801723c2e360f/F6/5da835bcae6cfc0006ca81ff.txt\n",
      "使用しないpath:../input/indoor-location-navigation/train/5d27075f03f801723c2e360f/F7/5da848e54091ff00060489ca.txt\n",
      "使用しないpath:../input/indoor-location-navigation/train/5da1382d4db8ce0c98bbe92e/F2/5da42ed51261860006629df8.txt\n",
      "使用しないpath:../input/indoor-location-navigation/train/5da1382d4db8ce0c98bbe92e/F4/5da5369e51b5100006cbf06c.txt\n",
      "wifiデータがないpath:../input/indoor-location-navigation/train/5a0546857ecc773753327266/F3/5d8f0955b6e29d0006fb8c0f.txt\n",
      "使用しないpath:../input/indoor-location-navigation/train/5a0546857ecc773753327266/F4/5d8f0a53d5bae80006eb8de5.txt\n",
      "使用しないpath:../input/indoor-location-navigation/train/5d2709c303f801723c3299ee/4F/5dae87c3aa1d300006faad0c.txt\n",
      "使用しないpath:../input/indoor-location-navigation/train/5d2709c303f801723c3299ee/9F/5daecce7aa1d300006fab001.txt\n"
     ]
    },
    {
     "output_type": "error",
     "ename": "ValueError",
     "evalue": "No objects to concatenate",
     "traceback": [
      "\u001b[0;31m---------------------------------------------------------------------------\u001b[0m",
      "\u001b[0;31mRemoteTraceback\u001b[0m                           Traceback (most recent call last)",
      "\u001b[0;31mRemoteTraceback\u001b[0m: \n\"\"\"\nTraceback (most recent call last):\n  File \"/usr/lib/python3.8/multiprocessing/pool.py\", line 125, in worker\n    result = (True, func(*args, **kwds))\n  File \"/usr/lib/python3.8/multiprocessing/pool.py\", line 48, in mapstar\n    return list(map(*args))\n  File \"<ipython-input-10-5cb444ef63fe>\", line 103, in create_train_dataset\n    building_df = pd.concat(building_dfs)\n  File \"/usr/local/lib/python3.8/dist-packages/pandas/core/reshape/concat.py\", line 285, in concat\n    op = _Concatenator(\n  File \"/usr/local/lib/python3.8/dist-packages/pandas/core/reshape/concat.py\", line 342, in __init__\n    raise ValueError(\"No objects to concatenate\")\nValueError: No objects to concatenate\n\"\"\"",
      "\nThe above exception was the direct cause of the following exception:\n",
      "\u001b[0;31mValueError\u001b[0m                                Traceback (most recent call last)",
      "\u001b[0;32m<ipython-input-11-ea3789e28b41>\u001b[0m in \u001b[0;36m<module>\u001b[0;34m\u001b[0m\n\u001b[1;32m      1\u001b[0m \u001b[0;32mfrom\u001b[0m \u001b[0mmultiprocessing\u001b[0m \u001b[0;32mimport\u001b[0m \u001b[0mPool\u001b[0m\u001b[0;34m\u001b[0m\u001b[0;34m\u001b[0m\u001b[0m\n\u001b[1;32m      2\u001b[0m \u001b[0;32mwith\u001b[0m \u001b[0mPool\u001b[0m\u001b[0;34m(\u001b[0m\u001b[0mprocesses\u001b[0m\u001b[0;34m=\u001b[0m\u001b[0;36m24\u001b[0m\u001b[0;34m)\u001b[0m \u001b[0;32mas\u001b[0m \u001b[0mpool\u001b[0m\u001b[0;34m:\u001b[0m\u001b[0;34m\u001b[0m\u001b[0;34m\u001b[0m\u001b[0m\n\u001b[0;32m----> 3\u001b[0;31m     \u001b[0mpool\u001b[0m\u001b[0;34m.\u001b[0m\u001b[0mmap\u001b[0m\u001b[0;34m(\u001b[0m\u001b[0mcreate_train_dataset\u001b[0m\u001b[0;34m,\u001b[0m \u001b[0mused_buildings\u001b[0m\u001b[0;34m)\u001b[0m\u001b[0;34m\u001b[0m\u001b[0;34m\u001b[0m\u001b[0m\n\u001b[0m",
      "\u001b[0;32m/usr/lib/python3.8/multiprocessing/pool.py\u001b[0m in \u001b[0;36mmap\u001b[0;34m(self, func, iterable, chunksize)\u001b[0m\n\u001b[1;32m    362\u001b[0m         \u001b[0;32min\u001b[0m \u001b[0ma\u001b[0m \u001b[0mlist\u001b[0m \u001b[0mthat\u001b[0m \u001b[0;32mis\u001b[0m \u001b[0mreturned\u001b[0m\u001b[0;34m.\u001b[0m\u001b[0;34m\u001b[0m\u001b[0;34m\u001b[0m\u001b[0m\n\u001b[1;32m    363\u001b[0m         '''\n\u001b[0;32m--> 364\u001b[0;31m         \u001b[0;32mreturn\u001b[0m \u001b[0mself\u001b[0m\u001b[0;34m.\u001b[0m\u001b[0m_map_async\u001b[0m\u001b[0;34m(\u001b[0m\u001b[0mfunc\u001b[0m\u001b[0;34m,\u001b[0m \u001b[0miterable\u001b[0m\u001b[0;34m,\u001b[0m \u001b[0mmapstar\u001b[0m\u001b[0;34m,\u001b[0m \u001b[0mchunksize\u001b[0m\u001b[0;34m)\u001b[0m\u001b[0;34m.\u001b[0m\u001b[0mget\u001b[0m\u001b[0;34m(\u001b[0m\u001b[0;34m)\u001b[0m\u001b[0;34m\u001b[0m\u001b[0;34m\u001b[0m\u001b[0m\n\u001b[0m\u001b[1;32m    365\u001b[0m \u001b[0;34m\u001b[0m\u001b[0m\n\u001b[1;32m    366\u001b[0m     \u001b[0;32mdef\u001b[0m \u001b[0mstarmap\u001b[0m\u001b[0;34m(\u001b[0m\u001b[0mself\u001b[0m\u001b[0;34m,\u001b[0m \u001b[0mfunc\u001b[0m\u001b[0;34m,\u001b[0m \u001b[0miterable\u001b[0m\u001b[0;34m,\u001b[0m \u001b[0mchunksize\u001b[0m\u001b[0;34m=\u001b[0m\u001b[0;32mNone\u001b[0m\u001b[0;34m)\u001b[0m\u001b[0;34m:\u001b[0m\u001b[0;34m\u001b[0m\u001b[0;34m\u001b[0m\u001b[0m\n",
      "\u001b[0;32m/usr/lib/python3.8/multiprocessing/pool.py\u001b[0m in \u001b[0;36mget\u001b[0;34m(self, timeout)\u001b[0m\n\u001b[1;32m    769\u001b[0m             \u001b[0;32mreturn\u001b[0m \u001b[0mself\u001b[0m\u001b[0;34m.\u001b[0m\u001b[0m_value\u001b[0m\u001b[0;34m\u001b[0m\u001b[0;34m\u001b[0m\u001b[0m\n\u001b[1;32m    770\u001b[0m         \u001b[0;32melse\u001b[0m\u001b[0;34m:\u001b[0m\u001b[0;34m\u001b[0m\u001b[0;34m\u001b[0m\u001b[0m\n\u001b[0;32m--> 771\u001b[0;31m             \u001b[0;32mraise\u001b[0m \u001b[0mself\u001b[0m\u001b[0;34m.\u001b[0m\u001b[0m_value\u001b[0m\u001b[0;34m\u001b[0m\u001b[0;34m\u001b[0m\u001b[0m\n\u001b[0m\u001b[1;32m    772\u001b[0m \u001b[0;34m\u001b[0m\u001b[0m\n\u001b[1;32m    773\u001b[0m     \u001b[0;32mdef\u001b[0m \u001b[0m_set\u001b[0m\u001b[0;34m(\u001b[0m\u001b[0mself\u001b[0m\u001b[0;34m,\u001b[0m \u001b[0mi\u001b[0m\u001b[0;34m,\u001b[0m \u001b[0mobj\u001b[0m\u001b[0;34m)\u001b[0m\u001b[0;34m:\u001b[0m\u001b[0;34m\u001b[0m\u001b[0;34m\u001b[0m\u001b[0m\n",
      "\u001b[0;31mValueError\u001b[0m: No objects to concatenate"
     ]
    }
   ],
   "source": [
    "from multiprocessing import Pool\n",
    "with Pool(processes=24) as pool:\n",
    "    pool.map(create_train_dataset, used_buildings)"
   ]
  },
  {
   "cell_type": "code",
   "execution_count": 17,
   "metadata": {},
   "outputs": [
    {
     "output_type": "execute_result",
     "data": {
      "text/plain": [
       "                                         bssid_0  \\\n",
       "0       db01605eac3f33540038bd9722aba25774871d43   \n",
       "1       db01605eac3f33540038bd9722aba25774871d43   \n",
       "2       965f254a2e8d05bbb40bd2413ff61de3ad6c4151   \n",
       "3       db01605eac3f33540038bd9722aba25774871d43   \n",
       "4       db01605eac3f33540038bd9722aba25774871d43   \n",
       "...                                          ...   \n",
       "164334  cce41299a022ada08aebf3d309acb07d5f00b014   \n",
       "164335  5964a27e0cb3344b0a18540e6b3120c433971c38   \n",
       "164336  5964a27e0cb3344b0a18540e6b3120c433971c38   \n",
       "164337  5964a27e0cb3344b0a18540e6b3120c433971c38   \n",
       "164338  5964a27e0cb3344b0a18540e6b3120c433971c38   \n",
       "\n",
       "                                         bssid_1  \\\n",
       "0       93e20595eeef175d3aa3c3381f6a22ee792d48d9   \n",
       "1       965f254a2e8d05bbb40bd2413ff61de3ad6c4151   \n",
       "2       db01605eac3f33540038bd9722aba25774871d43   \n",
       "3       965f254a2e8d05bbb40bd2413ff61de3ad6c4151   \n",
       "4       0b64e537cc3d1818ec46f94f8dc14043a98d0089   \n",
       "...                                          ...   \n",
       "164334  d090a2f7f222fadeeb64e4fbdfe1ca8451116b04   \n",
       "164335  cce41299a022ada08aebf3d309acb07d5f00b014   \n",
       "164336  d090a2f7f222fadeeb64e4fbdfe1ca8451116b04   \n",
       "164337  346b34a42e801c64e043dbaacbe7fef9b8880774   \n",
       "164338  346b34a42e801c64e043dbaacbe7fef9b8880774   \n",
       "\n",
       "                                         bssid_2  \\\n",
       "0       0b64e537cc3d1818ec46f94f8dc14043a98d0089   \n",
       "1       3f564032c7eebc173b38aee35225e323d4389faf   \n",
       "2       1f37bbb3f42125f665b83584d0376b21ec3eb43c   \n",
       "3       0b64e537cc3d1818ec46f94f8dc14043a98d0089   \n",
       "4       965f254a2e8d05bbb40bd2413ff61de3ad6c4151   \n",
       "...                                          ...   \n",
       "164334  4b5dbdb52b131410ea10b59ea451de62280b41d6   \n",
       "164335  d090a2f7f222fadeeb64e4fbdfe1ca8451116b04   \n",
       "164336  cce41299a022ada08aebf3d309acb07d5f00b014   \n",
       "164337  d090a2f7f222fadeeb64e4fbdfe1ca8451116b04   \n",
       "164338  a7986c0cea5d2571ea42011ab4407039e977c0bd   \n",
       "\n",
       "                                         bssid_3  \\\n",
       "0       dc4c46287575c45f3e32c022d868d047b485ed4c   \n",
       "1       0b64e537cc3d1818ec46f94f8dc14043a98d0089   \n",
       "2       3f564032c7eebc173b38aee35225e323d4389faf   \n",
       "3       71d97fb3d6f464d4c26fd061732e58398d053b2e   \n",
       "4       3f564032c7eebc173b38aee35225e323d4389faf   \n",
       "...                                          ...   \n",
       "164334  5964a27e0cb3344b0a18540e6b3120c433971c38   \n",
       "164335  346b34a42e801c64e043dbaacbe7fef9b8880774   \n",
       "164336  346b34a42e801c64e043dbaacbe7fef9b8880774   \n",
       "164337  5953d0b2247e16447d327eb2a8a9c1abe24ff425   \n",
       "164338  4d2e5639041b40b0df2ee258aa504bd904133d80   \n",
       "\n",
       "                                         bssid_4  \\\n",
       "0       8c936564ea4b4300576f53136505527eb5972c07   \n",
       "1       ae54f8552a572ddf81302b56c07f63c6321270be   \n",
       "2       61c3aaf1a526f808c05952ea3f098e37354a674a   \n",
       "3       db85cb1371261046f2b711ac8dcceeb06b7ca724   \n",
       "4       b742b3fa0287399e647252d184ee8d58b67c05ae   \n",
       "...                                          ...   \n",
       "164334  346b34a42e801c64e043dbaacbe7fef9b8880774   \n",
       "164335  ca69ae425b53d4c2fae3d97ec4ec61897a4a6b73   \n",
       "164336  180a351ec58c07d60949862c534373c43f548a9a   \n",
       "164337  180a351ec58c07d60949862c534373c43f548a9a   \n",
       "164338  a94eb920c0a198fe8385f3de6a8e8e6d44b6f6c9   \n",
       "\n",
       "                                         bssid_5  \\\n",
       "0       3f564032c7eebc173b38aee35225e323d4389faf   \n",
       "1       16374260af7d03b10f167358a4f6a70620e131f4   \n",
       "2       b2b0ddbb5a2aadfc6ab2f388db584b6c280d3f82   \n",
       "3       599fa96d549ed870671d6bc1927aaa8bbaacca12   \n",
       "4       5c10b343d767a30515e6015de25751a2883328f8   \n",
       "...                                          ...   \n",
       "164334  21310f6a93112e4cb928817e3af33ebb1bb62875   \n",
       "164335  f4107af4418d57aacb3542343f7b47768debdc75   \n",
       "164336  4d2e5639041b40b0df2ee258aa504bd904133d80   \n",
       "164337  4d2e5639041b40b0df2ee258aa504bd904133d80   \n",
       "164338  d36299eab3bb6785995f934cf5f9adfe7bab7b6c   \n",
       "\n",
       "                                         bssid_6  \\\n",
       "0       ce28608c3d091ac0d25d84459ebad253edf83e1f   \n",
       "1       f26678bbbbd078e242638a0d1fb5ba2e61262f4c   \n",
       "2       8c936564ea4b4300576f53136505527eb5972c07   \n",
       "3       5944b636243a99749c2114bf57072e1505801e26   \n",
       "4       1f37bbb3f42125f665b83584d0376b21ec3eb43c   \n",
       "...                                          ...   \n",
       "164334  ca69ae425b53d4c2fae3d97ec4ec61897a4a6b73   \n",
       "164335  04ac5e0b34d9646b79ad606e53c1b9b95e526dd7   \n",
       "164336  89395d0ee75307b3beb30aef2f19fc680095d514   \n",
       "164337  04ac5e0b34d9646b79ad606e53c1b9b95e526dd7   \n",
       "164338  180a351ec58c07d60949862c534373c43f548a9a   \n",
       "\n",
       "                                         bssid_7  \\\n",
       "0       46c934893439700099d03a6892ea934ecb2729d6   \n",
       "1       5c10b343d767a30515e6015de25751a2883328f8   \n",
       "2       599fa96d549ed870671d6bc1927aaa8bbaacca12   \n",
       "3       46c934893439700099d03a6892ea934ecb2729d6   \n",
       "4       3c89886dd08bb4a24384cf8bc0c6423e4804e6e9   \n",
       "...                                          ...   \n",
       "164334  566e0c6e3bcf2b8b3d310d96f111043d17ace817   \n",
       "164335  4aa0b7ce4c79dd7e6c76fb06a25510068d66fbd0   \n",
       "164336  04ac5e0b34d9646b79ad606e53c1b9b95e526dd7   \n",
       "164337  a4a2b67312dcabc5e0ea28a693474b41d24f811c   \n",
       "164338  c7e93fabac2b8edda801898393e69894855de8af   \n",
       "\n",
       "                                         bssid_8  \\\n",
       "0       3c89886dd08bb4a24384cf8bc0c6423e4804e6e9   \n",
       "1       46c934893439700099d03a6892ea934ecb2729d6   \n",
       "2       16374260af7d03b10f167358a4f6a70620e131f4   \n",
       "3       3c89886dd08bb4a24384cf8bc0c6423e4804e6e9   \n",
       "4       46c934893439700099d03a6892ea934ecb2729d6   \n",
       "...                                          ...   \n",
       "164334  f4107af4418d57aacb3542343f7b47768debdc75   \n",
       "164335  180a351ec58c07d60949862c534373c43f548a9a   \n",
       "164336  566e0c6e3bcf2b8b3d310d96f111043d17ace817   \n",
       "164337  0ef775dc8eaf20d8012be5ab00323a16694353bf   \n",
       "164338  ee5ca7a7deaacdcd5d99355ff5f156dc45b74efa   \n",
       "\n",
       "                                         bssid_9  ...          x          y  \\\n",
       "0       b51107fb094a5127ad76ef502ac03632a8f0d67c  ...  114.33501  156.84224   \n",
       "1       3c89886dd08bb4a24384cf8bc0c6423e4804e6e9  ...  114.33501  156.84224   \n",
       "2       4c83a7a1e51bfa8a5fa20e854ab3feec057c52c9  ...  114.33501  156.84224   \n",
       "3       16374260af7d03b10f167358a4f6a70620e131f4  ...  114.33501  156.84224   \n",
       "4       16374260af7d03b10f167358a4f6a70620e131f4  ...  106.65901  154.62952   \n",
       "...                                          ...  ...        ...        ...   \n",
       "164334  bd3fc24710537130e97dc2dab4a6bf70b3884a8b  ...  191.95721  143.86253   \n",
       "164335  4d2e5639041b40b0df2ee258aa504bd904133d80  ...  200.41064  136.42131   \n",
       "164336  bd3fc24710537130e97dc2dab4a6bf70b3884a8b  ...  200.41064  136.42131   \n",
       "164337  d36299eab3bb6785995f934cf5f9adfe7bab7b6c  ...  200.41064  136.42131   \n",
       "164338  21f2c4d5b533f3e872f6fdde1eb1173c52bfb9ff  ...  199.35341  134.51714   \n",
       "\n",
       "        floor  floor_str                      path  last_seen_timestamp  \\\n",
       "0          -1         B1  5e1580d1f4c3420006d520e4        1578466133383   \n",
       "1          -1         B1  5e1580d1f4c3420006d520e4        1578466135394   \n",
       "2          -1         B1  5e1580d1f4c3420006d520e4        1578466137513   \n",
       "3          -1         B1  5e1580d1f4c3420006d520e4        1578466139438   \n",
       "4          -1         B1  5e1580d1f4c3420006d520e4        1578466141519   \n",
       "...       ...        ...                       ...                  ...   \n",
       "164334      6         F7  5dcd5c94a4dbe7000630b08e        1573733081235   \n",
       "164335      6         F7  5dcd5c94a4dbe7000630b08e        1573733083592   \n",
       "164336      6         F7  5dcd5c94a4dbe7000630b08e        1573733085807   \n",
       "164337      6         F7  5dcd5c94a4dbe7000630b08e        1573733088251   \n",
       "164338      6         F7  5dcd5c94a4dbe7000630b08e        1573733090577   \n",
       "\n",
       "        time_diff      wifi_x      wifi_y                   site_id  \n",
       "0             605  114.109245  156.777160  5a0546857ecc773753327266  \n",
       "1            2616  113.206186  156.516840  5a0546857ecc773753327266  \n",
       "2            4735  112.077363  156.191440  5a0546857ecc773753327266  \n",
       "3            6660  111.400069  155.996200  5a0546857ecc773753327266  \n",
       "4           -8055  110.271245  155.670800  5a0546857ecc773753327266  \n",
       "...           ...         ...         ...                       ...  \n",
       "164334       2225  194.181797  141.904314  5dc8cea7659e181adb076a3f  \n",
       "164335      -4545  196.406384  139.946098  5dc8cea7659e181adb076a3f  \n",
       "164336      -2330  198.186053  138.379526  5dc8cea7659e181adb076a3f  \n",
       "164337        114  200.410640  136.421310  5dc8cea7659e181adb076a3f  \n",
       "164338      -1609  199.823290  135.363438  5dc8cea7659e181adb076a3f  \n",
       "\n",
       "[164339 rows x 31 columns]"
      ],
      "text/html": "<div>\n<style scoped>\n    .dataframe tbody tr th:only-of-type {\n        vertical-align: middle;\n    }\n\n    .dataframe tbody tr th {\n        vertical-align: top;\n    }\n\n    .dataframe thead th {\n        text-align: right;\n    }\n</style>\n<table border=\"1\" class=\"dataframe\">\n  <thead>\n    <tr style=\"text-align: right;\">\n      <th></th>\n      <th>bssid_0</th>\n      <th>bssid_1</th>\n      <th>bssid_2</th>\n      <th>bssid_3</th>\n      <th>bssid_4</th>\n      <th>bssid_5</th>\n      <th>bssid_6</th>\n      <th>bssid_7</th>\n      <th>bssid_8</th>\n      <th>bssid_9</th>\n      <th>...</th>\n      <th>x</th>\n      <th>y</th>\n      <th>floor</th>\n      <th>floor_str</th>\n      <th>path</th>\n      <th>last_seen_timestamp</th>\n      <th>time_diff</th>\n      <th>wifi_x</th>\n      <th>wifi_y</th>\n      <th>site_id</th>\n    </tr>\n  </thead>\n  <tbody>\n    <tr>\n      <th>0</th>\n      <td>db01605eac3f33540038bd9722aba25774871d43</td>\n      <td>93e20595eeef175d3aa3c3381f6a22ee792d48d9</td>\n      <td>0b64e537cc3d1818ec46f94f8dc14043a98d0089</td>\n      <td>dc4c46287575c45f3e32c022d868d047b485ed4c</td>\n      <td>8c936564ea4b4300576f53136505527eb5972c07</td>\n      <td>3f564032c7eebc173b38aee35225e323d4389faf</td>\n      <td>ce28608c3d091ac0d25d84459ebad253edf83e1f</td>\n      <td>46c934893439700099d03a6892ea934ecb2729d6</td>\n      <td>3c89886dd08bb4a24384cf8bc0c6423e4804e6e9</td>\n      <td>b51107fb094a5127ad76ef502ac03632a8f0d67c</td>\n      <td>...</td>\n      <td>114.33501</td>\n      <td>156.84224</td>\n      <td>-1</td>\n      <td>B1</td>\n      <td>5e1580d1f4c3420006d520e4</td>\n      <td>1578466133383</td>\n      <td>605</td>\n      <td>114.109245</td>\n      <td>156.777160</td>\n      <td>5a0546857ecc773753327266</td>\n    </tr>\n    <tr>\n      <th>1</th>\n      <td>db01605eac3f33540038bd9722aba25774871d43</td>\n      <td>965f254a2e8d05bbb40bd2413ff61de3ad6c4151</td>\n      <td>3f564032c7eebc173b38aee35225e323d4389faf</td>\n      <td>0b64e537cc3d1818ec46f94f8dc14043a98d0089</td>\n      <td>ae54f8552a572ddf81302b56c07f63c6321270be</td>\n      <td>16374260af7d03b10f167358a4f6a70620e131f4</td>\n      <td>f26678bbbbd078e242638a0d1fb5ba2e61262f4c</td>\n      <td>5c10b343d767a30515e6015de25751a2883328f8</td>\n      <td>46c934893439700099d03a6892ea934ecb2729d6</td>\n      <td>3c89886dd08bb4a24384cf8bc0c6423e4804e6e9</td>\n      <td>...</td>\n      <td>114.33501</td>\n      <td>156.84224</td>\n      <td>-1</td>\n      <td>B1</td>\n      <td>5e1580d1f4c3420006d520e4</td>\n      <td>1578466135394</td>\n      <td>2616</td>\n      <td>113.206186</td>\n      <td>156.516840</td>\n      <td>5a0546857ecc773753327266</td>\n    </tr>\n    <tr>\n      <th>2</th>\n      <td>965f254a2e8d05bbb40bd2413ff61de3ad6c4151</td>\n      <td>db01605eac3f33540038bd9722aba25774871d43</td>\n      <td>1f37bbb3f42125f665b83584d0376b21ec3eb43c</td>\n      <td>3f564032c7eebc173b38aee35225e323d4389faf</td>\n      <td>61c3aaf1a526f808c05952ea3f098e37354a674a</td>\n      <td>b2b0ddbb5a2aadfc6ab2f388db584b6c280d3f82</td>\n      <td>8c936564ea4b4300576f53136505527eb5972c07</td>\n      <td>599fa96d549ed870671d6bc1927aaa8bbaacca12</td>\n      <td>16374260af7d03b10f167358a4f6a70620e131f4</td>\n      <td>4c83a7a1e51bfa8a5fa20e854ab3feec057c52c9</td>\n      <td>...</td>\n      <td>114.33501</td>\n      <td>156.84224</td>\n      <td>-1</td>\n      <td>B1</td>\n      <td>5e1580d1f4c3420006d520e4</td>\n      <td>1578466137513</td>\n      <td>4735</td>\n      <td>112.077363</td>\n      <td>156.191440</td>\n      <td>5a0546857ecc773753327266</td>\n    </tr>\n    <tr>\n      <th>3</th>\n      <td>db01605eac3f33540038bd9722aba25774871d43</td>\n      <td>965f254a2e8d05bbb40bd2413ff61de3ad6c4151</td>\n      <td>0b64e537cc3d1818ec46f94f8dc14043a98d0089</td>\n      <td>71d97fb3d6f464d4c26fd061732e58398d053b2e</td>\n      <td>db85cb1371261046f2b711ac8dcceeb06b7ca724</td>\n      <td>599fa96d549ed870671d6bc1927aaa8bbaacca12</td>\n      <td>5944b636243a99749c2114bf57072e1505801e26</td>\n      <td>46c934893439700099d03a6892ea934ecb2729d6</td>\n      <td>3c89886dd08bb4a24384cf8bc0c6423e4804e6e9</td>\n      <td>16374260af7d03b10f167358a4f6a70620e131f4</td>\n      <td>...</td>\n      <td>114.33501</td>\n      <td>156.84224</td>\n      <td>-1</td>\n      <td>B1</td>\n      <td>5e1580d1f4c3420006d520e4</td>\n      <td>1578466139438</td>\n      <td>6660</td>\n      <td>111.400069</td>\n      <td>155.996200</td>\n      <td>5a0546857ecc773753327266</td>\n    </tr>\n    <tr>\n      <th>4</th>\n      <td>db01605eac3f33540038bd9722aba25774871d43</td>\n      <td>0b64e537cc3d1818ec46f94f8dc14043a98d0089</td>\n      <td>965f254a2e8d05bbb40bd2413ff61de3ad6c4151</td>\n      <td>3f564032c7eebc173b38aee35225e323d4389faf</td>\n      <td>b742b3fa0287399e647252d184ee8d58b67c05ae</td>\n      <td>5c10b343d767a30515e6015de25751a2883328f8</td>\n      <td>1f37bbb3f42125f665b83584d0376b21ec3eb43c</td>\n      <td>3c89886dd08bb4a24384cf8bc0c6423e4804e6e9</td>\n      <td>46c934893439700099d03a6892ea934ecb2729d6</td>\n      <td>16374260af7d03b10f167358a4f6a70620e131f4</td>\n      <td>...</td>\n      <td>106.65901</td>\n      <td>154.62952</td>\n      <td>-1</td>\n      <td>B1</td>\n      <td>5e1580d1f4c3420006d520e4</td>\n      <td>1578466141519</td>\n      <td>-8055</td>\n      <td>110.271245</td>\n      <td>155.670800</td>\n      <td>5a0546857ecc773753327266</td>\n    </tr>\n    <tr>\n      <th>...</th>\n      <td>...</td>\n      <td>...</td>\n      <td>...</td>\n      <td>...</td>\n      <td>...</td>\n      <td>...</td>\n      <td>...</td>\n      <td>...</td>\n      <td>...</td>\n      <td>...</td>\n      <td>...</td>\n      <td>...</td>\n      <td>...</td>\n      <td>...</td>\n      <td>...</td>\n      <td>...</td>\n      <td>...</td>\n      <td>...</td>\n      <td>...</td>\n      <td>...</td>\n      <td>...</td>\n    </tr>\n    <tr>\n      <th>164334</th>\n      <td>cce41299a022ada08aebf3d309acb07d5f00b014</td>\n      <td>d090a2f7f222fadeeb64e4fbdfe1ca8451116b04</td>\n      <td>4b5dbdb52b131410ea10b59ea451de62280b41d6</td>\n      <td>5964a27e0cb3344b0a18540e6b3120c433971c38</td>\n      <td>346b34a42e801c64e043dbaacbe7fef9b8880774</td>\n      <td>21310f6a93112e4cb928817e3af33ebb1bb62875</td>\n      <td>ca69ae425b53d4c2fae3d97ec4ec61897a4a6b73</td>\n      <td>566e0c6e3bcf2b8b3d310d96f111043d17ace817</td>\n      <td>f4107af4418d57aacb3542343f7b47768debdc75</td>\n      <td>bd3fc24710537130e97dc2dab4a6bf70b3884a8b</td>\n      <td>...</td>\n      <td>191.95721</td>\n      <td>143.86253</td>\n      <td>6</td>\n      <td>F7</td>\n      <td>5dcd5c94a4dbe7000630b08e</td>\n      <td>1573733081235</td>\n      <td>2225</td>\n      <td>194.181797</td>\n      <td>141.904314</td>\n      <td>5dc8cea7659e181adb076a3f</td>\n    </tr>\n    <tr>\n      <th>164335</th>\n      <td>5964a27e0cb3344b0a18540e6b3120c433971c38</td>\n      <td>cce41299a022ada08aebf3d309acb07d5f00b014</td>\n      <td>d090a2f7f222fadeeb64e4fbdfe1ca8451116b04</td>\n      <td>346b34a42e801c64e043dbaacbe7fef9b8880774</td>\n      <td>ca69ae425b53d4c2fae3d97ec4ec61897a4a6b73</td>\n      <td>f4107af4418d57aacb3542343f7b47768debdc75</td>\n      <td>04ac5e0b34d9646b79ad606e53c1b9b95e526dd7</td>\n      <td>4aa0b7ce4c79dd7e6c76fb06a25510068d66fbd0</td>\n      <td>180a351ec58c07d60949862c534373c43f548a9a</td>\n      <td>4d2e5639041b40b0df2ee258aa504bd904133d80</td>\n      <td>...</td>\n      <td>200.41064</td>\n      <td>136.42131</td>\n      <td>6</td>\n      <td>F7</td>\n      <td>5dcd5c94a4dbe7000630b08e</td>\n      <td>1573733083592</td>\n      <td>-4545</td>\n      <td>196.406384</td>\n      <td>139.946098</td>\n      <td>5dc8cea7659e181adb076a3f</td>\n    </tr>\n    <tr>\n      <th>164336</th>\n      <td>5964a27e0cb3344b0a18540e6b3120c433971c38</td>\n      <td>d090a2f7f222fadeeb64e4fbdfe1ca8451116b04</td>\n      <td>cce41299a022ada08aebf3d309acb07d5f00b014</td>\n      <td>346b34a42e801c64e043dbaacbe7fef9b8880774</td>\n      <td>180a351ec58c07d60949862c534373c43f548a9a</td>\n      <td>4d2e5639041b40b0df2ee258aa504bd904133d80</td>\n      <td>89395d0ee75307b3beb30aef2f19fc680095d514</td>\n      <td>04ac5e0b34d9646b79ad606e53c1b9b95e526dd7</td>\n      <td>566e0c6e3bcf2b8b3d310d96f111043d17ace817</td>\n      <td>bd3fc24710537130e97dc2dab4a6bf70b3884a8b</td>\n      <td>...</td>\n      <td>200.41064</td>\n      <td>136.42131</td>\n      <td>6</td>\n      <td>F7</td>\n      <td>5dcd5c94a4dbe7000630b08e</td>\n      <td>1573733085807</td>\n      <td>-2330</td>\n      <td>198.186053</td>\n      <td>138.379526</td>\n      <td>5dc8cea7659e181adb076a3f</td>\n    </tr>\n    <tr>\n      <th>164337</th>\n      <td>5964a27e0cb3344b0a18540e6b3120c433971c38</td>\n      <td>346b34a42e801c64e043dbaacbe7fef9b8880774</td>\n      <td>d090a2f7f222fadeeb64e4fbdfe1ca8451116b04</td>\n      <td>5953d0b2247e16447d327eb2a8a9c1abe24ff425</td>\n      <td>180a351ec58c07d60949862c534373c43f548a9a</td>\n      <td>4d2e5639041b40b0df2ee258aa504bd904133d80</td>\n      <td>04ac5e0b34d9646b79ad606e53c1b9b95e526dd7</td>\n      <td>a4a2b67312dcabc5e0ea28a693474b41d24f811c</td>\n      <td>0ef775dc8eaf20d8012be5ab00323a16694353bf</td>\n      <td>d36299eab3bb6785995f934cf5f9adfe7bab7b6c</td>\n      <td>...</td>\n      <td>200.41064</td>\n      <td>136.42131</td>\n      <td>6</td>\n      <td>F7</td>\n      <td>5dcd5c94a4dbe7000630b08e</td>\n      <td>1573733088251</td>\n      <td>114</td>\n      <td>200.410640</td>\n      <td>136.421310</td>\n      <td>5dc8cea7659e181adb076a3f</td>\n    </tr>\n    <tr>\n      <th>164338</th>\n      <td>5964a27e0cb3344b0a18540e6b3120c433971c38</td>\n      <td>346b34a42e801c64e043dbaacbe7fef9b8880774</td>\n      <td>a7986c0cea5d2571ea42011ab4407039e977c0bd</td>\n      <td>4d2e5639041b40b0df2ee258aa504bd904133d80</td>\n      <td>a94eb920c0a198fe8385f3de6a8e8e6d44b6f6c9</td>\n      <td>d36299eab3bb6785995f934cf5f9adfe7bab7b6c</td>\n      <td>180a351ec58c07d60949862c534373c43f548a9a</td>\n      <td>c7e93fabac2b8edda801898393e69894855de8af</td>\n      <td>ee5ca7a7deaacdcd5d99355ff5f156dc45b74efa</td>\n      <td>21f2c4d5b533f3e872f6fdde1eb1173c52bfb9ff</td>\n      <td>...</td>\n      <td>199.35341</td>\n      <td>134.51714</td>\n      <td>6</td>\n      <td>F7</td>\n      <td>5dcd5c94a4dbe7000630b08e</td>\n      <td>1573733090577</td>\n      <td>-1609</td>\n      <td>199.823290</td>\n      <td>135.363438</td>\n      <td>5dc8cea7659e181adb076a3f</td>\n    </tr>\n  </tbody>\n</table>\n<p>164339 rows × 31 columns</p>\n</div>"
     },
     "metadata": {},
     "execution_count": 17
    }
   ],
   "source": [
    "all_df = []\n",
    "for building in used_buildings:\n",
    "    df = pd.read_csv(output_dir + building + f'_wifi{NUM_WIFI}_bin{BIN_TIME}_train.csv')\n",
    "    df['site_id'] = building\n",
    "    all_df.append(df)\n",
    "all_df = pd.concat(all_df).reset_index(drop=True)\n",
    "all_df['last_seen_timestamp'] = all_df['last_seen_timestamp'].astype(int)\n",
    "all_df\n",
    "\n"
   ]
  },
  {
   "cell_type": "code",
   "execution_count": 18,
   "metadata": {},
   "outputs": [],
   "source": [
    "import pickle\n",
    "def to_pickle(filename, obj):\n",
    "    with open(filename, mode='wb') as f:\n",
    "        pickle.dump(obj, f)\n",
    "        \n",
    "to_pickle(output_dir + f'train_all_wifi{NUM_WIFI}_bin{BIN_TIME}.pkl', all_df)"
   ]
  },
  {
   "cell_type": "code",
   "execution_count": 160,
   "metadata": {},
   "outputs": [
    {
     "output_type": "execute_result",
     "data": {
      "text/plain": [
       "       timestamp                                site_path_timestamp  \\\n",
       "0             12  5d2709d403f801723c32bd39_52ad8c760ff9978d0949d...   \n",
       "1           4857  5d2709d403f801723c32bd39_52ad8c760ff9978d0949d...   \n",
       "2          13438  5d2709d403f801723c32bd39_52ad8c760ff9978d0949d...   \n",
       "3          21959  5d2709d403f801723c32bd39_52ad8c760ff9978d0949d...   \n",
       "4          28409  5d2709d403f801723c32bd39_52ad8c760ff9978d0949d...   \n",
       "...          ...                                                ...   \n",
       "10128      32051  5d2709a003f801723c3251bf_89f1ea2d1e3a876af40da...   \n",
       "10129      39259  5d2709a003f801723c3251bf_89f1ea2d1e3a876af40da...   \n",
       "10130      47253  5d2709a003f801723c3251bf_89f1ea2d1e3a876af40da...   \n",
       "10131      57917  5d2709a003f801723c3251bf_89f1ea2d1e3a876af40da...   \n",
       "10132      70260  5d2709a003f801723c3251bf_89f1ea2d1e3a876af40da...   \n",
       "\n",
       "       real_timestamp                      path  no_ibeacon  \n",
       "0       1573789217961  52ad8c760ff9978d0949deed       False  \n",
       "1       1573789222806  52ad8c760ff9978d0949deed       False  \n",
       "2       1573789231387  52ad8c760ff9978d0949deed       False  \n",
       "3       1573789239908  52ad8c760ff9978d0949deed       False  \n",
       "4       1573789246358  52ad8c760ff9978d0949deed       False  \n",
       "...               ...                       ...         ...  \n",
       "10128   1572577164212  89f1ea2d1e3a876af40dadac       False  \n",
       "10129   1572577171420  89f1ea2d1e3a876af40dadac       False  \n",
       "10130   1572577179414  89f1ea2d1e3a876af40dadac       False  \n",
       "10131   1572577190078  89f1ea2d1e3a876af40dadac       False  \n",
       "10132   1572577202421  89f1ea2d1e3a876af40dadac       False  \n",
       "\n",
       "[10133 rows x 5 columns]"
      ],
      "text/html": "<div>\n<style scoped>\n    .dataframe tbody tr th:only-of-type {\n        vertical-align: middle;\n    }\n\n    .dataframe tbody tr th {\n        vertical-align: top;\n    }\n\n    .dataframe thead th {\n        text-align: right;\n    }\n</style>\n<table border=\"1\" class=\"dataframe\">\n  <thead>\n    <tr style=\"text-align: right;\">\n      <th></th>\n      <th>timestamp</th>\n      <th>site_path_timestamp</th>\n      <th>real_timestamp</th>\n      <th>path</th>\n      <th>no_ibeacon</th>\n    </tr>\n  </thead>\n  <tbody>\n    <tr>\n      <th>0</th>\n      <td>12</td>\n      <td>5d2709d403f801723c32bd39_52ad8c760ff9978d0949d...</td>\n      <td>1573789217961</td>\n      <td>52ad8c760ff9978d0949deed</td>\n      <td>False</td>\n    </tr>\n    <tr>\n      <th>1</th>\n      <td>4857</td>\n      <td>5d2709d403f801723c32bd39_52ad8c760ff9978d0949d...</td>\n      <td>1573789222806</td>\n      <td>52ad8c760ff9978d0949deed</td>\n      <td>False</td>\n    </tr>\n    <tr>\n      <th>2</th>\n      <td>13438</td>\n      <td>5d2709d403f801723c32bd39_52ad8c760ff9978d0949d...</td>\n      <td>1573789231387</td>\n      <td>52ad8c760ff9978d0949deed</td>\n      <td>False</td>\n    </tr>\n    <tr>\n      <th>3</th>\n      <td>21959</td>\n      <td>5d2709d403f801723c32bd39_52ad8c760ff9978d0949d...</td>\n      <td>1573789239908</td>\n      <td>52ad8c760ff9978d0949deed</td>\n      <td>False</td>\n    </tr>\n    <tr>\n      <th>4</th>\n      <td>28409</td>\n      <td>5d2709d403f801723c32bd39_52ad8c760ff9978d0949d...</td>\n      <td>1573789246358</td>\n      <td>52ad8c760ff9978d0949deed</td>\n      <td>False</td>\n    </tr>\n    <tr>\n      <th>...</th>\n      <td>...</td>\n      <td>...</td>\n      <td>...</td>\n      <td>...</td>\n      <td>...</td>\n    </tr>\n    <tr>\n      <th>10128</th>\n      <td>32051</td>\n      <td>5d2709a003f801723c3251bf_89f1ea2d1e3a876af40da...</td>\n      <td>1572577164212</td>\n      <td>89f1ea2d1e3a876af40dadac</td>\n      <td>False</td>\n    </tr>\n    <tr>\n      <th>10129</th>\n      <td>39259</td>\n      <td>5d2709a003f801723c3251bf_89f1ea2d1e3a876af40da...</td>\n      <td>1572577171420</td>\n      <td>89f1ea2d1e3a876af40dadac</td>\n      <td>False</td>\n    </tr>\n    <tr>\n      <th>10130</th>\n      <td>47253</td>\n      <td>5d2709a003f801723c3251bf_89f1ea2d1e3a876af40da...</td>\n      <td>1572577179414</td>\n      <td>89f1ea2d1e3a876af40dadac</td>\n      <td>False</td>\n    </tr>\n    <tr>\n      <th>10131</th>\n      <td>57917</td>\n      <td>5d2709a003f801723c3251bf_89f1ea2d1e3a876af40da...</td>\n      <td>1572577190078</td>\n      <td>89f1ea2d1e3a876af40dadac</td>\n      <td>False</td>\n    </tr>\n    <tr>\n      <th>10132</th>\n      <td>70260</td>\n      <td>5d2709a003f801723c3251bf_89f1ea2d1e3a876af40da...</td>\n      <td>1572577202421</td>\n      <td>89f1ea2d1e3a876af40dadac</td>\n      <td>False</td>\n    </tr>\n  </tbody>\n</table>\n<p>10133 rows × 5 columns</p>\n</div>"
     },
     "metadata": {},
     "execution_count": 160
    }
   ],
   "source": [
    "with open(output_dir + 'test_timestamp_df.pkl', 'rb') as f:\n",
    "    test_timestamp_df = pickle.load(f)\n",
    "test_timestamp_df\n",
    "# test_timestamp_dict = test_timestamp_df.set_index('timestamp')['real_timestamp'].to_dict()"
   ]
  },
  {
   "cell_type": "code",
   "execution_count": 150,
   "metadata": {},
   "outputs": [
    {
     "output_type": "execute_result",
     "data": {
      "text/plain": [
       "0.048652916214349154"
      ]
     },
     "metadata": {},
     "execution_count": 150
    }
   ],
   "source": [
    "test_timestamp_df['no_ibeacon'].sum()/len(test_timestamp_df)"
   ]
  },
  {
   "cell_type": "code",
   "execution_count": 151,
   "metadata": {},
   "outputs": [],
   "source": [
    "# pathとibeaconの有無を表すdict\n",
    "path_no_ibeacon_dict = test_timestamp_df.groupby('path')['no_ibeacon'].mean().to_dict()"
   ]
  },
  {
   "cell_type": "code",
   "execution_count": 163,
   "metadata": {},
   "outputs": [
    {
     "output_type": "execute_result",
     "data": {
      "text/plain": [
       "0.054313099041533544"
      ]
     },
     "metadata": {},
     "execution_count": 163
    }
   ],
   "source": [
    "test_timestamp_df.groupby('path')['no_ibeacon'].mean().sum() / len(test_timestamp_df.groupby('path')['no_ibeacon'].mean())"
   ]
  },
  {
   "source": [
    "いくつかは補完できていないtimestampも存在する"
   ],
   "cell_type": "markdown",
   "metadata": {}
  },
  {
   "cell_type": "code",
   "execution_count": 157,
   "metadata": {},
   "outputs": [
    {
     "output_type": "execute_result",
     "data": {
      "text/plain": [
       "                           site                      path      timestamp\n",
       "0      5a0546857ecc773753327266  046cfa46be49fc10834815c6              9\n",
       "1      5a0546857ecc773753327266  046cfa46be49fc10834815c6  1578474573154\n",
       "2      5a0546857ecc773753327266  046cfa46be49fc10834815c6  1578474579463\n",
       "3      5a0546857ecc773753327266  046cfa46be49fc10834815c6  1578474582900\n",
       "4      5a0546857ecc773753327266  046cfa46be49fc10834815c6  1578474586465\n",
       "...                         ...                       ...            ...\n",
       "10128  5dc8cea7659e181adb076a3f  fd64de8c4a2fc5ebb0e9f412  1571887924952\n",
       "10129  5dc8cea7659e181adb076a3f  fd64de8c4a2fc5ebb0e9f412  1573731146476\n",
       "10130  5dc8cea7659e181adb076a3f  fd64de8c4a2fc5ebb0e9f412  1573731151613\n",
       "10131  5dc8cea7659e181adb076a3f  fd64de8c4a2fc5ebb0e9f412  1573731157617\n",
       "10132  5dc8cea7659e181adb076a3f  fd64de8c4a2fc5ebb0e9f412  1573731161165\n",
       "\n",
       "[10133 rows x 3 columns]"
      ],
      "text/html": "<div>\n<style scoped>\n    .dataframe tbody tr th:only-of-type {\n        vertical-align: middle;\n    }\n\n    .dataframe tbody tr th {\n        vertical-align: top;\n    }\n\n    .dataframe thead th {\n        text-align: right;\n    }\n</style>\n<table border=\"1\" class=\"dataframe\">\n  <thead>\n    <tr style=\"text-align: right;\">\n      <th></th>\n      <th>site</th>\n      <th>path</th>\n      <th>timestamp</th>\n    </tr>\n  </thead>\n  <tbody>\n    <tr>\n      <th>0</th>\n      <td>5a0546857ecc773753327266</td>\n      <td>046cfa46be49fc10834815c6</td>\n      <td>9</td>\n    </tr>\n    <tr>\n      <th>1</th>\n      <td>5a0546857ecc773753327266</td>\n      <td>046cfa46be49fc10834815c6</td>\n      <td>1578474573154</td>\n    </tr>\n    <tr>\n      <th>2</th>\n      <td>5a0546857ecc773753327266</td>\n      <td>046cfa46be49fc10834815c6</td>\n      <td>1578474579463</td>\n    </tr>\n    <tr>\n      <th>3</th>\n      <td>5a0546857ecc773753327266</td>\n      <td>046cfa46be49fc10834815c6</td>\n      <td>1578474582900</td>\n    </tr>\n    <tr>\n      <th>4</th>\n      <td>5a0546857ecc773753327266</td>\n      <td>046cfa46be49fc10834815c6</td>\n      <td>1578474586465</td>\n    </tr>\n    <tr>\n      <th>...</th>\n      <td>...</td>\n      <td>...</td>\n      <td>...</td>\n    </tr>\n    <tr>\n      <th>10128</th>\n      <td>5dc8cea7659e181adb076a3f</td>\n      <td>fd64de8c4a2fc5ebb0e9f412</td>\n      <td>1571887924952</td>\n    </tr>\n    <tr>\n      <th>10129</th>\n      <td>5dc8cea7659e181adb076a3f</td>\n      <td>fd64de8c4a2fc5ebb0e9f412</td>\n      <td>1573731146476</td>\n    </tr>\n    <tr>\n      <th>10130</th>\n      <td>5dc8cea7659e181adb076a3f</td>\n      <td>fd64de8c4a2fc5ebb0e9f412</td>\n      <td>1573731151613</td>\n    </tr>\n    <tr>\n      <th>10131</th>\n      <td>5dc8cea7659e181adb076a3f</td>\n      <td>fd64de8c4a2fc5ebb0e9f412</td>\n      <td>1573731157617</td>\n    </tr>\n    <tr>\n      <th>10132</th>\n      <td>5dc8cea7659e181adb076a3f</td>\n      <td>fd64de8c4a2fc5ebb0e9f412</td>\n      <td>1573731161165</td>\n    </tr>\n  </tbody>\n</table>\n<p>10133 rows × 3 columns</p>\n</div>"
     },
     "metadata": {},
     "execution_count": 157
    }
   ],
   "source": [
    "# 変換\n",
    "ssubm_df['timestamp'] = ssubm_df['timestamp'].map(test_timestamp_dict)\n",
    "ssubm_df"
   ]
  },
  {
   "cell_type": "code",
   "execution_count": 158,
   "metadata": {},
   "outputs": [
    {
     "output_type": "stream",
     "name": "stdout",
     "text": [
      "False\n"
     ]
    }
   ],
   "source": [
    "# Generate the features for the test set\n",
    "feature_dict = dict()\n",
    "\n",
    "for site, df in ssubm_df.groupby('site'):\n",
    "    index = sorted(all_bssid[df.iloc[0,0]])\n",
    "    feats = list()\n",
    "\n",
    "    # path\n",
    "    for path, g in df.groupby('path'):\n",
    "\n",
    "        # get all wifi time locations, \n",
    "        with open(os.path.join(base_path, 'test/' + g.iloc[0,1] + '.txt'), encoding='utf-8') as f:\n",
    "            txt = f.readlines()\n",
    "\n",
    "        # wifiデータを取り出す\n",
    "        wifi = list()\n",
    "        for line in txt:\n",
    "            line = line.strip().split()\n",
    "            if line[1] == \"TYPE_WIFI\":\n",
    "                wifi.append(line)\n",
    "\n",
    "        # wifiデータが1つもないケースがあるか確認\n",
    "        if len(wifi) == 0:\n",
    "            print(f'wifiデータがないpath:{file}') \n",
    "        \n",
    "        wifi_df = pd.DataFrame(np.array(wifi))\n",
    "        wifi_df = wifi_df.rename(columns={0:'timestamp', 1:'type_wifi', 2:'ssid', 3:'bssid', 4:'rssi', 5:'freq', 6:'last_seen_timestamp'})\n",
    "        wifi_df['last_seen_timestamp'] = wifi_df['last_seen_timestamp'].astype(int)\n",
    "\n",
    "        # # last seen timestampで塊を作る\n",
    "        wifi_df = grouping_last_seen_timestamp(wifi_df)\n",
    "        wifi_last_seen_timestamp = pd.DataFrame(wifi_df.groupby('last_seen_timestamp').count().index.tolist())\n",
    "        wifi_timestamp = pd.DataFrame(wifi_df.groupby('timestamp').count().index.tolist())\n",
    "        \n",
    "        # 予測対象のtimestamp\n",
    "        if path_no_ibeacon_dict[path]:  \n",
    "            # beaconデータでtimestampを補正できていない場合はlast seenの代わりにtimestampを使用\n",
    "            for timestamp in g['timestamp'].tolist():\n",
    "\n",
    "                deltas = (wifi_timestamp.astype(int) - int(timestamp)).abs()  # wifiのlast seenと求めるtimestampの時間差\n",
    "                min_delta_idx = deltas.values.argmin()\n",
    "                wifi_block_timestamp = wifi_timestamp[min_delta_idx].values[0]\n",
    "                timestamp = wifi_timestamp[min_delta_idx].values[0]\n",
    "                print('True')\n",
    "                break\n",
    "                \n",
    "                wifi_block = wifi_df[wifi_df[0] == wifi_block_timestamp].drop_duplicates(subset=3)\n",
    "                feat = wifi_block.set_index(3)[4].reindex(index).fillna(-999)\n",
    "\n",
    "                feat['site_path_timestamp'] = g.iloc[0,0] + \"_\" + g.iloc[0,1] + \"_\" + timepoint\n",
    "                feat['time_diff'] = int(timepoint) - int(wifi_block_timestamp)\n",
    "                feats.append(feat)\n",
    "        else:\n",
    "            # beaconデータでtimestampを補正できている場合はlast seen timestampが近いものを取得\n",
    "            for timestamp in g['timestamp'].tolist():\n",
    "                    \n",
    "                deltas = (wifi_last_seen_timestamp.astype(int) - int(timestamp)).abs()  # wifiのlast seenと求めるtimestampの時間差\n",
    "                min_delta_idx = deltas.values.argmin()\n",
    "                wifi_block_timestamp = wifi_last_seen_timestamp[min_delta_idx].values[0]\n",
    "                last_seen_timestamp = wifi_last_seen_timestamp[min_delta_idx].values[0]\n",
    "                print('False')\n",
    "                break\n",
    "                \n",
    "                wifi_block = wifi_df[wifi_df[0] == wifi_block_timestamp].drop_duplicates(subset=3)\n",
    "                feat = wifi_block.set_index(3)[4].reindex(index).fillna(-999)\n",
    "\n",
    "                feat['site_path_timestamp'] = g.iloc[0,0] + \"_\" + g.iloc[0,1] + \"_\" + timepoint\n",
    "                feat['time_diff'] = int(timepoint) - int(wifi_block_timestamp)\n",
    "                feats.append(feat)\n",
    "        break\n",
    "    break\n",
    "    feature_df = pd.concat(feats, axis=1).T\n",
    "    feature_df.to_csv(output_dir + gid0 + \"_test.csv\")"
   ]
  },
  {
   "cell_type": "code",
   "execution_count": 159,
   "metadata": {},
   "outputs": [
    {
     "output_type": "execute_result",
     "data": {
      "text/plain": [
       "                       site                      path      timestamp\n",
       "0  5a0546857ecc773753327266  046cfa46be49fc10834815c6              9\n",
       "1  5a0546857ecc773753327266  046cfa46be49fc10834815c6  1578474573154\n",
       "2  5a0546857ecc773753327266  046cfa46be49fc10834815c6  1578474579463\n",
       "3  5a0546857ecc773753327266  046cfa46be49fc10834815c6  1578474582900\n",
       "4  5a0546857ecc773753327266  046cfa46be49fc10834815c6  1578474586465\n",
       "5  5a0546857ecc773753327266  046cfa46be49fc10834815c6  1578474594083\n",
       "6  5a0546857ecc773753327266  046cfa46be49fc10834815c6  1578474604420\n",
       "7  5a0546857ecc773753327266  046cfa46be49fc10834815c6  1578474615480\n",
       "8  5a0546857ecc773753327266  046cfa46be49fc10834815c6  1578474628151"
      ],
      "text/html": "<div>\n<style scoped>\n    .dataframe tbody tr th:only-of-type {\n        vertical-align: middle;\n    }\n\n    .dataframe tbody tr th {\n        vertical-align: top;\n    }\n\n    .dataframe thead th {\n        text-align: right;\n    }\n</style>\n<table border=\"1\" class=\"dataframe\">\n  <thead>\n    <tr style=\"text-align: right;\">\n      <th></th>\n      <th>site</th>\n      <th>path</th>\n      <th>timestamp</th>\n    </tr>\n  </thead>\n  <tbody>\n    <tr>\n      <th>0</th>\n      <td>5a0546857ecc773753327266</td>\n      <td>046cfa46be49fc10834815c6</td>\n      <td>9</td>\n    </tr>\n    <tr>\n      <th>1</th>\n      <td>5a0546857ecc773753327266</td>\n      <td>046cfa46be49fc10834815c6</td>\n      <td>1578474573154</td>\n    </tr>\n    <tr>\n      <th>2</th>\n      <td>5a0546857ecc773753327266</td>\n      <td>046cfa46be49fc10834815c6</td>\n      <td>1578474579463</td>\n    </tr>\n    <tr>\n      <th>3</th>\n      <td>5a0546857ecc773753327266</td>\n      <td>046cfa46be49fc10834815c6</td>\n      <td>1578474582900</td>\n    </tr>\n    <tr>\n      <th>4</th>\n      <td>5a0546857ecc773753327266</td>\n      <td>046cfa46be49fc10834815c6</td>\n      <td>1578474586465</td>\n    </tr>\n    <tr>\n      <th>5</th>\n      <td>5a0546857ecc773753327266</td>\n      <td>046cfa46be49fc10834815c6</td>\n      <td>1578474594083</td>\n    </tr>\n    <tr>\n      <th>6</th>\n      <td>5a0546857ecc773753327266</td>\n      <td>046cfa46be49fc10834815c6</td>\n      <td>1578474604420</td>\n    </tr>\n    <tr>\n      <th>7</th>\n      <td>5a0546857ecc773753327266</td>\n      <td>046cfa46be49fc10834815c6</td>\n      <td>1578474615480</td>\n    </tr>\n    <tr>\n      <th>8</th>\n      <td>5a0546857ecc773753327266</td>\n      <td>046cfa46be49fc10834815c6</td>\n      <td>1578474628151</td>\n    </tr>\n  </tbody>\n</table>\n</div>"
     },
     "metadata": {},
     "execution_count": 159
    }
   ],
   "source": [
    "g"
   ]
  },
  {
   "cell_type": "code",
   "execution_count": null,
   "metadata": {},
   "outputs": [],
   "source": []
  }
 ]
}