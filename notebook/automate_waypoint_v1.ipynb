{
 "metadata": {
  "language_info": {
   "codemirror_mode": {
    "name": "ipython",
    "version": 3
   },
   "file_extension": ".py",
   "mimetype": "text/x-python",
   "name": "python",
   "nbconvert_exporter": "python",
   "pygments_lexer": "ipython3",
   "version": "3.8.5"
  },
  "orig_nbformat": 2,
  "kernelspec": {
   "name": "python385jvsc74a57bd031f2aee4e71d21fbe5cf8b01ff0e069b9275f58929596ceb00d14d90e3e16cd6",
   "display_name": "Python 3.8.5 64-bit"
  },
  "metadata": {
   "interpreter": {
    "hash": "31f2aee4e71d21fbe5cf8b01ff0e069b9275f58929596ceb00d14d90e3e16cd6"
   }
  }
 },
 "nbformat": 4,
 "nbformat_minor": 2,
 "cells": [
  {
   "cell_type": "code",
   "execution_count": null,
   "metadata": {},
   "outputs": [],
   "source": [
    "import json\n",
    "import numpy as np\n",
    "import pandas as pd\n",
    "import seaborn as sns\n",
    "from PIL import Image\n",
    "import matplotlib.pyplot as plt\n",
    "from glob import glob\n",
    "import cv2"
   ]
  },
  {
   "cell_type": "code",
   "execution_count": null,
   "metadata": {},
   "outputs": [],
   "source": [
    "train_waypoint = pd.read_csv('../input/indoor-location-train-waypoints/train_waypoints.csv')\n",
    "hand_waypoint = pd.read_csv('../input/waypoint_by_hand.csv')"
   ]
  },
  {
   "cell_type": "code",
   "execution_count": null,
   "metadata": {},
   "outputs": [],
   "source": [
    "train_waypoint"
   ]
  },
  {
   "cell_type": "code",
   "execution_count": null,
   "metadata": {},
   "outputs": [],
   "source": [
    "hand_waypoint"
   ]
  },
  {
   "cell_type": "code",
   "execution_count": null,
   "metadata": {},
   "outputs": [],
   "source": [
    "# metaデータが存在するディレクトリ\n",
    "DIR_META = '../input/indoor-location-navigation/metadata/'\n",
    "\n",
    "# 画像の解像度(100とか200がいい感じかな。debugのときは一時的に10とかにすることもあります)\n",
    "dpi = 100"
   ]
  },
  {
   "cell_type": "code",
   "execution_count": null,
   "metadata": {},
   "outputs": [],
   "source": [
    "def pil2cv(image):\n",
    "    ''' PIL型 -> OpenCV型 '''\n",
    "    new_image = np.array(image, dtype=np.uint8)\n",
    "    if new_image.ndim == 2:  # モノクロ\n",
    "        pass\n",
    "    elif new_image.shape[2] == 3:  # カラー\n",
    "        new_image = cv2.cvtColor(new_image, cv2.COLOR_RGB2BGR)\n",
    "    elif new_image.shape[2] == 4:  # 透過\n",
    "        new_image = cv2.cvtColor(new_image, cv2.COLOR_RGBA2BGRA)\n",
    "    return new_image"
   ]
  },
  {
   "cell_type": "code",
   "execution_count": null,
   "metadata": {},
   "outputs": [],
   "source": [
    "import io\n",
    "\n",
    "def get_metadata(site, floor):\n",
    "    # geojsonファイルを使ってsiteの一番外枠を取得したい\n",
    "    path_json = f'{DIR_META}{site}/{floor}/geojson_map.json'\n",
    "    with open(path_json) as json_file:\n",
    "        map = json.load(json_file)\n",
    "\n",
    "    # 座標\n",
    "    coordinates = map['features'][0]['geometry']['coordinates']\n",
    "    x_list = []\n",
    "    y_list = []\n",
    "    for i in range(len(coordinates)):\n",
    "        ndim = np.ndim(coordinates[i])\n",
    "        if ndim ==2:\n",
    "            x = np.array(coordinates[i])[:,0]\n",
    "            y = np.array(coordinates[i])[:,1]\n",
    "        elif ndim==3:\n",
    "            x = np.array(coordinates[i])[0,:,0]\n",
    "            y = np.array(coordinates[i])[0,:,1]\n",
    "        else:\n",
    "            print('dim error')\n",
    "        x_list.append(x)\n",
    "        y_list.append(y)\n",
    "    x = np.concatenate(x_list)\n",
    "    y = np.concatenate(y_list)\n",
    "    xmax,xmin,ymax,ymin = max(x),min(x),max(y),min(y)\n",
    "    x = x - x.min()\n",
    "    y = y - y.min()\n",
    "    \n",
    "    # 実際のfloor画像に合体させる\n",
    "    img_path = f'{DIR_META}{site}/{floor}/floor_image.png'\n",
    "    img = cv2.imread(img_path, -1)  # alphaも読み取るため-1を与える (4次元)\n",
    "    index = np.where(img[:, :, 3] == 0)  # alpha=0の箇所を抽出\n",
    "    img[index] = [255, 255, 255, 255]  # 抽出した箇所を白塗り\n",
    "    img = img[:,:,[0,1,2]]  # 4->3次元にする\n",
    "    height = img.shape[1]\n",
    "    width = img.shape[0]\n",
    "\n",
    "    # スケールを揃える\n",
    "    scale_x = height/(xmax - xmin)\n",
    "    scale_y = width/(ymax - ymin)\n",
    "    scale_x, scale_y\n",
    "    x = x*scale_x\n",
    "    y = y*scale_y\n",
    "    xy = np.stack([x, y], axis=1)\n",
    "\n",
    "    return img, xy"
   ]
  },
  {
   "cell_type": "code",
   "execution_count": null,
   "metadata": {},
   "outputs": [],
   "source": [
    "def create_auto_waypoint(site, floor):\n",
    "    # 2つの画像をmergeして後の処理をしやすくする\n",
    "    img, _xy = get_metadata(site, floor)   # w, h逆にする\n",
    "    img = pil2cv(img)\n",
    "    img_HSV = cv2.cvtColor(img, cv2.COLOR_BGR2HSV)\n",
    "    img_H, img_S, img_V = cv2.split(img_HSV)\n",
    "\n",
    "    # json\n",
    "    path_json = f'{DIR_META}{site}/{floor}/floor_info.json'\n",
    "    with open(path_json) as json_file:\n",
    "        json_data = json.load(json_file)\n",
    "    w = json_data[\"map_info\"][\"width\"]\n",
    "    h = json_data[\"map_info\"][\"height\"]\n",
    "\n",
    "    # detect tulips\n",
    "    thr = 1   # thrより大きいものを255(white)にする\n",
    "    _thre, img_flowers = cv2.threshold(img_H, thr, 255, cv2.THRESH_BINARY)\n",
    "\n",
    "    h_scale = h/img.shape[0]  # 1pxあたりのスケール\n",
    "    w_scale = w/img.shape[1]  # 1pxあたりのスケール\n",
    "\n",
    "    xy_list = []\n",
    "    # find tulips\n",
    "    contours, hierarchy = cv2.findContours(img_flowers, cv2.RETR_LIST, cv2.CHAIN_APPROX_NONE)\n",
    "    for i in range(0, len(contours)):\n",
    "        if len(contours[i]) > 0:\n",
    "            # remove small objects\n",
    "            if cv2.contourArea(contours[i]) < 100:  # 500\n",
    "                continue\n",
    "            for j in range(len(contours[i])):\n",
    "\n",
    "                if j % 20 == 0:  # hyperpara\n",
    "                    # 座標抽出\n",
    "                    x = contours[i][j,0,0]\n",
    "                    y = contours[i][j,0,1]\n",
    "                    x = x * w_scale  \n",
    "                    y = h - (y * h_scale)\n",
    "                    xy_list.append(np.array([x,y]))\n",
    "    xy = np.stack(xy_list)\n",
    "\n",
    "    # スケールを合わせる\n",
    "    _xy[:,0] = _xy[:,0] * w_scale  \n",
    "    _xy[:,1] = _xy[:,1] * h_scale \n",
    "    return img, xy, _xy, w, h"
   ]
  },
  {
   "cell_type": "code",
   "execution_count": null,
   "metadata": {},
   "outputs": [],
   "source": [
    "site = '5d2709d403f801723c32bd39'\n",
    "floor = '1F'\n",
    "\n",
    "img, xy, _xy, w, h = create_auto_waypoint(site, floor)\n",
    "plt.figure(figsize=(10, 10))\n",
    "plt.imshow(img, extent=(0, w, 0, h))  # スケールをextentで調整\n",
    "plt.scatter(xy[:,0],xy[:,1], s=10, color='green')  # 内側\n",
    "plt.scatter(_xy[:,0],_xy[:,1], s=10, color='green')  # 外側"
   ]
  },
  {
   "cell_type": "code",
   "execution_count": null,
   "metadata": {},
   "outputs": [],
   "source": [
    "from tqdm.notebook import tqdm\n",
    "df_list = []\n",
    "map_floor = {'B2': -2, 'B1': -1, 'F1': 0, 'F2': 1, 'F3': 2, 'F4': 3, 'F5': 4, 'F6': 5, 'F7': 6, 'F8': 7, 'F9': 8,\n",
    "                '2B': -2, '1B': -1, '1F': 0, '2F': 1, '3F': 2, '4F': 3, '5F': 4, '6F': 5, '7F': 6, '8F': 7, '9F': 8}\n",
    "for site in tqdm(sorted(train_waypoint['site'].unique())):\n",
    "    print(site)\n",
    "    floor_list = sorted(glob(f'{DIR_META}{site}/*'))\n",
    "    floor_list = [text.split('/')[-1] for text in floor_list]\n",
    "    for floor in floor_list:\n",
    "        _, xy1, xy2, _, _ = create_auto_waypoint(site, floor)\n",
    "        # df = pd.DataFrame(np.concatenate([xy1, xy2]), columns=['x', 'y'])\n",
    "        df = pd.DataFrame(xy1, columns=['x', 'y'])\n",
    "\n",
    "        df['site'] = site\n",
    "        df['floor'] = map_floor[floor]\n",
    "        df_list.append(df)\n",
    "auto_waypoint = pd.concat(df_list).reset_index(drop=True)\n",
    "auto_waypoint\n"
   ]
  },
  {
   "cell_type": "code",
   "execution_count": null,
   "metadata": {},
   "outputs": [],
   "source": [
    "def visualize_map(train_waypoint, hand_waypoint, auto_waypoint, show=True, dpi=100):\n",
    "    map_floor = {'B2': -2, 'B1': -1, 'F1': 0, 'F2': 1, 'F3': 2, 'F4': 3, 'F5': 4, 'F6': 5, 'F7': 6, 'F8': 7, 'F9': 8,\n",
    "                 '2B': -2, '1B': -1, '1F': 0, '2F': 1, '3F': 2, '4F': 3, '5F': 4, '6F': 5, '7F': 6, '8F': 7, '9F': 8}\n",
    " \n",
    "    site_list = train_waypoint['site'].unique()\n",
    "\n",
    "    # site loop\n",
    "    for site in sorted(site_list):\n",
    "        floor_list = sorted(glob(f'{DIR_META}{site}/*'))\n",
    "        floor_list = [text.split('/')[-1] for text in floor_list]\n",
    "        \n",
    "        # 画像の比を決めるために一度floor_info.jsonを取得\n",
    "        path_json = f'{DIR_META}{site}/{floor_list[0]}/floor_info.json'\n",
    "        with open(path_json) as json_file:\n",
    "            json_data = json.load(json_file)\n",
    "        _width_meter = json_data[\"map_info\"][\"width\"]\n",
    "        _height_meter = json_data[\"map_info\"][\"height\"]\n",
    "        s = max(_width_meter, _height_meter)\n",
    "\n",
    "        t_site_wp = train_waypoint.loc[train_waypoint['site']==site, :].reset_index(drop=True)\n",
    "        h_site_wp = hand_waypoint.loc[hand_waypoint['site']==site, :].reset_index(drop=True)\n",
    "        a_site_wp = auto_waypoint.loc[auto_waypoint['site']==site, :].reset_index(drop=True)\n",
    "        # figとaxesの用意\n",
    "        n_floor = len(floor_list)\n",
    "        n_row = int(np.ceil(n_floor / 3))\n",
    "        w = round(5*3*_width_meter/s)\n",
    "        h = round(5*n_row*_height_meter/s)\n",
    "        fig, axs = plt.subplots(n_row, 3, figsize=(w, h), dpi=dpi)\n",
    "        fig.suptitle(f'{site} (train:{len(t_site_wp)} hand:{len(h_site_wp)})', fontsize=15)\n",
    "        fig.patch.set_facecolor('white')\n",
    "        axs = axs.ravel()\n",
    "\n",
    "        # floor loop\n",
    "        for i_floor, floor in enumerate(floor_list):\n",
    "            # json\n",
    "            path_json = f'{DIR_META}{site}/{floor}/floor_info.json'\n",
    "            with open(path_json) as json_file:\n",
    "                json_data = json.load(json_file)\n",
    "            width_meter = json_data[\"map_info\"][\"width\"]\n",
    "            height_meter = json_data[\"map_info\"][\"height\"]\n",
    "\n",
    "            t_wp = t_site_wp.loc[t_site_wp['floor']==map_floor[floor], :].reset_index(drop=True)\n",
    "            h_wp = h_site_wp.loc[h_site_wp['floor']==map_floor[floor], :].reset_index(drop=True)\n",
    "            a_wp = a_site_wp.loc[a_site_wp['floor']==map_floor[floor], :].reset_index(drop=True)\n",
    "\n",
    "            # show image\n",
    "            path_img = f'{DIR_META}{site}/{floor}/floor_image.png'\n",
    "            im = Image.open(path_img)\n",
    "            axs[i_floor].imshow(np.asarray(im), extent=(0, width_meter, 0, height_meter))\n",
    "            axs[i_floor].set_title(f'{floor} (train:{len(t_wp)} hand:{len(h_wp)})', fontsize=10)\n",
    "\n",
    "            # plot waypoint\n",
    "            axs[i_floor].scatter(t_wp['x'], t_wp['y'], marker='o', color='red', s=1)\n",
    "            axs[i_floor].scatter(h_wp['x'], h_wp['y'], marker='o', color='blue', s=1)\n",
    "            axs[i_floor].scatter(a_wp['x'], a_wp['y'], marker='o', color='green', s=1)\n",
    "        plt.tight_layout()\n",
    "        # plt.savefig(f'./waypoint/{site}.png')\n",
    "        plt.show()"
   ]
  },
  {
   "cell_type": "code",
   "execution_count": null,
   "metadata": {},
   "outputs": [],
   "source": [
    "def visualize_onemap(train_waypoint, hand_waypoint, auto_waypoint, site, floor, dir_meta=DIR_META, show=True, dpi=100):\n",
    "    map_floor = {'B2': -2, 'B1': -1, 'F1': 0, 'F2': 1, 'F3': 2, 'F4': 3, 'F5': 4, 'F6': 5, 'F7': 6, 'F8': 7, 'F9': 8,\n",
    "                 '2B': -2, '1B': -1, '1F': 0, '2F': 1, '3F': 2, '4F': 3, '5F': 4, '6F': 5, '7F': 6, '8F': 7, '9F': 8}\n",
    "    path_json = f'{dir_meta}{site}/{floor}/floor_info.json'\n",
    "    with open(path_json) as json_file:\n",
    "        json_data = json.load(json_file)\n",
    "    width_meter = json_data[\"map_info\"][\"width\"]\n",
    "    height_meter = json_data[\"map_info\"][\"height\"]\n",
    "\n",
    "    # show image\n",
    "    fig = plt.figure(figsize=(7,7))\n",
    "    ax = fig.add_subplot(111)\n",
    "    path_img = f'{dir_meta}{site}/{floor}/floor_image.png'\n",
    "    im = Image.open(path_img)\n",
    "    ax.imshow(np.asarray(im), extent=(0, width_meter, 0, height_meter))\n",
    "    ax.set_title(floor, fontsize=10)\n",
    "\n",
    "    # train&hand waypoint\n",
    "    t_wp = train_waypoint.loc[(train_waypoint['site']==site)&(train_waypoint['floor']==map_floor[floor]), :].reset_index(drop=True)\n",
    "    h_wp = hand_waypoint.loc[(hand_waypoint['site']==site)&(hand_waypoint['floor']==map_floor[floor]), :].reset_index(drop=True)\n",
    "    ax.scatter(t_wp['x'], t_wp['y'], marker='o', color='red', s=5, label='train')\n",
    "    ax.scatter(h_wp['x'], h_wp['y'], marker='o', color='blue', s=5, label='hand')\n",
    "\n",
    "    # auto waypoint\n",
    "    a_wp = auto_waypoint.loc[(auto_waypoint['site']==site)&(auto_waypoint['floor']==map_floor[floor]), :].reset_index(drop=True)\n",
    "    ax.scatter(a_wp['x'], a_wp['y'], marker='o', color='green', s=10, label='auto')\n",
    "    plt.legend()\n",
    "    plt.tight_layout()\n",
    "    # plt.savefig('auto_waypoint_sample.png')\n",
    "    plt.show()"
   ]
  },
  {
   "cell_type": "code",
   "execution_count": null,
   "metadata": {},
   "outputs": [],
   "source": [
    "site = '5d2709d403f801723c32bd39'\n",
    "floor = '1F'\n",
    "visualize_onemap(train_waypoint, hand_waypoint, auto_waypoint,site,floor)"
   ]
  },
  {
   "cell_type": "code",
   "execution_count": null,
   "metadata": {},
   "outputs": [],
   "source": [
    "# auto_waypoint.to_csv('../input/auto_waypoint_v1.csv', index=False)"
   ]
  },
  {
   "cell_type": "code",
   "execution_count": null,
   "metadata": {},
   "outputs": [],
   "source": [
    "# visualize submission\n",
    "visualize_map(train_waypoint, hand_waypoint, auto_waypoint, dpi=dpi)"
   ]
  },
  {
   "cell_type": "code",
   "execution_count": null,
   "metadata": {},
   "outputs": [],
   "source": [
    "auto_waypoint"
   ]
  },
  {
   "cell_type": "code",
   "execution_count": null,
   "metadata": {},
   "outputs": [],
   "source": []
  }
 ]
}