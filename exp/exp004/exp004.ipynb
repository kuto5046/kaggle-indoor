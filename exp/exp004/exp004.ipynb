{
 "cells": [
  {
   "cell_type": "code",
   "execution_count": 1,
   "metadata": {},
   "outputs": [],
   "source": [
    "import os\n",
    "import sys\n",
    "import glob\n",
    "import pickle\n",
    "import random\n",
    "\n",
    "import numpy as np\n",
    "import pandas as pd\n",
    "import scipy.stats as stats\n",
    "from pathlib import Path\n",
    "\n",
    "\n",
    "sys.path.append('../../')\n",
    "import src.utils as utils\n",
    "from sklearn import model_selection\n",
    "from sklearn.preprocessing import StandardScaler, LabelEncoder\n",
    "\n",
    "import wandb\n",
    "import torch\n",
    "from torch import nn\n",
    "import torch.nn.functional as F\n",
    "from torch.utils.data import Dataset, DataLoader\n",
    "import torch.optim as optim\n",
    "\n",
    "import pytorch_lightning as pl\n",
    "from pytorch_lightning.loggers import WandbLogger\n",
    "# from pytorch_lightning.loggers import TensorBoardLogger\n",
    "from pytorch_lightning.callbacks import ModelCheckpoint\n",
    "from pytorch_lightning.callbacks import EarlyStopping"
   ]
  },
  {
   "cell_type": "markdown",
   "metadata": {},
   "source": [
    "## config"
   ]
  },
  {
   "cell_type": "code",
   "execution_count": 2,
   "metadata": {},
   "outputs": [],
   "source": [
    "# config\n",
    "config = utils.load_config('config.yaml')\n",
    "\n",
    "# globals variable\n",
    "SEED = config['globals']['seed']\n",
    "MAX_EPOCHS = config['globals']['max_epochs']\n",
    "N_SPLITS = config['globals']['n_splits']\n",
    "USE_FOLDS = config['globals']['use_folds']\n",
    "DEBUG = config['globals']['debug']\n",
    "EXP_MESSAGE = config['globals']['exp_message']\n",
    "NOTES = config['globals']['notes']\n",
    "\n",
    "EXP_NAME = str(Path().resolve()).split('/')[-1]\n",
    "\n",
    "# seed\n",
    "utils.set_seed(SEED)"
   ]
  },
  {
   "cell_type": "code",
   "execution_count": 3,
   "metadata": {},
   "outputs": [
    {
     "output_type": "stream",
     "name": "stdout",
     "text": [
      "\u001b[34m\u001b[1mwandb\u001b[0m: Appending key for api.wandb.ai to your netrc file: /home/kuzira/.netrc\n"
     ]
    }
   ],
   "source": [
    "!wandb login 1bb2d0449c11d8b987e25c38b9d8dda176310fb6"
   ]
  },
  {
   "cell_type": "markdown",
   "metadata": {},
   "source": [
    "## read data"
   ]
  },
  {
   "cell_type": "code",
   "execution_count": 4,
   "metadata": {},
   "outputs": [],
   "source": [
    "# waypointを補正したdataset\n",
    "root_dir = Path('../../input/')\n",
    "with open(root_dir/'kuto_wifi_dataset_v1/train_all.pkl', 'rb') as f:\n",
    "  train_df = pickle.load( f)\n",
    "\n",
    "with open(root_dir/'kuto_wifi_dataset_v1/test_all.pkl', 'rb') as f:\n",
    "  test_df = pickle.load(f)\n",
    "\n",
    "sub = pd.read_csv(root_dir/'indoor-location-navigation/sample_submission.csv', index_col=0)"
   ]
  },
  {
   "cell_type": "markdown",
   "metadata": {},
   "source": [
    "BSSIDとRSSIは100ずつ存在しているけど全てが必要なわけではないみたい  \n",
    "ここでは20だけ取り出している。"
   ]
  },
  {
   "cell_type": "code",
   "execution_count": 5,
   "metadata": {},
   "outputs": [],
   "source": [
    "# training target features\n",
    "NUM_FEATS = 20\n",
    "BSSID_FEATS = [f'bssid_{i}' for i in range(NUM_FEATS)]\n",
    "RSSI_FEATS  = [f'rssi_{i}' for i in range(NUM_FEATS)]"
   ]
  },
  {
   "cell_type": "code",
   "execution_count": 6,
   "metadata": {},
   "outputs": [
    {
     "output_type": "execute_result",
     "data": {
      "text/plain": [
       "        rssi_0  rssi_1  rssi_2  rssi_3  rssi_4  rssi_5  rssi_6  rssi_7  \\\n",
       "0          -44     -45     -47     -48     -50     -50     -51     -51   \n",
       "1          -40     -47     -48     -49     -50     -51     -51     -51   \n",
       "2          -43     -49     -49     -50     -51     -51     -51     -53   \n",
       "3          -43     -50     -51     -51     -52     -53     -53     -53   \n",
       "4          -46     -49     -50     -51     -52     -52     -54     -54   \n",
       "...        ...     ...     ...     ...     ...     ...     ...     ...   \n",
       "258120     -43     -49     -57     -58     -59     -59     -59     -61   \n",
       "258121     -43     -47     -57     -57     -58     -58     -59     -61   \n",
       "258122     -43     -55     -55     -57     -58     -59     -61     -61   \n",
       "258123     -44     -48     -50     -51     -58     -63     -63     -64   \n",
       "258124     -44     -49     -50     -53     -58     -60     -61     -63   \n",
       "\n",
       "        rssi_8  rssi_9  \n",
       "0          -54     -55  \n",
       "1          -53     -53  \n",
       "2          -53     -55  \n",
       "3          -53     -54  \n",
       "4          -54     -55  \n",
       "...        ...     ...  \n",
       "258120     -61     -64  \n",
       "258121     -62     -63  \n",
       "258122     -64     -64  \n",
       "258123     -64     -65  \n",
       "258124     -64     -65  \n",
       "\n",
       "[258125 rows x 10 columns]"
      ],
      "text/html": "<div>\n<style scoped>\n    .dataframe tbody tr th:only-of-type {\n        vertical-align: middle;\n    }\n\n    .dataframe tbody tr th {\n        vertical-align: top;\n    }\n\n    .dataframe thead th {\n        text-align: right;\n    }\n</style>\n<table border=\"1\" class=\"dataframe\">\n  <thead>\n    <tr style=\"text-align: right;\">\n      <th></th>\n      <th>rssi_0</th>\n      <th>rssi_1</th>\n      <th>rssi_2</th>\n      <th>rssi_3</th>\n      <th>rssi_4</th>\n      <th>rssi_5</th>\n      <th>rssi_6</th>\n      <th>rssi_7</th>\n      <th>rssi_8</th>\n      <th>rssi_9</th>\n    </tr>\n  </thead>\n  <tbody>\n    <tr>\n      <th>0</th>\n      <td>-44</td>\n      <td>-45</td>\n      <td>-47</td>\n      <td>-48</td>\n      <td>-50</td>\n      <td>-50</td>\n      <td>-51</td>\n      <td>-51</td>\n      <td>-54</td>\n      <td>-55</td>\n    </tr>\n    <tr>\n      <th>1</th>\n      <td>-40</td>\n      <td>-47</td>\n      <td>-48</td>\n      <td>-49</td>\n      <td>-50</td>\n      <td>-51</td>\n      <td>-51</td>\n      <td>-51</td>\n      <td>-53</td>\n      <td>-53</td>\n    </tr>\n    <tr>\n      <th>2</th>\n      <td>-43</td>\n      <td>-49</td>\n      <td>-49</td>\n      <td>-50</td>\n      <td>-51</td>\n      <td>-51</td>\n      <td>-51</td>\n      <td>-53</td>\n      <td>-53</td>\n      <td>-55</td>\n    </tr>\n    <tr>\n      <th>3</th>\n      <td>-43</td>\n      <td>-50</td>\n      <td>-51</td>\n      <td>-51</td>\n      <td>-52</td>\n      <td>-53</td>\n      <td>-53</td>\n      <td>-53</td>\n      <td>-53</td>\n      <td>-54</td>\n    </tr>\n    <tr>\n      <th>4</th>\n      <td>-46</td>\n      <td>-49</td>\n      <td>-50</td>\n      <td>-51</td>\n      <td>-52</td>\n      <td>-52</td>\n      <td>-54</td>\n      <td>-54</td>\n      <td>-54</td>\n      <td>-55</td>\n    </tr>\n    <tr>\n      <th>...</th>\n      <td>...</td>\n      <td>...</td>\n      <td>...</td>\n      <td>...</td>\n      <td>...</td>\n      <td>...</td>\n      <td>...</td>\n      <td>...</td>\n      <td>...</td>\n      <td>...</td>\n    </tr>\n    <tr>\n      <th>258120</th>\n      <td>-43</td>\n      <td>-49</td>\n      <td>-57</td>\n      <td>-58</td>\n      <td>-59</td>\n      <td>-59</td>\n      <td>-59</td>\n      <td>-61</td>\n      <td>-61</td>\n      <td>-64</td>\n    </tr>\n    <tr>\n      <th>258121</th>\n      <td>-43</td>\n      <td>-47</td>\n      <td>-57</td>\n      <td>-57</td>\n      <td>-58</td>\n      <td>-58</td>\n      <td>-59</td>\n      <td>-61</td>\n      <td>-62</td>\n      <td>-63</td>\n    </tr>\n    <tr>\n      <th>258122</th>\n      <td>-43</td>\n      <td>-55</td>\n      <td>-55</td>\n      <td>-57</td>\n      <td>-58</td>\n      <td>-59</td>\n      <td>-61</td>\n      <td>-61</td>\n      <td>-64</td>\n      <td>-64</td>\n    </tr>\n    <tr>\n      <th>258123</th>\n      <td>-44</td>\n      <td>-48</td>\n      <td>-50</td>\n      <td>-51</td>\n      <td>-58</td>\n      <td>-63</td>\n      <td>-63</td>\n      <td>-64</td>\n      <td>-64</td>\n      <td>-65</td>\n    </tr>\n    <tr>\n      <th>258124</th>\n      <td>-44</td>\n      <td>-49</td>\n      <td>-50</td>\n      <td>-53</td>\n      <td>-58</td>\n      <td>-60</td>\n      <td>-61</td>\n      <td>-63</td>\n      <td>-64</td>\n      <td>-65</td>\n    </tr>\n  </tbody>\n</table>\n<p>258125 rows × 10 columns</p>\n</div>"
     },
     "metadata": {},
     "execution_count": 6
    }
   ],
   "source": [
    "train_df.iloc[:, 100:110]"
   ]
  },
  {
   "cell_type": "markdown",
   "metadata": {},
   "source": [
    "bssid_NはN個目のBSSIDを示しておりRSSI値が大きい順に番号が振られている。\n",
    "100個しかない\n"
   ]
  },
  {
   "cell_type": "code",
   "execution_count": 7,
   "metadata": {},
   "outputs": [
    {
     "output_type": "stream",
     "name": "stdout",
     "text": [
      "BSSID TYPES(train): 41286\nBSSID TYPES(test): 28592\nBSSID TYPES(all): 41300\n"
     ]
    }
   ],
   "source": [
    "# get numbers of bssids to embed them in a layer\n",
    "\n",
    "# train\n",
    "wifi_bssids = []\n",
    "# bssidを列ごとにリストに入れていく\n",
    "for i in range(100):\n",
    "    wifi_bssids.extend(train_df.iloc[:,i].values.tolist())\n",
    "wifi_bssids = list(set(wifi_bssids))\n",
    "\n",
    "train_wifi_bssids_size = len(wifi_bssids)\n",
    "print(f'BSSID TYPES(train): {train_wifi_bssids_size}')\n",
    "\n",
    "# test\n",
    "wifi_bssids_test = []\n",
    "for i in range(100):\n",
    "    wifi_bssids_test.extend(test_df.iloc[:,i].values.tolist())\n",
    "wifi_bssids_test = list(set(wifi_bssids_test))\n",
    "\n",
    "test_wifi_bssids_size = len(wifi_bssids_test)\n",
    "print(f'BSSID TYPES(test): {test_wifi_bssids_size}')\n",
    "\n",
    "\n",
    "wifi_bssids.extend(wifi_bssids_test)\n",
    "wifi_bssids = list(set(wifi_bssids))\n",
    "wifi_bssids_size = len(wifi_bssids)\n",
    "print(f'BSSID TYPES(all): {wifi_bssids_size}')\n"
   ]
  },
  {
   "cell_type": "markdown",
   "metadata": {},
   "source": [
    "## preprocessing"
   ]
  },
  {
   "cell_type": "code",
   "execution_count": 8,
   "metadata": {},
   "outputs": [],
   "source": [
    "# preprocess\n",
    "\n",
    "le = LabelEncoder()\n",
    "le.fit(wifi_bssids)\n",
    "le_site = LabelEncoder()\n",
    "le_site.fit(train_df['site_id'])\n",
    "\n",
    "ss = StandardScaler()\n",
    "ss.fit(train_df.loc[:,RSSI_FEATS])\n",
    "\n",
    "\n",
    "def preprocess(input_df, le=le, le_site=le_site, ss=ss):\n",
    "    output_df = input_df.copy()\n",
    "    # RSSIの正規化\n",
    "    output_df.loc[:,RSSI_FEATS] = ss.transform(input_df.loc[:,RSSI_FEATS])\n",
    "\n",
    "    # BSSIDのLE(1からふる)\n",
    "    for i in BSSID_FEATS:\n",
    "        output_df.loc[:,i] = le.transform(input_df.loc[:,i])\n",
    "        output_df.loc[:,i] = output_df.loc[:,i] + 1  # 0からではなく1から番号を振りたいため なぜ？ embeddingのpadding用のダミー変数？\n",
    "\n",
    "    # site_idのLE\n",
    "    output_df.loc[:, 'site_id'] = le_site.transform(input_df.loc[:, 'site_id'])\n",
    "\n",
    "    # なぜ２重でやる？\n",
    "    # output_df.loc[:,RSSI_FEATS] = ss.transform(output_df.loc[:,RSSI_FEATS])\n",
    "    return output_df\n",
    "\n",
    "train = preprocess(train_df)\n",
    "test = preprocess(test_df)\n",
    "\n",
    "    "
   ]
  },
  {
   "cell_type": "code",
   "execution_count": 9,
   "metadata": {},
   "outputs": [
    {
     "output_type": "execute_result",
     "data": {
      "text/plain": [
       "24"
      ]
     },
     "metadata": {},
     "execution_count": 9
    }
   ],
   "source": [
    "site_count = len(train['site_id'].unique())\n",
    "site_count"
   ]
  },
  {
   "cell_type": "code",
   "execution_count": 10,
   "metadata": {},
   "outputs": [
    {
     "output_type": "execute_result",
     "data": {
      "text/plain": [
       "        bssid_0  bssid_1  bssid_2  bssid_3  bssid_4  bssid_5  bssid_6  \\\n",
       "0         41282    24559    14858     7722    10995    35956    20298   \n",
       "1         24559    14858    32865    41282    17447    20298    10471   \n",
       "2         24559    17447    32865    10995    10471    14618    20298   \n",
       "3         24559    10995    10471    14618    15177    11619     7722   \n",
       "4         24559    10995    14618    32865    17447    15177    14858   \n",
       "...         ...      ...      ...      ...      ...      ...      ...   \n",
       "258120    24764    19267     4143    26547    40636    32274     6222   \n",
       "258121    19267    24764     4143    40636    26547    21039    32274   \n",
       "258122    24764    19267    32274    40636    26547    21039    34595   \n",
       "258123    24764    32274    40636    19267    26547     1031    28497   \n",
       "258124    24764    32274    19267    40636    26547    21039     4143   \n",
       "\n",
       "        bssid_7  bssid_8  bssid_9  ...      timestamp          x          y  \\\n",
       "0         14618    11482    19560  ...  1571625311855  68.064926  241.94000   \n",
       "1         14618    35956    34956  ...  1571625311855  68.064926  241.94000   \n",
       "2         35956    14858     7722  ...  1571625320099  62.480465  241.71216   \n",
       "3         28393    35956    14858  ...  1571625320099  62.480465  241.71216   \n",
       "4         35956     7722    28393  ...  1571625320099  62.480465  241.71216   \n",
       "...         ...      ...      ...  ...            ...        ...        ...   \n",
       "258120    21039    34595     5614  ...  1573822164854  12.662716  100.47756   \n",
       "258121    34595    28497     6222  ...  1573822164854  12.662716  100.47756   \n",
       "258122     4009     5614     9857  ...  1573822173051   7.799886  107.13921   \n",
       "258123     9857     4143    33237  ...  1573822173051   7.799886  107.13921   \n",
       "258124     1031     9857     7595  ...  1573822173051   7.799886  107.13921   \n",
       "\n",
       "        floor  floor_str                      path  time_diff     wifi_x  \\\n",
       "0           0         F1  5dad1ca1dc3e2c0006606c3f       1952  67.055846   \n",
       "1           0         F1  5dad1ca1dc3e2c0006606c3f       3900  63.620046   \n",
       "2           0         F1  5dad1ca1dc3e2c0006606c3f      -2385  60.991024   \n",
       "3           0         F1  5dad1ca1dc3e2c0006606c3f       -427  57.878099   \n",
       "4           0         F1  5dad1ca1dc3e2c0006606c3f       1528  61.960799   \n",
       "...       ...        ...                       ...        ...        ...   \n",
       "258120      1         F2  5dce9eea5516ad00065f04a7        447  12.053943   \n",
       "258121      1         F2  5dce9eea5516ad00065f04a7       2393  10.895453   \n",
       "258122      1         F2  5dce9eea5516ad00065f04a7      -3876   9.138750   \n",
       "258123      1         F2  5dce9eea5516ad00065f04a7      -1946   6.932391   \n",
       "258124      1         F2  5dce9eea5516ad00065f04a7        -17   5.511971   \n",
       "\n",
       "            wifi_y  site_id  \n",
       "0       242.235341       21  \n",
       "1       243.155369       21  \n",
       "2       243.776220       21  \n",
       "3       244.157859       21  \n",
       "4       241.710554       21  \n",
       "...            ...      ...  \n",
       "258120  100.515005        5  \n",
       "258121  101.396328        5  \n",
       "258122  103.340829        5  \n",
       "258123  105.053928        5  \n",
       "258124  106.255858        5  \n",
       "\n",
       "[258125 rows x 210 columns]"
      ],
      "text/html": "<div>\n<style scoped>\n    .dataframe tbody tr th:only-of-type {\n        vertical-align: middle;\n    }\n\n    .dataframe tbody tr th {\n        vertical-align: top;\n    }\n\n    .dataframe thead th {\n        text-align: right;\n    }\n</style>\n<table border=\"1\" class=\"dataframe\">\n  <thead>\n    <tr style=\"text-align: right;\">\n      <th></th>\n      <th>bssid_0</th>\n      <th>bssid_1</th>\n      <th>bssid_2</th>\n      <th>bssid_3</th>\n      <th>bssid_4</th>\n      <th>bssid_5</th>\n      <th>bssid_6</th>\n      <th>bssid_7</th>\n      <th>bssid_8</th>\n      <th>bssid_9</th>\n      <th>...</th>\n      <th>timestamp</th>\n      <th>x</th>\n      <th>y</th>\n      <th>floor</th>\n      <th>floor_str</th>\n      <th>path</th>\n      <th>time_diff</th>\n      <th>wifi_x</th>\n      <th>wifi_y</th>\n      <th>site_id</th>\n    </tr>\n  </thead>\n  <tbody>\n    <tr>\n      <th>0</th>\n      <td>41282</td>\n      <td>24559</td>\n      <td>14858</td>\n      <td>7722</td>\n      <td>10995</td>\n      <td>35956</td>\n      <td>20298</td>\n      <td>14618</td>\n      <td>11482</td>\n      <td>19560</td>\n      <td>...</td>\n      <td>1571625311855</td>\n      <td>68.064926</td>\n      <td>241.94000</td>\n      <td>0</td>\n      <td>F1</td>\n      <td>5dad1ca1dc3e2c0006606c3f</td>\n      <td>1952</td>\n      <td>67.055846</td>\n      <td>242.235341</td>\n      <td>21</td>\n    </tr>\n    <tr>\n      <th>1</th>\n      <td>24559</td>\n      <td>14858</td>\n      <td>32865</td>\n      <td>41282</td>\n      <td>17447</td>\n      <td>20298</td>\n      <td>10471</td>\n      <td>14618</td>\n      <td>35956</td>\n      <td>34956</td>\n      <td>...</td>\n      <td>1571625311855</td>\n      <td>68.064926</td>\n      <td>241.94000</td>\n      <td>0</td>\n      <td>F1</td>\n      <td>5dad1ca1dc3e2c0006606c3f</td>\n      <td>3900</td>\n      <td>63.620046</td>\n      <td>243.155369</td>\n      <td>21</td>\n    </tr>\n    <tr>\n      <th>2</th>\n      <td>24559</td>\n      <td>17447</td>\n      <td>32865</td>\n      <td>10995</td>\n      <td>10471</td>\n      <td>14618</td>\n      <td>20298</td>\n      <td>35956</td>\n      <td>14858</td>\n      <td>7722</td>\n      <td>...</td>\n      <td>1571625320099</td>\n      <td>62.480465</td>\n      <td>241.71216</td>\n      <td>0</td>\n      <td>F1</td>\n      <td>5dad1ca1dc3e2c0006606c3f</td>\n      <td>-2385</td>\n      <td>60.991024</td>\n      <td>243.776220</td>\n      <td>21</td>\n    </tr>\n    <tr>\n      <th>3</th>\n      <td>24559</td>\n      <td>10995</td>\n      <td>10471</td>\n      <td>14618</td>\n      <td>15177</td>\n      <td>11619</td>\n      <td>7722</td>\n      <td>28393</td>\n      <td>35956</td>\n      <td>14858</td>\n      <td>...</td>\n      <td>1571625320099</td>\n      <td>62.480465</td>\n      <td>241.71216</td>\n      <td>0</td>\n      <td>F1</td>\n      <td>5dad1ca1dc3e2c0006606c3f</td>\n      <td>-427</td>\n      <td>57.878099</td>\n      <td>244.157859</td>\n      <td>21</td>\n    </tr>\n    <tr>\n      <th>4</th>\n      <td>24559</td>\n      <td>10995</td>\n      <td>14618</td>\n      <td>32865</td>\n      <td>17447</td>\n      <td>15177</td>\n      <td>14858</td>\n      <td>35956</td>\n      <td>7722</td>\n      <td>28393</td>\n      <td>...</td>\n      <td>1571625320099</td>\n      <td>62.480465</td>\n      <td>241.71216</td>\n      <td>0</td>\n      <td>F1</td>\n      <td>5dad1ca1dc3e2c0006606c3f</td>\n      <td>1528</td>\n      <td>61.960799</td>\n      <td>241.710554</td>\n      <td>21</td>\n    </tr>\n    <tr>\n      <th>...</th>\n      <td>...</td>\n      <td>...</td>\n      <td>...</td>\n      <td>...</td>\n      <td>...</td>\n      <td>...</td>\n      <td>...</td>\n      <td>...</td>\n      <td>...</td>\n      <td>...</td>\n      <td>...</td>\n      <td>...</td>\n      <td>...</td>\n      <td>...</td>\n      <td>...</td>\n      <td>...</td>\n      <td>...</td>\n      <td>...</td>\n      <td>...</td>\n      <td>...</td>\n      <td>...</td>\n    </tr>\n    <tr>\n      <th>258120</th>\n      <td>24764</td>\n      <td>19267</td>\n      <td>4143</td>\n      <td>26547</td>\n      <td>40636</td>\n      <td>32274</td>\n      <td>6222</td>\n      <td>21039</td>\n      <td>34595</td>\n      <td>5614</td>\n      <td>...</td>\n      <td>1573822164854</td>\n      <td>12.662716</td>\n      <td>100.47756</td>\n      <td>1</td>\n      <td>F2</td>\n      <td>5dce9eea5516ad00065f04a7</td>\n      <td>447</td>\n      <td>12.053943</td>\n      <td>100.515005</td>\n      <td>5</td>\n    </tr>\n    <tr>\n      <th>258121</th>\n      <td>19267</td>\n      <td>24764</td>\n      <td>4143</td>\n      <td>40636</td>\n      <td>26547</td>\n      <td>21039</td>\n      <td>32274</td>\n      <td>34595</td>\n      <td>28497</td>\n      <td>6222</td>\n      <td>...</td>\n      <td>1573822164854</td>\n      <td>12.662716</td>\n      <td>100.47756</td>\n      <td>1</td>\n      <td>F2</td>\n      <td>5dce9eea5516ad00065f04a7</td>\n      <td>2393</td>\n      <td>10.895453</td>\n      <td>101.396328</td>\n      <td>5</td>\n    </tr>\n    <tr>\n      <th>258122</th>\n      <td>24764</td>\n      <td>19267</td>\n      <td>32274</td>\n      <td>40636</td>\n      <td>26547</td>\n      <td>21039</td>\n      <td>34595</td>\n      <td>4009</td>\n      <td>5614</td>\n      <td>9857</td>\n      <td>...</td>\n      <td>1573822173051</td>\n      <td>7.799886</td>\n      <td>107.13921</td>\n      <td>1</td>\n      <td>F2</td>\n      <td>5dce9eea5516ad00065f04a7</td>\n      <td>-3876</td>\n      <td>9.138750</td>\n      <td>103.340829</td>\n      <td>5</td>\n    </tr>\n    <tr>\n      <th>258123</th>\n      <td>24764</td>\n      <td>32274</td>\n      <td>40636</td>\n      <td>19267</td>\n      <td>26547</td>\n      <td>1031</td>\n      <td>28497</td>\n      <td>9857</td>\n      <td>4143</td>\n      <td>33237</td>\n      <td>...</td>\n      <td>1573822173051</td>\n      <td>7.799886</td>\n      <td>107.13921</td>\n      <td>1</td>\n      <td>F2</td>\n      <td>5dce9eea5516ad00065f04a7</td>\n      <td>-1946</td>\n      <td>6.932391</td>\n      <td>105.053928</td>\n      <td>5</td>\n    </tr>\n    <tr>\n      <th>258124</th>\n      <td>24764</td>\n      <td>32274</td>\n      <td>19267</td>\n      <td>40636</td>\n      <td>26547</td>\n      <td>21039</td>\n      <td>4143</td>\n      <td>1031</td>\n      <td>9857</td>\n      <td>7595</td>\n      <td>...</td>\n      <td>1573822173051</td>\n      <td>7.799886</td>\n      <td>107.13921</td>\n      <td>1</td>\n      <td>F2</td>\n      <td>5dce9eea5516ad00065f04a7</td>\n      <td>-17</td>\n      <td>5.511971</td>\n      <td>106.255858</td>\n      <td>5</td>\n    </tr>\n  </tbody>\n</table>\n<p>258125 rows × 210 columns</p>\n</div>"
     },
     "metadata": {},
     "execution_count": 10
    }
   ],
   "source": [
    "train"
   ]
  },
  {
   "cell_type": "markdown",
   "metadata": {},
   "source": [
    "## PyTorch model\n",
    "- embedding layerが重要  "
   ]
  },
  {
   "cell_type": "code",
   "execution_count": 11,
   "metadata": {},
   "outputs": [],
   "source": [
    "# dataset\n",
    "from torch.utils.data import Dataset, DataLoader\n",
    "class IndoorDataset(Dataset):\n",
    "    def __init__(self, df, phase='train'):\n",
    "        self.df = df\n",
    "        self.phase = phase\n",
    "        self.bssid_feats = df[BSSID_FEATS].values.astype(int)\n",
    "        self.rssi_feats = df[RSSI_FEATS].values.astype(np.float32)\n",
    "        self.site_id = df['site_id'].values.astype(int)\n",
    "\n",
    "        if phase in ['train', 'valid']:\n",
    "            # self.xy = df[['x', 'y']].values.astype(np.float32)\n",
    "            self.xy = df[['wifi_x', 'wifi_y']].values.astype(np.float32)  # wifiにより補正したx,yを使用\n",
    "            self.floor = df['floor'].values.astype(np.float32)\n",
    "        \n",
    "    def __len__(self):\n",
    "        return self.df.shape[0]\n",
    "\n",
    "    def __getitem__(self, idx):\n",
    "        \n",
    "        feature = {\n",
    "            'BSSID_FEATS':self.bssid_feats[idx],\n",
    "            'RSSI_FEATS':self.rssi_feats[idx],\n",
    "            'site_id':self.site_id[idx]\n",
    "        }\n",
    "        if self.phase in ['train', 'valid']:\n",
    "            target = {\n",
    "                'xy':self.xy[idx],\n",
    "                'floor':self.floor[idx]\n",
    "            }\n",
    "        else:\n",
    "            target = {}\n",
    "        return feature, target"
   ]
  },
  {
   "cell_type": "code",
   "execution_count": 12,
   "metadata": {},
   "outputs": [],
   "source": [
    "import torch\n",
    "from torch import nn\n",
    "\n",
    "class LSTMModel(nn.Module):\n",
    "    def __init__(self, wifi_bssids_size, site_count=24, embedding_dim=64):\n",
    "        super(LSTMModel, self).__init__()\n",
    "        # bssid\n",
    "        # ->64次元に圧縮後sequence化にする\n",
    "        # wifi_bssids_sizeが辞書の数を表す\n",
    "        self.embedding_layer1 = nn.Sequential(\n",
    "            nn.Embedding(wifi_bssids_size, embedding_dim),\n",
    "            nn.Flatten(start_dim=-2)            \n",
    "        )\n",
    "        # site\n",
    "        # ->2次元に圧縮後sequence化する\n",
    "        # site_countが辞書の数を表す\n",
    "        self.embedding_layer2 = nn.Sequential(\n",
    "            nn.Embedding(site_count, 2),\n",
    "            nn.Flatten(start_dim=-1)           \n",
    "        )\n",
    "\n",
    "        # rssi\n",
    "        # 次元を64倍に線形変換\n",
    "        self.linear_layer1 = nn.Sequential(\n",
    "            nn.BatchNorm1d(NUM_FEATS),\n",
    "            nn.Linear(NUM_FEATS, NUM_FEATS * embedding_dim),\n",
    "            nn.ReLU()\n",
    "        )\n",
    "        \n",
    "        self.linear_layer2 = nn.Sequential(\n",
    "            nn.BatchNorm1d(2562),\n",
    "            nn.Dropout(0.3),\n",
    "            nn.Linear(2562, 256),\n",
    "            nn.ReLU()\n",
    "        )\n",
    "\n",
    "        self.batch_norm1 = nn.BatchNorm1d(1)\n",
    "        self.lstm1 = nn.LSTM(input_size=256,hidden_size=128,dropout=0.3, batch_first=True)\n",
    "        self.lstm2 = nn.LSTM(input_size=128,hidden_size=16,dropout=0.1, batch_first=True)\n",
    "\n",
    "        self.fc_xy = nn.Linear(16, 2)\n",
    "        # self.fc_x = nn.Linear(16, 1)\n",
    "        # self.fc_y = nn.Linear(16, 1)\n",
    "        self.fc_floor = nn.Linear(16, 1)\n",
    "\n",
    "    \n",
    "    def forward(self, x):\n",
    "        # input embedding\n",
    "        batch_size = x[\"site_id\"].shape[0]\n",
    "        x_bssid = self.embedding_layer1(x['BSSID_FEATS'])\n",
    "        x_site_id = self.embedding_layer2(x['site_id'])\n",
    "        x_rssi = self.linear_layer1(x['RSSI_FEATS'])\n",
    "        x = torch.cat([x_bssid, x_site_id, x_rssi], dim=-1)\n",
    "        x = self.linear_layer2(x)\n",
    "\n",
    "        # lstm layer\n",
    "        x = x.view(batch_size, 1, -1)  # [batch, 1]->[batch, 1, 1]\n",
    "        x = self.batch_norm1(x)\n",
    "        x, _ = self.lstm1(x)\n",
    "        x = torch.relu(x)\n",
    "        x, _ = self.lstm2(x)\n",
    "        x = torch.relu(x)\n",
    "\n",
    "        # output [batch, 1, 1] -> [batch]\n",
    "        # x_ = self.fc_x(x).view(-1)\n",
    "        # y_ = self.fc_y(x).view(-1)\n",
    "        xy = self.fc_xy(x).squeeze(1)\n",
    "        floor = torch.relu(self.fc_floor(x)).view(-1)\n",
    "        # return {\"x\":x_, \"y\":y_, \"floor\":floor} \n",
    "        return {\"xy\": xy, \"floor\": floor}"
   ]
  },
  {
   "cell_type": "code",
   "execution_count": 13,
   "metadata": {},
   "outputs": [],
   "source": [
    "def mean_position_error(xhat, yhat, fhat, x, y, f):\n",
    "    intermediate = np.sqrt(np.power(xhat-x, 2) + np.power(yhat-y, 2)) + 15 * np.abs(fhat-f)\n",
    "    return intermediate.sum()/xhat.shape[0]\n",
    "\n",
    "def to_np(input):\n",
    "    return input.detach().cpu().numpy()"
   ]
  },
  {
   "cell_type": "code",
   "execution_count": 14,
   "metadata": {},
   "outputs": [],
   "source": [
    "def get_optimizer(model: nn.Module, config: dict):\n",
    "    optimizer_config = config[\"optimizer\"]\n",
    "    optimizer_name = optimizer_config.get(\"name\")\n",
    "    base_optimizer_name = optimizer_config.get(\"base_name\")\n",
    "    optimizer_params = optimizer_config['params']\n",
    "\n",
    "    if hasattr(optim, optimizer_name):\n",
    "        optimizer = optim.__getattribute__(optimizer_name)(model.parameters(), **optimizer_params)\n",
    "        return optimizer\n",
    "    else:\n",
    "        base_optimizer = optim.__getattribute__(base_optimizer_name)\n",
    "        optimizer = globals().get(optimizer_name)(\n",
    "            model.parameters(), \n",
    "            base_optimizer,\n",
    "            **optimizer_config[\"params\"])\n",
    "        return  optimizer\n",
    "\n",
    "def get_scheduler(optimizer, config: dict):\n",
    "    scheduler_config = config[\"scheduler\"]\n",
    "    scheduler_name = scheduler_config.get(\"name\")\n",
    "\n",
    "    if scheduler_name is None:\n",
    "        return\n",
    "    else:\n",
    "        return optim.lr_scheduler.__getattribute__(scheduler_name)(\n",
    "            optimizer, **scheduler_config[\"params\"])\n",
    "\n",
    "\n",
    "def get_criterion(config: dict):\n",
    "    loss_config = config[\"loss\"]\n",
    "    loss_name = loss_config[\"name\"]\n",
    "    loss_params = {} if loss_config.get(\"params\") is None else loss_config.get(\"params\")\n",
    "    if hasattr(nn, loss_name):\n",
    "        criterion = nn.__getattribute__(loss_name)(**loss_params)\n",
    "    else:\n",
    "        criterion = globals().get(loss_name)(**loss_params)\n",
    "\n",
    "    return criterion\n",
    "\n",
    "def worker_init_fn(worker_id):                                                          \n",
    "    np.random.seed(np.random.get_state()[1][0] + worker_id)"
   ]
  },
  {
   "cell_type": "code",
   "execution_count": 15,
   "metadata": {},
   "outputs": [],
   "source": [
    "# Learner class(pytorch-lighting)\n",
    "class Learner(pl.LightningModule):\n",
    "    def __init__(self, model, config):\n",
    "        super().__init__()\n",
    "        self.model = model\n",
    "        self.config = config\n",
    "        self.xy_criterion = get_criterion(config)\n",
    "        self.f_criterion = get_criterion(config)\n",
    "    \n",
    "    def training_step(self, batch, batch_idx):\n",
    "        x, y = batch\n",
    "        output = self.model(x)\n",
    "        loss = self.xy_criterion(output[\"xy\"], y[\"xy\"])\n",
    "        return loss\n",
    "    \n",
    "    def validation_step(self, batch, batch_idx):\n",
    "        x, y = batch\n",
    "        output = self.model(x)\n",
    "        xy_loss = self.xy_criterion(output[\"xy\"], y[\"xy\"])\n",
    "        f_loss = self.f_criterion(output[\"floor\"], y[\"floor\"])\n",
    "        loss = xy_loss  # + f_loss\n",
    "        mpe = mean_position_error(\n",
    "            to_np(output['xy'][:, 0]), to_np(output['xy'][:, 1]), 0, \n",
    "            to_np(y['xy'][:, 0]), to_np(y['xy'][:, 1]), 0)\n",
    "        \n",
    "        # floor lossは現状は無視して良い\n",
    "        self.log(f'Loss/val', loss, on_step=False, on_epoch=True, prog_bar=False, logger=True)\n",
    "        self.log(f'Loss/xy', xy_loss, on_step=False, on_epoch=True, prog_bar=False, logger=True)\n",
    "        self.log(f'Loss/floor', f_loss, on_step=False, on_epoch=True, prog_bar=False, logger=True)\n",
    "        self.log(f'MPE/val', mpe, on_step=False, on_epoch=True, prog_bar=False, logger=True)\n",
    "        return loss\n",
    "\n",
    "    def configure_optimizers(self):\n",
    "        optimizer = get_optimizer(self.model, self.config)\n",
    "        scheduler = get_scheduler(optimizer, self.config)\n",
    "        return {\"optimizer\": optimizer, \"lr_scheduler\": scheduler, \"monitor\": \"Loss/val\"}"
   ]
  },
  {
   "cell_type": "code",
   "execution_count": 16,
   "metadata": {},
   "outputs": [],
   "source": [
    "# oof\n",
    "def evaluate(model, loaders, phase):\n",
    "    x_list = []\n",
    "    y_list = []\n",
    "    f_list = []\n",
    "    with torch.no_grad():\n",
    "        for batch in loaders[phase]:\n",
    "            x, y = batch\n",
    "            output = model(x)\n",
    "            x_list.append(to_np(output['xy'][:, 0]))\n",
    "            y_list.append(to_np(output['xy'][:, 1]))\n",
    "            f_list.append(to_np(output['floor']))\n",
    "\n",
    "    x_list = np.concatenate(x_list)\n",
    "    y_list = np.concatenate(y_list)\n",
    "    f_list = np.concatenate(f_list)\n",
    "    return x_list, y_list, f_list"
   ]
  },
  {
   "cell_type": "markdown",
   "metadata": {},
   "source": [
    "## train"
   ]
  },
  {
   "cell_type": "code",
   "execution_count": 17,
   "metadata": {
    "tags": []
   },
   "outputs": [
    {
     "output_type": "stream",
     "name": "stderr",
     "text": [
      "/opt/anaconda3/lib/python3.8/site-packages/torch/nn/modules/rnn.py:58: UserWarning: dropout option adds dropout after all but last recurrent layer, so non-zero dropout expects num_layers greater than 1, but got dropout=0.3 and num_layers=1\n",
      "  warnings.warn(\"dropout option adds dropout after all but last \"\n",
      "/opt/anaconda3/lib/python3.8/site-packages/torch/nn/modules/rnn.py:58: UserWarning: dropout option adds dropout after all but last recurrent layer, so non-zero dropout expects num_layers greater than 1, but got dropout=0.1 and num_layers=1\n",
      "  warnings.warn(\"dropout option adds dropout after all but last \"\n",
      "Failed to detect the name of this notebook, you can set it manually with the WANDB_NOTEBOOK_NAME environment variable to enable code saving.\n",
      "====================\n",
      "Fold 0\n",
      "====================\n",
      "\u001b[34m\u001b[1mwandb\u001b[0m: Currently logged in as: \u001b[33mkuto5046\u001b[0m (use `wandb login --relogin` to force relogin)\n",
      "\u001b[34m\u001b[1mwandb\u001b[0m: wandb version 0.10.23 is available!  To upgrade, please run:\n",
      "\u001b[34m\u001b[1mwandb\u001b[0m:  $ pip install wandb --upgrade\n"
     ]
    },
    {
     "output_type": "display_data",
     "data": {
      "text/plain": "<IPython.core.display.HTML object>",
      "text/html": "\n                Tracking run with wandb version 0.10.22<br/>\n                Syncing run <strong style=\"color:#cdcd00\">cosmic-moon-124</strong> to <a href=\"https://wandb.ai\" target=\"_blank\">Weights & Biases</a> <a href=\"https://docs.wandb.com/integrations/jupyter.html\" target=\"_blank\">(Documentation)</a>.<br/>\n                Project page: <a href=\"https://wandb.ai/kuto5046/indoor\" target=\"_blank\">https://wandb.ai/kuto5046/indoor</a><br/>\n                Run page: <a href=\"https://wandb.ai/kuto5046/indoor/runs/1bivqin7\" target=\"_blank\">https://wandb.ai/kuto5046/indoor/runs/1bivqin7</a><br/>\n                Run data is saved locally in <code>/home/kuzira/work/exp/exp004/wandb/run-20210328_175403-1bivqin7</code><br/><br/>\n            "
     },
     "metadata": {}
    },
    {
     "output_type": "stream",
     "name": "stderr",
     "text": [
      "GPU available: True, used: True\n",
      "TPU available: None, using: 0 TPU cores\n",
      "Using native 16bit precision.\n",
      "\n",
      "  | Name         | Type      | Params\n",
      "-------------------------------------------\n",
      "0 | model        | LSTMModel | 3.5 M \n",
      "1 | xy_criterion | MSELoss   | 0     \n",
      "2 | f_criterion  | MSELoss   | 0     \n",
      "-------------------------------------------\n",
      "3.5 M     Trainable params\n",
      "0         Non-trainable params\n",
      "3.5 M     Total params\n",
      "14.154    Total estimated model params size (MB)\n",
      "fold 0: mean position error 8.515805785341723\n",
      "====================\n",
      "Fold 1\n",
      "====================\n"
     ]
    },
    {
     "output_type": "display_data",
     "data": {
      "text/plain": "<IPython.core.display.HTML object>",
      "text/html": "Finishing last run (ID:1bivqin7) before initializing another..."
     },
     "metadata": {}
    },
    {
     "output_type": "display_data",
     "data": {
      "text/plain": "<IPython.core.display.HTML object>",
      "text/html": "<br/>Waiting for W&B process to finish, PID 2705725<br/>Program ended successfully."
     },
     "metadata": {}
    },
    {
     "output_type": "display_data",
     "data": {
      "text/plain": "VBox(children=(Label(value=' 0.00MB of 0.00MB uploaded (0.00MB deduped)\\r'), FloatProgress(value=1.0, max=1.0)…",
      "application/vnd.jupyter.widget-view+json": {
       "version_major": 2,
       "version_minor": 0,
       "model_id": "836b1640244447de811146e1a96679fa"
      }
     },
     "metadata": {}
    },
    {
     "output_type": "display_data",
     "data": {
      "text/plain": "<IPython.core.display.HTML object>",
      "text/html": "Find user logs for this run at: <code>/home/kuzira/work/exp/exp004/wandb/run-20210328_175403-1bivqin7/logs/debug.log</code>"
     },
     "metadata": {}
    },
    {
     "output_type": "display_data",
     "data": {
      "text/plain": "<IPython.core.display.HTML object>",
      "text/html": "Find internal logs for this run at: <code>/home/kuzira/work/exp/exp004/wandb/run-20210328_175403-1bivqin7/logs/debug-internal.log</code>"
     },
     "metadata": {}
    },
    {
     "output_type": "display_data",
     "data": {
      "text/plain": "<IPython.core.display.HTML object>",
      "text/html": "<h3>Run summary:</h3><br/><style>\n    table.wandb td:nth-child(1) { padding: 0 10px; text-align: right }\n    </style><table class=\"wandb\">\n<tr><td>Loss/val</td><td>63.54339</td></tr><tr><td>Loss/xy</td><td>63.54339</td></tr><tr><td>Loss/floor</td><td>4.39559</td></tr><tr><td>MPE/val</td><td>8.51553</td></tr><tr><td>epoch</td><td>199</td></tr><tr><td>trainer/global_step</td><td>80799</td></tr><tr><td>_runtime</td><td>798</td></tr><tr><td>_timestamp</td><td>1616922441</td></tr><tr><td>_step</td><td>199</td></tr></table>"
     },
     "metadata": {}
    },
    {
     "output_type": "display_data",
     "data": {
      "text/plain": "<IPython.core.display.HTML object>",
      "text/html": "<h3>Run history:</h3><br/><style>\n    table.wandb td:nth-child(1) { padding: 0 10px; text-align: right }\n    </style><table class=\"wandb\">\n<tr><td>Loss/val</td><td>█▇▆▆▅▄▄▃▃▂▂▂▂▂▁▁▁▁▁▁▁▁▁▁▁▁▁▁▁▁▁▁▁▁▁▁▁▁▁▁</td></tr><tr><td>Loss/xy</td><td>█▇▆▆▅▄▄▃▃▂▂▂▂▂▁▁▁▁▁▁▁▁▁▁▁▁▁▁▁▁▁▁▁▁▁▁▁▁▁▁</td></tr><tr><td>Loss/floor</td><td>▇▇▇▇▇▇▆▂▁▂▃▄▆▇▇▇▇██▇▇▇▇▇▇▇▇▇▇▇▇▇▇▇▇▇▇▇▇▇</td></tr><tr><td>MPE/val</td><td>█▇▇▆▆▅▅▄▄▄▃▃▃▂▂▂▂▁▁▁▁▁▁▁▁▁▁▁▁▁▁▁▁▁▁▁▁▁▁▁</td></tr><tr><td>epoch</td><td>▁▁▁▁▂▂▂▂▂▃▃▃▃▃▃▄▄▄▄▄▅▅▅▅▅▅▆▆▆▆▆▇▇▇▇▇▇███</td></tr><tr><td>trainer/global_step</td><td>▁▁▁▁▂▂▂▂▂▃▃▃▃▃▃▄▄▄▄▄▅▅▅▅▅▅▆▆▆▆▆▇▇▇▇▇▇███</td></tr><tr><td>_runtime</td><td>▁▁▁▁▂▂▂▂▂▃▃▃▃▃▃▄▄▄▄▄▅▅▅▅▅▅▆▆▆▆▆▆▇▇▇▇▇███</td></tr><tr><td>_timestamp</td><td>▁▁▁▁▂▂▂▂▂▃▃▃▃▃▃▄▄▄▄▄▅▅▅▅▅▅▆▆▆▆▆▆▇▇▇▇▇███</td></tr><tr><td>_step</td><td>▁▁▁▁▂▂▂▂▂▃▃▃▃▃▃▄▄▄▄▄▅▅▅▅▅▅▆▆▆▆▆▇▇▇▇▇▇███</td></tr></table><br/>"
     },
     "metadata": {}
    },
    {
     "output_type": "display_data",
     "data": {
      "text/plain": "<IPython.core.display.HTML object>",
      "text/html": "Synced 5 W&B file(s), 1 media file(s), 0 artifact file(s) and 0 other file(s)"
     },
     "metadata": {}
    },
    {
     "output_type": "display_data",
     "data": {
      "text/plain": "<IPython.core.display.HTML object>",
      "text/html": "\n                    <br/>Synced <strong style=\"color:#cdcd00\">cosmic-moon-124</strong>: <a href=\"https://wandb.ai/kuto5046/indoor/runs/1bivqin7\" target=\"_blank\">https://wandb.ai/kuto5046/indoor/runs/1bivqin7</a><br/>\n                "
     },
     "metadata": {}
    },
    {
     "output_type": "display_data",
     "data": {
      "text/plain": "<IPython.core.display.HTML object>",
      "text/html": "...Successfully finished last run (ID:1bivqin7). Initializing new run:<br/><br/>"
     },
     "metadata": {}
    },
    {
     "output_type": "stream",
     "name": "stderr",
     "text": [
      "\u001b[34m\u001b[1mwandb\u001b[0m: wandb version 0.10.23 is available!  To upgrade, please run:\n\u001b[34m\u001b[1mwandb\u001b[0m:  $ pip install wandb --upgrade\n"
     ]
    },
    {
     "output_type": "display_data",
     "data": {
      "text/plain": "<IPython.core.display.HTML object>",
      "text/html": "\n                Tracking run with wandb version 0.10.22<br/>\n                Syncing run <strong style=\"color:#cdcd00\">vocal-frog-125</strong> to <a href=\"https://wandb.ai\" target=\"_blank\">Weights & Biases</a> <a href=\"https://docs.wandb.com/integrations/jupyter.html\" target=\"_blank\">(Documentation)</a>.<br/>\n                Project page: <a href=\"https://wandb.ai/kuto5046/indoor\" target=\"_blank\">https://wandb.ai/kuto5046/indoor</a><br/>\n                Run page: <a href=\"https://wandb.ai/kuto5046/indoor/runs/2rjc7fwr\" target=\"_blank\">https://wandb.ai/kuto5046/indoor/runs/2rjc7fwr</a><br/>\n                Run data is saved locally in <code>/home/kuzira/work/exp/exp004/wandb/run-20210328_180723-2rjc7fwr</code><br/><br/>\n            "
     },
     "metadata": {}
    },
    {
     "output_type": "stream",
     "name": "stderr",
     "text": [
      "GPU available: True, used: True\n",
      "TPU available: None, using: 0 TPU cores\n",
      "Using native 16bit precision.\n",
      "\n",
      "  | Name         | Type      | Params\n",
      "-------------------------------------------\n",
      "0 | model        | LSTMModel | 3.5 M \n",
      "1 | xy_criterion | MSELoss   | 0     \n",
      "2 | f_criterion  | MSELoss   | 0     \n",
      "-------------------------------------------\n",
      "3.5 M     Trainable params\n",
      "0         Non-trainable params\n",
      "3.5 M     Total params\n",
      "14.154    Total estimated model params size (MB)\n",
      "fold 1: mean position error 8.655037569736365\n",
      "====================\n",
      "Fold 2\n",
      "====================\n"
     ]
    },
    {
     "output_type": "display_data",
     "data": {
      "text/plain": "<IPython.core.display.HTML object>",
      "text/html": "Finishing last run (ID:2rjc7fwr) before initializing another..."
     },
     "metadata": {}
    },
    {
     "output_type": "display_data",
     "data": {
      "text/plain": "<IPython.core.display.HTML object>",
      "text/html": "<br/>Waiting for W&B process to finish, PID 2718007<br/>Program ended successfully."
     },
     "metadata": {}
    },
    {
     "output_type": "display_data",
     "data": {
      "text/plain": "VBox(children=(Label(value=' 0.00MB of 0.00MB uploaded (0.00MB deduped)\\r'), FloatProgress(value=1.0, max=1.0)…",
      "application/vnd.jupyter.widget-view+json": {
       "version_major": 2,
       "version_minor": 0,
       "model_id": "3ef6d2f3fa6b44ccb10a84c170a839c6"
      }
     },
     "metadata": {}
    },
    {
     "output_type": "display_data",
     "data": {
      "text/plain": "<IPython.core.display.HTML object>",
      "text/html": "Find user logs for this run at: <code>/home/kuzira/work/exp/exp004/wandb/run-20210328_180723-2rjc7fwr/logs/debug.log</code>"
     },
     "metadata": {}
    },
    {
     "output_type": "display_data",
     "data": {
      "text/plain": "<IPython.core.display.HTML object>",
      "text/html": "Find internal logs for this run at: <code>/home/kuzira/work/exp/exp004/wandb/run-20210328_180723-2rjc7fwr/logs/debug-internal.log</code>"
     },
     "metadata": {}
    },
    {
     "output_type": "display_data",
     "data": {
      "text/plain": "<IPython.core.display.HTML object>",
      "text/html": "<h3>Run summary:</h3><br/><style>\n    table.wandb td:nth-child(1) { padding: 0 10px; text-align: right }\n    </style><table class=\"wandb\">\n<tr><td>Loss/val</td><td>70.17773</td></tr><tr><td>Loss/xy</td><td>70.17773</td></tr><tr><td>Loss/floor</td><td>5.20291</td></tr><tr><td>MPE/val</td><td>8.65462</td></tr><tr><td>epoch</td><td>199</td></tr><tr><td>trainer/global_step</td><td>80799</td></tr><tr><td>_runtime</td><td>813</td></tr><tr><td>_timestamp</td><td>1616923259</td></tr><tr><td>_step</td><td>199</td></tr></table>"
     },
     "metadata": {}
    },
    {
     "output_type": "display_data",
     "data": {
      "text/plain": "<IPython.core.display.HTML object>",
      "text/html": "<h3>Run history:</h3><br/><style>\n    table.wandb td:nth-child(1) { padding: 0 10px; text-align: right }\n    </style><table class=\"wandb\">\n<tr><td>Loss/val</td><td>█▇▅▅▄▃▃▂▂▂▂▂▁▁▁▁▁▁▁▁▁▁▁▁▁▁▁▁▁▁▁▁▁▁▁▁▁▁▁▁</td></tr><tr><td>Loss/xy</td><td>█▇▅▅▄▃▃▂▂▂▂▂▁▁▁▁▁▁▁▁▁▁▁▁▁▁▁▁▁▁▁▁▁▁▁▁▁▁▁▁</td></tr><tr><td>Loss/floor</td><td>▂▂▂▂▁▁▃▄▅▅▆▆▆▇▇▇▇███████████████████████</td></tr><tr><td>MPE/val</td><td>█▇▆▆▅▅▄▃▃▃▃▂▂▂▂▁▁▁▁▁▁▁▁▁▁▁▁▁▁▁▁▁▁▁▁▁▁▁▁▁</td></tr><tr><td>epoch</td><td>▁▁▁▁▂▂▂▂▂▃▃▃▃▃▃▄▄▄▄▄▅▅▅▅▅▅▆▆▆▆▆▇▇▇▇▇▇███</td></tr><tr><td>trainer/global_step</td><td>▁▁▁▁▂▂▂▂▂▃▃▃▃▃▃▄▄▄▄▄▅▅▅▅▅▅▆▆▆▆▆▇▇▇▇▇▇███</td></tr><tr><td>_runtime</td><td>▁▁▁▁▂▂▂▂▂▃▃▃▃▃▃▄▄▄▄▄▅▅▅▅▅▅▆▆▆▆▆▆▇▇▇▇▇███</td></tr><tr><td>_timestamp</td><td>▁▁▁▁▂▂▂▂▂▃▃▃▃▃▃▄▄▄▄▄▅▅▅▅▅▅▆▆▆▆▆▆▇▇▇▇▇███</td></tr><tr><td>_step</td><td>▁▁▁▁▂▂▂▂▂▃▃▃▃▃▃▄▄▄▄▄▅▅▅▅▅▅▆▆▆▆▆▇▇▇▇▇▇███</td></tr></table><br/>"
     },
     "metadata": {}
    },
    {
     "output_type": "display_data",
     "data": {
      "text/plain": "<IPython.core.display.HTML object>",
      "text/html": "Synced 5 W&B file(s), 1 media file(s), 0 artifact file(s) and 0 other file(s)"
     },
     "metadata": {}
    },
    {
     "output_type": "display_data",
     "data": {
      "text/plain": "<IPython.core.display.HTML object>",
      "text/html": "\n                    <br/>Synced <strong style=\"color:#cdcd00\">vocal-frog-125</strong>: <a href=\"https://wandb.ai/kuto5046/indoor/runs/2rjc7fwr\" target=\"_blank\">https://wandb.ai/kuto5046/indoor/runs/2rjc7fwr</a><br/>\n                "
     },
     "metadata": {}
    },
    {
     "output_type": "display_data",
     "data": {
      "text/plain": "<IPython.core.display.HTML object>",
      "text/html": "...Successfully finished last run (ID:2rjc7fwr). Initializing new run:<br/><br/>"
     },
     "metadata": {}
    },
    {
     "output_type": "stream",
     "name": "stderr",
     "text": [
      "\u001b[34m\u001b[1mwandb\u001b[0m: wandb version 0.10.23 is available!  To upgrade, please run:\n\u001b[34m\u001b[1mwandb\u001b[0m:  $ pip install wandb --upgrade\n"
     ]
    },
    {
     "output_type": "display_data",
     "data": {
      "text/plain": "<IPython.core.display.HTML object>",
      "text/html": "\n                Tracking run with wandb version 0.10.22<br/>\n                Syncing run <strong style=\"color:#cdcd00\">zany-wind-126</strong> to <a href=\"https://wandb.ai\" target=\"_blank\">Weights & Biases</a> <a href=\"https://docs.wandb.com/integrations/jupyter.html\" target=\"_blank\">(Documentation)</a>.<br/>\n                Project page: <a href=\"https://wandb.ai/kuto5046/indoor\" target=\"_blank\">https://wandb.ai/kuto5046/indoor</a><br/>\n                Run page: <a href=\"https://wandb.ai/kuto5046/indoor/runs/kw5umxp0\" target=\"_blank\">https://wandb.ai/kuto5046/indoor/runs/kw5umxp0</a><br/>\n                Run data is saved locally in <code>/home/kuzira/work/exp/exp004/wandb/run-20210328_182101-kw5umxp0</code><br/><br/>\n            "
     },
     "metadata": {}
    },
    {
     "output_type": "stream",
     "name": "stderr",
     "text": [
      "GPU available: True, used: True\n",
      "TPU available: None, using: 0 TPU cores\n",
      "Using native 16bit precision.\n",
      "\n",
      "  | Name         | Type      | Params\n",
      "-------------------------------------------\n",
      "0 | model        | LSTMModel | 3.5 M \n",
      "1 | xy_criterion | MSELoss   | 0     \n",
      "2 | f_criterion  | MSELoss   | 0     \n",
      "-------------------------------------------\n",
      "3.5 M     Trainable params\n",
      "0         Non-trainable params\n",
      "3.5 M     Total params\n",
      "14.154    Total estimated model params size (MB)\n",
      "fold 2: mean position error 80.76119835325834\n",
      "====================\n",
      "Fold 3\n",
      "====================\n"
     ]
    },
    {
     "output_type": "display_data",
     "data": {
      "text/plain": "<IPython.core.display.HTML object>",
      "text/html": "Finishing last run (ID:kw5umxp0) before initializing another..."
     },
     "metadata": {}
    },
    {
     "output_type": "display_data",
     "data": {
      "text/plain": "<IPython.core.display.HTML object>",
      "text/html": "<br/>Waiting for W&B process to finish, PID 2726730<br/>Program ended successfully."
     },
     "metadata": {}
    },
    {
     "output_type": "display_data",
     "data": {
      "text/plain": "VBox(children=(Label(value=' 0.00MB of 0.00MB uploaded (0.00MB deduped)\\r'), FloatProgress(value=1.0, max=1.0)…",
      "application/vnd.jupyter.widget-view+json": {
       "version_major": 2,
       "version_minor": 0,
       "model_id": "5e3d32eaa94b4db88c41bb84ad4ba061"
      }
     },
     "metadata": {}
    },
    {
     "output_type": "display_data",
     "data": {
      "text/plain": "<IPython.core.display.HTML object>",
      "text/html": "Find user logs for this run at: <code>/home/kuzira/work/exp/exp004/wandb/run-20210328_182101-kw5umxp0/logs/debug.log</code>"
     },
     "metadata": {}
    },
    {
     "output_type": "display_data",
     "data": {
      "text/plain": "<IPython.core.display.HTML object>",
      "text/html": "Find internal logs for this run at: <code>/home/kuzira/work/exp/exp004/wandb/run-20210328_182101-kw5umxp0/logs/debug-internal.log</code>"
     },
     "metadata": {}
    },
    {
     "output_type": "display_data",
     "data": {
      "text/plain": "<IPython.core.display.HTML object>",
      "text/html": "<h3>Run summary:</h3><br/><style>\n    table.wandb td:nth-child(1) { padding: 0 10px; text-align: right }\n    </style><table class=\"wandb\">\n<tr><td>Loss/val</td><td>4099.47559</td></tr><tr><td>Loss/xy</td><td>4099.47559</td></tr><tr><td>Loss/floor</td><td>5.04957</td></tr><tr><td>MPE/val</td><td>80.76395</td></tr><tr><td>epoch</td><td>199</td></tr><tr><td>trainer/global_step</td><td>80799</td></tr><tr><td>_runtime</td><td>816</td></tr><tr><td>_timestamp</td><td>1616924080</td></tr><tr><td>_step</td><td>199</td></tr></table>"
     },
     "metadata": {}
    },
    {
     "output_type": "display_data",
     "data": {
      "text/plain": "<IPython.core.display.HTML object>",
      "text/html": "<h3>Run history:</h3><br/><style>\n    table.wandb td:nth-child(1) { padding: 0 10px; text-align: right }\n    </style><table class=\"wandb\">\n<tr><td>Loss/val</td><td>█▆▅▄▂▂▁▁▁▁▁▁▁▁▁▁▁▁▁▁▁▁▁▁▁▁▁▁▁▁▁▁▁▁▁▁▁▁▁▁</td></tr><tr><td>Loss/xy</td><td>█▆▅▄▂▂▁▁▁▁▁▁▁▁▁▁▁▁▁▁▁▁▁▁▁▁▁▁▁▁▁▁▁▁▁▁▁▁▁▁</td></tr><tr><td>Loss/floor</td><td>▁▁▁▁▁▁▁▁▁▁▁▁▁▁▁▁▁▁▁▁▁▁▁▁▁▁▁▁▁▁▁▁▁▁▁▁▁▁▁▁</td></tr><tr><td>MPE/val</td><td>█▇▅▃▂▂▁▁▁▁▁▁▁▁▁▁▁▁▁▁▁▁▁▁▁▁▁▁▁▁▁▁▁▁▁▁▁▁▁▁</td></tr><tr><td>epoch</td><td>▁▁▁▁▂▂▂▂▂▃▃▃▃▃▃▄▄▄▄▄▅▅▅▅▅▅▆▆▆▆▆▇▇▇▇▇▇███</td></tr><tr><td>trainer/global_step</td><td>▁▁▁▁▂▂▂▂▂▃▃▃▃▃▃▄▄▄▄▄▅▅▅▅▅▅▆▆▆▆▆▇▇▇▇▇▇███</td></tr><tr><td>_runtime</td><td>▁▁▁▁▂▂▂▂▂▃▃▃▃▃▃▄▄▄▄▄▅▅▅▅▅▅▆▆▆▆▆▇▇▇▇▇▇███</td></tr><tr><td>_timestamp</td><td>▁▁▁▁▂▂▂▂▂▃▃▃▃▃▃▄▄▄▄▄▅▅▅▅▅▅▆▆▆▆▆▇▇▇▇▇▇███</td></tr><tr><td>_step</td><td>▁▁▁▁▂▂▂▂▂▃▃▃▃▃▃▄▄▄▄▄▅▅▅▅▅▅▆▆▆▆▆▇▇▇▇▇▇███</td></tr></table><br/>"
     },
     "metadata": {}
    },
    {
     "output_type": "display_data",
     "data": {
      "text/plain": "<IPython.core.display.HTML object>",
      "text/html": "Synced 5 W&B file(s), 1 media file(s), 0 artifact file(s) and 0 other file(s)"
     },
     "metadata": {}
    },
    {
     "output_type": "display_data",
     "data": {
      "text/plain": "<IPython.core.display.HTML object>",
      "text/html": "\n                    <br/>Synced <strong style=\"color:#cdcd00\">zany-wind-126</strong>: <a href=\"https://wandb.ai/kuto5046/indoor/runs/kw5umxp0\" target=\"_blank\">https://wandb.ai/kuto5046/indoor/runs/kw5umxp0</a><br/>\n                "
     },
     "metadata": {}
    },
    {
     "output_type": "display_data",
     "data": {
      "text/plain": "<IPython.core.display.HTML object>",
      "text/html": "...Successfully finished last run (ID:kw5umxp0). Initializing new run:<br/><br/>"
     },
     "metadata": {}
    },
    {
     "output_type": "stream",
     "name": "stderr",
     "text": [
      "\u001b[34m\u001b[1mwandb\u001b[0m: wandb version 0.10.23 is available!  To upgrade, please run:\n\u001b[34m\u001b[1mwandb\u001b[0m:  $ pip install wandb --upgrade\n"
     ]
    },
    {
     "output_type": "display_data",
     "data": {
      "text/plain": "<IPython.core.display.HTML object>",
      "text/html": "\n                Tracking run with wandb version 0.10.22<br/>\n                Syncing run <strong style=\"color:#cdcd00\">honest-durian-127</strong> to <a href=\"https://wandb.ai\" target=\"_blank\">Weights & Biases</a> <a href=\"https://docs.wandb.com/integrations/jupyter.html\" target=\"_blank\">(Documentation)</a>.<br/>\n                Project page: <a href=\"https://wandb.ai/kuto5046/indoor\" target=\"_blank\">https://wandb.ai/kuto5046/indoor</a><br/>\n                Run page: <a href=\"https://wandb.ai/kuto5046/indoor/runs/35zes26j\" target=\"_blank\">https://wandb.ai/kuto5046/indoor/runs/35zes26j</a><br/>\n                Run data is saved locally in <code>/home/kuzira/work/exp/exp004/wandb/run-20210328_183441-35zes26j</code><br/><br/>\n            "
     },
     "metadata": {}
    },
    {
     "output_type": "stream",
     "name": "stderr",
     "text": [
      "GPU available: True, used: True\n",
      "TPU available: None, using: 0 TPU cores\n",
      "Using native 16bit precision.\n",
      "\n",
      "  | Name         | Type      | Params\n",
      "-------------------------------------------\n",
      "0 | model        | LSTMModel | 3.5 M \n",
      "1 | xy_criterion | MSELoss   | 0     \n",
      "2 | f_criterion  | MSELoss   | 0     \n",
      "-------------------------------------------\n",
      "3.5 M     Trainable params\n",
      "0         Non-trainable params\n",
      "3.5 M     Total params\n",
      "14.154    Total estimated model params size (MB)\n",
      "fold 3: mean position error 9.166039220615732\n",
      "====================\n",
      "Fold 4\n",
      "====================\n"
     ]
    },
    {
     "output_type": "display_data",
     "data": {
      "text/plain": "<IPython.core.display.HTML object>",
      "text/html": "Finishing last run (ID:35zes26j) before initializing another..."
     },
     "metadata": {}
    },
    {
     "output_type": "display_data",
     "data": {
      "text/plain": "<IPython.core.display.HTML object>",
      "text/html": "<br/>Waiting for W&B process to finish, PID 2733208<br/>Program ended successfully."
     },
     "metadata": {}
    },
    {
     "output_type": "display_data",
     "data": {
      "text/plain": "VBox(children=(Label(value=' 0.00MB of 0.00MB uploaded (0.00MB deduped)\\r'), FloatProgress(value=1.0, max=1.0)…",
      "application/vnd.jupyter.widget-view+json": {
       "version_major": 2,
       "version_minor": 0,
       "model_id": "0ccef85beaea49fdbd25cf1ead6bcd1f"
      }
     },
     "metadata": {}
    },
    {
     "output_type": "display_data",
     "data": {
      "text/plain": "<IPython.core.display.HTML object>",
      "text/html": "Find user logs for this run at: <code>/home/kuzira/work/exp/exp004/wandb/run-20210328_183441-35zes26j/logs/debug.log</code>"
     },
     "metadata": {}
    },
    {
     "output_type": "display_data",
     "data": {
      "text/plain": "<IPython.core.display.HTML object>",
      "text/html": "Find internal logs for this run at: <code>/home/kuzira/work/exp/exp004/wandb/run-20210328_183441-35zes26j/logs/debug-internal.log</code>"
     },
     "metadata": {}
    },
    {
     "output_type": "display_data",
     "data": {
      "text/plain": "<IPython.core.display.HTML object>",
      "text/html": "<h3>Run summary:</h3><br/><style>\n    table.wandb td:nth-child(1) { padding: 0 10px; text-align: right }\n    </style><table class=\"wandb\">\n<tr><td>Loss/val</td><td>90.23508</td></tr><tr><td>Loss/xy</td><td>90.23508</td></tr><tr><td>Loss/floor</td><td>4.52188</td></tr><tr><td>MPE/val</td><td>9.16532</td></tr><tr><td>epoch</td><td>199</td></tr><tr><td>trainer/global_step</td><td>80799</td></tr><tr><td>_runtime</td><td>817</td></tr><tr><td>_timestamp</td><td>1616924902</td></tr><tr><td>_step</td><td>199</td></tr></table>"
     },
     "metadata": {}
    },
    {
     "output_type": "display_data",
     "data": {
      "text/plain": "<IPython.core.display.HTML object>",
      "text/html": "<h3>Run history:</h3><br/><style>\n    table.wandb td:nth-child(1) { padding: 0 10px; text-align: right }\n    </style><table class=\"wandb\">\n<tr><td>Loss/val</td><td>█▇▅▅▄▃▃▂▂▂▂▂▁▁▁▁▁▁▁▁▁▁▁▁▁▁▁▁▁▁▁▁▁▁▁▁▁▁▁▁</td></tr><tr><td>Loss/xy</td><td>█▇▅▅▄▃▃▂▂▂▂▂▁▁▁▁▁▁▁▁▁▁▁▁▁▁▁▁▁▁▁▁▁▁▁▁▁▁▁▁</td></tr><tr><td>Loss/floor</td><td>▅▅▅▅▅▅▆▇▆▇███▅▅▅▅▄▄▄▃▃▃▂▂▂▁▁▁▁▁▁▁▁▁▁▁▁▁▁</td></tr><tr><td>MPE/val</td><td>█▇▆▆▅▅▄▄▃▃▂▂▂▂▂▁▁▁▁▁▁▁▁▁▁▁▁▁▁▁▁▁▁▁▁▁▁▁▁▁</td></tr><tr><td>epoch</td><td>▁▁▁▁▂▂▂▂▂▃▃▃▃▃▃▄▄▄▄▄▅▅▅▅▅▅▆▆▆▆▆▇▇▇▇▇▇███</td></tr><tr><td>trainer/global_step</td><td>▁▁▁▁▂▂▂▂▂▃▃▃▃▃▃▄▄▄▄▄▅▅▅▅▅▅▆▆▆▆▆▇▇▇▇▇▇███</td></tr><tr><td>_runtime</td><td>▁▁▁▁▂▂▂▂▂▃▃▃▃▃▃▄▄▄▄▄▅▅▅▅▅▅▆▆▆▆▆▇▇▇▇▇▇███</td></tr><tr><td>_timestamp</td><td>▁▁▁▁▂▂▂▂▂▃▃▃▃▃▃▄▄▄▄▄▅▅▅▅▅▅▆▆▆▆▆▇▇▇▇▇▇███</td></tr><tr><td>_step</td><td>▁▁▁▁▂▂▂▂▂▃▃▃▃▃▃▄▄▄▄▄▅▅▅▅▅▅▆▆▆▆▆▇▇▇▇▇▇███</td></tr></table><br/>"
     },
     "metadata": {}
    },
    {
     "output_type": "display_data",
     "data": {
      "text/plain": "<IPython.core.display.HTML object>",
      "text/html": "Synced 5 W&B file(s), 1 media file(s), 0 artifact file(s) and 0 other file(s)"
     },
     "metadata": {}
    },
    {
     "output_type": "display_data",
     "data": {
      "text/plain": "<IPython.core.display.HTML object>",
      "text/html": "\n                    <br/>Synced <strong style=\"color:#cdcd00\">honest-durian-127</strong>: <a href=\"https://wandb.ai/kuto5046/indoor/runs/35zes26j\" target=\"_blank\">https://wandb.ai/kuto5046/indoor/runs/35zes26j</a><br/>\n                "
     },
     "metadata": {}
    },
    {
     "output_type": "display_data",
     "data": {
      "text/plain": "<IPython.core.display.HTML object>",
      "text/html": "...Successfully finished last run (ID:35zes26j). Initializing new run:<br/><br/>"
     },
     "metadata": {}
    },
    {
     "output_type": "stream",
     "name": "stderr",
     "text": [
      "\u001b[34m\u001b[1mwandb\u001b[0m: wandb version 0.10.23 is available!  To upgrade, please run:\n\u001b[34m\u001b[1mwandb\u001b[0m:  $ pip install wandb --upgrade\n"
     ]
    },
    {
     "output_type": "display_data",
     "data": {
      "text/plain": "<IPython.core.display.HTML object>",
      "text/html": "\n                Tracking run with wandb version 0.10.22<br/>\n                Syncing run <strong style=\"color:#cdcd00\">comfy-bird-128</strong> to <a href=\"https://wandb.ai\" target=\"_blank\">Weights & Biases</a> <a href=\"https://docs.wandb.com/integrations/jupyter.html\" target=\"_blank\">(Documentation)</a>.<br/>\n                Project page: <a href=\"https://wandb.ai/kuto5046/indoor\" target=\"_blank\">https://wandb.ai/kuto5046/indoor</a><br/>\n                Run page: <a href=\"https://wandb.ai/kuto5046/indoor/runs/ngrloeld\" target=\"_blank\">https://wandb.ai/kuto5046/indoor/runs/ngrloeld</a><br/>\n                Run data is saved locally in <code>/home/kuzira/work/exp/exp004/wandb/run-20210328_184823-ngrloeld</code><br/><br/>\n            "
     },
     "metadata": {}
    },
    {
     "output_type": "stream",
     "name": "stderr",
     "text": [
      "GPU available: True, used: True\n",
      "TPU available: None, using: 0 TPU cores\n",
      "Using native 16bit precision.\n",
      "\n",
      "  | Name         | Type      | Params\n",
      "-------------------------------------------\n",
      "0 | model        | LSTMModel | 3.5 M \n",
      "1 | xy_criterion | MSELoss   | 0     \n",
      "2 | f_criterion  | MSELoss   | 0     \n",
      "-------------------------------------------\n",
      "3.5 M     Trainable params\n",
      "0         Non-trainable params\n",
      "3.5 M     Total params\n",
      "14.154    Total estimated model params size (MB)\n",
      "fold 4: mean position error 8.815406316577944\n"
     ]
    }
   ],
   "source": [
    "oofs = []  # 全てのoofをdfで格納する\n",
    "predictions = []  # 全ての予測値をdfで格納する\n",
    "val_scores = []\n",
    "# skf = model_selection.StratifiedKFold(n_splits=N_SPLITS, shuffle=True, random_state=SEED)\n",
    "gkf = model_selection.GroupKFold(n_splits=N_SPLITS)\n",
    "# 今回はtargetを均等に分ける必要はなくpathが均等に分かれればいいのでskf.split()にpathを与えている。\n",
    "for fold, (trn_idx, val_idx) in enumerate(gkf.split(train.loc[:, 'path'], groups=train.loc[:, 'path'])):\n",
    "    # 指定したfoldのみループを回す\n",
    "    if fold not in USE_FOLDS:\n",
    "        continue\n",
    "\n",
    "    print('=' * 20)\n",
    "    print(f'Fold {fold}')\n",
    "    print('=' * 20)\n",
    "\n",
    "    # train/valid data\n",
    "    trn_df = train.loc[trn_idx, BSSID_FEATS + RSSI_FEATS + ['site_id', 'wifi_x','wifi_y','floor']].reset_index(drop=True)\n",
    "    val_df = train.loc[val_idx, BSSID_FEATS + RSSI_FEATS + ['site_id', 'wifi_x','wifi_y','floor']].reset_index(drop=True)\n",
    "\n",
    "    # data loader\n",
    "    loaders = {}\n",
    "    loader_config = config[\"loader\"]\n",
    "    loaders[\"train\"] = DataLoader(IndoorDataset(trn_df, phase=\"train\"), **loader_config[\"train\"], worker_init_fn=worker_init_fn) \n",
    "    loaders[\"valid\"] = DataLoader(IndoorDataset(val_df, phase=\"valid\"), **loader_config[\"valid\"], worker_init_fn=worker_init_fn)\n",
    "    loaders[\"test\"] = DataLoader(IndoorDataset(test, phase=\"test\"), **loader_config[\"test\"], worker_init_fn=worker_init_fn)\n",
    "\n",
    "    # model\n",
    "    model = LSTMModel(wifi_bssids_size+1, site_count)  # +1としているのはLEを1スタートで始めているため\n",
    "    model_name = model.__class__.__name__\n",
    "\n",
    "    # callbacks\n",
    "    callbacks = []\n",
    "    checkpoint_callback = ModelCheckpoint(\n",
    "        monitor=f'Loss/val',\n",
    "        mode='min',\n",
    "        dirpath=\"./\",\n",
    "        verbose=True,\n",
    "        filename=f'{model_name}-{fold}')\n",
    "    callbacks.append(checkpoint_callback)\n",
    "\n",
    "    # early_stop_callback = EarlyStopping(\n",
    "    #     monitor='Loss/val',\n",
    "    #     min_delta=0.00,\n",
    "    #     patience=3,\n",
    "    #     verbose=True,\n",
    "    #     mode='min')\n",
    "    # callbacks.append(early_stop_callback)\n",
    "\n",
    "    # loggers\n",
    "    RUN_NAME = EXP_NAME + \"_\" + EXP_MESSAGE\n",
    "    wandb.init(project='indoor', notes= NOTES, entity='kuto5046', group=RUN_NAME)\n",
    "    wandb.run.name = RUN_NAME + f'-fold-{fold}'\n",
    "    wandb_config = wandb.config\n",
    "    wandb_config.model_name = model_name\n",
    "    wandb.watch(model)\n",
    "    \n",
    "    \n",
    "    loggers = []\n",
    "    loggers.append(WandbLogger())\n",
    "\n",
    "    learner = Learner(model, config)\n",
    "    trainer = pl.Trainer(\n",
    "        logger=loggers, \n",
    "        checkpoint_callback=callbacks,\n",
    "        max_epochs=MAX_EPOCHS,\n",
    "        gpus=[0],\n",
    "        fast_dev_run=DEBUG,\n",
    "        deterministic=True,\n",
    "        precision=16,\n",
    "        progress_bar_refresh_rate=0  # vscodeの時progress barの動作が遅いので表示しない\n",
    "        )\n",
    "\n",
    "    trainer.fit(learner, train_dataloader=loaders['train'], val_dataloaders=loaders['valid'])\n",
    "\n",
    "    #############\n",
    "    # validation (to make oof)\n",
    "    #############\n",
    "    model.eval()\n",
    "    oof_x, oof_y, oof_f = evaluate(model, loaders, phase=\"valid\")\n",
    "    val_df[\"oof_x\"] = oof_x\n",
    "    val_df[\"oof_y\"] = oof_y\n",
    "    val_df[\"oof_floor\"] = oof_f\n",
    "    oofs.append(val_df)\n",
    "    \n",
    "    val_score = mean_position_error(\n",
    "        val_df[\"oof_x\"].values, val_df[\"oof_y\"].values, 0,\n",
    "        val_df['wifi_x'].values, val_df['wifi_y'].values, 0)\n",
    "    val_scores.append(val_score)\n",
    "    print(f\"fold {fold}: mean position error {val_score}\")\n",
    "\n",
    "    #############\n",
    "    # inference\n",
    "    #############n\n",
    "\n",
    "    preds_x, preds_y, preds_f = evaluate(model, loaders, phase=\"test\")\n",
    "    test_preds = pd.DataFrame(np.stack((preds_f, preds_x, preds_y))).T\n",
    "    test_preds.columns = sub.columns\n",
    "    test_preds[\"site_path_timestamp\"] = test[\"site_path_timestamp\"]\n",
    "    test_preds[\"floor\"] = test_preds[\"floor\"].astype(int)\n",
    "    test_preds.to_csv(f'{EXP_NAME}_fold{fold}.csv', index=False)\n",
    "    predictions.append(test_preds)\n",
    "\n",
    "    wandb.finish()"
   ]
  },
  {
   "cell_type": "code",
   "execution_count": 18,
   "metadata": {},
   "outputs": [
    {
     "output_type": "execute_result",
     "data": {
      "text/plain": [
       "       bssid_0  bssid_1  bssid_2  bssid_3  bssid_4  bssid_5  bssid_6  bssid_7  \\\n",
       "0         8422    17703    32959    25110     9057    16435    11252    28661   \n",
       "1        32959     9057    11252    28661    17703    38418    12088    37556   \n",
       "2        32959     9057    17703    11252    12088    38418    38846    40371   \n",
       "3        32959     9057    11252    12088    17703    38418    38846    10049   \n",
       "4        12088    32959    11252    17703    38846    39497    35941    25110   \n",
       "...        ...      ...      ...      ...      ...      ...      ...      ...   \n",
       "51620    24764    19267     4143    26547    40636    32274     6222    21039   \n",
       "51621    19267    24764     4143    40636    26547    21039    32274    34595   \n",
       "51622    24764    19267    32274    40636    26547    21039    34595     4009   \n",
       "51623    24764    32274    40636    19267    26547     1031    28497     9857   \n",
       "51624    24764    32274    19267    40636    26547    21039     4143     1031   \n",
       "\n",
       "       bssid_8  bssid_9  ...   rssi_17   rssi_18   rssi_19  site_id  \\\n",
       "0        12088    24559  ... -0.014829 -0.014307  0.003275       21   \n",
       "1        38846    24559  ... -0.040588 -0.022473 -0.004483       21   \n",
       "2         8147     4235  ... -0.032001 -0.014307 -0.004483       21   \n",
       "3        24559    33672  ... -0.023415 -0.014307  0.003275       21   \n",
       "4        33672     4235  ... -0.023415 -0.006140  0.003275       21   \n",
       "...        ...      ...  ...       ...       ...       ...      ...   \n",
       "51620    34595     5614  ...  0.122553  0.132694  0.142910        5   \n",
       "51621    28497     6222  ...  0.113966  0.124527  0.135153        5   \n",
       "51622     5614     9857  ...  0.122553  0.132694  0.142910        5   \n",
       "51623     4143    33237  ...  0.122553  0.132694  0.135153        5   \n",
       "51624     9857     7595  ...  0.131139  0.140861  0.150668        5   \n",
       "\n",
       "          wifi_x      wifi_y  floor      oof_x       oof_y  oof_floor  \n",
       "0      83.051899  211.013456      0  88.721725  211.656830   0.382885  \n",
       "1      83.256861  211.591914      0  86.256500  213.160385   0.391431  \n",
       "2      83.999819  213.656527      0  87.519768  214.029587   0.403872  \n",
       "3      84.834751  215.328593      0  81.938042  212.620728   0.392782  \n",
       "4      86.273002  217.003159      0  76.950775  210.293823   0.391376  \n",
       "...          ...         ...    ...        ...         ...        ...  \n",
       "51620  12.053943  100.515005      1  10.792036   98.630630   0.250649  \n",
       "51621  10.895453  101.396328      1  13.684644   96.684570   0.236311  \n",
       "51622   9.138750  103.340829      1  10.453069   98.726486   0.243529  \n",
       "51623   6.932391  105.053928      1  14.721096  102.626328   0.227514  \n",
       "51624   5.511971  106.255858      1  15.129978   98.115845   0.238515  \n",
       "\n",
       "[258125 rows x 47 columns]"
      ],
      "text/html": "<div>\n<style scoped>\n    .dataframe tbody tr th:only-of-type {\n        vertical-align: middle;\n    }\n\n    .dataframe tbody tr th {\n        vertical-align: top;\n    }\n\n    .dataframe thead th {\n        text-align: right;\n    }\n</style>\n<table border=\"1\" class=\"dataframe\">\n  <thead>\n    <tr style=\"text-align: right;\">\n      <th></th>\n      <th>bssid_0</th>\n      <th>bssid_1</th>\n      <th>bssid_2</th>\n      <th>bssid_3</th>\n      <th>bssid_4</th>\n      <th>bssid_5</th>\n      <th>bssid_6</th>\n      <th>bssid_7</th>\n      <th>bssid_8</th>\n      <th>bssid_9</th>\n      <th>...</th>\n      <th>rssi_17</th>\n      <th>rssi_18</th>\n      <th>rssi_19</th>\n      <th>site_id</th>\n      <th>wifi_x</th>\n      <th>wifi_y</th>\n      <th>floor</th>\n      <th>oof_x</th>\n      <th>oof_y</th>\n      <th>oof_floor</th>\n    </tr>\n  </thead>\n  <tbody>\n    <tr>\n      <th>0</th>\n      <td>8422</td>\n      <td>17703</td>\n      <td>32959</td>\n      <td>25110</td>\n      <td>9057</td>\n      <td>16435</td>\n      <td>11252</td>\n      <td>28661</td>\n      <td>12088</td>\n      <td>24559</td>\n      <td>...</td>\n      <td>-0.014829</td>\n      <td>-0.014307</td>\n      <td>0.003275</td>\n      <td>21</td>\n      <td>83.051899</td>\n      <td>211.013456</td>\n      <td>0</td>\n      <td>88.721725</td>\n      <td>211.656830</td>\n      <td>0.382885</td>\n    </tr>\n    <tr>\n      <th>1</th>\n      <td>32959</td>\n      <td>9057</td>\n      <td>11252</td>\n      <td>28661</td>\n      <td>17703</td>\n      <td>38418</td>\n      <td>12088</td>\n      <td>37556</td>\n      <td>38846</td>\n      <td>24559</td>\n      <td>...</td>\n      <td>-0.040588</td>\n      <td>-0.022473</td>\n      <td>-0.004483</td>\n      <td>21</td>\n      <td>83.256861</td>\n      <td>211.591914</td>\n      <td>0</td>\n      <td>86.256500</td>\n      <td>213.160385</td>\n      <td>0.391431</td>\n    </tr>\n    <tr>\n      <th>2</th>\n      <td>32959</td>\n      <td>9057</td>\n      <td>17703</td>\n      <td>11252</td>\n      <td>12088</td>\n      <td>38418</td>\n      <td>38846</td>\n      <td>40371</td>\n      <td>8147</td>\n      <td>4235</td>\n      <td>...</td>\n      <td>-0.032001</td>\n      <td>-0.014307</td>\n      <td>-0.004483</td>\n      <td>21</td>\n      <td>83.999819</td>\n      <td>213.656527</td>\n      <td>0</td>\n      <td>87.519768</td>\n      <td>214.029587</td>\n      <td>0.403872</td>\n    </tr>\n    <tr>\n      <th>3</th>\n      <td>32959</td>\n      <td>9057</td>\n      <td>11252</td>\n      <td>12088</td>\n      <td>17703</td>\n      <td>38418</td>\n      <td>38846</td>\n      <td>10049</td>\n      <td>24559</td>\n      <td>33672</td>\n      <td>...</td>\n      <td>-0.023415</td>\n      <td>-0.014307</td>\n      <td>0.003275</td>\n      <td>21</td>\n      <td>84.834751</td>\n      <td>215.328593</td>\n      <td>0</td>\n      <td>81.938042</td>\n      <td>212.620728</td>\n      <td>0.392782</td>\n    </tr>\n    <tr>\n      <th>4</th>\n      <td>12088</td>\n      <td>32959</td>\n      <td>11252</td>\n      <td>17703</td>\n      <td>38846</td>\n      <td>39497</td>\n      <td>35941</td>\n      <td>25110</td>\n      <td>33672</td>\n      <td>4235</td>\n      <td>...</td>\n      <td>-0.023415</td>\n      <td>-0.006140</td>\n      <td>0.003275</td>\n      <td>21</td>\n      <td>86.273002</td>\n      <td>217.003159</td>\n      <td>0</td>\n      <td>76.950775</td>\n      <td>210.293823</td>\n      <td>0.391376</td>\n    </tr>\n    <tr>\n      <th>...</th>\n      <td>...</td>\n      <td>...</td>\n      <td>...</td>\n      <td>...</td>\n      <td>...</td>\n      <td>...</td>\n      <td>...</td>\n      <td>...</td>\n      <td>...</td>\n      <td>...</td>\n      <td>...</td>\n      <td>...</td>\n      <td>...</td>\n      <td>...</td>\n      <td>...</td>\n      <td>...</td>\n      <td>...</td>\n      <td>...</td>\n      <td>...</td>\n      <td>...</td>\n      <td>...</td>\n    </tr>\n    <tr>\n      <th>51620</th>\n      <td>24764</td>\n      <td>19267</td>\n      <td>4143</td>\n      <td>26547</td>\n      <td>40636</td>\n      <td>32274</td>\n      <td>6222</td>\n      <td>21039</td>\n      <td>34595</td>\n      <td>5614</td>\n      <td>...</td>\n      <td>0.122553</td>\n      <td>0.132694</td>\n      <td>0.142910</td>\n      <td>5</td>\n      <td>12.053943</td>\n      <td>100.515005</td>\n      <td>1</td>\n      <td>10.792036</td>\n      <td>98.630630</td>\n      <td>0.250649</td>\n    </tr>\n    <tr>\n      <th>51621</th>\n      <td>19267</td>\n      <td>24764</td>\n      <td>4143</td>\n      <td>40636</td>\n      <td>26547</td>\n      <td>21039</td>\n      <td>32274</td>\n      <td>34595</td>\n      <td>28497</td>\n      <td>6222</td>\n      <td>...</td>\n      <td>0.113966</td>\n      <td>0.124527</td>\n      <td>0.135153</td>\n      <td>5</td>\n      <td>10.895453</td>\n      <td>101.396328</td>\n      <td>1</td>\n      <td>13.684644</td>\n      <td>96.684570</td>\n      <td>0.236311</td>\n    </tr>\n    <tr>\n      <th>51622</th>\n      <td>24764</td>\n      <td>19267</td>\n      <td>32274</td>\n      <td>40636</td>\n      <td>26547</td>\n      <td>21039</td>\n      <td>34595</td>\n      <td>4009</td>\n      <td>5614</td>\n      <td>9857</td>\n      <td>...</td>\n      <td>0.122553</td>\n      <td>0.132694</td>\n      <td>0.142910</td>\n      <td>5</td>\n      <td>9.138750</td>\n      <td>103.340829</td>\n      <td>1</td>\n      <td>10.453069</td>\n      <td>98.726486</td>\n      <td>0.243529</td>\n    </tr>\n    <tr>\n      <th>51623</th>\n      <td>24764</td>\n      <td>32274</td>\n      <td>40636</td>\n      <td>19267</td>\n      <td>26547</td>\n      <td>1031</td>\n      <td>28497</td>\n      <td>9857</td>\n      <td>4143</td>\n      <td>33237</td>\n      <td>...</td>\n      <td>0.122553</td>\n      <td>0.132694</td>\n      <td>0.135153</td>\n      <td>5</td>\n      <td>6.932391</td>\n      <td>105.053928</td>\n      <td>1</td>\n      <td>14.721096</td>\n      <td>102.626328</td>\n      <td>0.227514</td>\n    </tr>\n    <tr>\n      <th>51624</th>\n      <td>24764</td>\n      <td>32274</td>\n      <td>19267</td>\n      <td>40636</td>\n      <td>26547</td>\n      <td>21039</td>\n      <td>4143</td>\n      <td>1031</td>\n      <td>9857</td>\n      <td>7595</td>\n      <td>...</td>\n      <td>0.131139</td>\n      <td>0.140861</td>\n      <td>0.150668</td>\n      <td>5</td>\n      <td>5.511971</td>\n      <td>106.255858</td>\n      <td>1</td>\n      <td>15.129978</td>\n      <td>98.115845</td>\n      <td>0.238515</td>\n    </tr>\n  </tbody>\n</table>\n<p>258125 rows × 47 columns</p>\n</div>"
     },
     "metadata": {},
     "execution_count": 18
    }
   ],
   "source": [
    "if len(USE_FOLDS) > 1:\n",
    "    oofs_df = pd.concat(oofs)\n",
    "else:\n",
    "    oofs_df = oofs[0]\n",
    "# oofs_df.to_csv(\"oof.csv\", index=False)\n",
    "oofs_df"
   ]
  },
  {
   "cell_type": "code",
   "execution_count": 19,
   "metadata": {},
   "outputs": [
    {
     "output_type": "execute_result",
     "data": {
      "text/plain": [
       "                                                    floor           x  \\\n",
       "site_path_timestamp                                                     \n",
       "5a0546857ecc773753327266_046cfa46be49fc10834815...      0   91.097458   \n",
       "5a0546857ecc773753327266_046cfa46be49fc10834815...      0   88.852364   \n",
       "5a0546857ecc773753327266_046cfa46be49fc10834815...      0   89.738678   \n",
       "5a0546857ecc773753327266_046cfa46be49fc10834815...      0   93.617294   \n",
       "5a0546857ecc773753327266_046cfa46be49fc10834815...      0   93.153786   \n",
       "...                                                   ...         ...   \n",
       "5dc8cea7659e181adb076a3f_fd64de8c4a2fc5ebb0e9f4...      0  193.471451   \n",
       "5dc8cea7659e181adb076a3f_fd64de8c4a2fc5ebb0e9f4...      0  191.546082   \n",
       "5dc8cea7659e181adb076a3f_fd64de8c4a2fc5ebb0e9f4...      0  186.085968   \n",
       "5dc8cea7659e181adb076a3f_fd64de8c4a2fc5ebb0e9f4...      0  182.940292   \n",
       "5dc8cea7659e181adb076a3f_fd64de8c4a2fc5ebb0e9f4...      0  179.956573   \n",
       "\n",
       "                                                             y  \n",
       "site_path_timestamp                                             \n",
       "5a0546857ecc773753327266_046cfa46be49fc10834815...  102.624756  \n",
       "5a0546857ecc773753327266_046cfa46be49fc10834815...  106.068810  \n",
       "5a0546857ecc773753327266_046cfa46be49fc10834815...  106.788033  \n",
       "5a0546857ecc773753327266_046cfa46be49fc10834815...  108.447411  \n",
       "5a0546857ecc773753327266_046cfa46be49fc10834815...  108.661118  \n",
       "...                                                        ...  \n",
       "5dc8cea7659e181adb076a3f_fd64de8c4a2fc5ebb0e9f4...   98.169754  \n",
       "5dc8cea7659e181adb076a3f_fd64de8c4a2fc5ebb0e9f4...  102.587158  \n",
       "5dc8cea7659e181adb076a3f_fd64de8c4a2fc5ebb0e9f4...  107.479927  \n",
       "5dc8cea7659e181adb076a3f_fd64de8c4a2fc5ebb0e9f4...  110.905876  \n",
       "5dc8cea7659e181adb076a3f_fd64de8c4a2fc5ebb0e9f4...  108.764000  \n",
       "\n",
       "[10133 rows x 3 columns]"
      ],
      "text/html": "<div>\n<style scoped>\n    .dataframe tbody tr th:only-of-type {\n        vertical-align: middle;\n    }\n\n    .dataframe tbody tr th {\n        vertical-align: top;\n    }\n\n    .dataframe thead th {\n        text-align: right;\n    }\n</style>\n<table border=\"1\" class=\"dataframe\">\n  <thead>\n    <tr style=\"text-align: right;\">\n      <th></th>\n      <th>floor</th>\n      <th>x</th>\n      <th>y</th>\n    </tr>\n    <tr>\n      <th>site_path_timestamp</th>\n      <th></th>\n      <th></th>\n      <th></th>\n    </tr>\n  </thead>\n  <tbody>\n    <tr>\n      <th>5a0546857ecc773753327266_046cfa46be49fc10834815c6_0000000000009</th>\n      <td>0</td>\n      <td>91.097458</td>\n      <td>102.624756</td>\n    </tr>\n    <tr>\n      <th>5a0546857ecc773753327266_046cfa46be49fc10834815c6_0000000009017</th>\n      <td>0</td>\n      <td>88.852364</td>\n      <td>106.068810</td>\n    </tr>\n    <tr>\n      <th>5a0546857ecc773753327266_046cfa46be49fc10834815c6_0000000015326</th>\n      <td>0</td>\n      <td>89.738678</td>\n      <td>106.788033</td>\n    </tr>\n    <tr>\n      <th>5a0546857ecc773753327266_046cfa46be49fc10834815c6_0000000018763</th>\n      <td>0</td>\n      <td>93.617294</td>\n      <td>108.447411</td>\n    </tr>\n    <tr>\n      <th>5a0546857ecc773753327266_046cfa46be49fc10834815c6_0000000022328</th>\n      <td>0</td>\n      <td>93.153786</td>\n      <td>108.661118</td>\n    </tr>\n    <tr>\n      <th>...</th>\n      <td>...</td>\n      <td>...</td>\n      <td>...</td>\n    </tr>\n    <tr>\n      <th>5dc8cea7659e181adb076a3f_fd64de8c4a2fc5ebb0e9f412_0000000082589</th>\n      <td>0</td>\n      <td>193.471451</td>\n      <td>98.169754</td>\n    </tr>\n    <tr>\n      <th>5dc8cea7659e181adb076a3f_fd64de8c4a2fc5ebb0e9f412_0000000085758</th>\n      <td>0</td>\n      <td>191.546082</td>\n      <td>102.587158</td>\n    </tr>\n    <tr>\n      <th>5dc8cea7659e181adb076a3f_fd64de8c4a2fc5ebb0e9f412_0000000090895</th>\n      <td>0</td>\n      <td>186.085968</td>\n      <td>107.479927</td>\n    </tr>\n    <tr>\n      <th>5dc8cea7659e181adb076a3f_fd64de8c4a2fc5ebb0e9f412_0000000096899</th>\n      <td>0</td>\n      <td>182.940292</td>\n      <td>110.905876</td>\n    </tr>\n    <tr>\n      <th>5dc8cea7659e181adb076a3f_fd64de8c4a2fc5ebb0e9f412_0000000100447</th>\n      <td>0</td>\n      <td>179.956573</td>\n      <td>108.764000</td>\n    </tr>\n  </tbody>\n</table>\n<p>10133 rows × 3 columns</p>\n</div>"
     },
     "metadata": {},
     "execution_count": 19
    }
   ],
   "source": [
    "if len(USE_FOLDS) > 1:\n",
    "    # foldの結果を平均した後、reindexでsubmission fileにindexを合わせる\n",
    "    all_preds = pd.concat(predictions).groupby('site_path_timestamp').mean().reindex(sub.index)\n",
    "else:\n",
    "    all_preds = predictions[0].reindex(sub.index)\n",
    "all_preds"
   ]
  },
  {
   "cell_type": "code",
   "execution_count": 36,
   "metadata": {},
   "outputs": [],
   "source": [
    "# foldをやり直したため一時的に追加\n",
    "predictions = []\n",
    "for fold in range(5):\n",
    "    predictions.append(pd.read_csv(f'exp004_fold{fold}.csv'))\n",
    "\n",
    "all_preds = pd.concat(predictions).groupby('site_path_timestamp').mean().reindex(sub.index)"
   ]
  },
  {
   "cell_type": "code",
   "execution_count": 37,
   "metadata": {},
   "outputs": [
    {
     "output_type": "execute_result",
     "data": {
      "text/plain": [
       "                                                    floor           x  \\\n",
       "site_path_timestamp                                                     \n",
       "5a0546857ecc773753327266_046cfa46be49fc10834815...      0   84.063752   \n",
       "5a0546857ecc773753327266_046cfa46be49fc10834815...      0   81.915985   \n",
       "5a0546857ecc773753327266_046cfa46be49fc10834815...      0   82.998852   \n",
       "5a0546857ecc773753327266_046cfa46be49fc10834815...      0   88.018200   \n",
       "5a0546857ecc773753327266_046cfa46be49fc10834815...      0   86.629906   \n",
       "...                                                   ...         ...   \n",
       "5dc8cea7659e181adb076a3f_fd64de8c4a2fc5ebb0e9f4...      5  212.822434   \n",
       "5dc8cea7659e181adb076a3f_fd64de8c4a2fc5ebb0e9f4...      5  210.052040   \n",
       "5dc8cea7659e181adb076a3f_fd64de8c4a2fc5ebb0e9f4...      5  203.747048   \n",
       "5dc8cea7659e181adb076a3f_fd64de8c4a2fc5ebb0e9f4...      5  200.013124   \n",
       "5dc8cea7659e181adb076a3f_fd64de8c4a2fc5ebb0e9f4...      5  197.399714   \n",
       "\n",
       "                                                             y  \n",
       "site_path_timestamp                                             \n",
       "5a0546857ecc773753327266_046cfa46be49fc10834815...  102.704181  \n",
       "5a0546857ecc773753327266_046cfa46be49fc10834815...  105.657406  \n",
       "5a0546857ecc773753327266_046cfa46be49fc10834815...  107.267540  \n",
       "5a0546857ecc773753327266_046cfa46be49fc10834815...  109.426264  \n",
       "5a0546857ecc773753327266_046cfa46be49fc10834815...  109.371546  \n",
       "...                                                        ...  \n",
       "5dc8cea7659e181adb076a3f_fd64de8c4a2fc5ebb0e9f4...   96.231877  \n",
       "5dc8cea7659e181adb076a3f_fd64de8c4a2fc5ebb0e9f4...  102.627510  \n",
       "5dc8cea7659e181adb076a3f_fd64de8c4a2fc5ebb0e9f4...  107.938415  \n",
       "5dc8cea7659e181adb076a3f_fd64de8c4a2fc5ebb0e9f4...  111.695888  \n",
       "5dc8cea7659e181adb076a3f_fd64de8c4a2fc5ebb0e9f4...  109.719466  \n",
       "\n",
       "[10133 rows x 3 columns]"
      ],
      "text/html": "<div>\n<style scoped>\n    .dataframe tbody tr th:only-of-type {\n        vertical-align: middle;\n    }\n\n    .dataframe tbody tr th {\n        vertical-align: top;\n    }\n\n    .dataframe thead th {\n        text-align: right;\n    }\n</style>\n<table border=\"1\" class=\"dataframe\">\n  <thead>\n    <tr style=\"text-align: right;\">\n      <th></th>\n      <th>floor</th>\n      <th>x</th>\n      <th>y</th>\n    </tr>\n    <tr>\n      <th>site_path_timestamp</th>\n      <th></th>\n      <th></th>\n      <th></th>\n    </tr>\n  </thead>\n  <tbody>\n    <tr>\n      <th>5a0546857ecc773753327266_046cfa46be49fc10834815c6_0000000000009</th>\n      <td>0</td>\n      <td>84.063752</td>\n      <td>102.704181</td>\n    </tr>\n    <tr>\n      <th>5a0546857ecc773753327266_046cfa46be49fc10834815c6_0000000009017</th>\n      <td>0</td>\n      <td>81.915985</td>\n      <td>105.657406</td>\n    </tr>\n    <tr>\n      <th>5a0546857ecc773753327266_046cfa46be49fc10834815c6_0000000015326</th>\n      <td>0</td>\n      <td>82.998852</td>\n      <td>107.267540</td>\n    </tr>\n    <tr>\n      <th>5a0546857ecc773753327266_046cfa46be49fc10834815c6_0000000018763</th>\n      <td>0</td>\n      <td>88.018200</td>\n      <td>109.426264</td>\n    </tr>\n    <tr>\n      <th>5a0546857ecc773753327266_046cfa46be49fc10834815c6_0000000022328</th>\n      <td>0</td>\n      <td>86.629906</td>\n      <td>109.371546</td>\n    </tr>\n    <tr>\n      <th>...</th>\n      <td>...</td>\n      <td>...</td>\n      <td>...</td>\n    </tr>\n    <tr>\n      <th>5dc8cea7659e181adb076a3f_fd64de8c4a2fc5ebb0e9f412_0000000082589</th>\n      <td>5</td>\n      <td>212.822434</td>\n      <td>96.231877</td>\n    </tr>\n    <tr>\n      <th>5dc8cea7659e181adb076a3f_fd64de8c4a2fc5ebb0e9f412_0000000085758</th>\n      <td>5</td>\n      <td>210.052040</td>\n      <td>102.627510</td>\n    </tr>\n    <tr>\n      <th>5dc8cea7659e181adb076a3f_fd64de8c4a2fc5ebb0e9f412_0000000090895</th>\n      <td>5</td>\n      <td>203.747048</td>\n      <td>107.938415</td>\n    </tr>\n    <tr>\n      <th>5dc8cea7659e181adb076a3f_fd64de8c4a2fc5ebb0e9f412_0000000096899</th>\n      <td>5</td>\n      <td>200.013124</td>\n      <td>111.695888</td>\n    </tr>\n    <tr>\n      <th>5dc8cea7659e181adb076a3f_fd64de8c4a2fc5ebb0e9f412_0000000100447</th>\n      <td>5</td>\n      <td>197.399714</td>\n      <td>109.719466</td>\n    </tr>\n  </tbody>\n</table>\n<p>10133 rows × 3 columns</p>\n</div>"
     },
     "metadata": {},
     "execution_count": 37
    }
   ],
   "source": [
    "# floorの数値を置換\n",
    "simple_accurate_99 = pd.read_csv(root_dir / 'simple-99-accurate-floor-model/submission.csv')\n",
    "all_preds['floor'] = simple_accurate_99['floor'].values\n",
    "all_preds"
   ]
  },
  {
   "cell_type": "code",
   "execution_count": 38,
   "metadata": {},
   "outputs": [],
   "source": [
    "all_preds.to_csv(RUN_NAME + '.csv')"
   ]
  },
  {
   "cell_type": "code",
   "execution_count": 39,
   "metadata": {},
   "outputs": [
    {
     "output_type": "stream",
     "name": "stdout",
     "text": [
      "CV:23.182697449106023\n"
     ]
    }
   ],
   "source": [
    "print(f\"CV:{np.mean(val_scores)}\")"
   ]
  }
 ],
 "metadata": {
  "kernelspec": {
   "display_name": "Python 3",
   "language": "python",
   "name": "python3"
  },
  "language_info": {
   "codemirror_mode": {
    "name": "ipython",
    "version": 3
   },
   "file_extension": ".py",
   "mimetype": "text/x-python",
   "name": "python",
   "nbconvert_exporter": "python",
   "pygments_lexer": "ipython3",
   "version": "3.8.5"
  }
 },
 "nbformat": 4,
 "nbformat_minor": 4
}