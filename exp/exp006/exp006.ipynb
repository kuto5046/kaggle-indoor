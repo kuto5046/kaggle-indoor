{
 "cells": [
  {
   "cell_type": "code",
   "execution_count": 1,
   "metadata": {},
   "outputs": [],
   "source": [
    "import os\n",
    "import sys\n",
    "import glob\n",
    "import pickle\n",
    "import random\n",
    "\n",
    "import numpy as np\n",
    "import pandas as pd\n",
    "import scipy.stats as stats\n",
    "from pathlib import Path\n",
    "\n",
    "\n",
    "sys.path.append('../../')\n",
    "import src.utils as utils\n",
    "from sklearn import model_selection\n",
    "from sklearn.preprocessing import StandardScaler, LabelEncoder\n",
    "\n",
    "import wandb\n",
    "import torch\n",
    "from torch import nn\n",
    "import torch.nn.functional as F\n",
    "from torch.utils.data import Dataset, DataLoader\n",
    "import torch.optim as optim\n",
    "\n",
    "import pytorch_lightning as pl\n",
    "from pytorch_lightning.loggers import WandbLogger\n",
    "# from pytorch_lightning.loggers import TensorBoardLogger\n",
    "from pytorch_lightning.callbacks import ModelCheckpoint\n",
    "from pytorch_lightning.callbacks import EarlyStopping"
   ]
  },
  {
   "cell_type": "markdown",
   "metadata": {},
   "source": [
    "## config"
   ]
  },
  {
   "cell_type": "code",
   "execution_count": 2,
   "metadata": {},
   "outputs": [],
   "source": [
    "# config\n",
    "config = utils.load_config('config.yaml')\n",
    "\n",
    "# globals variable\n",
    "SEED = config['globals']['seed']\n",
    "MAX_EPOCHS = config['globals']['max_epochs']\n",
    "N_SPLITS = config['globals']['n_splits']\n",
    "USE_FOLDS = config['globals']['use_folds']\n",
    "DEBUG = config['globals']['debug']\n",
    "EXP_MESSAGE = config['globals']['exp_message']\n",
    "NOTES = config['globals']['notes']\n",
    "MODEL_SAVE = config['globals']['model_save']\n",
    "PRETRAINED = config['globals']['pretrained']\n",
    "PRETRAINED_PATH = config['globals']['pretrained_path']\n",
    "EXP_NAME = str(Path().resolve()).split('/')[-1]\n",
    "\n",
    "# seed\n",
    "utils.set_seed(SEED)"
   ]
  },
  {
   "cell_type": "code",
   "execution_count": 3,
   "metadata": {},
   "outputs": [
    {
     "output_type": "execute_result",
     "data": {
      "text/plain": [
       "'exp006'"
      ]
     },
     "metadata": {},
     "execution_count": 3
    }
   ],
   "source": [
    "EXP_NAME"
   ]
  },
  {
   "cell_type": "code",
   "execution_count": 4,
   "metadata": {},
   "outputs": [
    {
     "output_type": "stream",
     "name": "stdout",
     "text": [
      "\u001b[34m\u001b[1mwandb\u001b[0m: Appending key for api.wandb.ai to your netrc file: /home/kuzira/.netrc\n"
     ]
    }
   ],
   "source": [
    "!wandb login 1bb2d0449c11d8b987e25c38b9d8dda176310fb6"
   ]
  },
  {
   "cell_type": "markdown",
   "metadata": {},
   "source": [
    "## read data"
   ]
  },
  {
   "cell_type": "code",
   "execution_count": 5,
   "metadata": {},
   "outputs": [],
   "source": [
    "# waypointを補正したdataset\n",
    "root_dir = Path('../../input/')\n",
    "with open(root_dir/'kuto_wifi_dataset_v1/train_all.pkl', 'rb') as f:\n",
    "  train_df = pickle.load( f)\n",
    "\n",
    "with open(root_dir/'kuto_wifi_dataset_v1/test_all.pkl', 'rb') as f:\n",
    "  test_df = pickle.load(f)\n",
    "\n",
    "sub = pd.read_csv(root_dir/'indoor-location-navigation/sample_submission.csv', index_col=0)"
   ]
  },
  {
   "cell_type": "code",
   "execution_count": 6,
   "metadata": {},
   "outputs": [
    {
     "output_type": "execute_result",
     "data": {
      "text/plain": [
       "(258125, 210)"
      ]
     },
     "metadata": {},
     "execution_count": 6
    }
   ],
   "source": [
    "train_df.shape"
   ]
  },
  {
   "cell_type": "code",
   "execution_count": 7,
   "metadata": {},
   "outputs": [
    {
     "output_type": "execute_result",
     "data": {
      "text/plain": [
       "(25336, 235810)"
      ]
     },
     "metadata": {},
     "execution_count": 7
    }
   ],
   "source": [
    "train_df['x'].nunique(), train_df['wifi_x'].nunique()"
   ]
  },
  {
   "source": [
    "## time_diffの前処理\n",
    "0~3000sのものはwifi_x,wifi_yを使用  \n",
    "-1000s~0sのものはもともとのx.yを使用"
   ],
   "cell_type": "markdown",
   "metadata": {}
  },
  {
   "cell_type": "code",
   "execution_count": 8,
   "metadata": {},
   "outputs": [
    {
     "output_type": "execute_result",
     "data": {
      "text/plain": [
       "                                         bssid_0  \\\n",
       "0       ffe684dfd25a52b046e3108a3f70df46001425f0   \n",
       "1       97e4a381c3a02ed3151bbf41b8fc1fe5815f5387   \n",
       "2       97e4a381c3a02ed3151bbf41b8fc1fe5815f5387   \n",
       "3       97e4a381c3a02ed3151bbf41b8fc1fe5815f5387   \n",
       "4       97e4a381c3a02ed3151bbf41b8fc1fe5815f5387   \n",
       "...                                          ...   \n",
       "228691  993a56b32432fb19bfb4461a0e1a2ead9bcf192f   \n",
       "228692  773cde25cb4e9fd90b11603abd5bf84d83b340e6   \n",
       "228693  993a56b32432fb19bfb4461a0e1a2ead9bcf192f   \n",
       "228694  993a56b32432fb19bfb4461a0e1a2ead9bcf192f   \n",
       "228695  993a56b32432fb19bfb4461a0e1a2ead9bcf192f   \n",
       "\n",
       "                                         bssid_1  \\\n",
       "0       97e4a381c3a02ed3151bbf41b8fc1fe5815f5387   \n",
       "1       5b71ef95e53358c558b78bf3fb152d793729bc8d   \n",
       "2       6b769b9eeb24ff287e6a53736cc7c013d5902901   \n",
       "3       4328f33869766d0f77a9299441556338e4d8a2b9   \n",
       "4       4328f33869766d0f77a9299441556338e4d8a2b9   \n",
       "...                                          ...   \n",
       "228691  773cde25cb4e9fd90b11603abd5bf84d83b340e6   \n",
       "228692  993a56b32432fb19bfb4461a0e1a2ead9bcf192f   \n",
       "228693  773cde25cb4e9fd90b11603abd5bf84d83b340e6   \n",
       "228694  c7d8359344120911f8550487f282c241d93c4750   \n",
       "228695  c7d8359344120911f8550487f282c241d93c4750   \n",
       "\n",
       "                                         bssid_2  \\\n",
       "0       5b71ef95e53358c558b78bf3fb152d793729bc8d   \n",
       "1       cb8f53745c342e2bfd0bf77a5fd8cac6cf303945   \n",
       "2       cb8f53745c342e2bfd0bf77a5fd8cac6cf303945   \n",
       "3       3fef087dd272ab07981a60c9cbf6f27460d1364e   \n",
       "4       5a1a7a8496e5f8b88db082de0b412e447e01fd0b   \n",
       "...                                          ...   \n",
       "228691  19647ac7bb55a673554aa08cafb3b096aac7f32c   \n",
       "228692  19647ac7bb55a673554aa08cafb3b096aac7f32c   \n",
       "228693  c7d8359344120911f8550487f282c241d93c4750   \n",
       "228694  fc27c0656fc13157bb2f58543d51e8ee972fdf66   \n",
       "228695  773cde25cb4e9fd90b11603abd5bf84d83b340e6   \n",
       "\n",
       "                                         bssid_3  \\\n",
       "0       2f85d197aec7bfddfee3f53ae9e1b6ed1fc56e92   \n",
       "1       ffe684dfd25a52b046e3108a3f70df46001425f0   \n",
       "2       4328f33869766d0f77a9299441556338e4d8a2b9   \n",
       "3       5a1a7a8496e5f8b88db082de0b412e447e01fd0b   \n",
       "4       cb8f53745c342e2bfd0bf77a5fd8cac6cf303945   \n",
       "...                                          ...   \n",
       "228691  a4a410696cb935d542d62afd8e8090dbbc341a16   \n",
       "228692  fc27c0656fc13157bb2f58543d51e8ee972fdf66   \n",
       "228693  fc27c0656fc13157bb2f58543d51e8ee972fdf66   \n",
       "228694  773cde25cb4e9fd90b11603abd5bf84d83b340e6   \n",
       "228695  fc27c0656fc13157bb2f58543d51e8ee972fdf66   \n",
       "\n",
       "                                         bssid_4  \\\n",
       "0       4328f33869766d0f77a9299441556338e4d8a2b9   \n",
       "1       6b769b9eeb24ff287e6a53736cc7c013d5902901   \n",
       "2       3fef087dd272ab07981a60c9cbf6f27460d1364e   \n",
       "3       5d82171d37c5296bcaed8c02745540b491d8a284   \n",
       "4       6b769b9eeb24ff287e6a53736cc7c013d5902901   \n",
       "...                                          ...   \n",
       "228691  fc27c0656fc13157bb2f58543d51e8ee972fdf66   \n",
       "228692  a4a410696cb935d542d62afd8e8090dbbc341a16   \n",
       "228693  a4a410696cb935d542d62afd8e8090dbbc341a16   \n",
       "228694  a4a410696cb935d542d62afd8e8090dbbc341a16   \n",
       "228695  a4a410696cb935d542d62afd8e8090dbbc341a16   \n",
       "\n",
       "                                         bssid_5  \\\n",
       "0       df41c761b69993669d4eb875b4474ec44d2372ed   \n",
       "1       7dc49736770ee9073043134656c89a17529f882f   \n",
       "2       5a1a7a8496e5f8b88db082de0b412e447e01fd0b   \n",
       "3       471740ef5065943b791f277ada358f9ffc011645   \n",
       "4       5d82171d37c5296bcaed8c02745540b491d8a284   \n",
       "...                                          ...   \n",
       "228691  c7d8359344120911f8550487f282c241d93c4750   \n",
       "228692  827530050f580378b7aa53fb292dfb8a12b775e1   \n",
       "228693  827530050f580378b7aa53fb292dfb8a12b775e1   \n",
       "228694  064419dd1c862bc6c960b365fed666a1a5ff36a9   \n",
       "228695  827530050f580378b7aa53fb292dfb8a12b775e1   \n",
       "\n",
       "                                         bssid_6  \\\n",
       "0       7dc49736770ee9073043134656c89a17529f882f   \n",
       "1       3fef087dd272ab07981a60c9cbf6f27460d1364e   \n",
       "2       7dc49736770ee9073043134656c89a17529f882f   \n",
       "3       2f85d197aec7bfddfee3f53ae9e1b6ed1fc56e92   \n",
       "4       5b71ef95e53358c558b78bf3fb152d793729bc8d   \n",
       "...                                          ...   \n",
       "228691  26b22cce3b7694a7d765d9cf329b9065f3fb3a3c   \n",
       "228692  c7d8359344120911f8550487f282c241d93c4750   \n",
       "228693  d64eeb8d997e8d87203479556bbb9efaf7e487fd   \n",
       "228694  b08a1d79d6d4bb2ca71336f7e995c7aa1342aa1f   \n",
       "228695  19647ac7bb55a673554aa08cafb3b096aac7f32c   \n",
       "\n",
       "                                         bssid_7  \\\n",
       "0       5a1a7a8496e5f8b88db082de0b412e447e01fd0b   \n",
       "1       5a1a7a8496e5f8b88db082de0b412e447e01fd0b   \n",
       "2       df41c761b69993669d4eb875b4474ec44d2372ed   \n",
       "3       afe423c7bc0641d63c95e232ffd65cae3be95351   \n",
       "4       df41c761b69993669d4eb875b4474ec44d2372ed   \n",
       "...                                          ...   \n",
       "228691  827530050f580378b7aa53fb292dfb8a12b775e1   \n",
       "228692  d64eeb8d997e8d87203479556bbb9efaf7e487fd   \n",
       "228693  18874cb574f0cae84582df367941ad94d877ccbb   \n",
       "228694  3c43188acbcc9704dd3987cf1ef14906f9dbe444   \n",
       "228695  064419dd1c862bc6c960b365fed666a1a5ff36a9   \n",
       "\n",
       "                                         bssid_8  \\\n",
       "0       463d0cfe3748eb70524138ed970f03375e8d1030   \n",
       "1       df41c761b69993669d4eb875b4474ec44d2372ed   \n",
       "2       5b71ef95e53358c558b78bf3fb152d793729bc8d   \n",
       "3       df41c761b69993669d4eb875b4474ec44d2372ed   \n",
       "4       2f85d197aec7bfddfee3f53ae9e1b6ed1fc56e92   \n",
       "...                                          ...   \n",
       "228691  d64eeb8d997e8d87203479556bbb9efaf7e487fd   \n",
       "228692  b08a1d79d6d4bb2ca71336f7e995c7aa1342aa1f   \n",
       "228693  22a52f1717436ee378dc44b6d707a3816a65b5e4   \n",
       "228694  19647ac7bb55a673554aa08cafb3b096aac7f32c   \n",
       "228695  3c43188acbcc9704dd3987cf1ef14906f9dbe444   \n",
       "\n",
       "                                         bssid_9  ...      timestamp  \\\n",
       "0       79179095e63e2b0431e85e3e33b02d95bb135c2e  ...  1571625311855   \n",
       "1       d8b1ff62702e02106553be91dc22a0dcf0e780a7  ...  1571625311855   \n",
       "2       2f85d197aec7bfddfee3f53ae9e1b6ed1fc56e92  ...  1571625320099   \n",
       "3       5b71ef95e53358c558b78bf3fb152d793729bc8d  ...  1571625320099   \n",
       "4       afe423c7bc0641d63c95e232ffd65cae3be95351  ...  1571625320099   \n",
       "...                                          ...  ...            ...   \n",
       "228691  22a52f1717436ee378dc44b6d707a3816a65b5e4  ...  1573822164854   \n",
       "228692  26b22cce3b7694a7d765d9cf329b9065f3fb3a3c  ...  1573822164854   \n",
       "228693  3c43188acbcc9704dd3987cf1ef14906f9dbe444  ...  1573822173051   \n",
       "228694  cdc456af06dec9e63340fdf06b976b04eaa3a4a8  ...  1573822173051   \n",
       "228695  2ee4dca6f3705253eceaeecf2144083b14741d08  ...  1573822173051   \n",
       "\n",
       "                x          y floor floor_str                      path  \\\n",
       "0       68.064926  241.94000     0        F1  5dad1ca1dc3e2c0006606c3f   \n",
       "1       68.064926  241.94000     0        F1  5dad1ca1dc3e2c0006606c3f   \n",
       "2       62.480465  241.71216     0        F1  5dad1ca1dc3e2c0006606c3f   \n",
       "3       62.480465  241.71216     0        F1  5dad1ca1dc3e2c0006606c3f   \n",
       "4       62.480465  241.71216     0        F1  5dad1ca1dc3e2c0006606c3f   \n",
       "...           ...        ...   ...       ...                       ...   \n",
       "228691  12.662716  100.47756     1        F2  5dce9eea5516ad00065f04a7   \n",
       "228692  12.662716  100.47756     1        F2  5dce9eea5516ad00065f04a7   \n",
       "228693   7.799886  107.13921     1        F2  5dce9eea5516ad00065f04a7   \n",
       "228694   7.799886  107.13921     1        F2  5dce9eea5516ad00065f04a7   \n",
       "228695   7.799886  107.13921     1        F2  5dce9eea5516ad00065f04a7   \n",
       "\n",
       "       time_diff     wifi_x      wifi_y                   site_id  \n",
       "0           1952  67.055846  242.235341  5da958dd46f8266d0737457b  \n",
       "1           3900  63.620046  243.155369  5da958dd46f8266d0737457b  \n",
       "2          -2385  62.480465  241.712160  5da958dd46f8266d0737457b  \n",
       "3           -427  62.480465  241.712160  5da958dd46f8266d0737457b  \n",
       "4           1528  61.960799  241.710554  5da958dd46f8266d0737457b  \n",
       "...          ...        ...         ...                       ...  \n",
       "228691       447  12.053943  100.515005  5d27099f03f801723c32511d  \n",
       "228692      2393  10.895453  101.396328  5d27099f03f801723c32511d  \n",
       "228693     -3876   7.799886  107.139210  5d27099f03f801723c32511d  \n",
       "228694     -1946   7.799886  107.139210  5d27099f03f801723c32511d  \n",
       "228695       -17   7.799886  107.139210  5d27099f03f801723c32511d  \n",
       "\n",
       "[228696 rows x 210 columns]"
      ],
      "text/html": "<div>\n<style scoped>\n    .dataframe tbody tr th:only-of-type {\n        vertical-align: middle;\n    }\n\n    .dataframe tbody tr th {\n        vertical-align: top;\n    }\n\n    .dataframe thead th {\n        text-align: right;\n    }\n</style>\n<table border=\"1\" class=\"dataframe\">\n  <thead>\n    <tr style=\"text-align: right;\">\n      <th></th>\n      <th>bssid_0</th>\n      <th>bssid_1</th>\n      <th>bssid_2</th>\n      <th>bssid_3</th>\n      <th>bssid_4</th>\n      <th>bssid_5</th>\n      <th>bssid_6</th>\n      <th>bssid_7</th>\n      <th>bssid_8</th>\n      <th>bssid_9</th>\n      <th>...</th>\n      <th>timestamp</th>\n      <th>x</th>\n      <th>y</th>\n      <th>floor</th>\n      <th>floor_str</th>\n      <th>path</th>\n      <th>time_diff</th>\n      <th>wifi_x</th>\n      <th>wifi_y</th>\n      <th>site_id</th>\n    </tr>\n  </thead>\n  <tbody>\n    <tr>\n      <th>0</th>\n      <td>ffe684dfd25a52b046e3108a3f70df46001425f0</td>\n      <td>97e4a381c3a02ed3151bbf41b8fc1fe5815f5387</td>\n      <td>5b71ef95e53358c558b78bf3fb152d793729bc8d</td>\n      <td>2f85d197aec7bfddfee3f53ae9e1b6ed1fc56e92</td>\n      <td>4328f33869766d0f77a9299441556338e4d8a2b9</td>\n      <td>df41c761b69993669d4eb875b4474ec44d2372ed</td>\n      <td>7dc49736770ee9073043134656c89a17529f882f</td>\n      <td>5a1a7a8496e5f8b88db082de0b412e447e01fd0b</td>\n      <td>463d0cfe3748eb70524138ed970f03375e8d1030</td>\n      <td>79179095e63e2b0431e85e3e33b02d95bb135c2e</td>\n      <td>...</td>\n      <td>1571625311855</td>\n      <td>68.064926</td>\n      <td>241.94000</td>\n      <td>0</td>\n      <td>F1</td>\n      <td>5dad1ca1dc3e2c0006606c3f</td>\n      <td>1952</td>\n      <td>67.055846</td>\n      <td>242.235341</td>\n      <td>5da958dd46f8266d0737457b</td>\n    </tr>\n    <tr>\n      <th>1</th>\n      <td>97e4a381c3a02ed3151bbf41b8fc1fe5815f5387</td>\n      <td>5b71ef95e53358c558b78bf3fb152d793729bc8d</td>\n      <td>cb8f53745c342e2bfd0bf77a5fd8cac6cf303945</td>\n      <td>ffe684dfd25a52b046e3108a3f70df46001425f0</td>\n      <td>6b769b9eeb24ff287e6a53736cc7c013d5902901</td>\n      <td>7dc49736770ee9073043134656c89a17529f882f</td>\n      <td>3fef087dd272ab07981a60c9cbf6f27460d1364e</td>\n      <td>5a1a7a8496e5f8b88db082de0b412e447e01fd0b</td>\n      <td>df41c761b69993669d4eb875b4474ec44d2372ed</td>\n      <td>d8b1ff62702e02106553be91dc22a0dcf0e780a7</td>\n      <td>...</td>\n      <td>1571625311855</td>\n      <td>68.064926</td>\n      <td>241.94000</td>\n      <td>0</td>\n      <td>F1</td>\n      <td>5dad1ca1dc3e2c0006606c3f</td>\n      <td>3900</td>\n      <td>63.620046</td>\n      <td>243.155369</td>\n      <td>5da958dd46f8266d0737457b</td>\n    </tr>\n    <tr>\n      <th>2</th>\n      <td>97e4a381c3a02ed3151bbf41b8fc1fe5815f5387</td>\n      <td>6b769b9eeb24ff287e6a53736cc7c013d5902901</td>\n      <td>cb8f53745c342e2bfd0bf77a5fd8cac6cf303945</td>\n      <td>4328f33869766d0f77a9299441556338e4d8a2b9</td>\n      <td>3fef087dd272ab07981a60c9cbf6f27460d1364e</td>\n      <td>5a1a7a8496e5f8b88db082de0b412e447e01fd0b</td>\n      <td>7dc49736770ee9073043134656c89a17529f882f</td>\n      <td>df41c761b69993669d4eb875b4474ec44d2372ed</td>\n      <td>5b71ef95e53358c558b78bf3fb152d793729bc8d</td>\n      <td>2f85d197aec7bfddfee3f53ae9e1b6ed1fc56e92</td>\n      <td>...</td>\n      <td>1571625320099</td>\n      <td>62.480465</td>\n      <td>241.71216</td>\n      <td>0</td>\n      <td>F1</td>\n      <td>5dad1ca1dc3e2c0006606c3f</td>\n      <td>-2385</td>\n      <td>62.480465</td>\n      <td>241.712160</td>\n      <td>5da958dd46f8266d0737457b</td>\n    </tr>\n    <tr>\n      <th>3</th>\n      <td>97e4a381c3a02ed3151bbf41b8fc1fe5815f5387</td>\n      <td>4328f33869766d0f77a9299441556338e4d8a2b9</td>\n      <td>3fef087dd272ab07981a60c9cbf6f27460d1364e</td>\n      <td>5a1a7a8496e5f8b88db082de0b412e447e01fd0b</td>\n      <td>5d82171d37c5296bcaed8c02745540b491d8a284</td>\n      <td>471740ef5065943b791f277ada358f9ffc011645</td>\n      <td>2f85d197aec7bfddfee3f53ae9e1b6ed1fc56e92</td>\n      <td>afe423c7bc0641d63c95e232ffd65cae3be95351</td>\n      <td>df41c761b69993669d4eb875b4474ec44d2372ed</td>\n      <td>5b71ef95e53358c558b78bf3fb152d793729bc8d</td>\n      <td>...</td>\n      <td>1571625320099</td>\n      <td>62.480465</td>\n      <td>241.71216</td>\n      <td>0</td>\n      <td>F1</td>\n      <td>5dad1ca1dc3e2c0006606c3f</td>\n      <td>-427</td>\n      <td>62.480465</td>\n      <td>241.712160</td>\n      <td>5da958dd46f8266d0737457b</td>\n    </tr>\n    <tr>\n      <th>4</th>\n      <td>97e4a381c3a02ed3151bbf41b8fc1fe5815f5387</td>\n      <td>4328f33869766d0f77a9299441556338e4d8a2b9</td>\n      <td>5a1a7a8496e5f8b88db082de0b412e447e01fd0b</td>\n      <td>cb8f53745c342e2bfd0bf77a5fd8cac6cf303945</td>\n      <td>6b769b9eeb24ff287e6a53736cc7c013d5902901</td>\n      <td>5d82171d37c5296bcaed8c02745540b491d8a284</td>\n      <td>5b71ef95e53358c558b78bf3fb152d793729bc8d</td>\n      <td>df41c761b69993669d4eb875b4474ec44d2372ed</td>\n      <td>2f85d197aec7bfddfee3f53ae9e1b6ed1fc56e92</td>\n      <td>afe423c7bc0641d63c95e232ffd65cae3be95351</td>\n      <td>...</td>\n      <td>1571625320099</td>\n      <td>62.480465</td>\n      <td>241.71216</td>\n      <td>0</td>\n      <td>F1</td>\n      <td>5dad1ca1dc3e2c0006606c3f</td>\n      <td>1528</td>\n      <td>61.960799</td>\n      <td>241.710554</td>\n      <td>5da958dd46f8266d0737457b</td>\n    </tr>\n    <tr>\n      <th>...</th>\n      <td>...</td>\n      <td>...</td>\n      <td>...</td>\n      <td>...</td>\n      <td>...</td>\n      <td>...</td>\n      <td>...</td>\n      <td>...</td>\n      <td>...</td>\n      <td>...</td>\n      <td>...</td>\n      <td>...</td>\n      <td>...</td>\n      <td>...</td>\n      <td>...</td>\n      <td>...</td>\n      <td>...</td>\n      <td>...</td>\n      <td>...</td>\n      <td>...</td>\n      <td>...</td>\n    </tr>\n    <tr>\n      <th>228691</th>\n      <td>993a56b32432fb19bfb4461a0e1a2ead9bcf192f</td>\n      <td>773cde25cb4e9fd90b11603abd5bf84d83b340e6</td>\n      <td>19647ac7bb55a673554aa08cafb3b096aac7f32c</td>\n      <td>a4a410696cb935d542d62afd8e8090dbbc341a16</td>\n      <td>fc27c0656fc13157bb2f58543d51e8ee972fdf66</td>\n      <td>c7d8359344120911f8550487f282c241d93c4750</td>\n      <td>26b22cce3b7694a7d765d9cf329b9065f3fb3a3c</td>\n      <td>827530050f580378b7aa53fb292dfb8a12b775e1</td>\n      <td>d64eeb8d997e8d87203479556bbb9efaf7e487fd</td>\n      <td>22a52f1717436ee378dc44b6d707a3816a65b5e4</td>\n      <td>...</td>\n      <td>1573822164854</td>\n      <td>12.662716</td>\n      <td>100.47756</td>\n      <td>1</td>\n      <td>F2</td>\n      <td>5dce9eea5516ad00065f04a7</td>\n      <td>447</td>\n      <td>12.053943</td>\n      <td>100.515005</td>\n      <td>5d27099f03f801723c32511d</td>\n    </tr>\n    <tr>\n      <th>228692</th>\n      <td>773cde25cb4e9fd90b11603abd5bf84d83b340e6</td>\n      <td>993a56b32432fb19bfb4461a0e1a2ead9bcf192f</td>\n      <td>19647ac7bb55a673554aa08cafb3b096aac7f32c</td>\n      <td>fc27c0656fc13157bb2f58543d51e8ee972fdf66</td>\n      <td>a4a410696cb935d542d62afd8e8090dbbc341a16</td>\n      <td>827530050f580378b7aa53fb292dfb8a12b775e1</td>\n      <td>c7d8359344120911f8550487f282c241d93c4750</td>\n      <td>d64eeb8d997e8d87203479556bbb9efaf7e487fd</td>\n      <td>b08a1d79d6d4bb2ca71336f7e995c7aa1342aa1f</td>\n      <td>26b22cce3b7694a7d765d9cf329b9065f3fb3a3c</td>\n      <td>...</td>\n      <td>1573822164854</td>\n      <td>12.662716</td>\n      <td>100.47756</td>\n      <td>1</td>\n      <td>F2</td>\n      <td>5dce9eea5516ad00065f04a7</td>\n      <td>2393</td>\n      <td>10.895453</td>\n      <td>101.396328</td>\n      <td>5d27099f03f801723c32511d</td>\n    </tr>\n    <tr>\n      <th>228693</th>\n      <td>993a56b32432fb19bfb4461a0e1a2ead9bcf192f</td>\n      <td>773cde25cb4e9fd90b11603abd5bf84d83b340e6</td>\n      <td>c7d8359344120911f8550487f282c241d93c4750</td>\n      <td>fc27c0656fc13157bb2f58543d51e8ee972fdf66</td>\n      <td>a4a410696cb935d542d62afd8e8090dbbc341a16</td>\n      <td>827530050f580378b7aa53fb292dfb8a12b775e1</td>\n      <td>d64eeb8d997e8d87203479556bbb9efaf7e487fd</td>\n      <td>18874cb574f0cae84582df367941ad94d877ccbb</td>\n      <td>22a52f1717436ee378dc44b6d707a3816a65b5e4</td>\n      <td>3c43188acbcc9704dd3987cf1ef14906f9dbe444</td>\n      <td>...</td>\n      <td>1573822173051</td>\n      <td>7.799886</td>\n      <td>107.13921</td>\n      <td>1</td>\n      <td>F2</td>\n      <td>5dce9eea5516ad00065f04a7</td>\n      <td>-3876</td>\n      <td>7.799886</td>\n      <td>107.139210</td>\n      <td>5d27099f03f801723c32511d</td>\n    </tr>\n    <tr>\n      <th>228694</th>\n      <td>993a56b32432fb19bfb4461a0e1a2ead9bcf192f</td>\n      <td>c7d8359344120911f8550487f282c241d93c4750</td>\n      <td>fc27c0656fc13157bb2f58543d51e8ee972fdf66</td>\n      <td>773cde25cb4e9fd90b11603abd5bf84d83b340e6</td>\n      <td>a4a410696cb935d542d62afd8e8090dbbc341a16</td>\n      <td>064419dd1c862bc6c960b365fed666a1a5ff36a9</td>\n      <td>b08a1d79d6d4bb2ca71336f7e995c7aa1342aa1f</td>\n      <td>3c43188acbcc9704dd3987cf1ef14906f9dbe444</td>\n      <td>19647ac7bb55a673554aa08cafb3b096aac7f32c</td>\n      <td>cdc456af06dec9e63340fdf06b976b04eaa3a4a8</td>\n      <td>...</td>\n      <td>1573822173051</td>\n      <td>7.799886</td>\n      <td>107.13921</td>\n      <td>1</td>\n      <td>F2</td>\n      <td>5dce9eea5516ad00065f04a7</td>\n      <td>-1946</td>\n      <td>7.799886</td>\n      <td>107.139210</td>\n      <td>5d27099f03f801723c32511d</td>\n    </tr>\n    <tr>\n      <th>228695</th>\n      <td>993a56b32432fb19bfb4461a0e1a2ead9bcf192f</td>\n      <td>c7d8359344120911f8550487f282c241d93c4750</td>\n      <td>773cde25cb4e9fd90b11603abd5bf84d83b340e6</td>\n      <td>fc27c0656fc13157bb2f58543d51e8ee972fdf66</td>\n      <td>a4a410696cb935d542d62afd8e8090dbbc341a16</td>\n      <td>827530050f580378b7aa53fb292dfb8a12b775e1</td>\n      <td>19647ac7bb55a673554aa08cafb3b096aac7f32c</td>\n      <td>064419dd1c862bc6c960b365fed666a1a5ff36a9</td>\n      <td>3c43188acbcc9704dd3987cf1ef14906f9dbe444</td>\n      <td>2ee4dca6f3705253eceaeecf2144083b14741d08</td>\n      <td>...</td>\n      <td>1573822173051</td>\n      <td>7.799886</td>\n      <td>107.13921</td>\n      <td>1</td>\n      <td>F2</td>\n      <td>5dce9eea5516ad00065f04a7</td>\n      <td>-17</td>\n      <td>7.799886</td>\n      <td>107.139210</td>\n      <td>5d27099f03f801723c32511d</td>\n    </tr>\n  </tbody>\n</table>\n<p>228696 rows × 210 columns</p>\n</div>"
     },
     "metadata": {},
     "execution_count": 8
    }
   ],
   "source": [
    "POSI_DIFF = 4000  # i番目のwaypointを基準に算出したwifi waypointのうち基準のtimestampの直近3sを信頼できるデータとして残す\n",
    "NEGA_DIFF = -100000  # i番目のwaypointを基準に算出したwifi waypointのうちi+1番目のwaypointに近いものにはi+1のwaypointを座標として与える\n",
    "\n",
    "train_df.loc[(NEGA_DIFF < train_df['time_diff']) & (train_df['time_diff'] <= 0), 'wifi_x'] = train_df.loc[(NEGA_DIFF< train_df['time_diff']) & (train_df['time_diff'] <= 0), 'x']\n",
    "train_df.loc[(NEGA_DIFF < train_df['time_diff']) & (train_df['time_diff'] <= 0), 'wifi_y'] = train_df.loc[(NEGA_DIFF < train_df['time_diff']) & (train_df['time_diff'] <= 0), 'y']\n",
    "train_df = train_df[(NEGA_DIFF < train_df['time_diff']) & (train_df['time_diff'] < POSI_DIFF)].reset_index(drop=True)\n",
    "train_df"
   ]
  },
  {
   "cell_type": "markdown",
   "metadata": {},
   "source": [
    "BSSIDとRSSIは100ずつ存在しているけど全てが必要なわけではないみたい  \n",
    "ここでは20だけ取り出している。"
   ]
  },
  {
   "cell_type": "code",
   "execution_count": 9,
   "metadata": {},
   "outputs": [],
   "source": [
    "# training target features\n",
    "NUM_FEATS = 80\n",
    "BSSID_FEATS = [f'bssid_{i}' for i in range(NUM_FEATS)]\n",
    "RSSI_FEATS  = [f'rssi_{i}' for i in range(NUM_FEATS)]"
   ]
  },
  {
   "cell_type": "markdown",
   "metadata": {},
   "source": [
    "bssid_NはN個目のBSSIDを示しておりRSSI値が大きい順に番号が振られている。\n",
    "100個しかない\n"
   ]
  },
  {
   "cell_type": "code",
   "execution_count": 10,
   "metadata": {},
   "outputs": [
    {
     "output_type": "stream",
     "name": "stdout",
     "text": [
      "BSSID TYPES(train): 41263\nBSSID TYPES(test): 28592\nBSSID TYPES(all): 41277\n"
     ]
    }
   ],
   "source": [
    "# get numbers of bssids to embed them in a layer\n",
    "\n",
    "# train\n",
    "wifi_bssids = []\n",
    "# bssidを列ごとにリストに入れていく\n",
    "for i in range(100):\n",
    "    wifi_bssids.extend(train_df.iloc[:,i].values.tolist())\n",
    "wifi_bssids = list(set(wifi_bssids))\n",
    "\n",
    "train_wifi_bssids_size = len(wifi_bssids)\n",
    "print(f'BSSID TYPES(train): {train_wifi_bssids_size}')\n",
    "\n",
    "# test\n",
    "wifi_bssids_test = []\n",
    "for i in range(100):\n",
    "    wifi_bssids_test.extend(test_df.iloc[:,i].values.tolist())\n",
    "wifi_bssids_test = list(set(wifi_bssids_test))\n",
    "\n",
    "test_wifi_bssids_size = len(wifi_bssids_test)\n",
    "print(f'BSSID TYPES(test): {test_wifi_bssids_size}')\n",
    "\n",
    "\n",
    "wifi_bssids.extend(wifi_bssids_test)\n",
    "wifi_bssids = list(set(wifi_bssids))\n",
    "wifi_bssids_size = len(wifi_bssids)\n",
    "print(f'BSSID TYPES(all): {wifi_bssids_size}')\n"
   ]
  },
  {
   "cell_type": "markdown",
   "metadata": {},
   "source": [
    "## preprocessing"
   ]
  },
  {
   "cell_type": "code",
   "execution_count": 11,
   "metadata": {},
   "outputs": [],
   "source": [
    "# preprocess\n",
    "\n",
    "le = LabelEncoder()\n",
    "le.fit(wifi_bssids)\n",
    "le_site = LabelEncoder()\n",
    "le_site.fit(train_df['site_id'])\n",
    "\n",
    "ss = StandardScaler()\n",
    "ss.fit(train_df.loc[:,RSSI_FEATS])\n",
    "\n",
    "\n",
    "def preprocess(input_df, le=le, le_site=le_site, ss=ss):\n",
    "    output_df = input_df.copy()\n",
    "    # RSSIの正規化\n",
    "    output_df.loc[:,RSSI_FEATS] = ss.transform(input_df.loc[:,RSSI_FEATS])\n",
    "\n",
    "    # BSSIDのLE(1からふる)\n",
    "    for i in BSSID_FEATS:\n",
    "        output_df.loc[:,i] = le.transform(input_df.loc[:,i])\n",
    "        output_df.loc[:,i] = output_df.loc[:,i] + 1  # 0からではなく1から番号を振りたいため なぜ？ embeddingのpadding用のダミー変数？\n",
    "\n",
    "    # site_idのLE\n",
    "    output_df.loc[:, 'site_id'] = le_site.transform(input_df.loc[:, 'site_id'])\n",
    "\n",
    "    # なぜ２重でやる？\n",
    "    # output_df.loc[:,RSSI_FEATS] = ss.transform(output_df.loc[:,RSSI_FEATS])\n",
    "    return output_df\n",
    "\n",
    "train = preprocess(train_df)\n",
    "test = preprocess(test_df)\n",
    "\n",
    "    "
   ]
  },
  {
   "cell_type": "code",
   "execution_count": 12,
   "metadata": {},
   "outputs": [
    {
     "output_type": "execute_result",
     "data": {
      "text/plain": [
       "24"
      ]
     },
     "metadata": {},
     "execution_count": 12
    }
   ],
   "source": [
    "site_count = len(train['site_id'].unique())\n",
    "site_count"
   ]
  },
  {
   "cell_type": "code",
   "execution_count": 13,
   "metadata": {},
   "outputs": [
    {
     "output_type": "execute_result",
     "data": {
      "text/plain": [
       "        bssid_0  bssid_1  bssid_2  bssid_3  bssid_4  bssid_5  bssid_6  \\\n",
       "0         41259    24542    14848     7716    10988    35935    20286   \n",
       "1         24542    14848    32846    41259    17436    20286    10464   \n",
       "2         24542    17436    32846    10988    10464    14608    20286   \n",
       "3         24542    10988    10464    14608    15167    11611     7716   \n",
       "4         24542    10988    14608    32846    17436    15167    14848   \n",
       "...         ...      ...      ...      ...      ...      ...      ...   \n",
       "228691    24747    19255     4142    26529    40613    32256     6218   \n",
       "228692    19255    24747     4142    40613    26529    21026    32256   \n",
       "228693    24747    19255    32256    40613    26529    21026    34574   \n",
       "228694    24747    32256    40613    19255    26529     1031    28479   \n",
       "228695    24747    32256    19255    40613    26529    21026     4142   \n",
       "\n",
       "        bssid_7  bssid_8  bssid_9  ...      timestamp          x          y  \\\n",
       "0         14608    11474    19548  ...  1571625311855  68.064926  241.94000   \n",
       "1         14608    35935    34935  ...  1571625311855  68.064926  241.94000   \n",
       "2         35935    14848     7716  ...  1571625320099  62.480465  241.71216   \n",
       "3         28375    35935    14848  ...  1571625320099  62.480465  241.71216   \n",
       "4         35935     7716    28375  ...  1571625320099  62.480465  241.71216   \n",
       "...         ...      ...      ...  ...            ...        ...        ...   \n",
       "228691    21026    34574     5611  ...  1573822164854  12.662716  100.47756   \n",
       "228692    34574    28479     6218  ...  1573822164854  12.662716  100.47756   \n",
       "228693     4008     5611     9850  ...  1573822173051   7.799886  107.13921   \n",
       "228694     9850     4142    33217  ...  1573822173051   7.799886  107.13921   \n",
       "228695     1031     9850     7589  ...  1573822173051   7.799886  107.13921   \n",
       "\n",
       "        floor  floor_str                      path  time_diff     wifi_x  \\\n",
       "0           0         F1  5dad1ca1dc3e2c0006606c3f       1952  67.055846   \n",
       "1           0         F1  5dad1ca1dc3e2c0006606c3f       3900  63.620046   \n",
       "2           0         F1  5dad1ca1dc3e2c0006606c3f      -2385  62.480465   \n",
       "3           0         F1  5dad1ca1dc3e2c0006606c3f       -427  62.480465   \n",
       "4           0         F1  5dad1ca1dc3e2c0006606c3f       1528  61.960799   \n",
       "...       ...        ...                       ...        ...        ...   \n",
       "228691      1         F2  5dce9eea5516ad00065f04a7        447  12.053943   \n",
       "228692      1         F2  5dce9eea5516ad00065f04a7       2393  10.895453   \n",
       "228693      1         F2  5dce9eea5516ad00065f04a7      -3876   7.799886   \n",
       "228694      1         F2  5dce9eea5516ad00065f04a7      -1946   7.799886   \n",
       "228695      1         F2  5dce9eea5516ad00065f04a7        -17   7.799886   \n",
       "\n",
       "            wifi_y  site_id  \n",
       "0       242.235341       21  \n",
       "1       243.155369       21  \n",
       "2       241.712160       21  \n",
       "3       241.712160       21  \n",
       "4       241.710554       21  \n",
       "...            ...      ...  \n",
       "228691  100.515005        5  \n",
       "228692  101.396328        5  \n",
       "228693  107.139210        5  \n",
       "228694  107.139210        5  \n",
       "228695  107.139210        5  \n",
       "\n",
       "[228696 rows x 210 columns]"
      ],
      "text/html": "<div>\n<style scoped>\n    .dataframe tbody tr th:only-of-type {\n        vertical-align: middle;\n    }\n\n    .dataframe tbody tr th {\n        vertical-align: top;\n    }\n\n    .dataframe thead th {\n        text-align: right;\n    }\n</style>\n<table border=\"1\" class=\"dataframe\">\n  <thead>\n    <tr style=\"text-align: right;\">\n      <th></th>\n      <th>bssid_0</th>\n      <th>bssid_1</th>\n      <th>bssid_2</th>\n      <th>bssid_3</th>\n      <th>bssid_4</th>\n      <th>bssid_5</th>\n      <th>bssid_6</th>\n      <th>bssid_7</th>\n      <th>bssid_8</th>\n      <th>bssid_9</th>\n      <th>...</th>\n      <th>timestamp</th>\n      <th>x</th>\n      <th>y</th>\n      <th>floor</th>\n      <th>floor_str</th>\n      <th>path</th>\n      <th>time_diff</th>\n      <th>wifi_x</th>\n      <th>wifi_y</th>\n      <th>site_id</th>\n    </tr>\n  </thead>\n  <tbody>\n    <tr>\n      <th>0</th>\n      <td>41259</td>\n      <td>24542</td>\n      <td>14848</td>\n      <td>7716</td>\n      <td>10988</td>\n      <td>35935</td>\n      <td>20286</td>\n      <td>14608</td>\n      <td>11474</td>\n      <td>19548</td>\n      <td>...</td>\n      <td>1571625311855</td>\n      <td>68.064926</td>\n      <td>241.94000</td>\n      <td>0</td>\n      <td>F1</td>\n      <td>5dad1ca1dc3e2c0006606c3f</td>\n      <td>1952</td>\n      <td>67.055846</td>\n      <td>242.235341</td>\n      <td>21</td>\n    </tr>\n    <tr>\n      <th>1</th>\n      <td>24542</td>\n      <td>14848</td>\n      <td>32846</td>\n      <td>41259</td>\n      <td>17436</td>\n      <td>20286</td>\n      <td>10464</td>\n      <td>14608</td>\n      <td>35935</td>\n      <td>34935</td>\n      <td>...</td>\n      <td>1571625311855</td>\n      <td>68.064926</td>\n      <td>241.94000</td>\n      <td>0</td>\n      <td>F1</td>\n      <td>5dad1ca1dc3e2c0006606c3f</td>\n      <td>3900</td>\n      <td>63.620046</td>\n      <td>243.155369</td>\n      <td>21</td>\n    </tr>\n    <tr>\n      <th>2</th>\n      <td>24542</td>\n      <td>17436</td>\n      <td>32846</td>\n      <td>10988</td>\n      <td>10464</td>\n      <td>14608</td>\n      <td>20286</td>\n      <td>35935</td>\n      <td>14848</td>\n      <td>7716</td>\n      <td>...</td>\n      <td>1571625320099</td>\n      <td>62.480465</td>\n      <td>241.71216</td>\n      <td>0</td>\n      <td>F1</td>\n      <td>5dad1ca1dc3e2c0006606c3f</td>\n      <td>-2385</td>\n      <td>62.480465</td>\n      <td>241.712160</td>\n      <td>21</td>\n    </tr>\n    <tr>\n      <th>3</th>\n      <td>24542</td>\n      <td>10988</td>\n      <td>10464</td>\n      <td>14608</td>\n      <td>15167</td>\n      <td>11611</td>\n      <td>7716</td>\n      <td>28375</td>\n      <td>35935</td>\n      <td>14848</td>\n      <td>...</td>\n      <td>1571625320099</td>\n      <td>62.480465</td>\n      <td>241.71216</td>\n      <td>0</td>\n      <td>F1</td>\n      <td>5dad1ca1dc3e2c0006606c3f</td>\n      <td>-427</td>\n      <td>62.480465</td>\n      <td>241.712160</td>\n      <td>21</td>\n    </tr>\n    <tr>\n      <th>4</th>\n      <td>24542</td>\n      <td>10988</td>\n      <td>14608</td>\n      <td>32846</td>\n      <td>17436</td>\n      <td>15167</td>\n      <td>14848</td>\n      <td>35935</td>\n      <td>7716</td>\n      <td>28375</td>\n      <td>...</td>\n      <td>1571625320099</td>\n      <td>62.480465</td>\n      <td>241.71216</td>\n      <td>0</td>\n      <td>F1</td>\n      <td>5dad1ca1dc3e2c0006606c3f</td>\n      <td>1528</td>\n      <td>61.960799</td>\n      <td>241.710554</td>\n      <td>21</td>\n    </tr>\n    <tr>\n      <th>...</th>\n      <td>...</td>\n      <td>...</td>\n      <td>...</td>\n      <td>...</td>\n      <td>...</td>\n      <td>...</td>\n      <td>...</td>\n      <td>...</td>\n      <td>...</td>\n      <td>...</td>\n      <td>...</td>\n      <td>...</td>\n      <td>...</td>\n      <td>...</td>\n      <td>...</td>\n      <td>...</td>\n      <td>...</td>\n      <td>...</td>\n      <td>...</td>\n      <td>...</td>\n      <td>...</td>\n    </tr>\n    <tr>\n      <th>228691</th>\n      <td>24747</td>\n      <td>19255</td>\n      <td>4142</td>\n      <td>26529</td>\n      <td>40613</td>\n      <td>32256</td>\n      <td>6218</td>\n      <td>21026</td>\n      <td>34574</td>\n      <td>5611</td>\n      <td>...</td>\n      <td>1573822164854</td>\n      <td>12.662716</td>\n      <td>100.47756</td>\n      <td>1</td>\n      <td>F2</td>\n      <td>5dce9eea5516ad00065f04a7</td>\n      <td>447</td>\n      <td>12.053943</td>\n      <td>100.515005</td>\n      <td>5</td>\n    </tr>\n    <tr>\n      <th>228692</th>\n      <td>19255</td>\n      <td>24747</td>\n      <td>4142</td>\n      <td>40613</td>\n      <td>26529</td>\n      <td>21026</td>\n      <td>32256</td>\n      <td>34574</td>\n      <td>28479</td>\n      <td>6218</td>\n      <td>...</td>\n      <td>1573822164854</td>\n      <td>12.662716</td>\n      <td>100.47756</td>\n      <td>1</td>\n      <td>F2</td>\n      <td>5dce9eea5516ad00065f04a7</td>\n      <td>2393</td>\n      <td>10.895453</td>\n      <td>101.396328</td>\n      <td>5</td>\n    </tr>\n    <tr>\n      <th>228693</th>\n      <td>24747</td>\n      <td>19255</td>\n      <td>32256</td>\n      <td>40613</td>\n      <td>26529</td>\n      <td>21026</td>\n      <td>34574</td>\n      <td>4008</td>\n      <td>5611</td>\n      <td>9850</td>\n      <td>...</td>\n      <td>1573822173051</td>\n      <td>7.799886</td>\n      <td>107.13921</td>\n      <td>1</td>\n      <td>F2</td>\n      <td>5dce9eea5516ad00065f04a7</td>\n      <td>-3876</td>\n      <td>7.799886</td>\n      <td>107.139210</td>\n      <td>5</td>\n    </tr>\n    <tr>\n      <th>228694</th>\n      <td>24747</td>\n      <td>32256</td>\n      <td>40613</td>\n      <td>19255</td>\n      <td>26529</td>\n      <td>1031</td>\n      <td>28479</td>\n      <td>9850</td>\n      <td>4142</td>\n      <td>33217</td>\n      <td>...</td>\n      <td>1573822173051</td>\n      <td>7.799886</td>\n      <td>107.13921</td>\n      <td>1</td>\n      <td>F2</td>\n      <td>5dce9eea5516ad00065f04a7</td>\n      <td>-1946</td>\n      <td>7.799886</td>\n      <td>107.139210</td>\n      <td>5</td>\n    </tr>\n    <tr>\n      <th>228695</th>\n      <td>24747</td>\n      <td>32256</td>\n      <td>19255</td>\n      <td>40613</td>\n      <td>26529</td>\n      <td>21026</td>\n      <td>4142</td>\n      <td>1031</td>\n      <td>9850</td>\n      <td>7589</td>\n      <td>...</td>\n      <td>1573822173051</td>\n      <td>7.799886</td>\n      <td>107.13921</td>\n      <td>1</td>\n      <td>F2</td>\n      <td>5dce9eea5516ad00065f04a7</td>\n      <td>-17</td>\n      <td>7.799886</td>\n      <td>107.139210</td>\n      <td>5</td>\n    </tr>\n  </tbody>\n</table>\n<p>228696 rows × 210 columns</p>\n</div>"
     },
     "metadata": {},
     "execution_count": 13
    }
   ],
   "source": [
    "train"
   ]
  },
  {
   "cell_type": "markdown",
   "metadata": {},
   "source": [
    "## PyTorch model\n",
    "- embedding layerが重要  "
   ]
  },
  {
   "cell_type": "code",
   "execution_count": 14,
   "metadata": {},
   "outputs": [],
   "source": [
    "# dataset\n",
    "from torch.utils.data import Dataset, DataLoader\n",
    "class IndoorDataset(Dataset):\n",
    "    def __init__(self, df, phase='train'):\n",
    "        self.df = df\n",
    "        self.phase = phase\n",
    "        self.bssid_feats = df[BSSID_FEATS].values.astype(int)\n",
    "        self.rssi_feats = df[RSSI_FEATS].values.astype(np.float32)\n",
    "        self.site_id = df['site_id'].values.astype(int)\n",
    "\n",
    "        if phase in ['train', 'valid']:\n",
    "            # self.xy = df[['x', 'y']].values.astype(np.float32)\n",
    "            self.xy = df[['wifi_x', 'wifi_y']].values.astype(np.float32)  # wifiにより補正したx,yを使用\n",
    "            self.floor = df['floor'].values.astype(np.float32)\n",
    "        \n",
    "    def __len__(self):\n",
    "        return self.df.shape[0]\n",
    "\n",
    "    def __getitem__(self, idx):\n",
    "        \n",
    "        feature = {\n",
    "            'BSSID_FEATS':self.bssid_feats[idx],\n",
    "            'RSSI_FEATS':self.rssi_feats[idx],\n",
    "            'site_id':self.site_id[idx]\n",
    "        }\n",
    "        if self.phase in ['train', 'valid']:\n",
    "            target = {\n",
    "                'xy':self.xy[idx],\n",
    "                'floor':self.floor[idx]\n",
    "            }\n",
    "        else:\n",
    "            target = {}\n",
    "        return feature, target"
   ]
  },
  {
   "cell_type": "code",
   "execution_count": 15,
   "metadata": {},
   "outputs": [],
   "source": [
    "import torch\n",
    "from torch import nn\n",
    "\n",
    "class LSTMModel(nn.Module):\n",
    "    def __init__(self, wifi_bssids_size, site_count=24, embedding_dim=64):\n",
    "        super(LSTMModel, self).__init__()\n",
    "        # bssid\n",
    "        # ->64次元に圧縮後sequence化にする\n",
    "        # wifi_bssids_sizeが辞書の数を表す\n",
    "        self.embedding_layer1 = nn.Sequential(\n",
    "            nn.Embedding(wifi_bssids_size, embedding_dim),\n",
    "            nn.Flatten(start_dim=-2)            \n",
    "        )\n",
    "        # site\n",
    "        # ->2次元に圧縮後sequence化する\n",
    "        # site_countが辞書の数を表す\n",
    "        self.embedding_layer2 = nn.Sequential(\n",
    "            nn.Embedding(site_count, 2),\n",
    "            nn.Flatten(start_dim=-1)           \n",
    "        )\n",
    "\n",
    "        # rssi\n",
    "        # 次元を64倍に線形変換\n",
    "        self.linear_layer1 = nn.Sequential(\n",
    "            nn.BatchNorm1d(NUM_FEATS),\n",
    "            nn.Linear(NUM_FEATS, NUM_FEATS * embedding_dim),\n",
    "            nn.ReLU()\n",
    "        )\n",
    "        \n",
    "        # bssid, site, rssiの出力size\n",
    "        feature_size = 2 + (2 * NUM_FEATS * embedding_dim)\n",
    "        self.linear_layer2 = nn.Sequential(\n",
    "            nn.BatchNorm1d(feature_size),\n",
    "            nn.Dropout(0.3),\n",
    "            nn.Linear(feature_size, 256),\n",
    "            nn.ReLU()\n",
    "        )\n",
    "\n",
    "        self.batch_norm1 = nn.BatchNorm1d(1)\n",
    "        self.lstm1 = nn.LSTM(input_size=256,hidden_size=128,dropout=0.3, batch_first=True)\n",
    "        self.lstm2 = nn.LSTM(input_size=128,hidden_size=16,dropout=0.1, batch_first=True)\n",
    "\n",
    "        self.fc_xy = nn.Linear(16, 2)\n",
    "        # self.fc_x = nn.Linear(16, 1)\n",
    "        # self.fc_y = nn.Linear(16, 1)\n",
    "        self.fc_floor = nn.Linear(16, 1)\n",
    "\n",
    "    \n",
    "    def forward(self, x):\n",
    "        # input embedding\n",
    "        batch_size = x[\"site_id\"].shape[0]\n",
    "        x_bssid = self.embedding_layer1(x['BSSID_FEATS'])\n",
    "        x_site_id = self.embedding_layer2(x['site_id'])\n",
    "        x_rssi = self.linear_layer1(x['RSSI_FEATS'])\n",
    "        x = torch.cat([x_bssid, x_site_id, x_rssi], dim=-1)\n",
    "        x = self.linear_layer2(x)\n",
    "\n",
    "        # lstm layer\n",
    "        x = x.view(batch_size, 1, -1)  # [batch, 1]->[batch, 1, 1]\n",
    "        x = self.batch_norm1(x)\n",
    "        x, _ = self.lstm1(x)\n",
    "        x = torch.relu(x)\n",
    "        x, _ = self.lstm2(x)\n",
    "        x = torch.relu(x)\n",
    "\n",
    "        # output [batch, 1, 1] -> [batch]\n",
    "        # x_ = self.fc_x(x).view(-1)\n",
    "        # y_ = self.fc_y(x).view(-1)\n",
    "        xy = self.fc_xy(x).squeeze(1)\n",
    "        floor = torch.relu(self.fc_floor(x)).view(-1)\n",
    "        # return {\"x\":x_, \"y\":y_, \"floor\":floor} \n",
    "        return {\"xy\": xy, \"floor\": floor}"
   ]
  },
  {
   "cell_type": "code",
   "execution_count": 16,
   "metadata": {},
   "outputs": [],
   "source": [
    "def mean_position_error(xhat, yhat, fhat, x, y, f):\n",
    "    intermediate = np.sqrt(np.power(xhat-x, 2) + np.power(yhat-y, 2)) + 15 * np.abs(fhat-f)\n",
    "    return intermediate.sum()/xhat.shape[0]\n",
    "\n",
    "def to_np(input):\n",
    "    return input.detach().cpu().numpy()"
   ]
  },
  {
   "cell_type": "code",
   "execution_count": 17,
   "metadata": {},
   "outputs": [],
   "source": [
    "def get_optimizer(model: nn.Module, config: dict):\n",
    "    optimizer_config = config[\"optimizer\"]\n",
    "    optimizer_name = optimizer_config.get(\"name\")\n",
    "    base_optimizer_name = optimizer_config.get(\"base_name\")\n",
    "    optimizer_params = optimizer_config['params']\n",
    "\n",
    "    if hasattr(optim, optimizer_name):\n",
    "        optimizer = optim.__getattribute__(optimizer_name)(model.parameters(), **optimizer_params)\n",
    "        return optimizer\n",
    "    else:\n",
    "        base_optimizer = optim.__getattribute__(base_optimizer_name)\n",
    "        optimizer = globals().get(optimizer_name)(\n",
    "            model.parameters(), \n",
    "            base_optimizer,\n",
    "            **optimizer_config[\"params\"])\n",
    "        return  optimizer\n",
    "\n",
    "def get_scheduler(optimizer, config: dict):\n",
    "    scheduler_config = config[\"scheduler\"]\n",
    "    scheduler_name = scheduler_config.get(\"name\")\n",
    "\n",
    "    if scheduler_name is None:\n",
    "        return\n",
    "    else:\n",
    "        return optim.lr_scheduler.__getattribute__(scheduler_name)(\n",
    "            optimizer, **scheduler_config[\"params\"])\n",
    "\n",
    "\n",
    "def get_criterion(config: dict):\n",
    "    loss_config = config[\"loss\"]\n",
    "    loss_name = loss_config[\"name\"]\n",
    "    loss_params = {} if loss_config.get(\"params\") is None else loss_config.get(\"params\")\n",
    "    if hasattr(nn, loss_name):\n",
    "        criterion = nn.__getattribute__(loss_name)(**loss_params)\n",
    "    else:\n",
    "        criterion = globals().get(loss_name)(**loss_params)\n",
    "\n",
    "    return criterion\n",
    "\n",
    "def worker_init_fn(worker_id):                                                          \n",
    "    np.random.seed(np.random.get_state()[1][0] + worker_id)"
   ]
  },
  {
   "cell_type": "code",
   "execution_count": 18,
   "metadata": {},
   "outputs": [],
   "source": [
    "# Learner class(pytorch-lighting)\n",
    "class Learner(pl.LightningModule):\n",
    "    def __init__(self, model, config):\n",
    "        super().__init__()\n",
    "        self.model = model\n",
    "        self.config = config\n",
    "        self.xy_criterion = get_criterion(config)\n",
    "        self.f_criterion = get_criterion(config)\n",
    "    \n",
    "    def training_step(self, batch, batch_idx):\n",
    "        x, y = batch\n",
    "        output = self.model(x)\n",
    "        loss = self.xy_criterion(output[\"xy\"], y[\"xy\"])\n",
    "        return loss\n",
    "    \n",
    "    def validation_step(self, batch, batch_idx):\n",
    "        x, y = batch\n",
    "        output = self.model(x)\n",
    "        xy_loss = self.xy_criterion(output[\"xy\"], y[\"xy\"])\n",
    "        f_loss = self.f_criterion(output[\"floor\"], y[\"floor\"])\n",
    "        loss = xy_loss  # + f_loss\n",
    "        mpe = mean_position_error(\n",
    "            to_np(output['xy'][:, 0]), to_np(output['xy'][:, 1]), 0, \n",
    "            to_np(y['xy'][:, 0]), to_np(y['xy'][:, 1]), 0)\n",
    "        \n",
    "        # floor lossは現状は無視して良い\n",
    "        self.log(f'Loss/val', loss, on_step=False, on_epoch=True, prog_bar=False, logger=True)\n",
    "        self.log(f'Loss/xy', xy_loss, on_step=False, on_epoch=True, prog_bar=False, logger=True)\n",
    "        self.log(f'Loss/floor', f_loss, on_step=False, on_epoch=True, prog_bar=False, logger=True)\n",
    "        self.log(f'MPE/val', mpe, on_step=False, on_epoch=True, prog_bar=False, logger=True)\n",
    "        return loss\n",
    "\n",
    "    def configure_optimizers(self):\n",
    "        optimizer = get_optimizer(self.model, self.config)\n",
    "        scheduler = get_scheduler(optimizer, self.config)\n",
    "        return {\"optimizer\": optimizer, \"lr_scheduler\": scheduler, \"monitor\": \"Loss/val\"}"
   ]
  },
  {
   "cell_type": "code",
   "execution_count": 19,
   "metadata": {},
   "outputs": [],
   "source": [
    "# oof\n",
    "def evaluate(model, loaders, phase):\n",
    "    x_list = []\n",
    "    y_list = []\n",
    "    f_list = []\n",
    "    with torch.no_grad():\n",
    "        for batch in loaders[phase]:\n",
    "            x, y = batch\n",
    "            output = model(x)\n",
    "            x_list.append(to_np(output['xy'][:, 0]))\n",
    "            y_list.append(to_np(output['xy'][:, 1]))\n",
    "            f_list.append(to_np(output['floor']))\n",
    "\n",
    "    x_list = np.concatenate(x_list)\n",
    "    y_list = np.concatenate(y_list)\n",
    "    f_list = np.concatenate(f_list)\n",
    "    return x_list, y_list, f_list"
   ]
  },
  {
   "cell_type": "markdown",
   "metadata": {},
   "source": [
    "## train"
   ]
  },
  {
   "cell_type": "code",
   "execution_count": 20,
   "metadata": {
    "tags": []
   },
   "outputs": [
    {
     "output_type": "stream",
     "name": "stdout",
     "text": [
      "====================\n",
      "Fold 0\n",
      "====================\n",
      "/opt/anaconda3/lib/python3.8/site-packages/torch/nn/modules/rnn.py:58: UserWarning: dropout option adds dropout after all but last recurrent layer, so non-zero dropout expects num_layers greater than 1, but got dropout=0.3 and num_layers=1\n",
      "  warnings.warn(\"dropout option adds dropout after all but last \"\n",
      "/opt/anaconda3/lib/python3.8/site-packages/torch/nn/modules/rnn.py:58: UserWarning: dropout option adds dropout after all but last recurrent layer, so non-zero dropout expects num_layers greater than 1, but got dropout=0.1 and num_layers=1\n",
      "  warnings.warn(\"dropout option adds dropout after all but last \"\n",
      "Failed to detect the name of this notebook, you can set it manually with the WANDB_NOTEBOOK_NAME environment variable to enable code saving.\n",
      "\u001b[34m\u001b[1mwandb\u001b[0m: Currently logged in as: \u001b[33mkuto5046\u001b[0m (use `wandb login --relogin` to force relogin)\n",
      "\u001b[34m\u001b[1mwandb\u001b[0m: wandb version 0.10.23 is available!  To upgrade, please run:\n",
      "\u001b[34m\u001b[1mwandb\u001b[0m:  $ pip install wandb --upgrade\n"
     ]
    },
    {
     "output_type": "display_data",
     "data": {
      "text/plain": "<IPython.core.display.HTML object>",
      "text/html": "\n                Tracking run with wandb version 0.10.22<br/>\n                Syncing run <strong style=\"color:#cdcd00\">lyric-glade-166</strong> to <a href=\"https://wandb.ai\" target=\"_blank\">Weights & Biases</a> <a href=\"https://docs.wandb.com/integrations/jupyter.html\" target=\"_blank\">(Documentation)</a>.<br/>\n                Project page: <a href=\"https://wandb.ai/kuto5046/indoor\" target=\"_blank\">https://wandb.ai/kuto5046/indoor</a><br/>\n                Run page: <a href=\"https://wandb.ai/kuto5046/indoor/runs/3tx0sm5d\" target=\"_blank\">https://wandb.ai/kuto5046/indoor/runs/3tx0sm5d</a><br/>\n                Run data is saved locally in <code>/home/kuzira/work/exp/exp006/wandb/run-20210329_225505-3tx0sm5d</code><br/><br/>\n            "
     },
     "metadata": {}
    },
    {
     "output_type": "stream",
     "name": "stderr",
     "text": [
      "GPU available: True, used: True\n",
      "TPU available: None, using: 0 TPU cores\n",
      "Using native 16bit precision.\n",
      "\n",
      "  | Name         | Type      | Params\n",
      "-------------------------------------------\n",
      "0 | model        | LSTMModel | 5.9 M \n",
      "1 | xy_criterion | MSELoss   | 0     \n",
      "2 | f_criterion  | MSELoss   | 0     \n",
      "-------------------------------------------\n",
      "5.9 M     Trainable params\n",
      "0         Non-trainable params\n",
      "5.9 M     Total params\n",
      "23.626    Total estimated model params size (MB)\n",
      "fold 0: mean position error 8.533997512667785\n"
     ]
    },
    {
     "output_type": "display_data",
     "data": {
      "text/plain": "<IPython.core.display.HTML object>",
      "text/html": "<br/>Waiting for W&B process to finish, PID 3058099<br/>Program ended successfully."
     },
     "metadata": {}
    },
    {
     "output_type": "display_data",
     "data": {
      "text/plain": "VBox(children=(Label(value=' 0.00MB of 0.00MB uploaded (0.00MB deduped)\\r'), FloatProgress(value=1.0, max=1.0)…",
      "application/vnd.jupyter.widget-view+json": {
       "version_major": 2,
       "version_minor": 0,
       "model_id": "09981dae3b034195b5c44a4823c55c18"
      }
     },
     "metadata": {}
    },
    {
     "output_type": "display_data",
     "data": {
      "text/plain": "<IPython.core.display.HTML object>",
      "text/html": "Find user logs for this run at: <code>/home/kuzira/work/exp/exp006/wandb/run-20210329_225505-3tx0sm5d/logs/debug.log</code>"
     },
     "metadata": {}
    },
    {
     "output_type": "display_data",
     "data": {
      "text/plain": "<IPython.core.display.HTML object>",
      "text/html": "Find internal logs for this run at: <code>/home/kuzira/work/exp/exp006/wandb/run-20210329_225505-3tx0sm5d/logs/debug-internal.log</code>"
     },
     "metadata": {}
    },
    {
     "output_type": "display_data",
     "data": {
      "text/plain": "<IPython.core.display.HTML object>",
      "text/html": "<h3>Run summary:</h3><br/><style>\n    table.wandb td:nth-child(1) { padding: 0 10px; text-align: right }\n    </style><table class=\"wandb\">\n<tr><td>Loss/val</td><td>57.4697</td></tr><tr><td>Loss/xy</td><td>57.4697</td></tr><tr><td>Loss/floor</td><td>4.71926</td></tr><tr><td>MPE/val</td><td>8.53438</td></tr><tr><td>epoch</td><td>299</td></tr><tr><td>trainer/global_step</td><td>107399</td></tr><tr><td>_runtime</td><td>1237</td></tr><tr><td>_timestamp</td><td>1617027342</td></tr><tr><td>_step</td><td>299</td></tr></table>"
     },
     "metadata": {}
    },
    {
     "output_type": "display_data",
     "data": {
      "text/plain": "<IPython.core.display.HTML object>",
      "text/html": "<h3>Run history:</h3><br/><style>\n    table.wandb td:nth-child(1) { padding: 0 10px; text-align: right }\n    </style><table class=\"wandb\">\n<tr><td>Loss/val</td><td>█▇▅▄▄▃▃▂▂▂▂▁▁▁▁▁▁▁▁▁▁▁▁▁▁▁▁▁▁▁▁▁▁▁▁▁▁▁▁▁</td></tr><tr><td>Loss/xy</td><td>█▇▅▄▄▃▃▂▂▂▂▁▁▁▁▁▁▁▁▁▁▁▁▁▁▁▁▁▁▁▁▁▁▁▁▁▁▁▁▁</td></tr><tr><td>Loss/floor</td><td>▅▅▅▅▅▅▃▁▃▄▅▆▆▆▇▇▇▇▇▇██████████████▇▇▇▇▇▇</td></tr><tr><td>MPE/val</td><td>█▇▆▅▅▅▄▃▃▂▂▂▂▂▁▁▁▁▁▁▁▁▁▁▁▁▁▁▁▁▁▁▁▁▁▁▁▁▁▁</td></tr><tr><td>epoch</td><td>▁▁▁▁▂▂▂▂▂▃▃▃▃▃▃▄▄▄▄▄▅▅▅▅▅▅▆▆▆▆▆▆▇▇▇▇▇███</td></tr><tr><td>trainer/global_step</td><td>▁▁▁▁▂▂▂▂▂▃▃▃▃▃▃▄▄▄▄▄▅▅▅▅▅▅▆▆▆▆▆▆▇▇▇▇▇███</td></tr><tr><td>_runtime</td><td>▁▁▁▁▂▂▂▂▂▃▃▃▃▃▃▄▄▄▄▄▅▅▅▅▅▆▆▆▆▆▆▇▇▇▇▇▇███</td></tr><tr><td>_timestamp</td><td>▁▁▁▁▂▂▂▂▂▃▃▃▃▃▃▄▄▄▄▄▅▅▅▅▅▆▆▆▆▆▆▇▇▇▇▇▇███</td></tr><tr><td>_step</td><td>▁▁▁▁▂▂▂▂▂▃▃▃▃▃▃▄▄▄▄▄▅▅▅▅▅▅▆▆▆▆▆▆▇▇▇▇▇███</td></tr></table><br/>"
     },
     "metadata": {}
    },
    {
     "output_type": "display_data",
     "data": {
      "text/plain": "<IPython.core.display.HTML object>",
      "text/html": "Synced 5 W&B file(s), 1 media file(s), 0 artifact file(s) and 0 other file(s)"
     },
     "metadata": {}
    },
    {
     "output_type": "display_data",
     "data": {
      "text/plain": "<IPython.core.display.HTML object>",
      "text/html": "\n                    <br/>Synced <strong style=\"color:#cdcd00\">lyric-glade-166</strong>: <a href=\"https://wandb.ai/kuto5046/indoor/runs/3tx0sm5d\" target=\"_blank\">https://wandb.ai/kuto5046/indoor/runs/3tx0sm5d</a><br/>\n                "
     },
     "metadata": {}
    },
    {
     "output_type": "stream",
     "name": "stdout",
     "text": [
      "====================\n",
      "Fold 1\n",
      "====================\n",
      "\u001b[34m\u001b[1mwandb\u001b[0m: wandb version 0.10.23 is available!  To upgrade, please run:\n",
      "\u001b[34m\u001b[1mwandb\u001b[0m:  $ pip install wandb --upgrade\n"
     ]
    },
    {
     "output_type": "display_data",
     "data": {
      "text/plain": "<IPython.core.display.HTML object>",
      "text/html": "\n                Tracking run with wandb version 0.10.22<br/>\n                Syncing run <strong style=\"color:#cdcd00\">ethereal-snow-167</strong> to <a href=\"https://wandb.ai\" target=\"_blank\">Weights & Biases</a> <a href=\"https://docs.wandb.com/integrations/jupyter.html\" target=\"_blank\">(Documentation)</a>.<br/>\n                Project page: <a href=\"https://wandb.ai/kuto5046/indoor\" target=\"_blank\">https://wandb.ai/kuto5046/indoor</a><br/>\n                Run page: <a href=\"https://wandb.ai/kuto5046/indoor/runs/35arqbjb\" target=\"_blank\">https://wandb.ai/kuto5046/indoor/runs/35arqbjb</a><br/>\n                Run data is saved locally in <code>/home/kuzira/work/exp/exp006/wandb/run-20210329_231550-35arqbjb</code><br/><br/>\n            "
     },
     "metadata": {}
    },
    {
     "output_type": "stream",
     "name": "stderr",
     "text": [
      "GPU available: True, used: True\n",
      "TPU available: None, using: 0 TPU cores\n",
      "Using native 16bit precision.\n",
      "\n",
      "  | Name         | Type      | Params\n",
      "-------------------------------------------\n",
      "0 | model        | LSTMModel | 5.9 M \n",
      "1 | xy_criterion | MSELoss   | 0     \n",
      "2 | f_criterion  | MSELoss   | 0     \n",
      "-------------------------------------------\n",
      "5.9 M     Trainable params\n",
      "0         Non-trainable params\n",
      "5.9 M     Total params\n",
      "23.626    Total estimated model params size (MB)\n",
      "fold 1: mean position error 8.682910438572797\n"
     ]
    },
    {
     "output_type": "display_data",
     "data": {
      "text/plain": "<IPython.core.display.HTML object>",
      "text/html": "<br/>Waiting for W&B process to finish, PID 3076742<br/>Program ended successfully."
     },
     "metadata": {}
    },
    {
     "output_type": "display_data",
     "data": {
      "text/plain": "VBox(children=(Label(value=' 0.00MB of 0.00MB uploaded (0.00MB deduped)\\r'), FloatProgress(value=1.0, max=1.0)…",
      "application/vnd.jupyter.widget-view+json": {
       "version_major": 2,
       "version_minor": 0,
       "model_id": "a3c4e419b3024480a394cf1aec3bee8d"
      }
     },
     "metadata": {}
    },
    {
     "output_type": "display_data",
     "data": {
      "text/plain": "<IPython.core.display.HTML object>",
      "text/html": "Find user logs for this run at: <code>/home/kuzira/work/exp/exp006/wandb/run-20210329_231550-35arqbjb/logs/debug.log</code>"
     },
     "metadata": {}
    },
    {
     "output_type": "display_data",
     "data": {
      "text/plain": "<IPython.core.display.HTML object>",
      "text/html": "Find internal logs for this run at: <code>/home/kuzira/work/exp/exp006/wandb/run-20210329_231550-35arqbjb/logs/debug-internal.log</code>"
     },
     "metadata": {}
    },
    {
     "output_type": "display_data",
     "data": {
      "text/plain": "<IPython.core.display.HTML object>",
      "text/html": "<h3>Run summary:</h3><br/><style>\n    table.wandb td:nth-child(1) { padding: 0 10px; text-align: right }\n    </style><table class=\"wandb\">\n<tr><td>Loss/val</td><td>59.322</td></tr><tr><td>Loss/xy</td><td>59.322</td></tr><tr><td>Loss/floor</td><td>5.61389</td></tr><tr><td>MPE/val</td><td>8.68269</td></tr><tr><td>epoch</td><td>299</td></tr><tr><td>trainer/global_step</td><td>107399</td></tr><tr><td>_runtime</td><td>1267</td></tr><tr><td>_timestamp</td><td>1617028617</td></tr><tr><td>_step</td><td>299</td></tr></table>"
     },
     "metadata": {}
    },
    {
     "output_type": "display_data",
     "data": {
      "text/plain": "<IPython.core.display.HTML object>",
      "text/html": "<h3>Run history:</h3><br/><style>\n    table.wandb td:nth-child(1) { padding: 0 10px; text-align: right }\n    </style><table class=\"wandb\">\n<tr><td>Loss/val</td><td>█▇▆▅▄▄▃▃▃▃▂▂▂▂▁▁▁▁▁▁▁▁▁▁▁▁▁▁▁▁▁▁▁▁▁▁▁▁▁▁</td></tr><tr><td>Loss/xy</td><td>█▇▆▅▄▄▃▃▃▃▂▂▂▂▁▁▁▁▁▁▁▁▁▁▁▁▁▁▁▁▁▁▁▁▁▁▁▁▁▁</td></tr><tr><td>Loss/floor</td><td>▁▁▁▁▁▁▁▁▁▁▇▇▇▇▇▇▇▇▇█████████████████████</td></tr><tr><td>MPE/val</td><td>██▇▆▅▅▅▄▄▄▃▃▃▂▂▂▂▁▁▁▁▁▁▁▁▁▁▁▁▁▁▁▁▁▁▁▁▁▁▁</td></tr><tr><td>epoch</td><td>▁▁▁▁▂▂▂▂▂▃▃▃▃▃▃▄▄▄▄▄▅▅▅▅▅▅▆▆▆▆▆▆▇▇▇▇▇███</td></tr><tr><td>trainer/global_step</td><td>▁▁▁▁▂▂▂▂▂▃▃▃▃▃▃▄▄▄▄▄▅▅▅▅▅▅▆▆▆▆▆▆▇▇▇▇▇███</td></tr><tr><td>_runtime</td><td>▁▁▁▁▂▂▂▂▂▃▃▃▃▃▃▄▄▄▄▅▅▅▅▅▅▆▆▆▆▆▆▇▇▇▇▇▇███</td></tr><tr><td>_timestamp</td><td>▁▁▁▁▂▂▂▂▂▃▃▃▃▃▃▄▄▄▄▅▅▅▅▅▅▆▆▆▆▆▆▇▇▇▇▇▇███</td></tr><tr><td>_step</td><td>▁▁▁▁▂▂▂▂▂▃▃▃▃▃▃▄▄▄▄▄▅▅▅▅▅▅▆▆▆▆▆▆▇▇▇▇▇███</td></tr></table><br/>"
     },
     "metadata": {}
    },
    {
     "output_type": "display_data",
     "data": {
      "text/plain": "<IPython.core.display.HTML object>",
      "text/html": "Synced 5 W&B file(s), 1 media file(s), 0 artifact file(s) and 0 other file(s)"
     },
     "metadata": {}
    },
    {
     "output_type": "display_data",
     "data": {
      "text/plain": "<IPython.core.display.HTML object>",
      "text/html": "\n                    <br/>Synced <strong style=\"color:#cdcd00\">ethereal-snow-167</strong>: <a href=\"https://wandb.ai/kuto5046/indoor/runs/35arqbjb\" target=\"_blank\">https://wandb.ai/kuto5046/indoor/runs/35arqbjb</a><br/>\n                "
     },
     "metadata": {}
    },
    {
     "output_type": "stream",
     "name": "stdout",
     "text": [
      "====================\n",
      "Fold 2\n",
      "====================\n",
      "\u001b[34m\u001b[1mwandb\u001b[0m: wandb version 0.10.23 is available!  To upgrade, please run:\n",
      "\u001b[34m\u001b[1mwandb\u001b[0m:  $ pip install wandb --upgrade\n"
     ]
    },
    {
     "output_type": "display_data",
     "data": {
      "text/plain": "<IPython.core.display.HTML object>",
      "text/html": "\n                Tracking run with wandb version 0.10.22<br/>\n                Syncing run <strong style=\"color:#cdcd00\">fresh-cherry-168</strong> to <a href=\"https://wandb.ai\" target=\"_blank\">Weights & Biases</a> <a href=\"https://docs.wandb.com/integrations/jupyter.html\" target=\"_blank\">(Documentation)</a>.<br/>\n                Project page: <a href=\"https://wandb.ai/kuto5046/indoor\" target=\"_blank\">https://wandb.ai/kuto5046/indoor</a><br/>\n                Run page: <a href=\"https://wandb.ai/kuto5046/indoor/runs/16kzcd91\" target=\"_blank\">https://wandb.ai/kuto5046/indoor/runs/16kzcd91</a><br/>\n                Run data is saved locally in <code>/home/kuzira/work/exp/exp006/wandb/run-20210329_233704-16kzcd91</code><br/><br/>\n            "
     },
     "metadata": {}
    },
    {
     "output_type": "stream",
     "name": "stderr",
     "text": [
      "GPU available: True, used: True\n",
      "TPU available: None, using: 0 TPU cores\n",
      "Using native 16bit precision.\n",
      "\n",
      "  | Name         | Type      | Params\n",
      "-------------------------------------------\n",
      "0 | model        | LSTMModel | 5.9 M \n",
      "1 | xy_criterion | MSELoss   | 0     \n",
      "2 | f_criterion  | MSELoss   | 0     \n",
      "-------------------------------------------\n",
      "5.9 M     Trainable params\n",
      "0         Non-trainable params\n",
      "5.9 M     Total params\n",
      "23.626    Total estimated model params size (MB)\n",
      "fold 2: mean position error 8.347761759558887\n"
     ]
    },
    {
     "output_type": "display_data",
     "data": {
      "text/plain": "<IPython.core.display.HTML object>",
      "text/html": "<br/>Waiting for W&B process to finish, PID 3095576<br/>Program ended successfully."
     },
     "metadata": {}
    },
    {
     "output_type": "display_data",
     "data": {
      "text/plain": "VBox(children=(Label(value=' 0.00MB of 0.00MB uploaded (0.00MB deduped)\\r'), FloatProgress(value=1.0, max=1.0)…",
      "application/vnd.jupyter.widget-view+json": {
       "version_major": 2,
       "version_minor": 0,
       "model_id": "46d1d93005634688b1977ccb5d5199fe"
      }
     },
     "metadata": {}
    },
    {
     "output_type": "display_data",
     "data": {
      "text/plain": "<IPython.core.display.HTML object>",
      "text/html": "Find user logs for this run at: <code>/home/kuzira/work/exp/exp006/wandb/run-20210329_233704-16kzcd91/logs/debug.log</code>"
     },
     "metadata": {}
    },
    {
     "output_type": "display_data",
     "data": {
      "text/plain": "<IPython.core.display.HTML object>",
      "text/html": "Find internal logs for this run at: <code>/home/kuzira/work/exp/exp006/wandb/run-20210329_233704-16kzcd91/logs/debug-internal.log</code>"
     },
     "metadata": {}
    },
    {
     "output_type": "display_data",
     "data": {
      "text/plain": "<IPython.core.display.HTML object>",
      "text/html": "<h3>Run summary:</h3><br/><style>\n    table.wandb td:nth-child(1) { padding: 0 10px; text-align: right }\n    </style><table class=\"wandb\">\n<tr><td>Loss/val</td><td>55.22742</td></tr><tr><td>Loss/xy</td><td>55.22742</td></tr><tr><td>Loss/floor</td><td>5.13478</td></tr><tr><td>MPE/val</td><td>8.3475</td></tr><tr><td>epoch</td><td>299</td></tr><tr><td>trainer/global_step</td><td>107399</td></tr><tr><td>_runtime</td><td>1270</td></tr><tr><td>_timestamp</td><td>1617029894</td></tr><tr><td>_step</td><td>299</td></tr></table>"
     },
     "metadata": {}
    },
    {
     "output_type": "display_data",
     "data": {
      "text/plain": "<IPython.core.display.HTML object>",
      "text/html": "<h3>Run history:</h3><br/><style>\n    table.wandb td:nth-child(1) { padding: 0 10px; text-align: right }\n    </style><table class=\"wandb\">\n<tr><td>Loss/val</td><td>█▇▅▄▃▃▂▂▂▂▂▁▁▁▁▁▁▁▁▁▁▁▁▁▁▁▁▁▁▁▁▁▁▁▁▁▁▁▁▁</td></tr><tr><td>Loss/xy</td><td>█▇▅▄▃▃▂▂▂▂▂▁▁▁▁▁▁▁▁▁▁▁▁▁▁▁▁▁▁▁▁▁▁▁▁▁▁▁▁▁</td></tr><tr><td>Loss/floor</td><td>████████▇▅▄▃▅▃▁▃▆▆▇▇▇▇▇▇▇▇▇▇▇▇▇▇▇▇▇▇▇▇▇▇</td></tr><tr><td>MPE/val</td><td>█▇▆▅▅▄▃▃▃▂▂▂▂▁▁▁▁▁▁▁▁▁▁▁▁▁▁▁▁▁▁▁▁▁▁▁▁▁▁▁</td></tr><tr><td>epoch</td><td>▁▁▁▁▂▂▂▂▂▃▃▃▃▃▃▄▄▄▄▄▅▅▅▅▅▅▆▆▆▆▆▆▇▇▇▇▇███</td></tr><tr><td>trainer/global_step</td><td>▁▁▁▁▂▂▂▂▂▃▃▃▃▃▃▄▄▄▄▄▅▅▅▅▅▅▆▆▆▆▆▆▇▇▇▇▇███</td></tr><tr><td>_runtime</td><td>▁▁▁▁▂▂▂▂▂▃▃▃▃▃▃▄▄▄▄▄▅▅▅▅▅▆▆▆▆▆▆▇▇▇▇▇▇███</td></tr><tr><td>_timestamp</td><td>▁▁▁▁▂▂▂▂▂▃▃▃▃▃▃▄▄▄▄▄▅▅▅▅▅▆▆▆▆▆▆▇▇▇▇▇▇███</td></tr><tr><td>_step</td><td>▁▁▁▁▂▂▂▂▂▃▃▃▃▃▃▄▄▄▄▄▅▅▅▅▅▅▆▆▆▆▆▆▇▇▇▇▇███</td></tr></table><br/>"
     },
     "metadata": {}
    },
    {
     "output_type": "display_data",
     "data": {
      "text/plain": "<IPython.core.display.HTML object>",
      "text/html": "Synced 5 W&B file(s), 1 media file(s), 0 artifact file(s) and 0 other file(s)"
     },
     "metadata": {}
    },
    {
     "output_type": "display_data",
     "data": {
      "text/plain": "<IPython.core.display.HTML object>",
      "text/html": "\n                    <br/>Synced <strong style=\"color:#cdcd00\">fresh-cherry-168</strong>: <a href=\"https://wandb.ai/kuto5046/indoor/runs/16kzcd91\" target=\"_blank\">https://wandb.ai/kuto5046/indoor/runs/16kzcd91</a><br/>\n                "
     },
     "metadata": {}
    },
    {
     "output_type": "stream",
     "name": "stdout",
     "text": [
      "====================\n",
      "Fold 3\n",
      "====================\n",
      "\u001b[34m\u001b[1mwandb\u001b[0m: wandb version 0.10.23 is available!  To upgrade, please run:\n",
      "\u001b[34m\u001b[1mwandb\u001b[0m:  $ pip install wandb --upgrade\n"
     ]
    },
    {
     "output_type": "display_data",
     "data": {
      "text/plain": "<IPython.core.display.HTML object>",
      "text/html": "\n                Tracking run with wandb version 0.10.22<br/>\n                Syncing run <strong style=\"color:#cdcd00\">glorious-wildflower-169</strong> to <a href=\"https://wandb.ai\" target=\"_blank\">Weights & Biases</a> <a href=\"https://docs.wandb.com/integrations/jupyter.html\" target=\"_blank\">(Documentation)</a>.<br/>\n                Project page: <a href=\"https://wandb.ai/kuto5046/indoor\" target=\"_blank\">https://wandb.ai/kuto5046/indoor</a><br/>\n                Run page: <a href=\"https://wandb.ai/kuto5046/indoor/runs/22lugcgx\" target=\"_blank\">https://wandb.ai/kuto5046/indoor/runs/22lugcgx</a><br/>\n                Run data is saved locally in <code>/home/kuzira/work/exp/exp006/wandb/run-20210329_235821-22lugcgx</code><br/><br/>\n            "
     },
     "metadata": {}
    },
    {
     "output_type": "stream",
     "name": "stderr",
     "text": [
      "GPU available: True, used: True\n",
      "TPU available: None, using: 0 TPU cores\n",
      "Using native 16bit precision.\n",
      "\n",
      "  | Name         | Type      | Params\n",
      "-------------------------------------------\n",
      "0 | model        | LSTMModel | 5.9 M \n",
      "1 | xy_criterion | MSELoss   | 0     \n",
      "2 | f_criterion  | MSELoss   | 0     \n",
      "-------------------------------------------\n",
      "5.9 M     Trainable params\n",
      "0         Non-trainable params\n",
      "5.9 M     Total params\n",
      "23.626    Total estimated model params size (MB)\n",
      "fold 3: mean position error 9.795249796074312\n"
     ]
    },
    {
     "output_type": "display_data",
     "data": {
      "text/plain": "<IPython.core.display.HTML object>",
      "text/html": "<br/>Waiting for W&B process to finish, PID 3113111<br/>Program ended successfully."
     },
     "metadata": {}
    },
    {
     "output_type": "display_data",
     "data": {
      "text/plain": "VBox(children=(Label(value=' 0.00MB of 0.00MB uploaded (0.00MB deduped)\\r'), FloatProgress(value=1.0, max=1.0)…",
      "application/vnd.jupyter.widget-view+json": {
       "version_major": 2,
       "version_minor": 0,
       "model_id": "b1a754e295fc4fd8ab291565ca383a26"
      }
     },
     "metadata": {}
    },
    {
     "output_type": "display_data",
     "data": {
      "text/plain": "<IPython.core.display.HTML object>",
      "text/html": "Find user logs for this run at: <code>/home/kuzira/work/exp/exp006/wandb/run-20210329_235821-22lugcgx/logs/debug.log</code>"
     },
     "metadata": {}
    },
    {
     "output_type": "display_data",
     "data": {
      "text/plain": "<IPython.core.display.HTML object>",
      "text/html": "Find internal logs for this run at: <code>/home/kuzira/work/exp/exp006/wandb/run-20210329_235821-22lugcgx/logs/debug-internal.log</code>"
     },
     "metadata": {}
    },
    {
     "output_type": "display_data",
     "data": {
      "text/plain": "<IPython.core.display.HTML object>",
      "text/html": "<h3>Run summary:</h3><br/><style>\n    table.wandb td:nth-child(1) { padding: 0 10px; text-align: right }\n    </style><table class=\"wandb\">\n<tr><td>Loss/val</td><td>101.85932</td></tr><tr><td>Loss/xy</td><td>101.85932</td></tr><tr><td>Loss/floor</td><td>4.00753</td></tr><tr><td>MPE/val</td><td>9.7942</td></tr><tr><td>epoch</td><td>299</td></tr><tr><td>trainer/global_step</td><td>107399</td></tr><tr><td>_runtime</td><td>1252</td></tr><tr><td>_timestamp</td><td>1617031153</td></tr><tr><td>_step</td><td>299</td></tr></table>"
     },
     "metadata": {}
    },
    {
     "output_type": "display_data",
     "data": {
      "text/plain": "<IPython.core.display.HTML object>",
      "text/html": "<h3>Run history:</h3><br/><style>\n    table.wandb td:nth-child(1) { padding: 0 10px; text-align: right }\n    </style><table class=\"wandb\">\n<tr><td>Loss/val</td><td>█▇▆▄▄▃▃▂▂▂▂▁▁▁▁▁▁▁▁▁▁▁▁▁▁▁▁▁▁▁▁▁▁▁▁▁▁▁▁▁</td></tr><tr><td>Loss/xy</td><td>█▇▆▄▄▃▃▂▂▂▂▁▁▁▁▁▁▁▁▁▁▁▁▁▁▁▁▁▁▁▁▁▁▁▁▁▁▁▁▁</td></tr><tr><td>Loss/floor</td><td>██████▇▃▅▅▁▁▁▁▁▁▂▁▂▂▂▂▂▂▂▂▂▂▂▂▂▂▂▂▂▂▂▂▂▂</td></tr><tr><td>MPE/val</td><td>█▇▆▅▅▅▄▃▃▂▂▂▂▂▁▁▁▁▁▁▁▁▁▁▁▁▁▁▁▁▁▁▁▁▁▁▁▁▁▁</td></tr><tr><td>epoch</td><td>▁▁▁▁▂▂▂▂▂▃▃▃▃▃▃▄▄▄▄▄▅▅▅▅▅▅▆▆▆▆▆▆▇▇▇▇▇███</td></tr><tr><td>trainer/global_step</td><td>▁▁▁▁▂▂▂▂▂▃▃▃▃▃▃▄▄▄▄▄▅▅▅▅▅▅▆▆▆▆▆▆▇▇▇▇▇███</td></tr><tr><td>_runtime</td><td>▁▁▁▁▂▂▂▂▃▃▃▃▃▃▄▄▄▄▄▅▅▅▅▅▅▆▆▆▆▆▆▇▇▇▇▇▇███</td></tr><tr><td>_timestamp</td><td>▁▁▁▁▂▂▂▂▃▃▃▃▃▃▄▄▄▄▄▅▅▅▅▅▅▆▆▆▆▆▆▇▇▇▇▇▇███</td></tr><tr><td>_step</td><td>▁▁▁▁▂▂▂▂▂▃▃▃▃▃▃▄▄▄▄▄▅▅▅▅▅▅▆▆▆▆▆▆▇▇▇▇▇███</td></tr></table><br/>"
     },
     "metadata": {}
    },
    {
     "output_type": "display_data",
     "data": {
      "text/plain": "<IPython.core.display.HTML object>",
      "text/html": "Synced 5 W&B file(s), 1 media file(s), 0 artifact file(s) and 0 other file(s)"
     },
     "metadata": {}
    },
    {
     "output_type": "display_data",
     "data": {
      "text/plain": "<IPython.core.display.HTML object>",
      "text/html": "\n                    <br/>Synced <strong style=\"color:#cdcd00\">glorious-wildflower-169</strong>: <a href=\"https://wandb.ai/kuto5046/indoor/runs/22lugcgx\" target=\"_blank\">https://wandb.ai/kuto5046/indoor/runs/22lugcgx</a><br/>\n                "
     },
     "metadata": {}
    },
    {
     "output_type": "stream",
     "name": "stdout",
     "text": [
      "====================\n",
      "Fold 4\n",
      "====================\n",
      "\u001b[34m\u001b[1mwandb\u001b[0m: wandb version 0.10.23 is available!  To upgrade, please run:\n",
      "\u001b[34m\u001b[1mwandb\u001b[0m:  $ pip install wandb --upgrade\n"
     ]
    },
    {
     "output_type": "display_data",
     "data": {
      "text/plain": "<IPython.core.display.HTML object>",
      "text/html": "\n                Tracking run with wandb version 0.10.22<br/>\n                Syncing run <strong style=\"color:#cdcd00\">peachy-paper-170</strong> to <a href=\"https://wandb.ai\" target=\"_blank\">Weights & Biases</a> <a href=\"https://docs.wandb.com/integrations/jupyter.html\" target=\"_blank\">(Documentation)</a>.<br/>\n                Project page: <a href=\"https://wandb.ai/kuto5046/indoor\" target=\"_blank\">https://wandb.ai/kuto5046/indoor</a><br/>\n                Run page: <a href=\"https://wandb.ai/kuto5046/indoor/runs/2miq1bnb\" target=\"_blank\">https://wandb.ai/kuto5046/indoor/runs/2miq1bnb</a><br/>\n                Run data is saved locally in <code>/home/kuzira/work/exp/exp006/wandb/run-20210330_001920-2miq1bnb</code><br/><br/>\n            "
     },
     "metadata": {}
    },
    {
     "output_type": "stream",
     "name": "stderr",
     "text": [
      "GPU available: True, used: True\n",
      "TPU available: None, using: 0 TPU cores\n",
      "Using native 16bit precision.\n",
      "\n",
      "  | Name         | Type      | Params\n",
      "-------------------------------------------\n",
      "0 | model        | LSTMModel | 5.9 M \n",
      "1 | xy_criterion | MSELoss   | 0     \n",
      "2 | f_criterion  | MSELoss   | 0     \n",
      "-------------------------------------------\n",
      "5.9 M     Trainable params\n",
      "0         Non-trainable params\n",
      "5.9 M     Total params\n",
      "23.626    Total estimated model params size (MB)\n",
      "fold 4: mean position error 9.150369947871221\n"
     ]
    },
    {
     "output_type": "display_data",
     "data": {
      "text/plain": "<IPython.core.display.HTML object>",
      "text/html": "<br/>Waiting for W&B process to finish, PID 3122830<br/>Program ended successfully."
     },
     "metadata": {}
    },
    {
     "output_type": "display_data",
     "data": {
      "text/plain": "VBox(children=(Label(value=' 0.00MB of 0.00MB uploaded (0.00MB deduped)\\r'), FloatProgress(value=1.0, max=1.0)…",
      "application/vnd.jupyter.widget-view+json": {
       "version_major": 2,
       "version_minor": 0,
       "model_id": "322a2f9f01f343f38a1a15816b20b64a"
      }
     },
     "metadata": {}
    },
    {
     "output_type": "display_data",
     "data": {
      "text/plain": "<IPython.core.display.HTML object>",
      "text/html": "Find user logs for this run at: <code>/home/kuzira/work/exp/exp006/wandb/run-20210330_001920-2miq1bnb/logs/debug.log</code>"
     },
     "metadata": {}
    },
    {
     "output_type": "display_data",
     "data": {
      "text/plain": "<IPython.core.display.HTML object>",
      "text/html": "Find internal logs for this run at: <code>/home/kuzira/work/exp/exp006/wandb/run-20210330_001920-2miq1bnb/logs/debug-internal.log</code>"
     },
     "metadata": {}
    },
    {
     "output_type": "display_data",
     "data": {
      "text/plain": "<IPython.core.display.HTML object>",
      "text/html": "<h3>Run summary:</h3><br/><style>\n    table.wandb td:nth-child(1) { padding: 0 10px; text-align: right }\n    </style><table class=\"wandb\">\n<tr><td>Loss/val</td><td>76.39194</td></tr><tr><td>Loss/xy</td><td>76.39194</td></tr><tr><td>Loss/floor</td><td>5.24786</td></tr><tr><td>MPE/val</td><td>9.14999</td></tr><tr><td>epoch</td><td>299</td></tr><tr><td>trainer/global_step</td><td>107399</td></tr><tr><td>_runtime</td><td>1287</td></tr><tr><td>_timestamp</td><td>1617032447</td></tr><tr><td>_step</td><td>299</td></tr></table>"
     },
     "metadata": {}
    },
    {
     "output_type": "display_data",
     "data": {
      "text/plain": "<IPython.core.display.HTML object>",
      "text/html": "<h3>Run history:</h3><br/><style>\n    table.wandb td:nth-child(1) { padding: 0 10px; text-align: right }\n    </style><table class=\"wandb\">\n<tr><td>Loss/val</td><td>█▇▆▅▄▃▃▂▂▂▂▂▁▁▁▁▁▁▁▁▁▁▁▁▁▁▁▁▁▁▁▁▁▁▁▁▁▁▁▁</td></tr><tr><td>Loss/xy</td><td>█▇▆▅▄▃▃▂▂▂▂▂▁▁▁▁▁▁▁▁▁▁▁▁▁▁▁▁▁▁▁▁▁▁▁▁▁▁▁▁</td></tr><tr><td>Loss/floor</td><td>▁▁▁▁▁▁▁▁▁▁▁▁▁▁▁▁▁▁▁▁▁▁▁▁▁▁▁▁▁▁▁▁▁▁▁▁▁▁▁▁</td></tr><tr><td>MPE/val</td><td>█▇▆▆▅▅▄▃▃▃▃▂▂▂▂▁▁▁▁▁▁▁▁▁▁▁▁▁▁▁▁▁▁▁▁▁▁▁▁▁</td></tr><tr><td>epoch</td><td>▁▁▁▁▂▂▂▂▂▃▃▃▃▃▃▄▄▄▄▄▅▅▅▅▅▅▆▆▆▆▆▆▇▇▇▇▇███</td></tr><tr><td>trainer/global_step</td><td>▁▁▁▁▂▂▂▂▂▃▃▃▃▃▃▄▄▄▄▄▅▅▅▅▅▅▆▆▆▆▆▆▇▇▇▇▇███</td></tr><tr><td>_runtime</td><td>▁▁▁▂▂▂▂▂▃▃▃▃▃▃▄▄▄▄▄▅▅▅▅▅▅▆▆▆▆▆▆▇▇▇▇▇▇███</td></tr><tr><td>_timestamp</td><td>▁▁▁▂▂▂▂▂▃▃▃▃▃▃▄▄▄▄▄▅▅▅▅▅▅▆▆▆▆▆▆▇▇▇▇▇▇███</td></tr><tr><td>_step</td><td>▁▁▁▁▂▂▂▂▂▃▃▃▃▃▃▄▄▄▄▄▅▅▅▅▅▅▆▆▆▆▆▆▇▇▇▇▇███</td></tr></table><br/>"
     },
     "metadata": {}
    },
    {
     "output_type": "display_data",
     "data": {
      "text/plain": "<IPython.core.display.HTML object>",
      "text/html": "Synced 5 W&B file(s), 1 media file(s), 0 artifact file(s) and 0 other file(s)"
     },
     "metadata": {}
    },
    {
     "output_type": "display_data",
     "data": {
      "text/plain": "<IPython.core.display.HTML object>",
      "text/html": "\n                    <br/>Synced <strong style=\"color:#cdcd00\">peachy-paper-170</strong>: <a href=\"https://wandb.ai/kuto5046/indoor/runs/2miq1bnb\" target=\"_blank\">https://wandb.ai/kuto5046/indoor/runs/2miq1bnb</a><br/>\n                "
     },
     "metadata": {}
    }
   ],
   "source": [
    "oofs = []  # 全てのoofをdfで格納する\n",
    "predictions = []  # 全ての予測値をdfで格納する\n",
    "val_scores = []\n",
    "# skf = model_selection.StratifiedKFold(n_splits=N_SPLITS, shuffle=True, random_state=SEED)\n",
    "gkf = model_selection.GroupKFold(n_splits=N_SPLITS)\n",
    "# 今回はtargetを均等に分ける必要はなくpathが均等に分かれればいいのでskf.split()にpathを与えている。\n",
    "for fold, (trn_idx, val_idx) in enumerate(gkf.split(train.loc[:, 'path'], groups=train.loc[:, 'path'])):\n",
    "    # 指定したfoldのみループを回す\n",
    "    if fold not in USE_FOLDS:\n",
    "        continue\n",
    "\n",
    "    print('=' * 20)\n",
    "    print(f'Fold {fold}')\n",
    "    print('=' * 20)\n",
    "\n",
    "    # train/valid data\n",
    "    trn_df = train.loc[trn_idx, BSSID_FEATS + RSSI_FEATS + ['site_id', 'wifi_x','wifi_y','floor']].reset_index(drop=True)\n",
    "    val_df = train.loc[val_idx, BSSID_FEATS + RSSI_FEATS + ['site_id', 'wifi_x','wifi_y','floor']].reset_index(drop=True)\n",
    "\n",
    "    # data loader\n",
    "    loaders = {}\n",
    "    loader_config = config[\"loader\"]\n",
    "    loaders[\"train\"] = DataLoader(IndoorDataset(trn_df, phase=\"train\"), **loader_config[\"train\"], worker_init_fn=worker_init_fn) \n",
    "    loaders[\"valid\"] = DataLoader(IndoorDataset(val_df, phase=\"valid\"), **loader_config[\"valid\"], worker_init_fn=worker_init_fn)\n",
    "    loaders[\"test\"] = DataLoader(IndoorDataset(test, phase=\"test\"), **loader_config[\"test\"], worker_init_fn=worker_init_fn)\n",
    "\n",
    "    # model\n",
    "    model = LSTMModel(wifi_bssids_size+1, site_count)  # +1としているのはLEを1スタートで始めているため\n",
    "    model_name = model.__class__.__name__\n",
    "\n",
    "    # callbacks\n",
    "    callbacks = []\n",
    "    checkpoint_callback = ModelCheckpoint(\n",
    "        monitor=f'Loss/val',\n",
    "        mode='min',\n",
    "        dirpath=\"./\",\n",
    "        verbose=False,\n",
    "        filename=f'{model_name}-{fold}')\n",
    "    \n",
    "    if MODEL_SAVE:\n",
    "        callbacks.append(checkpoint_callback)\n",
    "\n",
    "    early_stop_callback = EarlyStopping(\n",
    "        monitor='Loss/val',\n",
    "        min_delta=0.00,\n",
    "        patience=5,\n",
    "        verbose=False,\n",
    "        mode='min')\n",
    "    # callbacks.append(early_stop_callback)\n",
    "\n",
    "    # loggers\n",
    "    RUN_NAME = EXP_NAME + \"_\" + EXP_MESSAGE\n",
    "    wandb.init(project='indoor', notes=NOTES, entity='kuto5046', group=RUN_NAME)\n",
    "    wandb.run.name = RUN_NAME + f'-fold-{fold}'\n",
    "    wandb_config = wandb.config\n",
    "    wandb_config.model_name = model_name\n",
    "    wandb_config.LB = None\n",
    "    wandb.watch(model)\n",
    "    \n",
    "    \n",
    "    loggers = []\n",
    "    loggers.append(WandbLogger())\n",
    "\n",
    "    learner = Learner(model, config)\n",
    "    # pretrained flag\n",
    "    if PRETRAINED:\n",
    "        ckpt = torch.load(PRETRAINED_PATH + f'{model_name}-{fold}.ckpt')\n",
    "        learner.load_state_dict(ckpt['state_dict'])\n",
    "\n",
    "    trainer = pl.Trainer(\n",
    "        logger=loggers, \n",
    "        callbacks=callbacks,\n",
    "        max_epochs=MAX_EPOCHS,\n",
    "        gpus=[0],\n",
    "        fast_dev_run=DEBUG,\n",
    "        deterministic=True,\n",
    "        precision=16,\n",
    "        progress_bar_refresh_rate=0  # vscodeの時progress barの動作が遅いので表示しない\n",
    "        )\n",
    "\n",
    "    trainer.fit(learner, train_dataloader=loaders['train'], val_dataloaders=loaders['valid'])\n",
    "\n",
    "    #############\n",
    "    # validation (to make oof)\n",
    "    #############\n",
    "    model.eval()\n",
    "    oof_x, oof_y, oof_f = evaluate(model, loaders, phase=\"valid\")\n",
    "    val_df[\"oof_x\"] = oof_x\n",
    "    val_df[\"oof_y\"] = oof_y\n",
    "    val_df[\"oof_floor\"] = oof_f\n",
    "    oofs.append(val_df)\n",
    "    \n",
    "    val_score = mean_position_error(\n",
    "        val_df[\"oof_x\"].values, val_df[\"oof_y\"].values, 0,\n",
    "        val_df['wifi_x'].values, val_df['wifi_y'].values, 0)\n",
    "    val_scores.append(val_score)\n",
    "    print(f\"fold {fold}: mean position error {val_score}\")\n",
    "\n",
    "    #############\n",
    "    # inference\n",
    "    #############n\n",
    "\n",
    "    preds_x, preds_y, preds_f = evaluate(model, loaders, phase=\"test\")\n",
    "    test_preds = pd.DataFrame(np.stack((preds_f, preds_x, preds_y))).T\n",
    "    test_preds.columns = sub.columns\n",
    "    test_preds[\"site_path_timestamp\"] = test[\"site_path_timestamp\"]\n",
    "    test_preds[\"floor\"] = test_preds[\"floor\"].astype(int)\n",
    "    test_preds.to_csv(f'{EXP_NAME}_fold{fold}.csv', index=False)\n",
    "    predictions.append(test_preds)\n",
    "    wandb.finish()"
   ]
  },
  {
   "cell_type": "code",
   "execution_count": 21,
   "metadata": {},
   "outputs": [
    {
     "output_type": "execute_result",
     "data": {
      "text/plain": [
       "       bssid_0  bssid_1  bssid_2  bssid_3  bssid_4  bssid_5  bssid_6  bssid_7  \\\n",
       "0        17692    37534    24386     5761    24542    28375    35935     8141   \n",
       "1        17692     5761    24386     3939    37534    15167    11611     7716   \n",
       "2         8416    25455    28061     3939    17692    15167    14608    11611   \n",
       "3        24542     7716    11611    35935    15167    11474    28375    14848   \n",
       "4        10464    28375    41259     7716    17692    11474    35935    14848   \n",
       "...        ...      ...      ...      ...      ...      ...      ...      ...   \n",
       "45734     2511    34574    12078    35822     3485    24834    23400    17548   \n",
       "45735     2511    34574     3485    35822    24834    23400    17548    17899   \n",
       "45736     2511    34574     3485    35822    24834    23400    17899    14623   \n",
       "45737     2511    34574     3485    16233    14623     5686      433    16696   \n",
       "45738     2511    24834    34574    23400    16696    16233    27939     3485   \n",
       "\n",
       "       bssid_8  bssid_9  ...   rssi_77   rssi_78   rssi_79  site_id  \\\n",
       "0         7716    15167  ...  0.544768  0.551930  0.559533       21   \n",
       "1        25455    28375  ...  0.544768  0.549360  0.556982       21   \n",
       "2        10988    41259  ...  0.539595  0.546791  0.554430       21   \n",
       "3        10988    41259  ...  0.539595  0.546791  0.554430       21   \n",
       "4        15167     8416  ...  0.539595  0.546791  0.554430       21   \n",
       "...        ...      ...  ...       ...       ...       ...      ...   \n",
       "45734    14623    17899  ...  0.537008  0.544222  0.551879        5   \n",
       "45735    14623     5686  ...  0.539595  0.546791  0.551879        5   \n",
       "45736    16696     5686  ...  0.542181  0.549360  0.556982        5   \n",
       "45737     7255    17899  ...  0.542181  0.549360  0.554430        5   \n",
       "45738    14623      433  ...  0.537008  0.544222  0.551879        5   \n",
       "\n",
       "          wifi_x      wifi_y  floor      oof_x       oof_y  oof_floor  \n",
       "0      69.418923  221.827425      0  67.146973  220.738937   0.557049  \n",
       "1      69.692130  224.579247      0  66.856201  219.382462   0.565972  \n",
       "2      68.511270  226.272460      0  66.766937  223.298981   0.566208  \n",
       "3      68.511270  226.272460      0  65.731834  231.712677   0.544176  \n",
       "4      68.637783  228.061851      0  65.583000  232.781006   0.548793  \n",
       "...          ...         ...    ...        ...         ...        ...  \n",
       "45734  15.299171   14.961337      1  34.292912   29.164856   0.000000  \n",
       "45735  17.330584   13.464786      1  34.922638   28.536509   0.000000  \n",
       "45736  21.582791   13.336142      1  33.454681   30.001345   0.000000  \n",
       "45737  25.071220   14.849329      1  32.069366   31.383858   0.000000  \n",
       "45738  25.071220   14.849329      1  32.074726   31.378490   0.000000  \n",
       "\n",
       "[228696 rows x 167 columns]"
      ],
      "text/html": "<div>\n<style scoped>\n    .dataframe tbody tr th:only-of-type {\n        vertical-align: middle;\n    }\n\n    .dataframe tbody tr th {\n        vertical-align: top;\n    }\n\n    .dataframe thead th {\n        text-align: right;\n    }\n</style>\n<table border=\"1\" class=\"dataframe\">\n  <thead>\n    <tr style=\"text-align: right;\">\n      <th></th>\n      <th>bssid_0</th>\n      <th>bssid_1</th>\n      <th>bssid_2</th>\n      <th>bssid_3</th>\n      <th>bssid_4</th>\n      <th>bssid_5</th>\n      <th>bssid_6</th>\n      <th>bssid_7</th>\n      <th>bssid_8</th>\n      <th>bssid_9</th>\n      <th>...</th>\n      <th>rssi_77</th>\n      <th>rssi_78</th>\n      <th>rssi_79</th>\n      <th>site_id</th>\n      <th>wifi_x</th>\n      <th>wifi_y</th>\n      <th>floor</th>\n      <th>oof_x</th>\n      <th>oof_y</th>\n      <th>oof_floor</th>\n    </tr>\n  </thead>\n  <tbody>\n    <tr>\n      <th>0</th>\n      <td>17692</td>\n      <td>37534</td>\n      <td>24386</td>\n      <td>5761</td>\n      <td>24542</td>\n      <td>28375</td>\n      <td>35935</td>\n      <td>8141</td>\n      <td>7716</td>\n      <td>15167</td>\n      <td>...</td>\n      <td>0.544768</td>\n      <td>0.551930</td>\n      <td>0.559533</td>\n      <td>21</td>\n      <td>69.418923</td>\n      <td>221.827425</td>\n      <td>0</td>\n      <td>67.146973</td>\n      <td>220.738937</td>\n      <td>0.557049</td>\n    </tr>\n    <tr>\n      <th>1</th>\n      <td>17692</td>\n      <td>5761</td>\n      <td>24386</td>\n      <td>3939</td>\n      <td>37534</td>\n      <td>15167</td>\n      <td>11611</td>\n      <td>7716</td>\n      <td>25455</td>\n      <td>28375</td>\n      <td>...</td>\n      <td>0.544768</td>\n      <td>0.549360</td>\n      <td>0.556982</td>\n      <td>21</td>\n      <td>69.692130</td>\n      <td>224.579247</td>\n      <td>0</td>\n      <td>66.856201</td>\n      <td>219.382462</td>\n      <td>0.565972</td>\n    </tr>\n    <tr>\n      <th>2</th>\n      <td>8416</td>\n      <td>25455</td>\n      <td>28061</td>\n      <td>3939</td>\n      <td>17692</td>\n      <td>15167</td>\n      <td>14608</td>\n      <td>11611</td>\n      <td>10988</td>\n      <td>41259</td>\n      <td>...</td>\n      <td>0.539595</td>\n      <td>0.546791</td>\n      <td>0.554430</td>\n      <td>21</td>\n      <td>68.511270</td>\n      <td>226.272460</td>\n      <td>0</td>\n      <td>66.766937</td>\n      <td>223.298981</td>\n      <td>0.566208</td>\n    </tr>\n    <tr>\n      <th>3</th>\n      <td>24542</td>\n      <td>7716</td>\n      <td>11611</td>\n      <td>35935</td>\n      <td>15167</td>\n      <td>11474</td>\n      <td>28375</td>\n      <td>14848</td>\n      <td>10988</td>\n      <td>41259</td>\n      <td>...</td>\n      <td>0.539595</td>\n      <td>0.546791</td>\n      <td>0.554430</td>\n      <td>21</td>\n      <td>68.511270</td>\n      <td>226.272460</td>\n      <td>0</td>\n      <td>65.731834</td>\n      <td>231.712677</td>\n      <td>0.544176</td>\n    </tr>\n    <tr>\n      <th>4</th>\n      <td>10464</td>\n      <td>28375</td>\n      <td>41259</td>\n      <td>7716</td>\n      <td>17692</td>\n      <td>11474</td>\n      <td>35935</td>\n      <td>14848</td>\n      <td>15167</td>\n      <td>8416</td>\n      <td>...</td>\n      <td>0.539595</td>\n      <td>0.546791</td>\n      <td>0.554430</td>\n      <td>21</td>\n      <td>68.637783</td>\n      <td>228.061851</td>\n      <td>0</td>\n      <td>65.583000</td>\n      <td>232.781006</td>\n      <td>0.548793</td>\n    </tr>\n    <tr>\n      <th>...</th>\n      <td>...</td>\n      <td>...</td>\n      <td>...</td>\n      <td>...</td>\n      <td>...</td>\n      <td>...</td>\n      <td>...</td>\n      <td>...</td>\n      <td>...</td>\n      <td>...</td>\n      <td>...</td>\n      <td>...</td>\n      <td>...</td>\n      <td>...</td>\n      <td>...</td>\n      <td>...</td>\n      <td>...</td>\n      <td>...</td>\n      <td>...</td>\n      <td>...</td>\n      <td>...</td>\n    </tr>\n    <tr>\n      <th>45734</th>\n      <td>2511</td>\n      <td>34574</td>\n      <td>12078</td>\n      <td>35822</td>\n      <td>3485</td>\n      <td>24834</td>\n      <td>23400</td>\n      <td>17548</td>\n      <td>14623</td>\n      <td>17899</td>\n      <td>...</td>\n      <td>0.537008</td>\n      <td>0.544222</td>\n      <td>0.551879</td>\n      <td>5</td>\n      <td>15.299171</td>\n      <td>14.961337</td>\n      <td>1</td>\n      <td>34.292912</td>\n      <td>29.164856</td>\n      <td>0.000000</td>\n    </tr>\n    <tr>\n      <th>45735</th>\n      <td>2511</td>\n      <td>34574</td>\n      <td>3485</td>\n      <td>35822</td>\n      <td>24834</td>\n      <td>23400</td>\n      <td>17548</td>\n      <td>17899</td>\n      <td>14623</td>\n      <td>5686</td>\n      <td>...</td>\n      <td>0.539595</td>\n      <td>0.546791</td>\n      <td>0.551879</td>\n      <td>5</td>\n      <td>17.330584</td>\n      <td>13.464786</td>\n      <td>1</td>\n      <td>34.922638</td>\n      <td>28.536509</td>\n      <td>0.000000</td>\n    </tr>\n    <tr>\n      <th>45736</th>\n      <td>2511</td>\n      <td>34574</td>\n      <td>3485</td>\n      <td>35822</td>\n      <td>24834</td>\n      <td>23400</td>\n      <td>17899</td>\n      <td>14623</td>\n      <td>16696</td>\n      <td>5686</td>\n      <td>...</td>\n      <td>0.542181</td>\n      <td>0.549360</td>\n      <td>0.556982</td>\n      <td>5</td>\n      <td>21.582791</td>\n      <td>13.336142</td>\n      <td>1</td>\n      <td>33.454681</td>\n      <td>30.001345</td>\n      <td>0.000000</td>\n    </tr>\n    <tr>\n      <th>45737</th>\n      <td>2511</td>\n      <td>34574</td>\n      <td>3485</td>\n      <td>16233</td>\n      <td>14623</td>\n      <td>5686</td>\n      <td>433</td>\n      <td>16696</td>\n      <td>7255</td>\n      <td>17899</td>\n      <td>...</td>\n      <td>0.542181</td>\n      <td>0.549360</td>\n      <td>0.554430</td>\n      <td>5</td>\n      <td>25.071220</td>\n      <td>14.849329</td>\n      <td>1</td>\n      <td>32.069366</td>\n      <td>31.383858</td>\n      <td>0.000000</td>\n    </tr>\n    <tr>\n      <th>45738</th>\n      <td>2511</td>\n      <td>24834</td>\n      <td>34574</td>\n      <td>23400</td>\n      <td>16696</td>\n      <td>16233</td>\n      <td>27939</td>\n      <td>3485</td>\n      <td>14623</td>\n      <td>433</td>\n      <td>...</td>\n      <td>0.537008</td>\n      <td>0.544222</td>\n      <td>0.551879</td>\n      <td>5</td>\n      <td>25.071220</td>\n      <td>14.849329</td>\n      <td>1</td>\n      <td>32.074726</td>\n      <td>31.378490</td>\n      <td>0.000000</td>\n    </tr>\n  </tbody>\n</table>\n<p>228696 rows × 167 columns</p>\n</div>"
     },
     "metadata": {},
     "execution_count": 21
    }
   ],
   "source": [
    "if len(USE_FOLDS) > 1:\n",
    "    oofs_df = pd.concat(oofs)\n",
    "else:\n",
    "    oofs_df = oofs[0]\n",
    "oofs_df.to_csv(\"oof.csv\", index=False)\n",
    "oofs_df"
   ]
  },
  {
   "cell_type": "code",
   "execution_count": 22,
   "metadata": {},
   "outputs": [
    {
     "output_type": "execute_result",
     "data": {
      "text/plain": [
       "                                                    floor           x  \\\n",
       "site_path_timestamp                                                     \n",
       "5a0546857ecc773753327266_046cfa46be49fc10834815...      0   90.571655   \n",
       "5a0546857ecc773753327266_046cfa46be49fc10834815...      0   86.755478   \n",
       "5a0546857ecc773753327266_046cfa46be49fc10834815...      0   85.054337   \n",
       "5a0546857ecc773753327266_046cfa46be49fc10834815...      0   89.280891   \n",
       "5a0546857ecc773753327266_046cfa46be49fc10834815...      0   87.927269   \n",
       "...                                                   ...         ...   \n",
       "5dc8cea7659e181adb076a3f_fd64de8c4a2fc5ebb0e9f4...      0  213.258698   \n",
       "5dc8cea7659e181adb076a3f_fd64de8c4a2fc5ebb0e9f4...      0  211.048828   \n",
       "5dc8cea7659e181adb076a3f_fd64de8c4a2fc5ebb0e9f4...      0  207.109894   \n",
       "5dc8cea7659e181adb076a3f_fd64de8c4a2fc5ebb0e9f4...      0  202.085159   \n",
       "5dc8cea7659e181adb076a3f_fd64de8c4a2fc5ebb0e9f4...      0  201.453781   \n",
       "\n",
       "                                                             y  \n",
       "site_path_timestamp                                             \n",
       "5a0546857ecc773753327266_046cfa46be49fc10834815...  103.244865  \n",
       "5a0546857ecc773753327266_046cfa46be49fc10834815...  100.798737  \n",
       "5a0546857ecc773753327266_046cfa46be49fc10834815...  105.064995  \n",
       "5a0546857ecc773753327266_046cfa46be49fc10834815...  108.794083  \n",
       "5a0546857ecc773753327266_046cfa46be49fc10834815...  108.296745  \n",
       "...                                                        ...  \n",
       "5dc8cea7659e181adb076a3f_fd64de8c4a2fc5ebb0e9f4...   93.442741  \n",
       "5dc8cea7659e181adb076a3f_fd64de8c4a2fc5ebb0e9f4...   99.856056  \n",
       "5dc8cea7659e181adb076a3f_fd64de8c4a2fc5ebb0e9f4...  106.287132  \n",
       "5dc8cea7659e181adb076a3f_fd64de8c4a2fc5ebb0e9f4...  112.704605  \n",
       "5dc8cea7659e181adb076a3f_fd64de8c4a2fc5ebb0e9f4...  110.650536  \n",
       "\n",
       "[10133 rows x 3 columns]"
      ],
      "text/html": "<div>\n<style scoped>\n    .dataframe tbody tr th:only-of-type {\n        vertical-align: middle;\n    }\n\n    .dataframe tbody tr th {\n        vertical-align: top;\n    }\n\n    .dataframe thead th {\n        text-align: right;\n    }\n</style>\n<table border=\"1\" class=\"dataframe\">\n  <thead>\n    <tr style=\"text-align: right;\">\n      <th></th>\n      <th>floor</th>\n      <th>x</th>\n      <th>y</th>\n    </tr>\n    <tr>\n      <th>site_path_timestamp</th>\n      <th></th>\n      <th></th>\n      <th></th>\n    </tr>\n  </thead>\n  <tbody>\n    <tr>\n      <th>5a0546857ecc773753327266_046cfa46be49fc10834815c6_0000000000009</th>\n      <td>0</td>\n      <td>90.571655</td>\n      <td>103.244865</td>\n    </tr>\n    <tr>\n      <th>5a0546857ecc773753327266_046cfa46be49fc10834815c6_0000000009017</th>\n      <td>0</td>\n      <td>86.755478</td>\n      <td>100.798737</td>\n    </tr>\n    <tr>\n      <th>5a0546857ecc773753327266_046cfa46be49fc10834815c6_0000000015326</th>\n      <td>0</td>\n      <td>85.054337</td>\n      <td>105.064995</td>\n    </tr>\n    <tr>\n      <th>5a0546857ecc773753327266_046cfa46be49fc10834815c6_0000000018763</th>\n      <td>0</td>\n      <td>89.280891</td>\n      <td>108.794083</td>\n    </tr>\n    <tr>\n      <th>5a0546857ecc773753327266_046cfa46be49fc10834815c6_0000000022328</th>\n      <td>0</td>\n      <td>87.927269</td>\n      <td>108.296745</td>\n    </tr>\n    <tr>\n      <th>...</th>\n      <td>...</td>\n      <td>...</td>\n      <td>...</td>\n    </tr>\n    <tr>\n      <th>5dc8cea7659e181adb076a3f_fd64de8c4a2fc5ebb0e9f412_0000000082589</th>\n      <td>0</td>\n      <td>213.258698</td>\n      <td>93.442741</td>\n    </tr>\n    <tr>\n      <th>5dc8cea7659e181adb076a3f_fd64de8c4a2fc5ebb0e9f412_0000000085758</th>\n      <td>0</td>\n      <td>211.048828</td>\n      <td>99.856056</td>\n    </tr>\n    <tr>\n      <th>5dc8cea7659e181adb076a3f_fd64de8c4a2fc5ebb0e9f412_0000000090895</th>\n      <td>0</td>\n      <td>207.109894</td>\n      <td>106.287132</td>\n    </tr>\n    <tr>\n      <th>5dc8cea7659e181adb076a3f_fd64de8c4a2fc5ebb0e9f412_0000000096899</th>\n      <td>0</td>\n      <td>202.085159</td>\n      <td>112.704605</td>\n    </tr>\n    <tr>\n      <th>5dc8cea7659e181adb076a3f_fd64de8c4a2fc5ebb0e9f412_0000000100447</th>\n      <td>0</td>\n      <td>201.453781</td>\n      <td>110.650536</td>\n    </tr>\n  </tbody>\n</table>\n<p>10133 rows × 3 columns</p>\n</div>"
     },
     "metadata": {},
     "execution_count": 22
    }
   ],
   "source": [
    "if len(USE_FOLDS) > 1:\n",
    "    # foldの結果を平均した後、reindexでsubmission fileにindexを合わせる\n",
    "    all_preds = pd.concat(predictions).groupby('site_path_timestamp').mean().reindex(sub.index)\n",
    "else:\n",
    "    all_preds = predictions[0].reindex(sub.index)\n",
    "all_preds"
   ]
  },
  {
   "cell_type": "code",
   "execution_count": 23,
   "metadata": {},
   "outputs": [
    {
     "output_type": "execute_result",
     "data": {
      "text/plain": [
       "                                                    floor           x  \\\n",
       "site_path_timestamp                                                     \n",
       "5a0546857ecc773753327266_046cfa46be49fc10834815...      0   90.571655   \n",
       "5a0546857ecc773753327266_046cfa46be49fc10834815...      0   86.755478   \n",
       "5a0546857ecc773753327266_046cfa46be49fc10834815...      0   85.054337   \n",
       "5a0546857ecc773753327266_046cfa46be49fc10834815...      0   89.280891   \n",
       "5a0546857ecc773753327266_046cfa46be49fc10834815...      0   87.927269   \n",
       "...                                                   ...         ...   \n",
       "5dc8cea7659e181adb076a3f_fd64de8c4a2fc5ebb0e9f4...      5  213.258698   \n",
       "5dc8cea7659e181adb076a3f_fd64de8c4a2fc5ebb0e9f4...      5  211.048828   \n",
       "5dc8cea7659e181adb076a3f_fd64de8c4a2fc5ebb0e9f4...      5  207.109894   \n",
       "5dc8cea7659e181adb076a3f_fd64de8c4a2fc5ebb0e9f4...      5  202.085159   \n",
       "5dc8cea7659e181adb076a3f_fd64de8c4a2fc5ebb0e9f4...      5  201.453781   \n",
       "\n",
       "                                                             y  \n",
       "site_path_timestamp                                             \n",
       "5a0546857ecc773753327266_046cfa46be49fc10834815...  103.244865  \n",
       "5a0546857ecc773753327266_046cfa46be49fc10834815...  100.798737  \n",
       "5a0546857ecc773753327266_046cfa46be49fc10834815...  105.064995  \n",
       "5a0546857ecc773753327266_046cfa46be49fc10834815...  108.794083  \n",
       "5a0546857ecc773753327266_046cfa46be49fc10834815...  108.296745  \n",
       "...                                                        ...  \n",
       "5dc8cea7659e181adb076a3f_fd64de8c4a2fc5ebb0e9f4...   93.442741  \n",
       "5dc8cea7659e181adb076a3f_fd64de8c4a2fc5ebb0e9f4...   99.856056  \n",
       "5dc8cea7659e181adb076a3f_fd64de8c4a2fc5ebb0e9f4...  106.287132  \n",
       "5dc8cea7659e181adb076a3f_fd64de8c4a2fc5ebb0e9f4...  112.704605  \n",
       "5dc8cea7659e181adb076a3f_fd64de8c4a2fc5ebb0e9f4...  110.650536  \n",
       "\n",
       "[10133 rows x 3 columns]"
      ],
      "text/html": "<div>\n<style scoped>\n    .dataframe tbody tr th:only-of-type {\n        vertical-align: middle;\n    }\n\n    .dataframe tbody tr th {\n        vertical-align: top;\n    }\n\n    .dataframe thead th {\n        text-align: right;\n    }\n</style>\n<table border=\"1\" class=\"dataframe\">\n  <thead>\n    <tr style=\"text-align: right;\">\n      <th></th>\n      <th>floor</th>\n      <th>x</th>\n      <th>y</th>\n    </tr>\n    <tr>\n      <th>site_path_timestamp</th>\n      <th></th>\n      <th></th>\n      <th></th>\n    </tr>\n  </thead>\n  <tbody>\n    <tr>\n      <th>5a0546857ecc773753327266_046cfa46be49fc10834815c6_0000000000009</th>\n      <td>0</td>\n      <td>90.571655</td>\n      <td>103.244865</td>\n    </tr>\n    <tr>\n      <th>5a0546857ecc773753327266_046cfa46be49fc10834815c6_0000000009017</th>\n      <td>0</td>\n      <td>86.755478</td>\n      <td>100.798737</td>\n    </tr>\n    <tr>\n      <th>5a0546857ecc773753327266_046cfa46be49fc10834815c6_0000000015326</th>\n      <td>0</td>\n      <td>85.054337</td>\n      <td>105.064995</td>\n    </tr>\n    <tr>\n      <th>5a0546857ecc773753327266_046cfa46be49fc10834815c6_0000000018763</th>\n      <td>0</td>\n      <td>89.280891</td>\n      <td>108.794083</td>\n    </tr>\n    <tr>\n      <th>5a0546857ecc773753327266_046cfa46be49fc10834815c6_0000000022328</th>\n      <td>0</td>\n      <td>87.927269</td>\n      <td>108.296745</td>\n    </tr>\n    <tr>\n      <th>...</th>\n      <td>...</td>\n      <td>...</td>\n      <td>...</td>\n    </tr>\n    <tr>\n      <th>5dc8cea7659e181adb076a3f_fd64de8c4a2fc5ebb0e9f412_0000000082589</th>\n      <td>5</td>\n      <td>213.258698</td>\n      <td>93.442741</td>\n    </tr>\n    <tr>\n      <th>5dc8cea7659e181adb076a3f_fd64de8c4a2fc5ebb0e9f412_0000000085758</th>\n      <td>5</td>\n      <td>211.048828</td>\n      <td>99.856056</td>\n    </tr>\n    <tr>\n      <th>5dc8cea7659e181adb076a3f_fd64de8c4a2fc5ebb0e9f412_0000000090895</th>\n      <td>5</td>\n      <td>207.109894</td>\n      <td>106.287132</td>\n    </tr>\n    <tr>\n      <th>5dc8cea7659e181adb076a3f_fd64de8c4a2fc5ebb0e9f412_0000000096899</th>\n      <td>5</td>\n      <td>202.085159</td>\n      <td>112.704605</td>\n    </tr>\n    <tr>\n      <th>5dc8cea7659e181adb076a3f_fd64de8c4a2fc5ebb0e9f412_0000000100447</th>\n      <td>5</td>\n      <td>201.453781</td>\n      <td>110.650536</td>\n    </tr>\n  </tbody>\n</table>\n<p>10133 rows × 3 columns</p>\n</div>"
     },
     "metadata": {},
     "execution_count": 23
    }
   ],
   "source": [
    "# floorの数値を置換\n",
    "simple_accurate_99 = pd.read_csv(root_dir / 'simple-99-accurate-floor-model/submission.csv')\n",
    "all_preds['floor'] = simple_accurate_99['floor'].values\n",
    "all_preds"
   ]
  },
  {
   "cell_type": "code",
   "execution_count": 24,
   "metadata": {},
   "outputs": [],
   "source": [
    "all_preds.to_csv(RUN_NAME + '.csv')"
   ]
  },
  {
   "cell_type": "code",
   "execution_count": 25,
   "metadata": {},
   "outputs": [
    {
     "output_type": "stream",
     "name": "stdout",
     "text": [
      "CV:8.902057890949\n"
     ]
    }
   ],
   "source": [
    "print(f\"CV:{np.mean(val_scores)}\")"
   ]
  },
  {
   "cell_type": "code",
   "execution_count": null,
   "metadata": {},
   "outputs": [],
   "source": []
  }
 ],
 "metadata": {
  "kernelspec": {
   "display_name": "Python 3",
   "language": "python",
   "name": "python3"
  },
  "language_info": {
   "codemirror_mode": {
    "name": "ipython",
    "version": 3
   },
   "file_extension": ".py",
   "mimetype": "text/x-python",
   "name": "python",
   "nbconvert_exporter": "python",
   "pygments_lexer": "ipython3",
   "version": "3.8.5"
  }
 },
 "nbformat": 4,
 "nbformat_minor": 4
}