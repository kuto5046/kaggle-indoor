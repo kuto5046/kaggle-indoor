{
 "cells": [
  {
   "cell_type": "code",
   "execution_count": 1,
   "metadata": {},
   "outputs": [],
   "source": [
    "import os\n",
    "import sys\n",
    "import glob\n",
    "import yaml\n",
    "import pickle\n",
    "import random\n",
    "\n",
    "import numpy as np\n",
    "import pandas as pd\n",
    "import scipy.stats as stats\n",
    "from pathlib import Path\n",
    "import matplotlib.pyplot as plt\n",
    "from sklearn import model_selection\n",
    "from sklearn.preprocessing import StandardScaler, LabelEncoder\n",
    "\n",
    "import wandb\n",
    "import torch\n",
    "from torch import nn\n",
    "import torch.nn.functional as F\n",
    "from torch.utils.data import Dataset, DataLoader\n",
    "import torch.optim as optim\n",
    "\n",
    "import pytorch_lightning as pl\n",
    "from pytorch_lightning.loggers import WandbLogger\n",
    "from pytorch_lightning.callbacks import ModelCheckpoint\n",
    "from pytorch_lightning.callbacks import EarlyStopping\n",
    "from pytorch_lightning.utilities.seed import seed_everything"
   ]
  },
  {
   "cell_type": "markdown",
   "metadata": {},
   "source": [
    "## config"
   ]
  },
  {
   "cell_type": "code",
   "execution_count": 2,
   "metadata": {},
   "outputs": [
    {
     "output_type": "stream",
     "name": "stderr",
     "text": [
      "Global seed set to 1996\n"
     ]
    },
    {
     "output_type": "execute_result",
     "data": {
      "text/plain": [
       "1996"
      ]
     },
     "metadata": {},
     "execution_count": 2
    }
   ],
   "source": [
    "# config\n",
    "with open('config.yaml') as f:\n",
    "    config = yaml.safe_load(f)\n",
    "\n",
    "# globals variable\n",
    "SEED = config['globals']['seed']\n",
    "MAX_EPOCHS = config['globals']['max_epochs']\n",
    "N_SPLITS = config['globals']['n_splits']\n",
    "USE_FOLDS = config['globals']['use_folds']\n",
    "DEBUG = config['globals']['debug']\n",
    "EXP_MESSAGE = config['globals']['exp_message']\n",
    "NOTES = config['globals']['notes']\n",
    "MODEL_SAVE = config['globals']['model_save']\n",
    "ONLY_PRED = config['globals']['only_pred']\n",
    "PRETRAINED = config['globals']['pretrained']\n",
    "PRETRAINED_PATH = config['globals']['pretrained_path']\n",
    "EXP_NAME = str(Path().resolve()).split('/')[-1]\n",
    "\n",
    "# seed\n",
    "seed_everything(SEED)"
   ]
  },
  {
   "cell_type": "code",
   "execution_count": 3,
   "metadata": {},
   "outputs": [
    {
     "output_type": "execute_result",
     "data": {
      "text/plain": [
       "'exp037'"
      ]
     },
     "metadata": {},
     "execution_count": 3
    }
   ],
   "source": [
    "EXP_NAME"
   ]
  },
  {
   "cell_type": "code",
   "execution_count": 4,
   "metadata": {},
   "outputs": [
    {
     "output_type": "stream",
     "name": "stdout",
     "text": [
      "\u001b[34m\u001b[1mwandb\u001b[0m: Appending key for api.wandb.ai to your netrc file: /home/user/.netrc\n"
     ]
    }
   ],
   "source": [
    "!wandb login 1bb2d0449c11d8b987e25c38b9d8dda176310fb6"
   ]
  },
  {
   "cell_type": "markdown",
   "metadata": {},
   "source": [
    "## read data"
   ]
  },
  {
   "cell_type": "code",
   "execution_count": 5,
   "metadata": {},
   "outputs": [],
   "source": [
    "# waypointを補正したdataset\n",
    "root_dir = Path('../../input/')\n",
    "with open(root_dir/'2kaido_wifi_dataset_v2/train_10000_7.pkl', 'rb') as f:\n",
    "  train_df = pickle.load(f)\n",
    "\n",
    "with open(root_dir/'2kaido_wifi_dataset_v2/test_10000_7.pkl', 'rb') as f:\n",
    "  test_df = pickle.load(f)\n",
    "\n",
    "sub_df = pd.read_csv(root_dir/'indoor-location-navigation/sample_submission.csv', index_col=0)"
   ]
  },
  {
   "cell_type": "code",
   "execution_count": 6,
   "metadata": {},
   "outputs": [],
   "source": [
    "train_df = train_df.astype({'timestamp':int,'x': np.float32, 'y': np.float32, 'floor':np.float32, 'ix':np.float32, 'iy':np.float32})\n",
    "test_df = test_df.astype({'timestamp':int})"
   ]
  },
  {
   "cell_type": "code",
   "execution_count": 7,
   "metadata": {},
   "outputs": [],
   "source": [
    "train_df = train_df.reset_index().rename(columns={'index':'id'})"
   ]
  },
  {
   "cell_type": "code",
   "execution_count": 8,
   "metadata": {},
   "outputs": [
    {
     "output_type": "execute_result",
     "data": {
      "text/plain": [
       "<AxesSubplot:>"
      ]
     },
     "metadata": {},
     "execution_count": 8
    },
    {
     "output_type": "display_data",
     "data": {
      "text/plain": "<Figure size 432x288 with 1 Axes>",
      "image/svg+xml": "<?xml version=\"1.0\" encoding=\"utf-8\" standalone=\"no\"?>\n<!DOCTYPE svg PUBLIC \"-//W3C//DTD SVG 1.1//EN\"\n  \"http://www.w3.org/Graphics/SVG/1.1/DTD/svg11.dtd\">\n<!-- Created with matplotlib (https://matplotlib.org/) -->\n<svg height=\"248.518125pt\" version=\"1.1\" viewBox=\"0 0 390.415256 248.518125\" width=\"390.415256pt\" xmlns=\"http://www.w3.org/2000/svg\" xmlns:xlink=\"http://www.w3.org/1999/xlink\">\n <metadata>\n  <rdf:RDF xmlns:cc=\"http://creativecommons.org/ns#\" xmlns:dc=\"http://purl.org/dc/elements/1.1/\" xmlns:rdf=\"http://www.w3.org/1999/02/22-rdf-syntax-ns#\">\n   <cc:Work>\n    <dc:type rdf:resource=\"http://purl.org/dc/dcmitype/StillImage\"/>\n    <dc:date>2021-04-27T20:00:03.947259</dc:date>\n    <dc:format>image/svg+xml</dc:format>\n    <dc:creator>\n     <cc:Agent>\n      <dc:title>Matplotlib v3.3.3, https://matplotlib.org/</dc:title>\n     </cc:Agent>\n    </dc:creator>\n   </cc:Work>\n  </rdf:RDF>\n </metadata>\n <defs>\n  <style type=\"text/css\">*{stroke-linecap:butt;stroke-linejoin:round;}</style>\n </defs>\n <g id=\"figure_1\">\n  <g id=\"patch_1\">\n   <path d=\"M 0 248.518125 \nL 390.415256 248.518125 \nL 390.415256 0 \nL 0 0 \nz\n\" style=\"fill:none;\"/>\n  </g>\n  <g id=\"axes_1\">\n   <g id=\"patch_2\">\n    <path d=\"M 46.0125 224.64 \nL 380.8125 224.64 \nL 380.8125 7.2 \nL 46.0125 7.2 \nz\n\" style=\"fill:#ffffff;\"/>\n   </g>\n   <g id=\"patch_3\">\n    <path clip-path=\"url(#pe137e00220)\" d=\"M 61.230682 224.64 \nL 76.448864 224.64 \nL 76.448864 224.628664 \nL 61.230682 224.628664 \nz\n\" style=\"fill:#1f77b4;\"/>\n   </g>\n   <g id=\"patch_4\">\n    <path clip-path=\"url(#pe137e00220)\" d=\"M 76.448864 224.64 \nL 91.667045 224.64 \nL 91.667045 224.608826 \nL 76.448864 224.608826 \nz\n\" style=\"fill:#1f77b4;\"/>\n   </g>\n   <g id=\"patch_5\">\n    <path clip-path=\"url(#pe137e00220)\" d=\"M 91.667045 224.64 \nL 106.885227 224.64 \nL 106.885227 224.529473 \nL 91.667045 224.529473 \nz\n\" style=\"fill:#1f77b4;\"/>\n   </g>\n   <g id=\"patch_6\">\n    <path clip-path=\"url(#pe137e00220)\" d=\"M 106.885227 224.64 \nL 122.103409 224.64 \nL 122.103409 224.501132 \nL 106.885227 224.501132 \nz\n\" style=\"fill:#1f77b4;\"/>\n   </g>\n   <g id=\"patch_7\">\n    <path clip-path=\"url(#pe137e00220)\" d=\"M 122.103409 224.64 \nL 137.321591 224.64 \nL 137.321591 224.438784 \nL 122.103409 224.438784 \nz\n\" style=\"fill:#1f77b4;\"/>\n   </g>\n   <g id=\"patch_8\">\n    <path clip-path=\"url(#pe137e00220)\" d=\"M 137.321591 224.64 \nL 152.539773 224.64 \nL 152.539773 224.373601 \nL 137.321591 224.373601 \nz\n\" style=\"fill:#1f77b4;\"/>\n   </g>\n   <g id=\"patch_9\">\n    <path clip-path=\"url(#pe137e00220)\" d=\"M 152.539773 224.64 \nL 167.757955 224.64 \nL 167.757955 224.203559 \nL 152.539773 224.203559 \nz\n\" style=\"fill:#1f77b4;\"/>\n   </g>\n   <g id=\"patch_10\">\n    <path clip-path=\"url(#pe137e00220)\" d=\"M 167.757955 224.64 \nL 182.976136 224.64 \nL 182.976136 224.002342 \nL 167.757955 224.002342 \nz\n\" style=\"fill:#1f77b4;\"/>\n   </g>\n   <g id=\"patch_11\">\n    <path clip-path=\"url(#pe137e00220)\" d=\"M 182.976136 224.64 \nL 198.194318 224.64 \nL 198.194318 223.645254 \nL 182.976136 223.645254 \nz\n\" style=\"fill:#1f77b4;\"/>\n   </g>\n   <g id=\"patch_12\">\n    <path clip-path=\"url(#pe137e00220)\" d=\"M 198.194318 224.64 \nL 213.4125 224.64 \nL 213.4125 222.970754 \nL 198.194318 222.970754 \nz\n\" style=\"fill:#1f77b4;\"/>\n   </g>\n   <g id=\"patch_13\">\n    <path clip-path=\"url(#pe137e00220)\" d=\"M 213.4125 224.64 \nL 228.630682 224.64 \nL 228.630682 221.706775 \nL 213.4125 221.706775 \nz\n\" style=\"fill:#1f77b4;\"/>\n   </g>\n   <g id=\"patch_14\">\n    <path clip-path=\"url(#pe137e00220)\" d=\"M 228.630682 224.64 \nL 243.848864 224.64 \nL 243.848864 218.833064 \nL 228.630682 218.833064 \nz\n\" style=\"fill:#1f77b4;\"/>\n   </g>\n   <g id=\"patch_15\">\n    <path clip-path=\"url(#pe137e00220)\" d=\"M 243.848864 224.64 \nL 259.067045 224.64 \nL 259.067045 210.163753 \nL 243.848864 210.163753 \nz\n\" style=\"fill:#1f77b4;\"/>\n   </g>\n   <g id=\"patch_16\">\n    <path clip-path=\"url(#pe137e00220)\" d=\"M 259.067045 224.64 \nL 274.285227 224.64 \nL 274.285227 181.520169 \nL 259.067045 181.520169 \nz\n\" style=\"fill:#1f77b4;\"/>\n   </g>\n   <g id=\"patch_17\">\n    <path clip-path=\"url(#pe137e00220)\" d=\"M 274.285227 224.64 \nL 289.503409 224.64 \nL 289.503409 97.692271 \nL 274.285227 97.692271 \nz\n\" style=\"fill:#1f77b4;\"/>\n   </g>\n   <g id=\"patch_18\">\n    <path clip-path=\"url(#pe137e00220)\" d=\"M 289.503409 224.64 \nL 304.721591 224.64 \nL 304.721591 17.554286 \nL 289.503409 17.554286 \nz\n\" style=\"fill:#1f77b4;\"/>\n   </g>\n   <g id=\"patch_19\">\n    <path clip-path=\"url(#pe137e00220)\" d=\"M 304.721591 224.64 \nL 319.939773 224.64 \nL 319.939773 40.813205 \nL 304.721591 40.813205 \nz\n\" style=\"fill:#1f77b4;\"/>\n   </g>\n   <g id=\"patch_20\">\n    <path clip-path=\"url(#pe137e00220)\" d=\"M 319.939773 224.64 \nL 335.157955 224.64 \nL 335.157955 133.528634 \nL 319.939773 133.528634 \nz\n\" style=\"fill:#1f77b4;\"/>\n   </g>\n   <g id=\"patch_21\">\n    <path clip-path=\"url(#pe137e00220)\" d=\"M 335.157955 224.64 \nL 350.376136 224.64 \nL 350.376136 196.237309 \nL 335.157955 196.237309 \nz\n\" style=\"fill:#1f77b4;\"/>\n   </g>\n   <g id=\"patch_22\">\n    <path clip-path=\"url(#pe137e00220)\" d=\"M 350.376136 224.64 \nL 365.594318 224.64 \nL 365.594318 216.370288 \nL 350.376136 216.370288 \nz\n\" style=\"fill:#1f77b4;\"/>\n   </g>\n   <g id=\"matplotlib.axis_1\">\n    <g id=\"xtick_1\">\n     <g id=\"line2d_1\">\n      <path clip-path=\"url(#pe137e00220)\" d=\"M 107.507776 224.64 \nL 107.507776 7.2 \n\" style=\"fill:none;stroke:#b0b0b0;stroke-linecap:square;stroke-width:0.8;\"/>\n     </g>\n     <g id=\"line2d_2\">\n      <defs>\n       <path d=\"M 0 0 \nL 0 3.5 \n\" id=\"m311d5d7ac8\" style=\"stroke:#000000;stroke-width:0.8;\"/>\n      </defs>\n      <g>\n       <use style=\"stroke:#000000;stroke-width:0.8;\" x=\"107.507776\" xlink:href=\"#m311d5d7ac8\" y=\"224.64\"/>\n      </g>\n     </g>\n     <g id=\"text_1\">\n      <!-- −30000 -->\n      <g transform=\"translate(87.411682 239.238438)scale(0.1 -0.1)\">\n       <defs>\n        <path d=\"M 10.59375 35.5 \nL 73.1875 35.5 \nL 73.1875 27.203125 \nL 10.59375 27.203125 \nz\n\" id=\"DejaVuSans-8722\"/>\n        <path d=\"M 40.578125 39.3125 \nQ 47.65625 37.796875 51.625 33 \nQ 55.609375 28.21875 55.609375 21.1875 \nQ 55.609375 10.40625 48.1875 4.484375 \nQ 40.765625 -1.421875 27.09375 -1.421875 \nQ 22.515625 -1.421875 17.65625 -0.515625 \nQ 12.796875 0.390625 7.625 2.203125 \nL 7.625 11.71875 \nQ 11.71875 9.328125 16.59375 8.109375 \nQ 21.484375 6.890625 26.8125 6.890625 \nQ 36.078125 6.890625 40.9375 10.546875 \nQ 45.796875 14.203125 45.796875 21.1875 \nQ 45.796875 27.640625 41.28125 31.265625 \nQ 36.765625 34.90625 28.71875 34.90625 \nL 20.21875 34.90625 \nL 20.21875 43.015625 \nL 29.109375 43.015625 \nQ 36.375 43.015625 40.234375 45.921875 \nQ 44.09375 48.828125 44.09375 54.296875 \nQ 44.09375 59.90625 40.109375 62.90625 \nQ 36.140625 65.921875 28.71875 65.921875 \nQ 24.65625 65.921875 20.015625 65.03125 \nQ 15.375 64.15625 9.8125 62.3125 \nL 9.8125 71.09375 \nQ 15.4375 72.65625 20.34375 73.4375 \nQ 25.25 74.21875 29.59375 74.21875 \nQ 40.828125 74.21875 47.359375 69.109375 \nQ 53.90625 64.015625 53.90625 55.328125 \nQ 53.90625 49.265625 50.4375 45.09375 \nQ 46.96875 40.921875 40.578125 39.3125 \nz\n\" id=\"DejaVuSans-51\"/>\n        <path d=\"M 31.78125 66.40625 \nQ 24.171875 66.40625 20.328125 58.90625 \nQ 16.5 51.421875 16.5 36.375 \nQ 16.5 21.390625 20.328125 13.890625 \nQ 24.171875 6.390625 31.78125 6.390625 \nQ 39.453125 6.390625 43.28125 13.890625 \nQ 47.125 21.390625 47.125 36.375 \nQ 47.125 51.421875 43.28125 58.90625 \nQ 39.453125 66.40625 31.78125 66.40625 \nz\nM 31.78125 74.21875 \nQ 44.046875 74.21875 50.515625 64.515625 \nQ 56.984375 54.828125 56.984375 36.375 \nQ 56.984375 17.96875 50.515625 8.265625 \nQ 44.046875 -1.421875 31.78125 -1.421875 \nQ 19.53125 -1.421875 13.0625 8.265625 \nQ 6.59375 17.96875 6.59375 36.375 \nQ 6.59375 54.828125 13.0625 64.515625 \nQ 19.53125 74.21875 31.78125 74.21875 \nz\n\" id=\"DejaVuSans-48\"/>\n       </defs>\n       <use xlink:href=\"#DejaVuSans-8722\"/>\n       <use x=\"83.789062\" xlink:href=\"#DejaVuSans-51\"/>\n       <use x=\"147.412109\" xlink:href=\"#DejaVuSans-48\"/>\n       <use x=\"211.035156\" xlink:href=\"#DejaVuSans-48\"/>\n       <use x=\"274.658203\" xlink:href=\"#DejaVuSans-48\"/>\n       <use x=\"338.28125\" xlink:href=\"#DejaVuSans-48\"/>\n      </g>\n     </g>\n    </g>\n    <g id=\"xtick_2\">\n     <g id=\"line2d_3\">\n      <path clip-path=\"url(#pe137e00220)\" d=\"M 172.458084 224.64 \nL 172.458084 7.2 \n\" style=\"fill:none;stroke:#b0b0b0;stroke-linecap:square;stroke-width:0.8;\"/>\n     </g>\n     <g id=\"line2d_4\">\n      <g>\n       <use style=\"stroke:#000000;stroke-width:0.8;\" x=\"172.458084\" xlink:href=\"#m311d5d7ac8\" y=\"224.64\"/>\n      </g>\n     </g>\n     <g id=\"text_2\">\n      <!-- −20000 -->\n      <g transform=\"translate(152.36199 239.238438)scale(0.1 -0.1)\">\n       <defs>\n        <path d=\"M 19.1875 8.296875 \nL 53.609375 8.296875 \nL 53.609375 0 \nL 7.328125 0 \nL 7.328125 8.296875 \nQ 12.9375 14.109375 22.625 23.890625 \nQ 32.328125 33.6875 34.8125 36.53125 \nQ 39.546875 41.84375 41.421875 45.53125 \nQ 43.3125 49.21875 43.3125 52.78125 \nQ 43.3125 58.59375 39.234375 62.25 \nQ 35.15625 65.921875 28.609375 65.921875 \nQ 23.96875 65.921875 18.8125 64.3125 \nQ 13.671875 62.703125 7.8125 59.421875 \nL 7.8125 69.390625 \nQ 13.765625 71.78125 18.9375 73 \nQ 24.125 74.21875 28.421875 74.21875 \nQ 39.75 74.21875 46.484375 68.546875 \nQ 53.21875 62.890625 53.21875 53.421875 \nQ 53.21875 48.921875 51.53125 44.890625 \nQ 49.859375 40.875 45.40625 35.40625 \nQ 44.1875 33.984375 37.640625 27.21875 \nQ 31.109375 20.453125 19.1875 8.296875 \nz\n\" id=\"DejaVuSans-50\"/>\n       </defs>\n       <use xlink:href=\"#DejaVuSans-8722\"/>\n       <use x=\"83.789062\" xlink:href=\"#DejaVuSans-50\"/>\n       <use x=\"147.412109\" xlink:href=\"#DejaVuSans-48\"/>\n       <use x=\"211.035156\" xlink:href=\"#DejaVuSans-48\"/>\n       <use x=\"274.658203\" xlink:href=\"#DejaVuSans-48\"/>\n       <use x=\"338.28125\" xlink:href=\"#DejaVuSans-48\"/>\n      </g>\n     </g>\n    </g>\n    <g id=\"xtick_3\">\n     <g id=\"line2d_5\">\n      <path clip-path=\"url(#pe137e00220)\" d=\"M 237.408391 224.64 \nL 237.408391 7.2 \n\" style=\"fill:none;stroke:#b0b0b0;stroke-linecap:square;stroke-width:0.8;\"/>\n     </g>\n     <g id=\"line2d_6\">\n      <g>\n       <use style=\"stroke:#000000;stroke-width:0.8;\" x=\"237.408391\" xlink:href=\"#m311d5d7ac8\" y=\"224.64\"/>\n      </g>\n     </g>\n     <g id=\"text_3\">\n      <!-- −10000 -->\n      <g transform=\"translate(217.312297 239.238438)scale(0.1 -0.1)\">\n       <defs>\n        <path d=\"M 12.40625 8.296875 \nL 28.515625 8.296875 \nL 28.515625 63.921875 \nL 10.984375 60.40625 \nL 10.984375 69.390625 \nL 28.421875 72.90625 \nL 38.28125 72.90625 \nL 38.28125 8.296875 \nL 54.390625 8.296875 \nL 54.390625 0 \nL 12.40625 0 \nz\n\" id=\"DejaVuSans-49\"/>\n       </defs>\n       <use xlink:href=\"#DejaVuSans-8722\"/>\n       <use x=\"83.789062\" xlink:href=\"#DejaVuSans-49\"/>\n       <use x=\"147.412109\" xlink:href=\"#DejaVuSans-48\"/>\n       <use x=\"211.035156\" xlink:href=\"#DejaVuSans-48\"/>\n       <use x=\"274.658203\" xlink:href=\"#DejaVuSans-48\"/>\n       <use x=\"338.28125\" xlink:href=\"#DejaVuSans-48\"/>\n      </g>\n     </g>\n    </g>\n    <g id=\"xtick_4\">\n     <g id=\"line2d_7\">\n      <path clip-path=\"url(#pe137e00220)\" d=\"M 302.358699 224.64 \nL 302.358699 7.2 \n\" style=\"fill:none;stroke:#b0b0b0;stroke-linecap:square;stroke-width:0.8;\"/>\n     </g>\n     <g id=\"line2d_8\">\n      <g>\n       <use style=\"stroke:#000000;stroke-width:0.8;\" x=\"302.358699\" xlink:href=\"#m311d5d7ac8\" y=\"224.64\"/>\n      </g>\n     </g>\n     <g id=\"text_4\">\n      <!-- 0 -->\n      <g transform=\"translate(299.177449 239.238438)scale(0.1 -0.1)\">\n       <use xlink:href=\"#DejaVuSans-48\"/>\n      </g>\n     </g>\n    </g>\n    <g id=\"xtick_5\">\n     <g id=\"line2d_9\">\n      <path clip-path=\"url(#pe137e00220)\" d=\"M 367.309006 224.64 \nL 367.309006 7.2 \n\" style=\"fill:none;stroke:#b0b0b0;stroke-linecap:square;stroke-width:0.8;\"/>\n     </g>\n     <g id=\"line2d_10\">\n      <g>\n       <use style=\"stroke:#000000;stroke-width:0.8;\" x=\"367.309006\" xlink:href=\"#m311d5d7ac8\" y=\"224.64\"/>\n      </g>\n     </g>\n     <g id=\"text_5\">\n      <!-- 10000 -->\n      <g transform=\"translate(351.402756 239.238438)scale(0.1 -0.1)\">\n       <use xlink:href=\"#DejaVuSans-49\"/>\n       <use x=\"63.623047\" xlink:href=\"#DejaVuSans-48\"/>\n       <use x=\"127.246094\" xlink:href=\"#DejaVuSans-48\"/>\n       <use x=\"190.869141\" xlink:href=\"#DejaVuSans-48\"/>\n       <use x=\"254.492188\" xlink:href=\"#DejaVuSans-48\"/>\n      </g>\n     </g>\n    </g>\n   </g>\n   <g id=\"matplotlib.axis_2\">\n    <g id=\"ytick_1\">\n     <g id=\"line2d_11\">\n      <path clip-path=\"url(#pe137e00220)\" d=\"M 46.0125 224.64 \nL 380.8125 224.64 \n\" style=\"fill:none;stroke:#b0b0b0;stroke-linecap:square;stroke-width:0.8;\"/>\n     </g>\n     <g id=\"line2d_12\">\n      <defs>\n       <path d=\"M 0 0 \nL -3.5 0 \n\" id=\"m22633f1117\" style=\"stroke:#000000;stroke-width:0.8;\"/>\n      </defs>\n      <g>\n       <use style=\"stroke:#000000;stroke-width:0.8;\" x=\"46.0125\" xlink:href=\"#m22633f1117\" y=\"224.64\"/>\n      </g>\n     </g>\n     <g id=\"text_6\">\n      <!-- 0 -->\n      <g transform=\"translate(32.65 228.439219)scale(0.1 -0.1)\">\n       <use xlink:href=\"#DejaVuSans-48\"/>\n      </g>\n     </g>\n    </g>\n    <g id=\"ytick_2\">\n     <g id=\"line2d_13\">\n      <path clip-path=\"url(#pe137e00220)\" d=\"M 46.0125 196.299658 \nL 380.8125 196.299658 \n\" style=\"fill:none;stroke:#b0b0b0;stroke-linecap:square;stroke-width:0.8;\"/>\n     </g>\n     <g id=\"line2d_14\">\n      <g>\n       <use style=\"stroke:#000000;stroke-width:0.8;\" x=\"46.0125\" xlink:href=\"#m22633f1117\" y=\"196.299658\"/>\n      </g>\n     </g>\n     <g id=\"text_7\">\n      <!-- 10000 -->\n      <g transform=\"translate(7.2 200.098877)scale(0.1 -0.1)\">\n       <use xlink:href=\"#DejaVuSans-49\"/>\n       <use x=\"63.623047\" xlink:href=\"#DejaVuSans-48\"/>\n       <use x=\"127.246094\" xlink:href=\"#DejaVuSans-48\"/>\n       <use x=\"190.869141\" xlink:href=\"#DejaVuSans-48\"/>\n       <use x=\"254.492188\" xlink:href=\"#DejaVuSans-48\"/>\n      </g>\n     </g>\n    </g>\n    <g id=\"ytick_3\">\n     <g id=\"line2d_15\">\n      <path clip-path=\"url(#pe137e00220)\" d=\"M 46.0125 167.959316 \nL 380.8125 167.959316 \n\" style=\"fill:none;stroke:#b0b0b0;stroke-linecap:square;stroke-width:0.8;\"/>\n     </g>\n     <g id=\"line2d_16\">\n      <g>\n       <use style=\"stroke:#000000;stroke-width:0.8;\" x=\"46.0125\" xlink:href=\"#m22633f1117\" y=\"167.959316\"/>\n      </g>\n     </g>\n     <g id=\"text_8\">\n      <!-- 20000 -->\n      <g transform=\"translate(7.2 171.758534)scale(0.1 -0.1)\">\n       <use xlink:href=\"#DejaVuSans-50\"/>\n       <use x=\"63.623047\" xlink:href=\"#DejaVuSans-48\"/>\n       <use x=\"127.246094\" xlink:href=\"#DejaVuSans-48\"/>\n       <use x=\"190.869141\" xlink:href=\"#DejaVuSans-48\"/>\n       <use x=\"254.492188\" xlink:href=\"#DejaVuSans-48\"/>\n      </g>\n     </g>\n    </g>\n    <g id=\"ytick_4\">\n     <g id=\"line2d_17\">\n      <path clip-path=\"url(#pe137e00220)\" d=\"M 46.0125 139.618973 \nL 380.8125 139.618973 \n\" style=\"fill:none;stroke:#b0b0b0;stroke-linecap:square;stroke-width:0.8;\"/>\n     </g>\n     <g id=\"line2d_18\">\n      <g>\n       <use style=\"stroke:#000000;stroke-width:0.8;\" x=\"46.0125\" xlink:href=\"#m22633f1117\" y=\"139.618973\"/>\n      </g>\n     </g>\n     <g id=\"text_9\">\n      <!-- 30000 -->\n      <g transform=\"translate(7.2 143.418192)scale(0.1 -0.1)\">\n       <use xlink:href=\"#DejaVuSans-51\"/>\n       <use x=\"63.623047\" xlink:href=\"#DejaVuSans-48\"/>\n       <use x=\"127.246094\" xlink:href=\"#DejaVuSans-48\"/>\n       <use x=\"190.869141\" xlink:href=\"#DejaVuSans-48\"/>\n       <use x=\"254.492188\" xlink:href=\"#DejaVuSans-48\"/>\n      </g>\n     </g>\n    </g>\n    <g id=\"ytick_5\">\n     <g id=\"line2d_19\">\n      <path clip-path=\"url(#pe137e00220)\" d=\"M 46.0125 111.278631 \nL 380.8125 111.278631 \n\" style=\"fill:none;stroke:#b0b0b0;stroke-linecap:square;stroke-width:0.8;\"/>\n     </g>\n     <g id=\"line2d_20\">\n      <g>\n       <use style=\"stroke:#000000;stroke-width:0.8;\" x=\"46.0125\" xlink:href=\"#m22633f1117\" y=\"111.278631\"/>\n      </g>\n     </g>\n     <g id=\"text_10\">\n      <!-- 40000 -->\n      <g transform=\"translate(7.2 115.07785)scale(0.1 -0.1)\">\n       <defs>\n        <path d=\"M 37.796875 64.3125 \nL 12.890625 25.390625 \nL 37.796875 25.390625 \nz\nM 35.203125 72.90625 \nL 47.609375 72.90625 \nL 47.609375 25.390625 \nL 58.015625 25.390625 \nL 58.015625 17.1875 \nL 47.609375 17.1875 \nL 47.609375 0 \nL 37.796875 0 \nL 37.796875 17.1875 \nL 4.890625 17.1875 \nL 4.890625 26.703125 \nz\n\" id=\"DejaVuSans-52\"/>\n       </defs>\n       <use xlink:href=\"#DejaVuSans-52\"/>\n       <use x=\"63.623047\" xlink:href=\"#DejaVuSans-48\"/>\n       <use x=\"127.246094\" xlink:href=\"#DejaVuSans-48\"/>\n       <use x=\"190.869141\" xlink:href=\"#DejaVuSans-48\"/>\n       <use x=\"254.492188\" xlink:href=\"#DejaVuSans-48\"/>\n      </g>\n     </g>\n    </g>\n    <g id=\"ytick_6\">\n     <g id=\"line2d_21\">\n      <path clip-path=\"url(#pe137e00220)\" d=\"M 46.0125 82.938289 \nL 380.8125 82.938289 \n\" style=\"fill:none;stroke:#b0b0b0;stroke-linecap:square;stroke-width:0.8;\"/>\n     </g>\n     <g id=\"line2d_22\">\n      <g>\n       <use style=\"stroke:#000000;stroke-width:0.8;\" x=\"46.0125\" xlink:href=\"#m22633f1117\" y=\"82.938289\"/>\n      </g>\n     </g>\n     <g id=\"text_11\">\n      <!-- 50000 -->\n      <g transform=\"translate(7.2 86.737508)scale(0.1 -0.1)\">\n       <defs>\n        <path d=\"M 10.796875 72.90625 \nL 49.515625 72.90625 \nL 49.515625 64.59375 \nL 19.828125 64.59375 \nL 19.828125 46.734375 \nQ 21.96875 47.46875 24.109375 47.828125 \nQ 26.265625 48.1875 28.421875 48.1875 \nQ 40.625 48.1875 47.75 41.5 \nQ 54.890625 34.8125 54.890625 23.390625 \nQ 54.890625 11.625 47.5625 5.09375 \nQ 40.234375 -1.421875 26.90625 -1.421875 \nQ 22.3125 -1.421875 17.546875 -0.640625 \nQ 12.796875 0.140625 7.71875 1.703125 \nL 7.71875 11.625 \nQ 12.109375 9.234375 16.796875 8.0625 \nQ 21.484375 6.890625 26.703125 6.890625 \nQ 35.15625 6.890625 40.078125 11.328125 \nQ 45.015625 15.765625 45.015625 23.390625 \nQ 45.015625 31 40.078125 35.4375 \nQ 35.15625 39.890625 26.703125 39.890625 \nQ 22.75 39.890625 18.8125 39.015625 \nQ 14.890625 38.140625 10.796875 36.28125 \nz\n\" id=\"DejaVuSans-53\"/>\n       </defs>\n       <use xlink:href=\"#DejaVuSans-53\"/>\n       <use x=\"63.623047\" xlink:href=\"#DejaVuSans-48\"/>\n       <use x=\"127.246094\" xlink:href=\"#DejaVuSans-48\"/>\n       <use x=\"190.869141\" xlink:href=\"#DejaVuSans-48\"/>\n       <use x=\"254.492188\" xlink:href=\"#DejaVuSans-48\"/>\n      </g>\n     </g>\n    </g>\n    <g id=\"ytick_7\">\n     <g id=\"line2d_23\">\n      <path clip-path=\"url(#pe137e00220)\" d=\"M 46.0125 54.597947 \nL 380.8125 54.597947 \n\" style=\"fill:none;stroke:#b0b0b0;stroke-linecap:square;stroke-width:0.8;\"/>\n     </g>\n     <g id=\"line2d_24\">\n      <g>\n       <use style=\"stroke:#000000;stroke-width:0.8;\" x=\"46.0125\" xlink:href=\"#m22633f1117\" y=\"54.597947\"/>\n      </g>\n     </g>\n     <g id=\"text_12\">\n      <!-- 60000 -->\n      <g transform=\"translate(7.2 58.397166)scale(0.1 -0.1)\">\n       <defs>\n        <path d=\"M 33.015625 40.375 \nQ 26.375 40.375 22.484375 35.828125 \nQ 18.609375 31.296875 18.609375 23.390625 \nQ 18.609375 15.53125 22.484375 10.953125 \nQ 26.375 6.390625 33.015625 6.390625 \nQ 39.65625 6.390625 43.53125 10.953125 \nQ 47.40625 15.53125 47.40625 23.390625 \nQ 47.40625 31.296875 43.53125 35.828125 \nQ 39.65625 40.375 33.015625 40.375 \nz\nM 52.59375 71.296875 \nL 52.59375 62.3125 \nQ 48.875 64.0625 45.09375 64.984375 \nQ 41.3125 65.921875 37.59375 65.921875 \nQ 27.828125 65.921875 22.671875 59.328125 \nQ 17.53125 52.734375 16.796875 39.40625 \nQ 19.671875 43.65625 24.015625 45.921875 \nQ 28.375 48.1875 33.59375 48.1875 \nQ 44.578125 48.1875 50.953125 41.515625 \nQ 57.328125 34.859375 57.328125 23.390625 \nQ 57.328125 12.15625 50.6875 5.359375 \nQ 44.046875 -1.421875 33.015625 -1.421875 \nQ 20.359375 -1.421875 13.671875 8.265625 \nQ 6.984375 17.96875 6.984375 36.375 \nQ 6.984375 53.65625 15.1875 63.9375 \nQ 23.390625 74.21875 37.203125 74.21875 \nQ 40.921875 74.21875 44.703125 73.484375 \nQ 48.484375 72.75 52.59375 71.296875 \nz\n\" id=\"DejaVuSans-54\"/>\n       </defs>\n       <use xlink:href=\"#DejaVuSans-54\"/>\n       <use x=\"63.623047\" xlink:href=\"#DejaVuSans-48\"/>\n       <use x=\"127.246094\" xlink:href=\"#DejaVuSans-48\"/>\n       <use x=\"190.869141\" xlink:href=\"#DejaVuSans-48\"/>\n       <use x=\"254.492188\" xlink:href=\"#DejaVuSans-48\"/>\n      </g>\n     </g>\n    </g>\n    <g id=\"ytick_8\">\n     <g id=\"line2d_25\">\n      <path clip-path=\"url(#pe137e00220)\" d=\"M 46.0125 26.257605 \nL 380.8125 26.257605 \n\" style=\"fill:none;stroke:#b0b0b0;stroke-linecap:square;stroke-width:0.8;\"/>\n     </g>\n     <g id=\"line2d_26\">\n      <g>\n       <use style=\"stroke:#000000;stroke-width:0.8;\" x=\"46.0125\" xlink:href=\"#m22633f1117\" y=\"26.257605\"/>\n      </g>\n     </g>\n     <g id=\"text_13\">\n      <!-- 70000 -->\n      <g transform=\"translate(7.2 30.056824)scale(0.1 -0.1)\">\n       <defs>\n        <path d=\"M 8.203125 72.90625 \nL 55.078125 72.90625 \nL 55.078125 68.703125 \nL 28.609375 0 \nL 18.3125 0 \nL 43.21875 64.59375 \nL 8.203125 64.59375 \nz\n\" id=\"DejaVuSans-55\"/>\n       </defs>\n       <use xlink:href=\"#DejaVuSans-55\"/>\n       <use x=\"63.623047\" xlink:href=\"#DejaVuSans-48\"/>\n       <use x=\"127.246094\" xlink:href=\"#DejaVuSans-48\"/>\n       <use x=\"190.869141\" xlink:href=\"#DejaVuSans-48\"/>\n       <use x=\"254.492188\" xlink:href=\"#DejaVuSans-48\"/>\n      </g>\n     </g>\n    </g>\n   </g>\n   <g id=\"patch_23\">\n    <path d=\"M 46.0125 224.64 \nL 46.0125 7.2 \n\" style=\"fill:none;stroke:#000000;stroke-linecap:square;stroke-linejoin:miter;stroke-width:0.8;\"/>\n   </g>\n   <g id=\"patch_24\">\n    <path d=\"M 380.8125 224.64 \nL 380.8125 7.2 \n\" style=\"fill:none;stroke:#000000;stroke-linecap:square;stroke-linejoin:miter;stroke-width:0.8;\"/>\n   </g>\n   <g id=\"patch_25\">\n    <path d=\"M 46.0125 224.64 \nL 380.8125 224.64 \n\" style=\"fill:none;stroke:#000000;stroke-linecap:square;stroke-linejoin:miter;stroke-width:0.8;\"/>\n   </g>\n   <g id=\"patch_26\">\n    <path d=\"M 46.0125 7.2 \nL 380.8125 7.2 \n\" style=\"fill:none;stroke:#000000;stroke-linecap:square;stroke-linejoin:miter;stroke-width:0.8;\"/>\n   </g>\n  </g>\n </g>\n <defs>\n  <clipPath id=\"pe137e00220\">\n   <rect height=\"217.44\" width=\"334.8\" x=\"46.0125\" y=\"7.2\"/>\n  </clipPath>\n </defs>\n</svg>\n",
      "image/png": "[encoded data removed]"
     },
     "metadata": {
      "needs_background": "light"
     }
    }
   ],
   "source": [
    "train_df['timediff'].astype(int).hist(bins=20)"
   ]
  },
  {
   "cell_type": "code",
   "execution_count": 9,
   "metadata": {},
   "outputs": [
    {
     "output_type": "execute_result",
     "data": {
      "text/plain": [
       "            id                                    ssid_0  \\\n",
       "0            0  356d66c73c423be835bd5d07cb1ebdfa821d8e23   \n",
       "1            1  356d66c73c423be835bd5d07cb1ebdfa821d8e23   \n",
       "2            2  f44fa6118fed7198296c8b45b2f2684903d99620   \n",
       "3            3  356d66c73c423be835bd5d07cb1ebdfa821d8e23   \n",
       "4            4  f44fa6118fed7198296c8b45b2f2684903d99620   \n",
       "...        ...                                       ...   \n",
       "252807  252807  18336f0964fbd470a2ee7116d33b96946c633999   \n",
       "252808  252808  18336f0964fbd470a2ee7116d33b96946c633999   \n",
       "252809  252809  18336f0964fbd470a2ee7116d33b96946c633999   \n",
       "252810  252810  18336f0964fbd470a2ee7116d33b96946c633999   \n",
       "252811  252811  18336f0964fbd470a2ee7116d33b96946c633999   \n",
       "\n",
       "                                          ssid_1  \\\n",
       "0       c3513a636d1a813db081a2ffc33f297b4fefe28d   \n",
       "1       f44fa6118fed7198296c8b45b2f2684903d99620   \n",
       "2       356d66c73c423be835bd5d07cb1ebdfa821d8e23   \n",
       "3       f44fa6118fed7198296c8b45b2f2684903d99620   \n",
       "4       356d66c73c423be835bd5d07cb1ebdfa821d8e23   \n",
       "...                                          ...   \n",
       "252807  072159287058774aa9b450c9163129b309bc982b   \n",
       "252808  18336f0964fbd470a2ee7116d33b96946c633999   \n",
       "252809  18336f0964fbd470a2ee7116d33b96946c633999   \n",
       "252810  18336f0964fbd470a2ee7116d33b96946c633999   \n",
       "252811  90ef6526fa145d95dc065edc3b3a3193406f3ee4   \n",
       "\n",
       "                                          ssid_2  \\\n",
       "0       990847ae755de95a44c7b1be54e66f4e56fdc7f4   \n",
       "1       c3513a636d1a813db081a2ffc33f297b4fefe28d   \n",
       "2       8aed75f7c344e6a3d4916750029dd4ee47c1e7c5   \n",
       "3       5a368e0bd5050bdb4653dc39c86bee1fd2b8aeb7   \n",
       "4       990847ae755de95a44c7b1be54e66f4e56fdc7f4   \n",
       "...                                          ...   \n",
       "252807  18336f0964fbd470a2ee7116d33b96946c633999   \n",
       "252808  072159287058774aa9b450c9163129b309bc982b   \n",
       "252809  072159287058774aa9b450c9163129b309bc982b   \n",
       "252810  072159287058774aa9b450c9163129b309bc982b   \n",
       "252811  040667e2fdd3a9bbb54e970c430ad6f08416c52e   \n",
       "\n",
       "                                          ssid_3  \\\n",
       "0       4e601619b7c7d9df8d61490ad2c134f08ea01d61   \n",
       "1       990847ae755de95a44c7b1be54e66f4e56fdc7f4   \n",
       "2       c3513a636d1a813db081a2ffc33f297b4fefe28d   \n",
       "3       990847ae755de95a44c7b1be54e66f4e56fdc7f4   \n",
       "4       c3513a636d1a813db081a2ffc33f297b4fefe28d   \n",
       "...                                          ...   \n",
       "252807  040667e2fdd3a9bbb54e970c430ad6f08416c52e   \n",
       "252808  072159287058774aa9b450c9163129b309bc982b   \n",
       "252809  ea9e102c49dbc834b1059c5e8b5dc4a017a82dff   \n",
       "252810  040667e2fdd3a9bbb54e970c430ad6f08416c52e   \n",
       "252811  18336f0964fbd470a2ee7116d33b96946c633999   \n",
       "\n",
       "                                          ssid_4  \\\n",
       "0       c3513a636d1a813db081a2ffc33f297b4fefe28d   \n",
       "1       d839a45ebe64ab48b60a407d837fb01d3c0dfef9   \n",
       "2       5a368e0bd5050bdb4653dc39c86bee1fd2b8aeb7   \n",
       "3       da39a3ee5e6b4b0d3255bfef95601890afd80709   \n",
       "4       d839a45ebe64ab48b60a407d837fb01d3c0dfef9   \n",
       "...                                          ...   \n",
       "252807  072159287058774aa9b450c9163129b309bc982b   \n",
       "252808  ea9e102c49dbc834b1059c5e8b5dc4a017a82dff   \n",
       "252809  072159287058774aa9b450c9163129b309bc982b   \n",
       "252810  da39a3ee5e6b4b0d3255bfef95601890afd80709   \n",
       "252811  da39a3ee5e6b4b0d3255bfef95601890afd80709   \n",
       "\n",
       "                                          ssid_5  \\\n",
       "0       b14c56d7cd73a5b026fc118c671e24dc2ba2558b   \n",
       "1       b7e6027447eb1f81327d66cfd3adbe557aabf26c   \n",
       "2       4e601619b7c7d9df8d61490ad2c134f08ea01d61   \n",
       "3       b6ffe5619e02871fcd04f61c9bb4b5c53a3f46b7   \n",
       "4       b7e6027447eb1f81327d66cfd3adbe557aabf26c   \n",
       "...                                          ...   \n",
       "252807  da39a3ee5e6b4b0d3255bfef95601890afd80709   \n",
       "252808  040667e2fdd3a9bbb54e970c430ad6f08416c52e   \n",
       "252809  040667e2fdd3a9bbb54e970c430ad6f08416c52e   \n",
       "252810  072159287058774aa9b450c9163129b309bc982b   \n",
       "252811  072159287058774aa9b450c9163129b309bc982b   \n",
       "\n",
       "                                          ssid_6  \\\n",
       "0       d839a45ebe64ab48b60a407d837fb01d3c0dfef9   \n",
       "1       7182afc4e5c212133d5d7d76eb3df6c24618302b   \n",
       "2       2ce029b3a3dea973a44bf0587be5e2b93a74e5f1   \n",
       "3       b7e6027447eb1f81327d66cfd3adbe557aabf26c   \n",
       "4       7182afc4e5c212133d5d7d76eb3df6c24618302b   \n",
       "...                                          ...   \n",
       "252807  da39a3ee5e6b4b0d3255bfef95601890afd80709   \n",
       "252808  da39a3ee5e6b4b0d3255bfef95601890afd80709   \n",
       "252809  1f09251bbfadafb11c63c87963af25238d6bc886   \n",
       "252810  90ef6526fa145d95dc065edc3b3a3193406f3ee4   \n",
       "252811  ea9e102c49dbc834b1059c5e8b5dc4a017a82dff   \n",
       "\n",
       "                                          ssid_7  \\\n",
       "0       7182afc4e5c212133d5d7d76eb3df6c24618302b   \n",
       "1       da39a3ee5e6b4b0d3255bfef95601890afd80709   \n",
       "2       b14c56d7cd73a5b026fc118c671e24dc2ba2558b   \n",
       "3       3fa90121039c7b6e24ae985d228e0366ae15fba4   \n",
       "4       b9f0208be00bd8b337be7f12e02e3a3ce846e22b   \n",
       "...                                          ...   \n",
       "252807  da39a3ee5e6b4b0d3255bfef95601890afd80709   \n",
       "252808  ea9e102c49dbc834b1059c5e8b5dc4a017a82dff   \n",
       "252809  da39a3ee5e6b4b0d3255bfef95601890afd80709   \n",
       "252810  ea9e102c49dbc834b1059c5e8b5dc4a017a82dff   \n",
       "252811  072159287058774aa9b450c9163129b309bc982b   \n",
       "\n",
       "                                          ssid_8  ...           y  \\\n",
       "0       b9f0208be00bd8b337be7f12e02e3a3ce846e22b  ...  156.842239   \n",
       "1       b9f0208be00bd8b337be7f12e02e3a3ce846e22b  ...  156.842239   \n",
       "2       3fa90121039c7b6e24ae985d228e0366ae15fba4  ...  156.842239   \n",
       "3       d839a45ebe64ab48b60a407d837fb01d3c0dfef9  ...  156.842239   \n",
       "4       b6ffe5619e02871fcd04f61c9bb4b5c53a3f46b7  ...  154.629517   \n",
       "...                                          ...  ...         ...   \n",
       "252807  da39a3ee5e6b4b0d3255bfef95601890afd80709  ...  107.011642   \n",
       "252808  da39a3ee5e6b4b0d3255bfef95601890afd80709  ...  111.526085   \n",
       "252809  da39a3ee5e6b4b0d3255bfef95601890afd80709  ...  111.526085   \n",
       "252810  1f09251bbfadafb11c63c87963af25238d6bc886  ...  116.407990   \n",
       "252811  1f09251bbfadafb11c63c87963af25238d6bc886  ...  116.407990   \n",
       "\n",
       "           itimestamp          ix          iy floor floor_str  \\\n",
       "0       1578466134278  113.615387  156.634796  -1.0        B1   \n",
       "1       1578466136278  112.655884  156.358200  -1.0        B1   \n",
       "2       1578466138278  111.936256  156.150772  -1.0        B1   \n",
       "3       1578466140278  110.976761  155.874176  -1.0        B1   \n",
       "4       1578466142278  110.017258  155.597580  -1.0        B1   \n",
       "...               ...         ...         ...   ...       ...   \n",
       "252807  1573892866000  128.925217  109.018059   6.0        F7   \n",
       "252808  1573892868000  130.645798  110.522873   6.0        F7   \n",
       "252809  1573892870000  132.872238  112.610954   6.0        F7   \n",
       "252810  1573892871500  133.951599  113.695824   6.0        F7   \n",
       "252811  1573892873500  136.110352  115.865555   6.0        F7   \n",
       "\n",
       "                            path                   site_id timediff itimediff  \n",
       "0       5e1580d1f4c3420006d520e4  5a0546857ecc773753327266    -1545       -45  \n",
       "1       5e1580d1f4c3420006d520e4  5a0546857ecc773753327266    -3512       -12  \n",
       "2       5e1580d1f4c3420006d520e4  5a0546857ecc773753327266    -5471        29  \n",
       "3       5e1580d1f4c3420006d520e4  5a0546857ecc773753327266    -7428        72  \n",
       "4       5e1580d1f4c3420006d520e4  5a0546857ecc773753327266     7401       105  \n",
       "...                          ...                       ...      ...       ...  \n",
       "252807  5dcfb393878f3300066c70a6  5dc8cea7659e181adb076a3f    -2224        38  \n",
       "252808  5dcfb393878f3300066c70a6  5dc8cea7659e181adb076a3f     1098       126  \n",
       "252809  5dcfb393878f3300066c70a6  5dc8cea7659e181adb076a3f     -790       238  \n",
       "252810  5dcfb393878f3300066c70a6  5dc8cea7659e181adb076a3f     2619      -187  \n",
       "252811  5dcfb393878f3300066c70a6  5dc8cea7659e181adb076a3f      730       -76  \n",
       "\n",
       "[252812 rows x 513 columns]"
      ],
      "text/html": "<div>\n<style scoped>\n    .dataframe tbody tr th:only-of-type {\n        vertical-align: middle;\n    }\n\n    .dataframe tbody tr th {\n        vertical-align: top;\n    }\n\n    .dataframe thead th {\n        text-align: right;\n    }\n</style>\n<table border=\"1\" class=\"dataframe\">\n  <thead>\n    <tr style=\"text-align: right;\">\n      <th></th>\n      <th>id</th>\n      <th>ssid_0</th>\n      <th>ssid_1</th>\n      <th>ssid_2</th>\n      <th>ssid_3</th>\n      <th>ssid_4</th>\n      <th>ssid_5</th>\n      <th>ssid_6</th>\n      <th>ssid_7</th>\n      <th>ssid_8</th>\n      <th>...</th>\n      <th>y</th>\n      <th>itimestamp</th>\n      <th>ix</th>\n      <th>iy</th>\n      <th>floor</th>\n      <th>floor_str</th>\n      <th>path</th>\n      <th>site_id</th>\n      <th>timediff</th>\n      <th>itimediff</th>\n    </tr>\n  </thead>\n  <tbody>\n    <tr>\n      <th>0</th>\n      <td>0</td>\n      <td>356d66c73c423be835bd5d07cb1ebdfa821d8e23</td>\n      <td>c3513a636d1a813db081a2ffc33f297b4fefe28d</td>\n      <td>990847ae755de95a44c7b1be54e66f4e56fdc7f4</td>\n      <td>4e601619b7c7d9df8d61490ad2c134f08ea01d61</td>\n      <td>c3513a636d1a813db081a2ffc33f297b4fefe28d</td>\n      <td>b14c56d7cd73a5b026fc118c671e24dc2ba2558b</td>\n      <td>d839a45ebe64ab48b60a407d837fb01d3c0dfef9</td>\n      <td>7182afc4e5c212133d5d7d76eb3df6c24618302b</td>\n      <td>b9f0208be00bd8b337be7f12e02e3a3ce846e22b</td>\n      <td>...</td>\n      <td>156.842239</td>\n      <td>1578466134278</td>\n      <td>113.615387</td>\n      <td>156.634796</td>\n      <td>-1.0</td>\n      <td>B1</td>\n      <td>5e1580d1f4c3420006d520e4</td>\n      <td>5a0546857ecc773753327266</td>\n      <td>-1545</td>\n      <td>-45</td>\n    </tr>\n    <tr>\n      <th>1</th>\n      <td>1</td>\n      <td>356d66c73c423be835bd5d07cb1ebdfa821d8e23</td>\n      <td>f44fa6118fed7198296c8b45b2f2684903d99620</td>\n      <td>c3513a636d1a813db081a2ffc33f297b4fefe28d</td>\n      <td>990847ae755de95a44c7b1be54e66f4e56fdc7f4</td>\n      <td>d839a45ebe64ab48b60a407d837fb01d3c0dfef9</td>\n      <td>b7e6027447eb1f81327d66cfd3adbe557aabf26c</td>\n      <td>7182afc4e5c212133d5d7d76eb3df6c24618302b</td>\n      <td>da39a3ee5e6b4b0d3255bfef95601890afd80709</td>\n      <td>b9f0208be00bd8b337be7f12e02e3a3ce846e22b</td>\n      <td>...</td>\n      <td>156.842239</td>\n      <td>1578466136278</td>\n      <td>112.655884</td>\n      <td>156.358200</td>\n      <td>-1.0</td>\n      <td>B1</td>\n      <td>5e1580d1f4c3420006d520e4</td>\n      <td>5a0546857ecc773753327266</td>\n      <td>-3512</td>\n      <td>-12</td>\n    </tr>\n    <tr>\n      <th>2</th>\n      <td>2</td>\n      <td>f44fa6118fed7198296c8b45b2f2684903d99620</td>\n      <td>356d66c73c423be835bd5d07cb1ebdfa821d8e23</td>\n      <td>8aed75f7c344e6a3d4916750029dd4ee47c1e7c5</td>\n      <td>c3513a636d1a813db081a2ffc33f297b4fefe28d</td>\n      <td>5a368e0bd5050bdb4653dc39c86bee1fd2b8aeb7</td>\n      <td>4e601619b7c7d9df8d61490ad2c134f08ea01d61</td>\n      <td>2ce029b3a3dea973a44bf0587be5e2b93a74e5f1</td>\n      <td>b14c56d7cd73a5b026fc118c671e24dc2ba2558b</td>\n      <td>3fa90121039c7b6e24ae985d228e0366ae15fba4</td>\n      <td>...</td>\n      <td>156.842239</td>\n      <td>1578466138278</td>\n      <td>111.936256</td>\n      <td>156.150772</td>\n      <td>-1.0</td>\n      <td>B1</td>\n      <td>5e1580d1f4c3420006d520e4</td>\n      <td>5a0546857ecc773753327266</td>\n      <td>-5471</td>\n      <td>29</td>\n    </tr>\n    <tr>\n      <th>3</th>\n      <td>3</td>\n      <td>356d66c73c423be835bd5d07cb1ebdfa821d8e23</td>\n      <td>f44fa6118fed7198296c8b45b2f2684903d99620</td>\n      <td>5a368e0bd5050bdb4653dc39c86bee1fd2b8aeb7</td>\n      <td>990847ae755de95a44c7b1be54e66f4e56fdc7f4</td>\n      <td>da39a3ee5e6b4b0d3255bfef95601890afd80709</td>\n      <td>b6ffe5619e02871fcd04f61c9bb4b5c53a3f46b7</td>\n      <td>b7e6027447eb1f81327d66cfd3adbe557aabf26c</td>\n      <td>3fa90121039c7b6e24ae985d228e0366ae15fba4</td>\n      <td>d839a45ebe64ab48b60a407d837fb01d3c0dfef9</td>\n      <td>...</td>\n      <td>156.842239</td>\n      <td>1578466140278</td>\n      <td>110.976761</td>\n      <td>155.874176</td>\n      <td>-1.0</td>\n      <td>B1</td>\n      <td>5e1580d1f4c3420006d520e4</td>\n      <td>5a0546857ecc773753327266</td>\n      <td>-7428</td>\n      <td>72</td>\n    </tr>\n    <tr>\n      <th>4</th>\n      <td>4</td>\n      <td>f44fa6118fed7198296c8b45b2f2684903d99620</td>\n      <td>356d66c73c423be835bd5d07cb1ebdfa821d8e23</td>\n      <td>990847ae755de95a44c7b1be54e66f4e56fdc7f4</td>\n      <td>c3513a636d1a813db081a2ffc33f297b4fefe28d</td>\n      <td>d839a45ebe64ab48b60a407d837fb01d3c0dfef9</td>\n      <td>b7e6027447eb1f81327d66cfd3adbe557aabf26c</td>\n      <td>7182afc4e5c212133d5d7d76eb3df6c24618302b</td>\n      <td>b9f0208be00bd8b337be7f12e02e3a3ce846e22b</td>\n      <td>b6ffe5619e02871fcd04f61c9bb4b5c53a3f46b7</td>\n      <td>...</td>\n      <td>154.629517</td>\n      <td>1578466142278</td>\n      <td>110.017258</td>\n      <td>155.597580</td>\n      <td>-1.0</td>\n      <td>B1</td>\n      <td>5e1580d1f4c3420006d520e4</td>\n      <td>5a0546857ecc773753327266</td>\n      <td>7401</td>\n      <td>105</td>\n    </tr>\n    <tr>\n      <th>...</th>\n      <td>...</td>\n      <td>...</td>\n      <td>...</td>\n      <td>...</td>\n      <td>...</td>\n      <td>...</td>\n      <td>...</td>\n      <td>...</td>\n      <td>...</td>\n      <td>...</td>\n      <td>...</td>\n      <td>...</td>\n      <td>...</td>\n      <td>...</td>\n      <td>...</td>\n      <td>...</td>\n      <td>...</td>\n      <td>...</td>\n      <td>...</td>\n      <td>...</td>\n      <td>...</td>\n    </tr>\n    <tr>\n      <th>252807</th>\n      <td>252807</td>\n      <td>18336f0964fbd470a2ee7116d33b96946c633999</td>\n      <td>072159287058774aa9b450c9163129b309bc982b</td>\n      <td>18336f0964fbd470a2ee7116d33b96946c633999</td>\n      <td>040667e2fdd3a9bbb54e970c430ad6f08416c52e</td>\n      <td>072159287058774aa9b450c9163129b309bc982b</td>\n      <td>da39a3ee5e6b4b0d3255bfef95601890afd80709</td>\n      <td>da39a3ee5e6b4b0d3255bfef95601890afd80709</td>\n      <td>da39a3ee5e6b4b0d3255bfef95601890afd80709</td>\n      <td>da39a3ee5e6b4b0d3255bfef95601890afd80709</td>\n      <td>...</td>\n      <td>107.011642</td>\n      <td>1573892866000</td>\n      <td>128.925217</td>\n      <td>109.018059</td>\n      <td>6.0</td>\n      <td>F7</td>\n      <td>5dcfb393878f3300066c70a6</td>\n      <td>5dc8cea7659e181adb076a3f</td>\n      <td>-2224</td>\n      <td>38</td>\n    </tr>\n    <tr>\n      <th>252808</th>\n      <td>252808</td>\n      <td>18336f0964fbd470a2ee7116d33b96946c633999</td>\n      <td>18336f0964fbd470a2ee7116d33b96946c633999</td>\n      <td>072159287058774aa9b450c9163129b309bc982b</td>\n      <td>072159287058774aa9b450c9163129b309bc982b</td>\n      <td>ea9e102c49dbc834b1059c5e8b5dc4a017a82dff</td>\n      <td>040667e2fdd3a9bbb54e970c430ad6f08416c52e</td>\n      <td>da39a3ee5e6b4b0d3255bfef95601890afd80709</td>\n      <td>ea9e102c49dbc834b1059c5e8b5dc4a017a82dff</td>\n      <td>da39a3ee5e6b4b0d3255bfef95601890afd80709</td>\n      <td>...</td>\n      <td>111.526085</td>\n      <td>1573892868000</td>\n      <td>130.645798</td>\n      <td>110.522873</td>\n      <td>6.0</td>\n      <td>F7</td>\n      <td>5dcfb393878f3300066c70a6</td>\n      <td>5dc8cea7659e181adb076a3f</td>\n      <td>1098</td>\n      <td>126</td>\n    </tr>\n    <tr>\n      <th>252809</th>\n      <td>252809</td>\n      <td>18336f0964fbd470a2ee7116d33b96946c633999</td>\n      <td>18336f0964fbd470a2ee7116d33b96946c633999</td>\n      <td>072159287058774aa9b450c9163129b309bc982b</td>\n      <td>ea9e102c49dbc834b1059c5e8b5dc4a017a82dff</td>\n      <td>072159287058774aa9b450c9163129b309bc982b</td>\n      <td>040667e2fdd3a9bbb54e970c430ad6f08416c52e</td>\n      <td>1f09251bbfadafb11c63c87963af25238d6bc886</td>\n      <td>da39a3ee5e6b4b0d3255bfef95601890afd80709</td>\n      <td>da39a3ee5e6b4b0d3255bfef95601890afd80709</td>\n      <td>...</td>\n      <td>111.526085</td>\n      <td>1573892870000</td>\n      <td>132.872238</td>\n      <td>112.610954</td>\n      <td>6.0</td>\n      <td>F7</td>\n      <td>5dcfb393878f3300066c70a6</td>\n      <td>5dc8cea7659e181adb076a3f</td>\n      <td>-790</td>\n      <td>238</td>\n    </tr>\n    <tr>\n      <th>252810</th>\n      <td>252810</td>\n      <td>18336f0964fbd470a2ee7116d33b96946c633999</td>\n      <td>18336f0964fbd470a2ee7116d33b96946c633999</td>\n      <td>072159287058774aa9b450c9163129b309bc982b</td>\n      <td>040667e2fdd3a9bbb54e970c430ad6f08416c52e</td>\n      <td>da39a3ee5e6b4b0d3255bfef95601890afd80709</td>\n      <td>072159287058774aa9b450c9163129b309bc982b</td>\n      <td>90ef6526fa145d95dc065edc3b3a3193406f3ee4</td>\n      <td>ea9e102c49dbc834b1059c5e8b5dc4a017a82dff</td>\n      <td>1f09251bbfadafb11c63c87963af25238d6bc886</td>\n      <td>...</td>\n      <td>116.407990</td>\n      <td>1573892871500</td>\n      <td>133.951599</td>\n      <td>113.695824</td>\n      <td>6.0</td>\n      <td>F7</td>\n      <td>5dcfb393878f3300066c70a6</td>\n      <td>5dc8cea7659e181adb076a3f</td>\n      <td>2619</td>\n      <td>-187</td>\n    </tr>\n    <tr>\n      <th>252811</th>\n      <td>252811</td>\n      <td>18336f0964fbd470a2ee7116d33b96946c633999</td>\n      <td>90ef6526fa145d95dc065edc3b3a3193406f3ee4</td>\n      <td>040667e2fdd3a9bbb54e970c430ad6f08416c52e</td>\n      <td>18336f0964fbd470a2ee7116d33b96946c633999</td>\n      <td>da39a3ee5e6b4b0d3255bfef95601890afd80709</td>\n      <td>072159287058774aa9b450c9163129b309bc982b</td>\n      <td>ea9e102c49dbc834b1059c5e8b5dc4a017a82dff</td>\n      <td>072159287058774aa9b450c9163129b309bc982b</td>\n      <td>1f09251bbfadafb11c63c87963af25238d6bc886</td>\n      <td>...</td>\n      <td>116.407990</td>\n      <td>1573892873500</td>\n      <td>136.110352</td>\n      <td>115.865555</td>\n      <td>6.0</td>\n      <td>F7</td>\n      <td>5dcfb393878f3300066c70a6</td>\n      <td>5dc8cea7659e181adb076a3f</td>\n      <td>730</td>\n      <td>-76</td>\n    </tr>\n  </tbody>\n</table>\n<p>252812 rows × 513 columns</p>\n</div>"
     },
     "metadata": {},
     "execution_count": 9
    }
   ],
   "source": [
    "train_df"
   ]
  },
  {
   "cell_type": "code",
   "execution_count": 10,
   "metadata": {},
   "outputs": [
    {
     "output_type": "execute_result",
     "data": {
      "text/plain": [
       "                                         ssid_0  \\\n",
       "0      b9f0208be00bd8b337be7f12e02e3a3ce846e22b   \n",
       "1      da39a3ee5e6b4b0d3255bfef95601890afd80709   \n",
       "2      b6ffe5619e02871fcd04f61c9bb4b5c53a3f46b7   \n",
       "3      da39a3ee5e6b4b0d3255bfef95601890afd80709   \n",
       "4      da39a3ee5e6b4b0d3255bfef95601890afd80709   \n",
       "...                                         ...   \n",
       "10124  0f927dce74ec3475c7a39299e5bffab222ca665d   \n",
       "10125  8e69018f6343506344ab13646ccd9447fc2ffb19   \n",
       "10126  8e69018f6343506344ab13646ccd9447fc2ffb19   \n",
       "10127  5d998a8668536c4f51004c25f474117fe9555f78   \n",
       "10128  aa449fabc4dcb24836d950b5cff91f08e574c3a7   \n",
       "\n",
       "                                         ssid_1  \\\n",
       "0      ab150ecf6d972b476aeab16317bed6189d9f7cce   \n",
       "1      d839a45ebe64ab48b60a407d837fb01d3c0dfef9   \n",
       "2      da39a3ee5e6b4b0d3255bfef95601890afd80709   \n",
       "3      da39a3ee5e6b4b0d3255bfef95601890afd80709   \n",
       "4      da39a3ee5e6b4b0d3255bfef95601890afd80709   \n",
       "...                                         ...   \n",
       "10124  5d998a8668536c4f51004c25f474117fe9555f78   \n",
       "10125  0f927dce74ec3475c7a39299e5bffab222ca665d   \n",
       "10126  5d998a8668536c4f51004c25f474117fe9555f78   \n",
       "10127  8e69018f6343506344ab13646ccd9447fc2ffb19   \n",
       "10128  5d998a8668536c4f51004c25f474117fe9555f78   \n",
       "\n",
       "                                         ssid_2  \\\n",
       "0      b6ffe5619e02871fcd04f61c9bb4b5c53a3f46b7   \n",
       "1      b6ffe5619e02871fcd04f61c9bb4b5c53a3f46b7   \n",
       "2      b7e6027447eb1f81327d66cfd3adbe557aabf26c   \n",
       "3      b9f0208be00bd8b337be7f12e02e3a3ce846e22b   \n",
       "4      7182afc4e5c212133d5d7d76eb3df6c24618302b   \n",
       "...                                         ...   \n",
       "10124  8e69018f6343506344ab13646ccd9447fc2ffb19   \n",
       "10125  efa1fe97c4b2a6c57d98de9c236a109032ceb839   \n",
       "10126  8e69018f6343506344ab13646ccd9447fc2ffb19   \n",
       "10127  5d998a8668536c4f51004c25f474117fe9555f78   \n",
       "10128  da39a3ee5e6b4b0d3255bfef95601890afd80709   \n",
       "\n",
       "                                         ssid_3  \\\n",
       "0      b7e6027447eb1f81327d66cfd3adbe557aabf26c   \n",
       "1      b7e6027447eb1f81327d66cfd3adbe557aabf26c   \n",
       "2      d839a45ebe64ab48b60a407d837fb01d3c0dfef9   \n",
       "3      d839a45ebe64ab48b60a407d837fb01d3c0dfef9   \n",
       "4      b9f0208be00bd8b337be7f12e02e3a3ce846e22b   \n",
       "...                                         ...   \n",
       "10124  efa1fe97c4b2a6c57d98de9c236a109032ceb839   \n",
       "10125  da39a3ee5e6b4b0d3255bfef95601890afd80709   \n",
       "10126  5d998a8668536c4f51004c25f474117fe9555f78   \n",
       "10127  8e69018f6343506344ab13646ccd9447fc2ffb19   \n",
       "10128  6381b3137285875eda5bc77d9b8cc7650f0f5d7d   \n",
       "\n",
       "                                         ssid_4  \\\n",
       "0      d839a45ebe64ab48b60a407d837fb01d3c0dfef9   \n",
       "1      d839a45ebe64ab48b60a407d837fb01d3c0dfef9   \n",
       "2      7182afc4e5c212133d5d7d76eb3df6c24618302b   \n",
       "3      b6ffe5619e02871fcd04f61c9bb4b5c53a3f46b7   \n",
       "4      b6ffe5619e02871fcd04f61c9bb4b5c53a3f46b7   \n",
       "...                                         ...   \n",
       "10124  da39a3ee5e6b4b0d3255bfef95601890afd80709   \n",
       "10125  5d998a8668536c4f51004c25f474117fe9555f78   \n",
       "10126  c72257cf75d6a411225948bbc4e37ad554e7beda   \n",
       "10127  da39a3ee5e6b4b0d3255bfef95601890afd80709   \n",
       "10128  efa1fe97c4b2a6c57d98de9c236a109032ceb839   \n",
       "\n",
       "                                         ssid_5  \\\n",
       "0      7182afc4e5c212133d5d7d76eb3df6c24618302b   \n",
       "1      7182afc4e5c212133d5d7d76eb3df6c24618302b   \n",
       "2      b9f0208be00bd8b337be7f12e02e3a3ce846e22b   \n",
       "3      b7e6027447eb1f81327d66cfd3adbe557aabf26c   \n",
       "4      b7e6027447eb1f81327d66cfd3adbe557aabf26c   \n",
       "...                                         ...   \n",
       "10124  5d998a8668536c4f51004c25f474117fe9555f78   \n",
       "10125  5d998a8668536c4f51004c25f474117fe9555f78   \n",
       "10126  da39a3ee5e6b4b0d3255bfef95601890afd80709   \n",
       "10127  aa449fabc4dcb24836d950b5cff91f08e574c3a7   \n",
       "10128  0eb4ecd03a3128e62bdff60e6f686d88e783441e   \n",
       "\n",
       "                                         ssid_6  \\\n",
       "0      da39a3ee5e6b4b0d3255bfef95601890afd80709   \n",
       "1      b9f0208be00bd8b337be7f12e02e3a3ce846e22b   \n",
       "2      da39a3ee5e6b4b0d3255bfef95601890afd80709   \n",
       "3      b7e6027447eb1f81327d66cfd3adbe557aabf26c   \n",
       "4      26571eb257b6a34b6beb93c05768e751d19279a6   \n",
       "...                                         ...   \n",
       "10124  c72257cf75d6a411225948bbc4e37ad554e7beda   \n",
       "10125  da39a3ee5e6b4b0d3255bfef95601890afd80709   \n",
       "10126  5d998a8668536c4f51004c25f474117fe9555f78   \n",
       "10127  c72257cf75d6a411225948bbc4e37ad554e7beda   \n",
       "10128  8e69018f6343506344ab13646ccd9447fc2ffb19   \n",
       "\n",
       "                                         ssid_7  \\\n",
       "0      01e78c97f2c04cdbc7c4159158bb125a9bb558ff   \n",
       "1      7182afc4e5c212133d5d7d76eb3df6c24618302b   \n",
       "2      b9f0208be00bd8b337be7f12e02e3a3ce846e22b   \n",
       "3      7182afc4e5c212133d5d7d76eb3df6c24618302b   \n",
       "4      d839a45ebe64ab48b60a407d837fb01d3c0dfef9   \n",
       "...                                         ...   \n",
       "10124  da39a3ee5e6b4b0d3255bfef95601890afd80709   \n",
       "10125  8e69018f6343506344ab13646ccd9447fc2ffb19   \n",
       "10126  da39a3ee5e6b4b0d3255bfef95601890afd80709   \n",
       "10127  da39a3ee5e6b4b0d3255bfef95601890afd80709   \n",
       "10128  da39a3ee5e6b4b0d3255bfef95601890afd80709   \n",
       "\n",
       "                                         ssid_8  \\\n",
       "0      b9f0208be00bd8b337be7f12e02e3a3ce846e22b   \n",
       "1      b7e6027447eb1f81327d66cfd3adbe557aabf26c   \n",
       "2      b6ffe5619e02871fcd04f61c9bb4b5c53a3f46b7   \n",
       "3      5731b8e08abc69d4c4d685c58164059207c93310   \n",
       "4      d839a45ebe64ab48b60a407d837fb01d3c0dfef9   \n",
       "...                                         ...   \n",
       "10124  5d998a8668536c4f51004c25f474117fe9555f78   \n",
       "10125  5d998a8668536c4f51004c25f474117fe9555f78   \n",
       "10126  5d998a8668536c4f51004c25f474117fe9555f78   \n",
       "10127  efa1fe97c4b2a6c57d98de9c236a109032ceb839   \n",
       "10128  6ee7b15e068bf8b82c3ce0cd0af84a6b6be5b30d   \n",
       "\n",
       "                                         ssid_9  ... timediff_95 timediff_96  \\\n",
       "0      7182afc4e5c212133d5d7d76eb3df6c24618302b  ...      1750.0      1751.0   \n",
       "1      b6ffe5619e02871fcd04f61c9bb4b5c53a3f46b7  ...       353.0       359.0   \n",
       "2      d839a45ebe64ab48b60a407d837fb01d3c0dfef9  ...      9441.0      1879.0   \n",
       "3      d839a45ebe64ab48b60a407d837fb01d3c0dfef9  ...        21.0       464.0   \n",
       "4      da39a3ee5e6b4b0d3255bfef95601890afd80709  ...       432.0       430.0   \n",
       "...                                         ...  ...         ...         ...   \n",
       "10124  da39a3ee5e6b4b0d3255bfef95601890afd80709  ...      5457.0      3898.0   \n",
       "10125  0eb4ecd03a3128e62bdff60e6f686d88e783441e  ...      3074.0       485.0   \n",
       "10126  5d998a8668536c4f51004c25f474117fe9555f78  ...      2241.0       289.0   \n",
       "10127  6381b3137285875eda5bc77d9b8cc7650f0f5d7d  ...       430.0        56.0   \n",
       "10128  5d998a8668536c4f51004c25f474117fe9555f78  ...      7840.0      3926.0   \n",
       "\n",
       "      timediff_97 timediff_98 timediff_99      timestamp  \\\n",
       "0          1728.0      1377.0       635.0  1578474563646   \n",
       "1           353.0      5239.0      3133.0  1578474572654   \n",
       "2          1369.0      7149.0      9619.0  1578474578963   \n",
       "3           736.0       735.0        23.0  1578474582400   \n",
       "4           429.0       646.0       646.0  1578474585965   \n",
       "...           ...         ...         ...            ...   \n",
       "10124      3898.0      7278.0      7526.0  1573731143256   \n",
       "10125       789.0      4556.0      4764.0  1573731146426   \n",
       "10126       239.0       462.0        15.0  1573731151563   \n",
       "10127       348.0       216.0       213.0  1573731157567   \n",
       "10128      3784.0      1212.0      9537.0  1573731161115   \n",
       "\n",
       "                           path                   site_id timediff  \\\n",
       "0      046cfa46be49fc10834815c6  5a0546857ecc773753327266    -2331   \n",
       "1      046cfa46be49fc10834815c6  5a0546857ecc773753327266     -491   \n",
       "2      046cfa46be49fc10834815c6  5a0546857ecc773753327266      612   \n",
       "3      046cfa46be49fc10834815c6  5a0546857ecc773753327266     -824   \n",
       "4      046cfa46be49fc10834815c6  5a0546857ecc773753327266      254   \n",
       "...                         ...                       ...      ...   \n",
       "10124  fd64de8c4a2fc5ebb0e9f412  5dc8cea7659e181adb076a3f      925   \n",
       "10125  fd64de8c4a2fc5ebb0e9f412  5dc8cea7659e181adb076a3f      123   \n",
       "10126  fd64de8c4a2fc5ebb0e9f412  5dc8cea7659e181adb076a3f     -625   \n",
       "10127  fd64de8c4a2fc5ebb0e9f412  5dc8cea7659e181adb076a3f     -528   \n",
       "10128  fd64de8c4a2fc5ebb0e9f412  5dc8cea7659e181adb076a3f     1019   \n",
       "\n",
       "                                     site_path_timestamp  \n",
       "0      5a0546857ecc773753327266_046cfa46be49fc1083481...  \n",
       "1      5a0546857ecc773753327266_046cfa46be49fc1083481...  \n",
       "2      5a0546857ecc773753327266_046cfa46be49fc1083481...  \n",
       "3      5a0546857ecc773753327266_046cfa46be49fc1083481...  \n",
       "4      5a0546857ecc773753327266_046cfa46be49fc1083481...  \n",
       "...                                                  ...  \n",
       "10124  5dc8cea7659e181adb076a3f_fd64de8c4a2fc5ebb0e9f...  \n",
       "10125  5dc8cea7659e181adb076a3f_fd64de8c4a2fc5ebb0e9f...  \n",
       "10126  5dc8cea7659e181adb076a3f_fd64de8c4a2fc5ebb0e9f...  \n",
       "10127  5dc8cea7659e181adb076a3f_fd64de8c4a2fc5ebb0e9f...  \n",
       "10128  5dc8cea7659e181adb076a3f_fd64de8c4a2fc5ebb0e9f...  \n",
       "\n",
       "[10129 rows x 505 columns]"
      ],
      "text/html": "<div>\n<style scoped>\n    .dataframe tbody tr th:only-of-type {\n        vertical-align: middle;\n    }\n\n    .dataframe tbody tr th {\n        vertical-align: top;\n    }\n\n    .dataframe thead th {\n        text-align: right;\n    }\n</style>\n<table border=\"1\" class=\"dataframe\">\n  <thead>\n    <tr style=\"text-align: right;\">\n      <th></th>\n      <th>ssid_0</th>\n      <th>ssid_1</th>\n      <th>ssid_2</th>\n      <th>ssid_3</th>\n      <th>ssid_4</th>\n      <th>ssid_5</th>\n      <th>ssid_6</th>\n      <th>ssid_7</th>\n      <th>ssid_8</th>\n      <th>ssid_9</th>\n      <th>...</th>\n      <th>timediff_95</th>\n      <th>timediff_96</th>\n      <th>timediff_97</th>\n      <th>timediff_98</th>\n      <th>timediff_99</th>\n      <th>timestamp</th>\n      <th>path</th>\n      <th>site_id</th>\n      <th>timediff</th>\n      <th>site_path_timestamp</th>\n    </tr>\n  </thead>\n  <tbody>\n    <tr>\n      <th>0</th>\n      <td>b9f0208be00bd8b337be7f12e02e3a3ce846e22b</td>\n      <td>ab150ecf6d972b476aeab16317bed6189d9f7cce</td>\n      <td>b6ffe5619e02871fcd04f61c9bb4b5c53a3f46b7</td>\n      <td>b7e6027447eb1f81327d66cfd3adbe557aabf26c</td>\n      <td>d839a45ebe64ab48b60a407d837fb01d3c0dfef9</td>\n      <td>7182afc4e5c212133d5d7d76eb3df6c24618302b</td>\n      <td>da39a3ee5e6b4b0d3255bfef95601890afd80709</td>\n      <td>01e78c97f2c04cdbc7c4159158bb125a9bb558ff</td>\n      <td>b9f0208be00bd8b337be7f12e02e3a3ce846e22b</td>\n      <td>7182afc4e5c212133d5d7d76eb3df6c24618302b</td>\n      <td>...</td>\n      <td>1750.0</td>\n      <td>1751.0</td>\n      <td>1728.0</td>\n      <td>1377.0</td>\n      <td>635.0</td>\n      <td>1578474563646</td>\n      <td>046cfa46be49fc10834815c6</td>\n      <td>5a0546857ecc773753327266</td>\n      <td>-2331</td>\n      <td>5a0546857ecc773753327266_046cfa46be49fc1083481...</td>\n    </tr>\n    <tr>\n      <th>1</th>\n      <td>da39a3ee5e6b4b0d3255bfef95601890afd80709</td>\n      <td>d839a45ebe64ab48b60a407d837fb01d3c0dfef9</td>\n      <td>b6ffe5619e02871fcd04f61c9bb4b5c53a3f46b7</td>\n      <td>b7e6027447eb1f81327d66cfd3adbe557aabf26c</td>\n      <td>d839a45ebe64ab48b60a407d837fb01d3c0dfef9</td>\n      <td>7182afc4e5c212133d5d7d76eb3df6c24618302b</td>\n      <td>b9f0208be00bd8b337be7f12e02e3a3ce846e22b</td>\n      <td>7182afc4e5c212133d5d7d76eb3df6c24618302b</td>\n      <td>b7e6027447eb1f81327d66cfd3adbe557aabf26c</td>\n      <td>b6ffe5619e02871fcd04f61c9bb4b5c53a3f46b7</td>\n      <td>...</td>\n      <td>353.0</td>\n      <td>359.0</td>\n      <td>353.0</td>\n      <td>5239.0</td>\n      <td>3133.0</td>\n      <td>1578474572654</td>\n      <td>046cfa46be49fc10834815c6</td>\n      <td>5a0546857ecc773753327266</td>\n      <td>-491</td>\n      <td>5a0546857ecc773753327266_046cfa46be49fc1083481...</td>\n    </tr>\n    <tr>\n      <th>2</th>\n      <td>b6ffe5619e02871fcd04f61c9bb4b5c53a3f46b7</td>\n      <td>da39a3ee5e6b4b0d3255bfef95601890afd80709</td>\n      <td>b7e6027447eb1f81327d66cfd3adbe557aabf26c</td>\n      <td>d839a45ebe64ab48b60a407d837fb01d3c0dfef9</td>\n      <td>7182afc4e5c212133d5d7d76eb3df6c24618302b</td>\n      <td>b9f0208be00bd8b337be7f12e02e3a3ce846e22b</td>\n      <td>da39a3ee5e6b4b0d3255bfef95601890afd80709</td>\n      <td>b9f0208be00bd8b337be7f12e02e3a3ce846e22b</td>\n      <td>b6ffe5619e02871fcd04f61c9bb4b5c53a3f46b7</td>\n      <td>d839a45ebe64ab48b60a407d837fb01d3c0dfef9</td>\n      <td>...</td>\n      <td>9441.0</td>\n      <td>1879.0</td>\n      <td>1369.0</td>\n      <td>7149.0</td>\n      <td>9619.0</td>\n      <td>1578474578963</td>\n      <td>046cfa46be49fc10834815c6</td>\n      <td>5a0546857ecc773753327266</td>\n      <td>612</td>\n      <td>5a0546857ecc773753327266_046cfa46be49fc1083481...</td>\n    </tr>\n    <tr>\n      <th>3</th>\n      <td>da39a3ee5e6b4b0d3255bfef95601890afd80709</td>\n      <td>da39a3ee5e6b4b0d3255bfef95601890afd80709</td>\n      <td>b9f0208be00bd8b337be7f12e02e3a3ce846e22b</td>\n      <td>d839a45ebe64ab48b60a407d837fb01d3c0dfef9</td>\n      <td>b6ffe5619e02871fcd04f61c9bb4b5c53a3f46b7</td>\n      <td>b7e6027447eb1f81327d66cfd3adbe557aabf26c</td>\n      <td>b7e6027447eb1f81327d66cfd3adbe557aabf26c</td>\n      <td>7182afc4e5c212133d5d7d76eb3df6c24618302b</td>\n      <td>5731b8e08abc69d4c4d685c58164059207c93310</td>\n      <td>d839a45ebe64ab48b60a407d837fb01d3c0dfef9</td>\n      <td>...</td>\n      <td>21.0</td>\n      <td>464.0</td>\n      <td>736.0</td>\n      <td>735.0</td>\n      <td>23.0</td>\n      <td>1578474582400</td>\n      <td>046cfa46be49fc10834815c6</td>\n      <td>5a0546857ecc773753327266</td>\n      <td>-824</td>\n      <td>5a0546857ecc773753327266_046cfa46be49fc1083481...</td>\n    </tr>\n    <tr>\n      <th>4</th>\n      <td>da39a3ee5e6b4b0d3255bfef95601890afd80709</td>\n      <td>da39a3ee5e6b4b0d3255bfef95601890afd80709</td>\n      <td>7182afc4e5c212133d5d7d76eb3df6c24618302b</td>\n      <td>b9f0208be00bd8b337be7f12e02e3a3ce846e22b</td>\n      <td>b6ffe5619e02871fcd04f61c9bb4b5c53a3f46b7</td>\n      <td>b7e6027447eb1f81327d66cfd3adbe557aabf26c</td>\n      <td>26571eb257b6a34b6beb93c05768e751d19279a6</td>\n      <td>d839a45ebe64ab48b60a407d837fb01d3c0dfef9</td>\n      <td>d839a45ebe64ab48b60a407d837fb01d3c0dfef9</td>\n      <td>da39a3ee5e6b4b0d3255bfef95601890afd80709</td>\n      <td>...</td>\n      <td>432.0</td>\n      <td>430.0</td>\n      <td>429.0</td>\n      <td>646.0</td>\n      <td>646.0</td>\n      <td>1578474585965</td>\n      <td>046cfa46be49fc10834815c6</td>\n      <td>5a0546857ecc773753327266</td>\n      <td>254</td>\n      <td>5a0546857ecc773753327266_046cfa46be49fc1083481...</td>\n    </tr>\n    <tr>\n      <th>...</th>\n      <td>...</td>\n      <td>...</td>\n      <td>...</td>\n      <td>...</td>\n      <td>...</td>\n      <td>...</td>\n      <td>...</td>\n      <td>...</td>\n      <td>...</td>\n      <td>...</td>\n      <td>...</td>\n      <td>...</td>\n      <td>...</td>\n      <td>...</td>\n      <td>...</td>\n      <td>...</td>\n      <td>...</td>\n      <td>...</td>\n      <td>...</td>\n      <td>...</td>\n      <td>...</td>\n    </tr>\n    <tr>\n      <th>10124</th>\n      <td>0f927dce74ec3475c7a39299e5bffab222ca665d</td>\n      <td>5d998a8668536c4f51004c25f474117fe9555f78</td>\n      <td>8e69018f6343506344ab13646ccd9447fc2ffb19</td>\n      <td>efa1fe97c4b2a6c57d98de9c236a109032ceb839</td>\n      <td>da39a3ee5e6b4b0d3255bfef95601890afd80709</td>\n      <td>5d998a8668536c4f51004c25f474117fe9555f78</td>\n      <td>c72257cf75d6a411225948bbc4e37ad554e7beda</td>\n      <td>da39a3ee5e6b4b0d3255bfef95601890afd80709</td>\n      <td>5d998a8668536c4f51004c25f474117fe9555f78</td>\n      <td>da39a3ee5e6b4b0d3255bfef95601890afd80709</td>\n      <td>...</td>\n      <td>5457.0</td>\n      <td>3898.0</td>\n      <td>3898.0</td>\n      <td>7278.0</td>\n      <td>7526.0</td>\n      <td>1573731143256</td>\n      <td>fd64de8c4a2fc5ebb0e9f412</td>\n      <td>5dc8cea7659e181adb076a3f</td>\n      <td>925</td>\n      <td>5dc8cea7659e181adb076a3f_fd64de8c4a2fc5ebb0e9f...</td>\n    </tr>\n    <tr>\n      <th>10125</th>\n      <td>8e69018f6343506344ab13646ccd9447fc2ffb19</td>\n      <td>0f927dce74ec3475c7a39299e5bffab222ca665d</td>\n      <td>efa1fe97c4b2a6c57d98de9c236a109032ceb839</td>\n      <td>da39a3ee5e6b4b0d3255bfef95601890afd80709</td>\n      <td>5d998a8668536c4f51004c25f474117fe9555f78</td>\n      <td>5d998a8668536c4f51004c25f474117fe9555f78</td>\n      <td>da39a3ee5e6b4b0d3255bfef95601890afd80709</td>\n      <td>8e69018f6343506344ab13646ccd9447fc2ffb19</td>\n      <td>5d998a8668536c4f51004c25f474117fe9555f78</td>\n      <td>0eb4ecd03a3128e62bdff60e6f686d88e783441e</td>\n      <td>...</td>\n      <td>3074.0</td>\n      <td>485.0</td>\n      <td>789.0</td>\n      <td>4556.0</td>\n      <td>4764.0</td>\n      <td>1573731146426</td>\n      <td>fd64de8c4a2fc5ebb0e9f412</td>\n      <td>5dc8cea7659e181adb076a3f</td>\n      <td>123</td>\n      <td>5dc8cea7659e181adb076a3f_fd64de8c4a2fc5ebb0e9f...</td>\n    </tr>\n    <tr>\n      <th>10126</th>\n      <td>8e69018f6343506344ab13646ccd9447fc2ffb19</td>\n      <td>5d998a8668536c4f51004c25f474117fe9555f78</td>\n      <td>8e69018f6343506344ab13646ccd9447fc2ffb19</td>\n      <td>5d998a8668536c4f51004c25f474117fe9555f78</td>\n      <td>c72257cf75d6a411225948bbc4e37ad554e7beda</td>\n      <td>da39a3ee5e6b4b0d3255bfef95601890afd80709</td>\n      <td>5d998a8668536c4f51004c25f474117fe9555f78</td>\n      <td>da39a3ee5e6b4b0d3255bfef95601890afd80709</td>\n      <td>5d998a8668536c4f51004c25f474117fe9555f78</td>\n      <td>5d998a8668536c4f51004c25f474117fe9555f78</td>\n      <td>...</td>\n      <td>2241.0</td>\n      <td>289.0</td>\n      <td>239.0</td>\n      <td>462.0</td>\n      <td>15.0</td>\n      <td>1573731151563</td>\n      <td>fd64de8c4a2fc5ebb0e9f412</td>\n      <td>5dc8cea7659e181adb076a3f</td>\n      <td>-625</td>\n      <td>5dc8cea7659e181adb076a3f_fd64de8c4a2fc5ebb0e9f...</td>\n    </tr>\n    <tr>\n      <th>10127</th>\n      <td>5d998a8668536c4f51004c25f474117fe9555f78</td>\n      <td>8e69018f6343506344ab13646ccd9447fc2ffb19</td>\n      <td>5d998a8668536c4f51004c25f474117fe9555f78</td>\n      <td>8e69018f6343506344ab13646ccd9447fc2ffb19</td>\n      <td>da39a3ee5e6b4b0d3255bfef95601890afd80709</td>\n      <td>aa449fabc4dcb24836d950b5cff91f08e574c3a7</td>\n      <td>c72257cf75d6a411225948bbc4e37ad554e7beda</td>\n      <td>da39a3ee5e6b4b0d3255bfef95601890afd80709</td>\n      <td>efa1fe97c4b2a6c57d98de9c236a109032ceb839</td>\n      <td>6381b3137285875eda5bc77d9b8cc7650f0f5d7d</td>\n      <td>...</td>\n      <td>430.0</td>\n      <td>56.0</td>\n      <td>348.0</td>\n      <td>216.0</td>\n      <td>213.0</td>\n      <td>1573731157567</td>\n      <td>fd64de8c4a2fc5ebb0e9f412</td>\n      <td>5dc8cea7659e181adb076a3f</td>\n      <td>-528</td>\n      <td>5dc8cea7659e181adb076a3f_fd64de8c4a2fc5ebb0e9f...</td>\n    </tr>\n    <tr>\n      <th>10128</th>\n      <td>aa449fabc4dcb24836d950b5cff91f08e574c3a7</td>\n      <td>5d998a8668536c4f51004c25f474117fe9555f78</td>\n      <td>da39a3ee5e6b4b0d3255bfef95601890afd80709</td>\n      <td>6381b3137285875eda5bc77d9b8cc7650f0f5d7d</td>\n      <td>efa1fe97c4b2a6c57d98de9c236a109032ceb839</td>\n      <td>0eb4ecd03a3128e62bdff60e6f686d88e783441e</td>\n      <td>8e69018f6343506344ab13646ccd9447fc2ffb19</td>\n      <td>da39a3ee5e6b4b0d3255bfef95601890afd80709</td>\n      <td>6ee7b15e068bf8b82c3ce0cd0af84a6b6be5b30d</td>\n      <td>5d998a8668536c4f51004c25f474117fe9555f78</td>\n      <td>...</td>\n      <td>7840.0</td>\n      <td>3926.0</td>\n      <td>3784.0</td>\n      <td>1212.0</td>\n      <td>9537.0</td>\n      <td>1573731161115</td>\n      <td>fd64de8c4a2fc5ebb0e9f412</td>\n      <td>5dc8cea7659e181adb076a3f</td>\n      <td>1019</td>\n      <td>5dc8cea7659e181adb076a3f_fd64de8c4a2fc5ebb0e9f...</td>\n    </tr>\n  </tbody>\n</table>\n<p>10129 rows × 505 columns</p>\n</div>"
     },
     "metadata": {},
     "execution_count": 10
    }
   ],
   "source": [
    "test_df"
   ]
  },
  {
   "cell_type": "code",
   "execution_count": 24,
   "metadata": {},
   "outputs": [],
   "source": [
    "# training target features\n",
    "NUM_FEATS = 80\n",
    "BSSID_FEATS = [f'bssid_{i}' for i in range(NUM_FEATS)]\n",
    "RSSI_FEATS  = [f'rssi_{i}' for i in range(NUM_FEATS)]\n",
    "TIMEDIFF_FEATS  = [f'rssi_{i}' for i in range(NUM_FEATS)]"
   ]
  },
  {
   "cell_type": "markdown",
   "metadata": {},
   "source": [
    "bssid_NはN個目のBSSIDを示しておりRSSI値が大きい順に番号が振られている。\n",
    "100個しかない"
   ]
  },
  {
   "cell_type": "code",
   "execution_count": 12,
   "metadata": {},
   "outputs": [
    {
     "output_type": "stream",
     "name": "stdout",
     "text": [
      "BSSID TYPES(train): 66445\nBSSID TYPES(test): 31133\nBSSID TYPES(all): 66491\n"
     ]
    }
   ],
   "source": [
    "# get numbers of bssids to embed them in a layer\n",
    "\n",
    "# train\n",
    "wifi_bssids = []\n",
    "# bssidを列ごとにリストに入れていく\n",
    "for i in range(100, 200):\n",
    "    wifi_bssids.extend(train_df.iloc[:,i].values.tolist())\n",
    "wifi_bssids = list(set(wifi_bssids))\n",
    "\n",
    "train_wifi_bssids_size = len(wifi_bssids)\n",
    "print(f'BSSID TYPES(train): {train_wifi_bssids_size}')\n",
    "\n",
    "# test\n",
    "wifi_bssids_test = []\n",
    "for i in range(100, 200):\n",
    "    wifi_bssids_test.extend(test_df.iloc[:,i].values.tolist())\n",
    "wifi_bssids_test = list(set(wifi_bssids_test))\n",
    "\n",
    "test_wifi_bssids_size = len(wifi_bssids_test)\n",
    "print(f'BSSID TYPES(test): {test_wifi_bssids_size}')\n",
    "\n",
    "\n",
    "wifi_bssids.extend(wifi_bssids_test)\n",
    "wifi_bssids = list(set(wifi_bssids))\n",
    "wifi_bssids_size = len(wifi_bssids)\n",
    "print(f'BSSID TYPES(all): {wifi_bssids_size}')\n"
   ]
  },
  {
   "cell_type": "code",
   "execution_count": 13,
   "metadata": {},
   "outputs": [
    {
     "output_type": "stream",
     "name": "stdout",
     "text": [
      "RSSI TYPES(train): 97\nRSSI TYPES(test): 77\nRSSI TYPES(all): 174\n"
     ]
    }
   ],
   "source": [
    "# get numbers of bssids to embed them in a layer\n",
    "\n",
    "# train\n",
    "rssi_bssids = []\n",
    "# bssidを列ごとにリストに入れていく\n",
    "for i in RSSI_FEATS:\n",
    "    rssi_bssids.extend(train_df.loc[:,i].values.tolist())\n",
    "rssi_bssids = list(set(rssi_bssids))\n",
    "\n",
    "train_rssi_bssids_size = len(rssi_bssids)\n",
    "print(f'RSSI TYPES(train): {train_rssi_bssids_size}')\n",
    "\n",
    "# test\n",
    "rssi_bssids_test = []\n",
    "for i in RSSI_FEATS:\n",
    "    rssi_bssids_test.extend(test_df.loc[:,i].values.tolist())\n",
    "rssi_bssids_test = list(set(rssi_bssids_test))\n",
    "\n",
    "test_rssi_bssids_size = len(rssi_bssids_test)\n",
    "print(f'RSSI TYPES(test): {test_rssi_bssids_size}')\n",
    "\n",
    "\n",
    "rssi_bssids.extend(rssi_bssids_test)\n",
    "rssi_bssids_size = len(rssi_bssids)\n",
    "print(f'RSSI TYPES(all): {rssi_bssids_size}')"
   ]
  },
  {
   "cell_type": "markdown",
   "metadata": {},
   "source": [
    "## preprocessing"
   ]
  },
  {
   "cell_type": "code",
   "execution_count": 14,
   "metadata": {},
   "outputs": [],
   "source": [
    "# preprocess\n",
    "\n",
    "le = LabelEncoder()\n",
    "le.fit(wifi_bssids)\n",
    "le_site = LabelEncoder()\n",
    "le_site.fit(train_df['site_id'])\n",
    "le_rssi = LabelEncoder()\n",
    "le_rssi.fit(rssi_bssids)\n",
    "\n",
    "ss = StandardScaler()\n",
    "ss.fit(train_df.loc[:,RSSI_FEATS])\n",
    "\n",
    "\n",
    "def preprocess(input_df, le=le, le_site=le_site, ss=ss):\n",
    "    output_df = input_df.copy()\n",
    "    # RSSIの正規化\n",
    "    output_df.loc[:,RSSI_FEATS] = ss.transform(input_df.loc[:,RSSI_FEATS])\n",
    "\n",
    "    # BSSIDのLE(1からふる)\n",
    "    for i in BSSID_FEATS:\n",
    "        output_df.loc[:,i] = le.transform(input_df.loc[:,i])\n",
    "        # output_df.loc[:,i] = output_df.loc[:,i] + 1  # 0からではなく1から番号を振りたいため なぜ？ embeddingのpadding用のダミー変数？\n",
    "    for i in RSSI_FEATS:\n",
    "        output_df.loc[:,i] = le_rssi.transform(input_df.loc[:,i])\n",
    "\n",
    "    # site_idのLE\n",
    "    output_df['site_id_str'] = input_df['site_id'].copy()\n",
    "    output_df.loc[:, 'site_id'] = le_site.transform(input_df.loc[:, 'site_id'])\n",
    "\n",
    "    # なぜ２重でやる？\n",
    "    # output_df.loc[:,RSSI_FEATS] = ss.transform(output_df.loc[:,RSSI_FEATS])\n",
    "    return output_df\n",
    "\n",
    "train = preprocess(train_df)\n",
    "test = preprocess(test_df)"
   ]
  },
  {
   "cell_type": "code",
   "execution_count": 15,
   "metadata": {},
   "outputs": [
    {
     "output_type": "execute_result",
     "data": {
      "text/plain": [
       "24"
      ]
     },
     "metadata": {},
     "execution_count": 15
    }
   ],
   "source": [
    "site_count = len(train['site_id'].unique())\n",
    "site_count"
   ]
  },
  {
   "cell_type": "markdown",
   "metadata": {},
   "source": [
    "## PyTorch model\n",
    "- embedding layerが重要  "
   ]
  },
  {
   "cell_type": "code",
   "execution_count": 16,
   "metadata": {},
   "outputs": [],
   "source": [
    "# dataset\n",
    "from torch.utils.data import Dataset, DataLoader\n",
    "class IndoorDataset(Dataset):\n",
    "    def __init__(self, df, phase='train'):\n",
    "        self.df = df\n",
    "        self.phase = phase\n",
    "        self.bssid_feats = df[BSSID_FEATS].values.astype(int)\n",
    "        self.rssi_feats = df[RSSI_FEATS].values.astype(np.float32)\n",
    "        self.site_id = df['site_id'].values.astype(int)\n",
    "\n",
    "        if phase in ['train', 'valid']:\n",
    "            self.xy = df[['x', 'y']].values.astype(np.float32)\n",
    "            self.ixy = df[['ix', 'iy']].values.astype(np.float32)\n",
    "            self.floor = df['floor'].values.astype(np.float32)\n",
    "            timediff = df['timediff'].astype(np.float32).abs().values\n",
    "            self.weight = 1- (timediff/np.max(timediff))  # lossにかける重み。timediffが大きいほど小さくなる\n",
    "        \n",
    "    def __len__(self):\n",
    "        return self.df.shape[0]\n",
    "\n",
    "    def __getitem__(self, idx):\n",
    "    \n",
    "        concat_feat = np.empty(2 * NUM_FEATS).astype(int)\n",
    "        concat_feat[0::2] = self.bssid_feats[idx]\n",
    "        concat_feat[1::2] = self.rssi_feats[idx]\n",
    "        \n",
    "        feature = {\n",
    "            'RSSI_BSSID_FEATS':concat_feat,\n",
    "            'site_id':self.site_id[idx]\n",
    "        }\n",
    "        if self.phase in ['train', 'valid']:\n",
    "            target = {\n",
    "                'xy':self.xy[idx],\n",
    "                'ixy':self.ixy[idx],\n",
    "                'floor':self.floor[idx],\n",
    "                'weight': self.weight[idx]\n",
    "            }\n",
    "        else:\n",
    "            target = {}\n",
    "        return feature, target"
   ]
  },
  {
   "cell_type": "code",
   "execution_count": 17,
   "metadata": {},
   "outputs": [],
   "source": [
    "import torch\n",
    "from torch import nn\n",
    "\n",
    "class LSTMModel(nn.Module):\n",
    "    def __init__(self, wifi_bssids_size, site_count=24, embedding_dim=64):\n",
    "        super(LSTMModel, self).__init__()\n",
    "        # bssid\n",
    "        # ->64次元に圧縮後sequence化にする\n",
    "        # wifi_bssids_sizeが辞書の数を表す\n",
    "        self.embedding_layer1 = nn.Sequential(\n",
    "            nn.Embedding(wifi_bssids_size, embedding_dim),\n",
    "            nn.Flatten(start_dim=-2)            \n",
    "        )\n",
    "        # site\n",
    "        # ->2次元に圧縮後sequence化する\n",
    "        # site_countが辞書の数を表す\n",
    "        self.embedding_layer2 = nn.Sequential(\n",
    "            nn.Embedding(site_count, 64),\n",
    "            nn.Flatten(start_dim=-1)           \n",
    "        )\n",
    "\n",
    "        # bssid, site, rssiの出力size\n",
    "        # feature_size = 2 + (2 * NUM_FEATS * embedding_dim)\n",
    "        feature_size = 64 + (2 * NUM_FEATS * 64)\n",
    "        self.linear_layer2 = nn.Sequential(\n",
    "            nn.BatchNorm1d(feature_size),\n",
    "            nn.Dropout(0.3),\n",
    "            nn.Linear(feature_size, 256),\n",
    "            nn.ReLU()\n",
    "        )\n",
    "\n",
    "        self.batch_norm1 = nn.BatchNorm1d(1)\n",
    "        self.lstm1 = nn.LSTM(input_size=256,hidden_size=128,dropout=0.3, batch_first=True)\n",
    "        self.lstm2 = nn.LSTM(input_size=128,hidden_size=16,dropout=0.1, batch_first=True)\n",
    "\n",
    "        self.fc_xy = nn.Linear(16, 2)\n",
    "        self.fc_floor = nn.Linear(16, 1)\n",
    "\n",
    "    \n",
    "    def forward(self, x):\n",
    "        # input embedding\n",
    "        batch_size = x[\"site_id\"].shape[0]\n",
    "        x_rssi_bssid = self.embedding_layer1(x['RSSI_BSSID_FEATS'])\n",
    "        x_site_id = self.embedding_layer2(x['site_id'])\n",
    "        # x_rssi = self.linear_layer1(x['RSSI_FEATS'])\n",
    "        x = torch.cat([x_rssi_bssid, x_site_id], dim=-1)\n",
    "        x = self.linear_layer2(x)\n",
    "\n",
    "        # lstm layer\n",
    "        x = x.view(batch_size, 1, -1)  # [batch, 1]->[batch, 1, 1]\n",
    "        x = self.batch_norm1(x)\n",
    "        x, _ = self.lstm1(x)\n",
    "        x = torch.relu(x)\n",
    "        x, _ = self.lstm2(x)\n",
    "        x = torch.relu(x)\n",
    "\n",
    "        # output [batch, 1, 1] -> [batch]\n",
    "        xy = self.fc_xy(x).squeeze(1)\n",
    "        floor = torch.relu(self.fc_floor(x)).view(-1)\n",
    "        return {\"xy\": xy, \"floor\": floor}"
   ]
  },
  {
   "cell_type": "code",
   "execution_count": 18,
   "metadata": {},
   "outputs": [],
   "source": [
    "def mean_position_error(xhat, yhat, fhat, x, y, f):\n",
    "    intermediate = np.sqrt(np.power(xhat-x, 2) + np.power(yhat-y, 2)) + 15 * np.abs(fhat-f)\n",
    "    return intermediate.sum()/xhat.shape[0]\n",
    "\n",
    "def to_np(input):\n",
    "    return input.detach().cpu().numpy()"
   ]
  },
  {
   "cell_type": "code",
   "execution_count": 19,
   "metadata": {},
   "outputs": [],
   "source": [
    "class WeightedMSELoss(nn.Module):\n",
    "    def __init__(self):\n",
    "        super().__init__()\n",
    "        self.loss = nn.MSELoss(reduction='none')\n",
    "\n",
    "    def forward(self, input, target, weight):  # weight:timediffによる重みづけ\n",
    "        input = input.float()\n",
    "        target = target.float()\n",
    "        weight = torch.stack((weight, weight), 1).float()  # x,y分でstack\n",
    "        loss = self.loss(input, target) * weight  # timediffが大きいもののlossはあまり計算しないようにする\n",
    "        return loss.mean()"
   ]
  },
  {
   "cell_type": "code",
   "execution_count": 20,
   "metadata": {},
   "outputs": [],
   "source": [
    "def get_optimizer(model: nn.Module, config: dict):\n",
    "    optimizer_config = config[\"optimizer\"]\n",
    "    optimizer_name = optimizer_config.get(\"name\")\n",
    "    base_optimizer_name = optimizer_config.get(\"base_name\")\n",
    "    optimizer_params = optimizer_config['params']\n",
    "\n",
    "    if hasattr(optim, optimizer_name):\n",
    "        optimizer = optim.__getattribute__(optimizer_name)(model.parameters(), **optimizer_params)\n",
    "        return optimizer\n",
    "    else:\n",
    "        base_optimizer = optim.__getattribute__(base_optimizer_name)\n",
    "        optimizer = globals().get(optimizer_name)(\n",
    "            model.parameters(), \n",
    "            base_optimizer,\n",
    "            **optimizer_config[\"params\"])\n",
    "        return  optimizer\n",
    "\n",
    "def get_scheduler(optimizer, config: dict):\n",
    "    scheduler_config = config[\"scheduler\"]\n",
    "    scheduler_name = scheduler_config.get(\"name\")\n",
    "\n",
    "    if scheduler_name is None:\n",
    "        return\n",
    "    else:\n",
    "        return optim.lr_scheduler.__getattribute__(scheduler_name)(\n",
    "            optimizer, **scheduler_config[\"params\"])\n",
    "\n",
    "\n",
    "def get_criterion(config: dict):\n",
    "    loss_config = config[\"loss\"]\n",
    "    loss_name = loss_config[\"name\"]\n",
    "    loss_params = {} if loss_config.get(\"params\") is None else loss_config.get(\"params\")\n",
    "    \n",
    "    \n",
    "    if hasattr(nn, loss_name):\n",
    "        criterion = nn.__getattribute__(loss_name)(**loss_params)\n",
    "    else:\n",
    "        criterion = globals().get(loss_name)(**loss_params)\n",
    "\n",
    "    return criterion\n",
    "\n",
    "def worker_init_fn(worker_id):                                                          \n",
    "    np.random.seed(np.random.get_state()[1][0] + worker_id)"
   ]
  },
  {
   "cell_type": "code",
   "execution_count": 21,
   "metadata": {},
   "outputs": [],
   "source": [
    "# Learner class(pytorch-lighting)\n",
    "class Learner(pl.LightningModule):\n",
    "    def __init__(self, model, config):\n",
    "        super().__init__()\n",
    "        self.model = model\n",
    "        self.config = config\n",
    "        self.xy_criterion = get_criterion(config)\n",
    "        self.f_criterion = nn.MSELoss()\n",
    "    \n",
    "    def training_step(self, batch, batch_idx):\n",
    "        x, y = batch\n",
    "\n",
    "        output = self.model(x)\n",
    "        xy_loss = self.xy_criterion(output[\"xy\"], y[\"ixy\"], y['weight'])\n",
    "        floor_loss = self.f_criterion(output[\"floor\"], y[\"floor\"])\n",
    "        loss = xy_loss + floor_loss\n",
    "        return loss\n",
    "    \n",
    "    def validation_step(self, batch, batch_idx):\n",
    "        x, y = batch\n",
    "        output = self.model(x)\n",
    "        xy_loss = self.xy_criterion(output[\"xy\"], y[\"ixy\"], y['weight'])\n",
    "        f_loss = self.f_criterion(output[\"floor\"], y[\"floor\"])\n",
    "        loss = xy_loss + f_loss\n",
    "        mpe = mean_position_error(\n",
    "            to_np(output['xy'][:, 0]), to_np(output['xy'][:, 1]), 0, \n",
    "            to_np(y['xy'][:, 0]), to_np(y['xy'][:, 1]), 0)\n",
    "\n",
    "        impe = mean_position_error(\n",
    "            to_np(output['xy'][:, 0]), to_np(output['xy'][:, 1]), 0, \n",
    "            to_np(y['ixy'][:, 0]), to_np(y['ixy'][:, 1]), 0)\n",
    "\n",
    "        # floor lossは現状は無視して良い\n",
    "        self.log(f'Loss/val', loss, on_step=False, on_epoch=True, prog_bar=False, logger=True)\n",
    "        self.log(f'Loss/xy', xy_loss, on_step=False, on_epoch=True, prog_bar=False, logger=True)\n",
    "        self.log(f'Loss/floor', f_loss, on_step=False, on_epoch=True, prog_bar=False, logger=True)\n",
    "        self.log(f'MPE/val', mpe, on_step=False, on_epoch=True, prog_bar=False, logger=True)\n",
    "        self.log(f'iMPE/val', impe, on_step=False, on_epoch=True, prog_bar=False, logger=True)\n",
    "        return loss\n",
    "\n",
    "    def configure_optimizers(self):\n",
    "        optimizer = get_optimizer(self.model, self.config)\n",
    "        scheduler = get_scheduler(optimizer, self.config)\n",
    "        return {\"optimizer\": optimizer, \"lr_scheduler\": scheduler, \"monitor\": \"Loss/val\"}"
   ]
  },
  {
   "cell_type": "code",
   "execution_count": 22,
   "metadata": {},
   "outputs": [],
   "source": [
    "# oof\n",
    "def evaluate(model, loaders, phase):\n",
    "    x_list = []\n",
    "    y_list = []\n",
    "    f_list = []\n",
    "    with torch.no_grad():\n",
    "        for batch in loaders[phase]:\n",
    "            x, y = batch\n",
    "            output = model(x)\n",
    "            x_list.append(to_np(output['xy'][:, 0]))\n",
    "            y_list.append(to_np(output['xy'][:, 1]))\n",
    "            f_list.append(to_np(output['floor']))\n",
    "\n",
    "    x_list = np.concatenate(x_list)\n",
    "    y_list = np.concatenate(y_list)\n",
    "    f_list = np.concatenate(f_list)\n",
    "    return x_list, y_list, f_list"
   ]
  },
  {
   "cell_type": "markdown",
   "metadata": {},
   "source": [
    "## train"
   ]
  },
  {
   "cell_type": "code",
   "execution_count": 25,
   "metadata": {
    "tags": []
   },
   "outputs": [
    {
     "output_type": "stream",
     "name": "stdout",
     "text": [
      "====================\n",
      "Fold 0\n",
      "====================\n",
      "/usr/local/lib/python3.8/dist-packages/torch/nn/modules/rnn.py:58: UserWarning: dropout option adds dropout after all but last recurrent layer, so non-zero dropout expects num_layers greater than 1, but got dropout=0.3 and num_layers=1\n",
      "  warnings.warn(\"dropout option adds dropout after all but last \"\n",
      "/usr/local/lib/python3.8/dist-packages/torch/nn/modules/rnn.py:58: UserWarning: dropout option adds dropout after all but last recurrent layer, so non-zero dropout expects num_layers greater than 1, but got dropout=0.1 and num_layers=1\n",
      "  warnings.warn(\"dropout option adds dropout after all but last \"\n"
     ]
    },
    {
     "output_type": "display_data",
     "data": {
      "text/plain": "<IPython.core.display.HTML object>",
      "text/html": "Finishing last run (ID:1eeepipw) before initializing another..."
     },
     "metadata": {}
    },
    {
     "output_type": "display_data",
     "data": {
      "text/plain": "<IPython.core.display.HTML object>",
      "text/html": "<br/>Waiting for W&B process to finish, PID 39032<br/>Program ended successfully."
     },
     "metadata": {}
    },
    {
     "output_type": "display_data",
     "data": {
      "text/plain": "VBox(children=(Label(value=' 0.00MB of 0.00MB uploaded (0.00MB deduped)\\r'), FloatProgress(value=1.0, max=1.0)…",
      "application/vnd.jupyter.widget-view+json": {
       "version_major": 2,
       "version_minor": 0,
       "model_id": "151b3b68ec844716bed44b4eb2ae1941"
      }
     },
     "metadata": {}
    },
    {
     "output_type": "display_data",
     "data": {
      "text/plain": "<IPython.core.display.HTML object>",
      "text/html": "Find user logs for this run at: <code>/home/user/work/exp/exp037/wandb/run-20210427_200301-1eeepipw/logs/debug.log</code>"
     },
     "metadata": {}
    },
    {
     "output_type": "display_data",
     "data": {
      "text/plain": "<IPython.core.display.HTML object>",
      "text/html": "Find internal logs for this run at: <code>/home/user/work/exp/exp037/wandb/run-20210427_200301-1eeepipw/logs/debug-internal.log</code>"
     },
     "metadata": {}
    },
    {
     "output_type": "display_data",
     "data": {
      "text/plain": "<IPython.core.display.HTML object>",
      "text/html": "<h3>Run summary:</h3><br/><style>\n    table.wandb td:nth-child(1) { padding: 0 10px; text-align: right }\n    </style><table class=\"wandb\">\n<tr><td>Loss/val</td><td>35.92605</td></tr><tr><td>Loss/xy</td><td>35.60016</td></tr><tr><td>Loss/floor</td><td>0.32589</td></tr><tr><td>MPE/val</td><td>7.05506</td></tr><tr><td>iMPE/val</td><td>6.72912</td></tr><tr><td>epoch</td><td>175</td></tr><tr><td>trainer/global_step</td><td>69695</td></tr><tr><td>_runtime</td><td>870</td></tr><tr><td>_timestamp</td><td>1619522252</td></tr><tr><td>_step</td><td>175</td></tr></table>"
     },
     "metadata": {}
    },
    {
     "output_type": "display_data",
     "data": {
      "text/plain": "<IPython.core.display.HTML object>",
      "text/html": "<h3>Run history:</h3><br/><style>\n    table.wandb td:nth-child(1) { padding: 0 10px; text-align: right }\n    </style><table class=\"wandb\">\n<tr><td>Loss/val</td><td>█▅▄▄▃▁▁▁▁▁▁▁▁▁▁▁▁▁▁▁▁▁▁▁▁▁▁▁▁▁▁▁▁▁▁▁▁▁▁▁</td></tr><tr><td>Loss/xy</td><td>█▄▄▄▃▁▁▁▁▁▁▁▁▁▁▁▁▁▁▁▁▁▁▁▁▁▁▁▁▁▁▁▁▁▁▁▁▁▁▁</td></tr><tr><td>Loss/floor</td><td>█████████▇▇▇▇▇▆▄▃▂▂▂▂▁▁▁▁▁▁▁▁▁▁▁▁▁▁▁▁▁▁▁</td></tr><tr><td>MPE/val</td><td>█▆▆▆▄▂▁▁▁▁▁▁▁▁▁▁▁▁▁▁▁▁▁▁▁▁▁▁▁▁▁▁▁▁▁▁▁▁▁▁</td></tr><tr><td>iMPE/val</td><td>█▆▆▆▄▂▁▁▁▁▁▁▁▁▁▁▁▁▁▁▁▁▁▁▁▁▁▁▁▁▁▁▁▁▁▁▁▁▁▁</td></tr><tr><td>epoch</td><td>▁▁▁▁▂▂▂▂▂▃▃▃▃▃▃▄▄▄▄▄▅▅▅▅▅▅▆▆▆▆▆▇▇▇▇▇▇███</td></tr><tr><td>trainer/global_step</td><td>▁▁▁▁▂▂▂▂▂▃▃▃▃▃▃▄▄▄▄▄▅▅▅▅▅▅▆▆▆▆▆▇▇▇▇▇▇███</td></tr><tr><td>_runtime</td><td>▁▁▁▁▂▂▂▂▂▃▃▃▃▃▄▄▄▄▄▄▅▅▅▅▅▅▆▆▆▆▆▇▇▇▇▇▇███</td></tr><tr><td>_timestamp</td><td>▁▁▁▁▂▂▂▂▂▃▃▃▃▃▄▄▄▄▄▄▅▅▅▅▅▅▆▆▆▆▆▇▇▇▇▇▇███</td></tr><tr><td>_step</td><td>▁▁▁▁▂▂▂▂▂▃▃▃▃▃▃▄▄▄▄▄▅▅▅▅▅▅▆▆▆▆▆▇▇▇▇▇▇███</td></tr></table><br/>"
     },
     "metadata": {}
    },
    {
     "output_type": "display_data",
     "data": {
      "text/plain": "<IPython.core.display.HTML object>",
      "text/html": "Synced 5 W&B file(s), 1 media file(s), 0 artifact file(s) and 0 other file(s)"
     },
     "metadata": {}
    },
    {
     "output_type": "display_data",
     "data": {
      "text/plain": "<IPython.core.display.HTML object>",
      "text/html": "\n                    <br/>Synced <strong style=\"color:#cdcd00\">wobbly-armadillo-598</strong>: <a href=\"https://wandb.ai/kuto5046/indoor/runs/1eeepipw\" target=\"_blank\">https://wandb.ai/kuto5046/indoor/runs/1eeepipw</a><br/>\n                "
     },
     "metadata": {}
    },
    {
     "output_type": "display_data",
     "data": {
      "text/plain": "<IPython.core.display.HTML object>",
      "text/html": "...Successfully finished last run (ID:1eeepipw). Initializing new run:<br/><br/>"
     },
     "metadata": {}
    },
    {
     "output_type": "stream",
     "name": "stderr",
     "text": [
      "\u001b[34m\u001b[1mwandb\u001b[0m: wandb version 0.10.27 is available!  To upgrade, please run:\n\u001b[34m\u001b[1mwandb\u001b[0m:  $ pip install wandb --upgrade\n"
     ]
    },
    {
     "output_type": "display_data",
     "data": {
      "text/plain": "<IPython.core.display.HTML object>",
      "text/html": "\n                Tracking run with wandb version 0.10.22<br/>\n                Syncing run <strong style=\"color:#cdcd00\">laced-blaze-599</strong> to <a href=\"https://wandb.ai\" target=\"_blank\">Weights & Biases</a> <a href=\"https://docs.wandb.com/integrations/jupyter.html\" target=\"_blank\">(Documentation)</a>.<br/>\n                Project page: <a href=\"https://wandb.ai/kuto5046/indoor\" target=\"_blank\">https://wandb.ai/kuto5046/indoor</a><br/>\n                Run page: <a href=\"https://wandb.ai/kuto5046/indoor/runs/2lntr8qs\" target=\"_blank\">https://wandb.ai/kuto5046/indoor/runs/2lntr8qs</a><br/>\n                Run data is saved locally in <code>/home/user/work/exp/exp037/wandb/run-20210427_204826-2lntr8qs</code><br/><br/>\n            "
     },
     "metadata": {}
    },
    {
     "output_type": "stream",
     "name": "stderr",
     "text": [
      "GPU available: True, used: True\n",
      "TPU available: None, using: 0 TPU cores\n",
      "\n",
      "  | Name         | Type            | Params\n",
      "-------------------------------------------------\n",
      "0 | model        | LSTMModel       | 7.1 M \n",
      "1 | xy_criterion | WeightedMSELoss | 0     \n",
      "2 | f_criterion  | MSELoss         | 0     \n",
      "-------------------------------------------------\n",
      "7.1 M     Trainable params\n",
      "0         Non-trainable params\n",
      "7.1 M     Total params\n",
      "28.491    Total estimated model params size (MB)\n",
      "fold 0: mean position error 7.072867017384254\n",
      "fold 0: mean position error 6.7579269920693\n"
     ]
    },
    {
     "output_type": "display_data",
     "data": {
      "text/plain": "<IPython.core.display.HTML object>",
      "text/html": "<br/>Waiting for W&B process to finish, PID 52699<br/>Program ended successfully."
     },
     "metadata": {}
    },
    {
     "output_type": "display_data",
     "data": {
      "text/plain": "VBox(children=(Label(value=' 0.00MB of 0.00MB uploaded (0.00MB deduped)\\r'), FloatProgress(value=1.0, max=1.0)…",
      "application/vnd.jupyter.widget-view+json": {
       "version_major": 2,
       "version_minor": 0,
       "model_id": "7dc5fd09a7da44c3ad5fcb58bc3429ce"
      }
     },
     "metadata": {}
    },
    {
     "output_type": "display_data",
     "data": {
      "text/plain": "<IPython.core.display.HTML object>",
      "text/html": "Find user logs for this run at: <code>/home/user/work/exp/exp037/wandb/run-20210427_204826-2lntr8qs/logs/debug.log</code>"
     },
     "metadata": {}
    },
    {
     "output_type": "display_data",
     "data": {
      "text/plain": "<IPython.core.display.HTML object>",
      "text/html": "Find internal logs for this run at: <code>/home/user/work/exp/exp037/wandb/run-20210427_204826-2lntr8qs/logs/debug-internal.log</code>"
     },
     "metadata": {}
    },
    {
     "output_type": "display_data",
     "data": {
      "text/plain": "<IPython.core.display.HTML object>",
      "text/html": "<h3>Run summary:</h3><br/><style>\n    table.wandb td:nth-child(1) { padding: 0 10px; text-align: right }\n    </style><table class=\"wandb\">\n<tr><td>Loss/val</td><td>36.45051</td></tr><tr><td>Loss/xy</td><td>33.1614</td></tr><tr><td>Loss/floor</td><td>3.28911</td></tr><tr><td>MPE/val</td><td>7.07268</td></tr><tr><td>iMPE/val</td><td>6.75779</td></tr><tr><td>epoch</td><td>190</td></tr><tr><td>trainer/global_step</td><td>75635</td></tr><tr><td>_runtime</td><td>947</td></tr><tr><td>_timestamp</td><td>1619525056</td></tr><tr><td>_step</td><td>190</td></tr></table>"
     },
     "metadata": {}
    },
    {
     "output_type": "display_data",
     "data": {
      "text/plain": "<IPython.core.display.HTML object>",
      "text/html": "<h3>Run history:</h3><br/><style>\n    table.wandb td:nth-child(1) { padding: 0 10px; text-align: right }\n    </style><table class=\"wandb\">\n<tr><td>Loss/val</td><td>█▄▂▁▁▁▁▁▁▁▁▁▁▁▁▁▁▁▁▁▁▁▁▁▁▁▁▁▁▁▁▁▁▁▁▁▁▁▁▁</td></tr><tr><td>Loss/xy</td><td>█▄▂▁▁▁▁▁▁▁▁▁▁▁▁▁▁▁▁▁▁▁▁▁▁▁▁▁▁▁▁▁▁▁▁▁▁▁▁▁</td></tr><tr><td>Loss/floor</td><td>██▄▄▂▂▂▂▂▂▂▂▂▂▂▂▂▂▂▁▂▁▁▁▁▁▁▁▁▁▁▁▁▁▁▁▁▁▁▁</td></tr><tr><td>MPE/val</td><td>█▅▃▂▁▁▁▁▁▁▁▁▁▁▁▁▁▁▁▁▁▁▁▁▁▁▁▁▁▁▁▁▁▁▁▁▁▁▁▁</td></tr><tr><td>iMPE/val</td><td>█▅▃▂▁▁▁▁▁▁▁▁▁▁▁▁▁▁▁▁▁▁▁▁▁▁▁▁▁▁▁▁▁▁▁▁▁▁▁▁</td></tr><tr><td>epoch</td><td>▁▁▁▂▂▂▂▂▂▃▃▃▃▃▃▄▄▄▄▄▅▅▅▅▅▅▆▆▆▆▆▇▇▇▇▇▇███</td></tr><tr><td>trainer/global_step</td><td>▁▁▁▂▂▂▂▂▂▃▃▃▃▃▃▄▄▄▄▄▅▅▅▅▅▅▆▆▆▆▆▇▇▇▇▇▇███</td></tr><tr><td>_runtime</td><td>▁▁▁▂▂▂▂▂▂▃▃▃▃▃▃▄▄▄▄▄▅▅▅▅▅▅▆▆▆▆▆▇▇▇▇▇▇███</td></tr><tr><td>_timestamp</td><td>▁▁▁▂▂▂▂▂▂▃▃▃▃▃▃▄▄▄▄▄▅▅▅▅▅▅▆▆▆▆▆▇▇▇▇▇▇███</td></tr><tr><td>_step</td><td>▁▁▁▂▂▂▂▂▂▃▃▃▃▃▃▄▄▄▄▄▅▅▅▅▅▅▆▆▆▆▆▇▇▇▇▇▇███</td></tr></table><br/>"
     },
     "metadata": {}
    },
    {
     "output_type": "display_data",
     "data": {
      "text/plain": "<IPython.core.display.HTML object>",
      "text/html": "Synced 5 W&B file(s), 1 media file(s), 0 artifact file(s) and 0 other file(s)"
     },
     "metadata": {}
    },
    {
     "output_type": "display_data",
     "data": {
      "text/plain": "<IPython.core.display.HTML object>",
      "text/html": "\n                    <br/>Synced <strong style=\"color:#cdcd00\">laced-blaze-599</strong>: <a href=\"https://wandb.ai/kuto5046/indoor/runs/2lntr8qs\" target=\"_blank\">https://wandb.ai/kuto5046/indoor/runs/2lntr8qs</a><br/>\n                "
     },
     "metadata": {}
    },
    {
     "output_type": "stream",
     "name": "stdout",
     "text": [
      "====================\n",
      "Fold 1\n",
      "====================\n",
      "\u001b[34m\u001b[1mwandb\u001b[0m: wandb version 0.10.27 is available!  To upgrade, please run:\n",
      "\u001b[34m\u001b[1mwandb\u001b[0m:  $ pip install wandb --upgrade\n"
     ]
    },
    {
     "output_type": "display_data",
     "data": {
      "text/plain": "<IPython.core.display.HTML object>",
      "text/html": "\n                Tracking run with wandb version 0.10.22<br/>\n                Syncing run <strong style=\"color:#cdcd00\">skilled-night-600</strong> to <a href=\"https://wandb.ai\" target=\"_blank\">Weights & Biases</a> <a href=\"https://docs.wandb.com/integrations/jupyter.html\" target=\"_blank\">(Documentation)</a>.<br/>\n                Project page: <a href=\"https://wandb.ai/kuto5046/indoor\" target=\"_blank\">https://wandb.ai/kuto5046/indoor</a><br/>\n                Run page: <a href=\"https://wandb.ai/kuto5046/indoor/runs/3b0deomn\" target=\"_blank\">https://wandb.ai/kuto5046/indoor/runs/3b0deomn</a><br/>\n                Run data is saved locally in <code>/home/user/work/exp/exp037/wandb/run-20210427_210426-3b0deomn</code><br/><br/>\n            "
     },
     "metadata": {}
    },
    {
     "output_type": "stream",
     "name": "stderr",
     "text": [
      "GPU available: True, used: True\n",
      "TPU available: None, using: 0 TPU cores\n",
      "\n",
      "  | Name         | Type            | Params\n",
      "-------------------------------------------------\n",
      "0 | model        | LSTMModel       | 7.1 M \n",
      "1 | xy_criterion | WeightedMSELoss | 0     \n",
      "2 | f_criterion  | MSELoss         | 0     \n",
      "-------------------------------------------------\n",
      "7.1 M     Trainable params\n",
      "0         Non-trainable params\n",
      "7.1 M     Total params\n",
      "28.491    Total estimated model params size (MB)\n",
      "fold 1: mean position error 7.405293890789708\n",
      "fold 1: mean position error 7.07229100330281\n"
     ]
    },
    {
     "output_type": "display_data",
     "data": {
      "text/plain": "<IPython.core.display.HTML object>",
      "text/html": "<br/>Waiting for W&B process to finish, PID 62037<br/>Program ended successfully."
     },
     "metadata": {}
    },
    {
     "output_type": "display_data",
     "data": {
      "text/plain": "VBox(children=(Label(value=' 0.00MB of 0.00MB uploaded (0.00MB deduped)\\r'), FloatProgress(value=1.0, max=1.0)…",
      "application/vnd.jupyter.widget-view+json": {
       "version_major": 2,
       "version_minor": 0,
       "model_id": "1e328c05c1d343dd9e25cb91ed811245"
      }
     },
     "metadata": {}
    },
    {
     "output_type": "display_data",
     "data": {
      "text/plain": "<IPython.core.display.HTML object>",
      "text/html": "Find user logs for this run at: <code>/home/user/work/exp/exp037/wandb/run-20210427_210426-3b0deomn/logs/debug.log</code>"
     },
     "metadata": {}
    },
    {
     "output_type": "display_data",
     "data": {
      "text/plain": "<IPython.core.display.HTML object>",
      "text/html": "Find internal logs for this run at: <code>/home/user/work/exp/exp037/wandb/run-20210427_210426-3b0deomn/logs/debug-internal.log</code>"
     },
     "metadata": {}
    },
    {
     "output_type": "display_data",
     "data": {
      "text/plain": "<IPython.core.display.HTML object>",
      "text/html": "<h3>Run summary:</h3><br/><style>\n    table.wandb td:nth-child(1) { padding: 0 10px; text-align: right }\n    </style><table class=\"wandb\">\n<tr><td>Loss/val</td><td>41.40936</td></tr><tr><td>Loss/xy</td><td>39.52967</td></tr><tr><td>Loss/floor</td><td>1.87969</td></tr><tr><td>MPE/val</td><td>7.40526</td></tr><tr><td>iMPE/val</td><td>7.07219</td></tr><tr><td>epoch</td><td>144</td></tr><tr><td>trainer/global_step</td><td>57419</td></tr><tr><td>_runtime</td><td>723</td></tr><tr><td>_timestamp</td><td>1619525789</td></tr><tr><td>_step</td><td>144</td></tr></table>"
     },
     "metadata": {}
    },
    {
     "output_type": "display_data",
     "data": {
      "text/plain": "<IPython.core.display.HTML object>",
      "text/html": "<h3>Run history:</h3><br/><style>\n    table.wandb td:nth-child(1) { padding: 0 10px; text-align: right }\n    </style><table class=\"wandb\">\n<tr><td>Loss/val</td><td>█▅▅▅▃▂▁▁▁▁▁▁▁▁▁▁▁▁▁▁▁▁▁▁▁▁▁▁▁▁▁▁▁▁▁▁▁▁▁▁</td></tr><tr><td>Loss/xy</td><td>█▅▅▅▃▂▁▁▁▁▁▁▁▁▁▁▁▁▁▁▁▁▁▁▁▁▁▁▁▁▁▁▁▁▁▁▁▁▁▁</td></tr><tr><td>Loss/floor</td><td>█████▇▇▇▇▇▇▇▇▇▇▇▇▇▇▇▇▇▇▇▇▇▇▇▇▇▇▇▆▆▆▆▅▄▃▁</td></tr><tr><td>MPE/val</td><td>█▇▇▇▄▂▂▁▁▁▁▁▁▁▁▁▁▁▁▁▁▁▁▁▁▁▁▁▁▁▁▁▁▁▁▁▁▁▁▁</td></tr><tr><td>iMPE/val</td><td>█▇▇▇▄▂▂▁▁▁▁▁▁▁▁▁▁▁▁▁▁▁▁▁▁▁▁▁▁▁▁▁▁▁▁▁▁▁▁▁</td></tr><tr><td>epoch</td><td>▁▁▁▁▂▂▂▂▂▃▃▃▃▃▃▄▄▄▄▄▅▅▅▅▅▅▆▆▆▆▆▇▇▇▇▇▇███</td></tr><tr><td>trainer/global_step</td><td>▁▁▁▁▂▂▂▂▂▃▃▃▃▃▃▄▄▄▄▄▅▅▅▅▅▅▆▆▆▆▆▇▇▇▇▇▇███</td></tr><tr><td>_runtime</td><td>▁▁▁▂▂▂▂▂▂▃▃▃▃▃▃▄▄▄▄▄▅▅▅▅▅▅▆▆▆▆▆▇▇▇▇▇▇███</td></tr><tr><td>_timestamp</td><td>▁▁▁▂▂▂▂▂▂▃▃▃▃▃▃▄▄▄▄▄▅▅▅▅▅▅▆▆▆▆▆▇▇▇▇▇▇███</td></tr><tr><td>_step</td><td>▁▁▁▁▂▂▂▂▂▃▃▃▃▃▃▄▄▄▄▄▅▅▅▅▅▅▆▆▆▆▆▇▇▇▇▇▇███</td></tr></table><br/>"
     },
     "metadata": {}
    },
    {
     "output_type": "display_data",
     "data": {
      "text/plain": "<IPython.core.display.HTML object>",
      "text/html": "Synced 5 W&B file(s), 1 media file(s), 0 artifact file(s) and 0 other file(s)"
     },
     "metadata": {}
    },
    {
     "output_type": "display_data",
     "data": {
      "text/plain": "<IPython.core.display.HTML object>",
      "text/html": "\n                    <br/>Synced <strong style=\"color:#cdcd00\">skilled-night-600</strong>: <a href=\"https://wandb.ai/kuto5046/indoor/runs/3b0deomn\" target=\"_blank\">https://wandb.ai/kuto5046/indoor/runs/3b0deomn</a><br/>\n                "
     },
     "metadata": {}
    },
    {
     "output_type": "stream",
     "name": "stdout",
     "text": [
      "====================\n",
      "Fold 2\n",
      "====================\n",
      "\u001b[34m\u001b[1mwandb\u001b[0m: wandb version 0.10.27 is available!  To upgrade, please run:\n",
      "\u001b[34m\u001b[1mwandb\u001b[0m:  $ pip install wandb --upgrade\n"
     ]
    },
    {
     "output_type": "display_data",
     "data": {
      "text/plain": "<IPython.core.display.HTML object>",
      "text/html": "\n                Tracking run with wandb version 0.10.22<br/>\n                Syncing run <strong style=\"color:#cdcd00\">lucky-sound-601</strong> to <a href=\"https://wandb.ai\" target=\"_blank\">Weights & Biases</a> <a href=\"https://docs.wandb.com/integrations/jupyter.html\" target=\"_blank\">(Documentation)</a>.<br/>\n                Project page: <a href=\"https://wandb.ai/kuto5046/indoor\" target=\"_blank\">https://wandb.ai/kuto5046/indoor</a><br/>\n                Run page: <a href=\"https://wandb.ai/kuto5046/indoor/runs/2s3k1n4n\" target=\"_blank\">https://wandb.ai/kuto5046/indoor/runs/2s3k1n4n</a><br/>\n                Run data is saved locally in <code>/home/user/work/exp/exp037/wandb/run-20210427_211639-2s3k1n4n</code><br/><br/>\n            "
     },
     "metadata": {}
    },
    {
     "output_type": "stream",
     "name": "stderr",
     "text": [
      "GPU available: True, used: True\n",
      "TPU available: None, using: 0 TPU cores\n",
      "\n",
      "  | Name         | Type            | Params\n",
      "-------------------------------------------------\n",
      "0 | model        | LSTMModel       | 7.1 M \n",
      "1 | xy_criterion | WeightedMSELoss | 0     \n",
      "2 | f_criterion  | MSELoss         | 0     \n",
      "-------------------------------------------------\n",
      "7.1 M     Trainable params\n",
      "0         Non-trainable params\n",
      "7.1 M     Total params\n",
      "28.491    Total estimated model params size (MB)\n",
      "fold 2: mean position error 7.402144273367351\n",
      "fold 2: mean position error 7.0753845526284564\n"
     ]
    },
    {
     "output_type": "display_data",
     "data": {
      "text/plain": "<IPython.core.display.HTML object>",
      "text/html": "<br/>Waiting for W&B process to finish, PID 69233<br/>Program ended successfully."
     },
     "metadata": {}
    },
    {
     "output_type": "display_data",
     "data": {
      "text/plain": "VBox(children=(Label(value=' 0.00MB of 0.00MB uploaded (0.00MB deduped)\\r'), FloatProgress(value=1.0, max=1.0)…",
      "application/vnd.jupyter.widget-view+json": {
       "version_major": 2,
       "version_minor": 0,
       "model_id": "ab6b4f0bd23140099b230848f6dd2e37"
      }
     },
     "metadata": {}
    },
    {
     "output_type": "display_data",
     "data": {
      "text/plain": "<IPython.core.display.HTML object>",
      "text/html": "Find user logs for this run at: <code>/home/user/work/exp/exp037/wandb/run-20210427_211639-2s3k1n4n/logs/debug.log</code>"
     },
     "metadata": {}
    },
    {
     "output_type": "display_data",
     "data": {
      "text/plain": "<IPython.core.display.HTML object>",
      "text/html": "Find internal logs for this run at: <code>/home/user/work/exp/exp037/wandb/run-20210427_211639-2s3k1n4n/logs/debug-internal.log</code>"
     },
     "metadata": {}
    },
    {
     "output_type": "display_data",
     "data": {
      "text/plain": "<IPython.core.display.HTML object>",
      "text/html": "<h3>Run summary:</h3><br/><style>\n    table.wandb td:nth-child(1) { padding: 0 10px; text-align: right }\n    </style><table class=\"wandb\">\n<tr><td>Loss/val</td><td>40.05504</td></tr><tr><td>Loss/xy</td><td>38.17923</td></tr><tr><td>Loss/floor</td><td>1.87582</td></tr><tr><td>MPE/val</td><td>7.40161</td></tr><tr><td>iMPE/val</td><td>7.07477</td></tr><tr><td>epoch</td><td>199</td></tr><tr><td>trainer/global_step</td><td>79199</td></tr><tr><td>_runtime</td><td>1005</td></tr><tr><td>_timestamp</td><td>1619526804</td></tr><tr><td>_step</td><td>199</td></tr></table>"
     },
     "metadata": {}
    },
    {
     "output_type": "display_data",
     "data": {
      "text/plain": "<IPython.core.display.HTML object>",
      "text/html": "<h3>Run history:</h3><br/><style>\n    table.wandb td:nth-child(1) { padding: 0 10px; text-align: right }\n    </style><table class=\"wandb\">\n<tr><td>Loss/val</td><td>█▅▃▃▁▁▁▁▁▁▁▁▁▁▁▁▁▁▁▁▁▁▁▁▁▁▁▁▁▁▁▁▁▁▁▁▁▁▁▁</td></tr><tr><td>Loss/xy</td><td>█▅▃▃▁▁▁▁▁▁▁▁▁▁▁▁▁▁▁▁▁▁▁▁▁▁▁▁▁▁▁▁▁▁▁▁▁▁▁▁</td></tr><tr><td>Loss/floor</td><td>██▇▇▇▇▇▇▇▇▇▇▇▇▇▇▇▇▇▇▇▇▇▇▇▇▇▇▆▆▆▅▅▄▃▃▂▂▁▁</td></tr><tr><td>MPE/val</td><td>█▆▄▄▁▁▁▁▁▁▁▁▁▁▁▁▁▁▁▁▁▁▁▁▁▁▁▁▁▁▁▁▁▁▁▁▁▁▁▁</td></tr><tr><td>iMPE/val</td><td>█▆▄▄▁▁▁▁▁▁▁▁▁▁▁▁▁▁▁▁▁▁▁▁▁▁▁▁▁▁▁▁▁▁▁▁▁▁▁▁</td></tr><tr><td>epoch</td><td>▁▁▁▁▂▂▂▂▂▃▃▃▃▃▃▄▄▄▄▄▅▅▅▅▅▅▆▆▆▆▆▇▇▇▇▇▇███</td></tr><tr><td>trainer/global_step</td><td>▁▁▁▁▂▂▂▂▂▃▃▃▃▃▃▄▄▄▄▄▅▅▅▅▅▅▆▆▆▆▆▇▇▇▇▇▇███</td></tr><tr><td>_runtime</td><td>▁▁▁▂▂▂▂▂▂▃▃▃▃▃▃▄▄▄▄▄▅▅▅▅▅▅▆▆▆▆▆▇▇▇▇▇▇███</td></tr><tr><td>_timestamp</td><td>▁▁▁▂▂▂▂▂▂▃▃▃▃▃▃▄▄▄▄▄▅▅▅▅▅▅▆▆▆▆▆▇▇▇▇▇▇███</td></tr><tr><td>_step</td><td>▁▁▁▁▂▂▂▂▂▃▃▃▃▃▃▄▄▄▄▄▅▅▅▅▅▅▆▆▆▆▆▇▇▇▇▇▇███</td></tr></table><br/>"
     },
     "metadata": {}
    },
    {
     "output_type": "display_data",
     "data": {
      "text/plain": "<IPython.core.display.HTML object>",
      "text/html": "Synced 5 W&B file(s), 1 media file(s), 0 artifact file(s) and 0 other file(s)"
     },
     "metadata": {}
    },
    {
     "output_type": "display_data",
     "data": {
      "text/plain": "<IPython.core.display.HTML object>",
      "text/html": "\n                    <br/>Synced <strong style=\"color:#cdcd00\">lucky-sound-601</strong>: <a href=\"https://wandb.ai/kuto5046/indoor/runs/2s3k1n4n\" target=\"_blank\">https://wandb.ai/kuto5046/indoor/runs/2s3k1n4n</a><br/>\n                "
     },
     "metadata": {}
    },
    {
     "output_type": "stream",
     "name": "stdout",
     "text": [
      "====================\n",
      "Fold 3\n",
      "====================\n",
      "\u001b[34m\u001b[1mwandb\u001b[0m: wandb version 0.10.27 is available!  To upgrade, please run:\n",
      "\u001b[34m\u001b[1mwandb\u001b[0m:  $ pip install wandb --upgrade\n"
     ]
    },
    {
     "output_type": "display_data",
     "data": {
      "text/plain": "<IPython.core.display.HTML object>",
      "text/html": "\n                Tracking run with wandb version 0.10.22<br/>\n                Syncing run <strong style=\"color:#cdcd00\">rural-night-602</strong> to <a href=\"https://wandb.ai\" target=\"_blank\">Weights & Biases</a> <a href=\"https://docs.wandb.com/integrations/jupyter.html\" target=\"_blank\">(Documentation)</a>.<br/>\n                Project page: <a href=\"https://wandb.ai/kuto5046/indoor\" target=\"_blank\">https://wandb.ai/kuto5046/indoor</a><br/>\n                Run page: <a href=\"https://wandb.ai/kuto5046/indoor/runs/13qht7u0\" target=\"_blank\">https://wandb.ai/kuto5046/indoor/runs/13qht7u0</a><br/>\n                Run data is saved locally in <code>/home/user/work/exp/exp037/wandb/run-20210427_213334-13qht7u0</code><br/><br/>\n            "
     },
     "metadata": {}
    },
    {
     "output_type": "stream",
     "name": "stderr",
     "text": [
      "GPU available: True, used: True\n",
      "TPU available: None, using: 0 TPU cores\n",
      "\n",
      "  | Name         | Type            | Params\n",
      "-------------------------------------------------\n",
      "0 | model        | LSTMModel       | 7.1 M \n",
      "1 | xy_criterion | WeightedMSELoss | 0     \n",
      "2 | f_criterion  | MSELoss         | 0     \n",
      "-------------------------------------------------\n",
      "7.1 M     Trainable params\n",
      "0         Non-trainable params\n",
      "7.1 M     Total params\n",
      "28.491    Total estimated model params size (MB)\n",
      "fold 3: mean position error 7.570128011154622\n",
      "fold 3: mean position error 7.270275231399075\n"
     ]
    },
    {
     "output_type": "display_data",
     "data": {
      "text/plain": "<IPython.core.display.HTML object>",
      "text/html": "<br/>Waiting for W&B process to finish, PID 78985<br/>Program ended successfully."
     },
     "metadata": {}
    },
    {
     "output_type": "display_data",
     "data": {
      "text/plain": "VBox(children=(Label(value=' 0.00MB of 0.00MB uploaded (0.00MB deduped)\\r'), FloatProgress(value=1.0, max=1.0)…",
      "application/vnd.jupyter.widget-view+json": {
       "version_major": 2,
       "version_minor": 0,
       "model_id": "58e9a9ffc2594a62a00e00bc389cf132"
      }
     },
     "metadata": {}
    },
    {
     "output_type": "display_data",
     "data": {
      "text/plain": "<IPython.core.display.HTML object>",
      "text/html": "Find user logs for this run at: <code>/home/user/work/exp/exp037/wandb/run-20210427_213334-13qht7u0/logs/debug.log</code>"
     },
     "metadata": {}
    },
    {
     "output_type": "display_data",
     "data": {
      "text/plain": "<IPython.core.display.HTML object>",
      "text/html": "Find internal logs for this run at: <code>/home/user/work/exp/exp037/wandb/run-20210427_213334-13qht7u0/logs/debug-internal.log</code>"
     },
     "metadata": {}
    },
    {
     "output_type": "display_data",
     "data": {
      "text/plain": "<IPython.core.display.HTML object>",
      "text/html": "<h3>Run summary:</h3><br/><style>\n    table.wandb td:nth-child(1) { padding: 0 10px; text-align: right }\n    </style><table class=\"wandb\">\n<tr><td>Loss/val</td><td>42.64302</td></tr><tr><td>Loss/xy</td><td>37.44901</td></tr><tr><td>Loss/floor</td><td>5.19402</td></tr><tr><td>MPE/val</td><td>7.56078</td></tr><tr><td>iMPE/val</td><td>7.26051</td></tr><tr><td>epoch</td><td>199</td></tr><tr><td>trainer/global_step</td><td>79199</td></tr><tr><td>_runtime</td><td>1001</td></tr><tr><td>_timestamp</td><td>1619527816</td></tr><tr><td>_step</td><td>199</td></tr></table>"
     },
     "metadata": {}
    },
    {
     "output_type": "display_data",
     "data": {
      "text/plain": "<IPython.core.display.HTML object>",
      "text/html": "<h3>Run history:</h3><br/><style>\n    table.wandb td:nth-child(1) { padding: 0 10px; text-align: right }\n    </style><table class=\"wandb\">\n<tr><td>Loss/val</td><td>█▄▄▄▃▂▂▂▁▁▁▁▁▁▁▁▁▁▁▁▁▁▁▁▁▁▁▁▁▁▁▁▁▁▁▁▁▁▁▁</td></tr><tr><td>Loss/xy</td><td>█▄▄▄▃▂▂▂▁▁▁▁▁▁▁▁▁▁▁▁▁▁▁▁▁▁▁▁▁▁▁▁▁▁▁▁▁▁▁▁</td></tr><tr><td>Loss/floor</td><td>▁▁▁▁▁▁▁▁▁▁▁▁▁▁▁▁▁▁▁▁▁▁▁▁▁▁▁▁▁▁▁▁▁▁▁▁▁▁▁▁</td></tr><tr><td>MPE/val</td><td>█▆▅▅▄▄▃▂▂▂▁▁▁▁▁▁▁▁▁▁▁▁▁▁▁▁▁▁▁▁▁▁▁▁▁▁▁▁▁▁</td></tr><tr><td>iMPE/val</td><td>█▆▅▅▄▄▃▂▂▂▁▁▁▁▁▁▁▁▁▁▁▁▁▁▁▁▁▁▁▁▁▁▁▁▁▁▁▁▁▁</td></tr><tr><td>epoch</td><td>▁▁▁▁▂▂▂▂▂▃▃▃▃▃▃▄▄▄▄▄▅▅▅▅▅▅▆▆▆▆▆▇▇▇▇▇▇███</td></tr><tr><td>trainer/global_step</td><td>▁▁▁▁▂▂▂▂▂▃▃▃▃▃▃▄▄▄▄▄▅▅▅▅▅▅▆▆▆▆▆▇▇▇▇▇▇███</td></tr><tr><td>_runtime</td><td>▁▁▁▁▂▂▂▂▂▃▃▃▃▃▃▄▄▄▄▄▅▅▅▅▅▅▆▆▆▆▆▇▇▇▇▇▇███</td></tr><tr><td>_timestamp</td><td>▁▁▁▁▂▂▂▂▂▃▃▃▃▃▃▄▄▄▄▄▅▅▅▅▅▅▆▆▆▆▆▇▇▇▇▇▇███</td></tr><tr><td>_step</td><td>▁▁▁▁▂▂▂▂▂▃▃▃▃▃▃▄▄▄▄▄▅▅▅▅▅▅▆▆▆▆▆▇▇▇▇▇▇███</td></tr></table><br/>"
     },
     "metadata": {}
    },
    {
     "output_type": "display_data",
     "data": {
      "text/plain": "<IPython.core.display.HTML object>",
      "text/html": "Synced 5 W&B file(s), 1 media file(s), 0 artifact file(s) and 0 other file(s)"
     },
     "metadata": {}
    },
    {
     "output_type": "display_data",
     "data": {
      "text/plain": "<IPython.core.display.HTML object>",
      "text/html": "\n                    <br/>Synced <strong style=\"color:#cdcd00\">rural-night-602</strong>: <a href=\"https://wandb.ai/kuto5046/indoor/runs/13qht7u0\" target=\"_blank\">https://wandb.ai/kuto5046/indoor/runs/13qht7u0</a><br/>\n                "
     },
     "metadata": {}
    },
    {
     "output_type": "stream",
     "name": "stdout",
     "text": [
      "====================\n",
      "Fold 4\n",
      "====================\n",
      "\u001b[34m\u001b[1mwandb\u001b[0m: wandb version 0.10.27 is available!  To upgrade, please run:\n",
      "\u001b[34m\u001b[1mwandb\u001b[0m:  $ pip install wandb --upgrade\n"
     ]
    },
    {
     "output_type": "display_data",
     "data": {
      "text/plain": "<IPython.core.display.HTML object>",
      "text/html": "\n                Tracking run with wandb version 0.10.22<br/>\n                Syncing run <strong style=\"color:#cdcd00\">legendary-shape-603</strong> to <a href=\"https://wandb.ai\" target=\"_blank\">Weights & Biases</a> <a href=\"https://docs.wandb.com/integrations/jupyter.html\" target=\"_blank\">(Documentation)</a>.<br/>\n                Project page: <a href=\"https://wandb.ai/kuto5046/indoor\" target=\"_blank\">https://wandb.ai/kuto5046/indoor</a><br/>\n                Run page: <a href=\"https://wandb.ai/kuto5046/indoor/runs/1dgnl629\" target=\"_blank\">https://wandb.ai/kuto5046/indoor/runs/1dgnl629</a><br/>\n                Run data is saved locally in <code>/home/user/work/exp/exp037/wandb/run-20210427_215026-1dgnl629</code><br/><br/>\n            "
     },
     "metadata": {}
    },
    {
     "output_type": "stream",
     "name": "stderr",
     "text": [
      "GPU available: True, used: True\n",
      "TPU available: None, using: 0 TPU cores\n",
      "\n",
      "  | Name         | Type            | Params\n",
      "-------------------------------------------------\n",
      "0 | model        | LSTMModel       | 7.1 M \n",
      "1 | xy_criterion | WeightedMSELoss | 0     \n",
      "2 | f_criterion  | MSELoss         | 0     \n",
      "-------------------------------------------------\n",
      "7.1 M     Trainable params\n",
      "0         Non-trainable params\n",
      "7.1 M     Total params\n",
      "28.491    Total estimated model params size (MB)\n",
      "fold 4: mean position error 7.39918256299197\n",
      "fold 4: mean position error 7.063461690597682\n"
     ]
    }
   ],
   "source": [
    "oofs = []  # 全てのoofをdfで格納する\n",
    "predictions = []  # 全ての予測値をdfで格納する\n",
    "val_scores = []\n",
    "# skf = model_selection.StratifiedKFold(n_splits=N_SPLITS, shuffle=True, random_state=SEED)\n",
    "gkf = model_selection.GroupKFold(n_splits=N_SPLITS)\n",
    "\n",
    "train_fold = [(trn_idx, val_idx) for trn_idx, val_idx in gkf.split(train.loc[:, 'path'], groups=train.loc[:, 'path'])]\n",
    "# 今回はtargetを均等に分ける必要はなくpathが均等に分かれればいいのでskf.split()にpathを与えている。\n",
    "for fold in range(5):\n",
    "    # 指定したfoldのみループを回す\n",
    "    if fold not in USE_FOLDS:\n",
    "        continue\n",
    "\n",
    "    print('=' * 20)\n",
    "    print(f'Fold {fold}')\n",
    "    print('=' * 20)\n",
    "\n",
    "    # train/valid data\n",
    "    trn_idx_for_train, val_idx_for_train = train_fold[fold]\n",
    "    trn_df = train.loc[trn_idx_for_train, :].reset_index(drop=True)\n",
    "    trn_df = trn_df.loc[:,BSSID_FEATS + RSSI_FEATS + ['site_id', 'x', 'y', 'ix','iy','floor','timediff']]\n",
    "    \n",
    "    val_df = train.loc[val_idx_for_train, :].reset_index(drop=True)\n",
    "    val_df = val_df.loc[:,BSSID_FEATS + RSSI_FEATS + ['site_id', 'x', 'y', 'ix','iy','floor','timediff']]\n",
    "\n",
    "    # data loader\n",
    "    loaders = {}\n",
    "    loader_config = config[\"loader\"]\n",
    "    loaders[\"train\"] = DataLoader(IndoorDataset(trn_df, phase=\"train\"), **loader_config[\"train\"], worker_init_fn=worker_init_fn) \n",
    "    loaders[\"valid\"] = DataLoader(IndoorDataset(val_df, phase=\"valid\"), **loader_config[\"valid\"], worker_init_fn=worker_init_fn)\n",
    "    loaders[\"test\"] = DataLoader(IndoorDataset(test, phase=\"test\"), **loader_config[\"test\"], worker_init_fn=worker_init_fn)\n",
    "\n",
    "    # model\n",
    "    model = LSTMModel(wifi_bssids_size, site_count)  # +1としているのはLEを1スタートで始めているため\n",
    "    model_name = model.__class__.__name__\n",
    "\n",
    "    # callbacks\n",
    "    callbacks = []\n",
    "    checkpoint_callback = ModelCheckpoint(\n",
    "        monitor=f'Loss/val',\n",
    "        mode='min',\n",
    "        dirpath=f\"../../model/{EXP_NAME}\",\n",
    "        verbose=False,\n",
    "        filename=f'{model_name}-{fold}')\n",
    "    \n",
    "    if MODEL_SAVE:\n",
    "        callbacks.append(checkpoint_callback)\n",
    "\n",
    "    early_stop_callback = EarlyStopping(\n",
    "        monitor='Loss/val',\n",
    "        min_delta=0.00,\n",
    "        patience=20,\n",
    "        verbose=False,\n",
    "        mode='min')\n",
    "    callbacks.append(early_stop_callback)\n",
    "\n",
    "    # loggers\n",
    "    RUN_NAME = EXP_NAME + \"_\" + EXP_MESSAGE\n",
    "    wandb.init(project='indoor', notes=NOTES, entity='kuto5046', group=RUN_NAME)\n",
    "    wandb.run.name = RUN_NAME + f'-fold-{fold}'\n",
    "    wandb_config = wandb.config\n",
    "    wandb_config['model_name'] = model_name\n",
    "    wandb_config['LB'] = None\n",
    "    wandb.watch(model)\n",
    "    \n",
    "    \n",
    "    loggers = []\n",
    "    loggers.append(WandbLogger())\n",
    "\n",
    "    learner = Learner(model, config)\n",
    "    # pretrained flag\n",
    "    if PRETRAINED:\n",
    "        ckpt = torch.load(PRETRAINED_PATH + f'{model_name}-{fold}.ckpt')\n",
    "        learner.load_state_dict(ckpt['state_dict'])\n",
    "\n",
    "    if not ONLY_PRED:\n",
    "        trainer = pl.Trainer(\n",
    "            logger=loggers, \n",
    "            callbacks=callbacks,\n",
    "            max_epochs=MAX_EPOCHS,\n",
    "            gpus=[0],\n",
    "            fast_dev_run=DEBUG,\n",
    "            deterministic=True,\n",
    "            # precision=16,\n",
    "            progress_bar_refresh_rate=0  # vscodeの時progress barの動作が遅いので表示しない\n",
    "            )\n",
    "\n",
    "        trainer.fit(learner, train_dataloader=loaders['train'], val_dataloaders=loaders['valid'])\n",
    "\n",
    "    #############\n",
    "    # validation (to make oof)\n",
    "    #############\n",
    "    model.eval()  \n",
    "    oof_df = train.loc[val_idx_for_train, RSSI_FEATS + TIMEDIFF_FEATS + ['id', 'timestamp', 'x', 'y', 'floor', 'ix', 'iy', 'floor_str','path', 'site_id', 'site_id_str']].reset_index(drop=True)\n",
    "    oof_x, oof_y, oof_f = evaluate(model, loaders, phase=\"valid\")\n",
    "    oof_df[\"oof_x\"] = oof_x\n",
    "    oof_df[\"oof_y\"] = oof_y\n",
    "    oof_df[\"oof_floor\"] = oof_f\n",
    "    oofs.append(oof_df)\n",
    "    \n",
    "    # 補間前のtargetで評価\n",
    "    val_score = mean_position_error(\n",
    "        oof_df[\"oof_x\"].values, oof_df[\"oof_y\"].values, 0,\n",
    "        oof_df['x'].values, oof_df['y'].values, 0)\n",
    "    val_scores.append(val_score)\n",
    "    print(f\"fold {fold}: mean position error {val_score}\")\n",
    "\n",
    "    # 補間後のtargetで評価\n",
    "    val_score = mean_position_error(\n",
    "        oof_df[\"oof_x\"].values, oof_df[\"oof_y\"].values, 0,\n",
    "        oof_df['ix'].values, oof_df['iy'].values, 0)\n",
    "    val_scores.append(val_score)\n",
    "    print(f\"fold {fold}: mean position error {val_score}\")\n",
    "\n",
    "    #############\n",
    "    # inference\n",
    "    #############\n",
    "    preds_x, preds_y, preds_f = evaluate(model, loaders, phase=\"test\")\n",
    "    test_preds = pd.DataFrame(np.stack((preds_f, preds_x, preds_y))).T\n",
    "    test_preds.columns = sub_df.columns\n",
    "    test_preds[\"site_path_timestamp\"] = test[\"site_path_timestamp\"]\n",
    "    test_preds[\"floor\"] = test_preds[\"floor\"].astype(int)\n",
    "    # test_preds.to_csv(f'{EXP_NAME}_fold{fold}.csv', index=False)\n",
    "    predictions.append(test_preds)\n",
    "\n",
    "    if fold != 4:\n",
    "        wandb.finish()"
   ]
  },
  {
   "cell_type": "markdown",
   "metadata": {},
   "source": [
    "## validation"
   ]
  },
  {
   "cell_type": "code",
   "execution_count": 26,
   "metadata": {},
   "outputs": [
    {
     "output_type": "execute_result",
     "data": {
      "text/plain": [
       "        rssi_0  rssi_1  rssi_2  rssi_3  rssi_4  rssi_5  rssi_6  rssi_7  \\\n",
       "0           40      47      48      48      50      50      50      52   \n",
       "1           41      48      48      49      49      50      50      50   \n",
       "2           45      46      46      47      47      47      47      49   \n",
       "3           45      45      45      45      45      47      48      49   \n",
       "4           44      44      44      45      45      46      46      47   \n",
       "...        ...     ...     ...     ...     ...     ...     ...     ...   \n",
       "252807      64      69      70      71      72      72      73      76   \n",
       "252808      66      69      70      71      72      72      76      76   \n",
       "252809      66      68      69      76      79      80      80      80   \n",
       "252810      63      66      68      76      76      80      80      81   \n",
       "252811      63      66      68      76      80      80      81      81   \n",
       "\n",
       "        rssi_8  rssi_9  ...          ix          iy  floor_str  \\\n",
       "0           53      56  ...   77.843651   37.382805         F3   \n",
       "1           50      50  ...   77.562737   36.170105         F3   \n",
       "2           49      50  ...   76.994240   23.490675         F3   \n",
       "3           49      49  ...   76.537376   27.810776         F3   \n",
       "4           47      48  ...   76.308945   29.970827         F3   \n",
       "...        ...     ...  ...         ...         ...        ...   \n",
       "252807      76      81  ...  193.559052  108.292297         B1   \n",
       "252808      77      77  ...  194.090317  108.728462         B1   \n",
       "252809      82      83  ...  203.237427  107.850967         B1   \n",
       "252810      82      83  ...  201.653351  107.874741         B1   \n",
       "252811      84      88  ...  200.069260  107.898514         B1   \n",
       "\n",
       "                            path  site_id               site_id_str  \\\n",
       "0       5d10a1669c50c70008fe8977        0  5a0546857ecc773753327266   \n",
       "1       5d10a1669c50c70008fe8977        0  5a0546857ecc773753327266   \n",
       "2       5d10a1669c50c70008fe8977        0  5a0546857ecc773753327266   \n",
       "3       5d10a1669c50c70008fe8977        0  5a0546857ecc773753327266   \n",
       "4       5d10a1669c50c70008fe8977        0  5a0546857ecc773753327266   \n",
       "...                          ...      ...                       ...   \n",
       "252807  5dd7c119c5b77e0006b16b99       23  5dc8cea7659e181adb076a3f   \n",
       "252808  5dd7c119c5b77e0006b16b99       23  5dc8cea7659e181adb076a3f   \n",
       "252809  5dd7c119c5b77e0006b16b99       23  5dc8cea7659e181adb076a3f   \n",
       "252810  5dd7c119c5b77e0006b16b99       23  5dc8cea7659e181adb076a3f   \n",
       "252811  5dd7c119c5b77e0006b16b99       23  5dc8cea7659e181adb076a3f   \n",
       "\n",
       "             oof_x       oof_y  oof_floor  \\\n",
       "0        80.718796   40.430592   0.797324   \n",
       "1        82.950890   33.400330   0.724286   \n",
       "2        86.739304   30.085884   0.677039   \n",
       "3        84.735962   28.607237   0.694668   \n",
       "4        85.506180   24.609470   0.654373   \n",
       "...            ...         ...        ...   \n",
       "252807  203.209076  100.683609   0.954117   \n",
       "252808  203.780258   98.483047   0.834876   \n",
       "252809  207.275864  103.209190   0.961789   \n",
       "252810  206.648941  103.237144   0.862603   \n",
       "252811  206.012238  101.414551   1.222913   \n",
       "\n",
       "                                      site_path_timestamp  \n",
       "0       5a0546857ecc773753327266_5d10a1669c50c70008fe8...  \n",
       "1       5a0546857ecc773753327266_5d10a1669c50c70008fe8...  \n",
       "2       5a0546857ecc773753327266_5d10a1669c50c70008fe8...  \n",
       "3       5a0546857ecc773753327266_5d10a1669c50c70008fe8...  \n",
       "4       5a0546857ecc773753327266_5d10a1669c50c70008fe8...  \n",
       "...                                                   ...  \n",
       "252807  5dc8cea7659e181adb076a3f_5dd7c119c5b77e0006b16...  \n",
       "252808  5dc8cea7659e181adb076a3f_5dd7c119c5b77e0006b16...  \n",
       "252809  5dc8cea7659e181adb076a3f_5dd7c119c5b77e0006b16...  \n",
       "252810  5dc8cea7659e181adb076a3f_5dd7c119c5b77e0006b16...  \n",
       "252811  5dc8cea7659e181adb076a3f_5dd7c119c5b77e0006b16...  \n",
       "\n",
       "[252812 rows x 175 columns]"
      ],
      "text/html": "<div>\n<style scoped>\n    .dataframe tbody tr th:only-of-type {\n        vertical-align: middle;\n    }\n\n    .dataframe tbody tr th {\n        vertical-align: top;\n    }\n\n    .dataframe thead th {\n        text-align: right;\n    }\n</style>\n<table border=\"1\" class=\"dataframe\">\n  <thead>\n    <tr style=\"text-align: right;\">\n      <th></th>\n      <th>rssi_0</th>\n      <th>rssi_1</th>\n      <th>rssi_2</th>\n      <th>rssi_3</th>\n      <th>rssi_4</th>\n      <th>rssi_5</th>\n      <th>rssi_6</th>\n      <th>rssi_7</th>\n      <th>rssi_8</th>\n      <th>rssi_9</th>\n      <th>...</th>\n      <th>ix</th>\n      <th>iy</th>\n      <th>floor_str</th>\n      <th>path</th>\n      <th>site_id</th>\n      <th>site_id_str</th>\n      <th>oof_x</th>\n      <th>oof_y</th>\n      <th>oof_floor</th>\n      <th>site_path_timestamp</th>\n    </tr>\n  </thead>\n  <tbody>\n    <tr>\n      <th>0</th>\n      <td>40</td>\n      <td>47</td>\n      <td>48</td>\n      <td>48</td>\n      <td>50</td>\n      <td>50</td>\n      <td>50</td>\n      <td>52</td>\n      <td>53</td>\n      <td>56</td>\n      <td>...</td>\n      <td>77.843651</td>\n      <td>37.382805</td>\n      <td>F3</td>\n      <td>5d10a1669c50c70008fe8977</td>\n      <td>0</td>\n      <td>5a0546857ecc773753327266</td>\n      <td>80.718796</td>\n      <td>40.430592</td>\n      <td>0.797324</td>\n      <td>5a0546857ecc773753327266_5d10a1669c50c70008fe8...</td>\n    </tr>\n    <tr>\n      <th>1</th>\n      <td>41</td>\n      <td>48</td>\n      <td>48</td>\n      <td>49</td>\n      <td>49</td>\n      <td>50</td>\n      <td>50</td>\n      <td>50</td>\n      <td>50</td>\n      <td>50</td>\n      <td>...</td>\n      <td>77.562737</td>\n      <td>36.170105</td>\n      <td>F3</td>\n      <td>5d10a1669c50c70008fe8977</td>\n      <td>0</td>\n      <td>5a0546857ecc773753327266</td>\n      <td>82.950890</td>\n      <td>33.400330</td>\n      <td>0.724286</td>\n      <td>5a0546857ecc773753327266_5d10a1669c50c70008fe8...</td>\n    </tr>\n    <tr>\n      <th>2</th>\n      <td>45</td>\n      <td>46</td>\n      <td>46</td>\n      <td>47</td>\n      <td>47</td>\n      <td>47</td>\n      <td>47</td>\n      <td>49</td>\n      <td>49</td>\n      <td>50</td>\n      <td>...</td>\n      <td>76.994240</td>\n      <td>23.490675</td>\n      <td>F3</td>\n      <td>5d10a1669c50c70008fe8977</td>\n      <td>0</td>\n      <td>5a0546857ecc773753327266</td>\n      <td>86.739304</td>\n      <td>30.085884</td>\n      <td>0.677039</td>\n      <td>5a0546857ecc773753327266_5d10a1669c50c70008fe8...</td>\n    </tr>\n    <tr>\n      <th>3</th>\n      <td>45</td>\n      <td>45</td>\n      <td>45</td>\n      <td>45</td>\n      <td>45</td>\n      <td>47</td>\n      <td>48</td>\n      <td>49</td>\n      <td>49</td>\n      <td>49</td>\n      <td>...</td>\n      <td>76.537376</td>\n      <td>27.810776</td>\n      <td>F3</td>\n      <td>5d10a1669c50c70008fe8977</td>\n      <td>0</td>\n      <td>5a0546857ecc773753327266</td>\n      <td>84.735962</td>\n      <td>28.607237</td>\n      <td>0.694668</td>\n      <td>5a0546857ecc773753327266_5d10a1669c50c70008fe8...</td>\n    </tr>\n    <tr>\n      <th>4</th>\n      <td>44</td>\n      <td>44</td>\n      <td>44</td>\n      <td>45</td>\n      <td>45</td>\n      <td>46</td>\n      <td>46</td>\n      <td>47</td>\n      <td>47</td>\n      <td>48</td>\n      <td>...</td>\n      <td>76.308945</td>\n      <td>29.970827</td>\n      <td>F3</td>\n      <td>5d10a1669c50c70008fe8977</td>\n      <td>0</td>\n      <td>5a0546857ecc773753327266</td>\n      <td>85.506180</td>\n      <td>24.609470</td>\n      <td>0.654373</td>\n      <td>5a0546857ecc773753327266_5d10a1669c50c70008fe8...</td>\n    </tr>\n    <tr>\n      <th>...</th>\n      <td>...</td>\n      <td>...</td>\n      <td>...</td>\n      <td>...</td>\n      <td>...</td>\n      <td>...</td>\n      <td>...</td>\n      <td>...</td>\n      <td>...</td>\n      <td>...</td>\n      <td>...</td>\n      <td>...</td>\n      <td>...</td>\n      <td>...</td>\n      <td>...</td>\n      <td>...</td>\n      <td>...</td>\n      <td>...</td>\n      <td>...</td>\n      <td>...</td>\n      <td>...</td>\n    </tr>\n    <tr>\n      <th>252807</th>\n      <td>64</td>\n      <td>69</td>\n      <td>70</td>\n      <td>71</td>\n      <td>72</td>\n      <td>72</td>\n      <td>73</td>\n      <td>76</td>\n      <td>76</td>\n      <td>81</td>\n      <td>...</td>\n      <td>193.559052</td>\n      <td>108.292297</td>\n      <td>B1</td>\n      <td>5dd7c119c5b77e0006b16b99</td>\n      <td>23</td>\n      <td>5dc8cea7659e181adb076a3f</td>\n      <td>203.209076</td>\n      <td>100.683609</td>\n      <td>0.954117</td>\n      <td>5dc8cea7659e181adb076a3f_5dd7c119c5b77e0006b16...</td>\n    </tr>\n    <tr>\n      <th>252808</th>\n      <td>66</td>\n      <td>69</td>\n      <td>70</td>\n      <td>71</td>\n      <td>72</td>\n      <td>72</td>\n      <td>76</td>\n      <td>76</td>\n      <td>77</td>\n      <td>77</td>\n      <td>...</td>\n      <td>194.090317</td>\n      <td>108.728462</td>\n      <td>B1</td>\n      <td>5dd7c119c5b77e0006b16b99</td>\n      <td>23</td>\n      <td>5dc8cea7659e181adb076a3f</td>\n      <td>203.780258</td>\n      <td>98.483047</td>\n      <td>0.834876</td>\n      <td>5dc8cea7659e181adb076a3f_5dd7c119c5b77e0006b16...</td>\n    </tr>\n    <tr>\n      <th>252809</th>\n      <td>66</td>\n      <td>68</td>\n      <td>69</td>\n      <td>76</td>\n      <td>79</td>\n      <td>80</td>\n      <td>80</td>\n      <td>80</td>\n      <td>82</td>\n      <td>83</td>\n      <td>...</td>\n      <td>203.237427</td>\n      <td>107.850967</td>\n      <td>B1</td>\n      <td>5dd7c119c5b77e0006b16b99</td>\n      <td>23</td>\n      <td>5dc8cea7659e181adb076a3f</td>\n      <td>207.275864</td>\n      <td>103.209190</td>\n      <td>0.961789</td>\n      <td>5dc8cea7659e181adb076a3f_5dd7c119c5b77e0006b16...</td>\n    </tr>\n    <tr>\n      <th>252810</th>\n      <td>63</td>\n      <td>66</td>\n      <td>68</td>\n      <td>76</td>\n      <td>76</td>\n      <td>80</td>\n      <td>80</td>\n      <td>81</td>\n      <td>82</td>\n      <td>83</td>\n      <td>...</td>\n      <td>201.653351</td>\n      <td>107.874741</td>\n      <td>B1</td>\n      <td>5dd7c119c5b77e0006b16b99</td>\n      <td>23</td>\n      <td>5dc8cea7659e181adb076a3f</td>\n      <td>206.648941</td>\n      <td>103.237144</td>\n      <td>0.862603</td>\n      <td>5dc8cea7659e181adb076a3f_5dd7c119c5b77e0006b16...</td>\n    </tr>\n    <tr>\n      <th>252811</th>\n      <td>63</td>\n      <td>66</td>\n      <td>68</td>\n      <td>76</td>\n      <td>80</td>\n      <td>80</td>\n      <td>81</td>\n      <td>81</td>\n      <td>84</td>\n      <td>88</td>\n      <td>...</td>\n      <td>200.069260</td>\n      <td>107.898514</td>\n      <td>B1</td>\n      <td>5dd7c119c5b77e0006b16b99</td>\n      <td>23</td>\n      <td>5dc8cea7659e181adb076a3f</td>\n      <td>206.012238</td>\n      <td>101.414551</td>\n      <td>1.222913</td>\n      <td>5dc8cea7659e181adb076a3f_5dd7c119c5b77e0006b16...</td>\n    </tr>\n  </tbody>\n</table>\n<p>252812 rows × 175 columns</p>\n</div>"
     },
     "metadata": {},
     "execution_count": 26
    }
   ],
   "source": [
    "if len(USE_FOLDS) > 1:\n",
    "    oofs_df = pd.concat(oofs)\n",
    "else:\n",
    "    oofs_df = oofs[0]\n",
    "\n",
    "oofs_df['site_path_timestamp'] = oofs_df['site_id_str'].astype(str) + '_' + oofs_df['path'] + '_' + oofs_df['timestamp'].astype(str)\n",
    "oofs_df = oofs_df.sort_values('site_path_timestamp').reset_index(drop=True)\n",
    "oofs_df.to_csv(\"oof.csv\", index=False)\n",
    "oofs_df"
   ]
  },
  {
   "cell_type": "code",
   "execution_count": 27,
   "metadata": {},
   "outputs": [
    {
     "output_type": "stream",
     "name": "stdout",
     "text": [
      "CV:7.369922116038795\n"
     ]
    }
   ],
   "source": [
    "# waypoint補正前のx,yでの評価\n",
    "oof_score = mean_position_error(\n",
    "    oofs_df['oof_x'], oofs_df['oof_y'], 0, \n",
    "    oofs_df['x'], oofs_df['y'], 0\n",
    "    )\n",
    "wandb_config['CV'] = oof_score\n",
    "print(f\"CV:{oof_score}\")"
   ]
  },
  {
   "cell_type": "code",
   "execution_count": 28,
   "metadata": {},
   "outputs": [
    {
     "output_type": "stream",
     "name": "stdout",
     "text": [
      "CV:7.047867585399427\n"
     ]
    }
   ],
   "source": [
    "# waypoint補正後のx,yでの評価\n",
    "oof_score = mean_position_error(\n",
    "    oofs_df['oof_x'], oofs_df['oof_y'], 0, \n",
    "    oofs_df['ix'], oofs_df['iy'], 0\n",
    "    )\n",
    "wandb_config['CV-i'] = oof_score\n",
    "print(f\"CV:{oof_score}\")"
   ]
  },
  {
   "cell_type": "code",
   "execution_count": 29,
   "metadata": {},
   "outputs": [
    {
     "output_type": "execute_result",
     "data": {
      "text/plain": [
       "                                                    floor           x  \\\n",
       "site_path_timestamp                                                     \n",
       "5a0546857ecc773753327266_046cfa46be49fc10834815...    0.8   86.784309   \n",
       "5a0546857ecc773753327266_046cfa46be49fc10834815...    0.8   83.809128   \n",
       "5a0546857ecc773753327266_046cfa46be49fc10834815...    0.8   84.982719   \n",
       "5a0546857ecc773753327266_046cfa46be49fc10834815...    0.8   88.018478   \n",
       "5a0546857ecc773753327266_046cfa46be49fc10834815...    0.8   86.644112   \n",
       "...                                                   ...         ...   \n",
       "5dc8cea7659e181adb076a3f_fd64de8c4a2fc5ebb0e9f4...    2.0  212.194061   \n",
       "5dc8cea7659e181adb076a3f_fd64de8c4a2fc5ebb0e9f4...    2.2  208.748810   \n",
       "5dc8cea7659e181adb076a3f_fd64de8c4a2fc5ebb0e9f4...    2.0  205.173523   \n",
       "5dc8cea7659e181adb076a3f_fd64de8c4a2fc5ebb0e9f4...    2.0  200.620773   \n",
       "5dc8cea7659e181adb076a3f_fd64de8c4a2fc5ebb0e9f4...    2.0  197.873108   \n",
       "\n",
       "                                                             y  \n",
       "site_path_timestamp                                             \n",
       "5a0546857ecc773753327266_046cfa46be49fc10834815...  104.355690  \n",
       "5a0546857ecc773753327266_046cfa46be49fc10834815...  102.588478  \n",
       "5a0546857ecc773753327266_046cfa46be49fc10834815...  105.497993  \n",
       "5a0546857ecc773753327266_046cfa46be49fc10834815...  108.960503  \n",
       "5a0546857ecc773753327266_046cfa46be49fc10834815...  108.666779  \n",
       "...                                                        ...  \n",
       "5dc8cea7659e181adb076a3f_fd64de8c4a2fc5ebb0e9f4...   97.204758  \n",
       "5dc8cea7659e181adb076a3f_fd64de8c4a2fc5ebb0e9f4...  101.425636  \n",
       "5dc8cea7659e181adb076a3f_fd64de8c4a2fc5ebb0e9f4...  105.872154  \n",
       "5dc8cea7659e181adb076a3f_fd64de8c4a2fc5ebb0e9f4...  113.299332  \n",
       "5dc8cea7659e181adb076a3f_fd64de8c4a2fc5ebb0e9f4...  116.072289  \n",
       "\n",
       "[10129 rows x 3 columns]"
      ],
      "text/html": "<div>\n<style scoped>\n    .dataframe tbody tr th:only-of-type {\n        vertical-align: middle;\n    }\n\n    .dataframe tbody tr th {\n        vertical-align: top;\n    }\n\n    .dataframe thead th {\n        text-align: right;\n    }\n</style>\n<table border=\"1\" class=\"dataframe\">\n  <thead>\n    <tr style=\"text-align: right;\">\n      <th></th>\n      <th>floor</th>\n      <th>x</th>\n      <th>y</th>\n    </tr>\n    <tr>\n      <th>site_path_timestamp</th>\n      <th></th>\n      <th></th>\n      <th></th>\n    </tr>\n  </thead>\n  <tbody>\n    <tr>\n      <th>5a0546857ecc773753327266_046cfa46be49fc10834815c6_1578474563646</th>\n      <td>0.8</td>\n      <td>86.784309</td>\n      <td>104.355690</td>\n    </tr>\n    <tr>\n      <th>5a0546857ecc773753327266_046cfa46be49fc10834815c6_1578474572654</th>\n      <td>0.8</td>\n      <td>83.809128</td>\n      <td>102.588478</td>\n    </tr>\n    <tr>\n      <th>5a0546857ecc773753327266_046cfa46be49fc10834815c6_1578474578963</th>\n      <td>0.8</td>\n      <td>84.982719</td>\n      <td>105.497993</td>\n    </tr>\n    <tr>\n      <th>5a0546857ecc773753327266_046cfa46be49fc10834815c6_1578474582400</th>\n      <td>0.8</td>\n      <td>88.018478</td>\n      <td>108.960503</td>\n    </tr>\n    <tr>\n      <th>5a0546857ecc773753327266_046cfa46be49fc10834815c6_1578474585965</th>\n      <td>0.8</td>\n      <td>86.644112</td>\n      <td>108.666779</td>\n    </tr>\n    <tr>\n      <th>...</th>\n      <td>...</td>\n      <td>...</td>\n      <td>...</td>\n    </tr>\n    <tr>\n      <th>5dc8cea7659e181adb076a3f_fd64de8c4a2fc5ebb0e9f412_1573731143256</th>\n      <td>2.0</td>\n      <td>212.194061</td>\n      <td>97.204758</td>\n    </tr>\n    <tr>\n      <th>5dc8cea7659e181adb076a3f_fd64de8c4a2fc5ebb0e9f412_1573731146426</th>\n      <td>2.2</td>\n      <td>208.748810</td>\n      <td>101.425636</td>\n    </tr>\n    <tr>\n      <th>5dc8cea7659e181adb076a3f_fd64de8c4a2fc5ebb0e9f412_1573731151563</th>\n      <td>2.0</td>\n      <td>205.173523</td>\n      <td>105.872154</td>\n    </tr>\n    <tr>\n      <th>5dc8cea7659e181adb076a3f_fd64de8c4a2fc5ebb0e9f412_1573731157567</th>\n      <td>2.0</td>\n      <td>200.620773</td>\n      <td>113.299332</td>\n    </tr>\n    <tr>\n      <th>5dc8cea7659e181adb076a3f_fd64de8c4a2fc5ebb0e9f412_1573731161115</th>\n      <td>2.0</td>\n      <td>197.873108</td>\n      <td>116.072289</td>\n    </tr>\n  </tbody>\n</table>\n<p>10129 rows × 3 columns</p>\n</div>"
     },
     "metadata": {},
     "execution_count": 29
    }
   ],
   "source": [
    "if len(USE_FOLDS) > 1:\n",
    "    # foldの結果を平均した後、reindexでsubmission fileにindexを合わせる\n",
    "    all_preds = pd.concat(predictions).groupby('site_path_timestamp').mean()  # 平均でいいんだっけ？\n",
    "else:\n",
    "    all_preds = predictions[0]\n",
    "all_preds"
   ]
  },
  {
   "cell_type": "code",
   "execution_count": 30,
   "metadata": {},
   "outputs": [
    {
     "output_type": "execute_result",
     "data": {
      "text/plain": [
       "                                                    floor           x  \\\n",
       "site_path_timestamp                                                     \n",
       "5a0546857ecc773753327266_046cfa46be49fc10834815...    0.8   86.784309   \n",
       "5a0546857ecc773753327266_046cfa46be49fc10834815...    0.8   83.809128   \n",
       "5a0546857ecc773753327266_046cfa46be49fc10834815...    0.8   84.982719   \n",
       "5a0546857ecc773753327266_046cfa46be49fc10834815...    0.8   88.018478   \n",
       "5a0546857ecc773753327266_046cfa46be49fc10834815...    0.8   86.644112   \n",
       "...                                                   ...         ...   \n",
       "5dc8cea7659e181adb076a3f_fd64de8c4a2fc5ebb0e9f4...    2.0  212.194061   \n",
       "5dc8cea7659e181adb076a3f_fd64de8c4a2fc5ebb0e9f4...    2.2  208.748810   \n",
       "5dc8cea7659e181adb076a3f_fd64de8c4a2fc5ebb0e9f4...    2.0  205.173523   \n",
       "5dc8cea7659e181adb076a3f_fd64de8c4a2fc5ebb0e9f4...    2.0  200.620773   \n",
       "5dc8cea7659e181adb076a3f_fd64de8c4a2fc5ebb0e9f4...    2.0  197.873108   \n",
       "\n",
       "                                                             y  \n",
       "site_path_timestamp                                             \n",
       "5a0546857ecc773753327266_046cfa46be49fc10834815...  104.355690  \n",
       "5a0546857ecc773753327266_046cfa46be49fc10834815...  102.588478  \n",
       "5a0546857ecc773753327266_046cfa46be49fc10834815...  105.497993  \n",
       "5a0546857ecc773753327266_046cfa46be49fc10834815...  108.960503  \n",
       "5a0546857ecc773753327266_046cfa46be49fc10834815...  108.666779  \n",
       "...                                                        ...  \n",
       "5dc8cea7659e181adb076a3f_fd64de8c4a2fc5ebb0e9f4...   97.204758  \n",
       "5dc8cea7659e181adb076a3f_fd64de8c4a2fc5ebb0e9f4...  101.425636  \n",
       "5dc8cea7659e181adb076a3f_fd64de8c4a2fc5ebb0e9f4...  105.872154  \n",
       "5dc8cea7659e181adb076a3f_fd64de8c4a2fc5ebb0e9f4...  113.299332  \n",
       "5dc8cea7659e181adb076a3f_fd64de8c4a2fc5ebb0e9f4...  116.072289  \n",
       "\n",
       "[10133 rows x 3 columns]"
      ],
      "text/html": "<div>\n<style scoped>\n    .dataframe tbody tr th:only-of-type {\n        vertical-align: middle;\n    }\n\n    .dataframe tbody tr th {\n        vertical-align: top;\n    }\n\n    .dataframe thead th {\n        text-align: right;\n    }\n</style>\n<table border=\"1\" class=\"dataframe\">\n  <thead>\n    <tr style=\"text-align: right;\">\n      <th></th>\n      <th>floor</th>\n      <th>x</th>\n      <th>y</th>\n    </tr>\n    <tr>\n      <th>site_path_timestamp</th>\n      <th></th>\n      <th></th>\n      <th></th>\n    </tr>\n  </thead>\n  <tbody>\n    <tr>\n      <th>5a0546857ecc773753327266_046cfa46be49fc10834815c6_0000000000009</th>\n      <td>0.8</td>\n      <td>86.784309</td>\n      <td>104.355690</td>\n    </tr>\n    <tr>\n      <th>5a0546857ecc773753327266_046cfa46be49fc10834815c6_0000000009017</th>\n      <td>0.8</td>\n      <td>83.809128</td>\n      <td>102.588478</td>\n    </tr>\n    <tr>\n      <th>5a0546857ecc773753327266_046cfa46be49fc10834815c6_0000000015326</th>\n      <td>0.8</td>\n      <td>84.982719</td>\n      <td>105.497993</td>\n    </tr>\n    <tr>\n      <th>5a0546857ecc773753327266_046cfa46be49fc10834815c6_0000000018763</th>\n      <td>0.8</td>\n      <td>88.018478</td>\n      <td>108.960503</td>\n    </tr>\n    <tr>\n      <th>5a0546857ecc773753327266_046cfa46be49fc10834815c6_0000000022328</th>\n      <td>0.8</td>\n      <td>86.644112</td>\n      <td>108.666779</td>\n    </tr>\n    <tr>\n      <th>...</th>\n      <td>...</td>\n      <td>...</td>\n      <td>...</td>\n    </tr>\n    <tr>\n      <th>5dc8cea7659e181adb076a3f_fd64de8c4a2fc5ebb0e9f412_0000000082589</th>\n      <td>2.0</td>\n      <td>212.194061</td>\n      <td>97.204758</td>\n    </tr>\n    <tr>\n      <th>5dc8cea7659e181adb076a3f_fd64de8c4a2fc5ebb0e9f412_0000000085758</th>\n      <td>2.2</td>\n      <td>208.748810</td>\n      <td>101.425636</td>\n    </tr>\n    <tr>\n      <th>5dc8cea7659e181adb076a3f_fd64de8c4a2fc5ebb0e9f412_0000000090895</th>\n      <td>2.0</td>\n      <td>205.173523</td>\n      <td>105.872154</td>\n    </tr>\n    <tr>\n      <th>5dc8cea7659e181adb076a3f_fd64de8c4a2fc5ebb0e9f412_0000000096899</th>\n      <td>2.0</td>\n      <td>200.620773</td>\n      <td>113.299332</td>\n    </tr>\n    <tr>\n      <th>5dc8cea7659e181adb076a3f_fd64de8c4a2fc5ebb0e9f412_0000000100447</th>\n      <td>2.0</td>\n      <td>197.873108</td>\n      <td>116.072289</td>\n    </tr>\n  </tbody>\n</table>\n<p>10133 rows × 3 columns</p>\n</div>"
     },
     "metadata": {},
     "execution_count": 30
    }
   ],
   "source": [
    "all_preds_20s = pd.read_csv('../../exp/exp021/exp021_diff_weight_v2_cost_snap_sub.csv', index_col=0)\n",
    "with open(root_dir/'2kaido_wifi_dataset_v2/test_20000_7.pkl', 'rb') as f:\n",
    "  tmp = pickle.load(f)\n",
    "# site_path_timestampをoriginalに戻す\n",
    "all_preds_20s.index = tmp['site_path_timestamp']\n",
    "\n",
    "# オリジナルのsite_path_timestampをもとにmerge\n",
    "sub = pd.merge(all_preds_20s, all_preds, how='left', on='site_path_timestamp')[['floor_y', 'x_y', 'y_y']]\n",
    "sub = sub.rename(columns={'floor_y': 'floor', 'x_y': 'x', 'y_y': 'y'})\n",
    "\n",
    "# 欠損している箇所は補間\n",
    "sub['floor'].fillna(all_preds_20s['floor'], inplace=True)\n",
    "sub['x'].fillna(all_preds_20s['x'].astype(np.float32), inplace=True)\n",
    "sub['y'].fillna(all_preds_20s['y'].astype(np.float32), inplace=True)\n",
    "\n",
    "# foldの結果を平均した後、reindexでsubmission fileにindexを合わせる\n",
    "sub.index = sub_df.index\n",
    "sub"
   ]
  },
  {
   "cell_type": "code",
   "execution_count": 31,
   "metadata": {},
   "outputs": [
    {
     "output_type": "execute_result",
     "data": {
      "text/plain": [
       "                                                    floor           x  \\\n",
       "site_path_timestamp                                                     \n",
       "5a0546857ecc773753327266_046cfa46be49fc10834815...      0   86.784309   \n",
       "5a0546857ecc773753327266_046cfa46be49fc10834815...      0   83.809128   \n",
       "5a0546857ecc773753327266_046cfa46be49fc10834815...      0   84.982719   \n",
       "5a0546857ecc773753327266_046cfa46be49fc10834815...      0   88.018478   \n",
       "5a0546857ecc773753327266_046cfa46be49fc10834815...      0   86.644112   \n",
       "...                                                   ...         ...   \n",
       "5dc8cea7659e181adb076a3f_fd64de8c4a2fc5ebb0e9f4...      5  212.194061   \n",
       "5dc8cea7659e181adb076a3f_fd64de8c4a2fc5ebb0e9f4...      5  208.748810   \n",
       "5dc8cea7659e181adb076a3f_fd64de8c4a2fc5ebb0e9f4...      5  205.173523   \n",
       "5dc8cea7659e181adb076a3f_fd64de8c4a2fc5ebb0e9f4...      5  200.620773   \n",
       "5dc8cea7659e181adb076a3f_fd64de8c4a2fc5ebb0e9f4...      5  197.873108   \n",
       "\n",
       "                                                             y  \n",
       "site_path_timestamp                                             \n",
       "5a0546857ecc773753327266_046cfa46be49fc10834815...  104.355690  \n",
       "5a0546857ecc773753327266_046cfa46be49fc10834815...  102.588478  \n",
       "5a0546857ecc773753327266_046cfa46be49fc10834815...  105.497993  \n",
       "5a0546857ecc773753327266_046cfa46be49fc10834815...  108.960503  \n",
       "5a0546857ecc773753327266_046cfa46be49fc10834815...  108.666779  \n",
       "...                                                        ...  \n",
       "5dc8cea7659e181adb076a3f_fd64de8c4a2fc5ebb0e9f4...   97.204758  \n",
       "5dc8cea7659e181adb076a3f_fd64de8c4a2fc5ebb0e9f4...  101.425636  \n",
       "5dc8cea7659e181adb076a3f_fd64de8c4a2fc5ebb0e9f4...  105.872154  \n",
       "5dc8cea7659e181adb076a3f_fd64de8c4a2fc5ebb0e9f4...  113.299332  \n",
       "5dc8cea7659e181adb076a3f_fd64de8c4a2fc5ebb0e9f4...  116.072289  \n",
       "\n",
       "[10133 rows x 3 columns]"
      ],
      "text/html": "<div>\n<style scoped>\n    .dataframe tbody tr th:only-of-type {\n        vertical-align: middle;\n    }\n\n    .dataframe tbody tr th {\n        vertical-align: top;\n    }\n\n    .dataframe thead th {\n        text-align: right;\n    }\n</style>\n<table border=\"1\" class=\"dataframe\">\n  <thead>\n    <tr style=\"text-align: right;\">\n      <th></th>\n      <th>floor</th>\n      <th>x</th>\n      <th>y</th>\n    </tr>\n    <tr>\n      <th>site_path_timestamp</th>\n      <th></th>\n      <th></th>\n      <th></th>\n    </tr>\n  </thead>\n  <tbody>\n    <tr>\n      <th>5a0546857ecc773753327266_046cfa46be49fc10834815c6_0000000000009</th>\n      <td>0</td>\n      <td>86.784309</td>\n      <td>104.355690</td>\n    </tr>\n    <tr>\n      <th>5a0546857ecc773753327266_046cfa46be49fc10834815c6_0000000009017</th>\n      <td>0</td>\n      <td>83.809128</td>\n      <td>102.588478</td>\n    </tr>\n    <tr>\n      <th>5a0546857ecc773753327266_046cfa46be49fc10834815c6_0000000015326</th>\n      <td>0</td>\n      <td>84.982719</td>\n      <td>105.497993</td>\n    </tr>\n    <tr>\n      <th>5a0546857ecc773753327266_046cfa46be49fc10834815c6_0000000018763</th>\n      <td>0</td>\n      <td>88.018478</td>\n      <td>108.960503</td>\n    </tr>\n    <tr>\n      <th>5a0546857ecc773753327266_046cfa46be49fc10834815c6_0000000022328</th>\n      <td>0</td>\n      <td>86.644112</td>\n      <td>108.666779</td>\n    </tr>\n    <tr>\n      <th>...</th>\n      <td>...</td>\n      <td>...</td>\n      <td>...</td>\n    </tr>\n    <tr>\n      <th>5dc8cea7659e181adb076a3f_fd64de8c4a2fc5ebb0e9f412_0000000082589</th>\n      <td>5</td>\n      <td>212.194061</td>\n      <td>97.204758</td>\n    </tr>\n    <tr>\n      <th>5dc8cea7659e181adb076a3f_fd64de8c4a2fc5ebb0e9f412_0000000085758</th>\n      <td>5</td>\n      <td>208.748810</td>\n      <td>101.425636</td>\n    </tr>\n    <tr>\n      <th>5dc8cea7659e181adb076a3f_fd64de8c4a2fc5ebb0e9f412_0000000090895</th>\n      <td>5</td>\n      <td>205.173523</td>\n      <td>105.872154</td>\n    </tr>\n    <tr>\n      <th>5dc8cea7659e181adb076a3f_fd64de8c4a2fc5ebb0e9f412_0000000096899</th>\n      <td>5</td>\n      <td>200.620773</td>\n      <td>113.299332</td>\n    </tr>\n    <tr>\n      <th>5dc8cea7659e181adb076a3f_fd64de8c4a2fc5ebb0e9f412_0000000100447</th>\n      <td>5</td>\n      <td>197.873108</td>\n      <td>116.072289</td>\n    </tr>\n  </tbody>\n</table>\n<p>10133 rows × 3 columns</p>\n</div>"
     },
     "metadata": {},
     "execution_count": 31
    }
   ],
   "source": [
    "# floorの数値を置換\n",
    "simple_accurate_99 = pd.read_csv(root_dir / 'simple-99-accurate-floor-model/submission.csv')\n",
    "sub['floor'] = simple_accurate_99['floor'].values\n",
    "sub"
   ]
  },
  {
   "cell_type": "markdown",
   "metadata": {},
   "source": [
    "## testのwaypointを予測結果(wifi)から再度線形補完"
   ]
  },
  {
   "cell_type": "code",
   "execution_count": 32,
   "metadata": {},
   "outputs": [],
   "source": [
    "import sys \n",
    "sys.path.append(\"../../\")\n",
    "from multiprocessing import Pool\n",
    "from src.io_f import read_data_file\n",
    "from scipy import interpolate\n",
    "\n",
    "# timestampとwaypointを元に線形補完しtarget_timestampに対応するtarget_waypointを求める　\n",
    "def wifi_waypoint_by_linear_interpolation(\n",
    "    observed_timestamp: np.ndarray, \n",
    "    observed_x:np.ndarray, \n",
    "    observed_y:np.ndarray, \n",
    "    target_timestamp:np.ndarray, \n",
    "    delta_time=500\n",
    "    ):\n",
    "    \"\"\"\n",
    "    observed: すでに知っている情報\n",
    "    observed-timestamp,x,yは全て同じ要素数となる\n",
    "\n",
    "    observedの情報からfitting関数を作成\n",
    "    \"\"\"\n",
    "    target_waypoint_list = []\n",
    "    num_interpolation = len(observed_timestamp) - 1  # 補完回数 \n",
    "    # 各waypoint間で線形補完\n",
    "    for i in range(num_interpolation):\n",
    "        # 潜在的なtimestampを作成(これのどれかにwifiを当てはめるような形)\n",
    "        n_split = int((max(observed_timestamp[i:i+2]) - min(observed_timestamp[i:i+2])) / delta_time) + 2  # delta_time刻みとなるように分割数を指定(+2は始点と終点分)\n",
    "        latent_timestamp = np.linspace(min(observed_timestamp[i:i+2]), max(observed_timestamp[i:i+2]), n_split).astype(int) \n",
    "        \n",
    "        # xが昇順の場合はlatentも昇順になるようにする\n",
    "        if observed_x[i] < observed_x[i+1]:\n",
    "            latent_x = np.linspace(min(observed_x[i:i+2]), max(observed_x[i:i+2]), n_split)\n",
    "        # xが降順の場合はlatentも降順になるようにする\n",
    "        else:\n",
    "            latent_x = np.linspace(min(observed_x[i:i+2]), max(observed_x[i:i+2]), n_split)[::-1]\n",
    "        \n",
    "        # 線形補完関数の適用\n",
    "        fitting_func = interpolate.interp1d(observed_x[i:i+2], observed_y[i:i+2])\n",
    "\n",
    "        # wifiのtimestampに最も近いものをsplit_timestampから取得しそれに対応するwaypointをwifiのwaypointとして取得\n",
    "        target_x = []\n",
    "        target_y = []\n",
    "\n",
    "        # 区間内のwifiデータのみ考える\n",
    "        if i == num_interpolation-1:\n",
    "            # pathの最後の区間にobserved timestampより未来にあるtimestampに対処\n",
    "            target_idx = min(observed_timestamp[i:i+2]) <= target_timestamp\n",
    "        elif i == 0:\n",
    "            # pathの最初の区間にobserved timestampより過去にあるtimestampに対処\n",
    "            target_idx = target_timestamp < max(observed_timestamp[i:i+2])\n",
    "        else:\n",
    "            target_idx = (min(observed_timestamp[i:i+2]) <= target_timestamp) & (target_timestamp < max(observed_timestamp[i:i+2]))\n",
    "        target_use_timestamp = target_timestamp[target_idx]\n",
    "\n",
    "        # timestampが最も近いものをtarget waypointとして取得\n",
    "        for t in target_use_timestamp:\n",
    "            idx = np.abs(latent_timestamp - t).argmin()  # targetとtimestampが最も近いものをlatentから取得\n",
    "            target_x.append(latent_x[idx])\n",
    "            # 原因はよくわからないがfittingするとnanが発生する場合がある\n",
    "            # その場合は元の値をそのまま使う\n",
    "            if np.isnan(fitting_func(latent_x[idx])).sum() > 0:\n",
    "                # print('yに欠損値あり')\n",
    "                idx = np.abs(observed_timestamp - t).argmin()  # 0→wifiの最初のtimestampで問題が起きている\n",
    "                target_y.append(observed_y[idx])\n",
    "                \n",
    "            else:\n",
    "                target_y.append(fitting_func(latent_x[idx]))\n",
    "\n",
    "        assert len(target_x) == len(target_y)\n",
    "        target_waypoint = np.stack([target_x, target_y], axis=1)\n",
    "        target_waypoint_list.append(target_waypoint)\n",
    "\n",
    "    target_waypoint = np.concatenate(target_waypoint_list)\n",
    "    return target_waypoint"
   ]
  },
  {
   "cell_type": "code",
   "execution_count": 33,
   "metadata": {},
   "outputs": [
    {
     "output_type": "execute_result",
     "data": {
      "text/plain": [
       "                         path      time_diff\n",
       "0    00ff0c9a71cc37a2ebdd0f05  1573190310696\n",
       "1    01c41f1aeba5c48c2c4dd568  1571984753725\n",
       "2    030b3d94de8acae7c936563d  1571566234667\n",
       "3    0389421238a7e2839701df0f  1574146842794\n",
       "4    04029880763600640a0cf42c  1574249828638\n",
       "..                        ...            ...\n",
       "621  fd64de8c4a2fc5ebb0e9f412  1573731060667\n",
       "622  fd76cacb0312c4bd96701f09  1574138568080\n",
       "623  fdac8be560a05943aba7e41f  1573704510512\n",
       "624  ff141af01177f34e9caa7a12  1571280738968\n",
       "625  ffcd9524c80c0fa5bb859eaf  1578465315137\n",
       "\n",
       "[626 rows x 2 columns]"
      ],
      "text/html": "<div>\n<style scoped>\n    .dataframe tbody tr th:only-of-type {\n        vertical-align: middle;\n    }\n\n    .dataframe tbody tr th {\n        vertical-align: top;\n    }\n\n    .dataframe thead th {\n        text-align: right;\n    }\n</style>\n<table border=\"1\" class=\"dataframe\">\n  <thead>\n    <tr style=\"text-align: right;\">\n      <th></th>\n      <th>path</th>\n      <th>time_diff</th>\n    </tr>\n  </thead>\n  <tbody>\n    <tr>\n      <th>0</th>\n      <td>00ff0c9a71cc37a2ebdd0f05</td>\n      <td>1573190310696</td>\n    </tr>\n    <tr>\n      <th>1</th>\n      <td>01c41f1aeba5c48c2c4dd568</td>\n      <td>1571984753725</td>\n    </tr>\n    <tr>\n      <th>2</th>\n      <td>030b3d94de8acae7c936563d</td>\n      <td>1571566234667</td>\n    </tr>\n    <tr>\n      <th>3</th>\n      <td>0389421238a7e2839701df0f</td>\n      <td>1574146842794</td>\n    </tr>\n    <tr>\n      <th>4</th>\n      <td>04029880763600640a0cf42c</td>\n      <td>1574249828638</td>\n    </tr>\n    <tr>\n      <th>...</th>\n      <td>...</td>\n      <td>...</td>\n    </tr>\n    <tr>\n      <th>621</th>\n      <td>fd64de8c4a2fc5ebb0e9f412</td>\n      <td>1573731060667</td>\n    </tr>\n    <tr>\n      <th>622</th>\n      <td>fd76cacb0312c4bd96701f09</td>\n      <td>1574138568080</td>\n    </tr>\n    <tr>\n      <th>623</th>\n      <td>fdac8be560a05943aba7e41f</td>\n      <td>1573704510512</td>\n    </tr>\n    <tr>\n      <th>624</th>\n      <td>ff141af01177f34e9caa7a12</td>\n      <td>1571280738968</td>\n    </tr>\n    <tr>\n      <th>625</th>\n      <td>ffcd9524c80c0fa5bb859eaf</td>\n      <td>1578465315137</td>\n    </tr>\n  </tbody>\n</table>\n<p>626 rows × 2 columns</p>\n</div>"
     },
     "metadata": {},
     "execution_count": 33
    }
   ],
   "source": [
    "timediff = pd.read_csv(root_dir/'test_path_timediff.csv').rename(columns={'path_id':'path'})\n",
    "timediff"
   ]
  },
  {
   "cell_type": "code",
   "execution_count": 34,
   "metadata": {},
   "outputs": [],
   "source": [
    "_test_df = test_df.merge(timediff, on='path')\n",
    "test_df['_timestamp'] = (_test_df['timestamp'].astype(int) - _test_df['time_diff'].astype(int)).astype(str).str.zfill(13)\n",
    "test_df['site_path_timestamp'] = test_df['site_id'] + '_' + test_df['path'] + '_' + test_df['_timestamp']"
   ]
  },
  {
   "cell_type": "code",
   "execution_count": 35,
   "metadata": {},
   "outputs": [
    {
     "output_type": "execute_result",
     "data": {
      "text/plain": [
       "                                     site_path_timestamp timediff  floor  \\\n",
       "0      5a0546857ecc773753327266_046cfa46be49fc1083481...    -2331    0.0   \n",
       "1      5a0546857ecc773753327266_046cfa46be49fc1083481...     -491    0.0   \n",
       "2      5a0546857ecc773753327266_046cfa46be49fc1083481...      612    0.0   \n",
       "3      5a0546857ecc773753327266_046cfa46be49fc1083481...     -824    0.0   \n",
       "4      5a0546857ecc773753327266_046cfa46be49fc1083481...      254    0.0   \n",
       "...                                                  ...      ...    ...   \n",
       "10124  5dc8cea7659e181adb076a3f_fd64de8c4a2fc5ebb0e9f...      925    5.0   \n",
       "10125  5dc8cea7659e181adb076a3f_fd64de8c4a2fc5ebb0e9f...      123    NaN   \n",
       "10126  5dc8cea7659e181adb076a3f_fd64de8c4a2fc5ebb0e9f...     -625    NaN   \n",
       "10127  5dc8cea7659e181adb076a3f_fd64de8c4a2fc5ebb0e9f...     -528    NaN   \n",
       "10128  5dc8cea7659e181adb076a3f_fd64de8c4a2fc5ebb0e9f...     1019    NaN   \n",
       "\n",
       "                x           y  \n",
       "0       86.784309  104.355690  \n",
       "1       83.809128  102.588478  \n",
       "2       84.982719  105.497993  \n",
       "3       88.018478  108.960503  \n",
       "4       86.644112  108.666779  \n",
       "...           ...         ...  \n",
       "10124  212.194061   97.204758  \n",
       "10125         NaN         NaN  \n",
       "10126         NaN         NaN  \n",
       "10127         NaN         NaN  \n",
       "10128         NaN         NaN  \n",
       "\n",
       "[10129 rows x 5 columns]"
      ],
      "text/html": "<div>\n<style scoped>\n    .dataframe tbody tr th:only-of-type {\n        vertical-align: middle;\n    }\n\n    .dataframe tbody tr th {\n        vertical-align: top;\n    }\n\n    .dataframe thead th {\n        text-align: right;\n    }\n</style>\n<table border=\"1\" class=\"dataframe\">\n  <thead>\n    <tr style=\"text-align: right;\">\n      <th></th>\n      <th>site_path_timestamp</th>\n      <th>timediff</th>\n      <th>floor</th>\n      <th>x</th>\n      <th>y</th>\n    </tr>\n  </thead>\n  <tbody>\n    <tr>\n      <th>0</th>\n      <td>5a0546857ecc773753327266_046cfa46be49fc1083481...</td>\n      <td>-2331</td>\n      <td>0.0</td>\n      <td>86.784309</td>\n      <td>104.355690</td>\n    </tr>\n    <tr>\n      <th>1</th>\n      <td>5a0546857ecc773753327266_046cfa46be49fc1083481...</td>\n      <td>-491</td>\n      <td>0.0</td>\n      <td>83.809128</td>\n      <td>102.588478</td>\n    </tr>\n    <tr>\n      <th>2</th>\n      <td>5a0546857ecc773753327266_046cfa46be49fc1083481...</td>\n      <td>612</td>\n      <td>0.0</td>\n      <td>84.982719</td>\n      <td>105.497993</td>\n    </tr>\n    <tr>\n      <th>3</th>\n      <td>5a0546857ecc773753327266_046cfa46be49fc1083481...</td>\n      <td>-824</td>\n      <td>0.0</td>\n      <td>88.018478</td>\n      <td>108.960503</td>\n    </tr>\n    <tr>\n      <th>4</th>\n      <td>5a0546857ecc773753327266_046cfa46be49fc1083481...</td>\n      <td>254</td>\n      <td>0.0</td>\n      <td>86.644112</td>\n      <td>108.666779</td>\n    </tr>\n    <tr>\n      <th>...</th>\n      <td>...</td>\n      <td>...</td>\n      <td>...</td>\n      <td>...</td>\n      <td>...</td>\n    </tr>\n    <tr>\n      <th>10124</th>\n      <td>5dc8cea7659e181adb076a3f_fd64de8c4a2fc5ebb0e9f...</td>\n      <td>925</td>\n      <td>5.0</td>\n      <td>212.194061</td>\n      <td>97.204758</td>\n    </tr>\n    <tr>\n      <th>10125</th>\n      <td>5dc8cea7659e181adb076a3f_fd64de8c4a2fc5ebb0e9f...</td>\n      <td>123</td>\n      <td>NaN</td>\n      <td>NaN</td>\n      <td>NaN</td>\n    </tr>\n    <tr>\n      <th>10126</th>\n      <td>5dc8cea7659e181adb076a3f_fd64de8c4a2fc5ebb0e9f...</td>\n      <td>-625</td>\n      <td>NaN</td>\n      <td>NaN</td>\n      <td>NaN</td>\n    </tr>\n    <tr>\n      <th>10127</th>\n      <td>5dc8cea7659e181adb076a3f_fd64de8c4a2fc5ebb0e9f...</td>\n      <td>-528</td>\n      <td>NaN</td>\n      <td>NaN</td>\n      <td>NaN</td>\n    </tr>\n    <tr>\n      <th>10128</th>\n      <td>5dc8cea7659e181adb076a3f_fd64de8c4a2fc5ebb0e9f...</td>\n      <td>1019</td>\n      <td>NaN</td>\n      <td>NaN</td>\n      <td>NaN</td>\n    </tr>\n  </tbody>\n</table>\n<p>10129 rows × 5 columns</p>\n</div>"
     },
     "metadata": {},
     "execution_count": 35
    }
   ],
   "source": [
    "pd.merge(test_df[['site_path_timestamp', 'timediff']], sub, on=\"site_path_timestamp\", how='left')"
   ]
  },
  {
   "cell_type": "code",
   "execution_count": 36,
   "metadata": {},
   "outputs": [],
   "source": [
    "# test_df['wifi_timestamp'] = test_df['timestamp'].astype(int) - test_df['timediff'].astype(int)\n",
    "# test_df"
   ]
  },
  {
   "cell_type": "code",
   "execution_count": 37,
   "metadata": {},
   "outputs": [],
   "source": [
    "# # 線形補完の例\n",
    "# path = test_df['path'].unique()[23]  #15\n",
    "# df = test_df[test_df['path']==path]\n",
    "\n",
    "# waypoint = wifi_waypoint_by_linear_interpolation(\n",
    "#     observed_timestamp=df['wifi_timestamp'].astype(int).values, \n",
    "#     observed_x=df['x'].values,\n",
    "#     observed_y=df['y'].values, \n",
    "#     target_timestamp=df['timestamp'].astype(int).values\n",
    "#     )\n",
    "# print(len(df), len(waypoint))\n",
    "\n",
    "# import matplotlib.pyplot as plt\n",
    "# # print(df[\"timestamp\"].astype(int) - df[\"timestamp\"].astype(int).values[0])\n",
    "# plt.plot(df[\"x\"].values, df[\"y\"].values, ls='--', marker=\"o\", label='wifi')\n",
    "# plt.plot(waypoint[:,0], waypoint[:,1], ls='--', marker=\"o\", label='waypoint')\n",
    "# plt.legend()"
   ]
  },
  {
   "cell_type": "code",
   "execution_count": 38,
   "metadata": {},
   "outputs": [],
   "source": [
    "# # 線形補完でwaypointを修正\n",
    "# waypoint_dfs = []\n",
    "# for path,df in test_df.groupby('path'):  #15\n",
    "#     tmp_waypoint = wifi_waypoint_by_linear_interpolation(\n",
    "#         observed_timestamp=df['wifi_timestamp'].astype(int).values, \n",
    "#         observed_x=df['x'].values,\n",
    "#         observed_y=df['y'].values, \n",
    "#         target_timestamp=df['timestamp'].astype(int).values\n",
    "#         )\n",
    "#     df['_x'] = tmp_waypoint[:,0]\n",
    "#     df['_y'] = tmp_waypoint[:,1]\n",
    "#     waypoint_dfs.append(df)\n",
    "\n",
    "# waypoint_df = pd.concat(waypoint_dfs).reset_index(drop=True)\n",
    "# waypoint_df"
   ]
  },
  {
   "cell_type": "code",
   "execution_count": 39,
   "metadata": {},
   "outputs": [],
   "source": [
    "# import matplotlib.pyplot as plt\n",
    "# (waypoint_df['x'] - waypoint_df['_x']).hist(label='x')\n",
    "# (waypoint_df['y'] - waypoint_df['_y']).hist(label='y')\n",
    "# plt.legend()"
   ]
  },
  {
   "cell_type": "code",
   "execution_count": 40,
   "metadata": {},
   "outputs": [],
   "source": [
    "# sub = sub.merge(waypoint_df[['site_path_timestamp', '_x', '_y']], on='site_path_timestamp').set_index('site_path_timestamp')\n",
    "# sub = sub.drop(['x','y'], axis=1).rename(columns={'_x':'x', '_y':'y'})\n",
    "# sub"
   ]
  },
  {
   "cell_type": "code",
   "execution_count": 41,
   "metadata": {},
   "outputs": [],
   "source": [
    "sub.to_csv(EXP_NAME + '_sub.csv')"
   ]
  },
  {
   "cell_type": "markdown",
   "metadata": {},
   "source": [
    "## 後処理"
   ]
  },
  {
   "cell_type": "markdown",
   "metadata": {},
   "source": [
    "## cost minimaization"
   ]
  },
  {
   "cell_type": "code",
   "execution_count": null,
   "metadata": {},
   "outputs": [],
   "source": [
    "import multiprocessing\n",
    "import scipy.interpolate\n",
    "import scipy.sparse\n",
    "from tqdm import tqdm\n",
    "import sys\n",
    "sys.path.append('../../')\n",
    "from src.io_f import read_data_file\n",
    "from src import compute_f\n",
    "from scipy.signal import butter, lfilter"
   ]
  },
  {
   "cell_type": "code",
   "execution_count": null,
   "metadata": {},
   "outputs": [],
   "source": [
    "import math\n",
    "\n",
    "order = 3\n",
    "fs = 50.0  # sample rate, Hz\n",
    "# fs = 100\n",
    "# cutoff = 3.667  # desired cutoff frequency of the filter, Hz\n",
    "cutoff = 3\n",
    "\n",
    "step_distance = 0.8\n",
    "w_height = 1.7\n",
    "m_trans = -5"
   ]
  },
  {
   "cell_type": "code",
   "execution_count": null,
   "metadata": {},
   "outputs": [],
   "source": [
    "def compute_rel_positions(acce_datas, ahrs_datas):\n",
    "    step_timestamps, step_indexs, step_acce_max_mins = compute_f.compute_steps(acce_datas)\n",
    "    headings = compute_f.compute_headings(ahrs_datas)\n",
    "    stride_lengths = compute_f.compute_stride_length(step_acce_max_mins)\n",
    "    step_headings = compute_f.compute_step_heading(step_timestamps, headings)\n",
    "    rel_positions = compute_f.compute_rel_positions(stride_lengths, step_headings)\n",
    "    return rel_positions\n",
    "\n",
    "\n",
    "def correct_path(args):\n",
    "    path, path_df = args\n",
    "    \n",
    "    T_ref  = path_df['timestamp'].values\n",
    "    xy_hat = path_df[['x', 'y']].values\n",
    "    example = read_data_file(root_dir/ f'indoor-location-navigation/test/{path}.txt')\n",
    "    \n",
    "    # rel_positions = compute_rel_positions(example.acce, example.ahrs)\n",
    "    # ↑を↓に置き換える\n",
    "    rel_positions1 = compute_rel_positions(example.acce, example.ahrs)\n",
    "    rel_positions2 = steps_compute_rel_positions(example)\n",
    "    rel1 = rel_positions1.copy()\n",
    "    rel2 = rel_positions2.copy()\n",
    "    rel1[:,1:] = rel_positions1[:,1:] / 2\n",
    "    rel2[:,1:] = rel_positions2[:,1:] / 2\n",
    "    rel_positions = np.vstack([rel1,rel2])\n",
    "    rel_positions = rel_positions[np.argsort(rel_positions[:, 0])]\n",
    "    \n",
    "    if T_ref[-1] > rel_positions[-1, 0]:\n",
    "        rel_positions = [np.array([[0, 0, 0]]), rel_positions, np.array([[T_ref[-1], 0, 0]])]\n",
    "    else:\n",
    "        rel_positions = [np.array([[0, 0, 0]]), rel_positions]\n",
    "    rel_positions = np.concatenate(rel_positions)\n",
    "    \n",
    "    T_rel = rel_positions[:, 0]\n",
    "    delta_xy_hat = np.diff(scipy.interpolate.interp1d(T_rel, np.cumsum(rel_positions[:, 1:3], axis=0), axis=0)(T_ref), axis=0)\n",
    "\n",
    "    N = xy_hat.shape[0]\n",
    "    delta_t = np.diff(T_ref)\n",
    "    alpha = (8.1)**(-2) * np.ones(N)\n",
    "    beta  = (0.3 + 0.3 * 1e-3 * delta_t)**(-2)\n",
    "    A = scipy.sparse.spdiags(alpha, [0], N, N)\n",
    "    B = scipy.sparse.spdiags( beta, [0], N-1, N-1)\n",
    "    D = scipy.sparse.spdiags(np.stack([-np.ones(N), np.ones(N)]), [0, 1], N-1, N)\n",
    "\n",
    "    Q = A + (D.T @ B @ D)\n",
    "    c = (A @ xy_hat) + (D.T @ (B @ delta_xy_hat))\n",
    "    xy_star = scipy.sparse.linalg.spsolve(Q, c)\n",
    "\n",
    "    return pd.DataFrame({\n",
    "        'site_path_timestamp' : path_df['site_path_timestamp'],\n",
    "        'floor' : path_df['floor'],\n",
    "        'x' : xy_star[:, 0],\n",
    "        'y' : xy_star[:, 1],\n",
    "    })\n",
    "\n",
    "\n",
    "\n",
    "def correct_path_train(args):\n",
    "    #print(args)\n",
    "    (site_id, path, floor), path_df = args\n",
    "    \n",
    "    T_ref  = path_df['timestamp'].values\n",
    "    xy_hat = path_df[['x', 'y']].values\n",
    "    \n",
    "    example = read_data_file(f'{root_dir}/indoor-location-navigation/train/{site_id}/{floor}/{path}.txt')\n",
    "    \n",
    "    # rel_positions = compute_rel_positions(example.acce, example.ahrs)\n",
    "    # ↑を↓に置き換える\n",
    "    rel_positions1 = compute_rel_positions(example.acce, example.ahrs)\n",
    "    rel_positions2 = steps_compute_rel_positions(example)\n",
    "    rel1 = rel_positions1.copy()\n",
    "    rel2 = rel_positions2.copy()\n",
    "    rel1[:,1:] = rel_positions1[:,1:] / 2\n",
    "    rel2[:,1:] = rel_positions2[:,1:] / 2\n",
    "    rel_positions = np.vstack([rel1,rel2])\n",
    "    rel_positions = rel_positions[np.argsort(rel_positions[:, 0])]\n",
    "    \n",
    "    \n",
    "    if T_ref[-1] > rel_positions[-1, 0]:\n",
    "        rel_positions = [np.array([[0, 0, 0]]), rel_positions, np.array([[T_ref[-1], 0, 0]])]\n",
    "    else:\n",
    "        rel_positions = [np.array([[0, 0, 0]]), rel_positions]\n",
    "    rel_positions = np.concatenate(rel_positions)\n",
    "    \n",
    "    T_rel = rel_positions[:, 0]\n",
    "\n",
    "    try:\n",
    "        delta_xy_hat = np.diff(scipy.interpolate.interp1d(T_rel, np.cumsum(rel_positions[:, 1:3], axis=0), axis=0)(T_ref), axis=0)\n",
    "    except:\n",
    "        return pd.DataFrame({\n",
    "            'site_path_timestamp' : path_df['site_path_timestamp'],\n",
    "            'floor' : path_df['floor'],\n",
    "            'x' : path_df['x'].to_numpy(),\n",
    "            'y' : path_df['y'].to_numpy()\n",
    "        })\n",
    "    \n",
    "\n",
    "    N = xy_hat.shape[0]\n",
    "    delta_t = np.diff(T_ref)\n",
    "    alpha = (8.1)**(-2) * np.ones(N)\n",
    "    beta  = (0.3 + 0.3 * 1e-3 * delta_t)**(-2)\n",
    "    A = scipy.sparse.spdiags(alpha, [0], N, N)\n",
    "    B = scipy.sparse.spdiags( beta, [0], N-1, N-1)\n",
    "    D = scipy.sparse.spdiags(np.stack([-np.ones(N), np.ones(N)]), [0, 1], N-1, N)\n",
    "\n",
    "    Q = A + (D.T @ B @ D)\n",
    "    c = (A @ xy_hat) + (D.T @ (B @ delta_xy_hat))\n",
    "    xy_star = scipy.sparse.linalg.spsolve(Q, c)\n",
    "\n",
    "\n",
    "    return pd.DataFrame({\n",
    "        'site_path_timestamp' : path_df['site_path_timestamp'],\n",
    "        'floor' : path_df['floor'],\n",
    "        'x' : xy_star[:, 0],\n",
    "        'y' : xy_star[:, 1],\n",
    "    })\n",
    "\n",
    "\n",
    "\n",
    "def butter_lowpass(cutoff, fs, order=5):\n",
    "    nyq = 0.5 * fs\n",
    "    normal_cutoff = cutoff / nyq\n",
    "    b, a = butter(order, normal_cutoff, btype='low', analog=False)\n",
    "    return b, a\n",
    "\n",
    "def butter_lowpass_filter(data, cutoff, fs, order=5):\n",
    "    b, a = butter_lowpass(cutoff, fs, order=order)\n",
    "    y = lfilter(b, a, data)\n",
    "    return y\n",
    "\n",
    "def peak_accel_threshold(data, timestamps, threshold):\n",
    "    d_acc = []\n",
    "    last_state = 'below'\n",
    "    crest_troughs = 0\n",
    "    crossings = []\n",
    "\n",
    "    for i, datum in enumerate(data):\n",
    "        \n",
    "        current_state = last_state\n",
    "        if datum < threshold:\n",
    "            current_state = 'below'\n",
    "        elif datum > threshold:\n",
    "            current_state = 'above'\n",
    "\n",
    "        if current_state is not last_state:\n",
    "            if current_state is 'above':\n",
    "                crossing = [timestamps[i], threshold]\n",
    "                crossings.append(crossing)\n",
    "            else:\n",
    "                crossing = [timestamps[i], threshold]\n",
    "                crossings.append(crossing)\n",
    "\n",
    "            crest_troughs += 1\n",
    "        last_state = current_state\n",
    "    return np.array(crossings)\n"
   ]
  },
  {
   "cell_type": "code",
   "execution_count": null,
   "metadata": {},
   "outputs": [],
   "source": [
    "def steps_compute_rel_positions(sample_file):\n",
    "    \n",
    "    mix_acce = np.sqrt(sample_file.acce[:,1:2]**2 + sample_file.acce[:,2:3]**2 + sample_file.acce[:,3:4]**2)\n",
    "    mix_acce = np.concatenate([sample_file.acce[:,0:1], mix_acce], 1)\n",
    "    mix_df = pd.DataFrame(mix_acce)\n",
    "    mix_df.columns = [\"timestamp\",\"acce\"]\n",
    "    \n",
    "    filtered = butter_lowpass_filter(mix_df[\"acce\"], cutoff, fs, order)\n",
    "\n",
    "    threshold = filtered.mean() * 1.1\n",
    "    crossings = peak_accel_threshold(filtered, mix_df[\"timestamp\"], threshold)\n",
    "\n",
    "    step_sum = len(crossings)/2\n",
    "    distance = w_height * 0.4 * step_sum\n",
    "\n",
    "    mag_df = pd.DataFrame(sample_file.magn)\n",
    "    mag_df.columns = [\"timestamp\",\"x\",\"y\",\"z\"]\n",
    "    \n",
    "    acce_df = pd.DataFrame(sample_file.acce)\n",
    "    acce_df.columns = [\"timestamp\",\"ax\",\"ay\",\"az\"]\n",
    "    \n",
    "    mag_df = pd.merge(mag_df,acce_df,on=\"timestamp\")\n",
    "    mag_df.dropna()\n",
    "    \n",
    "    time_di_list = []\n",
    "\n",
    "    for i in mag_df.iterrows():\n",
    "\n",
    "        gx,gy,gz = i[1][1],i[1][2],i[1][3]\n",
    "        ax,ay,az = i[1][4],i[1][5],i[1][6]\n",
    "\n",
    "        roll = math.atan2(ay,az)\n",
    "        pitch = math.atan2(-1*ax , (ay * math.sin(roll) + az * math.cos(roll)))\n",
    "\n",
    "        q = m_trans - math.degrees(math.atan2(\n",
    "            (gz*math.sin(roll)-gy*math.cos(roll)),(gx*math.cos(pitch) + gy*math.sin(roll)*math.sin(pitch) + gz*math.sin(pitch)*math.cos(roll))\n",
    "        )) -90\n",
    "        if q <= 0:\n",
    "            q += 360\n",
    "        time_di_list.append((i[1][0],q))\n",
    "\n",
    "    d_list = [x[1] for x in time_di_list]\n",
    "    \n",
    "    steps = []\n",
    "    step_time = []\n",
    "    di_dict = dict(time_di_list)\n",
    "\n",
    "    for n,i in enumerate(crossings[:,:1]):\n",
    "        if n % 2 == 1:\n",
    "            continue\n",
    "        direct_now = di_dict[i[0]]\n",
    "        dx = math.sin(math.radians(direct_now))\n",
    "        dy = math.cos(math.radians(direct_now))\n",
    "#         print(int(n/2+1),\"歩目/x:\",dx,\"/y:\",dy,\"/角度：\",direct_now)\n",
    "        steps.append((i[0],dx,dy))\n",
    "        step_time.append(i[0])\n",
    "    \n",
    "        step_dtime = np.diff(step_time)/1000\n",
    "        step_dtime = step_dtime.tolist()\n",
    "        step_dtime.insert(0,5)\n",
    "        \n",
    "        rel_position = []\n",
    "\n",
    "        wp_idx = 0\n",
    "#         print(\"WP:\",round(sample_file.waypoint[0,1],3),round(sample_file.waypoint[0,2],3),sample_file.waypoint[0,0])\n",
    "#         print(\"------------------\")\n",
    "        for p,i in enumerate(steps):\n",
    "            step_distance = 0\n",
    "            if step_dtime[p] >= 1:\n",
    "                step_distance = w_height*0.25\n",
    "            elif step_dtime[p] >= 0.75:\n",
    "                step_distance = w_height*0.3\n",
    "            elif step_dtime[p] >= 0.5:\n",
    "                step_distance = w_height*0.4\n",
    "            elif step_dtime[p] >= 0.35:\n",
    "                step_distance = w_height*0.45\n",
    "            elif step_dtime[p] >= 0.2:\n",
    "                step_distance = w_height*0.5\n",
    "            else:\n",
    "                step_distance = w_height*0.4\n",
    "\n",
    "#             step_x += i[1]*step_distance\n",
    "#             step_y += i[2]*step_distance\n",
    "            \n",
    "            rel_position.append([i[0], i[1]*step_distance, i[2]*step_distance])\n",
    "#     print(rel_position)\n",
    "    \n",
    "    return np.array(rel_position)"
   ]
  },
  {
   "cell_type": "code",
   "execution_count": null,
   "metadata": {},
   "outputs": [],
   "source": [
    "%%time\n",
    "\n",
    "oofs_df = oofs_df.rename(columns={'x':'target_x', 'y':'target_y', 'oof_x':'x', 'oof_y':'y'})\n",
    "processes = multiprocessing.cpu_count()\n",
    "with multiprocessing.Pool(processes=processes) as pool:\n",
    "    dfs = pool.imap_unordered(correct_path_train, oofs_df.groupby(['site_id_str', 'path', 'floor_str']))\n",
    "    dfs = tqdm(dfs)\n",
    "    dfs = list(dfs)\n",
    "\n",
    "oof_post_process = pd.concat(dfs).sort_index()\n",
    "oofs_df['oof_min_x'] = oof_post_process['x']\n",
    "oofs_df['oof_min_y'] = oof_post_process['y']\n",
    "\n",
    "# 元に戻す\n",
    "oofs_df = oofs_df.rename(columns={'x':'oof_x', 'y':'oof_y'})\n",
    "oofs_df"
   ]
  },
  {
   "cell_type": "code",
   "execution_count": null,
   "metadata": {},
   "outputs": [],
   "source": [
    "# waypoint補正前のx,yでの評価\n",
    "oof_score_post_process = mean_position_error(\n",
    "    oofs_df['oof_min_x'], oofs_df['oof_min_y'], 0, \n",
    "    oofs_df['target_x'], oofs_df['target_y'], 0\n",
    "    )\n",
    "wandb_config['CV_cost'] = oof_score_post_process\n",
    "print(f\"(after cost-min) CV:{oof_score_post_process}\")"
   ]
  },
  {
   "cell_type": "code",
   "execution_count": null,
   "metadata": {},
   "outputs": [],
   "source": [
    "# waypoint補正後のx,yでの評価\n",
    "oof_score_post_process = mean_position_error(\n",
    "    oofs_df['oof_min_x'], oofs_df['oof_min_y'], 0, \n",
    "    oofs_df['ix'], oofs_df['iy'], 0\n",
    "    )\n",
    "wandb_config['iCV_cost'] = oof_score_post_process\n",
    "print(f\"(after cost-min) CV:{oof_score_post_process}\")"
   ]
  },
  {
   "cell_type": "code",
   "execution_count": null,
   "metadata": {},
   "outputs": [],
   "source": [
    "sub = sub.reset_index()\n",
    "sub_org = sub.copy()\n",
    "tmp = sub['site_path_timestamp'].apply(lambda s : pd.Series(s.split('_')))\n",
    "sub['site'] = tmp[0]\n",
    "sub['path'] = tmp[1]\n",
    "sub['timestamp'] = tmp[2].astype(float)\n",
    "sub"
   ]
  },
  {
   "cell_type": "code",
   "execution_count": null,
   "metadata": {},
   "outputs": [],
   "source": [
    "processes = multiprocessing.cpu_count()\n",
    "with multiprocessing.Pool(processes=processes) as pool:\n",
    "    dfs = pool.imap_unordered(correct_path, sub.groupby(['path']))\n",
    "    dfs = tqdm(dfs)\n",
    "    dfs = list(dfs)\n",
    "new_sub = pd.concat(dfs).sort_values('site_path_timestamp')\n",
    "new_sub"
   ]
  },
  {
   "cell_type": "code",
   "execution_count": null,
   "metadata": {},
   "outputs": [],
   "source": [
    "new_sub.to_csv(RUN_NAME + '_cost_sub.csv', index=False)"
   ]
  },
  {
   "cell_type": "markdown",
   "metadata": {},
   "source": [
    "## snap to grid"
   ]
  },
  {
   "cell_type": "code",
   "execution_count": null,
   "metadata": {},
   "outputs": [],
   "source": [
    "from scipy.spatial.distance import cdist\n",
    "def sub_process(sub, train_waypoints):\n",
    "    train_waypoints['isTrainWaypoint'] = True\n",
    "    sub = split_col(sub[['site_path_timestamp','floor','x','y']]).copy()\n",
    "    sub = sub.merge(train_waypoints[['site','floorNo','floor']].drop_duplicates(), how='left')\n",
    "    sub = sub.merge(\n",
    "        train_waypoints[['x','y','site','floor','isTrainWaypoint']].drop_duplicates(),\n",
    "        how='left',\n",
    "        on=['site','x','y','floor']\n",
    "             )\n",
    "    sub['isTrainWaypoint'] = sub['isTrainWaypoint'].fillna(False)\n",
    "    return sub.copy()\n",
    "\n",
    "def split_col(df):\n",
    "    df = pd.concat([\n",
    "        df['site_path_timestamp'].str.split('_', expand=True) \\\n",
    "        .rename(columns={0:'site',\n",
    "                         1:'path',\n",
    "                         2:'timestamp'}),\n",
    "        df\n",
    "    ], axis=1).copy()\n",
    "    return df\n",
    "\n",
    "floor_map = {\"B2\":-2, \"B1\":-1, \"F1\":0, \"F2\": 1, \"F3\":2,\n",
    "             \"F4\":3, \"F5\":4, \"F6\":5, \"F7\":6,\"F8\":7,\"F9\":8,\n",
    "             \"1F\":0, \"2F\":1, \"3F\":2, \"4F\":3, \"5F\":4, \"6F\":5,\n",
    "             \"7F\":6, \"8F\": 7, \"9F\":8}\n",
    "\n",
    "def add_xy(df):\n",
    "    df['xy'] = [(x, y) for x,y in zip(df['x'], df['y'])]\n",
    "    return df\n",
    "\n",
    "def closest_point(point, points):\n",
    "    \"\"\" Find closest point from a list of points. \"\"\"\n",
    "    return points[cdist([point], points).argmin()]\n",
    "\n",
    "def snap_to_grid(sub, threshold):\n",
    "    \"\"\"\n",
    "    Snap to grid if within a threshold.\n",
    "    \n",
    "    x, y are the predicted points.\n",
    "    x_, y_ are the closest grid points.\n",
    "    _x_, _y_ are the new predictions after post processing.\n",
    "    \"\"\"\n",
    "    sub['_x_'] = sub['x']\n",
    "    sub['_y_'] = sub['y']\n",
    "    sub.loc[sub['dist'] < threshold, '_x_'] = sub.loc[sub['dist'] < threshold]['x_']\n",
    "    sub.loc[sub['dist'] < threshold, '_y_'] = sub.loc[sub['dist'] < threshold]['y_']\n",
    "    return sub.copy()\n"
   ]
  },
  {
   "cell_type": "code",
   "execution_count": null,
   "metadata": {},
   "outputs": [],
   "source": [
    "\n",
    "oofs_df"
   ]
  },
  {
   "cell_type": "code",
   "execution_count": null,
   "metadata": {},
   "outputs": [],
   "source": [
    "train_waypoints = pd.read_csv('../../input/indoor-location-train-waypoints/train_waypoints.csv')\n",
    "# 線形補完しているwaypointをtrain_waypoints（grid）とする。gridを増やすのが狙い。\n",
    "# train_waypoints = oofs_df[['oof_x', 'oof_y', 'timestamp', 'site_id_str', 'floor', 'floor_str', 'path']]\n",
    "# train_waypoints = train_waypoints.rename(columns={'oof_x':'x', 'oof_y':\"y\", 'site_id_str':\"site\", 'floor_str':'floorNo'})\n",
    "\n",
    "snap_df = oofs_df[['site_path_timestamp','floor','oof_min_x','oof_min_y']].copy()\n",
    "snap_df = snap_df.rename(columns={'oof_min_x':'x', 'oof_min_y':'y'})\n",
    "snap_df = sub_process(snap_df, train_waypoints)\n",
    "snap_df = add_xy(snap_df)\n",
    "train_waypoints = add_xy(train_waypoints)\n",
    "\n",
    "ds = []\n",
    "for (site, myfloor), d in tqdm(snap_df.groupby(['site','floor'])):\n",
    "    true_floor_locs = train_waypoints.loc[(train_waypoints['floor'] == myfloor) &\n",
    "                                          (train_waypoints['site'] == site)] \\\n",
    "        .reset_index(drop=True)\n",
    "    if len(true_floor_locs) == 0:\n",
    "        print(f'Skipping {site} {myfloor}')\n",
    "        continue\n",
    "    d['matched_point'] = [closest_point(x, list(true_floor_locs['xy'])) for x in d['xy']]\n",
    "    d['oof_min_snap_x'] = d['matched_point'].apply(lambda x: x[0])\n",
    "    d['oof_min_snap_y'] = d['matched_point'].apply(lambda x: x[1])\n",
    "    ds.append(d)\n",
    "\n",
    "# 上書き\n",
    "snap_df = pd.concat(ds).sort_index()\n",
    "snap_df"
   ]
  },
  {
   "cell_type": "code",
   "execution_count": null,
   "metadata": {},
   "outputs": [],
   "source": [
    "oofs_df['oof_min_snap_x'] = snap_df['oof_min_snap_x']\n",
    "oofs_df['oof_min_snap_y'] = snap_df['oof_min_snap_y']\n",
    "oofs_df"
   ]
  },
  {
   "cell_type": "code",
   "execution_count": null,
   "metadata": {},
   "outputs": [],
   "source": [
    "# waypoint補正前のx,yでの評価\n",
    "oof_score_post_process = mean_position_error(\n",
    "    oofs_df['oof_min_snap_x'], oofs_df['oof_min_snap_y'], 0, \n",
    "    oofs_df['target_x'], oofs_df['target_y'], 0\n",
    "    )\n",
    "wandb_config['CV_cost_snap'] = oof_score_post_process\n",
    "print(f\"(after cost-min + snap) CV:{oof_score_post_process}\")"
   ]
  },
  {
   "cell_type": "code",
   "execution_count": null,
   "metadata": {},
   "outputs": [],
   "source": [
    "# waypoint補正前のx,yでの評価\n",
    "oof_score_post_process = mean_position_error(\n",
    "    oofs_df['oof_min_snap_x'], oofs_df['oof_min_snap_y'], 0, \n",
    "    oofs_df['ix'], oofs_df['iy'], 0\n",
    "    )\n",
    "wandb_config['iCV_cost_snap'] = oof_score_post_process\n",
    "print(f\"(after cost-min + snap) CV:{oof_score_post_process}\")"
   ]
  },
  {
   "cell_type": "code",
   "execution_count": null,
   "metadata": {},
   "outputs": [],
   "source": [
    "# x_pred = oofs_df[\"oof_min_snap_x\"]\n",
    "# y_pred = oofs_df[\"oof_min_snap_y\"]\n",
    "# f_pred = oofs_df[\"floor\"]  # 正解を与える\n",
    "# x_true = oofs_df[\"wifi_x\"]\n",
    "# y_true = oofs_df[\"wifi_y\"]\n",
    "# f_true = oofs_df[\"floor\"]\n",
    "# site_arr = oofs_df[\"site_id_str\"]\n",
    "# df_result_site3 = calc_metrics_site(x_pred, y_pred, f_pred, x_true, y_true, f_true, site_arr)\n",
    "# df_result_site3.style.bar(subset=['n_sample', 'score'], color=['teal'])"
   ]
  },
  {
   "cell_type": "code",
   "execution_count": null,
   "metadata": {},
   "outputs": [],
   "source": [
    "# site_eval_report(df_result_site3)"
   ]
  },
  {
   "cell_type": "code",
   "execution_count": null,
   "metadata": {},
   "outputs": [],
   "source": [
    "# train_waypoints = pd.read_csv('../../input/indoor-location-train-waypoints/train_waypoints.csv')\n",
    "\n",
    "new_sub = sub_process(new_sub, train_waypoints)\n",
    "new_sub = add_xy(new_sub)\n",
    "train_waypoints = add_xy(train_waypoints)\n",
    "\n",
    "ds = []\n",
    "for (site, myfloor), d in new_sub.groupby(['site','floor']):\n",
    "    true_floor_locs = train_waypoints.loc[(train_waypoints['floor'] == myfloor) &\n",
    "                                          (train_waypoints['site'] == site)] \\\n",
    "        .reset_index(drop=True)\n",
    "    if len(true_floor_locs) == 0:\n",
    "        print(f'Skipping {site} {myfloor}')\n",
    "        continue\n",
    "    d['matched_point'] = [closest_point(x, list(true_floor_locs['xy'])) for x in d['xy']]\n",
    "    d['x_'] = d['matched_point'].apply(lambda x: x[0])\n",
    "    d['y_'] = d['matched_point'].apply(lambda x: x[1])\n",
    "    ds.append(d)\n",
    "\n",
    "new_sub2 = pd.concat(ds)"
   ]
  },
  {
   "cell_type": "code",
   "execution_count": null,
   "metadata": {},
   "outputs": [],
   "source": [
    "new_sub2 = new_sub2[['site_path_timestamp','floor','x_','y_']].sort_index()\n",
    "new_sub2 = new_sub2.rename(columns={'x_':'x', 'y_':'y'})\n",
    "new_sub2"
   ]
  },
  {
   "cell_type": "code",
   "execution_count": null,
   "metadata": {},
   "outputs": [],
   "source": [
    "new_sub2.to_csv(RUN_NAME + '_cost_snap_sub.csv', index=False)"
   ]
  },
  {
   "cell_type": "code",
   "execution_count": null,
   "metadata": {},
   "outputs": [],
   "source": [
    "# import matplotlib.pyplot as plt\n",
    "# df_result_site1['score'].plot(label='oof')\n",
    "# df_result_site2['score'].plot(label='cost')\n",
    "# df_result_site3['score'].plot(label='cost+snap')\n",
    "# plt.legend()\n",
    "# plt.grid()\n",
    "# plt.savefig('site_result.png')"
   ]
  },
  {
   "cell_type": "code",
   "execution_count": null,
   "metadata": {},
   "outputs": [],
   "source": [
    "wandb.finish()"
   ]
  },
  {
   "cell_type": "code",
   "execution_count": null,
   "metadata": {},
   "outputs": [],
   "source": []
  },
  {
   "cell_type": "code",
   "execution_count": null,
   "metadata": {},
   "outputs": [],
   "source": []
  },
  {
   "cell_type": "code",
   "execution_count": null,
   "metadata": {},
   "outputs": [],
   "source": []
  }
 ],
 "metadata": {
  "kernelspec": {
   "display_name": "Python 3",
   "language": "python",
   "name": "python3"
  },
  "language_info": {
   "codemirror_mode": {
    "name": "ipython",
    "version": 3
   },
   "file_extension": ".py",
   "mimetype": "text/x-python",
   "name": "python",
   "nbconvert_exporter": "python",
   "pygments_lexer": "ipython3",
   "version": "3.8.5"
  }
 },
 "nbformat": 4,
 "nbformat_minor": 4
}