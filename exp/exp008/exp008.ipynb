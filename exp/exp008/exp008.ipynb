{
 "cells": [
  {
   "cell_type": "code",
   "execution_count": 1,
   "metadata": {},
   "outputs": [],
   "source": [
    "import os\n",
    "import sys\n",
    "import glob\n",
    "import yaml\n",
    "import pickle\n",
    "import random\n",
    "\n",
    "import numpy as np\n",
    "import pandas as pd\n",
    "import scipy.stats as stats\n",
    "from pathlib import Path\n",
    "\n",
    "from sklearn import model_selection\n",
    "from sklearn.preprocessing import StandardScaler, LabelEncoder\n",
    "\n",
    "import wandb\n",
    "import torch\n",
    "from torch import nn\n",
    "import torch.nn.functional as F\n",
    "from torch.utils.data import Dataset, DataLoader\n",
    "import torch.optim as optim\n",
    "\n",
    "import pytorch_lightning as pl\n",
    "from pytorch_lightning.loggers import WandbLogger\n",
    "from pytorch_lightning.callbacks import ModelCheckpoint\n",
    "from pytorch_lightning.callbacks import EarlyStopping\n",
    "from pytorch_lightning.utilities.seed import seed_everything"
   ]
  },
  {
   "cell_type": "markdown",
   "metadata": {},
   "source": [
    "## config"
   ]
  },
  {
   "cell_type": "code",
   "execution_count": 2,
   "metadata": {},
   "outputs": [
    {
     "output_type": "stream",
     "name": "stderr",
     "text": [
      "Global seed set to 1996\n"
     ]
    },
    {
     "output_type": "execute_result",
     "data": {
      "text/plain": [
       "1996"
      ]
     },
     "metadata": {},
     "execution_count": 2
    }
   ],
   "source": [
    "# config\n",
    "with open('config.yaml') as f:\n",
    "    config = yaml.safe_load(f)\n",
    "\n",
    "# globals variable\n",
    "SEED = config['globals']['seed']\n",
    "MAX_EPOCHS = config['globals']['max_epochs']\n",
    "N_SPLITS = config['globals']['n_splits']\n",
    "USE_FOLDS = config['globals']['use_folds']\n",
    "DEBUG = config['globals']['debug']\n",
    "EXP_MESSAGE = config['globals']['exp_message']\n",
    "NOTES = config['globals']['notes']\n",
    "MODEL_SAVE = config['globals']['model_save']\n",
    "ONLY_PRED = config['globals']['only_pred']\n",
    "PRETRAINED = config['globals']['pretrained']\n",
    "PRETRAINED_PATH = config['globals']['pretrained_path']\n",
    "EXP_NAME = str(Path().resolve()).split('/')[-1]\n",
    "\n",
    "# seed\n",
    "seed_everything(SEED)"
   ]
  },
  {
   "cell_type": "code",
   "execution_count": 3,
   "metadata": {},
   "outputs": [
    {
     "output_type": "execute_result",
     "data": {
      "text/plain": [
       "'exp008'"
      ]
     },
     "metadata": {},
     "execution_count": 3
    }
   ],
   "source": [
    "EXP_NAME"
   ]
  },
  {
   "cell_type": "code",
   "execution_count": 4,
   "metadata": {},
   "outputs": [
    {
     "output_type": "stream",
     "name": "stdout",
     "text": [
      "\u001b[34m\u001b[1mwandb\u001b[0m: Appending key for api.wandb.ai to your netrc file: /home/kuzira/.netrc\n"
     ]
    }
   ],
   "source": [
    "!wandb login 1bb2d0449c11d8b987e25c38b9d8dda176310fb6"
   ]
  },
  {
   "cell_type": "markdown",
   "metadata": {},
   "source": [
    "## read data"
   ]
  },
  {
   "cell_type": "code",
   "execution_count": 5,
   "metadata": {},
   "outputs": [],
   "source": [
    "# waypointを補正したdataset\n",
    "root_dir = Path('../../input/')\n",
    "with open(root_dir/'kuto_wifi_dataset_v2/train_all.pkl', 'rb') as f:\n",
    "  train_df = pickle.load(f)\n",
    "\n",
    "with open(root_dir/'kuto_wifi_dataset_v2/test_all.pkl', 'rb') as f:\n",
    "  test_df = pickle.load(f)\n",
    "\n",
    "sub = pd.read_csv(root_dir/'indoor-location-navigation/sample_submission.csv', index_col=0)"
   ]
  },
  {
   "cell_type": "code",
   "execution_count": 6,
   "metadata": {},
   "outputs": [
    {
     "output_type": "execute_result",
     "data": {
      "text/plain": [
       "                                         bssid_0  \\\n",
       "0       ffe684dfd25a52b046e3108a3f70df46001425f0   \n",
       "1       97e4a381c3a02ed3151bbf41b8fc1fe5815f5387   \n",
       "2       97e4a381c3a02ed3151bbf41b8fc1fe5815f5387   \n",
       "3       97e4a381c3a02ed3151bbf41b8fc1fe5815f5387   \n",
       "4       97e4a381c3a02ed3151bbf41b8fc1fe5815f5387   \n",
       "...                                          ...   \n",
       "258120  993a56b32432fb19bfb4461a0e1a2ead9bcf192f   \n",
       "258121  773cde25cb4e9fd90b11603abd5bf84d83b340e6   \n",
       "258122  993a56b32432fb19bfb4461a0e1a2ead9bcf192f   \n",
       "258123  993a56b32432fb19bfb4461a0e1a2ead9bcf192f   \n",
       "258124  993a56b32432fb19bfb4461a0e1a2ead9bcf192f   \n",
       "\n",
       "                                         bssid_1  \\\n",
       "0       97e4a381c3a02ed3151bbf41b8fc1fe5815f5387   \n",
       "1       5b71ef95e53358c558b78bf3fb152d793729bc8d   \n",
       "2       6b769b9eeb24ff287e6a53736cc7c013d5902901   \n",
       "3       4328f33869766d0f77a9299441556338e4d8a2b9   \n",
       "4       4328f33869766d0f77a9299441556338e4d8a2b9   \n",
       "...                                          ...   \n",
       "258120  773cde25cb4e9fd90b11603abd5bf84d83b340e6   \n",
       "258121  993a56b32432fb19bfb4461a0e1a2ead9bcf192f   \n",
       "258122  773cde25cb4e9fd90b11603abd5bf84d83b340e6   \n",
       "258123  c7d8359344120911f8550487f282c241d93c4750   \n",
       "258124  c7d8359344120911f8550487f282c241d93c4750   \n",
       "\n",
       "                                         bssid_2  \\\n",
       "0       5b71ef95e53358c558b78bf3fb152d793729bc8d   \n",
       "1       cb8f53745c342e2bfd0bf77a5fd8cac6cf303945   \n",
       "2       cb8f53745c342e2bfd0bf77a5fd8cac6cf303945   \n",
       "3       3fef087dd272ab07981a60c9cbf6f27460d1364e   \n",
       "4       5a1a7a8496e5f8b88db082de0b412e447e01fd0b   \n",
       "...                                          ...   \n",
       "258120  19647ac7bb55a673554aa08cafb3b096aac7f32c   \n",
       "258121  19647ac7bb55a673554aa08cafb3b096aac7f32c   \n",
       "258122  c7d8359344120911f8550487f282c241d93c4750   \n",
       "258123  fc27c0656fc13157bb2f58543d51e8ee972fdf66   \n",
       "258124  773cde25cb4e9fd90b11603abd5bf84d83b340e6   \n",
       "\n",
       "                                         bssid_3  \\\n",
       "0       2f85d197aec7bfddfee3f53ae9e1b6ed1fc56e92   \n",
       "1       ffe684dfd25a52b046e3108a3f70df46001425f0   \n",
       "2       4328f33869766d0f77a9299441556338e4d8a2b9   \n",
       "3       5a1a7a8496e5f8b88db082de0b412e447e01fd0b   \n",
       "4       cb8f53745c342e2bfd0bf77a5fd8cac6cf303945   \n",
       "...                                          ...   \n",
       "258120  a4a410696cb935d542d62afd8e8090dbbc341a16   \n",
       "258121  fc27c0656fc13157bb2f58543d51e8ee972fdf66   \n",
       "258122  fc27c0656fc13157bb2f58543d51e8ee972fdf66   \n",
       "258123  773cde25cb4e9fd90b11603abd5bf84d83b340e6   \n",
       "258124  fc27c0656fc13157bb2f58543d51e8ee972fdf66   \n",
       "\n",
       "                                         bssid_4  \\\n",
       "0       4328f33869766d0f77a9299441556338e4d8a2b9   \n",
       "1       6b769b9eeb24ff287e6a53736cc7c013d5902901   \n",
       "2       3fef087dd272ab07981a60c9cbf6f27460d1364e   \n",
       "3       5d82171d37c5296bcaed8c02745540b491d8a284   \n",
       "4       6b769b9eeb24ff287e6a53736cc7c013d5902901   \n",
       "...                                          ...   \n",
       "258120  fc27c0656fc13157bb2f58543d51e8ee972fdf66   \n",
       "258121  a4a410696cb935d542d62afd8e8090dbbc341a16   \n",
       "258122  a4a410696cb935d542d62afd8e8090dbbc341a16   \n",
       "258123  a4a410696cb935d542d62afd8e8090dbbc341a16   \n",
       "258124  a4a410696cb935d542d62afd8e8090dbbc341a16   \n",
       "\n",
       "                                         bssid_5  \\\n",
       "0       df41c761b69993669d4eb875b4474ec44d2372ed   \n",
       "1       7dc49736770ee9073043134656c89a17529f882f   \n",
       "2       5a1a7a8496e5f8b88db082de0b412e447e01fd0b   \n",
       "3       471740ef5065943b791f277ada358f9ffc011645   \n",
       "4       5d82171d37c5296bcaed8c02745540b491d8a284   \n",
       "...                                          ...   \n",
       "258120  c7d8359344120911f8550487f282c241d93c4750   \n",
       "258121  827530050f580378b7aa53fb292dfb8a12b775e1   \n",
       "258122  827530050f580378b7aa53fb292dfb8a12b775e1   \n",
       "258123  064419dd1c862bc6c960b365fed666a1a5ff36a9   \n",
       "258124  827530050f580378b7aa53fb292dfb8a12b775e1   \n",
       "\n",
       "                                         bssid_6  \\\n",
       "0       7dc49736770ee9073043134656c89a17529f882f   \n",
       "1       3fef087dd272ab07981a60c9cbf6f27460d1364e   \n",
       "2       7dc49736770ee9073043134656c89a17529f882f   \n",
       "3       2f85d197aec7bfddfee3f53ae9e1b6ed1fc56e92   \n",
       "4       5b71ef95e53358c558b78bf3fb152d793729bc8d   \n",
       "...                                          ...   \n",
       "258120  26b22cce3b7694a7d765d9cf329b9065f3fb3a3c   \n",
       "258121  c7d8359344120911f8550487f282c241d93c4750   \n",
       "258122  d64eeb8d997e8d87203479556bbb9efaf7e487fd   \n",
       "258123  b08a1d79d6d4bb2ca71336f7e995c7aa1342aa1f   \n",
       "258124  19647ac7bb55a673554aa08cafb3b096aac7f32c   \n",
       "\n",
       "                                         bssid_7  \\\n",
       "0       5a1a7a8496e5f8b88db082de0b412e447e01fd0b   \n",
       "1       5a1a7a8496e5f8b88db082de0b412e447e01fd0b   \n",
       "2       df41c761b69993669d4eb875b4474ec44d2372ed   \n",
       "3       afe423c7bc0641d63c95e232ffd65cae3be95351   \n",
       "4       df41c761b69993669d4eb875b4474ec44d2372ed   \n",
       "...                                          ...   \n",
       "258120  827530050f580378b7aa53fb292dfb8a12b775e1   \n",
       "258121  d64eeb8d997e8d87203479556bbb9efaf7e487fd   \n",
       "258122  18874cb574f0cae84582df367941ad94d877ccbb   \n",
       "258123  3c43188acbcc9704dd3987cf1ef14906f9dbe444   \n",
       "258124  064419dd1c862bc6c960b365fed666a1a5ff36a9   \n",
       "\n",
       "                                         bssid_8  \\\n",
       "0       463d0cfe3748eb70524138ed970f03375e8d1030   \n",
       "1       df41c761b69993669d4eb875b4474ec44d2372ed   \n",
       "2       5b71ef95e53358c558b78bf3fb152d793729bc8d   \n",
       "3       df41c761b69993669d4eb875b4474ec44d2372ed   \n",
       "4       2f85d197aec7bfddfee3f53ae9e1b6ed1fc56e92   \n",
       "...                                          ...   \n",
       "258120  d64eeb8d997e8d87203479556bbb9efaf7e487fd   \n",
       "258121  b08a1d79d6d4bb2ca71336f7e995c7aa1342aa1f   \n",
       "258122  22a52f1717436ee378dc44b6d707a3816a65b5e4   \n",
       "258123  19647ac7bb55a673554aa08cafb3b096aac7f32c   \n",
       "258124  3c43188acbcc9704dd3987cf1ef14906f9dbe444   \n",
       "\n",
       "                                         bssid_9  ...      timestamp  \\\n",
       "0       79179095e63e2b0431e85e3e33b02d95bb135c2e  ...  1571625311855   \n",
       "1       d8b1ff62702e02106553be91dc22a0dcf0e780a7  ...  1571625311855   \n",
       "2       2f85d197aec7bfddfee3f53ae9e1b6ed1fc56e92  ...  1571625320099   \n",
       "3       5b71ef95e53358c558b78bf3fb152d793729bc8d  ...  1571625320099   \n",
       "4       afe423c7bc0641d63c95e232ffd65cae3be95351  ...  1571625320099   \n",
       "...                                          ...  ...            ...   \n",
       "258120  22a52f1717436ee378dc44b6d707a3816a65b5e4  ...  1573822164854   \n",
       "258121  26b22cce3b7694a7d765d9cf329b9065f3fb3a3c  ...  1573822164854   \n",
       "258122  3c43188acbcc9704dd3987cf1ef14906f9dbe444  ...  1573822173051   \n",
       "258123  cdc456af06dec9e63340fdf06b976b04eaa3a4a8  ...  1573822173051   \n",
       "258124  2ee4dca6f3705253eceaeecf2144083b14741d08  ...  1573822173051   \n",
       "\n",
       "                x          y floor floor_str                      path  \\\n",
       "0       68.064926  241.94000     0        F1  5dad1ca1dc3e2c0006606c3f   \n",
       "1       68.064926  241.94000     0        F1  5dad1ca1dc3e2c0006606c3f   \n",
       "2       62.480465  241.71216     0        F1  5dad1ca1dc3e2c0006606c3f   \n",
       "3       62.480465  241.71216     0        F1  5dad1ca1dc3e2c0006606c3f   \n",
       "4       62.480465  241.71216     0        F1  5dad1ca1dc3e2c0006606c3f   \n",
       "...           ...        ...   ...       ...                       ...   \n",
       "258120  12.662716  100.47756     1        F2  5dce9eea5516ad00065f04a7   \n",
       "258121  12.662716  100.47756     1        F2  5dce9eea5516ad00065f04a7   \n",
       "258122   7.799886  107.13921     1        F2  5dce9eea5516ad00065f04a7   \n",
       "258123   7.799886  107.13921     1        F2  5dce9eea5516ad00065f04a7   \n",
       "258124   7.799886  107.13921     1        F2  5dce9eea5516ad00065f04a7   \n",
       "\n",
       "       time_diff     wifi_x      wifi_y                   site_id  \n",
       "0           1952  66.823935  241.889369  5da958dd46f8266d0737457b  \n",
       "1           3900  65.582943  241.838738  5da958dd46f8266d0737457b  \n",
       "2          -2385  64.341952  241.788107  5da958dd46f8266d0737457b  \n",
       "3           -427  62.480465  241.712160  5da958dd46f8266d0737457b  \n",
       "4           1528  62.893219  240.715162  5da958dd46f8266d0737457b  \n",
       "...          ...        ...         ...                       ...  \n",
       "258120       447  12.662716  100.477560  5d27099f03f801723c32511d  \n",
       "258121      2393  11.041773  102.698110  5d27099f03f801723c32511d  \n",
       "258122     -3876   9.961144  104.178477  5d27099f03f801723c32511d  \n",
       "258123     -1946   8.880515  105.658843  5d27099f03f801723c32511d  \n",
       "258124       -17   7.799886  107.139210  5d27099f03f801723c32511d  \n",
       "\n",
       "[258125 rows x 210 columns]"
      ],
      "text/html": "<div>\n<style scoped>\n    .dataframe tbody tr th:only-of-type {\n        vertical-align: middle;\n    }\n\n    .dataframe tbody tr th {\n        vertical-align: top;\n    }\n\n    .dataframe thead th {\n        text-align: right;\n    }\n</style>\n<table border=\"1\" class=\"dataframe\">\n  <thead>\n    <tr style=\"text-align: right;\">\n      <th></th>\n      <th>bssid_0</th>\n      <th>bssid_1</th>\n      <th>bssid_2</th>\n      <th>bssid_3</th>\n      <th>bssid_4</th>\n      <th>bssid_5</th>\n      <th>bssid_6</th>\n      <th>bssid_7</th>\n      <th>bssid_8</th>\n      <th>bssid_9</th>\n      <th>...</th>\n      <th>timestamp</th>\n      <th>x</th>\n      <th>y</th>\n      <th>floor</th>\n      <th>floor_str</th>\n      <th>path</th>\n      <th>time_diff</th>\n      <th>wifi_x</th>\n      <th>wifi_y</th>\n      <th>site_id</th>\n    </tr>\n  </thead>\n  <tbody>\n    <tr>\n      <th>0</th>\n      <td>ffe684dfd25a52b046e3108a3f70df46001425f0</td>\n      <td>97e4a381c3a02ed3151bbf41b8fc1fe5815f5387</td>\n      <td>5b71ef95e53358c558b78bf3fb152d793729bc8d</td>\n      <td>2f85d197aec7bfddfee3f53ae9e1b6ed1fc56e92</td>\n      <td>4328f33869766d0f77a9299441556338e4d8a2b9</td>\n      <td>df41c761b69993669d4eb875b4474ec44d2372ed</td>\n      <td>7dc49736770ee9073043134656c89a17529f882f</td>\n      <td>5a1a7a8496e5f8b88db082de0b412e447e01fd0b</td>\n      <td>463d0cfe3748eb70524138ed970f03375e8d1030</td>\n      <td>79179095e63e2b0431e85e3e33b02d95bb135c2e</td>\n      <td>...</td>\n      <td>1571625311855</td>\n      <td>68.064926</td>\n      <td>241.94000</td>\n      <td>0</td>\n      <td>F1</td>\n      <td>5dad1ca1dc3e2c0006606c3f</td>\n      <td>1952</td>\n      <td>66.823935</td>\n      <td>241.889369</td>\n      <td>5da958dd46f8266d0737457b</td>\n    </tr>\n    <tr>\n      <th>1</th>\n      <td>97e4a381c3a02ed3151bbf41b8fc1fe5815f5387</td>\n      <td>5b71ef95e53358c558b78bf3fb152d793729bc8d</td>\n      <td>cb8f53745c342e2bfd0bf77a5fd8cac6cf303945</td>\n      <td>ffe684dfd25a52b046e3108a3f70df46001425f0</td>\n      <td>6b769b9eeb24ff287e6a53736cc7c013d5902901</td>\n      <td>7dc49736770ee9073043134656c89a17529f882f</td>\n      <td>3fef087dd272ab07981a60c9cbf6f27460d1364e</td>\n      <td>5a1a7a8496e5f8b88db082de0b412e447e01fd0b</td>\n      <td>df41c761b69993669d4eb875b4474ec44d2372ed</td>\n      <td>d8b1ff62702e02106553be91dc22a0dcf0e780a7</td>\n      <td>...</td>\n      <td>1571625311855</td>\n      <td>68.064926</td>\n      <td>241.94000</td>\n      <td>0</td>\n      <td>F1</td>\n      <td>5dad1ca1dc3e2c0006606c3f</td>\n      <td>3900</td>\n      <td>65.582943</td>\n      <td>241.838738</td>\n      <td>5da958dd46f8266d0737457b</td>\n    </tr>\n    <tr>\n      <th>2</th>\n      <td>97e4a381c3a02ed3151bbf41b8fc1fe5815f5387</td>\n      <td>6b769b9eeb24ff287e6a53736cc7c013d5902901</td>\n      <td>cb8f53745c342e2bfd0bf77a5fd8cac6cf303945</td>\n      <td>4328f33869766d0f77a9299441556338e4d8a2b9</td>\n      <td>3fef087dd272ab07981a60c9cbf6f27460d1364e</td>\n      <td>5a1a7a8496e5f8b88db082de0b412e447e01fd0b</td>\n      <td>7dc49736770ee9073043134656c89a17529f882f</td>\n      <td>df41c761b69993669d4eb875b4474ec44d2372ed</td>\n      <td>5b71ef95e53358c558b78bf3fb152d793729bc8d</td>\n      <td>2f85d197aec7bfddfee3f53ae9e1b6ed1fc56e92</td>\n      <td>...</td>\n      <td>1571625320099</td>\n      <td>62.480465</td>\n      <td>241.71216</td>\n      <td>0</td>\n      <td>F1</td>\n      <td>5dad1ca1dc3e2c0006606c3f</td>\n      <td>-2385</td>\n      <td>64.341952</td>\n      <td>241.788107</td>\n      <td>5da958dd46f8266d0737457b</td>\n    </tr>\n    <tr>\n      <th>3</th>\n      <td>97e4a381c3a02ed3151bbf41b8fc1fe5815f5387</td>\n      <td>4328f33869766d0f77a9299441556338e4d8a2b9</td>\n      <td>3fef087dd272ab07981a60c9cbf6f27460d1364e</td>\n      <td>5a1a7a8496e5f8b88db082de0b412e447e01fd0b</td>\n      <td>5d82171d37c5296bcaed8c02745540b491d8a284</td>\n      <td>471740ef5065943b791f277ada358f9ffc011645</td>\n      <td>2f85d197aec7bfddfee3f53ae9e1b6ed1fc56e92</td>\n      <td>afe423c7bc0641d63c95e232ffd65cae3be95351</td>\n      <td>df41c761b69993669d4eb875b4474ec44d2372ed</td>\n      <td>5b71ef95e53358c558b78bf3fb152d793729bc8d</td>\n      <td>...</td>\n      <td>1571625320099</td>\n      <td>62.480465</td>\n      <td>241.71216</td>\n      <td>0</td>\n      <td>F1</td>\n      <td>5dad1ca1dc3e2c0006606c3f</td>\n      <td>-427</td>\n      <td>62.480465</td>\n      <td>241.712160</td>\n      <td>5da958dd46f8266d0737457b</td>\n    </tr>\n    <tr>\n      <th>4</th>\n      <td>97e4a381c3a02ed3151bbf41b8fc1fe5815f5387</td>\n      <td>4328f33869766d0f77a9299441556338e4d8a2b9</td>\n      <td>5a1a7a8496e5f8b88db082de0b412e447e01fd0b</td>\n      <td>cb8f53745c342e2bfd0bf77a5fd8cac6cf303945</td>\n      <td>6b769b9eeb24ff287e6a53736cc7c013d5902901</td>\n      <td>5d82171d37c5296bcaed8c02745540b491d8a284</td>\n      <td>5b71ef95e53358c558b78bf3fb152d793729bc8d</td>\n      <td>df41c761b69993669d4eb875b4474ec44d2372ed</td>\n      <td>2f85d197aec7bfddfee3f53ae9e1b6ed1fc56e92</td>\n      <td>afe423c7bc0641d63c95e232ffd65cae3be95351</td>\n      <td>...</td>\n      <td>1571625320099</td>\n      <td>62.480465</td>\n      <td>241.71216</td>\n      <td>0</td>\n      <td>F1</td>\n      <td>5dad1ca1dc3e2c0006606c3f</td>\n      <td>1528</td>\n      <td>62.893219</td>\n      <td>240.715162</td>\n      <td>5da958dd46f8266d0737457b</td>\n    </tr>\n    <tr>\n      <th>...</th>\n      <td>...</td>\n      <td>...</td>\n      <td>...</td>\n      <td>...</td>\n      <td>...</td>\n      <td>...</td>\n      <td>...</td>\n      <td>...</td>\n      <td>...</td>\n      <td>...</td>\n      <td>...</td>\n      <td>...</td>\n      <td>...</td>\n      <td>...</td>\n      <td>...</td>\n      <td>...</td>\n      <td>...</td>\n      <td>...</td>\n      <td>...</td>\n      <td>...</td>\n      <td>...</td>\n    </tr>\n    <tr>\n      <th>258120</th>\n      <td>993a56b32432fb19bfb4461a0e1a2ead9bcf192f</td>\n      <td>773cde25cb4e9fd90b11603abd5bf84d83b340e6</td>\n      <td>19647ac7bb55a673554aa08cafb3b096aac7f32c</td>\n      <td>a4a410696cb935d542d62afd8e8090dbbc341a16</td>\n      <td>fc27c0656fc13157bb2f58543d51e8ee972fdf66</td>\n      <td>c7d8359344120911f8550487f282c241d93c4750</td>\n      <td>26b22cce3b7694a7d765d9cf329b9065f3fb3a3c</td>\n      <td>827530050f580378b7aa53fb292dfb8a12b775e1</td>\n      <td>d64eeb8d997e8d87203479556bbb9efaf7e487fd</td>\n      <td>22a52f1717436ee378dc44b6d707a3816a65b5e4</td>\n      <td>...</td>\n      <td>1573822164854</td>\n      <td>12.662716</td>\n      <td>100.47756</td>\n      <td>1</td>\n      <td>F2</td>\n      <td>5dce9eea5516ad00065f04a7</td>\n      <td>447</td>\n      <td>12.662716</td>\n      <td>100.477560</td>\n      <td>5d27099f03f801723c32511d</td>\n    </tr>\n    <tr>\n      <th>258121</th>\n      <td>773cde25cb4e9fd90b11603abd5bf84d83b340e6</td>\n      <td>993a56b32432fb19bfb4461a0e1a2ead9bcf192f</td>\n      <td>19647ac7bb55a673554aa08cafb3b096aac7f32c</td>\n      <td>fc27c0656fc13157bb2f58543d51e8ee972fdf66</td>\n      <td>a4a410696cb935d542d62afd8e8090dbbc341a16</td>\n      <td>827530050f580378b7aa53fb292dfb8a12b775e1</td>\n      <td>c7d8359344120911f8550487f282c241d93c4750</td>\n      <td>d64eeb8d997e8d87203479556bbb9efaf7e487fd</td>\n      <td>b08a1d79d6d4bb2ca71336f7e995c7aa1342aa1f</td>\n      <td>26b22cce3b7694a7d765d9cf329b9065f3fb3a3c</td>\n      <td>...</td>\n      <td>1573822164854</td>\n      <td>12.662716</td>\n      <td>100.47756</td>\n      <td>1</td>\n      <td>F2</td>\n      <td>5dce9eea5516ad00065f04a7</td>\n      <td>2393</td>\n      <td>11.041773</td>\n      <td>102.698110</td>\n      <td>5d27099f03f801723c32511d</td>\n    </tr>\n    <tr>\n      <th>258122</th>\n      <td>993a56b32432fb19bfb4461a0e1a2ead9bcf192f</td>\n      <td>773cde25cb4e9fd90b11603abd5bf84d83b340e6</td>\n      <td>c7d8359344120911f8550487f282c241d93c4750</td>\n      <td>fc27c0656fc13157bb2f58543d51e8ee972fdf66</td>\n      <td>a4a410696cb935d542d62afd8e8090dbbc341a16</td>\n      <td>827530050f580378b7aa53fb292dfb8a12b775e1</td>\n      <td>d64eeb8d997e8d87203479556bbb9efaf7e487fd</td>\n      <td>18874cb574f0cae84582df367941ad94d877ccbb</td>\n      <td>22a52f1717436ee378dc44b6d707a3816a65b5e4</td>\n      <td>3c43188acbcc9704dd3987cf1ef14906f9dbe444</td>\n      <td>...</td>\n      <td>1573822173051</td>\n      <td>7.799886</td>\n      <td>107.13921</td>\n      <td>1</td>\n      <td>F2</td>\n      <td>5dce9eea5516ad00065f04a7</td>\n      <td>-3876</td>\n      <td>9.961144</td>\n      <td>104.178477</td>\n      <td>5d27099f03f801723c32511d</td>\n    </tr>\n    <tr>\n      <th>258123</th>\n      <td>993a56b32432fb19bfb4461a0e1a2ead9bcf192f</td>\n      <td>c7d8359344120911f8550487f282c241d93c4750</td>\n      <td>fc27c0656fc13157bb2f58543d51e8ee972fdf66</td>\n      <td>773cde25cb4e9fd90b11603abd5bf84d83b340e6</td>\n      <td>a4a410696cb935d542d62afd8e8090dbbc341a16</td>\n      <td>064419dd1c862bc6c960b365fed666a1a5ff36a9</td>\n      <td>b08a1d79d6d4bb2ca71336f7e995c7aa1342aa1f</td>\n      <td>3c43188acbcc9704dd3987cf1ef14906f9dbe444</td>\n      <td>19647ac7bb55a673554aa08cafb3b096aac7f32c</td>\n      <td>cdc456af06dec9e63340fdf06b976b04eaa3a4a8</td>\n      <td>...</td>\n      <td>1573822173051</td>\n      <td>7.799886</td>\n      <td>107.13921</td>\n      <td>1</td>\n      <td>F2</td>\n      <td>5dce9eea5516ad00065f04a7</td>\n      <td>-1946</td>\n      <td>8.880515</td>\n      <td>105.658843</td>\n      <td>5d27099f03f801723c32511d</td>\n    </tr>\n    <tr>\n      <th>258124</th>\n      <td>993a56b32432fb19bfb4461a0e1a2ead9bcf192f</td>\n      <td>c7d8359344120911f8550487f282c241d93c4750</td>\n      <td>773cde25cb4e9fd90b11603abd5bf84d83b340e6</td>\n      <td>fc27c0656fc13157bb2f58543d51e8ee972fdf66</td>\n      <td>a4a410696cb935d542d62afd8e8090dbbc341a16</td>\n      <td>827530050f580378b7aa53fb292dfb8a12b775e1</td>\n      <td>19647ac7bb55a673554aa08cafb3b096aac7f32c</td>\n      <td>064419dd1c862bc6c960b365fed666a1a5ff36a9</td>\n      <td>3c43188acbcc9704dd3987cf1ef14906f9dbe444</td>\n      <td>2ee4dca6f3705253eceaeecf2144083b14741d08</td>\n      <td>...</td>\n      <td>1573822173051</td>\n      <td>7.799886</td>\n      <td>107.13921</td>\n      <td>1</td>\n      <td>F2</td>\n      <td>5dce9eea5516ad00065f04a7</td>\n      <td>-17</td>\n      <td>7.799886</td>\n      <td>107.139210</td>\n      <td>5d27099f03f801723c32511d</td>\n    </tr>\n  </tbody>\n</table>\n<p>258125 rows × 210 columns</p>\n</div>"
     },
     "metadata": {},
     "execution_count": 6
    }
   ],
   "source": [
    "train_df"
   ]
  },
  {
   "cell_type": "code",
   "execution_count": 7,
   "metadata": {},
   "outputs": [
    {
     "output_type": "execute_result",
     "data": {
      "text/plain": [
       "(25336, 231094)"
      ]
     },
     "metadata": {},
     "execution_count": 7
    }
   ],
   "source": [
    "train_df['x'].nunique(), train_df['wifi_x'].nunique()"
   ]
  },
  {
   "source": [
    "## time_diffの前処理\n",
    "0~3000sのものはwifi_x,wifi_yを使用  \n",
    "-1000s~0sのものはもともとのx.yを使用"
   ],
   "cell_type": "markdown",
   "metadata": {}
  },
  {
   "cell_type": "code",
   "execution_count": 8,
   "metadata": {},
   "outputs": [],
   "source": [
    "# POSI_DIFF = 4000  # i番目のwaypointを基準に算出したwifi waypointのうち基準のtimestampの直近3sを信頼できるデータとして残す\n",
    "# NEGA_DIFF = -100000  # i番目のwaypointを基準に算出したwifi waypointのうちi+1番目のwaypointに近いものにはi+1のwaypointを座標として与える\n",
    "\n",
    "# train_df.loc[(NEGA_DIFF < train_df['time_diff']) & (train_df['time_diff'] <= 0), 'wifi_x'] = train_df.loc[(NEGA_DIFF< train_df['time_diff']) & (train_df['time_diff'] <= 0), 'x']\n",
    "# train_df.loc[(NEGA_DIFF < train_df['time_diff']) & (train_df['time_diff'] <= 0), 'wifi_y'] = train_df.loc[(NEGA_DIFF < train_df['time_diff']) & (train_df['time_diff'] <= 0), 'y']\n",
    "# train_df = train_df[(NEGA_DIFF < train_df['time_diff']) & (train_df['time_diff'] < POSI_DIFF)].reset_index(drop=True)\n",
    "# train_df"
   ]
  },
  {
   "cell_type": "markdown",
   "metadata": {},
   "source": [
    "BSSIDとRSSIは100ずつ存在しているけど全てが必要なわけではないみたい  \n",
    "ここでは20だけ取り出している。"
   ]
  },
  {
   "cell_type": "code",
   "execution_count": 9,
   "metadata": {},
   "outputs": [],
   "source": [
    "# training target features\n",
    "NUM_FEATS = 80\n",
    "BSSID_FEATS = [f'bssid_{i}' for i in range(NUM_FEATS)]\n",
    "RSSI_FEATS  = [f'rssi_{i}' for i in range(NUM_FEATS)]"
   ]
  },
  {
   "cell_type": "markdown",
   "metadata": {},
   "source": [
    "bssid_NはN個目のBSSIDを示しておりRSSI値が大きい順に番号が振られている。\n",
    "100個しかない\n"
   ]
  },
  {
   "cell_type": "code",
   "execution_count": 10,
   "metadata": {},
   "outputs": [
    {
     "output_type": "stream",
     "name": "stdout",
     "text": [
      "BSSID TYPES(train): 41286\nBSSID TYPES(test): 28592\nBSSID TYPES(all): 41300\n"
     ]
    }
   ],
   "source": [
    "# get numbers of bssids to embed them in a layer\n",
    "\n",
    "# train\n",
    "wifi_bssids = []\n",
    "# bssidを列ごとにリストに入れていく\n",
    "for i in range(100):\n",
    "    wifi_bssids.extend(train_df.iloc[:,i].values.tolist())\n",
    "wifi_bssids = list(set(wifi_bssids))\n",
    "\n",
    "train_wifi_bssids_size = len(wifi_bssids)\n",
    "print(f'BSSID TYPES(train): {train_wifi_bssids_size}')\n",
    "\n",
    "# test\n",
    "wifi_bssids_test = []\n",
    "for i in range(100):\n",
    "    wifi_bssids_test.extend(test_df.iloc[:,i].values.tolist())\n",
    "wifi_bssids_test = list(set(wifi_bssids_test))\n",
    "\n",
    "test_wifi_bssids_size = len(wifi_bssids_test)\n",
    "print(f'BSSID TYPES(test): {test_wifi_bssids_size}')\n",
    "\n",
    "\n",
    "wifi_bssids.extend(wifi_bssids_test)\n",
    "wifi_bssids = list(set(wifi_bssids))\n",
    "wifi_bssids_size = len(wifi_bssids)\n",
    "print(f'BSSID TYPES(all): {wifi_bssids_size}')\n"
   ]
  },
  {
   "cell_type": "markdown",
   "metadata": {},
   "source": [
    "## preprocessing"
   ]
  },
  {
   "cell_type": "code",
   "execution_count": 11,
   "metadata": {},
   "outputs": [],
   "source": [
    "# preprocess\n",
    "\n",
    "le = LabelEncoder()\n",
    "le.fit(wifi_bssids)\n",
    "le_site = LabelEncoder()\n",
    "le_site.fit(train_df['site_id'])\n",
    "\n",
    "ss = StandardScaler()\n",
    "ss.fit(train_df.loc[:,RSSI_FEATS])\n",
    "\n",
    "\n",
    "def preprocess(input_df, le=le, le_site=le_site, ss=ss):\n",
    "    output_df = input_df.copy()\n",
    "    # RSSIの正規化\n",
    "    output_df.loc[:,RSSI_FEATS] = ss.transform(input_df.loc[:,RSSI_FEATS])\n",
    "\n",
    "    # BSSIDのLE(1からふる)\n",
    "    for i in BSSID_FEATS:\n",
    "        output_df.loc[:,i] = le.transform(input_df.loc[:,i])\n",
    "        output_df.loc[:,i] = output_df.loc[:,i] + 1  # 0からではなく1から番号を振りたいため なぜ？ embeddingのpadding用のダミー変数？\n",
    "\n",
    "    # site_idのLE\n",
    "    output_df['site_id_str'] = input_df['site_id'].copy()\n",
    "    output_df.loc[:, 'site_id'] = le_site.transform(input_df.loc[:, 'site_id'])\n",
    "\n",
    "    # なぜ２重でやる？\n",
    "    # output_df.loc[:,RSSI_FEATS] = ss.transform(output_df.loc[:,RSSI_FEATS])\n",
    "    return output_df\n",
    "\n",
    "train = preprocess(train_df)\n",
    "test = preprocess(test_df)\n",
    "\n",
    "    "
   ]
  },
  {
   "cell_type": "code",
   "execution_count": 12,
   "metadata": {},
   "outputs": [
    {
     "output_type": "execute_result",
     "data": {
      "text/plain": [
       "24"
      ]
     },
     "metadata": {},
     "execution_count": 12
    }
   ],
   "source": [
    "site_count = len(train['site_id'].unique())\n",
    "site_count"
   ]
  },
  {
   "cell_type": "code",
   "execution_count": 13,
   "metadata": {},
   "outputs": [
    {
     "output_type": "execute_result",
     "data": {
      "text/plain": [
       "        rssi_96  rssi_97  rssi_98  rssi_99      timestamp          x  \\\n",
       "0           -84      -84      -85      -85  1571625311855  68.064926   \n",
       "1           -84      -84      -85      -85  1571625311855  68.064926   \n",
       "2           -83      -83      -83      -83  1571625320099  62.480465   \n",
       "3           -83      -83      -83      -83  1571625320099  62.480465   \n",
       "4           -83      -83      -83      -83  1571625320099  62.480465   \n",
       "...         ...      ...      ...      ...            ...        ...   \n",
       "258120      -79      -80      -80      -80  1573822164854  12.662716   \n",
       "258121      -80      -80      -81      -81  1573822164854  12.662716   \n",
       "258122      -80      -80      -80      -80  1573822173051   7.799886   \n",
       "258123      -81      -81      -81      -81  1573822173051   7.799886   \n",
       "258124      -81      -81      -81      -81  1573822173051   7.799886   \n",
       "\n",
       "                y  floor floor_str                      path  time_diff  \\\n",
       "0       241.94000      0        F1  5dad1ca1dc3e2c0006606c3f       1952   \n",
       "1       241.94000      0        F1  5dad1ca1dc3e2c0006606c3f       3900   \n",
       "2       241.71216      0        F1  5dad1ca1dc3e2c0006606c3f      -2385   \n",
       "3       241.71216      0        F1  5dad1ca1dc3e2c0006606c3f       -427   \n",
       "4       241.71216      0        F1  5dad1ca1dc3e2c0006606c3f       1528   \n",
       "...           ...    ...       ...                       ...        ...   \n",
       "258120  100.47756      1        F2  5dce9eea5516ad00065f04a7        447   \n",
       "258121  100.47756      1        F2  5dce9eea5516ad00065f04a7       2393   \n",
       "258122  107.13921      1        F2  5dce9eea5516ad00065f04a7      -3876   \n",
       "258123  107.13921      1        F2  5dce9eea5516ad00065f04a7      -1946   \n",
       "258124  107.13921      1        F2  5dce9eea5516ad00065f04a7        -17   \n",
       "\n",
       "           wifi_x      wifi_y  site_id               site_id_str  \n",
       "0       66.823935  241.889369       21  5da958dd46f8266d0737457b  \n",
       "1       65.582943  241.838738       21  5da958dd46f8266d0737457b  \n",
       "2       64.341952  241.788107       21  5da958dd46f8266d0737457b  \n",
       "3       62.480465  241.712160       21  5da958dd46f8266d0737457b  \n",
       "4       62.893219  240.715162       21  5da958dd46f8266d0737457b  \n",
       "...           ...         ...      ...                       ...  \n",
       "258120  12.662716  100.477560        5  5d27099f03f801723c32511d  \n",
       "258121  11.041773  102.698110        5  5d27099f03f801723c32511d  \n",
       "258122   9.961144  104.178477        5  5d27099f03f801723c32511d  \n",
       "258123   8.880515  105.658843        5  5d27099f03f801723c32511d  \n",
       "258124   7.799886  107.139210        5  5d27099f03f801723c32511d  \n",
       "\n",
       "[258125 rows x 15 columns]"
      ],
      "text/html": "<div>\n<style scoped>\n    .dataframe tbody tr th:only-of-type {\n        vertical-align: middle;\n    }\n\n    .dataframe tbody tr th {\n        vertical-align: top;\n    }\n\n    .dataframe thead th {\n        text-align: right;\n    }\n</style>\n<table border=\"1\" class=\"dataframe\">\n  <thead>\n    <tr style=\"text-align: right;\">\n      <th></th>\n      <th>rssi_96</th>\n      <th>rssi_97</th>\n      <th>rssi_98</th>\n      <th>rssi_99</th>\n      <th>timestamp</th>\n      <th>x</th>\n      <th>y</th>\n      <th>floor</th>\n      <th>floor_str</th>\n      <th>path</th>\n      <th>time_diff</th>\n      <th>wifi_x</th>\n      <th>wifi_y</th>\n      <th>site_id</th>\n      <th>site_id_str</th>\n    </tr>\n  </thead>\n  <tbody>\n    <tr>\n      <th>0</th>\n      <td>-84</td>\n      <td>-84</td>\n      <td>-85</td>\n      <td>-85</td>\n      <td>1571625311855</td>\n      <td>68.064926</td>\n      <td>241.94000</td>\n      <td>0</td>\n      <td>F1</td>\n      <td>5dad1ca1dc3e2c0006606c3f</td>\n      <td>1952</td>\n      <td>66.823935</td>\n      <td>241.889369</td>\n      <td>21</td>\n      <td>5da958dd46f8266d0737457b</td>\n    </tr>\n    <tr>\n      <th>1</th>\n      <td>-84</td>\n      <td>-84</td>\n      <td>-85</td>\n      <td>-85</td>\n      <td>1571625311855</td>\n      <td>68.064926</td>\n      <td>241.94000</td>\n      <td>0</td>\n      <td>F1</td>\n      <td>5dad1ca1dc3e2c0006606c3f</td>\n      <td>3900</td>\n      <td>65.582943</td>\n      <td>241.838738</td>\n      <td>21</td>\n      <td>5da958dd46f8266d0737457b</td>\n    </tr>\n    <tr>\n      <th>2</th>\n      <td>-83</td>\n      <td>-83</td>\n      <td>-83</td>\n      <td>-83</td>\n      <td>1571625320099</td>\n      <td>62.480465</td>\n      <td>241.71216</td>\n      <td>0</td>\n      <td>F1</td>\n      <td>5dad1ca1dc3e2c0006606c3f</td>\n      <td>-2385</td>\n      <td>64.341952</td>\n      <td>241.788107</td>\n      <td>21</td>\n      <td>5da958dd46f8266d0737457b</td>\n    </tr>\n    <tr>\n      <th>3</th>\n      <td>-83</td>\n      <td>-83</td>\n      <td>-83</td>\n      <td>-83</td>\n      <td>1571625320099</td>\n      <td>62.480465</td>\n      <td>241.71216</td>\n      <td>0</td>\n      <td>F1</td>\n      <td>5dad1ca1dc3e2c0006606c3f</td>\n      <td>-427</td>\n      <td>62.480465</td>\n      <td>241.712160</td>\n      <td>21</td>\n      <td>5da958dd46f8266d0737457b</td>\n    </tr>\n    <tr>\n      <th>4</th>\n      <td>-83</td>\n      <td>-83</td>\n      <td>-83</td>\n      <td>-83</td>\n      <td>1571625320099</td>\n      <td>62.480465</td>\n      <td>241.71216</td>\n      <td>0</td>\n      <td>F1</td>\n      <td>5dad1ca1dc3e2c0006606c3f</td>\n      <td>1528</td>\n      <td>62.893219</td>\n      <td>240.715162</td>\n      <td>21</td>\n      <td>5da958dd46f8266d0737457b</td>\n    </tr>\n    <tr>\n      <th>...</th>\n      <td>...</td>\n      <td>...</td>\n      <td>...</td>\n      <td>...</td>\n      <td>...</td>\n      <td>...</td>\n      <td>...</td>\n      <td>...</td>\n      <td>...</td>\n      <td>...</td>\n      <td>...</td>\n      <td>...</td>\n      <td>...</td>\n      <td>...</td>\n      <td>...</td>\n    </tr>\n    <tr>\n      <th>258120</th>\n      <td>-79</td>\n      <td>-80</td>\n      <td>-80</td>\n      <td>-80</td>\n      <td>1573822164854</td>\n      <td>12.662716</td>\n      <td>100.47756</td>\n      <td>1</td>\n      <td>F2</td>\n      <td>5dce9eea5516ad00065f04a7</td>\n      <td>447</td>\n      <td>12.662716</td>\n      <td>100.477560</td>\n      <td>5</td>\n      <td>5d27099f03f801723c32511d</td>\n    </tr>\n    <tr>\n      <th>258121</th>\n      <td>-80</td>\n      <td>-80</td>\n      <td>-81</td>\n      <td>-81</td>\n      <td>1573822164854</td>\n      <td>12.662716</td>\n      <td>100.47756</td>\n      <td>1</td>\n      <td>F2</td>\n      <td>5dce9eea5516ad00065f04a7</td>\n      <td>2393</td>\n      <td>11.041773</td>\n      <td>102.698110</td>\n      <td>5</td>\n      <td>5d27099f03f801723c32511d</td>\n    </tr>\n    <tr>\n      <th>258122</th>\n      <td>-80</td>\n      <td>-80</td>\n      <td>-80</td>\n      <td>-80</td>\n      <td>1573822173051</td>\n      <td>7.799886</td>\n      <td>107.13921</td>\n      <td>1</td>\n      <td>F2</td>\n      <td>5dce9eea5516ad00065f04a7</td>\n      <td>-3876</td>\n      <td>9.961144</td>\n      <td>104.178477</td>\n      <td>5</td>\n      <td>5d27099f03f801723c32511d</td>\n    </tr>\n    <tr>\n      <th>258123</th>\n      <td>-81</td>\n      <td>-81</td>\n      <td>-81</td>\n      <td>-81</td>\n      <td>1573822173051</td>\n      <td>7.799886</td>\n      <td>107.13921</td>\n      <td>1</td>\n      <td>F2</td>\n      <td>5dce9eea5516ad00065f04a7</td>\n      <td>-1946</td>\n      <td>8.880515</td>\n      <td>105.658843</td>\n      <td>5</td>\n      <td>5d27099f03f801723c32511d</td>\n    </tr>\n    <tr>\n      <th>258124</th>\n      <td>-81</td>\n      <td>-81</td>\n      <td>-81</td>\n      <td>-81</td>\n      <td>1573822173051</td>\n      <td>7.799886</td>\n      <td>107.13921</td>\n      <td>1</td>\n      <td>F2</td>\n      <td>5dce9eea5516ad00065f04a7</td>\n      <td>-17</td>\n      <td>7.799886</td>\n      <td>107.139210</td>\n      <td>5</td>\n      <td>5d27099f03f801723c32511d</td>\n    </tr>\n  </tbody>\n</table>\n<p>258125 rows × 15 columns</p>\n</div>"
     },
     "metadata": {},
     "execution_count": 13
    }
   ],
   "source": [
    "train.iloc[:, -15:]"
   ]
  },
  {
   "cell_type": "markdown",
   "metadata": {},
   "source": [
    "## PyTorch model\n",
    "- embedding layerが重要  "
   ]
  },
  {
   "cell_type": "code",
   "execution_count": 14,
   "metadata": {},
   "outputs": [],
   "source": [
    "# dataset\n",
    "from torch.utils.data import Dataset, DataLoader\n",
    "class IndoorDataset(Dataset):\n",
    "    def __init__(self, df, phase='train'):\n",
    "        self.df = df\n",
    "        self.phase = phase\n",
    "        self.bssid_feats = df[BSSID_FEATS].values.astype(int)\n",
    "        self.rssi_feats = df[RSSI_FEATS].values.astype(np.float32)\n",
    "        self.site_id = df['site_id'].values.astype(int)\n",
    "\n",
    "        if phase in ['train', 'valid']:\n",
    "            # self.xy = df[['x', 'y']].values.astype(np.float32)\n",
    "            self.xy = df[['wifi_x', 'wifi_y']].values.astype(np.float32)  # wifiにより補正したx,yを使用\n",
    "            self.floor = df['floor'].values.astype(np.float32)\n",
    "        \n",
    "    def __len__(self):\n",
    "        return self.df.shape[0]\n",
    "\n",
    "    def __getitem__(self, idx):\n",
    "        \n",
    "        feature = {\n",
    "            'BSSID_FEATS':self.bssid_feats[idx],\n",
    "            'RSSI_FEATS':self.rssi_feats[idx],\n",
    "            'site_id':self.site_id[idx]\n",
    "        }\n",
    "        if self.phase in ['train', 'valid']:\n",
    "            target = {\n",
    "                'xy':self.xy[idx],\n",
    "                'floor':self.floor[idx]\n",
    "            }\n",
    "        else:\n",
    "            target = {}\n",
    "        return feature, target"
   ]
  },
  {
   "cell_type": "code",
   "execution_count": 15,
   "metadata": {},
   "outputs": [],
   "source": [
    "import torch\n",
    "from torch import nn\n",
    "\n",
    "class LSTMModel(nn.Module):\n",
    "    def __init__(self, wifi_bssids_size, site_count=24, embedding_dim=64):\n",
    "        super(LSTMModel, self).__init__()\n",
    "        # bssid\n",
    "        # ->64次元に圧縮後sequence化にする\n",
    "        # wifi_bssids_sizeが辞書の数を表す\n",
    "        self.embedding_layer1 = nn.Sequential(\n",
    "            nn.Embedding(wifi_bssids_size, embedding_dim),\n",
    "            nn.Flatten(start_dim=-2)            \n",
    "        )\n",
    "        # site\n",
    "        # ->2次元に圧縮後sequence化する\n",
    "        # site_countが辞書の数を表す\n",
    "        self.embedding_layer2 = nn.Sequential(\n",
    "            nn.Embedding(site_count, 2),\n",
    "            nn.Flatten(start_dim=-1)           \n",
    "        )\n",
    "\n",
    "        # rssi\n",
    "        # 次元を64倍に線形変換\n",
    "        self.linear_layer1 = nn.Sequential(\n",
    "            nn.BatchNorm1d(NUM_FEATS),\n",
    "            nn.Linear(NUM_FEATS, NUM_FEATS * embedding_dim),\n",
    "            nn.ReLU()\n",
    "        )\n",
    "        \n",
    "        # bssid, site, rssiの出力size\n",
    "        feature_size = 2 + (2 * NUM_FEATS * embedding_dim)\n",
    "        self.linear_layer2 = nn.Sequential(\n",
    "            nn.BatchNorm1d(feature_size),\n",
    "            nn.Dropout(0.3),\n",
    "            nn.Linear(feature_size, 256),\n",
    "            nn.ReLU()\n",
    "        )\n",
    "\n",
    "        self.batch_norm1 = nn.BatchNorm1d(1)\n",
    "        self.lstm1 = nn.LSTM(input_size=256,hidden_size=128,dropout=0.3, batch_first=True)\n",
    "        self.lstm2 = nn.LSTM(input_size=128,hidden_size=16,dropout=0.1, batch_first=True)\n",
    "\n",
    "        self.fc_xy = nn.Linear(16, 2)\n",
    "        # self.fc_x = nn.Linear(16, 1)\n",
    "        # self.fc_y = nn.Linear(16, 1)\n",
    "        self.fc_floor = nn.Linear(16, 1)\n",
    "\n",
    "    \n",
    "    def forward(self, x):\n",
    "        # input embedding\n",
    "        batch_size = x[\"site_id\"].shape[0]\n",
    "        x_bssid = self.embedding_layer1(x['BSSID_FEATS'])\n",
    "        x_site_id = self.embedding_layer2(x['site_id'])\n",
    "        x_rssi = self.linear_layer1(x['RSSI_FEATS'])\n",
    "        x = torch.cat([x_bssid, x_site_id, x_rssi], dim=-1)\n",
    "        x = self.linear_layer2(x)\n",
    "\n",
    "        # lstm layer\n",
    "        x = x.view(batch_size, 1, -1)  # [batch, 1]->[batch, 1, 1]\n",
    "        x = self.batch_norm1(x)\n",
    "        x, _ = self.lstm1(x)\n",
    "        x = torch.relu(x)\n",
    "        x, _ = self.lstm2(x)\n",
    "        x = torch.relu(x)\n",
    "\n",
    "        # output [batch, 1, 1] -> [batch]\n",
    "        # x_ = self.fc_x(x).view(-1)\n",
    "        # y_ = self.fc_y(x).view(-1)\n",
    "        xy = self.fc_xy(x).squeeze(1)\n",
    "        floor = torch.relu(self.fc_floor(x)).view(-1)\n",
    "        # return {\"x\":x_, \"y\":y_, \"floor\":floor} \n",
    "        return {\"xy\": xy, \"floor\": floor}"
   ]
  },
  {
   "cell_type": "code",
   "execution_count": 16,
   "metadata": {},
   "outputs": [],
   "source": [
    "def mean_position_error(xhat, yhat, fhat, x, y, f):\n",
    "    intermediate = np.sqrt(np.power(xhat-x, 2) + np.power(yhat-y, 2)) + 15 * np.abs(fhat-f)\n",
    "    return intermediate.sum()/xhat.shape[0]\n",
    "\n",
    "def to_np(input):\n",
    "    return input.detach().cpu().numpy()"
   ]
  },
  {
   "cell_type": "code",
   "execution_count": 17,
   "metadata": {},
   "outputs": [],
   "source": [
    "def get_optimizer(model: nn.Module, config: dict):\n",
    "    optimizer_config = config[\"optimizer\"]\n",
    "    optimizer_name = optimizer_config.get(\"name\")\n",
    "    base_optimizer_name = optimizer_config.get(\"base_name\")\n",
    "    optimizer_params = optimizer_config['params']\n",
    "\n",
    "    if hasattr(optim, optimizer_name):\n",
    "        optimizer = optim.__getattribute__(optimizer_name)(model.parameters(), **optimizer_params)\n",
    "        return optimizer\n",
    "    else:\n",
    "        base_optimizer = optim.__getattribute__(base_optimizer_name)\n",
    "        optimizer = globals().get(optimizer_name)(\n",
    "            model.parameters(), \n",
    "            base_optimizer,\n",
    "            **optimizer_config[\"params\"])\n",
    "        return  optimizer\n",
    "\n",
    "def get_scheduler(optimizer, config: dict):\n",
    "    scheduler_config = config[\"scheduler\"]\n",
    "    scheduler_name = scheduler_config.get(\"name\")\n",
    "\n",
    "    if scheduler_name is None:\n",
    "        return\n",
    "    else:\n",
    "        return optim.lr_scheduler.__getattribute__(scheduler_name)(\n",
    "            optimizer, **scheduler_config[\"params\"])\n",
    "\n",
    "\n",
    "def get_criterion(config: dict):\n",
    "    loss_config = config[\"loss\"]\n",
    "    loss_name = loss_config[\"name\"]\n",
    "    loss_params = {} if loss_config.get(\"params\") is None else loss_config.get(\"params\")\n",
    "    if hasattr(nn, loss_name):\n",
    "        criterion = nn.__getattribute__(loss_name)(**loss_params)\n",
    "    else:\n",
    "        criterion = globals().get(loss_name)(**loss_params)\n",
    "\n",
    "    return criterion\n",
    "\n",
    "def worker_init_fn(worker_id):                                                          \n",
    "    np.random.seed(np.random.get_state()[1][0] + worker_id)"
   ]
  },
  {
   "cell_type": "code",
   "execution_count": 18,
   "metadata": {},
   "outputs": [],
   "source": [
    "# Learner class(pytorch-lighting)\n",
    "class Learner(pl.LightningModule):\n",
    "    def __init__(self, model, config):\n",
    "        super().__init__()\n",
    "        self.model = model\n",
    "        self.config = config\n",
    "        self.xy_criterion = get_criterion(config)\n",
    "        self.f_criterion = get_criterion(config)\n",
    "    \n",
    "    def training_step(self, batch, batch_idx):\n",
    "        x, y = batch\n",
    "        output = self.model(x)\n",
    "        loss = self.xy_criterion(output[\"xy\"], y[\"xy\"])\n",
    "        return loss\n",
    "    \n",
    "    def validation_step(self, batch, batch_idx):\n",
    "        x, y = batch\n",
    "        output = self.model(x)\n",
    "        xy_loss = self.xy_criterion(output[\"xy\"], y[\"xy\"])\n",
    "        f_loss = self.f_criterion(output[\"floor\"], y[\"floor\"])\n",
    "        loss = xy_loss  # + f_loss\n",
    "        mpe = mean_position_error(\n",
    "            to_np(output['xy'][:, 0]), to_np(output['xy'][:, 1]), 0, \n",
    "            to_np(y['xy'][:, 0]), to_np(y['xy'][:, 1]), 0)\n",
    "        \n",
    "        # floor lossは現状は無視して良い\n",
    "        self.log(f'Loss/val', loss, on_step=False, on_epoch=True, prog_bar=False, logger=True)\n",
    "        self.log(f'Loss/xy', xy_loss, on_step=False, on_epoch=True, prog_bar=False, logger=True)\n",
    "        self.log(f'Loss/floor', f_loss, on_step=False, on_epoch=True, prog_bar=False, logger=True)\n",
    "        self.log(f'MPE/val', mpe, on_step=False, on_epoch=True, prog_bar=False, logger=True)\n",
    "        return loss\n",
    "\n",
    "    def configure_optimizers(self):\n",
    "        optimizer = get_optimizer(self.model, self.config)\n",
    "        scheduler = get_scheduler(optimizer, self.config)\n",
    "        return {\"optimizer\": optimizer, \"lr_scheduler\": scheduler, \"monitor\": \"Loss/val\"}"
   ]
  },
  {
   "cell_type": "code",
   "execution_count": 20,
   "metadata": {},
   "outputs": [],
   "source": [
    "# oof\n",
    "def evaluate(model, loaders, phase):\n",
    "    x_list = []\n",
    "    y_list = []\n",
    "    f_list = []\n",
    "    with torch.no_grad():\n",
    "        for batch in loaders[phase]:\n",
    "            x, y = batch\n",
    "            output = model(x)\n",
    "            x_list.append(to_np(output['xy'][:, 0]))\n",
    "            y_list.append(to_np(output['xy'][:, 1]))\n",
    "            f_list.append(to_np(output['floor']))\n",
    "\n",
    "    x_list = np.concatenate(x_list)\n",
    "    y_list = np.concatenate(y_list)\n",
    "    f_list = np.concatenate(f_list)\n",
    "    return x_list, y_list, f_list"
   ]
  },
  {
   "cell_type": "markdown",
   "metadata": {},
   "source": [
    "## train"
   ]
  },
  {
   "cell_type": "code",
   "execution_count": 21,
   "metadata": {
    "tags": []
   },
   "outputs": [
    {
     "output_type": "stream",
     "name": "stdout",
     "text": [
      "====================\n",
      "Fold 0\n",
      "====================\n",
      "/opt/anaconda3/lib/python3.8/site-packages/torch/nn/modules/rnn.py:58: UserWarning: dropout option adds dropout after all but last recurrent layer, so non-zero dropout expects num_layers greater than 1, but got dropout=0.3 and num_layers=1\n",
      "  warnings.warn(\"dropout option adds dropout after all but last \"\n",
      "/opt/anaconda3/lib/python3.8/site-packages/torch/nn/modules/rnn.py:58: UserWarning: dropout option adds dropout after all but last recurrent layer, so non-zero dropout expects num_layers greater than 1, but got dropout=0.1 and num_layers=1\n",
      "  warnings.warn(\"dropout option adds dropout after all but last \"\n",
      "Failed to detect the name of this notebook, you can set it manually with the WANDB_NOTEBOOK_NAME environment variable to enable code saving.\n",
      "\u001b[34m\u001b[1mwandb\u001b[0m: Currently logged in as: \u001b[33mkuto5046\u001b[0m (use `wandb login --relogin` to force relogin)\n",
      "\u001b[34m\u001b[1mwandb\u001b[0m: wandb version 0.10.24 is available!  To upgrade, please run:\n",
      "\u001b[34m\u001b[1mwandb\u001b[0m:  $ pip install wandb --upgrade\n"
     ]
    },
    {
     "output_type": "display_data",
     "data": {
      "text/plain": "<IPython.core.display.HTML object>",
      "text/html": "\n                Tracking run with wandb version 0.10.22<br/>\n                Syncing run <strong style=\"color:#cdcd00\">wise-bird-218</strong> to <a href=\"https://wandb.ai\" target=\"_blank\">Weights & Biases</a> <a href=\"https://docs.wandb.com/integrations/jupyter.html\" target=\"_blank\">(Documentation)</a>.<br/>\n                Project page: <a href=\"https://wandb.ai/kuto5046/indoor\" target=\"_blank\">https://wandb.ai/kuto5046/indoor</a><br/>\n                Run page: <a href=\"https://wandb.ai/kuto5046/indoor/runs/153l553g\" target=\"_blank\">https://wandb.ai/kuto5046/indoor/runs/153l553g</a><br/>\n                Run data is saved locally in <code>/home/kuzira/work/exp/exp008/wandb/run-20210401_214305-153l553g</code><br/><br/>\n            "
     },
     "metadata": {}
    },
    {
     "output_type": "stream",
     "name": "stdout",
     "text": [
      "fold 0: mean position error 7.710968541326397\n"
     ]
    },
    {
     "output_type": "display_data",
     "data": {
      "text/plain": "<IPython.core.display.HTML object>",
      "text/html": "<br/>Waiting for W&B process to finish, PID 668563<br/>Program ended successfully."
     },
     "metadata": {}
    },
    {
     "output_type": "display_data",
     "data": {
      "text/plain": "VBox(children=(Label(value=' 0.00MB of 0.00MB uploaded (0.00MB deduped)\\r'), FloatProgress(value=1.0, max=1.0)…",
      "application/vnd.jupyter.widget-view+json": {
       "version_major": 2,
       "version_minor": 0,
       "model_id": "6c7ea42089b54d11a425dd9fff6bff22"
      }
     },
     "metadata": {}
    },
    {
     "output_type": "display_data",
     "data": {
      "text/plain": "<IPython.core.display.HTML object>",
      "text/html": "Find user logs for this run at: <code>/home/kuzira/work/exp/exp008/wandb/run-20210401_214305-153l553g/logs/debug.log</code>"
     },
     "metadata": {}
    },
    {
     "output_type": "display_data",
     "data": {
      "text/plain": "<IPython.core.display.HTML object>",
      "text/html": "Find internal logs for this run at: <code>/home/kuzira/work/exp/exp008/wandb/run-20210401_214305-153l553g/logs/debug-internal.log</code>"
     },
     "metadata": {}
    },
    {
     "output_type": "display_data",
     "data": {
      "text/plain": "<IPython.core.display.HTML object>",
      "text/html": "Synced 5 W&B file(s), 0 media file(s), 0 artifact file(s) and 0 other file(s)"
     },
     "metadata": {}
    },
    {
     "output_type": "display_data",
     "data": {
      "text/plain": "<IPython.core.display.HTML object>",
      "text/html": "\n                    <br/>Synced <strong style=\"color:#cdcd00\">wise-bird-218</strong>: <a href=\"https://wandb.ai/kuto5046/indoor/runs/153l553g\" target=\"_blank\">https://wandb.ai/kuto5046/indoor/runs/153l553g</a><br/>\n                "
     },
     "metadata": {}
    },
    {
     "output_type": "stream",
     "name": "stdout",
     "text": [
      "====================\n",
      "Fold 1\n",
      "====================\n",
      "\u001b[34m\u001b[1mwandb\u001b[0m: wandb version 0.10.24 is available!  To upgrade, please run:\n",
      "\u001b[34m\u001b[1mwandb\u001b[0m:  $ pip install wandb --upgrade\n"
     ]
    },
    {
     "output_type": "display_data",
     "data": {
      "text/plain": "<IPython.core.display.HTML object>",
      "text/html": "\n                Tracking run with wandb version 0.10.22<br/>\n                Syncing run <strong style=\"color:#cdcd00\">bumbling-shadow-219</strong> to <a href=\"https://wandb.ai\" target=\"_blank\">Weights & Biases</a> <a href=\"https://docs.wandb.com/integrations/jupyter.html\" target=\"_blank\">(Documentation)</a>.<br/>\n                Project page: <a href=\"https://wandb.ai/kuto5046/indoor\" target=\"_blank\">https://wandb.ai/kuto5046/indoor</a><br/>\n                Run page: <a href=\"https://wandb.ai/kuto5046/indoor/runs/1wtnzg79\" target=\"_blank\">https://wandb.ai/kuto5046/indoor/runs/1wtnzg79</a><br/>\n                Run data is saved locally in <code>/home/kuzira/work/exp/exp008/wandb/run-20210401_214314-1wtnzg79</code><br/><br/>\n            "
     },
     "metadata": {}
    },
    {
     "output_type": "stream",
     "name": "stdout",
     "text": [
      "fold 1: mean position error 7.722838655325648\n"
     ]
    },
    {
     "output_type": "display_data",
     "data": {
      "text/plain": "<IPython.core.display.HTML object>",
      "text/html": "<br/>Waiting for W&B process to finish, PID 668705<br/>Program ended successfully."
     },
     "metadata": {}
    },
    {
     "output_type": "display_data",
     "data": {
      "text/plain": "VBox(children=(Label(value=' 0.00MB of 0.00MB uploaded (0.00MB deduped)\\r'), FloatProgress(value=1.0, max=1.0)…",
      "application/vnd.jupyter.widget-view+json": {
       "version_major": 2,
       "version_minor": 0,
       "model_id": "c51a56873e024a59923f39ef6498fead"
      }
     },
     "metadata": {}
    },
    {
     "output_type": "display_data",
     "data": {
      "text/plain": "<IPython.core.display.HTML object>",
      "text/html": "Find user logs for this run at: <code>/home/kuzira/work/exp/exp008/wandb/run-20210401_214314-1wtnzg79/logs/debug.log</code>"
     },
     "metadata": {}
    },
    {
     "output_type": "display_data",
     "data": {
      "text/plain": "<IPython.core.display.HTML object>",
      "text/html": "Find internal logs for this run at: <code>/home/kuzira/work/exp/exp008/wandb/run-20210401_214314-1wtnzg79/logs/debug-internal.log</code>"
     },
     "metadata": {}
    },
    {
     "output_type": "display_data",
     "data": {
      "text/plain": "<IPython.core.display.HTML object>",
      "text/html": "Synced 5 W&B file(s), 0 media file(s), 0 artifact file(s) and 0 other file(s)"
     },
     "metadata": {}
    },
    {
     "output_type": "display_data",
     "data": {
      "text/plain": "<IPython.core.display.HTML object>",
      "text/html": "\n                    <br/>Synced <strong style=\"color:#cdcd00\">bumbling-shadow-219</strong>: <a href=\"https://wandb.ai/kuto5046/indoor/runs/1wtnzg79\" target=\"_blank\">https://wandb.ai/kuto5046/indoor/runs/1wtnzg79</a><br/>\n                "
     },
     "metadata": {}
    },
    {
     "output_type": "stream",
     "name": "stdout",
     "text": [
      "====================\n",
      "Fold 2\n",
      "====================\n",
      "\u001b[34m\u001b[1mwandb\u001b[0m: wandb version 0.10.24 is available!  To upgrade, please run:\n",
      "\u001b[34m\u001b[1mwandb\u001b[0m:  $ pip install wandb --upgrade\n"
     ]
    },
    {
     "output_type": "display_data",
     "data": {
      "text/plain": "<IPython.core.display.HTML object>",
      "text/html": "\n                Tracking run with wandb version 0.10.22<br/>\n                Syncing run <strong style=\"color:#cdcd00\">sandy-valley-220</strong> to <a href=\"https://wandb.ai\" target=\"_blank\">Weights & Biases</a> <a href=\"https://docs.wandb.com/integrations/jupyter.html\" target=\"_blank\">(Documentation)</a>.<br/>\n                Project page: <a href=\"https://wandb.ai/kuto5046/indoor\" target=\"_blank\">https://wandb.ai/kuto5046/indoor</a><br/>\n                Run page: <a href=\"https://wandb.ai/kuto5046/indoor/runs/9xaldurg\" target=\"_blank\">https://wandb.ai/kuto5046/indoor/runs/9xaldurg</a><br/>\n                Run data is saved locally in <code>/home/kuzira/work/exp/exp008/wandb/run-20210401_214322-9xaldurg</code><br/><br/>\n            "
     },
     "metadata": {}
    },
    {
     "output_type": "stream",
     "name": "stdout",
     "text": [
      "fold 2: mean position error 7.369896543694032\n"
     ]
    },
    {
     "output_type": "display_data",
     "data": {
      "text/plain": "<IPython.core.display.HTML object>",
      "text/html": "<br/>Waiting for W&B process to finish, PID 668825<br/>Program ended successfully."
     },
     "metadata": {}
    },
    {
     "output_type": "display_data",
     "data": {
      "text/plain": "VBox(children=(Label(value=' 0.00MB of 0.00MB uploaded (0.00MB deduped)\\r'), FloatProgress(value=1.0, max=1.0)…",
      "application/vnd.jupyter.widget-view+json": {
       "version_major": 2,
       "version_minor": 0,
       "model_id": "a0cc23d087bb4903bd46cff4db502f2e"
      }
     },
     "metadata": {}
    },
    {
     "output_type": "display_data",
     "data": {
      "text/plain": "<IPython.core.display.HTML object>",
      "text/html": "Find user logs for this run at: <code>/home/kuzira/work/exp/exp008/wandb/run-20210401_214322-9xaldurg/logs/debug.log</code>"
     },
     "metadata": {}
    },
    {
     "output_type": "display_data",
     "data": {
      "text/plain": "<IPython.core.display.HTML object>",
      "text/html": "Find internal logs for this run at: <code>/home/kuzira/work/exp/exp008/wandb/run-20210401_214322-9xaldurg/logs/debug-internal.log</code>"
     },
     "metadata": {}
    },
    {
     "output_type": "display_data",
     "data": {
      "text/plain": "<IPython.core.display.HTML object>",
      "text/html": "Synced 5 W&B file(s), 0 media file(s), 0 artifact file(s) and 0 other file(s)"
     },
     "metadata": {}
    },
    {
     "output_type": "display_data",
     "data": {
      "text/plain": "<IPython.core.display.HTML object>",
      "text/html": "\n                    <br/>Synced <strong style=\"color:#cdcd00\">sandy-valley-220</strong>: <a href=\"https://wandb.ai/kuto5046/indoor/runs/9xaldurg\" target=\"_blank\">https://wandb.ai/kuto5046/indoor/runs/9xaldurg</a><br/>\n                "
     },
     "metadata": {}
    },
    {
     "output_type": "stream",
     "name": "stdout",
     "text": [
      "====================\n",
      "Fold 3\n",
      "====================\n",
      "\u001b[34m\u001b[1mwandb\u001b[0m: wandb version 0.10.24 is available!  To upgrade, please run:\n",
      "\u001b[34m\u001b[1mwandb\u001b[0m:  $ pip install wandb --upgrade\n"
     ]
    },
    {
     "output_type": "display_data",
     "data": {
      "text/plain": "<IPython.core.display.HTML object>",
      "text/html": "\n                Tracking run with wandb version 0.10.22<br/>\n                Syncing run <strong style=\"color:#cdcd00\">swift-deluge-221</strong> to <a href=\"https://wandb.ai\" target=\"_blank\">Weights & Biases</a> <a href=\"https://docs.wandb.com/integrations/jupyter.html\" target=\"_blank\">(Documentation)</a>.<br/>\n                Project page: <a href=\"https://wandb.ai/kuto5046/indoor\" target=\"_blank\">https://wandb.ai/kuto5046/indoor</a><br/>\n                Run page: <a href=\"https://wandb.ai/kuto5046/indoor/runs/zsq5qq1q\" target=\"_blank\">https://wandb.ai/kuto5046/indoor/runs/zsq5qq1q</a><br/>\n                Run data is saved locally in <code>/home/kuzira/work/exp/exp008/wandb/run-20210401_214330-zsq5qq1q</code><br/><br/>\n            "
     },
     "metadata": {}
    },
    {
     "output_type": "stream",
     "name": "stdout",
     "text": [
      "fold 3: mean position error 8.058767830670824\n"
     ]
    },
    {
     "output_type": "display_data",
     "data": {
      "text/plain": "<IPython.core.display.HTML object>",
      "text/html": "<br/>Waiting for W&B process to finish, PID 668939<br/>Program ended successfully."
     },
     "metadata": {}
    },
    {
     "output_type": "display_data",
     "data": {
      "text/plain": "VBox(children=(Label(value=' 0.00MB of 0.00MB uploaded (0.00MB deduped)\\r'), FloatProgress(value=1.0, max=1.0)…",
      "application/vnd.jupyter.widget-view+json": {
       "version_major": 2,
       "version_minor": 0,
       "model_id": "9c1383b0546a4104930f15eb3af8a4d0"
      }
     },
     "metadata": {}
    },
    {
     "output_type": "display_data",
     "data": {
      "text/plain": "<IPython.core.display.HTML object>",
      "text/html": "Find user logs for this run at: <code>/home/kuzira/work/exp/exp008/wandb/run-20210401_214330-zsq5qq1q/logs/debug.log</code>"
     },
     "metadata": {}
    },
    {
     "output_type": "display_data",
     "data": {
      "text/plain": "<IPython.core.display.HTML object>",
      "text/html": "Find internal logs for this run at: <code>/home/kuzira/work/exp/exp008/wandb/run-20210401_214330-zsq5qq1q/logs/debug-internal.log</code>"
     },
     "metadata": {}
    },
    {
     "output_type": "display_data",
     "data": {
      "text/plain": "<IPython.core.display.HTML object>",
      "text/html": "Synced 5 W&B file(s), 0 media file(s), 0 artifact file(s) and 0 other file(s)"
     },
     "metadata": {}
    },
    {
     "output_type": "display_data",
     "data": {
      "text/plain": "<IPython.core.display.HTML object>",
      "text/html": "\n                    <br/>Synced <strong style=\"color:#cdcd00\">swift-deluge-221</strong>: <a href=\"https://wandb.ai/kuto5046/indoor/runs/zsq5qq1q\" target=\"_blank\">https://wandb.ai/kuto5046/indoor/runs/zsq5qq1q</a><br/>\n                "
     },
     "metadata": {}
    },
    {
     "output_type": "stream",
     "name": "stdout",
     "text": [
      "====================\n",
      "Fold 4\n",
      "====================\n",
      "\u001b[34m\u001b[1mwandb\u001b[0m: wandb version 0.10.24 is available!  To upgrade, please run:\n",
      "\u001b[34m\u001b[1mwandb\u001b[0m:  $ pip install wandb --upgrade\n"
     ]
    },
    {
     "output_type": "display_data",
     "data": {
      "text/plain": "<IPython.core.display.HTML object>",
      "text/html": "\n                Tracking run with wandb version 0.10.22<br/>\n                Syncing run <strong style=\"color:#cdcd00\">radiant-durian-222</strong> to <a href=\"https://wandb.ai\" target=\"_blank\">Weights & Biases</a> <a href=\"https://docs.wandb.com/integrations/jupyter.html\" target=\"_blank\">(Documentation)</a>.<br/>\n                Project page: <a href=\"https://wandb.ai/kuto5046/indoor\" target=\"_blank\">https://wandb.ai/kuto5046/indoor</a><br/>\n                Run page: <a href=\"https://wandb.ai/kuto5046/indoor/runs/126mq1sw\" target=\"_blank\">https://wandb.ai/kuto5046/indoor/runs/126mq1sw</a><br/>\n                Run data is saved locally in <code>/home/kuzira/work/exp/exp008/wandb/run-20210401_214338-126mq1sw</code><br/><br/>\n            "
     },
     "metadata": {}
    },
    {
     "output_type": "stream",
     "name": "stdout",
     "text": [
      "fold 4: mean position error 7.71283324302871\n"
     ]
    },
    {
     "output_type": "display_data",
     "data": {
      "text/plain": "<IPython.core.display.HTML object>",
      "text/html": "<br/>Waiting for W&B process to finish, PID 669063<br/>Program ended successfully."
     },
     "metadata": {}
    },
    {
     "output_type": "display_data",
     "data": {
      "text/plain": "VBox(children=(Label(value=' 0.00MB of 0.00MB uploaded (0.00MB deduped)\\r'), FloatProgress(value=1.0, max=1.0)…",
      "application/vnd.jupyter.widget-view+json": {
       "version_major": 2,
       "version_minor": 0,
       "model_id": "d9c1959928b34a83b83fdbd5ee5082e7"
      }
     },
     "metadata": {}
    },
    {
     "output_type": "display_data",
     "data": {
      "text/plain": "<IPython.core.display.HTML object>",
      "text/html": "Find user logs for this run at: <code>/home/kuzira/work/exp/exp008/wandb/run-20210401_214338-126mq1sw/logs/debug.log</code>"
     },
     "metadata": {}
    },
    {
     "output_type": "display_data",
     "data": {
      "text/plain": "<IPython.core.display.HTML object>",
      "text/html": "Find internal logs for this run at: <code>/home/kuzira/work/exp/exp008/wandb/run-20210401_214338-126mq1sw/logs/debug-internal.log</code>"
     },
     "metadata": {}
    },
    {
     "output_type": "display_data",
     "data": {
      "text/plain": "<IPython.core.display.HTML object>",
      "text/html": "Synced 5 W&B file(s), 0 media file(s), 0 artifact file(s) and 0 other file(s)"
     },
     "metadata": {}
    },
    {
     "output_type": "display_data",
     "data": {
      "text/plain": "<IPython.core.display.HTML object>",
      "text/html": "\n                    <br/>Synced <strong style=\"color:#cdcd00\">radiant-durian-222</strong>: <a href=\"https://wandb.ai/kuto5046/indoor/runs/126mq1sw\" target=\"_blank\">https://wandb.ai/kuto5046/indoor/runs/126mq1sw</a><br/>\n                "
     },
     "metadata": {}
    }
   ],
   "source": [
    "oofs = []  # 全てのoofをdfで格納する\n",
    "predictions = []  # 全ての予測値をdfで格納する\n",
    "val_scores = []\n",
    "# skf = model_selection.StratifiedKFold(n_splits=N_SPLITS, shuffle=True, random_state=SEED)\n",
    "gkf = model_selection.GroupKFold(n_splits=N_SPLITS)\n",
    "# 今回はtargetを均等に分ける必要はなくpathが均等に分かれればいいのでskf.split()にpathを与えている。\n",
    "for fold, (trn_idx, val_idx) in enumerate(gkf.split(train.loc[:, 'path'], groups=train.loc[:, 'path'])):\n",
    "    # 指定したfoldのみループを回す\n",
    "    if fold not in USE_FOLDS:\n",
    "        continue\n",
    "\n",
    "    print('=' * 20)\n",
    "    print(f'Fold {fold}')\n",
    "    print('=' * 20)\n",
    "\n",
    "    # train/valid data\n",
    "    trn_df = train.loc[trn_idx, BSSID_FEATS + RSSI_FEATS + ['site_id', 'wifi_x','wifi_y','floor']].reset_index(drop=True)\n",
    "    val_df = train.loc[val_idx, BSSID_FEATS + RSSI_FEATS + ['site_id', 'wifi_x','wifi_y','floor']].reset_index(drop=True)\n",
    "\n",
    "    # data loader\n",
    "    loaders = {}\n",
    "    loader_config = config[\"loader\"]\n",
    "    loaders[\"train\"] = DataLoader(IndoorDataset(trn_df, phase=\"train\"), **loader_config[\"train\"], worker_init_fn=worker_init_fn) \n",
    "    loaders[\"valid\"] = DataLoader(IndoorDataset(val_df, phase=\"valid\"), **loader_config[\"valid\"], worker_init_fn=worker_init_fn)\n",
    "    loaders[\"test\"] = DataLoader(IndoorDataset(test, phase=\"test\"), **loader_config[\"test\"], worker_init_fn=worker_init_fn)\n",
    "\n",
    "    # model\n",
    "    model = LSTMModel(wifi_bssids_size+1, site_count)  # +1としているのはLEを1スタートで始めているため\n",
    "    model_name = model.__class__.__name__\n",
    "\n",
    "    # callbacks\n",
    "    callbacks = []\n",
    "    checkpoint_callback = ModelCheckpoint(\n",
    "        monitor=f'Loss/val',\n",
    "        mode='min',\n",
    "        dirpath=f\"../../model/{EXP_NAME}\",\n",
    "        verbose=False,\n",
    "        filename=f'{model_name}-{fold}')\n",
    "    \n",
    "    if MODEL_SAVE:\n",
    "        callbacks.append(checkpoint_callback)\n",
    "\n",
    "    early_stop_callback = EarlyStopping(\n",
    "        monitor='Loss/val',\n",
    "        min_delta=0.00,\n",
    "        patience=10,\n",
    "        verbose=False,\n",
    "        mode='min')\n",
    "    callbacks.append(early_stop_callback)\n",
    "\n",
    "    # loggers\n",
    "    RUN_NAME = EXP_NAME + \"_\" + EXP_MESSAGE\n",
    "    wandb.init(project='indoor', notes=NOTES, entity='kuto5046', group=RUN_NAME)\n",
    "    wandb.run.name = RUN_NAME + f'-fold-{fold}'\n",
    "    wandb_config = wandb.config\n",
    "    wandb_config.model_name = model_name\n",
    "    wandb_config.LB = None\n",
    "    wandb.watch(model)\n",
    "    \n",
    "    \n",
    "    loggers = []\n",
    "    loggers.append(WandbLogger())\n",
    "\n",
    "    learner = Learner(model, config)\n",
    "    # pretrained flag\n",
    "    if PRETRAINED:\n",
    "        ckpt = torch.load(PRETRAINED_PATH + f'{model_name}-{fold}.ckpt')\n",
    "        learner.load_state_dict(ckpt['state_dict'])\n",
    "\n",
    "    if not ONLY_PRED:\n",
    "        trainer = pl.Trainer(\n",
    "            logger=loggers, \n",
    "            callbacks=callbacks,\n",
    "            max_epochs=MAX_EPOCHS,\n",
    "            gpus=[0],\n",
    "            fast_dev_run=DEBUG,\n",
    "            deterministic=True,\n",
    "            # precision=16,\n",
    "            progress_bar_refresh_rate=0  # vscodeの時progress barの動作が遅いので表示しない\n",
    "            )\n",
    "\n",
    "        trainer.fit(learner, train_dataloader=loaders['train'], val_dataloaders=loaders['valid'])\n",
    "\n",
    "    #############\n",
    "    # validation (to make oof)\n",
    "    #############\n",
    "    model.eval()  \n",
    "    oof_df = train.loc[val_idx, ['timestamp', 'x', 'y', 'site_id','site_id_str', 'wifi_x','wifi_y', 'floor', 'floor_str', 'path', 'time_diff']].reset_index(drop=True)\n",
    "    oof_x, oof_y, oof_f = evaluate(model, loaders, phase=\"valid\")\n",
    "    oof_df[\"oof_x\"] = oof_x\n",
    "    oof_df[\"oof_y\"] = oof_y\n",
    "    oof_df[\"oof_floor\"] = oof_f\n",
    "    oofs.append(oof_df)\n",
    "    \n",
    "    val_score = mean_position_error(\n",
    "        oof_df[\"oof_x\"].values, oof_df[\"oof_y\"].values, 0,\n",
    "        oof_df['wifi_x'].values, oof_df['wifi_y'].values, 0)\n",
    "    val_scores.append(val_score)\n",
    "    print(f\"fold {fold}: mean position error {val_score}\")\n",
    "\n",
    "    #############\n",
    "    # inference\n",
    "    #############n\n",
    "\n",
    "    preds_x, preds_y, preds_f = evaluate(model, loaders, phase=\"test\")\n",
    "    test_preds = pd.DataFrame(np.stack((preds_f, preds_x, preds_y))).T\n",
    "    test_preds.columns = sub.columns\n",
    "    test_preds[\"site_path_timestamp\"] = test[\"site_path_timestamp\"]\n",
    "    test_preds[\"floor\"] = test_preds[\"floor\"].astype(int)\n",
    "    test_preds.to_csv(f'{EXP_NAME}_fold{fold}.csv', index=False)\n",
    "    predictions.append(test_preds)\n",
    "    wandb.finish()"
   ]
  },
  {
   "cell_type": "code",
   "execution_count": 22,
   "metadata": {},
   "outputs": [
    {
     "output_type": "execute_result",
     "data": {
      "text/plain": [
       "            timestamp          x           y  site_id  \\\n",
       "0       1561368762838   78.21819   38.999737        0   \n",
       "1       1561368762838   78.21819   38.999737        0   \n",
       "2       1561368774057   76.25184   30.510840        0   \n",
       "3       1561368774057   76.25184   30.510840        0   \n",
       "4       1561368774057   76.25184   30.510840        0   \n",
       "...               ...        ...         ...      ...   \n",
       "258120  1574420742502  193.20488  108.001520       23   \n",
       "258121  1574420742502  193.20488  108.001520       23   \n",
       "258122  1574420753754  204.29349  107.835120       23   \n",
       "258123  1574420753754  204.29349  107.835120       23   \n",
       "258124  1574420753754  204.29349  107.835120       23   \n",
       "\n",
       "                     site_id_str      wifi_x      wifi_y  floor floor_str  \\\n",
       "0       5a0546857ecc773753327266   77.890465   37.584921      2        F3   \n",
       "1       5a0546857ecc773753327266   77.562740   36.170105      2        F3   \n",
       "2       5a0546857ecc773753327266   77.235015   34.755289      2        F3   \n",
       "3       5a0546857ecc773753327266   77.202679   21.519628      2        F3   \n",
       "4       5a0546857ecc773753327266   76.991381   23.517675      2        F3   \n",
       "...                          ...         ...         ...    ...       ...   \n",
       "258120  5dc8cea7659e181adb076a3f  197.825134  107.932187     -1        B1   \n",
       "258121  5dc8cea7659e181adb076a3f  194.128931  107.987653     -1        B1   \n",
       "258122  5dc8cea7659e181adb076a3f  199.673236  107.904453     -1        B1   \n",
       "258123  5dc8cea7659e181adb076a3f  201.521337  107.876720     -1        B1   \n",
       "258124  5dc8cea7659e181adb076a3f  203.369439  107.848987     -1        B1   \n",
       "\n",
       "                            path  time_diff       oof_x       oof_y  \\\n",
       "0       5d10a1669c50c70008fe8977       1969   84.865143   39.419571   \n",
       "1       5d10a1669c50c70008fe8977       3966   87.870216   33.456242   \n",
       "2       5d10a1669c50c70008fe8977      -5250   82.229469   30.581415   \n",
       "3       5d10a1669c50c70008fe8977       8838   82.887291   28.168413   \n",
       "4       5d10a1669c50c70008fe8977       6812   80.341606   22.184681   \n",
       "...                          ...        ...         ...         ...   \n",
       "258120  5dd7c119c5b77e0006b16b99       4790  199.136230  104.263153   \n",
       "258121  5dd7c119c5b77e0006b16b99       1006  201.388168  103.995300   \n",
       "258122  5dd7c119c5b77e0006b16b99      -4550  199.976761  103.671677   \n",
       "258123  5dd7c119c5b77e0006b16b99      -2662  201.535706  104.701302   \n",
       "258124  5dd7c119c5b77e0006b16b99       -756  203.893616  102.690857   \n",
       "\n",
       "        oof_floor                                site_path_timestamp  \n",
       "0        0.207957  5a0546857ecc773753327266_5d10a1669c50c70008fe8...  \n",
       "1        0.206626  5a0546857ecc773753327266_5d10a1669c50c70008fe8...  \n",
       "2        0.211186  5a0546857ecc773753327266_5d10a1669c50c70008fe8...  \n",
       "3        0.208902  5a0546857ecc773753327266_5d10a1669c50c70008fe8...  \n",
       "4        0.212189  5a0546857ecc773753327266_5d10a1669c50c70008fe8...  \n",
       "...           ...                                                ...  \n",
       "258120   0.000000  5dc8cea7659e181adb076a3f_5dd7c119c5b77e0006b16...  \n",
       "258121   0.000000  5dc8cea7659e181adb076a3f_5dd7c119c5b77e0006b16...  \n",
       "258122   0.000000  5dc8cea7659e181adb076a3f_5dd7c119c5b77e0006b16...  \n",
       "258123   0.000000  5dc8cea7659e181adb076a3f_5dd7c119c5b77e0006b16...  \n",
       "258124   0.000000  5dc8cea7659e181adb076a3f_5dd7c119c5b77e0006b16...  \n",
       "\n",
       "[258125 rows x 15 columns]"
      ],
      "text/html": "<div>\n<style scoped>\n    .dataframe tbody tr th:only-of-type {\n        vertical-align: middle;\n    }\n\n    .dataframe tbody tr th {\n        vertical-align: top;\n    }\n\n    .dataframe thead th {\n        text-align: right;\n    }\n</style>\n<table border=\"1\" class=\"dataframe\">\n  <thead>\n    <tr style=\"text-align: right;\">\n      <th></th>\n      <th>timestamp</th>\n      <th>x</th>\n      <th>y</th>\n      <th>site_id</th>\n      <th>site_id_str</th>\n      <th>wifi_x</th>\n      <th>wifi_y</th>\n      <th>floor</th>\n      <th>floor_str</th>\n      <th>path</th>\n      <th>time_diff</th>\n      <th>oof_x</th>\n      <th>oof_y</th>\n      <th>oof_floor</th>\n      <th>site_path_timestamp</th>\n    </tr>\n  </thead>\n  <tbody>\n    <tr>\n      <th>0</th>\n      <td>1561368762838</td>\n      <td>78.21819</td>\n      <td>38.999737</td>\n      <td>0</td>\n      <td>5a0546857ecc773753327266</td>\n      <td>77.890465</td>\n      <td>37.584921</td>\n      <td>2</td>\n      <td>F3</td>\n      <td>5d10a1669c50c70008fe8977</td>\n      <td>1969</td>\n      <td>84.865143</td>\n      <td>39.419571</td>\n      <td>0.207957</td>\n      <td>5a0546857ecc773753327266_5d10a1669c50c70008fe8...</td>\n    </tr>\n    <tr>\n      <th>1</th>\n      <td>1561368762838</td>\n      <td>78.21819</td>\n      <td>38.999737</td>\n      <td>0</td>\n      <td>5a0546857ecc773753327266</td>\n      <td>77.562740</td>\n      <td>36.170105</td>\n      <td>2</td>\n      <td>F3</td>\n      <td>5d10a1669c50c70008fe8977</td>\n      <td>3966</td>\n      <td>87.870216</td>\n      <td>33.456242</td>\n      <td>0.206626</td>\n      <td>5a0546857ecc773753327266_5d10a1669c50c70008fe8...</td>\n    </tr>\n    <tr>\n      <th>2</th>\n      <td>1561368774057</td>\n      <td>76.25184</td>\n      <td>30.510840</td>\n      <td>0</td>\n      <td>5a0546857ecc773753327266</td>\n      <td>77.235015</td>\n      <td>34.755289</td>\n      <td>2</td>\n      <td>F3</td>\n      <td>5d10a1669c50c70008fe8977</td>\n      <td>-5250</td>\n      <td>82.229469</td>\n      <td>30.581415</td>\n      <td>0.211186</td>\n      <td>5a0546857ecc773753327266_5d10a1669c50c70008fe8...</td>\n    </tr>\n    <tr>\n      <th>3</th>\n      <td>1561368774057</td>\n      <td>76.25184</td>\n      <td>30.510840</td>\n      <td>0</td>\n      <td>5a0546857ecc773753327266</td>\n      <td>77.202679</td>\n      <td>21.519628</td>\n      <td>2</td>\n      <td>F3</td>\n      <td>5d10a1669c50c70008fe8977</td>\n      <td>8838</td>\n      <td>82.887291</td>\n      <td>28.168413</td>\n      <td>0.208902</td>\n      <td>5a0546857ecc773753327266_5d10a1669c50c70008fe8...</td>\n    </tr>\n    <tr>\n      <th>4</th>\n      <td>1561368774057</td>\n      <td>76.25184</td>\n      <td>30.510840</td>\n      <td>0</td>\n      <td>5a0546857ecc773753327266</td>\n      <td>76.991381</td>\n      <td>23.517675</td>\n      <td>2</td>\n      <td>F3</td>\n      <td>5d10a1669c50c70008fe8977</td>\n      <td>6812</td>\n      <td>80.341606</td>\n      <td>22.184681</td>\n      <td>0.212189</td>\n      <td>5a0546857ecc773753327266_5d10a1669c50c70008fe8...</td>\n    </tr>\n    <tr>\n      <th>...</th>\n      <td>...</td>\n      <td>...</td>\n      <td>...</td>\n      <td>...</td>\n      <td>...</td>\n      <td>...</td>\n      <td>...</td>\n      <td>...</td>\n      <td>...</td>\n      <td>...</td>\n      <td>...</td>\n      <td>...</td>\n      <td>...</td>\n      <td>...</td>\n      <td>...</td>\n    </tr>\n    <tr>\n      <th>258120</th>\n      <td>1574420742502</td>\n      <td>193.20488</td>\n      <td>108.001520</td>\n      <td>23</td>\n      <td>5dc8cea7659e181adb076a3f</td>\n      <td>197.825134</td>\n      <td>107.932187</td>\n      <td>-1</td>\n      <td>B1</td>\n      <td>5dd7c119c5b77e0006b16b99</td>\n      <td>4790</td>\n      <td>199.136230</td>\n      <td>104.263153</td>\n      <td>0.000000</td>\n      <td>5dc8cea7659e181adb076a3f_5dd7c119c5b77e0006b16...</td>\n    </tr>\n    <tr>\n      <th>258121</th>\n      <td>1574420742502</td>\n      <td>193.20488</td>\n      <td>108.001520</td>\n      <td>23</td>\n      <td>5dc8cea7659e181adb076a3f</td>\n      <td>194.128931</td>\n      <td>107.987653</td>\n      <td>-1</td>\n      <td>B1</td>\n      <td>5dd7c119c5b77e0006b16b99</td>\n      <td>1006</td>\n      <td>201.388168</td>\n      <td>103.995300</td>\n      <td>0.000000</td>\n      <td>5dc8cea7659e181adb076a3f_5dd7c119c5b77e0006b16...</td>\n    </tr>\n    <tr>\n      <th>258122</th>\n      <td>1574420753754</td>\n      <td>204.29349</td>\n      <td>107.835120</td>\n      <td>23</td>\n      <td>5dc8cea7659e181adb076a3f</td>\n      <td>199.673236</td>\n      <td>107.904453</td>\n      <td>-1</td>\n      <td>B1</td>\n      <td>5dd7c119c5b77e0006b16b99</td>\n      <td>-4550</td>\n      <td>199.976761</td>\n      <td>103.671677</td>\n      <td>0.000000</td>\n      <td>5dc8cea7659e181adb076a3f_5dd7c119c5b77e0006b16...</td>\n    </tr>\n    <tr>\n      <th>258123</th>\n      <td>1574420753754</td>\n      <td>204.29349</td>\n      <td>107.835120</td>\n      <td>23</td>\n      <td>5dc8cea7659e181adb076a3f</td>\n      <td>201.521337</td>\n      <td>107.876720</td>\n      <td>-1</td>\n      <td>B1</td>\n      <td>5dd7c119c5b77e0006b16b99</td>\n      <td>-2662</td>\n      <td>201.535706</td>\n      <td>104.701302</td>\n      <td>0.000000</td>\n      <td>5dc8cea7659e181adb076a3f_5dd7c119c5b77e0006b16...</td>\n    </tr>\n    <tr>\n      <th>258124</th>\n      <td>1574420753754</td>\n      <td>204.29349</td>\n      <td>107.835120</td>\n      <td>23</td>\n      <td>5dc8cea7659e181adb076a3f</td>\n      <td>203.369439</td>\n      <td>107.848987</td>\n      <td>-1</td>\n      <td>B1</td>\n      <td>5dd7c119c5b77e0006b16b99</td>\n      <td>-756</td>\n      <td>203.893616</td>\n      <td>102.690857</td>\n      <td>0.000000</td>\n      <td>5dc8cea7659e181adb076a3f_5dd7c119c5b77e0006b16...</td>\n    </tr>\n  </tbody>\n</table>\n<p>258125 rows × 15 columns</p>\n</div>"
     },
     "metadata": {},
     "execution_count": 22
    }
   ],
   "source": [
    "if len(USE_FOLDS) > 1:\n",
    "    oofs_df = pd.concat(oofs)\n",
    "else:\n",
    "    oofs_df = oofs[0]\n",
    "\n",
    "oofs_df['site_path_timestamp'] = oofs_df['site_id_str'].astype(str) + '_' + oofs_df['path'] + '_' + oofs_df['timestamp'].astype(str)\n",
    "oofs_df = oofs_df.sort_values('site_path_timestamp').reset_index(drop=True)\n",
    "oofs_df.to_csv(\"oof.csv\", index=False)\n",
    "oofs_df"
   ]
  },
  {
   "cell_type": "code",
   "execution_count": 23,
   "metadata": {},
   "outputs": [
    {
     "output_type": "execute_result",
     "data": {
      "text/plain": [
       "                                                    floor           x  \\\n",
       "site_path_timestamp                                                     \n",
       "5a0546857ecc773753327266_046cfa46be49fc10834815...      0   87.954796   \n",
       "5a0546857ecc773753327266_046cfa46be49fc10834815...      0   84.130959   \n",
       "5a0546857ecc773753327266_046cfa46be49fc10834815...      0   86.090317   \n",
       "5a0546857ecc773753327266_046cfa46be49fc10834815...      0   87.595718   \n",
       "5a0546857ecc773753327266_046cfa46be49fc10834815...      0   86.149513   \n",
       "...                                                   ...         ...   \n",
       "5dc8cea7659e181adb076a3f_fd64de8c4a2fc5ebb0e9f4...      0  214.097397   \n",
       "5dc8cea7659e181adb076a3f_fd64de8c4a2fc5ebb0e9f4...      0  209.983994   \n",
       "5dc8cea7659e181adb076a3f_fd64de8c4a2fc5ebb0e9f4...      0  205.807724   \n",
       "5dc8cea7659e181adb076a3f_fd64de8c4a2fc5ebb0e9f4...      0  202.292267   \n",
       "5dc8cea7659e181adb076a3f_fd64de8c4a2fc5ebb0e9f4...      0  199.881561   \n",
       "\n",
       "                                                             y  \n",
       "site_path_timestamp                                             \n",
       "5a0546857ecc773753327266_046cfa46be49fc10834815...  102.605637  \n",
       "5a0546857ecc773753327266_046cfa46be49fc10834815...  102.008942  \n",
       "5a0546857ecc773753327266_046cfa46be49fc10834815...  104.619865  \n",
       "5a0546857ecc773753327266_046cfa46be49fc10834815...  105.741379  \n",
       "5a0546857ecc773753327266_046cfa46be49fc10834815...  105.548729  \n",
       "...                                                        ...  \n",
       "5dc8cea7659e181adb076a3f_fd64de8c4a2fc5ebb0e9f4...   90.171814  \n",
       "5dc8cea7659e181adb076a3f_fd64de8c4a2fc5ebb0e9f4...   99.197472  \n",
       "5dc8cea7659e181adb076a3f_fd64de8c4a2fc5ebb0e9f4...  105.314880  \n",
       "5dc8cea7659e181adb076a3f_fd64de8c4a2fc5ebb0e9f4...  111.906059  \n",
       "5dc8cea7659e181adb076a3f_fd64de8c4a2fc5ebb0e9f4...  111.624573  \n",
       "\n",
       "[10133 rows x 3 columns]"
      ],
      "text/html": "<div>\n<style scoped>\n    .dataframe tbody tr th:only-of-type {\n        vertical-align: middle;\n    }\n\n    .dataframe tbody tr th {\n        vertical-align: top;\n    }\n\n    .dataframe thead th {\n        text-align: right;\n    }\n</style>\n<table border=\"1\" class=\"dataframe\">\n  <thead>\n    <tr style=\"text-align: right;\">\n      <th></th>\n      <th>floor</th>\n      <th>x</th>\n      <th>y</th>\n    </tr>\n    <tr>\n      <th>site_path_timestamp</th>\n      <th></th>\n      <th></th>\n      <th></th>\n    </tr>\n  </thead>\n  <tbody>\n    <tr>\n      <th>5a0546857ecc773753327266_046cfa46be49fc10834815c6_0000000000009</th>\n      <td>0</td>\n      <td>87.954796</td>\n      <td>102.605637</td>\n    </tr>\n    <tr>\n      <th>5a0546857ecc773753327266_046cfa46be49fc10834815c6_0000000009017</th>\n      <td>0</td>\n      <td>84.130959</td>\n      <td>102.008942</td>\n    </tr>\n    <tr>\n      <th>5a0546857ecc773753327266_046cfa46be49fc10834815c6_0000000015326</th>\n      <td>0</td>\n      <td>86.090317</td>\n      <td>104.619865</td>\n    </tr>\n    <tr>\n      <th>5a0546857ecc773753327266_046cfa46be49fc10834815c6_0000000018763</th>\n      <td>0</td>\n      <td>87.595718</td>\n      <td>105.741379</td>\n    </tr>\n    <tr>\n      <th>5a0546857ecc773753327266_046cfa46be49fc10834815c6_0000000022328</th>\n      <td>0</td>\n      <td>86.149513</td>\n      <td>105.548729</td>\n    </tr>\n    <tr>\n      <th>...</th>\n      <td>...</td>\n      <td>...</td>\n      <td>...</td>\n    </tr>\n    <tr>\n      <th>5dc8cea7659e181adb076a3f_fd64de8c4a2fc5ebb0e9f412_0000000082589</th>\n      <td>0</td>\n      <td>214.097397</td>\n      <td>90.171814</td>\n    </tr>\n    <tr>\n      <th>5dc8cea7659e181adb076a3f_fd64de8c4a2fc5ebb0e9f412_0000000085758</th>\n      <td>0</td>\n      <td>209.983994</td>\n      <td>99.197472</td>\n    </tr>\n    <tr>\n      <th>5dc8cea7659e181adb076a3f_fd64de8c4a2fc5ebb0e9f412_0000000090895</th>\n      <td>0</td>\n      <td>205.807724</td>\n      <td>105.314880</td>\n    </tr>\n    <tr>\n      <th>5dc8cea7659e181adb076a3f_fd64de8c4a2fc5ebb0e9f412_0000000096899</th>\n      <td>0</td>\n      <td>202.292267</td>\n      <td>111.906059</td>\n    </tr>\n    <tr>\n      <th>5dc8cea7659e181adb076a3f_fd64de8c4a2fc5ebb0e9f412_0000000100447</th>\n      <td>0</td>\n      <td>199.881561</td>\n      <td>111.624573</td>\n    </tr>\n  </tbody>\n</table>\n<p>10133 rows × 3 columns</p>\n</div>"
     },
     "metadata": {},
     "execution_count": 23
    }
   ],
   "source": [
    "if len(USE_FOLDS) > 1:\n",
    "    # foldの結果を平均した後、reindexでsubmission fileにindexを合わせる\n",
    "    sub = pd.concat(predictions).groupby('site_path_timestamp').mean().reindex(sub.index)\n",
    "else:\n",
    "    sub = predictions[0].reindex(sub.index)\n",
    "sub"
   ]
  },
  {
   "cell_type": "code",
   "execution_count": 24,
   "metadata": {},
   "outputs": [
    {
     "output_type": "execute_result",
     "data": {
      "text/plain": [
       "                                                    floor           x  \\\n",
       "site_path_timestamp                                                     \n",
       "5a0546857ecc773753327266_046cfa46be49fc10834815...      0   87.954796   \n",
       "5a0546857ecc773753327266_046cfa46be49fc10834815...      0   84.130959   \n",
       "5a0546857ecc773753327266_046cfa46be49fc10834815...      0   86.090317   \n",
       "5a0546857ecc773753327266_046cfa46be49fc10834815...      0   87.595718   \n",
       "5a0546857ecc773753327266_046cfa46be49fc10834815...      0   86.149513   \n",
       "...                                                   ...         ...   \n",
       "5dc8cea7659e181adb076a3f_fd64de8c4a2fc5ebb0e9f4...      5  214.097397   \n",
       "5dc8cea7659e181adb076a3f_fd64de8c4a2fc5ebb0e9f4...      5  209.983994   \n",
       "5dc8cea7659e181adb076a3f_fd64de8c4a2fc5ebb0e9f4...      5  205.807724   \n",
       "5dc8cea7659e181adb076a3f_fd64de8c4a2fc5ebb0e9f4...      5  202.292267   \n",
       "5dc8cea7659e181adb076a3f_fd64de8c4a2fc5ebb0e9f4...      5  199.881561   \n",
       "\n",
       "                                                             y  \n",
       "site_path_timestamp                                             \n",
       "5a0546857ecc773753327266_046cfa46be49fc10834815...  102.605637  \n",
       "5a0546857ecc773753327266_046cfa46be49fc10834815...  102.008942  \n",
       "5a0546857ecc773753327266_046cfa46be49fc10834815...  104.619865  \n",
       "5a0546857ecc773753327266_046cfa46be49fc10834815...  105.741379  \n",
       "5a0546857ecc773753327266_046cfa46be49fc10834815...  105.548729  \n",
       "...                                                        ...  \n",
       "5dc8cea7659e181adb076a3f_fd64de8c4a2fc5ebb0e9f4...   90.171814  \n",
       "5dc8cea7659e181adb076a3f_fd64de8c4a2fc5ebb0e9f4...   99.197472  \n",
       "5dc8cea7659e181adb076a3f_fd64de8c4a2fc5ebb0e9f4...  105.314880  \n",
       "5dc8cea7659e181adb076a3f_fd64de8c4a2fc5ebb0e9f4...  111.906059  \n",
       "5dc8cea7659e181adb076a3f_fd64de8c4a2fc5ebb0e9f4...  111.624573  \n",
       "\n",
       "[10133 rows x 3 columns]"
      ],
      "text/html": "<div>\n<style scoped>\n    .dataframe tbody tr th:only-of-type {\n        vertical-align: middle;\n    }\n\n    .dataframe tbody tr th {\n        vertical-align: top;\n    }\n\n    .dataframe thead th {\n        text-align: right;\n    }\n</style>\n<table border=\"1\" class=\"dataframe\">\n  <thead>\n    <tr style=\"text-align: right;\">\n      <th></th>\n      <th>floor</th>\n      <th>x</th>\n      <th>y</th>\n    </tr>\n    <tr>\n      <th>site_path_timestamp</th>\n      <th></th>\n      <th></th>\n      <th></th>\n    </tr>\n  </thead>\n  <tbody>\n    <tr>\n      <th>5a0546857ecc773753327266_046cfa46be49fc10834815c6_0000000000009</th>\n      <td>0</td>\n      <td>87.954796</td>\n      <td>102.605637</td>\n    </tr>\n    <tr>\n      <th>5a0546857ecc773753327266_046cfa46be49fc10834815c6_0000000009017</th>\n      <td>0</td>\n      <td>84.130959</td>\n      <td>102.008942</td>\n    </tr>\n    <tr>\n      <th>5a0546857ecc773753327266_046cfa46be49fc10834815c6_0000000015326</th>\n      <td>0</td>\n      <td>86.090317</td>\n      <td>104.619865</td>\n    </tr>\n    <tr>\n      <th>5a0546857ecc773753327266_046cfa46be49fc10834815c6_0000000018763</th>\n      <td>0</td>\n      <td>87.595718</td>\n      <td>105.741379</td>\n    </tr>\n    <tr>\n      <th>5a0546857ecc773753327266_046cfa46be49fc10834815c6_0000000022328</th>\n      <td>0</td>\n      <td>86.149513</td>\n      <td>105.548729</td>\n    </tr>\n    <tr>\n      <th>...</th>\n      <td>...</td>\n      <td>...</td>\n      <td>...</td>\n    </tr>\n    <tr>\n      <th>5dc8cea7659e181adb076a3f_fd64de8c4a2fc5ebb0e9f412_0000000082589</th>\n      <td>5</td>\n      <td>214.097397</td>\n      <td>90.171814</td>\n    </tr>\n    <tr>\n      <th>5dc8cea7659e181adb076a3f_fd64de8c4a2fc5ebb0e9f412_0000000085758</th>\n      <td>5</td>\n      <td>209.983994</td>\n      <td>99.197472</td>\n    </tr>\n    <tr>\n      <th>5dc8cea7659e181adb076a3f_fd64de8c4a2fc5ebb0e9f412_0000000090895</th>\n      <td>5</td>\n      <td>205.807724</td>\n      <td>105.314880</td>\n    </tr>\n    <tr>\n      <th>5dc8cea7659e181adb076a3f_fd64de8c4a2fc5ebb0e9f412_0000000096899</th>\n      <td>5</td>\n      <td>202.292267</td>\n      <td>111.906059</td>\n    </tr>\n    <tr>\n      <th>5dc8cea7659e181adb076a3f_fd64de8c4a2fc5ebb0e9f412_0000000100447</th>\n      <td>5</td>\n      <td>199.881561</td>\n      <td>111.624573</td>\n    </tr>\n  </tbody>\n</table>\n<p>10133 rows × 3 columns</p>\n</div>"
     },
     "metadata": {},
     "execution_count": 24
    }
   ],
   "source": [
    "# floorの数値を置換\n",
    "simple_accurate_99 = pd.read_csv(root_dir / 'simple-99-accurate-floor-model/submission.csv')\n",
    "sub['floor'] = simple_accurate_99['floor'].values\n",
    "sub"
   ]
  },
  {
   "cell_type": "code",
   "execution_count": 25,
   "metadata": {},
   "outputs": [
    {
     "output_type": "stream",
     "name": "stdout",
     "text": [
      "CV:8.217586046438461\n"
     ]
    }
   ],
   "source": [
    "# waypoint補正前のx,yでの評価\n",
    "oof_score = mean_position_error(\n",
    "    oofs_df['oof_x'], oofs_df['oof_y'], 0, \n",
    "    oofs_df['x'], oofs_df['y'], 0\n",
    "    )\n",
    "print(f\"CV:{oof_score}\")"
   ]
  },
  {
   "cell_type": "code",
   "execution_count": 26,
   "metadata": {},
   "outputs": [
    {
     "output_type": "stream",
     "name": "stdout",
     "text": [
      "CV:7.7150609628091225\n"
     ]
    }
   ],
   "source": [
    "# waypoint補正後のx,yでの評価\n",
    "oof_score = mean_position_error(\n",
    "    oofs_df['oof_x'], oofs_df['oof_y'], 0, \n",
    "    oofs_df['wifi_x'], oofs_df['wifi_y'], 0\n",
    "    )\n",
    "print(f\"CV:{oof_score}\")"
   ]
  },
  {
   "cell_type": "code",
   "execution_count": 27,
   "metadata": {},
   "outputs": [],
   "source": [
    "def calc_metrics_site(x_pred, y_pred, f_pred, x_true, y_true, f_true, site_arr):\n",
    "    '''\n",
    "    site_arrは、intじゃなくて、\"B1\", \"F2\"みたいな感じで入力\n",
    "    site_arr = le_site.inverse_transform(df_train.site_id)\n",
    "    '''\n",
    "    site_arr = np.asarray(site_arr)\n",
    "    site_unique = sorted(np.unique(site_arr))\n",
    "    score_list = []\n",
    "    n_sample = []\n",
    "    for site in site_unique:\n",
    "        logics = site_arr == site\n",
    "        x_pred_, y_pred_, f_pred_ = x_pred[logics], y_pred[logics], f_pred[logics]\n",
    "        x_true_, y_true_, f_true_, = x_true[logics], y_true[logics], f_true[logics]\n",
    "        len_x = len(x_pred_)\n",
    "        \n",
    "        intermediate = np.sqrt(np.power(x_pred_-x_true_, 2) + np.power(y_pred_-y_true_, 2)) + 15 * np.abs(f_pred_-f_true_)\n",
    "        \n",
    "        score_list.append(intermediate.sum()/len_x)\n",
    "        n_sample.append(len_x)\n",
    "    \n",
    "    df_result = pd.DataFrame({\n",
    "        'site': site_unique,\n",
    "        'n_sample': n_sample,\n",
    "        'score': score_list,\n",
    "    })\n",
    "    return df_result\n",
    "\n",
    "import pytablewriter\n",
    "def site_eval_report(df_result_site):\n",
    "    df_result_site.insert(loc=0, column='No', value=df_result_site.index)\n",
    "    writer = pytablewriter.MarkdownTableWriter()\n",
    "    writer.from_dataframe(df_result_site)\n",
    "    writer.write_table()"
   ]
  },
  {
   "cell_type": "code",
   "execution_count": 68,
   "metadata": {},
   "outputs": [
    {
     "output_type": "execute_result",
     "data": {
      "text/plain": [
       "<pandas.io.formats.style.Styler at 0x7f02b8f9f460>"
      ],
      "text/html": "<style  type=\"text/css\" >\n#T_ae03c066_92ed_11eb_bff0_e996809fb442row0_col1{\n            width:  10em;\n             height:  80%;\n            background:  linear-gradient(90deg,teal 31.6%, transparent 31.6%);\n        }#T_ae03c066_92ed_11eb_bff0_e996809fb442row0_col2{\n            width:  10em;\n             height:  80%;\n            background:  linear-gradient(90deg,teal 12.6%, transparent 12.6%);\n        }#T_ae03c066_92ed_11eb_bff0_e996809fb442row1_col1{\n            width:  10em;\n             height:  80%;\n            background:  linear-gradient(90deg,teal 33.7%, transparent 33.7%);\n        }#T_ae03c066_92ed_11eb_bff0_e996809fb442row1_col2{\n            width:  10em;\n             height:  80%;\n            background:  linear-gradient(90deg,teal 57.2%, transparent 57.2%);\n        }#T_ae03c066_92ed_11eb_bff0_e996809fb442row2_col1,#T_ae03c066_92ed_11eb_bff0_e996809fb442row4_col2{\n            width:  10em;\n             height:  80%;\n            background:  linear-gradient(90deg,teal 100.0%, transparent 100.0%);\n        }#T_ae03c066_92ed_11eb_bff0_e996809fb442row2_col2{\n            width:  10em;\n             height:  80%;\n            background:  linear-gradient(90deg,teal 43.1%, transparent 43.1%);\n        }#T_ae03c066_92ed_11eb_bff0_e996809fb442row3_col1{\n            width:  10em;\n             height:  80%;\n            background:  linear-gradient(90deg,teal 30.7%, transparent 30.7%);\n        }#T_ae03c066_92ed_11eb_bff0_e996809fb442row3_col2{\n            width:  10em;\n             height:  80%;\n            background:  linear-gradient(90deg,teal 5.2%, transparent 5.2%);\n        }#T_ae03c066_92ed_11eb_bff0_e996809fb442row4_col1{\n            width:  10em;\n             height:  80%;\n            background:  linear-gradient(90deg,teal 37.4%, transparent 37.4%);\n        }#T_ae03c066_92ed_11eb_bff0_e996809fb442row5_col1{\n            width:  10em;\n             height:  80%;\n            background:  linear-gradient(90deg,teal 7.6%, transparent 7.6%);\n        }#T_ae03c066_92ed_11eb_bff0_e996809fb442row5_col2{\n            width:  10em;\n             height:  80%;\n            background:  linear-gradient(90deg,teal 40.6%, transparent 40.6%);\n        }#T_ae03c066_92ed_11eb_bff0_e996809fb442row6_col1{\n            width:  10em;\n             height:  80%;\n            background:  linear-gradient(90deg,teal 6.1%, transparent 6.1%);\n        }#T_ae03c066_92ed_11eb_bff0_e996809fb442row6_col2{\n            width:  10em;\n             height:  80%;\n            background:  linear-gradient(90deg,teal 16.2%, transparent 16.2%);\n        }#T_ae03c066_92ed_11eb_bff0_e996809fb442row7_col1{\n            width:  10em;\n             height:  80%;\n            background:  linear-gradient(90deg,teal 60.4%, transparent 60.4%);\n        }#T_ae03c066_92ed_11eb_bff0_e996809fb442row7_col2{\n            width:  10em;\n             height:  80%;\n            background:  linear-gradient(90deg,teal 23.3%, transparent 23.3%);\n        }#T_ae03c066_92ed_11eb_bff0_e996809fb442row8_col1{\n            width:  10em;\n             height:  80%;\n            background:  linear-gradient(90deg,teal 69.2%, transparent 69.2%);\n        }#T_ae03c066_92ed_11eb_bff0_e996809fb442row8_col2{\n            width:  10em;\n             height:  80%;\n            background:  linear-gradient(90deg,teal 75.9%, transparent 75.9%);\n        }#T_ae03c066_92ed_11eb_bff0_e996809fb442row9_col1{\n            width:  10em;\n             height:  80%;\n            background:  linear-gradient(90deg,teal 35.3%, transparent 35.3%);\n        }#T_ae03c066_92ed_11eb_bff0_e996809fb442row9_col2{\n            width:  10em;\n             height:  80%;\n            background:  linear-gradient(90deg,teal 31.5%, transparent 31.5%);\n        }#T_ae03c066_92ed_11eb_bff0_e996809fb442row10_col1{\n            width:  10em;\n             height:  80%;\n            background:  linear-gradient(90deg,teal 35.1%, transparent 35.1%);\n        }#T_ae03c066_92ed_11eb_bff0_e996809fb442row10_col2{\n            width:  10em;\n             height:  80%;\n            background:  linear-gradient(90deg,teal 56.7%, transparent 56.7%);\n        }#T_ae03c066_92ed_11eb_bff0_e996809fb442row11_col1{\n            width:  10em;\n             height:  80%;\n            background:  linear-gradient(90deg,teal 39.9%, transparent 39.9%);\n        }#T_ae03c066_92ed_11eb_bff0_e996809fb442row11_col2{\n            width:  10em;\n             height:  80%;\n            background:  linear-gradient(90deg,teal 71.5%, transparent 71.5%);\n        }#T_ae03c066_92ed_11eb_bff0_e996809fb442row12_col1,#T_ae03c066_92ed_11eb_bff0_e996809fb442row15_col2{\n            width:  10em;\n             height:  80%;\n        }#T_ae03c066_92ed_11eb_bff0_e996809fb442row12_col2{\n            width:  10em;\n             height:  80%;\n            background:  linear-gradient(90deg,teal 42.1%, transparent 42.1%);\n        }#T_ae03c066_92ed_11eb_bff0_e996809fb442row13_col1,#T_ae03c066_92ed_11eb_bff0_e996809fb442row14_col1{\n            width:  10em;\n             height:  80%;\n            background:  linear-gradient(90deg,teal 30.2%, transparent 30.2%);\n        }#T_ae03c066_92ed_11eb_bff0_e996809fb442row13_col2{\n            width:  10em;\n             height:  80%;\n            background:  linear-gradient(90deg,teal 48.6%, transparent 48.6%);\n        }#T_ae03c066_92ed_11eb_bff0_e996809fb442row14_col2{\n            width:  10em;\n             height:  80%;\n            background:  linear-gradient(90deg,teal 2.1%, transparent 2.1%);\n        }#T_ae03c066_92ed_11eb_bff0_e996809fb442row15_col1{\n            width:  10em;\n             height:  80%;\n            background:  linear-gradient(90deg,teal 0.5%, transparent 0.5%);\n        }#T_ae03c066_92ed_11eb_bff0_e996809fb442row16_col1{\n            width:  10em;\n             height:  80%;\n            background:  linear-gradient(90deg,teal 50.2%, transparent 50.2%);\n        }#T_ae03c066_92ed_11eb_bff0_e996809fb442row16_col2{\n            width:  10em;\n             height:  80%;\n            background:  linear-gradient(90deg,teal 87.8%, transparent 87.8%);\n        }#T_ae03c066_92ed_11eb_bff0_e996809fb442row17_col1{\n            width:  10em;\n             height:  80%;\n            background:  linear-gradient(90deg,teal 21.5%, transparent 21.5%);\n        }#T_ae03c066_92ed_11eb_bff0_e996809fb442row17_col2{\n            width:  10em;\n             height:  80%;\n            background:  linear-gradient(90deg,teal 51.6%, transparent 51.6%);\n        }#T_ae03c066_92ed_11eb_bff0_e996809fb442row18_col1{\n            width:  10em;\n             height:  80%;\n            background:  linear-gradient(90deg,teal 32.2%, transparent 32.2%);\n        }#T_ae03c066_92ed_11eb_bff0_e996809fb442row18_col2{\n            width:  10em;\n             height:  80%;\n            background:  linear-gradient(90deg,teal 42.4%, transparent 42.4%);\n        }#T_ae03c066_92ed_11eb_bff0_e996809fb442row19_col1{\n            width:  10em;\n             height:  80%;\n            background:  linear-gradient(90deg,teal 17.4%, transparent 17.4%);\n        }#T_ae03c066_92ed_11eb_bff0_e996809fb442row19_col2{\n            width:  10em;\n             height:  80%;\n            background:  linear-gradient(90deg,teal 47.7%, transparent 47.7%);\n        }#T_ae03c066_92ed_11eb_bff0_e996809fb442row20_col1{\n            width:  10em;\n             height:  80%;\n            background:  linear-gradient(90deg,teal 70.1%, transparent 70.1%);\n        }#T_ae03c066_92ed_11eb_bff0_e996809fb442row20_col2{\n            width:  10em;\n             height:  80%;\n            background:  linear-gradient(90deg,teal 89.1%, transparent 89.1%);\n        }#T_ae03c066_92ed_11eb_bff0_e996809fb442row21_col1{\n            width:  10em;\n             height:  80%;\n            background:  linear-gradient(90deg,teal 59.4%, transparent 59.4%);\n        }#T_ae03c066_92ed_11eb_bff0_e996809fb442row21_col2{\n            width:  10em;\n             height:  80%;\n            background:  linear-gradient(90deg,teal 50.9%, transparent 50.9%);\n        }#T_ae03c066_92ed_11eb_bff0_e996809fb442row22_col1{\n            width:  10em;\n             height:  80%;\n            background:  linear-gradient(90deg,teal 64.3%, transparent 64.3%);\n        }#T_ae03c066_92ed_11eb_bff0_e996809fb442row22_col2{\n            width:  10em;\n             height:  80%;\n            background:  linear-gradient(90deg,teal 60.8%, transparent 60.8%);\n        }#T_ae03c066_92ed_11eb_bff0_e996809fb442row23_col1{\n            width:  10em;\n             height:  80%;\n            background:  linear-gradient(90deg,teal 61.9%, transparent 61.9%);\n        }#T_ae03c066_92ed_11eb_bff0_e996809fb442row23_col2{\n            width:  10em;\n             height:  80%;\n            background:  linear-gradient(90deg,teal 69.3%, transparent 69.3%);\n        }</style><table id=\"T_ae03c066_92ed_11eb_bff0_e996809fb442\" ><thead>    <tr>        <th class=\"blank level0\" ></th>        <th class=\"col_heading level0 col0\" >site</th>        <th class=\"col_heading level0 col1\" >n_sample</th>        <th class=\"col_heading level0 col2\" >score</th>    </tr></thead><tbody>\n                <tr>\n                        <th id=\"T_ae03c066_92ed_11eb_bff0_e996809fb442level0_row0\" class=\"row_heading level0 row0\" >0</th>\n                        <td id=\"T_ae03c066_92ed_11eb_bff0_e996809fb442row0_col0\" class=\"data row0 col0\" >5a0546857ecc773753327266</td>\n                        <td id=\"T_ae03c066_92ed_11eb_bff0_e996809fb442row0_col1\" class=\"data row0 col1\" >9296</td>\n                        <td id=\"T_ae03c066_92ed_11eb_bff0_e996809fb442row0_col2\" class=\"data row0 col2\" >5.155268</td>\n            </tr>\n            <tr>\n                        <th id=\"T_ae03c066_92ed_11eb_bff0_e996809fb442level0_row1\" class=\"row_heading level0 row1\" >1</th>\n                        <td id=\"T_ae03c066_92ed_11eb_bff0_e996809fb442row1_col0\" class=\"data row1 col0\" >5c3c44b80379370013e0fd2b</td>\n                        <td id=\"T_ae03c066_92ed_11eb_bff0_e996809fb442row1_col1\" class=\"data row1 col1\" >9737</td>\n                        <td id=\"T_ae03c066_92ed_11eb_bff0_e996809fb442row1_col2\" class=\"data row1 col2\" >8.013753</td>\n            </tr>\n            <tr>\n                        <th id=\"T_ae03c066_92ed_11eb_bff0_e996809fb442level0_row2\" class=\"row_heading level0 row2\" >2</th>\n                        <td id=\"T_ae03c066_92ed_11eb_bff0_e996809fb442row2_col0\" class=\"data row2 col0\" >5d27075f03f801723c2e360f</td>\n                        <td id=\"T_ae03c066_92ed_11eb_bff0_e996809fb442row2_col1\" class=\"data row2 col1\" >23666</td>\n                        <td id=\"T_ae03c066_92ed_11eb_bff0_e996809fb442row2_col2\" class=\"data row2 col2\" >7.111779</td>\n            </tr>\n            <tr>\n                        <th id=\"T_ae03c066_92ed_11eb_bff0_e996809fb442level0_row3\" class=\"row_heading level0 row3\" >3</th>\n                        <td id=\"T_ae03c066_92ed_11eb_bff0_e996809fb442row3_col0\" class=\"data row3 col0\" >5d27096c03f801723c31e5e0</td>\n                        <td id=\"T_ae03c066_92ed_11eb_bff0_e996809fb442row3_col1\" class=\"data row3 col1\" >9100</td>\n                        <td id=\"T_ae03c066_92ed_11eb_bff0_e996809fb442row3_col2\" class=\"data row3 col2\" >4.682105</td>\n            </tr>\n            <tr>\n                        <th id=\"T_ae03c066_92ed_11eb_bff0_e996809fb442level0_row4\" class=\"row_heading level0 row4\" >4</th>\n                        <td id=\"T_ae03c066_92ed_11eb_bff0_e996809fb442row4_col0\" class=\"data row4 col0\" >5d27097f03f801723c320d97</td>\n                        <td id=\"T_ae03c066_92ed_11eb_bff0_e996809fb442row4_col1\" class=\"data row4 col1\" >10507</td>\n                        <td id=\"T_ae03c066_92ed_11eb_bff0_e996809fb442row4_col2\" class=\"data row4 col2\" >10.757988</td>\n            </tr>\n            <tr>\n                        <th id=\"T_ae03c066_92ed_11eb_bff0_e996809fb442level0_row5\" class=\"row_heading level0 row5\" >5</th>\n                        <td id=\"T_ae03c066_92ed_11eb_bff0_e996809fb442row5_col0\" class=\"data row5 col0\" >5d27099f03f801723c32511d</td>\n                        <td id=\"T_ae03c066_92ed_11eb_bff0_e996809fb442row5_col1\" class=\"data row5 col1\" >4251</td>\n                        <td id=\"T_ae03c066_92ed_11eb_bff0_e996809fb442row5_col2\" class=\"data row5 col2\" >6.952029</td>\n            </tr>\n            <tr>\n                        <th id=\"T_ae03c066_92ed_11eb_bff0_e996809fb442level0_row6\" class=\"row_heading level0 row6\" >6</th>\n                        <td id=\"T_ae03c066_92ed_11eb_bff0_e996809fb442row6_col0\" class=\"data row6 col0\" >5d2709a003f801723c3251bf</td>\n                        <td id=\"T_ae03c066_92ed_11eb_bff0_e996809fb442row6_col1\" class=\"data row6 col1\" >3940</td>\n                        <td id=\"T_ae03c066_92ed_11eb_bff0_e996809fb442row6_col2\" class=\"data row6 col2\" >5.389814</td>\n            </tr>\n            <tr>\n                        <th id=\"T_ae03c066_92ed_11eb_bff0_e996809fb442level0_row7\" class=\"row_heading level0 row7\" >7</th>\n                        <td id=\"T_ae03c066_92ed_11eb_bff0_e996809fb442row7_col0\" class=\"data row7 col0\" >5d2709b303f801723c327472</td>\n                        <td id=\"T_ae03c066_92ed_11eb_bff0_e996809fb442row7_col1\" class=\"data row7 col1\" >15358</td>\n                        <td id=\"T_ae03c066_92ed_11eb_bff0_e996809fb442row7_col2\" class=\"data row7 col2\" >5.844538</td>\n            </tr>\n            <tr>\n                        <th id=\"T_ae03c066_92ed_11eb_bff0_e996809fb442level0_row8\" class=\"row_heading level0 row8\" >8</th>\n                        <td id=\"T_ae03c066_92ed_11eb_bff0_e996809fb442row8_col0\" class=\"data row8 col0\" >5d2709bb03f801723c32852c</td>\n                        <td id=\"T_ae03c066_92ed_11eb_bff0_e996809fb442row8_col1\" class=\"data row8 col1\" >17203</td>\n                        <td id=\"T_ae03c066_92ed_11eb_bff0_e996809fb442row8_col2\" class=\"data row8 col2\" >9.210884</td>\n            </tr>\n            <tr>\n                        <th id=\"T_ae03c066_92ed_11eb_bff0_e996809fb442level0_row9\" class=\"row_heading level0 row9\" >9</th>\n                        <td id=\"T_ae03c066_92ed_11eb_bff0_e996809fb442row9_col0\" class=\"data row9 col0\" >5d2709c303f801723c3299ee</td>\n                        <td id=\"T_ae03c066_92ed_11eb_bff0_e996809fb442row9_col1\" class=\"data row9 col1\" >10083</td>\n                        <td id=\"T_ae03c066_92ed_11eb_bff0_e996809fb442row9_col2\" class=\"data row9 col2\" >6.367946</td>\n            </tr>\n            <tr>\n                        <th id=\"T_ae03c066_92ed_11eb_bff0_e996809fb442level0_row10\" class=\"row_heading level0 row10\" >10</th>\n                        <td id=\"T_ae03c066_92ed_11eb_bff0_e996809fb442row10_col0\" class=\"data row10 col0\" >5d2709d403f801723c32bd39</td>\n                        <td id=\"T_ae03c066_92ed_11eb_bff0_e996809fb442row10_col1\" class=\"data row10 col1\" >10027</td>\n                        <td id=\"T_ae03c066_92ed_11eb_bff0_e996809fb442row10_col2\" class=\"data row10 col2\" >7.982207</td>\n            </tr>\n            <tr>\n                        <th id=\"T_ae03c066_92ed_11eb_bff0_e996809fb442level0_row11\" class=\"row_heading level0 row11\" >11</th>\n                        <td id=\"T_ae03c066_92ed_11eb_bff0_e996809fb442row11_col0\" class=\"data row11 col0\" >5d2709e003f801723c32d896</td>\n                        <td id=\"T_ae03c066_92ed_11eb_bff0_e996809fb442row11_col1\" class=\"data row11 col1\" >11042</td>\n                        <td id=\"T_ae03c066_92ed_11eb_bff0_e996809fb442row11_col2\" class=\"data row11 col2\" >8.933034</td>\n            </tr>\n            <tr>\n                        <th id=\"T_ae03c066_92ed_11eb_bff0_e996809fb442level0_row12\" class=\"row_heading level0 row12\" >12</th>\n                        <td id=\"T_ae03c066_92ed_11eb_bff0_e996809fb442row12_col0\" class=\"data row12 col0\" >5da138274db8ce0c98bbd3d2</td>\n                        <td id=\"T_ae03c066_92ed_11eb_bff0_e996809fb442row12_col1\" class=\"data row12 col1\" >2662</td>\n                        <td id=\"T_ae03c066_92ed_11eb_bff0_e996809fb442row12_col2\" class=\"data row12 col2\" >7.046728</td>\n            </tr>\n            <tr>\n                        <th id=\"T_ae03c066_92ed_11eb_bff0_e996809fb442level0_row13\" class=\"row_heading level0 row13\" >13</th>\n                        <td id=\"T_ae03c066_92ed_11eb_bff0_e996809fb442row13_col0\" class=\"data row13 col0\" >5da1382d4db8ce0c98bbe92e</td>\n                        <td id=\"T_ae03c066_92ed_11eb_bff0_e996809fb442row13_col1\" class=\"data row13 col1\" >8999</td>\n                        <td id=\"T_ae03c066_92ed_11eb_bff0_e996809fb442row13_col2\" class=\"data row13 col2\" >7.466963</td>\n            </tr>\n            <tr>\n                        <th id=\"T_ae03c066_92ed_11eb_bff0_e996809fb442level0_row14\" class=\"row_heading level0 row14\" >14</th>\n                        <td id=\"T_ae03c066_92ed_11eb_bff0_e996809fb442row14_col0\" class=\"data row14 col0\" >5da138314db8ce0c98bbf3a0</td>\n                        <td id=\"T_ae03c066_92ed_11eb_bff0_e996809fb442row14_col1\" class=\"data row14 col1\" >9012</td>\n                        <td id=\"T_ae03c066_92ed_11eb_bff0_e996809fb442row14_col2\" class=\"data row14 col2\" >4.483965</td>\n            </tr>\n            <tr>\n                        <th id=\"T_ae03c066_92ed_11eb_bff0_e996809fb442level0_row15\" class=\"row_heading level0 row15\" >15</th>\n                        <td id=\"T_ae03c066_92ed_11eb_bff0_e996809fb442row15_col0\" class=\"data row15 col0\" >5da138364db8ce0c98bc00f1</td>\n                        <td id=\"T_ae03c066_92ed_11eb_bff0_e996809fb442row15_col1\" class=\"data row15 col1\" >2767</td>\n                        <td id=\"T_ae03c066_92ed_11eb_bff0_e996809fb442row15_col2\" class=\"data row15 col2\" >4.349785</td>\n            </tr>\n            <tr>\n                        <th id=\"T_ae03c066_92ed_11eb_bff0_e996809fb442level0_row16\" class=\"row_heading level0 row16\" >16</th>\n                        <td id=\"T_ae03c066_92ed_11eb_bff0_e996809fb442row16_col0\" class=\"data row16 col0\" >5da1383b4db8ce0c98bc11ab</td>\n                        <td id=\"T_ae03c066_92ed_11eb_bff0_e996809fb442row16_col1\" class=\"data row16 col1\" >13196</td>\n                        <td id=\"T_ae03c066_92ed_11eb_bff0_e996809fb442row16_col2\" class=\"data row16 col2\" >9.978154</td>\n            </tr>\n            <tr>\n                        <th id=\"T_ae03c066_92ed_11eb_bff0_e996809fb442level0_row17\" class=\"row_heading level0 row17\" >17</th>\n                        <td id=\"T_ae03c066_92ed_11eb_bff0_e996809fb442row17_col0\" class=\"data row17 col0\" >5da138754db8ce0c98bca82f</td>\n                        <td id=\"T_ae03c066_92ed_11eb_bff0_e996809fb442row17_col1\" class=\"data row17 col1\" >7188</td>\n                        <td id=\"T_ae03c066_92ed_11eb_bff0_e996809fb442row17_col2\" class=\"data row17 col2\" >7.655483</td>\n            </tr>\n            <tr>\n                        <th id=\"T_ae03c066_92ed_11eb_bff0_e996809fb442level0_row18\" class=\"row_heading level0 row18\" >18</th>\n                        <td id=\"T_ae03c066_92ed_11eb_bff0_e996809fb442row18_col0\" class=\"data row18 col0\" >5da138764db8ce0c98bcaa46</td>\n                        <td id=\"T_ae03c066_92ed_11eb_bff0_e996809fb442row18_col1\" class=\"data row18 col1\" >9420</td>\n                        <td id=\"T_ae03c066_92ed_11eb_bff0_e996809fb442row18_col2\" class=\"data row18 col2\" >7.068881</td>\n            </tr>\n            <tr>\n                        <th id=\"T_ae03c066_92ed_11eb_bff0_e996809fb442level0_row19\" class=\"row_heading level0 row19\" >19</th>\n                        <td id=\"T_ae03c066_92ed_11eb_bff0_e996809fb442row19_col0\" class=\"data row19 col0\" >5da1389e4db8ce0c98bd0547</td>\n                        <td id=\"T_ae03c066_92ed_11eb_bff0_e996809fb442row19_col1\" class=\"data row19 col1\" >6312</td>\n                        <td id=\"T_ae03c066_92ed_11eb_bff0_e996809fb442row19_col2\" class=\"data row19 col2\" >7.405031</td>\n            </tr>\n            <tr>\n                        <th id=\"T_ae03c066_92ed_11eb_bff0_e996809fb442level0_row20\" class=\"row_heading level0 row20\" >20</th>\n                        <td id=\"T_ae03c066_92ed_11eb_bff0_e996809fb442row20_col0\" class=\"data row20 col0\" >5da138b74db8ce0c98bd4774</td>\n                        <td id=\"T_ae03c066_92ed_11eb_bff0_e996809fb442row20_col1\" class=\"data row20 col1\" >17382</td>\n                        <td id=\"T_ae03c066_92ed_11eb_bff0_e996809fb442row20_col2\" class=\"data row20 col2\" >10.062190</td>\n            </tr>\n            <tr>\n                        <th id=\"T_ae03c066_92ed_11eb_bff0_e996809fb442level0_row21\" class=\"row_heading level0 row21\" >21</th>\n                        <td id=\"T_ae03c066_92ed_11eb_bff0_e996809fb442row21_col0\" class=\"data row21 col0\" >5da958dd46f8266d0737457b</td>\n                        <td id=\"T_ae03c066_92ed_11eb_bff0_e996809fb442row21_col1\" class=\"data row21 col1\" >15148</td>\n                        <td id=\"T_ae03c066_92ed_11eb_bff0_e996809fb442row21_col2\" class=\"data row21 col2\" >7.611085</td>\n            </tr>\n            <tr>\n                        <th id=\"T_ae03c066_92ed_11eb_bff0_e996809fb442level0_row22\" class=\"row_heading level0 row22\" >22</th>\n                        <td id=\"T_ae03c066_92ed_11eb_bff0_e996809fb442row22_col0\" class=\"data row22 col0\" >5dbc1d84c1eb61796cf7c010</td>\n                        <td id=\"T_ae03c066_92ed_11eb_bff0_e996809fb442row22_col1\" class=\"data row22 col1\" >16174</td>\n                        <td id=\"T_ae03c066_92ed_11eb_bff0_e996809fb442row22_col2\" class=\"data row22 col2\" >8.246341</td>\n            </tr>\n            <tr>\n                        <th id=\"T_ae03c066_92ed_11eb_bff0_e996809fb442level0_row23\" class=\"row_heading level0 row23\" >23</th>\n                        <td id=\"T_ae03c066_92ed_11eb_bff0_e996809fb442row23_col0\" class=\"data row23 col0\" >5dc8cea7659e181adb076a3f</td>\n                        <td id=\"T_ae03c066_92ed_11eb_bff0_e996809fb442row23_col1\" class=\"data row23 col1\" >15655</td>\n                        <td id=\"T_ae03c066_92ed_11eb_bff0_e996809fb442row23_col2\" class=\"data row23 col2\" >8.793492</td>\n            </tr>\n    </tbody></table>"
     },
     "metadata": {},
     "execution_count": 68
    }
   ],
   "source": [
    "x_pred = oofs_df[\"oof_x\"]\n",
    "y_pred = oofs_df[\"oof_y\"]\n",
    "f_pred = oofs_df[\"floor\"]  # 正解を与える\n",
    "x_true = oofs_df[\"wifi_x\"]\n",
    "y_true = oofs_df[\"wifi_y\"]\n",
    "f_true = oofs_df[\"floor\"]\n",
    "site_arr = oofs_df[\"site_id_str\"]\n",
    "df_result_site1 = calc_metrics_site(x_pred, y_pred, f_pred, x_true, y_true, f_true, site_arr)\n",
    "df_result_site1.style.bar(subset=['n_sample', 'score'], color=['teal'])"
   ]
  },
  {
   "cell_type": "code",
   "execution_count": 69,
   "metadata": {},
   "outputs": [
    {
     "output_type": "stream",
     "name": "stdout",
     "text": [
      "|No |          site          |n_sample|score |\n|--:|------------------------|-------:|-----:|\n|  0|5a0546857ecc773753327266|    9296| 5.155|\n|  1|5c3c44b80379370013e0fd2b|    9737| 8.014|\n|  2|5d27075f03f801723c2e360f|   23666| 7.112|\n|  3|5d27096c03f801723c31e5e0|    9100| 4.682|\n|  4|5d27097f03f801723c320d97|   10507|10.758|\n|  5|5d27099f03f801723c32511d|    4251| 6.952|\n|  6|5d2709a003f801723c3251bf|    3940| 5.390|\n|  7|5d2709b303f801723c327472|   15358| 5.845|\n|  8|5d2709bb03f801723c32852c|   17203| 9.211|\n|  9|5d2709c303f801723c3299ee|   10083| 6.368|\n| 10|5d2709d403f801723c32bd39|   10027| 7.982|\n| 11|5d2709e003f801723c32d896|   11042| 8.933|\n| 12|5da138274db8ce0c98bbd3d2|    2662| 7.047|\n| 13|5da1382d4db8ce0c98bbe92e|    8999| 7.467|\n| 14|5da138314db8ce0c98bbf3a0|    9012| 4.484|\n| 15|5da138364db8ce0c98bc00f1|    2767| 4.350|\n| 16|5da1383b4db8ce0c98bc11ab|   13196| 9.978|\n| 17|5da138754db8ce0c98bca82f|    7188| 7.655|\n| 18|5da138764db8ce0c98bcaa46|    9420| 7.069|\n| 19|5da1389e4db8ce0c98bd0547|    6312| 7.405|\n| 20|5da138b74db8ce0c98bd4774|   17382|10.062|\n| 21|5da958dd46f8266d0737457b|   15148| 7.611|\n| 22|5dbc1d84c1eb61796cf7c010|   16174| 8.246|\n| 23|5dc8cea7659e181adb076a3f|   15655| 8.793|\n"
     ]
    }
   ],
   "source": [
    "site_eval_report(df_result_site1)"
   ]
  },
  {
   "cell_type": "code",
   "execution_count": 29,
   "metadata": {},
   "outputs": [],
   "source": [
    "# sub.to_csv(EXP_NAME + '_sub.csv')"
   ]
  },
  {
   "source": [
    "## 後処理"
   ],
   "cell_type": "markdown",
   "metadata": {}
  },
  {
   "source": [
    "## cost minimaization"
   ],
   "cell_type": "markdown",
   "metadata": {}
  },
  {
   "cell_type": "code",
   "execution_count": 30,
   "metadata": {},
   "outputs": [],
   "source": [
    "import multiprocessing\n",
    "import scipy.interpolate\n",
    "import scipy.sparse\n",
    "from tqdm import tqdm\n",
    "import sys\n",
    "sys.path.append('../../')\n",
    "from src.io_f import read_data_file\n",
    "from src import compute_f"
   ]
  },
  {
   "cell_type": "code",
   "execution_count": 31,
   "metadata": {},
   "outputs": [],
   "source": [
    "def compute_rel_positions(acce_datas, ahrs_datas):\n",
    "    step_timestamps, step_indexs, step_acce_max_mins = compute_f.compute_steps(acce_datas)\n",
    "    headings = compute_f.compute_headings(ahrs_datas)\n",
    "    stride_lengths = compute_f.compute_stride_length(step_acce_max_mins)\n",
    "    step_headings = compute_f.compute_step_heading(step_timestamps, headings)\n",
    "    rel_positions = compute_f.compute_rel_positions(stride_lengths, step_headings)\n",
    "    return rel_positions\n",
    "    \n",
    "def correct_path(args):\n",
    "    path, path_df = args\n",
    "    \n",
    "    T_ref  = path_df['timestamp'].values\n",
    "    xy_hat = path_df[['x', 'y']].values\n",
    "    \n",
    "    example = read_data_file(f'{root_dir}/indoor-location-navigation/test/{path}.txt')\n",
    "    rel_positions = compute_rel_positions(example.acce, example.ahrs)\n",
    "    if T_ref[-1] > rel_positions[-1, 0]:\n",
    "        rel_positions = [np.array([[0, 0, 0]]), rel_positions, np.array([[T_ref[-1], 0, 0]])]\n",
    "    else:\n",
    "        rel_positions = [np.array([[0, 0, 0]]), rel_positions]\n",
    "    rel_positions = np.concatenate(rel_positions)\n",
    "    \n",
    "    T_rel = rel_positions[:, 0]\n",
    "    delta_xy_hat = np.diff(scipy.interpolate.interp1d(T_rel, np.cumsum(rel_positions[:, 1:3], axis=0), axis=0)(T_ref), axis=0)\n",
    "\n",
    "    N = xy_hat.shape[0]\n",
    "    delta_t = np.diff(T_ref)\n",
    "    alpha = (8.1)**(-2) * np.ones(N)\n",
    "    beta  = (0.3 + 0.3 * 1e-3 * delta_t)**(-2)\n",
    "    A = scipy.sparse.spdiags(alpha, [0], N, N)\n",
    "    B = scipy.sparse.spdiags( beta, [0], N-1, N-1)\n",
    "    D = scipy.sparse.spdiags(np.stack([-np.ones(N), np.ones(N)]), [0, 1], N-1, N)\n",
    "\n",
    "    Q = A + (D.T @ B @ D)\n",
    "    c = (A @ xy_hat) + (D.T @ (B @ delta_xy_hat))\n",
    "    xy_star = scipy.sparse.linalg.spsolve(Q, c)\n",
    "\n",
    "    return pd.DataFrame({\n",
    "        'site_path_timestamp' : path_df['site_path_timestamp'],\n",
    "        'floor' : path_df['floor'],\n",
    "        'x' : xy_star[:, 0],\n",
    "        'y' : xy_star[:, 1],\n",
    "    })\n",
    "\n",
    "def correct_path_train(args):\n",
    "    #print(args)\n",
    "    (site_id, path, floor), path_df = args\n",
    "    \n",
    "    T_ref  = path_df['timestamp'].values\n",
    "    xy_hat = path_df[['x', 'y']].values\n",
    "    \n",
    "    example = read_data_file(f'{root_dir}/indoor-location-navigation/train/{site_id}/{floor}/{path}.txt')\n",
    "    rel_positions = compute_rel_positions(example.acce, example.ahrs)\n",
    "    if T_ref[-1] > rel_positions[-1, 0]:\n",
    "        rel_positions = [np.array([[0, 0, 0]]), rel_positions, np.array([[T_ref[-1], 0, 0]])]\n",
    "    else:\n",
    "        rel_positions = [np.array([[0, 0, 0]]), rel_positions]\n",
    "    rel_positions = np.concatenate(rel_positions)\n",
    "    \n",
    "    T_rel = rel_positions[:, 0]\n",
    "\n",
    "    try:\n",
    "        delta_xy_hat = np.diff(scipy.interpolate.interp1d(T_rel, np.cumsum(rel_positions[:, 1:3], axis=0), axis=0)(T_ref), axis=0)\n",
    "    except:\n",
    "        return pd.DataFrame({\n",
    "            'site_path_timestamp' : path_df['site_path_timestamp'],\n",
    "            'floor' : path_df['floor'],\n",
    "            'x' : path_df['x'].to_numpy(),\n",
    "            'y' : path_df['y'].to_numpy()\n",
    "        })\n",
    "    \n",
    "\n",
    "    N = xy_hat.shape[0]\n",
    "    delta_t = np.diff(T_ref)\n",
    "    alpha = (8.1)**(-2) * np.ones(N)\n",
    "    beta  = (0.3 + 0.3 * 1e-3 * delta_t)**(-2)\n",
    "    A = scipy.sparse.spdiags(alpha, [0], N, N)\n",
    "    B = scipy.sparse.spdiags( beta, [0], N-1, N-1)\n",
    "    D = scipy.sparse.spdiags(np.stack([-np.ones(N), np.ones(N)]), [0, 1], N-1, N)\n",
    "\n",
    "    Q = A + (D.T @ B @ D)\n",
    "    c = (A @ xy_hat) + (D.T @ (B @ delta_xy_hat))\n",
    "    xy_star = scipy.sparse.linalg.spsolve(Q, c)\n",
    "\n",
    "\n",
    "    return pd.DataFrame({\n",
    "        'site_path_timestamp' : path_df['site_path_timestamp'],\n",
    "        'floor' : path_df['floor'],\n",
    "        'x' : xy_star[:, 0],\n",
    "        'y' : xy_star[:, 1],\n",
    "    })"
   ]
  },
  {
   "cell_type": "code",
   "execution_count": 32,
   "metadata": {},
   "outputs": [
    {
     "output_type": "stream",
     "name": "stderr",
     "text": [
      "10852it [03:49, 47.19it/s]\n",
      "CPU times: user 41.5 s, sys: 8.24 s, total: 49.7 s\n",
      "Wall time: 3min 52s\n"
     ]
    },
    {
     "output_type": "execute_result",
     "data": {
      "text/plain": [
       "            timestamp   target_x    target_y  site_id  \\\n",
       "0       1561368762838   78.21819   38.999737        0   \n",
       "1       1561368762838   78.21819   38.999737        0   \n",
       "2       1561368774057   76.25184   30.510840        0   \n",
       "3       1561368774057   76.25184   30.510840        0   \n",
       "4       1561368774057   76.25184   30.510840        0   \n",
       "...               ...        ...         ...      ...   \n",
       "258120  1574420742502  193.20488  108.001520       23   \n",
       "258121  1574420742502  193.20488  108.001520       23   \n",
       "258122  1574420753754  204.29349  107.835120       23   \n",
       "258123  1574420753754  204.29349  107.835120       23   \n",
       "258124  1574420753754  204.29349  107.835120       23   \n",
       "\n",
       "                     site_id_str      wifi_x      wifi_y  floor floor_str  \\\n",
       "0       5a0546857ecc773753327266   77.890465   37.584921      2        F3   \n",
       "1       5a0546857ecc773753327266   77.562740   36.170105      2        F3   \n",
       "2       5a0546857ecc773753327266   77.235015   34.755289      2        F3   \n",
       "3       5a0546857ecc773753327266   77.202679   21.519628      2        F3   \n",
       "4       5a0546857ecc773753327266   76.991381   23.517675      2        F3   \n",
       "...                          ...         ...         ...    ...       ...   \n",
       "258120  5dc8cea7659e181adb076a3f  197.825134  107.932187     -1        B1   \n",
       "258121  5dc8cea7659e181adb076a3f  194.128931  107.987653     -1        B1   \n",
       "258122  5dc8cea7659e181adb076a3f  199.673236  107.904453     -1        B1   \n",
       "258123  5dc8cea7659e181adb076a3f  201.521337  107.876720     -1        B1   \n",
       "258124  5dc8cea7659e181adb076a3f  203.369439  107.848987     -1        B1   \n",
       "\n",
       "                            path  time_diff       oof_x       oof_y  \\\n",
       "0       5d10a1669c50c70008fe8977       1969   84.865143   39.419571   \n",
       "1       5d10a1669c50c70008fe8977       3966   87.870216   33.456242   \n",
       "2       5d10a1669c50c70008fe8977      -5250   82.229469   30.581415   \n",
       "3       5d10a1669c50c70008fe8977       8838   82.887291   28.168413   \n",
       "4       5d10a1669c50c70008fe8977       6812   80.341606   22.184681   \n",
       "...                          ...        ...         ...         ...   \n",
       "258120  5dd7c119c5b77e0006b16b99       4790  199.136230  104.263153   \n",
       "258121  5dd7c119c5b77e0006b16b99       1006  201.388168  103.995300   \n",
       "258122  5dd7c119c5b77e0006b16b99      -4550  199.976761  103.671677   \n",
       "258123  5dd7c119c5b77e0006b16b99      -2662  201.535706  104.701302   \n",
       "258124  5dd7c119c5b77e0006b16b99       -756  203.893616  102.690857   \n",
       "\n",
       "        oof_floor                                site_path_timestamp  \\\n",
       "0        0.207957  5a0546857ecc773753327266_5d10a1669c50c70008fe8...   \n",
       "1        0.206626  5a0546857ecc773753327266_5d10a1669c50c70008fe8...   \n",
       "2        0.211186  5a0546857ecc773753327266_5d10a1669c50c70008fe8...   \n",
       "3        0.208902  5a0546857ecc773753327266_5d10a1669c50c70008fe8...   \n",
       "4        0.212189  5a0546857ecc773753327266_5d10a1669c50c70008fe8...   \n",
       "...           ...                                                ...   \n",
       "258120   0.000000  5dc8cea7659e181adb076a3f_5dd7c119c5b77e0006b16...   \n",
       "258121   0.000000  5dc8cea7659e181adb076a3f_5dd7c119c5b77e0006b16...   \n",
       "258122   0.000000  5dc8cea7659e181adb076a3f_5dd7c119c5b77e0006b16...   \n",
       "258123   0.000000  5dc8cea7659e181adb076a3f_5dd7c119c5b77e0006b16...   \n",
       "258124   0.000000  5dc8cea7659e181adb076a3f_5dd7c119c5b77e0006b16...   \n",
       "\n",
       "         oof_min_x   oof_min_y  \n",
       "0        84.193822   35.990409  \n",
       "1        84.192901   35.985705  \n",
       "2        83.453731   27.580249  \n",
       "3        83.449445   27.574898  \n",
       "4        83.445930   27.568733  \n",
       "...            ...         ...  \n",
       "258120  199.920868  103.909185  \n",
       "258121  199.902156  103.904538  \n",
       "258122  206.853274  104.850549  \n",
       "258123  206.841957  104.847394  \n",
       "258124  206.837918  104.844440  \n",
       "\n",
       "[258125 rows x 17 columns]"
      ],
      "text/html": "<div>\n<style scoped>\n    .dataframe tbody tr th:only-of-type {\n        vertical-align: middle;\n    }\n\n    .dataframe tbody tr th {\n        vertical-align: top;\n    }\n\n    .dataframe thead th {\n        text-align: right;\n    }\n</style>\n<table border=\"1\" class=\"dataframe\">\n  <thead>\n    <tr style=\"text-align: right;\">\n      <th></th>\n      <th>timestamp</th>\n      <th>target_x</th>\n      <th>target_y</th>\n      <th>site_id</th>\n      <th>site_id_str</th>\n      <th>wifi_x</th>\n      <th>wifi_y</th>\n      <th>floor</th>\n      <th>floor_str</th>\n      <th>path</th>\n      <th>time_diff</th>\n      <th>oof_x</th>\n      <th>oof_y</th>\n      <th>oof_floor</th>\n      <th>site_path_timestamp</th>\n      <th>oof_min_x</th>\n      <th>oof_min_y</th>\n    </tr>\n  </thead>\n  <tbody>\n    <tr>\n      <th>0</th>\n      <td>1561368762838</td>\n      <td>78.21819</td>\n      <td>38.999737</td>\n      <td>0</td>\n      <td>5a0546857ecc773753327266</td>\n      <td>77.890465</td>\n      <td>37.584921</td>\n      <td>2</td>\n      <td>F3</td>\n      <td>5d10a1669c50c70008fe8977</td>\n      <td>1969</td>\n      <td>84.865143</td>\n      <td>39.419571</td>\n      <td>0.207957</td>\n      <td>5a0546857ecc773753327266_5d10a1669c50c70008fe8...</td>\n      <td>84.193822</td>\n      <td>35.990409</td>\n    </tr>\n    <tr>\n      <th>1</th>\n      <td>1561368762838</td>\n      <td>78.21819</td>\n      <td>38.999737</td>\n      <td>0</td>\n      <td>5a0546857ecc773753327266</td>\n      <td>77.562740</td>\n      <td>36.170105</td>\n      <td>2</td>\n      <td>F3</td>\n      <td>5d10a1669c50c70008fe8977</td>\n      <td>3966</td>\n      <td>87.870216</td>\n      <td>33.456242</td>\n      <td>0.206626</td>\n      <td>5a0546857ecc773753327266_5d10a1669c50c70008fe8...</td>\n      <td>84.192901</td>\n      <td>35.985705</td>\n    </tr>\n    <tr>\n      <th>2</th>\n      <td>1561368774057</td>\n      <td>76.25184</td>\n      <td>30.510840</td>\n      <td>0</td>\n      <td>5a0546857ecc773753327266</td>\n      <td>77.235015</td>\n      <td>34.755289</td>\n      <td>2</td>\n      <td>F3</td>\n      <td>5d10a1669c50c70008fe8977</td>\n      <td>-5250</td>\n      <td>82.229469</td>\n      <td>30.581415</td>\n      <td>0.211186</td>\n      <td>5a0546857ecc773753327266_5d10a1669c50c70008fe8...</td>\n      <td>83.453731</td>\n      <td>27.580249</td>\n    </tr>\n    <tr>\n      <th>3</th>\n      <td>1561368774057</td>\n      <td>76.25184</td>\n      <td>30.510840</td>\n      <td>0</td>\n      <td>5a0546857ecc773753327266</td>\n      <td>77.202679</td>\n      <td>21.519628</td>\n      <td>2</td>\n      <td>F3</td>\n      <td>5d10a1669c50c70008fe8977</td>\n      <td>8838</td>\n      <td>82.887291</td>\n      <td>28.168413</td>\n      <td>0.208902</td>\n      <td>5a0546857ecc773753327266_5d10a1669c50c70008fe8...</td>\n      <td>83.449445</td>\n      <td>27.574898</td>\n    </tr>\n    <tr>\n      <th>4</th>\n      <td>1561368774057</td>\n      <td>76.25184</td>\n      <td>30.510840</td>\n      <td>0</td>\n      <td>5a0546857ecc773753327266</td>\n      <td>76.991381</td>\n      <td>23.517675</td>\n      <td>2</td>\n      <td>F3</td>\n      <td>5d10a1669c50c70008fe8977</td>\n      <td>6812</td>\n      <td>80.341606</td>\n      <td>22.184681</td>\n      <td>0.212189</td>\n      <td>5a0546857ecc773753327266_5d10a1669c50c70008fe8...</td>\n      <td>83.445930</td>\n      <td>27.568733</td>\n    </tr>\n    <tr>\n      <th>...</th>\n      <td>...</td>\n      <td>...</td>\n      <td>...</td>\n      <td>...</td>\n      <td>...</td>\n      <td>...</td>\n      <td>...</td>\n      <td>...</td>\n      <td>...</td>\n      <td>...</td>\n      <td>...</td>\n      <td>...</td>\n      <td>...</td>\n      <td>...</td>\n      <td>...</td>\n      <td>...</td>\n      <td>...</td>\n    </tr>\n    <tr>\n      <th>258120</th>\n      <td>1574420742502</td>\n      <td>193.20488</td>\n      <td>108.001520</td>\n      <td>23</td>\n      <td>5dc8cea7659e181adb076a3f</td>\n      <td>197.825134</td>\n      <td>107.932187</td>\n      <td>-1</td>\n      <td>B1</td>\n      <td>5dd7c119c5b77e0006b16b99</td>\n      <td>4790</td>\n      <td>199.136230</td>\n      <td>104.263153</td>\n      <td>0.000000</td>\n      <td>5dc8cea7659e181adb076a3f_5dd7c119c5b77e0006b16...</td>\n      <td>199.920868</td>\n      <td>103.909185</td>\n    </tr>\n    <tr>\n      <th>258121</th>\n      <td>1574420742502</td>\n      <td>193.20488</td>\n      <td>108.001520</td>\n      <td>23</td>\n      <td>5dc8cea7659e181adb076a3f</td>\n      <td>194.128931</td>\n      <td>107.987653</td>\n      <td>-1</td>\n      <td>B1</td>\n      <td>5dd7c119c5b77e0006b16b99</td>\n      <td>1006</td>\n      <td>201.388168</td>\n      <td>103.995300</td>\n      <td>0.000000</td>\n      <td>5dc8cea7659e181adb076a3f_5dd7c119c5b77e0006b16...</td>\n      <td>199.902156</td>\n      <td>103.904538</td>\n    </tr>\n    <tr>\n      <th>258122</th>\n      <td>1574420753754</td>\n      <td>204.29349</td>\n      <td>107.835120</td>\n      <td>23</td>\n      <td>5dc8cea7659e181adb076a3f</td>\n      <td>199.673236</td>\n      <td>107.904453</td>\n      <td>-1</td>\n      <td>B1</td>\n      <td>5dd7c119c5b77e0006b16b99</td>\n      <td>-4550</td>\n      <td>199.976761</td>\n      <td>103.671677</td>\n      <td>0.000000</td>\n      <td>5dc8cea7659e181adb076a3f_5dd7c119c5b77e0006b16...</td>\n      <td>206.853274</td>\n      <td>104.850549</td>\n    </tr>\n    <tr>\n      <th>258123</th>\n      <td>1574420753754</td>\n      <td>204.29349</td>\n      <td>107.835120</td>\n      <td>23</td>\n      <td>5dc8cea7659e181adb076a3f</td>\n      <td>201.521337</td>\n      <td>107.876720</td>\n      <td>-1</td>\n      <td>B1</td>\n      <td>5dd7c119c5b77e0006b16b99</td>\n      <td>-2662</td>\n      <td>201.535706</td>\n      <td>104.701302</td>\n      <td>0.000000</td>\n      <td>5dc8cea7659e181adb076a3f_5dd7c119c5b77e0006b16...</td>\n      <td>206.841957</td>\n      <td>104.847394</td>\n    </tr>\n    <tr>\n      <th>258124</th>\n      <td>1574420753754</td>\n      <td>204.29349</td>\n      <td>107.835120</td>\n      <td>23</td>\n      <td>5dc8cea7659e181adb076a3f</td>\n      <td>203.369439</td>\n      <td>107.848987</td>\n      <td>-1</td>\n      <td>B1</td>\n      <td>5dd7c119c5b77e0006b16b99</td>\n      <td>-756</td>\n      <td>203.893616</td>\n      <td>102.690857</td>\n      <td>0.000000</td>\n      <td>5dc8cea7659e181adb076a3f_5dd7c119c5b77e0006b16...</td>\n      <td>206.837918</td>\n      <td>104.844440</td>\n    </tr>\n  </tbody>\n</table>\n<p>258125 rows × 17 columns</p>\n</div>"
     },
     "metadata": {},
     "execution_count": 32
    }
   ],
   "source": [
    "%%time\n",
    "\n",
    "oofs_df = oofs_df.rename(columns={'x':'target_x', 'y':'target_y', 'oof_x':'x', 'oof_y':'y'})\n",
    "processes = multiprocessing.cpu_count()\n",
    "with multiprocessing.Pool(processes=processes) as pool:\n",
    "    dfs = pool.imap_unordered(correct_path_train, oofs_df.groupby(['site_id_str', 'path', 'floor_str']))\n",
    "    dfs = tqdm(dfs)\n",
    "    dfs = list(dfs)\n",
    "\n",
    "oof_post_process = pd.concat(dfs).sort_index()\n",
    "oofs_df['oof_min_x'] = oof_post_process['x']\n",
    "oofs_df['oof_min_y'] = oof_post_process['y']\n",
    "\n",
    "# 元に戻す\n",
    "oofs_df = oofs_df.rename(columns={'x':'oof_x', 'y':'oof_y'})\n",
    "oofs_df"
   ]
  },
  {
   "cell_type": "code",
   "execution_count": 33,
   "metadata": {},
   "outputs": [
    {
     "output_type": "stream",
     "name": "stdout",
     "text": [
      "(after cost-min) CV:6.6137777284507075\n"
     ]
    }
   ],
   "source": [
    "# waypoint補正前のx,yでの評価\n",
    "oof_score_post_process = mean_position_error(\n",
    "    oofs_df['oof_min_x'], oofs_df['oof_min_y'], 0, \n",
    "    oofs_df['target_x'], oofs_df['target_y'], 0\n",
    "    )\n",
    "print(f\"(after cost-min) CV:{oof_score_post_process}\")"
   ]
  },
  {
   "cell_type": "code",
   "execution_count": 34,
   "metadata": {},
   "outputs": [
    {
     "output_type": "stream",
     "name": "stdout",
     "text": [
      "(after cost-min) CV:6.765648485494974\n"
     ]
    }
   ],
   "source": [
    "# waypoint補正後のx,yでの評価\n",
    "oof_score_post_process = mean_position_error(\n",
    "    oofs_df['oof_min_x'], oofs_df['oof_min_y'], 0, \n",
    "    oofs_df['wifi_x'], oofs_df['wifi_y'], 0\n",
    "    )\n",
    "print(f\"(after cost-min) CV:{oof_score_post_process}\")"
   ]
  },
  {
   "cell_type": "code",
   "execution_count": 70,
   "metadata": {},
   "outputs": [
    {
     "output_type": "execute_result",
     "data": {
      "text/plain": [
       "<pandas.io.formats.style.Styler at 0x7f02b84cb910>"
      ],
      "text/html": "<style  type=\"text/css\" >\n#T_b8637f74_92ed_11eb_bff0_e996809fb442row0_col1{\n            width:  10em;\n             height:  80%;\n            background:  linear-gradient(90deg,teal 31.6%, transparent 31.6%);\n        }#T_b8637f74_92ed_11eb_bff0_e996809fb442row0_col2{\n            width:  10em;\n             height:  80%;\n            background:  linear-gradient(90deg,teal 15.8%, transparent 15.8%);\n        }#T_b8637f74_92ed_11eb_bff0_e996809fb442row1_col1{\n            width:  10em;\n             height:  80%;\n            background:  linear-gradient(90deg,teal 33.7%, transparent 33.7%);\n        }#T_b8637f74_92ed_11eb_bff0_e996809fb442row1_col2{\n            width:  10em;\n             height:  80%;\n            background:  linear-gradient(90deg,teal 72.7%, transparent 72.7%);\n        }#T_b8637f74_92ed_11eb_bff0_e996809fb442row2_col1,#T_b8637f74_92ed_11eb_bff0_e996809fb442row4_col2{\n            width:  10em;\n             height:  80%;\n            background:  linear-gradient(90deg,teal 100.0%, transparent 100.0%);\n        }#T_b8637f74_92ed_11eb_bff0_e996809fb442row2_col2{\n            width:  10em;\n             height:  80%;\n            background:  linear-gradient(90deg,teal 44.6%, transparent 44.6%);\n        }#T_b8637f74_92ed_11eb_bff0_e996809fb442row3_col1{\n            width:  10em;\n             height:  80%;\n            background:  linear-gradient(90deg,teal 30.7%, transparent 30.7%);\n        }#T_b8637f74_92ed_11eb_bff0_e996809fb442row3_col2{\n            width:  10em;\n             height:  80%;\n            background:  linear-gradient(90deg,teal 7.0%, transparent 7.0%);\n        }#T_b8637f74_92ed_11eb_bff0_e996809fb442row4_col1{\n            width:  10em;\n             height:  80%;\n            background:  linear-gradient(90deg,teal 37.4%, transparent 37.4%);\n        }#T_b8637f74_92ed_11eb_bff0_e996809fb442row5_col1{\n            width:  10em;\n             height:  80%;\n            background:  linear-gradient(90deg,teal 7.6%, transparent 7.6%);\n        }#T_b8637f74_92ed_11eb_bff0_e996809fb442row5_col2{\n            width:  10em;\n             height:  80%;\n            background:  linear-gradient(90deg,teal 49.4%, transparent 49.4%);\n        }#T_b8637f74_92ed_11eb_bff0_e996809fb442row6_col1{\n            width:  10em;\n             height:  80%;\n            background:  linear-gradient(90deg,teal 6.1%, transparent 6.1%);\n        }#T_b8637f74_92ed_11eb_bff0_e996809fb442row6_col2{\n            width:  10em;\n             height:  80%;\n            background:  linear-gradient(90deg,teal 22.6%, transparent 22.6%);\n        }#T_b8637f74_92ed_11eb_bff0_e996809fb442row7_col1{\n            width:  10em;\n             height:  80%;\n            background:  linear-gradient(90deg,teal 60.4%, transparent 60.4%);\n        }#T_b8637f74_92ed_11eb_bff0_e996809fb442row7_col2{\n            width:  10em;\n             height:  80%;\n            background:  linear-gradient(90deg,teal 25.8%, transparent 25.8%);\n        }#T_b8637f74_92ed_11eb_bff0_e996809fb442row8_col1{\n            width:  10em;\n             height:  80%;\n            background:  linear-gradient(90deg,teal 69.2%, transparent 69.2%);\n        }#T_b8637f74_92ed_11eb_bff0_e996809fb442row8_col2{\n            width:  10em;\n             height:  80%;\n            background:  linear-gradient(90deg,teal 83.7%, transparent 83.7%);\n        }#T_b8637f74_92ed_11eb_bff0_e996809fb442row9_col1{\n            width:  10em;\n             height:  80%;\n            background:  linear-gradient(90deg,teal 35.3%, transparent 35.3%);\n        }#T_b8637f74_92ed_11eb_bff0_e996809fb442row9_col2{\n            width:  10em;\n             height:  80%;\n            background:  linear-gradient(90deg,teal 35.4%, transparent 35.4%);\n        }#T_b8637f74_92ed_11eb_bff0_e996809fb442row10_col1{\n            width:  10em;\n             height:  80%;\n            background:  linear-gradient(90deg,teal 35.1%, transparent 35.1%);\n        }#T_b8637f74_92ed_11eb_bff0_e996809fb442row10_col2{\n            width:  10em;\n             height:  80%;\n            background:  linear-gradient(90deg,teal 62.6%, transparent 62.6%);\n        }#T_b8637f74_92ed_11eb_bff0_e996809fb442row11_col1{\n            width:  10em;\n             height:  80%;\n            background:  linear-gradient(90deg,teal 39.9%, transparent 39.9%);\n        }#T_b8637f74_92ed_11eb_bff0_e996809fb442row11_col2{\n            width:  10em;\n             height:  80%;\n            background:  linear-gradient(90deg,teal 79.1%, transparent 79.1%);\n        }#T_b8637f74_92ed_11eb_bff0_e996809fb442row12_col1,#T_b8637f74_92ed_11eb_bff0_e996809fb442row15_col2{\n            width:  10em;\n             height:  80%;\n        }#T_b8637f74_92ed_11eb_bff0_e996809fb442row12_col2{\n            width:  10em;\n             height:  80%;\n            background:  linear-gradient(90deg,teal 48.6%, transparent 48.6%);\n        }#T_b8637f74_92ed_11eb_bff0_e996809fb442row13_col1,#T_b8637f74_92ed_11eb_bff0_e996809fb442row14_col1{\n            width:  10em;\n             height:  80%;\n            background:  linear-gradient(90deg,teal 30.2%, transparent 30.2%);\n        }#T_b8637f74_92ed_11eb_bff0_e996809fb442row13_col2{\n            width:  10em;\n             height:  80%;\n            background:  linear-gradient(90deg,teal 49.8%, transparent 49.8%);\n        }#T_b8637f74_92ed_11eb_bff0_e996809fb442row14_col2{\n            width:  10em;\n             height:  80%;\n            background:  linear-gradient(90deg,teal 4.9%, transparent 4.9%);\n        }#T_b8637f74_92ed_11eb_bff0_e996809fb442row15_col1{\n            width:  10em;\n             height:  80%;\n            background:  linear-gradient(90deg,teal 0.5%, transparent 0.5%);\n        }#T_b8637f74_92ed_11eb_bff0_e996809fb442row16_col1{\n            width:  10em;\n             height:  80%;\n            background:  linear-gradient(90deg,teal 50.2%, transparent 50.2%);\n        }#T_b8637f74_92ed_11eb_bff0_e996809fb442row16_col2{\n            width:  10em;\n             height:  80%;\n            background:  linear-gradient(90deg,teal 96.0%, transparent 96.0%);\n        }#T_b8637f74_92ed_11eb_bff0_e996809fb442row17_col1{\n            width:  10em;\n             height:  80%;\n            background:  linear-gradient(90deg,teal 21.5%, transparent 21.5%);\n        }#T_b8637f74_92ed_11eb_bff0_e996809fb442row17_col2{\n            width:  10em;\n             height:  80%;\n            background:  linear-gradient(90deg,teal 58.6%, transparent 58.6%);\n        }#T_b8637f74_92ed_11eb_bff0_e996809fb442row18_col1{\n            width:  10em;\n             height:  80%;\n            background:  linear-gradient(90deg,teal 32.2%, transparent 32.2%);\n        }#T_b8637f74_92ed_11eb_bff0_e996809fb442row18_col2{\n            width:  10em;\n             height:  80%;\n            background:  linear-gradient(90deg,teal 45.1%, transparent 45.1%);\n        }#T_b8637f74_92ed_11eb_bff0_e996809fb442row19_col1{\n            width:  10em;\n             height:  80%;\n            background:  linear-gradient(90deg,teal 17.4%, transparent 17.4%);\n        }#T_b8637f74_92ed_11eb_bff0_e996809fb442row19_col2{\n            width:  10em;\n             height:  80%;\n            background:  linear-gradient(90deg,teal 46.6%, transparent 46.6%);\n        }#T_b8637f74_92ed_11eb_bff0_e996809fb442row20_col1{\n            width:  10em;\n             height:  80%;\n            background:  linear-gradient(90deg,teal 70.1%, transparent 70.1%);\n        }#T_b8637f74_92ed_11eb_bff0_e996809fb442row20_col2{\n            width:  10em;\n             height:  80%;\n            background:  linear-gradient(90deg,teal 94.2%, transparent 94.2%);\n        }#T_b8637f74_92ed_11eb_bff0_e996809fb442row21_col1{\n            width:  10em;\n             height:  80%;\n            background:  linear-gradient(90deg,teal 59.4%, transparent 59.4%);\n        }#T_b8637f74_92ed_11eb_bff0_e996809fb442row21_col2{\n            width:  10em;\n             height:  80%;\n            background:  linear-gradient(90deg,teal 54.8%, transparent 54.8%);\n        }#T_b8637f74_92ed_11eb_bff0_e996809fb442row22_col1{\n            width:  10em;\n             height:  80%;\n            background:  linear-gradient(90deg,teal 64.3%, transparent 64.3%);\n        }#T_b8637f74_92ed_11eb_bff0_e996809fb442row22_col2{\n            width:  10em;\n             height:  80%;\n            background:  linear-gradient(90deg,teal 61.0%, transparent 61.0%);\n        }#T_b8637f74_92ed_11eb_bff0_e996809fb442row23_col1{\n            width:  10em;\n             height:  80%;\n            background:  linear-gradient(90deg,teal 61.9%, transparent 61.9%);\n        }#T_b8637f74_92ed_11eb_bff0_e996809fb442row23_col2{\n            width:  10em;\n             height:  80%;\n            background:  linear-gradient(90deg,teal 70.6%, transparent 70.6%);\n        }</style><table id=\"T_b8637f74_92ed_11eb_bff0_e996809fb442\" ><thead>    <tr>        <th class=\"blank level0\" ></th>        <th class=\"col_heading level0 col0\" >site</th>        <th class=\"col_heading level0 col1\" >n_sample</th>        <th class=\"col_heading level0 col2\" >score</th>    </tr></thead><tbody>\n                <tr>\n                        <th id=\"T_b8637f74_92ed_11eb_bff0_e996809fb442level0_row0\" class=\"row_heading level0 row0\" >0</th>\n                        <td id=\"T_b8637f74_92ed_11eb_bff0_e996809fb442row0_col0\" class=\"data row0 col0\" >5a0546857ecc773753327266</td>\n                        <td id=\"T_b8637f74_92ed_11eb_bff0_e996809fb442row0_col1\" class=\"data row0 col1\" >9296</td>\n                        <td id=\"T_b8637f74_92ed_11eb_bff0_e996809fb442row0_col2\" class=\"data row0 col2\" >4.479210</td>\n            </tr>\n            <tr>\n                        <th id=\"T_b8637f74_92ed_11eb_bff0_e996809fb442level0_row1\" class=\"row_heading level0 row1\" >1</th>\n                        <td id=\"T_b8637f74_92ed_11eb_bff0_e996809fb442row1_col0\" class=\"data row1 col0\" >5c3c44b80379370013e0fd2b</td>\n                        <td id=\"T_b8637f74_92ed_11eb_bff0_e996809fb442row1_col1\" class=\"data row1 col1\" >9737</td>\n                        <td id=\"T_b8637f74_92ed_11eb_bff0_e996809fb442row1_col2\" class=\"data row1 col2\" >7.670500</td>\n            </tr>\n            <tr>\n                        <th id=\"T_b8637f74_92ed_11eb_bff0_e996809fb442level0_row2\" class=\"row_heading level0 row2\" >2</th>\n                        <td id=\"T_b8637f74_92ed_11eb_bff0_e996809fb442row2_col0\" class=\"data row2 col0\" >5d27075f03f801723c2e360f</td>\n                        <td id=\"T_b8637f74_92ed_11eb_bff0_e996809fb442row2_col1\" class=\"data row2 col1\" >23666</td>\n                        <td id=\"T_b8637f74_92ed_11eb_bff0_e996809fb442row2_col2\" class=\"data row2 col2\" >6.092633</td>\n            </tr>\n            <tr>\n                        <th id=\"T_b8637f74_92ed_11eb_bff0_e996809fb442level0_row3\" class=\"row_heading level0 row3\" >3</th>\n                        <td id=\"T_b8637f74_92ed_11eb_bff0_e996809fb442row3_col0\" class=\"data row3 col0\" >5d27096c03f801723c31e5e0</td>\n                        <td id=\"T_b8637f74_92ed_11eb_bff0_e996809fb442row3_col1\" class=\"data row3 col1\" >9100</td>\n                        <td id=\"T_b8637f74_92ed_11eb_bff0_e996809fb442row3_col2\" class=\"data row3 col2\" >3.983874</td>\n            </tr>\n            <tr>\n                        <th id=\"T_b8637f74_92ed_11eb_bff0_e996809fb442level0_row4\" class=\"row_heading level0 row4\" >4</th>\n                        <td id=\"T_b8637f74_92ed_11eb_bff0_e996809fb442row4_col0\" class=\"data row4 col0\" >5d27097f03f801723c320d97</td>\n                        <td id=\"T_b8637f74_92ed_11eb_bff0_e996809fb442row4_col1\" class=\"data row4 col1\" >10507</td>\n                        <td id=\"T_b8637f74_92ed_11eb_bff0_e996809fb442row4_col2\" class=\"data row4 col2\" >9.201581</td>\n            </tr>\n            <tr>\n                        <th id=\"T_b8637f74_92ed_11eb_bff0_e996809fb442level0_row5\" class=\"row_heading level0 row5\" >5</th>\n                        <td id=\"T_b8637f74_92ed_11eb_bff0_e996809fb442row5_col0\" class=\"data row5 col0\" >5d27099f03f801723c32511d</td>\n                        <td id=\"T_b8637f74_92ed_11eb_bff0_e996809fb442row5_col1\" class=\"data row5 col1\" >4251</td>\n                        <td id=\"T_b8637f74_92ed_11eb_bff0_e996809fb442row5_col2\" class=\"data row5 col2\" >6.361318</td>\n            </tr>\n            <tr>\n                        <th id=\"T_b8637f74_92ed_11eb_bff0_e996809fb442level0_row6\" class=\"row_heading level0 row6\" >6</th>\n                        <td id=\"T_b8637f74_92ed_11eb_bff0_e996809fb442row6_col0\" class=\"data row6 col0\" >5d2709a003f801723c3251bf</td>\n                        <td id=\"T_b8637f74_92ed_11eb_bff0_e996809fb442row6_col1\" class=\"data row6 col1\" >3940</td>\n                        <td id=\"T_b8637f74_92ed_11eb_bff0_e996809fb442row6_col2\" class=\"data row6 col2\" >4.860688</td>\n            </tr>\n            <tr>\n                        <th id=\"T_b8637f74_92ed_11eb_bff0_e996809fb442level0_row7\" class=\"row_heading level0 row7\" >7</th>\n                        <td id=\"T_b8637f74_92ed_11eb_bff0_e996809fb442row7_col0\" class=\"data row7 col0\" >5d2709b303f801723c327472</td>\n                        <td id=\"T_b8637f74_92ed_11eb_bff0_e996809fb442row7_col1\" class=\"data row7 col1\" >15358</td>\n                        <td id=\"T_b8637f74_92ed_11eb_bff0_e996809fb442row7_col2\" class=\"data row7 col2\" >5.037343</td>\n            </tr>\n            <tr>\n                        <th id=\"T_b8637f74_92ed_11eb_bff0_e996809fb442level0_row8\" class=\"row_heading level0 row8\" >8</th>\n                        <td id=\"T_b8637f74_92ed_11eb_bff0_e996809fb442row8_col0\" class=\"data row8 col0\" >5d2709bb03f801723c32852c</td>\n                        <td id=\"T_b8637f74_92ed_11eb_bff0_e996809fb442row8_col1\" class=\"data row8 col1\" >17203</td>\n                        <td id=\"T_b8637f74_92ed_11eb_bff0_e996809fb442row8_col2\" class=\"data row8 col2\" >8.284389</td>\n            </tr>\n            <tr>\n                        <th id=\"T_b8637f74_92ed_11eb_bff0_e996809fb442level0_row9\" class=\"row_heading level0 row9\" >9</th>\n                        <td id=\"T_b8637f74_92ed_11eb_bff0_e996809fb442row9_col0\" class=\"data row9 col0\" >5d2709c303f801723c3299ee</td>\n                        <td id=\"T_b8637f74_92ed_11eb_bff0_e996809fb442row9_col1\" class=\"data row9 col1\" >10083</td>\n                        <td id=\"T_b8637f74_92ed_11eb_bff0_e996809fb442row9_col2\" class=\"data row9 col2\" >5.579002</td>\n            </tr>\n            <tr>\n                        <th id=\"T_b8637f74_92ed_11eb_bff0_e996809fb442level0_row10\" class=\"row_heading level0 row10\" >10</th>\n                        <td id=\"T_b8637f74_92ed_11eb_bff0_e996809fb442row10_col0\" class=\"data row10 col0\" >5d2709d403f801723c32bd39</td>\n                        <td id=\"T_b8637f74_92ed_11eb_bff0_e996809fb442row10_col1\" class=\"data row10 col1\" >10027</td>\n                        <td id=\"T_b8637f74_92ed_11eb_bff0_e996809fb442row10_col2\" class=\"data row10 col2\" >7.102403</td>\n            </tr>\n            <tr>\n                        <th id=\"T_b8637f74_92ed_11eb_bff0_e996809fb442level0_row11\" class=\"row_heading level0 row11\" >11</th>\n                        <td id=\"T_b8637f74_92ed_11eb_bff0_e996809fb442row11_col0\" class=\"data row11 col0\" >5d2709e003f801723c32d896</td>\n                        <td id=\"T_b8637f74_92ed_11eb_bff0_e996809fb442row11_col1\" class=\"data row11 col1\" >11042</td>\n                        <td id=\"T_b8637f74_92ed_11eb_bff0_e996809fb442row11_col2\" class=\"data row11 col2\" >8.027888</td>\n            </tr>\n            <tr>\n                        <th id=\"T_b8637f74_92ed_11eb_bff0_e996809fb442level0_row12\" class=\"row_heading level0 row12\" >12</th>\n                        <td id=\"T_b8637f74_92ed_11eb_bff0_e996809fb442row12_col0\" class=\"data row12 col0\" >5da138274db8ce0c98bbd3d2</td>\n                        <td id=\"T_b8637f74_92ed_11eb_bff0_e996809fb442row12_col1\" class=\"data row12 col1\" >2662</td>\n                        <td id=\"T_b8637f74_92ed_11eb_bff0_e996809fb442row12_col2\" class=\"data row12 col2\" >6.316204</td>\n            </tr>\n            <tr>\n                        <th id=\"T_b8637f74_92ed_11eb_bff0_e996809fb442level0_row13\" class=\"row_heading level0 row13\" >13</th>\n                        <td id=\"T_b8637f74_92ed_11eb_bff0_e996809fb442row13_col0\" class=\"data row13 col0\" >5da1382d4db8ce0c98bbe92e</td>\n                        <td id=\"T_b8637f74_92ed_11eb_bff0_e996809fb442row13_col1\" class=\"data row13 col1\" >8999</td>\n                        <td id=\"T_b8637f74_92ed_11eb_bff0_e996809fb442row13_col2\" class=\"data row13 col2\" >6.382910</td>\n            </tr>\n            <tr>\n                        <th id=\"T_b8637f74_92ed_11eb_bff0_e996809fb442level0_row14\" class=\"row_heading level0 row14\" >14</th>\n                        <td id=\"T_b8637f74_92ed_11eb_bff0_e996809fb442row14_col0\" class=\"data row14 col0\" >5da138314db8ce0c98bbf3a0</td>\n                        <td id=\"T_b8637f74_92ed_11eb_bff0_e996809fb442row14_col1\" class=\"data row14 col1\" >9012</td>\n                        <td id=\"T_b8637f74_92ed_11eb_bff0_e996809fb442row14_col2\" class=\"data row14 col2\" >3.869072</td>\n            </tr>\n            <tr>\n                        <th id=\"T_b8637f74_92ed_11eb_bff0_e996809fb442level0_row15\" class=\"row_heading level0 row15\" >15</th>\n                        <td id=\"T_b8637f74_92ed_11eb_bff0_e996809fb442row15_col0\" class=\"data row15 col0\" >5da138364db8ce0c98bc00f1</td>\n                        <td id=\"T_b8637f74_92ed_11eb_bff0_e996809fb442row15_col1\" class=\"data row15 col1\" >2767</td>\n                        <td id=\"T_b8637f74_92ed_11eb_bff0_e996809fb442row15_col2\" class=\"data row15 col2\" >3.591381</td>\n            </tr>\n            <tr>\n                        <th id=\"T_b8637f74_92ed_11eb_bff0_e996809fb442level0_row16\" class=\"row_heading level0 row16\" >16</th>\n                        <td id=\"T_b8637f74_92ed_11eb_bff0_e996809fb442row16_col0\" class=\"data row16 col0\" >5da1383b4db8ce0c98bc11ab</td>\n                        <td id=\"T_b8637f74_92ed_11eb_bff0_e996809fb442row16_col1\" class=\"data row16 col1\" >13196</td>\n                        <td id=\"T_b8637f74_92ed_11eb_bff0_e996809fb442row16_col2\" class=\"data row16 col2\" >8.979045</td>\n            </tr>\n            <tr>\n                        <th id=\"T_b8637f74_92ed_11eb_bff0_e996809fb442level0_row17\" class=\"row_heading level0 row17\" >17</th>\n                        <td id=\"T_b8637f74_92ed_11eb_bff0_e996809fb442row17_col0\" class=\"data row17 col0\" >5da138754db8ce0c98bca82f</td>\n                        <td id=\"T_b8637f74_92ed_11eb_bff0_e996809fb442row17_col1\" class=\"data row17 col1\" >7188</td>\n                        <td id=\"T_b8637f74_92ed_11eb_bff0_e996809fb442row17_col2\" class=\"data row17 col2\" >6.878382</td>\n            </tr>\n            <tr>\n                        <th id=\"T_b8637f74_92ed_11eb_bff0_e996809fb442level0_row18\" class=\"row_heading level0 row18\" >18</th>\n                        <td id=\"T_b8637f74_92ed_11eb_bff0_e996809fb442row18_col0\" class=\"data row18 col0\" >5da138764db8ce0c98bcaa46</td>\n                        <td id=\"T_b8637f74_92ed_11eb_bff0_e996809fb442row18_col1\" class=\"data row18 col1\" >9420</td>\n                        <td id=\"T_b8637f74_92ed_11eb_bff0_e996809fb442row18_col2\" class=\"data row18 col2\" >6.120194</td>\n            </tr>\n            <tr>\n                        <th id=\"T_b8637f74_92ed_11eb_bff0_e996809fb442level0_row19\" class=\"row_heading level0 row19\" >19</th>\n                        <td id=\"T_b8637f74_92ed_11eb_bff0_e996809fb442row19_col0\" class=\"data row19 col0\" >5da1389e4db8ce0c98bd0547</td>\n                        <td id=\"T_b8637f74_92ed_11eb_bff0_e996809fb442row19_col1\" class=\"data row19 col1\" >6312</td>\n                        <td id=\"T_b8637f74_92ed_11eb_bff0_e996809fb442row19_col2\" class=\"data row19 col2\" >6.207742</td>\n            </tr>\n            <tr>\n                        <th id=\"T_b8637f74_92ed_11eb_bff0_e996809fb442level0_row20\" class=\"row_heading level0 row20\" >20</th>\n                        <td id=\"T_b8637f74_92ed_11eb_bff0_e996809fb442row20_col0\" class=\"data row20 col0\" >5da138b74db8ce0c98bd4774</td>\n                        <td id=\"T_b8637f74_92ed_11eb_bff0_e996809fb442row20_col1\" class=\"data row20 col1\" >17382</td>\n                        <td id=\"T_b8637f74_92ed_11eb_bff0_e996809fb442row20_col2\" class=\"data row20 col2\" >8.873762</td>\n            </tr>\n            <tr>\n                        <th id=\"T_b8637f74_92ed_11eb_bff0_e996809fb442level0_row21\" class=\"row_heading level0 row21\" >21</th>\n                        <td id=\"T_b8637f74_92ed_11eb_bff0_e996809fb442row21_col0\" class=\"data row21 col0\" >5da958dd46f8266d0737457b</td>\n                        <td id=\"T_b8637f74_92ed_11eb_bff0_e996809fb442row21_col1\" class=\"data row21 col1\" >15148</td>\n                        <td id=\"T_b8637f74_92ed_11eb_bff0_e996809fb442row21_col2\" class=\"data row21 col2\" >6.666729</td>\n            </tr>\n            <tr>\n                        <th id=\"T_b8637f74_92ed_11eb_bff0_e996809fb442level0_row22\" class=\"row_heading level0 row22\" >22</th>\n                        <td id=\"T_b8637f74_92ed_11eb_bff0_e996809fb442row22_col0\" class=\"data row22 col0\" >5dbc1d84c1eb61796cf7c010</td>\n                        <td id=\"T_b8637f74_92ed_11eb_bff0_e996809fb442row22_col1\" class=\"data row22 col1\" >16174</td>\n                        <td id=\"T_b8637f74_92ed_11eb_bff0_e996809fb442row22_col2\" class=\"data row22 col2\" >7.014625</td>\n            </tr>\n            <tr>\n                        <th id=\"T_b8637f74_92ed_11eb_bff0_e996809fb442level0_row23\" class=\"row_heading level0 row23\" >23</th>\n                        <td id=\"T_b8637f74_92ed_11eb_bff0_e996809fb442row23_col0\" class=\"data row23 col0\" >5dc8cea7659e181adb076a3f</td>\n                        <td id=\"T_b8637f74_92ed_11eb_bff0_e996809fb442row23_col1\" class=\"data row23 col1\" >15655</td>\n                        <td id=\"T_b8637f74_92ed_11eb_bff0_e996809fb442row23_col2\" class=\"data row23 col2\" >7.552774</td>\n            </tr>\n    </tbody></table>"
     },
     "metadata": {},
     "execution_count": 70
    }
   ],
   "source": [
    "x_pred = oofs_df[\"oof_min_x\"]\n",
    "y_pred = oofs_df[\"oof_min_y\"]\n",
    "f_pred = oofs_df[\"floor\"]  # 正解を与える\n",
    "x_true = oofs_df[\"wifi_x\"]\n",
    "y_true = oofs_df[\"wifi_y\"]\n",
    "f_true = oofs_df[\"floor\"]\n",
    "site_arr = oofs_df[\"site_id_str\"]\n",
    "df_result_site2 = calc_metrics_site(x_pred, y_pred, f_pred, x_true, y_true, f_true, site_arr)\n",
    "df_result_site2.style.bar(subset=['n_sample', 'score'], color=['teal'])"
   ]
  },
  {
   "cell_type": "code",
   "execution_count": 71,
   "metadata": {},
   "outputs": [
    {
     "output_type": "stream",
     "name": "stdout",
     "text": [
      "|No |          site          |n_sample|score|\n|--:|------------------------|-------:|----:|\n|  0|5a0546857ecc773753327266|    9296|4.479|\n|  1|5c3c44b80379370013e0fd2b|    9737|7.671|\n|  2|5d27075f03f801723c2e360f|   23666|6.093|\n|  3|5d27096c03f801723c31e5e0|    9100|3.984|\n|  4|5d27097f03f801723c320d97|   10507|9.202|\n|  5|5d27099f03f801723c32511d|    4251|6.361|\n|  6|5d2709a003f801723c3251bf|    3940|4.861|\n|  7|5d2709b303f801723c327472|   15358|5.037|\n|  8|5d2709bb03f801723c32852c|   17203|8.284|\n|  9|5d2709c303f801723c3299ee|   10083|5.579|\n| 10|5d2709d403f801723c32bd39|   10027|7.102|\n| 11|5d2709e003f801723c32d896|   11042|8.028|\n| 12|5da138274db8ce0c98bbd3d2|    2662|6.316|\n| 13|5da1382d4db8ce0c98bbe92e|    8999|6.383|\n| 14|5da138314db8ce0c98bbf3a0|    9012|3.869|\n| 15|5da138364db8ce0c98bc00f1|    2767|3.591|\n| 16|5da1383b4db8ce0c98bc11ab|   13196|8.979|\n| 17|5da138754db8ce0c98bca82f|    7188|6.878|\n| 18|5da138764db8ce0c98bcaa46|    9420|6.120|\n| 19|5da1389e4db8ce0c98bd0547|    6312|6.208|\n| 20|5da138b74db8ce0c98bd4774|   17382|8.874|\n| 21|5da958dd46f8266d0737457b|   15148|6.667|\n| 22|5dbc1d84c1eb61796cf7c010|   16174|7.015|\n| 23|5dc8cea7659e181adb076a3f|   15655|7.553|\n"
     ]
    }
   ],
   "source": [
    "site_eval_report(df_result_site2)"
   ]
  },
  {
   "cell_type": "code",
   "execution_count": 37,
   "metadata": {},
   "outputs": [
    {
     "output_type": "execute_result",
     "data": {
      "text/plain": [
       "                                     site_path_timestamp  floor           x  \\\n",
       "0      5a0546857ecc773753327266_046cfa46be49fc1083481...      0   87.954796   \n",
       "1      5a0546857ecc773753327266_046cfa46be49fc1083481...      0   84.130959   \n",
       "2      5a0546857ecc773753327266_046cfa46be49fc1083481...      0   86.090317   \n",
       "3      5a0546857ecc773753327266_046cfa46be49fc1083481...      0   87.595718   \n",
       "4      5a0546857ecc773753327266_046cfa46be49fc1083481...      0   86.149513   \n",
       "...                                                  ...    ...         ...   \n",
       "10128  5dc8cea7659e181adb076a3f_fd64de8c4a2fc5ebb0e9f...      5  214.097397   \n",
       "10129  5dc8cea7659e181adb076a3f_fd64de8c4a2fc5ebb0e9f...      5  209.983994   \n",
       "10130  5dc8cea7659e181adb076a3f_fd64de8c4a2fc5ebb0e9f...      5  205.807724   \n",
       "10131  5dc8cea7659e181adb076a3f_fd64de8c4a2fc5ebb0e9f...      5  202.292267   \n",
       "10132  5dc8cea7659e181adb076a3f_fd64de8c4a2fc5ebb0e9f...      5  199.881561   \n",
       "\n",
       "                y                      site                      path  \\\n",
       "0      102.605637  5a0546857ecc773753327266  046cfa46be49fc10834815c6   \n",
       "1      102.008942  5a0546857ecc773753327266  046cfa46be49fc10834815c6   \n",
       "2      104.619865  5a0546857ecc773753327266  046cfa46be49fc10834815c6   \n",
       "3      105.741379  5a0546857ecc773753327266  046cfa46be49fc10834815c6   \n",
       "4      105.548729  5a0546857ecc773753327266  046cfa46be49fc10834815c6   \n",
       "...           ...                       ...                       ...   \n",
       "10128   90.171814  5dc8cea7659e181adb076a3f  fd64de8c4a2fc5ebb0e9f412   \n",
       "10129   99.197472  5dc8cea7659e181adb076a3f  fd64de8c4a2fc5ebb0e9f412   \n",
       "10130  105.314880  5dc8cea7659e181adb076a3f  fd64de8c4a2fc5ebb0e9f412   \n",
       "10131  111.906059  5dc8cea7659e181adb076a3f  fd64de8c4a2fc5ebb0e9f412   \n",
       "10132  111.624573  5dc8cea7659e181adb076a3f  fd64de8c4a2fc5ebb0e9f412   \n",
       "\n",
       "       timestamp  \n",
       "0            9.0  \n",
       "1         9017.0  \n",
       "2        15326.0  \n",
       "3        18763.0  \n",
       "4        22328.0  \n",
       "...          ...  \n",
       "10128    82589.0  \n",
       "10129    85758.0  \n",
       "10130    90895.0  \n",
       "10131    96899.0  \n",
       "10132   100447.0  \n",
       "\n",
       "[10133 rows x 7 columns]"
      ],
      "text/html": "<div>\n<style scoped>\n    .dataframe tbody tr th:only-of-type {\n        vertical-align: middle;\n    }\n\n    .dataframe tbody tr th {\n        vertical-align: top;\n    }\n\n    .dataframe thead th {\n        text-align: right;\n    }\n</style>\n<table border=\"1\" class=\"dataframe\">\n  <thead>\n    <tr style=\"text-align: right;\">\n      <th></th>\n      <th>site_path_timestamp</th>\n      <th>floor</th>\n      <th>x</th>\n      <th>y</th>\n      <th>site</th>\n      <th>path</th>\n      <th>timestamp</th>\n    </tr>\n  </thead>\n  <tbody>\n    <tr>\n      <th>0</th>\n      <td>5a0546857ecc773753327266_046cfa46be49fc1083481...</td>\n      <td>0</td>\n      <td>87.954796</td>\n      <td>102.605637</td>\n      <td>5a0546857ecc773753327266</td>\n      <td>046cfa46be49fc10834815c6</td>\n      <td>9.0</td>\n    </tr>\n    <tr>\n      <th>1</th>\n      <td>5a0546857ecc773753327266_046cfa46be49fc1083481...</td>\n      <td>0</td>\n      <td>84.130959</td>\n      <td>102.008942</td>\n      <td>5a0546857ecc773753327266</td>\n      <td>046cfa46be49fc10834815c6</td>\n      <td>9017.0</td>\n    </tr>\n    <tr>\n      <th>2</th>\n      <td>5a0546857ecc773753327266_046cfa46be49fc1083481...</td>\n      <td>0</td>\n      <td>86.090317</td>\n      <td>104.619865</td>\n      <td>5a0546857ecc773753327266</td>\n      <td>046cfa46be49fc10834815c6</td>\n      <td>15326.0</td>\n    </tr>\n    <tr>\n      <th>3</th>\n      <td>5a0546857ecc773753327266_046cfa46be49fc1083481...</td>\n      <td>0</td>\n      <td>87.595718</td>\n      <td>105.741379</td>\n      <td>5a0546857ecc773753327266</td>\n      <td>046cfa46be49fc10834815c6</td>\n      <td>18763.0</td>\n    </tr>\n    <tr>\n      <th>4</th>\n      <td>5a0546857ecc773753327266_046cfa46be49fc1083481...</td>\n      <td>0</td>\n      <td>86.149513</td>\n      <td>105.548729</td>\n      <td>5a0546857ecc773753327266</td>\n      <td>046cfa46be49fc10834815c6</td>\n      <td>22328.0</td>\n    </tr>\n    <tr>\n      <th>...</th>\n      <td>...</td>\n      <td>...</td>\n      <td>...</td>\n      <td>...</td>\n      <td>...</td>\n      <td>...</td>\n      <td>...</td>\n    </tr>\n    <tr>\n      <th>10128</th>\n      <td>5dc8cea7659e181adb076a3f_fd64de8c4a2fc5ebb0e9f...</td>\n      <td>5</td>\n      <td>214.097397</td>\n      <td>90.171814</td>\n      <td>5dc8cea7659e181adb076a3f</td>\n      <td>fd64de8c4a2fc5ebb0e9f412</td>\n      <td>82589.0</td>\n    </tr>\n    <tr>\n      <th>10129</th>\n      <td>5dc8cea7659e181adb076a3f_fd64de8c4a2fc5ebb0e9f...</td>\n      <td>5</td>\n      <td>209.983994</td>\n      <td>99.197472</td>\n      <td>5dc8cea7659e181adb076a3f</td>\n      <td>fd64de8c4a2fc5ebb0e9f412</td>\n      <td>85758.0</td>\n    </tr>\n    <tr>\n      <th>10130</th>\n      <td>5dc8cea7659e181adb076a3f_fd64de8c4a2fc5ebb0e9f...</td>\n      <td>5</td>\n      <td>205.807724</td>\n      <td>105.314880</td>\n      <td>5dc8cea7659e181adb076a3f</td>\n      <td>fd64de8c4a2fc5ebb0e9f412</td>\n      <td>90895.0</td>\n    </tr>\n    <tr>\n      <th>10131</th>\n      <td>5dc8cea7659e181adb076a3f_fd64de8c4a2fc5ebb0e9f...</td>\n      <td>5</td>\n      <td>202.292267</td>\n      <td>111.906059</td>\n      <td>5dc8cea7659e181adb076a3f</td>\n      <td>fd64de8c4a2fc5ebb0e9f412</td>\n      <td>96899.0</td>\n    </tr>\n    <tr>\n      <th>10132</th>\n      <td>5dc8cea7659e181adb076a3f_fd64de8c4a2fc5ebb0e9f...</td>\n      <td>5</td>\n      <td>199.881561</td>\n      <td>111.624573</td>\n      <td>5dc8cea7659e181adb076a3f</td>\n      <td>fd64de8c4a2fc5ebb0e9f412</td>\n      <td>100447.0</td>\n    </tr>\n  </tbody>\n</table>\n<p>10133 rows × 7 columns</p>\n</div>"
     },
     "metadata": {},
     "execution_count": 37
    }
   ],
   "source": [
    "sub = sub.reset_index()\n",
    "sub_org = sub.copy()\n",
    "tmp = sub['site_path_timestamp'].apply(lambda s : pd.Series(s.split('_')))\n",
    "sub['site'] = tmp[0]\n",
    "sub['path'] = tmp[1]\n",
    "sub['timestamp'] = tmp[2].astype(float)\n",
    "sub"
   ]
  },
  {
   "cell_type": "code",
   "execution_count": 38,
   "metadata": {},
   "outputs": [
    {
     "output_type": "stream",
     "name": "stderr",
     "text": [
      "626it [00:35, 17.80it/s]\n"
     ]
    },
    {
     "output_type": "execute_result",
     "data": {
      "text/plain": [
       "                                     site_path_timestamp  floor           x  \\\n",
       "0      5a0546857ecc773753327266_046cfa46be49fc1083481...      0   91.328964   \n",
       "1      5a0546857ecc773753327266_046cfa46be49fc1083481...      0   81.869227   \n",
       "2      5a0546857ecc773753327266_046cfa46be49fc1083481...      0   84.059223   \n",
       "3      5a0546857ecc773753327266_046cfa46be49fc1083481...      0   85.353798   \n",
       "4      5a0546857ecc773753327266_046cfa46be49fc1083481...      0   85.799636   \n",
       "...                                                  ...    ...         ...   \n",
       "10128  5dc8cea7659e181adb076a3f_fd64de8c4a2fc5ebb0e9f...      5  210.306021   \n",
       "10129  5dc8cea7659e181adb076a3f_fd64de8c4a2fc5ebb0e9f...      5  208.502905   \n",
       "10130  5dc8cea7659e181adb076a3f_fd64de8c4a2fc5ebb0e9f...      5  204.425589   \n",
       "10131  5dc8cea7659e181adb076a3f_fd64de8c4a2fc5ebb0e9f...      5  196.849895   \n",
       "10132  5dc8cea7659e181adb076a3f_fd64de8c4a2fc5ebb0e9f...      5  193.425904   \n",
       "\n",
       "                y  \n",
       "0       95.522559  \n",
       "1       98.981264  \n",
       "2      103.985378  \n",
       "3      107.737236  \n",
       "4      111.303132  \n",
       "...           ...  \n",
       "10128   98.235106  \n",
       "10129  101.867297  \n",
       "10130  108.775446  \n",
       "10131  114.257308  \n",
       "10132  117.804761  \n",
       "\n",
       "[10133 rows x 4 columns]"
      ],
      "text/html": "<div>\n<style scoped>\n    .dataframe tbody tr th:only-of-type {\n        vertical-align: middle;\n    }\n\n    .dataframe tbody tr th {\n        vertical-align: top;\n    }\n\n    .dataframe thead th {\n        text-align: right;\n    }\n</style>\n<table border=\"1\" class=\"dataframe\">\n  <thead>\n    <tr style=\"text-align: right;\">\n      <th></th>\n      <th>site_path_timestamp</th>\n      <th>floor</th>\n      <th>x</th>\n      <th>y</th>\n    </tr>\n  </thead>\n  <tbody>\n    <tr>\n      <th>0</th>\n      <td>5a0546857ecc773753327266_046cfa46be49fc1083481...</td>\n      <td>0</td>\n      <td>91.328964</td>\n      <td>95.522559</td>\n    </tr>\n    <tr>\n      <th>1</th>\n      <td>5a0546857ecc773753327266_046cfa46be49fc1083481...</td>\n      <td>0</td>\n      <td>81.869227</td>\n      <td>98.981264</td>\n    </tr>\n    <tr>\n      <th>2</th>\n      <td>5a0546857ecc773753327266_046cfa46be49fc1083481...</td>\n      <td>0</td>\n      <td>84.059223</td>\n      <td>103.985378</td>\n    </tr>\n    <tr>\n      <th>3</th>\n      <td>5a0546857ecc773753327266_046cfa46be49fc1083481...</td>\n      <td>0</td>\n      <td>85.353798</td>\n      <td>107.737236</td>\n    </tr>\n    <tr>\n      <th>4</th>\n      <td>5a0546857ecc773753327266_046cfa46be49fc1083481...</td>\n      <td>0</td>\n      <td>85.799636</td>\n      <td>111.303132</td>\n    </tr>\n    <tr>\n      <th>...</th>\n      <td>...</td>\n      <td>...</td>\n      <td>...</td>\n      <td>...</td>\n    </tr>\n    <tr>\n      <th>10128</th>\n      <td>5dc8cea7659e181adb076a3f_fd64de8c4a2fc5ebb0e9f...</td>\n      <td>5</td>\n      <td>210.306021</td>\n      <td>98.235106</td>\n    </tr>\n    <tr>\n      <th>10129</th>\n      <td>5dc8cea7659e181adb076a3f_fd64de8c4a2fc5ebb0e9f...</td>\n      <td>5</td>\n      <td>208.502905</td>\n      <td>101.867297</td>\n    </tr>\n    <tr>\n      <th>10130</th>\n      <td>5dc8cea7659e181adb076a3f_fd64de8c4a2fc5ebb0e9f...</td>\n      <td>5</td>\n      <td>204.425589</td>\n      <td>108.775446</td>\n    </tr>\n    <tr>\n      <th>10131</th>\n      <td>5dc8cea7659e181adb076a3f_fd64de8c4a2fc5ebb0e9f...</td>\n      <td>5</td>\n      <td>196.849895</td>\n      <td>114.257308</td>\n    </tr>\n    <tr>\n      <th>10132</th>\n      <td>5dc8cea7659e181adb076a3f_fd64de8c4a2fc5ebb0e9f...</td>\n      <td>5</td>\n      <td>193.425904</td>\n      <td>117.804761</td>\n    </tr>\n  </tbody>\n</table>\n<p>10133 rows × 4 columns</p>\n</div>"
     },
     "metadata": {},
     "execution_count": 38
    }
   ],
   "source": [
    "processes = multiprocessing.cpu_count()\n",
    "with multiprocessing.Pool(processes=processes) as pool:\n",
    "    dfs = pool.imap_unordered(correct_path, sub.groupby(['path']))\n",
    "    dfs = tqdm(dfs)\n",
    "    dfs = list(dfs)\n",
    "new_sub = pd.concat(dfs).sort_values('site_path_timestamp')\n",
    "# new_sub.to_csv(RUN_NAME + '_costmin_sub.csv', index=False)\n",
    "new_sub\n"
   ]
  },
  {
   "source": [
    "## snap to grid"
   ],
   "cell_type": "markdown",
   "metadata": {}
  },
  {
   "cell_type": "code",
   "execution_count": 39,
   "metadata": {},
   "outputs": [],
   "source": [
    "from scipy.spatial.distance import cdist\n",
    "def sub_process(sub, train_waypoints):\n",
    "    train_waypoints['isTrainWaypoint'] = True\n",
    "    sub = split_col(sub[['site_path_timestamp','floor','x','y']]).copy()\n",
    "    sub = sub.merge(train_waypoints[['site','floorNo','floor']].drop_duplicates(), how='left')\n",
    "    sub = sub.merge(\n",
    "        train_waypoints[['x','y','site','floor','isTrainWaypoint']].drop_duplicates(),\n",
    "        how='left',\n",
    "        on=['site','x','y','floor']\n",
    "             )\n",
    "    sub['isTrainWaypoint'] = sub['isTrainWaypoint'].fillna(False)\n",
    "    return sub.copy()\n",
    "\n",
    "def split_col(df):\n",
    "    df = pd.concat([\n",
    "        df['site_path_timestamp'].str.split('_', expand=True) \\\n",
    "        .rename(columns={0:'site',\n",
    "                         1:'path',\n",
    "                         2:'timestamp'}),\n",
    "        df\n",
    "    ], axis=1).copy()\n",
    "    return df\n",
    "\n",
    "floor_map = {\"B2\":-2, \"B1\":-1, \"F1\":0, \"F2\": 1, \"F3\":2,\n",
    "             \"F4\":3, \"F5\":4, \"F6\":5, \"F7\":6,\"F8\":7,\"F9\":8,\n",
    "             \"1F\":0, \"2F\":1, \"3F\":2, \"4F\":3, \"5F\":4, \"6F\":5,\n",
    "             \"7F\":6, \"8F\": 7, \"9F\":8}\n",
    "\n",
    "def add_xy(df):\n",
    "    df['xy'] = [(x, y) for x,y in zip(df['x'], df['y'])]\n",
    "    return df\n",
    "\n",
    "def closest_point(point, points):\n",
    "    \"\"\" Find closest point from a list of points. \"\"\"\n",
    "    return points[cdist([point], points).argmin()]\n",
    "\n",
    "def snap_to_grid(sub, threshold):\n",
    "    \"\"\"\n",
    "    Snap to grid if within a threshold.\n",
    "    \n",
    "    x, y are the predicted points.\n",
    "    x_, y_ are the closest grid points.\n",
    "    _x_, _y_ are the new predictions after post processing.\n",
    "    \"\"\"\n",
    "    sub['_x_'] = sub['x']\n",
    "    sub['_y_'] = sub['y']\n",
    "    sub.loc[sub['dist'] < threshold, '_x_'] = sub.loc[sub['dist'] < threshold]['x_']\n",
    "    sub.loc[sub['dist'] < threshold, '_y_'] = sub.loc[sub['dist'] < threshold]['y_']\n",
    "    return sub.copy()\n"
   ]
  },
  {
   "cell_type": "code",
   "execution_count": 50,
   "metadata": {},
   "outputs": [
    {
     "output_type": "stream",
     "name": "stderr",
     "text": [
      "100%|██████████| 139/139 [01:42<00:00,  1.36it/s]\n"
     ]
    },
    {
     "output_type": "execute_result",
     "data": {
      "text/plain": [
       "         index                      site                      path  \\\n",
       "0         5688  5a0546857ecc773753327266  5e15730aa280850006f3d005   \n",
       "1         5689  5a0546857ecc773753327266  5e15730aa280850006f3d005   \n",
       "2         5690  5a0546857ecc773753327266  5e15730aa280850006f3d005   \n",
       "3         5691  5a0546857ecc773753327266  5e15730aa280850006f3d005   \n",
       "4         5692  5a0546857ecc773753327266  5e15730aa280850006f3d005   \n",
       "...        ...                       ...                       ...   \n",
       "258120  257092  5dc8cea7659e181adb076a3f  5dd0d97d878f3300066c750b   \n",
       "258121  257093  5dc8cea7659e181adb076a3f  5dd0d97d878f3300066c750b   \n",
       "258122  257094  5dc8cea7659e181adb076a3f  5dd0d97d878f3300066c750b   \n",
       "258123  257095  5dc8cea7659e181adb076a3f  5dd0d97d878f3300066c750b   \n",
       "258124  257096  5dc8cea7659e181adb076a3f  5dd0d97d878f3300066c750b   \n",
       "\n",
       "            timestamp                                site_path_timestamp  \\\n",
       "0       1578462618392  5a0546857ecc773753327266_5e15730aa280850006f3d...   \n",
       "1       1578462618392  5a0546857ecc773753327266_5e15730aa280850006f3d...   \n",
       "2       1578462618392  5a0546857ecc773753327266_5e15730aa280850006f3d...   \n",
       "3       1578462628512  5a0546857ecc773753327266_5e15730aa280850006f3d...   \n",
       "4       1578462628512  5a0546857ecc773753327266_5e15730aa280850006f3d...   \n",
       "...               ...                                                ...   \n",
       "258120  1573968234519  5dc8cea7659e181adb076a3f_5dd0d97d878f3300066c7...   \n",
       "258121  1573968240535  5dc8cea7659e181adb076a3f_5dd0d97d878f3300066c7...   \n",
       "258122  1573968240535  5dc8cea7659e181adb076a3f_5dd0d97d878f3300066c7...   \n",
       "258123  1573968240535  5dc8cea7659e181adb076a3f_5dd0d97d878f3300066c7...   \n",
       "258124  1573968244875  5dc8cea7659e181adb076a3f_5dd0d97d878f3300066c7...   \n",
       "\n",
       "        floor           x           y floorNo  isTrainWaypoint  \\\n",
       "0          -1  225.505398  158.458881      B1            False   \n",
       "1          -1  225.501715  158.455403      B1            False   \n",
       "2          -1  225.495776  158.447608      B1            False   \n",
       "3          -1  225.720829  160.864883      B1            False   \n",
       "4          -1  225.712650  160.854876      B1            False   \n",
       "...       ...         ...         ...     ...              ...   \n",
       "258120      6  250.809399   75.935331      F7            False   \n",
       "258121      6  244.210361   73.622783      F7            False   \n",
       "258122      6  244.222165   73.622956      F7            False   \n",
       "258123      6  244.228535   73.622730      F7            False   \n",
       "258124      6  239.614643   74.426094      F7            False   \n",
       "\n",
       "                                              xy  \\\n",
       "0       (225.50539764346954, 158.45888087205807)   \n",
       "1        (225.5017153091863, 158.45540340066236)   \n",
       "2       (225.49577556190502, 158.44760792884503)   \n",
       "3        (225.7208289446105, 160.86488322746453)   \n",
       "4       (225.71264951254145, 160.85487563772435)   \n",
       "...                                          ...   \n",
       "258120   (250.80939931490835, 75.93533129218073)   \n",
       "258121   (244.21036071197074, 73.62278287693275)   \n",
       "258122   (244.22216533550173, 73.62295571009724)   \n",
       "258123   (244.22853525198616, 73.62273006752933)   \n",
       "258124   (239.61464255469681, 74.42609411400535)   \n",
       "\n",
       "                         matched_point  oof_min_snap_x  oof_min_snap_y  \n",
       "0               (224.45633, 160.10567)       224.45633      160.105670  \n",
       "1               (224.45633, 160.10567)       224.45633      160.105670  \n",
       "2               (224.45633, 160.10567)       224.45633      160.105670  \n",
       "3               (224.45633, 160.10567)       224.45633      160.105670  \n",
       "4               (224.45633, 160.10567)       224.45633      160.105670  \n",
       "...                                ...             ...             ...  \n",
       "258120  (249.43129, 76.24123399999998)       249.43129       76.241234  \n",
       "258121           (242.5444, 72.935265)       242.54440       72.935265  \n",
       "258122           (242.5444, 72.935265)       242.54440       72.935265  \n",
       "258123           (242.5444, 72.935265)       242.54440       72.935265  \n",
       "258124  (237.22395, 73.17768000000002)       237.22395       73.177680  \n",
       "\n",
       "[258125 rows x 14 columns]"
      ],
      "text/html": "<div>\n<style scoped>\n    .dataframe tbody tr th:only-of-type {\n        vertical-align: middle;\n    }\n\n    .dataframe tbody tr th {\n        vertical-align: top;\n    }\n\n    .dataframe thead th {\n        text-align: right;\n    }\n</style>\n<table border=\"1\" class=\"dataframe\">\n  <thead>\n    <tr style=\"text-align: right;\">\n      <th></th>\n      <th>index</th>\n      <th>site</th>\n      <th>path</th>\n      <th>timestamp</th>\n      <th>site_path_timestamp</th>\n      <th>floor</th>\n      <th>x</th>\n      <th>y</th>\n      <th>floorNo</th>\n      <th>isTrainWaypoint</th>\n      <th>xy</th>\n      <th>matched_point</th>\n      <th>oof_min_snap_x</th>\n      <th>oof_min_snap_y</th>\n    </tr>\n  </thead>\n  <tbody>\n    <tr>\n      <th>0</th>\n      <td>5688</td>\n      <td>5a0546857ecc773753327266</td>\n      <td>5e15730aa280850006f3d005</td>\n      <td>1578462618392</td>\n      <td>5a0546857ecc773753327266_5e15730aa280850006f3d...</td>\n      <td>-1</td>\n      <td>225.505398</td>\n      <td>158.458881</td>\n      <td>B1</td>\n      <td>False</td>\n      <td>(225.50539764346954, 158.45888087205807)</td>\n      <td>(224.45633, 160.10567)</td>\n      <td>224.45633</td>\n      <td>160.105670</td>\n    </tr>\n    <tr>\n      <th>1</th>\n      <td>5689</td>\n      <td>5a0546857ecc773753327266</td>\n      <td>5e15730aa280850006f3d005</td>\n      <td>1578462618392</td>\n      <td>5a0546857ecc773753327266_5e15730aa280850006f3d...</td>\n      <td>-1</td>\n      <td>225.501715</td>\n      <td>158.455403</td>\n      <td>B1</td>\n      <td>False</td>\n      <td>(225.5017153091863, 158.45540340066236)</td>\n      <td>(224.45633, 160.10567)</td>\n      <td>224.45633</td>\n      <td>160.105670</td>\n    </tr>\n    <tr>\n      <th>2</th>\n      <td>5690</td>\n      <td>5a0546857ecc773753327266</td>\n      <td>5e15730aa280850006f3d005</td>\n      <td>1578462618392</td>\n      <td>5a0546857ecc773753327266_5e15730aa280850006f3d...</td>\n      <td>-1</td>\n      <td>225.495776</td>\n      <td>158.447608</td>\n      <td>B1</td>\n      <td>False</td>\n      <td>(225.49577556190502, 158.44760792884503)</td>\n      <td>(224.45633, 160.10567)</td>\n      <td>224.45633</td>\n      <td>160.105670</td>\n    </tr>\n    <tr>\n      <th>3</th>\n      <td>5691</td>\n      <td>5a0546857ecc773753327266</td>\n      <td>5e15730aa280850006f3d005</td>\n      <td>1578462628512</td>\n      <td>5a0546857ecc773753327266_5e15730aa280850006f3d...</td>\n      <td>-1</td>\n      <td>225.720829</td>\n      <td>160.864883</td>\n      <td>B1</td>\n      <td>False</td>\n      <td>(225.7208289446105, 160.86488322746453)</td>\n      <td>(224.45633, 160.10567)</td>\n      <td>224.45633</td>\n      <td>160.105670</td>\n    </tr>\n    <tr>\n      <th>4</th>\n      <td>5692</td>\n      <td>5a0546857ecc773753327266</td>\n      <td>5e15730aa280850006f3d005</td>\n      <td>1578462628512</td>\n      <td>5a0546857ecc773753327266_5e15730aa280850006f3d...</td>\n      <td>-1</td>\n      <td>225.712650</td>\n      <td>160.854876</td>\n      <td>B1</td>\n      <td>False</td>\n      <td>(225.71264951254145, 160.85487563772435)</td>\n      <td>(224.45633, 160.10567)</td>\n      <td>224.45633</td>\n      <td>160.105670</td>\n    </tr>\n    <tr>\n      <th>...</th>\n      <td>...</td>\n      <td>...</td>\n      <td>...</td>\n      <td>...</td>\n      <td>...</td>\n      <td>...</td>\n      <td>...</td>\n      <td>...</td>\n      <td>...</td>\n      <td>...</td>\n      <td>...</td>\n      <td>...</td>\n      <td>...</td>\n      <td>...</td>\n    </tr>\n    <tr>\n      <th>258120</th>\n      <td>257092</td>\n      <td>5dc8cea7659e181adb076a3f</td>\n      <td>5dd0d97d878f3300066c750b</td>\n      <td>1573968234519</td>\n      <td>5dc8cea7659e181adb076a3f_5dd0d97d878f3300066c7...</td>\n      <td>6</td>\n      <td>250.809399</td>\n      <td>75.935331</td>\n      <td>F7</td>\n      <td>False</td>\n      <td>(250.80939931490835, 75.93533129218073)</td>\n      <td>(249.43129, 76.24123399999998)</td>\n      <td>249.43129</td>\n      <td>76.241234</td>\n    </tr>\n    <tr>\n      <th>258121</th>\n      <td>257093</td>\n      <td>5dc8cea7659e181adb076a3f</td>\n      <td>5dd0d97d878f3300066c750b</td>\n      <td>1573968240535</td>\n      <td>5dc8cea7659e181adb076a3f_5dd0d97d878f3300066c7...</td>\n      <td>6</td>\n      <td>244.210361</td>\n      <td>73.622783</td>\n      <td>F7</td>\n      <td>False</td>\n      <td>(244.21036071197074, 73.62278287693275)</td>\n      <td>(242.5444, 72.935265)</td>\n      <td>242.54440</td>\n      <td>72.935265</td>\n    </tr>\n    <tr>\n      <th>258122</th>\n      <td>257094</td>\n      <td>5dc8cea7659e181adb076a3f</td>\n      <td>5dd0d97d878f3300066c750b</td>\n      <td>1573968240535</td>\n      <td>5dc8cea7659e181adb076a3f_5dd0d97d878f3300066c7...</td>\n      <td>6</td>\n      <td>244.222165</td>\n      <td>73.622956</td>\n      <td>F7</td>\n      <td>False</td>\n      <td>(244.22216533550173, 73.62295571009724)</td>\n      <td>(242.5444, 72.935265)</td>\n      <td>242.54440</td>\n      <td>72.935265</td>\n    </tr>\n    <tr>\n      <th>258123</th>\n      <td>257095</td>\n      <td>5dc8cea7659e181adb076a3f</td>\n      <td>5dd0d97d878f3300066c750b</td>\n      <td>1573968240535</td>\n      <td>5dc8cea7659e181adb076a3f_5dd0d97d878f3300066c7...</td>\n      <td>6</td>\n      <td>244.228535</td>\n      <td>73.622730</td>\n      <td>F7</td>\n      <td>False</td>\n      <td>(244.22853525198616, 73.62273006752933)</td>\n      <td>(242.5444, 72.935265)</td>\n      <td>242.54440</td>\n      <td>72.935265</td>\n    </tr>\n    <tr>\n      <th>258124</th>\n      <td>257096</td>\n      <td>5dc8cea7659e181adb076a3f</td>\n      <td>5dd0d97d878f3300066c750b</td>\n      <td>1573968244875</td>\n      <td>5dc8cea7659e181adb076a3f_5dd0d97d878f3300066c7...</td>\n      <td>6</td>\n      <td>239.614643</td>\n      <td>74.426094</td>\n      <td>F7</td>\n      <td>False</td>\n      <td>(239.61464255469681, 74.42609411400535)</td>\n      <td>(237.22395, 73.17768000000002)</td>\n      <td>237.22395</td>\n      <td>73.177680</td>\n    </tr>\n  </tbody>\n</table>\n<p>258125 rows × 14 columns</p>\n</div>"
     },
     "metadata": {},
     "execution_count": 50
    }
   ],
   "source": [
    "train_waypoints = pd.read_csv('../../input/indoor-location-train-waypoints/train_waypoints.csv')\n",
    "snap_df = oofs_df[['site_path_timestamp','floor','oof_min_x','oof_min_y']].copy()\n",
    "snap_df = snap_df.rename(columns={'oof_min_x':'x', 'oof_min_y':'y'})\n",
    "snap_df = sub_process(snap_df, train_waypoints)\n",
    "snap_df = add_xy(snap_df)\n",
    "train_waypoints = add_xy(train_waypoints)\n",
    "\n",
    "ds = []\n",
    "for (site, myfloor), d in tqdm(snap_df.groupby(['site','floor'])):\n",
    "    true_floor_locs = train_waypoints.loc[(train_waypoints['floor'] == myfloor) &\n",
    "                                          (train_waypoints['site'] == site)] \\\n",
    "        .reset_index(drop=True)\n",
    "    if len(true_floor_locs) == 0:\n",
    "        print(f'Skipping {site} {myfloor}')\n",
    "        continue\n",
    "    d['matched_point'] = [closest_point(x, list(true_floor_locs['xy'])) for x in d['xy']]\n",
    "    d['oof_min_snap_x'] = d['matched_point'].apply(lambda x: x[0])\n",
    "    d['oof_min_snap_y'] = d['matched_point'].apply(lambda x: x[1])\n",
    "    ds.append(d)\n",
    "\n",
    "# 上書き\n",
    "snap_df = pd.concat(ds).sort_index()\n",
    "snap_df"
   ]
  },
  {
   "cell_type": "code",
   "execution_count": 55,
   "metadata": {},
   "outputs": [
    {
     "output_type": "execute_result",
     "data": {
      "text/plain": [
       "            timestamp   target_x    target_y  site_id  \\\n",
       "0       1561368762838   78.21819   38.999737        0   \n",
       "1       1561368762838   78.21819   38.999737        0   \n",
       "2       1561368774057   76.25184   30.510840        0   \n",
       "3       1561368774057   76.25184   30.510840        0   \n",
       "4       1561368774057   76.25184   30.510840        0   \n",
       "...               ...        ...         ...      ...   \n",
       "258120  1574420742502  193.20488  108.001520       23   \n",
       "258121  1574420742502  193.20488  108.001520       23   \n",
       "258122  1574420753754  204.29349  107.835120       23   \n",
       "258123  1574420753754  204.29349  107.835120       23   \n",
       "258124  1574420753754  204.29349  107.835120       23   \n",
       "\n",
       "                     site_id_str      wifi_x      wifi_y  floor floor_str  \\\n",
       "0       5a0546857ecc773753327266   77.890465   37.584921      2        F3   \n",
       "1       5a0546857ecc773753327266   77.562740   36.170105      2        F3   \n",
       "2       5a0546857ecc773753327266   77.235015   34.755289      2        F3   \n",
       "3       5a0546857ecc773753327266   77.202679   21.519628      2        F3   \n",
       "4       5a0546857ecc773753327266   76.991381   23.517675      2        F3   \n",
       "...                          ...         ...         ...    ...       ...   \n",
       "258120  5dc8cea7659e181adb076a3f  197.825134  107.932187     -1        B1   \n",
       "258121  5dc8cea7659e181adb076a3f  194.128931  107.987653     -1        B1   \n",
       "258122  5dc8cea7659e181adb076a3f  199.673236  107.904453     -1        B1   \n",
       "258123  5dc8cea7659e181adb076a3f  201.521337  107.876720     -1        B1   \n",
       "258124  5dc8cea7659e181adb076a3f  203.369439  107.848987     -1        B1   \n",
       "\n",
       "                            path  time_diff       oof_x       oof_y  \\\n",
       "0       5d10a1669c50c70008fe8977       1969   84.865143   39.419571   \n",
       "1       5d10a1669c50c70008fe8977       3966   87.870216   33.456242   \n",
       "2       5d10a1669c50c70008fe8977      -5250   82.229469   30.581415   \n",
       "3       5d10a1669c50c70008fe8977       8838   82.887291   28.168413   \n",
       "4       5d10a1669c50c70008fe8977       6812   80.341606   22.184681   \n",
       "...                          ...        ...         ...         ...   \n",
       "258120  5dd7c119c5b77e0006b16b99       4790  199.136230  104.263153   \n",
       "258121  5dd7c119c5b77e0006b16b99       1006  201.388168  103.995300   \n",
       "258122  5dd7c119c5b77e0006b16b99      -4550  199.976761  103.671677   \n",
       "258123  5dd7c119c5b77e0006b16b99      -2662  201.535706  104.701302   \n",
       "258124  5dd7c119c5b77e0006b16b99       -756  203.893616  102.690857   \n",
       "\n",
       "        oof_floor                                site_path_timestamp  \\\n",
       "0        0.207957  5a0546857ecc773753327266_5d10a1669c50c70008fe8...   \n",
       "1        0.206626  5a0546857ecc773753327266_5d10a1669c50c70008fe8...   \n",
       "2        0.211186  5a0546857ecc773753327266_5d10a1669c50c70008fe8...   \n",
       "3        0.208902  5a0546857ecc773753327266_5d10a1669c50c70008fe8...   \n",
       "4        0.212189  5a0546857ecc773753327266_5d10a1669c50c70008fe8...   \n",
       "...           ...                                                ...   \n",
       "258120   0.000000  5dc8cea7659e181adb076a3f_5dd7c119c5b77e0006b16...   \n",
       "258121   0.000000  5dc8cea7659e181adb076a3f_5dd7c119c5b77e0006b16...   \n",
       "258122   0.000000  5dc8cea7659e181adb076a3f_5dd7c119c5b77e0006b16...   \n",
       "258123   0.000000  5dc8cea7659e181adb076a3f_5dd7c119c5b77e0006b16...   \n",
       "258124   0.000000  5dc8cea7659e181adb076a3f_5dd7c119c5b77e0006b16...   \n",
       "\n",
       "         oof_min_x   oof_min_y  oof_min_snap_x  oof_min_snap_y  \n",
       "0        84.193822   35.990409        80.68140       39.265667  \n",
       "1        84.192901   35.985705        80.68140       39.265667  \n",
       "2        83.453731   27.580249        84.22669       27.138620  \n",
       "3        83.449445   27.574898        84.22669       27.138620  \n",
       "4        83.445930   27.568733        84.22669       27.138620  \n",
       "...            ...         ...             ...             ...  \n",
       "258120  199.920868  103.909185       200.75478      106.755630  \n",
       "258121  199.902156  103.904538       200.75478      106.755630  \n",
       "258122  206.853274  104.850549       208.15857      104.707800  \n",
       "258123  206.841957  104.847394       208.15857      104.707800  \n",
       "258124  206.837918  104.844440       208.15857      104.707800  \n",
       "\n",
       "[258125 rows x 19 columns]"
      ],
      "text/html": "<div>\n<style scoped>\n    .dataframe tbody tr th:only-of-type {\n        vertical-align: middle;\n    }\n\n    .dataframe tbody tr th {\n        vertical-align: top;\n    }\n\n    .dataframe thead th {\n        text-align: right;\n    }\n</style>\n<table border=\"1\" class=\"dataframe\">\n  <thead>\n    <tr style=\"text-align: right;\">\n      <th></th>\n      <th>timestamp</th>\n      <th>target_x</th>\n      <th>target_y</th>\n      <th>site_id</th>\n      <th>site_id_str</th>\n      <th>wifi_x</th>\n      <th>wifi_y</th>\n      <th>floor</th>\n      <th>floor_str</th>\n      <th>path</th>\n      <th>time_diff</th>\n      <th>oof_x</th>\n      <th>oof_y</th>\n      <th>oof_floor</th>\n      <th>site_path_timestamp</th>\n      <th>oof_min_x</th>\n      <th>oof_min_y</th>\n      <th>oof_min_snap_x</th>\n      <th>oof_min_snap_y</th>\n    </tr>\n  </thead>\n  <tbody>\n    <tr>\n      <th>0</th>\n      <td>1561368762838</td>\n      <td>78.21819</td>\n      <td>38.999737</td>\n      <td>0</td>\n      <td>5a0546857ecc773753327266</td>\n      <td>77.890465</td>\n      <td>37.584921</td>\n      <td>2</td>\n      <td>F3</td>\n      <td>5d10a1669c50c70008fe8977</td>\n      <td>1969</td>\n      <td>84.865143</td>\n      <td>39.419571</td>\n      <td>0.207957</td>\n      <td>5a0546857ecc773753327266_5d10a1669c50c70008fe8...</td>\n      <td>84.193822</td>\n      <td>35.990409</td>\n      <td>80.68140</td>\n      <td>39.265667</td>\n    </tr>\n    <tr>\n      <th>1</th>\n      <td>1561368762838</td>\n      <td>78.21819</td>\n      <td>38.999737</td>\n      <td>0</td>\n      <td>5a0546857ecc773753327266</td>\n      <td>77.562740</td>\n      <td>36.170105</td>\n      <td>2</td>\n      <td>F3</td>\n      <td>5d10a1669c50c70008fe8977</td>\n      <td>3966</td>\n      <td>87.870216</td>\n      <td>33.456242</td>\n      <td>0.206626</td>\n      <td>5a0546857ecc773753327266_5d10a1669c50c70008fe8...</td>\n      <td>84.192901</td>\n      <td>35.985705</td>\n      <td>80.68140</td>\n      <td>39.265667</td>\n    </tr>\n    <tr>\n      <th>2</th>\n      <td>1561368774057</td>\n      <td>76.25184</td>\n      <td>30.510840</td>\n      <td>0</td>\n      <td>5a0546857ecc773753327266</td>\n      <td>77.235015</td>\n      <td>34.755289</td>\n      <td>2</td>\n      <td>F3</td>\n      <td>5d10a1669c50c70008fe8977</td>\n      <td>-5250</td>\n      <td>82.229469</td>\n      <td>30.581415</td>\n      <td>0.211186</td>\n      <td>5a0546857ecc773753327266_5d10a1669c50c70008fe8...</td>\n      <td>83.453731</td>\n      <td>27.580249</td>\n      <td>84.22669</td>\n      <td>27.138620</td>\n    </tr>\n    <tr>\n      <th>3</th>\n      <td>1561368774057</td>\n      <td>76.25184</td>\n      <td>30.510840</td>\n      <td>0</td>\n      <td>5a0546857ecc773753327266</td>\n      <td>77.202679</td>\n      <td>21.519628</td>\n      <td>2</td>\n      <td>F3</td>\n      <td>5d10a1669c50c70008fe8977</td>\n      <td>8838</td>\n      <td>82.887291</td>\n      <td>28.168413</td>\n      <td>0.208902</td>\n      <td>5a0546857ecc773753327266_5d10a1669c50c70008fe8...</td>\n      <td>83.449445</td>\n      <td>27.574898</td>\n      <td>84.22669</td>\n      <td>27.138620</td>\n    </tr>\n    <tr>\n      <th>4</th>\n      <td>1561368774057</td>\n      <td>76.25184</td>\n      <td>30.510840</td>\n      <td>0</td>\n      <td>5a0546857ecc773753327266</td>\n      <td>76.991381</td>\n      <td>23.517675</td>\n      <td>2</td>\n      <td>F3</td>\n      <td>5d10a1669c50c70008fe8977</td>\n      <td>6812</td>\n      <td>80.341606</td>\n      <td>22.184681</td>\n      <td>0.212189</td>\n      <td>5a0546857ecc773753327266_5d10a1669c50c70008fe8...</td>\n      <td>83.445930</td>\n      <td>27.568733</td>\n      <td>84.22669</td>\n      <td>27.138620</td>\n    </tr>\n    <tr>\n      <th>...</th>\n      <td>...</td>\n      <td>...</td>\n      <td>...</td>\n      <td>...</td>\n      <td>...</td>\n      <td>...</td>\n      <td>...</td>\n      <td>...</td>\n      <td>...</td>\n      <td>...</td>\n      <td>...</td>\n      <td>...</td>\n      <td>...</td>\n      <td>...</td>\n      <td>...</td>\n      <td>...</td>\n      <td>...</td>\n      <td>...</td>\n      <td>...</td>\n    </tr>\n    <tr>\n      <th>258120</th>\n      <td>1574420742502</td>\n      <td>193.20488</td>\n      <td>108.001520</td>\n      <td>23</td>\n      <td>5dc8cea7659e181adb076a3f</td>\n      <td>197.825134</td>\n      <td>107.932187</td>\n      <td>-1</td>\n      <td>B1</td>\n      <td>5dd7c119c5b77e0006b16b99</td>\n      <td>4790</td>\n      <td>199.136230</td>\n      <td>104.263153</td>\n      <td>0.000000</td>\n      <td>5dc8cea7659e181adb076a3f_5dd7c119c5b77e0006b16...</td>\n      <td>199.920868</td>\n      <td>103.909185</td>\n      <td>200.75478</td>\n      <td>106.755630</td>\n    </tr>\n    <tr>\n      <th>258121</th>\n      <td>1574420742502</td>\n      <td>193.20488</td>\n      <td>108.001520</td>\n      <td>23</td>\n      <td>5dc8cea7659e181adb076a3f</td>\n      <td>194.128931</td>\n      <td>107.987653</td>\n      <td>-1</td>\n      <td>B1</td>\n      <td>5dd7c119c5b77e0006b16b99</td>\n      <td>1006</td>\n      <td>201.388168</td>\n      <td>103.995300</td>\n      <td>0.000000</td>\n      <td>5dc8cea7659e181adb076a3f_5dd7c119c5b77e0006b16...</td>\n      <td>199.902156</td>\n      <td>103.904538</td>\n      <td>200.75478</td>\n      <td>106.755630</td>\n    </tr>\n    <tr>\n      <th>258122</th>\n      <td>1574420753754</td>\n      <td>204.29349</td>\n      <td>107.835120</td>\n      <td>23</td>\n      <td>5dc8cea7659e181adb076a3f</td>\n      <td>199.673236</td>\n      <td>107.904453</td>\n      <td>-1</td>\n      <td>B1</td>\n      <td>5dd7c119c5b77e0006b16b99</td>\n      <td>-4550</td>\n      <td>199.976761</td>\n      <td>103.671677</td>\n      <td>0.000000</td>\n      <td>5dc8cea7659e181adb076a3f_5dd7c119c5b77e0006b16...</td>\n      <td>206.853274</td>\n      <td>104.850549</td>\n      <td>208.15857</td>\n      <td>104.707800</td>\n    </tr>\n    <tr>\n      <th>258123</th>\n      <td>1574420753754</td>\n      <td>204.29349</td>\n      <td>107.835120</td>\n      <td>23</td>\n      <td>5dc8cea7659e181adb076a3f</td>\n      <td>201.521337</td>\n      <td>107.876720</td>\n      <td>-1</td>\n      <td>B1</td>\n      <td>5dd7c119c5b77e0006b16b99</td>\n      <td>-2662</td>\n      <td>201.535706</td>\n      <td>104.701302</td>\n      <td>0.000000</td>\n      <td>5dc8cea7659e181adb076a3f_5dd7c119c5b77e0006b16...</td>\n      <td>206.841957</td>\n      <td>104.847394</td>\n      <td>208.15857</td>\n      <td>104.707800</td>\n    </tr>\n    <tr>\n      <th>258124</th>\n      <td>1574420753754</td>\n      <td>204.29349</td>\n      <td>107.835120</td>\n      <td>23</td>\n      <td>5dc8cea7659e181adb076a3f</td>\n      <td>203.369439</td>\n      <td>107.848987</td>\n      <td>-1</td>\n      <td>B1</td>\n      <td>5dd7c119c5b77e0006b16b99</td>\n      <td>-756</td>\n      <td>203.893616</td>\n      <td>102.690857</td>\n      <td>0.000000</td>\n      <td>5dc8cea7659e181adb076a3f_5dd7c119c5b77e0006b16...</td>\n      <td>206.837918</td>\n      <td>104.844440</td>\n      <td>208.15857</td>\n      <td>104.707800</td>\n    </tr>\n  </tbody>\n</table>\n<p>258125 rows × 19 columns</p>\n</div>"
     },
     "metadata": {},
     "execution_count": 55
    }
   ],
   "source": [
    "oofs_df['oof_min_snap_x'] = snap_df['oof_min_snap_x']\n",
    "oofs_df['oof_min_snap_y'] = snap_df['oof_min_snap_y']\n",
    "oofs_df"
   ]
  },
  {
   "cell_type": "code",
   "execution_count": 56,
   "metadata": {},
   "outputs": [
    {
     "output_type": "stream",
     "name": "stdout",
     "text": [
      "(after cost-min) CV:6.162038106118702\n"
     ]
    }
   ],
   "source": [
    "# waypoint補正前のx,yでの評価\n",
    "oof_score_post_process = mean_position_error(\n",
    "    oofs_df['oof_min_snap_x'], oofs_df['oof_min_snap_y'], 0, \n",
    "    oofs_df['target_x'], oofs_df['target_y'], 0\n",
    "    )\n",
    "print(f\"(after cost-min + snap) CV:{oof_score_post_process}\")"
   ]
  },
  {
   "cell_type": "code",
   "execution_count": 58,
   "metadata": {},
   "outputs": [
    {
     "output_type": "stream",
     "name": "stdout",
     "text": [
      "(after cost-min) CV:6.685722694331589\n"
     ]
    }
   ],
   "source": [
    "# waypoint補正前のx,yでの評価\n",
    "oof_score_post_process = mean_position_error(\n",
    "    oofs_df['oof_min_snap_x'], oofs_df['oof_min_snap_y'], 0, \n",
    "    oofs_df['wifi_x'], oofs_df['wifi_y'], 0\n",
    "    )\n",
    "print(f\"(after cost-min + snap) CV:{oof_score_post_process}\")"
   ]
  },
  {
   "cell_type": "code",
   "execution_count": 72,
   "metadata": {},
   "outputs": [
    {
     "output_type": "execute_result",
     "data": {
      "text/plain": [
       "<pandas.io.formats.style.Styler at 0x7f02ba34d310>"
      ],
      "text/html": "<style  type=\"text/css\" >\n#T_c6defb14_92ed_11eb_bff0_e996809fb442row0_col1{\n            width:  10em;\n             height:  80%;\n            background:  linear-gradient(90deg,teal 31.6%, transparent 31.6%);\n        }#T_c6defb14_92ed_11eb_bff0_e996809fb442row0_col2{\n            width:  10em;\n             height:  80%;\n            background:  linear-gradient(90deg,teal 15.8%, transparent 15.8%);\n        }#T_c6defb14_92ed_11eb_bff0_e996809fb442row1_col1{\n            width:  10em;\n             height:  80%;\n            background:  linear-gradient(90deg,teal 33.7%, transparent 33.7%);\n        }#T_c6defb14_92ed_11eb_bff0_e996809fb442row1_col2{\n            width:  10em;\n             height:  80%;\n            background:  linear-gradient(90deg,teal 82.2%, transparent 82.2%);\n        }#T_c6defb14_92ed_11eb_bff0_e996809fb442row2_col1,#T_c6defb14_92ed_11eb_bff0_e996809fb442row16_col2{\n            width:  10em;\n             height:  80%;\n            background:  linear-gradient(90deg,teal 100.0%, transparent 100.0%);\n        }#T_c6defb14_92ed_11eb_bff0_e996809fb442row2_col2{\n            width:  10em;\n             height:  80%;\n            background:  linear-gradient(90deg,teal 44.5%, transparent 44.5%);\n        }#T_c6defb14_92ed_11eb_bff0_e996809fb442row3_col1{\n            width:  10em;\n             height:  80%;\n            background:  linear-gradient(90deg,teal 30.7%, transparent 30.7%);\n        }#T_c6defb14_92ed_11eb_bff0_e996809fb442row3_col2{\n            width:  10em;\n             height:  80%;\n            background:  linear-gradient(90deg,teal 8.0%, transparent 8.0%);\n        }#T_c6defb14_92ed_11eb_bff0_e996809fb442row4_col1{\n            width:  10em;\n             height:  80%;\n            background:  linear-gradient(90deg,teal 37.4%, transparent 37.4%);\n        }#T_c6defb14_92ed_11eb_bff0_e996809fb442row4_col2{\n            width:  10em;\n             height:  80%;\n            background:  linear-gradient(90deg,teal 99.5%, transparent 99.5%);\n        }#T_c6defb14_92ed_11eb_bff0_e996809fb442row5_col1{\n            width:  10em;\n             height:  80%;\n            background:  linear-gradient(90deg,teal 7.6%, transparent 7.6%);\n        }#T_c6defb14_92ed_11eb_bff0_e996809fb442row5_col2,#T_c6defb14_92ed_11eb_bff0_e996809fb442row13_col2{\n            width:  10em;\n             height:  80%;\n            background:  linear-gradient(90deg,teal 48.3%, transparent 48.3%);\n        }#T_c6defb14_92ed_11eb_bff0_e996809fb442row6_col1{\n            width:  10em;\n             height:  80%;\n            background:  linear-gradient(90deg,teal 6.1%, transparent 6.1%);\n        }#T_c6defb14_92ed_11eb_bff0_e996809fb442row6_col2{\n            width:  10em;\n             height:  80%;\n            background:  linear-gradient(90deg,teal 27.1%, transparent 27.1%);\n        }#T_c6defb14_92ed_11eb_bff0_e996809fb442row7_col1,#T_c6defb14_92ed_11eb_bff0_e996809fb442row17_col2{\n            width:  10em;\n             height:  80%;\n            background:  linear-gradient(90deg,teal 60.4%, transparent 60.4%);\n        }#T_c6defb14_92ed_11eb_bff0_e996809fb442row7_col2{\n            width:  10em;\n             height:  80%;\n            background:  linear-gradient(90deg,teal 26.5%, transparent 26.5%);\n        }#T_c6defb14_92ed_11eb_bff0_e996809fb442row8_col1{\n            width:  10em;\n             height:  80%;\n            background:  linear-gradient(90deg,teal 69.2%, transparent 69.2%);\n        }#T_c6defb14_92ed_11eb_bff0_e996809fb442row8_col2{\n            width:  10em;\n             height:  80%;\n            background:  linear-gradient(90deg,teal 88.3%, transparent 88.3%);\n        }#T_c6defb14_92ed_11eb_bff0_e996809fb442row9_col1{\n            width:  10em;\n             height:  80%;\n            background:  linear-gradient(90deg,teal 35.3%, transparent 35.3%);\n        }#T_c6defb14_92ed_11eb_bff0_e996809fb442row9_col2{\n            width:  10em;\n             height:  80%;\n            background:  linear-gradient(90deg,teal 30.6%, transparent 30.6%);\n        }#T_c6defb14_92ed_11eb_bff0_e996809fb442row10_col1{\n            width:  10em;\n             height:  80%;\n            background:  linear-gradient(90deg,teal 35.1%, transparent 35.1%);\n        }#T_c6defb14_92ed_11eb_bff0_e996809fb442row10_col2{\n            width:  10em;\n             height:  80%;\n            background:  linear-gradient(90deg,teal 65.3%, transparent 65.3%);\n        }#T_c6defb14_92ed_11eb_bff0_e996809fb442row11_col1{\n            width:  10em;\n             height:  80%;\n            background:  linear-gradient(90deg,teal 39.9%, transparent 39.9%);\n        }#T_c6defb14_92ed_11eb_bff0_e996809fb442row11_col2{\n            width:  10em;\n             height:  80%;\n            background:  linear-gradient(90deg,teal 85.4%, transparent 85.4%);\n        }#T_c6defb14_92ed_11eb_bff0_e996809fb442row12_col1,#T_c6defb14_92ed_11eb_bff0_e996809fb442row15_col2{\n            width:  10em;\n             height:  80%;\n        }#T_c6defb14_92ed_11eb_bff0_e996809fb442row12_col2{\n            width:  10em;\n             height:  80%;\n            background:  linear-gradient(90deg,teal 52.3%, transparent 52.3%);\n        }#T_c6defb14_92ed_11eb_bff0_e996809fb442row13_col1,#T_c6defb14_92ed_11eb_bff0_e996809fb442row14_col1{\n            width:  10em;\n             height:  80%;\n            background:  linear-gradient(90deg,teal 30.2%, transparent 30.2%);\n        }#T_c6defb14_92ed_11eb_bff0_e996809fb442row14_col2{\n            width:  10em;\n             height:  80%;\n            background:  linear-gradient(90deg,teal 6.5%, transparent 6.5%);\n        }#T_c6defb14_92ed_11eb_bff0_e996809fb442row15_col1{\n            width:  10em;\n             height:  80%;\n            background:  linear-gradient(90deg,teal 0.5%, transparent 0.5%);\n        }#T_c6defb14_92ed_11eb_bff0_e996809fb442row16_col1{\n            width:  10em;\n             height:  80%;\n            background:  linear-gradient(90deg,teal 50.2%, transparent 50.2%);\n        }#T_c6defb14_92ed_11eb_bff0_e996809fb442row17_col1{\n            width:  10em;\n             height:  80%;\n            background:  linear-gradient(90deg,teal 21.5%, transparent 21.5%);\n        }#T_c6defb14_92ed_11eb_bff0_e996809fb442row18_col1{\n            width:  10em;\n             height:  80%;\n            background:  linear-gradient(90deg,teal 32.2%, transparent 32.2%);\n        }#T_c6defb14_92ed_11eb_bff0_e996809fb442row18_col2{\n            width:  10em;\n             height:  80%;\n            background:  linear-gradient(90deg,teal 44.3%, transparent 44.3%);\n        }#T_c6defb14_92ed_11eb_bff0_e996809fb442row19_col1{\n            width:  10em;\n             height:  80%;\n            background:  linear-gradient(90deg,teal 17.4%, transparent 17.4%);\n        }#T_c6defb14_92ed_11eb_bff0_e996809fb442row19_col2{\n            width:  10em;\n             height:  80%;\n            background:  linear-gradient(90deg,teal 44.4%, transparent 44.4%);\n        }#T_c6defb14_92ed_11eb_bff0_e996809fb442row20_col1,#T_c6defb14_92ed_11eb_bff0_e996809fb442row23_col2{\n            width:  10em;\n             height:  80%;\n            background:  linear-gradient(90deg,teal 70.1%, transparent 70.1%);\n        }#T_c6defb14_92ed_11eb_bff0_e996809fb442row20_col2{\n            width:  10em;\n             height:  80%;\n            background:  linear-gradient(90deg,teal 94.8%, transparent 94.8%);\n        }#T_c6defb14_92ed_11eb_bff0_e996809fb442row21_col1{\n            width:  10em;\n             height:  80%;\n            background:  linear-gradient(90deg,teal 59.4%, transparent 59.4%);\n        }#T_c6defb14_92ed_11eb_bff0_e996809fb442row21_col2{\n            width:  10em;\n             height:  80%;\n            background:  linear-gradient(90deg,teal 57.8%, transparent 57.8%);\n        }#T_c6defb14_92ed_11eb_bff0_e996809fb442row22_col1{\n            width:  10em;\n             height:  80%;\n            background:  linear-gradient(90deg,teal 64.3%, transparent 64.3%);\n        }#T_c6defb14_92ed_11eb_bff0_e996809fb442row22_col2{\n            width:  10em;\n             height:  80%;\n            background:  linear-gradient(90deg,teal 58.1%, transparent 58.1%);\n        }#T_c6defb14_92ed_11eb_bff0_e996809fb442row23_col1{\n            width:  10em;\n             height:  80%;\n            background:  linear-gradient(90deg,teal 61.9%, transparent 61.9%);\n        }</style><table id=\"T_c6defb14_92ed_11eb_bff0_e996809fb442\" ><thead>    <tr>        <th class=\"blank level0\" ></th>        <th class=\"col_heading level0 col0\" >site</th>        <th class=\"col_heading level0 col1\" >n_sample</th>        <th class=\"col_heading level0 col2\" >score</th>    </tr></thead><tbody>\n                <tr>\n                        <th id=\"T_c6defb14_92ed_11eb_bff0_e996809fb442level0_row0\" class=\"row_heading level0 row0\" >0</th>\n                        <td id=\"T_c6defb14_92ed_11eb_bff0_e996809fb442row0_col0\" class=\"data row0 col0\" >5a0546857ecc773753327266</td>\n                        <td id=\"T_c6defb14_92ed_11eb_bff0_e996809fb442row0_col1\" class=\"data row0 col1\" >9296</td>\n                        <td id=\"T_c6defb14_92ed_11eb_bff0_e996809fb442row0_col2\" class=\"data row0 col2\" >4.400131</td>\n            </tr>\n            <tr>\n                        <th id=\"T_c6defb14_92ed_11eb_bff0_e996809fb442level0_row1\" class=\"row_heading level0 row1\" >1</th>\n                        <td id=\"T_c6defb14_92ed_11eb_bff0_e996809fb442row1_col0\" class=\"data row1 col0\" >5c3c44b80379370013e0fd2b</td>\n                        <td id=\"T_c6defb14_92ed_11eb_bff0_e996809fb442row1_col1\" class=\"data row1 col1\" >9737</td>\n                        <td id=\"T_c6defb14_92ed_11eb_bff0_e996809fb442row1_col2\" class=\"data row1 col2\" >8.016525</td>\n            </tr>\n            <tr>\n                        <th id=\"T_c6defb14_92ed_11eb_bff0_e996809fb442level0_row2\" class=\"row_heading level0 row2\" >2</th>\n                        <td id=\"T_c6defb14_92ed_11eb_bff0_e996809fb442row2_col0\" class=\"data row2 col0\" >5d27075f03f801723c2e360f</td>\n                        <td id=\"T_c6defb14_92ed_11eb_bff0_e996809fb442row2_col1\" class=\"data row2 col1\" >23666</td>\n                        <td id=\"T_c6defb14_92ed_11eb_bff0_e996809fb442row2_col2\" class=\"data row2 col2\" >5.962845</td>\n            </tr>\n            <tr>\n                        <th id=\"T_c6defb14_92ed_11eb_bff0_e996809fb442level0_row3\" class=\"row_heading level0 row3\" >3</th>\n                        <td id=\"T_c6defb14_92ed_11eb_bff0_e996809fb442row3_col0\" class=\"data row3 col0\" >5d27096c03f801723c31e5e0</td>\n                        <td id=\"T_c6defb14_92ed_11eb_bff0_e996809fb442row3_col1\" class=\"data row3 col1\" >9100</td>\n                        <td id=\"T_c6defb14_92ed_11eb_bff0_e996809fb442row3_col2\" class=\"data row3 col2\" >3.976100</td>\n            </tr>\n            <tr>\n                        <th id=\"T_c6defb14_92ed_11eb_bff0_e996809fb442level0_row4\" class=\"row_heading level0 row4\" >4</th>\n                        <td id=\"T_c6defb14_92ed_11eb_bff0_e996809fb442row4_col0\" class=\"data row4 col0\" >5d27097f03f801723c320d97</td>\n                        <td id=\"T_c6defb14_92ed_11eb_bff0_e996809fb442row4_col1\" class=\"data row4 col1\" >10507</td>\n                        <td id=\"T_c6defb14_92ed_11eb_bff0_e996809fb442row4_col2\" class=\"data row4 col2\" >8.960016</td>\n            </tr>\n            <tr>\n                        <th id=\"T_c6defb14_92ed_11eb_bff0_e996809fb442level0_row5\" class=\"row_heading level0 row5\" >5</th>\n                        <td id=\"T_c6defb14_92ed_11eb_bff0_e996809fb442row5_col0\" class=\"data row5 col0\" >5d27099f03f801723c32511d</td>\n                        <td id=\"T_c6defb14_92ed_11eb_bff0_e996809fb442row5_col1\" class=\"data row5 col1\" >4251</td>\n                        <td id=\"T_c6defb14_92ed_11eb_bff0_e996809fb442row5_col2\" class=\"data row5 col2\" >6.169834</td>\n            </tr>\n            <tr>\n                        <th id=\"T_c6defb14_92ed_11eb_bff0_e996809fb442level0_row6\" class=\"row_heading level0 row6\" >6</th>\n                        <td id=\"T_c6defb14_92ed_11eb_bff0_e996809fb442row6_col0\" class=\"data row6 col0\" >5d2709a003f801723c3251bf</td>\n                        <td id=\"T_c6defb14_92ed_11eb_bff0_e996809fb442row6_col1\" class=\"data row6 col1\" >3940</td>\n                        <td id=\"T_c6defb14_92ed_11eb_bff0_e996809fb442row6_col2\" class=\"data row6 col2\" >5.017535</td>\n            </tr>\n            <tr>\n                        <th id=\"T_c6defb14_92ed_11eb_bff0_e996809fb442level0_row7\" class=\"row_heading level0 row7\" >7</th>\n                        <td id=\"T_c6defb14_92ed_11eb_bff0_e996809fb442row7_col0\" class=\"data row7 col0\" >5d2709b303f801723c327472</td>\n                        <td id=\"T_c6defb14_92ed_11eb_bff0_e996809fb442row7_col1\" class=\"data row7 col1\" >15358</td>\n                        <td id=\"T_c6defb14_92ed_11eb_bff0_e996809fb442row7_col2\" class=\"data row7 col2\" >4.983404</td>\n            </tr>\n            <tr>\n                        <th id=\"T_c6defb14_92ed_11eb_bff0_e996809fb442level0_row8\" class=\"row_heading level0 row8\" >8</th>\n                        <td id=\"T_c6defb14_92ed_11eb_bff0_e996809fb442row8_col0\" class=\"data row8 col0\" >5d2709bb03f801723c32852c</td>\n                        <td id=\"T_c6defb14_92ed_11eb_bff0_e996809fb442row8_col1\" class=\"data row8 col1\" >17203</td>\n                        <td id=\"T_c6defb14_92ed_11eb_bff0_e996809fb442row8_col2\" class=\"data row8 col2\" >8.350136</td>\n            </tr>\n            <tr>\n                        <th id=\"T_c6defb14_92ed_11eb_bff0_e996809fb442level0_row9\" class=\"row_heading level0 row9\" >9</th>\n                        <td id=\"T_c6defb14_92ed_11eb_bff0_e996809fb442row9_col0\" class=\"data row9 col0\" >5d2709c303f801723c3299ee</td>\n                        <td id=\"T_c6defb14_92ed_11eb_bff0_e996809fb442row9_col1\" class=\"data row9 col1\" >10083</td>\n                        <td id=\"T_c6defb14_92ed_11eb_bff0_e996809fb442row9_col2\" class=\"data row9 col2\" >5.204909</td>\n            </tr>\n            <tr>\n                        <th id=\"T_c6defb14_92ed_11eb_bff0_e996809fb442level0_row10\" class=\"row_heading level0 row10\" >10</th>\n                        <td id=\"T_c6defb14_92ed_11eb_bff0_e996809fb442row10_col0\" class=\"data row10 col0\" >5d2709d403f801723c32bd39</td>\n                        <td id=\"T_c6defb14_92ed_11eb_bff0_e996809fb442row10_col1\" class=\"data row10 col1\" >10027</td>\n                        <td id=\"T_c6defb14_92ed_11eb_bff0_e996809fb442row10_col2\" class=\"data row10 col2\" >7.098272</td>\n            </tr>\n            <tr>\n                        <th id=\"T_c6defb14_92ed_11eb_bff0_e996809fb442level0_row11\" class=\"row_heading level0 row11\" >11</th>\n                        <td id=\"T_c6defb14_92ed_11eb_bff0_e996809fb442row11_col0\" class=\"data row11 col0\" >5d2709e003f801723c32d896</td>\n                        <td id=\"T_c6defb14_92ed_11eb_bff0_e996809fb442row11_col1\" class=\"data row11 col1\" >11042</td>\n                        <td id=\"T_c6defb14_92ed_11eb_bff0_e996809fb442row11_col2\" class=\"data row11 col2\" >8.191685</td>\n            </tr>\n            <tr>\n                        <th id=\"T_c6defb14_92ed_11eb_bff0_e996809fb442level0_row12\" class=\"row_heading level0 row12\" >12</th>\n                        <td id=\"T_c6defb14_92ed_11eb_bff0_e996809fb442row12_col0\" class=\"data row12 col0\" >5da138274db8ce0c98bbd3d2</td>\n                        <td id=\"T_c6defb14_92ed_11eb_bff0_e996809fb442row12_col1\" class=\"data row12 col1\" >2662</td>\n                        <td id=\"T_c6defb14_92ed_11eb_bff0_e996809fb442row12_col2\" class=\"data row12 col2\" >6.387939</td>\n            </tr>\n            <tr>\n                        <th id=\"T_c6defb14_92ed_11eb_bff0_e996809fb442level0_row13\" class=\"row_heading level0 row13\" >13</th>\n                        <td id=\"T_c6defb14_92ed_11eb_bff0_e996809fb442row13_col0\" class=\"data row13 col0\" >5da1382d4db8ce0c98bbe92e</td>\n                        <td id=\"T_c6defb14_92ed_11eb_bff0_e996809fb442row13_col1\" class=\"data row13 col1\" >8999</td>\n                        <td id=\"T_c6defb14_92ed_11eb_bff0_e996809fb442row13_col2\" class=\"data row13 col2\" >6.167804</td>\n            </tr>\n            <tr>\n                        <th id=\"T_c6defb14_92ed_11eb_bff0_e996809fb442level0_row14\" class=\"row_heading level0 row14\" >14</th>\n                        <td id=\"T_c6defb14_92ed_11eb_bff0_e996809fb442row14_col0\" class=\"data row14 col0\" >5da138314db8ce0c98bbf3a0</td>\n                        <td id=\"T_c6defb14_92ed_11eb_bff0_e996809fb442row14_col1\" class=\"data row14 col1\" >9012</td>\n                        <td id=\"T_c6defb14_92ed_11eb_bff0_e996809fb442row14_col2\" class=\"data row14 col2\" >3.895505</td>\n            </tr>\n            <tr>\n                        <th id=\"T_c6defb14_92ed_11eb_bff0_e996809fb442level0_row15\" class=\"row_heading level0 row15\" >15</th>\n                        <td id=\"T_c6defb14_92ed_11eb_bff0_e996809fb442row15_col0\" class=\"data row15 col0\" >5da138364db8ce0c98bc00f1</td>\n                        <td id=\"T_c6defb14_92ed_11eb_bff0_e996809fb442row15_col1\" class=\"data row15 col1\" >2767</td>\n                        <td id=\"T_c6defb14_92ed_11eb_bff0_e996809fb442row15_col2\" class=\"data row15 col2\" >3.539177</td>\n            </tr>\n            <tr>\n                        <th id=\"T_c6defb14_92ed_11eb_bff0_e996809fb442level0_row16\" class=\"row_heading level0 row16\" >16</th>\n                        <td id=\"T_c6defb14_92ed_11eb_bff0_e996809fb442row16_col0\" class=\"data row16 col0\" >5da1383b4db8ce0c98bc11ab</td>\n                        <td id=\"T_c6defb14_92ed_11eb_bff0_e996809fb442row16_col1\" class=\"data row16 col1\" >13196</td>\n                        <td id=\"T_c6defb14_92ed_11eb_bff0_e996809fb442row16_col2\" class=\"data row16 col2\" >8.986880</td>\n            </tr>\n            <tr>\n                        <th id=\"T_c6defb14_92ed_11eb_bff0_e996809fb442level0_row17\" class=\"row_heading level0 row17\" >17</th>\n                        <td id=\"T_c6defb14_92ed_11eb_bff0_e996809fb442row17_col0\" class=\"data row17 col0\" >5da138754db8ce0c98bca82f</td>\n                        <td id=\"T_c6defb14_92ed_11eb_bff0_e996809fb442row17_col1\" class=\"data row17 col1\" >7188</td>\n                        <td id=\"T_c6defb14_92ed_11eb_bff0_e996809fb442row17_col2\" class=\"data row17 col2\" >6.828418</td>\n            </tr>\n            <tr>\n                        <th id=\"T_c6defb14_92ed_11eb_bff0_e996809fb442level0_row18\" class=\"row_heading level0 row18\" >18</th>\n                        <td id=\"T_c6defb14_92ed_11eb_bff0_e996809fb442row18_col0\" class=\"data row18 col0\" >5da138764db8ce0c98bcaa46</td>\n                        <td id=\"T_c6defb14_92ed_11eb_bff0_e996809fb442row18_col1\" class=\"data row18 col1\" >9420</td>\n                        <td id=\"T_c6defb14_92ed_11eb_bff0_e996809fb442row18_col2\" class=\"data row18 col2\" >5.955048</td>\n            </tr>\n            <tr>\n                        <th id=\"T_c6defb14_92ed_11eb_bff0_e996809fb442level0_row19\" class=\"row_heading level0 row19\" >19</th>\n                        <td id=\"T_c6defb14_92ed_11eb_bff0_e996809fb442row19_col0\" class=\"data row19 col0\" >5da1389e4db8ce0c98bd0547</td>\n                        <td id=\"T_c6defb14_92ed_11eb_bff0_e996809fb442row19_col1\" class=\"data row19 col1\" >6312</td>\n                        <td id=\"T_c6defb14_92ed_11eb_bff0_e996809fb442row19_col2\" class=\"data row19 col2\" >5.957843</td>\n            </tr>\n            <tr>\n                        <th id=\"T_c6defb14_92ed_11eb_bff0_e996809fb442level0_row20\" class=\"row_heading level0 row20\" >20</th>\n                        <td id=\"T_c6defb14_92ed_11eb_bff0_e996809fb442row20_col0\" class=\"data row20 col0\" >5da138b74db8ce0c98bd4774</td>\n                        <td id=\"T_c6defb14_92ed_11eb_bff0_e996809fb442row20_col1\" class=\"data row20 col1\" >17382</td>\n                        <td id=\"T_c6defb14_92ed_11eb_bff0_e996809fb442row20_col2\" class=\"data row20 col2\" >8.704823</td>\n            </tr>\n            <tr>\n                        <th id=\"T_c6defb14_92ed_11eb_bff0_e996809fb442level0_row21\" class=\"row_heading level0 row21\" >21</th>\n                        <td id=\"T_c6defb14_92ed_11eb_bff0_e996809fb442row21_col0\" class=\"data row21 col0\" >5da958dd46f8266d0737457b</td>\n                        <td id=\"T_c6defb14_92ed_11eb_bff0_e996809fb442row21_col1\" class=\"data row21 col1\" >15148</td>\n                        <td id=\"T_c6defb14_92ed_11eb_bff0_e996809fb442row21_col2\" class=\"data row21 col2\" >6.690028</td>\n            </tr>\n            <tr>\n                        <th id=\"T_c6defb14_92ed_11eb_bff0_e996809fb442level0_row22\" class=\"row_heading level0 row22\" >22</th>\n                        <td id=\"T_c6defb14_92ed_11eb_bff0_e996809fb442row22_col0\" class=\"data row22 col0\" >5dbc1d84c1eb61796cf7c010</td>\n                        <td id=\"T_c6defb14_92ed_11eb_bff0_e996809fb442row22_col1\" class=\"data row22 col1\" >16174</td>\n                        <td id=\"T_c6defb14_92ed_11eb_bff0_e996809fb442row22_col2\" class=\"data row22 col2\" >6.705135</td>\n            </tr>\n            <tr>\n                        <th id=\"T_c6defb14_92ed_11eb_bff0_e996809fb442level0_row23\" class=\"row_heading level0 row23\" >23</th>\n                        <td id=\"T_c6defb14_92ed_11eb_bff0_e996809fb442row23_col0\" class=\"data row23 col0\" >5dc8cea7659e181adb076a3f</td>\n                        <td id=\"T_c6defb14_92ed_11eb_bff0_e996809fb442row23_col1\" class=\"data row23 col1\" >15655</td>\n                        <td id=\"T_c6defb14_92ed_11eb_bff0_e996809fb442row23_col2\" class=\"data row23 col2\" >7.357480</td>\n            </tr>\n    </tbody></table>"
     },
     "metadata": {},
     "execution_count": 72
    }
   ],
   "source": [
    "x_pred = oofs_df[\"oof_min_snap_x\"]\n",
    "y_pred = oofs_df[\"oof_min_snap_y\"]\n",
    "f_pred = oofs_df[\"floor\"]  # 正解を与える\n",
    "x_true = oofs_df[\"wifi_x\"]\n",
    "y_true = oofs_df[\"wifi_y\"]\n",
    "f_true = oofs_df[\"floor\"]\n",
    "site_arr = oofs_df[\"site_id_str\"]\n",
    "df_result_site3 = calc_metrics_site(x_pred, y_pred, f_pred, x_true, y_true, f_true, site_arr)\n",
    "df_result_site3.style.bar(subset=['n_sample', 'score'], color=['teal'])"
   ]
  },
  {
   "cell_type": "code",
   "execution_count": 73,
   "metadata": {},
   "outputs": [
    {
     "output_type": "stream",
     "name": "stdout",
     "text": [
      "|No |          site          |n_sample|score|\n|--:|------------------------|-------:|----:|\n|  0|5a0546857ecc773753327266|    9296|4.400|\n|  1|5c3c44b80379370013e0fd2b|    9737|8.017|\n|  2|5d27075f03f801723c2e360f|   23666|5.963|\n|  3|5d27096c03f801723c31e5e0|    9100|3.976|\n|  4|5d27097f03f801723c320d97|   10507|8.960|\n|  5|5d27099f03f801723c32511d|    4251|6.170|\n|  6|5d2709a003f801723c3251bf|    3940|5.018|\n|  7|5d2709b303f801723c327472|   15358|4.983|\n|  8|5d2709bb03f801723c32852c|   17203|8.350|\n|  9|5d2709c303f801723c3299ee|   10083|5.205|\n| 10|5d2709d403f801723c32bd39|   10027|7.098|\n| 11|5d2709e003f801723c32d896|   11042|8.192|\n| 12|5da138274db8ce0c98bbd3d2|    2662|6.388|\n| 13|5da1382d4db8ce0c98bbe92e|    8999|6.168|\n| 14|5da138314db8ce0c98bbf3a0|    9012|3.896|\n| 15|5da138364db8ce0c98bc00f1|    2767|3.539|\n| 16|5da1383b4db8ce0c98bc11ab|   13196|8.987|\n| 17|5da138754db8ce0c98bca82f|    7188|6.828|\n| 18|5da138764db8ce0c98bcaa46|    9420|5.955|\n| 19|5da1389e4db8ce0c98bd0547|    6312|5.958|\n| 20|5da138b74db8ce0c98bd4774|   17382|8.705|\n| 21|5da958dd46f8266d0737457b|   15148|6.690|\n| 22|5dbc1d84c1eb61796cf7c010|   16174|6.705|\n| 23|5dc8cea7659e181adb076a3f|   15655|7.357|\n"
     ]
    }
   ],
   "source": [
    "site_eval_report(df_result_site3)"
   ]
  },
  {
   "cell_type": "code",
   "execution_count": 61,
   "metadata": {},
   "outputs": [],
   "source": [
    "train_waypoints = pd.read_csv('../../input/indoor-location-train-waypoints/train_waypoints.csv')\n",
    "\n",
    "new_sub = sub_process(new_sub, train_waypoints)\n",
    "new_sub = add_xy(new_sub)\n",
    "train_waypoints = add_xy(train_waypoints)\n",
    "\n",
    "ds = []\n",
    "for (site, myfloor), d in new_sub.groupby(['site','floor']):\n",
    "    true_floor_locs = train_waypoints.loc[(train_waypoints['floor'] == myfloor) &\n",
    "                                          (train_waypoints['site'] == site)] \\\n",
    "        .reset_index(drop=True)\n",
    "    if len(true_floor_locs) == 0:\n",
    "        print(f'Skipping {site} {myfloor}')\n",
    "        continue\n",
    "    d['matched_point'] = [closest_point(x, list(true_floor_locs['xy'])) for x in d['xy']]\n",
    "    d['x_'] = d['matched_point'].apply(lambda x: x[0])\n",
    "    d['y_'] = d['matched_point'].apply(lambda x: x[1])\n",
    "    ds.append(d)\n",
    "\n",
    "new_sub2 = pd.concat(ds)"
   ]
  },
  {
   "cell_type": "code",
   "execution_count": 66,
   "metadata": {},
   "outputs": [
    {
     "output_type": "execute_result",
     "data": {
      "text/plain": [
       "                                     site_path_timestamp  floor           x  \\\n",
       "0      5a0546857ecc773753327266_046cfa46be49fc1083481...      0   91.328964   \n",
       "1      5a0546857ecc773753327266_046cfa46be49fc1083481...      0   81.869227   \n",
       "2      5a0546857ecc773753327266_046cfa46be49fc1083481...      0   84.059223   \n",
       "3      5a0546857ecc773753327266_046cfa46be49fc1083481...      0   85.353798   \n",
       "4      5a0546857ecc773753327266_046cfa46be49fc1083481...      0   85.799636   \n",
       "...                                                  ...    ...         ...   \n",
       "10128  5dc8cea7659e181adb076a3f_fd64de8c4a2fc5ebb0e9f...      5  210.306021   \n",
       "10129  5dc8cea7659e181adb076a3f_fd64de8c4a2fc5ebb0e9f...      5  208.502905   \n",
       "10130  5dc8cea7659e181adb076a3f_fd64de8c4a2fc5ebb0e9f...      5  204.425589   \n",
       "10131  5dc8cea7659e181adb076a3f_fd64de8c4a2fc5ebb0e9f...      5  196.849895   \n",
       "10132  5dc8cea7659e181adb076a3f_fd64de8c4a2fc5ebb0e9f...      5  193.425904   \n",
       "\n",
       "                y  \n",
       "0       95.522559  \n",
       "1       98.981264  \n",
       "2      103.985378  \n",
       "3      107.737236  \n",
       "4      111.303132  \n",
       "...           ...  \n",
       "10128   98.235106  \n",
       "10129  101.867297  \n",
       "10130  108.775446  \n",
       "10131  114.257308  \n",
       "10132  117.804761  \n",
       "\n",
       "[10133 rows x 4 columns]"
      ],
      "text/html": "<div>\n<style scoped>\n    .dataframe tbody tr th:only-of-type {\n        vertical-align: middle;\n    }\n\n    .dataframe tbody tr th {\n        vertical-align: top;\n    }\n\n    .dataframe thead th {\n        text-align: right;\n    }\n</style>\n<table border=\"1\" class=\"dataframe\">\n  <thead>\n    <tr style=\"text-align: right;\">\n      <th></th>\n      <th>site_path_timestamp</th>\n      <th>floor</th>\n      <th>x</th>\n      <th>y</th>\n    </tr>\n  </thead>\n  <tbody>\n    <tr>\n      <th>0</th>\n      <td>5a0546857ecc773753327266_046cfa46be49fc1083481...</td>\n      <td>0</td>\n      <td>91.328964</td>\n      <td>95.522559</td>\n    </tr>\n    <tr>\n      <th>1</th>\n      <td>5a0546857ecc773753327266_046cfa46be49fc1083481...</td>\n      <td>0</td>\n      <td>81.869227</td>\n      <td>98.981264</td>\n    </tr>\n    <tr>\n      <th>2</th>\n      <td>5a0546857ecc773753327266_046cfa46be49fc1083481...</td>\n      <td>0</td>\n      <td>84.059223</td>\n      <td>103.985378</td>\n    </tr>\n    <tr>\n      <th>3</th>\n      <td>5a0546857ecc773753327266_046cfa46be49fc1083481...</td>\n      <td>0</td>\n      <td>85.353798</td>\n      <td>107.737236</td>\n    </tr>\n    <tr>\n      <th>4</th>\n      <td>5a0546857ecc773753327266_046cfa46be49fc1083481...</td>\n      <td>0</td>\n      <td>85.799636</td>\n      <td>111.303132</td>\n    </tr>\n    <tr>\n      <th>...</th>\n      <td>...</td>\n      <td>...</td>\n      <td>...</td>\n      <td>...</td>\n    </tr>\n    <tr>\n      <th>10128</th>\n      <td>5dc8cea7659e181adb076a3f_fd64de8c4a2fc5ebb0e9f...</td>\n      <td>5</td>\n      <td>210.306021</td>\n      <td>98.235106</td>\n    </tr>\n    <tr>\n      <th>10129</th>\n      <td>5dc8cea7659e181adb076a3f_fd64de8c4a2fc5ebb0e9f...</td>\n      <td>5</td>\n      <td>208.502905</td>\n      <td>101.867297</td>\n    </tr>\n    <tr>\n      <th>10130</th>\n      <td>5dc8cea7659e181adb076a3f_fd64de8c4a2fc5ebb0e9f...</td>\n      <td>5</td>\n      <td>204.425589</td>\n      <td>108.775446</td>\n    </tr>\n    <tr>\n      <th>10131</th>\n      <td>5dc8cea7659e181adb076a3f_fd64de8c4a2fc5ebb0e9f...</td>\n      <td>5</td>\n      <td>196.849895</td>\n      <td>114.257308</td>\n    </tr>\n    <tr>\n      <th>10132</th>\n      <td>5dc8cea7659e181adb076a3f_fd64de8c4a2fc5ebb0e9f...</td>\n      <td>5</td>\n      <td>193.425904</td>\n      <td>117.804761</td>\n    </tr>\n  </tbody>\n</table>\n<p>10133 rows × 4 columns</p>\n</div>"
     },
     "metadata": {},
     "execution_count": 66
    }
   ],
   "source": [
    "new_sub2 = new_sub2[['site_path_timestamp','floor','x','y']].sort_index()\n",
    "new_sub2\n"
   ]
  },
  {
   "cell_type": "code",
   "execution_count": 67,
   "metadata": {},
   "outputs": [],
   "source": [
    "new_sub2.to_csv(RUN_NAME + '_costmin_snap_sub.csv', index=False)"
   ]
  },
  {
   "cell_type": "code",
   "execution_count": 81,
   "metadata": {},
   "outputs": [
    {
     "output_type": "display_data",
     "data": {
      "text/plain": "<Figure size 432x288 with 1 Axes>",
      "image/svg+xml": "<?xml version=\"1.0\" encoding=\"utf-8\" standalone=\"no\"?>\n<!DOCTYPE svg PUBLIC \"-//W3C//DTD SVG 1.1//EN\"\n  \"http://www.w3.org/Graphics/SVG/1.1/DTD/svg11.dtd\">\n<!-- Created with matplotlib (https://matplotlib.org/) -->\n<svg height=\"249.060737pt\" version=\"1.1\" viewBox=\"0 0 368.925 249.060737\" width=\"368.925pt\" xmlns=\"http://www.w3.org/2000/svg\" xmlns:xlink=\"http://www.w3.org/1999/xlink\">\n <metadata>\n  <rdf:RDF xmlns:cc=\"http://creativecommons.org/ns#\" xmlns:dc=\"http://purl.org/dc/elements/1.1/\" xmlns:rdf=\"http://www.w3.org/1999/02/22-rdf-syntax-ns#\">\n   <cc:Work>\n    <dc:type rdf:resource=\"http://purl.org/dc/dcmitype/StillImage\"/>\n    <dc:date>2021-04-01T22:29:50.314807</dc:date>\n    <dc:format>image/svg+xml</dc:format>\n    <dc:creator>\n     <cc:Agent>\n      <dc:title>Matplotlib v3.3.2, https://matplotlib.org/</dc:title>\n     </cc:Agent>\n    </dc:creator>\n   </cc:Work>\n  </rdf:RDF>\n </metadata>\n <defs>\n  <style type=\"text/css\">*{stroke-linecap:butt;stroke-linejoin:round;}</style>\n </defs>\n <g id=\"figure_1\">\n  <g id=\"patch_1\">\n   <path d=\"M -0 249.060737 \nL 368.925 249.060737 \nL 368.925 0 \nL -0 0 \nz\n\" style=\"fill:none;\"/>\n  </g>\n  <g id=\"axes_1\">\n   <g id=\"patch_2\">\n    <path d=\"M 26.925 225.182612 \nL 361.725 225.182612 \nL 361.725 7.742612 \nL 26.925 7.742612 \nz\n\" style=\"fill:#ffffff;\"/>\n   </g>\n   <g id=\"matplotlib.axis_1\">\n    <g id=\"xtick_1\">\n     <g id=\"line2d_1\">\n      <path clip-path=\"url(#p94ee2650cf)\" d=\"M 42.143182 225.182612 \nL 42.143182 7.742612 \n\" style=\"fill:none;stroke:#b0b0b0;stroke-linecap:square;stroke-width:0.8;\"/>\n     </g>\n     <g id=\"line2d_2\">\n      <defs>\n       <path d=\"M 0 0 \nL 0 3.5 \n\" id=\"m9ff8153faf\" style=\"stroke:#000000;stroke-width:0.8;\"/>\n      </defs>\n      <g>\n       <use style=\"stroke:#000000;stroke-width:0.8;\" x=\"42.143182\" xlink:href=\"#m9ff8153faf\" y=\"225.182612\"/>\n      </g>\n     </g>\n     <g id=\"text_1\">\n      <!-- 0 -->\n      <g transform=\"translate(38.961932 239.781049)scale(0.1 -0.1)\">\n       <defs>\n        <path d=\"M 31.78125 66.40625 \nQ 24.171875 66.40625 20.328125 58.90625 \nQ 16.5 51.421875 16.5 36.375 \nQ 16.5 21.390625 20.328125 13.890625 \nQ 24.171875 6.390625 31.78125 6.390625 \nQ 39.453125 6.390625 43.28125 13.890625 \nQ 47.125 21.390625 47.125 36.375 \nQ 47.125 51.421875 43.28125 58.90625 \nQ 39.453125 66.40625 31.78125 66.40625 \nz\nM 31.78125 74.21875 \nQ 44.046875 74.21875 50.515625 64.515625 \nQ 56.984375 54.828125 56.984375 36.375 \nQ 56.984375 17.96875 50.515625 8.265625 \nQ 44.046875 -1.421875 31.78125 -1.421875 \nQ 19.53125 -1.421875 13.0625 8.265625 \nQ 6.59375 17.96875 6.59375 36.375 \nQ 6.59375 54.828125 13.0625 64.515625 \nQ 19.53125 74.21875 31.78125 74.21875 \nz\n\" id=\"DejaVuSans-48\"/>\n       </defs>\n       <use xlink:href=\"#DejaVuSans-48\"/>\n      </g>\n     </g>\n    </g>\n    <g id=\"xtick_2\">\n     <g id=\"line2d_3\">\n      <path clip-path=\"url(#p94ee2650cf)\" d=\"M 108.30919 225.182612 \nL 108.30919 7.742612 \n\" style=\"fill:none;stroke:#b0b0b0;stroke-linecap:square;stroke-width:0.8;\"/>\n     </g>\n     <g id=\"line2d_4\">\n      <g>\n       <use style=\"stroke:#000000;stroke-width:0.8;\" x=\"108.30919\" xlink:href=\"#m9ff8153faf\" y=\"225.182612\"/>\n      </g>\n     </g>\n     <g id=\"text_2\">\n      <!-- 5 -->\n      <g transform=\"translate(105.12794 239.781049)scale(0.1 -0.1)\">\n       <defs>\n        <path d=\"M 10.796875 72.90625 \nL 49.515625 72.90625 \nL 49.515625 64.59375 \nL 19.828125 64.59375 \nL 19.828125 46.734375 \nQ 21.96875 47.46875 24.109375 47.828125 \nQ 26.265625 48.1875 28.421875 48.1875 \nQ 40.625 48.1875 47.75 41.5 \nQ 54.890625 34.8125 54.890625 23.390625 \nQ 54.890625 11.625 47.5625 5.09375 \nQ 40.234375 -1.421875 26.90625 -1.421875 \nQ 22.3125 -1.421875 17.546875 -0.640625 \nQ 12.796875 0.140625 7.71875 1.703125 \nL 7.71875 11.625 \nQ 12.109375 9.234375 16.796875 8.0625 \nQ 21.484375 6.890625 26.703125 6.890625 \nQ 35.15625 6.890625 40.078125 11.328125 \nQ 45.015625 15.765625 45.015625 23.390625 \nQ 45.015625 31 40.078125 35.4375 \nQ 35.15625 39.890625 26.703125 39.890625 \nQ 22.75 39.890625 18.8125 39.015625 \nQ 14.890625 38.140625 10.796875 36.28125 \nz\n\" id=\"DejaVuSans-53\"/>\n       </defs>\n       <use xlink:href=\"#DejaVuSans-53\"/>\n      </g>\n     </g>\n    </g>\n    <g id=\"xtick_3\">\n     <g id=\"line2d_5\">\n      <path clip-path=\"url(#p94ee2650cf)\" d=\"M 174.475198 225.182612 \nL 174.475198 7.742612 \n\" style=\"fill:none;stroke:#b0b0b0;stroke-linecap:square;stroke-width:0.8;\"/>\n     </g>\n     <g id=\"line2d_6\">\n      <g>\n       <use style=\"stroke:#000000;stroke-width:0.8;\" x=\"174.475198\" xlink:href=\"#m9ff8153faf\" y=\"225.182612\"/>\n      </g>\n     </g>\n     <g id=\"text_3\">\n      <!-- 10 -->\n      <g transform=\"translate(168.112698 239.781049)scale(0.1 -0.1)\">\n       <defs>\n        <path d=\"M 12.40625 8.296875 \nL 28.515625 8.296875 \nL 28.515625 63.921875 \nL 10.984375 60.40625 \nL 10.984375 69.390625 \nL 28.421875 72.90625 \nL 38.28125 72.90625 \nL 38.28125 8.296875 \nL 54.390625 8.296875 \nL 54.390625 0 \nL 12.40625 0 \nz\n\" id=\"DejaVuSans-49\"/>\n       </defs>\n       <use xlink:href=\"#DejaVuSans-49\"/>\n       <use x=\"63.623047\" xlink:href=\"#DejaVuSans-48\"/>\n      </g>\n     </g>\n    </g>\n    <g id=\"xtick_4\">\n     <g id=\"line2d_7\">\n      <path clip-path=\"url(#p94ee2650cf)\" d=\"M 240.641206 225.182612 \nL 240.641206 7.742612 \n\" style=\"fill:none;stroke:#b0b0b0;stroke-linecap:square;stroke-width:0.8;\"/>\n     </g>\n     <g id=\"line2d_8\">\n      <g>\n       <use style=\"stroke:#000000;stroke-width:0.8;\" x=\"240.641206\" xlink:href=\"#m9ff8153faf\" y=\"225.182612\"/>\n      </g>\n     </g>\n     <g id=\"text_4\">\n      <!-- 15 -->\n      <g transform=\"translate(234.278706 239.781049)scale(0.1 -0.1)\">\n       <use xlink:href=\"#DejaVuSans-49\"/>\n       <use x=\"63.623047\" xlink:href=\"#DejaVuSans-53\"/>\n      </g>\n     </g>\n    </g>\n    <g id=\"xtick_5\">\n     <g id=\"line2d_9\">\n      <path clip-path=\"url(#p94ee2650cf)\" d=\"M 306.807213 225.182612 \nL 306.807213 7.742612 \n\" style=\"fill:none;stroke:#b0b0b0;stroke-linecap:square;stroke-width:0.8;\"/>\n     </g>\n     <g id=\"line2d_10\">\n      <g>\n       <use style=\"stroke:#000000;stroke-width:0.8;\" x=\"306.807213\" xlink:href=\"#m9ff8153faf\" y=\"225.182612\"/>\n      </g>\n     </g>\n     <g id=\"text_5\">\n      <!-- 20 -->\n      <g transform=\"translate(300.444713 239.781049)scale(0.1 -0.1)\">\n       <defs>\n        <path d=\"M 19.1875 8.296875 \nL 53.609375 8.296875 \nL 53.609375 0 \nL 7.328125 0 \nL 7.328125 8.296875 \nQ 12.9375 14.109375 22.625 23.890625 \nQ 32.328125 33.6875 34.8125 36.53125 \nQ 39.546875 41.84375 41.421875 45.53125 \nQ 43.3125 49.21875 43.3125 52.78125 \nQ 43.3125 58.59375 39.234375 62.25 \nQ 35.15625 65.921875 28.609375 65.921875 \nQ 23.96875 65.921875 18.8125 64.3125 \nQ 13.671875 62.703125 7.8125 59.421875 \nL 7.8125 69.390625 \nQ 13.765625 71.78125 18.9375 73 \nQ 24.125 74.21875 28.421875 74.21875 \nQ 39.75 74.21875 46.484375 68.546875 \nQ 53.21875 62.890625 53.21875 53.421875 \nQ 53.21875 48.921875 51.53125 44.890625 \nQ 49.859375 40.875 45.40625 35.40625 \nQ 44.1875 33.984375 37.640625 27.21875 \nQ 31.109375 20.453125 19.1875 8.296875 \nz\n\" id=\"DejaVuSans-50\"/>\n       </defs>\n       <use xlink:href=\"#DejaVuSans-50\"/>\n       <use x=\"63.623047\" xlink:href=\"#DejaVuSans-48\"/>\n      </g>\n     </g>\n    </g>\n   </g>\n   <g id=\"matplotlib.axis_2\">\n    <g id=\"ytick_1\">\n     <g id=\"line2d_11\">\n      <path clip-path=\"url(#p94ee2650cf)\" d=\"M 26.925 202.680259 \nL 361.725 202.680259 \n\" style=\"fill:none;stroke:#b0b0b0;stroke-linecap:square;stroke-width:0.8;\"/>\n     </g>\n     <g id=\"line2d_12\">\n      <defs>\n       <path d=\"M 0 0 \nL -3.5 0 \n\" id=\"m6ab00131f5\" style=\"stroke:#000000;stroke-width:0.8;\"/>\n      </defs>\n      <g>\n       <use style=\"stroke:#000000;stroke-width:0.8;\" x=\"26.925\" xlink:href=\"#m6ab00131f5\" y=\"202.680259\"/>\n      </g>\n     </g>\n     <g id=\"text_6\">\n      <!-- 4 -->\n      <g transform=\"translate(13.5625 206.479478)scale(0.1 -0.1)\">\n       <defs>\n        <path d=\"M 37.796875 64.3125 \nL 12.890625 25.390625 \nL 37.796875 25.390625 \nz\nM 35.203125 72.90625 \nL 47.609375 72.90625 \nL 47.609375 25.390625 \nL 58.015625 25.390625 \nL 58.015625 17.1875 \nL 47.609375 17.1875 \nL 47.609375 0 \nL 37.796875 0 \nL 37.796875 17.1875 \nL 4.890625 17.1875 \nL 4.890625 26.703125 \nz\n\" id=\"DejaVuSans-52\"/>\n       </defs>\n       <use xlink:href=\"#DejaVuSans-52\"/>\n      </g>\n     </g>\n    </g>\n    <g id=\"ytick_2\">\n     <g id=\"line2d_13\">\n      <path clip-path=\"url(#p94ee2650cf)\" d=\"M 26.925 175.297254 \nL 361.725 175.297254 \n\" style=\"fill:none;stroke:#b0b0b0;stroke-linecap:square;stroke-width:0.8;\"/>\n     </g>\n     <g id=\"line2d_14\">\n      <g>\n       <use style=\"stroke:#000000;stroke-width:0.8;\" x=\"26.925\" xlink:href=\"#m6ab00131f5\" y=\"175.297254\"/>\n      </g>\n     </g>\n     <g id=\"text_7\">\n      <!-- 5 -->\n      <g transform=\"translate(13.5625 179.096472)scale(0.1 -0.1)\">\n       <use xlink:href=\"#DejaVuSans-53\"/>\n      </g>\n     </g>\n    </g>\n    <g id=\"ytick_3\">\n     <g id=\"line2d_15\">\n      <path clip-path=\"url(#p94ee2650cf)\" d=\"M 26.925 147.914248 \nL 361.725 147.914248 \n\" style=\"fill:none;stroke:#b0b0b0;stroke-linecap:square;stroke-width:0.8;\"/>\n     </g>\n     <g id=\"line2d_16\">\n      <g>\n       <use style=\"stroke:#000000;stroke-width:0.8;\" x=\"26.925\" xlink:href=\"#m6ab00131f5\" y=\"147.914248\"/>\n      </g>\n     </g>\n     <g id=\"text_8\">\n      <!-- 6 -->\n      <g transform=\"translate(13.5625 151.713466)scale(0.1 -0.1)\">\n       <defs>\n        <path d=\"M 33.015625 40.375 \nQ 26.375 40.375 22.484375 35.828125 \nQ 18.609375 31.296875 18.609375 23.390625 \nQ 18.609375 15.53125 22.484375 10.953125 \nQ 26.375 6.390625 33.015625 6.390625 \nQ 39.65625 6.390625 43.53125 10.953125 \nQ 47.40625 15.53125 47.40625 23.390625 \nQ 47.40625 31.296875 43.53125 35.828125 \nQ 39.65625 40.375 33.015625 40.375 \nz\nM 52.59375 71.296875 \nL 52.59375 62.3125 \nQ 48.875 64.0625 45.09375 64.984375 \nQ 41.3125 65.921875 37.59375 65.921875 \nQ 27.828125 65.921875 22.671875 59.328125 \nQ 17.53125 52.734375 16.796875 39.40625 \nQ 19.671875 43.65625 24.015625 45.921875 \nQ 28.375 48.1875 33.59375 48.1875 \nQ 44.578125 48.1875 50.953125 41.515625 \nQ 57.328125 34.859375 57.328125 23.390625 \nQ 57.328125 12.15625 50.6875 5.359375 \nQ 44.046875 -1.421875 33.015625 -1.421875 \nQ 20.359375 -1.421875 13.671875 8.265625 \nQ 6.984375 17.96875 6.984375 36.375 \nQ 6.984375 53.65625 15.1875 63.9375 \nQ 23.390625 74.21875 37.203125 74.21875 \nQ 40.921875 74.21875 44.703125 73.484375 \nQ 48.484375 72.75 52.59375 71.296875 \nz\n\" id=\"DejaVuSans-54\"/>\n       </defs>\n       <use xlink:href=\"#DejaVuSans-54\"/>\n      </g>\n     </g>\n    </g>\n    <g id=\"ytick_4\">\n     <g id=\"line2d_17\">\n      <path clip-path=\"url(#p94ee2650cf)\" d=\"M 26.925 120.531242 \nL 361.725 120.531242 \n\" style=\"fill:none;stroke:#b0b0b0;stroke-linecap:square;stroke-width:0.8;\"/>\n     </g>\n     <g id=\"line2d_18\">\n      <g>\n       <use style=\"stroke:#000000;stroke-width:0.8;\" x=\"26.925\" xlink:href=\"#m6ab00131f5\" y=\"120.531242\"/>\n      </g>\n     </g>\n     <g id=\"text_9\">\n      <!-- 7 -->\n      <g transform=\"translate(13.5625 124.330461)scale(0.1 -0.1)\">\n       <defs>\n        <path d=\"M 8.203125 72.90625 \nL 55.078125 72.90625 \nL 55.078125 68.703125 \nL 28.609375 0 \nL 18.3125 0 \nL 43.21875 64.59375 \nL 8.203125 64.59375 \nz\n\" id=\"DejaVuSans-55\"/>\n       </defs>\n       <use xlink:href=\"#DejaVuSans-55\"/>\n      </g>\n     </g>\n    </g>\n    <g id=\"ytick_5\">\n     <g id=\"line2d_19\">\n      <path clip-path=\"url(#p94ee2650cf)\" d=\"M 26.925 93.148236 \nL 361.725 93.148236 \n\" style=\"fill:none;stroke:#b0b0b0;stroke-linecap:square;stroke-width:0.8;\"/>\n     </g>\n     <g id=\"line2d_20\">\n      <g>\n       <use style=\"stroke:#000000;stroke-width:0.8;\" x=\"26.925\" xlink:href=\"#m6ab00131f5\" y=\"93.148236\"/>\n      </g>\n     </g>\n     <g id=\"text_10\">\n      <!-- 8 -->\n      <g transform=\"translate(13.5625 96.947455)scale(0.1 -0.1)\">\n       <defs>\n        <path d=\"M 31.78125 34.625 \nQ 24.75 34.625 20.71875 30.859375 \nQ 16.703125 27.09375 16.703125 20.515625 \nQ 16.703125 13.921875 20.71875 10.15625 \nQ 24.75 6.390625 31.78125 6.390625 \nQ 38.8125 6.390625 42.859375 10.171875 \nQ 46.921875 13.96875 46.921875 20.515625 \nQ 46.921875 27.09375 42.890625 30.859375 \nQ 38.875 34.625 31.78125 34.625 \nz\nM 21.921875 38.8125 \nQ 15.578125 40.375 12.03125 44.71875 \nQ 8.5 49.078125 8.5 55.328125 \nQ 8.5 64.0625 14.71875 69.140625 \nQ 20.953125 74.21875 31.78125 74.21875 \nQ 42.671875 74.21875 48.875 69.140625 \nQ 55.078125 64.0625 55.078125 55.328125 \nQ 55.078125 49.078125 51.53125 44.71875 \nQ 48 40.375 41.703125 38.8125 \nQ 48.828125 37.15625 52.796875 32.3125 \nQ 56.78125 27.484375 56.78125 20.515625 \nQ 56.78125 9.90625 50.3125 4.234375 \nQ 43.84375 -1.421875 31.78125 -1.421875 \nQ 19.734375 -1.421875 13.25 4.234375 \nQ 6.78125 9.90625 6.78125 20.515625 \nQ 6.78125 27.484375 10.78125 32.3125 \nQ 14.796875 37.15625 21.921875 38.8125 \nz\nM 18.3125 54.390625 \nQ 18.3125 48.734375 21.84375 45.5625 \nQ 25.390625 42.390625 31.78125 42.390625 \nQ 38.140625 42.390625 41.71875 45.5625 \nQ 45.3125 48.734375 45.3125 54.390625 \nQ 45.3125 60.0625 41.71875 63.234375 \nQ 38.140625 66.40625 31.78125 66.40625 \nQ 25.390625 66.40625 21.84375 63.234375 \nQ 18.3125 60.0625 18.3125 54.390625 \nz\n\" id=\"DejaVuSans-56\"/>\n       </defs>\n       <use xlink:href=\"#DejaVuSans-56\"/>\n      </g>\n     </g>\n    </g>\n    <g id=\"ytick_6\">\n     <g id=\"line2d_21\">\n      <path clip-path=\"url(#p94ee2650cf)\" d=\"M 26.925 65.76523 \nL 361.725 65.76523 \n\" style=\"fill:none;stroke:#b0b0b0;stroke-linecap:square;stroke-width:0.8;\"/>\n     </g>\n     <g id=\"line2d_22\">\n      <g>\n       <use style=\"stroke:#000000;stroke-width:0.8;\" x=\"26.925\" xlink:href=\"#m6ab00131f5\" y=\"65.76523\"/>\n      </g>\n     </g>\n     <g id=\"text_11\">\n      <!-- 9 -->\n      <g transform=\"translate(13.5625 69.564449)scale(0.1 -0.1)\">\n       <defs>\n        <path d=\"M 10.984375 1.515625 \nL 10.984375 10.5 \nQ 14.703125 8.734375 18.5 7.8125 \nQ 22.3125 6.890625 25.984375 6.890625 \nQ 35.75 6.890625 40.890625 13.453125 \nQ 46.046875 20.015625 46.78125 33.40625 \nQ 43.953125 29.203125 39.59375 26.953125 \nQ 35.25 24.703125 29.984375 24.703125 \nQ 19.046875 24.703125 12.671875 31.3125 \nQ 6.296875 37.9375 6.296875 49.421875 \nQ 6.296875 60.640625 12.9375 67.421875 \nQ 19.578125 74.21875 30.609375 74.21875 \nQ 43.265625 74.21875 49.921875 64.515625 \nQ 56.59375 54.828125 56.59375 36.375 \nQ 56.59375 19.140625 48.40625 8.859375 \nQ 40.234375 -1.421875 26.421875 -1.421875 \nQ 22.703125 -1.421875 18.890625 -0.6875 \nQ 15.09375 0.046875 10.984375 1.515625 \nz\nM 30.609375 32.421875 \nQ 37.25 32.421875 41.125 36.953125 \nQ 45.015625 41.5 45.015625 49.421875 \nQ 45.015625 57.28125 41.125 61.84375 \nQ 37.25 66.40625 30.609375 66.40625 \nQ 23.96875 66.40625 20.09375 61.84375 \nQ 16.21875 57.28125 16.21875 49.421875 \nQ 16.21875 41.5 20.09375 36.953125 \nQ 23.96875 32.421875 30.609375 32.421875 \nz\n\" id=\"DejaVuSans-57\"/>\n       </defs>\n       <use xlink:href=\"#DejaVuSans-57\"/>\n      </g>\n     </g>\n    </g>\n    <g id=\"ytick_7\">\n     <g id=\"line2d_23\">\n      <path clip-path=\"url(#p94ee2650cf)\" d=\"M 26.925 38.382225 \nL 361.725 38.382225 \n\" style=\"fill:none;stroke:#b0b0b0;stroke-linecap:square;stroke-width:0.8;\"/>\n     </g>\n     <g id=\"line2d_24\">\n      <g>\n       <use style=\"stroke:#000000;stroke-width:0.8;\" x=\"26.925\" xlink:href=\"#m6ab00131f5\" y=\"38.382225\"/>\n      </g>\n     </g>\n     <g id=\"text_12\">\n      <!-- 10 -->\n      <g transform=\"translate(7.2 42.181443)scale(0.1 -0.1)\">\n       <use xlink:href=\"#DejaVuSans-49\"/>\n       <use x=\"63.623047\" xlink:href=\"#DejaVuSans-48\"/>\n      </g>\n     </g>\n    </g>\n    <g id=\"ytick_8\">\n     <g id=\"line2d_25\">\n      <path clip-path=\"url(#p94ee2650cf)\" d=\"M 26.925 10.999219 \nL 361.725 10.999219 \n\" style=\"fill:none;stroke:#b0b0b0;stroke-linecap:square;stroke-width:0.8;\"/>\n     </g>\n     <g id=\"line2d_26\">\n      <g>\n       <use style=\"stroke:#000000;stroke-width:0.8;\" x=\"26.925\" xlink:href=\"#m6ab00131f5\" y=\"10.999219\"/>\n      </g>\n     </g>\n     <g id=\"text_13\">\n      <!-- 11 -->\n      <g transform=\"translate(7.2 14.798438)scale(0.1 -0.1)\">\n       <use xlink:href=\"#DejaVuSans-49\"/>\n       <use x=\"63.623047\" xlink:href=\"#DejaVuSans-49\"/>\n      </g>\n     </g>\n    </g>\n   </g>\n   <g id=\"line2d_27\">\n    <path clip-path=\"url(#p94ee2650cf)\" d=\"M 42.143182 171.045545 \nL 55.376383 92.771638 \nL 68.609585 117.470394 \nL 81.842787 184.002171 \nL 95.075988 17.626248 \nL 108.30919 121.844838 \nL 121.542391 164.622983 \nL 134.775593 152.171277 \nL 148.008794 59.990597 \nL 161.241996 137.838789 \nL 174.475198 93.635472 \nL 187.708399 67.598966 \nL 200.941601 119.251698 \nL 214.174802 107.7444 \nL 227.408004 189.427856 \nL 240.641206 193.102098 \nL 253.874407 38.980429 \nL 267.107609 102.582159 \nL 280.34081 118.645069 \nL 293.574012 109.440272 \nL 306.807213 36.67928 \nL 320.040415 103.797898 \nL 333.273617 86.402687 \nL 346.506818 71.420045 \n\" style=\"fill:none;stroke:#1f77b4;stroke-linecap:square;stroke-width:1.5;\"/>\n   </g>\n   <g id=\"line2d_28\">\n    <path clip-path=\"url(#p94ee2650cf)\" d=\"M 42.143182 189.558051 \nL 55.376383 102.170925 \nL 68.609585 145.377678 \nL 81.842787 203.121831 \nL 95.075988 60.245334 \nL 108.30919 138.020267 \nL 121.542391 179.112022 \nL 134.775593 174.27468 \nL 148.008794 85.360797 \nL 161.241996 159.442432 \nL 174.475198 117.727131 \nL 187.708399 92.384583 \nL 200.941601 139.255635 \nL 214.174802 137.429007 \nL 227.408004 206.265466 \nL 240.641206 213.869466 \nL 253.874407 66.339043 \nL 267.107609 123.861511 \nL 280.34081 144.622982 \nL 293.574012 142.225642 \nL 306.807213 69.221994 \nL 320.040415 129.657216 \nL 333.273617 120.130752 \nL 346.506818 105.394616 \n\" style=\"fill:none;stroke:#ff7f0e;stroke-linecap:square;stroke-width:1.5;\"/>\n   </g>\n   <g id=\"line2d_29\">\n    <path clip-path=\"url(#p94ee2650cf)\" d=\"M 42.143182 191.723462 \nL 55.376383 92.695729 \nL 68.609585 148.931656 \nL 81.842787 203.334715 \nL 95.075988 66.860106 \nL 108.30919 143.263688 \nL 121.542391 174.817088 \nL 134.775593 175.751691 \nL 148.008794 83.56046 \nL 161.241996 169.686216 \nL 174.475198 117.840246 \nL 187.708399 87.899333 \nL 200.941601 137.291323 \nL 214.174802 143.319276 \nL 227.408004 205.541646 \nL 240.641206 215.298975 \nL 253.874407 66.124501 \nL 267.107609 125.229674 \nL 280.34081 149.145158 \nL 293.574012 149.068626 \nL 306.807213 73.848073 \nL 320.040415 129.019215 \nL 333.273617 128.605537 \nL 346.506818 110.742361 \n\" style=\"fill:none;stroke:#2ca02c;stroke-linecap:square;stroke-width:1.5;\"/>\n   </g>\n   <g id=\"patch_3\">\n    <path d=\"M 26.925 225.182612 \nL 26.925 7.742612 \n\" style=\"fill:none;stroke:#000000;stroke-linecap:square;stroke-linejoin:miter;stroke-width:0.8;\"/>\n   </g>\n   <g id=\"patch_4\">\n    <path d=\"M 361.725 225.182612 \nL 361.725 7.742612 \n\" style=\"fill:none;stroke:#000000;stroke-linecap:square;stroke-linejoin:miter;stroke-width:0.8;\"/>\n   </g>\n   <g id=\"patch_5\">\n    <path d=\"M 26.925 225.182612 \nL 361.725 225.182612 \n\" style=\"fill:none;stroke:#000000;stroke-linecap:square;stroke-linejoin:miter;stroke-width:0.8;\"/>\n   </g>\n   <g id=\"patch_6\">\n    <path d=\"M 26.925 7.742612 \nL 361.725 7.742612 \n\" style=\"fill:none;stroke:#000000;stroke-linecap:square;stroke-linejoin:miter;stroke-width:0.8;\"/>\n   </g>\n   <g id=\"legend_1\">\n    <g id=\"patch_7\">\n     <path d=\"M 269.575 220.182612 \nL 354.725 220.182612 \nQ 356.725 220.182612 356.725 218.182612 \nL 356.725 175.148237 \nQ 356.725 173.148237 354.725 173.148237 \nL 269.575 173.148237 \nQ 267.575 173.148237 267.575 175.148237 \nL 267.575 218.182612 \nQ 267.575 220.182612 269.575 220.182612 \nz\n\" style=\"fill:#ffffff;opacity:0.8;stroke:#cccccc;stroke-linejoin:miter;\"/>\n    </g>\n    <g id=\"line2d_30\">\n     <path d=\"M 271.575 181.246674 \nL 291.575 181.246674 \n\" style=\"fill:none;stroke:#1f77b4;stroke-linecap:square;stroke-width:1.5;\"/>\n    </g>\n    <g id=\"line2d_31\"/>\n    <g id=\"text_14\">\n     <!-- oof -->\n     <g transform=\"translate(299.575 184.746674)scale(0.1 -0.1)\">\n      <defs>\n       <path d=\"M 30.609375 48.390625 \nQ 23.390625 48.390625 19.1875 42.75 \nQ 14.984375 37.109375 14.984375 27.296875 \nQ 14.984375 17.484375 19.15625 11.84375 \nQ 23.34375 6.203125 30.609375 6.203125 \nQ 37.796875 6.203125 41.984375 11.859375 \nQ 46.1875 17.53125 46.1875 27.296875 \nQ 46.1875 37.015625 41.984375 42.703125 \nQ 37.796875 48.390625 30.609375 48.390625 \nz\nM 30.609375 56 \nQ 42.328125 56 49.015625 48.375 \nQ 55.71875 40.765625 55.71875 27.296875 \nQ 55.71875 13.875 49.015625 6.21875 \nQ 42.328125 -1.421875 30.609375 -1.421875 \nQ 18.84375 -1.421875 12.171875 6.21875 \nQ 5.515625 13.875 5.515625 27.296875 \nQ 5.515625 40.765625 12.171875 48.375 \nQ 18.84375 56 30.609375 56 \nz\n\" id=\"DejaVuSans-111\"/>\n       <path d=\"M 37.109375 75.984375 \nL 37.109375 68.5 \nL 28.515625 68.5 \nQ 23.6875 68.5 21.796875 66.546875 \nQ 19.921875 64.59375 19.921875 59.515625 \nL 19.921875 54.6875 \nL 34.71875 54.6875 \nL 34.71875 47.703125 \nL 19.921875 47.703125 \nL 19.921875 0 \nL 10.890625 0 \nL 10.890625 47.703125 \nL 2.296875 47.703125 \nL 2.296875 54.6875 \nL 10.890625 54.6875 \nL 10.890625 58.5 \nQ 10.890625 67.625 15.140625 71.796875 \nQ 19.390625 75.984375 28.609375 75.984375 \nz\n\" id=\"DejaVuSans-102\"/>\n      </defs>\n      <use xlink:href=\"#DejaVuSans-111\"/>\n      <use x=\"61.181641\" xlink:href=\"#DejaVuSans-111\"/>\n      <use x=\"122.363281\" xlink:href=\"#DejaVuSans-102\"/>\n     </g>\n    </g>\n    <g id=\"line2d_32\">\n     <path d=\"M 271.575 195.924799 \nL 291.575 195.924799 \n\" style=\"fill:none;stroke:#ff7f0e;stroke-linecap:square;stroke-width:1.5;\"/>\n    </g>\n    <g id=\"line2d_33\"/>\n    <g id=\"text_15\">\n     <!-- cost -->\n     <g transform=\"translate(299.575 199.424799)scale(0.1 -0.1)\">\n      <defs>\n       <path d=\"M 48.78125 52.59375 \nL 48.78125 44.1875 \nQ 44.96875 46.296875 41.140625 47.34375 \nQ 37.3125 48.390625 33.40625 48.390625 \nQ 24.65625 48.390625 19.8125 42.84375 \nQ 14.984375 37.3125 14.984375 27.296875 \nQ 14.984375 17.28125 19.8125 11.734375 \nQ 24.65625 6.203125 33.40625 6.203125 \nQ 37.3125 6.203125 41.140625 7.25 \nQ 44.96875 8.296875 48.78125 10.40625 \nL 48.78125 2.09375 \nQ 45.015625 0.34375 40.984375 -0.53125 \nQ 36.96875 -1.421875 32.421875 -1.421875 \nQ 20.0625 -1.421875 12.78125 6.34375 \nQ 5.515625 14.109375 5.515625 27.296875 \nQ 5.515625 40.671875 12.859375 48.328125 \nQ 20.21875 56 33.015625 56 \nQ 37.15625 56 41.109375 55.140625 \nQ 45.0625 54.296875 48.78125 52.59375 \nz\n\" id=\"DejaVuSans-99\"/>\n       <path d=\"M 44.28125 53.078125 \nL 44.28125 44.578125 \nQ 40.484375 46.53125 36.375 47.5 \nQ 32.28125 48.484375 27.875 48.484375 \nQ 21.1875 48.484375 17.84375 46.4375 \nQ 14.5 44.390625 14.5 40.28125 \nQ 14.5 37.15625 16.890625 35.375 \nQ 19.28125 33.59375 26.515625 31.984375 \nL 29.59375 31.296875 \nQ 39.15625 29.25 43.1875 25.515625 \nQ 47.21875 21.78125 47.21875 15.09375 \nQ 47.21875 7.46875 41.1875 3.015625 \nQ 35.15625 -1.421875 24.609375 -1.421875 \nQ 20.21875 -1.421875 15.453125 -0.5625 \nQ 10.6875 0.296875 5.421875 2 \nL 5.421875 11.28125 \nQ 10.40625 8.6875 15.234375 7.390625 \nQ 20.0625 6.109375 24.8125 6.109375 \nQ 31.15625 6.109375 34.5625 8.28125 \nQ 37.984375 10.453125 37.984375 14.40625 \nQ 37.984375 18.0625 35.515625 20.015625 \nQ 33.0625 21.96875 24.703125 23.78125 \nL 21.578125 24.515625 \nQ 13.234375 26.265625 9.515625 29.90625 \nQ 5.8125 33.546875 5.8125 39.890625 \nQ 5.8125 47.609375 11.28125 51.796875 \nQ 16.75 56 26.8125 56 \nQ 31.78125 56 36.171875 55.265625 \nQ 40.578125 54.546875 44.28125 53.078125 \nz\n\" id=\"DejaVuSans-115\"/>\n       <path d=\"M 18.3125 70.21875 \nL 18.3125 54.6875 \nL 36.8125 54.6875 \nL 36.8125 47.703125 \nL 18.3125 47.703125 \nL 18.3125 18.015625 \nQ 18.3125 11.328125 20.140625 9.421875 \nQ 21.96875 7.515625 27.59375 7.515625 \nL 36.8125 7.515625 \nL 36.8125 0 \nL 27.59375 0 \nQ 17.1875 0 13.234375 3.875 \nQ 9.28125 7.765625 9.28125 18.015625 \nL 9.28125 47.703125 \nL 2.6875 47.703125 \nL 2.6875 54.6875 \nL 9.28125 54.6875 \nL 9.28125 70.21875 \nz\n\" id=\"DejaVuSans-116\"/>\n      </defs>\n      <use xlink:href=\"#DejaVuSans-99\"/>\n      <use x=\"54.980469\" xlink:href=\"#DejaVuSans-111\"/>\n      <use x=\"116.162109\" xlink:href=\"#DejaVuSans-115\"/>\n      <use x=\"168.261719\" xlink:href=\"#DejaVuSans-116\"/>\n     </g>\n    </g>\n    <g id=\"line2d_34\">\n     <path d=\"M 271.575 210.602924 \nL 291.575 210.602924 \n\" style=\"fill:none;stroke:#2ca02c;stroke-linecap:square;stroke-width:1.5;\"/>\n    </g>\n    <g id=\"line2d_35\"/>\n    <g id=\"text_16\">\n     <!-- cost+snap -->\n     <g transform=\"translate(299.575 214.102924)scale(0.1 -0.1)\">\n      <defs>\n       <path d=\"M 46 62.703125 \nL 46 35.5 \nL 73.1875 35.5 \nL 73.1875 27.203125 \nL 46 27.203125 \nL 46 0 \nL 37.796875 0 \nL 37.796875 27.203125 \nL 10.59375 27.203125 \nL 10.59375 35.5 \nL 37.796875 35.5 \nL 37.796875 62.703125 \nz\n\" id=\"DejaVuSans-43\"/>\n       <path d=\"M 54.890625 33.015625 \nL 54.890625 0 \nL 45.90625 0 \nL 45.90625 32.71875 \nQ 45.90625 40.484375 42.875 44.328125 \nQ 39.84375 48.1875 33.796875 48.1875 \nQ 26.515625 48.1875 22.3125 43.546875 \nQ 18.109375 38.921875 18.109375 30.90625 \nL 18.109375 0 \nL 9.078125 0 \nL 9.078125 54.6875 \nL 18.109375 54.6875 \nL 18.109375 46.1875 \nQ 21.34375 51.125 25.703125 53.5625 \nQ 30.078125 56 35.796875 56 \nQ 45.21875 56 50.046875 50.171875 \nQ 54.890625 44.34375 54.890625 33.015625 \nz\n\" id=\"DejaVuSans-110\"/>\n       <path d=\"M 34.28125 27.484375 \nQ 23.390625 27.484375 19.1875 25 \nQ 14.984375 22.515625 14.984375 16.5 \nQ 14.984375 11.71875 18.140625 8.90625 \nQ 21.296875 6.109375 26.703125 6.109375 \nQ 34.1875 6.109375 38.703125 11.40625 \nQ 43.21875 16.703125 43.21875 25.484375 \nL 43.21875 27.484375 \nz\nM 52.203125 31.203125 \nL 52.203125 0 \nL 43.21875 0 \nL 43.21875 8.296875 \nQ 40.140625 3.328125 35.546875 0.953125 \nQ 30.953125 -1.421875 24.3125 -1.421875 \nQ 15.921875 -1.421875 10.953125 3.296875 \nQ 6 8.015625 6 15.921875 \nQ 6 25.140625 12.171875 29.828125 \nQ 18.359375 34.515625 30.609375 34.515625 \nL 43.21875 34.515625 \nL 43.21875 35.40625 \nQ 43.21875 41.609375 39.140625 45 \nQ 35.0625 48.390625 27.6875 48.390625 \nQ 23 48.390625 18.546875 47.265625 \nQ 14.109375 46.140625 10.015625 43.890625 \nL 10.015625 52.203125 \nQ 14.9375 54.109375 19.578125 55.046875 \nQ 24.21875 56 28.609375 56 \nQ 40.484375 56 46.34375 49.84375 \nQ 52.203125 43.703125 52.203125 31.203125 \nz\n\" id=\"DejaVuSans-97\"/>\n       <path d=\"M 18.109375 8.203125 \nL 18.109375 -20.796875 \nL 9.078125 -20.796875 \nL 9.078125 54.6875 \nL 18.109375 54.6875 \nL 18.109375 46.390625 \nQ 20.953125 51.265625 25.265625 53.625 \nQ 29.59375 56 35.59375 56 \nQ 45.5625 56 51.78125 48.09375 \nQ 58.015625 40.1875 58.015625 27.296875 \nQ 58.015625 14.40625 51.78125 6.484375 \nQ 45.5625 -1.421875 35.59375 -1.421875 \nQ 29.59375 -1.421875 25.265625 0.953125 \nQ 20.953125 3.328125 18.109375 8.203125 \nz\nM 48.6875 27.296875 \nQ 48.6875 37.203125 44.609375 42.84375 \nQ 40.53125 48.484375 33.40625 48.484375 \nQ 26.265625 48.484375 22.1875 42.84375 \nQ 18.109375 37.203125 18.109375 27.296875 \nQ 18.109375 17.390625 22.1875 11.75 \nQ 26.265625 6.109375 33.40625 6.109375 \nQ 40.53125 6.109375 44.609375 11.75 \nQ 48.6875 17.390625 48.6875 27.296875 \nz\n\" id=\"DejaVuSans-112\"/>\n      </defs>\n      <use xlink:href=\"#DejaVuSans-99\"/>\n      <use x=\"54.980469\" xlink:href=\"#DejaVuSans-111\"/>\n      <use x=\"116.162109\" xlink:href=\"#DejaVuSans-115\"/>\n      <use x=\"168.261719\" xlink:href=\"#DejaVuSans-116\"/>\n      <use x=\"207.470703\" xlink:href=\"#DejaVuSans-43\"/>\n      <use x=\"291.259766\" xlink:href=\"#DejaVuSans-115\"/>\n      <use x=\"343.359375\" xlink:href=\"#DejaVuSans-110\"/>\n      <use x=\"406.738281\" xlink:href=\"#DejaVuSans-97\"/>\n      <use x=\"468.017578\" xlink:href=\"#DejaVuSans-112\"/>\n     </g>\n    </g>\n   </g>\n  </g>\n </g>\n <defs>\n  <clipPath id=\"p94ee2650cf\">\n   <rect height=\"217.44\" width=\"334.8\" x=\"26.925\" y=\"7.742612\"/>\n  </clipPath>\n </defs>\n</svg>\n",
      "image/png": "[encoded data removed]"
     },
     "metadata": {
      "needs_background": "light"
     }
    }
   ],
   "source": [
    "import matplotlib.pyplot as plt\n",
    "df_result_site1['score'].plot(label='oof')\n",
    "df_result_site2['score'].plot(label='cost')\n",
    "df_result_site3['score'].plot(label='cost+snap')\n",
    "plt.legend()\n",
    "plt.grid()\n",
    "plt.savefig('site_result.png')"
   ]
  },
  {
   "cell_type": "code",
   "execution_count": null,
   "metadata": {},
   "outputs": [],
   "source": []
  }
 ],
 "metadata": {
  "kernelspec": {
   "display_name": "Python 3",
   "language": "python",
   "name": "python3"
  },
  "language_info": {
   "codemirror_mode": {
    "name": "ipython",
    "version": 3
   },
   "file_extension": ".py",
   "mimetype": "text/x-python",
   "name": "python",
   "nbconvert_exporter": "python",
   "pygments_lexer": "ipython3",
   "version": "3.8.5"
  }
 },
 "nbformat": 4,
 "nbformat_minor": 4
}