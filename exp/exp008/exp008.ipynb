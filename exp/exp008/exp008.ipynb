{
 "cells": [
  {
   "cell_type": "code",
   "execution_count": 1,
   "metadata": {},
   "outputs": [],
   "source": [
    "import os\n",
    "import sys\n",
    "import glob\n",
    "import yaml\n",
    "import pickle\n",
    "import random\n",
    "\n",
    "import numpy as np\n",
    "import pandas as pd\n",
    "import scipy.stats as stats\n",
    "from pathlib import Path\n",
    "\n",
    "from sklearn import model_selection\n",
    "from sklearn.preprocessing import StandardScaler, LabelEncoder\n",
    "\n",
    "import wandb\n",
    "import torch\n",
    "from torch import nn\n",
    "import torch.nn.functional as F\n",
    "from torch.utils.data import Dataset, DataLoader\n",
    "import torch.optim as optim\n",
    "\n",
    "import pytorch_lightning as pl\n",
    "from pytorch_lightning.loggers import WandbLogger\n",
    "from pytorch_lightning.callbacks import ModelCheckpoint\n",
    "from pytorch_lightning.callbacks import EarlyStopping\n",
    "from pytorch_lightning.utilities.seed import seed_everything"
   ]
  },
  {
   "cell_type": "markdown",
   "metadata": {},
   "source": [
    "## config"
   ]
  },
  {
   "cell_type": "code",
   "execution_count": 2,
   "metadata": {},
   "outputs": [
    {
     "output_type": "stream",
     "name": "stderr",
     "text": [
      "Global seed set to 1996\n"
     ]
    },
    {
     "output_type": "execute_result",
     "data": {
      "text/plain": [
       "1996"
      ]
     },
     "metadata": {},
     "execution_count": 2
    }
   ],
   "source": [
    "# config\n",
    "with open('config.yaml') as f:\n",
    "    config = yaml.safe_load(f)\n",
    "\n",
    "# globals variable\n",
    "SEED = config['globals']['seed']\n",
    "MAX_EPOCHS = config['globals']['max_epochs']\n",
    "N_SPLITS = config['globals']['n_splits']\n",
    "USE_FOLDS = config['globals']['use_folds']\n",
    "DEBUG = config['globals']['debug']\n",
    "EXP_MESSAGE = config['globals']['exp_message']\n",
    "NOTES = config['globals']['notes']\n",
    "MODEL_SAVE = config['globals']['model_save']\n",
    "ONLY_PRED = config['globals']['only_pred']\n",
    "PRETRAINED = config['globals']['pretrained']\n",
    "PRETRAINED_PATH = config['globals']['pretrained_path']\n",
    "EXP_NAME = str(Path().resolve()).split('/')[-1]\n",
    "\n",
    "# seed\n",
    "seed_everything(SEED)"
   ]
  },
  {
   "cell_type": "code",
   "execution_count": 3,
   "metadata": {},
   "outputs": [
    {
     "output_type": "execute_result",
     "data": {
      "text/plain": [
       "'exp008'"
      ]
     },
     "metadata": {},
     "execution_count": 3
    }
   ],
   "source": [
    "EXP_NAME"
   ]
  },
  {
   "cell_type": "code",
   "execution_count": 4,
   "metadata": {},
   "outputs": [
    {
     "output_type": "stream",
     "name": "stdout",
     "text": [
      "\u001b[34m\u001b[1mwandb\u001b[0m: Appending key for api.wandb.ai to your netrc file: /home/user/.netrc\n"
     ]
    }
   ],
   "source": [
    "!wandb login 1bb2d0449c11d8b987e25c38b9d8dda176310fb6"
   ]
  },
  {
   "cell_type": "markdown",
   "metadata": {},
   "source": [
    "## read data"
   ]
  },
  {
   "cell_type": "code",
   "execution_count": 5,
   "metadata": {},
   "outputs": [],
   "source": [
    "# waypointを補正したdataset\n",
    "root_dir = Path('../../input/')\n",
    "with open(root_dir/'kuto_wifi_dataset_v2/train_all.pkl', 'rb') as f:\n",
    "  train_df = pickle.load(f)\n",
    "\n",
    "with open(root_dir/'kuto_wifi_dataset_v2/test_all.pkl', 'rb') as f:\n",
    "  test_df = pickle.load(f)\n",
    "\n",
    "sub_df = pd.read_csv(root_dir/'indoor-location-navigation/sample_submission.csv', index_col=0)"
   ]
  },
  {
   "cell_type": "code",
   "execution_count": 6,
   "metadata": {},
   "outputs": [
    {
     "output_type": "execute_result",
     "data": {
      "text/plain": [
       "                                         bssid_0  \\\n",
       "0       ffe684dfd25a52b046e3108a3f70df46001425f0   \n",
       "1       97e4a381c3a02ed3151bbf41b8fc1fe5815f5387   \n",
       "2       97e4a381c3a02ed3151bbf41b8fc1fe5815f5387   \n",
       "3       97e4a381c3a02ed3151bbf41b8fc1fe5815f5387   \n",
       "4       97e4a381c3a02ed3151bbf41b8fc1fe5815f5387   \n",
       "...                                          ...   \n",
       "258120  993a56b32432fb19bfb4461a0e1a2ead9bcf192f   \n",
       "258121  773cde25cb4e9fd90b11603abd5bf84d83b340e6   \n",
       "258122  993a56b32432fb19bfb4461a0e1a2ead9bcf192f   \n",
       "258123  993a56b32432fb19bfb4461a0e1a2ead9bcf192f   \n",
       "258124  993a56b32432fb19bfb4461a0e1a2ead9bcf192f   \n",
       "\n",
       "                                         bssid_1  \\\n",
       "0       97e4a381c3a02ed3151bbf41b8fc1fe5815f5387   \n",
       "1       5b71ef95e53358c558b78bf3fb152d793729bc8d   \n",
       "2       6b769b9eeb24ff287e6a53736cc7c013d5902901   \n",
       "3       4328f33869766d0f77a9299441556338e4d8a2b9   \n",
       "4       4328f33869766d0f77a9299441556338e4d8a2b9   \n",
       "...                                          ...   \n",
       "258120  773cde25cb4e9fd90b11603abd5bf84d83b340e6   \n",
       "258121  993a56b32432fb19bfb4461a0e1a2ead9bcf192f   \n",
       "258122  773cde25cb4e9fd90b11603abd5bf84d83b340e6   \n",
       "258123  c7d8359344120911f8550487f282c241d93c4750   \n",
       "258124  c7d8359344120911f8550487f282c241d93c4750   \n",
       "\n",
       "                                         bssid_2  \\\n",
       "0       5b71ef95e53358c558b78bf3fb152d793729bc8d   \n",
       "1       cb8f53745c342e2bfd0bf77a5fd8cac6cf303945   \n",
       "2       cb8f53745c342e2bfd0bf77a5fd8cac6cf303945   \n",
       "3       3fef087dd272ab07981a60c9cbf6f27460d1364e   \n",
       "4       5a1a7a8496e5f8b88db082de0b412e447e01fd0b   \n",
       "...                                          ...   \n",
       "258120  19647ac7bb55a673554aa08cafb3b096aac7f32c   \n",
       "258121  19647ac7bb55a673554aa08cafb3b096aac7f32c   \n",
       "258122  c7d8359344120911f8550487f282c241d93c4750   \n",
       "258123  fc27c0656fc13157bb2f58543d51e8ee972fdf66   \n",
       "258124  773cde25cb4e9fd90b11603abd5bf84d83b340e6   \n",
       "\n",
       "                                         bssid_3  \\\n",
       "0       2f85d197aec7bfddfee3f53ae9e1b6ed1fc56e92   \n",
       "1       ffe684dfd25a52b046e3108a3f70df46001425f0   \n",
       "2       4328f33869766d0f77a9299441556338e4d8a2b9   \n",
       "3       5a1a7a8496e5f8b88db082de0b412e447e01fd0b   \n",
       "4       cb8f53745c342e2bfd0bf77a5fd8cac6cf303945   \n",
       "...                                          ...   \n",
       "258120  a4a410696cb935d542d62afd8e8090dbbc341a16   \n",
       "258121  fc27c0656fc13157bb2f58543d51e8ee972fdf66   \n",
       "258122  fc27c0656fc13157bb2f58543d51e8ee972fdf66   \n",
       "258123  773cde25cb4e9fd90b11603abd5bf84d83b340e6   \n",
       "258124  fc27c0656fc13157bb2f58543d51e8ee972fdf66   \n",
       "\n",
       "                                         bssid_4  \\\n",
       "0       4328f33869766d0f77a9299441556338e4d8a2b9   \n",
       "1       6b769b9eeb24ff287e6a53736cc7c013d5902901   \n",
       "2       3fef087dd272ab07981a60c9cbf6f27460d1364e   \n",
       "3       5d82171d37c5296bcaed8c02745540b491d8a284   \n",
       "4       6b769b9eeb24ff287e6a53736cc7c013d5902901   \n",
       "...                                          ...   \n",
       "258120  fc27c0656fc13157bb2f58543d51e8ee972fdf66   \n",
       "258121  a4a410696cb935d542d62afd8e8090dbbc341a16   \n",
       "258122  a4a410696cb935d542d62afd8e8090dbbc341a16   \n",
       "258123  a4a410696cb935d542d62afd8e8090dbbc341a16   \n",
       "258124  a4a410696cb935d542d62afd8e8090dbbc341a16   \n",
       "\n",
       "                                         bssid_5  \\\n",
       "0       df41c761b69993669d4eb875b4474ec44d2372ed   \n",
       "1       7dc49736770ee9073043134656c89a17529f882f   \n",
       "2       5a1a7a8496e5f8b88db082de0b412e447e01fd0b   \n",
       "3       471740ef5065943b791f277ada358f9ffc011645   \n",
       "4       5d82171d37c5296bcaed8c02745540b491d8a284   \n",
       "...                                          ...   \n",
       "258120  c7d8359344120911f8550487f282c241d93c4750   \n",
       "258121  827530050f580378b7aa53fb292dfb8a12b775e1   \n",
       "258122  827530050f580378b7aa53fb292dfb8a12b775e1   \n",
       "258123  064419dd1c862bc6c960b365fed666a1a5ff36a9   \n",
       "258124  827530050f580378b7aa53fb292dfb8a12b775e1   \n",
       "\n",
       "                                         bssid_6  \\\n",
       "0       7dc49736770ee9073043134656c89a17529f882f   \n",
       "1       3fef087dd272ab07981a60c9cbf6f27460d1364e   \n",
       "2       7dc49736770ee9073043134656c89a17529f882f   \n",
       "3       2f85d197aec7bfddfee3f53ae9e1b6ed1fc56e92   \n",
       "4       5b71ef95e53358c558b78bf3fb152d793729bc8d   \n",
       "...                                          ...   \n",
       "258120  26b22cce3b7694a7d765d9cf329b9065f3fb3a3c   \n",
       "258121  c7d8359344120911f8550487f282c241d93c4750   \n",
       "258122  d64eeb8d997e8d87203479556bbb9efaf7e487fd   \n",
       "258123  b08a1d79d6d4bb2ca71336f7e995c7aa1342aa1f   \n",
       "258124  19647ac7bb55a673554aa08cafb3b096aac7f32c   \n",
       "\n",
       "                                         bssid_7  \\\n",
       "0       5a1a7a8496e5f8b88db082de0b412e447e01fd0b   \n",
       "1       5a1a7a8496e5f8b88db082de0b412e447e01fd0b   \n",
       "2       df41c761b69993669d4eb875b4474ec44d2372ed   \n",
       "3       afe423c7bc0641d63c95e232ffd65cae3be95351   \n",
       "4       df41c761b69993669d4eb875b4474ec44d2372ed   \n",
       "...                                          ...   \n",
       "258120  827530050f580378b7aa53fb292dfb8a12b775e1   \n",
       "258121  d64eeb8d997e8d87203479556bbb9efaf7e487fd   \n",
       "258122  18874cb574f0cae84582df367941ad94d877ccbb   \n",
       "258123  3c43188acbcc9704dd3987cf1ef14906f9dbe444   \n",
       "258124  064419dd1c862bc6c960b365fed666a1a5ff36a9   \n",
       "\n",
       "                                         bssid_8  \\\n",
       "0       463d0cfe3748eb70524138ed970f03375e8d1030   \n",
       "1       df41c761b69993669d4eb875b4474ec44d2372ed   \n",
       "2       5b71ef95e53358c558b78bf3fb152d793729bc8d   \n",
       "3       df41c761b69993669d4eb875b4474ec44d2372ed   \n",
       "4       2f85d197aec7bfddfee3f53ae9e1b6ed1fc56e92   \n",
       "...                                          ...   \n",
       "258120  d64eeb8d997e8d87203479556bbb9efaf7e487fd   \n",
       "258121  b08a1d79d6d4bb2ca71336f7e995c7aa1342aa1f   \n",
       "258122  22a52f1717436ee378dc44b6d707a3816a65b5e4   \n",
       "258123  19647ac7bb55a673554aa08cafb3b096aac7f32c   \n",
       "258124  3c43188acbcc9704dd3987cf1ef14906f9dbe444   \n",
       "\n",
       "                                         bssid_9  ...      timestamp  \\\n",
       "0       79179095e63e2b0431e85e3e33b02d95bb135c2e  ...  1571625311855   \n",
       "1       d8b1ff62702e02106553be91dc22a0dcf0e780a7  ...  1571625311855   \n",
       "2       2f85d197aec7bfddfee3f53ae9e1b6ed1fc56e92  ...  1571625320099   \n",
       "3       5b71ef95e53358c558b78bf3fb152d793729bc8d  ...  1571625320099   \n",
       "4       afe423c7bc0641d63c95e232ffd65cae3be95351  ...  1571625320099   \n",
       "...                                          ...  ...            ...   \n",
       "258120  22a52f1717436ee378dc44b6d707a3816a65b5e4  ...  1573822164854   \n",
       "258121  26b22cce3b7694a7d765d9cf329b9065f3fb3a3c  ...  1573822164854   \n",
       "258122  3c43188acbcc9704dd3987cf1ef14906f9dbe444  ...  1573822173051   \n",
       "258123  cdc456af06dec9e63340fdf06b976b04eaa3a4a8  ...  1573822173051   \n",
       "258124  2ee4dca6f3705253eceaeecf2144083b14741d08  ...  1573822173051   \n",
       "\n",
       "                x          y floor floor_str                      path  \\\n",
       "0       68.064926  241.94000     0        F1  5dad1ca1dc3e2c0006606c3f   \n",
       "1       68.064926  241.94000     0        F1  5dad1ca1dc3e2c0006606c3f   \n",
       "2       62.480465  241.71216     0        F1  5dad1ca1dc3e2c0006606c3f   \n",
       "3       62.480465  241.71216     0        F1  5dad1ca1dc3e2c0006606c3f   \n",
       "4       62.480465  241.71216     0        F1  5dad1ca1dc3e2c0006606c3f   \n",
       "...           ...        ...   ...       ...                       ...   \n",
       "258120  12.662716  100.47756     1        F2  5dce9eea5516ad00065f04a7   \n",
       "258121  12.662716  100.47756     1        F2  5dce9eea5516ad00065f04a7   \n",
       "258122   7.799886  107.13921     1        F2  5dce9eea5516ad00065f04a7   \n",
       "258123   7.799886  107.13921     1        F2  5dce9eea5516ad00065f04a7   \n",
       "258124   7.799886  107.13921     1        F2  5dce9eea5516ad00065f04a7   \n",
       "\n",
       "       time_diff     wifi_x      wifi_y                   site_id  \n",
       "0           1952  66.823935  241.889369  5da958dd46f8266d0737457b  \n",
       "1           3900  65.582943  241.838738  5da958dd46f8266d0737457b  \n",
       "2          -2385  64.341952  241.788107  5da958dd46f8266d0737457b  \n",
       "3           -427  62.480465  241.712160  5da958dd46f8266d0737457b  \n",
       "4           1528  62.893219  240.715162  5da958dd46f8266d0737457b  \n",
       "...          ...        ...         ...                       ...  \n",
       "258120       447  12.662716  100.477560  5d27099f03f801723c32511d  \n",
       "258121      2393  11.041773  102.698110  5d27099f03f801723c32511d  \n",
       "258122     -3876   9.961144  104.178477  5d27099f03f801723c32511d  \n",
       "258123     -1946   8.880515  105.658843  5d27099f03f801723c32511d  \n",
       "258124       -17   7.799886  107.139210  5d27099f03f801723c32511d  \n",
       "\n",
       "[258125 rows x 210 columns]"
      ],
      "text/html": "<div>\n<style scoped>\n    .dataframe tbody tr th:only-of-type {\n        vertical-align: middle;\n    }\n\n    .dataframe tbody tr th {\n        vertical-align: top;\n    }\n\n    .dataframe thead th {\n        text-align: right;\n    }\n</style>\n<table border=\"1\" class=\"dataframe\">\n  <thead>\n    <tr style=\"text-align: right;\">\n      <th></th>\n      <th>bssid_0</th>\n      <th>bssid_1</th>\n      <th>bssid_2</th>\n      <th>bssid_3</th>\n      <th>bssid_4</th>\n      <th>bssid_5</th>\n      <th>bssid_6</th>\n      <th>bssid_7</th>\n      <th>bssid_8</th>\n      <th>bssid_9</th>\n      <th>...</th>\n      <th>timestamp</th>\n      <th>x</th>\n      <th>y</th>\n      <th>floor</th>\n      <th>floor_str</th>\n      <th>path</th>\n      <th>time_diff</th>\n      <th>wifi_x</th>\n      <th>wifi_y</th>\n      <th>site_id</th>\n    </tr>\n  </thead>\n  <tbody>\n    <tr>\n      <th>0</th>\n      <td>ffe684dfd25a52b046e3108a3f70df46001425f0</td>\n      <td>97e4a381c3a02ed3151bbf41b8fc1fe5815f5387</td>\n      <td>5b71ef95e53358c558b78bf3fb152d793729bc8d</td>\n      <td>2f85d197aec7bfddfee3f53ae9e1b6ed1fc56e92</td>\n      <td>4328f33869766d0f77a9299441556338e4d8a2b9</td>\n      <td>df41c761b69993669d4eb875b4474ec44d2372ed</td>\n      <td>7dc49736770ee9073043134656c89a17529f882f</td>\n      <td>5a1a7a8496e5f8b88db082de0b412e447e01fd0b</td>\n      <td>463d0cfe3748eb70524138ed970f03375e8d1030</td>\n      <td>79179095e63e2b0431e85e3e33b02d95bb135c2e</td>\n      <td>...</td>\n      <td>1571625311855</td>\n      <td>68.064926</td>\n      <td>241.94000</td>\n      <td>0</td>\n      <td>F1</td>\n      <td>5dad1ca1dc3e2c0006606c3f</td>\n      <td>1952</td>\n      <td>66.823935</td>\n      <td>241.889369</td>\n      <td>5da958dd46f8266d0737457b</td>\n    </tr>\n    <tr>\n      <th>1</th>\n      <td>97e4a381c3a02ed3151bbf41b8fc1fe5815f5387</td>\n      <td>5b71ef95e53358c558b78bf3fb152d793729bc8d</td>\n      <td>cb8f53745c342e2bfd0bf77a5fd8cac6cf303945</td>\n      <td>ffe684dfd25a52b046e3108a3f70df46001425f0</td>\n      <td>6b769b9eeb24ff287e6a53736cc7c013d5902901</td>\n      <td>7dc49736770ee9073043134656c89a17529f882f</td>\n      <td>3fef087dd272ab07981a60c9cbf6f27460d1364e</td>\n      <td>5a1a7a8496e5f8b88db082de0b412e447e01fd0b</td>\n      <td>df41c761b69993669d4eb875b4474ec44d2372ed</td>\n      <td>d8b1ff62702e02106553be91dc22a0dcf0e780a7</td>\n      <td>...</td>\n      <td>1571625311855</td>\n      <td>68.064926</td>\n      <td>241.94000</td>\n      <td>0</td>\n      <td>F1</td>\n      <td>5dad1ca1dc3e2c0006606c3f</td>\n      <td>3900</td>\n      <td>65.582943</td>\n      <td>241.838738</td>\n      <td>5da958dd46f8266d0737457b</td>\n    </tr>\n    <tr>\n      <th>2</th>\n      <td>97e4a381c3a02ed3151bbf41b8fc1fe5815f5387</td>\n      <td>6b769b9eeb24ff287e6a53736cc7c013d5902901</td>\n      <td>cb8f53745c342e2bfd0bf77a5fd8cac6cf303945</td>\n      <td>4328f33869766d0f77a9299441556338e4d8a2b9</td>\n      <td>3fef087dd272ab07981a60c9cbf6f27460d1364e</td>\n      <td>5a1a7a8496e5f8b88db082de0b412e447e01fd0b</td>\n      <td>7dc49736770ee9073043134656c89a17529f882f</td>\n      <td>df41c761b69993669d4eb875b4474ec44d2372ed</td>\n      <td>5b71ef95e53358c558b78bf3fb152d793729bc8d</td>\n      <td>2f85d197aec7bfddfee3f53ae9e1b6ed1fc56e92</td>\n      <td>...</td>\n      <td>1571625320099</td>\n      <td>62.480465</td>\n      <td>241.71216</td>\n      <td>0</td>\n      <td>F1</td>\n      <td>5dad1ca1dc3e2c0006606c3f</td>\n      <td>-2385</td>\n      <td>64.341952</td>\n      <td>241.788107</td>\n      <td>5da958dd46f8266d0737457b</td>\n    </tr>\n    <tr>\n      <th>3</th>\n      <td>97e4a381c3a02ed3151bbf41b8fc1fe5815f5387</td>\n      <td>4328f33869766d0f77a9299441556338e4d8a2b9</td>\n      <td>3fef087dd272ab07981a60c9cbf6f27460d1364e</td>\n      <td>5a1a7a8496e5f8b88db082de0b412e447e01fd0b</td>\n      <td>5d82171d37c5296bcaed8c02745540b491d8a284</td>\n      <td>471740ef5065943b791f277ada358f9ffc011645</td>\n      <td>2f85d197aec7bfddfee3f53ae9e1b6ed1fc56e92</td>\n      <td>afe423c7bc0641d63c95e232ffd65cae3be95351</td>\n      <td>df41c761b69993669d4eb875b4474ec44d2372ed</td>\n      <td>5b71ef95e53358c558b78bf3fb152d793729bc8d</td>\n      <td>...</td>\n      <td>1571625320099</td>\n      <td>62.480465</td>\n      <td>241.71216</td>\n      <td>0</td>\n      <td>F1</td>\n      <td>5dad1ca1dc3e2c0006606c3f</td>\n      <td>-427</td>\n      <td>62.480465</td>\n      <td>241.712160</td>\n      <td>5da958dd46f8266d0737457b</td>\n    </tr>\n    <tr>\n      <th>4</th>\n      <td>97e4a381c3a02ed3151bbf41b8fc1fe5815f5387</td>\n      <td>4328f33869766d0f77a9299441556338e4d8a2b9</td>\n      <td>5a1a7a8496e5f8b88db082de0b412e447e01fd0b</td>\n      <td>cb8f53745c342e2bfd0bf77a5fd8cac6cf303945</td>\n      <td>6b769b9eeb24ff287e6a53736cc7c013d5902901</td>\n      <td>5d82171d37c5296bcaed8c02745540b491d8a284</td>\n      <td>5b71ef95e53358c558b78bf3fb152d793729bc8d</td>\n      <td>df41c761b69993669d4eb875b4474ec44d2372ed</td>\n      <td>2f85d197aec7bfddfee3f53ae9e1b6ed1fc56e92</td>\n      <td>afe423c7bc0641d63c95e232ffd65cae3be95351</td>\n      <td>...</td>\n      <td>1571625320099</td>\n      <td>62.480465</td>\n      <td>241.71216</td>\n      <td>0</td>\n      <td>F1</td>\n      <td>5dad1ca1dc3e2c0006606c3f</td>\n      <td>1528</td>\n      <td>62.893219</td>\n      <td>240.715162</td>\n      <td>5da958dd46f8266d0737457b</td>\n    </tr>\n    <tr>\n      <th>...</th>\n      <td>...</td>\n      <td>...</td>\n      <td>...</td>\n      <td>...</td>\n      <td>...</td>\n      <td>...</td>\n      <td>...</td>\n      <td>...</td>\n      <td>...</td>\n      <td>...</td>\n      <td>...</td>\n      <td>...</td>\n      <td>...</td>\n      <td>...</td>\n      <td>...</td>\n      <td>...</td>\n      <td>...</td>\n      <td>...</td>\n      <td>...</td>\n      <td>...</td>\n      <td>...</td>\n    </tr>\n    <tr>\n      <th>258120</th>\n      <td>993a56b32432fb19bfb4461a0e1a2ead9bcf192f</td>\n      <td>773cde25cb4e9fd90b11603abd5bf84d83b340e6</td>\n      <td>19647ac7bb55a673554aa08cafb3b096aac7f32c</td>\n      <td>a4a410696cb935d542d62afd8e8090dbbc341a16</td>\n      <td>fc27c0656fc13157bb2f58543d51e8ee972fdf66</td>\n      <td>c7d8359344120911f8550487f282c241d93c4750</td>\n      <td>26b22cce3b7694a7d765d9cf329b9065f3fb3a3c</td>\n      <td>827530050f580378b7aa53fb292dfb8a12b775e1</td>\n      <td>d64eeb8d997e8d87203479556bbb9efaf7e487fd</td>\n      <td>22a52f1717436ee378dc44b6d707a3816a65b5e4</td>\n      <td>...</td>\n      <td>1573822164854</td>\n      <td>12.662716</td>\n      <td>100.47756</td>\n      <td>1</td>\n      <td>F2</td>\n      <td>5dce9eea5516ad00065f04a7</td>\n      <td>447</td>\n      <td>12.662716</td>\n      <td>100.477560</td>\n      <td>5d27099f03f801723c32511d</td>\n    </tr>\n    <tr>\n      <th>258121</th>\n      <td>773cde25cb4e9fd90b11603abd5bf84d83b340e6</td>\n      <td>993a56b32432fb19bfb4461a0e1a2ead9bcf192f</td>\n      <td>19647ac7bb55a673554aa08cafb3b096aac7f32c</td>\n      <td>fc27c0656fc13157bb2f58543d51e8ee972fdf66</td>\n      <td>a4a410696cb935d542d62afd8e8090dbbc341a16</td>\n      <td>827530050f580378b7aa53fb292dfb8a12b775e1</td>\n      <td>c7d8359344120911f8550487f282c241d93c4750</td>\n      <td>d64eeb8d997e8d87203479556bbb9efaf7e487fd</td>\n      <td>b08a1d79d6d4bb2ca71336f7e995c7aa1342aa1f</td>\n      <td>26b22cce3b7694a7d765d9cf329b9065f3fb3a3c</td>\n      <td>...</td>\n      <td>1573822164854</td>\n      <td>12.662716</td>\n      <td>100.47756</td>\n      <td>1</td>\n      <td>F2</td>\n      <td>5dce9eea5516ad00065f04a7</td>\n      <td>2393</td>\n      <td>11.041773</td>\n      <td>102.698110</td>\n      <td>5d27099f03f801723c32511d</td>\n    </tr>\n    <tr>\n      <th>258122</th>\n      <td>993a56b32432fb19bfb4461a0e1a2ead9bcf192f</td>\n      <td>773cde25cb4e9fd90b11603abd5bf84d83b340e6</td>\n      <td>c7d8359344120911f8550487f282c241d93c4750</td>\n      <td>fc27c0656fc13157bb2f58543d51e8ee972fdf66</td>\n      <td>a4a410696cb935d542d62afd8e8090dbbc341a16</td>\n      <td>827530050f580378b7aa53fb292dfb8a12b775e1</td>\n      <td>d64eeb8d997e8d87203479556bbb9efaf7e487fd</td>\n      <td>18874cb574f0cae84582df367941ad94d877ccbb</td>\n      <td>22a52f1717436ee378dc44b6d707a3816a65b5e4</td>\n      <td>3c43188acbcc9704dd3987cf1ef14906f9dbe444</td>\n      <td>...</td>\n      <td>1573822173051</td>\n      <td>7.799886</td>\n      <td>107.13921</td>\n      <td>1</td>\n      <td>F2</td>\n      <td>5dce9eea5516ad00065f04a7</td>\n      <td>-3876</td>\n      <td>9.961144</td>\n      <td>104.178477</td>\n      <td>5d27099f03f801723c32511d</td>\n    </tr>\n    <tr>\n      <th>258123</th>\n      <td>993a56b32432fb19bfb4461a0e1a2ead9bcf192f</td>\n      <td>c7d8359344120911f8550487f282c241d93c4750</td>\n      <td>fc27c0656fc13157bb2f58543d51e8ee972fdf66</td>\n      <td>773cde25cb4e9fd90b11603abd5bf84d83b340e6</td>\n      <td>a4a410696cb935d542d62afd8e8090dbbc341a16</td>\n      <td>064419dd1c862bc6c960b365fed666a1a5ff36a9</td>\n      <td>b08a1d79d6d4bb2ca71336f7e995c7aa1342aa1f</td>\n      <td>3c43188acbcc9704dd3987cf1ef14906f9dbe444</td>\n      <td>19647ac7bb55a673554aa08cafb3b096aac7f32c</td>\n      <td>cdc456af06dec9e63340fdf06b976b04eaa3a4a8</td>\n      <td>...</td>\n      <td>1573822173051</td>\n      <td>7.799886</td>\n      <td>107.13921</td>\n      <td>1</td>\n      <td>F2</td>\n      <td>5dce9eea5516ad00065f04a7</td>\n      <td>-1946</td>\n      <td>8.880515</td>\n      <td>105.658843</td>\n      <td>5d27099f03f801723c32511d</td>\n    </tr>\n    <tr>\n      <th>258124</th>\n      <td>993a56b32432fb19bfb4461a0e1a2ead9bcf192f</td>\n      <td>c7d8359344120911f8550487f282c241d93c4750</td>\n      <td>773cde25cb4e9fd90b11603abd5bf84d83b340e6</td>\n      <td>fc27c0656fc13157bb2f58543d51e8ee972fdf66</td>\n      <td>a4a410696cb935d542d62afd8e8090dbbc341a16</td>\n      <td>827530050f580378b7aa53fb292dfb8a12b775e1</td>\n      <td>19647ac7bb55a673554aa08cafb3b096aac7f32c</td>\n      <td>064419dd1c862bc6c960b365fed666a1a5ff36a9</td>\n      <td>3c43188acbcc9704dd3987cf1ef14906f9dbe444</td>\n      <td>2ee4dca6f3705253eceaeecf2144083b14741d08</td>\n      <td>...</td>\n      <td>1573822173051</td>\n      <td>7.799886</td>\n      <td>107.13921</td>\n      <td>1</td>\n      <td>F2</td>\n      <td>5dce9eea5516ad00065f04a7</td>\n      <td>-17</td>\n      <td>7.799886</td>\n      <td>107.139210</td>\n      <td>5d27099f03f801723c32511d</td>\n    </tr>\n  </tbody>\n</table>\n<p>258125 rows × 210 columns</p>\n</div>"
     },
     "metadata": {},
     "execution_count": 6
    }
   ],
   "source": [
    "train_df"
   ]
  },
  {
   "cell_type": "code",
   "execution_count": 7,
   "metadata": {},
   "outputs": [
    {
     "output_type": "execute_result",
     "data": {
      "text/plain": [
       "(25336, 231094)"
      ]
     },
     "metadata": {},
     "execution_count": 7
    }
   ],
   "source": [
    "train_df['x'].nunique(), train_df['wifi_x'].nunique()"
   ]
  },
  {
   "source": [
    "## time_diffの前処理\n",
    "0~3000sのものはwifi_x,wifi_yを使用  \n",
    "-1000s~0sのものはもともとのx.yを使用"
   ],
   "cell_type": "markdown",
   "metadata": {}
  },
  {
   "cell_type": "code",
   "execution_count": 8,
   "metadata": {},
   "outputs": [],
   "source": [
    "# POSI_DIFF = 4000  # i番目のwaypointを基準に算出したwifi waypointのうち基準のtimestampの直近3sを信頼できるデータとして残す\n",
    "# NEGA_DIFF = -100000  # i番目のwaypointを基準に算出したwifi waypointのうちi+1番目のwaypointに近いものにはi+1のwaypointを座標として与える\n",
    "\n",
    "# train_df.loc[(NEGA_DIFF < train_df['time_diff']) & (train_df['time_diff'] <= 0), 'wifi_x'] = train_df.loc[(NEGA_DIFF< train_df['time_diff']) & (train_df['time_diff'] <= 0), 'x']\n",
    "# train_df.loc[(NEGA_DIFF < train_df['time_diff']) & (train_df['time_diff'] <= 0), 'wifi_y'] = train_df.loc[(NEGA_DIFF < train_df['time_diff']) & (train_df['time_diff'] <= 0), 'y']\n",
    "# train_df = train_df[(NEGA_DIFF < train_df['time_diff']) & (train_df['time_diff'] < POSI_DIFF)].reset_index(drop=True)\n",
    "# train_df"
   ]
  },
  {
   "cell_type": "markdown",
   "metadata": {},
   "source": [
    "BSSIDとRSSIは100ずつ存在しているけど全てが必要なわけではないみたい  \n",
    "ここでは20だけ取り出している。"
   ]
  },
  {
   "cell_type": "code",
   "execution_count": 9,
   "metadata": {},
   "outputs": [],
   "source": [
    "# training target features\n",
    "NUM_FEATS = 80\n",
    "BSSID_FEATS = [f'bssid_{i}' for i in range(NUM_FEATS)]\n",
    "RSSI_FEATS  = [f'rssi_{i}' for i in range(NUM_FEATS)]"
   ]
  },
  {
   "cell_type": "markdown",
   "metadata": {},
   "source": [
    "bssid_NはN個目のBSSIDを示しておりRSSI値が大きい順に番号が振られている。\n",
    "100個しかない\n"
   ]
  },
  {
   "cell_type": "code",
   "execution_count": 10,
   "metadata": {},
   "outputs": [
    {
     "output_type": "stream",
     "name": "stdout",
     "text": [
      "BSSID TYPES(train): 41286\nBSSID TYPES(test): 28592\nBSSID TYPES(all): 41300\n"
     ]
    }
   ],
   "source": [
    "# get numbers of bssids to embed them in a layer\n",
    "\n",
    "# train\n",
    "wifi_bssids = []\n",
    "# bssidを列ごとにリストに入れていく\n",
    "for i in range(100):\n",
    "    wifi_bssids.extend(train_df.iloc[:,i].values.tolist())\n",
    "wifi_bssids = list(set(wifi_bssids))\n",
    "\n",
    "train_wifi_bssids_size = len(wifi_bssids)\n",
    "print(f'BSSID TYPES(train): {train_wifi_bssids_size}')\n",
    "\n",
    "# test\n",
    "wifi_bssids_test = []\n",
    "for i in range(100):\n",
    "    wifi_bssids_test.extend(test_df.iloc[:,i].values.tolist())\n",
    "wifi_bssids_test = list(set(wifi_bssids_test))\n",
    "\n",
    "test_wifi_bssids_size = len(wifi_bssids_test)\n",
    "print(f'BSSID TYPES(test): {test_wifi_bssids_size}')\n",
    "\n",
    "\n",
    "wifi_bssids.extend(wifi_bssids_test)\n",
    "wifi_bssids = list(set(wifi_bssids))\n",
    "wifi_bssids_size = len(wifi_bssids)\n",
    "print(f'BSSID TYPES(all): {wifi_bssids_size}')\n"
   ]
  },
  {
   "cell_type": "markdown",
   "metadata": {},
   "source": [
    "## preprocessing"
   ]
  },
  {
   "cell_type": "code",
   "execution_count": 11,
   "metadata": {},
   "outputs": [],
   "source": [
    "# preprocess\n",
    "\n",
    "le = LabelEncoder()\n",
    "le.fit(wifi_bssids)\n",
    "le_site = LabelEncoder()\n",
    "le_site.fit(train_df['site_id'])\n",
    "\n",
    "ss = StandardScaler()\n",
    "ss.fit(train_df.loc[:,RSSI_FEATS])\n",
    "\n",
    "\n",
    "def preprocess(input_df, le=le, le_site=le_site, ss=ss):\n",
    "    output_df = input_df.copy()\n",
    "    # RSSIの正規化\n",
    "    output_df.loc[:,RSSI_FEATS] = ss.transform(input_df.loc[:,RSSI_FEATS])\n",
    "\n",
    "    # BSSIDのLE(1からふる)\n",
    "    for i in BSSID_FEATS:\n",
    "        output_df.loc[:,i] = le.transform(input_df.loc[:,i])\n",
    "        output_df.loc[:,i] = output_df.loc[:,i] + 1  # 0からではなく1から番号を振りたいため なぜ？ embeddingのpadding用のダミー変数？\n",
    "\n",
    "    # site_idのLE\n",
    "    output_df['site_id_str'] = input_df['site_id'].copy()\n",
    "    output_df.loc[:, 'site_id'] = le_site.transform(input_df.loc[:, 'site_id'])\n",
    "\n",
    "    # なぜ２重でやる？\n",
    "    # output_df.loc[:,RSSI_FEATS] = ss.transform(output_df.loc[:,RSSI_FEATS])\n",
    "    return output_df\n",
    "\n",
    "train = preprocess(train_df)\n",
    "test = preprocess(test_df)\n",
    "\n",
    "    "
   ]
  },
  {
   "cell_type": "code",
   "execution_count": 12,
   "metadata": {},
   "outputs": [
    {
     "output_type": "execute_result",
     "data": {
      "text/plain": [
       "24"
      ]
     },
     "metadata": {},
     "execution_count": 12
    }
   ],
   "source": [
    "site_count = len(train['site_id'].unique())\n",
    "site_count"
   ]
  },
  {
   "cell_type": "code",
   "execution_count": 13,
   "metadata": {},
   "outputs": [
    {
     "output_type": "execute_result",
     "data": {
      "text/plain": [
       "        rssi_96  rssi_97  rssi_98  rssi_99      timestamp          x  \\\n",
       "0           -84      -84      -85      -85  1571625311855  68.064926   \n",
       "1           -84      -84      -85      -85  1571625311855  68.064926   \n",
       "2           -83      -83      -83      -83  1571625320099  62.480465   \n",
       "3           -83      -83      -83      -83  1571625320099  62.480465   \n",
       "4           -83      -83      -83      -83  1571625320099  62.480465   \n",
       "...         ...      ...      ...      ...            ...        ...   \n",
       "258120      -79      -80      -80      -80  1573822164854  12.662716   \n",
       "258121      -80      -80      -81      -81  1573822164854  12.662716   \n",
       "258122      -80      -80      -80      -80  1573822173051   7.799886   \n",
       "258123      -81      -81      -81      -81  1573822173051   7.799886   \n",
       "258124      -81      -81      -81      -81  1573822173051   7.799886   \n",
       "\n",
       "                y  floor floor_str                      path  time_diff  \\\n",
       "0       241.94000      0        F1  5dad1ca1dc3e2c0006606c3f       1952   \n",
       "1       241.94000      0        F1  5dad1ca1dc3e2c0006606c3f       3900   \n",
       "2       241.71216      0        F1  5dad1ca1dc3e2c0006606c3f      -2385   \n",
       "3       241.71216      0        F1  5dad1ca1dc3e2c0006606c3f       -427   \n",
       "4       241.71216      0        F1  5dad1ca1dc3e2c0006606c3f       1528   \n",
       "...           ...    ...       ...                       ...        ...   \n",
       "258120  100.47756      1        F2  5dce9eea5516ad00065f04a7        447   \n",
       "258121  100.47756      1        F2  5dce9eea5516ad00065f04a7       2393   \n",
       "258122  107.13921      1        F2  5dce9eea5516ad00065f04a7      -3876   \n",
       "258123  107.13921      1        F2  5dce9eea5516ad00065f04a7      -1946   \n",
       "258124  107.13921      1        F2  5dce9eea5516ad00065f04a7        -17   \n",
       "\n",
       "           wifi_x      wifi_y  site_id               site_id_str  \n",
       "0       66.823935  241.889369       21  5da958dd46f8266d0737457b  \n",
       "1       65.582943  241.838738       21  5da958dd46f8266d0737457b  \n",
       "2       64.341952  241.788107       21  5da958dd46f8266d0737457b  \n",
       "3       62.480465  241.712160       21  5da958dd46f8266d0737457b  \n",
       "4       62.893219  240.715162       21  5da958dd46f8266d0737457b  \n",
       "...           ...         ...      ...                       ...  \n",
       "258120  12.662716  100.477560        5  5d27099f03f801723c32511d  \n",
       "258121  11.041773  102.698110        5  5d27099f03f801723c32511d  \n",
       "258122   9.961144  104.178477        5  5d27099f03f801723c32511d  \n",
       "258123   8.880515  105.658843        5  5d27099f03f801723c32511d  \n",
       "258124   7.799886  107.139210        5  5d27099f03f801723c32511d  \n",
       "\n",
       "[258125 rows x 15 columns]"
      ],
      "text/html": "<div>\n<style scoped>\n    .dataframe tbody tr th:only-of-type {\n        vertical-align: middle;\n    }\n\n    .dataframe tbody tr th {\n        vertical-align: top;\n    }\n\n    .dataframe thead th {\n        text-align: right;\n    }\n</style>\n<table border=\"1\" class=\"dataframe\">\n  <thead>\n    <tr style=\"text-align: right;\">\n      <th></th>\n      <th>rssi_96</th>\n      <th>rssi_97</th>\n      <th>rssi_98</th>\n      <th>rssi_99</th>\n      <th>timestamp</th>\n      <th>x</th>\n      <th>y</th>\n      <th>floor</th>\n      <th>floor_str</th>\n      <th>path</th>\n      <th>time_diff</th>\n      <th>wifi_x</th>\n      <th>wifi_y</th>\n      <th>site_id</th>\n      <th>site_id_str</th>\n    </tr>\n  </thead>\n  <tbody>\n    <tr>\n      <th>0</th>\n      <td>-84</td>\n      <td>-84</td>\n      <td>-85</td>\n      <td>-85</td>\n      <td>1571625311855</td>\n      <td>68.064926</td>\n      <td>241.94000</td>\n      <td>0</td>\n      <td>F1</td>\n      <td>5dad1ca1dc3e2c0006606c3f</td>\n      <td>1952</td>\n      <td>66.823935</td>\n      <td>241.889369</td>\n      <td>21</td>\n      <td>5da958dd46f8266d0737457b</td>\n    </tr>\n    <tr>\n      <th>1</th>\n      <td>-84</td>\n      <td>-84</td>\n      <td>-85</td>\n      <td>-85</td>\n      <td>1571625311855</td>\n      <td>68.064926</td>\n      <td>241.94000</td>\n      <td>0</td>\n      <td>F1</td>\n      <td>5dad1ca1dc3e2c0006606c3f</td>\n      <td>3900</td>\n      <td>65.582943</td>\n      <td>241.838738</td>\n      <td>21</td>\n      <td>5da958dd46f8266d0737457b</td>\n    </tr>\n    <tr>\n      <th>2</th>\n      <td>-83</td>\n      <td>-83</td>\n      <td>-83</td>\n      <td>-83</td>\n      <td>1571625320099</td>\n      <td>62.480465</td>\n      <td>241.71216</td>\n      <td>0</td>\n      <td>F1</td>\n      <td>5dad1ca1dc3e2c0006606c3f</td>\n      <td>-2385</td>\n      <td>64.341952</td>\n      <td>241.788107</td>\n      <td>21</td>\n      <td>5da958dd46f8266d0737457b</td>\n    </tr>\n    <tr>\n      <th>3</th>\n      <td>-83</td>\n      <td>-83</td>\n      <td>-83</td>\n      <td>-83</td>\n      <td>1571625320099</td>\n      <td>62.480465</td>\n      <td>241.71216</td>\n      <td>0</td>\n      <td>F1</td>\n      <td>5dad1ca1dc3e2c0006606c3f</td>\n      <td>-427</td>\n      <td>62.480465</td>\n      <td>241.712160</td>\n      <td>21</td>\n      <td>5da958dd46f8266d0737457b</td>\n    </tr>\n    <tr>\n      <th>4</th>\n      <td>-83</td>\n      <td>-83</td>\n      <td>-83</td>\n      <td>-83</td>\n      <td>1571625320099</td>\n      <td>62.480465</td>\n      <td>241.71216</td>\n      <td>0</td>\n      <td>F1</td>\n      <td>5dad1ca1dc3e2c0006606c3f</td>\n      <td>1528</td>\n      <td>62.893219</td>\n      <td>240.715162</td>\n      <td>21</td>\n      <td>5da958dd46f8266d0737457b</td>\n    </tr>\n    <tr>\n      <th>...</th>\n      <td>...</td>\n      <td>...</td>\n      <td>...</td>\n      <td>...</td>\n      <td>...</td>\n      <td>...</td>\n      <td>...</td>\n      <td>...</td>\n      <td>...</td>\n      <td>...</td>\n      <td>...</td>\n      <td>...</td>\n      <td>...</td>\n      <td>...</td>\n      <td>...</td>\n    </tr>\n    <tr>\n      <th>258120</th>\n      <td>-79</td>\n      <td>-80</td>\n      <td>-80</td>\n      <td>-80</td>\n      <td>1573822164854</td>\n      <td>12.662716</td>\n      <td>100.47756</td>\n      <td>1</td>\n      <td>F2</td>\n      <td>5dce9eea5516ad00065f04a7</td>\n      <td>447</td>\n      <td>12.662716</td>\n      <td>100.477560</td>\n      <td>5</td>\n      <td>5d27099f03f801723c32511d</td>\n    </tr>\n    <tr>\n      <th>258121</th>\n      <td>-80</td>\n      <td>-80</td>\n      <td>-81</td>\n      <td>-81</td>\n      <td>1573822164854</td>\n      <td>12.662716</td>\n      <td>100.47756</td>\n      <td>1</td>\n      <td>F2</td>\n      <td>5dce9eea5516ad00065f04a7</td>\n      <td>2393</td>\n      <td>11.041773</td>\n      <td>102.698110</td>\n      <td>5</td>\n      <td>5d27099f03f801723c32511d</td>\n    </tr>\n    <tr>\n      <th>258122</th>\n      <td>-80</td>\n      <td>-80</td>\n      <td>-80</td>\n      <td>-80</td>\n      <td>1573822173051</td>\n      <td>7.799886</td>\n      <td>107.13921</td>\n      <td>1</td>\n      <td>F2</td>\n      <td>5dce9eea5516ad00065f04a7</td>\n      <td>-3876</td>\n      <td>9.961144</td>\n      <td>104.178477</td>\n      <td>5</td>\n      <td>5d27099f03f801723c32511d</td>\n    </tr>\n    <tr>\n      <th>258123</th>\n      <td>-81</td>\n      <td>-81</td>\n      <td>-81</td>\n      <td>-81</td>\n      <td>1573822173051</td>\n      <td>7.799886</td>\n      <td>107.13921</td>\n      <td>1</td>\n      <td>F2</td>\n      <td>5dce9eea5516ad00065f04a7</td>\n      <td>-1946</td>\n      <td>8.880515</td>\n      <td>105.658843</td>\n      <td>5</td>\n      <td>5d27099f03f801723c32511d</td>\n    </tr>\n    <tr>\n      <th>258124</th>\n      <td>-81</td>\n      <td>-81</td>\n      <td>-81</td>\n      <td>-81</td>\n      <td>1573822173051</td>\n      <td>7.799886</td>\n      <td>107.13921</td>\n      <td>1</td>\n      <td>F2</td>\n      <td>5dce9eea5516ad00065f04a7</td>\n      <td>-17</td>\n      <td>7.799886</td>\n      <td>107.139210</td>\n      <td>5</td>\n      <td>5d27099f03f801723c32511d</td>\n    </tr>\n  </tbody>\n</table>\n<p>258125 rows × 15 columns</p>\n</div>"
     },
     "metadata": {},
     "execution_count": 13
    }
   ],
   "source": [
    "train.iloc[:, -15:]"
   ]
  },
  {
   "cell_type": "markdown",
   "metadata": {},
   "source": [
    "## PyTorch model\n",
    "- embedding layerが重要  "
   ]
  },
  {
   "cell_type": "code",
   "execution_count": 14,
   "metadata": {},
   "outputs": [],
   "source": [
    "# dataset\n",
    "from torch.utils.data import Dataset, DataLoader\n",
    "class IndoorDataset(Dataset):\n",
    "    def __init__(self, df, phase='train'):\n",
    "        self.df = df\n",
    "        self.phase = phase\n",
    "        self.bssid_feats = df[BSSID_FEATS].values.astype(int)\n",
    "        self.rssi_feats = df[RSSI_FEATS].values.astype(np.float32)\n",
    "        self.site_id = df['site_id'].values.astype(int)\n",
    "\n",
    "        if phase in ['train', 'valid']:\n",
    "            # self.xy = df[['x', 'y']].values.astype(np.float32)\n",
    "            self.xy = df[['wifi_x', 'wifi_y']].values.astype(np.float32)  # wifiにより補正したx,yを使用\n",
    "            self.floor = df['floor'].values.astype(np.float32)\n",
    "        \n",
    "    def __len__(self):\n",
    "        return self.df.shape[0]\n",
    "\n",
    "    def __getitem__(self, idx):\n",
    "        \n",
    "        feature = {\n",
    "            'BSSID_FEATS':self.bssid_feats[idx],\n",
    "            'RSSI_FEATS':self.rssi_feats[idx],\n",
    "            'site_id':self.site_id[idx]\n",
    "        }\n",
    "        if self.phase in ['train', 'valid']:\n",
    "            target = {\n",
    "                'xy':self.xy[idx],\n",
    "                'floor':self.floor[idx]\n",
    "            }\n",
    "        else:\n",
    "            target = {}\n",
    "        return feature, target"
   ]
  },
  {
   "cell_type": "code",
   "execution_count": 15,
   "metadata": {},
   "outputs": [],
   "source": [
    "import torch\n",
    "from torch import nn\n",
    "\n",
    "class LSTMModel(nn.Module):\n",
    "    def __init__(self, wifi_bssids_size, site_count=24, embedding_dim=64):\n",
    "        super(LSTMModel, self).__init__()\n",
    "        # bssid\n",
    "        # ->64次元に圧縮後sequence化にする\n",
    "        # wifi_bssids_sizeが辞書の数を表す\n",
    "        self.embedding_layer1 = nn.Sequential(\n",
    "            nn.Embedding(wifi_bssids_size, embedding_dim),\n",
    "            nn.Flatten(start_dim=-2)            \n",
    "        )\n",
    "        # site\n",
    "        # ->2次元に圧縮後sequence化する\n",
    "        # site_countが辞書の数を表す\n",
    "        self.embedding_layer2 = nn.Sequential(\n",
    "            nn.Embedding(site_count, 2),\n",
    "            nn.Flatten(start_dim=-1)           \n",
    "        )\n",
    "\n",
    "        # rssi\n",
    "        # 次元を64倍に線形変換\n",
    "        self.linear_layer1 = nn.Sequential(\n",
    "            nn.BatchNorm1d(NUM_FEATS),\n",
    "            nn.Linear(NUM_FEATS, NUM_FEATS * embedding_dim),\n",
    "            nn.ReLU()\n",
    "        )\n",
    "        \n",
    "        # bssid, site, rssiの出力size\n",
    "        feature_size = 2 + (2 * NUM_FEATS * embedding_dim)\n",
    "        self.linear_layer2 = nn.Sequential(\n",
    "            nn.BatchNorm1d(feature_size),\n",
    "            nn.Dropout(0.3),\n",
    "            nn.Linear(feature_size, 256),\n",
    "            nn.ReLU()\n",
    "        )\n",
    "\n",
    "        self.batch_norm1 = nn.BatchNorm1d(1)\n",
    "        self.lstm1 = nn.LSTM(input_size=256,hidden_size=128,dropout=0.3, batch_first=True)\n",
    "        self.lstm2 = nn.LSTM(input_size=128,hidden_size=16,dropout=0.1, batch_first=True)\n",
    "\n",
    "        self.fc_xy = nn.Linear(16, 2)\n",
    "        # self.fc_x = nn.Linear(16, 1)\n",
    "        # self.fc_y = nn.Linear(16, 1)\n",
    "        self.fc_floor = nn.Linear(16, 1)\n",
    "\n",
    "    \n",
    "    def forward(self, x):\n",
    "        # input embedding\n",
    "        batch_size = x[\"site_id\"].shape[0]\n",
    "        x_bssid = self.embedding_layer1(x['BSSID_FEATS'])\n",
    "        x_site_id = self.embedding_layer2(x['site_id'])\n",
    "        x_rssi = self.linear_layer1(x['RSSI_FEATS'])\n",
    "        x = torch.cat([x_bssid, x_site_id, x_rssi], dim=-1)\n",
    "        x = self.linear_layer2(x)\n",
    "\n",
    "        # lstm layer\n",
    "        x = x.view(batch_size, 1, -1)  # [batch, 1]->[batch, 1, 1]\n",
    "        x = self.batch_norm1(x)\n",
    "        x, _ = self.lstm1(x)\n",
    "        x = torch.relu(x)\n",
    "        x, _ = self.lstm2(x)\n",
    "        x = torch.relu(x)\n",
    "\n",
    "        # output [batch, 1, 1] -> [batch]\n",
    "        # x_ = self.fc_x(x).view(-1)\n",
    "        # y_ = self.fc_y(x).view(-1)\n",
    "        xy = self.fc_xy(x).squeeze(1)\n",
    "        floor = torch.relu(self.fc_floor(x)).view(-1)\n",
    "        # return {\"x\":x_, \"y\":y_, \"floor\":floor} \n",
    "        return {\"xy\": xy, \"floor\": floor}"
   ]
  },
  {
   "cell_type": "code",
   "execution_count": 16,
   "metadata": {},
   "outputs": [],
   "source": [
    "def mean_position_error(xhat, yhat, fhat, x, y, f):\n",
    "    intermediate = np.sqrt(np.power(xhat-x, 2) + np.power(yhat-y, 2)) + 15 * np.abs(fhat-f)\n",
    "    return intermediate.sum()/xhat.shape[0]\n",
    "\n",
    "def to_np(input):\n",
    "    return input.detach().cpu().numpy()"
   ]
  },
  {
   "cell_type": "code",
   "execution_count": 17,
   "metadata": {},
   "outputs": [],
   "source": [
    "def get_optimizer(model: nn.Module, config: dict):\n",
    "    optimizer_config = config[\"optimizer\"]\n",
    "    optimizer_name = optimizer_config.get(\"name\")\n",
    "    base_optimizer_name = optimizer_config.get(\"base_name\")\n",
    "    optimizer_params = optimizer_config['params']\n",
    "\n",
    "    if hasattr(optim, optimizer_name):\n",
    "        optimizer = optim.__getattribute__(optimizer_name)(model.parameters(), **optimizer_params)\n",
    "        return optimizer\n",
    "    else:\n",
    "        base_optimizer = optim.__getattribute__(base_optimizer_name)\n",
    "        optimizer = globals().get(optimizer_name)(\n",
    "            model.parameters(), \n",
    "            base_optimizer,\n",
    "            **optimizer_config[\"params\"])\n",
    "        return  optimizer\n",
    "\n",
    "def get_scheduler(optimizer, config: dict):\n",
    "    scheduler_config = config[\"scheduler\"]\n",
    "    scheduler_name = scheduler_config.get(\"name\")\n",
    "\n",
    "    if scheduler_name is None:\n",
    "        return\n",
    "    else:\n",
    "        return optim.lr_scheduler.__getattribute__(scheduler_name)(\n",
    "            optimizer, **scheduler_config[\"params\"])\n",
    "\n",
    "\n",
    "def get_criterion(config: dict):\n",
    "    loss_config = config[\"loss\"]\n",
    "    loss_name = loss_config[\"name\"]\n",
    "    loss_params = {} if loss_config.get(\"params\") is None else loss_config.get(\"params\")\n",
    "    if hasattr(nn, loss_name):\n",
    "        criterion = nn.__getattribute__(loss_name)(**loss_params)\n",
    "    else:\n",
    "        criterion = globals().get(loss_name)(**loss_params)\n",
    "\n",
    "    return criterion\n",
    "\n",
    "def worker_init_fn(worker_id):                                                          \n",
    "    np.random.seed(np.random.get_state()[1][0] + worker_id)"
   ]
  },
  {
   "cell_type": "code",
   "execution_count": 18,
   "metadata": {},
   "outputs": [],
   "source": [
    "# Learner class(pytorch-lighting)\n",
    "class Learner(pl.LightningModule):\n",
    "    def __init__(self, model, config):\n",
    "        super().__init__()\n",
    "        self.model = model\n",
    "        self.config = config\n",
    "        self.xy_criterion = get_criterion(config)\n",
    "        self.f_criterion = get_criterion(config)\n",
    "    \n",
    "    def training_step(self, batch, batch_idx):\n",
    "        x, y = batch\n",
    "        output = self.model(x)\n",
    "        loss = self.xy_criterion(output[\"xy\"], y[\"xy\"])\n",
    "        return loss\n",
    "    \n",
    "    def validation_step(self, batch, batch_idx):\n",
    "        x, y = batch\n",
    "        output = self.model(x)\n",
    "        xy_loss = self.xy_criterion(output[\"xy\"], y[\"xy\"])\n",
    "        f_loss = self.f_criterion(output[\"floor\"], y[\"floor\"])\n",
    "        loss = xy_loss  # + f_loss\n",
    "        mpe = mean_position_error(\n",
    "            to_np(output['xy'][:, 0]), to_np(output['xy'][:, 1]), 0, \n",
    "            to_np(y['xy'][:, 0]), to_np(y['xy'][:, 1]), 0)\n",
    "        \n",
    "        # floor lossは現状は無視して良い\n",
    "        self.log(f'Loss/val', loss, on_step=False, on_epoch=True, prog_bar=False, logger=True)\n",
    "        self.log(f'Loss/xy', xy_loss, on_step=False, on_epoch=True, prog_bar=False, logger=True)\n",
    "        self.log(f'Loss/floor', f_loss, on_step=False, on_epoch=True, prog_bar=False, logger=True)\n",
    "        self.log(f'MPE/val', mpe, on_step=False, on_epoch=True, prog_bar=False, logger=True)\n",
    "        return loss\n",
    "\n",
    "    def configure_optimizers(self):\n",
    "        optimizer = get_optimizer(self.model, self.config)\n",
    "        scheduler = get_scheduler(optimizer, self.config)\n",
    "        return {\"optimizer\": optimizer, \"lr_scheduler\": scheduler, \"monitor\": \"Loss/val\"}"
   ]
  },
  {
   "cell_type": "code",
   "execution_count": 19,
   "metadata": {},
   "outputs": [],
   "source": [
    "# oof\n",
    "def evaluate(model, loaders, phase):\n",
    "    x_list = []\n",
    "    y_list = []\n",
    "    f_list = []\n",
    "    with torch.no_grad():\n",
    "        for batch in loaders[phase]:\n",
    "            x, y = batch\n",
    "            output = model(x)\n",
    "            x_list.append(to_np(output['xy'][:, 0]))\n",
    "            y_list.append(to_np(output['xy'][:, 1]))\n",
    "            f_list.append(to_np(output['floor']))\n",
    "\n",
    "    x_list = np.concatenate(x_list)\n",
    "    y_list = np.concatenate(y_list)\n",
    "    f_list = np.concatenate(f_list)\n",
    "    return x_list, y_list, f_list"
   ]
  },
  {
   "cell_type": "markdown",
   "metadata": {},
   "source": [
    "## train"
   ]
  },
  {
   "cell_type": "code",
   "execution_count": 20,
   "metadata": {
    "tags": []
   },
   "outputs": [
    {
     "output_type": "stream",
     "name": "stdout",
     "text": [
      "====================\n",
      "Fold 0\n",
      "====================\n",
      "/usr/local/lib/python3.8/dist-packages/torch/nn/modules/rnn.py:58: UserWarning: dropout option adds dropout after all but last recurrent layer, so non-zero dropout expects num_layers greater than 1, but got dropout=0.3 and num_layers=1\n",
      "  warnings.warn(\"dropout option adds dropout after all but last \"\n",
      "/usr/local/lib/python3.8/dist-packages/torch/nn/modules/rnn.py:58: UserWarning: dropout option adds dropout after all but last recurrent layer, so non-zero dropout expects num_layers greater than 1, but got dropout=0.1 and num_layers=1\n",
      "  warnings.warn(\"dropout option adds dropout after all but last \"\n",
      "Failed to detect the name of this notebook, you can set it manually with the WANDB_NOTEBOOK_NAME environment variable to enable code saving.\n",
      "\u001b[34m\u001b[1mwandb\u001b[0m: Currently logged in as: \u001b[33mkuto5046\u001b[0m (use `wandb login --relogin` to force relogin)\n",
      "\u001b[34m\u001b[1mwandb\u001b[0m: wandb version 0.10.24 is available!  To upgrade, please run:\n",
      "\u001b[34m\u001b[1mwandb\u001b[0m:  $ pip install wandb --upgrade\n"
     ]
    },
    {
     "output_type": "display_data",
     "data": {
      "text/plain": "<IPython.core.display.HTML object>",
      "text/html": "\n                Tracking run with wandb version 0.10.22<br/>\n                Syncing run <strong style=\"color:#cdcd00\">radiant-firefly-248</strong> to <a href=\"https://wandb.ai\" target=\"_blank\">Weights & Biases</a> <a href=\"https://docs.wandb.com/integrations/jupyter.html\" target=\"_blank\">(Documentation)</a>.<br/>\n                Project page: <a href=\"https://wandb.ai/kuto5046/indoor\" target=\"_blank\">https://wandb.ai/kuto5046/indoor</a><br/>\n                Run page: <a href=\"https://wandb.ai/kuto5046/indoor/runs/yqc9jky3\" target=\"_blank\">https://wandb.ai/kuto5046/indoor/runs/yqc9jky3</a><br/>\n                Run data is saved locally in <code>/home/user/work/exp/exp008/wandb/run-20210405_203239-yqc9jky3</code><br/><br/>\n            "
     },
     "metadata": {}
    },
    {
     "output_type": "stream",
     "name": "stdout",
     "text": [
      "fold 0: mean position error 7.710968541326397\n"
     ]
    },
    {
     "output_type": "display_data",
     "data": {
      "text/plain": "<IPython.core.display.HTML object>",
      "text/html": "<br/>Waiting for W&B process to finish, PID 573210<br/>Program ended successfully."
     },
     "metadata": {}
    },
    {
     "output_type": "display_data",
     "data": {
      "text/plain": "VBox(children=(Label(value=' 0.00MB of 0.00MB uploaded (0.00MB deduped)\\r'), FloatProgress(value=1.0, max=1.0)…",
      "application/vnd.jupyter.widget-view+json": {
       "version_major": 2,
       "version_minor": 0,
       "model_id": "42580dae5fbb4dbc92b5f193326bd640"
      }
     },
     "metadata": {}
    },
    {
     "output_type": "display_data",
     "data": {
      "text/plain": "<IPython.core.display.HTML object>",
      "text/html": "Find user logs for this run at: <code>/home/user/work/exp/exp008/wandb/run-20210405_203239-yqc9jky3/logs/debug.log</code>"
     },
     "metadata": {}
    },
    {
     "output_type": "display_data",
     "data": {
      "text/plain": "<IPython.core.display.HTML object>",
      "text/html": "Find internal logs for this run at: <code>/home/user/work/exp/exp008/wandb/run-20210405_203239-yqc9jky3/logs/debug-internal.log</code>"
     },
     "metadata": {}
    },
    {
     "output_type": "display_data",
     "data": {
      "text/plain": "<IPython.core.display.HTML object>",
      "text/html": "Synced 5 W&B file(s), 0 media file(s), 0 artifact file(s) and 0 other file(s)"
     },
     "metadata": {}
    },
    {
     "output_type": "display_data",
     "data": {
      "text/plain": "<IPython.core.display.HTML object>",
      "text/html": "\n                    <br/>Synced <strong style=\"color:#cdcd00\">radiant-firefly-248</strong>: <a href=\"https://wandb.ai/kuto5046/indoor/runs/yqc9jky3\" target=\"_blank\">https://wandb.ai/kuto5046/indoor/runs/yqc9jky3</a><br/>\n                "
     },
     "metadata": {}
    },
    {
     "output_type": "stream",
     "name": "stdout",
     "text": [
      "====================\n",
      "Fold 1\n",
      "====================\n",
      "\u001b[34m\u001b[1mwandb\u001b[0m: wandb version 0.10.24 is available!  To upgrade, please run:\n",
      "\u001b[34m\u001b[1mwandb\u001b[0m:  $ pip install wandb --upgrade\n"
     ]
    },
    {
     "output_type": "display_data",
     "data": {
      "text/plain": "<IPython.core.display.HTML object>",
      "text/html": "\n                Tracking run with wandb version 0.10.22<br/>\n                Syncing run <strong style=\"color:#cdcd00\">deep-breeze-249</strong> to <a href=\"https://wandb.ai\" target=\"_blank\">Weights & Biases</a> <a href=\"https://docs.wandb.com/integrations/jupyter.html\" target=\"_blank\">(Documentation)</a>.<br/>\n                Project page: <a href=\"https://wandb.ai/kuto5046/indoor\" target=\"_blank\">https://wandb.ai/kuto5046/indoor</a><br/>\n                Run page: <a href=\"https://wandb.ai/kuto5046/indoor/runs/2s6af3sg\" target=\"_blank\">https://wandb.ai/kuto5046/indoor/runs/2s6af3sg</a><br/>\n                Run data is saved locally in <code>/home/user/work/exp/exp008/wandb/run-20210405_203248-2s6af3sg</code><br/><br/>\n            "
     },
     "metadata": {}
    },
    {
     "output_type": "stream",
     "name": "stdout",
     "text": [
      "fold 1: mean position error 7.722838655325648\n"
     ]
    },
    {
     "output_type": "display_data",
     "data": {
      "text/plain": "<IPython.core.display.HTML object>",
      "text/html": "<br/>Waiting for W&B process to finish, PID 573741<br/>Program ended successfully."
     },
     "metadata": {}
    },
    {
     "output_type": "display_data",
     "data": {
      "text/plain": "VBox(children=(Label(value=' 0.00MB of 0.00MB uploaded (0.00MB deduped)\\r'), FloatProgress(value=1.0, max=1.0)…",
      "application/vnd.jupyter.widget-view+json": {
       "version_major": 2,
       "version_minor": 0,
       "model_id": "caf19e7b1b1c494e9aaa91a6347d3e7a"
      }
     },
     "metadata": {}
    },
    {
     "output_type": "display_data",
     "data": {
      "text/plain": "<IPython.core.display.HTML object>",
      "text/html": "Find user logs for this run at: <code>/home/user/work/exp/exp008/wandb/run-20210405_203248-2s6af3sg/logs/debug.log</code>"
     },
     "metadata": {}
    },
    {
     "output_type": "display_data",
     "data": {
      "text/plain": "<IPython.core.display.HTML object>",
      "text/html": "Find internal logs for this run at: <code>/home/user/work/exp/exp008/wandb/run-20210405_203248-2s6af3sg/logs/debug-internal.log</code>"
     },
     "metadata": {}
    },
    {
     "output_type": "display_data",
     "data": {
      "text/plain": "<IPython.core.display.HTML object>",
      "text/html": "Synced 5 W&B file(s), 0 media file(s), 0 artifact file(s) and 0 other file(s)"
     },
     "metadata": {}
    },
    {
     "output_type": "display_data",
     "data": {
      "text/plain": "<IPython.core.display.HTML object>",
      "text/html": "\n                    <br/>Synced <strong style=\"color:#cdcd00\">deep-breeze-249</strong>: <a href=\"https://wandb.ai/kuto5046/indoor/runs/2s6af3sg\" target=\"_blank\">https://wandb.ai/kuto5046/indoor/runs/2s6af3sg</a><br/>\n                "
     },
     "metadata": {}
    },
    {
     "output_type": "stream",
     "name": "stdout",
     "text": [
      "====================\n",
      "Fold 2\n",
      "====================\n",
      "\u001b[34m\u001b[1mwandb\u001b[0m: wandb version 0.10.24 is available!  To upgrade, please run:\n",
      "\u001b[34m\u001b[1mwandb\u001b[0m:  $ pip install wandb --upgrade\n"
     ]
    },
    {
     "output_type": "display_data",
     "data": {
      "text/plain": "<IPython.core.display.HTML object>",
      "text/html": "\n                Tracking run with wandb version 0.10.22<br/>\n                Syncing run <strong style=\"color:#cdcd00\">celestial-totem-250</strong> to <a href=\"https://wandb.ai\" target=\"_blank\">Weights & Biases</a> <a href=\"https://docs.wandb.com/integrations/jupyter.html\" target=\"_blank\">(Documentation)</a>.<br/>\n                Project page: <a href=\"https://wandb.ai/kuto5046/indoor\" target=\"_blank\">https://wandb.ai/kuto5046/indoor</a><br/>\n                Run page: <a href=\"https://wandb.ai/kuto5046/indoor/runs/12jacs5r\" target=\"_blank\">https://wandb.ai/kuto5046/indoor/runs/12jacs5r</a><br/>\n                Run data is saved locally in <code>/home/user/work/exp/exp008/wandb/run-20210405_203256-12jacs5r</code><br/><br/>\n            "
     },
     "metadata": {}
    },
    {
     "output_type": "stream",
     "name": "stdout",
     "text": [
      "fold 2: mean position error 7.369896543694032\n"
     ]
    },
    {
     "output_type": "display_data",
     "data": {
      "text/plain": "<IPython.core.display.HTML object>",
      "text/html": "<br/>Waiting for W&B process to finish, PID 574243<br/>Program ended successfully."
     },
     "metadata": {}
    },
    {
     "output_type": "display_data",
     "data": {
      "text/plain": "VBox(children=(Label(value=' 0.00MB of 0.00MB uploaded (0.00MB deduped)\\r'), FloatProgress(value=1.0, max=1.0)…",
      "application/vnd.jupyter.widget-view+json": {
       "version_major": 2,
       "version_minor": 0,
       "model_id": "0ce7fabb447b44449b6007b21e0ce65a"
      }
     },
     "metadata": {}
    },
    {
     "output_type": "display_data",
     "data": {
      "text/plain": "<IPython.core.display.HTML object>",
      "text/html": "Find user logs for this run at: <code>/home/user/work/exp/exp008/wandb/run-20210405_203256-12jacs5r/logs/debug.log</code>"
     },
     "metadata": {}
    },
    {
     "output_type": "display_data",
     "data": {
      "text/plain": "<IPython.core.display.HTML object>",
      "text/html": "Find internal logs for this run at: <code>/home/user/work/exp/exp008/wandb/run-20210405_203256-12jacs5r/logs/debug-internal.log</code>"
     },
     "metadata": {}
    },
    {
     "output_type": "display_data",
     "data": {
      "text/plain": "<IPython.core.display.HTML object>",
      "text/html": "Synced 5 W&B file(s), 0 media file(s), 0 artifact file(s) and 0 other file(s)"
     },
     "metadata": {}
    },
    {
     "output_type": "display_data",
     "data": {
      "text/plain": "<IPython.core.display.HTML object>",
      "text/html": "\n                    <br/>Synced <strong style=\"color:#cdcd00\">celestial-totem-250</strong>: <a href=\"https://wandb.ai/kuto5046/indoor/runs/12jacs5r\" target=\"_blank\">https://wandb.ai/kuto5046/indoor/runs/12jacs5r</a><br/>\n                "
     },
     "metadata": {}
    },
    {
     "output_type": "stream",
     "name": "stdout",
     "text": [
      "====================\n",
      "Fold 3\n",
      "====================\n",
      "\u001b[34m\u001b[1mwandb\u001b[0m: wandb version 0.10.24 is available!  To upgrade, please run:\n",
      "\u001b[34m\u001b[1mwandb\u001b[0m:  $ pip install wandb --upgrade\n"
     ]
    },
    {
     "output_type": "display_data",
     "data": {
      "text/plain": "<IPython.core.display.HTML object>",
      "text/html": "\n                Tracking run with wandb version 0.10.22<br/>\n                Syncing run <strong style=\"color:#cdcd00\">olive-jazz-251</strong> to <a href=\"https://wandb.ai\" target=\"_blank\">Weights & Biases</a> <a href=\"https://docs.wandb.com/integrations/jupyter.html\" target=\"_blank\">(Documentation)</a>.<br/>\n                Project page: <a href=\"https://wandb.ai/kuto5046/indoor\" target=\"_blank\">https://wandb.ai/kuto5046/indoor</a><br/>\n                Run page: <a href=\"https://wandb.ai/kuto5046/indoor/runs/6w82rmui\" target=\"_blank\">https://wandb.ai/kuto5046/indoor/runs/6w82rmui</a><br/>\n                Run data is saved locally in <code>/home/user/work/exp/exp008/wandb/run-20210405_203303-6w82rmui</code><br/><br/>\n            "
     },
     "metadata": {}
    },
    {
     "output_type": "stream",
     "name": "stdout",
     "text": [
      "fold 3: mean position error 8.058767830670824\n"
     ]
    },
    {
     "output_type": "display_data",
     "data": {
      "text/plain": "<IPython.core.display.HTML object>",
      "text/html": "<br/>Waiting for W&B process to finish, PID 574746<br/>Program ended successfully."
     },
     "metadata": {}
    },
    {
     "output_type": "display_data",
     "data": {
      "text/plain": "VBox(children=(Label(value=' 0.00MB of 0.00MB uploaded (0.00MB deduped)\\r'), FloatProgress(value=1.0, max=1.0)…",
      "application/vnd.jupyter.widget-view+json": {
       "version_major": 2,
       "version_minor": 0,
       "model_id": "31538321d10a482dba9dd4cfaddcd566"
      }
     },
     "metadata": {}
    },
    {
     "output_type": "display_data",
     "data": {
      "text/plain": "<IPython.core.display.HTML object>",
      "text/html": "Find user logs for this run at: <code>/home/user/work/exp/exp008/wandb/run-20210405_203303-6w82rmui/logs/debug.log</code>"
     },
     "metadata": {}
    },
    {
     "output_type": "display_data",
     "data": {
      "text/plain": "<IPython.core.display.HTML object>",
      "text/html": "Find internal logs for this run at: <code>/home/user/work/exp/exp008/wandb/run-20210405_203303-6w82rmui/logs/debug-internal.log</code>"
     },
     "metadata": {}
    },
    {
     "output_type": "display_data",
     "data": {
      "text/plain": "<IPython.core.display.HTML object>",
      "text/html": "Synced 5 W&B file(s), 0 media file(s), 0 artifact file(s) and 0 other file(s)"
     },
     "metadata": {}
    },
    {
     "output_type": "display_data",
     "data": {
      "text/plain": "<IPython.core.display.HTML object>",
      "text/html": "\n                    <br/>Synced <strong style=\"color:#cdcd00\">olive-jazz-251</strong>: <a href=\"https://wandb.ai/kuto5046/indoor/runs/6w82rmui\" target=\"_blank\">https://wandb.ai/kuto5046/indoor/runs/6w82rmui</a><br/>\n                "
     },
     "metadata": {}
    },
    {
     "output_type": "stream",
     "name": "stdout",
     "text": [
      "====================\n",
      "Fold 4\n",
      "====================\n",
      "\u001b[34m\u001b[1mwandb\u001b[0m: wandb version 0.10.24 is available!  To upgrade, please run:\n",
      "\u001b[34m\u001b[1mwandb\u001b[0m:  $ pip install wandb --upgrade\n"
     ]
    },
    {
     "output_type": "display_data",
     "data": {
      "text/plain": "<IPython.core.display.HTML object>",
      "text/html": "\n                Tracking run with wandb version 0.10.22<br/>\n                Syncing run <strong style=\"color:#cdcd00\">bumbling-water-252</strong> to <a href=\"https://wandb.ai\" target=\"_blank\">Weights & Biases</a> <a href=\"https://docs.wandb.com/integrations/jupyter.html\" target=\"_blank\">(Documentation)</a>.<br/>\n                Project page: <a href=\"https://wandb.ai/kuto5046/indoor\" target=\"_blank\">https://wandb.ai/kuto5046/indoor</a><br/>\n                Run page: <a href=\"https://wandb.ai/kuto5046/indoor/runs/37y3wefg\" target=\"_blank\">https://wandb.ai/kuto5046/indoor/runs/37y3wefg</a><br/>\n                Run data is saved locally in <code>/home/user/work/exp/exp008/wandb/run-20210405_203311-37y3wefg</code><br/><br/>\n            "
     },
     "metadata": {}
    },
    {
     "output_type": "stream",
     "name": "stdout",
     "text": [
      "fold 4: mean position error 7.71283324302871\n"
     ]
    },
    {
     "output_type": "display_data",
     "data": {
      "text/plain": "<IPython.core.display.HTML object>",
      "text/html": "<br/>Waiting for W&B process to finish, PID 575248<br/>Program ended successfully."
     },
     "metadata": {}
    },
    {
     "output_type": "display_data",
     "data": {
      "text/plain": "VBox(children=(Label(value=' 0.00MB of 0.00MB uploaded (0.00MB deduped)\\r'), FloatProgress(value=1.0, max=1.0)…",
      "application/vnd.jupyter.widget-view+json": {
       "version_major": 2,
       "version_minor": 0,
       "model_id": "d01cdb7cb78d4288a9623c00ce5e1247"
      }
     },
     "metadata": {}
    },
    {
     "output_type": "display_data",
     "data": {
      "text/plain": "<IPython.core.display.HTML object>",
      "text/html": "Find user logs for this run at: <code>/home/user/work/exp/exp008/wandb/run-20210405_203311-37y3wefg/logs/debug.log</code>"
     },
     "metadata": {}
    },
    {
     "output_type": "display_data",
     "data": {
      "text/plain": "<IPython.core.display.HTML object>",
      "text/html": "Find internal logs for this run at: <code>/home/user/work/exp/exp008/wandb/run-20210405_203311-37y3wefg/logs/debug-internal.log</code>"
     },
     "metadata": {}
    },
    {
     "output_type": "display_data",
     "data": {
      "text/plain": "<IPython.core.display.HTML object>",
      "text/html": "Synced 5 W&B file(s), 0 media file(s), 0 artifact file(s) and 0 other file(s)"
     },
     "metadata": {}
    },
    {
     "output_type": "display_data",
     "data": {
      "text/plain": "<IPython.core.display.HTML object>",
      "text/html": "\n                    <br/>Synced <strong style=\"color:#cdcd00\">bumbling-water-252</strong>: <a href=\"https://wandb.ai/kuto5046/indoor/runs/37y3wefg\" target=\"_blank\">https://wandb.ai/kuto5046/indoor/runs/37y3wefg</a><br/>\n                "
     },
     "metadata": {}
    }
   ],
   "source": [
    "oofs = []  # 全てのoofをdfで格納する\n",
    "predictions = []  # 全ての予測値をdfで格納する\n",
    "val_scores = []\n",
    "# skf = model_selection.StratifiedKFold(n_splits=N_SPLITS, shuffle=True, random_state=SEED)\n",
    "gkf = model_selection.GroupKFold(n_splits=N_SPLITS)\n",
    "# 今回はtargetを均等に分ける必要はなくpathが均等に分かれればいいのでskf.split()にpathを与えている。\n",
    "for fold, (trn_idx, val_idx) in enumerate(gkf.split(train.loc[:, 'path'], groups=train.loc[:, 'path'])):\n",
    "    # 指定したfoldのみループを回す\n",
    "    if fold not in USE_FOLDS:\n",
    "        continue\n",
    "\n",
    "    print('=' * 20)\n",
    "    print(f'Fold {fold}')\n",
    "    print('=' * 20)\n",
    "\n",
    "    # train/valid data\n",
    "    trn_df = train.loc[trn_idx, BSSID_FEATS + RSSI_FEATS + ['site_id', 'wifi_x','wifi_y','floor']].reset_index(drop=True)\n",
    "    val_df = train.loc[val_idx, BSSID_FEATS + RSSI_FEATS + ['site_id', 'wifi_x','wifi_y','floor']].reset_index(drop=True)\n",
    "\n",
    "    # data loader\n",
    "    loaders = {}\n",
    "    loader_config = config[\"loader\"]\n",
    "    loaders[\"train\"] = DataLoader(IndoorDataset(trn_df, phase=\"train\"), **loader_config[\"train\"], worker_init_fn=worker_init_fn) \n",
    "    loaders[\"valid\"] = DataLoader(IndoorDataset(val_df, phase=\"valid\"), **loader_config[\"valid\"], worker_init_fn=worker_init_fn)\n",
    "    loaders[\"test\"] = DataLoader(IndoorDataset(test, phase=\"test\"), **loader_config[\"test\"], worker_init_fn=worker_init_fn)\n",
    "\n",
    "    # model\n",
    "    model = LSTMModel(wifi_bssids_size+1, site_count)  # +1としているのはLEを1スタートで始めているため\n",
    "    model_name = model.__class__.__name__\n",
    "\n",
    "    # callbacks\n",
    "    callbacks = []\n",
    "    checkpoint_callback = ModelCheckpoint(\n",
    "        monitor=f'Loss/val',\n",
    "        mode='min',\n",
    "        dirpath=f\"../../model/{EXP_NAME}\",\n",
    "        verbose=False,\n",
    "        filename=f'{model_name}-{fold}')\n",
    "    \n",
    "    if MODEL_SAVE:\n",
    "        callbacks.append(checkpoint_callback)\n",
    "\n",
    "    early_stop_callback = EarlyStopping(\n",
    "        monitor='Loss/val',\n",
    "        min_delta=0.00,\n",
    "        patience=10,\n",
    "        verbose=False,\n",
    "        mode='min')\n",
    "    callbacks.append(early_stop_callback)\n",
    "\n",
    "    # loggers\n",
    "    RUN_NAME = EXP_NAME + \"_\" + EXP_MESSAGE\n",
    "    wandb.init(project='indoor', notes=NOTES, entity='kuto5046', group=RUN_NAME)\n",
    "    wandb.run.name = RUN_NAME + f'-fold-{fold}'\n",
    "    wandb_config = wandb.config\n",
    "    wandb_config.model_name = model_name\n",
    "    wandb_config.LB = None\n",
    "    wandb.watch(model)\n",
    "    \n",
    "    \n",
    "    loggers = []\n",
    "    loggers.append(WandbLogger())\n",
    "\n",
    "    learner = Learner(model, config)\n",
    "    # pretrained flag\n",
    "    if PRETRAINED:\n",
    "        ckpt = torch.load(PRETRAINED_PATH + f'{model_name}-{fold}.ckpt')\n",
    "        learner.load_state_dict(ckpt['state_dict'])\n",
    "\n",
    "    if not ONLY_PRED:\n",
    "        trainer = pl.Trainer(\n",
    "            logger=loggers, \n",
    "            callbacks=callbacks,\n",
    "            max_epochs=MAX_EPOCHS,\n",
    "            gpus=[0],\n",
    "            fast_dev_run=DEBUG,\n",
    "            deterministic=True,\n",
    "            # precision=16,\n",
    "            progress_bar_refresh_rate=0  # vscodeの時progress barの動作が遅いので表示しない\n",
    "            )\n",
    "\n",
    "        trainer.fit(learner, train_dataloader=loaders['train'], val_dataloaders=loaders['valid'])\n",
    "\n",
    "    #############\n",
    "    # validation (to make oof)\n",
    "    #############\n",
    "    model.eval()  \n",
    "    oof_df = train.loc[val_idx, ['timestamp', 'x', 'y', 'site_id','site_id_str', 'wifi_x','wifi_y', 'floor', 'floor_str', 'path', 'time_diff']].reset_index(drop=True)\n",
    "    oof_x, oof_y, oof_f = evaluate(model, loaders, phase=\"valid\")\n",
    "    oof_df[\"oof_x\"] = oof_x\n",
    "    oof_df[\"oof_y\"] = oof_y\n",
    "    oof_df[\"oof_floor\"] = oof_f\n",
    "    oofs.append(oof_df)\n",
    "    \n",
    "    val_score = mean_position_error(\n",
    "        oof_df[\"oof_x\"].values, oof_df[\"oof_y\"].values, 0,\n",
    "        oof_df['wifi_x'].values, oof_df['wifi_y'].values, 0)\n",
    "    val_scores.append(val_score)\n",
    "    print(f\"fold {fold}: mean position error {val_score}\")\n",
    "\n",
    "    #############\n",
    "    # inference\n",
    "    #############n\n",
    "\n",
    "    preds_x, preds_y, preds_f = evaluate(model, loaders, phase=\"test\")\n",
    "    test_preds = pd.DataFrame(np.stack((preds_f, preds_x, preds_y))).T\n",
    "    test_preds.columns = sub_df.columns\n",
    "    test_preds[\"site_path_timestamp\"] = test[\"site_path_timestamp\"]\n",
    "    test_preds[\"floor\"] = test_preds[\"floor\"].astype(int)\n",
    "    test_preds.to_csv(f'{EXP_NAME}_fold{fold}.csv', index=False)\n",
    "    predictions.append(test_preds)\n",
    "    wandb.finish()"
   ]
  },
  {
   "source": [
    "## validation"
   ],
   "cell_type": "markdown",
   "metadata": {}
  },
  {
   "cell_type": "code",
   "execution_count": 21,
   "metadata": {},
   "outputs": [
    {
     "output_type": "execute_result",
     "data": {
      "text/plain": [
       "            timestamp          x           y  site_id  \\\n",
       "0       1561368762838   78.21819   38.999737        0   \n",
       "1       1561368762838   78.21819   38.999737        0   \n",
       "2       1561368774057   76.25184   30.510840        0   \n",
       "3       1561368774057   76.25184   30.510840        0   \n",
       "4       1561368774057   76.25184   30.510840        0   \n",
       "...               ...        ...         ...      ...   \n",
       "258120  1574420742502  193.20488  108.001520       23   \n",
       "258121  1574420742502  193.20488  108.001520       23   \n",
       "258122  1574420753754  204.29349  107.835120       23   \n",
       "258123  1574420753754  204.29349  107.835120       23   \n",
       "258124  1574420753754  204.29349  107.835120       23   \n",
       "\n",
       "                     site_id_str      wifi_x      wifi_y  floor floor_str  \\\n",
       "0       5a0546857ecc773753327266   77.890465   37.584921      2        F3   \n",
       "1       5a0546857ecc773753327266   77.562740   36.170105      2        F3   \n",
       "2       5a0546857ecc773753327266   77.235015   34.755289      2        F3   \n",
       "3       5a0546857ecc773753327266   77.202679   21.519628      2        F3   \n",
       "4       5a0546857ecc773753327266   76.991381   23.517675      2        F3   \n",
       "...                          ...         ...         ...    ...       ...   \n",
       "258120  5dc8cea7659e181adb076a3f  197.825134  107.932187     -1        B1   \n",
       "258121  5dc8cea7659e181adb076a3f  194.128931  107.987653     -1        B1   \n",
       "258122  5dc8cea7659e181adb076a3f  199.673236  107.904453     -1        B1   \n",
       "258123  5dc8cea7659e181adb076a3f  201.521337  107.876720     -1        B1   \n",
       "258124  5dc8cea7659e181adb076a3f  203.369439  107.848987     -1        B1   \n",
       "\n",
       "                            path  time_diff       oof_x       oof_y  \\\n",
       "0       5d10a1669c50c70008fe8977       1969   84.865143   39.419571   \n",
       "1       5d10a1669c50c70008fe8977       3966   87.870216   33.456242   \n",
       "2       5d10a1669c50c70008fe8977      -5250   82.229469   30.581415   \n",
       "3       5d10a1669c50c70008fe8977       8838   82.887291   28.168413   \n",
       "4       5d10a1669c50c70008fe8977       6812   80.341606   22.184681   \n",
       "...                          ...        ...         ...         ...   \n",
       "258120  5dd7c119c5b77e0006b16b99       4790  199.136230  104.263153   \n",
       "258121  5dd7c119c5b77e0006b16b99       1006  201.388168  103.995300   \n",
       "258122  5dd7c119c5b77e0006b16b99      -4550  199.976761  103.671677   \n",
       "258123  5dd7c119c5b77e0006b16b99      -2662  201.535706  104.701302   \n",
       "258124  5dd7c119c5b77e0006b16b99       -756  203.893616  102.690857   \n",
       "\n",
       "        oof_floor                                site_path_timestamp  \n",
       "0        0.207957  5a0546857ecc773753327266_5d10a1669c50c70008fe8...  \n",
       "1        0.206626  5a0546857ecc773753327266_5d10a1669c50c70008fe8...  \n",
       "2        0.211186  5a0546857ecc773753327266_5d10a1669c50c70008fe8...  \n",
       "3        0.208902  5a0546857ecc773753327266_5d10a1669c50c70008fe8...  \n",
       "4        0.212189  5a0546857ecc773753327266_5d10a1669c50c70008fe8...  \n",
       "...           ...                                                ...  \n",
       "258120   0.000000  5dc8cea7659e181adb076a3f_5dd7c119c5b77e0006b16...  \n",
       "258121   0.000000  5dc8cea7659e181adb076a3f_5dd7c119c5b77e0006b16...  \n",
       "258122   0.000000  5dc8cea7659e181adb076a3f_5dd7c119c5b77e0006b16...  \n",
       "258123   0.000000  5dc8cea7659e181adb076a3f_5dd7c119c5b77e0006b16...  \n",
       "258124   0.000000  5dc8cea7659e181adb076a3f_5dd7c119c5b77e0006b16...  \n",
       "\n",
       "[258125 rows x 15 columns]"
      ],
      "text/html": "<div>\n<style scoped>\n    .dataframe tbody tr th:only-of-type {\n        vertical-align: middle;\n    }\n\n    .dataframe tbody tr th {\n        vertical-align: top;\n    }\n\n    .dataframe thead th {\n        text-align: right;\n    }\n</style>\n<table border=\"1\" class=\"dataframe\">\n  <thead>\n    <tr style=\"text-align: right;\">\n      <th></th>\n      <th>timestamp</th>\n      <th>x</th>\n      <th>y</th>\n      <th>site_id</th>\n      <th>site_id_str</th>\n      <th>wifi_x</th>\n      <th>wifi_y</th>\n      <th>floor</th>\n      <th>floor_str</th>\n      <th>path</th>\n      <th>time_diff</th>\n      <th>oof_x</th>\n      <th>oof_y</th>\n      <th>oof_floor</th>\n      <th>site_path_timestamp</th>\n    </tr>\n  </thead>\n  <tbody>\n    <tr>\n      <th>0</th>\n      <td>1561368762838</td>\n      <td>78.21819</td>\n      <td>38.999737</td>\n      <td>0</td>\n      <td>5a0546857ecc773753327266</td>\n      <td>77.890465</td>\n      <td>37.584921</td>\n      <td>2</td>\n      <td>F3</td>\n      <td>5d10a1669c50c70008fe8977</td>\n      <td>1969</td>\n      <td>84.865143</td>\n      <td>39.419571</td>\n      <td>0.207957</td>\n      <td>5a0546857ecc773753327266_5d10a1669c50c70008fe8...</td>\n    </tr>\n    <tr>\n      <th>1</th>\n      <td>1561368762838</td>\n      <td>78.21819</td>\n      <td>38.999737</td>\n      <td>0</td>\n      <td>5a0546857ecc773753327266</td>\n      <td>77.562740</td>\n      <td>36.170105</td>\n      <td>2</td>\n      <td>F3</td>\n      <td>5d10a1669c50c70008fe8977</td>\n      <td>3966</td>\n      <td>87.870216</td>\n      <td>33.456242</td>\n      <td>0.206626</td>\n      <td>5a0546857ecc773753327266_5d10a1669c50c70008fe8...</td>\n    </tr>\n    <tr>\n      <th>2</th>\n      <td>1561368774057</td>\n      <td>76.25184</td>\n      <td>30.510840</td>\n      <td>0</td>\n      <td>5a0546857ecc773753327266</td>\n      <td>77.235015</td>\n      <td>34.755289</td>\n      <td>2</td>\n      <td>F3</td>\n      <td>5d10a1669c50c70008fe8977</td>\n      <td>-5250</td>\n      <td>82.229469</td>\n      <td>30.581415</td>\n      <td>0.211186</td>\n      <td>5a0546857ecc773753327266_5d10a1669c50c70008fe8...</td>\n    </tr>\n    <tr>\n      <th>3</th>\n      <td>1561368774057</td>\n      <td>76.25184</td>\n      <td>30.510840</td>\n      <td>0</td>\n      <td>5a0546857ecc773753327266</td>\n      <td>77.202679</td>\n      <td>21.519628</td>\n      <td>2</td>\n      <td>F3</td>\n      <td>5d10a1669c50c70008fe8977</td>\n      <td>8838</td>\n      <td>82.887291</td>\n      <td>28.168413</td>\n      <td>0.208902</td>\n      <td>5a0546857ecc773753327266_5d10a1669c50c70008fe8...</td>\n    </tr>\n    <tr>\n      <th>4</th>\n      <td>1561368774057</td>\n      <td>76.25184</td>\n      <td>30.510840</td>\n      <td>0</td>\n      <td>5a0546857ecc773753327266</td>\n      <td>76.991381</td>\n      <td>23.517675</td>\n      <td>2</td>\n      <td>F3</td>\n      <td>5d10a1669c50c70008fe8977</td>\n      <td>6812</td>\n      <td>80.341606</td>\n      <td>22.184681</td>\n      <td>0.212189</td>\n      <td>5a0546857ecc773753327266_5d10a1669c50c70008fe8...</td>\n    </tr>\n    <tr>\n      <th>...</th>\n      <td>...</td>\n      <td>...</td>\n      <td>...</td>\n      <td>...</td>\n      <td>...</td>\n      <td>...</td>\n      <td>...</td>\n      <td>...</td>\n      <td>...</td>\n      <td>...</td>\n      <td>...</td>\n      <td>...</td>\n      <td>...</td>\n      <td>...</td>\n      <td>...</td>\n    </tr>\n    <tr>\n      <th>258120</th>\n      <td>1574420742502</td>\n      <td>193.20488</td>\n      <td>108.001520</td>\n      <td>23</td>\n      <td>5dc8cea7659e181adb076a3f</td>\n      <td>197.825134</td>\n      <td>107.932187</td>\n      <td>-1</td>\n      <td>B1</td>\n      <td>5dd7c119c5b77e0006b16b99</td>\n      <td>4790</td>\n      <td>199.136230</td>\n      <td>104.263153</td>\n      <td>0.000000</td>\n      <td>5dc8cea7659e181adb076a3f_5dd7c119c5b77e0006b16...</td>\n    </tr>\n    <tr>\n      <th>258121</th>\n      <td>1574420742502</td>\n      <td>193.20488</td>\n      <td>108.001520</td>\n      <td>23</td>\n      <td>5dc8cea7659e181adb076a3f</td>\n      <td>194.128931</td>\n      <td>107.987653</td>\n      <td>-1</td>\n      <td>B1</td>\n      <td>5dd7c119c5b77e0006b16b99</td>\n      <td>1006</td>\n      <td>201.388168</td>\n      <td>103.995300</td>\n      <td>0.000000</td>\n      <td>5dc8cea7659e181adb076a3f_5dd7c119c5b77e0006b16...</td>\n    </tr>\n    <tr>\n      <th>258122</th>\n      <td>1574420753754</td>\n      <td>204.29349</td>\n      <td>107.835120</td>\n      <td>23</td>\n      <td>5dc8cea7659e181adb076a3f</td>\n      <td>199.673236</td>\n      <td>107.904453</td>\n      <td>-1</td>\n      <td>B1</td>\n      <td>5dd7c119c5b77e0006b16b99</td>\n      <td>-4550</td>\n      <td>199.976761</td>\n      <td>103.671677</td>\n      <td>0.000000</td>\n      <td>5dc8cea7659e181adb076a3f_5dd7c119c5b77e0006b16...</td>\n    </tr>\n    <tr>\n      <th>258123</th>\n      <td>1574420753754</td>\n      <td>204.29349</td>\n      <td>107.835120</td>\n      <td>23</td>\n      <td>5dc8cea7659e181adb076a3f</td>\n      <td>201.521337</td>\n      <td>107.876720</td>\n      <td>-1</td>\n      <td>B1</td>\n      <td>5dd7c119c5b77e0006b16b99</td>\n      <td>-2662</td>\n      <td>201.535706</td>\n      <td>104.701302</td>\n      <td>0.000000</td>\n      <td>5dc8cea7659e181adb076a3f_5dd7c119c5b77e0006b16...</td>\n    </tr>\n    <tr>\n      <th>258124</th>\n      <td>1574420753754</td>\n      <td>204.29349</td>\n      <td>107.835120</td>\n      <td>23</td>\n      <td>5dc8cea7659e181adb076a3f</td>\n      <td>203.369439</td>\n      <td>107.848987</td>\n      <td>-1</td>\n      <td>B1</td>\n      <td>5dd7c119c5b77e0006b16b99</td>\n      <td>-756</td>\n      <td>203.893616</td>\n      <td>102.690857</td>\n      <td>0.000000</td>\n      <td>5dc8cea7659e181adb076a3f_5dd7c119c5b77e0006b16...</td>\n    </tr>\n  </tbody>\n</table>\n<p>258125 rows × 15 columns</p>\n</div>"
     },
     "metadata": {},
     "execution_count": 21
    }
   ],
   "source": [
    "if len(USE_FOLDS) > 1:\n",
    "    oofs_df = pd.concat(oofs)\n",
    "else:\n",
    "    oofs_df = oofs[0]\n",
    "\n",
    "oofs_df['site_path_timestamp'] = oofs_df['site_id_str'].astype(str) + '_' + oofs_df['path'] + '_' + oofs_df['timestamp'].astype(str)\n",
    "oofs_df = oofs_df.sort_values('site_path_timestamp').reset_index(drop=True)\n",
    "oofs_df.to_csv(\"oof.csv\", index=False)\n",
    "oofs_df"
   ]
  },
  {
   "cell_type": "code",
   "execution_count": 22,
   "metadata": {},
   "outputs": [
    {
     "output_type": "stream",
     "name": "stdout",
     "text": [
      "CV:8.217586046438461\n"
     ]
    }
   ],
   "source": [
    "# waypoint補正前のx,yでの評価\n",
    "oof_score = mean_position_error(\n",
    "    oofs_df['oof_x'], oofs_df['oof_y'], 0, \n",
    "    oofs_df['x'], oofs_df['y'], 0\n",
    "    )\n",
    "print(f\"CV:{oof_score}\")"
   ]
  },
  {
   "cell_type": "code",
   "execution_count": 23,
   "metadata": {},
   "outputs": [
    {
     "output_type": "stream",
     "name": "stdout",
     "text": [
      "CV:7.7150609628091225\n"
     ]
    }
   ],
   "source": [
    "# waypoint補正後のx,yでの評価\n",
    "oof_score = mean_position_error(\n",
    "    oofs_df['oof_x'], oofs_df['oof_y'], 0, \n",
    "    oofs_df['wifi_x'], oofs_df['wifi_y'], 0\n",
    "    )\n",
    "print(f\"CV:{oof_score}\")"
   ]
  },
  {
   "source": [
    "## testのwaypointを予測結果(wifi)から再度線形補完"
   ],
   "cell_type": "markdown",
   "metadata": {}
  },
  {
   "cell_type": "code",
   "execution_count": 24,
   "metadata": {},
   "outputs": [
    {
     "output_type": "execute_result",
     "data": {
      "text/plain": [
       "                                                    floor           x  \\\n",
       "site_path_timestamp                                                     \n",
       "5a0546857ecc773753327266_046cfa46be49fc10834815...      0   87.954796   \n",
       "5a0546857ecc773753327266_046cfa46be49fc10834815...      0   84.130959   \n",
       "5a0546857ecc773753327266_046cfa46be49fc10834815...      0   86.090317   \n",
       "5a0546857ecc773753327266_046cfa46be49fc10834815...      0   87.595718   \n",
       "5a0546857ecc773753327266_046cfa46be49fc10834815...      0   86.149513   \n",
       "...                                                   ...         ...   \n",
       "5dc8cea7659e181adb076a3f_fd64de8c4a2fc5ebb0e9f4...      0  214.097397   \n",
       "5dc8cea7659e181adb076a3f_fd64de8c4a2fc5ebb0e9f4...      0  209.983994   \n",
       "5dc8cea7659e181adb076a3f_fd64de8c4a2fc5ebb0e9f4...      0  205.807724   \n",
       "5dc8cea7659e181adb076a3f_fd64de8c4a2fc5ebb0e9f4...      0  202.292267   \n",
       "5dc8cea7659e181adb076a3f_fd64de8c4a2fc5ebb0e9f4...      0  199.881561   \n",
       "\n",
       "                                                             y  \n",
       "site_path_timestamp                                             \n",
       "5a0546857ecc773753327266_046cfa46be49fc10834815...  102.605637  \n",
       "5a0546857ecc773753327266_046cfa46be49fc10834815...  102.008942  \n",
       "5a0546857ecc773753327266_046cfa46be49fc10834815...  104.619865  \n",
       "5a0546857ecc773753327266_046cfa46be49fc10834815...  105.741379  \n",
       "5a0546857ecc773753327266_046cfa46be49fc10834815...  105.548729  \n",
       "...                                                        ...  \n",
       "5dc8cea7659e181adb076a3f_fd64de8c4a2fc5ebb0e9f4...   90.171814  \n",
       "5dc8cea7659e181adb076a3f_fd64de8c4a2fc5ebb0e9f4...   99.197472  \n",
       "5dc8cea7659e181adb076a3f_fd64de8c4a2fc5ebb0e9f4...  105.314880  \n",
       "5dc8cea7659e181adb076a3f_fd64de8c4a2fc5ebb0e9f4...  111.906059  \n",
       "5dc8cea7659e181adb076a3f_fd64de8c4a2fc5ebb0e9f4...  111.624573  \n",
       "\n",
       "[10133 rows x 3 columns]"
      ],
      "text/html": "<div>\n<style scoped>\n    .dataframe tbody tr th:only-of-type {\n        vertical-align: middle;\n    }\n\n    .dataframe tbody tr th {\n        vertical-align: top;\n    }\n\n    .dataframe thead th {\n        text-align: right;\n    }\n</style>\n<table border=\"1\" class=\"dataframe\">\n  <thead>\n    <tr style=\"text-align: right;\">\n      <th></th>\n      <th>floor</th>\n      <th>x</th>\n      <th>y</th>\n    </tr>\n    <tr>\n      <th>site_path_timestamp</th>\n      <th></th>\n      <th></th>\n      <th></th>\n    </tr>\n  </thead>\n  <tbody>\n    <tr>\n      <th>5a0546857ecc773753327266_046cfa46be49fc10834815c6_0000000000009</th>\n      <td>0</td>\n      <td>87.954796</td>\n      <td>102.605637</td>\n    </tr>\n    <tr>\n      <th>5a0546857ecc773753327266_046cfa46be49fc10834815c6_0000000009017</th>\n      <td>0</td>\n      <td>84.130959</td>\n      <td>102.008942</td>\n    </tr>\n    <tr>\n      <th>5a0546857ecc773753327266_046cfa46be49fc10834815c6_0000000015326</th>\n      <td>0</td>\n      <td>86.090317</td>\n      <td>104.619865</td>\n    </tr>\n    <tr>\n      <th>5a0546857ecc773753327266_046cfa46be49fc10834815c6_0000000018763</th>\n      <td>0</td>\n      <td>87.595718</td>\n      <td>105.741379</td>\n    </tr>\n    <tr>\n      <th>5a0546857ecc773753327266_046cfa46be49fc10834815c6_0000000022328</th>\n      <td>0</td>\n      <td>86.149513</td>\n      <td>105.548729</td>\n    </tr>\n    <tr>\n      <th>...</th>\n      <td>...</td>\n      <td>...</td>\n      <td>...</td>\n    </tr>\n    <tr>\n      <th>5dc8cea7659e181adb076a3f_fd64de8c4a2fc5ebb0e9f412_0000000082589</th>\n      <td>0</td>\n      <td>214.097397</td>\n      <td>90.171814</td>\n    </tr>\n    <tr>\n      <th>5dc8cea7659e181adb076a3f_fd64de8c4a2fc5ebb0e9f412_0000000085758</th>\n      <td>0</td>\n      <td>209.983994</td>\n      <td>99.197472</td>\n    </tr>\n    <tr>\n      <th>5dc8cea7659e181adb076a3f_fd64de8c4a2fc5ebb0e9f412_0000000090895</th>\n      <td>0</td>\n      <td>205.807724</td>\n      <td>105.314880</td>\n    </tr>\n    <tr>\n      <th>5dc8cea7659e181adb076a3f_fd64de8c4a2fc5ebb0e9f412_0000000096899</th>\n      <td>0</td>\n      <td>202.292267</td>\n      <td>111.906059</td>\n    </tr>\n    <tr>\n      <th>5dc8cea7659e181adb076a3f_fd64de8c4a2fc5ebb0e9f412_0000000100447</th>\n      <td>0</td>\n      <td>199.881561</td>\n      <td>111.624573</td>\n    </tr>\n  </tbody>\n</table>\n<p>10133 rows × 3 columns</p>\n</div>"
     },
     "metadata": {},
     "execution_count": 24
    }
   ],
   "source": [
    "if len(USE_FOLDS) > 1:\n",
    "    # foldの結果を平均した後、reindexでsubmission fileにindexを合わせる\n",
    "    sub = pd.concat(predictions).groupby('site_path_timestamp').mean().reindex(sub_df.index)\n",
    "else:\n",
    "    sub = predictions[0].reindex(sub_df.index)\n",
    "sub"
   ]
  },
  {
   "cell_type": "code",
   "execution_count": 25,
   "metadata": {},
   "outputs": [
    {
     "output_type": "execute_result",
     "data": {
      "text/plain": [
       "                                                    floor           x  \\\n",
       "site_path_timestamp                                                     \n",
       "5a0546857ecc773753327266_046cfa46be49fc10834815...      0   87.954796   \n",
       "5a0546857ecc773753327266_046cfa46be49fc10834815...      0   84.130959   \n",
       "5a0546857ecc773753327266_046cfa46be49fc10834815...      0   86.090317   \n",
       "5a0546857ecc773753327266_046cfa46be49fc10834815...      0   87.595718   \n",
       "5a0546857ecc773753327266_046cfa46be49fc10834815...      0   86.149513   \n",
       "...                                                   ...         ...   \n",
       "5dc8cea7659e181adb076a3f_fd64de8c4a2fc5ebb0e9f4...      5  214.097397   \n",
       "5dc8cea7659e181adb076a3f_fd64de8c4a2fc5ebb0e9f4...      5  209.983994   \n",
       "5dc8cea7659e181adb076a3f_fd64de8c4a2fc5ebb0e9f4...      5  205.807724   \n",
       "5dc8cea7659e181adb076a3f_fd64de8c4a2fc5ebb0e9f4...      5  202.292267   \n",
       "5dc8cea7659e181adb076a3f_fd64de8c4a2fc5ebb0e9f4...      5  199.881561   \n",
       "\n",
       "                                                             y  \n",
       "site_path_timestamp                                             \n",
       "5a0546857ecc773753327266_046cfa46be49fc10834815...  102.605637  \n",
       "5a0546857ecc773753327266_046cfa46be49fc10834815...  102.008942  \n",
       "5a0546857ecc773753327266_046cfa46be49fc10834815...  104.619865  \n",
       "5a0546857ecc773753327266_046cfa46be49fc10834815...  105.741379  \n",
       "5a0546857ecc773753327266_046cfa46be49fc10834815...  105.548729  \n",
       "...                                                        ...  \n",
       "5dc8cea7659e181adb076a3f_fd64de8c4a2fc5ebb0e9f4...   90.171814  \n",
       "5dc8cea7659e181adb076a3f_fd64de8c4a2fc5ebb0e9f4...   99.197472  \n",
       "5dc8cea7659e181adb076a3f_fd64de8c4a2fc5ebb0e9f4...  105.314880  \n",
       "5dc8cea7659e181adb076a3f_fd64de8c4a2fc5ebb0e9f4...  111.906059  \n",
       "5dc8cea7659e181adb076a3f_fd64de8c4a2fc5ebb0e9f4...  111.624573  \n",
       "\n",
       "[10133 rows x 3 columns]"
      ],
      "text/html": "<div>\n<style scoped>\n    .dataframe tbody tr th:only-of-type {\n        vertical-align: middle;\n    }\n\n    .dataframe tbody tr th {\n        vertical-align: top;\n    }\n\n    .dataframe thead th {\n        text-align: right;\n    }\n</style>\n<table border=\"1\" class=\"dataframe\">\n  <thead>\n    <tr style=\"text-align: right;\">\n      <th></th>\n      <th>floor</th>\n      <th>x</th>\n      <th>y</th>\n    </tr>\n    <tr>\n      <th>site_path_timestamp</th>\n      <th></th>\n      <th></th>\n      <th></th>\n    </tr>\n  </thead>\n  <tbody>\n    <tr>\n      <th>5a0546857ecc773753327266_046cfa46be49fc10834815c6_0000000000009</th>\n      <td>0</td>\n      <td>87.954796</td>\n      <td>102.605637</td>\n    </tr>\n    <tr>\n      <th>5a0546857ecc773753327266_046cfa46be49fc10834815c6_0000000009017</th>\n      <td>0</td>\n      <td>84.130959</td>\n      <td>102.008942</td>\n    </tr>\n    <tr>\n      <th>5a0546857ecc773753327266_046cfa46be49fc10834815c6_0000000015326</th>\n      <td>0</td>\n      <td>86.090317</td>\n      <td>104.619865</td>\n    </tr>\n    <tr>\n      <th>5a0546857ecc773753327266_046cfa46be49fc10834815c6_0000000018763</th>\n      <td>0</td>\n      <td>87.595718</td>\n      <td>105.741379</td>\n    </tr>\n    <tr>\n      <th>5a0546857ecc773753327266_046cfa46be49fc10834815c6_0000000022328</th>\n      <td>0</td>\n      <td>86.149513</td>\n      <td>105.548729</td>\n    </tr>\n    <tr>\n      <th>...</th>\n      <td>...</td>\n      <td>...</td>\n      <td>...</td>\n    </tr>\n    <tr>\n      <th>5dc8cea7659e181adb076a3f_fd64de8c4a2fc5ebb0e9f412_0000000082589</th>\n      <td>5</td>\n      <td>214.097397</td>\n      <td>90.171814</td>\n    </tr>\n    <tr>\n      <th>5dc8cea7659e181adb076a3f_fd64de8c4a2fc5ebb0e9f412_0000000085758</th>\n      <td>5</td>\n      <td>209.983994</td>\n      <td>99.197472</td>\n    </tr>\n    <tr>\n      <th>5dc8cea7659e181adb076a3f_fd64de8c4a2fc5ebb0e9f412_0000000090895</th>\n      <td>5</td>\n      <td>205.807724</td>\n      <td>105.314880</td>\n    </tr>\n    <tr>\n      <th>5dc8cea7659e181adb076a3f_fd64de8c4a2fc5ebb0e9f412_0000000096899</th>\n      <td>5</td>\n      <td>202.292267</td>\n      <td>111.906059</td>\n    </tr>\n    <tr>\n      <th>5dc8cea7659e181adb076a3f_fd64de8c4a2fc5ebb0e9f412_0000000100447</th>\n      <td>5</td>\n      <td>199.881561</td>\n      <td>111.624573</td>\n    </tr>\n  </tbody>\n</table>\n<p>10133 rows × 3 columns</p>\n</div>"
     },
     "metadata": {},
     "execution_count": 25
    }
   ],
   "source": [
    "# floorの数値を置換\n",
    "simple_accurate_99 = pd.read_csv(root_dir / 'simple-99-accurate-floor-model/submission.csv')\n",
    "sub['floor'] = simple_accurate_99['floor'].values\n",
    "sub"
   ]
  },
  {
   "cell_type": "code",
   "execution_count": 26,
   "metadata": {},
   "outputs": [],
   "source": [
    "import sys \n",
    "sys.path.append(\"../../\")\n",
    "from multiprocessing import Pool\n",
    "from src.io_f import read_data_file\n",
    "from scipy import interpolate\n",
    "\n",
    "# timestampとwaypointを元に線形補完しtarget_timestampに対応するtarget_waypointを求める　\n",
    "def wifi_waypoint_by_linear_interpolation(\n",
    "    observed_timestamp: np.ndarray, \n",
    "    observed_x:np.ndarray, \n",
    "    observed_y:np.ndarray, \n",
    "    target_timestamp:np.ndarray, \n",
    "    delta_time=500\n",
    "    ):\n",
    "    \"\"\"\n",
    "    observed: すでに知っている情報\n",
    "    observed-timestamp,x,yは全て同じ要素数となる\n",
    "\n",
    "    observedの情報からfitting関数を作成\n",
    "    \"\"\"\n",
    "    target_waypoint_list = []\n",
    "    num_interpolation = len(observed_timestamp) - 1  # 補完回数 \n",
    "    # 各waypoint間で線形補完\n",
    "    for i in range(num_interpolation):\n",
    "        # 潜在的なtimestampを作成(これのどれかにwifiを当てはめるような形)\n",
    "        n_split = int((max(observed_timestamp[i:i+2]) - min(observed_timestamp[i:i+2])) / delta_time) + 2  # delta_time刻みとなるように分割数を指定(+2は始点と終点分)\n",
    "        latent_timestamp = np.linspace(min(observed_timestamp[i:i+2]), max(observed_timestamp[i:i+2]), n_split).astype(int) \n",
    "        \n",
    "        # xが昇順の場合はlatentも昇順になるようにする\n",
    "        if observed_x[i] < observed_x[i+1]:\n",
    "            latent_x = np.linspace(min(observed_x[i:i+2]), max(observed_x[i:i+2]), n_split)\n",
    "        # xが降順の場合はlatentも降順になるようにする\n",
    "        else:\n",
    "            latent_x = np.linspace(min(observed_x[i:i+2]), max(observed_x[i:i+2]), n_split)[::-1]\n",
    "        \n",
    "        # 線形補完関数の適用\n",
    "        fitting_func = interpolate.interp1d(observed_x[i:i+2], observed_y[i:i+2])\n",
    "\n",
    "        # wifiのtimestampに最も近いものをsplit_timestampから取得しそれに対応するwaypointをwifiのwaypointとして取得\n",
    "        target_x = []\n",
    "        target_y = []\n",
    "\n",
    "        # 区間内のwifiデータのみ考える\n",
    "        if i == num_interpolation-1:\n",
    "            # pathの最後の区間にobserved timestampより未来にあるtimestampに対処\n",
    "            target_idx = min(observed_timestamp[i:i+2]) <= target_timestamp\n",
    "        elif i == 0:\n",
    "            # pathの最初の区間にobserved timestampより過去にあるtimestampに対処\n",
    "            target_idx = target_timestamp < max(observed_timestamp[i:i+2])\n",
    "        else:\n",
    "            target_idx = (min(observed_timestamp[i:i+2]) <= target_timestamp) & (target_timestamp < max(observed_timestamp[i:i+2]))\n",
    "        target_use_timestamp = target_timestamp[target_idx]\n",
    "\n",
    "        # timestampが最も近いものをtarget waypointとして取得\n",
    "        for t in target_use_timestamp:\n",
    "            idx = np.abs(latent_timestamp - t).argmin()  # targetとtimestampが最も近いものをlatentから取得\n",
    "            target_x.append(latent_x[idx])\n",
    "            # 原因はよくわからないがfittingするとnanが発生する場合がある\n",
    "            # その場合は元の値をそのまま使う\n",
    "            if np.isnan(fitting_func(latent_x[idx])).sum() > 0:\n",
    "                # print('yに欠損値あり')\n",
    "                idx = np.abs(observed_timestamp - t).argmin()  # \b0→wifiの最初のtimestampで問題が起きている\n",
    "                target_y.append(observed_y[idx])\n",
    "                \n",
    "            else:\n",
    "                target_y.append(fitting_func(latent_x[idx]))\n",
    "\n",
    "        assert len(target_x) == len(target_y)\n",
    "        target_waypoint = np.stack([target_x, target_y], axis=1)\n",
    "        target_waypoint_list.append(target_waypoint)\n",
    "\n",
    "    target_waypoint = np.concatenate(target_waypoint_list)\n",
    "    return target_waypoint"
   ]
  },
  {
   "cell_type": "code",
   "execution_count": 27,
   "metadata": {},
   "outputs": [
    {
     "output_type": "execute_result",
     "data": {
      "text/plain": [
       "                                        bssid_0  \\\n",
       "0      574d583edd86d651086e46e635e321a0805d95fa   \n",
       "1      574d583edd86d651086e46e635e321a0805d95fa   \n",
       "2      807ac70f17923560542c51dff7b5d305709a8769   \n",
       "3      574d583edd86d651086e46e635e321a0805d95fa   \n",
       "4      574d583edd86d651086e46e635e321a0805d95fa   \n",
       "...                                         ...   \n",
       "10128  46e733fa58deea74d962874847a529fb4897e655   \n",
       "10129  46e733fa58deea74d962874847a529fb4897e655   \n",
       "10130  46e733fa58deea74d962874847a529fb4897e655   \n",
       "10131  6c381e7e7d8e984394ce02a3da912acc1b7d294e   \n",
       "10132  46e733fa58deea74d962874847a529fb4897e655   \n",
       "\n",
       "                                        bssid_1  \\\n",
       "0      76c846d6cfbfe0809ab4eb027e8bc0138383c7cd   \n",
       "1      807ac70f17923560542c51dff7b5d305709a8769   \n",
       "2      574d583edd86d651086e46e635e321a0805d95fa   \n",
       "3      807ac70f17923560542c51dff7b5d305709a8769   \n",
       "4      807ac70f17923560542c51dff7b5d305709a8769   \n",
       "...                                         ...   \n",
       "10128  6c381e7e7d8e984394ce02a3da912acc1b7d294e   \n",
       "10129  6c381e7e7d8e984394ce02a3da912acc1b7d294e   \n",
       "10130  6c381e7e7d8e984394ce02a3da912acc1b7d294e   \n",
       "10131  e5c220800a2d5ec83e355c3b1a2d7a141947e95f   \n",
       "10132  c2f60ab72a28ad3da155a5c7c591aae9d5e00061   \n",
       "\n",
       "                                        bssid_2  \\\n",
       "0      807ac70f17923560542c51dff7b5d305709a8769   \n",
       "1      9957b484f023ea3e4065e90c4a0caec01455e1d7   \n",
       "2      9957b484f023ea3e4065e90c4a0caec01455e1d7   \n",
       "3      503dba3725b3fd5c0e769a20d324c1a1e20dbc4d   \n",
       "4      0570b1a98d5815cdc245bb3b904df5cd27edb37d   \n",
       "...                                         ...   \n",
       "10128  f879db40b23c9ec1ac0f0d62418d53c3bf2e6cb5   \n",
       "10129  e5c220800a2d5ec83e355c3b1a2d7a141947e95f   \n",
       "10130  cae39a38a556f42ece02b7e8e54f55440710b034   \n",
       "10131  46e733fa58deea74d962874847a529fb4897e655   \n",
       "10132  8d8caa754528e2b2eee8bf2b6362bc950968c959   \n",
       "\n",
       "                                        bssid_3  \\\n",
       "0      22d8854d62d819f45721b4bc2552c4850c45a50f   \n",
       "1      76c846d6cfbfe0809ab4eb027e8bc0138383c7cd   \n",
       "2      15402aac56a4d7dfc43f9a19b0f26da3691c41ca   \n",
       "3      e6270dfb717fca5b1e6ef1e2e896a10e7141e505   \n",
       "4      76c846d6cfbfe0809ab4eb027e8bc0138383c7cd   \n",
       "...                                         ...   \n",
       "10128  4a6f4e041286c0e76a669ceee881942ee06ecc36   \n",
       "10129  f879db40b23c9ec1ac0f0d62418d53c3bf2e6cb5   \n",
       "10130  03ea8980e3e01a4804fbb8208a948d0b76a203fb   \n",
       "10131  dc8f08671c59b76f1d313c2e56bd1cacbe55dcac   \n",
       "10132  5a8c96dd8519e257c0c13af51cdf72e89bfc7339   \n",
       "\n",
       "                                        bssid_4  \\\n",
       "0      503dba3725b3fd5c0e769a20d324c1a1e20dbc4d   \n",
       "1      503dba3725b3fd5c0e769a20d324c1a1e20dbc4d   \n",
       "2      76c846d6cfbfe0809ab4eb027e8bc0138383c7cd   \n",
       "3      76c846d6cfbfe0809ab4eb027e8bc0138383c7cd   \n",
       "4      503dba3725b3fd5c0e769a20d324c1a1e20dbc4d   \n",
       "...                                         ...   \n",
       "10128  835e59c27eb07192538c8a9dd7bca6aa5065671b   \n",
       "10129  5024a162dfac11512ba8cb59eccd836abe70cf42   \n",
       "10130  dc8f08671c59b76f1d313c2e56bd1cacbe55dcac   \n",
       "10131  03ea8980e3e01a4804fbb8208a948d0b76a203fb   \n",
       "10132  95410888a49789e997c8956c44405129a489438a   \n",
       "\n",
       "                                        bssid_5  \\\n",
       "0      87a739fdd61e8e1900efc0eeb8534d9983d1d2ab   \n",
       "1      15402aac56a4d7dfc43f9a19b0f26da3691c41ca   \n",
       "2      503dba3725b3fd5c0e769a20d324c1a1e20dbc4d   \n",
       "3      a709d1d48dcd59b4b56675e1dbc5c58a5a48d132   \n",
       "4      a709d1d48dcd59b4b56675e1dbc5c58a5a48d132   \n",
       "...                                         ...   \n",
       "10128  51aaaf422c6bf5dcce84391b956a8aebfa41c46b   \n",
       "10129  cae39a38a556f42ece02b7e8e54f55440710b034   \n",
       "10130  3c491d07c451dec70b9eeb4209e83ac19c28e0b6   \n",
       "10131  3c491d07c451dec70b9eeb4209e83ac19c28e0b6   \n",
       "10132  f2e910cbcef80943c7283e39adca7b974055e82c   \n",
       "\n",
       "                                        bssid_6  \\\n",
       "0      8136d1f47babb115f21dceaa8227fcd796349c6d   \n",
       "1      fbb43557438922587cafbcb35f9b19ea3e9a1371   \n",
       "2      1ae2600d6b6569e82bbcd7ce1258a9248c6dcc17   \n",
       "3      9957b484f023ea3e4065e90c4a0caec01455e1d7   \n",
       "4      e6270dfb717fca5b1e6ef1e2e896a10e7141e505   \n",
       "...                                         ...   \n",
       "10128  cd31afb29b2e8c60bcb752ddee7d525184d663a2   \n",
       "10129  51aaaf422c6bf5dcce84391b956a8aebfa41c46b   \n",
       "10130  e5c220800a2d5ec83e355c3b1a2d7a141947e95f   \n",
       "10131  4d5cc880afe864ae101c6ab56dc3a065d83a3bcd   \n",
       "10132  77382b959095b32b36f5d62f47807ebfc2e37017   \n",
       "\n",
       "                                        bssid_7  \\\n",
       "0      b109d49603525755fd112ec06e80a2687a7fa417   \n",
       "1      e6270dfb717fca5b1e6ef1e2e896a10e7141e505   \n",
       "2      fbb43557438922587cafbcb35f9b19ea3e9a1371   \n",
       "3      0570b1a98d5815cdc245bb3b904df5cd27edb37d   \n",
       "4      9957b484f023ea3e4065e90c4a0caec01455e1d7   \n",
       "...                                         ...   \n",
       "10128  0f5daed11a61e0d6941a1a42ff428ca216d61003   \n",
       "10129  835e59c27eb07192538c8a9dd7bca6aa5065671b   \n",
       "10130  5024a162dfac11512ba8cb59eccd836abe70cf42   \n",
       "10131  95410888a49789e997c8956c44405129a489438a   \n",
       "10132  6c381e7e7d8e984394ce02a3da912acc1b7d294e   \n",
       "\n",
       "                                        bssid_8  \\\n",
       "0      fbb43557438922587cafbcb35f9b19ea3e9a1371   \n",
       "1      0570b1a98d5815cdc245bb3b904df5cd27edb37d   \n",
       "2      b109d49603525755fd112ec06e80a2687a7fa417   \n",
       "3      15402aac56a4d7dfc43f9a19b0f26da3691c41ca   \n",
       "4      b109d49603525755fd112ec06e80a2687a7fa417   \n",
       "...                                         ...   \n",
       "10128  320d29082914372e384fefd33584e102db06a6c3   \n",
       "10129  5a8c96dd8519e257c0c13af51cdf72e89bfc7339   \n",
       "10130  735a61d004af3adaa1331ceb38436d2d078d0cd0   \n",
       "10131  ea10558abeea1b654962c437574dc29c11498ec7   \n",
       "10132  1ccfad270acf0c810365000a5b7b1202b946a80c   \n",
       "\n",
       "                                        bssid_9  ... rssi_99  \\\n",
       "0      15402aac56a4d7dfc43f9a19b0f26da3691c41ca  ...     -91   \n",
       "1      1ae2600d6b6569e82bbcd7ce1258a9248c6dcc17  ...    -999   \n",
       "2      0570b1a98d5815cdc245bb3b904df5cd27edb37d  ...    -999   \n",
       "3      1ae2600d6b6569e82bbcd7ce1258a9248c6dcc17  ...     -88   \n",
       "4      0edcec6308b9f8a8cd43bf7ca656289aa6663c2c  ...     -86   \n",
       "...                                         ...  ...     ...   \n",
       "10128  7af4e320275401c386cfd3e8ee8554692b2120b2  ...     -86   \n",
       "10129  8d8caa754528e2b2eee8bf2b6362bc950968c959  ...     -87   \n",
       "10130  0e0654ac3d69c3ebbe3c8c65207e139a6c129a14  ...    -999   \n",
       "10131  cae39a38a556f42ece02b7e8e54f55440710b034  ...    -999   \n",
       "10132  d3d056da278ff2975a96a486e4c1f70128570110  ...     -83   \n",
       "\n",
       "                                     site_path_timestamp time_diff  \\\n",
       "0      5da958dd46f8266d0737457b_053526f9012ca71531312...     -1929   \n",
       "1      5da958dd46f8266d0737457b_053526f9012ca71531312...       737   \n",
       "2      5da958dd46f8266d0737457b_053526f9012ca71531312...       411   \n",
       "3      5da958dd46f8266d0737457b_053526f9012ca71531312...        66   \n",
       "4      5da958dd46f8266d0737457b_053526f9012ca71531312...      -406   \n",
       "...                                                  ...       ...   \n",
       "10128  5a0546857ecc773753327266_ffcd9524c80c0fa5bb859...       -83   \n",
       "10129  5a0546857ecc773753327266_ffcd9524c80c0fa5bb859...       244   \n",
       "10130  5a0546857ecc773753327266_ffcd9524c80c0fa5bb859...      -708   \n",
       "10131  5a0546857ecc773753327266_ffcd9524c80c0fa5bb859...       574   \n",
       "10132  5a0546857ecc773753327266_ffcd9524c80c0fa5bb859...      -399   \n",
       "\n",
       "                        site_id floor           x           y  \\\n",
       "0      5da958dd46f8266d0737457b     5   78.376984  207.307938   \n",
       "1      5da958dd46f8266d0737457b     5   79.550774  213.540405   \n",
       "2      5da958dd46f8266d0737457b     5   76.677559  215.255569   \n",
       "3      5da958dd46f8266d0737457b     5   77.082039  211.009094   \n",
       "4      5da958dd46f8266d0737457b     5   77.453041  210.456375   \n",
       "...                         ...   ...         ...         ...   \n",
       "10128  5a0546857ecc773753327266    -1  124.152206  183.721527   \n",
       "10129  5a0546857ecc773753327266    -1  130.239868  181.272659   \n",
       "10130  5a0546857ecc773753327266    -1  129.803162  181.755844   \n",
       "10131  5a0546857ecc773753327266    -1  131.419724  180.432816   \n",
       "10132  5a0546857ecc773753327266    -1  129.598892  173.433823   \n",
       "\n",
       "                           path      timestamp wifi_timestamp  \n",
       "0      053526f9012ca715313120cd  0000000000016           1945  \n",
       "1      053526f9012ca715313120cd  0000000008481           7744  \n",
       "2      053526f9012ca715313120cd  0000000013930          13519  \n",
       "3      053526f9012ca715313120cd  0000000033126          33060  \n",
       "4      053526f9012ca715313120cd  0000000044451          44857  \n",
       "...                         ...            ...            ...  \n",
       "10128  ffcd9524c80c0fa5bb859eaf  0000000035117          35200  \n",
       "10129  ffcd9524c80c0fa5bb859eaf  0000000041230          40986  \n",
       "10130  ffcd9524c80c0fa5bb859eaf  0000000051634          52342  \n",
       "10131  ffcd9524c80c0fa5bb859eaf  0000000060483          59909  \n",
       "10132  ffcd9524c80c0fa5bb859eaf  0000000067146          67545  \n",
       "\n",
       "[10133 rows x 209 columns]"
      ],
      "text/html": "<div>\n<style scoped>\n    .dataframe tbody tr th:only-of-type {\n        vertical-align: middle;\n    }\n\n    .dataframe tbody tr th {\n        vertical-align: top;\n    }\n\n    .dataframe thead th {\n        text-align: right;\n    }\n</style>\n<table border=\"1\" class=\"dataframe\">\n  <thead>\n    <tr style=\"text-align: right;\">\n      <th></th>\n      <th>bssid_0</th>\n      <th>bssid_1</th>\n      <th>bssid_2</th>\n      <th>bssid_3</th>\n      <th>bssid_4</th>\n      <th>bssid_5</th>\n      <th>bssid_6</th>\n      <th>bssid_7</th>\n      <th>bssid_8</th>\n      <th>bssid_9</th>\n      <th>...</th>\n      <th>rssi_99</th>\n      <th>site_path_timestamp</th>\n      <th>time_diff</th>\n      <th>site_id</th>\n      <th>floor</th>\n      <th>x</th>\n      <th>y</th>\n      <th>path</th>\n      <th>timestamp</th>\n      <th>wifi_timestamp</th>\n    </tr>\n  </thead>\n  <tbody>\n    <tr>\n      <th>0</th>\n      <td>574d583edd86d651086e46e635e321a0805d95fa</td>\n      <td>76c846d6cfbfe0809ab4eb027e8bc0138383c7cd</td>\n      <td>807ac70f17923560542c51dff7b5d305709a8769</td>\n      <td>22d8854d62d819f45721b4bc2552c4850c45a50f</td>\n      <td>503dba3725b3fd5c0e769a20d324c1a1e20dbc4d</td>\n      <td>87a739fdd61e8e1900efc0eeb8534d9983d1d2ab</td>\n      <td>8136d1f47babb115f21dceaa8227fcd796349c6d</td>\n      <td>b109d49603525755fd112ec06e80a2687a7fa417</td>\n      <td>fbb43557438922587cafbcb35f9b19ea3e9a1371</td>\n      <td>15402aac56a4d7dfc43f9a19b0f26da3691c41ca</td>\n      <td>...</td>\n      <td>-91</td>\n      <td>5da958dd46f8266d0737457b_053526f9012ca71531312...</td>\n      <td>-1929</td>\n      <td>5da958dd46f8266d0737457b</td>\n      <td>5</td>\n      <td>78.376984</td>\n      <td>207.307938</td>\n      <td>053526f9012ca715313120cd</td>\n      <td>0000000000016</td>\n      <td>1945</td>\n    </tr>\n    <tr>\n      <th>1</th>\n      <td>574d583edd86d651086e46e635e321a0805d95fa</td>\n      <td>807ac70f17923560542c51dff7b5d305709a8769</td>\n      <td>9957b484f023ea3e4065e90c4a0caec01455e1d7</td>\n      <td>76c846d6cfbfe0809ab4eb027e8bc0138383c7cd</td>\n      <td>503dba3725b3fd5c0e769a20d324c1a1e20dbc4d</td>\n      <td>15402aac56a4d7dfc43f9a19b0f26da3691c41ca</td>\n      <td>fbb43557438922587cafbcb35f9b19ea3e9a1371</td>\n      <td>e6270dfb717fca5b1e6ef1e2e896a10e7141e505</td>\n      <td>0570b1a98d5815cdc245bb3b904df5cd27edb37d</td>\n      <td>1ae2600d6b6569e82bbcd7ce1258a9248c6dcc17</td>\n      <td>...</td>\n      <td>-999</td>\n      <td>5da958dd46f8266d0737457b_053526f9012ca71531312...</td>\n      <td>737</td>\n      <td>5da958dd46f8266d0737457b</td>\n      <td>5</td>\n      <td>79.550774</td>\n      <td>213.540405</td>\n      <td>053526f9012ca715313120cd</td>\n      <td>0000000008481</td>\n      <td>7744</td>\n    </tr>\n    <tr>\n      <th>2</th>\n      <td>807ac70f17923560542c51dff7b5d305709a8769</td>\n      <td>574d583edd86d651086e46e635e321a0805d95fa</td>\n      <td>9957b484f023ea3e4065e90c4a0caec01455e1d7</td>\n      <td>15402aac56a4d7dfc43f9a19b0f26da3691c41ca</td>\n      <td>76c846d6cfbfe0809ab4eb027e8bc0138383c7cd</td>\n      <td>503dba3725b3fd5c0e769a20d324c1a1e20dbc4d</td>\n      <td>1ae2600d6b6569e82bbcd7ce1258a9248c6dcc17</td>\n      <td>fbb43557438922587cafbcb35f9b19ea3e9a1371</td>\n      <td>b109d49603525755fd112ec06e80a2687a7fa417</td>\n      <td>0570b1a98d5815cdc245bb3b904df5cd27edb37d</td>\n      <td>...</td>\n      <td>-999</td>\n      <td>5da958dd46f8266d0737457b_053526f9012ca71531312...</td>\n      <td>411</td>\n      <td>5da958dd46f8266d0737457b</td>\n      <td>5</td>\n      <td>76.677559</td>\n      <td>215.255569</td>\n      <td>053526f9012ca715313120cd</td>\n      <td>0000000013930</td>\n      <td>13519</td>\n    </tr>\n    <tr>\n      <th>3</th>\n      <td>574d583edd86d651086e46e635e321a0805d95fa</td>\n      <td>807ac70f17923560542c51dff7b5d305709a8769</td>\n      <td>503dba3725b3fd5c0e769a20d324c1a1e20dbc4d</td>\n      <td>e6270dfb717fca5b1e6ef1e2e896a10e7141e505</td>\n      <td>76c846d6cfbfe0809ab4eb027e8bc0138383c7cd</td>\n      <td>a709d1d48dcd59b4b56675e1dbc5c58a5a48d132</td>\n      <td>9957b484f023ea3e4065e90c4a0caec01455e1d7</td>\n      <td>0570b1a98d5815cdc245bb3b904df5cd27edb37d</td>\n      <td>15402aac56a4d7dfc43f9a19b0f26da3691c41ca</td>\n      <td>1ae2600d6b6569e82bbcd7ce1258a9248c6dcc17</td>\n      <td>...</td>\n      <td>-88</td>\n      <td>5da958dd46f8266d0737457b_053526f9012ca71531312...</td>\n      <td>66</td>\n      <td>5da958dd46f8266d0737457b</td>\n      <td>5</td>\n      <td>77.082039</td>\n      <td>211.009094</td>\n      <td>053526f9012ca715313120cd</td>\n      <td>0000000033126</td>\n      <td>33060</td>\n    </tr>\n    <tr>\n      <th>4</th>\n      <td>574d583edd86d651086e46e635e321a0805d95fa</td>\n      <td>807ac70f17923560542c51dff7b5d305709a8769</td>\n      <td>0570b1a98d5815cdc245bb3b904df5cd27edb37d</td>\n      <td>76c846d6cfbfe0809ab4eb027e8bc0138383c7cd</td>\n      <td>503dba3725b3fd5c0e769a20d324c1a1e20dbc4d</td>\n      <td>a709d1d48dcd59b4b56675e1dbc5c58a5a48d132</td>\n      <td>e6270dfb717fca5b1e6ef1e2e896a10e7141e505</td>\n      <td>9957b484f023ea3e4065e90c4a0caec01455e1d7</td>\n      <td>b109d49603525755fd112ec06e80a2687a7fa417</td>\n      <td>0edcec6308b9f8a8cd43bf7ca656289aa6663c2c</td>\n      <td>...</td>\n      <td>-86</td>\n      <td>5da958dd46f8266d0737457b_053526f9012ca71531312...</td>\n      <td>-406</td>\n      <td>5da958dd46f8266d0737457b</td>\n      <td>5</td>\n      <td>77.453041</td>\n      <td>210.456375</td>\n      <td>053526f9012ca715313120cd</td>\n      <td>0000000044451</td>\n      <td>44857</td>\n    </tr>\n    <tr>\n      <th>...</th>\n      <td>...</td>\n      <td>...</td>\n      <td>...</td>\n      <td>...</td>\n      <td>...</td>\n      <td>...</td>\n      <td>...</td>\n      <td>...</td>\n      <td>...</td>\n      <td>...</td>\n      <td>...</td>\n      <td>...</td>\n      <td>...</td>\n      <td>...</td>\n      <td>...</td>\n      <td>...</td>\n      <td>...</td>\n      <td>...</td>\n      <td>...</td>\n      <td>...</td>\n      <td>...</td>\n    </tr>\n    <tr>\n      <th>10128</th>\n      <td>46e733fa58deea74d962874847a529fb4897e655</td>\n      <td>6c381e7e7d8e984394ce02a3da912acc1b7d294e</td>\n      <td>f879db40b23c9ec1ac0f0d62418d53c3bf2e6cb5</td>\n      <td>4a6f4e041286c0e76a669ceee881942ee06ecc36</td>\n      <td>835e59c27eb07192538c8a9dd7bca6aa5065671b</td>\n      <td>51aaaf422c6bf5dcce84391b956a8aebfa41c46b</td>\n      <td>cd31afb29b2e8c60bcb752ddee7d525184d663a2</td>\n      <td>0f5daed11a61e0d6941a1a42ff428ca216d61003</td>\n      <td>320d29082914372e384fefd33584e102db06a6c3</td>\n      <td>7af4e320275401c386cfd3e8ee8554692b2120b2</td>\n      <td>...</td>\n      <td>-86</td>\n      <td>5a0546857ecc773753327266_ffcd9524c80c0fa5bb859...</td>\n      <td>-83</td>\n      <td>5a0546857ecc773753327266</td>\n      <td>-1</td>\n      <td>124.152206</td>\n      <td>183.721527</td>\n      <td>ffcd9524c80c0fa5bb859eaf</td>\n      <td>0000000035117</td>\n      <td>35200</td>\n    </tr>\n    <tr>\n      <th>10129</th>\n      <td>46e733fa58deea74d962874847a529fb4897e655</td>\n      <td>6c381e7e7d8e984394ce02a3da912acc1b7d294e</td>\n      <td>e5c220800a2d5ec83e355c3b1a2d7a141947e95f</td>\n      <td>f879db40b23c9ec1ac0f0d62418d53c3bf2e6cb5</td>\n      <td>5024a162dfac11512ba8cb59eccd836abe70cf42</td>\n      <td>cae39a38a556f42ece02b7e8e54f55440710b034</td>\n      <td>51aaaf422c6bf5dcce84391b956a8aebfa41c46b</td>\n      <td>835e59c27eb07192538c8a9dd7bca6aa5065671b</td>\n      <td>5a8c96dd8519e257c0c13af51cdf72e89bfc7339</td>\n      <td>8d8caa754528e2b2eee8bf2b6362bc950968c959</td>\n      <td>...</td>\n      <td>-87</td>\n      <td>5a0546857ecc773753327266_ffcd9524c80c0fa5bb859...</td>\n      <td>244</td>\n      <td>5a0546857ecc773753327266</td>\n      <td>-1</td>\n      <td>130.239868</td>\n      <td>181.272659</td>\n      <td>ffcd9524c80c0fa5bb859eaf</td>\n      <td>0000000041230</td>\n      <td>40986</td>\n    </tr>\n    <tr>\n      <th>10130</th>\n      <td>46e733fa58deea74d962874847a529fb4897e655</td>\n      <td>6c381e7e7d8e984394ce02a3da912acc1b7d294e</td>\n      <td>cae39a38a556f42ece02b7e8e54f55440710b034</td>\n      <td>03ea8980e3e01a4804fbb8208a948d0b76a203fb</td>\n      <td>dc8f08671c59b76f1d313c2e56bd1cacbe55dcac</td>\n      <td>3c491d07c451dec70b9eeb4209e83ac19c28e0b6</td>\n      <td>e5c220800a2d5ec83e355c3b1a2d7a141947e95f</td>\n      <td>5024a162dfac11512ba8cb59eccd836abe70cf42</td>\n      <td>735a61d004af3adaa1331ceb38436d2d078d0cd0</td>\n      <td>0e0654ac3d69c3ebbe3c8c65207e139a6c129a14</td>\n      <td>...</td>\n      <td>-999</td>\n      <td>5a0546857ecc773753327266_ffcd9524c80c0fa5bb859...</td>\n      <td>-708</td>\n      <td>5a0546857ecc773753327266</td>\n      <td>-1</td>\n      <td>129.803162</td>\n      <td>181.755844</td>\n      <td>ffcd9524c80c0fa5bb859eaf</td>\n      <td>0000000051634</td>\n      <td>52342</td>\n    </tr>\n    <tr>\n      <th>10131</th>\n      <td>6c381e7e7d8e984394ce02a3da912acc1b7d294e</td>\n      <td>e5c220800a2d5ec83e355c3b1a2d7a141947e95f</td>\n      <td>46e733fa58deea74d962874847a529fb4897e655</td>\n      <td>dc8f08671c59b76f1d313c2e56bd1cacbe55dcac</td>\n      <td>03ea8980e3e01a4804fbb8208a948d0b76a203fb</td>\n      <td>3c491d07c451dec70b9eeb4209e83ac19c28e0b6</td>\n      <td>4d5cc880afe864ae101c6ab56dc3a065d83a3bcd</td>\n      <td>95410888a49789e997c8956c44405129a489438a</td>\n      <td>ea10558abeea1b654962c437574dc29c11498ec7</td>\n      <td>cae39a38a556f42ece02b7e8e54f55440710b034</td>\n      <td>...</td>\n      <td>-999</td>\n      <td>5a0546857ecc773753327266_ffcd9524c80c0fa5bb859...</td>\n      <td>574</td>\n      <td>5a0546857ecc773753327266</td>\n      <td>-1</td>\n      <td>131.419724</td>\n      <td>180.432816</td>\n      <td>ffcd9524c80c0fa5bb859eaf</td>\n      <td>0000000060483</td>\n      <td>59909</td>\n    </tr>\n    <tr>\n      <th>10132</th>\n      <td>46e733fa58deea74d962874847a529fb4897e655</td>\n      <td>c2f60ab72a28ad3da155a5c7c591aae9d5e00061</td>\n      <td>8d8caa754528e2b2eee8bf2b6362bc950968c959</td>\n      <td>5a8c96dd8519e257c0c13af51cdf72e89bfc7339</td>\n      <td>95410888a49789e997c8956c44405129a489438a</td>\n      <td>f2e910cbcef80943c7283e39adca7b974055e82c</td>\n      <td>77382b959095b32b36f5d62f47807ebfc2e37017</td>\n      <td>6c381e7e7d8e984394ce02a3da912acc1b7d294e</td>\n      <td>1ccfad270acf0c810365000a5b7b1202b946a80c</td>\n      <td>d3d056da278ff2975a96a486e4c1f70128570110</td>\n      <td>...</td>\n      <td>-83</td>\n      <td>5a0546857ecc773753327266_ffcd9524c80c0fa5bb859...</td>\n      <td>-399</td>\n      <td>5a0546857ecc773753327266</td>\n      <td>-1</td>\n      <td>129.598892</td>\n      <td>173.433823</td>\n      <td>ffcd9524c80c0fa5bb859eaf</td>\n      <td>0000000067146</td>\n      <td>67545</td>\n    </tr>\n  </tbody>\n</table>\n<p>10133 rows × 209 columns</p>\n</div>"
     },
     "metadata": {},
     "execution_count": 27
    }
   ],
   "source": [
    "test_df = test_df.merge(sub, on=\"site_path_timestamp\")\n",
    "test_df[\"path\"] = test_df[\"site_path_timestamp\"].str.split(\"_\", expand=True)[1]\n",
    "test_df[\"timestamp\"] = test_df[\"site_path_timestamp\"].str.split(\"_\", expand=True)[2]\n",
    "test_df['wifi_timestamp'] = test_df['timestamp'].astype(int) - test_df['time_diff']\n",
    "test_df"
   ]
  },
  {
   "cell_type": "code",
   "execution_count": 28,
   "metadata": {},
   "outputs": [
    {
     "output_type": "stream",
     "name": "stdout",
     "text": [
      "10 10\n"
     ]
    },
    {
     "output_type": "execute_result",
     "data": {
      "text/plain": [
       "<matplotlib.legend.Legend at 0x7f8f73929d90>"
      ]
     },
     "metadata": {},
     "execution_count": 28
    },
    {
     "output_type": "display_data",
     "data": {
      "text/plain": "<Figure size 432x288 with 1 Axes>",
      "image/svg+xml": "<?xml version=\"1.0\" encoding=\"utf-8\" standalone=\"no\"?>\n<!DOCTYPE svg PUBLIC \"-//W3C//DTD SVG 1.1//EN\"\n  \"http://www.w3.org/Graphics/SVG/1.1/DTD/svg11.dtd\">\n<!-- Created with matplotlib (https://matplotlib.org/) -->\n<svg height=\"248.518125pt\" version=\"1.1\" viewBox=\"0 0 368.925 248.518125\" width=\"368.925pt\" xmlns=\"http://www.w3.org/2000/svg\" xmlns:xlink=\"http://www.w3.org/1999/xlink\">\n <metadata>\n  <rdf:RDF xmlns:cc=\"http://creativecommons.org/ns#\" xmlns:dc=\"http://purl.org/dc/elements/1.1/\" xmlns:rdf=\"http://www.w3.org/1999/02/22-rdf-syntax-ns#\">\n   <cc:Work>\n    <dc:type rdf:resource=\"http://purl.org/dc/dcmitype/StillImage\"/>\n    <dc:date>2021-04-05T20:33:20.877268</dc:date>\n    <dc:format>image/svg+xml</dc:format>\n    <dc:creator>\n     <cc:Agent>\n      <dc:title>Matplotlib v3.3.3, https://matplotlib.org/</dc:title>\n     </cc:Agent>\n    </dc:creator>\n   </cc:Work>\n  </rdf:RDF>\n </metadata>\n <defs>\n  <style type=\"text/css\">*{stroke-linecap:butt;stroke-linejoin:round;}</style>\n </defs>\n <g id=\"figure_1\">\n  <g id=\"patch_1\">\n   <path d=\"M -0 248.518125 \nL 368.925 248.518125 \nL 368.925 0 \nL -0 0 \nz\n\" style=\"fill:none;\"/>\n  </g>\n  <g id=\"axes_1\">\n   <g id=\"patch_2\">\n    <path d=\"M 26.925 224.64 \nL 361.725 224.64 \nL 361.725 7.2 \nL 26.925 7.2 \nz\n\" style=\"fill:#ffffff;\"/>\n   </g>\n   <g id=\"matplotlib.axis_1\">\n    <g id=\"xtick_1\">\n     <g id=\"line2d_1\">\n      <defs>\n       <path d=\"M 0 0 \nL 0 3.5 \n\" id=\"m859dc11ba2\" style=\"stroke:#000000;stroke-width:0.8;\"/>\n      </defs>\n      <g>\n       <use style=\"stroke:#000000;stroke-width:0.8;\" x=\"73.983908\" xlink:href=\"#m859dc11ba2\" y=\"224.64\"/>\n      </g>\n     </g>\n     <g id=\"text_1\">\n      <!-- 90 -->\n      <g transform=\"translate(67.621408 239.238438)scale(0.1 -0.1)\">\n       <defs>\n        <path d=\"M 10.984375 1.515625 \nL 10.984375 10.5 \nQ 14.703125 8.734375 18.5 7.8125 \nQ 22.3125 6.890625 25.984375 6.890625 \nQ 35.75 6.890625 40.890625 13.453125 \nQ 46.046875 20.015625 46.78125 33.40625 \nQ 43.953125 29.203125 39.59375 26.953125 \nQ 35.25 24.703125 29.984375 24.703125 \nQ 19.046875 24.703125 12.671875 31.3125 \nQ 6.296875 37.9375 6.296875 49.421875 \nQ 6.296875 60.640625 12.9375 67.421875 \nQ 19.578125 74.21875 30.609375 74.21875 \nQ 43.265625 74.21875 49.921875 64.515625 \nQ 56.59375 54.828125 56.59375 36.375 \nQ 56.59375 19.140625 48.40625 8.859375 \nQ 40.234375 -1.421875 26.421875 -1.421875 \nQ 22.703125 -1.421875 18.890625 -0.6875 \nQ 15.09375 0.046875 10.984375 1.515625 \nz\nM 30.609375 32.421875 \nQ 37.25 32.421875 41.125 36.953125 \nQ 45.015625 41.5 45.015625 49.421875 \nQ 45.015625 57.28125 41.125 61.84375 \nQ 37.25 66.40625 30.609375 66.40625 \nQ 23.96875 66.40625 20.09375 61.84375 \nQ 16.21875 57.28125 16.21875 49.421875 \nQ 16.21875 41.5 20.09375 36.953125 \nQ 23.96875 32.421875 30.609375 32.421875 \nz\n\" id=\"DejaVuSans-57\"/>\n        <path d=\"M 31.78125 66.40625 \nQ 24.171875 66.40625 20.328125 58.90625 \nQ 16.5 51.421875 16.5 36.375 \nQ 16.5 21.390625 20.328125 13.890625 \nQ 24.171875 6.390625 31.78125 6.390625 \nQ 39.453125 6.390625 43.28125 13.890625 \nQ 47.125 21.390625 47.125 36.375 \nQ 47.125 51.421875 43.28125 58.90625 \nQ 39.453125 66.40625 31.78125 66.40625 \nz\nM 31.78125 74.21875 \nQ 44.046875 74.21875 50.515625 64.515625 \nQ 56.984375 54.828125 56.984375 36.375 \nQ 56.984375 17.96875 50.515625 8.265625 \nQ 44.046875 -1.421875 31.78125 -1.421875 \nQ 19.53125 -1.421875 13.0625 8.265625 \nQ 6.59375 17.96875 6.59375 36.375 \nQ 6.59375 54.828125 13.0625 64.515625 \nQ 19.53125 74.21875 31.78125 74.21875 \nz\n\" id=\"DejaVuSans-48\"/>\n       </defs>\n       <use xlink:href=\"#DejaVuSans-57\"/>\n       <use x=\"63.623047\" xlink:href=\"#DejaVuSans-48\"/>\n      </g>\n     </g>\n    </g>\n    <g id=\"xtick_2\">\n     <g id=\"line2d_2\">\n      <g>\n       <use style=\"stroke:#000000;stroke-width:0.8;\" x=\"134.977532\" xlink:href=\"#m859dc11ba2\" y=\"224.64\"/>\n      </g>\n     </g>\n     <g id=\"text_2\">\n      <!-- 91 -->\n      <g transform=\"translate(128.615032 239.238438)scale(0.1 -0.1)\">\n       <defs>\n        <path d=\"M 12.40625 8.296875 \nL 28.515625 8.296875 \nL 28.515625 63.921875 \nL 10.984375 60.40625 \nL 10.984375 69.390625 \nL 28.421875 72.90625 \nL 38.28125 72.90625 \nL 38.28125 8.296875 \nL 54.390625 8.296875 \nL 54.390625 0 \nL 12.40625 0 \nz\n\" id=\"DejaVuSans-49\"/>\n       </defs>\n       <use xlink:href=\"#DejaVuSans-57\"/>\n       <use x=\"63.623047\" xlink:href=\"#DejaVuSans-49\"/>\n      </g>\n     </g>\n    </g>\n    <g id=\"xtick_3\">\n     <g id=\"line2d_3\">\n      <g>\n       <use style=\"stroke:#000000;stroke-width:0.8;\" x=\"195.971156\" xlink:href=\"#m859dc11ba2\" y=\"224.64\"/>\n      </g>\n     </g>\n     <g id=\"text_3\">\n      <!-- 92 -->\n      <g transform=\"translate(189.608656 239.238438)scale(0.1 -0.1)\">\n       <defs>\n        <path d=\"M 19.1875 8.296875 \nL 53.609375 8.296875 \nL 53.609375 0 \nL 7.328125 0 \nL 7.328125 8.296875 \nQ 12.9375 14.109375 22.625 23.890625 \nQ 32.328125 33.6875 34.8125 36.53125 \nQ 39.546875 41.84375 41.421875 45.53125 \nQ 43.3125 49.21875 43.3125 52.78125 \nQ 43.3125 58.59375 39.234375 62.25 \nQ 35.15625 65.921875 28.609375 65.921875 \nQ 23.96875 65.921875 18.8125 64.3125 \nQ 13.671875 62.703125 7.8125 59.421875 \nL 7.8125 69.390625 \nQ 13.765625 71.78125 18.9375 73 \nQ 24.125 74.21875 28.421875 74.21875 \nQ 39.75 74.21875 46.484375 68.546875 \nQ 53.21875 62.890625 53.21875 53.421875 \nQ 53.21875 48.921875 51.53125 44.890625 \nQ 49.859375 40.875 45.40625 35.40625 \nQ 44.1875 33.984375 37.640625 27.21875 \nQ 31.109375 20.453125 19.1875 8.296875 \nz\n\" id=\"DejaVuSans-50\"/>\n       </defs>\n       <use xlink:href=\"#DejaVuSans-57\"/>\n       <use x=\"63.623047\" xlink:href=\"#DejaVuSans-50\"/>\n      </g>\n     </g>\n    </g>\n    <g id=\"xtick_4\">\n     <g id=\"line2d_4\">\n      <g>\n       <use style=\"stroke:#000000;stroke-width:0.8;\" x=\"256.96478\" xlink:href=\"#m859dc11ba2\" y=\"224.64\"/>\n      </g>\n     </g>\n     <g id=\"text_4\">\n      <!-- 93 -->\n      <g transform=\"translate(250.60228 239.238438)scale(0.1 -0.1)\">\n       <defs>\n        <path d=\"M 40.578125 39.3125 \nQ 47.65625 37.796875 51.625 33 \nQ 55.609375 28.21875 55.609375 21.1875 \nQ 55.609375 10.40625 48.1875 4.484375 \nQ 40.765625 -1.421875 27.09375 -1.421875 \nQ 22.515625 -1.421875 17.65625 -0.515625 \nQ 12.796875 0.390625 7.625 2.203125 \nL 7.625 11.71875 \nQ 11.71875 9.328125 16.59375 8.109375 \nQ 21.484375 6.890625 26.8125 6.890625 \nQ 36.078125 6.890625 40.9375 10.546875 \nQ 45.796875 14.203125 45.796875 21.1875 \nQ 45.796875 27.640625 41.28125 31.265625 \nQ 36.765625 34.90625 28.71875 34.90625 \nL 20.21875 34.90625 \nL 20.21875 43.015625 \nL 29.109375 43.015625 \nQ 36.375 43.015625 40.234375 45.921875 \nQ 44.09375 48.828125 44.09375 54.296875 \nQ 44.09375 59.90625 40.109375 62.90625 \nQ 36.140625 65.921875 28.71875 65.921875 \nQ 24.65625 65.921875 20.015625 65.03125 \nQ 15.375 64.15625 9.8125 62.3125 \nL 9.8125 71.09375 \nQ 15.4375 72.65625 20.34375 73.4375 \nQ 25.25 74.21875 29.59375 74.21875 \nQ 40.828125 74.21875 47.359375 69.109375 \nQ 53.90625 64.015625 53.90625 55.328125 \nQ 53.90625 49.265625 50.4375 45.09375 \nQ 46.96875 40.921875 40.578125 39.3125 \nz\n\" id=\"DejaVuSans-51\"/>\n       </defs>\n       <use xlink:href=\"#DejaVuSans-57\"/>\n       <use x=\"63.623047\" xlink:href=\"#DejaVuSans-51\"/>\n      </g>\n     </g>\n    </g>\n    <g id=\"xtick_5\">\n     <g id=\"line2d_5\">\n      <g>\n       <use style=\"stroke:#000000;stroke-width:0.8;\" x=\"317.958403\" xlink:href=\"#m859dc11ba2\" y=\"224.64\"/>\n      </g>\n     </g>\n     <g id=\"text_5\">\n      <!-- 94 -->\n      <g transform=\"translate(311.595903 239.238438)scale(0.1 -0.1)\">\n       <defs>\n        <path d=\"M 37.796875 64.3125 \nL 12.890625 25.390625 \nL 37.796875 25.390625 \nz\nM 35.203125 72.90625 \nL 47.609375 72.90625 \nL 47.609375 25.390625 \nL 58.015625 25.390625 \nL 58.015625 17.1875 \nL 47.609375 17.1875 \nL 47.609375 0 \nL 37.796875 0 \nL 37.796875 17.1875 \nL 4.890625 17.1875 \nL 4.890625 26.703125 \nz\n\" id=\"DejaVuSans-52\"/>\n       </defs>\n       <use xlink:href=\"#DejaVuSans-57\"/>\n       <use x=\"63.623047\" xlink:href=\"#DejaVuSans-52\"/>\n      </g>\n     </g>\n    </g>\n   </g>\n   <g id=\"matplotlib.axis_2\">\n    <g id=\"ytick_1\">\n     <g id=\"line2d_6\">\n      <defs>\n       <path d=\"M 0 0 \nL -3.5 0 \n\" id=\"md94880b334\" style=\"stroke:#000000;stroke-width:0.8;\"/>\n      </defs>\n      <g>\n       <use style=\"stroke:#000000;stroke-width:0.8;\" x=\"26.925\" xlink:href=\"#md94880b334\" y=\"221.224793\"/>\n      </g>\n     </g>\n     <g id=\"text_6\">\n      <!-- 42 -->\n      <g transform=\"translate(7.2 225.024012)scale(0.1 -0.1)\">\n       <use xlink:href=\"#DejaVuSans-52\"/>\n       <use x=\"63.623047\" xlink:href=\"#DejaVuSans-50\"/>\n      </g>\n     </g>\n    </g>\n    <g id=\"ytick_2\">\n     <g id=\"line2d_7\">\n      <g>\n       <use style=\"stroke:#000000;stroke-width:0.8;\" x=\"26.925\" xlink:href=\"#md94880b334\" y=\"187.704782\"/>\n      </g>\n     </g>\n     <g id=\"text_7\">\n      <!-- 44 -->\n      <g transform=\"translate(7.2 191.504001)scale(0.1 -0.1)\">\n       <use xlink:href=\"#DejaVuSans-52\"/>\n       <use x=\"63.623047\" xlink:href=\"#DejaVuSans-52\"/>\n      </g>\n     </g>\n    </g>\n    <g id=\"ytick_3\">\n     <g id=\"line2d_8\">\n      <g>\n       <use style=\"stroke:#000000;stroke-width:0.8;\" x=\"26.925\" xlink:href=\"#md94880b334\" y=\"154.184771\"/>\n      </g>\n     </g>\n     <g id=\"text_8\">\n      <!-- 46 -->\n      <g transform=\"translate(7.2 157.98399)scale(0.1 -0.1)\">\n       <defs>\n        <path d=\"M 33.015625 40.375 \nQ 26.375 40.375 22.484375 35.828125 \nQ 18.609375 31.296875 18.609375 23.390625 \nQ 18.609375 15.53125 22.484375 10.953125 \nQ 26.375 6.390625 33.015625 6.390625 \nQ 39.65625 6.390625 43.53125 10.953125 \nQ 47.40625 15.53125 47.40625 23.390625 \nQ 47.40625 31.296875 43.53125 35.828125 \nQ 39.65625 40.375 33.015625 40.375 \nz\nM 52.59375 71.296875 \nL 52.59375 62.3125 \nQ 48.875 64.0625 45.09375 64.984375 \nQ 41.3125 65.921875 37.59375 65.921875 \nQ 27.828125 65.921875 22.671875 59.328125 \nQ 17.53125 52.734375 16.796875 39.40625 \nQ 19.671875 43.65625 24.015625 45.921875 \nQ 28.375 48.1875 33.59375 48.1875 \nQ 44.578125 48.1875 50.953125 41.515625 \nQ 57.328125 34.859375 57.328125 23.390625 \nQ 57.328125 12.15625 50.6875 5.359375 \nQ 44.046875 -1.421875 33.015625 -1.421875 \nQ 20.359375 -1.421875 13.671875 8.265625 \nQ 6.984375 17.96875 6.984375 36.375 \nQ 6.984375 53.65625 15.1875 63.9375 \nQ 23.390625 74.21875 37.203125 74.21875 \nQ 40.921875 74.21875 44.703125 73.484375 \nQ 48.484375 72.75 52.59375 71.296875 \nz\n\" id=\"DejaVuSans-54\"/>\n       </defs>\n       <use xlink:href=\"#DejaVuSans-52\"/>\n       <use x=\"63.623047\" xlink:href=\"#DejaVuSans-54\"/>\n      </g>\n     </g>\n    </g>\n    <g id=\"ytick_4\">\n     <g id=\"line2d_9\">\n      <g>\n       <use style=\"stroke:#000000;stroke-width:0.8;\" x=\"26.925\" xlink:href=\"#md94880b334\" y=\"120.66476\"/>\n      </g>\n     </g>\n     <g id=\"text_9\">\n      <!-- 48 -->\n      <g transform=\"translate(7.2 124.463978)scale(0.1 -0.1)\">\n       <defs>\n        <path d=\"M 31.78125 34.625 \nQ 24.75 34.625 20.71875 30.859375 \nQ 16.703125 27.09375 16.703125 20.515625 \nQ 16.703125 13.921875 20.71875 10.15625 \nQ 24.75 6.390625 31.78125 6.390625 \nQ 38.8125 6.390625 42.859375 10.171875 \nQ 46.921875 13.96875 46.921875 20.515625 \nQ 46.921875 27.09375 42.890625 30.859375 \nQ 38.875 34.625 31.78125 34.625 \nz\nM 21.921875 38.8125 \nQ 15.578125 40.375 12.03125 44.71875 \nQ 8.5 49.078125 8.5 55.328125 \nQ 8.5 64.0625 14.71875 69.140625 \nQ 20.953125 74.21875 31.78125 74.21875 \nQ 42.671875 74.21875 48.875 69.140625 \nQ 55.078125 64.0625 55.078125 55.328125 \nQ 55.078125 49.078125 51.53125 44.71875 \nQ 48 40.375 41.703125 38.8125 \nQ 48.828125 37.15625 52.796875 32.3125 \nQ 56.78125 27.484375 56.78125 20.515625 \nQ 56.78125 9.90625 50.3125 4.234375 \nQ 43.84375 -1.421875 31.78125 -1.421875 \nQ 19.734375 -1.421875 13.25 4.234375 \nQ 6.78125 9.90625 6.78125 20.515625 \nQ 6.78125 27.484375 10.78125 32.3125 \nQ 14.796875 37.15625 21.921875 38.8125 \nz\nM 18.3125 54.390625 \nQ 18.3125 48.734375 21.84375 45.5625 \nQ 25.390625 42.390625 31.78125 42.390625 \nQ 38.140625 42.390625 41.71875 45.5625 \nQ 45.3125 48.734375 45.3125 54.390625 \nQ 45.3125 60.0625 41.71875 63.234375 \nQ 38.140625 66.40625 31.78125 66.40625 \nQ 25.390625 66.40625 21.84375 63.234375 \nQ 18.3125 60.0625 18.3125 54.390625 \nz\n\" id=\"DejaVuSans-56\"/>\n       </defs>\n       <use xlink:href=\"#DejaVuSans-52\"/>\n       <use x=\"63.623047\" xlink:href=\"#DejaVuSans-56\"/>\n      </g>\n     </g>\n    </g>\n    <g id=\"ytick_5\">\n     <g id=\"line2d_10\">\n      <g>\n       <use style=\"stroke:#000000;stroke-width:0.8;\" x=\"26.925\" xlink:href=\"#md94880b334\" y=\"87.144749\"/>\n      </g>\n     </g>\n     <g id=\"text_10\">\n      <!-- 50 -->\n      <g transform=\"translate(7.2 90.943967)scale(0.1 -0.1)\">\n       <defs>\n        <path d=\"M 10.796875 72.90625 \nL 49.515625 72.90625 \nL 49.515625 64.59375 \nL 19.828125 64.59375 \nL 19.828125 46.734375 \nQ 21.96875 47.46875 24.109375 47.828125 \nQ 26.265625 48.1875 28.421875 48.1875 \nQ 40.625 48.1875 47.75 41.5 \nQ 54.890625 34.8125 54.890625 23.390625 \nQ 54.890625 11.625 47.5625 5.09375 \nQ 40.234375 -1.421875 26.90625 -1.421875 \nQ 22.3125 -1.421875 17.546875 -0.640625 \nQ 12.796875 0.140625 7.71875 1.703125 \nL 7.71875 11.625 \nQ 12.109375 9.234375 16.796875 8.0625 \nQ 21.484375 6.890625 26.703125 6.890625 \nQ 35.15625 6.890625 40.078125 11.328125 \nQ 45.015625 15.765625 45.015625 23.390625 \nQ 45.015625 31 40.078125 35.4375 \nQ 35.15625 39.890625 26.703125 39.890625 \nQ 22.75 39.890625 18.8125 39.015625 \nQ 14.890625 38.140625 10.796875 36.28125 \nz\n\" id=\"DejaVuSans-53\"/>\n       </defs>\n       <use xlink:href=\"#DejaVuSans-53\"/>\n       <use x=\"63.623047\" xlink:href=\"#DejaVuSans-48\"/>\n      </g>\n     </g>\n    </g>\n    <g id=\"ytick_6\">\n     <g id=\"line2d_11\">\n      <g>\n       <use style=\"stroke:#000000;stroke-width:0.8;\" x=\"26.925\" xlink:href=\"#md94880b334\" y=\"53.624737\"/>\n      </g>\n     </g>\n     <g id=\"text_11\">\n      <!-- 52 -->\n      <g transform=\"translate(7.2 57.423956)scale(0.1 -0.1)\">\n       <use xlink:href=\"#DejaVuSans-53\"/>\n       <use x=\"63.623047\" xlink:href=\"#DejaVuSans-50\"/>\n      </g>\n     </g>\n    </g>\n    <g id=\"ytick_7\">\n     <g id=\"line2d_12\">\n      <g>\n       <use style=\"stroke:#000000;stroke-width:0.8;\" x=\"26.925\" xlink:href=\"#md94880b334\" y=\"20.104726\"/>\n      </g>\n     </g>\n     <g id=\"text_12\">\n      <!-- 54 -->\n      <g transform=\"translate(7.2 23.903945)scale(0.1 -0.1)\">\n       <use xlink:href=\"#DejaVuSans-53\"/>\n       <use x=\"63.623047\" xlink:href=\"#DejaVuSans-52\"/>\n      </g>\n     </g>\n    </g>\n   </g>\n   <g id=\"line2d_13\">\n    <path clip-path=\"url(#p4b4dad4461)\" d=\"M 265.79469 111.066424 \nL 260.182171 102.493148 \nL 254.704136 116.245937 \nL 213.767788 70.701665 \nL 94.569815 74.027338 \nL 42.143182 17.083636 \nL 214.866001 49.317352 \nL 346.506818 153.014708 \nL 332.358486 214.756364 \nL 164.042945 114.608323 \n\" style=\"fill:none;stroke:#1f77b4;stroke-dasharray:5.55,2.4;stroke-dashoffset:0;stroke-width:1.5;\"/>\n    <defs>\n     <path d=\"M 0 3 \nC 0.795609 3 1.55874 2.683901 2.12132 2.12132 \nC 2.683901 1.55874 3 0.795609 3 0 \nC 3 -0.795609 2.683901 -1.55874 2.12132 -2.12132 \nC 1.55874 -2.683901 0.795609 -3 0 -3 \nC -0.795609 -3 -1.55874 -2.683901 -2.12132 -2.12132 \nC -2.683901 -1.55874 -3 -0.795609 -3 0 \nC -3 0.795609 -2.683901 1.55874 -2.12132 2.12132 \nC -1.55874 2.683901 -0.795609 3 0 3 \nz\n\" id=\"m54f4e7d512\" style=\"stroke:#1f77b4;\"/>\n    </defs>\n    <g clip-path=\"url(#p4b4dad4461)\">\n     <use style=\"fill:#1f77b4;stroke:#1f77b4;\" x=\"265.79469\" xlink:href=\"#m54f4e7d512\" y=\"111.066424\"/>\n     <use style=\"fill:#1f77b4;stroke:#1f77b4;\" x=\"260.182171\" xlink:href=\"#m54f4e7d512\" y=\"102.493148\"/>\n     <use style=\"fill:#1f77b4;stroke:#1f77b4;\" x=\"254.704136\" xlink:href=\"#m54f4e7d512\" y=\"116.245937\"/>\n     <use style=\"fill:#1f77b4;stroke:#1f77b4;\" x=\"213.767788\" xlink:href=\"#m54f4e7d512\" y=\"70.701665\"/>\n     <use style=\"fill:#1f77b4;stroke:#1f77b4;\" x=\"94.569815\" xlink:href=\"#m54f4e7d512\" y=\"74.027338\"/>\n     <use style=\"fill:#1f77b4;stroke:#1f77b4;\" x=\"42.143182\" xlink:href=\"#m54f4e7d512\" y=\"17.083636\"/>\n     <use style=\"fill:#1f77b4;stroke:#1f77b4;\" x=\"214.866001\" xlink:href=\"#m54f4e7d512\" y=\"49.317352\"/>\n     <use style=\"fill:#1f77b4;stroke:#1f77b4;\" x=\"346.506818\" xlink:href=\"#m54f4e7d512\" y=\"153.014708\"/>\n     <use style=\"fill:#1f77b4;stroke:#1f77b4;\" x=\"332.358486\" xlink:href=\"#m54f4e7d512\" y=\"214.756364\"/>\n     <use style=\"fill:#1f77b4;stroke:#1f77b4;\" x=\"164.042945\" xlink:href=\"#m54f4e7d512\" y=\"114.608323\"/>\n    </g>\n   </g>\n   <g id=\"line2d_14\">\n    <path clip-path=\"url(#p4b4dad4461)\" d=\"M 265.79469 111.066424 \nL 261.045635 103.812113 \nL 251.555187 112.74253 \nL 220.065688 77.708476 \nL 90.825055 69.959931 \nL 49.994219 18.548805 \nL 222.179379 55.078317 \nL 346.506818 153.014711 \nL 324.70778 210.204183 \nL 164.042945 114.608323 \n\" style=\"fill:none;stroke:#ff7f0e;stroke-dasharray:5.55,2.4;stroke-dashoffset:0;stroke-width:1.5;\"/>\n    <defs>\n     <path d=\"M 0 3 \nC 0.795609 3 1.55874 2.683901 2.12132 2.12132 \nC 2.683901 1.55874 3 0.795609 3 0 \nC 3 -0.795609 2.683901 -1.55874 2.12132 -2.12132 \nC 1.55874 -2.683901 0.795609 -3 0 -3 \nC -0.795609 -3 -1.55874 -2.683901 -2.12132 -2.12132 \nC -2.683901 -1.55874 -3 -0.795609 -3 0 \nC -3 0.795609 -2.683901 1.55874 -2.12132 2.12132 \nC -1.55874 2.683901 -0.795609 3 0 3 \nz\n\" id=\"m241e23496b\" style=\"stroke:#ff7f0e;\"/>\n    </defs>\n    <g clip-path=\"url(#p4b4dad4461)\">\n     <use style=\"fill:#ff7f0e;stroke:#ff7f0e;\" x=\"265.79469\" xlink:href=\"#m241e23496b\" y=\"111.066424\"/>\n     <use style=\"fill:#ff7f0e;stroke:#ff7f0e;\" x=\"261.045635\" xlink:href=\"#m241e23496b\" y=\"103.812113\"/>\n     <use style=\"fill:#ff7f0e;stroke:#ff7f0e;\" x=\"251.555187\" xlink:href=\"#m241e23496b\" y=\"112.74253\"/>\n     <use style=\"fill:#ff7f0e;stroke:#ff7f0e;\" x=\"220.065688\" xlink:href=\"#m241e23496b\" y=\"77.708476\"/>\n     <use style=\"fill:#ff7f0e;stroke:#ff7f0e;\" x=\"90.825055\" xlink:href=\"#m241e23496b\" y=\"69.959931\"/>\n     <use style=\"fill:#ff7f0e;stroke:#ff7f0e;\" x=\"49.994219\" xlink:href=\"#m241e23496b\" y=\"18.548805\"/>\n     <use style=\"fill:#ff7f0e;stroke:#ff7f0e;\" x=\"222.179379\" xlink:href=\"#m241e23496b\" y=\"55.078317\"/>\n     <use style=\"fill:#ff7f0e;stroke:#ff7f0e;\" x=\"346.506818\" xlink:href=\"#m241e23496b\" y=\"153.014711\"/>\n     <use style=\"fill:#ff7f0e;stroke:#ff7f0e;\" x=\"324.70778\" xlink:href=\"#m241e23496b\" y=\"210.204183\"/>\n     <use style=\"fill:#ff7f0e;stroke:#ff7f0e;\" x=\"164.042945\" xlink:href=\"#m241e23496b\" y=\"114.608323\"/>\n    </g>\n   </g>\n   <g id=\"patch_3\">\n    <path d=\"M 26.925 224.64 \nL 26.925 7.2 \n\" style=\"fill:none;stroke:#000000;stroke-linecap:square;stroke-linejoin:miter;stroke-width:0.8;\"/>\n   </g>\n   <g id=\"patch_4\">\n    <path d=\"M 361.725 224.64 \nL 361.725 7.2 \n\" style=\"fill:none;stroke:#000000;stroke-linecap:square;stroke-linejoin:miter;stroke-width:0.8;\"/>\n   </g>\n   <g id=\"patch_5\">\n    <path d=\"M 26.925 224.64 \nL 361.725 224.64 \n\" style=\"fill:none;stroke:#000000;stroke-linecap:square;stroke-linejoin:miter;stroke-width:0.8;\"/>\n   </g>\n   <g id=\"patch_6\">\n    <path d=\"M 26.925 7.2 \nL 361.725 7.2 \n\" style=\"fill:none;stroke:#000000;stroke-linecap:square;stroke-linejoin:miter;stroke-width:0.8;\"/>\n   </g>\n   <g id=\"legend_1\">\n    <g id=\"patch_7\">\n     <path d=\"M 276.996875 44.55625 \nL 354.725 44.55625 \nQ 356.725 44.55625 356.725 42.55625 \nL 356.725 14.2 \nQ 356.725 12.2 354.725 12.2 \nL 276.996875 12.2 \nQ 274.996875 12.2 274.996875 14.2 \nL 274.996875 42.55625 \nQ 274.996875 44.55625 276.996875 44.55625 \nz\n\" style=\"fill:#ffffff;opacity:0.8;stroke:#cccccc;stroke-linejoin:miter;\"/>\n    </g>\n    <g id=\"line2d_15\">\n     <path d=\"M 278.996875 20.298438 \nL 298.996875 20.298438 \n\" style=\"fill:none;stroke:#1f77b4;stroke-dasharray:5.55,2.4;stroke-dashoffset:0;stroke-width:1.5;\"/>\n    </g>\n    <g id=\"line2d_16\">\n     <g>\n      <use style=\"fill:#1f77b4;stroke:#1f77b4;\" x=\"288.996875\" xlink:href=\"#m54f4e7d512\" y=\"20.298438\"/>\n     </g>\n    </g>\n    <g id=\"text_13\">\n     <!-- wifi -->\n     <g transform=\"translate(306.996875 23.798438)scale(0.1 -0.1)\">\n      <defs>\n       <path d=\"M 4.203125 54.6875 \nL 13.1875 54.6875 \nL 24.421875 12.015625 \nL 35.59375 54.6875 \nL 46.1875 54.6875 \nL 57.421875 12.015625 \nL 68.609375 54.6875 \nL 77.59375 54.6875 \nL 63.28125 0 \nL 52.6875 0 \nL 40.921875 44.828125 \nL 29.109375 0 \nL 18.5 0 \nz\n\" id=\"DejaVuSans-119\"/>\n       <path d=\"M 9.421875 54.6875 \nL 18.40625 54.6875 \nL 18.40625 0 \nL 9.421875 0 \nz\nM 9.421875 75.984375 \nL 18.40625 75.984375 \nL 18.40625 64.59375 \nL 9.421875 64.59375 \nz\n\" id=\"DejaVuSans-105\"/>\n       <path d=\"M 37.109375 75.984375 \nL 37.109375 68.5 \nL 28.515625 68.5 \nQ 23.6875 68.5 21.796875 66.546875 \nQ 19.921875 64.59375 19.921875 59.515625 \nL 19.921875 54.6875 \nL 34.71875 54.6875 \nL 34.71875 47.703125 \nL 19.921875 47.703125 \nL 19.921875 0 \nL 10.890625 0 \nL 10.890625 47.703125 \nL 2.296875 47.703125 \nL 2.296875 54.6875 \nL 10.890625 54.6875 \nL 10.890625 58.5 \nQ 10.890625 67.625 15.140625 71.796875 \nQ 19.390625 75.984375 28.609375 75.984375 \nz\n\" id=\"DejaVuSans-102\"/>\n      </defs>\n      <use xlink:href=\"#DejaVuSans-119\"/>\n      <use x=\"81.787109\" xlink:href=\"#DejaVuSans-105\"/>\n      <use x=\"109.570312\" xlink:href=\"#DejaVuSans-102\"/>\n      <use x=\"144.775391\" xlink:href=\"#DejaVuSans-105\"/>\n     </g>\n    </g>\n    <g id=\"line2d_17\">\n     <path d=\"M 278.996875 34.976562 \nL 298.996875 34.976562 \n\" style=\"fill:none;stroke:#ff7f0e;stroke-dasharray:5.55,2.4;stroke-dashoffset:0;stroke-width:1.5;\"/>\n    </g>\n    <g id=\"line2d_18\">\n     <g>\n      <use style=\"fill:#ff7f0e;stroke:#ff7f0e;\" x=\"288.996875\" xlink:href=\"#m241e23496b\" y=\"34.976562\"/>\n     </g>\n    </g>\n    <g id=\"text_14\">\n     <!-- waypoint -->\n     <g transform=\"translate(306.996875 38.476562)scale(0.1 -0.1)\">\n      <defs>\n       <path d=\"M 34.28125 27.484375 \nQ 23.390625 27.484375 19.1875 25 \nQ 14.984375 22.515625 14.984375 16.5 \nQ 14.984375 11.71875 18.140625 8.90625 \nQ 21.296875 6.109375 26.703125 6.109375 \nQ 34.1875 6.109375 38.703125 11.40625 \nQ 43.21875 16.703125 43.21875 25.484375 \nL 43.21875 27.484375 \nz\nM 52.203125 31.203125 \nL 52.203125 0 \nL 43.21875 0 \nL 43.21875 8.296875 \nQ 40.140625 3.328125 35.546875 0.953125 \nQ 30.953125 -1.421875 24.3125 -1.421875 \nQ 15.921875 -1.421875 10.953125 3.296875 \nQ 6 8.015625 6 15.921875 \nQ 6 25.140625 12.171875 29.828125 \nQ 18.359375 34.515625 30.609375 34.515625 \nL 43.21875 34.515625 \nL 43.21875 35.40625 \nQ 43.21875 41.609375 39.140625 45 \nQ 35.0625 48.390625 27.6875 48.390625 \nQ 23 48.390625 18.546875 47.265625 \nQ 14.109375 46.140625 10.015625 43.890625 \nL 10.015625 52.203125 \nQ 14.9375 54.109375 19.578125 55.046875 \nQ 24.21875 56 28.609375 56 \nQ 40.484375 56 46.34375 49.84375 \nQ 52.203125 43.703125 52.203125 31.203125 \nz\n\" id=\"DejaVuSans-97\"/>\n       <path d=\"M 32.171875 -5.078125 \nQ 28.375 -14.84375 24.75 -17.8125 \nQ 21.140625 -20.796875 15.09375 -20.796875 \nL 7.90625 -20.796875 \nL 7.90625 -13.28125 \nL 13.1875 -13.28125 \nQ 16.890625 -13.28125 18.9375 -11.515625 \nQ 21 -9.765625 23.484375 -3.21875 \nL 25.09375 0.875 \nL 2.984375 54.6875 \nL 12.5 54.6875 \nL 29.59375 11.921875 \nL 46.6875 54.6875 \nL 56.203125 54.6875 \nz\n\" id=\"DejaVuSans-121\"/>\n       <path d=\"M 18.109375 8.203125 \nL 18.109375 -20.796875 \nL 9.078125 -20.796875 \nL 9.078125 54.6875 \nL 18.109375 54.6875 \nL 18.109375 46.390625 \nQ 20.953125 51.265625 25.265625 53.625 \nQ 29.59375 56 35.59375 56 \nQ 45.5625 56 51.78125 48.09375 \nQ 58.015625 40.1875 58.015625 27.296875 \nQ 58.015625 14.40625 51.78125 6.484375 \nQ 45.5625 -1.421875 35.59375 -1.421875 \nQ 29.59375 -1.421875 25.265625 0.953125 \nQ 20.953125 3.328125 18.109375 8.203125 \nz\nM 48.6875 27.296875 \nQ 48.6875 37.203125 44.609375 42.84375 \nQ 40.53125 48.484375 33.40625 48.484375 \nQ 26.265625 48.484375 22.1875 42.84375 \nQ 18.109375 37.203125 18.109375 27.296875 \nQ 18.109375 17.390625 22.1875 11.75 \nQ 26.265625 6.109375 33.40625 6.109375 \nQ 40.53125 6.109375 44.609375 11.75 \nQ 48.6875 17.390625 48.6875 27.296875 \nz\n\" id=\"DejaVuSans-112\"/>\n       <path d=\"M 30.609375 48.390625 \nQ 23.390625 48.390625 19.1875 42.75 \nQ 14.984375 37.109375 14.984375 27.296875 \nQ 14.984375 17.484375 19.15625 11.84375 \nQ 23.34375 6.203125 30.609375 6.203125 \nQ 37.796875 6.203125 41.984375 11.859375 \nQ 46.1875 17.53125 46.1875 27.296875 \nQ 46.1875 37.015625 41.984375 42.703125 \nQ 37.796875 48.390625 30.609375 48.390625 \nz\nM 30.609375 56 \nQ 42.328125 56 49.015625 48.375 \nQ 55.71875 40.765625 55.71875 27.296875 \nQ 55.71875 13.875 49.015625 6.21875 \nQ 42.328125 -1.421875 30.609375 -1.421875 \nQ 18.84375 -1.421875 12.171875 6.21875 \nQ 5.515625 13.875 5.515625 27.296875 \nQ 5.515625 40.765625 12.171875 48.375 \nQ 18.84375 56 30.609375 56 \nz\n\" id=\"DejaVuSans-111\"/>\n       <path d=\"M 54.890625 33.015625 \nL 54.890625 0 \nL 45.90625 0 \nL 45.90625 32.71875 \nQ 45.90625 40.484375 42.875 44.328125 \nQ 39.84375 48.1875 33.796875 48.1875 \nQ 26.515625 48.1875 22.3125 43.546875 \nQ 18.109375 38.921875 18.109375 30.90625 \nL 18.109375 0 \nL 9.078125 0 \nL 9.078125 54.6875 \nL 18.109375 54.6875 \nL 18.109375 46.1875 \nQ 21.34375 51.125 25.703125 53.5625 \nQ 30.078125 56 35.796875 56 \nQ 45.21875 56 50.046875 50.171875 \nQ 54.890625 44.34375 54.890625 33.015625 \nz\n\" id=\"DejaVuSans-110\"/>\n       <path d=\"M 18.3125 70.21875 \nL 18.3125 54.6875 \nL 36.8125 54.6875 \nL 36.8125 47.703125 \nL 18.3125 47.703125 \nL 18.3125 18.015625 \nQ 18.3125 11.328125 20.140625 9.421875 \nQ 21.96875 7.515625 27.59375 7.515625 \nL 36.8125 7.515625 \nL 36.8125 0 \nL 27.59375 0 \nQ 17.1875 0 13.234375 3.875 \nQ 9.28125 7.765625 9.28125 18.015625 \nL 9.28125 47.703125 \nL 2.6875 47.703125 \nL 2.6875 54.6875 \nL 9.28125 54.6875 \nL 9.28125 70.21875 \nz\n\" id=\"DejaVuSans-116\"/>\n      </defs>\n      <use xlink:href=\"#DejaVuSans-119\"/>\n      <use x=\"81.787109\" xlink:href=\"#DejaVuSans-97\"/>\n      <use x=\"143.066406\" xlink:href=\"#DejaVuSans-121\"/>\n      <use x=\"202.246094\" xlink:href=\"#DejaVuSans-112\"/>\n      <use x=\"265.722656\" xlink:href=\"#DejaVuSans-111\"/>\n      <use x=\"326.904297\" xlink:href=\"#DejaVuSans-105\"/>\n      <use x=\"354.6875\" xlink:href=\"#DejaVuSans-110\"/>\n      <use x=\"418.066406\" xlink:href=\"#DejaVuSans-116\"/>\n     </g>\n    </g>\n   </g>\n  </g>\n </g>\n <defs>\n  <clipPath id=\"p4b4dad4461\">\n   <rect height=\"217.44\" width=\"334.8\" x=\"26.925\" y=\"7.2\"/>\n  </clipPath>\n </defs>\n</svg>\n",
      "image/png": "[encoded data removed]"
     },
     "metadata": {
      "needs_background": "light"
     }
    }
   ],
   "source": [
    "# 線形補完\n",
    "path = test_df['path'].unique()[23]  #15\n",
    "df = test_df[test_df['path']==path]\n",
    "\n",
    "waypoint = wifi_waypoint_by_linear_interpolation(\n",
    "    observed_timestamp=df['wifi_timestamp'].astype(int).values, \n",
    "    observed_x=df['x'].values,\n",
    "    observed_y=df['y'].values, \n",
    "    target_timestamp=df['timestamp'].astype(int).values\n",
    "    )\n",
    "print(len(df), len(waypoint))\n",
    "\n",
    "import matplotlib.pyplot as plt\n",
    "# print(df[\"timestamp\"].astype(int) - df[\"timestamp\"].astype(int).values[0])\n",
    "plt.plot(df[\"x\"].values, df[\"y\"].values, ls='--', marker=\"o\", label='wifi')\n",
    "plt.plot(waypoint[:,0], waypoint[:,1], ls='--', marker=\"o\", label='waypoint')\n",
    "plt.legend()"
   ]
  },
  {
   "cell_type": "code",
   "execution_count": 29,
   "metadata": {},
   "outputs": [
    {
     "output_type": "stream",
     "name": "stderr",
     "text": [
      "/usr/local/lib/python3.8/dist-packages/scipy/interpolate/interpolate.py:623: RuntimeWarning: invalid value encountered in true_divide\n",
      "  slope = (y_hi - y_lo) / (x_hi - x_lo)[:, None]\n",
      "idx 0\n",
      "y [127.450096 127.450096 126.09652  117.46992  115.30484  113.281876\n",
      " 111.6199   111.27591  110.7176   108.981125 110.7603   109.37112\n",
      " 107.70754  109.64925  108.82942  108.77743  110.30087  113.01394\n",
      " 111.86033  116.582695 119.7354   117.80764  113.6262   112.331825\n",
      " 112.49442  108.32864  105.93441  108.39428 ]\n",
      "idx 0\n",
      "y [127.450096 127.450096 126.09652  117.46992  115.30484  113.281876\n",
      " 111.6199   111.27591  110.7176   108.981125 110.7603   109.37112\n",
      " 107.70754  109.64925  108.82942  108.77743  110.30087  113.01394\n",
      " 111.86033  116.582695 119.7354   117.80764  113.6262   112.331825\n",
      " 112.49442  108.32864  105.93441  108.39428 ]\n",
      "idx 0\n",
      "y [17.618292 17.618292 16.249426 16.137669 17.119404 15.576603 16.201004\n",
      " 17.626188 16.916813 16.577179 15.737934 15.812259 15.992917 22.849047\n",
      " 26.006128 31.740509 30.897036 44.12445  50.17008 ]\n",
      "idx 0\n",
      "y [53.13862  53.13862  51.91822  54.586147 53.838062 51.713795 53.293182\n",
      " 51.74106  28.26637  28.855892 19.648838 25.294048 23.882347 21.90379\n",
      " 29.690828 36.16921 ]\n",
      "idx 0\n",
      "y [ 87.66223   87.66223   90.31064   92.03514   95.69251   96.5977\n",
      "  98.44672  100.42182  105.701996 111.529015 112.43832  113.78759\n",
      " 118.65144  122.86975  127.532036 122.96586  126.91297  127.154366\n",
      " 127.4675  ]\n",
      "idx 0\n",
      "y [104.53304  104.53304  108.527534 109.3303   117.051895 118.749245\n",
      " 121.80002  117.45794  117.75569  114.24497  110.453224 107.26861\n",
      " 112.651344  95.872444  93.99545   96.33189   93.58828   93.02349\n",
      "  92.542915  84.37085 ]\n",
      "idx 0\n",
      "y [101.994736 101.994736  95.92011   92.42666   87.888794  89.3736\n",
      "  91.89886   90.86653   91.13668   92.29362   94.35653   98.19596\n",
      " 102.874466 100.00495   93.79544   91.39381 ]\n",
      "idx 0\n",
      "y [121.27463 121.27463 125.18274 124.58879 135.153   135.76997 137.45898\n",
      " 139.08089 144.06155 146.14557 154.2861  153.46965 158.1026  161.01817\n",
      " 163.80002 165.8208  166.62813 172.02863]\n",
      "idx 0\n",
      "y [111.27108  111.27108  112.97594  114.65863  119.25871  119.6236\n",
      " 115.3295   111.42338  111.20061  110.695755 108.83151  106.54711\n",
      " 106.41387  107.28863  105.66269  109.133965 109.90844 ]\n",
      "idx 0\n",
      "y [176.65845 176.65845 172.26915 172.71709 174.90855 173.82079 175.7286\n",
      " 175.70459 171.3979  171.60593 175.98747 172.93077 174.33028 176.50291\n",
      " 188.3898  194.4254  200.56128]\n",
      "idx 0\n",
      "y [106.81197  106.81197  106.17927  109.36152  107.38941  106.36226\n",
      " 102.16002   97.06418   85.662994  89.62181   92.8765    93.0727\n",
      "  95.106964]\n",
      "idx 0\n",
      "y [112.38602  112.38602  103.76275  106.90911  111.48903  111.63313\n",
      " 107.536316 103.29892  106.7761   103.136696 100.62159   92.79778\n",
      "  93.74285   91.50528   94.19566   92.39148   87.51847 ]\n",
      "idx 0\n",
      "y [112.38602  112.38602  103.76275  106.90911  111.48903  111.63313\n",
      " 107.536316 103.29892  106.7761   103.136696 100.62159   92.79778\n",
      "  93.74285   91.50528   94.19566   92.39148   87.51847 ]\n",
      "idx 0\n",
      "y [54.82904  54.82904  55.12225  53.4051   57.082096 63.324806 68.123764\n",
      " 67.451416 69.1868   70.734024 72.530396 72.14992  72.96994  74.9375\n",
      " 75.534775]\n",
      "idx 0\n",
      "y [ 85.61081   85.61081   82.171074  80.15016   81.47208   84.73587\n",
      "  90.756996  98.7896   107.39519  108.84567  107.95989  105.67141\n",
      " 105.93245   98.547195  90.451645  86.80514   88.177444]\n",
      "idx 0\n",
      "y [192.21529 192.21529 193.45277 192.19286 188.2733  192.36278 191.99011\n",
      " 192.17062 191.4043  194.45868 188.915   179.61118 175.93779 168.60997\n",
      " 165.14525 164.39412 163.64452 162.64954 158.66367 155.42592]\n",
      "idx 0\n",
      "y [106.519295 106.519295 101.33506   98.423294  96.50919   96.50919\n",
      "  91.40244   88.63248   85.60265   84.454185  84.39823   84.352905]\n",
      "idx 0\n",
      "y [174.55307 174.55307 173.25679 170.93689 168.03322 165.11943 165.39458\n",
      " 163.31839 163.16118 161.9278  159.54272 156.92961]\n",
      "idx 0\n",
      "y [79.18088  79.18088  75.315796 75.01086  77.55221  78.87039  78.87039\n",
      " 85.603516 85.603516 85.59651  90.81573  93.314    93.40758  95.93325\n",
      " 97.63409 ]\n",
      "idx 0\n",
      "y [182.99495 182.99495 184.33194 177.29477 170.05527 171.43556 172.4931\n",
      " 175.39949 176.81892 178.90947 181.65607 185.09755]\n",
      "idx 0\n",
      "y [174.18257 174.18257 175.88094 175.92368 172.75809 175.38663 176.81879\n",
      " 174.969   172.98434 177.16058 177.70404 171.22043 167.88762 163.0806\n",
      " 165.65704 155.16454 148.03981 141.02872 142.53499 126.12673]\n",
      "idx 0\n",
      "y [174.18257 174.18257 175.88094 175.92368 172.75809 175.38663 176.81879\n",
      " 174.969   172.98434 177.16058 177.70404 171.22043 167.88762 163.0806\n",
      " 165.65704 155.16454 148.03981 141.02872 142.53499 126.12673]\n",
      "idx 0\n",
      "y [32.700764 32.700764 33.621174 34.423397 35.6858   33.62589  32.538544\n",
      " 31.236332 33.66038  33.270927 33.269955 33.373882 32.82091  33.726585\n",
      " 35.117397 31.083412 31.699772 31.206196 30.939432 32.573948 31.495546\n",
      " 32.95487  34.527092 34.934658 32.35515  33.65563  30.369884 29.608358]\n",
      "idx 0\n",
      "y [145.09055  145.09055  147.02454  148.12384  145.82947  140.03331\n",
      " 147.87917  142.45412  136.31987  136.19865  141.18417  135.84735\n",
      " 129.40645  126.7452   123.258316 121.19187  118.5335   110.241196\n",
      " 107.07741  106.81907   98.43876   98.99654  100.26744   96.65883\n",
      "  86.26218   85.98093 ]\n",
      "idx 0\n",
      "y [188.5719   188.5719   189.44038  186.1956   182.04341  176.88216\n",
      " 177.30046  172.10533  165.48912  156.55466  155.80302  147.99174\n",
      " 148.58794  148.58794  150.81479  150.79478  146.81342  141.20935\n",
      " 130.15147  122.53972  118.012794 117.79836  117.15169  114.9062  ]\n",
      "idx 0\n",
      "y [36.542763 36.542763 42.173283 41.404198 40.988964 40.368553 40.458336\n",
      " 39.289635 37.46942  36.94474  31.683813 29.0978   31.644573 29.183205\n",
      " 28.253256 27.510479 25.929083]\n",
      "idx 0\n",
      "y [ 85.85381   85.85381   86.88801   88.681465  90.17572   89.30557\n",
      "  89.27633   90.17727   88.36501   97.197586 112.16918  119.86709\n",
      " 119.43826  122.66108  125.449776 131.92528  134.32921  136.9987\n",
      " 134.37985  141.88321  142.90515  149.8309   150.73122  153.3083\n",
      " 154.49942  154.88765  160.40439  163.8323   174.19687  174.46857\n",
      " 175.15028  176.84743  176.13922  176.18668 ]\n",
      "idx 0\n",
      "y [27.410252 27.410252 27.864044 27.987219 28.930592 27.813925 28.691637\n",
      " 30.104673 27.356606 27.251163 26.884888 29.615953 27.238192 26.523432\n",
      " 23.989574 24.777391 22.448225 19.569067 20.08334  17.55199  14.957468\n",
      " 15.441906 18.268959 24.559296]\n",
      "idx 0\n",
      "y [ 85.21312   85.21312   88.61326   93.410324  93.60469   95.3949\n",
      " 108.57231  107.02814  108.514565 109.21599  108.32019  109.584465\n",
      " 112.39182  122.975    122.975    128.23776  128.84625  131.47533\n",
      " 134.41965  133.48615  139.14627  137.86678  138.0363   140.57227\n",
      " 148.85362  148.85362  139.7083   140.71452  139.52293  144.27147\n",
      " 128.17961  126.43703 ]\n",
      "idx 0\n",
      "y [67.205    67.205    68.28792  75.54451  75.34918  71.88935  67.19355\n",
      " 63.49242  64.72048  61.428753 63.805065 64.48045  64.59292  66.3978  ]\n",
      "idx 0\n",
      "y [13.94711   13.94711   16.600014  14.131094  13.500551  14.463539\n",
      " 15.627731  13.519224  14.564396  12.521851  10.357575  12.370811\n",
      " 12.5308485 13.421429  13.389776  12.643089 ]\n",
      "idx 0\n",
      "y [113.86251  113.86251  119.08557  121.87697  122.075356 124.495316\n",
      " 126.1321   125.86236  125.91217  125.56332  121.850464 122.95296\n",
      " 124.48196  124.87807  123.62585  120.82725  115.15098  117.489174]\n",
      "idx 0\n",
      "y [113.86251  113.86251  119.08557  121.87697  122.075356 124.495316\n",
      " 126.1321   125.86236  125.91217  125.56332  121.850464 122.95296\n",
      " 124.48196  124.87807  123.62585  120.82725  115.15098  117.489174]\n",
      "idx 0\n",
      "y [167.96689 167.96689 175.7999  183.44998 187.19963 192.85051 197.55937\n",
      " 199.80286 201.52797 203.85327 203.46115 204.67638 206.0213  206.50932\n",
      " 204.03598 193.3892  187.79619 183.3567  180.02602 177.6942  177.00894\n",
      " 176.32245 177.66576 176.51758 176.2344  176.59027 173.07155 172.02486\n",
      " 168.54836]\n",
      "idx 0\n",
      "y [278.10504 278.10504 275.47018 275.70956 262.77515 260.74896 260.7967\n",
      " 262.99472 259.7407  265.521   256.38715 254.30351 252.5599  250.59026\n",
      " 254.44568 259.56537 254.21274 256.29547 257.0764 ]\n",
      "idx 0\n",
      "y [278.10504 278.10504 275.47018 275.70956 262.77515 260.74896 260.7967\n",
      " 262.99472 259.7407  265.521   256.38715 254.30351 252.5599  250.59026\n",
      " 254.44568 259.56537 254.21274 256.29547 257.0764 ]\n",
      "idx 0\n",
      "y [ 91.96124   91.96124   96.69378   95.887375  95.655365 109.00299\n",
      " 106.71823  107.77335  100.03174   94.70867   97.69812   93.13234\n",
      "  91.77775   87.03556   88.18592 ]\n",
      "idx 0\n",
      "y [82.783356 82.783356 83.02726  76.84875  76.400055 78.61357  77.048355\n",
      " 75.14597  75.94803  74.01601  74.304634 79.62832  75.296005 74.49457\n",
      " 70.81679  66.23818  64.706215 64.582695 65.91361  70.968666]\n",
      "idx 0\n",
      "y [113.15033  113.15033  115.40941  113.34237  105.03786  105.30171\n",
      "  99.58709  103.9201   113.825325 114.497925 115.05102  117.395996\n",
      " 118.800964 118.00716  120.446945 120.73285  117.77149  117.69294 ]\n",
      "idx 0\n",
      "y [105.516396 105.516396 105.829254 104.7705   102.22468  102.37521\n",
      " 105.442635 107.82205  108.60158  110.50623  115.656525 116.27816\n",
      " 117.92581  118.54614  116.158195]\n",
      "idx 0\n",
      "y [26.31236  26.31236  30.43676  35.398487 39.916225 41.23134  44.72337\n",
      " 45.494724 45.743397 37.44722  40.425365 40.97082  41.592766 41.4317\n",
      " 38.96269  39.448914 35.78409  35.678654 33.03881  32.47824  33.74573\n",
      " 27.741028 26.627153 29.473967 30.639057 31.505138 32.26054  27.654848\n",
      " 32.87473  31.989702 36.70983  37.850513 41.694313 43.015934 46.754784]\n",
      "idx 0\n",
      "y [26.31236  26.31236  30.43676  35.398487 39.916225 41.23134  44.72337\n",
      " 45.494724 45.743397 37.44722  40.425365 40.97082  41.592766 41.4317\n",
      " 38.96269  39.448914 35.78409  35.678654 33.03881  32.47824  33.74573\n",
      " 27.741028 26.627153 29.473967 30.639057 31.505138 32.26054  27.654848\n",
      " 32.87473  31.989702 36.70983  37.850513 41.694313 43.015934 46.754784]\n",
      "idx 0\n",
      "y [102.75924  102.75924  102.72005   98.9307    96.1684    98.78563\n",
      "  99.07857   90.751785  84.112335  83.74462   81.02573   76.158424\n",
      "  77.083435]\n",
      "idx 0\n",
      "y [112.75037  112.75037  115.36909  107.75573  105.23729  107.31068\n",
      " 105.34857  107.39792  102.99889   97.213036 100.57772   96.81632\n",
      "  94.713875  96.08858   98.775116]\n",
      "idx 0\n",
      "y [147.30019 147.30019 141.05933 137.4388  137.96297 139.08751 132.05312\n",
      " 136.33395 136.03938 133.63828 135.71645 138.99248 137.67311]\n",
      "idx 0\n",
      "y [ 97.80471   97.80471  101.68492  103.27893  102.03965  102.32008\n",
      " 102.55965  102.900345 109.66179  116.56566  119.293686 118.13062\n",
      " 117.79429  125.74654  124.45607  127.13274  125.76102  128.99953\n",
      " 131.191    137.6918   138.42693  141.8554   144.59242  148.30559 ]\n",
      "idx 0\n",
      "y [159.75116 159.75116 161.35793 162.33539 156.75511 153.97284 156.70044\n",
      " 158.54514 161.94092 162.50012 175.14717 172.44922 180.14568 181.4607\n",
      " 183.56998 176.90558]\n",
      "idx 0\n",
      "y [45.571182 45.571182 46.0728   40.8441   35.12866  29.609762 28.606703\n",
      " 24.06439  23.095259 21.645483 23.000372 21.296331]\n",
      "idx 0\n",
      "y [68.78991  68.78991  64.386925 64.018234 66.08492  66.90102  69.08206\n",
      " 69.214775 73.42172  76.682686 77.17245  77.47159  70.92857  75.376396\n",
      " 76.573166 77.4438  ]\n",
      "idx 0\n",
      "y [113.34856  113.34856  114.07743  117.60783  119.70612  118.59096\n",
      " 114.81918  103.75572   96.38635   97.61451   84.63441   85.44448\n",
      "  84.410095  84.410095  78.338326  67.37975   60.58628   46.69301 ]\n",
      "idx 0\n",
      "y [ 98.92267   98.92267  101.3639   104.64522  102.82148  106.49611\n",
      "  97.607735  99.23927   98.814     97.36393   99.10284   97.32845\n",
      "  92.84666   96.298485]\n",
      "idx 0\n",
      "y [109.01448  109.01448  106.5941   107.38562  104.9777   102.93905\n",
      "  99.291046 105.40189  105.33826   93.917336  91.355415  88.6855\n",
      "  91.683914 104.0141   103.73949  106.33973  111.44146  118.68351\n",
      " 116.31743  113.824745 108.95089  106.57296  108.08728  109.28003\n",
      " 107.888855 109.73439  114.91483 ]\n",
      "idx 0\n",
      "y [ 94.744064  94.744064  98.932594  96.74233   98.56283  101.8728\n",
      " 102.32366  100.65277  100.67597   96.70293   99.278404  98.07479\n",
      " 100.41803  100.14463 ]\n",
      "idx 0\n",
      "y [143.79561  143.79561  141.63968  138.94238  144.81644  135.54291\n",
      " 138.05482  141.35892  133.53645  131.29095  127.22786  127.9208\n",
      " 124.34076  125.576584 119.48418  120.981    117.98052  123.90232 ]\n",
      "idx 0\n",
      "y [75.60371  75.60371  73.75661  66.178986 56.17891  66.24435  66.12408\n",
      " 64.07101  62.55932  67.23837  66.559296 66.347084 68.94913  66.719185\n",
      " 61.05533  65.408936 69.50978  67.71413  65.37187 ]\n",
      "idx 0\n",
      "y [122.57888  122.57888  113.32994  106.83817  100.57791   90.68213\n",
      "  81.61415   80.90038   71.62302   64.65453   63.39484   66.96455\n",
      "  66.13477   65.24106   65.650085  78.29852   83.42439   86.326294\n",
      "  95.623436]\n",
      "idx 0\n",
      "y [ 86.97776   86.97776   91.28912   91.76872   93.95783   99.50992\n",
      "  97.77161  101.33603  106.57566  104.29778  106.122986 106.27401\n",
      " 106.85413  105.60585  103.27543   99.38077 ]\n",
      "idx 0\n",
      "y [109.311874 109.311874 117.51433  118.20843  121.16492  124.57629\n",
      " 130.59367  132.08795  133.58237  131.86227  144.35222  148.41545\n",
      " 150.28575  148.37383  155.85144  157.55032  161.3883   159.99309\n",
      " 168.25885  169.35541  174.78786  174.53908  175.1676   176.08545 ]\n",
      "idx 0\n",
      "y [82.3359   82.3359   83.74355  82.12125  82.0246   81.35583  83.753136\n",
      " 81.46345  81.238365 82.246796 79.836296 78.659775 78.44941  76.771095\n",
      " 76.397606 76.32843  76.061966 78.734856 74.81739  73.66147  73.57995\n",
      " 76.849625 77.5477   76.94249  75.167366 76.58132  79.88949  77.752686\n",
      " 77.70095  78.3821   77.62265  74.53693  77.30163  77.64981  78.65623\n",
      " 79.5228   79.87717  81.263916 83.776855 82.78564 ]\n",
      "idx 0\n",
      "y [63.949566 63.949566 69.93747  77.2133   76.19672  59.03639  51.390045\n",
      " 43.98575  46.375423 46.813293 46.425697 48.088448 45.19114  46.62904\n",
      " 46.49757  44.236755 44.21653  44.59958 ]\n",
      "idx 0\n",
      "y [93.48223  93.48223  93.59898  95.98473  94.23176  97.40014  97.49129\n",
      " 98.20092  96.63581  99.682365 98.71737  95.29715  90.55664  96.73121\n",
      " 96.69268  92.54565  88.27132 ]\n",
      "idx 0\n",
      "y [107.3365   107.3365   116.02105  118.882126 119.10844  123.15911\n",
      " 124.048035 115.788124 118.06157  101.51607  105.70731   95.21889\n",
      "  94.84357   91.429405  90.70885   83.929634  83.78301   86.08865 ]\n",
      "idx 0\n",
      "y [119.88023  119.88023  118.95989  124.93175  119.6437   115.08271\n",
      " 115.98235  118.13013  114.62625  113.51885  112.557526 112.35516\n",
      " 106.43849  103.48962  101.96699   96.97618   97.18374   93.58146\n",
      "  88.014244  87.72918   82.8336    84.5415    79.69009   74.360664\n",
      "  75.12075 ]\n",
      "idx 0\n",
      "y [188.24966 188.24966 188.66383 184.9023  193.68024 202.95082 205.65558\n",
      " 204.37053 204.57068 197.58694 189.22403 186.09132 184.11906 180.607\n",
      " 180.70743 181.67493]\n",
      "idx 0\n",
      "y [73.58479  73.58479  78.32208  80.257645 81.59371  85.581635 87.78752\n",
      " 77.606285 76.44903  76.591805 76.559166 78.07087  76.45936  82.14012\n",
      " 76.017624 73.27911 ]\n",
      "idx 0\n",
      "y [125.956184 125.956184 126.263245 123.675064 121.29176  113.9616\n",
      " 113.95604  114.714005 118.20975  121.689835 127.804855 135.11636\n",
      " 134.841    134.38345  127.508   ]\n",
      "idx 0\n",
      "y [174.4363  174.4363  175.03368 172.58821 166.17216 159.47653 158.46686\n",
      " 152.77995 156.50897 157.14854 155.96384 158.28903 165.45143]\n",
      "idx 0\n",
      "y [174.4363  174.4363  175.03368 172.58821 166.17216 159.47653 158.46686\n",
      " 152.77995 156.50897 157.14854 155.96384 158.28903 165.45143]\n"
     ]
    },
    {
     "output_type": "execute_result",
     "data": {
      "text/plain": [
       "                                        bssid_0  \\\n",
       "0      889bfa434d66eed8c386ccbc90f445932c43f8dd   \n",
       "1      29c7d9e757292e7b2b3d00dc4dae7514531b20b4   \n",
       "2      11567178cc5ca582a37c4733207c77739e1bf5fd   \n",
       "3      889bfa434d66eed8c386ccbc90f445932c43f8dd   \n",
       "4      889bfa434d66eed8c386ccbc90f445932c43f8dd   \n",
       "...                                         ...   \n",
       "10128  46e733fa58deea74d962874847a529fb4897e655   \n",
       "10129  46e733fa58deea74d962874847a529fb4897e655   \n",
       "10130  46e733fa58deea74d962874847a529fb4897e655   \n",
       "10131  6c381e7e7d8e984394ce02a3da912acc1b7d294e   \n",
       "10132  46e733fa58deea74d962874847a529fb4897e655   \n",
       "\n",
       "                                        bssid_1  \\\n",
       "0      29c7d9e757292e7b2b3d00dc4dae7514531b20b4   \n",
       "1      11567178cc5ca582a37c4733207c77739e1bf5fd   \n",
       "2      889bfa434d66eed8c386ccbc90f445932c43f8dd   \n",
       "3      98d67fadac518296992afddd24e97a2855af9472   \n",
       "4      11567178cc5ca582a37c4733207c77739e1bf5fd   \n",
       "...                                         ...   \n",
       "10128  6c381e7e7d8e984394ce02a3da912acc1b7d294e   \n",
       "10129  6c381e7e7d8e984394ce02a3da912acc1b7d294e   \n",
       "10130  6c381e7e7d8e984394ce02a3da912acc1b7d294e   \n",
       "10131  e5c220800a2d5ec83e355c3b1a2d7a141947e95f   \n",
       "10132  c2f60ab72a28ad3da155a5c7c591aae9d5e00061   \n",
       "\n",
       "                                        bssid_2  \\\n",
       "0      98d67fadac518296992afddd24e97a2855af9472   \n",
       "1      889bfa434d66eed8c386ccbc90f445932c43f8dd   \n",
       "2      52da0403b46bdbfe56c5c630d07ddbc47652d544   \n",
       "3      52da0403b46bdbfe56c5c630d07ddbc47652d544   \n",
       "4      29c7d9e757292e7b2b3d00dc4dae7514531b20b4   \n",
       "...                                         ...   \n",
       "10128  f879db40b23c9ec1ac0f0d62418d53c3bf2e6cb5   \n",
       "10129  e5c220800a2d5ec83e355c3b1a2d7a141947e95f   \n",
       "10130  cae39a38a556f42ece02b7e8e54f55440710b034   \n",
       "10131  46e733fa58deea74d962874847a529fb4897e655   \n",
       "10132  8d8caa754528e2b2eee8bf2b6362bc950968c959   \n",
       "\n",
       "                                        bssid_3  \\\n",
       "0      11567178cc5ca582a37c4733207c77739e1bf5fd   \n",
       "1      4a2924201ab4aaf5aedc8ca8f485bf1b343028cd   \n",
       "2      4a2924201ab4aaf5aedc8ca8f485bf1b343028cd   \n",
       "3      4a2924201ab4aaf5aedc8ca8f485bf1b343028cd   \n",
       "4      4a2924201ab4aaf5aedc8ca8f485bf1b343028cd   \n",
       "...                                         ...   \n",
       "10128  4a6f4e041286c0e76a669ceee881942ee06ecc36   \n",
       "10129  f879db40b23c9ec1ac0f0d62418d53c3bf2e6cb5   \n",
       "10130  03ea8980e3e01a4804fbb8208a948d0b76a203fb   \n",
       "10131  dc8f08671c59b76f1d313c2e56bd1cacbe55dcac   \n",
       "10132  5a8c96dd8519e257c0c13af51cdf72e89bfc7339   \n",
       "\n",
       "                                        bssid_4  \\\n",
       "0      4a2924201ab4aaf5aedc8ca8f485bf1b343028cd   \n",
       "1      2d941f9a87e1b75fe263e7cef9d51c5eeecedc6e   \n",
       "2      29c7d9e757292e7b2b3d00dc4dae7514531b20b4   \n",
       "3      11567178cc5ca582a37c4733207c77739e1bf5fd   \n",
       "4      2d941f9a87e1b75fe263e7cef9d51c5eeecedc6e   \n",
       "...                                         ...   \n",
       "10128  835e59c27eb07192538c8a9dd7bca6aa5065671b   \n",
       "10129  5024a162dfac11512ba8cb59eccd836abe70cf42   \n",
       "10130  dc8f08671c59b76f1d313c2e56bd1cacbe55dcac   \n",
       "10131  03ea8980e3e01a4804fbb8208a948d0b76a203fb   \n",
       "10132  95410888a49789e997c8956c44405129a489438a   \n",
       "\n",
       "                                        bssid_5  \\\n",
       "0      bd400fbef9b9b15143e93f8ad2efb07c076e2f5b   \n",
       "1      bd400fbef9b9b15143e93f8ad2efb07c076e2f5b   \n",
       "2      bd400fbef9b9b15143e93f8ad2efb07c076e2f5b   \n",
       "3      29c7d9e757292e7b2b3d00dc4dae7514531b20b4   \n",
       "4      52da0403b46bdbfe56c5c630d07ddbc47652d544   \n",
       "...                                         ...   \n",
       "10128  51aaaf422c6bf5dcce84391b956a8aebfa41c46b   \n",
       "10129  cae39a38a556f42ece02b7e8e54f55440710b034   \n",
       "10130  3c491d07c451dec70b9eeb4209e83ac19c28e0b6   \n",
       "10131  3c491d07c451dec70b9eeb4209e83ac19c28e0b6   \n",
       "10132  f2e910cbcef80943c7283e39adca7b974055e82c   \n",
       "\n",
       "                                        bssid_6  \\\n",
       "0      2d941f9a87e1b75fe263e7cef9d51c5eeecedc6e   \n",
       "1      98d67fadac518296992afddd24e97a2855af9472   \n",
       "2      2d941f9a87e1b75fe263e7cef9d51c5eeecedc6e   \n",
       "3      bd400fbef9b9b15143e93f8ad2efb07c076e2f5b   \n",
       "4      bd400fbef9b9b15143e93f8ad2efb07c076e2f5b   \n",
       "...                                         ...   \n",
       "10128  cd31afb29b2e8c60bcb752ddee7d525184d663a2   \n",
       "10129  51aaaf422c6bf5dcce84391b956a8aebfa41c46b   \n",
       "10130  e5c220800a2d5ec83e355c3b1a2d7a141947e95f   \n",
       "10131  4d5cc880afe864ae101c6ab56dc3a065d83a3bcd   \n",
       "10132  77382b959095b32b36f5d62f47807ebfc2e37017   \n",
       "\n",
       "                                        bssid_7  \\\n",
       "0      ddf350d0ccf75a6e540a00adbc7de2a02f093fd4   \n",
       "1      ddf350d0ccf75a6e540a00adbc7de2a02f093fd4   \n",
       "2      98d67fadac518296992afddd24e97a2855af9472   \n",
       "3      2d941f9a87e1b75fe263e7cef9d51c5eeecedc6e   \n",
       "4      98d67fadac518296992afddd24e97a2855af9472   \n",
       "...                                         ...   \n",
       "10128  0f5daed11a61e0d6941a1a42ff428ca216d61003   \n",
       "10129  835e59c27eb07192538c8a9dd7bca6aa5065671b   \n",
       "10130  5024a162dfac11512ba8cb59eccd836abe70cf42   \n",
       "10131  95410888a49789e997c8956c44405129a489438a   \n",
       "10132  6c381e7e7d8e984394ce02a3da912acc1b7d294e   \n",
       "\n",
       "                                        bssid_8  \\\n",
       "0      525ff0652e084f27434e7adcc7e1203b7750d8e3   \n",
       "1      ea26617bc19a2b6a0a3798c1f3aa1de25442e716   \n",
       "2      6481d877c7c3dd24354706980d009f2781af31aa   \n",
       "3      4e44f35a8a73e213ae458e6ed1fa8f8b969a2349   \n",
       "4      ddf350d0ccf75a6e540a00adbc7de2a02f093fd4   \n",
       "...                                         ...   \n",
       "10128  320d29082914372e384fefd33584e102db06a6c3   \n",
       "10129  5a8c96dd8519e257c0c13af51cdf72e89bfc7339   \n",
       "10130  735a61d004af3adaa1331ceb38436d2d078d0cd0   \n",
       "10131  ea10558abeea1b654962c437574dc29c11498ec7   \n",
       "10132  1ccfad270acf0c810365000a5b7b1202b946a80c   \n",
       "\n",
       "                                        bssid_9  ... time_diff  \\\n",
       "0      ea26617bc19a2b6a0a3798c1f3aa1de25442e716  ...     -1170   \n",
       "1      6481d877c7c3dd24354706980d009f2781af31aa  ...      -876   \n",
       "2      4e44f35a8a73e213ae458e6ed1fa8f8b969a2349  ...        73   \n",
       "3      ddf350d0ccf75a6e540a00adbc7de2a02f093fd4  ...      -118   \n",
       "4      4e44f35a8a73e213ae458e6ed1fa8f8b969a2349  ...        75   \n",
       "...                                         ...  ...       ...   \n",
       "10128  7af4e320275401c386cfd3e8ee8554692b2120b2  ...       -83   \n",
       "10129  8d8caa754528e2b2eee8bf2b6362bc950968c959  ...       244   \n",
       "10130  0e0654ac3d69c3ebbe3c8c65207e139a6c129a14  ...      -708   \n",
       "10131  cae39a38a556f42ece02b7e8e54f55440710b034  ...       574   \n",
       "10132  d3d056da278ff2975a96a486e4c1f70128570110  ...      -399   \n",
       "\n",
       "                        site_id floor           x           y  \\\n",
       "0      5da1389e4db8ce0c98bd0547     3   56.696514   83.041931   \n",
       "1      5da1389e4db8ce0c98bd0547     3   68.708595   82.644798   \n",
       "2      5da1389e4db8ce0c98bd0547     3   71.766617   84.920944   \n",
       "3      5da1389e4db8ce0c98bd0547     3   62.285919   85.701767   \n",
       "4      5da1389e4db8ce0c98bd0547     3   68.972733   82.707153   \n",
       "...                         ...   ...         ...         ...   \n",
       "10128  5a0546857ecc773753327266    -1  124.152206  183.721527   \n",
       "10129  5a0546857ecc773753327266    -1  130.239868  181.272659   \n",
       "10130  5a0546857ecc773753327266    -1  129.803162  181.755844   \n",
       "10131  5a0546857ecc773753327266    -1  131.419724  180.432816   \n",
       "10132  5a0546857ecc773753327266    -1  129.598892  173.433823   \n",
       "\n",
       "                           path      timestamp wifi_timestamp          _x  \\\n",
       "0      00ff0c9a71cc37a2ebdd0f05  0000000000010           1180   56.696514   \n",
       "1      00ff0c9a71cc37a2ebdd0f05  0000000004048           4924   65.705575   \n",
       "2      00ff0c9a71cc37a2ebdd0f05  0000000012526          12453   71.766617   \n",
       "3      00ff0c9a71cc37a2ebdd0f05  0000000025542          25660   62.285919   \n",
       "4      00ff0c9a71cc37a2ebdd0f05  0000000037134          37059   68.972733   \n",
       "...                         ...            ...            ...         ...   \n",
       "10128  ffcd9524c80c0fa5bb859eaf  0000000035117          35200  124.152206   \n",
       "10129  ffcd9524c80c0fa5bb859eaf  0000000041230          40986  130.239868   \n",
       "10130  ffcd9524c80c0fa5bb859eaf  0000000051634          52342  129.822149   \n",
       "10131  ffcd9524c80c0fa5bb859eaf  0000000060483          59909  131.305922   \n",
       "10132  ffcd9524c80c0fa5bb859eaf  0000000067146          67545  129.712694   \n",
       "\n",
       "               _y  \n",
       "0       83.041931  \n",
       "1       82.744082  \n",
       "2       84.920944  \n",
       "3       85.701767  \n",
       "4       82.707153  \n",
       "...           ...  \n",
       "10128  183.721527  \n",
       "10129  181.272659  \n",
       "10130  181.734836  \n",
       "10131  179.995379  \n",
       "10132  173.871260  \n",
       "\n",
       "[10133 rows x 211 columns]"
      ],
      "text/html": "<div>\n<style scoped>\n    .dataframe tbody tr th:only-of-type {\n        vertical-align: middle;\n    }\n\n    .dataframe tbody tr th {\n        vertical-align: top;\n    }\n\n    .dataframe thead th {\n        text-align: right;\n    }\n</style>\n<table border=\"1\" class=\"dataframe\">\n  <thead>\n    <tr style=\"text-align: right;\">\n      <th></th>\n      <th>bssid_0</th>\n      <th>bssid_1</th>\n      <th>bssid_2</th>\n      <th>bssid_3</th>\n      <th>bssid_4</th>\n      <th>bssid_5</th>\n      <th>bssid_6</th>\n      <th>bssid_7</th>\n      <th>bssid_8</th>\n      <th>bssid_9</th>\n      <th>...</th>\n      <th>time_diff</th>\n      <th>site_id</th>\n      <th>floor</th>\n      <th>x</th>\n      <th>y</th>\n      <th>path</th>\n      <th>timestamp</th>\n      <th>wifi_timestamp</th>\n      <th>_x</th>\n      <th>_y</th>\n    </tr>\n  </thead>\n  <tbody>\n    <tr>\n      <th>0</th>\n      <td>889bfa434d66eed8c386ccbc90f445932c43f8dd</td>\n      <td>29c7d9e757292e7b2b3d00dc4dae7514531b20b4</td>\n      <td>98d67fadac518296992afddd24e97a2855af9472</td>\n      <td>11567178cc5ca582a37c4733207c77739e1bf5fd</td>\n      <td>4a2924201ab4aaf5aedc8ca8f485bf1b343028cd</td>\n      <td>bd400fbef9b9b15143e93f8ad2efb07c076e2f5b</td>\n      <td>2d941f9a87e1b75fe263e7cef9d51c5eeecedc6e</td>\n      <td>ddf350d0ccf75a6e540a00adbc7de2a02f093fd4</td>\n      <td>525ff0652e084f27434e7adcc7e1203b7750d8e3</td>\n      <td>ea26617bc19a2b6a0a3798c1f3aa1de25442e716</td>\n      <td>...</td>\n      <td>-1170</td>\n      <td>5da1389e4db8ce0c98bd0547</td>\n      <td>3</td>\n      <td>56.696514</td>\n      <td>83.041931</td>\n      <td>00ff0c9a71cc37a2ebdd0f05</td>\n      <td>0000000000010</td>\n      <td>1180</td>\n      <td>56.696514</td>\n      <td>83.041931</td>\n    </tr>\n    <tr>\n      <th>1</th>\n      <td>29c7d9e757292e7b2b3d00dc4dae7514531b20b4</td>\n      <td>11567178cc5ca582a37c4733207c77739e1bf5fd</td>\n      <td>889bfa434d66eed8c386ccbc90f445932c43f8dd</td>\n      <td>4a2924201ab4aaf5aedc8ca8f485bf1b343028cd</td>\n      <td>2d941f9a87e1b75fe263e7cef9d51c5eeecedc6e</td>\n      <td>bd400fbef9b9b15143e93f8ad2efb07c076e2f5b</td>\n      <td>98d67fadac518296992afddd24e97a2855af9472</td>\n      <td>ddf350d0ccf75a6e540a00adbc7de2a02f093fd4</td>\n      <td>ea26617bc19a2b6a0a3798c1f3aa1de25442e716</td>\n      <td>6481d877c7c3dd24354706980d009f2781af31aa</td>\n      <td>...</td>\n      <td>-876</td>\n      <td>5da1389e4db8ce0c98bd0547</td>\n      <td>3</td>\n      <td>68.708595</td>\n      <td>82.644798</td>\n      <td>00ff0c9a71cc37a2ebdd0f05</td>\n      <td>0000000004048</td>\n      <td>4924</td>\n      <td>65.705575</td>\n      <td>82.744082</td>\n    </tr>\n    <tr>\n      <th>2</th>\n      <td>11567178cc5ca582a37c4733207c77739e1bf5fd</td>\n      <td>889bfa434d66eed8c386ccbc90f445932c43f8dd</td>\n      <td>52da0403b46bdbfe56c5c630d07ddbc47652d544</td>\n      <td>4a2924201ab4aaf5aedc8ca8f485bf1b343028cd</td>\n      <td>29c7d9e757292e7b2b3d00dc4dae7514531b20b4</td>\n      <td>bd400fbef9b9b15143e93f8ad2efb07c076e2f5b</td>\n      <td>2d941f9a87e1b75fe263e7cef9d51c5eeecedc6e</td>\n      <td>98d67fadac518296992afddd24e97a2855af9472</td>\n      <td>6481d877c7c3dd24354706980d009f2781af31aa</td>\n      <td>4e44f35a8a73e213ae458e6ed1fa8f8b969a2349</td>\n      <td>...</td>\n      <td>73</td>\n      <td>5da1389e4db8ce0c98bd0547</td>\n      <td>3</td>\n      <td>71.766617</td>\n      <td>84.920944</td>\n      <td>00ff0c9a71cc37a2ebdd0f05</td>\n      <td>0000000012526</td>\n      <td>12453</td>\n      <td>71.766617</td>\n      <td>84.920944</td>\n    </tr>\n    <tr>\n      <th>3</th>\n      <td>889bfa434d66eed8c386ccbc90f445932c43f8dd</td>\n      <td>98d67fadac518296992afddd24e97a2855af9472</td>\n      <td>52da0403b46bdbfe56c5c630d07ddbc47652d544</td>\n      <td>4a2924201ab4aaf5aedc8ca8f485bf1b343028cd</td>\n      <td>11567178cc5ca582a37c4733207c77739e1bf5fd</td>\n      <td>29c7d9e757292e7b2b3d00dc4dae7514531b20b4</td>\n      <td>bd400fbef9b9b15143e93f8ad2efb07c076e2f5b</td>\n      <td>2d941f9a87e1b75fe263e7cef9d51c5eeecedc6e</td>\n      <td>4e44f35a8a73e213ae458e6ed1fa8f8b969a2349</td>\n      <td>ddf350d0ccf75a6e540a00adbc7de2a02f093fd4</td>\n      <td>...</td>\n      <td>-118</td>\n      <td>5da1389e4db8ce0c98bd0547</td>\n      <td>3</td>\n      <td>62.285919</td>\n      <td>85.701767</td>\n      <td>00ff0c9a71cc37a2ebdd0f05</td>\n      <td>0000000025542</td>\n      <td>25660</td>\n      <td>62.285919</td>\n      <td>85.701767</td>\n    </tr>\n    <tr>\n      <th>4</th>\n      <td>889bfa434d66eed8c386ccbc90f445932c43f8dd</td>\n      <td>11567178cc5ca582a37c4733207c77739e1bf5fd</td>\n      <td>29c7d9e757292e7b2b3d00dc4dae7514531b20b4</td>\n      <td>4a2924201ab4aaf5aedc8ca8f485bf1b343028cd</td>\n      <td>2d941f9a87e1b75fe263e7cef9d51c5eeecedc6e</td>\n      <td>52da0403b46bdbfe56c5c630d07ddbc47652d544</td>\n      <td>bd400fbef9b9b15143e93f8ad2efb07c076e2f5b</td>\n      <td>98d67fadac518296992afddd24e97a2855af9472</td>\n      <td>ddf350d0ccf75a6e540a00adbc7de2a02f093fd4</td>\n      <td>4e44f35a8a73e213ae458e6ed1fa8f8b969a2349</td>\n      <td>...</td>\n      <td>75</td>\n      <td>5da1389e4db8ce0c98bd0547</td>\n      <td>3</td>\n      <td>68.972733</td>\n      <td>82.707153</td>\n      <td>00ff0c9a71cc37a2ebdd0f05</td>\n      <td>0000000037134</td>\n      <td>37059</td>\n      <td>68.972733</td>\n      <td>82.707153</td>\n    </tr>\n    <tr>\n      <th>...</th>\n      <td>...</td>\n      <td>...</td>\n      <td>...</td>\n      <td>...</td>\n      <td>...</td>\n      <td>...</td>\n      <td>...</td>\n      <td>...</td>\n      <td>...</td>\n      <td>...</td>\n      <td>...</td>\n      <td>...</td>\n      <td>...</td>\n      <td>...</td>\n      <td>...</td>\n      <td>...</td>\n      <td>...</td>\n      <td>...</td>\n      <td>...</td>\n      <td>...</td>\n      <td>...</td>\n    </tr>\n    <tr>\n      <th>10128</th>\n      <td>46e733fa58deea74d962874847a529fb4897e655</td>\n      <td>6c381e7e7d8e984394ce02a3da912acc1b7d294e</td>\n      <td>f879db40b23c9ec1ac0f0d62418d53c3bf2e6cb5</td>\n      <td>4a6f4e041286c0e76a669ceee881942ee06ecc36</td>\n      <td>835e59c27eb07192538c8a9dd7bca6aa5065671b</td>\n      <td>51aaaf422c6bf5dcce84391b956a8aebfa41c46b</td>\n      <td>cd31afb29b2e8c60bcb752ddee7d525184d663a2</td>\n      <td>0f5daed11a61e0d6941a1a42ff428ca216d61003</td>\n      <td>320d29082914372e384fefd33584e102db06a6c3</td>\n      <td>7af4e320275401c386cfd3e8ee8554692b2120b2</td>\n      <td>...</td>\n      <td>-83</td>\n      <td>5a0546857ecc773753327266</td>\n      <td>-1</td>\n      <td>124.152206</td>\n      <td>183.721527</td>\n      <td>ffcd9524c80c0fa5bb859eaf</td>\n      <td>0000000035117</td>\n      <td>35200</td>\n      <td>124.152206</td>\n      <td>183.721527</td>\n    </tr>\n    <tr>\n      <th>10129</th>\n      <td>46e733fa58deea74d962874847a529fb4897e655</td>\n      <td>6c381e7e7d8e984394ce02a3da912acc1b7d294e</td>\n      <td>e5c220800a2d5ec83e355c3b1a2d7a141947e95f</td>\n      <td>f879db40b23c9ec1ac0f0d62418d53c3bf2e6cb5</td>\n      <td>5024a162dfac11512ba8cb59eccd836abe70cf42</td>\n      <td>cae39a38a556f42ece02b7e8e54f55440710b034</td>\n      <td>51aaaf422c6bf5dcce84391b956a8aebfa41c46b</td>\n      <td>835e59c27eb07192538c8a9dd7bca6aa5065671b</td>\n      <td>5a8c96dd8519e257c0c13af51cdf72e89bfc7339</td>\n      <td>8d8caa754528e2b2eee8bf2b6362bc950968c959</td>\n      <td>...</td>\n      <td>244</td>\n      <td>5a0546857ecc773753327266</td>\n      <td>-1</td>\n      <td>130.239868</td>\n      <td>181.272659</td>\n      <td>ffcd9524c80c0fa5bb859eaf</td>\n      <td>0000000041230</td>\n      <td>40986</td>\n      <td>130.239868</td>\n      <td>181.272659</td>\n    </tr>\n    <tr>\n      <th>10130</th>\n      <td>46e733fa58deea74d962874847a529fb4897e655</td>\n      <td>6c381e7e7d8e984394ce02a3da912acc1b7d294e</td>\n      <td>cae39a38a556f42ece02b7e8e54f55440710b034</td>\n      <td>03ea8980e3e01a4804fbb8208a948d0b76a203fb</td>\n      <td>dc8f08671c59b76f1d313c2e56bd1cacbe55dcac</td>\n      <td>3c491d07c451dec70b9eeb4209e83ac19c28e0b6</td>\n      <td>e5c220800a2d5ec83e355c3b1a2d7a141947e95f</td>\n      <td>5024a162dfac11512ba8cb59eccd836abe70cf42</td>\n      <td>735a61d004af3adaa1331ceb38436d2d078d0cd0</td>\n      <td>0e0654ac3d69c3ebbe3c8c65207e139a6c129a14</td>\n      <td>...</td>\n      <td>-708</td>\n      <td>5a0546857ecc773753327266</td>\n      <td>-1</td>\n      <td>129.803162</td>\n      <td>181.755844</td>\n      <td>ffcd9524c80c0fa5bb859eaf</td>\n      <td>0000000051634</td>\n      <td>52342</td>\n      <td>129.822149</td>\n      <td>181.734836</td>\n    </tr>\n    <tr>\n      <th>10131</th>\n      <td>6c381e7e7d8e984394ce02a3da912acc1b7d294e</td>\n      <td>e5c220800a2d5ec83e355c3b1a2d7a141947e95f</td>\n      <td>46e733fa58deea74d962874847a529fb4897e655</td>\n      <td>dc8f08671c59b76f1d313c2e56bd1cacbe55dcac</td>\n      <td>03ea8980e3e01a4804fbb8208a948d0b76a203fb</td>\n      <td>3c491d07c451dec70b9eeb4209e83ac19c28e0b6</td>\n      <td>4d5cc880afe864ae101c6ab56dc3a065d83a3bcd</td>\n      <td>95410888a49789e997c8956c44405129a489438a</td>\n      <td>ea10558abeea1b654962c437574dc29c11498ec7</td>\n      <td>cae39a38a556f42ece02b7e8e54f55440710b034</td>\n      <td>...</td>\n      <td>574</td>\n      <td>5a0546857ecc773753327266</td>\n      <td>-1</td>\n      <td>131.419724</td>\n      <td>180.432816</td>\n      <td>ffcd9524c80c0fa5bb859eaf</td>\n      <td>0000000060483</td>\n      <td>59909</td>\n      <td>131.305922</td>\n      <td>179.995379</td>\n    </tr>\n    <tr>\n      <th>10132</th>\n      <td>46e733fa58deea74d962874847a529fb4897e655</td>\n      <td>c2f60ab72a28ad3da155a5c7c591aae9d5e00061</td>\n      <td>8d8caa754528e2b2eee8bf2b6362bc950968c959</td>\n      <td>5a8c96dd8519e257c0c13af51cdf72e89bfc7339</td>\n      <td>95410888a49789e997c8956c44405129a489438a</td>\n      <td>f2e910cbcef80943c7283e39adca7b974055e82c</td>\n      <td>77382b959095b32b36f5d62f47807ebfc2e37017</td>\n      <td>6c381e7e7d8e984394ce02a3da912acc1b7d294e</td>\n      <td>1ccfad270acf0c810365000a5b7b1202b946a80c</td>\n      <td>d3d056da278ff2975a96a486e4c1f70128570110</td>\n      <td>...</td>\n      <td>-399</td>\n      <td>5a0546857ecc773753327266</td>\n      <td>-1</td>\n      <td>129.598892</td>\n      <td>173.433823</td>\n      <td>ffcd9524c80c0fa5bb859eaf</td>\n      <td>0000000067146</td>\n      <td>67545</td>\n      <td>129.712694</td>\n      <td>173.871260</td>\n    </tr>\n  </tbody>\n</table>\n<p>10133 rows × 211 columns</p>\n</div>"
     },
     "metadata": {},
     "execution_count": 29
    }
   ],
   "source": [
    "# 線形補完でwaypointを修正\n",
    "waypoint_dfs = []\n",
    "for path,df in test_df.groupby('path'):  #15\n",
    "    tmp_waypoint = wifi_waypoint_by_linear_interpolation(\n",
    "        observed_timestamp=df['wifi_timestamp'].astype(int).values, \n",
    "        observed_x=df['x'].values,\n",
    "        observed_y=df['y'].values, \n",
    "        target_timestamp=df['timestamp'].astype(int).values\n",
    "        )\n",
    "    df['_x'] = tmp_waypoint[:,0]\n",
    "    df['_y'] = tmp_waypoint[:,1]\n",
    "    waypoint_dfs.append(df)\n",
    "\n",
    "waypoint_df = pd.concat(waypoint_dfs).reset_index(drop=True)\n",
    "waypoint_df"
   ]
  },
  {
   "cell_type": "code",
   "execution_count": 30,
   "metadata": {},
   "outputs": [
    {
     "output_type": "execute_result",
     "data": {
      "text/plain": [
       "<matplotlib.legend.Legend at 0x7f8f5bf81f10>"
      ]
     },
     "metadata": {},
     "execution_count": 30
    },
    {
     "output_type": "display_data",
     "data": {
      "text/plain": "<Figure size 432x288 with 1 Axes>",
      "image/svg+xml": "<?xml version=\"1.0\" encoding=\"utf-8\" standalone=\"no\"?>\n<!DOCTYPE svg PUBLIC \"-//W3C//DTD SVG 1.1//EN\"\n  \"http://www.w3.org/Graphics/SVG/1.1/DTD/svg11.dtd\">\n<!-- Created with matplotlib (https://matplotlib.org/) -->\n<svg height=\"248.518125pt\" version=\"1.1\" viewBox=\"0 0 362.5625 248.518125\" width=\"362.5625pt\" xmlns=\"http://www.w3.org/2000/svg\" xmlns:xlink=\"http://www.w3.org/1999/xlink\">\n <metadata>\n  <rdf:RDF xmlns:cc=\"http://creativecommons.org/ns#\" xmlns:dc=\"http://purl.org/dc/elements/1.1/\" xmlns:rdf=\"http://www.w3.org/1999/02/22-rdf-syntax-ns#\">\n   <cc:Work>\n    <dc:type rdf:resource=\"http://purl.org/dc/dcmitype/StillImage\"/>\n    <dc:date>2021-04-05T20:33:23.730037</dc:date>\n    <dc:format>image/svg+xml</dc:format>\n    <dc:creator>\n     <cc:Agent>\n      <dc:title>Matplotlib v3.3.3, https://matplotlib.org/</dc:title>\n     </cc:Agent>\n    </dc:creator>\n   </cc:Work>\n  </rdf:RDF>\n </metadata>\n <defs>\n  <style type=\"text/css\">*{stroke-linecap:butt;stroke-linejoin:round;}</style>\n </defs>\n <g id=\"figure_1\">\n  <g id=\"patch_1\">\n   <path d=\"M 0 248.518125 \nL 362.5625 248.518125 \nL 362.5625 0 \nL 0 0 \nz\n\" style=\"fill:none;\"/>\n  </g>\n  <g id=\"axes_1\">\n   <g id=\"patch_2\">\n    <path d=\"M 20.5625 224.64 \nL 355.3625 224.64 \nL 355.3625 7.2 \nL 20.5625 7.2 \nz\n\" style=\"fill:#ffffff;\"/>\n   </g>\n   <g id=\"patch_3\">\n    <path clip-path=\"url(#pf3e440f252)\" d=\"M 132.380619 224.64 \nL 141.897915 224.64 \nL 141.897915 183.222857 \nL 132.380619 183.222857 \nz\n\" style=\"fill:#1f77b4;\"/>\n   </g>\n   <g id=\"patch_4\">\n    <path clip-path=\"url(#pf3e440f252)\" d=\"M 141.897915 224.64 \nL 151.415211 224.64 \nL 151.415211 183.222857 \nL 141.897915 183.222857 \nz\n\" style=\"fill:#1f77b4;\"/>\n   </g>\n   <g id=\"patch_5\">\n    <path clip-path=\"url(#pf3e440f252)\" d=\"M 151.415211 224.64 \nL 160.932506 224.64 \nL 160.932506 183.222857 \nL 151.415211 183.222857 \nz\n\" style=\"fill:#1f77b4;\"/>\n   </g>\n   <g id=\"patch_6\">\n    <path clip-path=\"url(#pf3e440f252)\" d=\"M 160.932506 224.64 \nL 170.449802 224.64 \nL 170.449802 224.64 \nL 160.932506 224.64 \nz\n\" style=\"fill:#1f77b4;\"/>\n   </g>\n   <g id=\"patch_7\">\n    <path clip-path=\"url(#pf3e440f252)\" d=\"M 170.449802 224.64 \nL 179.967098 224.64 \nL 179.967098 224.64 \nL 170.449802 224.64 \nz\n\" style=\"fill:#1f77b4;\"/>\n   </g>\n   <g id=\"patch_8\">\n    <path clip-path=\"url(#pf3e440f252)\" d=\"M 179.967098 224.64 \nL 189.484394 224.64 \nL 189.484394 58.971429 \nL 179.967098 58.971429 \nz\n\" style=\"fill:#1f77b4;\"/>\n   </g>\n   <g id=\"patch_9\">\n    <path clip-path=\"url(#pf3e440f252)\" d=\"M 189.484394 224.64 \nL 199.001689 224.64 \nL 199.001689 224.64 \nL 189.484394 224.64 \nz\n\" style=\"fill:#1f77b4;\"/>\n   </g>\n   <g id=\"patch_10\">\n    <path clip-path=\"url(#pf3e440f252)\" d=\"M 199.001689 224.64 \nL 208.518985 224.64 \nL 208.518985 224.64 \nL 199.001689 224.64 \nz\n\" style=\"fill:#1f77b4;\"/>\n   </g>\n   <g id=\"patch_11\">\n    <path clip-path=\"url(#pf3e440f252)\" d=\"M 208.518985 224.64 \nL 218.036281 224.64 \nL 218.036281 183.222857 \nL 208.518985 183.222857 \nz\n\" style=\"fill:#1f77b4;\"/>\n   </g>\n   <g id=\"patch_12\">\n    <path clip-path=\"url(#pf3e440f252)\" d=\"M 218.036281 224.64 \nL 227.553576 224.64 \nL 227.553576 183.222857 \nL 218.036281 183.222857 \nz\n\" style=\"fill:#1f77b4;\"/>\n   </g>\n   <g id=\"patch_13\">\n    <path clip-path=\"url(#pf3e440f252)\" d=\"M 35.780682 224.64 \nL 66.217045 224.64 \nL 66.217045 183.222857 \nL 35.780682 183.222857 \nz\n\" style=\"fill:#ff7f0e;\"/>\n   </g>\n   <g id=\"patch_14\">\n    <path clip-path=\"url(#pf3e440f252)\" d=\"M 66.217045 224.64 \nL 96.653409 224.64 \nL 96.653409 224.64 \nL 66.217045 224.64 \nz\n\" style=\"fill:#ff7f0e;\"/>\n   </g>\n   <g id=\"patch_15\">\n    <path clip-path=\"url(#pf3e440f252)\" d=\"M 96.653409 224.64 \nL 127.089773 224.64 \nL 127.089773 183.222857 \nL 96.653409 183.222857 \nz\n\" style=\"fill:#ff7f0e;\"/>\n   </g>\n   <g id=\"patch_16\">\n    <path clip-path=\"url(#pf3e440f252)\" d=\"M 127.089773 224.64 \nL 157.526136 224.64 \nL 157.526136 224.64 \nL 127.089773 224.64 \nz\n\" style=\"fill:#ff7f0e;\"/>\n   </g>\n   <g id=\"patch_17\">\n    <path clip-path=\"url(#pf3e440f252)\" d=\"M 157.526136 224.64 \nL 187.9625 224.64 \nL 187.9625 224.64 \nL 157.526136 224.64 \nz\n\" style=\"fill:#ff7f0e;\"/>\n   </g>\n   <g id=\"patch_18\">\n    <path clip-path=\"url(#pf3e440f252)\" d=\"M 187.9625 224.64 \nL 218.398864 224.64 \nL 218.398864 17.554286 \nL 187.9625 17.554286 \nz\n\" style=\"fill:#ff7f0e;\"/>\n   </g>\n   <g id=\"patch_19\">\n    <path clip-path=\"url(#pf3e440f252)\" d=\"M 218.398864 224.64 \nL 248.835227 224.64 \nL 248.835227 224.64 \nL 218.398864 224.64 \nz\n\" style=\"fill:#ff7f0e;\"/>\n   </g>\n   <g id=\"patch_20\">\n    <path clip-path=\"url(#pf3e440f252)\" d=\"M 248.835227 224.64 \nL 279.271591 224.64 \nL 279.271591 183.222857 \nL 248.835227 183.222857 \nz\n\" style=\"fill:#ff7f0e;\"/>\n   </g>\n   <g id=\"patch_21\">\n    <path clip-path=\"url(#pf3e440f252)\" d=\"M 279.271591 224.64 \nL 309.707955 224.64 \nL 309.707955 224.64 \nL 279.271591 224.64 \nz\n\" style=\"fill:#ff7f0e;\"/>\n   </g>\n   <g id=\"patch_22\">\n    <path clip-path=\"url(#pf3e440f252)\" d=\"M 309.707955 224.64 \nL 340.144318 224.64 \nL 340.144318 183.222857 \nL 309.707955 183.222857 \nz\n\" style=\"fill:#ff7f0e;\"/>\n   </g>\n   <g id=\"matplotlib.axis_1\">\n    <g id=\"xtick_1\">\n     <g id=\"line2d_1\">\n      <path clip-path=\"url(#pf3e440f252)\" d=\"M 48.804823 224.64 \nL 48.804823 7.2 \n\" style=\"fill:none;stroke:#b0b0b0;stroke-linecap:square;stroke-width:0.8;\"/>\n     </g>\n     <g id=\"line2d_2\">\n      <defs>\n       <path d=\"M 0 0 \nL 0 3.5 \n\" id=\"m9bbc7fbadf\" style=\"stroke:#000000;stroke-width:0.8;\"/>\n      </defs>\n      <g>\n       <use style=\"stroke:#000000;stroke-width:0.8;\" x=\"48.804823\" xlink:href=\"#m9bbc7fbadf\" y=\"224.64\"/>\n      </g>\n     </g>\n     <g id=\"text_1\">\n      <!-- −0.4 -->\n      <g transform=\"translate(36.663417 239.238437)scale(0.1 -0.1)\">\n       <defs>\n        <path d=\"M 10.59375 35.5 \nL 73.1875 35.5 \nL 73.1875 27.203125 \nL 10.59375 27.203125 \nz\n\" id=\"DejaVuSans-8722\"/>\n        <path d=\"M 31.78125 66.40625 \nQ 24.171875 66.40625 20.328125 58.90625 \nQ 16.5 51.421875 16.5 36.375 \nQ 16.5 21.390625 20.328125 13.890625 \nQ 24.171875 6.390625 31.78125 6.390625 \nQ 39.453125 6.390625 43.28125 13.890625 \nQ 47.125 21.390625 47.125 36.375 \nQ 47.125 51.421875 43.28125 58.90625 \nQ 39.453125 66.40625 31.78125 66.40625 \nz\nM 31.78125 74.21875 \nQ 44.046875 74.21875 50.515625 64.515625 \nQ 56.984375 54.828125 56.984375 36.375 \nQ 56.984375 17.96875 50.515625 8.265625 \nQ 44.046875 -1.421875 31.78125 -1.421875 \nQ 19.53125 -1.421875 13.0625 8.265625 \nQ 6.59375 17.96875 6.59375 36.375 \nQ 6.59375 54.828125 13.0625 64.515625 \nQ 19.53125 74.21875 31.78125 74.21875 \nz\n\" id=\"DejaVuSans-48\"/>\n        <path d=\"M 10.6875 12.40625 \nL 21 12.40625 \nL 21 0 \nL 10.6875 0 \nz\n\" id=\"DejaVuSans-46\"/>\n        <path d=\"M 37.796875 64.3125 \nL 12.890625 25.390625 \nL 37.796875 25.390625 \nz\nM 35.203125 72.90625 \nL 47.609375 72.90625 \nL 47.609375 25.390625 \nL 58.015625 25.390625 \nL 58.015625 17.1875 \nL 47.609375 17.1875 \nL 47.609375 0 \nL 37.796875 0 \nL 37.796875 17.1875 \nL 4.890625 17.1875 \nL 4.890625 26.703125 \nz\n\" id=\"DejaVuSans-52\"/>\n       </defs>\n       <use xlink:href=\"#DejaVuSans-8722\"/>\n       <use x=\"83.789062\" xlink:href=\"#DejaVuSans-48\"/>\n       <use x=\"147.412109\" xlink:href=\"#DejaVuSans-46\"/>\n       <use x=\"179.199219\" xlink:href=\"#DejaVuSans-52\"/>\n      </g>\n     </g>\n    </g>\n    <g id=\"xtick_2\">\n     <g id=\"line2d_3\">\n      <path clip-path=\"url(#pf3e440f252)\" d=\"M 118.383676 224.64 \nL 118.383676 7.2 \n\" style=\"fill:none;stroke:#b0b0b0;stroke-linecap:square;stroke-width:0.8;\"/>\n     </g>\n     <g id=\"line2d_4\">\n      <g>\n       <use style=\"stroke:#000000;stroke-width:0.8;\" x=\"118.383676\" xlink:href=\"#m9bbc7fbadf\" y=\"224.64\"/>\n      </g>\n     </g>\n     <g id=\"text_2\">\n      <!-- −0.2 -->\n      <g transform=\"translate(106.24227 239.238437)scale(0.1 -0.1)\">\n       <defs>\n        <path d=\"M 19.1875 8.296875 \nL 53.609375 8.296875 \nL 53.609375 0 \nL 7.328125 0 \nL 7.328125 8.296875 \nQ 12.9375 14.109375 22.625 23.890625 \nQ 32.328125 33.6875 34.8125 36.53125 \nQ 39.546875 41.84375 41.421875 45.53125 \nQ 43.3125 49.21875 43.3125 52.78125 \nQ 43.3125 58.59375 39.234375 62.25 \nQ 35.15625 65.921875 28.609375 65.921875 \nQ 23.96875 65.921875 18.8125 64.3125 \nQ 13.671875 62.703125 7.8125 59.421875 \nL 7.8125 69.390625 \nQ 13.765625 71.78125 18.9375 73 \nQ 24.125 74.21875 28.421875 74.21875 \nQ 39.75 74.21875 46.484375 68.546875 \nQ 53.21875 62.890625 53.21875 53.421875 \nQ 53.21875 48.921875 51.53125 44.890625 \nQ 49.859375 40.875 45.40625 35.40625 \nQ 44.1875 33.984375 37.640625 27.21875 \nQ 31.109375 20.453125 19.1875 8.296875 \nz\n\" id=\"DejaVuSans-50\"/>\n       </defs>\n       <use xlink:href=\"#DejaVuSans-8722\"/>\n       <use x=\"83.789062\" xlink:href=\"#DejaVuSans-48\"/>\n       <use x=\"147.412109\" xlink:href=\"#DejaVuSans-46\"/>\n       <use x=\"179.199219\" xlink:href=\"#DejaVuSans-50\"/>\n      </g>\n     </g>\n    </g>\n    <g id=\"xtick_3\">\n     <g id=\"line2d_5\">\n      <path clip-path=\"url(#pf3e440f252)\" d=\"M 187.962529 224.64 \nL 187.962529 7.2 \n\" style=\"fill:none;stroke:#b0b0b0;stroke-linecap:square;stroke-width:0.8;\"/>\n     </g>\n     <g id=\"line2d_6\">\n      <g>\n       <use style=\"stroke:#000000;stroke-width:0.8;\" x=\"187.962529\" xlink:href=\"#m9bbc7fbadf\" y=\"224.64\"/>\n      </g>\n     </g>\n     <g id=\"text_3\">\n      <!-- 0.0 -->\n      <g transform=\"translate(180.010966 239.238437)scale(0.1 -0.1)\">\n       <use xlink:href=\"#DejaVuSans-48\"/>\n       <use x=\"63.623047\" xlink:href=\"#DejaVuSans-46\"/>\n       <use x=\"95.410156\" xlink:href=\"#DejaVuSans-48\"/>\n      </g>\n     </g>\n    </g>\n    <g id=\"xtick_4\">\n     <g id=\"line2d_7\">\n      <path clip-path=\"url(#pf3e440f252)\" d=\"M 257.541381 224.64 \nL 257.541381 7.2 \n\" style=\"fill:none;stroke:#b0b0b0;stroke-linecap:square;stroke-width:0.8;\"/>\n     </g>\n     <g id=\"line2d_8\">\n      <g>\n       <use style=\"stroke:#000000;stroke-width:0.8;\" x=\"257.541381\" xlink:href=\"#m9bbc7fbadf\" y=\"224.64\"/>\n      </g>\n     </g>\n     <g id=\"text_4\">\n      <!-- 0.2 -->\n      <g transform=\"translate(249.589819 239.238437)scale(0.1 -0.1)\">\n       <use xlink:href=\"#DejaVuSans-48\"/>\n       <use x=\"63.623047\" xlink:href=\"#DejaVuSans-46\"/>\n       <use x=\"95.410156\" xlink:href=\"#DejaVuSans-50\"/>\n      </g>\n     </g>\n    </g>\n    <g id=\"xtick_5\">\n     <g id=\"line2d_9\">\n      <path clip-path=\"url(#pf3e440f252)\" d=\"M 327.120234 224.64 \nL 327.120234 7.2 \n\" style=\"fill:none;stroke:#b0b0b0;stroke-linecap:square;stroke-width:0.8;\"/>\n     </g>\n     <g id=\"line2d_10\">\n      <g>\n       <use style=\"stroke:#000000;stroke-width:0.8;\" x=\"327.120234\" xlink:href=\"#m9bbc7fbadf\" y=\"224.64\"/>\n      </g>\n     </g>\n     <g id=\"text_5\">\n      <!-- 0.4 -->\n      <g transform=\"translate(319.168672 239.238437)scale(0.1 -0.1)\">\n       <use xlink:href=\"#DejaVuSans-48\"/>\n       <use x=\"63.623047\" xlink:href=\"#DejaVuSans-46\"/>\n       <use x=\"95.410156\" xlink:href=\"#DejaVuSans-52\"/>\n      </g>\n     </g>\n    </g>\n   </g>\n   <g id=\"matplotlib.axis_2\">\n    <g id=\"ytick_1\">\n     <g id=\"line2d_11\">\n      <path clip-path=\"url(#pf3e440f252)\" d=\"M 20.5625 224.64 \nL 355.3625 224.64 \n\" style=\"fill:none;stroke:#b0b0b0;stroke-linecap:square;stroke-width:0.8;\"/>\n     </g>\n     <g id=\"line2d_12\">\n      <defs>\n       <path d=\"M 0 0 \nL -3.5 0 \n\" id=\"m46accfdb1d\" style=\"stroke:#000000;stroke-width:0.8;\"/>\n      </defs>\n      <g>\n       <use style=\"stroke:#000000;stroke-width:0.8;\" x=\"20.5625\" xlink:href=\"#m46accfdb1d\" y=\"224.64\"/>\n      </g>\n     </g>\n     <g id=\"text_6\">\n      <!-- 0 -->\n      <g transform=\"translate(7.2 228.439219)scale(0.1 -0.1)\">\n       <use xlink:href=\"#DejaVuSans-48\"/>\n      </g>\n     </g>\n    </g>\n    <g id=\"ytick_2\">\n     <g id=\"line2d_13\">\n      <path clip-path=\"url(#pf3e440f252)\" d=\"M 20.5625 183.222857 \nL 355.3625 183.222857 \n\" style=\"fill:none;stroke:#b0b0b0;stroke-linecap:square;stroke-width:0.8;\"/>\n     </g>\n     <g id=\"line2d_14\">\n      <g>\n       <use style=\"stroke:#000000;stroke-width:0.8;\" x=\"20.5625\" xlink:href=\"#m46accfdb1d\" y=\"183.222857\"/>\n      </g>\n     </g>\n     <g id=\"text_7\">\n      <!-- 1 -->\n      <g transform=\"translate(7.2 187.022076)scale(0.1 -0.1)\">\n       <defs>\n        <path d=\"M 12.40625 8.296875 \nL 28.515625 8.296875 \nL 28.515625 63.921875 \nL 10.984375 60.40625 \nL 10.984375 69.390625 \nL 28.421875 72.90625 \nL 38.28125 72.90625 \nL 38.28125 8.296875 \nL 54.390625 8.296875 \nL 54.390625 0 \nL 12.40625 0 \nz\n\" id=\"DejaVuSans-49\"/>\n       </defs>\n       <use xlink:href=\"#DejaVuSans-49\"/>\n      </g>\n     </g>\n    </g>\n    <g id=\"ytick_3\">\n     <g id=\"line2d_15\">\n      <path clip-path=\"url(#pf3e440f252)\" d=\"M 20.5625 141.805714 \nL 355.3625 141.805714 \n\" style=\"fill:none;stroke:#b0b0b0;stroke-linecap:square;stroke-width:0.8;\"/>\n     </g>\n     <g id=\"line2d_16\">\n      <g>\n       <use style=\"stroke:#000000;stroke-width:0.8;\" x=\"20.5625\" xlink:href=\"#m46accfdb1d\" y=\"141.805714\"/>\n      </g>\n     </g>\n     <g id=\"text_8\">\n      <!-- 2 -->\n      <g transform=\"translate(7.2 145.604933)scale(0.1 -0.1)\">\n       <use xlink:href=\"#DejaVuSans-50\"/>\n      </g>\n     </g>\n    </g>\n    <g id=\"ytick_4\">\n     <g id=\"line2d_17\">\n      <path clip-path=\"url(#pf3e440f252)\" d=\"M 20.5625 100.388571 \nL 355.3625 100.388571 \n\" style=\"fill:none;stroke:#b0b0b0;stroke-linecap:square;stroke-width:0.8;\"/>\n     </g>\n     <g id=\"line2d_18\">\n      <g>\n       <use style=\"stroke:#000000;stroke-width:0.8;\" x=\"20.5625\" xlink:href=\"#m46accfdb1d\" y=\"100.388571\"/>\n      </g>\n     </g>\n     <g id=\"text_9\">\n      <!-- 3 -->\n      <g transform=\"translate(7.2 104.18779)scale(0.1 -0.1)\">\n       <defs>\n        <path d=\"M 40.578125 39.3125 \nQ 47.65625 37.796875 51.625 33 \nQ 55.609375 28.21875 55.609375 21.1875 \nQ 55.609375 10.40625 48.1875 4.484375 \nQ 40.765625 -1.421875 27.09375 -1.421875 \nQ 22.515625 -1.421875 17.65625 -0.515625 \nQ 12.796875 0.390625 7.625 2.203125 \nL 7.625 11.71875 \nQ 11.71875 9.328125 16.59375 8.109375 \nQ 21.484375 6.890625 26.8125 6.890625 \nQ 36.078125 6.890625 40.9375 10.546875 \nQ 45.796875 14.203125 45.796875 21.1875 \nQ 45.796875 27.640625 41.28125 31.265625 \nQ 36.765625 34.90625 28.71875 34.90625 \nL 20.21875 34.90625 \nL 20.21875 43.015625 \nL 29.109375 43.015625 \nQ 36.375 43.015625 40.234375 45.921875 \nQ 44.09375 48.828125 44.09375 54.296875 \nQ 44.09375 59.90625 40.109375 62.90625 \nQ 36.140625 65.921875 28.71875 65.921875 \nQ 24.65625 65.921875 20.015625 65.03125 \nQ 15.375 64.15625 9.8125 62.3125 \nL 9.8125 71.09375 \nQ 15.4375 72.65625 20.34375 73.4375 \nQ 25.25 74.21875 29.59375 74.21875 \nQ 40.828125 74.21875 47.359375 69.109375 \nQ 53.90625 64.015625 53.90625 55.328125 \nQ 53.90625 49.265625 50.4375 45.09375 \nQ 46.96875 40.921875 40.578125 39.3125 \nz\n\" id=\"DejaVuSans-51\"/>\n       </defs>\n       <use xlink:href=\"#DejaVuSans-51\"/>\n      </g>\n     </g>\n    </g>\n    <g id=\"ytick_5\">\n     <g id=\"line2d_19\">\n      <path clip-path=\"url(#pf3e440f252)\" d=\"M 20.5625 58.971429 \nL 355.3625 58.971429 \n\" style=\"fill:none;stroke:#b0b0b0;stroke-linecap:square;stroke-width:0.8;\"/>\n     </g>\n     <g id=\"line2d_20\">\n      <g>\n       <use style=\"stroke:#000000;stroke-width:0.8;\" x=\"20.5625\" xlink:href=\"#m46accfdb1d\" y=\"58.971429\"/>\n      </g>\n     </g>\n     <g id=\"text_10\">\n      <!-- 4 -->\n      <g transform=\"translate(7.2 62.770647)scale(0.1 -0.1)\">\n       <use xlink:href=\"#DejaVuSans-52\"/>\n      </g>\n     </g>\n    </g>\n    <g id=\"ytick_6\">\n     <g id=\"line2d_21\">\n      <path clip-path=\"url(#pf3e440f252)\" d=\"M 20.5625 17.554286 \nL 355.3625 17.554286 \n\" style=\"fill:none;stroke:#b0b0b0;stroke-linecap:square;stroke-width:0.8;\"/>\n     </g>\n     <g id=\"line2d_22\">\n      <g>\n       <use style=\"stroke:#000000;stroke-width:0.8;\" x=\"20.5625\" xlink:href=\"#m46accfdb1d\" y=\"17.554286\"/>\n      </g>\n     </g>\n     <g id=\"text_11\">\n      <!-- 5 -->\n      <g transform=\"translate(7.2 21.353504)scale(0.1 -0.1)\">\n       <defs>\n        <path d=\"M 10.796875 72.90625 \nL 49.515625 72.90625 \nL 49.515625 64.59375 \nL 19.828125 64.59375 \nL 19.828125 46.734375 \nQ 21.96875 47.46875 24.109375 47.828125 \nQ 26.265625 48.1875 28.421875 48.1875 \nQ 40.625 48.1875 47.75 41.5 \nQ 54.890625 34.8125 54.890625 23.390625 \nQ 54.890625 11.625 47.5625 5.09375 \nQ 40.234375 -1.421875 26.90625 -1.421875 \nQ 22.3125 -1.421875 17.546875 -0.640625 \nQ 12.796875 0.140625 7.71875 1.703125 \nL 7.71875 11.625 \nQ 12.109375 9.234375 16.796875 8.0625 \nQ 21.484375 6.890625 26.703125 6.890625 \nQ 35.15625 6.890625 40.078125 11.328125 \nQ 45.015625 15.765625 45.015625 23.390625 \nQ 45.015625 31 40.078125 35.4375 \nQ 35.15625 39.890625 26.703125 39.890625 \nQ 22.75 39.890625 18.8125 39.015625 \nQ 14.890625 38.140625 10.796875 36.28125 \nz\n\" id=\"DejaVuSans-53\"/>\n       </defs>\n       <use xlink:href=\"#DejaVuSans-53\"/>\n      </g>\n     </g>\n    </g>\n   </g>\n   <g id=\"patch_23\">\n    <path d=\"M 20.5625 224.64 \nL 20.5625 7.2 \n\" style=\"fill:none;stroke:#000000;stroke-linecap:square;stroke-linejoin:miter;stroke-width:0.8;\"/>\n   </g>\n   <g id=\"patch_24\">\n    <path d=\"M 355.3625 224.64 \nL 355.3625 7.2 \n\" style=\"fill:none;stroke:#000000;stroke-linecap:square;stroke-linejoin:miter;stroke-width:0.8;\"/>\n   </g>\n   <g id=\"patch_25\">\n    <path d=\"M 20.5625 224.64 \nL 355.3625 224.64 \n\" style=\"fill:none;stroke:#000000;stroke-linecap:square;stroke-linejoin:miter;stroke-width:0.8;\"/>\n   </g>\n   <g id=\"patch_26\">\n    <path d=\"M 20.5625 7.2 \nL 355.3625 7.2 \n\" style=\"fill:none;stroke:#000000;stroke-linecap:square;stroke-linejoin:miter;stroke-width:0.8;\"/>\n   </g>\n   <g id=\"legend_1\">\n    <g id=\"patch_27\">\n     <path d=\"M 310.44375 44.55625 \nL 348.3625 44.55625 \nQ 350.3625 44.55625 350.3625 42.55625 \nL 350.3625 14.2 \nQ 350.3625 12.2 348.3625 12.2 \nL 310.44375 12.2 \nQ 308.44375 12.2 308.44375 14.2 \nL 308.44375 42.55625 \nQ 308.44375 44.55625 310.44375 44.55625 \nz\n\" style=\"fill:#ffffff;opacity:0.8;stroke:#cccccc;stroke-linejoin:miter;\"/>\n    </g>\n    <g id=\"patch_28\">\n     <path d=\"M 312.44375 23.798437 \nL 332.44375 23.798437 \nL 332.44375 16.798437 \nL 312.44375 16.798437 \nz\n\" style=\"fill:#1f77b4;\"/>\n    </g>\n    <g id=\"text_12\">\n     <!-- x -->\n     <g transform=\"translate(340.44375 23.798437)scale(0.1 -0.1)\">\n      <defs>\n       <path d=\"M 54.890625 54.6875 \nL 35.109375 28.078125 \nL 55.90625 0 \nL 45.3125 0 \nL 29.390625 21.484375 \nL 13.484375 0 \nL 2.875 0 \nL 24.125 28.609375 \nL 4.6875 54.6875 \nL 15.28125 54.6875 \nL 29.78125 35.203125 \nL 44.28125 54.6875 \nz\n\" id=\"DejaVuSans-120\"/>\n      </defs>\n      <use xlink:href=\"#DejaVuSans-120\"/>\n     </g>\n    </g>\n    <g id=\"patch_29\">\n     <path d=\"M 312.44375 38.476562 \nL 332.44375 38.476562 \nL 332.44375 31.476562 \nL 312.44375 31.476562 \nz\n\" style=\"fill:#ff7f0e;\"/>\n    </g>\n    <g id=\"text_13\">\n     <!-- y -->\n     <g transform=\"translate(340.44375 38.476562)scale(0.1 -0.1)\">\n      <defs>\n       <path d=\"M 32.171875 -5.078125 \nQ 28.375 -14.84375 24.75 -17.8125 \nQ 21.140625 -20.796875 15.09375 -20.796875 \nL 7.90625 -20.796875 \nL 7.90625 -13.28125 \nL 13.1875 -13.28125 \nQ 16.890625 -13.28125 18.9375 -11.515625 \nQ 21 -9.765625 23.484375 -3.21875 \nL 25.09375 0.875 \nL 2.984375 54.6875 \nL 12.5 54.6875 \nL 29.59375 11.921875 \nL 46.6875 54.6875 \nL 56.203125 54.6875 \nz\n\" id=\"DejaVuSans-121\"/>\n      </defs>\n      <use xlink:href=\"#DejaVuSans-121\"/>\n     </g>\n    </g>\n   </g>\n  </g>\n </g>\n <defs>\n  <clipPath id=\"pf3e440f252\">\n   <rect height=\"217.44\" width=\"334.8\" x=\"20.5625\" y=\"7.2\"/>\n  </clipPath>\n </defs>\n</svg>\n",
      "image/png": "[encoded data removed]"
     },
     "metadata": {
      "needs_background": "light"
     }
    }
   ],
   "source": [
    "(df['x'] - df['_x']).hist(label='x')\n",
    "(df['y'] - df['_y']).hist(label='y')\n",
    "plt.legend()"
   ]
  },
  {
   "cell_type": "code",
   "execution_count": 31,
   "metadata": {},
   "outputs": [
    {
     "output_type": "execute_result",
     "data": {
      "text/plain": [
       "                                                    floor           x  \\\n",
       "site_path_timestamp                                                     \n",
       "5a0546857ecc773753327266_046cfa46be49fc10834815...      0   87.954796   \n",
       "5a0546857ecc773753327266_046cfa46be49fc10834815...      0   84.385881   \n",
       "5a0546857ecc773753327266_046cfa46be49fc10834815...      0   86.240857   \n",
       "5a0546857ecc773753327266_046cfa46be49fc10834815...      0   87.294638   \n",
       "5a0546857ecc773753327266_046cfa46be49fc10834815...      0   85.553254   \n",
       "...                                                   ...         ...   \n",
       "5dc8cea7659e181adb076a3f_fd64de8c4a2fc5ebb0e9f4...      5  213.069046   \n",
       "5dc8cea7659e181adb076a3f_fd64de8c4a2fc5ebb0e9f4...      5  209.983994   \n",
       "5dc8cea7659e181adb076a3f_fd64de8c4a2fc5ebb0e9f4...      5  206.155746   \n",
       "5dc8cea7659e181adb076a3f_fd64de8c4a2fc5ebb0e9f4...      5  202.585222   \n",
       "5dc8cea7659e181adb076a3f_fd64de8c4a2fc5ebb0e9f4...      5  199.881561   \n",
       "\n",
       "                                                             y  \n",
       "site_path_timestamp                                             \n",
       "5a0546857ecc773753327266_046cfa46be49fc10834815...  102.605637  \n",
       "5a0546857ecc773753327266_046cfa46be49fc10834815...  102.048721  \n",
       "5a0546857ecc773753327266_046cfa46be49fc10834815...  104.732017  \n",
       "5a0546857ecc773753327266_046cfa46be49fc10834815...  105.517076  \n",
       "5a0546857ecc773753327266_046cfa46be49fc10834815...  105.793611  \n",
       "...                                                        ...  \n",
       "5dc8cea7659e181adb076a3f_fd64de8c4a2fc5ebb0e9f4...   92.428229  \n",
       "5dc8cea7659e181adb076a3f_fd64de8c4a2fc5ebb0e9f4...   99.197472  \n",
       "5dc8cea7659e181adb076a3f_fd64de8c4a2fc5ebb0e9f4...  104.805096  \n",
       "5dc8cea7659e181adb076a3f_fd64de8c4a2fc5ebb0e9f4...  111.356794  \n",
       "5dc8cea7659e181adb076a3f_fd64de8c4a2fc5ebb0e9f4...  111.624573  \n",
       "\n",
       "[10133 rows x 3 columns]"
      ],
      "text/html": "<div>\n<style scoped>\n    .dataframe tbody tr th:only-of-type {\n        vertical-align: middle;\n    }\n\n    .dataframe tbody tr th {\n        vertical-align: top;\n    }\n\n    .dataframe thead th {\n        text-align: right;\n    }\n</style>\n<table border=\"1\" class=\"dataframe\">\n  <thead>\n    <tr style=\"text-align: right;\">\n      <th></th>\n      <th>floor</th>\n      <th>x</th>\n      <th>y</th>\n    </tr>\n    <tr>\n      <th>site_path_timestamp</th>\n      <th></th>\n      <th></th>\n      <th></th>\n    </tr>\n  </thead>\n  <tbody>\n    <tr>\n      <th>5a0546857ecc773753327266_046cfa46be49fc10834815c6_0000000000009</th>\n      <td>0</td>\n      <td>87.954796</td>\n      <td>102.605637</td>\n    </tr>\n    <tr>\n      <th>5a0546857ecc773753327266_046cfa46be49fc10834815c6_0000000009017</th>\n      <td>0</td>\n      <td>84.385881</td>\n      <td>102.048721</td>\n    </tr>\n    <tr>\n      <th>5a0546857ecc773753327266_046cfa46be49fc10834815c6_0000000015326</th>\n      <td>0</td>\n      <td>86.240857</td>\n      <td>104.732017</td>\n    </tr>\n    <tr>\n      <th>5a0546857ecc773753327266_046cfa46be49fc10834815c6_0000000018763</th>\n      <td>0</td>\n      <td>87.294638</td>\n      <td>105.517076</td>\n    </tr>\n    <tr>\n      <th>5a0546857ecc773753327266_046cfa46be49fc10834815c6_0000000022328</th>\n      <td>0</td>\n      <td>85.553254</td>\n      <td>105.793611</td>\n    </tr>\n    <tr>\n      <th>...</th>\n      <td>...</td>\n      <td>...</td>\n      <td>...</td>\n    </tr>\n    <tr>\n      <th>5dc8cea7659e181adb076a3f_fd64de8c4a2fc5ebb0e9f412_0000000082589</th>\n      <td>5</td>\n      <td>213.069046</td>\n      <td>92.428229</td>\n    </tr>\n    <tr>\n      <th>5dc8cea7659e181adb076a3f_fd64de8c4a2fc5ebb0e9f412_0000000085758</th>\n      <td>5</td>\n      <td>209.983994</td>\n      <td>99.197472</td>\n    </tr>\n    <tr>\n      <th>5dc8cea7659e181adb076a3f_fd64de8c4a2fc5ebb0e9f412_0000000090895</th>\n      <td>5</td>\n      <td>206.155746</td>\n      <td>104.805096</td>\n    </tr>\n    <tr>\n      <th>5dc8cea7659e181adb076a3f_fd64de8c4a2fc5ebb0e9f412_0000000096899</th>\n      <td>5</td>\n      <td>202.585222</td>\n      <td>111.356794</td>\n    </tr>\n    <tr>\n      <th>5dc8cea7659e181adb076a3f_fd64de8c4a2fc5ebb0e9f412_0000000100447</th>\n      <td>5</td>\n      <td>199.881561</td>\n      <td>111.624573</td>\n    </tr>\n  </tbody>\n</table>\n<p>10133 rows × 3 columns</p>\n</div>"
     },
     "metadata": {},
     "execution_count": 31
    }
   ],
   "source": [
    "sub = sub.merge(waypoint_df[['site_path_timestamp', '_x', '_y']], on='site_path_timestamp').set_index('site_path_timestamp')\n",
    "sub = sub.drop(['x','y'], axis=1).rename(columns={'_x':'x', '_y':'y'})\n",
    "sub"
   ]
  },
  {
   "cell_type": "code",
   "execution_count": 32,
   "metadata": {},
   "outputs": [
    {
     "output_type": "error",
     "ename": "ModuleNotFoundError",
     "evalue": "No module named 'pytablewriter'",
     "traceback": [
      "\u001b[0;31m---------------------------------------------------------------------------\u001b[0m",
      "\u001b[0;31mModuleNotFoundError\u001b[0m                       Traceback (most recent call last)",
      "\u001b[0;32m<ipython-input-32-8c4496d9ef92>\u001b[0m in \u001b[0;36m<module>\u001b[0;34m\u001b[0m\n\u001b[1;32m     26\u001b[0m     \u001b[0;32mreturn\u001b[0m \u001b[0mdf_result\u001b[0m\u001b[0;34m\u001b[0m\u001b[0;34m\u001b[0m\u001b[0m\n\u001b[1;32m     27\u001b[0m \u001b[0;34m\u001b[0m\u001b[0m\n\u001b[0;32m---> 28\u001b[0;31m \u001b[0;32mimport\u001b[0m \u001b[0mpytablewriter\u001b[0m\u001b[0;34m\u001b[0m\u001b[0;34m\u001b[0m\u001b[0m\n\u001b[0m\u001b[1;32m     29\u001b[0m \u001b[0;32mdef\u001b[0m \u001b[0msite_eval_report\u001b[0m\u001b[0;34m(\u001b[0m\u001b[0mdf_result_site\u001b[0m\u001b[0;34m)\u001b[0m\u001b[0;34m:\u001b[0m\u001b[0;34m\u001b[0m\u001b[0;34m\u001b[0m\u001b[0m\n\u001b[1;32m     30\u001b[0m     \u001b[0mdf_result_site\u001b[0m\u001b[0;34m.\u001b[0m\u001b[0minsert\u001b[0m\u001b[0;34m(\u001b[0m\u001b[0mloc\u001b[0m\u001b[0;34m=\u001b[0m\u001b[0;36m0\u001b[0m\u001b[0;34m,\u001b[0m \u001b[0mcolumn\u001b[0m\u001b[0;34m=\u001b[0m\u001b[0;34m'No'\u001b[0m\u001b[0;34m,\u001b[0m \u001b[0mvalue\u001b[0m\u001b[0;34m=\u001b[0m\u001b[0mdf_result_site\u001b[0m\u001b[0;34m.\u001b[0m\u001b[0mindex\u001b[0m\u001b[0;34m)\u001b[0m\u001b[0;34m\u001b[0m\u001b[0;34m\u001b[0m\u001b[0m\n",
      "\u001b[0;31mModuleNotFoundError\u001b[0m: No module named 'pytablewriter'"
     ]
    }
   ],
   "source": [
    "def calc_metrics_site(x_pred, y_pred, f_pred, x_true, y_true, f_true, site_arr):\n",
    "    '''\n",
    "    site_arrは、intじゃなくて、\"B1\", \"F2\"みたいな感じで入力\n",
    "    site_arr = le_site.inverse_transform(df_train.site_id)\n",
    "    '''\n",
    "    site_arr = np.asarray(site_arr)\n",
    "    site_unique = sorted(np.unique(site_arr))\n",
    "    score_list = []\n",
    "    n_sample = []\n",
    "    for site in site_unique:\n",
    "        logics = site_arr == site\n",
    "        x_pred_, y_pred_, f_pred_ = x_pred[logics], y_pred[logics], f_pred[logics]\n",
    "        x_true_, y_true_, f_true_, = x_true[logics], y_true[logics], f_true[logics]\n",
    "        len_x = len(x_pred_)\n",
    "        \n",
    "        intermediate = np.sqrt(np.power(x_pred_-x_true_, 2) + np.power(y_pred_-y_true_, 2)) + 15 * np.abs(f_pred_-f_true_)\n",
    "        \n",
    "        score_list.append(intermediate.sum()/len_x)\n",
    "        n_sample.append(len_x)\n",
    "    \n",
    "    df_result = pd.DataFrame({\n",
    "        'site': site_unique,\n",
    "        'n_sample': n_sample,\n",
    "        'score': score_list,\n",
    "    })\n",
    "    return df_result\n",
    "\n",
    "import pytablewriter\n",
    "def site_eval_report(df_result_site):\n",
    "    df_result_site.insert(loc=0, column='No', value=df_result_site.index)\n",
    "    writer = pytablewriter.MarkdownTableWriter()\n",
    "    writer.from_dataframe(df_result_site)\n",
    "    writer.write_table()"
   ]
  },
  {
   "cell_type": "code",
   "execution_count": null,
   "metadata": {},
   "outputs": [],
   "source": [
    "# x_pred = oofs_df[\"oof_x\"]\n",
    "# y_pred = oofs_df[\"oof_y\"]\n",
    "# f_pred = oofs_df[\"floor\"]  # 正解を与える\n",
    "# x_true = oofs_df[\"wifi_x\"]\n",
    "# y_true = oofs_df[\"wifi_y\"]\n",
    "# f_true = oofs_df[\"floor\"]\n",
    "# site_arr = oofs_df[\"site_id_str\"]\n",
    "# df_result_site1 = calc_metrics_site(x_pred, y_pred, f_pred, x_true, y_true, f_true, site_arr)\n",
    "# df_result_site1.style.bar(subset=['n_sample', 'score'], color=['teal'])"
   ]
  },
  {
   "cell_type": "code",
   "execution_count": null,
   "metadata": {},
   "outputs": [],
   "source": [
    "# site_eval_report(df_result_site1)"
   ]
  },
  {
   "cell_type": "code",
   "execution_count": null,
   "metadata": {},
   "outputs": [],
   "source": [
    "# sub.to_csv(EXP_NAME + '_sub.csv')"
   ]
  },
  {
   "source": [
    "## 後処理"
   ],
   "cell_type": "markdown",
   "metadata": {}
  },
  {
   "source": [
    "## cost minimaization"
   ],
   "cell_type": "markdown",
   "metadata": {}
  },
  {
   "cell_type": "code",
   "execution_count": 37,
   "metadata": {},
   "outputs": [],
   "source": [
    "import multiprocessing\n",
    "import scipy.interpolate\n",
    "import scipy.sparse\n",
    "from tqdm import tqdm\n",
    "import sys\n",
    "sys.path.append('../../')\n",
    "from src.io_f import read_data_file\n",
    "from src import compute_f"
   ]
  },
  {
   "cell_type": "code",
   "execution_count": 38,
   "metadata": {},
   "outputs": [],
   "source": [
    "def compute_rel_positions(acce_datas, ahrs_datas):\n",
    "    step_timestamps, step_indexs, step_acce_max_mins = compute_f.compute_steps(acce_datas)\n",
    "    headings = compute_f.compute_headings(ahrs_datas)\n",
    "    stride_lengths = compute_f.compute_stride_length(step_acce_max_mins)\n",
    "    step_headings = compute_f.compute_step_heading(step_timestamps, headings)\n",
    "    rel_positions = compute_f.compute_rel_positions(stride_lengths, step_headings)\n",
    "    return rel_positions\n",
    "    \n",
    "def correct_path(args):\n",
    "    path, path_df = args\n",
    "    \n",
    "    T_ref  = path_df['timestamp'].values\n",
    "    xy_hat = path_df[['x', 'y']].values\n",
    "    \n",
    "    example = read_data_file(f'{root_dir}/indoor-location-navigation/test/{path}.txt')\n",
    "    rel_positions = compute_rel_positions(example.acce, example.ahrs)\n",
    "    if T_ref[-1] > rel_positions[-1, 0]:\n",
    "        rel_positions = [np.array([[0, 0, 0]]), rel_positions, np.array([[T_ref[-1], 0, 0]])]\n",
    "    else:\n",
    "        rel_positions = [np.array([[0, 0, 0]]), rel_positions]\n",
    "    rel_positions = np.concatenate(rel_positions)\n",
    "    \n",
    "    T_rel = rel_positions[:, 0]\n",
    "    delta_xy_hat = np.diff(scipy.interpolate.interp1d(T_rel, np.cumsum(rel_positions[:, 1:3], axis=0), axis=0)(T_ref), axis=0)\n",
    "\n",
    "    N = xy_hat.shape[0]\n",
    "    delta_t = np.diff(T_ref)\n",
    "    alpha = (8.1)**(-2) * np.ones(N)\n",
    "    beta  = (0.3 + 0.3 * 1e-3 * delta_t)**(-2)\n",
    "    A = scipy.sparse.spdiags(alpha, [0], N, N)\n",
    "    B = scipy.sparse.spdiags( beta, [0], N-1, N-1)\n",
    "    D = scipy.sparse.spdiags(np.stack([-np.ones(N), np.ones(N)]), [0, 1], N-1, N)\n",
    "\n",
    "    Q = A + (D.T @ B @ D)\n",
    "    c = (A @ xy_hat) + (D.T @ (B @ delta_xy_hat))\n",
    "    xy_star = scipy.sparse.linalg.spsolve(Q, c)\n",
    "\n",
    "    return pd.DataFrame({\n",
    "        'site_path_timestamp' : path_df['site_path_timestamp'],\n",
    "        'floor' : path_df['floor'],\n",
    "        'x' : xy_star[:, 0],\n",
    "        'y' : xy_star[:, 1],\n",
    "    })\n",
    "\n",
    "def correct_path_train(args):\n",
    "    #print(args)\n",
    "    (site_id, path, floor), path_df = args\n",
    "    \n",
    "    T_ref  = path_df['timestamp'].values\n",
    "    xy_hat = path_df[['x', 'y']].values\n",
    "    \n",
    "    example = read_data_file(f'{root_dir}/indoor-location-navigation/train/{site_id}/{floor}/{path}.txt')\n",
    "    rel_positions = compute_rel_positions(example.acce, example.ahrs)\n",
    "    if T_ref[-1] > rel_positions[-1, 0]:\n",
    "        rel_positions = [np.array([[0, 0, 0]]), rel_positions, np.array([[T_ref[-1], 0, 0]])]\n",
    "    else:\n",
    "        rel_positions = [np.array([[0, 0, 0]]), rel_positions]\n",
    "    rel_positions = np.concatenate(rel_positions)\n",
    "    \n",
    "    T_rel = rel_positions[:, 0]\n",
    "\n",
    "    try:\n",
    "        delta_xy_hat = np.diff(scipy.interpolate.interp1d(T_rel, np.cumsum(rel_positions[:, 1:3], axis=0), axis=0)(T_ref), axis=0)\n",
    "    except:\n",
    "        return pd.DataFrame({\n",
    "            'site_path_timestamp' : path_df['site_path_timestamp'],\n",
    "            'floor' : path_df['floor'],\n",
    "            'x' : path_df['x'].to_numpy(),\n",
    "            'y' : path_df['y'].to_numpy()\n",
    "        })\n",
    "    \n",
    "\n",
    "    N = xy_hat.shape[0]\n",
    "    delta_t = np.diff(T_ref)\n",
    "    alpha = (8.1)**(-2) * np.ones(N)\n",
    "    beta  = (0.3 + 0.3 * 1e-3 * delta_t)**(-2)\n",
    "    A = scipy.sparse.spdiags(alpha, [0], N, N)\n",
    "    B = scipy.sparse.spdiags( beta, [0], N-1, N-1)\n",
    "    D = scipy.sparse.spdiags(np.stack([-np.ones(N), np.ones(N)]), [0, 1], N-1, N)\n",
    "\n",
    "    Q = A + (D.T @ B @ D)\n",
    "    c = (A @ xy_hat) + (D.T @ (B @ delta_xy_hat))\n",
    "    xy_star = scipy.sparse.linalg.spsolve(Q, c)\n",
    "\n",
    "\n",
    "    return pd.DataFrame({\n",
    "        'site_path_timestamp' : path_df['site_path_timestamp'],\n",
    "        'floor' : path_df['floor'],\n",
    "        'x' : xy_star[:, 0],\n",
    "        'y' : xy_star[:, 1],\n",
    "    })"
   ]
  },
  {
   "cell_type": "code",
   "execution_count": 39,
   "metadata": {},
   "outputs": [
    {
     "output_type": "stream",
     "name": "stderr",
     "text": [
      "10852it [03:41, 49.07it/s]\n",
      "CPU times: user 41.4 s, sys: 7.88 s, total: 49.2 s\n",
      "Wall time: 3min 43s\n"
     ]
    },
    {
     "output_type": "execute_result",
     "data": {
      "text/plain": [
       "            timestamp   target_x    target_y  site_id  \\\n",
       "0       1561368762838   78.21819   38.999737        0   \n",
       "1       1561368762838   78.21819   38.999737        0   \n",
       "2       1561368774057   76.25184   30.510840        0   \n",
       "3       1561368774057   76.25184   30.510840        0   \n",
       "4       1561368774057   76.25184   30.510840        0   \n",
       "...               ...        ...         ...      ...   \n",
       "258120  1574420742502  193.20488  108.001520       23   \n",
       "258121  1574420742502  193.20488  108.001520       23   \n",
       "258122  1574420753754  204.29349  107.835120       23   \n",
       "258123  1574420753754  204.29349  107.835120       23   \n",
       "258124  1574420753754  204.29349  107.835120       23   \n",
       "\n",
       "                     site_id_str      wifi_x      wifi_y  floor floor_str  \\\n",
       "0       5a0546857ecc773753327266   77.890465   37.584921      2        F3   \n",
       "1       5a0546857ecc773753327266   77.562740   36.170105      2        F3   \n",
       "2       5a0546857ecc773753327266   77.235015   34.755289      2        F3   \n",
       "3       5a0546857ecc773753327266   77.202679   21.519628      2        F3   \n",
       "4       5a0546857ecc773753327266   76.991381   23.517675      2        F3   \n",
       "...                          ...         ...         ...    ...       ...   \n",
       "258120  5dc8cea7659e181adb076a3f  197.825134  107.932187     -1        B1   \n",
       "258121  5dc8cea7659e181adb076a3f  194.128931  107.987653     -1        B1   \n",
       "258122  5dc8cea7659e181adb076a3f  199.673236  107.904453     -1        B1   \n",
       "258123  5dc8cea7659e181adb076a3f  201.521337  107.876720     -1        B1   \n",
       "258124  5dc8cea7659e181adb076a3f  203.369439  107.848987     -1        B1   \n",
       "\n",
       "                            path  time_diff       oof_x       oof_y  \\\n",
       "0       5d10a1669c50c70008fe8977       1969   84.865143   39.419571   \n",
       "1       5d10a1669c50c70008fe8977       3966   87.870216   33.456242   \n",
       "2       5d10a1669c50c70008fe8977      -5250   82.229469   30.581415   \n",
       "3       5d10a1669c50c70008fe8977       8838   82.887291   28.168413   \n",
       "4       5d10a1669c50c70008fe8977       6812   80.341606   22.184681   \n",
       "...                          ...        ...         ...         ...   \n",
       "258120  5dd7c119c5b77e0006b16b99       4790  199.136230  104.263153   \n",
       "258121  5dd7c119c5b77e0006b16b99       1006  201.388168  103.995300   \n",
       "258122  5dd7c119c5b77e0006b16b99      -4550  199.976761  103.671677   \n",
       "258123  5dd7c119c5b77e0006b16b99      -2662  201.535706  104.701302   \n",
       "258124  5dd7c119c5b77e0006b16b99       -756  203.893616  102.690857   \n",
       "\n",
       "        oof_floor                                site_path_timestamp  \\\n",
       "0        0.207957  5a0546857ecc773753327266_5d10a1669c50c70008fe8...   \n",
       "1        0.206626  5a0546857ecc773753327266_5d10a1669c50c70008fe8...   \n",
       "2        0.211186  5a0546857ecc773753327266_5d10a1669c50c70008fe8...   \n",
       "3        0.208902  5a0546857ecc773753327266_5d10a1669c50c70008fe8...   \n",
       "4        0.212189  5a0546857ecc773753327266_5d10a1669c50c70008fe8...   \n",
       "...           ...                                                ...   \n",
       "258120   0.000000  5dc8cea7659e181adb076a3f_5dd7c119c5b77e0006b16...   \n",
       "258121   0.000000  5dc8cea7659e181adb076a3f_5dd7c119c5b77e0006b16...   \n",
       "258122   0.000000  5dc8cea7659e181adb076a3f_5dd7c119c5b77e0006b16...   \n",
       "258123   0.000000  5dc8cea7659e181adb076a3f_5dd7c119c5b77e0006b16...   \n",
       "258124   0.000000  5dc8cea7659e181adb076a3f_5dd7c119c5b77e0006b16...   \n",
       "\n",
       "         oof_min_x   oof_min_y  \n",
       "0        84.193822   35.990409  \n",
       "1        84.192901   35.985705  \n",
       "2        83.453731   27.580249  \n",
       "3        83.449445   27.574898  \n",
       "4        83.445930   27.568733  \n",
       "...            ...         ...  \n",
       "258120  199.920868  103.909185  \n",
       "258121  199.902156  103.904538  \n",
       "258122  206.853274  104.850549  \n",
       "258123  206.841957  104.847394  \n",
       "258124  206.837918  104.844440  \n",
       "\n",
       "[258125 rows x 17 columns]"
      ],
      "text/html": "<div>\n<style scoped>\n    .dataframe tbody tr th:only-of-type {\n        vertical-align: middle;\n    }\n\n    .dataframe tbody tr th {\n        vertical-align: top;\n    }\n\n    .dataframe thead th {\n        text-align: right;\n    }\n</style>\n<table border=\"1\" class=\"dataframe\">\n  <thead>\n    <tr style=\"text-align: right;\">\n      <th></th>\n      <th>timestamp</th>\n      <th>target_x</th>\n      <th>target_y</th>\n      <th>site_id</th>\n      <th>site_id_str</th>\n      <th>wifi_x</th>\n      <th>wifi_y</th>\n      <th>floor</th>\n      <th>floor_str</th>\n      <th>path</th>\n      <th>time_diff</th>\n      <th>oof_x</th>\n      <th>oof_y</th>\n      <th>oof_floor</th>\n      <th>site_path_timestamp</th>\n      <th>oof_min_x</th>\n      <th>oof_min_y</th>\n    </tr>\n  </thead>\n  <tbody>\n    <tr>\n      <th>0</th>\n      <td>1561368762838</td>\n      <td>78.21819</td>\n      <td>38.999737</td>\n      <td>0</td>\n      <td>5a0546857ecc773753327266</td>\n      <td>77.890465</td>\n      <td>37.584921</td>\n      <td>2</td>\n      <td>F3</td>\n      <td>5d10a1669c50c70008fe8977</td>\n      <td>1969</td>\n      <td>84.865143</td>\n      <td>39.419571</td>\n      <td>0.207957</td>\n      <td>5a0546857ecc773753327266_5d10a1669c50c70008fe8...</td>\n      <td>84.193822</td>\n      <td>35.990409</td>\n    </tr>\n    <tr>\n      <th>1</th>\n      <td>1561368762838</td>\n      <td>78.21819</td>\n      <td>38.999737</td>\n      <td>0</td>\n      <td>5a0546857ecc773753327266</td>\n      <td>77.562740</td>\n      <td>36.170105</td>\n      <td>2</td>\n      <td>F3</td>\n      <td>5d10a1669c50c70008fe8977</td>\n      <td>3966</td>\n      <td>87.870216</td>\n      <td>33.456242</td>\n      <td>0.206626</td>\n      <td>5a0546857ecc773753327266_5d10a1669c50c70008fe8...</td>\n      <td>84.192901</td>\n      <td>35.985705</td>\n    </tr>\n    <tr>\n      <th>2</th>\n      <td>1561368774057</td>\n      <td>76.25184</td>\n      <td>30.510840</td>\n      <td>0</td>\n      <td>5a0546857ecc773753327266</td>\n      <td>77.235015</td>\n      <td>34.755289</td>\n      <td>2</td>\n      <td>F3</td>\n      <td>5d10a1669c50c70008fe8977</td>\n      <td>-5250</td>\n      <td>82.229469</td>\n      <td>30.581415</td>\n      <td>0.211186</td>\n      <td>5a0546857ecc773753327266_5d10a1669c50c70008fe8...</td>\n      <td>83.453731</td>\n      <td>27.580249</td>\n    </tr>\n    <tr>\n      <th>3</th>\n      <td>1561368774057</td>\n      <td>76.25184</td>\n      <td>30.510840</td>\n      <td>0</td>\n      <td>5a0546857ecc773753327266</td>\n      <td>77.202679</td>\n      <td>21.519628</td>\n      <td>2</td>\n      <td>F3</td>\n      <td>5d10a1669c50c70008fe8977</td>\n      <td>8838</td>\n      <td>82.887291</td>\n      <td>28.168413</td>\n      <td>0.208902</td>\n      <td>5a0546857ecc773753327266_5d10a1669c50c70008fe8...</td>\n      <td>83.449445</td>\n      <td>27.574898</td>\n    </tr>\n    <tr>\n      <th>4</th>\n      <td>1561368774057</td>\n      <td>76.25184</td>\n      <td>30.510840</td>\n      <td>0</td>\n      <td>5a0546857ecc773753327266</td>\n      <td>76.991381</td>\n      <td>23.517675</td>\n      <td>2</td>\n      <td>F3</td>\n      <td>5d10a1669c50c70008fe8977</td>\n      <td>6812</td>\n      <td>80.341606</td>\n      <td>22.184681</td>\n      <td>0.212189</td>\n      <td>5a0546857ecc773753327266_5d10a1669c50c70008fe8...</td>\n      <td>83.445930</td>\n      <td>27.568733</td>\n    </tr>\n    <tr>\n      <th>...</th>\n      <td>...</td>\n      <td>...</td>\n      <td>...</td>\n      <td>...</td>\n      <td>...</td>\n      <td>...</td>\n      <td>...</td>\n      <td>...</td>\n      <td>...</td>\n      <td>...</td>\n      <td>...</td>\n      <td>...</td>\n      <td>...</td>\n      <td>...</td>\n      <td>...</td>\n      <td>...</td>\n      <td>...</td>\n    </tr>\n    <tr>\n      <th>258120</th>\n      <td>1574420742502</td>\n      <td>193.20488</td>\n      <td>108.001520</td>\n      <td>23</td>\n      <td>5dc8cea7659e181adb076a3f</td>\n      <td>197.825134</td>\n      <td>107.932187</td>\n      <td>-1</td>\n      <td>B1</td>\n      <td>5dd7c119c5b77e0006b16b99</td>\n      <td>4790</td>\n      <td>199.136230</td>\n      <td>104.263153</td>\n      <td>0.000000</td>\n      <td>5dc8cea7659e181adb076a3f_5dd7c119c5b77e0006b16...</td>\n      <td>199.920868</td>\n      <td>103.909185</td>\n    </tr>\n    <tr>\n      <th>258121</th>\n      <td>1574420742502</td>\n      <td>193.20488</td>\n      <td>108.001520</td>\n      <td>23</td>\n      <td>5dc8cea7659e181adb076a3f</td>\n      <td>194.128931</td>\n      <td>107.987653</td>\n      <td>-1</td>\n      <td>B1</td>\n      <td>5dd7c119c5b77e0006b16b99</td>\n      <td>1006</td>\n      <td>201.388168</td>\n      <td>103.995300</td>\n      <td>0.000000</td>\n      <td>5dc8cea7659e181adb076a3f_5dd7c119c5b77e0006b16...</td>\n      <td>199.902156</td>\n      <td>103.904538</td>\n    </tr>\n    <tr>\n      <th>258122</th>\n      <td>1574420753754</td>\n      <td>204.29349</td>\n      <td>107.835120</td>\n      <td>23</td>\n      <td>5dc8cea7659e181adb076a3f</td>\n      <td>199.673236</td>\n      <td>107.904453</td>\n      <td>-1</td>\n      <td>B1</td>\n      <td>5dd7c119c5b77e0006b16b99</td>\n      <td>-4550</td>\n      <td>199.976761</td>\n      <td>103.671677</td>\n      <td>0.000000</td>\n      <td>5dc8cea7659e181adb076a3f_5dd7c119c5b77e0006b16...</td>\n      <td>206.853274</td>\n      <td>104.850549</td>\n    </tr>\n    <tr>\n      <th>258123</th>\n      <td>1574420753754</td>\n      <td>204.29349</td>\n      <td>107.835120</td>\n      <td>23</td>\n      <td>5dc8cea7659e181adb076a3f</td>\n      <td>201.521337</td>\n      <td>107.876720</td>\n      <td>-1</td>\n      <td>B1</td>\n      <td>5dd7c119c5b77e0006b16b99</td>\n      <td>-2662</td>\n      <td>201.535706</td>\n      <td>104.701302</td>\n      <td>0.000000</td>\n      <td>5dc8cea7659e181adb076a3f_5dd7c119c5b77e0006b16...</td>\n      <td>206.841957</td>\n      <td>104.847394</td>\n    </tr>\n    <tr>\n      <th>258124</th>\n      <td>1574420753754</td>\n      <td>204.29349</td>\n      <td>107.835120</td>\n      <td>23</td>\n      <td>5dc8cea7659e181adb076a3f</td>\n      <td>203.369439</td>\n      <td>107.848987</td>\n      <td>-1</td>\n      <td>B1</td>\n      <td>5dd7c119c5b77e0006b16b99</td>\n      <td>-756</td>\n      <td>203.893616</td>\n      <td>102.690857</td>\n      <td>0.000000</td>\n      <td>5dc8cea7659e181adb076a3f_5dd7c119c5b77e0006b16...</td>\n      <td>206.837918</td>\n      <td>104.844440</td>\n    </tr>\n  </tbody>\n</table>\n<p>258125 rows × 17 columns</p>\n</div>"
     },
     "metadata": {},
     "execution_count": 39
    }
   ],
   "source": [
    "%%time\n",
    "\n",
    "oofs_df = oofs_df.rename(columns={'x':'target_x', 'y':'target_y', 'oof_x':'x', 'oof_y':'y'})\n",
    "processes = multiprocessing.cpu_count()\n",
    "with multiprocessing.Pool(processes=processes) as pool:\n",
    "    dfs = pool.imap_unordered(correct_path_train, oofs_df.groupby(['site_id_str', 'path', 'floor_str']))\n",
    "    dfs = tqdm(dfs)\n",
    "    dfs = list(dfs)\n",
    "\n",
    "oof_post_process = pd.concat(dfs).sort_index()\n",
    "oofs_df['oof_min_x'] = oof_post_process['x']\n",
    "oofs_df['oof_min_y'] = oof_post_process['y']\n",
    "\n",
    "# 元に戻す\n",
    "oofs_df = oofs_df.rename(columns={'x':'oof_x', 'y':'oof_y'})\n",
    "oofs_df"
   ]
  },
  {
   "cell_type": "code",
   "execution_count": 40,
   "metadata": {},
   "outputs": [
    {
     "output_type": "stream",
     "name": "stdout",
     "text": [
      "(after cost-min) CV:6.61377772845071\n"
     ]
    }
   ],
   "source": [
    "# waypoint補正前のx,yでの評価\n",
    "oof_score_post_process = mean_position_error(\n",
    "    oofs_df['oof_min_x'], oofs_df['oof_min_y'], 0, \n",
    "    oofs_df['target_x'], oofs_df['target_y'], 0\n",
    "    )\n",
    "print(f\"(after cost-min) CV:{oof_score_post_process}\")"
   ]
  },
  {
   "cell_type": "code",
   "execution_count": 41,
   "metadata": {},
   "outputs": [
    {
     "output_type": "stream",
     "name": "stdout",
     "text": [
      "(after cost-min) CV:6.7656484854949746\n"
     ]
    }
   ],
   "source": [
    "# waypoint補正後のx,yでの評価\n",
    "oof_score_post_process = mean_position_error(\n",
    "    oofs_df['oof_min_x'], oofs_df['oof_min_y'], 0, \n",
    "    oofs_df['wifi_x'], oofs_df['wifi_y'], 0\n",
    "    )\n",
    "print(f\"(after cost-min) CV:{oof_score_post_process}\")"
   ]
  },
  {
   "cell_type": "code",
   "execution_count": 42,
   "metadata": {},
   "outputs": [],
   "source": [
    "# x_pred = oofs_df[\"oof_min_x\"]\n",
    "# y_pred = oofs_df[\"oof_min_y\"]\n",
    "# f_pred = oofs_df[\"floor\"]  # 正解を与える\n",
    "# x_true = oofs_df[\"wifi_x\"]\n",
    "# y_true = oofs_df[\"wifi_y\"]\n",
    "# f_true = oofs_df[\"floor\"]\n",
    "# site_arr = oofs_df[\"site_id_str\"]\n",
    "# df_result_site2 = calc_metrics_site(x_pred, y_pred, f_pred, x_true, y_true, f_true, site_arr)\n",
    "# df_result_site2.style.bar(subset=['n_sample', 'score'], color=['teal'])"
   ]
  },
  {
   "cell_type": "code",
   "execution_count": 43,
   "metadata": {},
   "outputs": [],
   "source": [
    "# site_eval_report(df_result_site2)"
   ]
  },
  {
   "cell_type": "code",
   "execution_count": 44,
   "metadata": {},
   "outputs": [
    {
     "output_type": "execute_result",
     "data": {
      "text/plain": [
       "                                     site_path_timestamp  floor           x  \\\n",
       "0      5a0546857ecc773753327266_046cfa46be49fc1083481...      0   87.954796   \n",
       "1      5a0546857ecc773753327266_046cfa46be49fc1083481...      0   84.385881   \n",
       "2      5a0546857ecc773753327266_046cfa46be49fc1083481...      0   86.240857   \n",
       "3      5a0546857ecc773753327266_046cfa46be49fc1083481...      0   87.294638   \n",
       "4      5a0546857ecc773753327266_046cfa46be49fc1083481...      0   85.553254   \n",
       "...                                                  ...    ...         ...   \n",
       "10128  5dc8cea7659e181adb076a3f_fd64de8c4a2fc5ebb0e9f...      5  213.069046   \n",
       "10129  5dc8cea7659e181adb076a3f_fd64de8c4a2fc5ebb0e9f...      5  209.983994   \n",
       "10130  5dc8cea7659e181adb076a3f_fd64de8c4a2fc5ebb0e9f...      5  206.155746   \n",
       "10131  5dc8cea7659e181adb076a3f_fd64de8c4a2fc5ebb0e9f...      5  202.585222   \n",
       "10132  5dc8cea7659e181adb076a3f_fd64de8c4a2fc5ebb0e9f...      5  199.881561   \n",
       "\n",
       "                y                      site                      path  \\\n",
       "0      102.605637  5a0546857ecc773753327266  046cfa46be49fc10834815c6   \n",
       "1      102.048721  5a0546857ecc773753327266  046cfa46be49fc10834815c6   \n",
       "2      104.732017  5a0546857ecc773753327266  046cfa46be49fc10834815c6   \n",
       "3      105.517076  5a0546857ecc773753327266  046cfa46be49fc10834815c6   \n",
       "4      105.793611  5a0546857ecc773753327266  046cfa46be49fc10834815c6   \n",
       "...           ...                       ...                       ...   \n",
       "10128   92.428229  5dc8cea7659e181adb076a3f  fd64de8c4a2fc5ebb0e9f412   \n",
       "10129   99.197472  5dc8cea7659e181adb076a3f  fd64de8c4a2fc5ebb0e9f412   \n",
       "10130  104.805096  5dc8cea7659e181adb076a3f  fd64de8c4a2fc5ebb0e9f412   \n",
       "10131  111.356794  5dc8cea7659e181adb076a3f  fd64de8c4a2fc5ebb0e9f412   \n",
       "10132  111.624573  5dc8cea7659e181adb076a3f  fd64de8c4a2fc5ebb0e9f412   \n",
       "\n",
       "       timestamp  \n",
       "0            9.0  \n",
       "1         9017.0  \n",
       "2        15326.0  \n",
       "3        18763.0  \n",
       "4        22328.0  \n",
       "...          ...  \n",
       "10128    82589.0  \n",
       "10129    85758.0  \n",
       "10130    90895.0  \n",
       "10131    96899.0  \n",
       "10132   100447.0  \n",
       "\n",
       "[10133 rows x 7 columns]"
      ],
      "text/html": "<div>\n<style scoped>\n    .dataframe tbody tr th:only-of-type {\n        vertical-align: middle;\n    }\n\n    .dataframe tbody tr th {\n        vertical-align: top;\n    }\n\n    .dataframe thead th {\n        text-align: right;\n    }\n</style>\n<table border=\"1\" class=\"dataframe\">\n  <thead>\n    <tr style=\"text-align: right;\">\n      <th></th>\n      <th>site_path_timestamp</th>\n      <th>floor</th>\n      <th>x</th>\n      <th>y</th>\n      <th>site</th>\n      <th>path</th>\n      <th>timestamp</th>\n    </tr>\n  </thead>\n  <tbody>\n    <tr>\n      <th>0</th>\n      <td>5a0546857ecc773753327266_046cfa46be49fc1083481...</td>\n      <td>0</td>\n      <td>87.954796</td>\n      <td>102.605637</td>\n      <td>5a0546857ecc773753327266</td>\n      <td>046cfa46be49fc10834815c6</td>\n      <td>9.0</td>\n    </tr>\n    <tr>\n      <th>1</th>\n      <td>5a0546857ecc773753327266_046cfa46be49fc1083481...</td>\n      <td>0</td>\n      <td>84.385881</td>\n      <td>102.048721</td>\n      <td>5a0546857ecc773753327266</td>\n      <td>046cfa46be49fc10834815c6</td>\n      <td>9017.0</td>\n    </tr>\n    <tr>\n      <th>2</th>\n      <td>5a0546857ecc773753327266_046cfa46be49fc1083481...</td>\n      <td>0</td>\n      <td>86.240857</td>\n      <td>104.732017</td>\n      <td>5a0546857ecc773753327266</td>\n      <td>046cfa46be49fc10834815c6</td>\n      <td>15326.0</td>\n    </tr>\n    <tr>\n      <th>3</th>\n      <td>5a0546857ecc773753327266_046cfa46be49fc1083481...</td>\n      <td>0</td>\n      <td>87.294638</td>\n      <td>105.517076</td>\n      <td>5a0546857ecc773753327266</td>\n      <td>046cfa46be49fc10834815c6</td>\n      <td>18763.0</td>\n    </tr>\n    <tr>\n      <th>4</th>\n      <td>5a0546857ecc773753327266_046cfa46be49fc1083481...</td>\n      <td>0</td>\n      <td>85.553254</td>\n      <td>105.793611</td>\n      <td>5a0546857ecc773753327266</td>\n      <td>046cfa46be49fc10834815c6</td>\n      <td>22328.0</td>\n    </tr>\n    <tr>\n      <th>...</th>\n      <td>...</td>\n      <td>...</td>\n      <td>...</td>\n      <td>...</td>\n      <td>...</td>\n      <td>...</td>\n      <td>...</td>\n    </tr>\n    <tr>\n      <th>10128</th>\n      <td>5dc8cea7659e181adb076a3f_fd64de8c4a2fc5ebb0e9f...</td>\n      <td>5</td>\n      <td>213.069046</td>\n      <td>92.428229</td>\n      <td>5dc8cea7659e181adb076a3f</td>\n      <td>fd64de8c4a2fc5ebb0e9f412</td>\n      <td>82589.0</td>\n    </tr>\n    <tr>\n      <th>10129</th>\n      <td>5dc8cea7659e181adb076a3f_fd64de8c4a2fc5ebb0e9f...</td>\n      <td>5</td>\n      <td>209.983994</td>\n      <td>99.197472</td>\n      <td>5dc8cea7659e181adb076a3f</td>\n      <td>fd64de8c4a2fc5ebb0e9f412</td>\n      <td>85758.0</td>\n    </tr>\n    <tr>\n      <th>10130</th>\n      <td>5dc8cea7659e181adb076a3f_fd64de8c4a2fc5ebb0e9f...</td>\n      <td>5</td>\n      <td>206.155746</td>\n      <td>104.805096</td>\n      <td>5dc8cea7659e181adb076a3f</td>\n      <td>fd64de8c4a2fc5ebb0e9f412</td>\n      <td>90895.0</td>\n    </tr>\n    <tr>\n      <th>10131</th>\n      <td>5dc8cea7659e181adb076a3f_fd64de8c4a2fc5ebb0e9f...</td>\n      <td>5</td>\n      <td>202.585222</td>\n      <td>111.356794</td>\n      <td>5dc8cea7659e181adb076a3f</td>\n      <td>fd64de8c4a2fc5ebb0e9f412</td>\n      <td>96899.0</td>\n    </tr>\n    <tr>\n      <th>10132</th>\n      <td>5dc8cea7659e181adb076a3f_fd64de8c4a2fc5ebb0e9f...</td>\n      <td>5</td>\n      <td>199.881561</td>\n      <td>111.624573</td>\n      <td>5dc8cea7659e181adb076a3f</td>\n      <td>fd64de8c4a2fc5ebb0e9f412</td>\n      <td>100447.0</td>\n    </tr>\n  </tbody>\n</table>\n<p>10133 rows × 7 columns</p>\n</div>"
     },
     "metadata": {},
     "execution_count": 44
    }
   ],
   "source": [
    "sub = sub.reset_index()\n",
    "sub_org = sub.copy()\n",
    "tmp = sub['site_path_timestamp'].apply(lambda s : pd.Series(s.split('_')))\n",
    "sub['site'] = tmp[0]\n",
    "sub['path'] = tmp[1]\n",
    "sub['timestamp'] = tmp[2].astype(float)\n",
    "sub"
   ]
  },
  {
   "cell_type": "code",
   "execution_count": 45,
   "metadata": {},
   "outputs": [
    {
     "output_type": "stream",
     "name": "stderr",
     "text": [
      "626it [00:32, 19.06it/s]\n"
     ]
    },
    {
     "output_type": "execute_result",
     "data": {
      "text/plain": [
       "                                     site_path_timestamp  floor           x  \\\n",
       "0      5a0546857ecc773753327266_046cfa46be49fc1083481...      0   91.278845   \n",
       "1      5a0546857ecc773753327266_046cfa46be49fc1083481...      0   81.812221   \n",
       "2      5a0546857ecc773753327266_046cfa46be49fc1083481...      0   83.975687   \n",
       "3      5a0546857ecc773753327266_046cfa46be49fc1083481...      0   85.254162   \n",
       "4      5a0546857ecc773753327266_046cfa46be49fc1083481...      0   85.688718   \n",
       "...                                                  ...    ...         ...   \n",
       "10128  5dc8cea7659e181adb076a3f_fd64de8c4a2fc5ebb0e9f...      5  210.297777   \n",
       "10129  5dc8cea7659e181adb076a3f_fd64de8c4a2fc5ebb0e9f...      5  208.506999   \n",
       "10130  5dc8cea7659e181adb076a3f_fd64de8c4a2fc5ebb0e9f...      5  204.456628   \n",
       "10131  5dc8cea7659e181adb076a3f_fd64de8c4a2fc5ebb0e9f...      5  196.894701   \n",
       "10132  5dc8cea7659e181adb076a3f_fd64de8c4a2fc5ebb0e9f...      5  193.469473   \n",
       "\n",
       "                y  \n",
       "0       95.558253  \n",
       "1       99.021862  \n",
       "2      104.028652  \n",
       "3      107.779636  \n",
       "4      111.352231  \n",
       "...           ...  \n",
       "10128   98.330101  \n",
       "10129  101.935952  \n",
       "10130  108.790569  \n",
       "10131  114.238029  \n",
       "10132  117.786014  \n",
       "\n",
       "[10133 rows x 4 columns]"
      ],
      "text/html": "<div>\n<style scoped>\n    .dataframe tbody tr th:only-of-type {\n        vertical-align: middle;\n    }\n\n    .dataframe tbody tr th {\n        vertical-align: top;\n    }\n\n    .dataframe thead th {\n        text-align: right;\n    }\n</style>\n<table border=\"1\" class=\"dataframe\">\n  <thead>\n    <tr style=\"text-align: right;\">\n      <th></th>\n      <th>site_path_timestamp</th>\n      <th>floor</th>\n      <th>x</th>\n      <th>y</th>\n    </tr>\n  </thead>\n  <tbody>\n    <tr>\n      <th>0</th>\n      <td>5a0546857ecc773753327266_046cfa46be49fc1083481...</td>\n      <td>0</td>\n      <td>91.278845</td>\n      <td>95.558253</td>\n    </tr>\n    <tr>\n      <th>1</th>\n      <td>5a0546857ecc773753327266_046cfa46be49fc1083481...</td>\n      <td>0</td>\n      <td>81.812221</td>\n      <td>99.021862</td>\n    </tr>\n    <tr>\n      <th>2</th>\n      <td>5a0546857ecc773753327266_046cfa46be49fc1083481...</td>\n      <td>0</td>\n      <td>83.975687</td>\n      <td>104.028652</td>\n    </tr>\n    <tr>\n      <th>3</th>\n      <td>5a0546857ecc773753327266_046cfa46be49fc1083481...</td>\n      <td>0</td>\n      <td>85.254162</td>\n      <td>107.779636</td>\n    </tr>\n    <tr>\n      <th>4</th>\n      <td>5a0546857ecc773753327266_046cfa46be49fc1083481...</td>\n      <td>0</td>\n      <td>85.688718</td>\n      <td>111.352231</td>\n    </tr>\n    <tr>\n      <th>...</th>\n      <td>...</td>\n      <td>...</td>\n      <td>...</td>\n      <td>...</td>\n    </tr>\n    <tr>\n      <th>10128</th>\n      <td>5dc8cea7659e181adb076a3f_fd64de8c4a2fc5ebb0e9f...</td>\n      <td>5</td>\n      <td>210.297777</td>\n      <td>98.330101</td>\n    </tr>\n    <tr>\n      <th>10129</th>\n      <td>5dc8cea7659e181adb076a3f_fd64de8c4a2fc5ebb0e9f...</td>\n      <td>5</td>\n      <td>208.506999</td>\n      <td>101.935952</td>\n    </tr>\n    <tr>\n      <th>10130</th>\n      <td>5dc8cea7659e181adb076a3f_fd64de8c4a2fc5ebb0e9f...</td>\n      <td>5</td>\n      <td>204.456628</td>\n      <td>108.790569</td>\n    </tr>\n    <tr>\n      <th>10131</th>\n      <td>5dc8cea7659e181adb076a3f_fd64de8c4a2fc5ebb0e9f...</td>\n      <td>5</td>\n      <td>196.894701</td>\n      <td>114.238029</td>\n    </tr>\n    <tr>\n      <th>10132</th>\n      <td>5dc8cea7659e181adb076a3f_fd64de8c4a2fc5ebb0e9f...</td>\n      <td>5</td>\n      <td>193.469473</td>\n      <td>117.786014</td>\n    </tr>\n  </tbody>\n</table>\n<p>10133 rows × 4 columns</p>\n</div>"
     },
     "metadata": {},
     "execution_count": 45
    }
   ],
   "source": [
    "processes = multiprocessing.cpu_count()\n",
    "with multiprocessing.Pool(processes=processes) as pool:\n",
    "    dfs = pool.imap_unordered(correct_path, sub.groupby(['path']))\n",
    "    dfs = tqdm(dfs)\n",
    "    dfs = list(dfs)\n",
    "new_sub = pd.concat(dfs).sort_values('site_path_timestamp')\n",
    "# new_sub.to_csv(RUN_NAME + '_costmin_sub.csv', index=False)\n",
    "new_sub\n"
   ]
  },
  {
   "source": [
    "## snap to grid"
   ],
   "cell_type": "markdown",
   "metadata": {}
  },
  {
   "cell_type": "code",
   "execution_count": 46,
   "metadata": {},
   "outputs": [],
   "source": [
    "from scipy.spatial.distance import cdist\n",
    "def sub_process(sub, train_waypoints):\n",
    "    train_waypoints['isTrainWaypoint'] = True\n",
    "    sub = split_col(sub[['site_path_timestamp','floor','x','y']]).copy()\n",
    "    sub = sub.merge(train_waypoints[['site','floorNo','floor']].drop_duplicates(), how='left')\n",
    "    sub = sub.merge(\n",
    "        train_waypoints[['x','y','site','floor','isTrainWaypoint']].drop_duplicates(),\n",
    "        how='left',\n",
    "        on=['site','x','y','floor']\n",
    "             )\n",
    "    sub['isTrainWaypoint'] = sub['isTrainWaypoint'].fillna(False)\n",
    "    return sub.copy()\n",
    "\n",
    "def split_col(df):\n",
    "    df = pd.concat([\n",
    "        df['site_path_timestamp'].str.split('_', expand=True) \\\n",
    "        .rename(columns={0:'site',\n",
    "                         1:'path',\n",
    "                         2:'timestamp'}),\n",
    "        df\n",
    "    ], axis=1).copy()\n",
    "    return df\n",
    "\n",
    "floor_map = {\"B2\":-2, \"B1\":-1, \"F1\":0, \"F2\": 1, \"F3\":2,\n",
    "             \"F4\":3, \"F5\":4, \"F6\":5, \"F7\":6,\"F8\":7,\"F9\":8,\n",
    "             \"1F\":0, \"2F\":1, \"3F\":2, \"4F\":3, \"5F\":4, \"6F\":5,\n",
    "             \"7F\":6, \"8F\": 7, \"9F\":8}\n",
    "\n",
    "def add_xy(df):\n",
    "    df['xy'] = [(x, y) for x,y in zip(df['x'], df['y'])]\n",
    "    return df\n",
    "\n",
    "def closest_point(point, points):\n",
    "    \"\"\" Find closest point from a list of points. \"\"\"\n",
    "    return points[cdist([point], points).argmin()]\n",
    "\n",
    "def snap_to_grid(sub, threshold):\n",
    "    \"\"\"\n",
    "    Snap to grid if within a threshold.\n",
    "    \n",
    "    x, y are the predicted points.\n",
    "    x_, y_ are the closest grid points.\n",
    "    _x_, _y_ are the new predictions after post processing.\n",
    "    \"\"\"\n",
    "    sub['_x_'] = sub['x']\n",
    "    sub['_y_'] = sub['y']\n",
    "    sub.loc[sub['dist'] < threshold, '_x_'] = sub.loc[sub['dist'] < threshold]['x_']\n",
    "    sub.loc[sub['dist'] < threshold, '_y_'] = sub.loc[sub['dist'] < threshold]['y_']\n",
    "    return sub.copy()\n"
   ]
  },
  {
   "cell_type": "code",
   "execution_count": 47,
   "metadata": {},
   "outputs": [
    {
     "output_type": "stream",
     "name": "stderr",
     "text": [
      "100%|██████████| 139/139 [01:38<00:00,  1.42it/s]\n"
     ]
    },
    {
     "output_type": "execute_result",
     "data": {
      "text/plain": [
       "                            site                      path      timestamp  \\\n",
       "0       5a0546857ecc773753327266  5d10a1669c50c70008fe8977  1561368762838   \n",
       "1       5a0546857ecc773753327266  5d10a1669c50c70008fe8977  1561368762838   \n",
       "2       5a0546857ecc773753327266  5d10a1669c50c70008fe8977  1561368774057   \n",
       "3       5a0546857ecc773753327266  5d10a1669c50c70008fe8977  1561368774057   \n",
       "4       5a0546857ecc773753327266  5d10a1669c50c70008fe8977  1561368774057   \n",
       "...                          ...                       ...            ...   \n",
       "258120  5dc8cea7659e181adb076a3f  5dd7c119c5b77e0006b16b99  1574420742502   \n",
       "258121  5dc8cea7659e181adb076a3f  5dd7c119c5b77e0006b16b99  1574420742502   \n",
       "258122  5dc8cea7659e181adb076a3f  5dd7c119c5b77e0006b16b99  1574420753754   \n",
       "258123  5dc8cea7659e181adb076a3f  5dd7c119c5b77e0006b16b99  1574420753754   \n",
       "258124  5dc8cea7659e181adb076a3f  5dd7c119c5b77e0006b16b99  1574420753754   \n",
       "\n",
       "                                      site_path_timestamp  floor           x  \\\n",
       "0       5a0546857ecc773753327266_5d10a1669c50c70008fe8...      2   84.193822   \n",
       "1       5a0546857ecc773753327266_5d10a1669c50c70008fe8...      2   84.192901   \n",
       "2       5a0546857ecc773753327266_5d10a1669c50c70008fe8...      2   83.453731   \n",
       "3       5a0546857ecc773753327266_5d10a1669c50c70008fe8...      2   83.449445   \n",
       "4       5a0546857ecc773753327266_5d10a1669c50c70008fe8...      2   83.445930   \n",
       "...                                                   ...    ...         ...   \n",
       "258120  5dc8cea7659e181adb076a3f_5dd7c119c5b77e0006b16...     -1  199.920868   \n",
       "258121  5dc8cea7659e181adb076a3f_5dd7c119c5b77e0006b16...     -1  199.902156   \n",
       "258122  5dc8cea7659e181adb076a3f_5dd7c119c5b77e0006b16...     -1  206.853274   \n",
       "258123  5dc8cea7659e181adb076a3f_5dd7c119c5b77e0006b16...     -1  206.841957   \n",
       "258124  5dc8cea7659e181adb076a3f_5dd7c119c5b77e0006b16...     -1  206.837918   \n",
       "\n",
       "                 y floorNo  isTrainWaypoint  \\\n",
       "0        35.990409      F3            False   \n",
       "1        35.985705      F3            False   \n",
       "2        27.580249      F3            False   \n",
       "3        27.574898      F3            False   \n",
       "4        27.568733      F3            False   \n",
       "...            ...     ...              ...   \n",
       "258120  103.909185      B1            False   \n",
       "258121  103.904538      B1            False   \n",
       "258122  104.850549      B1            False   \n",
       "258123  104.847394      B1            False   \n",
       "258124  104.844440      B1            False   \n",
       "\n",
       "                                              xy           matched_point  \\\n",
       "0         (84.19382169294543, 35.99040899903715)    (80.6814, 39.265667)   \n",
       "1        (84.19290081348134, 35.985705073215726)    (80.6814, 39.265667)   \n",
       "2        (83.45373089718512, 27.580249194171753)    (84.22669, 27.13862)   \n",
       "3         (83.44944506030227, 27.57489821414365)    (84.22669, 27.13862)   \n",
       "4        (83.44593035387993, 27.568733084666874)    (84.22669, 27.13862)   \n",
       "...                                          ...                     ...   \n",
       "258120   (199.92086771079488, 103.9091849830973)  (200.75478, 106.75563)   \n",
       "258121    (199.902155702816, 103.90453781432763)  (200.75478, 106.75563)   \n",
       "258122  (206.85327422915327, 104.85054898067307)   (208.15857, 104.7078)   \n",
       "258123   (206.8419565980368, 104.84739441802996)   (208.15857, 104.7078)   \n",
       "258124   (206.83791777491987, 104.8444402570924)   (208.15857, 104.7078)   \n",
       "\n",
       "        oof_min_snap_x  oof_min_snap_y  \n",
       "0             80.68140       39.265667  \n",
       "1             80.68140       39.265667  \n",
       "2             84.22669       27.138620  \n",
       "3             84.22669       27.138620  \n",
       "4             84.22669       27.138620  \n",
       "...                ...             ...  \n",
       "258120       200.75478      106.755630  \n",
       "258121       200.75478      106.755630  \n",
       "258122       208.15857      104.707800  \n",
       "258123       208.15857      104.707800  \n",
       "258124       208.15857      104.707800  \n",
       "\n",
       "[258125 rows x 13 columns]"
      ],
      "text/html": "<div>\n<style scoped>\n    .dataframe tbody tr th:only-of-type {\n        vertical-align: middle;\n    }\n\n    .dataframe tbody tr th {\n        vertical-align: top;\n    }\n\n    .dataframe thead th {\n        text-align: right;\n    }\n</style>\n<table border=\"1\" class=\"dataframe\">\n  <thead>\n    <tr style=\"text-align: right;\">\n      <th></th>\n      <th>site</th>\n      <th>path</th>\n      <th>timestamp</th>\n      <th>site_path_timestamp</th>\n      <th>floor</th>\n      <th>x</th>\n      <th>y</th>\n      <th>floorNo</th>\n      <th>isTrainWaypoint</th>\n      <th>xy</th>\n      <th>matched_point</th>\n      <th>oof_min_snap_x</th>\n      <th>oof_min_snap_y</th>\n    </tr>\n  </thead>\n  <tbody>\n    <tr>\n      <th>0</th>\n      <td>5a0546857ecc773753327266</td>\n      <td>5d10a1669c50c70008fe8977</td>\n      <td>1561368762838</td>\n      <td>5a0546857ecc773753327266_5d10a1669c50c70008fe8...</td>\n      <td>2</td>\n      <td>84.193822</td>\n      <td>35.990409</td>\n      <td>F3</td>\n      <td>False</td>\n      <td>(84.19382169294543, 35.99040899903715)</td>\n      <td>(80.6814, 39.265667)</td>\n      <td>80.68140</td>\n      <td>39.265667</td>\n    </tr>\n    <tr>\n      <th>1</th>\n      <td>5a0546857ecc773753327266</td>\n      <td>5d10a1669c50c70008fe8977</td>\n      <td>1561368762838</td>\n      <td>5a0546857ecc773753327266_5d10a1669c50c70008fe8...</td>\n      <td>2</td>\n      <td>84.192901</td>\n      <td>35.985705</td>\n      <td>F3</td>\n      <td>False</td>\n      <td>(84.19290081348134, 35.985705073215726)</td>\n      <td>(80.6814, 39.265667)</td>\n      <td>80.68140</td>\n      <td>39.265667</td>\n    </tr>\n    <tr>\n      <th>2</th>\n      <td>5a0546857ecc773753327266</td>\n      <td>5d10a1669c50c70008fe8977</td>\n      <td>1561368774057</td>\n      <td>5a0546857ecc773753327266_5d10a1669c50c70008fe8...</td>\n      <td>2</td>\n      <td>83.453731</td>\n      <td>27.580249</td>\n      <td>F3</td>\n      <td>False</td>\n      <td>(83.45373089718512, 27.580249194171753)</td>\n      <td>(84.22669, 27.13862)</td>\n      <td>84.22669</td>\n      <td>27.138620</td>\n    </tr>\n    <tr>\n      <th>3</th>\n      <td>5a0546857ecc773753327266</td>\n      <td>5d10a1669c50c70008fe8977</td>\n      <td>1561368774057</td>\n      <td>5a0546857ecc773753327266_5d10a1669c50c70008fe8...</td>\n      <td>2</td>\n      <td>83.449445</td>\n      <td>27.574898</td>\n      <td>F3</td>\n      <td>False</td>\n      <td>(83.44944506030227, 27.57489821414365)</td>\n      <td>(84.22669, 27.13862)</td>\n      <td>84.22669</td>\n      <td>27.138620</td>\n    </tr>\n    <tr>\n      <th>4</th>\n      <td>5a0546857ecc773753327266</td>\n      <td>5d10a1669c50c70008fe8977</td>\n      <td>1561368774057</td>\n      <td>5a0546857ecc773753327266_5d10a1669c50c70008fe8...</td>\n      <td>2</td>\n      <td>83.445930</td>\n      <td>27.568733</td>\n      <td>F3</td>\n      <td>False</td>\n      <td>(83.44593035387993, 27.568733084666874)</td>\n      <td>(84.22669, 27.13862)</td>\n      <td>84.22669</td>\n      <td>27.138620</td>\n    </tr>\n    <tr>\n      <th>...</th>\n      <td>...</td>\n      <td>...</td>\n      <td>...</td>\n      <td>...</td>\n      <td>...</td>\n      <td>...</td>\n      <td>...</td>\n      <td>...</td>\n      <td>...</td>\n      <td>...</td>\n      <td>...</td>\n      <td>...</td>\n      <td>...</td>\n    </tr>\n    <tr>\n      <th>258120</th>\n      <td>5dc8cea7659e181adb076a3f</td>\n      <td>5dd7c119c5b77e0006b16b99</td>\n      <td>1574420742502</td>\n      <td>5dc8cea7659e181adb076a3f_5dd7c119c5b77e0006b16...</td>\n      <td>-1</td>\n      <td>199.920868</td>\n      <td>103.909185</td>\n      <td>B1</td>\n      <td>False</td>\n      <td>(199.92086771079488, 103.9091849830973)</td>\n      <td>(200.75478, 106.75563)</td>\n      <td>200.75478</td>\n      <td>106.755630</td>\n    </tr>\n    <tr>\n      <th>258121</th>\n      <td>5dc8cea7659e181adb076a3f</td>\n      <td>5dd7c119c5b77e0006b16b99</td>\n      <td>1574420742502</td>\n      <td>5dc8cea7659e181adb076a3f_5dd7c119c5b77e0006b16...</td>\n      <td>-1</td>\n      <td>199.902156</td>\n      <td>103.904538</td>\n      <td>B1</td>\n      <td>False</td>\n      <td>(199.902155702816, 103.90453781432763)</td>\n      <td>(200.75478, 106.75563)</td>\n      <td>200.75478</td>\n      <td>106.755630</td>\n    </tr>\n    <tr>\n      <th>258122</th>\n      <td>5dc8cea7659e181adb076a3f</td>\n      <td>5dd7c119c5b77e0006b16b99</td>\n      <td>1574420753754</td>\n      <td>5dc8cea7659e181adb076a3f_5dd7c119c5b77e0006b16...</td>\n      <td>-1</td>\n      <td>206.853274</td>\n      <td>104.850549</td>\n      <td>B1</td>\n      <td>False</td>\n      <td>(206.85327422915327, 104.85054898067307)</td>\n      <td>(208.15857, 104.7078)</td>\n      <td>208.15857</td>\n      <td>104.707800</td>\n    </tr>\n    <tr>\n      <th>258123</th>\n      <td>5dc8cea7659e181adb076a3f</td>\n      <td>5dd7c119c5b77e0006b16b99</td>\n      <td>1574420753754</td>\n      <td>5dc8cea7659e181adb076a3f_5dd7c119c5b77e0006b16...</td>\n      <td>-1</td>\n      <td>206.841957</td>\n      <td>104.847394</td>\n      <td>B1</td>\n      <td>False</td>\n      <td>(206.8419565980368, 104.84739441802996)</td>\n      <td>(208.15857, 104.7078)</td>\n      <td>208.15857</td>\n      <td>104.707800</td>\n    </tr>\n    <tr>\n      <th>258124</th>\n      <td>5dc8cea7659e181adb076a3f</td>\n      <td>5dd7c119c5b77e0006b16b99</td>\n      <td>1574420753754</td>\n      <td>5dc8cea7659e181adb076a3f_5dd7c119c5b77e0006b16...</td>\n      <td>-1</td>\n      <td>206.837918</td>\n      <td>104.844440</td>\n      <td>B1</td>\n      <td>False</td>\n      <td>(206.83791777491987, 104.8444402570924)</td>\n      <td>(208.15857, 104.7078)</td>\n      <td>208.15857</td>\n      <td>104.707800</td>\n    </tr>\n  </tbody>\n</table>\n<p>258125 rows × 13 columns</p>\n</div>"
     },
     "metadata": {},
     "execution_count": 47
    }
   ],
   "source": [
    "train_waypoints = pd.read_csv('../../input/indoor-location-train-waypoints/train_waypoints.csv')\n",
    "snap_df = oofs_df[['site_path_timestamp','floor','oof_min_x','oof_min_y']].copy()\n",
    "snap_df = snap_df.rename(columns={'oof_min_x':'x', 'oof_min_y':'y'})\n",
    "snap_df = sub_process(snap_df, train_waypoints)\n",
    "snap_df = add_xy(snap_df)\n",
    "train_waypoints = add_xy(train_waypoints)\n",
    "\n",
    "ds = []\n",
    "for (site, myfloor), d in tqdm(snap_df.groupby(['site','floor'])):\n",
    "    true_floor_locs = train_waypoints.loc[(train_waypoints['floor'] == myfloor) &\n",
    "                                          (train_waypoints['site'] == site)] \\\n",
    "        .reset_index(drop=True)\n",
    "    if len(true_floor_locs) == 0:\n",
    "        print(f'Skipping {site} {myfloor}')\n",
    "        continue\n",
    "    d['matched_point'] = [closest_point(x, list(true_floor_locs['xy'])) for x in d['xy']]\n",
    "    d['oof_min_snap_x'] = d['matched_point'].apply(lambda x: x[0])\n",
    "    d['oof_min_snap_y'] = d['matched_point'].apply(lambda x: x[1])\n",
    "    ds.append(d)\n",
    "\n",
    "# 上書き\n",
    "snap_df = pd.concat(ds).sort_index()\n",
    "snap_df"
   ]
  },
  {
   "cell_type": "code",
   "execution_count": 48,
   "metadata": {},
   "outputs": [
    {
     "output_type": "execute_result",
     "data": {
      "text/plain": [
       "            timestamp   target_x    target_y  site_id  \\\n",
       "0       1561368762838   78.21819   38.999737        0   \n",
       "1       1561368762838   78.21819   38.999737        0   \n",
       "2       1561368774057   76.25184   30.510840        0   \n",
       "3       1561368774057   76.25184   30.510840        0   \n",
       "4       1561368774057   76.25184   30.510840        0   \n",
       "...               ...        ...         ...      ...   \n",
       "258120  1574420742502  193.20488  108.001520       23   \n",
       "258121  1574420742502  193.20488  108.001520       23   \n",
       "258122  1574420753754  204.29349  107.835120       23   \n",
       "258123  1574420753754  204.29349  107.835120       23   \n",
       "258124  1574420753754  204.29349  107.835120       23   \n",
       "\n",
       "                     site_id_str      wifi_x      wifi_y  floor floor_str  \\\n",
       "0       5a0546857ecc773753327266   77.890465   37.584921      2        F3   \n",
       "1       5a0546857ecc773753327266   77.562740   36.170105      2        F3   \n",
       "2       5a0546857ecc773753327266   77.235015   34.755289      2        F3   \n",
       "3       5a0546857ecc773753327266   77.202679   21.519628      2        F3   \n",
       "4       5a0546857ecc773753327266   76.991381   23.517675      2        F3   \n",
       "...                          ...         ...         ...    ...       ...   \n",
       "258120  5dc8cea7659e181adb076a3f  197.825134  107.932187     -1        B1   \n",
       "258121  5dc8cea7659e181adb076a3f  194.128931  107.987653     -1        B1   \n",
       "258122  5dc8cea7659e181adb076a3f  199.673236  107.904453     -1        B1   \n",
       "258123  5dc8cea7659e181adb076a3f  201.521337  107.876720     -1        B1   \n",
       "258124  5dc8cea7659e181adb076a3f  203.369439  107.848987     -1        B1   \n",
       "\n",
       "                            path  time_diff       oof_x       oof_y  \\\n",
       "0       5d10a1669c50c70008fe8977       1969   84.865143   39.419571   \n",
       "1       5d10a1669c50c70008fe8977       3966   87.870216   33.456242   \n",
       "2       5d10a1669c50c70008fe8977      -5250   82.229469   30.581415   \n",
       "3       5d10a1669c50c70008fe8977       8838   82.887291   28.168413   \n",
       "4       5d10a1669c50c70008fe8977       6812   80.341606   22.184681   \n",
       "...                          ...        ...         ...         ...   \n",
       "258120  5dd7c119c5b77e0006b16b99       4790  199.136230  104.263153   \n",
       "258121  5dd7c119c5b77e0006b16b99       1006  201.388168  103.995300   \n",
       "258122  5dd7c119c5b77e0006b16b99      -4550  199.976761  103.671677   \n",
       "258123  5dd7c119c5b77e0006b16b99      -2662  201.535706  104.701302   \n",
       "258124  5dd7c119c5b77e0006b16b99       -756  203.893616  102.690857   \n",
       "\n",
       "        oof_floor                                site_path_timestamp  \\\n",
       "0        0.207957  5a0546857ecc773753327266_5d10a1669c50c70008fe8...   \n",
       "1        0.206626  5a0546857ecc773753327266_5d10a1669c50c70008fe8...   \n",
       "2        0.211186  5a0546857ecc773753327266_5d10a1669c50c70008fe8...   \n",
       "3        0.208902  5a0546857ecc773753327266_5d10a1669c50c70008fe8...   \n",
       "4        0.212189  5a0546857ecc773753327266_5d10a1669c50c70008fe8...   \n",
       "...           ...                                                ...   \n",
       "258120   0.000000  5dc8cea7659e181adb076a3f_5dd7c119c5b77e0006b16...   \n",
       "258121   0.000000  5dc8cea7659e181adb076a3f_5dd7c119c5b77e0006b16...   \n",
       "258122   0.000000  5dc8cea7659e181adb076a3f_5dd7c119c5b77e0006b16...   \n",
       "258123   0.000000  5dc8cea7659e181adb076a3f_5dd7c119c5b77e0006b16...   \n",
       "258124   0.000000  5dc8cea7659e181adb076a3f_5dd7c119c5b77e0006b16...   \n",
       "\n",
       "         oof_min_x   oof_min_y  oof_min_snap_x  oof_min_snap_y  \n",
       "0        84.193822   35.990409        80.68140       39.265667  \n",
       "1        84.192901   35.985705        80.68140       39.265667  \n",
       "2        83.453731   27.580249        84.22669       27.138620  \n",
       "3        83.449445   27.574898        84.22669       27.138620  \n",
       "4        83.445930   27.568733        84.22669       27.138620  \n",
       "...            ...         ...             ...             ...  \n",
       "258120  199.920868  103.909185       200.75478      106.755630  \n",
       "258121  199.902156  103.904538       200.75478      106.755630  \n",
       "258122  206.853274  104.850549       208.15857      104.707800  \n",
       "258123  206.841957  104.847394       208.15857      104.707800  \n",
       "258124  206.837918  104.844440       208.15857      104.707800  \n",
       "\n",
       "[258125 rows x 19 columns]"
      ],
      "text/html": "<div>\n<style scoped>\n    .dataframe tbody tr th:only-of-type {\n        vertical-align: middle;\n    }\n\n    .dataframe tbody tr th {\n        vertical-align: top;\n    }\n\n    .dataframe thead th {\n        text-align: right;\n    }\n</style>\n<table border=\"1\" class=\"dataframe\">\n  <thead>\n    <tr style=\"text-align: right;\">\n      <th></th>\n      <th>timestamp</th>\n      <th>target_x</th>\n      <th>target_y</th>\n      <th>site_id</th>\n      <th>site_id_str</th>\n      <th>wifi_x</th>\n      <th>wifi_y</th>\n      <th>floor</th>\n      <th>floor_str</th>\n      <th>path</th>\n      <th>time_diff</th>\n      <th>oof_x</th>\n      <th>oof_y</th>\n      <th>oof_floor</th>\n      <th>site_path_timestamp</th>\n      <th>oof_min_x</th>\n      <th>oof_min_y</th>\n      <th>oof_min_snap_x</th>\n      <th>oof_min_snap_y</th>\n    </tr>\n  </thead>\n  <tbody>\n    <tr>\n      <th>0</th>\n      <td>1561368762838</td>\n      <td>78.21819</td>\n      <td>38.999737</td>\n      <td>0</td>\n      <td>5a0546857ecc773753327266</td>\n      <td>77.890465</td>\n      <td>37.584921</td>\n      <td>2</td>\n      <td>F3</td>\n      <td>5d10a1669c50c70008fe8977</td>\n      <td>1969</td>\n      <td>84.865143</td>\n      <td>39.419571</td>\n      <td>0.207957</td>\n      <td>5a0546857ecc773753327266_5d10a1669c50c70008fe8...</td>\n      <td>84.193822</td>\n      <td>35.990409</td>\n      <td>80.68140</td>\n      <td>39.265667</td>\n    </tr>\n    <tr>\n      <th>1</th>\n      <td>1561368762838</td>\n      <td>78.21819</td>\n      <td>38.999737</td>\n      <td>0</td>\n      <td>5a0546857ecc773753327266</td>\n      <td>77.562740</td>\n      <td>36.170105</td>\n      <td>2</td>\n      <td>F3</td>\n      <td>5d10a1669c50c70008fe8977</td>\n      <td>3966</td>\n      <td>87.870216</td>\n      <td>33.456242</td>\n      <td>0.206626</td>\n      <td>5a0546857ecc773753327266_5d10a1669c50c70008fe8...</td>\n      <td>84.192901</td>\n      <td>35.985705</td>\n      <td>80.68140</td>\n      <td>39.265667</td>\n    </tr>\n    <tr>\n      <th>2</th>\n      <td>1561368774057</td>\n      <td>76.25184</td>\n      <td>30.510840</td>\n      <td>0</td>\n      <td>5a0546857ecc773753327266</td>\n      <td>77.235015</td>\n      <td>34.755289</td>\n      <td>2</td>\n      <td>F3</td>\n      <td>5d10a1669c50c70008fe8977</td>\n      <td>-5250</td>\n      <td>82.229469</td>\n      <td>30.581415</td>\n      <td>0.211186</td>\n      <td>5a0546857ecc773753327266_5d10a1669c50c70008fe8...</td>\n      <td>83.453731</td>\n      <td>27.580249</td>\n      <td>84.22669</td>\n      <td>27.138620</td>\n    </tr>\n    <tr>\n      <th>3</th>\n      <td>1561368774057</td>\n      <td>76.25184</td>\n      <td>30.510840</td>\n      <td>0</td>\n      <td>5a0546857ecc773753327266</td>\n      <td>77.202679</td>\n      <td>21.519628</td>\n      <td>2</td>\n      <td>F3</td>\n      <td>5d10a1669c50c70008fe8977</td>\n      <td>8838</td>\n      <td>82.887291</td>\n      <td>28.168413</td>\n      <td>0.208902</td>\n      <td>5a0546857ecc773753327266_5d10a1669c50c70008fe8...</td>\n      <td>83.449445</td>\n      <td>27.574898</td>\n      <td>84.22669</td>\n      <td>27.138620</td>\n    </tr>\n    <tr>\n      <th>4</th>\n      <td>1561368774057</td>\n      <td>76.25184</td>\n      <td>30.510840</td>\n      <td>0</td>\n      <td>5a0546857ecc773753327266</td>\n      <td>76.991381</td>\n      <td>23.517675</td>\n      <td>2</td>\n      <td>F3</td>\n      <td>5d10a1669c50c70008fe8977</td>\n      <td>6812</td>\n      <td>80.341606</td>\n      <td>22.184681</td>\n      <td>0.212189</td>\n      <td>5a0546857ecc773753327266_5d10a1669c50c70008fe8...</td>\n      <td>83.445930</td>\n      <td>27.568733</td>\n      <td>84.22669</td>\n      <td>27.138620</td>\n    </tr>\n    <tr>\n      <th>...</th>\n      <td>...</td>\n      <td>...</td>\n      <td>...</td>\n      <td>...</td>\n      <td>...</td>\n      <td>...</td>\n      <td>...</td>\n      <td>...</td>\n      <td>...</td>\n      <td>...</td>\n      <td>...</td>\n      <td>...</td>\n      <td>...</td>\n      <td>...</td>\n      <td>...</td>\n      <td>...</td>\n      <td>...</td>\n      <td>...</td>\n      <td>...</td>\n    </tr>\n    <tr>\n      <th>258120</th>\n      <td>1574420742502</td>\n      <td>193.20488</td>\n      <td>108.001520</td>\n      <td>23</td>\n      <td>5dc8cea7659e181adb076a3f</td>\n      <td>197.825134</td>\n      <td>107.932187</td>\n      <td>-1</td>\n      <td>B1</td>\n      <td>5dd7c119c5b77e0006b16b99</td>\n      <td>4790</td>\n      <td>199.136230</td>\n      <td>104.263153</td>\n      <td>0.000000</td>\n      <td>5dc8cea7659e181adb076a3f_5dd7c119c5b77e0006b16...</td>\n      <td>199.920868</td>\n      <td>103.909185</td>\n      <td>200.75478</td>\n      <td>106.755630</td>\n    </tr>\n    <tr>\n      <th>258121</th>\n      <td>1574420742502</td>\n      <td>193.20488</td>\n      <td>108.001520</td>\n      <td>23</td>\n      <td>5dc8cea7659e181adb076a3f</td>\n      <td>194.128931</td>\n      <td>107.987653</td>\n      <td>-1</td>\n      <td>B1</td>\n      <td>5dd7c119c5b77e0006b16b99</td>\n      <td>1006</td>\n      <td>201.388168</td>\n      <td>103.995300</td>\n      <td>0.000000</td>\n      <td>5dc8cea7659e181adb076a3f_5dd7c119c5b77e0006b16...</td>\n      <td>199.902156</td>\n      <td>103.904538</td>\n      <td>200.75478</td>\n      <td>106.755630</td>\n    </tr>\n    <tr>\n      <th>258122</th>\n      <td>1574420753754</td>\n      <td>204.29349</td>\n      <td>107.835120</td>\n      <td>23</td>\n      <td>5dc8cea7659e181adb076a3f</td>\n      <td>199.673236</td>\n      <td>107.904453</td>\n      <td>-1</td>\n      <td>B1</td>\n      <td>5dd7c119c5b77e0006b16b99</td>\n      <td>-4550</td>\n      <td>199.976761</td>\n      <td>103.671677</td>\n      <td>0.000000</td>\n      <td>5dc8cea7659e181adb076a3f_5dd7c119c5b77e0006b16...</td>\n      <td>206.853274</td>\n      <td>104.850549</td>\n      <td>208.15857</td>\n      <td>104.707800</td>\n    </tr>\n    <tr>\n      <th>258123</th>\n      <td>1574420753754</td>\n      <td>204.29349</td>\n      <td>107.835120</td>\n      <td>23</td>\n      <td>5dc8cea7659e181adb076a3f</td>\n      <td>201.521337</td>\n      <td>107.876720</td>\n      <td>-1</td>\n      <td>B1</td>\n      <td>5dd7c119c5b77e0006b16b99</td>\n      <td>-2662</td>\n      <td>201.535706</td>\n      <td>104.701302</td>\n      <td>0.000000</td>\n      <td>5dc8cea7659e181adb076a3f_5dd7c119c5b77e0006b16...</td>\n      <td>206.841957</td>\n      <td>104.847394</td>\n      <td>208.15857</td>\n      <td>104.707800</td>\n    </tr>\n    <tr>\n      <th>258124</th>\n      <td>1574420753754</td>\n      <td>204.29349</td>\n      <td>107.835120</td>\n      <td>23</td>\n      <td>5dc8cea7659e181adb076a3f</td>\n      <td>203.369439</td>\n      <td>107.848987</td>\n      <td>-1</td>\n      <td>B1</td>\n      <td>5dd7c119c5b77e0006b16b99</td>\n      <td>-756</td>\n      <td>203.893616</td>\n      <td>102.690857</td>\n      <td>0.000000</td>\n      <td>5dc8cea7659e181adb076a3f_5dd7c119c5b77e0006b16...</td>\n      <td>206.837918</td>\n      <td>104.844440</td>\n      <td>208.15857</td>\n      <td>104.707800</td>\n    </tr>\n  </tbody>\n</table>\n<p>258125 rows × 19 columns</p>\n</div>"
     },
     "metadata": {},
     "execution_count": 48
    }
   ],
   "source": [
    "oofs_df['oof_min_snap_x'] = snap_df['oof_min_snap_x']\n",
    "oofs_df['oof_min_snap_y'] = snap_df['oof_min_snap_y']\n",
    "oofs_df"
   ]
  },
  {
   "cell_type": "code",
   "execution_count": 49,
   "metadata": {},
   "outputs": [
    {
     "output_type": "stream",
     "name": "stdout",
     "text": [
      "(after cost-min + snap) CV:6.162038106118704\n"
     ]
    }
   ],
   "source": [
    "# waypoint補正前のx,yでの評価\n",
    "oof_score_post_process = mean_position_error(\n",
    "    oofs_df['oof_min_snap_x'], oofs_df['oof_min_snap_y'], 0, \n",
    "    oofs_df['target_x'], oofs_df['target_y'], 0\n",
    "    )\n",
    "print(f\"(after cost-min + snap) CV:{oof_score_post_process}\")"
   ]
  },
  {
   "cell_type": "code",
   "execution_count": 50,
   "metadata": {},
   "outputs": [
    {
     "output_type": "stream",
     "name": "stdout",
     "text": [
      "(after cost-min + snap) CV:6.685722694331589\n"
     ]
    }
   ],
   "source": [
    "# waypoint補正前のx,yでの評価\n",
    "oof_score_post_process = mean_position_error(\n",
    "    oofs_df['oof_min_snap_x'], oofs_df['oof_min_snap_y'], 0, \n",
    "    oofs_df['wifi_x'], oofs_df['wifi_y'], 0\n",
    "    )\n",
    "print(f\"(after cost-min + snap) CV:{oof_score_post_process}\")"
   ]
  },
  {
   "cell_type": "code",
   "execution_count": 51,
   "metadata": {},
   "outputs": [],
   "source": [
    "# x_pred = oofs_df[\"oof_min_snap_x\"]\n",
    "# y_pred = oofs_df[\"oof_min_snap_y\"]\n",
    "# f_pred = oofs_df[\"floor\"]  # 正解を与える\n",
    "# x_true = oofs_df[\"wifi_x\"]\n",
    "# y_true = oofs_df[\"wifi_y\"]\n",
    "# f_true = oofs_df[\"floor\"]\n",
    "# site_arr = oofs_df[\"site_id_str\"]\n",
    "# df_result_site3 = calc_metrics_site(x_pred, y_pred, f_pred, x_true, y_true, f_true, site_arr)\n",
    "# df_result_site3.style.bar(subset=['n_sample', 'score'], color=['teal'])"
   ]
  },
  {
   "cell_type": "code",
   "execution_count": 52,
   "metadata": {},
   "outputs": [],
   "source": [
    "# site_eval_report(df_result_site3)"
   ]
  },
  {
   "cell_type": "code",
   "execution_count": 53,
   "metadata": {},
   "outputs": [],
   "source": [
    "train_waypoints = pd.read_csv('../../input/indoor-location-train-waypoints/train_waypoints.csv')\n",
    "\n",
    "new_sub = sub_process(new_sub, train_waypoints)\n",
    "new_sub = add_xy(new_sub)\n",
    "train_waypoints = add_xy(train_waypoints)\n",
    "\n",
    "ds = []\n",
    "for (site, myfloor), d in new_sub.groupby(['site','floor']):\n",
    "    true_floor_locs = train_waypoints.loc[(train_waypoints['floor'] == myfloor) &\n",
    "                                          (train_waypoints['site'] == site)] \\\n",
    "        .reset_index(drop=True)\n",
    "    if len(true_floor_locs) == 0:\n",
    "        print(f'Skipping {site} {myfloor}')\n",
    "        continue\n",
    "    d['matched_point'] = [closest_point(x, list(true_floor_locs['xy'])) for x in d['xy']]\n",
    "    d['x_'] = d['matched_point'].apply(lambda x: x[0])\n",
    "    d['y_'] = d['matched_point'].apply(lambda x: x[1])\n",
    "    ds.append(d)\n",
    "\n",
    "new_sub2 = pd.concat(ds)"
   ]
  },
  {
   "cell_type": "code",
   "execution_count": 54,
   "metadata": {},
   "outputs": [
    {
     "output_type": "execute_result",
     "data": {
      "text/plain": [
       "                                     site_path_timestamp  floor           x  \\\n",
       "0      5a0546857ecc773753327266_046cfa46be49fc1083481...      0   91.278845   \n",
       "1      5a0546857ecc773753327266_046cfa46be49fc1083481...      0   81.812221   \n",
       "2      5a0546857ecc773753327266_046cfa46be49fc1083481...      0   83.975687   \n",
       "3      5a0546857ecc773753327266_046cfa46be49fc1083481...      0   85.254162   \n",
       "4      5a0546857ecc773753327266_046cfa46be49fc1083481...      0   85.688718   \n",
       "...                                                  ...    ...         ...   \n",
       "10128  5dc8cea7659e181adb076a3f_fd64de8c4a2fc5ebb0e9f...      5  210.297777   \n",
       "10129  5dc8cea7659e181adb076a3f_fd64de8c4a2fc5ebb0e9f...      5  208.506999   \n",
       "10130  5dc8cea7659e181adb076a3f_fd64de8c4a2fc5ebb0e9f...      5  204.456628   \n",
       "10131  5dc8cea7659e181adb076a3f_fd64de8c4a2fc5ebb0e9f...      5  196.894701   \n",
       "10132  5dc8cea7659e181adb076a3f_fd64de8c4a2fc5ebb0e9f...      5  193.469473   \n",
       "\n",
       "                y  \n",
       "0       95.558253  \n",
       "1       99.021862  \n",
       "2      104.028652  \n",
       "3      107.779636  \n",
       "4      111.352231  \n",
       "...           ...  \n",
       "10128   98.330101  \n",
       "10129  101.935952  \n",
       "10130  108.790569  \n",
       "10131  114.238029  \n",
       "10132  117.786014  \n",
       "\n",
       "[10133 rows x 4 columns]"
      ],
      "text/html": "<div>\n<style scoped>\n    .dataframe tbody tr th:only-of-type {\n        vertical-align: middle;\n    }\n\n    .dataframe tbody tr th {\n        vertical-align: top;\n    }\n\n    .dataframe thead th {\n        text-align: right;\n    }\n</style>\n<table border=\"1\" class=\"dataframe\">\n  <thead>\n    <tr style=\"text-align: right;\">\n      <th></th>\n      <th>site_path_timestamp</th>\n      <th>floor</th>\n      <th>x</th>\n      <th>y</th>\n    </tr>\n  </thead>\n  <tbody>\n    <tr>\n      <th>0</th>\n      <td>5a0546857ecc773753327266_046cfa46be49fc1083481...</td>\n      <td>0</td>\n      <td>91.278845</td>\n      <td>95.558253</td>\n    </tr>\n    <tr>\n      <th>1</th>\n      <td>5a0546857ecc773753327266_046cfa46be49fc1083481...</td>\n      <td>0</td>\n      <td>81.812221</td>\n      <td>99.021862</td>\n    </tr>\n    <tr>\n      <th>2</th>\n      <td>5a0546857ecc773753327266_046cfa46be49fc1083481...</td>\n      <td>0</td>\n      <td>83.975687</td>\n      <td>104.028652</td>\n    </tr>\n    <tr>\n      <th>3</th>\n      <td>5a0546857ecc773753327266_046cfa46be49fc1083481...</td>\n      <td>0</td>\n      <td>85.254162</td>\n      <td>107.779636</td>\n    </tr>\n    <tr>\n      <th>4</th>\n      <td>5a0546857ecc773753327266_046cfa46be49fc1083481...</td>\n      <td>0</td>\n      <td>85.688718</td>\n      <td>111.352231</td>\n    </tr>\n    <tr>\n      <th>...</th>\n      <td>...</td>\n      <td>...</td>\n      <td>...</td>\n      <td>...</td>\n    </tr>\n    <tr>\n      <th>10128</th>\n      <td>5dc8cea7659e181adb076a3f_fd64de8c4a2fc5ebb0e9f...</td>\n      <td>5</td>\n      <td>210.297777</td>\n      <td>98.330101</td>\n    </tr>\n    <tr>\n      <th>10129</th>\n      <td>5dc8cea7659e181adb076a3f_fd64de8c4a2fc5ebb0e9f...</td>\n      <td>5</td>\n      <td>208.506999</td>\n      <td>101.935952</td>\n    </tr>\n    <tr>\n      <th>10130</th>\n      <td>5dc8cea7659e181adb076a3f_fd64de8c4a2fc5ebb0e9f...</td>\n      <td>5</td>\n      <td>204.456628</td>\n      <td>108.790569</td>\n    </tr>\n    <tr>\n      <th>10131</th>\n      <td>5dc8cea7659e181adb076a3f_fd64de8c4a2fc5ebb0e9f...</td>\n      <td>5</td>\n      <td>196.894701</td>\n      <td>114.238029</td>\n    </tr>\n    <tr>\n      <th>10132</th>\n      <td>5dc8cea7659e181adb076a3f_fd64de8c4a2fc5ebb0e9f...</td>\n      <td>5</td>\n      <td>193.469473</td>\n      <td>117.786014</td>\n    </tr>\n  </tbody>\n</table>\n<p>10133 rows × 4 columns</p>\n</div>"
     },
     "metadata": {},
     "execution_count": 54
    }
   ],
   "source": [
    "new_sub2 = new_sub2[['site_path_timestamp','floor','x','y']].sort_index()\n",
    "new_sub2\n"
   ]
  },
  {
   "cell_type": "code",
   "execution_count": 55,
   "metadata": {},
   "outputs": [],
   "source": [
    "new_sub2.to_csv(RUN_NAME + '_costmin_snap_sub.csv', index=False)"
   ]
  },
  {
   "cell_type": "code",
   "execution_count": null,
   "metadata": {},
   "outputs": [],
   "source": [
    "# import matplotlib.pyplot as plt\n",
    "# df_result_site1['score'].plot(label='oof')\n",
    "# df_result_site2['score'].plot(label='cost')\n",
    "# df_result_site3['score'].plot(label='cost+snap')\n",
    "# plt.legend()\n",
    "# plt.grid()\n",
    "# plt.savefig('site_result.png')"
   ]
  },
  {
   "cell_type": "code",
   "execution_count": null,
   "metadata": {},
   "outputs": [],
   "source": []
  }
 ],
 "metadata": {
  "kernelspec": {
   "display_name": "Python 3",
   "language": "python",
   "name": "python3"
  },
  "language_info": {
   "codemirror_mode": {
    "name": "ipython",
    "version": 3
   },
   "file_extension": ".py",
   "mimetype": "text/x-python",
   "name": "python",
   "nbconvert_exporter": "python",
   "pygments_lexer": "ipython3",
   "version": "3.8.5"
  }
 },
 "nbformat": 4,
 "nbformat_minor": 4
}