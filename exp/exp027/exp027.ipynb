{
 "cells": [
  {
   "cell_type": "code",
   "execution_count": 1,
   "metadata": {},
   "outputs": [],
   "source": [
    "import os\n",
    "import sys\n",
    "import glob\n",
    "import yaml\n",
    "import pickle\n",
    "import random\n",
    "\n",
    "import numpy as np\n",
    "import pandas as pd\n",
    "import scipy.stats as stats\n",
    "from pathlib import Path\n",
    "\n",
    "from sklearn import model_selection\n",
    "from sklearn.preprocessing import StandardScaler, LabelEncoder\n",
    "\n",
    "import wandb\n",
    "import torch\n",
    "from torch import nn\n",
    "import torch.nn.functional as F\n",
    "from torch.utils.data import Dataset, DataLoader\n",
    "import torch.optim as optim\n",
    "\n",
    "import pytorch_lightning as pl\n",
    "from pytorch_lightning.loggers import WandbLogger\n",
    "from pytorch_lightning.callbacks import ModelCheckpoint\n",
    "from pytorch_lightning.callbacks import EarlyStopping\n",
    "from pytorch_lightning.utilities.seed import seed_everything"
   ]
  },
  {
   "cell_type": "markdown",
   "metadata": {},
   "source": [
    "## config"
   ]
  },
  {
   "cell_type": "code",
   "execution_count": 2,
   "metadata": {},
   "outputs": [
    {
     "output_type": "stream",
     "name": "stderr",
     "text": [
      "Global seed set to 1996\n"
     ]
    },
    {
     "output_type": "execute_result",
     "data": {
      "text/plain": [
       "1996"
      ]
     },
     "metadata": {},
     "execution_count": 2
    }
   ],
   "source": [
    "# config\n",
    "with open('config.yaml') as f:\n",
    "    config = yaml.safe_load(f)\n",
    "\n",
    "# globals variable\n",
    "SEED = config['globals']['seed']\n",
    "MAX_EPOCHS = config['globals']['max_epochs']\n",
    "N_SPLITS = config['globals']['n_splits']\n",
    "USE_FOLDS = config['globals']['use_folds']\n",
    "DEBUG = config['globals']['debug']\n",
    "EXP_MESSAGE = config['globals']['exp_message']\n",
    "NOTES = config['globals']['notes']\n",
    "MODEL_SAVE = config['globals']['model_save']\n",
    "ONLY_PRED = config['globals']['only_pred']\n",
    "PRETRAINED = config['globals']['pretrained']\n",
    "PRETRAINED_PATH = config['globals']['pretrained_path']\n",
    "EXP_NAME = str(Path().resolve()).split('/')[-1]\n",
    "\n",
    "# seed\n",
    "seed_everything(SEED)"
   ]
  },
  {
   "cell_type": "code",
   "execution_count": 3,
   "metadata": {},
   "outputs": [
    {
     "output_type": "execute_result",
     "data": {
      "text/plain": [
       "'exp027'"
      ]
     },
     "metadata": {},
     "execution_count": 3
    }
   ],
   "source": [
    "EXP_NAME"
   ]
  },
  {
   "cell_type": "code",
   "execution_count": 4,
   "metadata": {},
   "outputs": [
    {
     "output_type": "stream",
     "name": "stdout",
     "text": [
      "\u001b[34m\u001b[1mwandb\u001b[0m: Appending key for api.wandb.ai to your netrc file: /home/user/.netrc\n"
     ]
    }
   ],
   "source": [
    "!wandb login 1bb2d0449c11d8b987e25c38b9d8dda176310fb6"
   ]
  },
  {
   "cell_type": "markdown",
   "metadata": {},
   "source": [
    "## read data"
   ]
  },
  {
   "cell_type": "code",
   "execution_count": 5,
   "metadata": {},
   "outputs": [],
   "source": [
    "# waypointを補正したdataset\n",
    "root_dir = Path('../../input/')\n",
    "with open(root_dir/'2kaido_wifi_dataset_v2/train_20000_7.pkl', 'rb') as f:\n",
    "  train_df = pickle.load(f)\n",
    "\n",
    "with open(root_dir/'2kaido_wifi_dataset_v2/test_20000_7.pkl', 'rb') as f:\n",
    "  test_df = pickle.load(f)\n",
    "\n",
    "sub_df = pd.read_csv(root_dir/'indoor-location-navigation/sample_submission.csv', index_col=0)"
   ]
  },
  {
   "cell_type": "code",
   "execution_count": 6,
   "metadata": {},
   "outputs": [],
   "source": [
    "\n",
    "train_df = train_df.rename(columns={'wp_tmestamp':'timestamp', 'path_id':'path'})\n",
    "test_df = test_df.rename(columns={'wp_tmestamp':'timestamp', 'path_id':'path'})\n",
    "\n",
    "train_df = train_df.astype({'timestamp':int,'x': np.float32, 'y': np.float32, 'floor':np.float32, 'ix':np.float32, 'iy':np.float32})\n",
    "test_df = test_df.astype({'timestamp':int})"
   ]
  },
  {
   "cell_type": "code",
   "execution_count": 7,
   "metadata": {},
   "outputs": [],
   "source": [
    "# training target features\n",
    "NUM_FEATS = 80\n",
    "BSSID_FEATS = [f'bssid_{i}' for i in range(NUM_FEATS)]\n",
    "RSSI_FEATS  = [f'rssi_{i}' for i in range(NUM_FEATS)]\n",
    "TIMEDIFF_FEATS  = [f'timediff_{i}' for i in range(NUM_FEATS)]"
   ]
  },
  {
   "cell_type": "code",
   "execution_count": 8,
   "metadata": {},
   "outputs": [],
   "source": [
    "# timediffをカテゴリ化したいのでbinにする\n",
    "max_timediff = 20000\n",
    "delta = 500\n",
    "split = int(max_timediff / delta) + 1  # +1は欠損値分\n",
    "for col in TIMEDIFF_FEATS:\n",
    "    train_df.loc[:, col].fillna(999, inplace=True)\n",
    "    test_df.loc[:, col].fillna(999, inplace=True)\n",
    "    train_df.loc[:, f'{col}'] = pd.cut(train_df.loc[:, col], split, labels=[str(i) for i in range(split)])\n",
    "    test_df.loc[:, f'{col}'] = pd.cut(test_df.loc[:, col], split, labels=[str(i) for i in range(split)])"
   ]
  },
  {
   "cell_type": "markdown",
   "metadata": {},
   "source": [
    "bssid_NはN個目のBSSIDを示しておりRSSI値が大きい順に番号が振られている。\n",
    "100個しかない"
   ]
  },
  {
   "cell_type": "code",
   "execution_count": 9,
   "metadata": {},
   "outputs": [
    {
     "output_type": "stream",
     "name": "stdout",
     "text": [
      "BSSID TYPES(train): 61357\nBSSID TYPES(test): 30658\nBSSID TYPES(all): 61421\n"
     ]
    }
   ],
   "source": [
    "# get numbers of bssids to embed them in a layer\n",
    "\n",
    "# train\n",
    "wifi_bssids = []\n",
    "# bssidを列ごとにリストに入れていく\n",
    "for i in range(100, 200):\n",
    "    wifi_bssids.extend(train_df.iloc[:,i].values.tolist())\n",
    "wifi_bssids = list(set(wifi_bssids))\n",
    "\n",
    "train_wifi_bssids_size = len(wifi_bssids)\n",
    "print(f'BSSID TYPES(train): {train_wifi_bssids_size}')\n",
    "\n",
    "# test\n",
    "wifi_bssids_test = []\n",
    "for i in range(100, 200):\n",
    "    wifi_bssids_test.extend(test_df.iloc[:,i].values.tolist())\n",
    "wifi_bssids_test = list(set(wifi_bssids_test))\n",
    "\n",
    "test_wifi_bssids_size = len(wifi_bssids_test)\n",
    "print(f'BSSID TYPES(test): {test_wifi_bssids_size}')\n",
    "\n",
    "\n",
    "wifi_bssids.extend(wifi_bssids_test)\n",
    "wifi_bssids = list(set(wifi_bssids))\n",
    "wifi_bssids_size = len(wifi_bssids)\n",
    "print(f'BSSID TYPES(all): {wifi_bssids_size}')\n"
   ]
  },
  {
   "cell_type": "code",
   "execution_count": 10,
   "metadata": {},
   "outputs": [
    {
     "output_type": "stream",
     "name": "stdout",
     "text": [
      "RSSI TYPES(train): 98\nRSSI TYPES(test): 77\nRSSI TYPES(all): 98\n"
     ]
    }
   ],
   "source": [
    "# get numbers of bssids to embed them in a layer\n",
    "\n",
    "# train\n",
    "rssi_bssids = []\n",
    "# bssidを列ごとにリストに入れていく\n",
    "for i in RSSI_FEATS:\n",
    "    rssi_bssids.extend(train_df.loc[:,i].values.tolist())\n",
    "rssi_bssids = list(set(rssi_bssids))\n",
    "\n",
    "train_rssi_bssids_size = len(rssi_bssids)\n",
    "print(f'RSSI TYPES(train): {train_rssi_bssids_size}')\n",
    "\n",
    "# test\n",
    "rssi_bssids_test = []\n",
    "for i in RSSI_FEATS:\n",
    "    rssi_bssids_test.extend(test_df.loc[:,i].values.tolist())\n",
    "rssi_bssids_test = list(set(rssi_bssids_test))\n",
    "\n",
    "test_rssi_bssids_size = len(rssi_bssids_test)\n",
    "print(f'RSSI TYPES(test): {test_rssi_bssids_size}')\n",
    "\n",
    "\n",
    "rssi_bssids.extend(rssi_bssids_test)\n",
    "rssi_bssids_size = len(set(rssi_bssids))\n",
    "print(f'RSSI TYPES(all): {rssi_bssids_size}')"
   ]
  },
  {
   "cell_type": "code",
   "execution_count": 11,
   "metadata": {},
   "outputs": [
    {
     "output_type": "stream",
     "name": "stdout",
     "text": [
      "TIMEDIFF TYPES(train): 41\nTIMEDIFF TYPES(test): 41\nTIMEDIFF TYPES(all): 41\n"
     ]
    }
   ],
   "source": [
    "# get numbers of bssids to embed them in a layer\n",
    "\n",
    "# train\n",
    "timediff_bssids = []\n",
    "# bssidを列ごとにリストに入れていく\n",
    "for i in TIMEDIFF_FEATS:\n",
    "    timediff_bssids.extend(train_df.loc[:,i].values.tolist())\n",
    "timediff_bssids = list(set(timediff_bssids))\n",
    "\n",
    "train_timediff_bssids_size = len(timediff_bssids)\n",
    "print(f'TIMEDIFF TYPES(train): {train_timediff_bssids_size}')\n",
    "\n",
    "# test\n",
    "timediff_bssids_test = []\n",
    "for i in TIMEDIFF_FEATS:\n",
    "    timediff_bssids_test.extend(test_df.loc[:,i].values.tolist())\n",
    "timediff_bssids_test = list(set(timediff_bssids_test))\n",
    "\n",
    "test_timediff_bssids_size = len(timediff_bssids_test)\n",
    "print(f'TIMEDIFF TYPES(test): {test_timediff_bssids_size}')\n",
    "\n",
    "\n",
    "timediff_bssids.extend(timediff_bssids_test)\n",
    "timediff_bssids_size = len(set(timediff_bssids))\n",
    "print(f'TIMEDIFF TYPES(all): {timediff_bssids_size}')"
   ]
  },
  {
   "cell_type": "markdown",
   "metadata": {},
   "source": [
    "## preprocessing"
   ]
  },
  {
   "cell_type": "code",
   "execution_count": 12,
   "metadata": {},
   "outputs": [],
   "source": [
    "# preprocess\n",
    "\n",
    "le = LabelEncoder()\n",
    "le.fit(wifi_bssids)\n",
    "le_site = LabelEncoder()\n",
    "le_site.fit(train_df['site_id'])\n",
    "# le_rssi = LabelEncoder()\n",
    "# le_rssi.fit(rssi_bssids)\n",
    "\n",
    "ss = StandardScaler()\n",
    "ss.fit(train_df.loc[:,RSSI_FEATS])\n",
    "    \n",
    "\n",
    "def preprocess(input_df, le=le, le_site=le_site, ss=ss):\n",
    "    output_df = input_df.copy()\n",
    "    # RSSIの正規化\n",
    "    output_df.loc[:,RSSI_FEATS] = ss.transform(input_df.loc[:,RSSI_FEATS])\n",
    "\n",
    "    # BSSIDのLE(1からふる)\n",
    "    for i in BSSID_FEATS:\n",
    "        output_df.loc[:,i] = le.transform(input_df.loc[:,i])\n",
    "\n",
    "    # site_idのLE\n",
    "    output_df['site_id_str'] = input_df['site_id'].copy()\n",
    "    output_df.loc[:, 'site_id'] = le_site.transform(input_df.loc[:, 'site_id'])\n",
    "\n",
    "    # なぜ２重でやる？\n",
    "    # output_df.loc[:,RSSI_FEATS] = ss.transform(output_df.loc[:,RSSI_FEATS])\n",
    "    return output_df\n",
    "\n",
    "train = preprocess(train_df)\n",
    "test = preprocess(test_df)"
   ]
  },
  {
   "cell_type": "code",
   "execution_count": 13,
   "metadata": {},
   "outputs": [
    {
     "output_type": "execute_result",
     "data": {
      "text/plain": [
       "24"
      ]
     },
     "metadata": {},
     "execution_count": 13
    }
   ],
   "source": [
    "site_count = len(train['site_id'].unique())\n",
    "site_count"
   ]
  },
  {
   "cell_type": "markdown",
   "metadata": {},
   "source": [
    "## PyTorch model\n",
    "- embedding layerが重要  "
   ]
  },
  {
   "cell_type": "code",
   "execution_count": 14,
   "metadata": {},
   "outputs": [],
   "source": [
    "# dataset\n",
    "from torch.utils.data import Dataset, DataLoader\n",
    "class IndoorDataset(Dataset):\n",
    "    def __init__(self, df, phase='train'):\n",
    "        self.df = df\n",
    "        self.phase = phase\n",
    "        self.bssid_feats = df[BSSID_FEATS].values.astype(int)\n",
    "        self.rssi_feats = df[RSSI_FEATS].values.astype(np.float32)\n",
    "        timediff_feats = df[TIMEDIFF_FEATS].values.astype(np.float32)\n",
    "        self.weight = 1- (timediff_feats/np.max(timediff_feats))  # lossにかける重み。timediffが大きいほど小さくなる\n",
    "\n",
    "        self.site_id = df['site_id'].values.astype(int)\n",
    "\n",
    "        if phase in ['train', 'valid']:\n",
    "            self.xy = df[['x', 'y']].values.astype(np.float32)\n",
    "            self.ixy = df[['ix', 'iy']].values.astype(np.float32)\n",
    "            self.floor = df['floor'].values.astype(np.float32)\n",
    "        \n",
    "    def __len__(self):\n",
    "        return self.df.shape[0]\n",
    "\n",
    "    def __getitem__(self, idx):\n",
    "    \n",
    "        # concat_feat = self.bssid_feats.astype(str) + '_' + self.rssi_feats.astype(str) + '_' + self.timediff_feats.astype(str)\n",
    "        \n",
    "        feature = {\n",
    "            'BSSID_FEATS': self.bssid_feats[idx],\n",
    "            'RSSI_FEATS': self.rssi_feats[idx],\n",
    "            'site_id':self.site_id[idx],\n",
    "            'weight': self.weight[idx]\n",
    "        }\n",
    "        if self.phase in ['train', 'valid']:\n",
    "            target = {\n",
    "                'xy':self.xy[idx],\n",
    "                'ixy':self.ixy[idx],\n",
    "                'floor':self.floor[idx],\n",
    "            }\n",
    "        else:\n",
    "            target = {}\n",
    "        return feature, target"
   ]
  },
  {
   "cell_type": "code",
   "execution_count": 15,
   "metadata": {},
   "outputs": [],
   "source": [
    "def mean_position_error(xhat, yhat, fhat, x, y, f):\n",
    "    intermediate = np.sqrt(np.power(xhat-x, 2) + np.power(yhat-y, 2)) + 15 * np.abs(fhat-f)\n",
    "    return intermediate.sum()/xhat.shape[0]\n",
    "\n",
    "def to_np(input):\n",
    "    return input.detach().cpu().numpy()"
   ]
  },
  {
   "cell_type": "code",
   "execution_count": 16,
   "metadata": {},
   "outputs": [],
   "source": [
    "def get_optimizer(model: nn.Module, config: dict):\n",
    "    optimizer_config = config[\"optimizer\"]\n",
    "    optimizer_name = optimizer_config.get(\"name\")\n",
    "    base_optimizer_name = optimizer_config.get(\"base_name\")\n",
    "    optimizer_params = optimizer_config['params']\n",
    "\n",
    "    if hasattr(optim, optimizer_name):\n",
    "        optimizer = optim.__getattribute__(optimizer_name)(model.parameters(), **optimizer_params)\n",
    "        return optimizer\n",
    "    else:\n",
    "        base_optimizer = optim.__getattribute__(base_optimizer_name)\n",
    "        optimizer = globals().get(optimizer_name)(\n",
    "            model.parameters(), \n",
    "            base_optimizer,\n",
    "            **optimizer_config[\"params\"])\n",
    "        return  optimizer\n",
    "\n",
    "def get_scheduler(optimizer, config: dict):\n",
    "    scheduler_config = config[\"scheduler\"]\n",
    "    scheduler_name = scheduler_config.get(\"name\")\n",
    "\n",
    "    if scheduler_name is None:\n",
    "        return\n",
    "    else:\n",
    "        return optim.lr_scheduler.__getattribute__(scheduler_name)(\n",
    "            optimizer, **scheduler_config[\"params\"])\n",
    "\n",
    "\n",
    "def get_criterion(config: dict):\n",
    "    loss_config = config[\"loss\"]\n",
    "    loss_name = loss_config[\"name\"]\n",
    "    loss_params = {} if loss_config.get(\"params\") is None else loss_config.get(\"params\")\n",
    "    if hasattr(nn, loss_name):\n",
    "        criterion = nn.__getattribute__(loss_name)(**loss_params)\n",
    "    else:\n",
    "        criterion = globals().get(loss_name)(**loss_params)\n",
    "\n",
    "    return criterion\n",
    "\n",
    "def worker_init_fn(worker_id):                                                          \n",
    "    np.random.seed(np.random.get_state()[1][0] + worker_id)"
   ]
  },
  {
   "cell_type": "code",
   "execution_count": 17,
   "metadata": {},
   "outputs": [],
   "source": [
    "# Learner class(pytorch-lighting)\n",
    "class Learner(pl.LightningModule):\n",
    "    def __init__(self, model, config):\n",
    "        super().__init__()\n",
    "        self.model = model\n",
    "        self.config = config\n",
    "        self.xy_criterion = get_criterion(config)\n",
    "        self.f_criterion = get_criterion(config)\n",
    "    \n",
    "    def training_step(self, batch, batch_idx):\n",
    "        x, y = batch\n",
    "        output = self.model(x)\n",
    "        loss = self.xy_criterion(output[\"xy\"], y[\"ixy\"])\n",
    "        return loss\n",
    "    \n",
    "    def validation_step(self, batch, batch_idx):\n",
    "        x, y = batch\n",
    "        output = self.model(x)\n",
    "        xy_loss = self.xy_criterion(output[\"xy\"], y[\"ixy\"])\n",
    "        f_loss = self.f_criterion(output[\"floor\"], y[\"floor\"])\n",
    "        loss = xy_loss  # + f_loss\n",
    "        mpe = mean_position_error(\n",
    "            to_np(output['xy'][:, 0]), to_np(output['xy'][:, 1]), 0, \n",
    "            to_np(y['xy'][:, 0]), to_np(y['xy'][:, 1]), 0)\n",
    "\n",
    "        impe = mean_position_error(\n",
    "            to_np(output['xy'][:, 0]), to_np(output['xy'][:, 1]), 0, \n",
    "            to_np(y['ixy'][:, 0]), to_np(y['ixy'][:, 1]), 0)\n",
    "\n",
    "        # floor lossは現状は無視して良い\n",
    "        self.log(f'Loss/val', loss, on_step=False, on_epoch=True, prog_bar=False, logger=True)\n",
    "        self.log(f'Loss/xy', xy_loss, on_step=False, on_epoch=True, prog_bar=False, logger=True)\n",
    "        self.log(f'Loss/floor', f_loss, on_step=False, on_epoch=True, prog_bar=False, logger=True)\n",
    "        self.log(f'MPE/val', mpe, on_step=False, on_epoch=True, prog_bar=False, logger=True)\n",
    "        self.log(f'iMPE/val', impe, on_step=False, on_epoch=True, prog_bar=False, logger=True)\n",
    "        return loss\n",
    "\n",
    "    def configure_optimizers(self):\n",
    "        optimizer = get_optimizer(self.model, self.config)\n",
    "        scheduler = get_scheduler(optimizer, self.config)\n",
    "        return {\"optimizer\": optimizer, \"lr_scheduler\": scheduler, \"monitor\": \"Loss/val\"}"
   ]
  },
  {
   "cell_type": "code",
   "execution_count": 18,
   "metadata": {},
   "outputs": [],
   "source": [
    "# oof\n",
    "def evaluate(model, loaders, phase):\n",
    "    x_list = []\n",
    "    y_list = []\n",
    "    f_list = []\n",
    "    with torch.no_grad():\n",
    "        for batch in loaders[phase]:\n",
    "            x, y = batch\n",
    "            output = model(x)\n",
    "            x_list.append(to_np(output['xy'][:, 0]))\n",
    "            y_list.append(to_np(output['xy'][:, 1]))\n",
    "            f_list.append(to_np(output['floor']))\n",
    "\n",
    "    x_list = np.concatenate(x_list)\n",
    "    y_list = np.concatenate(y_list)\n",
    "    f_list = np.concatenate(f_list)\n",
    "    return x_list, y_list, f_list"
   ]
  },
  {
   "cell_type": "code",
   "execution_count": 19,
   "metadata": {},
   "outputs": [],
   "source": [
    "import torch\n",
    "from torch import nn\n",
    "\n",
    "class LSTMModel(nn.Module):\n",
    "    def __init__(self, wifi_bssids_size, site_count=24, embedding_dim=64):\n",
    "        super(LSTMModel, self).__init__()\n",
    "        \n",
    "\n",
    "        # bssid\n",
    "        # ->64次元に圧縮後sequence化にする\n",
    "        # wifi_bssids_sizeが辞書の数を表す\n",
    "        self.embedding_layer1 = nn.Sequential(\n",
    "            nn.Embedding(wifi_bssids_size, embedding_dim),\n",
    "            nn.Flatten(start_dim=-2)            \n",
    "        )\n",
    "        # site\n",
    "        # ->2次元に圧縮後sequence化する\n",
    "        # site_countが辞書の数を表す\n",
    "        self.embedding_layer2 = nn.Sequential(\n",
    "            nn.Embedding(site_count, embedding_dim),\n",
    "            nn.Flatten(start_dim=-1)           \n",
    "        )\n",
    "         \n",
    "        # rssi\n",
    "        # 次元を64倍に線形変換\n",
    "        self.linear_layer1 = nn.Sequential(\n",
    "            nn.BatchNorm1d(NUM_FEATS),\n",
    "            nn.Linear(NUM_FEATS, NUM_FEATS * embedding_dim),\n",
    "            nn.ReLU()\n",
    "        )\n",
    "        \n",
    "        # bssid, site, rssiの出力size\n",
    "        # feature_size =2 * embedding_dim\n",
    "        feature_size = (1 + 2 * NUM_FEATS) * embedding_dim  # 10301\n",
    "        self.linear_layer2 = nn.Sequential(\n",
    "            nn.BatchNorm1d(feature_size),\n",
    "            nn.Dropout(0.3),\n",
    "            nn.Linear(feature_size, 256),\n",
    "            nn.ReLU()\n",
    "        )\n",
    "        \n",
    "        self.batch_norm1 = nn.BatchNorm1d(1)\n",
    "        self.lstm1 = nn.LSTM(input_size=256,hidden_size=128,dropout=0.3, batch_first=True)\n",
    "        self.lstm2 = nn.LSTM(input_size=128,hidden_size=16,dropout=0.1, batch_first=True)\n",
    "\n",
    "        self.fc_xy = nn.Linear(16, 2)\n",
    "        self.fc_floor = nn.Linear(16, 1)\n",
    "\n",
    "    \n",
    "    def forward(self, x):\n",
    "        # x.shape=(batch, 80, 3)\n",
    "        # input embedding\n",
    "        batch_size = x[\"site_id\"].shape[0]\n",
    "    \n",
    "        x_bssid = self.embedding_layer1(x[\"BSSID_FEATS\"])  # (batch, 80) -> (batch, 64)\n",
    "        x_site_id = self.embedding_layer2(x['site_id'])  # (batch, 64)\n",
    "        x_rssi = x['RSSI_FEATS'] * x['weight']\n",
    "        x_rssi = self.linear_layer1(x_rssi) \n",
    "        x = torch.cat([x_bssid, x_rssi, x_site_id], dim=-1)\n",
    "        x = self.linear_layer2(x)\n",
    "\n",
    "        # lstm layer\n",
    "        x = x.view(batch_size, 1, -1)  # [batch, 1]->[batch, 1, 1]\n",
    "        x = self.batch_norm1(x)\n",
    "        x, _ = self.lstm1(x)\n",
    "        x = torch.relu(x)\n",
    "        x, _ = self.lstm2(x)\n",
    "        x = torch.relu(x)\n",
    "\n",
    "        # output [batch, 1, 1] -> [batch]\n",
    "        xy = self.fc_xy(x).squeeze(1)\n",
    "        floor = torch.relu(self.fc_floor(x)).view(-1)\n",
    "        return {\"xy\": xy, \"floor\": floor}"
   ]
  },
  {
   "cell_type": "markdown",
   "metadata": {},
   "source": [
    "## train"
   ]
  },
  {
   "cell_type": "code",
   "execution_count": 20,
   "metadata": {
    "tags": []
   },
   "outputs": [
    {
     "output_type": "stream",
     "name": "stdout",
     "text": [
      "====================\n",
      "Fold 0\n",
      "====================\n",
      "/usr/local/lib/python3.8/dist-packages/torch/nn/modules/rnn.py:58: UserWarning: dropout option adds dropout after all but last recurrent layer, so non-zero dropout expects num_layers greater than 1, but got dropout=0.3 and num_layers=1\n",
      "  warnings.warn(\"dropout option adds dropout after all but last \"\n",
      "/usr/local/lib/python3.8/dist-packages/torch/nn/modules/rnn.py:58: UserWarning: dropout option adds dropout after all but last recurrent layer, so non-zero dropout expects num_layers greater than 1, but got dropout=0.1 and num_layers=1\n",
      "  warnings.warn(\"dropout option adds dropout after all but last \"\n",
      "Failed to detect the name of this notebook, you can set it manually with the WANDB_NOTEBOOK_NAME environment variable to enable code saving.\n",
      "\u001b[34m\u001b[1mwandb\u001b[0m: Currently logged in as: \u001b[33mkuto5046\u001b[0m (use `wandb login --relogin` to force relogin)\n",
      "\u001b[34m\u001b[1mwandb\u001b[0m: wandb version 0.10.27 is available!  To upgrade, please run:\n",
      "\u001b[34m\u001b[1mwandb\u001b[0m:  $ pip install wandb --upgrade\n"
     ]
    },
    {
     "output_type": "display_data",
     "data": {
      "text/plain": "<IPython.core.display.HTML object>",
      "text/html": "\n                Tracking run with wandb version 0.10.22<br/>\n                Syncing run <strong style=\"color:#cdcd00\">daily-sound-533</strong> to <a href=\"https://wandb.ai\" target=\"_blank\">Weights & Biases</a> <a href=\"https://docs.wandb.com/integrations/jupyter.html\" target=\"_blank\">(Documentation)</a>.<br/>\n                Project page: <a href=\"https://wandb.ai/kuto5046/indoor\" target=\"_blank\">https://wandb.ai/kuto5046/indoor</a><br/>\n                Run page: <a href=\"https://wandb.ai/kuto5046/indoor/runs/8r4hdt50\" target=\"_blank\">https://wandb.ai/kuto5046/indoor/runs/8r4hdt50</a><br/>\n                Run data is saved locally in <code>/home/user/work/exp/exp027/wandb/run-20210425_214754-8r4hdt50</code><br/><br/>\n            "
     },
     "metadata": {}
    },
    {
     "output_type": "stream",
     "name": "stdout",
     "text": [
      "fold 0: mean position error 7.265460077896787\nfold 0: mean position error 6.7863650194741965\n"
     ]
    },
    {
     "output_type": "display_data",
     "data": {
      "text/plain": "<IPython.core.display.HTML object>",
      "text/html": "<br/>Waiting for W&B process to finish, PID 1249171<br/>Program ended successfully."
     },
     "metadata": {}
    },
    {
     "output_type": "display_data",
     "data": {
      "text/plain": "VBox(children=(Label(value=' 0.00MB of 0.00MB uploaded (0.00MB deduped)\\r'), FloatProgress(value=1.0, max=1.0)…",
      "application/vnd.jupyter.widget-view+json": {
       "version_major": 2,
       "version_minor": 0,
       "model_id": "d0f01fd0843a4501be87a217f809e8c2"
      }
     },
     "metadata": {}
    },
    {
     "output_type": "display_data",
     "data": {
      "text/plain": "<IPython.core.display.HTML object>",
      "text/html": "Find user logs for this run at: <code>/home/user/work/exp/exp027/wandb/run-20210425_214754-8r4hdt50/logs/debug.log</code>"
     },
     "metadata": {}
    },
    {
     "output_type": "display_data",
     "data": {
      "text/plain": "<IPython.core.display.HTML object>",
      "text/html": "Find internal logs for this run at: <code>/home/user/work/exp/exp027/wandb/run-20210425_214754-8r4hdt50/logs/debug-internal.log</code>"
     },
     "metadata": {}
    },
    {
     "output_type": "display_data",
     "data": {
      "text/plain": "<IPython.core.display.HTML object>",
      "text/html": "Synced 5 W&B file(s), 0 media file(s), 0 artifact file(s) and 0 other file(s)"
     },
     "metadata": {}
    },
    {
     "output_type": "display_data",
     "data": {
      "text/plain": "<IPython.core.display.HTML object>",
      "text/html": "\n                    <br/>Synced <strong style=\"color:#cdcd00\">daily-sound-533</strong>: <a href=\"https://wandb.ai/kuto5046/indoor/runs/8r4hdt50\" target=\"_blank\">https://wandb.ai/kuto5046/indoor/runs/8r4hdt50</a><br/>\n                "
     },
     "metadata": {}
    },
    {
     "output_type": "stream",
     "name": "stdout",
     "text": [
      "====================\n",
      "Fold 1\n",
      "====================\n",
      "\u001b[34m\u001b[1mwandb\u001b[0m: wandb version 0.10.27 is available!  To upgrade, please run:\n",
      "\u001b[34m\u001b[1mwandb\u001b[0m:  $ pip install wandb --upgrade\n"
     ]
    },
    {
     "output_type": "display_data",
     "data": {
      "text/plain": "<IPython.core.display.HTML object>",
      "text/html": "\n                Tracking run with wandb version 0.10.22<br/>\n                Syncing run <strong style=\"color:#cdcd00\">hearty-hill-534</strong> to <a href=\"https://wandb.ai\" target=\"_blank\">Weights & Biases</a> <a href=\"https://docs.wandb.com/integrations/jupyter.html\" target=\"_blank\">(Documentation)</a>.<br/>\n                Project page: <a href=\"https://wandb.ai/kuto5046/indoor\" target=\"_blank\">https://wandb.ai/kuto5046/indoor</a><br/>\n                Run page: <a href=\"https://wandb.ai/kuto5046/indoor/runs/dqm35gtn\" target=\"_blank\">https://wandb.ai/kuto5046/indoor/runs/dqm35gtn</a><br/>\n                Run data is saved locally in <code>/home/user/work/exp/exp027/wandb/run-20210425_214808-dqm35gtn</code><br/><br/>\n            "
     },
     "metadata": {}
    },
    {
     "output_type": "stream",
     "name": "stdout",
     "text": [
      "fold 1: mean position error 7.386001703992211\nfold 1: mean position error 6.92860211781889\n"
     ]
    },
    {
     "output_type": "display_data",
     "data": {
      "text/plain": "<IPython.core.display.HTML object>",
      "text/html": "<br/>Waiting for W&B process to finish, PID 1249683<br/>Program ended successfully."
     },
     "metadata": {}
    },
    {
     "output_type": "display_data",
     "data": {
      "text/plain": "VBox(children=(Label(value=' 0.00MB of 0.00MB uploaded (0.00MB deduped)\\r'), FloatProgress(value=1.0, max=1.0)…",
      "application/vnd.jupyter.widget-view+json": {
       "version_major": 2,
       "version_minor": 0,
       "model_id": "fbe48eac45244472b578fc2487754f47"
      }
     },
     "metadata": {}
    },
    {
     "output_type": "display_data",
     "data": {
      "text/plain": "<IPython.core.display.HTML object>",
      "text/html": "Find user logs for this run at: <code>/home/user/work/exp/exp027/wandb/run-20210425_214808-dqm35gtn/logs/debug.log</code>"
     },
     "metadata": {}
    },
    {
     "output_type": "display_data",
     "data": {
      "text/plain": "<IPython.core.display.HTML object>",
      "text/html": "Find internal logs for this run at: <code>/home/user/work/exp/exp027/wandb/run-20210425_214808-dqm35gtn/logs/debug-internal.log</code>"
     },
     "metadata": {}
    },
    {
     "output_type": "display_data",
     "data": {
      "text/plain": "<IPython.core.display.HTML object>",
      "text/html": "Synced 5 W&B file(s), 0 media file(s), 0 artifact file(s) and 0 other file(s)"
     },
     "metadata": {}
    },
    {
     "output_type": "display_data",
     "data": {
      "text/plain": "<IPython.core.display.HTML object>",
      "text/html": "\n                    <br/>Synced <strong style=\"color:#cdcd00\">hearty-hill-534</strong>: <a href=\"https://wandb.ai/kuto5046/indoor/runs/dqm35gtn\" target=\"_blank\">https://wandb.ai/kuto5046/indoor/runs/dqm35gtn</a><br/>\n                "
     },
     "metadata": {}
    },
    {
     "output_type": "stream",
     "name": "stdout",
     "text": [
      "====================\n",
      "Fold 2\n",
      "====================\n",
      "\u001b[34m\u001b[1mwandb\u001b[0m: wandb version 0.10.27 is available!  To upgrade, please run:\n",
      "\u001b[34m\u001b[1mwandb\u001b[0m:  $ pip install wandb --upgrade\n"
     ]
    },
    {
     "output_type": "display_data",
     "data": {
      "text/plain": "<IPython.core.display.HTML object>",
      "text/html": "\n                Tracking run with wandb version 0.10.22<br/>\n                Syncing run <strong style=\"color:#cdcd00\">pious-breeze-535</strong> to <a href=\"https://wandb.ai\" target=\"_blank\">Weights & Biases</a> <a href=\"https://docs.wandb.com/integrations/jupyter.html\" target=\"_blank\">(Documentation)</a>.<br/>\n                Project page: <a href=\"https://wandb.ai/kuto5046/indoor\" target=\"_blank\">https://wandb.ai/kuto5046/indoor</a><br/>\n                Run page: <a href=\"https://wandb.ai/kuto5046/indoor/runs/2emjhcb6\" target=\"_blank\">https://wandb.ai/kuto5046/indoor/runs/2emjhcb6</a><br/>\n                Run data is saved locally in <code>/home/user/work/exp/exp027/wandb/run-20210425_214820-2emjhcb6</code><br/><br/>\n            "
     },
     "metadata": {}
    },
    {
     "output_type": "stream",
     "name": "stdout",
     "text": [
      "fold 2: mean position error 7.503517526777021\nfold 2: mean position error 7.044353091528724\n"
     ]
    },
    {
     "output_type": "display_data",
     "data": {
      "text/plain": "<IPython.core.display.HTML object>",
      "text/html": "<br/>Waiting for W&B process to finish, PID 1250175<br/>Program ended successfully."
     },
     "metadata": {}
    },
    {
     "output_type": "display_data",
     "data": {
      "text/plain": "VBox(children=(Label(value=' 0.00MB of 0.00MB uploaded (0.00MB deduped)\\r'), FloatProgress(value=1.0, max=1.0)…",
      "application/vnd.jupyter.widget-view+json": {
       "version_major": 2,
       "version_minor": 0,
       "model_id": "e10290afeb9f4e06b5d0b92003e91903"
      }
     },
     "metadata": {}
    },
    {
     "output_type": "display_data",
     "data": {
      "text/plain": "<IPython.core.display.HTML object>",
      "text/html": "Find user logs for this run at: <code>/home/user/work/exp/exp027/wandb/run-20210425_214820-2emjhcb6/logs/debug.log</code>"
     },
     "metadata": {}
    },
    {
     "output_type": "display_data",
     "data": {
      "text/plain": "<IPython.core.display.HTML object>",
      "text/html": "Find internal logs for this run at: <code>/home/user/work/exp/exp027/wandb/run-20210425_214820-2emjhcb6/logs/debug-internal.log</code>"
     },
     "metadata": {}
    },
    {
     "output_type": "display_data",
     "data": {
      "text/plain": "<IPython.core.display.HTML object>",
      "text/html": "Synced 5 W&B file(s), 0 media file(s), 0 artifact file(s) and 0 other file(s)"
     },
     "metadata": {}
    },
    {
     "output_type": "display_data",
     "data": {
      "text/plain": "<IPython.core.display.HTML object>",
      "text/html": "\n                    <br/>Synced <strong style=\"color:#cdcd00\">pious-breeze-535</strong>: <a href=\"https://wandb.ai/kuto5046/indoor/runs/2emjhcb6\" target=\"_blank\">https://wandb.ai/kuto5046/indoor/runs/2emjhcb6</a><br/>\n                "
     },
     "metadata": {}
    },
    {
     "output_type": "stream",
     "name": "stdout",
     "text": [
      "====================\n",
      "Fold 3\n",
      "====================\n",
      "\u001b[34m\u001b[1mwandb\u001b[0m: wandb version 0.10.27 is available!  To upgrade, please run:\n",
      "\u001b[34m\u001b[1mwandb\u001b[0m:  $ pip install wandb --upgrade\n"
     ]
    },
    {
     "output_type": "display_data",
     "data": {
      "text/plain": "<IPython.core.display.HTML object>",
      "text/html": "\n                Tracking run with wandb version 0.10.22<br/>\n                Syncing run <strong style=\"color:#cdcd00\">fearless-music-536</strong> to <a href=\"https://wandb.ai\" target=\"_blank\">Weights & Biases</a> <a href=\"https://docs.wandb.com/integrations/jupyter.html\" target=\"_blank\">(Documentation)</a>.<br/>\n                Project page: <a href=\"https://wandb.ai/kuto5046/indoor\" target=\"_blank\">https://wandb.ai/kuto5046/indoor</a><br/>\n                Run page: <a href=\"https://wandb.ai/kuto5046/indoor/runs/snke88hc\" target=\"_blank\">https://wandb.ai/kuto5046/indoor/runs/snke88hc</a><br/>\n                Run data is saved locally in <code>/home/user/work/exp/exp027/wandb/run-20210425_214833-snke88hc</code><br/><br/>\n            "
     },
     "metadata": {}
    },
    {
     "output_type": "stream",
     "name": "stdout",
     "text": [
      "fold 3: mean position error 7.385619522882181\nfold 3: mean position error 6.902472614410906\n"
     ]
    },
    {
     "output_type": "display_data",
     "data": {
      "text/plain": "<IPython.core.display.HTML object>",
      "text/html": "<br/>Waiting for W&B process to finish, PID 1250661<br/>Program ended successfully."
     },
     "metadata": {}
    },
    {
     "output_type": "display_data",
     "data": {
      "text/plain": "VBox(children=(Label(value=' 0.00MB of 0.00MB uploaded (0.00MB deduped)\\r'), FloatProgress(value=1.0, max=1.0)…",
      "application/vnd.jupyter.widget-view+json": {
       "version_major": 2,
       "version_minor": 0,
       "model_id": "33cd2fc5aa684dfe89983a54c6b5fec3"
      }
     },
     "metadata": {}
    },
    {
     "output_type": "display_data",
     "data": {
      "text/plain": "<IPython.core.display.HTML object>",
      "text/html": "Find user logs for this run at: <code>/home/user/work/exp/exp027/wandb/run-20210425_214833-snke88hc/logs/debug.log</code>"
     },
     "metadata": {}
    },
    {
     "output_type": "display_data",
     "data": {
      "text/plain": "<IPython.core.display.HTML object>",
      "text/html": "Find internal logs for this run at: <code>/home/user/work/exp/exp027/wandb/run-20210425_214833-snke88hc/logs/debug-internal.log</code>"
     },
     "metadata": {}
    },
    {
     "output_type": "display_data",
     "data": {
      "text/plain": "<IPython.core.display.HTML object>",
      "text/html": "Synced 5 W&B file(s), 0 media file(s), 0 artifact file(s) and 0 other file(s)"
     },
     "metadata": {}
    },
    {
     "output_type": "display_data",
     "data": {
      "text/plain": "<IPython.core.display.HTML object>",
      "text/html": "\n                    <br/>Synced <strong style=\"color:#cdcd00\">fearless-music-536</strong>: <a href=\"https://wandb.ai/kuto5046/indoor/runs/snke88hc\" target=\"_blank\">https://wandb.ai/kuto5046/indoor/runs/snke88hc</a><br/>\n                "
     },
     "metadata": {}
    },
    {
     "output_type": "stream",
     "name": "stdout",
     "text": [
      "====================\n",
      "Fold 4\n",
      "====================\n",
      "\u001b[34m\u001b[1mwandb\u001b[0m: wandb version 0.10.27 is available!  To upgrade, please run:\n",
      "\u001b[34m\u001b[1mwandb\u001b[0m:  $ pip install wandb --upgrade\n"
     ]
    },
    {
     "output_type": "display_data",
     "data": {
      "text/plain": "<IPython.core.display.HTML object>",
      "text/html": "\n                Tracking run with wandb version 0.10.22<br/>\n                Syncing run <strong style=\"color:#cdcd00\">whole-lake-537</strong> to <a href=\"https://wandb.ai\" target=\"_blank\">Weights & Biases</a> <a href=\"https://docs.wandb.com/integrations/jupyter.html\" target=\"_blank\">(Documentation)</a>.<br/>\n                Project page: <a href=\"https://wandb.ai/kuto5046/indoor\" target=\"_blank\">https://wandb.ai/kuto5046/indoor</a><br/>\n                Run page: <a href=\"https://wandb.ai/kuto5046/indoor/runs/3jtexpxu\" target=\"_blank\">https://wandb.ai/kuto5046/indoor/runs/3jtexpxu</a><br/>\n                Run data is saved locally in <code>/home/user/work/exp/exp027/wandb/run-20210425_214845-3jtexpxu</code><br/><br/>\n            "
     },
     "metadata": {}
    },
    {
     "output_type": "stream",
     "name": "stdout",
     "text": [
      "fold 4: mean position error 7.457561247541335\nfold 4: mean position error 6.971061997312509\n"
     ]
    }
   ],
   "source": [
    "oofs = []  # 全てのoofをdfで格納する\n",
    "predictions = []  # 全ての予測値をdfで格納する\n",
    "val_scores = []\n",
    "# skf = model_selection.StratifiedKFold(n_splits=N_SPLITS, shuffle=True, random_state=SEED)\n",
    "gkf = model_selection.GroupKFold(n_splits=N_SPLITS)\n",
    "\n",
    "train_fold = [(trn_idx, val_idx) for trn_idx, val_idx in gkf.split(train.loc[:, 'path'], groups=train.loc[:, 'path'])]\n",
    "# 今回はtargetを均等に分ける必要はなくpathが均等に分かれればいいのでskf.split()にpathを与えている。\n",
    "for fold in range(5):\n",
    "    # 指定したfoldのみループを回す\n",
    "    if fold not in USE_FOLDS:\n",
    "        continue\n",
    "\n",
    "    print('=' * 20)\n",
    "    print(f'Fold {fold}')\n",
    "    print('=' * 20)\n",
    "\n",
    "    # train/valid data\n",
    "    trn_idx_for_train, val_idx_for_train = train_fold[fold]\n",
    "    trn_df = train.loc[trn_idx_for_train, :].reset_index(drop=True)\n",
    "    trn_df = trn_df.loc[:,BSSID_FEATS + RSSI_FEATS + TIMEDIFF_FEATS + ['site_id', 'x', 'y', 'ix','iy','floor']]\n",
    "    \n",
    "    val_df = train.loc[val_idx_for_train, :].reset_index(drop=True)\n",
    "    val_df = val_df.loc[:,BSSID_FEATS + RSSI_FEATS + TIMEDIFF_FEATS + ['site_id', 'x', 'y', 'ix','iy','floor']]\n",
    "\n",
    "    # data loader\n",
    "    loaders = {}\n",
    "    loader_config = config[\"loader\"]\n",
    "    loaders[\"train\"] = DataLoader(IndoorDataset(trn_df, phase=\"train\"), **loader_config[\"train\"], worker_init_fn=worker_init_fn) \n",
    "    loaders[\"valid\"] = DataLoader(IndoorDataset(val_df, phase=\"valid\"), **loader_config[\"valid\"], worker_init_fn=worker_init_fn)\n",
    "    loaders[\"test\"] = DataLoader(IndoorDataset(test, phase=\"test\"), **loader_config[\"test\"], worker_init_fn=worker_init_fn)\n",
    "\n",
    "    # model\n",
    "    model = LSTMModel(wifi_bssids_size, site_count)  # \n",
    "    model_name = model.__class__.__name__\n",
    "\n",
    "    # callbacks\n",
    "    callbacks = []\n",
    "    checkpoint_callback = ModelCheckpoint(\n",
    "        monitor=f'Loss/val',\n",
    "        mode='min',\n",
    "        dirpath=f\"../../model/{EXP_NAME}\",\n",
    "        verbose=False,\n",
    "        filename=f'{model_name}-{fold}')\n",
    "    \n",
    "    if MODEL_SAVE:\n",
    "        callbacks.append(checkpoint_callback)\n",
    "\n",
    "    early_stop_callback = EarlyStopping(\n",
    "        monitor='Loss/val',\n",
    "        min_delta=0.00,\n",
    "        patience=20,\n",
    "        verbose=False,\n",
    "        mode='min')\n",
    "    callbacks.append(early_stop_callback)\n",
    "\n",
    "    # loggers\n",
    "    RUN_NAME = EXP_NAME + \"_\" + EXP_MESSAGE\n",
    "    wandb.init(project='indoor', notes=NOTES, entity='kuto5046', group=RUN_NAME)\n",
    "    wandb.run.name = RUN_NAME + f'-fold-{fold}'\n",
    "    wandb_config = wandb.config\n",
    "    wandb_config['model_name'] = model_name\n",
    "    wandb_config['LB'] = None\n",
    "    wandb.watch(model)\n",
    "    \n",
    "    \n",
    "    loggers = []\n",
    "    loggers.append(WandbLogger())\n",
    "\n",
    "    learner = Learner(model, config)\n",
    "    # pretrained flag\n",
    "    if PRETRAINED:\n",
    "        ckpt = torch.load(PRETRAINED_PATH + f'{model_name}-{fold}.ckpt')\n",
    "        learner.load_state_dict(ckpt['state_dict'])\n",
    "\n",
    "    if not ONLY_PRED:\n",
    "        trainer = pl.Trainer(\n",
    "            logger=loggers, \n",
    "            callbacks=callbacks,\n",
    "            max_epochs=MAX_EPOCHS,\n",
    "            gpus=[0],\n",
    "            fast_dev_run=DEBUG,\n",
    "            deterministic=True,\n",
    "            # precision=16,\n",
    "            progress_bar_refresh_rate=0  # vscodeの時progress barの動作が遅いので表示しない\n",
    "            )\n",
    "\n",
    "        trainer.fit(learner, train_dataloader=loaders['train'], val_dataloaders=loaders['valid'])\n",
    "\n",
    "    #############\n",
    "    # validation (to make oof)\n",
    "    #############\n",
    "    model.eval()  \n",
    "    oof_df = train.loc[val_idx_for_train, ['timestamp', 'x', 'y', 'floor', 'ix', 'iy', 'floor_str','path', 'site_id', 'site_id_str']].reset_index(drop=True)\n",
    "    oof_x, oof_y, oof_f = evaluate(model, loaders, phase=\"valid\")\n",
    "    oof_df[\"oof_x\"] = oof_x\n",
    "    oof_df[\"oof_y\"] = oof_y\n",
    "    oof_df[\"oof_floor\"] = oof_f\n",
    "    oofs.append(oof_df)\n",
    "    \n",
    "    # 補間前のtargetで評価\n",
    "    val_score = mean_position_error(\n",
    "        oof_df[\"oof_x\"].values, oof_df[\"oof_y\"].values, 0,\n",
    "        oof_df['x'].values, oof_df['y'].values, 0)\n",
    "    val_scores.append(val_score)\n",
    "    print(f\"fold {fold}: mean position error {val_score}\")\n",
    "\n",
    "    # 補間後のtargetで評価\n",
    "    val_score = mean_position_error(\n",
    "        oof_df[\"oof_x\"].values, oof_df[\"oof_y\"].values, 0,\n",
    "        oof_df['ix'].values, oof_df['iy'].values, 0)\n",
    "    val_scores.append(val_score)\n",
    "    print(f\"fold {fold}: mean position error {val_score}\")\n",
    "\n",
    "    #############\n",
    "    # inference\n",
    "    #############n\n",
    "\n",
    "    preds_x, preds_y, preds_f = evaluate(model, loaders, phase=\"test\")\n",
    "    test_preds = pd.DataFrame(np.stack((preds_f, preds_x, preds_y))).T\n",
    "    test_preds.columns = sub_df.columns\n",
    "    test_preds[\"site_path_timestamp\"] = test[\"site_path_timestamp\"]\n",
    "    test_preds[\"floor\"] = test_preds[\"floor\"].astype(int)\n",
    "    test_preds.to_csv(f'{EXP_NAME}_fold{fold}.csv', index=False)\n",
    "    predictions.append(test_preds)\n",
    "\n",
    "    if fold != 4:\n",
    "        wandb.finish()"
   ]
  },
  {
   "cell_type": "markdown",
   "metadata": {},
   "source": [
    "## validation"
   ]
  },
  {
   "cell_type": "code",
   "execution_count": 21,
   "metadata": {},
   "outputs": [
    {
     "output_type": "execute_result",
     "data": {
      "text/plain": [
       "            timestamp           x           y  floor          ix          iy  \\\n",
       "0       1561368762838   78.218193   38.999737    2.0   77.843651   37.382805   \n",
       "1       1561368762838   78.218193   38.999737    2.0   77.562737   36.170105   \n",
       "2       1561368774057   76.251839   30.510839    2.0   76.308945   29.970827   \n",
       "3       1561368774057   76.251839   30.510839    2.0   77.222664   21.330624   \n",
       "4       1561368774057   76.251839   30.510839    2.0   76.994240   23.490675   \n",
       "...               ...         ...         ...    ...         ...         ...   \n",
       "256744  1574420742502  193.204880  108.001518   -1.0  195.845032  107.961899   \n",
       "256745  1574420742502  193.204880  108.001518   -1.0  197.957138  107.930206   \n",
       "256746  1574420753754  204.293488  107.835121   -1.0  201.653351  107.874741   \n",
       "256747  1574420753754  204.293488  107.835121   -1.0  203.237427  107.850967   \n",
       "256748  1574420753754  204.293488  107.835121   -1.0  200.069260  107.898514   \n",
       "\n",
       "       floor_str                      path  site_id               site_id_str  \\\n",
       "0             F3  5d10a1669c50c70008fe8977        0  5a0546857ecc773753327266   \n",
       "1             F3  5d10a1669c50c70008fe8977        0  5a0546857ecc773753327266   \n",
       "2             F3  5d10a1669c50c70008fe8977        0  5a0546857ecc773753327266   \n",
       "3             F3  5d10a1669c50c70008fe8977        0  5a0546857ecc773753327266   \n",
       "4             F3  5d10a1669c50c70008fe8977        0  5a0546857ecc773753327266   \n",
       "...          ...                       ...      ...                       ...   \n",
       "256744        B1  5dd7c119c5b77e0006b16b99       23  5dc8cea7659e181adb076a3f   \n",
       "256745        B1  5dd7c119c5b77e0006b16b99       23  5dc8cea7659e181adb076a3f   \n",
       "256746        B1  5dd7c119c5b77e0006b16b99       23  5dc8cea7659e181adb076a3f   \n",
       "256747        B1  5dd7c119c5b77e0006b16b99       23  5dc8cea7659e181adb076a3f   \n",
       "256748        B1  5dd7c119c5b77e0006b16b99       23  5dc8cea7659e181adb076a3f   \n",
       "\n",
       "             oof_x       oof_y  oof_floor  \\\n",
       "0        78.898567   39.335052   0.000000   \n",
       "1        81.260681   33.549149   0.000000   \n",
       "2        82.527695   30.896685   0.000000   \n",
       "3        80.717308   28.906256   0.000000   \n",
       "4        79.884903   26.587894   0.000000   \n",
       "...            ...         ...        ...   \n",
       "256744  201.334671  105.369644   0.433354   \n",
       "256745  198.972198  106.005524   0.426785   \n",
       "256746  201.797028  106.997734   0.436648   \n",
       "256747  202.778946  105.169876   0.437685   \n",
       "256748  202.729416  106.502975   0.438920   \n",
       "\n",
       "                                      site_path_timestamp  \n",
       "0       5a0546857ecc773753327266_5d10a1669c50c70008fe8...  \n",
       "1       5a0546857ecc773753327266_5d10a1669c50c70008fe8...  \n",
       "2       5a0546857ecc773753327266_5d10a1669c50c70008fe8...  \n",
       "3       5a0546857ecc773753327266_5d10a1669c50c70008fe8...  \n",
       "4       5a0546857ecc773753327266_5d10a1669c50c70008fe8...  \n",
       "...                                                   ...  \n",
       "256744  5dc8cea7659e181adb076a3f_5dd7c119c5b77e0006b16...  \n",
       "256745  5dc8cea7659e181adb076a3f_5dd7c119c5b77e0006b16...  \n",
       "256746  5dc8cea7659e181adb076a3f_5dd7c119c5b77e0006b16...  \n",
       "256747  5dc8cea7659e181adb076a3f_5dd7c119c5b77e0006b16...  \n",
       "256748  5dc8cea7659e181adb076a3f_5dd7c119c5b77e0006b16...  \n",
       "\n",
       "[256749 rows x 14 columns]"
      ],
      "text/html": "<div>\n<style scoped>\n    .dataframe tbody tr th:only-of-type {\n        vertical-align: middle;\n    }\n\n    .dataframe tbody tr th {\n        vertical-align: top;\n    }\n\n    .dataframe thead th {\n        text-align: right;\n    }\n</style>\n<table border=\"1\" class=\"dataframe\">\n  <thead>\n    <tr style=\"text-align: right;\">\n      <th></th>\n      <th>timestamp</th>\n      <th>x</th>\n      <th>y</th>\n      <th>floor</th>\n      <th>ix</th>\n      <th>iy</th>\n      <th>floor_str</th>\n      <th>path</th>\n      <th>site_id</th>\n      <th>site_id_str</th>\n      <th>oof_x</th>\n      <th>oof_y</th>\n      <th>oof_floor</th>\n      <th>site_path_timestamp</th>\n    </tr>\n  </thead>\n  <tbody>\n    <tr>\n      <th>0</th>\n      <td>1561368762838</td>\n      <td>78.218193</td>\n      <td>38.999737</td>\n      <td>2.0</td>\n      <td>77.843651</td>\n      <td>37.382805</td>\n      <td>F3</td>\n      <td>5d10a1669c50c70008fe8977</td>\n      <td>0</td>\n      <td>5a0546857ecc773753327266</td>\n      <td>78.898567</td>\n      <td>39.335052</td>\n      <td>0.000000</td>\n      <td>5a0546857ecc773753327266_5d10a1669c50c70008fe8...</td>\n    </tr>\n    <tr>\n      <th>1</th>\n      <td>1561368762838</td>\n      <td>78.218193</td>\n      <td>38.999737</td>\n      <td>2.0</td>\n      <td>77.562737</td>\n      <td>36.170105</td>\n      <td>F3</td>\n      <td>5d10a1669c50c70008fe8977</td>\n      <td>0</td>\n      <td>5a0546857ecc773753327266</td>\n      <td>81.260681</td>\n      <td>33.549149</td>\n      <td>0.000000</td>\n      <td>5a0546857ecc773753327266_5d10a1669c50c70008fe8...</td>\n    </tr>\n    <tr>\n      <th>2</th>\n      <td>1561368774057</td>\n      <td>76.251839</td>\n      <td>30.510839</td>\n      <td>2.0</td>\n      <td>76.308945</td>\n      <td>29.970827</td>\n      <td>F3</td>\n      <td>5d10a1669c50c70008fe8977</td>\n      <td>0</td>\n      <td>5a0546857ecc773753327266</td>\n      <td>82.527695</td>\n      <td>30.896685</td>\n      <td>0.000000</td>\n      <td>5a0546857ecc773753327266_5d10a1669c50c70008fe8...</td>\n    </tr>\n    <tr>\n      <th>3</th>\n      <td>1561368774057</td>\n      <td>76.251839</td>\n      <td>30.510839</td>\n      <td>2.0</td>\n      <td>77.222664</td>\n      <td>21.330624</td>\n      <td>F3</td>\n      <td>5d10a1669c50c70008fe8977</td>\n      <td>0</td>\n      <td>5a0546857ecc773753327266</td>\n      <td>80.717308</td>\n      <td>28.906256</td>\n      <td>0.000000</td>\n      <td>5a0546857ecc773753327266_5d10a1669c50c70008fe8...</td>\n    </tr>\n    <tr>\n      <th>4</th>\n      <td>1561368774057</td>\n      <td>76.251839</td>\n      <td>30.510839</td>\n      <td>2.0</td>\n      <td>76.994240</td>\n      <td>23.490675</td>\n      <td>F3</td>\n      <td>5d10a1669c50c70008fe8977</td>\n      <td>0</td>\n      <td>5a0546857ecc773753327266</td>\n      <td>79.884903</td>\n      <td>26.587894</td>\n      <td>0.000000</td>\n      <td>5a0546857ecc773753327266_5d10a1669c50c70008fe8...</td>\n    </tr>\n    <tr>\n      <th>...</th>\n      <td>...</td>\n      <td>...</td>\n      <td>...</td>\n      <td>...</td>\n      <td>...</td>\n      <td>...</td>\n      <td>...</td>\n      <td>...</td>\n      <td>...</td>\n      <td>...</td>\n      <td>...</td>\n      <td>...</td>\n      <td>...</td>\n      <td>...</td>\n    </tr>\n    <tr>\n      <th>256744</th>\n      <td>1574420742502</td>\n      <td>193.204880</td>\n      <td>108.001518</td>\n      <td>-1.0</td>\n      <td>195.845032</td>\n      <td>107.961899</td>\n      <td>B1</td>\n      <td>5dd7c119c5b77e0006b16b99</td>\n      <td>23</td>\n      <td>5dc8cea7659e181adb076a3f</td>\n      <td>201.334671</td>\n      <td>105.369644</td>\n      <td>0.433354</td>\n      <td>5dc8cea7659e181adb076a3f_5dd7c119c5b77e0006b16...</td>\n    </tr>\n    <tr>\n      <th>256745</th>\n      <td>1574420742502</td>\n      <td>193.204880</td>\n      <td>108.001518</td>\n      <td>-1.0</td>\n      <td>197.957138</td>\n      <td>107.930206</td>\n      <td>B1</td>\n      <td>5dd7c119c5b77e0006b16b99</td>\n      <td>23</td>\n      <td>5dc8cea7659e181adb076a3f</td>\n      <td>198.972198</td>\n      <td>106.005524</td>\n      <td>0.426785</td>\n      <td>5dc8cea7659e181adb076a3f_5dd7c119c5b77e0006b16...</td>\n    </tr>\n    <tr>\n      <th>256746</th>\n      <td>1574420753754</td>\n      <td>204.293488</td>\n      <td>107.835121</td>\n      <td>-1.0</td>\n      <td>201.653351</td>\n      <td>107.874741</td>\n      <td>B1</td>\n      <td>5dd7c119c5b77e0006b16b99</td>\n      <td>23</td>\n      <td>5dc8cea7659e181adb076a3f</td>\n      <td>201.797028</td>\n      <td>106.997734</td>\n      <td>0.436648</td>\n      <td>5dc8cea7659e181adb076a3f_5dd7c119c5b77e0006b16...</td>\n    </tr>\n    <tr>\n      <th>256747</th>\n      <td>1574420753754</td>\n      <td>204.293488</td>\n      <td>107.835121</td>\n      <td>-1.0</td>\n      <td>203.237427</td>\n      <td>107.850967</td>\n      <td>B1</td>\n      <td>5dd7c119c5b77e0006b16b99</td>\n      <td>23</td>\n      <td>5dc8cea7659e181adb076a3f</td>\n      <td>202.778946</td>\n      <td>105.169876</td>\n      <td>0.437685</td>\n      <td>5dc8cea7659e181adb076a3f_5dd7c119c5b77e0006b16...</td>\n    </tr>\n    <tr>\n      <th>256748</th>\n      <td>1574420753754</td>\n      <td>204.293488</td>\n      <td>107.835121</td>\n      <td>-1.0</td>\n      <td>200.069260</td>\n      <td>107.898514</td>\n      <td>B1</td>\n      <td>5dd7c119c5b77e0006b16b99</td>\n      <td>23</td>\n      <td>5dc8cea7659e181adb076a3f</td>\n      <td>202.729416</td>\n      <td>106.502975</td>\n      <td>0.438920</td>\n      <td>5dc8cea7659e181adb076a3f_5dd7c119c5b77e0006b16...</td>\n    </tr>\n  </tbody>\n</table>\n<p>256749 rows × 14 columns</p>\n</div>"
     },
     "metadata": {},
     "execution_count": 21
    }
   ],
   "source": [
    "if len(USE_FOLDS) > 1:\n",
    "    oofs_df = pd.concat(oofs)\n",
    "else:\n",
    "    oofs_df = oofs[0]\n",
    "\n",
    "oofs_df['site_path_timestamp'] = oofs_df['site_id_str'].astype(str) + '_' + oofs_df['path'] + '_' + oofs_df['timestamp'].astype(str)\n",
    "oofs_df = oofs_df.sort_values('site_path_timestamp').reset_index(drop=True)\n",
    "oofs_df.to_csv(\"oof.csv\", index=False)\n",
    "oofs_df"
   ]
  },
  {
   "cell_type": "code",
   "execution_count": 22,
   "metadata": {},
   "outputs": [
    {
     "output_type": "stream",
     "name": "stdout",
     "text": [
      "CV:7.399631059906757\n"
     ]
    }
   ],
   "source": [
    "# waypoint補正前のx,yでの評価\n",
    "oof_score = mean_position_error(\n",
    "    oofs_df['oof_x'], oofs_df['oof_y'], 0, \n",
    "    oofs_df['x'], oofs_df['y'], 0\n",
    "    )\n",
    "wandb_config['CV'] = oof_score\n",
    "print(f\"CV:{oof_score}\")"
   ]
  },
  {
   "cell_type": "code",
   "execution_count": 23,
   "metadata": {},
   "outputs": [
    {
     "output_type": "stream",
     "name": "stdout",
     "text": [
      "CV:6.926570307966146\n"
     ]
    }
   ],
   "source": [
    "# waypoint補正後のx,yでの評価\n",
    "oof_score = mean_position_error(\n",
    "    oofs_df['oof_x'], oofs_df['oof_y'], 0, \n",
    "    oofs_df['ix'], oofs_df['iy'], 0\n",
    "    )\n",
    "wandb_config['CV-i'] = oof_score\n",
    "print(f\"CV:{oof_score}\")"
   ]
  },
  {
   "cell_type": "code",
   "execution_count": 24,
   "metadata": {},
   "outputs": [
    {
     "output_type": "execute_result",
     "data": {
      "text/plain": [
       "                                                    floor           x  \\\n",
       "site_path_timestamp                                                     \n",
       "5a0546857ecc773753327266_046cfa46be49fc10834815...      0   89.414192   \n",
       "5a0546857ecc773753327266_046cfa46be49fc10834815...      0   83.912407   \n",
       "5a0546857ecc773753327266_046cfa46be49fc10834815...      0   85.096870   \n",
       "5a0546857ecc773753327266_046cfa46be49fc10834815...      0   86.912216   \n",
       "5a0546857ecc773753327266_046cfa46be49fc10834815...      0   86.207588   \n",
       "...                                                   ...         ...   \n",
       "5dc8cea7659e181adb076a3f_fd64de8c4a2fc5ebb0e9f4...      0  214.190994   \n",
       "5dc8cea7659e181adb076a3f_fd64de8c4a2fc5ebb0e9f4...      0  211.840591   \n",
       "5dc8cea7659e181adb076a3f_fd64de8c4a2fc5ebb0e9f4...      0  207.330902   \n",
       "5dc8cea7659e181adb076a3f_fd64de8c4a2fc5ebb0e9f4...      0  202.242599   \n",
       "5dc8cea7659e181adb076a3f_fd64de8c4a2fc5ebb0e9f4...      0  199.719986   \n",
       "\n",
       "                                                             y  \n",
       "site_path_timestamp                                             \n",
       "5a0546857ecc773753327266_046cfa46be49fc10834815...  103.453453  \n",
       "5a0546857ecc773753327266_046cfa46be49fc10834815...  102.621956  \n",
       "5a0546857ecc773753327266_046cfa46be49fc10834815...  105.021667  \n",
       "5a0546857ecc773753327266_046cfa46be49fc10834815...  107.987862  \n",
       "5a0546857ecc773753327266_046cfa46be49fc10834815...  106.069923  \n",
       "...                                                        ...  \n",
       "5dc8cea7659e181adb076a3f_fd64de8c4a2fc5ebb0e9f4...   95.879997  \n",
       "5dc8cea7659e181adb076a3f_fd64de8c4a2fc5ebb0e9f4...   97.647026  \n",
       "5dc8cea7659e181adb076a3f_fd64de8c4a2fc5ebb0e9f4...  104.952896  \n",
       "5dc8cea7659e181adb076a3f_fd64de8c4a2fc5ebb0e9f4...  108.650734  \n",
       "5dc8cea7659e181adb076a3f_fd64de8c4a2fc5ebb0e9f4...  109.232010  \n",
       "\n",
       "[10133 rows x 3 columns]"
      ],
      "text/html": "<div>\n<style scoped>\n    .dataframe tbody tr th:only-of-type {\n        vertical-align: middle;\n    }\n\n    .dataframe tbody tr th {\n        vertical-align: top;\n    }\n\n    .dataframe thead th {\n        text-align: right;\n    }\n</style>\n<table border=\"1\" class=\"dataframe\">\n  <thead>\n    <tr style=\"text-align: right;\">\n      <th></th>\n      <th>floor</th>\n      <th>x</th>\n      <th>y</th>\n    </tr>\n    <tr>\n      <th>site_path_timestamp</th>\n      <th></th>\n      <th></th>\n      <th></th>\n    </tr>\n  </thead>\n  <tbody>\n    <tr>\n      <th>5a0546857ecc773753327266_046cfa46be49fc10834815c6_0000000000009</th>\n      <td>0</td>\n      <td>89.414192</td>\n      <td>103.453453</td>\n    </tr>\n    <tr>\n      <th>5a0546857ecc773753327266_046cfa46be49fc10834815c6_0000000009017</th>\n      <td>0</td>\n      <td>83.912407</td>\n      <td>102.621956</td>\n    </tr>\n    <tr>\n      <th>5a0546857ecc773753327266_046cfa46be49fc10834815c6_0000000015326</th>\n      <td>0</td>\n      <td>85.096870</td>\n      <td>105.021667</td>\n    </tr>\n    <tr>\n      <th>5a0546857ecc773753327266_046cfa46be49fc10834815c6_0000000018763</th>\n      <td>0</td>\n      <td>86.912216</td>\n      <td>107.987862</td>\n    </tr>\n    <tr>\n      <th>5a0546857ecc773753327266_046cfa46be49fc10834815c6_0000000022328</th>\n      <td>0</td>\n      <td>86.207588</td>\n      <td>106.069923</td>\n    </tr>\n    <tr>\n      <th>...</th>\n      <td>...</td>\n      <td>...</td>\n      <td>...</td>\n    </tr>\n    <tr>\n      <th>5dc8cea7659e181adb076a3f_fd64de8c4a2fc5ebb0e9f412_0000000082589</th>\n      <td>0</td>\n      <td>214.190994</td>\n      <td>95.879997</td>\n    </tr>\n    <tr>\n      <th>5dc8cea7659e181adb076a3f_fd64de8c4a2fc5ebb0e9f412_0000000085758</th>\n      <td>0</td>\n      <td>211.840591</td>\n      <td>97.647026</td>\n    </tr>\n    <tr>\n      <th>5dc8cea7659e181adb076a3f_fd64de8c4a2fc5ebb0e9f412_0000000090895</th>\n      <td>0</td>\n      <td>207.330902</td>\n      <td>104.952896</td>\n    </tr>\n    <tr>\n      <th>5dc8cea7659e181adb076a3f_fd64de8c4a2fc5ebb0e9f412_0000000096899</th>\n      <td>0</td>\n      <td>202.242599</td>\n      <td>108.650734</td>\n    </tr>\n    <tr>\n      <th>5dc8cea7659e181adb076a3f_fd64de8c4a2fc5ebb0e9f412_0000000100447</th>\n      <td>0</td>\n      <td>199.719986</td>\n      <td>109.232010</td>\n    </tr>\n  </tbody>\n</table>\n<p>10133 rows × 3 columns</p>\n</div>"
     },
     "metadata": {},
     "execution_count": 24
    }
   ],
   "source": [
    "if len(USE_FOLDS) > 1:\n",
    "    # foldの結果を平均した後、reindexでsubmission fileにindexを合わせる\n",
    "    sub = pd.concat(predictions).groupby('site_path_timestamp').mean()  # 平均でいいんだっけ？\n",
    "    sub.index = sub_df.index\n",
    "else:\n",
    "    sub = predictions[0]\n",
    "    sub.index = sub_df.index\n",
    "sub"
   ]
  },
  {
   "cell_type": "code",
   "execution_count": 25,
   "metadata": {},
   "outputs": [
    {
     "output_type": "execute_result",
     "data": {
      "text/plain": [
       "                                                    floor           x  \\\n",
       "site_path_timestamp                                                     \n",
       "5a0546857ecc773753327266_046cfa46be49fc10834815...      0   89.414192   \n",
       "5a0546857ecc773753327266_046cfa46be49fc10834815...      0   83.912407   \n",
       "5a0546857ecc773753327266_046cfa46be49fc10834815...      0   85.096870   \n",
       "5a0546857ecc773753327266_046cfa46be49fc10834815...      0   86.912216   \n",
       "5a0546857ecc773753327266_046cfa46be49fc10834815...      0   86.207588   \n",
       "...                                                   ...         ...   \n",
       "5dc8cea7659e181adb076a3f_fd64de8c4a2fc5ebb0e9f4...      5  214.190994   \n",
       "5dc8cea7659e181adb076a3f_fd64de8c4a2fc5ebb0e9f4...      5  211.840591   \n",
       "5dc8cea7659e181adb076a3f_fd64de8c4a2fc5ebb0e9f4...      5  207.330902   \n",
       "5dc8cea7659e181adb076a3f_fd64de8c4a2fc5ebb0e9f4...      5  202.242599   \n",
       "5dc8cea7659e181adb076a3f_fd64de8c4a2fc5ebb0e9f4...      5  199.719986   \n",
       "\n",
       "                                                             y  \n",
       "site_path_timestamp                                             \n",
       "5a0546857ecc773753327266_046cfa46be49fc10834815...  103.453453  \n",
       "5a0546857ecc773753327266_046cfa46be49fc10834815...  102.621956  \n",
       "5a0546857ecc773753327266_046cfa46be49fc10834815...  105.021667  \n",
       "5a0546857ecc773753327266_046cfa46be49fc10834815...  107.987862  \n",
       "5a0546857ecc773753327266_046cfa46be49fc10834815...  106.069923  \n",
       "...                                                        ...  \n",
       "5dc8cea7659e181adb076a3f_fd64de8c4a2fc5ebb0e9f4...   95.879997  \n",
       "5dc8cea7659e181adb076a3f_fd64de8c4a2fc5ebb0e9f4...   97.647026  \n",
       "5dc8cea7659e181adb076a3f_fd64de8c4a2fc5ebb0e9f4...  104.952896  \n",
       "5dc8cea7659e181adb076a3f_fd64de8c4a2fc5ebb0e9f4...  108.650734  \n",
       "5dc8cea7659e181adb076a3f_fd64de8c4a2fc5ebb0e9f4...  109.232010  \n",
       "\n",
       "[10133 rows x 3 columns]"
      ],
      "text/html": "<div>\n<style scoped>\n    .dataframe tbody tr th:only-of-type {\n        vertical-align: middle;\n    }\n\n    .dataframe tbody tr th {\n        vertical-align: top;\n    }\n\n    .dataframe thead th {\n        text-align: right;\n    }\n</style>\n<table border=\"1\" class=\"dataframe\">\n  <thead>\n    <tr style=\"text-align: right;\">\n      <th></th>\n      <th>floor</th>\n      <th>x</th>\n      <th>y</th>\n    </tr>\n    <tr>\n      <th>site_path_timestamp</th>\n      <th></th>\n      <th></th>\n      <th></th>\n    </tr>\n  </thead>\n  <tbody>\n    <tr>\n      <th>5a0546857ecc773753327266_046cfa46be49fc10834815c6_0000000000009</th>\n      <td>0</td>\n      <td>89.414192</td>\n      <td>103.453453</td>\n    </tr>\n    <tr>\n      <th>5a0546857ecc773753327266_046cfa46be49fc10834815c6_0000000009017</th>\n      <td>0</td>\n      <td>83.912407</td>\n      <td>102.621956</td>\n    </tr>\n    <tr>\n      <th>5a0546857ecc773753327266_046cfa46be49fc10834815c6_0000000015326</th>\n      <td>0</td>\n      <td>85.096870</td>\n      <td>105.021667</td>\n    </tr>\n    <tr>\n      <th>5a0546857ecc773753327266_046cfa46be49fc10834815c6_0000000018763</th>\n      <td>0</td>\n      <td>86.912216</td>\n      <td>107.987862</td>\n    </tr>\n    <tr>\n      <th>5a0546857ecc773753327266_046cfa46be49fc10834815c6_0000000022328</th>\n      <td>0</td>\n      <td>86.207588</td>\n      <td>106.069923</td>\n    </tr>\n    <tr>\n      <th>...</th>\n      <td>...</td>\n      <td>...</td>\n      <td>...</td>\n    </tr>\n    <tr>\n      <th>5dc8cea7659e181adb076a3f_fd64de8c4a2fc5ebb0e9f412_0000000082589</th>\n      <td>5</td>\n      <td>214.190994</td>\n      <td>95.879997</td>\n    </tr>\n    <tr>\n      <th>5dc8cea7659e181adb076a3f_fd64de8c4a2fc5ebb0e9f412_0000000085758</th>\n      <td>5</td>\n      <td>211.840591</td>\n      <td>97.647026</td>\n    </tr>\n    <tr>\n      <th>5dc8cea7659e181adb076a3f_fd64de8c4a2fc5ebb0e9f412_0000000090895</th>\n      <td>5</td>\n      <td>207.330902</td>\n      <td>104.952896</td>\n    </tr>\n    <tr>\n      <th>5dc8cea7659e181adb076a3f_fd64de8c4a2fc5ebb0e9f412_0000000096899</th>\n      <td>5</td>\n      <td>202.242599</td>\n      <td>108.650734</td>\n    </tr>\n    <tr>\n      <th>5dc8cea7659e181adb076a3f_fd64de8c4a2fc5ebb0e9f412_0000000100447</th>\n      <td>5</td>\n      <td>199.719986</td>\n      <td>109.232010</td>\n    </tr>\n  </tbody>\n</table>\n<p>10133 rows × 3 columns</p>\n</div>"
     },
     "metadata": {},
     "execution_count": 25
    }
   ],
   "source": [
    "# floorの数値を置換\n",
    "simple_accurate_99 = pd.read_csv(root_dir / 'simple-99-accurate-floor-model/submission.csv')\n",
    "sub['floor'] = simple_accurate_99['floor'].values\n",
    "sub"
   ]
  },
  {
   "cell_type": "markdown",
   "metadata": {},
   "source": [
    "## testのwaypointを予測結果(wifi)から再度線形補完"
   ]
  },
  {
   "cell_type": "code",
   "execution_count": 26,
   "metadata": {},
   "outputs": [],
   "source": [
    "import sys \n",
    "sys.path.append(\"../../\")\n",
    "from multiprocessing import Pool\n",
    "from src.io_f import read_data_file\n",
    "from scipy import interpolate\n",
    "\n",
    "# timestampとwaypointを元に線形補完しtarget_timestampに対応するtarget_waypointを求める　\n",
    "def wifi_waypoint_by_linear_interpolation(\n",
    "    observed_timestamp: np.ndarray, \n",
    "    observed_x:np.ndarray, \n",
    "    observed_y:np.ndarray, \n",
    "    target_timestamp:np.ndarray, \n",
    "    delta_time=500\n",
    "    ):\n",
    "    \"\"\"\n",
    "    observed: すでに知っている情報\n",
    "    observed-timestamp,x,yは全て同じ要素数となる\n",
    "\n",
    "    observedの情報からfitting関数を作成\n",
    "    \"\"\"\n",
    "    target_waypoint_list = []\n",
    "    num_interpolation = len(observed_timestamp) - 1  # 補完回数 \n",
    "    # 各waypoint間で線形補完\n",
    "    for i in range(num_interpolation):\n",
    "        # 潜在的なtimestampを作成(これのどれかにwifiを当てはめるような形)\n",
    "        n_split = int((max(observed_timestamp[i:i+2]) - min(observed_timestamp[i:i+2])) / delta_time) + 2  # delta_time刻みとなるように分割数を指定(+2は始点と終点分)\n",
    "        latent_timestamp = np.linspace(min(observed_timestamp[i:i+2]), max(observed_timestamp[i:i+2]), n_split).astype(int) \n",
    "        \n",
    "        # xが昇順の場合はlatentも昇順になるようにする\n",
    "        if observed_x[i] < observed_x[i+1]:\n",
    "            latent_x = np.linspace(min(observed_x[i:i+2]), max(observed_x[i:i+2]), n_split)\n",
    "        # xが降順の場合はlatentも降順になるようにする\n",
    "        else:\n",
    "            latent_x = np.linspace(min(observed_x[i:i+2]), max(observed_x[i:i+2]), n_split)[::-1]\n",
    "        \n",
    "        # 線形補完関数の適用\n",
    "        fitting_func = interpolate.interp1d(observed_x[i:i+2], observed_y[i:i+2])\n",
    "\n",
    "        # wifiのtimestampに最も近いものをsplit_timestampから取得しそれに対応するwaypointをwifiのwaypointとして取得\n",
    "        target_x = []\n",
    "        target_y = []\n",
    "\n",
    "        # 区間内のwifiデータのみ考える\n",
    "        if i == num_interpolation-1:\n",
    "            # pathの最後の区間にobserved timestampより未来にあるtimestampに対処\n",
    "            target_idx = min(observed_timestamp[i:i+2]) <= target_timestamp\n",
    "        elif i == 0:\n",
    "            # pathの最初の区間にobserved timestampより過去にあるtimestampに対処\n",
    "            target_idx = target_timestamp < max(observed_timestamp[i:i+2])\n",
    "        else:\n",
    "            target_idx = (min(observed_timestamp[i:i+2]) <= target_timestamp) & (target_timestamp < max(observed_timestamp[i:i+2]))\n",
    "        target_use_timestamp = target_timestamp[target_idx]\n",
    "\n",
    "        # timestampが最も近いものをtarget waypointとして取得\n",
    "        for t in target_use_timestamp:\n",
    "            idx = np.abs(latent_timestamp - t).argmin()  # targetとtimestampが最も近いものをlatentから取得\n",
    "            target_x.append(latent_x[idx])\n",
    "            # 原因はよくわからないがfittingするとnanが発生する場合がある\n",
    "            # その場合は元の値をそのまま使う\n",
    "            if np.isnan(fitting_func(latent_x[idx])).sum() > 0:\n",
    "                # print('yに欠損値あり')\n",
    "                idx = np.abs(observed_timestamp - t).argmin()  # 0→wifiの最初のtimestampで問題が起きている\n",
    "                target_y.append(observed_y[idx])\n",
    "                \n",
    "            else:\n",
    "                target_y.append(fitting_func(latent_x[idx]))\n",
    "\n",
    "        assert len(target_x) == len(target_y)\n",
    "        target_waypoint = np.stack([target_x, target_y], axis=1)\n",
    "        target_waypoint_list.append(target_waypoint)\n",
    "\n",
    "    target_waypoint = np.concatenate(target_waypoint_list)\n",
    "    return target_waypoint"
   ]
  },
  {
   "cell_type": "code",
   "execution_count": 27,
   "metadata": {},
   "outputs": [
    {
     "output_type": "execute_result",
     "data": {
      "text/plain": [
       "                                         ssid_0  \\\n",
       "0      da39a3ee5e6b4b0d3255bfef95601890afd80709   \n",
       "1      da39a3ee5e6b4b0d3255bfef95601890afd80709   \n",
       "2      b6ffe5619e02871fcd04f61c9bb4b5c53a3f46b7   \n",
       "3      da39a3ee5e6b4b0d3255bfef95601890afd80709   \n",
       "4      da39a3ee5e6b4b0d3255bfef95601890afd80709   \n",
       "...                                         ...   \n",
       "10128  0f927dce74ec3475c7a39299e5bffab222ca665d   \n",
       "10129  8e69018f6343506344ab13646ccd9447fc2ffb19   \n",
       "10130  8e69018f6343506344ab13646ccd9447fc2ffb19   \n",
       "10131  5d998a8668536c4f51004c25f474117fe9555f78   \n",
       "10132  aa449fabc4dcb24836d950b5cff91f08e574c3a7   \n",
       "\n",
       "                                         ssid_1  \\\n",
       "0      b9f0208be00bd8b337be7f12e02e3a3ce846e22b   \n",
       "1      d839a45ebe64ab48b60a407d837fb01d3c0dfef9   \n",
       "2      da39a3ee5e6b4b0d3255bfef95601890afd80709   \n",
       "3      da39a3ee5e6b4b0d3255bfef95601890afd80709   \n",
       "4      da39a3ee5e6b4b0d3255bfef95601890afd80709   \n",
       "...                                         ...   \n",
       "10128  5d998a8668536c4f51004c25f474117fe9555f78   \n",
       "10129  0f927dce74ec3475c7a39299e5bffab222ca665d   \n",
       "10130  5d998a8668536c4f51004c25f474117fe9555f78   \n",
       "10131  8e69018f6343506344ab13646ccd9447fc2ffb19   \n",
       "10132  5d998a8668536c4f51004c25f474117fe9555f78   \n",
       "\n",
       "                                         ssid_2  \\\n",
       "0      ab150ecf6d972b476aeab16317bed6189d9f7cce   \n",
       "1      b6ffe5619e02871fcd04f61c9bb4b5c53a3f46b7   \n",
       "2      b7e6027447eb1f81327d66cfd3adbe557aabf26c   \n",
       "3      b9f0208be00bd8b337be7f12e02e3a3ce846e22b   \n",
       "4      da39a3ee5e6b4b0d3255bfef95601890afd80709   \n",
       "...                                         ...   \n",
       "10128  8e69018f6343506344ab13646ccd9447fc2ffb19   \n",
       "10129  efa1fe97c4b2a6c57d98de9c236a109032ceb839   \n",
       "10130  8e69018f6343506344ab13646ccd9447fc2ffb19   \n",
       "10131  5d998a8668536c4f51004c25f474117fe9555f78   \n",
       "10132  da39a3ee5e6b4b0d3255bfef95601890afd80709   \n",
       "\n",
       "                                         ssid_3  \\\n",
       "0      b6ffe5619e02871fcd04f61c9bb4b5c53a3f46b7   \n",
       "1      b7e6027447eb1f81327d66cfd3adbe557aabf26c   \n",
       "2      d839a45ebe64ab48b60a407d837fb01d3c0dfef9   \n",
       "3      d839a45ebe64ab48b60a407d837fb01d3c0dfef9   \n",
       "4      7182afc4e5c212133d5d7d76eb3df6c24618302b   \n",
       "...                                         ...   \n",
       "10128  efa1fe97c4b2a6c57d98de9c236a109032ceb839   \n",
       "10129  da39a3ee5e6b4b0d3255bfef95601890afd80709   \n",
       "10130  5d998a8668536c4f51004c25f474117fe9555f78   \n",
       "10131  8e69018f6343506344ab13646ccd9447fc2ffb19   \n",
       "10132  da39a3ee5e6b4b0d3255bfef95601890afd80709   \n",
       "\n",
       "                                         ssid_4  \\\n",
       "0      da39a3ee5e6b4b0d3255bfef95601890afd80709   \n",
       "1      d839a45ebe64ab48b60a407d837fb01d3c0dfef9   \n",
       "2      7182afc4e5c212133d5d7d76eb3df6c24618302b   \n",
       "3      b6ffe5619e02871fcd04f61c9bb4b5c53a3f46b7   \n",
       "4      b9f0208be00bd8b337be7f12e02e3a3ce846e22b   \n",
       "...                                         ...   \n",
       "10128  da39a3ee5e6b4b0d3255bfef95601890afd80709   \n",
       "10129  5d998a8668536c4f51004c25f474117fe9555f78   \n",
       "10130  c72257cf75d6a411225948bbc4e37ad554e7beda   \n",
       "10131  da39a3ee5e6b4b0d3255bfef95601890afd80709   \n",
       "10132  6381b3137285875eda5bc77d9b8cc7650f0f5d7d   \n",
       "\n",
       "                                         ssid_5  \\\n",
       "0      b7e6027447eb1f81327d66cfd3adbe557aabf26c   \n",
       "1      7182afc4e5c212133d5d7d76eb3df6c24618302b   \n",
       "2      b9f0208be00bd8b337be7f12e02e3a3ce846e22b   \n",
       "3      b7e6027447eb1f81327d66cfd3adbe557aabf26c   \n",
       "4      b6ffe5619e02871fcd04f61c9bb4b5c53a3f46b7   \n",
       "...                                         ...   \n",
       "10128  5d998a8668536c4f51004c25f474117fe9555f78   \n",
       "10129  5d998a8668536c4f51004c25f474117fe9555f78   \n",
       "10130  da39a3ee5e6b4b0d3255bfef95601890afd80709   \n",
       "10131  aa449fabc4dcb24836d950b5cff91f08e574c3a7   \n",
       "10132  efa1fe97c4b2a6c57d98de9c236a109032ceb839   \n",
       "\n",
       "                                         ssid_6  \\\n",
       "0      d839a45ebe64ab48b60a407d837fb01d3c0dfef9   \n",
       "1      b9f0208be00bd8b337be7f12e02e3a3ce846e22b   \n",
       "2      da39a3ee5e6b4b0d3255bfef95601890afd80709   \n",
       "3      b7e6027447eb1f81327d66cfd3adbe557aabf26c   \n",
       "4      b7e6027447eb1f81327d66cfd3adbe557aabf26c   \n",
       "...                                         ...   \n",
       "10128  c72257cf75d6a411225948bbc4e37ad554e7beda   \n",
       "10129  da39a3ee5e6b4b0d3255bfef95601890afd80709   \n",
       "10130  5d998a8668536c4f51004c25f474117fe9555f78   \n",
       "10131  c72257cf75d6a411225948bbc4e37ad554e7beda   \n",
       "10132  0eb4ecd03a3128e62bdff60e6f686d88e783441e   \n",
       "\n",
       "                                         ssid_7  \\\n",
       "0      7182afc4e5c212133d5d7d76eb3df6c24618302b   \n",
       "1      7182afc4e5c212133d5d7d76eb3df6c24618302b   \n",
       "2      b9f0208be00bd8b337be7f12e02e3a3ce846e22b   \n",
       "3      7182afc4e5c212133d5d7d76eb3df6c24618302b   \n",
       "4      26571eb257b6a34b6beb93c05768e751d19279a6   \n",
       "...                                         ...   \n",
       "10128  da39a3ee5e6b4b0d3255bfef95601890afd80709   \n",
       "10129  8e69018f6343506344ab13646ccd9447fc2ffb19   \n",
       "10130  da39a3ee5e6b4b0d3255bfef95601890afd80709   \n",
       "10131  da39a3ee5e6b4b0d3255bfef95601890afd80709   \n",
       "10132  8e69018f6343506344ab13646ccd9447fc2ffb19   \n",
       "\n",
       "                                         ssid_8  \\\n",
       "0      da39a3ee5e6b4b0d3255bfef95601890afd80709   \n",
       "1      b7e6027447eb1f81327d66cfd3adbe557aabf26c   \n",
       "2      b6ffe5619e02871fcd04f61c9bb4b5c53a3f46b7   \n",
       "3      5731b8e08abc69d4c4d685c58164059207c93310   \n",
       "4      d839a45ebe64ab48b60a407d837fb01d3c0dfef9   \n",
       "...                                         ...   \n",
       "10128  5d998a8668536c4f51004c25f474117fe9555f78   \n",
       "10129  5d998a8668536c4f51004c25f474117fe9555f78   \n",
       "10130  5d998a8668536c4f51004c25f474117fe9555f78   \n",
       "10131  efa1fe97c4b2a6c57d98de9c236a109032ceb839   \n",
       "10132  0f927dce74ec3475c7a39299e5bffab222ca665d   \n",
       "\n",
       "                                         ssid_9  ... timediff_99  \\\n",
       "0      01e78c97f2c04cdbc7c4159158bb125a9bb558ff  ...     15614.0   \n",
       "1      b6ffe5619e02871fcd04f61c9bb4b5c53a3f46b7  ...       353.0   \n",
       "2      d839a45ebe64ab48b60a407d837fb01d3c0dfef9  ...      9441.0   \n",
       "3      d839a45ebe64ab48b60a407d837fb01d3c0dfef9  ...      8322.0   \n",
       "4      d839a45ebe64ab48b60a407d837fb01d3c0dfef9  ...       647.0   \n",
       "...                                         ...  ...         ...   \n",
       "10128  da39a3ee5e6b4b0d3255bfef95601890afd80709  ...      1409.0   \n",
       "10129  0eb4ecd03a3128e62bdff60e6f686d88e783441e  ...      3074.0   \n",
       "10130  5d998a8668536c4f51004c25f474117fe9555f78  ...       357.0   \n",
       "10131  6381b3137285875eda5bc77d9b8cc7650f0f5d7d  ...       479.0   \n",
       "10132  da39a3ee5e6b4b0d3255bfef95601890afd80709  ...      1839.0   \n",
       "\n",
       "           timestamp                      path                   site_id  \\\n",
       "0      1578474563646  046cfa46be49fc10834815c6  5a0546857ecc773753327266   \n",
       "1      1578474572654  046cfa46be49fc10834815c6  5a0546857ecc773753327266   \n",
       "2      1578474578963  046cfa46be49fc10834815c6  5a0546857ecc773753327266   \n",
       "3      1578474582400  046cfa46be49fc10834815c6  5a0546857ecc773753327266   \n",
       "4      1578474585965  046cfa46be49fc10834815c6  5a0546857ecc773753327266   \n",
       "...              ...                       ...                       ...   \n",
       "10128  1573731143256  fd64de8c4a2fc5ebb0e9f412  5dc8cea7659e181adb076a3f   \n",
       "10129  1573731146426  fd64de8c4a2fc5ebb0e9f412  5dc8cea7659e181adb076a3f   \n",
       "10130  1573731151563  fd64de8c4a2fc5ebb0e9f412  5dc8cea7659e181adb076a3f   \n",
       "10131  1573731157567  fd64de8c4a2fc5ebb0e9f412  5dc8cea7659e181adb076a3f   \n",
       "10132  1573731161115  fd64de8c4a2fc5ebb0e9f412  5dc8cea7659e181adb076a3f   \n",
       "\n",
       "      timediff                                site_path_timestamp floor  \\\n",
       "0        -2331  5a0546857ecc773753327266_046cfa46be49fc1083481...     0   \n",
       "1         -491  5a0546857ecc773753327266_046cfa46be49fc1083481...     0   \n",
       "2          612  5a0546857ecc773753327266_046cfa46be49fc1083481...     0   \n",
       "3         -824  5a0546857ecc773753327266_046cfa46be49fc1083481...     0   \n",
       "4          254  5a0546857ecc773753327266_046cfa46be49fc1083481...     0   \n",
       "...        ...                                                ...   ...   \n",
       "10128      925  5dc8cea7659e181adb076a3f_fd64de8c4a2fc5ebb0e9f...     5   \n",
       "10129      123  5dc8cea7659e181adb076a3f_fd64de8c4a2fc5ebb0e9f...     5   \n",
       "10130     -625  5dc8cea7659e181adb076a3f_fd64de8c4a2fc5ebb0e9f...     5   \n",
       "10131     -528  5dc8cea7659e181adb076a3f_fd64de8c4a2fc5ebb0e9f...     5   \n",
       "10132     1019  5dc8cea7659e181adb076a3f_fd64de8c4a2fc5ebb0e9f...     5   \n",
       "\n",
       "                x           y wifi_timestamp  \n",
       "0       89.414192  103.453453  1578474565977  \n",
       "1       83.912407  102.621956  1578474573145  \n",
       "2       85.096870  105.021667  1578474578351  \n",
       "3       86.912216  107.987862  1578474583224  \n",
       "4       86.207588  106.069923  1578474585711  \n",
       "...           ...         ...            ...  \n",
       "10128  214.190994   95.879997  1573731142331  \n",
       "10129  211.840591   97.647026  1573731146303  \n",
       "10130  207.330902  104.952896  1573731152188  \n",
       "10131  202.242599  108.650734  1573731158095  \n",
       "10132  199.719986  109.232010  1573731160096  \n",
       "\n",
       "[10133 rows x 509 columns]"
      ],
      "text/html": "<div>\n<style scoped>\n    .dataframe tbody tr th:only-of-type {\n        vertical-align: middle;\n    }\n\n    .dataframe tbody tr th {\n        vertical-align: top;\n    }\n\n    .dataframe thead th {\n        text-align: right;\n    }\n</style>\n<table border=\"1\" class=\"dataframe\">\n  <thead>\n    <tr style=\"text-align: right;\">\n      <th></th>\n      <th>ssid_0</th>\n      <th>ssid_1</th>\n      <th>ssid_2</th>\n      <th>ssid_3</th>\n      <th>ssid_4</th>\n      <th>ssid_5</th>\n      <th>ssid_6</th>\n      <th>ssid_7</th>\n      <th>ssid_8</th>\n      <th>ssid_9</th>\n      <th>...</th>\n      <th>timediff_99</th>\n      <th>timestamp</th>\n      <th>path</th>\n      <th>site_id</th>\n      <th>timediff</th>\n      <th>site_path_timestamp</th>\n      <th>floor</th>\n      <th>x</th>\n      <th>y</th>\n      <th>wifi_timestamp</th>\n    </tr>\n  </thead>\n  <tbody>\n    <tr>\n      <th>0</th>\n      <td>da39a3ee5e6b4b0d3255bfef95601890afd80709</td>\n      <td>b9f0208be00bd8b337be7f12e02e3a3ce846e22b</td>\n      <td>ab150ecf6d972b476aeab16317bed6189d9f7cce</td>\n      <td>b6ffe5619e02871fcd04f61c9bb4b5c53a3f46b7</td>\n      <td>da39a3ee5e6b4b0d3255bfef95601890afd80709</td>\n      <td>b7e6027447eb1f81327d66cfd3adbe557aabf26c</td>\n      <td>d839a45ebe64ab48b60a407d837fb01d3c0dfef9</td>\n      <td>7182afc4e5c212133d5d7d76eb3df6c24618302b</td>\n      <td>da39a3ee5e6b4b0d3255bfef95601890afd80709</td>\n      <td>01e78c97f2c04cdbc7c4159158bb125a9bb558ff</td>\n      <td>...</td>\n      <td>15614.0</td>\n      <td>1578474563646</td>\n      <td>046cfa46be49fc10834815c6</td>\n      <td>5a0546857ecc773753327266</td>\n      <td>-2331</td>\n      <td>5a0546857ecc773753327266_046cfa46be49fc1083481...</td>\n      <td>0</td>\n      <td>89.414192</td>\n      <td>103.453453</td>\n      <td>1578474565977</td>\n    </tr>\n    <tr>\n      <th>1</th>\n      <td>da39a3ee5e6b4b0d3255bfef95601890afd80709</td>\n      <td>d839a45ebe64ab48b60a407d837fb01d3c0dfef9</td>\n      <td>b6ffe5619e02871fcd04f61c9bb4b5c53a3f46b7</td>\n      <td>b7e6027447eb1f81327d66cfd3adbe557aabf26c</td>\n      <td>d839a45ebe64ab48b60a407d837fb01d3c0dfef9</td>\n      <td>7182afc4e5c212133d5d7d76eb3df6c24618302b</td>\n      <td>b9f0208be00bd8b337be7f12e02e3a3ce846e22b</td>\n      <td>7182afc4e5c212133d5d7d76eb3df6c24618302b</td>\n      <td>b7e6027447eb1f81327d66cfd3adbe557aabf26c</td>\n      <td>b6ffe5619e02871fcd04f61c9bb4b5c53a3f46b7</td>\n      <td>...</td>\n      <td>353.0</td>\n      <td>1578474572654</td>\n      <td>046cfa46be49fc10834815c6</td>\n      <td>5a0546857ecc773753327266</td>\n      <td>-491</td>\n      <td>5a0546857ecc773753327266_046cfa46be49fc1083481...</td>\n      <td>0</td>\n      <td>83.912407</td>\n      <td>102.621956</td>\n      <td>1578474573145</td>\n    </tr>\n    <tr>\n      <th>2</th>\n      <td>b6ffe5619e02871fcd04f61c9bb4b5c53a3f46b7</td>\n      <td>da39a3ee5e6b4b0d3255bfef95601890afd80709</td>\n      <td>b7e6027447eb1f81327d66cfd3adbe557aabf26c</td>\n      <td>d839a45ebe64ab48b60a407d837fb01d3c0dfef9</td>\n      <td>7182afc4e5c212133d5d7d76eb3df6c24618302b</td>\n      <td>b9f0208be00bd8b337be7f12e02e3a3ce846e22b</td>\n      <td>da39a3ee5e6b4b0d3255bfef95601890afd80709</td>\n      <td>b9f0208be00bd8b337be7f12e02e3a3ce846e22b</td>\n      <td>b6ffe5619e02871fcd04f61c9bb4b5c53a3f46b7</td>\n      <td>d839a45ebe64ab48b60a407d837fb01d3c0dfef9</td>\n      <td>...</td>\n      <td>9441.0</td>\n      <td>1578474578963</td>\n      <td>046cfa46be49fc10834815c6</td>\n      <td>5a0546857ecc773753327266</td>\n      <td>612</td>\n      <td>5a0546857ecc773753327266_046cfa46be49fc1083481...</td>\n      <td>0</td>\n      <td>85.096870</td>\n      <td>105.021667</td>\n      <td>1578474578351</td>\n    </tr>\n    <tr>\n      <th>3</th>\n      <td>da39a3ee5e6b4b0d3255bfef95601890afd80709</td>\n      <td>da39a3ee5e6b4b0d3255bfef95601890afd80709</td>\n      <td>b9f0208be00bd8b337be7f12e02e3a3ce846e22b</td>\n      <td>d839a45ebe64ab48b60a407d837fb01d3c0dfef9</td>\n      <td>b6ffe5619e02871fcd04f61c9bb4b5c53a3f46b7</td>\n      <td>b7e6027447eb1f81327d66cfd3adbe557aabf26c</td>\n      <td>b7e6027447eb1f81327d66cfd3adbe557aabf26c</td>\n      <td>7182afc4e5c212133d5d7d76eb3df6c24618302b</td>\n      <td>5731b8e08abc69d4c4d685c58164059207c93310</td>\n      <td>d839a45ebe64ab48b60a407d837fb01d3c0dfef9</td>\n      <td>...</td>\n      <td>8322.0</td>\n      <td>1578474582400</td>\n      <td>046cfa46be49fc10834815c6</td>\n      <td>5a0546857ecc773753327266</td>\n      <td>-824</td>\n      <td>5a0546857ecc773753327266_046cfa46be49fc1083481...</td>\n      <td>0</td>\n      <td>86.912216</td>\n      <td>107.987862</td>\n      <td>1578474583224</td>\n    </tr>\n    <tr>\n      <th>4</th>\n      <td>da39a3ee5e6b4b0d3255bfef95601890afd80709</td>\n      <td>da39a3ee5e6b4b0d3255bfef95601890afd80709</td>\n      <td>da39a3ee5e6b4b0d3255bfef95601890afd80709</td>\n      <td>7182afc4e5c212133d5d7d76eb3df6c24618302b</td>\n      <td>b9f0208be00bd8b337be7f12e02e3a3ce846e22b</td>\n      <td>b6ffe5619e02871fcd04f61c9bb4b5c53a3f46b7</td>\n      <td>b7e6027447eb1f81327d66cfd3adbe557aabf26c</td>\n      <td>26571eb257b6a34b6beb93c05768e751d19279a6</td>\n      <td>d839a45ebe64ab48b60a407d837fb01d3c0dfef9</td>\n      <td>d839a45ebe64ab48b60a407d837fb01d3c0dfef9</td>\n      <td>...</td>\n      <td>647.0</td>\n      <td>1578474585965</td>\n      <td>046cfa46be49fc10834815c6</td>\n      <td>5a0546857ecc773753327266</td>\n      <td>254</td>\n      <td>5a0546857ecc773753327266_046cfa46be49fc1083481...</td>\n      <td>0</td>\n      <td>86.207588</td>\n      <td>106.069923</td>\n      <td>1578474585711</td>\n    </tr>\n    <tr>\n      <th>...</th>\n      <td>...</td>\n      <td>...</td>\n      <td>...</td>\n      <td>...</td>\n      <td>...</td>\n      <td>...</td>\n      <td>...</td>\n      <td>...</td>\n      <td>...</td>\n      <td>...</td>\n      <td>...</td>\n      <td>...</td>\n      <td>...</td>\n      <td>...</td>\n      <td>...</td>\n      <td>...</td>\n      <td>...</td>\n      <td>...</td>\n      <td>...</td>\n      <td>...</td>\n      <td>...</td>\n    </tr>\n    <tr>\n      <th>10128</th>\n      <td>0f927dce74ec3475c7a39299e5bffab222ca665d</td>\n      <td>5d998a8668536c4f51004c25f474117fe9555f78</td>\n      <td>8e69018f6343506344ab13646ccd9447fc2ffb19</td>\n      <td>efa1fe97c4b2a6c57d98de9c236a109032ceb839</td>\n      <td>da39a3ee5e6b4b0d3255bfef95601890afd80709</td>\n      <td>5d998a8668536c4f51004c25f474117fe9555f78</td>\n      <td>c72257cf75d6a411225948bbc4e37ad554e7beda</td>\n      <td>da39a3ee5e6b4b0d3255bfef95601890afd80709</td>\n      <td>5d998a8668536c4f51004c25f474117fe9555f78</td>\n      <td>da39a3ee5e6b4b0d3255bfef95601890afd80709</td>\n      <td>...</td>\n      <td>1409.0</td>\n      <td>1573731143256</td>\n      <td>fd64de8c4a2fc5ebb0e9f412</td>\n      <td>5dc8cea7659e181adb076a3f</td>\n      <td>925</td>\n      <td>5dc8cea7659e181adb076a3f_fd64de8c4a2fc5ebb0e9f...</td>\n      <td>5</td>\n      <td>214.190994</td>\n      <td>95.879997</td>\n      <td>1573731142331</td>\n    </tr>\n    <tr>\n      <th>10129</th>\n      <td>8e69018f6343506344ab13646ccd9447fc2ffb19</td>\n      <td>0f927dce74ec3475c7a39299e5bffab222ca665d</td>\n      <td>efa1fe97c4b2a6c57d98de9c236a109032ceb839</td>\n      <td>da39a3ee5e6b4b0d3255bfef95601890afd80709</td>\n      <td>5d998a8668536c4f51004c25f474117fe9555f78</td>\n      <td>5d998a8668536c4f51004c25f474117fe9555f78</td>\n      <td>da39a3ee5e6b4b0d3255bfef95601890afd80709</td>\n      <td>8e69018f6343506344ab13646ccd9447fc2ffb19</td>\n      <td>5d998a8668536c4f51004c25f474117fe9555f78</td>\n      <td>0eb4ecd03a3128e62bdff60e6f686d88e783441e</td>\n      <td>...</td>\n      <td>3074.0</td>\n      <td>1573731146426</td>\n      <td>fd64de8c4a2fc5ebb0e9f412</td>\n      <td>5dc8cea7659e181adb076a3f</td>\n      <td>123</td>\n      <td>5dc8cea7659e181adb076a3f_fd64de8c4a2fc5ebb0e9f...</td>\n      <td>5</td>\n      <td>211.840591</td>\n      <td>97.647026</td>\n      <td>1573731146303</td>\n    </tr>\n    <tr>\n      <th>10130</th>\n      <td>8e69018f6343506344ab13646ccd9447fc2ffb19</td>\n      <td>5d998a8668536c4f51004c25f474117fe9555f78</td>\n      <td>8e69018f6343506344ab13646ccd9447fc2ffb19</td>\n      <td>5d998a8668536c4f51004c25f474117fe9555f78</td>\n      <td>c72257cf75d6a411225948bbc4e37ad554e7beda</td>\n      <td>da39a3ee5e6b4b0d3255bfef95601890afd80709</td>\n      <td>5d998a8668536c4f51004c25f474117fe9555f78</td>\n      <td>da39a3ee5e6b4b0d3255bfef95601890afd80709</td>\n      <td>5d998a8668536c4f51004c25f474117fe9555f78</td>\n      <td>5d998a8668536c4f51004c25f474117fe9555f78</td>\n      <td>...</td>\n      <td>357.0</td>\n      <td>1573731151563</td>\n      <td>fd64de8c4a2fc5ebb0e9f412</td>\n      <td>5dc8cea7659e181adb076a3f</td>\n      <td>-625</td>\n      <td>5dc8cea7659e181adb076a3f_fd64de8c4a2fc5ebb0e9f...</td>\n      <td>5</td>\n      <td>207.330902</td>\n      <td>104.952896</td>\n      <td>1573731152188</td>\n    </tr>\n    <tr>\n      <th>10131</th>\n      <td>5d998a8668536c4f51004c25f474117fe9555f78</td>\n      <td>8e69018f6343506344ab13646ccd9447fc2ffb19</td>\n      <td>5d998a8668536c4f51004c25f474117fe9555f78</td>\n      <td>8e69018f6343506344ab13646ccd9447fc2ffb19</td>\n      <td>da39a3ee5e6b4b0d3255bfef95601890afd80709</td>\n      <td>aa449fabc4dcb24836d950b5cff91f08e574c3a7</td>\n      <td>c72257cf75d6a411225948bbc4e37ad554e7beda</td>\n      <td>da39a3ee5e6b4b0d3255bfef95601890afd80709</td>\n      <td>efa1fe97c4b2a6c57d98de9c236a109032ceb839</td>\n      <td>6381b3137285875eda5bc77d9b8cc7650f0f5d7d</td>\n      <td>...</td>\n      <td>479.0</td>\n      <td>1573731157567</td>\n      <td>fd64de8c4a2fc5ebb0e9f412</td>\n      <td>5dc8cea7659e181adb076a3f</td>\n      <td>-528</td>\n      <td>5dc8cea7659e181adb076a3f_fd64de8c4a2fc5ebb0e9f...</td>\n      <td>5</td>\n      <td>202.242599</td>\n      <td>108.650734</td>\n      <td>1573731158095</td>\n    </tr>\n    <tr>\n      <th>10132</th>\n      <td>aa449fabc4dcb24836d950b5cff91f08e574c3a7</td>\n      <td>5d998a8668536c4f51004c25f474117fe9555f78</td>\n      <td>da39a3ee5e6b4b0d3255bfef95601890afd80709</td>\n      <td>da39a3ee5e6b4b0d3255bfef95601890afd80709</td>\n      <td>6381b3137285875eda5bc77d9b8cc7650f0f5d7d</td>\n      <td>efa1fe97c4b2a6c57d98de9c236a109032ceb839</td>\n      <td>0eb4ecd03a3128e62bdff60e6f686d88e783441e</td>\n      <td>8e69018f6343506344ab13646ccd9447fc2ffb19</td>\n      <td>0f927dce74ec3475c7a39299e5bffab222ca665d</td>\n      <td>da39a3ee5e6b4b0d3255bfef95601890afd80709</td>\n      <td>...</td>\n      <td>1839.0</td>\n      <td>1573731161115</td>\n      <td>fd64de8c4a2fc5ebb0e9f412</td>\n      <td>5dc8cea7659e181adb076a3f</td>\n      <td>1019</td>\n      <td>5dc8cea7659e181adb076a3f_fd64de8c4a2fc5ebb0e9f...</td>\n      <td>5</td>\n      <td>199.719986</td>\n      <td>109.232010</td>\n      <td>1573731160096</td>\n    </tr>\n  </tbody>\n</table>\n<p>10133 rows × 509 columns</p>\n</div>"
     },
     "metadata": {},
     "execution_count": 27
    }
   ],
   "source": [
    "test_df['site_path_timestamp'] = sub.index\n",
    "test_df = test_df.merge(sub, on=\"site_path_timestamp\")\n",
    "test_df['wifi_timestamp'] = test_df['timestamp'].astype(int) - test_df['timediff'].astype(int)\n",
    "test_df"
   ]
  },
  {
   "cell_type": "code",
   "execution_count": 28,
   "metadata": {},
   "outputs": [
    {
     "output_type": "stream",
     "name": "stdout",
     "text": [
      "9 9\n"
     ]
    },
    {
     "output_type": "execute_result",
     "data": {
      "text/plain": [
       "<matplotlib.legend.Legend at 0x7fb5328dddc0>"
      ]
     },
     "metadata": {},
     "execution_count": 28
    },
    {
     "output_type": "display_data",
     "data": {
      "text/plain": "<Figure size 432x288 with 1 Axes>",
      "image/svg+xml": "<?xml version=\"1.0\" encoding=\"utf-8\" standalone=\"no\"?>\n<!DOCTYPE svg PUBLIC \"-//W3C//DTD SVG 1.1//EN\"\n  \"http://www.w3.org/Graphics/SVG/1.1/DTD/svg11.dtd\">\n<!-- Created with matplotlib (https://matplotlib.org/) -->\n<svg height=\"248.518125pt\" version=\"1.1\" viewBox=\"0 0 375.2875 248.518125\" width=\"375.2875pt\" xmlns=\"http://www.w3.org/2000/svg\" xmlns:xlink=\"http://www.w3.org/1999/xlink\">\n <metadata>\n  <rdf:RDF xmlns:cc=\"http://creativecommons.org/ns#\" xmlns:dc=\"http://purl.org/dc/elements/1.1/\" xmlns:rdf=\"http://www.w3.org/1999/02/22-rdf-syntax-ns#\">\n   <cc:Work>\n    <dc:type rdf:resource=\"http://purl.org/dc/dcmitype/StillImage\"/>\n    <dc:date>2021-04-25T21:48:53.001161</dc:date>\n    <dc:format>image/svg+xml</dc:format>\n    <dc:creator>\n     <cc:Agent>\n      <dc:title>Matplotlib v3.3.3, https://matplotlib.org/</dc:title>\n     </cc:Agent>\n    </dc:creator>\n   </cc:Work>\n  </rdf:RDF>\n </metadata>\n <defs>\n  <style type=\"text/css\">*{stroke-linecap:butt;stroke-linejoin:round;}</style>\n </defs>\n <g id=\"figure_1\">\n  <g id=\"patch_1\">\n   <path d=\"M 0 248.518125 \nL 375.2875 248.518125 \nL 375.2875 0 \nL 0 0 \nz\n\" style=\"fill:none;\"/>\n  </g>\n  <g id=\"axes_1\">\n   <g id=\"patch_2\">\n    <path d=\"M 33.2875 224.64 \nL 368.0875 224.64 \nL 368.0875 7.2 \nL 33.2875 7.2 \nz\n\" style=\"fill:#ffffff;\"/>\n   </g>\n   <g id=\"matplotlib.axis_1\">\n    <g id=\"xtick_1\">\n     <g id=\"line2d_1\">\n      <defs>\n       <path d=\"M 0 0 \nL 0 3.5 \n\" id=\"m02b0199c05\" style=\"stroke:#000000;stroke-width:0.8;\"/>\n      </defs>\n      <g>\n       <use style=\"stroke:#000000;stroke-width:0.8;\" x=\"48.350935\" xlink:href=\"#m02b0199c05\" y=\"224.64\"/>\n      </g>\n     </g>\n     <g id=\"text_1\">\n      <!-- 55 -->\n      <g transform=\"translate(41.988435 239.238437)scale(0.1 -0.1)\">\n       <defs>\n        <path d=\"M 10.796875 72.90625 \nL 49.515625 72.90625 \nL 49.515625 64.59375 \nL 19.828125 64.59375 \nL 19.828125 46.734375 \nQ 21.96875 47.46875 24.109375 47.828125 \nQ 26.265625 48.1875 28.421875 48.1875 \nQ 40.625 48.1875 47.75 41.5 \nQ 54.890625 34.8125 54.890625 23.390625 \nQ 54.890625 11.625 47.5625 5.09375 \nQ 40.234375 -1.421875 26.90625 -1.421875 \nQ 22.3125 -1.421875 17.546875 -0.640625 \nQ 12.796875 0.140625 7.71875 1.703125 \nL 7.71875 11.625 \nQ 12.109375 9.234375 16.796875 8.0625 \nQ 21.484375 6.890625 26.703125 6.890625 \nQ 35.15625 6.890625 40.078125 11.328125 \nQ 45.015625 15.765625 45.015625 23.390625 \nQ 45.015625 31 40.078125 35.4375 \nQ 35.15625 39.890625 26.703125 39.890625 \nQ 22.75 39.890625 18.8125 39.015625 \nQ 14.890625 38.140625 10.796875 36.28125 \nz\n\" id=\"DejaVuSans-53\"/>\n       </defs>\n       <use xlink:href=\"#DejaVuSans-53\"/>\n       <use x=\"63.623047\" xlink:href=\"#DejaVuSans-53\"/>\n      </g>\n     </g>\n    </g>\n    <g id=\"xtick_2\">\n     <g id=\"line2d_2\">\n      <g>\n       <use style=\"stroke:#000000;stroke-width:0.8;\" x=\"102.066355\" xlink:href=\"#m02b0199c05\" y=\"224.64\"/>\n      </g>\n     </g>\n     <g id=\"text_2\">\n      <!-- 60 -->\n      <g transform=\"translate(95.703855 239.238437)scale(0.1 -0.1)\">\n       <defs>\n        <path d=\"M 33.015625 40.375 \nQ 26.375 40.375 22.484375 35.828125 \nQ 18.609375 31.296875 18.609375 23.390625 \nQ 18.609375 15.53125 22.484375 10.953125 \nQ 26.375 6.390625 33.015625 6.390625 \nQ 39.65625 6.390625 43.53125 10.953125 \nQ 47.40625 15.53125 47.40625 23.390625 \nQ 47.40625 31.296875 43.53125 35.828125 \nQ 39.65625 40.375 33.015625 40.375 \nz\nM 52.59375 71.296875 \nL 52.59375 62.3125 \nQ 48.875 64.0625 45.09375 64.984375 \nQ 41.3125 65.921875 37.59375 65.921875 \nQ 27.828125 65.921875 22.671875 59.328125 \nQ 17.53125 52.734375 16.796875 39.40625 \nQ 19.671875 43.65625 24.015625 45.921875 \nQ 28.375 48.1875 33.59375 48.1875 \nQ 44.578125 48.1875 50.953125 41.515625 \nQ 57.328125 34.859375 57.328125 23.390625 \nQ 57.328125 12.15625 50.6875 5.359375 \nQ 44.046875 -1.421875 33.015625 -1.421875 \nQ 20.359375 -1.421875 13.671875 8.265625 \nQ 6.984375 17.96875 6.984375 36.375 \nQ 6.984375 53.65625 15.1875 63.9375 \nQ 23.390625 74.21875 37.203125 74.21875 \nQ 40.921875 74.21875 44.703125 73.484375 \nQ 48.484375 72.75 52.59375 71.296875 \nz\n\" id=\"DejaVuSans-54\"/>\n        <path d=\"M 31.78125 66.40625 \nQ 24.171875 66.40625 20.328125 58.90625 \nQ 16.5 51.421875 16.5 36.375 \nQ 16.5 21.390625 20.328125 13.890625 \nQ 24.171875 6.390625 31.78125 6.390625 \nQ 39.453125 6.390625 43.28125 13.890625 \nQ 47.125 21.390625 47.125 36.375 \nQ 47.125 51.421875 43.28125 58.90625 \nQ 39.453125 66.40625 31.78125 66.40625 \nz\nM 31.78125 74.21875 \nQ 44.046875 74.21875 50.515625 64.515625 \nQ 56.984375 54.828125 56.984375 36.375 \nQ 56.984375 17.96875 50.515625 8.265625 \nQ 44.046875 -1.421875 31.78125 -1.421875 \nQ 19.53125 -1.421875 13.0625 8.265625 \nQ 6.59375 17.96875 6.59375 36.375 \nQ 6.59375 54.828125 13.0625 64.515625 \nQ 19.53125 74.21875 31.78125 74.21875 \nz\n\" id=\"DejaVuSans-48\"/>\n       </defs>\n       <use xlink:href=\"#DejaVuSans-54\"/>\n       <use x=\"63.623047\" xlink:href=\"#DejaVuSans-48\"/>\n      </g>\n     </g>\n    </g>\n    <g id=\"xtick_3\">\n     <g id=\"line2d_3\">\n      <g>\n       <use style=\"stroke:#000000;stroke-width:0.8;\" x=\"155.781775\" xlink:href=\"#m02b0199c05\" y=\"224.64\"/>\n      </g>\n     </g>\n     <g id=\"text_3\">\n      <!-- 65 -->\n      <g transform=\"translate(149.419275 239.238437)scale(0.1 -0.1)\">\n       <use xlink:href=\"#DejaVuSans-54\"/>\n       <use x=\"63.623047\" xlink:href=\"#DejaVuSans-53\"/>\n      </g>\n     </g>\n    </g>\n    <g id=\"xtick_4\">\n     <g id=\"line2d_4\">\n      <g>\n       <use style=\"stroke:#000000;stroke-width:0.8;\" x=\"209.497194\" xlink:href=\"#m02b0199c05\" y=\"224.64\"/>\n      </g>\n     </g>\n     <g id=\"text_4\">\n      <!-- 70 -->\n      <g transform=\"translate(203.134694 239.238437)scale(0.1 -0.1)\">\n       <defs>\n        <path d=\"M 8.203125 72.90625 \nL 55.078125 72.90625 \nL 55.078125 68.703125 \nL 28.609375 0 \nL 18.3125 0 \nL 43.21875 64.59375 \nL 8.203125 64.59375 \nz\n\" id=\"DejaVuSans-55\"/>\n       </defs>\n       <use xlink:href=\"#DejaVuSans-55\"/>\n       <use x=\"63.623047\" xlink:href=\"#DejaVuSans-48\"/>\n      </g>\n     </g>\n    </g>\n    <g id=\"xtick_5\">\n     <g id=\"line2d_5\">\n      <g>\n       <use style=\"stroke:#000000;stroke-width:0.8;\" x=\"263.212614\" xlink:href=\"#m02b0199c05\" y=\"224.64\"/>\n      </g>\n     </g>\n     <g id=\"text_5\">\n      <!-- 75 -->\n      <g transform=\"translate(256.850114 239.238437)scale(0.1 -0.1)\">\n       <use xlink:href=\"#DejaVuSans-55\"/>\n       <use x=\"63.623047\" xlink:href=\"#DejaVuSans-53\"/>\n      </g>\n     </g>\n    </g>\n    <g id=\"xtick_6\">\n     <g id=\"line2d_6\">\n      <g>\n       <use style=\"stroke:#000000;stroke-width:0.8;\" x=\"316.928034\" xlink:href=\"#m02b0199c05\" y=\"224.64\"/>\n      </g>\n     </g>\n     <g id=\"text_6\">\n      <!-- 80 -->\n      <g transform=\"translate(310.565534 239.238437)scale(0.1 -0.1)\">\n       <defs>\n        <path d=\"M 31.78125 34.625 \nQ 24.75 34.625 20.71875 30.859375 \nQ 16.703125 27.09375 16.703125 20.515625 \nQ 16.703125 13.921875 20.71875 10.15625 \nQ 24.75 6.390625 31.78125 6.390625 \nQ 38.8125 6.390625 42.859375 10.171875 \nQ 46.921875 13.96875 46.921875 20.515625 \nQ 46.921875 27.09375 42.890625 30.859375 \nQ 38.875 34.625 31.78125 34.625 \nz\nM 21.921875 38.8125 \nQ 15.578125 40.375 12.03125 44.71875 \nQ 8.5 49.078125 8.5 55.328125 \nQ 8.5 64.0625 14.71875 69.140625 \nQ 20.953125 74.21875 31.78125 74.21875 \nQ 42.671875 74.21875 48.875 69.140625 \nQ 55.078125 64.0625 55.078125 55.328125 \nQ 55.078125 49.078125 51.53125 44.71875 \nQ 48 40.375 41.703125 38.8125 \nQ 48.828125 37.15625 52.796875 32.3125 \nQ 56.78125 27.484375 56.78125 20.515625 \nQ 56.78125 9.90625 50.3125 4.234375 \nQ 43.84375 -1.421875 31.78125 -1.421875 \nQ 19.734375 -1.421875 13.25 4.234375 \nQ 6.78125 9.90625 6.78125 20.515625 \nQ 6.78125 27.484375 10.78125 32.3125 \nQ 14.796875 37.15625 21.921875 38.8125 \nz\nM 18.3125 54.390625 \nQ 18.3125 48.734375 21.84375 45.5625 \nQ 25.390625 42.390625 31.78125 42.390625 \nQ 38.140625 42.390625 41.71875 45.5625 \nQ 45.3125 48.734375 45.3125 54.390625 \nQ 45.3125 60.0625 41.71875 63.234375 \nQ 38.140625 66.40625 31.78125 66.40625 \nQ 25.390625 66.40625 21.84375 63.234375 \nQ 18.3125 60.0625 18.3125 54.390625 \nz\n\" id=\"DejaVuSans-56\"/>\n       </defs>\n       <use xlink:href=\"#DejaVuSans-56\"/>\n       <use x=\"63.623047\" xlink:href=\"#DejaVuSans-48\"/>\n      </g>\n     </g>\n    </g>\n   </g>\n   <g id=\"matplotlib.axis_2\">\n    <g id=\"ytick_1\">\n     <g id=\"line2d_7\">\n      <defs>\n       <path d=\"M 0 0 \nL -3.5 0 \n\" id=\"m921998af10\" style=\"stroke:#000000;stroke-width:0.8;\"/>\n      </defs>\n      <g>\n       <use style=\"stroke:#000000;stroke-width:0.8;\" x=\"33.2875\" xlink:href=\"#m921998af10\" y=\"222.981007\"/>\n      </g>\n     </g>\n     <g id=\"text_7\">\n      <!-- 108 -->\n      <g transform=\"translate(7.2 226.780226)scale(0.1 -0.1)\">\n       <defs>\n        <path d=\"M 12.40625 8.296875 \nL 28.515625 8.296875 \nL 28.515625 63.921875 \nL 10.984375 60.40625 \nL 10.984375 69.390625 \nL 28.421875 72.90625 \nL 38.28125 72.90625 \nL 38.28125 8.296875 \nL 54.390625 8.296875 \nL 54.390625 0 \nL 12.40625 0 \nz\n\" id=\"DejaVuSans-49\"/>\n       </defs>\n       <use xlink:href=\"#DejaVuSans-49\"/>\n       <use x=\"63.623047\" xlink:href=\"#DejaVuSans-48\"/>\n       <use x=\"127.246094\" xlink:href=\"#DejaVuSans-56\"/>\n      </g>\n     </g>\n    </g>\n    <g id=\"ytick_2\">\n     <g id=\"line2d_8\">\n      <g>\n       <use style=\"stroke:#000000;stroke-width:0.8;\" x=\"33.2875\" xlink:href=\"#m921998af10\" y=\"195.23916\"/>\n      </g>\n     </g>\n     <g id=\"text_8\">\n      <!-- 109 -->\n      <g transform=\"translate(7.2 199.038378)scale(0.1 -0.1)\">\n       <defs>\n        <path d=\"M 10.984375 1.515625 \nL 10.984375 10.5 \nQ 14.703125 8.734375 18.5 7.8125 \nQ 22.3125 6.890625 25.984375 6.890625 \nQ 35.75 6.890625 40.890625 13.453125 \nQ 46.046875 20.015625 46.78125 33.40625 \nQ 43.953125 29.203125 39.59375 26.953125 \nQ 35.25 24.703125 29.984375 24.703125 \nQ 19.046875 24.703125 12.671875 31.3125 \nQ 6.296875 37.9375 6.296875 49.421875 \nQ 6.296875 60.640625 12.9375 67.421875 \nQ 19.578125 74.21875 30.609375 74.21875 \nQ 43.265625 74.21875 49.921875 64.515625 \nQ 56.59375 54.828125 56.59375 36.375 \nQ 56.59375 19.140625 48.40625 8.859375 \nQ 40.234375 -1.421875 26.421875 -1.421875 \nQ 22.703125 -1.421875 18.890625 -0.6875 \nQ 15.09375 0.046875 10.984375 1.515625 \nz\nM 30.609375 32.421875 \nQ 37.25 32.421875 41.125 36.953125 \nQ 45.015625 41.5 45.015625 49.421875 \nQ 45.015625 57.28125 41.125 61.84375 \nQ 37.25 66.40625 30.609375 66.40625 \nQ 23.96875 66.40625 20.09375 61.84375 \nQ 16.21875 57.28125 16.21875 49.421875 \nQ 16.21875 41.5 20.09375 36.953125 \nQ 23.96875 32.421875 30.609375 32.421875 \nz\n\" id=\"DejaVuSans-57\"/>\n       </defs>\n       <use xlink:href=\"#DejaVuSans-49\"/>\n       <use x=\"63.623047\" xlink:href=\"#DejaVuSans-48\"/>\n       <use x=\"127.246094\" xlink:href=\"#DejaVuSans-57\"/>\n      </g>\n     </g>\n    </g>\n    <g id=\"ytick_3\">\n     <g id=\"line2d_9\">\n      <g>\n       <use style=\"stroke:#000000;stroke-width:0.8;\" x=\"33.2875\" xlink:href=\"#m921998af10\" y=\"167.497312\"/>\n      </g>\n     </g>\n     <g id=\"text_9\">\n      <!-- 110 -->\n      <g transform=\"translate(7.2 171.296531)scale(0.1 -0.1)\">\n       <use xlink:href=\"#DejaVuSans-49\"/>\n       <use x=\"63.623047\" xlink:href=\"#DejaVuSans-49\"/>\n       <use x=\"127.246094\" xlink:href=\"#DejaVuSans-48\"/>\n      </g>\n     </g>\n    </g>\n    <g id=\"ytick_4\">\n     <g id=\"line2d_10\">\n      <g>\n       <use style=\"stroke:#000000;stroke-width:0.8;\" x=\"33.2875\" xlink:href=\"#m921998af10\" y=\"139.755465\"/>\n      </g>\n     </g>\n     <g id=\"text_10\">\n      <!-- 111 -->\n      <g transform=\"translate(7.2 143.554683)scale(0.1 -0.1)\">\n       <use xlink:href=\"#DejaVuSans-49\"/>\n       <use x=\"63.623047\" xlink:href=\"#DejaVuSans-49\"/>\n       <use x=\"127.246094\" xlink:href=\"#DejaVuSans-49\"/>\n      </g>\n     </g>\n    </g>\n    <g id=\"ytick_5\">\n     <g id=\"line2d_11\">\n      <g>\n       <use style=\"stroke:#000000;stroke-width:0.8;\" x=\"33.2875\" xlink:href=\"#m921998af10\" y=\"112.013617\"/>\n      </g>\n     </g>\n     <g id=\"text_11\">\n      <!-- 112 -->\n      <g transform=\"translate(7.2 115.812836)scale(0.1 -0.1)\">\n       <defs>\n        <path d=\"M 19.1875 8.296875 \nL 53.609375 8.296875 \nL 53.609375 0 \nL 7.328125 0 \nL 7.328125 8.296875 \nQ 12.9375 14.109375 22.625 23.890625 \nQ 32.328125 33.6875 34.8125 36.53125 \nQ 39.546875 41.84375 41.421875 45.53125 \nQ 43.3125 49.21875 43.3125 52.78125 \nQ 43.3125 58.59375 39.234375 62.25 \nQ 35.15625 65.921875 28.609375 65.921875 \nQ 23.96875 65.921875 18.8125 64.3125 \nQ 13.671875 62.703125 7.8125 59.421875 \nL 7.8125 69.390625 \nQ 13.765625 71.78125 18.9375 73 \nQ 24.125 74.21875 28.421875 74.21875 \nQ 39.75 74.21875 46.484375 68.546875 \nQ 53.21875 62.890625 53.21875 53.421875 \nQ 53.21875 48.921875 51.53125 44.890625 \nQ 49.859375 40.875 45.40625 35.40625 \nQ 44.1875 33.984375 37.640625 27.21875 \nQ 31.109375 20.453125 19.1875 8.296875 \nz\n\" id=\"DejaVuSans-50\"/>\n       </defs>\n       <use xlink:href=\"#DejaVuSans-49\"/>\n       <use x=\"63.623047\" xlink:href=\"#DejaVuSans-49\"/>\n       <use x=\"127.246094\" xlink:href=\"#DejaVuSans-50\"/>\n      </g>\n     </g>\n    </g>\n    <g id=\"ytick_6\">\n     <g id=\"line2d_12\">\n      <g>\n       <use style=\"stroke:#000000;stroke-width:0.8;\" x=\"33.2875\" xlink:href=\"#m921998af10\" y=\"84.27177\"/>\n      </g>\n     </g>\n     <g id=\"text_12\">\n      <!-- 113 -->\n      <g transform=\"translate(7.2 88.070989)scale(0.1 -0.1)\">\n       <defs>\n        <path d=\"M 40.578125 39.3125 \nQ 47.65625 37.796875 51.625 33 \nQ 55.609375 28.21875 55.609375 21.1875 \nQ 55.609375 10.40625 48.1875 4.484375 \nQ 40.765625 -1.421875 27.09375 -1.421875 \nQ 22.515625 -1.421875 17.65625 -0.515625 \nQ 12.796875 0.390625 7.625 2.203125 \nL 7.625 11.71875 \nQ 11.71875 9.328125 16.59375 8.109375 \nQ 21.484375 6.890625 26.8125 6.890625 \nQ 36.078125 6.890625 40.9375 10.546875 \nQ 45.796875 14.203125 45.796875 21.1875 \nQ 45.796875 27.640625 41.28125 31.265625 \nQ 36.765625 34.90625 28.71875 34.90625 \nL 20.21875 34.90625 \nL 20.21875 43.015625 \nL 29.109375 43.015625 \nQ 36.375 43.015625 40.234375 45.921875 \nQ 44.09375 48.828125 44.09375 54.296875 \nQ 44.09375 59.90625 40.109375 62.90625 \nQ 36.140625 65.921875 28.71875 65.921875 \nQ 24.65625 65.921875 20.015625 65.03125 \nQ 15.375 64.15625 9.8125 62.3125 \nL 9.8125 71.09375 \nQ 15.4375 72.65625 20.34375 73.4375 \nQ 25.25 74.21875 29.59375 74.21875 \nQ 40.828125 74.21875 47.359375 69.109375 \nQ 53.90625 64.015625 53.90625 55.328125 \nQ 53.90625 49.265625 50.4375 45.09375 \nQ 46.96875 40.921875 40.578125 39.3125 \nz\n\" id=\"DejaVuSans-51\"/>\n       </defs>\n       <use xlink:href=\"#DejaVuSans-49\"/>\n       <use x=\"63.623047\" xlink:href=\"#DejaVuSans-49\"/>\n       <use x=\"127.246094\" xlink:href=\"#DejaVuSans-51\"/>\n      </g>\n     </g>\n    </g>\n    <g id=\"ytick_7\">\n     <g id=\"line2d_13\">\n      <g>\n       <use style=\"stroke:#000000;stroke-width:0.8;\" x=\"33.2875\" xlink:href=\"#m921998af10\" y=\"56.529922\"/>\n      </g>\n     </g>\n     <g id=\"text_13\">\n      <!-- 114 -->\n      <g transform=\"translate(7.2 60.329141)scale(0.1 -0.1)\">\n       <defs>\n        <path d=\"M 37.796875 64.3125 \nL 12.890625 25.390625 \nL 37.796875 25.390625 \nz\nM 35.203125 72.90625 \nL 47.609375 72.90625 \nL 47.609375 25.390625 \nL 58.015625 25.390625 \nL 58.015625 17.1875 \nL 47.609375 17.1875 \nL 47.609375 0 \nL 37.796875 0 \nL 37.796875 17.1875 \nL 4.890625 17.1875 \nL 4.890625 26.703125 \nz\n\" id=\"DejaVuSans-52\"/>\n       </defs>\n       <use xlink:href=\"#DejaVuSans-49\"/>\n       <use x=\"63.623047\" xlink:href=\"#DejaVuSans-49\"/>\n       <use x=\"127.246094\" xlink:href=\"#DejaVuSans-52\"/>\n      </g>\n     </g>\n    </g>\n    <g id=\"ytick_8\">\n     <g id=\"line2d_14\">\n      <g>\n       <use style=\"stroke:#000000;stroke-width:0.8;\" x=\"33.2875\" xlink:href=\"#m921998af10\" y=\"28.788075\"/>\n      </g>\n     </g>\n     <g id=\"text_14\">\n      <!-- 115 -->\n      <g transform=\"translate(7.2 32.587294)scale(0.1 -0.1)\">\n       <use xlink:href=\"#DejaVuSans-49\"/>\n       <use x=\"63.623047\" xlink:href=\"#DejaVuSans-49\"/>\n       <use x=\"127.246094\" xlink:href=\"#DejaVuSans-53\"/>\n      </g>\n     </g>\n    </g>\n   </g>\n   <g id=\"line2d_15\">\n    <path clip-path=\"url(#p20991a3161)\" d=\"M 322.583742 153.011323 \nL 225.142991 47.339081 \nL 196.802812 65.770926 \nL 75.733702 32.548734 \nL 48.505682 62.981333 \nL 176.050051 88.618286 \nL 196.801419 38.767961 \nL 199.247447 17.083636 \nL 352.869318 214.756364 \n\" style=\"fill:none;stroke:#1f77b4;stroke-dasharray:5.55,2.4;stroke-dashoffset:0;stroke-width:1.5;\"/>\n    <defs>\n     <path d=\"M 0 3 \nC 0.795609 3 1.55874 2.683901 2.12132 2.12132 \nC 2.683901 1.55874 3 0.795609 3 0 \nC 3 -0.795609 2.683901 -1.55874 2.12132 -2.12132 \nC 1.55874 -2.683901 0.795609 -3 0 -3 \nC -0.795609 -3 -1.55874 -2.683901 -2.12132 -2.12132 \nC -2.683901 -1.55874 -3 -0.795609 -3 0 \nC -3 0.795609 -2.683901 1.55874 -2.12132 2.12132 \nC -1.55874 2.683901 -0.795609 3 0 3 \nz\n\" id=\"m44da9fb0a5\" style=\"stroke:#1f77b4;\"/>\n    </defs>\n    <g clip-path=\"url(#p20991a3161)\">\n     <use style=\"fill:#1f77b4;stroke:#1f77b4;\" x=\"322.583742\" xlink:href=\"#m44da9fb0a5\" y=\"153.011323\"/>\n     <use style=\"fill:#1f77b4;stroke:#1f77b4;\" x=\"225.142991\" xlink:href=\"#m44da9fb0a5\" y=\"47.339081\"/>\n     <use style=\"fill:#1f77b4;stroke:#1f77b4;\" x=\"196.802812\" xlink:href=\"#m44da9fb0a5\" y=\"65.770926\"/>\n     <use style=\"fill:#1f77b4;stroke:#1f77b4;\" x=\"75.733702\" xlink:href=\"#m44da9fb0a5\" y=\"32.548734\"/>\n     <use style=\"fill:#1f77b4;stroke:#1f77b4;\" x=\"48.505682\" xlink:href=\"#m44da9fb0a5\" y=\"62.981333\"/>\n     <use style=\"fill:#1f77b4;stroke:#1f77b4;\" x=\"176.050051\" xlink:href=\"#m44da9fb0a5\" y=\"88.618286\"/>\n     <use style=\"fill:#1f77b4;stroke:#1f77b4;\" x=\"196.801419\" xlink:href=\"#m44da9fb0a5\" y=\"38.767961\"/>\n     <use style=\"fill:#1f77b4;stroke:#1f77b4;\" x=\"199.247447\" xlink:href=\"#m44da9fb0a5\" y=\"17.083636\"/>\n     <use style=\"fill:#1f77b4;stroke:#1f77b4;\" x=\"352.869318\" xlink:href=\"#m44da9fb0a5\" y=\"214.756364\"/>\n    </g>\n   </g>\n   <g id=\"line2d_16\">\n    <path clip-path=\"url(#p20991a3161)\" d=\"M 322.583742 153.011326 \nL 239.063098 62.435116 \nL 187.117283 63.11315 \nL 85.41923 35.20651 \nL 52.136084 58.923653 \nL 176.050051 88.618286 \nL 195.417994 42.091315 \nL 209.842059 30.716238 \nL 352.869318 214.756362 \n\" style=\"fill:none;stroke:#ff7f0e;stroke-dasharray:5.55,2.4;stroke-dashoffset:0;stroke-width:1.5;\"/>\n    <defs>\n     <path d=\"M 0 3 \nC 0.795609 3 1.55874 2.683901 2.12132 2.12132 \nC 2.683901 1.55874 3 0.795609 3 0 \nC 3 -0.795609 2.683901 -1.55874 2.12132 -2.12132 \nC 1.55874 -2.683901 0.795609 -3 0 -3 \nC -0.795609 -3 -1.55874 -2.683901 -2.12132 -2.12132 \nC -2.683901 -1.55874 -3 -0.795609 -3 0 \nC -3 0.795609 -2.683901 1.55874 -2.12132 2.12132 \nC -1.55874 2.683901 -0.795609 3 0 3 \nz\n\" id=\"me73d5280c7\" style=\"stroke:#ff7f0e;\"/>\n    </defs>\n    <g clip-path=\"url(#p20991a3161)\">\n     <use style=\"fill:#ff7f0e;stroke:#ff7f0e;\" x=\"322.583742\" xlink:href=\"#me73d5280c7\" y=\"153.011326\"/>\n     <use style=\"fill:#ff7f0e;stroke:#ff7f0e;\" x=\"239.063098\" xlink:href=\"#me73d5280c7\" y=\"62.435116\"/>\n     <use style=\"fill:#ff7f0e;stroke:#ff7f0e;\" x=\"187.117283\" xlink:href=\"#me73d5280c7\" y=\"63.11315\"/>\n     <use style=\"fill:#ff7f0e;stroke:#ff7f0e;\" x=\"85.41923\" xlink:href=\"#me73d5280c7\" y=\"35.20651\"/>\n     <use style=\"fill:#ff7f0e;stroke:#ff7f0e;\" x=\"52.136084\" xlink:href=\"#me73d5280c7\" y=\"58.923653\"/>\n     <use style=\"fill:#ff7f0e;stroke:#ff7f0e;\" x=\"176.050051\" xlink:href=\"#me73d5280c7\" y=\"88.618286\"/>\n     <use style=\"fill:#ff7f0e;stroke:#ff7f0e;\" x=\"195.417994\" xlink:href=\"#me73d5280c7\" y=\"42.091315\"/>\n     <use style=\"fill:#ff7f0e;stroke:#ff7f0e;\" x=\"209.842059\" xlink:href=\"#me73d5280c7\" y=\"30.716238\"/>\n     <use style=\"fill:#ff7f0e;stroke:#ff7f0e;\" x=\"352.869318\" xlink:href=\"#me73d5280c7\" y=\"214.756362\"/>\n    </g>\n   </g>\n   <g id=\"patch_3\">\n    <path d=\"M 33.2875 224.64 \nL 33.2875 7.2 \n\" style=\"fill:none;stroke:#000000;stroke-linecap:square;stroke-linejoin:miter;stroke-width:0.8;\"/>\n   </g>\n   <g id=\"patch_4\">\n    <path d=\"M 368.0875 224.64 \nL 368.0875 7.2 \n\" style=\"fill:none;stroke:#000000;stroke-linecap:square;stroke-linejoin:miter;stroke-width:0.8;\"/>\n   </g>\n   <g id=\"patch_5\">\n    <path d=\"M 33.2875 224.64 \nL 368.0875 224.64 \n\" style=\"fill:none;stroke:#000000;stroke-linecap:square;stroke-linejoin:miter;stroke-width:0.8;\"/>\n   </g>\n   <g id=\"patch_6\">\n    <path d=\"M 33.2875 7.2 \nL 368.0875 7.2 \n\" style=\"fill:none;stroke:#000000;stroke-linecap:square;stroke-linejoin:miter;stroke-width:0.8;\"/>\n   </g>\n   <g id=\"legend_1\">\n    <g id=\"patch_7\">\n     <path d=\"M 283.359375 44.55625 \nL 361.0875 44.55625 \nQ 363.0875 44.55625 363.0875 42.55625 \nL 363.0875 14.2 \nQ 363.0875 12.2 361.0875 12.2 \nL 283.359375 12.2 \nQ 281.359375 12.2 281.359375 14.2 \nL 281.359375 42.55625 \nQ 281.359375 44.55625 283.359375 44.55625 \nz\n\" style=\"fill:#ffffff;opacity:0.8;stroke:#cccccc;stroke-linejoin:miter;\"/>\n    </g>\n    <g id=\"line2d_17\">\n     <path d=\"M 285.359375 20.298437 \nL 305.359375 20.298437 \n\" style=\"fill:none;stroke:#1f77b4;stroke-dasharray:5.55,2.4;stroke-dashoffset:0;stroke-width:1.5;\"/>\n    </g>\n    <g id=\"line2d_18\">\n     <g>\n      <use style=\"fill:#1f77b4;stroke:#1f77b4;\" x=\"295.359375\" xlink:href=\"#m44da9fb0a5\" y=\"20.298437\"/>\n     </g>\n    </g>\n    <g id=\"text_15\">\n     <!-- wifi -->\n     <g transform=\"translate(313.359375 23.798437)scale(0.1 -0.1)\">\n      <defs>\n       <path d=\"M 4.203125 54.6875 \nL 13.1875 54.6875 \nL 24.421875 12.015625 \nL 35.59375 54.6875 \nL 46.1875 54.6875 \nL 57.421875 12.015625 \nL 68.609375 54.6875 \nL 77.59375 54.6875 \nL 63.28125 0 \nL 52.6875 0 \nL 40.921875 44.828125 \nL 29.109375 0 \nL 18.5 0 \nz\n\" id=\"DejaVuSans-119\"/>\n       <path d=\"M 9.421875 54.6875 \nL 18.40625 54.6875 \nL 18.40625 0 \nL 9.421875 0 \nz\nM 9.421875 75.984375 \nL 18.40625 75.984375 \nL 18.40625 64.59375 \nL 9.421875 64.59375 \nz\n\" id=\"DejaVuSans-105\"/>\n       <path d=\"M 37.109375 75.984375 \nL 37.109375 68.5 \nL 28.515625 68.5 \nQ 23.6875 68.5 21.796875 66.546875 \nQ 19.921875 64.59375 19.921875 59.515625 \nL 19.921875 54.6875 \nL 34.71875 54.6875 \nL 34.71875 47.703125 \nL 19.921875 47.703125 \nL 19.921875 0 \nL 10.890625 0 \nL 10.890625 47.703125 \nL 2.296875 47.703125 \nL 2.296875 54.6875 \nL 10.890625 54.6875 \nL 10.890625 58.5 \nQ 10.890625 67.625 15.140625 71.796875 \nQ 19.390625 75.984375 28.609375 75.984375 \nz\n\" id=\"DejaVuSans-102\"/>\n      </defs>\n      <use xlink:href=\"#DejaVuSans-119\"/>\n      <use x=\"81.787109\" xlink:href=\"#DejaVuSans-105\"/>\n      <use x=\"109.570312\" xlink:href=\"#DejaVuSans-102\"/>\n      <use x=\"144.775391\" xlink:href=\"#DejaVuSans-105\"/>\n     </g>\n    </g>\n    <g id=\"line2d_19\">\n     <path d=\"M 285.359375 34.976562 \nL 305.359375 34.976562 \n\" style=\"fill:none;stroke:#ff7f0e;stroke-dasharray:5.55,2.4;stroke-dashoffset:0;stroke-width:1.5;\"/>\n    </g>\n    <g id=\"line2d_20\">\n     <g>\n      <use style=\"fill:#ff7f0e;stroke:#ff7f0e;\" x=\"295.359375\" xlink:href=\"#me73d5280c7\" y=\"34.976562\"/>\n     </g>\n    </g>\n    <g id=\"text_16\">\n     <!-- waypoint -->\n     <g transform=\"translate(313.359375 38.476562)scale(0.1 -0.1)\">\n      <defs>\n       <path d=\"M 34.28125 27.484375 \nQ 23.390625 27.484375 19.1875 25 \nQ 14.984375 22.515625 14.984375 16.5 \nQ 14.984375 11.71875 18.140625 8.90625 \nQ 21.296875 6.109375 26.703125 6.109375 \nQ 34.1875 6.109375 38.703125 11.40625 \nQ 43.21875 16.703125 43.21875 25.484375 \nL 43.21875 27.484375 \nz\nM 52.203125 31.203125 \nL 52.203125 0 \nL 43.21875 0 \nL 43.21875 8.296875 \nQ 40.140625 3.328125 35.546875 0.953125 \nQ 30.953125 -1.421875 24.3125 -1.421875 \nQ 15.921875 -1.421875 10.953125 3.296875 \nQ 6 8.015625 6 15.921875 \nQ 6 25.140625 12.171875 29.828125 \nQ 18.359375 34.515625 30.609375 34.515625 \nL 43.21875 34.515625 \nL 43.21875 35.40625 \nQ 43.21875 41.609375 39.140625 45 \nQ 35.0625 48.390625 27.6875 48.390625 \nQ 23 48.390625 18.546875 47.265625 \nQ 14.109375 46.140625 10.015625 43.890625 \nL 10.015625 52.203125 \nQ 14.9375 54.109375 19.578125 55.046875 \nQ 24.21875 56 28.609375 56 \nQ 40.484375 56 46.34375 49.84375 \nQ 52.203125 43.703125 52.203125 31.203125 \nz\n\" id=\"DejaVuSans-97\"/>\n       <path d=\"M 32.171875 -5.078125 \nQ 28.375 -14.84375 24.75 -17.8125 \nQ 21.140625 -20.796875 15.09375 -20.796875 \nL 7.90625 -20.796875 \nL 7.90625 -13.28125 \nL 13.1875 -13.28125 \nQ 16.890625 -13.28125 18.9375 -11.515625 \nQ 21 -9.765625 23.484375 -3.21875 \nL 25.09375 0.875 \nL 2.984375 54.6875 \nL 12.5 54.6875 \nL 29.59375 11.921875 \nL 46.6875 54.6875 \nL 56.203125 54.6875 \nz\n\" id=\"DejaVuSans-121\"/>\n       <path d=\"M 18.109375 8.203125 \nL 18.109375 -20.796875 \nL 9.078125 -20.796875 \nL 9.078125 54.6875 \nL 18.109375 54.6875 \nL 18.109375 46.390625 \nQ 20.953125 51.265625 25.265625 53.625 \nQ 29.59375 56 35.59375 56 \nQ 45.5625 56 51.78125 48.09375 \nQ 58.015625 40.1875 58.015625 27.296875 \nQ 58.015625 14.40625 51.78125 6.484375 \nQ 45.5625 -1.421875 35.59375 -1.421875 \nQ 29.59375 -1.421875 25.265625 0.953125 \nQ 20.953125 3.328125 18.109375 8.203125 \nz\nM 48.6875 27.296875 \nQ 48.6875 37.203125 44.609375 42.84375 \nQ 40.53125 48.484375 33.40625 48.484375 \nQ 26.265625 48.484375 22.1875 42.84375 \nQ 18.109375 37.203125 18.109375 27.296875 \nQ 18.109375 17.390625 22.1875 11.75 \nQ 26.265625 6.109375 33.40625 6.109375 \nQ 40.53125 6.109375 44.609375 11.75 \nQ 48.6875 17.390625 48.6875 27.296875 \nz\n\" id=\"DejaVuSans-112\"/>\n       <path d=\"M 30.609375 48.390625 \nQ 23.390625 48.390625 19.1875 42.75 \nQ 14.984375 37.109375 14.984375 27.296875 \nQ 14.984375 17.484375 19.15625 11.84375 \nQ 23.34375 6.203125 30.609375 6.203125 \nQ 37.796875 6.203125 41.984375 11.859375 \nQ 46.1875 17.53125 46.1875 27.296875 \nQ 46.1875 37.015625 41.984375 42.703125 \nQ 37.796875 48.390625 30.609375 48.390625 \nz\nM 30.609375 56 \nQ 42.328125 56 49.015625 48.375 \nQ 55.71875 40.765625 55.71875 27.296875 \nQ 55.71875 13.875 49.015625 6.21875 \nQ 42.328125 -1.421875 30.609375 -1.421875 \nQ 18.84375 -1.421875 12.171875 6.21875 \nQ 5.515625 13.875 5.515625 27.296875 \nQ 5.515625 40.765625 12.171875 48.375 \nQ 18.84375 56 30.609375 56 \nz\n\" id=\"DejaVuSans-111\"/>\n       <path d=\"M 54.890625 33.015625 \nL 54.890625 0 \nL 45.90625 0 \nL 45.90625 32.71875 \nQ 45.90625 40.484375 42.875 44.328125 \nQ 39.84375 48.1875 33.796875 48.1875 \nQ 26.515625 48.1875 22.3125 43.546875 \nQ 18.109375 38.921875 18.109375 30.90625 \nL 18.109375 0 \nL 9.078125 0 \nL 9.078125 54.6875 \nL 18.109375 54.6875 \nL 18.109375 46.1875 \nQ 21.34375 51.125 25.703125 53.5625 \nQ 30.078125 56 35.796875 56 \nQ 45.21875 56 50.046875 50.171875 \nQ 54.890625 44.34375 54.890625 33.015625 \nz\n\" id=\"DejaVuSans-110\"/>\n       <path d=\"M 18.3125 70.21875 \nL 18.3125 54.6875 \nL 36.8125 54.6875 \nL 36.8125 47.703125 \nL 18.3125 47.703125 \nL 18.3125 18.015625 \nQ 18.3125 11.328125 20.140625 9.421875 \nQ 21.96875 7.515625 27.59375 7.515625 \nL 36.8125 7.515625 \nL 36.8125 0 \nL 27.59375 0 \nQ 17.1875 0 13.234375 3.875 \nQ 9.28125 7.765625 9.28125 18.015625 \nL 9.28125 47.703125 \nL 2.6875 47.703125 \nL 2.6875 54.6875 \nL 9.28125 54.6875 \nL 9.28125 70.21875 \nz\n\" id=\"DejaVuSans-116\"/>\n      </defs>\n      <use xlink:href=\"#DejaVuSans-119\"/>\n      <use x=\"81.787109\" xlink:href=\"#DejaVuSans-97\"/>\n      <use x=\"143.066406\" xlink:href=\"#DejaVuSans-121\"/>\n      <use x=\"202.246094\" xlink:href=\"#DejaVuSans-112\"/>\n      <use x=\"265.722656\" xlink:href=\"#DejaVuSans-111\"/>\n      <use x=\"326.904297\" xlink:href=\"#DejaVuSans-105\"/>\n      <use x=\"354.6875\" xlink:href=\"#DejaVuSans-110\"/>\n      <use x=\"418.066406\" xlink:href=\"#DejaVuSans-116\"/>\n     </g>\n    </g>\n   </g>\n  </g>\n </g>\n <defs>\n  <clipPath id=\"p20991a3161\">\n   <rect height=\"217.44\" width=\"334.8\" x=\"33.2875\" y=\"7.2\"/>\n  </clipPath>\n </defs>\n</svg>\n",
      "image/png": "[encoded data removed]"
     },
     "metadata": {
      "needs_background": "light"
     }
    }
   ],
   "source": [
    "# 線形補完の例\n",
    "path = test_df['path'].unique()[23]  #15\n",
    "df = test_df[test_df['path']==path]\n",
    "\n",
    "waypoint = wifi_waypoint_by_linear_interpolation(\n",
    "    observed_timestamp=df['wifi_timestamp'].astype(int).values, \n",
    "    observed_x=df['x'].values,\n",
    "    observed_y=df['y'].values, \n",
    "    target_timestamp=df['timestamp'].astype(int).values\n",
    "    )\n",
    "print(len(df), len(waypoint))\n",
    "\n",
    "import matplotlib.pyplot as plt\n",
    "# print(df[\"timestamp\"].astype(int) - df[\"timestamp\"].astype(int).values[0])\n",
    "plt.plot(df[\"x\"].values, df[\"y\"].values, ls='--', marker=\"o\", label='wifi')\n",
    "plt.plot(waypoint[:,0], waypoint[:,1], ls='--', marker=\"o\", label='waypoint')\n",
    "plt.legend()"
   ]
  },
  {
   "cell_type": "code",
   "execution_count": 29,
   "metadata": {},
   "outputs": [
    {
     "output_type": "execute_result",
     "data": {
      "text/plain": [
       "                                         ssid_0  \\\n",
       "0      3c1e7602176e050694e3a5cf8ba5f6f725e3ec51   \n",
       "1      5c072340f8e500f7e62819ab82bb8998ecd0ef4e   \n",
       "2      d0af9d9c2709796ee07a0432de0e26298a64e3e8   \n",
       "3      3c1e7602176e050694e3a5cf8ba5f6f725e3ec51   \n",
       "4      3c1e7602176e050694e3a5cf8ba5f6f725e3ec51   \n",
       "...                                         ...   \n",
       "10128  45671173620a277ceda4ed5411413875dc4cddd0   \n",
       "10129  45671173620a277ceda4ed5411413875dc4cddd0   \n",
       "10130  45671173620a277ceda4ed5411413875dc4cddd0   \n",
       "10131  45671173620a277ceda4ed5411413875dc4cddd0   \n",
       "10132  45671173620a277ceda4ed5411413875dc4cddd0   \n",
       "\n",
       "                                         ssid_1  \\\n",
       "0      5c072340f8e500f7e62819ab82bb8998ecd0ef4e   \n",
       "1      d0af9d9c2709796ee07a0432de0e26298a64e3e8   \n",
       "2      3c1e7602176e050694e3a5cf8ba5f6f725e3ec51   \n",
       "3      a4e38996343460efde1140975529e97c9f9aa60b   \n",
       "4      d0af9d9c2709796ee07a0432de0e26298a64e3e8   \n",
       "...                                         ...   \n",
       "10128  45671173620a277ceda4ed5411413875dc4cddd0   \n",
       "10129  45671173620a277ceda4ed5411413875dc4cddd0   \n",
       "10130  45671173620a277ceda4ed5411413875dc4cddd0   \n",
       "10131  94c9c12f67502bf93f4ced30194b269d9cec6f92   \n",
       "10132  7182afc4e5c212133d5d7d76eb3df6c24618302b   \n",
       "\n",
       "                                         ssid_2  \\\n",
       "0      a4e38996343460efde1140975529e97c9f9aa60b   \n",
       "1      3c1e7602176e050694e3a5cf8ba5f6f725e3ec51   \n",
       "2      f2921f9fa47c704da162c06fc348a98e83464d71   \n",
       "3      f2921f9fa47c704da162c06fc348a98e83464d71   \n",
       "4      5c072340f8e500f7e62819ab82bb8998ecd0ef4e   \n",
       "...                                         ...   \n",
       "10128  94c9c12f67502bf93f4ced30194b269d9cec6f92   \n",
       "10129  94c9c12f67502bf93f4ced30194b269d9cec6f92   \n",
       "10130  193453b4b2ad6268a8c6e40c0064fbf1310a6460   \n",
       "10131  45671173620a277ceda4ed5411413875dc4cddd0   \n",
       "10132  b9f0208be00bd8b337be7f12e02e3a3ce846e22b   \n",
       "\n",
       "                                         ssid_3  \\\n",
       "0      d0af9d9c2709796ee07a0432de0e26298a64e3e8   \n",
       "1      da39a3ee5e6b4b0d3255bfef95601890afd80709   \n",
       "2      5c072340f8e500f7e62819ab82bb8998ecd0ef4e   \n",
       "3      da39a3ee5e6b4b0d3255bfef95601890afd80709   \n",
       "4      da39a3ee5e6b4b0d3255bfef95601890afd80709   \n",
       "...                                         ...   \n",
       "10128  f0de7db5c2e4bf6c27f0f0b941a941cdc95ac6c5   \n",
       "10129  b7e6027447eb1f81327d66cfd3adbe557aabf26c   \n",
       "10130  d78e0816ec0328992fc6025f61304812cf54febf   \n",
       "10131  6ad1c6bb0aeaa218fa705f0f8dc901c973396a9e   \n",
       "10132  b7e6027447eb1f81327d66cfd3adbe557aabf26c   \n",
       "\n",
       "                                         ssid_4  \\\n",
       "0      a4e38996343460efde1140975529e97c9f9aa60b   \n",
       "1      a4e38996343460efde1140975529e97c9f9aa60b   \n",
       "2      da39a3ee5e6b4b0d3255bfef95601890afd80709   \n",
       "3      d0af9d9c2709796ee07a0432de0e26298a64e3e8   \n",
       "4      208255716aecce985d8f7a2bb8117b4dee2d53c5   \n",
       "...                                         ...   \n",
       "10128  f44fa6118fed7198296c8b45b2f2684903d99620   \n",
       "10129  d839a45ebe64ab48b60a407d837fb01d3c0dfef9   \n",
       "10130  6ad1c6bb0aeaa218fa705f0f8dc901c973396a9e   \n",
       "10131  d78e0816ec0328992fc6025f61304812cf54febf   \n",
       "10132  d839a45ebe64ab48b60a407d837fb01d3c0dfef9   \n",
       "\n",
       "                                         ssid_5  \\\n",
       "0      da39a3ee5e6b4b0d3255bfef95601890afd80709   \n",
       "1      208255716aecce985d8f7a2bb8117b4dee2d53c5   \n",
       "2      a4e38996343460efde1140975529e97c9f9aa60b   \n",
       "3      5c072340f8e500f7e62819ab82bb8998ecd0ef4e   \n",
       "4      f2921f9fa47c704da162c06fc348a98e83464d71   \n",
       "...                                         ...   \n",
       "10128  c3d209856c667232ef40c1ccb86cfde3a023920c   \n",
       "10129  b9f0208be00bd8b337be7f12e02e3a3ce846e22b   \n",
       "10130  94c9c12f67502bf93f4ced30194b269d9cec6f92   \n",
       "10131  f0de7db5c2e4bf6c27f0f0b941a941cdc95ac6c5   \n",
       "10132  b6ffe5619e02871fcd04f61c9bb4b5c53a3f46b7   \n",
       "\n",
       "                                         ssid_6  \\\n",
       "0      208255716aecce985d8f7a2bb8117b4dee2d53c5   \n",
       "1      a4e38996343460efde1140975529e97c9f9aa60b   \n",
       "2      a4e38996343460efde1140975529e97c9f9aa60b   \n",
       "3      a4e38996343460efde1140975529e97c9f9aa60b   \n",
       "4      a4e38996343460efde1140975529e97c9f9aa60b   \n",
       "...                                         ...   \n",
       "10128  b7e6027447eb1f81327d66cfd3adbe557aabf26c   \n",
       "10129  193453b4b2ad6268a8c6e40c0064fbf1310a6460   \n",
       "10130  f0de7db5c2e4bf6c27f0f0b941a941cdc95ac6c5   \n",
       "10131  2e40049edd5106db3965286eb2446f3c14b46180   \n",
       "10132  da39a3ee5e6b4b0d3255bfef95601890afd80709   \n",
       "\n",
       "                                         ssid_7  \\\n",
       "0      da39a3ee5e6b4b0d3255bfef95601890afd80709   \n",
       "1      da39a3ee5e6b4b0d3255bfef95601890afd80709   \n",
       "2      208255716aecce985d8f7a2bb8117b4dee2d53c5   \n",
       "3      208255716aecce985d8f7a2bb8117b4dee2d53c5   \n",
       "4      a4e38996343460efde1140975529e97c9f9aa60b   \n",
       "...                                         ...   \n",
       "10128  8ece1ee8e83b5c2be32750c273a7c0b5f04f72ac   \n",
       "10129  8ece1ee8e83b5c2be32750c273a7c0b5f04f72ac   \n",
       "10130  8ece1ee8e83b5c2be32750c273a7c0b5f04f72ac   \n",
       "10131  b7e6027447eb1f81327d66cfd3adbe557aabf26c   \n",
       "10132  45671173620a277ceda4ed5411413875dc4cddd0   \n",
       "\n",
       "                                         ssid_8  \\\n",
       "0      07b466ea3782f19a25830149eb173cfc5c049246   \n",
       "1      07b466ea3782f19a25830149eb173cfc5c049246   \n",
       "2      25055861b712f167ba58320e846a4aa70f811204   \n",
       "3      da39a3ee5e6b4b0d3255bfef95601890afd80709   \n",
       "4      da39a3ee5e6b4b0d3255bfef95601890afd80709   \n",
       "...                                         ...   \n",
       "10128  2e40049edd5106db3965286eb2446f3c14b46180   \n",
       "10129  7182afc4e5c212133d5d7d76eb3df6c24618302b   \n",
       "10130  7182afc4e5c212133d5d7d76eb3df6c24618302b   \n",
       "10131  7182afc4e5c212133d5d7d76eb3df6c24618302b   \n",
       "10132  b6ffe5619e02871fcd04f61c9bb4b5c53a3f46b7   \n",
       "\n",
       "                                         ssid_9  ...  \\\n",
       "0      da39a3ee5e6b4b0d3255bfef95601890afd80709  ...   \n",
       "1      25055861b712f167ba58320e846a4aa70f811204  ...   \n",
       "2      f2921f9fa47c704da162c06fc348a98e83464d71  ...   \n",
       "3      07b466ea3782f19a25830149eb173cfc5c049246  ...   \n",
       "4      f2921f9fa47c704da162c06fc348a98e83464d71  ...   \n",
       "...                                         ...  ...   \n",
       "10128  1e15285cc1ee6dd5a2700abfcd0c94d3783f41be  ...   \n",
       "10129  b6ffe5619e02871fcd04f61c9bb4b5c53a3f46b7  ...   \n",
       "10130  b6ffe5619e02871fcd04f61c9bb4b5c53a3f46b7  ...   \n",
       "10131  b9f0208be00bd8b337be7f12e02e3a3ce846e22b  ...   \n",
       "10132  b7e6027447eb1f81327d66cfd3adbe557aabf26c  ...   \n",
       "\n",
       "                           path                   site_id timediff  \\\n",
       "0      00ff0c9a71cc37a2ebdd0f05  5da1389e4db8ce0c98bd0547    -1170   \n",
       "1      00ff0c9a71cc37a2ebdd0f05  5da1389e4db8ce0c98bd0547     -876   \n",
       "2      00ff0c9a71cc37a2ebdd0f05  5da1389e4db8ce0c98bd0547       73   \n",
       "3      00ff0c9a71cc37a2ebdd0f05  5da1389e4db8ce0c98bd0547     -118   \n",
       "4      00ff0c9a71cc37a2ebdd0f05  5da1389e4db8ce0c98bd0547       75   \n",
       "...                         ...                       ...      ...   \n",
       "10128  ffcd9524c80c0fa5bb859eaf  5a0546857ecc773753327266      -83   \n",
       "10129  ffcd9524c80c0fa5bb859eaf  5a0546857ecc773753327266      244   \n",
       "10130  ffcd9524c80c0fa5bb859eaf  5a0546857ecc773753327266     -708   \n",
       "10131  ffcd9524c80c0fa5bb859eaf  5a0546857ecc773753327266      574   \n",
       "10132  ffcd9524c80c0fa5bb859eaf  5a0546857ecc773753327266     -399   \n",
       "\n",
       "                                     site_path_timestamp floor           x  \\\n",
       "0      5da1389e4db8ce0c98bd0547_00ff0c9a71cc37a2ebdd0...     3   70.264259   \n",
       "1      5da1389e4db8ce0c98bd0547_00ff0c9a71cc37a2ebdd0...     3   72.831993   \n",
       "2      5da1389e4db8ce0c98bd0547_00ff0c9a71cc37a2ebdd0...     3   70.682457   \n",
       "3      5da1389e4db8ce0c98bd0547_00ff0c9a71cc37a2ebdd0...     3   63.739193   \n",
       "4      5da1389e4db8ce0c98bd0547_00ff0c9a71cc37a2ebdd0...     3   68.372520   \n",
       "...                                                  ...   ...         ...   \n",
       "10128  5a0546857ecc773753327266_ffcd9524c80c0fa5bb859...    -1  134.895905   \n",
       "10129  5a0546857ecc773753327266_ffcd9524c80c0fa5bb859...    -1  130.851318   \n",
       "10130  5a0546857ecc773753327266_ffcd9524c80c0fa5bb859...    -1  131.646347   \n",
       "10131  5a0546857ecc773753327266_ffcd9524c80c0fa5bb859...    -1  130.932785   \n",
       "10132  5a0546857ecc773753327266_ffcd9524c80c0fa5bb859...    -1  129.176926   \n",
       "\n",
       "                y wifi_timestamp          _x          _y  \n",
       "0       85.552643  1573190311876   70.264259   85.552643  \n",
       "1       85.331207  1573190315620   72.190060   85.386566  \n",
       "2       85.916183  1573190323149   70.682457   85.916183  \n",
       "3       84.579300  1573190336356   63.739193   84.579300  \n",
       "4       83.259331  1573190347755   68.372520   83.259331  \n",
       "...           ...            ...         ...         ...  \n",
       "10128  180.629761  1578465350337  134.895905  180.629761  \n",
       "10129  182.521729  1578465356123  130.851318  182.521729  \n",
       "10130  184.297104  1578465367479  131.611781  184.219914  \n",
       "10131  180.655411  1578465375046  130.823044  180.210410  \n",
       "10132  173.535400  1578465382682  129.286667  173.980401  \n",
       "\n",
       "[10133 rows x 511 columns]"
      ],
      "text/html": "<div>\n<style scoped>\n    .dataframe tbody tr th:only-of-type {\n        vertical-align: middle;\n    }\n\n    .dataframe tbody tr th {\n        vertical-align: top;\n    }\n\n    .dataframe thead th {\n        text-align: right;\n    }\n</style>\n<table border=\"1\" class=\"dataframe\">\n  <thead>\n    <tr style=\"text-align: right;\">\n      <th></th>\n      <th>ssid_0</th>\n      <th>ssid_1</th>\n      <th>ssid_2</th>\n      <th>ssid_3</th>\n      <th>ssid_4</th>\n      <th>ssid_5</th>\n      <th>ssid_6</th>\n      <th>ssid_7</th>\n      <th>ssid_8</th>\n      <th>ssid_9</th>\n      <th>...</th>\n      <th>path</th>\n      <th>site_id</th>\n      <th>timediff</th>\n      <th>site_path_timestamp</th>\n      <th>floor</th>\n      <th>x</th>\n      <th>y</th>\n      <th>wifi_timestamp</th>\n      <th>_x</th>\n      <th>_y</th>\n    </tr>\n  </thead>\n  <tbody>\n    <tr>\n      <th>0</th>\n      <td>3c1e7602176e050694e3a5cf8ba5f6f725e3ec51</td>\n      <td>5c072340f8e500f7e62819ab82bb8998ecd0ef4e</td>\n      <td>a4e38996343460efde1140975529e97c9f9aa60b</td>\n      <td>d0af9d9c2709796ee07a0432de0e26298a64e3e8</td>\n      <td>a4e38996343460efde1140975529e97c9f9aa60b</td>\n      <td>da39a3ee5e6b4b0d3255bfef95601890afd80709</td>\n      <td>208255716aecce985d8f7a2bb8117b4dee2d53c5</td>\n      <td>da39a3ee5e6b4b0d3255bfef95601890afd80709</td>\n      <td>07b466ea3782f19a25830149eb173cfc5c049246</td>\n      <td>da39a3ee5e6b4b0d3255bfef95601890afd80709</td>\n      <td>...</td>\n      <td>00ff0c9a71cc37a2ebdd0f05</td>\n      <td>5da1389e4db8ce0c98bd0547</td>\n      <td>-1170</td>\n      <td>5da1389e4db8ce0c98bd0547_00ff0c9a71cc37a2ebdd0...</td>\n      <td>3</td>\n      <td>70.264259</td>\n      <td>85.552643</td>\n      <td>1573190311876</td>\n      <td>70.264259</td>\n      <td>85.552643</td>\n    </tr>\n    <tr>\n      <th>1</th>\n      <td>5c072340f8e500f7e62819ab82bb8998ecd0ef4e</td>\n      <td>d0af9d9c2709796ee07a0432de0e26298a64e3e8</td>\n      <td>3c1e7602176e050694e3a5cf8ba5f6f725e3ec51</td>\n      <td>da39a3ee5e6b4b0d3255bfef95601890afd80709</td>\n      <td>a4e38996343460efde1140975529e97c9f9aa60b</td>\n      <td>208255716aecce985d8f7a2bb8117b4dee2d53c5</td>\n      <td>a4e38996343460efde1140975529e97c9f9aa60b</td>\n      <td>da39a3ee5e6b4b0d3255bfef95601890afd80709</td>\n      <td>07b466ea3782f19a25830149eb173cfc5c049246</td>\n      <td>25055861b712f167ba58320e846a4aa70f811204</td>\n      <td>...</td>\n      <td>00ff0c9a71cc37a2ebdd0f05</td>\n      <td>5da1389e4db8ce0c98bd0547</td>\n      <td>-876</td>\n      <td>5da1389e4db8ce0c98bd0547_00ff0c9a71cc37a2ebdd0...</td>\n      <td>3</td>\n      <td>72.831993</td>\n      <td>85.331207</td>\n      <td>1573190315620</td>\n      <td>72.190060</td>\n      <td>85.386566</td>\n    </tr>\n    <tr>\n      <th>2</th>\n      <td>d0af9d9c2709796ee07a0432de0e26298a64e3e8</td>\n      <td>3c1e7602176e050694e3a5cf8ba5f6f725e3ec51</td>\n      <td>f2921f9fa47c704da162c06fc348a98e83464d71</td>\n      <td>5c072340f8e500f7e62819ab82bb8998ecd0ef4e</td>\n      <td>da39a3ee5e6b4b0d3255bfef95601890afd80709</td>\n      <td>a4e38996343460efde1140975529e97c9f9aa60b</td>\n      <td>a4e38996343460efde1140975529e97c9f9aa60b</td>\n      <td>208255716aecce985d8f7a2bb8117b4dee2d53c5</td>\n      <td>25055861b712f167ba58320e846a4aa70f811204</td>\n      <td>f2921f9fa47c704da162c06fc348a98e83464d71</td>\n      <td>...</td>\n      <td>00ff0c9a71cc37a2ebdd0f05</td>\n      <td>5da1389e4db8ce0c98bd0547</td>\n      <td>73</td>\n      <td>5da1389e4db8ce0c98bd0547_00ff0c9a71cc37a2ebdd0...</td>\n      <td>3</td>\n      <td>70.682457</td>\n      <td>85.916183</td>\n      <td>1573190323149</td>\n      <td>70.682457</td>\n      <td>85.916183</td>\n    </tr>\n    <tr>\n      <th>3</th>\n      <td>3c1e7602176e050694e3a5cf8ba5f6f725e3ec51</td>\n      <td>a4e38996343460efde1140975529e97c9f9aa60b</td>\n      <td>f2921f9fa47c704da162c06fc348a98e83464d71</td>\n      <td>da39a3ee5e6b4b0d3255bfef95601890afd80709</td>\n      <td>d0af9d9c2709796ee07a0432de0e26298a64e3e8</td>\n      <td>5c072340f8e500f7e62819ab82bb8998ecd0ef4e</td>\n      <td>a4e38996343460efde1140975529e97c9f9aa60b</td>\n      <td>208255716aecce985d8f7a2bb8117b4dee2d53c5</td>\n      <td>da39a3ee5e6b4b0d3255bfef95601890afd80709</td>\n      <td>07b466ea3782f19a25830149eb173cfc5c049246</td>\n      <td>...</td>\n      <td>00ff0c9a71cc37a2ebdd0f05</td>\n      <td>5da1389e4db8ce0c98bd0547</td>\n      <td>-118</td>\n      <td>5da1389e4db8ce0c98bd0547_00ff0c9a71cc37a2ebdd0...</td>\n      <td>3</td>\n      <td>63.739193</td>\n      <td>84.579300</td>\n      <td>1573190336356</td>\n      <td>63.739193</td>\n      <td>84.579300</td>\n    </tr>\n    <tr>\n      <th>4</th>\n      <td>3c1e7602176e050694e3a5cf8ba5f6f725e3ec51</td>\n      <td>d0af9d9c2709796ee07a0432de0e26298a64e3e8</td>\n      <td>5c072340f8e500f7e62819ab82bb8998ecd0ef4e</td>\n      <td>da39a3ee5e6b4b0d3255bfef95601890afd80709</td>\n      <td>208255716aecce985d8f7a2bb8117b4dee2d53c5</td>\n      <td>f2921f9fa47c704da162c06fc348a98e83464d71</td>\n      <td>a4e38996343460efde1140975529e97c9f9aa60b</td>\n      <td>a4e38996343460efde1140975529e97c9f9aa60b</td>\n      <td>da39a3ee5e6b4b0d3255bfef95601890afd80709</td>\n      <td>f2921f9fa47c704da162c06fc348a98e83464d71</td>\n      <td>...</td>\n      <td>00ff0c9a71cc37a2ebdd0f05</td>\n      <td>5da1389e4db8ce0c98bd0547</td>\n      <td>75</td>\n      <td>5da1389e4db8ce0c98bd0547_00ff0c9a71cc37a2ebdd0...</td>\n      <td>3</td>\n      <td>68.372520</td>\n      <td>83.259331</td>\n      <td>1573190347755</td>\n      <td>68.372520</td>\n      <td>83.259331</td>\n    </tr>\n    <tr>\n      <th>...</th>\n      <td>...</td>\n      <td>...</td>\n      <td>...</td>\n      <td>...</td>\n      <td>...</td>\n      <td>...</td>\n      <td>...</td>\n      <td>...</td>\n      <td>...</td>\n      <td>...</td>\n      <td>...</td>\n      <td>...</td>\n      <td>...</td>\n      <td>...</td>\n      <td>...</td>\n      <td>...</td>\n      <td>...</td>\n      <td>...</td>\n      <td>...</td>\n      <td>...</td>\n      <td>...</td>\n    </tr>\n    <tr>\n      <th>10128</th>\n      <td>45671173620a277ceda4ed5411413875dc4cddd0</td>\n      <td>45671173620a277ceda4ed5411413875dc4cddd0</td>\n      <td>94c9c12f67502bf93f4ced30194b269d9cec6f92</td>\n      <td>f0de7db5c2e4bf6c27f0f0b941a941cdc95ac6c5</td>\n      <td>f44fa6118fed7198296c8b45b2f2684903d99620</td>\n      <td>c3d209856c667232ef40c1ccb86cfde3a023920c</td>\n      <td>b7e6027447eb1f81327d66cfd3adbe557aabf26c</td>\n      <td>8ece1ee8e83b5c2be32750c273a7c0b5f04f72ac</td>\n      <td>2e40049edd5106db3965286eb2446f3c14b46180</td>\n      <td>1e15285cc1ee6dd5a2700abfcd0c94d3783f41be</td>\n      <td>...</td>\n      <td>ffcd9524c80c0fa5bb859eaf</td>\n      <td>5a0546857ecc773753327266</td>\n      <td>-83</td>\n      <td>5a0546857ecc773753327266_ffcd9524c80c0fa5bb859...</td>\n      <td>-1</td>\n      <td>134.895905</td>\n      <td>180.629761</td>\n      <td>1578465350337</td>\n      <td>134.895905</td>\n      <td>180.629761</td>\n    </tr>\n    <tr>\n      <th>10129</th>\n      <td>45671173620a277ceda4ed5411413875dc4cddd0</td>\n      <td>45671173620a277ceda4ed5411413875dc4cddd0</td>\n      <td>94c9c12f67502bf93f4ced30194b269d9cec6f92</td>\n      <td>b7e6027447eb1f81327d66cfd3adbe557aabf26c</td>\n      <td>d839a45ebe64ab48b60a407d837fb01d3c0dfef9</td>\n      <td>b9f0208be00bd8b337be7f12e02e3a3ce846e22b</td>\n      <td>193453b4b2ad6268a8c6e40c0064fbf1310a6460</td>\n      <td>8ece1ee8e83b5c2be32750c273a7c0b5f04f72ac</td>\n      <td>7182afc4e5c212133d5d7d76eb3df6c24618302b</td>\n      <td>b6ffe5619e02871fcd04f61c9bb4b5c53a3f46b7</td>\n      <td>...</td>\n      <td>ffcd9524c80c0fa5bb859eaf</td>\n      <td>5a0546857ecc773753327266</td>\n      <td>244</td>\n      <td>5a0546857ecc773753327266_ffcd9524c80c0fa5bb859...</td>\n      <td>-1</td>\n      <td>130.851318</td>\n      <td>182.521729</td>\n      <td>1578465356123</td>\n      <td>130.851318</td>\n      <td>182.521729</td>\n    </tr>\n    <tr>\n      <th>10130</th>\n      <td>45671173620a277ceda4ed5411413875dc4cddd0</td>\n      <td>45671173620a277ceda4ed5411413875dc4cddd0</td>\n      <td>193453b4b2ad6268a8c6e40c0064fbf1310a6460</td>\n      <td>d78e0816ec0328992fc6025f61304812cf54febf</td>\n      <td>6ad1c6bb0aeaa218fa705f0f8dc901c973396a9e</td>\n      <td>94c9c12f67502bf93f4ced30194b269d9cec6f92</td>\n      <td>f0de7db5c2e4bf6c27f0f0b941a941cdc95ac6c5</td>\n      <td>8ece1ee8e83b5c2be32750c273a7c0b5f04f72ac</td>\n      <td>7182afc4e5c212133d5d7d76eb3df6c24618302b</td>\n      <td>b6ffe5619e02871fcd04f61c9bb4b5c53a3f46b7</td>\n      <td>...</td>\n      <td>ffcd9524c80c0fa5bb859eaf</td>\n      <td>5a0546857ecc773753327266</td>\n      <td>-708</td>\n      <td>5a0546857ecc773753327266_ffcd9524c80c0fa5bb859...</td>\n      <td>-1</td>\n      <td>131.646347</td>\n      <td>184.297104</td>\n      <td>1578465367479</td>\n      <td>131.611781</td>\n      <td>184.219914</td>\n    </tr>\n    <tr>\n      <th>10131</th>\n      <td>45671173620a277ceda4ed5411413875dc4cddd0</td>\n      <td>94c9c12f67502bf93f4ced30194b269d9cec6f92</td>\n      <td>45671173620a277ceda4ed5411413875dc4cddd0</td>\n      <td>6ad1c6bb0aeaa218fa705f0f8dc901c973396a9e</td>\n      <td>d78e0816ec0328992fc6025f61304812cf54febf</td>\n      <td>f0de7db5c2e4bf6c27f0f0b941a941cdc95ac6c5</td>\n      <td>2e40049edd5106db3965286eb2446f3c14b46180</td>\n      <td>b7e6027447eb1f81327d66cfd3adbe557aabf26c</td>\n      <td>7182afc4e5c212133d5d7d76eb3df6c24618302b</td>\n      <td>b9f0208be00bd8b337be7f12e02e3a3ce846e22b</td>\n      <td>...</td>\n      <td>ffcd9524c80c0fa5bb859eaf</td>\n      <td>5a0546857ecc773753327266</td>\n      <td>574</td>\n      <td>5a0546857ecc773753327266_ffcd9524c80c0fa5bb859...</td>\n      <td>-1</td>\n      <td>130.932785</td>\n      <td>180.655411</td>\n      <td>1578465375046</td>\n      <td>130.823044</td>\n      <td>180.210410</td>\n    </tr>\n    <tr>\n      <th>10132</th>\n      <td>45671173620a277ceda4ed5411413875dc4cddd0</td>\n      <td>7182afc4e5c212133d5d7d76eb3df6c24618302b</td>\n      <td>b9f0208be00bd8b337be7f12e02e3a3ce846e22b</td>\n      <td>b7e6027447eb1f81327d66cfd3adbe557aabf26c</td>\n      <td>d839a45ebe64ab48b60a407d837fb01d3c0dfef9</td>\n      <td>b6ffe5619e02871fcd04f61c9bb4b5c53a3f46b7</td>\n      <td>da39a3ee5e6b4b0d3255bfef95601890afd80709</td>\n      <td>45671173620a277ceda4ed5411413875dc4cddd0</td>\n      <td>b6ffe5619e02871fcd04f61c9bb4b5c53a3f46b7</td>\n      <td>b7e6027447eb1f81327d66cfd3adbe557aabf26c</td>\n      <td>...</td>\n      <td>ffcd9524c80c0fa5bb859eaf</td>\n      <td>5a0546857ecc773753327266</td>\n      <td>-399</td>\n      <td>5a0546857ecc773753327266_ffcd9524c80c0fa5bb859...</td>\n      <td>-1</td>\n      <td>129.176926</td>\n      <td>173.535400</td>\n      <td>1578465382682</td>\n      <td>129.286667</td>\n      <td>173.980401</td>\n    </tr>\n  </tbody>\n</table>\n<p>10133 rows × 511 columns</p>\n</div>"
     },
     "metadata": {},
     "execution_count": 29
    }
   ],
   "source": [
    "# 線形補完でwaypointを修正\n",
    "waypoint_dfs = []\n",
    "for path,df in test_df.groupby('path'):  #15\n",
    "    tmp_waypoint = wifi_waypoint_by_linear_interpolation(\n",
    "        observed_timestamp=df['wifi_timestamp'].astype(int).values, \n",
    "        observed_x=df['x'].values,\n",
    "        observed_y=df['y'].values, \n",
    "        target_timestamp=df['timestamp'].astype(int).values\n",
    "        )\n",
    "    df['_x'] = tmp_waypoint[:,0]\n",
    "    df['_y'] = tmp_waypoint[:,1]\n",
    "    waypoint_dfs.append(df)\n",
    "\n",
    "waypoint_df = pd.concat(waypoint_dfs).reset_index(drop=True)\n",
    "waypoint_df"
   ]
  },
  {
   "cell_type": "code",
   "execution_count": 30,
   "metadata": {},
   "outputs": [
    {
     "output_type": "execute_result",
     "data": {
      "text/plain": [
       "<matplotlib.legend.Legend at 0x7fb5321e9d30>"
      ]
     },
     "metadata": {},
     "execution_count": 30
    },
    {
     "output_type": "display_data",
     "data": {
      "text/plain": "<Figure size 432x288 with 1 Axes>",
      "image/svg+xml": "<?xml version=\"1.0\" encoding=\"utf-8\" standalone=\"no\"?>\n<!DOCTYPE svg PUBLIC \"-//W3C//DTD SVG 1.1//EN\"\n  \"http://www.w3.org/Graphics/SVG/1.1/DTD/svg11.dtd\">\n<!-- Created with matplotlib (https://matplotlib.org/) -->\n<svg height=\"248.518125pt\" version=\"1.1\" viewBox=\"0 0 381.65 248.518125\" width=\"381.65pt\" xmlns=\"http://www.w3.org/2000/svg\" xmlns:xlink=\"http://www.w3.org/1999/xlink\">\n <metadata>\n  <rdf:RDF xmlns:cc=\"http://creativecommons.org/ns#\" xmlns:dc=\"http://purl.org/dc/elements/1.1/\" xmlns:rdf=\"http://www.w3.org/1999/02/22-rdf-syntax-ns#\">\n   <cc:Work>\n    <dc:type rdf:resource=\"http://purl.org/dc/dcmitype/StillImage\"/>\n    <dc:date>2021-04-25T21:49:07.011652</dc:date>\n    <dc:format>image/svg+xml</dc:format>\n    <dc:creator>\n     <cc:Agent>\n      <dc:title>Matplotlib v3.3.3, https://matplotlib.org/</dc:title>\n     </cc:Agent>\n    </dc:creator>\n   </cc:Work>\n  </rdf:RDF>\n </metadata>\n <defs>\n  <style type=\"text/css\">*{stroke-linecap:butt;stroke-linejoin:round;}</style>\n </defs>\n <g id=\"figure_1\">\n  <g id=\"patch_1\">\n   <path d=\"M -0 248.518125 \nL 381.65 248.518125 \nL 381.65 0 \nL -0 0 \nz\n\" style=\"fill:none;\"/>\n  </g>\n  <g id=\"axes_1\">\n   <g id=\"patch_2\">\n    <path d=\"M 39.65 224.64 \nL 374.45 224.64 \nL 374.45 7.2 \nL 39.65 7.2 \nz\n\" style=\"fill:#ffffff;\"/>\n   </g>\n   <g id=\"patch_3\">\n    <path clip-path=\"url(#p0131d47cd9)\" d=\"M 118.821221 224.64 \nL 142.86228 224.64 \nL 142.86228 224.406243 \nL 118.821221 224.406243 \nz\n\" style=\"fill:#1f77b4;\"/>\n   </g>\n   <g id=\"patch_4\">\n    <path clip-path=\"url(#p0131d47cd9)\" d=\"M 142.86228 224.64 \nL 166.90334 224.64 \nL 166.90334 223.8686 \nL 142.86228 223.8686 \nz\n\" style=\"fill:#1f77b4;\"/>\n   </g>\n   <g id=\"patch_5\">\n    <path clip-path=\"url(#p0131d47cd9)\" d=\"M 166.90334 224.64 \nL 190.9444 224.64 \nL 190.9444 209.960033 \nL 166.90334 209.960033 \nz\n\" style=\"fill:#1f77b4;\"/>\n   </g>\n   <g id=\"patch_6\">\n    <path clip-path=\"url(#p0131d47cd9)\" d=\"M 190.9444 224.64 \nL 214.98546 224.64 \nL 214.98546 17.554286 \nL 190.9444 17.554286 \nz\n\" style=\"fill:#1f77b4;\"/>\n   </g>\n   <g id=\"patch_7\">\n    <path clip-path=\"url(#p0131d47cd9)\" d=\"M 214.98546 224.64 \nL 239.026519 224.64 \nL 239.026519 211.596335 \nL 214.98546 211.596335 \nz\n\" style=\"fill:#1f77b4;\"/>\n   </g>\n   <g id=\"patch_8\">\n    <path clip-path=\"url(#p0131d47cd9)\" d=\"M 239.026519 224.64 \nL 263.067579 224.64 \nL 263.067579 223.845225 \nL 239.026519 223.845225 \nz\n\" style=\"fill:#1f77b4;\"/>\n   </g>\n   <g id=\"patch_9\">\n    <path clip-path=\"url(#p0131d47cd9)\" d=\"M 263.067579 224.64 \nL 287.108639 224.64 \nL 287.108639 224.452994 \nL 263.067579 224.452994 \nz\n\" style=\"fill:#1f77b4;\"/>\n   </g>\n   <g id=\"patch_10\">\n    <path clip-path=\"url(#p0131d47cd9)\" d=\"M 287.108639 224.64 \nL 311.149699 224.64 \nL 311.149699 224.616624 \nL 287.108639 224.616624 \nz\n\" style=\"fill:#1f77b4;\"/>\n   </g>\n   <g id=\"patch_11\">\n    <path clip-path=\"url(#p0131d47cd9)\" d=\"M 311.149699 224.64 \nL 335.190758 224.64 \nL 335.190758 224.616624 \nL 311.149699 224.616624 \nz\n\" style=\"fill:#1f77b4;\"/>\n   </g>\n   <g id=\"patch_12\">\n    <path clip-path=\"url(#p0131d47cd9)\" d=\"M 335.190758 224.64 \nL 359.231818 224.64 \nL 359.231818 224.616624 \nL 335.190758 224.616624 \nz\n\" style=\"fill:#1f77b4;\"/>\n   </g>\n   <g id=\"patch_13\">\n    <path clip-path=\"url(#p0131d47cd9)\" d=\"M 54.868182 224.64 \nL 83.099991 224.64 \nL 83.099991 224.616624 \nL 54.868182 224.616624 \nz\n\" style=\"fill:#ff7f0e;\"/>\n   </g>\n   <g id=\"patch_14\">\n    <path clip-path=\"url(#p0131d47cd9)\" d=\"M 83.099991 224.64 \nL 111.331801 224.64 \nL 111.331801 224.616624 \nL 83.099991 224.616624 \nz\n\" style=\"fill:#ff7f0e;\"/>\n   </g>\n   <g id=\"patch_15\">\n    <path clip-path=\"url(#p0131d47cd9)\" d=\"M 111.331801 224.64 \nL 139.563611 224.64 \nL 139.563611 224.546497 \nL 111.331801 224.546497 \nz\n\" style=\"fill:#ff7f0e;\"/>\n   </g>\n   <g id=\"patch_16\">\n    <path clip-path=\"url(#p0131d47cd9)\" d=\"M 139.563611 224.64 \nL 167.79542 224.64 \nL 167.79542 223.517964 \nL 139.563611 223.517964 \nz\n\" style=\"fill:#ff7f0e;\"/>\n   </g>\n   <g id=\"patch_17\">\n    <path clip-path=\"url(#p0131d47cd9)\" d=\"M 167.79542 224.64 \nL 196.02723 224.64 \nL 196.02723 194.765799 \nL 167.79542 194.765799 \nz\n\" style=\"fill:#ff7f0e;\"/>\n   </g>\n   <g id=\"patch_18\">\n    <path clip-path=\"url(#p0131d47cd9)\" d=\"M 196.02723 224.64 \nL 224.25904 224.64 \nL 224.25904 23.117713 \nL 196.02723 23.117713 \nz\n\" style=\"fill:#ff7f0e;\"/>\n   </g>\n   <g id=\"patch_19\">\n    <path clip-path=\"url(#p0131d47cd9)\" d=\"M 224.25904 224.64 \nL 252.490849 224.64 \nL 252.490849 220.689499 \nL 224.25904 220.689499 \nz\n\" style=\"fill:#ff7f0e;\"/>\n   </g>\n   <g id=\"patch_20\">\n    <path clip-path=\"url(#p0131d47cd9)\" d=\"M 252.490849 224.64 \nL 280.722659 224.64 \nL 280.722659 224.47637 \nL 252.490849 224.47637 \nz\n\" style=\"fill:#ff7f0e;\"/>\n   </g>\n   <g id=\"patch_21\">\n    <path clip-path=\"url(#p0131d47cd9)\" d=\"M 280.722659 224.64 \nL 308.954469 224.64 \nL 308.954469 224.569873 \nL 280.722659 224.569873 \nz\n\" style=\"fill:#ff7f0e;\"/>\n   </g>\n   <g id=\"patch_22\">\n    <path clip-path=\"url(#p0131d47cd9)\" d=\"M 308.954469 224.64 \nL 337.186278 224.64 \nL 337.186278 224.616624 \nL 308.954469 224.616624 \nz\n\" style=\"fill:#ff7f0e;\"/>\n   </g>\n   <g id=\"matplotlib.axis_1\">\n    <g id=\"xtick_1\">\n     <g id=\"line2d_1\">\n      <path clip-path=\"url(#p0131d47cd9)\" d=\"M 61.047469 224.64 \nL 61.047469 7.2 \n\" style=\"fill:none;stroke:#b0b0b0;stroke-linecap:square;stroke-width:0.8;\"/>\n     </g>\n     <g id=\"line2d_2\">\n      <defs>\n       <path d=\"M 0 0 \nL 0 3.5 \n\" id=\"md2f1eec85b\" style=\"stroke:#000000;stroke-width:0.8;\"/>\n      </defs>\n      <g>\n       <use style=\"stroke:#000000;stroke-width:0.8;\" x=\"61.047469\" xlink:href=\"#md2f1eec85b\" y=\"224.64\"/>\n      </g>\n     </g>\n     <g id=\"text_1\">\n      <!-- −6 -->\n      <g transform=\"translate(53.676376 239.238437)scale(0.1 -0.1)\">\n       <defs>\n        <path d=\"M 10.59375 35.5 \nL 73.1875 35.5 \nL 73.1875 27.203125 \nL 10.59375 27.203125 \nz\n\" id=\"DejaVuSans-8722\"/>\n        <path d=\"M 33.015625 40.375 \nQ 26.375 40.375 22.484375 35.828125 \nQ 18.609375 31.296875 18.609375 23.390625 \nQ 18.609375 15.53125 22.484375 10.953125 \nQ 26.375 6.390625 33.015625 6.390625 \nQ 39.65625 6.390625 43.53125 10.953125 \nQ 47.40625 15.53125 47.40625 23.390625 \nQ 47.40625 31.296875 43.53125 35.828125 \nQ 39.65625 40.375 33.015625 40.375 \nz\nM 52.59375 71.296875 \nL 52.59375 62.3125 \nQ 48.875 64.0625 45.09375 64.984375 \nQ 41.3125 65.921875 37.59375 65.921875 \nQ 27.828125 65.921875 22.671875 59.328125 \nQ 17.53125 52.734375 16.796875 39.40625 \nQ 19.671875 43.65625 24.015625 45.921875 \nQ 28.375 48.1875 33.59375 48.1875 \nQ 44.578125 48.1875 50.953125 41.515625 \nQ 57.328125 34.859375 57.328125 23.390625 \nQ 57.328125 12.15625 50.6875 5.359375 \nQ 44.046875 -1.421875 33.015625 -1.421875 \nQ 20.359375 -1.421875 13.671875 8.265625 \nQ 6.984375 17.96875 6.984375 36.375 \nQ 6.984375 53.65625 15.1875 63.9375 \nQ 23.390625 74.21875 37.203125 74.21875 \nQ 40.921875 74.21875 44.703125 73.484375 \nQ 48.484375 72.75 52.59375 71.296875 \nz\n\" id=\"DejaVuSans-54\"/>\n       </defs>\n       <use xlink:href=\"#DejaVuSans-8722\"/>\n       <use x=\"83.789062\" xlink:href=\"#DejaVuSans-54\"/>\n      </g>\n     </g>\n    </g>\n    <g id=\"xtick_2\">\n     <g id=\"line2d_3\">\n      <path clip-path=\"url(#p0131d47cd9)\" d=\"M 108.174578 224.64 \nL 108.174578 7.2 \n\" style=\"fill:none;stroke:#b0b0b0;stroke-linecap:square;stroke-width:0.8;\"/>\n     </g>\n     <g id=\"line2d_4\">\n      <g>\n       <use style=\"stroke:#000000;stroke-width:0.8;\" x=\"108.174578\" xlink:href=\"#md2f1eec85b\" y=\"224.64\"/>\n      </g>\n     </g>\n     <g id=\"text_2\">\n      <!-- −4 -->\n      <g transform=\"translate(100.803484 239.238437)scale(0.1 -0.1)\">\n       <defs>\n        <path d=\"M 37.796875 64.3125 \nL 12.890625 25.390625 \nL 37.796875 25.390625 \nz\nM 35.203125 72.90625 \nL 47.609375 72.90625 \nL 47.609375 25.390625 \nL 58.015625 25.390625 \nL 58.015625 17.1875 \nL 47.609375 17.1875 \nL 47.609375 0 \nL 37.796875 0 \nL 37.796875 17.1875 \nL 4.890625 17.1875 \nL 4.890625 26.703125 \nz\n\" id=\"DejaVuSans-52\"/>\n       </defs>\n       <use xlink:href=\"#DejaVuSans-8722\"/>\n       <use x=\"83.789062\" xlink:href=\"#DejaVuSans-52\"/>\n      </g>\n     </g>\n    </g>\n    <g id=\"xtick_3\">\n     <g id=\"line2d_5\">\n      <path clip-path=\"url(#p0131d47cd9)\" d=\"M 155.301686 224.64 \nL 155.301686 7.2 \n\" style=\"fill:none;stroke:#b0b0b0;stroke-linecap:square;stroke-width:0.8;\"/>\n     </g>\n     <g id=\"line2d_6\">\n      <g>\n       <use style=\"stroke:#000000;stroke-width:0.8;\" x=\"155.301686\" xlink:href=\"#md2f1eec85b\" y=\"224.64\"/>\n      </g>\n     </g>\n     <g id=\"text_3\">\n      <!-- −2 -->\n      <g transform=\"translate(147.930593 239.238437)scale(0.1 -0.1)\">\n       <defs>\n        <path d=\"M 19.1875 8.296875 \nL 53.609375 8.296875 \nL 53.609375 0 \nL 7.328125 0 \nL 7.328125 8.296875 \nQ 12.9375 14.109375 22.625 23.890625 \nQ 32.328125 33.6875 34.8125 36.53125 \nQ 39.546875 41.84375 41.421875 45.53125 \nQ 43.3125 49.21875 43.3125 52.78125 \nQ 43.3125 58.59375 39.234375 62.25 \nQ 35.15625 65.921875 28.609375 65.921875 \nQ 23.96875 65.921875 18.8125 64.3125 \nQ 13.671875 62.703125 7.8125 59.421875 \nL 7.8125 69.390625 \nQ 13.765625 71.78125 18.9375 73 \nQ 24.125 74.21875 28.421875 74.21875 \nQ 39.75 74.21875 46.484375 68.546875 \nQ 53.21875 62.890625 53.21875 53.421875 \nQ 53.21875 48.921875 51.53125 44.890625 \nQ 49.859375 40.875 45.40625 35.40625 \nQ 44.1875 33.984375 37.640625 27.21875 \nQ 31.109375 20.453125 19.1875 8.296875 \nz\n\" id=\"DejaVuSans-50\"/>\n       </defs>\n       <use xlink:href=\"#DejaVuSans-8722\"/>\n       <use x=\"83.789062\" xlink:href=\"#DejaVuSans-50\"/>\n      </g>\n     </g>\n    </g>\n    <g id=\"xtick_4\">\n     <g id=\"line2d_7\">\n      <path clip-path=\"url(#p0131d47cd9)\" d=\"M 202.428795 224.64 \nL 202.428795 7.2 \n\" style=\"fill:none;stroke:#b0b0b0;stroke-linecap:square;stroke-width:0.8;\"/>\n     </g>\n     <g id=\"line2d_8\">\n      <g>\n       <use style=\"stroke:#000000;stroke-width:0.8;\" x=\"202.428795\" xlink:href=\"#md2f1eec85b\" y=\"224.64\"/>\n      </g>\n     </g>\n     <g id=\"text_4\">\n      <!-- 0 -->\n      <g transform=\"translate(199.247545 239.238437)scale(0.1 -0.1)\">\n       <defs>\n        <path d=\"M 31.78125 66.40625 \nQ 24.171875 66.40625 20.328125 58.90625 \nQ 16.5 51.421875 16.5 36.375 \nQ 16.5 21.390625 20.328125 13.890625 \nQ 24.171875 6.390625 31.78125 6.390625 \nQ 39.453125 6.390625 43.28125 13.890625 \nQ 47.125 21.390625 47.125 36.375 \nQ 47.125 51.421875 43.28125 58.90625 \nQ 39.453125 66.40625 31.78125 66.40625 \nz\nM 31.78125 74.21875 \nQ 44.046875 74.21875 50.515625 64.515625 \nQ 56.984375 54.828125 56.984375 36.375 \nQ 56.984375 17.96875 50.515625 8.265625 \nQ 44.046875 -1.421875 31.78125 -1.421875 \nQ 19.53125 -1.421875 13.0625 8.265625 \nQ 6.59375 17.96875 6.59375 36.375 \nQ 6.59375 54.828125 13.0625 64.515625 \nQ 19.53125 74.21875 31.78125 74.21875 \nz\n\" id=\"DejaVuSans-48\"/>\n       </defs>\n       <use xlink:href=\"#DejaVuSans-48\"/>\n      </g>\n     </g>\n    </g>\n    <g id=\"xtick_5\">\n     <g id=\"line2d_9\">\n      <path clip-path=\"url(#p0131d47cd9)\" d=\"M 249.555903 224.64 \nL 249.555903 7.2 \n\" style=\"fill:none;stroke:#b0b0b0;stroke-linecap:square;stroke-width:0.8;\"/>\n     </g>\n     <g id=\"line2d_10\">\n      <g>\n       <use style=\"stroke:#000000;stroke-width:0.8;\" x=\"249.555903\" xlink:href=\"#md2f1eec85b\" y=\"224.64\"/>\n      </g>\n     </g>\n     <g id=\"text_5\">\n      <!-- 2 -->\n      <g transform=\"translate(246.374653 239.238437)scale(0.1 -0.1)\">\n       <use xlink:href=\"#DejaVuSans-50\"/>\n      </g>\n     </g>\n    </g>\n    <g id=\"xtick_6\">\n     <g id=\"line2d_11\">\n      <path clip-path=\"url(#p0131d47cd9)\" d=\"M 296.683012 224.64 \nL 296.683012 7.2 \n\" style=\"fill:none;stroke:#b0b0b0;stroke-linecap:square;stroke-width:0.8;\"/>\n     </g>\n     <g id=\"line2d_12\">\n      <g>\n       <use style=\"stroke:#000000;stroke-width:0.8;\" x=\"296.683012\" xlink:href=\"#md2f1eec85b\" y=\"224.64\"/>\n      </g>\n     </g>\n     <g id=\"text_6\">\n      <!-- 4 -->\n      <g transform=\"translate(293.501762 239.238437)scale(0.1 -0.1)\">\n       <use xlink:href=\"#DejaVuSans-52\"/>\n      </g>\n     </g>\n    </g>\n    <g id=\"xtick_7\">\n     <g id=\"line2d_13\">\n      <path clip-path=\"url(#p0131d47cd9)\" d=\"M 343.81012 224.64 \nL 343.81012 7.2 \n\" style=\"fill:none;stroke:#b0b0b0;stroke-linecap:square;stroke-width:0.8;\"/>\n     </g>\n     <g id=\"line2d_14\">\n      <g>\n       <use style=\"stroke:#000000;stroke-width:0.8;\" x=\"343.81012\" xlink:href=\"#md2f1eec85b\" y=\"224.64\"/>\n      </g>\n     </g>\n     <g id=\"text_7\">\n      <!-- 6 -->\n      <g transform=\"translate(340.62887 239.238437)scale(0.1 -0.1)\">\n       <use xlink:href=\"#DejaVuSans-54\"/>\n      </g>\n     </g>\n    </g>\n   </g>\n   <g id=\"matplotlib.axis_2\">\n    <g id=\"ytick_1\">\n     <g id=\"line2d_15\">\n      <path clip-path=\"url(#p0131d47cd9)\" d=\"M 39.65 224.64 \nL 374.45 224.64 \n\" style=\"fill:none;stroke:#b0b0b0;stroke-linecap:square;stroke-width:0.8;\"/>\n     </g>\n     <g id=\"line2d_16\">\n      <defs>\n       <path d=\"M 0 0 \nL -3.5 0 \n\" id=\"m427d6fcd86\" style=\"stroke:#000000;stroke-width:0.8;\"/>\n      </defs>\n      <g>\n       <use style=\"stroke:#000000;stroke-width:0.8;\" x=\"39.65\" xlink:href=\"#m427d6fcd86\" y=\"224.64\"/>\n      </g>\n     </g>\n     <g id=\"text_8\">\n      <!-- 0 -->\n      <g transform=\"translate(26.2875 228.439219)scale(0.1 -0.1)\">\n       <use xlink:href=\"#DejaVuSans-48\"/>\n      </g>\n     </g>\n    </g>\n    <g id=\"ytick_2\">\n     <g id=\"line2d_17\">\n      <path clip-path=\"url(#p0131d47cd9)\" d=\"M 39.65 177.888512 \nL 374.45 177.888512 \n\" style=\"fill:none;stroke:#b0b0b0;stroke-linecap:square;stroke-width:0.8;\"/>\n     </g>\n     <g id=\"line2d_18\">\n      <g>\n       <use style=\"stroke:#000000;stroke-width:0.8;\" x=\"39.65\" xlink:href=\"#m427d6fcd86\" y=\"177.888512\"/>\n      </g>\n     </g>\n     <g id=\"text_9\">\n      <!-- 2000 -->\n      <g transform=\"translate(7.2 181.687731)scale(0.1 -0.1)\">\n       <use xlink:href=\"#DejaVuSans-50\"/>\n       <use x=\"63.623047\" xlink:href=\"#DejaVuSans-48\"/>\n       <use x=\"127.246094\" xlink:href=\"#DejaVuSans-48\"/>\n       <use x=\"190.869141\" xlink:href=\"#DejaVuSans-48\"/>\n      </g>\n     </g>\n    </g>\n    <g id=\"ytick_3\">\n     <g id=\"line2d_19\">\n      <path clip-path=\"url(#p0131d47cd9)\" d=\"M 39.65 131.137025 \nL 374.45 131.137025 \n\" style=\"fill:none;stroke:#b0b0b0;stroke-linecap:square;stroke-width:0.8;\"/>\n     </g>\n     <g id=\"line2d_20\">\n      <g>\n       <use style=\"stroke:#000000;stroke-width:0.8;\" x=\"39.65\" xlink:href=\"#m427d6fcd86\" y=\"131.137025\"/>\n      </g>\n     </g>\n     <g id=\"text_10\">\n      <!-- 4000 -->\n      <g transform=\"translate(7.2 134.936244)scale(0.1 -0.1)\">\n       <use xlink:href=\"#DejaVuSans-52\"/>\n       <use x=\"63.623047\" xlink:href=\"#DejaVuSans-48\"/>\n       <use x=\"127.246094\" xlink:href=\"#DejaVuSans-48\"/>\n       <use x=\"190.869141\" xlink:href=\"#DejaVuSans-48\"/>\n      </g>\n     </g>\n    </g>\n    <g id=\"ytick_4\">\n     <g id=\"line2d_21\">\n      <path clip-path=\"url(#p0131d47cd9)\" d=\"M 39.65 84.385537 \nL 374.45 84.385537 \n\" style=\"fill:none;stroke:#b0b0b0;stroke-linecap:square;stroke-width:0.8;\"/>\n     </g>\n     <g id=\"line2d_22\">\n      <g>\n       <use style=\"stroke:#000000;stroke-width:0.8;\" x=\"39.65\" xlink:href=\"#m427d6fcd86\" y=\"84.385537\"/>\n      </g>\n     </g>\n     <g id=\"text_11\">\n      <!-- 6000 -->\n      <g transform=\"translate(7.2 88.184756)scale(0.1 -0.1)\">\n       <use xlink:href=\"#DejaVuSans-54\"/>\n       <use x=\"63.623047\" xlink:href=\"#DejaVuSans-48\"/>\n       <use x=\"127.246094\" xlink:href=\"#DejaVuSans-48\"/>\n       <use x=\"190.869141\" xlink:href=\"#DejaVuSans-48\"/>\n      </g>\n     </g>\n    </g>\n    <g id=\"ytick_5\">\n     <g id=\"line2d_23\">\n      <path clip-path=\"url(#p0131d47cd9)\" d=\"M 39.65 37.63405 \nL 374.45 37.63405 \n\" style=\"fill:none;stroke:#b0b0b0;stroke-linecap:square;stroke-width:0.8;\"/>\n     </g>\n     <g id=\"line2d_24\">\n      <g>\n       <use style=\"stroke:#000000;stroke-width:0.8;\" x=\"39.65\" xlink:href=\"#m427d6fcd86\" y=\"37.63405\"/>\n      </g>\n     </g>\n     <g id=\"text_12\">\n      <!-- 8000 -->\n      <g transform=\"translate(7.2 41.433268)scale(0.1 -0.1)\">\n       <defs>\n        <path d=\"M 31.78125 34.625 \nQ 24.75 34.625 20.71875 30.859375 \nQ 16.703125 27.09375 16.703125 20.515625 \nQ 16.703125 13.921875 20.71875 10.15625 \nQ 24.75 6.390625 31.78125 6.390625 \nQ 38.8125 6.390625 42.859375 10.171875 \nQ 46.921875 13.96875 46.921875 20.515625 \nQ 46.921875 27.09375 42.890625 30.859375 \nQ 38.875 34.625 31.78125 34.625 \nz\nM 21.921875 38.8125 \nQ 15.578125 40.375 12.03125 44.71875 \nQ 8.5 49.078125 8.5 55.328125 \nQ 8.5 64.0625 14.71875 69.140625 \nQ 20.953125 74.21875 31.78125 74.21875 \nQ 42.671875 74.21875 48.875 69.140625 \nQ 55.078125 64.0625 55.078125 55.328125 \nQ 55.078125 49.078125 51.53125 44.71875 \nQ 48 40.375 41.703125 38.8125 \nQ 48.828125 37.15625 52.796875 32.3125 \nQ 56.78125 27.484375 56.78125 20.515625 \nQ 56.78125 9.90625 50.3125 4.234375 \nQ 43.84375 -1.421875 31.78125 -1.421875 \nQ 19.734375 -1.421875 13.25 4.234375 \nQ 6.78125 9.90625 6.78125 20.515625 \nQ 6.78125 27.484375 10.78125 32.3125 \nQ 14.796875 37.15625 21.921875 38.8125 \nz\nM 18.3125 54.390625 \nQ 18.3125 48.734375 21.84375 45.5625 \nQ 25.390625 42.390625 31.78125 42.390625 \nQ 38.140625 42.390625 41.71875 45.5625 \nQ 45.3125 48.734375 45.3125 54.390625 \nQ 45.3125 60.0625 41.71875 63.234375 \nQ 38.140625 66.40625 31.78125 66.40625 \nQ 25.390625 66.40625 21.84375 63.234375 \nQ 18.3125 60.0625 18.3125 54.390625 \nz\n\" id=\"DejaVuSans-56\"/>\n       </defs>\n       <use xlink:href=\"#DejaVuSans-56\"/>\n       <use x=\"63.623047\" xlink:href=\"#DejaVuSans-48\"/>\n       <use x=\"127.246094\" xlink:href=\"#DejaVuSans-48\"/>\n       <use x=\"190.869141\" xlink:href=\"#DejaVuSans-48\"/>\n      </g>\n     </g>\n    </g>\n   </g>\n   <g id=\"patch_23\">\n    <path d=\"M 39.65 224.64 \nL 39.65 7.2 \n\" style=\"fill:none;stroke:#000000;stroke-linecap:square;stroke-linejoin:miter;stroke-width:0.8;\"/>\n   </g>\n   <g id=\"patch_24\">\n    <path d=\"M 374.45 224.64 \nL 374.45 7.2 \n\" style=\"fill:none;stroke:#000000;stroke-linecap:square;stroke-linejoin:miter;stroke-width:0.8;\"/>\n   </g>\n   <g id=\"patch_25\">\n    <path d=\"M 39.65 224.64 \nL 374.45 224.64 \n\" style=\"fill:none;stroke:#000000;stroke-linecap:square;stroke-linejoin:miter;stroke-width:0.8;\"/>\n   </g>\n   <g id=\"patch_26\">\n    <path d=\"M 39.65 7.2 \nL 374.45 7.2 \n\" style=\"fill:none;stroke:#000000;stroke-linecap:square;stroke-linejoin:miter;stroke-width:0.8;\"/>\n   </g>\n   <g id=\"legend_1\">\n    <g id=\"patch_27\">\n     <path d=\"M 329.53125 44.55625 \nL 367.45 44.55625 \nQ 369.45 44.55625 369.45 42.55625 \nL 369.45 14.2 \nQ 369.45 12.2 367.45 12.2 \nL 329.53125 12.2 \nQ 327.53125 12.2 327.53125 14.2 \nL 327.53125 42.55625 \nQ 327.53125 44.55625 329.53125 44.55625 \nz\n\" style=\"fill:#ffffff;opacity:0.8;stroke:#cccccc;stroke-linejoin:miter;\"/>\n    </g>\n    <g id=\"patch_28\">\n     <path d=\"M 331.53125 23.798437 \nL 351.53125 23.798437 \nL 351.53125 16.798437 \nL 331.53125 16.798437 \nz\n\" style=\"fill:#1f77b4;\"/>\n    </g>\n    <g id=\"text_13\">\n     <!-- x -->\n     <g transform=\"translate(359.53125 23.798437)scale(0.1 -0.1)\">\n      <defs>\n       <path d=\"M 54.890625 54.6875 \nL 35.109375 28.078125 \nL 55.90625 0 \nL 45.3125 0 \nL 29.390625 21.484375 \nL 13.484375 0 \nL 2.875 0 \nL 24.125 28.609375 \nL 4.6875 54.6875 \nL 15.28125 54.6875 \nL 29.78125 35.203125 \nL 44.28125 54.6875 \nz\n\" id=\"DejaVuSans-120\"/>\n      </defs>\n      <use xlink:href=\"#DejaVuSans-120\"/>\n     </g>\n    </g>\n    <g id=\"patch_29\">\n     <path d=\"M 331.53125 38.476562 \nL 351.53125 38.476562 \nL 351.53125 31.476562 \nL 331.53125 31.476562 \nz\n\" style=\"fill:#ff7f0e;\"/>\n    </g>\n    <g id=\"text_14\">\n     <!-- y -->\n     <g transform=\"translate(359.53125 38.476562)scale(0.1 -0.1)\">\n      <defs>\n       <path d=\"M 32.171875 -5.078125 \nQ 28.375 -14.84375 24.75 -17.8125 \nQ 21.140625 -20.796875 15.09375 -20.796875 \nL 7.90625 -20.796875 \nL 7.90625 -13.28125 \nL 13.1875 -13.28125 \nQ 16.890625 -13.28125 18.9375 -11.515625 \nQ 21 -9.765625 23.484375 -3.21875 \nL 25.09375 0.875 \nL 2.984375 54.6875 \nL 12.5 54.6875 \nL 29.59375 11.921875 \nL 46.6875 54.6875 \nL 56.203125 54.6875 \nz\n\" id=\"DejaVuSans-121\"/>\n      </defs>\n      <use xlink:href=\"#DejaVuSans-121\"/>\n     </g>\n    </g>\n   </g>\n  </g>\n </g>\n <defs>\n  <clipPath id=\"p0131d47cd9\">\n   <rect height=\"217.44\" width=\"334.8\" x=\"39.65\" y=\"7.2\"/>\n  </clipPath>\n </defs>\n</svg>\n",
      "image/png": "[encoded data removed]"
     },
     "metadata": {
      "needs_background": "light"
     }
    }
   ],
   "source": [
    "import matplotlib.pyplot as plt\n",
    "(waypoint_df['x'] - waypoint_df['_x']).hist(label='x')\n",
    "(waypoint_df['y'] - waypoint_df['_y']).hist(label='y')\n",
    "plt.legend()"
   ]
  },
  {
   "cell_type": "code",
   "execution_count": 31,
   "metadata": {},
   "outputs": [
    {
     "output_type": "execute_result",
     "data": {
      "text/plain": [
       "                                                    floor           x  \\\n",
       "site_path_timestamp                                                     \n",
       "5a0546857ecc773753327266_046cfa46be49fc10834815...      0   89.414192   \n",
       "5a0546857ecc773753327266_046cfa46be49fc10834815...      0   84.279193   \n",
       "5a0546857ecc773753327266_046cfa46be49fc10834815...      0   85.278405   \n",
       "5a0546857ecc773753327266_046cfa46be49fc10834815...      0   86.549147   \n",
       "5a0546857ecc773753327266_046cfa46be49fc10834815...      0   85.572413   \n",
       "...                                                   ...         ...   \n",
       "5dc8cea7659e181adb076a3f_fd64de8c4a2fc5ebb0e9f4...      5  213.603394   \n",
       "5dc8cea7659e181adb076a3f_fd64de8c4a2fc5ebb0e9f4...      5  211.840591   \n",
       "5dc8cea7659e181adb076a3f_fd64de8c4a2fc5ebb0e9f4...      5  207.706710   \n",
       "5dc8cea7659e181adb076a3f_fd64de8c4a2fc5ebb0e9f4...      5  202.666625   \n",
       "5dc8cea7659e181adb076a3f_fd64de8c4a2fc5ebb0e9f4...      5  199.719986   \n",
       "\n",
       "                                                             y  \n",
       "site_path_timestamp                                             \n",
       "5a0546857ecc773753327266_046cfa46be49fc10834815...  103.453453  \n",
       "5a0546857ecc773753327266_046cfa46be49fc10834815...  102.677389  \n",
       "5a0546857ecc773753327266_046cfa46be49fc10834815...  105.318287  \n",
       "5a0546857ecc773753327266_046cfa46be49fc10834815...  107.394623  \n",
       "5a0546857ecc773753327266_046cfa46be49fc10834815...  106.363003  \n",
       "...                                                        ...  \n",
       "5dc8cea7659e181adb076a3f_fd64de8c4a2fc5ebb0e9f4...   96.321754  \n",
       "5dc8cea7659e181adb076a3f_fd64de8c4a2fc5ebb0e9f4...   97.647026  \n",
       "5dc8cea7659e181adb076a3f_fd64de8c4a2fc5ebb0e9f4...  104.344074  \n",
       "5dc8cea7659e181adb076a3f_fd64de8c4a2fc5ebb0e9f4...  108.342581  \n",
       "5dc8cea7659e181adb076a3f_fd64de8c4a2fc5ebb0e9f4...  109.232010  \n",
       "\n",
       "[10133 rows x 3 columns]"
      ],
      "text/html": "<div>\n<style scoped>\n    .dataframe tbody tr th:only-of-type {\n        vertical-align: middle;\n    }\n\n    .dataframe tbody tr th {\n        vertical-align: top;\n    }\n\n    .dataframe thead th {\n        text-align: right;\n    }\n</style>\n<table border=\"1\" class=\"dataframe\">\n  <thead>\n    <tr style=\"text-align: right;\">\n      <th></th>\n      <th>floor</th>\n      <th>x</th>\n      <th>y</th>\n    </tr>\n    <tr>\n      <th>site_path_timestamp</th>\n      <th></th>\n      <th></th>\n      <th></th>\n    </tr>\n  </thead>\n  <tbody>\n    <tr>\n      <th>5a0546857ecc773753327266_046cfa46be49fc10834815c6_0000000000009</th>\n      <td>0</td>\n      <td>89.414192</td>\n      <td>103.453453</td>\n    </tr>\n    <tr>\n      <th>5a0546857ecc773753327266_046cfa46be49fc10834815c6_0000000009017</th>\n      <td>0</td>\n      <td>84.279193</td>\n      <td>102.677389</td>\n    </tr>\n    <tr>\n      <th>5a0546857ecc773753327266_046cfa46be49fc10834815c6_0000000015326</th>\n      <td>0</td>\n      <td>85.278405</td>\n      <td>105.318287</td>\n    </tr>\n    <tr>\n      <th>5a0546857ecc773753327266_046cfa46be49fc10834815c6_0000000018763</th>\n      <td>0</td>\n      <td>86.549147</td>\n      <td>107.394623</td>\n    </tr>\n    <tr>\n      <th>5a0546857ecc773753327266_046cfa46be49fc10834815c6_0000000022328</th>\n      <td>0</td>\n      <td>85.572413</td>\n      <td>106.363003</td>\n    </tr>\n    <tr>\n      <th>...</th>\n      <td>...</td>\n      <td>...</td>\n      <td>...</td>\n    </tr>\n    <tr>\n      <th>5dc8cea7659e181adb076a3f_fd64de8c4a2fc5ebb0e9f412_0000000082589</th>\n      <td>5</td>\n      <td>213.603394</td>\n      <td>96.321754</td>\n    </tr>\n    <tr>\n      <th>5dc8cea7659e181adb076a3f_fd64de8c4a2fc5ebb0e9f412_0000000085758</th>\n      <td>5</td>\n      <td>211.840591</td>\n      <td>97.647026</td>\n    </tr>\n    <tr>\n      <th>5dc8cea7659e181adb076a3f_fd64de8c4a2fc5ebb0e9f412_0000000090895</th>\n      <td>5</td>\n      <td>207.706710</td>\n      <td>104.344074</td>\n    </tr>\n    <tr>\n      <th>5dc8cea7659e181adb076a3f_fd64de8c4a2fc5ebb0e9f412_0000000096899</th>\n      <td>5</td>\n      <td>202.666625</td>\n      <td>108.342581</td>\n    </tr>\n    <tr>\n      <th>5dc8cea7659e181adb076a3f_fd64de8c4a2fc5ebb0e9f412_0000000100447</th>\n      <td>5</td>\n      <td>199.719986</td>\n      <td>109.232010</td>\n    </tr>\n  </tbody>\n</table>\n<p>10133 rows × 3 columns</p>\n</div>"
     },
     "metadata": {},
     "execution_count": 31
    }
   ],
   "source": [
    "sub = sub.merge(waypoint_df[['site_path_timestamp', '_x', '_y']], on='site_path_timestamp').set_index('site_path_timestamp')\n",
    "sub = sub.drop(['x','y'], axis=1).rename(columns={'_x':'x', '_y':'y'})\n",
    "sub"
   ]
  },
  {
   "cell_type": "code",
   "execution_count": 32,
   "metadata": {},
   "outputs": [],
   "source": [
    "sub.to_csv(EXP_NAME + '_sub.csv')"
   ]
  },
  {
   "cell_type": "markdown",
   "metadata": {},
   "source": [
    "## 後処理"
   ]
  },
  {
   "cell_type": "markdown",
   "metadata": {},
   "source": [
    "## cost minimaization"
   ]
  },
  {
   "cell_type": "code",
   "execution_count": 33,
   "metadata": {},
   "outputs": [],
   "source": [
    "import multiprocessing\n",
    "import scipy.interpolate\n",
    "import scipy.sparse\n",
    "from tqdm import tqdm\n",
    "import sys\n",
    "sys.path.append('../../')\n",
    "from src.io_f import read_data_file\n",
    "from src import compute_f\n",
    "from scipy.signal import butter, lfilter"
   ]
  },
  {
   "cell_type": "code",
   "execution_count": 34,
   "metadata": {},
   "outputs": [],
   "source": [
    "import math\n",
    "\n",
    "order = 3\n",
    "fs = 50.0  # sample rate, Hz\n",
    "# fs = 100\n",
    "# cutoff = 3.667  # desired cutoff frequency of the filter, Hz\n",
    "cutoff = 3\n",
    "\n",
    "step_distance = 0.8\n",
    "w_height = 1.7\n",
    "m_trans = -5"
   ]
  },
  {
   "cell_type": "code",
   "execution_count": 35,
   "metadata": {},
   "outputs": [
    {
     "output_type": "stream",
     "name": "stderr",
     "text": [
      "<>:146: SyntaxWarning: \"is\" with a literal. Did you mean \"==\"?\n<>:146: SyntaxWarning: \"is\" with a literal. Did you mean \"==\"?\n<ipython-input-35-a1a172f865b0>:146: SyntaxWarning: \"is\" with a literal. Did you mean \"==\"?\n  if current_state is 'above':\n"
     ]
    }
   ],
   "source": [
    "def compute_rel_positions(acce_datas, ahrs_datas):\n",
    "    step_timestamps, step_indexs, step_acce_max_mins = compute_f.compute_steps(acce_datas)\n",
    "    headings = compute_f.compute_headings(ahrs_datas)\n",
    "    stride_lengths = compute_f.compute_stride_length(step_acce_max_mins)\n",
    "    step_headings = compute_f.compute_step_heading(step_timestamps, headings)\n",
    "    rel_positions = compute_f.compute_rel_positions(stride_lengths, step_headings)\n",
    "    return rel_positions\n",
    "\n",
    "\n",
    "def correct_path(args):\n",
    "    path, path_df = args\n",
    "    \n",
    "    T_ref  = path_df['timestamp'].values\n",
    "    xy_hat = path_df[['x', 'y']].values\n",
    "    example = read_data_file(root_dir/ f'indoor-location-navigation/test/{path}.txt')\n",
    "    \n",
    "    # rel_positions = compute_rel_positions(example.acce, example.ahrs)\n",
    "    # ↑を↓に置き換える\n",
    "    rel_positions1 = compute_rel_positions(example.acce, example.ahrs)\n",
    "    rel_positions2 = steps_compute_rel_positions(example)\n",
    "    rel1 = rel_positions1.copy()\n",
    "    rel2 = rel_positions2.copy()\n",
    "    rel1[:,1:] = rel_positions1[:,1:] / 2\n",
    "    rel2[:,1:] = rel_positions2[:,1:] / 2\n",
    "    rel_positions = np.vstack([rel1,rel2])\n",
    "    rel_positions = rel_positions[np.argsort(rel_positions[:, 0])]\n",
    "    \n",
    "    if T_ref[-1] > rel_positions[-1, 0]:\n",
    "        rel_positions = [np.array([[0, 0, 0]]), rel_positions, np.array([[T_ref[-1], 0, 0]])]\n",
    "    else:\n",
    "        rel_positions = [np.array([[0, 0, 0]]), rel_positions]\n",
    "    rel_positions = np.concatenate(rel_positions)\n",
    "    \n",
    "    T_rel = rel_positions[:, 0]\n",
    "    delta_xy_hat = np.diff(scipy.interpolate.interp1d(T_rel, np.cumsum(rel_positions[:, 1:3], axis=0), axis=0)(T_ref), axis=0)\n",
    "\n",
    "    N = xy_hat.shape[0]\n",
    "    delta_t = np.diff(T_ref)\n",
    "    alpha = (8.1)**(-2) * np.ones(N)\n",
    "    beta  = (0.3 + 0.3 * 1e-3 * delta_t)**(-2)\n",
    "    A = scipy.sparse.spdiags(alpha, [0], N, N)\n",
    "    B = scipy.sparse.spdiags( beta, [0], N-1, N-1)\n",
    "    D = scipy.sparse.spdiags(np.stack([-np.ones(N), np.ones(N)]), [0, 1], N-1, N)\n",
    "\n",
    "    Q = A + (D.T @ B @ D)\n",
    "    c = (A @ xy_hat) + (D.T @ (B @ delta_xy_hat))\n",
    "    xy_star = scipy.sparse.linalg.spsolve(Q, c)\n",
    "\n",
    "    return pd.DataFrame({\n",
    "        'site_path_timestamp' : path_df['site_path_timestamp'],\n",
    "        'floor' : path_df['floor'],\n",
    "        'x' : xy_star[:, 0],\n",
    "        'y' : xy_star[:, 1],\n",
    "    })\n",
    "\n",
    "\n",
    "\n",
    "def correct_path_train(args):\n",
    "    #print(args)\n",
    "    (site_id, path, floor), path_df = args\n",
    "    \n",
    "    T_ref  = path_df['timestamp'].values\n",
    "    xy_hat = path_df[['x', 'y']].values\n",
    "    \n",
    "    example = read_data_file(f'{root_dir}/indoor-location-navigation/train/{site_id}/{floor}/{path}.txt')\n",
    "    \n",
    "    # rel_positions = compute_rel_positions(example.acce, example.ahrs)\n",
    "    # ↑を↓に置き換える\n",
    "    rel_positions1 = compute_rel_positions(example.acce, example.ahrs)\n",
    "    rel_positions2 = steps_compute_rel_positions(example)\n",
    "    rel1 = rel_positions1.copy()\n",
    "    rel2 = rel_positions2.copy()\n",
    "    rel1[:,1:] = rel_positions1[:,1:] / 2\n",
    "    rel2[:,1:] = rel_positions2[:,1:] / 2\n",
    "    rel_positions = np.vstack([rel1,rel2])\n",
    "    rel_positions = rel_positions[np.argsort(rel_positions[:, 0])]\n",
    "    \n",
    "    \n",
    "    if T_ref[-1] > rel_positions[-1, 0]:\n",
    "        rel_positions = [np.array([[0, 0, 0]]), rel_positions, np.array([[T_ref[-1], 0, 0]])]\n",
    "    else:\n",
    "        rel_positions = [np.array([[0, 0, 0]]), rel_positions]\n",
    "    rel_positions = np.concatenate(rel_positions)\n",
    "    \n",
    "    T_rel = rel_positions[:, 0]\n",
    "\n",
    "    try:\n",
    "        delta_xy_hat = np.diff(scipy.interpolate.interp1d(T_rel, np.cumsum(rel_positions[:, 1:3], axis=0), axis=0)(T_ref), axis=0)\n",
    "    except:\n",
    "        return pd.DataFrame({\n",
    "            'site_path_timestamp' : path_df['site_path_timestamp'],\n",
    "            'floor' : path_df['floor'],\n",
    "            'x' : path_df['x'].to_numpy(),\n",
    "            'y' : path_df['y'].to_numpy()\n",
    "        })\n",
    "    \n",
    "\n",
    "    N = xy_hat.shape[0]\n",
    "    delta_t = np.diff(T_ref)\n",
    "    alpha = (8.1)**(-2) * np.ones(N)\n",
    "    beta  = (0.3 + 0.3 * 1e-3 * delta_t)**(-2)\n",
    "    A = scipy.sparse.spdiags(alpha, [0], N, N)\n",
    "    B = scipy.sparse.spdiags( beta, [0], N-1, N-1)\n",
    "    D = scipy.sparse.spdiags(np.stack([-np.ones(N), np.ones(N)]), [0, 1], N-1, N)\n",
    "\n",
    "    Q = A + (D.T @ B @ D)\n",
    "    c = (A @ xy_hat) + (D.T @ (B @ delta_xy_hat))\n",
    "    xy_star = scipy.sparse.linalg.spsolve(Q, c)\n",
    "\n",
    "\n",
    "    return pd.DataFrame({\n",
    "        'site_path_timestamp' : path_df['site_path_timestamp'],\n",
    "        'floor' : path_df['floor'],\n",
    "        'x' : xy_star[:, 0],\n",
    "        'y' : xy_star[:, 1],\n",
    "    })\n",
    "\n",
    "\n",
    "\n",
    "def butter_lowpass(cutoff, fs, order=5):\n",
    "    nyq = 0.5 * fs\n",
    "    normal_cutoff = cutoff / nyq\n",
    "    b, a = butter(order, normal_cutoff, btype='low', analog=False)\n",
    "    return b, a\n",
    "\n",
    "def butter_lowpass_filter(data, cutoff, fs, order=5):\n",
    "    b, a = butter_lowpass(cutoff, fs, order=order)\n",
    "    y = lfilter(b, a, data)\n",
    "    return y\n",
    "\n",
    "def peak_accel_threshold(data, timestamps, threshold):\n",
    "    d_acc = []\n",
    "    last_state = 'below'\n",
    "    crest_troughs = 0\n",
    "    crossings = []\n",
    "\n",
    "    for i, datum in enumerate(data):\n",
    "        \n",
    "        current_state = last_state\n",
    "        if datum < threshold:\n",
    "            current_state = 'below'\n",
    "        elif datum > threshold:\n",
    "            current_state = 'above'\n",
    "\n",
    "        if current_state is not last_state:\n",
    "            if current_state is 'above':\n",
    "                crossing = [timestamps[i], threshold]\n",
    "                crossings.append(crossing)\n",
    "            else:\n",
    "                crossing = [timestamps[i], threshold]\n",
    "                crossings.append(crossing)\n",
    "\n",
    "            crest_troughs += 1\n",
    "        last_state = current_state\n",
    "    return np.array(crossings)\n"
   ]
  },
  {
   "cell_type": "code",
   "execution_count": 36,
   "metadata": {},
   "outputs": [],
   "source": [
    "def steps_compute_rel_positions(sample_file):\n",
    "    \n",
    "    mix_acce = np.sqrt(sample_file.acce[:,1:2]**2 + sample_file.acce[:,2:3]**2 + sample_file.acce[:,3:4]**2)\n",
    "    mix_acce = np.concatenate([sample_file.acce[:,0:1], mix_acce], 1)\n",
    "    mix_df = pd.DataFrame(mix_acce)\n",
    "    mix_df.columns = [\"timestamp\",\"acce\"]\n",
    "    \n",
    "    filtered = butter_lowpass_filter(mix_df[\"acce\"], cutoff, fs, order)\n",
    "\n",
    "    threshold = filtered.mean() * 1.1\n",
    "    crossings = peak_accel_threshold(filtered, mix_df[\"timestamp\"], threshold)\n",
    "\n",
    "    step_sum = len(crossings)/2\n",
    "    distance = w_height * 0.4 * step_sum\n",
    "\n",
    "    mag_df = pd.DataFrame(sample_file.magn)\n",
    "    mag_df.columns = [\"timestamp\",\"x\",\"y\",\"z\"]\n",
    "    \n",
    "    acce_df = pd.DataFrame(sample_file.acce)\n",
    "    acce_df.columns = [\"timestamp\",\"ax\",\"ay\",\"az\"]\n",
    "    \n",
    "    mag_df = pd.merge(mag_df,acce_df,on=\"timestamp\")\n",
    "    mag_df.dropna()\n",
    "    \n",
    "    time_di_list = []\n",
    "\n",
    "    for i in mag_df.iterrows():\n",
    "\n",
    "        gx,gy,gz = i[1][1],i[1][2],i[1][3]\n",
    "        ax,ay,az = i[1][4],i[1][5],i[1][6]\n",
    "\n",
    "        roll = math.atan2(ay,az)\n",
    "        pitch = math.atan2(-1*ax , (ay * math.sin(roll) + az * math.cos(roll)))\n",
    "\n",
    "        q = m_trans - math.degrees(math.atan2(\n",
    "            (gz*math.sin(roll)-gy*math.cos(roll)),(gx*math.cos(pitch) + gy*math.sin(roll)*math.sin(pitch) + gz*math.sin(pitch)*math.cos(roll))\n",
    "        )) -90\n",
    "        if q <= 0:\n",
    "            q += 360\n",
    "        time_di_list.append((i[1][0],q))\n",
    "\n",
    "    d_list = [x[1] for x in time_di_list]\n",
    "    \n",
    "    steps = []\n",
    "    step_time = []\n",
    "    di_dict = dict(time_di_list)\n",
    "\n",
    "    for n,i in enumerate(crossings[:,:1]):\n",
    "        if n % 2 == 1:\n",
    "            continue\n",
    "        direct_now = di_dict[i[0]]\n",
    "        dx = math.sin(math.radians(direct_now))\n",
    "        dy = math.cos(math.radians(direct_now))\n",
    "#         print(int(n/2+1),\"歩目/x:\",dx,\"/y:\",dy,\"/角度：\",direct_now)\n",
    "        steps.append((i[0],dx,dy))\n",
    "        step_time.append(i[0])\n",
    "    \n",
    "        step_dtime = np.diff(step_time)/1000\n",
    "        step_dtime = step_dtime.tolist()\n",
    "        step_dtime.insert(0,5)\n",
    "        \n",
    "        rel_position = []\n",
    "\n",
    "        wp_idx = 0\n",
    "#         print(\"WP:\",round(sample_file.waypoint[0,1],3),round(sample_file.waypoint[0,2],3),sample_file.waypoint[0,0])\n",
    "#         print(\"------------------\")\n",
    "        for p,i in enumerate(steps):\n",
    "            step_distance = 0\n",
    "            if step_dtime[p] >= 1:\n",
    "                step_distance = w_height*0.25\n",
    "            elif step_dtime[p] >= 0.75:\n",
    "                step_distance = w_height*0.3\n",
    "            elif step_dtime[p] >= 0.5:\n",
    "                step_distance = w_height*0.4\n",
    "            elif step_dtime[p] >= 0.35:\n",
    "                step_distance = w_height*0.45\n",
    "            elif step_dtime[p] >= 0.2:\n",
    "                step_distance = w_height*0.5\n",
    "            else:\n",
    "                step_distance = w_height*0.4\n",
    "\n",
    "#             step_x += i[1]*step_distance\n",
    "#             step_y += i[2]*step_distance\n",
    "            \n",
    "            rel_position.append([i[0], i[1]*step_distance, i[2]*step_distance])\n",
    "#     print(rel_position)\n",
    "    \n",
    "    return np.array(rel_position)"
   ]
  },
  {
   "cell_type": "code",
   "execution_count": 37,
   "metadata": {},
   "outputs": [
    {
     "output_type": "stream",
     "name": "stderr",
     "text": [
      "10836it [05:26, 33.18it/s]\n",
      "CPU times: user 53.8 s, sys: 12 s, total: 1min 5s\n",
      "Wall time: 5min 31s\n"
     ]
    },
    {
     "output_type": "execute_result",
     "data": {
      "text/plain": [
       "            timestamp    target_x    target_y  floor          ix          iy  \\\n",
       "0       1561368762838   78.218193   38.999737    2.0   77.843651   37.382805   \n",
       "1       1561368762838   78.218193   38.999737    2.0   77.562737   36.170105   \n",
       "2       1561368774057   76.251839   30.510839    2.0   76.308945   29.970827   \n",
       "3       1561368774057   76.251839   30.510839    2.0   77.222664   21.330624   \n",
       "4       1561368774057   76.251839   30.510839    2.0   76.994240   23.490675   \n",
       "...               ...         ...         ...    ...         ...         ...   \n",
       "256744  1574420742502  193.204880  108.001518   -1.0  195.845032  107.961899   \n",
       "256745  1574420742502  193.204880  108.001518   -1.0  197.957138  107.930206   \n",
       "256746  1574420753754  204.293488  107.835121   -1.0  201.653351  107.874741   \n",
       "256747  1574420753754  204.293488  107.835121   -1.0  203.237427  107.850967   \n",
       "256748  1574420753754  204.293488  107.835121   -1.0  200.069260  107.898514   \n",
       "\n",
       "       floor_str                      path  site_id               site_id_str  \\\n",
       "0             F3  5d10a1669c50c70008fe8977        0  5a0546857ecc773753327266   \n",
       "1             F3  5d10a1669c50c70008fe8977        0  5a0546857ecc773753327266   \n",
       "2             F3  5d10a1669c50c70008fe8977        0  5a0546857ecc773753327266   \n",
       "3             F3  5d10a1669c50c70008fe8977        0  5a0546857ecc773753327266   \n",
       "4             F3  5d10a1669c50c70008fe8977        0  5a0546857ecc773753327266   \n",
       "...          ...                       ...      ...                       ...   \n",
       "256744        B1  5dd7c119c5b77e0006b16b99       23  5dc8cea7659e181adb076a3f   \n",
       "256745        B1  5dd7c119c5b77e0006b16b99       23  5dc8cea7659e181adb076a3f   \n",
       "256746        B1  5dd7c119c5b77e0006b16b99       23  5dc8cea7659e181adb076a3f   \n",
       "256747        B1  5dd7c119c5b77e0006b16b99       23  5dc8cea7659e181adb076a3f   \n",
       "256748        B1  5dd7c119c5b77e0006b16b99       23  5dc8cea7659e181adb076a3f   \n",
       "\n",
       "             oof_x       oof_y  oof_floor  \\\n",
       "0        78.898567   39.335052   0.000000   \n",
       "1        81.260681   33.549149   0.000000   \n",
       "2        82.527695   30.896685   0.000000   \n",
       "3        80.717308   28.906256   0.000000   \n",
       "4        79.884903   26.587894   0.000000   \n",
       "...            ...         ...        ...   \n",
       "256744  201.334671  105.369644   0.433354   \n",
       "256745  198.972198  106.005524   0.426785   \n",
       "256746  201.797028  106.997734   0.436648   \n",
       "256747  202.778946  105.169876   0.437685   \n",
       "256748  202.729416  106.502975   0.438920   \n",
       "\n",
       "                                      site_path_timestamp   oof_min_x  \\\n",
       "0       5a0546857ecc773753327266_5d10a1669c50c70008fe8...   82.634249   \n",
       "1       5a0546857ecc773753327266_5d10a1669c50c70008fe8...   82.639374   \n",
       "2       5a0546857ecc773753327266_5d10a1669c50c70008fe8...   84.219459   \n",
       "3       5a0546857ecc773753327266_5d10a1669c50c70008fe8...   84.228795   \n",
       "4       5a0546857ecc773753327266_5d10a1669c50c70008fe8...   84.242948   \n",
       "...                                                   ...         ...   \n",
       "256744  5dc8cea7659e181adb076a3f_5dd7c119c5b77e0006b16...  200.988469   \n",
       "256745  5dc8cea7659e181adb076a3f_5dd7c119c5b77e0006b16...  200.965273   \n",
       "256746  5dc8cea7659e181adb076a3f_5dd7c119c5b77e0006b16...  207.418033   \n",
       "256747  5dc8cea7659e181adb076a3f_5dd7c119c5b77e0006b16...  207.405281   \n",
       "256748  5dc8cea7659e181adb076a3f_5dd7c119c5b77e0006b16...  207.398876   \n",
       "\n",
       "         oof_min_y  \n",
       "0        38.080288  \n",
       "1        38.078567  \n",
       "2        28.766186  \n",
       "3        28.767755  \n",
       "4        28.769135  \n",
       "...            ...  \n",
       "256744  104.478296  \n",
       "256745  104.478859  \n",
       "256746  106.597045  \n",
       "256747  106.594964  \n",
       "256748  106.594838  \n",
       "\n",
       "[256749 rows x 16 columns]"
      ],
      "text/html": "<div>\n<style scoped>\n    .dataframe tbody tr th:only-of-type {\n        vertical-align: middle;\n    }\n\n    .dataframe tbody tr th {\n        vertical-align: top;\n    }\n\n    .dataframe thead th {\n        text-align: right;\n    }\n</style>\n<table border=\"1\" class=\"dataframe\">\n  <thead>\n    <tr style=\"text-align: right;\">\n      <th></th>\n      <th>timestamp</th>\n      <th>target_x</th>\n      <th>target_y</th>\n      <th>floor</th>\n      <th>ix</th>\n      <th>iy</th>\n      <th>floor_str</th>\n      <th>path</th>\n      <th>site_id</th>\n      <th>site_id_str</th>\n      <th>oof_x</th>\n      <th>oof_y</th>\n      <th>oof_floor</th>\n      <th>site_path_timestamp</th>\n      <th>oof_min_x</th>\n      <th>oof_min_y</th>\n    </tr>\n  </thead>\n  <tbody>\n    <tr>\n      <th>0</th>\n      <td>1561368762838</td>\n      <td>78.218193</td>\n      <td>38.999737</td>\n      <td>2.0</td>\n      <td>77.843651</td>\n      <td>37.382805</td>\n      <td>F3</td>\n      <td>5d10a1669c50c70008fe8977</td>\n      <td>0</td>\n      <td>5a0546857ecc773753327266</td>\n      <td>78.898567</td>\n      <td>39.335052</td>\n      <td>0.000000</td>\n      <td>5a0546857ecc773753327266_5d10a1669c50c70008fe8...</td>\n      <td>82.634249</td>\n      <td>38.080288</td>\n    </tr>\n    <tr>\n      <th>1</th>\n      <td>1561368762838</td>\n      <td>78.218193</td>\n      <td>38.999737</td>\n      <td>2.0</td>\n      <td>77.562737</td>\n      <td>36.170105</td>\n      <td>F3</td>\n      <td>5d10a1669c50c70008fe8977</td>\n      <td>0</td>\n      <td>5a0546857ecc773753327266</td>\n      <td>81.260681</td>\n      <td>33.549149</td>\n      <td>0.000000</td>\n      <td>5a0546857ecc773753327266_5d10a1669c50c70008fe8...</td>\n      <td>82.639374</td>\n      <td>38.078567</td>\n    </tr>\n    <tr>\n      <th>2</th>\n      <td>1561368774057</td>\n      <td>76.251839</td>\n      <td>30.510839</td>\n      <td>2.0</td>\n      <td>76.308945</td>\n      <td>29.970827</td>\n      <td>F3</td>\n      <td>5d10a1669c50c70008fe8977</td>\n      <td>0</td>\n      <td>5a0546857ecc773753327266</td>\n      <td>82.527695</td>\n      <td>30.896685</td>\n      <td>0.000000</td>\n      <td>5a0546857ecc773753327266_5d10a1669c50c70008fe8...</td>\n      <td>84.219459</td>\n      <td>28.766186</td>\n    </tr>\n    <tr>\n      <th>3</th>\n      <td>1561368774057</td>\n      <td>76.251839</td>\n      <td>30.510839</td>\n      <td>2.0</td>\n      <td>77.222664</td>\n      <td>21.330624</td>\n      <td>F3</td>\n      <td>5d10a1669c50c70008fe8977</td>\n      <td>0</td>\n      <td>5a0546857ecc773753327266</td>\n      <td>80.717308</td>\n      <td>28.906256</td>\n      <td>0.000000</td>\n      <td>5a0546857ecc773753327266_5d10a1669c50c70008fe8...</td>\n      <td>84.228795</td>\n      <td>28.767755</td>\n    </tr>\n    <tr>\n      <th>4</th>\n      <td>1561368774057</td>\n      <td>76.251839</td>\n      <td>30.510839</td>\n      <td>2.0</td>\n      <td>76.994240</td>\n      <td>23.490675</td>\n      <td>F3</td>\n      <td>5d10a1669c50c70008fe8977</td>\n      <td>0</td>\n      <td>5a0546857ecc773753327266</td>\n      <td>79.884903</td>\n      <td>26.587894</td>\n      <td>0.000000</td>\n      <td>5a0546857ecc773753327266_5d10a1669c50c70008fe8...</td>\n      <td>84.242948</td>\n      <td>28.769135</td>\n    </tr>\n    <tr>\n      <th>...</th>\n      <td>...</td>\n      <td>...</td>\n      <td>...</td>\n      <td>...</td>\n      <td>...</td>\n      <td>...</td>\n      <td>...</td>\n      <td>...</td>\n      <td>...</td>\n      <td>...</td>\n      <td>...</td>\n      <td>...</td>\n      <td>...</td>\n      <td>...</td>\n      <td>...</td>\n      <td>...</td>\n    </tr>\n    <tr>\n      <th>256744</th>\n      <td>1574420742502</td>\n      <td>193.204880</td>\n      <td>108.001518</td>\n      <td>-1.0</td>\n      <td>195.845032</td>\n      <td>107.961899</td>\n      <td>B1</td>\n      <td>5dd7c119c5b77e0006b16b99</td>\n      <td>23</td>\n      <td>5dc8cea7659e181adb076a3f</td>\n      <td>201.334671</td>\n      <td>105.369644</td>\n      <td>0.433354</td>\n      <td>5dc8cea7659e181adb076a3f_5dd7c119c5b77e0006b16...</td>\n      <td>200.988469</td>\n      <td>104.478296</td>\n    </tr>\n    <tr>\n      <th>256745</th>\n      <td>1574420742502</td>\n      <td>193.204880</td>\n      <td>108.001518</td>\n      <td>-1.0</td>\n      <td>197.957138</td>\n      <td>107.930206</td>\n      <td>B1</td>\n      <td>5dd7c119c5b77e0006b16b99</td>\n      <td>23</td>\n      <td>5dc8cea7659e181adb076a3f</td>\n      <td>198.972198</td>\n      <td>106.005524</td>\n      <td>0.426785</td>\n      <td>5dc8cea7659e181adb076a3f_5dd7c119c5b77e0006b16...</td>\n      <td>200.965273</td>\n      <td>104.478859</td>\n    </tr>\n    <tr>\n      <th>256746</th>\n      <td>1574420753754</td>\n      <td>204.293488</td>\n      <td>107.835121</td>\n      <td>-1.0</td>\n      <td>201.653351</td>\n      <td>107.874741</td>\n      <td>B1</td>\n      <td>5dd7c119c5b77e0006b16b99</td>\n      <td>23</td>\n      <td>5dc8cea7659e181adb076a3f</td>\n      <td>201.797028</td>\n      <td>106.997734</td>\n      <td>0.436648</td>\n      <td>5dc8cea7659e181adb076a3f_5dd7c119c5b77e0006b16...</td>\n      <td>207.418033</td>\n      <td>106.597045</td>\n    </tr>\n    <tr>\n      <th>256747</th>\n      <td>1574420753754</td>\n      <td>204.293488</td>\n      <td>107.835121</td>\n      <td>-1.0</td>\n      <td>203.237427</td>\n      <td>107.850967</td>\n      <td>B1</td>\n      <td>5dd7c119c5b77e0006b16b99</td>\n      <td>23</td>\n      <td>5dc8cea7659e181adb076a3f</td>\n      <td>202.778946</td>\n      <td>105.169876</td>\n      <td>0.437685</td>\n      <td>5dc8cea7659e181adb076a3f_5dd7c119c5b77e0006b16...</td>\n      <td>207.405281</td>\n      <td>106.594964</td>\n    </tr>\n    <tr>\n      <th>256748</th>\n      <td>1574420753754</td>\n      <td>204.293488</td>\n      <td>107.835121</td>\n      <td>-1.0</td>\n      <td>200.069260</td>\n      <td>107.898514</td>\n      <td>B1</td>\n      <td>5dd7c119c5b77e0006b16b99</td>\n      <td>23</td>\n      <td>5dc8cea7659e181adb076a3f</td>\n      <td>202.729416</td>\n      <td>106.502975</td>\n      <td>0.438920</td>\n      <td>5dc8cea7659e181adb076a3f_5dd7c119c5b77e0006b16...</td>\n      <td>207.398876</td>\n      <td>106.594838</td>\n    </tr>\n  </tbody>\n</table>\n<p>256749 rows × 16 columns</p>\n</div>"
     },
     "metadata": {},
     "execution_count": 37
    }
   ],
   "source": [
    "%%time\n",
    "\n",
    "oofs_df = oofs_df.rename(columns={'x':'target_x', 'y':'target_y', 'oof_x':'x', 'oof_y':'y'})\n",
    "processes = multiprocessing.cpu_count()\n",
    "with multiprocessing.Pool(processes=processes) as pool:\n",
    "    dfs = pool.imap_unordered(correct_path_train, oofs_df.groupby(['site_id_str', 'path', 'floor_str']))\n",
    "    dfs = tqdm(dfs)\n",
    "    dfs = list(dfs)\n",
    "\n",
    "oof_post_process = pd.concat(dfs).sort_index()\n",
    "oofs_df['oof_min_x'] = oof_post_process['x']\n",
    "oofs_df['oof_min_y'] = oof_post_process['y']\n",
    "\n",
    "# 元に戻す\n",
    "oofs_df = oofs_df.rename(columns={'x':'oof_x', 'y':'oof_y'})\n",
    "oofs_df"
   ]
  },
  {
   "cell_type": "code",
   "execution_count": 38,
   "metadata": {},
   "outputs": [
    {
     "output_type": "stream",
     "name": "stdout",
     "text": [
      "(after cost-min) CV:5.884450732232381\n"
     ]
    }
   ],
   "source": [
    "# waypoint補正前のx,yでの評価\n",
    "oof_score_post_process = mean_position_error(\n",
    "    oofs_df['oof_min_x'], oofs_df['oof_min_y'], 0, \n",
    "    oofs_df['target_x'], oofs_df['target_y'], 0\n",
    "    )\n",
    "wandb_config['CV_cost'] = oof_score_post_process\n",
    "print(f\"(after cost-min) CV:{oof_score_post_process}\")"
   ]
  },
  {
   "cell_type": "code",
   "execution_count": 39,
   "metadata": {},
   "outputs": [
    {
     "output_type": "stream",
     "name": "stdout",
     "text": [
      "(after cost-min) CV:6.098522357181695\n"
     ]
    }
   ],
   "source": [
    "# waypoint補正後のx,yでの評価\n",
    "oof_score_post_process = mean_position_error(\n",
    "    oofs_df['oof_min_x'], oofs_df['oof_min_y'], 0, \n",
    "    oofs_df['ix'], oofs_df['iy'], 0\n",
    "    )\n",
    "wandb_config['iCV_cost'] = oof_score_post_process\n",
    "print(f\"(after cost-min) CV:{oof_score_post_process}\")"
   ]
  },
  {
   "cell_type": "code",
   "execution_count": 40,
   "metadata": {},
   "outputs": [
    {
     "output_type": "execute_result",
     "data": {
      "text/plain": [
       "                                     site_path_timestamp  floor           x  \\\n",
       "0      5a0546857ecc773753327266_046cfa46be49fc1083481...      0   89.414192   \n",
       "1      5a0546857ecc773753327266_046cfa46be49fc1083481...      0   84.279193   \n",
       "2      5a0546857ecc773753327266_046cfa46be49fc1083481...      0   85.278405   \n",
       "3      5a0546857ecc773753327266_046cfa46be49fc1083481...      0   86.549147   \n",
       "4      5a0546857ecc773753327266_046cfa46be49fc1083481...      0   85.572413   \n",
       "...                                                  ...    ...         ...   \n",
       "10128  5dc8cea7659e181adb076a3f_fd64de8c4a2fc5ebb0e9f...      5  213.603394   \n",
       "10129  5dc8cea7659e181adb076a3f_fd64de8c4a2fc5ebb0e9f...      5  211.840591   \n",
       "10130  5dc8cea7659e181adb076a3f_fd64de8c4a2fc5ebb0e9f...      5  207.706710   \n",
       "10131  5dc8cea7659e181adb076a3f_fd64de8c4a2fc5ebb0e9f...      5  202.666625   \n",
       "10132  5dc8cea7659e181adb076a3f_fd64de8c4a2fc5ebb0e9f...      5  199.719986   \n",
       "\n",
       "                y                      site                      path  \\\n",
       "0      103.453453  5a0546857ecc773753327266  046cfa46be49fc10834815c6   \n",
       "1      102.677389  5a0546857ecc773753327266  046cfa46be49fc10834815c6   \n",
       "2      105.318287  5a0546857ecc773753327266  046cfa46be49fc10834815c6   \n",
       "3      107.394623  5a0546857ecc773753327266  046cfa46be49fc10834815c6   \n",
       "4      106.363003  5a0546857ecc773753327266  046cfa46be49fc10834815c6   \n",
       "...           ...                       ...                       ...   \n",
       "10128   96.321754  5dc8cea7659e181adb076a3f  fd64de8c4a2fc5ebb0e9f412   \n",
       "10129   97.647026  5dc8cea7659e181adb076a3f  fd64de8c4a2fc5ebb0e9f412   \n",
       "10130  104.344074  5dc8cea7659e181adb076a3f  fd64de8c4a2fc5ebb0e9f412   \n",
       "10131  108.342581  5dc8cea7659e181adb076a3f  fd64de8c4a2fc5ebb0e9f412   \n",
       "10132  109.232010  5dc8cea7659e181adb076a3f  fd64de8c4a2fc5ebb0e9f412   \n",
       "\n",
       "       timestamp  \n",
       "0            9.0  \n",
       "1         9017.0  \n",
       "2        15326.0  \n",
       "3        18763.0  \n",
       "4        22328.0  \n",
       "...          ...  \n",
       "10128    82589.0  \n",
       "10129    85758.0  \n",
       "10130    90895.0  \n",
       "10131    96899.0  \n",
       "10132   100447.0  \n",
       "\n",
       "[10133 rows x 7 columns]"
      ],
      "text/html": "<div>\n<style scoped>\n    .dataframe tbody tr th:only-of-type {\n        vertical-align: middle;\n    }\n\n    .dataframe tbody tr th {\n        vertical-align: top;\n    }\n\n    .dataframe thead th {\n        text-align: right;\n    }\n</style>\n<table border=\"1\" class=\"dataframe\">\n  <thead>\n    <tr style=\"text-align: right;\">\n      <th></th>\n      <th>site_path_timestamp</th>\n      <th>floor</th>\n      <th>x</th>\n      <th>y</th>\n      <th>site</th>\n      <th>path</th>\n      <th>timestamp</th>\n    </tr>\n  </thead>\n  <tbody>\n    <tr>\n      <th>0</th>\n      <td>5a0546857ecc773753327266_046cfa46be49fc1083481...</td>\n      <td>0</td>\n      <td>89.414192</td>\n      <td>103.453453</td>\n      <td>5a0546857ecc773753327266</td>\n      <td>046cfa46be49fc10834815c6</td>\n      <td>9.0</td>\n    </tr>\n    <tr>\n      <th>1</th>\n      <td>5a0546857ecc773753327266_046cfa46be49fc1083481...</td>\n      <td>0</td>\n      <td>84.279193</td>\n      <td>102.677389</td>\n      <td>5a0546857ecc773753327266</td>\n      <td>046cfa46be49fc10834815c6</td>\n      <td>9017.0</td>\n    </tr>\n    <tr>\n      <th>2</th>\n      <td>5a0546857ecc773753327266_046cfa46be49fc1083481...</td>\n      <td>0</td>\n      <td>85.278405</td>\n      <td>105.318287</td>\n      <td>5a0546857ecc773753327266</td>\n      <td>046cfa46be49fc10834815c6</td>\n      <td>15326.0</td>\n    </tr>\n    <tr>\n      <th>3</th>\n      <td>5a0546857ecc773753327266_046cfa46be49fc1083481...</td>\n      <td>0</td>\n      <td>86.549147</td>\n      <td>107.394623</td>\n      <td>5a0546857ecc773753327266</td>\n      <td>046cfa46be49fc10834815c6</td>\n      <td>18763.0</td>\n    </tr>\n    <tr>\n      <th>4</th>\n      <td>5a0546857ecc773753327266_046cfa46be49fc1083481...</td>\n      <td>0</td>\n      <td>85.572413</td>\n      <td>106.363003</td>\n      <td>5a0546857ecc773753327266</td>\n      <td>046cfa46be49fc10834815c6</td>\n      <td>22328.0</td>\n    </tr>\n    <tr>\n      <th>...</th>\n      <td>...</td>\n      <td>...</td>\n      <td>...</td>\n      <td>...</td>\n      <td>...</td>\n      <td>...</td>\n      <td>...</td>\n    </tr>\n    <tr>\n      <th>10128</th>\n      <td>5dc8cea7659e181adb076a3f_fd64de8c4a2fc5ebb0e9f...</td>\n      <td>5</td>\n      <td>213.603394</td>\n      <td>96.321754</td>\n      <td>5dc8cea7659e181adb076a3f</td>\n      <td>fd64de8c4a2fc5ebb0e9f412</td>\n      <td>82589.0</td>\n    </tr>\n    <tr>\n      <th>10129</th>\n      <td>5dc8cea7659e181adb076a3f_fd64de8c4a2fc5ebb0e9f...</td>\n      <td>5</td>\n      <td>211.840591</td>\n      <td>97.647026</td>\n      <td>5dc8cea7659e181adb076a3f</td>\n      <td>fd64de8c4a2fc5ebb0e9f412</td>\n      <td>85758.0</td>\n    </tr>\n    <tr>\n      <th>10130</th>\n      <td>5dc8cea7659e181adb076a3f_fd64de8c4a2fc5ebb0e9f...</td>\n      <td>5</td>\n      <td>207.706710</td>\n      <td>104.344074</td>\n      <td>5dc8cea7659e181adb076a3f</td>\n      <td>fd64de8c4a2fc5ebb0e9f412</td>\n      <td>90895.0</td>\n    </tr>\n    <tr>\n      <th>10131</th>\n      <td>5dc8cea7659e181adb076a3f_fd64de8c4a2fc5ebb0e9f...</td>\n      <td>5</td>\n      <td>202.666625</td>\n      <td>108.342581</td>\n      <td>5dc8cea7659e181adb076a3f</td>\n      <td>fd64de8c4a2fc5ebb0e9f412</td>\n      <td>96899.0</td>\n    </tr>\n    <tr>\n      <th>10132</th>\n      <td>5dc8cea7659e181adb076a3f_fd64de8c4a2fc5ebb0e9f...</td>\n      <td>5</td>\n      <td>199.719986</td>\n      <td>109.232010</td>\n      <td>5dc8cea7659e181adb076a3f</td>\n      <td>fd64de8c4a2fc5ebb0e9f412</td>\n      <td>100447.0</td>\n    </tr>\n  </tbody>\n</table>\n<p>10133 rows × 7 columns</p>\n</div>"
     },
     "metadata": {},
     "execution_count": 40
    }
   ],
   "source": [
    "sub = sub.reset_index()\n",
    "sub_org = sub.copy()\n",
    "tmp = sub['site_path_timestamp'].apply(lambda s : pd.Series(s.split('_')))\n",
    "sub['site'] = tmp[0]\n",
    "sub['path'] = tmp[1]\n",
    "sub['timestamp'] = tmp[2].astype(float)\n",
    "sub"
   ]
  },
  {
   "cell_type": "code",
   "execution_count": 41,
   "metadata": {},
   "outputs": [
    {
     "output_type": "stream",
     "name": "stderr",
     "text": [
      "626it [00:52, 11.99it/s]\n"
     ]
    },
    {
     "output_type": "execute_result",
     "data": {
      "text/plain": [
       "                                     site_path_timestamp  floor           x  \\\n",
       "0      5a0546857ecc773753327266_046cfa46be49fc1083481...      0   91.632362   \n",
       "1      5a0546857ecc773753327266_046cfa46be49fc1083481...      0   82.176305   \n",
       "2      5a0546857ecc773753327266_046cfa46be49fc1083481...      0   83.859428   \n",
       "3      5a0546857ecc773753327266_046cfa46be49fc1083481...      0   84.657936   \n",
       "4      5a0546857ecc773753327266_046cfa46be49fc1083481...      0   85.131612   \n",
       "...                                                  ...    ...         ...   \n",
       "10128  5dc8cea7659e181adb076a3f_fd64de8c4a2fc5ebb0e9f...      5  211.268879   \n",
       "10129  5dc8cea7659e181adb076a3f_fd64de8c4a2fc5ebb0e9f...      5  209.452379   \n",
       "10130  5dc8cea7659e181adb076a3f_fd64de8c4a2fc5ebb0e9f...      5  205.651771   \n",
       "10131  5dc8cea7659e181adb076a3f_fd64de8c4a2fc5ebb0e9f...      5  198.466589   \n",
       "10132  5dc8cea7659e181adb076a3f_fd64de8c4a2fc5ebb0e9f...      5  195.053140   \n",
       "\n",
       "                y  \n",
       "0       97.181883  \n",
       "1       99.665940  \n",
       "2      104.736352  \n",
       "3      108.497594  \n",
       "4      112.203910  \n",
       "...           ...  \n",
       "10128   97.280202  \n",
       "10129  100.683084  \n",
       "10130  106.417728  \n",
       "10131  110.829686  \n",
       "10132  114.163711  \n",
       "\n",
       "[10133 rows x 4 columns]"
      ],
      "text/html": "<div>\n<style scoped>\n    .dataframe tbody tr th:only-of-type {\n        vertical-align: middle;\n    }\n\n    .dataframe tbody tr th {\n        vertical-align: top;\n    }\n\n    .dataframe thead th {\n        text-align: right;\n    }\n</style>\n<table border=\"1\" class=\"dataframe\">\n  <thead>\n    <tr style=\"text-align: right;\">\n      <th></th>\n      <th>site_path_timestamp</th>\n      <th>floor</th>\n      <th>x</th>\n      <th>y</th>\n    </tr>\n  </thead>\n  <tbody>\n    <tr>\n      <th>0</th>\n      <td>5a0546857ecc773753327266_046cfa46be49fc1083481...</td>\n      <td>0</td>\n      <td>91.632362</td>\n      <td>97.181883</td>\n    </tr>\n    <tr>\n      <th>1</th>\n      <td>5a0546857ecc773753327266_046cfa46be49fc1083481...</td>\n      <td>0</td>\n      <td>82.176305</td>\n      <td>99.665940</td>\n    </tr>\n    <tr>\n      <th>2</th>\n      <td>5a0546857ecc773753327266_046cfa46be49fc1083481...</td>\n      <td>0</td>\n      <td>83.859428</td>\n      <td>104.736352</td>\n    </tr>\n    <tr>\n      <th>3</th>\n      <td>5a0546857ecc773753327266_046cfa46be49fc1083481...</td>\n      <td>0</td>\n      <td>84.657936</td>\n      <td>108.497594</td>\n    </tr>\n    <tr>\n      <th>4</th>\n      <td>5a0546857ecc773753327266_046cfa46be49fc1083481...</td>\n      <td>0</td>\n      <td>85.131612</td>\n      <td>112.203910</td>\n    </tr>\n    <tr>\n      <th>...</th>\n      <td>...</td>\n      <td>...</td>\n      <td>...</td>\n      <td>...</td>\n    </tr>\n    <tr>\n      <th>10128</th>\n      <td>5dc8cea7659e181adb076a3f_fd64de8c4a2fc5ebb0e9f...</td>\n      <td>5</td>\n      <td>211.268879</td>\n      <td>97.280202</td>\n    </tr>\n    <tr>\n      <th>10129</th>\n      <td>5dc8cea7659e181adb076a3f_fd64de8c4a2fc5ebb0e9f...</td>\n      <td>5</td>\n      <td>209.452379</td>\n      <td>100.683084</td>\n    </tr>\n    <tr>\n      <th>10130</th>\n      <td>5dc8cea7659e181adb076a3f_fd64de8c4a2fc5ebb0e9f...</td>\n      <td>5</td>\n      <td>205.651771</td>\n      <td>106.417728</td>\n    </tr>\n    <tr>\n      <th>10131</th>\n      <td>5dc8cea7659e181adb076a3f_fd64de8c4a2fc5ebb0e9f...</td>\n      <td>5</td>\n      <td>198.466589</td>\n      <td>110.829686</td>\n    </tr>\n    <tr>\n      <th>10132</th>\n      <td>5dc8cea7659e181adb076a3f_fd64de8c4a2fc5ebb0e9f...</td>\n      <td>5</td>\n      <td>195.053140</td>\n      <td>114.163711</td>\n    </tr>\n  </tbody>\n</table>\n<p>10133 rows × 4 columns</p>\n</div>"
     },
     "metadata": {},
     "execution_count": 41
    }
   ],
   "source": [
    "processes = multiprocessing.cpu_count()\n",
    "with multiprocessing.Pool(processes=processes) as pool:\n",
    "    dfs = pool.imap_unordered(correct_path, sub.groupby(['path']))\n",
    "    dfs = tqdm(dfs)\n",
    "    dfs = list(dfs)\n",
    "new_sub = pd.concat(dfs).sort_values('site_path_timestamp')\n",
    "new_sub"
   ]
  },
  {
   "cell_type": "code",
   "execution_count": 42,
   "metadata": {},
   "outputs": [],
   "source": [
    "new_sub.to_csv(RUN_NAME + '_cost_sub.csv', index=False)"
   ]
  },
  {
   "cell_type": "markdown",
   "metadata": {},
   "source": [
    "## snap to grid"
   ]
  },
  {
   "cell_type": "code",
   "execution_count": 43,
   "metadata": {},
   "outputs": [],
   "source": [
    "from scipy.spatial.distance import cdist\n",
    "def sub_process(sub, train_waypoints):\n",
    "    train_waypoints['isTrainWaypoint'] = True\n",
    "    sub = split_col(sub[['site_path_timestamp','floor','x','y']]).copy()\n",
    "    sub = sub.merge(train_waypoints[['site','floorNo','floor']].drop_duplicates(), how='left')\n",
    "    sub = sub.merge(\n",
    "        train_waypoints[['x','y','site','floor','isTrainWaypoint']].drop_duplicates(),\n",
    "        how='left',\n",
    "        on=['site','x','y','floor']\n",
    "             )\n",
    "    sub['isTrainWaypoint'] = sub['isTrainWaypoint'].fillna(False)\n",
    "    return sub.copy()\n",
    "\n",
    "def split_col(df):\n",
    "    df = pd.concat([\n",
    "        df['site_path_timestamp'].str.split('_', expand=True) \\\n",
    "        .rename(columns={0:'site',\n",
    "                         1:'path',\n",
    "                         2:'timestamp'}),\n",
    "        df\n",
    "    ], axis=1).copy()\n",
    "    return df\n",
    "\n",
    "floor_map = {\"B2\":-2, \"B1\":-1, \"F1\":0, \"F2\": 1, \"F3\":2,\n",
    "             \"F4\":3, \"F5\":4, \"F6\":5, \"F7\":6,\"F8\":7,\"F9\":8,\n",
    "             \"1F\":0, \"2F\":1, \"3F\":2, \"4F\":3, \"5F\":4, \"6F\":5,\n",
    "             \"7F\":6, \"8F\": 7, \"9F\":8}\n",
    "\n",
    "def add_xy(df):\n",
    "    df['xy'] = [(x, y) for x,y in zip(df['x'], df['y'])]\n",
    "    return df\n",
    "\n",
    "def closest_point(point, points):\n",
    "    \"\"\" Find closest point from a list of points. \"\"\"\n",
    "    return points[cdist([point], points).argmin()]\n",
    "\n",
    "def snap_to_grid(sub, threshold):\n",
    "    \"\"\"\n",
    "    Snap to grid if within a threshold.\n",
    "    \n",
    "    x, y are the predicted points.\n",
    "    x_, y_ are the closest grid points.\n",
    "    _x_, _y_ are the new predictions after post processing.\n",
    "    \"\"\"\n",
    "    sub['_x_'] = sub['x']\n",
    "    sub['_y_'] = sub['y']\n",
    "    sub.loc[sub['dist'] < threshold, '_x_'] = sub.loc[sub['dist'] < threshold]['x_']\n",
    "    sub.loc[sub['dist'] < threshold, '_y_'] = sub.loc[sub['dist'] < threshold]['y_']\n",
    "    return sub.copy()\n"
   ]
  },
  {
   "cell_type": "code",
   "execution_count": 44,
   "metadata": {},
   "outputs": [
    {
     "output_type": "execute_result",
     "data": {
      "text/plain": [
       "            timestamp    target_x    target_y  floor          ix          iy  \\\n",
       "0       1561368762838   78.218193   38.999737    2.0   77.843651   37.382805   \n",
       "1       1561368762838   78.218193   38.999737    2.0   77.562737   36.170105   \n",
       "2       1561368774057   76.251839   30.510839    2.0   76.308945   29.970827   \n",
       "3       1561368774057   76.251839   30.510839    2.0   77.222664   21.330624   \n",
       "4       1561368774057   76.251839   30.510839    2.0   76.994240   23.490675   \n",
       "...               ...         ...         ...    ...         ...         ...   \n",
       "256744  1574420742502  193.204880  108.001518   -1.0  195.845032  107.961899   \n",
       "256745  1574420742502  193.204880  108.001518   -1.0  197.957138  107.930206   \n",
       "256746  1574420753754  204.293488  107.835121   -1.0  201.653351  107.874741   \n",
       "256747  1574420753754  204.293488  107.835121   -1.0  203.237427  107.850967   \n",
       "256748  1574420753754  204.293488  107.835121   -1.0  200.069260  107.898514   \n",
       "\n",
       "       floor_str                      path  site_id               site_id_str  \\\n",
       "0             F3  5d10a1669c50c70008fe8977        0  5a0546857ecc773753327266   \n",
       "1             F3  5d10a1669c50c70008fe8977        0  5a0546857ecc773753327266   \n",
       "2             F3  5d10a1669c50c70008fe8977        0  5a0546857ecc773753327266   \n",
       "3             F3  5d10a1669c50c70008fe8977        0  5a0546857ecc773753327266   \n",
       "4             F3  5d10a1669c50c70008fe8977        0  5a0546857ecc773753327266   \n",
       "...          ...                       ...      ...                       ...   \n",
       "256744        B1  5dd7c119c5b77e0006b16b99       23  5dc8cea7659e181adb076a3f   \n",
       "256745        B1  5dd7c119c5b77e0006b16b99       23  5dc8cea7659e181adb076a3f   \n",
       "256746        B1  5dd7c119c5b77e0006b16b99       23  5dc8cea7659e181adb076a3f   \n",
       "256747        B1  5dd7c119c5b77e0006b16b99       23  5dc8cea7659e181adb076a3f   \n",
       "256748        B1  5dd7c119c5b77e0006b16b99       23  5dc8cea7659e181adb076a3f   \n",
       "\n",
       "             oof_x       oof_y  oof_floor  \\\n",
       "0        78.898567   39.335052   0.000000   \n",
       "1        81.260681   33.549149   0.000000   \n",
       "2        82.527695   30.896685   0.000000   \n",
       "3        80.717308   28.906256   0.000000   \n",
       "4        79.884903   26.587894   0.000000   \n",
       "...            ...         ...        ...   \n",
       "256744  201.334671  105.369644   0.433354   \n",
       "256745  198.972198  106.005524   0.426785   \n",
       "256746  201.797028  106.997734   0.436648   \n",
       "256747  202.778946  105.169876   0.437685   \n",
       "256748  202.729416  106.502975   0.438920   \n",
       "\n",
       "                                      site_path_timestamp   oof_min_x  \\\n",
       "0       5a0546857ecc773753327266_5d10a1669c50c70008fe8...   82.634249   \n",
       "1       5a0546857ecc773753327266_5d10a1669c50c70008fe8...   82.639374   \n",
       "2       5a0546857ecc773753327266_5d10a1669c50c70008fe8...   84.219459   \n",
       "3       5a0546857ecc773753327266_5d10a1669c50c70008fe8...   84.228795   \n",
       "4       5a0546857ecc773753327266_5d10a1669c50c70008fe8...   84.242948   \n",
       "...                                                   ...         ...   \n",
       "256744  5dc8cea7659e181adb076a3f_5dd7c119c5b77e0006b16...  200.988469   \n",
       "256745  5dc8cea7659e181adb076a3f_5dd7c119c5b77e0006b16...  200.965273   \n",
       "256746  5dc8cea7659e181adb076a3f_5dd7c119c5b77e0006b16...  207.418033   \n",
       "256747  5dc8cea7659e181adb076a3f_5dd7c119c5b77e0006b16...  207.405281   \n",
       "256748  5dc8cea7659e181adb076a3f_5dd7c119c5b77e0006b16...  207.398876   \n",
       "\n",
       "         oof_min_y  \n",
       "0        38.080288  \n",
       "1        38.078567  \n",
       "2        28.766186  \n",
       "3        28.767755  \n",
       "4        28.769135  \n",
       "...            ...  \n",
       "256744  104.478296  \n",
       "256745  104.478859  \n",
       "256746  106.597045  \n",
       "256747  106.594964  \n",
       "256748  106.594838  \n",
       "\n",
       "[256749 rows x 16 columns]"
      ],
      "text/html": "<div>\n<style scoped>\n    .dataframe tbody tr th:only-of-type {\n        vertical-align: middle;\n    }\n\n    .dataframe tbody tr th {\n        vertical-align: top;\n    }\n\n    .dataframe thead th {\n        text-align: right;\n    }\n</style>\n<table border=\"1\" class=\"dataframe\">\n  <thead>\n    <tr style=\"text-align: right;\">\n      <th></th>\n      <th>timestamp</th>\n      <th>target_x</th>\n      <th>target_y</th>\n      <th>floor</th>\n      <th>ix</th>\n      <th>iy</th>\n      <th>floor_str</th>\n      <th>path</th>\n      <th>site_id</th>\n      <th>site_id_str</th>\n      <th>oof_x</th>\n      <th>oof_y</th>\n      <th>oof_floor</th>\n      <th>site_path_timestamp</th>\n      <th>oof_min_x</th>\n      <th>oof_min_y</th>\n    </tr>\n  </thead>\n  <tbody>\n    <tr>\n      <th>0</th>\n      <td>1561368762838</td>\n      <td>78.218193</td>\n      <td>38.999737</td>\n      <td>2.0</td>\n      <td>77.843651</td>\n      <td>37.382805</td>\n      <td>F3</td>\n      <td>5d10a1669c50c70008fe8977</td>\n      <td>0</td>\n      <td>5a0546857ecc773753327266</td>\n      <td>78.898567</td>\n      <td>39.335052</td>\n      <td>0.000000</td>\n      <td>5a0546857ecc773753327266_5d10a1669c50c70008fe8...</td>\n      <td>82.634249</td>\n      <td>38.080288</td>\n    </tr>\n    <tr>\n      <th>1</th>\n      <td>1561368762838</td>\n      <td>78.218193</td>\n      <td>38.999737</td>\n      <td>2.0</td>\n      <td>77.562737</td>\n      <td>36.170105</td>\n      <td>F3</td>\n      <td>5d10a1669c50c70008fe8977</td>\n      <td>0</td>\n      <td>5a0546857ecc773753327266</td>\n      <td>81.260681</td>\n      <td>33.549149</td>\n      <td>0.000000</td>\n      <td>5a0546857ecc773753327266_5d10a1669c50c70008fe8...</td>\n      <td>82.639374</td>\n      <td>38.078567</td>\n    </tr>\n    <tr>\n      <th>2</th>\n      <td>1561368774057</td>\n      <td>76.251839</td>\n      <td>30.510839</td>\n      <td>2.0</td>\n      <td>76.308945</td>\n      <td>29.970827</td>\n      <td>F3</td>\n      <td>5d10a1669c50c70008fe8977</td>\n      <td>0</td>\n      <td>5a0546857ecc773753327266</td>\n      <td>82.527695</td>\n      <td>30.896685</td>\n      <td>0.000000</td>\n      <td>5a0546857ecc773753327266_5d10a1669c50c70008fe8...</td>\n      <td>84.219459</td>\n      <td>28.766186</td>\n    </tr>\n    <tr>\n      <th>3</th>\n      <td>1561368774057</td>\n      <td>76.251839</td>\n      <td>30.510839</td>\n      <td>2.0</td>\n      <td>77.222664</td>\n      <td>21.330624</td>\n      <td>F3</td>\n      <td>5d10a1669c50c70008fe8977</td>\n      <td>0</td>\n      <td>5a0546857ecc773753327266</td>\n      <td>80.717308</td>\n      <td>28.906256</td>\n      <td>0.000000</td>\n      <td>5a0546857ecc773753327266_5d10a1669c50c70008fe8...</td>\n      <td>84.228795</td>\n      <td>28.767755</td>\n    </tr>\n    <tr>\n      <th>4</th>\n      <td>1561368774057</td>\n      <td>76.251839</td>\n      <td>30.510839</td>\n      <td>2.0</td>\n      <td>76.994240</td>\n      <td>23.490675</td>\n      <td>F3</td>\n      <td>5d10a1669c50c70008fe8977</td>\n      <td>0</td>\n      <td>5a0546857ecc773753327266</td>\n      <td>79.884903</td>\n      <td>26.587894</td>\n      <td>0.000000</td>\n      <td>5a0546857ecc773753327266_5d10a1669c50c70008fe8...</td>\n      <td>84.242948</td>\n      <td>28.769135</td>\n    </tr>\n    <tr>\n      <th>...</th>\n      <td>...</td>\n      <td>...</td>\n      <td>...</td>\n      <td>...</td>\n      <td>...</td>\n      <td>...</td>\n      <td>...</td>\n      <td>...</td>\n      <td>...</td>\n      <td>...</td>\n      <td>...</td>\n      <td>...</td>\n      <td>...</td>\n      <td>...</td>\n      <td>...</td>\n      <td>...</td>\n    </tr>\n    <tr>\n      <th>256744</th>\n      <td>1574420742502</td>\n      <td>193.204880</td>\n      <td>108.001518</td>\n      <td>-1.0</td>\n      <td>195.845032</td>\n      <td>107.961899</td>\n      <td>B1</td>\n      <td>5dd7c119c5b77e0006b16b99</td>\n      <td>23</td>\n      <td>5dc8cea7659e181adb076a3f</td>\n      <td>201.334671</td>\n      <td>105.369644</td>\n      <td>0.433354</td>\n      <td>5dc8cea7659e181adb076a3f_5dd7c119c5b77e0006b16...</td>\n      <td>200.988469</td>\n      <td>104.478296</td>\n    </tr>\n    <tr>\n      <th>256745</th>\n      <td>1574420742502</td>\n      <td>193.204880</td>\n      <td>108.001518</td>\n      <td>-1.0</td>\n      <td>197.957138</td>\n      <td>107.930206</td>\n      <td>B1</td>\n      <td>5dd7c119c5b77e0006b16b99</td>\n      <td>23</td>\n      <td>5dc8cea7659e181adb076a3f</td>\n      <td>198.972198</td>\n      <td>106.005524</td>\n      <td>0.426785</td>\n      <td>5dc8cea7659e181adb076a3f_5dd7c119c5b77e0006b16...</td>\n      <td>200.965273</td>\n      <td>104.478859</td>\n    </tr>\n    <tr>\n      <th>256746</th>\n      <td>1574420753754</td>\n      <td>204.293488</td>\n      <td>107.835121</td>\n      <td>-1.0</td>\n      <td>201.653351</td>\n      <td>107.874741</td>\n      <td>B1</td>\n      <td>5dd7c119c5b77e0006b16b99</td>\n      <td>23</td>\n      <td>5dc8cea7659e181adb076a3f</td>\n      <td>201.797028</td>\n      <td>106.997734</td>\n      <td>0.436648</td>\n      <td>5dc8cea7659e181adb076a3f_5dd7c119c5b77e0006b16...</td>\n      <td>207.418033</td>\n      <td>106.597045</td>\n    </tr>\n    <tr>\n      <th>256747</th>\n      <td>1574420753754</td>\n      <td>204.293488</td>\n      <td>107.835121</td>\n      <td>-1.0</td>\n      <td>203.237427</td>\n      <td>107.850967</td>\n      <td>B1</td>\n      <td>5dd7c119c5b77e0006b16b99</td>\n      <td>23</td>\n      <td>5dc8cea7659e181adb076a3f</td>\n      <td>202.778946</td>\n      <td>105.169876</td>\n      <td>0.437685</td>\n      <td>5dc8cea7659e181adb076a3f_5dd7c119c5b77e0006b16...</td>\n      <td>207.405281</td>\n      <td>106.594964</td>\n    </tr>\n    <tr>\n      <th>256748</th>\n      <td>1574420753754</td>\n      <td>204.293488</td>\n      <td>107.835121</td>\n      <td>-1.0</td>\n      <td>200.069260</td>\n      <td>107.898514</td>\n      <td>B1</td>\n      <td>5dd7c119c5b77e0006b16b99</td>\n      <td>23</td>\n      <td>5dc8cea7659e181adb076a3f</td>\n      <td>202.729416</td>\n      <td>106.502975</td>\n      <td>0.438920</td>\n      <td>5dc8cea7659e181adb076a3f_5dd7c119c5b77e0006b16...</td>\n      <td>207.398876</td>\n      <td>106.594838</td>\n    </tr>\n  </tbody>\n</table>\n<p>256749 rows × 16 columns</p>\n</div>"
     },
     "metadata": {},
     "execution_count": 44
    }
   ],
   "source": [
    "\n",
    "oofs_df"
   ]
  },
  {
   "cell_type": "code",
   "execution_count": 45,
   "metadata": {},
   "outputs": [
    {
     "output_type": "stream",
     "name": "stderr",
     "text": [
      "100%|██████████| 139/139 [01:39<00:00,  1.39it/s]\n"
     ]
    },
    {
     "output_type": "execute_result",
     "data": {
      "text/plain": [
       "                            site                      path      timestamp  \\\n",
       "0       5a0546857ecc773753327266  5d10a1669c50c70008fe8977  1561368762838   \n",
       "1       5a0546857ecc773753327266  5d10a1669c50c70008fe8977  1561368762838   \n",
       "2       5a0546857ecc773753327266  5d10a1669c50c70008fe8977  1561368774057   \n",
       "3       5a0546857ecc773753327266  5d10a1669c50c70008fe8977  1561368774057   \n",
       "4       5a0546857ecc773753327266  5d10a1669c50c70008fe8977  1561368774057   \n",
       "...                          ...                       ...            ...   \n",
       "256744  5dc8cea7659e181adb076a3f  5dd7c119c5b77e0006b16b99  1574420742502   \n",
       "256745  5dc8cea7659e181adb076a3f  5dd7c119c5b77e0006b16b99  1574420742502   \n",
       "256746  5dc8cea7659e181adb076a3f  5dd7c119c5b77e0006b16b99  1574420753754   \n",
       "256747  5dc8cea7659e181adb076a3f  5dd7c119c5b77e0006b16b99  1574420753754   \n",
       "256748  5dc8cea7659e181adb076a3f  5dd7c119c5b77e0006b16b99  1574420753754   \n",
       "\n",
       "                                      site_path_timestamp  floor           x  \\\n",
       "0       5a0546857ecc773753327266_5d10a1669c50c70008fe8...    2.0   82.634249   \n",
       "1       5a0546857ecc773753327266_5d10a1669c50c70008fe8...    2.0   82.639374   \n",
       "2       5a0546857ecc773753327266_5d10a1669c50c70008fe8...    2.0   84.219459   \n",
       "3       5a0546857ecc773753327266_5d10a1669c50c70008fe8...    2.0   84.228795   \n",
       "4       5a0546857ecc773753327266_5d10a1669c50c70008fe8...    2.0   84.242948   \n",
       "...                                                   ...    ...         ...   \n",
       "256744  5dc8cea7659e181adb076a3f_5dd7c119c5b77e0006b16...   -1.0  200.988469   \n",
       "256745  5dc8cea7659e181adb076a3f_5dd7c119c5b77e0006b16...   -1.0  200.965273   \n",
       "256746  5dc8cea7659e181adb076a3f_5dd7c119c5b77e0006b16...   -1.0  207.418033   \n",
       "256747  5dc8cea7659e181adb076a3f_5dd7c119c5b77e0006b16...   -1.0  207.405281   \n",
       "256748  5dc8cea7659e181adb076a3f_5dd7c119c5b77e0006b16...   -1.0  207.398876   \n",
       "\n",
       "                 y floorNo  isTrainWaypoint  \\\n",
       "0        38.080288      F3            False   \n",
       "1        38.078567      F3            False   \n",
       "2        28.766186      F3            False   \n",
       "3        28.767755      F3            False   \n",
       "4        28.769135      F3            False   \n",
       "...            ...     ...              ...   \n",
       "256744  104.478296      B1            False   \n",
       "256745  104.478859      B1            False   \n",
       "256746  106.597045      B1            False   \n",
       "256747  106.594964      B1            False   \n",
       "256748  106.594838      B1            False   \n",
       "\n",
       "                                              xy           matched_point  \\\n",
       "0          (82.6342491170629, 38.08028809453274)    (80.6814, 39.265667)   \n",
       "1         (82.63937350926777, 38.07856688136991)    (80.6814, 39.265667)   \n",
       "2        (84.21945875223538, 28.766185968669767)    (84.22669, 27.13862)   \n",
       "3         (84.22879501879828, 28.76775545460688)    (84.22669, 27.13862)   \n",
       "4        (84.24294813992137, 28.769134953894568)    (84.22669, 27.13862)   \n",
       "...                                          ...                     ...   \n",
       "256744  (200.98846939181684, 104.47829590601565)  (200.75478, 106.75563)   \n",
       "256745   (200.96527340355962, 104.4788588723147)  (200.75478, 106.75563)   \n",
       "256746  (207.41803269657245, 106.59704525118721)   (208.15857, 104.7078)   \n",
       "256747  (207.40528126253457, 106.59496438534912)   (208.15857, 104.7078)   \n",
       "256748   (207.3988759675086, 106.59483837312791)   (208.15857, 104.7078)   \n",
       "\n",
       "        oof_min_snap_x  oof_min_snap_y  \n",
       "0             80.68140       39.265667  \n",
       "1             80.68140       39.265667  \n",
       "2             84.22669       27.138620  \n",
       "3             84.22669       27.138620  \n",
       "4             84.22669       27.138620  \n",
       "...                ...             ...  \n",
       "256744       200.75478      106.755630  \n",
       "256745       200.75478      106.755630  \n",
       "256746       208.15857      104.707800  \n",
       "256747       208.15857      104.707800  \n",
       "256748       208.15857      104.707800  \n",
       "\n",
       "[256749 rows x 13 columns]"
      ],
      "text/html": "<div>\n<style scoped>\n    .dataframe tbody tr th:only-of-type {\n        vertical-align: middle;\n    }\n\n    .dataframe tbody tr th {\n        vertical-align: top;\n    }\n\n    .dataframe thead th {\n        text-align: right;\n    }\n</style>\n<table border=\"1\" class=\"dataframe\">\n  <thead>\n    <tr style=\"text-align: right;\">\n      <th></th>\n      <th>site</th>\n      <th>path</th>\n      <th>timestamp</th>\n      <th>site_path_timestamp</th>\n      <th>floor</th>\n      <th>x</th>\n      <th>y</th>\n      <th>floorNo</th>\n      <th>isTrainWaypoint</th>\n      <th>xy</th>\n      <th>matched_point</th>\n      <th>oof_min_snap_x</th>\n      <th>oof_min_snap_y</th>\n    </tr>\n  </thead>\n  <tbody>\n    <tr>\n      <th>0</th>\n      <td>5a0546857ecc773753327266</td>\n      <td>5d10a1669c50c70008fe8977</td>\n      <td>1561368762838</td>\n      <td>5a0546857ecc773753327266_5d10a1669c50c70008fe8...</td>\n      <td>2.0</td>\n      <td>82.634249</td>\n      <td>38.080288</td>\n      <td>F3</td>\n      <td>False</td>\n      <td>(82.6342491170629, 38.08028809453274)</td>\n      <td>(80.6814, 39.265667)</td>\n      <td>80.68140</td>\n      <td>39.265667</td>\n    </tr>\n    <tr>\n      <th>1</th>\n      <td>5a0546857ecc773753327266</td>\n      <td>5d10a1669c50c70008fe8977</td>\n      <td>1561368762838</td>\n      <td>5a0546857ecc773753327266_5d10a1669c50c70008fe8...</td>\n      <td>2.0</td>\n      <td>82.639374</td>\n      <td>38.078567</td>\n      <td>F3</td>\n      <td>False</td>\n      <td>(82.63937350926777, 38.07856688136991)</td>\n      <td>(80.6814, 39.265667)</td>\n      <td>80.68140</td>\n      <td>39.265667</td>\n    </tr>\n    <tr>\n      <th>2</th>\n      <td>5a0546857ecc773753327266</td>\n      <td>5d10a1669c50c70008fe8977</td>\n      <td>1561368774057</td>\n      <td>5a0546857ecc773753327266_5d10a1669c50c70008fe8...</td>\n      <td>2.0</td>\n      <td>84.219459</td>\n      <td>28.766186</td>\n      <td>F3</td>\n      <td>False</td>\n      <td>(84.21945875223538, 28.766185968669767)</td>\n      <td>(84.22669, 27.13862)</td>\n      <td>84.22669</td>\n      <td>27.138620</td>\n    </tr>\n    <tr>\n      <th>3</th>\n      <td>5a0546857ecc773753327266</td>\n      <td>5d10a1669c50c70008fe8977</td>\n      <td>1561368774057</td>\n      <td>5a0546857ecc773753327266_5d10a1669c50c70008fe8...</td>\n      <td>2.0</td>\n      <td>84.228795</td>\n      <td>28.767755</td>\n      <td>F3</td>\n      <td>False</td>\n      <td>(84.22879501879828, 28.76775545460688)</td>\n      <td>(84.22669, 27.13862)</td>\n      <td>84.22669</td>\n      <td>27.138620</td>\n    </tr>\n    <tr>\n      <th>4</th>\n      <td>5a0546857ecc773753327266</td>\n      <td>5d10a1669c50c70008fe8977</td>\n      <td>1561368774057</td>\n      <td>5a0546857ecc773753327266_5d10a1669c50c70008fe8...</td>\n      <td>2.0</td>\n      <td>84.242948</td>\n      <td>28.769135</td>\n      <td>F3</td>\n      <td>False</td>\n      <td>(84.24294813992137, 28.769134953894568)</td>\n      <td>(84.22669, 27.13862)</td>\n      <td>84.22669</td>\n      <td>27.138620</td>\n    </tr>\n    <tr>\n      <th>...</th>\n      <td>...</td>\n      <td>...</td>\n      <td>...</td>\n      <td>...</td>\n      <td>...</td>\n      <td>...</td>\n      <td>...</td>\n      <td>...</td>\n      <td>...</td>\n      <td>...</td>\n      <td>...</td>\n      <td>...</td>\n      <td>...</td>\n    </tr>\n    <tr>\n      <th>256744</th>\n      <td>5dc8cea7659e181adb076a3f</td>\n      <td>5dd7c119c5b77e0006b16b99</td>\n      <td>1574420742502</td>\n      <td>5dc8cea7659e181adb076a3f_5dd7c119c5b77e0006b16...</td>\n      <td>-1.0</td>\n      <td>200.988469</td>\n      <td>104.478296</td>\n      <td>B1</td>\n      <td>False</td>\n      <td>(200.98846939181684, 104.47829590601565)</td>\n      <td>(200.75478, 106.75563)</td>\n      <td>200.75478</td>\n      <td>106.755630</td>\n    </tr>\n    <tr>\n      <th>256745</th>\n      <td>5dc8cea7659e181adb076a3f</td>\n      <td>5dd7c119c5b77e0006b16b99</td>\n      <td>1574420742502</td>\n      <td>5dc8cea7659e181adb076a3f_5dd7c119c5b77e0006b16...</td>\n      <td>-1.0</td>\n      <td>200.965273</td>\n      <td>104.478859</td>\n      <td>B1</td>\n      <td>False</td>\n      <td>(200.96527340355962, 104.4788588723147)</td>\n      <td>(200.75478, 106.75563)</td>\n      <td>200.75478</td>\n      <td>106.755630</td>\n    </tr>\n    <tr>\n      <th>256746</th>\n      <td>5dc8cea7659e181adb076a3f</td>\n      <td>5dd7c119c5b77e0006b16b99</td>\n      <td>1574420753754</td>\n      <td>5dc8cea7659e181adb076a3f_5dd7c119c5b77e0006b16...</td>\n      <td>-1.0</td>\n      <td>207.418033</td>\n      <td>106.597045</td>\n      <td>B1</td>\n      <td>False</td>\n      <td>(207.41803269657245, 106.59704525118721)</td>\n      <td>(208.15857, 104.7078)</td>\n      <td>208.15857</td>\n      <td>104.707800</td>\n    </tr>\n    <tr>\n      <th>256747</th>\n      <td>5dc8cea7659e181adb076a3f</td>\n      <td>5dd7c119c5b77e0006b16b99</td>\n      <td>1574420753754</td>\n      <td>5dc8cea7659e181adb076a3f_5dd7c119c5b77e0006b16...</td>\n      <td>-1.0</td>\n      <td>207.405281</td>\n      <td>106.594964</td>\n      <td>B1</td>\n      <td>False</td>\n      <td>(207.40528126253457, 106.59496438534912)</td>\n      <td>(208.15857, 104.7078)</td>\n      <td>208.15857</td>\n      <td>104.707800</td>\n    </tr>\n    <tr>\n      <th>256748</th>\n      <td>5dc8cea7659e181adb076a3f</td>\n      <td>5dd7c119c5b77e0006b16b99</td>\n      <td>1574420753754</td>\n      <td>5dc8cea7659e181adb076a3f_5dd7c119c5b77e0006b16...</td>\n      <td>-1.0</td>\n      <td>207.398876</td>\n      <td>106.594838</td>\n      <td>B1</td>\n      <td>False</td>\n      <td>(207.3988759675086, 106.59483837312791)</td>\n      <td>(208.15857, 104.7078)</td>\n      <td>208.15857</td>\n      <td>104.707800</td>\n    </tr>\n  </tbody>\n</table>\n<p>256749 rows × 13 columns</p>\n</div>"
     },
     "metadata": {},
     "execution_count": 45
    }
   ],
   "source": [
    "train_waypoints = pd.read_csv('../../input/indoor-location-train-waypoints/train_waypoints.csv')\n",
    "# 線形補完しているwaypointをtrain_waypoints（grid）とする。gridを増やすのが狙い。\n",
    "# train_waypoints = oofs_df[['oof_x', 'oof_y', 'timestamp', 'site_id_str', 'floor', 'floor_str', 'path']]\n",
    "# train_waypoints = train_waypoints.rename(columns={'oof_x':'x', 'oof_y':\"y\", 'site_id_str':\"site\", 'floor_str':'floorNo'})\n",
    "\n",
    "snap_df = oofs_df[['site_path_timestamp','floor','oof_min_x','oof_min_y']].copy()\n",
    "snap_df = snap_df.rename(columns={'oof_min_x':'x', 'oof_min_y':'y'})\n",
    "snap_df = sub_process(snap_df, train_waypoints)\n",
    "snap_df = add_xy(snap_df)\n",
    "train_waypoints = add_xy(train_waypoints)\n",
    "\n",
    "ds = []\n",
    "for (site, myfloor), d in tqdm(snap_df.groupby(['site','floor'])):\n",
    "    true_floor_locs = train_waypoints.loc[(train_waypoints['floor'] == myfloor) &\n",
    "                                          (train_waypoints['site'] == site)] \\\n",
    "        .reset_index(drop=True)\n",
    "    if len(true_floor_locs) == 0:\n",
    "        print(f'Skipping {site} {myfloor}')\n",
    "        continue\n",
    "    d['matched_point'] = [closest_point(x, list(true_floor_locs['xy'])) for x in d['xy']]\n",
    "    d['oof_min_snap_x'] = d['matched_point'].apply(lambda x: x[0])\n",
    "    d['oof_min_snap_y'] = d['matched_point'].apply(lambda x: x[1])\n",
    "    ds.append(d)\n",
    "\n",
    "# 上書き\n",
    "snap_df = pd.concat(ds).sort_index()\n",
    "snap_df"
   ]
  },
  {
   "cell_type": "code",
   "execution_count": 46,
   "metadata": {},
   "outputs": [
    {
     "output_type": "execute_result",
     "data": {
      "text/plain": [
       "            timestamp    target_x    target_y  floor          ix          iy  \\\n",
       "0       1561368762838   78.218193   38.999737    2.0   77.843651   37.382805   \n",
       "1       1561368762838   78.218193   38.999737    2.0   77.562737   36.170105   \n",
       "2       1561368774057   76.251839   30.510839    2.0   76.308945   29.970827   \n",
       "3       1561368774057   76.251839   30.510839    2.0   77.222664   21.330624   \n",
       "4       1561368774057   76.251839   30.510839    2.0   76.994240   23.490675   \n",
       "...               ...         ...         ...    ...         ...         ...   \n",
       "256744  1574420742502  193.204880  108.001518   -1.0  195.845032  107.961899   \n",
       "256745  1574420742502  193.204880  108.001518   -1.0  197.957138  107.930206   \n",
       "256746  1574420753754  204.293488  107.835121   -1.0  201.653351  107.874741   \n",
       "256747  1574420753754  204.293488  107.835121   -1.0  203.237427  107.850967   \n",
       "256748  1574420753754  204.293488  107.835121   -1.0  200.069260  107.898514   \n",
       "\n",
       "       floor_str                      path  site_id               site_id_str  \\\n",
       "0             F3  5d10a1669c50c70008fe8977        0  5a0546857ecc773753327266   \n",
       "1             F3  5d10a1669c50c70008fe8977        0  5a0546857ecc773753327266   \n",
       "2             F3  5d10a1669c50c70008fe8977        0  5a0546857ecc773753327266   \n",
       "3             F3  5d10a1669c50c70008fe8977        0  5a0546857ecc773753327266   \n",
       "4             F3  5d10a1669c50c70008fe8977        0  5a0546857ecc773753327266   \n",
       "...          ...                       ...      ...                       ...   \n",
       "256744        B1  5dd7c119c5b77e0006b16b99       23  5dc8cea7659e181adb076a3f   \n",
       "256745        B1  5dd7c119c5b77e0006b16b99       23  5dc8cea7659e181adb076a3f   \n",
       "256746        B1  5dd7c119c5b77e0006b16b99       23  5dc8cea7659e181adb076a3f   \n",
       "256747        B1  5dd7c119c5b77e0006b16b99       23  5dc8cea7659e181adb076a3f   \n",
       "256748        B1  5dd7c119c5b77e0006b16b99       23  5dc8cea7659e181adb076a3f   \n",
       "\n",
       "             oof_x       oof_y  oof_floor  \\\n",
       "0        78.898567   39.335052   0.000000   \n",
       "1        81.260681   33.549149   0.000000   \n",
       "2        82.527695   30.896685   0.000000   \n",
       "3        80.717308   28.906256   0.000000   \n",
       "4        79.884903   26.587894   0.000000   \n",
       "...            ...         ...        ...   \n",
       "256744  201.334671  105.369644   0.433354   \n",
       "256745  198.972198  106.005524   0.426785   \n",
       "256746  201.797028  106.997734   0.436648   \n",
       "256747  202.778946  105.169876   0.437685   \n",
       "256748  202.729416  106.502975   0.438920   \n",
       "\n",
       "                                      site_path_timestamp   oof_min_x  \\\n",
       "0       5a0546857ecc773753327266_5d10a1669c50c70008fe8...   82.634249   \n",
       "1       5a0546857ecc773753327266_5d10a1669c50c70008fe8...   82.639374   \n",
       "2       5a0546857ecc773753327266_5d10a1669c50c70008fe8...   84.219459   \n",
       "3       5a0546857ecc773753327266_5d10a1669c50c70008fe8...   84.228795   \n",
       "4       5a0546857ecc773753327266_5d10a1669c50c70008fe8...   84.242948   \n",
       "...                                                   ...         ...   \n",
       "256744  5dc8cea7659e181adb076a3f_5dd7c119c5b77e0006b16...  200.988469   \n",
       "256745  5dc8cea7659e181adb076a3f_5dd7c119c5b77e0006b16...  200.965273   \n",
       "256746  5dc8cea7659e181adb076a3f_5dd7c119c5b77e0006b16...  207.418033   \n",
       "256747  5dc8cea7659e181adb076a3f_5dd7c119c5b77e0006b16...  207.405281   \n",
       "256748  5dc8cea7659e181adb076a3f_5dd7c119c5b77e0006b16...  207.398876   \n",
       "\n",
       "         oof_min_y  oof_min_snap_x  oof_min_snap_y  \n",
       "0        38.080288        80.68140       39.265667  \n",
       "1        38.078567        80.68140       39.265667  \n",
       "2        28.766186        84.22669       27.138620  \n",
       "3        28.767755        84.22669       27.138620  \n",
       "4        28.769135        84.22669       27.138620  \n",
       "...            ...             ...             ...  \n",
       "256744  104.478296       200.75478      106.755630  \n",
       "256745  104.478859       200.75478      106.755630  \n",
       "256746  106.597045       208.15857      104.707800  \n",
       "256747  106.594964       208.15857      104.707800  \n",
       "256748  106.594838       208.15857      104.707800  \n",
       "\n",
       "[256749 rows x 18 columns]"
      ],
      "text/html": "<div>\n<style scoped>\n    .dataframe tbody tr th:only-of-type {\n        vertical-align: middle;\n    }\n\n    .dataframe tbody tr th {\n        vertical-align: top;\n    }\n\n    .dataframe thead th {\n        text-align: right;\n    }\n</style>\n<table border=\"1\" class=\"dataframe\">\n  <thead>\n    <tr style=\"text-align: right;\">\n      <th></th>\n      <th>timestamp</th>\n      <th>target_x</th>\n      <th>target_y</th>\n      <th>floor</th>\n      <th>ix</th>\n      <th>iy</th>\n      <th>floor_str</th>\n      <th>path</th>\n      <th>site_id</th>\n      <th>site_id_str</th>\n      <th>oof_x</th>\n      <th>oof_y</th>\n      <th>oof_floor</th>\n      <th>site_path_timestamp</th>\n      <th>oof_min_x</th>\n      <th>oof_min_y</th>\n      <th>oof_min_snap_x</th>\n      <th>oof_min_snap_y</th>\n    </tr>\n  </thead>\n  <tbody>\n    <tr>\n      <th>0</th>\n      <td>1561368762838</td>\n      <td>78.218193</td>\n      <td>38.999737</td>\n      <td>2.0</td>\n      <td>77.843651</td>\n      <td>37.382805</td>\n      <td>F3</td>\n      <td>5d10a1669c50c70008fe8977</td>\n      <td>0</td>\n      <td>5a0546857ecc773753327266</td>\n      <td>78.898567</td>\n      <td>39.335052</td>\n      <td>0.000000</td>\n      <td>5a0546857ecc773753327266_5d10a1669c50c70008fe8...</td>\n      <td>82.634249</td>\n      <td>38.080288</td>\n      <td>80.68140</td>\n      <td>39.265667</td>\n    </tr>\n    <tr>\n      <th>1</th>\n      <td>1561368762838</td>\n      <td>78.218193</td>\n      <td>38.999737</td>\n      <td>2.0</td>\n      <td>77.562737</td>\n      <td>36.170105</td>\n      <td>F3</td>\n      <td>5d10a1669c50c70008fe8977</td>\n      <td>0</td>\n      <td>5a0546857ecc773753327266</td>\n      <td>81.260681</td>\n      <td>33.549149</td>\n      <td>0.000000</td>\n      <td>5a0546857ecc773753327266_5d10a1669c50c70008fe8...</td>\n      <td>82.639374</td>\n      <td>38.078567</td>\n      <td>80.68140</td>\n      <td>39.265667</td>\n    </tr>\n    <tr>\n      <th>2</th>\n      <td>1561368774057</td>\n      <td>76.251839</td>\n      <td>30.510839</td>\n      <td>2.0</td>\n      <td>76.308945</td>\n      <td>29.970827</td>\n      <td>F3</td>\n      <td>5d10a1669c50c70008fe8977</td>\n      <td>0</td>\n      <td>5a0546857ecc773753327266</td>\n      <td>82.527695</td>\n      <td>30.896685</td>\n      <td>0.000000</td>\n      <td>5a0546857ecc773753327266_5d10a1669c50c70008fe8...</td>\n      <td>84.219459</td>\n      <td>28.766186</td>\n      <td>84.22669</td>\n      <td>27.138620</td>\n    </tr>\n    <tr>\n      <th>3</th>\n      <td>1561368774057</td>\n      <td>76.251839</td>\n      <td>30.510839</td>\n      <td>2.0</td>\n      <td>77.222664</td>\n      <td>21.330624</td>\n      <td>F3</td>\n      <td>5d10a1669c50c70008fe8977</td>\n      <td>0</td>\n      <td>5a0546857ecc773753327266</td>\n      <td>80.717308</td>\n      <td>28.906256</td>\n      <td>0.000000</td>\n      <td>5a0546857ecc773753327266_5d10a1669c50c70008fe8...</td>\n      <td>84.228795</td>\n      <td>28.767755</td>\n      <td>84.22669</td>\n      <td>27.138620</td>\n    </tr>\n    <tr>\n      <th>4</th>\n      <td>1561368774057</td>\n      <td>76.251839</td>\n      <td>30.510839</td>\n      <td>2.0</td>\n      <td>76.994240</td>\n      <td>23.490675</td>\n      <td>F3</td>\n      <td>5d10a1669c50c70008fe8977</td>\n      <td>0</td>\n      <td>5a0546857ecc773753327266</td>\n      <td>79.884903</td>\n      <td>26.587894</td>\n      <td>0.000000</td>\n      <td>5a0546857ecc773753327266_5d10a1669c50c70008fe8...</td>\n      <td>84.242948</td>\n      <td>28.769135</td>\n      <td>84.22669</td>\n      <td>27.138620</td>\n    </tr>\n    <tr>\n      <th>...</th>\n      <td>...</td>\n      <td>...</td>\n      <td>...</td>\n      <td>...</td>\n      <td>...</td>\n      <td>...</td>\n      <td>...</td>\n      <td>...</td>\n      <td>...</td>\n      <td>...</td>\n      <td>...</td>\n      <td>...</td>\n      <td>...</td>\n      <td>...</td>\n      <td>...</td>\n      <td>...</td>\n      <td>...</td>\n      <td>...</td>\n    </tr>\n    <tr>\n      <th>256744</th>\n      <td>1574420742502</td>\n      <td>193.204880</td>\n      <td>108.001518</td>\n      <td>-1.0</td>\n      <td>195.845032</td>\n      <td>107.961899</td>\n      <td>B1</td>\n      <td>5dd7c119c5b77e0006b16b99</td>\n      <td>23</td>\n      <td>5dc8cea7659e181adb076a3f</td>\n      <td>201.334671</td>\n      <td>105.369644</td>\n      <td>0.433354</td>\n      <td>5dc8cea7659e181adb076a3f_5dd7c119c5b77e0006b16...</td>\n      <td>200.988469</td>\n      <td>104.478296</td>\n      <td>200.75478</td>\n      <td>106.755630</td>\n    </tr>\n    <tr>\n      <th>256745</th>\n      <td>1574420742502</td>\n      <td>193.204880</td>\n      <td>108.001518</td>\n      <td>-1.0</td>\n      <td>197.957138</td>\n      <td>107.930206</td>\n      <td>B1</td>\n      <td>5dd7c119c5b77e0006b16b99</td>\n      <td>23</td>\n      <td>5dc8cea7659e181adb076a3f</td>\n      <td>198.972198</td>\n      <td>106.005524</td>\n      <td>0.426785</td>\n      <td>5dc8cea7659e181adb076a3f_5dd7c119c5b77e0006b16...</td>\n      <td>200.965273</td>\n      <td>104.478859</td>\n      <td>200.75478</td>\n      <td>106.755630</td>\n    </tr>\n    <tr>\n      <th>256746</th>\n      <td>1574420753754</td>\n      <td>204.293488</td>\n      <td>107.835121</td>\n      <td>-1.0</td>\n      <td>201.653351</td>\n      <td>107.874741</td>\n      <td>B1</td>\n      <td>5dd7c119c5b77e0006b16b99</td>\n      <td>23</td>\n      <td>5dc8cea7659e181adb076a3f</td>\n      <td>201.797028</td>\n      <td>106.997734</td>\n      <td>0.436648</td>\n      <td>5dc8cea7659e181adb076a3f_5dd7c119c5b77e0006b16...</td>\n      <td>207.418033</td>\n      <td>106.597045</td>\n      <td>208.15857</td>\n      <td>104.707800</td>\n    </tr>\n    <tr>\n      <th>256747</th>\n      <td>1574420753754</td>\n      <td>204.293488</td>\n      <td>107.835121</td>\n      <td>-1.0</td>\n      <td>203.237427</td>\n      <td>107.850967</td>\n      <td>B1</td>\n      <td>5dd7c119c5b77e0006b16b99</td>\n      <td>23</td>\n      <td>5dc8cea7659e181adb076a3f</td>\n      <td>202.778946</td>\n      <td>105.169876</td>\n      <td>0.437685</td>\n      <td>5dc8cea7659e181adb076a3f_5dd7c119c5b77e0006b16...</td>\n      <td>207.405281</td>\n      <td>106.594964</td>\n      <td>208.15857</td>\n      <td>104.707800</td>\n    </tr>\n    <tr>\n      <th>256748</th>\n      <td>1574420753754</td>\n      <td>204.293488</td>\n      <td>107.835121</td>\n      <td>-1.0</td>\n      <td>200.069260</td>\n      <td>107.898514</td>\n      <td>B1</td>\n      <td>5dd7c119c5b77e0006b16b99</td>\n      <td>23</td>\n      <td>5dc8cea7659e181adb076a3f</td>\n      <td>202.729416</td>\n      <td>106.502975</td>\n      <td>0.438920</td>\n      <td>5dc8cea7659e181adb076a3f_5dd7c119c5b77e0006b16...</td>\n      <td>207.398876</td>\n      <td>106.594838</td>\n      <td>208.15857</td>\n      <td>104.707800</td>\n    </tr>\n  </tbody>\n</table>\n<p>256749 rows × 18 columns</p>\n</div>"
     },
     "metadata": {},
     "execution_count": 46
    }
   ],
   "source": [
    "oofs_df['oof_min_snap_x'] = snap_df['oof_min_snap_x']\n",
    "oofs_df['oof_min_snap_y'] = snap_df['oof_min_snap_y']\n",
    "oofs_df"
   ]
  },
  {
   "cell_type": "code",
   "execution_count": 47,
   "metadata": {},
   "outputs": [
    {
     "output_type": "stream",
     "name": "stdout",
     "text": [
      "(after cost-min + snap) CV:5.385620594586939\n"
     ]
    }
   ],
   "source": [
    "# waypoint補正前のx,yでの評価\n",
    "oof_score_post_process = mean_position_error(\n",
    "    oofs_df['oof_min_snap_x'], oofs_df['oof_min_snap_y'], 0, \n",
    "    oofs_df['target_x'], oofs_df['target_y'], 0\n",
    "    )\n",
    "wandb_config['CV_cost_snap'] = oof_score_post_process\n",
    "print(f\"(after cost-min + snap) CV:{oof_score_post_process}\")"
   ]
  },
  {
   "cell_type": "code",
   "execution_count": 48,
   "metadata": {},
   "outputs": [
    {
     "output_type": "stream",
     "name": "stdout",
     "text": [
      "(after cost-min + snap) CV:6.014751540767926\n"
     ]
    }
   ],
   "source": [
    "# waypoint補正前のx,yでの評価\n",
    "oof_score_post_process = mean_position_error(\n",
    "    oofs_df['oof_min_snap_x'], oofs_df['oof_min_snap_y'], 0, \n",
    "    oofs_df['ix'], oofs_df['iy'], 0\n",
    "    )\n",
    "wandb_config['iCV_cost_snap'] = oof_score_post_process\n",
    "print(f\"(after cost-min + snap) CV:{oof_score_post_process}\")"
   ]
  },
  {
   "cell_type": "code",
   "execution_count": 49,
   "metadata": {},
   "outputs": [],
   "source": [
    "# x_pred = oofs_df[\"oof_min_snap_x\"]\n",
    "# y_pred = oofs_df[\"oof_min_snap_y\"]\n",
    "# f_pred = oofs_df[\"floor\"]  # 正解を与える\n",
    "# x_true = oofs_df[\"wifi_x\"]\n",
    "# y_true = oofs_df[\"wifi_y\"]\n",
    "# f_true = oofs_df[\"floor\"]\n",
    "# site_arr = oofs_df[\"site_id_str\"]\n",
    "# df_result_site3 = calc_metrics_site(x_pred, y_pred, f_pred, x_true, y_true, f_true, site_arr)\n",
    "# df_result_site3.style.bar(subset=['n_sample', 'score'], color=['teal'])"
   ]
  },
  {
   "cell_type": "code",
   "execution_count": 50,
   "metadata": {},
   "outputs": [],
   "source": [
    "# site_eval_report(df_result_site3)"
   ]
  },
  {
   "cell_type": "code",
   "execution_count": 51,
   "metadata": {},
   "outputs": [],
   "source": [
    "# train_waypoints = pd.read_csv('../../input/indoor-location-train-waypoints/train_waypoints.csv')\n",
    "\n",
    "new_sub = sub_process(new_sub, train_waypoints)\n",
    "new_sub = add_xy(new_sub)\n",
    "train_waypoints = add_xy(train_waypoints)\n",
    "\n",
    "ds = []\n",
    "for (site, myfloor), d in new_sub.groupby(['site','floor']):\n",
    "    true_floor_locs = train_waypoints.loc[(train_waypoints['floor'] == myfloor) &\n",
    "                                          (train_waypoints['site'] == site)] \\\n",
    "        .reset_index(drop=True)\n",
    "    if len(true_floor_locs) == 0:\n",
    "        print(f'Skipping {site} {myfloor}')\n",
    "        continue\n",
    "    d['matched_point'] = [closest_point(x, list(true_floor_locs['xy'])) for x in d['xy']]\n",
    "    d['x_'] = d['matched_point'].apply(lambda x: x[0])\n",
    "    d['y_'] = d['matched_point'].apply(lambda x: x[1])\n",
    "    ds.append(d)\n",
    "\n",
    "new_sub2 = pd.concat(ds)"
   ]
  },
  {
   "cell_type": "code",
   "execution_count": 52,
   "metadata": {},
   "outputs": [
    {
     "output_type": "execute_result",
     "data": {
      "text/plain": [
       "                                     site_path_timestamp  floor          x  \\\n",
       "0      5a0546857ecc773753327266_046cfa46be49fc1083481...      0   93.72847   \n",
       "1      5a0546857ecc773753327266_046cfa46be49fc1083481...      0   85.36019   \n",
       "2      5a0546857ecc773753327266_046cfa46be49fc1083481...      0   87.16283   \n",
       "3      5a0546857ecc773753327266_046cfa46be49fc1083481...      0   81.65774   \n",
       "4      5a0546857ecc773753327266_046cfa46be49fc1083481...      0   81.65774   \n",
       "...                                                  ...    ...        ...   \n",
       "10128  5dc8cea7659e181adb076a3f_fd64de8c4a2fc5ebb0e9f...      5  215.26227   \n",
       "10129  5dc8cea7659e181adb076a3f_fd64de8c4a2fc5ebb0e9f...      5  206.62791   \n",
       "10130  5dc8cea7659e181adb076a3f_fd64de8c4a2fc5ebb0e9f...      5  205.51130   \n",
       "10131  5dc8cea7659e181adb076a3f_fd64de8c4a2fc5ebb0e9f...      5  195.82588   \n",
       "10132  5dc8cea7659e181adb076a3f_fd64de8c4a2fc5ebb0e9f...      5  192.55313   \n",
       "\n",
       "                y  \n",
       "0       97.948860  \n",
       "1       99.075780  \n",
       "2      104.450550  \n",
       "3      110.509090  \n",
       "4      110.509090  \n",
       "...           ...  \n",
       "10128   97.973610  \n",
       "10129  102.635210  \n",
       "10130  107.841324  \n",
       "10131  109.711815  \n",
       "10132  111.863014  \n",
       "\n",
       "[10133 rows x 4 columns]"
      ],
      "text/html": "<div>\n<style scoped>\n    .dataframe tbody tr th:only-of-type {\n        vertical-align: middle;\n    }\n\n    .dataframe tbody tr th {\n        vertical-align: top;\n    }\n\n    .dataframe thead th {\n        text-align: right;\n    }\n</style>\n<table border=\"1\" class=\"dataframe\">\n  <thead>\n    <tr style=\"text-align: right;\">\n      <th></th>\n      <th>site_path_timestamp</th>\n      <th>floor</th>\n      <th>x</th>\n      <th>y</th>\n    </tr>\n  </thead>\n  <tbody>\n    <tr>\n      <th>0</th>\n      <td>5a0546857ecc773753327266_046cfa46be49fc1083481...</td>\n      <td>0</td>\n      <td>93.72847</td>\n      <td>97.948860</td>\n    </tr>\n    <tr>\n      <th>1</th>\n      <td>5a0546857ecc773753327266_046cfa46be49fc1083481...</td>\n      <td>0</td>\n      <td>85.36019</td>\n      <td>99.075780</td>\n    </tr>\n    <tr>\n      <th>2</th>\n      <td>5a0546857ecc773753327266_046cfa46be49fc1083481...</td>\n      <td>0</td>\n      <td>87.16283</td>\n      <td>104.450550</td>\n    </tr>\n    <tr>\n      <th>3</th>\n      <td>5a0546857ecc773753327266_046cfa46be49fc1083481...</td>\n      <td>0</td>\n      <td>81.65774</td>\n      <td>110.509090</td>\n    </tr>\n    <tr>\n      <th>4</th>\n      <td>5a0546857ecc773753327266_046cfa46be49fc1083481...</td>\n      <td>0</td>\n      <td>81.65774</td>\n      <td>110.509090</td>\n    </tr>\n    <tr>\n      <th>...</th>\n      <td>...</td>\n      <td>...</td>\n      <td>...</td>\n      <td>...</td>\n    </tr>\n    <tr>\n      <th>10128</th>\n      <td>5dc8cea7659e181adb076a3f_fd64de8c4a2fc5ebb0e9f...</td>\n      <td>5</td>\n      <td>215.26227</td>\n      <td>97.973610</td>\n    </tr>\n    <tr>\n      <th>10129</th>\n      <td>5dc8cea7659e181adb076a3f_fd64de8c4a2fc5ebb0e9f...</td>\n      <td>5</td>\n      <td>206.62791</td>\n      <td>102.635210</td>\n    </tr>\n    <tr>\n      <th>10130</th>\n      <td>5dc8cea7659e181adb076a3f_fd64de8c4a2fc5ebb0e9f...</td>\n      <td>5</td>\n      <td>205.51130</td>\n      <td>107.841324</td>\n    </tr>\n    <tr>\n      <th>10131</th>\n      <td>5dc8cea7659e181adb076a3f_fd64de8c4a2fc5ebb0e9f...</td>\n      <td>5</td>\n      <td>195.82588</td>\n      <td>109.711815</td>\n    </tr>\n    <tr>\n      <th>10132</th>\n      <td>5dc8cea7659e181adb076a3f_fd64de8c4a2fc5ebb0e9f...</td>\n      <td>5</td>\n      <td>192.55313</td>\n      <td>111.863014</td>\n    </tr>\n  </tbody>\n</table>\n<p>10133 rows × 4 columns</p>\n</div>"
     },
     "metadata": {},
     "execution_count": 52
    }
   ],
   "source": [
    "new_sub2 = new_sub2[['site_path_timestamp','floor','x_','y_']].sort_index()\n",
    "new_sub2 = new_sub2.rename(columns={'x_':'x', 'y_':'y'})\n",
    "new_sub2"
   ]
  },
  {
   "cell_type": "code",
   "execution_count": 53,
   "metadata": {},
   "outputs": [],
   "source": [
    "new_sub2.to_csv(RUN_NAME + '_cost_snap_sub.csv', index=False)"
   ]
  },
  {
   "cell_type": "code",
   "execution_count": 54,
   "metadata": {},
   "outputs": [],
   "source": [
    "# import matplotlib.pyplot as plt\n",
    "# df_result_site1['score'].plot(label='oof')\n",
    "# df_result_site2['score'].plot(label='cost')\n",
    "# df_result_site3['score'].plot(label='cost+snap')\n",
    "# plt.legend()\n",
    "# plt.grid()\n",
    "# plt.savefig('site_result.png')"
   ]
  },
  {
   "cell_type": "code",
   "execution_count": 55,
   "metadata": {},
   "outputs": [
    {
     "output_type": "display_data",
     "data": {
      "text/plain": "<IPython.core.display.HTML object>",
      "text/html": "<br/>Waiting for W&B process to finish, PID 1251155<br/>Program ended successfully."
     },
     "metadata": {}
    },
    {
     "output_type": "display_data",
     "data": {
      "text/plain": "VBox(children=(Label(value=' 0.00MB of 0.00MB uploaded (0.00MB deduped)\\r'), FloatProgress(value=1.0, max=1.0)…",
      "application/vnd.jupyter.widget-view+json": {
       "version_major": 2,
       "version_minor": 0,
       "model_id": "9b12191c971948b99c4e04bd1e51d2b7"
      }
     },
     "metadata": {}
    },
    {
     "output_type": "display_data",
     "data": {
      "text/plain": "<IPython.core.display.HTML object>",
      "text/html": "Find user logs for this run at: <code>/home/user/work/exp/exp027/wandb/run-20210425_214845-3jtexpxu/logs/debug.log</code>"
     },
     "metadata": {}
    },
    {
     "output_type": "display_data",
     "data": {
      "text/plain": "<IPython.core.display.HTML object>",
      "text/html": "Find internal logs for this run at: <code>/home/user/work/exp/exp027/wandb/run-20210425_214845-3jtexpxu/logs/debug-internal.log</code>"
     },
     "metadata": {}
    },
    {
     "output_type": "display_data",
     "data": {
      "text/plain": "<IPython.core.display.HTML object>",
      "text/html": "Synced 5 W&B file(s), 0 media file(s), 0 artifact file(s) and 0 other file(s)"
     },
     "metadata": {}
    },
    {
     "output_type": "display_data",
     "data": {
      "text/plain": "<IPython.core.display.HTML object>",
      "text/html": "\n                    <br/>Synced <strong style=\"color:#cdcd00\">whole-lake-537</strong>: <a href=\"https://wandb.ai/kuto5046/indoor/runs/3jtexpxu\" target=\"_blank\">https://wandb.ai/kuto5046/indoor/runs/3jtexpxu</a><br/>\n                "
     },
     "metadata": {}
    }
   ],
   "source": [
    "wandb.finish()"
   ]
  },
  {
   "cell_type": "code",
   "execution_count": null,
   "metadata": {},
   "outputs": [],
   "source": []
  },
  {
   "cell_type": "code",
   "execution_count": null,
   "metadata": {},
   "outputs": [],
   "source": []
  }
 ],
 "metadata": {
  "kernelspec": {
   "display_name": "Python 3",
   "language": "python",
   "name": "python3"
  },
  "language_info": {
   "codemirror_mode": {
    "name": "ipython",
    "version": 3
   },
   "file_extension": ".py",
   "mimetype": "text/x-python",
   "name": "python",
   "nbconvert_exporter": "python",
   "pygments_lexer": "ipython3",
   "version": "3.8.5"
  }
 },
 "nbformat": 4,
 "nbformat_minor": 4
}