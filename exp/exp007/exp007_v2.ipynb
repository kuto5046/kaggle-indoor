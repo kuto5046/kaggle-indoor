{
 "cells": [
  {
   "cell_type": "code",
   "execution_count": 1,
   "metadata": {},
   "outputs": [],
   "source": [
    "import os\n",
    "import sys\n",
    "import glob\n",
    "import yaml\n",
    "import pickle\n",
    "import random\n",
    "\n",
    "import numpy as np\n",
    "import pandas as pd\n",
    "import scipy.stats as stats\n",
    "from pathlib import Path\n",
    "\n",
    "from sklearn import model_selection\n",
    "from sklearn.preprocessing import StandardScaler, LabelEncoder\n",
    "\n",
    "import wandb\n",
    "import torch\n",
    "from torch import nn\n",
    "import torch.nn.functional as F\n",
    "from torch.utils.data import Dataset, DataLoader\n",
    "import torch.optim as optim\n",
    "\n",
    "import pytorch_lightning as pl\n",
    "from pytorch_lightning.loggers import WandbLogger\n",
    "from pytorch_lightning.callbacks import ModelCheckpoint\n",
    "from pytorch_lightning.callbacks import EarlyStopping\n",
    "from pytorch_lightning.utilities.seed import seed_everything"
   ]
  },
  {
   "cell_type": "markdown",
   "metadata": {},
   "source": [
    "## config"
   ]
  },
  {
   "cell_type": "code",
   "execution_count": 2,
   "metadata": {},
   "outputs": [
    {
     "output_type": "stream",
     "name": "stderr",
     "text": [
      "Global seed set to 1996\n"
     ]
    },
    {
     "output_type": "execute_result",
     "data": {
      "text/plain": [
       "1996"
      ]
     },
     "metadata": {},
     "execution_count": 2
    }
   ],
   "source": [
    "# config\n",
    "with open('config_v2.yaml') as f:\n",
    "    config = yaml.safe_load(f)\n",
    "\n",
    "# globals variable\n",
    "SEED = config['globals']['seed']\n",
    "MAX_EPOCHS = config['globals']['max_epochs']\n",
    "N_SPLITS = config['globals']['n_splits']\n",
    "USE_FOLDS = config['globals']['use_folds']\n",
    "DEBUG = config['globals']['debug']\n",
    "EXP_MESSAGE = config['globals']['exp_message']\n",
    "NOTES = config['globals']['notes']\n",
    "MODEL_SAVE = config['globals']['model_save']\n",
    "ONLY_PRED = config['globals']['only_pred']\n",
    "PRETRAINED = config['globals']['pretrained']\n",
    "PRETRAINED_PATH = config['globals']['pretrained_path']\n",
    "EXP_NAME = str(Path().resolve()).split('/')[-1]\n",
    "\n",
    "# seed\n",
    "seed_everything(SEED)"
   ]
  },
  {
   "cell_type": "code",
   "execution_count": 3,
   "metadata": {},
   "outputs": [
    {
     "output_type": "execute_result",
     "data": {
      "text/plain": [
       "'exp007'"
      ]
     },
     "metadata": {},
     "execution_count": 3
    }
   ],
   "source": [
    "EXP_NAME"
   ]
  },
  {
   "cell_type": "code",
   "execution_count": 4,
   "metadata": {},
   "outputs": [
    {
     "output_type": "stream",
     "name": "stdout",
     "text": [
      "\u001b[34m\u001b[1mwandb\u001b[0m: Appending key for api.wandb.ai to your netrc file: /home/kuzira/.netrc\n"
     ]
    }
   ],
   "source": [
    "!wandb login 1bb2d0449c11d8b987e25c38b9d8dda176310fb6"
   ]
  },
  {
   "cell_type": "markdown",
   "metadata": {},
   "source": [
    "## read data"
   ]
  },
  {
   "cell_type": "code",
   "execution_count": 5,
   "metadata": {},
   "outputs": [],
   "source": [
    "# waypointを補正したdataset\n",
    "root_dir = Path('../../input/')\n",
    "with open(root_dir/'kuto_wifi_dataset_v2/train_all.pkl', 'rb') as f:\n",
    "  train_df = pickle.load(f)\n",
    "\n",
    "with open(root_dir/'kuto_wifi_dataset_v2/test_all.pkl', 'rb') as f:\n",
    "  test_df = pickle.load(f)\n",
    "\n",
    "sub = pd.read_csv(root_dir/'indoor-location-navigation/sample_submission.csv', index_col=0)"
   ]
  },
  {
   "cell_type": "code",
   "execution_count": 6,
   "metadata": {},
   "outputs": [
    {
     "output_type": "execute_result",
     "data": {
      "text/plain": [
       "                                         bssid_0  \\\n",
       "0       ffe684dfd25a52b046e3108a3f70df46001425f0   \n",
       "1       97e4a381c3a02ed3151bbf41b8fc1fe5815f5387   \n",
       "2       97e4a381c3a02ed3151bbf41b8fc1fe5815f5387   \n",
       "3       97e4a381c3a02ed3151bbf41b8fc1fe5815f5387   \n",
       "4       97e4a381c3a02ed3151bbf41b8fc1fe5815f5387   \n",
       "...                                          ...   \n",
       "258120  993a56b32432fb19bfb4461a0e1a2ead9bcf192f   \n",
       "258121  773cde25cb4e9fd90b11603abd5bf84d83b340e6   \n",
       "258122  993a56b32432fb19bfb4461a0e1a2ead9bcf192f   \n",
       "258123  993a56b32432fb19bfb4461a0e1a2ead9bcf192f   \n",
       "258124  993a56b32432fb19bfb4461a0e1a2ead9bcf192f   \n",
       "\n",
       "                                         bssid_1  \\\n",
       "0       97e4a381c3a02ed3151bbf41b8fc1fe5815f5387   \n",
       "1       5b71ef95e53358c558b78bf3fb152d793729bc8d   \n",
       "2       6b769b9eeb24ff287e6a53736cc7c013d5902901   \n",
       "3       4328f33869766d0f77a9299441556338e4d8a2b9   \n",
       "4       4328f33869766d0f77a9299441556338e4d8a2b9   \n",
       "...                                          ...   \n",
       "258120  773cde25cb4e9fd90b11603abd5bf84d83b340e6   \n",
       "258121  993a56b32432fb19bfb4461a0e1a2ead9bcf192f   \n",
       "258122  773cde25cb4e9fd90b11603abd5bf84d83b340e6   \n",
       "258123  c7d8359344120911f8550487f282c241d93c4750   \n",
       "258124  c7d8359344120911f8550487f282c241d93c4750   \n",
       "\n",
       "                                         bssid_2  \\\n",
       "0       5b71ef95e53358c558b78bf3fb152d793729bc8d   \n",
       "1       cb8f53745c342e2bfd0bf77a5fd8cac6cf303945   \n",
       "2       cb8f53745c342e2bfd0bf77a5fd8cac6cf303945   \n",
       "3       3fef087dd272ab07981a60c9cbf6f27460d1364e   \n",
       "4       5a1a7a8496e5f8b88db082de0b412e447e01fd0b   \n",
       "...                                          ...   \n",
       "258120  19647ac7bb55a673554aa08cafb3b096aac7f32c   \n",
       "258121  19647ac7bb55a673554aa08cafb3b096aac7f32c   \n",
       "258122  c7d8359344120911f8550487f282c241d93c4750   \n",
       "258123  fc27c0656fc13157bb2f58543d51e8ee972fdf66   \n",
       "258124  773cde25cb4e9fd90b11603abd5bf84d83b340e6   \n",
       "\n",
       "                                         bssid_3  \\\n",
       "0       2f85d197aec7bfddfee3f53ae9e1b6ed1fc56e92   \n",
       "1       ffe684dfd25a52b046e3108a3f70df46001425f0   \n",
       "2       4328f33869766d0f77a9299441556338e4d8a2b9   \n",
       "3       5a1a7a8496e5f8b88db082de0b412e447e01fd0b   \n",
       "4       cb8f53745c342e2bfd0bf77a5fd8cac6cf303945   \n",
       "...                                          ...   \n",
       "258120  a4a410696cb935d542d62afd8e8090dbbc341a16   \n",
       "258121  fc27c0656fc13157bb2f58543d51e8ee972fdf66   \n",
       "258122  fc27c0656fc13157bb2f58543d51e8ee972fdf66   \n",
       "258123  773cde25cb4e9fd90b11603abd5bf84d83b340e6   \n",
       "258124  fc27c0656fc13157bb2f58543d51e8ee972fdf66   \n",
       "\n",
       "                                         bssid_4  \\\n",
       "0       4328f33869766d0f77a9299441556338e4d8a2b9   \n",
       "1       6b769b9eeb24ff287e6a53736cc7c013d5902901   \n",
       "2       3fef087dd272ab07981a60c9cbf6f27460d1364e   \n",
       "3       5d82171d37c5296bcaed8c02745540b491d8a284   \n",
       "4       6b769b9eeb24ff287e6a53736cc7c013d5902901   \n",
       "...                                          ...   \n",
       "258120  fc27c0656fc13157bb2f58543d51e8ee972fdf66   \n",
       "258121  a4a410696cb935d542d62afd8e8090dbbc341a16   \n",
       "258122  a4a410696cb935d542d62afd8e8090dbbc341a16   \n",
       "258123  a4a410696cb935d542d62afd8e8090dbbc341a16   \n",
       "258124  a4a410696cb935d542d62afd8e8090dbbc341a16   \n",
       "\n",
       "                                         bssid_5  \\\n",
       "0       df41c761b69993669d4eb875b4474ec44d2372ed   \n",
       "1       7dc49736770ee9073043134656c89a17529f882f   \n",
       "2       5a1a7a8496e5f8b88db082de0b412e447e01fd0b   \n",
       "3       471740ef5065943b791f277ada358f9ffc011645   \n",
       "4       5d82171d37c5296bcaed8c02745540b491d8a284   \n",
       "...                                          ...   \n",
       "258120  c7d8359344120911f8550487f282c241d93c4750   \n",
       "258121  827530050f580378b7aa53fb292dfb8a12b775e1   \n",
       "258122  827530050f580378b7aa53fb292dfb8a12b775e1   \n",
       "258123  064419dd1c862bc6c960b365fed666a1a5ff36a9   \n",
       "258124  827530050f580378b7aa53fb292dfb8a12b775e1   \n",
       "\n",
       "                                         bssid_6  \\\n",
       "0       7dc49736770ee9073043134656c89a17529f882f   \n",
       "1       3fef087dd272ab07981a60c9cbf6f27460d1364e   \n",
       "2       7dc49736770ee9073043134656c89a17529f882f   \n",
       "3       2f85d197aec7bfddfee3f53ae9e1b6ed1fc56e92   \n",
       "4       5b71ef95e53358c558b78bf3fb152d793729bc8d   \n",
       "...                                          ...   \n",
       "258120  26b22cce3b7694a7d765d9cf329b9065f3fb3a3c   \n",
       "258121  c7d8359344120911f8550487f282c241d93c4750   \n",
       "258122  d64eeb8d997e8d87203479556bbb9efaf7e487fd   \n",
       "258123  b08a1d79d6d4bb2ca71336f7e995c7aa1342aa1f   \n",
       "258124  19647ac7bb55a673554aa08cafb3b096aac7f32c   \n",
       "\n",
       "                                         bssid_7  \\\n",
       "0       5a1a7a8496e5f8b88db082de0b412e447e01fd0b   \n",
       "1       5a1a7a8496e5f8b88db082de0b412e447e01fd0b   \n",
       "2       df41c761b69993669d4eb875b4474ec44d2372ed   \n",
       "3       afe423c7bc0641d63c95e232ffd65cae3be95351   \n",
       "4       df41c761b69993669d4eb875b4474ec44d2372ed   \n",
       "...                                          ...   \n",
       "258120  827530050f580378b7aa53fb292dfb8a12b775e1   \n",
       "258121  d64eeb8d997e8d87203479556bbb9efaf7e487fd   \n",
       "258122  18874cb574f0cae84582df367941ad94d877ccbb   \n",
       "258123  3c43188acbcc9704dd3987cf1ef14906f9dbe444   \n",
       "258124  064419dd1c862bc6c960b365fed666a1a5ff36a9   \n",
       "\n",
       "                                         bssid_8  \\\n",
       "0       463d0cfe3748eb70524138ed970f03375e8d1030   \n",
       "1       df41c761b69993669d4eb875b4474ec44d2372ed   \n",
       "2       5b71ef95e53358c558b78bf3fb152d793729bc8d   \n",
       "3       df41c761b69993669d4eb875b4474ec44d2372ed   \n",
       "4       2f85d197aec7bfddfee3f53ae9e1b6ed1fc56e92   \n",
       "...                                          ...   \n",
       "258120  d64eeb8d997e8d87203479556bbb9efaf7e487fd   \n",
       "258121  b08a1d79d6d4bb2ca71336f7e995c7aa1342aa1f   \n",
       "258122  22a52f1717436ee378dc44b6d707a3816a65b5e4   \n",
       "258123  19647ac7bb55a673554aa08cafb3b096aac7f32c   \n",
       "258124  3c43188acbcc9704dd3987cf1ef14906f9dbe444   \n",
       "\n",
       "                                         bssid_9  ...      timestamp  \\\n",
       "0       79179095e63e2b0431e85e3e33b02d95bb135c2e  ...  1571625311855   \n",
       "1       d8b1ff62702e02106553be91dc22a0dcf0e780a7  ...  1571625311855   \n",
       "2       2f85d197aec7bfddfee3f53ae9e1b6ed1fc56e92  ...  1571625320099   \n",
       "3       5b71ef95e53358c558b78bf3fb152d793729bc8d  ...  1571625320099   \n",
       "4       afe423c7bc0641d63c95e232ffd65cae3be95351  ...  1571625320099   \n",
       "...                                          ...  ...            ...   \n",
       "258120  22a52f1717436ee378dc44b6d707a3816a65b5e4  ...  1573822164854   \n",
       "258121  26b22cce3b7694a7d765d9cf329b9065f3fb3a3c  ...  1573822164854   \n",
       "258122  3c43188acbcc9704dd3987cf1ef14906f9dbe444  ...  1573822173051   \n",
       "258123  cdc456af06dec9e63340fdf06b976b04eaa3a4a8  ...  1573822173051   \n",
       "258124  2ee4dca6f3705253eceaeecf2144083b14741d08  ...  1573822173051   \n",
       "\n",
       "                x          y floor floor_str                      path  \\\n",
       "0       68.064926  241.94000     0        F1  5dad1ca1dc3e2c0006606c3f   \n",
       "1       68.064926  241.94000     0        F1  5dad1ca1dc3e2c0006606c3f   \n",
       "2       62.480465  241.71216     0        F1  5dad1ca1dc3e2c0006606c3f   \n",
       "3       62.480465  241.71216     0        F1  5dad1ca1dc3e2c0006606c3f   \n",
       "4       62.480465  241.71216     0        F1  5dad1ca1dc3e2c0006606c3f   \n",
       "...           ...        ...   ...       ...                       ...   \n",
       "258120  12.662716  100.47756     1        F2  5dce9eea5516ad00065f04a7   \n",
       "258121  12.662716  100.47756     1        F2  5dce9eea5516ad00065f04a7   \n",
       "258122   7.799886  107.13921     1        F2  5dce9eea5516ad00065f04a7   \n",
       "258123   7.799886  107.13921     1        F2  5dce9eea5516ad00065f04a7   \n",
       "258124   7.799886  107.13921     1        F2  5dce9eea5516ad00065f04a7   \n",
       "\n",
       "       time_diff     wifi_x      wifi_y                   site_id  \n",
       "0           1952  66.823935  241.889369  5da958dd46f8266d0737457b  \n",
       "1           3900  65.582943  241.838738  5da958dd46f8266d0737457b  \n",
       "2          -2385  64.341952  241.788107  5da958dd46f8266d0737457b  \n",
       "3           -427  62.480465  241.712160  5da958dd46f8266d0737457b  \n",
       "4           1528  62.893219  240.715162  5da958dd46f8266d0737457b  \n",
       "...          ...        ...         ...                       ...  \n",
       "258120       447  12.662716  100.477560  5d27099f03f801723c32511d  \n",
       "258121      2393  11.041773  102.698110  5d27099f03f801723c32511d  \n",
       "258122     -3876   9.961144  104.178477  5d27099f03f801723c32511d  \n",
       "258123     -1946   8.880515  105.658843  5d27099f03f801723c32511d  \n",
       "258124       -17   7.799886  107.139210  5d27099f03f801723c32511d  \n",
       "\n",
       "[258125 rows x 210 columns]"
      ],
      "text/html": "<div>\n<style scoped>\n    .dataframe tbody tr th:only-of-type {\n        vertical-align: middle;\n    }\n\n    .dataframe tbody tr th {\n        vertical-align: top;\n    }\n\n    .dataframe thead th {\n        text-align: right;\n    }\n</style>\n<table border=\"1\" class=\"dataframe\">\n  <thead>\n    <tr style=\"text-align: right;\">\n      <th></th>\n      <th>bssid_0</th>\n      <th>bssid_1</th>\n      <th>bssid_2</th>\n      <th>bssid_3</th>\n      <th>bssid_4</th>\n      <th>bssid_5</th>\n      <th>bssid_6</th>\n      <th>bssid_7</th>\n      <th>bssid_8</th>\n      <th>bssid_9</th>\n      <th>...</th>\n      <th>timestamp</th>\n      <th>x</th>\n      <th>y</th>\n      <th>floor</th>\n      <th>floor_str</th>\n      <th>path</th>\n      <th>time_diff</th>\n      <th>wifi_x</th>\n      <th>wifi_y</th>\n      <th>site_id</th>\n    </tr>\n  </thead>\n  <tbody>\n    <tr>\n      <th>0</th>\n      <td>ffe684dfd25a52b046e3108a3f70df46001425f0</td>\n      <td>97e4a381c3a02ed3151bbf41b8fc1fe5815f5387</td>\n      <td>5b71ef95e53358c558b78bf3fb152d793729bc8d</td>\n      <td>2f85d197aec7bfddfee3f53ae9e1b6ed1fc56e92</td>\n      <td>4328f33869766d0f77a9299441556338e4d8a2b9</td>\n      <td>df41c761b69993669d4eb875b4474ec44d2372ed</td>\n      <td>7dc49736770ee9073043134656c89a17529f882f</td>\n      <td>5a1a7a8496e5f8b88db082de0b412e447e01fd0b</td>\n      <td>463d0cfe3748eb70524138ed970f03375e8d1030</td>\n      <td>79179095e63e2b0431e85e3e33b02d95bb135c2e</td>\n      <td>...</td>\n      <td>1571625311855</td>\n      <td>68.064926</td>\n      <td>241.94000</td>\n      <td>0</td>\n      <td>F1</td>\n      <td>5dad1ca1dc3e2c0006606c3f</td>\n      <td>1952</td>\n      <td>66.823935</td>\n      <td>241.889369</td>\n      <td>5da958dd46f8266d0737457b</td>\n    </tr>\n    <tr>\n      <th>1</th>\n      <td>97e4a381c3a02ed3151bbf41b8fc1fe5815f5387</td>\n      <td>5b71ef95e53358c558b78bf3fb152d793729bc8d</td>\n      <td>cb8f53745c342e2bfd0bf77a5fd8cac6cf303945</td>\n      <td>ffe684dfd25a52b046e3108a3f70df46001425f0</td>\n      <td>6b769b9eeb24ff287e6a53736cc7c013d5902901</td>\n      <td>7dc49736770ee9073043134656c89a17529f882f</td>\n      <td>3fef087dd272ab07981a60c9cbf6f27460d1364e</td>\n      <td>5a1a7a8496e5f8b88db082de0b412e447e01fd0b</td>\n      <td>df41c761b69993669d4eb875b4474ec44d2372ed</td>\n      <td>d8b1ff62702e02106553be91dc22a0dcf0e780a7</td>\n      <td>...</td>\n      <td>1571625311855</td>\n      <td>68.064926</td>\n      <td>241.94000</td>\n      <td>0</td>\n      <td>F1</td>\n      <td>5dad1ca1dc3e2c0006606c3f</td>\n      <td>3900</td>\n      <td>65.582943</td>\n      <td>241.838738</td>\n      <td>5da958dd46f8266d0737457b</td>\n    </tr>\n    <tr>\n      <th>2</th>\n      <td>97e4a381c3a02ed3151bbf41b8fc1fe5815f5387</td>\n      <td>6b769b9eeb24ff287e6a53736cc7c013d5902901</td>\n      <td>cb8f53745c342e2bfd0bf77a5fd8cac6cf303945</td>\n      <td>4328f33869766d0f77a9299441556338e4d8a2b9</td>\n      <td>3fef087dd272ab07981a60c9cbf6f27460d1364e</td>\n      <td>5a1a7a8496e5f8b88db082de0b412e447e01fd0b</td>\n      <td>7dc49736770ee9073043134656c89a17529f882f</td>\n      <td>df41c761b69993669d4eb875b4474ec44d2372ed</td>\n      <td>5b71ef95e53358c558b78bf3fb152d793729bc8d</td>\n      <td>2f85d197aec7bfddfee3f53ae9e1b6ed1fc56e92</td>\n      <td>...</td>\n      <td>1571625320099</td>\n      <td>62.480465</td>\n      <td>241.71216</td>\n      <td>0</td>\n      <td>F1</td>\n      <td>5dad1ca1dc3e2c0006606c3f</td>\n      <td>-2385</td>\n      <td>64.341952</td>\n      <td>241.788107</td>\n      <td>5da958dd46f8266d0737457b</td>\n    </tr>\n    <tr>\n      <th>3</th>\n      <td>97e4a381c3a02ed3151bbf41b8fc1fe5815f5387</td>\n      <td>4328f33869766d0f77a9299441556338e4d8a2b9</td>\n      <td>3fef087dd272ab07981a60c9cbf6f27460d1364e</td>\n      <td>5a1a7a8496e5f8b88db082de0b412e447e01fd0b</td>\n      <td>5d82171d37c5296bcaed8c02745540b491d8a284</td>\n      <td>471740ef5065943b791f277ada358f9ffc011645</td>\n      <td>2f85d197aec7bfddfee3f53ae9e1b6ed1fc56e92</td>\n      <td>afe423c7bc0641d63c95e232ffd65cae3be95351</td>\n      <td>df41c761b69993669d4eb875b4474ec44d2372ed</td>\n      <td>5b71ef95e53358c558b78bf3fb152d793729bc8d</td>\n      <td>...</td>\n      <td>1571625320099</td>\n      <td>62.480465</td>\n      <td>241.71216</td>\n      <td>0</td>\n      <td>F1</td>\n      <td>5dad1ca1dc3e2c0006606c3f</td>\n      <td>-427</td>\n      <td>62.480465</td>\n      <td>241.712160</td>\n      <td>5da958dd46f8266d0737457b</td>\n    </tr>\n    <tr>\n      <th>4</th>\n      <td>97e4a381c3a02ed3151bbf41b8fc1fe5815f5387</td>\n      <td>4328f33869766d0f77a9299441556338e4d8a2b9</td>\n      <td>5a1a7a8496e5f8b88db082de0b412e447e01fd0b</td>\n      <td>cb8f53745c342e2bfd0bf77a5fd8cac6cf303945</td>\n      <td>6b769b9eeb24ff287e6a53736cc7c013d5902901</td>\n      <td>5d82171d37c5296bcaed8c02745540b491d8a284</td>\n      <td>5b71ef95e53358c558b78bf3fb152d793729bc8d</td>\n      <td>df41c761b69993669d4eb875b4474ec44d2372ed</td>\n      <td>2f85d197aec7bfddfee3f53ae9e1b6ed1fc56e92</td>\n      <td>afe423c7bc0641d63c95e232ffd65cae3be95351</td>\n      <td>...</td>\n      <td>1571625320099</td>\n      <td>62.480465</td>\n      <td>241.71216</td>\n      <td>0</td>\n      <td>F1</td>\n      <td>5dad1ca1dc3e2c0006606c3f</td>\n      <td>1528</td>\n      <td>62.893219</td>\n      <td>240.715162</td>\n      <td>5da958dd46f8266d0737457b</td>\n    </tr>\n    <tr>\n      <th>...</th>\n      <td>...</td>\n      <td>...</td>\n      <td>...</td>\n      <td>...</td>\n      <td>...</td>\n      <td>...</td>\n      <td>...</td>\n      <td>...</td>\n      <td>...</td>\n      <td>...</td>\n      <td>...</td>\n      <td>...</td>\n      <td>...</td>\n      <td>...</td>\n      <td>...</td>\n      <td>...</td>\n      <td>...</td>\n      <td>...</td>\n      <td>...</td>\n      <td>...</td>\n      <td>...</td>\n    </tr>\n    <tr>\n      <th>258120</th>\n      <td>993a56b32432fb19bfb4461a0e1a2ead9bcf192f</td>\n      <td>773cde25cb4e9fd90b11603abd5bf84d83b340e6</td>\n      <td>19647ac7bb55a673554aa08cafb3b096aac7f32c</td>\n      <td>a4a410696cb935d542d62afd8e8090dbbc341a16</td>\n      <td>fc27c0656fc13157bb2f58543d51e8ee972fdf66</td>\n      <td>c7d8359344120911f8550487f282c241d93c4750</td>\n      <td>26b22cce3b7694a7d765d9cf329b9065f3fb3a3c</td>\n      <td>827530050f580378b7aa53fb292dfb8a12b775e1</td>\n      <td>d64eeb8d997e8d87203479556bbb9efaf7e487fd</td>\n      <td>22a52f1717436ee378dc44b6d707a3816a65b5e4</td>\n      <td>...</td>\n      <td>1573822164854</td>\n      <td>12.662716</td>\n      <td>100.47756</td>\n      <td>1</td>\n      <td>F2</td>\n      <td>5dce9eea5516ad00065f04a7</td>\n      <td>447</td>\n      <td>12.662716</td>\n      <td>100.477560</td>\n      <td>5d27099f03f801723c32511d</td>\n    </tr>\n    <tr>\n      <th>258121</th>\n      <td>773cde25cb4e9fd90b11603abd5bf84d83b340e6</td>\n      <td>993a56b32432fb19bfb4461a0e1a2ead9bcf192f</td>\n      <td>19647ac7bb55a673554aa08cafb3b096aac7f32c</td>\n      <td>fc27c0656fc13157bb2f58543d51e8ee972fdf66</td>\n      <td>a4a410696cb935d542d62afd8e8090dbbc341a16</td>\n      <td>827530050f580378b7aa53fb292dfb8a12b775e1</td>\n      <td>c7d8359344120911f8550487f282c241d93c4750</td>\n      <td>d64eeb8d997e8d87203479556bbb9efaf7e487fd</td>\n      <td>b08a1d79d6d4bb2ca71336f7e995c7aa1342aa1f</td>\n      <td>26b22cce3b7694a7d765d9cf329b9065f3fb3a3c</td>\n      <td>...</td>\n      <td>1573822164854</td>\n      <td>12.662716</td>\n      <td>100.47756</td>\n      <td>1</td>\n      <td>F2</td>\n      <td>5dce9eea5516ad00065f04a7</td>\n      <td>2393</td>\n      <td>11.041773</td>\n      <td>102.698110</td>\n      <td>5d27099f03f801723c32511d</td>\n    </tr>\n    <tr>\n      <th>258122</th>\n      <td>993a56b32432fb19bfb4461a0e1a2ead9bcf192f</td>\n      <td>773cde25cb4e9fd90b11603abd5bf84d83b340e6</td>\n      <td>c7d8359344120911f8550487f282c241d93c4750</td>\n      <td>fc27c0656fc13157bb2f58543d51e8ee972fdf66</td>\n      <td>a4a410696cb935d542d62afd8e8090dbbc341a16</td>\n      <td>827530050f580378b7aa53fb292dfb8a12b775e1</td>\n      <td>d64eeb8d997e8d87203479556bbb9efaf7e487fd</td>\n      <td>18874cb574f0cae84582df367941ad94d877ccbb</td>\n      <td>22a52f1717436ee378dc44b6d707a3816a65b5e4</td>\n      <td>3c43188acbcc9704dd3987cf1ef14906f9dbe444</td>\n      <td>...</td>\n      <td>1573822173051</td>\n      <td>7.799886</td>\n      <td>107.13921</td>\n      <td>1</td>\n      <td>F2</td>\n      <td>5dce9eea5516ad00065f04a7</td>\n      <td>-3876</td>\n      <td>9.961144</td>\n      <td>104.178477</td>\n      <td>5d27099f03f801723c32511d</td>\n    </tr>\n    <tr>\n      <th>258123</th>\n      <td>993a56b32432fb19bfb4461a0e1a2ead9bcf192f</td>\n      <td>c7d8359344120911f8550487f282c241d93c4750</td>\n      <td>fc27c0656fc13157bb2f58543d51e8ee972fdf66</td>\n      <td>773cde25cb4e9fd90b11603abd5bf84d83b340e6</td>\n      <td>a4a410696cb935d542d62afd8e8090dbbc341a16</td>\n      <td>064419dd1c862bc6c960b365fed666a1a5ff36a9</td>\n      <td>b08a1d79d6d4bb2ca71336f7e995c7aa1342aa1f</td>\n      <td>3c43188acbcc9704dd3987cf1ef14906f9dbe444</td>\n      <td>19647ac7bb55a673554aa08cafb3b096aac7f32c</td>\n      <td>cdc456af06dec9e63340fdf06b976b04eaa3a4a8</td>\n      <td>...</td>\n      <td>1573822173051</td>\n      <td>7.799886</td>\n      <td>107.13921</td>\n      <td>1</td>\n      <td>F2</td>\n      <td>5dce9eea5516ad00065f04a7</td>\n      <td>-1946</td>\n      <td>8.880515</td>\n      <td>105.658843</td>\n      <td>5d27099f03f801723c32511d</td>\n    </tr>\n    <tr>\n      <th>258124</th>\n      <td>993a56b32432fb19bfb4461a0e1a2ead9bcf192f</td>\n      <td>c7d8359344120911f8550487f282c241d93c4750</td>\n      <td>773cde25cb4e9fd90b11603abd5bf84d83b340e6</td>\n      <td>fc27c0656fc13157bb2f58543d51e8ee972fdf66</td>\n      <td>a4a410696cb935d542d62afd8e8090dbbc341a16</td>\n      <td>827530050f580378b7aa53fb292dfb8a12b775e1</td>\n      <td>19647ac7bb55a673554aa08cafb3b096aac7f32c</td>\n      <td>064419dd1c862bc6c960b365fed666a1a5ff36a9</td>\n      <td>3c43188acbcc9704dd3987cf1ef14906f9dbe444</td>\n      <td>2ee4dca6f3705253eceaeecf2144083b14741d08</td>\n      <td>...</td>\n      <td>1573822173051</td>\n      <td>7.799886</td>\n      <td>107.13921</td>\n      <td>1</td>\n      <td>F2</td>\n      <td>5dce9eea5516ad00065f04a7</td>\n      <td>-17</td>\n      <td>7.799886</td>\n      <td>107.139210</td>\n      <td>5d27099f03f801723c32511d</td>\n    </tr>\n  </tbody>\n</table>\n<p>258125 rows × 210 columns</p>\n</div>"
     },
     "metadata": {},
     "execution_count": 6
    }
   ],
   "source": [
    "train_df"
   ]
  },
  {
   "cell_type": "code",
   "execution_count": 7,
   "metadata": {},
   "outputs": [
    {
     "output_type": "execute_result",
     "data": {
      "text/plain": [
       "(25336, 231094)"
      ]
     },
     "metadata": {},
     "execution_count": 7
    }
   ],
   "source": [
    "train_df['x'].nunique(), train_df['wifi_x'].nunique()"
   ]
  },
  {
   "source": [
    "## time_diffの前処理\n",
    "0~3000sのものはwifi_x,wifi_yを使用  \n",
    "-1000s~0sのものはもともとのx.yを使用"
   ],
   "cell_type": "markdown",
   "metadata": {}
  },
  {
   "cell_type": "code",
   "execution_count": 8,
   "metadata": {},
   "outputs": [],
   "source": [
    "# POSI_DIFF = 4000  # i番目のwaypointを基準に算出したwifi waypointのうち基準のtimestampの直近3sを信頼できるデータとして残す\n",
    "# NEGA_DIFF = -100000  # i番目のwaypointを基準に算出したwifi waypointのうちi+1番目のwaypointに近いものにはi+1のwaypointを座標として与える\n",
    "\n",
    "# train_df.loc[(NEGA_DIFF < train_df['time_diff']) & (train_df['time_diff'] <= 0), 'wifi_x'] = train_df.loc[(NEGA_DIFF< train_df['time_diff']) & (train_df['time_diff'] <= 0), 'x']\n",
    "# train_df.loc[(NEGA_DIFF < train_df['time_diff']) & (train_df['time_diff'] <= 0), 'wifi_y'] = train_df.loc[(NEGA_DIFF < train_df['time_diff']) & (train_df['time_diff'] <= 0), 'y']\n",
    "# train_df = train_df[(NEGA_DIFF < train_df['time_diff']) & (train_df['time_diff'] < POSI_DIFF)].reset_index(drop=True)\n",
    "# train_df"
   ]
  },
  {
   "cell_type": "markdown",
   "metadata": {},
   "source": [
    "BSSIDとRSSIは100ずつ存在しているけど全てが必要なわけではないみたい  \n",
    "ここでは20だけ取り出している。"
   ]
  },
  {
   "cell_type": "code",
   "execution_count": 8,
   "metadata": {},
   "outputs": [],
   "source": [
    "# training target features\n",
    "NUM_FEATS = 80\n",
    "BSSID_FEATS = [f'bssid_{i}' for i in range(NUM_FEATS)]\n",
    "RSSI_FEATS  = [f'rssi_{i}' for i in range(NUM_FEATS)]"
   ]
  },
  {
   "cell_type": "markdown",
   "metadata": {},
   "source": [
    "bssid_NはN個目のBSSIDを示しておりRSSI値が大きい順に番号が振られている。\n",
    "100個しかない\n"
   ]
  },
  {
   "cell_type": "code",
   "execution_count": 9,
   "metadata": {},
   "outputs": [
    {
     "output_type": "stream",
     "name": "stdout",
     "text": [
      "BSSID TYPES(train): 41286\nBSSID TYPES(test): 28592\nBSSID TYPES(all): 41300\n"
     ]
    }
   ],
   "source": [
    "# get numbers of bssids to embed them in a layer\n",
    "\n",
    "# train\n",
    "wifi_bssids = []\n",
    "# bssidを列ごとにリストに入れていく\n",
    "for i in range(100):\n",
    "    wifi_bssids.extend(train_df.iloc[:,i].values.tolist())\n",
    "wifi_bssids = list(set(wifi_bssids))\n",
    "\n",
    "train_wifi_bssids_size = len(wifi_bssids)\n",
    "print(f'BSSID TYPES(train): {train_wifi_bssids_size}')\n",
    "\n",
    "# test\n",
    "wifi_bssids_test = []\n",
    "for i in range(100):\n",
    "    wifi_bssids_test.extend(test_df.iloc[:,i].values.tolist())\n",
    "wifi_bssids_test = list(set(wifi_bssids_test))\n",
    "\n",
    "test_wifi_bssids_size = len(wifi_bssids_test)\n",
    "print(f'BSSID TYPES(test): {test_wifi_bssids_size}')\n",
    "\n",
    "\n",
    "wifi_bssids.extend(wifi_bssids_test)\n",
    "wifi_bssids = list(set(wifi_bssids))\n",
    "wifi_bssids_size = len(wifi_bssids)\n",
    "print(f'BSSID TYPES(all): {wifi_bssids_size}')\n"
   ]
  },
  {
   "cell_type": "markdown",
   "metadata": {},
   "source": [
    "## preprocessing"
   ]
  },
  {
   "cell_type": "code",
   "execution_count": 10,
   "metadata": {},
   "outputs": [],
   "source": [
    "# preprocess\n",
    "\n",
    "le = LabelEncoder()\n",
    "le.fit(wifi_bssids)\n",
    "le_site = LabelEncoder()\n",
    "le_site.fit(train_df['site_id'])\n",
    "\n",
    "ss = StandardScaler()\n",
    "ss.fit(train_df.loc[:,RSSI_FEATS])\n",
    "\n",
    "\n",
    "def preprocess(input_df, le=le, le_site=le_site, ss=ss):\n",
    "    output_df = input_df.copy()\n",
    "    # RSSIの正規化\n",
    "    output_df.loc[:,RSSI_FEATS] = ss.transform(input_df.loc[:,RSSI_FEATS])\n",
    "\n",
    "    # BSSIDのLE(1からふる)\n",
    "    for i in BSSID_FEATS:\n",
    "        output_df.loc[:,i] = le.transform(input_df.loc[:,i])\n",
    "        output_df.loc[:,i] = output_df.loc[:,i] + 1  # 0からではなく1から番号を振りたいため なぜ？ embeddingのpadding用のダミー変数？\n",
    "\n",
    "    # site_idのLE\n",
    "    output_df['site_id_str'] = input_df['site_id'].copy()\n",
    "    output_df.loc[:, 'site_id'] = le_site.transform(input_df.loc[:, 'site_id'])\n",
    "\n",
    "    # なぜ２重でやる？\n",
    "    # output_df.loc[:,RSSI_FEATS] = ss.transform(output_df.loc[:,RSSI_FEATS])\n",
    "    return output_df\n",
    "\n",
    "train = preprocess(train_df)\n",
    "test = preprocess(test_df)\n",
    "\n",
    "    "
   ]
  },
  {
   "cell_type": "code",
   "execution_count": 11,
   "metadata": {},
   "outputs": [
    {
     "output_type": "execute_result",
     "data": {
      "text/plain": [
       "24"
      ]
     },
     "metadata": {},
     "execution_count": 11
    }
   ],
   "source": [
    "site_count = len(train['site_id'].unique())\n",
    "site_count"
   ]
  },
  {
   "cell_type": "code",
   "execution_count": 21,
   "metadata": {},
   "outputs": [
    {
     "output_type": "execute_result",
     "data": {
      "text/plain": [
       "        rssi_96  rssi_97  rssi_98  rssi_99      timestamp          x  \\\n",
       "0           -84      -84      -85      -85  1571625311855  68.064926   \n",
       "1           -84      -84      -85      -85  1571625311855  68.064926   \n",
       "2           -83      -83      -83      -83  1571625320099  62.480465   \n",
       "3           -83      -83      -83      -83  1571625320099  62.480465   \n",
       "4           -83      -83      -83      -83  1571625320099  62.480465   \n",
       "...         ...      ...      ...      ...            ...        ...   \n",
       "258120      -79      -80      -80      -80  1573822164854  12.662716   \n",
       "258121      -80      -80      -81      -81  1573822164854  12.662716   \n",
       "258122      -80      -80      -80      -80  1573822173051   7.799886   \n",
       "258123      -81      -81      -81      -81  1573822173051   7.799886   \n",
       "258124      -81      -81      -81      -81  1573822173051   7.799886   \n",
       "\n",
       "                y  floor floor_str                      path  time_diff  \\\n",
       "0       241.94000      0        F1  5dad1ca1dc3e2c0006606c3f       1952   \n",
       "1       241.94000      0        F1  5dad1ca1dc3e2c0006606c3f       3900   \n",
       "2       241.71216      0        F1  5dad1ca1dc3e2c0006606c3f      -2385   \n",
       "3       241.71216      0        F1  5dad1ca1dc3e2c0006606c3f       -427   \n",
       "4       241.71216      0        F1  5dad1ca1dc3e2c0006606c3f       1528   \n",
       "...           ...    ...       ...                       ...        ...   \n",
       "258120  100.47756      1        F2  5dce9eea5516ad00065f04a7        447   \n",
       "258121  100.47756      1        F2  5dce9eea5516ad00065f04a7       2393   \n",
       "258122  107.13921      1        F2  5dce9eea5516ad00065f04a7      -3876   \n",
       "258123  107.13921      1        F2  5dce9eea5516ad00065f04a7      -1946   \n",
       "258124  107.13921      1        F2  5dce9eea5516ad00065f04a7        -17   \n",
       "\n",
       "           wifi_x      wifi_y  site_id               site_id_str  \n",
       "0       66.823935  241.889369       21  5da958dd46f8266d0737457b  \n",
       "1       65.582943  241.838738       21  5da958dd46f8266d0737457b  \n",
       "2       64.341952  241.788107       21  5da958dd46f8266d0737457b  \n",
       "3       62.480465  241.712160       21  5da958dd46f8266d0737457b  \n",
       "4       62.893219  240.715162       21  5da958dd46f8266d0737457b  \n",
       "...           ...         ...      ...                       ...  \n",
       "258120  12.662716  100.477560        5  5d27099f03f801723c32511d  \n",
       "258121  11.041773  102.698110        5  5d27099f03f801723c32511d  \n",
       "258122   9.961144  104.178477        5  5d27099f03f801723c32511d  \n",
       "258123   8.880515  105.658843        5  5d27099f03f801723c32511d  \n",
       "258124   7.799886  107.139210        5  5d27099f03f801723c32511d  \n",
       "\n",
       "[258125 rows x 15 columns]"
      ],
      "text/html": "<div>\n<style scoped>\n    .dataframe tbody tr th:only-of-type {\n        vertical-align: middle;\n    }\n\n    .dataframe tbody tr th {\n        vertical-align: top;\n    }\n\n    .dataframe thead th {\n        text-align: right;\n    }\n</style>\n<table border=\"1\" class=\"dataframe\">\n  <thead>\n    <tr style=\"text-align: right;\">\n      <th></th>\n      <th>rssi_96</th>\n      <th>rssi_97</th>\n      <th>rssi_98</th>\n      <th>rssi_99</th>\n      <th>timestamp</th>\n      <th>x</th>\n      <th>y</th>\n      <th>floor</th>\n      <th>floor_str</th>\n      <th>path</th>\n      <th>time_diff</th>\n      <th>wifi_x</th>\n      <th>wifi_y</th>\n      <th>site_id</th>\n      <th>site_id_str</th>\n    </tr>\n  </thead>\n  <tbody>\n    <tr>\n      <th>0</th>\n      <td>-84</td>\n      <td>-84</td>\n      <td>-85</td>\n      <td>-85</td>\n      <td>1571625311855</td>\n      <td>68.064926</td>\n      <td>241.94000</td>\n      <td>0</td>\n      <td>F1</td>\n      <td>5dad1ca1dc3e2c0006606c3f</td>\n      <td>1952</td>\n      <td>66.823935</td>\n      <td>241.889369</td>\n      <td>21</td>\n      <td>5da958dd46f8266d0737457b</td>\n    </tr>\n    <tr>\n      <th>1</th>\n      <td>-84</td>\n      <td>-84</td>\n      <td>-85</td>\n      <td>-85</td>\n      <td>1571625311855</td>\n      <td>68.064926</td>\n      <td>241.94000</td>\n      <td>0</td>\n      <td>F1</td>\n      <td>5dad1ca1dc3e2c0006606c3f</td>\n      <td>3900</td>\n      <td>65.582943</td>\n      <td>241.838738</td>\n      <td>21</td>\n      <td>5da958dd46f8266d0737457b</td>\n    </tr>\n    <tr>\n      <th>2</th>\n      <td>-83</td>\n      <td>-83</td>\n      <td>-83</td>\n      <td>-83</td>\n      <td>1571625320099</td>\n      <td>62.480465</td>\n      <td>241.71216</td>\n      <td>0</td>\n      <td>F1</td>\n      <td>5dad1ca1dc3e2c0006606c3f</td>\n      <td>-2385</td>\n      <td>64.341952</td>\n      <td>241.788107</td>\n      <td>21</td>\n      <td>5da958dd46f8266d0737457b</td>\n    </tr>\n    <tr>\n      <th>3</th>\n      <td>-83</td>\n      <td>-83</td>\n      <td>-83</td>\n      <td>-83</td>\n      <td>1571625320099</td>\n      <td>62.480465</td>\n      <td>241.71216</td>\n      <td>0</td>\n      <td>F1</td>\n      <td>5dad1ca1dc3e2c0006606c3f</td>\n      <td>-427</td>\n      <td>62.480465</td>\n      <td>241.712160</td>\n      <td>21</td>\n      <td>5da958dd46f8266d0737457b</td>\n    </tr>\n    <tr>\n      <th>4</th>\n      <td>-83</td>\n      <td>-83</td>\n      <td>-83</td>\n      <td>-83</td>\n      <td>1571625320099</td>\n      <td>62.480465</td>\n      <td>241.71216</td>\n      <td>0</td>\n      <td>F1</td>\n      <td>5dad1ca1dc3e2c0006606c3f</td>\n      <td>1528</td>\n      <td>62.893219</td>\n      <td>240.715162</td>\n      <td>21</td>\n      <td>5da958dd46f8266d0737457b</td>\n    </tr>\n    <tr>\n      <th>...</th>\n      <td>...</td>\n      <td>...</td>\n      <td>...</td>\n      <td>...</td>\n      <td>...</td>\n      <td>...</td>\n      <td>...</td>\n      <td>...</td>\n      <td>...</td>\n      <td>...</td>\n      <td>...</td>\n      <td>...</td>\n      <td>...</td>\n      <td>...</td>\n      <td>...</td>\n    </tr>\n    <tr>\n      <th>258120</th>\n      <td>-79</td>\n      <td>-80</td>\n      <td>-80</td>\n      <td>-80</td>\n      <td>1573822164854</td>\n      <td>12.662716</td>\n      <td>100.47756</td>\n      <td>1</td>\n      <td>F2</td>\n      <td>5dce9eea5516ad00065f04a7</td>\n      <td>447</td>\n      <td>12.662716</td>\n      <td>100.477560</td>\n      <td>5</td>\n      <td>5d27099f03f801723c32511d</td>\n    </tr>\n    <tr>\n      <th>258121</th>\n      <td>-80</td>\n      <td>-80</td>\n      <td>-81</td>\n      <td>-81</td>\n      <td>1573822164854</td>\n      <td>12.662716</td>\n      <td>100.47756</td>\n      <td>1</td>\n      <td>F2</td>\n      <td>5dce9eea5516ad00065f04a7</td>\n      <td>2393</td>\n      <td>11.041773</td>\n      <td>102.698110</td>\n      <td>5</td>\n      <td>5d27099f03f801723c32511d</td>\n    </tr>\n    <tr>\n      <th>258122</th>\n      <td>-80</td>\n      <td>-80</td>\n      <td>-80</td>\n      <td>-80</td>\n      <td>1573822173051</td>\n      <td>7.799886</td>\n      <td>107.13921</td>\n      <td>1</td>\n      <td>F2</td>\n      <td>5dce9eea5516ad00065f04a7</td>\n      <td>-3876</td>\n      <td>9.961144</td>\n      <td>104.178477</td>\n      <td>5</td>\n      <td>5d27099f03f801723c32511d</td>\n    </tr>\n    <tr>\n      <th>258123</th>\n      <td>-81</td>\n      <td>-81</td>\n      <td>-81</td>\n      <td>-81</td>\n      <td>1573822173051</td>\n      <td>7.799886</td>\n      <td>107.13921</td>\n      <td>1</td>\n      <td>F2</td>\n      <td>5dce9eea5516ad00065f04a7</td>\n      <td>-1946</td>\n      <td>8.880515</td>\n      <td>105.658843</td>\n      <td>5</td>\n      <td>5d27099f03f801723c32511d</td>\n    </tr>\n    <tr>\n      <th>258124</th>\n      <td>-81</td>\n      <td>-81</td>\n      <td>-81</td>\n      <td>-81</td>\n      <td>1573822173051</td>\n      <td>7.799886</td>\n      <td>107.13921</td>\n      <td>1</td>\n      <td>F2</td>\n      <td>5dce9eea5516ad00065f04a7</td>\n      <td>-17</td>\n      <td>7.799886</td>\n      <td>107.139210</td>\n      <td>5</td>\n      <td>5d27099f03f801723c32511d</td>\n    </tr>\n  </tbody>\n</table>\n<p>258125 rows × 15 columns</p>\n</div>"
     },
     "metadata": {},
     "execution_count": 21
    }
   ],
   "source": [
    "train.iloc[:, -15:]"
   ]
  },
  {
   "cell_type": "markdown",
   "metadata": {},
   "source": [
    "## PyTorch model\n",
    "- embedding layerが重要  "
   ]
  },
  {
   "cell_type": "code",
   "execution_count": 13,
   "metadata": {},
   "outputs": [],
   "source": [
    "# dataset\n",
    "from torch.utils.data import Dataset, DataLoader\n",
    "class IndoorDataset(Dataset):\n",
    "    def __init__(self, df, phase='train'):\n",
    "        self.df = df\n",
    "        self.phase = phase\n",
    "        self.bssid_feats = df[BSSID_FEATS].values.astype(int)\n",
    "        self.rssi_feats = df[RSSI_FEATS].values.astype(np.float32)\n",
    "        self.site_id = df['site_id'].values.astype(int)\n",
    "\n",
    "        if phase in ['train', 'valid']:\n",
    "            # self.xy = df[['x', 'y']].values.astype(np.float32)\n",
    "            self.xy = df[['wifi_x', 'wifi_y']].values.astype(np.float32)  # wifiにより補正したx,yを使用\n",
    "            self.floor = df['floor'].values.astype(np.float32)\n",
    "        \n",
    "    def __len__(self):\n",
    "        return self.df.shape[0]\n",
    "\n",
    "    def __getitem__(self, idx):\n",
    "        \n",
    "        feature = {\n",
    "            'BSSID_FEATS':self.bssid_feats[idx],\n",
    "            'RSSI_FEATS':self.rssi_feats[idx],\n",
    "            'site_id':self.site_id[idx]\n",
    "        }\n",
    "        if self.phase in ['train', 'valid']:\n",
    "            target = {\n",
    "                'xy':self.xy[idx],\n",
    "                'floor':self.floor[idx]\n",
    "            }\n",
    "        else:\n",
    "            target = {}\n",
    "        return feature, target"
   ]
  },
  {
   "cell_type": "code",
   "execution_count": 14,
   "metadata": {},
   "outputs": [],
   "source": [
    "import torch\n",
    "from torch import nn\n",
    "\n",
    "class LSTMModel(nn.Module):\n",
    "    def __init__(self, wifi_bssids_size, site_count=24, embedding_dim=64):\n",
    "        super(LSTMModel, self).__init__()\n",
    "        # bssid\n",
    "        # ->64次元に圧縮後sequence化にする\n",
    "        # wifi_bssids_sizeが辞書の数を表す\n",
    "        self.embedding_layer1 = nn.Sequential(\n",
    "            nn.Embedding(wifi_bssids_size, embedding_dim),\n",
    "            nn.Flatten(start_dim=-2)            \n",
    "        )\n",
    "        # site\n",
    "        # ->2次元に圧縮後sequence化する\n",
    "        # site_countが辞書の数を表す\n",
    "        self.embedding_layer2 = nn.Sequential(\n",
    "            nn.Embedding(site_count, 2),\n",
    "            nn.Flatten(start_dim=-1)           \n",
    "        )\n",
    "\n",
    "        # rssi\n",
    "        # 次元を64倍に線形変換\n",
    "        self.linear_layer1 = nn.Sequential(\n",
    "            nn.BatchNorm1d(NUM_FEATS),\n",
    "            nn.Linear(NUM_FEATS, NUM_FEATS * embedding_dim),\n",
    "            nn.ReLU()\n",
    "        )\n",
    "        \n",
    "        # bssid, site, rssiの出力size\n",
    "        feature_size = 2 + (2 * NUM_FEATS * embedding_dim)\n",
    "        self.linear_layer2 = nn.Sequential(\n",
    "            nn.BatchNorm1d(feature_size),\n",
    "            nn.Dropout(0.3),\n",
    "            nn.Linear(feature_size, 256),\n",
    "            nn.ReLU()\n",
    "        )\n",
    "\n",
    "        self.batch_norm1 = nn.BatchNorm1d(1)\n",
    "        self.lstm1 = nn.LSTM(input_size=256,hidden_size=128,dropout=0.3, batch_first=True)\n",
    "        self.lstm2 = nn.LSTM(input_size=128,hidden_size=16,dropout=0.1, batch_first=True)\n",
    "\n",
    "        self.fc_xy = nn.Linear(16, 2)\n",
    "        # self.fc_x = nn.Linear(16, 1)\n",
    "        # self.fc_y = nn.Linear(16, 1)\n",
    "        self.fc_floor = nn.Linear(16, 1)\n",
    "\n",
    "    \n",
    "    def forward(self, x):\n",
    "        # input embedding\n",
    "        batch_size = x[\"site_id\"].shape[0]\n",
    "        x_bssid = self.embedding_layer1(x['BSSID_FEATS'])\n",
    "        x_site_id = self.embedding_layer2(x['site_id'])\n",
    "        x_rssi = self.linear_layer1(x['RSSI_FEATS'])\n",
    "        x = torch.cat([x_bssid, x_site_id, x_rssi], dim=-1)\n",
    "        x = self.linear_layer2(x)\n",
    "\n",
    "        # lstm layer\n",
    "        x = x.view(batch_size, 1, -1)  # [batch, 1]->[batch, 1, 1]\n",
    "        x = self.batch_norm1(x)\n",
    "        x, _ = self.lstm1(x)\n",
    "        x = torch.relu(x)\n",
    "        x, _ = self.lstm2(x)\n",
    "        x = torch.relu(x)\n",
    "\n",
    "        # output [batch, 1, 1] -> [batch]\n",
    "        # x_ = self.fc_x(x).view(-1)\n",
    "        # y_ = self.fc_y(x).view(-1)\n",
    "        xy = self.fc_xy(x).squeeze(1)\n",
    "        floor = torch.relu(self.fc_floor(x)).view(-1)\n",
    "        # return {\"x\":x_, \"y\":y_, \"floor\":floor} \n",
    "        return {\"xy\": xy, \"floor\": floor}"
   ]
  },
  {
   "cell_type": "code",
   "execution_count": 15,
   "metadata": {},
   "outputs": [],
   "source": [
    "def mean_position_error(xhat, yhat, fhat, x, y, f):\n",
    "    intermediate = np.sqrt(np.power(xhat-x, 2) + np.power(yhat-y, 2)) + 15 * np.abs(fhat-f)\n",
    "    return intermediate.sum()/xhat.shape[0]\n",
    "\n",
    "def to_np(input):\n",
    "    return input.detach().cpu().numpy()"
   ]
  },
  {
   "cell_type": "code",
   "execution_count": 16,
   "metadata": {},
   "outputs": [],
   "source": [
    "def get_optimizer(model: nn.Module, config: dict):\n",
    "    optimizer_config = config[\"optimizer\"]\n",
    "    optimizer_name = optimizer_config.get(\"name\")\n",
    "    base_optimizer_name = optimizer_config.get(\"base_name\")\n",
    "    optimizer_params = optimizer_config['params']\n",
    "\n",
    "    if hasattr(optim, optimizer_name):\n",
    "        optimizer = optim.__getattribute__(optimizer_name)(model.parameters(), **optimizer_params)\n",
    "        return optimizer\n",
    "    else:\n",
    "        base_optimizer = optim.__getattribute__(base_optimizer_name)\n",
    "        optimizer = globals().get(optimizer_name)(\n",
    "            model.parameters(), \n",
    "            base_optimizer,\n",
    "            **optimizer_config[\"params\"])\n",
    "        return  optimizer\n",
    "\n",
    "def get_scheduler(optimizer, config: dict):\n",
    "    scheduler_config = config[\"scheduler\"]\n",
    "    scheduler_name = scheduler_config.get(\"name\")\n",
    "\n",
    "    if scheduler_name is None:\n",
    "        return\n",
    "    else:\n",
    "        return optim.lr_scheduler.__getattribute__(scheduler_name)(\n",
    "            optimizer, **scheduler_config[\"params\"])\n",
    "\n",
    "\n",
    "def get_criterion(config: dict):\n",
    "    loss_config = config[\"loss\"]\n",
    "    loss_name = loss_config[\"name\"]\n",
    "    loss_params = {} if loss_config.get(\"params\") is None else loss_config.get(\"params\")\n",
    "    if hasattr(nn, loss_name):\n",
    "        criterion = nn.__getattribute__(loss_name)(**loss_params)\n",
    "    else:\n",
    "        criterion = globals().get(loss_name)(**loss_params)\n",
    "\n",
    "    return criterion\n",
    "\n",
    "def worker_init_fn(worker_id):                                                          \n",
    "    np.random.seed(np.random.get_state()[1][0] + worker_id)"
   ]
  },
  {
   "cell_type": "code",
   "execution_count": 17,
   "metadata": {},
   "outputs": [],
   "source": [
    "# Learner class(pytorch-lighting)\n",
    "class Learner(pl.LightningModule):\n",
    "    def __init__(self, model, config):\n",
    "        super().__init__()\n",
    "        self.model = model\n",
    "        self.config = config\n",
    "        self.xy_criterion = get_criterion(config)\n",
    "        self.f_criterion = get_criterion(config)\n",
    "    \n",
    "    def training_step(self, batch, batch_idx):\n",
    "        x, y = batch\n",
    "        output = self.model(x)\n",
    "        loss = self.xy_criterion(output[\"xy\"], y[\"xy\"])\n",
    "        return loss\n",
    "    \n",
    "    def validation_step(self, batch, batch_idx):\n",
    "        x, y = batch\n",
    "        output = self.model(x)\n",
    "        xy_loss = self.xy_criterion(output[\"xy\"], y[\"xy\"])\n",
    "        f_loss = self.f_criterion(output[\"floor\"], y[\"floor\"])\n",
    "        loss = xy_loss  # + f_loss\n",
    "        mpe = mean_position_error(\n",
    "            to_np(output['xy'][:, 0]), to_np(output['xy'][:, 1]), 0, \n",
    "            to_np(y['xy'][:, 0]), to_np(y['xy'][:, 1]), 0)\n",
    "        \n",
    "        # floor lossは現状は無視して良い\n",
    "        self.log(f'Loss/val', loss, on_step=False, on_epoch=True, prog_bar=False, logger=True)\n",
    "        self.log(f'Loss/xy', xy_loss, on_step=False, on_epoch=True, prog_bar=False, logger=True)\n",
    "        self.log(f'Loss/floor', f_loss, on_step=False, on_epoch=True, prog_bar=False, logger=True)\n",
    "        self.log(f'MPE/val', mpe, on_step=False, on_epoch=True, prog_bar=False, logger=True)\n",
    "        return loss\n",
    "\n",
    "    def configure_optimizers(self):\n",
    "        optimizer = get_optimizer(self.model, self.config)\n",
    "        scheduler = get_scheduler(optimizer, self.config)\n",
    "        return {\"optimizer\": optimizer, \"lr_scheduler\": scheduler, \"monitor\": \"Loss/val\"}"
   ]
  },
  {
   "cell_type": "code",
   "execution_count": 18,
   "metadata": {},
   "outputs": [],
   "source": [
    "# oof\n",
    "def evaluate(model, loaders, phase):\n",
    "    x_list = []\n",
    "    y_list = []\n",
    "    f_list = []\n",
    "    with torch.no_grad():\n",
    "        for batch in loaders[phase]:\n",
    "            x, y = batch\n",
    "            output = model(x)\n",
    "            x_list.append(to_np(output['xy'][:, 0]))\n",
    "            y_list.append(to_np(output['xy'][:, 1]))\n",
    "            f_list.append(to_np(output['floor']))\n",
    "\n",
    "    x_list = np.concatenate(x_list)\n",
    "    y_list = np.concatenate(y_list)\n",
    "    f_list = np.concatenate(f_list)\n",
    "    return x_list, y_list, f_list"
   ]
  },
  {
   "cell_type": "markdown",
   "metadata": {},
   "source": [
    "## train"
   ]
  },
  {
   "cell_type": "code",
   "execution_count": 22,
   "metadata": {
    "tags": []
   },
   "outputs": [
    {
     "output_type": "stream",
     "name": "stdout",
     "text": [
      "====================\n",
      "Fold 0\n",
      "====================\n",
      "/opt/anaconda3/lib/python3.8/site-packages/torch/nn/modules/rnn.py:58: UserWarning: dropout option adds dropout after all but last recurrent layer, so non-zero dropout expects num_layers greater than 1, but got dropout=0.3 and num_layers=1\n",
      "  warnings.warn(\"dropout option adds dropout after all but last \"\n",
      "/opt/anaconda3/lib/python3.8/site-packages/torch/nn/modules/rnn.py:58: UserWarning: dropout option adds dropout after all but last recurrent layer, so non-zero dropout expects num_layers greater than 1, but got dropout=0.1 and num_layers=1\n",
      "  warnings.warn(\"dropout option adds dropout after all but last \"\n",
      "Failed to detect the name of this notebook, you can set it manually with the WANDB_NOTEBOOK_NAME environment variable to enable code saving.\n",
      "\u001b[34m\u001b[1mwandb\u001b[0m: Currently logged in as: \u001b[33mkuto5046\u001b[0m (use `wandb login --relogin` to force relogin)\n",
      "\u001b[34m\u001b[1mwandb\u001b[0m: wandb version 0.10.24 is available!  To upgrade, please run:\n",
      "\u001b[34m\u001b[1mwandb\u001b[0m:  $ pip install wandb --upgrade\n"
     ]
    },
    {
     "output_type": "display_data",
     "data": {
      "text/plain": "<IPython.core.display.HTML object>",
      "text/html": "\n                Tracking run with wandb version 0.10.22<br/>\n                Syncing run <strong style=\"color:#cdcd00\">vivid-dew-193</strong> to <a href=\"https://wandb.ai\" target=\"_blank\">Weights & Biases</a> <a href=\"https://docs.wandb.com/integrations/jupyter.html\" target=\"_blank\">(Documentation)</a>.<br/>\n                Project page: <a href=\"https://wandb.ai/kuto5046/indoor\" target=\"_blank\">https://wandb.ai/kuto5046/indoor</a><br/>\n                Run page: <a href=\"https://wandb.ai/kuto5046/indoor/runs/6yl48jvu\" target=\"_blank\">https://wandb.ai/kuto5046/indoor/runs/6yl48jvu</a><br/>\n                Run data is saved locally in <code>/home/kuzira/work/exp/exp007/wandb/run-20210331_190714-6yl48jvu</code><br/><br/>\n            "
     },
     "metadata": {}
    },
    {
     "output_type": "stream",
     "name": "stdout",
     "text": [
      "fold 0: mean position error 7.710968541326397\n"
     ]
    },
    {
     "output_type": "display_data",
     "data": {
      "text/plain": "<IPython.core.display.HTML object>",
      "text/html": "<br/>Waiting for W&B process to finish, PID 473081<br/>Program ended successfully."
     },
     "metadata": {}
    },
    {
     "output_type": "display_data",
     "data": {
      "text/plain": "VBox(children=(Label(value=' 0.00MB of 0.00MB uploaded (0.00MB deduped)\\r'), FloatProgress(value=1.0, max=1.0)…",
      "application/vnd.jupyter.widget-view+json": {
       "version_major": 2,
       "version_minor": 0,
       "model_id": "cc91497d28c942fab7b0526be9143b26"
      }
     },
     "metadata": {}
    },
    {
     "output_type": "display_data",
     "data": {
      "text/plain": "<IPython.core.display.HTML object>",
      "text/html": "Find user logs for this run at: <code>/home/kuzira/work/exp/exp007/wandb/run-20210331_190714-6yl48jvu/logs/debug.log</code>"
     },
     "metadata": {}
    },
    {
     "output_type": "display_data",
     "data": {
      "text/plain": "<IPython.core.display.HTML object>",
      "text/html": "Find internal logs for this run at: <code>/home/kuzira/work/exp/exp007/wandb/run-20210331_190714-6yl48jvu/logs/debug-internal.log</code>"
     },
     "metadata": {}
    },
    {
     "output_type": "display_data",
     "data": {
      "text/plain": "<IPython.core.display.HTML object>",
      "text/html": "Synced 5 W&B file(s), 0 media file(s), 0 artifact file(s) and 0 other file(s)"
     },
     "metadata": {}
    },
    {
     "output_type": "display_data",
     "data": {
      "text/plain": "<IPython.core.display.HTML object>",
      "text/html": "\n                    <br/>Synced <strong style=\"color:#cdcd00\">vivid-dew-193</strong>: <a href=\"https://wandb.ai/kuto5046/indoor/runs/6yl48jvu\" target=\"_blank\">https://wandb.ai/kuto5046/indoor/runs/6yl48jvu</a><br/>\n                "
     },
     "metadata": {}
    },
    {
     "output_type": "stream",
     "name": "stdout",
     "text": [
      "====================\n",
      "Fold 1\n",
      "====================\n",
      "\u001b[34m\u001b[1mwandb\u001b[0m: wandb version 0.10.24 is available!  To upgrade, please run:\n",
      "\u001b[34m\u001b[1mwandb\u001b[0m:  $ pip install wandb --upgrade\n"
     ]
    },
    {
     "output_type": "display_data",
     "data": {
      "text/plain": "<IPython.core.display.HTML object>",
      "text/html": "\n                Tracking run with wandb version 0.10.22<br/>\n                Syncing run <strong style=\"color:#cdcd00\">unique-forest-194</strong> to <a href=\"https://wandb.ai\" target=\"_blank\">Weights & Biases</a> <a href=\"https://docs.wandb.com/integrations/jupyter.html\" target=\"_blank\">(Documentation)</a>.<br/>\n                Project page: <a href=\"https://wandb.ai/kuto5046/indoor\" target=\"_blank\">https://wandb.ai/kuto5046/indoor</a><br/>\n                Run page: <a href=\"https://wandb.ai/kuto5046/indoor/runs/ylr5tau6\" target=\"_blank\">https://wandb.ai/kuto5046/indoor/runs/ylr5tau6</a><br/>\n                Run data is saved locally in <code>/home/kuzira/work/exp/exp007/wandb/run-20210331_190724-ylr5tau6</code><br/><br/>\n            "
     },
     "metadata": {}
    },
    {
     "output_type": "stream",
     "name": "stdout",
     "text": [
      "fold 1: mean position error 7.722838655325648\n"
     ]
    },
    {
     "output_type": "display_data",
     "data": {
      "text/plain": "<IPython.core.display.HTML object>",
      "text/html": "<br/>Waiting for W&B process to finish, PID 473226<br/>Program ended successfully."
     },
     "metadata": {}
    },
    {
     "output_type": "display_data",
     "data": {
      "text/plain": "VBox(children=(Label(value=' 0.00MB of 0.00MB uploaded (0.00MB deduped)\\r'), FloatProgress(value=1.0, max=1.0)…",
      "application/vnd.jupyter.widget-view+json": {
       "version_major": 2,
       "version_minor": 0,
       "model_id": "9f0c5c251184473f80f1a300564f7dd5"
      }
     },
     "metadata": {}
    },
    {
     "output_type": "display_data",
     "data": {
      "text/plain": "<IPython.core.display.HTML object>",
      "text/html": "Find user logs for this run at: <code>/home/kuzira/work/exp/exp007/wandb/run-20210331_190724-ylr5tau6/logs/debug.log</code>"
     },
     "metadata": {}
    },
    {
     "output_type": "display_data",
     "data": {
      "text/plain": "<IPython.core.display.HTML object>",
      "text/html": "Find internal logs for this run at: <code>/home/kuzira/work/exp/exp007/wandb/run-20210331_190724-ylr5tau6/logs/debug-internal.log</code>"
     },
     "metadata": {}
    },
    {
     "output_type": "display_data",
     "data": {
      "text/plain": "<IPython.core.display.HTML object>",
      "text/html": "Synced 5 W&B file(s), 0 media file(s), 0 artifact file(s) and 0 other file(s)"
     },
     "metadata": {}
    },
    {
     "output_type": "display_data",
     "data": {
      "text/plain": "<IPython.core.display.HTML object>",
      "text/html": "\n                    <br/>Synced <strong style=\"color:#cdcd00\">unique-forest-194</strong>: <a href=\"https://wandb.ai/kuto5046/indoor/runs/ylr5tau6\" target=\"_blank\">https://wandb.ai/kuto5046/indoor/runs/ylr5tau6</a><br/>\n                "
     },
     "metadata": {}
    },
    {
     "output_type": "stream",
     "name": "stdout",
     "text": [
      "====================\n",
      "Fold 2\n",
      "====================\n",
      "\u001b[34m\u001b[1mwandb\u001b[0m: wandb version 0.10.24 is available!  To upgrade, please run:\n",
      "\u001b[34m\u001b[1mwandb\u001b[0m:  $ pip install wandb --upgrade\n"
     ]
    },
    {
     "output_type": "display_data",
     "data": {
      "text/plain": "<IPython.core.display.HTML object>",
      "text/html": "\n                Tracking run with wandb version 0.10.22<br/>\n                Syncing run <strong style=\"color:#cdcd00\">noble-donkey-195</strong> to <a href=\"https://wandb.ai\" target=\"_blank\">Weights & Biases</a> <a href=\"https://docs.wandb.com/integrations/jupyter.html\" target=\"_blank\">(Documentation)</a>.<br/>\n                Project page: <a href=\"https://wandb.ai/kuto5046/indoor\" target=\"_blank\">https://wandb.ai/kuto5046/indoor</a><br/>\n                Run page: <a href=\"https://wandb.ai/kuto5046/indoor/runs/8xgirj3f\" target=\"_blank\">https://wandb.ai/kuto5046/indoor/runs/8xgirj3f</a><br/>\n                Run data is saved locally in <code>/home/kuzira/work/exp/exp007/wandb/run-20210331_190732-8xgirj3f</code><br/><br/>\n            "
     },
     "metadata": {}
    },
    {
     "output_type": "stream",
     "name": "stdout",
     "text": [
      "fold 2: mean position error 7.369896543694032\n"
     ]
    },
    {
     "output_type": "display_data",
     "data": {
      "text/plain": "<IPython.core.display.HTML object>",
      "text/html": "<br/>Waiting for W&B process to finish, PID 473343<br/>Program ended successfully."
     },
     "metadata": {}
    },
    {
     "output_type": "display_data",
     "data": {
      "text/plain": "VBox(children=(Label(value=' 0.00MB of 0.00MB uploaded (0.00MB deduped)\\r'), FloatProgress(value=1.0, max=1.0)…",
      "application/vnd.jupyter.widget-view+json": {
       "version_major": 2,
       "version_minor": 0,
       "model_id": "9bb12a88107142fd819157a82168b940"
      }
     },
     "metadata": {}
    },
    {
     "output_type": "display_data",
     "data": {
      "text/plain": "<IPython.core.display.HTML object>",
      "text/html": "Find user logs for this run at: <code>/home/kuzira/work/exp/exp007/wandb/run-20210331_190732-8xgirj3f/logs/debug.log</code>"
     },
     "metadata": {}
    },
    {
     "output_type": "display_data",
     "data": {
      "text/plain": "<IPython.core.display.HTML object>",
      "text/html": "Find internal logs for this run at: <code>/home/kuzira/work/exp/exp007/wandb/run-20210331_190732-8xgirj3f/logs/debug-internal.log</code>"
     },
     "metadata": {}
    },
    {
     "output_type": "display_data",
     "data": {
      "text/plain": "<IPython.core.display.HTML object>",
      "text/html": "Synced 5 W&B file(s), 0 media file(s), 0 artifact file(s) and 0 other file(s)"
     },
     "metadata": {}
    },
    {
     "output_type": "display_data",
     "data": {
      "text/plain": "<IPython.core.display.HTML object>",
      "text/html": "\n                    <br/>Synced <strong style=\"color:#cdcd00\">noble-donkey-195</strong>: <a href=\"https://wandb.ai/kuto5046/indoor/runs/8xgirj3f\" target=\"_blank\">https://wandb.ai/kuto5046/indoor/runs/8xgirj3f</a><br/>\n                "
     },
     "metadata": {}
    },
    {
     "output_type": "stream",
     "name": "stdout",
     "text": [
      "====================\n",
      "Fold 3\n",
      "====================\n",
      "\u001b[34m\u001b[1mwandb\u001b[0m: wandb version 0.10.24 is available!  To upgrade, please run:\n",
      "\u001b[34m\u001b[1mwandb\u001b[0m:  $ pip install wandb --upgrade\n"
     ]
    },
    {
     "output_type": "display_data",
     "data": {
      "text/plain": "<IPython.core.display.HTML object>",
      "text/html": "\n                Tracking run with wandb version 0.10.22<br/>\n                Syncing run <strong style=\"color:#cdcd00\">grateful-star-196</strong> to <a href=\"https://wandb.ai\" target=\"_blank\">Weights & Biases</a> <a href=\"https://docs.wandb.com/integrations/jupyter.html\" target=\"_blank\">(Documentation)</a>.<br/>\n                Project page: <a href=\"https://wandb.ai/kuto5046/indoor\" target=\"_blank\">https://wandb.ai/kuto5046/indoor</a><br/>\n                Run page: <a href=\"https://wandb.ai/kuto5046/indoor/runs/3q4ubykp\" target=\"_blank\">https://wandb.ai/kuto5046/indoor/runs/3q4ubykp</a><br/>\n                Run data is saved locally in <code>/home/kuzira/work/exp/exp007/wandb/run-20210331_190740-3q4ubykp</code><br/><br/>\n            "
     },
     "metadata": {}
    },
    {
     "output_type": "stream",
     "name": "stdout",
     "text": [
      "fold 3: mean position error 8.058767830670824\n"
     ]
    },
    {
     "output_type": "display_data",
     "data": {
      "text/plain": "<IPython.core.display.HTML object>",
      "text/html": "<br/>Waiting for W&B process to finish, PID 473468<br/>Program ended successfully."
     },
     "metadata": {}
    },
    {
     "output_type": "display_data",
     "data": {
      "text/plain": "VBox(children=(Label(value=' 0.00MB of 0.00MB uploaded (0.00MB deduped)\\r'), FloatProgress(value=1.0, max=1.0)…",
      "application/vnd.jupyter.widget-view+json": {
       "version_major": 2,
       "version_minor": 0,
       "model_id": "27923b0082f44d229cee4d75fca96951"
      }
     },
     "metadata": {}
    },
    {
     "output_type": "display_data",
     "data": {
      "text/plain": "<IPython.core.display.HTML object>",
      "text/html": "Find user logs for this run at: <code>/home/kuzira/work/exp/exp007/wandb/run-20210331_190740-3q4ubykp/logs/debug.log</code>"
     },
     "metadata": {}
    },
    {
     "output_type": "display_data",
     "data": {
      "text/plain": "<IPython.core.display.HTML object>",
      "text/html": "Find internal logs for this run at: <code>/home/kuzira/work/exp/exp007/wandb/run-20210331_190740-3q4ubykp/logs/debug-internal.log</code>"
     },
     "metadata": {}
    },
    {
     "output_type": "display_data",
     "data": {
      "text/plain": "<IPython.core.display.HTML object>",
      "text/html": "Synced 5 W&B file(s), 0 media file(s), 0 artifact file(s) and 0 other file(s)"
     },
     "metadata": {}
    },
    {
     "output_type": "display_data",
     "data": {
      "text/plain": "<IPython.core.display.HTML object>",
      "text/html": "\n                    <br/>Synced <strong style=\"color:#cdcd00\">grateful-star-196</strong>: <a href=\"https://wandb.ai/kuto5046/indoor/runs/3q4ubykp\" target=\"_blank\">https://wandb.ai/kuto5046/indoor/runs/3q4ubykp</a><br/>\n                "
     },
     "metadata": {}
    },
    {
     "output_type": "stream",
     "name": "stdout",
     "text": [
      "====================\n",
      "Fold 4\n",
      "====================\n",
      "\u001b[34m\u001b[1mwandb\u001b[0m: wandb version 0.10.24 is available!  To upgrade, please run:\n",
      "\u001b[34m\u001b[1mwandb\u001b[0m:  $ pip install wandb --upgrade\n"
     ]
    },
    {
     "output_type": "display_data",
     "data": {
      "text/plain": "<IPython.core.display.HTML object>",
      "text/html": "\n                Tracking run with wandb version 0.10.22<br/>\n                Syncing run <strong style=\"color:#cdcd00\">whole-mountain-197</strong> to <a href=\"https://wandb.ai\" target=\"_blank\">Weights & Biases</a> <a href=\"https://docs.wandb.com/integrations/jupyter.html\" target=\"_blank\">(Documentation)</a>.<br/>\n                Project page: <a href=\"https://wandb.ai/kuto5046/indoor\" target=\"_blank\">https://wandb.ai/kuto5046/indoor</a><br/>\n                Run page: <a href=\"https://wandb.ai/kuto5046/indoor/runs/2g5upghi\" target=\"_blank\">https://wandb.ai/kuto5046/indoor/runs/2g5upghi</a><br/>\n                Run data is saved locally in <code>/home/kuzira/work/exp/exp007/wandb/run-20210331_190747-2g5upghi</code><br/><br/>\n            "
     },
     "metadata": {}
    },
    {
     "output_type": "stream",
     "name": "stdout",
     "text": [
      "fold 4: mean position error 7.71283324302871\n"
     ]
    },
    {
     "output_type": "display_data",
     "data": {
      "text/plain": "<IPython.core.display.HTML object>",
      "text/html": "<br/>Waiting for W&B process to finish, PID 473581<br/>Program ended successfully."
     },
     "metadata": {}
    },
    {
     "output_type": "display_data",
     "data": {
      "text/plain": "VBox(children=(Label(value=' 0.00MB of 0.00MB uploaded (0.00MB deduped)\\r'), FloatProgress(value=1.0, max=1.0)…",
      "application/vnd.jupyter.widget-view+json": {
       "version_major": 2,
       "version_minor": 0,
       "model_id": "2debff6b48a44ea49052d6c7770653f1"
      }
     },
     "metadata": {}
    },
    {
     "output_type": "display_data",
     "data": {
      "text/plain": "<IPython.core.display.HTML object>",
      "text/html": "Find user logs for this run at: <code>/home/kuzira/work/exp/exp007/wandb/run-20210331_190747-2g5upghi/logs/debug.log</code>"
     },
     "metadata": {}
    },
    {
     "output_type": "display_data",
     "data": {
      "text/plain": "<IPython.core.display.HTML object>",
      "text/html": "Find internal logs for this run at: <code>/home/kuzira/work/exp/exp007/wandb/run-20210331_190747-2g5upghi/logs/debug-internal.log</code>"
     },
     "metadata": {}
    },
    {
     "output_type": "display_data",
     "data": {
      "text/plain": "<IPython.core.display.HTML object>",
      "text/html": "Synced 5 W&B file(s), 0 media file(s), 0 artifact file(s) and 0 other file(s)"
     },
     "metadata": {}
    },
    {
     "output_type": "display_data",
     "data": {
      "text/plain": "<IPython.core.display.HTML object>",
      "text/html": "\n                    <br/>Synced <strong style=\"color:#cdcd00\">whole-mountain-197</strong>: <a href=\"https://wandb.ai/kuto5046/indoor/runs/2g5upghi\" target=\"_blank\">https://wandb.ai/kuto5046/indoor/runs/2g5upghi</a><br/>\n                "
     },
     "metadata": {}
    }
   ],
   "source": [
    "oofs = []  # 全てのoofをdfで格納する\n",
    "predictions = []  # 全ての予測値をdfで格納する\n",
    "val_scores = []\n",
    "# skf = model_selection.StratifiedKFold(n_splits=N_SPLITS, shuffle=True, random_state=SEED)\n",
    "gkf = model_selection.GroupKFold(n_splits=N_SPLITS)\n",
    "# 今回はtargetを均等に分ける必要はなくpathが均等に分かれればいいのでskf.split()にpathを与えている。\n",
    "for fold, (trn_idx, val_idx) in enumerate(gkf.split(train.loc[:, 'path'], groups=train.loc[:, 'path'])):\n",
    "    # 指定したfoldのみループを回す\n",
    "    if fold not in USE_FOLDS:\n",
    "        continue\n",
    "\n",
    "    print('=' * 20)\n",
    "    print(f'Fold {fold}')\n",
    "    print('=' * 20)\n",
    "\n",
    "    # train/valid data\n",
    "    trn_df = train.loc[trn_idx, BSSID_FEATS + RSSI_FEATS + ['site_id', 'wifi_x','wifi_y','floor']].reset_index(drop=True)\n",
    "    val_df = train.loc[val_idx, BSSID_FEATS + RSSI_FEATS + ['site_id', 'wifi_x','wifi_y','floor']].reset_index(drop=True)\n",
    "\n",
    "    # data loader\n",
    "    loaders = {}\n",
    "    loader_config = config[\"loader\"]\n",
    "    loaders[\"train\"] = DataLoader(IndoorDataset(trn_df, phase=\"train\"), **loader_config[\"train\"], worker_init_fn=worker_init_fn) \n",
    "    loaders[\"valid\"] = DataLoader(IndoorDataset(val_df, phase=\"valid\"), **loader_config[\"valid\"], worker_init_fn=worker_init_fn)\n",
    "    loaders[\"test\"] = DataLoader(IndoorDataset(test, phase=\"test\"), **loader_config[\"test\"], worker_init_fn=worker_init_fn)\n",
    "\n",
    "    # model\n",
    "    model = LSTMModel(wifi_bssids_size+1, site_count)  # +1としているのはLEを1スタートで始めているため\n",
    "    model_name = model.__class__.__name__\n",
    "\n",
    "    # callbacks\n",
    "    callbacks = []\n",
    "    checkpoint_callback = ModelCheckpoint(\n",
    "        monitor=f'Loss/val',\n",
    "        mode='min',\n",
    "        dirpath=f\"../../model/{EXP_NAME}\",\n",
    "        verbose=False,\n",
    "        filename=f'{model_name}-{fold}')\n",
    "    \n",
    "    if MODEL_SAVE:\n",
    "        callbacks.append(checkpoint_callback)\n",
    "\n",
    "    early_stop_callback = EarlyStopping(\n",
    "        monitor='Loss/val',\n",
    "        min_delta=0.00,\n",
    "        patience=10,\n",
    "        verbose=False,\n",
    "        mode='min')\n",
    "    callbacks.append(early_stop_callback)\n",
    "\n",
    "    # loggers\n",
    "    RUN_NAME = EXP_NAME + \"_\" + EXP_MESSAGE\n",
    "    wandb.init(project='indoor', notes=NOTES, entity='kuto5046', group=RUN_NAME)\n",
    "    wandb.run.name = RUN_NAME + f'-fold-{fold}'\n",
    "    wandb_config = wandb.config\n",
    "    wandb_config.model_name = model_name\n",
    "    wandb_config.LB = None\n",
    "    wandb.watch(model)\n",
    "    \n",
    "    \n",
    "    loggers = []\n",
    "    loggers.append(WandbLogger())\n",
    "\n",
    "    learner = Learner(model, config)\n",
    "    # pretrained flag\n",
    "    if PRETRAINED:\n",
    "        ckpt = torch.load(PRETRAINED_PATH + f'{model_name}-{fold}.ckpt')\n",
    "        learner.load_state_dict(ckpt['state_dict'])\n",
    "\n",
    "    if not ONLY_PRED:\n",
    "        trainer = pl.Trainer(\n",
    "            logger=loggers, \n",
    "            callbacks=callbacks,\n",
    "            max_epochs=MAX_EPOCHS,\n",
    "            gpus=[0],\n",
    "            fast_dev_run=DEBUG,\n",
    "            deterministic=True,\n",
    "            # precision=16,\n",
    "            progress_bar_refresh_rate=0  # vscodeの時progress barの動作が遅いので表示しない\n",
    "            )\n",
    "\n",
    "        trainer.fit(learner, train_dataloader=loaders['train'], val_dataloaders=loaders['valid'])\n",
    "\n",
    "    #############\n",
    "    # validation (to make oof)\n",
    "    #############\n",
    "    model.eval()  \n",
    "    oof_df = train.loc[val_idx, ['timestamp', 'x', 'y', 'site_id','site_id_str', 'wifi_x','wifi_y', 'floor', 'floor_str', 'path', 'time_diff']].reset_index(drop=True)\n",
    "    oof_x, oof_y, oof_f = evaluate(model, loaders, phase=\"valid\")\n",
    "    oof_df[\"oof_x\"] = oof_x\n",
    "    oof_df[\"oof_y\"] = oof_y\n",
    "    oof_df[\"oof_floor\"] = oof_f\n",
    "    oofs.append(oof_df)\n",
    "    \n",
    "    val_score = mean_position_error(\n",
    "        oof_df[\"oof_x\"].values, oof_df[\"oof_y\"].values, 0,\n",
    "        oof_df['wifi_x'].values, oof_df['wifi_y'].values, 0)\n",
    "    val_scores.append(val_score)\n",
    "    print(f\"fold {fold}: mean position error {val_score}\")\n",
    "\n",
    "    #############\n",
    "    # inference\n",
    "    #############n\n",
    "\n",
    "    preds_x, preds_y, preds_f = evaluate(model, loaders, phase=\"test\")\n",
    "    test_preds = pd.DataFrame(np.stack((preds_f, preds_x, preds_y))).T\n",
    "    test_preds.columns = sub.columns\n",
    "    test_preds[\"site_path_timestamp\"] = test[\"site_path_timestamp\"]\n",
    "    test_preds[\"floor\"] = test_preds[\"floor\"].astype(int)\n",
    "    test_preds.to_csv(f'{RUN_NAME}_fold{fold}.csv', index=False)\n",
    "    predictions.append(test_preds)\n",
    "    wandb.finish()"
   ]
  },
  {
   "cell_type": "code",
   "execution_count": 23,
   "metadata": {},
   "outputs": [
    {
     "output_type": "execute_result",
     "data": {
      "text/plain": [
       "           timestamp          x          y  site_id               site_id_str  \\\n",
       "0      1571625850645  82.922240  210.56656       21  5da958dd46f8266d0737457b   \n",
       "1      1571625850645  82.922240  210.56656       21  5da958dd46f8266d0737457b   \n",
       "2      1571625850645  82.922240  210.56656       21  5da958dd46f8266d0737457b   \n",
       "3      1571625861986  84.959270  216.99500       21  5da958dd46f8266d0737457b   \n",
       "4      1571625861986  84.959270  216.99500       21  5da958dd46f8266d0737457b   \n",
       "...              ...        ...        ...      ...                       ...   \n",
       "51620  1573822164854  12.662716  100.47756        5  5d27099f03f801723c32511d   \n",
       "51621  1573822164854  12.662716  100.47756        5  5d27099f03f801723c32511d   \n",
       "51622  1573822173051   7.799886  107.13921        5  5d27099f03f801723c32511d   \n",
       "51623  1573822173051   7.799886  107.13921        5  5d27099f03f801723c32511d   \n",
       "51624  1573822173051   7.799886  107.13921        5  5d27099f03f801723c32511d   \n",
       "\n",
       "          wifi_x      wifi_y  floor floor_str                      path  \\\n",
       "0      83.261745  211.637967      0        F1  5dad1caa18410e00067e734c   \n",
       "1      83.601250  212.709373      0        F1  5dad1caa18410e00067e734c   \n",
       "2      83.940755  213.780780      0        F1  5dad1caa18410e00067e734c   \n",
       "3      84.280260  214.852187      0        F1  5dad1caa18410e00067e734c   \n",
       "4      84.619765  215.923593      0        F1  5dad1caa18410e00067e734c   \n",
       "...          ...         ...    ...       ...                       ...   \n",
       "51620  12.662716  100.477560      1        F2  5dce9eea5516ad00065f04a7   \n",
       "51621  11.041773  102.698110      1        F2  5dce9eea5516ad00065f04a7   \n",
       "51622   9.961144  104.178477      1        F2  5dce9eea5516ad00065f04a7   \n",
       "51623   8.880515  105.658843      1        F2  5dce9eea5516ad00065f04a7   \n",
       "51624   7.799886  107.139210      1        F2  5dce9eea5516ad00065f04a7   \n",
       "\n",
       "       time_diff      oof_x       oof_y  oof_floor  \n",
       "0           1878  88.874680  208.189270   0.035873  \n",
       "1           3771  89.391998  208.756088   0.040552  \n",
       "2           5657  89.672028  212.722687   0.040091  \n",
       "3          -3788  90.491730  212.158722   0.041784  \n",
       "4          -1905  86.897095  217.139526   0.036175  \n",
       "...          ...        ...         ...        ...  \n",
       "51620        447  15.012345  101.914925   0.269409  \n",
       "51621       2393  15.492247   98.461067   0.258506  \n",
       "51622      -3876  16.128004  100.353477   0.262384  \n",
       "51623      -1946  14.627602  100.902176   0.265500  \n",
       "51624        -17  16.454372  101.799461   0.266528  \n",
       "\n",
       "[258125 rows x 14 columns]"
      ],
      "text/html": "<div>\n<style scoped>\n    .dataframe tbody tr th:only-of-type {\n        vertical-align: middle;\n    }\n\n    .dataframe tbody tr th {\n        vertical-align: top;\n    }\n\n    .dataframe thead th {\n        text-align: right;\n    }\n</style>\n<table border=\"1\" class=\"dataframe\">\n  <thead>\n    <tr style=\"text-align: right;\">\n      <th></th>\n      <th>timestamp</th>\n      <th>x</th>\n      <th>y</th>\n      <th>site_id</th>\n      <th>site_id_str</th>\n      <th>wifi_x</th>\n      <th>wifi_y</th>\n      <th>floor</th>\n      <th>floor_str</th>\n      <th>path</th>\n      <th>time_diff</th>\n      <th>oof_x</th>\n      <th>oof_y</th>\n      <th>oof_floor</th>\n    </tr>\n  </thead>\n  <tbody>\n    <tr>\n      <th>0</th>\n      <td>1571625850645</td>\n      <td>82.922240</td>\n      <td>210.56656</td>\n      <td>21</td>\n      <td>5da958dd46f8266d0737457b</td>\n      <td>83.261745</td>\n      <td>211.637967</td>\n      <td>0</td>\n      <td>F1</td>\n      <td>5dad1caa18410e00067e734c</td>\n      <td>1878</td>\n      <td>88.874680</td>\n      <td>208.189270</td>\n      <td>0.035873</td>\n    </tr>\n    <tr>\n      <th>1</th>\n      <td>1571625850645</td>\n      <td>82.922240</td>\n      <td>210.56656</td>\n      <td>21</td>\n      <td>5da958dd46f8266d0737457b</td>\n      <td>83.601250</td>\n      <td>212.709373</td>\n      <td>0</td>\n      <td>F1</td>\n      <td>5dad1caa18410e00067e734c</td>\n      <td>3771</td>\n      <td>89.391998</td>\n      <td>208.756088</td>\n      <td>0.040552</td>\n    </tr>\n    <tr>\n      <th>2</th>\n      <td>1571625850645</td>\n      <td>82.922240</td>\n      <td>210.56656</td>\n      <td>21</td>\n      <td>5da958dd46f8266d0737457b</td>\n      <td>83.940755</td>\n      <td>213.780780</td>\n      <td>0</td>\n      <td>F1</td>\n      <td>5dad1caa18410e00067e734c</td>\n      <td>5657</td>\n      <td>89.672028</td>\n      <td>212.722687</td>\n      <td>0.040091</td>\n    </tr>\n    <tr>\n      <th>3</th>\n      <td>1571625861986</td>\n      <td>84.959270</td>\n      <td>216.99500</td>\n      <td>21</td>\n      <td>5da958dd46f8266d0737457b</td>\n      <td>84.280260</td>\n      <td>214.852187</td>\n      <td>0</td>\n      <td>F1</td>\n      <td>5dad1caa18410e00067e734c</td>\n      <td>-3788</td>\n      <td>90.491730</td>\n      <td>212.158722</td>\n      <td>0.041784</td>\n    </tr>\n    <tr>\n      <th>4</th>\n      <td>1571625861986</td>\n      <td>84.959270</td>\n      <td>216.99500</td>\n      <td>21</td>\n      <td>5da958dd46f8266d0737457b</td>\n      <td>84.619765</td>\n      <td>215.923593</td>\n      <td>0</td>\n      <td>F1</td>\n      <td>5dad1caa18410e00067e734c</td>\n      <td>-1905</td>\n      <td>86.897095</td>\n      <td>217.139526</td>\n      <td>0.036175</td>\n    </tr>\n    <tr>\n      <th>...</th>\n      <td>...</td>\n      <td>...</td>\n      <td>...</td>\n      <td>...</td>\n      <td>...</td>\n      <td>...</td>\n      <td>...</td>\n      <td>...</td>\n      <td>...</td>\n      <td>...</td>\n      <td>...</td>\n      <td>...</td>\n      <td>...</td>\n      <td>...</td>\n    </tr>\n    <tr>\n      <th>51620</th>\n      <td>1573822164854</td>\n      <td>12.662716</td>\n      <td>100.47756</td>\n      <td>5</td>\n      <td>5d27099f03f801723c32511d</td>\n      <td>12.662716</td>\n      <td>100.477560</td>\n      <td>1</td>\n      <td>F2</td>\n      <td>5dce9eea5516ad00065f04a7</td>\n      <td>447</td>\n      <td>15.012345</td>\n      <td>101.914925</td>\n      <td>0.269409</td>\n    </tr>\n    <tr>\n      <th>51621</th>\n      <td>1573822164854</td>\n      <td>12.662716</td>\n      <td>100.47756</td>\n      <td>5</td>\n      <td>5d27099f03f801723c32511d</td>\n      <td>11.041773</td>\n      <td>102.698110</td>\n      <td>1</td>\n      <td>F2</td>\n      <td>5dce9eea5516ad00065f04a7</td>\n      <td>2393</td>\n      <td>15.492247</td>\n      <td>98.461067</td>\n      <td>0.258506</td>\n    </tr>\n    <tr>\n      <th>51622</th>\n      <td>1573822173051</td>\n      <td>7.799886</td>\n      <td>107.13921</td>\n      <td>5</td>\n      <td>5d27099f03f801723c32511d</td>\n      <td>9.961144</td>\n      <td>104.178477</td>\n      <td>1</td>\n      <td>F2</td>\n      <td>5dce9eea5516ad00065f04a7</td>\n      <td>-3876</td>\n      <td>16.128004</td>\n      <td>100.353477</td>\n      <td>0.262384</td>\n    </tr>\n    <tr>\n      <th>51623</th>\n      <td>1573822173051</td>\n      <td>7.799886</td>\n      <td>107.13921</td>\n      <td>5</td>\n      <td>5d27099f03f801723c32511d</td>\n      <td>8.880515</td>\n      <td>105.658843</td>\n      <td>1</td>\n      <td>F2</td>\n      <td>5dce9eea5516ad00065f04a7</td>\n      <td>-1946</td>\n      <td>14.627602</td>\n      <td>100.902176</td>\n      <td>0.265500</td>\n    </tr>\n    <tr>\n      <th>51624</th>\n      <td>1573822173051</td>\n      <td>7.799886</td>\n      <td>107.13921</td>\n      <td>5</td>\n      <td>5d27099f03f801723c32511d</td>\n      <td>7.799886</td>\n      <td>107.139210</td>\n      <td>1</td>\n      <td>F2</td>\n      <td>5dce9eea5516ad00065f04a7</td>\n      <td>-17</td>\n      <td>16.454372</td>\n      <td>101.799461</td>\n      <td>0.266528</td>\n    </tr>\n  </tbody>\n</table>\n<p>258125 rows × 14 columns</p>\n</div>"
     },
     "metadata": {},
     "execution_count": 23
    }
   ],
   "source": [
    "if len(USE_FOLDS) > 1:\n",
    "    oofs_df = pd.concat(oofs)\n",
    "else:\n",
    "    oofs_df = oofs[0]\n",
    "oofs_df.to_csv(\"oof.csv\", index=False)\n",
    "oofs_df"
   ]
  },
  {
   "cell_type": "code",
   "execution_count": 50,
   "metadata": {},
   "outputs": [
    {
     "output_type": "execute_result",
     "data": {
      "text/plain": [
       "                                                    floor           x  \\\n",
       "site_path_timestamp                                                     \n",
       "5a0546857ecc773753327266_046cfa46be49fc10834815...      0   87.954796   \n",
       "5a0546857ecc773753327266_046cfa46be49fc10834815...      0   84.130959   \n",
       "5a0546857ecc773753327266_046cfa46be49fc10834815...      0   86.090317   \n",
       "5a0546857ecc773753327266_046cfa46be49fc10834815...      0   87.595718   \n",
       "5a0546857ecc773753327266_046cfa46be49fc10834815...      0   86.149513   \n",
       "...                                                   ...         ...   \n",
       "5dc8cea7659e181adb076a3f_fd64de8c4a2fc5ebb0e9f4...      0  214.097397   \n",
       "5dc8cea7659e181adb076a3f_fd64de8c4a2fc5ebb0e9f4...      0  209.983994   \n",
       "5dc8cea7659e181adb076a3f_fd64de8c4a2fc5ebb0e9f4...      0  205.807724   \n",
       "5dc8cea7659e181adb076a3f_fd64de8c4a2fc5ebb0e9f4...      0  202.292267   \n",
       "5dc8cea7659e181adb076a3f_fd64de8c4a2fc5ebb0e9f4...      0  199.881561   \n",
       "\n",
       "                                                             y  \n",
       "site_path_timestamp                                             \n",
       "5a0546857ecc773753327266_046cfa46be49fc10834815...  102.605637  \n",
       "5a0546857ecc773753327266_046cfa46be49fc10834815...  102.008942  \n",
       "5a0546857ecc773753327266_046cfa46be49fc10834815...  104.619865  \n",
       "5a0546857ecc773753327266_046cfa46be49fc10834815...  105.741379  \n",
       "5a0546857ecc773753327266_046cfa46be49fc10834815...  105.548729  \n",
       "...                                                        ...  \n",
       "5dc8cea7659e181adb076a3f_fd64de8c4a2fc5ebb0e9f4...   90.171814  \n",
       "5dc8cea7659e181adb076a3f_fd64de8c4a2fc5ebb0e9f4...   99.197472  \n",
       "5dc8cea7659e181adb076a3f_fd64de8c4a2fc5ebb0e9f4...  105.314880  \n",
       "5dc8cea7659e181adb076a3f_fd64de8c4a2fc5ebb0e9f4...  111.906059  \n",
       "5dc8cea7659e181adb076a3f_fd64de8c4a2fc5ebb0e9f4...  111.624573  \n",
       "\n",
       "[10133 rows x 3 columns]"
      ],
      "text/html": "<div>\n<style scoped>\n    .dataframe tbody tr th:only-of-type {\n        vertical-align: middle;\n    }\n\n    .dataframe tbody tr th {\n        vertical-align: top;\n    }\n\n    .dataframe thead th {\n        text-align: right;\n    }\n</style>\n<table border=\"1\" class=\"dataframe\">\n  <thead>\n    <tr style=\"text-align: right;\">\n      <th></th>\n      <th>floor</th>\n      <th>x</th>\n      <th>y</th>\n    </tr>\n    <tr>\n      <th>site_path_timestamp</th>\n      <th></th>\n      <th></th>\n      <th></th>\n    </tr>\n  </thead>\n  <tbody>\n    <tr>\n      <th>5a0546857ecc773753327266_046cfa46be49fc10834815c6_0000000000009</th>\n      <td>0</td>\n      <td>87.954796</td>\n      <td>102.605637</td>\n    </tr>\n    <tr>\n      <th>5a0546857ecc773753327266_046cfa46be49fc10834815c6_0000000009017</th>\n      <td>0</td>\n      <td>84.130959</td>\n      <td>102.008942</td>\n    </tr>\n    <tr>\n      <th>5a0546857ecc773753327266_046cfa46be49fc10834815c6_0000000015326</th>\n      <td>0</td>\n      <td>86.090317</td>\n      <td>104.619865</td>\n    </tr>\n    <tr>\n      <th>5a0546857ecc773753327266_046cfa46be49fc10834815c6_0000000018763</th>\n      <td>0</td>\n      <td>87.595718</td>\n      <td>105.741379</td>\n    </tr>\n    <tr>\n      <th>5a0546857ecc773753327266_046cfa46be49fc10834815c6_0000000022328</th>\n      <td>0</td>\n      <td>86.149513</td>\n      <td>105.548729</td>\n    </tr>\n    <tr>\n      <th>...</th>\n      <td>...</td>\n      <td>...</td>\n      <td>...</td>\n    </tr>\n    <tr>\n      <th>5dc8cea7659e181adb076a3f_fd64de8c4a2fc5ebb0e9f412_0000000082589</th>\n      <td>0</td>\n      <td>214.097397</td>\n      <td>90.171814</td>\n    </tr>\n    <tr>\n      <th>5dc8cea7659e181adb076a3f_fd64de8c4a2fc5ebb0e9f412_0000000085758</th>\n      <td>0</td>\n      <td>209.983994</td>\n      <td>99.197472</td>\n    </tr>\n    <tr>\n      <th>5dc8cea7659e181adb076a3f_fd64de8c4a2fc5ebb0e9f412_0000000090895</th>\n      <td>0</td>\n      <td>205.807724</td>\n      <td>105.314880</td>\n    </tr>\n    <tr>\n      <th>5dc8cea7659e181adb076a3f_fd64de8c4a2fc5ebb0e9f412_0000000096899</th>\n      <td>0</td>\n      <td>202.292267</td>\n      <td>111.906059</td>\n    </tr>\n    <tr>\n      <th>5dc8cea7659e181adb076a3f_fd64de8c4a2fc5ebb0e9f412_0000000100447</th>\n      <td>0</td>\n      <td>199.881561</td>\n      <td>111.624573</td>\n    </tr>\n  </tbody>\n</table>\n<p>10133 rows × 3 columns</p>\n</div>"
     },
     "metadata": {},
     "execution_count": 50
    }
   ],
   "source": [
    "if len(USE_FOLDS) > 1:\n",
    "    # foldの結果を平均した後、reindexでsubmission fileにindexを合わせる\n",
    "    sub = pd.concat(predictions).groupby('site_path_timestamp').mean().reindex(sub.index)\n",
    "else:\n",
    "    sub = predictions[0].reindex(sub.index)\n",
    "sub"
   ]
  },
  {
   "cell_type": "code",
   "execution_count": 51,
   "metadata": {},
   "outputs": [
    {
     "output_type": "execute_result",
     "data": {
      "text/plain": [
       "                                                    floor           x  \\\n",
       "site_path_timestamp                                                     \n",
       "5a0546857ecc773753327266_046cfa46be49fc10834815...      0   87.954796   \n",
       "5a0546857ecc773753327266_046cfa46be49fc10834815...      0   84.130959   \n",
       "5a0546857ecc773753327266_046cfa46be49fc10834815...      0   86.090317   \n",
       "5a0546857ecc773753327266_046cfa46be49fc10834815...      0   87.595718   \n",
       "5a0546857ecc773753327266_046cfa46be49fc10834815...      0   86.149513   \n",
       "...                                                   ...         ...   \n",
       "5dc8cea7659e181adb076a3f_fd64de8c4a2fc5ebb0e9f4...      5  214.097397   \n",
       "5dc8cea7659e181adb076a3f_fd64de8c4a2fc5ebb0e9f4...      5  209.983994   \n",
       "5dc8cea7659e181adb076a3f_fd64de8c4a2fc5ebb0e9f4...      5  205.807724   \n",
       "5dc8cea7659e181adb076a3f_fd64de8c4a2fc5ebb0e9f4...      5  202.292267   \n",
       "5dc8cea7659e181adb076a3f_fd64de8c4a2fc5ebb0e9f4...      5  199.881561   \n",
       "\n",
       "                                                             y  \n",
       "site_path_timestamp                                             \n",
       "5a0546857ecc773753327266_046cfa46be49fc10834815...  102.605637  \n",
       "5a0546857ecc773753327266_046cfa46be49fc10834815...  102.008942  \n",
       "5a0546857ecc773753327266_046cfa46be49fc10834815...  104.619865  \n",
       "5a0546857ecc773753327266_046cfa46be49fc10834815...  105.741379  \n",
       "5a0546857ecc773753327266_046cfa46be49fc10834815...  105.548729  \n",
       "...                                                        ...  \n",
       "5dc8cea7659e181adb076a3f_fd64de8c4a2fc5ebb0e9f4...   90.171814  \n",
       "5dc8cea7659e181adb076a3f_fd64de8c4a2fc5ebb0e9f4...   99.197472  \n",
       "5dc8cea7659e181adb076a3f_fd64de8c4a2fc5ebb0e9f4...  105.314880  \n",
       "5dc8cea7659e181adb076a3f_fd64de8c4a2fc5ebb0e9f4...  111.906059  \n",
       "5dc8cea7659e181adb076a3f_fd64de8c4a2fc5ebb0e9f4...  111.624573  \n",
       "\n",
       "[10133 rows x 3 columns]"
      ],
      "text/html": "<div>\n<style scoped>\n    .dataframe tbody tr th:only-of-type {\n        vertical-align: middle;\n    }\n\n    .dataframe tbody tr th {\n        vertical-align: top;\n    }\n\n    .dataframe thead th {\n        text-align: right;\n    }\n</style>\n<table border=\"1\" class=\"dataframe\">\n  <thead>\n    <tr style=\"text-align: right;\">\n      <th></th>\n      <th>floor</th>\n      <th>x</th>\n      <th>y</th>\n    </tr>\n    <tr>\n      <th>site_path_timestamp</th>\n      <th></th>\n      <th></th>\n      <th></th>\n    </tr>\n  </thead>\n  <tbody>\n    <tr>\n      <th>5a0546857ecc773753327266_046cfa46be49fc10834815c6_0000000000009</th>\n      <td>0</td>\n      <td>87.954796</td>\n      <td>102.605637</td>\n    </tr>\n    <tr>\n      <th>5a0546857ecc773753327266_046cfa46be49fc10834815c6_0000000009017</th>\n      <td>0</td>\n      <td>84.130959</td>\n      <td>102.008942</td>\n    </tr>\n    <tr>\n      <th>5a0546857ecc773753327266_046cfa46be49fc10834815c6_0000000015326</th>\n      <td>0</td>\n      <td>86.090317</td>\n      <td>104.619865</td>\n    </tr>\n    <tr>\n      <th>5a0546857ecc773753327266_046cfa46be49fc10834815c6_0000000018763</th>\n      <td>0</td>\n      <td>87.595718</td>\n      <td>105.741379</td>\n    </tr>\n    <tr>\n      <th>5a0546857ecc773753327266_046cfa46be49fc10834815c6_0000000022328</th>\n      <td>0</td>\n      <td>86.149513</td>\n      <td>105.548729</td>\n    </tr>\n    <tr>\n      <th>...</th>\n      <td>...</td>\n      <td>...</td>\n      <td>...</td>\n    </tr>\n    <tr>\n      <th>5dc8cea7659e181adb076a3f_fd64de8c4a2fc5ebb0e9f412_0000000082589</th>\n      <td>5</td>\n      <td>214.097397</td>\n      <td>90.171814</td>\n    </tr>\n    <tr>\n      <th>5dc8cea7659e181adb076a3f_fd64de8c4a2fc5ebb0e9f412_0000000085758</th>\n      <td>5</td>\n      <td>209.983994</td>\n      <td>99.197472</td>\n    </tr>\n    <tr>\n      <th>5dc8cea7659e181adb076a3f_fd64de8c4a2fc5ebb0e9f412_0000000090895</th>\n      <td>5</td>\n      <td>205.807724</td>\n      <td>105.314880</td>\n    </tr>\n    <tr>\n      <th>5dc8cea7659e181adb076a3f_fd64de8c4a2fc5ebb0e9f412_0000000096899</th>\n      <td>5</td>\n      <td>202.292267</td>\n      <td>111.906059</td>\n    </tr>\n    <tr>\n      <th>5dc8cea7659e181adb076a3f_fd64de8c4a2fc5ebb0e9f412_0000000100447</th>\n      <td>5</td>\n      <td>199.881561</td>\n      <td>111.624573</td>\n    </tr>\n  </tbody>\n</table>\n<p>10133 rows × 3 columns</p>\n</div>"
     },
     "metadata": {},
     "execution_count": 51
    }
   ],
   "source": [
    "# floorの数値を置換\n",
    "simple_accurate_99 = pd.read_csv(root_dir / 'simple-99-accurate-floor-model/submission.csv')\n",
    "sub['floor'] = simple_accurate_99['floor'].values\n",
    "sub"
   ]
  },
  {
   "cell_type": "code",
   "execution_count": 64,
   "metadata": {},
   "outputs": [],
   "source": [
    "sub.to_csv(RUN_NAME + '_sub.csv')"
   ]
  },
  {
   "cell_type": "code",
   "execution_count": 27,
   "metadata": {},
   "outputs": [
    {
     "output_type": "stream",
     "name": "stdout",
     "text": [
      "CV:7.715060962809122\n"
     ]
    }
   ],
   "source": [
    "print(f\"CV:{np.mean(val_scores)}\")"
   ]
  },
  {
   "source": [
    "## 後処理"
   ],
   "cell_type": "markdown",
   "metadata": {}
  },
  {
   "cell_type": "code",
   "execution_count": 28,
   "metadata": {},
   "outputs": [],
   "source": [
    "import multiprocessing\n",
    "import scipy.interpolate\n",
    "import scipy.sparse\n",
    "from tqdm import tqdm\n",
    "import sys\n",
    "sys.path.append('../../')\n",
    "from src.io_f import read_data_file\n",
    "from src import compute_f\n"
   ]
  },
  {
   "cell_type": "code",
   "execution_count": 29,
   "metadata": {},
   "outputs": [],
   "source": [
    "def compute_rel_positions(acce_datas, ahrs_datas):\n",
    "    step_timestamps, step_indexs, step_acce_max_mins = compute_f.compute_steps(acce_datas)\n",
    "    headings = compute_f.compute_headings(ahrs_datas)\n",
    "    stride_lengths = compute_f.compute_stride_length(step_acce_max_mins)\n",
    "    step_headings = compute_f.compute_step_heading(step_timestamps, headings)\n",
    "    rel_positions = compute_f.compute_rel_positions(stride_lengths, step_headings)\n",
    "    return rel_positions\n",
    "    \n",
    "def correct_path(args):\n",
    "    path, path_df = args\n",
    "    \n",
    "    T_ref  = path_df['timestamp'].values\n",
    "    xy_hat = path_df[['x', 'y']].values\n",
    "    \n",
    "    example = read_data_file(f'{root_dir}/indoor-location-navigation/test/{path}.txt')\n",
    "    rel_positions = compute_rel_positions(example.acce, example.ahrs)\n",
    "    if T_ref[-1] > rel_positions[-1, 0]:\n",
    "        rel_positions = [np.array([[0, 0, 0]]), rel_positions, np.array([[T_ref[-1], 0, 0]])]\n",
    "    else:\n",
    "        rel_positions = [np.array([[0, 0, 0]]), rel_positions]\n",
    "    rel_positions = np.concatenate(rel_positions)\n",
    "    \n",
    "    T_rel = rel_positions[:, 0]\n",
    "    delta_xy_hat = np.diff(scipy.interpolate.interp1d(T_rel, np.cumsum(rel_positions[:, 1:3], axis=0), axis=0)(T_ref), axis=0)\n",
    "\n",
    "    N = xy_hat.shape[0]\n",
    "    delta_t = np.diff(T_ref)\n",
    "    alpha = (8.1)**(-2) * np.ones(N)\n",
    "    beta  = (0.3 + 0.3 * 1e-3 * delta_t)**(-2)\n",
    "    A = scipy.sparse.spdiags(alpha, [0], N, N)\n",
    "    B = scipy.sparse.spdiags( beta, [0], N-1, N-1)\n",
    "    D = scipy.sparse.spdiags(np.stack([-np.ones(N), np.ones(N)]), [0, 1], N-1, N)\n",
    "\n",
    "    Q = A + (D.T @ B @ D)\n",
    "    c = (A @ xy_hat) + (D.T @ (B @ delta_xy_hat))\n",
    "    xy_star = scipy.sparse.linalg.spsolve(Q, c)\n",
    "\n",
    "    return pd.DataFrame({\n",
    "        'site_path_timestamp' : path_df['site_path_timestamp'],\n",
    "        'floor' : path_df['floor'],\n",
    "        'x' : xy_star[:, 0],\n",
    "        'y' : xy_star[:, 1],\n",
    "    })\n",
    "\n",
    "def correct_path_train(args):\n",
    "    #print(args)\n",
    "    (site_id, path, floor), path_df = args\n",
    "    \n",
    "    T_ref  = path_df['timestamp'].values\n",
    "    xy_hat = path_df[['x', 'y']].values\n",
    "    \n",
    "    example = read_data_file(f'{root_dir}/indoor-location-navigation/train/{site_id}/{floor}/{path}.txt')\n",
    "    rel_positions = compute_rel_positions(example.acce, example.ahrs)\n",
    "    if T_ref[-1] > rel_positions[-1, 0]:\n",
    "        rel_positions = [np.array([[0, 0, 0]]), rel_positions, np.array([[T_ref[-1], 0, 0]])]\n",
    "    else:\n",
    "        rel_positions = [np.array([[0, 0, 0]]), rel_positions]\n",
    "    rel_positions = np.concatenate(rel_positions)\n",
    "    \n",
    "    T_rel = rel_positions[:, 0]\n",
    "\n",
    "    try:\n",
    "        delta_xy_hat = np.diff(scipy.interpolate.interp1d(T_rel, np.cumsum(rel_positions[:, 1:3], axis=0), axis=0)(T_ref), axis=0)\n",
    "    except:\n",
    "        return pd.DataFrame({\n",
    "            'site_path_timestamp' : path_df['site_path_timestamp'],\n",
    "            'floor' : path_df['floor'],\n",
    "            'x' : path_df['x'].to_numpy(),\n",
    "            'y' : path_df['y'].to_numpy()\n",
    "        })\n",
    "    \n",
    "\n",
    "    N = xy_hat.shape[0]\n",
    "    delta_t = np.diff(T_ref)\n",
    "    alpha = (8.1)**(-2) * np.ones(N)\n",
    "    beta  = (0.3 + 0.3 * 1e-3 * delta_t)**(-2)\n",
    "    A = scipy.sparse.spdiags(alpha, [0], N, N)\n",
    "    B = scipy.sparse.spdiags( beta, [0], N-1, N-1)\n",
    "    D = scipy.sparse.spdiags(np.stack([-np.ones(N), np.ones(N)]), [0, 1], N-1, N)\n",
    "\n",
    "    Q = A + (D.T @ B @ D)\n",
    "    c = (A @ xy_hat) + (D.T @ (B @ delta_xy_hat))\n",
    "    xy_star = scipy.sparse.linalg.spsolve(Q, c)\n",
    "\n",
    "\n",
    "    return pd.DataFrame({\n",
    "        'site_path_timestamp' : path_df['site_path_timestamp'],\n",
    "        'floor' : path_df['floor'],\n",
    "        'x' : xy_star[:, 0],\n",
    "        'y' : xy_star[:, 1],\n",
    "    })"
   ]
  },
  {
   "cell_type": "code",
   "execution_count": 42,
   "metadata": {},
   "outputs": [
    {
     "output_type": "execute_result",
     "data": {
      "text/plain": [
       "                                         bssid_0  \\\n",
       "0       ffe684dfd25a52b046e3108a3f70df46001425f0   \n",
       "1       97e4a381c3a02ed3151bbf41b8fc1fe5815f5387   \n",
       "2       97e4a381c3a02ed3151bbf41b8fc1fe5815f5387   \n",
       "3       97e4a381c3a02ed3151bbf41b8fc1fe5815f5387   \n",
       "4       97e4a381c3a02ed3151bbf41b8fc1fe5815f5387   \n",
       "...                                          ...   \n",
       "258120  993a56b32432fb19bfb4461a0e1a2ead9bcf192f   \n",
       "258121  773cde25cb4e9fd90b11603abd5bf84d83b340e6   \n",
       "258122  993a56b32432fb19bfb4461a0e1a2ead9bcf192f   \n",
       "258123  993a56b32432fb19bfb4461a0e1a2ead9bcf192f   \n",
       "258124  993a56b32432fb19bfb4461a0e1a2ead9bcf192f   \n",
       "\n",
       "                                         bssid_1  \\\n",
       "0       97e4a381c3a02ed3151bbf41b8fc1fe5815f5387   \n",
       "1       5b71ef95e53358c558b78bf3fb152d793729bc8d   \n",
       "2       6b769b9eeb24ff287e6a53736cc7c013d5902901   \n",
       "3       4328f33869766d0f77a9299441556338e4d8a2b9   \n",
       "4       4328f33869766d0f77a9299441556338e4d8a2b9   \n",
       "...                                          ...   \n",
       "258120  773cde25cb4e9fd90b11603abd5bf84d83b340e6   \n",
       "258121  993a56b32432fb19bfb4461a0e1a2ead9bcf192f   \n",
       "258122  773cde25cb4e9fd90b11603abd5bf84d83b340e6   \n",
       "258123  c7d8359344120911f8550487f282c241d93c4750   \n",
       "258124  c7d8359344120911f8550487f282c241d93c4750   \n",
       "\n",
       "                                         bssid_2  \\\n",
       "0       5b71ef95e53358c558b78bf3fb152d793729bc8d   \n",
       "1       cb8f53745c342e2bfd0bf77a5fd8cac6cf303945   \n",
       "2       cb8f53745c342e2bfd0bf77a5fd8cac6cf303945   \n",
       "3       3fef087dd272ab07981a60c9cbf6f27460d1364e   \n",
       "4       5a1a7a8496e5f8b88db082de0b412e447e01fd0b   \n",
       "...                                          ...   \n",
       "258120  19647ac7bb55a673554aa08cafb3b096aac7f32c   \n",
       "258121  19647ac7bb55a673554aa08cafb3b096aac7f32c   \n",
       "258122  c7d8359344120911f8550487f282c241d93c4750   \n",
       "258123  fc27c0656fc13157bb2f58543d51e8ee972fdf66   \n",
       "258124  773cde25cb4e9fd90b11603abd5bf84d83b340e6   \n",
       "\n",
       "                                         bssid_3  \\\n",
       "0       2f85d197aec7bfddfee3f53ae9e1b6ed1fc56e92   \n",
       "1       ffe684dfd25a52b046e3108a3f70df46001425f0   \n",
       "2       4328f33869766d0f77a9299441556338e4d8a2b9   \n",
       "3       5a1a7a8496e5f8b88db082de0b412e447e01fd0b   \n",
       "4       cb8f53745c342e2bfd0bf77a5fd8cac6cf303945   \n",
       "...                                          ...   \n",
       "258120  a4a410696cb935d542d62afd8e8090dbbc341a16   \n",
       "258121  fc27c0656fc13157bb2f58543d51e8ee972fdf66   \n",
       "258122  fc27c0656fc13157bb2f58543d51e8ee972fdf66   \n",
       "258123  773cde25cb4e9fd90b11603abd5bf84d83b340e6   \n",
       "258124  fc27c0656fc13157bb2f58543d51e8ee972fdf66   \n",
       "\n",
       "                                         bssid_4  \\\n",
       "0       4328f33869766d0f77a9299441556338e4d8a2b9   \n",
       "1       6b769b9eeb24ff287e6a53736cc7c013d5902901   \n",
       "2       3fef087dd272ab07981a60c9cbf6f27460d1364e   \n",
       "3       5d82171d37c5296bcaed8c02745540b491d8a284   \n",
       "4       6b769b9eeb24ff287e6a53736cc7c013d5902901   \n",
       "...                                          ...   \n",
       "258120  fc27c0656fc13157bb2f58543d51e8ee972fdf66   \n",
       "258121  a4a410696cb935d542d62afd8e8090dbbc341a16   \n",
       "258122  a4a410696cb935d542d62afd8e8090dbbc341a16   \n",
       "258123  a4a410696cb935d542d62afd8e8090dbbc341a16   \n",
       "258124  a4a410696cb935d542d62afd8e8090dbbc341a16   \n",
       "\n",
       "                                         bssid_5  \\\n",
       "0       df41c761b69993669d4eb875b4474ec44d2372ed   \n",
       "1       7dc49736770ee9073043134656c89a17529f882f   \n",
       "2       5a1a7a8496e5f8b88db082de0b412e447e01fd0b   \n",
       "3       471740ef5065943b791f277ada358f9ffc011645   \n",
       "4       5d82171d37c5296bcaed8c02745540b491d8a284   \n",
       "...                                          ...   \n",
       "258120  c7d8359344120911f8550487f282c241d93c4750   \n",
       "258121  827530050f580378b7aa53fb292dfb8a12b775e1   \n",
       "258122  827530050f580378b7aa53fb292dfb8a12b775e1   \n",
       "258123  064419dd1c862bc6c960b365fed666a1a5ff36a9   \n",
       "258124  827530050f580378b7aa53fb292dfb8a12b775e1   \n",
       "\n",
       "                                         bssid_6  \\\n",
       "0       7dc49736770ee9073043134656c89a17529f882f   \n",
       "1       3fef087dd272ab07981a60c9cbf6f27460d1364e   \n",
       "2       7dc49736770ee9073043134656c89a17529f882f   \n",
       "3       2f85d197aec7bfddfee3f53ae9e1b6ed1fc56e92   \n",
       "4       5b71ef95e53358c558b78bf3fb152d793729bc8d   \n",
       "...                                          ...   \n",
       "258120  26b22cce3b7694a7d765d9cf329b9065f3fb3a3c   \n",
       "258121  c7d8359344120911f8550487f282c241d93c4750   \n",
       "258122  d64eeb8d997e8d87203479556bbb9efaf7e487fd   \n",
       "258123  b08a1d79d6d4bb2ca71336f7e995c7aa1342aa1f   \n",
       "258124  19647ac7bb55a673554aa08cafb3b096aac7f32c   \n",
       "\n",
       "                                         bssid_7  \\\n",
       "0       5a1a7a8496e5f8b88db082de0b412e447e01fd0b   \n",
       "1       5a1a7a8496e5f8b88db082de0b412e447e01fd0b   \n",
       "2       df41c761b69993669d4eb875b4474ec44d2372ed   \n",
       "3       afe423c7bc0641d63c95e232ffd65cae3be95351   \n",
       "4       df41c761b69993669d4eb875b4474ec44d2372ed   \n",
       "...                                          ...   \n",
       "258120  827530050f580378b7aa53fb292dfb8a12b775e1   \n",
       "258121  d64eeb8d997e8d87203479556bbb9efaf7e487fd   \n",
       "258122  18874cb574f0cae84582df367941ad94d877ccbb   \n",
       "258123  3c43188acbcc9704dd3987cf1ef14906f9dbe444   \n",
       "258124  064419dd1c862bc6c960b365fed666a1a5ff36a9   \n",
       "\n",
       "                                         bssid_8  \\\n",
       "0       463d0cfe3748eb70524138ed970f03375e8d1030   \n",
       "1       df41c761b69993669d4eb875b4474ec44d2372ed   \n",
       "2       5b71ef95e53358c558b78bf3fb152d793729bc8d   \n",
       "3       df41c761b69993669d4eb875b4474ec44d2372ed   \n",
       "4       2f85d197aec7bfddfee3f53ae9e1b6ed1fc56e92   \n",
       "...                                          ...   \n",
       "258120  d64eeb8d997e8d87203479556bbb9efaf7e487fd   \n",
       "258121  b08a1d79d6d4bb2ca71336f7e995c7aa1342aa1f   \n",
       "258122  22a52f1717436ee378dc44b6d707a3816a65b5e4   \n",
       "258123  19647ac7bb55a673554aa08cafb3b096aac7f32c   \n",
       "258124  3c43188acbcc9704dd3987cf1ef14906f9dbe444   \n",
       "\n",
       "                                         bssid_9  ...          x          y  \\\n",
       "0       79179095e63e2b0431e85e3e33b02d95bb135c2e  ...  68.064926  241.94000   \n",
       "1       d8b1ff62702e02106553be91dc22a0dcf0e780a7  ...  68.064926  241.94000   \n",
       "2       2f85d197aec7bfddfee3f53ae9e1b6ed1fc56e92  ...  62.480465  241.71216   \n",
       "3       5b71ef95e53358c558b78bf3fb152d793729bc8d  ...  62.480465  241.71216   \n",
       "4       afe423c7bc0641d63c95e232ffd65cae3be95351  ...  62.480465  241.71216   \n",
       "...                                          ...  ...        ...        ...   \n",
       "258120  22a52f1717436ee378dc44b6d707a3816a65b5e4  ...  12.662716  100.47756   \n",
       "258121  26b22cce3b7694a7d765d9cf329b9065f3fb3a3c  ...  12.662716  100.47756   \n",
       "258122  3c43188acbcc9704dd3987cf1ef14906f9dbe444  ...   7.799886  107.13921   \n",
       "258123  cdc456af06dec9e63340fdf06b976b04eaa3a4a8  ...   7.799886  107.13921   \n",
       "258124  2ee4dca6f3705253eceaeecf2144083b14741d08  ...   7.799886  107.13921   \n",
       "\n",
       "       floor floor_str                      path time_diff     wifi_x  \\\n",
       "0          0        F1  5dad1ca1dc3e2c0006606c3f      1952  66.823935   \n",
       "1          0        F1  5dad1ca1dc3e2c0006606c3f      3900  65.582943   \n",
       "2          0        F1  5dad1ca1dc3e2c0006606c3f     -2385  64.341952   \n",
       "3          0        F1  5dad1ca1dc3e2c0006606c3f      -427  62.480465   \n",
       "4          0        F1  5dad1ca1dc3e2c0006606c3f      1528  62.893219   \n",
       "...      ...       ...                       ...       ...        ...   \n",
       "258120     1        F2  5dce9eea5516ad00065f04a7       447  12.662716   \n",
       "258121     1        F2  5dce9eea5516ad00065f04a7      2393  11.041773   \n",
       "258122     1        F2  5dce9eea5516ad00065f04a7     -3876   9.961144   \n",
       "258123     1        F2  5dce9eea5516ad00065f04a7     -1946   8.880515   \n",
       "258124     1        F2  5dce9eea5516ad00065f04a7       -17   7.799886   \n",
       "\n",
       "            wifi_y                   site_id  \\\n",
       "0       241.889369  5da958dd46f8266d0737457b   \n",
       "1       241.838738  5da958dd46f8266d0737457b   \n",
       "2       241.788107  5da958dd46f8266d0737457b   \n",
       "3       241.712160  5da958dd46f8266d0737457b   \n",
       "4       240.715162  5da958dd46f8266d0737457b   \n",
       "...            ...                       ...   \n",
       "258120  100.477560  5d27099f03f801723c32511d   \n",
       "258121  102.698110  5d27099f03f801723c32511d   \n",
       "258122  104.178477  5d27099f03f801723c32511d   \n",
       "258123  105.658843  5d27099f03f801723c32511d   \n",
       "258124  107.139210  5d27099f03f801723c32511d   \n",
       "\n",
       "                                      site_path_timestamp  \n",
       "0       5da958dd46f8266d0737457b_5dad1ca1dc3e2c0006606...  \n",
       "1       5da958dd46f8266d0737457b_5dad1ca1dc3e2c0006606...  \n",
       "2       5da958dd46f8266d0737457b_5dad1ca1dc3e2c0006606...  \n",
       "3       5da958dd46f8266d0737457b_5dad1ca1dc3e2c0006606...  \n",
       "4       5da958dd46f8266d0737457b_5dad1ca1dc3e2c0006606...  \n",
       "...                                                   ...  \n",
       "258120  5d27099f03f801723c32511d_5dce9eea5516ad00065f0...  \n",
       "258121  5d27099f03f801723c32511d_5dce9eea5516ad00065f0...  \n",
       "258122  5d27099f03f801723c32511d_5dce9eea5516ad00065f0...  \n",
       "258123  5d27099f03f801723c32511d_5dce9eea5516ad00065f0...  \n",
       "258124  5d27099f03f801723c32511d_5dce9eea5516ad00065f0...  \n",
       "\n",
       "[258125 rows x 211 columns]"
      ],
      "text/html": "<div>\n<style scoped>\n    .dataframe tbody tr th:only-of-type {\n        vertical-align: middle;\n    }\n\n    .dataframe tbody tr th {\n        vertical-align: top;\n    }\n\n    .dataframe thead th {\n        text-align: right;\n    }\n</style>\n<table border=\"1\" class=\"dataframe\">\n  <thead>\n    <tr style=\"text-align: right;\">\n      <th></th>\n      <th>bssid_0</th>\n      <th>bssid_1</th>\n      <th>bssid_2</th>\n      <th>bssid_3</th>\n      <th>bssid_4</th>\n      <th>bssid_5</th>\n      <th>bssid_6</th>\n      <th>bssid_7</th>\n      <th>bssid_8</th>\n      <th>bssid_9</th>\n      <th>...</th>\n      <th>x</th>\n      <th>y</th>\n      <th>floor</th>\n      <th>floor_str</th>\n      <th>path</th>\n      <th>time_diff</th>\n      <th>wifi_x</th>\n      <th>wifi_y</th>\n      <th>site_id</th>\n      <th>site_path_timestamp</th>\n    </tr>\n  </thead>\n  <tbody>\n    <tr>\n      <th>0</th>\n      <td>ffe684dfd25a52b046e3108a3f70df46001425f0</td>\n      <td>97e4a381c3a02ed3151bbf41b8fc1fe5815f5387</td>\n      <td>5b71ef95e53358c558b78bf3fb152d793729bc8d</td>\n      <td>2f85d197aec7bfddfee3f53ae9e1b6ed1fc56e92</td>\n      <td>4328f33869766d0f77a9299441556338e4d8a2b9</td>\n      <td>df41c761b69993669d4eb875b4474ec44d2372ed</td>\n      <td>7dc49736770ee9073043134656c89a17529f882f</td>\n      <td>5a1a7a8496e5f8b88db082de0b412e447e01fd0b</td>\n      <td>463d0cfe3748eb70524138ed970f03375e8d1030</td>\n      <td>79179095e63e2b0431e85e3e33b02d95bb135c2e</td>\n      <td>...</td>\n      <td>68.064926</td>\n      <td>241.94000</td>\n      <td>0</td>\n      <td>F1</td>\n      <td>5dad1ca1dc3e2c0006606c3f</td>\n      <td>1952</td>\n      <td>66.823935</td>\n      <td>241.889369</td>\n      <td>5da958dd46f8266d0737457b</td>\n      <td>5da958dd46f8266d0737457b_5dad1ca1dc3e2c0006606...</td>\n    </tr>\n    <tr>\n      <th>1</th>\n      <td>97e4a381c3a02ed3151bbf41b8fc1fe5815f5387</td>\n      <td>5b71ef95e53358c558b78bf3fb152d793729bc8d</td>\n      <td>cb8f53745c342e2bfd0bf77a5fd8cac6cf303945</td>\n      <td>ffe684dfd25a52b046e3108a3f70df46001425f0</td>\n      <td>6b769b9eeb24ff287e6a53736cc7c013d5902901</td>\n      <td>7dc49736770ee9073043134656c89a17529f882f</td>\n      <td>3fef087dd272ab07981a60c9cbf6f27460d1364e</td>\n      <td>5a1a7a8496e5f8b88db082de0b412e447e01fd0b</td>\n      <td>df41c761b69993669d4eb875b4474ec44d2372ed</td>\n      <td>d8b1ff62702e02106553be91dc22a0dcf0e780a7</td>\n      <td>...</td>\n      <td>68.064926</td>\n      <td>241.94000</td>\n      <td>0</td>\n      <td>F1</td>\n      <td>5dad1ca1dc3e2c0006606c3f</td>\n      <td>3900</td>\n      <td>65.582943</td>\n      <td>241.838738</td>\n      <td>5da958dd46f8266d0737457b</td>\n      <td>5da958dd46f8266d0737457b_5dad1ca1dc3e2c0006606...</td>\n    </tr>\n    <tr>\n      <th>2</th>\n      <td>97e4a381c3a02ed3151bbf41b8fc1fe5815f5387</td>\n      <td>6b769b9eeb24ff287e6a53736cc7c013d5902901</td>\n      <td>cb8f53745c342e2bfd0bf77a5fd8cac6cf303945</td>\n      <td>4328f33869766d0f77a9299441556338e4d8a2b9</td>\n      <td>3fef087dd272ab07981a60c9cbf6f27460d1364e</td>\n      <td>5a1a7a8496e5f8b88db082de0b412e447e01fd0b</td>\n      <td>7dc49736770ee9073043134656c89a17529f882f</td>\n      <td>df41c761b69993669d4eb875b4474ec44d2372ed</td>\n      <td>5b71ef95e53358c558b78bf3fb152d793729bc8d</td>\n      <td>2f85d197aec7bfddfee3f53ae9e1b6ed1fc56e92</td>\n      <td>...</td>\n      <td>62.480465</td>\n      <td>241.71216</td>\n      <td>0</td>\n      <td>F1</td>\n      <td>5dad1ca1dc3e2c0006606c3f</td>\n      <td>-2385</td>\n      <td>64.341952</td>\n      <td>241.788107</td>\n      <td>5da958dd46f8266d0737457b</td>\n      <td>5da958dd46f8266d0737457b_5dad1ca1dc3e2c0006606...</td>\n    </tr>\n    <tr>\n      <th>3</th>\n      <td>97e4a381c3a02ed3151bbf41b8fc1fe5815f5387</td>\n      <td>4328f33869766d0f77a9299441556338e4d8a2b9</td>\n      <td>3fef087dd272ab07981a60c9cbf6f27460d1364e</td>\n      <td>5a1a7a8496e5f8b88db082de0b412e447e01fd0b</td>\n      <td>5d82171d37c5296bcaed8c02745540b491d8a284</td>\n      <td>471740ef5065943b791f277ada358f9ffc011645</td>\n      <td>2f85d197aec7bfddfee3f53ae9e1b6ed1fc56e92</td>\n      <td>afe423c7bc0641d63c95e232ffd65cae3be95351</td>\n      <td>df41c761b69993669d4eb875b4474ec44d2372ed</td>\n      <td>5b71ef95e53358c558b78bf3fb152d793729bc8d</td>\n      <td>...</td>\n      <td>62.480465</td>\n      <td>241.71216</td>\n      <td>0</td>\n      <td>F1</td>\n      <td>5dad1ca1dc3e2c0006606c3f</td>\n      <td>-427</td>\n      <td>62.480465</td>\n      <td>241.712160</td>\n      <td>5da958dd46f8266d0737457b</td>\n      <td>5da958dd46f8266d0737457b_5dad1ca1dc3e2c0006606...</td>\n    </tr>\n    <tr>\n      <th>4</th>\n      <td>97e4a381c3a02ed3151bbf41b8fc1fe5815f5387</td>\n      <td>4328f33869766d0f77a9299441556338e4d8a2b9</td>\n      <td>5a1a7a8496e5f8b88db082de0b412e447e01fd0b</td>\n      <td>cb8f53745c342e2bfd0bf77a5fd8cac6cf303945</td>\n      <td>6b769b9eeb24ff287e6a53736cc7c013d5902901</td>\n      <td>5d82171d37c5296bcaed8c02745540b491d8a284</td>\n      <td>5b71ef95e53358c558b78bf3fb152d793729bc8d</td>\n      <td>df41c761b69993669d4eb875b4474ec44d2372ed</td>\n      <td>2f85d197aec7bfddfee3f53ae9e1b6ed1fc56e92</td>\n      <td>afe423c7bc0641d63c95e232ffd65cae3be95351</td>\n      <td>...</td>\n      <td>62.480465</td>\n      <td>241.71216</td>\n      <td>0</td>\n      <td>F1</td>\n      <td>5dad1ca1dc3e2c0006606c3f</td>\n      <td>1528</td>\n      <td>62.893219</td>\n      <td>240.715162</td>\n      <td>5da958dd46f8266d0737457b</td>\n      <td>5da958dd46f8266d0737457b_5dad1ca1dc3e2c0006606...</td>\n    </tr>\n    <tr>\n      <th>...</th>\n      <td>...</td>\n      <td>...</td>\n      <td>...</td>\n      <td>...</td>\n      <td>...</td>\n      <td>...</td>\n      <td>...</td>\n      <td>...</td>\n      <td>...</td>\n      <td>...</td>\n      <td>...</td>\n      <td>...</td>\n      <td>...</td>\n      <td>...</td>\n      <td>...</td>\n      <td>...</td>\n      <td>...</td>\n      <td>...</td>\n      <td>...</td>\n      <td>...</td>\n      <td>...</td>\n    </tr>\n    <tr>\n      <th>258120</th>\n      <td>993a56b32432fb19bfb4461a0e1a2ead9bcf192f</td>\n      <td>773cde25cb4e9fd90b11603abd5bf84d83b340e6</td>\n      <td>19647ac7bb55a673554aa08cafb3b096aac7f32c</td>\n      <td>a4a410696cb935d542d62afd8e8090dbbc341a16</td>\n      <td>fc27c0656fc13157bb2f58543d51e8ee972fdf66</td>\n      <td>c7d8359344120911f8550487f282c241d93c4750</td>\n      <td>26b22cce3b7694a7d765d9cf329b9065f3fb3a3c</td>\n      <td>827530050f580378b7aa53fb292dfb8a12b775e1</td>\n      <td>d64eeb8d997e8d87203479556bbb9efaf7e487fd</td>\n      <td>22a52f1717436ee378dc44b6d707a3816a65b5e4</td>\n      <td>...</td>\n      <td>12.662716</td>\n      <td>100.47756</td>\n      <td>1</td>\n      <td>F2</td>\n      <td>5dce9eea5516ad00065f04a7</td>\n      <td>447</td>\n      <td>12.662716</td>\n      <td>100.477560</td>\n      <td>5d27099f03f801723c32511d</td>\n      <td>5d27099f03f801723c32511d_5dce9eea5516ad00065f0...</td>\n    </tr>\n    <tr>\n      <th>258121</th>\n      <td>773cde25cb4e9fd90b11603abd5bf84d83b340e6</td>\n      <td>993a56b32432fb19bfb4461a0e1a2ead9bcf192f</td>\n      <td>19647ac7bb55a673554aa08cafb3b096aac7f32c</td>\n      <td>fc27c0656fc13157bb2f58543d51e8ee972fdf66</td>\n      <td>a4a410696cb935d542d62afd8e8090dbbc341a16</td>\n      <td>827530050f580378b7aa53fb292dfb8a12b775e1</td>\n      <td>c7d8359344120911f8550487f282c241d93c4750</td>\n      <td>d64eeb8d997e8d87203479556bbb9efaf7e487fd</td>\n      <td>b08a1d79d6d4bb2ca71336f7e995c7aa1342aa1f</td>\n      <td>26b22cce3b7694a7d765d9cf329b9065f3fb3a3c</td>\n      <td>...</td>\n      <td>12.662716</td>\n      <td>100.47756</td>\n      <td>1</td>\n      <td>F2</td>\n      <td>5dce9eea5516ad00065f04a7</td>\n      <td>2393</td>\n      <td>11.041773</td>\n      <td>102.698110</td>\n      <td>5d27099f03f801723c32511d</td>\n      <td>5d27099f03f801723c32511d_5dce9eea5516ad00065f0...</td>\n    </tr>\n    <tr>\n      <th>258122</th>\n      <td>993a56b32432fb19bfb4461a0e1a2ead9bcf192f</td>\n      <td>773cde25cb4e9fd90b11603abd5bf84d83b340e6</td>\n      <td>c7d8359344120911f8550487f282c241d93c4750</td>\n      <td>fc27c0656fc13157bb2f58543d51e8ee972fdf66</td>\n      <td>a4a410696cb935d542d62afd8e8090dbbc341a16</td>\n      <td>827530050f580378b7aa53fb292dfb8a12b775e1</td>\n      <td>d64eeb8d997e8d87203479556bbb9efaf7e487fd</td>\n      <td>18874cb574f0cae84582df367941ad94d877ccbb</td>\n      <td>22a52f1717436ee378dc44b6d707a3816a65b5e4</td>\n      <td>3c43188acbcc9704dd3987cf1ef14906f9dbe444</td>\n      <td>...</td>\n      <td>7.799886</td>\n      <td>107.13921</td>\n      <td>1</td>\n      <td>F2</td>\n      <td>5dce9eea5516ad00065f04a7</td>\n      <td>-3876</td>\n      <td>9.961144</td>\n      <td>104.178477</td>\n      <td>5d27099f03f801723c32511d</td>\n      <td>5d27099f03f801723c32511d_5dce9eea5516ad00065f0...</td>\n    </tr>\n    <tr>\n      <th>258123</th>\n      <td>993a56b32432fb19bfb4461a0e1a2ead9bcf192f</td>\n      <td>c7d8359344120911f8550487f282c241d93c4750</td>\n      <td>fc27c0656fc13157bb2f58543d51e8ee972fdf66</td>\n      <td>773cde25cb4e9fd90b11603abd5bf84d83b340e6</td>\n      <td>a4a410696cb935d542d62afd8e8090dbbc341a16</td>\n      <td>064419dd1c862bc6c960b365fed666a1a5ff36a9</td>\n      <td>b08a1d79d6d4bb2ca71336f7e995c7aa1342aa1f</td>\n      <td>3c43188acbcc9704dd3987cf1ef14906f9dbe444</td>\n      <td>19647ac7bb55a673554aa08cafb3b096aac7f32c</td>\n      <td>cdc456af06dec9e63340fdf06b976b04eaa3a4a8</td>\n      <td>...</td>\n      <td>7.799886</td>\n      <td>107.13921</td>\n      <td>1</td>\n      <td>F2</td>\n      <td>5dce9eea5516ad00065f04a7</td>\n      <td>-1946</td>\n      <td>8.880515</td>\n      <td>105.658843</td>\n      <td>5d27099f03f801723c32511d</td>\n      <td>5d27099f03f801723c32511d_5dce9eea5516ad00065f0...</td>\n    </tr>\n    <tr>\n      <th>258124</th>\n      <td>993a56b32432fb19bfb4461a0e1a2ead9bcf192f</td>\n      <td>c7d8359344120911f8550487f282c241d93c4750</td>\n      <td>773cde25cb4e9fd90b11603abd5bf84d83b340e6</td>\n      <td>fc27c0656fc13157bb2f58543d51e8ee972fdf66</td>\n      <td>a4a410696cb935d542d62afd8e8090dbbc341a16</td>\n      <td>827530050f580378b7aa53fb292dfb8a12b775e1</td>\n      <td>19647ac7bb55a673554aa08cafb3b096aac7f32c</td>\n      <td>064419dd1c862bc6c960b365fed666a1a5ff36a9</td>\n      <td>3c43188acbcc9704dd3987cf1ef14906f9dbe444</td>\n      <td>2ee4dca6f3705253eceaeecf2144083b14741d08</td>\n      <td>...</td>\n      <td>7.799886</td>\n      <td>107.13921</td>\n      <td>1</td>\n      <td>F2</td>\n      <td>5dce9eea5516ad00065f04a7</td>\n      <td>-17</td>\n      <td>7.799886</td>\n      <td>107.139210</td>\n      <td>5d27099f03f801723c32511d</td>\n      <td>5d27099f03f801723c32511d_5dce9eea5516ad00065f0...</td>\n    </tr>\n  </tbody>\n</table>\n<p>258125 rows × 211 columns</p>\n</div>"
     },
     "metadata": {},
     "execution_count": 42
    }
   ],
   "source": [
    "with open(root_dir/'kuto_wifi_dataset_v2/train_all.pkl', 'rb') as f:\n",
    "    data_org = pickle.load(f)\n",
    "\n",
    "# data_org = data_org[data_org['time_diff'].abs() <  time_diff_threshold].reset_index(drop=True)\n",
    "data_org['site_path_timestamp'] = data_org['site_id'] + '_' + data_org['path'] + '_' + data_org['timestamp'].astype(str)\n",
    "data_org"
   ]
  },
  {
   "cell_type": "code",
   "execution_count": 43,
   "metadata": {},
   "outputs": [
    {
     "output_type": "execute_result",
     "data": {
      "text/plain": [
       "           timestamp          x          y  site_id               site_id_str  \\\n",
       "0      1571625850645  82.922240  210.56656       21  5da958dd46f8266d0737457b   \n",
       "1      1571625850645  82.922240  210.56656       21  5da958dd46f8266d0737457b   \n",
       "2      1571625850645  82.922240  210.56656       21  5da958dd46f8266d0737457b   \n",
       "3      1571625861986  84.959270  216.99500       21  5da958dd46f8266d0737457b   \n",
       "4      1571625861986  84.959270  216.99500       21  5da958dd46f8266d0737457b   \n",
       "...              ...        ...        ...      ...                       ...   \n",
       "51620  1573822164854  12.662716  100.47756        5  5d27099f03f801723c32511d   \n",
       "51621  1573822164854  12.662716  100.47756        5  5d27099f03f801723c32511d   \n",
       "51622  1573822173051   7.799886  107.13921        5  5d27099f03f801723c32511d   \n",
       "51623  1573822173051   7.799886  107.13921        5  5d27099f03f801723c32511d   \n",
       "51624  1573822173051   7.799886  107.13921        5  5d27099f03f801723c32511d   \n",
       "\n",
       "          wifi_x      wifi_y  floor floor_str                      path  \\\n",
       "0      83.261745  211.637967      0        F1  5dad1caa18410e00067e734c   \n",
       "1      83.601250  212.709373      0        F1  5dad1caa18410e00067e734c   \n",
       "2      83.940755  213.780780      0        F1  5dad1caa18410e00067e734c   \n",
       "3      84.280260  214.852187      0        F1  5dad1caa18410e00067e734c   \n",
       "4      84.619765  215.923593      0        F1  5dad1caa18410e00067e734c   \n",
       "...          ...         ...    ...       ...                       ...   \n",
       "51620  12.662716  100.477560      1        F2  5dce9eea5516ad00065f04a7   \n",
       "51621  11.041773  102.698110      1        F2  5dce9eea5516ad00065f04a7   \n",
       "51622   9.961144  104.178477      1        F2  5dce9eea5516ad00065f04a7   \n",
       "51623   8.880515  105.658843      1        F2  5dce9eea5516ad00065f04a7   \n",
       "51624   7.799886  107.139210      1        F2  5dce9eea5516ad00065f04a7   \n",
       "\n",
       "       time_diff      oof_x       oof_y  oof_floor  \\\n",
       "0           1878  88.874680  208.189270   0.035873   \n",
       "1           3771  89.391998  208.756088   0.040552   \n",
       "2           5657  89.672028  212.722687   0.040091   \n",
       "3          -3788  90.491730  212.158722   0.041784   \n",
       "4          -1905  86.897095  217.139526   0.036175   \n",
       "...          ...        ...         ...        ...   \n",
       "51620        447  15.012345  101.914925   0.269409   \n",
       "51621       2393  15.492247   98.461067   0.258506   \n",
       "51622      -3876  16.128004  100.353477   0.262384   \n",
       "51623      -1946  14.627602  100.902176   0.265500   \n",
       "51624        -17  16.454372  101.799461   0.266528   \n",
       "\n",
       "                                     site_path_timestamp  \n",
       "0      5da958dd46f8266d0737457b_5dad1caa18410e00067e7...  \n",
       "1      5da958dd46f8266d0737457b_5dad1caa18410e00067e7...  \n",
       "2      5da958dd46f8266d0737457b_5dad1caa18410e00067e7...  \n",
       "3      5da958dd46f8266d0737457b_5dad1caa18410e00067e7...  \n",
       "4      5da958dd46f8266d0737457b_5dad1caa18410e00067e7...  \n",
       "...                                                  ...  \n",
       "51620  5d27099f03f801723c32511d_5dce9eea5516ad00065f0...  \n",
       "51621  5d27099f03f801723c32511d_5dce9eea5516ad00065f0...  \n",
       "51622  5d27099f03f801723c32511d_5dce9eea5516ad00065f0...  \n",
       "51623  5d27099f03f801723c32511d_5dce9eea5516ad00065f0...  \n",
       "51624  5d27099f03f801723c32511d_5dce9eea5516ad00065f0...  \n",
       "\n",
       "[258125 rows x 15 columns]"
      ],
      "text/html": "<div>\n<style scoped>\n    .dataframe tbody tr th:only-of-type {\n        vertical-align: middle;\n    }\n\n    .dataframe tbody tr th {\n        vertical-align: top;\n    }\n\n    .dataframe thead th {\n        text-align: right;\n    }\n</style>\n<table border=\"1\" class=\"dataframe\">\n  <thead>\n    <tr style=\"text-align: right;\">\n      <th></th>\n      <th>timestamp</th>\n      <th>x</th>\n      <th>y</th>\n      <th>site_id</th>\n      <th>site_id_str</th>\n      <th>wifi_x</th>\n      <th>wifi_y</th>\n      <th>floor</th>\n      <th>floor_str</th>\n      <th>path</th>\n      <th>time_diff</th>\n      <th>oof_x</th>\n      <th>oof_y</th>\n      <th>oof_floor</th>\n      <th>site_path_timestamp</th>\n    </tr>\n  </thead>\n  <tbody>\n    <tr>\n      <th>0</th>\n      <td>1571625850645</td>\n      <td>82.922240</td>\n      <td>210.56656</td>\n      <td>21</td>\n      <td>5da958dd46f8266d0737457b</td>\n      <td>83.261745</td>\n      <td>211.637967</td>\n      <td>0</td>\n      <td>F1</td>\n      <td>5dad1caa18410e00067e734c</td>\n      <td>1878</td>\n      <td>88.874680</td>\n      <td>208.189270</td>\n      <td>0.035873</td>\n      <td>5da958dd46f8266d0737457b_5dad1caa18410e00067e7...</td>\n    </tr>\n    <tr>\n      <th>1</th>\n      <td>1571625850645</td>\n      <td>82.922240</td>\n      <td>210.56656</td>\n      <td>21</td>\n      <td>5da958dd46f8266d0737457b</td>\n      <td>83.601250</td>\n      <td>212.709373</td>\n      <td>0</td>\n      <td>F1</td>\n      <td>5dad1caa18410e00067e734c</td>\n      <td>3771</td>\n      <td>89.391998</td>\n      <td>208.756088</td>\n      <td>0.040552</td>\n      <td>5da958dd46f8266d0737457b_5dad1caa18410e00067e7...</td>\n    </tr>\n    <tr>\n      <th>2</th>\n      <td>1571625850645</td>\n      <td>82.922240</td>\n      <td>210.56656</td>\n      <td>21</td>\n      <td>5da958dd46f8266d0737457b</td>\n      <td>83.940755</td>\n      <td>213.780780</td>\n      <td>0</td>\n      <td>F1</td>\n      <td>5dad1caa18410e00067e734c</td>\n      <td>5657</td>\n      <td>89.672028</td>\n      <td>212.722687</td>\n      <td>0.040091</td>\n      <td>5da958dd46f8266d0737457b_5dad1caa18410e00067e7...</td>\n    </tr>\n    <tr>\n      <th>3</th>\n      <td>1571625861986</td>\n      <td>84.959270</td>\n      <td>216.99500</td>\n      <td>21</td>\n      <td>5da958dd46f8266d0737457b</td>\n      <td>84.280260</td>\n      <td>214.852187</td>\n      <td>0</td>\n      <td>F1</td>\n      <td>5dad1caa18410e00067e734c</td>\n      <td>-3788</td>\n      <td>90.491730</td>\n      <td>212.158722</td>\n      <td>0.041784</td>\n      <td>5da958dd46f8266d0737457b_5dad1caa18410e00067e7...</td>\n    </tr>\n    <tr>\n      <th>4</th>\n      <td>1571625861986</td>\n      <td>84.959270</td>\n      <td>216.99500</td>\n      <td>21</td>\n      <td>5da958dd46f8266d0737457b</td>\n      <td>84.619765</td>\n      <td>215.923593</td>\n      <td>0</td>\n      <td>F1</td>\n      <td>5dad1caa18410e00067e734c</td>\n      <td>-1905</td>\n      <td>86.897095</td>\n      <td>217.139526</td>\n      <td>0.036175</td>\n      <td>5da958dd46f8266d0737457b_5dad1caa18410e00067e7...</td>\n    </tr>\n    <tr>\n      <th>...</th>\n      <td>...</td>\n      <td>...</td>\n      <td>...</td>\n      <td>...</td>\n      <td>...</td>\n      <td>...</td>\n      <td>...</td>\n      <td>...</td>\n      <td>...</td>\n      <td>...</td>\n      <td>...</td>\n      <td>...</td>\n      <td>...</td>\n      <td>...</td>\n      <td>...</td>\n    </tr>\n    <tr>\n      <th>51620</th>\n      <td>1573822164854</td>\n      <td>12.662716</td>\n      <td>100.47756</td>\n      <td>5</td>\n      <td>5d27099f03f801723c32511d</td>\n      <td>12.662716</td>\n      <td>100.477560</td>\n      <td>1</td>\n      <td>F2</td>\n      <td>5dce9eea5516ad00065f04a7</td>\n      <td>447</td>\n      <td>15.012345</td>\n      <td>101.914925</td>\n      <td>0.269409</td>\n      <td>5d27099f03f801723c32511d_5dce9eea5516ad00065f0...</td>\n    </tr>\n    <tr>\n      <th>51621</th>\n      <td>1573822164854</td>\n      <td>12.662716</td>\n      <td>100.47756</td>\n      <td>5</td>\n      <td>5d27099f03f801723c32511d</td>\n      <td>11.041773</td>\n      <td>102.698110</td>\n      <td>1</td>\n      <td>F2</td>\n      <td>5dce9eea5516ad00065f04a7</td>\n      <td>2393</td>\n      <td>15.492247</td>\n      <td>98.461067</td>\n      <td>0.258506</td>\n      <td>5d27099f03f801723c32511d_5dce9eea5516ad00065f0...</td>\n    </tr>\n    <tr>\n      <th>51622</th>\n      <td>1573822173051</td>\n      <td>7.799886</td>\n      <td>107.13921</td>\n      <td>5</td>\n      <td>5d27099f03f801723c32511d</td>\n      <td>9.961144</td>\n      <td>104.178477</td>\n      <td>1</td>\n      <td>F2</td>\n      <td>5dce9eea5516ad00065f04a7</td>\n      <td>-3876</td>\n      <td>16.128004</td>\n      <td>100.353477</td>\n      <td>0.262384</td>\n      <td>5d27099f03f801723c32511d_5dce9eea5516ad00065f0...</td>\n    </tr>\n    <tr>\n      <th>51623</th>\n      <td>1573822173051</td>\n      <td>7.799886</td>\n      <td>107.13921</td>\n      <td>5</td>\n      <td>5d27099f03f801723c32511d</td>\n      <td>8.880515</td>\n      <td>105.658843</td>\n      <td>1</td>\n      <td>F2</td>\n      <td>5dce9eea5516ad00065f04a7</td>\n      <td>-1946</td>\n      <td>14.627602</td>\n      <td>100.902176</td>\n      <td>0.265500</td>\n      <td>5d27099f03f801723c32511d_5dce9eea5516ad00065f0...</td>\n    </tr>\n    <tr>\n      <th>51624</th>\n      <td>1573822173051</td>\n      <td>7.799886</td>\n      <td>107.13921</td>\n      <td>5</td>\n      <td>5d27099f03f801723c32511d</td>\n      <td>7.799886</td>\n      <td>107.139210</td>\n      <td>1</td>\n      <td>F2</td>\n      <td>5dce9eea5516ad00065f04a7</td>\n      <td>-17</td>\n      <td>16.454372</td>\n      <td>101.799461</td>\n      <td>0.266528</td>\n      <td>5d27099f03f801723c32511d_5dce9eea5516ad00065f0...</td>\n    </tr>\n  </tbody>\n</table>\n<p>258125 rows × 15 columns</p>\n</div>"
     },
     "metadata": {},
     "execution_count": 43
    }
   ],
   "source": [
    "oofs_df['site_path_timestamp'] = oofs_df['site_id_str'].astype(str) + '_' + oofs_df['path'] + '_' + oofs_df['timestamp'].astype(str)\n",
    "oofs_df"
   ]
  },
  {
   "cell_type": "code",
   "execution_count": 44,
   "metadata": {},
   "outputs": [
    {
     "output_type": "execute_result",
     "data": {
      "text/plain": [
       "                                          bssid_0  \\\n",
       "0        ffe684dfd25a52b046e3108a3f70df46001425f0   \n",
       "1        ffe684dfd25a52b046e3108a3f70df46001425f0   \n",
       "2        97e4a381c3a02ed3151bbf41b8fc1fe5815f5387   \n",
       "3        97e4a381c3a02ed3151bbf41b8fc1fe5815f5387   \n",
       "4        97e4a381c3a02ed3151bbf41b8fc1fe5815f5387   \n",
       "...                                           ...   \n",
       "1278302  993a56b32432fb19bfb4461a0e1a2ead9bcf192f   \n",
       "1278303  993a56b32432fb19bfb4461a0e1a2ead9bcf192f   \n",
       "1278304  993a56b32432fb19bfb4461a0e1a2ead9bcf192f   \n",
       "1278305  993a56b32432fb19bfb4461a0e1a2ead9bcf192f   \n",
       "1278306  993a56b32432fb19bfb4461a0e1a2ead9bcf192f   \n",
       "\n",
       "                                          bssid_1  \\\n",
       "0        97e4a381c3a02ed3151bbf41b8fc1fe5815f5387   \n",
       "1        97e4a381c3a02ed3151bbf41b8fc1fe5815f5387   \n",
       "2        5b71ef95e53358c558b78bf3fb152d793729bc8d   \n",
       "3        5b71ef95e53358c558b78bf3fb152d793729bc8d   \n",
       "4        6b769b9eeb24ff287e6a53736cc7c013d5902901   \n",
       "...                                           ...   \n",
       "1278302  c7d8359344120911f8550487f282c241d93c4750   \n",
       "1278303  c7d8359344120911f8550487f282c241d93c4750   \n",
       "1278304  c7d8359344120911f8550487f282c241d93c4750   \n",
       "1278305  c7d8359344120911f8550487f282c241d93c4750   \n",
       "1278306  c7d8359344120911f8550487f282c241d93c4750   \n",
       "\n",
       "                                          bssid_2  \\\n",
       "0        5b71ef95e53358c558b78bf3fb152d793729bc8d   \n",
       "1        5b71ef95e53358c558b78bf3fb152d793729bc8d   \n",
       "2        cb8f53745c342e2bfd0bf77a5fd8cac6cf303945   \n",
       "3        cb8f53745c342e2bfd0bf77a5fd8cac6cf303945   \n",
       "4        cb8f53745c342e2bfd0bf77a5fd8cac6cf303945   \n",
       "...                                           ...   \n",
       "1278302  fc27c0656fc13157bb2f58543d51e8ee972fdf66   \n",
       "1278303  fc27c0656fc13157bb2f58543d51e8ee972fdf66   \n",
       "1278304  773cde25cb4e9fd90b11603abd5bf84d83b340e6   \n",
       "1278305  773cde25cb4e9fd90b11603abd5bf84d83b340e6   \n",
       "1278306  773cde25cb4e9fd90b11603abd5bf84d83b340e6   \n",
       "\n",
       "                                          bssid_3  \\\n",
       "0        2f85d197aec7bfddfee3f53ae9e1b6ed1fc56e92   \n",
       "1        2f85d197aec7bfddfee3f53ae9e1b6ed1fc56e92   \n",
       "2        ffe684dfd25a52b046e3108a3f70df46001425f0   \n",
       "3        ffe684dfd25a52b046e3108a3f70df46001425f0   \n",
       "4        4328f33869766d0f77a9299441556338e4d8a2b9   \n",
       "...                                           ...   \n",
       "1278302  773cde25cb4e9fd90b11603abd5bf84d83b340e6   \n",
       "1278303  773cde25cb4e9fd90b11603abd5bf84d83b340e6   \n",
       "1278304  fc27c0656fc13157bb2f58543d51e8ee972fdf66   \n",
       "1278305  fc27c0656fc13157bb2f58543d51e8ee972fdf66   \n",
       "1278306  fc27c0656fc13157bb2f58543d51e8ee972fdf66   \n",
       "\n",
       "                                          bssid_4  \\\n",
       "0        4328f33869766d0f77a9299441556338e4d8a2b9   \n",
       "1        4328f33869766d0f77a9299441556338e4d8a2b9   \n",
       "2        6b769b9eeb24ff287e6a53736cc7c013d5902901   \n",
       "3        6b769b9eeb24ff287e6a53736cc7c013d5902901   \n",
       "4        3fef087dd272ab07981a60c9cbf6f27460d1364e   \n",
       "...                                           ...   \n",
       "1278302  a4a410696cb935d542d62afd8e8090dbbc341a16   \n",
       "1278303  a4a410696cb935d542d62afd8e8090dbbc341a16   \n",
       "1278304  a4a410696cb935d542d62afd8e8090dbbc341a16   \n",
       "1278305  a4a410696cb935d542d62afd8e8090dbbc341a16   \n",
       "1278306  a4a410696cb935d542d62afd8e8090dbbc341a16   \n",
       "\n",
       "                                          bssid_5  \\\n",
       "0        df41c761b69993669d4eb875b4474ec44d2372ed   \n",
       "1        df41c761b69993669d4eb875b4474ec44d2372ed   \n",
       "2        7dc49736770ee9073043134656c89a17529f882f   \n",
       "3        7dc49736770ee9073043134656c89a17529f882f   \n",
       "4        5a1a7a8496e5f8b88db082de0b412e447e01fd0b   \n",
       "...                                           ...   \n",
       "1278302  064419dd1c862bc6c960b365fed666a1a5ff36a9   \n",
       "1278303  064419dd1c862bc6c960b365fed666a1a5ff36a9   \n",
       "1278304  827530050f580378b7aa53fb292dfb8a12b775e1   \n",
       "1278305  827530050f580378b7aa53fb292dfb8a12b775e1   \n",
       "1278306  827530050f580378b7aa53fb292dfb8a12b775e1   \n",
       "\n",
       "                                          bssid_6  \\\n",
       "0        7dc49736770ee9073043134656c89a17529f882f   \n",
       "1        7dc49736770ee9073043134656c89a17529f882f   \n",
       "2        3fef087dd272ab07981a60c9cbf6f27460d1364e   \n",
       "3        3fef087dd272ab07981a60c9cbf6f27460d1364e   \n",
       "4        7dc49736770ee9073043134656c89a17529f882f   \n",
       "...                                           ...   \n",
       "1278302  b08a1d79d6d4bb2ca71336f7e995c7aa1342aa1f   \n",
       "1278303  b08a1d79d6d4bb2ca71336f7e995c7aa1342aa1f   \n",
       "1278304  19647ac7bb55a673554aa08cafb3b096aac7f32c   \n",
       "1278305  19647ac7bb55a673554aa08cafb3b096aac7f32c   \n",
       "1278306  19647ac7bb55a673554aa08cafb3b096aac7f32c   \n",
       "\n",
       "                                          bssid_7  \\\n",
       "0        5a1a7a8496e5f8b88db082de0b412e447e01fd0b   \n",
       "1        5a1a7a8496e5f8b88db082de0b412e447e01fd0b   \n",
       "2        5a1a7a8496e5f8b88db082de0b412e447e01fd0b   \n",
       "3        5a1a7a8496e5f8b88db082de0b412e447e01fd0b   \n",
       "4        df41c761b69993669d4eb875b4474ec44d2372ed   \n",
       "...                                           ...   \n",
       "1278302  3c43188acbcc9704dd3987cf1ef14906f9dbe444   \n",
       "1278303  3c43188acbcc9704dd3987cf1ef14906f9dbe444   \n",
       "1278304  064419dd1c862bc6c960b365fed666a1a5ff36a9   \n",
       "1278305  064419dd1c862bc6c960b365fed666a1a5ff36a9   \n",
       "1278306  064419dd1c862bc6c960b365fed666a1a5ff36a9   \n",
       "\n",
       "                                          bssid_8  \\\n",
       "0        463d0cfe3748eb70524138ed970f03375e8d1030   \n",
       "1        463d0cfe3748eb70524138ed970f03375e8d1030   \n",
       "2        df41c761b69993669d4eb875b4474ec44d2372ed   \n",
       "3        df41c761b69993669d4eb875b4474ec44d2372ed   \n",
       "4        5b71ef95e53358c558b78bf3fb152d793729bc8d   \n",
       "...                                           ...   \n",
       "1278302  19647ac7bb55a673554aa08cafb3b096aac7f32c   \n",
       "1278303  19647ac7bb55a673554aa08cafb3b096aac7f32c   \n",
       "1278304  3c43188acbcc9704dd3987cf1ef14906f9dbe444   \n",
       "1278305  3c43188acbcc9704dd3987cf1ef14906f9dbe444   \n",
       "1278306  3c43188acbcc9704dd3987cf1ef14906f9dbe444   \n",
       "\n",
       "                                          bssid_9  ... floor floor_str  \\\n",
       "0        79179095e63e2b0431e85e3e33b02d95bb135c2e  ...     0        F1   \n",
       "1        79179095e63e2b0431e85e3e33b02d95bb135c2e  ...     0        F1   \n",
       "2        d8b1ff62702e02106553be91dc22a0dcf0e780a7  ...     0        F1   \n",
       "3        d8b1ff62702e02106553be91dc22a0dcf0e780a7  ...     0        F1   \n",
       "4        2f85d197aec7bfddfee3f53ae9e1b6ed1fc56e92  ...     0        F1   \n",
       "...                                           ...  ...   ...       ...   \n",
       "1278302  cdc456af06dec9e63340fdf06b976b04eaa3a4a8  ...     1        F2   \n",
       "1278303  cdc456af06dec9e63340fdf06b976b04eaa3a4a8  ...     1        F2   \n",
       "1278304  2ee4dca6f3705253eceaeecf2144083b14741d08  ...     1        F2   \n",
       "1278305  2ee4dca6f3705253eceaeecf2144083b14741d08  ...     1        F2   \n",
       "1278306  2ee4dca6f3705253eceaeecf2144083b14741d08  ...     1        F2   \n",
       "\n",
       "                             path time_diff     wifi_x      wifi_y  \\\n",
       "0        5dad1ca1dc3e2c0006606c3f      1952  66.823935  241.889369   \n",
       "1        5dad1ca1dc3e2c0006606c3f      1952  66.823935  241.889369   \n",
       "2        5dad1ca1dc3e2c0006606c3f      3900  65.582943  241.838738   \n",
       "3        5dad1ca1dc3e2c0006606c3f      3900  65.582943  241.838738   \n",
       "4        5dad1ca1dc3e2c0006606c3f     -2385  64.341952  241.788107   \n",
       "...                           ...       ...        ...         ...   \n",
       "1278302  5dce9eea5516ad00065f04a7     -1946   8.880515  105.658843   \n",
       "1278303  5dce9eea5516ad00065f04a7     -1946   8.880515  105.658843   \n",
       "1278304  5dce9eea5516ad00065f04a7       -17   7.799886  107.139210   \n",
       "1278305  5dce9eea5516ad00065f04a7       -17   7.799886  107.139210   \n",
       "1278306  5dce9eea5516ad00065f04a7       -17   7.799886  107.139210   \n",
       "\n",
       "                          site_id  \\\n",
       "0        5da958dd46f8266d0737457b   \n",
       "1        5da958dd46f8266d0737457b   \n",
       "2        5da958dd46f8266d0737457b   \n",
       "3        5da958dd46f8266d0737457b   \n",
       "4        5da958dd46f8266d0737457b   \n",
       "...                           ...   \n",
       "1278302  5d27099f03f801723c32511d   \n",
       "1278303  5d27099f03f801723c32511d   \n",
       "1278304  5d27099f03f801723c32511d   \n",
       "1278305  5d27099f03f801723c32511d   \n",
       "1278306  5d27099f03f801723c32511d   \n",
       "\n",
       "                                       site_path_timestamp          x  \\\n",
       "0        5da958dd46f8266d0737457b_5dad1ca1dc3e2c0006606...  65.474991   \n",
       "1        5da958dd46f8266d0737457b_5dad1ca1dc3e2c0006606...  65.083534   \n",
       "2        5da958dd46f8266d0737457b_5dad1ca1dc3e2c0006606...  65.474991   \n",
       "3        5da958dd46f8266d0737457b_5dad1ca1dc3e2c0006606...  65.083534   \n",
       "4        5da958dd46f8266d0737457b_5dad1ca1dc3e2c0006606...  65.774338   \n",
       "...                                                    ...        ...   \n",
       "1278302  5d27099f03f801723c32511d_5dce9eea5516ad00065f0...  14.627602   \n",
       "1278303  5d27099f03f801723c32511d_5dce9eea5516ad00065f0...  16.454372   \n",
       "1278304  5d27099f03f801723c32511d_5dce9eea5516ad00065f0...  16.128004   \n",
       "1278305  5d27099f03f801723c32511d_5dce9eea5516ad00065f0...  14.627602   \n",
       "1278306  5d27099f03f801723c32511d_5dce9eea5516ad00065f0...  16.454372   \n",
       "\n",
       "                  y  \n",
       "0        235.977615  \n",
       "1        232.990005  \n",
       "2        235.977615  \n",
       "3        232.990005  \n",
       "4        234.577438  \n",
       "...             ...  \n",
       "1278302  100.902176  \n",
       "1278303  101.799461  \n",
       "1278304  100.353477  \n",
       "1278305  100.902176  \n",
       "1278306  101.799461  \n",
       "\n",
       "[1278307 rows x 213 columns]"
      ],
      "text/html": "<div>\n<style scoped>\n    .dataframe tbody tr th:only-of-type {\n        vertical-align: middle;\n    }\n\n    .dataframe tbody tr th {\n        vertical-align: top;\n    }\n\n    .dataframe thead th {\n        text-align: right;\n    }\n</style>\n<table border=\"1\" class=\"dataframe\">\n  <thead>\n    <tr style=\"text-align: right;\">\n      <th></th>\n      <th>bssid_0</th>\n      <th>bssid_1</th>\n      <th>bssid_2</th>\n      <th>bssid_3</th>\n      <th>bssid_4</th>\n      <th>bssid_5</th>\n      <th>bssid_6</th>\n      <th>bssid_7</th>\n      <th>bssid_8</th>\n      <th>bssid_9</th>\n      <th>...</th>\n      <th>floor</th>\n      <th>floor_str</th>\n      <th>path</th>\n      <th>time_diff</th>\n      <th>wifi_x</th>\n      <th>wifi_y</th>\n      <th>site_id</th>\n      <th>site_path_timestamp</th>\n      <th>x</th>\n      <th>y</th>\n    </tr>\n  </thead>\n  <tbody>\n    <tr>\n      <th>0</th>\n      <td>ffe684dfd25a52b046e3108a3f70df46001425f0</td>\n      <td>97e4a381c3a02ed3151bbf41b8fc1fe5815f5387</td>\n      <td>5b71ef95e53358c558b78bf3fb152d793729bc8d</td>\n      <td>2f85d197aec7bfddfee3f53ae9e1b6ed1fc56e92</td>\n      <td>4328f33869766d0f77a9299441556338e4d8a2b9</td>\n      <td>df41c761b69993669d4eb875b4474ec44d2372ed</td>\n      <td>7dc49736770ee9073043134656c89a17529f882f</td>\n      <td>5a1a7a8496e5f8b88db082de0b412e447e01fd0b</td>\n      <td>463d0cfe3748eb70524138ed970f03375e8d1030</td>\n      <td>79179095e63e2b0431e85e3e33b02d95bb135c2e</td>\n      <td>...</td>\n      <td>0</td>\n      <td>F1</td>\n      <td>5dad1ca1dc3e2c0006606c3f</td>\n      <td>1952</td>\n      <td>66.823935</td>\n      <td>241.889369</td>\n      <td>5da958dd46f8266d0737457b</td>\n      <td>5da958dd46f8266d0737457b_5dad1ca1dc3e2c0006606...</td>\n      <td>65.474991</td>\n      <td>235.977615</td>\n    </tr>\n    <tr>\n      <th>1</th>\n      <td>ffe684dfd25a52b046e3108a3f70df46001425f0</td>\n      <td>97e4a381c3a02ed3151bbf41b8fc1fe5815f5387</td>\n      <td>5b71ef95e53358c558b78bf3fb152d793729bc8d</td>\n      <td>2f85d197aec7bfddfee3f53ae9e1b6ed1fc56e92</td>\n      <td>4328f33869766d0f77a9299441556338e4d8a2b9</td>\n      <td>df41c761b69993669d4eb875b4474ec44d2372ed</td>\n      <td>7dc49736770ee9073043134656c89a17529f882f</td>\n      <td>5a1a7a8496e5f8b88db082de0b412e447e01fd0b</td>\n      <td>463d0cfe3748eb70524138ed970f03375e8d1030</td>\n      <td>79179095e63e2b0431e85e3e33b02d95bb135c2e</td>\n      <td>...</td>\n      <td>0</td>\n      <td>F1</td>\n      <td>5dad1ca1dc3e2c0006606c3f</td>\n      <td>1952</td>\n      <td>66.823935</td>\n      <td>241.889369</td>\n      <td>5da958dd46f8266d0737457b</td>\n      <td>5da958dd46f8266d0737457b_5dad1ca1dc3e2c0006606...</td>\n      <td>65.083534</td>\n      <td>232.990005</td>\n    </tr>\n    <tr>\n      <th>2</th>\n      <td>97e4a381c3a02ed3151bbf41b8fc1fe5815f5387</td>\n      <td>5b71ef95e53358c558b78bf3fb152d793729bc8d</td>\n      <td>cb8f53745c342e2bfd0bf77a5fd8cac6cf303945</td>\n      <td>ffe684dfd25a52b046e3108a3f70df46001425f0</td>\n      <td>6b769b9eeb24ff287e6a53736cc7c013d5902901</td>\n      <td>7dc49736770ee9073043134656c89a17529f882f</td>\n      <td>3fef087dd272ab07981a60c9cbf6f27460d1364e</td>\n      <td>5a1a7a8496e5f8b88db082de0b412e447e01fd0b</td>\n      <td>df41c761b69993669d4eb875b4474ec44d2372ed</td>\n      <td>d8b1ff62702e02106553be91dc22a0dcf0e780a7</td>\n      <td>...</td>\n      <td>0</td>\n      <td>F1</td>\n      <td>5dad1ca1dc3e2c0006606c3f</td>\n      <td>3900</td>\n      <td>65.582943</td>\n      <td>241.838738</td>\n      <td>5da958dd46f8266d0737457b</td>\n      <td>5da958dd46f8266d0737457b_5dad1ca1dc3e2c0006606...</td>\n      <td>65.474991</td>\n      <td>235.977615</td>\n    </tr>\n    <tr>\n      <th>3</th>\n      <td>97e4a381c3a02ed3151bbf41b8fc1fe5815f5387</td>\n      <td>5b71ef95e53358c558b78bf3fb152d793729bc8d</td>\n      <td>cb8f53745c342e2bfd0bf77a5fd8cac6cf303945</td>\n      <td>ffe684dfd25a52b046e3108a3f70df46001425f0</td>\n      <td>6b769b9eeb24ff287e6a53736cc7c013d5902901</td>\n      <td>7dc49736770ee9073043134656c89a17529f882f</td>\n      <td>3fef087dd272ab07981a60c9cbf6f27460d1364e</td>\n      <td>5a1a7a8496e5f8b88db082de0b412e447e01fd0b</td>\n      <td>df41c761b69993669d4eb875b4474ec44d2372ed</td>\n      <td>d8b1ff62702e02106553be91dc22a0dcf0e780a7</td>\n      <td>...</td>\n      <td>0</td>\n      <td>F1</td>\n      <td>5dad1ca1dc3e2c0006606c3f</td>\n      <td>3900</td>\n      <td>65.582943</td>\n      <td>241.838738</td>\n      <td>5da958dd46f8266d0737457b</td>\n      <td>5da958dd46f8266d0737457b_5dad1ca1dc3e2c0006606...</td>\n      <td>65.083534</td>\n      <td>232.990005</td>\n    </tr>\n    <tr>\n      <th>4</th>\n      <td>97e4a381c3a02ed3151bbf41b8fc1fe5815f5387</td>\n      <td>6b769b9eeb24ff287e6a53736cc7c013d5902901</td>\n      <td>cb8f53745c342e2bfd0bf77a5fd8cac6cf303945</td>\n      <td>4328f33869766d0f77a9299441556338e4d8a2b9</td>\n      <td>3fef087dd272ab07981a60c9cbf6f27460d1364e</td>\n      <td>5a1a7a8496e5f8b88db082de0b412e447e01fd0b</td>\n      <td>7dc49736770ee9073043134656c89a17529f882f</td>\n      <td>df41c761b69993669d4eb875b4474ec44d2372ed</td>\n      <td>5b71ef95e53358c558b78bf3fb152d793729bc8d</td>\n      <td>2f85d197aec7bfddfee3f53ae9e1b6ed1fc56e92</td>\n      <td>...</td>\n      <td>0</td>\n      <td>F1</td>\n      <td>5dad1ca1dc3e2c0006606c3f</td>\n      <td>-2385</td>\n      <td>64.341952</td>\n      <td>241.788107</td>\n      <td>5da958dd46f8266d0737457b</td>\n      <td>5da958dd46f8266d0737457b_5dad1ca1dc3e2c0006606...</td>\n      <td>65.774338</td>\n      <td>234.577438</td>\n    </tr>\n    <tr>\n      <th>...</th>\n      <td>...</td>\n      <td>...</td>\n      <td>...</td>\n      <td>...</td>\n      <td>...</td>\n      <td>...</td>\n      <td>...</td>\n      <td>...</td>\n      <td>...</td>\n      <td>...</td>\n      <td>...</td>\n      <td>...</td>\n      <td>...</td>\n      <td>...</td>\n      <td>...</td>\n      <td>...</td>\n      <td>...</td>\n      <td>...</td>\n      <td>...</td>\n      <td>...</td>\n      <td>...</td>\n    </tr>\n    <tr>\n      <th>1278302</th>\n      <td>993a56b32432fb19bfb4461a0e1a2ead9bcf192f</td>\n      <td>c7d8359344120911f8550487f282c241d93c4750</td>\n      <td>fc27c0656fc13157bb2f58543d51e8ee972fdf66</td>\n      <td>773cde25cb4e9fd90b11603abd5bf84d83b340e6</td>\n      <td>a4a410696cb935d542d62afd8e8090dbbc341a16</td>\n      <td>064419dd1c862bc6c960b365fed666a1a5ff36a9</td>\n      <td>b08a1d79d6d4bb2ca71336f7e995c7aa1342aa1f</td>\n      <td>3c43188acbcc9704dd3987cf1ef14906f9dbe444</td>\n      <td>19647ac7bb55a673554aa08cafb3b096aac7f32c</td>\n      <td>cdc456af06dec9e63340fdf06b976b04eaa3a4a8</td>\n      <td>...</td>\n      <td>1</td>\n      <td>F2</td>\n      <td>5dce9eea5516ad00065f04a7</td>\n      <td>-1946</td>\n      <td>8.880515</td>\n      <td>105.658843</td>\n      <td>5d27099f03f801723c32511d</td>\n      <td>5d27099f03f801723c32511d_5dce9eea5516ad00065f0...</td>\n      <td>14.627602</td>\n      <td>100.902176</td>\n    </tr>\n    <tr>\n      <th>1278303</th>\n      <td>993a56b32432fb19bfb4461a0e1a2ead9bcf192f</td>\n      <td>c7d8359344120911f8550487f282c241d93c4750</td>\n      <td>fc27c0656fc13157bb2f58543d51e8ee972fdf66</td>\n      <td>773cde25cb4e9fd90b11603abd5bf84d83b340e6</td>\n      <td>a4a410696cb935d542d62afd8e8090dbbc341a16</td>\n      <td>064419dd1c862bc6c960b365fed666a1a5ff36a9</td>\n      <td>b08a1d79d6d4bb2ca71336f7e995c7aa1342aa1f</td>\n      <td>3c43188acbcc9704dd3987cf1ef14906f9dbe444</td>\n      <td>19647ac7bb55a673554aa08cafb3b096aac7f32c</td>\n      <td>cdc456af06dec9e63340fdf06b976b04eaa3a4a8</td>\n      <td>...</td>\n      <td>1</td>\n      <td>F2</td>\n      <td>5dce9eea5516ad00065f04a7</td>\n      <td>-1946</td>\n      <td>8.880515</td>\n      <td>105.658843</td>\n      <td>5d27099f03f801723c32511d</td>\n      <td>5d27099f03f801723c32511d_5dce9eea5516ad00065f0...</td>\n      <td>16.454372</td>\n      <td>101.799461</td>\n    </tr>\n    <tr>\n      <th>1278304</th>\n      <td>993a56b32432fb19bfb4461a0e1a2ead9bcf192f</td>\n      <td>c7d8359344120911f8550487f282c241d93c4750</td>\n      <td>773cde25cb4e9fd90b11603abd5bf84d83b340e6</td>\n      <td>fc27c0656fc13157bb2f58543d51e8ee972fdf66</td>\n      <td>a4a410696cb935d542d62afd8e8090dbbc341a16</td>\n      <td>827530050f580378b7aa53fb292dfb8a12b775e1</td>\n      <td>19647ac7bb55a673554aa08cafb3b096aac7f32c</td>\n      <td>064419dd1c862bc6c960b365fed666a1a5ff36a9</td>\n      <td>3c43188acbcc9704dd3987cf1ef14906f9dbe444</td>\n      <td>2ee4dca6f3705253eceaeecf2144083b14741d08</td>\n      <td>...</td>\n      <td>1</td>\n      <td>F2</td>\n      <td>5dce9eea5516ad00065f04a7</td>\n      <td>-17</td>\n      <td>7.799886</td>\n      <td>107.139210</td>\n      <td>5d27099f03f801723c32511d</td>\n      <td>5d27099f03f801723c32511d_5dce9eea5516ad00065f0...</td>\n      <td>16.128004</td>\n      <td>100.353477</td>\n    </tr>\n    <tr>\n      <th>1278305</th>\n      <td>993a56b32432fb19bfb4461a0e1a2ead9bcf192f</td>\n      <td>c7d8359344120911f8550487f282c241d93c4750</td>\n      <td>773cde25cb4e9fd90b11603abd5bf84d83b340e6</td>\n      <td>fc27c0656fc13157bb2f58543d51e8ee972fdf66</td>\n      <td>a4a410696cb935d542d62afd8e8090dbbc341a16</td>\n      <td>827530050f580378b7aa53fb292dfb8a12b775e1</td>\n      <td>19647ac7bb55a673554aa08cafb3b096aac7f32c</td>\n      <td>064419dd1c862bc6c960b365fed666a1a5ff36a9</td>\n      <td>3c43188acbcc9704dd3987cf1ef14906f9dbe444</td>\n      <td>2ee4dca6f3705253eceaeecf2144083b14741d08</td>\n      <td>...</td>\n      <td>1</td>\n      <td>F2</td>\n      <td>5dce9eea5516ad00065f04a7</td>\n      <td>-17</td>\n      <td>7.799886</td>\n      <td>107.139210</td>\n      <td>5d27099f03f801723c32511d</td>\n      <td>5d27099f03f801723c32511d_5dce9eea5516ad00065f0...</td>\n      <td>14.627602</td>\n      <td>100.902176</td>\n    </tr>\n    <tr>\n      <th>1278306</th>\n      <td>993a56b32432fb19bfb4461a0e1a2ead9bcf192f</td>\n      <td>c7d8359344120911f8550487f282c241d93c4750</td>\n      <td>773cde25cb4e9fd90b11603abd5bf84d83b340e6</td>\n      <td>fc27c0656fc13157bb2f58543d51e8ee972fdf66</td>\n      <td>a4a410696cb935d542d62afd8e8090dbbc341a16</td>\n      <td>827530050f580378b7aa53fb292dfb8a12b775e1</td>\n      <td>19647ac7bb55a673554aa08cafb3b096aac7f32c</td>\n      <td>064419dd1c862bc6c960b365fed666a1a5ff36a9</td>\n      <td>3c43188acbcc9704dd3987cf1ef14906f9dbe444</td>\n      <td>2ee4dca6f3705253eceaeecf2144083b14741d08</td>\n      <td>...</td>\n      <td>1</td>\n      <td>F2</td>\n      <td>5dce9eea5516ad00065f04a7</td>\n      <td>-17</td>\n      <td>7.799886</td>\n      <td>107.139210</td>\n      <td>5d27099f03f801723c32511d</td>\n      <td>5d27099f03f801723c32511d_5dce9eea5516ad00065f0...</td>\n      <td>16.454372</td>\n      <td>101.799461</td>\n    </tr>\n  </tbody>\n</table>\n<p>1278307 rows × 213 columns</p>\n</div>"
     },
     "metadata": {},
     "execution_count": 44
    }
   ],
   "source": [
    "data_org = pd.merge(data_org, oofs_df[['site_path_timestamp', 'oof_x', 'oof_y']], on='site_path_timestamp', how='left')\n",
    "data_org = data_org.rename(columns={'x':'target_x', 'y': 'target_y', 'oof_x':'x', 'oof_y':'y'})\n",
    "data_org"
   ]
  },
  {
   "cell_type": "code",
   "execution_count": 45,
   "metadata": {},
   "outputs": [
    {
     "output_type": "stream",
     "name": "stderr",
     "text": [
      "10852it [04:15, 42.41it/s]\n"
     ]
    }
   ],
   "source": [
    "\"\"\"sub = pd.read_csv('../input/simple-99-accurate-floor-model/submission.csv')\n",
    "tmp = sub['site_path_timestamp'].apply(lambda s : pd.Series(s.split('_')))\n",
    "sub['site'] = tmp[0]\n",
    "sub['path'] = tmp[1]\n",
    "sub['timestamp'] = tmp[2].astype(float)\"\"\"\n",
    "\n",
    "processes = multiprocessing.cpu_count()\n",
    "with multiprocessing.Pool(processes=processes) as pool:\n",
    "    dfs = pool.imap_unordered(correct_path_train, data_org.groupby(['site_id', 'path', 'floor_str']))\n",
    "    dfs = tqdm(dfs)\n",
    "    dfs = list(dfs)\n",
    "oof_post_process = pd.concat(dfs).sort_values('site_path_timestamp')\n"
   ]
  },
  {
   "cell_type": "code",
   "execution_count": 46,
   "metadata": {},
   "outputs": [
    {
     "output_type": "execute_result",
     "data": {
      "text/plain": [
       "                                      site_path_timestamp  floor           x  \\\n",
       "720328  5a0546857ecc773753327266_5d10a1669c50c70008fe8...      2   85.186721   \n",
       "720331  5a0546857ecc773753327266_5d10a1669c50c70008fe8...      2   85.181121   \n",
       "720329  5a0546857ecc773753327266_5d10a1669c50c70008fe8...      2   85.187162   \n",
       "720330  5a0546857ecc773753327266_5d10a1669c50c70008fe8...      2   85.183923   \n",
       "720388  5a0546857ecc773753327266_5d10a1669c50c70008fe8...      2   83.980955   \n",
       "...                                                   ...    ...         ...   \n",
       "536457  5dc8cea7659e181adb076a3f_5dd7c119c5b77e0006b16...     -1  204.887168   \n",
       "536458  5dc8cea7659e181adb076a3f_5dd7c119c5b77e0006b16...     -1  204.874542   \n",
       "536459  5dc8cea7659e181adb076a3f_5dd7c119c5b77e0006b16...     -1  204.868634   \n",
       "536452  5dc8cea7659e181adb076a3f_5dd7c119c5b77e0006b16...     -1  205.003519   \n",
       "536454  5dc8cea7659e181adb076a3f_5dd7c119c5b77e0006b16...     -1  204.945148   \n",
       "\n",
       "                 y  \n",
       "720328   35.440870  \n",
       "720331   35.424457  \n",
       "720329   35.435412  \n",
       "720330   35.432669  \n",
       "720388   26.415453  \n",
       "...            ...  \n",
       "536457  104.321073  \n",
       "536458  104.318486  \n",
       "536459  104.316786  \n",
       "536452  104.349860  \n",
       "536454  104.335417  \n",
       "\n",
       "[1278307 rows x 4 columns]"
      ],
      "text/html": "<div>\n<style scoped>\n    .dataframe tbody tr th:only-of-type {\n        vertical-align: middle;\n    }\n\n    .dataframe tbody tr th {\n        vertical-align: top;\n    }\n\n    .dataframe thead th {\n        text-align: right;\n    }\n</style>\n<table border=\"1\" class=\"dataframe\">\n  <thead>\n    <tr style=\"text-align: right;\">\n      <th></th>\n      <th>site_path_timestamp</th>\n      <th>floor</th>\n      <th>x</th>\n      <th>y</th>\n    </tr>\n  </thead>\n  <tbody>\n    <tr>\n      <th>720328</th>\n      <td>5a0546857ecc773753327266_5d10a1669c50c70008fe8...</td>\n      <td>2</td>\n      <td>85.186721</td>\n      <td>35.440870</td>\n    </tr>\n    <tr>\n      <th>720331</th>\n      <td>5a0546857ecc773753327266_5d10a1669c50c70008fe8...</td>\n      <td>2</td>\n      <td>85.181121</td>\n      <td>35.424457</td>\n    </tr>\n    <tr>\n      <th>720329</th>\n      <td>5a0546857ecc773753327266_5d10a1669c50c70008fe8...</td>\n      <td>2</td>\n      <td>85.187162</td>\n      <td>35.435412</td>\n    </tr>\n    <tr>\n      <th>720330</th>\n      <td>5a0546857ecc773753327266_5d10a1669c50c70008fe8...</td>\n      <td>2</td>\n      <td>85.183923</td>\n      <td>35.432669</td>\n    </tr>\n    <tr>\n      <th>720388</th>\n      <td>5a0546857ecc773753327266_5d10a1669c50c70008fe8...</td>\n      <td>2</td>\n      <td>83.980955</td>\n      <td>26.415453</td>\n    </tr>\n    <tr>\n      <th>...</th>\n      <td>...</td>\n      <td>...</td>\n      <td>...</td>\n      <td>...</td>\n    </tr>\n    <tr>\n      <th>536457</th>\n      <td>5dc8cea7659e181adb076a3f_5dd7c119c5b77e0006b16...</td>\n      <td>-1</td>\n      <td>204.887168</td>\n      <td>104.321073</td>\n    </tr>\n    <tr>\n      <th>536458</th>\n      <td>5dc8cea7659e181adb076a3f_5dd7c119c5b77e0006b16...</td>\n      <td>-1</td>\n      <td>204.874542</td>\n      <td>104.318486</td>\n    </tr>\n    <tr>\n      <th>536459</th>\n      <td>5dc8cea7659e181adb076a3f_5dd7c119c5b77e0006b16...</td>\n      <td>-1</td>\n      <td>204.868634</td>\n      <td>104.316786</td>\n    </tr>\n    <tr>\n      <th>536452</th>\n      <td>5dc8cea7659e181adb076a3f_5dd7c119c5b77e0006b16...</td>\n      <td>-1</td>\n      <td>205.003519</td>\n      <td>104.349860</td>\n    </tr>\n    <tr>\n      <th>536454</th>\n      <td>5dc8cea7659e181adb076a3f_5dd7c119c5b77e0006b16...</td>\n      <td>-1</td>\n      <td>204.945148</td>\n      <td>104.335417</td>\n    </tr>\n  </tbody>\n</table>\n<p>1278307 rows × 4 columns</p>\n</div>"
     },
     "metadata": {},
     "execution_count": 46
    }
   ],
   "source": [
    "oof_post_process"
   ]
  },
  {
   "cell_type": "code",
   "execution_count": 48,
   "metadata": {},
   "outputs": [
    {
     "output_type": "execute_result",
     "data": {
      "text/plain": [
       "7.028372870985832"
      ]
     },
     "metadata": {},
     "execution_count": 48
    }
   ],
   "source": [
    "# waypoint補正前のx,yでの評価\n",
    "oof_score_post_process = mean_position_error(\n",
    "    oof_post_process.sort_values('site_path_timestamp')['x'].to_numpy(), oof_post_process.sort_values('site_path_timestamp')['y'].to_numpy(), 0, \n",
    "    data_org.sort_values('site_path_timestamp')['target_x'], data_org.sort_values('site_path_timestamp')['target_y'], 0\n",
    "    )\n",
    "oof_score_post_process"
   ]
  },
  {
   "cell_type": "code",
   "execution_count": 61,
   "metadata": {},
   "outputs": [
    {
     "output_type": "execute_result",
     "data": {
      "text/plain": [
       "6.878435090529839"
      ]
     },
     "metadata": {},
     "execution_count": 61
    }
   ],
   "source": [
    "# waypoint補正後のx,yでの評価\n",
    "oof_score_post_process = mean_position_error(\n",
    "    oof_post_process.sort_values('site_path_timestamp')['x'].to_numpy(), oof_post_process.sort_values('site_path_timestamp')['y'].to_numpy(), 0, \n",
    "    data_org.sort_values('site_path_timestamp')['wifi_x'], data_org.sort_values('site_path_timestamp')['wifi_y'], 0\n",
    "    )\n",
    "oof_score_post_process"
   ]
  },
  {
   "cell_type": "code",
   "execution_count": 58,
   "metadata": {},
   "outputs": [
    {
     "output_type": "execute_result",
     "data": {
      "text/plain": [
       "                                                    floor           x  \\\n",
       "site_path_timestamp                                                     \n",
       "5a0546857ecc773753327266_046cfa46be49fc10834815...      0   87.954796   \n",
       "5a0546857ecc773753327266_046cfa46be49fc10834815...      0   84.130959   \n",
       "5a0546857ecc773753327266_046cfa46be49fc10834815...      0   86.090317   \n",
       "5a0546857ecc773753327266_046cfa46be49fc10834815...      0   87.595718   \n",
       "5a0546857ecc773753327266_046cfa46be49fc10834815...      0   86.149513   \n",
       "...                                                   ...         ...   \n",
       "5dc8cea7659e181adb076a3f_fd64de8c4a2fc5ebb0e9f4...      5  214.097397   \n",
       "5dc8cea7659e181adb076a3f_fd64de8c4a2fc5ebb0e9f4...      5  209.983994   \n",
       "5dc8cea7659e181adb076a3f_fd64de8c4a2fc5ebb0e9f4...      5  205.807724   \n",
       "5dc8cea7659e181adb076a3f_fd64de8c4a2fc5ebb0e9f4...      5  202.292267   \n",
       "5dc8cea7659e181adb076a3f_fd64de8c4a2fc5ebb0e9f4...      5  199.881561   \n",
       "\n",
       "                                                             y  \n",
       "site_path_timestamp                                             \n",
       "5a0546857ecc773753327266_046cfa46be49fc10834815...  102.605637  \n",
       "5a0546857ecc773753327266_046cfa46be49fc10834815...  102.008942  \n",
       "5a0546857ecc773753327266_046cfa46be49fc10834815...  104.619865  \n",
       "5a0546857ecc773753327266_046cfa46be49fc10834815...  105.741379  \n",
       "5a0546857ecc773753327266_046cfa46be49fc10834815...  105.548729  \n",
       "...                                                        ...  \n",
       "5dc8cea7659e181adb076a3f_fd64de8c4a2fc5ebb0e9f4...   90.171814  \n",
       "5dc8cea7659e181adb076a3f_fd64de8c4a2fc5ebb0e9f4...   99.197472  \n",
       "5dc8cea7659e181adb076a3f_fd64de8c4a2fc5ebb0e9f4...  105.314880  \n",
       "5dc8cea7659e181adb076a3f_fd64de8c4a2fc5ebb0e9f4...  111.906059  \n",
       "5dc8cea7659e181adb076a3f_fd64de8c4a2fc5ebb0e9f4...  111.624573  \n",
       "\n",
       "[10133 rows x 3 columns]"
      ],
      "text/html": "<div>\n<style scoped>\n    .dataframe tbody tr th:only-of-type {\n        vertical-align: middle;\n    }\n\n    .dataframe tbody tr th {\n        vertical-align: top;\n    }\n\n    .dataframe thead th {\n        text-align: right;\n    }\n</style>\n<table border=\"1\" class=\"dataframe\">\n  <thead>\n    <tr style=\"text-align: right;\">\n      <th></th>\n      <th>floor</th>\n      <th>x</th>\n      <th>y</th>\n    </tr>\n    <tr>\n      <th>site_path_timestamp</th>\n      <th></th>\n      <th></th>\n      <th></th>\n    </tr>\n  </thead>\n  <tbody>\n    <tr>\n      <th>5a0546857ecc773753327266_046cfa46be49fc10834815c6_0000000000009</th>\n      <td>0</td>\n      <td>87.954796</td>\n      <td>102.605637</td>\n    </tr>\n    <tr>\n      <th>5a0546857ecc773753327266_046cfa46be49fc10834815c6_0000000009017</th>\n      <td>0</td>\n      <td>84.130959</td>\n      <td>102.008942</td>\n    </tr>\n    <tr>\n      <th>5a0546857ecc773753327266_046cfa46be49fc10834815c6_0000000015326</th>\n      <td>0</td>\n      <td>86.090317</td>\n      <td>104.619865</td>\n    </tr>\n    <tr>\n      <th>5a0546857ecc773753327266_046cfa46be49fc10834815c6_0000000018763</th>\n      <td>0</td>\n      <td>87.595718</td>\n      <td>105.741379</td>\n    </tr>\n    <tr>\n      <th>5a0546857ecc773753327266_046cfa46be49fc10834815c6_0000000022328</th>\n      <td>0</td>\n      <td>86.149513</td>\n      <td>105.548729</td>\n    </tr>\n    <tr>\n      <th>...</th>\n      <td>...</td>\n      <td>...</td>\n      <td>...</td>\n    </tr>\n    <tr>\n      <th>5dc8cea7659e181adb076a3f_fd64de8c4a2fc5ebb0e9f412_0000000082589</th>\n      <td>5</td>\n      <td>214.097397</td>\n      <td>90.171814</td>\n    </tr>\n    <tr>\n      <th>5dc8cea7659e181adb076a3f_fd64de8c4a2fc5ebb0e9f412_0000000085758</th>\n      <td>5</td>\n      <td>209.983994</td>\n      <td>99.197472</td>\n    </tr>\n    <tr>\n      <th>5dc8cea7659e181adb076a3f_fd64de8c4a2fc5ebb0e9f412_0000000090895</th>\n      <td>5</td>\n      <td>205.807724</td>\n      <td>105.314880</td>\n    </tr>\n    <tr>\n      <th>5dc8cea7659e181adb076a3f_fd64de8c4a2fc5ebb0e9f412_0000000096899</th>\n      <td>5</td>\n      <td>202.292267</td>\n      <td>111.906059</td>\n    </tr>\n    <tr>\n      <th>5dc8cea7659e181adb076a3f_fd64de8c4a2fc5ebb0e9f412_0000000100447</th>\n      <td>5</td>\n      <td>199.881561</td>\n      <td>111.624573</td>\n    </tr>\n  </tbody>\n</table>\n<p>10133 rows × 3 columns</p>\n</div>"
     },
     "metadata": {},
     "execution_count": 58
    }
   ],
   "source": [
    "sub"
   ]
  },
  {
   "cell_type": "code",
   "execution_count": 59,
   "metadata": {},
   "outputs": [
    {
     "output_type": "execute_result",
     "data": {
      "text/plain": [
       "                                     site_path_timestamp  floor           x  \\\n",
       "0      5a0546857ecc773753327266_046cfa46be49fc1083481...      0   87.954796   \n",
       "1      5a0546857ecc773753327266_046cfa46be49fc1083481...      0   84.130959   \n",
       "2      5a0546857ecc773753327266_046cfa46be49fc1083481...      0   86.090317   \n",
       "3      5a0546857ecc773753327266_046cfa46be49fc1083481...      0   87.595718   \n",
       "4      5a0546857ecc773753327266_046cfa46be49fc1083481...      0   86.149513   \n",
       "...                                                  ...    ...         ...   \n",
       "10128  5dc8cea7659e181adb076a3f_fd64de8c4a2fc5ebb0e9f...      5  214.097397   \n",
       "10129  5dc8cea7659e181adb076a3f_fd64de8c4a2fc5ebb0e9f...      5  209.983994   \n",
       "10130  5dc8cea7659e181adb076a3f_fd64de8c4a2fc5ebb0e9f...      5  205.807724   \n",
       "10131  5dc8cea7659e181adb076a3f_fd64de8c4a2fc5ebb0e9f...      5  202.292267   \n",
       "10132  5dc8cea7659e181adb076a3f_fd64de8c4a2fc5ebb0e9f...      5  199.881561   \n",
       "\n",
       "                y                      site                      path  \\\n",
       "0      102.605637  5a0546857ecc773753327266  046cfa46be49fc10834815c6   \n",
       "1      102.008942  5a0546857ecc773753327266  046cfa46be49fc10834815c6   \n",
       "2      104.619865  5a0546857ecc773753327266  046cfa46be49fc10834815c6   \n",
       "3      105.741379  5a0546857ecc773753327266  046cfa46be49fc10834815c6   \n",
       "4      105.548729  5a0546857ecc773753327266  046cfa46be49fc10834815c6   \n",
       "...           ...                       ...                       ...   \n",
       "10128   90.171814  5dc8cea7659e181adb076a3f  fd64de8c4a2fc5ebb0e9f412   \n",
       "10129   99.197472  5dc8cea7659e181adb076a3f  fd64de8c4a2fc5ebb0e9f412   \n",
       "10130  105.314880  5dc8cea7659e181adb076a3f  fd64de8c4a2fc5ebb0e9f412   \n",
       "10131  111.906059  5dc8cea7659e181adb076a3f  fd64de8c4a2fc5ebb0e9f412   \n",
       "10132  111.624573  5dc8cea7659e181adb076a3f  fd64de8c4a2fc5ebb0e9f412   \n",
       "\n",
       "       timestamp  \n",
       "0            9.0  \n",
       "1         9017.0  \n",
       "2        15326.0  \n",
       "3        18763.0  \n",
       "4        22328.0  \n",
       "...          ...  \n",
       "10128    82589.0  \n",
       "10129    85758.0  \n",
       "10130    90895.0  \n",
       "10131    96899.0  \n",
       "10132   100447.0  \n",
       "\n",
       "[10133 rows x 7 columns]"
      ],
      "text/html": "<div>\n<style scoped>\n    .dataframe tbody tr th:only-of-type {\n        vertical-align: middle;\n    }\n\n    .dataframe tbody tr th {\n        vertical-align: top;\n    }\n\n    .dataframe thead th {\n        text-align: right;\n    }\n</style>\n<table border=\"1\" class=\"dataframe\">\n  <thead>\n    <tr style=\"text-align: right;\">\n      <th></th>\n      <th>site_path_timestamp</th>\n      <th>floor</th>\n      <th>x</th>\n      <th>y</th>\n      <th>site</th>\n      <th>path</th>\n      <th>timestamp</th>\n    </tr>\n  </thead>\n  <tbody>\n    <tr>\n      <th>0</th>\n      <td>5a0546857ecc773753327266_046cfa46be49fc1083481...</td>\n      <td>0</td>\n      <td>87.954796</td>\n      <td>102.605637</td>\n      <td>5a0546857ecc773753327266</td>\n      <td>046cfa46be49fc10834815c6</td>\n      <td>9.0</td>\n    </tr>\n    <tr>\n      <th>1</th>\n      <td>5a0546857ecc773753327266_046cfa46be49fc1083481...</td>\n      <td>0</td>\n      <td>84.130959</td>\n      <td>102.008942</td>\n      <td>5a0546857ecc773753327266</td>\n      <td>046cfa46be49fc10834815c6</td>\n      <td>9017.0</td>\n    </tr>\n    <tr>\n      <th>2</th>\n      <td>5a0546857ecc773753327266_046cfa46be49fc1083481...</td>\n      <td>0</td>\n      <td>86.090317</td>\n      <td>104.619865</td>\n      <td>5a0546857ecc773753327266</td>\n      <td>046cfa46be49fc10834815c6</td>\n      <td>15326.0</td>\n    </tr>\n    <tr>\n      <th>3</th>\n      <td>5a0546857ecc773753327266_046cfa46be49fc1083481...</td>\n      <td>0</td>\n      <td>87.595718</td>\n      <td>105.741379</td>\n      <td>5a0546857ecc773753327266</td>\n      <td>046cfa46be49fc10834815c6</td>\n      <td>18763.0</td>\n    </tr>\n    <tr>\n      <th>4</th>\n      <td>5a0546857ecc773753327266_046cfa46be49fc1083481...</td>\n      <td>0</td>\n      <td>86.149513</td>\n      <td>105.548729</td>\n      <td>5a0546857ecc773753327266</td>\n      <td>046cfa46be49fc10834815c6</td>\n      <td>22328.0</td>\n    </tr>\n    <tr>\n      <th>...</th>\n      <td>...</td>\n      <td>...</td>\n      <td>...</td>\n      <td>...</td>\n      <td>...</td>\n      <td>...</td>\n      <td>...</td>\n    </tr>\n    <tr>\n      <th>10128</th>\n      <td>5dc8cea7659e181adb076a3f_fd64de8c4a2fc5ebb0e9f...</td>\n      <td>5</td>\n      <td>214.097397</td>\n      <td>90.171814</td>\n      <td>5dc8cea7659e181adb076a3f</td>\n      <td>fd64de8c4a2fc5ebb0e9f412</td>\n      <td>82589.0</td>\n    </tr>\n    <tr>\n      <th>10129</th>\n      <td>5dc8cea7659e181adb076a3f_fd64de8c4a2fc5ebb0e9f...</td>\n      <td>5</td>\n      <td>209.983994</td>\n      <td>99.197472</td>\n      <td>5dc8cea7659e181adb076a3f</td>\n      <td>fd64de8c4a2fc5ebb0e9f412</td>\n      <td>85758.0</td>\n    </tr>\n    <tr>\n      <th>10130</th>\n      <td>5dc8cea7659e181adb076a3f_fd64de8c4a2fc5ebb0e9f...</td>\n      <td>5</td>\n      <td>205.807724</td>\n      <td>105.314880</td>\n      <td>5dc8cea7659e181adb076a3f</td>\n      <td>fd64de8c4a2fc5ebb0e9f412</td>\n      <td>90895.0</td>\n    </tr>\n    <tr>\n      <th>10131</th>\n      <td>5dc8cea7659e181adb076a3f_fd64de8c4a2fc5ebb0e9f...</td>\n      <td>5</td>\n      <td>202.292267</td>\n      <td>111.906059</td>\n      <td>5dc8cea7659e181adb076a3f</td>\n      <td>fd64de8c4a2fc5ebb0e9f412</td>\n      <td>96899.0</td>\n    </tr>\n    <tr>\n      <th>10132</th>\n      <td>5dc8cea7659e181adb076a3f_fd64de8c4a2fc5ebb0e9f...</td>\n      <td>5</td>\n      <td>199.881561</td>\n      <td>111.624573</td>\n      <td>5dc8cea7659e181adb076a3f</td>\n      <td>fd64de8c4a2fc5ebb0e9f412</td>\n      <td>100447.0</td>\n    </tr>\n  </tbody>\n</table>\n<p>10133 rows × 7 columns</p>\n</div>"
     },
     "metadata": {},
     "execution_count": 59
    }
   ],
   "source": [
    "sub = sub.reset_index()\n",
    "sub_org = sub.copy()\n",
    "tmp = sub['site_path_timestamp'].apply(lambda s : pd.Series(s.split('_')))\n",
    "sub['site'] = tmp[0]\n",
    "sub['path'] = tmp[1]\n",
    "sub['timestamp'] = tmp[2].astype(float)\n",
    "sub"
   ]
  },
  {
   "cell_type": "code",
   "execution_count": 60,
   "metadata": {},
   "outputs": [
    {
     "output_type": "stream",
     "name": "stderr",
     "text": [
      "626it [00:49, 12.55it/s]\n"
     ]
    }
   ],
   "source": [
    "processes = multiprocessing.cpu_count()\n",
    "with multiprocessing.Pool(processes=processes) as pool:\n",
    "    dfs = pool.imap_unordered(correct_path, sub.groupby(['path']))\n",
    "    dfs = tqdm(dfs)\n",
    "    dfs = list(dfs)\n",
    "new_sub = pd.concat(dfs).sort_values('site_path_timestamp')\n"
   ]
  },
  {
   "cell_type": "code",
   "execution_count": 68,
   "metadata": {},
   "outputs": [
    {
     "output_type": "execute_result",
     "data": {
      "text/plain": [
       "                                                    floor           x  \\\n",
       "site_path_timestamp                                                     \n",
       "5a0546857ecc773753327266_046cfa46be49fc10834815...      0   91.328964   \n",
       "5a0546857ecc773753327266_046cfa46be49fc10834815...      0   81.869227   \n",
       "5a0546857ecc773753327266_046cfa46be49fc10834815...      0   84.059223   \n",
       "5a0546857ecc773753327266_046cfa46be49fc10834815...      0   85.353798   \n",
       "5a0546857ecc773753327266_046cfa46be49fc10834815...      0   85.799636   \n",
       "...                                                   ...         ...   \n",
       "5dc8cea7659e181adb076a3f_fd64de8c4a2fc5ebb0e9f4...      5  210.306021   \n",
       "5dc8cea7659e181adb076a3f_fd64de8c4a2fc5ebb0e9f4...      5  208.502905   \n",
       "5dc8cea7659e181adb076a3f_fd64de8c4a2fc5ebb0e9f4...      5  204.425589   \n",
       "5dc8cea7659e181adb076a3f_fd64de8c4a2fc5ebb0e9f4...      5  196.849895   \n",
       "5dc8cea7659e181adb076a3f_fd64de8c4a2fc5ebb0e9f4...      5  193.425904   \n",
       "\n",
       "                                                             y  \n",
       "site_path_timestamp                                             \n",
       "5a0546857ecc773753327266_046cfa46be49fc10834815...   95.522559  \n",
       "5a0546857ecc773753327266_046cfa46be49fc10834815...   98.981264  \n",
       "5a0546857ecc773753327266_046cfa46be49fc10834815...  103.985378  \n",
       "5a0546857ecc773753327266_046cfa46be49fc10834815...  107.737236  \n",
       "5a0546857ecc773753327266_046cfa46be49fc10834815...  111.303132  \n",
       "...                                                        ...  \n",
       "5dc8cea7659e181adb076a3f_fd64de8c4a2fc5ebb0e9f4...   98.235106  \n",
       "5dc8cea7659e181adb076a3f_fd64de8c4a2fc5ebb0e9f4...  101.867297  \n",
       "5dc8cea7659e181adb076a3f_fd64de8c4a2fc5ebb0e9f4...  108.775446  \n",
       "5dc8cea7659e181adb076a3f_fd64de8c4a2fc5ebb0e9f4...  114.257308  \n",
       "5dc8cea7659e181adb076a3f_fd64de8c4a2fc5ebb0e9f4...  117.804761  \n",
       "\n",
       "[10133 rows x 3 columns]"
      ],
      "text/html": "<div>\n<style scoped>\n    .dataframe tbody tr th:only-of-type {\n        vertical-align: middle;\n    }\n\n    .dataframe tbody tr th {\n        vertical-align: top;\n    }\n\n    .dataframe thead th {\n        text-align: right;\n    }\n</style>\n<table border=\"1\" class=\"dataframe\">\n  <thead>\n    <tr style=\"text-align: right;\">\n      <th></th>\n      <th>floor</th>\n      <th>x</th>\n      <th>y</th>\n    </tr>\n    <tr>\n      <th>site_path_timestamp</th>\n      <th></th>\n      <th></th>\n      <th></th>\n    </tr>\n  </thead>\n  <tbody>\n    <tr>\n      <th>5a0546857ecc773753327266_046cfa46be49fc10834815c6_0000000000009</th>\n      <td>0</td>\n      <td>91.328964</td>\n      <td>95.522559</td>\n    </tr>\n    <tr>\n      <th>5a0546857ecc773753327266_046cfa46be49fc10834815c6_0000000009017</th>\n      <td>0</td>\n      <td>81.869227</td>\n      <td>98.981264</td>\n    </tr>\n    <tr>\n      <th>5a0546857ecc773753327266_046cfa46be49fc10834815c6_0000000015326</th>\n      <td>0</td>\n      <td>84.059223</td>\n      <td>103.985378</td>\n    </tr>\n    <tr>\n      <th>5a0546857ecc773753327266_046cfa46be49fc10834815c6_0000000018763</th>\n      <td>0</td>\n      <td>85.353798</td>\n      <td>107.737236</td>\n    </tr>\n    <tr>\n      <th>5a0546857ecc773753327266_046cfa46be49fc10834815c6_0000000022328</th>\n      <td>0</td>\n      <td>85.799636</td>\n      <td>111.303132</td>\n    </tr>\n    <tr>\n      <th>...</th>\n      <td>...</td>\n      <td>...</td>\n      <td>...</td>\n    </tr>\n    <tr>\n      <th>5dc8cea7659e181adb076a3f_fd64de8c4a2fc5ebb0e9f412_0000000082589</th>\n      <td>5</td>\n      <td>210.306021</td>\n      <td>98.235106</td>\n    </tr>\n    <tr>\n      <th>5dc8cea7659e181adb076a3f_fd64de8c4a2fc5ebb0e9f412_0000000085758</th>\n      <td>5</td>\n      <td>208.502905</td>\n      <td>101.867297</td>\n    </tr>\n    <tr>\n      <th>5dc8cea7659e181adb076a3f_fd64de8c4a2fc5ebb0e9f412_0000000090895</th>\n      <td>5</td>\n      <td>204.425589</td>\n      <td>108.775446</td>\n    </tr>\n    <tr>\n      <th>5dc8cea7659e181adb076a3f_fd64de8c4a2fc5ebb0e9f412_0000000096899</th>\n      <td>5</td>\n      <td>196.849895</td>\n      <td>114.257308</td>\n    </tr>\n    <tr>\n      <th>5dc8cea7659e181adb076a3f_fd64de8c4a2fc5ebb0e9f412_0000000100447</th>\n      <td>5</td>\n      <td>193.425904</td>\n      <td>117.804761</td>\n    </tr>\n  </tbody>\n</table>\n<p>10133 rows × 3 columns</p>\n</div>"
     },
     "metadata": {},
     "execution_count": 68
    }
   ],
   "source": [
    "new_sub = new_sub.set_index('site_path_timestamp')\n",
    "new_sub"
   ]
  },
  {
   "cell_type": "code",
   "execution_count": 69,
   "metadata": {},
   "outputs": [],
   "source": [
    "new_sub.to_csv(RUN_NAME + '_postprocess_sub.csv')"
   ]
  },
  {
   "cell_type": "code",
   "execution_count": null,
   "metadata": {},
   "outputs": [],
   "source": []
  }
 ],
 "metadata": {
  "kernelspec": {
   "display_name": "Python 3",
   "language": "python",
   "name": "python3"
  },
  "language_info": {
   "codemirror_mode": {
    "name": "ipython",
    "version": 3
   },
   "file_extension": ".py",
   "mimetype": "text/x-python",
   "name": "python",
   "nbconvert_exporter": "python",
   "pygments_lexer": "ipython3",
   "version": "3.8.5"
  }
 },
 "nbformat": 4,
 "nbformat_minor": 4
}