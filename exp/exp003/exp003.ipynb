{
 "cells": [
  {
   "cell_type": "code",
   "execution_count": 1,
   "metadata": {},
   "outputs": [],
   "source": [
    "import os\n",
    "import sys\n",
    "import glob\n",
    "import pickle\n",
    "import random\n",
    "\n",
    "import numpy as np\n",
    "import pandas as pd\n",
    "import scipy.stats as stats\n",
    "from pathlib import Path\n",
    "\n",
    "\n",
    "sys.path.append('../../')\n",
    "import src.utils as utils\n",
    "from sklearn import model_selection\n",
    "from sklearn.preprocessing import StandardScaler, LabelEncoder\n",
    "\n",
    "import wandb\n",
    "import torch\n",
    "from torch import nn\n",
    "import torch.nn.functional as F\n",
    "from torch.utils.data import Dataset, DataLoader\n",
    "import torch.optim as optim\n",
    "\n",
    "import pytorch_lightning as pl\n",
    "from pytorch_lightning.loggers import WandbLogger\n",
    "# from pytorch_lightning.loggers import TensorBoardLogger\n",
    "from pytorch_lightning.callbacks import ModelCheckpoint\n",
    "from pytorch_lightning.callbacks import EarlyStopping"
   ]
  },
  {
   "cell_type": "markdown",
   "metadata": {},
   "source": [
    "## config"
   ]
  },
  {
   "cell_type": "code",
   "execution_count": 2,
   "metadata": {},
   "outputs": [],
   "source": [
    "# config\n",
    "config = utils.load_config('config.yaml')\n",
    "\n",
    "# globals variable\n",
    "SEED = config['globals']['seed']\n",
    "MAX_EPOCHS = config['globals']['max_epochs']\n",
    "N_SPLITS = config['globals']['n_splits']\n",
    "USE_FOLDS = config['globals']['use_folds']\n",
    "DEBUG = config['globals']['debug']\n",
    "EXP_MESSAGE = config['globals']['exp_message']\n",
    "\n",
    "EXP_NAME = str(Path().resolve()).split('/')[-1]\n",
    "\n",
    "# seed\n",
    "utils.set_seed(SEED)"
   ]
  },
  {
   "cell_type": "code",
   "execution_count": 3,
   "metadata": {},
   "outputs": [
    {
     "output_type": "stream",
     "name": "stdout",
     "text": [
      "\u001b[34m\u001b[1mwandb\u001b[0m: Appending key for api.wandb.ai to your netrc file: /home/kuzira/.netrc\n"
     ]
    }
   ],
   "source": [
    "!wandb login 1bb2d0449c11d8b987e25c38b9d8dda176310fb6"
   ]
  },
  {
   "cell_type": "markdown",
   "metadata": {},
   "source": [
    "## read data"
   ]
  },
  {
   "cell_type": "code",
   "execution_count": 4,
   "metadata": {},
   "outputs": [],
   "source": [
    "# koukiさんのwifi dataset\n",
    "root_dir = Path('../../input/')\n",
    "with open(root_dir/'indoorunifiedwifids/train_all.pkl', 'rb') as f:\n",
    "  train_df = pickle.load( f)\n",
    "\n",
    "with open(root_dir/'indoorunifiedwifids/test_all.pkl', 'rb') as f:\n",
    "  test_df = pickle.load(f)\n",
    "\n",
    "sub = pd.read_csv(root_dir/'indoor-location-navigation/sample_submission.csv', index_col=0)"
   ]
  },
  {
   "cell_type": "markdown",
   "metadata": {},
   "source": [
    "BSSIDとRSSIは100ずつ存在しているけど全てが必要なわけではないみたい  \n",
    "ここでは20だけ取り出している。"
   ]
  },
  {
   "cell_type": "code",
   "execution_count": 5,
   "metadata": {},
   "outputs": [],
   "source": [
    "# training target features\n",
    "NUM_FEATS = 20\n",
    "BSSID_FEATS = [f'bssid_{i}' for i in range(NUM_FEATS)]\n",
    "RSSI_FEATS  = [f'rssi_{i}' for i in range(NUM_FEATS)]"
   ]
  },
  {
   "cell_type": "code",
   "execution_count": 6,
   "metadata": {},
   "outputs": [
    {
     "output_type": "execute_result",
     "data": {
      "text/plain": [
       "        rssi_0  rssi_1  rssi_2  rssi_3  rssi_4  rssi_5  rssi_6  rssi_7  \\\n",
       "0          -32     -39     -47     -48     -48     -49     -51     -52   \n",
       "1          -29     -34     -47     -48     -48     -49     -52     -52   \n",
       "2          -33     -39     -48     -48     -49     -52     -54     -55   \n",
       "3          -46     -48     -49     -50     -51     -52     -54     -56   \n",
       "4          -42     -49     -51     -51     -52     -53     -54     -55   \n",
       "...        ...     ...     ...     ...     ...     ...     ...     ...   \n",
       "258120     -53     -63     -64     -66     -68     -68     -68     -68   \n",
       "258121     -58     -64     -66     -67     -68     -68     -69     -70   \n",
       "258122     -57     -58     -60     -64     -66     -67     -68     -69   \n",
       "258123     -58     -64     -66     -66     -68     -69     -69     -71   \n",
       "258124     -64     -69     -69     -71     -71     -72     -73     -73   \n",
       "\n",
       "        rssi_8  rssi_9  \n",
       "0          -54     -56  \n",
       "1          -52     -53  \n",
       "2          -55     -55  \n",
       "3          -57     -57  \n",
       "4          -55     -55  \n",
       "...        ...     ...  \n",
       "258120     -70     -71  \n",
       "258121     -71     -71  \n",
       "258122     -71     -73  \n",
       "258123     -71     -72  \n",
       "258124     -73     -73  \n",
       "\n",
       "[258125 rows x 10 columns]"
      ],
      "text/html": "<div>\n<style scoped>\n    .dataframe tbody tr th:only-of-type {\n        vertical-align: middle;\n    }\n\n    .dataframe tbody tr th {\n        vertical-align: top;\n    }\n\n    .dataframe thead th {\n        text-align: right;\n    }\n</style>\n<table border=\"1\" class=\"dataframe\">\n  <thead>\n    <tr style=\"text-align: right;\">\n      <th></th>\n      <th>rssi_0</th>\n      <th>rssi_1</th>\n      <th>rssi_2</th>\n      <th>rssi_3</th>\n      <th>rssi_4</th>\n      <th>rssi_5</th>\n      <th>rssi_6</th>\n      <th>rssi_7</th>\n      <th>rssi_8</th>\n      <th>rssi_9</th>\n    </tr>\n  </thead>\n  <tbody>\n    <tr>\n      <th>0</th>\n      <td>-32</td>\n      <td>-39</td>\n      <td>-47</td>\n      <td>-48</td>\n      <td>-48</td>\n      <td>-49</td>\n      <td>-51</td>\n      <td>-52</td>\n      <td>-54</td>\n      <td>-56</td>\n    </tr>\n    <tr>\n      <th>1</th>\n      <td>-29</td>\n      <td>-34</td>\n      <td>-47</td>\n      <td>-48</td>\n      <td>-48</td>\n      <td>-49</td>\n      <td>-52</td>\n      <td>-52</td>\n      <td>-52</td>\n      <td>-53</td>\n    </tr>\n    <tr>\n      <th>2</th>\n      <td>-33</td>\n      <td>-39</td>\n      <td>-48</td>\n      <td>-48</td>\n      <td>-49</td>\n      <td>-52</td>\n      <td>-54</td>\n      <td>-55</td>\n      <td>-55</td>\n      <td>-55</td>\n    </tr>\n    <tr>\n      <th>3</th>\n      <td>-46</td>\n      <td>-48</td>\n      <td>-49</td>\n      <td>-50</td>\n      <td>-51</td>\n      <td>-52</td>\n      <td>-54</td>\n      <td>-56</td>\n      <td>-57</td>\n      <td>-57</td>\n    </tr>\n    <tr>\n      <th>4</th>\n      <td>-42</td>\n      <td>-49</td>\n      <td>-51</td>\n      <td>-51</td>\n      <td>-52</td>\n      <td>-53</td>\n      <td>-54</td>\n      <td>-55</td>\n      <td>-55</td>\n      <td>-55</td>\n    </tr>\n    <tr>\n      <th>...</th>\n      <td>...</td>\n      <td>...</td>\n      <td>...</td>\n      <td>...</td>\n      <td>...</td>\n      <td>...</td>\n      <td>...</td>\n      <td>...</td>\n      <td>...</td>\n      <td>...</td>\n    </tr>\n    <tr>\n      <th>258120</th>\n      <td>-53</td>\n      <td>-63</td>\n      <td>-64</td>\n      <td>-66</td>\n      <td>-68</td>\n      <td>-68</td>\n      <td>-68</td>\n      <td>-68</td>\n      <td>-70</td>\n      <td>-71</td>\n    </tr>\n    <tr>\n      <th>258121</th>\n      <td>-58</td>\n      <td>-64</td>\n      <td>-66</td>\n      <td>-67</td>\n      <td>-68</td>\n      <td>-68</td>\n      <td>-69</td>\n      <td>-70</td>\n      <td>-71</td>\n      <td>-71</td>\n    </tr>\n    <tr>\n      <th>258122</th>\n      <td>-57</td>\n      <td>-58</td>\n      <td>-60</td>\n      <td>-64</td>\n      <td>-66</td>\n      <td>-67</td>\n      <td>-68</td>\n      <td>-69</td>\n      <td>-71</td>\n      <td>-73</td>\n    </tr>\n    <tr>\n      <th>258123</th>\n      <td>-58</td>\n      <td>-64</td>\n      <td>-66</td>\n      <td>-66</td>\n      <td>-68</td>\n      <td>-69</td>\n      <td>-69</td>\n      <td>-71</td>\n      <td>-71</td>\n      <td>-72</td>\n    </tr>\n    <tr>\n      <th>258124</th>\n      <td>-64</td>\n      <td>-69</td>\n      <td>-69</td>\n      <td>-71</td>\n      <td>-71</td>\n      <td>-72</td>\n      <td>-73</td>\n      <td>-73</td>\n      <td>-73</td>\n      <td>-73</td>\n    </tr>\n  </tbody>\n</table>\n<p>258125 rows × 10 columns</p>\n</div>"
     },
     "metadata": {},
     "execution_count": 6
    }
   ],
   "source": [
    "train_df.iloc[:, 100:110]"
   ]
  },
  {
   "cell_type": "markdown",
   "metadata": {},
   "source": [
    "bssid_NはN個目のBSSIDを示しておりRSSI値が大きい順に番号が振られている。\n",
    "100個しかない\n"
   ]
  },
  {
   "cell_type": "code",
   "execution_count": 7,
   "metadata": {},
   "outputs": [
    {
     "output_type": "stream",
     "name": "stdout",
     "text": [
      "BSSID TYPES(train): 61206\nBSSID TYPES(test): 33042\nBSSID TYPES(all): 61307\n"
     ]
    }
   ],
   "source": [
    "# get numbers of bssids to embed them in a layer\n",
    "\n",
    "# train\n",
    "wifi_bssids = []\n",
    "# bssidを列ごとにリストに入れていく\n",
    "for i in range(100):\n",
    "    wifi_bssids.extend(train_df.iloc[:,i].values.tolist())\n",
    "wifi_bssids = list(set(wifi_bssids))\n",
    "\n",
    "train_wifi_bssids_size = len(wifi_bssids)\n",
    "print(f'BSSID TYPES(train): {train_wifi_bssids_size}')\n",
    "\n",
    "# test\n",
    "wifi_bssids_test = []\n",
    "for i in range(100):\n",
    "    wifi_bssids_test.extend(test_df.iloc[:,i].values.tolist())\n",
    "wifi_bssids_test = list(set(wifi_bssids_test))\n",
    "\n",
    "test_wifi_bssids_size = len(wifi_bssids_test)\n",
    "print(f'BSSID TYPES(test): {test_wifi_bssids_size}')\n",
    "\n",
    "\n",
    "wifi_bssids.extend(wifi_bssids_test)\n",
    "wifi_bssids = list(set(wifi_bssids))\n",
    "wifi_bssids_size = len(wifi_bssids)\n",
    "print(f'BSSID TYPES(all): {wifi_bssids_size}')\n"
   ]
  },
  {
   "cell_type": "markdown",
   "metadata": {},
   "source": [
    "## preprocessing"
   ]
  },
  {
   "cell_type": "code",
   "execution_count": 8,
   "metadata": {},
   "outputs": [],
   "source": [
    "# preprocess\n",
    "\n",
    "le = LabelEncoder()\n",
    "le.fit(wifi_bssids)\n",
    "le_site = LabelEncoder()\n",
    "le_site.fit(train_df['site_id'])\n",
    "\n",
    "ss = StandardScaler()\n",
    "ss.fit(train_df.loc[:,RSSI_FEATS])\n",
    "\n",
    "\n",
    "def preprocess(input_df, le=le, le_site=le_site, ss=ss):\n",
    "    output_df = input_df.copy()\n",
    "    # RSSIの正規化\n",
    "    output_df.loc[:,RSSI_FEATS] = ss.transform(input_df.loc[:,RSSI_FEATS])\n",
    "\n",
    "    # BSSIDのLE(1からふる)\n",
    "    for i in BSSID_FEATS:\n",
    "        output_df.loc[:,i] = le.transform(input_df.loc[:,i])\n",
    "        output_df.loc[:,i] = output_df.loc[:,i] + 1  # 0からではなく1から番号を振りたいため なぜ？ embeddingのpadding用のダミー変数？\n",
    "\n",
    "    # site_idのLE\n",
    "    output_df.loc[:, 'site_id'] = le_site.transform(input_df.loc[:, 'site_id'])\n",
    "\n",
    "    # なぜ２重でやる？\n",
    "    # output_df.loc[:,RSSI_FEATS] = ss.transform(output_df.loc[:,RSSI_FEATS])\n",
    "    return output_df\n",
    "\n",
    "train = preprocess(train_df)\n",
    "test = preprocess(test_df)\n",
    "\n",
    "    "
   ]
  },
  {
   "cell_type": "code",
   "execution_count": 9,
   "metadata": {},
   "outputs": [
    {
     "output_type": "execute_result",
     "data": {
      "text/plain": [
       "24"
      ]
     },
     "metadata": {},
     "execution_count": 9
    }
   ],
   "source": [
    "site_count = len(train['site_id'].unique())\n",
    "site_count"
   ]
  },
  {
   "cell_type": "code",
   "execution_count": 10,
   "metadata": {},
   "outputs": [
    {
     "output_type": "execute_result",
     "data": {
      "text/plain": [
       "        bssid_0  bssid_1  bssid_2  bssid_3  bssid_4  bssid_5  bssid_6  \\\n",
       "0         52393    35871     2765    34898    52710    35260    42720   \n",
       "1         35871    52393     7487    34898    52710    35260    21971   \n",
       "2         35871    52393    52710    34898    35260    23417    49408   \n",
       "3         23417    34898    35260    52393    35871     3707    49408   \n",
       "4         35871    35260    23417    19473    52393     3707    49408   \n",
       "...         ...      ...      ...      ...      ...      ...      ...   \n",
       "258120    35066    14546    16495    21327    50466    22831      944   \n",
       "258121    35066    16495    21327      944    50466    22831    30060   \n",
       "258122      944    35066    14546    16495    21327    22831    50466   \n",
       "258123    14546    16495    35066    21327    50466      944    30060   \n",
       "258124    16495    30060      944    58804    48477    22831    35066   \n",
       "\n",
       "        bssid_7  bssid_8  bssid_9  ...  rssi_95  rssi_96  rssi_97  rssi_98  \\\n",
       "0         33510    23417    15249  ...      -79      -79      -79      -79   \n",
       "1         15249    17025     5351  ...      -79      -79      -79      -80   \n",
       "2          6673     7487    48501  ...      -77      -78      -78      -78   \n",
       "3         15613    10167     4978  ...      -75      -76      -76      -77   \n",
       "4         18306    21410    52795  ...      -75      -76      -76      -77   \n",
       "...         ...      ...      ...  ...      ...      ...      ...      ...   \n",
       "258120    30430    43803    32685  ...      -84      -85      -85      -85   \n",
       "258121    33364    59582    14546  ...      -85      -85      -85      -85   \n",
       "258122    30060    48477    59582  ...      -84      -84      -85      -85   \n",
       "258123    48477    58804    22831  ...      -85      -85      -85      -85   \n",
       "258124    59582    50466     7968  ...      -85      -85      -85      -85   \n",
       "\n",
       "        rssi_99          x           y  floor                      path  \\\n",
       "0           -79  107.85044  161.892620     -1  5e1580adf4c3420006d520d4   \n",
       "1           -80  107.85044  161.892620     -1  5e1580adf4c3420006d520d4   \n",
       "2           -78   98.33065  163.343340     -1  5e1580adf4c3420006d520d4   \n",
       "3           -77   98.33065  163.343340     -1  5e1580adf4c3420006d520d4   \n",
       "4           -77   98.33065  163.343340     -1  5e1580adf4c3420006d520d4   \n",
       "...         ...        ...         ...    ...                       ...   \n",
       "258120      -85  122.68994  124.028015      6  5dcd5c88a4dbe7000630b084   \n",
       "258121      -85  127.17589  123.677780      6  5dcd5c88a4dbe7000630b084   \n",
       "258122      -85  127.17589  123.677780      6  5dcd5c88a4dbe7000630b084   \n",
       "258123      -85  127.17589  123.677780      6  5dcd5c88a4dbe7000630b084   \n",
       "258124      -85  130.08112  122.490820      6  5dcd5c88a4dbe7000630b084   \n",
       "\n",
       "        site_id  \n",
       "0             0  \n",
       "1             0  \n",
       "2             0  \n",
       "3             0  \n",
       "4             0  \n",
       "...         ...  \n",
       "258120       23  \n",
       "258121       23  \n",
       "258122       23  \n",
       "258123       23  \n",
       "258124       23  \n",
       "\n",
       "[258125 rows x 205 columns]"
      ],
      "text/html": "<div>\n<style scoped>\n    .dataframe tbody tr th:only-of-type {\n        vertical-align: middle;\n    }\n\n    .dataframe tbody tr th {\n        vertical-align: top;\n    }\n\n    .dataframe thead th {\n        text-align: right;\n    }\n</style>\n<table border=\"1\" class=\"dataframe\">\n  <thead>\n    <tr style=\"text-align: right;\">\n      <th></th>\n      <th>bssid_0</th>\n      <th>bssid_1</th>\n      <th>bssid_2</th>\n      <th>bssid_3</th>\n      <th>bssid_4</th>\n      <th>bssid_5</th>\n      <th>bssid_6</th>\n      <th>bssid_7</th>\n      <th>bssid_8</th>\n      <th>bssid_9</th>\n      <th>...</th>\n      <th>rssi_95</th>\n      <th>rssi_96</th>\n      <th>rssi_97</th>\n      <th>rssi_98</th>\n      <th>rssi_99</th>\n      <th>x</th>\n      <th>y</th>\n      <th>floor</th>\n      <th>path</th>\n      <th>site_id</th>\n    </tr>\n  </thead>\n  <tbody>\n    <tr>\n      <th>0</th>\n      <td>52393</td>\n      <td>35871</td>\n      <td>2765</td>\n      <td>34898</td>\n      <td>52710</td>\n      <td>35260</td>\n      <td>42720</td>\n      <td>33510</td>\n      <td>23417</td>\n      <td>15249</td>\n      <td>...</td>\n      <td>-79</td>\n      <td>-79</td>\n      <td>-79</td>\n      <td>-79</td>\n      <td>-79</td>\n      <td>107.85044</td>\n      <td>161.892620</td>\n      <td>-1</td>\n      <td>5e1580adf4c3420006d520d4</td>\n      <td>0</td>\n    </tr>\n    <tr>\n      <th>1</th>\n      <td>35871</td>\n      <td>52393</td>\n      <td>7487</td>\n      <td>34898</td>\n      <td>52710</td>\n      <td>35260</td>\n      <td>21971</td>\n      <td>15249</td>\n      <td>17025</td>\n      <td>5351</td>\n      <td>...</td>\n      <td>-79</td>\n      <td>-79</td>\n      <td>-79</td>\n      <td>-80</td>\n      <td>-80</td>\n      <td>107.85044</td>\n      <td>161.892620</td>\n      <td>-1</td>\n      <td>5e1580adf4c3420006d520d4</td>\n      <td>0</td>\n    </tr>\n    <tr>\n      <th>2</th>\n      <td>35871</td>\n      <td>52393</td>\n      <td>52710</td>\n      <td>34898</td>\n      <td>35260</td>\n      <td>23417</td>\n      <td>49408</td>\n      <td>6673</td>\n      <td>7487</td>\n      <td>48501</td>\n      <td>...</td>\n      <td>-77</td>\n      <td>-78</td>\n      <td>-78</td>\n      <td>-78</td>\n      <td>-78</td>\n      <td>98.33065</td>\n      <td>163.343340</td>\n      <td>-1</td>\n      <td>5e1580adf4c3420006d520d4</td>\n      <td>0</td>\n    </tr>\n    <tr>\n      <th>3</th>\n      <td>23417</td>\n      <td>34898</td>\n      <td>35260</td>\n      <td>52393</td>\n      <td>35871</td>\n      <td>3707</td>\n      <td>49408</td>\n      <td>15613</td>\n      <td>10167</td>\n      <td>4978</td>\n      <td>...</td>\n      <td>-75</td>\n      <td>-76</td>\n      <td>-76</td>\n      <td>-77</td>\n      <td>-77</td>\n      <td>98.33065</td>\n      <td>163.343340</td>\n      <td>-1</td>\n      <td>5e1580adf4c3420006d520d4</td>\n      <td>0</td>\n    </tr>\n    <tr>\n      <th>4</th>\n      <td>35871</td>\n      <td>35260</td>\n      <td>23417</td>\n      <td>19473</td>\n      <td>52393</td>\n      <td>3707</td>\n      <td>49408</td>\n      <td>18306</td>\n      <td>21410</td>\n      <td>52795</td>\n      <td>...</td>\n      <td>-75</td>\n      <td>-76</td>\n      <td>-76</td>\n      <td>-77</td>\n      <td>-77</td>\n      <td>98.33065</td>\n      <td>163.343340</td>\n      <td>-1</td>\n      <td>5e1580adf4c3420006d520d4</td>\n      <td>0</td>\n    </tr>\n    <tr>\n      <th>...</th>\n      <td>...</td>\n      <td>...</td>\n      <td>...</td>\n      <td>...</td>\n      <td>...</td>\n      <td>...</td>\n      <td>...</td>\n      <td>...</td>\n      <td>...</td>\n      <td>...</td>\n      <td>...</td>\n      <td>...</td>\n      <td>...</td>\n      <td>...</td>\n      <td>...</td>\n      <td>...</td>\n      <td>...</td>\n      <td>...</td>\n      <td>...</td>\n      <td>...</td>\n      <td>...</td>\n    </tr>\n    <tr>\n      <th>258120</th>\n      <td>35066</td>\n      <td>14546</td>\n      <td>16495</td>\n      <td>21327</td>\n      <td>50466</td>\n      <td>22831</td>\n      <td>944</td>\n      <td>30430</td>\n      <td>43803</td>\n      <td>32685</td>\n      <td>...</td>\n      <td>-84</td>\n      <td>-85</td>\n      <td>-85</td>\n      <td>-85</td>\n      <td>-85</td>\n      <td>122.68994</td>\n      <td>124.028015</td>\n      <td>6</td>\n      <td>5dcd5c88a4dbe7000630b084</td>\n      <td>23</td>\n    </tr>\n    <tr>\n      <th>258121</th>\n      <td>35066</td>\n      <td>16495</td>\n      <td>21327</td>\n      <td>944</td>\n      <td>50466</td>\n      <td>22831</td>\n      <td>30060</td>\n      <td>33364</td>\n      <td>59582</td>\n      <td>14546</td>\n      <td>...</td>\n      <td>-85</td>\n      <td>-85</td>\n      <td>-85</td>\n      <td>-85</td>\n      <td>-85</td>\n      <td>127.17589</td>\n      <td>123.677780</td>\n      <td>6</td>\n      <td>5dcd5c88a4dbe7000630b084</td>\n      <td>23</td>\n    </tr>\n    <tr>\n      <th>258122</th>\n      <td>944</td>\n      <td>35066</td>\n      <td>14546</td>\n      <td>16495</td>\n      <td>21327</td>\n      <td>22831</td>\n      <td>50466</td>\n      <td>30060</td>\n      <td>48477</td>\n      <td>59582</td>\n      <td>...</td>\n      <td>-84</td>\n      <td>-84</td>\n      <td>-85</td>\n      <td>-85</td>\n      <td>-85</td>\n      <td>127.17589</td>\n      <td>123.677780</td>\n      <td>6</td>\n      <td>5dcd5c88a4dbe7000630b084</td>\n      <td>23</td>\n    </tr>\n    <tr>\n      <th>258123</th>\n      <td>14546</td>\n      <td>16495</td>\n      <td>35066</td>\n      <td>21327</td>\n      <td>50466</td>\n      <td>944</td>\n      <td>30060</td>\n      <td>48477</td>\n      <td>58804</td>\n      <td>22831</td>\n      <td>...</td>\n      <td>-85</td>\n      <td>-85</td>\n      <td>-85</td>\n      <td>-85</td>\n      <td>-85</td>\n      <td>127.17589</td>\n      <td>123.677780</td>\n      <td>6</td>\n      <td>5dcd5c88a4dbe7000630b084</td>\n      <td>23</td>\n    </tr>\n    <tr>\n      <th>258124</th>\n      <td>16495</td>\n      <td>30060</td>\n      <td>944</td>\n      <td>58804</td>\n      <td>48477</td>\n      <td>22831</td>\n      <td>35066</td>\n      <td>59582</td>\n      <td>50466</td>\n      <td>7968</td>\n      <td>...</td>\n      <td>-85</td>\n      <td>-85</td>\n      <td>-85</td>\n      <td>-85</td>\n      <td>-85</td>\n      <td>130.08112</td>\n      <td>122.490820</td>\n      <td>6</td>\n      <td>5dcd5c88a4dbe7000630b084</td>\n      <td>23</td>\n    </tr>\n  </tbody>\n</table>\n<p>258125 rows × 205 columns</p>\n</div>"
     },
     "metadata": {},
     "execution_count": 10
    }
   ],
   "source": [
    "train"
   ]
  },
  {
   "cell_type": "markdown",
   "metadata": {},
   "source": [
    "## PyTorch model\n",
    "- embedding layerが重要  "
   ]
  },
  {
   "cell_type": "code",
   "execution_count": 11,
   "metadata": {},
   "outputs": [],
   "source": [
    "# dataset\n",
    "from torch.utils.data import Dataset, DataLoader\n",
    "class IndoorDataset(Dataset):\n",
    "    def __init__(self, df, phase='train'):\n",
    "        self.df = df\n",
    "        self.phase = phase\n",
    "        self.bssid_feats = df[BSSID_FEATS].values.astype(int)\n",
    "        self.rssi_feats = df[RSSI_FEATS].values.astype(np.float32)\n",
    "        self.site_id = df['site_id'].values.astype(int)\n",
    "\n",
    "        if phase in ['train', 'valid']:\n",
    "            self.xy = df[['x', 'y']].values.astype(np.float32)\n",
    "            self.floor = df['floor'].values.astype(np.float32)\n",
    "        \n",
    "    def __len__(self):\n",
    "        return self.df.shape[0]\n",
    "\n",
    "    def __getitem__(self, idx):\n",
    "        \n",
    "        feature = {\n",
    "            'BSSID_FEATS':self.bssid_feats[idx],\n",
    "            'RSSI_FEATS':self.rssi_feats[idx],\n",
    "            'site_id':self.site_id[idx]\n",
    "        }\n",
    "        if self.phase in ['train', 'valid']:\n",
    "            target = {\n",
    "                'xy':self.xy[idx],\n",
    "                'floor':self.floor[idx]\n",
    "            }\n",
    "        else:\n",
    "            target = {}\n",
    "        return feature, target"
   ]
  },
  {
   "cell_type": "code",
   "execution_count": 12,
   "metadata": {},
   "outputs": [],
   "source": [
    "import torch\n",
    "from torch import nn\n",
    "\n",
    "class LSTMModel(nn.Module):\n",
    "    def __init__(self, wifi_bssids_size, site_count=24, embedding_dim=64):\n",
    "        super(LSTMModel, self).__init__()\n",
    "        # bssid\n",
    "        # ->64次元に圧縮後sequence化にする\n",
    "        # wifi_bssids_sizeが辞書の数を表す\n",
    "        self.embedding_layer1 = nn.Sequential(\n",
    "            nn.Embedding(wifi_bssids_size, embedding_dim),\n",
    "            nn.Flatten(start_dim=-2)            \n",
    "        )\n",
    "        # site\n",
    "        # ->2次元に圧縮後sequence化する\n",
    "        # site_countが辞書の数を表す\n",
    "        self.embedding_layer2 = nn.Sequential(\n",
    "            nn.Embedding(site_count, 2),\n",
    "            nn.Flatten(start_dim=-1)           \n",
    "        )\n",
    "\n",
    "        # rssi\n",
    "        # 次元を64倍に線形変換\n",
    "        self.linear_layer1 = nn.Sequential(\n",
    "            nn.BatchNorm1d(NUM_FEATS),\n",
    "            nn.Linear(NUM_FEATS, NUM_FEATS * embedding_dim),\n",
    "            nn.ReLU()\n",
    "        )\n",
    "        \n",
    "        self.linear_layer2 = nn.Sequential(\n",
    "            nn.BatchNorm1d(2562),\n",
    "            nn.Dropout(0.3),\n",
    "            nn.Linear(2562, 256),\n",
    "            nn.ReLU()\n",
    "        )\n",
    "\n",
    "        self.batch_norm1 = nn.BatchNorm1d(1)\n",
    "        self.lstm1 = nn.LSTM(input_size=256,hidden_size=128,dropout=0.3, batch_first=True)\n",
    "        self.lstm2 = nn.LSTM(input_size=128,hidden_size=16,dropout=0.1, batch_first=True)\n",
    "\n",
    "        self.fc_xy = nn.Linear(16, 2)\n",
    "        # self.fc_x = nn.Linear(16, 1)\n",
    "        # self.fc_y = nn.Linear(16, 1)\n",
    "        self.fc_floor = nn.Linear(16, 1)\n",
    "\n",
    "    \n",
    "    def forward(self, x):\n",
    "        # input embedding\n",
    "        batch_size = x[\"site_id\"].shape[0]\n",
    "        x_bssid = self.embedding_layer1(x['BSSID_FEATS'])\n",
    "        x_site_id = self.embedding_layer2(x['site_id'])\n",
    "        x_rssi = self.linear_layer1(x['RSSI_FEATS'])\n",
    "        x = torch.cat([x_bssid, x_site_id, x_rssi], dim=-1)\n",
    "        x = self.linear_layer2(x)\n",
    "\n",
    "        # lstm layer\n",
    "        x = x.view(batch_size, 1, -1)  # [batch, 1]->[batch, 1, 1]\n",
    "        x = self.batch_norm1(x)\n",
    "        x, _ = self.lstm1(x)\n",
    "        x = torch.relu(x)\n",
    "        x, _ = self.lstm2(x)\n",
    "        x = torch.relu(x)\n",
    "\n",
    "        # output [batch, 1, 1] -> [batch]\n",
    "        # x_ = self.fc_x(x).view(-1)\n",
    "        # y_ = self.fc_y(x).view(-1)\n",
    "        xy = self.fc_xy(x).squeeze(1)\n",
    "        floor = torch.relu(self.fc_floor(x)).view(-1)\n",
    "        # return {\"x\":x_, \"y\":y_, \"floor\":floor} \n",
    "        return {\"xy\": xy, \"floor\": floor}"
   ]
  },
  {
   "cell_type": "code",
   "execution_count": 13,
   "metadata": {},
   "outputs": [],
   "source": [
    "def mean_position_error(xhat, yhat, fhat, x, y, f):\n",
    "    intermediate = np.sqrt(np.power(xhat-x, 2) + np.power(yhat-y, 2)) + 15 * np.abs(fhat-f)\n",
    "    return intermediate.sum()/xhat.shape[0]\n",
    "\n",
    "def to_np(input):\n",
    "    return input.detach().cpu().numpy()"
   ]
  },
  {
   "cell_type": "code",
   "execution_count": 14,
   "metadata": {},
   "outputs": [],
   "source": [
    "def get_optimizer(model: nn.Module, config: dict):\n",
    "    optimizer_config = config[\"optimizer\"]\n",
    "    optimizer_name = optimizer_config.get(\"name\")\n",
    "    base_optimizer_name = optimizer_config.get(\"base_name\")\n",
    "    optimizer_params = optimizer_config['params']\n",
    "\n",
    "    if hasattr(optim, optimizer_name):\n",
    "        optimizer = optim.__getattribute__(optimizer_name)(model.parameters(), **optimizer_params)\n",
    "        return optimizer\n",
    "    else:\n",
    "        base_optimizer = optim.__getattribute__(base_optimizer_name)\n",
    "        optimizer = globals().get(optimizer_name)(\n",
    "            model.parameters(), \n",
    "            base_optimizer,\n",
    "            **optimizer_config[\"params\"])\n",
    "        return  optimizer\n",
    "\n",
    "def get_scheduler(optimizer, config: dict):\n",
    "    scheduler_config = config[\"scheduler\"]\n",
    "    scheduler_name = scheduler_config.get(\"name\")\n",
    "\n",
    "    if scheduler_name is None:\n",
    "        return\n",
    "    else:\n",
    "        return optim.lr_scheduler.__getattribute__(scheduler_name)(\n",
    "            optimizer, **scheduler_config[\"params\"])\n",
    "\n",
    "\n",
    "def get_criterion(config: dict):\n",
    "    loss_config = config[\"loss\"]\n",
    "    loss_name = loss_config[\"name\"]\n",
    "    loss_params = {} if loss_config.get(\"params\") is None else loss_config.get(\"params\")\n",
    "    if hasattr(nn, loss_name):\n",
    "        criterion = nn.__getattribute__(loss_name)(**loss_params)\n",
    "    else:\n",
    "        criterion = globals().get(loss_name)(**loss_params)\n",
    "\n",
    "    return criterion\n",
    "\n",
    "def worker_init_fn(worker_id):                                                          \n",
    "    np.random.seed(np.random.get_state()[1][0] + worker_id)"
   ]
  },
  {
   "cell_type": "code",
   "execution_count": 15,
   "metadata": {},
   "outputs": [],
   "source": [
    "# Learner class(pytorch-lighting)\n",
    "class Learner(pl.LightningModule):\n",
    "    def __init__(self, model, config):\n",
    "        super().__init__()\n",
    "        self.model = model\n",
    "        self.config = config\n",
    "        self.xy_criterion = get_criterion(config)\n",
    "        self.f_criterion = get_criterion(config)\n",
    "    \n",
    "    def training_step(self, batch, batch_idx):\n",
    "        x, y = batch\n",
    "        output = self.model(x)\n",
    "        loss = self.xy_criterion(output[\"xy\"], y[\"xy\"])\n",
    "        return loss\n",
    "    \n",
    "    def validation_step(self, batch, batch_idx):\n",
    "        x, y = batch\n",
    "        output = self.model(x)\n",
    "        xy_loss = self.xy_criterion(output[\"xy\"], y[\"xy\"])\n",
    "        f_loss = self.f_criterion(output[\"floor\"], y[\"floor\"])\n",
    "        loss = xy_loss  # + f_loss\n",
    "        mpe = mean_position_error(\n",
    "            to_np(output['xy'][:, 0]), to_np(output['xy'][:, 1]), 0, \n",
    "            to_np(y['xy'][:, 0]), to_np(y['xy'][:, 1]), 0)\n",
    "        \n",
    "        # floor lossは現状は無視して良い\n",
    "        self.log(f'Loss/val', loss, on_step=False, on_epoch=True, prog_bar=False, logger=True)\n",
    "        self.log(f'Loss/xy', xy_loss, on_step=False, on_epoch=True, prog_bar=False, logger=True)\n",
    "        self.log(f'Loss/floor', f_loss, on_step=False, on_epoch=True, prog_bar=False, logger=True)\n",
    "        self.log(f'MPE/val', mpe, on_step=False, on_epoch=True, prog_bar=False, logger=True)\n",
    "        return loss\n",
    "\n",
    "    def configure_optimizers(self):\n",
    "        optimizer = get_optimizer(self.model, self.config)\n",
    "        scheduler = get_scheduler(optimizer, self.config)\n",
    "        return {\"optimizer\": optimizer, \"lr_scheduler\": scheduler, \"monitor\": \"Loss/val\"}"
   ]
  },
  {
   "cell_type": "code",
   "execution_count": 16,
   "metadata": {},
   "outputs": [],
   "source": [
    "# oof\n",
    "def evaluate(model, loaders, phase):\n",
    "    x_list = []\n",
    "    y_list = []\n",
    "    f_list = []\n",
    "    with torch.no_grad():\n",
    "        for batch in loaders[phase]:\n",
    "            x, y = batch\n",
    "            output = model(x)\n",
    "            x_list.append(to_np(output['xy'][:, 0]))\n",
    "            y_list.append(to_np(output['xy'][:, 1]))\n",
    "            f_list.append(to_np(output['floor']))\n",
    "\n",
    "    x_list = np.concatenate(x_list)\n",
    "    y_list = np.concatenate(y_list)\n",
    "    f_list = np.concatenate(f_list)\n",
    "    return x_list, y_list, f_list"
   ]
  },
  {
   "cell_type": "markdown",
   "metadata": {},
   "source": [
    "## train"
   ]
  },
  {
   "cell_type": "code",
   "execution_count": 17,
   "metadata": {
    "tags": []
   },
   "outputs": [
    {
     "output_type": "stream",
     "name": "stderr",
     "text": [
      "/opt/anaconda3/lib/python3.8/site-packages/torch/nn/modules/rnn.py:58: UserWarning: dropout option adds dropout after all but last recurrent layer, so non-zero dropout expects num_layers greater than 1, but got dropout=0.3 and num_layers=1\n",
      "  warnings.warn(\"dropout option adds dropout after all but last \"\n",
      "/opt/anaconda3/lib/python3.8/site-packages/torch/nn/modules/rnn.py:58: UserWarning: dropout option adds dropout after all but last recurrent layer, so non-zero dropout expects num_layers greater than 1, but got dropout=0.1 and num_layers=1\n",
      "  warnings.warn(\"dropout option adds dropout after all but last \"\n",
      "Failed to detect the name of this notebook, you can set it manually with the WANDB_NOTEBOOK_NAME environment variable to enable code saving.\n",
      "====================\n",
      "Fold 0\n",
      "====================\n",
      "\u001b[34m\u001b[1mwandb\u001b[0m: Currently logged in as: \u001b[33mkuto5046\u001b[0m (use `wandb login --relogin` to force relogin)\n",
      "\u001b[34m\u001b[1mwandb\u001b[0m: wandb version 0.10.23 is available!  To upgrade, please run:\n",
      "\u001b[34m\u001b[1mwandb\u001b[0m:  $ pip install wandb --upgrade\n"
     ]
    },
    {
     "output_type": "display_data",
     "data": {
      "text/plain": "<IPython.core.display.HTML object>",
      "text/html": "\n                Tracking run with wandb version 0.10.22<br/>\n                Syncing run <strong style=\"color:#cdcd00\">denim-river-91</strong> to <a href=\"https://wandb.ai\" target=\"_blank\">Weights & Biases</a> <a href=\"https://docs.wandb.com/integrations/jupyter.html\" target=\"_blank\">(Documentation)</a>.<br/>\n                Project page: <a href=\"https://wandb.ai/kuto5046/indoor\" target=\"_blank\">https://wandb.ai/kuto5046/indoor</a><br/>\n                Run page: <a href=\"https://wandb.ai/kuto5046/indoor/runs/tkxyfzp6\" target=\"_blank\">https://wandb.ai/kuto5046/indoor/runs/tkxyfzp6</a><br/>\n                Run data is saved locally in <code>/home/kuzira/work/exp/exp003/wandb/run-20210326_122758-tkxyfzp6</code><br/><br/>\n            "
     },
     "metadata": {}
    },
    {
     "output_type": "stream",
     "name": "stderr",
     "text": [
      "GPU available: True, used: True\n",
      "TPU available: None, using: 0 TPU cores\n",
      "Using native 16bit precision.\n",
      "\n",
      "  | Name         | Type      | Params\n",
      "-------------------------------------------\n",
      "0 | model        | LSTMModel | 4.8 M \n",
      "1 | xy_criterion | MSELoss   | 0     \n",
      "2 | f_criterion  | MSELoss   | 0     \n",
      "-------------------------------------------\n",
      "4.8 M     Trainable params\n",
      "0         Non-trainable params\n",
      "4.8 M     Total params\n",
      "19.276    Total estimated model params size (MB)\n",
      "fold 0: mean position error 8.801780445150667\n"
     ]
    }
   ],
   "source": [
    "oofs = []  # 全てのoofをdfで格納する\n",
    "predictions = []  # 全ての予測値をdfで格納する\n",
    "val_scores = []\n",
    "# skf = model_selection.StratifiedKFold(n_splits=N_SPLITS, shuffle=True, random_state=SEED)\n",
    "gkf = model_selection.GroupKFold(n_splits=N_SPLITS)\n",
    "# 今回はtargetを均等に分ける必要はなくpathが均等に分かれればいいのでskf.split()にpathを与えている。\n",
    "for fold, (trn_idx, val_idx) in enumerate(gkf.split(train.loc[:, 'path'], groups=train.loc[:, 'path'])):\n",
    "    # 指定したfoldのみループを回す\n",
    "    if fold not in USE_FOLDS:\n",
    "        continue\n",
    "\n",
    "    print('=' * 20)\n",
    "    print(f'Fold {fold}')\n",
    "    print('=' * 20)\n",
    "\n",
    "    # train/valid data\n",
    "    trn_df = train.loc[trn_idx, BSSID_FEATS + RSSI_FEATS + ['site_id', 'x','y','floor']].reset_index(drop=True)\n",
    "    val_df = train.loc[val_idx, BSSID_FEATS + RSSI_FEATS + ['site_id', 'x','y','floor']].reset_index(drop=True)\n",
    "\n",
    "    # data loader\n",
    "    loaders = {}\n",
    "    loader_config = config[\"loader\"]\n",
    "    loaders[\"train\"] = DataLoader(IndoorDataset(trn_df, phase=\"train\"), **loader_config[\"train\"], worker_init_fn=worker_init_fn) \n",
    "    loaders[\"valid\"] = DataLoader(IndoorDataset(val_df, phase=\"valid\"), **loader_config[\"valid\"], worker_init_fn=worker_init_fn)\n",
    "    loaders[\"test\"] = DataLoader(IndoorDataset(test, phase=\"test\"), **loader_config[\"test\"], worker_init_fn=worker_init_fn)\n",
    "    # model\n",
    "    model = LSTMModel(wifi_bssids_size+1, site_count)  # +1としているのはLEを1スタートで始めているため\n",
    "    model_name = model.__class__.__name__\n",
    "\n",
    "    # callbacks\n",
    "    callbacks = []\n",
    "    checkpoint_callback = ModelCheckpoint(\n",
    "        monitor=f'Loss/val',\n",
    "        mode='min',\n",
    "        dirpath=\"./\",\n",
    "        verbose=False,\n",
    "        filename=f'{model_name}-{fold}')\n",
    "    callbacks.append(checkpoint_callback)\n",
    "\n",
    "    # early_stop_callback = EarlyStopping(\n",
    "    #     monitor='Loss/val',\n",
    "    #     min_delta=0.00,\n",
    "    #     patience=3,\n",
    "    #     verbose=True,\n",
    "    #     mode='min')\n",
    "    # callbacks.append(early_stop_callback)\n",
    "\n",
    "    # loggers\n",
    "    RUN_NAME = EXP_NAME + \"_\" + EXP_MESSAGE\n",
    "    wandb.init(project='indoor', entity='kuto5046', group=RUN_NAME)\n",
    "    wandb.run.name = RUN_NAME + f'-fold-{fold}'\n",
    "    wandb_config = wandb.config\n",
    "    wandb_config.model_name = model_name\n",
    "    wandb.watch(model)\n",
    "    \n",
    "    \n",
    "    loggers = []\n",
    "    loggers.append(WandbLogger())\n",
    "\n",
    "    learner = Learner(model, config)\n",
    "    trainer = pl.Trainer(\n",
    "        logger=loggers, \n",
    "        checkpoint_callback=callbacks,\n",
    "        max_epochs=MAX_EPOCHS,\n",
    "        gpus=[0],\n",
    "        fast_dev_run=DEBUG,\n",
    "        deterministic=True,\n",
    "        precision=16,\n",
    "        progress_bar_refresh_rate=0  # vscodeの時progress barの動作が遅いので表示しない\n",
    "        )\n",
    "\n",
    "    trainer.fit(learner, train_dataloader=loaders['train'], val_dataloaders=loaders['valid'])\n",
    "\n",
    "    #############\n",
    "    # validation (to make oof)\n",
    "    #############\n",
    "    model.eval()\n",
    "    oof_x, oof_y, oof_f = evaluate(model, loaders, phase=\"valid\")\n",
    "    val_df[\"oof_x\"] = oof_x\n",
    "    val_df[\"oof_y\"] = oof_y\n",
    "    val_df[\"oof_floor\"] = oof_f\n",
    "    oofs.append(val_df)\n",
    "    \n",
    "    val_score = mean_position_error(\n",
    "        val_df[\"oof_x\"].values, val_df[\"oof_y\"].values, 0,\n",
    "        val_df['x'].values, val_df['y'].values, 0)\n",
    "    val_scores.append(val_score)\n",
    "    print(f\"fold {fold}: mean position error {val_score}\")\n",
    "\n",
    "    #############\n",
    "    # inference\n",
    "    #############n\n",
    "\n",
    "    preds_x, preds_y, preds_f = evaluate(model, loaders, phase=\"test\")\n",
    "    test_preds = pd.DataFrame(np.stack((preds_f, preds_x, preds_y))).T\n",
    "    test_preds.columns = sub.columns\n",
    "    test_preds[\"site_path_timestamp\"] = test[\"site_path_timestamp\"]\n",
    "    test_preds[\"floor\"] = test_preds[\"floor\"].astype(int)\n",
    "    predictions.append(test_preds)"
   ]
  },
  {
   "cell_type": "code",
   "execution_count": 18,
   "metadata": {},
   "outputs": [
    {
     "output_type": "execute_result",
     "data": {
      "text/plain": [
       "       bssid_0  bssid_1  bssid_2  bssid_3  bssid_4  bssid_5  bssid_6  bssid_7  \\\n",
       "0        54639     6983     8547    26611    28339    37495     2206    25811   \n",
       "1        26611     6983     8547     2206    37495    51326    28339    39212   \n",
       "2         8547     6983    51326    26611    20055     8703    30894    15037   \n",
       "3         6983    51326    26611     8703    30894    20055    39212    11854   \n",
       "4        51326     6983    26611     8703    44926    39212    37495    27632   \n",
       "...        ...      ...      ...      ...      ...      ...      ...      ...   \n",
       "51620    53734      963    20965     9223    18805      944    50466    35066   \n",
       "51621    53734      963     9223    20965    50466    18805      944    35066   \n",
       "51622    53734      963     9223    20965    18805    50466      944    40207   \n",
       "51623    53734      963     9223      944    20965    18805    50466    29010   \n",
       "51624    53734      963     9223      944    50466    18805    20965    35066   \n",
       "\n",
       "       bssid_8  bssid_9  ...   rssi_17   rssi_18   rssi_19  site_id  \\\n",
       "0        39212    20530  ...  0.203951  0.199994  0.205691        0   \n",
       "1        14274    25811  ...  0.184866  0.181819  0.188436        0   \n",
       "2        39212    37495  ...  0.184866  0.190906  0.188436        0   \n",
       "3        15037    54639  ...  0.175324  0.181819  0.188436        0   \n",
       "4        14274    45778  ...  0.175324  0.181819  0.179808        0   \n",
       "...        ...      ...  ...       ...       ...       ...      ...   \n",
       "51620    29010    52137  ... -0.072772 -0.054450 -0.044509       23   \n",
       "51621    52137    29010  ... -0.072772 -0.054450 -0.044509       23   \n",
       "51622    13392    21593  ... -0.072772 -0.063537 -0.044509       23   \n",
       "51623    35066    21593  ... -0.072772 -0.054450 -0.044509       23   \n",
       "51624    13392    40207  ... -0.063230 -0.054450 -0.035881       23   \n",
       "\n",
       "               x          y  floor       oof_x       oof_y  oof_floor  \n",
       "0      192.90768  159.26582     -1  192.981750  162.782471   0.282988  \n",
       "1      192.90768  159.26582     -1  199.917313  162.649704   0.293821  \n",
       "2      198.36833  163.52063     -1  197.407852  163.068481   0.295031  \n",
       "3      198.36833  163.52063     -1  198.421341  163.988235   0.267632  \n",
       "4      198.36833  163.52063     -1  196.716629  164.937103   0.298239  \n",
       "...          ...        ...    ...         ...         ...        ...  \n",
       "51620  119.03059  150.23820      6  122.566490  135.419250   0.177554  \n",
       "51621  119.03059  150.23820      6  122.898735  137.893066   0.207665  \n",
       "51622  118.59883  151.09120      6  124.030876  136.311844   0.189632  \n",
       "51623  115.88945  149.32843      6  120.934380  137.689789   0.188194  \n",
       "51624  115.88945  149.32843      6  122.395744  138.914978   0.209930  \n",
       "\n",
       "[51625 rows x 47 columns]"
      ],
      "text/html": "<div>\n<style scoped>\n    .dataframe tbody tr th:only-of-type {\n        vertical-align: middle;\n    }\n\n    .dataframe tbody tr th {\n        vertical-align: top;\n    }\n\n    .dataframe thead th {\n        text-align: right;\n    }\n</style>\n<table border=\"1\" class=\"dataframe\">\n  <thead>\n    <tr style=\"text-align: right;\">\n      <th></th>\n      <th>bssid_0</th>\n      <th>bssid_1</th>\n      <th>bssid_2</th>\n      <th>bssid_3</th>\n      <th>bssid_4</th>\n      <th>bssid_5</th>\n      <th>bssid_6</th>\n      <th>bssid_7</th>\n      <th>bssid_8</th>\n      <th>bssid_9</th>\n      <th>...</th>\n      <th>rssi_17</th>\n      <th>rssi_18</th>\n      <th>rssi_19</th>\n      <th>site_id</th>\n      <th>x</th>\n      <th>y</th>\n      <th>floor</th>\n      <th>oof_x</th>\n      <th>oof_y</th>\n      <th>oof_floor</th>\n    </tr>\n  </thead>\n  <tbody>\n    <tr>\n      <th>0</th>\n      <td>54639</td>\n      <td>6983</td>\n      <td>8547</td>\n      <td>26611</td>\n      <td>28339</td>\n      <td>37495</td>\n      <td>2206</td>\n      <td>25811</td>\n      <td>39212</td>\n      <td>20530</td>\n      <td>...</td>\n      <td>0.203951</td>\n      <td>0.199994</td>\n      <td>0.205691</td>\n      <td>0</td>\n      <td>192.90768</td>\n      <td>159.26582</td>\n      <td>-1</td>\n      <td>192.981750</td>\n      <td>162.782471</td>\n      <td>0.282988</td>\n    </tr>\n    <tr>\n      <th>1</th>\n      <td>26611</td>\n      <td>6983</td>\n      <td>8547</td>\n      <td>2206</td>\n      <td>37495</td>\n      <td>51326</td>\n      <td>28339</td>\n      <td>39212</td>\n      <td>14274</td>\n      <td>25811</td>\n      <td>...</td>\n      <td>0.184866</td>\n      <td>0.181819</td>\n      <td>0.188436</td>\n      <td>0</td>\n      <td>192.90768</td>\n      <td>159.26582</td>\n      <td>-1</td>\n      <td>199.917313</td>\n      <td>162.649704</td>\n      <td>0.293821</td>\n    </tr>\n    <tr>\n      <th>2</th>\n      <td>8547</td>\n      <td>6983</td>\n      <td>51326</td>\n      <td>26611</td>\n      <td>20055</td>\n      <td>8703</td>\n      <td>30894</td>\n      <td>15037</td>\n      <td>39212</td>\n      <td>37495</td>\n      <td>...</td>\n      <td>0.184866</td>\n      <td>0.190906</td>\n      <td>0.188436</td>\n      <td>0</td>\n      <td>198.36833</td>\n      <td>163.52063</td>\n      <td>-1</td>\n      <td>197.407852</td>\n      <td>163.068481</td>\n      <td>0.295031</td>\n    </tr>\n    <tr>\n      <th>3</th>\n      <td>6983</td>\n      <td>51326</td>\n      <td>26611</td>\n      <td>8703</td>\n      <td>30894</td>\n      <td>20055</td>\n      <td>39212</td>\n      <td>11854</td>\n      <td>15037</td>\n      <td>54639</td>\n      <td>...</td>\n      <td>0.175324</td>\n      <td>0.181819</td>\n      <td>0.188436</td>\n      <td>0</td>\n      <td>198.36833</td>\n      <td>163.52063</td>\n      <td>-1</td>\n      <td>198.421341</td>\n      <td>163.988235</td>\n      <td>0.267632</td>\n    </tr>\n    <tr>\n      <th>4</th>\n      <td>51326</td>\n      <td>6983</td>\n      <td>26611</td>\n      <td>8703</td>\n      <td>44926</td>\n      <td>39212</td>\n      <td>37495</td>\n      <td>27632</td>\n      <td>14274</td>\n      <td>45778</td>\n      <td>...</td>\n      <td>0.175324</td>\n      <td>0.181819</td>\n      <td>0.179808</td>\n      <td>0</td>\n      <td>198.36833</td>\n      <td>163.52063</td>\n      <td>-1</td>\n      <td>196.716629</td>\n      <td>164.937103</td>\n      <td>0.298239</td>\n    </tr>\n    <tr>\n      <th>...</th>\n      <td>...</td>\n      <td>...</td>\n      <td>...</td>\n      <td>...</td>\n      <td>...</td>\n      <td>...</td>\n      <td>...</td>\n      <td>...</td>\n      <td>...</td>\n      <td>...</td>\n      <td>...</td>\n      <td>...</td>\n      <td>...</td>\n      <td>...</td>\n      <td>...</td>\n      <td>...</td>\n      <td>...</td>\n      <td>...</td>\n      <td>...</td>\n      <td>...</td>\n      <td>...</td>\n    </tr>\n    <tr>\n      <th>51620</th>\n      <td>53734</td>\n      <td>963</td>\n      <td>20965</td>\n      <td>9223</td>\n      <td>18805</td>\n      <td>944</td>\n      <td>50466</td>\n      <td>35066</td>\n      <td>29010</td>\n      <td>52137</td>\n      <td>...</td>\n      <td>-0.072772</td>\n      <td>-0.054450</td>\n      <td>-0.044509</td>\n      <td>23</td>\n      <td>119.03059</td>\n      <td>150.23820</td>\n      <td>6</td>\n      <td>122.566490</td>\n      <td>135.419250</td>\n      <td>0.177554</td>\n    </tr>\n    <tr>\n      <th>51621</th>\n      <td>53734</td>\n      <td>963</td>\n      <td>9223</td>\n      <td>20965</td>\n      <td>50466</td>\n      <td>18805</td>\n      <td>944</td>\n      <td>35066</td>\n      <td>52137</td>\n      <td>29010</td>\n      <td>...</td>\n      <td>-0.072772</td>\n      <td>-0.054450</td>\n      <td>-0.044509</td>\n      <td>23</td>\n      <td>119.03059</td>\n      <td>150.23820</td>\n      <td>6</td>\n      <td>122.898735</td>\n      <td>137.893066</td>\n      <td>0.207665</td>\n    </tr>\n    <tr>\n      <th>51622</th>\n      <td>53734</td>\n      <td>963</td>\n      <td>9223</td>\n      <td>20965</td>\n      <td>18805</td>\n      <td>50466</td>\n      <td>944</td>\n      <td>40207</td>\n      <td>13392</td>\n      <td>21593</td>\n      <td>...</td>\n      <td>-0.072772</td>\n      <td>-0.063537</td>\n      <td>-0.044509</td>\n      <td>23</td>\n      <td>118.59883</td>\n      <td>151.09120</td>\n      <td>6</td>\n      <td>124.030876</td>\n      <td>136.311844</td>\n      <td>0.189632</td>\n    </tr>\n    <tr>\n      <th>51623</th>\n      <td>53734</td>\n      <td>963</td>\n      <td>9223</td>\n      <td>944</td>\n      <td>20965</td>\n      <td>18805</td>\n      <td>50466</td>\n      <td>29010</td>\n      <td>35066</td>\n      <td>21593</td>\n      <td>...</td>\n      <td>-0.072772</td>\n      <td>-0.054450</td>\n      <td>-0.044509</td>\n      <td>23</td>\n      <td>115.88945</td>\n      <td>149.32843</td>\n      <td>6</td>\n      <td>120.934380</td>\n      <td>137.689789</td>\n      <td>0.188194</td>\n    </tr>\n    <tr>\n      <th>51624</th>\n      <td>53734</td>\n      <td>963</td>\n      <td>9223</td>\n      <td>944</td>\n      <td>50466</td>\n      <td>18805</td>\n      <td>20965</td>\n      <td>35066</td>\n      <td>13392</td>\n      <td>40207</td>\n      <td>...</td>\n      <td>-0.063230</td>\n      <td>-0.054450</td>\n      <td>-0.035881</td>\n      <td>23</td>\n      <td>115.88945</td>\n      <td>149.32843</td>\n      <td>6</td>\n      <td>122.395744</td>\n      <td>138.914978</td>\n      <td>0.209930</td>\n    </tr>\n  </tbody>\n</table>\n<p>51625 rows × 47 columns</p>\n</div>"
     },
     "metadata": {},
     "execution_count": 18
    }
   ],
   "source": [
    "if len(USE_FOLDS) > 1:\n",
    "    oofs_df = pd.concat(oofs)\n",
    "else:\n",
    "    oofs_df = oofs[0]\n",
    "oofs_df.to_csv(\"oof.csv\", index=False)\n",
    "oofs_df"
   ]
  },
  {
   "cell_type": "code",
   "execution_count": 19,
   "metadata": {},
   "outputs": [
    {
     "output_type": "execute_result",
     "data": {
      "text/plain": [
       "                                                    floor   x   y  \\\n",
       "site_path_timestamp                                                 \n",
       "5a0546857ecc773753327266_046cfa46be49fc10834815...    NaN NaN NaN   \n",
       "5a0546857ecc773753327266_046cfa46be49fc10834815...    NaN NaN NaN   \n",
       "5a0546857ecc773753327266_046cfa46be49fc10834815...    NaN NaN NaN   \n",
       "5a0546857ecc773753327266_046cfa46be49fc10834815...    NaN NaN NaN   \n",
       "5a0546857ecc773753327266_046cfa46be49fc10834815...    NaN NaN NaN   \n",
       "...                                                   ...  ..  ..   \n",
       "5dc8cea7659e181adb076a3f_fd64de8c4a2fc5ebb0e9f4...    NaN NaN NaN   \n",
       "5dc8cea7659e181adb076a3f_fd64de8c4a2fc5ebb0e9f4...    NaN NaN NaN   \n",
       "5dc8cea7659e181adb076a3f_fd64de8c4a2fc5ebb0e9f4...    NaN NaN NaN   \n",
       "5dc8cea7659e181adb076a3f_fd64de8c4a2fc5ebb0e9f4...    NaN NaN NaN   \n",
       "5dc8cea7659e181adb076a3f_fd64de8c4a2fc5ebb0e9f4...    NaN NaN NaN   \n",
       "\n",
       "                                                   site_path_timestamp  \n",
       "site_path_timestamp                                                     \n",
       "5a0546857ecc773753327266_046cfa46be49fc10834815...                 NaN  \n",
       "5a0546857ecc773753327266_046cfa46be49fc10834815...                 NaN  \n",
       "5a0546857ecc773753327266_046cfa46be49fc10834815...                 NaN  \n",
       "5a0546857ecc773753327266_046cfa46be49fc10834815...                 NaN  \n",
       "5a0546857ecc773753327266_046cfa46be49fc10834815...                 NaN  \n",
       "...                                                                ...  \n",
       "5dc8cea7659e181adb076a3f_fd64de8c4a2fc5ebb0e9f4...                 NaN  \n",
       "5dc8cea7659e181adb076a3f_fd64de8c4a2fc5ebb0e9f4...                 NaN  \n",
       "5dc8cea7659e181adb076a3f_fd64de8c4a2fc5ebb0e9f4...                 NaN  \n",
       "5dc8cea7659e181adb076a3f_fd64de8c4a2fc5ebb0e9f4...                 NaN  \n",
       "5dc8cea7659e181adb076a3f_fd64de8c4a2fc5ebb0e9f4...                 NaN  \n",
       "\n",
       "[10133 rows x 4 columns]"
      ],
      "text/html": "<div>\n<style scoped>\n    .dataframe tbody tr th:only-of-type {\n        vertical-align: middle;\n    }\n\n    .dataframe tbody tr th {\n        vertical-align: top;\n    }\n\n    .dataframe thead th {\n        text-align: right;\n    }\n</style>\n<table border=\"1\" class=\"dataframe\">\n  <thead>\n    <tr style=\"text-align: right;\">\n      <th></th>\n      <th>floor</th>\n      <th>x</th>\n      <th>y</th>\n      <th>site_path_timestamp</th>\n    </tr>\n    <tr>\n      <th>site_path_timestamp</th>\n      <th></th>\n      <th></th>\n      <th></th>\n      <th></th>\n    </tr>\n  </thead>\n  <tbody>\n    <tr>\n      <th>5a0546857ecc773753327266_046cfa46be49fc10834815c6_0000000000009</th>\n      <td>NaN</td>\n      <td>NaN</td>\n      <td>NaN</td>\n      <td>NaN</td>\n    </tr>\n    <tr>\n      <th>5a0546857ecc773753327266_046cfa46be49fc10834815c6_0000000009017</th>\n      <td>NaN</td>\n      <td>NaN</td>\n      <td>NaN</td>\n      <td>NaN</td>\n    </tr>\n    <tr>\n      <th>5a0546857ecc773753327266_046cfa46be49fc10834815c6_0000000015326</th>\n      <td>NaN</td>\n      <td>NaN</td>\n      <td>NaN</td>\n      <td>NaN</td>\n    </tr>\n    <tr>\n      <th>5a0546857ecc773753327266_046cfa46be49fc10834815c6_0000000018763</th>\n      <td>NaN</td>\n      <td>NaN</td>\n      <td>NaN</td>\n      <td>NaN</td>\n    </tr>\n    <tr>\n      <th>5a0546857ecc773753327266_046cfa46be49fc10834815c6_0000000022328</th>\n      <td>NaN</td>\n      <td>NaN</td>\n      <td>NaN</td>\n      <td>NaN</td>\n    </tr>\n    <tr>\n      <th>...</th>\n      <td>...</td>\n      <td>...</td>\n      <td>...</td>\n      <td>...</td>\n    </tr>\n    <tr>\n      <th>5dc8cea7659e181adb076a3f_fd64de8c4a2fc5ebb0e9f412_0000000082589</th>\n      <td>NaN</td>\n      <td>NaN</td>\n      <td>NaN</td>\n      <td>NaN</td>\n    </tr>\n    <tr>\n      <th>5dc8cea7659e181adb076a3f_fd64de8c4a2fc5ebb0e9f412_0000000085758</th>\n      <td>NaN</td>\n      <td>NaN</td>\n      <td>NaN</td>\n      <td>NaN</td>\n    </tr>\n    <tr>\n      <th>5dc8cea7659e181adb076a3f_fd64de8c4a2fc5ebb0e9f412_0000000090895</th>\n      <td>NaN</td>\n      <td>NaN</td>\n      <td>NaN</td>\n      <td>NaN</td>\n    </tr>\n    <tr>\n      <th>5dc8cea7659e181adb076a3f_fd64de8c4a2fc5ebb0e9f412_0000000096899</th>\n      <td>NaN</td>\n      <td>NaN</td>\n      <td>NaN</td>\n      <td>NaN</td>\n    </tr>\n    <tr>\n      <th>5dc8cea7659e181adb076a3f_fd64de8c4a2fc5ebb0e9f412_0000000100447</th>\n      <td>NaN</td>\n      <td>NaN</td>\n      <td>NaN</td>\n      <td>NaN</td>\n    </tr>\n  </tbody>\n</table>\n<p>10133 rows × 4 columns</p>\n</div>"
     },
     "metadata": {},
     "execution_count": 19
    }
   ],
   "source": [
    "if len(USE_FOLDS) > 1:\n",
    "    # foldの結果を平均した後、reindexでsubmission fileにindexを合わせる\n",
    "    all_preds = pd.concat(predictions).groupby('site_path_timestamp').mean().reindex(sub.index)\n",
    "else:\n",
    "    all_preds = predictions[0].reindex(sub.index)\n",
    "all_preds"
   ]
  },
  {
   "cell_type": "code",
   "execution_count": 20,
   "metadata": {},
   "outputs": [
    {
     "output_type": "execute_result",
     "data": {
      "text/plain": [
       "                                                    floor   x   y  \\\n",
       "site_path_timestamp                                                 \n",
       "5a0546857ecc773753327266_046cfa46be49fc10834815...      0 NaN NaN   \n",
       "5a0546857ecc773753327266_046cfa46be49fc10834815...      0 NaN NaN   \n",
       "5a0546857ecc773753327266_046cfa46be49fc10834815...      0 NaN NaN   \n",
       "5a0546857ecc773753327266_046cfa46be49fc10834815...      0 NaN NaN   \n",
       "5a0546857ecc773753327266_046cfa46be49fc10834815...      0 NaN NaN   \n",
       "...                                                   ...  ..  ..   \n",
       "5dc8cea7659e181adb076a3f_fd64de8c4a2fc5ebb0e9f4...      5 NaN NaN   \n",
       "5dc8cea7659e181adb076a3f_fd64de8c4a2fc5ebb0e9f4...      5 NaN NaN   \n",
       "5dc8cea7659e181adb076a3f_fd64de8c4a2fc5ebb0e9f4...      5 NaN NaN   \n",
       "5dc8cea7659e181adb076a3f_fd64de8c4a2fc5ebb0e9f4...      5 NaN NaN   \n",
       "5dc8cea7659e181adb076a3f_fd64de8c4a2fc5ebb0e9f4...      5 NaN NaN   \n",
       "\n",
       "                                                   site_path_timestamp  \n",
       "site_path_timestamp                                                     \n",
       "5a0546857ecc773753327266_046cfa46be49fc10834815...                 NaN  \n",
       "5a0546857ecc773753327266_046cfa46be49fc10834815...                 NaN  \n",
       "5a0546857ecc773753327266_046cfa46be49fc10834815...                 NaN  \n",
       "5a0546857ecc773753327266_046cfa46be49fc10834815...                 NaN  \n",
       "5a0546857ecc773753327266_046cfa46be49fc10834815...                 NaN  \n",
       "...                                                                ...  \n",
       "5dc8cea7659e181adb076a3f_fd64de8c4a2fc5ebb0e9f4...                 NaN  \n",
       "5dc8cea7659e181adb076a3f_fd64de8c4a2fc5ebb0e9f4...                 NaN  \n",
       "5dc8cea7659e181adb076a3f_fd64de8c4a2fc5ebb0e9f4...                 NaN  \n",
       "5dc8cea7659e181adb076a3f_fd64de8c4a2fc5ebb0e9f4...                 NaN  \n",
       "5dc8cea7659e181adb076a3f_fd64de8c4a2fc5ebb0e9f4...                 NaN  \n",
       "\n",
       "[10133 rows x 4 columns]"
      ],
      "text/html": "<div>\n<style scoped>\n    .dataframe tbody tr th:only-of-type {\n        vertical-align: middle;\n    }\n\n    .dataframe tbody tr th {\n        vertical-align: top;\n    }\n\n    .dataframe thead th {\n        text-align: right;\n    }\n</style>\n<table border=\"1\" class=\"dataframe\">\n  <thead>\n    <tr style=\"text-align: right;\">\n      <th></th>\n      <th>floor</th>\n      <th>x</th>\n      <th>y</th>\n      <th>site_path_timestamp</th>\n    </tr>\n    <tr>\n      <th>site_path_timestamp</th>\n      <th></th>\n      <th></th>\n      <th></th>\n      <th></th>\n    </tr>\n  </thead>\n  <tbody>\n    <tr>\n      <th>5a0546857ecc773753327266_046cfa46be49fc10834815c6_0000000000009</th>\n      <td>0</td>\n      <td>NaN</td>\n      <td>NaN</td>\n      <td>NaN</td>\n    </tr>\n    <tr>\n      <th>5a0546857ecc773753327266_046cfa46be49fc10834815c6_0000000009017</th>\n      <td>0</td>\n      <td>NaN</td>\n      <td>NaN</td>\n      <td>NaN</td>\n    </tr>\n    <tr>\n      <th>5a0546857ecc773753327266_046cfa46be49fc10834815c6_0000000015326</th>\n      <td>0</td>\n      <td>NaN</td>\n      <td>NaN</td>\n      <td>NaN</td>\n    </tr>\n    <tr>\n      <th>5a0546857ecc773753327266_046cfa46be49fc10834815c6_0000000018763</th>\n      <td>0</td>\n      <td>NaN</td>\n      <td>NaN</td>\n      <td>NaN</td>\n    </tr>\n    <tr>\n      <th>5a0546857ecc773753327266_046cfa46be49fc10834815c6_0000000022328</th>\n      <td>0</td>\n      <td>NaN</td>\n      <td>NaN</td>\n      <td>NaN</td>\n    </tr>\n    <tr>\n      <th>...</th>\n      <td>...</td>\n      <td>...</td>\n      <td>...</td>\n      <td>...</td>\n    </tr>\n    <tr>\n      <th>5dc8cea7659e181adb076a3f_fd64de8c4a2fc5ebb0e9f412_0000000082589</th>\n      <td>5</td>\n      <td>NaN</td>\n      <td>NaN</td>\n      <td>NaN</td>\n    </tr>\n    <tr>\n      <th>5dc8cea7659e181adb076a3f_fd64de8c4a2fc5ebb0e9f412_0000000085758</th>\n      <td>5</td>\n      <td>NaN</td>\n      <td>NaN</td>\n      <td>NaN</td>\n    </tr>\n    <tr>\n      <th>5dc8cea7659e181adb076a3f_fd64de8c4a2fc5ebb0e9f412_0000000090895</th>\n      <td>5</td>\n      <td>NaN</td>\n      <td>NaN</td>\n      <td>NaN</td>\n    </tr>\n    <tr>\n      <th>5dc8cea7659e181adb076a3f_fd64de8c4a2fc5ebb0e9f412_0000000096899</th>\n      <td>5</td>\n      <td>NaN</td>\n      <td>NaN</td>\n      <td>NaN</td>\n    </tr>\n    <tr>\n      <th>5dc8cea7659e181adb076a3f_fd64de8c4a2fc5ebb0e9f412_0000000100447</th>\n      <td>5</td>\n      <td>NaN</td>\n      <td>NaN</td>\n      <td>NaN</td>\n    </tr>\n  </tbody>\n</table>\n<p>10133 rows × 4 columns</p>\n</div>"
     },
     "metadata": {},
     "execution_count": 20
    }
   ],
   "source": [
    "# floorの数値を置換\n",
    "simple_accurate_99 = pd.read_csv(root_dir / 'simple-99-accurate-floor-model/submission.csv')\n",
    "all_preds['floor'] = simple_accurate_99['floor'].values\n",
    "all_preds"
   ]
  },
  {
   "cell_type": "code",
   "execution_count": 21,
   "metadata": {},
   "outputs": [],
   "source": [
    "all_preds.to_csv(RUN_NAME + '.csv')"
   ]
  },
  {
   "cell_type": "code",
   "execution_count": 22,
   "metadata": {},
   "outputs": [
    {
     "output_type": "stream",
     "name": "stdout",
     "text": [
      "CV:8.801780445150667\n"
     ]
    }
   ],
   "source": [
    "print(f\"CV:{np.mean(val_scores)}\")"
   ]
  },
  {
   "cell_type": "code",
   "execution_count": null,
   "metadata": {},
   "outputs": [],
   "source": []
  }
 ],
 "metadata": {
  "kernelspec": {
   "display_name": "Python 3",
   "language": "python",
   "name": "python3"
  },
  "language_info": {
   "codemirror_mode": {
    "name": "ipython",
    "version": 3
   },
   "file_extension": ".py",
   "mimetype": "text/x-python",
   "name": "python",
   "nbconvert_exporter": "python",
   "pygments_lexer": "ipython3",
   "version": "3.8.5"
  }
 },
 "nbformat": 4,
 "nbformat_minor": 4
}