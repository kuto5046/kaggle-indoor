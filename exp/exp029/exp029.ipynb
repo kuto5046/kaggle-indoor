{
 "cells": [
  {
   "cell_type": "code",
   "execution_count": 1,
   "metadata": {},
   "outputs": [],
   "source": [
    "import os\n",
    "import sys\n",
    "import glob\n",
    "import yaml\n",
    "import pickle\n",
    "import random\n",
    "\n",
    "import numpy as np\n",
    "import pandas as pd\n",
    "import scipy.stats as stats\n",
    "from pathlib import Path\n",
    "import matplotlib.pyplot as plt\n",
    "from sklearn import model_selection\n",
    "from sklearn.preprocessing import StandardScaler, LabelEncoder\n",
    "\n",
    "import wandb\n",
    "import torch\n",
    "from torch import nn\n",
    "import torch.nn.functional as F\n",
    "from torch.utils.data import Dataset, DataLoader\n",
    "import torch.optim as optim\n",
    "\n",
    "import pytorch_lightning as pl\n",
    "from pytorch_lightning.loggers import WandbLogger\n",
    "from pytorch_lightning.callbacks import ModelCheckpoint\n",
    "from pytorch_lightning.callbacks import EarlyStopping\n",
    "from pytorch_lightning.utilities.seed import seed_everything"
   ]
  },
  {
   "cell_type": "markdown",
   "metadata": {},
   "source": [
    "## config"
   ]
  },
  {
   "cell_type": "code",
   "execution_count": 2,
   "metadata": {},
   "outputs": [
    {
     "output_type": "stream",
     "name": "stderr",
     "text": [
      "Global seed set to 1996\n"
     ]
    },
    {
     "output_type": "execute_result",
     "data": {
      "text/plain": [
       "1996"
      ]
     },
     "metadata": {},
     "execution_count": 2
    }
   ],
   "source": [
    "# config\n",
    "with open('config.yaml') as f:\n",
    "    config = yaml.safe_load(f)\n",
    "\n",
    "# globals variable\n",
    "SEED = config['globals']['seed']\n",
    "MAX_EPOCHS = config['globals']['max_epochs']\n",
    "N_SPLITS = config['globals']['n_splits']\n",
    "USE_FOLDS = config['globals']['use_folds']\n",
    "DEBUG = config['globals']['debug']\n",
    "EXP_MESSAGE = config['globals']['exp_message']\n",
    "NOTES = config['globals']['notes']\n",
    "MODEL_SAVE = config['globals']['model_save']\n",
    "ONLY_PRED = config['globals']['only_pred']\n",
    "PRETRAINED = config['globals']['pretrained']\n",
    "PRETRAINED_PATH = config['globals']['pretrained_path']\n",
    "EXP_NAME = str(Path().resolve()).split('/')[-1]\n",
    "\n",
    "# seed\n",
    "seed_everything(SEED)"
   ]
  },
  {
   "cell_type": "code",
   "execution_count": 3,
   "metadata": {},
   "outputs": [
    {
     "output_type": "execute_result",
     "data": {
      "text/plain": [
       "'exp029'"
      ]
     },
     "metadata": {},
     "execution_count": 3
    }
   ],
   "source": [
    "EXP_NAME"
   ]
  },
  {
   "cell_type": "code",
   "execution_count": 4,
   "metadata": {},
   "outputs": [
    {
     "output_type": "stream",
     "name": "stdout",
     "text": [
      "\u001b[34m\u001b[1mwandb\u001b[0m: Appending key for api.wandb.ai to your netrc file: /home/user/.netrc\n"
     ]
    }
   ],
   "source": [
    "!wandb login 1bb2d0449c11d8b987e25c38b9d8dda176310fb6"
   ]
  },
  {
   "cell_type": "markdown",
   "metadata": {},
   "source": [
    "## read data"
   ]
  },
  {
   "cell_type": "code",
   "execution_count": 5,
   "metadata": {},
   "outputs": [],
   "source": [
    "# waypointを補正したdataset\n",
    "root_dir = Path('../../input/')\n",
    "with open(root_dir/'2kaido_wifi_dataset_v2/train_20000_10000_7.pkl', 'rb') as f:\n",
    "  train_df = pickle.load(f)\n",
    "\n",
    "with open(root_dir/'2kaido_wifi_dataset_v2/test_20000_10000_7.pkl', 'rb') as f:\n",
    "  test_df = pickle.load(f)\n",
    "\n",
    "sub_df = pd.read_csv(root_dir/'indoor-location-navigation/sample_submission.csv', index_col=0)"
   ]
  },
  {
   "cell_type": "code",
   "execution_count": 6,
   "metadata": {},
   "outputs": [],
   "source": [
    "train_df = train_df.astype({'timestamp':int,'x': np.float32, 'y': np.float32, 'floor':np.float32, 'ix':np.float32, 'iy':np.float32})\n",
    "test_df = test_df.astype({'timestamp':int})"
   ]
  },
  {
   "cell_type": "code",
   "execution_count": 7,
   "metadata": {},
   "outputs": [],
   "source": [
    "# train_df['timediff'].astype(int).hist(bins=20)"
   ]
  },
  {
   "cell_type": "code",
   "execution_count": 8,
   "metadata": {},
   "outputs": [],
   "source": [
    "# x = train_df['timediff'].astype(int).abs()\n",
    "# y = 1 - (x/x.max())\n",
    "# plt.plot(x, y)\n",
    "# plt.xlabel('timediff(abs)')\n",
    "# plt.ylabel('weight')"
   ]
  },
  {
   "cell_type": "code",
   "execution_count": 9,
   "metadata": {},
   "outputs": [
    {
     "output_type": "execute_result",
     "data": {
      "text/plain": [
       "                                          ssid_0  \\\n",
       "0       356d66c73c423be835bd5d07cb1ebdfa821d8e23   \n",
       "1       356d66c73c423be835bd5d07cb1ebdfa821d8e23   \n",
       "2       f44fa6118fed7198296c8b45b2f2684903d99620   \n",
       "3       356d66c73c423be835bd5d07cb1ebdfa821d8e23   \n",
       "4       f44fa6118fed7198296c8b45b2f2684903d99620   \n",
       "...                                          ...   \n",
       "250699  18336f0964fbd470a2ee7116d33b96946c633999   \n",
       "250700  18336f0964fbd470a2ee7116d33b96946c633999   \n",
       "250701  18336f0964fbd470a2ee7116d33b96946c633999   \n",
       "250702  18336f0964fbd470a2ee7116d33b96946c633999   \n",
       "250703  18336f0964fbd470a2ee7116d33b96946c633999   \n",
       "\n",
       "                                          ssid_1  \\\n",
       "0       f44fa6118fed7198296c8b45b2f2684903d99620   \n",
       "1       f44fa6118fed7198296c8b45b2f2684903d99620   \n",
       "2       356d66c73c423be835bd5d07cb1ebdfa821d8e23   \n",
       "3       f44fa6118fed7198296c8b45b2f2684903d99620   \n",
       "4       356d66c73c423be835bd5d07cb1ebdfa821d8e23   \n",
       "...                                          ...   \n",
       "250699  072159287058774aa9b450c9163129b309bc982b   \n",
       "250700  18336f0964fbd470a2ee7116d33b96946c633999   \n",
       "250701  18336f0964fbd470a2ee7116d33b96946c633999   \n",
       "250702  18336f0964fbd470a2ee7116d33b96946c633999   \n",
       "250703  90ef6526fa145d95dc065edc3b3a3193406f3ee4   \n",
       "\n",
       "                                          ssid_2  \\\n",
       "0       c3513a636d1a813db081a2ffc33f297b4fefe28d   \n",
       "1       c3513a636d1a813db081a2ffc33f297b4fefe28d   \n",
       "2       8aed75f7c344e6a3d4916750029dd4ee47c1e7c5   \n",
       "3       5a368e0bd5050bdb4653dc39c86bee1fd2b8aeb7   \n",
       "4       990847ae755de95a44c7b1be54e66f4e56fdc7f4   \n",
       "...                                          ...   \n",
       "250699  18336f0964fbd470a2ee7116d33b96946c633999   \n",
       "250700  072159287058774aa9b450c9163129b309bc982b   \n",
       "250701  072159287058774aa9b450c9163129b309bc982b   \n",
       "250702  072159287058774aa9b450c9163129b309bc982b   \n",
       "250703  040667e2fdd3a9bbb54e970c430ad6f08416c52e   \n",
       "\n",
       "                                          ssid_3  \\\n",
       "0       990847ae755de95a44c7b1be54e66f4e56fdc7f4   \n",
       "1       990847ae755de95a44c7b1be54e66f4e56fdc7f4   \n",
       "2       c3513a636d1a813db081a2ffc33f297b4fefe28d   \n",
       "3       990847ae755de95a44c7b1be54e66f4e56fdc7f4   \n",
       "4       c3513a636d1a813db081a2ffc33f297b4fefe28d   \n",
       "...                                          ...   \n",
       "250699  1a04593c547b59266cbf0e599f87cda4f67c5ad4   \n",
       "250700  072159287058774aa9b450c9163129b309bc982b   \n",
       "250701  ea9e102c49dbc834b1059c5e8b5dc4a017a82dff   \n",
       "250702  040667e2fdd3a9bbb54e970c430ad6f08416c52e   \n",
       "250703  18336f0964fbd470a2ee7116d33b96946c633999   \n",
       "\n",
       "                                          ssid_4  \\\n",
       "0       4e601619b7c7d9df8d61490ad2c134f08ea01d61   \n",
       "1       d839a45ebe64ab48b60a407d837fb01d3c0dfef9   \n",
       "2       5a368e0bd5050bdb4653dc39c86bee1fd2b8aeb7   \n",
       "3       da39a3ee5e6b4b0d3255bfef95601890afd80709   \n",
       "4       d839a45ebe64ab48b60a407d837fb01d3c0dfef9   \n",
       "...                                          ...   \n",
       "250699  040667e2fdd3a9bbb54e970c430ad6f08416c52e   \n",
       "250700  ea9e102c49dbc834b1059c5e8b5dc4a017a82dff   \n",
       "250701  072159287058774aa9b450c9163129b309bc982b   \n",
       "250702  da39a3ee5e6b4b0d3255bfef95601890afd80709   \n",
       "250703  da39a3ee5e6b4b0d3255bfef95601890afd80709   \n",
       "\n",
       "                                          ssid_5  \\\n",
       "0       c3513a636d1a813db081a2ffc33f297b4fefe28d   \n",
       "1       b7e6027447eb1f81327d66cfd3adbe557aabf26c   \n",
       "2       4e601619b7c7d9df8d61490ad2c134f08ea01d61   \n",
       "3       b6ffe5619e02871fcd04f61c9bb4b5c53a3f46b7   \n",
       "4       b7e6027447eb1f81327d66cfd3adbe557aabf26c   \n",
       "...                                          ...   \n",
       "250699  da39a3ee5e6b4b0d3255bfef95601890afd80709   \n",
       "250700  040667e2fdd3a9bbb54e970c430ad6f08416c52e   \n",
       "250701  040667e2fdd3a9bbb54e970c430ad6f08416c52e   \n",
       "250702  072159287058774aa9b450c9163129b309bc982b   \n",
       "250703  072159287058774aa9b450c9163129b309bc982b   \n",
       "\n",
       "                                          ssid_6  \\\n",
       "0       5a368e0bd5050bdb4653dc39c86bee1fd2b8aeb7   \n",
       "1       7182afc4e5c212133d5d7d76eb3df6c24618302b   \n",
       "2       2ce029b3a3dea973a44bf0587be5e2b93a74e5f1   \n",
       "3       b7e6027447eb1f81327d66cfd3adbe557aabf26c   \n",
       "4       7182afc4e5c212133d5d7d76eb3df6c24618302b   \n",
       "...                                          ...   \n",
       "250699  072159287058774aa9b450c9163129b309bc982b   \n",
       "250700  da39a3ee5e6b4b0d3255bfef95601890afd80709   \n",
       "250701  1f09251bbfadafb11c63c87963af25238d6bc886   \n",
       "250702  90ef6526fa145d95dc065edc3b3a3193406f3ee4   \n",
       "250703  ea9e102c49dbc834b1059c5e8b5dc4a017a82dff   \n",
       "\n",
       "                                          ssid_7  \\\n",
       "0       b14c56d7cd73a5b026fc118c671e24dc2ba2558b   \n",
       "1       da39a3ee5e6b4b0d3255bfef95601890afd80709   \n",
       "2       b14c56d7cd73a5b026fc118c671e24dc2ba2558b   \n",
       "3       3fa90121039c7b6e24ae985d228e0366ae15fba4   \n",
       "4       b9f0208be00bd8b337be7f12e02e3a3ce846e22b   \n",
       "...                                          ...   \n",
       "250699  da39a3ee5e6b4b0d3255bfef95601890afd80709   \n",
       "250700  da39a3ee5e6b4b0d3255bfef95601890afd80709   \n",
       "250701  da39a3ee5e6b4b0d3255bfef95601890afd80709   \n",
       "250702  ea9e102c49dbc834b1059c5e8b5dc4a017a82dff   \n",
       "250703  072159287058774aa9b450c9163129b309bc982b   \n",
       "\n",
       "                                          ssid_8  \\\n",
       "0       d839a45ebe64ab48b60a407d837fb01d3c0dfef9   \n",
       "1       b9f0208be00bd8b337be7f12e02e3a3ce846e22b   \n",
       "2       3fa90121039c7b6e24ae985d228e0366ae15fba4   \n",
       "3       d839a45ebe64ab48b60a407d837fb01d3c0dfef9   \n",
       "4       b6ffe5619e02871fcd04f61c9bb4b5c53a3f46b7   \n",
       "...                                          ...   \n",
       "250699  da39a3ee5e6b4b0d3255bfef95601890afd80709   \n",
       "250700  da39a3ee5e6b4b0d3255bfef95601890afd80709   \n",
       "250701  da39a3ee5e6b4b0d3255bfef95601890afd80709   \n",
       "250702  1f09251bbfadafb11c63c87963af25238d6bc886   \n",
       "250703  1f09251bbfadafb11c63c87963af25238d6bc886   \n",
       "\n",
       "                                          ssid_9  ...           y  \\\n",
       "0       7182afc4e5c212133d5d7d76eb3df6c24618302b  ...  156.842239   \n",
       "1       b6ffe5619e02871fcd04f61c9bb4b5c53a3f46b7  ...  156.842239   \n",
       "2       3745dc080c9396d2317f4c05d7141c1df83acf9d  ...  156.842239   \n",
       "3       d839a45ebe64ab48b60a407d837fb01d3c0dfef9  ...  156.842239   \n",
       "4       8aed75f7c344e6a3d4916750029dd4ee47c1e7c5  ...  154.629517   \n",
       "...                                          ...  ...         ...   \n",
       "250699  da39a3ee5e6b4b0d3255bfef95601890afd80709  ...  107.011642   \n",
       "250700  ea9e102c49dbc834b1059c5e8b5dc4a017a82dff  ...  111.526085   \n",
       "250701  da39a3ee5e6b4b0d3255bfef95601890afd80709  ...  111.526085   \n",
       "250702  da39a3ee5e6b4b0d3255bfef95601890afd80709  ...  116.407990   \n",
       "250703  da39a3ee5e6b4b0d3255bfef95601890afd80709  ...  116.407990   \n",
       "\n",
       "           itimestamp          ix          iy floor floor_str  \\\n",
       "0       1578466134278  113.615387  156.634796  -1.0        B1   \n",
       "1       1578466136278  112.655884  156.358200  -1.0        B1   \n",
       "2       1578466138278  111.936256  156.150772  -1.0        B1   \n",
       "3       1578466140278  110.976761  155.874176  -1.0        B1   \n",
       "4       1578466142278  110.017258  155.597580  -1.0        B1   \n",
       "...               ...         ...         ...   ...       ...   \n",
       "250699  1573892866000  128.925217  109.018059   6.0        F7   \n",
       "250700  1573892868000  130.645798  110.522873   6.0        F7   \n",
       "250701  1573892870000  132.872238  112.610954   6.0        F7   \n",
       "250702  1573892871500  133.951599  113.695824   6.0        F7   \n",
       "250703  1573892873500  136.110352  115.865555   6.0        F7   \n",
       "\n",
       "                            path                   site_id timediff itimediff  \n",
       "0       5e1580d1f4c3420006d520e4  5a0546857ecc773753327266    -1545       -45  \n",
       "1       5e1580d1f4c3420006d520e4  5a0546857ecc773753327266    -3512       -12  \n",
       "2       5e1580d1f4c3420006d520e4  5a0546857ecc773753327266    -5471        29  \n",
       "3       5e1580d1f4c3420006d520e4  5a0546857ecc773753327266    -7428        72  \n",
       "4       5e1580d1f4c3420006d520e4  5a0546857ecc773753327266     7401       105  \n",
       "...                          ...                       ...      ...       ...  \n",
       "250699  5dcfb393878f3300066c70a6  5dc8cea7659e181adb076a3f    -2224        38  \n",
       "250700  5dcfb393878f3300066c70a6  5dc8cea7659e181adb076a3f     1098       126  \n",
       "250701  5dcfb393878f3300066c70a6  5dc8cea7659e181adb076a3f     -790       238  \n",
       "250702  5dcfb393878f3300066c70a6  5dc8cea7659e181adb076a3f     2619      -187  \n",
       "250703  5dcfb393878f3300066c70a6  5dc8cea7659e181adb076a3f      730       -76  \n",
       "\n",
       "[250704 rows x 512 columns]"
      ],
      "text/html": "<div>\n<style scoped>\n    .dataframe tbody tr th:only-of-type {\n        vertical-align: middle;\n    }\n\n    .dataframe tbody tr th {\n        vertical-align: top;\n    }\n\n    .dataframe thead th {\n        text-align: right;\n    }\n</style>\n<table border=\"1\" class=\"dataframe\">\n  <thead>\n    <tr style=\"text-align: right;\">\n      <th></th>\n      <th>ssid_0</th>\n      <th>ssid_1</th>\n      <th>ssid_2</th>\n      <th>ssid_3</th>\n      <th>ssid_4</th>\n      <th>ssid_5</th>\n      <th>ssid_6</th>\n      <th>ssid_7</th>\n      <th>ssid_8</th>\n      <th>ssid_9</th>\n      <th>...</th>\n      <th>y</th>\n      <th>itimestamp</th>\n      <th>ix</th>\n      <th>iy</th>\n      <th>floor</th>\n      <th>floor_str</th>\n      <th>path</th>\n      <th>site_id</th>\n      <th>timediff</th>\n      <th>itimediff</th>\n    </tr>\n  </thead>\n  <tbody>\n    <tr>\n      <th>0</th>\n      <td>356d66c73c423be835bd5d07cb1ebdfa821d8e23</td>\n      <td>f44fa6118fed7198296c8b45b2f2684903d99620</td>\n      <td>c3513a636d1a813db081a2ffc33f297b4fefe28d</td>\n      <td>990847ae755de95a44c7b1be54e66f4e56fdc7f4</td>\n      <td>4e601619b7c7d9df8d61490ad2c134f08ea01d61</td>\n      <td>c3513a636d1a813db081a2ffc33f297b4fefe28d</td>\n      <td>5a368e0bd5050bdb4653dc39c86bee1fd2b8aeb7</td>\n      <td>b14c56d7cd73a5b026fc118c671e24dc2ba2558b</td>\n      <td>d839a45ebe64ab48b60a407d837fb01d3c0dfef9</td>\n      <td>7182afc4e5c212133d5d7d76eb3df6c24618302b</td>\n      <td>...</td>\n      <td>156.842239</td>\n      <td>1578466134278</td>\n      <td>113.615387</td>\n      <td>156.634796</td>\n      <td>-1.0</td>\n      <td>B1</td>\n      <td>5e1580d1f4c3420006d520e4</td>\n      <td>5a0546857ecc773753327266</td>\n      <td>-1545</td>\n      <td>-45</td>\n    </tr>\n    <tr>\n      <th>1</th>\n      <td>356d66c73c423be835bd5d07cb1ebdfa821d8e23</td>\n      <td>f44fa6118fed7198296c8b45b2f2684903d99620</td>\n      <td>c3513a636d1a813db081a2ffc33f297b4fefe28d</td>\n      <td>990847ae755de95a44c7b1be54e66f4e56fdc7f4</td>\n      <td>d839a45ebe64ab48b60a407d837fb01d3c0dfef9</td>\n      <td>b7e6027447eb1f81327d66cfd3adbe557aabf26c</td>\n      <td>7182afc4e5c212133d5d7d76eb3df6c24618302b</td>\n      <td>da39a3ee5e6b4b0d3255bfef95601890afd80709</td>\n      <td>b9f0208be00bd8b337be7f12e02e3a3ce846e22b</td>\n      <td>b6ffe5619e02871fcd04f61c9bb4b5c53a3f46b7</td>\n      <td>...</td>\n      <td>156.842239</td>\n      <td>1578466136278</td>\n      <td>112.655884</td>\n      <td>156.358200</td>\n      <td>-1.0</td>\n      <td>B1</td>\n      <td>5e1580d1f4c3420006d520e4</td>\n      <td>5a0546857ecc773753327266</td>\n      <td>-3512</td>\n      <td>-12</td>\n    </tr>\n    <tr>\n      <th>2</th>\n      <td>f44fa6118fed7198296c8b45b2f2684903d99620</td>\n      <td>356d66c73c423be835bd5d07cb1ebdfa821d8e23</td>\n      <td>8aed75f7c344e6a3d4916750029dd4ee47c1e7c5</td>\n      <td>c3513a636d1a813db081a2ffc33f297b4fefe28d</td>\n      <td>5a368e0bd5050bdb4653dc39c86bee1fd2b8aeb7</td>\n      <td>4e601619b7c7d9df8d61490ad2c134f08ea01d61</td>\n      <td>2ce029b3a3dea973a44bf0587be5e2b93a74e5f1</td>\n      <td>b14c56d7cd73a5b026fc118c671e24dc2ba2558b</td>\n      <td>3fa90121039c7b6e24ae985d228e0366ae15fba4</td>\n      <td>3745dc080c9396d2317f4c05d7141c1df83acf9d</td>\n      <td>...</td>\n      <td>156.842239</td>\n      <td>1578466138278</td>\n      <td>111.936256</td>\n      <td>156.150772</td>\n      <td>-1.0</td>\n      <td>B1</td>\n      <td>5e1580d1f4c3420006d520e4</td>\n      <td>5a0546857ecc773753327266</td>\n      <td>-5471</td>\n      <td>29</td>\n    </tr>\n    <tr>\n      <th>3</th>\n      <td>356d66c73c423be835bd5d07cb1ebdfa821d8e23</td>\n      <td>f44fa6118fed7198296c8b45b2f2684903d99620</td>\n      <td>5a368e0bd5050bdb4653dc39c86bee1fd2b8aeb7</td>\n      <td>990847ae755de95a44c7b1be54e66f4e56fdc7f4</td>\n      <td>da39a3ee5e6b4b0d3255bfef95601890afd80709</td>\n      <td>b6ffe5619e02871fcd04f61c9bb4b5c53a3f46b7</td>\n      <td>b7e6027447eb1f81327d66cfd3adbe557aabf26c</td>\n      <td>3fa90121039c7b6e24ae985d228e0366ae15fba4</td>\n      <td>d839a45ebe64ab48b60a407d837fb01d3c0dfef9</td>\n      <td>d839a45ebe64ab48b60a407d837fb01d3c0dfef9</td>\n      <td>...</td>\n      <td>156.842239</td>\n      <td>1578466140278</td>\n      <td>110.976761</td>\n      <td>155.874176</td>\n      <td>-1.0</td>\n      <td>B1</td>\n      <td>5e1580d1f4c3420006d520e4</td>\n      <td>5a0546857ecc773753327266</td>\n      <td>-7428</td>\n      <td>72</td>\n    </tr>\n    <tr>\n      <th>4</th>\n      <td>f44fa6118fed7198296c8b45b2f2684903d99620</td>\n      <td>356d66c73c423be835bd5d07cb1ebdfa821d8e23</td>\n      <td>990847ae755de95a44c7b1be54e66f4e56fdc7f4</td>\n      <td>c3513a636d1a813db081a2ffc33f297b4fefe28d</td>\n      <td>d839a45ebe64ab48b60a407d837fb01d3c0dfef9</td>\n      <td>b7e6027447eb1f81327d66cfd3adbe557aabf26c</td>\n      <td>7182afc4e5c212133d5d7d76eb3df6c24618302b</td>\n      <td>b9f0208be00bd8b337be7f12e02e3a3ce846e22b</td>\n      <td>b6ffe5619e02871fcd04f61c9bb4b5c53a3f46b7</td>\n      <td>8aed75f7c344e6a3d4916750029dd4ee47c1e7c5</td>\n      <td>...</td>\n      <td>154.629517</td>\n      <td>1578466142278</td>\n      <td>110.017258</td>\n      <td>155.597580</td>\n      <td>-1.0</td>\n      <td>B1</td>\n      <td>5e1580d1f4c3420006d520e4</td>\n      <td>5a0546857ecc773753327266</td>\n      <td>7401</td>\n      <td>105</td>\n    </tr>\n    <tr>\n      <th>...</th>\n      <td>...</td>\n      <td>...</td>\n      <td>...</td>\n      <td>...</td>\n      <td>...</td>\n      <td>...</td>\n      <td>...</td>\n      <td>...</td>\n      <td>...</td>\n      <td>...</td>\n      <td>...</td>\n      <td>...</td>\n      <td>...</td>\n      <td>...</td>\n      <td>...</td>\n      <td>...</td>\n      <td>...</td>\n      <td>...</td>\n      <td>...</td>\n      <td>...</td>\n      <td>...</td>\n    </tr>\n    <tr>\n      <th>250699</th>\n      <td>18336f0964fbd470a2ee7116d33b96946c633999</td>\n      <td>072159287058774aa9b450c9163129b309bc982b</td>\n      <td>18336f0964fbd470a2ee7116d33b96946c633999</td>\n      <td>1a04593c547b59266cbf0e599f87cda4f67c5ad4</td>\n      <td>040667e2fdd3a9bbb54e970c430ad6f08416c52e</td>\n      <td>da39a3ee5e6b4b0d3255bfef95601890afd80709</td>\n      <td>072159287058774aa9b450c9163129b309bc982b</td>\n      <td>da39a3ee5e6b4b0d3255bfef95601890afd80709</td>\n      <td>da39a3ee5e6b4b0d3255bfef95601890afd80709</td>\n      <td>da39a3ee5e6b4b0d3255bfef95601890afd80709</td>\n      <td>...</td>\n      <td>107.011642</td>\n      <td>1573892866000</td>\n      <td>128.925217</td>\n      <td>109.018059</td>\n      <td>6.0</td>\n      <td>F7</td>\n      <td>5dcfb393878f3300066c70a6</td>\n      <td>5dc8cea7659e181adb076a3f</td>\n      <td>-2224</td>\n      <td>38</td>\n    </tr>\n    <tr>\n      <th>250700</th>\n      <td>18336f0964fbd470a2ee7116d33b96946c633999</td>\n      <td>18336f0964fbd470a2ee7116d33b96946c633999</td>\n      <td>072159287058774aa9b450c9163129b309bc982b</td>\n      <td>072159287058774aa9b450c9163129b309bc982b</td>\n      <td>ea9e102c49dbc834b1059c5e8b5dc4a017a82dff</td>\n      <td>040667e2fdd3a9bbb54e970c430ad6f08416c52e</td>\n      <td>da39a3ee5e6b4b0d3255bfef95601890afd80709</td>\n      <td>da39a3ee5e6b4b0d3255bfef95601890afd80709</td>\n      <td>da39a3ee5e6b4b0d3255bfef95601890afd80709</td>\n      <td>ea9e102c49dbc834b1059c5e8b5dc4a017a82dff</td>\n      <td>...</td>\n      <td>111.526085</td>\n      <td>1573892868000</td>\n      <td>130.645798</td>\n      <td>110.522873</td>\n      <td>6.0</td>\n      <td>F7</td>\n      <td>5dcfb393878f3300066c70a6</td>\n      <td>5dc8cea7659e181adb076a3f</td>\n      <td>1098</td>\n      <td>126</td>\n    </tr>\n    <tr>\n      <th>250701</th>\n      <td>18336f0964fbd470a2ee7116d33b96946c633999</td>\n      <td>18336f0964fbd470a2ee7116d33b96946c633999</td>\n      <td>072159287058774aa9b450c9163129b309bc982b</td>\n      <td>ea9e102c49dbc834b1059c5e8b5dc4a017a82dff</td>\n      <td>072159287058774aa9b450c9163129b309bc982b</td>\n      <td>040667e2fdd3a9bbb54e970c430ad6f08416c52e</td>\n      <td>1f09251bbfadafb11c63c87963af25238d6bc886</td>\n      <td>da39a3ee5e6b4b0d3255bfef95601890afd80709</td>\n      <td>da39a3ee5e6b4b0d3255bfef95601890afd80709</td>\n      <td>da39a3ee5e6b4b0d3255bfef95601890afd80709</td>\n      <td>...</td>\n      <td>111.526085</td>\n      <td>1573892870000</td>\n      <td>132.872238</td>\n      <td>112.610954</td>\n      <td>6.0</td>\n      <td>F7</td>\n      <td>5dcfb393878f3300066c70a6</td>\n      <td>5dc8cea7659e181adb076a3f</td>\n      <td>-790</td>\n      <td>238</td>\n    </tr>\n    <tr>\n      <th>250702</th>\n      <td>18336f0964fbd470a2ee7116d33b96946c633999</td>\n      <td>18336f0964fbd470a2ee7116d33b96946c633999</td>\n      <td>072159287058774aa9b450c9163129b309bc982b</td>\n      <td>040667e2fdd3a9bbb54e970c430ad6f08416c52e</td>\n      <td>da39a3ee5e6b4b0d3255bfef95601890afd80709</td>\n      <td>072159287058774aa9b450c9163129b309bc982b</td>\n      <td>90ef6526fa145d95dc065edc3b3a3193406f3ee4</td>\n      <td>ea9e102c49dbc834b1059c5e8b5dc4a017a82dff</td>\n      <td>1f09251bbfadafb11c63c87963af25238d6bc886</td>\n      <td>da39a3ee5e6b4b0d3255bfef95601890afd80709</td>\n      <td>...</td>\n      <td>116.407990</td>\n      <td>1573892871500</td>\n      <td>133.951599</td>\n      <td>113.695824</td>\n      <td>6.0</td>\n      <td>F7</td>\n      <td>5dcfb393878f3300066c70a6</td>\n      <td>5dc8cea7659e181adb076a3f</td>\n      <td>2619</td>\n      <td>-187</td>\n    </tr>\n    <tr>\n      <th>250703</th>\n      <td>18336f0964fbd470a2ee7116d33b96946c633999</td>\n      <td>90ef6526fa145d95dc065edc3b3a3193406f3ee4</td>\n      <td>040667e2fdd3a9bbb54e970c430ad6f08416c52e</td>\n      <td>18336f0964fbd470a2ee7116d33b96946c633999</td>\n      <td>da39a3ee5e6b4b0d3255bfef95601890afd80709</td>\n      <td>072159287058774aa9b450c9163129b309bc982b</td>\n      <td>ea9e102c49dbc834b1059c5e8b5dc4a017a82dff</td>\n      <td>072159287058774aa9b450c9163129b309bc982b</td>\n      <td>1f09251bbfadafb11c63c87963af25238d6bc886</td>\n      <td>da39a3ee5e6b4b0d3255bfef95601890afd80709</td>\n      <td>...</td>\n      <td>116.407990</td>\n      <td>1573892873500</td>\n      <td>136.110352</td>\n      <td>115.865555</td>\n      <td>6.0</td>\n      <td>F7</td>\n      <td>5dcfb393878f3300066c70a6</td>\n      <td>5dc8cea7659e181adb076a3f</td>\n      <td>730</td>\n      <td>-76</td>\n    </tr>\n  </tbody>\n</table>\n<p>250704 rows × 512 columns</p>\n</div>"
     },
     "metadata": {},
     "execution_count": 9
    }
   ],
   "source": [
    "train_df"
   ]
  },
  {
   "cell_type": "code",
   "execution_count": 10,
   "metadata": {},
   "outputs": [
    {
     "output_type": "execute_result",
     "data": {
      "text/plain": [
       "                                         ssid_0  \\\n",
       "0      da39a3ee5e6b4b0d3255bfef95601890afd80709   \n",
       "1      da39a3ee5e6b4b0d3255bfef95601890afd80709   \n",
       "2      b6ffe5619e02871fcd04f61c9bb4b5c53a3f46b7   \n",
       "3      da39a3ee5e6b4b0d3255bfef95601890afd80709   \n",
       "4      da39a3ee5e6b4b0d3255bfef95601890afd80709   \n",
       "...                                         ...   \n",
       "10128  0f927dce74ec3475c7a39299e5bffab222ca665d   \n",
       "10129  8e69018f6343506344ab13646ccd9447fc2ffb19   \n",
       "10130  8e69018f6343506344ab13646ccd9447fc2ffb19   \n",
       "10131  5d998a8668536c4f51004c25f474117fe9555f78   \n",
       "10132  aa449fabc4dcb24836d950b5cff91f08e574c3a7   \n",
       "\n",
       "                                         ssid_1  \\\n",
       "0      b9f0208be00bd8b337be7f12e02e3a3ce846e22b   \n",
       "1      d839a45ebe64ab48b60a407d837fb01d3c0dfef9   \n",
       "2      da39a3ee5e6b4b0d3255bfef95601890afd80709   \n",
       "3      da39a3ee5e6b4b0d3255bfef95601890afd80709   \n",
       "4      da39a3ee5e6b4b0d3255bfef95601890afd80709   \n",
       "...                                         ...   \n",
       "10128  5d998a8668536c4f51004c25f474117fe9555f78   \n",
       "10129  0f927dce74ec3475c7a39299e5bffab222ca665d   \n",
       "10130  5d998a8668536c4f51004c25f474117fe9555f78   \n",
       "10131  8e69018f6343506344ab13646ccd9447fc2ffb19   \n",
       "10132  5d998a8668536c4f51004c25f474117fe9555f78   \n",
       "\n",
       "                                         ssid_2  \\\n",
       "0      ab150ecf6d972b476aeab16317bed6189d9f7cce   \n",
       "1      b6ffe5619e02871fcd04f61c9bb4b5c53a3f46b7   \n",
       "2      b7e6027447eb1f81327d66cfd3adbe557aabf26c   \n",
       "3      b9f0208be00bd8b337be7f12e02e3a3ce846e22b   \n",
       "4      da39a3ee5e6b4b0d3255bfef95601890afd80709   \n",
       "...                                         ...   \n",
       "10128  8e69018f6343506344ab13646ccd9447fc2ffb19   \n",
       "10129  efa1fe97c4b2a6c57d98de9c236a109032ceb839   \n",
       "10130  8e69018f6343506344ab13646ccd9447fc2ffb19   \n",
       "10131  5d998a8668536c4f51004c25f474117fe9555f78   \n",
       "10132  da39a3ee5e6b4b0d3255bfef95601890afd80709   \n",
       "\n",
       "                                         ssid_3  \\\n",
       "0      b6ffe5619e02871fcd04f61c9bb4b5c53a3f46b7   \n",
       "1      b7e6027447eb1f81327d66cfd3adbe557aabf26c   \n",
       "2      d839a45ebe64ab48b60a407d837fb01d3c0dfef9   \n",
       "3      d839a45ebe64ab48b60a407d837fb01d3c0dfef9   \n",
       "4      7182afc4e5c212133d5d7d76eb3df6c24618302b   \n",
       "...                                         ...   \n",
       "10128  efa1fe97c4b2a6c57d98de9c236a109032ceb839   \n",
       "10129  da39a3ee5e6b4b0d3255bfef95601890afd80709   \n",
       "10130  5d998a8668536c4f51004c25f474117fe9555f78   \n",
       "10131  8e69018f6343506344ab13646ccd9447fc2ffb19   \n",
       "10132  da39a3ee5e6b4b0d3255bfef95601890afd80709   \n",
       "\n",
       "                                         ssid_4  \\\n",
       "0      da39a3ee5e6b4b0d3255bfef95601890afd80709   \n",
       "1      d839a45ebe64ab48b60a407d837fb01d3c0dfef9   \n",
       "2      7182afc4e5c212133d5d7d76eb3df6c24618302b   \n",
       "3      b6ffe5619e02871fcd04f61c9bb4b5c53a3f46b7   \n",
       "4      b9f0208be00bd8b337be7f12e02e3a3ce846e22b   \n",
       "...                                         ...   \n",
       "10128  da39a3ee5e6b4b0d3255bfef95601890afd80709   \n",
       "10129  5d998a8668536c4f51004c25f474117fe9555f78   \n",
       "10130  c72257cf75d6a411225948bbc4e37ad554e7beda   \n",
       "10131  da39a3ee5e6b4b0d3255bfef95601890afd80709   \n",
       "10132  6381b3137285875eda5bc77d9b8cc7650f0f5d7d   \n",
       "\n",
       "                                         ssid_5  \\\n",
       "0      b7e6027447eb1f81327d66cfd3adbe557aabf26c   \n",
       "1      7182afc4e5c212133d5d7d76eb3df6c24618302b   \n",
       "2      b9f0208be00bd8b337be7f12e02e3a3ce846e22b   \n",
       "3      b7e6027447eb1f81327d66cfd3adbe557aabf26c   \n",
       "4      b6ffe5619e02871fcd04f61c9bb4b5c53a3f46b7   \n",
       "...                                         ...   \n",
       "10128  5d998a8668536c4f51004c25f474117fe9555f78   \n",
       "10129  5d998a8668536c4f51004c25f474117fe9555f78   \n",
       "10130  da39a3ee5e6b4b0d3255bfef95601890afd80709   \n",
       "10131  aa449fabc4dcb24836d950b5cff91f08e574c3a7   \n",
       "10132  efa1fe97c4b2a6c57d98de9c236a109032ceb839   \n",
       "\n",
       "                                         ssid_6  \\\n",
       "0      d839a45ebe64ab48b60a407d837fb01d3c0dfef9   \n",
       "1      b9f0208be00bd8b337be7f12e02e3a3ce846e22b   \n",
       "2      da39a3ee5e6b4b0d3255bfef95601890afd80709   \n",
       "3      b7e6027447eb1f81327d66cfd3adbe557aabf26c   \n",
       "4      b7e6027447eb1f81327d66cfd3adbe557aabf26c   \n",
       "...                                         ...   \n",
       "10128  c72257cf75d6a411225948bbc4e37ad554e7beda   \n",
       "10129  da39a3ee5e6b4b0d3255bfef95601890afd80709   \n",
       "10130  5d998a8668536c4f51004c25f474117fe9555f78   \n",
       "10131  c72257cf75d6a411225948bbc4e37ad554e7beda   \n",
       "10132  0eb4ecd03a3128e62bdff60e6f686d88e783441e   \n",
       "\n",
       "                                         ssid_7  \\\n",
       "0      7182afc4e5c212133d5d7d76eb3df6c24618302b   \n",
       "1      7182afc4e5c212133d5d7d76eb3df6c24618302b   \n",
       "2      b9f0208be00bd8b337be7f12e02e3a3ce846e22b   \n",
       "3      7182afc4e5c212133d5d7d76eb3df6c24618302b   \n",
       "4      26571eb257b6a34b6beb93c05768e751d19279a6   \n",
       "...                                         ...   \n",
       "10128  da39a3ee5e6b4b0d3255bfef95601890afd80709   \n",
       "10129  8e69018f6343506344ab13646ccd9447fc2ffb19   \n",
       "10130  da39a3ee5e6b4b0d3255bfef95601890afd80709   \n",
       "10131  da39a3ee5e6b4b0d3255bfef95601890afd80709   \n",
       "10132  8e69018f6343506344ab13646ccd9447fc2ffb19   \n",
       "\n",
       "                                         ssid_8  \\\n",
       "0      da39a3ee5e6b4b0d3255bfef95601890afd80709   \n",
       "1      b7e6027447eb1f81327d66cfd3adbe557aabf26c   \n",
       "2      b6ffe5619e02871fcd04f61c9bb4b5c53a3f46b7   \n",
       "3      5731b8e08abc69d4c4d685c58164059207c93310   \n",
       "4      d839a45ebe64ab48b60a407d837fb01d3c0dfef9   \n",
       "...                                         ...   \n",
       "10128  5d998a8668536c4f51004c25f474117fe9555f78   \n",
       "10129  5d998a8668536c4f51004c25f474117fe9555f78   \n",
       "10130  5d998a8668536c4f51004c25f474117fe9555f78   \n",
       "10131  efa1fe97c4b2a6c57d98de9c236a109032ceb839   \n",
       "10132  0f927dce74ec3475c7a39299e5bffab222ca665d   \n",
       "\n",
       "                                         ssid_9  ... timediff_95 timediff_96  \\\n",
       "0      01e78c97f2c04cdbc7c4159158bb125a9bb558ff  ...      1749.0      1374.0   \n",
       "1      b6ffe5619e02871fcd04f61c9bb4b5c53a3f46b7  ...     18272.0       354.0   \n",
       "2      d839a45ebe64ab48b60a407d837fb01d3c0dfef9  ...      1701.0      1702.0   \n",
       "3      d839a45ebe64ab48b60a407d837fb01d3c0dfef9  ...        19.0        19.0   \n",
       "4      d839a45ebe64ab48b60a407d837fb01d3c0dfef9  ...      2013.0      1095.0   \n",
       "...                                         ...  ...         ...         ...   \n",
       "10128  da39a3ee5e6b4b0d3255bfef95601890afd80709  ...      3788.0      7589.0   \n",
       "10129  0eb4ecd03a3128e62bdff60e6f686d88e783441e  ...      8220.0      3158.0   \n",
       "10130  5d998a8668536c4f51004c25f474117fe9555f78  ...       515.0       388.0   \n",
       "10131  6381b3137285875eda5bc77d9b8cc7650f0f5d7d  ...       478.0       478.0   \n",
       "10132  da39a3ee5e6b4b0d3255bfef95601890afd80709  ...      1360.0      1844.0   \n",
       "\n",
       "      timediff_97 timediff_98 timediff_99      timestamp  \\\n",
       "0          1375.0      9179.0     15614.0  1578474563646   \n",
       "1           353.0       359.0       353.0  1578474572654   \n",
       "2          1702.0      9442.0      9441.0  1578474578963   \n",
       "3           399.0       704.0      8322.0  1578474582400   \n",
       "4          1091.0       645.0       647.0  1578474585965   \n",
       "...           ...         ...         ...            ...   \n",
       "10128      7774.0      3517.0      1409.0  1573731143256   \n",
       "10129      2966.0       533.0      3074.0  1573731146426   \n",
       "10130      9308.0      7774.0       357.0  1573731151563   \n",
       "10131       212.0      8588.0       479.0  1573731157567   \n",
       "10132      3331.0      3760.0      1839.0  1573731161115   \n",
       "\n",
       "                           path                   site_id timediff  \\\n",
       "0      046cfa46be49fc10834815c6  5a0546857ecc773753327266    -2331   \n",
       "1      046cfa46be49fc10834815c6  5a0546857ecc773753327266     -491   \n",
       "2      046cfa46be49fc10834815c6  5a0546857ecc773753327266      612   \n",
       "3      046cfa46be49fc10834815c6  5a0546857ecc773753327266     -824   \n",
       "4      046cfa46be49fc10834815c6  5a0546857ecc773753327266      254   \n",
       "...                         ...                       ...      ...   \n",
       "10128  fd64de8c4a2fc5ebb0e9f412  5dc8cea7659e181adb076a3f      925   \n",
       "10129  fd64de8c4a2fc5ebb0e9f412  5dc8cea7659e181adb076a3f      123   \n",
       "10130  fd64de8c4a2fc5ebb0e9f412  5dc8cea7659e181adb076a3f     -625   \n",
       "10131  fd64de8c4a2fc5ebb0e9f412  5dc8cea7659e181adb076a3f     -528   \n",
       "10132  fd64de8c4a2fc5ebb0e9f412  5dc8cea7659e181adb076a3f     1019   \n",
       "\n",
       "                                     site_path_timestamp  \n",
       "0      5a0546857ecc773753327266_046cfa46be49fc1083481...  \n",
       "1      5a0546857ecc773753327266_046cfa46be49fc1083481...  \n",
       "2      5a0546857ecc773753327266_046cfa46be49fc1083481...  \n",
       "3      5a0546857ecc773753327266_046cfa46be49fc1083481...  \n",
       "4      5a0546857ecc773753327266_046cfa46be49fc1083481...  \n",
       "...                                                  ...  \n",
       "10128  5dc8cea7659e181adb076a3f_fd64de8c4a2fc5ebb0e9f...  \n",
       "10129  5dc8cea7659e181adb076a3f_fd64de8c4a2fc5ebb0e9f...  \n",
       "10130  5dc8cea7659e181adb076a3f_fd64de8c4a2fc5ebb0e9f...  \n",
       "10131  5dc8cea7659e181adb076a3f_fd64de8c4a2fc5ebb0e9f...  \n",
       "10132  5dc8cea7659e181adb076a3f_fd64de8c4a2fc5ebb0e9f...  \n",
       "\n",
       "[10133 rows x 505 columns]"
      ],
      "text/html": "<div>\n<style scoped>\n    .dataframe tbody tr th:only-of-type {\n        vertical-align: middle;\n    }\n\n    .dataframe tbody tr th {\n        vertical-align: top;\n    }\n\n    .dataframe thead th {\n        text-align: right;\n    }\n</style>\n<table border=\"1\" class=\"dataframe\">\n  <thead>\n    <tr style=\"text-align: right;\">\n      <th></th>\n      <th>ssid_0</th>\n      <th>ssid_1</th>\n      <th>ssid_2</th>\n      <th>ssid_3</th>\n      <th>ssid_4</th>\n      <th>ssid_5</th>\n      <th>ssid_6</th>\n      <th>ssid_7</th>\n      <th>ssid_8</th>\n      <th>ssid_9</th>\n      <th>...</th>\n      <th>timediff_95</th>\n      <th>timediff_96</th>\n      <th>timediff_97</th>\n      <th>timediff_98</th>\n      <th>timediff_99</th>\n      <th>timestamp</th>\n      <th>path</th>\n      <th>site_id</th>\n      <th>timediff</th>\n      <th>site_path_timestamp</th>\n    </tr>\n  </thead>\n  <tbody>\n    <tr>\n      <th>0</th>\n      <td>da39a3ee5e6b4b0d3255bfef95601890afd80709</td>\n      <td>b9f0208be00bd8b337be7f12e02e3a3ce846e22b</td>\n      <td>ab150ecf6d972b476aeab16317bed6189d9f7cce</td>\n      <td>b6ffe5619e02871fcd04f61c9bb4b5c53a3f46b7</td>\n      <td>da39a3ee5e6b4b0d3255bfef95601890afd80709</td>\n      <td>b7e6027447eb1f81327d66cfd3adbe557aabf26c</td>\n      <td>d839a45ebe64ab48b60a407d837fb01d3c0dfef9</td>\n      <td>7182afc4e5c212133d5d7d76eb3df6c24618302b</td>\n      <td>da39a3ee5e6b4b0d3255bfef95601890afd80709</td>\n      <td>01e78c97f2c04cdbc7c4159158bb125a9bb558ff</td>\n      <td>...</td>\n      <td>1749.0</td>\n      <td>1374.0</td>\n      <td>1375.0</td>\n      <td>9179.0</td>\n      <td>15614.0</td>\n      <td>1578474563646</td>\n      <td>046cfa46be49fc10834815c6</td>\n      <td>5a0546857ecc773753327266</td>\n      <td>-2331</td>\n      <td>5a0546857ecc773753327266_046cfa46be49fc1083481...</td>\n    </tr>\n    <tr>\n      <th>1</th>\n      <td>da39a3ee5e6b4b0d3255bfef95601890afd80709</td>\n      <td>d839a45ebe64ab48b60a407d837fb01d3c0dfef9</td>\n      <td>b6ffe5619e02871fcd04f61c9bb4b5c53a3f46b7</td>\n      <td>b7e6027447eb1f81327d66cfd3adbe557aabf26c</td>\n      <td>d839a45ebe64ab48b60a407d837fb01d3c0dfef9</td>\n      <td>7182afc4e5c212133d5d7d76eb3df6c24618302b</td>\n      <td>b9f0208be00bd8b337be7f12e02e3a3ce846e22b</td>\n      <td>7182afc4e5c212133d5d7d76eb3df6c24618302b</td>\n      <td>b7e6027447eb1f81327d66cfd3adbe557aabf26c</td>\n      <td>b6ffe5619e02871fcd04f61c9bb4b5c53a3f46b7</td>\n      <td>...</td>\n      <td>18272.0</td>\n      <td>354.0</td>\n      <td>353.0</td>\n      <td>359.0</td>\n      <td>353.0</td>\n      <td>1578474572654</td>\n      <td>046cfa46be49fc10834815c6</td>\n      <td>5a0546857ecc773753327266</td>\n      <td>-491</td>\n      <td>5a0546857ecc773753327266_046cfa46be49fc1083481...</td>\n    </tr>\n    <tr>\n      <th>2</th>\n      <td>b6ffe5619e02871fcd04f61c9bb4b5c53a3f46b7</td>\n      <td>da39a3ee5e6b4b0d3255bfef95601890afd80709</td>\n      <td>b7e6027447eb1f81327d66cfd3adbe557aabf26c</td>\n      <td>d839a45ebe64ab48b60a407d837fb01d3c0dfef9</td>\n      <td>7182afc4e5c212133d5d7d76eb3df6c24618302b</td>\n      <td>b9f0208be00bd8b337be7f12e02e3a3ce846e22b</td>\n      <td>da39a3ee5e6b4b0d3255bfef95601890afd80709</td>\n      <td>b9f0208be00bd8b337be7f12e02e3a3ce846e22b</td>\n      <td>b6ffe5619e02871fcd04f61c9bb4b5c53a3f46b7</td>\n      <td>d839a45ebe64ab48b60a407d837fb01d3c0dfef9</td>\n      <td>...</td>\n      <td>1701.0</td>\n      <td>1702.0</td>\n      <td>1702.0</td>\n      <td>9442.0</td>\n      <td>9441.0</td>\n      <td>1578474578963</td>\n      <td>046cfa46be49fc10834815c6</td>\n      <td>5a0546857ecc773753327266</td>\n      <td>612</td>\n      <td>5a0546857ecc773753327266_046cfa46be49fc1083481...</td>\n    </tr>\n    <tr>\n      <th>3</th>\n      <td>da39a3ee5e6b4b0d3255bfef95601890afd80709</td>\n      <td>da39a3ee5e6b4b0d3255bfef95601890afd80709</td>\n      <td>b9f0208be00bd8b337be7f12e02e3a3ce846e22b</td>\n      <td>d839a45ebe64ab48b60a407d837fb01d3c0dfef9</td>\n      <td>b6ffe5619e02871fcd04f61c9bb4b5c53a3f46b7</td>\n      <td>b7e6027447eb1f81327d66cfd3adbe557aabf26c</td>\n      <td>b7e6027447eb1f81327d66cfd3adbe557aabf26c</td>\n      <td>7182afc4e5c212133d5d7d76eb3df6c24618302b</td>\n      <td>5731b8e08abc69d4c4d685c58164059207c93310</td>\n      <td>d839a45ebe64ab48b60a407d837fb01d3c0dfef9</td>\n      <td>...</td>\n      <td>19.0</td>\n      <td>19.0</td>\n      <td>399.0</td>\n      <td>704.0</td>\n      <td>8322.0</td>\n      <td>1578474582400</td>\n      <td>046cfa46be49fc10834815c6</td>\n      <td>5a0546857ecc773753327266</td>\n      <td>-824</td>\n      <td>5a0546857ecc773753327266_046cfa46be49fc1083481...</td>\n    </tr>\n    <tr>\n      <th>4</th>\n      <td>da39a3ee5e6b4b0d3255bfef95601890afd80709</td>\n      <td>da39a3ee5e6b4b0d3255bfef95601890afd80709</td>\n      <td>da39a3ee5e6b4b0d3255bfef95601890afd80709</td>\n      <td>7182afc4e5c212133d5d7d76eb3df6c24618302b</td>\n      <td>b9f0208be00bd8b337be7f12e02e3a3ce846e22b</td>\n      <td>b6ffe5619e02871fcd04f61c9bb4b5c53a3f46b7</td>\n      <td>b7e6027447eb1f81327d66cfd3adbe557aabf26c</td>\n      <td>26571eb257b6a34b6beb93c05768e751d19279a6</td>\n      <td>d839a45ebe64ab48b60a407d837fb01d3c0dfef9</td>\n      <td>d839a45ebe64ab48b60a407d837fb01d3c0dfef9</td>\n      <td>...</td>\n      <td>2013.0</td>\n      <td>1095.0</td>\n      <td>1091.0</td>\n      <td>645.0</td>\n      <td>647.0</td>\n      <td>1578474585965</td>\n      <td>046cfa46be49fc10834815c6</td>\n      <td>5a0546857ecc773753327266</td>\n      <td>254</td>\n      <td>5a0546857ecc773753327266_046cfa46be49fc1083481...</td>\n    </tr>\n    <tr>\n      <th>...</th>\n      <td>...</td>\n      <td>...</td>\n      <td>...</td>\n      <td>...</td>\n      <td>...</td>\n      <td>...</td>\n      <td>...</td>\n      <td>...</td>\n      <td>...</td>\n      <td>...</td>\n      <td>...</td>\n      <td>...</td>\n      <td>...</td>\n      <td>...</td>\n      <td>...</td>\n      <td>...</td>\n      <td>...</td>\n      <td>...</td>\n      <td>...</td>\n      <td>...</td>\n      <td>...</td>\n    </tr>\n    <tr>\n      <th>10128</th>\n      <td>0f927dce74ec3475c7a39299e5bffab222ca665d</td>\n      <td>5d998a8668536c4f51004c25f474117fe9555f78</td>\n      <td>8e69018f6343506344ab13646ccd9447fc2ffb19</td>\n      <td>efa1fe97c4b2a6c57d98de9c236a109032ceb839</td>\n      <td>da39a3ee5e6b4b0d3255bfef95601890afd80709</td>\n      <td>5d998a8668536c4f51004c25f474117fe9555f78</td>\n      <td>c72257cf75d6a411225948bbc4e37ad554e7beda</td>\n      <td>da39a3ee5e6b4b0d3255bfef95601890afd80709</td>\n      <td>5d998a8668536c4f51004c25f474117fe9555f78</td>\n      <td>da39a3ee5e6b4b0d3255bfef95601890afd80709</td>\n      <td>...</td>\n      <td>3788.0</td>\n      <td>7589.0</td>\n      <td>7774.0</td>\n      <td>3517.0</td>\n      <td>1409.0</td>\n      <td>1573731143256</td>\n      <td>fd64de8c4a2fc5ebb0e9f412</td>\n      <td>5dc8cea7659e181adb076a3f</td>\n      <td>925</td>\n      <td>5dc8cea7659e181adb076a3f_fd64de8c4a2fc5ebb0e9f...</td>\n    </tr>\n    <tr>\n      <th>10129</th>\n      <td>8e69018f6343506344ab13646ccd9447fc2ffb19</td>\n      <td>0f927dce74ec3475c7a39299e5bffab222ca665d</td>\n      <td>efa1fe97c4b2a6c57d98de9c236a109032ceb839</td>\n      <td>da39a3ee5e6b4b0d3255bfef95601890afd80709</td>\n      <td>5d998a8668536c4f51004c25f474117fe9555f78</td>\n      <td>5d998a8668536c4f51004c25f474117fe9555f78</td>\n      <td>da39a3ee5e6b4b0d3255bfef95601890afd80709</td>\n      <td>8e69018f6343506344ab13646ccd9447fc2ffb19</td>\n      <td>5d998a8668536c4f51004c25f474117fe9555f78</td>\n      <td>0eb4ecd03a3128e62bdff60e6f686d88e783441e</td>\n      <td>...</td>\n      <td>8220.0</td>\n      <td>3158.0</td>\n      <td>2966.0</td>\n      <td>533.0</td>\n      <td>3074.0</td>\n      <td>1573731146426</td>\n      <td>fd64de8c4a2fc5ebb0e9f412</td>\n      <td>5dc8cea7659e181adb076a3f</td>\n      <td>123</td>\n      <td>5dc8cea7659e181adb076a3f_fd64de8c4a2fc5ebb0e9f...</td>\n    </tr>\n    <tr>\n      <th>10130</th>\n      <td>8e69018f6343506344ab13646ccd9447fc2ffb19</td>\n      <td>5d998a8668536c4f51004c25f474117fe9555f78</td>\n      <td>8e69018f6343506344ab13646ccd9447fc2ffb19</td>\n      <td>5d998a8668536c4f51004c25f474117fe9555f78</td>\n      <td>c72257cf75d6a411225948bbc4e37ad554e7beda</td>\n      <td>da39a3ee5e6b4b0d3255bfef95601890afd80709</td>\n      <td>5d998a8668536c4f51004c25f474117fe9555f78</td>\n      <td>da39a3ee5e6b4b0d3255bfef95601890afd80709</td>\n      <td>5d998a8668536c4f51004c25f474117fe9555f78</td>\n      <td>5d998a8668536c4f51004c25f474117fe9555f78</td>\n      <td>...</td>\n      <td>515.0</td>\n      <td>388.0</td>\n      <td>9308.0</td>\n      <td>7774.0</td>\n      <td>357.0</td>\n      <td>1573731151563</td>\n      <td>fd64de8c4a2fc5ebb0e9f412</td>\n      <td>5dc8cea7659e181adb076a3f</td>\n      <td>-625</td>\n      <td>5dc8cea7659e181adb076a3f_fd64de8c4a2fc5ebb0e9f...</td>\n    </tr>\n    <tr>\n      <th>10131</th>\n      <td>5d998a8668536c4f51004c25f474117fe9555f78</td>\n      <td>8e69018f6343506344ab13646ccd9447fc2ffb19</td>\n      <td>5d998a8668536c4f51004c25f474117fe9555f78</td>\n      <td>8e69018f6343506344ab13646ccd9447fc2ffb19</td>\n      <td>da39a3ee5e6b4b0d3255bfef95601890afd80709</td>\n      <td>aa449fabc4dcb24836d950b5cff91f08e574c3a7</td>\n      <td>c72257cf75d6a411225948bbc4e37ad554e7beda</td>\n      <td>da39a3ee5e6b4b0d3255bfef95601890afd80709</td>\n      <td>efa1fe97c4b2a6c57d98de9c236a109032ceb839</td>\n      <td>6381b3137285875eda5bc77d9b8cc7650f0f5d7d</td>\n      <td>...</td>\n      <td>478.0</td>\n      <td>478.0</td>\n      <td>212.0</td>\n      <td>8588.0</td>\n      <td>479.0</td>\n      <td>1573731157567</td>\n      <td>fd64de8c4a2fc5ebb0e9f412</td>\n      <td>5dc8cea7659e181adb076a3f</td>\n      <td>-528</td>\n      <td>5dc8cea7659e181adb076a3f_fd64de8c4a2fc5ebb0e9f...</td>\n    </tr>\n    <tr>\n      <th>10132</th>\n      <td>aa449fabc4dcb24836d950b5cff91f08e574c3a7</td>\n      <td>5d998a8668536c4f51004c25f474117fe9555f78</td>\n      <td>da39a3ee5e6b4b0d3255bfef95601890afd80709</td>\n      <td>da39a3ee5e6b4b0d3255bfef95601890afd80709</td>\n      <td>6381b3137285875eda5bc77d9b8cc7650f0f5d7d</td>\n      <td>efa1fe97c4b2a6c57d98de9c236a109032ceb839</td>\n      <td>0eb4ecd03a3128e62bdff60e6f686d88e783441e</td>\n      <td>8e69018f6343506344ab13646ccd9447fc2ffb19</td>\n      <td>0f927dce74ec3475c7a39299e5bffab222ca665d</td>\n      <td>da39a3ee5e6b4b0d3255bfef95601890afd80709</td>\n      <td>...</td>\n      <td>1360.0</td>\n      <td>1844.0</td>\n      <td>3331.0</td>\n      <td>3760.0</td>\n      <td>1839.0</td>\n      <td>1573731161115</td>\n      <td>fd64de8c4a2fc5ebb0e9f412</td>\n      <td>5dc8cea7659e181adb076a3f</td>\n      <td>1019</td>\n      <td>5dc8cea7659e181adb076a3f_fd64de8c4a2fc5ebb0e9f...</td>\n    </tr>\n  </tbody>\n</table>\n<p>10133 rows × 505 columns</p>\n</div>"
     },
     "metadata": {},
     "execution_count": 10
    }
   ],
   "source": [
    "test_df"
   ]
  },
  {
   "cell_type": "code",
   "execution_count": 11,
   "metadata": {},
   "outputs": [],
   "source": [
    "# training target features\n",
    "NUM_FEATS = 80\n",
    "BSSID_FEATS = [f'bssid_{i}' for i in range(NUM_FEATS)]\n",
    "RSSI_FEATS  = [f'rssi_{i}' for i in range(NUM_FEATS)]"
   ]
  },
  {
   "cell_type": "markdown",
   "metadata": {},
   "source": [
    "bssid_NはN個目のBSSIDを示しておりRSSI値が大きい順に番号が振られている。\n",
    "100個しかない"
   ]
  },
  {
   "cell_type": "code",
   "execution_count": 12,
   "metadata": {},
   "outputs": [
    {
     "output_type": "stream",
     "name": "stdout",
     "text": [
      "BSSID TYPES(train): 61255\nBSSID TYPES(test): 30658\nBSSID TYPES(all): 61321\n"
     ]
    }
   ],
   "source": [
    "# get numbers of bssids to embed them in a layer\n",
    "\n",
    "# train\n",
    "wifi_bssids = []\n",
    "# bssidを列ごとにリストに入れていく\n",
    "for i in range(100, 200):\n",
    "    wifi_bssids.extend(train_df.iloc[:,i].values.tolist())\n",
    "wifi_bssids = list(set(wifi_bssids))\n",
    "\n",
    "train_wifi_bssids_size = len(wifi_bssids)\n",
    "print(f'BSSID TYPES(train): {train_wifi_bssids_size}')\n",
    "\n",
    "# test\n",
    "wifi_bssids_test = []\n",
    "for i in range(100, 200):\n",
    "    wifi_bssids_test.extend(test_df.iloc[:,i].values.tolist())\n",
    "wifi_bssids_test = list(set(wifi_bssids_test))\n",
    "\n",
    "test_wifi_bssids_size = len(wifi_bssids_test)\n",
    "print(f'BSSID TYPES(test): {test_wifi_bssids_size}')\n",
    "\n",
    "\n",
    "wifi_bssids.extend(wifi_bssids_test)\n",
    "wifi_bssids = list(set(wifi_bssids))\n",
    "wifi_bssids_size = len(wifi_bssids)\n",
    "print(f'BSSID TYPES(all): {wifi_bssids_size}')\n"
   ]
  },
  {
   "cell_type": "code",
   "execution_count": 13,
   "metadata": {},
   "outputs": [
    {
     "output_type": "stream",
     "name": "stdout",
     "text": [
      "RSSI TYPES(train): 97\nRSSI TYPES(test): 77\nRSSI TYPES(all): 174\n"
     ]
    }
   ],
   "source": [
    "# get numbers of bssids to embed them in a layer\n",
    "\n",
    "# train\n",
    "rssi_bssids = []\n",
    "# bssidを列ごとにリストに入れていく\n",
    "for i in RSSI_FEATS:\n",
    "    rssi_bssids.extend(train_df.loc[:,i].values.tolist())\n",
    "rssi_bssids = list(set(rssi_bssids))\n",
    "\n",
    "train_rssi_bssids_size = len(rssi_bssids)\n",
    "print(f'RSSI TYPES(train): {train_rssi_bssids_size}')\n",
    "\n",
    "# test\n",
    "rssi_bssids_test = []\n",
    "for i in RSSI_FEATS:\n",
    "    rssi_bssids_test.extend(test_df.loc[:,i].values.tolist())\n",
    "rssi_bssids_test = list(set(rssi_bssids_test))\n",
    "\n",
    "test_rssi_bssids_size = len(rssi_bssids_test)\n",
    "print(f'RSSI TYPES(test): {test_rssi_bssids_size}')\n",
    "\n",
    "\n",
    "rssi_bssids.extend(rssi_bssids_test)\n",
    "rssi_bssids_size = len(rssi_bssids)\n",
    "print(f'RSSI TYPES(all): {rssi_bssids_size}')"
   ]
  },
  {
   "cell_type": "markdown",
   "metadata": {},
   "source": [
    "## preprocessing"
   ]
  },
  {
   "cell_type": "code",
   "execution_count": 14,
   "metadata": {},
   "outputs": [],
   "source": [
    "# preprocess\n",
    "\n",
    "le = LabelEncoder()\n",
    "le.fit(wifi_bssids)\n",
    "le_site = LabelEncoder()\n",
    "le_site.fit(train_df['site_id'])\n",
    "le_rssi = LabelEncoder()\n",
    "le_rssi.fit(rssi_bssids)\n",
    "\n",
    "ss = StandardScaler()\n",
    "ss.fit(train_df.loc[:,RSSI_FEATS])\n",
    "\n",
    "\n",
    "def preprocess(input_df, le=le, le_site=le_site, ss=ss):\n",
    "    output_df = input_df.copy()\n",
    "    # RSSIの正規化\n",
    "    output_df.loc[:,RSSI_FEATS] = ss.transform(input_df.loc[:,RSSI_FEATS])\n",
    "\n",
    "    # BSSIDのLE(1からふる)\n",
    "    for i in BSSID_FEATS:\n",
    "        output_df.loc[:,i] = le.transform(input_df.loc[:,i])\n",
    "        # output_df.loc[:,i] = output_df.loc[:,i] + 1  # 0からではなく1から番号を振りたいため なぜ？ embeddingのpadding用のダミー変数？\n",
    "    for i in RSSI_FEATS:\n",
    "        output_df.loc[:,i] = le_rssi.transform(input_df.loc[:,i])\n",
    "\n",
    "    # site_idのLE\n",
    "    output_df['site_id_str'] = input_df['site_id'].copy()\n",
    "    output_df.loc[:, 'site_id'] = le_site.transform(input_df.loc[:, 'site_id'])\n",
    "\n",
    "    # なぜ２重でやる？\n",
    "    # output_df.loc[:,RSSI_FEATS] = ss.transform(output_df.loc[:,RSSI_FEATS])\n",
    "    return output_df\n",
    "\n",
    "train = preprocess(train_df)\n",
    "test = preprocess(test_df)"
   ]
  },
  {
   "cell_type": "code",
   "execution_count": 15,
   "metadata": {},
   "outputs": [
    {
     "output_type": "execute_result",
     "data": {
      "text/plain": [
       "24"
      ]
     },
     "metadata": {},
     "execution_count": 15
    }
   ],
   "source": [
    "site_count = len(train['site_id'].unique())\n",
    "site_count"
   ]
  },
  {
   "cell_type": "markdown",
   "metadata": {},
   "source": [
    "## PyTorch model\n",
    "- embedding layerが重要  "
   ]
  },
  {
   "cell_type": "code",
   "execution_count": 16,
   "metadata": {},
   "outputs": [],
   "source": [
    "# dataset\n",
    "from torch.utils.data import Dataset, DataLoader\n",
    "class IndoorDataset(Dataset):\n",
    "    def __init__(self, df, phase='train'):\n",
    "        self.df = df\n",
    "        self.phase = phase\n",
    "        self.bssid_feats = df[BSSID_FEATS].values.astype(int)\n",
    "        self.rssi_feats = df[RSSI_FEATS].values.astype(np.float32)\n",
    "        self.site_id = df['site_id'].values.astype(int)\n",
    "\n",
    "        if phase in ['train', 'valid']:\n",
    "            self.xy = df[['x', 'y']].values.astype(np.float32)\n",
    "            self.ixy = df[['ix', 'iy']].values.astype(np.float32)\n",
    "            self.floor = df['floor'].values.astype(np.float32)\n",
    "            timediff = df['timediff'].astype(np.float32).abs().values\n",
    "            self.weight = 1- (timediff/np.max(timediff))  # lossにかける重み。timediffが大きいほど小さくなる\n",
    "        \n",
    "    def __len__(self):\n",
    "        return self.df.shape[0]\n",
    "\n",
    "    def __getitem__(self, idx):\n",
    "    \n",
    "        concat_feat = np.empty(2 * NUM_FEATS).astype(int)\n",
    "        concat_feat[0::2] = self.bssid_feats[idx]\n",
    "        concat_feat[1::2] = self.rssi_feats[idx]\n",
    "        \n",
    "        feature = {\n",
    "            'RSSI_BSSID_FEATS':concat_feat,\n",
    "            'site_id':self.site_id[idx]\n",
    "        }\n",
    "        if self.phase in ['train', 'valid']:\n",
    "            target = {\n",
    "                'xy':self.xy[idx],\n",
    "                'ixy':self.ixy[idx],\n",
    "                'floor':self.floor[idx],\n",
    "                'weight': self.weight[idx]\n",
    "            }\n",
    "        else:\n",
    "            target = {}\n",
    "        return feature, target"
   ]
  },
  {
   "cell_type": "code",
   "execution_count": 17,
   "metadata": {},
   "outputs": [],
   "source": [
    "import torch\n",
    "from torch import nn\n",
    "\n",
    "class LSTMModel(nn.Module):\n",
    "    def __init__(self, wifi_bssids_size, site_count=24, embedding_dim=64):\n",
    "        super(LSTMModel, self).__init__()\n",
    "        # bssid\n",
    "        # ->64次元に圧縮後sequence化にする\n",
    "        # wifi_bssids_sizeが辞書の数を表す\n",
    "        self.embedding_layer1 = nn.Sequential(\n",
    "            nn.Embedding(wifi_bssids_size, embedding_dim),\n",
    "            nn.Flatten(start_dim=-2)            \n",
    "        )\n",
    "        # site\n",
    "        # ->2次元に圧縮後sequence化する\n",
    "        # site_countが辞書の数を表す\n",
    "        self.embedding_layer2 = nn.Sequential(\n",
    "            nn.Embedding(site_count, 64),\n",
    "            nn.Flatten(start_dim=-1)           \n",
    "        )\n",
    "\n",
    "        # bssid, site, rssiの出力size\n",
    "        # feature_size = 2 + (2 * NUM_FEATS * embedding_dim)\n",
    "        feature_size = 64 + (2 * NUM_FEATS * 64)\n",
    "        self.linear_layer2 = nn.Sequential(\n",
    "            nn.BatchNorm1d(feature_size),\n",
    "            nn.Dropout(0.3),\n",
    "            nn.Linear(feature_size, 256),\n",
    "            nn.ReLU()\n",
    "        )\n",
    "\n",
    "        self.batch_norm1 = nn.BatchNorm1d(1)\n",
    "        self.lstm1 = nn.LSTM(input_size=256,hidden_size=128,dropout=0.3, batch_first=True)\n",
    "        self.lstm2 = nn.LSTM(input_size=128,hidden_size=16,dropout=0.1, batch_first=True)\n",
    "\n",
    "        self.fc_xy = nn.Linear(16, 2)\n",
    "        self.fc_floor = nn.Linear(16, 1)\n",
    "\n",
    "    \n",
    "    def forward(self, x):\n",
    "        # input embedding\n",
    "        batch_size = x[\"site_id\"].shape[0]\n",
    "        x_rssi_bssid = self.embedding_layer1(x['RSSI_BSSID_FEATS'])\n",
    "        x_site_id = self.embedding_layer2(x['site_id'])\n",
    "        # x_rssi = self.linear_layer1(x['RSSI_FEATS'])\n",
    "        x = torch.cat([x_rssi_bssid, x_site_id], dim=-1)\n",
    "        x = self.linear_layer2(x)\n",
    "\n",
    "        # lstm layer\n",
    "        x = x.view(batch_size, 1, -1)  # [batch, 1]->[batch, 1, 1]\n",
    "        x = self.batch_norm1(x)\n",
    "        x, _ = self.lstm1(x)\n",
    "        x = torch.relu(x)\n",
    "        x, _ = self.lstm2(x)\n",
    "        x = torch.relu(x)\n",
    "\n",
    "        # output [batch, 1, 1] -> [batch]\n",
    "        xy = self.fc_xy(x).squeeze(1)\n",
    "        floor = torch.relu(self.fc_floor(x)).view(-1)\n",
    "        return {\"xy\": xy, \"floor\": floor}"
   ]
  },
  {
   "cell_type": "code",
   "execution_count": 18,
   "metadata": {},
   "outputs": [],
   "source": [
    "def mean_position_error(xhat, yhat, fhat, x, y, f):\n",
    "    intermediate = np.sqrt(np.power(xhat-x, 2) + np.power(yhat-y, 2)) + 15 * np.abs(fhat-f)\n",
    "    return intermediate.sum()/xhat.shape[0]\n",
    "\n",
    "def to_np(input):\n",
    "    return input.detach().cpu().numpy()"
   ]
  },
  {
   "cell_type": "code",
   "execution_count": 19,
   "metadata": {},
   "outputs": [],
   "source": [
    "# class WeightedMSELoss(nn.Module):\n",
    "#     def __init__(self):\n",
    "#         super().__init__()\n",
    "#         self.loss = nn.MSELoss(reduction='none')\n",
    "\n",
    "#     def forward(self, input, target, weight):  # weight:timediffによる重みづけ\n",
    "#         input = input.float()\n",
    "#         target = target.float()\n",
    "#         weight = torch.stack((weight, weight), 1).float()  # x,y分でstack\n",
    "#         loss = self.loss(input, target) * weight  # timediffが大きいもののlossはあまり計算しないようにする\n",
    "#         return loss.mean()"
   ]
  },
  {
   "cell_type": "code",
   "execution_count": 20,
   "metadata": {},
   "outputs": [],
   "source": [
    "def get_optimizer(model: nn.Module, config: dict):\n",
    "    optimizer_config = config[\"optimizer\"]\n",
    "    optimizer_name = optimizer_config.get(\"name\")\n",
    "    base_optimizer_name = optimizer_config.get(\"base_name\")\n",
    "    optimizer_params = optimizer_config['params']\n",
    "\n",
    "    if hasattr(optim, optimizer_name):\n",
    "        optimizer = optim.__getattribute__(optimizer_name)(model.parameters(), **optimizer_params)\n",
    "        return optimizer\n",
    "    else:\n",
    "        base_optimizer = optim.__getattribute__(base_optimizer_name)\n",
    "        optimizer = globals().get(optimizer_name)(\n",
    "            model.parameters(), \n",
    "            base_optimizer,\n",
    "            **optimizer_config[\"params\"])\n",
    "        return  optimizer\n",
    "\n",
    "def get_scheduler(optimizer, config: dict):\n",
    "    scheduler_config = config[\"scheduler\"]\n",
    "    scheduler_name = scheduler_config.get(\"name\")\n",
    "\n",
    "    if scheduler_name is None:\n",
    "        return\n",
    "    else:\n",
    "        return optim.lr_scheduler.__getattribute__(scheduler_name)(\n",
    "            optimizer, **scheduler_config[\"params\"])\n",
    "\n",
    "\n",
    "def get_criterion(config: dict):\n",
    "    loss_config = config[\"loss\"]\n",
    "    loss_name = loss_config[\"name\"]\n",
    "    loss_params = {} if loss_config.get(\"params\") is None else loss_config.get(\"params\")\n",
    "    \n",
    "    \n",
    "    if hasattr(nn, loss_name):\n",
    "        criterion = nn.__getattribute__(loss_name)(**loss_params)\n",
    "    else:\n",
    "        criterion = globals().get(loss_name)(**loss_params)\n",
    "\n",
    "    return criterion\n",
    "\n",
    "def worker_init_fn(worker_id):                                                          \n",
    "    np.random.seed(np.random.get_state()[1][0] + worker_id)"
   ]
  },
  {
   "cell_type": "code",
   "execution_count": 21,
   "metadata": {},
   "outputs": [],
   "source": [
    "# Learner class(pytorch-lighting)\n",
    "class Learner(pl.LightningModule):\n",
    "    def __init__(self, model, config):\n",
    "        super().__init__()\n",
    "        self.model = model\n",
    "        self.config = config\n",
    "        self.xy_criterion = get_criterion(config)\n",
    "        self.f_criterion = get_criterion(config)\n",
    "    \n",
    "    def training_step(self, batch, batch_idx):\n",
    "        x, y = batch\n",
    "\n",
    "        output = self.model(x)\n",
    "        # loss = self.xy_criterion(output[\"xy\"], y[\"ixy\"], y['weight'])\n",
    "        loss = self.xy_criterion(output[\"xy\"], y[\"ixy\"])\n",
    "        return loss\n",
    "    \n",
    "    def validation_step(self, batch, batch_idx):\n",
    "        x, y = batch\n",
    "        output = self.model(x)\n",
    "        xy_loss = self.xy_criterion(output[\"xy\"], y[\"ixy\"])\n",
    "        # xy_loss = self.xy_criterion(output[\"xy\"], y[\"ixy\"], y['weight'])\n",
    "        # f_loss = self.f_criterion(output[\"floor\"], y[\"floor\"], y['weight'])\n",
    "        loss = xy_loss  # + f_loss\n",
    "        mpe = mean_position_error(\n",
    "            to_np(output['xy'][:, 0]), to_np(output['xy'][:, 1]), 0, \n",
    "            to_np(y['xy'][:, 0]), to_np(y['xy'][:, 1]), 0)\n",
    "\n",
    "        impe = mean_position_error(\n",
    "            to_np(output['xy'][:, 0]), to_np(output['xy'][:, 1]), 0, \n",
    "            to_np(y['ixy'][:, 0]), to_np(y['ixy'][:, 1]), 0)\n",
    "\n",
    "        # floor lossは現状は無視して良い\n",
    "        self.log(f'Loss/val', loss, on_step=False, on_epoch=True, prog_bar=False, logger=True)\n",
    "        self.log(f'Loss/xy', xy_loss, on_step=False, on_epoch=True, prog_bar=False, logger=True)\n",
    "        # self.log(f'Loss/floor', f_loss, on_step=False, on_epoch=True, prog_bar=False, logger=True)\n",
    "        self.log(f'MPE/val', mpe, on_step=False, on_epoch=True, prog_bar=False, logger=True)\n",
    "        self.log(f'iMPE/val', impe, on_step=False, on_epoch=True, prog_bar=False, logger=True)\n",
    "        return loss\n",
    "\n",
    "    def configure_optimizers(self):\n",
    "        optimizer = get_optimizer(self.model, self.config)\n",
    "        scheduler = get_scheduler(optimizer, self.config)\n",
    "        return {\"optimizer\": optimizer, \"lr_scheduler\": scheduler, \"monitor\": \"Loss/val\"}"
   ]
  },
  {
   "cell_type": "code",
   "execution_count": 22,
   "metadata": {},
   "outputs": [],
   "source": [
    "# oof\n",
    "def evaluate(model, loaders, phase):\n",
    "    x_list = []\n",
    "    y_list = []\n",
    "    f_list = []\n",
    "    with torch.no_grad():\n",
    "        for batch in loaders[phase]:\n",
    "            x, y = batch\n",
    "            output = model(x)\n",
    "            x_list.append(to_np(output['xy'][:, 0]))\n",
    "            y_list.append(to_np(output['xy'][:, 1]))\n",
    "            f_list.append(to_np(output['floor']))\n",
    "\n",
    "    x_list = np.concatenate(x_list)\n",
    "    y_list = np.concatenate(y_list)\n",
    "    f_list = np.concatenate(f_list)\n",
    "    return x_list, y_list, f_list"
   ]
  },
  {
   "cell_type": "markdown",
   "metadata": {},
   "source": [
    "## train"
   ]
  },
  {
   "cell_type": "code",
   "execution_count": 23,
   "metadata": {
    "tags": []
   },
   "outputs": [
    {
     "output_type": "stream",
     "name": "stdout",
     "text": [
      "====================\n",
      "Fold 0\n",
      "====================\n",
      "/usr/local/lib/python3.8/dist-packages/torch/nn/modules/rnn.py:58: UserWarning: dropout option adds dropout after all but last recurrent layer, so non-zero dropout expects num_layers greater than 1, but got dropout=0.3 and num_layers=1\n",
      "  warnings.warn(\"dropout option adds dropout after all but last \"\n",
      "/usr/local/lib/python3.8/dist-packages/torch/nn/modules/rnn.py:58: UserWarning: dropout option adds dropout after all but last recurrent layer, so non-zero dropout expects num_layers greater than 1, but got dropout=0.1 and num_layers=1\n",
      "  warnings.warn(\"dropout option adds dropout after all but last \"\n",
      "Failed to detect the name of this notebook, you can set it manually with the WANDB_NOTEBOOK_NAME environment variable to enable code saving.\n",
      "\u001b[34m\u001b[1mwandb\u001b[0m: Currently logged in as: \u001b[33mkuto5046\u001b[0m (use `wandb login --relogin` to force relogin)\n",
      "\u001b[34m\u001b[1mwandb\u001b[0m: wandb version 0.10.27 is available!  To upgrade, please run:\n",
      "\u001b[34m\u001b[1mwandb\u001b[0m:  $ pip install wandb --upgrade\n"
     ]
    },
    {
     "output_type": "display_data",
     "data": {
      "text/plain": "<IPython.core.display.HTML object>",
      "text/html": "\n                Tracking run with wandb version 0.10.22<br/>\n                Syncing run <strong style=\"color:#cdcd00\">gallant-lake-543</strong> to <a href=\"https://wandb.ai\" target=\"_blank\">Weights & Biases</a> <a href=\"https://docs.wandb.com/integrations/jupyter.html\" target=\"_blank\">(Documentation)</a>.<br/>\n                Project page: <a href=\"https://wandb.ai/kuto5046/indoor\" target=\"_blank\">https://wandb.ai/kuto5046/indoor</a><br/>\n                Run page: <a href=\"https://wandb.ai/kuto5046/indoor/runs/30ya2x7r\" target=\"_blank\">https://wandb.ai/kuto5046/indoor/runs/30ya2x7r</a><br/>\n                Run data is saved locally in <code>/home/user/work/exp/exp029/wandb/run-20210426_004544-30ya2x7r</code><br/><br/>\n            "
     },
     "metadata": {}
    },
    {
     "output_type": "stream",
     "name": "stderr",
     "text": [
      "GPU available: True, used: True\n",
      "TPU available: None, using: 0 TPU cores\n",
      "\n",
      "  | Name         | Type      | Params\n",
      "-------------------------------------------\n",
      "0 | model        | LSTMModel | 6.8 M \n",
      "1 | xy_criterion | MSELoss   | 0     \n",
      "2 | f_criterion  | MSELoss   | 0     \n",
      "-------------------------------------------\n",
      "6.8 M     Trainable params\n",
      "0         Non-trainable params\n",
      "6.8 M     Total params\n",
      "27.167    Total estimated model params size (MB)\n",
      "fold 0: mean position error 7.343429653377475\n",
      "fold 0: mean position error 6.910395185576673\n"
     ]
    },
    {
     "output_type": "display_data",
     "data": {
      "text/plain": "<IPython.core.display.HTML object>",
      "text/html": "<br/>Waiting for W&B process to finish, PID 1359565<br/>Program ended successfully."
     },
     "metadata": {}
    },
    {
     "output_type": "display_data",
     "data": {
      "text/plain": "VBox(children=(Label(value=' 0.00MB of 0.00MB uploaded (0.00MB deduped)\\r'), FloatProgress(value=1.0, max=1.0)…",
      "application/vnd.jupyter.widget-view+json": {
       "version_major": 2,
       "version_minor": 0,
       "model_id": "4df3f684a5d7432698273bdcab53152e"
      }
     },
     "metadata": {}
    },
    {
     "output_type": "display_data",
     "data": {
      "text/plain": "<IPython.core.display.HTML object>",
      "text/html": "Find user logs for this run at: <code>/home/user/work/exp/exp029/wandb/run-20210426_004544-30ya2x7r/logs/debug.log</code>"
     },
     "metadata": {}
    },
    {
     "output_type": "display_data",
     "data": {
      "text/plain": "<IPython.core.display.HTML object>",
      "text/html": "Find internal logs for this run at: <code>/home/user/work/exp/exp029/wandb/run-20210426_004544-30ya2x7r/logs/debug-internal.log</code>"
     },
     "metadata": {}
    },
    {
     "output_type": "display_data",
     "data": {
      "text/plain": "<IPython.core.display.HTML object>",
      "text/html": "<h3>Run summary:</h3><br/><style>\n    table.wandb td:nth-child(1) { padding: 0 10px; text-align: right }\n    </style><table class=\"wandb\">\n<tr><td>Loss/val</td><td>39.42523</td></tr><tr><td>Loss/xy</td><td>39.42523</td></tr><tr><td>MPE/val</td><td>7.34395</td></tr><tr><td>iMPE/val</td><td>6.91092</td></tr><tr><td>epoch</td><td>158</td></tr><tr><td>trainer/global_step</td><td>62327</td></tr><tr><td>_runtime</td><td>689</td></tr><tr><td>_timestamp</td><td>1619366233</td></tr><tr><td>_step</td><td>158</td></tr></table>"
     },
     "metadata": {}
    },
    {
     "output_type": "display_data",
     "data": {
      "text/plain": "<IPython.core.display.HTML object>",
      "text/html": "<h3>Run history:</h3><br/><style>\n    table.wandb td:nth-child(1) { padding: 0 10px; text-align: right }\n    </style><table class=\"wandb\">\n<tr><td>Loss/val</td><td>█▄▄▄▄▃▂▂▁▁▁▁▁▁▁▁▁▁▁▁▁▁▁▁▁▁▁▁▁▁▁▁▁▁▁▁▁▁▁▁</td></tr><tr><td>Loss/xy</td><td>█▄▄▄▄▃▂▂▁▁▁▁▁▁▁▁▁▁▁▁▁▁▁▁▁▁▁▁▁▁▁▁▁▁▁▁▁▁▁▁</td></tr><tr><td>MPE/val</td><td>█▆▅▅▅▅▃▂▂▁▁▁▁▁▁▁▁▁▁▁▁▁▁▁▁▁▁▁▁▁▁▁▁▁▁▁▁▁▁▁</td></tr><tr><td>iMPE/val</td><td>█▆▅▅▅▅▄▂▂▁▁▁▁▁▁▁▁▁▁▁▁▁▁▁▁▁▁▁▁▁▁▁▁▁▁▁▁▁▁▁</td></tr><tr><td>epoch</td><td>▁▁▁▂▂▂▂▂▂▃▃▃▃▃▄▄▄▄▄▄▅▅▅▅▅▅▆▆▆▆▆▇▇▇▇▇▇███</td></tr><tr><td>trainer/global_step</td><td>▁▁▁▂▂▂▂▂▂▃▃▃▃▃▄▄▄▄▄▄▅▅▅▅▅▅▆▆▆▆▆▇▇▇▇▇▇███</td></tr><tr><td>_runtime</td><td>▁▁▁▂▂▂▂▂▂▃▃▃▃▃▃▄▄▄▄▄▅▅▅▅▅▅▆▆▆▆▆▇▇▇▇▇▇███</td></tr><tr><td>_timestamp</td><td>▁▁▁▂▂▂▂▂▂▃▃▃▃▃▃▄▄▄▄▄▅▅▅▅▅▅▆▆▆▆▆▇▇▇▇▇▇███</td></tr><tr><td>_step</td><td>▁▁▁▂▂▂▂▂▂▃▃▃▃▃▄▄▄▄▄▄▅▅▅▅▅▅▆▆▆▆▆▇▇▇▇▇▇███</td></tr></table><br/>"
     },
     "metadata": {}
    },
    {
     "output_type": "display_data",
     "data": {
      "text/plain": "<IPython.core.display.HTML object>",
      "text/html": "Synced 5 W&B file(s), 1 media file(s), 0 artifact file(s) and 0 other file(s)"
     },
     "metadata": {}
    },
    {
     "output_type": "display_data",
     "data": {
      "text/plain": "<IPython.core.display.HTML object>",
      "text/html": "\n                    <br/>Synced <strong style=\"color:#cdcd00\">gallant-lake-543</strong>: <a href=\"https://wandb.ai/kuto5046/indoor/runs/30ya2x7r\" target=\"_blank\">https://wandb.ai/kuto5046/indoor/runs/30ya2x7r</a><br/>\n                "
     },
     "metadata": {}
    },
    {
     "output_type": "stream",
     "name": "stdout",
     "text": [
      "====================\n",
      "Fold 1\n",
      "====================\n",
      "\u001b[34m\u001b[1mwandb\u001b[0m: wandb version 0.10.27 is available!  To upgrade, please run:\n",
      "\u001b[34m\u001b[1mwandb\u001b[0m:  $ pip install wandb --upgrade\n"
     ]
    },
    {
     "output_type": "display_data",
     "data": {
      "text/plain": "<IPython.core.display.HTML object>",
      "text/html": "\n                Tracking run with wandb version 0.10.22<br/>\n                Syncing run <strong style=\"color:#cdcd00\">balmy-firebrand-544</strong> to <a href=\"https://wandb.ai\" target=\"_blank\">Weights & Biases</a> <a href=\"https://docs.wandb.com/integrations/jupyter.html\" target=\"_blank\">(Documentation)</a>.<br/>\n                Project page: <a href=\"https://wandb.ai/kuto5046/indoor\" target=\"_blank\">https://wandb.ai/kuto5046/indoor</a><br/>\n                Run page: <a href=\"https://wandb.ai/kuto5046/indoor/runs/2mmhet6x\" target=\"_blank\">https://wandb.ai/kuto5046/indoor/runs/2mmhet6x</a><br/>\n                Run data is saved locally in <code>/home/user/work/exp/exp029/wandb/run-20210426_005722-2mmhet6x</code><br/><br/>\n            "
     },
     "metadata": {}
    },
    {
     "output_type": "stream",
     "name": "stderr",
     "text": [
      "GPU available: True, used: True\n",
      "TPU available: None, using: 0 TPU cores\n",
      "\n",
      "  | Name         | Type      | Params\n",
      "-------------------------------------------\n",
      "0 | model        | LSTMModel | 6.8 M \n",
      "1 | xy_criterion | MSELoss   | 0     \n",
      "2 | f_criterion  | MSELoss   | 0     \n",
      "-------------------------------------------\n",
      "6.8 M     Trainable params\n",
      "0         Non-trainable params\n",
      "6.8 M     Total params\n",
      "27.167    Total estimated model params size (MB)\n",
      "fold 1: mean position error 7.3957845126742585\n",
      "fold 1: mean position error 6.957229986438244\n"
     ]
    },
    {
     "output_type": "display_data",
     "data": {
      "text/plain": "<IPython.core.display.HTML object>",
      "text/html": "<br/>Waiting for W&B process to finish, PID 1366535<br/>Program ended successfully."
     },
     "metadata": {}
    },
    {
     "output_type": "display_data",
     "data": {
      "text/plain": "VBox(children=(Label(value=' 0.00MB of 0.00MB uploaded (0.00MB deduped)\\r'), FloatProgress(value=1.0, max=1.0)…",
      "application/vnd.jupyter.widget-view+json": {
       "version_major": 2,
       "version_minor": 0,
       "model_id": "01370ec7630b4b009bcff0964a8645ea"
      }
     },
     "metadata": {}
    },
    {
     "output_type": "display_data",
     "data": {
      "text/plain": "<IPython.core.display.HTML object>",
      "text/html": "Find user logs for this run at: <code>/home/user/work/exp/exp029/wandb/run-20210426_005722-2mmhet6x/logs/debug.log</code>"
     },
     "metadata": {}
    },
    {
     "output_type": "display_data",
     "data": {
      "text/plain": "<IPython.core.display.HTML object>",
      "text/html": "Find internal logs for this run at: <code>/home/user/work/exp/exp029/wandb/run-20210426_005722-2mmhet6x/logs/debug-internal.log</code>"
     },
     "metadata": {}
    },
    {
     "output_type": "display_data",
     "data": {
      "text/plain": "<IPython.core.display.HTML object>",
      "text/html": "<h3>Run summary:</h3><br/><style>\n    table.wandb td:nth-child(1) { padding: 0 10px; text-align: right }\n    </style><table class=\"wandb\">\n<tr><td>Loss/val</td><td>38.00214</td></tr><tr><td>Loss/xy</td><td>38.00214</td></tr><tr><td>MPE/val</td><td>7.39485</td></tr><tr><td>iMPE/val</td><td>6.95623</td></tr><tr><td>epoch</td><td>144</td></tr><tr><td>trainer/global_step</td><td>56839</td></tr><tr><td>_runtime</td><td>630</td></tr><tr><td>_timestamp</td><td>1619366872</td></tr><tr><td>_step</td><td>144</td></tr></table>"
     },
     "metadata": {}
    },
    {
     "output_type": "display_data",
     "data": {
      "text/plain": "<IPython.core.display.HTML object>",
      "text/html": "<h3>Run history:</h3><br/><style>\n    table.wandb td:nth-child(1) { padding: 0 10px; text-align: right }\n    </style><table class=\"wandb\">\n<tr><td>Loss/val</td><td>█▅▅▅▃▃▂▁▁▁▁▁▁▁▁▁▁▁▁▁▁▁▁▁▁▁▁▁▁▁▁▁▁▁▁▁▁▁▁▁</td></tr><tr><td>Loss/xy</td><td>█▅▅▅▃▃▂▁▁▁▁▁▁▁▁▁▁▁▁▁▁▁▁▁▁▁▁▁▁▁▁▁▁▁▁▁▁▁▁▁</td></tr><tr><td>MPE/val</td><td>█▆▆▆▄▄▃▂▁▁▁▁▁▁▁▁▁▁▁▁▁▁▁▁▁▁▁▁▁▁▁▁▁▁▁▁▁▁▁▁</td></tr><tr><td>iMPE/val</td><td>█▆▆▆▄▄▃▂▁▁▁▁▁▁▁▁▁▁▁▁▁▁▁▁▁▁▁▁▁▁▁▁▁▁▁▁▁▁▁▁</td></tr><tr><td>epoch</td><td>▁▁▁▁▂▂▂▂▂▃▃▃▃▃▃▄▄▄▄▄▅▅▅▅▅▅▆▆▆▆▆▇▇▇▇▇▇███</td></tr><tr><td>trainer/global_step</td><td>▁▁▁▁▂▂▂▂▂▃▃▃▃▃▃▄▄▄▄▄▅▅▅▅▅▅▆▆▆▆▆▇▇▇▇▇▇███</td></tr><tr><td>_runtime</td><td>▁▁▁▁▂▂▂▂▂▃▃▃▃▃▃▄▄▄▄▄▅▅▅▅▅▅▆▆▆▆▆▇▇▇▇▇▇███</td></tr><tr><td>_timestamp</td><td>▁▁▁▁▂▂▂▂▂▃▃▃▃▃▃▄▄▄▄▄▅▅▅▅▅▅▆▆▆▆▆▇▇▇▇▇▇███</td></tr><tr><td>_step</td><td>▁▁▁▁▂▂▂▂▂▃▃▃▃▃▃▄▄▄▄▄▅▅▅▅▅▅▆▆▆▆▆▇▇▇▇▇▇███</td></tr></table><br/>"
     },
     "metadata": {}
    },
    {
     "output_type": "display_data",
     "data": {
      "text/plain": "<IPython.core.display.HTML object>",
      "text/html": "Synced 5 W&B file(s), 1 media file(s), 0 artifact file(s) and 0 other file(s)"
     },
     "metadata": {}
    },
    {
     "output_type": "display_data",
     "data": {
      "text/plain": "<IPython.core.display.HTML object>",
      "text/html": "\n                    <br/>Synced <strong style=\"color:#cdcd00\">balmy-firebrand-544</strong>: <a href=\"https://wandb.ai/kuto5046/indoor/runs/2mmhet6x\" target=\"_blank\">https://wandb.ai/kuto5046/indoor/runs/2mmhet6x</a><br/>\n                "
     },
     "metadata": {}
    },
    {
     "output_type": "stream",
     "name": "stdout",
     "text": [
      "====================\n",
      "Fold 2\n",
      "====================\n",
      "\u001b[34m\u001b[1mwandb\u001b[0m: wandb version 0.10.27 is available!  To upgrade, please run:\n",
      "\u001b[34m\u001b[1mwandb\u001b[0m:  $ pip install wandb --upgrade\n"
     ]
    },
    {
     "output_type": "display_data",
     "data": {
      "text/plain": "<IPython.core.display.HTML object>",
      "text/html": "\n                Tracking run with wandb version 0.10.22<br/>\n                Syncing run <strong style=\"color:#cdcd00\">summer-frost-545</strong> to <a href=\"https://wandb.ai\" target=\"_blank\">Weights & Biases</a> <a href=\"https://docs.wandb.com/integrations/jupyter.html\" target=\"_blank\">(Documentation)</a>.<br/>\n                Project page: <a href=\"https://wandb.ai/kuto5046/indoor\" target=\"_blank\">https://wandb.ai/kuto5046/indoor</a><br/>\n                Run page: <a href=\"https://wandb.ai/kuto5046/indoor/runs/3aopxidc\" target=\"_blank\">https://wandb.ai/kuto5046/indoor/runs/3aopxidc</a><br/>\n                Run data is saved locally in <code>/home/user/work/exp/exp029/wandb/run-20210426_010802-3aopxidc</code><br/><br/>\n            "
     },
     "metadata": {}
    },
    {
     "output_type": "stream",
     "name": "stderr",
     "text": [
      "GPU available: True, used: True\n",
      "TPU available: None, using: 0 TPU cores\n",
      "\n",
      "  | Name         | Type      | Params\n",
      "-------------------------------------------\n",
      "0 | model        | LSTMModel | 6.8 M \n",
      "1 | xy_criterion | MSELoss   | 0     \n",
      "2 | f_criterion  | MSELoss   | 0     \n",
      "-------------------------------------------\n",
      "6.8 M     Trainable params\n",
      "0         Non-trainable params\n",
      "6.8 M     Total params\n",
      "27.167    Total estimated model params size (MB)\n",
      "fold 2: mean position error 7.356317060888295\n",
      "fold 2: mean position error 6.906063027263118\n"
     ]
    },
    {
     "output_type": "display_data",
     "data": {
      "text/plain": "<IPython.core.display.HTML object>",
      "text/html": "<br/>Waiting for W&B process to finish, PID 1371632<br/>Program ended successfully."
     },
     "metadata": {}
    },
    {
     "output_type": "display_data",
     "data": {
      "text/plain": "VBox(children=(Label(value=' 0.00MB of 0.00MB uploaded (0.00MB deduped)\\r'), FloatProgress(value=1.0, max=1.0)…",
      "application/vnd.jupyter.widget-view+json": {
       "version_major": 2,
       "version_minor": 0,
       "model_id": "714c1f104b21471da1409583f1aecc49"
      }
     },
     "metadata": {}
    },
    {
     "output_type": "display_data",
     "data": {
      "text/plain": "<IPython.core.display.HTML object>",
      "text/html": "Find user logs for this run at: <code>/home/user/work/exp/exp029/wandb/run-20210426_010802-3aopxidc/logs/debug.log</code>"
     },
     "metadata": {}
    },
    {
     "output_type": "display_data",
     "data": {
      "text/plain": "<IPython.core.display.HTML object>",
      "text/html": "Find internal logs for this run at: <code>/home/user/work/exp/exp029/wandb/run-20210426_010802-3aopxidc/logs/debug-internal.log</code>"
     },
     "metadata": {}
    },
    {
     "output_type": "display_data",
     "data": {
      "text/plain": "<IPython.core.display.HTML object>",
      "text/html": "<h3>Run summary:</h3><br/><style>\n    table.wandb td:nth-child(1) { padding: 0 10px; text-align: right }\n    </style><table class=\"wandb\">\n<tr><td>Loss/val</td><td>39.08878</td></tr><tr><td>Loss/xy</td><td>39.08878</td></tr><tr><td>MPE/val</td><td>7.35746</td></tr><tr><td>iMPE/val</td><td>6.90727</td></tr><tr><td>epoch</td><td>199</td></tr><tr><td>trainer/global_step</td><td>78399</td></tr><tr><td>_runtime</td><td>881</td></tr><tr><td>_timestamp</td><td>1619367763</td></tr><tr><td>_step</td><td>199</td></tr></table>"
     },
     "metadata": {}
    },
    {
     "output_type": "display_data",
     "data": {
      "text/plain": "<IPython.core.display.HTML object>",
      "text/html": "<h3>Run history:</h3><br/><style>\n    table.wandb td:nth-child(1) { padding: 0 10px; text-align: right }\n    </style><table class=\"wandb\">\n<tr><td>Loss/val</td><td>█▄▃▃▂▁▁▁▁▁▁▁▁▁▁▁▁▁▁▁▁▁▁▁▁▁▁▁▁▁▁▁▁▁▁▁▁▁▁▁</td></tr><tr><td>Loss/xy</td><td>█▄▃▃▂▁▁▁▁▁▁▁▁▁▁▁▁▁▁▁▁▁▁▁▁▁▁▁▁▁▁▁▁▁▁▁▁▁▁▁</td></tr><tr><td>MPE/val</td><td>█▆▄▄▃▂▁▁▁▁▁▁▁▁▁▁▁▁▁▁▁▁▁▁▁▁▁▁▁▁▁▁▁▁▁▁▁▁▁▁</td></tr><tr><td>iMPE/val</td><td>█▆▄▄▃▂▁▁▁▁▁▁▁▁▁▁▁▁▁▁▁▁▁▁▁▁▁▁▁▁▁▁▁▁▁▁▁▁▁▁</td></tr><tr><td>epoch</td><td>▁▁▁▁▂▂▂▂▂▃▃▃▃▃▃▄▄▄▄▄▅▅▅▅▅▅▆▆▆▆▆▇▇▇▇▇▇███</td></tr><tr><td>trainer/global_step</td><td>▁▁▁▁▂▂▂▂▂▃▃▃▃▃▃▄▄▄▄▄▅▅▅▅▅▅▆▆▆▆▆▇▇▇▇▇▇███</td></tr><tr><td>_runtime</td><td>▁▁▁▁▂▂▂▂▂▃▃▃▃▃▃▄▄▄▄▄▄▅▅▅▅▅▆▆▆▆▆▆▇▇▇▇▇███</td></tr><tr><td>_timestamp</td><td>▁▁▁▁▂▂▂▂▂▃▃▃▃▃▃▄▄▄▄▄▄▅▅▅▅▅▆▆▆▆▆▆▇▇▇▇▇███</td></tr><tr><td>_step</td><td>▁▁▁▁▂▂▂▂▂▃▃▃▃▃▃▄▄▄▄▄▅▅▅▅▅▅▆▆▆▆▆▇▇▇▇▇▇███</td></tr></table><br/>"
     },
     "metadata": {}
    },
    {
     "output_type": "display_data",
     "data": {
      "text/plain": "<IPython.core.display.HTML object>",
      "text/html": "Synced 5 W&B file(s), 1 media file(s), 0 artifact file(s) and 0 other file(s)"
     },
     "metadata": {}
    },
    {
     "output_type": "display_data",
     "data": {
      "text/plain": "<IPython.core.display.HTML object>",
      "text/html": "\n                    <br/>Synced <strong style=\"color:#cdcd00\">summer-frost-545</strong>: <a href=\"https://wandb.ai/kuto5046/indoor/runs/3aopxidc\" target=\"_blank\">https://wandb.ai/kuto5046/indoor/runs/3aopxidc</a><br/>\n                "
     },
     "metadata": {}
    },
    {
     "output_type": "stream",
     "name": "stdout",
     "text": [
      "====================\n",
      "Fold 3\n",
      "====================\n",
      "\u001b[34m\u001b[1mwandb\u001b[0m: wandb version 0.10.27 is available!  To upgrade, please run:\n",
      "\u001b[34m\u001b[1mwandb\u001b[0m:  $ pip install wandb --upgrade\n"
     ]
    },
    {
     "output_type": "display_data",
     "data": {
      "text/plain": "<IPython.core.display.HTML object>",
      "text/html": "\n                Tracking run with wandb version 0.10.22<br/>\n                Syncing run <strong style=\"color:#cdcd00\">atomic-snowball-546</strong> to <a href=\"https://wandb.ai\" target=\"_blank\">Weights & Biases</a> <a href=\"https://docs.wandb.com/integrations/jupyter.html\" target=\"_blank\">(Documentation)</a>.<br/>\n                Project page: <a href=\"https://wandb.ai/kuto5046/indoor\" target=\"_blank\">https://wandb.ai/kuto5046/indoor</a><br/>\n                Run page: <a href=\"https://wandb.ai/kuto5046/indoor/runs/34ctwvm4\" target=\"_blank\">https://wandb.ai/kuto5046/indoor/runs/34ctwvm4</a><br/>\n                Run data is saved locally in <code>/home/user/work/exp/exp029/wandb/run-20210426_012253-34ctwvm4</code><br/><br/>\n            "
     },
     "metadata": {}
    },
    {
     "output_type": "stream",
     "name": "stderr",
     "text": [
      "GPU available: True, used: True\n",
      "TPU available: None, using: 0 TPU cores\n",
      "\n",
      "  | Name         | Type      | Params\n",
      "-------------------------------------------\n",
      "0 | model        | LSTMModel | 6.8 M \n",
      "1 | xy_criterion | MSELoss   | 0     \n",
      "2 | f_criterion  | MSELoss   | 0     \n",
      "-------------------------------------------\n",
      "6.8 M     Trainable params\n",
      "0         Non-trainable params\n",
      "6.8 M     Total params\n",
      "27.167    Total estimated model params size (MB)\n",
      "fold 3: mean position error 7.439582876288865\n",
      "fold 3: mean position error 7.000526639875551\n"
     ]
    },
    {
     "output_type": "display_data",
     "data": {
      "text/plain": "<IPython.core.display.HTML object>",
      "text/html": "<br/>Waiting for W&B process to finish, PID 1378489<br/>Program ended successfully."
     },
     "metadata": {}
    },
    {
     "output_type": "display_data",
     "data": {
      "text/plain": "VBox(children=(Label(value=' 0.00MB of 0.00MB uploaded (0.00MB deduped)\\r'), FloatProgress(value=1.0, max=1.0)…",
      "application/vnd.jupyter.widget-view+json": {
       "version_major": 2,
       "version_minor": 0,
       "model_id": "961020da850d4840b2c278406dfd4aff"
      }
     },
     "metadata": {}
    },
    {
     "output_type": "display_data",
     "data": {
      "text/plain": "<IPython.core.display.HTML object>",
      "text/html": "Find user logs for this run at: <code>/home/user/work/exp/exp029/wandb/run-20210426_012253-34ctwvm4/logs/debug.log</code>"
     },
     "metadata": {}
    },
    {
     "output_type": "display_data",
     "data": {
      "text/plain": "<IPython.core.display.HTML object>",
      "text/html": "Find internal logs for this run at: <code>/home/user/work/exp/exp029/wandb/run-20210426_012253-34ctwvm4/logs/debug-internal.log</code>"
     },
     "metadata": {}
    },
    {
     "output_type": "display_data",
     "data": {
      "text/plain": "<IPython.core.display.HTML object>",
      "text/html": "<h3>Run summary:</h3><br/><style>\n    table.wandb td:nth-child(1) { padding: 0 10px; text-align: right }\n    </style><table class=\"wandb\">\n<tr><td>Loss/val</td><td>39.90624</td></tr><tr><td>Loss/xy</td><td>39.90624</td></tr><tr><td>MPE/val</td><td>7.43997</td></tr><tr><td>iMPE/val</td><td>7.001</td></tr><tr><td>epoch</td><td>186</td></tr><tr><td>trainer/global_step</td><td>73303</td></tr><tr><td>_runtime</td><td>819</td></tr><tr><td>_timestamp</td><td>1619368592</td></tr><tr><td>_step</td><td>186</td></tr></table>"
     },
     "metadata": {}
    },
    {
     "output_type": "display_data",
     "data": {
      "text/plain": "<IPython.core.display.HTML object>",
      "text/html": "<h3>Run history:</h3><br/><style>\n    table.wandb td:nth-child(1) { padding: 0 10px; text-align: right }\n    </style><table class=\"wandb\">\n<tr><td>Loss/val</td><td>█▆▆▃▁▁▁▁▁▁▁▁▁▁▁▁▁▁▁▁▁▁▁▁▁▁▁▁▁▁▁▁▁▁▁▁▁▁▁▁</td></tr><tr><td>Loss/xy</td><td>█▆▆▃▁▁▁▁▁▁▁▁▁▁▁▁▁▁▁▁▁▁▁▁▁▁▁▁▁▁▁▁▁▁▁▁▁▁▁▁</td></tr><tr><td>MPE/val</td><td>█▇▇▄▂▁▁▁▁▁▁▁▁▁▁▁▁▁▁▁▁▁▁▁▁▁▁▁▁▁▁▁▁▁▁▁▁▁▁▁</td></tr><tr><td>iMPE/val</td><td>█▇▇▄▂▁▁▁▁▁▁▁▁▁▁▁▁▁▁▁▁▁▁▁▁▁▁▁▁▁▁▁▁▁▁▁▁▁▁▁</td></tr><tr><td>epoch</td><td>▁▁▁▂▂▂▂▂▂▃▃▃▃▃▄▄▄▄▄▄▅▅▅▅▅▅▆▆▆▆▆▇▇▇▇▇▇███</td></tr><tr><td>trainer/global_step</td><td>▁▁▁▂▂▂▂▂▂▃▃▃▃▃▄▄▄▄▄▄▅▅▅▅▅▅▆▆▆▆▆▇▇▇▇▇▇███</td></tr><tr><td>_runtime</td><td>▁▁▁▂▂▂▂▂▂▃▃▃▃▃▃▄▄▄▄▄▅▅▅▅▅▅▆▆▆▆▆▇▇▇▇▇▇███</td></tr><tr><td>_timestamp</td><td>▁▁▁▂▂▂▂▂▂▃▃▃▃▃▃▄▄▄▄▄▅▅▅▅▅▅▆▆▆▆▆▇▇▇▇▇▇███</td></tr><tr><td>_step</td><td>▁▁▁▂▂▂▂▂▂▃▃▃▃▃▄▄▄▄▄▄▅▅▅▅▅▅▆▆▆▆▆▇▇▇▇▇▇███</td></tr></table><br/>"
     },
     "metadata": {}
    },
    {
     "output_type": "display_data",
     "data": {
      "text/plain": "<IPython.core.display.HTML object>",
      "text/html": "Synced 5 W&B file(s), 1 media file(s), 0 artifact file(s) and 0 other file(s)"
     },
     "metadata": {}
    },
    {
     "output_type": "display_data",
     "data": {
      "text/plain": "<IPython.core.display.HTML object>",
      "text/html": "\n                    <br/>Synced <strong style=\"color:#cdcd00\">atomic-snowball-546</strong>: <a href=\"https://wandb.ai/kuto5046/indoor/runs/34ctwvm4\" target=\"_blank\">https://wandb.ai/kuto5046/indoor/runs/34ctwvm4</a><br/>\n                "
     },
     "metadata": {}
    },
    {
     "output_type": "stream",
     "name": "stdout",
     "text": [
      "====================\n",
      "Fold 4\n",
      "====================\n",
      "\u001b[34m\u001b[1mwandb\u001b[0m: wandb version 0.10.27 is available!  To upgrade, please run:\n",
      "\u001b[34m\u001b[1mwandb\u001b[0m:  $ pip install wandb --upgrade\n"
     ]
    },
    {
     "output_type": "display_data",
     "data": {
      "text/plain": "<IPython.core.display.HTML object>",
      "text/html": "\n                Tracking run with wandb version 0.10.22<br/>\n                Syncing run <strong style=\"color:#cdcd00\">treasured-dragon-547</strong> to <a href=\"https://wandb.ai\" target=\"_blank\">Weights & Biases</a> <a href=\"https://docs.wandb.com/integrations/jupyter.html\" target=\"_blank\">(Documentation)</a>.<br/>\n                Project page: <a href=\"https://wandb.ai/kuto5046/indoor\" target=\"_blank\">https://wandb.ai/kuto5046/indoor</a><br/>\n                Run page: <a href=\"https://wandb.ai/kuto5046/indoor/runs/24vtndaa\" target=\"_blank\">https://wandb.ai/kuto5046/indoor/runs/24vtndaa</a><br/>\n                Run data is saved locally in <code>/home/user/work/exp/exp029/wandb/run-20210426_013642-24vtndaa</code><br/><br/>\n            "
     },
     "metadata": {}
    },
    {
     "output_type": "stream",
     "name": "stderr",
     "text": [
      "GPU available: True, used: True\n",
      "TPU available: None, using: 0 TPU cores\n",
      "\n",
      "  | Name         | Type      | Params\n",
      "-------------------------------------------\n",
      "0 | model        | LSTMModel | 6.8 M \n",
      "1 | xy_criterion | MSELoss   | 0     \n",
      "2 | f_criterion  | MSELoss   | 0     \n",
      "-------------------------------------------\n",
      "6.8 M     Trainable params\n",
      "0         Non-trainable params\n",
      "6.8 M     Total params\n",
      "27.167    Total estimated model params size (MB)\n",
      "fold 4: mean position error 7.37746995911448\n",
      "fold 4: mean position error 6.929021863781412\n"
     ]
    }
   ],
   "source": [
    "oofs = []  # 全てのoofをdfで格納する\n",
    "predictions = []  # 全ての予測値をdfで格納する\n",
    "val_scores = []\n",
    "# skf = model_selection.StratifiedKFold(n_splits=N_SPLITS, shuffle=True, random_state=SEED)\n",
    "gkf = model_selection.GroupKFold(n_splits=N_SPLITS)\n",
    "\n",
    "train_fold = [(trn_idx, val_idx) for trn_idx, val_idx in gkf.split(train.loc[:, 'path'], groups=train.loc[:, 'path'])]\n",
    "# 今回はtargetを均等に分ける必要はなくpathが均等に分かれればいいのでskf.split()にpathを与えている。\n",
    "for fold in range(5):\n",
    "    # 指定したfoldのみループを回す\n",
    "    if fold not in USE_FOLDS:\n",
    "        continue\n",
    "\n",
    "    print('=' * 20)\n",
    "    print(f'Fold {fold}')\n",
    "    print('=' * 20)\n",
    "\n",
    "    # train/valid data\n",
    "    trn_idx_for_train, val_idx_for_train = train_fold[fold]\n",
    "    trn_df = train.loc[trn_idx_for_train, :].reset_index(drop=True)\n",
    "    trn_df = trn_df.loc[:,BSSID_FEATS + RSSI_FEATS + ['site_id', 'x', 'y', 'ix','iy','floor','timediff']]\n",
    "    \n",
    "    val_df = train.loc[val_idx_for_train, :].reset_index(drop=True)\n",
    "    val_df = val_df.loc[:,BSSID_FEATS + RSSI_FEATS + ['site_id', 'x', 'y', 'ix','iy','floor','timediff']]\n",
    "\n",
    "    # data loader\n",
    "    loaders = {}\n",
    "    loader_config = config[\"loader\"]\n",
    "    loaders[\"train\"] = DataLoader(IndoorDataset(trn_df, phase=\"train\"), **loader_config[\"train\"], worker_init_fn=worker_init_fn) \n",
    "    loaders[\"valid\"] = DataLoader(IndoorDataset(val_df, phase=\"valid\"), **loader_config[\"valid\"], worker_init_fn=worker_init_fn)\n",
    "    loaders[\"test\"] = DataLoader(IndoorDataset(test, phase=\"test\"), **loader_config[\"test\"], worker_init_fn=worker_init_fn)\n",
    "\n",
    "    # model\n",
    "    model = LSTMModel(wifi_bssids_size, site_count)  # +1としているのはLEを1スタートで始めているため\n",
    "    model_name = model.__class__.__name__\n",
    "\n",
    "    # callbacks\n",
    "    callbacks = []\n",
    "    checkpoint_callback = ModelCheckpoint(\n",
    "        monitor=f'Loss/val',\n",
    "        mode='min',\n",
    "        dirpath=f\"../../model/{EXP_NAME}\",\n",
    "        verbose=False,\n",
    "        filename=f'{model_name}-{fold}')\n",
    "    \n",
    "    if MODEL_SAVE:\n",
    "        callbacks.append(checkpoint_callback)\n",
    "\n",
    "    early_stop_callback = EarlyStopping(\n",
    "        monitor='Loss/val',\n",
    "        min_delta=0.00,\n",
    "        patience=20,\n",
    "        verbose=False,\n",
    "        mode='min')\n",
    "    callbacks.append(early_stop_callback)\n",
    "\n",
    "    # loggers\n",
    "    RUN_NAME = EXP_NAME + \"_\" + EXP_MESSAGE\n",
    "    wandb.init(project='indoor', notes=NOTES, entity='kuto5046', group=RUN_NAME)\n",
    "    wandb.run.name = RUN_NAME + f'-fold-{fold}'\n",
    "    wandb_config = wandb.config\n",
    "    wandb_config['model_name'] = model_name\n",
    "    wandb_config['LB'] = None\n",
    "    wandb.watch(model)\n",
    "    \n",
    "    \n",
    "    loggers = []\n",
    "    loggers.append(WandbLogger())\n",
    "\n",
    "    learner = Learner(model, config)\n",
    "    # pretrained flag\n",
    "    if PRETRAINED:\n",
    "        ckpt = torch.load(PRETRAINED_PATH + f'{model_name}-{fold}.ckpt')\n",
    "        learner.load_state_dict(ckpt['state_dict'])\n",
    "\n",
    "    if not ONLY_PRED:\n",
    "        trainer = pl.Trainer(\n",
    "            logger=loggers, \n",
    "            callbacks=callbacks,\n",
    "            max_epochs=MAX_EPOCHS,\n",
    "            gpus=[0],\n",
    "            fast_dev_run=DEBUG,\n",
    "            deterministic=True,\n",
    "            # precision=16,\n",
    "            progress_bar_refresh_rate=0  # vscodeの時progress barの動作が遅いので表示しない\n",
    "            )\n",
    "\n",
    "        trainer.fit(learner, train_dataloader=loaders['train'], val_dataloaders=loaders['valid'])\n",
    "\n",
    "    #############\n",
    "    # validation (to make oof)\n",
    "    #############\n",
    "    model.eval()  \n",
    "    oof_df = train.loc[val_idx_for_train, ['timestamp', 'x', 'y', 'floor', 'ix', 'iy', 'floor_str','path', 'site_id', 'site_id_str']].reset_index(drop=True)\n",
    "    oof_x, oof_y, oof_f = evaluate(model, loaders, phase=\"valid\")\n",
    "    oof_df[\"oof_x\"] = oof_x\n",
    "    oof_df[\"oof_y\"] = oof_y\n",
    "    oof_df[\"oof_floor\"] = oof_f\n",
    "    oofs.append(oof_df)\n",
    "    \n",
    "    # 補間前のtargetで評価\n",
    "    val_score = mean_position_error(\n",
    "        oof_df[\"oof_x\"].values, oof_df[\"oof_y\"].values, 0,\n",
    "        oof_df['x'].values, oof_df['y'].values, 0)\n",
    "    val_scores.append(val_score)\n",
    "    print(f\"fold {fold}: mean position error {val_score}\")\n",
    "\n",
    "    # 補間後のtargetで評価\n",
    "    val_score = mean_position_error(\n",
    "        oof_df[\"oof_x\"].values, oof_df[\"oof_y\"].values, 0,\n",
    "        oof_df['ix'].values, oof_df['iy'].values, 0)\n",
    "    val_scores.append(val_score)\n",
    "    print(f\"fold {fold}: mean position error {val_score}\")\n",
    "\n",
    "    #############\n",
    "    # inference\n",
    "    #############n\n",
    "\n",
    "    preds_x, preds_y, preds_f = evaluate(model, loaders, phase=\"test\")\n",
    "    test_preds = pd.DataFrame(np.stack((preds_f, preds_x, preds_y))).T\n",
    "    test_preds.columns = sub_df.columns\n",
    "    test_preds[\"site_path_timestamp\"] = test[\"site_path_timestamp\"]\n",
    "    test_preds[\"floor\"] = test_preds[\"floor\"].astype(int)\n",
    "    # test_preds.to_csv(f'{EXP_NAME}_fold{fold}.csv', index=False)\n",
    "    predictions.append(test_preds)\n",
    "\n",
    "    if fold != 4:\n",
    "        wandb.finish()"
   ]
  },
  {
   "cell_type": "markdown",
   "metadata": {},
   "source": [
    "## validation"
   ]
  },
  {
   "cell_type": "code",
   "execution_count": 24,
   "metadata": {},
   "outputs": [
    {
     "output_type": "execute_result",
     "data": {
      "text/plain": [
       "            timestamp           x           y  floor          ix          iy  \\\n",
       "0       1561368762838   78.218193   38.999737    2.0   77.843651   37.382805   \n",
       "1       1561368762838   78.218193   38.999737    2.0   77.562737   36.170105   \n",
       "2       1561368774057   76.251839   30.510839    2.0   77.222664   21.330624   \n",
       "3       1561368774057   76.251839   30.510839    2.0   76.994240   23.490675   \n",
       "4       1561368774057   76.251839   30.510839    2.0   76.765808   25.650726   \n",
       "...               ...         ...         ...    ...         ...         ...   \n",
       "250699  1574420742502  193.204880  108.001518   -1.0  194.090317  108.728462   \n",
       "250700  1574420742502  193.204880  108.001518   -1.0  193.559052  108.292297   \n",
       "250701  1574420753754  204.293488  107.835121   -1.0  203.237427  107.850967   \n",
       "250702  1574420753754  204.293488  107.835121   -1.0  201.653351  107.874741   \n",
       "250703  1574420753754  204.293488  107.835121   -1.0  200.069260  107.898514   \n",
       "\n",
       "       floor_str                      path  site_id               site_id_str  \\\n",
       "0             F3  5d10a1669c50c70008fe8977        0  5a0546857ecc773753327266   \n",
       "1             F3  5d10a1669c50c70008fe8977        0  5a0546857ecc773753327266   \n",
       "2             F3  5d10a1669c50c70008fe8977        0  5a0546857ecc773753327266   \n",
       "3             F3  5d10a1669c50c70008fe8977        0  5a0546857ecc773753327266   \n",
       "4             F3  5d10a1669c50c70008fe8977        0  5a0546857ecc773753327266   \n",
       "...          ...                       ...      ...                       ...   \n",
       "250699        B1  5dd7c119c5b77e0006b16b99       23  5dc8cea7659e181adb076a3f   \n",
       "250700        B1  5dd7c119c5b77e0006b16b99       23  5dc8cea7659e181adb076a3f   \n",
       "250701        B1  5dd7c119c5b77e0006b16b99       23  5dc8cea7659e181adb076a3f   \n",
       "250702        B1  5dd7c119c5b77e0006b16b99       23  5dc8cea7659e181adb076a3f   \n",
       "250703        B1  5dd7c119c5b77e0006b16b99       23  5dc8cea7659e181adb076a3f   \n",
       "\n",
       "             oof_x       oof_y  oof_floor  \\\n",
       "0        77.620659   36.409447        0.0   \n",
       "1        81.419319   31.727907        0.0   \n",
       "2        81.226273   27.225170        0.0   \n",
       "3        80.750076   23.891800        0.0   \n",
       "4        80.918503   24.083487        0.0   \n",
       "...            ...         ...        ...   \n",
       "250699  200.230011   98.480148        0.0   \n",
       "250700  199.220306  100.779129        0.0   \n",
       "250701  198.818436   98.613800        0.0   \n",
       "250702  198.016602   97.356888        0.0   \n",
       "250703  197.034866   96.901611        0.0   \n",
       "\n",
       "                                      site_path_timestamp  \n",
       "0       5a0546857ecc773753327266_5d10a1669c50c70008fe8...  \n",
       "1       5a0546857ecc773753327266_5d10a1669c50c70008fe8...  \n",
       "2       5a0546857ecc773753327266_5d10a1669c50c70008fe8...  \n",
       "3       5a0546857ecc773753327266_5d10a1669c50c70008fe8...  \n",
       "4       5a0546857ecc773753327266_5d10a1669c50c70008fe8...  \n",
       "...                                                   ...  \n",
       "250699  5dc8cea7659e181adb076a3f_5dd7c119c5b77e0006b16...  \n",
       "250700  5dc8cea7659e181adb076a3f_5dd7c119c5b77e0006b16...  \n",
       "250701  5dc8cea7659e181adb076a3f_5dd7c119c5b77e0006b16...  \n",
       "250702  5dc8cea7659e181adb076a3f_5dd7c119c5b77e0006b16...  \n",
       "250703  5dc8cea7659e181adb076a3f_5dd7c119c5b77e0006b16...  \n",
       "\n",
       "[250704 rows x 14 columns]"
      ],
      "text/html": "<div>\n<style scoped>\n    .dataframe tbody tr th:only-of-type {\n        vertical-align: middle;\n    }\n\n    .dataframe tbody tr th {\n        vertical-align: top;\n    }\n\n    .dataframe thead th {\n        text-align: right;\n    }\n</style>\n<table border=\"1\" class=\"dataframe\">\n  <thead>\n    <tr style=\"text-align: right;\">\n      <th></th>\n      <th>timestamp</th>\n      <th>x</th>\n      <th>y</th>\n      <th>floor</th>\n      <th>ix</th>\n      <th>iy</th>\n      <th>floor_str</th>\n      <th>path</th>\n      <th>site_id</th>\n      <th>site_id_str</th>\n      <th>oof_x</th>\n      <th>oof_y</th>\n      <th>oof_floor</th>\n      <th>site_path_timestamp</th>\n    </tr>\n  </thead>\n  <tbody>\n    <tr>\n      <th>0</th>\n      <td>1561368762838</td>\n      <td>78.218193</td>\n      <td>38.999737</td>\n      <td>2.0</td>\n      <td>77.843651</td>\n      <td>37.382805</td>\n      <td>F3</td>\n      <td>5d10a1669c50c70008fe8977</td>\n      <td>0</td>\n      <td>5a0546857ecc773753327266</td>\n      <td>77.620659</td>\n      <td>36.409447</td>\n      <td>0.0</td>\n      <td>5a0546857ecc773753327266_5d10a1669c50c70008fe8...</td>\n    </tr>\n    <tr>\n      <th>1</th>\n      <td>1561368762838</td>\n      <td>78.218193</td>\n      <td>38.999737</td>\n      <td>2.0</td>\n      <td>77.562737</td>\n      <td>36.170105</td>\n      <td>F3</td>\n      <td>5d10a1669c50c70008fe8977</td>\n      <td>0</td>\n      <td>5a0546857ecc773753327266</td>\n      <td>81.419319</td>\n      <td>31.727907</td>\n      <td>0.0</td>\n      <td>5a0546857ecc773753327266_5d10a1669c50c70008fe8...</td>\n    </tr>\n    <tr>\n      <th>2</th>\n      <td>1561368774057</td>\n      <td>76.251839</td>\n      <td>30.510839</td>\n      <td>2.0</td>\n      <td>77.222664</td>\n      <td>21.330624</td>\n      <td>F3</td>\n      <td>5d10a1669c50c70008fe8977</td>\n      <td>0</td>\n      <td>5a0546857ecc773753327266</td>\n      <td>81.226273</td>\n      <td>27.225170</td>\n      <td>0.0</td>\n      <td>5a0546857ecc773753327266_5d10a1669c50c70008fe8...</td>\n    </tr>\n    <tr>\n      <th>3</th>\n      <td>1561368774057</td>\n      <td>76.251839</td>\n      <td>30.510839</td>\n      <td>2.0</td>\n      <td>76.994240</td>\n      <td>23.490675</td>\n      <td>F3</td>\n      <td>5d10a1669c50c70008fe8977</td>\n      <td>0</td>\n      <td>5a0546857ecc773753327266</td>\n      <td>80.750076</td>\n      <td>23.891800</td>\n      <td>0.0</td>\n      <td>5a0546857ecc773753327266_5d10a1669c50c70008fe8...</td>\n    </tr>\n    <tr>\n      <th>4</th>\n      <td>1561368774057</td>\n      <td>76.251839</td>\n      <td>30.510839</td>\n      <td>2.0</td>\n      <td>76.765808</td>\n      <td>25.650726</td>\n      <td>F3</td>\n      <td>5d10a1669c50c70008fe8977</td>\n      <td>0</td>\n      <td>5a0546857ecc773753327266</td>\n      <td>80.918503</td>\n      <td>24.083487</td>\n      <td>0.0</td>\n      <td>5a0546857ecc773753327266_5d10a1669c50c70008fe8...</td>\n    </tr>\n    <tr>\n      <th>...</th>\n      <td>...</td>\n      <td>...</td>\n      <td>...</td>\n      <td>...</td>\n      <td>...</td>\n      <td>...</td>\n      <td>...</td>\n      <td>...</td>\n      <td>...</td>\n      <td>...</td>\n      <td>...</td>\n      <td>...</td>\n      <td>...</td>\n      <td>...</td>\n    </tr>\n    <tr>\n      <th>250699</th>\n      <td>1574420742502</td>\n      <td>193.204880</td>\n      <td>108.001518</td>\n      <td>-1.0</td>\n      <td>194.090317</td>\n      <td>108.728462</td>\n      <td>B1</td>\n      <td>5dd7c119c5b77e0006b16b99</td>\n      <td>23</td>\n      <td>5dc8cea7659e181adb076a3f</td>\n      <td>200.230011</td>\n      <td>98.480148</td>\n      <td>0.0</td>\n      <td>5dc8cea7659e181adb076a3f_5dd7c119c5b77e0006b16...</td>\n    </tr>\n    <tr>\n      <th>250700</th>\n      <td>1574420742502</td>\n      <td>193.204880</td>\n      <td>108.001518</td>\n      <td>-1.0</td>\n      <td>193.559052</td>\n      <td>108.292297</td>\n      <td>B1</td>\n      <td>5dd7c119c5b77e0006b16b99</td>\n      <td>23</td>\n      <td>5dc8cea7659e181adb076a3f</td>\n      <td>199.220306</td>\n      <td>100.779129</td>\n      <td>0.0</td>\n      <td>5dc8cea7659e181adb076a3f_5dd7c119c5b77e0006b16...</td>\n    </tr>\n    <tr>\n      <th>250701</th>\n      <td>1574420753754</td>\n      <td>204.293488</td>\n      <td>107.835121</td>\n      <td>-1.0</td>\n      <td>203.237427</td>\n      <td>107.850967</td>\n      <td>B1</td>\n      <td>5dd7c119c5b77e0006b16b99</td>\n      <td>23</td>\n      <td>5dc8cea7659e181adb076a3f</td>\n      <td>198.818436</td>\n      <td>98.613800</td>\n      <td>0.0</td>\n      <td>5dc8cea7659e181adb076a3f_5dd7c119c5b77e0006b16...</td>\n    </tr>\n    <tr>\n      <th>250702</th>\n      <td>1574420753754</td>\n      <td>204.293488</td>\n      <td>107.835121</td>\n      <td>-1.0</td>\n      <td>201.653351</td>\n      <td>107.874741</td>\n      <td>B1</td>\n      <td>5dd7c119c5b77e0006b16b99</td>\n      <td>23</td>\n      <td>5dc8cea7659e181adb076a3f</td>\n      <td>198.016602</td>\n      <td>97.356888</td>\n      <td>0.0</td>\n      <td>5dc8cea7659e181adb076a3f_5dd7c119c5b77e0006b16...</td>\n    </tr>\n    <tr>\n      <th>250703</th>\n      <td>1574420753754</td>\n      <td>204.293488</td>\n      <td>107.835121</td>\n      <td>-1.0</td>\n      <td>200.069260</td>\n      <td>107.898514</td>\n      <td>B1</td>\n      <td>5dd7c119c5b77e0006b16b99</td>\n      <td>23</td>\n      <td>5dc8cea7659e181adb076a3f</td>\n      <td>197.034866</td>\n      <td>96.901611</td>\n      <td>0.0</td>\n      <td>5dc8cea7659e181adb076a3f_5dd7c119c5b77e0006b16...</td>\n    </tr>\n  </tbody>\n</table>\n<p>250704 rows × 14 columns</p>\n</div>"
     },
     "metadata": {},
     "execution_count": 24
    }
   ],
   "source": [
    "if len(USE_FOLDS) > 1:\n",
    "    oofs_df = pd.concat(oofs)\n",
    "else:\n",
    "    oofs_df = oofs[0]\n",
    "\n",
    "oofs_df['site_path_timestamp'] = oofs_df['site_id_str'].astype(str) + '_' + oofs_df['path'] + '_' + oofs_df['timestamp'].astype(str)\n",
    "oofs_df = oofs_df.sort_values('site_path_timestamp').reset_index(drop=True)\n",
    "oofs_df.to_csv(\"oof.csv\", index=False)\n",
    "oofs_df"
   ]
  },
  {
   "cell_type": "code",
   "execution_count": 25,
   "metadata": {},
   "outputs": [
    {
     "output_type": "stream",
     "name": "stdout",
     "text": [
      "CV:7.382515835407492\n"
     ]
    }
   ],
   "source": [
    "# waypoint補正前のx,yでの評価\n",
    "oof_score = mean_position_error(\n",
    "    oofs_df['oof_x'], oofs_df['oof_y'], 0, \n",
    "    oofs_df['x'], oofs_df['y'], 0\n",
    "    )\n",
    "wandb_config['CV'] = oof_score\n",
    "print(f\"CV:{oof_score}\")"
   ]
  },
  {
   "cell_type": "code",
   "execution_count": 26,
   "metadata": {},
   "outputs": [
    {
     "output_type": "stream",
     "name": "stdout",
     "text": [
      "CV:6.940646639064394\n"
     ]
    }
   ],
   "source": [
    "# waypoint補正後のx,yでの評価\n",
    "oof_score = mean_position_error(\n",
    "    oofs_df['oof_x'], oofs_df['oof_y'], 0, \n",
    "    oofs_df['ix'], oofs_df['iy'], 0\n",
    "    )\n",
    "wandb_config['CV-i'] = oof_score\n",
    "print(f\"CV:{oof_score}\")"
   ]
  },
  {
   "cell_type": "code",
   "execution_count": 27,
   "metadata": {},
   "outputs": [
    {
     "output_type": "execute_result",
     "data": {
      "text/plain": [
       "                                                    floor           x  \\\n",
       "site_path_timestamp                                                     \n",
       "5a0546857ecc773753327266_046cfa46be49fc10834815...      0   90.491798   \n",
       "5a0546857ecc773753327266_046cfa46be49fc10834815...      0   84.173866   \n",
       "5a0546857ecc773753327266_046cfa46be49fc10834815...      0   86.505280   \n",
       "5a0546857ecc773753327266_046cfa46be49fc10834815...      0   87.871765   \n",
       "5a0546857ecc773753327266_046cfa46be49fc10834815...      0   86.898941   \n",
       "...                                                   ...         ...   \n",
       "5dc8cea7659e181adb076a3f_fd64de8c4a2fc5ebb0e9f4...      0  214.603287   \n",
       "5dc8cea7659e181adb076a3f_fd64de8c4a2fc5ebb0e9f4...      0  211.672379   \n",
       "5dc8cea7659e181adb076a3f_fd64de8c4a2fc5ebb0e9f4...      0  207.530090   \n",
       "5dc8cea7659e181adb076a3f_fd64de8c4a2fc5ebb0e9f4...      0  202.523941   \n",
       "5dc8cea7659e181adb076a3f_fd64de8c4a2fc5ebb0e9f4...      0  200.638031   \n",
       "\n",
       "                                                             y  \n",
       "site_path_timestamp                                             \n",
       "5a0546857ecc773753327266_046cfa46be49fc10834815...  103.022545  \n",
       "5a0546857ecc773753327266_046cfa46be49fc10834815...  102.122147  \n",
       "5a0546857ecc773753327266_046cfa46be49fc10834815...  105.172203  \n",
       "5a0546857ecc773753327266_046cfa46be49fc10834815...  106.674225  \n",
       "5a0546857ecc773753327266_046cfa46be49fc10834815...  106.347961  \n",
       "...                                                        ...  \n",
       "5dc8cea7659e181adb076a3f_fd64de8c4a2fc5ebb0e9f4...   96.028061  \n",
       "5dc8cea7659e181adb076a3f_fd64de8c4a2fc5ebb0e9f4...   98.108070  \n",
       "5dc8cea7659e181adb076a3f_fd64de8c4a2fc5ebb0e9f4...  105.048706  \n",
       "5dc8cea7659e181adb076a3f_fd64de8c4a2fc5ebb0e9f4...  108.240150  \n",
       "5dc8cea7659e181adb076a3f_fd64de8c4a2fc5ebb0e9f4...  107.824944  \n",
       "\n",
       "[10133 rows x 3 columns]"
      ],
      "text/html": "<div>\n<style scoped>\n    .dataframe tbody tr th:only-of-type {\n        vertical-align: middle;\n    }\n\n    .dataframe tbody tr th {\n        vertical-align: top;\n    }\n\n    .dataframe thead th {\n        text-align: right;\n    }\n</style>\n<table border=\"1\" class=\"dataframe\">\n  <thead>\n    <tr style=\"text-align: right;\">\n      <th></th>\n      <th>floor</th>\n      <th>x</th>\n      <th>y</th>\n    </tr>\n    <tr>\n      <th>site_path_timestamp</th>\n      <th></th>\n      <th></th>\n      <th></th>\n    </tr>\n  </thead>\n  <tbody>\n    <tr>\n      <th>5a0546857ecc773753327266_046cfa46be49fc10834815c6_0000000000009</th>\n      <td>0</td>\n      <td>90.491798</td>\n      <td>103.022545</td>\n    </tr>\n    <tr>\n      <th>5a0546857ecc773753327266_046cfa46be49fc10834815c6_0000000009017</th>\n      <td>0</td>\n      <td>84.173866</td>\n      <td>102.122147</td>\n    </tr>\n    <tr>\n      <th>5a0546857ecc773753327266_046cfa46be49fc10834815c6_0000000015326</th>\n      <td>0</td>\n      <td>86.505280</td>\n      <td>105.172203</td>\n    </tr>\n    <tr>\n      <th>5a0546857ecc773753327266_046cfa46be49fc10834815c6_0000000018763</th>\n      <td>0</td>\n      <td>87.871765</td>\n      <td>106.674225</td>\n    </tr>\n    <tr>\n      <th>5a0546857ecc773753327266_046cfa46be49fc10834815c6_0000000022328</th>\n      <td>0</td>\n      <td>86.898941</td>\n      <td>106.347961</td>\n    </tr>\n    <tr>\n      <th>...</th>\n      <td>...</td>\n      <td>...</td>\n      <td>...</td>\n    </tr>\n    <tr>\n      <th>5dc8cea7659e181adb076a3f_fd64de8c4a2fc5ebb0e9f412_0000000082589</th>\n      <td>0</td>\n      <td>214.603287</td>\n      <td>96.028061</td>\n    </tr>\n    <tr>\n      <th>5dc8cea7659e181adb076a3f_fd64de8c4a2fc5ebb0e9f412_0000000085758</th>\n      <td>0</td>\n      <td>211.672379</td>\n      <td>98.108070</td>\n    </tr>\n    <tr>\n      <th>5dc8cea7659e181adb076a3f_fd64de8c4a2fc5ebb0e9f412_0000000090895</th>\n      <td>0</td>\n      <td>207.530090</td>\n      <td>105.048706</td>\n    </tr>\n    <tr>\n      <th>5dc8cea7659e181adb076a3f_fd64de8c4a2fc5ebb0e9f412_0000000096899</th>\n      <td>0</td>\n      <td>202.523941</td>\n      <td>108.240150</td>\n    </tr>\n    <tr>\n      <th>5dc8cea7659e181adb076a3f_fd64de8c4a2fc5ebb0e9f412_0000000100447</th>\n      <td>0</td>\n      <td>200.638031</td>\n      <td>107.824944</td>\n    </tr>\n  </tbody>\n</table>\n<p>10133 rows × 3 columns</p>\n</div>"
     },
     "metadata": {},
     "execution_count": 27
    }
   ],
   "source": [
    "if len(USE_FOLDS) > 1:\n",
    "    # foldの結果を平均した後、reindexでsubmission fileにindexを合わせる\n",
    "    sub = pd.concat(predictions).groupby('site_path_timestamp').mean()  # 平均でいいんだっけ？\n",
    "    sub.index = sub_df.index\n",
    "else:\n",
    "    sub = predictions[0]\n",
    "    sub.index = sub_df.index\n",
    "sub"
   ]
  },
  {
   "cell_type": "code",
   "execution_count": 28,
   "metadata": {},
   "outputs": [
    {
     "output_type": "execute_result",
     "data": {
      "text/plain": [
       "                                                    floor           x  \\\n",
       "site_path_timestamp                                                     \n",
       "5a0546857ecc773753327266_046cfa46be49fc10834815...      0   90.491798   \n",
       "5a0546857ecc773753327266_046cfa46be49fc10834815...      0   84.173866   \n",
       "5a0546857ecc773753327266_046cfa46be49fc10834815...      0   86.505280   \n",
       "5a0546857ecc773753327266_046cfa46be49fc10834815...      0   87.871765   \n",
       "5a0546857ecc773753327266_046cfa46be49fc10834815...      0   86.898941   \n",
       "...                                                   ...         ...   \n",
       "5dc8cea7659e181adb076a3f_fd64de8c4a2fc5ebb0e9f4...      5  214.603287   \n",
       "5dc8cea7659e181adb076a3f_fd64de8c4a2fc5ebb0e9f4...      5  211.672379   \n",
       "5dc8cea7659e181adb076a3f_fd64de8c4a2fc5ebb0e9f4...      5  207.530090   \n",
       "5dc8cea7659e181adb076a3f_fd64de8c4a2fc5ebb0e9f4...      5  202.523941   \n",
       "5dc8cea7659e181adb076a3f_fd64de8c4a2fc5ebb0e9f4...      5  200.638031   \n",
       "\n",
       "                                                             y  \n",
       "site_path_timestamp                                             \n",
       "5a0546857ecc773753327266_046cfa46be49fc10834815...  103.022545  \n",
       "5a0546857ecc773753327266_046cfa46be49fc10834815...  102.122147  \n",
       "5a0546857ecc773753327266_046cfa46be49fc10834815...  105.172203  \n",
       "5a0546857ecc773753327266_046cfa46be49fc10834815...  106.674225  \n",
       "5a0546857ecc773753327266_046cfa46be49fc10834815...  106.347961  \n",
       "...                                                        ...  \n",
       "5dc8cea7659e181adb076a3f_fd64de8c4a2fc5ebb0e9f4...   96.028061  \n",
       "5dc8cea7659e181adb076a3f_fd64de8c4a2fc5ebb0e9f4...   98.108070  \n",
       "5dc8cea7659e181adb076a3f_fd64de8c4a2fc5ebb0e9f4...  105.048706  \n",
       "5dc8cea7659e181adb076a3f_fd64de8c4a2fc5ebb0e9f4...  108.240150  \n",
       "5dc8cea7659e181adb076a3f_fd64de8c4a2fc5ebb0e9f4...  107.824944  \n",
       "\n",
       "[10133 rows x 3 columns]"
      ],
      "text/html": "<div>\n<style scoped>\n    .dataframe tbody tr th:only-of-type {\n        vertical-align: middle;\n    }\n\n    .dataframe tbody tr th {\n        vertical-align: top;\n    }\n\n    .dataframe thead th {\n        text-align: right;\n    }\n</style>\n<table border=\"1\" class=\"dataframe\">\n  <thead>\n    <tr style=\"text-align: right;\">\n      <th></th>\n      <th>floor</th>\n      <th>x</th>\n      <th>y</th>\n    </tr>\n    <tr>\n      <th>site_path_timestamp</th>\n      <th></th>\n      <th></th>\n      <th></th>\n    </tr>\n  </thead>\n  <tbody>\n    <tr>\n      <th>5a0546857ecc773753327266_046cfa46be49fc10834815c6_0000000000009</th>\n      <td>0</td>\n      <td>90.491798</td>\n      <td>103.022545</td>\n    </tr>\n    <tr>\n      <th>5a0546857ecc773753327266_046cfa46be49fc10834815c6_0000000009017</th>\n      <td>0</td>\n      <td>84.173866</td>\n      <td>102.122147</td>\n    </tr>\n    <tr>\n      <th>5a0546857ecc773753327266_046cfa46be49fc10834815c6_0000000015326</th>\n      <td>0</td>\n      <td>86.505280</td>\n      <td>105.172203</td>\n    </tr>\n    <tr>\n      <th>5a0546857ecc773753327266_046cfa46be49fc10834815c6_0000000018763</th>\n      <td>0</td>\n      <td>87.871765</td>\n      <td>106.674225</td>\n    </tr>\n    <tr>\n      <th>5a0546857ecc773753327266_046cfa46be49fc10834815c6_0000000022328</th>\n      <td>0</td>\n      <td>86.898941</td>\n      <td>106.347961</td>\n    </tr>\n    <tr>\n      <th>...</th>\n      <td>...</td>\n      <td>...</td>\n      <td>...</td>\n    </tr>\n    <tr>\n      <th>5dc8cea7659e181adb076a3f_fd64de8c4a2fc5ebb0e9f412_0000000082589</th>\n      <td>5</td>\n      <td>214.603287</td>\n      <td>96.028061</td>\n    </tr>\n    <tr>\n      <th>5dc8cea7659e181adb076a3f_fd64de8c4a2fc5ebb0e9f412_0000000085758</th>\n      <td>5</td>\n      <td>211.672379</td>\n      <td>98.108070</td>\n    </tr>\n    <tr>\n      <th>5dc8cea7659e181adb076a3f_fd64de8c4a2fc5ebb0e9f412_0000000090895</th>\n      <td>5</td>\n      <td>207.530090</td>\n      <td>105.048706</td>\n    </tr>\n    <tr>\n      <th>5dc8cea7659e181adb076a3f_fd64de8c4a2fc5ebb0e9f412_0000000096899</th>\n      <td>5</td>\n      <td>202.523941</td>\n      <td>108.240150</td>\n    </tr>\n    <tr>\n      <th>5dc8cea7659e181adb076a3f_fd64de8c4a2fc5ebb0e9f412_0000000100447</th>\n      <td>5</td>\n      <td>200.638031</td>\n      <td>107.824944</td>\n    </tr>\n  </tbody>\n</table>\n<p>10133 rows × 3 columns</p>\n</div>"
     },
     "metadata": {},
     "execution_count": 28
    }
   ],
   "source": [
    "# floorの数値を置換\n",
    "simple_accurate_99 = pd.read_csv(root_dir / 'simple-99-accurate-floor-model/submission.csv')\n",
    "sub['floor'] = simple_accurate_99['floor'].values\n",
    "sub"
   ]
  },
  {
   "cell_type": "markdown",
   "metadata": {},
   "source": [
    "## testのwaypointを予測結果(wifi)から再度線形補完"
   ]
  },
  {
   "cell_type": "code",
   "execution_count": 29,
   "metadata": {},
   "outputs": [],
   "source": [
    "import sys \n",
    "sys.path.append(\"../../\")\n",
    "from multiprocessing import Pool\n",
    "from src.io_f import read_data_file\n",
    "from scipy import interpolate\n",
    "\n",
    "# timestampとwaypointを元に線形補完しtarget_timestampに対応するtarget_waypointを求める　\n",
    "def wifi_waypoint_by_linear_interpolation(\n",
    "    observed_timestamp: np.ndarray, \n",
    "    observed_x:np.ndarray, \n",
    "    observed_y:np.ndarray, \n",
    "    target_timestamp:np.ndarray, \n",
    "    delta_time=500\n",
    "    ):\n",
    "    \"\"\"\n",
    "    observed: すでに知っている情報\n",
    "    observed-timestamp,x,yは全て同じ要素数となる\n",
    "\n",
    "    observedの情報からfitting関数を作成\n",
    "    \"\"\"\n",
    "    target_waypoint_list = []\n",
    "    num_interpolation = len(observed_timestamp) - 1  # 補完回数 \n",
    "    # 各waypoint間で線形補完\n",
    "    for i in range(num_interpolation):\n",
    "        # 潜在的なtimestampを作成(これのどれかにwifiを当てはめるような形)\n",
    "        n_split = int((max(observed_timestamp[i:i+2]) - min(observed_timestamp[i:i+2])) / delta_time) + 2  # delta_time刻みとなるように分割数を指定(+2は始点と終点分)\n",
    "        latent_timestamp = np.linspace(min(observed_timestamp[i:i+2]), max(observed_timestamp[i:i+2]), n_split).astype(int) \n",
    "        \n",
    "        # xが昇順の場合はlatentも昇順になるようにする\n",
    "        if observed_x[i] < observed_x[i+1]:\n",
    "            latent_x = np.linspace(min(observed_x[i:i+2]), max(observed_x[i:i+2]), n_split)\n",
    "        # xが降順の場合はlatentも降順になるようにする\n",
    "        else:\n",
    "            latent_x = np.linspace(min(observed_x[i:i+2]), max(observed_x[i:i+2]), n_split)[::-1]\n",
    "        \n",
    "        # 線形補完関数の適用\n",
    "        fitting_func = interpolate.interp1d(observed_x[i:i+2], observed_y[i:i+2])\n",
    "\n",
    "        # wifiのtimestampに最も近いものをsplit_timestampから取得しそれに対応するwaypointをwifiのwaypointとして取得\n",
    "        target_x = []\n",
    "        target_y = []\n",
    "\n",
    "        # 区間内のwifiデータのみ考える\n",
    "        if i == num_interpolation-1:\n",
    "            # pathの最後の区間にobserved timestampより未来にあるtimestampに対処\n",
    "            target_idx = min(observed_timestamp[i:i+2]) <= target_timestamp\n",
    "        elif i == 0:\n",
    "            # pathの最初の区間にobserved timestampより過去にあるtimestampに対処\n",
    "            target_idx = target_timestamp < max(observed_timestamp[i:i+2])\n",
    "        else:\n",
    "            target_idx = (min(observed_timestamp[i:i+2]) <= target_timestamp) & (target_timestamp < max(observed_timestamp[i:i+2]))\n",
    "        target_use_timestamp = target_timestamp[target_idx]\n",
    "\n",
    "        # timestampが最も近いものをtarget waypointとして取得\n",
    "        for t in target_use_timestamp:\n",
    "            idx = np.abs(latent_timestamp - t).argmin()  # targetとtimestampが最も近いものをlatentから取得\n",
    "            target_x.append(latent_x[idx])\n",
    "            # 原因はよくわからないがfittingするとnanが発生する場合がある\n",
    "            # その場合は元の値をそのまま使う\n",
    "            if np.isnan(fitting_func(latent_x[idx])).sum() > 0:\n",
    "                # print('yに欠損値あり')\n",
    "                idx = np.abs(observed_timestamp - t).argmin()  # 0→wifiの最初のtimestampで問題が起きている\n",
    "                target_y.append(observed_y[idx])\n",
    "                \n",
    "            else:\n",
    "                target_y.append(fitting_func(latent_x[idx]))\n",
    "\n",
    "        assert len(target_x) == len(target_y)\n",
    "        target_waypoint = np.stack([target_x, target_y], axis=1)\n",
    "        target_waypoint_list.append(target_waypoint)\n",
    "\n",
    "    target_waypoint = np.concatenate(target_waypoint_list)\n",
    "    return target_waypoint"
   ]
  },
  {
   "cell_type": "code",
   "execution_count": 30,
   "metadata": {},
   "outputs": [
    {
     "output_type": "execute_result",
     "data": {
      "text/plain": [
       "                                         ssid_0  \\\n",
       "0      da39a3ee5e6b4b0d3255bfef95601890afd80709   \n",
       "1      da39a3ee5e6b4b0d3255bfef95601890afd80709   \n",
       "2      b6ffe5619e02871fcd04f61c9bb4b5c53a3f46b7   \n",
       "3      da39a3ee5e6b4b0d3255bfef95601890afd80709   \n",
       "4      da39a3ee5e6b4b0d3255bfef95601890afd80709   \n",
       "...                                         ...   \n",
       "10128  0f927dce74ec3475c7a39299e5bffab222ca665d   \n",
       "10129  8e69018f6343506344ab13646ccd9447fc2ffb19   \n",
       "10130  8e69018f6343506344ab13646ccd9447fc2ffb19   \n",
       "10131  5d998a8668536c4f51004c25f474117fe9555f78   \n",
       "10132  aa449fabc4dcb24836d950b5cff91f08e574c3a7   \n",
       "\n",
       "                                         ssid_1  \\\n",
       "0      b9f0208be00bd8b337be7f12e02e3a3ce846e22b   \n",
       "1      d839a45ebe64ab48b60a407d837fb01d3c0dfef9   \n",
       "2      da39a3ee5e6b4b0d3255bfef95601890afd80709   \n",
       "3      da39a3ee5e6b4b0d3255bfef95601890afd80709   \n",
       "4      da39a3ee5e6b4b0d3255bfef95601890afd80709   \n",
       "...                                         ...   \n",
       "10128  5d998a8668536c4f51004c25f474117fe9555f78   \n",
       "10129  0f927dce74ec3475c7a39299e5bffab222ca665d   \n",
       "10130  5d998a8668536c4f51004c25f474117fe9555f78   \n",
       "10131  8e69018f6343506344ab13646ccd9447fc2ffb19   \n",
       "10132  5d998a8668536c4f51004c25f474117fe9555f78   \n",
       "\n",
       "                                         ssid_2  \\\n",
       "0      ab150ecf6d972b476aeab16317bed6189d9f7cce   \n",
       "1      b6ffe5619e02871fcd04f61c9bb4b5c53a3f46b7   \n",
       "2      b7e6027447eb1f81327d66cfd3adbe557aabf26c   \n",
       "3      b9f0208be00bd8b337be7f12e02e3a3ce846e22b   \n",
       "4      da39a3ee5e6b4b0d3255bfef95601890afd80709   \n",
       "...                                         ...   \n",
       "10128  8e69018f6343506344ab13646ccd9447fc2ffb19   \n",
       "10129  efa1fe97c4b2a6c57d98de9c236a109032ceb839   \n",
       "10130  8e69018f6343506344ab13646ccd9447fc2ffb19   \n",
       "10131  5d998a8668536c4f51004c25f474117fe9555f78   \n",
       "10132  da39a3ee5e6b4b0d3255bfef95601890afd80709   \n",
       "\n",
       "                                         ssid_3  \\\n",
       "0      b6ffe5619e02871fcd04f61c9bb4b5c53a3f46b7   \n",
       "1      b7e6027447eb1f81327d66cfd3adbe557aabf26c   \n",
       "2      d839a45ebe64ab48b60a407d837fb01d3c0dfef9   \n",
       "3      d839a45ebe64ab48b60a407d837fb01d3c0dfef9   \n",
       "4      7182afc4e5c212133d5d7d76eb3df6c24618302b   \n",
       "...                                         ...   \n",
       "10128  efa1fe97c4b2a6c57d98de9c236a109032ceb839   \n",
       "10129  da39a3ee5e6b4b0d3255bfef95601890afd80709   \n",
       "10130  5d998a8668536c4f51004c25f474117fe9555f78   \n",
       "10131  8e69018f6343506344ab13646ccd9447fc2ffb19   \n",
       "10132  da39a3ee5e6b4b0d3255bfef95601890afd80709   \n",
       "\n",
       "                                         ssid_4  \\\n",
       "0      da39a3ee5e6b4b0d3255bfef95601890afd80709   \n",
       "1      d839a45ebe64ab48b60a407d837fb01d3c0dfef9   \n",
       "2      7182afc4e5c212133d5d7d76eb3df6c24618302b   \n",
       "3      b6ffe5619e02871fcd04f61c9bb4b5c53a3f46b7   \n",
       "4      b9f0208be00bd8b337be7f12e02e3a3ce846e22b   \n",
       "...                                         ...   \n",
       "10128  da39a3ee5e6b4b0d3255bfef95601890afd80709   \n",
       "10129  5d998a8668536c4f51004c25f474117fe9555f78   \n",
       "10130  c72257cf75d6a411225948bbc4e37ad554e7beda   \n",
       "10131  da39a3ee5e6b4b0d3255bfef95601890afd80709   \n",
       "10132  6381b3137285875eda5bc77d9b8cc7650f0f5d7d   \n",
       "\n",
       "                                         ssid_5  \\\n",
       "0      b7e6027447eb1f81327d66cfd3adbe557aabf26c   \n",
       "1      7182afc4e5c212133d5d7d76eb3df6c24618302b   \n",
       "2      b9f0208be00bd8b337be7f12e02e3a3ce846e22b   \n",
       "3      b7e6027447eb1f81327d66cfd3adbe557aabf26c   \n",
       "4      b6ffe5619e02871fcd04f61c9bb4b5c53a3f46b7   \n",
       "...                                         ...   \n",
       "10128  5d998a8668536c4f51004c25f474117fe9555f78   \n",
       "10129  5d998a8668536c4f51004c25f474117fe9555f78   \n",
       "10130  da39a3ee5e6b4b0d3255bfef95601890afd80709   \n",
       "10131  aa449fabc4dcb24836d950b5cff91f08e574c3a7   \n",
       "10132  efa1fe97c4b2a6c57d98de9c236a109032ceb839   \n",
       "\n",
       "                                         ssid_6  \\\n",
       "0      d839a45ebe64ab48b60a407d837fb01d3c0dfef9   \n",
       "1      b9f0208be00bd8b337be7f12e02e3a3ce846e22b   \n",
       "2      da39a3ee5e6b4b0d3255bfef95601890afd80709   \n",
       "3      b7e6027447eb1f81327d66cfd3adbe557aabf26c   \n",
       "4      b7e6027447eb1f81327d66cfd3adbe557aabf26c   \n",
       "...                                         ...   \n",
       "10128  c72257cf75d6a411225948bbc4e37ad554e7beda   \n",
       "10129  da39a3ee5e6b4b0d3255bfef95601890afd80709   \n",
       "10130  5d998a8668536c4f51004c25f474117fe9555f78   \n",
       "10131  c72257cf75d6a411225948bbc4e37ad554e7beda   \n",
       "10132  0eb4ecd03a3128e62bdff60e6f686d88e783441e   \n",
       "\n",
       "                                         ssid_7  \\\n",
       "0      7182afc4e5c212133d5d7d76eb3df6c24618302b   \n",
       "1      7182afc4e5c212133d5d7d76eb3df6c24618302b   \n",
       "2      b9f0208be00bd8b337be7f12e02e3a3ce846e22b   \n",
       "3      7182afc4e5c212133d5d7d76eb3df6c24618302b   \n",
       "4      26571eb257b6a34b6beb93c05768e751d19279a6   \n",
       "...                                         ...   \n",
       "10128  da39a3ee5e6b4b0d3255bfef95601890afd80709   \n",
       "10129  8e69018f6343506344ab13646ccd9447fc2ffb19   \n",
       "10130  da39a3ee5e6b4b0d3255bfef95601890afd80709   \n",
       "10131  da39a3ee5e6b4b0d3255bfef95601890afd80709   \n",
       "10132  8e69018f6343506344ab13646ccd9447fc2ffb19   \n",
       "\n",
       "                                         ssid_8  \\\n",
       "0      da39a3ee5e6b4b0d3255bfef95601890afd80709   \n",
       "1      b7e6027447eb1f81327d66cfd3adbe557aabf26c   \n",
       "2      b6ffe5619e02871fcd04f61c9bb4b5c53a3f46b7   \n",
       "3      5731b8e08abc69d4c4d685c58164059207c93310   \n",
       "4      d839a45ebe64ab48b60a407d837fb01d3c0dfef9   \n",
       "...                                         ...   \n",
       "10128  5d998a8668536c4f51004c25f474117fe9555f78   \n",
       "10129  5d998a8668536c4f51004c25f474117fe9555f78   \n",
       "10130  5d998a8668536c4f51004c25f474117fe9555f78   \n",
       "10131  efa1fe97c4b2a6c57d98de9c236a109032ceb839   \n",
       "10132  0f927dce74ec3475c7a39299e5bffab222ca665d   \n",
       "\n",
       "                                         ssid_9  ... timediff_99  \\\n",
       "0      01e78c97f2c04cdbc7c4159158bb125a9bb558ff  ...     15614.0   \n",
       "1      b6ffe5619e02871fcd04f61c9bb4b5c53a3f46b7  ...       353.0   \n",
       "2      d839a45ebe64ab48b60a407d837fb01d3c0dfef9  ...      9441.0   \n",
       "3      d839a45ebe64ab48b60a407d837fb01d3c0dfef9  ...      8322.0   \n",
       "4      d839a45ebe64ab48b60a407d837fb01d3c0dfef9  ...       647.0   \n",
       "...                                         ...  ...         ...   \n",
       "10128  da39a3ee5e6b4b0d3255bfef95601890afd80709  ...      1409.0   \n",
       "10129  0eb4ecd03a3128e62bdff60e6f686d88e783441e  ...      3074.0   \n",
       "10130  5d998a8668536c4f51004c25f474117fe9555f78  ...       357.0   \n",
       "10131  6381b3137285875eda5bc77d9b8cc7650f0f5d7d  ...       479.0   \n",
       "10132  da39a3ee5e6b4b0d3255bfef95601890afd80709  ...      1839.0   \n",
       "\n",
       "           timestamp                      path                   site_id  \\\n",
       "0      1578474563646  046cfa46be49fc10834815c6  5a0546857ecc773753327266   \n",
       "1      1578474572654  046cfa46be49fc10834815c6  5a0546857ecc773753327266   \n",
       "2      1578474578963  046cfa46be49fc10834815c6  5a0546857ecc773753327266   \n",
       "3      1578474582400  046cfa46be49fc10834815c6  5a0546857ecc773753327266   \n",
       "4      1578474585965  046cfa46be49fc10834815c6  5a0546857ecc773753327266   \n",
       "...              ...                       ...                       ...   \n",
       "10128  1573731143256  fd64de8c4a2fc5ebb0e9f412  5dc8cea7659e181adb076a3f   \n",
       "10129  1573731146426  fd64de8c4a2fc5ebb0e9f412  5dc8cea7659e181adb076a3f   \n",
       "10130  1573731151563  fd64de8c4a2fc5ebb0e9f412  5dc8cea7659e181adb076a3f   \n",
       "10131  1573731157567  fd64de8c4a2fc5ebb0e9f412  5dc8cea7659e181adb076a3f   \n",
       "10132  1573731161115  fd64de8c4a2fc5ebb0e9f412  5dc8cea7659e181adb076a3f   \n",
       "\n",
       "      timediff                                site_path_timestamp floor  \\\n",
       "0        -2331  5a0546857ecc773753327266_046cfa46be49fc1083481...     0   \n",
       "1         -491  5a0546857ecc773753327266_046cfa46be49fc1083481...     0   \n",
       "2          612  5a0546857ecc773753327266_046cfa46be49fc1083481...     0   \n",
       "3         -824  5a0546857ecc773753327266_046cfa46be49fc1083481...     0   \n",
       "4          254  5a0546857ecc773753327266_046cfa46be49fc1083481...     0   \n",
       "...        ...                                                ...   ...   \n",
       "10128      925  5dc8cea7659e181adb076a3f_fd64de8c4a2fc5ebb0e9f...     5   \n",
       "10129      123  5dc8cea7659e181adb076a3f_fd64de8c4a2fc5ebb0e9f...     5   \n",
       "10130     -625  5dc8cea7659e181adb076a3f_fd64de8c4a2fc5ebb0e9f...     5   \n",
       "10131     -528  5dc8cea7659e181adb076a3f_fd64de8c4a2fc5ebb0e9f...     5   \n",
       "10132     1019  5dc8cea7659e181adb076a3f_fd64de8c4a2fc5ebb0e9f...     5   \n",
       "\n",
       "                x           y wifi_timestamp  \n",
       "0       90.491798  103.022545  1578474565977  \n",
       "1       84.173866  102.122147  1578474573145  \n",
       "2       86.505280  105.172203  1578474578351  \n",
       "3       87.871765  106.674225  1578474583224  \n",
       "4       86.898941  106.347961  1578474585711  \n",
       "...           ...         ...            ...  \n",
       "10128  214.603287   96.028061  1573731142331  \n",
       "10129  211.672379   98.108070  1573731146303  \n",
       "10130  207.530090  105.048706  1573731152188  \n",
       "10131  202.523941  108.240150  1573731158095  \n",
       "10132  200.638031  107.824944  1573731160096  \n",
       "\n",
       "[10133 rows x 509 columns]"
      ],
      "text/html": "<div>\n<style scoped>\n    .dataframe tbody tr th:only-of-type {\n        vertical-align: middle;\n    }\n\n    .dataframe tbody tr th {\n        vertical-align: top;\n    }\n\n    .dataframe thead th {\n        text-align: right;\n    }\n</style>\n<table border=\"1\" class=\"dataframe\">\n  <thead>\n    <tr style=\"text-align: right;\">\n      <th></th>\n      <th>ssid_0</th>\n      <th>ssid_1</th>\n      <th>ssid_2</th>\n      <th>ssid_3</th>\n      <th>ssid_4</th>\n      <th>ssid_5</th>\n      <th>ssid_6</th>\n      <th>ssid_7</th>\n      <th>ssid_8</th>\n      <th>ssid_9</th>\n      <th>...</th>\n      <th>timediff_99</th>\n      <th>timestamp</th>\n      <th>path</th>\n      <th>site_id</th>\n      <th>timediff</th>\n      <th>site_path_timestamp</th>\n      <th>floor</th>\n      <th>x</th>\n      <th>y</th>\n      <th>wifi_timestamp</th>\n    </tr>\n  </thead>\n  <tbody>\n    <tr>\n      <th>0</th>\n      <td>da39a3ee5e6b4b0d3255bfef95601890afd80709</td>\n      <td>b9f0208be00bd8b337be7f12e02e3a3ce846e22b</td>\n      <td>ab150ecf6d972b476aeab16317bed6189d9f7cce</td>\n      <td>b6ffe5619e02871fcd04f61c9bb4b5c53a3f46b7</td>\n      <td>da39a3ee5e6b4b0d3255bfef95601890afd80709</td>\n      <td>b7e6027447eb1f81327d66cfd3adbe557aabf26c</td>\n      <td>d839a45ebe64ab48b60a407d837fb01d3c0dfef9</td>\n      <td>7182afc4e5c212133d5d7d76eb3df6c24618302b</td>\n      <td>da39a3ee5e6b4b0d3255bfef95601890afd80709</td>\n      <td>01e78c97f2c04cdbc7c4159158bb125a9bb558ff</td>\n      <td>...</td>\n      <td>15614.0</td>\n      <td>1578474563646</td>\n      <td>046cfa46be49fc10834815c6</td>\n      <td>5a0546857ecc773753327266</td>\n      <td>-2331</td>\n      <td>5a0546857ecc773753327266_046cfa46be49fc1083481...</td>\n      <td>0</td>\n      <td>90.491798</td>\n      <td>103.022545</td>\n      <td>1578474565977</td>\n    </tr>\n    <tr>\n      <th>1</th>\n      <td>da39a3ee5e6b4b0d3255bfef95601890afd80709</td>\n      <td>d839a45ebe64ab48b60a407d837fb01d3c0dfef9</td>\n      <td>b6ffe5619e02871fcd04f61c9bb4b5c53a3f46b7</td>\n      <td>b7e6027447eb1f81327d66cfd3adbe557aabf26c</td>\n      <td>d839a45ebe64ab48b60a407d837fb01d3c0dfef9</td>\n      <td>7182afc4e5c212133d5d7d76eb3df6c24618302b</td>\n      <td>b9f0208be00bd8b337be7f12e02e3a3ce846e22b</td>\n      <td>7182afc4e5c212133d5d7d76eb3df6c24618302b</td>\n      <td>b7e6027447eb1f81327d66cfd3adbe557aabf26c</td>\n      <td>b6ffe5619e02871fcd04f61c9bb4b5c53a3f46b7</td>\n      <td>...</td>\n      <td>353.0</td>\n      <td>1578474572654</td>\n      <td>046cfa46be49fc10834815c6</td>\n      <td>5a0546857ecc773753327266</td>\n      <td>-491</td>\n      <td>5a0546857ecc773753327266_046cfa46be49fc1083481...</td>\n      <td>0</td>\n      <td>84.173866</td>\n      <td>102.122147</td>\n      <td>1578474573145</td>\n    </tr>\n    <tr>\n      <th>2</th>\n      <td>b6ffe5619e02871fcd04f61c9bb4b5c53a3f46b7</td>\n      <td>da39a3ee5e6b4b0d3255bfef95601890afd80709</td>\n      <td>b7e6027447eb1f81327d66cfd3adbe557aabf26c</td>\n      <td>d839a45ebe64ab48b60a407d837fb01d3c0dfef9</td>\n      <td>7182afc4e5c212133d5d7d76eb3df6c24618302b</td>\n      <td>b9f0208be00bd8b337be7f12e02e3a3ce846e22b</td>\n      <td>da39a3ee5e6b4b0d3255bfef95601890afd80709</td>\n      <td>b9f0208be00bd8b337be7f12e02e3a3ce846e22b</td>\n      <td>b6ffe5619e02871fcd04f61c9bb4b5c53a3f46b7</td>\n      <td>d839a45ebe64ab48b60a407d837fb01d3c0dfef9</td>\n      <td>...</td>\n      <td>9441.0</td>\n      <td>1578474578963</td>\n      <td>046cfa46be49fc10834815c6</td>\n      <td>5a0546857ecc773753327266</td>\n      <td>612</td>\n      <td>5a0546857ecc773753327266_046cfa46be49fc1083481...</td>\n      <td>0</td>\n      <td>86.505280</td>\n      <td>105.172203</td>\n      <td>1578474578351</td>\n    </tr>\n    <tr>\n      <th>3</th>\n      <td>da39a3ee5e6b4b0d3255bfef95601890afd80709</td>\n      <td>da39a3ee5e6b4b0d3255bfef95601890afd80709</td>\n      <td>b9f0208be00bd8b337be7f12e02e3a3ce846e22b</td>\n      <td>d839a45ebe64ab48b60a407d837fb01d3c0dfef9</td>\n      <td>b6ffe5619e02871fcd04f61c9bb4b5c53a3f46b7</td>\n      <td>b7e6027447eb1f81327d66cfd3adbe557aabf26c</td>\n      <td>b7e6027447eb1f81327d66cfd3adbe557aabf26c</td>\n      <td>7182afc4e5c212133d5d7d76eb3df6c24618302b</td>\n      <td>5731b8e08abc69d4c4d685c58164059207c93310</td>\n      <td>d839a45ebe64ab48b60a407d837fb01d3c0dfef9</td>\n      <td>...</td>\n      <td>8322.0</td>\n      <td>1578474582400</td>\n      <td>046cfa46be49fc10834815c6</td>\n      <td>5a0546857ecc773753327266</td>\n      <td>-824</td>\n      <td>5a0546857ecc773753327266_046cfa46be49fc1083481...</td>\n      <td>0</td>\n      <td>87.871765</td>\n      <td>106.674225</td>\n      <td>1578474583224</td>\n    </tr>\n    <tr>\n      <th>4</th>\n      <td>da39a3ee5e6b4b0d3255bfef95601890afd80709</td>\n      <td>da39a3ee5e6b4b0d3255bfef95601890afd80709</td>\n      <td>da39a3ee5e6b4b0d3255bfef95601890afd80709</td>\n      <td>7182afc4e5c212133d5d7d76eb3df6c24618302b</td>\n      <td>b9f0208be00bd8b337be7f12e02e3a3ce846e22b</td>\n      <td>b6ffe5619e02871fcd04f61c9bb4b5c53a3f46b7</td>\n      <td>b7e6027447eb1f81327d66cfd3adbe557aabf26c</td>\n      <td>26571eb257b6a34b6beb93c05768e751d19279a6</td>\n      <td>d839a45ebe64ab48b60a407d837fb01d3c0dfef9</td>\n      <td>d839a45ebe64ab48b60a407d837fb01d3c0dfef9</td>\n      <td>...</td>\n      <td>647.0</td>\n      <td>1578474585965</td>\n      <td>046cfa46be49fc10834815c6</td>\n      <td>5a0546857ecc773753327266</td>\n      <td>254</td>\n      <td>5a0546857ecc773753327266_046cfa46be49fc1083481...</td>\n      <td>0</td>\n      <td>86.898941</td>\n      <td>106.347961</td>\n      <td>1578474585711</td>\n    </tr>\n    <tr>\n      <th>...</th>\n      <td>...</td>\n      <td>...</td>\n      <td>...</td>\n      <td>...</td>\n      <td>...</td>\n      <td>...</td>\n      <td>...</td>\n      <td>...</td>\n      <td>...</td>\n      <td>...</td>\n      <td>...</td>\n      <td>...</td>\n      <td>...</td>\n      <td>...</td>\n      <td>...</td>\n      <td>...</td>\n      <td>...</td>\n      <td>...</td>\n      <td>...</td>\n      <td>...</td>\n      <td>...</td>\n    </tr>\n    <tr>\n      <th>10128</th>\n      <td>0f927dce74ec3475c7a39299e5bffab222ca665d</td>\n      <td>5d998a8668536c4f51004c25f474117fe9555f78</td>\n      <td>8e69018f6343506344ab13646ccd9447fc2ffb19</td>\n      <td>efa1fe97c4b2a6c57d98de9c236a109032ceb839</td>\n      <td>da39a3ee5e6b4b0d3255bfef95601890afd80709</td>\n      <td>5d998a8668536c4f51004c25f474117fe9555f78</td>\n      <td>c72257cf75d6a411225948bbc4e37ad554e7beda</td>\n      <td>da39a3ee5e6b4b0d3255bfef95601890afd80709</td>\n      <td>5d998a8668536c4f51004c25f474117fe9555f78</td>\n      <td>da39a3ee5e6b4b0d3255bfef95601890afd80709</td>\n      <td>...</td>\n      <td>1409.0</td>\n      <td>1573731143256</td>\n      <td>fd64de8c4a2fc5ebb0e9f412</td>\n      <td>5dc8cea7659e181adb076a3f</td>\n      <td>925</td>\n      <td>5dc8cea7659e181adb076a3f_fd64de8c4a2fc5ebb0e9f...</td>\n      <td>5</td>\n      <td>214.603287</td>\n      <td>96.028061</td>\n      <td>1573731142331</td>\n    </tr>\n    <tr>\n      <th>10129</th>\n      <td>8e69018f6343506344ab13646ccd9447fc2ffb19</td>\n      <td>0f927dce74ec3475c7a39299e5bffab222ca665d</td>\n      <td>efa1fe97c4b2a6c57d98de9c236a109032ceb839</td>\n      <td>da39a3ee5e6b4b0d3255bfef95601890afd80709</td>\n      <td>5d998a8668536c4f51004c25f474117fe9555f78</td>\n      <td>5d998a8668536c4f51004c25f474117fe9555f78</td>\n      <td>da39a3ee5e6b4b0d3255bfef95601890afd80709</td>\n      <td>8e69018f6343506344ab13646ccd9447fc2ffb19</td>\n      <td>5d998a8668536c4f51004c25f474117fe9555f78</td>\n      <td>0eb4ecd03a3128e62bdff60e6f686d88e783441e</td>\n      <td>...</td>\n      <td>3074.0</td>\n      <td>1573731146426</td>\n      <td>fd64de8c4a2fc5ebb0e9f412</td>\n      <td>5dc8cea7659e181adb076a3f</td>\n      <td>123</td>\n      <td>5dc8cea7659e181adb076a3f_fd64de8c4a2fc5ebb0e9f...</td>\n      <td>5</td>\n      <td>211.672379</td>\n      <td>98.108070</td>\n      <td>1573731146303</td>\n    </tr>\n    <tr>\n      <th>10130</th>\n      <td>8e69018f6343506344ab13646ccd9447fc2ffb19</td>\n      <td>5d998a8668536c4f51004c25f474117fe9555f78</td>\n      <td>8e69018f6343506344ab13646ccd9447fc2ffb19</td>\n      <td>5d998a8668536c4f51004c25f474117fe9555f78</td>\n      <td>c72257cf75d6a411225948bbc4e37ad554e7beda</td>\n      <td>da39a3ee5e6b4b0d3255bfef95601890afd80709</td>\n      <td>5d998a8668536c4f51004c25f474117fe9555f78</td>\n      <td>da39a3ee5e6b4b0d3255bfef95601890afd80709</td>\n      <td>5d998a8668536c4f51004c25f474117fe9555f78</td>\n      <td>5d998a8668536c4f51004c25f474117fe9555f78</td>\n      <td>...</td>\n      <td>357.0</td>\n      <td>1573731151563</td>\n      <td>fd64de8c4a2fc5ebb0e9f412</td>\n      <td>5dc8cea7659e181adb076a3f</td>\n      <td>-625</td>\n      <td>5dc8cea7659e181adb076a3f_fd64de8c4a2fc5ebb0e9f...</td>\n      <td>5</td>\n      <td>207.530090</td>\n      <td>105.048706</td>\n      <td>1573731152188</td>\n    </tr>\n    <tr>\n      <th>10131</th>\n      <td>5d998a8668536c4f51004c25f474117fe9555f78</td>\n      <td>8e69018f6343506344ab13646ccd9447fc2ffb19</td>\n      <td>5d998a8668536c4f51004c25f474117fe9555f78</td>\n      <td>8e69018f6343506344ab13646ccd9447fc2ffb19</td>\n      <td>da39a3ee5e6b4b0d3255bfef95601890afd80709</td>\n      <td>aa449fabc4dcb24836d950b5cff91f08e574c3a7</td>\n      <td>c72257cf75d6a411225948bbc4e37ad554e7beda</td>\n      <td>da39a3ee5e6b4b0d3255bfef95601890afd80709</td>\n      <td>efa1fe97c4b2a6c57d98de9c236a109032ceb839</td>\n      <td>6381b3137285875eda5bc77d9b8cc7650f0f5d7d</td>\n      <td>...</td>\n      <td>479.0</td>\n      <td>1573731157567</td>\n      <td>fd64de8c4a2fc5ebb0e9f412</td>\n      <td>5dc8cea7659e181adb076a3f</td>\n      <td>-528</td>\n      <td>5dc8cea7659e181adb076a3f_fd64de8c4a2fc5ebb0e9f...</td>\n      <td>5</td>\n      <td>202.523941</td>\n      <td>108.240150</td>\n      <td>1573731158095</td>\n    </tr>\n    <tr>\n      <th>10132</th>\n      <td>aa449fabc4dcb24836d950b5cff91f08e574c3a7</td>\n      <td>5d998a8668536c4f51004c25f474117fe9555f78</td>\n      <td>da39a3ee5e6b4b0d3255bfef95601890afd80709</td>\n      <td>da39a3ee5e6b4b0d3255bfef95601890afd80709</td>\n      <td>6381b3137285875eda5bc77d9b8cc7650f0f5d7d</td>\n      <td>efa1fe97c4b2a6c57d98de9c236a109032ceb839</td>\n      <td>0eb4ecd03a3128e62bdff60e6f686d88e783441e</td>\n      <td>8e69018f6343506344ab13646ccd9447fc2ffb19</td>\n      <td>0f927dce74ec3475c7a39299e5bffab222ca665d</td>\n      <td>da39a3ee5e6b4b0d3255bfef95601890afd80709</td>\n      <td>...</td>\n      <td>1839.0</td>\n      <td>1573731161115</td>\n      <td>fd64de8c4a2fc5ebb0e9f412</td>\n      <td>5dc8cea7659e181adb076a3f</td>\n      <td>1019</td>\n      <td>5dc8cea7659e181adb076a3f_fd64de8c4a2fc5ebb0e9f...</td>\n      <td>5</td>\n      <td>200.638031</td>\n      <td>107.824944</td>\n      <td>1573731160096</td>\n    </tr>\n  </tbody>\n</table>\n<p>10133 rows × 509 columns</p>\n</div>"
     },
     "metadata": {},
     "execution_count": 30
    }
   ],
   "source": [
    "test_df['site_path_timestamp'] = sub.index\n",
    "test_df = test_df.merge(sub, on=\"site_path_timestamp\")\n",
    "test_df['wifi_timestamp'] = test_df['timestamp'].astype(int) - test_df['timediff'].astype(int)\n",
    "test_df"
   ]
  },
  {
   "cell_type": "code",
   "execution_count": 31,
   "metadata": {},
   "outputs": [
    {
     "output_type": "stream",
     "name": "stdout",
     "text": [
      "9 9\n"
     ]
    },
    {
     "output_type": "execute_result",
     "data": {
      "text/plain": [
       "<matplotlib.legend.Legend at 0x7f4d23eb4d30>"
      ]
     },
     "metadata": {},
     "execution_count": 31
    },
    {
     "output_type": "display_data",
     "data": {
      "text/plain": "<Figure size 432x288 with 1 Axes>",
      "image/svg+xml": "<?xml version=\"1.0\" encoding=\"utf-8\" standalone=\"no\"?>\n<!DOCTYPE svg PUBLIC \"-//W3C//DTD SVG 1.1//EN\"\n  \"http://www.w3.org/Graphics/SVG/1.1/DTD/svg11.dtd\">\n<!-- Created with matplotlib (https://matplotlib.org/) -->\n<svg height=\"248.518125pt\" version=\"1.1\" viewBox=\"0 0 375.2875 248.518125\" width=\"375.2875pt\" xmlns=\"http://www.w3.org/2000/svg\" xmlns:xlink=\"http://www.w3.org/1999/xlink\">\n <metadata>\n  <rdf:RDF xmlns:cc=\"http://creativecommons.org/ns#\" xmlns:dc=\"http://purl.org/dc/elements/1.1/\" xmlns:rdf=\"http://www.w3.org/1999/02/22-rdf-syntax-ns#\">\n   <cc:Work>\n    <dc:type rdf:resource=\"http://purl.org/dc/dcmitype/StillImage\"/>\n    <dc:date>2021-04-26T02:24:04.997783</dc:date>\n    <dc:format>image/svg+xml</dc:format>\n    <dc:creator>\n     <cc:Agent>\n      <dc:title>Matplotlib v3.3.3, https://matplotlib.org/</dc:title>\n     </cc:Agent>\n    </dc:creator>\n   </cc:Work>\n  </rdf:RDF>\n </metadata>\n <defs>\n  <style type=\"text/css\">*{stroke-linecap:butt;stroke-linejoin:round;}</style>\n </defs>\n <g id=\"figure_1\">\n  <g id=\"patch_1\">\n   <path d=\"M 0 248.518125 \nL 375.2875 248.518125 \nL 375.2875 0 \nL 0 0 \nz\n\" style=\"fill:none;\"/>\n  </g>\n  <g id=\"axes_1\">\n   <g id=\"patch_2\">\n    <path d=\"M 33.2875 224.64 \nL 368.0875 224.64 \nL 368.0875 7.2 \nL 33.2875 7.2 \nz\n\" style=\"fill:#ffffff;\"/>\n   </g>\n   <g id=\"matplotlib.axis_1\">\n    <g id=\"xtick_1\">\n     <g id=\"line2d_1\">\n      <defs>\n       <path d=\"M 0 0 \nL 0 3.5 \n\" id=\"m0304c29099\" style=\"stroke:#000000;stroke-width:0.8;\"/>\n      </defs>\n      <g>\n       <use style=\"stroke:#000000;stroke-width:0.8;\" x=\"36.623423\" xlink:href=\"#m0304c29099\" y=\"224.64\"/>\n      </g>\n     </g>\n     <g id=\"text_1\">\n      <!-- 55 -->\n      <g transform=\"translate(30.260923 239.238438)scale(0.1 -0.1)\">\n       <defs>\n        <path d=\"M 10.796875 72.90625 \nL 49.515625 72.90625 \nL 49.515625 64.59375 \nL 19.828125 64.59375 \nL 19.828125 46.734375 \nQ 21.96875 47.46875 24.109375 47.828125 \nQ 26.265625 48.1875 28.421875 48.1875 \nQ 40.625 48.1875 47.75 41.5 \nQ 54.890625 34.8125 54.890625 23.390625 \nQ 54.890625 11.625 47.5625 5.09375 \nQ 40.234375 -1.421875 26.90625 -1.421875 \nQ 22.3125 -1.421875 17.546875 -0.640625 \nQ 12.796875 0.140625 7.71875 1.703125 \nL 7.71875 11.625 \nQ 12.109375 9.234375 16.796875 8.0625 \nQ 21.484375 6.890625 26.703125 6.890625 \nQ 35.15625 6.890625 40.078125 11.328125 \nQ 45.015625 15.765625 45.015625 23.390625 \nQ 45.015625 31 40.078125 35.4375 \nQ 35.15625 39.890625 26.703125 39.890625 \nQ 22.75 39.890625 18.8125 39.015625 \nQ 14.890625 38.140625 10.796875 36.28125 \nz\n\" id=\"DejaVuSans-53\"/>\n       </defs>\n       <use xlink:href=\"#DejaVuSans-53\"/>\n       <use x=\"63.623047\" xlink:href=\"#DejaVuSans-53\"/>\n      </g>\n     </g>\n    </g>\n    <g id=\"xtick_2\">\n     <g id=\"line2d_2\">\n      <g>\n       <use style=\"stroke:#000000;stroke-width:0.8;\" x=\"89.106546\" xlink:href=\"#m0304c29099\" y=\"224.64\"/>\n      </g>\n     </g>\n     <g id=\"text_2\">\n      <!-- 60 -->\n      <g transform=\"translate(82.744046 239.238438)scale(0.1 -0.1)\">\n       <defs>\n        <path d=\"M 33.015625 40.375 \nQ 26.375 40.375 22.484375 35.828125 \nQ 18.609375 31.296875 18.609375 23.390625 \nQ 18.609375 15.53125 22.484375 10.953125 \nQ 26.375 6.390625 33.015625 6.390625 \nQ 39.65625 6.390625 43.53125 10.953125 \nQ 47.40625 15.53125 47.40625 23.390625 \nQ 47.40625 31.296875 43.53125 35.828125 \nQ 39.65625 40.375 33.015625 40.375 \nz\nM 52.59375 71.296875 \nL 52.59375 62.3125 \nQ 48.875 64.0625 45.09375 64.984375 \nQ 41.3125 65.921875 37.59375 65.921875 \nQ 27.828125 65.921875 22.671875 59.328125 \nQ 17.53125 52.734375 16.796875 39.40625 \nQ 19.671875 43.65625 24.015625 45.921875 \nQ 28.375 48.1875 33.59375 48.1875 \nQ 44.578125 48.1875 50.953125 41.515625 \nQ 57.328125 34.859375 57.328125 23.390625 \nQ 57.328125 12.15625 50.6875 5.359375 \nQ 44.046875 -1.421875 33.015625 -1.421875 \nQ 20.359375 -1.421875 13.671875 8.265625 \nQ 6.984375 17.96875 6.984375 36.375 \nQ 6.984375 53.65625 15.1875 63.9375 \nQ 23.390625 74.21875 37.203125 74.21875 \nQ 40.921875 74.21875 44.703125 73.484375 \nQ 48.484375 72.75 52.59375 71.296875 \nz\n\" id=\"DejaVuSans-54\"/>\n        <path d=\"M 31.78125 66.40625 \nQ 24.171875 66.40625 20.328125 58.90625 \nQ 16.5 51.421875 16.5 36.375 \nQ 16.5 21.390625 20.328125 13.890625 \nQ 24.171875 6.390625 31.78125 6.390625 \nQ 39.453125 6.390625 43.28125 13.890625 \nQ 47.125 21.390625 47.125 36.375 \nQ 47.125 51.421875 43.28125 58.90625 \nQ 39.453125 66.40625 31.78125 66.40625 \nz\nM 31.78125 74.21875 \nQ 44.046875 74.21875 50.515625 64.515625 \nQ 56.984375 54.828125 56.984375 36.375 \nQ 56.984375 17.96875 50.515625 8.265625 \nQ 44.046875 -1.421875 31.78125 -1.421875 \nQ 19.53125 -1.421875 13.0625 8.265625 \nQ 6.59375 17.96875 6.59375 36.375 \nQ 6.59375 54.828125 13.0625 64.515625 \nQ 19.53125 74.21875 31.78125 74.21875 \nz\n\" id=\"DejaVuSans-48\"/>\n       </defs>\n       <use xlink:href=\"#DejaVuSans-54\"/>\n       <use x=\"63.623047\" xlink:href=\"#DejaVuSans-48\"/>\n      </g>\n     </g>\n    </g>\n    <g id=\"xtick_3\">\n     <g id=\"line2d_3\">\n      <g>\n       <use style=\"stroke:#000000;stroke-width:0.8;\" x=\"141.58967\" xlink:href=\"#m0304c29099\" y=\"224.64\"/>\n      </g>\n     </g>\n     <g id=\"text_3\">\n      <!-- 65 -->\n      <g transform=\"translate(135.22717 239.238438)scale(0.1 -0.1)\">\n       <use xlink:href=\"#DejaVuSans-54\"/>\n       <use x=\"63.623047\" xlink:href=\"#DejaVuSans-53\"/>\n      </g>\n     </g>\n    </g>\n    <g id=\"xtick_4\">\n     <g id=\"line2d_4\">\n      <g>\n       <use style=\"stroke:#000000;stroke-width:0.8;\" x=\"194.072793\" xlink:href=\"#m0304c29099\" y=\"224.64\"/>\n      </g>\n     </g>\n     <g id=\"text_4\">\n      <!-- 70 -->\n      <g transform=\"translate(187.710293 239.238438)scale(0.1 -0.1)\">\n       <defs>\n        <path d=\"M 8.203125 72.90625 \nL 55.078125 72.90625 \nL 55.078125 68.703125 \nL 28.609375 0 \nL 18.3125 0 \nL 43.21875 64.59375 \nL 8.203125 64.59375 \nz\n\" id=\"DejaVuSans-55\"/>\n       </defs>\n       <use xlink:href=\"#DejaVuSans-55\"/>\n       <use x=\"63.623047\" xlink:href=\"#DejaVuSans-48\"/>\n      </g>\n     </g>\n    </g>\n    <g id=\"xtick_5\">\n     <g id=\"line2d_5\">\n      <g>\n       <use style=\"stroke:#000000;stroke-width:0.8;\" x=\"246.555917\" xlink:href=\"#m0304c29099\" y=\"224.64\"/>\n      </g>\n     </g>\n     <g id=\"text_5\">\n      <!-- 75 -->\n      <g transform=\"translate(240.193417 239.238438)scale(0.1 -0.1)\">\n       <use xlink:href=\"#DejaVuSans-55\"/>\n       <use x=\"63.623047\" xlink:href=\"#DejaVuSans-53\"/>\n      </g>\n     </g>\n    </g>\n    <g id=\"xtick_6\">\n     <g id=\"line2d_6\">\n      <g>\n       <use style=\"stroke:#000000;stroke-width:0.8;\" x=\"299.03904\" xlink:href=\"#m0304c29099\" y=\"224.64\"/>\n      </g>\n     </g>\n     <g id=\"text_6\">\n      <!-- 80 -->\n      <g transform=\"translate(292.67654 239.238438)scale(0.1 -0.1)\">\n       <defs>\n        <path d=\"M 31.78125 34.625 \nQ 24.75 34.625 20.71875 30.859375 \nQ 16.703125 27.09375 16.703125 20.515625 \nQ 16.703125 13.921875 20.71875 10.15625 \nQ 24.75 6.390625 31.78125 6.390625 \nQ 38.8125 6.390625 42.859375 10.171875 \nQ 46.921875 13.96875 46.921875 20.515625 \nQ 46.921875 27.09375 42.890625 30.859375 \nQ 38.875 34.625 31.78125 34.625 \nz\nM 21.921875 38.8125 \nQ 15.578125 40.375 12.03125 44.71875 \nQ 8.5 49.078125 8.5 55.328125 \nQ 8.5 64.0625 14.71875 69.140625 \nQ 20.953125 74.21875 31.78125 74.21875 \nQ 42.671875 74.21875 48.875 69.140625 \nQ 55.078125 64.0625 55.078125 55.328125 \nQ 55.078125 49.078125 51.53125 44.71875 \nQ 48 40.375 41.703125 38.8125 \nQ 48.828125 37.15625 52.796875 32.3125 \nQ 56.78125 27.484375 56.78125 20.515625 \nQ 56.78125 9.90625 50.3125 4.234375 \nQ 43.84375 -1.421875 31.78125 -1.421875 \nQ 19.734375 -1.421875 13.25 4.234375 \nQ 6.78125 9.90625 6.78125 20.515625 \nQ 6.78125 27.484375 10.78125 32.3125 \nQ 14.796875 37.15625 21.921875 38.8125 \nz\nM 18.3125 54.390625 \nQ 18.3125 48.734375 21.84375 45.5625 \nQ 25.390625 42.390625 31.78125 42.390625 \nQ 38.140625 42.390625 41.71875 45.5625 \nQ 45.3125 48.734375 45.3125 54.390625 \nQ 45.3125 60.0625 41.71875 63.234375 \nQ 38.140625 66.40625 31.78125 66.40625 \nQ 25.390625 66.40625 21.84375 63.234375 \nQ 18.3125 60.0625 18.3125 54.390625 \nz\n\" id=\"DejaVuSans-56\"/>\n       </defs>\n       <use xlink:href=\"#DejaVuSans-56\"/>\n       <use x=\"63.623047\" xlink:href=\"#DejaVuSans-48\"/>\n      </g>\n     </g>\n    </g>\n    <g id=\"xtick_7\">\n     <g id=\"line2d_7\">\n      <g>\n       <use style=\"stroke:#000000;stroke-width:0.8;\" x=\"351.522164\" xlink:href=\"#m0304c29099\" y=\"224.64\"/>\n      </g>\n     </g>\n     <g id=\"text_7\">\n      <!-- 85 -->\n      <g transform=\"translate(345.159664 239.238438)scale(0.1 -0.1)\">\n       <use xlink:href=\"#DejaVuSans-56\"/>\n       <use x=\"63.623047\" xlink:href=\"#DejaVuSans-53\"/>\n      </g>\n     </g>\n    </g>\n   </g>\n   <g id=\"matplotlib.axis_2\">\n    <g id=\"ytick_1\">\n     <g id=\"line2d_8\">\n      <defs>\n       <path d=\"M 0 0 \nL -3.5 0 \n\" id=\"m4a46d26c52\" style=\"stroke:#000000;stroke-width:0.8;\"/>\n      </defs>\n      <g>\n       <use style=\"stroke:#000000;stroke-width:0.8;\" x=\"33.2875\" xlink:href=\"#m4a46d26c52\" y=\"202.035193\"/>\n      </g>\n     </g>\n     <g id=\"text_8\">\n      <!-- 108 -->\n      <g transform=\"translate(7.2 205.834412)scale(0.1 -0.1)\">\n       <defs>\n        <path d=\"M 12.40625 8.296875 \nL 28.515625 8.296875 \nL 28.515625 63.921875 \nL 10.984375 60.40625 \nL 10.984375 69.390625 \nL 28.421875 72.90625 \nL 38.28125 72.90625 \nL 38.28125 8.296875 \nL 54.390625 8.296875 \nL 54.390625 0 \nL 12.40625 0 \nz\n\" id=\"DejaVuSans-49\"/>\n       </defs>\n       <use xlink:href=\"#DejaVuSans-49\"/>\n       <use x=\"63.623047\" xlink:href=\"#DejaVuSans-48\"/>\n       <use x=\"127.246094\" xlink:href=\"#DejaVuSans-56\"/>\n      </g>\n     </g>\n    </g>\n    <g id=\"ytick_2\">\n     <g id=\"line2d_9\">\n      <g>\n       <use style=\"stroke:#000000;stroke-width:0.8;\" x=\"33.2875\" xlink:href=\"#m4a46d26c52\" y=\"174.138442\"/>\n      </g>\n     </g>\n     <g id=\"text_9\">\n      <!-- 109 -->\n      <g transform=\"translate(7.2 177.93766)scale(0.1 -0.1)\">\n       <defs>\n        <path d=\"M 10.984375 1.515625 \nL 10.984375 10.5 \nQ 14.703125 8.734375 18.5 7.8125 \nQ 22.3125 6.890625 25.984375 6.890625 \nQ 35.75 6.890625 40.890625 13.453125 \nQ 46.046875 20.015625 46.78125 33.40625 \nQ 43.953125 29.203125 39.59375 26.953125 \nQ 35.25 24.703125 29.984375 24.703125 \nQ 19.046875 24.703125 12.671875 31.3125 \nQ 6.296875 37.9375 6.296875 49.421875 \nQ 6.296875 60.640625 12.9375 67.421875 \nQ 19.578125 74.21875 30.609375 74.21875 \nQ 43.265625 74.21875 49.921875 64.515625 \nQ 56.59375 54.828125 56.59375 36.375 \nQ 56.59375 19.140625 48.40625 8.859375 \nQ 40.234375 -1.421875 26.421875 -1.421875 \nQ 22.703125 -1.421875 18.890625 -0.6875 \nQ 15.09375 0.046875 10.984375 1.515625 \nz\nM 30.609375 32.421875 \nQ 37.25 32.421875 41.125 36.953125 \nQ 45.015625 41.5 45.015625 49.421875 \nQ 45.015625 57.28125 41.125 61.84375 \nQ 37.25 66.40625 30.609375 66.40625 \nQ 23.96875 66.40625 20.09375 61.84375 \nQ 16.21875 57.28125 16.21875 49.421875 \nQ 16.21875 41.5 20.09375 36.953125 \nQ 23.96875 32.421875 30.609375 32.421875 \nz\n\" id=\"DejaVuSans-57\"/>\n       </defs>\n       <use xlink:href=\"#DejaVuSans-49\"/>\n       <use x=\"63.623047\" xlink:href=\"#DejaVuSans-48\"/>\n       <use x=\"127.246094\" xlink:href=\"#DejaVuSans-57\"/>\n      </g>\n     </g>\n    </g>\n    <g id=\"ytick_3\">\n     <g id=\"line2d_10\">\n      <g>\n       <use style=\"stroke:#000000;stroke-width:0.8;\" x=\"33.2875\" xlink:href=\"#m4a46d26c52\" y=\"146.24169\"/>\n      </g>\n     </g>\n     <g id=\"text_10\">\n      <!-- 110 -->\n      <g transform=\"translate(7.2 150.040909)scale(0.1 -0.1)\">\n       <use xlink:href=\"#DejaVuSans-49\"/>\n       <use x=\"63.623047\" xlink:href=\"#DejaVuSans-49\"/>\n       <use x=\"127.246094\" xlink:href=\"#DejaVuSans-48\"/>\n      </g>\n     </g>\n    </g>\n    <g id=\"ytick_4\">\n     <g id=\"line2d_11\">\n      <g>\n       <use style=\"stroke:#000000;stroke-width:0.8;\" x=\"33.2875\" xlink:href=\"#m4a46d26c52\" y=\"118.344938\"/>\n      </g>\n     </g>\n     <g id=\"text_11\">\n      <!-- 111 -->\n      <g transform=\"translate(7.2 122.144157)scale(0.1 -0.1)\">\n       <use xlink:href=\"#DejaVuSans-49\"/>\n       <use x=\"63.623047\" xlink:href=\"#DejaVuSans-49\"/>\n       <use x=\"127.246094\" xlink:href=\"#DejaVuSans-49\"/>\n      </g>\n     </g>\n    </g>\n    <g id=\"ytick_5\">\n     <g id=\"line2d_12\">\n      <g>\n       <use style=\"stroke:#000000;stroke-width:0.8;\" x=\"33.2875\" xlink:href=\"#m4a46d26c52\" y=\"90.448186\"/>\n      </g>\n     </g>\n     <g id=\"text_12\">\n      <!-- 112 -->\n      <g transform=\"translate(7.2 94.247405)scale(0.1 -0.1)\">\n       <defs>\n        <path d=\"M 19.1875 8.296875 \nL 53.609375 8.296875 \nL 53.609375 0 \nL 7.328125 0 \nL 7.328125 8.296875 \nQ 12.9375 14.109375 22.625 23.890625 \nQ 32.328125 33.6875 34.8125 36.53125 \nQ 39.546875 41.84375 41.421875 45.53125 \nQ 43.3125 49.21875 43.3125 52.78125 \nQ 43.3125 58.59375 39.234375 62.25 \nQ 35.15625 65.921875 28.609375 65.921875 \nQ 23.96875 65.921875 18.8125 64.3125 \nQ 13.671875 62.703125 7.8125 59.421875 \nL 7.8125 69.390625 \nQ 13.765625 71.78125 18.9375 73 \nQ 24.125 74.21875 28.421875 74.21875 \nQ 39.75 74.21875 46.484375 68.546875 \nQ 53.21875 62.890625 53.21875 53.421875 \nQ 53.21875 48.921875 51.53125 44.890625 \nQ 49.859375 40.875 45.40625 35.40625 \nQ 44.1875 33.984375 37.640625 27.21875 \nQ 31.109375 20.453125 19.1875 8.296875 \nz\n\" id=\"DejaVuSans-50\"/>\n       </defs>\n       <use xlink:href=\"#DejaVuSans-49\"/>\n       <use x=\"63.623047\" xlink:href=\"#DejaVuSans-49\"/>\n       <use x=\"127.246094\" xlink:href=\"#DejaVuSans-50\"/>\n      </g>\n     </g>\n    </g>\n    <g id=\"ytick_6\">\n     <g id=\"line2d_13\">\n      <g>\n       <use style=\"stroke:#000000;stroke-width:0.8;\" x=\"33.2875\" xlink:href=\"#m4a46d26c52\" y=\"62.551434\"/>\n      </g>\n     </g>\n     <g id=\"text_13\">\n      <!-- 113 -->\n      <g transform=\"translate(7.2 66.350653)scale(0.1 -0.1)\">\n       <defs>\n        <path d=\"M 40.578125 39.3125 \nQ 47.65625 37.796875 51.625 33 \nQ 55.609375 28.21875 55.609375 21.1875 \nQ 55.609375 10.40625 48.1875 4.484375 \nQ 40.765625 -1.421875 27.09375 -1.421875 \nQ 22.515625 -1.421875 17.65625 -0.515625 \nQ 12.796875 0.390625 7.625 2.203125 \nL 7.625 11.71875 \nQ 11.71875 9.328125 16.59375 8.109375 \nQ 21.484375 6.890625 26.8125 6.890625 \nQ 36.078125 6.890625 40.9375 10.546875 \nQ 45.796875 14.203125 45.796875 21.1875 \nQ 45.796875 27.640625 41.28125 31.265625 \nQ 36.765625 34.90625 28.71875 34.90625 \nL 20.21875 34.90625 \nL 20.21875 43.015625 \nL 29.109375 43.015625 \nQ 36.375 43.015625 40.234375 45.921875 \nQ 44.09375 48.828125 44.09375 54.296875 \nQ 44.09375 59.90625 40.109375 62.90625 \nQ 36.140625 65.921875 28.71875 65.921875 \nQ 24.65625 65.921875 20.015625 65.03125 \nQ 15.375 64.15625 9.8125 62.3125 \nL 9.8125 71.09375 \nQ 15.4375 72.65625 20.34375 73.4375 \nQ 25.25 74.21875 29.59375 74.21875 \nQ 40.828125 74.21875 47.359375 69.109375 \nQ 53.90625 64.015625 53.90625 55.328125 \nQ 53.90625 49.265625 50.4375 45.09375 \nQ 46.96875 40.921875 40.578125 39.3125 \nz\n\" id=\"DejaVuSans-51\"/>\n       </defs>\n       <use xlink:href=\"#DejaVuSans-49\"/>\n       <use x=\"63.623047\" xlink:href=\"#DejaVuSans-49\"/>\n       <use x=\"127.246094\" xlink:href=\"#DejaVuSans-51\"/>\n      </g>\n     </g>\n    </g>\n    <g id=\"ytick_7\">\n     <g id=\"line2d_14\">\n      <g>\n       <use style=\"stroke:#000000;stroke-width:0.8;\" x=\"33.2875\" xlink:href=\"#m4a46d26c52\" y=\"34.654682\"/>\n      </g>\n     </g>\n     <g id=\"text_14\">\n      <!-- 114 -->\n      <g transform=\"translate(7.2 38.453901)scale(0.1 -0.1)\">\n       <defs>\n        <path d=\"M 37.796875 64.3125 \nL 12.890625 25.390625 \nL 37.796875 25.390625 \nz\nM 35.203125 72.90625 \nL 47.609375 72.90625 \nL 47.609375 25.390625 \nL 58.015625 25.390625 \nL 58.015625 17.1875 \nL 47.609375 17.1875 \nL 47.609375 0 \nL 37.796875 0 \nL 37.796875 17.1875 \nL 4.890625 17.1875 \nL 4.890625 26.703125 \nz\n\" id=\"DejaVuSans-52\"/>\n       </defs>\n       <use xlink:href=\"#DejaVuSans-49\"/>\n       <use x=\"63.623047\" xlink:href=\"#DejaVuSans-49\"/>\n       <use x=\"127.246094\" xlink:href=\"#DejaVuSans-52\"/>\n      </g>\n     </g>\n    </g>\n   </g>\n   <g id=\"line2d_15\">\n    <path clip-path=\"url(#p5390d32a48)\" d=\"M 321.206946 166.086668 \nL 212.864804 25.466369 \nL 180.897396 35.755892 \nL 70.111766 17.083636 \nL 48.505682 38.731756 \nL 155.562212 101.744421 \nL 174.759923 62.747456 \nL 194.599739 33.912738 \nL 352.869318 214.756361 \n\" style=\"fill:none;stroke:#1f77b4;stroke-dasharray:5.55,2.4;stroke-dashoffset:0;stroke-width:1.5;\"/>\n    <defs>\n     <path d=\"M 0 3 \nC 0.795609 3 1.55874 2.683901 2.12132 2.12132 \nC 2.683901 1.55874 3 0.795609 3 0 \nC 3 -0.795609 2.683901 -1.55874 2.12132 -2.12132 \nC 1.55874 -2.683901 0.795609 -3 0 -3 \nC -0.795609 -3 -1.55874 -2.683901 -2.12132 -2.12132 \nC -2.683901 -1.55874 -3 -0.795609 -3 0 \nC -3 0.795609 -2.683901 1.55874 -2.12132 2.12132 \nC -1.55874 2.683901 -0.795609 3 0 3 \nz\n\" id=\"m3b0f20fc95\" style=\"stroke:#1f77b4;\"/>\n    </defs>\n    <g clip-path=\"url(#p5390d32a48)\">\n     <use style=\"fill:#1f77b4;stroke:#1f77b4;\" x=\"321.206946\" xlink:href=\"#m3b0f20fc95\" y=\"166.086668\"/>\n     <use style=\"fill:#1f77b4;stroke:#1f77b4;\" x=\"212.864804\" xlink:href=\"#m3b0f20fc95\" y=\"25.466369\"/>\n     <use style=\"fill:#1f77b4;stroke:#1f77b4;\" x=\"180.897396\" xlink:href=\"#m3b0f20fc95\" y=\"35.755892\"/>\n     <use style=\"fill:#1f77b4;stroke:#1f77b4;\" x=\"70.111766\" xlink:href=\"#m3b0f20fc95\" y=\"17.083636\"/>\n     <use style=\"fill:#1f77b4;stroke:#1f77b4;\" x=\"48.505682\" xlink:href=\"#m3b0f20fc95\" y=\"38.731756\"/>\n     <use style=\"fill:#1f77b4;stroke:#1f77b4;\" x=\"155.562212\" xlink:href=\"#m3b0f20fc95\" y=\"101.744421\"/>\n     <use style=\"fill:#1f77b4;stroke:#1f77b4;\" x=\"174.759923\" xlink:href=\"#m3b0f20fc95\" y=\"62.747456\"/>\n     <use style=\"fill:#1f77b4;stroke:#1f77b4;\" x=\"194.599739\" xlink:href=\"#m3b0f20fc95\" y=\"33.912738\"/>\n     <use style=\"fill:#1f77b4;stroke:#1f77b4;\" x=\"352.869318\" xlink:href=\"#m3b0f20fc95\" y=\"214.756361\"/>\n    </g>\n   </g>\n   <g id=\"line2d_16\">\n    <path clip-path=\"url(#p5390d32a48)\" d=\"M 321.206946 166.086672 \nL 228.342253 45.554983 \nL 172.034546 34.262112 \nL 78.974616 18.577417 \nL 51.386493 35.84534 \nL 155.562212 101.744421 \nL 173.480076 65.347253 \nL 205.514882 46.384713 \nL 352.869318 214.756364 \n\" style=\"fill:none;stroke:#ff7f0e;stroke-dasharray:5.55,2.4;stroke-dashoffset:0;stroke-width:1.5;\"/>\n    <defs>\n     <path d=\"M 0 3 \nC 0.795609 3 1.55874 2.683901 2.12132 2.12132 \nC 2.683901 1.55874 3 0.795609 3 0 \nC 3 -0.795609 2.683901 -1.55874 2.12132 -2.12132 \nC 1.55874 -2.683901 0.795609 -3 0 -3 \nC -0.795609 -3 -1.55874 -2.683901 -2.12132 -2.12132 \nC -2.683901 -1.55874 -3 -0.795609 -3 0 \nC -3 0.795609 -2.683901 1.55874 -2.12132 2.12132 \nC -1.55874 2.683901 -0.795609 3 0 3 \nz\n\" id=\"m57c4adaf9c\" style=\"stroke:#ff7f0e;\"/>\n    </defs>\n    <g clip-path=\"url(#p5390d32a48)\">\n     <use style=\"fill:#ff7f0e;stroke:#ff7f0e;\" x=\"321.206946\" xlink:href=\"#m57c4adaf9c\" y=\"166.086672\"/>\n     <use style=\"fill:#ff7f0e;stroke:#ff7f0e;\" x=\"228.342253\" xlink:href=\"#m57c4adaf9c\" y=\"45.554983\"/>\n     <use style=\"fill:#ff7f0e;stroke:#ff7f0e;\" x=\"172.034546\" xlink:href=\"#m57c4adaf9c\" y=\"34.262112\"/>\n     <use style=\"fill:#ff7f0e;stroke:#ff7f0e;\" x=\"78.974616\" xlink:href=\"#m57c4adaf9c\" y=\"18.577417\"/>\n     <use style=\"fill:#ff7f0e;stroke:#ff7f0e;\" x=\"51.386493\" xlink:href=\"#m57c4adaf9c\" y=\"35.84534\"/>\n     <use style=\"fill:#ff7f0e;stroke:#ff7f0e;\" x=\"155.562212\" xlink:href=\"#m57c4adaf9c\" y=\"101.744421\"/>\n     <use style=\"fill:#ff7f0e;stroke:#ff7f0e;\" x=\"173.480076\" xlink:href=\"#m57c4adaf9c\" y=\"65.347253\"/>\n     <use style=\"fill:#ff7f0e;stroke:#ff7f0e;\" x=\"205.514882\" xlink:href=\"#m57c4adaf9c\" y=\"46.384713\"/>\n     <use style=\"fill:#ff7f0e;stroke:#ff7f0e;\" x=\"352.869318\" xlink:href=\"#m57c4adaf9c\" y=\"214.756364\"/>\n    </g>\n   </g>\n   <g id=\"patch_3\">\n    <path d=\"M 33.2875 224.64 \nL 33.2875 7.2 \n\" style=\"fill:none;stroke:#000000;stroke-linecap:square;stroke-linejoin:miter;stroke-width:0.8;\"/>\n   </g>\n   <g id=\"patch_4\">\n    <path d=\"M 368.0875 224.64 \nL 368.0875 7.2 \n\" style=\"fill:none;stroke:#000000;stroke-linecap:square;stroke-linejoin:miter;stroke-width:0.8;\"/>\n   </g>\n   <g id=\"patch_5\">\n    <path d=\"M 33.2875 224.64 \nL 368.0875 224.64 \n\" style=\"fill:none;stroke:#000000;stroke-linecap:square;stroke-linejoin:miter;stroke-width:0.8;\"/>\n   </g>\n   <g id=\"patch_6\">\n    <path d=\"M 33.2875 7.2 \nL 368.0875 7.2 \n\" style=\"fill:none;stroke:#000000;stroke-linecap:square;stroke-linejoin:miter;stroke-width:0.8;\"/>\n   </g>\n   <g id=\"legend_1\">\n    <g id=\"patch_7\">\n     <path d=\"M 283.359375 44.55625 \nL 361.0875 44.55625 \nQ 363.0875 44.55625 363.0875 42.55625 \nL 363.0875 14.2 \nQ 363.0875 12.2 361.0875 12.2 \nL 283.359375 12.2 \nQ 281.359375 12.2 281.359375 14.2 \nL 281.359375 42.55625 \nQ 281.359375 44.55625 283.359375 44.55625 \nz\n\" style=\"fill:#ffffff;opacity:0.8;stroke:#cccccc;stroke-linejoin:miter;\"/>\n    </g>\n    <g id=\"line2d_17\">\n     <path d=\"M 285.359375 20.298438 \nL 305.359375 20.298438 \n\" style=\"fill:none;stroke:#1f77b4;stroke-dasharray:5.55,2.4;stroke-dashoffset:0;stroke-width:1.5;\"/>\n    </g>\n    <g id=\"line2d_18\">\n     <g>\n      <use style=\"fill:#1f77b4;stroke:#1f77b4;\" x=\"295.359375\" xlink:href=\"#m3b0f20fc95\" y=\"20.298438\"/>\n     </g>\n    </g>\n    <g id=\"text_15\">\n     <!-- wifi -->\n     <g transform=\"translate(313.359375 23.798438)scale(0.1 -0.1)\">\n      <defs>\n       <path d=\"M 4.203125 54.6875 \nL 13.1875 54.6875 \nL 24.421875 12.015625 \nL 35.59375 54.6875 \nL 46.1875 54.6875 \nL 57.421875 12.015625 \nL 68.609375 54.6875 \nL 77.59375 54.6875 \nL 63.28125 0 \nL 52.6875 0 \nL 40.921875 44.828125 \nL 29.109375 0 \nL 18.5 0 \nz\n\" id=\"DejaVuSans-119\"/>\n       <path d=\"M 9.421875 54.6875 \nL 18.40625 54.6875 \nL 18.40625 0 \nL 9.421875 0 \nz\nM 9.421875 75.984375 \nL 18.40625 75.984375 \nL 18.40625 64.59375 \nL 9.421875 64.59375 \nz\n\" id=\"DejaVuSans-105\"/>\n       <path d=\"M 37.109375 75.984375 \nL 37.109375 68.5 \nL 28.515625 68.5 \nQ 23.6875 68.5 21.796875 66.546875 \nQ 19.921875 64.59375 19.921875 59.515625 \nL 19.921875 54.6875 \nL 34.71875 54.6875 \nL 34.71875 47.703125 \nL 19.921875 47.703125 \nL 19.921875 0 \nL 10.890625 0 \nL 10.890625 47.703125 \nL 2.296875 47.703125 \nL 2.296875 54.6875 \nL 10.890625 54.6875 \nL 10.890625 58.5 \nQ 10.890625 67.625 15.140625 71.796875 \nQ 19.390625 75.984375 28.609375 75.984375 \nz\n\" id=\"DejaVuSans-102\"/>\n      </defs>\n      <use xlink:href=\"#DejaVuSans-119\"/>\n      <use x=\"81.787109\" xlink:href=\"#DejaVuSans-105\"/>\n      <use x=\"109.570312\" xlink:href=\"#DejaVuSans-102\"/>\n      <use x=\"144.775391\" xlink:href=\"#DejaVuSans-105\"/>\n     </g>\n    </g>\n    <g id=\"line2d_19\">\n     <path d=\"M 285.359375 34.976562 \nL 305.359375 34.976562 \n\" style=\"fill:none;stroke:#ff7f0e;stroke-dasharray:5.55,2.4;stroke-dashoffset:0;stroke-width:1.5;\"/>\n    </g>\n    <g id=\"line2d_20\">\n     <g>\n      <use style=\"fill:#ff7f0e;stroke:#ff7f0e;\" x=\"295.359375\" xlink:href=\"#m57c4adaf9c\" y=\"34.976562\"/>\n     </g>\n    </g>\n    <g id=\"text_16\">\n     <!-- waypoint -->\n     <g transform=\"translate(313.359375 38.476562)scale(0.1 -0.1)\">\n      <defs>\n       <path d=\"M 34.28125 27.484375 \nQ 23.390625 27.484375 19.1875 25 \nQ 14.984375 22.515625 14.984375 16.5 \nQ 14.984375 11.71875 18.140625 8.90625 \nQ 21.296875 6.109375 26.703125 6.109375 \nQ 34.1875 6.109375 38.703125 11.40625 \nQ 43.21875 16.703125 43.21875 25.484375 \nL 43.21875 27.484375 \nz\nM 52.203125 31.203125 \nL 52.203125 0 \nL 43.21875 0 \nL 43.21875 8.296875 \nQ 40.140625 3.328125 35.546875 0.953125 \nQ 30.953125 -1.421875 24.3125 -1.421875 \nQ 15.921875 -1.421875 10.953125 3.296875 \nQ 6 8.015625 6 15.921875 \nQ 6 25.140625 12.171875 29.828125 \nQ 18.359375 34.515625 30.609375 34.515625 \nL 43.21875 34.515625 \nL 43.21875 35.40625 \nQ 43.21875 41.609375 39.140625 45 \nQ 35.0625 48.390625 27.6875 48.390625 \nQ 23 48.390625 18.546875 47.265625 \nQ 14.109375 46.140625 10.015625 43.890625 \nL 10.015625 52.203125 \nQ 14.9375 54.109375 19.578125 55.046875 \nQ 24.21875 56 28.609375 56 \nQ 40.484375 56 46.34375 49.84375 \nQ 52.203125 43.703125 52.203125 31.203125 \nz\n\" id=\"DejaVuSans-97\"/>\n       <path d=\"M 32.171875 -5.078125 \nQ 28.375 -14.84375 24.75 -17.8125 \nQ 21.140625 -20.796875 15.09375 -20.796875 \nL 7.90625 -20.796875 \nL 7.90625 -13.28125 \nL 13.1875 -13.28125 \nQ 16.890625 -13.28125 18.9375 -11.515625 \nQ 21 -9.765625 23.484375 -3.21875 \nL 25.09375 0.875 \nL 2.984375 54.6875 \nL 12.5 54.6875 \nL 29.59375 11.921875 \nL 46.6875 54.6875 \nL 56.203125 54.6875 \nz\n\" id=\"DejaVuSans-121\"/>\n       <path d=\"M 18.109375 8.203125 \nL 18.109375 -20.796875 \nL 9.078125 -20.796875 \nL 9.078125 54.6875 \nL 18.109375 54.6875 \nL 18.109375 46.390625 \nQ 20.953125 51.265625 25.265625 53.625 \nQ 29.59375 56 35.59375 56 \nQ 45.5625 56 51.78125 48.09375 \nQ 58.015625 40.1875 58.015625 27.296875 \nQ 58.015625 14.40625 51.78125 6.484375 \nQ 45.5625 -1.421875 35.59375 -1.421875 \nQ 29.59375 -1.421875 25.265625 0.953125 \nQ 20.953125 3.328125 18.109375 8.203125 \nz\nM 48.6875 27.296875 \nQ 48.6875 37.203125 44.609375 42.84375 \nQ 40.53125 48.484375 33.40625 48.484375 \nQ 26.265625 48.484375 22.1875 42.84375 \nQ 18.109375 37.203125 18.109375 27.296875 \nQ 18.109375 17.390625 22.1875 11.75 \nQ 26.265625 6.109375 33.40625 6.109375 \nQ 40.53125 6.109375 44.609375 11.75 \nQ 48.6875 17.390625 48.6875 27.296875 \nz\n\" id=\"DejaVuSans-112\"/>\n       <path d=\"M 30.609375 48.390625 \nQ 23.390625 48.390625 19.1875 42.75 \nQ 14.984375 37.109375 14.984375 27.296875 \nQ 14.984375 17.484375 19.15625 11.84375 \nQ 23.34375 6.203125 30.609375 6.203125 \nQ 37.796875 6.203125 41.984375 11.859375 \nQ 46.1875 17.53125 46.1875 27.296875 \nQ 46.1875 37.015625 41.984375 42.703125 \nQ 37.796875 48.390625 30.609375 48.390625 \nz\nM 30.609375 56 \nQ 42.328125 56 49.015625 48.375 \nQ 55.71875 40.765625 55.71875 27.296875 \nQ 55.71875 13.875 49.015625 6.21875 \nQ 42.328125 -1.421875 30.609375 -1.421875 \nQ 18.84375 -1.421875 12.171875 6.21875 \nQ 5.515625 13.875 5.515625 27.296875 \nQ 5.515625 40.765625 12.171875 48.375 \nQ 18.84375 56 30.609375 56 \nz\n\" id=\"DejaVuSans-111\"/>\n       <path d=\"M 54.890625 33.015625 \nL 54.890625 0 \nL 45.90625 0 \nL 45.90625 32.71875 \nQ 45.90625 40.484375 42.875 44.328125 \nQ 39.84375 48.1875 33.796875 48.1875 \nQ 26.515625 48.1875 22.3125 43.546875 \nQ 18.109375 38.921875 18.109375 30.90625 \nL 18.109375 0 \nL 9.078125 0 \nL 9.078125 54.6875 \nL 18.109375 54.6875 \nL 18.109375 46.1875 \nQ 21.34375 51.125 25.703125 53.5625 \nQ 30.078125 56 35.796875 56 \nQ 45.21875 56 50.046875 50.171875 \nQ 54.890625 44.34375 54.890625 33.015625 \nz\n\" id=\"DejaVuSans-110\"/>\n       <path d=\"M 18.3125 70.21875 \nL 18.3125 54.6875 \nL 36.8125 54.6875 \nL 36.8125 47.703125 \nL 18.3125 47.703125 \nL 18.3125 18.015625 \nQ 18.3125 11.328125 20.140625 9.421875 \nQ 21.96875 7.515625 27.59375 7.515625 \nL 36.8125 7.515625 \nL 36.8125 0 \nL 27.59375 0 \nQ 17.1875 0 13.234375 3.875 \nQ 9.28125 7.765625 9.28125 18.015625 \nL 9.28125 47.703125 \nL 2.6875 47.703125 \nL 2.6875 54.6875 \nL 9.28125 54.6875 \nL 9.28125 70.21875 \nz\n\" id=\"DejaVuSans-116\"/>\n      </defs>\n      <use xlink:href=\"#DejaVuSans-119\"/>\n      <use x=\"81.787109\" xlink:href=\"#DejaVuSans-97\"/>\n      <use x=\"143.066406\" xlink:href=\"#DejaVuSans-121\"/>\n      <use x=\"202.246094\" xlink:href=\"#DejaVuSans-112\"/>\n      <use x=\"265.722656\" xlink:href=\"#DejaVuSans-111\"/>\n      <use x=\"326.904297\" xlink:href=\"#DejaVuSans-105\"/>\n      <use x=\"354.6875\" xlink:href=\"#DejaVuSans-110\"/>\n      <use x=\"418.066406\" xlink:href=\"#DejaVuSans-116\"/>\n     </g>\n    </g>\n   </g>\n  </g>\n </g>\n <defs>\n  <clipPath id=\"p5390d32a48\">\n   <rect height=\"217.44\" width=\"334.8\" x=\"33.2875\" y=\"7.2\"/>\n  </clipPath>\n </defs>\n</svg>\n",
      "image/png": "[encoded data removed]"
     },
     "metadata": {
      "needs_background": "light"
     }
    }
   ],
   "source": [
    "# 線形補完の例\n",
    "path = test_df['path'].unique()[23]  #15\n",
    "df = test_df[test_df['path']==path]\n",
    "\n",
    "waypoint = wifi_waypoint_by_linear_interpolation(\n",
    "    observed_timestamp=df['wifi_timestamp'].astype(int).values, \n",
    "    observed_x=df['x'].values,\n",
    "    observed_y=df['y'].values, \n",
    "    target_timestamp=df['timestamp'].astype(int).values\n",
    "    )\n",
    "print(len(df), len(waypoint))\n",
    "\n",
    "import matplotlib.pyplot as plt\n",
    "# print(df[\"timestamp\"].astype(int) - df[\"timestamp\"].astype(int).values[0])\n",
    "plt.plot(df[\"x\"].values, df[\"y\"].values, ls='--', marker=\"o\", label='wifi')\n",
    "plt.plot(waypoint[:,0], waypoint[:,1], ls='--', marker=\"o\", label='waypoint')\n",
    "plt.legend()"
   ]
  },
  {
   "cell_type": "code",
   "execution_count": 32,
   "metadata": {},
   "outputs": [
    {
     "output_type": "stream",
     "name": "stderr",
     "text": [
      "/usr/local/lib/python3.8/dist-packages/scipy/interpolate/interpolate.py:623: RuntimeWarning: invalid value encountered in true_divide\n  slope = (y_hi - y_lo) / (x_hi - x_lo)[:, None]\n/usr/local/lib/python3.8/dist-packages/scipy/interpolate/interpolate.py:623: RuntimeWarning: divide by zero encountered in true_divide\n  slope = (y_hi - y_lo) / (x_hi - x_lo)[:, None]\n/usr/local/lib/python3.8/dist-packages/scipy/interpolate/interpolate.py:626: RuntimeWarning: invalid value encountered in multiply\n  y_new = slope*(x_new - x_lo)[:, None] + y_lo\n"
     ]
    },
    {
     "output_type": "execute_result",
     "data": {
      "text/plain": [
       "                                         ssid_0  \\\n",
       "0      3c1e7602176e050694e3a5cf8ba5f6f725e3ec51   \n",
       "1      5c072340f8e500f7e62819ab82bb8998ecd0ef4e   \n",
       "2      d0af9d9c2709796ee07a0432de0e26298a64e3e8   \n",
       "3      3c1e7602176e050694e3a5cf8ba5f6f725e3ec51   \n",
       "4      3c1e7602176e050694e3a5cf8ba5f6f725e3ec51   \n",
       "...                                         ...   \n",
       "10128  45671173620a277ceda4ed5411413875dc4cddd0   \n",
       "10129  45671173620a277ceda4ed5411413875dc4cddd0   \n",
       "10130  45671173620a277ceda4ed5411413875dc4cddd0   \n",
       "10131  45671173620a277ceda4ed5411413875dc4cddd0   \n",
       "10132  45671173620a277ceda4ed5411413875dc4cddd0   \n",
       "\n",
       "                                         ssid_1  \\\n",
       "0      5c072340f8e500f7e62819ab82bb8998ecd0ef4e   \n",
       "1      d0af9d9c2709796ee07a0432de0e26298a64e3e8   \n",
       "2      3c1e7602176e050694e3a5cf8ba5f6f725e3ec51   \n",
       "3      a4e38996343460efde1140975529e97c9f9aa60b   \n",
       "4      d0af9d9c2709796ee07a0432de0e26298a64e3e8   \n",
       "...                                         ...   \n",
       "10128  45671173620a277ceda4ed5411413875dc4cddd0   \n",
       "10129  45671173620a277ceda4ed5411413875dc4cddd0   \n",
       "10130  45671173620a277ceda4ed5411413875dc4cddd0   \n",
       "10131  94c9c12f67502bf93f4ced30194b269d9cec6f92   \n",
       "10132  7182afc4e5c212133d5d7d76eb3df6c24618302b   \n",
       "\n",
       "                                         ssid_2  \\\n",
       "0      a4e38996343460efde1140975529e97c9f9aa60b   \n",
       "1      3c1e7602176e050694e3a5cf8ba5f6f725e3ec51   \n",
       "2      f2921f9fa47c704da162c06fc348a98e83464d71   \n",
       "3      f2921f9fa47c704da162c06fc348a98e83464d71   \n",
       "4      5c072340f8e500f7e62819ab82bb8998ecd0ef4e   \n",
       "...                                         ...   \n",
       "10128  94c9c12f67502bf93f4ced30194b269d9cec6f92   \n",
       "10129  94c9c12f67502bf93f4ced30194b269d9cec6f92   \n",
       "10130  193453b4b2ad6268a8c6e40c0064fbf1310a6460   \n",
       "10131  45671173620a277ceda4ed5411413875dc4cddd0   \n",
       "10132  b9f0208be00bd8b337be7f12e02e3a3ce846e22b   \n",
       "\n",
       "                                         ssid_3  \\\n",
       "0      d0af9d9c2709796ee07a0432de0e26298a64e3e8   \n",
       "1      da39a3ee5e6b4b0d3255bfef95601890afd80709   \n",
       "2      5c072340f8e500f7e62819ab82bb8998ecd0ef4e   \n",
       "3      da39a3ee5e6b4b0d3255bfef95601890afd80709   \n",
       "4      da39a3ee5e6b4b0d3255bfef95601890afd80709   \n",
       "...                                         ...   \n",
       "10128  f0de7db5c2e4bf6c27f0f0b941a941cdc95ac6c5   \n",
       "10129  b7e6027447eb1f81327d66cfd3adbe557aabf26c   \n",
       "10130  d78e0816ec0328992fc6025f61304812cf54febf   \n",
       "10131  6ad1c6bb0aeaa218fa705f0f8dc901c973396a9e   \n",
       "10132  b7e6027447eb1f81327d66cfd3adbe557aabf26c   \n",
       "\n",
       "                                         ssid_4  \\\n",
       "0      a4e38996343460efde1140975529e97c9f9aa60b   \n",
       "1      a4e38996343460efde1140975529e97c9f9aa60b   \n",
       "2      da39a3ee5e6b4b0d3255bfef95601890afd80709   \n",
       "3      d0af9d9c2709796ee07a0432de0e26298a64e3e8   \n",
       "4      208255716aecce985d8f7a2bb8117b4dee2d53c5   \n",
       "...                                         ...   \n",
       "10128  f44fa6118fed7198296c8b45b2f2684903d99620   \n",
       "10129  d839a45ebe64ab48b60a407d837fb01d3c0dfef9   \n",
       "10130  6ad1c6bb0aeaa218fa705f0f8dc901c973396a9e   \n",
       "10131  d78e0816ec0328992fc6025f61304812cf54febf   \n",
       "10132  d839a45ebe64ab48b60a407d837fb01d3c0dfef9   \n",
       "\n",
       "                                         ssid_5  \\\n",
       "0      da39a3ee5e6b4b0d3255bfef95601890afd80709   \n",
       "1      208255716aecce985d8f7a2bb8117b4dee2d53c5   \n",
       "2      a4e38996343460efde1140975529e97c9f9aa60b   \n",
       "3      5c072340f8e500f7e62819ab82bb8998ecd0ef4e   \n",
       "4      f2921f9fa47c704da162c06fc348a98e83464d71   \n",
       "...                                         ...   \n",
       "10128  c3d209856c667232ef40c1ccb86cfde3a023920c   \n",
       "10129  b9f0208be00bd8b337be7f12e02e3a3ce846e22b   \n",
       "10130  94c9c12f67502bf93f4ced30194b269d9cec6f92   \n",
       "10131  f0de7db5c2e4bf6c27f0f0b941a941cdc95ac6c5   \n",
       "10132  b6ffe5619e02871fcd04f61c9bb4b5c53a3f46b7   \n",
       "\n",
       "                                         ssid_6  \\\n",
       "0      208255716aecce985d8f7a2bb8117b4dee2d53c5   \n",
       "1      a4e38996343460efde1140975529e97c9f9aa60b   \n",
       "2      a4e38996343460efde1140975529e97c9f9aa60b   \n",
       "3      a4e38996343460efde1140975529e97c9f9aa60b   \n",
       "4      a4e38996343460efde1140975529e97c9f9aa60b   \n",
       "...                                         ...   \n",
       "10128  b7e6027447eb1f81327d66cfd3adbe557aabf26c   \n",
       "10129  193453b4b2ad6268a8c6e40c0064fbf1310a6460   \n",
       "10130  f0de7db5c2e4bf6c27f0f0b941a941cdc95ac6c5   \n",
       "10131  2e40049edd5106db3965286eb2446f3c14b46180   \n",
       "10132  da39a3ee5e6b4b0d3255bfef95601890afd80709   \n",
       "\n",
       "                                         ssid_7  \\\n",
       "0      da39a3ee5e6b4b0d3255bfef95601890afd80709   \n",
       "1      da39a3ee5e6b4b0d3255bfef95601890afd80709   \n",
       "2      208255716aecce985d8f7a2bb8117b4dee2d53c5   \n",
       "3      208255716aecce985d8f7a2bb8117b4dee2d53c5   \n",
       "4      a4e38996343460efde1140975529e97c9f9aa60b   \n",
       "...                                         ...   \n",
       "10128  8ece1ee8e83b5c2be32750c273a7c0b5f04f72ac   \n",
       "10129  8ece1ee8e83b5c2be32750c273a7c0b5f04f72ac   \n",
       "10130  8ece1ee8e83b5c2be32750c273a7c0b5f04f72ac   \n",
       "10131  b7e6027447eb1f81327d66cfd3adbe557aabf26c   \n",
       "10132  45671173620a277ceda4ed5411413875dc4cddd0   \n",
       "\n",
       "                                         ssid_8  \\\n",
       "0      07b466ea3782f19a25830149eb173cfc5c049246   \n",
       "1      07b466ea3782f19a25830149eb173cfc5c049246   \n",
       "2      25055861b712f167ba58320e846a4aa70f811204   \n",
       "3      da39a3ee5e6b4b0d3255bfef95601890afd80709   \n",
       "4      da39a3ee5e6b4b0d3255bfef95601890afd80709   \n",
       "...                                         ...   \n",
       "10128  2e40049edd5106db3965286eb2446f3c14b46180   \n",
       "10129  7182afc4e5c212133d5d7d76eb3df6c24618302b   \n",
       "10130  7182afc4e5c212133d5d7d76eb3df6c24618302b   \n",
       "10131  7182afc4e5c212133d5d7d76eb3df6c24618302b   \n",
       "10132  b6ffe5619e02871fcd04f61c9bb4b5c53a3f46b7   \n",
       "\n",
       "                                         ssid_9  ...  \\\n",
       "0      da39a3ee5e6b4b0d3255bfef95601890afd80709  ...   \n",
       "1      25055861b712f167ba58320e846a4aa70f811204  ...   \n",
       "2      f2921f9fa47c704da162c06fc348a98e83464d71  ...   \n",
       "3      07b466ea3782f19a25830149eb173cfc5c049246  ...   \n",
       "4      f2921f9fa47c704da162c06fc348a98e83464d71  ...   \n",
       "...                                         ...  ...   \n",
       "10128  1e15285cc1ee6dd5a2700abfcd0c94d3783f41be  ...   \n",
       "10129  b6ffe5619e02871fcd04f61c9bb4b5c53a3f46b7  ...   \n",
       "10130  b6ffe5619e02871fcd04f61c9bb4b5c53a3f46b7  ...   \n",
       "10131  b9f0208be00bd8b337be7f12e02e3a3ce846e22b  ...   \n",
       "10132  b7e6027447eb1f81327d66cfd3adbe557aabf26c  ...   \n",
       "\n",
       "                           path                   site_id timediff  \\\n",
       "0      00ff0c9a71cc37a2ebdd0f05  5da1389e4db8ce0c98bd0547    -1170   \n",
       "1      00ff0c9a71cc37a2ebdd0f05  5da1389e4db8ce0c98bd0547     -876   \n",
       "2      00ff0c9a71cc37a2ebdd0f05  5da1389e4db8ce0c98bd0547       73   \n",
       "3      00ff0c9a71cc37a2ebdd0f05  5da1389e4db8ce0c98bd0547     -118   \n",
       "4      00ff0c9a71cc37a2ebdd0f05  5da1389e4db8ce0c98bd0547       75   \n",
       "...                         ...                       ...      ...   \n",
       "10128  ffcd9524c80c0fa5bb859eaf  5a0546857ecc773753327266      -83   \n",
       "10129  ffcd9524c80c0fa5bb859eaf  5a0546857ecc773753327266      244   \n",
       "10130  ffcd9524c80c0fa5bb859eaf  5a0546857ecc773753327266     -708   \n",
       "10131  ffcd9524c80c0fa5bb859eaf  5a0546857ecc773753327266      574   \n",
       "10132  ffcd9524c80c0fa5bb859eaf  5a0546857ecc773753327266     -399   \n",
       "\n",
       "                                     site_path_timestamp floor           x  \\\n",
       "0      5da1389e4db8ce0c98bd0547_00ff0c9a71cc37a2ebdd0...     3   70.369621   \n",
       "1      5da1389e4db8ce0c98bd0547_00ff0c9a71cc37a2ebdd0...     3   71.460388   \n",
       "2      5da1389e4db8ce0c98bd0547_00ff0c9a71cc37a2ebdd0...     3   71.321831   \n",
       "3      5da1389e4db8ce0c98bd0547_00ff0c9a71cc37a2ebdd0...     3   62.602085   \n",
       "4      5da1389e4db8ce0c98bd0547_00ff0c9a71cc37a2ebdd0...     3   70.822304   \n",
       "...                                                  ...   ...         ...   \n",
       "10128  5a0546857ecc773753327266_ffcd9524c80c0fa5bb859...    -1  134.889862   \n",
       "10129  5a0546857ecc773753327266_ffcd9524c80c0fa5bb859...    -1  130.604553   \n",
       "10130  5a0546857ecc773753327266_ffcd9524c80c0fa5bb859...    -1  131.397369   \n",
       "10131  5a0546857ecc773753327266_ffcd9524c80c0fa5bb859...    -1  130.928604   \n",
       "10132  5a0546857ecc773753327266_ffcd9524c80c0fa5bb859...    -1  130.068558   \n",
       "\n",
       "                y wifi_timestamp          _x          _y  \n",
       "0       85.187553  1573190311876   70.369621   85.187553  \n",
       "1       83.695259  1573190315620   71.187696   84.068333  \n",
       "2       85.736519  1573190323149   71.321831   85.736519  \n",
       "3       86.049301  1573190336356   62.602085   86.049301  \n",
       "4       84.100250  1573190347755   70.822304   84.100250  \n",
       "...           ...            ...         ...         ...  \n",
       "10128  182.401382  1578465350337  134.889862  182.401382  \n",
       "10129  183.560974  1578465356123  130.604553  183.560974  \n",
       "10130  183.443237  1578465367479  131.362899  183.448356  \n",
       "10131  180.327866  1578465375046  130.874851  179.901628  \n",
       "10132  173.508072  1578465382682  130.122311  173.934309  \n",
       "\n",
       "[10133 rows x 511 columns]"
      ],
      "text/html": "<div>\n<style scoped>\n    .dataframe tbody tr th:only-of-type {\n        vertical-align: middle;\n    }\n\n    .dataframe tbody tr th {\n        vertical-align: top;\n    }\n\n    .dataframe thead th {\n        text-align: right;\n    }\n</style>\n<table border=\"1\" class=\"dataframe\">\n  <thead>\n    <tr style=\"text-align: right;\">\n      <th></th>\n      <th>ssid_0</th>\n      <th>ssid_1</th>\n      <th>ssid_2</th>\n      <th>ssid_3</th>\n      <th>ssid_4</th>\n      <th>ssid_5</th>\n      <th>ssid_6</th>\n      <th>ssid_7</th>\n      <th>ssid_8</th>\n      <th>ssid_9</th>\n      <th>...</th>\n      <th>path</th>\n      <th>site_id</th>\n      <th>timediff</th>\n      <th>site_path_timestamp</th>\n      <th>floor</th>\n      <th>x</th>\n      <th>y</th>\n      <th>wifi_timestamp</th>\n      <th>_x</th>\n      <th>_y</th>\n    </tr>\n  </thead>\n  <tbody>\n    <tr>\n      <th>0</th>\n      <td>3c1e7602176e050694e3a5cf8ba5f6f725e3ec51</td>\n      <td>5c072340f8e500f7e62819ab82bb8998ecd0ef4e</td>\n      <td>a4e38996343460efde1140975529e97c9f9aa60b</td>\n      <td>d0af9d9c2709796ee07a0432de0e26298a64e3e8</td>\n      <td>a4e38996343460efde1140975529e97c9f9aa60b</td>\n      <td>da39a3ee5e6b4b0d3255bfef95601890afd80709</td>\n      <td>208255716aecce985d8f7a2bb8117b4dee2d53c5</td>\n      <td>da39a3ee5e6b4b0d3255bfef95601890afd80709</td>\n      <td>07b466ea3782f19a25830149eb173cfc5c049246</td>\n      <td>da39a3ee5e6b4b0d3255bfef95601890afd80709</td>\n      <td>...</td>\n      <td>00ff0c9a71cc37a2ebdd0f05</td>\n      <td>5da1389e4db8ce0c98bd0547</td>\n      <td>-1170</td>\n      <td>5da1389e4db8ce0c98bd0547_00ff0c9a71cc37a2ebdd0...</td>\n      <td>3</td>\n      <td>70.369621</td>\n      <td>85.187553</td>\n      <td>1573190311876</td>\n      <td>70.369621</td>\n      <td>85.187553</td>\n    </tr>\n    <tr>\n      <th>1</th>\n      <td>5c072340f8e500f7e62819ab82bb8998ecd0ef4e</td>\n      <td>d0af9d9c2709796ee07a0432de0e26298a64e3e8</td>\n      <td>3c1e7602176e050694e3a5cf8ba5f6f725e3ec51</td>\n      <td>da39a3ee5e6b4b0d3255bfef95601890afd80709</td>\n      <td>a4e38996343460efde1140975529e97c9f9aa60b</td>\n      <td>208255716aecce985d8f7a2bb8117b4dee2d53c5</td>\n      <td>a4e38996343460efde1140975529e97c9f9aa60b</td>\n      <td>da39a3ee5e6b4b0d3255bfef95601890afd80709</td>\n      <td>07b466ea3782f19a25830149eb173cfc5c049246</td>\n      <td>25055861b712f167ba58320e846a4aa70f811204</td>\n      <td>...</td>\n      <td>00ff0c9a71cc37a2ebdd0f05</td>\n      <td>5da1389e4db8ce0c98bd0547</td>\n      <td>-876</td>\n      <td>5da1389e4db8ce0c98bd0547_00ff0c9a71cc37a2ebdd0...</td>\n      <td>3</td>\n      <td>71.460388</td>\n      <td>83.695259</td>\n      <td>1573190315620</td>\n      <td>71.187696</td>\n      <td>84.068333</td>\n    </tr>\n    <tr>\n      <th>2</th>\n      <td>d0af9d9c2709796ee07a0432de0e26298a64e3e8</td>\n      <td>3c1e7602176e050694e3a5cf8ba5f6f725e3ec51</td>\n      <td>f2921f9fa47c704da162c06fc348a98e83464d71</td>\n      <td>5c072340f8e500f7e62819ab82bb8998ecd0ef4e</td>\n      <td>da39a3ee5e6b4b0d3255bfef95601890afd80709</td>\n      <td>a4e38996343460efde1140975529e97c9f9aa60b</td>\n      <td>a4e38996343460efde1140975529e97c9f9aa60b</td>\n      <td>208255716aecce985d8f7a2bb8117b4dee2d53c5</td>\n      <td>25055861b712f167ba58320e846a4aa70f811204</td>\n      <td>f2921f9fa47c704da162c06fc348a98e83464d71</td>\n      <td>...</td>\n      <td>00ff0c9a71cc37a2ebdd0f05</td>\n      <td>5da1389e4db8ce0c98bd0547</td>\n      <td>73</td>\n      <td>5da1389e4db8ce0c98bd0547_00ff0c9a71cc37a2ebdd0...</td>\n      <td>3</td>\n      <td>71.321831</td>\n      <td>85.736519</td>\n      <td>1573190323149</td>\n      <td>71.321831</td>\n      <td>85.736519</td>\n    </tr>\n    <tr>\n      <th>3</th>\n      <td>3c1e7602176e050694e3a5cf8ba5f6f725e3ec51</td>\n      <td>a4e38996343460efde1140975529e97c9f9aa60b</td>\n      <td>f2921f9fa47c704da162c06fc348a98e83464d71</td>\n      <td>da39a3ee5e6b4b0d3255bfef95601890afd80709</td>\n      <td>d0af9d9c2709796ee07a0432de0e26298a64e3e8</td>\n      <td>5c072340f8e500f7e62819ab82bb8998ecd0ef4e</td>\n      <td>a4e38996343460efde1140975529e97c9f9aa60b</td>\n      <td>208255716aecce985d8f7a2bb8117b4dee2d53c5</td>\n      <td>da39a3ee5e6b4b0d3255bfef95601890afd80709</td>\n      <td>07b466ea3782f19a25830149eb173cfc5c049246</td>\n      <td>...</td>\n      <td>00ff0c9a71cc37a2ebdd0f05</td>\n      <td>5da1389e4db8ce0c98bd0547</td>\n      <td>-118</td>\n      <td>5da1389e4db8ce0c98bd0547_00ff0c9a71cc37a2ebdd0...</td>\n      <td>3</td>\n      <td>62.602085</td>\n      <td>86.049301</td>\n      <td>1573190336356</td>\n      <td>62.602085</td>\n      <td>86.049301</td>\n    </tr>\n    <tr>\n      <th>4</th>\n      <td>3c1e7602176e050694e3a5cf8ba5f6f725e3ec51</td>\n      <td>d0af9d9c2709796ee07a0432de0e26298a64e3e8</td>\n      <td>5c072340f8e500f7e62819ab82bb8998ecd0ef4e</td>\n      <td>da39a3ee5e6b4b0d3255bfef95601890afd80709</td>\n      <td>208255716aecce985d8f7a2bb8117b4dee2d53c5</td>\n      <td>f2921f9fa47c704da162c06fc348a98e83464d71</td>\n      <td>a4e38996343460efde1140975529e97c9f9aa60b</td>\n      <td>a4e38996343460efde1140975529e97c9f9aa60b</td>\n      <td>da39a3ee5e6b4b0d3255bfef95601890afd80709</td>\n      <td>f2921f9fa47c704da162c06fc348a98e83464d71</td>\n      <td>...</td>\n      <td>00ff0c9a71cc37a2ebdd0f05</td>\n      <td>5da1389e4db8ce0c98bd0547</td>\n      <td>75</td>\n      <td>5da1389e4db8ce0c98bd0547_00ff0c9a71cc37a2ebdd0...</td>\n      <td>3</td>\n      <td>70.822304</td>\n      <td>84.100250</td>\n      <td>1573190347755</td>\n      <td>70.822304</td>\n      <td>84.100250</td>\n    </tr>\n    <tr>\n      <th>...</th>\n      <td>...</td>\n      <td>...</td>\n      <td>...</td>\n      <td>...</td>\n      <td>...</td>\n      <td>...</td>\n      <td>...</td>\n      <td>...</td>\n      <td>...</td>\n      <td>...</td>\n      <td>...</td>\n      <td>...</td>\n      <td>...</td>\n      <td>...</td>\n      <td>...</td>\n      <td>...</td>\n      <td>...</td>\n      <td>...</td>\n      <td>...</td>\n      <td>...</td>\n      <td>...</td>\n    </tr>\n    <tr>\n      <th>10128</th>\n      <td>45671173620a277ceda4ed5411413875dc4cddd0</td>\n      <td>45671173620a277ceda4ed5411413875dc4cddd0</td>\n      <td>94c9c12f67502bf93f4ced30194b269d9cec6f92</td>\n      <td>f0de7db5c2e4bf6c27f0f0b941a941cdc95ac6c5</td>\n      <td>f44fa6118fed7198296c8b45b2f2684903d99620</td>\n      <td>c3d209856c667232ef40c1ccb86cfde3a023920c</td>\n      <td>b7e6027447eb1f81327d66cfd3adbe557aabf26c</td>\n      <td>8ece1ee8e83b5c2be32750c273a7c0b5f04f72ac</td>\n      <td>2e40049edd5106db3965286eb2446f3c14b46180</td>\n      <td>1e15285cc1ee6dd5a2700abfcd0c94d3783f41be</td>\n      <td>...</td>\n      <td>ffcd9524c80c0fa5bb859eaf</td>\n      <td>5a0546857ecc773753327266</td>\n      <td>-83</td>\n      <td>5a0546857ecc773753327266_ffcd9524c80c0fa5bb859...</td>\n      <td>-1</td>\n      <td>134.889862</td>\n      <td>182.401382</td>\n      <td>1578465350337</td>\n      <td>134.889862</td>\n      <td>182.401382</td>\n    </tr>\n    <tr>\n      <th>10129</th>\n      <td>45671173620a277ceda4ed5411413875dc4cddd0</td>\n      <td>45671173620a277ceda4ed5411413875dc4cddd0</td>\n      <td>94c9c12f67502bf93f4ced30194b269d9cec6f92</td>\n      <td>b7e6027447eb1f81327d66cfd3adbe557aabf26c</td>\n      <td>d839a45ebe64ab48b60a407d837fb01d3c0dfef9</td>\n      <td>b9f0208be00bd8b337be7f12e02e3a3ce846e22b</td>\n      <td>193453b4b2ad6268a8c6e40c0064fbf1310a6460</td>\n      <td>8ece1ee8e83b5c2be32750c273a7c0b5f04f72ac</td>\n      <td>7182afc4e5c212133d5d7d76eb3df6c24618302b</td>\n      <td>b6ffe5619e02871fcd04f61c9bb4b5c53a3f46b7</td>\n      <td>...</td>\n      <td>ffcd9524c80c0fa5bb859eaf</td>\n      <td>5a0546857ecc773753327266</td>\n      <td>244</td>\n      <td>5a0546857ecc773753327266_ffcd9524c80c0fa5bb859...</td>\n      <td>-1</td>\n      <td>130.604553</td>\n      <td>183.560974</td>\n      <td>1578465356123</td>\n      <td>130.604553</td>\n      <td>183.560974</td>\n    </tr>\n    <tr>\n      <th>10130</th>\n      <td>45671173620a277ceda4ed5411413875dc4cddd0</td>\n      <td>45671173620a277ceda4ed5411413875dc4cddd0</td>\n      <td>193453b4b2ad6268a8c6e40c0064fbf1310a6460</td>\n      <td>d78e0816ec0328992fc6025f61304812cf54febf</td>\n      <td>6ad1c6bb0aeaa218fa705f0f8dc901c973396a9e</td>\n      <td>94c9c12f67502bf93f4ced30194b269d9cec6f92</td>\n      <td>f0de7db5c2e4bf6c27f0f0b941a941cdc95ac6c5</td>\n      <td>8ece1ee8e83b5c2be32750c273a7c0b5f04f72ac</td>\n      <td>7182afc4e5c212133d5d7d76eb3df6c24618302b</td>\n      <td>b6ffe5619e02871fcd04f61c9bb4b5c53a3f46b7</td>\n      <td>...</td>\n      <td>ffcd9524c80c0fa5bb859eaf</td>\n      <td>5a0546857ecc773753327266</td>\n      <td>-708</td>\n      <td>5a0546857ecc773753327266_ffcd9524c80c0fa5bb859...</td>\n      <td>-1</td>\n      <td>131.397369</td>\n      <td>183.443237</td>\n      <td>1578465367479</td>\n      <td>131.362899</td>\n      <td>183.448356</td>\n    </tr>\n    <tr>\n      <th>10131</th>\n      <td>45671173620a277ceda4ed5411413875dc4cddd0</td>\n      <td>94c9c12f67502bf93f4ced30194b269d9cec6f92</td>\n      <td>45671173620a277ceda4ed5411413875dc4cddd0</td>\n      <td>6ad1c6bb0aeaa218fa705f0f8dc901c973396a9e</td>\n      <td>d78e0816ec0328992fc6025f61304812cf54febf</td>\n      <td>f0de7db5c2e4bf6c27f0f0b941a941cdc95ac6c5</td>\n      <td>2e40049edd5106db3965286eb2446f3c14b46180</td>\n      <td>b7e6027447eb1f81327d66cfd3adbe557aabf26c</td>\n      <td>7182afc4e5c212133d5d7d76eb3df6c24618302b</td>\n      <td>b9f0208be00bd8b337be7f12e02e3a3ce846e22b</td>\n      <td>...</td>\n      <td>ffcd9524c80c0fa5bb859eaf</td>\n      <td>5a0546857ecc773753327266</td>\n      <td>574</td>\n      <td>5a0546857ecc773753327266_ffcd9524c80c0fa5bb859...</td>\n      <td>-1</td>\n      <td>130.928604</td>\n      <td>180.327866</td>\n      <td>1578465375046</td>\n      <td>130.874851</td>\n      <td>179.901628</td>\n    </tr>\n    <tr>\n      <th>10132</th>\n      <td>45671173620a277ceda4ed5411413875dc4cddd0</td>\n      <td>7182afc4e5c212133d5d7d76eb3df6c24618302b</td>\n      <td>b9f0208be00bd8b337be7f12e02e3a3ce846e22b</td>\n      <td>b7e6027447eb1f81327d66cfd3adbe557aabf26c</td>\n      <td>d839a45ebe64ab48b60a407d837fb01d3c0dfef9</td>\n      <td>b6ffe5619e02871fcd04f61c9bb4b5c53a3f46b7</td>\n      <td>da39a3ee5e6b4b0d3255bfef95601890afd80709</td>\n      <td>45671173620a277ceda4ed5411413875dc4cddd0</td>\n      <td>b6ffe5619e02871fcd04f61c9bb4b5c53a3f46b7</td>\n      <td>b7e6027447eb1f81327d66cfd3adbe557aabf26c</td>\n      <td>...</td>\n      <td>ffcd9524c80c0fa5bb859eaf</td>\n      <td>5a0546857ecc773753327266</td>\n      <td>-399</td>\n      <td>5a0546857ecc773753327266_ffcd9524c80c0fa5bb859...</td>\n      <td>-1</td>\n      <td>130.068558</td>\n      <td>173.508072</td>\n      <td>1578465382682</td>\n      <td>130.122311</td>\n      <td>173.934309</td>\n    </tr>\n  </tbody>\n</table>\n<p>10133 rows × 511 columns</p>\n</div>"
     },
     "metadata": {},
     "execution_count": 32
    }
   ],
   "source": [
    "# 線形補完でwaypointを修正\n",
    "waypoint_dfs = []\n",
    "for path,df in test_df.groupby('path'):  #15\n",
    "    tmp_waypoint = wifi_waypoint_by_linear_interpolation(\n",
    "        observed_timestamp=df['wifi_timestamp'].astype(int).values, \n",
    "        observed_x=df['x'].values,\n",
    "        observed_y=df['y'].values, \n",
    "        target_timestamp=df['timestamp'].astype(int).values\n",
    "        )\n",
    "    df['_x'] = tmp_waypoint[:,0]\n",
    "    df['_y'] = tmp_waypoint[:,1]\n",
    "    waypoint_dfs.append(df)\n",
    "\n",
    "waypoint_df = pd.concat(waypoint_dfs).reset_index(drop=True)\n",
    "waypoint_df"
   ]
  },
  {
   "cell_type": "code",
   "execution_count": 33,
   "metadata": {},
   "outputs": [
    {
     "output_type": "execute_result",
     "data": {
      "text/plain": [
       "<matplotlib.legend.Legend at 0x7f4d23f01610>"
      ]
     },
     "metadata": {},
     "execution_count": 33
    },
    {
     "output_type": "display_data",
     "data": {
      "text/plain": "<Figure size 432x288 with 1 Axes>",
      "image/svg+xml": "<?xml version=\"1.0\" encoding=\"utf-8\" standalone=\"no\"?>\n<!DOCTYPE svg PUBLIC \"-//W3C//DTD SVG 1.1//EN\"\n  \"http://www.w3.org/Graphics/SVG/1.1/DTD/svg11.dtd\">\n<!-- Created with matplotlib (https://matplotlib.org/) -->\n<svg height=\"248.518125pt\" version=\"1.1\" viewBox=\"0 0 381.65 248.518125\" width=\"381.65pt\" xmlns=\"http://www.w3.org/2000/svg\" xmlns:xlink=\"http://www.w3.org/1999/xlink\">\n <metadata>\n  <rdf:RDF xmlns:cc=\"http://creativecommons.org/ns#\" xmlns:dc=\"http://purl.org/dc/elements/1.1/\" xmlns:rdf=\"http://www.w3.org/1999/02/22-rdf-syntax-ns#\">\n   <cc:Work>\n    <dc:type rdf:resource=\"http://purl.org/dc/dcmitype/StillImage\"/>\n    <dc:date>2021-04-26T02:24:08.362336</dc:date>\n    <dc:format>image/svg+xml</dc:format>\n    <dc:creator>\n     <cc:Agent>\n      <dc:title>Matplotlib v3.3.3, https://matplotlib.org/</dc:title>\n     </cc:Agent>\n    </dc:creator>\n   </cc:Work>\n  </rdf:RDF>\n </metadata>\n <defs>\n  <style type=\"text/css\">*{stroke-linecap:butt;stroke-linejoin:round;}</style>\n </defs>\n <g id=\"figure_1\">\n  <g id=\"patch_1\">\n   <path d=\"M -0 248.518125 \nL 381.65 248.518125 \nL 381.65 0 \nL -0 0 \nz\n\" style=\"fill:none;\"/>\n  </g>\n  <g id=\"axes_1\">\n   <g id=\"patch_2\">\n    <path d=\"M 39.65 224.64 \nL 374.45 224.64 \nL 374.45 7.2 \nL 39.65 7.2 \nz\n\" style=\"fill:#ffffff;\"/>\n   </g>\n   <g id=\"patch_3\">\n    <path clip-path=\"url(#paf48911ebb)\" d=\"M 95.507742 224.64 \nL 121.348557 224.64 \nL 121.348557 224.52508 \nL 95.507742 224.52508 \nz\n\" style=\"fill:#1f77b4;\"/>\n   </g>\n   <g id=\"patch_4\">\n    <path clip-path=\"url(#paf48911ebb)\" d=\"M 121.348557 224.64 \nL 147.189372 224.64 \nL 147.189372 224.18032 \nL 121.348557 224.18032 \nz\n\" style=\"fill:#1f77b4;\"/>\n   </g>\n   <g id=\"patch_5\">\n    <path clip-path=\"url(#paf48911ebb)\" d=\"M 147.189372 224.64 \nL 173.030187 224.64 \nL 173.030187 219.445619 \nL 147.189372 219.445619 \nz\n\" style=\"fill:#1f77b4;\"/>\n   </g>\n   <g id=\"patch_6\">\n    <path clip-path=\"url(#paf48911ebb)\" d=\"M 173.030187 224.64 \nL 198.871002 224.64 \nL 198.871002 47.640323 \nL 173.030187 47.640323 \nz\n\" style=\"fill:#1f77b4;\"/>\n   </g>\n   <g id=\"patch_7\">\n    <path clip-path=\"url(#paf48911ebb)\" d=\"M 198.871002 224.64 \nL 224.711816 224.64 \nL 224.711816 177.063149 \nL 198.871002 177.063149 \nz\n\" style=\"fill:#1f77b4;\"/>\n   </g>\n   <g id=\"patch_8\">\n    <path clip-path=\"url(#paf48911ebb)\" d=\"M 224.711816 224.64 \nL 250.552631 224.64 \nL 250.552631 222.479505 \nL 224.711816 222.479505 \nz\n\" style=\"fill:#1f77b4;\"/>\n   </g>\n   <g id=\"patch_9\">\n    <path clip-path=\"url(#paf48911ebb)\" d=\"M 250.552631 224.64 \nL 276.393446 224.64 \nL 276.393446 224.341208 \nL 250.552631 224.341208 \nz\n\" style=\"fill:#1f77b4;\"/>\n   </g>\n   <g id=\"patch_10\">\n    <path clip-path=\"url(#paf48911ebb)\" d=\"M 276.393446 224.64 \nL 302.234261 224.64 \nL 302.234261 224.617016 \nL 276.393446 224.617016 \nz\n\" style=\"fill:#1f77b4;\"/>\n   </g>\n   <g id=\"patch_11\">\n    <path clip-path=\"url(#paf48911ebb)\" d=\"M 302.234261 224.64 \nL 328.075076 224.64 \nL 328.075076 224.617016 \nL 302.234261 224.617016 \nz\n\" style=\"fill:#1f77b4;\"/>\n   </g>\n   <g id=\"patch_12\">\n    <path clip-path=\"url(#paf48911ebb)\" d=\"M 328.075076 224.64 \nL 353.915891 224.64 \nL 353.915891 224.594032 \nL 328.075076 224.594032 \nz\n\" style=\"fill:#1f77b4;\"/>\n   </g>\n   <g id=\"patch_13\">\n    <path clip-path=\"url(#paf48911ebb)\" d=\"M 54.868182 224.64 \nL 85.304545 224.64 \nL 85.304545 224.617016 \nL 54.868182 224.617016 \nz\n\" style=\"fill:#ff7f0e;\"/>\n   </g>\n   <g id=\"patch_14\">\n    <path clip-path=\"url(#paf48911ebb)\" d=\"M 85.304545 224.64 \nL 115.740909 224.64 \nL 115.740909 224.52508 \nL 85.304545 224.52508 \nz\n\" style=\"fill:#ff7f0e;\"/>\n   </g>\n   <g id=\"patch_15\">\n    <path clip-path=\"url(#paf48911ebb)\" d=\"M 115.740909 224.64 \nL 146.177273 224.64 \nL 146.177273 224.29524 \nL 115.740909 224.29524 \nz\n\" style=\"fill:#ff7f0e;\"/>\n   </g>\n   <g id=\"patch_16\">\n    <path clip-path=\"url(#paf48911ebb)\" d=\"M 146.177273 224.64 \nL 176.613636 224.64 \nL 176.613636 216.894397 \nL 146.177273 216.894397 \nz\n\" style=\"fill:#ff7f0e;\"/>\n   </g>\n   <g id=\"patch_17\">\n    <path clip-path=\"url(#paf48911ebb)\" d=\"M 176.613636 224.64 \nL 207.05 224.64 \nL 207.05 17.554286 \nL 176.613636 17.554286 \nz\n\" style=\"fill:#ff7f0e;\"/>\n   </g>\n   <g id=\"patch_18\">\n    <path clip-path=\"url(#paf48911ebb)\" d=\"M 207.05 224.64 \nL 237.486364 224.64 \nL 237.486364 207.97661 \nL 207.05 207.97661 \nz\n\" style=\"fill:#ff7f0e;\"/>\n   </g>\n   <g id=\"patch_19\">\n    <path clip-path=\"url(#paf48911ebb)\" d=\"M 237.486364 224.64 \nL 267.922727 224.64 \nL 267.922727 223.812577 \nL 237.486364 223.812577 \nz\n\" style=\"fill:#ff7f0e;\"/>\n   </g>\n   <g id=\"patch_20\">\n    <path clip-path=\"url(#paf48911ebb)\" d=\"M 267.922727 224.64 \nL 298.359091 224.64 \nL 298.359091 224.617016 \nL 267.922727 224.617016 \nz\n\" style=\"fill:#ff7f0e;\"/>\n   </g>\n   <g id=\"patch_21\">\n    <path clip-path=\"url(#paf48911ebb)\" d=\"M 298.359091 224.64 \nL 328.795455 224.64 \nL 328.795455 224.594032 \nL 298.359091 224.594032 \nz\n\" style=\"fill:#ff7f0e;\"/>\n   </g>\n   <g id=\"patch_22\">\n    <path clip-path=\"url(#paf48911ebb)\" d=\"M 328.795455 224.64 \nL 359.231818 224.64 \nL 359.231818 224.617016 \nL 328.795455 224.617016 \nz\n\" style=\"fill:#ff7f0e;\"/>\n   </g>\n   <g id=\"matplotlib.axis_1\">\n    <g id=\"xtick_1\">\n     <g id=\"line2d_1\">\n      <path clip-path=\"url(#paf48911ebb)\" d=\"M 85.607249 224.64 \nL 85.607249 7.2 \n\" style=\"fill:none;stroke:#b0b0b0;stroke-linecap:square;stroke-width:0.8;\"/>\n     </g>\n     <g id=\"line2d_2\">\n      <defs>\n       <path d=\"M 0 0 \nL 0 3.5 \n\" id=\"mf9c801fb74\" style=\"stroke:#000000;stroke-width:0.8;\"/>\n      </defs>\n      <g>\n       <use style=\"stroke:#000000;stroke-width:0.8;\" x=\"85.607249\" xlink:href=\"#mf9c801fb74\" y=\"224.64\"/>\n      </g>\n     </g>\n     <g id=\"text_1\">\n      <!-- −4 -->\n      <g transform=\"translate(78.236156 239.238437)scale(0.1 -0.1)\">\n       <defs>\n        <path d=\"M 10.59375 35.5 \nL 73.1875 35.5 \nL 73.1875 27.203125 \nL 10.59375 27.203125 \nz\n\" id=\"DejaVuSans-8722\"/>\n        <path d=\"M 37.796875 64.3125 \nL 12.890625 25.390625 \nL 37.796875 25.390625 \nz\nM 35.203125 72.90625 \nL 47.609375 72.90625 \nL 47.609375 25.390625 \nL 58.015625 25.390625 \nL 58.015625 17.1875 \nL 47.609375 17.1875 \nL 47.609375 0 \nL 37.796875 0 \nL 37.796875 17.1875 \nL 4.890625 17.1875 \nL 4.890625 26.703125 \nz\n\" id=\"DejaVuSans-52\"/>\n       </defs>\n       <use xlink:href=\"#DejaVuSans-8722\"/>\n       <use x=\"83.789062\" xlink:href=\"#DejaVuSans-52\"/>\n      </g>\n     </g>\n    </g>\n    <g id=\"xtick_2\">\n     <g id=\"line2d_3\">\n      <path clip-path=\"url(#paf48911ebb)\" d=\"M 140.345402 224.64 \nL 140.345402 7.2 \n\" style=\"fill:none;stroke:#b0b0b0;stroke-linecap:square;stroke-width:0.8;\"/>\n     </g>\n     <g id=\"line2d_4\">\n      <g>\n       <use style=\"stroke:#000000;stroke-width:0.8;\" x=\"140.345402\" xlink:href=\"#mf9c801fb74\" y=\"224.64\"/>\n      </g>\n     </g>\n     <g id=\"text_2\">\n      <!-- −2 -->\n      <g transform=\"translate(132.974308 239.238437)scale(0.1 -0.1)\">\n       <defs>\n        <path d=\"M 19.1875 8.296875 \nL 53.609375 8.296875 \nL 53.609375 0 \nL 7.328125 0 \nL 7.328125 8.296875 \nQ 12.9375 14.109375 22.625 23.890625 \nQ 32.328125 33.6875 34.8125 36.53125 \nQ 39.546875 41.84375 41.421875 45.53125 \nQ 43.3125 49.21875 43.3125 52.78125 \nQ 43.3125 58.59375 39.234375 62.25 \nQ 35.15625 65.921875 28.609375 65.921875 \nQ 23.96875 65.921875 18.8125 64.3125 \nQ 13.671875 62.703125 7.8125 59.421875 \nL 7.8125 69.390625 \nQ 13.765625 71.78125 18.9375 73 \nQ 24.125 74.21875 28.421875 74.21875 \nQ 39.75 74.21875 46.484375 68.546875 \nQ 53.21875 62.890625 53.21875 53.421875 \nQ 53.21875 48.921875 51.53125 44.890625 \nQ 49.859375 40.875 45.40625 35.40625 \nQ 44.1875 33.984375 37.640625 27.21875 \nQ 31.109375 20.453125 19.1875 8.296875 \nz\n\" id=\"DejaVuSans-50\"/>\n       </defs>\n       <use xlink:href=\"#DejaVuSans-8722\"/>\n       <use x=\"83.789062\" xlink:href=\"#DejaVuSans-50\"/>\n      </g>\n     </g>\n    </g>\n    <g id=\"xtick_3\">\n     <g id=\"line2d_5\">\n      <path clip-path=\"url(#paf48911ebb)\" d=\"M 195.083555 224.64 \nL 195.083555 7.2 \n\" style=\"fill:none;stroke:#b0b0b0;stroke-linecap:square;stroke-width:0.8;\"/>\n     </g>\n     <g id=\"line2d_6\">\n      <g>\n       <use style=\"stroke:#000000;stroke-width:0.8;\" x=\"195.083555\" xlink:href=\"#mf9c801fb74\" y=\"224.64\"/>\n      </g>\n     </g>\n     <g id=\"text_3\">\n      <!-- 0 -->\n      <g transform=\"translate(191.902305 239.238437)scale(0.1 -0.1)\">\n       <defs>\n        <path d=\"M 31.78125 66.40625 \nQ 24.171875 66.40625 20.328125 58.90625 \nQ 16.5 51.421875 16.5 36.375 \nQ 16.5 21.390625 20.328125 13.890625 \nQ 24.171875 6.390625 31.78125 6.390625 \nQ 39.453125 6.390625 43.28125 13.890625 \nQ 47.125 21.390625 47.125 36.375 \nQ 47.125 51.421875 43.28125 58.90625 \nQ 39.453125 66.40625 31.78125 66.40625 \nz\nM 31.78125 74.21875 \nQ 44.046875 74.21875 50.515625 64.515625 \nQ 56.984375 54.828125 56.984375 36.375 \nQ 56.984375 17.96875 50.515625 8.265625 \nQ 44.046875 -1.421875 31.78125 -1.421875 \nQ 19.53125 -1.421875 13.0625 8.265625 \nQ 6.59375 17.96875 6.59375 36.375 \nQ 6.59375 54.828125 13.0625 64.515625 \nQ 19.53125 74.21875 31.78125 74.21875 \nz\n\" id=\"DejaVuSans-48\"/>\n       </defs>\n       <use xlink:href=\"#DejaVuSans-48\"/>\n      </g>\n     </g>\n    </g>\n    <g id=\"xtick_4\">\n     <g id=\"line2d_7\">\n      <path clip-path=\"url(#paf48911ebb)\" d=\"M 249.821708 224.64 \nL 249.821708 7.2 \n\" style=\"fill:none;stroke:#b0b0b0;stroke-linecap:square;stroke-width:0.8;\"/>\n     </g>\n     <g id=\"line2d_8\">\n      <g>\n       <use style=\"stroke:#000000;stroke-width:0.8;\" x=\"249.821708\" xlink:href=\"#mf9c801fb74\" y=\"224.64\"/>\n      </g>\n     </g>\n     <g id=\"text_4\">\n      <!-- 2 -->\n      <g transform=\"translate(246.640458 239.238437)scale(0.1 -0.1)\">\n       <use xlink:href=\"#DejaVuSans-50\"/>\n      </g>\n     </g>\n    </g>\n    <g id=\"xtick_5\">\n     <g id=\"line2d_9\">\n      <path clip-path=\"url(#paf48911ebb)\" d=\"M 304.55986 224.64 \nL 304.55986 7.2 \n\" style=\"fill:none;stroke:#b0b0b0;stroke-linecap:square;stroke-width:0.8;\"/>\n     </g>\n     <g id=\"line2d_10\">\n      <g>\n       <use style=\"stroke:#000000;stroke-width:0.8;\" x=\"304.55986\" xlink:href=\"#mf9c801fb74\" y=\"224.64\"/>\n      </g>\n     </g>\n     <g id=\"text_5\">\n      <!-- 4 -->\n      <g transform=\"translate(301.37861 239.238437)scale(0.1 -0.1)\">\n       <use xlink:href=\"#DejaVuSans-52\"/>\n      </g>\n     </g>\n    </g>\n    <g id=\"xtick_6\">\n     <g id=\"line2d_11\">\n      <path clip-path=\"url(#paf48911ebb)\" d=\"M 359.298013 224.64 \nL 359.298013 7.2 \n\" style=\"fill:none;stroke:#b0b0b0;stroke-linecap:square;stroke-width:0.8;\"/>\n     </g>\n     <g id=\"line2d_12\">\n      <g>\n       <use style=\"stroke:#000000;stroke-width:0.8;\" x=\"359.298013\" xlink:href=\"#mf9c801fb74\" y=\"224.64\"/>\n      </g>\n     </g>\n     <g id=\"text_6\">\n      <!-- 6 -->\n      <g transform=\"translate(356.116763 239.238437)scale(0.1 -0.1)\">\n       <defs>\n        <path d=\"M 33.015625 40.375 \nQ 26.375 40.375 22.484375 35.828125 \nQ 18.609375 31.296875 18.609375 23.390625 \nQ 18.609375 15.53125 22.484375 10.953125 \nQ 26.375 6.390625 33.015625 6.390625 \nQ 39.65625 6.390625 43.53125 10.953125 \nQ 47.40625 15.53125 47.40625 23.390625 \nQ 47.40625 31.296875 43.53125 35.828125 \nQ 39.65625 40.375 33.015625 40.375 \nz\nM 52.59375 71.296875 \nL 52.59375 62.3125 \nQ 48.875 64.0625 45.09375 64.984375 \nQ 41.3125 65.921875 37.59375 65.921875 \nQ 27.828125 65.921875 22.671875 59.328125 \nQ 17.53125 52.734375 16.796875 39.40625 \nQ 19.671875 43.65625 24.015625 45.921875 \nQ 28.375 48.1875 33.59375 48.1875 \nQ 44.578125 48.1875 50.953125 41.515625 \nQ 57.328125 34.859375 57.328125 23.390625 \nQ 57.328125 12.15625 50.6875 5.359375 \nQ 44.046875 -1.421875 33.015625 -1.421875 \nQ 20.359375 -1.421875 13.671875 8.265625 \nQ 6.984375 17.96875 6.984375 36.375 \nQ 6.984375 53.65625 15.1875 63.9375 \nQ 23.390625 74.21875 37.203125 74.21875 \nQ 40.921875 74.21875 44.703125 73.484375 \nQ 48.484375 72.75 52.59375 71.296875 \nz\n\" id=\"DejaVuSans-54\"/>\n       </defs>\n       <use xlink:href=\"#DejaVuSans-54\"/>\n      </g>\n     </g>\n    </g>\n   </g>\n   <g id=\"matplotlib.axis_2\">\n    <g id=\"ytick_1\">\n     <g id=\"line2d_13\">\n      <path clip-path=\"url(#paf48911ebb)\" d=\"M 39.65 224.64 \nL 374.45 224.64 \n\" style=\"fill:none;stroke:#b0b0b0;stroke-linecap:square;stroke-width:0.8;\"/>\n     </g>\n     <g id=\"line2d_14\">\n      <defs>\n       <path d=\"M 0 0 \nL -3.5 0 \n\" id=\"m6df4367ef9\" style=\"stroke:#000000;stroke-width:0.8;\"/>\n      </defs>\n      <g>\n       <use style=\"stroke:#000000;stroke-width:0.8;\" x=\"39.65\" xlink:href=\"#m6df4367ef9\" y=\"224.64\"/>\n      </g>\n     </g>\n     <g id=\"text_7\">\n      <!-- 0 -->\n      <g transform=\"translate(26.2875 228.439219)scale(0.1 -0.1)\">\n       <use xlink:href=\"#DejaVuSans-48\"/>\n      </g>\n     </g>\n    </g>\n    <g id=\"ytick_2\">\n     <g id=\"line2d_15\">\n      <path clip-path=\"url(#paf48911ebb)\" d=\"M 39.65 178.672028 \nL 374.45 178.672028 \n\" style=\"fill:none;stroke:#b0b0b0;stroke-linecap:square;stroke-width:0.8;\"/>\n     </g>\n     <g id=\"line2d_16\">\n      <g>\n       <use style=\"stroke:#000000;stroke-width:0.8;\" x=\"39.65\" xlink:href=\"#m6df4367ef9\" y=\"178.672028\"/>\n      </g>\n     </g>\n     <g id=\"text_8\">\n      <!-- 2000 -->\n      <g transform=\"translate(7.2 182.471247)scale(0.1 -0.1)\">\n       <use xlink:href=\"#DejaVuSans-50\"/>\n       <use x=\"63.623047\" xlink:href=\"#DejaVuSans-48\"/>\n       <use x=\"127.246094\" xlink:href=\"#DejaVuSans-48\"/>\n       <use x=\"190.869141\" xlink:href=\"#DejaVuSans-48\"/>\n      </g>\n     </g>\n    </g>\n    <g id=\"ytick_3\">\n     <g id=\"line2d_17\">\n      <path clip-path=\"url(#paf48911ebb)\" d=\"M 39.65 132.704056 \nL 374.45 132.704056 \n\" style=\"fill:none;stroke:#b0b0b0;stroke-linecap:square;stroke-width:0.8;\"/>\n     </g>\n     <g id=\"line2d_18\">\n      <g>\n       <use style=\"stroke:#000000;stroke-width:0.8;\" x=\"39.65\" xlink:href=\"#m6df4367ef9\" y=\"132.704056\"/>\n      </g>\n     </g>\n     <g id=\"text_9\">\n      <!-- 4000 -->\n      <g transform=\"translate(7.2 136.503275)scale(0.1 -0.1)\">\n       <use xlink:href=\"#DejaVuSans-52\"/>\n       <use x=\"63.623047\" xlink:href=\"#DejaVuSans-48\"/>\n       <use x=\"127.246094\" xlink:href=\"#DejaVuSans-48\"/>\n       <use x=\"190.869141\" xlink:href=\"#DejaVuSans-48\"/>\n      </g>\n     </g>\n    </g>\n    <g id=\"ytick_4\">\n     <g id=\"line2d_19\">\n      <path clip-path=\"url(#paf48911ebb)\" d=\"M 39.65 86.736084 \nL 374.45 86.736084 \n\" style=\"fill:none;stroke:#b0b0b0;stroke-linecap:square;stroke-width:0.8;\"/>\n     </g>\n     <g id=\"line2d_20\">\n      <g>\n       <use style=\"stroke:#000000;stroke-width:0.8;\" x=\"39.65\" xlink:href=\"#m6df4367ef9\" y=\"86.736084\"/>\n      </g>\n     </g>\n     <g id=\"text_10\">\n      <!-- 6000 -->\n      <g transform=\"translate(7.2 90.535302)scale(0.1 -0.1)\">\n       <use xlink:href=\"#DejaVuSans-54\"/>\n       <use x=\"63.623047\" xlink:href=\"#DejaVuSans-48\"/>\n       <use x=\"127.246094\" xlink:href=\"#DejaVuSans-48\"/>\n       <use x=\"190.869141\" xlink:href=\"#DejaVuSans-48\"/>\n      </g>\n     </g>\n    </g>\n    <g id=\"ytick_5\">\n     <g id=\"line2d_21\">\n      <path clip-path=\"url(#paf48911ebb)\" d=\"M 39.65 40.768112 \nL 374.45 40.768112 \n\" style=\"fill:none;stroke:#b0b0b0;stroke-linecap:square;stroke-width:0.8;\"/>\n     </g>\n     <g id=\"line2d_22\">\n      <g>\n       <use style=\"stroke:#000000;stroke-width:0.8;\" x=\"39.65\" xlink:href=\"#m6df4367ef9\" y=\"40.768112\"/>\n      </g>\n     </g>\n     <g id=\"text_11\">\n      <!-- 8000 -->\n      <g transform=\"translate(7.2 44.56733)scale(0.1 -0.1)\">\n       <defs>\n        <path d=\"M 31.78125 34.625 \nQ 24.75 34.625 20.71875 30.859375 \nQ 16.703125 27.09375 16.703125 20.515625 \nQ 16.703125 13.921875 20.71875 10.15625 \nQ 24.75 6.390625 31.78125 6.390625 \nQ 38.8125 6.390625 42.859375 10.171875 \nQ 46.921875 13.96875 46.921875 20.515625 \nQ 46.921875 27.09375 42.890625 30.859375 \nQ 38.875 34.625 31.78125 34.625 \nz\nM 21.921875 38.8125 \nQ 15.578125 40.375 12.03125 44.71875 \nQ 8.5 49.078125 8.5 55.328125 \nQ 8.5 64.0625 14.71875 69.140625 \nQ 20.953125 74.21875 31.78125 74.21875 \nQ 42.671875 74.21875 48.875 69.140625 \nQ 55.078125 64.0625 55.078125 55.328125 \nQ 55.078125 49.078125 51.53125 44.71875 \nQ 48 40.375 41.703125 38.8125 \nQ 48.828125 37.15625 52.796875 32.3125 \nQ 56.78125 27.484375 56.78125 20.515625 \nQ 56.78125 9.90625 50.3125 4.234375 \nQ 43.84375 -1.421875 31.78125 -1.421875 \nQ 19.734375 -1.421875 13.25 4.234375 \nQ 6.78125 9.90625 6.78125 20.515625 \nQ 6.78125 27.484375 10.78125 32.3125 \nQ 14.796875 37.15625 21.921875 38.8125 \nz\nM 18.3125 54.390625 \nQ 18.3125 48.734375 21.84375 45.5625 \nQ 25.390625 42.390625 31.78125 42.390625 \nQ 38.140625 42.390625 41.71875 45.5625 \nQ 45.3125 48.734375 45.3125 54.390625 \nQ 45.3125 60.0625 41.71875 63.234375 \nQ 38.140625 66.40625 31.78125 66.40625 \nQ 25.390625 66.40625 21.84375 63.234375 \nQ 18.3125 60.0625 18.3125 54.390625 \nz\n\" id=\"DejaVuSans-56\"/>\n       </defs>\n       <use xlink:href=\"#DejaVuSans-56\"/>\n       <use x=\"63.623047\" xlink:href=\"#DejaVuSans-48\"/>\n       <use x=\"127.246094\" xlink:href=\"#DejaVuSans-48\"/>\n       <use x=\"190.869141\" xlink:href=\"#DejaVuSans-48\"/>\n      </g>\n     </g>\n    </g>\n   </g>\n   <g id=\"patch_23\">\n    <path d=\"M 39.65 224.64 \nL 39.65 7.2 \n\" style=\"fill:none;stroke:#000000;stroke-linecap:square;stroke-linejoin:miter;stroke-width:0.8;\"/>\n   </g>\n   <g id=\"patch_24\">\n    <path d=\"M 374.45 224.64 \nL 374.45 7.2 \n\" style=\"fill:none;stroke:#000000;stroke-linecap:square;stroke-linejoin:miter;stroke-width:0.8;\"/>\n   </g>\n   <g id=\"patch_25\">\n    <path d=\"M 39.65 224.64 \nL 374.45 224.64 \n\" style=\"fill:none;stroke:#000000;stroke-linecap:square;stroke-linejoin:miter;stroke-width:0.8;\"/>\n   </g>\n   <g id=\"patch_26\">\n    <path d=\"M 39.65 7.2 \nL 374.45 7.2 \n\" style=\"fill:none;stroke:#000000;stroke-linecap:square;stroke-linejoin:miter;stroke-width:0.8;\"/>\n   </g>\n   <g id=\"legend_1\">\n    <g id=\"patch_27\">\n     <path d=\"M 329.53125 44.55625 \nL 367.45 44.55625 \nQ 369.45 44.55625 369.45 42.55625 \nL 369.45 14.2 \nQ 369.45 12.2 367.45 12.2 \nL 329.53125 12.2 \nQ 327.53125 12.2 327.53125 14.2 \nL 327.53125 42.55625 \nQ 327.53125 44.55625 329.53125 44.55625 \nz\n\" style=\"fill:#ffffff;opacity:0.8;stroke:#cccccc;stroke-linejoin:miter;\"/>\n    </g>\n    <g id=\"patch_28\">\n     <path d=\"M 331.53125 23.798437 \nL 351.53125 23.798437 \nL 351.53125 16.798437 \nL 331.53125 16.798437 \nz\n\" style=\"fill:#1f77b4;\"/>\n    </g>\n    <g id=\"text_12\">\n     <!-- x -->\n     <g transform=\"translate(359.53125 23.798437)scale(0.1 -0.1)\">\n      <defs>\n       <path d=\"M 54.890625 54.6875 \nL 35.109375 28.078125 \nL 55.90625 0 \nL 45.3125 0 \nL 29.390625 21.484375 \nL 13.484375 0 \nL 2.875 0 \nL 24.125 28.609375 \nL 4.6875 54.6875 \nL 15.28125 54.6875 \nL 29.78125 35.203125 \nL 44.28125 54.6875 \nz\n\" id=\"DejaVuSans-120\"/>\n      </defs>\n      <use xlink:href=\"#DejaVuSans-120\"/>\n     </g>\n    </g>\n    <g id=\"patch_29\">\n     <path d=\"M 331.53125 38.476562 \nL 351.53125 38.476562 \nL 351.53125 31.476562 \nL 331.53125 31.476562 \nz\n\" style=\"fill:#ff7f0e;\"/>\n    </g>\n    <g id=\"text_13\">\n     <!-- y -->\n     <g transform=\"translate(359.53125 38.476562)scale(0.1 -0.1)\">\n      <defs>\n       <path d=\"M 32.171875 -5.078125 \nQ 28.375 -14.84375 24.75 -17.8125 \nQ 21.140625 -20.796875 15.09375 -20.796875 \nL 7.90625 -20.796875 \nL 7.90625 -13.28125 \nL 13.1875 -13.28125 \nQ 16.890625 -13.28125 18.9375 -11.515625 \nQ 21 -9.765625 23.484375 -3.21875 \nL 25.09375 0.875 \nL 2.984375 54.6875 \nL 12.5 54.6875 \nL 29.59375 11.921875 \nL 46.6875 54.6875 \nL 56.203125 54.6875 \nz\n\" id=\"DejaVuSans-121\"/>\n      </defs>\n      <use xlink:href=\"#DejaVuSans-121\"/>\n     </g>\n    </g>\n   </g>\n  </g>\n </g>\n <defs>\n  <clipPath id=\"paf48911ebb\">\n   <rect height=\"217.44\" width=\"334.8\" x=\"39.65\" y=\"7.2\"/>\n  </clipPath>\n </defs>\n</svg>\n",
      "image/png": "[encoded data removed]"
     },
     "metadata": {
      "needs_background": "light"
     }
    }
   ],
   "source": [
    "import matplotlib.pyplot as plt\n",
    "(waypoint_df['x'] - waypoint_df['_x']).hist(label='x')\n",
    "(waypoint_df['y'] - waypoint_df['_y']).hist(label='y')\n",
    "plt.legend()"
   ]
  },
  {
   "cell_type": "code",
   "execution_count": 34,
   "metadata": {},
   "outputs": [
    {
     "output_type": "execute_result",
     "data": {
      "text/plain": [
       "                                                    floor           x  \\\n",
       "site_path_timestamp                                                     \n",
       "5a0546857ecc773753327266_046cfa46be49fc10834815...      0   90.491798   \n",
       "5a0546857ecc773753327266_046cfa46be49fc10834815...      0   84.595062   \n",
       "5a0546857ecc773753327266_046cfa46be49fc10834815...      0   86.641928   \n",
       "5a0546857ecc773753327266_046cfa46be49fc10834815...      0   87.598468   \n",
       "5a0546857ecc773753327266_046cfa46be49fc10834815...      0   86.252865   \n",
       "...                                                   ...         ...   \n",
       "5dc8cea7659e181adb076a3f_fd64de8c4a2fc5ebb0e9f4...      5  213.870560   \n",
       "5dc8cea7659e181adb076a3f_fd64de8c4a2fc5ebb0e9f4...      5  211.672379   \n",
       "5dc8cea7659e181adb076a3f_fd64de8c4a2fc5ebb0e9f4...      5  207.875281   \n",
       "5dc8cea7659e181adb076a3f_fd64de8c4a2fc5ebb0e9f4...      5  202.941120   \n",
       "5dc8cea7659e181adb076a3f_fd64de8c4a2fc5ebb0e9f4...      5  200.638031   \n",
       "\n",
       "                                                             y  \n",
       "site_path_timestamp                                             \n",
       "5a0546857ecc773753327266_046cfa46be49fc10834815...  103.022545  \n",
       "5a0546857ecc773753327266_046cfa46be49fc10834815...  102.182173  \n",
       "5a0546857ecc773753327266_046cfa46be49fc10834815...  105.322405  \n",
       "5a0546857ecc773753327266_046cfa46be49fc10834815...  106.373820  \n",
       "5a0546857ecc773753327266_046cfa46be49fc10834815...  106.563307  \n",
       "...                                                        ...  \n",
       "5dc8cea7659e181adb076a3f_fd64de8c4a2fc5ebb0e9f4...   96.548063  \n",
       "5dc8cea7659e181adb076a3f_fd64de8c4a2fc5ebb0e9f4...   98.108070  \n",
       "5dc8cea7659e181adb076a3f_fd64de8c4a2fc5ebb0e9f4...  104.470320  \n",
       "5dc8cea7659e181adb076a3f_fd64de8c4a2fc5ebb0e9f4...  107.974197  \n",
       "5dc8cea7659e181adb076a3f_fd64de8c4a2fc5ebb0e9f4...  107.824944  \n",
       "\n",
       "[10133 rows x 3 columns]"
      ],
      "text/html": "<div>\n<style scoped>\n    .dataframe tbody tr th:only-of-type {\n        vertical-align: middle;\n    }\n\n    .dataframe tbody tr th {\n        vertical-align: top;\n    }\n\n    .dataframe thead th {\n        text-align: right;\n    }\n</style>\n<table border=\"1\" class=\"dataframe\">\n  <thead>\n    <tr style=\"text-align: right;\">\n      <th></th>\n      <th>floor</th>\n      <th>x</th>\n      <th>y</th>\n    </tr>\n    <tr>\n      <th>site_path_timestamp</th>\n      <th></th>\n      <th></th>\n      <th></th>\n    </tr>\n  </thead>\n  <tbody>\n    <tr>\n      <th>5a0546857ecc773753327266_046cfa46be49fc10834815c6_0000000000009</th>\n      <td>0</td>\n      <td>90.491798</td>\n      <td>103.022545</td>\n    </tr>\n    <tr>\n      <th>5a0546857ecc773753327266_046cfa46be49fc10834815c6_0000000009017</th>\n      <td>0</td>\n      <td>84.595062</td>\n      <td>102.182173</td>\n    </tr>\n    <tr>\n      <th>5a0546857ecc773753327266_046cfa46be49fc10834815c6_0000000015326</th>\n      <td>0</td>\n      <td>86.641928</td>\n      <td>105.322405</td>\n    </tr>\n    <tr>\n      <th>5a0546857ecc773753327266_046cfa46be49fc10834815c6_0000000018763</th>\n      <td>0</td>\n      <td>87.598468</td>\n      <td>106.373820</td>\n    </tr>\n    <tr>\n      <th>5a0546857ecc773753327266_046cfa46be49fc10834815c6_0000000022328</th>\n      <td>0</td>\n      <td>86.252865</td>\n      <td>106.563307</td>\n    </tr>\n    <tr>\n      <th>...</th>\n      <td>...</td>\n      <td>...</td>\n      <td>...</td>\n    </tr>\n    <tr>\n      <th>5dc8cea7659e181adb076a3f_fd64de8c4a2fc5ebb0e9f412_0000000082589</th>\n      <td>5</td>\n      <td>213.870560</td>\n      <td>96.548063</td>\n    </tr>\n    <tr>\n      <th>5dc8cea7659e181adb076a3f_fd64de8c4a2fc5ebb0e9f412_0000000085758</th>\n      <td>5</td>\n      <td>211.672379</td>\n      <td>98.108070</td>\n    </tr>\n    <tr>\n      <th>5dc8cea7659e181adb076a3f_fd64de8c4a2fc5ebb0e9f412_0000000090895</th>\n      <td>5</td>\n      <td>207.875281</td>\n      <td>104.470320</td>\n    </tr>\n    <tr>\n      <th>5dc8cea7659e181adb076a3f_fd64de8c4a2fc5ebb0e9f412_0000000096899</th>\n      <td>5</td>\n      <td>202.941120</td>\n      <td>107.974197</td>\n    </tr>\n    <tr>\n      <th>5dc8cea7659e181adb076a3f_fd64de8c4a2fc5ebb0e9f412_0000000100447</th>\n      <td>5</td>\n      <td>200.638031</td>\n      <td>107.824944</td>\n    </tr>\n  </tbody>\n</table>\n<p>10133 rows × 3 columns</p>\n</div>"
     },
     "metadata": {},
     "execution_count": 34
    }
   ],
   "source": [
    "sub = sub.merge(waypoint_df[['site_path_timestamp', '_x', '_y']], on='site_path_timestamp').set_index('site_path_timestamp')\n",
    "sub = sub.drop(['x','y'], axis=1).rename(columns={'_x':'x', '_y':'y'})\n",
    "sub"
   ]
  },
  {
   "cell_type": "code",
   "execution_count": 35,
   "metadata": {},
   "outputs": [],
   "source": [
    "sub.to_csv(EXP_NAME + '_sub.csv')"
   ]
  },
  {
   "cell_type": "markdown",
   "metadata": {},
   "source": [
    "## 後処理"
   ]
  },
  {
   "cell_type": "markdown",
   "metadata": {},
   "source": [
    "## cost minimaization"
   ]
  },
  {
   "cell_type": "code",
   "execution_count": 36,
   "metadata": {},
   "outputs": [],
   "source": [
    "import multiprocessing\n",
    "import scipy.interpolate\n",
    "import scipy.sparse\n",
    "from tqdm import tqdm\n",
    "import sys\n",
    "sys.path.append('../../')\n",
    "from src.io_f import read_data_file\n",
    "from src import compute_f\n",
    "from scipy.signal import butter, lfilter"
   ]
  },
  {
   "cell_type": "code",
   "execution_count": 37,
   "metadata": {},
   "outputs": [],
   "source": [
    "import math\n",
    "\n",
    "order = 3\n",
    "fs = 50.0  # sample rate, Hz\n",
    "# fs = 100\n",
    "# cutoff = 3.667  # desired cutoff frequency of the filter, Hz\n",
    "cutoff = 3\n",
    "\n",
    "step_distance = 0.8\n",
    "w_height = 1.7\n",
    "m_trans = -5"
   ]
  },
  {
   "cell_type": "code",
   "execution_count": 38,
   "metadata": {},
   "outputs": [
    {
     "output_type": "stream",
     "name": "stderr",
     "text": [
      "<>:146: SyntaxWarning: \"is\" with a literal. Did you mean \"==\"?\n<>:146: SyntaxWarning: \"is\" with a literal. Did you mean \"==\"?\n<ipython-input-38-a1a172f865b0>:146: SyntaxWarning: \"is\" with a literal. Did you mean \"==\"?\n  if current_state is 'above':\n"
     ]
    }
   ],
   "source": [
    "def compute_rel_positions(acce_datas, ahrs_datas):\n",
    "    step_timestamps, step_indexs, step_acce_max_mins = compute_f.compute_steps(acce_datas)\n",
    "    headings = compute_f.compute_headings(ahrs_datas)\n",
    "    stride_lengths = compute_f.compute_stride_length(step_acce_max_mins)\n",
    "    step_headings = compute_f.compute_step_heading(step_timestamps, headings)\n",
    "    rel_positions = compute_f.compute_rel_positions(stride_lengths, step_headings)\n",
    "    return rel_positions\n",
    "\n",
    "\n",
    "def correct_path(args):\n",
    "    path, path_df = args\n",
    "    \n",
    "    T_ref  = path_df['timestamp'].values\n",
    "    xy_hat = path_df[['x', 'y']].values\n",
    "    example = read_data_file(root_dir/ f'indoor-location-navigation/test/{path}.txt')\n",
    "    \n",
    "    # rel_positions = compute_rel_positions(example.acce, example.ahrs)\n",
    "    # ↑を↓に置き換える\n",
    "    rel_positions1 = compute_rel_positions(example.acce, example.ahrs)\n",
    "    rel_positions2 = steps_compute_rel_positions(example)\n",
    "    rel1 = rel_positions1.copy()\n",
    "    rel2 = rel_positions2.copy()\n",
    "    rel1[:,1:] = rel_positions1[:,1:] / 2\n",
    "    rel2[:,1:] = rel_positions2[:,1:] / 2\n",
    "    rel_positions = np.vstack([rel1,rel2])\n",
    "    rel_positions = rel_positions[np.argsort(rel_positions[:, 0])]\n",
    "    \n",
    "    if T_ref[-1] > rel_positions[-1, 0]:\n",
    "        rel_positions = [np.array([[0, 0, 0]]), rel_positions, np.array([[T_ref[-1], 0, 0]])]\n",
    "    else:\n",
    "        rel_positions = [np.array([[0, 0, 0]]), rel_positions]\n",
    "    rel_positions = np.concatenate(rel_positions)\n",
    "    \n",
    "    T_rel = rel_positions[:, 0]\n",
    "    delta_xy_hat = np.diff(scipy.interpolate.interp1d(T_rel, np.cumsum(rel_positions[:, 1:3], axis=0), axis=0)(T_ref), axis=0)\n",
    "\n",
    "    N = xy_hat.shape[0]\n",
    "    delta_t = np.diff(T_ref)\n",
    "    alpha = (8.1)**(-2) * np.ones(N)\n",
    "    beta  = (0.3 + 0.3 * 1e-3 * delta_t)**(-2)\n",
    "    A = scipy.sparse.spdiags(alpha, [0], N, N)\n",
    "    B = scipy.sparse.spdiags( beta, [0], N-1, N-1)\n",
    "    D = scipy.sparse.spdiags(np.stack([-np.ones(N), np.ones(N)]), [0, 1], N-1, N)\n",
    "\n",
    "    Q = A + (D.T @ B @ D)\n",
    "    c = (A @ xy_hat) + (D.T @ (B @ delta_xy_hat))\n",
    "    xy_star = scipy.sparse.linalg.spsolve(Q, c)\n",
    "\n",
    "    return pd.DataFrame({\n",
    "        'site_path_timestamp' : path_df['site_path_timestamp'],\n",
    "        'floor' : path_df['floor'],\n",
    "        'x' : xy_star[:, 0],\n",
    "        'y' : xy_star[:, 1],\n",
    "    })\n",
    "\n",
    "\n",
    "\n",
    "def correct_path_train(args):\n",
    "    #print(args)\n",
    "    (site_id, path, floor), path_df = args\n",
    "    \n",
    "    T_ref  = path_df['timestamp'].values\n",
    "    xy_hat = path_df[['x', 'y']].values\n",
    "    \n",
    "    example = read_data_file(f'{root_dir}/indoor-location-navigation/train/{site_id}/{floor}/{path}.txt')\n",
    "    \n",
    "    # rel_positions = compute_rel_positions(example.acce, example.ahrs)\n",
    "    # ↑を↓に置き換える\n",
    "    rel_positions1 = compute_rel_positions(example.acce, example.ahrs)\n",
    "    rel_positions2 = steps_compute_rel_positions(example)\n",
    "    rel1 = rel_positions1.copy()\n",
    "    rel2 = rel_positions2.copy()\n",
    "    rel1[:,1:] = rel_positions1[:,1:] / 2\n",
    "    rel2[:,1:] = rel_positions2[:,1:] / 2\n",
    "    rel_positions = np.vstack([rel1,rel2])\n",
    "    rel_positions = rel_positions[np.argsort(rel_positions[:, 0])]\n",
    "    \n",
    "    \n",
    "    if T_ref[-1] > rel_positions[-1, 0]:\n",
    "        rel_positions = [np.array([[0, 0, 0]]), rel_positions, np.array([[T_ref[-1], 0, 0]])]\n",
    "    else:\n",
    "        rel_positions = [np.array([[0, 0, 0]]), rel_positions]\n",
    "    rel_positions = np.concatenate(rel_positions)\n",
    "    \n",
    "    T_rel = rel_positions[:, 0]\n",
    "\n",
    "    try:\n",
    "        delta_xy_hat = np.diff(scipy.interpolate.interp1d(T_rel, np.cumsum(rel_positions[:, 1:3], axis=0), axis=0)(T_ref), axis=0)\n",
    "    except:\n",
    "        return pd.DataFrame({\n",
    "            'site_path_timestamp' : path_df['site_path_timestamp'],\n",
    "            'floor' : path_df['floor'],\n",
    "            'x' : path_df['x'].to_numpy(),\n",
    "            'y' : path_df['y'].to_numpy()\n",
    "        })\n",
    "    \n",
    "\n",
    "    N = xy_hat.shape[0]\n",
    "    delta_t = np.diff(T_ref)\n",
    "    alpha = (8.1)**(-2) * np.ones(N)\n",
    "    beta  = (0.3 + 0.3 * 1e-3 * delta_t)**(-2)\n",
    "    A = scipy.sparse.spdiags(alpha, [0], N, N)\n",
    "    B = scipy.sparse.spdiags( beta, [0], N-1, N-1)\n",
    "    D = scipy.sparse.spdiags(np.stack([-np.ones(N), np.ones(N)]), [0, 1], N-1, N)\n",
    "\n",
    "    Q = A + (D.T @ B @ D)\n",
    "    c = (A @ xy_hat) + (D.T @ (B @ delta_xy_hat))\n",
    "    xy_star = scipy.sparse.linalg.spsolve(Q, c)\n",
    "\n",
    "\n",
    "    return pd.DataFrame({\n",
    "        'site_path_timestamp' : path_df['site_path_timestamp'],\n",
    "        'floor' : path_df['floor'],\n",
    "        'x' : xy_star[:, 0],\n",
    "        'y' : xy_star[:, 1],\n",
    "    })\n",
    "\n",
    "\n",
    "\n",
    "def butter_lowpass(cutoff, fs, order=5):\n",
    "    nyq = 0.5 * fs\n",
    "    normal_cutoff = cutoff / nyq\n",
    "    b, a = butter(order, normal_cutoff, btype='low', analog=False)\n",
    "    return b, a\n",
    "\n",
    "def butter_lowpass_filter(data, cutoff, fs, order=5):\n",
    "    b, a = butter_lowpass(cutoff, fs, order=order)\n",
    "    y = lfilter(b, a, data)\n",
    "    return y\n",
    "\n",
    "def peak_accel_threshold(data, timestamps, threshold):\n",
    "    d_acc = []\n",
    "    last_state = 'below'\n",
    "    crest_troughs = 0\n",
    "    crossings = []\n",
    "\n",
    "    for i, datum in enumerate(data):\n",
    "        \n",
    "        current_state = last_state\n",
    "        if datum < threshold:\n",
    "            current_state = 'below'\n",
    "        elif datum > threshold:\n",
    "            current_state = 'above'\n",
    "\n",
    "        if current_state is not last_state:\n",
    "            if current_state is 'above':\n",
    "                crossing = [timestamps[i], threshold]\n",
    "                crossings.append(crossing)\n",
    "            else:\n",
    "                crossing = [timestamps[i], threshold]\n",
    "                crossings.append(crossing)\n",
    "\n",
    "            crest_troughs += 1\n",
    "        last_state = current_state\n",
    "    return np.array(crossings)\n"
   ]
  },
  {
   "cell_type": "code",
   "execution_count": 39,
   "metadata": {},
   "outputs": [],
   "source": [
    "def steps_compute_rel_positions(sample_file):\n",
    "    \n",
    "    mix_acce = np.sqrt(sample_file.acce[:,1:2]**2 + sample_file.acce[:,2:3]**2 + sample_file.acce[:,3:4]**2)\n",
    "    mix_acce = np.concatenate([sample_file.acce[:,0:1], mix_acce], 1)\n",
    "    mix_df = pd.DataFrame(mix_acce)\n",
    "    mix_df.columns = [\"timestamp\",\"acce\"]\n",
    "    \n",
    "    filtered = butter_lowpass_filter(mix_df[\"acce\"], cutoff, fs, order)\n",
    "\n",
    "    threshold = filtered.mean() * 1.1\n",
    "    crossings = peak_accel_threshold(filtered, mix_df[\"timestamp\"], threshold)\n",
    "\n",
    "    step_sum = len(crossings)/2\n",
    "    distance = w_height * 0.4 * step_sum\n",
    "\n",
    "    mag_df = pd.DataFrame(sample_file.magn)\n",
    "    mag_df.columns = [\"timestamp\",\"x\",\"y\",\"z\"]\n",
    "    \n",
    "    acce_df = pd.DataFrame(sample_file.acce)\n",
    "    acce_df.columns = [\"timestamp\",\"ax\",\"ay\",\"az\"]\n",
    "    \n",
    "    mag_df = pd.merge(mag_df,acce_df,on=\"timestamp\")\n",
    "    mag_df.dropna()\n",
    "    \n",
    "    time_di_list = []\n",
    "\n",
    "    for i in mag_df.iterrows():\n",
    "\n",
    "        gx,gy,gz = i[1][1],i[1][2],i[1][3]\n",
    "        ax,ay,az = i[1][4],i[1][5],i[1][6]\n",
    "\n",
    "        roll = math.atan2(ay,az)\n",
    "        pitch = math.atan2(-1*ax , (ay * math.sin(roll) + az * math.cos(roll)))\n",
    "\n",
    "        q = m_trans - math.degrees(math.atan2(\n",
    "            (gz*math.sin(roll)-gy*math.cos(roll)),(gx*math.cos(pitch) + gy*math.sin(roll)*math.sin(pitch) + gz*math.sin(pitch)*math.cos(roll))\n",
    "        )) -90\n",
    "        if q <= 0:\n",
    "            q += 360\n",
    "        time_di_list.append((i[1][0],q))\n",
    "\n",
    "    d_list = [x[1] for x in time_di_list]\n",
    "    \n",
    "    steps = []\n",
    "    step_time = []\n",
    "    di_dict = dict(time_di_list)\n",
    "\n",
    "    for n,i in enumerate(crossings[:,:1]):\n",
    "        if n % 2 == 1:\n",
    "            continue\n",
    "        direct_now = di_dict[i[0]]\n",
    "        dx = math.sin(math.radians(direct_now))\n",
    "        dy = math.cos(math.radians(direct_now))\n",
    "#         print(int(n/2+1),\"歩目/x:\",dx,\"/y:\",dy,\"/角度：\",direct_now)\n",
    "        steps.append((i[0],dx,dy))\n",
    "        step_time.append(i[0])\n",
    "    \n",
    "        step_dtime = np.diff(step_time)/1000\n",
    "        step_dtime = step_dtime.tolist()\n",
    "        step_dtime.insert(0,5)\n",
    "        \n",
    "        rel_position = []\n",
    "\n",
    "        wp_idx = 0\n",
    "#         print(\"WP:\",round(sample_file.waypoint[0,1],3),round(sample_file.waypoint[0,2],3),sample_file.waypoint[0,0])\n",
    "#         print(\"------------------\")\n",
    "        for p,i in enumerate(steps):\n",
    "            step_distance = 0\n",
    "            if step_dtime[p] >= 1:\n",
    "                step_distance = w_height*0.25\n",
    "            elif step_dtime[p] >= 0.75:\n",
    "                step_distance = w_height*0.3\n",
    "            elif step_dtime[p] >= 0.5:\n",
    "                step_distance = w_height*0.4\n",
    "            elif step_dtime[p] >= 0.35:\n",
    "                step_distance = w_height*0.45\n",
    "            elif step_dtime[p] >= 0.2:\n",
    "                step_distance = w_height*0.5\n",
    "            else:\n",
    "                step_distance = w_height*0.4\n",
    "\n",
    "#             step_x += i[1]*step_distance\n",
    "#             step_y += i[2]*step_distance\n",
    "            \n",
    "            rel_position.append([i[0], i[1]*step_distance, i[2]*step_distance])\n",
    "#     print(rel_position)\n",
    "    \n",
    "    return np.array(rel_position)"
   ]
  },
  {
   "cell_type": "code",
   "execution_count": 40,
   "metadata": {},
   "outputs": [
    {
     "output_type": "stream",
     "name": "stderr",
     "text": [
      "10836it [05:19, 33.87it/s]\n",
      "CPU times: user 51.8 s, sys: 11.7 s, total: 1min 3s\n",
      "Wall time: 5min 24s\n"
     ]
    },
    {
     "output_type": "execute_result",
     "data": {
      "text/plain": [
       "            timestamp    target_x    target_y  floor          ix          iy  \\\n",
       "0       1561368762838   78.218193   38.999737    2.0   77.843651   37.382805   \n",
       "1       1561368762838   78.218193   38.999737    2.0   77.562737   36.170105   \n",
       "2       1561368774057   76.251839   30.510839    2.0   77.222664   21.330624   \n",
       "3       1561368774057   76.251839   30.510839    2.0   76.994240   23.490675   \n",
       "4       1561368774057   76.251839   30.510839    2.0   76.765808   25.650726   \n",
       "...               ...         ...         ...    ...         ...         ...   \n",
       "250699  1574420742502  193.204880  108.001518   -1.0  194.090317  108.728462   \n",
       "250700  1574420742502  193.204880  108.001518   -1.0  193.559052  108.292297   \n",
       "250701  1574420753754  204.293488  107.835121   -1.0  203.237427  107.850967   \n",
       "250702  1574420753754  204.293488  107.835121   -1.0  201.653351  107.874741   \n",
       "250703  1574420753754  204.293488  107.835121   -1.0  200.069260  107.898514   \n",
       "\n",
       "       floor_str                      path  site_id               site_id_str  \\\n",
       "0             F3  5d10a1669c50c70008fe8977        0  5a0546857ecc773753327266   \n",
       "1             F3  5d10a1669c50c70008fe8977        0  5a0546857ecc773753327266   \n",
       "2             F3  5d10a1669c50c70008fe8977        0  5a0546857ecc773753327266   \n",
       "3             F3  5d10a1669c50c70008fe8977        0  5a0546857ecc773753327266   \n",
       "4             F3  5d10a1669c50c70008fe8977        0  5a0546857ecc773753327266   \n",
       "...          ...                       ...      ...                       ...   \n",
       "250699        B1  5dd7c119c5b77e0006b16b99       23  5dc8cea7659e181adb076a3f   \n",
       "250700        B1  5dd7c119c5b77e0006b16b99       23  5dc8cea7659e181adb076a3f   \n",
       "250701        B1  5dd7c119c5b77e0006b16b99       23  5dc8cea7659e181adb076a3f   \n",
       "250702        B1  5dd7c119c5b77e0006b16b99       23  5dc8cea7659e181adb076a3f   \n",
       "250703        B1  5dd7c119c5b77e0006b16b99       23  5dc8cea7659e181adb076a3f   \n",
       "\n",
       "             oof_x       oof_y  oof_floor  \\\n",
       "0        77.620659   36.409447        0.0   \n",
       "1        81.419319   31.727907        0.0   \n",
       "2        81.226273   27.225170        0.0   \n",
       "3        80.750076   23.891800        0.0   \n",
       "4        80.918503   24.083487        0.0   \n",
       "...            ...         ...        ...   \n",
       "250699  200.230011   98.480148        0.0   \n",
       "250700  199.220306  100.779129        0.0   \n",
       "250701  198.818436   98.613800        0.0   \n",
       "250702  198.016602   97.356888        0.0   \n",
       "250703  197.034866   96.901611        0.0   \n",
       "\n",
       "                                      site_path_timestamp   oof_min_x  \\\n",
       "0       5a0546857ecc773753327266_5d10a1669c50c70008fe8...   80.047478   \n",
       "1       5a0546857ecc773753327266_5d10a1669c50c70008fe8...   80.050807   \n",
       "2       5a0546857ecc773753327266_5d10a1669c50c70008fe8...   80.800184   \n",
       "3       5a0546857ecc773753327266_5d10a1669c50c70008fe8...   80.801051   \n",
       "4       5a0546857ecc773753327266_5d10a1669c50c70008fe8...   80.801988   \n",
       "...                                                   ...         ...   \n",
       "250699  5dc8cea7659e181adb076a3f_5dd7c119c5b77e0006b16...  199.041703   \n",
       "250700  5dc8cea7659e181adb076a3f_5dd7c119c5b77e0006b16...  199.015105   \n",
       "250701  5dc8cea7659e181adb076a3f_5dd7c119c5b77e0006b16...  204.504506   \n",
       "250702  5dc8cea7659e181adb076a3f_5dd7c119c5b77e0006b16...  204.485426   \n",
       "250703  5dc8cea7659e181adb076a3f_5dd7c119c5b77e0006b16...  204.475219   \n",
       "\n",
       "         oof_min_y  \n",
       "0        36.139695  \n",
       "1        36.139325  \n",
       "2        27.004514  \n",
       "3        27.009893  \n",
       "4        27.019549  \n",
       "...            ...  \n",
       "250699   99.463299  \n",
       "250700   99.454505  \n",
       "250701  100.209706  \n",
       "250702  100.201284  \n",
       "250703  100.196764  \n",
       "\n",
       "[250704 rows x 16 columns]"
      ],
      "text/html": "<div>\n<style scoped>\n    .dataframe tbody tr th:only-of-type {\n        vertical-align: middle;\n    }\n\n    .dataframe tbody tr th {\n        vertical-align: top;\n    }\n\n    .dataframe thead th {\n        text-align: right;\n    }\n</style>\n<table border=\"1\" class=\"dataframe\">\n  <thead>\n    <tr style=\"text-align: right;\">\n      <th></th>\n      <th>timestamp</th>\n      <th>target_x</th>\n      <th>target_y</th>\n      <th>floor</th>\n      <th>ix</th>\n      <th>iy</th>\n      <th>floor_str</th>\n      <th>path</th>\n      <th>site_id</th>\n      <th>site_id_str</th>\n      <th>oof_x</th>\n      <th>oof_y</th>\n      <th>oof_floor</th>\n      <th>site_path_timestamp</th>\n      <th>oof_min_x</th>\n      <th>oof_min_y</th>\n    </tr>\n  </thead>\n  <tbody>\n    <tr>\n      <th>0</th>\n      <td>1561368762838</td>\n      <td>78.218193</td>\n      <td>38.999737</td>\n      <td>2.0</td>\n      <td>77.843651</td>\n      <td>37.382805</td>\n      <td>F3</td>\n      <td>5d10a1669c50c70008fe8977</td>\n      <td>0</td>\n      <td>5a0546857ecc773753327266</td>\n      <td>77.620659</td>\n      <td>36.409447</td>\n      <td>0.0</td>\n      <td>5a0546857ecc773753327266_5d10a1669c50c70008fe8...</td>\n      <td>80.047478</td>\n      <td>36.139695</td>\n    </tr>\n    <tr>\n      <th>1</th>\n      <td>1561368762838</td>\n      <td>78.218193</td>\n      <td>38.999737</td>\n      <td>2.0</td>\n      <td>77.562737</td>\n      <td>36.170105</td>\n      <td>F3</td>\n      <td>5d10a1669c50c70008fe8977</td>\n      <td>0</td>\n      <td>5a0546857ecc773753327266</td>\n      <td>81.419319</td>\n      <td>31.727907</td>\n      <td>0.0</td>\n      <td>5a0546857ecc773753327266_5d10a1669c50c70008fe8...</td>\n      <td>80.050807</td>\n      <td>36.139325</td>\n    </tr>\n    <tr>\n      <th>2</th>\n      <td>1561368774057</td>\n      <td>76.251839</td>\n      <td>30.510839</td>\n      <td>2.0</td>\n      <td>77.222664</td>\n      <td>21.330624</td>\n      <td>F3</td>\n      <td>5d10a1669c50c70008fe8977</td>\n      <td>0</td>\n      <td>5a0546857ecc773753327266</td>\n      <td>81.226273</td>\n      <td>27.225170</td>\n      <td>0.0</td>\n      <td>5a0546857ecc773753327266_5d10a1669c50c70008fe8...</td>\n      <td>80.800184</td>\n      <td>27.004514</td>\n    </tr>\n    <tr>\n      <th>3</th>\n      <td>1561368774057</td>\n      <td>76.251839</td>\n      <td>30.510839</td>\n      <td>2.0</td>\n      <td>76.994240</td>\n      <td>23.490675</td>\n      <td>F3</td>\n      <td>5d10a1669c50c70008fe8977</td>\n      <td>0</td>\n      <td>5a0546857ecc773753327266</td>\n      <td>80.750076</td>\n      <td>23.891800</td>\n      <td>0.0</td>\n      <td>5a0546857ecc773753327266_5d10a1669c50c70008fe8...</td>\n      <td>80.801051</td>\n      <td>27.009893</td>\n    </tr>\n    <tr>\n      <th>4</th>\n      <td>1561368774057</td>\n      <td>76.251839</td>\n      <td>30.510839</td>\n      <td>2.0</td>\n      <td>76.765808</td>\n      <td>25.650726</td>\n      <td>F3</td>\n      <td>5d10a1669c50c70008fe8977</td>\n      <td>0</td>\n      <td>5a0546857ecc773753327266</td>\n      <td>80.918503</td>\n      <td>24.083487</td>\n      <td>0.0</td>\n      <td>5a0546857ecc773753327266_5d10a1669c50c70008fe8...</td>\n      <td>80.801988</td>\n      <td>27.019549</td>\n    </tr>\n    <tr>\n      <th>...</th>\n      <td>...</td>\n      <td>...</td>\n      <td>...</td>\n      <td>...</td>\n      <td>...</td>\n      <td>...</td>\n      <td>...</td>\n      <td>...</td>\n      <td>...</td>\n      <td>...</td>\n      <td>...</td>\n      <td>...</td>\n      <td>...</td>\n      <td>...</td>\n      <td>...</td>\n      <td>...</td>\n    </tr>\n    <tr>\n      <th>250699</th>\n      <td>1574420742502</td>\n      <td>193.204880</td>\n      <td>108.001518</td>\n      <td>-1.0</td>\n      <td>194.090317</td>\n      <td>108.728462</td>\n      <td>B1</td>\n      <td>5dd7c119c5b77e0006b16b99</td>\n      <td>23</td>\n      <td>5dc8cea7659e181adb076a3f</td>\n      <td>200.230011</td>\n      <td>98.480148</td>\n      <td>0.0</td>\n      <td>5dc8cea7659e181adb076a3f_5dd7c119c5b77e0006b16...</td>\n      <td>199.041703</td>\n      <td>99.463299</td>\n    </tr>\n    <tr>\n      <th>250700</th>\n      <td>1574420742502</td>\n      <td>193.204880</td>\n      <td>108.001518</td>\n      <td>-1.0</td>\n      <td>193.559052</td>\n      <td>108.292297</td>\n      <td>B1</td>\n      <td>5dd7c119c5b77e0006b16b99</td>\n      <td>23</td>\n      <td>5dc8cea7659e181adb076a3f</td>\n      <td>199.220306</td>\n      <td>100.779129</td>\n      <td>0.0</td>\n      <td>5dc8cea7659e181adb076a3f_5dd7c119c5b77e0006b16...</td>\n      <td>199.015105</td>\n      <td>99.454505</td>\n    </tr>\n    <tr>\n      <th>250701</th>\n      <td>1574420753754</td>\n      <td>204.293488</td>\n      <td>107.835121</td>\n      <td>-1.0</td>\n      <td>203.237427</td>\n      <td>107.850967</td>\n      <td>B1</td>\n      <td>5dd7c119c5b77e0006b16b99</td>\n      <td>23</td>\n      <td>5dc8cea7659e181adb076a3f</td>\n      <td>198.818436</td>\n      <td>98.613800</td>\n      <td>0.0</td>\n      <td>5dc8cea7659e181adb076a3f_5dd7c119c5b77e0006b16...</td>\n      <td>204.504506</td>\n      <td>100.209706</td>\n    </tr>\n    <tr>\n      <th>250702</th>\n      <td>1574420753754</td>\n      <td>204.293488</td>\n      <td>107.835121</td>\n      <td>-1.0</td>\n      <td>201.653351</td>\n      <td>107.874741</td>\n      <td>B1</td>\n      <td>5dd7c119c5b77e0006b16b99</td>\n      <td>23</td>\n      <td>5dc8cea7659e181adb076a3f</td>\n      <td>198.016602</td>\n      <td>97.356888</td>\n      <td>0.0</td>\n      <td>5dc8cea7659e181adb076a3f_5dd7c119c5b77e0006b16...</td>\n      <td>204.485426</td>\n      <td>100.201284</td>\n    </tr>\n    <tr>\n      <th>250703</th>\n      <td>1574420753754</td>\n      <td>204.293488</td>\n      <td>107.835121</td>\n      <td>-1.0</td>\n      <td>200.069260</td>\n      <td>107.898514</td>\n      <td>B1</td>\n      <td>5dd7c119c5b77e0006b16b99</td>\n      <td>23</td>\n      <td>5dc8cea7659e181adb076a3f</td>\n      <td>197.034866</td>\n      <td>96.901611</td>\n      <td>0.0</td>\n      <td>5dc8cea7659e181adb076a3f_5dd7c119c5b77e0006b16...</td>\n      <td>204.475219</td>\n      <td>100.196764</td>\n    </tr>\n  </tbody>\n</table>\n<p>250704 rows × 16 columns</p>\n</div>"
     },
     "metadata": {},
     "execution_count": 40
    }
   ],
   "source": [
    "%%time\n",
    "\n",
    "oofs_df = oofs_df.rename(columns={'x':'target_x', 'y':'target_y', 'oof_x':'x', 'oof_y':'y'})\n",
    "processes = multiprocessing.cpu_count()\n",
    "with multiprocessing.Pool(processes=processes) as pool:\n",
    "    dfs = pool.imap_unordered(correct_path_train, oofs_df.groupby(['site_id_str', 'path', 'floor_str']))\n",
    "    dfs = tqdm(dfs)\n",
    "    dfs = list(dfs)\n",
    "\n",
    "oof_post_process = pd.concat(dfs).sort_index()\n",
    "oofs_df['oof_min_x'] = oof_post_process['x']\n",
    "oofs_df['oof_min_y'] = oof_post_process['y']\n",
    "\n",
    "# 元に戻す\n",
    "oofs_df = oofs_df.rename(columns={'x':'oof_x', 'y':'oof_y'})\n",
    "oofs_df"
   ]
  },
  {
   "cell_type": "code",
   "execution_count": 41,
   "metadata": {},
   "outputs": [
    {
     "output_type": "stream",
     "name": "stdout",
     "text": [
      "(after cost-min) CV:5.884744147911497\n"
     ]
    }
   ],
   "source": [
    "# waypoint補正前のx,yでの評価\n",
    "oof_score_post_process = mean_position_error(\n",
    "    oofs_df['oof_min_x'], oofs_df['oof_min_y'], 0, \n",
    "    oofs_df['target_x'], oofs_df['target_y'], 0\n",
    "    )\n",
    "wandb_config['CV_cost'] = oof_score_post_process\n",
    "print(f\"(after cost-min) CV:{oof_score_post_process}\")"
   ]
  },
  {
   "cell_type": "code",
   "execution_count": 42,
   "metadata": {},
   "outputs": [
    {
     "output_type": "stream",
     "name": "stdout",
     "text": [
      "(after cost-min) CV:6.101313730337286\n"
     ]
    }
   ],
   "source": [
    "# waypoint補正後のx,yでの評価\n",
    "oof_score_post_process = mean_position_error(\n",
    "    oofs_df['oof_min_x'], oofs_df['oof_min_y'], 0, \n",
    "    oofs_df['ix'], oofs_df['iy'], 0\n",
    "    )\n",
    "wandb_config['iCV_cost'] = oof_score_post_process\n",
    "print(f\"(after cost-min) CV:{oof_score_post_process}\")"
   ]
  },
  {
   "cell_type": "code",
   "execution_count": 43,
   "metadata": {},
   "outputs": [
    {
     "output_type": "execute_result",
     "data": {
      "text/plain": [
       "                                     site_path_timestamp  floor           x  \\\n",
       "0      5a0546857ecc773753327266_046cfa46be49fc1083481...      0   90.491798   \n",
       "1      5a0546857ecc773753327266_046cfa46be49fc1083481...      0   84.595062   \n",
       "2      5a0546857ecc773753327266_046cfa46be49fc1083481...      0   86.641928   \n",
       "3      5a0546857ecc773753327266_046cfa46be49fc1083481...      0   87.598468   \n",
       "4      5a0546857ecc773753327266_046cfa46be49fc1083481...      0   86.252865   \n",
       "...                                                  ...    ...         ...   \n",
       "10128  5dc8cea7659e181adb076a3f_fd64de8c4a2fc5ebb0e9f...      5  213.870560   \n",
       "10129  5dc8cea7659e181adb076a3f_fd64de8c4a2fc5ebb0e9f...      5  211.672379   \n",
       "10130  5dc8cea7659e181adb076a3f_fd64de8c4a2fc5ebb0e9f...      5  207.875281   \n",
       "10131  5dc8cea7659e181adb076a3f_fd64de8c4a2fc5ebb0e9f...      5  202.941120   \n",
       "10132  5dc8cea7659e181adb076a3f_fd64de8c4a2fc5ebb0e9f...      5  200.638031   \n",
       "\n",
       "                y                      site                      path  \\\n",
       "0      103.022545  5a0546857ecc773753327266  046cfa46be49fc10834815c6   \n",
       "1      102.182173  5a0546857ecc773753327266  046cfa46be49fc10834815c6   \n",
       "2      105.322405  5a0546857ecc773753327266  046cfa46be49fc10834815c6   \n",
       "3      106.373820  5a0546857ecc773753327266  046cfa46be49fc10834815c6   \n",
       "4      106.563307  5a0546857ecc773753327266  046cfa46be49fc10834815c6   \n",
       "...           ...                       ...                       ...   \n",
       "10128   96.548063  5dc8cea7659e181adb076a3f  fd64de8c4a2fc5ebb0e9f412   \n",
       "10129   98.108070  5dc8cea7659e181adb076a3f  fd64de8c4a2fc5ebb0e9f412   \n",
       "10130  104.470320  5dc8cea7659e181adb076a3f  fd64de8c4a2fc5ebb0e9f412   \n",
       "10131  107.974197  5dc8cea7659e181adb076a3f  fd64de8c4a2fc5ebb0e9f412   \n",
       "10132  107.824944  5dc8cea7659e181adb076a3f  fd64de8c4a2fc5ebb0e9f412   \n",
       "\n",
       "       timestamp  \n",
       "0            9.0  \n",
       "1         9017.0  \n",
       "2        15326.0  \n",
       "3        18763.0  \n",
       "4        22328.0  \n",
       "...          ...  \n",
       "10128    82589.0  \n",
       "10129    85758.0  \n",
       "10130    90895.0  \n",
       "10131    96899.0  \n",
       "10132   100447.0  \n",
       "\n",
       "[10133 rows x 7 columns]"
      ],
      "text/html": "<div>\n<style scoped>\n    .dataframe tbody tr th:only-of-type {\n        vertical-align: middle;\n    }\n\n    .dataframe tbody tr th {\n        vertical-align: top;\n    }\n\n    .dataframe thead th {\n        text-align: right;\n    }\n</style>\n<table border=\"1\" class=\"dataframe\">\n  <thead>\n    <tr style=\"text-align: right;\">\n      <th></th>\n      <th>site_path_timestamp</th>\n      <th>floor</th>\n      <th>x</th>\n      <th>y</th>\n      <th>site</th>\n      <th>path</th>\n      <th>timestamp</th>\n    </tr>\n  </thead>\n  <tbody>\n    <tr>\n      <th>0</th>\n      <td>5a0546857ecc773753327266_046cfa46be49fc1083481...</td>\n      <td>0</td>\n      <td>90.491798</td>\n      <td>103.022545</td>\n      <td>5a0546857ecc773753327266</td>\n      <td>046cfa46be49fc10834815c6</td>\n      <td>9.0</td>\n    </tr>\n    <tr>\n      <th>1</th>\n      <td>5a0546857ecc773753327266_046cfa46be49fc1083481...</td>\n      <td>0</td>\n      <td>84.595062</td>\n      <td>102.182173</td>\n      <td>5a0546857ecc773753327266</td>\n      <td>046cfa46be49fc10834815c6</td>\n      <td>9017.0</td>\n    </tr>\n    <tr>\n      <th>2</th>\n      <td>5a0546857ecc773753327266_046cfa46be49fc1083481...</td>\n      <td>0</td>\n      <td>86.641928</td>\n      <td>105.322405</td>\n      <td>5a0546857ecc773753327266</td>\n      <td>046cfa46be49fc10834815c6</td>\n      <td>15326.0</td>\n    </tr>\n    <tr>\n      <th>3</th>\n      <td>5a0546857ecc773753327266_046cfa46be49fc1083481...</td>\n      <td>0</td>\n      <td>87.598468</td>\n      <td>106.373820</td>\n      <td>5a0546857ecc773753327266</td>\n      <td>046cfa46be49fc10834815c6</td>\n      <td>18763.0</td>\n    </tr>\n    <tr>\n      <th>4</th>\n      <td>5a0546857ecc773753327266_046cfa46be49fc1083481...</td>\n      <td>0</td>\n      <td>86.252865</td>\n      <td>106.563307</td>\n      <td>5a0546857ecc773753327266</td>\n      <td>046cfa46be49fc10834815c6</td>\n      <td>22328.0</td>\n    </tr>\n    <tr>\n      <th>...</th>\n      <td>...</td>\n      <td>...</td>\n      <td>...</td>\n      <td>...</td>\n      <td>...</td>\n      <td>...</td>\n      <td>...</td>\n    </tr>\n    <tr>\n      <th>10128</th>\n      <td>5dc8cea7659e181adb076a3f_fd64de8c4a2fc5ebb0e9f...</td>\n      <td>5</td>\n      <td>213.870560</td>\n      <td>96.548063</td>\n      <td>5dc8cea7659e181adb076a3f</td>\n      <td>fd64de8c4a2fc5ebb0e9f412</td>\n      <td>82589.0</td>\n    </tr>\n    <tr>\n      <th>10129</th>\n      <td>5dc8cea7659e181adb076a3f_fd64de8c4a2fc5ebb0e9f...</td>\n      <td>5</td>\n      <td>211.672379</td>\n      <td>98.108070</td>\n      <td>5dc8cea7659e181adb076a3f</td>\n      <td>fd64de8c4a2fc5ebb0e9f412</td>\n      <td>85758.0</td>\n    </tr>\n    <tr>\n      <th>10130</th>\n      <td>5dc8cea7659e181adb076a3f_fd64de8c4a2fc5ebb0e9f...</td>\n      <td>5</td>\n      <td>207.875281</td>\n      <td>104.470320</td>\n      <td>5dc8cea7659e181adb076a3f</td>\n      <td>fd64de8c4a2fc5ebb0e9f412</td>\n      <td>90895.0</td>\n    </tr>\n    <tr>\n      <th>10131</th>\n      <td>5dc8cea7659e181adb076a3f_fd64de8c4a2fc5ebb0e9f...</td>\n      <td>5</td>\n      <td>202.941120</td>\n      <td>107.974197</td>\n      <td>5dc8cea7659e181adb076a3f</td>\n      <td>fd64de8c4a2fc5ebb0e9f412</td>\n      <td>96899.0</td>\n    </tr>\n    <tr>\n      <th>10132</th>\n      <td>5dc8cea7659e181adb076a3f_fd64de8c4a2fc5ebb0e9f...</td>\n      <td>5</td>\n      <td>200.638031</td>\n      <td>107.824944</td>\n      <td>5dc8cea7659e181adb076a3f</td>\n      <td>fd64de8c4a2fc5ebb0e9f412</td>\n      <td>100447.0</td>\n    </tr>\n  </tbody>\n</table>\n<p>10133 rows × 7 columns</p>\n</div>"
     },
     "metadata": {},
     "execution_count": 43
    }
   ],
   "source": [
    "sub = sub.reset_index()\n",
    "sub_org = sub.copy()\n",
    "tmp = sub['site_path_timestamp'].apply(lambda s : pd.Series(s.split('_')))\n",
    "sub['site'] = tmp[0]\n",
    "sub['path'] = tmp[1]\n",
    "sub['timestamp'] = tmp[2].astype(float)\n",
    "sub"
   ]
  },
  {
   "cell_type": "code",
   "execution_count": 44,
   "metadata": {},
   "outputs": [
    {
     "output_type": "stream",
     "name": "stderr",
     "text": [
      "626it [00:48, 13.00it/s]\n"
     ]
    },
    {
     "output_type": "execute_result",
     "data": {
      "text/plain": [
       "                                     site_path_timestamp  floor           x  \\\n",
       "0      5a0546857ecc773753327266_046cfa46be49fc1083481...      0   92.489394   \n",
       "1      5a0546857ecc773753327266_046cfa46be49fc1083481...      0   83.003032   \n",
       "2      5a0546857ecc773753327266_046cfa46be49fc1083481...      0   84.707427   \n",
       "3      5a0546857ecc773753327266_046cfa46be49fc1083481...      0   85.499852   \n",
       "4      5a0546857ecc773753327266_046cfa46be49fc1083481...      0   85.961160   \n",
       "...                                                  ...    ...         ...   \n",
       "10128  5dc8cea7659e181adb076a3f_fd64de8c4a2fc5ebb0e9f...      5  211.369137   \n",
       "10129  5dc8cea7659e181adb076a3f_fd64de8c4a2fc5ebb0e9f...      5  209.564570   \n",
       "10130  5dc8cea7659e181adb076a3f_fd64de8c4a2fc5ebb0e9f...      5  205.804305   \n",
       "10131  5dc8cea7659e181adb076a3f_fd64de8c4a2fc5ebb0e9f...      5  198.670590   \n",
       "10132  5dc8cea7659e181adb076a3f_fd64de8c4a2fc5ebb0e9f...      5  195.276842   \n",
       "\n",
       "                y  \n",
       "0       96.751369  \n",
       "1       99.235480  \n",
       "2      104.310667  \n",
       "3      108.062061  \n",
       "4      111.774683  \n",
       "...           ...  \n",
       "10128   97.006830  \n",
       "10129  100.413207  \n",
       "10130  106.117663  \n",
       "10131  110.461613  \n",
       "10132  113.766971  \n",
       "\n",
       "[10133 rows x 4 columns]"
      ],
      "text/html": "<div>\n<style scoped>\n    .dataframe tbody tr th:only-of-type {\n        vertical-align: middle;\n    }\n\n    .dataframe tbody tr th {\n        vertical-align: top;\n    }\n\n    .dataframe thead th {\n        text-align: right;\n    }\n</style>\n<table border=\"1\" class=\"dataframe\">\n  <thead>\n    <tr style=\"text-align: right;\">\n      <th></th>\n      <th>site_path_timestamp</th>\n      <th>floor</th>\n      <th>x</th>\n      <th>y</th>\n    </tr>\n  </thead>\n  <tbody>\n    <tr>\n      <th>0</th>\n      <td>5a0546857ecc773753327266_046cfa46be49fc1083481...</td>\n      <td>0</td>\n      <td>92.489394</td>\n      <td>96.751369</td>\n    </tr>\n    <tr>\n      <th>1</th>\n      <td>5a0546857ecc773753327266_046cfa46be49fc1083481...</td>\n      <td>0</td>\n      <td>83.003032</td>\n      <td>99.235480</td>\n    </tr>\n    <tr>\n      <th>2</th>\n      <td>5a0546857ecc773753327266_046cfa46be49fc1083481...</td>\n      <td>0</td>\n      <td>84.707427</td>\n      <td>104.310667</td>\n    </tr>\n    <tr>\n      <th>3</th>\n      <td>5a0546857ecc773753327266_046cfa46be49fc1083481...</td>\n      <td>0</td>\n      <td>85.499852</td>\n      <td>108.062061</td>\n    </tr>\n    <tr>\n      <th>4</th>\n      <td>5a0546857ecc773753327266_046cfa46be49fc1083481...</td>\n      <td>0</td>\n      <td>85.961160</td>\n      <td>111.774683</td>\n    </tr>\n    <tr>\n      <th>...</th>\n      <td>...</td>\n      <td>...</td>\n      <td>...</td>\n      <td>...</td>\n    </tr>\n    <tr>\n      <th>10128</th>\n      <td>5dc8cea7659e181adb076a3f_fd64de8c4a2fc5ebb0e9f...</td>\n      <td>5</td>\n      <td>211.369137</td>\n      <td>97.006830</td>\n    </tr>\n    <tr>\n      <th>10129</th>\n      <td>5dc8cea7659e181adb076a3f_fd64de8c4a2fc5ebb0e9f...</td>\n      <td>5</td>\n      <td>209.564570</td>\n      <td>100.413207</td>\n    </tr>\n    <tr>\n      <th>10130</th>\n      <td>5dc8cea7659e181adb076a3f_fd64de8c4a2fc5ebb0e9f...</td>\n      <td>5</td>\n      <td>205.804305</td>\n      <td>106.117663</td>\n    </tr>\n    <tr>\n      <th>10131</th>\n      <td>5dc8cea7659e181adb076a3f_fd64de8c4a2fc5ebb0e9f...</td>\n      <td>5</td>\n      <td>198.670590</td>\n      <td>110.461613</td>\n    </tr>\n    <tr>\n      <th>10132</th>\n      <td>5dc8cea7659e181adb076a3f_fd64de8c4a2fc5ebb0e9f...</td>\n      <td>5</td>\n      <td>195.276842</td>\n      <td>113.766971</td>\n    </tr>\n  </tbody>\n</table>\n<p>10133 rows × 4 columns</p>\n</div>"
     },
     "metadata": {},
     "execution_count": 44
    }
   ],
   "source": [
    "processes = multiprocessing.cpu_count()\n",
    "with multiprocessing.Pool(processes=processes) as pool:\n",
    "    dfs = pool.imap_unordered(correct_path, sub.groupby(['path']))\n",
    "    dfs = tqdm(dfs)\n",
    "    dfs = list(dfs)\n",
    "new_sub = pd.concat(dfs).sort_values('site_path_timestamp')\n",
    "new_sub"
   ]
  },
  {
   "cell_type": "code",
   "execution_count": 45,
   "metadata": {},
   "outputs": [],
   "source": [
    "new_sub.to_csv(RUN_NAME + '_cost_sub.csv', index=False)"
   ]
  },
  {
   "cell_type": "markdown",
   "metadata": {},
   "source": [
    "## snap to grid"
   ]
  },
  {
   "cell_type": "code",
   "execution_count": 46,
   "metadata": {},
   "outputs": [],
   "source": [
    "from scipy.spatial.distance import cdist\n",
    "def sub_process(sub, train_waypoints):\n",
    "    train_waypoints['isTrainWaypoint'] = True\n",
    "    sub = split_col(sub[['site_path_timestamp','floor','x','y']]).copy()\n",
    "    sub = sub.merge(train_waypoints[['site','floorNo','floor']].drop_duplicates(), how='left')\n",
    "    sub = sub.merge(\n",
    "        train_waypoints[['x','y','site','floor','isTrainWaypoint']].drop_duplicates(),\n",
    "        how='left',\n",
    "        on=['site','x','y','floor']\n",
    "             )\n",
    "    sub['isTrainWaypoint'] = sub['isTrainWaypoint'].fillna(False)\n",
    "    return sub.copy()\n",
    "\n",
    "def split_col(df):\n",
    "    df = pd.concat([\n",
    "        df['site_path_timestamp'].str.split('_', expand=True) \\\n",
    "        .rename(columns={0:'site',\n",
    "                         1:'path',\n",
    "                         2:'timestamp'}),\n",
    "        df\n",
    "    ], axis=1).copy()\n",
    "    return df\n",
    "\n",
    "floor_map = {\"B2\":-2, \"B1\":-1, \"F1\":0, \"F2\": 1, \"F3\":2,\n",
    "             \"F4\":3, \"F5\":4, \"F6\":5, \"F7\":6,\"F8\":7,\"F9\":8,\n",
    "             \"1F\":0, \"2F\":1, \"3F\":2, \"4F\":3, \"5F\":4, \"6F\":5,\n",
    "             \"7F\":6, \"8F\": 7, \"9F\":8}\n",
    "\n",
    "def add_xy(df):\n",
    "    df['xy'] = [(x, y) for x,y in zip(df['x'], df['y'])]\n",
    "    return df\n",
    "\n",
    "def closest_point(point, points):\n",
    "    \"\"\" Find closest point from a list of points. \"\"\"\n",
    "    return points[cdist([point], points).argmin()]\n",
    "\n",
    "def snap_to_grid(sub, threshold):\n",
    "    \"\"\"\n",
    "    Snap to grid if within a threshold.\n",
    "    \n",
    "    x, y are the predicted points.\n",
    "    x_, y_ are the closest grid points.\n",
    "    _x_, _y_ are the new predictions after post processing.\n",
    "    \"\"\"\n",
    "    sub['_x_'] = sub['x']\n",
    "    sub['_y_'] = sub['y']\n",
    "    sub.loc[sub['dist'] < threshold, '_x_'] = sub.loc[sub['dist'] < threshold]['x_']\n",
    "    sub.loc[sub['dist'] < threshold, '_y_'] = sub.loc[sub['dist'] < threshold]['y_']\n",
    "    return sub.copy()\n"
   ]
  },
  {
   "cell_type": "code",
   "execution_count": 47,
   "metadata": {},
   "outputs": [
    {
     "output_type": "execute_result",
     "data": {
      "text/plain": [
       "            timestamp    target_x    target_y  floor          ix          iy  \\\n",
       "0       1561368762838   78.218193   38.999737    2.0   77.843651   37.382805   \n",
       "1       1561368762838   78.218193   38.999737    2.0   77.562737   36.170105   \n",
       "2       1561368774057   76.251839   30.510839    2.0   77.222664   21.330624   \n",
       "3       1561368774057   76.251839   30.510839    2.0   76.994240   23.490675   \n",
       "4       1561368774057   76.251839   30.510839    2.0   76.765808   25.650726   \n",
       "...               ...         ...         ...    ...         ...         ...   \n",
       "250699  1574420742502  193.204880  108.001518   -1.0  194.090317  108.728462   \n",
       "250700  1574420742502  193.204880  108.001518   -1.0  193.559052  108.292297   \n",
       "250701  1574420753754  204.293488  107.835121   -1.0  203.237427  107.850967   \n",
       "250702  1574420753754  204.293488  107.835121   -1.0  201.653351  107.874741   \n",
       "250703  1574420753754  204.293488  107.835121   -1.0  200.069260  107.898514   \n",
       "\n",
       "       floor_str                      path  site_id               site_id_str  \\\n",
       "0             F3  5d10a1669c50c70008fe8977        0  5a0546857ecc773753327266   \n",
       "1             F3  5d10a1669c50c70008fe8977        0  5a0546857ecc773753327266   \n",
       "2             F3  5d10a1669c50c70008fe8977        0  5a0546857ecc773753327266   \n",
       "3             F3  5d10a1669c50c70008fe8977        0  5a0546857ecc773753327266   \n",
       "4             F3  5d10a1669c50c70008fe8977        0  5a0546857ecc773753327266   \n",
       "...          ...                       ...      ...                       ...   \n",
       "250699        B1  5dd7c119c5b77e0006b16b99       23  5dc8cea7659e181adb076a3f   \n",
       "250700        B1  5dd7c119c5b77e0006b16b99       23  5dc8cea7659e181adb076a3f   \n",
       "250701        B1  5dd7c119c5b77e0006b16b99       23  5dc8cea7659e181adb076a3f   \n",
       "250702        B1  5dd7c119c5b77e0006b16b99       23  5dc8cea7659e181adb076a3f   \n",
       "250703        B1  5dd7c119c5b77e0006b16b99       23  5dc8cea7659e181adb076a3f   \n",
       "\n",
       "             oof_x       oof_y  oof_floor  \\\n",
       "0        77.620659   36.409447        0.0   \n",
       "1        81.419319   31.727907        0.0   \n",
       "2        81.226273   27.225170        0.0   \n",
       "3        80.750076   23.891800        0.0   \n",
       "4        80.918503   24.083487        0.0   \n",
       "...            ...         ...        ...   \n",
       "250699  200.230011   98.480148        0.0   \n",
       "250700  199.220306  100.779129        0.0   \n",
       "250701  198.818436   98.613800        0.0   \n",
       "250702  198.016602   97.356888        0.0   \n",
       "250703  197.034866   96.901611        0.0   \n",
       "\n",
       "                                      site_path_timestamp   oof_min_x  \\\n",
       "0       5a0546857ecc773753327266_5d10a1669c50c70008fe8...   80.047478   \n",
       "1       5a0546857ecc773753327266_5d10a1669c50c70008fe8...   80.050807   \n",
       "2       5a0546857ecc773753327266_5d10a1669c50c70008fe8...   80.800184   \n",
       "3       5a0546857ecc773753327266_5d10a1669c50c70008fe8...   80.801051   \n",
       "4       5a0546857ecc773753327266_5d10a1669c50c70008fe8...   80.801988   \n",
       "...                                                   ...         ...   \n",
       "250699  5dc8cea7659e181adb076a3f_5dd7c119c5b77e0006b16...  199.041703   \n",
       "250700  5dc8cea7659e181adb076a3f_5dd7c119c5b77e0006b16...  199.015105   \n",
       "250701  5dc8cea7659e181adb076a3f_5dd7c119c5b77e0006b16...  204.504506   \n",
       "250702  5dc8cea7659e181adb076a3f_5dd7c119c5b77e0006b16...  204.485426   \n",
       "250703  5dc8cea7659e181adb076a3f_5dd7c119c5b77e0006b16...  204.475219   \n",
       "\n",
       "         oof_min_y  \n",
       "0        36.139695  \n",
       "1        36.139325  \n",
       "2        27.004514  \n",
       "3        27.009893  \n",
       "4        27.019549  \n",
       "...            ...  \n",
       "250699   99.463299  \n",
       "250700   99.454505  \n",
       "250701  100.209706  \n",
       "250702  100.201284  \n",
       "250703  100.196764  \n",
       "\n",
       "[250704 rows x 16 columns]"
      ],
      "text/html": "<div>\n<style scoped>\n    .dataframe tbody tr th:only-of-type {\n        vertical-align: middle;\n    }\n\n    .dataframe tbody tr th {\n        vertical-align: top;\n    }\n\n    .dataframe thead th {\n        text-align: right;\n    }\n</style>\n<table border=\"1\" class=\"dataframe\">\n  <thead>\n    <tr style=\"text-align: right;\">\n      <th></th>\n      <th>timestamp</th>\n      <th>target_x</th>\n      <th>target_y</th>\n      <th>floor</th>\n      <th>ix</th>\n      <th>iy</th>\n      <th>floor_str</th>\n      <th>path</th>\n      <th>site_id</th>\n      <th>site_id_str</th>\n      <th>oof_x</th>\n      <th>oof_y</th>\n      <th>oof_floor</th>\n      <th>site_path_timestamp</th>\n      <th>oof_min_x</th>\n      <th>oof_min_y</th>\n    </tr>\n  </thead>\n  <tbody>\n    <tr>\n      <th>0</th>\n      <td>1561368762838</td>\n      <td>78.218193</td>\n      <td>38.999737</td>\n      <td>2.0</td>\n      <td>77.843651</td>\n      <td>37.382805</td>\n      <td>F3</td>\n      <td>5d10a1669c50c70008fe8977</td>\n      <td>0</td>\n      <td>5a0546857ecc773753327266</td>\n      <td>77.620659</td>\n      <td>36.409447</td>\n      <td>0.0</td>\n      <td>5a0546857ecc773753327266_5d10a1669c50c70008fe8...</td>\n      <td>80.047478</td>\n      <td>36.139695</td>\n    </tr>\n    <tr>\n      <th>1</th>\n      <td>1561368762838</td>\n      <td>78.218193</td>\n      <td>38.999737</td>\n      <td>2.0</td>\n      <td>77.562737</td>\n      <td>36.170105</td>\n      <td>F3</td>\n      <td>5d10a1669c50c70008fe8977</td>\n      <td>0</td>\n      <td>5a0546857ecc773753327266</td>\n      <td>81.419319</td>\n      <td>31.727907</td>\n      <td>0.0</td>\n      <td>5a0546857ecc773753327266_5d10a1669c50c70008fe8...</td>\n      <td>80.050807</td>\n      <td>36.139325</td>\n    </tr>\n    <tr>\n      <th>2</th>\n      <td>1561368774057</td>\n      <td>76.251839</td>\n      <td>30.510839</td>\n      <td>2.0</td>\n      <td>77.222664</td>\n      <td>21.330624</td>\n      <td>F3</td>\n      <td>5d10a1669c50c70008fe8977</td>\n      <td>0</td>\n      <td>5a0546857ecc773753327266</td>\n      <td>81.226273</td>\n      <td>27.225170</td>\n      <td>0.0</td>\n      <td>5a0546857ecc773753327266_5d10a1669c50c70008fe8...</td>\n      <td>80.800184</td>\n      <td>27.004514</td>\n    </tr>\n    <tr>\n      <th>3</th>\n      <td>1561368774057</td>\n      <td>76.251839</td>\n      <td>30.510839</td>\n      <td>2.0</td>\n      <td>76.994240</td>\n      <td>23.490675</td>\n      <td>F3</td>\n      <td>5d10a1669c50c70008fe8977</td>\n      <td>0</td>\n      <td>5a0546857ecc773753327266</td>\n      <td>80.750076</td>\n      <td>23.891800</td>\n      <td>0.0</td>\n      <td>5a0546857ecc773753327266_5d10a1669c50c70008fe8...</td>\n      <td>80.801051</td>\n      <td>27.009893</td>\n    </tr>\n    <tr>\n      <th>4</th>\n      <td>1561368774057</td>\n      <td>76.251839</td>\n      <td>30.510839</td>\n      <td>2.0</td>\n      <td>76.765808</td>\n      <td>25.650726</td>\n      <td>F3</td>\n      <td>5d10a1669c50c70008fe8977</td>\n      <td>0</td>\n      <td>5a0546857ecc773753327266</td>\n      <td>80.918503</td>\n      <td>24.083487</td>\n      <td>0.0</td>\n      <td>5a0546857ecc773753327266_5d10a1669c50c70008fe8...</td>\n      <td>80.801988</td>\n      <td>27.019549</td>\n    </tr>\n    <tr>\n      <th>...</th>\n      <td>...</td>\n      <td>...</td>\n      <td>...</td>\n      <td>...</td>\n      <td>...</td>\n      <td>...</td>\n      <td>...</td>\n      <td>...</td>\n      <td>...</td>\n      <td>...</td>\n      <td>...</td>\n      <td>...</td>\n      <td>...</td>\n      <td>...</td>\n      <td>...</td>\n      <td>...</td>\n    </tr>\n    <tr>\n      <th>250699</th>\n      <td>1574420742502</td>\n      <td>193.204880</td>\n      <td>108.001518</td>\n      <td>-1.0</td>\n      <td>194.090317</td>\n      <td>108.728462</td>\n      <td>B1</td>\n      <td>5dd7c119c5b77e0006b16b99</td>\n      <td>23</td>\n      <td>5dc8cea7659e181adb076a3f</td>\n      <td>200.230011</td>\n      <td>98.480148</td>\n      <td>0.0</td>\n      <td>5dc8cea7659e181adb076a3f_5dd7c119c5b77e0006b16...</td>\n      <td>199.041703</td>\n      <td>99.463299</td>\n    </tr>\n    <tr>\n      <th>250700</th>\n      <td>1574420742502</td>\n      <td>193.204880</td>\n      <td>108.001518</td>\n      <td>-1.0</td>\n      <td>193.559052</td>\n      <td>108.292297</td>\n      <td>B1</td>\n      <td>5dd7c119c5b77e0006b16b99</td>\n      <td>23</td>\n      <td>5dc8cea7659e181adb076a3f</td>\n      <td>199.220306</td>\n      <td>100.779129</td>\n      <td>0.0</td>\n      <td>5dc8cea7659e181adb076a3f_5dd7c119c5b77e0006b16...</td>\n      <td>199.015105</td>\n      <td>99.454505</td>\n    </tr>\n    <tr>\n      <th>250701</th>\n      <td>1574420753754</td>\n      <td>204.293488</td>\n      <td>107.835121</td>\n      <td>-1.0</td>\n      <td>203.237427</td>\n      <td>107.850967</td>\n      <td>B1</td>\n      <td>5dd7c119c5b77e0006b16b99</td>\n      <td>23</td>\n      <td>5dc8cea7659e181adb076a3f</td>\n      <td>198.818436</td>\n      <td>98.613800</td>\n      <td>0.0</td>\n      <td>5dc8cea7659e181adb076a3f_5dd7c119c5b77e0006b16...</td>\n      <td>204.504506</td>\n      <td>100.209706</td>\n    </tr>\n    <tr>\n      <th>250702</th>\n      <td>1574420753754</td>\n      <td>204.293488</td>\n      <td>107.835121</td>\n      <td>-1.0</td>\n      <td>201.653351</td>\n      <td>107.874741</td>\n      <td>B1</td>\n      <td>5dd7c119c5b77e0006b16b99</td>\n      <td>23</td>\n      <td>5dc8cea7659e181adb076a3f</td>\n      <td>198.016602</td>\n      <td>97.356888</td>\n      <td>0.0</td>\n      <td>5dc8cea7659e181adb076a3f_5dd7c119c5b77e0006b16...</td>\n      <td>204.485426</td>\n      <td>100.201284</td>\n    </tr>\n    <tr>\n      <th>250703</th>\n      <td>1574420753754</td>\n      <td>204.293488</td>\n      <td>107.835121</td>\n      <td>-1.0</td>\n      <td>200.069260</td>\n      <td>107.898514</td>\n      <td>B1</td>\n      <td>5dd7c119c5b77e0006b16b99</td>\n      <td>23</td>\n      <td>5dc8cea7659e181adb076a3f</td>\n      <td>197.034866</td>\n      <td>96.901611</td>\n      <td>0.0</td>\n      <td>5dc8cea7659e181adb076a3f_5dd7c119c5b77e0006b16...</td>\n      <td>204.475219</td>\n      <td>100.196764</td>\n    </tr>\n  </tbody>\n</table>\n<p>250704 rows × 16 columns</p>\n</div>"
     },
     "metadata": {},
     "execution_count": 47
    }
   ],
   "source": [
    "\n",
    "oofs_df"
   ]
  },
  {
   "cell_type": "code",
   "execution_count": 48,
   "metadata": {},
   "outputs": [
    {
     "output_type": "stream",
     "name": "stderr",
     "text": [
      "100%|██████████| 139/139 [01:36<00:00,  1.45it/s]\n"
     ]
    },
    {
     "output_type": "execute_result",
     "data": {
      "text/plain": [
       "                            site                      path      timestamp  \\\n",
       "0       5a0546857ecc773753327266  5d10a1669c50c70008fe8977  1561368762838   \n",
       "1       5a0546857ecc773753327266  5d10a1669c50c70008fe8977  1561368762838   \n",
       "2       5a0546857ecc773753327266  5d10a1669c50c70008fe8977  1561368774057   \n",
       "3       5a0546857ecc773753327266  5d10a1669c50c70008fe8977  1561368774057   \n",
       "4       5a0546857ecc773753327266  5d10a1669c50c70008fe8977  1561368774057   \n",
       "...                          ...                       ...            ...   \n",
       "250699  5dc8cea7659e181adb076a3f  5dd7c119c5b77e0006b16b99  1574420742502   \n",
       "250700  5dc8cea7659e181adb076a3f  5dd7c119c5b77e0006b16b99  1574420742502   \n",
       "250701  5dc8cea7659e181adb076a3f  5dd7c119c5b77e0006b16b99  1574420753754   \n",
       "250702  5dc8cea7659e181adb076a3f  5dd7c119c5b77e0006b16b99  1574420753754   \n",
       "250703  5dc8cea7659e181adb076a3f  5dd7c119c5b77e0006b16b99  1574420753754   \n",
       "\n",
       "                                      site_path_timestamp  floor           x  \\\n",
       "0       5a0546857ecc773753327266_5d10a1669c50c70008fe8...    2.0   80.047478   \n",
       "1       5a0546857ecc773753327266_5d10a1669c50c70008fe8...    2.0   80.050807   \n",
       "2       5a0546857ecc773753327266_5d10a1669c50c70008fe8...    2.0   80.800184   \n",
       "3       5a0546857ecc773753327266_5d10a1669c50c70008fe8...    2.0   80.801051   \n",
       "4       5a0546857ecc773753327266_5d10a1669c50c70008fe8...    2.0   80.801988   \n",
       "...                                                   ...    ...         ...   \n",
       "250699  5dc8cea7659e181adb076a3f_5dd7c119c5b77e0006b16...   -1.0  199.041703   \n",
       "250700  5dc8cea7659e181adb076a3f_5dd7c119c5b77e0006b16...   -1.0  199.015105   \n",
       "250701  5dc8cea7659e181adb076a3f_5dd7c119c5b77e0006b16...   -1.0  204.504506   \n",
       "250702  5dc8cea7659e181adb076a3f_5dd7c119c5b77e0006b16...   -1.0  204.485426   \n",
       "250703  5dc8cea7659e181adb076a3f_5dd7c119c5b77e0006b16...   -1.0  204.475219   \n",
       "\n",
       "                 y floorNo  isTrainWaypoint  \\\n",
       "0        36.139695      F3            False   \n",
       "1        36.139325      F3            False   \n",
       "2        27.004514      F3            False   \n",
       "3        27.009893      F3            False   \n",
       "4        27.019549      F3            False   \n",
       "...            ...     ...              ...   \n",
       "250699   99.463299      B1            False   \n",
       "250700   99.454505      B1            False   \n",
       "250701  100.209706      B1            False   \n",
       "250702  100.201284      B1            False   \n",
       "250703  100.196764      B1            False   \n",
       "\n",
       "                                              xy           matched_point  \\\n",
       "0         (80.04747839935641, 36.13969540375279)    (80.6814, 39.265667)   \n",
       "1        (80.05080736989804, 36.139325374517455)    (80.6814, 39.265667)   \n",
       "2         (80.8001836974168, 27.004514377361104)    (84.22669, 27.13862)   \n",
       "3        (80.80105093864631, 27.009892993442087)    (84.22669, 27.13862)   \n",
       "4        (80.80198810394265, 27.019548829093285)    (84.22669, 27.13862)   \n",
       "...                                          ...                     ...   \n",
       "250699    (199.0417033387367, 99.46329910737109)   (200.24849, 98.30836)   \n",
       "250700   (199.01510519605182, 99.45450510234892)   (200.24849, 98.30836)   \n",
       "250701  (204.50450554553086, 100.20970554463948)  (206.77228, 101.24038)   \n",
       "250702  (204.48542574122197, 100.20128366797098)  (206.77228, 101.24038)   \n",
       "250703   (204.47521949545734, 100.1967635688753)  (206.77228, 101.24038)   \n",
       "\n",
       "        oof_min_snap_x  oof_min_snap_y  \n",
       "0             80.68140       39.265667  \n",
       "1             80.68140       39.265667  \n",
       "2             84.22669       27.138620  \n",
       "3             84.22669       27.138620  \n",
       "4             84.22669       27.138620  \n",
       "...                ...             ...  \n",
       "250699       200.24849       98.308360  \n",
       "250700       200.24849       98.308360  \n",
       "250701       206.77228      101.240380  \n",
       "250702       206.77228      101.240380  \n",
       "250703       206.77228      101.240380  \n",
       "\n",
       "[250704 rows x 13 columns]"
      ],
      "text/html": "<div>\n<style scoped>\n    .dataframe tbody tr th:only-of-type {\n        vertical-align: middle;\n    }\n\n    .dataframe tbody tr th {\n        vertical-align: top;\n    }\n\n    .dataframe thead th {\n        text-align: right;\n    }\n</style>\n<table border=\"1\" class=\"dataframe\">\n  <thead>\n    <tr style=\"text-align: right;\">\n      <th></th>\n      <th>site</th>\n      <th>path</th>\n      <th>timestamp</th>\n      <th>site_path_timestamp</th>\n      <th>floor</th>\n      <th>x</th>\n      <th>y</th>\n      <th>floorNo</th>\n      <th>isTrainWaypoint</th>\n      <th>xy</th>\n      <th>matched_point</th>\n      <th>oof_min_snap_x</th>\n      <th>oof_min_snap_y</th>\n    </tr>\n  </thead>\n  <tbody>\n    <tr>\n      <th>0</th>\n      <td>5a0546857ecc773753327266</td>\n      <td>5d10a1669c50c70008fe8977</td>\n      <td>1561368762838</td>\n      <td>5a0546857ecc773753327266_5d10a1669c50c70008fe8...</td>\n      <td>2.0</td>\n      <td>80.047478</td>\n      <td>36.139695</td>\n      <td>F3</td>\n      <td>False</td>\n      <td>(80.04747839935641, 36.13969540375279)</td>\n      <td>(80.6814, 39.265667)</td>\n      <td>80.68140</td>\n      <td>39.265667</td>\n    </tr>\n    <tr>\n      <th>1</th>\n      <td>5a0546857ecc773753327266</td>\n      <td>5d10a1669c50c70008fe8977</td>\n      <td>1561368762838</td>\n      <td>5a0546857ecc773753327266_5d10a1669c50c70008fe8...</td>\n      <td>2.0</td>\n      <td>80.050807</td>\n      <td>36.139325</td>\n      <td>F3</td>\n      <td>False</td>\n      <td>(80.05080736989804, 36.139325374517455)</td>\n      <td>(80.6814, 39.265667)</td>\n      <td>80.68140</td>\n      <td>39.265667</td>\n    </tr>\n    <tr>\n      <th>2</th>\n      <td>5a0546857ecc773753327266</td>\n      <td>5d10a1669c50c70008fe8977</td>\n      <td>1561368774057</td>\n      <td>5a0546857ecc773753327266_5d10a1669c50c70008fe8...</td>\n      <td>2.0</td>\n      <td>80.800184</td>\n      <td>27.004514</td>\n      <td>F3</td>\n      <td>False</td>\n      <td>(80.8001836974168, 27.004514377361104)</td>\n      <td>(84.22669, 27.13862)</td>\n      <td>84.22669</td>\n      <td>27.138620</td>\n    </tr>\n    <tr>\n      <th>3</th>\n      <td>5a0546857ecc773753327266</td>\n      <td>5d10a1669c50c70008fe8977</td>\n      <td>1561368774057</td>\n      <td>5a0546857ecc773753327266_5d10a1669c50c70008fe8...</td>\n      <td>2.0</td>\n      <td>80.801051</td>\n      <td>27.009893</td>\n      <td>F3</td>\n      <td>False</td>\n      <td>(80.80105093864631, 27.009892993442087)</td>\n      <td>(84.22669, 27.13862)</td>\n      <td>84.22669</td>\n      <td>27.138620</td>\n    </tr>\n    <tr>\n      <th>4</th>\n      <td>5a0546857ecc773753327266</td>\n      <td>5d10a1669c50c70008fe8977</td>\n      <td>1561368774057</td>\n      <td>5a0546857ecc773753327266_5d10a1669c50c70008fe8...</td>\n      <td>2.0</td>\n      <td>80.801988</td>\n      <td>27.019549</td>\n      <td>F3</td>\n      <td>False</td>\n      <td>(80.80198810394265, 27.019548829093285)</td>\n      <td>(84.22669, 27.13862)</td>\n      <td>84.22669</td>\n      <td>27.138620</td>\n    </tr>\n    <tr>\n      <th>...</th>\n      <td>...</td>\n      <td>...</td>\n      <td>...</td>\n      <td>...</td>\n      <td>...</td>\n      <td>...</td>\n      <td>...</td>\n      <td>...</td>\n      <td>...</td>\n      <td>...</td>\n      <td>...</td>\n      <td>...</td>\n      <td>...</td>\n    </tr>\n    <tr>\n      <th>250699</th>\n      <td>5dc8cea7659e181adb076a3f</td>\n      <td>5dd7c119c5b77e0006b16b99</td>\n      <td>1574420742502</td>\n      <td>5dc8cea7659e181adb076a3f_5dd7c119c5b77e0006b16...</td>\n      <td>-1.0</td>\n      <td>199.041703</td>\n      <td>99.463299</td>\n      <td>B1</td>\n      <td>False</td>\n      <td>(199.0417033387367, 99.46329910737109)</td>\n      <td>(200.24849, 98.30836)</td>\n      <td>200.24849</td>\n      <td>98.308360</td>\n    </tr>\n    <tr>\n      <th>250700</th>\n      <td>5dc8cea7659e181adb076a3f</td>\n      <td>5dd7c119c5b77e0006b16b99</td>\n      <td>1574420742502</td>\n      <td>5dc8cea7659e181adb076a3f_5dd7c119c5b77e0006b16...</td>\n      <td>-1.0</td>\n      <td>199.015105</td>\n      <td>99.454505</td>\n      <td>B1</td>\n      <td>False</td>\n      <td>(199.01510519605182, 99.45450510234892)</td>\n      <td>(200.24849, 98.30836)</td>\n      <td>200.24849</td>\n      <td>98.308360</td>\n    </tr>\n    <tr>\n      <th>250701</th>\n      <td>5dc8cea7659e181adb076a3f</td>\n      <td>5dd7c119c5b77e0006b16b99</td>\n      <td>1574420753754</td>\n      <td>5dc8cea7659e181adb076a3f_5dd7c119c5b77e0006b16...</td>\n      <td>-1.0</td>\n      <td>204.504506</td>\n      <td>100.209706</td>\n      <td>B1</td>\n      <td>False</td>\n      <td>(204.50450554553086, 100.20970554463948)</td>\n      <td>(206.77228, 101.24038)</td>\n      <td>206.77228</td>\n      <td>101.240380</td>\n    </tr>\n    <tr>\n      <th>250702</th>\n      <td>5dc8cea7659e181adb076a3f</td>\n      <td>5dd7c119c5b77e0006b16b99</td>\n      <td>1574420753754</td>\n      <td>5dc8cea7659e181adb076a3f_5dd7c119c5b77e0006b16...</td>\n      <td>-1.0</td>\n      <td>204.485426</td>\n      <td>100.201284</td>\n      <td>B1</td>\n      <td>False</td>\n      <td>(204.48542574122197, 100.20128366797098)</td>\n      <td>(206.77228, 101.24038)</td>\n      <td>206.77228</td>\n      <td>101.240380</td>\n    </tr>\n    <tr>\n      <th>250703</th>\n      <td>5dc8cea7659e181adb076a3f</td>\n      <td>5dd7c119c5b77e0006b16b99</td>\n      <td>1574420753754</td>\n      <td>5dc8cea7659e181adb076a3f_5dd7c119c5b77e0006b16...</td>\n      <td>-1.0</td>\n      <td>204.475219</td>\n      <td>100.196764</td>\n      <td>B1</td>\n      <td>False</td>\n      <td>(204.47521949545734, 100.1967635688753)</td>\n      <td>(206.77228, 101.24038)</td>\n      <td>206.77228</td>\n      <td>101.240380</td>\n    </tr>\n  </tbody>\n</table>\n<p>250704 rows × 13 columns</p>\n</div>"
     },
     "metadata": {},
     "execution_count": 48
    }
   ],
   "source": [
    "train_waypoints = pd.read_csv('../../input/indoor-location-train-waypoints/train_waypoints.csv')\n",
    "# 線形補完しているwaypointをtrain_waypoints（grid）とする。gridを増やすのが狙い。\n",
    "# train_waypoints = oofs_df[['oof_x', 'oof_y', 'timestamp', 'site_id_str', 'floor', 'floor_str', 'path']]\n",
    "# train_waypoints = train_waypoints.rename(columns={'oof_x':'x', 'oof_y':\"y\", 'site_id_str':\"site\", 'floor_str':'floorNo'})\n",
    "\n",
    "snap_df = oofs_df[['site_path_timestamp','floor','oof_min_x','oof_min_y']].copy()\n",
    "snap_df = snap_df.rename(columns={'oof_min_x':'x', 'oof_min_y':'y'})\n",
    "snap_df = sub_process(snap_df, train_waypoints)\n",
    "snap_df = add_xy(snap_df)\n",
    "train_waypoints = add_xy(train_waypoints)\n",
    "\n",
    "ds = []\n",
    "for (site, myfloor), d in tqdm(snap_df.groupby(['site','floor'])):\n",
    "    true_floor_locs = train_waypoints.loc[(train_waypoints['floor'] == myfloor) &\n",
    "                                          (train_waypoints['site'] == site)] \\\n",
    "        .reset_index(drop=True)\n",
    "    if len(true_floor_locs) == 0:\n",
    "        print(f'Skipping {site} {myfloor}')\n",
    "        continue\n",
    "    d['matched_point'] = [closest_point(x, list(true_floor_locs['xy'])) for x in d['xy']]\n",
    "    d['oof_min_snap_x'] = d['matched_point'].apply(lambda x: x[0])\n",
    "    d['oof_min_snap_y'] = d['matched_point'].apply(lambda x: x[1])\n",
    "    ds.append(d)\n",
    "\n",
    "# 上書き\n",
    "snap_df = pd.concat(ds).sort_index()\n",
    "snap_df"
   ]
  },
  {
   "cell_type": "code",
   "execution_count": 49,
   "metadata": {},
   "outputs": [
    {
     "output_type": "execute_result",
     "data": {
      "text/plain": [
       "            timestamp    target_x    target_y  floor          ix          iy  \\\n",
       "0       1561368762838   78.218193   38.999737    2.0   77.843651   37.382805   \n",
       "1       1561368762838   78.218193   38.999737    2.0   77.562737   36.170105   \n",
       "2       1561368774057   76.251839   30.510839    2.0   77.222664   21.330624   \n",
       "3       1561368774057   76.251839   30.510839    2.0   76.994240   23.490675   \n",
       "4       1561368774057   76.251839   30.510839    2.0   76.765808   25.650726   \n",
       "...               ...         ...         ...    ...         ...         ...   \n",
       "250699  1574420742502  193.204880  108.001518   -1.0  194.090317  108.728462   \n",
       "250700  1574420742502  193.204880  108.001518   -1.0  193.559052  108.292297   \n",
       "250701  1574420753754  204.293488  107.835121   -1.0  203.237427  107.850967   \n",
       "250702  1574420753754  204.293488  107.835121   -1.0  201.653351  107.874741   \n",
       "250703  1574420753754  204.293488  107.835121   -1.0  200.069260  107.898514   \n",
       "\n",
       "       floor_str                      path  site_id               site_id_str  \\\n",
       "0             F3  5d10a1669c50c70008fe8977        0  5a0546857ecc773753327266   \n",
       "1             F3  5d10a1669c50c70008fe8977        0  5a0546857ecc773753327266   \n",
       "2             F3  5d10a1669c50c70008fe8977        0  5a0546857ecc773753327266   \n",
       "3             F3  5d10a1669c50c70008fe8977        0  5a0546857ecc773753327266   \n",
       "4             F3  5d10a1669c50c70008fe8977        0  5a0546857ecc773753327266   \n",
       "...          ...                       ...      ...                       ...   \n",
       "250699        B1  5dd7c119c5b77e0006b16b99       23  5dc8cea7659e181adb076a3f   \n",
       "250700        B1  5dd7c119c5b77e0006b16b99       23  5dc8cea7659e181adb076a3f   \n",
       "250701        B1  5dd7c119c5b77e0006b16b99       23  5dc8cea7659e181adb076a3f   \n",
       "250702        B1  5dd7c119c5b77e0006b16b99       23  5dc8cea7659e181adb076a3f   \n",
       "250703        B1  5dd7c119c5b77e0006b16b99       23  5dc8cea7659e181adb076a3f   \n",
       "\n",
       "             oof_x       oof_y  oof_floor  \\\n",
       "0        77.620659   36.409447        0.0   \n",
       "1        81.419319   31.727907        0.0   \n",
       "2        81.226273   27.225170        0.0   \n",
       "3        80.750076   23.891800        0.0   \n",
       "4        80.918503   24.083487        0.0   \n",
       "...            ...         ...        ...   \n",
       "250699  200.230011   98.480148        0.0   \n",
       "250700  199.220306  100.779129        0.0   \n",
       "250701  198.818436   98.613800        0.0   \n",
       "250702  198.016602   97.356888        0.0   \n",
       "250703  197.034866   96.901611        0.0   \n",
       "\n",
       "                                      site_path_timestamp   oof_min_x  \\\n",
       "0       5a0546857ecc773753327266_5d10a1669c50c70008fe8...   80.047478   \n",
       "1       5a0546857ecc773753327266_5d10a1669c50c70008fe8...   80.050807   \n",
       "2       5a0546857ecc773753327266_5d10a1669c50c70008fe8...   80.800184   \n",
       "3       5a0546857ecc773753327266_5d10a1669c50c70008fe8...   80.801051   \n",
       "4       5a0546857ecc773753327266_5d10a1669c50c70008fe8...   80.801988   \n",
       "...                                                   ...         ...   \n",
       "250699  5dc8cea7659e181adb076a3f_5dd7c119c5b77e0006b16...  199.041703   \n",
       "250700  5dc8cea7659e181adb076a3f_5dd7c119c5b77e0006b16...  199.015105   \n",
       "250701  5dc8cea7659e181adb076a3f_5dd7c119c5b77e0006b16...  204.504506   \n",
       "250702  5dc8cea7659e181adb076a3f_5dd7c119c5b77e0006b16...  204.485426   \n",
       "250703  5dc8cea7659e181adb076a3f_5dd7c119c5b77e0006b16...  204.475219   \n",
       "\n",
       "         oof_min_y  oof_min_snap_x  oof_min_snap_y  \n",
       "0        36.139695        80.68140       39.265667  \n",
       "1        36.139325        80.68140       39.265667  \n",
       "2        27.004514        84.22669       27.138620  \n",
       "3        27.009893        84.22669       27.138620  \n",
       "4        27.019549        84.22669       27.138620  \n",
       "...            ...             ...             ...  \n",
       "250699   99.463299       200.24849       98.308360  \n",
       "250700   99.454505       200.24849       98.308360  \n",
       "250701  100.209706       206.77228      101.240380  \n",
       "250702  100.201284       206.77228      101.240380  \n",
       "250703  100.196764       206.77228      101.240380  \n",
       "\n",
       "[250704 rows x 18 columns]"
      ],
      "text/html": "<div>\n<style scoped>\n    .dataframe tbody tr th:only-of-type {\n        vertical-align: middle;\n    }\n\n    .dataframe tbody tr th {\n        vertical-align: top;\n    }\n\n    .dataframe thead th {\n        text-align: right;\n    }\n</style>\n<table border=\"1\" class=\"dataframe\">\n  <thead>\n    <tr style=\"text-align: right;\">\n      <th></th>\n      <th>timestamp</th>\n      <th>target_x</th>\n      <th>target_y</th>\n      <th>floor</th>\n      <th>ix</th>\n      <th>iy</th>\n      <th>floor_str</th>\n      <th>path</th>\n      <th>site_id</th>\n      <th>site_id_str</th>\n      <th>oof_x</th>\n      <th>oof_y</th>\n      <th>oof_floor</th>\n      <th>site_path_timestamp</th>\n      <th>oof_min_x</th>\n      <th>oof_min_y</th>\n      <th>oof_min_snap_x</th>\n      <th>oof_min_snap_y</th>\n    </tr>\n  </thead>\n  <tbody>\n    <tr>\n      <th>0</th>\n      <td>1561368762838</td>\n      <td>78.218193</td>\n      <td>38.999737</td>\n      <td>2.0</td>\n      <td>77.843651</td>\n      <td>37.382805</td>\n      <td>F3</td>\n      <td>5d10a1669c50c70008fe8977</td>\n      <td>0</td>\n      <td>5a0546857ecc773753327266</td>\n      <td>77.620659</td>\n      <td>36.409447</td>\n      <td>0.0</td>\n      <td>5a0546857ecc773753327266_5d10a1669c50c70008fe8...</td>\n      <td>80.047478</td>\n      <td>36.139695</td>\n      <td>80.68140</td>\n      <td>39.265667</td>\n    </tr>\n    <tr>\n      <th>1</th>\n      <td>1561368762838</td>\n      <td>78.218193</td>\n      <td>38.999737</td>\n      <td>2.0</td>\n      <td>77.562737</td>\n      <td>36.170105</td>\n      <td>F3</td>\n      <td>5d10a1669c50c70008fe8977</td>\n      <td>0</td>\n      <td>5a0546857ecc773753327266</td>\n      <td>81.419319</td>\n      <td>31.727907</td>\n      <td>0.0</td>\n      <td>5a0546857ecc773753327266_5d10a1669c50c70008fe8...</td>\n      <td>80.050807</td>\n      <td>36.139325</td>\n      <td>80.68140</td>\n      <td>39.265667</td>\n    </tr>\n    <tr>\n      <th>2</th>\n      <td>1561368774057</td>\n      <td>76.251839</td>\n      <td>30.510839</td>\n      <td>2.0</td>\n      <td>77.222664</td>\n      <td>21.330624</td>\n      <td>F3</td>\n      <td>5d10a1669c50c70008fe8977</td>\n      <td>0</td>\n      <td>5a0546857ecc773753327266</td>\n      <td>81.226273</td>\n      <td>27.225170</td>\n      <td>0.0</td>\n      <td>5a0546857ecc773753327266_5d10a1669c50c70008fe8...</td>\n      <td>80.800184</td>\n      <td>27.004514</td>\n      <td>84.22669</td>\n      <td>27.138620</td>\n    </tr>\n    <tr>\n      <th>3</th>\n      <td>1561368774057</td>\n      <td>76.251839</td>\n      <td>30.510839</td>\n      <td>2.0</td>\n      <td>76.994240</td>\n      <td>23.490675</td>\n      <td>F3</td>\n      <td>5d10a1669c50c70008fe8977</td>\n      <td>0</td>\n      <td>5a0546857ecc773753327266</td>\n      <td>80.750076</td>\n      <td>23.891800</td>\n      <td>0.0</td>\n      <td>5a0546857ecc773753327266_5d10a1669c50c70008fe8...</td>\n      <td>80.801051</td>\n      <td>27.009893</td>\n      <td>84.22669</td>\n      <td>27.138620</td>\n    </tr>\n    <tr>\n      <th>4</th>\n      <td>1561368774057</td>\n      <td>76.251839</td>\n      <td>30.510839</td>\n      <td>2.0</td>\n      <td>76.765808</td>\n      <td>25.650726</td>\n      <td>F3</td>\n      <td>5d10a1669c50c70008fe8977</td>\n      <td>0</td>\n      <td>5a0546857ecc773753327266</td>\n      <td>80.918503</td>\n      <td>24.083487</td>\n      <td>0.0</td>\n      <td>5a0546857ecc773753327266_5d10a1669c50c70008fe8...</td>\n      <td>80.801988</td>\n      <td>27.019549</td>\n      <td>84.22669</td>\n      <td>27.138620</td>\n    </tr>\n    <tr>\n      <th>...</th>\n      <td>...</td>\n      <td>...</td>\n      <td>...</td>\n      <td>...</td>\n      <td>...</td>\n      <td>...</td>\n      <td>...</td>\n      <td>...</td>\n      <td>...</td>\n      <td>...</td>\n      <td>...</td>\n      <td>...</td>\n      <td>...</td>\n      <td>...</td>\n      <td>...</td>\n      <td>...</td>\n      <td>...</td>\n      <td>...</td>\n    </tr>\n    <tr>\n      <th>250699</th>\n      <td>1574420742502</td>\n      <td>193.204880</td>\n      <td>108.001518</td>\n      <td>-1.0</td>\n      <td>194.090317</td>\n      <td>108.728462</td>\n      <td>B1</td>\n      <td>5dd7c119c5b77e0006b16b99</td>\n      <td>23</td>\n      <td>5dc8cea7659e181adb076a3f</td>\n      <td>200.230011</td>\n      <td>98.480148</td>\n      <td>0.0</td>\n      <td>5dc8cea7659e181adb076a3f_5dd7c119c5b77e0006b16...</td>\n      <td>199.041703</td>\n      <td>99.463299</td>\n      <td>200.24849</td>\n      <td>98.308360</td>\n    </tr>\n    <tr>\n      <th>250700</th>\n      <td>1574420742502</td>\n      <td>193.204880</td>\n      <td>108.001518</td>\n      <td>-1.0</td>\n      <td>193.559052</td>\n      <td>108.292297</td>\n      <td>B1</td>\n      <td>5dd7c119c5b77e0006b16b99</td>\n      <td>23</td>\n      <td>5dc8cea7659e181adb076a3f</td>\n      <td>199.220306</td>\n      <td>100.779129</td>\n      <td>0.0</td>\n      <td>5dc8cea7659e181adb076a3f_5dd7c119c5b77e0006b16...</td>\n      <td>199.015105</td>\n      <td>99.454505</td>\n      <td>200.24849</td>\n      <td>98.308360</td>\n    </tr>\n    <tr>\n      <th>250701</th>\n      <td>1574420753754</td>\n      <td>204.293488</td>\n      <td>107.835121</td>\n      <td>-1.0</td>\n      <td>203.237427</td>\n      <td>107.850967</td>\n      <td>B1</td>\n      <td>5dd7c119c5b77e0006b16b99</td>\n      <td>23</td>\n      <td>5dc8cea7659e181adb076a3f</td>\n      <td>198.818436</td>\n      <td>98.613800</td>\n      <td>0.0</td>\n      <td>5dc8cea7659e181adb076a3f_5dd7c119c5b77e0006b16...</td>\n      <td>204.504506</td>\n      <td>100.209706</td>\n      <td>206.77228</td>\n      <td>101.240380</td>\n    </tr>\n    <tr>\n      <th>250702</th>\n      <td>1574420753754</td>\n      <td>204.293488</td>\n      <td>107.835121</td>\n      <td>-1.0</td>\n      <td>201.653351</td>\n      <td>107.874741</td>\n      <td>B1</td>\n      <td>5dd7c119c5b77e0006b16b99</td>\n      <td>23</td>\n      <td>5dc8cea7659e181adb076a3f</td>\n      <td>198.016602</td>\n      <td>97.356888</td>\n      <td>0.0</td>\n      <td>5dc8cea7659e181adb076a3f_5dd7c119c5b77e0006b16...</td>\n      <td>204.485426</td>\n      <td>100.201284</td>\n      <td>206.77228</td>\n      <td>101.240380</td>\n    </tr>\n    <tr>\n      <th>250703</th>\n      <td>1574420753754</td>\n      <td>204.293488</td>\n      <td>107.835121</td>\n      <td>-1.0</td>\n      <td>200.069260</td>\n      <td>107.898514</td>\n      <td>B1</td>\n      <td>5dd7c119c5b77e0006b16b99</td>\n      <td>23</td>\n      <td>5dc8cea7659e181adb076a3f</td>\n      <td>197.034866</td>\n      <td>96.901611</td>\n      <td>0.0</td>\n      <td>5dc8cea7659e181adb076a3f_5dd7c119c5b77e0006b16...</td>\n      <td>204.475219</td>\n      <td>100.196764</td>\n      <td>206.77228</td>\n      <td>101.240380</td>\n    </tr>\n  </tbody>\n</table>\n<p>250704 rows × 18 columns</p>\n</div>"
     },
     "metadata": {},
     "execution_count": 49
    }
   ],
   "source": [
    "oofs_df['oof_min_snap_x'] = snap_df['oof_min_snap_x']\n",
    "oofs_df['oof_min_snap_y'] = snap_df['oof_min_snap_y']\n",
    "oofs_df"
   ]
  },
  {
   "cell_type": "code",
   "execution_count": 50,
   "metadata": {},
   "outputs": [
    {
     "output_type": "stream",
     "name": "stdout",
     "text": [
      "(after cost-min + snap) CV:5.404554239520159\n"
     ]
    }
   ],
   "source": [
    "# waypoint補正前のx,yでの評価\n",
    "oof_score_post_process = mean_position_error(\n",
    "    oofs_df['oof_min_snap_x'], oofs_df['oof_min_snap_y'], 0, \n",
    "    oofs_df['target_x'], oofs_df['target_y'], 0\n",
    "    )\n",
    "wandb_config['CV_cost_snap'] = oof_score_post_process\n",
    "print(f\"(after cost-min + snap) CV:{oof_score_post_process}\")"
   ]
  },
  {
   "cell_type": "code",
   "execution_count": 51,
   "metadata": {},
   "outputs": [
    {
     "output_type": "stream",
     "name": "stdout",
     "text": [
      "(after cost-min + snap) CV:6.015072469669485\n"
     ]
    }
   ],
   "source": [
    "# waypoint補正前のx,yでの評価\n",
    "oof_score_post_process = mean_position_error(\n",
    "    oofs_df['oof_min_snap_x'], oofs_df['oof_min_snap_y'], 0, \n",
    "    oofs_df['ix'], oofs_df['iy'], 0\n",
    "    )\n",
    "wandb_config['iCV_cost_snap'] = oof_score_post_process\n",
    "print(f\"(after cost-min + snap) CV:{oof_score_post_process}\")"
   ]
  },
  {
   "cell_type": "code",
   "execution_count": 52,
   "metadata": {},
   "outputs": [],
   "source": [
    "# x_pred = oofs_df[\"oof_min_snap_x\"]\n",
    "# y_pred = oofs_df[\"oof_min_snap_y\"]\n",
    "# f_pred = oofs_df[\"floor\"]  # 正解を与える\n",
    "# x_true = oofs_df[\"wifi_x\"]\n",
    "# y_true = oofs_df[\"wifi_y\"]\n",
    "# f_true = oofs_df[\"floor\"]\n",
    "# site_arr = oofs_df[\"site_id_str\"]\n",
    "# df_result_site3 = calc_metrics_site(x_pred, y_pred, f_pred, x_true, y_true, f_true, site_arr)\n",
    "# df_result_site3.style.bar(subset=['n_sample', 'score'], color=['teal'])"
   ]
  },
  {
   "cell_type": "code",
   "execution_count": 53,
   "metadata": {},
   "outputs": [],
   "source": [
    "# site_eval_report(df_result_site3)"
   ]
  },
  {
   "cell_type": "code",
   "execution_count": 54,
   "metadata": {},
   "outputs": [],
   "source": [
    "# train_waypoints = pd.read_csv('../../input/indoor-location-train-waypoints/train_waypoints.csv')\n",
    "\n",
    "new_sub = sub_process(new_sub, train_waypoints)\n",
    "new_sub = add_xy(new_sub)\n",
    "train_waypoints = add_xy(train_waypoints)\n",
    "\n",
    "ds = []\n",
    "for (site, myfloor), d in new_sub.groupby(['site','floor']):\n",
    "    true_floor_locs = train_waypoints.loc[(train_waypoints['floor'] == myfloor) &\n",
    "                                          (train_waypoints['site'] == site)] \\\n",
    "        .reset_index(drop=True)\n",
    "    if len(true_floor_locs) == 0:\n",
    "        print(f'Skipping {site} {myfloor}')\n",
    "        continue\n",
    "    d['matched_point'] = [closest_point(x, list(true_floor_locs['xy'])) for x in d['xy']]\n",
    "    d['x_'] = d['matched_point'].apply(lambda x: x[0])\n",
    "    d['y_'] = d['matched_point'].apply(lambda x: x[1])\n",
    "    ds.append(d)\n",
    "\n",
    "new_sub2 = pd.concat(ds)"
   ]
  },
  {
   "cell_type": "code",
   "execution_count": 55,
   "metadata": {},
   "outputs": [
    {
     "output_type": "execute_result",
     "data": {
      "text/plain": [
       "                                     site_path_timestamp  floor           x  \\\n",
       "0      5a0546857ecc773753327266_046cfa46be49fc1083481...      0   93.728470   \n",
       "1      5a0546857ecc773753327266_046cfa46be49fc1083481...      0   85.360190   \n",
       "2      5a0546857ecc773753327266_046cfa46be49fc1083481...      0   87.162830   \n",
       "3      5a0546857ecc773753327266_046cfa46be49fc1083481...      0   88.779945   \n",
       "4      5a0546857ecc773753327266_046cfa46be49fc1083481...      0   89.695300   \n",
       "...                                                  ...    ...         ...   \n",
       "10128  5dc8cea7659e181adb076a3f_fd64de8c4a2fc5ebb0e9f...      5  215.262270   \n",
       "10129  5dc8cea7659e181adb076a3f_fd64de8c4a2fc5ebb0e9f...      5  206.627910   \n",
       "10130  5dc8cea7659e181adb076a3f_fd64de8c4a2fc5ebb0e9f...      5  205.511300   \n",
       "10131  5dc8cea7659e181adb076a3f_fd64de8c4a2fc5ebb0e9f...      5  195.825880   \n",
       "10132  5dc8cea7659e181adb076a3f_fd64de8c4a2fc5ebb0e9f...      5  192.553130   \n",
       "\n",
       "                y  \n",
       "0       97.948860  \n",
       "1       99.075780  \n",
       "2      104.450550  \n",
       "3      108.933240  \n",
       "4      111.917800  \n",
       "...           ...  \n",
       "10128   97.973610  \n",
       "10129  102.635210  \n",
       "10130  107.841324  \n",
       "10131  109.711815  \n",
       "10132  111.863014  \n",
       "\n",
       "[10133 rows x 4 columns]"
      ],
      "text/html": "<div>\n<style scoped>\n    .dataframe tbody tr th:only-of-type {\n        vertical-align: middle;\n    }\n\n    .dataframe tbody tr th {\n        vertical-align: top;\n    }\n\n    .dataframe thead th {\n        text-align: right;\n    }\n</style>\n<table border=\"1\" class=\"dataframe\">\n  <thead>\n    <tr style=\"text-align: right;\">\n      <th></th>\n      <th>site_path_timestamp</th>\n      <th>floor</th>\n      <th>x</th>\n      <th>y</th>\n    </tr>\n  </thead>\n  <tbody>\n    <tr>\n      <th>0</th>\n      <td>5a0546857ecc773753327266_046cfa46be49fc1083481...</td>\n      <td>0</td>\n      <td>93.728470</td>\n      <td>97.948860</td>\n    </tr>\n    <tr>\n      <th>1</th>\n      <td>5a0546857ecc773753327266_046cfa46be49fc1083481...</td>\n      <td>0</td>\n      <td>85.360190</td>\n      <td>99.075780</td>\n    </tr>\n    <tr>\n      <th>2</th>\n      <td>5a0546857ecc773753327266_046cfa46be49fc1083481...</td>\n      <td>0</td>\n      <td>87.162830</td>\n      <td>104.450550</td>\n    </tr>\n    <tr>\n      <th>3</th>\n      <td>5a0546857ecc773753327266_046cfa46be49fc1083481...</td>\n      <td>0</td>\n      <td>88.779945</td>\n      <td>108.933240</td>\n    </tr>\n    <tr>\n      <th>4</th>\n      <td>5a0546857ecc773753327266_046cfa46be49fc1083481...</td>\n      <td>0</td>\n      <td>89.695300</td>\n      <td>111.917800</td>\n    </tr>\n    <tr>\n      <th>...</th>\n      <td>...</td>\n      <td>...</td>\n      <td>...</td>\n      <td>...</td>\n    </tr>\n    <tr>\n      <th>10128</th>\n      <td>5dc8cea7659e181adb076a3f_fd64de8c4a2fc5ebb0e9f...</td>\n      <td>5</td>\n      <td>215.262270</td>\n      <td>97.973610</td>\n    </tr>\n    <tr>\n      <th>10129</th>\n      <td>5dc8cea7659e181adb076a3f_fd64de8c4a2fc5ebb0e9f...</td>\n      <td>5</td>\n      <td>206.627910</td>\n      <td>102.635210</td>\n    </tr>\n    <tr>\n      <th>10130</th>\n      <td>5dc8cea7659e181adb076a3f_fd64de8c4a2fc5ebb0e9f...</td>\n      <td>5</td>\n      <td>205.511300</td>\n      <td>107.841324</td>\n    </tr>\n    <tr>\n      <th>10131</th>\n      <td>5dc8cea7659e181adb076a3f_fd64de8c4a2fc5ebb0e9f...</td>\n      <td>5</td>\n      <td>195.825880</td>\n      <td>109.711815</td>\n    </tr>\n    <tr>\n      <th>10132</th>\n      <td>5dc8cea7659e181adb076a3f_fd64de8c4a2fc5ebb0e9f...</td>\n      <td>5</td>\n      <td>192.553130</td>\n      <td>111.863014</td>\n    </tr>\n  </tbody>\n</table>\n<p>10133 rows × 4 columns</p>\n</div>"
     },
     "metadata": {},
     "execution_count": 55
    }
   ],
   "source": [
    "new_sub2 = new_sub2[['site_path_timestamp','floor','x_','y_']].sort_index()\n",
    "new_sub2 = new_sub2.rename(columns={'x_':'x', 'y_':'y'})\n",
    "new_sub2"
   ]
  },
  {
   "cell_type": "code",
   "execution_count": 56,
   "metadata": {},
   "outputs": [],
   "source": [
    "new_sub2.to_csv(RUN_NAME + '_cost_snap_sub.csv', index=False)"
   ]
  },
  {
   "cell_type": "code",
   "execution_count": 57,
   "metadata": {},
   "outputs": [],
   "source": [
    "# import matplotlib.pyplot as plt\n",
    "# df_result_site1['score'].plot(label='oof')\n",
    "# df_result_site2['score'].plot(label='cost')\n",
    "# df_result_site3['score'].plot(label='cost+snap')\n",
    "# plt.legend()\n",
    "# plt.grid()\n",
    "# plt.savefig('site_result.png')"
   ]
  },
  {
   "cell_type": "code",
   "execution_count": 58,
   "metadata": {},
   "outputs": [
    {
     "output_type": "display_data",
     "data": {
      "text/plain": "<IPython.core.display.HTML object>",
      "text/html": "<br/>Waiting for W&B process to finish, PID 1385120<br/>Program ended successfully."
     },
     "metadata": {}
    },
    {
     "output_type": "display_data",
     "data": {
      "text/plain": "VBox(children=(Label(value=' 0.00MB of 0.00MB uploaded (0.00MB deduped)\\r'), FloatProgress(value=1.0, max=1.0)…",
      "application/vnd.jupyter.widget-view+json": {
       "version_major": 2,
       "version_minor": 0,
       "model_id": "ad2b559fd34943b083c0dd97fa547594"
      }
     },
     "metadata": {}
    },
    {
     "output_type": "display_data",
     "data": {
      "text/plain": "<IPython.core.display.HTML object>",
      "text/html": "Find user logs for this run at: <code>/home/user/work/exp/exp029/wandb/run-20210426_013642-24vtndaa/logs/debug.log</code>"
     },
     "metadata": {}
    },
    {
     "output_type": "display_data",
     "data": {
      "text/plain": "<IPython.core.display.HTML object>",
      "text/html": "Find internal logs for this run at: <code>/home/user/work/exp/exp029/wandb/run-20210426_013642-24vtndaa/logs/debug-internal.log</code>"
     },
     "metadata": {}
    },
    {
     "output_type": "display_data",
     "data": {
      "text/plain": "<IPython.core.display.HTML object>",
      "text/html": "<h3>Run summary:</h3><br/><style>\n    table.wandb td:nth-child(1) { padding: 0 10px; text-align: right }\n    </style><table class=\"wandb\">\n<tr><td>Loss/val</td><td>38.72314</td></tr><tr><td>Loss/xy</td><td>38.72314</td></tr><tr><td>MPE/val</td><td>7.37674</td></tr><tr><td>iMPE/val</td><td>6.9284</td></tr><tr><td>epoch</td><td>189</td></tr><tr><td>trainer/global_step</td><td>74479</td></tr><tr><td>_runtime</td><td>831</td></tr><tr><td>_timestamp</td><td>1619369433</td></tr><tr><td>_step</td><td>189</td></tr></table>"
     },
     "metadata": {}
    },
    {
     "output_type": "display_data",
     "data": {
      "text/plain": "<IPython.core.display.HTML object>",
      "text/html": "<h3>Run history:</h3><br/><style>\n    table.wandb td:nth-child(1) { padding: 0 10px; text-align: right }\n    </style><table class=\"wandb\">\n<tr><td>Loss/val</td><td>█▅▅▅▅▂▁▁▁▁▁▁▁▁▁▁▁▁▁▁▁▁▁▁▁▁▁▁▁▁▁▁▁▁▁▁▁▁▁▁</td></tr><tr><td>Loss/xy</td><td>█▅▅▅▅▂▁▁▁▁▁▁▁▁▁▁▁▁▁▁▁▁▁▁▁▁▁▁▁▁▁▁▁▁▁▁▁▁▁▁</td></tr><tr><td>MPE/val</td><td>█▆▆▆▆▂▂▁▁▁▁▁▁▁▁▁▁▁▁▁▁▁▁▁▁▁▁▁▁▁▁▁▁▁▁▁▁▁▁▁</td></tr><tr><td>iMPE/val</td><td>█▆▆▆▆▂▂▁▁▁▁▁▁▁▁▁▁▁▁▁▁▁▁▁▁▁▁▁▁▁▁▁▁▁▁▁▁▁▁▁</td></tr><tr><td>epoch</td><td>▁▁▁▂▂▂▂▂▂▃▃▃▃▃▃▄▄▄▄▄▅▅▅▅▅▅▆▆▆▆▆▇▇▇▇▇▇███</td></tr><tr><td>trainer/global_step</td><td>▁▁▁▂▂▂▂▂▂▃▃▃▃▃▃▄▄▄▄▄▅▅▅▅▅▅▆▆▆▆▆▇▇▇▇▇▇███</td></tr><tr><td>_runtime</td><td>▁▁▁▂▂▂▂▂▂▃▃▃▃▃▃▄▄▄▄▄▅▅▅▅▅▅▆▆▆▆▆▇▇▇▇▇▇███</td></tr><tr><td>_timestamp</td><td>▁▁▁▂▂▂▂▂▂▃▃▃▃▃▃▄▄▄▄▄▅▅▅▅▅▅▆▆▆▆▆▇▇▇▇▇▇███</td></tr><tr><td>_step</td><td>▁▁▁▂▂▂▂▂▂▃▃▃▃▃▃▄▄▄▄▄▅▅▅▅▅▅▆▆▆▆▆▇▇▇▇▇▇███</td></tr></table><br/>"
     },
     "metadata": {}
    },
    {
     "output_type": "display_data",
     "data": {
      "text/plain": "<IPython.core.display.HTML object>",
      "text/html": "Synced 5 W&B file(s), 1 media file(s), 0 artifact file(s) and 0 other file(s)"
     },
     "metadata": {}
    },
    {
     "output_type": "display_data",
     "data": {
      "text/plain": "<IPython.core.display.HTML object>",
      "text/html": "\n                    <br/>Synced <strong style=\"color:#cdcd00\">treasured-dragon-547</strong>: <a href=\"https://wandb.ai/kuto5046/indoor/runs/24vtndaa\" target=\"_blank\">https://wandb.ai/kuto5046/indoor/runs/24vtndaa</a><br/>\n                "
     },
     "metadata": {}
    }
   ],
   "source": [
    "wandb.finish()"
   ]
  },
  {
   "cell_type": "code",
   "execution_count": null,
   "metadata": {},
   "outputs": [],
   "source": []
  },
  {
   "cell_type": "code",
   "execution_count": null,
   "metadata": {},
   "outputs": [],
   "source": []
  }
 ],
 "metadata": {
  "kernelspec": {
   "display_name": "Python 3",
   "language": "python",
   "name": "python3"
  },
  "language_info": {
   "codemirror_mode": {
    "name": "ipython",
    "version": 3
   },
   "file_extension": ".py",
   "mimetype": "text/x-python",
   "name": "python",
   "nbconvert_exporter": "python",
   "pygments_lexer": "ipython3",
   "version": "3.8.5"
  }
 },
 "nbformat": 4,
 "nbformat_minor": 4
}