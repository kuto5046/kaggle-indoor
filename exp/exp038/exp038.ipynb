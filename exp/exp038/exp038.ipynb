{
 "cells": [
  {
   "cell_type": "code",
   "execution_count": 1,
   "metadata": {},
   "outputs": [],
   "source": [
    "import os\n",
    "import sys\n",
    "import glob\n",
    "import yaml\n",
    "import pickle\n",
    "import random\n",
    "\n",
    "import numpy as np\n",
    "import pandas as pd\n",
    "import scipy.stats as stats\n",
    "from pathlib import Path\n",
    "import matplotlib.pyplot as plt\n",
    "from sklearn import model_selection\n",
    "from sklearn.preprocessing import StandardScaler, LabelEncoder\n",
    "\n",
    "import wandb\n",
    "import torch\n",
    "from torch import nn\n",
    "import torch.nn.functional as F\n",
    "from torch.utils.data import Dataset, DataLoader\n",
    "import torch.optim as optim\n",
    "\n",
    "import pytorch_lightning as pl\n",
    "from pytorch_lightning.loggers import WandbLogger\n",
    "from pytorch_lightning.callbacks import ModelCheckpoint\n",
    "from pytorch_lightning.callbacks import EarlyStopping\n",
    "from pytorch_lightning.utilities.seed import seed_everything"
   ]
  },
  {
   "cell_type": "markdown",
   "metadata": {},
   "source": [
    "## config"
   ]
  },
  {
   "cell_type": "code",
   "execution_count": 2,
   "metadata": {},
   "outputs": [
    {
     "output_type": "stream",
     "name": "stderr",
     "text": [
      "Global seed set to 1996\n"
     ]
    },
    {
     "output_type": "execute_result",
     "data": {
      "text/plain": [
       "1996"
      ]
     },
     "metadata": {},
     "execution_count": 2
    }
   ],
   "source": [
    "# config\n",
    "with open('config.yaml') as f:\n",
    "    config = yaml.safe_load(f)\n",
    "\n",
    "# globals variable\n",
    "SEED = config['globals']['seed']\n",
    "MAX_EPOCHS = config['globals']['max_epochs']\n",
    "N_SPLITS = config['globals']['n_splits']\n",
    "USE_FOLDS = config['globals']['use_folds']\n",
    "DEBUG = config['globals']['debug']\n",
    "EXP_MESSAGE = config['globals']['exp_message']\n",
    "NOTES = config['globals']['notes']\n",
    "MODEL_SAVE = config['globals']['model_save']\n",
    "ONLY_PRED = config['globals']['only_pred']\n",
    "PRETRAINED = config['globals']['pretrained']\n",
    "PRETRAINED_PATH = config['globals']['pretrained_path']\n",
    "EXP_NAME = str(Path().resolve()).split('/')[-1]\n",
    "\n",
    "# seed\n",
    "seed_everything(SEED)"
   ]
  },
  {
   "cell_type": "code",
   "execution_count": 3,
   "metadata": {},
   "outputs": [
    {
     "output_type": "execute_result",
     "data": {
      "text/plain": [
       "'exp038'"
      ]
     },
     "metadata": {},
     "execution_count": 3
    }
   ],
   "source": [
    "EXP_NAME"
   ]
  },
  {
   "cell_type": "code",
   "execution_count": 4,
   "metadata": {},
   "outputs": [
    {
     "output_type": "stream",
     "name": "stdout",
     "text": [
      "\u001b[34m\u001b[1mwandb\u001b[0m: Appending key for api.wandb.ai to your netrc file: /home/user/.netrc\n"
     ]
    }
   ],
   "source": [
    "!wandb login 1bb2d0449c11d8b987e25c38b9d8dda176310fb6"
   ]
  },
  {
   "cell_type": "markdown",
   "metadata": {},
   "source": [
    "## read data"
   ]
  },
  {
   "cell_type": "code",
   "execution_count": 5,
   "metadata": {},
   "outputs": [],
   "source": [
    "# waypointを補正したdataset\n",
    "root_dir = Path('../../input/')\n",
    "with open(root_dir/'2kaido_wifi_dataset_v3/train_10000_5000_7.pkl', 'rb') as f:\n",
    "  train_df = pickle.load(f)\n",
    "\n",
    "with open(root_dir/'2kaido_wifi_dataset_v3/test_10000_5000_7.pkl', 'rb') as f:\n",
    "  test_df = pickle.load(f)\n",
    "\n",
    "sub_df = pd.read_csv(root_dir/'indoor-location-navigation/sample_submission.csv', index_col=0)"
   ]
  },
  {
   "cell_type": "code",
   "execution_count": 6,
   "metadata": {},
   "outputs": [],
   "source": [
    "train_df = train_df.astype({'timestamp':int,'x': np.float32, 'y': np.float32, 'floor':np.float32, 'ix':np.float32, 'iy':np.float32})\n",
    "test_df = test_df.astype({'timestamp':int})"
   ]
  },
  {
   "cell_type": "code",
   "execution_count": 7,
   "metadata": {},
   "outputs": [],
   "source": [
    "train_df = train_df.reset_index().rename(columns={'index':'id'})"
   ]
  },
  {
   "cell_type": "code",
   "execution_count": 8,
   "metadata": {},
   "outputs": [
    {
     "output_type": "execute_result",
     "data": {
      "text/plain": [
       "<AxesSubplot:>"
      ]
     },
     "metadata": {},
     "execution_count": 8
    },
    {
     "output_type": "display_data",
     "data": {
      "text/plain": "<Figure size 432x288 with 1 Axes>",
      "image/svg+xml": "<?xml version=\"1.0\" encoding=\"utf-8\" standalone=\"no\"?>\n<!DOCTYPE svg PUBLIC \"-//W3C//DTD SVG 1.1//EN\"\n  \"http://www.w3.org/Graphics/SVG/1.1/DTD/svg11.dtd\">\n<!-- Created with matplotlib (https://matplotlib.org/) -->\n<svg height=\"248.518125pt\" version=\"1.1\" viewBox=\"0 0 388.0125 248.518125\" width=\"388.0125pt\" xmlns=\"http://www.w3.org/2000/svg\" xmlns:xlink=\"http://www.w3.org/1999/xlink\">\n <metadata>\n  <rdf:RDF xmlns:cc=\"http://creativecommons.org/ns#\" xmlns:dc=\"http://purl.org/dc/elements/1.1/\" xmlns:rdf=\"http://www.w3.org/1999/02/22-rdf-syntax-ns#\">\n   <cc:Work>\n    <dc:type rdf:resource=\"http://purl.org/dc/dcmitype/StillImage\"/>\n    <dc:date>2021-04-28T13:58:55.119933</dc:date>\n    <dc:format>image/svg+xml</dc:format>\n    <dc:creator>\n     <cc:Agent>\n      <dc:title>Matplotlib v3.3.3, https://matplotlib.org/</dc:title>\n     </cc:Agent>\n    </dc:creator>\n   </cc:Work>\n  </rdf:RDF>\n </metadata>\n <defs>\n  <style type=\"text/css\">*{stroke-linecap:butt;stroke-linejoin:round;}</style>\n </defs>\n <g id=\"figure_1\">\n  <g id=\"patch_1\">\n   <path d=\"M 0 248.518125 \nL 388.0125 248.518125 \nL 388.0125 0 \nL 0 0 \nz\n\" style=\"fill:none;\"/>\n  </g>\n  <g id=\"axes_1\">\n   <g id=\"patch_2\">\n    <path d=\"M 46.0125 224.64 \nL 380.8125 224.64 \nL 380.8125 7.2 \nL 46.0125 7.2 \nz\n\" style=\"fill:#ffffff;\"/>\n   </g>\n   <g id=\"patch_3\">\n    <path clip-path=\"url(#p69c0ef97f8)\" d=\"M 61.230682 224.64 \nL 76.448864 224.64 \nL 76.448864 177.458337 \nL 61.230682 177.458337 \nz\n\" style=\"fill:#1f77b4;\"/>\n   </g>\n   <g id=\"patch_4\">\n    <path clip-path=\"url(#p69c0ef97f8)\" d=\"M 76.448864 224.64 \nL 91.667045 224.64 \nL 91.667045 157.544949 \nL 76.448864 157.544949 \nz\n\" style=\"fill:#1f77b4;\"/>\n   </g>\n   <g id=\"patch_5\">\n    <path clip-path=\"url(#p69c0ef97f8)\" d=\"M 91.667045 224.64 \nL 106.885227 224.64 \nL 106.885227 122.966839 \nL 91.667045 122.966839 \nz\n\" style=\"fill:#1f77b4;\"/>\n   </g>\n   <g id=\"patch_6\">\n    <path clip-path=\"url(#p69c0ef97f8)\" d=\"M 106.885227 224.64 \nL 122.103409 224.64 \nL 122.103409 130.806046 \nL 106.885227 130.806046 \nz\n\" style=\"fill:#1f77b4;\"/>\n   </g>\n   <g id=\"patch_7\">\n    <path clip-path=\"url(#p69c0ef97f8)\" d=\"M 122.103409 224.64 \nL 137.321591 224.64 \nL 137.321591 116.130059 \nL 122.103409 116.130059 \nz\n\" style=\"fill:#1f77b4;\"/>\n   </g>\n   <g id=\"patch_8\">\n    <path clip-path=\"url(#p69c0ef97f8)\" d=\"M 137.321591 224.64 \nL 152.539773 224.64 \nL 152.539773 80.729733 \nL 137.321591 80.729733 \nz\n\" style=\"fill:#1f77b4;\"/>\n   </g>\n   <g id=\"patch_9\">\n    <path clip-path=\"url(#p69c0ef97f8)\" d=\"M 152.539773 224.64 \nL 167.757955 224.64 \nL 167.757955 17.554286 \nL 152.539773 17.554286 \nz\n\" style=\"fill:#1f77b4;\"/>\n   </g>\n   <g id=\"patch_10\">\n    <path clip-path=\"url(#p69c0ef97f8)\" d=\"M 167.757955 224.64 \nL 182.976136 224.64 \nL 182.976136 62.0553 \nL 167.757955 62.0553 \nz\n\" style=\"fill:#1f77b4;\"/>\n   </g>\n   <g id=\"patch_11\">\n    <path clip-path=\"url(#p69c0ef97f8)\" d=\"M 182.976136 224.64 \nL 198.194318 224.64 \nL 198.194318 60.005393 \nL 182.976136 60.005393 \nz\n\" style=\"fill:#1f77b4;\"/>\n   </g>\n   <g id=\"patch_12\">\n    <path clip-path=\"url(#p69c0ef97f8)\" d=\"M 198.194318 224.64 \nL 213.4125 224.64 \nL 213.4125 63.789838 \nL 198.194318 63.789838 \nz\n\" style=\"fill:#1f77b4;\"/>\n   </g>\n   <g id=\"patch_13\">\n    <path clip-path=\"url(#p69c0ef97f8)\" d=\"M 213.4125 224.64 \nL 228.630682 224.64 \nL 228.630682 39.810425 \nL 213.4125 39.810425 \nz\n\" style=\"fill:#1f77b4;\"/>\n   </g>\n   <g id=\"patch_14\">\n    <path clip-path=\"url(#p69c0ef97f8)\" d=\"M 228.630682 224.64 \nL 243.848864 224.64 \nL 243.848864 50.893441 \nL 228.630682 50.893441 \nz\n\" style=\"fill:#1f77b4;\"/>\n   </g>\n   <g id=\"patch_15\">\n    <path clip-path=\"url(#p69c0ef97f8)\" d=\"M 243.848864 224.64 \nL 259.067045 224.64 \nL 259.067045 56.006947 \nL 243.848864 56.006947 \nz\n\" style=\"fill:#1f77b4;\"/>\n   </g>\n   <g id=\"patch_16\">\n    <path clip-path=\"url(#p69c0ef97f8)\" d=\"M 259.067045 224.64 \nL 274.285227 224.64 \nL 274.285227 71.43757 \nL 259.067045 71.43757 \nz\n\" style=\"fill:#1f77b4;\"/>\n   </g>\n   <g id=\"patch_17\">\n    <path clip-path=\"url(#p69c0ef97f8)\" d=\"M 274.285227 224.64 \nL 289.503409 224.64 \nL 289.503409 87.442617 \nL 274.285227 87.442617 \nz\n\" style=\"fill:#1f77b4;\"/>\n   </g>\n   <g id=\"patch_18\">\n    <path clip-path=\"url(#p69c0ef97f8)\" d=\"M 289.503409 224.64 \nL 304.721591 224.64 \nL 304.721591 108.166957 \nL 289.503409 108.166957 \nz\n\" style=\"fill:#1f77b4;\"/>\n   </g>\n   <g id=\"patch_19\">\n    <path clip-path=\"url(#p69c0ef97f8)\" d=\"M 304.721591 224.64 \nL 319.939773 224.64 \nL 319.939773 122.189676 \nL 304.721591 122.189676 \nz\n\" style=\"fill:#1f77b4;\"/>\n   </g>\n   <g id=\"patch_20\">\n    <path clip-path=\"url(#p69c0ef97f8)\" d=\"M 319.939773 224.64 \nL 335.157955 224.64 \nL 335.157955 144.963923 \nL 319.939773 144.963923 \nz\n\" style=\"fill:#1f77b4;\"/>\n   </g>\n   <g id=\"patch_21\">\n    <path clip-path=\"url(#p69c0ef97f8)\" d=\"M 335.157955 224.64 \nL 350.376136 224.64 \nL 350.376136 161.791186 \nL 335.157955 161.791186 \nz\n\" style=\"fill:#1f77b4;\"/>\n   </g>\n   <g id=\"patch_22\">\n    <path clip-path=\"url(#p69c0ef97f8)\" d=\"M 350.376136 224.64 \nL 365.594318 224.64 \nL 365.594318 177.908866 \nL 350.376136 177.908866 \nz\n\" style=\"fill:#1f77b4;\"/>\n   </g>\n   <g id=\"matplotlib.axis_1\">\n    <g id=\"xtick_1\">\n     <g id=\"line2d_1\">\n      <path clip-path=\"url(#p69c0ef97f8)\" d=\"M 91.667045 224.64 \nL 91.667045 7.2 \n\" style=\"fill:none;stroke:#b0b0b0;stroke-linecap:square;stroke-width:0.8;\"/>\n     </g>\n     <g id=\"line2d_2\">\n      <defs>\n       <path d=\"M 0 0 \nL 0 3.5 \n\" id=\"md575b314c6\" style=\"stroke:#000000;stroke-width:0.8;\"/>\n      </defs>\n      <g>\n       <use style=\"stroke:#000000;stroke-width:0.8;\" x=\"91.667045\" xlink:href=\"#md575b314c6\" y=\"224.64\"/>\n      </g>\n     </g>\n     <g id=\"text_1\">\n      <!-- −4000 -->\n      <g transform=\"translate(74.752202 239.238437)scale(0.1 -0.1)\">\n       <defs>\n        <path d=\"M 10.59375 35.5 \nL 73.1875 35.5 \nL 73.1875 27.203125 \nL 10.59375 27.203125 \nz\n\" id=\"DejaVuSans-8722\"/>\n        <path d=\"M 37.796875 64.3125 \nL 12.890625 25.390625 \nL 37.796875 25.390625 \nz\nM 35.203125 72.90625 \nL 47.609375 72.90625 \nL 47.609375 25.390625 \nL 58.015625 25.390625 \nL 58.015625 17.1875 \nL 47.609375 17.1875 \nL 47.609375 0 \nL 37.796875 0 \nL 37.796875 17.1875 \nL 4.890625 17.1875 \nL 4.890625 26.703125 \nz\n\" id=\"DejaVuSans-52\"/>\n        <path d=\"M 31.78125 66.40625 \nQ 24.171875 66.40625 20.328125 58.90625 \nQ 16.5 51.421875 16.5 36.375 \nQ 16.5 21.390625 20.328125 13.890625 \nQ 24.171875 6.390625 31.78125 6.390625 \nQ 39.453125 6.390625 43.28125 13.890625 \nQ 47.125 21.390625 47.125 36.375 \nQ 47.125 51.421875 43.28125 58.90625 \nQ 39.453125 66.40625 31.78125 66.40625 \nz\nM 31.78125 74.21875 \nQ 44.046875 74.21875 50.515625 64.515625 \nQ 56.984375 54.828125 56.984375 36.375 \nQ 56.984375 17.96875 50.515625 8.265625 \nQ 44.046875 -1.421875 31.78125 -1.421875 \nQ 19.53125 -1.421875 13.0625 8.265625 \nQ 6.59375 17.96875 6.59375 36.375 \nQ 6.59375 54.828125 13.0625 64.515625 \nQ 19.53125 74.21875 31.78125 74.21875 \nz\n\" id=\"DejaVuSans-48\"/>\n       </defs>\n       <use xlink:href=\"#DejaVuSans-8722\"/>\n       <use x=\"83.789062\" xlink:href=\"#DejaVuSans-52\"/>\n       <use x=\"147.412109\" xlink:href=\"#DejaVuSans-48\"/>\n       <use x=\"211.035156\" xlink:href=\"#DejaVuSans-48\"/>\n       <use x=\"274.658203\" xlink:href=\"#DejaVuSans-48\"/>\n      </g>\n     </g>\n    </g>\n    <g id=\"xtick_2\">\n     <g id=\"line2d_3\">\n      <path clip-path=\"url(#p69c0ef97f8)\" d=\"M 152.539773 224.64 \nL 152.539773 7.2 \n\" style=\"fill:none;stroke:#b0b0b0;stroke-linecap:square;stroke-width:0.8;\"/>\n     </g>\n     <g id=\"line2d_4\">\n      <g>\n       <use style=\"stroke:#000000;stroke-width:0.8;\" x=\"152.539773\" xlink:href=\"#md575b314c6\" y=\"224.64\"/>\n      </g>\n     </g>\n     <g id=\"text_2\">\n      <!-- −2000 -->\n      <g transform=\"translate(135.624929 239.238437)scale(0.1 -0.1)\">\n       <defs>\n        <path d=\"M 19.1875 8.296875 \nL 53.609375 8.296875 \nL 53.609375 0 \nL 7.328125 0 \nL 7.328125 8.296875 \nQ 12.9375 14.109375 22.625 23.890625 \nQ 32.328125 33.6875 34.8125 36.53125 \nQ 39.546875 41.84375 41.421875 45.53125 \nQ 43.3125 49.21875 43.3125 52.78125 \nQ 43.3125 58.59375 39.234375 62.25 \nQ 35.15625 65.921875 28.609375 65.921875 \nQ 23.96875 65.921875 18.8125 64.3125 \nQ 13.671875 62.703125 7.8125 59.421875 \nL 7.8125 69.390625 \nQ 13.765625 71.78125 18.9375 73 \nQ 24.125 74.21875 28.421875 74.21875 \nQ 39.75 74.21875 46.484375 68.546875 \nQ 53.21875 62.890625 53.21875 53.421875 \nQ 53.21875 48.921875 51.53125 44.890625 \nQ 49.859375 40.875 45.40625 35.40625 \nQ 44.1875 33.984375 37.640625 27.21875 \nQ 31.109375 20.453125 19.1875 8.296875 \nz\n\" id=\"DejaVuSans-50\"/>\n       </defs>\n       <use xlink:href=\"#DejaVuSans-8722\"/>\n       <use x=\"83.789062\" xlink:href=\"#DejaVuSans-50\"/>\n       <use x=\"147.412109\" xlink:href=\"#DejaVuSans-48\"/>\n       <use x=\"211.035156\" xlink:href=\"#DejaVuSans-48\"/>\n       <use x=\"274.658203\" xlink:href=\"#DejaVuSans-48\"/>\n      </g>\n     </g>\n    </g>\n    <g id=\"xtick_3\">\n     <g id=\"line2d_5\">\n      <path clip-path=\"url(#p69c0ef97f8)\" d=\"M 213.4125 224.64 \nL 213.4125 7.2 \n\" style=\"fill:none;stroke:#b0b0b0;stroke-linecap:square;stroke-width:0.8;\"/>\n     </g>\n     <g id=\"line2d_6\">\n      <g>\n       <use style=\"stroke:#000000;stroke-width:0.8;\" x=\"213.4125\" xlink:href=\"#md575b314c6\" y=\"224.64\"/>\n      </g>\n     </g>\n     <g id=\"text_3\">\n      <!-- 0 -->\n      <g transform=\"translate(210.23125 239.238437)scale(0.1 -0.1)\">\n       <use xlink:href=\"#DejaVuSans-48\"/>\n      </g>\n     </g>\n    </g>\n    <g id=\"xtick_4\">\n     <g id=\"line2d_7\">\n      <path clip-path=\"url(#p69c0ef97f8)\" d=\"M 274.285227 224.64 \nL 274.285227 7.2 \n\" style=\"fill:none;stroke:#b0b0b0;stroke-linecap:square;stroke-width:0.8;\"/>\n     </g>\n     <g id=\"line2d_8\">\n      <g>\n       <use style=\"stroke:#000000;stroke-width:0.8;\" x=\"274.285227\" xlink:href=\"#md575b314c6\" y=\"224.64\"/>\n      </g>\n     </g>\n     <g id=\"text_4\">\n      <!-- 2000 -->\n      <g transform=\"translate(261.560227 239.238437)scale(0.1 -0.1)\">\n       <use xlink:href=\"#DejaVuSans-50\"/>\n       <use x=\"63.623047\" xlink:href=\"#DejaVuSans-48\"/>\n       <use x=\"127.246094\" xlink:href=\"#DejaVuSans-48\"/>\n       <use x=\"190.869141\" xlink:href=\"#DejaVuSans-48\"/>\n      </g>\n     </g>\n    </g>\n    <g id=\"xtick_5\">\n     <g id=\"line2d_9\">\n      <path clip-path=\"url(#p69c0ef97f8)\" d=\"M 335.157955 224.64 \nL 335.157955 7.2 \n\" style=\"fill:none;stroke:#b0b0b0;stroke-linecap:square;stroke-width:0.8;\"/>\n     </g>\n     <g id=\"line2d_10\">\n      <g>\n       <use style=\"stroke:#000000;stroke-width:0.8;\" x=\"335.157955\" xlink:href=\"#md575b314c6\" y=\"224.64\"/>\n      </g>\n     </g>\n     <g id=\"text_5\">\n      <!-- 4000 -->\n      <g transform=\"translate(322.432955 239.238437)scale(0.1 -0.1)\">\n       <use xlink:href=\"#DejaVuSans-52\"/>\n       <use x=\"63.623047\" xlink:href=\"#DejaVuSans-48\"/>\n       <use x=\"127.246094\" xlink:href=\"#DejaVuSans-48\"/>\n       <use x=\"190.869141\" xlink:href=\"#DejaVuSans-48\"/>\n      </g>\n     </g>\n    </g>\n   </g>\n   <g id=\"matplotlib.axis_2\">\n    <g id=\"ytick_1\">\n     <g id=\"line2d_11\">\n      <path clip-path=\"url(#p69c0ef97f8)\" d=\"M 46.0125 224.64 \nL 380.8125 224.64 \n\" style=\"fill:none;stroke:#b0b0b0;stroke-linecap:square;stroke-width:0.8;\"/>\n     </g>\n     <g id=\"line2d_12\">\n      <defs>\n       <path d=\"M 0 0 \nL -3.5 0 \n\" id=\"m47aa1c78f7\" style=\"stroke:#000000;stroke-width:0.8;\"/>\n      </defs>\n      <g>\n       <use style=\"stroke:#000000;stroke-width:0.8;\" x=\"46.0125\" xlink:href=\"#m47aa1c78f7\" y=\"224.64\"/>\n      </g>\n     </g>\n     <g id=\"text_6\">\n      <!-- 0 -->\n      <g transform=\"translate(32.65 228.439219)scale(0.1 -0.1)\">\n       <use xlink:href=\"#DejaVuSans-48\"/>\n      </g>\n     </g>\n    </g>\n    <g id=\"ytick_2\">\n     <g id=\"line2d_13\">\n      <path clip-path=\"url(#p69c0ef97f8)\" d=\"M 46.0125 196.481929 \nL 380.8125 196.481929 \n\" style=\"fill:none;stroke:#b0b0b0;stroke-linecap:square;stroke-width:0.8;\"/>\n     </g>\n     <g id=\"line2d_14\">\n      <g>\n       <use style=\"stroke:#000000;stroke-width:0.8;\" x=\"46.0125\" xlink:href=\"#m47aa1c78f7\" y=\"196.481929\"/>\n      </g>\n     </g>\n     <g id=\"text_7\">\n      <!-- 2500 -->\n      <g transform=\"translate(13.5625 200.281148)scale(0.1 -0.1)\">\n       <defs>\n        <path d=\"M 10.796875 72.90625 \nL 49.515625 72.90625 \nL 49.515625 64.59375 \nL 19.828125 64.59375 \nL 19.828125 46.734375 \nQ 21.96875 47.46875 24.109375 47.828125 \nQ 26.265625 48.1875 28.421875 48.1875 \nQ 40.625 48.1875 47.75 41.5 \nQ 54.890625 34.8125 54.890625 23.390625 \nQ 54.890625 11.625 47.5625 5.09375 \nQ 40.234375 -1.421875 26.90625 -1.421875 \nQ 22.3125 -1.421875 17.546875 -0.640625 \nQ 12.796875 0.140625 7.71875 1.703125 \nL 7.71875 11.625 \nQ 12.109375 9.234375 16.796875 8.0625 \nQ 21.484375 6.890625 26.703125 6.890625 \nQ 35.15625 6.890625 40.078125 11.328125 \nQ 45.015625 15.765625 45.015625 23.390625 \nQ 45.015625 31 40.078125 35.4375 \nQ 35.15625 39.890625 26.703125 39.890625 \nQ 22.75 39.890625 18.8125 39.015625 \nQ 14.890625 38.140625 10.796875 36.28125 \nz\n\" id=\"DejaVuSans-53\"/>\n       </defs>\n       <use xlink:href=\"#DejaVuSans-50\"/>\n       <use x=\"63.623047\" xlink:href=\"#DejaVuSans-53\"/>\n       <use x=\"127.246094\" xlink:href=\"#DejaVuSans-48\"/>\n       <use x=\"190.869141\" xlink:href=\"#DejaVuSans-48\"/>\n      </g>\n     </g>\n    </g>\n    <g id=\"ytick_3\">\n     <g id=\"line2d_15\">\n      <path clip-path=\"url(#p69c0ef97f8)\" d=\"M 46.0125 168.323859 \nL 380.8125 168.323859 \n\" style=\"fill:none;stroke:#b0b0b0;stroke-linecap:square;stroke-width:0.8;\"/>\n     </g>\n     <g id=\"line2d_16\">\n      <g>\n       <use style=\"stroke:#000000;stroke-width:0.8;\" x=\"46.0125\" xlink:href=\"#m47aa1c78f7\" y=\"168.323859\"/>\n      </g>\n     </g>\n     <g id=\"text_8\">\n      <!-- 5000 -->\n      <g transform=\"translate(13.5625 172.123078)scale(0.1 -0.1)\">\n       <use xlink:href=\"#DejaVuSans-53\"/>\n       <use x=\"63.623047\" xlink:href=\"#DejaVuSans-48\"/>\n       <use x=\"127.246094\" xlink:href=\"#DejaVuSans-48\"/>\n       <use x=\"190.869141\" xlink:href=\"#DejaVuSans-48\"/>\n      </g>\n     </g>\n    </g>\n    <g id=\"ytick_4\">\n     <g id=\"line2d_17\">\n      <path clip-path=\"url(#p69c0ef97f8)\" d=\"M 46.0125 140.165788 \nL 380.8125 140.165788 \n\" style=\"fill:none;stroke:#b0b0b0;stroke-linecap:square;stroke-width:0.8;\"/>\n     </g>\n     <g id=\"line2d_18\">\n      <g>\n       <use style=\"stroke:#000000;stroke-width:0.8;\" x=\"46.0125\" xlink:href=\"#m47aa1c78f7\" y=\"140.165788\"/>\n      </g>\n     </g>\n     <g id=\"text_9\">\n      <!-- 7500 -->\n      <g transform=\"translate(13.5625 143.965007)scale(0.1 -0.1)\">\n       <defs>\n        <path d=\"M 8.203125 72.90625 \nL 55.078125 72.90625 \nL 55.078125 68.703125 \nL 28.609375 0 \nL 18.3125 0 \nL 43.21875 64.59375 \nL 8.203125 64.59375 \nz\n\" id=\"DejaVuSans-55\"/>\n       </defs>\n       <use xlink:href=\"#DejaVuSans-55\"/>\n       <use x=\"63.623047\" xlink:href=\"#DejaVuSans-53\"/>\n       <use x=\"127.246094\" xlink:href=\"#DejaVuSans-48\"/>\n       <use x=\"190.869141\" xlink:href=\"#DejaVuSans-48\"/>\n      </g>\n     </g>\n    </g>\n    <g id=\"ytick_5\">\n     <g id=\"line2d_19\">\n      <path clip-path=\"url(#p69c0ef97f8)\" d=\"M 46.0125 112.007718 \nL 380.8125 112.007718 \n\" style=\"fill:none;stroke:#b0b0b0;stroke-linecap:square;stroke-width:0.8;\"/>\n     </g>\n     <g id=\"line2d_20\">\n      <g>\n       <use style=\"stroke:#000000;stroke-width:0.8;\" x=\"46.0125\" xlink:href=\"#m47aa1c78f7\" y=\"112.007718\"/>\n      </g>\n     </g>\n     <g id=\"text_10\">\n      <!-- 10000 -->\n      <g transform=\"translate(7.2 115.806936)scale(0.1 -0.1)\">\n       <defs>\n        <path d=\"M 12.40625 8.296875 \nL 28.515625 8.296875 \nL 28.515625 63.921875 \nL 10.984375 60.40625 \nL 10.984375 69.390625 \nL 28.421875 72.90625 \nL 38.28125 72.90625 \nL 38.28125 8.296875 \nL 54.390625 8.296875 \nL 54.390625 0 \nL 12.40625 0 \nz\n\" id=\"DejaVuSans-49\"/>\n       </defs>\n       <use xlink:href=\"#DejaVuSans-49\"/>\n       <use x=\"63.623047\" xlink:href=\"#DejaVuSans-48\"/>\n       <use x=\"127.246094\" xlink:href=\"#DejaVuSans-48\"/>\n       <use x=\"190.869141\" xlink:href=\"#DejaVuSans-48\"/>\n       <use x=\"254.492188\" xlink:href=\"#DejaVuSans-48\"/>\n      </g>\n     </g>\n    </g>\n    <g id=\"ytick_6\">\n     <g id=\"line2d_21\">\n      <path clip-path=\"url(#p69c0ef97f8)\" d=\"M 46.0125 83.849647 \nL 380.8125 83.849647 \n\" style=\"fill:none;stroke:#b0b0b0;stroke-linecap:square;stroke-width:0.8;\"/>\n     </g>\n     <g id=\"line2d_22\">\n      <g>\n       <use style=\"stroke:#000000;stroke-width:0.8;\" x=\"46.0125\" xlink:href=\"#m47aa1c78f7\" y=\"83.849647\"/>\n      </g>\n     </g>\n     <g id=\"text_11\">\n      <!-- 12500 -->\n      <g transform=\"translate(7.2 87.648866)scale(0.1 -0.1)\">\n       <use xlink:href=\"#DejaVuSans-49\"/>\n       <use x=\"63.623047\" xlink:href=\"#DejaVuSans-50\"/>\n       <use x=\"127.246094\" xlink:href=\"#DejaVuSans-53\"/>\n       <use x=\"190.869141\" xlink:href=\"#DejaVuSans-48\"/>\n       <use x=\"254.492188\" xlink:href=\"#DejaVuSans-48\"/>\n      </g>\n     </g>\n    </g>\n    <g id=\"ytick_7\">\n     <g id=\"line2d_23\">\n      <path clip-path=\"url(#p69c0ef97f8)\" d=\"M 46.0125 55.691577 \nL 380.8125 55.691577 \n\" style=\"fill:none;stroke:#b0b0b0;stroke-linecap:square;stroke-width:0.8;\"/>\n     </g>\n     <g id=\"line2d_24\">\n      <g>\n       <use style=\"stroke:#000000;stroke-width:0.8;\" x=\"46.0125\" xlink:href=\"#m47aa1c78f7\" y=\"55.691577\"/>\n      </g>\n     </g>\n     <g id=\"text_12\">\n      <!-- 15000 -->\n      <g transform=\"translate(7.2 59.490795)scale(0.1 -0.1)\">\n       <use xlink:href=\"#DejaVuSans-49\"/>\n       <use x=\"63.623047\" xlink:href=\"#DejaVuSans-53\"/>\n       <use x=\"127.246094\" xlink:href=\"#DejaVuSans-48\"/>\n       <use x=\"190.869141\" xlink:href=\"#DejaVuSans-48\"/>\n       <use x=\"254.492188\" xlink:href=\"#DejaVuSans-48\"/>\n      </g>\n     </g>\n    </g>\n    <g id=\"ytick_8\">\n     <g id=\"line2d_25\">\n      <path clip-path=\"url(#p69c0ef97f8)\" d=\"M 46.0125 27.533506 \nL 380.8125 27.533506 \n\" style=\"fill:none;stroke:#b0b0b0;stroke-linecap:square;stroke-width:0.8;\"/>\n     </g>\n     <g id=\"line2d_26\">\n      <g>\n       <use style=\"stroke:#000000;stroke-width:0.8;\" x=\"46.0125\" xlink:href=\"#m47aa1c78f7\" y=\"27.533506\"/>\n      </g>\n     </g>\n     <g id=\"text_13\">\n      <!-- 17500 -->\n      <g transform=\"translate(7.2 31.332725)scale(0.1 -0.1)\">\n       <use xlink:href=\"#DejaVuSans-49\"/>\n       <use x=\"63.623047\" xlink:href=\"#DejaVuSans-55\"/>\n       <use x=\"127.246094\" xlink:href=\"#DejaVuSans-53\"/>\n       <use x=\"190.869141\" xlink:href=\"#DejaVuSans-48\"/>\n       <use x=\"254.492188\" xlink:href=\"#DejaVuSans-48\"/>\n      </g>\n     </g>\n    </g>\n   </g>\n   <g id=\"patch_23\">\n    <path d=\"M 46.0125 224.64 \nL 46.0125 7.2 \n\" style=\"fill:none;stroke:#000000;stroke-linecap:square;stroke-linejoin:miter;stroke-width:0.8;\"/>\n   </g>\n   <g id=\"patch_24\">\n    <path d=\"M 380.8125 224.64 \nL 380.8125 7.2 \n\" style=\"fill:none;stroke:#000000;stroke-linecap:square;stroke-linejoin:miter;stroke-width:0.8;\"/>\n   </g>\n   <g id=\"patch_25\">\n    <path d=\"M 46.0125 224.64 \nL 380.8125 224.64 \n\" style=\"fill:none;stroke:#000000;stroke-linecap:square;stroke-linejoin:miter;stroke-width:0.8;\"/>\n   </g>\n   <g id=\"patch_26\">\n    <path d=\"M 46.0125 7.2 \nL 380.8125 7.2 \n\" style=\"fill:none;stroke:#000000;stroke-linecap:square;stroke-linejoin:miter;stroke-width:0.8;\"/>\n   </g>\n  </g>\n </g>\n <defs>\n  <clipPath id=\"p69c0ef97f8\">\n   <rect height=\"217.44\" width=\"334.8\" x=\"46.0125\" y=\"7.2\"/>\n  </clipPath>\n </defs>\n</svg>\n",
      "image/png": "[encoded data removed]"
     },
     "metadata": {
      "needs_background": "light"
     }
    }
   ],
   "source": [
    "train_df['timediff'].astype(int).hist(bins=20)"
   ]
  },
  {
   "cell_type": "code",
   "execution_count": 9,
   "metadata": {},
   "outputs": [
    {
     "output_type": "execute_result",
     "data": {
      "text/plain": [
       "            id                                    ssid_0  \\\n",
       "0            0  356d66c73c423be835bd5d07cb1ebdfa821d8e23   \n",
       "1            1  356d66c73c423be835bd5d07cb1ebdfa821d8e23   \n",
       "2            2  f44fa6118fed7198296c8b45b2f2684903d99620   \n",
       "3            3  d839a45ebe64ab48b60a407d837fb01d3c0dfef9   \n",
       "4            4  b7e6027447eb1f81327d66cfd3adbe557aabf26c   \n",
       "...        ...                                       ...   \n",
       "220460  220460  18336f0964fbd470a2ee7116d33b96946c633999   \n",
       "220461  220461  18336f0964fbd470a2ee7116d33b96946c633999   \n",
       "220462  220462  18336f0964fbd470a2ee7116d33b96946c633999   \n",
       "220463  220463  18336f0964fbd470a2ee7116d33b96946c633999   \n",
       "220464  220464  18336f0964fbd470a2ee7116d33b96946c633999   \n",
       "\n",
       "                                          ssid_1  \\\n",
       "0       c3513a636d1a813db081a2ffc33f297b4fefe28d   \n",
       "1       f44fa6118fed7198296c8b45b2f2684903d99620   \n",
       "2       8aed75f7c344e6a3d4916750029dd4ee47c1e7c5   \n",
       "3       b7e6027447eb1f81327d66cfd3adbe557aabf26c   \n",
       "4       7182afc4e5c212133d5d7d76eb3df6c24618302b   \n",
       "...                                          ...   \n",
       "220460  072159287058774aa9b450c9163129b309bc982b   \n",
       "220461  18336f0964fbd470a2ee7116d33b96946c633999   \n",
       "220462  18336f0964fbd470a2ee7116d33b96946c633999   \n",
       "220463  18336f0964fbd470a2ee7116d33b96946c633999   \n",
       "220464  90ef6526fa145d95dc065edc3b3a3193406f3ee4   \n",
       "\n",
       "                                          ssid_2  \\\n",
       "0       990847ae755de95a44c7b1be54e66f4e56fdc7f4   \n",
       "1       c3513a636d1a813db081a2ffc33f297b4fefe28d   \n",
       "2       d839a45ebe64ab48b60a407d837fb01d3c0dfef9   \n",
       "3       7182afc4e5c212133d5d7d76eb3df6c24618302b   \n",
       "4       b6ffe5619e02871fcd04f61c9bb4b5c53a3f46b7   \n",
       "...                                          ...   \n",
       "220460  18336f0964fbd470a2ee7116d33b96946c633999   \n",
       "220461  072159287058774aa9b450c9163129b309bc982b   \n",
       "220462  072159287058774aa9b450c9163129b309bc982b   \n",
       "220463  072159287058774aa9b450c9163129b309bc982b   \n",
       "220464  040667e2fdd3a9bbb54e970c430ad6f08416c52e   \n",
       "\n",
       "                                          ssid_3  \\\n",
       "0       4e601619b7c7d9df8d61490ad2c134f08ea01d61   \n",
       "1       990847ae755de95a44c7b1be54e66f4e56fdc7f4   \n",
       "2       b7e6027447eb1f81327d66cfd3adbe557aabf26c   \n",
       "3       b9f0208be00bd8b337be7f12e02e3a3ce846e22b   \n",
       "4       5731b8e08abc69d4c4d685c58164059207c93310   \n",
       "...                                          ...   \n",
       "220460  040667e2fdd3a9bbb54e970c430ad6f08416c52e   \n",
       "220461  072159287058774aa9b450c9163129b309bc982b   \n",
       "220462  ea9e102c49dbc834b1059c5e8b5dc4a017a82dff   \n",
       "220463  040667e2fdd3a9bbb54e970c430ad6f08416c52e   \n",
       "220464  18336f0964fbd470a2ee7116d33b96946c633999   \n",
       "\n",
       "                                          ssid_4  \\\n",
       "0       c3513a636d1a813db081a2ffc33f297b4fefe28d   \n",
       "1       d839a45ebe64ab48b60a407d837fb01d3c0dfef9   \n",
       "2       5731b8e08abc69d4c4d685c58164059207c93310   \n",
       "3       b6ffe5619e02871fcd04f61c9bb4b5c53a3f46b7   \n",
       "4       d839a45ebe64ab48b60a407d837fb01d3c0dfef9   \n",
       "...                                          ...   \n",
       "220460  072159287058774aa9b450c9163129b309bc982b   \n",
       "220461  ea9e102c49dbc834b1059c5e8b5dc4a017a82dff   \n",
       "220462  072159287058774aa9b450c9163129b309bc982b   \n",
       "220463  da39a3ee5e6b4b0d3255bfef95601890afd80709   \n",
       "220464  da39a3ee5e6b4b0d3255bfef95601890afd80709   \n",
       "\n",
       "                                          ssid_5  \\\n",
       "0       b14c56d7cd73a5b026fc118c671e24dc2ba2558b   \n",
       "1       b7e6027447eb1f81327d66cfd3adbe557aabf26c   \n",
       "2       d839a45ebe64ab48b60a407d837fb01d3c0dfef9   \n",
       "3       b6ffe5619e02871fcd04f61c9bb4b5c53a3f46b7   \n",
       "4       d839a45ebe64ab48b60a407d837fb01d3c0dfef9   \n",
       "...                                          ...   \n",
       "220460  da39a3ee5e6b4b0d3255bfef95601890afd80709   \n",
       "220461  040667e2fdd3a9bbb54e970c430ad6f08416c52e   \n",
       "220462  040667e2fdd3a9bbb54e970c430ad6f08416c52e   \n",
       "220463  072159287058774aa9b450c9163129b309bc982b   \n",
       "220464  072159287058774aa9b450c9163129b309bc982b   \n",
       "\n",
       "                                          ssid_6  \\\n",
       "0       d839a45ebe64ab48b60a407d837fb01d3c0dfef9   \n",
       "1       7182afc4e5c212133d5d7d76eb3df6c24618302b   \n",
       "2       b9f0208be00bd8b337be7f12e02e3a3ce846e22b   \n",
       "3       b7e6027447eb1f81327d66cfd3adbe557aabf26c   \n",
       "4       b6ffe5619e02871fcd04f61c9bb4b5c53a3f46b7   \n",
       "...                                          ...   \n",
       "220460  da39a3ee5e6b4b0d3255bfef95601890afd80709   \n",
       "220461  da39a3ee5e6b4b0d3255bfef95601890afd80709   \n",
       "220462  1f09251bbfadafb11c63c87963af25238d6bc886   \n",
       "220463  90ef6526fa145d95dc065edc3b3a3193406f3ee4   \n",
       "220464  ea9e102c49dbc834b1059c5e8b5dc4a017a82dff   \n",
       "\n",
       "                                          ssid_7  \\\n",
       "0       7182afc4e5c212133d5d7d76eb3df6c24618302b   \n",
       "1       da39a3ee5e6b4b0d3255bfef95601890afd80709   \n",
       "2       b6ffe5619e02871fcd04f61c9bb4b5c53a3f46b7   \n",
       "3       d839a45ebe64ab48b60a407d837fb01d3c0dfef9   \n",
       "4       b7e6027447eb1f81327d66cfd3adbe557aabf26c   \n",
       "...                                          ...   \n",
       "220460  da39a3ee5e6b4b0d3255bfef95601890afd80709   \n",
       "220461  ea9e102c49dbc834b1059c5e8b5dc4a017a82dff   \n",
       "220462  da39a3ee5e6b4b0d3255bfef95601890afd80709   \n",
       "220463  ea9e102c49dbc834b1059c5e8b5dc4a017a82dff   \n",
       "220464  072159287058774aa9b450c9163129b309bc982b   \n",
       "\n",
       "                                          ssid_8  ...           y  \\\n",
       "0       b9f0208be00bd8b337be7f12e02e3a3ce846e22b  ...  156.842239   \n",
       "1       b9f0208be00bd8b337be7f12e02e3a3ce846e22b  ...  156.842239   \n",
       "2       b7e6027447eb1f81327d66cfd3adbe557aabf26c  ...  154.629517   \n",
       "3       c451965585f1bd709a952b68f8c89df943c01065  ...  154.629517   \n",
       "4       7182afc4e5c212133d5d7d76eb3df6c24618302b  ...  154.629517   \n",
       "...                                          ...  ...         ...   \n",
       "220460  da39a3ee5e6b4b0d3255bfef95601890afd80709  ...  107.011642   \n",
       "220461  da39a3ee5e6b4b0d3255bfef95601890afd80709  ...  111.526085   \n",
       "220462  da39a3ee5e6b4b0d3255bfef95601890afd80709  ...  111.526085   \n",
       "220463  1f09251bbfadafb11c63c87963af25238d6bc886  ...  116.407990   \n",
       "220464  1f09251bbfadafb11c63c87963af25238d6bc886  ...  116.407990   \n",
       "\n",
       "           itimestamp          ix          iy floor floor_str  \\\n",
       "0       1578466134278  113.615387  156.634796  -1.0        B1   \n",
       "1       1578466136278  112.655884  156.358200  -1.0        B1   \n",
       "2       1578466146278  108.098259  155.044403  -1.0        B1   \n",
       "3       1578466148278  107.138763  154.767822  -1.0        B1   \n",
       "4       1578466149778  106.659012  154.629517  -1.0        B1   \n",
       "...               ...         ...         ...   ...       ...   \n",
       "220460  1573892866000  128.925217  109.018059   6.0        F7   \n",
       "220461  1573892868000  130.645798  110.522873   6.0        F7   \n",
       "220462  1573892870000  132.872238  112.610954   6.0        F7   \n",
       "220463  1573892871500  133.951599  113.695824   6.0        F7   \n",
       "220464  1573892873500  136.110352  115.865555   6.0        F7   \n",
       "\n",
       "                            path                   site_id timediff itimediff  \n",
       "0       5e1580d1f4c3420006d520e4  5a0546857ecc773753327266    -1545       -45  \n",
       "1       5e1580d1f4c3420006d520e4  5a0546857ecc773753327266    -3512       -12  \n",
       "2       5e1580d1f4c3420006d520e4  5a0546857ecc773753327266     3496       200  \n",
       "3       5e1580d1f4c3420006d520e4  5a0546857ecc773753327266     1541       245  \n",
       "4       5e1580d1f4c3420006d520e4  5a0546857ecc773753327266     -397      -193  \n",
       "...                          ...                       ...      ...       ...  \n",
       "220460  5dcfb393878f3300066c70a6  5dc8cea7659e181adb076a3f    -2224        38  \n",
       "220461  5dcfb393878f3300066c70a6  5dc8cea7659e181adb076a3f     1098       126  \n",
       "220462  5dcfb393878f3300066c70a6  5dc8cea7659e181adb076a3f     -790       238  \n",
       "220463  5dcfb393878f3300066c70a6  5dc8cea7659e181adb076a3f     2619      -187  \n",
       "220464  5dcfb393878f3300066c70a6  5dc8cea7659e181adb076a3f      730       -76  \n",
       "\n",
       "[220465 rows x 513 columns]"
      ],
      "text/html": "<div>\n<style scoped>\n    .dataframe tbody tr th:only-of-type {\n        vertical-align: middle;\n    }\n\n    .dataframe tbody tr th {\n        vertical-align: top;\n    }\n\n    .dataframe thead th {\n        text-align: right;\n    }\n</style>\n<table border=\"1\" class=\"dataframe\">\n  <thead>\n    <tr style=\"text-align: right;\">\n      <th></th>\n      <th>id</th>\n      <th>ssid_0</th>\n      <th>ssid_1</th>\n      <th>ssid_2</th>\n      <th>ssid_3</th>\n      <th>ssid_4</th>\n      <th>ssid_5</th>\n      <th>ssid_6</th>\n      <th>ssid_7</th>\n      <th>ssid_8</th>\n      <th>...</th>\n      <th>y</th>\n      <th>itimestamp</th>\n      <th>ix</th>\n      <th>iy</th>\n      <th>floor</th>\n      <th>floor_str</th>\n      <th>path</th>\n      <th>site_id</th>\n      <th>timediff</th>\n      <th>itimediff</th>\n    </tr>\n  </thead>\n  <tbody>\n    <tr>\n      <th>0</th>\n      <td>0</td>\n      <td>356d66c73c423be835bd5d07cb1ebdfa821d8e23</td>\n      <td>c3513a636d1a813db081a2ffc33f297b4fefe28d</td>\n      <td>990847ae755de95a44c7b1be54e66f4e56fdc7f4</td>\n      <td>4e601619b7c7d9df8d61490ad2c134f08ea01d61</td>\n      <td>c3513a636d1a813db081a2ffc33f297b4fefe28d</td>\n      <td>b14c56d7cd73a5b026fc118c671e24dc2ba2558b</td>\n      <td>d839a45ebe64ab48b60a407d837fb01d3c0dfef9</td>\n      <td>7182afc4e5c212133d5d7d76eb3df6c24618302b</td>\n      <td>b9f0208be00bd8b337be7f12e02e3a3ce846e22b</td>\n      <td>...</td>\n      <td>156.842239</td>\n      <td>1578466134278</td>\n      <td>113.615387</td>\n      <td>156.634796</td>\n      <td>-1.0</td>\n      <td>B1</td>\n      <td>5e1580d1f4c3420006d520e4</td>\n      <td>5a0546857ecc773753327266</td>\n      <td>-1545</td>\n      <td>-45</td>\n    </tr>\n    <tr>\n      <th>1</th>\n      <td>1</td>\n      <td>356d66c73c423be835bd5d07cb1ebdfa821d8e23</td>\n      <td>f44fa6118fed7198296c8b45b2f2684903d99620</td>\n      <td>c3513a636d1a813db081a2ffc33f297b4fefe28d</td>\n      <td>990847ae755de95a44c7b1be54e66f4e56fdc7f4</td>\n      <td>d839a45ebe64ab48b60a407d837fb01d3c0dfef9</td>\n      <td>b7e6027447eb1f81327d66cfd3adbe557aabf26c</td>\n      <td>7182afc4e5c212133d5d7d76eb3df6c24618302b</td>\n      <td>da39a3ee5e6b4b0d3255bfef95601890afd80709</td>\n      <td>b9f0208be00bd8b337be7f12e02e3a3ce846e22b</td>\n      <td>...</td>\n      <td>156.842239</td>\n      <td>1578466136278</td>\n      <td>112.655884</td>\n      <td>156.358200</td>\n      <td>-1.0</td>\n      <td>B1</td>\n      <td>5e1580d1f4c3420006d520e4</td>\n      <td>5a0546857ecc773753327266</td>\n      <td>-3512</td>\n      <td>-12</td>\n    </tr>\n    <tr>\n      <th>2</th>\n      <td>2</td>\n      <td>f44fa6118fed7198296c8b45b2f2684903d99620</td>\n      <td>8aed75f7c344e6a3d4916750029dd4ee47c1e7c5</td>\n      <td>d839a45ebe64ab48b60a407d837fb01d3c0dfef9</td>\n      <td>b7e6027447eb1f81327d66cfd3adbe557aabf26c</td>\n      <td>5731b8e08abc69d4c4d685c58164059207c93310</td>\n      <td>d839a45ebe64ab48b60a407d837fb01d3c0dfef9</td>\n      <td>b9f0208be00bd8b337be7f12e02e3a3ce846e22b</td>\n      <td>b6ffe5619e02871fcd04f61c9bb4b5c53a3f46b7</td>\n      <td>b7e6027447eb1f81327d66cfd3adbe557aabf26c</td>\n      <td>...</td>\n      <td>154.629517</td>\n      <td>1578466146278</td>\n      <td>108.098259</td>\n      <td>155.044403</td>\n      <td>-1.0</td>\n      <td>B1</td>\n      <td>5e1580d1f4c3420006d520e4</td>\n      <td>5a0546857ecc773753327266</td>\n      <td>3496</td>\n      <td>200</td>\n    </tr>\n    <tr>\n      <th>3</th>\n      <td>3</td>\n      <td>d839a45ebe64ab48b60a407d837fb01d3c0dfef9</td>\n      <td>b7e6027447eb1f81327d66cfd3adbe557aabf26c</td>\n      <td>7182afc4e5c212133d5d7d76eb3df6c24618302b</td>\n      <td>b9f0208be00bd8b337be7f12e02e3a3ce846e22b</td>\n      <td>b6ffe5619e02871fcd04f61c9bb4b5c53a3f46b7</td>\n      <td>b6ffe5619e02871fcd04f61c9bb4b5c53a3f46b7</td>\n      <td>b7e6027447eb1f81327d66cfd3adbe557aabf26c</td>\n      <td>d839a45ebe64ab48b60a407d837fb01d3c0dfef9</td>\n      <td>c451965585f1bd709a952b68f8c89df943c01065</td>\n      <td>...</td>\n      <td>154.629517</td>\n      <td>1578466148278</td>\n      <td>107.138763</td>\n      <td>154.767822</td>\n      <td>-1.0</td>\n      <td>B1</td>\n      <td>5e1580d1f4c3420006d520e4</td>\n      <td>5a0546857ecc773753327266</td>\n      <td>1541</td>\n      <td>245</td>\n    </tr>\n    <tr>\n      <th>4</th>\n      <td>4</td>\n      <td>b7e6027447eb1f81327d66cfd3adbe557aabf26c</td>\n      <td>7182afc4e5c212133d5d7d76eb3df6c24618302b</td>\n      <td>b6ffe5619e02871fcd04f61c9bb4b5c53a3f46b7</td>\n      <td>5731b8e08abc69d4c4d685c58164059207c93310</td>\n      <td>d839a45ebe64ab48b60a407d837fb01d3c0dfef9</td>\n      <td>d839a45ebe64ab48b60a407d837fb01d3c0dfef9</td>\n      <td>b6ffe5619e02871fcd04f61c9bb4b5c53a3f46b7</td>\n      <td>b7e6027447eb1f81327d66cfd3adbe557aabf26c</td>\n      <td>7182afc4e5c212133d5d7d76eb3df6c24618302b</td>\n      <td>...</td>\n      <td>154.629517</td>\n      <td>1578466149778</td>\n      <td>106.659012</td>\n      <td>154.629517</td>\n      <td>-1.0</td>\n      <td>B1</td>\n      <td>5e1580d1f4c3420006d520e4</td>\n      <td>5a0546857ecc773753327266</td>\n      <td>-397</td>\n      <td>-193</td>\n    </tr>\n    <tr>\n      <th>...</th>\n      <td>...</td>\n      <td>...</td>\n      <td>...</td>\n      <td>...</td>\n      <td>...</td>\n      <td>...</td>\n      <td>...</td>\n      <td>...</td>\n      <td>...</td>\n      <td>...</td>\n      <td>...</td>\n      <td>...</td>\n      <td>...</td>\n      <td>...</td>\n      <td>...</td>\n      <td>...</td>\n      <td>...</td>\n      <td>...</td>\n      <td>...</td>\n      <td>...</td>\n      <td>...</td>\n    </tr>\n    <tr>\n      <th>220460</th>\n      <td>220460</td>\n      <td>18336f0964fbd470a2ee7116d33b96946c633999</td>\n      <td>072159287058774aa9b450c9163129b309bc982b</td>\n      <td>18336f0964fbd470a2ee7116d33b96946c633999</td>\n      <td>040667e2fdd3a9bbb54e970c430ad6f08416c52e</td>\n      <td>072159287058774aa9b450c9163129b309bc982b</td>\n      <td>da39a3ee5e6b4b0d3255bfef95601890afd80709</td>\n      <td>da39a3ee5e6b4b0d3255bfef95601890afd80709</td>\n      <td>da39a3ee5e6b4b0d3255bfef95601890afd80709</td>\n      <td>da39a3ee5e6b4b0d3255bfef95601890afd80709</td>\n      <td>...</td>\n      <td>107.011642</td>\n      <td>1573892866000</td>\n      <td>128.925217</td>\n      <td>109.018059</td>\n      <td>6.0</td>\n      <td>F7</td>\n      <td>5dcfb393878f3300066c70a6</td>\n      <td>5dc8cea7659e181adb076a3f</td>\n      <td>-2224</td>\n      <td>38</td>\n    </tr>\n    <tr>\n      <th>220461</th>\n      <td>220461</td>\n      <td>18336f0964fbd470a2ee7116d33b96946c633999</td>\n      <td>18336f0964fbd470a2ee7116d33b96946c633999</td>\n      <td>072159287058774aa9b450c9163129b309bc982b</td>\n      <td>072159287058774aa9b450c9163129b309bc982b</td>\n      <td>ea9e102c49dbc834b1059c5e8b5dc4a017a82dff</td>\n      <td>040667e2fdd3a9bbb54e970c430ad6f08416c52e</td>\n      <td>da39a3ee5e6b4b0d3255bfef95601890afd80709</td>\n      <td>ea9e102c49dbc834b1059c5e8b5dc4a017a82dff</td>\n      <td>da39a3ee5e6b4b0d3255bfef95601890afd80709</td>\n      <td>...</td>\n      <td>111.526085</td>\n      <td>1573892868000</td>\n      <td>130.645798</td>\n      <td>110.522873</td>\n      <td>6.0</td>\n      <td>F7</td>\n      <td>5dcfb393878f3300066c70a6</td>\n      <td>5dc8cea7659e181adb076a3f</td>\n      <td>1098</td>\n      <td>126</td>\n    </tr>\n    <tr>\n      <th>220462</th>\n      <td>220462</td>\n      <td>18336f0964fbd470a2ee7116d33b96946c633999</td>\n      <td>18336f0964fbd470a2ee7116d33b96946c633999</td>\n      <td>072159287058774aa9b450c9163129b309bc982b</td>\n      <td>ea9e102c49dbc834b1059c5e8b5dc4a017a82dff</td>\n      <td>072159287058774aa9b450c9163129b309bc982b</td>\n      <td>040667e2fdd3a9bbb54e970c430ad6f08416c52e</td>\n      <td>1f09251bbfadafb11c63c87963af25238d6bc886</td>\n      <td>da39a3ee5e6b4b0d3255bfef95601890afd80709</td>\n      <td>da39a3ee5e6b4b0d3255bfef95601890afd80709</td>\n      <td>...</td>\n      <td>111.526085</td>\n      <td>1573892870000</td>\n      <td>132.872238</td>\n      <td>112.610954</td>\n      <td>6.0</td>\n      <td>F7</td>\n      <td>5dcfb393878f3300066c70a6</td>\n      <td>5dc8cea7659e181adb076a3f</td>\n      <td>-790</td>\n      <td>238</td>\n    </tr>\n    <tr>\n      <th>220463</th>\n      <td>220463</td>\n      <td>18336f0964fbd470a2ee7116d33b96946c633999</td>\n      <td>18336f0964fbd470a2ee7116d33b96946c633999</td>\n      <td>072159287058774aa9b450c9163129b309bc982b</td>\n      <td>040667e2fdd3a9bbb54e970c430ad6f08416c52e</td>\n      <td>da39a3ee5e6b4b0d3255bfef95601890afd80709</td>\n      <td>072159287058774aa9b450c9163129b309bc982b</td>\n      <td>90ef6526fa145d95dc065edc3b3a3193406f3ee4</td>\n      <td>ea9e102c49dbc834b1059c5e8b5dc4a017a82dff</td>\n      <td>1f09251bbfadafb11c63c87963af25238d6bc886</td>\n      <td>...</td>\n      <td>116.407990</td>\n      <td>1573892871500</td>\n      <td>133.951599</td>\n      <td>113.695824</td>\n      <td>6.0</td>\n      <td>F7</td>\n      <td>5dcfb393878f3300066c70a6</td>\n      <td>5dc8cea7659e181adb076a3f</td>\n      <td>2619</td>\n      <td>-187</td>\n    </tr>\n    <tr>\n      <th>220464</th>\n      <td>220464</td>\n      <td>18336f0964fbd470a2ee7116d33b96946c633999</td>\n      <td>90ef6526fa145d95dc065edc3b3a3193406f3ee4</td>\n      <td>040667e2fdd3a9bbb54e970c430ad6f08416c52e</td>\n      <td>18336f0964fbd470a2ee7116d33b96946c633999</td>\n      <td>da39a3ee5e6b4b0d3255bfef95601890afd80709</td>\n      <td>072159287058774aa9b450c9163129b309bc982b</td>\n      <td>ea9e102c49dbc834b1059c5e8b5dc4a017a82dff</td>\n      <td>072159287058774aa9b450c9163129b309bc982b</td>\n      <td>1f09251bbfadafb11c63c87963af25238d6bc886</td>\n      <td>...</td>\n      <td>116.407990</td>\n      <td>1573892873500</td>\n      <td>136.110352</td>\n      <td>115.865555</td>\n      <td>6.0</td>\n      <td>F7</td>\n      <td>5dcfb393878f3300066c70a6</td>\n      <td>5dc8cea7659e181adb076a3f</td>\n      <td>730</td>\n      <td>-76</td>\n    </tr>\n  </tbody>\n</table>\n<p>220465 rows × 513 columns</p>\n</div>"
     },
     "metadata": {},
     "execution_count": 9
    }
   ],
   "source": [
    "train_df"
   ]
  },
  {
   "cell_type": "code",
   "execution_count": 10,
   "metadata": {},
   "outputs": [
    {
     "output_type": "execute_result",
     "data": {
      "text/plain": [
       "                                         ssid_0  \\\n",
       "0      b9f0208be00bd8b337be7f12e02e3a3ce846e22b   \n",
       "1      7182afc4e5c212133d5d7d76eb3df6c24618302b   \n",
       "2      da39a3ee5e6b4b0d3255bfef95601890afd80709   \n",
       "3      7182afc4e5c212133d5d7d76eb3df6c24618302b   \n",
       "4      b6ffe5619e02871fcd04f61c9bb4b5c53a3f46b7   \n",
       "...                                         ...   \n",
       "37460  5d998a8668536c4f51004c25f474117fe9555f78   \n",
       "37461  8e69018f6343506344ab13646ccd9447fc2ffb19   \n",
       "37462  8e69018f6343506344ab13646ccd9447fc2ffb19   \n",
       "37463  5d998a8668536c4f51004c25f474117fe9555f78   \n",
       "37464  aa449fabc4dcb24836d950b5cff91f08e574c3a7   \n",
       "\n",
       "                                         ssid_1  \\\n",
       "0      ab150ecf6d972b476aeab16317bed6189d9f7cce   \n",
       "1      b6ffe5619e02871fcd04f61c9bb4b5c53a3f46b7   \n",
       "2      d839a45ebe64ab48b60a407d837fb01d3c0dfef9   \n",
       "3      b6ffe5619e02871fcd04f61c9bb4b5c53a3f46b7   \n",
       "4      da39a3ee5e6b4b0d3255bfef95601890afd80709   \n",
       "...                                         ...   \n",
       "37460  5d998a8668536c4f51004c25f474117fe9555f78   \n",
       "37461  5d998a8668536c4f51004c25f474117fe9555f78   \n",
       "37462  5d998a8668536c4f51004c25f474117fe9555f78   \n",
       "37463  8e69018f6343506344ab13646ccd9447fc2ffb19   \n",
       "37464  5d998a8668536c4f51004c25f474117fe9555f78   \n",
       "\n",
       "                                         ssid_2  \\\n",
       "0      b6ffe5619e02871fcd04f61c9bb4b5c53a3f46b7   \n",
       "1      b7e6027447eb1f81327d66cfd3adbe557aabf26c   \n",
       "2      b6ffe5619e02871fcd04f61c9bb4b5c53a3f46b7   \n",
       "3      b7e6027447eb1f81327d66cfd3adbe557aabf26c   \n",
       "4      b7e6027447eb1f81327d66cfd3adbe557aabf26c   \n",
       "...                                         ...   \n",
       "37460  5d998a8668536c4f51004c25f474117fe9555f78   \n",
       "37461  8e69018f6343506344ab13646ccd9447fc2ffb19   \n",
       "37462  da39a3ee5e6b4b0d3255bfef95601890afd80709   \n",
       "37463  5d998a8668536c4f51004c25f474117fe9555f78   \n",
       "37464  da39a3ee5e6b4b0d3255bfef95601890afd80709   \n",
       "\n",
       "                                         ssid_3  \\\n",
       "0      b7e6027447eb1f81327d66cfd3adbe557aabf26c   \n",
       "1      d839a45ebe64ab48b60a407d837fb01d3c0dfef9   \n",
       "2      b7e6027447eb1f81327d66cfd3adbe557aabf26c   \n",
       "3      d839a45ebe64ab48b60a407d837fb01d3c0dfef9   \n",
       "4      d839a45ebe64ab48b60a407d837fb01d3c0dfef9   \n",
       "...                                         ...   \n",
       "37460  8e69018f6343506344ab13646ccd9447fc2ffb19   \n",
       "37461  5d998a8668536c4f51004c25f474117fe9555f78   \n",
       "37462  5d998a8668536c4f51004c25f474117fe9555f78   \n",
       "37463  8e69018f6343506344ab13646ccd9447fc2ffb19   \n",
       "37464  6381b3137285875eda5bc77d9b8cc7650f0f5d7d   \n",
       "\n",
       "                                         ssid_4  \\\n",
       "0      d839a45ebe64ab48b60a407d837fb01d3c0dfef9   \n",
       "1      7182afc4e5c212133d5d7d76eb3df6c24618302b   \n",
       "2      d839a45ebe64ab48b60a407d837fb01d3c0dfef9   \n",
       "3      d839a45ebe64ab48b60a407d837fb01d3c0dfef9   \n",
       "4      7182afc4e5c212133d5d7d76eb3df6c24618302b   \n",
       "...                                         ...   \n",
       "37460  c72257cf75d6a411225948bbc4e37ad554e7beda   \n",
       "37461  c72257cf75d6a411225948bbc4e37ad554e7beda   \n",
       "37462  5d998a8668536c4f51004c25f474117fe9555f78   \n",
       "37463  da39a3ee5e6b4b0d3255bfef95601890afd80709   \n",
       "37464  efa1fe97c4b2a6c57d98de9c236a109032ceb839   \n",
       "\n",
       "                                         ssid_5  \\\n",
       "0      7182afc4e5c212133d5d7d76eb3df6c24618302b   \n",
       "1      b9f0208be00bd8b337be7f12e02e3a3ce846e22b   \n",
       "2      7182afc4e5c212133d5d7d76eb3df6c24618302b   \n",
       "3      b9f0208be00bd8b337be7f12e02e3a3ce846e22b   \n",
       "4      b9f0208be00bd8b337be7f12e02e3a3ce846e22b   \n",
       "...                                         ...   \n",
       "37460  8e69018f6343506344ab13646ccd9447fc2ffb19   \n",
       "37461  da39a3ee5e6b4b0d3255bfef95601890afd80709   \n",
       "37462  c72257cf75d6a411225948bbc4e37ad554e7beda   \n",
       "37463  aa449fabc4dcb24836d950b5cff91f08e574c3a7   \n",
       "37464  0eb4ecd03a3128e62bdff60e6f686d88e783441e   \n",
       "\n",
       "                                         ssid_6  \\\n",
       "0      da39a3ee5e6b4b0d3255bfef95601890afd80709   \n",
       "1      b9f0208be00bd8b337be7f12e02e3a3ce846e22b   \n",
       "2      b9f0208be00bd8b337be7f12e02e3a3ce846e22b   \n",
       "3      da39a3ee5e6b4b0d3255bfef95601890afd80709   \n",
       "4      da39a3ee5e6b4b0d3255bfef95601890afd80709   \n",
       "...                                         ...   \n",
       "37460  da39a3ee5e6b4b0d3255bfef95601890afd80709   \n",
       "37461  5d998a8668536c4f51004c25f474117fe9555f78   \n",
       "37462  da39a3ee5e6b4b0d3255bfef95601890afd80709   \n",
       "37463  c72257cf75d6a411225948bbc4e37ad554e7beda   \n",
       "37464  8e69018f6343506344ab13646ccd9447fc2ffb19   \n",
       "\n",
       "                                         ssid_7  \\\n",
       "0      01e78c97f2c04cdbc7c4159158bb125a9bb558ff   \n",
       "1      b7e6027447eb1f81327d66cfd3adbe557aabf26c   \n",
       "2      7182afc4e5c212133d5d7d76eb3df6c24618302b   \n",
       "3      b7e6027447eb1f81327d66cfd3adbe557aabf26c   \n",
       "4      b9f0208be00bd8b337be7f12e02e3a3ce846e22b   \n",
       "...                                         ...   \n",
       "37460  da39a3ee5e6b4b0d3255bfef95601890afd80709   \n",
       "37461  da39a3ee5e6b4b0d3255bfef95601890afd80709   \n",
       "37462  5d998a8668536c4f51004c25f474117fe9555f78   \n",
       "37463  da39a3ee5e6b4b0d3255bfef95601890afd80709   \n",
       "37464  da39a3ee5e6b4b0d3255bfef95601890afd80709   \n",
       "\n",
       "                                         ssid_8  \\\n",
       "0      b9f0208be00bd8b337be7f12e02e3a3ce846e22b   \n",
       "1      da39a3ee5e6b4b0d3255bfef95601890afd80709   \n",
       "2      b7e6027447eb1f81327d66cfd3adbe557aabf26c   \n",
       "3      7182afc4e5c212133d5d7d76eb3df6c24618302b   \n",
       "4      b6ffe5619e02871fcd04f61c9bb4b5c53a3f46b7   \n",
       "...                                         ...   \n",
       "37460  da39a3ee5e6b4b0d3255bfef95601890afd80709   \n",
       "37461  5d998a8668536c4f51004c25f474117fe9555f78   \n",
       "37462  8e69018f6343506344ab13646ccd9447fc2ffb19   \n",
       "37463  efa1fe97c4b2a6c57d98de9c236a109032ceb839   \n",
       "37464  6ee7b15e068bf8b82c3ce0cd0af84a6b6be5b30d   \n",
       "\n",
       "                                         ssid_9  ... timediff_95 timediff_96  \\\n",
       "0      7182afc4e5c212133d5d7d76eb3df6c24618302b  ...      1750.0      1751.0   \n",
       "1      b7e6027447eb1f81327d66cfd3adbe557aabf26c  ...      5529.0      5032.0   \n",
       "2      b6ffe5619e02871fcd04f61c9bb4b5c53a3f46b7  ...       353.0       359.0   \n",
       "3      b9f0208be00bd8b337be7f12e02e3a3ce846e22b  ...      2446.0      5241.0   \n",
       "4      d839a45ebe64ab48b60a407d837fb01d3c0dfef9  ...      9441.0      1879.0   \n",
       "...                                         ...  ...         ...         ...   \n",
       "37460  efa1fe97c4b2a6c57d98de9c236a109032ceb839  ...      2184.0      1796.0   \n",
       "37461  5d998a8668536c4f51004c25f474117fe9555f78  ...      2241.0       289.0   \n",
       "37462  efa1fe97c4b2a6c57d98de9c236a109032ceb839  ...      8245.0      4292.0   \n",
       "37463  6381b3137285875eda5bc77d9b8cc7650f0f5d7d  ...       430.0        56.0   \n",
       "37464  5d998a8668536c4f51004c25f474117fe9555f78  ...      7840.0      3926.0   \n",
       "\n",
       "      timediff_97 timediff_98 timediff_99      timestamp  \\\n",
       "0          1728.0      1377.0       635.0  1578474563646   \n",
       "1          5029.0      5032.0      4850.0  1578474572654   \n",
       "2           353.0      5239.0      3133.0  1578474572654   \n",
       "3          2450.0      2449.0      2451.0  1578474572654   \n",
       "4          1369.0      7149.0      9619.0  1578474578963   \n",
       "...           ...         ...         ...            ...   \n",
       "37460      2056.0      1915.0       515.0  1573731151563   \n",
       "37461       239.0       462.0        15.0  1573731151563   \n",
       "37462      3739.0      4346.0      2359.0  1573731157567   \n",
       "37463       348.0       216.0       213.0  1573731157567   \n",
       "37464      3784.0      1212.0      9537.0  1573731161115   \n",
       "\n",
       "                           path                   site_id timediff  \\\n",
       "0      046cfa46be49fc10834815c6  5a0546857ecc773753327266    -2331   \n",
       "1      046cfa46be49fc10834815c6  5a0546857ecc773753327266     4287   \n",
       "2      046cfa46be49fc10834815c6  5a0546857ecc773753327266     4287   \n",
       "3      046cfa46be49fc10834815c6  5a0546857ecc773753327266     4287   \n",
       "4      046cfa46be49fc10834815c6  5a0546857ecc773753327266     8136   \n",
       "...                         ...                       ...      ...   \n",
       "37460  fd64de8c4a2fc5ebb0e9f412  5dc8cea7659e181adb076a3f    60121   \n",
       "37461  fd64de8c4a2fc5ebb0e9f412  5dc8cea7659e181adb076a3f    60121   \n",
       "37462  fd64de8c4a2fc5ebb0e9f412  5dc8cea7659e181adb076a3f    64191   \n",
       "37463  fd64de8c4a2fc5ebb0e9f412  5dc8cea7659e181adb076a3f    64191   \n",
       "37464  fd64de8c4a2fc5ebb0e9f412  5dc8cea7659e181adb076a3f    65673   \n",
       "\n",
       "                                     site_path_timestamp  \n",
       "0      5a0546857ecc773753327266_046cfa46be49fc1083481...  \n",
       "1      5a0546857ecc773753327266_046cfa46be49fc1083481...  \n",
       "2      5a0546857ecc773753327266_046cfa46be49fc1083481...  \n",
       "3      5a0546857ecc773753327266_046cfa46be49fc1083481...  \n",
       "4      5a0546857ecc773753327266_046cfa46be49fc1083481...  \n",
       "...                                                  ...  \n",
       "37460  5dc8cea7659e181adb076a3f_fd64de8c4a2fc5ebb0e9f...  \n",
       "37461  5dc8cea7659e181adb076a3f_fd64de8c4a2fc5ebb0e9f...  \n",
       "37462  5dc8cea7659e181adb076a3f_fd64de8c4a2fc5ebb0e9f...  \n",
       "37463  5dc8cea7659e181adb076a3f_fd64de8c4a2fc5ebb0e9f...  \n",
       "37464  5dc8cea7659e181adb076a3f_fd64de8c4a2fc5ebb0e9f...  \n",
       "\n",
       "[37465 rows x 505 columns]"
      ],
      "text/html": "<div>\n<style scoped>\n    .dataframe tbody tr th:only-of-type {\n        vertical-align: middle;\n    }\n\n    .dataframe tbody tr th {\n        vertical-align: top;\n    }\n\n    .dataframe thead th {\n        text-align: right;\n    }\n</style>\n<table border=\"1\" class=\"dataframe\">\n  <thead>\n    <tr style=\"text-align: right;\">\n      <th></th>\n      <th>ssid_0</th>\n      <th>ssid_1</th>\n      <th>ssid_2</th>\n      <th>ssid_3</th>\n      <th>ssid_4</th>\n      <th>ssid_5</th>\n      <th>ssid_6</th>\n      <th>ssid_7</th>\n      <th>ssid_8</th>\n      <th>ssid_9</th>\n      <th>...</th>\n      <th>timediff_95</th>\n      <th>timediff_96</th>\n      <th>timediff_97</th>\n      <th>timediff_98</th>\n      <th>timediff_99</th>\n      <th>timestamp</th>\n      <th>path</th>\n      <th>site_id</th>\n      <th>timediff</th>\n      <th>site_path_timestamp</th>\n    </tr>\n  </thead>\n  <tbody>\n    <tr>\n      <th>0</th>\n      <td>b9f0208be00bd8b337be7f12e02e3a3ce846e22b</td>\n      <td>ab150ecf6d972b476aeab16317bed6189d9f7cce</td>\n      <td>b6ffe5619e02871fcd04f61c9bb4b5c53a3f46b7</td>\n      <td>b7e6027447eb1f81327d66cfd3adbe557aabf26c</td>\n      <td>d839a45ebe64ab48b60a407d837fb01d3c0dfef9</td>\n      <td>7182afc4e5c212133d5d7d76eb3df6c24618302b</td>\n      <td>da39a3ee5e6b4b0d3255bfef95601890afd80709</td>\n      <td>01e78c97f2c04cdbc7c4159158bb125a9bb558ff</td>\n      <td>b9f0208be00bd8b337be7f12e02e3a3ce846e22b</td>\n      <td>7182afc4e5c212133d5d7d76eb3df6c24618302b</td>\n      <td>...</td>\n      <td>1750.0</td>\n      <td>1751.0</td>\n      <td>1728.0</td>\n      <td>1377.0</td>\n      <td>635.0</td>\n      <td>1578474563646</td>\n      <td>046cfa46be49fc10834815c6</td>\n      <td>5a0546857ecc773753327266</td>\n      <td>-2331</td>\n      <td>5a0546857ecc773753327266_046cfa46be49fc1083481...</td>\n    </tr>\n    <tr>\n      <th>1</th>\n      <td>7182afc4e5c212133d5d7d76eb3df6c24618302b</td>\n      <td>b6ffe5619e02871fcd04f61c9bb4b5c53a3f46b7</td>\n      <td>b7e6027447eb1f81327d66cfd3adbe557aabf26c</td>\n      <td>d839a45ebe64ab48b60a407d837fb01d3c0dfef9</td>\n      <td>7182afc4e5c212133d5d7d76eb3df6c24618302b</td>\n      <td>b9f0208be00bd8b337be7f12e02e3a3ce846e22b</td>\n      <td>b9f0208be00bd8b337be7f12e02e3a3ce846e22b</td>\n      <td>b7e6027447eb1f81327d66cfd3adbe557aabf26c</td>\n      <td>da39a3ee5e6b4b0d3255bfef95601890afd80709</td>\n      <td>b7e6027447eb1f81327d66cfd3adbe557aabf26c</td>\n      <td>...</td>\n      <td>5529.0</td>\n      <td>5032.0</td>\n      <td>5029.0</td>\n      <td>5032.0</td>\n      <td>4850.0</td>\n      <td>1578474572654</td>\n      <td>046cfa46be49fc10834815c6</td>\n      <td>5a0546857ecc773753327266</td>\n      <td>4287</td>\n      <td>5a0546857ecc773753327266_046cfa46be49fc1083481...</td>\n    </tr>\n    <tr>\n      <th>2</th>\n      <td>da39a3ee5e6b4b0d3255bfef95601890afd80709</td>\n      <td>d839a45ebe64ab48b60a407d837fb01d3c0dfef9</td>\n      <td>b6ffe5619e02871fcd04f61c9bb4b5c53a3f46b7</td>\n      <td>b7e6027447eb1f81327d66cfd3adbe557aabf26c</td>\n      <td>d839a45ebe64ab48b60a407d837fb01d3c0dfef9</td>\n      <td>7182afc4e5c212133d5d7d76eb3df6c24618302b</td>\n      <td>b9f0208be00bd8b337be7f12e02e3a3ce846e22b</td>\n      <td>7182afc4e5c212133d5d7d76eb3df6c24618302b</td>\n      <td>b7e6027447eb1f81327d66cfd3adbe557aabf26c</td>\n      <td>b6ffe5619e02871fcd04f61c9bb4b5c53a3f46b7</td>\n      <td>...</td>\n      <td>353.0</td>\n      <td>359.0</td>\n      <td>353.0</td>\n      <td>5239.0</td>\n      <td>3133.0</td>\n      <td>1578474572654</td>\n      <td>046cfa46be49fc10834815c6</td>\n      <td>5a0546857ecc773753327266</td>\n      <td>4287</td>\n      <td>5a0546857ecc773753327266_046cfa46be49fc1083481...</td>\n    </tr>\n    <tr>\n      <th>3</th>\n      <td>7182afc4e5c212133d5d7d76eb3df6c24618302b</td>\n      <td>b6ffe5619e02871fcd04f61c9bb4b5c53a3f46b7</td>\n      <td>b7e6027447eb1f81327d66cfd3adbe557aabf26c</td>\n      <td>d839a45ebe64ab48b60a407d837fb01d3c0dfef9</td>\n      <td>d839a45ebe64ab48b60a407d837fb01d3c0dfef9</td>\n      <td>b9f0208be00bd8b337be7f12e02e3a3ce846e22b</td>\n      <td>da39a3ee5e6b4b0d3255bfef95601890afd80709</td>\n      <td>b7e6027447eb1f81327d66cfd3adbe557aabf26c</td>\n      <td>7182afc4e5c212133d5d7d76eb3df6c24618302b</td>\n      <td>b9f0208be00bd8b337be7f12e02e3a3ce846e22b</td>\n      <td>...</td>\n      <td>2446.0</td>\n      <td>5241.0</td>\n      <td>2450.0</td>\n      <td>2449.0</td>\n      <td>2451.0</td>\n      <td>1578474572654</td>\n      <td>046cfa46be49fc10834815c6</td>\n      <td>5a0546857ecc773753327266</td>\n      <td>4287</td>\n      <td>5a0546857ecc773753327266_046cfa46be49fc1083481...</td>\n    </tr>\n    <tr>\n      <th>4</th>\n      <td>b6ffe5619e02871fcd04f61c9bb4b5c53a3f46b7</td>\n      <td>da39a3ee5e6b4b0d3255bfef95601890afd80709</td>\n      <td>b7e6027447eb1f81327d66cfd3adbe557aabf26c</td>\n      <td>d839a45ebe64ab48b60a407d837fb01d3c0dfef9</td>\n      <td>7182afc4e5c212133d5d7d76eb3df6c24618302b</td>\n      <td>b9f0208be00bd8b337be7f12e02e3a3ce846e22b</td>\n      <td>da39a3ee5e6b4b0d3255bfef95601890afd80709</td>\n      <td>b9f0208be00bd8b337be7f12e02e3a3ce846e22b</td>\n      <td>b6ffe5619e02871fcd04f61c9bb4b5c53a3f46b7</td>\n      <td>d839a45ebe64ab48b60a407d837fb01d3c0dfef9</td>\n      <td>...</td>\n      <td>9441.0</td>\n      <td>1879.0</td>\n      <td>1369.0</td>\n      <td>7149.0</td>\n      <td>9619.0</td>\n      <td>1578474578963</td>\n      <td>046cfa46be49fc10834815c6</td>\n      <td>5a0546857ecc773753327266</td>\n      <td>8136</td>\n      <td>5a0546857ecc773753327266_046cfa46be49fc1083481...</td>\n    </tr>\n    <tr>\n      <th>...</th>\n      <td>...</td>\n      <td>...</td>\n      <td>...</td>\n      <td>...</td>\n      <td>...</td>\n      <td>...</td>\n      <td>...</td>\n      <td>...</td>\n      <td>...</td>\n      <td>...</td>\n      <td>...</td>\n      <td>...</td>\n      <td>...</td>\n      <td>...</td>\n      <td>...</td>\n      <td>...</td>\n      <td>...</td>\n      <td>...</td>\n      <td>...</td>\n      <td>...</td>\n      <td>...</td>\n    </tr>\n    <tr>\n      <th>37460</th>\n      <td>5d998a8668536c4f51004c25f474117fe9555f78</td>\n      <td>5d998a8668536c4f51004c25f474117fe9555f78</td>\n      <td>5d998a8668536c4f51004c25f474117fe9555f78</td>\n      <td>8e69018f6343506344ab13646ccd9447fc2ffb19</td>\n      <td>c72257cf75d6a411225948bbc4e37ad554e7beda</td>\n      <td>8e69018f6343506344ab13646ccd9447fc2ffb19</td>\n      <td>da39a3ee5e6b4b0d3255bfef95601890afd80709</td>\n      <td>da39a3ee5e6b4b0d3255bfef95601890afd80709</td>\n      <td>da39a3ee5e6b4b0d3255bfef95601890afd80709</td>\n      <td>efa1fe97c4b2a6c57d98de9c236a109032ceb839</td>\n      <td>...</td>\n      <td>2184.0</td>\n      <td>1796.0</td>\n      <td>2056.0</td>\n      <td>1915.0</td>\n      <td>515.0</td>\n      <td>1573731151563</td>\n      <td>fd64de8c4a2fc5ebb0e9f412</td>\n      <td>5dc8cea7659e181adb076a3f</td>\n      <td>60121</td>\n      <td>5dc8cea7659e181adb076a3f_fd64de8c4a2fc5ebb0e9f...</td>\n    </tr>\n    <tr>\n      <th>37461</th>\n      <td>8e69018f6343506344ab13646ccd9447fc2ffb19</td>\n      <td>5d998a8668536c4f51004c25f474117fe9555f78</td>\n      <td>8e69018f6343506344ab13646ccd9447fc2ffb19</td>\n      <td>5d998a8668536c4f51004c25f474117fe9555f78</td>\n      <td>c72257cf75d6a411225948bbc4e37ad554e7beda</td>\n      <td>da39a3ee5e6b4b0d3255bfef95601890afd80709</td>\n      <td>5d998a8668536c4f51004c25f474117fe9555f78</td>\n      <td>da39a3ee5e6b4b0d3255bfef95601890afd80709</td>\n      <td>5d998a8668536c4f51004c25f474117fe9555f78</td>\n      <td>5d998a8668536c4f51004c25f474117fe9555f78</td>\n      <td>...</td>\n      <td>2241.0</td>\n      <td>289.0</td>\n      <td>239.0</td>\n      <td>462.0</td>\n      <td>15.0</td>\n      <td>1573731151563</td>\n      <td>fd64de8c4a2fc5ebb0e9f412</td>\n      <td>5dc8cea7659e181adb076a3f</td>\n      <td>60121</td>\n      <td>5dc8cea7659e181adb076a3f_fd64de8c4a2fc5ebb0e9f...</td>\n    </tr>\n    <tr>\n      <th>37462</th>\n      <td>8e69018f6343506344ab13646ccd9447fc2ffb19</td>\n      <td>5d998a8668536c4f51004c25f474117fe9555f78</td>\n      <td>da39a3ee5e6b4b0d3255bfef95601890afd80709</td>\n      <td>5d998a8668536c4f51004c25f474117fe9555f78</td>\n      <td>5d998a8668536c4f51004c25f474117fe9555f78</td>\n      <td>c72257cf75d6a411225948bbc4e37ad554e7beda</td>\n      <td>da39a3ee5e6b4b0d3255bfef95601890afd80709</td>\n      <td>5d998a8668536c4f51004c25f474117fe9555f78</td>\n      <td>8e69018f6343506344ab13646ccd9447fc2ffb19</td>\n      <td>efa1fe97c4b2a6c57d98de9c236a109032ceb839</td>\n      <td>...</td>\n      <td>8245.0</td>\n      <td>4292.0</td>\n      <td>3739.0</td>\n      <td>4346.0</td>\n      <td>2359.0</td>\n      <td>1573731157567</td>\n      <td>fd64de8c4a2fc5ebb0e9f412</td>\n      <td>5dc8cea7659e181adb076a3f</td>\n      <td>64191</td>\n      <td>5dc8cea7659e181adb076a3f_fd64de8c4a2fc5ebb0e9f...</td>\n    </tr>\n    <tr>\n      <th>37463</th>\n      <td>5d998a8668536c4f51004c25f474117fe9555f78</td>\n      <td>8e69018f6343506344ab13646ccd9447fc2ffb19</td>\n      <td>5d998a8668536c4f51004c25f474117fe9555f78</td>\n      <td>8e69018f6343506344ab13646ccd9447fc2ffb19</td>\n      <td>da39a3ee5e6b4b0d3255bfef95601890afd80709</td>\n      <td>aa449fabc4dcb24836d950b5cff91f08e574c3a7</td>\n      <td>c72257cf75d6a411225948bbc4e37ad554e7beda</td>\n      <td>da39a3ee5e6b4b0d3255bfef95601890afd80709</td>\n      <td>efa1fe97c4b2a6c57d98de9c236a109032ceb839</td>\n      <td>6381b3137285875eda5bc77d9b8cc7650f0f5d7d</td>\n      <td>...</td>\n      <td>430.0</td>\n      <td>56.0</td>\n      <td>348.0</td>\n      <td>216.0</td>\n      <td>213.0</td>\n      <td>1573731157567</td>\n      <td>fd64de8c4a2fc5ebb0e9f412</td>\n      <td>5dc8cea7659e181adb076a3f</td>\n      <td>64191</td>\n      <td>5dc8cea7659e181adb076a3f_fd64de8c4a2fc5ebb0e9f...</td>\n    </tr>\n    <tr>\n      <th>37464</th>\n      <td>aa449fabc4dcb24836d950b5cff91f08e574c3a7</td>\n      <td>5d998a8668536c4f51004c25f474117fe9555f78</td>\n      <td>da39a3ee5e6b4b0d3255bfef95601890afd80709</td>\n      <td>6381b3137285875eda5bc77d9b8cc7650f0f5d7d</td>\n      <td>efa1fe97c4b2a6c57d98de9c236a109032ceb839</td>\n      <td>0eb4ecd03a3128e62bdff60e6f686d88e783441e</td>\n      <td>8e69018f6343506344ab13646ccd9447fc2ffb19</td>\n      <td>da39a3ee5e6b4b0d3255bfef95601890afd80709</td>\n      <td>6ee7b15e068bf8b82c3ce0cd0af84a6b6be5b30d</td>\n      <td>5d998a8668536c4f51004c25f474117fe9555f78</td>\n      <td>...</td>\n      <td>7840.0</td>\n      <td>3926.0</td>\n      <td>3784.0</td>\n      <td>1212.0</td>\n      <td>9537.0</td>\n      <td>1573731161115</td>\n      <td>fd64de8c4a2fc5ebb0e9f412</td>\n      <td>5dc8cea7659e181adb076a3f</td>\n      <td>65673</td>\n      <td>5dc8cea7659e181adb076a3f_fd64de8c4a2fc5ebb0e9f...</td>\n    </tr>\n  </tbody>\n</table>\n<p>37465 rows × 505 columns</p>\n</div>"
     },
     "metadata": {},
     "execution_count": 10
    }
   ],
   "source": [
    "test_df"
   ]
  },
  {
   "cell_type": "code",
   "execution_count": 11,
   "metadata": {},
   "outputs": [],
   "source": [
    "# remove_id = np.load('../exp033/20s_over_id.npy', allow_pickle=True)\n",
    "# remove_id.shape"
   ]
  },
  {
   "cell_type": "code",
   "execution_count": 12,
   "metadata": {},
   "outputs": [],
   "source": [
    "# train_df = train_df[~train_df['id'].isin(remove_id)].reset_index(drop=True)\n",
    "# train_df"
   ]
  },
  {
   "cell_type": "code",
   "execution_count": 13,
   "metadata": {},
   "outputs": [],
   "source": [
    "# training target features\n",
    "NUM_FEATS = 80\n",
    "BSSID_FEATS = [f'bssid_{i}' for i in range(NUM_FEATS)]\n",
    "RSSI_FEATS  = [f'rssi_{i}' for i in range(NUM_FEATS)]\n",
    "TIMEDIFF_FEATS  = [f'timediff_{i}' for i in range(NUM_FEATS)]"
   ]
  },
  {
   "cell_type": "markdown",
   "metadata": {},
   "source": [
    "bssid_NはN個目のBSSIDを示しておりRSSI値が大きい順に番号が振られている。\n",
    "100個しかない"
   ]
  },
  {
   "cell_type": "code",
   "execution_count": 14,
   "metadata": {},
   "outputs": [
    {
     "output_type": "stream",
     "name": "stdout",
     "text": [
      "BSSID TYPES(train): 65550\nBSSID TYPES(test): 31876\nBSSID TYPES(all): 65628\n"
     ]
    }
   ],
   "source": [
    "# get numbers of bssids to embed them in a layer\n",
    "\n",
    "# train\n",
    "wifi_bssids = []\n",
    "# bssidを列ごとにリストに入れていく\n",
    "for i in range(100, 200):\n",
    "    wifi_bssids.extend(train_df.iloc[:,i].values.tolist())\n",
    "wifi_bssids = list(set(wifi_bssids))\n",
    "\n",
    "train_wifi_bssids_size = len(wifi_bssids)\n",
    "print(f'BSSID TYPES(train): {train_wifi_bssids_size}')\n",
    "\n",
    "# test\n",
    "wifi_bssids_test = []\n",
    "for i in range(100, 200):\n",
    "    wifi_bssids_test.extend(test_df.iloc[:,i].values.tolist())\n",
    "wifi_bssids_test = list(set(wifi_bssids_test))\n",
    "\n",
    "test_wifi_bssids_size = len(wifi_bssids_test)\n",
    "print(f'BSSID TYPES(test): {test_wifi_bssids_size}')\n",
    "\n",
    "\n",
    "wifi_bssids.extend(wifi_bssids_test)\n",
    "wifi_bssids = list(set(wifi_bssids))\n",
    "wifi_bssids_size = len(wifi_bssids)\n",
    "print(f'BSSID TYPES(all): {wifi_bssids_size}')\n"
   ]
  },
  {
   "cell_type": "code",
   "execution_count": 15,
   "metadata": {},
   "outputs": [
    {
     "output_type": "stream",
     "name": "stdout",
     "text": [
      "RSSI TYPES(train): 94\nRSSI TYPES(test): 82\nRSSI TYPES(all): 176\n"
     ]
    }
   ],
   "source": [
    "# get numbers of bssids to embed them in a layer\n",
    "\n",
    "# train\n",
    "rssi_bssids = []\n",
    "# bssidを列ごとにリストに入れていく\n",
    "for i in RSSI_FEATS:\n",
    "    rssi_bssids.extend(train_df.loc[:,i].values.tolist())\n",
    "rssi_bssids = list(set(rssi_bssids))\n",
    "\n",
    "train_rssi_bssids_size = len(rssi_bssids)\n",
    "print(f'RSSI TYPES(train): {train_rssi_bssids_size}')\n",
    "\n",
    "# test\n",
    "rssi_bssids_test = []\n",
    "for i in RSSI_FEATS:\n",
    "    rssi_bssids_test.extend(test_df.loc[:,i].values.tolist())\n",
    "rssi_bssids_test = list(set(rssi_bssids_test))\n",
    "\n",
    "test_rssi_bssids_size = len(rssi_bssids_test)\n",
    "print(f'RSSI TYPES(test): {test_rssi_bssids_size}')\n",
    "\n",
    "\n",
    "rssi_bssids.extend(rssi_bssids_test)\n",
    "rssi_bssids_size = len(rssi_bssids)\n",
    "print(f'RSSI TYPES(all): {rssi_bssids_size}')"
   ]
  },
  {
   "cell_type": "markdown",
   "metadata": {},
   "source": [
    "## preprocessing"
   ]
  },
  {
   "cell_type": "code",
   "execution_count": 16,
   "metadata": {},
   "outputs": [],
   "source": [
    "# preprocess\n",
    "\n",
    "le = LabelEncoder()\n",
    "le.fit(wifi_bssids)\n",
    "le_site = LabelEncoder()\n",
    "le_site.fit(train_df['site_id'])\n",
    "le_rssi = LabelEncoder()\n",
    "le_rssi.fit(rssi_bssids)\n",
    "\n",
    "ss = StandardScaler()\n",
    "ss.fit(train_df.loc[:,RSSI_FEATS])\n",
    "\n",
    "\n",
    "def preprocess(input_df, le=le, le_site=le_site, ss=ss):\n",
    "    output_df = input_df.copy()\n",
    "    # RSSIの正規化\n",
    "    output_df.loc[:,RSSI_FEATS] = ss.transform(input_df.loc[:,RSSI_FEATS])\n",
    "\n",
    "    # BSSIDのLE(1からふる)\n",
    "    for i in BSSID_FEATS:\n",
    "        output_df.loc[:,i] = le.transform(input_df.loc[:,i])\n",
    "        # output_df.loc[:,i] = output_df.loc[:,i] + 1  # 0からではなく1から番号を振りたいため なぜ？ embeddingのpadding用のダミー変数？\n",
    "    for i in RSSI_FEATS:\n",
    "        output_df.loc[:,i] = le_rssi.transform(input_df.loc[:,i])\n",
    "\n",
    "    # site_idのLE\n",
    "    output_df['site_id_str'] = input_df['site_id'].copy()\n",
    "    output_df.loc[:, 'site_id'] = le_site.transform(input_df.loc[:, 'site_id'])\n",
    "\n",
    "    # なぜ２重でやる？\n",
    "    # output_df.loc[:,RSSI_FEATS] = ss.transform(output_df.loc[:,RSSI_FEATS])\n",
    "    return output_df\n",
    "\n",
    "train = preprocess(train_df)\n",
    "test = preprocess(test_df)"
   ]
  },
  {
   "cell_type": "code",
   "execution_count": 17,
   "metadata": {},
   "outputs": [
    {
     "output_type": "execute_result",
     "data": {
      "text/plain": [
       "24"
      ]
     },
     "metadata": {},
     "execution_count": 17
    }
   ],
   "source": [
    "site_count = len(train['site_id'].unique())\n",
    "site_count"
   ]
  },
  {
   "cell_type": "markdown",
   "metadata": {},
   "source": [
    "## PyTorch model\n",
    "- embedding layerが重要  "
   ]
  },
  {
   "cell_type": "code",
   "execution_count": 18,
   "metadata": {},
   "outputs": [],
   "source": [
    "# dataset\n",
    "from torch.utils.data import Dataset, DataLoader\n",
    "class IndoorDataset(Dataset):\n",
    "    def __init__(self, df, phase='train'):\n",
    "        self.df = df\n",
    "        self.phase = phase\n",
    "        self.bssid_feats = df[BSSID_FEATS].values.astype(int)\n",
    "        self.rssi_feats = df[RSSI_FEATS].values.astype(np.float32)\n",
    "        self.site_id = df['site_id'].values.astype(int)\n",
    "\n",
    "        if phase in ['train', 'valid']:\n",
    "            self.xy = df[['x', 'y']].values.astype(np.float32)\n",
    "            self.ixy = df[['ix', 'iy']].values.astype(np.float32)\n",
    "            self.floor = df['floor'].values.astype(np.float32)\n",
    "            timediff = df['timediff'].astype(np.float32).abs().values\n",
    "            self.weight = 1- (timediff/np.max(timediff))  # lossにかける重み。timediffが大きいほど小さくなる\n",
    "        \n",
    "    def __len__(self):\n",
    "        return self.df.shape[0]\n",
    "\n",
    "    def __getitem__(self, idx):\n",
    "    \n",
    "        concat_feat = np.empty(2 * NUM_FEATS).astype(int)\n",
    "        concat_feat[0::2] = self.bssid_feats[idx]\n",
    "        concat_feat[1::2] = self.rssi_feats[idx]\n",
    "        \n",
    "        feature = {\n",
    "            'RSSI_BSSID_FEATS':concat_feat,\n",
    "            'site_id':self.site_id[idx]\n",
    "        }\n",
    "        if self.phase in ['train', 'valid']:\n",
    "            target = {\n",
    "                'xy':self.xy[idx],\n",
    "                'ixy':self.ixy[idx],\n",
    "                'floor':self.floor[idx],\n",
    "                'weight': self.weight[idx]\n",
    "            }\n",
    "        else:\n",
    "            target = {}\n",
    "        return feature, target"
   ]
  },
  {
   "cell_type": "code",
   "execution_count": 19,
   "metadata": {},
   "outputs": [],
   "source": [
    "import torch\n",
    "from torch import nn\n",
    "\n",
    "class LSTMModel(nn.Module):\n",
    "    def __init__(self, wifi_bssids_size, site_count=24, embedding_dim=64):\n",
    "        super(LSTMModel, self).__init__()\n",
    "        # bssid\n",
    "        # ->64次元に圧縮後sequence化にする\n",
    "        # wifi_bssids_sizeが辞書の数を表す\n",
    "        self.embedding_layer1 = nn.Sequential(\n",
    "            nn.Embedding(wifi_bssids_size, embedding_dim),\n",
    "            nn.Flatten(start_dim=-2)            \n",
    "        )\n",
    "        # site\n",
    "        # ->2次元に圧縮後sequence化する\n",
    "        # site_countが辞書の数を表す\n",
    "        self.embedding_layer2 = nn.Sequential(\n",
    "            nn.Embedding(site_count, 64),\n",
    "            nn.Flatten(start_dim=-1)           \n",
    "        )\n",
    "\n",
    "        # bssid, site, rssiの出力size\n",
    "        # feature_size = 2 + (2 * NUM_FEATS * embedding_dim)\n",
    "        feature_size = 64 + (2 * NUM_FEATS * 64)\n",
    "        self.linear_layer2 = nn.Sequential(\n",
    "            nn.BatchNorm1d(feature_size),\n",
    "            nn.Dropout(0.3),\n",
    "            nn.Linear(feature_size, 256),\n",
    "            nn.ReLU()\n",
    "        )\n",
    "\n",
    "        self.batch_norm1 = nn.BatchNorm1d(1)\n",
    "        self.lstm1 = nn.LSTM(input_size=256,hidden_size=128,dropout=0.3, batch_first=True)\n",
    "        self.lstm2 = nn.LSTM(input_size=128,hidden_size=16,dropout=0.1, batch_first=True)\n",
    "\n",
    "        self.fc_xy = nn.Linear(16, 2)\n",
    "        self.fc_floor = nn.Linear(16, 1)\n",
    "\n",
    "    \n",
    "    def forward(self, x):\n",
    "        # input embedding\n",
    "        batch_size = x[\"site_id\"].shape[0]\n",
    "        x_rssi_bssid = self.embedding_layer1(x['RSSI_BSSID_FEATS'])\n",
    "        x_site_id = self.embedding_layer2(x['site_id'])\n",
    "        # x_rssi = self.linear_layer1(x['RSSI_FEATS'])\n",
    "        x = torch.cat([x_rssi_bssid, x_site_id], dim=-1)\n",
    "        x = self.linear_layer2(x)\n",
    "\n",
    "        # lstm layer\n",
    "        x = x.view(batch_size, 1, -1)  # [batch, 1]->[batch, 1, 1]\n",
    "        x = self.batch_norm1(x)\n",
    "        x, _ = self.lstm1(x)\n",
    "        x = torch.relu(x)\n",
    "        x, _ = self.lstm2(x)\n",
    "        x = torch.relu(x)\n",
    "\n",
    "        # output [batch, 1, 1] -> [batch]\n",
    "        xy = self.fc_xy(x).squeeze(1)\n",
    "        floor = torch.relu(self.fc_floor(x)).view(-1)\n",
    "        return {\"xy\": xy, \"floor\": floor}"
   ]
  },
  {
   "cell_type": "code",
   "execution_count": 20,
   "metadata": {},
   "outputs": [],
   "source": [
    "def mean_position_error(xhat, yhat, fhat, x, y, f):\n",
    "    intermediate = np.sqrt(np.power(xhat-x, 2) + np.power(yhat-y, 2)) + 15 * np.abs(fhat-f)\n",
    "    return intermediate.sum()/xhat.shape[0]\n",
    "\n",
    "def to_np(input):\n",
    "    return input.detach().cpu().numpy()"
   ]
  },
  {
   "cell_type": "code",
   "execution_count": 21,
   "metadata": {},
   "outputs": [],
   "source": [
    "class WeightedMSELoss(nn.Module):\n",
    "    def __init__(self):\n",
    "        super().__init__()\n",
    "        self.loss = nn.MSELoss(reduction='none')\n",
    "\n",
    "    def forward(self, input, target, weight):  # weight:timediffによる重みづけ\n",
    "        input = input.float()\n",
    "        target = target.float()\n",
    "        weight = torch.stack((weight, weight), 1).float()  # x,y分でstack\n",
    "        loss = self.loss(input, target) * weight  # timediffが大きいもののlossはあまり計算しないようにする\n",
    "        return loss.mean()"
   ]
  },
  {
   "cell_type": "code",
   "execution_count": 22,
   "metadata": {},
   "outputs": [],
   "source": [
    "def get_optimizer(model: nn.Module, config: dict):\n",
    "    optimizer_config = config[\"optimizer\"]\n",
    "    optimizer_name = optimizer_config.get(\"name\")\n",
    "    base_optimizer_name = optimizer_config.get(\"base_name\")\n",
    "    optimizer_params = optimizer_config['params']\n",
    "\n",
    "    if hasattr(optim, optimizer_name):\n",
    "        optimizer = optim.__getattribute__(optimizer_name)(model.parameters(), **optimizer_params)\n",
    "        return optimizer\n",
    "    else:\n",
    "        base_optimizer = optim.__getattribute__(base_optimizer_name)\n",
    "        optimizer = globals().get(optimizer_name)(\n",
    "            model.parameters(), \n",
    "            base_optimizer,\n",
    "            **optimizer_config[\"params\"])\n",
    "        return  optimizer\n",
    "\n",
    "def get_scheduler(optimizer, config: dict):\n",
    "    scheduler_config = config[\"scheduler\"]\n",
    "    scheduler_name = scheduler_config.get(\"name\")\n",
    "\n",
    "    if scheduler_name is None:\n",
    "        return\n",
    "    else:\n",
    "        return optim.lr_scheduler.__getattribute__(scheduler_name)(\n",
    "            optimizer, **scheduler_config[\"params\"])\n",
    "\n",
    "\n",
    "def get_criterion(config: dict):\n",
    "    loss_config = config[\"loss\"]\n",
    "    loss_name = loss_config[\"name\"]\n",
    "    loss_params = {} if loss_config.get(\"params\") is None else loss_config.get(\"params\")\n",
    "    \n",
    "    \n",
    "    if hasattr(nn, loss_name):\n",
    "        criterion = nn.__getattribute__(loss_name)(**loss_params)\n",
    "    else:\n",
    "        criterion = globals().get(loss_name)(**loss_params)\n",
    "\n",
    "    return criterion\n",
    "\n",
    "def worker_init_fn(worker_id):                                                          \n",
    "    np.random.seed(np.random.get_state()[1][0] + worker_id)"
   ]
  },
  {
   "cell_type": "code",
   "execution_count": 23,
   "metadata": {},
   "outputs": [],
   "source": [
    "# Learner class(pytorch-lighting)\n",
    "class Learner(pl.LightningModule):\n",
    "    def __init__(self, model, config):\n",
    "        super().__init__()\n",
    "        self.model = model\n",
    "        self.config = config\n",
    "        self.xy_criterion = get_criterion(config)\n",
    "        self.f_criterion = get_criterion(config)\n",
    "    \n",
    "    def training_step(self, batch, batch_idx):\n",
    "        x, y = batch\n",
    "\n",
    "        output = self.model(x)\n",
    "        loss = self.xy_criterion(output[\"xy\"], y[\"ixy\"], y['weight'])\n",
    "        return loss\n",
    "    \n",
    "    def validation_step(self, batch, batch_idx):\n",
    "        x, y = batch\n",
    "        output = self.model(x)\n",
    "        xy_loss = self.xy_criterion(output[\"xy\"], y[\"ixy\"], y['weight'])\n",
    "        # f_loss = self.f_criterion(output[\"floor\"], y[\"floor\"], y['weight'])\n",
    "        loss = xy_loss  # + f_loss\n",
    "        mpe = mean_position_error(\n",
    "            to_np(output['xy'][:, 0]), to_np(output['xy'][:, 1]), 0, \n",
    "            to_np(y['xy'][:, 0]), to_np(y['xy'][:, 1]), 0)\n",
    "\n",
    "        impe = mean_position_error(\n",
    "            to_np(output['xy'][:, 0]), to_np(output['xy'][:, 1]), 0, \n",
    "            to_np(y['ixy'][:, 0]), to_np(y['ixy'][:, 1]), 0)\n",
    "\n",
    "        # floor lossは現状は無視して良い\n",
    "        self.log(f'Loss/val', loss, on_step=False, on_epoch=True, prog_bar=False, logger=True)\n",
    "        self.log(f'Loss/xy', xy_loss, on_step=False, on_epoch=True, prog_bar=False, logger=True)\n",
    "        # self.log(f'Loss/floor', f_loss, on_step=False, on_epoch=True, prog_bar=False, logger=True)\n",
    "        self.log(f'MPE/val', mpe, on_step=False, on_epoch=True, prog_bar=False, logger=True)\n",
    "        self.log(f'iMPE/val', impe, on_step=False, on_epoch=True, prog_bar=False, logger=True)\n",
    "        return loss\n",
    "\n",
    "    def configure_optimizers(self):\n",
    "        optimizer = get_optimizer(self.model, self.config)\n",
    "        scheduler = get_scheduler(optimizer, self.config)\n",
    "        return {\"optimizer\": optimizer, \"lr_scheduler\": scheduler, \"monitor\": \"Loss/val\"}"
   ]
  },
  {
   "cell_type": "code",
   "execution_count": 24,
   "metadata": {},
   "outputs": [],
   "source": [
    "# oof\n",
    "def evaluate(model, loaders, phase):\n",
    "    x_list = []\n",
    "    y_list = []\n",
    "    f_list = []\n",
    "    with torch.no_grad():\n",
    "        for batch in loaders[phase]:\n",
    "            x, y = batch\n",
    "            output = model(x)\n",
    "            x_list.append(to_np(output['xy'][:, 0]))\n",
    "            y_list.append(to_np(output['xy'][:, 1]))\n",
    "            f_list.append(to_np(output['floor']))\n",
    "\n",
    "    x_list = np.concatenate(x_list)\n",
    "    y_list = np.concatenate(y_list)\n",
    "    f_list = np.concatenate(f_list)\n",
    "    return x_list, y_list, f_list"
   ]
  },
  {
   "cell_type": "markdown",
   "metadata": {},
   "source": [
    "## train"
   ]
  },
  {
   "cell_type": "code",
   "execution_count": 25,
   "metadata": {
    "tags": []
   },
   "outputs": [
    {
     "output_type": "stream",
     "name": "stdout",
     "text": [
      "====================\n",
      "Fold 0\n",
      "====================\n",
      "/usr/local/lib/python3.8/dist-packages/torch/nn/modules/rnn.py:58: UserWarning: dropout option adds dropout after all but last recurrent layer, so non-zero dropout expects num_layers greater than 1, but got dropout=0.3 and num_layers=1\n",
      "  warnings.warn(\"dropout option adds dropout after all but last \"\n",
      "/usr/local/lib/python3.8/dist-packages/torch/nn/modules/rnn.py:58: UserWarning: dropout option adds dropout after all but last recurrent layer, so non-zero dropout expects num_layers greater than 1, but got dropout=0.1 and num_layers=1\n",
      "  warnings.warn(\"dropout option adds dropout after all but last \"\n",
      "Failed to detect the name of this notebook, you can set it manually with the WANDB_NOTEBOOK_NAME environment variable to enable code saving.\n",
      "\u001b[34m\u001b[1mwandb\u001b[0m: Currently logged in as: \u001b[33mkuto5046\u001b[0m (use `wandb login --relogin` to force relogin)\n",
      "\u001b[34m\u001b[1mwandb\u001b[0m: wandb version 0.10.27 is available!  To upgrade, please run:\n",
      "\u001b[34m\u001b[1mwandb\u001b[0m:  $ pip install wandb --upgrade\n"
     ]
    },
    {
     "output_type": "display_data",
     "data": {
      "text/plain": "<IPython.core.display.HTML object>",
      "text/html": "\n                Tracking run with wandb version 0.10.22<br/>\n                Syncing run <strong style=\"color:#cdcd00\">kind-violet-609</strong> to <a href=\"https://wandb.ai\" target=\"_blank\">Weights & Biases</a> <a href=\"https://docs.wandb.com/integrations/jupyter.html\" target=\"_blank\">(Documentation)</a>.<br/>\n                Project page: <a href=\"https://wandb.ai/kuto5046/indoor\" target=\"_blank\">https://wandb.ai/kuto5046/indoor</a><br/>\n                Run page: <a href=\"https://wandb.ai/kuto5046/indoor/runs/fodkunrz\" target=\"_blank\">https://wandb.ai/kuto5046/indoor/runs/fodkunrz</a><br/>\n                Run data is saved locally in <code>/home/user/work/exp/exp038/wandb/run-20210428_140149-fodkunrz</code><br/><br/>\n            "
     },
     "metadata": {}
    },
    {
     "output_type": "stream",
     "name": "stdout",
     "text": [
      "fold 0: mean position error 7.570111752432359\nfold 0: mean position error 7.303935006690405\n"
     ]
    },
    {
     "output_type": "display_data",
     "data": {
      "text/plain": "<IPython.core.display.HTML object>",
      "text/html": "<br/>Waiting for W&B process to finish, PID 338604<br/>Program ended successfully."
     },
     "metadata": {}
    },
    {
     "output_type": "display_data",
     "data": {
      "text/plain": "VBox(children=(Label(value=' 0.00MB of 0.00MB uploaded (0.00MB deduped)\\r'), FloatProgress(value=1.0, max=1.0)…",
      "application/vnd.jupyter.widget-view+json": {
       "version_major": 2,
       "version_minor": 0,
       "model_id": "a24173d628694f18926c820038ea14ee"
      }
     },
     "metadata": {}
    },
    {
     "output_type": "display_data",
     "data": {
      "text/plain": "<IPython.core.display.HTML object>",
      "text/html": "Find user logs for this run at: <code>/home/user/work/exp/exp038/wandb/run-20210428_140149-fodkunrz/logs/debug.log</code>"
     },
     "metadata": {}
    },
    {
     "output_type": "display_data",
     "data": {
      "text/plain": "<IPython.core.display.HTML object>",
      "text/html": "Find internal logs for this run at: <code>/home/user/work/exp/exp038/wandb/run-20210428_140149-fodkunrz/logs/debug-internal.log</code>"
     },
     "metadata": {}
    },
    {
     "output_type": "display_data",
     "data": {
      "text/plain": "<IPython.core.display.HTML object>",
      "text/html": "Synced 5 W&B file(s), 0 media file(s), 0 artifact file(s) and 0 other file(s)"
     },
     "metadata": {}
    },
    {
     "output_type": "display_data",
     "data": {
      "text/plain": "<IPython.core.display.HTML object>",
      "text/html": "\n                    <br/>Synced <strong style=\"color:#cdcd00\">kind-violet-609</strong>: <a href=\"https://wandb.ai/kuto5046/indoor/runs/fodkunrz\" target=\"_blank\">https://wandb.ai/kuto5046/indoor/runs/fodkunrz</a><br/>\n                "
     },
     "metadata": {}
    },
    {
     "output_type": "stream",
     "name": "stdout",
     "text": [
      "====================\n",
      "Fold 1\n",
      "====================\n",
      "\u001b[34m\u001b[1mwandb\u001b[0m: wandb version 0.10.27 is available!  To upgrade, please run:\n",
      "\u001b[34m\u001b[1mwandb\u001b[0m:  $ pip install wandb --upgrade\n"
     ]
    },
    {
     "output_type": "display_data",
     "data": {
      "text/plain": "<IPython.core.display.HTML object>",
      "text/html": "\n                Tracking run with wandb version 0.10.22<br/>\n                Syncing run <strong style=\"color:#cdcd00\">expert-river-610</strong> to <a href=\"https://wandb.ai\" target=\"_blank\">Weights & Biases</a> <a href=\"https://docs.wandb.com/integrations/jupyter.html\" target=\"_blank\">(Documentation)</a>.<br/>\n                Project page: <a href=\"https://wandb.ai/kuto5046/indoor\" target=\"_blank\">https://wandb.ai/kuto5046/indoor</a><br/>\n                Run page: <a href=\"https://wandb.ai/kuto5046/indoor/runs/2y46j76d\" target=\"_blank\">https://wandb.ai/kuto5046/indoor/runs/2y46j76d</a><br/>\n                Run data is saved locally in <code>/home/user/work/exp/exp038/wandb/run-20210428_140202-2y46j76d</code><br/><br/>\n            "
     },
     "metadata": {}
    },
    {
     "output_type": "stream",
     "name": "stdout",
     "text": [
      "fold 1: mean position error 7.041041094958383\nfold 1: mean position error 6.755166636427551\n"
     ]
    },
    {
     "output_type": "display_data",
     "data": {
      "text/plain": "<IPython.core.display.HTML object>",
      "text/html": "<br/>Waiting for W&B process to finish, PID 339221<br/>Program ended successfully."
     },
     "metadata": {}
    },
    {
     "output_type": "display_data",
     "data": {
      "text/plain": "VBox(children=(Label(value=' 0.00MB of 0.00MB uploaded (0.00MB deduped)\\r'), FloatProgress(value=1.0, max=1.0)…",
      "application/vnd.jupyter.widget-view+json": {
       "version_major": 2,
       "version_minor": 0,
       "model_id": "f8412c1e977546d0899ca1de8ebcd5d7"
      }
     },
     "metadata": {}
    },
    {
     "output_type": "display_data",
     "data": {
      "text/plain": "<IPython.core.display.HTML object>",
      "text/html": "Find user logs for this run at: <code>/home/user/work/exp/exp038/wandb/run-20210428_140202-2y46j76d/logs/debug.log</code>"
     },
     "metadata": {}
    },
    {
     "output_type": "display_data",
     "data": {
      "text/plain": "<IPython.core.display.HTML object>",
      "text/html": "Find internal logs for this run at: <code>/home/user/work/exp/exp038/wandb/run-20210428_140202-2y46j76d/logs/debug-internal.log</code>"
     },
     "metadata": {}
    },
    {
     "output_type": "display_data",
     "data": {
      "text/plain": "<IPython.core.display.HTML object>",
      "text/html": "Synced 5 W&B file(s), 0 media file(s), 0 artifact file(s) and 0 other file(s)"
     },
     "metadata": {}
    },
    {
     "output_type": "display_data",
     "data": {
      "text/plain": "<IPython.core.display.HTML object>",
      "text/html": "\n                    <br/>Synced <strong style=\"color:#cdcd00\">expert-river-610</strong>: <a href=\"https://wandb.ai/kuto5046/indoor/runs/2y46j76d\" target=\"_blank\">https://wandb.ai/kuto5046/indoor/runs/2y46j76d</a><br/>\n                "
     },
     "metadata": {}
    },
    {
     "output_type": "stream",
     "name": "stdout",
     "text": [
      "====================\n",
      "Fold 2\n",
      "====================\n",
      "\u001b[34m\u001b[1mwandb\u001b[0m: wandb version 0.10.27 is available!  To upgrade, please run:\n",
      "\u001b[34m\u001b[1mwandb\u001b[0m:  $ pip install wandb --upgrade\n"
     ]
    },
    {
     "output_type": "display_data",
     "data": {
      "text/plain": "<IPython.core.display.HTML object>",
      "text/html": "\n                Tracking run with wandb version 0.10.22<br/>\n                Syncing run <strong style=\"color:#cdcd00\">deft-wood-611</strong> to <a href=\"https://wandb.ai\" target=\"_blank\">Weights & Biases</a> <a href=\"https://docs.wandb.com/integrations/jupyter.html\" target=\"_blank\">(Documentation)</a>.<br/>\n                Project page: <a href=\"https://wandb.ai/kuto5046/indoor\" target=\"_blank\">https://wandb.ai/kuto5046/indoor</a><br/>\n                Run page: <a href=\"https://wandb.ai/kuto5046/indoor/runs/1lwy233o\" target=\"_blank\">https://wandb.ai/kuto5046/indoor/runs/1lwy233o</a><br/>\n                Run data is saved locally in <code>/home/user/work/exp/exp038/wandb/run-20210428_140213-1lwy233o</code><br/><br/>\n            "
     },
     "metadata": {}
    },
    {
     "output_type": "stream",
     "name": "stdout",
     "text": [
      "fold 2: mean position error 6.842686197355589\nfold 2: mean position error 6.558271012405597\n"
     ]
    },
    {
     "output_type": "display_data",
     "data": {
      "text/plain": "<IPython.core.display.HTML object>",
      "text/html": "<br/>Waiting for W&B process to finish, PID 339815<br/>Program ended successfully."
     },
     "metadata": {}
    },
    {
     "output_type": "display_data",
     "data": {
      "text/plain": "VBox(children=(Label(value=' 0.00MB of 0.00MB uploaded (0.00MB deduped)\\r'), FloatProgress(value=1.0, max=1.0)…",
      "application/vnd.jupyter.widget-view+json": {
       "version_major": 2,
       "version_minor": 0,
       "model_id": "b9293d6561644237b70a82cbb5f6936f"
      }
     },
     "metadata": {}
    },
    {
     "output_type": "display_data",
     "data": {
      "text/plain": "<IPython.core.display.HTML object>",
      "text/html": "Find user logs for this run at: <code>/home/user/work/exp/exp038/wandb/run-20210428_140213-1lwy233o/logs/debug.log</code>"
     },
     "metadata": {}
    },
    {
     "output_type": "display_data",
     "data": {
      "text/plain": "<IPython.core.display.HTML object>",
      "text/html": "Find internal logs for this run at: <code>/home/user/work/exp/exp038/wandb/run-20210428_140213-1lwy233o/logs/debug-internal.log</code>"
     },
     "metadata": {}
    },
    {
     "output_type": "display_data",
     "data": {
      "text/plain": "<IPython.core.display.HTML object>",
      "text/html": "Synced 5 W&B file(s), 0 media file(s), 0 artifact file(s) and 0 other file(s)"
     },
     "metadata": {}
    },
    {
     "output_type": "display_data",
     "data": {
      "text/plain": "<IPython.core.display.HTML object>",
      "text/html": "\n                    <br/>Synced <strong style=\"color:#cdcd00\">deft-wood-611</strong>: <a href=\"https://wandb.ai/kuto5046/indoor/runs/1lwy233o\" target=\"_blank\">https://wandb.ai/kuto5046/indoor/runs/1lwy233o</a><br/>\n                "
     },
     "metadata": {}
    },
    {
     "output_type": "stream",
     "name": "stdout",
     "text": [
      "====================\n",
      "Fold 3\n",
      "====================\n",
      "\u001b[34m\u001b[1mwandb\u001b[0m: wandb version 0.10.27 is available!  To upgrade, please run:\n",
      "\u001b[34m\u001b[1mwandb\u001b[0m:  $ pip install wandb --upgrade\n"
     ]
    },
    {
     "output_type": "display_data",
     "data": {
      "text/plain": "<IPython.core.display.HTML object>",
      "text/html": "\n                Tracking run with wandb version 0.10.22<br/>\n                Syncing run <strong style=\"color:#cdcd00\">smart-lion-612</strong> to <a href=\"https://wandb.ai\" target=\"_blank\">Weights & Biases</a> <a href=\"https://docs.wandb.com/integrations/jupyter.html\" target=\"_blank\">(Documentation)</a>.<br/>\n                Project page: <a href=\"https://wandb.ai/kuto5046/indoor\" target=\"_blank\">https://wandb.ai/kuto5046/indoor</a><br/>\n                Run page: <a href=\"https://wandb.ai/kuto5046/indoor/runs/2gk478vu\" target=\"_blank\">https://wandb.ai/kuto5046/indoor/runs/2gk478vu</a><br/>\n                Run data is saved locally in <code>/home/user/work/exp/exp038/wandb/run-20210428_140224-2gk478vu</code><br/><br/>\n            "
     },
     "metadata": {}
    },
    {
     "output_type": "stream",
     "name": "stdout",
     "text": [
      "fold 3: mean position error 6.925313400086181\nfold 3: mean position error 6.636054050529562\n"
     ]
    },
    {
     "output_type": "display_data",
     "data": {
      "text/plain": "<IPython.core.display.HTML object>",
      "text/html": "<br/>Waiting for W&B process to finish, PID 340409<br/>Program ended successfully."
     },
     "metadata": {}
    },
    {
     "output_type": "display_data",
     "data": {
      "text/plain": "VBox(children=(Label(value=' 0.00MB of 0.00MB uploaded (0.00MB deduped)\\r'), FloatProgress(value=1.0, max=1.0)…",
      "application/vnd.jupyter.widget-view+json": {
       "version_major": 2,
       "version_minor": 0,
       "model_id": "5dd654e90a6d45729e3f8d0004dd06c5"
      }
     },
     "metadata": {}
    },
    {
     "output_type": "display_data",
     "data": {
      "text/plain": "<IPython.core.display.HTML object>",
      "text/html": "Find user logs for this run at: <code>/home/user/work/exp/exp038/wandb/run-20210428_140224-2gk478vu/logs/debug.log</code>"
     },
     "metadata": {}
    },
    {
     "output_type": "display_data",
     "data": {
      "text/plain": "<IPython.core.display.HTML object>",
      "text/html": "Find internal logs for this run at: <code>/home/user/work/exp/exp038/wandb/run-20210428_140224-2gk478vu/logs/debug-internal.log</code>"
     },
     "metadata": {}
    },
    {
     "output_type": "display_data",
     "data": {
      "text/plain": "<IPython.core.display.HTML object>",
      "text/html": "Synced 5 W&B file(s), 0 media file(s), 0 artifact file(s) and 0 other file(s)"
     },
     "metadata": {}
    },
    {
     "output_type": "display_data",
     "data": {
      "text/plain": "<IPython.core.display.HTML object>",
      "text/html": "\n                    <br/>Synced <strong style=\"color:#cdcd00\">smart-lion-612</strong>: <a href=\"https://wandb.ai/kuto5046/indoor/runs/2gk478vu\" target=\"_blank\">https://wandb.ai/kuto5046/indoor/runs/2gk478vu</a><br/>\n                "
     },
     "metadata": {}
    },
    {
     "output_type": "stream",
     "name": "stdout",
     "text": [
      "====================\n",
      "Fold 4\n",
      "====================\n",
      "\u001b[34m\u001b[1mwandb\u001b[0m: wandb version 0.10.27 is available!  To upgrade, please run:\n",
      "\u001b[34m\u001b[1mwandb\u001b[0m:  $ pip install wandb --upgrade\n"
     ]
    },
    {
     "output_type": "display_data",
     "data": {
      "text/plain": "<IPython.core.display.HTML object>",
      "text/html": "\n                Tracking run with wandb version 0.10.22<br/>\n                Syncing run <strong style=\"color:#cdcd00\">glad-field-613</strong> to <a href=\"https://wandb.ai\" target=\"_blank\">Weights & Biases</a> <a href=\"https://docs.wandb.com/integrations/jupyter.html\" target=\"_blank\">(Documentation)</a>.<br/>\n                Project page: <a href=\"https://wandb.ai/kuto5046/indoor\" target=\"_blank\">https://wandb.ai/kuto5046/indoor</a><br/>\n                Run page: <a href=\"https://wandb.ai/kuto5046/indoor/runs/2ratvwo7\" target=\"_blank\">https://wandb.ai/kuto5046/indoor/runs/2ratvwo7</a><br/>\n                Run data is saved locally in <code>/home/user/work/exp/exp038/wandb/run-20210428_140235-2ratvwo7</code><br/><br/>\n            "
     },
     "metadata": {}
    },
    {
     "output_type": "stream",
     "name": "stdout",
     "text": [
      "fold 4: mean position error 7.094625989386071\nfold 4: mean position error 6.802328317419999\n"
     ]
    }
   ],
   "source": [
    "oofs = []  # 全てのoofをdfで格納する\n",
    "predictions = []  # 全ての予測値をdfで格納する\n",
    "val_scores = []\n",
    "# skf = model_selection.StratifiedKFold(n_splits=N_SPLITS, shuffle=True, random_state=SEED)\n",
    "gkf = model_selection.GroupKFold(n_splits=N_SPLITS)\n",
    "\n",
    "train_fold = [(trn_idx, val_idx) for trn_idx, val_idx in gkf.split(train.loc[:, 'path'], groups=train.loc[:, 'path'])]\n",
    "# 今回はtargetを均等に分ける必要はなくpathが均等に分かれればいいのでskf.split()にpathを与えている。\n",
    "for fold in range(5):\n",
    "    # 指定したfoldのみループを回す\n",
    "    if fold not in USE_FOLDS:\n",
    "        continue\n",
    "\n",
    "    print('=' * 20)\n",
    "    print(f'Fold {fold}')\n",
    "    print('=' * 20)\n",
    "\n",
    "    # train/valid data\n",
    "    trn_idx_for_train, val_idx_for_train = train_fold[fold]\n",
    "    trn_df = train.loc[trn_idx_for_train, :].reset_index(drop=True)\n",
    "    trn_df = trn_df.loc[:,BSSID_FEATS + RSSI_FEATS + ['site_id', 'x', 'y', 'ix','iy','floor','timediff']]\n",
    "    \n",
    "    val_df = train.loc[val_idx_for_train, :].reset_index(drop=True)\n",
    "    val_df = val_df.loc[:,BSSID_FEATS + RSSI_FEATS + ['site_id', 'x', 'y', 'ix','iy','floor','timediff']]\n",
    "\n",
    "    # data loader\n",
    "    loaders = {}\n",
    "    loader_config = config[\"loader\"]\n",
    "    loaders[\"train\"] = DataLoader(IndoorDataset(trn_df, phase=\"train\"), **loader_config[\"train\"], worker_init_fn=worker_init_fn) \n",
    "    loaders[\"valid\"] = DataLoader(IndoorDataset(val_df, phase=\"valid\"), **loader_config[\"valid\"], worker_init_fn=worker_init_fn)\n",
    "    loaders[\"test\"] = DataLoader(IndoorDataset(test, phase=\"test\"), **loader_config[\"test\"], worker_init_fn=worker_init_fn)\n",
    "\n",
    "    # model\n",
    "    model = LSTMModel(wifi_bssids_size, site_count)  # +1としているのはLEを1スタートで始めているため\n",
    "    model_name = model.__class__.__name__\n",
    "\n",
    "    # callbacks\n",
    "    callbacks = []\n",
    "    checkpoint_callback = ModelCheckpoint(\n",
    "        monitor=f'Loss/val',\n",
    "        mode='min',\n",
    "        dirpath=f\"../../model/{EXP_NAME}\",\n",
    "        verbose=False,\n",
    "        filename=f'{model_name}-{fold}')\n",
    "    \n",
    "    if MODEL_SAVE:\n",
    "        callbacks.append(checkpoint_callback)\n",
    "\n",
    "    early_stop_callback = EarlyStopping(\n",
    "        monitor='Loss/val',\n",
    "        min_delta=0.00,\n",
    "        patience=20,\n",
    "        verbose=False,\n",
    "        mode='min')\n",
    "    callbacks.append(early_stop_callback)\n",
    "\n",
    "    # loggers\n",
    "    RUN_NAME = EXP_NAME + \"_\" + EXP_MESSAGE\n",
    "    wandb.init(project='indoor', notes=NOTES, entity='kuto5046', group=RUN_NAME)\n",
    "    wandb.run.name = RUN_NAME + f'-fold-{fold}'\n",
    "    wandb_config = wandb.config\n",
    "    wandb_config['model_name'] = model_name\n",
    "    wandb_config['LB'] = None\n",
    "    wandb.watch(model)\n",
    "    \n",
    "    \n",
    "    loggers = []\n",
    "    loggers.append(WandbLogger())\n",
    "\n",
    "    learner = Learner(model, config)\n",
    "    # pretrained flag\n",
    "    if PRETRAINED:\n",
    "        ckpt = torch.load(PRETRAINED_PATH + f'{model_name}-{fold}.ckpt')\n",
    "        learner.load_state_dict(ckpt['state_dict'])\n",
    "\n",
    "    if not ONLY_PRED:\n",
    "        trainer = pl.Trainer(\n",
    "            logger=loggers, \n",
    "            callbacks=callbacks,\n",
    "            max_epochs=MAX_EPOCHS,\n",
    "            gpus=[0],\n",
    "            fast_dev_run=DEBUG,\n",
    "            deterministic=True,\n",
    "            # precision=16,\n",
    "            progress_bar_refresh_rate=0  # vscodeの時progress barの動作が遅いので表示しない\n",
    "            )\n",
    "\n",
    "        trainer.fit(learner, train_dataloader=loaders['train'], val_dataloaders=loaders['valid'])\n",
    "\n",
    "    #############\n",
    "    # validation (to make oof)\n",
    "    #############\n",
    "    model.eval() \n",
    "    oof_df = train.loc[val_idx_for_train, RSSI_FEATS + TIMEDIFF_FEATS + ['id', 'timestamp', 'x', 'y', 'floor', 'ix', 'iy', 'floor_str','path', 'site_id', 'site_id_str']].reset_index(drop=True)\n",
    "    # oof_df = train.loc[val_idx_for_train, ['id', 'timestamp', 'x', 'y', 'floor', 'ix', 'iy', 'floor_str','path', 'site_id', 'site_id_str']].reset_index(drop=True)\n",
    "    oof_x, oof_y, oof_f = evaluate(model, loaders, phase=\"valid\")\n",
    "    oof_df[\"oof_x\"] = oof_x\n",
    "    oof_df[\"oof_y\"] = oof_y\n",
    "    oof_df[\"oof_floor\"] = oof_f\n",
    "    oofs.append(oof_df)\n",
    "    \n",
    "    # 補間前のtargetで評価\n",
    "    val_score = mean_position_error(\n",
    "        oof_df[\"oof_x\"].values, oof_df[\"oof_y\"].values, 0,\n",
    "        oof_df['x'].values, oof_df['y'].values, 0)\n",
    "    val_scores.append(val_score)\n",
    "    print(f\"fold {fold}: mean position error {val_score}\")\n",
    "\n",
    "    # 補間後のtargetで評価\n",
    "    val_score = mean_position_error(\n",
    "        oof_df[\"oof_x\"].values, oof_df[\"oof_y\"].values, 0,\n",
    "        oof_df['ix'].values, oof_df['iy'].values, 0)\n",
    "    val_scores.append(val_score)\n",
    "    print(f\"fold {fold}: mean position error {val_score}\")\n",
    "\n",
    "    #############\n",
    "    # inference\n",
    "    #############\n",
    "\n",
    "    preds_x, preds_y, preds_f = evaluate(model, loaders, phase=\"test\")\n",
    "    test_preds = pd.DataFrame(np.stack((preds_f, preds_x, preds_y))).T\n",
    "    test_preds.columns = sub_df.columns\n",
    "    test_preds[\"site_path_timestamp\"] = test[\"site_path_timestamp\"]\n",
    "    test_preds[\"floor\"] = test_preds[\"floor\"].astype(int)\n",
    "    # test_preds.to_csv(f'{EXP_NAME}_fold{fold}.csv', index=False)\n",
    "    predictions.append(test_preds)\n",
    "\n",
    "    if fold != 4:\n",
    "        wandb.finish()"
   ]
  },
  {
   "cell_type": "markdown",
   "metadata": {},
   "source": [
    "## validation"
   ]
  },
  {
   "cell_type": "code",
   "execution_count": 73,
   "metadata": {},
   "outputs": [
    {
     "output_type": "execute_result",
     "data": {
      "text/plain": [
       "        rssi_0  rssi_1  rssi_2  rssi_3  rssi_4  rssi_5  rssi_6  rssi_7  \\\n",
       "0           39      46      47      47      49      49      49      51   \n",
       "1           40      47      47      48      48      49      49      49   \n",
       "2           44      44      44      44      45      45      45      45   \n",
       "3           43      44      44      44      45      45      49      49   \n",
       "4           43      43      43      44      44      45      45      46   \n",
       "...        ...     ...     ...     ...     ...     ...     ...     ...   \n",
       "220460      59      63      66      70      71      71      73      75   \n",
       "220461      62      62      63      70      71      73      75      75   \n",
       "220462      65      67      68      75      78      79      79      79   \n",
       "220463      62      65      67      75      75      79      79      80   \n",
       "220464      62      65      67      75      79      79      80      80   \n",
       "\n",
       "        rssi_8  rssi_9  ...          ix          iy  floor_str  \\\n",
       "0           52      55  ...   77.843651   37.382805         F3   \n",
       "1           49      49  ...   77.562737   36.170105         F3   \n",
       "2           46      47  ...   76.813652   32.936237         F3   \n",
       "3           50      50  ...   76.439110   31.319307         F3   \n",
       "4           46      47  ...   76.308945   29.970827         F3   \n",
       "...        ...     ...  ...         ...         ...        ...   \n",
       "220460      75      78  ...  195.845032  107.961899         B1   \n",
       "220461      78      79  ...  197.957138  107.930206         B1   \n",
       "220462      81      82  ...  203.237427  107.850967         B1   \n",
       "220463      81      82  ...  201.653351  107.874741         B1   \n",
       "220464      83      86  ...  200.069260  107.898514         B1   \n",
       "\n",
       "                            path  site_id               site_id_str  \\\n",
       "0       5d10a1669c50c70008fe8977        0  5a0546857ecc773753327266   \n",
       "1       5d10a1669c50c70008fe8977        0  5a0546857ecc773753327266   \n",
       "2       5d10a1669c50c70008fe8977        0  5a0546857ecc773753327266   \n",
       "3       5d10a1669c50c70008fe8977        0  5a0546857ecc773753327266   \n",
       "4       5d10a1669c50c70008fe8977        0  5a0546857ecc773753327266   \n",
       "...                          ...      ...                       ...   \n",
       "220460  5dd7c119c5b77e0006b16b99       23  5dc8cea7659e181adb076a3f   \n",
       "220461  5dd7c119c5b77e0006b16b99       23  5dc8cea7659e181adb076a3f   \n",
       "220462  5dd7c119c5b77e0006b16b99       23  5dc8cea7659e181adb076a3f   \n",
       "220463  5dd7c119c5b77e0006b16b99       23  5dc8cea7659e181adb076a3f   \n",
       "220464  5dd7c119c5b77e0006b16b99       23  5dc8cea7659e181adb076a3f   \n",
       "\n",
       "             oof_x       oof_y  oof_floor  \\\n",
       "0        79.262436   35.651375   0.205538   \n",
       "1        82.296295   33.535130   0.205931   \n",
       "2        86.662872   23.946400   0.205969   \n",
       "3        87.101913   23.149050   0.205791   \n",
       "4        82.743439   21.838287   0.201842   \n",
       "...            ...         ...        ...   \n",
       "220460  204.178116  105.088226   0.000000   \n",
       "220461  203.788315  104.344894   0.000000   \n",
       "220462  206.973663  106.884850   0.000000   \n",
       "220463  207.569855  106.029709   0.000000   \n",
       "220464  207.602112  104.346085   0.000000   \n",
       "\n",
       "                                      site_path_timestamp  \n",
       "0       5a0546857ecc773753327266_5d10a1669c50c70008fe8...  \n",
       "1       5a0546857ecc773753327266_5d10a1669c50c70008fe8...  \n",
       "2       5a0546857ecc773753327266_5d10a1669c50c70008fe8...  \n",
       "3       5a0546857ecc773753327266_5d10a1669c50c70008fe8...  \n",
       "4       5a0546857ecc773753327266_5d10a1669c50c70008fe8...  \n",
       "...                                                   ...  \n",
       "220460  5dc8cea7659e181adb076a3f_5dd7c119c5b77e0006b16...  \n",
       "220461  5dc8cea7659e181adb076a3f_5dd7c119c5b77e0006b16...  \n",
       "220462  5dc8cea7659e181adb076a3f_5dd7c119c5b77e0006b16...  \n",
       "220463  5dc8cea7659e181adb076a3f_5dd7c119c5b77e0006b16...  \n",
       "220464  5dc8cea7659e181adb076a3f_5dd7c119c5b77e0006b16...  \n",
       "\n",
       "[220465 rows x 175 columns]"
      ],
      "text/html": "<div>\n<style scoped>\n    .dataframe tbody tr th:only-of-type {\n        vertical-align: middle;\n    }\n\n    .dataframe tbody tr th {\n        vertical-align: top;\n    }\n\n    .dataframe thead th {\n        text-align: right;\n    }\n</style>\n<table border=\"1\" class=\"dataframe\">\n  <thead>\n    <tr style=\"text-align: right;\">\n      <th></th>\n      <th>rssi_0</th>\n      <th>rssi_1</th>\n      <th>rssi_2</th>\n      <th>rssi_3</th>\n      <th>rssi_4</th>\n      <th>rssi_5</th>\n      <th>rssi_6</th>\n      <th>rssi_7</th>\n      <th>rssi_8</th>\n      <th>rssi_9</th>\n      <th>...</th>\n      <th>ix</th>\n      <th>iy</th>\n      <th>floor_str</th>\n      <th>path</th>\n      <th>site_id</th>\n      <th>site_id_str</th>\n      <th>oof_x</th>\n      <th>oof_y</th>\n      <th>oof_floor</th>\n      <th>site_path_timestamp</th>\n    </tr>\n  </thead>\n  <tbody>\n    <tr>\n      <th>0</th>\n      <td>39</td>\n      <td>46</td>\n      <td>47</td>\n      <td>47</td>\n      <td>49</td>\n      <td>49</td>\n      <td>49</td>\n      <td>51</td>\n      <td>52</td>\n      <td>55</td>\n      <td>...</td>\n      <td>77.843651</td>\n      <td>37.382805</td>\n      <td>F3</td>\n      <td>5d10a1669c50c70008fe8977</td>\n      <td>0</td>\n      <td>5a0546857ecc773753327266</td>\n      <td>79.262436</td>\n      <td>35.651375</td>\n      <td>0.205538</td>\n      <td>5a0546857ecc773753327266_5d10a1669c50c70008fe8...</td>\n    </tr>\n    <tr>\n      <th>1</th>\n      <td>40</td>\n      <td>47</td>\n      <td>47</td>\n      <td>48</td>\n      <td>48</td>\n      <td>49</td>\n      <td>49</td>\n      <td>49</td>\n      <td>49</td>\n      <td>49</td>\n      <td>...</td>\n      <td>77.562737</td>\n      <td>36.170105</td>\n      <td>F3</td>\n      <td>5d10a1669c50c70008fe8977</td>\n      <td>0</td>\n      <td>5a0546857ecc773753327266</td>\n      <td>82.296295</td>\n      <td>33.535130</td>\n      <td>0.205931</td>\n      <td>5a0546857ecc773753327266_5d10a1669c50c70008fe8...</td>\n    </tr>\n    <tr>\n      <th>2</th>\n      <td>44</td>\n      <td>44</td>\n      <td>44</td>\n      <td>44</td>\n      <td>45</td>\n      <td>45</td>\n      <td>45</td>\n      <td>45</td>\n      <td>46</td>\n      <td>47</td>\n      <td>...</td>\n      <td>76.813652</td>\n      <td>32.936237</td>\n      <td>F3</td>\n      <td>5d10a1669c50c70008fe8977</td>\n      <td>0</td>\n      <td>5a0546857ecc773753327266</td>\n      <td>86.662872</td>\n      <td>23.946400</td>\n      <td>0.205969</td>\n      <td>5a0546857ecc773753327266_5d10a1669c50c70008fe8...</td>\n    </tr>\n    <tr>\n      <th>3</th>\n      <td>43</td>\n      <td>44</td>\n      <td>44</td>\n      <td>44</td>\n      <td>45</td>\n      <td>45</td>\n      <td>49</td>\n      <td>49</td>\n      <td>50</td>\n      <td>50</td>\n      <td>...</td>\n      <td>76.439110</td>\n      <td>31.319307</td>\n      <td>F3</td>\n      <td>5d10a1669c50c70008fe8977</td>\n      <td>0</td>\n      <td>5a0546857ecc773753327266</td>\n      <td>87.101913</td>\n      <td>23.149050</td>\n      <td>0.205791</td>\n      <td>5a0546857ecc773753327266_5d10a1669c50c70008fe8...</td>\n    </tr>\n    <tr>\n      <th>4</th>\n      <td>43</td>\n      <td>43</td>\n      <td>43</td>\n      <td>44</td>\n      <td>44</td>\n      <td>45</td>\n      <td>45</td>\n      <td>46</td>\n      <td>46</td>\n      <td>47</td>\n      <td>...</td>\n      <td>76.308945</td>\n      <td>29.970827</td>\n      <td>F3</td>\n      <td>5d10a1669c50c70008fe8977</td>\n      <td>0</td>\n      <td>5a0546857ecc773753327266</td>\n      <td>82.743439</td>\n      <td>21.838287</td>\n      <td>0.201842</td>\n      <td>5a0546857ecc773753327266_5d10a1669c50c70008fe8...</td>\n    </tr>\n    <tr>\n      <th>...</th>\n      <td>...</td>\n      <td>...</td>\n      <td>...</td>\n      <td>...</td>\n      <td>...</td>\n      <td>...</td>\n      <td>...</td>\n      <td>...</td>\n      <td>...</td>\n      <td>...</td>\n      <td>...</td>\n      <td>...</td>\n      <td>...</td>\n      <td>...</td>\n      <td>...</td>\n      <td>...</td>\n      <td>...</td>\n      <td>...</td>\n      <td>...</td>\n      <td>...</td>\n      <td>...</td>\n    </tr>\n    <tr>\n      <th>220460</th>\n      <td>59</td>\n      <td>63</td>\n      <td>66</td>\n      <td>70</td>\n      <td>71</td>\n      <td>71</td>\n      <td>73</td>\n      <td>75</td>\n      <td>75</td>\n      <td>78</td>\n      <td>...</td>\n      <td>195.845032</td>\n      <td>107.961899</td>\n      <td>B1</td>\n      <td>5dd7c119c5b77e0006b16b99</td>\n      <td>23</td>\n      <td>5dc8cea7659e181adb076a3f</td>\n      <td>204.178116</td>\n      <td>105.088226</td>\n      <td>0.000000</td>\n      <td>5dc8cea7659e181adb076a3f_5dd7c119c5b77e0006b16...</td>\n    </tr>\n    <tr>\n      <th>220461</th>\n      <td>62</td>\n      <td>62</td>\n      <td>63</td>\n      <td>70</td>\n      <td>71</td>\n      <td>73</td>\n      <td>75</td>\n      <td>75</td>\n      <td>78</td>\n      <td>79</td>\n      <td>...</td>\n      <td>197.957138</td>\n      <td>107.930206</td>\n      <td>B1</td>\n      <td>5dd7c119c5b77e0006b16b99</td>\n      <td>23</td>\n      <td>5dc8cea7659e181adb076a3f</td>\n      <td>203.788315</td>\n      <td>104.344894</td>\n      <td>0.000000</td>\n      <td>5dc8cea7659e181adb076a3f_5dd7c119c5b77e0006b16...</td>\n    </tr>\n    <tr>\n      <th>220462</th>\n      <td>65</td>\n      <td>67</td>\n      <td>68</td>\n      <td>75</td>\n      <td>78</td>\n      <td>79</td>\n      <td>79</td>\n      <td>79</td>\n      <td>81</td>\n      <td>82</td>\n      <td>...</td>\n      <td>203.237427</td>\n      <td>107.850967</td>\n      <td>B1</td>\n      <td>5dd7c119c5b77e0006b16b99</td>\n      <td>23</td>\n      <td>5dc8cea7659e181adb076a3f</td>\n      <td>206.973663</td>\n      <td>106.884850</td>\n      <td>0.000000</td>\n      <td>5dc8cea7659e181adb076a3f_5dd7c119c5b77e0006b16...</td>\n    </tr>\n    <tr>\n      <th>220463</th>\n      <td>62</td>\n      <td>65</td>\n      <td>67</td>\n      <td>75</td>\n      <td>75</td>\n      <td>79</td>\n      <td>79</td>\n      <td>80</td>\n      <td>81</td>\n      <td>82</td>\n      <td>...</td>\n      <td>201.653351</td>\n      <td>107.874741</td>\n      <td>B1</td>\n      <td>5dd7c119c5b77e0006b16b99</td>\n      <td>23</td>\n      <td>5dc8cea7659e181adb076a3f</td>\n      <td>207.569855</td>\n      <td>106.029709</td>\n      <td>0.000000</td>\n      <td>5dc8cea7659e181adb076a3f_5dd7c119c5b77e0006b16...</td>\n    </tr>\n    <tr>\n      <th>220464</th>\n      <td>62</td>\n      <td>65</td>\n      <td>67</td>\n      <td>75</td>\n      <td>79</td>\n      <td>79</td>\n      <td>80</td>\n      <td>80</td>\n      <td>83</td>\n      <td>86</td>\n      <td>...</td>\n      <td>200.069260</td>\n      <td>107.898514</td>\n      <td>B1</td>\n      <td>5dd7c119c5b77e0006b16b99</td>\n      <td>23</td>\n      <td>5dc8cea7659e181adb076a3f</td>\n      <td>207.602112</td>\n      <td>104.346085</td>\n      <td>0.000000</td>\n      <td>5dc8cea7659e181adb076a3f_5dd7c119c5b77e0006b16...</td>\n    </tr>\n  </tbody>\n</table>\n<p>220465 rows × 175 columns</p>\n</div>"
     },
     "metadata": {},
     "execution_count": 73
    }
   ],
   "source": [
    "if len(USE_FOLDS) > 1:\n",
    "    oofs_df = pd.concat(oofs)\n",
    "else:\n",
    "    oofs_df = oofs[0]\n",
    "\n",
    "oofs_df['site_path_timestamp'] = oofs_df['site_id_str'].astype(str) + '_' + oofs_df['path'] + '_' + oofs_df['timestamp'].astype(str)\n",
    "oofs_df = oofs_df.sort_values('site_path_timestamp').reset_index(drop=True)\n",
    "oofs_df.to_csv(\"oof.csv\", index=False)\n",
    "oofs_df"
   ]
  },
  {
   "cell_type": "code",
   "execution_count": 27,
   "metadata": {},
   "outputs": [
    {
     "output_type": "stream",
     "name": "stdout",
     "text": [
      "CV:7.094755403352006\n"
     ]
    }
   ],
   "source": [
    "# waypoint補正前のx,yでの評価\n",
    "oof_score = mean_position_error(\n",
    "    oofs_df['oof_x'], oofs_df['oof_y'], 0, \n",
    "    oofs_df['x'], oofs_df['y'], 0\n",
    "    )\n",
    "wandb_config['CV'] = oof_score\n",
    "print(f\"CV:{oof_score}\")"
   ]
  },
  {
   "cell_type": "code",
   "execution_count": 28,
   "metadata": {},
   "outputs": [
    {
     "output_type": "stream",
     "name": "stdout",
     "text": [
      "CV:6.811149728981925\n"
     ]
    }
   ],
   "source": [
    "# waypoint補正後のx,yでの評価\n",
    "oof_score = mean_position_error(\n",
    "    oofs_df['oof_x'], oofs_df['oof_y'], 0, \n",
    "    oofs_df['ix'], oofs_df['iy'], 0\n",
    "    )\n",
    "wandb_config['CV-i'] = oof_score\n",
    "print(f\"CV:{oof_score}\")"
   ]
  },
  {
   "cell_type": "code",
   "execution_count": 76,
   "metadata": {},
   "outputs": [],
   "source": [
    "\n",
    "mean_oofs_df = oofs_df.groupby(\"site_path_timestamp\").mean().reset_index()\n",
    "mean_oofs_df[\"site_id_str\"] = mean_oofs_df[\"site_path_timestamp\"].str.split(\"_\", expand=True)[0]\n",
    "mean_oofs_df[\"path\"] = mean_oofs_df[\"site_path_timestamp\"].str.split(\"_\", expand=True)[1]\n",
    "mean_oofs_df = pd.merge(mean_oofs_df, oofs_df[[\"path\", \"floor_str\"]].drop_duplicates(), on=\"path\", how=\"left\")"
   ]
  },
  {
   "cell_type": "code",
   "execution_count": 29,
   "metadata": {},
   "outputs": [
    {
     "output_type": "stream",
     "name": "stdout",
     "text": [
      "CV:6.711041766176843\n"
     ]
    }
   ],
   "source": [
    "# waypointの平均のx,yでの評価\n",
    "oof_score = mean_position_error(\n",
    "    mean_oofs_df['oof_x'], mean_oofs_df['oof_y'], 0, \n",
    "    mean_oofs_df['x'], mean_oofs_df['y'], 0\n",
    "    )\n",
    "wandb_config['CV(mean)'] = oof_score\n",
    "print(f\"CV:{oof_score}\")"
   ]
  },
  {
   "cell_type": "code",
   "execution_count": 30,
   "metadata": {},
   "outputs": [
    {
     "output_type": "execute_result",
     "data": {
      "text/plain": [
       "                                                    floor           x  \\\n",
       "site_path_timestamp                                                     \n",
       "5a0546857ecc773753327266_046cfa46be49fc10834815...      0   85.267021   \n",
       "5a0546857ecc773753327266_046cfa46be49fc10834815...      0   82.697800   \n",
       "5a0546857ecc773753327266_046cfa46be49fc10834815...      0   84.964699   \n",
       "5a0546857ecc773753327266_046cfa46be49fc10834815...      0   86.664825   \n",
       "5a0546857ecc773753327266_046cfa46be49fc10834815...      0   83.760201   \n",
       "...                                                   ...         ...   \n",
       "5dc8cea7659e181adb076a3f_fd64de8c4a2fc5ebb0e9f4...      0  211.185181   \n",
       "5dc8cea7659e181adb076a3f_fd64de8c4a2fc5ebb0e9f4...      0  206.992462   \n",
       "5dc8cea7659e181adb076a3f_fd64de8c4a2fc5ebb0e9f4...      0  203.806610   \n",
       "5dc8cea7659e181adb076a3f_fd64de8c4a2fc5ebb0e9f4...      0  202.334366   \n",
       "5dc8cea7659e181adb076a3f_fd64de8c4a2fc5ebb0e9f4...      0  196.911758   \n",
       "\n",
       "                                                             y  \n",
       "site_path_timestamp                                             \n",
       "5a0546857ecc773753327266_046cfa46be49fc10834815...  104.663521  \n",
       "5a0546857ecc773753327266_046cfa46be49fc10834815...  105.373505  \n",
       "5a0546857ecc773753327266_046cfa46be49fc10834815...  103.951103  \n",
       "5a0546857ecc773753327266_046cfa46be49fc10834815...  106.717567  \n",
       "5a0546857ecc773753327266_046cfa46be49fc10834815...  107.410637  \n",
       "...                                                        ...  \n",
       "5dc8cea7659e181adb076a3f_fd64de8c4a2fc5ebb0e9f4...   98.134605  \n",
       "5dc8cea7659e181adb076a3f_fd64de8c4a2fc5ebb0e9f4...  102.895439  \n",
       "5dc8cea7659e181adb076a3f_fd64de8c4a2fc5ebb0e9f4...  105.155952  \n",
       "5dc8cea7659e181adb076a3f_fd64de8c4a2fc5ebb0e9f4...  111.245056  \n",
       "5dc8cea7659e181adb076a3f_fd64de8c4a2fc5ebb0e9f4...  113.656502  \n",
       "\n",
       "[9992 rows x 3 columns]"
      ],
      "text/html": "<div>\n<style scoped>\n    .dataframe tbody tr th:only-of-type {\n        vertical-align: middle;\n    }\n\n    .dataframe tbody tr th {\n        vertical-align: top;\n    }\n\n    .dataframe thead th {\n        text-align: right;\n    }\n</style>\n<table border=\"1\" class=\"dataframe\">\n  <thead>\n    <tr style=\"text-align: right;\">\n      <th></th>\n      <th>floor</th>\n      <th>x</th>\n      <th>y</th>\n    </tr>\n    <tr>\n      <th>site_path_timestamp</th>\n      <th></th>\n      <th></th>\n      <th></th>\n    </tr>\n  </thead>\n  <tbody>\n    <tr>\n      <th>5a0546857ecc773753327266_046cfa46be49fc10834815c6_1578474563646</th>\n      <td>0</td>\n      <td>85.267021</td>\n      <td>104.663521</td>\n    </tr>\n    <tr>\n      <th>5a0546857ecc773753327266_046cfa46be49fc10834815c6_1578474572654</th>\n      <td>0</td>\n      <td>82.697800</td>\n      <td>105.373505</td>\n    </tr>\n    <tr>\n      <th>5a0546857ecc773753327266_046cfa46be49fc10834815c6_1578474578963</th>\n      <td>0</td>\n      <td>84.964699</td>\n      <td>103.951103</td>\n    </tr>\n    <tr>\n      <th>5a0546857ecc773753327266_046cfa46be49fc10834815c6_1578474582400</th>\n      <td>0</td>\n      <td>86.664825</td>\n      <td>106.717567</td>\n    </tr>\n    <tr>\n      <th>5a0546857ecc773753327266_046cfa46be49fc10834815c6_1578474585965</th>\n      <td>0</td>\n      <td>83.760201</td>\n      <td>107.410637</td>\n    </tr>\n    <tr>\n      <th>...</th>\n      <td>...</td>\n      <td>...</td>\n      <td>...</td>\n    </tr>\n    <tr>\n      <th>5dc8cea7659e181adb076a3f_fd64de8c4a2fc5ebb0e9f412_1573731143256</th>\n      <td>0</td>\n      <td>211.185181</td>\n      <td>98.134605</td>\n    </tr>\n    <tr>\n      <th>5dc8cea7659e181adb076a3f_fd64de8c4a2fc5ebb0e9f412_1573731146426</th>\n      <td>0</td>\n      <td>206.992462</td>\n      <td>102.895439</td>\n    </tr>\n    <tr>\n      <th>5dc8cea7659e181adb076a3f_fd64de8c4a2fc5ebb0e9f412_1573731151563</th>\n      <td>0</td>\n      <td>203.806610</td>\n      <td>105.155952</td>\n    </tr>\n    <tr>\n      <th>5dc8cea7659e181adb076a3f_fd64de8c4a2fc5ebb0e9f412_1573731157567</th>\n      <td>0</td>\n      <td>202.334366</td>\n      <td>111.245056</td>\n    </tr>\n    <tr>\n      <th>5dc8cea7659e181adb076a3f_fd64de8c4a2fc5ebb0e9f412_1573731161115</th>\n      <td>0</td>\n      <td>196.911758</td>\n      <td>113.656502</td>\n    </tr>\n  </tbody>\n</table>\n<p>9992 rows × 3 columns</p>\n</div>"
     },
     "metadata": {},
     "execution_count": 30
    }
   ],
   "source": [
    "if len(USE_FOLDS) > 1:\n",
    "    # foldの結果を平均した後、reindexでsubmission fileにindexを合わせる\n",
    "    all_preds = pd.concat(predictions).groupby('site_path_timestamp').mean()  # 平均でいいんだっけ？\n",
    "else:\n",
    "    all_preds = predictions[0]\n",
    "all_preds"
   ]
  },
  {
   "cell_type": "code",
   "execution_count": 31,
   "metadata": {},
   "outputs": [
    {
     "output_type": "execute_result",
     "data": {
      "text/plain": [
       "                                                    floor           x  \\\n",
       "site_path_timestamp                                                     \n",
       "5a0546857ecc773753327266_046cfa46be49fc10834815...    0.0   85.267021   \n",
       "5a0546857ecc773753327266_046cfa46be49fc10834815...    0.0   82.697800   \n",
       "5a0546857ecc773753327266_046cfa46be49fc10834815...    0.0   84.964699   \n",
       "5a0546857ecc773753327266_046cfa46be49fc10834815...    0.0   86.664825   \n",
       "5a0546857ecc773753327266_046cfa46be49fc10834815...    0.0   83.760201   \n",
       "...                                                   ...         ...   \n",
       "5dc8cea7659e181adb076a3f_fd64de8c4a2fc5ebb0e9f4...    0.0  211.185181   \n",
       "5dc8cea7659e181adb076a3f_fd64de8c4a2fc5ebb0e9f4...    0.0  206.992462   \n",
       "5dc8cea7659e181adb076a3f_fd64de8c4a2fc5ebb0e9f4...    0.0  203.806610   \n",
       "5dc8cea7659e181adb076a3f_fd64de8c4a2fc5ebb0e9f4...    0.0  202.334366   \n",
       "5dc8cea7659e181adb076a3f_fd64de8c4a2fc5ebb0e9f4...    0.0  196.911758   \n",
       "\n",
       "                                                             y  \n",
       "site_path_timestamp                                             \n",
       "5a0546857ecc773753327266_046cfa46be49fc10834815...  104.663521  \n",
       "5a0546857ecc773753327266_046cfa46be49fc10834815...  105.373505  \n",
       "5a0546857ecc773753327266_046cfa46be49fc10834815...  103.951103  \n",
       "5a0546857ecc773753327266_046cfa46be49fc10834815...  106.717567  \n",
       "5a0546857ecc773753327266_046cfa46be49fc10834815...  107.410637  \n",
       "...                                                        ...  \n",
       "5dc8cea7659e181adb076a3f_fd64de8c4a2fc5ebb0e9f4...   98.134605  \n",
       "5dc8cea7659e181adb076a3f_fd64de8c4a2fc5ebb0e9f4...  102.895439  \n",
       "5dc8cea7659e181adb076a3f_fd64de8c4a2fc5ebb0e9f4...  105.155952  \n",
       "5dc8cea7659e181adb076a3f_fd64de8c4a2fc5ebb0e9f4...  111.245056  \n",
       "5dc8cea7659e181adb076a3f_fd64de8c4a2fc5ebb0e9f4...  113.656502  \n",
       "\n",
       "[10133 rows x 3 columns]"
      ],
      "text/html": "<div>\n<style scoped>\n    .dataframe tbody tr th:only-of-type {\n        vertical-align: middle;\n    }\n\n    .dataframe tbody tr th {\n        vertical-align: top;\n    }\n\n    .dataframe thead th {\n        text-align: right;\n    }\n</style>\n<table border=\"1\" class=\"dataframe\">\n  <thead>\n    <tr style=\"text-align: right;\">\n      <th></th>\n      <th>floor</th>\n      <th>x</th>\n      <th>y</th>\n    </tr>\n    <tr>\n      <th>site_path_timestamp</th>\n      <th></th>\n      <th></th>\n      <th></th>\n    </tr>\n  </thead>\n  <tbody>\n    <tr>\n      <th>5a0546857ecc773753327266_046cfa46be49fc10834815c6_0000000000009</th>\n      <td>0.0</td>\n      <td>85.267021</td>\n      <td>104.663521</td>\n    </tr>\n    <tr>\n      <th>5a0546857ecc773753327266_046cfa46be49fc10834815c6_0000000009017</th>\n      <td>0.0</td>\n      <td>82.697800</td>\n      <td>105.373505</td>\n    </tr>\n    <tr>\n      <th>5a0546857ecc773753327266_046cfa46be49fc10834815c6_0000000015326</th>\n      <td>0.0</td>\n      <td>84.964699</td>\n      <td>103.951103</td>\n    </tr>\n    <tr>\n      <th>5a0546857ecc773753327266_046cfa46be49fc10834815c6_0000000018763</th>\n      <td>0.0</td>\n      <td>86.664825</td>\n      <td>106.717567</td>\n    </tr>\n    <tr>\n      <th>5a0546857ecc773753327266_046cfa46be49fc10834815c6_0000000022328</th>\n      <td>0.0</td>\n      <td>83.760201</td>\n      <td>107.410637</td>\n    </tr>\n    <tr>\n      <th>...</th>\n      <td>...</td>\n      <td>...</td>\n      <td>...</td>\n    </tr>\n    <tr>\n      <th>5dc8cea7659e181adb076a3f_fd64de8c4a2fc5ebb0e9f412_0000000082589</th>\n      <td>0.0</td>\n      <td>211.185181</td>\n      <td>98.134605</td>\n    </tr>\n    <tr>\n      <th>5dc8cea7659e181adb076a3f_fd64de8c4a2fc5ebb0e9f412_0000000085758</th>\n      <td>0.0</td>\n      <td>206.992462</td>\n      <td>102.895439</td>\n    </tr>\n    <tr>\n      <th>5dc8cea7659e181adb076a3f_fd64de8c4a2fc5ebb0e9f412_0000000090895</th>\n      <td>0.0</td>\n      <td>203.806610</td>\n      <td>105.155952</td>\n    </tr>\n    <tr>\n      <th>5dc8cea7659e181adb076a3f_fd64de8c4a2fc5ebb0e9f412_0000000096899</th>\n      <td>0.0</td>\n      <td>202.334366</td>\n      <td>111.245056</td>\n    </tr>\n    <tr>\n      <th>5dc8cea7659e181adb076a3f_fd64de8c4a2fc5ebb0e9f412_0000000100447</th>\n      <td>0.0</td>\n      <td>196.911758</td>\n      <td>113.656502</td>\n    </tr>\n  </tbody>\n</table>\n<p>10133 rows × 3 columns</p>\n</div>"
     },
     "metadata": {},
     "execution_count": 31
    }
   ],
   "source": [
    "all_preds_20s = pd.read_csv('../../exp/exp021/exp021_diff_weight_v2_cost_snap_sub.csv', index_col=0)\n",
    "with open(root_dir/'2kaido_wifi_dataset_v2/test_20000_7.pkl', 'rb') as f:\n",
    "  tmp = pickle.load(f)\n",
    "# site_path_timestampをoriginalに戻す\n",
    "all_preds_20s.index = tmp['site_path_timestamp']\n",
    "\n",
    "# オリジナルのsite_path_timestampをもとにmerge\n",
    "sub = pd.merge(all_preds_20s, all_preds, how='left', on='site_path_timestamp')[['floor_y', 'x_y', 'y_y']]\n",
    "sub = sub.rename(columns={'floor_y': 'floor', 'x_y': 'x', 'y_y': 'y'})\n",
    "\n",
    "# 欠損している箇所は補間\n",
    "sub['floor'].fillna(all_preds_20s['floor'], inplace=True)\n",
    "sub['x'].fillna(all_preds_20s['x'].astype(np.float32), inplace=True)\n",
    "sub['y'].fillna(all_preds_20s['y'].astype(np.float32), inplace=True)\n",
    "\n",
    "# foldの結果を平均した後、reindexでsubmission fileにindexを合わせる\n",
    "sub.index = sub_df.index\n",
    "sub"
   ]
  },
  {
   "cell_type": "code",
   "execution_count": 32,
   "metadata": {},
   "outputs": [
    {
     "output_type": "execute_result",
     "data": {
      "text/plain": [
       "                                                    floor           x  \\\n",
       "site_path_timestamp                                                     \n",
       "5a0546857ecc773753327266_046cfa46be49fc10834815...      0   85.267021   \n",
       "5a0546857ecc773753327266_046cfa46be49fc10834815...      0   82.697800   \n",
       "5a0546857ecc773753327266_046cfa46be49fc10834815...      0   84.964699   \n",
       "5a0546857ecc773753327266_046cfa46be49fc10834815...      0   86.664825   \n",
       "5a0546857ecc773753327266_046cfa46be49fc10834815...      0   83.760201   \n",
       "...                                                   ...         ...   \n",
       "5dc8cea7659e181adb076a3f_fd64de8c4a2fc5ebb0e9f4...      5  211.185181   \n",
       "5dc8cea7659e181adb076a3f_fd64de8c4a2fc5ebb0e9f4...      5  206.992462   \n",
       "5dc8cea7659e181adb076a3f_fd64de8c4a2fc5ebb0e9f4...      5  203.806610   \n",
       "5dc8cea7659e181adb076a3f_fd64de8c4a2fc5ebb0e9f4...      5  202.334366   \n",
       "5dc8cea7659e181adb076a3f_fd64de8c4a2fc5ebb0e9f4...      5  196.911758   \n",
       "\n",
       "                                                             y  \n",
       "site_path_timestamp                                             \n",
       "5a0546857ecc773753327266_046cfa46be49fc10834815...  104.663521  \n",
       "5a0546857ecc773753327266_046cfa46be49fc10834815...  105.373505  \n",
       "5a0546857ecc773753327266_046cfa46be49fc10834815...  103.951103  \n",
       "5a0546857ecc773753327266_046cfa46be49fc10834815...  106.717567  \n",
       "5a0546857ecc773753327266_046cfa46be49fc10834815...  107.410637  \n",
       "...                                                        ...  \n",
       "5dc8cea7659e181adb076a3f_fd64de8c4a2fc5ebb0e9f4...   98.134605  \n",
       "5dc8cea7659e181adb076a3f_fd64de8c4a2fc5ebb0e9f4...  102.895439  \n",
       "5dc8cea7659e181adb076a3f_fd64de8c4a2fc5ebb0e9f4...  105.155952  \n",
       "5dc8cea7659e181adb076a3f_fd64de8c4a2fc5ebb0e9f4...  111.245056  \n",
       "5dc8cea7659e181adb076a3f_fd64de8c4a2fc5ebb0e9f4...  113.656502  \n",
       "\n",
       "[10133 rows x 3 columns]"
      ],
      "text/html": "<div>\n<style scoped>\n    .dataframe tbody tr th:only-of-type {\n        vertical-align: middle;\n    }\n\n    .dataframe tbody tr th {\n        vertical-align: top;\n    }\n\n    .dataframe thead th {\n        text-align: right;\n    }\n</style>\n<table border=\"1\" class=\"dataframe\">\n  <thead>\n    <tr style=\"text-align: right;\">\n      <th></th>\n      <th>floor</th>\n      <th>x</th>\n      <th>y</th>\n    </tr>\n    <tr>\n      <th>site_path_timestamp</th>\n      <th></th>\n      <th></th>\n      <th></th>\n    </tr>\n  </thead>\n  <tbody>\n    <tr>\n      <th>5a0546857ecc773753327266_046cfa46be49fc10834815c6_0000000000009</th>\n      <td>0</td>\n      <td>85.267021</td>\n      <td>104.663521</td>\n    </tr>\n    <tr>\n      <th>5a0546857ecc773753327266_046cfa46be49fc10834815c6_0000000009017</th>\n      <td>0</td>\n      <td>82.697800</td>\n      <td>105.373505</td>\n    </tr>\n    <tr>\n      <th>5a0546857ecc773753327266_046cfa46be49fc10834815c6_0000000015326</th>\n      <td>0</td>\n      <td>84.964699</td>\n      <td>103.951103</td>\n    </tr>\n    <tr>\n      <th>5a0546857ecc773753327266_046cfa46be49fc10834815c6_0000000018763</th>\n      <td>0</td>\n      <td>86.664825</td>\n      <td>106.717567</td>\n    </tr>\n    <tr>\n      <th>5a0546857ecc773753327266_046cfa46be49fc10834815c6_0000000022328</th>\n      <td>0</td>\n      <td>83.760201</td>\n      <td>107.410637</td>\n    </tr>\n    <tr>\n      <th>...</th>\n      <td>...</td>\n      <td>...</td>\n      <td>...</td>\n    </tr>\n    <tr>\n      <th>5dc8cea7659e181adb076a3f_fd64de8c4a2fc5ebb0e9f412_0000000082589</th>\n      <td>5</td>\n      <td>211.185181</td>\n      <td>98.134605</td>\n    </tr>\n    <tr>\n      <th>5dc8cea7659e181adb076a3f_fd64de8c4a2fc5ebb0e9f412_0000000085758</th>\n      <td>5</td>\n      <td>206.992462</td>\n      <td>102.895439</td>\n    </tr>\n    <tr>\n      <th>5dc8cea7659e181adb076a3f_fd64de8c4a2fc5ebb0e9f412_0000000090895</th>\n      <td>5</td>\n      <td>203.806610</td>\n      <td>105.155952</td>\n    </tr>\n    <tr>\n      <th>5dc8cea7659e181adb076a3f_fd64de8c4a2fc5ebb0e9f412_0000000096899</th>\n      <td>5</td>\n      <td>202.334366</td>\n      <td>111.245056</td>\n    </tr>\n    <tr>\n      <th>5dc8cea7659e181adb076a3f_fd64de8c4a2fc5ebb0e9f412_0000000100447</th>\n      <td>5</td>\n      <td>196.911758</td>\n      <td>113.656502</td>\n    </tr>\n  </tbody>\n</table>\n<p>10133 rows × 3 columns</p>\n</div>"
     },
     "metadata": {},
     "execution_count": 32
    }
   ],
   "source": [
    "# floorの数値を置換\n",
    "simple_accurate_99 = pd.read_csv(root_dir / 'simple-99-accurate-floor-model/submission.csv')\n",
    "sub['floor'] = simple_accurate_99['floor'].values\n",
    "sub"
   ]
  },
  {
   "cell_type": "markdown",
   "metadata": {},
   "source": [
    "## testのwaypointを予測結果(wifi)から再度線形補完"
   ]
  },
  {
   "cell_type": "code",
   "execution_count": 33,
   "metadata": {},
   "outputs": [],
   "source": [
    "# import sys \n",
    "# sys.path.append(\"../../\")\n",
    "# from multiprocessing import Pool\n",
    "# from src.io_f import read_data_file\n",
    "# from scipy import interpolate\n",
    "\n",
    "# # timestampとwaypointを元に線形補完しtarget_timestampに対応するtarget_waypointを求める　\n",
    "# def wifi_waypoint_by_linear_interpolation(\n",
    "#     observed_timestamp: np.ndarray, \n",
    "#     observed_x:np.ndarray, \n",
    "#     observed_y:np.ndarray, \n",
    "#     target_timestamp:np.ndarray, \n",
    "#     delta_time=500\n",
    "#     ):\n",
    "#     \"\"\"\n",
    "#     observed: すでに知っている情報\n",
    "#     observed-timestamp,x,yは全て同じ要素数となる\n",
    "\n",
    "#     observedの情報からfitting関数を作成\n",
    "#     \"\"\"\n",
    "#     target_waypoint_list = []\n",
    "#     num_interpolation = len(observed_timestamp) - 1  # 補完回数 \n",
    "#     # 各waypoint間で線形補完\n",
    "#     for i in range(num_interpolation):\n",
    "#         # 潜在的なtimestampを作成(これのどれかにwifiを当てはめるような形)\n",
    "#         n_split = int((max(observed_timestamp[i:i+2]) - min(observed_timestamp[i:i+2])) / delta_time) + 2  # delta_time刻みとなるように分割数を指定(+2は始点と終点分)\n",
    "#         latent_timestamp = np.linspace(min(observed_timestamp[i:i+2]), max(observed_timestamp[i:i+2]), n_split).astype(int) \n",
    "        \n",
    "#         # xが昇順の場合はlatentも昇順になるようにする\n",
    "#         if observed_x[i] < observed_x[i+1]:\n",
    "#             latent_x = np.linspace(min(observed_x[i:i+2]), max(observed_x[i:i+2]), n_split)\n",
    "#         # xが降順の場合はlatentも降順になるようにする\n",
    "#         else:\n",
    "#             latent_x = np.linspace(min(observed_x[i:i+2]), max(observed_x[i:i+2]), n_split)[::-1]\n",
    "        \n",
    "#         # 線形補完関数の適用\n",
    "#         fitting_func = interpolate.interp1d(observed_x[i:i+2], observed_y[i:i+2])\n",
    "\n",
    "#         # wifiのtimestampに最も近いものをsplit_timestampから取得しそれに対応するwaypointをwifiのwaypointとして取得\n",
    "#         target_x = []\n",
    "#         target_y = []\n",
    "\n",
    "#         # 区間内のwifiデータのみ考える\n",
    "#         if i == num_interpolation-1:\n",
    "#             # pathの最後の区間にobserved timestampより未来にあるtimestampに対処\n",
    "#             target_idx = min(observed_timestamp[i:i+2]) <= target_timestamp\n",
    "#         elif i == 0:\n",
    "#             # pathの最初の区間にobserved timestampより過去にあるtimestampに対処\n",
    "#             target_idx = target_timestamp < max(observed_timestamp[i:i+2])\n",
    "#         else:\n",
    "#             target_idx = (min(observed_timestamp[i:i+2]) <= target_timestamp) & (target_timestamp < max(observed_timestamp[i:i+2]))\n",
    "#         target_use_timestamp = target_timestamp[target_idx]\n",
    "\n",
    "#         # timestampが最も近いものをtarget waypointとして取得\n",
    "#         for t in target_use_timestamp:\n",
    "#             idx = np.abs(latent_timestamp - t).argmin()  # targetとtimestampが最も近いものをlatentから取得\n",
    "#             target_x.append(latent_x[idx])\n",
    "#             # 原因はよくわからないがfittingするとnanが発生する場合がある\n",
    "#             # その場合は元の値をそのまま使う\n",
    "#             if np.isnan(fitting_func(latent_x[idx])).sum() > 0:\n",
    "#                 # print('yに欠損値あり')\n",
    "#                 idx = np.abs(observed_timestamp - t).argmin()  # 0→wifiの最初のtimestampで問題が起きている\n",
    "#                 target_y.append(observed_y[idx])\n",
    "                \n",
    "#             else:\n",
    "#                 target_y.append(fitting_func(latent_x[idx]))\n",
    "\n",
    "#         assert len(target_x) == len(target_y)\n",
    "#         target_waypoint = np.stack([target_x, target_y], axis=1)\n",
    "#         target_waypoint_list.append(target_waypoint)\n",
    "\n",
    "#     target_waypoint = np.concatenate(target_waypoint_list)\n",
    "#     return target_waypoint"
   ]
  },
  {
   "cell_type": "code",
   "execution_count": null,
   "metadata": {},
   "outputs": [],
   "source": [
    "# timediff = pd.read_csv(root_dir/'test_path_timediff.csv').rename(columns={'path_id':'path'})\n",
    "# timediff"
   ]
  },
  {
   "cell_type": "code",
   "execution_count": null,
   "metadata": {},
   "outputs": [],
   "source": [
    "# _test_df = test_df.merge(timediff, on='path')\n",
    "# test_df['_timestamp'] = (_test_df['timestamp'].astype(int) - _test_df['time_diff'].astype(int)).astype(str).str.zfill(13)\n",
    "# test_df['site_path_timestamp'] = test_df['site_id'] + '_' + test_df['path'] + '_' + test_df['_timestamp']"
   ]
  },
  {
   "cell_type": "code",
   "execution_count": null,
   "metadata": {},
   "outputs": [],
   "source": [
    "# pd.merge(test_df[['site_path_timestamp', 'timediff']], sub, on=\"site_path_timestamp\", how='left')"
   ]
  },
  {
   "cell_type": "code",
   "execution_count": null,
   "metadata": {},
   "outputs": [],
   "source": [
    "# test_df['wifi_timestamp'] = test_df['timestamp'].astype(int) - test_df['timediff'].astype(int)\n",
    "# test_df"
   ]
  },
  {
   "cell_type": "code",
   "execution_count": null,
   "metadata": {},
   "outputs": [],
   "source": [
    "# # 線形補完の例\n",
    "# path = test_df['path'].unique()[23]  #15\n",
    "# df = test_df[test_df['path']==path]\n",
    "\n",
    "# waypoint = wifi_waypoint_by_linear_interpolation(\n",
    "#     observed_timestamp=df['wifi_timestamp'].astype(int).values, \n",
    "#     observed_x=df['x'].values,\n",
    "#     observed_y=df['y'].values, \n",
    "#     target_timestamp=df['timestamp'].astype(int).values\n",
    "#     )\n",
    "# print(len(df), len(waypoint))\n",
    "\n",
    "# import matplotlib.pyplot as plt\n",
    "# # print(df[\"timestamp\"].astype(int) - df[\"timestamp\"].astype(int).values[0])\n",
    "# plt.plot(df[\"x\"].values, df[\"y\"].values, ls='--', marker=\"o\", label='wifi')\n",
    "# plt.plot(waypoint[:,0], waypoint[:,1], ls='--', marker=\"o\", label='waypoint')\n",
    "# plt.legend()"
   ]
  },
  {
   "cell_type": "code",
   "execution_count": null,
   "metadata": {},
   "outputs": [],
   "source": [
    "# # 線形補完でwaypointを修正\n",
    "# waypoint_dfs = []\n",
    "# for path,df in test_df.groupby('path'):  #15\n",
    "#     tmp_waypoint = wifi_waypoint_by_linear_interpolation(\n",
    "#         observed_timestamp=df['wifi_timestamp'].astype(int).values, \n",
    "#         observed_x=df['x'].values,\n",
    "#         observed_y=df['y'].values, \n",
    "#         target_timestamp=df['timestamp'].astype(int).values\n",
    "#         )\n",
    "#     df['_x'] = tmp_waypoint[:,0]\n",
    "#     df['_y'] = tmp_waypoint[:,1]\n",
    "#     waypoint_dfs.append(df)\n",
    "\n",
    "# waypoint_df = pd.concat(waypoint_dfs).reset_index(drop=True)\n",
    "# waypoint_df"
   ]
  },
  {
   "cell_type": "code",
   "execution_count": null,
   "metadata": {},
   "outputs": [],
   "source": [
    "# import matplotlib.pyplot as plt\n",
    "# (waypoint_df['x'] - waypoint_df['_x']).hist(label='x')\n",
    "# (waypoint_df['y'] - waypoint_df['_y']).hist(label='y')\n",
    "# plt.legend()"
   ]
  },
  {
   "cell_type": "code",
   "execution_count": null,
   "metadata": {},
   "outputs": [],
   "source": [
    "# sub = sub.merge(waypoint_df[['site_path_timestamp', '_x', '_y']], on='site_path_timestamp').set_index('site_path_timestamp')\n",
    "# sub = sub.drop(['x','y'], axis=1).rename(columns={'_x':'x', '_y':'y'})\n",
    "# sub"
   ]
  },
  {
   "cell_type": "code",
   "execution_count": 34,
   "metadata": {},
   "outputs": [],
   "source": [
    "sub.to_csv(EXP_NAME + '_sub.csv')"
   ]
  },
  {
   "cell_type": "markdown",
   "metadata": {},
   "source": [
    "## 後処理"
   ]
  },
  {
   "cell_type": "markdown",
   "metadata": {},
   "source": [
    "## cost minimaization"
   ]
  },
  {
   "cell_type": "code",
   "execution_count": 35,
   "metadata": {},
   "outputs": [],
   "source": [
    "import multiprocessing\n",
    "import scipy.interpolate\n",
    "import scipy.sparse\n",
    "from tqdm import tqdm\n",
    "import sys\n",
    "sys.path.append('../../')\n",
    "from src.io_f import read_data_file\n",
    "from src import compute_f\n",
    "from scipy.signal import butter, lfilter"
   ]
  },
  {
   "cell_type": "code",
   "execution_count": 36,
   "metadata": {},
   "outputs": [],
   "source": [
    "import math\n",
    "\n",
    "order = 3\n",
    "fs = 50.0  # sample rate, Hz\n",
    "# fs = 100\n",
    "# cutoff = 3.667  # desired cutoff frequency of the filter, Hz\n",
    "cutoff = 3\n",
    "\n",
    "step_distance = 0.8\n",
    "w_height = 1.7\n",
    "m_trans = -5"
   ]
  },
  {
   "cell_type": "code",
   "execution_count": 37,
   "metadata": {},
   "outputs": [
    {
     "output_type": "stream",
     "name": "stderr",
     "text": [
      "<>:146: SyntaxWarning: \"is\" with a literal. Did you mean \"==\"?\n<>:146: SyntaxWarning: \"is\" with a literal. Did you mean \"==\"?\n<ipython-input-37-a1a172f865b0>:146: SyntaxWarning: \"is\" with a literal. Did you mean \"==\"?\n  if current_state is 'above':\n"
     ]
    }
   ],
   "source": [
    "def compute_rel_positions(acce_datas, ahrs_datas):\n",
    "    step_timestamps, step_indexs, step_acce_max_mins = compute_f.compute_steps(acce_datas)\n",
    "    headings = compute_f.compute_headings(ahrs_datas)\n",
    "    stride_lengths = compute_f.compute_stride_length(step_acce_max_mins)\n",
    "    step_headings = compute_f.compute_step_heading(step_timestamps, headings)\n",
    "    rel_positions = compute_f.compute_rel_positions(stride_lengths, step_headings)\n",
    "    return rel_positions\n",
    "\n",
    "\n",
    "def correct_path(args):\n",
    "    path, path_df = args\n",
    "    \n",
    "    T_ref  = path_df['timestamp'].values\n",
    "    xy_hat = path_df[['x', 'y']].values\n",
    "    example = read_data_file(root_dir/ f'indoor-location-navigation/test/{path}.txt')\n",
    "    \n",
    "    # rel_positions = compute_rel_positions(example.acce, example.ahrs)\n",
    "    # ↑を↓に置き換える\n",
    "    rel_positions1 = compute_rel_positions(example.acce, example.ahrs)\n",
    "    rel_positions2 = steps_compute_rel_positions(example)\n",
    "    rel1 = rel_positions1.copy()\n",
    "    rel2 = rel_positions2.copy()\n",
    "    rel1[:,1:] = rel_positions1[:,1:] / 2\n",
    "    rel2[:,1:] = rel_positions2[:,1:] / 2\n",
    "    rel_positions = np.vstack([rel1,rel2])\n",
    "    rel_positions = rel_positions[np.argsort(rel_positions[:, 0])]\n",
    "    \n",
    "    if T_ref[-1] > rel_positions[-1, 0]:\n",
    "        rel_positions = [np.array([[0, 0, 0]]), rel_positions, np.array([[T_ref[-1], 0, 0]])]\n",
    "    else:\n",
    "        rel_positions = [np.array([[0, 0, 0]]), rel_positions]\n",
    "    rel_positions = np.concatenate(rel_positions)\n",
    "    \n",
    "    T_rel = rel_positions[:, 0]\n",
    "    delta_xy_hat = np.diff(scipy.interpolate.interp1d(T_rel, np.cumsum(rel_positions[:, 1:3], axis=0), axis=0)(T_ref), axis=0)\n",
    "\n",
    "    N = xy_hat.shape[0]\n",
    "    delta_t = np.diff(T_ref)\n",
    "    alpha = (8.1)**(-2) * np.ones(N)\n",
    "    beta  = (0.3 + 0.3 * 1e-3 * delta_t)**(-2)\n",
    "    A = scipy.sparse.spdiags(alpha, [0], N, N)\n",
    "    B = scipy.sparse.spdiags( beta, [0], N-1, N-1)\n",
    "    D = scipy.sparse.spdiags(np.stack([-np.ones(N), np.ones(N)]), [0, 1], N-1, N)\n",
    "\n",
    "    Q = A + (D.T @ B @ D)\n",
    "    c = (A @ xy_hat) + (D.T @ (B @ delta_xy_hat))\n",
    "    xy_star = scipy.sparse.linalg.spsolve(Q, c)\n",
    "\n",
    "    return pd.DataFrame({\n",
    "        'site_path_timestamp' : path_df['site_path_timestamp'],\n",
    "        'floor' : path_df['floor'],\n",
    "        'x' : xy_star[:, 0],\n",
    "        'y' : xy_star[:, 1],\n",
    "    })\n",
    "\n",
    "\n",
    "\n",
    "def correct_path_train(args):\n",
    "    #print(args)\n",
    "    (site_id, path, floor), path_df = args\n",
    "    \n",
    "    T_ref  = path_df['timestamp'].values\n",
    "    xy_hat = path_df[['x', 'y']].values\n",
    "    \n",
    "    example = read_data_file(f'{root_dir}/indoor-location-navigation/train/{site_id}/{floor}/{path}.txt')\n",
    "    \n",
    "    # rel_positions = compute_rel_positions(example.acce, example.ahrs)\n",
    "    # ↑を↓に置き換える\n",
    "    rel_positions1 = compute_rel_positions(example.acce, example.ahrs)\n",
    "    rel_positions2 = steps_compute_rel_positions(example)\n",
    "    rel1 = rel_positions1.copy()\n",
    "    rel2 = rel_positions2.copy()\n",
    "    rel1[:,1:] = rel_positions1[:,1:] / 2\n",
    "    rel2[:,1:] = rel_positions2[:,1:] / 2\n",
    "    rel_positions = np.vstack([rel1,rel2])\n",
    "    rel_positions = rel_positions[np.argsort(rel_positions[:, 0])]\n",
    "    \n",
    "    \n",
    "    if T_ref[-1] > rel_positions[-1, 0]:\n",
    "        rel_positions = [np.array([[0, 0, 0]]), rel_positions, np.array([[T_ref[-1], 0, 0]])]\n",
    "    else:\n",
    "        rel_positions = [np.array([[0, 0, 0]]), rel_positions]\n",
    "    rel_positions = np.concatenate(rel_positions)\n",
    "    \n",
    "    T_rel = rel_positions[:, 0]\n",
    "\n",
    "    try:\n",
    "        delta_xy_hat = np.diff(scipy.interpolate.interp1d(T_rel, np.cumsum(rel_positions[:, 1:3], axis=0), axis=0)(T_ref), axis=0)\n",
    "    except:\n",
    "        return pd.DataFrame({\n",
    "            'site_path_timestamp' : path_df['site_path_timestamp'],\n",
    "            'floor' : path_df['floor'],\n",
    "            'x' : path_df['x'].to_numpy(),\n",
    "            'y' : path_df['y'].to_numpy()\n",
    "        })\n",
    "    \n",
    "\n",
    "    N = xy_hat.shape[0]\n",
    "    delta_t = np.diff(T_ref)\n",
    "    alpha = (8.1)**(-2) * np.ones(N)\n",
    "    beta  = (0.3 + 0.3 * 1e-3 * delta_t)**(-2)\n",
    "    A = scipy.sparse.spdiags(alpha, [0], N, N)\n",
    "    B = scipy.sparse.spdiags( beta, [0], N-1, N-1)\n",
    "    D = scipy.sparse.spdiags(np.stack([-np.ones(N), np.ones(N)]), [0, 1], N-1, N)\n",
    "\n",
    "    Q = A + (D.T @ B @ D)\n",
    "    c = (A @ xy_hat) + (D.T @ (B @ delta_xy_hat))\n",
    "    xy_star = scipy.sparse.linalg.spsolve(Q, c)\n",
    "\n",
    "\n",
    "    return pd.DataFrame({\n",
    "        'site_path_timestamp' : path_df['site_path_timestamp'],\n",
    "        'floor' : path_df['floor'],\n",
    "        'x' : xy_star[:, 0],\n",
    "        'y' : xy_star[:, 1],\n",
    "    })\n",
    "\n",
    "\n",
    "\n",
    "def butter_lowpass(cutoff, fs, order=5):\n",
    "    nyq = 0.5 * fs\n",
    "    normal_cutoff = cutoff / nyq\n",
    "    b, a = butter(order, normal_cutoff, btype='low', analog=False)\n",
    "    return b, a\n",
    "\n",
    "def butter_lowpass_filter(data, cutoff, fs, order=5):\n",
    "    b, a = butter_lowpass(cutoff, fs, order=order)\n",
    "    y = lfilter(b, a, data)\n",
    "    return y\n",
    "\n",
    "def peak_accel_threshold(data, timestamps, threshold):\n",
    "    d_acc = []\n",
    "    last_state = 'below'\n",
    "    crest_troughs = 0\n",
    "    crossings = []\n",
    "\n",
    "    for i, datum in enumerate(data):\n",
    "        \n",
    "        current_state = last_state\n",
    "        if datum < threshold:\n",
    "            current_state = 'below'\n",
    "        elif datum > threshold:\n",
    "            current_state = 'above'\n",
    "\n",
    "        if current_state is not last_state:\n",
    "            if current_state is 'above':\n",
    "                crossing = [timestamps[i], threshold]\n",
    "                crossings.append(crossing)\n",
    "            else:\n",
    "                crossing = [timestamps[i], threshold]\n",
    "                crossings.append(crossing)\n",
    "\n",
    "            crest_troughs += 1\n",
    "        last_state = current_state\n",
    "    return np.array(crossings)\n"
   ]
  },
  {
   "cell_type": "code",
   "execution_count": 38,
   "metadata": {},
   "outputs": [],
   "source": [
    "def steps_compute_rel_positions(sample_file):\n",
    "    \n",
    "    mix_acce = np.sqrt(sample_file.acce[:,1:2]**2 + sample_file.acce[:,2:3]**2 + sample_file.acce[:,3:4]**2)\n",
    "    mix_acce = np.concatenate([sample_file.acce[:,0:1], mix_acce], 1)\n",
    "    mix_df = pd.DataFrame(mix_acce)\n",
    "    mix_df.columns = [\"timestamp\",\"acce\"]\n",
    "    \n",
    "    filtered = butter_lowpass_filter(mix_df[\"acce\"], cutoff, fs, order)\n",
    "\n",
    "    threshold = filtered.mean() * 1.1\n",
    "    crossings = peak_accel_threshold(filtered, mix_df[\"timestamp\"], threshold)\n",
    "\n",
    "    step_sum = len(crossings)/2\n",
    "    distance = w_height * 0.4 * step_sum\n",
    "\n",
    "    mag_df = pd.DataFrame(sample_file.magn)\n",
    "    mag_df.columns = [\"timestamp\",\"x\",\"y\",\"z\"]\n",
    "    \n",
    "    acce_df = pd.DataFrame(sample_file.acce)\n",
    "    acce_df.columns = [\"timestamp\",\"ax\",\"ay\",\"az\"]\n",
    "    \n",
    "    mag_df = pd.merge(mag_df,acce_df,on=\"timestamp\")\n",
    "    mag_df.dropna()\n",
    "    \n",
    "    time_di_list = []\n",
    "\n",
    "    for i in mag_df.iterrows():\n",
    "\n",
    "        gx,gy,gz = i[1][1],i[1][2],i[1][3]\n",
    "        ax,ay,az = i[1][4],i[1][5],i[1][6]\n",
    "\n",
    "        roll = math.atan2(ay,az)\n",
    "        pitch = math.atan2(-1*ax , (ay * math.sin(roll) + az * math.cos(roll)))\n",
    "\n",
    "        q = m_trans - math.degrees(math.atan2(\n",
    "            (gz*math.sin(roll)-gy*math.cos(roll)),(gx*math.cos(pitch) + gy*math.sin(roll)*math.sin(pitch) + gz*math.sin(pitch)*math.cos(roll))\n",
    "        )) -90\n",
    "        if q <= 0:\n",
    "            q += 360\n",
    "        time_di_list.append((i[1][0],q))\n",
    "\n",
    "    d_list = [x[1] for x in time_di_list]\n",
    "    \n",
    "    steps = []\n",
    "    step_time = []\n",
    "    di_dict = dict(time_di_list)\n",
    "\n",
    "    for n,i in enumerate(crossings[:,:1]):\n",
    "        if n % 2 == 1:\n",
    "            continue\n",
    "        direct_now = di_dict[i[0]]\n",
    "        dx = math.sin(math.radians(direct_now))\n",
    "        dy = math.cos(math.radians(direct_now))\n",
    "#         print(int(n/2+1),\"歩目/x:\",dx,\"/y:\",dy,\"/角度：\",direct_now)\n",
    "        steps.append((i[0],dx,dy))\n",
    "        step_time.append(i[0])\n",
    "    \n",
    "        step_dtime = np.diff(step_time)/1000\n",
    "        step_dtime = step_dtime.tolist()\n",
    "        step_dtime.insert(0,5)\n",
    "        \n",
    "        rel_position = []\n",
    "\n",
    "        wp_idx = 0\n",
    "#         print(\"WP:\",round(sample_file.waypoint[0,1],3),round(sample_file.waypoint[0,2],3),sample_file.waypoint[0,0])\n",
    "#         print(\"------------------\")\n",
    "        for p,i in enumerate(steps):\n",
    "            step_distance = 0\n",
    "            if step_dtime[p] >= 1:\n",
    "                step_distance = w_height*0.25\n",
    "            elif step_dtime[p] >= 0.75:\n",
    "                step_distance = w_height*0.3\n",
    "            elif step_dtime[p] >= 0.5:\n",
    "                step_distance = w_height*0.4\n",
    "            elif step_dtime[p] >= 0.35:\n",
    "                step_distance = w_height*0.45\n",
    "            elif step_dtime[p] >= 0.2:\n",
    "                step_distance = w_height*0.5\n",
    "            else:\n",
    "                step_distance = w_height*0.4\n",
    "\n",
    "#             step_x += i[1]*step_distance\n",
    "#             step_y += i[2]*step_distance\n",
    "            \n",
    "            rel_position.append([i[0], i[1]*step_distance, i[2]*step_distance])\n",
    "#     print(rel_position)\n",
    "    \n",
    "    return np.array(rel_position)"
   ]
  },
  {
   "cell_type": "code",
   "execution_count": 80,
   "metadata": {},
   "outputs": [
    {
     "output_type": "stream",
     "name": "stderr",
     "text": [
      "10824it [05:32, 32.58it/s]\n",
      "CPU times: user 55.5 s, sys: 13.6 s, total: 1min 9s\n",
      "Wall time: 5min 37s\n"
     ]
    },
    {
     "output_type": "execute_result",
     "data": {
      "text/plain": [
       "        rssi_0  rssi_1  rssi_2  rssi_3  rssi_4  rssi_5  rssi_6  rssi_7  \\\n",
       "0           39      46      47      47      49      49      49      51   \n",
       "1           40      47      47      48      48      49      49      49   \n",
       "2           44      44      44      44      45      45      45      45   \n",
       "3           43      44      44      44      45      45      49      49   \n",
       "4           43      43      43      44      44      45      45      46   \n",
       "...        ...     ...     ...     ...     ...     ...     ...     ...   \n",
       "220460      59      63      66      70      71      71      73      75   \n",
       "220461      62      62      63      70      71      73      75      75   \n",
       "220462      65      67      68      75      78      79      79      79   \n",
       "220463      62      65      67      75      75      79      79      80   \n",
       "220464      62      65      67      75      79      79      80      80   \n",
       "\n",
       "        rssi_8  rssi_9  ...  floor_str                      path  site_id  \\\n",
       "0           52      55  ...         F3  5d10a1669c50c70008fe8977        0   \n",
       "1           49      49  ...         F3  5d10a1669c50c70008fe8977        0   \n",
       "2           46      47  ...         F3  5d10a1669c50c70008fe8977        0   \n",
       "3           50      50  ...         F3  5d10a1669c50c70008fe8977        0   \n",
       "4           46      47  ...         F3  5d10a1669c50c70008fe8977        0   \n",
       "...        ...     ...  ...        ...                       ...      ...   \n",
       "220460      75      78  ...         B1  5dd7c119c5b77e0006b16b99       23   \n",
       "220461      78      79  ...         B1  5dd7c119c5b77e0006b16b99       23   \n",
       "220462      81      82  ...         B1  5dd7c119c5b77e0006b16b99       23   \n",
       "220463      81      82  ...         B1  5dd7c119c5b77e0006b16b99       23   \n",
       "220464      83      86  ...         B1  5dd7c119c5b77e0006b16b99       23   \n",
       "\n",
       "                     site_id_str       oof_x       oof_y  oof_floor  \\\n",
       "0       5a0546857ecc773753327266   79.262436   35.651375   0.205538   \n",
       "1       5a0546857ecc773753327266   82.296295   33.535130   0.205931   \n",
       "2       5a0546857ecc773753327266   86.662872   23.946400   0.205969   \n",
       "3       5a0546857ecc773753327266   87.101913   23.149050   0.205791   \n",
       "4       5a0546857ecc773753327266   82.743439   21.838287   0.201842   \n",
       "...                          ...         ...         ...        ...   \n",
       "220460  5dc8cea7659e181adb076a3f  204.178116  105.088226   0.000000   \n",
       "220461  5dc8cea7659e181adb076a3f  203.788315  104.344894   0.000000   \n",
       "220462  5dc8cea7659e181adb076a3f  206.973663  106.884850   0.000000   \n",
       "220463  5dc8cea7659e181adb076a3f  207.569855  106.029709   0.000000   \n",
       "220464  5dc8cea7659e181adb076a3f  207.602112  104.346085   0.000000   \n",
       "\n",
       "                                      site_path_timestamp   oof_min_x  \\\n",
       "0       5a0546857ecc773753327266_5d10a1669c50c70008fe8...   81.957298   \n",
       "1       5a0546857ecc773753327266_5d10a1669c50c70008fe8...   81.960994   \n",
       "2       5a0546857ecc773753327266_5d10a1669c50c70008fe8...   82.976876   \n",
       "3       5a0546857ecc773753327266_5d10a1669c50c70008fe8...   82.975056   \n",
       "4       5a0546857ecc773753327266_5d10a1669c50c70008fe8...   82.967576   \n",
       "...                                                   ...         ...   \n",
       "220460  5dc8cea7659e181adb076a3f_5dd7c119c5b77e0006b16...  202.524569   \n",
       "220461  5dc8cea7659e181adb076a3f_5dd7c119c5b77e0006b16...  202.514486   \n",
       "220462  5dc8cea7659e181adb076a3f_5dd7c119c5b77e0006b16...  210.262874   \n",
       "220463  5dc8cea7659e181adb076a3f_5dd7c119c5b77e0006b16...  210.255555   \n",
       "220464  5dc8cea7659e181adb076a3f_5dd7c119c5b77e0006b16...  210.251920   \n",
       "\n",
       "         oof_min_y  \n",
       "0        35.740396  \n",
       "1        35.740518  \n",
       "2        26.227376  \n",
       "3        26.233652  \n",
       "4        26.244160  \n",
       "...            ...  \n",
       "220460  103.314520  \n",
       "220461  103.316163  \n",
       "220462  105.698911  \n",
       "220463  105.697515  \n",
       "220464  105.695664  \n",
       "\n",
       "[220465 rows x 177 columns]"
      ],
      "text/html": "<div>\n<style scoped>\n    .dataframe tbody tr th:only-of-type {\n        vertical-align: middle;\n    }\n\n    .dataframe tbody tr th {\n        vertical-align: top;\n    }\n\n    .dataframe thead th {\n        text-align: right;\n    }\n</style>\n<table border=\"1\" class=\"dataframe\">\n  <thead>\n    <tr style=\"text-align: right;\">\n      <th></th>\n      <th>rssi_0</th>\n      <th>rssi_1</th>\n      <th>rssi_2</th>\n      <th>rssi_3</th>\n      <th>rssi_4</th>\n      <th>rssi_5</th>\n      <th>rssi_6</th>\n      <th>rssi_7</th>\n      <th>rssi_8</th>\n      <th>rssi_9</th>\n      <th>...</th>\n      <th>floor_str</th>\n      <th>path</th>\n      <th>site_id</th>\n      <th>site_id_str</th>\n      <th>oof_x</th>\n      <th>oof_y</th>\n      <th>oof_floor</th>\n      <th>site_path_timestamp</th>\n      <th>oof_min_x</th>\n      <th>oof_min_y</th>\n    </tr>\n  </thead>\n  <tbody>\n    <tr>\n      <th>0</th>\n      <td>39</td>\n      <td>46</td>\n      <td>47</td>\n      <td>47</td>\n      <td>49</td>\n      <td>49</td>\n      <td>49</td>\n      <td>51</td>\n      <td>52</td>\n      <td>55</td>\n      <td>...</td>\n      <td>F3</td>\n      <td>5d10a1669c50c70008fe8977</td>\n      <td>0</td>\n      <td>5a0546857ecc773753327266</td>\n      <td>79.262436</td>\n      <td>35.651375</td>\n      <td>0.205538</td>\n      <td>5a0546857ecc773753327266_5d10a1669c50c70008fe8...</td>\n      <td>81.957298</td>\n      <td>35.740396</td>\n    </tr>\n    <tr>\n      <th>1</th>\n      <td>40</td>\n      <td>47</td>\n      <td>47</td>\n      <td>48</td>\n      <td>48</td>\n      <td>49</td>\n      <td>49</td>\n      <td>49</td>\n      <td>49</td>\n      <td>49</td>\n      <td>...</td>\n      <td>F3</td>\n      <td>5d10a1669c50c70008fe8977</td>\n      <td>0</td>\n      <td>5a0546857ecc773753327266</td>\n      <td>82.296295</td>\n      <td>33.535130</td>\n      <td>0.205931</td>\n      <td>5a0546857ecc773753327266_5d10a1669c50c70008fe8...</td>\n      <td>81.960994</td>\n      <td>35.740518</td>\n    </tr>\n    <tr>\n      <th>2</th>\n      <td>44</td>\n      <td>44</td>\n      <td>44</td>\n      <td>44</td>\n      <td>45</td>\n      <td>45</td>\n      <td>45</td>\n      <td>45</td>\n      <td>46</td>\n      <td>47</td>\n      <td>...</td>\n      <td>F3</td>\n      <td>5d10a1669c50c70008fe8977</td>\n      <td>0</td>\n      <td>5a0546857ecc773753327266</td>\n      <td>86.662872</td>\n      <td>23.946400</td>\n      <td>0.205969</td>\n      <td>5a0546857ecc773753327266_5d10a1669c50c70008fe8...</td>\n      <td>82.976876</td>\n      <td>26.227376</td>\n    </tr>\n    <tr>\n      <th>3</th>\n      <td>43</td>\n      <td>44</td>\n      <td>44</td>\n      <td>44</td>\n      <td>45</td>\n      <td>45</td>\n      <td>49</td>\n      <td>49</td>\n      <td>50</td>\n      <td>50</td>\n      <td>...</td>\n      <td>F3</td>\n      <td>5d10a1669c50c70008fe8977</td>\n      <td>0</td>\n      <td>5a0546857ecc773753327266</td>\n      <td>87.101913</td>\n      <td>23.149050</td>\n      <td>0.205791</td>\n      <td>5a0546857ecc773753327266_5d10a1669c50c70008fe8...</td>\n      <td>82.975056</td>\n      <td>26.233652</td>\n    </tr>\n    <tr>\n      <th>4</th>\n      <td>43</td>\n      <td>43</td>\n      <td>43</td>\n      <td>44</td>\n      <td>44</td>\n      <td>45</td>\n      <td>45</td>\n      <td>46</td>\n      <td>46</td>\n      <td>47</td>\n      <td>...</td>\n      <td>F3</td>\n      <td>5d10a1669c50c70008fe8977</td>\n      <td>0</td>\n      <td>5a0546857ecc773753327266</td>\n      <td>82.743439</td>\n      <td>21.838287</td>\n      <td>0.201842</td>\n      <td>5a0546857ecc773753327266_5d10a1669c50c70008fe8...</td>\n      <td>82.967576</td>\n      <td>26.244160</td>\n    </tr>\n    <tr>\n      <th>...</th>\n      <td>...</td>\n      <td>...</td>\n      <td>...</td>\n      <td>...</td>\n      <td>...</td>\n      <td>...</td>\n      <td>...</td>\n      <td>...</td>\n      <td>...</td>\n      <td>...</td>\n      <td>...</td>\n      <td>...</td>\n      <td>...</td>\n      <td>...</td>\n      <td>...</td>\n      <td>...</td>\n      <td>...</td>\n      <td>...</td>\n      <td>...</td>\n      <td>...</td>\n      <td>...</td>\n    </tr>\n    <tr>\n      <th>220460</th>\n      <td>59</td>\n      <td>63</td>\n      <td>66</td>\n      <td>70</td>\n      <td>71</td>\n      <td>71</td>\n      <td>73</td>\n      <td>75</td>\n      <td>75</td>\n      <td>78</td>\n      <td>...</td>\n      <td>B1</td>\n      <td>5dd7c119c5b77e0006b16b99</td>\n      <td>23</td>\n      <td>5dc8cea7659e181adb076a3f</td>\n      <td>204.178116</td>\n      <td>105.088226</td>\n      <td>0.000000</td>\n      <td>5dc8cea7659e181adb076a3f_5dd7c119c5b77e0006b16...</td>\n      <td>202.524569</td>\n      <td>103.314520</td>\n    </tr>\n    <tr>\n      <th>220461</th>\n      <td>62</td>\n      <td>62</td>\n      <td>63</td>\n      <td>70</td>\n      <td>71</td>\n      <td>73</td>\n      <td>75</td>\n      <td>75</td>\n      <td>78</td>\n      <td>79</td>\n      <td>...</td>\n      <td>B1</td>\n      <td>5dd7c119c5b77e0006b16b99</td>\n      <td>23</td>\n      <td>5dc8cea7659e181adb076a3f</td>\n      <td>203.788315</td>\n      <td>104.344894</td>\n      <td>0.000000</td>\n      <td>5dc8cea7659e181adb076a3f_5dd7c119c5b77e0006b16...</td>\n      <td>202.514486</td>\n      <td>103.316163</td>\n    </tr>\n    <tr>\n      <th>220462</th>\n      <td>65</td>\n      <td>67</td>\n      <td>68</td>\n      <td>75</td>\n      <td>78</td>\n      <td>79</td>\n      <td>79</td>\n      <td>79</td>\n      <td>81</td>\n      <td>82</td>\n      <td>...</td>\n      <td>B1</td>\n      <td>5dd7c119c5b77e0006b16b99</td>\n      <td>23</td>\n      <td>5dc8cea7659e181adb076a3f</td>\n      <td>206.973663</td>\n      <td>106.884850</td>\n      <td>0.000000</td>\n      <td>5dc8cea7659e181adb076a3f_5dd7c119c5b77e0006b16...</td>\n      <td>210.262874</td>\n      <td>105.698911</td>\n    </tr>\n    <tr>\n      <th>220463</th>\n      <td>62</td>\n      <td>65</td>\n      <td>67</td>\n      <td>75</td>\n      <td>75</td>\n      <td>79</td>\n      <td>79</td>\n      <td>80</td>\n      <td>81</td>\n      <td>82</td>\n      <td>...</td>\n      <td>B1</td>\n      <td>5dd7c119c5b77e0006b16b99</td>\n      <td>23</td>\n      <td>5dc8cea7659e181adb076a3f</td>\n      <td>207.569855</td>\n      <td>106.029709</td>\n      <td>0.000000</td>\n      <td>5dc8cea7659e181adb076a3f_5dd7c119c5b77e0006b16...</td>\n      <td>210.255555</td>\n      <td>105.697515</td>\n    </tr>\n    <tr>\n      <th>220464</th>\n      <td>62</td>\n      <td>65</td>\n      <td>67</td>\n      <td>75</td>\n      <td>79</td>\n      <td>79</td>\n      <td>80</td>\n      <td>80</td>\n      <td>83</td>\n      <td>86</td>\n      <td>...</td>\n      <td>B1</td>\n      <td>5dd7c119c5b77e0006b16b99</td>\n      <td>23</td>\n      <td>5dc8cea7659e181adb076a3f</td>\n      <td>207.602112</td>\n      <td>104.346085</td>\n      <td>0.000000</td>\n      <td>5dc8cea7659e181adb076a3f_5dd7c119c5b77e0006b16...</td>\n      <td>210.251920</td>\n      <td>105.695664</td>\n    </tr>\n  </tbody>\n</table>\n<p>220465 rows × 177 columns</p>\n</div>"
     },
     "metadata": {},
     "execution_count": 80
    }
   ],
   "source": [
    "%%time\n",
    "\n",
    "oofs_df = oofs_df.rename(columns={'x':'target_x', 'y':'target_y', 'oof_x':'x', 'oof_y':'y'})\n",
    "processes = multiprocessing.cpu_count()\n",
    "with multiprocessing.Pool(processes=processes) as pool:\n",
    "    dfs = pool.imap_unordered(correct_path_train, oofs_df.groupby(['site_id_str', 'path', 'floor_str']))\n",
    "    dfs = tqdm(dfs)\n",
    "    dfs = list(dfs)\n",
    "\n",
    "oof_post_process = pd.concat(dfs).sort_index()\n",
    "oofs_df['oof_min_x'] = oof_post_process['x']\n",
    "oofs_df['oof_min_y'] = oof_post_process['y']\n",
    "\n",
    "# 元に戻す\n",
    "oofs_df = oofs_df.rename(columns={'x':'oof_x', 'y':'oof_y'})\n",
    "oofs_df"
   ]
  },
  {
   "cell_type": "code",
   "execution_count": 40,
   "metadata": {},
   "outputs": [
    {
     "output_type": "stream",
     "name": "stdout",
     "text": [
      "(after cost-min) CV:5.566220321576894\n"
     ]
    }
   ],
   "source": [
    "# waypoint補正前のx,yでの評価\n",
    "oof_score_post_process = mean_position_error(\n",
    "    oofs_df['oof_min_x'], oofs_df['oof_min_y'], 0, \n",
    "    oofs_df['target_x'], oofs_df['target_y'], 0\n",
    "    )\n",
    "wandb_config['CV_cost'] = oof_score_post_process\n",
    "print(f\"(after cost-min) CV:{oof_score_post_process}\")"
   ]
  },
  {
   "cell_type": "code",
   "execution_count": 41,
   "metadata": {},
   "outputs": [
    {
     "output_type": "stream",
     "name": "stdout",
     "text": [
      "(after cost-min) CV:5.825926163284099\n"
     ]
    }
   ],
   "source": [
    "# waypoint補正後のx,yでの評価\n",
    "oof_score_post_process = mean_position_error(\n",
    "    oofs_df['oof_min_x'], oofs_df['oof_min_y'], 0, \n",
    "    oofs_df['ix'], oofs_df['iy'], 0\n",
    "    )\n",
    "wandb_config['iCV_cost'] = oof_score_post_process\n",
    "print(f\"(after cost-min) CV:{oof_score_post_process}\")"
   ]
  },
  {
   "cell_type": "code",
   "execution_count": 77,
   "metadata": {},
   "outputs": [
    {
     "output_type": "stream",
     "name": "stderr",
     "text": [
      "10824it [05:29, 32.87it/s]\n",
      "CPU times: user 54 s, sys: 13.2 s, total: 1min 7s\n",
      "Wall time: 5min 34s\n"
     ]
    },
    {
     "output_type": "execute_result",
     "data": {
      "text/plain": [
       "                                     site_path_timestamp  rssi_0     rssi_1  \\\n",
       "0      5a0546857ecc773753327266_5d10a1669c50c70008fe8...   39.50  46.500000   \n",
       "1      5a0546857ecc773753327266_5d10a1669c50c70008fe8...   43.40  43.800000   \n",
       "2      5a0546857ecc773753327266_5d10a1669c50c70008fe8...   38.50  41.000000   \n",
       "3      5a0546857ecc773753327266_5d10a1669c50c70008fe8...   34.75  36.750000   \n",
       "4      5a0546857ecc773753327266_5d10a1669c50c70008fe8...   45.75  47.000000   \n",
       "...                                                  ...     ...        ...   \n",
       "71177  5dc8cea7659e181adb076a3f_5dd7c1189191710006b56...   65.00  72.000000   \n",
       "71178  5dc8cea7659e181adb076a3f_5dd7c119c5b77e0006b16...   63.00  65.500000   \n",
       "71179  5dc8cea7659e181adb076a3f_5dd7c119c5b77e0006b16...   61.75  63.250000   \n",
       "71180  5dc8cea7659e181adb076a3f_5dd7c119c5b77e0006b16...   61.40  64.000000   \n",
       "71181  5dc8cea7659e181adb076a3f_5dd7c119c5b77e0006b16...   63.00  65.666667   \n",
       "\n",
       "          rssi_2  rssi_3     rssi_4  rssi_5     rssi_6     rssi_7     rssi_8  \\\n",
       "0      47.000000    47.5  48.500000   49.00  49.000000  50.000000  50.500000   \n",
       "1      43.800000    44.2  44.800000   45.60  46.800000  47.200000  47.600000   \n",
       "2      41.000000    42.0  42.250000   42.25  42.500000  43.000000  44.000000   \n",
       "3      37.000000    38.0  38.750000   39.25  39.750000  40.000000  40.000000   \n",
       "4      48.000000    49.0  49.250000   50.25  50.750000  51.000000  51.750000   \n",
       "...          ...     ...        ...     ...        ...        ...        ...   \n",
       "71177  74.000000    75.5  79.000000   79.50  80.500000  81.500000  82.000000   \n",
       "71178  67.500000    70.5  75.500000   78.50  79.000000  80.500000  81.000000   \n",
       "71179  64.750000    70.0  75.000000   75.25  76.750000  78.000000  78.250000   \n",
       "71180  66.000000    70.0  71.000000   71.40  73.600000  75.000000  75.800000   \n",
       "71181  67.333333    75.0  77.333333   79.00  79.333333  79.666667  81.666667   \n",
       "\n",
       "       ...          iy  site_id       oof_x       oof_y  oof_floor  \\\n",
       "0      ...   36.776455      0.0   80.779366   34.593254   0.205734   \n",
       "1      ...   29.537575      0.0   85.071716   22.981852   0.204076   \n",
       "2      ...   12.322587      0.0   83.649147   19.586538   0.200835   \n",
       "3      ...    8.606377      0.0   84.099625   20.370808   0.201358   \n",
       "4      ...   13.241647      0.0   84.932693   21.327747   0.202558   \n",
       "...    ...         ...      ...         ...         ...        ...   \n",
       "71177  ...  106.415894     23.0  197.866638  104.800507   0.311593   \n",
       "71178  ...  107.215134     23.0  206.780365  104.854927   0.000000   \n",
       "71179  ...  108.919197     23.0  205.852310  104.196205   0.000000   \n",
       "71180  ...  108.179710     23.0  204.063019  103.621780   0.000000   \n",
       "71181  ...  107.874741     23.0  207.381882  105.753548   0.000000   \n",
       "\n",
       "                    site_id_str                      path  floor_str  \\\n",
       "0      5a0546857ecc773753327266  5d10a1669c50c70008fe8977         F3   \n",
       "1      5a0546857ecc773753327266  5d10a1669c50c70008fe8977         F3   \n",
       "2      5a0546857ecc773753327266  5d10a1669c50c70008fe8977         F3   \n",
       "3      5a0546857ecc773753327266  5d10a1669c50c70008fe8977         F3   \n",
       "4      5a0546857ecc773753327266  5d10a1669c50c70008fe8977         F3   \n",
       "...                         ...                       ...        ...   \n",
       "71177  5dc8cea7659e181adb076a3f  5dd7c1189191710006b568d0         B1   \n",
       "71178  5dc8cea7659e181adb076a3f  5dd7c119c5b77e0006b16b99         B1   \n",
       "71179  5dc8cea7659e181adb076a3f  5dd7c119c5b77e0006b16b99         B1   \n",
       "71180  5dc8cea7659e181adb076a3f  5dd7c119c5b77e0006b16b99         B1   \n",
       "71181  5dc8cea7659e181adb076a3f  5dd7c119c5b77e0006b16b99         B1   \n",
       "\n",
       "        oof_min_x   oof_min_y  \n",
       "0       79.917322   38.226021  \n",
       "1       80.273398   28.986984  \n",
       "2       81.216332   15.582728  \n",
       "3       82.636609   12.983947  \n",
       "4       91.452834   18.666075  \n",
       "...           ...         ...  \n",
       "71177  198.991016  107.735382  \n",
       "71178  210.992907  103.264496  \n",
       "71179  201.773939  105.800882  \n",
       "71180  201.176561  103.515950  \n",
       "71181  210.134168  105.845133  \n",
       "\n",
       "[71182 rows x 177 columns]"
      ],
      "text/html": "<div>\n<style scoped>\n    .dataframe tbody tr th:only-of-type {\n        vertical-align: middle;\n    }\n\n    .dataframe tbody tr th {\n        vertical-align: top;\n    }\n\n    .dataframe thead th {\n        text-align: right;\n    }\n</style>\n<table border=\"1\" class=\"dataframe\">\n  <thead>\n    <tr style=\"text-align: right;\">\n      <th></th>\n      <th>site_path_timestamp</th>\n      <th>rssi_0</th>\n      <th>rssi_1</th>\n      <th>rssi_2</th>\n      <th>rssi_3</th>\n      <th>rssi_4</th>\n      <th>rssi_5</th>\n      <th>rssi_6</th>\n      <th>rssi_7</th>\n      <th>rssi_8</th>\n      <th>...</th>\n      <th>iy</th>\n      <th>site_id</th>\n      <th>oof_x</th>\n      <th>oof_y</th>\n      <th>oof_floor</th>\n      <th>site_id_str</th>\n      <th>path</th>\n      <th>floor_str</th>\n      <th>oof_min_x</th>\n      <th>oof_min_y</th>\n    </tr>\n  </thead>\n  <tbody>\n    <tr>\n      <th>0</th>\n      <td>5a0546857ecc773753327266_5d10a1669c50c70008fe8...</td>\n      <td>39.50</td>\n      <td>46.500000</td>\n      <td>47.000000</td>\n      <td>47.5</td>\n      <td>48.500000</td>\n      <td>49.00</td>\n      <td>49.000000</td>\n      <td>50.000000</td>\n      <td>50.500000</td>\n      <td>...</td>\n      <td>36.776455</td>\n      <td>0.0</td>\n      <td>80.779366</td>\n      <td>34.593254</td>\n      <td>0.205734</td>\n      <td>5a0546857ecc773753327266</td>\n      <td>5d10a1669c50c70008fe8977</td>\n      <td>F3</td>\n      <td>79.917322</td>\n      <td>38.226021</td>\n    </tr>\n    <tr>\n      <th>1</th>\n      <td>5a0546857ecc773753327266_5d10a1669c50c70008fe8...</td>\n      <td>43.40</td>\n      <td>43.800000</td>\n      <td>43.800000</td>\n      <td>44.2</td>\n      <td>44.800000</td>\n      <td>45.60</td>\n      <td>46.800000</td>\n      <td>47.200000</td>\n      <td>47.600000</td>\n      <td>...</td>\n      <td>29.537575</td>\n      <td>0.0</td>\n      <td>85.071716</td>\n      <td>22.981852</td>\n      <td>0.204076</td>\n      <td>5a0546857ecc773753327266</td>\n      <td>5d10a1669c50c70008fe8977</td>\n      <td>F3</td>\n      <td>80.273398</td>\n      <td>28.986984</td>\n    </tr>\n    <tr>\n      <th>2</th>\n      <td>5a0546857ecc773753327266_5d10a1669c50c70008fe8...</td>\n      <td>38.50</td>\n      <td>41.000000</td>\n      <td>41.000000</td>\n      <td>42.0</td>\n      <td>42.250000</td>\n      <td>42.25</td>\n      <td>42.500000</td>\n      <td>43.000000</td>\n      <td>44.000000</td>\n      <td>...</td>\n      <td>12.322587</td>\n      <td>0.0</td>\n      <td>83.649147</td>\n      <td>19.586538</td>\n      <td>0.200835</td>\n      <td>5a0546857ecc773753327266</td>\n      <td>5d10a1669c50c70008fe8977</td>\n      <td>F3</td>\n      <td>81.216332</td>\n      <td>15.582728</td>\n    </tr>\n    <tr>\n      <th>3</th>\n      <td>5a0546857ecc773753327266_5d10a1669c50c70008fe8...</td>\n      <td>34.75</td>\n      <td>36.750000</td>\n      <td>37.000000</td>\n      <td>38.0</td>\n      <td>38.750000</td>\n      <td>39.25</td>\n      <td>39.750000</td>\n      <td>40.000000</td>\n      <td>40.000000</td>\n      <td>...</td>\n      <td>8.606377</td>\n      <td>0.0</td>\n      <td>84.099625</td>\n      <td>20.370808</td>\n      <td>0.201358</td>\n      <td>5a0546857ecc773753327266</td>\n      <td>5d10a1669c50c70008fe8977</td>\n      <td>F3</td>\n      <td>82.636609</td>\n      <td>12.983947</td>\n    </tr>\n    <tr>\n      <th>4</th>\n      <td>5a0546857ecc773753327266_5d10a1669c50c70008fe8...</td>\n      <td>45.75</td>\n      <td>47.000000</td>\n      <td>48.000000</td>\n      <td>49.0</td>\n      <td>49.250000</td>\n      <td>50.25</td>\n      <td>50.750000</td>\n      <td>51.000000</td>\n      <td>51.750000</td>\n      <td>...</td>\n      <td>13.241647</td>\n      <td>0.0</td>\n      <td>84.932693</td>\n      <td>21.327747</td>\n      <td>0.202558</td>\n      <td>5a0546857ecc773753327266</td>\n      <td>5d10a1669c50c70008fe8977</td>\n      <td>F3</td>\n      <td>91.452834</td>\n      <td>18.666075</td>\n    </tr>\n    <tr>\n      <th>...</th>\n      <td>...</td>\n      <td>...</td>\n      <td>...</td>\n      <td>...</td>\n      <td>...</td>\n      <td>...</td>\n      <td>...</td>\n      <td>...</td>\n      <td>...</td>\n      <td>...</td>\n      <td>...</td>\n      <td>...</td>\n      <td>...</td>\n      <td>...</td>\n      <td>...</td>\n      <td>...</td>\n      <td>...</td>\n      <td>...</td>\n      <td>...</td>\n      <td>...</td>\n      <td>...</td>\n    </tr>\n    <tr>\n      <th>71177</th>\n      <td>5dc8cea7659e181adb076a3f_5dd7c1189191710006b56...</td>\n      <td>65.00</td>\n      <td>72.000000</td>\n      <td>74.000000</td>\n      <td>75.5</td>\n      <td>79.000000</td>\n      <td>79.50</td>\n      <td>80.500000</td>\n      <td>81.500000</td>\n      <td>82.000000</td>\n      <td>...</td>\n      <td>106.415894</td>\n      <td>23.0</td>\n      <td>197.866638</td>\n      <td>104.800507</td>\n      <td>0.311593</td>\n      <td>5dc8cea7659e181adb076a3f</td>\n      <td>5dd7c1189191710006b568d0</td>\n      <td>B1</td>\n      <td>198.991016</td>\n      <td>107.735382</td>\n    </tr>\n    <tr>\n      <th>71178</th>\n      <td>5dc8cea7659e181adb076a3f_5dd7c119c5b77e0006b16...</td>\n      <td>63.00</td>\n      <td>65.500000</td>\n      <td>67.500000</td>\n      <td>70.5</td>\n      <td>75.500000</td>\n      <td>78.50</td>\n      <td>79.000000</td>\n      <td>80.500000</td>\n      <td>81.000000</td>\n      <td>...</td>\n      <td>107.215134</td>\n      <td>23.0</td>\n      <td>206.780365</td>\n      <td>104.854927</td>\n      <td>0.000000</td>\n      <td>5dc8cea7659e181adb076a3f</td>\n      <td>5dd7c119c5b77e0006b16b99</td>\n      <td>B1</td>\n      <td>210.992907</td>\n      <td>103.264496</td>\n    </tr>\n    <tr>\n      <th>71179</th>\n      <td>5dc8cea7659e181adb076a3f_5dd7c119c5b77e0006b16...</td>\n      <td>61.75</td>\n      <td>63.250000</td>\n      <td>64.750000</td>\n      <td>70.0</td>\n      <td>75.000000</td>\n      <td>75.25</td>\n      <td>76.750000</td>\n      <td>78.000000</td>\n      <td>78.250000</td>\n      <td>...</td>\n      <td>108.919197</td>\n      <td>23.0</td>\n      <td>205.852310</td>\n      <td>104.196205</td>\n      <td>0.000000</td>\n      <td>5dc8cea7659e181adb076a3f</td>\n      <td>5dd7c119c5b77e0006b16b99</td>\n      <td>B1</td>\n      <td>201.773939</td>\n      <td>105.800882</td>\n    </tr>\n    <tr>\n      <th>71180</th>\n      <td>5dc8cea7659e181adb076a3f_5dd7c119c5b77e0006b16...</td>\n      <td>61.40</td>\n      <td>64.000000</td>\n      <td>66.000000</td>\n      <td>70.0</td>\n      <td>71.000000</td>\n      <td>71.40</td>\n      <td>73.600000</td>\n      <td>75.000000</td>\n      <td>75.800000</td>\n      <td>...</td>\n      <td>108.179710</td>\n      <td>23.0</td>\n      <td>204.063019</td>\n      <td>103.621780</td>\n      <td>0.000000</td>\n      <td>5dc8cea7659e181adb076a3f</td>\n      <td>5dd7c119c5b77e0006b16b99</td>\n      <td>B1</td>\n      <td>201.176561</td>\n      <td>103.515950</td>\n    </tr>\n    <tr>\n      <th>71181</th>\n      <td>5dc8cea7659e181adb076a3f_5dd7c119c5b77e0006b16...</td>\n      <td>63.00</td>\n      <td>65.666667</td>\n      <td>67.333333</td>\n      <td>75.0</td>\n      <td>77.333333</td>\n      <td>79.00</td>\n      <td>79.333333</td>\n      <td>79.666667</td>\n      <td>81.666667</td>\n      <td>...</td>\n      <td>107.874741</td>\n      <td>23.0</td>\n      <td>207.381882</td>\n      <td>105.753548</td>\n      <td>0.000000</td>\n      <td>5dc8cea7659e181adb076a3f</td>\n      <td>5dd7c119c5b77e0006b16b99</td>\n      <td>B1</td>\n      <td>210.134168</td>\n      <td>105.845133</td>\n    </tr>\n  </tbody>\n</table>\n<p>71182 rows × 177 columns</p>\n</div>"
     },
     "metadata": {},
     "execution_count": 77
    }
   ],
   "source": [
    "%%time\n",
    "\n",
    "mean_oofs_df = mean_oofs_df.rename(columns={'x':'target_x', 'y':'target_y', 'oof_x':'x', 'oof_y':'y'})\n",
    "processes = multiprocessing.cpu_count()\n",
    "with multiprocessing.Pool(processes=processes) as pool:\n",
    "    dfs = pool.imap_unordered(correct_path_train, mean_oofs_df.groupby(['site_id_str', 'path', 'floor_str']))\n",
    "    dfs = tqdm(dfs)\n",
    "    dfs = list(dfs)\n",
    "\n",
    "oof_post_process = pd.concat(dfs).sort_index()\n",
    "mean_oofs_df['oof_min_x'] = oof_post_process['x']\n",
    "mean_oofs_df['oof_min_y'] = oof_post_process['y']\n",
    "\n",
    "# 元に戻す\n",
    "mean_oofs_df = mean_oofs_df.rename(columns={'x':'oof_x', 'y':'oof_y'})\n",
    "mean_oofs_df"
   ]
  },
  {
   "cell_type": "code",
   "execution_count": 79,
   "metadata": {},
   "outputs": [
    {
     "output_type": "stream",
     "name": "stdout",
     "text": [
      "CV:5.441617175138636\n"
     ]
    }
   ],
   "source": [
    "# waypointの平均のx,yでの評価\n",
    "oof_score = mean_position_error(\n",
    "    mean_oofs_df['oof_min_x'], mean_oofs_df['oof_min_y'], 0, \n",
    "    mean_oofs_df['target_x'], mean_oofs_df['target_y'], 0\n",
    "    )\n",
    "wandb_config['CV_cost(mean)'] = oof_score\n",
    "print(f\"CV:{oof_score}\")"
   ]
  },
  {
   "cell_type": "code",
   "execution_count": 81,
   "metadata": {},
   "outputs": [
    {
     "output_type": "execute_result",
     "data": {
      "text/plain": [
       "       index                                site_path_timestamp  floor  \\\n",
       "0          0  5a0546857ecc773753327266_046cfa46be49fc1083481...      0   \n",
       "1          1  5a0546857ecc773753327266_046cfa46be49fc1083481...      0   \n",
       "2          2  5a0546857ecc773753327266_046cfa46be49fc1083481...      0   \n",
       "3          3  5a0546857ecc773753327266_046cfa46be49fc1083481...      0   \n",
       "4          4  5a0546857ecc773753327266_046cfa46be49fc1083481...      0   \n",
       "...      ...                                                ...    ...   \n",
       "10128  10128  5dc8cea7659e181adb076a3f_fd64de8c4a2fc5ebb0e9f...      5   \n",
       "10129  10129  5dc8cea7659e181adb076a3f_fd64de8c4a2fc5ebb0e9f...      5   \n",
       "10130  10130  5dc8cea7659e181adb076a3f_fd64de8c4a2fc5ebb0e9f...      5   \n",
       "10131  10131  5dc8cea7659e181adb076a3f_fd64de8c4a2fc5ebb0e9f...      5   \n",
       "10132  10132  5dc8cea7659e181adb076a3f_fd64de8c4a2fc5ebb0e9f...      5   \n",
       "\n",
       "                x           y                      site  \\\n",
       "0       85.267021  104.663521  5a0546857ecc773753327266   \n",
       "1       82.697800  105.373505  5a0546857ecc773753327266   \n",
       "2       84.964699  103.951103  5a0546857ecc773753327266   \n",
       "3       86.664825  106.717567  5a0546857ecc773753327266   \n",
       "4       83.760201  107.410637  5a0546857ecc773753327266   \n",
       "...           ...         ...                       ...   \n",
       "10128  211.185181   98.134605  5dc8cea7659e181adb076a3f   \n",
       "10129  206.992462  102.895439  5dc8cea7659e181adb076a3f   \n",
       "10130  203.806610  105.155952  5dc8cea7659e181adb076a3f   \n",
       "10131  202.334366  111.245056  5dc8cea7659e181adb076a3f   \n",
       "10132  196.911758  113.656502  5dc8cea7659e181adb076a3f   \n",
       "\n",
       "                           path  timestamp  \n",
       "0      046cfa46be49fc10834815c6        9.0  \n",
       "1      046cfa46be49fc10834815c6     9017.0  \n",
       "2      046cfa46be49fc10834815c6    15326.0  \n",
       "3      046cfa46be49fc10834815c6    18763.0  \n",
       "4      046cfa46be49fc10834815c6    22328.0  \n",
       "...                         ...        ...  \n",
       "10128  fd64de8c4a2fc5ebb0e9f412    82589.0  \n",
       "10129  fd64de8c4a2fc5ebb0e9f412    85758.0  \n",
       "10130  fd64de8c4a2fc5ebb0e9f412    90895.0  \n",
       "10131  fd64de8c4a2fc5ebb0e9f412    96899.0  \n",
       "10132  fd64de8c4a2fc5ebb0e9f412   100447.0  \n",
       "\n",
       "[10133 rows x 8 columns]"
      ],
      "text/html": "<div>\n<style scoped>\n    .dataframe tbody tr th:only-of-type {\n        vertical-align: middle;\n    }\n\n    .dataframe tbody tr th {\n        vertical-align: top;\n    }\n\n    .dataframe thead th {\n        text-align: right;\n    }\n</style>\n<table border=\"1\" class=\"dataframe\">\n  <thead>\n    <tr style=\"text-align: right;\">\n      <th></th>\n      <th>index</th>\n      <th>site_path_timestamp</th>\n      <th>floor</th>\n      <th>x</th>\n      <th>y</th>\n      <th>site</th>\n      <th>path</th>\n      <th>timestamp</th>\n    </tr>\n  </thead>\n  <tbody>\n    <tr>\n      <th>0</th>\n      <td>0</td>\n      <td>5a0546857ecc773753327266_046cfa46be49fc1083481...</td>\n      <td>0</td>\n      <td>85.267021</td>\n      <td>104.663521</td>\n      <td>5a0546857ecc773753327266</td>\n      <td>046cfa46be49fc10834815c6</td>\n      <td>9.0</td>\n    </tr>\n    <tr>\n      <th>1</th>\n      <td>1</td>\n      <td>5a0546857ecc773753327266_046cfa46be49fc1083481...</td>\n      <td>0</td>\n      <td>82.697800</td>\n      <td>105.373505</td>\n      <td>5a0546857ecc773753327266</td>\n      <td>046cfa46be49fc10834815c6</td>\n      <td>9017.0</td>\n    </tr>\n    <tr>\n      <th>2</th>\n      <td>2</td>\n      <td>5a0546857ecc773753327266_046cfa46be49fc1083481...</td>\n      <td>0</td>\n      <td>84.964699</td>\n      <td>103.951103</td>\n      <td>5a0546857ecc773753327266</td>\n      <td>046cfa46be49fc10834815c6</td>\n      <td>15326.0</td>\n    </tr>\n    <tr>\n      <th>3</th>\n      <td>3</td>\n      <td>5a0546857ecc773753327266_046cfa46be49fc1083481...</td>\n      <td>0</td>\n      <td>86.664825</td>\n      <td>106.717567</td>\n      <td>5a0546857ecc773753327266</td>\n      <td>046cfa46be49fc10834815c6</td>\n      <td>18763.0</td>\n    </tr>\n    <tr>\n      <th>4</th>\n      <td>4</td>\n      <td>5a0546857ecc773753327266_046cfa46be49fc1083481...</td>\n      <td>0</td>\n      <td>83.760201</td>\n      <td>107.410637</td>\n      <td>5a0546857ecc773753327266</td>\n      <td>046cfa46be49fc10834815c6</td>\n      <td>22328.0</td>\n    </tr>\n    <tr>\n      <th>...</th>\n      <td>...</td>\n      <td>...</td>\n      <td>...</td>\n      <td>...</td>\n      <td>...</td>\n      <td>...</td>\n      <td>...</td>\n      <td>...</td>\n    </tr>\n    <tr>\n      <th>10128</th>\n      <td>10128</td>\n      <td>5dc8cea7659e181adb076a3f_fd64de8c4a2fc5ebb0e9f...</td>\n      <td>5</td>\n      <td>211.185181</td>\n      <td>98.134605</td>\n      <td>5dc8cea7659e181adb076a3f</td>\n      <td>fd64de8c4a2fc5ebb0e9f412</td>\n      <td>82589.0</td>\n    </tr>\n    <tr>\n      <th>10129</th>\n      <td>10129</td>\n      <td>5dc8cea7659e181adb076a3f_fd64de8c4a2fc5ebb0e9f...</td>\n      <td>5</td>\n      <td>206.992462</td>\n      <td>102.895439</td>\n      <td>5dc8cea7659e181adb076a3f</td>\n      <td>fd64de8c4a2fc5ebb0e9f412</td>\n      <td>85758.0</td>\n    </tr>\n    <tr>\n      <th>10130</th>\n      <td>10130</td>\n      <td>5dc8cea7659e181adb076a3f_fd64de8c4a2fc5ebb0e9f...</td>\n      <td>5</td>\n      <td>203.806610</td>\n      <td>105.155952</td>\n      <td>5dc8cea7659e181adb076a3f</td>\n      <td>fd64de8c4a2fc5ebb0e9f412</td>\n      <td>90895.0</td>\n    </tr>\n    <tr>\n      <th>10131</th>\n      <td>10131</td>\n      <td>5dc8cea7659e181adb076a3f_fd64de8c4a2fc5ebb0e9f...</td>\n      <td>5</td>\n      <td>202.334366</td>\n      <td>111.245056</td>\n      <td>5dc8cea7659e181adb076a3f</td>\n      <td>fd64de8c4a2fc5ebb0e9f412</td>\n      <td>96899.0</td>\n    </tr>\n    <tr>\n      <th>10132</th>\n      <td>10132</td>\n      <td>5dc8cea7659e181adb076a3f_fd64de8c4a2fc5ebb0e9f...</td>\n      <td>5</td>\n      <td>196.911758</td>\n      <td>113.656502</td>\n      <td>5dc8cea7659e181adb076a3f</td>\n      <td>fd64de8c4a2fc5ebb0e9f412</td>\n      <td>100447.0</td>\n    </tr>\n  </tbody>\n</table>\n<p>10133 rows × 8 columns</p>\n</div>"
     },
     "metadata": {},
     "execution_count": 81
    }
   ],
   "source": [
    "sub = sub.reset_index()\n",
    "sub_org = sub.copy()\n",
    "tmp = sub['site_path_timestamp'].apply(lambda s : pd.Series(s.split('_')))\n",
    "sub['site'] = tmp[0]\n",
    "sub['path'] = tmp[1]\n",
    "sub['timestamp'] = tmp[2].astype(float)\n",
    "sub"
   ]
  },
  {
   "cell_type": "code",
   "execution_count": 82,
   "metadata": {},
   "outputs": [
    {
     "output_type": "stream",
     "name": "stderr",
     "text": [
      "626it [00:51, 12.18it/s]\n"
     ]
    },
    {
     "output_type": "execute_result",
     "data": {
      "text/plain": [
       "                                     site_path_timestamp  floor           x  \\\n",
       "0      5a0546857ecc773753327266_046cfa46be49fc1083481...      0   90.067450   \n",
       "1      5a0546857ecc773753327266_046cfa46be49fc1083481...      0   80.966180   \n",
       "2      5a0546857ecc773753327266_046cfa46be49fc1083481...      0   82.865739   \n",
       "3      5a0546857ecc773753327266_046cfa46be49fc1083481...      0   83.725645   \n",
       "4      5a0546857ecc773753327266_046cfa46be49fc1083481...      0   84.234355   \n",
       "...                                                  ...    ...         ...   \n",
       "10128  5dc8cea7659e181adb076a3f_fd64de8c4a2fc5ebb0e9f...      5  208.996813   \n",
       "10129  5dc8cea7659e181adb076a3f_fd64de8c4a2fc5ebb0e9f...      5  207.116243   \n",
       "10130  5dc8cea7659e181adb076a3f_fd64de8c4a2fc5ebb0e9f...      5  203.306577   \n",
       "10131  5dc8cea7659e181adb076a3f_fd64de8c4a2fc5ebb0e9f...      5  196.214228   \n",
       "10132  5dc8cea7659e181adb076a3f_fd64de8c4a2fc5ebb0e9f...      5  192.785443   \n",
       "\n",
       "                y  \n",
       "0       97.485010  \n",
       "1       99.844459  \n",
       "2      104.663919  \n",
       "3      108.367646  \n",
       "4      112.028719  \n",
       "...           ...  \n",
       "10128   98.987745  \n",
       "10129  102.516847  \n",
       "10130  108.348592  \n",
       "10131  112.962323  \n",
       "10132  116.359581  \n",
       "\n",
       "[10133 rows x 4 columns]"
      ],
      "text/html": "<div>\n<style scoped>\n    .dataframe tbody tr th:only-of-type {\n        vertical-align: middle;\n    }\n\n    .dataframe tbody tr th {\n        vertical-align: top;\n    }\n\n    .dataframe thead th {\n        text-align: right;\n    }\n</style>\n<table border=\"1\" class=\"dataframe\">\n  <thead>\n    <tr style=\"text-align: right;\">\n      <th></th>\n      <th>site_path_timestamp</th>\n      <th>floor</th>\n      <th>x</th>\n      <th>y</th>\n    </tr>\n  </thead>\n  <tbody>\n    <tr>\n      <th>0</th>\n      <td>5a0546857ecc773753327266_046cfa46be49fc1083481...</td>\n      <td>0</td>\n      <td>90.067450</td>\n      <td>97.485010</td>\n    </tr>\n    <tr>\n      <th>1</th>\n      <td>5a0546857ecc773753327266_046cfa46be49fc1083481...</td>\n      <td>0</td>\n      <td>80.966180</td>\n      <td>99.844459</td>\n    </tr>\n    <tr>\n      <th>2</th>\n      <td>5a0546857ecc773753327266_046cfa46be49fc1083481...</td>\n      <td>0</td>\n      <td>82.865739</td>\n      <td>104.663919</td>\n    </tr>\n    <tr>\n      <th>3</th>\n      <td>5a0546857ecc773753327266_046cfa46be49fc1083481...</td>\n      <td>0</td>\n      <td>83.725645</td>\n      <td>108.367646</td>\n    </tr>\n    <tr>\n      <th>4</th>\n      <td>5a0546857ecc773753327266_046cfa46be49fc1083481...</td>\n      <td>0</td>\n      <td>84.234355</td>\n      <td>112.028719</td>\n    </tr>\n    <tr>\n      <th>...</th>\n      <td>...</td>\n      <td>...</td>\n      <td>...</td>\n      <td>...</td>\n    </tr>\n    <tr>\n      <th>10128</th>\n      <td>5dc8cea7659e181adb076a3f_fd64de8c4a2fc5ebb0e9f...</td>\n      <td>5</td>\n      <td>208.996813</td>\n      <td>98.987745</td>\n    </tr>\n    <tr>\n      <th>10129</th>\n      <td>5dc8cea7659e181adb076a3f_fd64de8c4a2fc5ebb0e9f...</td>\n      <td>5</td>\n      <td>207.116243</td>\n      <td>102.516847</td>\n    </tr>\n    <tr>\n      <th>10130</th>\n      <td>5dc8cea7659e181adb076a3f_fd64de8c4a2fc5ebb0e9f...</td>\n      <td>5</td>\n      <td>203.306577</td>\n      <td>108.348592</td>\n    </tr>\n    <tr>\n      <th>10131</th>\n      <td>5dc8cea7659e181adb076a3f_fd64de8c4a2fc5ebb0e9f...</td>\n      <td>5</td>\n      <td>196.214228</td>\n      <td>112.962323</td>\n    </tr>\n    <tr>\n      <th>10132</th>\n      <td>5dc8cea7659e181adb076a3f_fd64de8c4a2fc5ebb0e9f...</td>\n      <td>5</td>\n      <td>192.785443</td>\n      <td>116.359581</td>\n    </tr>\n  </tbody>\n</table>\n<p>10133 rows × 4 columns</p>\n</div>"
     },
     "metadata": {},
     "execution_count": 82
    }
   ],
   "source": [
    "processes = multiprocessing.cpu_count()\n",
    "with multiprocessing.Pool(processes=processes) as pool:\n",
    "    dfs = pool.imap_unordered(correct_path, sub.groupby(['path']))\n",
    "    dfs = tqdm(dfs)\n",
    "    dfs = list(dfs)\n",
    "new_sub = pd.concat(dfs).sort_values('site_path_timestamp')\n",
    "new_sub"
   ]
  },
  {
   "cell_type": "code",
   "execution_count": 83,
   "metadata": {},
   "outputs": [],
   "source": [
    "new_sub.to_csv(RUN_NAME + '_cost_sub.csv', index=False)"
   ]
  },
  {
   "cell_type": "markdown",
   "metadata": {},
   "source": [
    "## snap to grid"
   ]
  },
  {
   "cell_type": "code",
   "execution_count": 84,
   "metadata": {},
   "outputs": [],
   "source": [
    "from scipy.spatial.distance import cdist\n",
    "def sub_process(sub, train_waypoints):\n",
    "    train_waypoints['isTrainWaypoint'] = True\n",
    "    sub = split_col(sub[['site_path_timestamp','floor','x','y']]).copy()\n",
    "    sub = sub.merge(train_waypoints[['site','floorNo','floor']].drop_duplicates(), how='left')\n",
    "    sub = sub.merge(\n",
    "        train_waypoints[['x','y','site','floor','isTrainWaypoint']].drop_duplicates(),\n",
    "        how='left',\n",
    "        on=['site','x','y','floor']\n",
    "             )\n",
    "    sub['isTrainWaypoint'] = sub['isTrainWaypoint'].fillna(False)\n",
    "    return sub.copy()\n",
    "\n",
    "def split_col(df):\n",
    "    df = pd.concat([\n",
    "        df['site_path_timestamp'].str.split('_', expand=True) \\\n",
    "        .rename(columns={0:'site',\n",
    "                         1:'path',\n",
    "                         2:'timestamp'}),\n",
    "        df\n",
    "    ], axis=1).copy()\n",
    "    return df\n",
    "\n",
    "floor_map = {\"B2\":-2, \"B1\":-1, \"F1\":0, \"F2\": 1, \"F3\":2,\n",
    "             \"F4\":3, \"F5\":4, \"F6\":5, \"F7\":6,\"F8\":7,\"F9\":8,\n",
    "             \"1F\":0, \"2F\":1, \"3F\":2, \"4F\":3, \"5F\":4, \"6F\":5,\n",
    "             \"7F\":6, \"8F\": 7, \"9F\":8}\n",
    "\n",
    "def add_xy(df):\n",
    "    df['xy'] = [(x, y) for x,y in zip(df['x'], df['y'])]\n",
    "    return df\n",
    "\n",
    "def closest_point(point, points):\n",
    "    \"\"\" Find closest point from a list of points. \"\"\"\n",
    "    return points[cdist([point], points).argmin()]\n",
    "\n",
    "def snap_to_grid(sub, threshold):\n",
    "    \"\"\"\n",
    "    Snap to grid if within a threshold.\n",
    "    \n",
    "    x, y are the predicted points.\n",
    "    x_, y_ are the closest grid points.\n",
    "    _x_, _y_ are the new predictions after post processing.\n",
    "    \"\"\"\n",
    "    sub['_x_'] = sub['x']\n",
    "    sub['_y_'] = sub['y']\n",
    "    sub.loc[sub['dist'] < threshold, '_x_'] = sub.loc[sub['dist'] < threshold]['x_']\n",
    "    sub.loc[sub['dist'] < threshold, '_y_'] = sub.loc[sub['dist'] < threshold]['y_']\n",
    "    return sub.copy()\n"
   ]
  },
  {
   "cell_type": "code",
   "execution_count": 85,
   "metadata": {},
   "outputs": [
    {
     "output_type": "stream",
     "name": "stderr",
     "text": [
      "100%|██████████| 139/139 [01:26<00:00,  1.61it/s]\n"
     ]
    },
    {
     "output_type": "execute_result",
     "data": {
      "text/plain": [
       "                            site                      path      timestamp  \\\n",
       "0       5a0546857ecc773753327266  5d10a1669c50c70008fe8977  1561368762838   \n",
       "1       5a0546857ecc773753327266  5d10a1669c50c70008fe8977  1561368762838   \n",
       "2       5a0546857ecc773753327266  5d10a1669c50c70008fe8977  1561368774057   \n",
       "3       5a0546857ecc773753327266  5d10a1669c50c70008fe8977  1561368774057   \n",
       "4       5a0546857ecc773753327266  5d10a1669c50c70008fe8977  1561368774057   \n",
       "...                          ...                       ...            ...   \n",
       "220460  5dc8cea7659e181adb076a3f  5dd7c119c5b77e0006b16b99  1574420742502   \n",
       "220461  5dc8cea7659e181adb076a3f  5dd7c119c5b77e0006b16b99  1574420742502   \n",
       "220462  5dc8cea7659e181adb076a3f  5dd7c119c5b77e0006b16b99  1574420753754   \n",
       "220463  5dc8cea7659e181adb076a3f  5dd7c119c5b77e0006b16b99  1574420753754   \n",
       "220464  5dc8cea7659e181adb076a3f  5dd7c119c5b77e0006b16b99  1574420753754   \n",
       "\n",
       "                                      site_path_timestamp  floor           x  \\\n",
       "0       5a0546857ecc773753327266_5d10a1669c50c70008fe8...    2.0   81.957298   \n",
       "1       5a0546857ecc773753327266_5d10a1669c50c70008fe8...    2.0   81.960994   \n",
       "2       5a0546857ecc773753327266_5d10a1669c50c70008fe8...    2.0   82.976876   \n",
       "3       5a0546857ecc773753327266_5d10a1669c50c70008fe8...    2.0   82.975056   \n",
       "4       5a0546857ecc773753327266_5d10a1669c50c70008fe8...    2.0   82.967576   \n",
       "...                                                   ...    ...         ...   \n",
       "220460  5dc8cea7659e181adb076a3f_5dd7c119c5b77e0006b16...   -1.0  202.524569   \n",
       "220461  5dc8cea7659e181adb076a3f_5dd7c119c5b77e0006b16...   -1.0  202.514486   \n",
       "220462  5dc8cea7659e181adb076a3f_5dd7c119c5b77e0006b16...   -1.0  210.262874   \n",
       "220463  5dc8cea7659e181adb076a3f_5dd7c119c5b77e0006b16...   -1.0  210.255555   \n",
       "220464  5dc8cea7659e181adb076a3f_5dd7c119c5b77e0006b16...   -1.0  210.251920   \n",
       "\n",
       "                 y floorNo  isTrainWaypoint  \\\n",
       "0        35.740396      F3            False   \n",
       "1        35.740518      F3            False   \n",
       "2        26.227376      F3            False   \n",
       "3        26.233652      F3            False   \n",
       "4        26.244160      F3            False   \n",
       "...            ...     ...              ...   \n",
       "220460  103.314520      B1            False   \n",
       "220461  103.316163      B1            False   \n",
       "220462  105.698911      B1            False   \n",
       "220463  105.697515      B1            False   \n",
       "220464  105.695664      B1            False   \n",
       "\n",
       "                                              xy            matched_point  \\\n",
       "0          (81.9572976444582, 35.74039555632386)     (80.6814, 39.265667)   \n",
       "1         (81.96099429978243, 35.74051766982102)     (80.6814, 39.265667)   \n",
       "2        (82.97687576524575, 26.227376166173126)     (84.22669, 27.13862)   \n",
       "3         (82.9750562375584, 26.233652414924265)     (84.22669, 27.13862)   \n",
       "4        (82.96757572603761, 26.244159943038937)     (84.22669, 27.13862)   \n",
       "...                                          ...                      ...   \n",
       "220460  (202.52456937913993, 103.31452041201509)  (204.21092, 106.165436)   \n",
       "220461  (202.51448585205307, 103.31616277736342)  (204.21092, 106.165436)   \n",
       "220462   (210.2628742787032, 105.69891091849424)    (208.15857, 104.7078)   \n",
       "220463  (210.25555533595283, 105.69751532737935)    (208.15857, 104.7078)   \n",
       "220464  (210.25192048181648, 105.69566405240313)    (208.15857, 104.7078)   \n",
       "\n",
       "        oof_min_snap_x  oof_min_snap_y  \n",
       "0             80.68140       39.265667  \n",
       "1             80.68140       39.265667  \n",
       "2             84.22669       27.138620  \n",
       "3             84.22669       27.138620  \n",
       "4             84.22669       27.138620  \n",
       "...                ...             ...  \n",
       "220460       204.21092      106.165436  \n",
       "220461       204.21092      106.165436  \n",
       "220462       208.15857      104.707800  \n",
       "220463       208.15857      104.707800  \n",
       "220464       208.15857      104.707800  \n",
       "\n",
       "[220465 rows x 13 columns]"
      ],
      "text/html": "<div>\n<style scoped>\n    .dataframe tbody tr th:only-of-type {\n        vertical-align: middle;\n    }\n\n    .dataframe tbody tr th {\n        vertical-align: top;\n    }\n\n    .dataframe thead th {\n        text-align: right;\n    }\n</style>\n<table border=\"1\" class=\"dataframe\">\n  <thead>\n    <tr style=\"text-align: right;\">\n      <th></th>\n      <th>site</th>\n      <th>path</th>\n      <th>timestamp</th>\n      <th>site_path_timestamp</th>\n      <th>floor</th>\n      <th>x</th>\n      <th>y</th>\n      <th>floorNo</th>\n      <th>isTrainWaypoint</th>\n      <th>xy</th>\n      <th>matched_point</th>\n      <th>oof_min_snap_x</th>\n      <th>oof_min_snap_y</th>\n    </tr>\n  </thead>\n  <tbody>\n    <tr>\n      <th>0</th>\n      <td>5a0546857ecc773753327266</td>\n      <td>5d10a1669c50c70008fe8977</td>\n      <td>1561368762838</td>\n      <td>5a0546857ecc773753327266_5d10a1669c50c70008fe8...</td>\n      <td>2.0</td>\n      <td>81.957298</td>\n      <td>35.740396</td>\n      <td>F3</td>\n      <td>False</td>\n      <td>(81.9572976444582, 35.74039555632386)</td>\n      <td>(80.6814, 39.265667)</td>\n      <td>80.68140</td>\n      <td>39.265667</td>\n    </tr>\n    <tr>\n      <th>1</th>\n      <td>5a0546857ecc773753327266</td>\n      <td>5d10a1669c50c70008fe8977</td>\n      <td>1561368762838</td>\n      <td>5a0546857ecc773753327266_5d10a1669c50c70008fe8...</td>\n      <td>2.0</td>\n      <td>81.960994</td>\n      <td>35.740518</td>\n      <td>F3</td>\n      <td>False</td>\n      <td>(81.96099429978243, 35.74051766982102)</td>\n      <td>(80.6814, 39.265667)</td>\n      <td>80.68140</td>\n      <td>39.265667</td>\n    </tr>\n    <tr>\n      <th>2</th>\n      <td>5a0546857ecc773753327266</td>\n      <td>5d10a1669c50c70008fe8977</td>\n      <td>1561368774057</td>\n      <td>5a0546857ecc773753327266_5d10a1669c50c70008fe8...</td>\n      <td>2.0</td>\n      <td>82.976876</td>\n      <td>26.227376</td>\n      <td>F3</td>\n      <td>False</td>\n      <td>(82.97687576524575, 26.227376166173126)</td>\n      <td>(84.22669, 27.13862)</td>\n      <td>84.22669</td>\n      <td>27.138620</td>\n    </tr>\n    <tr>\n      <th>3</th>\n      <td>5a0546857ecc773753327266</td>\n      <td>5d10a1669c50c70008fe8977</td>\n      <td>1561368774057</td>\n      <td>5a0546857ecc773753327266_5d10a1669c50c70008fe8...</td>\n      <td>2.0</td>\n      <td>82.975056</td>\n      <td>26.233652</td>\n      <td>F3</td>\n      <td>False</td>\n      <td>(82.9750562375584, 26.233652414924265)</td>\n      <td>(84.22669, 27.13862)</td>\n      <td>84.22669</td>\n      <td>27.138620</td>\n    </tr>\n    <tr>\n      <th>4</th>\n      <td>5a0546857ecc773753327266</td>\n      <td>5d10a1669c50c70008fe8977</td>\n      <td>1561368774057</td>\n      <td>5a0546857ecc773753327266_5d10a1669c50c70008fe8...</td>\n      <td>2.0</td>\n      <td>82.967576</td>\n      <td>26.244160</td>\n      <td>F3</td>\n      <td>False</td>\n      <td>(82.96757572603761, 26.244159943038937)</td>\n      <td>(84.22669, 27.13862)</td>\n      <td>84.22669</td>\n      <td>27.138620</td>\n    </tr>\n    <tr>\n      <th>...</th>\n      <td>...</td>\n      <td>...</td>\n      <td>...</td>\n      <td>...</td>\n      <td>...</td>\n      <td>...</td>\n      <td>...</td>\n      <td>...</td>\n      <td>...</td>\n      <td>...</td>\n      <td>...</td>\n      <td>...</td>\n      <td>...</td>\n    </tr>\n    <tr>\n      <th>220460</th>\n      <td>5dc8cea7659e181adb076a3f</td>\n      <td>5dd7c119c5b77e0006b16b99</td>\n      <td>1574420742502</td>\n      <td>5dc8cea7659e181adb076a3f_5dd7c119c5b77e0006b16...</td>\n      <td>-1.0</td>\n      <td>202.524569</td>\n      <td>103.314520</td>\n      <td>B1</td>\n      <td>False</td>\n      <td>(202.52456937913993, 103.31452041201509)</td>\n      <td>(204.21092, 106.165436)</td>\n      <td>204.21092</td>\n      <td>106.165436</td>\n    </tr>\n    <tr>\n      <th>220461</th>\n      <td>5dc8cea7659e181adb076a3f</td>\n      <td>5dd7c119c5b77e0006b16b99</td>\n      <td>1574420742502</td>\n      <td>5dc8cea7659e181adb076a3f_5dd7c119c5b77e0006b16...</td>\n      <td>-1.0</td>\n      <td>202.514486</td>\n      <td>103.316163</td>\n      <td>B1</td>\n      <td>False</td>\n      <td>(202.51448585205307, 103.31616277736342)</td>\n      <td>(204.21092, 106.165436)</td>\n      <td>204.21092</td>\n      <td>106.165436</td>\n    </tr>\n    <tr>\n      <th>220462</th>\n      <td>5dc8cea7659e181adb076a3f</td>\n      <td>5dd7c119c5b77e0006b16b99</td>\n      <td>1574420753754</td>\n      <td>5dc8cea7659e181adb076a3f_5dd7c119c5b77e0006b16...</td>\n      <td>-1.0</td>\n      <td>210.262874</td>\n      <td>105.698911</td>\n      <td>B1</td>\n      <td>False</td>\n      <td>(210.2628742787032, 105.69891091849424)</td>\n      <td>(208.15857, 104.7078)</td>\n      <td>208.15857</td>\n      <td>104.707800</td>\n    </tr>\n    <tr>\n      <th>220463</th>\n      <td>5dc8cea7659e181adb076a3f</td>\n      <td>5dd7c119c5b77e0006b16b99</td>\n      <td>1574420753754</td>\n      <td>5dc8cea7659e181adb076a3f_5dd7c119c5b77e0006b16...</td>\n      <td>-1.0</td>\n      <td>210.255555</td>\n      <td>105.697515</td>\n      <td>B1</td>\n      <td>False</td>\n      <td>(210.25555533595283, 105.69751532737935)</td>\n      <td>(208.15857, 104.7078)</td>\n      <td>208.15857</td>\n      <td>104.707800</td>\n    </tr>\n    <tr>\n      <th>220464</th>\n      <td>5dc8cea7659e181adb076a3f</td>\n      <td>5dd7c119c5b77e0006b16b99</td>\n      <td>1574420753754</td>\n      <td>5dc8cea7659e181adb076a3f_5dd7c119c5b77e0006b16...</td>\n      <td>-1.0</td>\n      <td>210.251920</td>\n      <td>105.695664</td>\n      <td>B1</td>\n      <td>False</td>\n      <td>(210.25192048181648, 105.69566405240313)</td>\n      <td>(208.15857, 104.7078)</td>\n      <td>208.15857</td>\n      <td>104.707800</td>\n    </tr>\n  </tbody>\n</table>\n<p>220465 rows × 13 columns</p>\n</div>"
     },
     "metadata": {},
     "execution_count": 85
    }
   ],
   "source": [
    "train_waypoints = pd.read_csv('../../input/indoor-location-train-waypoints/train_waypoints.csv')\n",
    "# 線形補完しているwaypointをtrain_waypoints（grid）とする。gridを増やすのが狙い。\n",
    "# train_waypoints = oofs_df[['oof_x', 'oof_y', 'timestamp', 'site_id_str', 'floor', 'floor_str', 'path']]\n",
    "# train_waypoints = train_waypoints.rename(columns={'oof_x':'x', 'oof_y':\"y\", 'site_id_str':\"site\", 'floor_str':'floorNo'})\n",
    "\n",
    "snap_df = oofs_df[['site_path_timestamp','floor','oof_min_x','oof_min_y']].copy()\n",
    "snap_df = snap_df.rename(columns={'oof_min_x':'x', 'oof_min_y':'y'})\n",
    "snap_df = sub_process(snap_df, train_waypoints)\n",
    "snap_df = add_xy(snap_df)\n",
    "train_waypoints = add_xy(train_waypoints)\n",
    "\n",
    "ds = []\n",
    "for (site, myfloor), d in tqdm(snap_df.groupby(['site','floor'])):\n",
    "    true_floor_locs = train_waypoints.loc[(train_waypoints['floor'] == myfloor) &\n",
    "                                          (train_waypoints['site'] == site)] \\\n",
    "        .reset_index(drop=True)\n",
    "    if len(true_floor_locs) == 0:\n",
    "        print(f'Skipping {site} {myfloor}')\n",
    "        continue\n",
    "    d['matched_point'] = [closest_point(x, list(true_floor_locs['xy'])) for x in d['xy']]\n",
    "    d['oof_min_snap_x'] = d['matched_point'].apply(lambda x: x[0])\n",
    "    d['oof_min_snap_y'] = d['matched_point'].apply(lambda x: x[1])\n",
    "    ds.append(d)\n",
    "\n",
    "# 上書き\n",
    "snap_df = pd.concat(ds).sort_index()\n",
    "snap_df"
   ]
  },
  {
   "cell_type": "code",
   "execution_count": 86,
   "metadata": {},
   "outputs": [
    {
     "output_type": "execute_result",
     "data": {
      "text/plain": [
       "        rssi_0  rssi_1  rssi_2  rssi_3  rssi_4  rssi_5  rssi_6  rssi_7  \\\n",
       "0           39      46      47      47      49      49      49      51   \n",
       "1           40      47      47      48      48      49      49      49   \n",
       "2           44      44      44      44      45      45      45      45   \n",
       "3           43      44      44      44      45      45      49      49   \n",
       "4           43      43      43      44      44      45      45      46   \n",
       "...        ...     ...     ...     ...     ...     ...     ...     ...   \n",
       "220460      59      63      66      70      71      71      73      75   \n",
       "220461      62      62      63      70      71      73      75      75   \n",
       "220462      65      67      68      75      78      79      79      79   \n",
       "220463      62      65      67      75      75      79      79      80   \n",
       "220464      62      65      67      75      79      79      80      80   \n",
       "\n",
       "        rssi_8  rssi_9  ...  site_id               site_id_str       oof_x  \\\n",
       "0           52      55  ...        0  5a0546857ecc773753327266   79.262436   \n",
       "1           49      49  ...        0  5a0546857ecc773753327266   82.296295   \n",
       "2           46      47  ...        0  5a0546857ecc773753327266   86.662872   \n",
       "3           50      50  ...        0  5a0546857ecc773753327266   87.101913   \n",
       "4           46      47  ...        0  5a0546857ecc773753327266   82.743439   \n",
       "...        ...     ...  ...      ...                       ...         ...   \n",
       "220460      75      78  ...       23  5dc8cea7659e181adb076a3f  204.178116   \n",
       "220461      78      79  ...       23  5dc8cea7659e181adb076a3f  203.788315   \n",
       "220462      81      82  ...       23  5dc8cea7659e181adb076a3f  206.973663   \n",
       "220463      81      82  ...       23  5dc8cea7659e181adb076a3f  207.569855   \n",
       "220464      83      86  ...       23  5dc8cea7659e181adb076a3f  207.602112   \n",
       "\n",
       "             oof_y  oof_floor  \\\n",
       "0        35.651375   0.205538   \n",
       "1        33.535130   0.205931   \n",
       "2        23.946400   0.205969   \n",
       "3        23.149050   0.205791   \n",
       "4        21.838287   0.201842   \n",
       "...            ...        ...   \n",
       "220460  105.088226   0.000000   \n",
       "220461  104.344894   0.000000   \n",
       "220462  106.884850   0.000000   \n",
       "220463  106.029709   0.000000   \n",
       "220464  104.346085   0.000000   \n",
       "\n",
       "                                      site_path_timestamp   oof_min_x  \\\n",
       "0       5a0546857ecc773753327266_5d10a1669c50c70008fe8...   81.957298   \n",
       "1       5a0546857ecc773753327266_5d10a1669c50c70008fe8...   81.960994   \n",
       "2       5a0546857ecc773753327266_5d10a1669c50c70008fe8...   82.976876   \n",
       "3       5a0546857ecc773753327266_5d10a1669c50c70008fe8...   82.975056   \n",
       "4       5a0546857ecc773753327266_5d10a1669c50c70008fe8...   82.967576   \n",
       "...                                                   ...         ...   \n",
       "220460  5dc8cea7659e181adb076a3f_5dd7c119c5b77e0006b16...  202.524569   \n",
       "220461  5dc8cea7659e181adb076a3f_5dd7c119c5b77e0006b16...  202.514486   \n",
       "220462  5dc8cea7659e181adb076a3f_5dd7c119c5b77e0006b16...  210.262874   \n",
       "220463  5dc8cea7659e181adb076a3f_5dd7c119c5b77e0006b16...  210.255555   \n",
       "220464  5dc8cea7659e181adb076a3f_5dd7c119c5b77e0006b16...  210.251920   \n",
       "\n",
       "         oof_min_y  oof_min_snap_x  oof_min_snap_y  \n",
       "0        35.740396        80.68140       39.265667  \n",
       "1        35.740518        80.68140       39.265667  \n",
       "2        26.227376        84.22669       27.138620  \n",
       "3        26.233652        84.22669       27.138620  \n",
       "4        26.244160        84.22669       27.138620  \n",
       "...            ...             ...             ...  \n",
       "220460  103.314520       204.21092      106.165436  \n",
       "220461  103.316163       204.21092      106.165436  \n",
       "220462  105.698911       208.15857      104.707800  \n",
       "220463  105.697515       208.15857      104.707800  \n",
       "220464  105.695664       208.15857      104.707800  \n",
       "\n",
       "[220465 rows x 179 columns]"
      ],
      "text/html": "<div>\n<style scoped>\n    .dataframe tbody tr th:only-of-type {\n        vertical-align: middle;\n    }\n\n    .dataframe tbody tr th {\n        vertical-align: top;\n    }\n\n    .dataframe thead th {\n        text-align: right;\n    }\n</style>\n<table border=\"1\" class=\"dataframe\">\n  <thead>\n    <tr style=\"text-align: right;\">\n      <th></th>\n      <th>rssi_0</th>\n      <th>rssi_1</th>\n      <th>rssi_2</th>\n      <th>rssi_3</th>\n      <th>rssi_4</th>\n      <th>rssi_5</th>\n      <th>rssi_6</th>\n      <th>rssi_7</th>\n      <th>rssi_8</th>\n      <th>rssi_9</th>\n      <th>...</th>\n      <th>site_id</th>\n      <th>site_id_str</th>\n      <th>oof_x</th>\n      <th>oof_y</th>\n      <th>oof_floor</th>\n      <th>site_path_timestamp</th>\n      <th>oof_min_x</th>\n      <th>oof_min_y</th>\n      <th>oof_min_snap_x</th>\n      <th>oof_min_snap_y</th>\n    </tr>\n  </thead>\n  <tbody>\n    <tr>\n      <th>0</th>\n      <td>39</td>\n      <td>46</td>\n      <td>47</td>\n      <td>47</td>\n      <td>49</td>\n      <td>49</td>\n      <td>49</td>\n      <td>51</td>\n      <td>52</td>\n      <td>55</td>\n      <td>...</td>\n      <td>0</td>\n      <td>5a0546857ecc773753327266</td>\n      <td>79.262436</td>\n      <td>35.651375</td>\n      <td>0.205538</td>\n      <td>5a0546857ecc773753327266_5d10a1669c50c70008fe8...</td>\n      <td>81.957298</td>\n      <td>35.740396</td>\n      <td>80.68140</td>\n      <td>39.265667</td>\n    </tr>\n    <tr>\n      <th>1</th>\n      <td>40</td>\n      <td>47</td>\n      <td>47</td>\n      <td>48</td>\n      <td>48</td>\n      <td>49</td>\n      <td>49</td>\n      <td>49</td>\n      <td>49</td>\n      <td>49</td>\n      <td>...</td>\n      <td>0</td>\n      <td>5a0546857ecc773753327266</td>\n      <td>82.296295</td>\n      <td>33.535130</td>\n      <td>0.205931</td>\n      <td>5a0546857ecc773753327266_5d10a1669c50c70008fe8...</td>\n      <td>81.960994</td>\n      <td>35.740518</td>\n      <td>80.68140</td>\n      <td>39.265667</td>\n    </tr>\n    <tr>\n      <th>2</th>\n      <td>44</td>\n      <td>44</td>\n      <td>44</td>\n      <td>44</td>\n      <td>45</td>\n      <td>45</td>\n      <td>45</td>\n      <td>45</td>\n      <td>46</td>\n      <td>47</td>\n      <td>...</td>\n      <td>0</td>\n      <td>5a0546857ecc773753327266</td>\n      <td>86.662872</td>\n      <td>23.946400</td>\n      <td>0.205969</td>\n      <td>5a0546857ecc773753327266_5d10a1669c50c70008fe8...</td>\n      <td>82.976876</td>\n      <td>26.227376</td>\n      <td>84.22669</td>\n      <td>27.138620</td>\n    </tr>\n    <tr>\n      <th>3</th>\n      <td>43</td>\n      <td>44</td>\n      <td>44</td>\n      <td>44</td>\n      <td>45</td>\n      <td>45</td>\n      <td>49</td>\n      <td>49</td>\n      <td>50</td>\n      <td>50</td>\n      <td>...</td>\n      <td>0</td>\n      <td>5a0546857ecc773753327266</td>\n      <td>87.101913</td>\n      <td>23.149050</td>\n      <td>0.205791</td>\n      <td>5a0546857ecc773753327266_5d10a1669c50c70008fe8...</td>\n      <td>82.975056</td>\n      <td>26.233652</td>\n      <td>84.22669</td>\n      <td>27.138620</td>\n    </tr>\n    <tr>\n      <th>4</th>\n      <td>43</td>\n      <td>43</td>\n      <td>43</td>\n      <td>44</td>\n      <td>44</td>\n      <td>45</td>\n      <td>45</td>\n      <td>46</td>\n      <td>46</td>\n      <td>47</td>\n      <td>...</td>\n      <td>0</td>\n      <td>5a0546857ecc773753327266</td>\n      <td>82.743439</td>\n      <td>21.838287</td>\n      <td>0.201842</td>\n      <td>5a0546857ecc773753327266_5d10a1669c50c70008fe8...</td>\n      <td>82.967576</td>\n      <td>26.244160</td>\n      <td>84.22669</td>\n      <td>27.138620</td>\n    </tr>\n    <tr>\n      <th>...</th>\n      <td>...</td>\n      <td>...</td>\n      <td>...</td>\n      <td>...</td>\n      <td>...</td>\n      <td>...</td>\n      <td>...</td>\n      <td>...</td>\n      <td>...</td>\n      <td>...</td>\n      <td>...</td>\n      <td>...</td>\n      <td>...</td>\n      <td>...</td>\n      <td>...</td>\n      <td>...</td>\n      <td>...</td>\n      <td>...</td>\n      <td>...</td>\n      <td>...</td>\n      <td>...</td>\n    </tr>\n    <tr>\n      <th>220460</th>\n      <td>59</td>\n      <td>63</td>\n      <td>66</td>\n      <td>70</td>\n      <td>71</td>\n      <td>71</td>\n      <td>73</td>\n      <td>75</td>\n      <td>75</td>\n      <td>78</td>\n      <td>...</td>\n      <td>23</td>\n      <td>5dc8cea7659e181adb076a3f</td>\n      <td>204.178116</td>\n      <td>105.088226</td>\n      <td>0.000000</td>\n      <td>5dc8cea7659e181adb076a3f_5dd7c119c5b77e0006b16...</td>\n      <td>202.524569</td>\n      <td>103.314520</td>\n      <td>204.21092</td>\n      <td>106.165436</td>\n    </tr>\n    <tr>\n      <th>220461</th>\n      <td>62</td>\n      <td>62</td>\n      <td>63</td>\n      <td>70</td>\n      <td>71</td>\n      <td>73</td>\n      <td>75</td>\n      <td>75</td>\n      <td>78</td>\n      <td>79</td>\n      <td>...</td>\n      <td>23</td>\n      <td>5dc8cea7659e181adb076a3f</td>\n      <td>203.788315</td>\n      <td>104.344894</td>\n      <td>0.000000</td>\n      <td>5dc8cea7659e181adb076a3f_5dd7c119c5b77e0006b16...</td>\n      <td>202.514486</td>\n      <td>103.316163</td>\n      <td>204.21092</td>\n      <td>106.165436</td>\n    </tr>\n    <tr>\n      <th>220462</th>\n      <td>65</td>\n      <td>67</td>\n      <td>68</td>\n      <td>75</td>\n      <td>78</td>\n      <td>79</td>\n      <td>79</td>\n      <td>79</td>\n      <td>81</td>\n      <td>82</td>\n      <td>...</td>\n      <td>23</td>\n      <td>5dc8cea7659e181adb076a3f</td>\n      <td>206.973663</td>\n      <td>106.884850</td>\n      <td>0.000000</td>\n      <td>5dc8cea7659e181adb076a3f_5dd7c119c5b77e0006b16...</td>\n      <td>210.262874</td>\n      <td>105.698911</td>\n      <td>208.15857</td>\n      <td>104.707800</td>\n    </tr>\n    <tr>\n      <th>220463</th>\n      <td>62</td>\n      <td>65</td>\n      <td>67</td>\n      <td>75</td>\n      <td>75</td>\n      <td>79</td>\n      <td>79</td>\n      <td>80</td>\n      <td>81</td>\n      <td>82</td>\n      <td>...</td>\n      <td>23</td>\n      <td>5dc8cea7659e181adb076a3f</td>\n      <td>207.569855</td>\n      <td>106.029709</td>\n      <td>0.000000</td>\n      <td>5dc8cea7659e181adb076a3f_5dd7c119c5b77e0006b16...</td>\n      <td>210.255555</td>\n      <td>105.697515</td>\n      <td>208.15857</td>\n      <td>104.707800</td>\n    </tr>\n    <tr>\n      <th>220464</th>\n      <td>62</td>\n      <td>65</td>\n      <td>67</td>\n      <td>75</td>\n      <td>79</td>\n      <td>79</td>\n      <td>80</td>\n      <td>80</td>\n      <td>83</td>\n      <td>86</td>\n      <td>...</td>\n      <td>23</td>\n      <td>5dc8cea7659e181adb076a3f</td>\n      <td>207.602112</td>\n      <td>104.346085</td>\n      <td>0.000000</td>\n      <td>5dc8cea7659e181adb076a3f_5dd7c119c5b77e0006b16...</td>\n      <td>210.251920</td>\n      <td>105.695664</td>\n      <td>208.15857</td>\n      <td>104.707800</td>\n    </tr>\n  </tbody>\n</table>\n<p>220465 rows × 179 columns</p>\n</div>"
     },
     "metadata": {},
     "execution_count": 86
    }
   ],
   "source": [
    "oofs_df['oof_min_snap_x'] = snap_df['oof_min_snap_x']\n",
    "oofs_df['oof_min_snap_y'] = snap_df['oof_min_snap_y']\n",
    "oofs_df"
   ]
  },
  {
   "cell_type": "code",
   "execution_count": 87,
   "metadata": {},
   "outputs": [
    {
     "output_type": "stream",
     "name": "stdout",
     "text": [
      "(after cost-min + snap) CV:5.03965921875258\n"
     ]
    }
   ],
   "source": [
    "# waypoint補正前のx,yでの評価\n",
    "oof_score_post_process = mean_position_error(\n",
    "    oofs_df['oof_min_snap_x'], oofs_df['oof_min_snap_y'], 0, \n",
    "    oofs_df['target_x'], oofs_df['target_y'], 0\n",
    "    )\n",
    "wandb_config['CV_cost_snap'] = oof_score_post_process\n",
    "print(f\"(after cost-min + snap) CV:{oof_score_post_process}\")"
   ]
  },
  {
   "cell_type": "code",
   "execution_count": 88,
   "metadata": {},
   "outputs": [
    {
     "output_type": "stream",
     "name": "stdout",
     "text": [
      "(after cost-min + snap) CV:5.649768607834974\n"
     ]
    }
   ],
   "source": [
    "# waypoint補正後のx,yでの評価\n",
    "oof_score_post_process = mean_position_error(\n",
    "    oofs_df['oof_min_snap_x'], oofs_df['oof_min_snap_y'], 0, \n",
    "    oofs_df['ix'], oofs_df['iy'], 0\n",
    "    )\n",
    "wandb_config['iCV_cost_snap'] = oof_score_post_process\n",
    "print(f\"(after cost-min + snap) CV:{oof_score_post_process}\")"
   ]
  },
  {
   "cell_type": "code",
   "execution_count": 89,
   "metadata": {},
   "outputs": [
    {
     "output_type": "stream",
     "name": "stderr",
     "text": [
      "100%|██████████| 139/139 [00:28<00:00,  4.81it/s]\n"
     ]
    },
    {
     "output_type": "execute_result",
     "data": {
      "text/plain": [
       "                           site                      path      timestamp  \\\n",
       "0      5a0546857ecc773753327266  5d10a1669c50c70008fe8977  1561368762838   \n",
       "1      5a0546857ecc773753327266  5d10a1669c50c70008fe8977  1561368774057   \n",
       "2      5a0546857ecc773753327266  5d10a1669c50c70008fe8977  1561368793535   \n",
       "3      5a0546857ecc773753327266  5d10a1669c50c70008fe8977  1561368798851   \n",
       "4      5a0546857ecc773753327266  5d10a1669c50c70008fe8977  1561368814782   \n",
       "...                         ...                       ...            ...   \n",
       "71177  5dc8cea7659e181adb076a3f  5dd7c1189191710006b568d0  1574420722415   \n",
       "71178  5dc8cea7659e181adb076a3f  5dd7c119c5b77e0006b16b99  1574420726383   \n",
       "71179  5dc8cea7659e181adb076a3f  5dd7c119c5b77e0006b16b99  1574420736142   \n",
       "71180  5dc8cea7659e181adb076a3f  5dd7c119c5b77e0006b16b99  1574420742502   \n",
       "71181  5dc8cea7659e181adb076a3f  5dd7c119c5b77e0006b16b99  1574420753754   \n",
       "\n",
       "                                     site_path_timestamp  floor           x  \\\n",
       "0      5a0546857ecc773753327266_5d10a1669c50c70008fe8...    2.0   79.917322   \n",
       "1      5a0546857ecc773753327266_5d10a1669c50c70008fe8...    2.0   80.273398   \n",
       "2      5a0546857ecc773753327266_5d10a1669c50c70008fe8...    2.0   81.216332   \n",
       "3      5a0546857ecc773753327266_5d10a1669c50c70008fe8...    2.0   82.636609   \n",
       "4      5a0546857ecc773753327266_5d10a1669c50c70008fe8...    2.0   91.452834   \n",
       "...                                                  ...    ...         ...   \n",
       "71177  5dc8cea7659e181adb076a3f_5dd7c1189191710006b56...   -1.0  198.991016   \n",
       "71178  5dc8cea7659e181adb076a3f_5dd7c119c5b77e0006b16...   -1.0  210.992907   \n",
       "71179  5dc8cea7659e181adb076a3f_5dd7c119c5b77e0006b16...   -1.0  201.773939   \n",
       "71180  5dc8cea7659e181adb076a3f_5dd7c119c5b77e0006b16...   -1.0  201.176561   \n",
       "71181  5dc8cea7659e181adb076a3f_5dd7c119c5b77e0006b16...   -1.0  210.134168   \n",
       "\n",
       "                y floorNo  isTrainWaypoint  \\\n",
       "0       38.226021      F3            False   \n",
       "1       28.986984      F3            False   \n",
       "2       15.582728      F3            False   \n",
       "3       12.983947      F3            False   \n",
       "4       18.666075      F3            False   \n",
       "...           ...     ...              ...   \n",
       "71177  107.735382      B1            False   \n",
       "71178  103.264496      B1            False   \n",
       "71179  105.800882      B1            False   \n",
       "71180  103.515950      B1            False   \n",
       "71181  105.845133      B1            False   \n",
       "\n",
       "                                             xy  \\\n",
       "0         (79.9173217701555, 38.22602129626547)   \n",
       "1       (80.27339756660524, 28.986984322265503)   \n",
       "2       (81.21633224678604, 15.582728498643416)   \n",
       "3       (82.63660881850853, 12.983947243402586)   \n",
       "4       (91.45283365463044, 18.666074844247348)   \n",
       "...                                         ...   \n",
       "71177    (198.9910163871579, 107.7353818586984)   \n",
       "71178   (210.9929073854088, 103.26449550849071)   \n",
       "71179   (201.7739390001386, 105.80088184359103)   \n",
       "71180   (201.1765614433713, 103.51595040343558)   \n",
       "71181  (210.13416785467493, 105.84513251059597)   \n",
       "\n",
       "                         matched_point  oof_min_snap_x  oof_min_snap_y  \n",
       "0                 (80.6814, 39.265667)       80.681400       39.265667  \n",
       "1      (78.469894, 30.721445000000003)       78.469894       30.721445  \n",
       "2                (81.30773, 15.669319)       81.307730       15.669319  \n",
       "3                (81.30773, 15.669319)       81.307730       15.669319  \n",
       "4                (90.43365, 18.036816)       90.433650       18.036816  \n",
       "...                                ...             ...             ...  \n",
       "71177           (200.75478, 106.75563)      200.754780      106.755630  \n",
       "71178  (213.61757000000003, 103.37845)      213.617570      103.378450  \n",
       "71179           (200.75478, 106.75563)      200.754780      106.755630  \n",
       "71180           (200.75478, 106.75563)      200.754780      106.755630  \n",
       "71181            (208.15857, 104.7078)      208.158570      104.707800  \n",
       "\n",
       "[71182 rows x 13 columns]"
      ],
      "text/html": "<div>\n<style scoped>\n    .dataframe tbody tr th:only-of-type {\n        vertical-align: middle;\n    }\n\n    .dataframe tbody tr th {\n        vertical-align: top;\n    }\n\n    .dataframe thead th {\n        text-align: right;\n    }\n</style>\n<table border=\"1\" class=\"dataframe\">\n  <thead>\n    <tr style=\"text-align: right;\">\n      <th></th>\n      <th>site</th>\n      <th>path</th>\n      <th>timestamp</th>\n      <th>site_path_timestamp</th>\n      <th>floor</th>\n      <th>x</th>\n      <th>y</th>\n      <th>floorNo</th>\n      <th>isTrainWaypoint</th>\n      <th>xy</th>\n      <th>matched_point</th>\n      <th>oof_min_snap_x</th>\n      <th>oof_min_snap_y</th>\n    </tr>\n  </thead>\n  <tbody>\n    <tr>\n      <th>0</th>\n      <td>5a0546857ecc773753327266</td>\n      <td>5d10a1669c50c70008fe8977</td>\n      <td>1561368762838</td>\n      <td>5a0546857ecc773753327266_5d10a1669c50c70008fe8...</td>\n      <td>2.0</td>\n      <td>79.917322</td>\n      <td>38.226021</td>\n      <td>F3</td>\n      <td>False</td>\n      <td>(79.9173217701555, 38.22602129626547)</td>\n      <td>(80.6814, 39.265667)</td>\n      <td>80.681400</td>\n      <td>39.265667</td>\n    </tr>\n    <tr>\n      <th>1</th>\n      <td>5a0546857ecc773753327266</td>\n      <td>5d10a1669c50c70008fe8977</td>\n      <td>1561368774057</td>\n      <td>5a0546857ecc773753327266_5d10a1669c50c70008fe8...</td>\n      <td>2.0</td>\n      <td>80.273398</td>\n      <td>28.986984</td>\n      <td>F3</td>\n      <td>False</td>\n      <td>(80.27339756660524, 28.986984322265503)</td>\n      <td>(78.469894, 30.721445000000003)</td>\n      <td>78.469894</td>\n      <td>30.721445</td>\n    </tr>\n    <tr>\n      <th>2</th>\n      <td>5a0546857ecc773753327266</td>\n      <td>5d10a1669c50c70008fe8977</td>\n      <td>1561368793535</td>\n      <td>5a0546857ecc773753327266_5d10a1669c50c70008fe8...</td>\n      <td>2.0</td>\n      <td>81.216332</td>\n      <td>15.582728</td>\n      <td>F3</td>\n      <td>False</td>\n      <td>(81.21633224678604, 15.582728498643416)</td>\n      <td>(81.30773, 15.669319)</td>\n      <td>81.307730</td>\n      <td>15.669319</td>\n    </tr>\n    <tr>\n      <th>3</th>\n      <td>5a0546857ecc773753327266</td>\n      <td>5d10a1669c50c70008fe8977</td>\n      <td>1561368798851</td>\n      <td>5a0546857ecc773753327266_5d10a1669c50c70008fe8...</td>\n      <td>2.0</td>\n      <td>82.636609</td>\n      <td>12.983947</td>\n      <td>F3</td>\n      <td>False</td>\n      <td>(82.63660881850853, 12.983947243402586)</td>\n      <td>(81.30773, 15.669319)</td>\n      <td>81.307730</td>\n      <td>15.669319</td>\n    </tr>\n    <tr>\n      <th>4</th>\n      <td>5a0546857ecc773753327266</td>\n      <td>5d10a1669c50c70008fe8977</td>\n      <td>1561368814782</td>\n      <td>5a0546857ecc773753327266_5d10a1669c50c70008fe8...</td>\n      <td>2.0</td>\n      <td>91.452834</td>\n      <td>18.666075</td>\n      <td>F3</td>\n      <td>False</td>\n      <td>(91.45283365463044, 18.666074844247348)</td>\n      <td>(90.43365, 18.036816)</td>\n      <td>90.433650</td>\n      <td>18.036816</td>\n    </tr>\n    <tr>\n      <th>...</th>\n      <td>...</td>\n      <td>...</td>\n      <td>...</td>\n      <td>...</td>\n      <td>...</td>\n      <td>...</td>\n      <td>...</td>\n      <td>...</td>\n      <td>...</td>\n      <td>...</td>\n      <td>...</td>\n      <td>...</td>\n      <td>...</td>\n    </tr>\n    <tr>\n      <th>71177</th>\n      <td>5dc8cea7659e181adb076a3f</td>\n      <td>5dd7c1189191710006b568d0</td>\n      <td>1574420722415</td>\n      <td>5dc8cea7659e181adb076a3f_5dd7c1189191710006b56...</td>\n      <td>-1.0</td>\n      <td>198.991016</td>\n      <td>107.735382</td>\n      <td>B1</td>\n      <td>False</td>\n      <td>(198.9910163871579, 107.7353818586984)</td>\n      <td>(200.75478, 106.75563)</td>\n      <td>200.754780</td>\n      <td>106.755630</td>\n    </tr>\n    <tr>\n      <th>71178</th>\n      <td>5dc8cea7659e181adb076a3f</td>\n      <td>5dd7c119c5b77e0006b16b99</td>\n      <td>1574420726383</td>\n      <td>5dc8cea7659e181adb076a3f_5dd7c119c5b77e0006b16...</td>\n      <td>-1.0</td>\n      <td>210.992907</td>\n      <td>103.264496</td>\n      <td>B1</td>\n      <td>False</td>\n      <td>(210.9929073854088, 103.26449550849071)</td>\n      <td>(213.61757000000003, 103.37845)</td>\n      <td>213.617570</td>\n      <td>103.378450</td>\n    </tr>\n    <tr>\n      <th>71179</th>\n      <td>5dc8cea7659e181adb076a3f</td>\n      <td>5dd7c119c5b77e0006b16b99</td>\n      <td>1574420736142</td>\n      <td>5dc8cea7659e181adb076a3f_5dd7c119c5b77e0006b16...</td>\n      <td>-1.0</td>\n      <td>201.773939</td>\n      <td>105.800882</td>\n      <td>B1</td>\n      <td>False</td>\n      <td>(201.7739390001386, 105.80088184359103)</td>\n      <td>(200.75478, 106.75563)</td>\n      <td>200.754780</td>\n      <td>106.755630</td>\n    </tr>\n    <tr>\n      <th>71180</th>\n      <td>5dc8cea7659e181adb076a3f</td>\n      <td>5dd7c119c5b77e0006b16b99</td>\n      <td>1574420742502</td>\n      <td>5dc8cea7659e181adb076a3f_5dd7c119c5b77e0006b16...</td>\n      <td>-1.0</td>\n      <td>201.176561</td>\n      <td>103.515950</td>\n      <td>B1</td>\n      <td>False</td>\n      <td>(201.1765614433713, 103.51595040343558)</td>\n      <td>(200.75478, 106.75563)</td>\n      <td>200.754780</td>\n      <td>106.755630</td>\n    </tr>\n    <tr>\n      <th>71181</th>\n      <td>5dc8cea7659e181adb076a3f</td>\n      <td>5dd7c119c5b77e0006b16b99</td>\n      <td>1574420753754</td>\n      <td>5dc8cea7659e181adb076a3f_5dd7c119c5b77e0006b16...</td>\n      <td>-1.0</td>\n      <td>210.134168</td>\n      <td>105.845133</td>\n      <td>B1</td>\n      <td>False</td>\n      <td>(210.13416785467493, 105.84513251059597)</td>\n      <td>(208.15857, 104.7078)</td>\n      <td>208.158570</td>\n      <td>104.707800</td>\n    </tr>\n  </tbody>\n</table>\n<p>71182 rows × 13 columns</p>\n</div>"
     },
     "metadata": {},
     "execution_count": 89
    }
   ],
   "source": [
    "train_waypoints = pd.read_csv('../../input/indoor-location-train-waypoints/train_waypoints.csv')\n",
    "# 線形補完しているwaypointをtrain_waypoints（grid）とする。gridを増やすのが狙い。\n",
    "# train_waypoints = oofs_df[['oof_x', 'oof_y', 'timestamp', 'site_id_str', 'floor', 'floor_str', 'path']]\n",
    "# train_waypoints = train_waypoints.rename(columns={'oof_x':'x', 'oof_y':\"y\", 'site_id_str':\"site\", 'floor_str':'floorNo'})\n",
    "\n",
    "mean_snap_df = mean_oofs_df[['site_path_timestamp','floor','oof_min_x','oof_min_y']].copy()\n",
    "mean_snap_df = mean_snap_df.rename(columns={'oof_min_x':'x', 'oof_min_y':'y'})\n",
    "mean_snap_df = sub_process(mean_snap_df, train_waypoints)\n",
    "mean_snap_df = add_xy(mean_snap_df)\n",
    "train_waypoints = add_xy(train_waypoints)\n",
    "\n",
    "ds = []\n",
    "for (site, myfloor), d in tqdm(mean_snap_df.groupby(['site','floor'])):\n",
    "    true_floor_locs = train_waypoints.loc[(train_waypoints['floor'] == myfloor) &\n",
    "                                          (train_waypoints['site'] == site)] \\\n",
    "        .reset_index(drop=True)\n",
    "    if len(true_floor_locs) == 0:\n",
    "        print(f'Skipping {site} {myfloor}')\n",
    "        continue\n",
    "    d['matched_point'] = [closest_point(x, list(true_floor_locs['xy'])) for x in d['xy']]\n",
    "    d['oof_min_snap_x'] = d['matched_point'].apply(lambda x: x[0])\n",
    "    d['oof_min_snap_y'] = d['matched_point'].apply(lambda x: x[1])\n",
    "    ds.append(d)\n",
    "\n",
    "# 上書き\n",
    "mean_snap_df = pd.concat(ds).sort_index()\n",
    "mean_snap_df"
   ]
  },
  {
   "cell_type": "code",
   "execution_count": 90,
   "metadata": {},
   "outputs": [
    {
     "output_type": "execute_result",
     "data": {
      "text/plain": [
       "                                     site_path_timestamp  rssi_0     rssi_1  \\\n",
       "0      5a0546857ecc773753327266_5d10a1669c50c70008fe8...   39.50  46.500000   \n",
       "1      5a0546857ecc773753327266_5d10a1669c50c70008fe8...   43.40  43.800000   \n",
       "2      5a0546857ecc773753327266_5d10a1669c50c70008fe8...   38.50  41.000000   \n",
       "3      5a0546857ecc773753327266_5d10a1669c50c70008fe8...   34.75  36.750000   \n",
       "4      5a0546857ecc773753327266_5d10a1669c50c70008fe8...   45.75  47.000000   \n",
       "...                                                  ...     ...        ...   \n",
       "71177  5dc8cea7659e181adb076a3f_5dd7c1189191710006b56...   65.00  72.000000   \n",
       "71178  5dc8cea7659e181adb076a3f_5dd7c119c5b77e0006b16...   63.00  65.500000   \n",
       "71179  5dc8cea7659e181adb076a3f_5dd7c119c5b77e0006b16...   61.75  63.250000   \n",
       "71180  5dc8cea7659e181adb076a3f_5dd7c119c5b77e0006b16...   61.40  64.000000   \n",
       "71181  5dc8cea7659e181adb076a3f_5dd7c119c5b77e0006b16...   63.00  65.666667   \n",
       "\n",
       "          rssi_2  rssi_3     rssi_4  rssi_5     rssi_6     rssi_7     rssi_8  \\\n",
       "0      47.000000    47.5  48.500000   49.00  49.000000  50.000000  50.500000   \n",
       "1      43.800000    44.2  44.800000   45.60  46.800000  47.200000  47.600000   \n",
       "2      41.000000    42.0  42.250000   42.25  42.500000  43.000000  44.000000   \n",
       "3      37.000000    38.0  38.750000   39.25  39.750000  40.000000  40.000000   \n",
       "4      48.000000    49.0  49.250000   50.25  50.750000  51.000000  51.750000   \n",
       "...          ...     ...        ...     ...        ...        ...        ...   \n",
       "71177  74.000000    75.5  79.000000   79.50  80.500000  81.500000  82.000000   \n",
       "71178  67.500000    70.5  75.500000   78.50  79.000000  80.500000  81.000000   \n",
       "71179  64.750000    70.0  75.000000   75.25  76.750000  78.000000  78.250000   \n",
       "71180  66.000000    70.0  71.000000   71.40  73.600000  75.000000  75.800000   \n",
       "71181  67.333333    75.0  77.333333   79.00  79.333333  79.666667  81.666667   \n",
       "\n",
       "       ...       oof_x       oof_y  oof_floor               site_id_str  \\\n",
       "0      ...   80.779366   34.593254   0.205734  5a0546857ecc773753327266   \n",
       "1      ...   85.071716   22.981852   0.204076  5a0546857ecc773753327266   \n",
       "2      ...   83.649147   19.586538   0.200835  5a0546857ecc773753327266   \n",
       "3      ...   84.099625   20.370808   0.201358  5a0546857ecc773753327266   \n",
       "4      ...   84.932693   21.327747   0.202558  5a0546857ecc773753327266   \n",
       "...    ...         ...         ...        ...                       ...   \n",
       "71177  ...  197.866638  104.800507   0.311593  5dc8cea7659e181adb076a3f   \n",
       "71178  ...  206.780365  104.854927   0.000000  5dc8cea7659e181adb076a3f   \n",
       "71179  ...  205.852310  104.196205   0.000000  5dc8cea7659e181adb076a3f   \n",
       "71180  ...  204.063019  103.621780   0.000000  5dc8cea7659e181adb076a3f   \n",
       "71181  ...  207.381882  105.753548   0.000000  5dc8cea7659e181adb076a3f   \n",
       "\n",
       "                           path  floor_str   oof_min_x   oof_min_y  \\\n",
       "0      5d10a1669c50c70008fe8977         F3   79.917322   38.226021   \n",
       "1      5d10a1669c50c70008fe8977         F3   80.273398   28.986984   \n",
       "2      5d10a1669c50c70008fe8977         F3   81.216332   15.582728   \n",
       "3      5d10a1669c50c70008fe8977         F3   82.636609   12.983947   \n",
       "4      5d10a1669c50c70008fe8977         F3   91.452834   18.666075   \n",
       "...                         ...        ...         ...         ...   \n",
       "71177  5dd7c1189191710006b568d0         B1  198.991016  107.735382   \n",
       "71178  5dd7c119c5b77e0006b16b99         B1  210.992907  103.264496   \n",
       "71179  5dd7c119c5b77e0006b16b99         B1  201.773939  105.800882   \n",
       "71180  5dd7c119c5b77e0006b16b99         B1  201.176561  103.515950   \n",
       "71181  5dd7c119c5b77e0006b16b99         B1  210.134168  105.845133   \n",
       "\n",
       "       oof_min_snap_x  oof_min_snap_y  \n",
       "0           80.681400       39.265667  \n",
       "1           78.469894       30.721445  \n",
       "2           81.307730       15.669319  \n",
       "3           81.307730       15.669319  \n",
       "4           90.433650       18.036816  \n",
       "...               ...             ...  \n",
       "71177      200.754780      106.755630  \n",
       "71178      213.617570      103.378450  \n",
       "71179      200.754780      106.755630  \n",
       "71180      200.754780      106.755630  \n",
       "71181      208.158570      104.707800  \n",
       "\n",
       "[71182 rows x 179 columns]"
      ],
      "text/html": "<div>\n<style scoped>\n    .dataframe tbody tr th:only-of-type {\n        vertical-align: middle;\n    }\n\n    .dataframe tbody tr th {\n        vertical-align: top;\n    }\n\n    .dataframe thead th {\n        text-align: right;\n    }\n</style>\n<table border=\"1\" class=\"dataframe\">\n  <thead>\n    <tr style=\"text-align: right;\">\n      <th></th>\n      <th>site_path_timestamp</th>\n      <th>rssi_0</th>\n      <th>rssi_1</th>\n      <th>rssi_2</th>\n      <th>rssi_3</th>\n      <th>rssi_4</th>\n      <th>rssi_5</th>\n      <th>rssi_6</th>\n      <th>rssi_7</th>\n      <th>rssi_8</th>\n      <th>...</th>\n      <th>oof_x</th>\n      <th>oof_y</th>\n      <th>oof_floor</th>\n      <th>site_id_str</th>\n      <th>path</th>\n      <th>floor_str</th>\n      <th>oof_min_x</th>\n      <th>oof_min_y</th>\n      <th>oof_min_snap_x</th>\n      <th>oof_min_snap_y</th>\n    </tr>\n  </thead>\n  <tbody>\n    <tr>\n      <th>0</th>\n      <td>5a0546857ecc773753327266_5d10a1669c50c70008fe8...</td>\n      <td>39.50</td>\n      <td>46.500000</td>\n      <td>47.000000</td>\n      <td>47.5</td>\n      <td>48.500000</td>\n      <td>49.00</td>\n      <td>49.000000</td>\n      <td>50.000000</td>\n      <td>50.500000</td>\n      <td>...</td>\n      <td>80.779366</td>\n      <td>34.593254</td>\n      <td>0.205734</td>\n      <td>5a0546857ecc773753327266</td>\n      <td>5d10a1669c50c70008fe8977</td>\n      <td>F3</td>\n      <td>79.917322</td>\n      <td>38.226021</td>\n      <td>80.681400</td>\n      <td>39.265667</td>\n    </tr>\n    <tr>\n      <th>1</th>\n      <td>5a0546857ecc773753327266_5d10a1669c50c70008fe8...</td>\n      <td>43.40</td>\n      <td>43.800000</td>\n      <td>43.800000</td>\n      <td>44.2</td>\n      <td>44.800000</td>\n      <td>45.60</td>\n      <td>46.800000</td>\n      <td>47.200000</td>\n      <td>47.600000</td>\n      <td>...</td>\n      <td>85.071716</td>\n      <td>22.981852</td>\n      <td>0.204076</td>\n      <td>5a0546857ecc773753327266</td>\n      <td>5d10a1669c50c70008fe8977</td>\n      <td>F3</td>\n      <td>80.273398</td>\n      <td>28.986984</td>\n      <td>78.469894</td>\n      <td>30.721445</td>\n    </tr>\n    <tr>\n      <th>2</th>\n      <td>5a0546857ecc773753327266_5d10a1669c50c70008fe8...</td>\n      <td>38.50</td>\n      <td>41.000000</td>\n      <td>41.000000</td>\n      <td>42.0</td>\n      <td>42.250000</td>\n      <td>42.25</td>\n      <td>42.500000</td>\n      <td>43.000000</td>\n      <td>44.000000</td>\n      <td>...</td>\n      <td>83.649147</td>\n      <td>19.586538</td>\n      <td>0.200835</td>\n      <td>5a0546857ecc773753327266</td>\n      <td>5d10a1669c50c70008fe8977</td>\n      <td>F3</td>\n      <td>81.216332</td>\n      <td>15.582728</td>\n      <td>81.307730</td>\n      <td>15.669319</td>\n    </tr>\n    <tr>\n      <th>3</th>\n      <td>5a0546857ecc773753327266_5d10a1669c50c70008fe8...</td>\n      <td>34.75</td>\n      <td>36.750000</td>\n      <td>37.000000</td>\n      <td>38.0</td>\n      <td>38.750000</td>\n      <td>39.25</td>\n      <td>39.750000</td>\n      <td>40.000000</td>\n      <td>40.000000</td>\n      <td>...</td>\n      <td>84.099625</td>\n      <td>20.370808</td>\n      <td>0.201358</td>\n      <td>5a0546857ecc773753327266</td>\n      <td>5d10a1669c50c70008fe8977</td>\n      <td>F3</td>\n      <td>82.636609</td>\n      <td>12.983947</td>\n      <td>81.307730</td>\n      <td>15.669319</td>\n    </tr>\n    <tr>\n      <th>4</th>\n      <td>5a0546857ecc773753327266_5d10a1669c50c70008fe8...</td>\n      <td>45.75</td>\n      <td>47.000000</td>\n      <td>48.000000</td>\n      <td>49.0</td>\n      <td>49.250000</td>\n      <td>50.25</td>\n      <td>50.750000</td>\n      <td>51.000000</td>\n      <td>51.750000</td>\n      <td>...</td>\n      <td>84.932693</td>\n      <td>21.327747</td>\n      <td>0.202558</td>\n      <td>5a0546857ecc773753327266</td>\n      <td>5d10a1669c50c70008fe8977</td>\n      <td>F3</td>\n      <td>91.452834</td>\n      <td>18.666075</td>\n      <td>90.433650</td>\n      <td>18.036816</td>\n    </tr>\n    <tr>\n      <th>...</th>\n      <td>...</td>\n      <td>...</td>\n      <td>...</td>\n      <td>...</td>\n      <td>...</td>\n      <td>...</td>\n      <td>...</td>\n      <td>...</td>\n      <td>...</td>\n      <td>...</td>\n      <td>...</td>\n      <td>...</td>\n      <td>...</td>\n      <td>...</td>\n      <td>...</td>\n      <td>...</td>\n      <td>...</td>\n      <td>...</td>\n      <td>...</td>\n      <td>...</td>\n      <td>...</td>\n    </tr>\n    <tr>\n      <th>71177</th>\n      <td>5dc8cea7659e181adb076a3f_5dd7c1189191710006b56...</td>\n      <td>65.00</td>\n      <td>72.000000</td>\n      <td>74.000000</td>\n      <td>75.5</td>\n      <td>79.000000</td>\n      <td>79.50</td>\n      <td>80.500000</td>\n      <td>81.500000</td>\n      <td>82.000000</td>\n      <td>...</td>\n      <td>197.866638</td>\n      <td>104.800507</td>\n      <td>0.311593</td>\n      <td>5dc8cea7659e181adb076a3f</td>\n      <td>5dd7c1189191710006b568d0</td>\n      <td>B1</td>\n      <td>198.991016</td>\n      <td>107.735382</td>\n      <td>200.754780</td>\n      <td>106.755630</td>\n    </tr>\n    <tr>\n      <th>71178</th>\n      <td>5dc8cea7659e181adb076a3f_5dd7c119c5b77e0006b16...</td>\n      <td>63.00</td>\n      <td>65.500000</td>\n      <td>67.500000</td>\n      <td>70.5</td>\n      <td>75.500000</td>\n      <td>78.50</td>\n      <td>79.000000</td>\n      <td>80.500000</td>\n      <td>81.000000</td>\n      <td>...</td>\n      <td>206.780365</td>\n      <td>104.854927</td>\n      <td>0.000000</td>\n      <td>5dc8cea7659e181adb076a3f</td>\n      <td>5dd7c119c5b77e0006b16b99</td>\n      <td>B1</td>\n      <td>210.992907</td>\n      <td>103.264496</td>\n      <td>213.617570</td>\n      <td>103.378450</td>\n    </tr>\n    <tr>\n      <th>71179</th>\n      <td>5dc8cea7659e181adb076a3f_5dd7c119c5b77e0006b16...</td>\n      <td>61.75</td>\n      <td>63.250000</td>\n      <td>64.750000</td>\n      <td>70.0</td>\n      <td>75.000000</td>\n      <td>75.25</td>\n      <td>76.750000</td>\n      <td>78.000000</td>\n      <td>78.250000</td>\n      <td>...</td>\n      <td>205.852310</td>\n      <td>104.196205</td>\n      <td>0.000000</td>\n      <td>5dc8cea7659e181adb076a3f</td>\n      <td>5dd7c119c5b77e0006b16b99</td>\n      <td>B1</td>\n      <td>201.773939</td>\n      <td>105.800882</td>\n      <td>200.754780</td>\n      <td>106.755630</td>\n    </tr>\n    <tr>\n      <th>71180</th>\n      <td>5dc8cea7659e181adb076a3f_5dd7c119c5b77e0006b16...</td>\n      <td>61.40</td>\n      <td>64.000000</td>\n      <td>66.000000</td>\n      <td>70.0</td>\n      <td>71.000000</td>\n      <td>71.40</td>\n      <td>73.600000</td>\n      <td>75.000000</td>\n      <td>75.800000</td>\n      <td>...</td>\n      <td>204.063019</td>\n      <td>103.621780</td>\n      <td>0.000000</td>\n      <td>5dc8cea7659e181adb076a3f</td>\n      <td>5dd7c119c5b77e0006b16b99</td>\n      <td>B1</td>\n      <td>201.176561</td>\n      <td>103.515950</td>\n      <td>200.754780</td>\n      <td>106.755630</td>\n    </tr>\n    <tr>\n      <th>71181</th>\n      <td>5dc8cea7659e181adb076a3f_5dd7c119c5b77e0006b16...</td>\n      <td>63.00</td>\n      <td>65.666667</td>\n      <td>67.333333</td>\n      <td>75.0</td>\n      <td>77.333333</td>\n      <td>79.00</td>\n      <td>79.333333</td>\n      <td>79.666667</td>\n      <td>81.666667</td>\n      <td>...</td>\n      <td>207.381882</td>\n      <td>105.753548</td>\n      <td>0.000000</td>\n      <td>5dc8cea7659e181adb076a3f</td>\n      <td>5dd7c119c5b77e0006b16b99</td>\n      <td>B1</td>\n      <td>210.134168</td>\n      <td>105.845133</td>\n      <td>208.158570</td>\n      <td>104.707800</td>\n    </tr>\n  </tbody>\n</table>\n<p>71182 rows × 179 columns</p>\n</div>"
     },
     "metadata": {},
     "execution_count": 90
    }
   ],
   "source": [
    "mean_oofs_df['oof_min_snap_x'] = mean_snap_df['oof_min_snap_x']\n",
    "mean_oofs_df['oof_min_snap_y'] = mean_snap_df['oof_min_snap_y']\n",
    "mean_oofs_df"
   ]
  },
  {
   "cell_type": "code",
   "execution_count": 91,
   "metadata": {},
   "outputs": [
    {
     "output_type": "stream",
     "name": "stdout",
     "text": [
      "CV:4.799196801709294\n"
     ]
    }
   ],
   "source": [
    "# waypointの平均のx,yでの評価\n",
    "oof_score = mean_position_error(\n",
    "    mean_oofs_df['oof_min_snap_x'], mean_oofs_df['oof_min_snap_y'], 0, \n",
    "    mean_oofs_df['target_x'], mean_oofs_df['target_y'], 0\n",
    "    )\n",
    "wandb_config['CV_cost_snap(mean)'] = oof_score\n",
    "print(f\"CV:{oof_score}\")"
   ]
  },
  {
   "cell_type": "code",
   "execution_count": 92,
   "metadata": {},
   "outputs": [],
   "source": [
    "# x_pred = oofs_df[\"oof_min_snap_x\"]\n",
    "# y_pred = oofs_df[\"oof_min_snap_y\"]\n",
    "# f_pred = oofs_df[\"floor\"]  # 正解を与える\n",
    "# x_true = oofs_df[\"wifi_x\"]\n",
    "# y_true = oofs_df[\"wifi_y\"]\n",
    "# f_true = oofs_df[\"floor\"]\n",
    "# site_arr = oofs_df[\"site_id_str\"]\n",
    "# df_result_site3 = calc_metrics_site(x_pred, y_pred, f_pred, x_true, y_true, f_true, site_arr)\n",
    "# df_result_site3.style.bar(subset=['n_sample', 'score'], color=['teal'])"
   ]
  },
  {
   "cell_type": "code",
   "execution_count": 93,
   "metadata": {},
   "outputs": [],
   "source": [
    "# site_eval_report(df_result_site3)"
   ]
  },
  {
   "cell_type": "code",
   "execution_count": 94,
   "metadata": {},
   "outputs": [],
   "source": [
    "# train_waypoints = pd.read_csv('../../input/indoor-location-train-waypoints/train_waypoints.csv')\n",
    "\n",
    "new_sub = sub_process(new_sub, train_waypoints)\n",
    "new_sub = add_xy(new_sub)\n",
    "train_waypoints = add_xy(train_waypoints)\n",
    "\n",
    "ds = []\n",
    "for (site, myfloor), d in new_sub.groupby(['site','floor']):\n",
    "    true_floor_locs = train_waypoints.loc[(train_waypoints['floor'] == myfloor) &\n",
    "                                          (train_waypoints['site'] == site)] \\\n",
    "        .reset_index(drop=True)\n",
    "    if len(true_floor_locs) == 0:\n",
    "        print(f'Skipping {site} {myfloor}')\n",
    "        continue\n",
    "    d['matched_point'] = [closest_point(x, list(true_floor_locs['xy'])) for x in d['xy']]\n",
    "    d['x_'] = d['matched_point'].apply(lambda x: x[0])\n",
    "    d['y_'] = d['matched_point'].apply(lambda x: x[1])\n",
    "    ds.append(d)\n",
    "\n",
    "new_sub2 = pd.concat(ds)"
   ]
  },
  {
   "cell_type": "code",
   "execution_count": 95,
   "metadata": {},
   "outputs": [
    {
     "output_type": "execute_result",
     "data": {
      "text/plain": [
       "                                     site_path_timestamp  floor           x  \\\n",
       "0      5a0546857ecc773753327266_046cfa46be49fc1083481...      0   93.728470   \n",
       "1      5a0546857ecc773753327266_046cfa46be49fc1083481...      0   79.662285   \n",
       "2      5a0546857ecc773753327266_046cfa46be49fc1083481...      0   80.718400   \n",
       "3      5a0546857ecc773753327266_046cfa46be49fc1083481...      0   81.657740   \n",
       "4      5a0546857ecc773753327266_046cfa46be49fc1083481...      0   81.657740   \n",
       "...                                                  ...    ...         ...   \n",
       "10128  5dc8cea7659e181adb076a3f_fd64de8c4a2fc5ebb0e9f...      5  205.596040   \n",
       "10129  5dc8cea7659e181adb076a3f_fd64de8c4a2fc5ebb0e9f...      5  206.627910   \n",
       "10130  5dc8cea7659e181adb076a3f_fd64de8c4a2fc5ebb0e9f...      5  205.511300   \n",
       "10131  5dc8cea7659e181adb076a3f_fd64de8c4a2fc5ebb0e9f...      5  195.825880   \n",
       "10132  5dc8cea7659e181adb076a3f_fd64de8c4a2fc5ebb0e9f...      5  190.580600   \n",
       "\n",
       "                y  \n",
       "0       97.948860  \n",
       "1      102.766754  \n",
       "2      107.197110  \n",
       "3      110.509090  \n",
       "4      110.509090  \n",
       "...           ...  \n",
       "10128   98.605774  \n",
       "10129  102.635210  \n",
       "10130  107.841324  \n",
       "10131  109.711815  \n",
       "10132  115.806564  \n",
       "\n",
       "[10133 rows x 4 columns]"
      ],
      "text/html": "<div>\n<style scoped>\n    .dataframe tbody tr th:only-of-type {\n        vertical-align: middle;\n    }\n\n    .dataframe tbody tr th {\n        vertical-align: top;\n    }\n\n    .dataframe thead th {\n        text-align: right;\n    }\n</style>\n<table border=\"1\" class=\"dataframe\">\n  <thead>\n    <tr style=\"text-align: right;\">\n      <th></th>\n      <th>site_path_timestamp</th>\n      <th>floor</th>\n      <th>x</th>\n      <th>y</th>\n    </tr>\n  </thead>\n  <tbody>\n    <tr>\n      <th>0</th>\n      <td>5a0546857ecc773753327266_046cfa46be49fc1083481...</td>\n      <td>0</td>\n      <td>93.728470</td>\n      <td>97.948860</td>\n    </tr>\n    <tr>\n      <th>1</th>\n      <td>5a0546857ecc773753327266_046cfa46be49fc1083481...</td>\n      <td>0</td>\n      <td>79.662285</td>\n      <td>102.766754</td>\n    </tr>\n    <tr>\n      <th>2</th>\n      <td>5a0546857ecc773753327266_046cfa46be49fc1083481...</td>\n      <td>0</td>\n      <td>80.718400</td>\n      <td>107.197110</td>\n    </tr>\n    <tr>\n      <th>3</th>\n      <td>5a0546857ecc773753327266_046cfa46be49fc1083481...</td>\n      <td>0</td>\n      <td>81.657740</td>\n      <td>110.509090</td>\n    </tr>\n    <tr>\n      <th>4</th>\n      <td>5a0546857ecc773753327266_046cfa46be49fc1083481...</td>\n      <td>0</td>\n      <td>81.657740</td>\n      <td>110.509090</td>\n    </tr>\n    <tr>\n      <th>...</th>\n      <td>...</td>\n      <td>...</td>\n      <td>...</td>\n      <td>...</td>\n    </tr>\n    <tr>\n      <th>10128</th>\n      <td>5dc8cea7659e181adb076a3f_fd64de8c4a2fc5ebb0e9f...</td>\n      <td>5</td>\n      <td>205.596040</td>\n      <td>98.605774</td>\n    </tr>\n    <tr>\n      <th>10129</th>\n      <td>5dc8cea7659e181adb076a3f_fd64de8c4a2fc5ebb0e9f...</td>\n      <td>5</td>\n      <td>206.627910</td>\n      <td>102.635210</td>\n    </tr>\n    <tr>\n      <th>10130</th>\n      <td>5dc8cea7659e181adb076a3f_fd64de8c4a2fc5ebb0e9f...</td>\n      <td>5</td>\n      <td>205.511300</td>\n      <td>107.841324</td>\n    </tr>\n    <tr>\n      <th>10131</th>\n      <td>5dc8cea7659e181adb076a3f_fd64de8c4a2fc5ebb0e9f...</td>\n      <td>5</td>\n      <td>195.825880</td>\n      <td>109.711815</td>\n    </tr>\n    <tr>\n      <th>10132</th>\n      <td>5dc8cea7659e181adb076a3f_fd64de8c4a2fc5ebb0e9f...</td>\n      <td>5</td>\n      <td>190.580600</td>\n      <td>115.806564</td>\n    </tr>\n  </tbody>\n</table>\n<p>10133 rows × 4 columns</p>\n</div>"
     },
     "metadata": {},
     "execution_count": 95
    }
   ],
   "source": [
    "new_sub2 = new_sub2[['site_path_timestamp','floor','x_','y_']].sort_index()\n",
    "new_sub2 = new_sub2.rename(columns={'x_':'x', 'y_':'y'})\n",
    "new_sub2"
   ]
  },
  {
   "cell_type": "code",
   "execution_count": 96,
   "metadata": {},
   "outputs": [],
   "source": [
    "new_sub2.to_csv(RUN_NAME + '_cost_snap_sub.csv', index=False)"
   ]
  },
  {
   "cell_type": "code",
   "execution_count": 97,
   "metadata": {},
   "outputs": [],
   "source": [
    "# import matplotlib.pyplot as plt\n",
    "# df_result_site1['score'].plot(label='oof')\n",
    "# df_result_site2['score'].plot(label='cost')\n",
    "# df_result_site3['score'].plot(label='cost+snap')\n",
    "# plt.legend()\n",
    "# plt.grid()\n",
    "# plt.savefig('site_result.png')"
   ]
  },
  {
   "cell_type": "code",
   "execution_count": 98,
   "metadata": {},
   "outputs": [
    {
     "output_type": "display_data",
     "data": {
      "text/plain": "<IPython.core.display.HTML object>",
      "text/html": "<br/>Waiting for W&B process to finish, PID 341005<br/>Program ended successfully."
     },
     "metadata": {}
    },
    {
     "output_type": "display_data",
     "data": {
      "text/plain": "VBox(children=(Label(value=' 0.00MB of 0.00MB uploaded (0.00MB deduped)\\r'), FloatProgress(value=1.0, max=1.0)…",
      "application/vnd.jupyter.widget-view+json": {
       "version_major": 2,
       "version_minor": 0,
       "model_id": "5b27bb7b12794b18b7f883dbfcc2090c"
      }
     },
     "metadata": {}
    },
    {
     "output_type": "display_data",
     "data": {
      "text/plain": "<IPython.core.display.HTML object>",
      "text/html": "Find user logs for this run at: <code>/home/user/work/exp/exp038/wandb/run-20210428_140235-2ratvwo7/logs/debug.log</code>"
     },
     "metadata": {}
    },
    {
     "output_type": "display_data",
     "data": {
      "text/plain": "<IPython.core.display.HTML object>",
      "text/html": "Find internal logs for this run at: <code>/home/user/work/exp/exp038/wandb/run-20210428_140235-2ratvwo7/logs/debug-internal.log</code>"
     },
     "metadata": {}
    },
    {
     "output_type": "display_data",
     "data": {
      "text/plain": "<IPython.core.display.HTML object>",
      "text/html": "Synced 5 W&B file(s), 0 media file(s), 0 artifact file(s) and 0 other file(s)"
     },
     "metadata": {}
    },
    {
     "output_type": "display_data",
     "data": {
      "text/plain": "<IPython.core.display.HTML object>",
      "text/html": "\n                    <br/>Synced <strong style=\"color:#cdcd00\">glad-field-613</strong>: <a href=\"https://wandb.ai/kuto5046/indoor/runs/2ratvwo7\" target=\"_blank\">https://wandb.ai/kuto5046/indoor/runs/2ratvwo7</a><br/>\n                "
     },
     "metadata": {}
    }
   ],
   "source": [
    "wandb.finish()"
   ]
  },
  {
   "cell_type": "code",
   "execution_count": null,
   "metadata": {},
   "outputs": [],
   "source": []
  }
 ],
 "metadata": {
  "kernelspec": {
   "display_name": "Python 3",
   "language": "python",
   "name": "python3"
  },
  "language_info": {
   "codemirror_mode": {
    "name": "ipython",
    "version": 3
   },
   "file_extension": ".py",
   "mimetype": "text/x-python",
   "name": "python",
   "nbconvert_exporter": "python",
   "pygments_lexer": "ipython3",
   "version": "3.8.5"
  }
 },
 "nbformat": 4,
 "nbformat_minor": 4
}