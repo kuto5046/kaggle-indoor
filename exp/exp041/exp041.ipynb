{
 "cells": [
  {
   "cell_type": "code",
   "execution_count": 1,
   "metadata": {},
   "outputs": [],
   "source": [
    "import os\n",
    "import sys\n",
    "import glob\n",
    "import yaml\n",
    "import pickle\n",
    "import random\n",
    "\n",
    "import numpy as np\n",
    "import pandas as pd\n",
    "import scipy.stats as stats\n",
    "from pathlib import Path\n",
    "import matplotlib.pyplot as plt\n",
    "from sklearn import model_selection\n",
    "from sklearn.preprocessing import StandardScaler, LabelEncoder\n",
    "\n",
    "import wandb\n",
    "import torch\n",
    "from torch import nn\n",
    "import torch.nn.functional as F\n",
    "from torch.utils.data import Dataset, DataLoader\n",
    "import torch.optim as optim\n",
    "\n",
    "import pytorch_lightning as pl\n",
    "from pytorch_lightning.loggers import WandbLogger\n",
    "from pytorch_lightning.callbacks import ModelCheckpoint\n",
    "from pytorch_lightning.callbacks import EarlyStopping\n",
    "from pytorch_lightning.utilities.seed import seed_everything"
   ]
  },
  {
   "cell_type": "markdown",
   "metadata": {},
   "source": [
    "## config"
   ]
  },
  {
   "cell_type": "code",
   "execution_count": 2,
   "metadata": {},
   "outputs": [
    {
     "output_type": "stream",
     "name": "stderr",
     "text": [
      "Global seed set to 1996\n"
     ]
    },
    {
     "output_type": "execute_result",
     "data": {
      "text/plain": [
       "1996"
      ]
     },
     "metadata": {},
     "execution_count": 2
    }
   ],
   "source": [
    "# config\n",
    "with open('config.yaml') as f:\n",
    "    config = yaml.safe_load(f)\n",
    "\n",
    "# globals variable\n",
    "SEED = config['globals']['seed']\n",
    "MAX_EPOCHS = config['globals']['max_epochs']\n",
    "N_SPLITS = config['globals']['n_splits']\n",
    "USE_FOLDS = config['globals']['use_folds']\n",
    "DEBUG = config['globals']['debug']\n",
    "EXP_MESSAGE = config['globals']['exp_message']\n",
    "NOTES = config['globals']['notes']\n",
    "MODEL_SAVE = config['globals']['model_save']\n",
    "ONLY_PRED = config['globals']['only_pred']\n",
    "PRETRAINED = config['globals']['pretrained']\n",
    "PRETRAINED_PATH = config['globals']['pretrained_path']\n",
    "EXP_NAME = str(Path().resolve()).split('/')[-1]\n",
    "\n",
    "# seed\n",
    "seed_everything(SEED)"
   ]
  },
  {
   "cell_type": "code",
   "execution_count": 3,
   "metadata": {},
   "outputs": [
    {
     "output_type": "execute_result",
     "data": {
      "text/plain": [
       "'exp041'"
      ]
     },
     "metadata": {},
     "execution_count": 3
    }
   ],
   "source": [
    "EXP_NAME"
   ]
  },
  {
   "cell_type": "code",
   "execution_count": 4,
   "metadata": {},
   "outputs": [
    {
     "output_type": "stream",
     "name": "stdout",
     "text": [
      "\u001b[34m\u001b[1mwandb\u001b[0m: Appending key for api.wandb.ai to your netrc file: /home/user/.netrc\n"
     ]
    }
   ],
   "source": [
    "!wandb login 1bb2d0449c11d8b987e25c38b9d8dda176310fb6"
   ]
  },
  {
   "cell_type": "markdown",
   "metadata": {},
   "source": [
    "## read data"
   ]
  },
  {
   "cell_type": "code",
   "execution_count": 5,
   "metadata": {},
   "outputs": [],
   "source": [
    "# waypointを補正したdataset\n",
    "root_dir = Path('../../input/')\n",
    "with open(root_dir/'2kaido_wifi_dataset_v3/train_10000_7.pkl', 'rb') as f:\n",
    "  train_df = pickle.load(f)\n",
    "\n",
    "with open(root_dir/'2kaido_wifi_dataset_v3/test_10000_7.pkl', 'rb') as f:\n",
    "  test_df = pickle.load(f)\n",
    "\n",
    "sub_df = pd.read_csv(root_dir/'indoor-location-navigation/sample_submission.csv', index_col=0)"
   ]
  },
  {
   "cell_type": "code",
   "execution_count": 6,
   "metadata": {},
   "outputs": [],
   "source": [
    "train_df = train_df.astype({'timestamp':int,'x': np.float32, 'y': np.float32, 'floor':np.float32, 'ix':np.float32, 'iy':np.float32})\n",
    "test_df = test_df.astype({'timestamp':int})"
   ]
  },
  {
   "cell_type": "code",
   "execution_count": 7,
   "metadata": {},
   "outputs": [],
   "source": [
    "train_df = train_df.reset_index().rename(columns={'index':'id'})"
   ]
  },
  {
   "cell_type": "code",
   "execution_count": 8,
   "metadata": {},
   "outputs": [
    {
     "output_type": "execute_result",
     "data": {
      "text/plain": [
       "<AxesSubplot:>"
      ]
     },
     "metadata": {},
     "execution_count": 8
    },
    {
     "output_type": "display_data",
     "data": {
      "text/plain": "<Figure size 432x288 with 1 Axes>",
      "image/svg+xml": "<?xml version=\"1.0\" encoding=\"utf-8\" standalone=\"no\"?>\n<!DOCTYPE svg PUBLIC \"-//W3C//DTD SVG 1.1//EN\"\n  \"http://www.w3.org/Graphics/SVG/1.1/DTD/svg11.dtd\">\n<!-- Created with matplotlib (https://matplotlib.org/) -->\n<svg height=\"248.518125pt\" version=\"1.1\" viewBox=\"0 0 390.415256 248.518125\" width=\"390.415256pt\" xmlns=\"http://www.w3.org/2000/svg\" xmlns:xlink=\"http://www.w3.org/1999/xlink\">\n <metadata>\n  <rdf:RDF xmlns:cc=\"http://creativecommons.org/ns#\" xmlns:dc=\"http://purl.org/dc/elements/1.1/\" xmlns:rdf=\"http://www.w3.org/1999/02/22-rdf-syntax-ns#\">\n   <cc:Work>\n    <dc:type rdf:resource=\"http://purl.org/dc/dcmitype/StillImage\"/>\n    <dc:date>2021-04-29T02:20:06.061090</dc:date>\n    <dc:format>image/svg+xml</dc:format>\n    <dc:creator>\n     <cc:Agent>\n      <dc:title>Matplotlib v3.3.3, https://matplotlib.org/</dc:title>\n     </cc:Agent>\n    </dc:creator>\n   </cc:Work>\n  </rdf:RDF>\n </metadata>\n <defs>\n  <style type=\"text/css\">*{stroke-linecap:butt;stroke-linejoin:round;}</style>\n </defs>\n <g id=\"figure_1\">\n  <g id=\"patch_1\">\n   <path d=\"M 0 248.518125 \nL 390.415256 248.518125 \nL 390.415256 0 \nL 0 0 \nz\n\" style=\"fill:none;\"/>\n  </g>\n  <g id=\"axes_1\">\n   <g id=\"patch_2\">\n    <path d=\"M 46.0125 224.64 \nL 380.8125 224.64 \nL 380.8125 7.2 \nL 46.0125 7.2 \nz\n\" style=\"fill:#ffffff;\"/>\n   </g>\n   <g id=\"patch_3\">\n    <path clip-path=\"url(#p02760b70ab)\" d=\"M 61.230682 224.64 \nL 76.448864 224.64 \nL 76.448864 224.628664 \nL 61.230682 224.628664 \nz\n\" style=\"fill:#1f77b4;\"/>\n   </g>\n   <g id=\"patch_4\">\n    <path clip-path=\"url(#p02760b70ab)\" d=\"M 76.448864 224.64 \nL 91.667045 224.64 \nL 91.667045 224.608826 \nL 76.448864 224.608826 \nz\n\" style=\"fill:#1f77b4;\"/>\n   </g>\n   <g id=\"patch_5\">\n    <path clip-path=\"url(#p02760b70ab)\" d=\"M 91.667045 224.64 \nL 106.885227 224.64 \nL 106.885227 224.529473 \nL 91.667045 224.529473 \nz\n\" style=\"fill:#1f77b4;\"/>\n   </g>\n   <g id=\"patch_6\">\n    <path clip-path=\"url(#p02760b70ab)\" d=\"M 106.885227 224.64 \nL 122.103409 224.64 \nL 122.103409 224.501132 \nL 106.885227 224.501132 \nz\n\" style=\"fill:#1f77b4;\"/>\n   </g>\n   <g id=\"patch_7\">\n    <path clip-path=\"url(#p02760b70ab)\" d=\"M 122.103409 224.64 \nL 137.321591 224.64 \nL 137.321591 224.438784 \nL 122.103409 224.438784 \nz\n\" style=\"fill:#1f77b4;\"/>\n   </g>\n   <g id=\"patch_8\">\n    <path clip-path=\"url(#p02760b70ab)\" d=\"M 137.321591 224.64 \nL 152.539773 224.64 \nL 152.539773 224.373601 \nL 137.321591 224.373601 \nz\n\" style=\"fill:#1f77b4;\"/>\n   </g>\n   <g id=\"patch_9\">\n    <path clip-path=\"url(#p02760b70ab)\" d=\"M 152.539773 224.64 \nL 167.757955 224.64 \nL 167.757955 224.203559 \nL 152.539773 224.203559 \nz\n\" style=\"fill:#1f77b4;\"/>\n   </g>\n   <g id=\"patch_10\">\n    <path clip-path=\"url(#p02760b70ab)\" d=\"M 167.757955 224.64 \nL 182.976136 224.64 \nL 182.976136 224.002342 \nL 167.757955 224.002342 \nz\n\" style=\"fill:#1f77b4;\"/>\n   </g>\n   <g id=\"patch_11\">\n    <path clip-path=\"url(#p02760b70ab)\" d=\"M 182.976136 224.64 \nL 198.194318 224.64 \nL 198.194318 223.645254 \nL 182.976136 223.645254 \nz\n\" style=\"fill:#1f77b4;\"/>\n   </g>\n   <g id=\"patch_12\">\n    <path clip-path=\"url(#p02760b70ab)\" d=\"M 198.194318 224.64 \nL 213.4125 224.64 \nL 213.4125 222.970754 \nL 198.194318 222.970754 \nz\n\" style=\"fill:#1f77b4;\"/>\n   </g>\n   <g id=\"patch_13\">\n    <path clip-path=\"url(#p02760b70ab)\" d=\"M 213.4125 224.64 \nL 228.630682 224.64 \nL 228.630682 221.706775 \nL 213.4125 221.706775 \nz\n\" style=\"fill:#1f77b4;\"/>\n   </g>\n   <g id=\"patch_14\">\n    <path clip-path=\"url(#p02760b70ab)\" d=\"M 228.630682 224.64 \nL 243.848864 224.64 \nL 243.848864 218.833064 \nL 228.630682 218.833064 \nz\n\" style=\"fill:#1f77b4;\"/>\n   </g>\n   <g id=\"patch_15\">\n    <path clip-path=\"url(#p02760b70ab)\" d=\"M 243.848864 224.64 \nL 259.067045 224.64 \nL 259.067045 210.163753 \nL 243.848864 210.163753 \nz\n\" style=\"fill:#1f77b4;\"/>\n   </g>\n   <g id=\"patch_16\">\n    <path clip-path=\"url(#p02760b70ab)\" d=\"M 259.067045 224.64 \nL 274.285227 224.64 \nL 274.285227 181.520169 \nL 259.067045 181.520169 \nz\n\" style=\"fill:#1f77b4;\"/>\n   </g>\n   <g id=\"patch_17\">\n    <path clip-path=\"url(#p02760b70ab)\" d=\"M 274.285227 224.64 \nL 289.503409 224.64 \nL 289.503409 97.692271 \nL 274.285227 97.692271 \nz\n\" style=\"fill:#1f77b4;\"/>\n   </g>\n   <g id=\"patch_18\">\n    <path clip-path=\"url(#p02760b70ab)\" d=\"M 289.503409 224.64 \nL 304.721591 224.64 \nL 304.721591 17.554286 \nL 289.503409 17.554286 \nz\n\" style=\"fill:#1f77b4;\"/>\n   </g>\n   <g id=\"patch_19\">\n    <path clip-path=\"url(#p02760b70ab)\" d=\"M 304.721591 224.64 \nL 319.939773 224.64 \nL 319.939773 40.813205 \nL 304.721591 40.813205 \nz\n\" style=\"fill:#1f77b4;\"/>\n   </g>\n   <g id=\"patch_20\">\n    <path clip-path=\"url(#p02760b70ab)\" d=\"M 319.939773 224.64 \nL 335.157955 224.64 \nL 335.157955 133.528634 \nL 319.939773 133.528634 \nz\n\" style=\"fill:#1f77b4;\"/>\n   </g>\n   <g id=\"patch_21\">\n    <path clip-path=\"url(#p02760b70ab)\" d=\"M 335.157955 224.64 \nL 350.376136 224.64 \nL 350.376136 196.237309 \nL 335.157955 196.237309 \nz\n\" style=\"fill:#1f77b4;\"/>\n   </g>\n   <g id=\"patch_22\">\n    <path clip-path=\"url(#p02760b70ab)\" d=\"M 350.376136 224.64 \nL 365.594318 224.64 \nL 365.594318 216.370288 \nL 350.376136 216.370288 \nz\n\" style=\"fill:#1f77b4;\"/>\n   </g>\n   <g id=\"matplotlib.axis_1\">\n    <g id=\"xtick_1\">\n     <g id=\"line2d_1\">\n      <path clip-path=\"url(#p02760b70ab)\" d=\"M 107.507776 224.64 \nL 107.507776 7.2 \n\" style=\"fill:none;stroke:#b0b0b0;stroke-linecap:square;stroke-width:0.8;\"/>\n     </g>\n     <g id=\"line2d_2\">\n      <defs>\n       <path d=\"M 0 0 \nL 0 3.5 \n\" id=\"m00b201c7d7\" style=\"stroke:#000000;stroke-width:0.8;\"/>\n      </defs>\n      <g>\n       <use style=\"stroke:#000000;stroke-width:0.8;\" x=\"107.507776\" xlink:href=\"#m00b201c7d7\" y=\"224.64\"/>\n      </g>\n     </g>\n     <g id=\"text_1\">\n      <!-- −30000 -->\n      <g transform=\"translate(87.411682 239.238438)scale(0.1 -0.1)\">\n       <defs>\n        <path d=\"M 10.59375 35.5 \nL 73.1875 35.5 \nL 73.1875 27.203125 \nL 10.59375 27.203125 \nz\n\" id=\"DejaVuSans-8722\"/>\n        <path d=\"M 40.578125 39.3125 \nQ 47.65625 37.796875 51.625 33 \nQ 55.609375 28.21875 55.609375 21.1875 \nQ 55.609375 10.40625 48.1875 4.484375 \nQ 40.765625 -1.421875 27.09375 -1.421875 \nQ 22.515625 -1.421875 17.65625 -0.515625 \nQ 12.796875 0.390625 7.625 2.203125 \nL 7.625 11.71875 \nQ 11.71875 9.328125 16.59375 8.109375 \nQ 21.484375 6.890625 26.8125 6.890625 \nQ 36.078125 6.890625 40.9375 10.546875 \nQ 45.796875 14.203125 45.796875 21.1875 \nQ 45.796875 27.640625 41.28125 31.265625 \nQ 36.765625 34.90625 28.71875 34.90625 \nL 20.21875 34.90625 \nL 20.21875 43.015625 \nL 29.109375 43.015625 \nQ 36.375 43.015625 40.234375 45.921875 \nQ 44.09375 48.828125 44.09375 54.296875 \nQ 44.09375 59.90625 40.109375 62.90625 \nQ 36.140625 65.921875 28.71875 65.921875 \nQ 24.65625 65.921875 20.015625 65.03125 \nQ 15.375 64.15625 9.8125 62.3125 \nL 9.8125 71.09375 \nQ 15.4375 72.65625 20.34375 73.4375 \nQ 25.25 74.21875 29.59375 74.21875 \nQ 40.828125 74.21875 47.359375 69.109375 \nQ 53.90625 64.015625 53.90625 55.328125 \nQ 53.90625 49.265625 50.4375 45.09375 \nQ 46.96875 40.921875 40.578125 39.3125 \nz\n\" id=\"DejaVuSans-51\"/>\n        <path d=\"M 31.78125 66.40625 \nQ 24.171875 66.40625 20.328125 58.90625 \nQ 16.5 51.421875 16.5 36.375 \nQ 16.5 21.390625 20.328125 13.890625 \nQ 24.171875 6.390625 31.78125 6.390625 \nQ 39.453125 6.390625 43.28125 13.890625 \nQ 47.125 21.390625 47.125 36.375 \nQ 47.125 51.421875 43.28125 58.90625 \nQ 39.453125 66.40625 31.78125 66.40625 \nz\nM 31.78125 74.21875 \nQ 44.046875 74.21875 50.515625 64.515625 \nQ 56.984375 54.828125 56.984375 36.375 \nQ 56.984375 17.96875 50.515625 8.265625 \nQ 44.046875 -1.421875 31.78125 -1.421875 \nQ 19.53125 -1.421875 13.0625 8.265625 \nQ 6.59375 17.96875 6.59375 36.375 \nQ 6.59375 54.828125 13.0625 64.515625 \nQ 19.53125 74.21875 31.78125 74.21875 \nz\n\" id=\"DejaVuSans-48\"/>\n       </defs>\n       <use xlink:href=\"#DejaVuSans-8722\"/>\n       <use x=\"83.789062\" xlink:href=\"#DejaVuSans-51\"/>\n       <use x=\"147.412109\" xlink:href=\"#DejaVuSans-48\"/>\n       <use x=\"211.035156\" xlink:href=\"#DejaVuSans-48\"/>\n       <use x=\"274.658203\" xlink:href=\"#DejaVuSans-48\"/>\n       <use x=\"338.28125\" xlink:href=\"#DejaVuSans-48\"/>\n      </g>\n     </g>\n    </g>\n    <g id=\"xtick_2\">\n     <g id=\"line2d_3\">\n      <path clip-path=\"url(#p02760b70ab)\" d=\"M 172.458084 224.64 \nL 172.458084 7.2 \n\" style=\"fill:none;stroke:#b0b0b0;stroke-linecap:square;stroke-width:0.8;\"/>\n     </g>\n     <g id=\"line2d_4\">\n      <g>\n       <use style=\"stroke:#000000;stroke-width:0.8;\" x=\"172.458084\" xlink:href=\"#m00b201c7d7\" y=\"224.64\"/>\n      </g>\n     </g>\n     <g id=\"text_2\">\n      <!-- −20000 -->\n      <g transform=\"translate(152.36199 239.238438)scale(0.1 -0.1)\">\n       <defs>\n        <path d=\"M 19.1875 8.296875 \nL 53.609375 8.296875 \nL 53.609375 0 \nL 7.328125 0 \nL 7.328125 8.296875 \nQ 12.9375 14.109375 22.625 23.890625 \nQ 32.328125 33.6875 34.8125 36.53125 \nQ 39.546875 41.84375 41.421875 45.53125 \nQ 43.3125 49.21875 43.3125 52.78125 \nQ 43.3125 58.59375 39.234375 62.25 \nQ 35.15625 65.921875 28.609375 65.921875 \nQ 23.96875 65.921875 18.8125 64.3125 \nQ 13.671875 62.703125 7.8125 59.421875 \nL 7.8125 69.390625 \nQ 13.765625 71.78125 18.9375 73 \nQ 24.125 74.21875 28.421875 74.21875 \nQ 39.75 74.21875 46.484375 68.546875 \nQ 53.21875 62.890625 53.21875 53.421875 \nQ 53.21875 48.921875 51.53125 44.890625 \nQ 49.859375 40.875 45.40625 35.40625 \nQ 44.1875 33.984375 37.640625 27.21875 \nQ 31.109375 20.453125 19.1875 8.296875 \nz\n\" id=\"DejaVuSans-50\"/>\n       </defs>\n       <use xlink:href=\"#DejaVuSans-8722\"/>\n       <use x=\"83.789062\" xlink:href=\"#DejaVuSans-50\"/>\n       <use x=\"147.412109\" xlink:href=\"#DejaVuSans-48\"/>\n       <use x=\"211.035156\" xlink:href=\"#DejaVuSans-48\"/>\n       <use x=\"274.658203\" xlink:href=\"#DejaVuSans-48\"/>\n       <use x=\"338.28125\" xlink:href=\"#DejaVuSans-48\"/>\n      </g>\n     </g>\n    </g>\n    <g id=\"xtick_3\">\n     <g id=\"line2d_5\">\n      <path clip-path=\"url(#p02760b70ab)\" d=\"M 237.408391 224.64 \nL 237.408391 7.2 \n\" style=\"fill:none;stroke:#b0b0b0;stroke-linecap:square;stroke-width:0.8;\"/>\n     </g>\n     <g id=\"line2d_6\">\n      <g>\n       <use style=\"stroke:#000000;stroke-width:0.8;\" x=\"237.408391\" xlink:href=\"#m00b201c7d7\" y=\"224.64\"/>\n      </g>\n     </g>\n     <g id=\"text_3\">\n      <!-- −10000 -->\n      <g transform=\"translate(217.312297 239.238438)scale(0.1 -0.1)\">\n       <defs>\n        <path d=\"M 12.40625 8.296875 \nL 28.515625 8.296875 \nL 28.515625 63.921875 \nL 10.984375 60.40625 \nL 10.984375 69.390625 \nL 28.421875 72.90625 \nL 38.28125 72.90625 \nL 38.28125 8.296875 \nL 54.390625 8.296875 \nL 54.390625 0 \nL 12.40625 0 \nz\n\" id=\"DejaVuSans-49\"/>\n       </defs>\n       <use xlink:href=\"#DejaVuSans-8722\"/>\n       <use x=\"83.789062\" xlink:href=\"#DejaVuSans-49\"/>\n       <use x=\"147.412109\" xlink:href=\"#DejaVuSans-48\"/>\n       <use x=\"211.035156\" xlink:href=\"#DejaVuSans-48\"/>\n       <use x=\"274.658203\" xlink:href=\"#DejaVuSans-48\"/>\n       <use x=\"338.28125\" xlink:href=\"#DejaVuSans-48\"/>\n      </g>\n     </g>\n    </g>\n    <g id=\"xtick_4\">\n     <g id=\"line2d_7\">\n      <path clip-path=\"url(#p02760b70ab)\" d=\"M 302.358699 224.64 \nL 302.358699 7.2 \n\" style=\"fill:none;stroke:#b0b0b0;stroke-linecap:square;stroke-width:0.8;\"/>\n     </g>\n     <g id=\"line2d_8\">\n      <g>\n       <use style=\"stroke:#000000;stroke-width:0.8;\" x=\"302.358699\" xlink:href=\"#m00b201c7d7\" y=\"224.64\"/>\n      </g>\n     </g>\n     <g id=\"text_4\">\n      <!-- 0 -->\n      <g transform=\"translate(299.177449 239.238438)scale(0.1 -0.1)\">\n       <use xlink:href=\"#DejaVuSans-48\"/>\n      </g>\n     </g>\n    </g>\n    <g id=\"xtick_5\">\n     <g id=\"line2d_9\">\n      <path clip-path=\"url(#p02760b70ab)\" d=\"M 367.309006 224.64 \nL 367.309006 7.2 \n\" style=\"fill:none;stroke:#b0b0b0;stroke-linecap:square;stroke-width:0.8;\"/>\n     </g>\n     <g id=\"line2d_10\">\n      <g>\n       <use style=\"stroke:#000000;stroke-width:0.8;\" x=\"367.309006\" xlink:href=\"#m00b201c7d7\" y=\"224.64\"/>\n      </g>\n     </g>\n     <g id=\"text_5\">\n      <!-- 10000 -->\n      <g transform=\"translate(351.402756 239.238438)scale(0.1 -0.1)\">\n       <use xlink:href=\"#DejaVuSans-49\"/>\n       <use x=\"63.623047\" xlink:href=\"#DejaVuSans-48\"/>\n       <use x=\"127.246094\" xlink:href=\"#DejaVuSans-48\"/>\n       <use x=\"190.869141\" xlink:href=\"#DejaVuSans-48\"/>\n       <use x=\"254.492188\" xlink:href=\"#DejaVuSans-48\"/>\n      </g>\n     </g>\n    </g>\n   </g>\n   <g id=\"matplotlib.axis_2\">\n    <g id=\"ytick_1\">\n     <g id=\"line2d_11\">\n      <path clip-path=\"url(#p02760b70ab)\" d=\"M 46.0125 224.64 \nL 380.8125 224.64 \n\" style=\"fill:none;stroke:#b0b0b0;stroke-linecap:square;stroke-width:0.8;\"/>\n     </g>\n     <g id=\"line2d_12\">\n      <defs>\n       <path d=\"M 0 0 \nL -3.5 0 \n\" id=\"mfb7cd36ab1\" style=\"stroke:#000000;stroke-width:0.8;\"/>\n      </defs>\n      <g>\n       <use style=\"stroke:#000000;stroke-width:0.8;\" x=\"46.0125\" xlink:href=\"#mfb7cd36ab1\" y=\"224.64\"/>\n      </g>\n     </g>\n     <g id=\"text_6\">\n      <!-- 0 -->\n      <g transform=\"translate(32.65 228.439219)scale(0.1 -0.1)\">\n       <use xlink:href=\"#DejaVuSans-48\"/>\n      </g>\n     </g>\n    </g>\n    <g id=\"ytick_2\">\n     <g id=\"line2d_13\">\n      <path clip-path=\"url(#p02760b70ab)\" d=\"M 46.0125 196.299658 \nL 380.8125 196.299658 \n\" style=\"fill:none;stroke:#b0b0b0;stroke-linecap:square;stroke-width:0.8;\"/>\n     </g>\n     <g id=\"line2d_14\">\n      <g>\n       <use style=\"stroke:#000000;stroke-width:0.8;\" x=\"46.0125\" xlink:href=\"#mfb7cd36ab1\" y=\"196.299658\"/>\n      </g>\n     </g>\n     <g id=\"text_7\">\n      <!-- 10000 -->\n      <g transform=\"translate(7.2 200.098877)scale(0.1 -0.1)\">\n       <use xlink:href=\"#DejaVuSans-49\"/>\n       <use x=\"63.623047\" xlink:href=\"#DejaVuSans-48\"/>\n       <use x=\"127.246094\" xlink:href=\"#DejaVuSans-48\"/>\n       <use x=\"190.869141\" xlink:href=\"#DejaVuSans-48\"/>\n       <use x=\"254.492188\" xlink:href=\"#DejaVuSans-48\"/>\n      </g>\n     </g>\n    </g>\n    <g id=\"ytick_3\">\n     <g id=\"line2d_15\">\n      <path clip-path=\"url(#p02760b70ab)\" d=\"M 46.0125 167.959316 \nL 380.8125 167.959316 \n\" style=\"fill:none;stroke:#b0b0b0;stroke-linecap:square;stroke-width:0.8;\"/>\n     </g>\n     <g id=\"line2d_16\">\n      <g>\n       <use style=\"stroke:#000000;stroke-width:0.8;\" x=\"46.0125\" xlink:href=\"#mfb7cd36ab1\" y=\"167.959316\"/>\n      </g>\n     </g>\n     <g id=\"text_8\">\n      <!-- 20000 -->\n      <g transform=\"translate(7.2 171.758534)scale(0.1 -0.1)\">\n       <use xlink:href=\"#DejaVuSans-50\"/>\n       <use x=\"63.623047\" xlink:href=\"#DejaVuSans-48\"/>\n       <use x=\"127.246094\" xlink:href=\"#DejaVuSans-48\"/>\n       <use x=\"190.869141\" xlink:href=\"#DejaVuSans-48\"/>\n       <use x=\"254.492188\" xlink:href=\"#DejaVuSans-48\"/>\n      </g>\n     </g>\n    </g>\n    <g id=\"ytick_4\">\n     <g id=\"line2d_17\">\n      <path clip-path=\"url(#p02760b70ab)\" d=\"M 46.0125 139.618973 \nL 380.8125 139.618973 \n\" style=\"fill:none;stroke:#b0b0b0;stroke-linecap:square;stroke-width:0.8;\"/>\n     </g>\n     <g id=\"line2d_18\">\n      <g>\n       <use style=\"stroke:#000000;stroke-width:0.8;\" x=\"46.0125\" xlink:href=\"#mfb7cd36ab1\" y=\"139.618973\"/>\n      </g>\n     </g>\n     <g id=\"text_9\">\n      <!-- 30000 -->\n      <g transform=\"translate(7.2 143.418192)scale(0.1 -0.1)\">\n       <use xlink:href=\"#DejaVuSans-51\"/>\n       <use x=\"63.623047\" xlink:href=\"#DejaVuSans-48\"/>\n       <use x=\"127.246094\" xlink:href=\"#DejaVuSans-48\"/>\n       <use x=\"190.869141\" xlink:href=\"#DejaVuSans-48\"/>\n       <use x=\"254.492188\" xlink:href=\"#DejaVuSans-48\"/>\n      </g>\n     </g>\n    </g>\n    <g id=\"ytick_5\">\n     <g id=\"line2d_19\">\n      <path clip-path=\"url(#p02760b70ab)\" d=\"M 46.0125 111.278631 \nL 380.8125 111.278631 \n\" style=\"fill:none;stroke:#b0b0b0;stroke-linecap:square;stroke-width:0.8;\"/>\n     </g>\n     <g id=\"line2d_20\">\n      <g>\n       <use style=\"stroke:#000000;stroke-width:0.8;\" x=\"46.0125\" xlink:href=\"#mfb7cd36ab1\" y=\"111.278631\"/>\n      </g>\n     </g>\n     <g id=\"text_10\">\n      <!-- 40000 -->\n      <g transform=\"translate(7.2 115.07785)scale(0.1 -0.1)\">\n       <defs>\n        <path d=\"M 37.796875 64.3125 \nL 12.890625 25.390625 \nL 37.796875 25.390625 \nz\nM 35.203125 72.90625 \nL 47.609375 72.90625 \nL 47.609375 25.390625 \nL 58.015625 25.390625 \nL 58.015625 17.1875 \nL 47.609375 17.1875 \nL 47.609375 0 \nL 37.796875 0 \nL 37.796875 17.1875 \nL 4.890625 17.1875 \nL 4.890625 26.703125 \nz\n\" id=\"DejaVuSans-52\"/>\n       </defs>\n       <use xlink:href=\"#DejaVuSans-52\"/>\n       <use x=\"63.623047\" xlink:href=\"#DejaVuSans-48\"/>\n       <use x=\"127.246094\" xlink:href=\"#DejaVuSans-48\"/>\n       <use x=\"190.869141\" xlink:href=\"#DejaVuSans-48\"/>\n       <use x=\"254.492188\" xlink:href=\"#DejaVuSans-48\"/>\n      </g>\n     </g>\n    </g>\n    <g id=\"ytick_6\">\n     <g id=\"line2d_21\">\n      <path clip-path=\"url(#p02760b70ab)\" d=\"M 46.0125 82.938289 \nL 380.8125 82.938289 \n\" style=\"fill:none;stroke:#b0b0b0;stroke-linecap:square;stroke-width:0.8;\"/>\n     </g>\n     <g id=\"line2d_22\">\n      <g>\n       <use style=\"stroke:#000000;stroke-width:0.8;\" x=\"46.0125\" xlink:href=\"#mfb7cd36ab1\" y=\"82.938289\"/>\n      </g>\n     </g>\n     <g id=\"text_11\">\n      <!-- 50000 -->\n      <g transform=\"translate(7.2 86.737508)scale(0.1 -0.1)\">\n       <defs>\n        <path d=\"M 10.796875 72.90625 \nL 49.515625 72.90625 \nL 49.515625 64.59375 \nL 19.828125 64.59375 \nL 19.828125 46.734375 \nQ 21.96875 47.46875 24.109375 47.828125 \nQ 26.265625 48.1875 28.421875 48.1875 \nQ 40.625 48.1875 47.75 41.5 \nQ 54.890625 34.8125 54.890625 23.390625 \nQ 54.890625 11.625 47.5625 5.09375 \nQ 40.234375 -1.421875 26.90625 -1.421875 \nQ 22.3125 -1.421875 17.546875 -0.640625 \nQ 12.796875 0.140625 7.71875 1.703125 \nL 7.71875 11.625 \nQ 12.109375 9.234375 16.796875 8.0625 \nQ 21.484375 6.890625 26.703125 6.890625 \nQ 35.15625 6.890625 40.078125 11.328125 \nQ 45.015625 15.765625 45.015625 23.390625 \nQ 45.015625 31 40.078125 35.4375 \nQ 35.15625 39.890625 26.703125 39.890625 \nQ 22.75 39.890625 18.8125 39.015625 \nQ 14.890625 38.140625 10.796875 36.28125 \nz\n\" id=\"DejaVuSans-53\"/>\n       </defs>\n       <use xlink:href=\"#DejaVuSans-53\"/>\n       <use x=\"63.623047\" xlink:href=\"#DejaVuSans-48\"/>\n       <use x=\"127.246094\" xlink:href=\"#DejaVuSans-48\"/>\n       <use x=\"190.869141\" xlink:href=\"#DejaVuSans-48\"/>\n       <use x=\"254.492188\" xlink:href=\"#DejaVuSans-48\"/>\n      </g>\n     </g>\n    </g>\n    <g id=\"ytick_7\">\n     <g id=\"line2d_23\">\n      <path clip-path=\"url(#p02760b70ab)\" d=\"M 46.0125 54.597947 \nL 380.8125 54.597947 \n\" style=\"fill:none;stroke:#b0b0b0;stroke-linecap:square;stroke-width:0.8;\"/>\n     </g>\n     <g id=\"line2d_24\">\n      <g>\n       <use style=\"stroke:#000000;stroke-width:0.8;\" x=\"46.0125\" xlink:href=\"#mfb7cd36ab1\" y=\"54.597947\"/>\n      </g>\n     </g>\n     <g id=\"text_12\">\n      <!-- 60000 -->\n      <g transform=\"translate(7.2 58.397166)scale(0.1 -0.1)\">\n       <defs>\n        <path d=\"M 33.015625 40.375 \nQ 26.375 40.375 22.484375 35.828125 \nQ 18.609375 31.296875 18.609375 23.390625 \nQ 18.609375 15.53125 22.484375 10.953125 \nQ 26.375 6.390625 33.015625 6.390625 \nQ 39.65625 6.390625 43.53125 10.953125 \nQ 47.40625 15.53125 47.40625 23.390625 \nQ 47.40625 31.296875 43.53125 35.828125 \nQ 39.65625 40.375 33.015625 40.375 \nz\nM 52.59375 71.296875 \nL 52.59375 62.3125 \nQ 48.875 64.0625 45.09375 64.984375 \nQ 41.3125 65.921875 37.59375 65.921875 \nQ 27.828125 65.921875 22.671875 59.328125 \nQ 17.53125 52.734375 16.796875 39.40625 \nQ 19.671875 43.65625 24.015625 45.921875 \nQ 28.375 48.1875 33.59375 48.1875 \nQ 44.578125 48.1875 50.953125 41.515625 \nQ 57.328125 34.859375 57.328125 23.390625 \nQ 57.328125 12.15625 50.6875 5.359375 \nQ 44.046875 -1.421875 33.015625 -1.421875 \nQ 20.359375 -1.421875 13.671875 8.265625 \nQ 6.984375 17.96875 6.984375 36.375 \nQ 6.984375 53.65625 15.1875 63.9375 \nQ 23.390625 74.21875 37.203125 74.21875 \nQ 40.921875 74.21875 44.703125 73.484375 \nQ 48.484375 72.75 52.59375 71.296875 \nz\n\" id=\"DejaVuSans-54\"/>\n       </defs>\n       <use xlink:href=\"#DejaVuSans-54\"/>\n       <use x=\"63.623047\" xlink:href=\"#DejaVuSans-48\"/>\n       <use x=\"127.246094\" xlink:href=\"#DejaVuSans-48\"/>\n       <use x=\"190.869141\" xlink:href=\"#DejaVuSans-48\"/>\n       <use x=\"254.492188\" xlink:href=\"#DejaVuSans-48\"/>\n      </g>\n     </g>\n    </g>\n    <g id=\"ytick_8\">\n     <g id=\"line2d_25\">\n      <path clip-path=\"url(#p02760b70ab)\" d=\"M 46.0125 26.257605 \nL 380.8125 26.257605 \n\" style=\"fill:none;stroke:#b0b0b0;stroke-linecap:square;stroke-width:0.8;\"/>\n     </g>\n     <g id=\"line2d_26\">\n      <g>\n       <use style=\"stroke:#000000;stroke-width:0.8;\" x=\"46.0125\" xlink:href=\"#mfb7cd36ab1\" y=\"26.257605\"/>\n      </g>\n     </g>\n     <g id=\"text_13\">\n      <!-- 70000 -->\n      <g transform=\"translate(7.2 30.056824)scale(0.1 -0.1)\">\n       <defs>\n        <path d=\"M 8.203125 72.90625 \nL 55.078125 72.90625 \nL 55.078125 68.703125 \nL 28.609375 0 \nL 18.3125 0 \nL 43.21875 64.59375 \nL 8.203125 64.59375 \nz\n\" id=\"DejaVuSans-55\"/>\n       </defs>\n       <use xlink:href=\"#DejaVuSans-55\"/>\n       <use x=\"63.623047\" xlink:href=\"#DejaVuSans-48\"/>\n       <use x=\"127.246094\" xlink:href=\"#DejaVuSans-48\"/>\n       <use x=\"190.869141\" xlink:href=\"#DejaVuSans-48\"/>\n       <use x=\"254.492188\" xlink:href=\"#DejaVuSans-48\"/>\n      </g>\n     </g>\n    </g>\n   </g>\n   <g id=\"patch_23\">\n    <path d=\"M 46.0125 224.64 \nL 46.0125 7.2 \n\" style=\"fill:none;stroke:#000000;stroke-linecap:square;stroke-linejoin:miter;stroke-width:0.8;\"/>\n   </g>\n   <g id=\"patch_24\">\n    <path d=\"M 380.8125 224.64 \nL 380.8125 7.2 \n\" style=\"fill:none;stroke:#000000;stroke-linecap:square;stroke-linejoin:miter;stroke-width:0.8;\"/>\n   </g>\n   <g id=\"patch_25\">\n    <path d=\"M 46.0125 224.64 \nL 380.8125 224.64 \n\" style=\"fill:none;stroke:#000000;stroke-linecap:square;stroke-linejoin:miter;stroke-width:0.8;\"/>\n   </g>\n   <g id=\"patch_26\">\n    <path d=\"M 46.0125 7.2 \nL 380.8125 7.2 \n\" style=\"fill:none;stroke:#000000;stroke-linecap:square;stroke-linejoin:miter;stroke-width:0.8;\"/>\n   </g>\n  </g>\n </g>\n <defs>\n  <clipPath id=\"p02760b70ab\">\n   <rect height=\"217.44\" width=\"334.8\" x=\"46.0125\" y=\"7.2\"/>\n  </clipPath>\n </defs>\n</svg>\n",
      "image/png": "[encoded data removed]"
     },
     "metadata": {
      "needs_background": "light"
     }
    }
   ],
   "source": [
    "train_df['timediff'].astype(int).hist(bins=20)"
   ]
  },
  {
   "cell_type": "code",
   "execution_count": 9,
   "metadata": {},
   "outputs": [
    {
     "output_type": "execute_result",
     "data": {
      "text/plain": [
       "            id                                    ssid_0  \\\n",
       "0            0  356d66c73c423be835bd5d07cb1ebdfa821d8e23   \n",
       "1            1  356d66c73c423be835bd5d07cb1ebdfa821d8e23   \n",
       "2            2  f44fa6118fed7198296c8b45b2f2684903d99620   \n",
       "3            3  356d66c73c423be835bd5d07cb1ebdfa821d8e23   \n",
       "4            4  f44fa6118fed7198296c8b45b2f2684903d99620   \n",
       "...        ...                                       ...   \n",
       "252807  252807  18336f0964fbd470a2ee7116d33b96946c633999   \n",
       "252808  252808  18336f0964fbd470a2ee7116d33b96946c633999   \n",
       "252809  252809  18336f0964fbd470a2ee7116d33b96946c633999   \n",
       "252810  252810  18336f0964fbd470a2ee7116d33b96946c633999   \n",
       "252811  252811  18336f0964fbd470a2ee7116d33b96946c633999   \n",
       "\n",
       "                                          ssid_1  \\\n",
       "0       c3513a636d1a813db081a2ffc33f297b4fefe28d   \n",
       "1       f44fa6118fed7198296c8b45b2f2684903d99620   \n",
       "2       356d66c73c423be835bd5d07cb1ebdfa821d8e23   \n",
       "3       f44fa6118fed7198296c8b45b2f2684903d99620   \n",
       "4       356d66c73c423be835bd5d07cb1ebdfa821d8e23   \n",
       "...                                          ...   \n",
       "252807  072159287058774aa9b450c9163129b309bc982b   \n",
       "252808  18336f0964fbd470a2ee7116d33b96946c633999   \n",
       "252809  18336f0964fbd470a2ee7116d33b96946c633999   \n",
       "252810  18336f0964fbd470a2ee7116d33b96946c633999   \n",
       "252811  90ef6526fa145d95dc065edc3b3a3193406f3ee4   \n",
       "\n",
       "                                          ssid_2  \\\n",
       "0       990847ae755de95a44c7b1be54e66f4e56fdc7f4   \n",
       "1       c3513a636d1a813db081a2ffc33f297b4fefe28d   \n",
       "2       8aed75f7c344e6a3d4916750029dd4ee47c1e7c5   \n",
       "3       5a368e0bd5050bdb4653dc39c86bee1fd2b8aeb7   \n",
       "4       990847ae755de95a44c7b1be54e66f4e56fdc7f4   \n",
       "...                                          ...   \n",
       "252807  18336f0964fbd470a2ee7116d33b96946c633999   \n",
       "252808  072159287058774aa9b450c9163129b309bc982b   \n",
       "252809  072159287058774aa9b450c9163129b309bc982b   \n",
       "252810  072159287058774aa9b450c9163129b309bc982b   \n",
       "252811  040667e2fdd3a9bbb54e970c430ad6f08416c52e   \n",
       "\n",
       "                                          ssid_3  \\\n",
       "0       4e601619b7c7d9df8d61490ad2c134f08ea01d61   \n",
       "1       990847ae755de95a44c7b1be54e66f4e56fdc7f4   \n",
       "2       c3513a636d1a813db081a2ffc33f297b4fefe28d   \n",
       "3       990847ae755de95a44c7b1be54e66f4e56fdc7f4   \n",
       "4       c3513a636d1a813db081a2ffc33f297b4fefe28d   \n",
       "...                                          ...   \n",
       "252807  040667e2fdd3a9bbb54e970c430ad6f08416c52e   \n",
       "252808  072159287058774aa9b450c9163129b309bc982b   \n",
       "252809  ea9e102c49dbc834b1059c5e8b5dc4a017a82dff   \n",
       "252810  040667e2fdd3a9bbb54e970c430ad6f08416c52e   \n",
       "252811  18336f0964fbd470a2ee7116d33b96946c633999   \n",
       "\n",
       "                                          ssid_4  \\\n",
       "0       c3513a636d1a813db081a2ffc33f297b4fefe28d   \n",
       "1       d839a45ebe64ab48b60a407d837fb01d3c0dfef9   \n",
       "2       5a368e0bd5050bdb4653dc39c86bee1fd2b8aeb7   \n",
       "3       da39a3ee5e6b4b0d3255bfef95601890afd80709   \n",
       "4       d839a45ebe64ab48b60a407d837fb01d3c0dfef9   \n",
       "...                                          ...   \n",
       "252807  072159287058774aa9b450c9163129b309bc982b   \n",
       "252808  ea9e102c49dbc834b1059c5e8b5dc4a017a82dff   \n",
       "252809  072159287058774aa9b450c9163129b309bc982b   \n",
       "252810  da39a3ee5e6b4b0d3255bfef95601890afd80709   \n",
       "252811  da39a3ee5e6b4b0d3255bfef95601890afd80709   \n",
       "\n",
       "                                          ssid_5  \\\n",
       "0       b14c56d7cd73a5b026fc118c671e24dc2ba2558b   \n",
       "1       b7e6027447eb1f81327d66cfd3adbe557aabf26c   \n",
       "2       4e601619b7c7d9df8d61490ad2c134f08ea01d61   \n",
       "3       b6ffe5619e02871fcd04f61c9bb4b5c53a3f46b7   \n",
       "4       b7e6027447eb1f81327d66cfd3adbe557aabf26c   \n",
       "...                                          ...   \n",
       "252807  da39a3ee5e6b4b0d3255bfef95601890afd80709   \n",
       "252808  040667e2fdd3a9bbb54e970c430ad6f08416c52e   \n",
       "252809  040667e2fdd3a9bbb54e970c430ad6f08416c52e   \n",
       "252810  072159287058774aa9b450c9163129b309bc982b   \n",
       "252811  072159287058774aa9b450c9163129b309bc982b   \n",
       "\n",
       "                                          ssid_6  \\\n",
       "0       d839a45ebe64ab48b60a407d837fb01d3c0dfef9   \n",
       "1       7182afc4e5c212133d5d7d76eb3df6c24618302b   \n",
       "2       2ce029b3a3dea973a44bf0587be5e2b93a74e5f1   \n",
       "3       b7e6027447eb1f81327d66cfd3adbe557aabf26c   \n",
       "4       7182afc4e5c212133d5d7d76eb3df6c24618302b   \n",
       "...                                          ...   \n",
       "252807  da39a3ee5e6b4b0d3255bfef95601890afd80709   \n",
       "252808  da39a3ee5e6b4b0d3255bfef95601890afd80709   \n",
       "252809  1f09251bbfadafb11c63c87963af25238d6bc886   \n",
       "252810  90ef6526fa145d95dc065edc3b3a3193406f3ee4   \n",
       "252811  ea9e102c49dbc834b1059c5e8b5dc4a017a82dff   \n",
       "\n",
       "                                          ssid_7  \\\n",
       "0       7182afc4e5c212133d5d7d76eb3df6c24618302b   \n",
       "1       da39a3ee5e6b4b0d3255bfef95601890afd80709   \n",
       "2       b14c56d7cd73a5b026fc118c671e24dc2ba2558b   \n",
       "3       3fa90121039c7b6e24ae985d228e0366ae15fba4   \n",
       "4       b9f0208be00bd8b337be7f12e02e3a3ce846e22b   \n",
       "...                                          ...   \n",
       "252807  da39a3ee5e6b4b0d3255bfef95601890afd80709   \n",
       "252808  ea9e102c49dbc834b1059c5e8b5dc4a017a82dff   \n",
       "252809  da39a3ee5e6b4b0d3255bfef95601890afd80709   \n",
       "252810  ea9e102c49dbc834b1059c5e8b5dc4a017a82dff   \n",
       "252811  072159287058774aa9b450c9163129b309bc982b   \n",
       "\n",
       "                                          ssid_8  ...           y  \\\n",
       "0       b9f0208be00bd8b337be7f12e02e3a3ce846e22b  ...  156.842239   \n",
       "1       b9f0208be00bd8b337be7f12e02e3a3ce846e22b  ...  156.842239   \n",
       "2       3fa90121039c7b6e24ae985d228e0366ae15fba4  ...  156.842239   \n",
       "3       d839a45ebe64ab48b60a407d837fb01d3c0dfef9  ...  156.842239   \n",
       "4       b6ffe5619e02871fcd04f61c9bb4b5c53a3f46b7  ...  154.629517   \n",
       "...                                          ...  ...         ...   \n",
       "252807  da39a3ee5e6b4b0d3255bfef95601890afd80709  ...  107.011642   \n",
       "252808  da39a3ee5e6b4b0d3255bfef95601890afd80709  ...  111.526085   \n",
       "252809  da39a3ee5e6b4b0d3255bfef95601890afd80709  ...  111.526085   \n",
       "252810  1f09251bbfadafb11c63c87963af25238d6bc886  ...  116.407990   \n",
       "252811  1f09251bbfadafb11c63c87963af25238d6bc886  ...  116.407990   \n",
       "\n",
       "           itimestamp          ix          iy floor floor_str  \\\n",
       "0       1578466134278  113.615387  156.634796  -1.0        B1   \n",
       "1       1578466136278  112.655884  156.358200  -1.0        B1   \n",
       "2       1578466138278  111.936256  156.150772  -1.0        B1   \n",
       "3       1578466140278  110.976761  155.874176  -1.0        B1   \n",
       "4       1578466142278  110.017258  155.597580  -1.0        B1   \n",
       "...               ...         ...         ...   ...       ...   \n",
       "252807  1573892866000  128.925217  109.018059   6.0        F7   \n",
       "252808  1573892868000  130.645798  110.522873   6.0        F7   \n",
       "252809  1573892870000  132.872238  112.610954   6.0        F7   \n",
       "252810  1573892871500  133.951599  113.695824   6.0        F7   \n",
       "252811  1573892873500  136.110352  115.865555   6.0        F7   \n",
       "\n",
       "                            path                   site_id timediff itimediff  \n",
       "0       5e1580d1f4c3420006d520e4  5a0546857ecc773753327266    -1545       -45  \n",
       "1       5e1580d1f4c3420006d520e4  5a0546857ecc773753327266    -3512       -12  \n",
       "2       5e1580d1f4c3420006d520e4  5a0546857ecc773753327266    -5471        29  \n",
       "3       5e1580d1f4c3420006d520e4  5a0546857ecc773753327266    -7428        72  \n",
       "4       5e1580d1f4c3420006d520e4  5a0546857ecc773753327266     7401       105  \n",
       "...                          ...                       ...      ...       ...  \n",
       "252807  5dcfb393878f3300066c70a6  5dc8cea7659e181adb076a3f    -2224        38  \n",
       "252808  5dcfb393878f3300066c70a6  5dc8cea7659e181adb076a3f     1098       126  \n",
       "252809  5dcfb393878f3300066c70a6  5dc8cea7659e181adb076a3f     -790       238  \n",
       "252810  5dcfb393878f3300066c70a6  5dc8cea7659e181adb076a3f     2619      -187  \n",
       "252811  5dcfb393878f3300066c70a6  5dc8cea7659e181adb076a3f      730       -76  \n",
       "\n",
       "[252812 rows x 513 columns]"
      ],
      "text/html": "<div>\n<style scoped>\n    .dataframe tbody tr th:only-of-type {\n        vertical-align: middle;\n    }\n\n    .dataframe tbody tr th {\n        vertical-align: top;\n    }\n\n    .dataframe thead th {\n        text-align: right;\n    }\n</style>\n<table border=\"1\" class=\"dataframe\">\n  <thead>\n    <tr style=\"text-align: right;\">\n      <th></th>\n      <th>id</th>\n      <th>ssid_0</th>\n      <th>ssid_1</th>\n      <th>ssid_2</th>\n      <th>ssid_3</th>\n      <th>ssid_4</th>\n      <th>ssid_5</th>\n      <th>ssid_6</th>\n      <th>ssid_7</th>\n      <th>ssid_8</th>\n      <th>...</th>\n      <th>y</th>\n      <th>itimestamp</th>\n      <th>ix</th>\n      <th>iy</th>\n      <th>floor</th>\n      <th>floor_str</th>\n      <th>path</th>\n      <th>site_id</th>\n      <th>timediff</th>\n      <th>itimediff</th>\n    </tr>\n  </thead>\n  <tbody>\n    <tr>\n      <th>0</th>\n      <td>0</td>\n      <td>356d66c73c423be835bd5d07cb1ebdfa821d8e23</td>\n      <td>c3513a636d1a813db081a2ffc33f297b4fefe28d</td>\n      <td>990847ae755de95a44c7b1be54e66f4e56fdc7f4</td>\n      <td>4e601619b7c7d9df8d61490ad2c134f08ea01d61</td>\n      <td>c3513a636d1a813db081a2ffc33f297b4fefe28d</td>\n      <td>b14c56d7cd73a5b026fc118c671e24dc2ba2558b</td>\n      <td>d839a45ebe64ab48b60a407d837fb01d3c0dfef9</td>\n      <td>7182afc4e5c212133d5d7d76eb3df6c24618302b</td>\n      <td>b9f0208be00bd8b337be7f12e02e3a3ce846e22b</td>\n      <td>...</td>\n      <td>156.842239</td>\n      <td>1578466134278</td>\n      <td>113.615387</td>\n      <td>156.634796</td>\n      <td>-1.0</td>\n      <td>B1</td>\n      <td>5e1580d1f4c3420006d520e4</td>\n      <td>5a0546857ecc773753327266</td>\n      <td>-1545</td>\n      <td>-45</td>\n    </tr>\n    <tr>\n      <th>1</th>\n      <td>1</td>\n      <td>356d66c73c423be835bd5d07cb1ebdfa821d8e23</td>\n      <td>f44fa6118fed7198296c8b45b2f2684903d99620</td>\n      <td>c3513a636d1a813db081a2ffc33f297b4fefe28d</td>\n      <td>990847ae755de95a44c7b1be54e66f4e56fdc7f4</td>\n      <td>d839a45ebe64ab48b60a407d837fb01d3c0dfef9</td>\n      <td>b7e6027447eb1f81327d66cfd3adbe557aabf26c</td>\n      <td>7182afc4e5c212133d5d7d76eb3df6c24618302b</td>\n      <td>da39a3ee5e6b4b0d3255bfef95601890afd80709</td>\n      <td>b9f0208be00bd8b337be7f12e02e3a3ce846e22b</td>\n      <td>...</td>\n      <td>156.842239</td>\n      <td>1578466136278</td>\n      <td>112.655884</td>\n      <td>156.358200</td>\n      <td>-1.0</td>\n      <td>B1</td>\n      <td>5e1580d1f4c3420006d520e4</td>\n      <td>5a0546857ecc773753327266</td>\n      <td>-3512</td>\n      <td>-12</td>\n    </tr>\n    <tr>\n      <th>2</th>\n      <td>2</td>\n      <td>f44fa6118fed7198296c8b45b2f2684903d99620</td>\n      <td>356d66c73c423be835bd5d07cb1ebdfa821d8e23</td>\n      <td>8aed75f7c344e6a3d4916750029dd4ee47c1e7c5</td>\n      <td>c3513a636d1a813db081a2ffc33f297b4fefe28d</td>\n      <td>5a368e0bd5050bdb4653dc39c86bee1fd2b8aeb7</td>\n      <td>4e601619b7c7d9df8d61490ad2c134f08ea01d61</td>\n      <td>2ce029b3a3dea973a44bf0587be5e2b93a74e5f1</td>\n      <td>b14c56d7cd73a5b026fc118c671e24dc2ba2558b</td>\n      <td>3fa90121039c7b6e24ae985d228e0366ae15fba4</td>\n      <td>...</td>\n      <td>156.842239</td>\n      <td>1578466138278</td>\n      <td>111.936256</td>\n      <td>156.150772</td>\n      <td>-1.0</td>\n      <td>B1</td>\n      <td>5e1580d1f4c3420006d520e4</td>\n      <td>5a0546857ecc773753327266</td>\n      <td>-5471</td>\n      <td>29</td>\n    </tr>\n    <tr>\n      <th>3</th>\n      <td>3</td>\n      <td>356d66c73c423be835bd5d07cb1ebdfa821d8e23</td>\n      <td>f44fa6118fed7198296c8b45b2f2684903d99620</td>\n      <td>5a368e0bd5050bdb4653dc39c86bee1fd2b8aeb7</td>\n      <td>990847ae755de95a44c7b1be54e66f4e56fdc7f4</td>\n      <td>da39a3ee5e6b4b0d3255bfef95601890afd80709</td>\n      <td>b6ffe5619e02871fcd04f61c9bb4b5c53a3f46b7</td>\n      <td>b7e6027447eb1f81327d66cfd3adbe557aabf26c</td>\n      <td>3fa90121039c7b6e24ae985d228e0366ae15fba4</td>\n      <td>d839a45ebe64ab48b60a407d837fb01d3c0dfef9</td>\n      <td>...</td>\n      <td>156.842239</td>\n      <td>1578466140278</td>\n      <td>110.976761</td>\n      <td>155.874176</td>\n      <td>-1.0</td>\n      <td>B1</td>\n      <td>5e1580d1f4c3420006d520e4</td>\n      <td>5a0546857ecc773753327266</td>\n      <td>-7428</td>\n      <td>72</td>\n    </tr>\n    <tr>\n      <th>4</th>\n      <td>4</td>\n      <td>f44fa6118fed7198296c8b45b2f2684903d99620</td>\n      <td>356d66c73c423be835bd5d07cb1ebdfa821d8e23</td>\n      <td>990847ae755de95a44c7b1be54e66f4e56fdc7f4</td>\n      <td>c3513a636d1a813db081a2ffc33f297b4fefe28d</td>\n      <td>d839a45ebe64ab48b60a407d837fb01d3c0dfef9</td>\n      <td>b7e6027447eb1f81327d66cfd3adbe557aabf26c</td>\n      <td>7182afc4e5c212133d5d7d76eb3df6c24618302b</td>\n      <td>b9f0208be00bd8b337be7f12e02e3a3ce846e22b</td>\n      <td>b6ffe5619e02871fcd04f61c9bb4b5c53a3f46b7</td>\n      <td>...</td>\n      <td>154.629517</td>\n      <td>1578466142278</td>\n      <td>110.017258</td>\n      <td>155.597580</td>\n      <td>-1.0</td>\n      <td>B1</td>\n      <td>5e1580d1f4c3420006d520e4</td>\n      <td>5a0546857ecc773753327266</td>\n      <td>7401</td>\n      <td>105</td>\n    </tr>\n    <tr>\n      <th>...</th>\n      <td>...</td>\n      <td>...</td>\n      <td>...</td>\n      <td>...</td>\n      <td>...</td>\n      <td>...</td>\n      <td>...</td>\n      <td>...</td>\n      <td>...</td>\n      <td>...</td>\n      <td>...</td>\n      <td>...</td>\n      <td>...</td>\n      <td>...</td>\n      <td>...</td>\n      <td>...</td>\n      <td>...</td>\n      <td>...</td>\n      <td>...</td>\n      <td>...</td>\n      <td>...</td>\n    </tr>\n    <tr>\n      <th>252807</th>\n      <td>252807</td>\n      <td>18336f0964fbd470a2ee7116d33b96946c633999</td>\n      <td>072159287058774aa9b450c9163129b309bc982b</td>\n      <td>18336f0964fbd470a2ee7116d33b96946c633999</td>\n      <td>040667e2fdd3a9bbb54e970c430ad6f08416c52e</td>\n      <td>072159287058774aa9b450c9163129b309bc982b</td>\n      <td>da39a3ee5e6b4b0d3255bfef95601890afd80709</td>\n      <td>da39a3ee5e6b4b0d3255bfef95601890afd80709</td>\n      <td>da39a3ee5e6b4b0d3255bfef95601890afd80709</td>\n      <td>da39a3ee5e6b4b0d3255bfef95601890afd80709</td>\n      <td>...</td>\n      <td>107.011642</td>\n      <td>1573892866000</td>\n      <td>128.925217</td>\n      <td>109.018059</td>\n      <td>6.0</td>\n      <td>F7</td>\n      <td>5dcfb393878f3300066c70a6</td>\n      <td>5dc8cea7659e181adb076a3f</td>\n      <td>-2224</td>\n      <td>38</td>\n    </tr>\n    <tr>\n      <th>252808</th>\n      <td>252808</td>\n      <td>18336f0964fbd470a2ee7116d33b96946c633999</td>\n      <td>18336f0964fbd470a2ee7116d33b96946c633999</td>\n      <td>072159287058774aa9b450c9163129b309bc982b</td>\n      <td>072159287058774aa9b450c9163129b309bc982b</td>\n      <td>ea9e102c49dbc834b1059c5e8b5dc4a017a82dff</td>\n      <td>040667e2fdd3a9bbb54e970c430ad6f08416c52e</td>\n      <td>da39a3ee5e6b4b0d3255bfef95601890afd80709</td>\n      <td>ea9e102c49dbc834b1059c5e8b5dc4a017a82dff</td>\n      <td>da39a3ee5e6b4b0d3255bfef95601890afd80709</td>\n      <td>...</td>\n      <td>111.526085</td>\n      <td>1573892868000</td>\n      <td>130.645798</td>\n      <td>110.522873</td>\n      <td>6.0</td>\n      <td>F7</td>\n      <td>5dcfb393878f3300066c70a6</td>\n      <td>5dc8cea7659e181adb076a3f</td>\n      <td>1098</td>\n      <td>126</td>\n    </tr>\n    <tr>\n      <th>252809</th>\n      <td>252809</td>\n      <td>18336f0964fbd470a2ee7116d33b96946c633999</td>\n      <td>18336f0964fbd470a2ee7116d33b96946c633999</td>\n      <td>072159287058774aa9b450c9163129b309bc982b</td>\n      <td>ea9e102c49dbc834b1059c5e8b5dc4a017a82dff</td>\n      <td>072159287058774aa9b450c9163129b309bc982b</td>\n      <td>040667e2fdd3a9bbb54e970c430ad6f08416c52e</td>\n      <td>1f09251bbfadafb11c63c87963af25238d6bc886</td>\n      <td>da39a3ee5e6b4b0d3255bfef95601890afd80709</td>\n      <td>da39a3ee5e6b4b0d3255bfef95601890afd80709</td>\n      <td>...</td>\n      <td>111.526085</td>\n      <td>1573892870000</td>\n      <td>132.872238</td>\n      <td>112.610954</td>\n      <td>6.0</td>\n      <td>F7</td>\n      <td>5dcfb393878f3300066c70a6</td>\n      <td>5dc8cea7659e181adb076a3f</td>\n      <td>-790</td>\n      <td>238</td>\n    </tr>\n    <tr>\n      <th>252810</th>\n      <td>252810</td>\n      <td>18336f0964fbd470a2ee7116d33b96946c633999</td>\n      <td>18336f0964fbd470a2ee7116d33b96946c633999</td>\n      <td>072159287058774aa9b450c9163129b309bc982b</td>\n      <td>040667e2fdd3a9bbb54e970c430ad6f08416c52e</td>\n      <td>da39a3ee5e6b4b0d3255bfef95601890afd80709</td>\n      <td>072159287058774aa9b450c9163129b309bc982b</td>\n      <td>90ef6526fa145d95dc065edc3b3a3193406f3ee4</td>\n      <td>ea9e102c49dbc834b1059c5e8b5dc4a017a82dff</td>\n      <td>1f09251bbfadafb11c63c87963af25238d6bc886</td>\n      <td>...</td>\n      <td>116.407990</td>\n      <td>1573892871500</td>\n      <td>133.951599</td>\n      <td>113.695824</td>\n      <td>6.0</td>\n      <td>F7</td>\n      <td>5dcfb393878f3300066c70a6</td>\n      <td>5dc8cea7659e181adb076a3f</td>\n      <td>2619</td>\n      <td>-187</td>\n    </tr>\n    <tr>\n      <th>252811</th>\n      <td>252811</td>\n      <td>18336f0964fbd470a2ee7116d33b96946c633999</td>\n      <td>90ef6526fa145d95dc065edc3b3a3193406f3ee4</td>\n      <td>040667e2fdd3a9bbb54e970c430ad6f08416c52e</td>\n      <td>18336f0964fbd470a2ee7116d33b96946c633999</td>\n      <td>da39a3ee5e6b4b0d3255bfef95601890afd80709</td>\n      <td>072159287058774aa9b450c9163129b309bc982b</td>\n      <td>ea9e102c49dbc834b1059c5e8b5dc4a017a82dff</td>\n      <td>072159287058774aa9b450c9163129b309bc982b</td>\n      <td>1f09251bbfadafb11c63c87963af25238d6bc886</td>\n      <td>...</td>\n      <td>116.407990</td>\n      <td>1573892873500</td>\n      <td>136.110352</td>\n      <td>115.865555</td>\n      <td>6.0</td>\n      <td>F7</td>\n      <td>5dcfb393878f3300066c70a6</td>\n      <td>5dc8cea7659e181adb076a3f</td>\n      <td>730</td>\n      <td>-76</td>\n    </tr>\n  </tbody>\n</table>\n<p>252812 rows × 513 columns</p>\n</div>"
     },
     "metadata": {},
     "execution_count": 9
    }
   ],
   "source": [
    "train_df"
   ]
  },
  {
   "cell_type": "code",
   "execution_count": 10,
   "metadata": {},
   "outputs": [
    {
     "output_type": "execute_result",
     "data": {
      "text/plain": [
       "                                         ssid_0  \\\n",
       "0      b9f0208be00bd8b337be7f12e02e3a3ce846e22b   \n",
       "1      7182afc4e5c212133d5d7d76eb3df6c24618302b   \n",
       "2      da39a3ee5e6b4b0d3255bfef95601890afd80709   \n",
       "3      7182afc4e5c212133d5d7d76eb3df6c24618302b   \n",
       "4      b6ffe5619e02871fcd04f61c9bb4b5c53a3f46b7   \n",
       "...                                         ...   \n",
       "37434  8e69018f6343506344ab13646ccd9447fc2ffb19   \n",
       "37435  5d998a8668536c4f51004c25f474117fe9555f78   \n",
       "37436  5d998a8668536c4f51004c25f474117fe9555f78   \n",
       "37437  8e69018f6343506344ab13646ccd9447fc2ffb19   \n",
       "37438  aa449fabc4dcb24836d950b5cff91f08e574c3a7   \n",
       "\n",
       "                                         ssid_1  \\\n",
       "0      ab150ecf6d972b476aeab16317bed6189d9f7cce   \n",
       "1      b6ffe5619e02871fcd04f61c9bb4b5c53a3f46b7   \n",
       "2      d839a45ebe64ab48b60a407d837fb01d3c0dfef9   \n",
       "3      b6ffe5619e02871fcd04f61c9bb4b5c53a3f46b7   \n",
       "4      da39a3ee5e6b4b0d3255bfef95601890afd80709   \n",
       "...                                         ...   \n",
       "37434  8e69018f6343506344ab13646ccd9447fc2ffb19   \n",
       "37435  5d998a8668536c4f51004c25f474117fe9555f78   \n",
       "37436  8e69018f6343506344ab13646ccd9447fc2ffb19   \n",
       "37437  5d998a8668536c4f51004c25f474117fe9555f78   \n",
       "37438  5d998a8668536c4f51004c25f474117fe9555f78   \n",
       "\n",
       "                                         ssid_2  \\\n",
       "0      b6ffe5619e02871fcd04f61c9bb4b5c53a3f46b7   \n",
       "1      b7e6027447eb1f81327d66cfd3adbe557aabf26c   \n",
       "2      b6ffe5619e02871fcd04f61c9bb4b5c53a3f46b7   \n",
       "3      b7e6027447eb1f81327d66cfd3adbe557aabf26c   \n",
       "4      b7e6027447eb1f81327d66cfd3adbe557aabf26c   \n",
       "...                                         ...   \n",
       "37434  5d998a8668536c4f51004c25f474117fe9555f78   \n",
       "37435  5d998a8668536c4f51004c25f474117fe9555f78   \n",
       "37436  5d998a8668536c4f51004c25f474117fe9555f78   \n",
       "37437  da39a3ee5e6b4b0d3255bfef95601890afd80709   \n",
       "37438  da39a3ee5e6b4b0d3255bfef95601890afd80709   \n",
       "\n",
       "                                         ssid_3  \\\n",
       "0      b7e6027447eb1f81327d66cfd3adbe557aabf26c   \n",
       "1      d839a45ebe64ab48b60a407d837fb01d3c0dfef9   \n",
       "2      b7e6027447eb1f81327d66cfd3adbe557aabf26c   \n",
       "3      d839a45ebe64ab48b60a407d837fb01d3c0dfef9   \n",
       "4      d839a45ebe64ab48b60a407d837fb01d3c0dfef9   \n",
       "...                                         ...   \n",
       "37434  da39a3ee5e6b4b0d3255bfef95601890afd80709   \n",
       "37435  8e69018f6343506344ab13646ccd9447fc2ffb19   \n",
       "37436  8e69018f6343506344ab13646ccd9447fc2ffb19   \n",
       "37437  5d998a8668536c4f51004c25f474117fe9555f78   \n",
       "37438  6381b3137285875eda5bc77d9b8cc7650f0f5d7d   \n",
       "\n",
       "                                         ssid_4  \\\n",
       "0      d839a45ebe64ab48b60a407d837fb01d3c0dfef9   \n",
       "1      7182afc4e5c212133d5d7d76eb3df6c24618302b   \n",
       "2      d839a45ebe64ab48b60a407d837fb01d3c0dfef9   \n",
       "3      d839a45ebe64ab48b60a407d837fb01d3c0dfef9   \n",
       "4      7182afc4e5c212133d5d7d76eb3df6c24618302b   \n",
       "...                                         ...   \n",
       "37434  5d998a8668536c4f51004c25f474117fe9555f78   \n",
       "37435  c72257cf75d6a411225948bbc4e37ad554e7beda   \n",
       "37436  da39a3ee5e6b4b0d3255bfef95601890afd80709   \n",
       "37437  5d998a8668536c4f51004c25f474117fe9555f78   \n",
       "37438  efa1fe97c4b2a6c57d98de9c236a109032ceb839   \n",
       "\n",
       "                                         ssid_5  \\\n",
       "0      7182afc4e5c212133d5d7d76eb3df6c24618302b   \n",
       "1      b9f0208be00bd8b337be7f12e02e3a3ce846e22b   \n",
       "2      7182afc4e5c212133d5d7d76eb3df6c24618302b   \n",
       "3      b9f0208be00bd8b337be7f12e02e3a3ce846e22b   \n",
       "4      b9f0208be00bd8b337be7f12e02e3a3ce846e22b   \n",
       "...                                         ...   \n",
       "37434  5d998a8668536c4f51004c25f474117fe9555f78   \n",
       "37435  8e69018f6343506344ab13646ccd9447fc2ffb19   \n",
       "37436  aa449fabc4dcb24836d950b5cff91f08e574c3a7   \n",
       "37437  c72257cf75d6a411225948bbc4e37ad554e7beda   \n",
       "37438  0eb4ecd03a3128e62bdff60e6f686d88e783441e   \n",
       "\n",
       "                                         ssid_6  \\\n",
       "0      da39a3ee5e6b4b0d3255bfef95601890afd80709   \n",
       "1      b9f0208be00bd8b337be7f12e02e3a3ce846e22b   \n",
       "2      b9f0208be00bd8b337be7f12e02e3a3ce846e22b   \n",
       "3      da39a3ee5e6b4b0d3255bfef95601890afd80709   \n",
       "4      da39a3ee5e6b4b0d3255bfef95601890afd80709   \n",
       "...                                         ...   \n",
       "37434  5d998a8668536c4f51004c25f474117fe9555f78   \n",
       "37435  da39a3ee5e6b4b0d3255bfef95601890afd80709   \n",
       "37436  c72257cf75d6a411225948bbc4e37ad554e7beda   \n",
       "37437  da39a3ee5e6b4b0d3255bfef95601890afd80709   \n",
       "37438  8e69018f6343506344ab13646ccd9447fc2ffb19   \n",
       "\n",
       "                                         ssid_7  \\\n",
       "0      01e78c97f2c04cdbc7c4159158bb125a9bb558ff   \n",
       "1      b7e6027447eb1f81327d66cfd3adbe557aabf26c   \n",
       "2      7182afc4e5c212133d5d7d76eb3df6c24618302b   \n",
       "3      b7e6027447eb1f81327d66cfd3adbe557aabf26c   \n",
       "4      b9f0208be00bd8b337be7f12e02e3a3ce846e22b   \n",
       "...                                         ...   \n",
       "37434  da39a3ee5e6b4b0d3255bfef95601890afd80709   \n",
       "37435  da39a3ee5e6b4b0d3255bfef95601890afd80709   \n",
       "37436  da39a3ee5e6b4b0d3255bfef95601890afd80709   \n",
       "37437  5d998a8668536c4f51004c25f474117fe9555f78   \n",
       "37438  da39a3ee5e6b4b0d3255bfef95601890afd80709   \n",
       "\n",
       "                                         ssid_8  \\\n",
       "0      b9f0208be00bd8b337be7f12e02e3a3ce846e22b   \n",
       "1      da39a3ee5e6b4b0d3255bfef95601890afd80709   \n",
       "2      b7e6027447eb1f81327d66cfd3adbe557aabf26c   \n",
       "3      7182afc4e5c212133d5d7d76eb3df6c24618302b   \n",
       "4      b6ffe5619e02871fcd04f61c9bb4b5c53a3f46b7   \n",
       "...                                         ...   \n",
       "37434  0f927dce74ec3475c7a39299e5bffab222ca665d   \n",
       "37435  da39a3ee5e6b4b0d3255bfef95601890afd80709   \n",
       "37436  efa1fe97c4b2a6c57d98de9c236a109032ceb839   \n",
       "37437  8e69018f6343506344ab13646ccd9447fc2ffb19   \n",
       "37438  6ee7b15e068bf8b82c3ce0cd0af84a6b6be5b30d   \n",
       "\n",
       "                                         ssid_9  ... timediff_96 timediff_97  \\\n",
       "0      7182afc4e5c212133d5d7d76eb3df6c24618302b  ...      1251.0      1228.0   \n",
       "1      b7e6027447eb1f81327d66cfd3adbe557aabf26c  ...      5532.0      5529.0   \n",
       "2      b6ffe5619e02871fcd04f61c9bb4b5c53a3f46b7  ...       859.0       853.0   \n",
       "3      b9f0208be00bd8b337be7f12e02e3a3ce846e22b  ...      5741.0      2950.0   \n",
       "4      d839a45ebe64ab48b60a407d837fb01d3c0dfef9  ...      7649.0      7373.0   \n",
       "...                                         ...  ...         ...         ...   \n",
       "37434  0eb4ecd03a3128e62bdff60e6f686d88e783441e  ...      1860.0      2409.0   \n",
       "37435  efa1fe97c4b2a6c57d98de9c236a109032ceb839  ...      1746.0      2006.0   \n",
       "37436  6381b3137285875eda5bc77d9b8cc7650f0f5d7d  ...       106.0       298.0   \n",
       "37437  efa1fe97c4b2a6c57d98de9c236a109032ceb839  ...      4342.0      3789.0   \n",
       "37438  5d998a8668536c4f51004c25f474117fe9555f78  ...      3976.0      3834.0   \n",
       "\n",
       "      timediff_98 timediff_99 timestamp real_timestamp  \\\n",
       "0           877.0       135.0         9  1578474564146   \n",
       "1          5532.0      5350.0      9017  1578474573154   \n",
       "2          5739.0      3633.0      9017  1578474573154   \n",
       "3          2949.0      2951.0      9017  1578474573154   \n",
       "4          1883.0      1422.0     15326  1578474579463   \n",
       "...           ...         ...       ...            ...   \n",
       "37434      2410.0      1714.0     90895  1573731151613   \n",
       "37435      1865.0       465.0     90895  1573731151613   \n",
       "37436       166.0       263.0     96899  1573731157617   \n",
       "37437      4396.0      2409.0     96899  1573731157617   \n",
       "37438      1262.0      9587.0    100447  1573731161165   \n",
       "\n",
       "                           path                   site_id timediff  \\\n",
       "0      046cfa46be49fc10834815c6  5a0546857ecc773753327266    -2331   \n",
       "1      046cfa46be49fc10834815c6  5a0546857ecc773753327266     4287   \n",
       "2      046cfa46be49fc10834815c6  5a0546857ecc773753327266     -491   \n",
       "3      046cfa46be49fc10834815c6  5a0546857ecc773753327266     1827   \n",
       "4      046cfa46be49fc10834815c6  5a0546857ecc773753327266      612   \n",
       "...                         ...                       ...      ...   \n",
       "37434  fd64de8c4a2fc5ebb0e9f412  5dc8cea7659e181adb076a3f     1344   \n",
       "37435  fd64de8c4a2fc5ebb0e9f412  5dc8cea7659e181adb076a3f    -2607   \n",
       "37436  fd64de8c4a2fc5ebb0e9f412  5dc8cea7659e181adb076a3f     -529   \n",
       "37437  fd64de8c4a2fc5ebb0e9f412  5dc8cea7659e181adb076a3f     1419   \n",
       "37438  fd64de8c4a2fc5ebb0e9f412  5dc8cea7659e181adb076a3f     1018   \n",
       "\n",
       "                                     site_path_timestamp  \n",
       "0      5a0546857ecc773753327266_046cfa46be49fc1083481...  \n",
       "1      5a0546857ecc773753327266_046cfa46be49fc1083481...  \n",
       "2      5a0546857ecc773753327266_046cfa46be49fc1083481...  \n",
       "3      5a0546857ecc773753327266_046cfa46be49fc1083481...  \n",
       "4      5a0546857ecc773753327266_046cfa46be49fc1083481...  \n",
       "...                                                  ...  \n",
       "37434  5dc8cea7659e181adb076a3f_fd64de8c4a2fc5ebb0e9f...  \n",
       "37435  5dc8cea7659e181adb076a3f_fd64de8c4a2fc5ebb0e9f...  \n",
       "37436  5dc8cea7659e181adb076a3f_fd64de8c4a2fc5ebb0e9f...  \n",
       "37437  5dc8cea7659e181adb076a3f_fd64de8c4a2fc5ebb0e9f...  \n",
       "37438  5dc8cea7659e181adb076a3f_fd64de8c4a2fc5ebb0e9f...  \n",
       "\n",
       "[37439 rows x 506 columns]"
      ],
      "text/html": "<div>\n<style scoped>\n    .dataframe tbody tr th:only-of-type {\n        vertical-align: middle;\n    }\n\n    .dataframe tbody tr th {\n        vertical-align: top;\n    }\n\n    .dataframe thead th {\n        text-align: right;\n    }\n</style>\n<table border=\"1\" class=\"dataframe\">\n  <thead>\n    <tr style=\"text-align: right;\">\n      <th></th>\n      <th>ssid_0</th>\n      <th>ssid_1</th>\n      <th>ssid_2</th>\n      <th>ssid_3</th>\n      <th>ssid_4</th>\n      <th>ssid_5</th>\n      <th>ssid_6</th>\n      <th>ssid_7</th>\n      <th>ssid_8</th>\n      <th>ssid_9</th>\n      <th>...</th>\n      <th>timediff_96</th>\n      <th>timediff_97</th>\n      <th>timediff_98</th>\n      <th>timediff_99</th>\n      <th>timestamp</th>\n      <th>real_timestamp</th>\n      <th>path</th>\n      <th>site_id</th>\n      <th>timediff</th>\n      <th>site_path_timestamp</th>\n    </tr>\n  </thead>\n  <tbody>\n    <tr>\n      <th>0</th>\n      <td>b9f0208be00bd8b337be7f12e02e3a3ce846e22b</td>\n      <td>ab150ecf6d972b476aeab16317bed6189d9f7cce</td>\n      <td>b6ffe5619e02871fcd04f61c9bb4b5c53a3f46b7</td>\n      <td>b7e6027447eb1f81327d66cfd3adbe557aabf26c</td>\n      <td>d839a45ebe64ab48b60a407d837fb01d3c0dfef9</td>\n      <td>7182afc4e5c212133d5d7d76eb3df6c24618302b</td>\n      <td>da39a3ee5e6b4b0d3255bfef95601890afd80709</td>\n      <td>01e78c97f2c04cdbc7c4159158bb125a9bb558ff</td>\n      <td>b9f0208be00bd8b337be7f12e02e3a3ce846e22b</td>\n      <td>7182afc4e5c212133d5d7d76eb3df6c24618302b</td>\n      <td>...</td>\n      <td>1251.0</td>\n      <td>1228.0</td>\n      <td>877.0</td>\n      <td>135.0</td>\n      <td>9</td>\n      <td>1578474564146</td>\n      <td>046cfa46be49fc10834815c6</td>\n      <td>5a0546857ecc773753327266</td>\n      <td>-2331</td>\n      <td>5a0546857ecc773753327266_046cfa46be49fc1083481...</td>\n    </tr>\n    <tr>\n      <th>1</th>\n      <td>7182afc4e5c212133d5d7d76eb3df6c24618302b</td>\n      <td>b6ffe5619e02871fcd04f61c9bb4b5c53a3f46b7</td>\n      <td>b7e6027447eb1f81327d66cfd3adbe557aabf26c</td>\n      <td>d839a45ebe64ab48b60a407d837fb01d3c0dfef9</td>\n      <td>7182afc4e5c212133d5d7d76eb3df6c24618302b</td>\n      <td>b9f0208be00bd8b337be7f12e02e3a3ce846e22b</td>\n      <td>b9f0208be00bd8b337be7f12e02e3a3ce846e22b</td>\n      <td>b7e6027447eb1f81327d66cfd3adbe557aabf26c</td>\n      <td>da39a3ee5e6b4b0d3255bfef95601890afd80709</td>\n      <td>b7e6027447eb1f81327d66cfd3adbe557aabf26c</td>\n      <td>...</td>\n      <td>5532.0</td>\n      <td>5529.0</td>\n      <td>5532.0</td>\n      <td>5350.0</td>\n      <td>9017</td>\n      <td>1578474573154</td>\n      <td>046cfa46be49fc10834815c6</td>\n      <td>5a0546857ecc773753327266</td>\n      <td>4287</td>\n      <td>5a0546857ecc773753327266_046cfa46be49fc1083481...</td>\n    </tr>\n    <tr>\n      <th>2</th>\n      <td>da39a3ee5e6b4b0d3255bfef95601890afd80709</td>\n      <td>d839a45ebe64ab48b60a407d837fb01d3c0dfef9</td>\n      <td>b6ffe5619e02871fcd04f61c9bb4b5c53a3f46b7</td>\n      <td>b7e6027447eb1f81327d66cfd3adbe557aabf26c</td>\n      <td>d839a45ebe64ab48b60a407d837fb01d3c0dfef9</td>\n      <td>7182afc4e5c212133d5d7d76eb3df6c24618302b</td>\n      <td>b9f0208be00bd8b337be7f12e02e3a3ce846e22b</td>\n      <td>7182afc4e5c212133d5d7d76eb3df6c24618302b</td>\n      <td>b7e6027447eb1f81327d66cfd3adbe557aabf26c</td>\n      <td>b6ffe5619e02871fcd04f61c9bb4b5c53a3f46b7</td>\n      <td>...</td>\n      <td>859.0</td>\n      <td>853.0</td>\n      <td>5739.0</td>\n      <td>3633.0</td>\n      <td>9017</td>\n      <td>1578474573154</td>\n      <td>046cfa46be49fc10834815c6</td>\n      <td>5a0546857ecc773753327266</td>\n      <td>-491</td>\n      <td>5a0546857ecc773753327266_046cfa46be49fc1083481...</td>\n    </tr>\n    <tr>\n      <th>3</th>\n      <td>7182afc4e5c212133d5d7d76eb3df6c24618302b</td>\n      <td>b6ffe5619e02871fcd04f61c9bb4b5c53a3f46b7</td>\n      <td>b7e6027447eb1f81327d66cfd3adbe557aabf26c</td>\n      <td>d839a45ebe64ab48b60a407d837fb01d3c0dfef9</td>\n      <td>d839a45ebe64ab48b60a407d837fb01d3c0dfef9</td>\n      <td>b9f0208be00bd8b337be7f12e02e3a3ce846e22b</td>\n      <td>da39a3ee5e6b4b0d3255bfef95601890afd80709</td>\n      <td>b7e6027447eb1f81327d66cfd3adbe557aabf26c</td>\n      <td>7182afc4e5c212133d5d7d76eb3df6c24618302b</td>\n      <td>b9f0208be00bd8b337be7f12e02e3a3ce846e22b</td>\n      <td>...</td>\n      <td>5741.0</td>\n      <td>2950.0</td>\n      <td>2949.0</td>\n      <td>2951.0</td>\n      <td>9017</td>\n      <td>1578474573154</td>\n      <td>046cfa46be49fc10834815c6</td>\n      <td>5a0546857ecc773753327266</td>\n      <td>1827</td>\n      <td>5a0546857ecc773753327266_046cfa46be49fc1083481...</td>\n    </tr>\n    <tr>\n      <th>4</th>\n      <td>b6ffe5619e02871fcd04f61c9bb4b5c53a3f46b7</td>\n      <td>da39a3ee5e6b4b0d3255bfef95601890afd80709</td>\n      <td>b7e6027447eb1f81327d66cfd3adbe557aabf26c</td>\n      <td>d839a45ebe64ab48b60a407d837fb01d3c0dfef9</td>\n      <td>7182afc4e5c212133d5d7d76eb3df6c24618302b</td>\n      <td>b9f0208be00bd8b337be7f12e02e3a3ce846e22b</td>\n      <td>da39a3ee5e6b4b0d3255bfef95601890afd80709</td>\n      <td>b9f0208be00bd8b337be7f12e02e3a3ce846e22b</td>\n      <td>b6ffe5619e02871fcd04f61c9bb4b5c53a3f46b7</td>\n      <td>d839a45ebe64ab48b60a407d837fb01d3c0dfef9</td>\n      <td>...</td>\n      <td>7649.0</td>\n      <td>7373.0</td>\n      <td>1883.0</td>\n      <td>1422.0</td>\n      <td>15326</td>\n      <td>1578474579463</td>\n      <td>046cfa46be49fc10834815c6</td>\n      <td>5a0546857ecc773753327266</td>\n      <td>612</td>\n      <td>5a0546857ecc773753327266_046cfa46be49fc1083481...</td>\n    </tr>\n    <tr>\n      <th>...</th>\n      <td>...</td>\n      <td>...</td>\n      <td>...</td>\n      <td>...</td>\n      <td>...</td>\n      <td>...</td>\n      <td>...</td>\n      <td>...</td>\n      <td>...</td>\n      <td>...</td>\n      <td>...</td>\n      <td>...</td>\n      <td>...</td>\n      <td>...</td>\n      <td>...</td>\n      <td>...</td>\n      <td>...</td>\n      <td>...</td>\n      <td>...</td>\n      <td>...</td>\n      <td>...</td>\n    </tr>\n    <tr>\n      <th>37434</th>\n      <td>8e69018f6343506344ab13646ccd9447fc2ffb19</td>\n      <td>8e69018f6343506344ab13646ccd9447fc2ffb19</td>\n      <td>5d998a8668536c4f51004c25f474117fe9555f78</td>\n      <td>da39a3ee5e6b4b0d3255bfef95601890afd80709</td>\n      <td>5d998a8668536c4f51004c25f474117fe9555f78</td>\n      <td>5d998a8668536c4f51004c25f474117fe9555f78</td>\n      <td>5d998a8668536c4f51004c25f474117fe9555f78</td>\n      <td>da39a3ee5e6b4b0d3255bfef95601890afd80709</td>\n      <td>0f927dce74ec3475c7a39299e5bffab222ca665d</td>\n      <td>0eb4ecd03a3128e62bdff60e6f686d88e783441e</td>\n      <td>...</td>\n      <td>1860.0</td>\n      <td>2409.0</td>\n      <td>2410.0</td>\n      <td>1714.0</td>\n      <td>90895</td>\n      <td>1573731151613</td>\n      <td>fd64de8c4a2fc5ebb0e9f412</td>\n      <td>5dc8cea7659e181adb076a3f</td>\n      <td>1344</td>\n      <td>5dc8cea7659e181adb076a3f_fd64de8c4a2fc5ebb0e9f...</td>\n    </tr>\n    <tr>\n      <th>37435</th>\n      <td>5d998a8668536c4f51004c25f474117fe9555f78</td>\n      <td>5d998a8668536c4f51004c25f474117fe9555f78</td>\n      <td>5d998a8668536c4f51004c25f474117fe9555f78</td>\n      <td>8e69018f6343506344ab13646ccd9447fc2ffb19</td>\n      <td>c72257cf75d6a411225948bbc4e37ad554e7beda</td>\n      <td>8e69018f6343506344ab13646ccd9447fc2ffb19</td>\n      <td>da39a3ee5e6b4b0d3255bfef95601890afd80709</td>\n      <td>da39a3ee5e6b4b0d3255bfef95601890afd80709</td>\n      <td>da39a3ee5e6b4b0d3255bfef95601890afd80709</td>\n      <td>efa1fe97c4b2a6c57d98de9c236a109032ceb839</td>\n      <td>...</td>\n      <td>1746.0</td>\n      <td>2006.0</td>\n      <td>1865.0</td>\n      <td>465.0</td>\n      <td>90895</td>\n      <td>1573731151613</td>\n      <td>fd64de8c4a2fc5ebb0e9f412</td>\n      <td>5dc8cea7659e181adb076a3f</td>\n      <td>-2607</td>\n      <td>5dc8cea7659e181adb076a3f_fd64de8c4a2fc5ebb0e9f...</td>\n    </tr>\n    <tr>\n      <th>37436</th>\n      <td>5d998a8668536c4f51004c25f474117fe9555f78</td>\n      <td>8e69018f6343506344ab13646ccd9447fc2ffb19</td>\n      <td>5d998a8668536c4f51004c25f474117fe9555f78</td>\n      <td>8e69018f6343506344ab13646ccd9447fc2ffb19</td>\n      <td>da39a3ee5e6b4b0d3255bfef95601890afd80709</td>\n      <td>aa449fabc4dcb24836d950b5cff91f08e574c3a7</td>\n      <td>c72257cf75d6a411225948bbc4e37ad554e7beda</td>\n      <td>da39a3ee5e6b4b0d3255bfef95601890afd80709</td>\n      <td>efa1fe97c4b2a6c57d98de9c236a109032ceb839</td>\n      <td>6381b3137285875eda5bc77d9b8cc7650f0f5d7d</td>\n      <td>...</td>\n      <td>106.0</td>\n      <td>298.0</td>\n      <td>166.0</td>\n      <td>263.0</td>\n      <td>96899</td>\n      <td>1573731157617</td>\n      <td>fd64de8c4a2fc5ebb0e9f412</td>\n      <td>5dc8cea7659e181adb076a3f</td>\n      <td>-529</td>\n      <td>5dc8cea7659e181adb076a3f_fd64de8c4a2fc5ebb0e9f...</td>\n    </tr>\n    <tr>\n      <th>37437</th>\n      <td>8e69018f6343506344ab13646ccd9447fc2ffb19</td>\n      <td>5d998a8668536c4f51004c25f474117fe9555f78</td>\n      <td>da39a3ee5e6b4b0d3255bfef95601890afd80709</td>\n      <td>5d998a8668536c4f51004c25f474117fe9555f78</td>\n      <td>5d998a8668536c4f51004c25f474117fe9555f78</td>\n      <td>c72257cf75d6a411225948bbc4e37ad554e7beda</td>\n      <td>da39a3ee5e6b4b0d3255bfef95601890afd80709</td>\n      <td>5d998a8668536c4f51004c25f474117fe9555f78</td>\n      <td>8e69018f6343506344ab13646ccd9447fc2ffb19</td>\n      <td>efa1fe97c4b2a6c57d98de9c236a109032ceb839</td>\n      <td>...</td>\n      <td>4342.0</td>\n      <td>3789.0</td>\n      <td>4396.0</td>\n      <td>2409.0</td>\n      <td>96899</td>\n      <td>1573731157617</td>\n      <td>fd64de8c4a2fc5ebb0e9f412</td>\n      <td>5dc8cea7659e181adb076a3f</td>\n      <td>1419</td>\n      <td>5dc8cea7659e181adb076a3f_fd64de8c4a2fc5ebb0e9f...</td>\n    </tr>\n    <tr>\n      <th>37438</th>\n      <td>aa449fabc4dcb24836d950b5cff91f08e574c3a7</td>\n      <td>5d998a8668536c4f51004c25f474117fe9555f78</td>\n      <td>da39a3ee5e6b4b0d3255bfef95601890afd80709</td>\n      <td>6381b3137285875eda5bc77d9b8cc7650f0f5d7d</td>\n      <td>efa1fe97c4b2a6c57d98de9c236a109032ceb839</td>\n      <td>0eb4ecd03a3128e62bdff60e6f686d88e783441e</td>\n      <td>8e69018f6343506344ab13646ccd9447fc2ffb19</td>\n      <td>da39a3ee5e6b4b0d3255bfef95601890afd80709</td>\n      <td>6ee7b15e068bf8b82c3ce0cd0af84a6b6be5b30d</td>\n      <td>5d998a8668536c4f51004c25f474117fe9555f78</td>\n      <td>...</td>\n      <td>3976.0</td>\n      <td>3834.0</td>\n      <td>1262.0</td>\n      <td>9587.0</td>\n      <td>100447</td>\n      <td>1573731161165</td>\n      <td>fd64de8c4a2fc5ebb0e9f412</td>\n      <td>5dc8cea7659e181adb076a3f</td>\n      <td>1018</td>\n      <td>5dc8cea7659e181adb076a3f_fd64de8c4a2fc5ebb0e9f...</td>\n    </tr>\n  </tbody>\n</table>\n<p>37439 rows × 506 columns</p>\n</div>"
     },
     "metadata": {},
     "execution_count": 10
    }
   ],
   "source": [
    "test_df"
   ]
  },
  {
   "cell_type": "code",
   "execution_count": 11,
   "metadata": {},
   "outputs": [
    {
     "output_type": "execute_result",
     "data": {
      "text/plain": [
       "(8467,)"
      ]
     },
     "metadata": {},
     "execution_count": 11
    }
   ],
   "source": [
    "remove_id = np.load('../exp033/20s_over_id.npy', allow_pickle=True)\n",
    "remove_id.shape"
   ]
  },
  {
   "cell_type": "code",
   "execution_count": 12,
   "metadata": {},
   "outputs": [
    {
     "output_type": "execute_result",
     "data": {
      "text/plain": [
       "            id                                    ssid_0  \\\n",
       "0            0  356d66c73c423be835bd5d07cb1ebdfa821d8e23   \n",
       "1            1  356d66c73c423be835bd5d07cb1ebdfa821d8e23   \n",
       "2            2  f44fa6118fed7198296c8b45b2f2684903d99620   \n",
       "3            3  356d66c73c423be835bd5d07cb1ebdfa821d8e23   \n",
       "4            4  f44fa6118fed7198296c8b45b2f2684903d99620   \n",
       "...        ...                                       ...   \n",
       "244340  252807  18336f0964fbd470a2ee7116d33b96946c633999   \n",
       "244341  252808  18336f0964fbd470a2ee7116d33b96946c633999   \n",
       "244342  252809  18336f0964fbd470a2ee7116d33b96946c633999   \n",
       "244343  252810  18336f0964fbd470a2ee7116d33b96946c633999   \n",
       "244344  252811  18336f0964fbd470a2ee7116d33b96946c633999   \n",
       "\n",
       "                                          ssid_1  \\\n",
       "0       c3513a636d1a813db081a2ffc33f297b4fefe28d   \n",
       "1       f44fa6118fed7198296c8b45b2f2684903d99620   \n",
       "2       356d66c73c423be835bd5d07cb1ebdfa821d8e23   \n",
       "3       f44fa6118fed7198296c8b45b2f2684903d99620   \n",
       "4       356d66c73c423be835bd5d07cb1ebdfa821d8e23   \n",
       "...                                          ...   \n",
       "244340  072159287058774aa9b450c9163129b309bc982b   \n",
       "244341  18336f0964fbd470a2ee7116d33b96946c633999   \n",
       "244342  18336f0964fbd470a2ee7116d33b96946c633999   \n",
       "244343  18336f0964fbd470a2ee7116d33b96946c633999   \n",
       "244344  90ef6526fa145d95dc065edc3b3a3193406f3ee4   \n",
       "\n",
       "                                          ssid_2  \\\n",
       "0       990847ae755de95a44c7b1be54e66f4e56fdc7f4   \n",
       "1       c3513a636d1a813db081a2ffc33f297b4fefe28d   \n",
       "2       8aed75f7c344e6a3d4916750029dd4ee47c1e7c5   \n",
       "3       5a368e0bd5050bdb4653dc39c86bee1fd2b8aeb7   \n",
       "4       990847ae755de95a44c7b1be54e66f4e56fdc7f4   \n",
       "...                                          ...   \n",
       "244340  18336f0964fbd470a2ee7116d33b96946c633999   \n",
       "244341  072159287058774aa9b450c9163129b309bc982b   \n",
       "244342  072159287058774aa9b450c9163129b309bc982b   \n",
       "244343  072159287058774aa9b450c9163129b309bc982b   \n",
       "244344  040667e2fdd3a9bbb54e970c430ad6f08416c52e   \n",
       "\n",
       "                                          ssid_3  \\\n",
       "0       4e601619b7c7d9df8d61490ad2c134f08ea01d61   \n",
       "1       990847ae755de95a44c7b1be54e66f4e56fdc7f4   \n",
       "2       c3513a636d1a813db081a2ffc33f297b4fefe28d   \n",
       "3       990847ae755de95a44c7b1be54e66f4e56fdc7f4   \n",
       "4       c3513a636d1a813db081a2ffc33f297b4fefe28d   \n",
       "...                                          ...   \n",
       "244340  040667e2fdd3a9bbb54e970c430ad6f08416c52e   \n",
       "244341  072159287058774aa9b450c9163129b309bc982b   \n",
       "244342  ea9e102c49dbc834b1059c5e8b5dc4a017a82dff   \n",
       "244343  040667e2fdd3a9bbb54e970c430ad6f08416c52e   \n",
       "244344  18336f0964fbd470a2ee7116d33b96946c633999   \n",
       "\n",
       "                                          ssid_4  \\\n",
       "0       c3513a636d1a813db081a2ffc33f297b4fefe28d   \n",
       "1       d839a45ebe64ab48b60a407d837fb01d3c0dfef9   \n",
       "2       5a368e0bd5050bdb4653dc39c86bee1fd2b8aeb7   \n",
       "3       da39a3ee5e6b4b0d3255bfef95601890afd80709   \n",
       "4       d839a45ebe64ab48b60a407d837fb01d3c0dfef9   \n",
       "...                                          ...   \n",
       "244340  072159287058774aa9b450c9163129b309bc982b   \n",
       "244341  ea9e102c49dbc834b1059c5e8b5dc4a017a82dff   \n",
       "244342  072159287058774aa9b450c9163129b309bc982b   \n",
       "244343  da39a3ee5e6b4b0d3255bfef95601890afd80709   \n",
       "244344  da39a3ee5e6b4b0d3255bfef95601890afd80709   \n",
       "\n",
       "                                          ssid_5  \\\n",
       "0       b14c56d7cd73a5b026fc118c671e24dc2ba2558b   \n",
       "1       b7e6027447eb1f81327d66cfd3adbe557aabf26c   \n",
       "2       4e601619b7c7d9df8d61490ad2c134f08ea01d61   \n",
       "3       b6ffe5619e02871fcd04f61c9bb4b5c53a3f46b7   \n",
       "4       b7e6027447eb1f81327d66cfd3adbe557aabf26c   \n",
       "...                                          ...   \n",
       "244340  da39a3ee5e6b4b0d3255bfef95601890afd80709   \n",
       "244341  040667e2fdd3a9bbb54e970c430ad6f08416c52e   \n",
       "244342  040667e2fdd3a9bbb54e970c430ad6f08416c52e   \n",
       "244343  072159287058774aa9b450c9163129b309bc982b   \n",
       "244344  072159287058774aa9b450c9163129b309bc982b   \n",
       "\n",
       "                                          ssid_6  \\\n",
       "0       d839a45ebe64ab48b60a407d837fb01d3c0dfef9   \n",
       "1       7182afc4e5c212133d5d7d76eb3df6c24618302b   \n",
       "2       2ce029b3a3dea973a44bf0587be5e2b93a74e5f1   \n",
       "3       b7e6027447eb1f81327d66cfd3adbe557aabf26c   \n",
       "4       7182afc4e5c212133d5d7d76eb3df6c24618302b   \n",
       "...                                          ...   \n",
       "244340  da39a3ee5e6b4b0d3255bfef95601890afd80709   \n",
       "244341  da39a3ee5e6b4b0d3255bfef95601890afd80709   \n",
       "244342  1f09251bbfadafb11c63c87963af25238d6bc886   \n",
       "244343  90ef6526fa145d95dc065edc3b3a3193406f3ee4   \n",
       "244344  ea9e102c49dbc834b1059c5e8b5dc4a017a82dff   \n",
       "\n",
       "                                          ssid_7  \\\n",
       "0       7182afc4e5c212133d5d7d76eb3df6c24618302b   \n",
       "1       da39a3ee5e6b4b0d3255bfef95601890afd80709   \n",
       "2       b14c56d7cd73a5b026fc118c671e24dc2ba2558b   \n",
       "3       3fa90121039c7b6e24ae985d228e0366ae15fba4   \n",
       "4       b9f0208be00bd8b337be7f12e02e3a3ce846e22b   \n",
       "...                                          ...   \n",
       "244340  da39a3ee5e6b4b0d3255bfef95601890afd80709   \n",
       "244341  ea9e102c49dbc834b1059c5e8b5dc4a017a82dff   \n",
       "244342  da39a3ee5e6b4b0d3255bfef95601890afd80709   \n",
       "244343  ea9e102c49dbc834b1059c5e8b5dc4a017a82dff   \n",
       "244344  072159287058774aa9b450c9163129b309bc982b   \n",
       "\n",
       "                                          ssid_8  ...           y  \\\n",
       "0       b9f0208be00bd8b337be7f12e02e3a3ce846e22b  ...  156.842239   \n",
       "1       b9f0208be00bd8b337be7f12e02e3a3ce846e22b  ...  156.842239   \n",
       "2       3fa90121039c7b6e24ae985d228e0366ae15fba4  ...  156.842239   \n",
       "3       d839a45ebe64ab48b60a407d837fb01d3c0dfef9  ...  156.842239   \n",
       "4       b6ffe5619e02871fcd04f61c9bb4b5c53a3f46b7  ...  154.629517   \n",
       "...                                          ...  ...         ...   \n",
       "244340  da39a3ee5e6b4b0d3255bfef95601890afd80709  ...  107.011642   \n",
       "244341  da39a3ee5e6b4b0d3255bfef95601890afd80709  ...  111.526085   \n",
       "244342  da39a3ee5e6b4b0d3255bfef95601890afd80709  ...  111.526085   \n",
       "244343  1f09251bbfadafb11c63c87963af25238d6bc886  ...  116.407990   \n",
       "244344  1f09251bbfadafb11c63c87963af25238d6bc886  ...  116.407990   \n",
       "\n",
       "           itimestamp          ix          iy floor floor_str  \\\n",
       "0       1578466134278  113.615387  156.634796  -1.0        B1   \n",
       "1       1578466136278  112.655884  156.358200  -1.0        B1   \n",
       "2       1578466138278  111.936256  156.150772  -1.0        B1   \n",
       "3       1578466140278  110.976761  155.874176  -1.0        B1   \n",
       "4       1578466142278  110.017258  155.597580  -1.0        B1   \n",
       "...               ...         ...         ...   ...       ...   \n",
       "244340  1573892866000  128.925217  109.018059   6.0        F7   \n",
       "244341  1573892868000  130.645798  110.522873   6.0        F7   \n",
       "244342  1573892870000  132.872238  112.610954   6.0        F7   \n",
       "244343  1573892871500  133.951599  113.695824   6.0        F7   \n",
       "244344  1573892873500  136.110352  115.865555   6.0        F7   \n",
       "\n",
       "                            path                   site_id timediff itimediff  \n",
       "0       5e1580d1f4c3420006d520e4  5a0546857ecc773753327266    -1545       -45  \n",
       "1       5e1580d1f4c3420006d520e4  5a0546857ecc773753327266    -3512       -12  \n",
       "2       5e1580d1f4c3420006d520e4  5a0546857ecc773753327266    -5471        29  \n",
       "3       5e1580d1f4c3420006d520e4  5a0546857ecc773753327266    -7428        72  \n",
       "4       5e1580d1f4c3420006d520e4  5a0546857ecc773753327266     7401       105  \n",
       "...                          ...                       ...      ...       ...  \n",
       "244340  5dcfb393878f3300066c70a6  5dc8cea7659e181adb076a3f    -2224        38  \n",
       "244341  5dcfb393878f3300066c70a6  5dc8cea7659e181adb076a3f     1098       126  \n",
       "244342  5dcfb393878f3300066c70a6  5dc8cea7659e181adb076a3f     -790       238  \n",
       "244343  5dcfb393878f3300066c70a6  5dc8cea7659e181adb076a3f     2619      -187  \n",
       "244344  5dcfb393878f3300066c70a6  5dc8cea7659e181adb076a3f      730       -76  \n",
       "\n",
       "[244345 rows x 513 columns]"
      ],
      "text/html": "<div>\n<style scoped>\n    .dataframe tbody tr th:only-of-type {\n        vertical-align: middle;\n    }\n\n    .dataframe tbody tr th {\n        vertical-align: top;\n    }\n\n    .dataframe thead th {\n        text-align: right;\n    }\n</style>\n<table border=\"1\" class=\"dataframe\">\n  <thead>\n    <tr style=\"text-align: right;\">\n      <th></th>\n      <th>id</th>\n      <th>ssid_0</th>\n      <th>ssid_1</th>\n      <th>ssid_2</th>\n      <th>ssid_3</th>\n      <th>ssid_4</th>\n      <th>ssid_5</th>\n      <th>ssid_6</th>\n      <th>ssid_7</th>\n      <th>ssid_8</th>\n      <th>...</th>\n      <th>y</th>\n      <th>itimestamp</th>\n      <th>ix</th>\n      <th>iy</th>\n      <th>floor</th>\n      <th>floor_str</th>\n      <th>path</th>\n      <th>site_id</th>\n      <th>timediff</th>\n      <th>itimediff</th>\n    </tr>\n  </thead>\n  <tbody>\n    <tr>\n      <th>0</th>\n      <td>0</td>\n      <td>356d66c73c423be835bd5d07cb1ebdfa821d8e23</td>\n      <td>c3513a636d1a813db081a2ffc33f297b4fefe28d</td>\n      <td>990847ae755de95a44c7b1be54e66f4e56fdc7f4</td>\n      <td>4e601619b7c7d9df8d61490ad2c134f08ea01d61</td>\n      <td>c3513a636d1a813db081a2ffc33f297b4fefe28d</td>\n      <td>b14c56d7cd73a5b026fc118c671e24dc2ba2558b</td>\n      <td>d839a45ebe64ab48b60a407d837fb01d3c0dfef9</td>\n      <td>7182afc4e5c212133d5d7d76eb3df6c24618302b</td>\n      <td>b9f0208be00bd8b337be7f12e02e3a3ce846e22b</td>\n      <td>...</td>\n      <td>156.842239</td>\n      <td>1578466134278</td>\n      <td>113.615387</td>\n      <td>156.634796</td>\n      <td>-1.0</td>\n      <td>B1</td>\n      <td>5e1580d1f4c3420006d520e4</td>\n      <td>5a0546857ecc773753327266</td>\n      <td>-1545</td>\n      <td>-45</td>\n    </tr>\n    <tr>\n      <th>1</th>\n      <td>1</td>\n      <td>356d66c73c423be835bd5d07cb1ebdfa821d8e23</td>\n      <td>f44fa6118fed7198296c8b45b2f2684903d99620</td>\n      <td>c3513a636d1a813db081a2ffc33f297b4fefe28d</td>\n      <td>990847ae755de95a44c7b1be54e66f4e56fdc7f4</td>\n      <td>d839a45ebe64ab48b60a407d837fb01d3c0dfef9</td>\n      <td>b7e6027447eb1f81327d66cfd3adbe557aabf26c</td>\n      <td>7182afc4e5c212133d5d7d76eb3df6c24618302b</td>\n      <td>da39a3ee5e6b4b0d3255bfef95601890afd80709</td>\n      <td>b9f0208be00bd8b337be7f12e02e3a3ce846e22b</td>\n      <td>...</td>\n      <td>156.842239</td>\n      <td>1578466136278</td>\n      <td>112.655884</td>\n      <td>156.358200</td>\n      <td>-1.0</td>\n      <td>B1</td>\n      <td>5e1580d1f4c3420006d520e4</td>\n      <td>5a0546857ecc773753327266</td>\n      <td>-3512</td>\n      <td>-12</td>\n    </tr>\n    <tr>\n      <th>2</th>\n      <td>2</td>\n      <td>f44fa6118fed7198296c8b45b2f2684903d99620</td>\n      <td>356d66c73c423be835bd5d07cb1ebdfa821d8e23</td>\n      <td>8aed75f7c344e6a3d4916750029dd4ee47c1e7c5</td>\n      <td>c3513a636d1a813db081a2ffc33f297b4fefe28d</td>\n      <td>5a368e0bd5050bdb4653dc39c86bee1fd2b8aeb7</td>\n      <td>4e601619b7c7d9df8d61490ad2c134f08ea01d61</td>\n      <td>2ce029b3a3dea973a44bf0587be5e2b93a74e5f1</td>\n      <td>b14c56d7cd73a5b026fc118c671e24dc2ba2558b</td>\n      <td>3fa90121039c7b6e24ae985d228e0366ae15fba4</td>\n      <td>...</td>\n      <td>156.842239</td>\n      <td>1578466138278</td>\n      <td>111.936256</td>\n      <td>156.150772</td>\n      <td>-1.0</td>\n      <td>B1</td>\n      <td>5e1580d1f4c3420006d520e4</td>\n      <td>5a0546857ecc773753327266</td>\n      <td>-5471</td>\n      <td>29</td>\n    </tr>\n    <tr>\n      <th>3</th>\n      <td>3</td>\n      <td>356d66c73c423be835bd5d07cb1ebdfa821d8e23</td>\n      <td>f44fa6118fed7198296c8b45b2f2684903d99620</td>\n      <td>5a368e0bd5050bdb4653dc39c86bee1fd2b8aeb7</td>\n      <td>990847ae755de95a44c7b1be54e66f4e56fdc7f4</td>\n      <td>da39a3ee5e6b4b0d3255bfef95601890afd80709</td>\n      <td>b6ffe5619e02871fcd04f61c9bb4b5c53a3f46b7</td>\n      <td>b7e6027447eb1f81327d66cfd3adbe557aabf26c</td>\n      <td>3fa90121039c7b6e24ae985d228e0366ae15fba4</td>\n      <td>d839a45ebe64ab48b60a407d837fb01d3c0dfef9</td>\n      <td>...</td>\n      <td>156.842239</td>\n      <td>1578466140278</td>\n      <td>110.976761</td>\n      <td>155.874176</td>\n      <td>-1.0</td>\n      <td>B1</td>\n      <td>5e1580d1f4c3420006d520e4</td>\n      <td>5a0546857ecc773753327266</td>\n      <td>-7428</td>\n      <td>72</td>\n    </tr>\n    <tr>\n      <th>4</th>\n      <td>4</td>\n      <td>f44fa6118fed7198296c8b45b2f2684903d99620</td>\n      <td>356d66c73c423be835bd5d07cb1ebdfa821d8e23</td>\n      <td>990847ae755de95a44c7b1be54e66f4e56fdc7f4</td>\n      <td>c3513a636d1a813db081a2ffc33f297b4fefe28d</td>\n      <td>d839a45ebe64ab48b60a407d837fb01d3c0dfef9</td>\n      <td>b7e6027447eb1f81327d66cfd3adbe557aabf26c</td>\n      <td>7182afc4e5c212133d5d7d76eb3df6c24618302b</td>\n      <td>b9f0208be00bd8b337be7f12e02e3a3ce846e22b</td>\n      <td>b6ffe5619e02871fcd04f61c9bb4b5c53a3f46b7</td>\n      <td>...</td>\n      <td>154.629517</td>\n      <td>1578466142278</td>\n      <td>110.017258</td>\n      <td>155.597580</td>\n      <td>-1.0</td>\n      <td>B1</td>\n      <td>5e1580d1f4c3420006d520e4</td>\n      <td>5a0546857ecc773753327266</td>\n      <td>7401</td>\n      <td>105</td>\n    </tr>\n    <tr>\n      <th>...</th>\n      <td>...</td>\n      <td>...</td>\n      <td>...</td>\n      <td>...</td>\n      <td>...</td>\n      <td>...</td>\n      <td>...</td>\n      <td>...</td>\n      <td>...</td>\n      <td>...</td>\n      <td>...</td>\n      <td>...</td>\n      <td>...</td>\n      <td>...</td>\n      <td>...</td>\n      <td>...</td>\n      <td>...</td>\n      <td>...</td>\n      <td>...</td>\n      <td>...</td>\n      <td>...</td>\n    </tr>\n    <tr>\n      <th>244340</th>\n      <td>252807</td>\n      <td>18336f0964fbd470a2ee7116d33b96946c633999</td>\n      <td>072159287058774aa9b450c9163129b309bc982b</td>\n      <td>18336f0964fbd470a2ee7116d33b96946c633999</td>\n      <td>040667e2fdd3a9bbb54e970c430ad6f08416c52e</td>\n      <td>072159287058774aa9b450c9163129b309bc982b</td>\n      <td>da39a3ee5e6b4b0d3255bfef95601890afd80709</td>\n      <td>da39a3ee5e6b4b0d3255bfef95601890afd80709</td>\n      <td>da39a3ee5e6b4b0d3255bfef95601890afd80709</td>\n      <td>da39a3ee5e6b4b0d3255bfef95601890afd80709</td>\n      <td>...</td>\n      <td>107.011642</td>\n      <td>1573892866000</td>\n      <td>128.925217</td>\n      <td>109.018059</td>\n      <td>6.0</td>\n      <td>F7</td>\n      <td>5dcfb393878f3300066c70a6</td>\n      <td>5dc8cea7659e181adb076a3f</td>\n      <td>-2224</td>\n      <td>38</td>\n    </tr>\n    <tr>\n      <th>244341</th>\n      <td>252808</td>\n      <td>18336f0964fbd470a2ee7116d33b96946c633999</td>\n      <td>18336f0964fbd470a2ee7116d33b96946c633999</td>\n      <td>072159287058774aa9b450c9163129b309bc982b</td>\n      <td>072159287058774aa9b450c9163129b309bc982b</td>\n      <td>ea9e102c49dbc834b1059c5e8b5dc4a017a82dff</td>\n      <td>040667e2fdd3a9bbb54e970c430ad6f08416c52e</td>\n      <td>da39a3ee5e6b4b0d3255bfef95601890afd80709</td>\n      <td>ea9e102c49dbc834b1059c5e8b5dc4a017a82dff</td>\n      <td>da39a3ee5e6b4b0d3255bfef95601890afd80709</td>\n      <td>...</td>\n      <td>111.526085</td>\n      <td>1573892868000</td>\n      <td>130.645798</td>\n      <td>110.522873</td>\n      <td>6.0</td>\n      <td>F7</td>\n      <td>5dcfb393878f3300066c70a6</td>\n      <td>5dc8cea7659e181adb076a3f</td>\n      <td>1098</td>\n      <td>126</td>\n    </tr>\n    <tr>\n      <th>244342</th>\n      <td>252809</td>\n      <td>18336f0964fbd470a2ee7116d33b96946c633999</td>\n      <td>18336f0964fbd470a2ee7116d33b96946c633999</td>\n      <td>072159287058774aa9b450c9163129b309bc982b</td>\n      <td>ea9e102c49dbc834b1059c5e8b5dc4a017a82dff</td>\n      <td>072159287058774aa9b450c9163129b309bc982b</td>\n      <td>040667e2fdd3a9bbb54e970c430ad6f08416c52e</td>\n      <td>1f09251bbfadafb11c63c87963af25238d6bc886</td>\n      <td>da39a3ee5e6b4b0d3255bfef95601890afd80709</td>\n      <td>da39a3ee5e6b4b0d3255bfef95601890afd80709</td>\n      <td>...</td>\n      <td>111.526085</td>\n      <td>1573892870000</td>\n      <td>132.872238</td>\n      <td>112.610954</td>\n      <td>6.0</td>\n      <td>F7</td>\n      <td>5dcfb393878f3300066c70a6</td>\n      <td>5dc8cea7659e181adb076a3f</td>\n      <td>-790</td>\n      <td>238</td>\n    </tr>\n    <tr>\n      <th>244343</th>\n      <td>252810</td>\n      <td>18336f0964fbd470a2ee7116d33b96946c633999</td>\n      <td>18336f0964fbd470a2ee7116d33b96946c633999</td>\n      <td>072159287058774aa9b450c9163129b309bc982b</td>\n      <td>040667e2fdd3a9bbb54e970c430ad6f08416c52e</td>\n      <td>da39a3ee5e6b4b0d3255bfef95601890afd80709</td>\n      <td>072159287058774aa9b450c9163129b309bc982b</td>\n      <td>90ef6526fa145d95dc065edc3b3a3193406f3ee4</td>\n      <td>ea9e102c49dbc834b1059c5e8b5dc4a017a82dff</td>\n      <td>1f09251bbfadafb11c63c87963af25238d6bc886</td>\n      <td>...</td>\n      <td>116.407990</td>\n      <td>1573892871500</td>\n      <td>133.951599</td>\n      <td>113.695824</td>\n      <td>6.0</td>\n      <td>F7</td>\n      <td>5dcfb393878f3300066c70a6</td>\n      <td>5dc8cea7659e181adb076a3f</td>\n      <td>2619</td>\n      <td>-187</td>\n    </tr>\n    <tr>\n      <th>244344</th>\n      <td>252811</td>\n      <td>18336f0964fbd470a2ee7116d33b96946c633999</td>\n      <td>90ef6526fa145d95dc065edc3b3a3193406f3ee4</td>\n      <td>040667e2fdd3a9bbb54e970c430ad6f08416c52e</td>\n      <td>18336f0964fbd470a2ee7116d33b96946c633999</td>\n      <td>da39a3ee5e6b4b0d3255bfef95601890afd80709</td>\n      <td>072159287058774aa9b450c9163129b309bc982b</td>\n      <td>ea9e102c49dbc834b1059c5e8b5dc4a017a82dff</td>\n      <td>072159287058774aa9b450c9163129b309bc982b</td>\n      <td>1f09251bbfadafb11c63c87963af25238d6bc886</td>\n      <td>...</td>\n      <td>116.407990</td>\n      <td>1573892873500</td>\n      <td>136.110352</td>\n      <td>115.865555</td>\n      <td>6.0</td>\n      <td>F7</td>\n      <td>5dcfb393878f3300066c70a6</td>\n      <td>5dc8cea7659e181adb076a3f</td>\n      <td>730</td>\n      <td>-76</td>\n    </tr>\n  </tbody>\n</table>\n<p>244345 rows × 513 columns</p>\n</div>"
     },
     "metadata": {},
     "execution_count": 12
    }
   ],
   "source": [
    "train_df = train_df[~train_df['id'].isin(remove_id)].reset_index(drop=True)\n",
    "train_df"
   ]
  },
  {
   "cell_type": "code",
   "execution_count": 13,
   "metadata": {},
   "outputs": [],
   "source": [
    "# training target features\n",
    "NUM_FEATS = 80\n",
    "BSSID_FEATS = [f'bssid_{i}' for i in range(NUM_FEATS)]\n",
    "RSSI_FEATS  = [f'rssi_{i}' for i in range(NUM_FEATS)]\n",
    "TIMEDIFF_FEATS  = [f'timediff_{i}' for i in range(NUM_FEATS)]"
   ]
  },
  {
   "cell_type": "markdown",
   "metadata": {},
   "source": [
    "bssid_NはN個目のBSSIDを示しておりRSSI値が大きい順に番号が振られている。\n",
    "100個しかない"
   ]
  },
  {
   "cell_type": "code",
   "execution_count": 14,
   "metadata": {},
   "outputs": [
    {
     "output_type": "stream",
     "name": "stdout",
     "text": [
      "BSSID TYPES(train): 66093\n",
      "BSSID TYPES(test): 31855\n",
      "BSSID TYPES(all): 66177\n"
     ]
    }
   ],
   "source": [
    "# get numbers of bssids to embed them in a layer\n",
    "\n",
    "# train\n",
    "wifi_bssids = []\n",
    "# bssidを列ごとにリストに入れていく\n",
    "for i in range(100, 200):\n",
    "    wifi_bssids.extend(train_df.iloc[:,i].values.tolist())\n",
    "wifi_bssids = list(set(wifi_bssids))\n",
    "\n",
    "train_wifi_bssids_size = len(wifi_bssids)\n",
    "print(f'BSSID TYPES(train): {train_wifi_bssids_size}')\n",
    "\n",
    "# test\n",
    "wifi_bssids_test = []\n",
    "for i in range(100, 200):\n",
    "    wifi_bssids_test.extend(test_df.iloc[:,i].values.tolist())\n",
    "wifi_bssids_test = list(set(wifi_bssids_test))\n",
    "\n",
    "test_wifi_bssids_size = len(wifi_bssids_test)\n",
    "print(f'BSSID TYPES(test): {test_wifi_bssids_size}')\n",
    "\n",
    "\n",
    "wifi_bssids.extend(wifi_bssids_test)\n",
    "wifi_bssids = list(set(wifi_bssids))\n",
    "wifi_bssids_size = len(wifi_bssids)\n",
    "print(f'BSSID TYPES(all): {wifi_bssids_size}')\n"
   ]
  },
  {
   "cell_type": "code",
   "execution_count": 15,
   "metadata": {},
   "outputs": [
    {
     "output_type": "stream",
     "name": "stdout",
     "text": [
      "RSSI TYPES(train): 95\nRSSI TYPES(test): 82\nRSSI TYPES(all): 177\n"
     ]
    }
   ],
   "source": [
    "# get numbers of bssids to embed them in a layer\n",
    "\n",
    "# train\n",
    "rssi_bssids = []\n",
    "# bssidを列ごとにリストに入れていく\n",
    "for i in RSSI_FEATS:\n",
    "    rssi_bssids.extend(train_df.loc[:,i].values.tolist())\n",
    "rssi_bssids = list(set(rssi_bssids))\n",
    "\n",
    "train_rssi_bssids_size = len(rssi_bssids)\n",
    "print(f'RSSI TYPES(train): {train_rssi_bssids_size}')\n",
    "\n",
    "# test\n",
    "rssi_bssids_test = []\n",
    "for i in RSSI_FEATS:\n",
    "    rssi_bssids_test.extend(test_df.loc[:,i].values.tolist())\n",
    "rssi_bssids_test = list(set(rssi_bssids_test))\n",
    "\n",
    "test_rssi_bssids_size = len(rssi_bssids_test)\n",
    "print(f'RSSI TYPES(test): {test_rssi_bssids_size}')\n",
    "\n",
    "\n",
    "rssi_bssids.extend(rssi_bssids_test)\n",
    "rssi_bssids_size = len(rssi_bssids)\n",
    "print(f'RSSI TYPES(all): {rssi_bssids_size}')"
   ]
  },
  {
   "cell_type": "markdown",
   "metadata": {},
   "source": [
    "## preprocessing"
   ]
  },
  {
   "cell_type": "code",
   "execution_count": 16,
   "metadata": {},
   "outputs": [],
   "source": [
    "# preprocess\n",
    "\n",
    "le = LabelEncoder()\n",
    "le.fit(wifi_bssids)\n",
    "le_site = LabelEncoder()\n",
    "le_site.fit(train_df['site_id'])\n",
    "le_rssi = LabelEncoder()\n",
    "le_rssi.fit(rssi_bssids)\n",
    "\n",
    "ss = StandardScaler()\n",
    "ss.fit(train_df.loc[:,RSSI_FEATS])\n",
    "\n",
    "\n",
    "def preprocess(input_df, le=le, le_site=le_site, ss=ss):\n",
    "    output_df = input_df.copy()\n",
    "    # RSSIの正規化\n",
    "    output_df.loc[:,RSSI_FEATS] = ss.transform(input_df.loc[:,RSSI_FEATS])\n",
    "\n",
    "    # BSSIDのLE(1からふる)\n",
    "    for i in BSSID_FEATS:\n",
    "        output_df.loc[:,i] = le.transform(input_df.loc[:,i])\n",
    "        # output_df.loc[:,i] = output_df.loc[:,i] + 1  # 0からではなく1から番号を振りたいため なぜ？ embeddingのpadding用のダミー変数？\n",
    "    for i in RSSI_FEATS:\n",
    "        output_df.loc[:,i] = le_rssi.transform(input_df.loc[:,i])\n",
    "\n",
    "    # site_idのLE\n",
    "    output_df['site_id_str'] = input_df['site_id'].copy()\n",
    "    output_df.loc[:, 'site_id'] = le_site.transform(input_df.loc[:, 'site_id'])\n",
    "\n",
    "    # なぜ２重でやる？\n",
    "    # output_df.loc[:,RSSI_FEATS] = ss.transform(output_df.loc[:,RSSI_FEATS])\n",
    "    return output_df\n",
    "\n",
    "train = preprocess(train_df)\n",
    "test = preprocess(test_df)"
   ]
  },
  {
   "cell_type": "code",
   "execution_count": 17,
   "metadata": {},
   "outputs": [
    {
     "output_type": "execute_result",
     "data": {
      "text/plain": [
       "24"
      ]
     },
     "metadata": {},
     "execution_count": 17
    }
   ],
   "source": [
    "site_count = len(train['site_id'].unique())\n",
    "site_count"
   ]
  },
  {
   "cell_type": "markdown",
   "metadata": {},
   "source": [
    "## PyTorch model\n",
    "- embedding layerが重要  "
   ]
  },
  {
   "cell_type": "code",
   "execution_count": 18,
   "metadata": {},
   "outputs": [],
   "source": [
    "# dataset\n",
    "from torch.utils.data import Dataset, DataLoader\n",
    "class IndoorDataset(Dataset):\n",
    "    def __init__(self, df, phase='train'):\n",
    "        self.df = df\n",
    "        self.phase = phase\n",
    "        self.bssid_feats = df[BSSID_FEATS].values.astype(int)\n",
    "        self.rssi_feats = df[RSSI_FEATS].values.astype(np.float32)\n",
    "        self.site_id = df['site_id'].values.astype(int)\n",
    "\n",
    "        if phase in ['train', 'valid']:\n",
    "            self.xy = df[['x', 'y']].values.astype(np.float32)\n",
    "            self.ixy = df[['ix', 'iy']].values.astype(np.float32)\n",
    "            self.floor = df['floor'].values.astype(np.float32)\n",
    "            timediff = df['timediff'].astype(np.float32).abs().values\n",
    "            self.weight = 1- (timediff/np.max(timediff))  # lossにかける重み。timediffが大きいほど小さくなる\n",
    "        \n",
    "    def __len__(self):\n",
    "        return self.df.shape[0]\n",
    "\n",
    "    def __getitem__(self, idx):\n",
    "    \n",
    "        concat_feat = np.empty(2 * NUM_FEATS).astype(int)\n",
    "        concat_feat[0::2] = self.bssid_feats[idx]\n",
    "        concat_feat[1::2] = self.rssi_feats[idx]\n",
    "        \n",
    "        feature = {\n",
    "            'RSSI_BSSID_FEATS':concat_feat,\n",
    "            'site_id':self.site_id[idx]\n",
    "        }\n",
    "        if self.phase in ['train', 'valid']:\n",
    "            target = {\n",
    "                'xy':self.xy[idx],\n",
    "                'ixy':self.ixy[idx],\n",
    "                'floor':self.floor[idx],\n",
    "                'weight': self.weight[idx]\n",
    "            }\n",
    "        else:\n",
    "            target = {}\n",
    "        return feature, target"
   ]
  },
  {
   "cell_type": "code",
   "execution_count": 19,
   "metadata": {},
   "outputs": [],
   "source": [
    "import torch\n",
    "from torch import nn\n",
    "\n",
    "class LSTMModel(nn.Module):\n",
    "    def __init__(self, wifi_bssids_size, site_count=24, embedding_dim=64):\n",
    "        super(LSTMModel, self).__init__()\n",
    "        # bssid\n",
    "        # ->64次元に圧縮後sequence化にする\n",
    "        # wifi_bssids_sizeが辞書の数を表す\n",
    "        self.embedding_layer1 = nn.Sequential(\n",
    "            nn.Embedding(wifi_bssids_size, embedding_dim),\n",
    "            nn.Flatten(start_dim=-2)            \n",
    "        )\n",
    "        # site\n",
    "        # ->2次元に圧縮後sequence化する\n",
    "        # site_countが辞書の数を表す\n",
    "        self.embedding_layer2 = nn.Sequential(\n",
    "            nn.Embedding(site_count, 64),\n",
    "            nn.Flatten(start_dim=-1)           \n",
    "        )\n",
    "\n",
    "        # bssid, site, rssiの出力size\n",
    "        # feature_size = 2 + (2 * NUM_FEATS * embedding_dim)\n",
    "        feature_size = 64 + (2 * NUM_FEATS * 64)\n",
    "        self.linear_layer2 = nn.Sequential(\n",
    "            nn.BatchNorm1d(feature_size),\n",
    "            nn.Dropout(0.3),\n",
    "            nn.Linear(feature_size, 256),\n",
    "            nn.ReLU()\n",
    "        )\n",
    "\n",
    "        self.batch_norm1 = nn.BatchNorm1d(1)\n",
    "        self.lstm1 = nn.LSTM(input_size=256,hidden_size=128,dropout=0.3, batch_first=True)\n",
    "        self.lstm2 = nn.LSTM(input_size=128,hidden_size=16,dropout=0.1, batch_first=True)\n",
    "\n",
    "        self.fc_xy = nn.Linear(16, 2)\n",
    "        self.fc_floor = nn.Linear(16, 1)\n",
    "\n",
    "    \n",
    "    def forward(self, x):\n",
    "        # input embedding\n",
    "        batch_size = x[\"site_id\"].shape[0]\n",
    "        x_rssi_bssid = self.embedding_layer1(x['RSSI_BSSID_FEATS'])\n",
    "        x_site_id = self.embedding_layer2(x['site_id'])\n",
    "        # x_rssi = self.linear_layer1(x['RSSI_FEATS'])\n",
    "        x = torch.cat([x_rssi_bssid, x_site_id], dim=-1)\n",
    "        x = self.linear_layer2(x)\n",
    "\n",
    "        # lstm layer\n",
    "        x = x.view(batch_size, 1, -1)  # [batch, 1]->[batch, 1, 1]\n",
    "        x = self.batch_norm1(x)\n",
    "        x, _ = self.lstm1(x)\n",
    "        x = torch.relu(x)\n",
    "        x, _ = self.lstm2(x)\n",
    "        x = torch.relu(x)\n",
    "\n",
    "        # output [batch, 1, 1] -> [batch]\n",
    "        xy = self.fc_xy(x).squeeze(1)\n",
    "        floor = torch.relu(self.fc_floor(x)).view(-1)\n",
    "        return {\"xy\": xy, \"floor\": floor}"
   ]
  },
  {
   "cell_type": "code",
   "execution_count": 20,
   "metadata": {},
   "outputs": [],
   "source": [
    "def mean_position_error(xhat, yhat, fhat, x, y, f):\n",
    "    intermediate = np.sqrt(np.power(xhat-x, 2) + np.power(yhat-y, 2)) + 15 * np.abs(fhat-f)\n",
    "    return intermediate.sum()/xhat.shape[0]\n",
    "\n",
    "def to_np(input):\n",
    "    return input.detach().cpu().numpy()"
   ]
  },
  {
   "cell_type": "code",
   "execution_count": 21,
   "metadata": {},
   "outputs": [],
   "source": [
    "class WeightedMSELoss(nn.Module):\n",
    "    def __init__(self):\n",
    "        super().__init__()\n",
    "        self.loss = nn.MSELoss(reduction='none')\n",
    "\n",
    "    def forward(self, input, target, weight):  # weight:timediffによる重みづけ\n",
    "        input = input.float()\n",
    "        target = target.float()\n",
    "        weight = torch.stack((weight, weight), 1).float()  # x,y分でstack\n",
    "        loss = self.loss(input, target) * weight  # timediffが大きいもののlossはあまり計算しないようにする\n",
    "        return loss.mean()"
   ]
  },
  {
   "cell_type": "code",
   "execution_count": 22,
   "metadata": {},
   "outputs": [],
   "source": [
    "def get_optimizer(model: nn.Module, config: dict):\n",
    "    optimizer_config = config[\"optimizer\"]\n",
    "    optimizer_name = optimizer_config.get(\"name\")\n",
    "    base_optimizer_name = optimizer_config.get(\"base_name\")\n",
    "    optimizer_params = optimizer_config['params']\n",
    "\n",
    "    if hasattr(optim, optimizer_name):\n",
    "        optimizer = optim.__getattribute__(optimizer_name)(model.parameters(), **optimizer_params)\n",
    "        return optimizer\n",
    "    else:\n",
    "        base_optimizer = optim.__getattribute__(base_optimizer_name)\n",
    "        optimizer = globals().get(optimizer_name)(\n",
    "            model.parameters(), \n",
    "            base_optimizer,\n",
    "            **optimizer_config[\"params\"])\n",
    "        return  optimizer\n",
    "\n",
    "def get_scheduler(optimizer, config: dict):\n",
    "    scheduler_config = config[\"scheduler\"]\n",
    "    scheduler_name = scheduler_config.get(\"name\")\n",
    "\n",
    "    if scheduler_name is None:\n",
    "        return\n",
    "    else:\n",
    "        return optim.lr_scheduler.__getattribute__(scheduler_name)(\n",
    "            optimizer, **scheduler_config[\"params\"])\n",
    "\n",
    "\n",
    "def get_criterion(config: dict):\n",
    "    loss_config = config[\"loss\"]\n",
    "    loss_name = loss_config[\"name\"]\n",
    "    loss_params = {} if loss_config.get(\"params\") is None else loss_config.get(\"params\")\n",
    "    \n",
    "    \n",
    "    if hasattr(nn, loss_name):\n",
    "        criterion = nn.__getattribute__(loss_name)(**loss_params)\n",
    "    else:\n",
    "        criterion = globals().get(loss_name)(**loss_params)\n",
    "\n",
    "    return criterion\n",
    "\n",
    "def worker_init_fn(worker_id):                                                          \n",
    "    np.random.seed(np.random.get_state()[1][0] + worker_id)"
   ]
  },
  {
   "cell_type": "code",
   "execution_count": 23,
   "metadata": {},
   "outputs": [],
   "source": [
    "# Learner class(pytorch-lighting)\n",
    "class Learner(pl.LightningModule):\n",
    "    def __init__(self, model, config):\n",
    "        super().__init__()\n",
    "        self.model = model\n",
    "        self.config = config\n",
    "        self.xy_criterion = get_criterion(config)\n",
    "        self.f_criterion = nn.MSELoss()\n",
    "    \n",
    "    def training_step(self, batch, batch_idx):\n",
    "        x, y = batch\n",
    "\n",
    "        output = self.model(x)\n",
    "        xy_loss = self.xy_criterion(output[\"xy\"], y[\"ixy\"], y['weight'])\n",
    "        floor_loss = self.f_criterion(output[\"floor\"], y[\"floor\"])\n",
    "        loss = xy_loss + floor_loss\n",
    "        return loss\n",
    "    \n",
    "    def validation_step(self, batch, batch_idx):\n",
    "        x, y = batch\n",
    "        output = self.model(x)\n",
    "        xy_loss = self.xy_criterion(output[\"xy\"], y[\"ixy\"], y['weight'])\n",
    "        f_loss = self.f_criterion(output[\"floor\"], y[\"floor\"])\n",
    "        loss = xy_loss + f_loss\n",
    "        mpe = mean_position_error(\n",
    "            to_np(output['xy'][:, 0]), to_np(output['xy'][:, 1]), 0, \n",
    "            to_np(y['xy'][:, 0]), to_np(y['xy'][:, 1]), 0)\n",
    "\n",
    "        impe = mean_position_error(\n",
    "            to_np(output['xy'][:, 0]), to_np(output['xy'][:, 1]), 0, \n",
    "            to_np(y['ixy'][:, 0]), to_np(y['ixy'][:, 1]), 0)\n",
    "\n",
    "        # floor lossは現状は無視して良い\n",
    "        self.log(f'Loss/val', loss, on_step=False, on_epoch=True, prog_bar=False, logger=True)\n",
    "        self.log(f'Loss/xy', xy_loss, on_step=False, on_epoch=True, prog_bar=False, logger=True)\n",
    "        self.log(f'Loss/floor', f_loss, on_step=False, on_epoch=True, prog_bar=False, logger=True)\n",
    "        self.log(f'MPE/val', mpe, on_step=False, on_epoch=True, prog_bar=False, logger=True)\n",
    "        self.log(f'iMPE/val', impe, on_step=False, on_epoch=True, prog_bar=False, logger=True)\n",
    "        return loss\n",
    "\n",
    "    def configure_optimizers(self):\n",
    "        optimizer = get_optimizer(self.model, self.config)\n",
    "        scheduler = get_scheduler(optimizer, self.config)\n",
    "        return {\"optimizer\": optimizer, \"lr_scheduler\": scheduler, \"monitor\": \"Loss/val\"}"
   ]
  },
  {
   "cell_type": "code",
   "execution_count": 24,
   "metadata": {},
   "outputs": [],
   "source": [
    "# oof\n",
    "def evaluate(model, loaders, phase):\n",
    "    x_list = []\n",
    "    y_list = []\n",
    "    f_list = []\n",
    "    with torch.no_grad():\n",
    "        for batch in loaders[phase]:\n",
    "            x, y = batch\n",
    "            output = model(x)\n",
    "            x_list.append(to_np(output['xy'][:, 0]))\n",
    "            y_list.append(to_np(output['xy'][:, 1]))\n",
    "            f_list.append(to_np(output['floor']))\n",
    "\n",
    "    x_list = np.concatenate(x_list)\n",
    "    y_list = np.concatenate(y_list)\n",
    "    f_list = np.concatenate(f_list)\n",
    "    return x_list, y_list, f_list"
   ]
  },
  {
   "cell_type": "markdown",
   "metadata": {},
   "source": [
    "## train"
   ]
  },
  {
   "cell_type": "code",
   "execution_count": 25,
   "metadata": {
    "tags": []
   },
   "outputs": [
    {
     "output_type": "stream",
     "name": "stdout",
     "text": [
      "====================\n",
      "Fold 0\n",
      "====================\n",
      "/usr/local/lib/python3.8/dist-packages/torch/nn/modules/rnn.py:58: UserWarning: dropout option adds dropout after all but last recurrent layer, so non-zero dropout expects num_layers greater than 1, but got dropout=0.3 and num_layers=1\n",
      "  warnings.warn(\"dropout option adds dropout after all but last \"\n",
      "/usr/local/lib/python3.8/dist-packages/torch/nn/modules/rnn.py:58: UserWarning: dropout option adds dropout after all but last recurrent layer, so non-zero dropout expects num_layers greater than 1, but got dropout=0.1 and num_layers=1\n",
      "  warnings.warn(\"dropout option adds dropout after all but last \"\n",
      "Failed to detect the name of this notebook, you can set it manually with the WANDB_NOTEBOOK_NAME environment variable to enable code saving.\n",
      "\u001b[34m\u001b[1mwandb\u001b[0m: Currently logged in as: \u001b[33mkuto5046\u001b[0m (use `wandb login --relogin` to force relogin)\n",
      "\u001b[34m\u001b[1mwandb\u001b[0m: wandb version 0.10.27 is available!  To upgrade, please run:\n",
      "\u001b[34m\u001b[1mwandb\u001b[0m:  $ pip install wandb --upgrade\n"
     ]
    },
    {
     "output_type": "display_data",
     "data": {
      "text/plain": "<IPython.core.display.HTML object>",
      "text/html": "\n                Tracking run with wandb version 0.10.22<br/>\n                Syncing run <strong style=\"color:#cdcd00\">winter-thunder-665</strong> to <a href=\"https://wandb.ai\" target=\"_blank\">Weights & Biases</a> <a href=\"https://docs.wandb.com/integrations/jupyter.html\" target=\"_blank\">(Documentation)</a>.<br/>\n                Project page: <a href=\"https://wandb.ai/kuto5046/indoor\" target=\"_blank\">https://wandb.ai/kuto5046/indoor</a><br/>\n                Run page: <a href=\"https://wandb.ai/kuto5046/indoor/runs/13t120oo\" target=\"_blank\">https://wandb.ai/kuto5046/indoor/runs/13t120oo</a><br/>\n                Run data is saved locally in <code>/home/user/work/exp/exp041/wandb/run-20210429_022327-13t120oo</code><br/><br/>\n            "
     },
     "metadata": {}
    },
    {
     "output_type": "stream",
     "name": "stdout",
     "text": [
      "fold 0: mean position error 6.431980140784546\nfold 0: mean position error 6.087040096994004\n"
     ]
    },
    {
     "output_type": "display_data",
     "data": {
      "text/plain": "<IPython.core.display.HTML object>",
      "text/html": "<br/>Waiting for W&B process to finish, PID 739052<br/>Program ended successfully."
     },
     "metadata": {}
    },
    {
     "output_type": "display_data",
     "data": {
      "text/plain": "VBox(children=(Label(value=' 0.00MB of 0.00MB uploaded (0.00MB deduped)\\r'), FloatProgress(value=1.0, max=1.0)…",
      "application/vnd.jupyter.widget-view+json": {
       "version_major": 2,
       "version_minor": 0,
       "model_id": "eff0ec305f7c4b79a0551711002474c2"
      }
     },
     "metadata": {}
    },
    {
     "output_type": "display_data",
     "data": {
      "text/plain": "<IPython.core.display.HTML object>",
      "text/html": "Find user logs for this run at: <code>/home/user/work/exp/exp041/wandb/run-20210429_022327-13t120oo/logs/debug.log</code>"
     },
     "metadata": {}
    },
    {
     "output_type": "display_data",
     "data": {
      "text/plain": "<IPython.core.display.HTML object>",
      "text/html": "Find internal logs for this run at: <code>/home/user/work/exp/exp041/wandb/run-20210429_022327-13t120oo/logs/debug-internal.log</code>"
     },
     "metadata": {}
    },
    {
     "output_type": "display_data",
     "data": {
      "text/plain": "<IPython.core.display.HTML object>",
      "text/html": "Synced 5 W&B file(s), 0 media file(s), 0 artifact file(s) and 0 other file(s)"
     },
     "metadata": {}
    },
    {
     "output_type": "display_data",
     "data": {
      "text/plain": "<IPython.core.display.HTML object>",
      "text/html": "\n                    <br/>Synced <strong style=\"color:#cdcd00\">winter-thunder-665</strong>: <a href=\"https://wandb.ai/kuto5046/indoor/runs/13t120oo\" target=\"_blank\">https://wandb.ai/kuto5046/indoor/runs/13t120oo</a><br/>\n                "
     },
     "metadata": {}
    },
    {
     "output_type": "stream",
     "name": "stdout",
     "text": [
      "====================\n",
      "Fold 1\n",
      "====================\n",
      "\u001b[34m\u001b[1mwandb\u001b[0m: wandb version 0.10.27 is available!  To upgrade, please run:\n",
      "\u001b[34m\u001b[1mwandb\u001b[0m:  $ pip install wandb --upgrade\n"
     ]
    },
    {
     "output_type": "display_data",
     "data": {
      "text/plain": "<IPython.core.display.HTML object>",
      "text/html": "\n                Tracking run with wandb version 0.10.22<br/>\n                Syncing run <strong style=\"color:#cdcd00\">dutiful-sun-666</strong> to <a href=\"https://wandb.ai\" target=\"_blank\">Weights & Biases</a> <a href=\"https://docs.wandb.com/integrations/jupyter.html\" target=\"_blank\">(Documentation)</a>.<br/>\n                Project page: <a href=\"https://wandb.ai/kuto5046/indoor\" target=\"_blank\">https://wandb.ai/kuto5046/indoor</a><br/>\n                Run page: <a href=\"https://wandb.ai/kuto5046/indoor/runs/13763e0n\" target=\"_blank\">https://wandb.ai/kuto5046/indoor/runs/13763e0n</a><br/>\n                Run data is saved locally in <code>/home/user/work/exp/exp041/wandb/run-20210429_022341-13763e0n</code><br/><br/>\n            "
     },
     "metadata": {}
    },
    {
     "output_type": "stream",
     "name": "stdout",
     "text": [
      "fold 1: mean position error 6.563466231148581\nfold 1: mean position error 6.25693499457734\n"
     ]
    },
    {
     "output_type": "display_data",
     "data": {
      "text/plain": "<IPython.core.display.HTML object>",
      "text/html": "<br/>Waiting for W&B process to finish, PID 739799<br/>Program ended successfully."
     },
     "metadata": {}
    },
    {
     "output_type": "display_data",
     "data": {
      "text/plain": "VBox(children=(Label(value=' 0.00MB of 0.00MB uploaded (0.00MB deduped)\\r'), FloatProgress(value=1.0, max=1.0)…",
      "application/vnd.jupyter.widget-view+json": {
       "version_major": 2,
       "version_minor": 0,
       "model_id": "f28a868a0323436c9b07521a729bef3e"
      }
     },
     "metadata": {}
    },
    {
     "output_type": "display_data",
     "data": {
      "text/plain": "<IPython.core.display.HTML object>",
      "text/html": "Find user logs for this run at: <code>/home/user/work/exp/exp041/wandb/run-20210429_022341-13763e0n/logs/debug.log</code>"
     },
     "metadata": {}
    },
    {
     "output_type": "display_data",
     "data": {
      "text/plain": "<IPython.core.display.HTML object>",
      "text/html": "Find internal logs for this run at: <code>/home/user/work/exp/exp041/wandb/run-20210429_022341-13763e0n/logs/debug-internal.log</code>"
     },
     "metadata": {}
    },
    {
     "output_type": "display_data",
     "data": {
      "text/plain": "<IPython.core.display.HTML object>",
      "text/html": "Synced 5 W&B file(s), 0 media file(s), 0 artifact file(s) and 0 other file(s)"
     },
     "metadata": {}
    },
    {
     "output_type": "display_data",
     "data": {
      "text/plain": "<IPython.core.display.HTML object>",
      "text/html": "\n                    <br/>Synced <strong style=\"color:#cdcd00\">dutiful-sun-666</strong>: <a href=\"https://wandb.ai/kuto5046/indoor/runs/13763e0n\" target=\"_blank\">https://wandb.ai/kuto5046/indoor/runs/13763e0n</a><br/>\n                "
     },
     "metadata": {}
    },
    {
     "output_type": "stream",
     "name": "stdout",
     "text": [
      "====================\n",
      "Fold 2\n",
      "====================\n",
      "\u001b[34m\u001b[1mwandb\u001b[0m: wandb version 0.10.27 is available!  To upgrade, please run:\n",
      "\u001b[34m\u001b[1mwandb\u001b[0m:  $ pip install wandb --upgrade\n"
     ]
    },
    {
     "output_type": "display_data",
     "data": {
      "text/plain": "<IPython.core.display.HTML object>",
      "text/html": "\n                Tracking run with wandb version 0.10.22<br/>\n                Syncing run <strong style=\"color:#cdcd00\">warm-durian-667</strong> to <a href=\"https://wandb.ai\" target=\"_blank\">Weights & Biases</a> <a href=\"https://docs.wandb.com/integrations/jupyter.html\" target=\"_blank\">(Documentation)</a>.<br/>\n                Project page: <a href=\"https://wandb.ai/kuto5046/indoor\" target=\"_blank\">https://wandb.ai/kuto5046/indoor</a><br/>\n                Run page: <a href=\"https://wandb.ai/kuto5046/indoor/runs/2n8rsno1\" target=\"_blank\">https://wandb.ai/kuto5046/indoor/runs/2n8rsno1</a><br/>\n                Run data is saved locally in <code>/home/user/work/exp/exp041/wandb/run-20210429_022354-2n8rsno1</code><br/><br/>\n            "
     },
     "metadata": {}
    },
    {
     "output_type": "stream",
     "name": "stdout",
     "text": [
      "fold 2: mean position error 6.365289728662342\nfold 2: mean position error 6.039800921852299\n"
     ]
    },
    {
     "output_type": "display_data",
     "data": {
      "text/plain": "<IPython.core.display.HTML object>",
      "text/html": "<br/>Waiting for W&B process to finish, PID 740523<br/>Program ended successfully."
     },
     "metadata": {}
    },
    {
     "output_type": "display_data",
     "data": {
      "text/plain": "VBox(children=(Label(value=' 0.00MB of 0.00MB uploaded (0.00MB deduped)\\r'), FloatProgress(value=1.0, max=1.0)…",
      "application/vnd.jupyter.widget-view+json": {
       "version_major": 2,
       "version_minor": 0,
       "model_id": "8fe8c4b0218040fba3082662828b8b9f"
      }
     },
     "metadata": {}
    },
    {
     "output_type": "display_data",
     "data": {
      "text/plain": "<IPython.core.display.HTML object>",
      "text/html": "Find user logs for this run at: <code>/home/user/work/exp/exp041/wandb/run-20210429_022354-2n8rsno1/logs/debug.log</code>"
     },
     "metadata": {}
    },
    {
     "output_type": "display_data",
     "data": {
      "text/plain": "<IPython.core.display.HTML object>",
      "text/html": "Find internal logs for this run at: <code>/home/user/work/exp/exp041/wandb/run-20210429_022354-2n8rsno1/logs/debug-internal.log</code>"
     },
     "metadata": {}
    },
    {
     "output_type": "display_data",
     "data": {
      "text/plain": "<IPython.core.display.HTML object>",
      "text/html": "Synced 5 W&B file(s), 0 media file(s), 0 artifact file(s) and 0 other file(s)"
     },
     "metadata": {}
    },
    {
     "output_type": "display_data",
     "data": {
      "text/plain": "<IPython.core.display.HTML object>",
      "text/html": "\n                    <br/>Synced <strong style=\"color:#cdcd00\">warm-durian-667</strong>: <a href=\"https://wandb.ai/kuto5046/indoor/runs/2n8rsno1\" target=\"_blank\">https://wandb.ai/kuto5046/indoor/runs/2n8rsno1</a><br/>\n                "
     },
     "metadata": {}
    },
    {
     "output_type": "stream",
     "name": "stdout",
     "text": [
      "====================\n",
      "Fold 3\n",
      "====================\n",
      "\u001b[34m\u001b[1mwandb\u001b[0m: wandb version 0.10.27 is available!  To upgrade, please run:\n",
      "\u001b[34m\u001b[1mwandb\u001b[0m:  $ pip install wandb --upgrade\n"
     ]
    },
    {
     "output_type": "display_data",
     "data": {
      "text/plain": "<IPython.core.display.HTML object>",
      "text/html": "\n                Tracking run with wandb version 0.10.22<br/>\n                Syncing run <strong style=\"color:#cdcd00\">stoic-night-668</strong> to <a href=\"https://wandb.ai\" target=\"_blank\">Weights & Biases</a> <a href=\"https://docs.wandb.com/integrations/jupyter.html\" target=\"_blank\">(Documentation)</a>.<br/>\n                Project page: <a href=\"https://wandb.ai/kuto5046/indoor\" target=\"_blank\">https://wandb.ai/kuto5046/indoor</a><br/>\n                Run page: <a href=\"https://wandb.ai/kuto5046/indoor/runs/1bk43tmg\" target=\"_blank\">https://wandb.ai/kuto5046/indoor/runs/1bk43tmg</a><br/>\n                Run data is saved locally in <code>/home/user/work/exp/exp041/wandb/run-20210429_022406-1bk43tmg</code><br/><br/>\n            "
     },
     "metadata": {}
    },
    {
     "output_type": "stream",
     "name": "stdout",
     "text": [
      "fold 3: mean position error 6.536450766334486\nfold 3: mean position error 6.217116167713684\n"
     ]
    },
    {
     "output_type": "display_data",
     "data": {
      "text/plain": "<IPython.core.display.HTML object>",
      "text/html": "<br/>Waiting for W&B process to finish, PID 741246<br/>Program ended successfully."
     },
     "metadata": {}
    },
    {
     "output_type": "display_data",
     "data": {
      "text/plain": "VBox(children=(Label(value=' 0.00MB of 0.00MB uploaded (0.00MB deduped)\\r'), FloatProgress(value=1.0, max=1.0)…",
      "application/vnd.jupyter.widget-view+json": {
       "version_major": 2,
       "version_minor": 0,
       "model_id": "b1377bc7766e4a2081900c3718680db4"
      }
     },
     "metadata": {}
    },
    {
     "output_type": "display_data",
     "data": {
      "text/plain": "<IPython.core.display.HTML object>",
      "text/html": "Find user logs for this run at: <code>/home/user/work/exp/exp041/wandb/run-20210429_022406-1bk43tmg/logs/debug.log</code>"
     },
     "metadata": {}
    },
    {
     "output_type": "display_data",
     "data": {
      "text/plain": "<IPython.core.display.HTML object>",
      "text/html": "Find internal logs for this run at: <code>/home/user/work/exp/exp041/wandb/run-20210429_022406-1bk43tmg/logs/debug-internal.log</code>"
     },
     "metadata": {}
    },
    {
     "output_type": "display_data",
     "data": {
      "text/plain": "<IPython.core.display.HTML object>",
      "text/html": "Synced 5 W&B file(s), 0 media file(s), 0 artifact file(s) and 0 other file(s)"
     },
     "metadata": {}
    },
    {
     "output_type": "display_data",
     "data": {
      "text/plain": "<IPython.core.display.HTML object>",
      "text/html": "\n                    <br/>Synced <strong style=\"color:#cdcd00\">stoic-night-668</strong>: <a href=\"https://wandb.ai/kuto5046/indoor/runs/1bk43tmg\" target=\"_blank\">https://wandb.ai/kuto5046/indoor/runs/1bk43tmg</a><br/>\n                "
     },
     "metadata": {}
    },
    {
     "output_type": "stream",
     "name": "stdout",
     "text": [
      "====================\n",
      "Fold 4\n",
      "====================\n",
      "\u001b[34m\u001b[1mwandb\u001b[0m: wandb version 0.10.27 is available!  To upgrade, please run:\n",
      "\u001b[34m\u001b[1mwandb\u001b[0m:  $ pip install wandb --upgrade\n"
     ]
    },
    {
     "output_type": "display_data",
     "data": {
      "text/plain": "<IPython.core.display.HTML object>",
      "text/html": "\n                Tracking run with wandb version 0.10.22<br/>\n                Syncing run <strong style=\"color:#cdcd00\">peachy-breeze-669</strong> to <a href=\"https://wandb.ai\" target=\"_blank\">Weights & Biases</a> <a href=\"https://docs.wandb.com/integrations/jupyter.html\" target=\"_blank\">(Documentation)</a>.<br/>\n                Project page: <a href=\"https://wandb.ai/kuto5046/indoor\" target=\"_blank\">https://wandb.ai/kuto5046/indoor</a><br/>\n                Run page: <a href=\"https://wandb.ai/kuto5046/indoor/runs/i0nz1xf9\" target=\"_blank\">https://wandb.ai/kuto5046/indoor/runs/i0nz1xf9</a><br/>\n                Run data is saved locally in <code>/home/user/work/exp/exp041/wandb/run-20210429_022418-i0nz1xf9</code><br/><br/>\n            "
     },
     "metadata": {}
    },
    {
     "output_type": "stream",
     "name": "stdout",
     "text": [
      "fold 4: mean position error 6.39757246413882\nfold 4: mean position error 6.063199574372302\n"
     ]
    }
   ],
   "source": [
    "oofs = []  # 全てのoofをdfで格納する\n",
    "predictions = []  # 全ての予測値をdfで格納する\n",
    "val_scores = []\n",
    "# skf = model_selection.StratifiedKFold(n_splits=N_SPLITS, shuffle=True, random_state=SEED)\n",
    "gkf = model_selection.GroupKFold(n_splits=N_SPLITS)\n",
    "\n",
    "train_fold = [(trn_idx, val_idx) for trn_idx, val_idx in gkf.split(train.loc[:, 'path'], groups=train.loc[:, 'path'])]\n",
    "# 今回はtargetを均等に分ける必要はなくpathが均等に分かれればいいのでskf.split()にpathを与えている。\n",
    "for fold in range(5):\n",
    "    # 指定したfoldのみループを回す\n",
    "    if fold not in USE_FOLDS:\n",
    "        continue\n",
    "\n",
    "    print('=' * 20)\n",
    "    print(f'Fold {fold}')\n",
    "    print('=' * 20)\n",
    "\n",
    "    # train/valid data\n",
    "    trn_idx_for_train, val_idx_for_train = train_fold[fold]\n",
    "    trn_df = train.loc[trn_idx_for_train, :].reset_index(drop=True)\n",
    "    trn_df = trn_df.loc[:,BSSID_FEATS + RSSI_FEATS + ['site_id', 'x', 'y', 'ix','iy','floor','timediff']]\n",
    "    \n",
    "    val_df = train.loc[val_idx_for_train, :].reset_index(drop=True)\n",
    "    val_df = val_df.loc[:,BSSID_FEATS + RSSI_FEATS + ['site_id', 'x', 'y', 'ix','iy','floor','timediff']]\n",
    "\n",
    "    # data loader\n",
    "    loaders = {}\n",
    "    loader_config = config[\"loader\"]\n",
    "    loaders[\"train\"] = DataLoader(IndoorDataset(trn_df, phase=\"train\"), **loader_config[\"train\"], worker_init_fn=worker_init_fn) \n",
    "    loaders[\"valid\"] = DataLoader(IndoorDataset(val_df, phase=\"valid\"), **loader_config[\"valid\"], worker_init_fn=worker_init_fn)\n",
    "    loaders[\"test\"] = DataLoader(IndoorDataset(test, phase=\"test\"), **loader_config[\"test\"], worker_init_fn=worker_init_fn)\n",
    "\n",
    "    # model\n",
    "    model = LSTMModel(wifi_bssids_size, site_count)  # +1としているのはLEを1スタートで始めているため\n",
    "    model_name = model.__class__.__name__\n",
    "\n",
    "    # callbacks\n",
    "    callbacks = []\n",
    "    checkpoint_callback = ModelCheckpoint(\n",
    "        monitor=f'Loss/val',\n",
    "        mode='min',\n",
    "        dirpath=f\"../../model/{EXP_NAME}\",\n",
    "        verbose=False,\n",
    "        filename=f'{model_name}-{fold}')\n",
    "    \n",
    "    if MODEL_SAVE:\n",
    "        callbacks.append(checkpoint_callback)\n",
    "\n",
    "    early_stop_callback = EarlyStopping(\n",
    "        monitor='Loss/val',\n",
    "        min_delta=0.00,\n",
    "        patience=20,\n",
    "        verbose=False,\n",
    "        mode='min')\n",
    "    callbacks.append(early_stop_callback)\n",
    "\n",
    "    # loggers\n",
    "    RUN_NAME = EXP_NAME + \"_\" + EXP_MESSAGE\n",
    "    wandb.init(project='indoor', notes=NOTES, entity='kuto5046', group=RUN_NAME)\n",
    "    wandb.run.name = RUN_NAME + f'-fold-{fold}'\n",
    "    wandb_config = wandb.config\n",
    "    wandb_config['model_name'] = model_name\n",
    "    wandb_config['LB'] = None\n",
    "    wandb.watch(model)\n",
    "    \n",
    "    \n",
    "    loggers = []\n",
    "    loggers.append(WandbLogger())\n",
    "\n",
    "    learner = Learner(model, config)\n",
    "    # pretrained flag\n",
    "    if PRETRAINED:\n",
    "        ckpt = torch.load(PRETRAINED_PATH + f'{model_name}-{fold}.ckpt')\n",
    "        learner.load_state_dict(ckpt['state_dict'])\n",
    "\n",
    "    if not ONLY_PRED:\n",
    "        trainer = pl.Trainer(\n",
    "            logger=loggers, \n",
    "            callbacks=callbacks,\n",
    "            max_epochs=MAX_EPOCHS,\n",
    "            gpus=[0],\n",
    "            fast_dev_run=DEBUG,\n",
    "            deterministic=True,\n",
    "            # precision=16,\n",
    "            progress_bar_refresh_rate=0  # vscodeの時progress barの動作が遅いので表示しない\n",
    "            )\n",
    "\n",
    "        trainer.fit(learner, train_dataloader=loaders['train'], val_dataloaders=loaders['valid'])\n",
    "\n",
    "    #############\n",
    "    # validation (to make oof)\n",
    "    #############\n",
    "    model.eval() \n",
    "    oof_df = train.loc[val_idx_for_train, RSSI_FEATS + TIMEDIFF_FEATS + ['id', 'timestamp', 'x', 'y', 'floor', 'ix', 'iy', 'floor_str','path', 'site_id', 'site_id_str', 'timediff']].reset_index(drop=True)\n",
    "    # oof_df = train.loc[val_idx_for_train, ['id', 'timestamp', 'x', 'y', 'floor', 'ix', 'iy', 'floor_str','path', 'site_id', 'site_id_str']].reset_index(drop=True)\n",
    "    oof_x, oof_y, oof_f = evaluate(model, loaders, phase=\"valid\")\n",
    "    oof_df[\"oof_x\"] = oof_x\n",
    "    oof_df[\"oof_y\"] = oof_y\n",
    "    oof_df[\"oof_floor\"] = oof_f\n",
    "    oofs.append(oof_df)\n",
    "    \n",
    "    # 補間前のtargetで評価\n",
    "    val_score = mean_position_error(\n",
    "        oof_df[\"oof_x\"].values, oof_df[\"oof_y\"].values, 0,\n",
    "        oof_df['x'].values, oof_df['y'].values, 0)\n",
    "    val_scores.append(val_score)\n",
    "    print(f\"fold {fold}: mean position error {val_score}\")\n",
    "\n",
    "    # 補間後のtargetで評価\n",
    "    val_score = mean_position_error(\n",
    "        oof_df[\"oof_x\"].values, oof_df[\"oof_y\"].values, 0,\n",
    "        oof_df['ix'].values, oof_df['iy'].values, 0)\n",
    "    val_scores.append(val_score)\n",
    "    print(f\"fold {fold}: mean position error {val_score}\")\n",
    "\n",
    "    #############\n",
    "    # inference\n",
    "    #############\n",
    "\n",
    "    preds_x, preds_y, preds_f = evaluate(model, loaders, phase=\"test\")\n",
    "    test_preds = pd.DataFrame(np.stack((preds_f, preds_x, preds_y))).T\n",
    "    test_preds.columns = sub_df.columns\n",
    "    test_preds[\"site_path_timestamp\"] = test[\"site_path_timestamp\"]\n",
    "    test_preds[\"timediff\"] = test[\"timediff\"].astype(int)\n",
    "    test_preds[\"floor\"] = test_preds[\"floor\"].astype(int)\n",
    "    # test_preds.to_csv(f'{EXP_NAME}_fold{fold}.csv', index=False)\n",
    "    predictions.append(test_preds)\n",
    "\n",
    "    if fold != 4:\n",
    "        wandb.finish()"
   ]
  },
  {
   "cell_type": "markdown",
   "metadata": {},
   "source": [
    "## validation"
   ]
  },
  {
   "cell_type": "code",
   "execution_count": 26,
   "metadata": {},
   "outputs": [
    {
     "output_type": "execute_result",
     "data": {
      "text/plain": [
       "        rssi_0  rssi_1  rssi_2  rssi_3  rssi_4  rssi_5  rssi_6  rssi_7  \\\n",
       "0           40      47      48      48      50      50      50      52   \n",
       "1           41      48      48      49      49      50      50      50   \n",
       "2           44      44      44      45      45      46      46      47   \n",
       "3           44      45      45      46      47      48      49      49   \n",
       "4           45      46      46      47      47      47      47      49   \n",
       "...        ...     ...     ...     ...     ...     ...     ...     ...   \n",
       "244340      66      69      70      71      72      72      76      76   \n",
       "244341      64      69      70      71      72      72      73      76   \n",
       "244342      63      66      68      76      76      80      80      81   \n",
       "244343      63      66      68      76      80      80      81      81   \n",
       "244344      66      68      69      76      79      80      80      80   \n",
       "\n",
       "        rssi_8  rssi_9  ...          iy  floor_str                      path  \\\n",
       "0           53      56  ...   37.382805         F3  5d10a1669c50c70008fe8977   \n",
       "1           50      50  ...   36.170105         F3  5d10a1669c50c70008fe8977   \n",
       "2           47      48  ...   29.970827         F3  5d10a1669c50c70008fe8977   \n",
       "3           49      50  ...   25.650726         F3  5d10a1669c50c70008fe8977   \n",
       "4           49      50  ...   23.490675         F3  5d10a1669c50c70008fe8977   \n",
       "...        ...     ...  ...         ...        ...                       ...   \n",
       "244340      77      77  ...  108.728462         B1  5dd7c119c5b77e0006b16b99   \n",
       "244341      76      81  ...  108.292297         B1  5dd7c119c5b77e0006b16b99   \n",
       "244342      82      83  ...  107.874741         B1  5dd7c119c5b77e0006b16b99   \n",
       "244343      84      87  ...  107.898514         B1  5dd7c119c5b77e0006b16b99   \n",
       "244344      82      83  ...  107.850967         B1  5dd7c119c5b77e0006b16b99   \n",
       "\n",
       "        site_id               site_id_str  timediff       oof_x       oof_y  \\\n",
       "0             0  5a0546857ecc773753327266     -1969   79.451019   36.954460   \n",
       "1             0  5a0546857ecc773753327266     -3966   80.235146   32.661667   \n",
       "2             0  5a0546857ecc773753327266      -772   99.134888   23.983513   \n",
       "3             0  5a0546857ecc773753327266     -4815   88.048965   23.636784   \n",
       "4             0  5a0546857ecc773753327266     -6812   81.993759   23.994354   \n",
       "...         ...                       ...       ...         ...         ...   \n",
       "244340       23  5dc8cea7659e181adb076a3f      2819  204.460159   99.703674   \n",
       "244341       23  5dc8cea7659e181adb076a3f       930  204.205551  103.437485   \n",
       "244342       23  5dc8cea7659e181adb076a3f      2662  208.169266  105.775848   \n",
       "244343       23  5dc8cea7659e181adb076a3f      4550  205.624207  104.560059   \n",
       "244344       23  5dc8cea7659e181adb076a3f       756  208.898468  106.491257   \n",
       "\n",
       "        oof_floor                                site_path_timestamp  \n",
       "0        2.239754  5a0546857ecc773753327266_5d10a1669c50c70008fe8...  \n",
       "1        1.800772  5a0546857ecc773753327266_5d10a1669c50c70008fe8...  \n",
       "2        2.427470  5a0546857ecc773753327266_5d10a1669c50c70008fe8...  \n",
       "3        1.828725  5a0546857ecc773753327266_5d10a1669c50c70008fe8...  \n",
       "4        1.368530  5a0546857ecc773753327266_5d10a1669c50c70008fe8...  \n",
       "...           ...                                                ...  \n",
       "244340   0.000000  5dc8cea7659e181adb076a3f_5dd7c119c5b77e0006b16...  \n",
       "244341   0.000000  5dc8cea7659e181adb076a3f_5dd7c119c5b77e0006b16...  \n",
       "244342   0.000000  5dc8cea7659e181adb076a3f_5dd7c119c5b77e0006b16...  \n",
       "244343   0.000000  5dc8cea7659e181adb076a3f_5dd7c119c5b77e0006b16...  \n",
       "244344   0.000000  5dc8cea7659e181adb076a3f_5dd7c119c5b77e0006b16...  \n",
       "\n",
       "[244345 rows x 176 columns]"
      ],
      "text/html": "<div>\n<style scoped>\n    .dataframe tbody tr th:only-of-type {\n        vertical-align: middle;\n    }\n\n    .dataframe tbody tr th {\n        vertical-align: top;\n    }\n\n    .dataframe thead th {\n        text-align: right;\n    }\n</style>\n<table border=\"1\" class=\"dataframe\">\n  <thead>\n    <tr style=\"text-align: right;\">\n      <th></th>\n      <th>rssi_0</th>\n      <th>rssi_1</th>\n      <th>rssi_2</th>\n      <th>rssi_3</th>\n      <th>rssi_4</th>\n      <th>rssi_5</th>\n      <th>rssi_6</th>\n      <th>rssi_7</th>\n      <th>rssi_8</th>\n      <th>rssi_9</th>\n      <th>...</th>\n      <th>iy</th>\n      <th>floor_str</th>\n      <th>path</th>\n      <th>site_id</th>\n      <th>site_id_str</th>\n      <th>timediff</th>\n      <th>oof_x</th>\n      <th>oof_y</th>\n      <th>oof_floor</th>\n      <th>site_path_timestamp</th>\n    </tr>\n  </thead>\n  <tbody>\n    <tr>\n      <th>0</th>\n      <td>40</td>\n      <td>47</td>\n      <td>48</td>\n      <td>48</td>\n      <td>50</td>\n      <td>50</td>\n      <td>50</td>\n      <td>52</td>\n      <td>53</td>\n      <td>56</td>\n      <td>...</td>\n      <td>37.382805</td>\n      <td>F3</td>\n      <td>5d10a1669c50c70008fe8977</td>\n      <td>0</td>\n      <td>5a0546857ecc773753327266</td>\n      <td>-1969</td>\n      <td>79.451019</td>\n      <td>36.954460</td>\n      <td>2.239754</td>\n      <td>5a0546857ecc773753327266_5d10a1669c50c70008fe8...</td>\n    </tr>\n    <tr>\n      <th>1</th>\n      <td>41</td>\n      <td>48</td>\n      <td>48</td>\n      <td>49</td>\n      <td>49</td>\n      <td>50</td>\n      <td>50</td>\n      <td>50</td>\n      <td>50</td>\n      <td>50</td>\n      <td>...</td>\n      <td>36.170105</td>\n      <td>F3</td>\n      <td>5d10a1669c50c70008fe8977</td>\n      <td>0</td>\n      <td>5a0546857ecc773753327266</td>\n      <td>-3966</td>\n      <td>80.235146</td>\n      <td>32.661667</td>\n      <td>1.800772</td>\n      <td>5a0546857ecc773753327266_5d10a1669c50c70008fe8...</td>\n    </tr>\n    <tr>\n      <th>2</th>\n      <td>44</td>\n      <td>44</td>\n      <td>44</td>\n      <td>45</td>\n      <td>45</td>\n      <td>46</td>\n      <td>46</td>\n      <td>47</td>\n      <td>47</td>\n      <td>48</td>\n      <td>...</td>\n      <td>29.970827</td>\n      <td>F3</td>\n      <td>5d10a1669c50c70008fe8977</td>\n      <td>0</td>\n      <td>5a0546857ecc773753327266</td>\n      <td>-772</td>\n      <td>99.134888</td>\n      <td>23.983513</td>\n      <td>2.427470</td>\n      <td>5a0546857ecc773753327266_5d10a1669c50c70008fe8...</td>\n    </tr>\n    <tr>\n      <th>3</th>\n      <td>44</td>\n      <td>45</td>\n      <td>45</td>\n      <td>46</td>\n      <td>47</td>\n      <td>48</td>\n      <td>49</td>\n      <td>49</td>\n      <td>49</td>\n      <td>50</td>\n      <td>...</td>\n      <td>25.650726</td>\n      <td>F3</td>\n      <td>5d10a1669c50c70008fe8977</td>\n      <td>0</td>\n      <td>5a0546857ecc773753327266</td>\n      <td>-4815</td>\n      <td>88.048965</td>\n      <td>23.636784</td>\n      <td>1.828725</td>\n      <td>5a0546857ecc773753327266_5d10a1669c50c70008fe8...</td>\n    </tr>\n    <tr>\n      <th>4</th>\n      <td>45</td>\n      <td>46</td>\n      <td>46</td>\n      <td>47</td>\n      <td>47</td>\n      <td>47</td>\n      <td>47</td>\n      <td>49</td>\n      <td>49</td>\n      <td>50</td>\n      <td>...</td>\n      <td>23.490675</td>\n      <td>F3</td>\n      <td>5d10a1669c50c70008fe8977</td>\n      <td>0</td>\n      <td>5a0546857ecc773753327266</td>\n      <td>-6812</td>\n      <td>81.993759</td>\n      <td>23.994354</td>\n      <td>1.368530</td>\n      <td>5a0546857ecc773753327266_5d10a1669c50c70008fe8...</td>\n    </tr>\n    <tr>\n      <th>...</th>\n      <td>...</td>\n      <td>...</td>\n      <td>...</td>\n      <td>...</td>\n      <td>...</td>\n      <td>...</td>\n      <td>...</td>\n      <td>...</td>\n      <td>...</td>\n      <td>...</td>\n      <td>...</td>\n      <td>...</td>\n      <td>...</td>\n      <td>...</td>\n      <td>...</td>\n      <td>...</td>\n      <td>...</td>\n      <td>...</td>\n      <td>...</td>\n      <td>...</td>\n      <td>...</td>\n    </tr>\n    <tr>\n      <th>244340</th>\n      <td>66</td>\n      <td>69</td>\n      <td>70</td>\n      <td>71</td>\n      <td>72</td>\n      <td>72</td>\n      <td>76</td>\n      <td>76</td>\n      <td>77</td>\n      <td>77</td>\n      <td>...</td>\n      <td>108.728462</td>\n      <td>B1</td>\n      <td>5dd7c119c5b77e0006b16b99</td>\n      <td>23</td>\n      <td>5dc8cea7659e181adb076a3f</td>\n      <td>2819</td>\n      <td>204.460159</td>\n      <td>99.703674</td>\n      <td>0.000000</td>\n      <td>5dc8cea7659e181adb076a3f_5dd7c119c5b77e0006b16...</td>\n    </tr>\n    <tr>\n      <th>244341</th>\n      <td>64</td>\n      <td>69</td>\n      <td>70</td>\n      <td>71</td>\n      <td>72</td>\n      <td>72</td>\n      <td>73</td>\n      <td>76</td>\n      <td>76</td>\n      <td>81</td>\n      <td>...</td>\n      <td>108.292297</td>\n      <td>B1</td>\n      <td>5dd7c119c5b77e0006b16b99</td>\n      <td>23</td>\n      <td>5dc8cea7659e181adb076a3f</td>\n      <td>930</td>\n      <td>204.205551</td>\n      <td>103.437485</td>\n      <td>0.000000</td>\n      <td>5dc8cea7659e181adb076a3f_5dd7c119c5b77e0006b16...</td>\n    </tr>\n    <tr>\n      <th>244342</th>\n      <td>63</td>\n      <td>66</td>\n      <td>68</td>\n      <td>76</td>\n      <td>76</td>\n      <td>80</td>\n      <td>80</td>\n      <td>81</td>\n      <td>82</td>\n      <td>83</td>\n      <td>...</td>\n      <td>107.874741</td>\n      <td>B1</td>\n      <td>5dd7c119c5b77e0006b16b99</td>\n      <td>23</td>\n      <td>5dc8cea7659e181adb076a3f</td>\n      <td>2662</td>\n      <td>208.169266</td>\n      <td>105.775848</td>\n      <td>0.000000</td>\n      <td>5dc8cea7659e181adb076a3f_5dd7c119c5b77e0006b16...</td>\n    </tr>\n    <tr>\n      <th>244343</th>\n      <td>63</td>\n      <td>66</td>\n      <td>68</td>\n      <td>76</td>\n      <td>80</td>\n      <td>80</td>\n      <td>81</td>\n      <td>81</td>\n      <td>84</td>\n      <td>87</td>\n      <td>...</td>\n      <td>107.898514</td>\n      <td>B1</td>\n      <td>5dd7c119c5b77e0006b16b99</td>\n      <td>23</td>\n      <td>5dc8cea7659e181adb076a3f</td>\n      <td>4550</td>\n      <td>205.624207</td>\n      <td>104.560059</td>\n      <td>0.000000</td>\n      <td>5dc8cea7659e181adb076a3f_5dd7c119c5b77e0006b16...</td>\n    </tr>\n    <tr>\n      <th>244344</th>\n      <td>66</td>\n      <td>68</td>\n      <td>69</td>\n      <td>76</td>\n      <td>79</td>\n      <td>80</td>\n      <td>80</td>\n      <td>80</td>\n      <td>82</td>\n      <td>83</td>\n      <td>...</td>\n      <td>107.850967</td>\n      <td>B1</td>\n      <td>5dd7c119c5b77e0006b16b99</td>\n      <td>23</td>\n      <td>5dc8cea7659e181adb076a3f</td>\n      <td>756</td>\n      <td>208.898468</td>\n      <td>106.491257</td>\n      <td>0.000000</td>\n      <td>5dc8cea7659e181adb076a3f_5dd7c119c5b77e0006b16...</td>\n    </tr>\n  </tbody>\n</table>\n<p>244345 rows × 176 columns</p>\n</div>"
     },
     "metadata": {},
     "execution_count": 26
    }
   ],
   "source": [
    "if len(USE_FOLDS) > 1:\n",
    "    oofs_df = pd.concat(oofs)\n",
    "else:\n",
    "    oofs_df = oofs[0]\n",
    "\n",
    "oofs_df['site_path_timestamp'] = oofs_df['site_id_str'].astype(str) + '_' + oofs_df['path'] + '_' + oofs_df['timestamp'].astype(str)\n",
    "oofs_df = oofs_df.sort_values('site_path_timestamp').reset_index(drop=True)\n",
    "oofs_df.to_csv(\"oof.csv\", index=False)\n",
    "oofs_df"
   ]
  },
  {
   "cell_type": "code",
   "execution_count": 27,
   "metadata": {},
   "outputs": [],
   "source": [
    "# 平均をとる\n",
    "# _oofs_df = oofs_df.groupby(\"site_path_timestamp\").mean().reset_index()\n",
    "# _oofs_df[\"site_id_str\"] = _oofs_df[\"site_path_timestamp\"].str.split(\"_\", expand=True)[0]\n",
    "# _oofs_df[\"path\"] = _oofs_df[\"site_path_timestamp\"].str.split(\"_\", expand=True)[1]\n",
    "# oofs_df = pd.merge(_oofs_df, oofs_df[[\"path\", \"floor_str\"]].drop_duplicates(), on=\"path\", how=\"left\")"
   ]
  },
  {
   "cell_type": "code",
   "execution_count": 28,
   "metadata": {},
   "outputs": [
    {
     "output_type": "stream",
     "name": "stderr",
     "text": [
      "100%|██████████| 69942/69942 [00:28<00:00, 2422.12it/s]\n"
     ]
    }
   ],
   "source": [
    "# timediffで加重平均をとる\n",
    "from tqdm import tqdm\n",
    "weighted_mean_dict = {}\n",
    "for site_path_timestamp, df in tqdm(oofs_df.groupby(\"site_path_timestamp\")):\n",
    "    if len(df) == 1:\n",
    "        weight = 1\n",
    "    else:\n",
    "        total = df['timediff'].astype(int).abs().sum()\n",
    "        timediff = df['timediff'].astype(int).abs().values\n",
    "        weight = (total - timediff) / (total - timediff).sum()\n",
    "    oof_x = (df['oof_x'].values * weight).sum()\n",
    "    oof_y = (df['oof_y'].values * weight).sum()\n",
    "    weighted_mean_dict[site_path_timestamp] = [oof_x, oof_y]\n",
    "    \n"
   ]
  },
  {
   "cell_type": "code",
   "execution_count": 29,
   "metadata": {},
   "outputs": [],
   "source": [
    "__oofs_df = pd.DataFrame(weighted_mean_dict, index=['oof_x', 'oof_y']).T.reset_index().rename(columns={'index':\"site_path_timestamp\"}).sort_values('site_path_timestamp')  # 加重平均の方\n",
    "_oofs_df = oofs_df.groupby(\"site_path_timestamp\").mean().reset_index().sort_values('site_path_timestamp').drop(['oof_x', 'oof_y'], axis=1)  # 平均の方\n",
    "_oofs_df = pd.merge(_oofs_df, oofs_df[[\"site_id_str\", \"path\", \"floor_str\", \"site_path_timestamp\"]].drop_duplicates(), on=\"site_path_timestamp\", how=\"left\")\n",
    "oofs_df = pd.merge(_oofs_df, __oofs_df, on=\"site_path_timestamp\", how=\"left\")"
   ]
  },
  {
   "cell_type": "code",
   "execution_count": 30,
   "metadata": {},
   "outputs": [
    {
     "output_type": "execute_result",
     "data": {
      "text/plain": [
       "                                     site_path_timestamp     rssi_0  \\\n",
       "0      5a0546857ecc773753327266_5d10a1669c50c70008fe8...  40.500000   \n",
       "1      5a0546857ecc773753327266_5d10a1669c50c70008fe8...  42.333333   \n",
       "2      5a0546857ecc773753327266_5d10a1669c50c70008fe8...  41.000000   \n",
       "3      5a0546857ecc773753327266_5d10a1669c50c70008fe8...  35.800000   \n",
       "4      5a0546857ecc773753327266_5d10a1669c50c70008fe8...  46.600000   \n",
       "...                                                  ...        ...   \n",
       "69937  5dc8cea7659e181adb076a3f_5dd7c1189191710006b56...  66.000000   \n",
       "69938  5dc8cea7659e181adb076a3f_5dd7c119c5b77e0006b16...  64.000000   \n",
       "69939  5dc8cea7659e181adb076a3f_5dd7c119c5b77e0006b16...  62.750000   \n",
       "69940  5dc8cea7659e181adb076a3f_5dd7c119c5b77e0006b16...  62.400000   \n",
       "69941  5dc8cea7659e181adb076a3f_5dd7c119c5b77e0006b16...  64.000000   \n",
       "\n",
       "          rssi_1     rssi_2     rssi_3     rssi_4     rssi_5     rssi_6  \\\n",
       "0      47.500000  48.000000  48.500000  49.500000  50.000000  50.000000   \n",
       "1      45.500000  46.000000  46.833333  47.000000  47.833333  48.333333   \n",
       "2      43.200000  43.200000  44.000000  44.200000  44.400000  44.800000   \n",
       "3      37.400000  37.800000  38.600000  39.400000  40.000000  40.400000   \n",
       "4      48.200000  49.000000  50.600000  50.800000  51.600000  52.400000   \n",
       "...          ...        ...        ...        ...        ...        ...   \n",
       "69937  73.000000  75.000000  76.500000  80.000000  80.500000  81.500000   \n",
       "69938  66.500000  68.500000  71.500000  76.500000  79.500000  80.000000   \n",
       "69939  64.250000  65.750000  71.000000  76.000000  76.250000  77.750000   \n",
       "69940  65.000000  67.000000  71.000000  72.000000  72.400000  74.600000   \n",
       "69941  66.666667  68.333333  76.000000  78.333333  80.000000  80.333333   \n",
       "\n",
       "          rssi_7     rssi_8  ...  floor          ix          iy  site_id  \\\n",
       "0      51.000000  51.500000  ...    2.0   77.703194   36.776455      0.0   \n",
       "1      49.000000  49.000000  ...    2.0   76.836205   27.134466      0.0   \n",
       "2      45.200000  46.400000  ...    2.0   78.057106   13.800187      0.0   \n",
       "3      40.800000  40.800000  ...    2.0   81.199577    8.869275      0.0   \n",
       "4      53.000000  53.600000  ...    2.0   89.090569   12.723122      0.0   \n",
       "...          ...        ...  ...    ...         ...         ...      ...   \n",
       "69937  82.500000  83.000000  ...   -1.0  204.223297  106.415894     23.0   \n",
       "69938  81.500000  82.000000  ...   -1.0  201.443176  107.215134     23.0   \n",
       "69939  79.000000  79.250000  ...   -1.0  196.529694  108.919197     23.0   \n",
       "69940  76.000000  76.800000  ...   -1.0  195.142502  108.179710     23.0   \n",
       "69941  80.666667  82.666667  ...   -1.0  201.653351  107.874741     23.0   \n",
       "\n",
       "       oof_floor               site_id_str                      path  \\\n",
       "0       2.020263  5a0546857ecc773753327266  5d10a1669c50c70008fe8977   \n",
       "1       2.337152  5a0546857ecc773753327266  5d10a1669c50c70008fe8977   \n",
       "2       1.953328  5a0546857ecc773753327266  5d10a1669c50c70008fe8977   \n",
       "3       1.789859  5a0546857ecc773753327266  5d10a1669c50c70008fe8977   \n",
       "4       1.972952  5a0546857ecc773753327266  5d10a1669c50c70008fe8977   \n",
       "...          ...                       ...                       ...   \n",
       "69937   0.000000  5dc8cea7659e181adb076a3f  5dd7c1189191710006b568d0   \n",
       "69938   0.000000  5dc8cea7659e181adb076a3f  5dd7c119c5b77e0006b16b99   \n",
       "69939   0.000000  5dc8cea7659e181adb076a3f  5dd7c119c5b77e0006b16b99   \n",
       "69940   0.000000  5dc8cea7659e181adb076a3f  5dd7c119c5b77e0006b16b99   \n",
       "69941   0.000000  5dc8cea7659e181adb076a3f  5dd7c119c5b77e0006b16b99   \n",
       "\n",
       "       floor_str       oof_x       oof_y  \n",
       "0             F3   79.711162   35.530280  \n",
       "1             F3  102.009525   25.542056  \n",
       "2             F3   85.087132   17.841110  \n",
       "3             F3   82.951010   15.998105  \n",
       "4             F3   85.685172   19.938514  \n",
       "...          ...         ...         ...  \n",
       "69937         B1  210.031392  101.888346  \n",
       "69938         B1  206.298772  106.020892  \n",
       "69939         B1  205.131555  106.379872  \n",
       "69940         B1  204.177504  102.442687  \n",
       "69941         B1  207.953402  105.838848  \n",
       "\n",
       "[69942 rows x 175 columns]"
      ],
      "text/html": "<div>\n<style scoped>\n    .dataframe tbody tr th:only-of-type {\n        vertical-align: middle;\n    }\n\n    .dataframe tbody tr th {\n        vertical-align: top;\n    }\n\n    .dataframe thead th {\n        text-align: right;\n    }\n</style>\n<table border=\"1\" class=\"dataframe\">\n  <thead>\n    <tr style=\"text-align: right;\">\n      <th></th>\n      <th>site_path_timestamp</th>\n      <th>rssi_0</th>\n      <th>rssi_1</th>\n      <th>rssi_2</th>\n      <th>rssi_3</th>\n      <th>rssi_4</th>\n      <th>rssi_5</th>\n      <th>rssi_6</th>\n      <th>rssi_7</th>\n      <th>rssi_8</th>\n      <th>...</th>\n      <th>floor</th>\n      <th>ix</th>\n      <th>iy</th>\n      <th>site_id</th>\n      <th>oof_floor</th>\n      <th>site_id_str</th>\n      <th>path</th>\n      <th>floor_str</th>\n      <th>oof_x</th>\n      <th>oof_y</th>\n    </tr>\n  </thead>\n  <tbody>\n    <tr>\n      <th>0</th>\n      <td>5a0546857ecc773753327266_5d10a1669c50c70008fe8...</td>\n      <td>40.500000</td>\n      <td>47.500000</td>\n      <td>48.000000</td>\n      <td>48.500000</td>\n      <td>49.500000</td>\n      <td>50.000000</td>\n      <td>50.000000</td>\n      <td>51.000000</td>\n      <td>51.500000</td>\n      <td>...</td>\n      <td>2.0</td>\n      <td>77.703194</td>\n      <td>36.776455</td>\n      <td>0.0</td>\n      <td>2.020263</td>\n      <td>5a0546857ecc773753327266</td>\n      <td>5d10a1669c50c70008fe8977</td>\n      <td>F3</td>\n      <td>79.711162</td>\n      <td>35.530280</td>\n    </tr>\n    <tr>\n      <th>1</th>\n      <td>5a0546857ecc773753327266_5d10a1669c50c70008fe8...</td>\n      <td>42.333333</td>\n      <td>45.500000</td>\n      <td>46.000000</td>\n      <td>46.833333</td>\n      <td>47.000000</td>\n      <td>47.833333</td>\n      <td>48.333333</td>\n      <td>49.000000</td>\n      <td>49.000000</td>\n      <td>...</td>\n      <td>2.0</td>\n      <td>76.836205</td>\n      <td>27.134466</td>\n      <td>0.0</td>\n      <td>2.337152</td>\n      <td>5a0546857ecc773753327266</td>\n      <td>5d10a1669c50c70008fe8977</td>\n      <td>F3</td>\n      <td>102.009525</td>\n      <td>25.542056</td>\n    </tr>\n    <tr>\n      <th>2</th>\n      <td>5a0546857ecc773753327266_5d10a1669c50c70008fe8...</td>\n      <td>41.000000</td>\n      <td>43.200000</td>\n      <td>43.200000</td>\n      <td>44.000000</td>\n      <td>44.200000</td>\n      <td>44.400000</td>\n      <td>44.800000</td>\n      <td>45.200000</td>\n      <td>46.400000</td>\n      <td>...</td>\n      <td>2.0</td>\n      <td>78.057106</td>\n      <td>13.800187</td>\n      <td>0.0</td>\n      <td>1.953328</td>\n      <td>5a0546857ecc773753327266</td>\n      <td>5d10a1669c50c70008fe8977</td>\n      <td>F3</td>\n      <td>85.087132</td>\n      <td>17.841110</td>\n    </tr>\n    <tr>\n      <th>3</th>\n      <td>5a0546857ecc773753327266_5d10a1669c50c70008fe8...</td>\n      <td>35.800000</td>\n      <td>37.400000</td>\n      <td>37.800000</td>\n      <td>38.600000</td>\n      <td>39.400000</td>\n      <td>40.000000</td>\n      <td>40.400000</td>\n      <td>40.800000</td>\n      <td>40.800000</td>\n      <td>...</td>\n      <td>2.0</td>\n      <td>81.199577</td>\n      <td>8.869275</td>\n      <td>0.0</td>\n      <td>1.789859</td>\n      <td>5a0546857ecc773753327266</td>\n      <td>5d10a1669c50c70008fe8977</td>\n      <td>F3</td>\n      <td>82.951010</td>\n      <td>15.998105</td>\n    </tr>\n    <tr>\n      <th>4</th>\n      <td>5a0546857ecc773753327266_5d10a1669c50c70008fe8...</td>\n      <td>46.600000</td>\n      <td>48.200000</td>\n      <td>49.000000</td>\n      <td>50.600000</td>\n      <td>50.800000</td>\n      <td>51.600000</td>\n      <td>52.400000</td>\n      <td>53.000000</td>\n      <td>53.600000</td>\n      <td>...</td>\n      <td>2.0</td>\n      <td>89.090569</td>\n      <td>12.723122</td>\n      <td>0.0</td>\n      <td>1.972952</td>\n      <td>5a0546857ecc773753327266</td>\n      <td>5d10a1669c50c70008fe8977</td>\n      <td>F3</td>\n      <td>85.685172</td>\n      <td>19.938514</td>\n    </tr>\n    <tr>\n      <th>...</th>\n      <td>...</td>\n      <td>...</td>\n      <td>...</td>\n      <td>...</td>\n      <td>...</td>\n      <td>...</td>\n      <td>...</td>\n      <td>...</td>\n      <td>...</td>\n      <td>...</td>\n      <td>...</td>\n      <td>...</td>\n      <td>...</td>\n      <td>...</td>\n      <td>...</td>\n      <td>...</td>\n      <td>...</td>\n      <td>...</td>\n      <td>...</td>\n      <td>...</td>\n      <td>...</td>\n    </tr>\n    <tr>\n      <th>69937</th>\n      <td>5dc8cea7659e181adb076a3f_5dd7c1189191710006b56...</td>\n      <td>66.000000</td>\n      <td>73.000000</td>\n      <td>75.000000</td>\n      <td>76.500000</td>\n      <td>80.000000</td>\n      <td>80.500000</td>\n      <td>81.500000</td>\n      <td>82.500000</td>\n      <td>83.000000</td>\n      <td>...</td>\n      <td>-1.0</td>\n      <td>204.223297</td>\n      <td>106.415894</td>\n      <td>23.0</td>\n      <td>0.000000</td>\n      <td>5dc8cea7659e181adb076a3f</td>\n      <td>5dd7c1189191710006b568d0</td>\n      <td>B1</td>\n      <td>210.031392</td>\n      <td>101.888346</td>\n    </tr>\n    <tr>\n      <th>69938</th>\n      <td>5dc8cea7659e181adb076a3f_5dd7c119c5b77e0006b16...</td>\n      <td>64.000000</td>\n      <td>66.500000</td>\n      <td>68.500000</td>\n      <td>71.500000</td>\n      <td>76.500000</td>\n      <td>79.500000</td>\n      <td>80.000000</td>\n      <td>81.500000</td>\n      <td>82.000000</td>\n      <td>...</td>\n      <td>-1.0</td>\n      <td>201.443176</td>\n      <td>107.215134</td>\n      <td>23.0</td>\n      <td>0.000000</td>\n      <td>5dc8cea7659e181adb076a3f</td>\n      <td>5dd7c119c5b77e0006b16b99</td>\n      <td>B1</td>\n      <td>206.298772</td>\n      <td>106.020892</td>\n    </tr>\n    <tr>\n      <th>69939</th>\n      <td>5dc8cea7659e181adb076a3f_5dd7c119c5b77e0006b16...</td>\n      <td>62.750000</td>\n      <td>64.250000</td>\n      <td>65.750000</td>\n      <td>71.000000</td>\n      <td>76.000000</td>\n      <td>76.250000</td>\n      <td>77.750000</td>\n      <td>79.000000</td>\n      <td>79.250000</td>\n      <td>...</td>\n      <td>-1.0</td>\n      <td>196.529694</td>\n      <td>108.919197</td>\n      <td>23.0</td>\n      <td>0.000000</td>\n      <td>5dc8cea7659e181adb076a3f</td>\n      <td>5dd7c119c5b77e0006b16b99</td>\n      <td>B1</td>\n      <td>205.131555</td>\n      <td>106.379872</td>\n    </tr>\n    <tr>\n      <th>69940</th>\n      <td>5dc8cea7659e181adb076a3f_5dd7c119c5b77e0006b16...</td>\n      <td>62.400000</td>\n      <td>65.000000</td>\n      <td>67.000000</td>\n      <td>71.000000</td>\n      <td>72.000000</td>\n      <td>72.400000</td>\n      <td>74.600000</td>\n      <td>76.000000</td>\n      <td>76.800000</td>\n      <td>...</td>\n      <td>-1.0</td>\n      <td>195.142502</td>\n      <td>108.179710</td>\n      <td>23.0</td>\n      <td>0.000000</td>\n      <td>5dc8cea7659e181adb076a3f</td>\n      <td>5dd7c119c5b77e0006b16b99</td>\n      <td>B1</td>\n      <td>204.177504</td>\n      <td>102.442687</td>\n    </tr>\n    <tr>\n      <th>69941</th>\n      <td>5dc8cea7659e181adb076a3f_5dd7c119c5b77e0006b16...</td>\n      <td>64.000000</td>\n      <td>66.666667</td>\n      <td>68.333333</td>\n      <td>76.000000</td>\n      <td>78.333333</td>\n      <td>80.000000</td>\n      <td>80.333333</td>\n      <td>80.666667</td>\n      <td>82.666667</td>\n      <td>...</td>\n      <td>-1.0</td>\n      <td>201.653351</td>\n      <td>107.874741</td>\n      <td>23.0</td>\n      <td>0.000000</td>\n      <td>5dc8cea7659e181adb076a3f</td>\n      <td>5dd7c119c5b77e0006b16b99</td>\n      <td>B1</td>\n      <td>207.953402</td>\n      <td>105.838848</td>\n    </tr>\n  </tbody>\n</table>\n<p>69942 rows × 175 columns</p>\n</div>"
     },
     "metadata": {},
     "execution_count": 30
    }
   ],
   "source": [
    "oofs_df"
   ]
  },
  {
   "cell_type": "code",
   "execution_count": 31,
   "metadata": {},
   "outputs": [
    {
     "output_type": "stream",
     "name": "stdout",
     "text": [
      "CV:6.123534033265466\n"
     ]
    }
   ],
   "source": [
    "# waypoint補正前のx,yでの評価\n",
    "oof_score = mean_position_error(\n",
    "    oofs_df['oof_x'], oofs_df['oof_y'], 0, \n",
    "    oofs_df['x'], oofs_df['y'], 0\n",
    "    )\n",
    "wandb_config['CV'] = oof_score\n",
    "print(f\"CV:{oof_score}\")"
   ]
  },
  {
   "cell_type": "code",
   "execution_count": 32,
   "metadata": {},
   "outputs": [
    {
     "output_type": "stream",
     "name": "stdout",
     "text": [
      "CV:5.807264024516042\n"
     ]
    }
   ],
   "source": [
    "# waypoint補正後のx,yでの評価\n",
    "oof_score = mean_position_error(\n",
    "    oofs_df['oof_x'], oofs_df['oof_y'], 0, \n",
    "    oofs_df['ix'], oofs_df['iy'], 0\n",
    "    )\n",
    "wandb_config['CV-i'] = oof_score\n",
    "print(f\"CV:{oof_score}\")"
   ]
  },
  {
   "source": [
    "## subの用意"
   ],
   "cell_type": "markdown",
   "metadata": {}
  },
  {
   "cell_type": "code",
   "execution_count": 33,
   "metadata": {},
   "outputs": [
    {
     "output_type": "execute_result",
     "data": {
      "text/plain": [
       "       floor           x           y  timediff  \\\n",
       "0        0.0   85.291725  104.041054   -2331.0   \n",
       "1        0.0   81.373245  107.250343    4287.0   \n",
       "2        0.0   83.534050  102.762360    -491.0   \n",
       "3        0.0   84.409050  105.003510    1827.0   \n",
       "4        0.0   85.793205  104.650810     612.0   \n",
       "...      ...         ...         ...       ...   \n",
       "37433    4.4  204.883438  105.256851    -626.0   \n",
       "37435    4.6  202.636368  106.933083   -2607.0   \n",
       "37437    4.4  201.628326  111.115379    1419.0   \n",
       "37436    4.4  202.210495  111.353462    -529.0   \n",
       "37438    4.4  196.661209  115.627998    1018.0   \n",
       "\n",
       "                                     site_path_timestamp  \n",
       "0      5a0546857ecc773753327266_046cfa46be49fc1083481...  \n",
       "1      5a0546857ecc773753327266_046cfa46be49fc1083481...  \n",
       "2      5a0546857ecc773753327266_046cfa46be49fc1083481...  \n",
       "3      5a0546857ecc773753327266_046cfa46be49fc1083481...  \n",
       "4      5a0546857ecc773753327266_046cfa46be49fc1083481...  \n",
       "...                                                  ...  \n",
       "37433  5dc8cea7659e181adb076a3f_fd64de8c4a2fc5ebb0e9f...  \n",
       "37435  5dc8cea7659e181adb076a3f_fd64de8c4a2fc5ebb0e9f...  \n",
       "37437  5dc8cea7659e181adb076a3f_fd64de8c4a2fc5ebb0e9f...  \n",
       "37436  5dc8cea7659e181adb076a3f_fd64de8c4a2fc5ebb0e9f...  \n",
       "37438  5dc8cea7659e181adb076a3f_fd64de8c4a2fc5ebb0e9f...  \n",
       "\n",
       "[37439 rows x 5 columns]"
      ],
      "text/html": "<div>\n<style scoped>\n    .dataframe tbody tr th:only-of-type {\n        vertical-align: middle;\n    }\n\n    .dataframe tbody tr th {\n        vertical-align: top;\n    }\n\n    .dataframe thead th {\n        text-align: right;\n    }\n</style>\n<table border=\"1\" class=\"dataframe\">\n  <thead>\n    <tr style=\"text-align: right;\">\n      <th></th>\n      <th>floor</th>\n      <th>x</th>\n      <th>y</th>\n      <th>timediff</th>\n      <th>site_path_timestamp</th>\n    </tr>\n  </thead>\n  <tbody>\n    <tr>\n      <th>0</th>\n      <td>0.0</td>\n      <td>85.291725</td>\n      <td>104.041054</td>\n      <td>-2331.0</td>\n      <td>5a0546857ecc773753327266_046cfa46be49fc1083481...</td>\n    </tr>\n    <tr>\n      <th>1</th>\n      <td>0.0</td>\n      <td>81.373245</td>\n      <td>107.250343</td>\n      <td>4287.0</td>\n      <td>5a0546857ecc773753327266_046cfa46be49fc1083481...</td>\n    </tr>\n    <tr>\n      <th>2</th>\n      <td>0.0</td>\n      <td>83.534050</td>\n      <td>102.762360</td>\n      <td>-491.0</td>\n      <td>5a0546857ecc773753327266_046cfa46be49fc1083481...</td>\n    </tr>\n    <tr>\n      <th>3</th>\n      <td>0.0</td>\n      <td>84.409050</td>\n      <td>105.003510</td>\n      <td>1827.0</td>\n      <td>5a0546857ecc773753327266_046cfa46be49fc1083481...</td>\n    </tr>\n    <tr>\n      <th>4</th>\n      <td>0.0</td>\n      <td>85.793205</td>\n      <td>104.650810</td>\n      <td>612.0</td>\n      <td>5a0546857ecc773753327266_046cfa46be49fc1083481...</td>\n    </tr>\n    <tr>\n      <th>...</th>\n      <td>...</td>\n      <td>...</td>\n      <td>...</td>\n      <td>...</td>\n      <td>...</td>\n    </tr>\n    <tr>\n      <th>37433</th>\n      <td>4.4</td>\n      <td>204.883438</td>\n      <td>105.256851</td>\n      <td>-626.0</td>\n      <td>5dc8cea7659e181adb076a3f_fd64de8c4a2fc5ebb0e9f...</td>\n    </tr>\n    <tr>\n      <th>37435</th>\n      <td>4.6</td>\n      <td>202.636368</td>\n      <td>106.933083</td>\n      <td>-2607.0</td>\n      <td>5dc8cea7659e181adb076a3f_fd64de8c4a2fc5ebb0e9f...</td>\n    </tr>\n    <tr>\n      <th>37437</th>\n      <td>4.4</td>\n      <td>201.628326</td>\n      <td>111.115379</td>\n      <td>1419.0</td>\n      <td>5dc8cea7659e181adb076a3f_fd64de8c4a2fc5ebb0e9f...</td>\n    </tr>\n    <tr>\n      <th>37436</th>\n      <td>4.4</td>\n      <td>202.210495</td>\n      <td>111.353462</td>\n      <td>-529.0</td>\n      <td>5dc8cea7659e181adb076a3f_fd64de8c4a2fc5ebb0e9f...</td>\n    </tr>\n    <tr>\n      <th>37438</th>\n      <td>4.4</td>\n      <td>196.661209</td>\n      <td>115.627998</td>\n      <td>1018.0</td>\n      <td>5dc8cea7659e181adb076a3f_fd64de8c4a2fc5ebb0e9f...</td>\n    </tr>\n  </tbody>\n</table>\n<p>37439 rows × 5 columns</p>\n</div>"
     },
     "metadata": {},
     "execution_count": 33
    }
   ],
   "source": [
    "if len(USE_FOLDS) > 1:\n",
    "    # foldの結果を平均した後、reindexでsubmission fileにindexを合わせる\n",
    "    # all_preds = pd.concat(predictions).groupby('site_path_timestamp').mean()\n",
    "    all_preds = pd.concat(predictions).reset_index().groupby('index').mean().reset_index(drop=True)\n",
    "    all_preds['site_path_timestamp'] = predictions[0]['site_path_timestamp'].values\n",
    "else:\n",
    "    all_preds = predictions[0]\n",
    "all_preds = all_preds.sort_values('site_path_timestamp')\n",
    "all_preds"
   ]
  },
  {
   "cell_type": "code",
   "execution_count": 34,
   "metadata": {},
   "outputs": [],
   "source": [
    "# # 平均をとる\n",
    "# mean_all_preds = all_preds.groupby('site_path_timestamp').mean()\n",
    "# mean_all_preds"
   ]
  },
  {
   "cell_type": "code",
   "execution_count": 35,
   "metadata": {},
   "outputs": [
    {
     "output_type": "stream",
     "name": "stderr",
     "text": [
      "100%|██████████| 9992/9992 [00:04<00:00, 2479.35it/s]\n"
     ]
    },
    {
     "output_type": "execute_result",
     "data": {
      "text/plain": [
       "                                    site_path_timestamp     floor  \\\n",
       "0     5a0546857ecc773753327266_046cfa46be49fc1083481...  0.000000   \n",
       "1     5a0546857ecc773753327266_046cfa46be49fc1083481...  0.000000   \n",
       "2     5a0546857ecc773753327266_046cfa46be49fc1083481...  0.000000   \n",
       "3     5a0546857ecc773753327266_046cfa46be49fc1083481...  0.000000   \n",
       "4     5a0546857ecc773753327266_046cfa46be49fc1083481...  0.000000   \n",
       "...                                                 ...       ...   \n",
       "9987  5dc8cea7659e181adb076a3f_fd64de8c4a2fc5ebb0e9f...  4.400000   \n",
       "9988  5dc8cea7659e181adb076a3f_fd64de8c4a2fc5ebb0e9f...  4.200000   \n",
       "9989  5dc8cea7659e181adb076a3f_fd64de8c4a2fc5ebb0e9f...  4.466667   \n",
       "9990  5dc8cea7659e181adb076a3f_fd64de8c4a2fc5ebb0e9f...  4.400000   \n",
       "9991  5dc8cea7659e181adb076a3f_fd64de8c4a2fc5ebb0e9f...  4.400000   \n",
       "\n",
       "         timediff           x           y  \n",
       "0    -2331.000000   85.291725  104.041054  \n",
       "1     1874.333333   83.471371  104.360494  \n",
       "2     1869.000000   85.446896  104.082403  \n",
       "3      402.500000   87.306970  106.264547  \n",
       "4     -996.500000   86.026568  108.008910  \n",
       "...           ...         ...         ...  \n",
       "9987   916.666667  211.319303   97.766747  \n",
       "9988  -854.500000  209.270747  102.931304  \n",
       "9989  -629.666667  204.792222  105.365521  \n",
       "9990   445.000000  202.052401  111.288808  \n",
       "9991  1018.000000  196.661209  115.627998  \n",
       "\n",
       "[9992 rows x 5 columns]"
      ],
      "text/html": "<div>\n<style scoped>\n    .dataframe tbody tr th:only-of-type {\n        vertical-align: middle;\n    }\n\n    .dataframe tbody tr th {\n        vertical-align: top;\n    }\n\n    .dataframe thead th {\n        text-align: right;\n    }\n</style>\n<table border=\"1\" class=\"dataframe\">\n  <thead>\n    <tr style=\"text-align: right;\">\n      <th></th>\n      <th>site_path_timestamp</th>\n      <th>floor</th>\n      <th>timediff</th>\n      <th>x</th>\n      <th>y</th>\n    </tr>\n  </thead>\n  <tbody>\n    <tr>\n      <th>0</th>\n      <td>5a0546857ecc773753327266_046cfa46be49fc1083481...</td>\n      <td>0.000000</td>\n      <td>-2331.000000</td>\n      <td>85.291725</td>\n      <td>104.041054</td>\n    </tr>\n    <tr>\n      <th>1</th>\n      <td>5a0546857ecc773753327266_046cfa46be49fc1083481...</td>\n      <td>0.000000</td>\n      <td>1874.333333</td>\n      <td>83.471371</td>\n      <td>104.360494</td>\n    </tr>\n    <tr>\n      <th>2</th>\n      <td>5a0546857ecc773753327266_046cfa46be49fc1083481...</td>\n      <td>0.000000</td>\n      <td>1869.000000</td>\n      <td>85.446896</td>\n      <td>104.082403</td>\n    </tr>\n    <tr>\n      <th>3</th>\n      <td>5a0546857ecc773753327266_046cfa46be49fc1083481...</td>\n      <td>0.000000</td>\n      <td>402.500000</td>\n      <td>87.306970</td>\n      <td>106.264547</td>\n    </tr>\n    <tr>\n      <th>4</th>\n      <td>5a0546857ecc773753327266_046cfa46be49fc1083481...</td>\n      <td>0.000000</td>\n      <td>-996.500000</td>\n      <td>86.026568</td>\n      <td>108.008910</td>\n    </tr>\n    <tr>\n      <th>...</th>\n      <td>...</td>\n      <td>...</td>\n      <td>...</td>\n      <td>...</td>\n      <td>...</td>\n    </tr>\n    <tr>\n      <th>9987</th>\n      <td>5dc8cea7659e181adb076a3f_fd64de8c4a2fc5ebb0e9f...</td>\n      <td>4.400000</td>\n      <td>916.666667</td>\n      <td>211.319303</td>\n      <td>97.766747</td>\n    </tr>\n    <tr>\n      <th>9988</th>\n      <td>5dc8cea7659e181adb076a3f_fd64de8c4a2fc5ebb0e9f...</td>\n      <td>4.200000</td>\n      <td>-854.500000</td>\n      <td>209.270747</td>\n      <td>102.931304</td>\n    </tr>\n    <tr>\n      <th>9989</th>\n      <td>5dc8cea7659e181adb076a3f_fd64de8c4a2fc5ebb0e9f...</td>\n      <td>4.466667</td>\n      <td>-629.666667</td>\n      <td>204.792222</td>\n      <td>105.365521</td>\n    </tr>\n    <tr>\n      <th>9990</th>\n      <td>5dc8cea7659e181adb076a3f_fd64de8c4a2fc5ebb0e9f...</td>\n      <td>4.400000</td>\n      <td>445.000000</td>\n      <td>202.052401</td>\n      <td>111.288808</td>\n    </tr>\n    <tr>\n      <th>9991</th>\n      <td>5dc8cea7659e181adb076a3f_fd64de8c4a2fc5ebb0e9f...</td>\n      <td>4.400000</td>\n      <td>1018.000000</td>\n      <td>196.661209</td>\n      <td>115.627998</td>\n    </tr>\n  </tbody>\n</table>\n<p>9992 rows × 5 columns</p>\n</div>"
     },
     "metadata": {},
     "execution_count": 35
    }
   ],
   "source": [
    "# timediffで加重平均をとる\n",
    "weighted_mean_dict = {}\n",
    "for site_path_timestamp, df in tqdm(all_preds.groupby(\"site_path_timestamp\")):\n",
    "    if len(df) == 1:\n",
    "        weight = 1\n",
    "    else:\n",
    "        total = df['timediff'].astype(int).abs().sum()\n",
    "        timediff = df['timediff'].astype(int).abs().values\n",
    "        weight = (total - timediff) / (total - timediff).sum()\n",
    "    x = (df['x'].values * weight).sum()\n",
    "    y = (df['y'].values * weight).sum()\n",
    "    weighted_mean_dict[site_path_timestamp] = [x, y]\n",
    "\n",
    "\n",
    "__all_preds = pd.DataFrame(weighted_mean_dict, index=['x', 'y']).T.reset_index().rename(columns={'index':\"site_path_timestamp\"}).sort_values('site_path_timestamp')  # 加重平均の方\n",
    "_all_preds = all_preds.groupby(\"site_path_timestamp\").mean().reset_index().sort_values('site_path_timestamp').drop(['x', 'y'], axis=1)  # 平均の方\n",
    "all_preds = pd.merge(_all_preds, __all_preds, on=\"site_path_timestamp\", how=\"left\")\n",
    "all_preds"
   ]
  },
  {
   "cell_type": "markdown",
   "metadata": {},
   "source": [
    "## testのwaypointを予測結果(wifi)から再度線形補完"
   ]
  },
  {
   "cell_type": "code",
   "execution_count": 36,
   "metadata": {},
   "outputs": [],
   "source": [
    "import sys \n",
    "sys.path.append(\"../../\")\n",
    "from multiprocessing import Pool\n",
    "from src.io_f import read_data_file\n",
    "from scipy import interpolate\n",
    "\n",
    "# timestampとwaypointを元に線形補完しtarget_timestampに対応するtarget_waypointを求める　\n",
    "def wifi_waypoint_by_linear_interpolation(\n",
    "    observed_timestamp: np.ndarray, \n",
    "    observed_x:np.ndarray, \n",
    "    observed_y:np.ndarray, \n",
    "    target_timestamp:np.ndarray, \n",
    "    delta_time=500\n",
    "    ):\n",
    "    \"\"\"\n",
    "    observed: すでに知っている情報\n",
    "    observed-timestamp,x,yは全て同じ要素数となる\n",
    "\n",
    "    observedの情報からfitting関数を作成\n",
    "    \"\"\"\n",
    "    target_waypoint_list = []\n",
    "    num_interpolation = len(observed_timestamp) - 1  # 補完回数 \n",
    "    # 各waypoint間で線形補完\n",
    "    for i in range(num_interpolation):\n",
    "        # 潜在的なtimestampを作成(これのどれかにwifiを当てはめるような形)\n",
    "        n_split = int((max(observed_timestamp[i:i+2]) - min(observed_timestamp[i:i+2])) / delta_time) + 2  # delta_time刻みとなるように分割数を指定(+2は始点と終点分)\n",
    "        latent_timestamp = np.linspace(min(observed_timestamp[i:i+2]), max(observed_timestamp[i:i+2]), n_split).astype(int) \n",
    "        \n",
    "        # xが昇順の場合はlatentも昇順になるようにする\n",
    "        if observed_x[i] < observed_x[i+1]:\n",
    "            latent_x = np.linspace(min(observed_x[i:i+2]), max(observed_x[i:i+2]), n_split)\n",
    "        # xが降順の場合はlatentも降順になるようにする\n",
    "        else:\n",
    "            latent_x = np.linspace(min(observed_x[i:i+2]), max(observed_x[i:i+2]), n_split)[::-1]\n",
    "        \n",
    "        # 線形補完関数の適用\n",
    "        fitting_func = interpolate.interp1d(observed_x[i:i+2], observed_y[i:i+2])\n",
    "\n",
    "        # wifiのtimestampに最も近いものをsplit_timestampから取得しそれに対応するwaypointをwifiのwaypointとして取得\n",
    "        target_x = []\n",
    "        target_y = []\n",
    "\n",
    "        # 区間内のwifiデータのみ考える\n",
    "        if i == num_interpolation-1:\n",
    "            # pathの最後の区間にobserved timestampより未来にあるtimestampに対処\n",
    "            target_idx = min(observed_timestamp[i:i+2]) <= target_timestamp\n",
    "        elif i == 0:\n",
    "            # pathの最初の区間にobserved timestampより過去にあるtimestampに対処\n",
    "            target_idx = target_timestamp < max(observed_timestamp[i:i+2])\n",
    "        else:\n",
    "            target_idx = (min(observed_timestamp[i:i+2]) <= target_timestamp) & (target_timestamp < max(observed_timestamp[i:i+2]))\n",
    "        target_use_timestamp = target_timestamp[target_idx]\n",
    "\n",
    "        # timestampが最も近いものをtarget waypointとして取得\n",
    "        for t in target_use_timestamp:\n",
    "            idx = np.abs(latent_timestamp - t).argmin()  # targetとtimestampが最も近いものをlatentから取得\n",
    "            target_x.append(latent_x[idx])\n",
    "            # 原因はよくわからないがfittingするとnanが発生する場合がある\n",
    "            # その場合は元の値をそのまま使う\n",
    "            if np.isnan(fitting_func(latent_x[idx])).sum() > 0:\n",
    "                # print('yに欠損値あり')\n",
    "                idx = np.abs(observed_timestamp - t).argmin()  # 0→wifiの最初のtimestampで問題が起きている\n",
    "                target_y.append(observed_y[idx])\n",
    "                \n",
    "            else:\n",
    "                target_y.append(fitting_func(latent_x[idx]))\n",
    "\n",
    "        assert len(target_x) == len(target_y)\n",
    "        target_waypoint = np.stack([target_x, target_y], axis=1)\n",
    "        target_waypoint_list.append(target_waypoint)\n",
    "\n",
    "    target_waypoint = np.concatenate(target_waypoint_list)\n",
    "    return target_waypoint"
   ]
  },
  {
   "cell_type": "code",
   "execution_count": 37,
   "metadata": {},
   "outputs": [
    {
     "output_type": "execute_result",
     "data": {
      "text/plain": [
       "                                    site_path_timestamp     floor  \\\n",
       "0     5a0546857ecc773753327266_046cfa46be49fc1083481...  0.000000   \n",
       "1     5a0546857ecc773753327266_046cfa46be49fc1083481...  0.000000   \n",
       "2     5a0546857ecc773753327266_046cfa46be49fc1083481...  0.000000   \n",
       "3     5a0546857ecc773753327266_046cfa46be49fc1083481...  0.000000   \n",
       "4     5a0546857ecc773753327266_046cfa46be49fc1083481...  0.000000   \n",
       "...                                                 ...       ...   \n",
       "9987  5dc8cea7659e181adb076a3f_fd64de8c4a2fc5ebb0e9f...  4.400000   \n",
       "9988  5dc8cea7659e181adb076a3f_fd64de8c4a2fc5ebb0e9f...  4.200000   \n",
       "9989  5dc8cea7659e181adb076a3f_fd64de8c4a2fc5ebb0e9f...  4.466667   \n",
       "9990  5dc8cea7659e181adb076a3f_fd64de8c4a2fc5ebb0e9f...  4.400000   \n",
       "9991  5dc8cea7659e181adb076a3f_fd64de8c4a2fc5ebb0e9f...  4.400000   \n",
       "\n",
       "         timediff           x           y                      site  \\\n",
       "0    -2331.000000   85.291725  104.041054  5a0546857ecc773753327266   \n",
       "1     1874.333333   83.471371  104.360494  5a0546857ecc773753327266   \n",
       "2     1869.000000   85.446896  104.082403  5a0546857ecc773753327266   \n",
       "3      402.500000   87.306970  106.264547  5a0546857ecc773753327266   \n",
       "4     -996.500000   86.026568  108.008910  5a0546857ecc773753327266   \n",
       "...           ...         ...         ...                       ...   \n",
       "9987   916.666667  211.319303   97.766747  5dc8cea7659e181adb076a3f   \n",
       "9988  -854.500000  209.270747  102.931304  5dc8cea7659e181adb076a3f   \n",
       "9989  -629.666667  204.792222  105.365521  5dc8cea7659e181adb076a3f   \n",
       "9990   445.000000  202.052401  111.288808  5dc8cea7659e181adb076a3f   \n",
       "9991  1018.000000  196.661209  115.627998  5dc8cea7659e181adb076a3f   \n",
       "\n",
       "                          path      timestamp  \n",
       "0     046cfa46be49fc10834815c6  0000000000009  \n",
       "1     046cfa46be49fc10834815c6  0000000009017  \n",
       "2     046cfa46be49fc10834815c6  0000000015326  \n",
       "3     046cfa46be49fc10834815c6  0000000018763  \n",
       "4     046cfa46be49fc10834815c6  0000000022328  \n",
       "...                        ...            ...  \n",
       "9987  fd64de8c4a2fc5ebb0e9f412  0000000082589  \n",
       "9988  fd64de8c4a2fc5ebb0e9f412  0000000085758  \n",
       "9989  fd64de8c4a2fc5ebb0e9f412  0000000090895  \n",
       "9990  fd64de8c4a2fc5ebb0e9f412  0000000096899  \n",
       "9991  fd64de8c4a2fc5ebb0e9f412  0000000100447  \n",
       "\n",
       "[9992 rows x 8 columns]"
      ],
      "text/html": "<div>\n<style scoped>\n    .dataframe tbody tr th:only-of-type {\n        vertical-align: middle;\n    }\n\n    .dataframe tbody tr th {\n        vertical-align: top;\n    }\n\n    .dataframe thead th {\n        text-align: right;\n    }\n</style>\n<table border=\"1\" class=\"dataframe\">\n  <thead>\n    <tr style=\"text-align: right;\">\n      <th></th>\n      <th>site_path_timestamp</th>\n      <th>floor</th>\n      <th>timediff</th>\n      <th>x</th>\n      <th>y</th>\n      <th>site</th>\n      <th>path</th>\n      <th>timestamp</th>\n    </tr>\n  </thead>\n  <tbody>\n    <tr>\n      <th>0</th>\n      <td>5a0546857ecc773753327266_046cfa46be49fc1083481...</td>\n      <td>0.000000</td>\n      <td>-2331.000000</td>\n      <td>85.291725</td>\n      <td>104.041054</td>\n      <td>5a0546857ecc773753327266</td>\n      <td>046cfa46be49fc10834815c6</td>\n      <td>0000000000009</td>\n    </tr>\n    <tr>\n      <th>1</th>\n      <td>5a0546857ecc773753327266_046cfa46be49fc1083481...</td>\n      <td>0.000000</td>\n      <td>1874.333333</td>\n      <td>83.471371</td>\n      <td>104.360494</td>\n      <td>5a0546857ecc773753327266</td>\n      <td>046cfa46be49fc10834815c6</td>\n      <td>0000000009017</td>\n    </tr>\n    <tr>\n      <th>2</th>\n      <td>5a0546857ecc773753327266_046cfa46be49fc1083481...</td>\n      <td>0.000000</td>\n      <td>1869.000000</td>\n      <td>85.446896</td>\n      <td>104.082403</td>\n      <td>5a0546857ecc773753327266</td>\n      <td>046cfa46be49fc10834815c6</td>\n      <td>0000000015326</td>\n    </tr>\n    <tr>\n      <th>3</th>\n      <td>5a0546857ecc773753327266_046cfa46be49fc1083481...</td>\n      <td>0.000000</td>\n      <td>402.500000</td>\n      <td>87.306970</td>\n      <td>106.264547</td>\n      <td>5a0546857ecc773753327266</td>\n      <td>046cfa46be49fc10834815c6</td>\n      <td>0000000018763</td>\n    </tr>\n    <tr>\n      <th>4</th>\n      <td>5a0546857ecc773753327266_046cfa46be49fc1083481...</td>\n      <td>0.000000</td>\n      <td>-996.500000</td>\n      <td>86.026568</td>\n      <td>108.008910</td>\n      <td>5a0546857ecc773753327266</td>\n      <td>046cfa46be49fc10834815c6</td>\n      <td>0000000022328</td>\n    </tr>\n    <tr>\n      <th>...</th>\n      <td>...</td>\n      <td>...</td>\n      <td>...</td>\n      <td>...</td>\n      <td>...</td>\n      <td>...</td>\n      <td>...</td>\n      <td>...</td>\n    </tr>\n    <tr>\n      <th>9987</th>\n      <td>5dc8cea7659e181adb076a3f_fd64de8c4a2fc5ebb0e9f...</td>\n      <td>4.400000</td>\n      <td>916.666667</td>\n      <td>211.319303</td>\n      <td>97.766747</td>\n      <td>5dc8cea7659e181adb076a3f</td>\n      <td>fd64de8c4a2fc5ebb0e9f412</td>\n      <td>0000000082589</td>\n    </tr>\n    <tr>\n      <th>9988</th>\n      <td>5dc8cea7659e181adb076a3f_fd64de8c4a2fc5ebb0e9f...</td>\n      <td>4.200000</td>\n      <td>-854.500000</td>\n      <td>209.270747</td>\n      <td>102.931304</td>\n      <td>5dc8cea7659e181adb076a3f</td>\n      <td>fd64de8c4a2fc5ebb0e9f412</td>\n      <td>0000000085758</td>\n    </tr>\n    <tr>\n      <th>9989</th>\n      <td>5dc8cea7659e181adb076a3f_fd64de8c4a2fc5ebb0e9f...</td>\n      <td>4.466667</td>\n      <td>-629.666667</td>\n      <td>204.792222</td>\n      <td>105.365521</td>\n      <td>5dc8cea7659e181adb076a3f</td>\n      <td>fd64de8c4a2fc5ebb0e9f412</td>\n      <td>0000000090895</td>\n    </tr>\n    <tr>\n      <th>9990</th>\n      <td>5dc8cea7659e181adb076a3f_fd64de8c4a2fc5ebb0e9f...</td>\n      <td>4.400000</td>\n      <td>445.000000</td>\n      <td>202.052401</td>\n      <td>111.288808</td>\n      <td>5dc8cea7659e181adb076a3f</td>\n      <td>fd64de8c4a2fc5ebb0e9f412</td>\n      <td>0000000096899</td>\n    </tr>\n    <tr>\n      <th>9991</th>\n      <td>5dc8cea7659e181adb076a3f_fd64de8c4a2fc5ebb0e9f...</td>\n      <td>4.400000</td>\n      <td>1018.000000</td>\n      <td>196.661209</td>\n      <td>115.627998</td>\n      <td>5dc8cea7659e181adb076a3f</td>\n      <td>fd64de8c4a2fc5ebb0e9f412</td>\n      <td>0000000100447</td>\n    </tr>\n  </tbody>\n</table>\n<p>9992 rows × 8 columns</p>\n</div>"
     },
     "metadata": {},
     "execution_count": 37
    }
   ],
   "source": [
    "all_preds['site'] = all_preds.reset_index()['site_path_timestamp'].str.split('_', expand=True)[0].values\n",
    "all_preds['path'] = all_preds.reset_index()['site_path_timestamp'].str.split('_', expand=True)[1].values\n",
    "all_preds['timestamp'] = all_preds.reset_index()['site_path_timestamp'].str.split('_', expand=True)[2].values\n",
    "all_preds"
   ]
  },
  {
   "cell_type": "code",
   "execution_count": 38,
   "metadata": {},
   "outputs": [
    {
     "output_type": "stream",
     "name": "stdout",
     "text": [
      "10 10\n"
     ]
    },
    {
     "output_type": "execute_result",
     "data": {
      "text/plain": [
       "<matplotlib.legend.Legend at 0x7f35f204bb50>"
      ]
     },
     "metadata": {},
     "execution_count": 38
    },
    {
     "output_type": "display_data",
     "data": {
      "text/plain": "<Figure size 432x288 with 1 Axes>",
      "image/svg+xml": "<?xml version=\"1.0\" encoding=\"utf-8\" standalone=\"no\"?>\n<!DOCTYPE svg PUBLIC \"-//W3C//DTD SVG 1.1//EN\"\n  \"http://www.w3.org/Graphics/SVG/1.1/DTD/svg11.dtd\">\n<!-- Created with matplotlib (https://matplotlib.org/) -->\n<svg height=\"248.518125pt\" version=\"1.1\" viewBox=\"0 0 375.2875 248.518125\" width=\"375.2875pt\" xmlns=\"http://www.w3.org/2000/svg\" xmlns:xlink=\"http://www.w3.org/1999/xlink\">\n <metadata>\n  <rdf:RDF xmlns:cc=\"http://creativecommons.org/ns#\" xmlns:dc=\"http://purl.org/dc/elements/1.1/\" xmlns:rdf=\"http://www.w3.org/1999/02/22-rdf-syntax-ns#\">\n   <cc:Work>\n    <dc:type rdf:resource=\"http://purl.org/dc/dcmitype/StillImage\"/>\n    <dc:date>2021-04-29T02:25:15.061268</dc:date>\n    <dc:format>image/svg+xml</dc:format>\n    <dc:creator>\n     <cc:Agent>\n      <dc:title>Matplotlib v3.3.3, https://matplotlib.org/</dc:title>\n     </cc:Agent>\n    </dc:creator>\n   </cc:Work>\n  </rdf:RDF>\n </metadata>\n <defs>\n  <style type=\"text/css\">*{stroke-linecap:butt;stroke-linejoin:round;}</style>\n </defs>\n <g id=\"figure_1\">\n  <g id=\"patch_1\">\n   <path d=\"M 0 248.518125 \nL 375.2875 248.518125 \nL 375.2875 0 \nL 0 0 \nz\n\" style=\"fill:none;\"/>\n  </g>\n  <g id=\"axes_1\">\n   <g id=\"patch_2\">\n    <path d=\"M 33.2875 224.64 \nL 368.0875 224.64 \nL 368.0875 7.2 \nL 33.2875 7.2 \nz\n\" style=\"fill:#ffffff;\"/>\n   </g>\n   <g id=\"matplotlib.axis_1\">\n    <g id=\"xtick_1\">\n     <g id=\"line2d_1\">\n      <defs>\n       <path d=\"M 0 0 \nL 0 3.5 \n\" id=\"m79c635ab6e\" style=\"stroke:#000000;stroke-width:0.8;\"/>\n      </defs>\n      <g>\n       <use style=\"stroke:#000000;stroke-width:0.8;\" x=\"57.466474\" xlink:href=\"#m79c635ab6e\" y=\"224.64\"/>\n      </g>\n     </g>\n     <g id=\"text_1\">\n      <!-- 157 -->\n      <g transform=\"translate(47.922724 239.238438)scale(0.1 -0.1)\">\n       <defs>\n        <path d=\"M 12.40625 8.296875 \nL 28.515625 8.296875 \nL 28.515625 63.921875 \nL 10.984375 60.40625 \nL 10.984375 69.390625 \nL 28.421875 72.90625 \nL 38.28125 72.90625 \nL 38.28125 8.296875 \nL 54.390625 8.296875 \nL 54.390625 0 \nL 12.40625 0 \nz\n\" id=\"DejaVuSans-49\"/>\n        <path d=\"M 10.796875 72.90625 \nL 49.515625 72.90625 \nL 49.515625 64.59375 \nL 19.828125 64.59375 \nL 19.828125 46.734375 \nQ 21.96875 47.46875 24.109375 47.828125 \nQ 26.265625 48.1875 28.421875 48.1875 \nQ 40.625 48.1875 47.75 41.5 \nQ 54.890625 34.8125 54.890625 23.390625 \nQ 54.890625 11.625 47.5625 5.09375 \nQ 40.234375 -1.421875 26.90625 -1.421875 \nQ 22.3125 -1.421875 17.546875 -0.640625 \nQ 12.796875 0.140625 7.71875 1.703125 \nL 7.71875 11.625 \nQ 12.109375 9.234375 16.796875 8.0625 \nQ 21.484375 6.890625 26.703125 6.890625 \nQ 35.15625 6.890625 40.078125 11.328125 \nQ 45.015625 15.765625 45.015625 23.390625 \nQ 45.015625 31 40.078125 35.4375 \nQ 35.15625 39.890625 26.703125 39.890625 \nQ 22.75 39.890625 18.8125 39.015625 \nQ 14.890625 38.140625 10.796875 36.28125 \nz\n\" id=\"DejaVuSans-53\"/>\n        <path d=\"M 8.203125 72.90625 \nL 55.078125 72.90625 \nL 55.078125 68.703125 \nL 28.609375 0 \nL 18.3125 0 \nL 43.21875 64.59375 \nL 8.203125 64.59375 \nz\n\" id=\"DejaVuSans-55\"/>\n       </defs>\n       <use xlink:href=\"#DejaVuSans-49\"/>\n       <use x=\"63.623047\" xlink:href=\"#DejaVuSans-53\"/>\n       <use x=\"127.246094\" xlink:href=\"#DejaVuSans-55\"/>\n      </g>\n     </g>\n    </g>\n    <g id=\"xtick_2\">\n     <g id=\"line2d_2\">\n      <g>\n       <use style=\"stroke:#000000;stroke-width:0.8;\" x=\"128.786653\" xlink:href=\"#m79c635ab6e\" y=\"224.64\"/>\n      </g>\n     </g>\n     <g id=\"text_2\">\n      <!-- 158 -->\n      <g transform=\"translate(119.242903 239.238438)scale(0.1 -0.1)\">\n       <defs>\n        <path d=\"M 31.78125 34.625 \nQ 24.75 34.625 20.71875 30.859375 \nQ 16.703125 27.09375 16.703125 20.515625 \nQ 16.703125 13.921875 20.71875 10.15625 \nQ 24.75 6.390625 31.78125 6.390625 \nQ 38.8125 6.390625 42.859375 10.171875 \nQ 46.921875 13.96875 46.921875 20.515625 \nQ 46.921875 27.09375 42.890625 30.859375 \nQ 38.875 34.625 31.78125 34.625 \nz\nM 21.921875 38.8125 \nQ 15.578125 40.375 12.03125 44.71875 \nQ 8.5 49.078125 8.5 55.328125 \nQ 8.5 64.0625 14.71875 69.140625 \nQ 20.953125 74.21875 31.78125 74.21875 \nQ 42.671875 74.21875 48.875 69.140625 \nQ 55.078125 64.0625 55.078125 55.328125 \nQ 55.078125 49.078125 51.53125 44.71875 \nQ 48 40.375 41.703125 38.8125 \nQ 48.828125 37.15625 52.796875 32.3125 \nQ 56.78125 27.484375 56.78125 20.515625 \nQ 56.78125 9.90625 50.3125 4.234375 \nQ 43.84375 -1.421875 31.78125 -1.421875 \nQ 19.734375 -1.421875 13.25 4.234375 \nQ 6.78125 9.90625 6.78125 20.515625 \nQ 6.78125 27.484375 10.78125 32.3125 \nQ 14.796875 37.15625 21.921875 38.8125 \nz\nM 18.3125 54.390625 \nQ 18.3125 48.734375 21.84375 45.5625 \nQ 25.390625 42.390625 31.78125 42.390625 \nQ 38.140625 42.390625 41.71875 45.5625 \nQ 45.3125 48.734375 45.3125 54.390625 \nQ 45.3125 60.0625 41.71875 63.234375 \nQ 38.140625 66.40625 31.78125 66.40625 \nQ 25.390625 66.40625 21.84375 63.234375 \nQ 18.3125 60.0625 18.3125 54.390625 \nz\n\" id=\"DejaVuSans-56\"/>\n       </defs>\n       <use xlink:href=\"#DejaVuSans-49\"/>\n       <use x=\"63.623047\" xlink:href=\"#DejaVuSans-53\"/>\n       <use x=\"127.246094\" xlink:href=\"#DejaVuSans-56\"/>\n      </g>\n     </g>\n    </g>\n    <g id=\"xtick_3\">\n     <g id=\"line2d_3\">\n      <g>\n       <use style=\"stroke:#000000;stroke-width:0.8;\" x=\"200.106831\" xlink:href=\"#m79c635ab6e\" y=\"224.64\"/>\n      </g>\n     </g>\n     <g id=\"text_3\">\n      <!-- 159 -->\n      <g transform=\"translate(190.563081 239.238438)scale(0.1 -0.1)\">\n       <defs>\n        <path d=\"M 10.984375 1.515625 \nL 10.984375 10.5 \nQ 14.703125 8.734375 18.5 7.8125 \nQ 22.3125 6.890625 25.984375 6.890625 \nQ 35.75 6.890625 40.890625 13.453125 \nQ 46.046875 20.015625 46.78125 33.40625 \nQ 43.953125 29.203125 39.59375 26.953125 \nQ 35.25 24.703125 29.984375 24.703125 \nQ 19.046875 24.703125 12.671875 31.3125 \nQ 6.296875 37.9375 6.296875 49.421875 \nQ 6.296875 60.640625 12.9375 67.421875 \nQ 19.578125 74.21875 30.609375 74.21875 \nQ 43.265625 74.21875 49.921875 64.515625 \nQ 56.59375 54.828125 56.59375 36.375 \nQ 56.59375 19.140625 48.40625 8.859375 \nQ 40.234375 -1.421875 26.421875 -1.421875 \nQ 22.703125 -1.421875 18.890625 -0.6875 \nQ 15.09375 0.046875 10.984375 1.515625 \nz\nM 30.609375 32.421875 \nQ 37.25 32.421875 41.125 36.953125 \nQ 45.015625 41.5 45.015625 49.421875 \nQ 45.015625 57.28125 41.125 61.84375 \nQ 37.25 66.40625 30.609375 66.40625 \nQ 23.96875 66.40625 20.09375 61.84375 \nQ 16.21875 57.28125 16.21875 49.421875 \nQ 16.21875 41.5 20.09375 36.953125 \nQ 23.96875 32.421875 30.609375 32.421875 \nz\n\" id=\"DejaVuSans-57\"/>\n       </defs>\n       <use xlink:href=\"#DejaVuSans-49\"/>\n       <use x=\"63.623047\" xlink:href=\"#DejaVuSans-53\"/>\n       <use x=\"127.246094\" xlink:href=\"#DejaVuSans-57\"/>\n      </g>\n     </g>\n    </g>\n    <g id=\"xtick_4\">\n     <g id=\"line2d_4\">\n      <g>\n       <use style=\"stroke:#000000;stroke-width:0.8;\" x=\"271.42701\" xlink:href=\"#m79c635ab6e\" y=\"224.64\"/>\n      </g>\n     </g>\n     <g id=\"text_4\">\n      <!-- 160 -->\n      <g transform=\"translate(261.88326 239.238438)scale(0.1 -0.1)\">\n       <defs>\n        <path d=\"M 33.015625 40.375 \nQ 26.375 40.375 22.484375 35.828125 \nQ 18.609375 31.296875 18.609375 23.390625 \nQ 18.609375 15.53125 22.484375 10.953125 \nQ 26.375 6.390625 33.015625 6.390625 \nQ 39.65625 6.390625 43.53125 10.953125 \nQ 47.40625 15.53125 47.40625 23.390625 \nQ 47.40625 31.296875 43.53125 35.828125 \nQ 39.65625 40.375 33.015625 40.375 \nz\nM 52.59375 71.296875 \nL 52.59375 62.3125 \nQ 48.875 64.0625 45.09375 64.984375 \nQ 41.3125 65.921875 37.59375 65.921875 \nQ 27.828125 65.921875 22.671875 59.328125 \nQ 17.53125 52.734375 16.796875 39.40625 \nQ 19.671875 43.65625 24.015625 45.921875 \nQ 28.375 48.1875 33.59375 48.1875 \nQ 44.578125 48.1875 50.953125 41.515625 \nQ 57.328125 34.859375 57.328125 23.390625 \nQ 57.328125 12.15625 50.6875 5.359375 \nQ 44.046875 -1.421875 33.015625 -1.421875 \nQ 20.359375 -1.421875 13.671875 8.265625 \nQ 6.984375 17.96875 6.984375 36.375 \nQ 6.984375 53.65625 15.1875 63.9375 \nQ 23.390625 74.21875 37.203125 74.21875 \nQ 40.921875 74.21875 44.703125 73.484375 \nQ 48.484375 72.75 52.59375 71.296875 \nz\n\" id=\"DejaVuSans-54\"/>\n        <path d=\"M 31.78125 66.40625 \nQ 24.171875 66.40625 20.328125 58.90625 \nQ 16.5 51.421875 16.5 36.375 \nQ 16.5 21.390625 20.328125 13.890625 \nQ 24.171875 6.390625 31.78125 6.390625 \nQ 39.453125 6.390625 43.28125 13.890625 \nQ 47.125 21.390625 47.125 36.375 \nQ 47.125 51.421875 43.28125 58.90625 \nQ 39.453125 66.40625 31.78125 66.40625 \nz\nM 31.78125 74.21875 \nQ 44.046875 74.21875 50.515625 64.515625 \nQ 56.984375 54.828125 56.984375 36.375 \nQ 56.984375 17.96875 50.515625 8.265625 \nQ 44.046875 -1.421875 31.78125 -1.421875 \nQ 19.53125 -1.421875 13.0625 8.265625 \nQ 6.59375 17.96875 6.59375 36.375 \nQ 6.59375 54.828125 13.0625 64.515625 \nQ 19.53125 74.21875 31.78125 74.21875 \nz\n\" id=\"DejaVuSans-48\"/>\n       </defs>\n       <use xlink:href=\"#DejaVuSans-49\"/>\n       <use x=\"63.623047\" xlink:href=\"#DejaVuSans-54\"/>\n       <use x=\"127.246094\" xlink:href=\"#DejaVuSans-48\"/>\n      </g>\n     </g>\n    </g>\n    <g id=\"xtick_5\">\n     <g id=\"line2d_5\">\n      <g>\n       <use style=\"stroke:#000000;stroke-width:0.8;\" x=\"342.747188\" xlink:href=\"#m79c635ab6e\" y=\"224.64\"/>\n      </g>\n     </g>\n     <g id=\"text_5\">\n      <!-- 161 -->\n      <g transform=\"translate(333.203438 239.238438)scale(0.1 -0.1)\">\n       <use xlink:href=\"#DejaVuSans-49\"/>\n       <use x=\"63.623047\" xlink:href=\"#DejaVuSans-54\"/>\n       <use x=\"127.246094\" xlink:href=\"#DejaVuSans-49\"/>\n      </g>\n     </g>\n    </g>\n   </g>\n   <g id=\"matplotlib.axis_2\">\n    <g id=\"ytick_1\">\n     <g id=\"line2d_6\">\n      <defs>\n       <path d=\"M 0 0 \nL -3.5 0 \n\" id=\"m40f367b5a9\" style=\"stroke:#000000;stroke-width:0.8;\"/>\n      </defs>\n      <g>\n       <use style=\"stroke:#000000;stroke-width:0.8;\" x=\"33.2875\" xlink:href=\"#m40f367b5a9\" y=\"223.692791\"/>\n      </g>\n     </g>\n     <g id=\"text_6\">\n      <!-- 115 -->\n      <g transform=\"translate(7.2 227.49201)scale(0.1 -0.1)\">\n       <use xlink:href=\"#DejaVuSans-49\"/>\n       <use x=\"63.623047\" xlink:href=\"#DejaVuSans-49\"/>\n       <use x=\"127.246094\" xlink:href=\"#DejaVuSans-53\"/>\n      </g>\n     </g>\n    </g>\n    <g id=\"ytick_2\">\n     <g id=\"line2d_7\">\n      <g>\n       <use style=\"stroke:#000000;stroke-width:0.8;\" x=\"33.2875\" xlink:href=\"#m40f367b5a9\" y=\"178.962471\"/>\n      </g>\n     </g>\n     <g id=\"text_7\">\n      <!-- 120 -->\n      <g transform=\"translate(7.2 182.76169)scale(0.1 -0.1)\">\n       <defs>\n        <path d=\"M 19.1875 8.296875 \nL 53.609375 8.296875 \nL 53.609375 0 \nL 7.328125 0 \nL 7.328125 8.296875 \nQ 12.9375 14.109375 22.625 23.890625 \nQ 32.328125 33.6875 34.8125 36.53125 \nQ 39.546875 41.84375 41.421875 45.53125 \nQ 43.3125 49.21875 43.3125 52.78125 \nQ 43.3125 58.59375 39.234375 62.25 \nQ 35.15625 65.921875 28.609375 65.921875 \nQ 23.96875 65.921875 18.8125 64.3125 \nQ 13.671875 62.703125 7.8125 59.421875 \nL 7.8125 69.390625 \nQ 13.765625 71.78125 18.9375 73 \nQ 24.125 74.21875 28.421875 74.21875 \nQ 39.75 74.21875 46.484375 68.546875 \nQ 53.21875 62.890625 53.21875 53.421875 \nQ 53.21875 48.921875 51.53125 44.890625 \nQ 49.859375 40.875 45.40625 35.40625 \nQ 44.1875 33.984375 37.640625 27.21875 \nQ 31.109375 20.453125 19.1875 8.296875 \nz\n\" id=\"DejaVuSans-50\"/>\n       </defs>\n       <use xlink:href=\"#DejaVuSans-49\"/>\n       <use x=\"63.623047\" xlink:href=\"#DejaVuSans-50\"/>\n       <use x=\"127.246094\" xlink:href=\"#DejaVuSans-48\"/>\n      </g>\n     </g>\n    </g>\n    <g id=\"ytick_3\">\n     <g id=\"line2d_8\">\n      <g>\n       <use style=\"stroke:#000000;stroke-width:0.8;\" x=\"33.2875\" xlink:href=\"#m40f367b5a9\" y=\"134.232151\"/>\n      </g>\n     </g>\n     <g id=\"text_8\">\n      <!-- 125 -->\n      <g transform=\"translate(7.2 138.03137)scale(0.1 -0.1)\">\n       <use xlink:href=\"#DejaVuSans-49\"/>\n       <use x=\"63.623047\" xlink:href=\"#DejaVuSans-50\"/>\n       <use x=\"127.246094\" xlink:href=\"#DejaVuSans-53\"/>\n      </g>\n     </g>\n    </g>\n    <g id=\"ytick_4\">\n     <g id=\"line2d_9\">\n      <g>\n       <use style=\"stroke:#000000;stroke-width:0.8;\" x=\"33.2875\" xlink:href=\"#m40f367b5a9\" y=\"89.501831\"/>\n      </g>\n     </g>\n     <g id=\"text_9\">\n      <!-- 130 -->\n      <g transform=\"translate(7.2 93.30105)scale(0.1 -0.1)\">\n       <defs>\n        <path d=\"M 40.578125 39.3125 \nQ 47.65625 37.796875 51.625 33 \nQ 55.609375 28.21875 55.609375 21.1875 \nQ 55.609375 10.40625 48.1875 4.484375 \nQ 40.765625 -1.421875 27.09375 -1.421875 \nQ 22.515625 -1.421875 17.65625 -0.515625 \nQ 12.796875 0.390625 7.625 2.203125 \nL 7.625 11.71875 \nQ 11.71875 9.328125 16.59375 8.109375 \nQ 21.484375 6.890625 26.8125 6.890625 \nQ 36.078125 6.890625 40.9375 10.546875 \nQ 45.796875 14.203125 45.796875 21.1875 \nQ 45.796875 27.640625 41.28125 31.265625 \nQ 36.765625 34.90625 28.71875 34.90625 \nL 20.21875 34.90625 \nL 20.21875 43.015625 \nL 29.109375 43.015625 \nQ 36.375 43.015625 40.234375 45.921875 \nQ 44.09375 48.828125 44.09375 54.296875 \nQ 44.09375 59.90625 40.109375 62.90625 \nQ 36.140625 65.921875 28.71875 65.921875 \nQ 24.65625 65.921875 20.015625 65.03125 \nQ 15.375 64.15625 9.8125 62.3125 \nL 9.8125 71.09375 \nQ 15.4375 72.65625 20.34375 73.4375 \nQ 25.25 74.21875 29.59375 74.21875 \nQ 40.828125 74.21875 47.359375 69.109375 \nQ 53.90625 64.015625 53.90625 55.328125 \nQ 53.90625 49.265625 50.4375 45.09375 \nQ 46.96875 40.921875 40.578125 39.3125 \nz\n\" id=\"DejaVuSans-51\"/>\n       </defs>\n       <use xlink:href=\"#DejaVuSans-49\"/>\n       <use x=\"63.623047\" xlink:href=\"#DejaVuSans-51\"/>\n       <use x=\"127.246094\" xlink:href=\"#DejaVuSans-48\"/>\n      </g>\n     </g>\n    </g>\n    <g id=\"ytick_5\">\n     <g id=\"line2d_10\">\n      <g>\n       <use style=\"stroke:#000000;stroke-width:0.8;\" x=\"33.2875\" xlink:href=\"#m40f367b5a9\" y=\"44.771511\"/>\n      </g>\n     </g>\n     <g id=\"text_10\">\n      <!-- 135 -->\n      <g transform=\"translate(7.2 48.57073)scale(0.1 -0.1)\">\n       <use xlink:href=\"#DejaVuSans-49\"/>\n       <use x=\"63.623047\" xlink:href=\"#DejaVuSans-51\"/>\n       <use x=\"127.246094\" xlink:href=\"#DejaVuSans-53\"/>\n      </g>\n     </g>\n    </g>\n   </g>\n   <g id=\"line2d_11\">\n    <path clip-path=\"url(#p0ccb3682ab)\" d=\"M 280.350738 53.275295 \nL 171.785764 17.083636 \nL 311.410012 51.859338 \nL 310.80736 101.96276 \nL 260.785494 136.105291 \nL 352.869318 176.20319 \nL 336.107331 155.143923 \nL 164.135171 194.600535 \nL 48.505682 198.175718 \nL 233.32655 214.756364 \n\" style=\"fill:none;stroke:#1f77b4;stroke-dasharray:5.55,2.4;stroke-dashoffset:0;stroke-opacity:0.3;stroke-width:1.5;\"/>\n    <defs>\n     <path d=\"M 0 3 \nC 0.795609 3 1.55874 2.683901 2.12132 2.12132 \nC 2.683901 1.55874 3 0.795609 3 0 \nC 3 -0.795609 2.683901 -1.55874 2.12132 -2.12132 \nC 1.55874 -2.683901 0.795609 -3 0 -3 \nC -0.795609 -3 -1.55874 -2.683901 -2.12132 -2.12132 \nC -2.683901 -1.55874 -3 -0.795609 -3 0 \nC -3 0.795609 -2.683901 1.55874 -2.12132 2.12132 \nC -1.55874 2.683901 -0.795609 3 0 3 \nz\n\" id=\"mf6e7c073ca\" style=\"stroke:#1f77b4;stroke-opacity:0.3;\"/>\n    </defs>\n    <g clip-path=\"url(#p0ccb3682ab)\">\n     <use style=\"fill:#1f77b4;fill-opacity:0.3;stroke:#1f77b4;stroke-opacity:0.3;\" x=\"280.350738\" xlink:href=\"#mf6e7c073ca\" y=\"53.275295\"/>\n     <use style=\"fill:#1f77b4;fill-opacity:0.3;stroke:#1f77b4;stroke-opacity:0.3;\" x=\"171.785764\" xlink:href=\"#mf6e7c073ca\" y=\"17.083636\"/>\n     <use style=\"fill:#1f77b4;fill-opacity:0.3;stroke:#1f77b4;stroke-opacity:0.3;\" x=\"311.410012\" xlink:href=\"#mf6e7c073ca\" y=\"51.859338\"/>\n     <use style=\"fill:#1f77b4;fill-opacity:0.3;stroke:#1f77b4;stroke-opacity:0.3;\" x=\"310.80736\" xlink:href=\"#mf6e7c073ca\" y=\"101.96276\"/>\n     <use style=\"fill:#1f77b4;fill-opacity:0.3;stroke:#1f77b4;stroke-opacity:0.3;\" x=\"260.785494\" xlink:href=\"#mf6e7c073ca\" y=\"136.105291\"/>\n     <use style=\"fill:#1f77b4;fill-opacity:0.3;stroke:#1f77b4;stroke-opacity:0.3;\" x=\"352.869318\" xlink:href=\"#mf6e7c073ca\" y=\"176.20319\"/>\n     <use style=\"fill:#1f77b4;fill-opacity:0.3;stroke:#1f77b4;stroke-opacity:0.3;\" x=\"336.107331\" xlink:href=\"#mf6e7c073ca\" y=\"155.143923\"/>\n     <use style=\"fill:#1f77b4;fill-opacity:0.3;stroke:#1f77b4;stroke-opacity:0.3;\" x=\"164.135171\" xlink:href=\"#mf6e7c073ca\" y=\"194.600535\"/>\n     <use style=\"fill:#1f77b4;fill-opacity:0.3;stroke:#1f77b4;stroke-opacity:0.3;\" x=\"48.505682\" xlink:href=\"#mf6e7c073ca\" y=\"198.175718\"/>\n     <use style=\"fill:#1f77b4;fill-opacity:0.3;stroke:#1f77b4;stroke-opacity:0.3;\" x=\"233.32655\" xlink:href=\"#mf6e7c073ca\" y=\"214.756364\"/>\n    </g>\n   </g>\n   <g id=\"line2d_12\">\n    <path clip-path=\"url(#p0ccb3682ab)\" d=\"M 280.350738 53.275295 \nL 198.927008 26.131551 \nL 311.319614 59.374852 \nL 307.864897 103.971144 \nL 260.785494 136.105291 \nL 346.730397 173.529996 \nL 336.107331 155.143923 \nL 148.717906 195.077226 \nL 63.922947 197.699027 \nL 233.32655 214.756364 \n\" style=\"fill:none;stroke:#ff7f0e;stroke-linecap:square;stroke-opacity:0.3;stroke-width:1.5;\"/>\n    <defs>\n     <path d=\"M 0 3 \nC 0.795609 3 1.55874 2.683901 2.12132 2.12132 \nC 2.683901 1.55874 3 0.795609 3 0 \nC 3 -0.795609 2.683901 -1.55874 2.12132 -2.12132 \nC 1.55874 -2.683901 0.795609 -3 0 -3 \nC -0.795609 -3 -1.55874 -2.683901 -2.12132 -2.12132 \nC -2.683901 -1.55874 -3 -0.795609 -3 0 \nC -3 0.795609 -2.683901 1.55874 -2.12132 2.12132 \nC -1.55874 2.683901 -0.795609 3 0 3 \nz\n\" id=\"m96bd3744bf\" style=\"stroke:#ff7f0e;stroke-opacity:0.3;\"/>\n    </defs>\n    <g clip-path=\"url(#p0ccb3682ab)\">\n     <use style=\"fill:#ff7f0e;fill-opacity:0.3;stroke:#ff7f0e;stroke-opacity:0.3;\" x=\"280.350738\" xlink:href=\"#m96bd3744bf\" y=\"53.275295\"/>\n     <use style=\"fill:#ff7f0e;fill-opacity:0.3;stroke:#ff7f0e;stroke-opacity:0.3;\" x=\"198.927008\" xlink:href=\"#m96bd3744bf\" y=\"26.131551\"/>\n     <use style=\"fill:#ff7f0e;fill-opacity:0.3;stroke:#ff7f0e;stroke-opacity:0.3;\" x=\"311.319614\" xlink:href=\"#m96bd3744bf\" y=\"59.374852\"/>\n     <use style=\"fill:#ff7f0e;fill-opacity:0.3;stroke:#ff7f0e;stroke-opacity:0.3;\" x=\"307.864897\" xlink:href=\"#m96bd3744bf\" y=\"103.971144\"/>\n     <use style=\"fill:#ff7f0e;fill-opacity:0.3;stroke:#ff7f0e;stroke-opacity:0.3;\" x=\"260.785494\" xlink:href=\"#m96bd3744bf\" y=\"136.105291\"/>\n     <use style=\"fill:#ff7f0e;fill-opacity:0.3;stroke:#ff7f0e;stroke-opacity:0.3;\" x=\"346.730397\" xlink:href=\"#m96bd3744bf\" y=\"173.529996\"/>\n     <use style=\"fill:#ff7f0e;fill-opacity:0.3;stroke:#ff7f0e;stroke-opacity:0.3;\" x=\"336.107331\" xlink:href=\"#m96bd3744bf\" y=\"155.143923\"/>\n     <use style=\"fill:#ff7f0e;fill-opacity:0.3;stroke:#ff7f0e;stroke-opacity:0.3;\" x=\"148.717906\" xlink:href=\"#m96bd3744bf\" y=\"195.077226\"/>\n     <use style=\"fill:#ff7f0e;fill-opacity:0.3;stroke:#ff7f0e;stroke-opacity:0.3;\" x=\"63.922947\" xlink:href=\"#m96bd3744bf\" y=\"197.699027\"/>\n     <use style=\"fill:#ff7f0e;fill-opacity:0.3;stroke:#ff7f0e;stroke-opacity:0.3;\" x=\"233.32655\" xlink:href=\"#m96bd3744bf\" y=\"214.756364\"/>\n    </g>\n   </g>\n   <g id=\"patch_3\">\n    <path d=\"M 33.2875 224.64 \nL 33.2875 7.2 \n\" style=\"fill:none;stroke:#000000;stroke-linecap:square;stroke-linejoin:miter;stroke-width:0.8;\"/>\n   </g>\n   <g id=\"patch_4\">\n    <path d=\"M 368.0875 224.64 \nL 368.0875 7.2 \n\" style=\"fill:none;stroke:#000000;stroke-linecap:square;stroke-linejoin:miter;stroke-width:0.8;\"/>\n   </g>\n   <g id=\"patch_5\">\n    <path d=\"M 33.2875 224.64 \nL 368.0875 224.64 \n\" style=\"fill:none;stroke:#000000;stroke-linecap:square;stroke-linejoin:miter;stroke-width:0.8;\"/>\n   </g>\n   <g id=\"patch_6\">\n    <path d=\"M 33.2875 7.2 \nL 368.0875 7.2 \n\" style=\"fill:none;stroke:#000000;stroke-linecap:square;stroke-linejoin:miter;stroke-width:0.8;\"/>\n   </g>\n   <g id=\"legend_1\">\n    <g id=\"patch_7\">\n     <path d=\"M 40.2875 44.55625 \nL 118.015625 44.55625 \nQ 120.015625 44.55625 120.015625 42.55625 \nL 120.015625 14.2 \nQ 120.015625 12.2 118.015625 12.2 \nL 40.2875 12.2 \nQ 38.2875 12.2 38.2875 14.2 \nL 38.2875 42.55625 \nQ 38.2875 44.55625 40.2875 44.55625 \nz\n\" style=\"fill:#ffffff;opacity:0.8;stroke:#cccccc;stroke-linejoin:miter;\"/>\n    </g>\n    <g id=\"line2d_13\">\n     <path d=\"M 42.2875 20.298438 \nL 62.2875 20.298438 \n\" style=\"fill:none;stroke:#1f77b4;stroke-dasharray:5.55,2.4;stroke-dashoffset:0;stroke-opacity:0.3;stroke-width:1.5;\"/>\n    </g>\n    <g id=\"line2d_14\">\n     <g>\n      <use style=\"fill:#1f77b4;fill-opacity:0.3;stroke:#1f77b4;stroke-opacity:0.3;\" x=\"52.2875\" xlink:href=\"#mf6e7c073ca\" y=\"20.298438\"/>\n     </g>\n    </g>\n    <g id=\"text_11\">\n     <!-- wifi -->\n     <g transform=\"translate(70.2875 23.798438)scale(0.1 -0.1)\">\n      <defs>\n       <path d=\"M 4.203125 54.6875 \nL 13.1875 54.6875 \nL 24.421875 12.015625 \nL 35.59375 54.6875 \nL 46.1875 54.6875 \nL 57.421875 12.015625 \nL 68.609375 54.6875 \nL 77.59375 54.6875 \nL 63.28125 0 \nL 52.6875 0 \nL 40.921875 44.828125 \nL 29.109375 0 \nL 18.5 0 \nz\n\" id=\"DejaVuSans-119\"/>\n       <path d=\"M 9.421875 54.6875 \nL 18.40625 54.6875 \nL 18.40625 0 \nL 9.421875 0 \nz\nM 9.421875 75.984375 \nL 18.40625 75.984375 \nL 18.40625 64.59375 \nL 9.421875 64.59375 \nz\n\" id=\"DejaVuSans-105\"/>\n       <path d=\"M 37.109375 75.984375 \nL 37.109375 68.5 \nL 28.515625 68.5 \nQ 23.6875 68.5 21.796875 66.546875 \nQ 19.921875 64.59375 19.921875 59.515625 \nL 19.921875 54.6875 \nL 34.71875 54.6875 \nL 34.71875 47.703125 \nL 19.921875 47.703125 \nL 19.921875 0 \nL 10.890625 0 \nL 10.890625 47.703125 \nL 2.296875 47.703125 \nL 2.296875 54.6875 \nL 10.890625 54.6875 \nL 10.890625 58.5 \nQ 10.890625 67.625 15.140625 71.796875 \nQ 19.390625 75.984375 28.609375 75.984375 \nz\n\" id=\"DejaVuSans-102\"/>\n      </defs>\n      <use xlink:href=\"#DejaVuSans-119\"/>\n      <use x=\"81.787109\" xlink:href=\"#DejaVuSans-105\"/>\n      <use x=\"109.570312\" xlink:href=\"#DejaVuSans-102\"/>\n      <use x=\"144.775391\" xlink:href=\"#DejaVuSans-105\"/>\n     </g>\n    </g>\n    <g id=\"line2d_15\">\n     <path d=\"M 42.2875 34.976563 \nL 62.2875 34.976563 \n\" style=\"fill:none;stroke:#ff7f0e;stroke-linecap:square;stroke-opacity:0.3;stroke-width:1.5;\"/>\n    </g>\n    <g id=\"line2d_16\">\n     <g>\n      <use style=\"fill:#ff7f0e;fill-opacity:0.3;stroke:#ff7f0e;stroke-opacity:0.3;\" x=\"52.2875\" xlink:href=\"#m96bd3744bf\" y=\"34.976563\"/>\n     </g>\n    </g>\n    <g id=\"text_12\">\n     <!-- waypoint -->\n     <g transform=\"translate(70.2875 38.476563)scale(0.1 -0.1)\">\n      <defs>\n       <path d=\"M 34.28125 27.484375 \nQ 23.390625 27.484375 19.1875 25 \nQ 14.984375 22.515625 14.984375 16.5 \nQ 14.984375 11.71875 18.140625 8.90625 \nQ 21.296875 6.109375 26.703125 6.109375 \nQ 34.1875 6.109375 38.703125 11.40625 \nQ 43.21875 16.703125 43.21875 25.484375 \nL 43.21875 27.484375 \nz\nM 52.203125 31.203125 \nL 52.203125 0 \nL 43.21875 0 \nL 43.21875 8.296875 \nQ 40.140625 3.328125 35.546875 0.953125 \nQ 30.953125 -1.421875 24.3125 -1.421875 \nQ 15.921875 -1.421875 10.953125 3.296875 \nQ 6 8.015625 6 15.921875 \nQ 6 25.140625 12.171875 29.828125 \nQ 18.359375 34.515625 30.609375 34.515625 \nL 43.21875 34.515625 \nL 43.21875 35.40625 \nQ 43.21875 41.609375 39.140625 45 \nQ 35.0625 48.390625 27.6875 48.390625 \nQ 23 48.390625 18.546875 47.265625 \nQ 14.109375 46.140625 10.015625 43.890625 \nL 10.015625 52.203125 \nQ 14.9375 54.109375 19.578125 55.046875 \nQ 24.21875 56 28.609375 56 \nQ 40.484375 56 46.34375 49.84375 \nQ 52.203125 43.703125 52.203125 31.203125 \nz\n\" id=\"DejaVuSans-97\"/>\n       <path d=\"M 32.171875 -5.078125 \nQ 28.375 -14.84375 24.75 -17.8125 \nQ 21.140625 -20.796875 15.09375 -20.796875 \nL 7.90625 -20.796875 \nL 7.90625 -13.28125 \nL 13.1875 -13.28125 \nQ 16.890625 -13.28125 18.9375 -11.515625 \nQ 21 -9.765625 23.484375 -3.21875 \nL 25.09375 0.875 \nL 2.984375 54.6875 \nL 12.5 54.6875 \nL 29.59375 11.921875 \nL 46.6875 54.6875 \nL 56.203125 54.6875 \nz\n\" id=\"DejaVuSans-121\"/>\n       <path d=\"M 18.109375 8.203125 \nL 18.109375 -20.796875 \nL 9.078125 -20.796875 \nL 9.078125 54.6875 \nL 18.109375 54.6875 \nL 18.109375 46.390625 \nQ 20.953125 51.265625 25.265625 53.625 \nQ 29.59375 56 35.59375 56 \nQ 45.5625 56 51.78125 48.09375 \nQ 58.015625 40.1875 58.015625 27.296875 \nQ 58.015625 14.40625 51.78125 6.484375 \nQ 45.5625 -1.421875 35.59375 -1.421875 \nQ 29.59375 -1.421875 25.265625 0.953125 \nQ 20.953125 3.328125 18.109375 8.203125 \nz\nM 48.6875 27.296875 \nQ 48.6875 37.203125 44.609375 42.84375 \nQ 40.53125 48.484375 33.40625 48.484375 \nQ 26.265625 48.484375 22.1875 42.84375 \nQ 18.109375 37.203125 18.109375 27.296875 \nQ 18.109375 17.390625 22.1875 11.75 \nQ 26.265625 6.109375 33.40625 6.109375 \nQ 40.53125 6.109375 44.609375 11.75 \nQ 48.6875 17.390625 48.6875 27.296875 \nz\n\" id=\"DejaVuSans-112\"/>\n       <path d=\"M 30.609375 48.390625 \nQ 23.390625 48.390625 19.1875 42.75 \nQ 14.984375 37.109375 14.984375 27.296875 \nQ 14.984375 17.484375 19.15625 11.84375 \nQ 23.34375 6.203125 30.609375 6.203125 \nQ 37.796875 6.203125 41.984375 11.859375 \nQ 46.1875 17.53125 46.1875 27.296875 \nQ 46.1875 37.015625 41.984375 42.703125 \nQ 37.796875 48.390625 30.609375 48.390625 \nz\nM 30.609375 56 \nQ 42.328125 56 49.015625 48.375 \nQ 55.71875 40.765625 55.71875 27.296875 \nQ 55.71875 13.875 49.015625 6.21875 \nQ 42.328125 -1.421875 30.609375 -1.421875 \nQ 18.84375 -1.421875 12.171875 6.21875 \nQ 5.515625 13.875 5.515625 27.296875 \nQ 5.515625 40.765625 12.171875 48.375 \nQ 18.84375 56 30.609375 56 \nz\n\" id=\"DejaVuSans-111\"/>\n       <path d=\"M 54.890625 33.015625 \nL 54.890625 0 \nL 45.90625 0 \nL 45.90625 32.71875 \nQ 45.90625 40.484375 42.875 44.328125 \nQ 39.84375 48.1875 33.796875 48.1875 \nQ 26.515625 48.1875 22.3125 43.546875 \nQ 18.109375 38.921875 18.109375 30.90625 \nL 18.109375 0 \nL 9.078125 0 \nL 9.078125 54.6875 \nL 18.109375 54.6875 \nL 18.109375 46.1875 \nQ 21.34375 51.125 25.703125 53.5625 \nQ 30.078125 56 35.796875 56 \nQ 45.21875 56 50.046875 50.171875 \nQ 54.890625 44.34375 54.890625 33.015625 \nz\n\" id=\"DejaVuSans-110\"/>\n       <path d=\"M 18.3125 70.21875 \nL 18.3125 54.6875 \nL 36.8125 54.6875 \nL 36.8125 47.703125 \nL 18.3125 47.703125 \nL 18.3125 18.015625 \nQ 18.3125 11.328125 20.140625 9.421875 \nQ 21.96875 7.515625 27.59375 7.515625 \nL 36.8125 7.515625 \nL 36.8125 0 \nL 27.59375 0 \nQ 17.1875 0 13.234375 3.875 \nQ 9.28125 7.765625 9.28125 18.015625 \nL 9.28125 47.703125 \nL 2.6875 47.703125 \nL 2.6875 54.6875 \nL 9.28125 54.6875 \nL 9.28125 70.21875 \nz\n\" id=\"DejaVuSans-116\"/>\n      </defs>\n      <use xlink:href=\"#DejaVuSans-119\"/>\n      <use x=\"81.787109\" xlink:href=\"#DejaVuSans-97\"/>\n      <use x=\"143.066406\" xlink:href=\"#DejaVuSans-121\"/>\n      <use x=\"202.246094\" xlink:href=\"#DejaVuSans-112\"/>\n      <use x=\"265.722656\" xlink:href=\"#DejaVuSans-111\"/>\n      <use x=\"326.904297\" xlink:href=\"#DejaVuSans-105\"/>\n      <use x=\"354.6875\" xlink:href=\"#DejaVuSans-110\"/>\n      <use x=\"418.066406\" xlink:href=\"#DejaVuSans-116\"/>\n     </g>\n    </g>\n   </g>\n  </g>\n </g>\n <defs>\n  <clipPath id=\"p0ccb3682ab\">\n   <rect height=\"217.44\" width=\"334.8\" x=\"33.2875\" y=\"7.2\"/>\n  </clipPath>\n </defs>\n</svg>\n",
      "image/png": "[encoded data removed]"
     },
     "metadata": {
      "needs_background": "light"
     }
    }
   ],
   "source": [
    "# 線形補完の例\n",
    "# observedがwifi\n",
    "path = all_preds['path'].unique()[15]  #15\n",
    "df = all_preds[all_preds['path']==path]\n",
    "\n",
    "waypoint = wifi_waypoint_by_linear_interpolation(\n",
    "    observed_timestamp=(df['timestamp'].astype(int) - df['timediff'].astype(int)).values, \n",
    "    observed_x=df['x'].values,\n",
    "    observed_y=df['y'].values, \n",
    "    target_timestamp=df['timestamp'].astype(int).values\n",
    ")\n",
    "print(len(df), len(waypoint))\n",
    "\n",
    "import matplotlib.pyplot as plt\n",
    "\n",
    "plt.plot(df[\"x\"].values, df[\"y\"].values, ls='--', marker=\"o\", alpha=0.3, label='wifi')\n",
    "plt.plot(waypoint[:,0], waypoint[:,1], ls='-', marker=\"o\",  alpha=0.3, label='waypoint')\n",
    "plt.legend()"
   ]
  },
  {
   "cell_type": "code",
   "execution_count": 39,
   "metadata": {},
   "outputs": [
    {
     "output_type": "execute_result",
     "data": {
      "text/plain": [
       "                                    site_path_timestamp     floor  \\\n",
       "0     5a0546857ecc773753327266_046cfa46be49fc1083481...  0.000000   \n",
       "1     5a0546857ecc773753327266_046cfa46be49fc1083481...  0.000000   \n",
       "2     5a0546857ecc773753327266_046cfa46be49fc1083481...  0.000000   \n",
       "3     5a0546857ecc773753327266_046cfa46be49fc1083481...  0.000000   \n",
       "4     5a0546857ecc773753327266_046cfa46be49fc1083481...  0.000000   \n",
       "...                                                 ...       ...   \n",
       "9987  5dc8cea7659e181adb076a3f_fd64de8c4a2fc5ebb0e9f...  4.400000   \n",
       "9988  5dc8cea7659e181adb076a3f_fd64de8c4a2fc5ebb0e9f...  4.200000   \n",
       "9989  5dc8cea7659e181adb076a3f_fd64de8c4a2fc5ebb0e9f...  4.466667   \n",
       "9990  5dc8cea7659e181adb076a3f_fd64de8c4a2fc5ebb0e9f...  4.400000   \n",
       "9991  5dc8cea7659e181adb076a3f_fd64de8c4a2fc5ebb0e9f...  4.400000   \n",
       "\n",
       "         timediff           x           y                      site  \\\n",
       "0    -2331.000000   85.291725  104.041054  5a0546857ecc773753327266   \n",
       "1     1874.333333   83.471371  104.360494  5a0546857ecc773753327266   \n",
       "2     1869.000000   85.446896  104.082403  5a0546857ecc773753327266   \n",
       "3      402.500000   87.306970  106.264547  5a0546857ecc773753327266   \n",
       "4     -996.500000   86.026568  108.008910  5a0546857ecc773753327266   \n",
       "...           ...         ...         ...                       ...   \n",
       "9987   916.666667  211.319303   97.766747  5dc8cea7659e181adb076a3f   \n",
       "9988  -854.500000  209.270747  102.931304  5dc8cea7659e181adb076a3f   \n",
       "9989  -629.666667  204.792222  105.365521  5dc8cea7659e181adb076a3f   \n",
       "9990   445.000000  202.052401  111.288808  5dc8cea7659e181adb076a3f   \n",
       "9991  1018.000000  196.661209  115.627998  5dc8cea7659e181adb076a3f   \n",
       "\n",
       "                          path      timestamp  \n",
       "0     046cfa46be49fc10834815c6  0000000000009  \n",
       "1     046cfa46be49fc10834815c6  0000000009017  \n",
       "2     046cfa46be49fc10834815c6  0000000015326  \n",
       "3     046cfa46be49fc10834815c6  0000000018763  \n",
       "4     046cfa46be49fc10834815c6  0000000022328  \n",
       "...                        ...            ...  \n",
       "9987  fd64de8c4a2fc5ebb0e9f412  0000000082589  \n",
       "9988  fd64de8c4a2fc5ebb0e9f412  0000000085758  \n",
       "9989  fd64de8c4a2fc5ebb0e9f412  0000000090895  \n",
       "9990  fd64de8c4a2fc5ebb0e9f412  0000000096899  \n",
       "9991  fd64de8c4a2fc5ebb0e9f412  0000000100447  \n",
       "\n",
       "[9992 rows x 8 columns]"
      ],
      "text/html": "<div>\n<style scoped>\n    .dataframe tbody tr th:only-of-type {\n        vertical-align: middle;\n    }\n\n    .dataframe tbody tr th {\n        vertical-align: top;\n    }\n\n    .dataframe thead th {\n        text-align: right;\n    }\n</style>\n<table border=\"1\" class=\"dataframe\">\n  <thead>\n    <tr style=\"text-align: right;\">\n      <th></th>\n      <th>site_path_timestamp</th>\n      <th>floor</th>\n      <th>timediff</th>\n      <th>x</th>\n      <th>y</th>\n      <th>site</th>\n      <th>path</th>\n      <th>timestamp</th>\n    </tr>\n  </thead>\n  <tbody>\n    <tr>\n      <th>0</th>\n      <td>5a0546857ecc773753327266_046cfa46be49fc1083481...</td>\n      <td>0.000000</td>\n      <td>-2331.000000</td>\n      <td>85.291725</td>\n      <td>104.041054</td>\n      <td>5a0546857ecc773753327266</td>\n      <td>046cfa46be49fc10834815c6</td>\n      <td>0000000000009</td>\n    </tr>\n    <tr>\n      <th>1</th>\n      <td>5a0546857ecc773753327266_046cfa46be49fc1083481...</td>\n      <td>0.000000</td>\n      <td>1874.333333</td>\n      <td>83.471371</td>\n      <td>104.360494</td>\n      <td>5a0546857ecc773753327266</td>\n      <td>046cfa46be49fc10834815c6</td>\n      <td>0000000009017</td>\n    </tr>\n    <tr>\n      <th>2</th>\n      <td>5a0546857ecc773753327266_046cfa46be49fc1083481...</td>\n      <td>0.000000</td>\n      <td>1869.000000</td>\n      <td>85.446896</td>\n      <td>104.082403</td>\n      <td>5a0546857ecc773753327266</td>\n      <td>046cfa46be49fc10834815c6</td>\n      <td>0000000015326</td>\n    </tr>\n    <tr>\n      <th>3</th>\n      <td>5a0546857ecc773753327266_046cfa46be49fc1083481...</td>\n      <td>0.000000</td>\n      <td>402.500000</td>\n      <td>87.306970</td>\n      <td>106.264547</td>\n      <td>5a0546857ecc773753327266</td>\n      <td>046cfa46be49fc10834815c6</td>\n      <td>0000000018763</td>\n    </tr>\n    <tr>\n      <th>4</th>\n      <td>5a0546857ecc773753327266_046cfa46be49fc1083481...</td>\n      <td>0.000000</td>\n      <td>-996.500000</td>\n      <td>86.026568</td>\n      <td>108.008910</td>\n      <td>5a0546857ecc773753327266</td>\n      <td>046cfa46be49fc10834815c6</td>\n      <td>0000000022328</td>\n    </tr>\n    <tr>\n      <th>...</th>\n      <td>...</td>\n      <td>...</td>\n      <td>...</td>\n      <td>...</td>\n      <td>...</td>\n      <td>...</td>\n      <td>...</td>\n      <td>...</td>\n    </tr>\n    <tr>\n      <th>9987</th>\n      <td>5dc8cea7659e181adb076a3f_fd64de8c4a2fc5ebb0e9f...</td>\n      <td>4.400000</td>\n      <td>916.666667</td>\n      <td>211.319303</td>\n      <td>97.766747</td>\n      <td>5dc8cea7659e181adb076a3f</td>\n      <td>fd64de8c4a2fc5ebb0e9f412</td>\n      <td>0000000082589</td>\n    </tr>\n    <tr>\n      <th>9988</th>\n      <td>5dc8cea7659e181adb076a3f_fd64de8c4a2fc5ebb0e9f...</td>\n      <td>4.200000</td>\n      <td>-854.500000</td>\n      <td>209.270747</td>\n      <td>102.931304</td>\n      <td>5dc8cea7659e181adb076a3f</td>\n      <td>fd64de8c4a2fc5ebb0e9f412</td>\n      <td>0000000085758</td>\n    </tr>\n    <tr>\n      <th>9989</th>\n      <td>5dc8cea7659e181adb076a3f_fd64de8c4a2fc5ebb0e9f...</td>\n      <td>4.466667</td>\n      <td>-629.666667</td>\n      <td>204.792222</td>\n      <td>105.365521</td>\n      <td>5dc8cea7659e181adb076a3f</td>\n      <td>fd64de8c4a2fc5ebb0e9f412</td>\n      <td>0000000090895</td>\n    </tr>\n    <tr>\n      <th>9990</th>\n      <td>5dc8cea7659e181adb076a3f_fd64de8c4a2fc5ebb0e9f...</td>\n      <td>4.400000</td>\n      <td>445.000000</td>\n      <td>202.052401</td>\n      <td>111.288808</td>\n      <td>5dc8cea7659e181adb076a3f</td>\n      <td>fd64de8c4a2fc5ebb0e9f412</td>\n      <td>0000000096899</td>\n    </tr>\n    <tr>\n      <th>9991</th>\n      <td>5dc8cea7659e181adb076a3f_fd64de8c4a2fc5ebb0e9f...</td>\n      <td>4.400000</td>\n      <td>1018.000000</td>\n      <td>196.661209</td>\n      <td>115.627998</td>\n      <td>5dc8cea7659e181adb076a3f</td>\n      <td>fd64de8c4a2fc5ebb0e9f412</td>\n      <td>0000000100447</td>\n    </tr>\n  </tbody>\n</table>\n<p>9992 rows × 8 columns</p>\n</div>"
     },
     "metadata": {},
     "execution_count": 39
    }
   ],
   "source": [
    "all_preds"
   ]
  },
  {
   "cell_type": "code",
   "execution_count": 40,
   "metadata": {},
   "outputs": [
    {
     "output_type": "execute_result",
     "data": {
      "text/plain": [
       "                                    site_path_timestamp     floor  \\\n",
       "0     5da1389e4db8ce0c98bd0547_00ff0c9a71cc37a2ebdd0...  2.600000   \n",
       "1     5da1389e4db8ce0c98bd0547_00ff0c9a71cc37a2ebdd0...  2.600000   \n",
       "2     5da1389e4db8ce0c98bd0547_00ff0c9a71cc37a2ebdd0...  2.333333   \n",
       "3     5da1389e4db8ce0c98bd0547_00ff0c9a71cc37a2ebdd0...  2.800000   \n",
       "4     5da1389e4db8ce0c98bd0547_00ff0c9a71cc37a2ebdd0...  2.680000   \n",
       "...                                                 ...       ...   \n",
       "9987  5a0546857ecc773753327266_ffcd9524c80c0fa5bb859...  0.000000   \n",
       "9988  5a0546857ecc773753327266_ffcd9524c80c0fa5bb859...  0.000000   \n",
       "9989  5a0546857ecc773753327266_ffcd9524c80c0fa5bb859...  0.000000   \n",
       "9990  5a0546857ecc773753327266_ffcd9524c80c0fa5bb859...  0.000000   \n",
       "9991  5a0546857ecc773753327266_ffcd9524c80c0fa5bb859...  0.000000   \n",
       "\n",
       "         timediff           x           y                      site  \\\n",
       "0    -1170.000000   65.584167   83.387192  5da1389e4db8ce0c98bd0547   \n",
       "1     -881.333333   72.043674   83.891870  5da1389e4db8ce0c98bd0547   \n",
       "2     -870.333333   70.288171   84.458604  5da1389e4db8ce0c98bd0547   \n",
       "3      822.666667   66.712116   83.475639  5da1389e4db8ce0c98bd0547   \n",
       "4     1958.000000   71.009691   83.092457  5da1389e4db8ce0c98bd0547   \n",
       "...           ...         ...         ...                       ...   \n",
       "9987   908.250000  132.149558  183.145888  5a0546857ecc773753327266   \n",
       "9988  -710.250000  132.216080  184.822158  5a0546857ecc773753327266   \n",
       "9989  1167.000000  135.527418  182.868918  5a0546857ecc773753327266   \n",
       "9990   578.200000  131.650430  180.061066  5a0546857ecc773753327266   \n",
       "9991   577.500000  128.692514  175.136984  5a0546857ecc773753327266   \n",
       "\n",
       "                          path      timestamp          _x          _y  \n",
       "0     00ff0c9a71cc37a2ebdd0f05  0000000000010   65.584167   83.387192  \n",
       "1     00ff0c9a71cc37a2ebdd0f05  0000000004048   70.428797   83.765700  \n",
       "2     00ff0c9a71cc37a2ebdd0f05  0000000012526   70.494701   84.391929  \n",
       "3     00ff0c9a71cc37a2ebdd0f05  0000000025542   67.121409   83.439146  \n",
       "4     00ff0c9a71cc37a2ebdd0f05  0000000037134   71.139110   83.195628  \n",
       "...                        ...            ...         ...         ...  \n",
       "9987  ffcd9524c80c0fa5bb859eaf  0000000035117  132.157873  183.355422  \n",
       "9988  ffcd9524c80c0fa5bb859eaf  0000000041230  132.211922  184.717391  \n",
       "9989  ffcd9524c80c0fa5bb859eaf  0000000051634  135.119314  182.573354  \n",
       "9990  ffcd9524c80c0fa5bb859eaf  0000000060483  131.439150  179.709345  \n",
       "9991  ffcd9524c80c0fa5bb859eaf  0000000067146  128.692514  175.136984  \n",
       "\n",
       "[9992 rows x 10 columns]"
      ],
      "text/html": "<div>\n<style scoped>\n    .dataframe tbody tr th:only-of-type {\n        vertical-align: middle;\n    }\n\n    .dataframe tbody tr th {\n        vertical-align: top;\n    }\n\n    .dataframe thead th {\n        text-align: right;\n    }\n</style>\n<table border=\"1\" class=\"dataframe\">\n  <thead>\n    <tr style=\"text-align: right;\">\n      <th></th>\n      <th>site_path_timestamp</th>\n      <th>floor</th>\n      <th>timediff</th>\n      <th>x</th>\n      <th>y</th>\n      <th>site</th>\n      <th>path</th>\n      <th>timestamp</th>\n      <th>_x</th>\n      <th>_y</th>\n    </tr>\n  </thead>\n  <tbody>\n    <tr>\n      <th>0</th>\n      <td>5da1389e4db8ce0c98bd0547_00ff0c9a71cc37a2ebdd0...</td>\n      <td>2.600000</td>\n      <td>-1170.000000</td>\n      <td>65.584167</td>\n      <td>83.387192</td>\n      <td>5da1389e4db8ce0c98bd0547</td>\n      <td>00ff0c9a71cc37a2ebdd0f05</td>\n      <td>0000000000010</td>\n      <td>65.584167</td>\n      <td>83.387192</td>\n    </tr>\n    <tr>\n      <th>1</th>\n      <td>5da1389e4db8ce0c98bd0547_00ff0c9a71cc37a2ebdd0...</td>\n      <td>2.600000</td>\n      <td>-881.333333</td>\n      <td>72.043674</td>\n      <td>83.891870</td>\n      <td>5da1389e4db8ce0c98bd0547</td>\n      <td>00ff0c9a71cc37a2ebdd0f05</td>\n      <td>0000000004048</td>\n      <td>70.428797</td>\n      <td>83.765700</td>\n    </tr>\n    <tr>\n      <th>2</th>\n      <td>5da1389e4db8ce0c98bd0547_00ff0c9a71cc37a2ebdd0...</td>\n      <td>2.333333</td>\n      <td>-870.333333</td>\n      <td>70.288171</td>\n      <td>84.458604</td>\n      <td>5da1389e4db8ce0c98bd0547</td>\n      <td>00ff0c9a71cc37a2ebdd0f05</td>\n      <td>0000000012526</td>\n      <td>70.494701</td>\n      <td>84.391929</td>\n    </tr>\n    <tr>\n      <th>3</th>\n      <td>5da1389e4db8ce0c98bd0547_00ff0c9a71cc37a2ebdd0...</td>\n      <td>2.800000</td>\n      <td>822.666667</td>\n      <td>66.712116</td>\n      <td>83.475639</td>\n      <td>5da1389e4db8ce0c98bd0547</td>\n      <td>00ff0c9a71cc37a2ebdd0f05</td>\n      <td>0000000025542</td>\n      <td>67.121409</td>\n      <td>83.439146</td>\n    </tr>\n    <tr>\n      <th>4</th>\n      <td>5da1389e4db8ce0c98bd0547_00ff0c9a71cc37a2ebdd0...</td>\n      <td>2.680000</td>\n      <td>1958.000000</td>\n      <td>71.009691</td>\n      <td>83.092457</td>\n      <td>5da1389e4db8ce0c98bd0547</td>\n      <td>00ff0c9a71cc37a2ebdd0f05</td>\n      <td>0000000037134</td>\n      <td>71.139110</td>\n      <td>83.195628</td>\n    </tr>\n    <tr>\n      <th>...</th>\n      <td>...</td>\n      <td>...</td>\n      <td>...</td>\n      <td>...</td>\n      <td>...</td>\n      <td>...</td>\n      <td>...</td>\n      <td>...</td>\n      <td>...</td>\n      <td>...</td>\n    </tr>\n    <tr>\n      <th>9987</th>\n      <td>5a0546857ecc773753327266_ffcd9524c80c0fa5bb859...</td>\n      <td>0.000000</td>\n      <td>908.250000</td>\n      <td>132.149558</td>\n      <td>183.145888</td>\n      <td>5a0546857ecc773753327266</td>\n      <td>ffcd9524c80c0fa5bb859eaf</td>\n      <td>0000000035117</td>\n      <td>132.157873</td>\n      <td>183.355422</td>\n    </tr>\n    <tr>\n      <th>9988</th>\n      <td>5a0546857ecc773753327266_ffcd9524c80c0fa5bb859...</td>\n      <td>0.000000</td>\n      <td>-710.250000</td>\n      <td>132.216080</td>\n      <td>184.822158</td>\n      <td>5a0546857ecc773753327266</td>\n      <td>ffcd9524c80c0fa5bb859eaf</td>\n      <td>0000000041230</td>\n      <td>132.211922</td>\n      <td>184.717391</td>\n    </tr>\n    <tr>\n      <th>9989</th>\n      <td>5a0546857ecc773753327266_ffcd9524c80c0fa5bb859...</td>\n      <td>0.000000</td>\n      <td>1167.000000</td>\n      <td>135.527418</td>\n      <td>182.868918</td>\n      <td>5a0546857ecc773753327266</td>\n      <td>ffcd9524c80c0fa5bb859eaf</td>\n      <td>0000000051634</td>\n      <td>135.119314</td>\n      <td>182.573354</td>\n    </tr>\n    <tr>\n      <th>9990</th>\n      <td>5a0546857ecc773753327266_ffcd9524c80c0fa5bb859...</td>\n      <td>0.000000</td>\n      <td>578.200000</td>\n      <td>131.650430</td>\n      <td>180.061066</td>\n      <td>5a0546857ecc773753327266</td>\n      <td>ffcd9524c80c0fa5bb859eaf</td>\n      <td>0000000060483</td>\n      <td>131.439150</td>\n      <td>179.709345</td>\n    </tr>\n    <tr>\n      <th>9991</th>\n      <td>5a0546857ecc773753327266_ffcd9524c80c0fa5bb859...</td>\n      <td>0.000000</td>\n      <td>577.500000</td>\n      <td>128.692514</td>\n      <td>175.136984</td>\n      <td>5a0546857ecc773753327266</td>\n      <td>ffcd9524c80c0fa5bb859eaf</td>\n      <td>0000000067146</td>\n      <td>128.692514</td>\n      <td>175.136984</td>\n    </tr>\n  </tbody>\n</table>\n<p>9992 rows × 10 columns</p>\n</div>"
     },
     "metadata": {},
     "execution_count": 40
    }
   ],
   "source": [
    "# 線形補完でwaypointを修正\n",
    "waypoint_dfs = []\n",
    "for path,df in all_preds.groupby('path'):  #15\n",
    "    tmp_waypoint = wifi_waypoint_by_linear_interpolation(\n",
    "        observed_timestamp=(df['timestamp'].astype(int) - df['timediff'].astype(int)).values, \n",
    "        observed_x=df['x'].values,\n",
    "        observed_y=df['y'].values, \n",
    "        target_timestamp=df['timestamp'].astype(int).values\n",
    "        )\n",
    "    df['_x'] = tmp_waypoint[:,0]\n",
    "    df['_y'] = tmp_waypoint[:,1]\n",
    "    waypoint_dfs.append(df)\n",
    "\n",
    "waypoint_df = pd.concat(waypoint_dfs).reset_index(drop=True)\n",
    "waypoint_df"
   ]
  },
  {
   "cell_type": "code",
   "execution_count": 41,
   "metadata": {},
   "outputs": [
    {
     "output_type": "execute_result",
     "data": {
      "text/plain": [
       "<matplotlib.legend.Legend at 0x7f364e0d94f0>"
      ]
     },
     "metadata": {},
     "execution_count": 41
    },
    {
     "output_type": "display_data",
     "data": {
      "text/plain": "<Figure size 432x288 with 1 Axes>",
      "image/svg+xml": "<?xml version=\"1.0\" encoding=\"utf-8\" standalone=\"no\"?>\n<!DOCTYPE svg PUBLIC \"-//W3C//DTD SVG 1.1//EN\"\n  \"http://www.w3.org/Graphics/SVG/1.1/DTD/svg11.dtd\">\n<!-- Created with matplotlib (https://matplotlib.org/) -->\n<svg height=\"248.518125pt\" version=\"1.1\" viewBox=\"0 0 381.65 248.518125\" width=\"381.65pt\" xmlns=\"http://www.w3.org/2000/svg\" xmlns:xlink=\"http://www.w3.org/1999/xlink\">\n <metadata>\n  <rdf:RDF xmlns:cc=\"http://creativecommons.org/ns#\" xmlns:dc=\"http://purl.org/dc/elements/1.1/\" xmlns:rdf=\"http://www.w3.org/1999/02/22-rdf-syntax-ns#\">\n   <cc:Work>\n    <dc:type rdf:resource=\"http://purl.org/dc/dcmitype/StillImage\"/>\n    <dc:date>2021-04-29T02:25:17.952047</dc:date>\n    <dc:format>image/svg+xml</dc:format>\n    <dc:creator>\n     <cc:Agent>\n      <dc:title>Matplotlib v3.3.3, https://matplotlib.org/</dc:title>\n     </cc:Agent>\n    </dc:creator>\n   </cc:Work>\n  </rdf:RDF>\n </metadata>\n <defs>\n  <style type=\"text/css\">*{stroke-linecap:butt;stroke-linejoin:round;}</style>\n </defs>\n <g id=\"figure_1\">\n  <g id=\"patch_1\">\n   <path d=\"M -0 248.518125 \nL 381.65 248.518125 \nL 381.65 0 \nL -0 0 \nz\n\" style=\"fill:none;\"/>\n  </g>\n  <g id=\"axes_1\">\n   <g id=\"patch_2\">\n    <path d=\"M 39.65 224.64 \nL 374.45 224.64 \nL 374.45 7.2 \nL 39.65 7.2 \nz\n\" style=\"fill:#ffffff;\"/>\n   </g>\n   <g id=\"patch_3\">\n    <path clip-path=\"url(#pc18132b056)\" d=\"M 54.868182 224.64 \nL 85.304545 224.64 \nL 85.304545 224.611539 \nL 54.868182 224.611539 \nz\n\" style=\"fill:#1f77b4;\"/>\n   </g>\n   <g id=\"patch_4\">\n    <path clip-path=\"url(#pc18132b056)\" d=\"M 85.304545 224.64 \nL 115.740909 224.64 \nL 115.740909 224.554616 \nL 85.304545 224.554616 \nz\n\" style=\"fill:#1f77b4;\"/>\n   </g>\n   <g id=\"patch_5\">\n    <path clip-path=\"url(#pc18132b056)\" d=\"M 115.740909 224.64 \nL 146.177273 224.64 \nL 146.177273 224.213078 \nL 115.740909 224.213078 \nz\n\" style=\"fill:#1f77b4;\"/>\n   </g>\n   <g id=\"patch_6\">\n    <path clip-path=\"url(#pc18132b056)\" d=\"M 146.177273 224.64 \nL 176.613636 224.64 \nL 176.613636 220.59847 \nL 146.177273 220.59847 \nz\n\" style=\"fill:#1f77b4;\"/>\n   </g>\n   <g id=\"patch_7\">\n    <path clip-path=\"url(#pc18132b056)\" d=\"M 176.613636 224.64 \nL 207.05 224.64 \nL 207.05 135.840188 \nL 176.613636 135.840188 \nz\n\" style=\"fill:#1f77b4;\"/>\n   </g>\n   <g id=\"patch_8\">\n    <path clip-path=\"url(#pc18132b056)\" d=\"M 207.05 224.64 \nL 237.486364 224.64 \nL 237.486364 38.473472 \nL 207.05 38.473472 \nz\n\" style=\"fill:#1f77b4;\"/>\n   </g>\n   <g id=\"patch_9\">\n    <path clip-path=\"url(#pc18132b056)\" d=\"M 237.486364 224.64 \nL 267.922727 224.64 \nL 267.922727 220.39924 \nL 237.486364 220.39924 \nz\n\" style=\"fill:#1f77b4;\"/>\n   </g>\n   <g id=\"patch_10\">\n    <path clip-path=\"url(#pc18132b056)\" d=\"M 267.922727 224.64 \nL 298.359091 224.64 \nL 298.359091 224.184616 \nL 267.922727 224.184616 \nz\n\" style=\"fill:#1f77b4;\"/>\n   </g>\n   <g id=\"patch_11\">\n    <path clip-path=\"url(#pc18132b056)\" d=\"M 298.359091 224.64 \nL 328.795455 224.64 \nL 328.795455 224.526154 \nL 298.359091 224.526154 \nz\n\" style=\"fill:#1f77b4;\"/>\n   </g>\n   <g id=\"patch_12\">\n    <path clip-path=\"url(#pc18132b056)\" d=\"M 328.795455 224.64 \nL 359.231818 224.64 \nL 359.231818 224.611539 \nL 328.795455 224.611539 \nz\n\" style=\"fill:#1f77b4;\"/>\n   </g>\n   <g id=\"patch_13\">\n    <path clip-path=\"url(#pc18132b056)\" d=\"M 84.302587 224.64 \nL 105.545753 224.64 \nL 105.545753 224.554616 \nL 84.302587 224.554616 \nz\n\" style=\"fill:#ff7f0e;\"/>\n   </g>\n   <g id=\"patch_14\">\n    <path clip-path=\"url(#pc18132b056)\" d=\"M 105.545753 224.64 \nL 126.78892 224.64 \nL 126.78892 224.526154 \nL 105.545753 224.526154 \nz\n\" style=\"fill:#ff7f0e;\"/>\n   </g>\n   <g id=\"patch_15\">\n    <path clip-path=\"url(#pc18132b056)\" d=\"M 126.78892 224.64 \nL 148.032086 224.64 \nL 148.032086 224.184616 \nL 126.78892 224.184616 \nz\n\" style=\"fill:#ff7f0e;\"/>\n   </g>\n   <g id=\"patch_16\">\n    <path clip-path=\"url(#pc18132b056)\" d=\"M 148.032086 224.64 \nL 169.275253 224.64 \nL 169.275253 222.704619 \nL 148.032086 222.704619 \nz\n\" style=\"fill:#ff7f0e;\"/>\n   </g>\n   <g id=\"patch_17\">\n    <path clip-path=\"url(#pc18132b056)\" d=\"M 169.275253 224.64 \nL 190.518419 224.64 \nL 190.518419 213.28387 \nL 169.275253 213.28387 \nz\n\" style=\"fill:#ff7f0e;\"/>\n   </g>\n   <g id=\"patch_18\">\n    <path clip-path=\"url(#pc18132b056)\" d=\"M 190.518419 224.64 \nL 211.761586 224.64 \nL 211.761586 17.554286 \nL 190.518419 17.554286 \nz\n\" style=\"fill:#ff7f0e;\"/>\n   </g>\n   <g id=\"patch_19\">\n    <path clip-path=\"url(#pc18132b056)\" d=\"M 211.761586 224.64 \nL 233.004753 224.64 \nL 233.004753 167.773967 \nL 211.761586 167.773967 \nz\n\" style=\"fill:#ff7f0e;\"/>\n   </g>\n   <g id=\"patch_20\">\n    <path clip-path=\"url(#pc18132b056)\" d=\"M 233.004753 224.64 \nL 254.247919 224.64 \nL 254.247919 219.317704 \nL 233.004753 219.317704 \nz\n\" style=\"fill:#ff7f0e;\"/>\n   </g>\n   <g id=\"patch_21\">\n    <path clip-path=\"url(#pc18132b056)\" d=\"M 254.247919 224.64 \nL 275.491086 224.64 \nL 275.491086 223.615387 \nL 254.247919 223.615387 \nz\n\" style=\"fill:#ff7f0e;\"/>\n   </g>\n   <g id=\"patch_22\">\n    <path clip-path=\"url(#pc18132b056)\" d=\"M 275.491086 224.64 \nL 296.734252 224.64 \nL 296.734252 224.497693 \nL 275.491086 224.497693 \nz\n\" style=\"fill:#ff7f0e;\"/>\n   </g>\n   <g id=\"matplotlib.axis_1\">\n    <g id=\"xtick_1\">\n     <g id=\"line2d_1\">\n      <path clip-path=\"url(#pc18132b056)\" d=\"M 72.290362 224.64 \nL 72.290362 7.2 \n\" style=\"fill:none;stroke:#b0b0b0;stroke-linecap:square;stroke-width:0.8;\"/>\n     </g>\n     <g id=\"line2d_2\">\n      <defs>\n       <path d=\"M 0 0 \nL 0 3.5 \n\" id=\"mbb947ff980\" style=\"stroke:#000000;stroke-width:0.8;\"/>\n      </defs>\n      <g>\n       <use style=\"stroke:#000000;stroke-width:0.8;\" x=\"72.290362\" xlink:href=\"#mbb947ff980\" y=\"224.64\"/>\n      </g>\n     </g>\n     <g id=\"text_1\">\n      <!-- −6 -->\n      <g transform=\"translate(64.919268 239.238437)scale(0.1 -0.1)\">\n       <defs>\n        <path d=\"M 10.59375 35.5 \nL 73.1875 35.5 \nL 73.1875 27.203125 \nL 10.59375 27.203125 \nz\n\" id=\"DejaVuSans-8722\"/>\n        <path d=\"M 33.015625 40.375 \nQ 26.375 40.375 22.484375 35.828125 \nQ 18.609375 31.296875 18.609375 23.390625 \nQ 18.609375 15.53125 22.484375 10.953125 \nQ 26.375 6.390625 33.015625 6.390625 \nQ 39.65625 6.390625 43.53125 10.953125 \nQ 47.40625 15.53125 47.40625 23.390625 \nQ 47.40625 31.296875 43.53125 35.828125 \nQ 39.65625 40.375 33.015625 40.375 \nz\nM 52.59375 71.296875 \nL 52.59375 62.3125 \nQ 48.875 64.0625 45.09375 64.984375 \nQ 41.3125 65.921875 37.59375 65.921875 \nQ 27.828125 65.921875 22.671875 59.328125 \nQ 17.53125 52.734375 16.796875 39.40625 \nQ 19.671875 43.65625 24.015625 45.921875 \nQ 28.375 48.1875 33.59375 48.1875 \nQ 44.578125 48.1875 50.953125 41.515625 \nQ 57.328125 34.859375 57.328125 23.390625 \nQ 57.328125 12.15625 50.6875 5.359375 \nQ 44.046875 -1.421875 33.015625 -1.421875 \nQ 20.359375 -1.421875 13.671875 8.265625 \nQ 6.984375 17.96875 6.984375 36.375 \nQ 6.984375 53.65625 15.1875 63.9375 \nQ 23.390625 74.21875 37.203125 74.21875 \nQ 40.921875 74.21875 44.703125 73.484375 \nQ 48.484375 72.75 52.59375 71.296875 \nz\n\" id=\"DejaVuSans-54\"/>\n       </defs>\n       <use xlink:href=\"#DejaVuSans-8722\"/>\n       <use x=\"83.789062\" xlink:href=\"#DejaVuSans-54\"/>\n      </g>\n     </g>\n    </g>\n    <g id=\"xtick_2\">\n     <g id=\"line2d_3\">\n      <path clip-path=\"url(#pc18132b056)\" d=\"M 117.429032 224.64 \nL 117.429032 7.2 \n\" style=\"fill:none;stroke:#b0b0b0;stroke-linecap:square;stroke-width:0.8;\"/>\n     </g>\n     <g id=\"line2d_4\">\n      <g>\n       <use style=\"stroke:#000000;stroke-width:0.8;\" x=\"117.429032\" xlink:href=\"#mbb947ff980\" y=\"224.64\"/>\n      </g>\n     </g>\n     <g id=\"text_2\">\n      <!-- −4 -->\n      <g transform=\"translate(110.057939 239.238437)scale(0.1 -0.1)\">\n       <defs>\n        <path d=\"M 37.796875 64.3125 \nL 12.890625 25.390625 \nL 37.796875 25.390625 \nz\nM 35.203125 72.90625 \nL 47.609375 72.90625 \nL 47.609375 25.390625 \nL 58.015625 25.390625 \nL 58.015625 17.1875 \nL 47.609375 17.1875 \nL 47.609375 0 \nL 37.796875 0 \nL 37.796875 17.1875 \nL 4.890625 17.1875 \nL 4.890625 26.703125 \nz\n\" id=\"DejaVuSans-52\"/>\n       </defs>\n       <use xlink:href=\"#DejaVuSans-8722\"/>\n       <use x=\"83.789062\" xlink:href=\"#DejaVuSans-52\"/>\n      </g>\n     </g>\n    </g>\n    <g id=\"xtick_3\">\n     <g id=\"line2d_5\">\n      <path clip-path=\"url(#pc18132b056)\" d=\"M 162.567703 224.64 \nL 162.567703 7.2 \n\" style=\"fill:none;stroke:#b0b0b0;stroke-linecap:square;stroke-width:0.8;\"/>\n     </g>\n     <g id=\"line2d_6\">\n      <g>\n       <use style=\"stroke:#000000;stroke-width:0.8;\" x=\"162.567703\" xlink:href=\"#mbb947ff980\" y=\"224.64\"/>\n      </g>\n     </g>\n     <g id=\"text_3\">\n      <!-- −2 -->\n      <g transform=\"translate(155.196609 239.238437)scale(0.1 -0.1)\">\n       <defs>\n        <path d=\"M 19.1875 8.296875 \nL 53.609375 8.296875 \nL 53.609375 0 \nL 7.328125 0 \nL 7.328125 8.296875 \nQ 12.9375 14.109375 22.625 23.890625 \nQ 32.328125 33.6875 34.8125 36.53125 \nQ 39.546875 41.84375 41.421875 45.53125 \nQ 43.3125 49.21875 43.3125 52.78125 \nQ 43.3125 58.59375 39.234375 62.25 \nQ 35.15625 65.921875 28.609375 65.921875 \nQ 23.96875 65.921875 18.8125 64.3125 \nQ 13.671875 62.703125 7.8125 59.421875 \nL 7.8125 69.390625 \nQ 13.765625 71.78125 18.9375 73 \nQ 24.125 74.21875 28.421875 74.21875 \nQ 39.75 74.21875 46.484375 68.546875 \nQ 53.21875 62.890625 53.21875 53.421875 \nQ 53.21875 48.921875 51.53125 44.890625 \nQ 49.859375 40.875 45.40625 35.40625 \nQ 44.1875 33.984375 37.640625 27.21875 \nQ 31.109375 20.453125 19.1875 8.296875 \nz\n\" id=\"DejaVuSans-50\"/>\n       </defs>\n       <use xlink:href=\"#DejaVuSans-8722\"/>\n       <use x=\"83.789062\" xlink:href=\"#DejaVuSans-50\"/>\n      </g>\n     </g>\n    </g>\n    <g id=\"xtick_4\">\n     <g id=\"line2d_7\">\n      <path clip-path=\"url(#pc18132b056)\" d=\"M 207.706373 224.64 \nL 207.706373 7.2 \n\" style=\"fill:none;stroke:#b0b0b0;stroke-linecap:square;stroke-width:0.8;\"/>\n     </g>\n     <g id=\"line2d_8\">\n      <g>\n       <use style=\"stroke:#000000;stroke-width:0.8;\" x=\"207.706373\" xlink:href=\"#mbb947ff980\" y=\"224.64\"/>\n      </g>\n     </g>\n     <g id=\"text_4\">\n      <!-- 0 -->\n      <g transform=\"translate(204.525123 239.238437)scale(0.1 -0.1)\">\n       <defs>\n        <path d=\"M 31.78125 66.40625 \nQ 24.171875 66.40625 20.328125 58.90625 \nQ 16.5 51.421875 16.5 36.375 \nQ 16.5 21.390625 20.328125 13.890625 \nQ 24.171875 6.390625 31.78125 6.390625 \nQ 39.453125 6.390625 43.28125 13.890625 \nQ 47.125 21.390625 47.125 36.375 \nQ 47.125 51.421875 43.28125 58.90625 \nQ 39.453125 66.40625 31.78125 66.40625 \nz\nM 31.78125 74.21875 \nQ 44.046875 74.21875 50.515625 64.515625 \nQ 56.984375 54.828125 56.984375 36.375 \nQ 56.984375 17.96875 50.515625 8.265625 \nQ 44.046875 -1.421875 31.78125 -1.421875 \nQ 19.53125 -1.421875 13.0625 8.265625 \nQ 6.59375 17.96875 6.59375 36.375 \nQ 6.59375 54.828125 13.0625 64.515625 \nQ 19.53125 74.21875 31.78125 74.21875 \nz\n\" id=\"DejaVuSans-48\"/>\n       </defs>\n       <use xlink:href=\"#DejaVuSans-48\"/>\n      </g>\n     </g>\n    </g>\n    <g id=\"xtick_5\">\n     <g id=\"line2d_9\">\n      <path clip-path=\"url(#pc18132b056)\" d=\"M 252.845043 224.64 \nL 252.845043 7.2 \n\" style=\"fill:none;stroke:#b0b0b0;stroke-linecap:square;stroke-width:0.8;\"/>\n     </g>\n     <g id=\"line2d_10\">\n      <g>\n       <use style=\"stroke:#000000;stroke-width:0.8;\" x=\"252.845043\" xlink:href=\"#mbb947ff980\" y=\"224.64\"/>\n      </g>\n     </g>\n     <g id=\"text_5\">\n      <!-- 2 -->\n      <g transform=\"translate(249.663793 239.238437)scale(0.1 -0.1)\">\n       <use xlink:href=\"#DejaVuSans-50\"/>\n      </g>\n     </g>\n    </g>\n    <g id=\"xtick_6\">\n     <g id=\"line2d_11\">\n      <path clip-path=\"url(#pc18132b056)\" d=\"M 297.983714 224.64 \nL 297.983714 7.2 \n\" style=\"fill:none;stroke:#b0b0b0;stroke-linecap:square;stroke-width:0.8;\"/>\n     </g>\n     <g id=\"line2d_12\">\n      <g>\n       <use style=\"stroke:#000000;stroke-width:0.8;\" x=\"297.983714\" xlink:href=\"#mbb947ff980\" y=\"224.64\"/>\n      </g>\n     </g>\n     <g id=\"text_6\">\n      <!-- 4 -->\n      <g transform=\"translate(294.802464 239.238437)scale(0.1 -0.1)\">\n       <use xlink:href=\"#DejaVuSans-52\"/>\n      </g>\n     </g>\n    </g>\n    <g id=\"xtick_7\">\n     <g id=\"line2d_13\">\n      <path clip-path=\"url(#pc18132b056)\" d=\"M 343.122384 224.64 \nL 343.122384 7.2 \n\" style=\"fill:none;stroke:#b0b0b0;stroke-linecap:square;stroke-width:0.8;\"/>\n     </g>\n     <g id=\"line2d_14\">\n      <g>\n       <use style=\"stroke:#000000;stroke-width:0.8;\" x=\"343.122384\" xlink:href=\"#mbb947ff980\" y=\"224.64\"/>\n      </g>\n     </g>\n     <g id=\"text_7\">\n      <!-- 6 -->\n      <g transform=\"translate(339.941134 239.238437)scale(0.1 -0.1)\">\n       <use xlink:href=\"#DejaVuSans-54\"/>\n      </g>\n     </g>\n    </g>\n   </g>\n   <g id=\"matplotlib.axis_2\">\n    <g id=\"ytick_1\">\n     <g id=\"line2d_15\">\n      <path clip-path=\"url(#pc18132b056)\" d=\"M 39.65 224.64 \nL 374.45 224.64 \n\" style=\"fill:none;stroke:#b0b0b0;stroke-linecap:square;stroke-width:0.8;\"/>\n     </g>\n     <g id=\"line2d_16\">\n      <defs>\n       <path d=\"M 0 0 \nL -3.5 0 \n\" id=\"m20919c9e65\" style=\"stroke:#000000;stroke-width:0.8;\"/>\n      </defs>\n      <g>\n       <use style=\"stroke:#000000;stroke-width:0.8;\" x=\"39.65\" xlink:href=\"#m20919c9e65\" y=\"224.64\"/>\n      </g>\n     </g>\n     <g id=\"text_8\">\n      <!-- 0 -->\n      <g transform=\"translate(26.2875 228.439219)scale(0.1 -0.1)\">\n       <use xlink:href=\"#DejaVuSans-48\"/>\n      </g>\n     </g>\n    </g>\n    <g id=\"ytick_2\">\n     <g id=\"line2d_17\">\n      <path clip-path=\"url(#pc18132b056)\" d=\"M 39.65 196.178522 \nL 374.45 196.178522 \n\" style=\"fill:none;stroke:#b0b0b0;stroke-linecap:square;stroke-width:0.8;\"/>\n     </g>\n     <g id=\"line2d_18\">\n      <g>\n       <use style=\"stroke:#000000;stroke-width:0.8;\" x=\"39.65\" xlink:href=\"#m20919c9e65\" y=\"196.178522\"/>\n      </g>\n     </g>\n     <g id=\"text_9\">\n      <!-- 1000 -->\n      <g transform=\"translate(7.2 199.977741)scale(0.1 -0.1)\">\n       <defs>\n        <path d=\"M 12.40625 8.296875 \nL 28.515625 8.296875 \nL 28.515625 63.921875 \nL 10.984375 60.40625 \nL 10.984375 69.390625 \nL 28.421875 72.90625 \nL 38.28125 72.90625 \nL 38.28125 8.296875 \nL 54.390625 8.296875 \nL 54.390625 0 \nL 12.40625 0 \nz\n\" id=\"DejaVuSans-49\"/>\n       </defs>\n       <use xlink:href=\"#DejaVuSans-49\"/>\n       <use x=\"63.623047\" xlink:href=\"#DejaVuSans-48\"/>\n       <use x=\"127.246094\" xlink:href=\"#DejaVuSans-48\"/>\n       <use x=\"190.869141\" xlink:href=\"#DejaVuSans-48\"/>\n      </g>\n     </g>\n    </g>\n    <g id=\"ytick_3\">\n     <g id=\"line2d_19\">\n      <path clip-path=\"url(#pc18132b056)\" d=\"M 39.65 167.717044 \nL 374.45 167.717044 \n\" style=\"fill:none;stroke:#b0b0b0;stroke-linecap:square;stroke-width:0.8;\"/>\n     </g>\n     <g id=\"line2d_20\">\n      <g>\n       <use style=\"stroke:#000000;stroke-width:0.8;\" x=\"39.65\" xlink:href=\"#m20919c9e65\" y=\"167.717044\"/>\n      </g>\n     </g>\n     <g id=\"text_10\">\n      <!-- 2000 -->\n      <g transform=\"translate(7.2 171.516263)scale(0.1 -0.1)\">\n       <use xlink:href=\"#DejaVuSans-50\"/>\n       <use x=\"63.623047\" xlink:href=\"#DejaVuSans-48\"/>\n       <use x=\"127.246094\" xlink:href=\"#DejaVuSans-48\"/>\n       <use x=\"190.869141\" xlink:href=\"#DejaVuSans-48\"/>\n      </g>\n     </g>\n    </g>\n    <g id=\"ytick_4\">\n     <g id=\"line2d_21\">\n      <path clip-path=\"url(#pc18132b056)\" d=\"M 39.65 139.255566 \nL 374.45 139.255566 \n\" style=\"fill:none;stroke:#b0b0b0;stroke-linecap:square;stroke-width:0.8;\"/>\n     </g>\n     <g id=\"line2d_22\">\n      <g>\n       <use style=\"stroke:#000000;stroke-width:0.8;\" x=\"39.65\" xlink:href=\"#m20919c9e65\" y=\"139.255566\"/>\n      </g>\n     </g>\n     <g id=\"text_11\">\n      <!-- 3000 -->\n      <g transform=\"translate(7.2 143.054785)scale(0.1 -0.1)\">\n       <defs>\n        <path d=\"M 40.578125 39.3125 \nQ 47.65625 37.796875 51.625 33 \nQ 55.609375 28.21875 55.609375 21.1875 \nQ 55.609375 10.40625 48.1875 4.484375 \nQ 40.765625 -1.421875 27.09375 -1.421875 \nQ 22.515625 -1.421875 17.65625 -0.515625 \nQ 12.796875 0.390625 7.625 2.203125 \nL 7.625 11.71875 \nQ 11.71875 9.328125 16.59375 8.109375 \nQ 21.484375 6.890625 26.8125 6.890625 \nQ 36.078125 6.890625 40.9375 10.546875 \nQ 45.796875 14.203125 45.796875 21.1875 \nQ 45.796875 27.640625 41.28125 31.265625 \nQ 36.765625 34.90625 28.71875 34.90625 \nL 20.21875 34.90625 \nL 20.21875 43.015625 \nL 29.109375 43.015625 \nQ 36.375 43.015625 40.234375 45.921875 \nQ 44.09375 48.828125 44.09375 54.296875 \nQ 44.09375 59.90625 40.109375 62.90625 \nQ 36.140625 65.921875 28.71875 65.921875 \nQ 24.65625 65.921875 20.015625 65.03125 \nQ 15.375 64.15625 9.8125 62.3125 \nL 9.8125 71.09375 \nQ 15.4375 72.65625 20.34375 73.4375 \nQ 25.25 74.21875 29.59375 74.21875 \nQ 40.828125 74.21875 47.359375 69.109375 \nQ 53.90625 64.015625 53.90625 55.328125 \nQ 53.90625 49.265625 50.4375 45.09375 \nQ 46.96875 40.921875 40.578125 39.3125 \nz\n\" id=\"DejaVuSans-51\"/>\n       </defs>\n       <use xlink:href=\"#DejaVuSans-51\"/>\n       <use x=\"63.623047\" xlink:href=\"#DejaVuSans-48\"/>\n       <use x=\"127.246094\" xlink:href=\"#DejaVuSans-48\"/>\n       <use x=\"190.869141\" xlink:href=\"#DejaVuSans-48\"/>\n      </g>\n     </g>\n    </g>\n    <g id=\"ytick_5\">\n     <g id=\"line2d_23\">\n      <path clip-path=\"url(#pc18132b056)\" d=\"M 39.65 110.794088 \nL 374.45 110.794088 \n\" style=\"fill:none;stroke:#b0b0b0;stroke-linecap:square;stroke-width:0.8;\"/>\n     </g>\n     <g id=\"line2d_24\">\n      <g>\n       <use style=\"stroke:#000000;stroke-width:0.8;\" x=\"39.65\" xlink:href=\"#m20919c9e65\" y=\"110.794088\"/>\n      </g>\n     </g>\n     <g id=\"text_12\">\n      <!-- 4000 -->\n      <g transform=\"translate(7.2 114.593307)scale(0.1 -0.1)\">\n       <use xlink:href=\"#DejaVuSans-52\"/>\n       <use x=\"63.623047\" xlink:href=\"#DejaVuSans-48\"/>\n       <use x=\"127.246094\" xlink:href=\"#DejaVuSans-48\"/>\n       <use x=\"190.869141\" xlink:href=\"#DejaVuSans-48\"/>\n      </g>\n     </g>\n    </g>\n    <g id=\"ytick_6\">\n     <g id=\"line2d_25\">\n      <path clip-path=\"url(#pc18132b056)\" d=\"M 39.65 82.33261 \nL 374.45 82.33261 \n\" style=\"fill:none;stroke:#b0b0b0;stroke-linecap:square;stroke-width:0.8;\"/>\n     </g>\n     <g id=\"line2d_26\">\n      <g>\n       <use style=\"stroke:#000000;stroke-width:0.8;\" x=\"39.65\" xlink:href=\"#m20919c9e65\" y=\"82.33261\"/>\n      </g>\n     </g>\n     <g id=\"text_13\">\n      <!-- 5000 -->\n      <g transform=\"translate(7.2 86.131829)scale(0.1 -0.1)\">\n       <defs>\n        <path d=\"M 10.796875 72.90625 \nL 49.515625 72.90625 \nL 49.515625 64.59375 \nL 19.828125 64.59375 \nL 19.828125 46.734375 \nQ 21.96875 47.46875 24.109375 47.828125 \nQ 26.265625 48.1875 28.421875 48.1875 \nQ 40.625 48.1875 47.75 41.5 \nQ 54.890625 34.8125 54.890625 23.390625 \nQ 54.890625 11.625 47.5625 5.09375 \nQ 40.234375 -1.421875 26.90625 -1.421875 \nQ 22.3125 -1.421875 17.546875 -0.640625 \nQ 12.796875 0.140625 7.71875 1.703125 \nL 7.71875 11.625 \nQ 12.109375 9.234375 16.796875 8.0625 \nQ 21.484375 6.890625 26.703125 6.890625 \nQ 35.15625 6.890625 40.078125 11.328125 \nQ 45.015625 15.765625 45.015625 23.390625 \nQ 45.015625 31 40.078125 35.4375 \nQ 35.15625 39.890625 26.703125 39.890625 \nQ 22.75 39.890625 18.8125 39.015625 \nQ 14.890625 38.140625 10.796875 36.28125 \nz\n\" id=\"DejaVuSans-53\"/>\n       </defs>\n       <use xlink:href=\"#DejaVuSans-53\"/>\n       <use x=\"63.623047\" xlink:href=\"#DejaVuSans-48\"/>\n       <use x=\"127.246094\" xlink:href=\"#DejaVuSans-48\"/>\n       <use x=\"190.869141\" xlink:href=\"#DejaVuSans-48\"/>\n      </g>\n     </g>\n    </g>\n    <g id=\"ytick_7\">\n     <g id=\"line2d_27\">\n      <path clip-path=\"url(#pc18132b056)\" d=\"M 39.65 53.871132 \nL 374.45 53.871132 \n\" style=\"fill:none;stroke:#b0b0b0;stroke-linecap:square;stroke-width:0.8;\"/>\n     </g>\n     <g id=\"line2d_28\">\n      <g>\n       <use style=\"stroke:#000000;stroke-width:0.8;\" x=\"39.65\" xlink:href=\"#m20919c9e65\" y=\"53.871132\"/>\n      </g>\n     </g>\n     <g id=\"text_14\">\n      <!-- 6000 -->\n      <g transform=\"translate(7.2 57.67035)scale(0.1 -0.1)\">\n       <use xlink:href=\"#DejaVuSans-54\"/>\n       <use x=\"63.623047\" xlink:href=\"#DejaVuSans-48\"/>\n       <use x=\"127.246094\" xlink:href=\"#DejaVuSans-48\"/>\n       <use x=\"190.869141\" xlink:href=\"#DejaVuSans-48\"/>\n      </g>\n     </g>\n    </g>\n    <g id=\"ytick_8\">\n     <g id=\"line2d_29\">\n      <path clip-path=\"url(#pc18132b056)\" d=\"M 39.65 25.409654 \nL 374.45 25.409654 \n\" style=\"fill:none;stroke:#b0b0b0;stroke-linecap:square;stroke-width:0.8;\"/>\n     </g>\n     <g id=\"line2d_30\">\n      <g>\n       <use style=\"stroke:#000000;stroke-width:0.8;\" x=\"39.65\" xlink:href=\"#m20919c9e65\" y=\"25.409654\"/>\n      </g>\n     </g>\n     <g id=\"text_15\">\n      <!-- 7000 -->\n      <g transform=\"translate(7.2 29.208872)scale(0.1 -0.1)\">\n       <defs>\n        <path d=\"M 8.203125 72.90625 \nL 55.078125 72.90625 \nL 55.078125 68.703125 \nL 28.609375 0 \nL 18.3125 0 \nL 43.21875 64.59375 \nL 8.203125 64.59375 \nz\n\" id=\"DejaVuSans-55\"/>\n       </defs>\n       <use xlink:href=\"#DejaVuSans-55\"/>\n       <use x=\"63.623047\" xlink:href=\"#DejaVuSans-48\"/>\n       <use x=\"127.246094\" xlink:href=\"#DejaVuSans-48\"/>\n       <use x=\"190.869141\" xlink:href=\"#DejaVuSans-48\"/>\n      </g>\n     </g>\n    </g>\n   </g>\n   <g id=\"patch_23\">\n    <path d=\"M 39.65 224.64 \nL 39.65 7.2 \n\" style=\"fill:none;stroke:#000000;stroke-linecap:square;stroke-linejoin:miter;stroke-width:0.8;\"/>\n   </g>\n   <g id=\"patch_24\">\n    <path d=\"M 374.45 224.64 \nL 374.45 7.2 \n\" style=\"fill:none;stroke:#000000;stroke-linecap:square;stroke-linejoin:miter;stroke-width:0.8;\"/>\n   </g>\n   <g id=\"patch_25\">\n    <path d=\"M 39.65 224.64 \nL 374.45 224.64 \n\" style=\"fill:none;stroke:#000000;stroke-linecap:square;stroke-linejoin:miter;stroke-width:0.8;\"/>\n   </g>\n   <g id=\"patch_26\">\n    <path d=\"M 39.65 7.2 \nL 374.45 7.2 \n\" style=\"fill:none;stroke:#000000;stroke-linecap:square;stroke-linejoin:miter;stroke-width:0.8;\"/>\n   </g>\n   <g id=\"legend_1\">\n    <g id=\"patch_27\">\n     <path d=\"M 329.53125 44.55625 \nL 367.45 44.55625 \nQ 369.45 44.55625 369.45 42.55625 \nL 369.45 14.2 \nQ 369.45 12.2 367.45 12.2 \nL 329.53125 12.2 \nQ 327.53125 12.2 327.53125 14.2 \nL 327.53125 42.55625 \nQ 327.53125 44.55625 329.53125 44.55625 \nz\n\" style=\"fill:#ffffff;opacity:0.8;stroke:#cccccc;stroke-linejoin:miter;\"/>\n    </g>\n    <g id=\"patch_28\">\n     <path d=\"M 331.53125 23.798437 \nL 351.53125 23.798437 \nL 351.53125 16.798437 \nL 331.53125 16.798437 \nz\n\" style=\"fill:#1f77b4;\"/>\n    </g>\n    <g id=\"text_16\">\n     <!-- x -->\n     <g transform=\"translate(359.53125 23.798437)scale(0.1 -0.1)\">\n      <defs>\n       <path d=\"M 54.890625 54.6875 \nL 35.109375 28.078125 \nL 55.90625 0 \nL 45.3125 0 \nL 29.390625 21.484375 \nL 13.484375 0 \nL 2.875 0 \nL 24.125 28.609375 \nL 4.6875 54.6875 \nL 15.28125 54.6875 \nL 29.78125 35.203125 \nL 44.28125 54.6875 \nz\n\" id=\"DejaVuSans-120\"/>\n      </defs>\n      <use xlink:href=\"#DejaVuSans-120\"/>\n     </g>\n    </g>\n    <g id=\"patch_29\">\n     <path d=\"M 331.53125 38.476562 \nL 351.53125 38.476562 \nL 351.53125 31.476562 \nL 331.53125 31.476562 \nz\n\" style=\"fill:#ff7f0e;\"/>\n    </g>\n    <g id=\"text_17\">\n     <!-- y -->\n     <g transform=\"translate(359.53125 38.476562)scale(0.1 -0.1)\">\n      <defs>\n       <path d=\"M 32.171875 -5.078125 \nQ 28.375 -14.84375 24.75 -17.8125 \nQ 21.140625 -20.796875 15.09375 -20.796875 \nL 7.90625 -20.796875 \nL 7.90625 -13.28125 \nL 13.1875 -13.28125 \nQ 16.890625 -13.28125 18.9375 -11.515625 \nQ 21 -9.765625 23.484375 -3.21875 \nL 25.09375 0.875 \nL 2.984375 54.6875 \nL 12.5 54.6875 \nL 29.59375 11.921875 \nL 46.6875 54.6875 \nL 56.203125 54.6875 \nz\n\" id=\"DejaVuSans-121\"/>\n      </defs>\n      <use xlink:href=\"#DejaVuSans-121\"/>\n     </g>\n    </g>\n   </g>\n  </g>\n </g>\n <defs>\n  <clipPath id=\"pc18132b056\">\n   <rect height=\"217.44\" width=\"334.8\" x=\"39.65\" y=\"7.2\"/>\n  </clipPath>\n </defs>\n</svg>\n",
      "image/png": "[encoded data removed]"
     },
     "metadata": {
      "needs_background": "light"
     }
    }
   ],
   "source": [
    "import matplotlib.pyplot as plt\n",
    "(waypoint_df['x'] - waypoint_df['_x']).hist(label='x')\n",
    "(waypoint_df['y'] - waypoint_df['_y']).hist(label='y')\n",
    "plt.legend()"
   ]
  },
  {
   "cell_type": "code",
   "execution_count": 42,
   "metadata": {},
   "outputs": [
    {
     "output_type": "execute_result",
     "data": {
      "text/plain": [
       "                                                             x           y  \\\n",
       "site_path_timestamp                                                          \n",
       "5da1389e4db8ce0c98bd0547_00ff0c9a71cc37a2ebdd0f...   65.584167   83.387192   \n",
       "5da1389e4db8ce0c98bd0547_00ff0c9a71cc37a2ebdd0f...   70.428797   83.765700   \n",
       "5da1389e4db8ce0c98bd0547_00ff0c9a71cc37a2ebdd0f...   70.494701   84.391929   \n",
       "5da1389e4db8ce0c98bd0547_00ff0c9a71cc37a2ebdd0f...   67.121409   83.439146   \n",
       "5da1389e4db8ce0c98bd0547_00ff0c9a71cc37a2ebdd0f...   71.139110   83.195628   \n",
       "...                                                        ...         ...   \n",
       "5a0546857ecc773753327266_ffcd9524c80c0fa5bb859e...  132.157873  183.355422   \n",
       "5a0546857ecc773753327266_ffcd9524c80c0fa5bb859e...  132.211922  184.717391   \n",
       "5a0546857ecc773753327266_ffcd9524c80c0fa5bb859e...  135.119314  182.573354   \n",
       "5a0546857ecc773753327266_ffcd9524c80c0fa5bb859e...  131.439150  179.709345   \n",
       "5a0546857ecc773753327266_ffcd9524c80c0fa5bb859e...  128.692514  175.136984   \n",
       "\n",
       "                                                       floor  \n",
       "site_path_timestamp                                           \n",
       "5da1389e4db8ce0c98bd0547_00ff0c9a71cc37a2ebdd0f...  2.600000  \n",
       "5da1389e4db8ce0c98bd0547_00ff0c9a71cc37a2ebdd0f...  2.600000  \n",
       "5da1389e4db8ce0c98bd0547_00ff0c9a71cc37a2ebdd0f...  2.333333  \n",
       "5da1389e4db8ce0c98bd0547_00ff0c9a71cc37a2ebdd0f...  2.800000  \n",
       "5da1389e4db8ce0c98bd0547_00ff0c9a71cc37a2ebdd0f...  2.680000  \n",
       "...                                                      ...  \n",
       "5a0546857ecc773753327266_ffcd9524c80c0fa5bb859e...  0.000000  \n",
       "5a0546857ecc773753327266_ffcd9524c80c0fa5bb859e...  0.000000  \n",
       "5a0546857ecc773753327266_ffcd9524c80c0fa5bb859e...  0.000000  \n",
       "5a0546857ecc773753327266_ffcd9524c80c0fa5bb859e...  0.000000  \n",
       "5a0546857ecc773753327266_ffcd9524c80c0fa5bb859e...  0.000000  \n",
       "\n",
       "[9992 rows x 3 columns]"
      ],
      "text/html": "<div>\n<style scoped>\n    .dataframe tbody tr th:only-of-type {\n        vertical-align: middle;\n    }\n\n    .dataframe tbody tr th {\n        vertical-align: top;\n    }\n\n    .dataframe thead th {\n        text-align: right;\n    }\n</style>\n<table border=\"1\" class=\"dataframe\">\n  <thead>\n    <tr style=\"text-align: right;\">\n      <th></th>\n      <th>x</th>\n      <th>y</th>\n      <th>floor</th>\n    </tr>\n    <tr>\n      <th>site_path_timestamp</th>\n      <th></th>\n      <th></th>\n      <th></th>\n    </tr>\n  </thead>\n  <tbody>\n    <tr>\n      <th>5da1389e4db8ce0c98bd0547_00ff0c9a71cc37a2ebdd0f05_0000000000010</th>\n      <td>65.584167</td>\n      <td>83.387192</td>\n      <td>2.600000</td>\n    </tr>\n    <tr>\n      <th>5da1389e4db8ce0c98bd0547_00ff0c9a71cc37a2ebdd0f05_0000000004048</th>\n      <td>70.428797</td>\n      <td>83.765700</td>\n      <td>2.600000</td>\n    </tr>\n    <tr>\n      <th>5da1389e4db8ce0c98bd0547_00ff0c9a71cc37a2ebdd0f05_0000000012526</th>\n      <td>70.494701</td>\n      <td>84.391929</td>\n      <td>2.333333</td>\n    </tr>\n    <tr>\n      <th>5da1389e4db8ce0c98bd0547_00ff0c9a71cc37a2ebdd0f05_0000000025542</th>\n      <td>67.121409</td>\n      <td>83.439146</td>\n      <td>2.800000</td>\n    </tr>\n    <tr>\n      <th>5da1389e4db8ce0c98bd0547_00ff0c9a71cc37a2ebdd0f05_0000000037134</th>\n      <td>71.139110</td>\n      <td>83.195628</td>\n      <td>2.680000</td>\n    </tr>\n    <tr>\n      <th>...</th>\n      <td>...</td>\n      <td>...</td>\n      <td>...</td>\n    </tr>\n    <tr>\n      <th>5a0546857ecc773753327266_ffcd9524c80c0fa5bb859eaf_0000000035117</th>\n      <td>132.157873</td>\n      <td>183.355422</td>\n      <td>0.000000</td>\n    </tr>\n    <tr>\n      <th>5a0546857ecc773753327266_ffcd9524c80c0fa5bb859eaf_0000000041230</th>\n      <td>132.211922</td>\n      <td>184.717391</td>\n      <td>0.000000</td>\n    </tr>\n    <tr>\n      <th>5a0546857ecc773753327266_ffcd9524c80c0fa5bb859eaf_0000000051634</th>\n      <td>135.119314</td>\n      <td>182.573354</td>\n      <td>0.000000</td>\n    </tr>\n    <tr>\n      <th>5a0546857ecc773753327266_ffcd9524c80c0fa5bb859eaf_0000000060483</th>\n      <td>131.439150</td>\n      <td>179.709345</td>\n      <td>0.000000</td>\n    </tr>\n    <tr>\n      <th>5a0546857ecc773753327266_ffcd9524c80c0fa5bb859eaf_0000000067146</th>\n      <td>128.692514</td>\n      <td>175.136984</td>\n      <td>0.000000</td>\n    </tr>\n  </tbody>\n</table>\n<p>9992 rows × 3 columns</p>\n</div>"
     },
     "metadata": {},
     "execution_count": 42
    }
   ],
   "source": [
    "sub = waypoint_df[['site_path_timestamp', '_x', '_y', 'floor']].set_index('site_path_timestamp').rename(columns={'_x':'x', '_y':'y'})\n",
    "sub"
   ]
  },
  {
   "cell_type": "code",
   "execution_count": 43,
   "metadata": {},
   "outputs": [
    {
     "output_type": "execute_result",
     "data": {
      "text/plain": [
       "                                                       floor           x  \\\n",
       "site_path_timestamp                                                        \n",
       "5a0546857ecc773753327266_046cfa46be49fc10834815...  0.000000   85.291725   \n",
       "5a0546857ecc773753327266_046cfa46be49fc10834815...  0.000000   84.079224   \n",
       "5a0546857ecc773753327266_046cfa46be49fc10834815...  0.000000   86.190925   \n",
       "5a0546857ecc773753327266_046cfa46be49fc10834815...  0.000000   87.178930   \n",
       "5a0546857ecc773753327266_046cfa46be49fc10834815...  0.000000   86.282648   \n",
       "...                                                      ...         ...   \n",
       "5dc8cea7659e181adb076a3f_fd64de8c4a2fc5ebb0e9f4...  4.400000  210.909592   \n",
       "5dc8cea7659e181adb076a3f_fd64de8c4a2fc5ebb0e9f4...  4.200000  209.680458   \n",
       "5dc8cea7659e181adb076a3f_fd64de8c4a2fc5ebb0e9f4...  4.466667  205.240075   \n",
       "5dc8cea7659e181adb076a3f_fd64de8c4a2fc5ebb0e9f4...  4.400000  201.153869   \n",
       "5dc8cea7659e181adb076a3f_fd64de8c4a2fc5ebb0e9f4...  4.400000  196.661209   \n",
       "\n",
       "                                                             y  \n",
       "site_path_timestamp                                             \n",
       "5a0546857ecc773753327266_046cfa46be49fc10834815...  104.041054  \n",
       "5a0546857ecc773753327266_046cfa46be49fc10834815...  104.274928  \n",
       "5a0546857ecc773753327266_046cfa46be49fc10834815...  104.955261  \n",
       "5a0546857ecc773753327266_046cfa46be49fc10834815...  106.438983  \n",
       "5a0546857ecc773753327266_046cfa46be49fc10834815...  107.660038  \n",
       "...                                                        ...  \n",
       "5dc8cea7659e181adb076a3f_fd64de8c4a2fc5ebb0e9f4...   98.799659  \n",
       "5dc8cea7659e181adb076a3f_fd64de8c4a2fc5ebb0e9f4...  101.898393  \n",
       "5dc8cea7659e181adb076a3f_fd64de8c4a2fc5ebb0e9f4...  105.122099  \n",
       "5dc8cea7659e181adb076a3f_fd64de8c4a2fc5ebb0e9f4...  112.012007  \n",
       "5dc8cea7659e181adb076a3f_fd64de8c4a2fc5ebb0e9f4...  115.627998  \n",
       "\n",
       "[10133 rows x 3 columns]"
      ],
      "text/html": "<div>\n<style scoped>\n    .dataframe tbody tr th:only-of-type {\n        vertical-align: middle;\n    }\n\n    .dataframe tbody tr th {\n        vertical-align: top;\n    }\n\n    .dataframe thead th {\n        text-align: right;\n    }\n</style>\n<table border=\"1\" class=\"dataframe\">\n  <thead>\n    <tr style=\"text-align: right;\">\n      <th></th>\n      <th>floor</th>\n      <th>x</th>\n      <th>y</th>\n    </tr>\n    <tr>\n      <th>site_path_timestamp</th>\n      <th></th>\n      <th></th>\n      <th></th>\n    </tr>\n  </thead>\n  <tbody>\n    <tr>\n      <th>5a0546857ecc773753327266_046cfa46be49fc10834815c6_0000000000009</th>\n      <td>0.000000</td>\n      <td>85.291725</td>\n      <td>104.041054</td>\n    </tr>\n    <tr>\n      <th>5a0546857ecc773753327266_046cfa46be49fc10834815c6_0000000009017</th>\n      <td>0.000000</td>\n      <td>84.079224</td>\n      <td>104.274928</td>\n    </tr>\n    <tr>\n      <th>5a0546857ecc773753327266_046cfa46be49fc10834815c6_0000000015326</th>\n      <td>0.000000</td>\n      <td>86.190925</td>\n      <td>104.955261</td>\n    </tr>\n    <tr>\n      <th>5a0546857ecc773753327266_046cfa46be49fc10834815c6_0000000018763</th>\n      <td>0.000000</td>\n      <td>87.178930</td>\n      <td>106.438983</td>\n    </tr>\n    <tr>\n      <th>5a0546857ecc773753327266_046cfa46be49fc10834815c6_0000000022328</th>\n      <td>0.000000</td>\n      <td>86.282648</td>\n      <td>107.660038</td>\n    </tr>\n    <tr>\n      <th>...</th>\n      <td>...</td>\n      <td>...</td>\n      <td>...</td>\n    </tr>\n    <tr>\n      <th>5dc8cea7659e181adb076a3f_fd64de8c4a2fc5ebb0e9f412_0000000082589</th>\n      <td>4.400000</td>\n      <td>210.909592</td>\n      <td>98.799659</td>\n    </tr>\n    <tr>\n      <th>5dc8cea7659e181adb076a3f_fd64de8c4a2fc5ebb0e9f412_0000000085758</th>\n      <td>4.200000</td>\n      <td>209.680458</td>\n      <td>101.898393</td>\n    </tr>\n    <tr>\n      <th>5dc8cea7659e181adb076a3f_fd64de8c4a2fc5ebb0e9f412_0000000090895</th>\n      <td>4.466667</td>\n      <td>205.240075</td>\n      <td>105.122099</td>\n    </tr>\n    <tr>\n      <th>5dc8cea7659e181adb076a3f_fd64de8c4a2fc5ebb0e9f412_0000000096899</th>\n      <td>4.400000</td>\n      <td>201.153869</td>\n      <td>112.012007</td>\n    </tr>\n    <tr>\n      <th>5dc8cea7659e181adb076a3f_fd64de8c4a2fc5ebb0e9f412_0000000100447</th>\n      <td>4.400000</td>\n      <td>196.661209</td>\n      <td>115.627998</td>\n    </tr>\n  </tbody>\n</table>\n<p>10133 rows × 3 columns</p>\n</div>"
     },
     "metadata": {},
     "execution_count": 43
    }
   ],
   "source": [
    "# データがない場合に代替するデータ\n",
    "all_preds_20m = pd.read_csv('../../exp/exp036/exp036_remove20m_cost_snap_sub.csv')\n",
    "\n",
    "# オリジナルのsite_path_timestampをもとにmerge\n",
    "sub = pd.merge(all_preds_20m, sub, how='left', on='site_path_timestamp')[['floor_y', 'x_y', 'y_y']]\n",
    "sub = sub.rename(columns={'floor_y': 'floor', 'x_y': 'x', 'y_y': 'y'})\n",
    "\n",
    "# 欠損している箇所は補間\n",
    "sub['floor'].fillna(all_preds_20m['floor'].astype(np.float64), inplace=True)\n",
    "sub['x'].fillna(all_preds_20m['x'].astype(np.float64), inplace=True)\n",
    "sub['y'].fillna(all_preds_20m['y'].astype(np.float64), inplace=True)\n",
    "\n",
    "# foldの結果を平均した後、reindexでsubmission fileにindexを合わせる\n",
    "sub.index = all_preds_20m['site_path_timestamp']\n",
    "sub"
   ]
  },
  {
   "cell_type": "code",
   "execution_count": 44,
   "metadata": {},
   "outputs": [
    {
     "output_type": "execute_result",
     "data": {
      "text/plain": [
       "                                                    floor           x  \\\n",
       "site_path_timestamp                                                     \n",
       "5a0546857ecc773753327266_046cfa46be49fc10834815...      0   85.291725   \n",
       "5a0546857ecc773753327266_046cfa46be49fc10834815...      0   84.079224   \n",
       "5a0546857ecc773753327266_046cfa46be49fc10834815...      0   86.190925   \n",
       "5a0546857ecc773753327266_046cfa46be49fc10834815...      0   87.178930   \n",
       "5a0546857ecc773753327266_046cfa46be49fc10834815...      0   86.282648   \n",
       "...                                                   ...         ...   \n",
       "5dc8cea7659e181adb076a3f_fd64de8c4a2fc5ebb0e9f4...      5  210.909592   \n",
       "5dc8cea7659e181adb076a3f_fd64de8c4a2fc5ebb0e9f4...      5  209.680458   \n",
       "5dc8cea7659e181adb076a3f_fd64de8c4a2fc5ebb0e9f4...      5  205.240075   \n",
       "5dc8cea7659e181adb076a3f_fd64de8c4a2fc5ebb0e9f4...      5  201.153869   \n",
       "5dc8cea7659e181adb076a3f_fd64de8c4a2fc5ebb0e9f4...      5  196.661209   \n",
       "\n",
       "                                                             y  \n",
       "site_path_timestamp                                             \n",
       "5a0546857ecc773753327266_046cfa46be49fc10834815...  104.041054  \n",
       "5a0546857ecc773753327266_046cfa46be49fc10834815...  104.274928  \n",
       "5a0546857ecc773753327266_046cfa46be49fc10834815...  104.955261  \n",
       "5a0546857ecc773753327266_046cfa46be49fc10834815...  106.438983  \n",
       "5a0546857ecc773753327266_046cfa46be49fc10834815...  107.660038  \n",
       "...                                                        ...  \n",
       "5dc8cea7659e181adb076a3f_fd64de8c4a2fc5ebb0e9f4...   98.799659  \n",
       "5dc8cea7659e181adb076a3f_fd64de8c4a2fc5ebb0e9f4...  101.898393  \n",
       "5dc8cea7659e181adb076a3f_fd64de8c4a2fc5ebb0e9f4...  105.122099  \n",
       "5dc8cea7659e181adb076a3f_fd64de8c4a2fc5ebb0e9f4...  112.012007  \n",
       "5dc8cea7659e181adb076a3f_fd64de8c4a2fc5ebb0e9f4...  115.627998  \n",
       "\n",
       "[10133 rows x 3 columns]"
      ],
      "text/html": "<div>\n<style scoped>\n    .dataframe tbody tr th:only-of-type {\n        vertical-align: middle;\n    }\n\n    .dataframe tbody tr th {\n        vertical-align: top;\n    }\n\n    .dataframe thead th {\n        text-align: right;\n    }\n</style>\n<table border=\"1\" class=\"dataframe\">\n  <thead>\n    <tr style=\"text-align: right;\">\n      <th></th>\n      <th>floor</th>\n      <th>x</th>\n      <th>y</th>\n    </tr>\n    <tr>\n      <th>site_path_timestamp</th>\n      <th></th>\n      <th></th>\n      <th></th>\n    </tr>\n  </thead>\n  <tbody>\n    <tr>\n      <th>5a0546857ecc773753327266_046cfa46be49fc10834815c6_0000000000009</th>\n      <td>0</td>\n      <td>85.291725</td>\n      <td>104.041054</td>\n    </tr>\n    <tr>\n      <th>5a0546857ecc773753327266_046cfa46be49fc10834815c6_0000000009017</th>\n      <td>0</td>\n      <td>84.079224</td>\n      <td>104.274928</td>\n    </tr>\n    <tr>\n      <th>5a0546857ecc773753327266_046cfa46be49fc10834815c6_0000000015326</th>\n      <td>0</td>\n      <td>86.190925</td>\n      <td>104.955261</td>\n    </tr>\n    <tr>\n      <th>5a0546857ecc773753327266_046cfa46be49fc10834815c6_0000000018763</th>\n      <td>0</td>\n      <td>87.178930</td>\n      <td>106.438983</td>\n    </tr>\n    <tr>\n      <th>5a0546857ecc773753327266_046cfa46be49fc10834815c6_0000000022328</th>\n      <td>0</td>\n      <td>86.282648</td>\n      <td>107.660038</td>\n    </tr>\n    <tr>\n      <th>...</th>\n      <td>...</td>\n      <td>...</td>\n      <td>...</td>\n    </tr>\n    <tr>\n      <th>5dc8cea7659e181adb076a3f_fd64de8c4a2fc5ebb0e9f412_0000000082589</th>\n      <td>5</td>\n      <td>210.909592</td>\n      <td>98.799659</td>\n    </tr>\n    <tr>\n      <th>5dc8cea7659e181adb076a3f_fd64de8c4a2fc5ebb0e9f412_0000000085758</th>\n      <td>5</td>\n      <td>209.680458</td>\n      <td>101.898393</td>\n    </tr>\n    <tr>\n      <th>5dc8cea7659e181adb076a3f_fd64de8c4a2fc5ebb0e9f412_0000000090895</th>\n      <td>5</td>\n      <td>205.240075</td>\n      <td>105.122099</td>\n    </tr>\n    <tr>\n      <th>5dc8cea7659e181adb076a3f_fd64de8c4a2fc5ebb0e9f412_0000000096899</th>\n      <td>5</td>\n      <td>201.153869</td>\n      <td>112.012007</td>\n    </tr>\n    <tr>\n      <th>5dc8cea7659e181adb076a3f_fd64de8c4a2fc5ebb0e9f412_0000000100447</th>\n      <td>5</td>\n      <td>196.661209</td>\n      <td>115.627998</td>\n    </tr>\n  </tbody>\n</table>\n<p>10133 rows × 3 columns</p>\n</div>"
     },
     "metadata": {},
     "execution_count": 44
    }
   ],
   "source": [
    "# floorの数値を置換\n",
    "simple_accurate_99 = pd.read_csv(root_dir / 'simple-99-accurate-floor-model/submission.csv')\n",
    "sub['floor'] = simple_accurate_99['floor'].values\n",
    "sub"
   ]
  },
  {
   "cell_type": "code",
   "execution_count": 45,
   "metadata": {},
   "outputs": [],
   "source": [
    "sub.to_csv(EXP_NAME + '_sub.csv')"
   ]
  },
  {
   "cell_type": "markdown",
   "metadata": {},
   "source": [
    "## 後処理"
   ]
  },
  {
   "cell_type": "markdown",
   "metadata": {},
   "source": [
    "## cost minimaization"
   ]
  },
  {
   "cell_type": "code",
   "execution_count": 46,
   "metadata": {},
   "outputs": [],
   "source": [
    "import multiprocessing\n",
    "import scipy.interpolate\n",
    "import scipy.sparse\n",
    "from tqdm import tqdm\n",
    "import sys\n",
    "sys.path.append('../../')\n",
    "from src.io_f import read_data_file\n",
    "from src import compute_f\n",
    "from scipy.signal import butter, lfilter"
   ]
  },
  {
   "cell_type": "code",
   "execution_count": 47,
   "metadata": {},
   "outputs": [],
   "source": [
    "import math\n",
    "\n",
    "order = 3\n",
    "fs = 50.0  # sample rate, Hz\n",
    "# fs = 100\n",
    "# cutoff = 3.667  # desired cutoff frequency of the filter, Hz\n",
    "cutoff = 3\n",
    "\n",
    "step_distance = 0.8\n",
    "w_height = 1.7\n",
    "m_trans = -5"
   ]
  },
  {
   "cell_type": "code",
   "execution_count": 48,
   "metadata": {},
   "outputs": [
    {
     "output_type": "stream",
     "name": "stderr",
     "text": [
      "<>:146: SyntaxWarning: \"is\" with a literal. Did you mean \"==\"?\n<>:146: SyntaxWarning: \"is\" with a literal. Did you mean \"==\"?\n<ipython-input-48-a1a172f865b0>:146: SyntaxWarning: \"is\" with a literal. Did you mean \"==\"?\n  if current_state is 'above':\n"
     ]
    }
   ],
   "source": [
    "def compute_rel_positions(acce_datas, ahrs_datas):\n",
    "    step_timestamps, step_indexs, step_acce_max_mins = compute_f.compute_steps(acce_datas)\n",
    "    headings = compute_f.compute_headings(ahrs_datas)\n",
    "    stride_lengths = compute_f.compute_stride_length(step_acce_max_mins)\n",
    "    step_headings = compute_f.compute_step_heading(step_timestamps, headings)\n",
    "    rel_positions = compute_f.compute_rel_positions(stride_lengths, step_headings)\n",
    "    return rel_positions\n",
    "\n",
    "\n",
    "def correct_path(args):\n",
    "    path, path_df = args\n",
    "    \n",
    "    T_ref  = path_df['timestamp'].values\n",
    "    xy_hat = path_df[['x', 'y']].values\n",
    "    example = read_data_file(root_dir/ f'indoor-location-navigation/test/{path}.txt')\n",
    "    \n",
    "    # rel_positions = compute_rel_positions(example.acce, example.ahrs)\n",
    "    # ↑を↓に置き換える\n",
    "    rel_positions1 = compute_rel_positions(example.acce, example.ahrs)\n",
    "    rel_positions2 = steps_compute_rel_positions(example)\n",
    "    rel1 = rel_positions1.copy()\n",
    "    rel2 = rel_positions2.copy()\n",
    "    rel1[:,1:] = rel_positions1[:,1:] / 2\n",
    "    rel2[:,1:] = rel_positions2[:,1:] / 2\n",
    "    rel_positions = np.vstack([rel1,rel2])\n",
    "    rel_positions = rel_positions[np.argsort(rel_positions[:, 0])]\n",
    "    \n",
    "    if T_ref[-1] > rel_positions[-1, 0]:\n",
    "        rel_positions = [np.array([[0, 0, 0]]), rel_positions, np.array([[T_ref[-1], 0, 0]])]\n",
    "    else:\n",
    "        rel_positions = [np.array([[0, 0, 0]]), rel_positions]\n",
    "    rel_positions = np.concatenate(rel_positions)\n",
    "    \n",
    "    T_rel = rel_positions[:, 0]\n",
    "    delta_xy_hat = np.diff(scipy.interpolate.interp1d(T_rel, np.cumsum(rel_positions[:, 1:3], axis=0), axis=0)(T_ref), axis=0)\n",
    "\n",
    "    N = xy_hat.shape[0]\n",
    "    delta_t = np.diff(T_ref)\n",
    "    alpha = (8.1)**(-2) * np.ones(N)\n",
    "    beta  = (0.3 + 0.3 * 1e-3 * delta_t)**(-2)\n",
    "    A = scipy.sparse.spdiags(alpha, [0], N, N)\n",
    "    B = scipy.sparse.spdiags( beta, [0], N-1, N-1)\n",
    "    D = scipy.sparse.spdiags(np.stack([-np.ones(N), np.ones(N)]), [0, 1], N-1, N)\n",
    "\n",
    "    Q = A + (D.T @ B @ D)\n",
    "    c = (A @ xy_hat) + (D.T @ (B @ delta_xy_hat))\n",
    "    xy_star = scipy.sparse.linalg.spsolve(Q, c)\n",
    "\n",
    "    return pd.DataFrame({\n",
    "        'site_path_timestamp' : path_df['site_path_timestamp'],\n",
    "        'floor' : path_df['floor'],\n",
    "        'x' : xy_star[:, 0],\n",
    "        'y' : xy_star[:, 1],\n",
    "    })\n",
    "\n",
    "\n",
    "\n",
    "def correct_path_train(args):\n",
    "    #print(args)\n",
    "    (site_id, path, floor), path_df = args\n",
    "    \n",
    "    T_ref  = path_df['timestamp'].values\n",
    "    xy_hat = path_df[['x', 'y']].values\n",
    "    \n",
    "    example = read_data_file(f'{root_dir}/indoor-location-navigation/train/{site_id}/{floor}/{path}.txt')\n",
    "    \n",
    "    # rel_positions = compute_rel_positions(example.acce, example.ahrs)\n",
    "    # ↑を↓に置き換える\n",
    "    rel_positions1 = compute_rel_positions(example.acce, example.ahrs)\n",
    "    rel_positions2 = steps_compute_rel_positions(example)\n",
    "    rel1 = rel_positions1.copy()\n",
    "    rel2 = rel_positions2.copy()\n",
    "    rel1[:,1:] = rel_positions1[:,1:] / 2\n",
    "    rel2[:,1:] = rel_positions2[:,1:] / 2\n",
    "    rel_positions = np.vstack([rel1,rel2])\n",
    "    rel_positions = rel_positions[np.argsort(rel_positions[:, 0])]\n",
    "    \n",
    "    \n",
    "    if T_ref[-1] > rel_positions[-1, 0]:\n",
    "        rel_positions = [np.array([[0, 0, 0]]), rel_positions, np.array([[T_ref[-1], 0, 0]])]\n",
    "    else:\n",
    "        rel_positions = [np.array([[0, 0, 0]]), rel_positions]\n",
    "    rel_positions = np.concatenate(rel_positions)\n",
    "    \n",
    "    T_rel = rel_positions[:, 0]\n",
    "\n",
    "    try:\n",
    "        delta_xy_hat = np.diff(scipy.interpolate.interp1d(T_rel, np.cumsum(rel_positions[:, 1:3], axis=0), axis=0)(T_ref), axis=0)\n",
    "    except:\n",
    "        return pd.DataFrame({\n",
    "            'site_path_timestamp' : path_df['site_path_timestamp'],\n",
    "            'floor' : path_df['floor'],\n",
    "            'x' : path_df['x'].to_numpy(),\n",
    "            'y' : path_df['y'].to_numpy()\n",
    "        })\n",
    "    \n",
    "\n",
    "    N = xy_hat.shape[0]\n",
    "    delta_t = np.diff(T_ref)\n",
    "    alpha = (8.1)**(-2) * np.ones(N)\n",
    "    beta  = (0.3 + 0.3 * 1e-3 * delta_t)**(-2)\n",
    "    A = scipy.sparse.spdiags(alpha, [0], N, N)\n",
    "    B = scipy.sparse.spdiags( beta, [0], N-1, N-1)\n",
    "    D = scipy.sparse.spdiags(np.stack([-np.ones(N), np.ones(N)]), [0, 1], N-1, N)\n",
    "\n",
    "    Q = A + (D.T @ B @ D)\n",
    "    c = (A @ xy_hat) + (D.T @ (B @ delta_xy_hat))\n",
    "    xy_star = scipy.sparse.linalg.spsolve(Q, c)\n",
    "\n",
    "\n",
    "    return pd.DataFrame({\n",
    "        'site_path_timestamp' : path_df['site_path_timestamp'],\n",
    "        'floor' : path_df['floor'],\n",
    "        'x' : xy_star[:, 0],\n",
    "        'y' : xy_star[:, 1],\n",
    "    })\n",
    "\n",
    "\n",
    "\n",
    "def butter_lowpass(cutoff, fs, order=5):\n",
    "    nyq = 0.5 * fs\n",
    "    normal_cutoff = cutoff / nyq\n",
    "    b, a = butter(order, normal_cutoff, btype='low', analog=False)\n",
    "    return b, a\n",
    "\n",
    "def butter_lowpass_filter(data, cutoff, fs, order=5):\n",
    "    b, a = butter_lowpass(cutoff, fs, order=order)\n",
    "    y = lfilter(b, a, data)\n",
    "    return y\n",
    "\n",
    "def peak_accel_threshold(data, timestamps, threshold):\n",
    "    d_acc = []\n",
    "    last_state = 'below'\n",
    "    crest_troughs = 0\n",
    "    crossings = []\n",
    "\n",
    "    for i, datum in enumerate(data):\n",
    "        \n",
    "        current_state = last_state\n",
    "        if datum < threshold:\n",
    "            current_state = 'below'\n",
    "        elif datum > threshold:\n",
    "            current_state = 'above'\n",
    "\n",
    "        if current_state is not last_state:\n",
    "            if current_state is 'above':\n",
    "                crossing = [timestamps[i], threshold]\n",
    "                crossings.append(crossing)\n",
    "            else:\n",
    "                crossing = [timestamps[i], threshold]\n",
    "                crossings.append(crossing)\n",
    "\n",
    "            crest_troughs += 1\n",
    "        last_state = current_state\n",
    "    return np.array(crossings)\n"
   ]
  },
  {
   "cell_type": "code",
   "execution_count": 49,
   "metadata": {},
   "outputs": [],
   "source": [
    "def steps_compute_rel_positions(sample_file):\n",
    "    \n",
    "    mix_acce = np.sqrt(sample_file.acce[:,1:2]**2 + sample_file.acce[:,2:3]**2 + sample_file.acce[:,3:4]**2)\n",
    "    mix_acce = np.concatenate([sample_file.acce[:,0:1], mix_acce], 1)\n",
    "    mix_df = pd.DataFrame(mix_acce)\n",
    "    mix_df.columns = [\"timestamp\",\"acce\"]\n",
    "    \n",
    "    filtered = butter_lowpass_filter(mix_df[\"acce\"], cutoff, fs, order)\n",
    "\n",
    "    threshold = filtered.mean() * 1.1\n",
    "    crossings = peak_accel_threshold(filtered, mix_df[\"timestamp\"], threshold)\n",
    "\n",
    "    step_sum = len(crossings)/2\n",
    "    distance = w_height * 0.4 * step_sum\n",
    "\n",
    "    mag_df = pd.DataFrame(sample_file.magn)\n",
    "    mag_df.columns = [\"timestamp\",\"x\",\"y\",\"z\"]\n",
    "    \n",
    "    acce_df = pd.DataFrame(sample_file.acce)\n",
    "    acce_df.columns = [\"timestamp\",\"ax\",\"ay\",\"az\"]\n",
    "    \n",
    "    mag_df = pd.merge(mag_df,acce_df,on=\"timestamp\")\n",
    "    mag_df.dropna()\n",
    "    \n",
    "    time_di_list = []\n",
    "\n",
    "    for i in mag_df.iterrows():\n",
    "\n",
    "        gx,gy,gz = i[1][1],i[1][2],i[1][3]\n",
    "        ax,ay,az = i[1][4],i[1][5],i[1][6]\n",
    "\n",
    "        roll = math.atan2(ay,az)\n",
    "        pitch = math.atan2(-1*ax , (ay * math.sin(roll) + az * math.cos(roll)))\n",
    "\n",
    "        q = m_trans - math.degrees(math.atan2(\n",
    "            (gz*math.sin(roll)-gy*math.cos(roll)),(gx*math.cos(pitch) + gy*math.sin(roll)*math.sin(pitch) + gz*math.sin(pitch)*math.cos(roll))\n",
    "        )) -90\n",
    "        if q <= 0:\n",
    "            q += 360\n",
    "        time_di_list.append((i[1][0],q))\n",
    "\n",
    "    d_list = [x[1] for x in time_di_list]\n",
    "    \n",
    "    steps = []\n",
    "    step_time = []\n",
    "    di_dict = dict(time_di_list)\n",
    "\n",
    "    for n,i in enumerate(crossings[:,:1]):\n",
    "        if n % 2 == 1:\n",
    "            continue\n",
    "        direct_now = di_dict[i[0]]\n",
    "        dx = math.sin(math.radians(direct_now))\n",
    "        dy = math.cos(math.radians(direct_now))\n",
    "#         print(int(n/2+1),\"歩目/x:\",dx,\"/y:\",dy,\"/角度：\",direct_now)\n",
    "        steps.append((i[0],dx,dy))\n",
    "        step_time.append(i[0])\n",
    "    \n",
    "        step_dtime = np.diff(step_time)/1000\n",
    "        step_dtime = step_dtime.tolist()\n",
    "        step_dtime.insert(0,5)\n",
    "        \n",
    "        rel_position = []\n",
    "\n",
    "        wp_idx = 0\n",
    "#         print(\"WP:\",round(sample_file.waypoint[0,1],3),round(sample_file.waypoint[0,2],3),sample_file.waypoint[0,0])\n",
    "#         print(\"------------------\")\n",
    "        for p,i in enumerate(steps):\n",
    "            step_distance = 0\n",
    "            if step_dtime[p] >= 1:\n",
    "                step_distance = w_height*0.25\n",
    "            elif step_dtime[p] >= 0.75:\n",
    "                step_distance = w_height*0.3\n",
    "            elif step_dtime[p] >= 0.5:\n",
    "                step_distance = w_height*0.4\n",
    "            elif step_dtime[p] >= 0.35:\n",
    "                step_distance = w_height*0.45\n",
    "            elif step_dtime[p] >= 0.2:\n",
    "                step_distance = w_height*0.5\n",
    "            else:\n",
    "                step_distance = w_height*0.4\n",
    "\n",
    "#             step_x += i[1]*step_distance\n",
    "#             step_y += i[2]*step_distance\n",
    "            \n",
    "            rel_position.append([i[0], i[1]*step_distance, i[2]*step_distance])\n",
    "#     print(rel_position)\n",
    "    \n",
    "    return np.array(rel_position)"
   ]
  },
  {
   "cell_type": "code",
   "execution_count": 50,
   "metadata": {},
   "outputs": [
    {
     "output_type": "stream",
     "name": "stderr",
     "text": [
      "10778it [05:24, 33.25it/s]\n",
      "CPU times: user 53.1 s, sys: 14.1 s, total: 1min 7s\n",
      "Wall time: 5min 30s\n"
     ]
    },
    {
     "output_type": "execute_result",
     "data": {
      "text/plain": [
       "                                     site_path_timestamp     rssi_0  \\\n",
       "0      5a0546857ecc773753327266_5d10a1669c50c70008fe8...  40.500000   \n",
       "1      5a0546857ecc773753327266_5d10a1669c50c70008fe8...  42.333333   \n",
       "2      5a0546857ecc773753327266_5d10a1669c50c70008fe8...  41.000000   \n",
       "3      5a0546857ecc773753327266_5d10a1669c50c70008fe8...  35.800000   \n",
       "4      5a0546857ecc773753327266_5d10a1669c50c70008fe8...  46.600000   \n",
       "...                                                  ...        ...   \n",
       "69937  5dc8cea7659e181adb076a3f_5dd7c1189191710006b56...  66.000000   \n",
       "69938  5dc8cea7659e181adb076a3f_5dd7c119c5b77e0006b16...  64.000000   \n",
       "69939  5dc8cea7659e181adb076a3f_5dd7c119c5b77e0006b16...  62.750000   \n",
       "69940  5dc8cea7659e181adb076a3f_5dd7c119c5b77e0006b16...  62.400000   \n",
       "69941  5dc8cea7659e181adb076a3f_5dd7c119c5b77e0006b16...  64.000000   \n",
       "\n",
       "          rssi_1     rssi_2     rssi_3     rssi_4     rssi_5     rssi_6  \\\n",
       "0      47.500000  48.000000  48.500000  49.500000  50.000000  50.000000   \n",
       "1      45.500000  46.000000  46.833333  47.000000  47.833333  48.333333   \n",
       "2      43.200000  43.200000  44.000000  44.200000  44.400000  44.800000   \n",
       "3      37.400000  37.800000  38.600000  39.400000  40.000000  40.400000   \n",
       "4      48.200000  49.000000  50.600000  50.800000  51.600000  52.400000   \n",
       "...          ...        ...        ...        ...        ...        ...   \n",
       "69937  73.000000  75.000000  76.500000  80.000000  80.500000  81.500000   \n",
       "69938  66.500000  68.500000  71.500000  76.500000  79.500000  80.000000   \n",
       "69939  64.250000  65.750000  71.000000  76.000000  76.250000  77.750000   \n",
       "69940  65.000000  67.000000  71.000000  72.000000  72.400000  74.600000   \n",
       "69941  66.666667  68.333333  76.000000  78.333333  80.000000  80.333333   \n",
       "\n",
       "          rssi_7     rssi_8  ...          iy  site_id  oof_floor  \\\n",
       "0      51.000000  51.500000  ...   36.776455      0.0   2.020263   \n",
       "1      49.000000  49.000000  ...   27.134466      0.0   2.337152   \n",
       "2      45.200000  46.400000  ...   13.800187      0.0   1.953328   \n",
       "3      40.800000  40.800000  ...    8.869275      0.0   1.789859   \n",
       "4      53.000000  53.600000  ...   12.723122      0.0   1.972952   \n",
       "...          ...        ...  ...         ...      ...        ...   \n",
       "69937  82.500000  83.000000  ...  106.415894     23.0   0.000000   \n",
       "69938  81.500000  82.000000  ...  107.215134     23.0   0.000000   \n",
       "69939  79.000000  79.250000  ...  108.919197     23.0   0.000000   \n",
       "69940  76.000000  76.800000  ...  108.179710     23.0   0.000000   \n",
       "69941  80.666667  82.666667  ...  107.874741     23.0   0.000000   \n",
       "\n",
       "                    site_id_str                      path  floor_str  \\\n",
       "0      5a0546857ecc773753327266  5d10a1669c50c70008fe8977         F3   \n",
       "1      5a0546857ecc773753327266  5d10a1669c50c70008fe8977         F3   \n",
       "2      5a0546857ecc773753327266  5d10a1669c50c70008fe8977         F3   \n",
       "3      5a0546857ecc773753327266  5d10a1669c50c70008fe8977         F3   \n",
       "4      5a0546857ecc773753327266  5d10a1669c50c70008fe8977         F3   \n",
       "...                         ...                       ...        ...   \n",
       "69937  5dc8cea7659e181adb076a3f  5dd7c1189191710006b568d0         B1   \n",
       "69938  5dc8cea7659e181adb076a3f  5dd7c119c5b77e0006b16b99         B1   \n",
       "69939  5dc8cea7659e181adb076a3f  5dd7c119c5b77e0006b16b99         B1   \n",
       "69940  5dc8cea7659e181adb076a3f  5dd7c119c5b77e0006b16b99         B1   \n",
       "69941  5dc8cea7659e181adb076a3f  5dd7c119c5b77e0006b16b99         B1   \n",
       "\n",
       "            oof_x       oof_y   oof_min_x   oof_min_y  \n",
       "0       79.711162   35.530280   84.176931   38.445385  \n",
       "1      102.009525   25.542056   85.624178   29.059366  \n",
       "2       85.087132   17.841110   82.966574   13.811194  \n",
       "3       82.951010   15.998105   84.061425   11.035576  \n",
       "4       85.685172   19.938514   91.551105   16.400272  \n",
       "...           ...         ...         ...         ...  \n",
       "69937  210.031392  101.888346  207.125727  104.918147  \n",
       "69938  206.298772  106.020892  210.773282  103.974381  \n",
       "69939  205.131555  106.379872  201.595911  106.438348  \n",
       "69940  204.177504  102.442687  201.058328  104.004633  \n",
       "69941  207.953402  105.838848  210.133712  106.264936  \n",
       "\n",
       "[69942 rows x 177 columns]"
      ],
      "text/html": "<div>\n<style scoped>\n    .dataframe tbody tr th:only-of-type {\n        vertical-align: middle;\n    }\n\n    .dataframe tbody tr th {\n        vertical-align: top;\n    }\n\n    .dataframe thead th {\n        text-align: right;\n    }\n</style>\n<table border=\"1\" class=\"dataframe\">\n  <thead>\n    <tr style=\"text-align: right;\">\n      <th></th>\n      <th>site_path_timestamp</th>\n      <th>rssi_0</th>\n      <th>rssi_1</th>\n      <th>rssi_2</th>\n      <th>rssi_3</th>\n      <th>rssi_4</th>\n      <th>rssi_5</th>\n      <th>rssi_6</th>\n      <th>rssi_7</th>\n      <th>rssi_8</th>\n      <th>...</th>\n      <th>iy</th>\n      <th>site_id</th>\n      <th>oof_floor</th>\n      <th>site_id_str</th>\n      <th>path</th>\n      <th>floor_str</th>\n      <th>oof_x</th>\n      <th>oof_y</th>\n      <th>oof_min_x</th>\n      <th>oof_min_y</th>\n    </tr>\n  </thead>\n  <tbody>\n    <tr>\n      <th>0</th>\n      <td>5a0546857ecc773753327266_5d10a1669c50c70008fe8...</td>\n      <td>40.500000</td>\n      <td>47.500000</td>\n      <td>48.000000</td>\n      <td>48.500000</td>\n      <td>49.500000</td>\n      <td>50.000000</td>\n      <td>50.000000</td>\n      <td>51.000000</td>\n      <td>51.500000</td>\n      <td>...</td>\n      <td>36.776455</td>\n      <td>0.0</td>\n      <td>2.020263</td>\n      <td>5a0546857ecc773753327266</td>\n      <td>5d10a1669c50c70008fe8977</td>\n      <td>F3</td>\n      <td>79.711162</td>\n      <td>35.530280</td>\n      <td>84.176931</td>\n      <td>38.445385</td>\n    </tr>\n    <tr>\n      <th>1</th>\n      <td>5a0546857ecc773753327266_5d10a1669c50c70008fe8...</td>\n      <td>42.333333</td>\n      <td>45.500000</td>\n      <td>46.000000</td>\n      <td>46.833333</td>\n      <td>47.000000</td>\n      <td>47.833333</td>\n      <td>48.333333</td>\n      <td>49.000000</td>\n      <td>49.000000</td>\n      <td>...</td>\n      <td>27.134466</td>\n      <td>0.0</td>\n      <td>2.337152</td>\n      <td>5a0546857ecc773753327266</td>\n      <td>5d10a1669c50c70008fe8977</td>\n      <td>F3</td>\n      <td>102.009525</td>\n      <td>25.542056</td>\n      <td>85.624178</td>\n      <td>29.059366</td>\n    </tr>\n    <tr>\n      <th>2</th>\n      <td>5a0546857ecc773753327266_5d10a1669c50c70008fe8...</td>\n      <td>41.000000</td>\n      <td>43.200000</td>\n      <td>43.200000</td>\n      <td>44.000000</td>\n      <td>44.200000</td>\n      <td>44.400000</td>\n      <td>44.800000</td>\n      <td>45.200000</td>\n      <td>46.400000</td>\n      <td>...</td>\n      <td>13.800187</td>\n      <td>0.0</td>\n      <td>1.953328</td>\n      <td>5a0546857ecc773753327266</td>\n      <td>5d10a1669c50c70008fe8977</td>\n      <td>F3</td>\n      <td>85.087132</td>\n      <td>17.841110</td>\n      <td>82.966574</td>\n      <td>13.811194</td>\n    </tr>\n    <tr>\n      <th>3</th>\n      <td>5a0546857ecc773753327266_5d10a1669c50c70008fe8...</td>\n      <td>35.800000</td>\n      <td>37.400000</td>\n      <td>37.800000</td>\n      <td>38.600000</td>\n      <td>39.400000</td>\n      <td>40.000000</td>\n      <td>40.400000</td>\n      <td>40.800000</td>\n      <td>40.800000</td>\n      <td>...</td>\n      <td>8.869275</td>\n      <td>0.0</td>\n      <td>1.789859</td>\n      <td>5a0546857ecc773753327266</td>\n      <td>5d10a1669c50c70008fe8977</td>\n      <td>F3</td>\n      <td>82.951010</td>\n      <td>15.998105</td>\n      <td>84.061425</td>\n      <td>11.035576</td>\n    </tr>\n    <tr>\n      <th>4</th>\n      <td>5a0546857ecc773753327266_5d10a1669c50c70008fe8...</td>\n      <td>46.600000</td>\n      <td>48.200000</td>\n      <td>49.000000</td>\n      <td>50.600000</td>\n      <td>50.800000</td>\n      <td>51.600000</td>\n      <td>52.400000</td>\n      <td>53.000000</td>\n      <td>53.600000</td>\n      <td>...</td>\n      <td>12.723122</td>\n      <td>0.0</td>\n      <td>1.972952</td>\n      <td>5a0546857ecc773753327266</td>\n      <td>5d10a1669c50c70008fe8977</td>\n      <td>F3</td>\n      <td>85.685172</td>\n      <td>19.938514</td>\n      <td>91.551105</td>\n      <td>16.400272</td>\n    </tr>\n    <tr>\n      <th>...</th>\n      <td>...</td>\n      <td>...</td>\n      <td>...</td>\n      <td>...</td>\n      <td>...</td>\n      <td>...</td>\n      <td>...</td>\n      <td>...</td>\n      <td>...</td>\n      <td>...</td>\n      <td>...</td>\n      <td>...</td>\n      <td>...</td>\n      <td>...</td>\n      <td>...</td>\n      <td>...</td>\n      <td>...</td>\n      <td>...</td>\n      <td>...</td>\n      <td>...</td>\n      <td>...</td>\n    </tr>\n    <tr>\n      <th>69937</th>\n      <td>5dc8cea7659e181adb076a3f_5dd7c1189191710006b56...</td>\n      <td>66.000000</td>\n      <td>73.000000</td>\n      <td>75.000000</td>\n      <td>76.500000</td>\n      <td>80.000000</td>\n      <td>80.500000</td>\n      <td>81.500000</td>\n      <td>82.500000</td>\n      <td>83.000000</td>\n      <td>...</td>\n      <td>106.415894</td>\n      <td>23.0</td>\n      <td>0.000000</td>\n      <td>5dc8cea7659e181adb076a3f</td>\n      <td>5dd7c1189191710006b568d0</td>\n      <td>B1</td>\n      <td>210.031392</td>\n      <td>101.888346</td>\n      <td>207.125727</td>\n      <td>104.918147</td>\n    </tr>\n    <tr>\n      <th>69938</th>\n      <td>5dc8cea7659e181adb076a3f_5dd7c119c5b77e0006b16...</td>\n      <td>64.000000</td>\n      <td>66.500000</td>\n      <td>68.500000</td>\n      <td>71.500000</td>\n      <td>76.500000</td>\n      <td>79.500000</td>\n      <td>80.000000</td>\n      <td>81.500000</td>\n      <td>82.000000</td>\n      <td>...</td>\n      <td>107.215134</td>\n      <td>23.0</td>\n      <td>0.000000</td>\n      <td>5dc8cea7659e181adb076a3f</td>\n      <td>5dd7c119c5b77e0006b16b99</td>\n      <td>B1</td>\n      <td>206.298772</td>\n      <td>106.020892</td>\n      <td>210.773282</td>\n      <td>103.974381</td>\n    </tr>\n    <tr>\n      <th>69939</th>\n      <td>5dc8cea7659e181adb076a3f_5dd7c119c5b77e0006b16...</td>\n      <td>62.750000</td>\n      <td>64.250000</td>\n      <td>65.750000</td>\n      <td>71.000000</td>\n      <td>76.000000</td>\n      <td>76.250000</td>\n      <td>77.750000</td>\n      <td>79.000000</td>\n      <td>79.250000</td>\n      <td>...</td>\n      <td>108.919197</td>\n      <td>23.0</td>\n      <td>0.000000</td>\n      <td>5dc8cea7659e181adb076a3f</td>\n      <td>5dd7c119c5b77e0006b16b99</td>\n      <td>B1</td>\n      <td>205.131555</td>\n      <td>106.379872</td>\n      <td>201.595911</td>\n      <td>106.438348</td>\n    </tr>\n    <tr>\n      <th>69940</th>\n      <td>5dc8cea7659e181adb076a3f_5dd7c119c5b77e0006b16...</td>\n      <td>62.400000</td>\n      <td>65.000000</td>\n      <td>67.000000</td>\n      <td>71.000000</td>\n      <td>72.000000</td>\n      <td>72.400000</td>\n      <td>74.600000</td>\n      <td>76.000000</td>\n      <td>76.800000</td>\n      <td>...</td>\n      <td>108.179710</td>\n      <td>23.0</td>\n      <td>0.000000</td>\n      <td>5dc8cea7659e181adb076a3f</td>\n      <td>5dd7c119c5b77e0006b16b99</td>\n      <td>B1</td>\n      <td>204.177504</td>\n      <td>102.442687</td>\n      <td>201.058328</td>\n      <td>104.004633</td>\n    </tr>\n    <tr>\n      <th>69941</th>\n      <td>5dc8cea7659e181adb076a3f_5dd7c119c5b77e0006b16...</td>\n      <td>64.000000</td>\n      <td>66.666667</td>\n      <td>68.333333</td>\n      <td>76.000000</td>\n      <td>78.333333</td>\n      <td>80.000000</td>\n      <td>80.333333</td>\n      <td>80.666667</td>\n      <td>82.666667</td>\n      <td>...</td>\n      <td>107.874741</td>\n      <td>23.0</td>\n      <td>0.000000</td>\n      <td>5dc8cea7659e181adb076a3f</td>\n      <td>5dd7c119c5b77e0006b16b99</td>\n      <td>B1</td>\n      <td>207.953402</td>\n      <td>105.838848</td>\n      <td>210.133712</td>\n      <td>106.264936</td>\n    </tr>\n  </tbody>\n</table>\n<p>69942 rows × 177 columns</p>\n</div>"
     },
     "metadata": {},
     "execution_count": 50
    }
   ],
   "source": [
    "%%time\n",
    "\n",
    "oofs_df = oofs_df.rename(columns={'x':'target_x', 'y':'target_y', 'oof_x':'x', 'oof_y':'y'})\n",
    "processes = multiprocessing.cpu_count()\n",
    "with multiprocessing.Pool(processes=processes) as pool:\n",
    "    dfs = pool.imap_unordered(correct_path_train, oofs_df.groupby(['site_id_str', 'path', 'floor_str']))\n",
    "    dfs = tqdm(dfs)\n",
    "    dfs = list(dfs)\n",
    "\n",
    "oof_post_process = pd.concat(dfs).sort_index()\n",
    "oofs_df['oof_min_x'] = oof_post_process['x']\n",
    "oofs_df['oof_min_y'] = oof_post_process['y']\n",
    "\n",
    "# 元に戻す\n",
    "oofs_df = oofs_df.rename(columns={'x':'oof_x', 'y':'oof_y'})\n",
    "oofs_df"
   ]
  },
  {
   "cell_type": "code",
   "execution_count": 51,
   "metadata": {},
   "outputs": [
    {
     "output_type": "stream",
     "name": "stdout",
     "text": [
      "(after cost-min) CV:4.915867052378426\n"
     ]
    }
   ],
   "source": [
    "# waypoint補正前のx,yでの評価\n",
    "oof_score_post_process = mean_position_error(\n",
    "    oofs_df['oof_min_x'], oofs_df['oof_min_y'], 0, \n",
    "    oofs_df['target_x'], oofs_df['target_y'], 0\n",
    "    )\n",
    "wandb_config['CV_cost'] = oof_score_post_process\n",
    "print(f\"(after cost-min) CV:{oof_score_post_process}\")"
   ]
  },
  {
   "cell_type": "code",
   "execution_count": 52,
   "metadata": {},
   "outputs": [
    {
     "output_type": "stream",
     "name": "stdout",
     "text": [
      "(after cost-min) CV:5.1573748988921695\n"
     ]
    }
   ],
   "source": [
    "# waypoint補正後のx,yでの評価\n",
    "oof_score_post_process = mean_position_error(\n",
    "    oofs_df['oof_min_x'], oofs_df['oof_min_y'], 0, \n",
    "    oofs_df['ix'], oofs_df['iy'], 0\n",
    "    )\n",
    "wandb_config['iCV_cost'] = oof_score_post_process\n",
    "print(f\"(after cost-min) CV:{oof_score_post_process}\")"
   ]
  },
  {
   "cell_type": "code",
   "execution_count": 53,
   "metadata": {},
   "outputs": [
    {
     "output_type": "execute_result",
     "data": {
      "text/plain": [
       "                                     site_path_timestamp  floor           x  \\\n",
       "0      5a0546857ecc773753327266_046cfa46be49fc1083481...      0   85.291725   \n",
       "1      5a0546857ecc773753327266_046cfa46be49fc1083481...      0   84.079224   \n",
       "2      5a0546857ecc773753327266_046cfa46be49fc1083481...      0   86.190925   \n",
       "3      5a0546857ecc773753327266_046cfa46be49fc1083481...      0   87.178930   \n",
       "4      5a0546857ecc773753327266_046cfa46be49fc1083481...      0   86.282648   \n",
       "...                                                  ...    ...         ...   \n",
       "10128  5dc8cea7659e181adb076a3f_fd64de8c4a2fc5ebb0e9f...      5  210.909592   \n",
       "10129  5dc8cea7659e181adb076a3f_fd64de8c4a2fc5ebb0e9f...      5  209.680458   \n",
       "10130  5dc8cea7659e181adb076a3f_fd64de8c4a2fc5ebb0e9f...      5  205.240075   \n",
       "10131  5dc8cea7659e181adb076a3f_fd64de8c4a2fc5ebb0e9f...      5  201.153869   \n",
       "10132  5dc8cea7659e181adb076a3f_fd64de8c4a2fc5ebb0e9f...      5  196.661209   \n",
       "\n",
       "                y                      site                      path  \\\n",
       "0      104.041054  5a0546857ecc773753327266  046cfa46be49fc10834815c6   \n",
       "1      104.274928  5a0546857ecc773753327266  046cfa46be49fc10834815c6   \n",
       "2      104.955261  5a0546857ecc773753327266  046cfa46be49fc10834815c6   \n",
       "3      106.438983  5a0546857ecc773753327266  046cfa46be49fc10834815c6   \n",
       "4      107.660038  5a0546857ecc773753327266  046cfa46be49fc10834815c6   \n",
       "...           ...                       ...                       ...   \n",
       "10128   98.799659  5dc8cea7659e181adb076a3f  fd64de8c4a2fc5ebb0e9f412   \n",
       "10129  101.898393  5dc8cea7659e181adb076a3f  fd64de8c4a2fc5ebb0e9f412   \n",
       "10130  105.122099  5dc8cea7659e181adb076a3f  fd64de8c4a2fc5ebb0e9f412   \n",
       "10131  112.012007  5dc8cea7659e181adb076a3f  fd64de8c4a2fc5ebb0e9f412   \n",
       "10132  115.627998  5dc8cea7659e181adb076a3f  fd64de8c4a2fc5ebb0e9f412   \n",
       "\n",
       "       timestamp  \n",
       "0            9.0  \n",
       "1         9017.0  \n",
       "2        15326.0  \n",
       "3        18763.0  \n",
       "4        22328.0  \n",
       "...          ...  \n",
       "10128    82589.0  \n",
       "10129    85758.0  \n",
       "10130    90895.0  \n",
       "10131    96899.0  \n",
       "10132   100447.0  \n",
       "\n",
       "[10133 rows x 7 columns]"
      ],
      "text/html": "<div>\n<style scoped>\n    .dataframe tbody tr th:only-of-type {\n        vertical-align: middle;\n    }\n\n    .dataframe tbody tr th {\n        vertical-align: top;\n    }\n\n    .dataframe thead th {\n        text-align: right;\n    }\n</style>\n<table border=\"1\" class=\"dataframe\">\n  <thead>\n    <tr style=\"text-align: right;\">\n      <th></th>\n      <th>site_path_timestamp</th>\n      <th>floor</th>\n      <th>x</th>\n      <th>y</th>\n      <th>site</th>\n      <th>path</th>\n      <th>timestamp</th>\n    </tr>\n  </thead>\n  <tbody>\n    <tr>\n      <th>0</th>\n      <td>5a0546857ecc773753327266_046cfa46be49fc1083481...</td>\n      <td>0</td>\n      <td>85.291725</td>\n      <td>104.041054</td>\n      <td>5a0546857ecc773753327266</td>\n      <td>046cfa46be49fc10834815c6</td>\n      <td>9.0</td>\n    </tr>\n    <tr>\n      <th>1</th>\n      <td>5a0546857ecc773753327266_046cfa46be49fc1083481...</td>\n      <td>0</td>\n      <td>84.079224</td>\n      <td>104.274928</td>\n      <td>5a0546857ecc773753327266</td>\n      <td>046cfa46be49fc10834815c6</td>\n      <td>9017.0</td>\n    </tr>\n    <tr>\n      <th>2</th>\n      <td>5a0546857ecc773753327266_046cfa46be49fc1083481...</td>\n      <td>0</td>\n      <td>86.190925</td>\n      <td>104.955261</td>\n      <td>5a0546857ecc773753327266</td>\n      <td>046cfa46be49fc10834815c6</td>\n      <td>15326.0</td>\n    </tr>\n    <tr>\n      <th>3</th>\n      <td>5a0546857ecc773753327266_046cfa46be49fc1083481...</td>\n      <td>0</td>\n      <td>87.178930</td>\n      <td>106.438983</td>\n      <td>5a0546857ecc773753327266</td>\n      <td>046cfa46be49fc10834815c6</td>\n      <td>18763.0</td>\n    </tr>\n    <tr>\n      <th>4</th>\n      <td>5a0546857ecc773753327266_046cfa46be49fc1083481...</td>\n      <td>0</td>\n      <td>86.282648</td>\n      <td>107.660038</td>\n      <td>5a0546857ecc773753327266</td>\n      <td>046cfa46be49fc10834815c6</td>\n      <td>22328.0</td>\n    </tr>\n    <tr>\n      <th>...</th>\n      <td>...</td>\n      <td>...</td>\n      <td>...</td>\n      <td>...</td>\n      <td>...</td>\n      <td>...</td>\n      <td>...</td>\n    </tr>\n    <tr>\n      <th>10128</th>\n      <td>5dc8cea7659e181adb076a3f_fd64de8c4a2fc5ebb0e9f...</td>\n      <td>5</td>\n      <td>210.909592</td>\n      <td>98.799659</td>\n      <td>5dc8cea7659e181adb076a3f</td>\n      <td>fd64de8c4a2fc5ebb0e9f412</td>\n      <td>82589.0</td>\n    </tr>\n    <tr>\n      <th>10129</th>\n      <td>5dc8cea7659e181adb076a3f_fd64de8c4a2fc5ebb0e9f...</td>\n      <td>5</td>\n      <td>209.680458</td>\n      <td>101.898393</td>\n      <td>5dc8cea7659e181adb076a3f</td>\n      <td>fd64de8c4a2fc5ebb0e9f412</td>\n      <td>85758.0</td>\n    </tr>\n    <tr>\n      <th>10130</th>\n      <td>5dc8cea7659e181adb076a3f_fd64de8c4a2fc5ebb0e9f...</td>\n      <td>5</td>\n      <td>205.240075</td>\n      <td>105.122099</td>\n      <td>5dc8cea7659e181adb076a3f</td>\n      <td>fd64de8c4a2fc5ebb0e9f412</td>\n      <td>90895.0</td>\n    </tr>\n    <tr>\n      <th>10131</th>\n      <td>5dc8cea7659e181adb076a3f_fd64de8c4a2fc5ebb0e9f...</td>\n      <td>5</td>\n      <td>201.153869</td>\n      <td>112.012007</td>\n      <td>5dc8cea7659e181adb076a3f</td>\n      <td>fd64de8c4a2fc5ebb0e9f412</td>\n      <td>96899.0</td>\n    </tr>\n    <tr>\n      <th>10132</th>\n      <td>5dc8cea7659e181adb076a3f_fd64de8c4a2fc5ebb0e9f...</td>\n      <td>5</td>\n      <td>196.661209</td>\n      <td>115.627998</td>\n      <td>5dc8cea7659e181adb076a3f</td>\n      <td>fd64de8c4a2fc5ebb0e9f412</td>\n      <td>100447.0</td>\n    </tr>\n  </tbody>\n</table>\n<p>10133 rows × 7 columns</p>\n</div>"
     },
     "metadata": {},
     "execution_count": 53
    }
   ],
   "source": [
    "sub = sub.reset_index()\n",
    "sub_org = sub.copy()\n",
    "tmp = sub['site_path_timestamp'].apply(lambda s : pd.Series(s.split('_')))\n",
    "sub['site'] = tmp[0]\n",
    "sub['path'] = tmp[1]\n",
    "sub['timestamp'] = tmp[2].astype(float)\n",
    "sub"
   ]
  },
  {
   "cell_type": "code",
   "execution_count": 54,
   "metadata": {},
   "outputs": [
    {
     "output_type": "stream",
     "name": "stderr",
     "text": [
      "626it [00:49, 12.76it/s]\n"
     ]
    },
    {
     "output_type": "execute_result",
     "data": {
      "text/plain": [
       "                                     site_path_timestamp  floor           x  \\\n",
       "0      5a0546857ecc773753327266_046cfa46be49fc1083481...      0   90.834102   \n",
       "1      5a0546857ecc773753327266_046cfa46be49fc1083481...      0   81.834771   \n",
       "2      5a0546857ecc773753327266_046cfa46be49fc1083481...      0   83.751119   \n",
       "3      5a0546857ecc773753327266_046cfa46be49fc1083481...      0   84.608008   \n",
       "4      5a0546857ecc773753327266_046cfa46be49fc1083481...      0   85.124052   \n",
       "...                                                  ...    ...         ...   \n",
       "10128  5dc8cea7659e181adb076a3f_fd64de8c4a2fc5ebb0e9f...      5  209.296466   \n",
       "10129  5dc8cea7659e181adb076a3f_fd64de8c4a2fc5ebb0e9f...      5  207.456103   \n",
       "10130  5dc8cea7659e181adb076a3f_fd64de8c4a2fc5ebb0e9f...      5  203.612249   \n",
       "10131  5dc8cea7659e181adb076a3f_fd64de8c4a2fc5ebb0e9f...      5  196.399480   \n",
       "10132  5dc8cea7659e181adb076a3f_fd64de8c4a2fc5ebb0e9f...      5  192.958671   \n",
       "\n",
       "                y  \n",
       "0       97.420995  \n",
       "1       99.857171  \n",
       "2      104.798991  \n",
       "3      108.524339  \n",
       "4      112.220742  \n",
       "...           ...  \n",
       "10128   99.008781  \n",
       "10129  102.559437  \n",
       "10130  108.491599  \n",
       "10131  113.248025  \n",
       "10132  116.691796  \n",
       "\n",
       "[10133 rows x 4 columns]"
      ],
      "text/html": "<div>\n<style scoped>\n    .dataframe tbody tr th:only-of-type {\n        vertical-align: middle;\n    }\n\n    .dataframe tbody tr th {\n        vertical-align: top;\n    }\n\n    .dataframe thead th {\n        text-align: right;\n    }\n</style>\n<table border=\"1\" class=\"dataframe\">\n  <thead>\n    <tr style=\"text-align: right;\">\n      <th></th>\n      <th>site_path_timestamp</th>\n      <th>floor</th>\n      <th>x</th>\n      <th>y</th>\n    </tr>\n  </thead>\n  <tbody>\n    <tr>\n      <th>0</th>\n      <td>5a0546857ecc773753327266_046cfa46be49fc1083481...</td>\n      <td>0</td>\n      <td>90.834102</td>\n      <td>97.420995</td>\n    </tr>\n    <tr>\n      <th>1</th>\n      <td>5a0546857ecc773753327266_046cfa46be49fc1083481...</td>\n      <td>0</td>\n      <td>81.834771</td>\n      <td>99.857171</td>\n    </tr>\n    <tr>\n      <th>2</th>\n      <td>5a0546857ecc773753327266_046cfa46be49fc1083481...</td>\n      <td>0</td>\n      <td>83.751119</td>\n      <td>104.798991</td>\n    </tr>\n    <tr>\n      <th>3</th>\n      <td>5a0546857ecc773753327266_046cfa46be49fc1083481...</td>\n      <td>0</td>\n      <td>84.608008</td>\n      <td>108.524339</td>\n    </tr>\n    <tr>\n      <th>4</th>\n      <td>5a0546857ecc773753327266_046cfa46be49fc1083481...</td>\n      <td>0</td>\n      <td>85.124052</td>\n      <td>112.220742</td>\n    </tr>\n    <tr>\n      <th>...</th>\n      <td>...</td>\n      <td>...</td>\n      <td>...</td>\n      <td>...</td>\n    </tr>\n    <tr>\n      <th>10128</th>\n      <td>5dc8cea7659e181adb076a3f_fd64de8c4a2fc5ebb0e9f...</td>\n      <td>5</td>\n      <td>209.296466</td>\n      <td>99.008781</td>\n    </tr>\n    <tr>\n      <th>10129</th>\n      <td>5dc8cea7659e181adb076a3f_fd64de8c4a2fc5ebb0e9f...</td>\n      <td>5</td>\n      <td>207.456103</td>\n      <td>102.559437</td>\n    </tr>\n    <tr>\n      <th>10130</th>\n      <td>5dc8cea7659e181adb076a3f_fd64de8c4a2fc5ebb0e9f...</td>\n      <td>5</td>\n      <td>203.612249</td>\n      <td>108.491599</td>\n    </tr>\n    <tr>\n      <th>10131</th>\n      <td>5dc8cea7659e181adb076a3f_fd64de8c4a2fc5ebb0e9f...</td>\n      <td>5</td>\n      <td>196.399480</td>\n      <td>113.248025</td>\n    </tr>\n    <tr>\n      <th>10132</th>\n      <td>5dc8cea7659e181adb076a3f_fd64de8c4a2fc5ebb0e9f...</td>\n      <td>5</td>\n      <td>192.958671</td>\n      <td>116.691796</td>\n    </tr>\n  </tbody>\n</table>\n<p>10133 rows × 4 columns</p>\n</div>"
     },
     "metadata": {},
     "execution_count": 54
    }
   ],
   "source": [
    "processes = multiprocessing.cpu_count()\n",
    "with multiprocessing.Pool(processes=processes) as pool:\n",
    "    dfs = pool.imap_unordered(correct_path, sub.groupby(['path']))\n",
    "    dfs = tqdm(dfs)\n",
    "    dfs = list(dfs)\n",
    "new_sub = pd.concat(dfs).sort_values('site_path_timestamp')\n",
    "new_sub"
   ]
  },
  {
   "cell_type": "code",
   "execution_count": 55,
   "metadata": {},
   "outputs": [],
   "source": [
    "new_sub.to_csv(RUN_NAME + '_cost_sub.csv', index=False)"
   ]
  },
  {
   "cell_type": "markdown",
   "metadata": {},
   "source": [
    "## snap to grid"
   ]
  },
  {
   "cell_type": "code",
   "execution_count": 56,
   "metadata": {},
   "outputs": [],
   "source": [
    "from scipy.spatial.distance import cdist\n",
    "def sub_process(sub, train_waypoints):\n",
    "    train_waypoints['isTrainWaypoint'] = True\n",
    "    sub = split_col(sub[['site_path_timestamp','floor','x','y']]).copy()\n",
    "    sub = sub.merge(train_waypoints[['site','floorNo','floor']].drop_duplicates(), how='left')\n",
    "    sub = sub.merge(\n",
    "        train_waypoints[['x','y','site','floor','isTrainWaypoint']].drop_duplicates(),\n",
    "        how='left',\n",
    "        on=['site','x','y','floor']\n",
    "             )\n",
    "    sub['isTrainWaypoint'] = sub['isTrainWaypoint'].fillna(False)\n",
    "    return sub.copy()\n",
    "\n",
    "def split_col(df):\n",
    "    df = pd.concat([\n",
    "        df['site_path_timestamp'].str.split('_', expand=True) \\\n",
    "        .rename(columns={0:'site',\n",
    "                         1:'path',\n",
    "                         2:'timestamp'}),\n",
    "        df\n",
    "    ], axis=1).copy()\n",
    "    return df\n",
    "\n",
    "floor_map = {\"B2\":-2, \"B1\":-1, \"F1\":0, \"F2\": 1, \"F3\":2,\n",
    "             \"F4\":3, \"F5\":4, \"F6\":5, \"F7\":6,\"F8\":7,\"F9\":8,\n",
    "             \"1F\":0, \"2F\":1, \"3F\":2, \"4F\":3, \"5F\":4, \"6F\":5,\n",
    "             \"7F\":6, \"8F\": 7, \"9F\":8}\n",
    "\n",
    "def add_xy(df):\n",
    "    df['xy'] = [(x, y) for x,y in zip(df['x'], df['y'])]\n",
    "    return df\n",
    "\n",
    "def closest_point(point, points):\n",
    "    \"\"\" Find closest point from a list of points. \"\"\"\n",
    "    return points[cdist([point], points).argmin()]\n",
    "\n",
    "def snap_to_grid(sub, threshold):\n",
    "    \"\"\"\n",
    "    Snap to grid if within a threshold.\n",
    "    \n",
    "    x, y are the predicted points.\n",
    "    x_, y_ are the closest grid points.\n",
    "    _x_, _y_ are the new predictions after post processing.\n",
    "    \"\"\"\n",
    "    sub['_x_'] = sub['x']\n",
    "    sub['_y_'] = sub['y']\n",
    "    sub.loc[sub['dist'] < threshold, '_x_'] = sub.loc[sub['dist'] < threshold]['x_']\n",
    "    sub.loc[sub['dist'] < threshold, '_y_'] = sub.loc[sub['dist'] < threshold]['y_']\n",
    "    return sub.copy()\n"
   ]
  },
  {
   "cell_type": "code",
   "execution_count": 57,
   "metadata": {},
   "outputs": [
    {
     "output_type": "execute_result",
     "data": {
      "text/plain": [
       "                                     site_path_timestamp     rssi_0  \\\n",
       "0      5a0546857ecc773753327266_5d10a1669c50c70008fe8...  40.500000   \n",
       "1      5a0546857ecc773753327266_5d10a1669c50c70008fe8...  42.333333   \n",
       "2      5a0546857ecc773753327266_5d10a1669c50c70008fe8...  41.000000   \n",
       "3      5a0546857ecc773753327266_5d10a1669c50c70008fe8...  35.800000   \n",
       "4      5a0546857ecc773753327266_5d10a1669c50c70008fe8...  46.600000   \n",
       "...                                                  ...        ...   \n",
       "69937  5dc8cea7659e181adb076a3f_5dd7c1189191710006b56...  66.000000   \n",
       "69938  5dc8cea7659e181adb076a3f_5dd7c119c5b77e0006b16...  64.000000   \n",
       "69939  5dc8cea7659e181adb076a3f_5dd7c119c5b77e0006b16...  62.750000   \n",
       "69940  5dc8cea7659e181adb076a3f_5dd7c119c5b77e0006b16...  62.400000   \n",
       "69941  5dc8cea7659e181adb076a3f_5dd7c119c5b77e0006b16...  64.000000   \n",
       "\n",
       "          rssi_1     rssi_2     rssi_3     rssi_4     rssi_5     rssi_6  \\\n",
       "0      47.500000  48.000000  48.500000  49.500000  50.000000  50.000000   \n",
       "1      45.500000  46.000000  46.833333  47.000000  47.833333  48.333333   \n",
       "2      43.200000  43.200000  44.000000  44.200000  44.400000  44.800000   \n",
       "3      37.400000  37.800000  38.600000  39.400000  40.000000  40.400000   \n",
       "4      48.200000  49.000000  50.600000  50.800000  51.600000  52.400000   \n",
       "...          ...        ...        ...        ...        ...        ...   \n",
       "69937  73.000000  75.000000  76.500000  80.000000  80.500000  81.500000   \n",
       "69938  66.500000  68.500000  71.500000  76.500000  79.500000  80.000000   \n",
       "69939  64.250000  65.750000  71.000000  76.000000  76.250000  77.750000   \n",
       "69940  65.000000  67.000000  71.000000  72.000000  72.400000  74.600000   \n",
       "69941  66.666667  68.333333  76.000000  78.333333  80.000000  80.333333   \n",
       "\n",
       "          rssi_7     rssi_8  ...          iy  site_id  oof_floor  \\\n",
       "0      51.000000  51.500000  ...   36.776455      0.0   2.020263   \n",
       "1      49.000000  49.000000  ...   27.134466      0.0   2.337152   \n",
       "2      45.200000  46.400000  ...   13.800187      0.0   1.953328   \n",
       "3      40.800000  40.800000  ...    8.869275      0.0   1.789859   \n",
       "4      53.000000  53.600000  ...   12.723122      0.0   1.972952   \n",
       "...          ...        ...  ...         ...      ...        ...   \n",
       "69937  82.500000  83.000000  ...  106.415894     23.0   0.000000   \n",
       "69938  81.500000  82.000000  ...  107.215134     23.0   0.000000   \n",
       "69939  79.000000  79.250000  ...  108.919197     23.0   0.000000   \n",
       "69940  76.000000  76.800000  ...  108.179710     23.0   0.000000   \n",
       "69941  80.666667  82.666667  ...  107.874741     23.0   0.000000   \n",
       "\n",
       "                    site_id_str                      path  floor_str  \\\n",
       "0      5a0546857ecc773753327266  5d10a1669c50c70008fe8977         F3   \n",
       "1      5a0546857ecc773753327266  5d10a1669c50c70008fe8977         F3   \n",
       "2      5a0546857ecc773753327266  5d10a1669c50c70008fe8977         F3   \n",
       "3      5a0546857ecc773753327266  5d10a1669c50c70008fe8977         F3   \n",
       "4      5a0546857ecc773753327266  5d10a1669c50c70008fe8977         F3   \n",
       "...                         ...                       ...        ...   \n",
       "69937  5dc8cea7659e181adb076a3f  5dd7c1189191710006b568d0         B1   \n",
       "69938  5dc8cea7659e181adb076a3f  5dd7c119c5b77e0006b16b99         B1   \n",
       "69939  5dc8cea7659e181adb076a3f  5dd7c119c5b77e0006b16b99         B1   \n",
       "69940  5dc8cea7659e181adb076a3f  5dd7c119c5b77e0006b16b99         B1   \n",
       "69941  5dc8cea7659e181adb076a3f  5dd7c119c5b77e0006b16b99         B1   \n",
       "\n",
       "            oof_x       oof_y   oof_min_x   oof_min_y  \n",
       "0       79.711162   35.530280   84.176931   38.445385  \n",
       "1      102.009525   25.542056   85.624178   29.059366  \n",
       "2       85.087132   17.841110   82.966574   13.811194  \n",
       "3       82.951010   15.998105   84.061425   11.035576  \n",
       "4       85.685172   19.938514   91.551105   16.400272  \n",
       "...           ...         ...         ...         ...  \n",
       "69937  210.031392  101.888346  207.125727  104.918147  \n",
       "69938  206.298772  106.020892  210.773282  103.974381  \n",
       "69939  205.131555  106.379872  201.595911  106.438348  \n",
       "69940  204.177504  102.442687  201.058328  104.004633  \n",
       "69941  207.953402  105.838848  210.133712  106.264936  \n",
       "\n",
       "[69942 rows x 177 columns]"
      ],
      "text/html": "<div>\n<style scoped>\n    .dataframe tbody tr th:only-of-type {\n        vertical-align: middle;\n    }\n\n    .dataframe tbody tr th {\n        vertical-align: top;\n    }\n\n    .dataframe thead th {\n        text-align: right;\n    }\n</style>\n<table border=\"1\" class=\"dataframe\">\n  <thead>\n    <tr style=\"text-align: right;\">\n      <th></th>\n      <th>site_path_timestamp</th>\n      <th>rssi_0</th>\n      <th>rssi_1</th>\n      <th>rssi_2</th>\n      <th>rssi_3</th>\n      <th>rssi_4</th>\n      <th>rssi_5</th>\n      <th>rssi_6</th>\n      <th>rssi_7</th>\n      <th>rssi_8</th>\n      <th>...</th>\n      <th>iy</th>\n      <th>site_id</th>\n      <th>oof_floor</th>\n      <th>site_id_str</th>\n      <th>path</th>\n      <th>floor_str</th>\n      <th>oof_x</th>\n      <th>oof_y</th>\n      <th>oof_min_x</th>\n      <th>oof_min_y</th>\n    </tr>\n  </thead>\n  <tbody>\n    <tr>\n      <th>0</th>\n      <td>5a0546857ecc773753327266_5d10a1669c50c70008fe8...</td>\n      <td>40.500000</td>\n      <td>47.500000</td>\n      <td>48.000000</td>\n      <td>48.500000</td>\n      <td>49.500000</td>\n      <td>50.000000</td>\n      <td>50.000000</td>\n      <td>51.000000</td>\n      <td>51.500000</td>\n      <td>...</td>\n      <td>36.776455</td>\n      <td>0.0</td>\n      <td>2.020263</td>\n      <td>5a0546857ecc773753327266</td>\n      <td>5d10a1669c50c70008fe8977</td>\n      <td>F3</td>\n      <td>79.711162</td>\n      <td>35.530280</td>\n      <td>84.176931</td>\n      <td>38.445385</td>\n    </tr>\n    <tr>\n      <th>1</th>\n      <td>5a0546857ecc773753327266_5d10a1669c50c70008fe8...</td>\n      <td>42.333333</td>\n      <td>45.500000</td>\n      <td>46.000000</td>\n      <td>46.833333</td>\n      <td>47.000000</td>\n      <td>47.833333</td>\n      <td>48.333333</td>\n      <td>49.000000</td>\n      <td>49.000000</td>\n      <td>...</td>\n      <td>27.134466</td>\n      <td>0.0</td>\n      <td>2.337152</td>\n      <td>5a0546857ecc773753327266</td>\n      <td>5d10a1669c50c70008fe8977</td>\n      <td>F3</td>\n      <td>102.009525</td>\n      <td>25.542056</td>\n      <td>85.624178</td>\n      <td>29.059366</td>\n    </tr>\n    <tr>\n      <th>2</th>\n      <td>5a0546857ecc773753327266_5d10a1669c50c70008fe8...</td>\n      <td>41.000000</td>\n      <td>43.200000</td>\n      <td>43.200000</td>\n      <td>44.000000</td>\n      <td>44.200000</td>\n      <td>44.400000</td>\n      <td>44.800000</td>\n      <td>45.200000</td>\n      <td>46.400000</td>\n      <td>...</td>\n      <td>13.800187</td>\n      <td>0.0</td>\n      <td>1.953328</td>\n      <td>5a0546857ecc773753327266</td>\n      <td>5d10a1669c50c70008fe8977</td>\n      <td>F3</td>\n      <td>85.087132</td>\n      <td>17.841110</td>\n      <td>82.966574</td>\n      <td>13.811194</td>\n    </tr>\n    <tr>\n      <th>3</th>\n      <td>5a0546857ecc773753327266_5d10a1669c50c70008fe8...</td>\n      <td>35.800000</td>\n      <td>37.400000</td>\n      <td>37.800000</td>\n      <td>38.600000</td>\n      <td>39.400000</td>\n      <td>40.000000</td>\n      <td>40.400000</td>\n      <td>40.800000</td>\n      <td>40.800000</td>\n      <td>...</td>\n      <td>8.869275</td>\n      <td>0.0</td>\n      <td>1.789859</td>\n      <td>5a0546857ecc773753327266</td>\n      <td>5d10a1669c50c70008fe8977</td>\n      <td>F3</td>\n      <td>82.951010</td>\n      <td>15.998105</td>\n      <td>84.061425</td>\n      <td>11.035576</td>\n    </tr>\n    <tr>\n      <th>4</th>\n      <td>5a0546857ecc773753327266_5d10a1669c50c70008fe8...</td>\n      <td>46.600000</td>\n      <td>48.200000</td>\n      <td>49.000000</td>\n      <td>50.600000</td>\n      <td>50.800000</td>\n      <td>51.600000</td>\n      <td>52.400000</td>\n      <td>53.000000</td>\n      <td>53.600000</td>\n      <td>...</td>\n      <td>12.723122</td>\n      <td>0.0</td>\n      <td>1.972952</td>\n      <td>5a0546857ecc773753327266</td>\n      <td>5d10a1669c50c70008fe8977</td>\n      <td>F3</td>\n      <td>85.685172</td>\n      <td>19.938514</td>\n      <td>91.551105</td>\n      <td>16.400272</td>\n    </tr>\n    <tr>\n      <th>...</th>\n      <td>...</td>\n      <td>...</td>\n      <td>...</td>\n      <td>...</td>\n      <td>...</td>\n      <td>...</td>\n      <td>...</td>\n      <td>...</td>\n      <td>...</td>\n      <td>...</td>\n      <td>...</td>\n      <td>...</td>\n      <td>...</td>\n      <td>...</td>\n      <td>...</td>\n      <td>...</td>\n      <td>...</td>\n      <td>...</td>\n      <td>...</td>\n      <td>...</td>\n      <td>...</td>\n    </tr>\n    <tr>\n      <th>69937</th>\n      <td>5dc8cea7659e181adb076a3f_5dd7c1189191710006b56...</td>\n      <td>66.000000</td>\n      <td>73.000000</td>\n      <td>75.000000</td>\n      <td>76.500000</td>\n      <td>80.000000</td>\n      <td>80.500000</td>\n      <td>81.500000</td>\n      <td>82.500000</td>\n      <td>83.000000</td>\n      <td>...</td>\n      <td>106.415894</td>\n      <td>23.0</td>\n      <td>0.000000</td>\n      <td>5dc8cea7659e181adb076a3f</td>\n      <td>5dd7c1189191710006b568d0</td>\n      <td>B1</td>\n      <td>210.031392</td>\n      <td>101.888346</td>\n      <td>207.125727</td>\n      <td>104.918147</td>\n    </tr>\n    <tr>\n      <th>69938</th>\n      <td>5dc8cea7659e181adb076a3f_5dd7c119c5b77e0006b16...</td>\n      <td>64.000000</td>\n      <td>66.500000</td>\n      <td>68.500000</td>\n      <td>71.500000</td>\n      <td>76.500000</td>\n      <td>79.500000</td>\n      <td>80.000000</td>\n      <td>81.500000</td>\n      <td>82.000000</td>\n      <td>...</td>\n      <td>107.215134</td>\n      <td>23.0</td>\n      <td>0.000000</td>\n      <td>5dc8cea7659e181adb076a3f</td>\n      <td>5dd7c119c5b77e0006b16b99</td>\n      <td>B1</td>\n      <td>206.298772</td>\n      <td>106.020892</td>\n      <td>210.773282</td>\n      <td>103.974381</td>\n    </tr>\n    <tr>\n      <th>69939</th>\n      <td>5dc8cea7659e181adb076a3f_5dd7c119c5b77e0006b16...</td>\n      <td>62.750000</td>\n      <td>64.250000</td>\n      <td>65.750000</td>\n      <td>71.000000</td>\n      <td>76.000000</td>\n      <td>76.250000</td>\n      <td>77.750000</td>\n      <td>79.000000</td>\n      <td>79.250000</td>\n      <td>...</td>\n      <td>108.919197</td>\n      <td>23.0</td>\n      <td>0.000000</td>\n      <td>5dc8cea7659e181adb076a3f</td>\n      <td>5dd7c119c5b77e0006b16b99</td>\n      <td>B1</td>\n      <td>205.131555</td>\n      <td>106.379872</td>\n      <td>201.595911</td>\n      <td>106.438348</td>\n    </tr>\n    <tr>\n      <th>69940</th>\n      <td>5dc8cea7659e181adb076a3f_5dd7c119c5b77e0006b16...</td>\n      <td>62.400000</td>\n      <td>65.000000</td>\n      <td>67.000000</td>\n      <td>71.000000</td>\n      <td>72.000000</td>\n      <td>72.400000</td>\n      <td>74.600000</td>\n      <td>76.000000</td>\n      <td>76.800000</td>\n      <td>...</td>\n      <td>108.179710</td>\n      <td>23.0</td>\n      <td>0.000000</td>\n      <td>5dc8cea7659e181adb076a3f</td>\n      <td>5dd7c119c5b77e0006b16b99</td>\n      <td>B1</td>\n      <td>204.177504</td>\n      <td>102.442687</td>\n      <td>201.058328</td>\n      <td>104.004633</td>\n    </tr>\n    <tr>\n      <th>69941</th>\n      <td>5dc8cea7659e181adb076a3f_5dd7c119c5b77e0006b16...</td>\n      <td>64.000000</td>\n      <td>66.666667</td>\n      <td>68.333333</td>\n      <td>76.000000</td>\n      <td>78.333333</td>\n      <td>80.000000</td>\n      <td>80.333333</td>\n      <td>80.666667</td>\n      <td>82.666667</td>\n      <td>...</td>\n      <td>107.874741</td>\n      <td>23.0</td>\n      <td>0.000000</td>\n      <td>5dc8cea7659e181adb076a3f</td>\n      <td>5dd7c119c5b77e0006b16b99</td>\n      <td>B1</td>\n      <td>207.953402</td>\n      <td>105.838848</td>\n      <td>210.133712</td>\n      <td>106.264936</td>\n    </tr>\n  </tbody>\n</table>\n<p>69942 rows × 177 columns</p>\n</div>"
     },
     "metadata": {},
     "execution_count": 57
    }
   ],
   "source": [
    "\n",
    "oofs_df"
   ]
  },
  {
   "cell_type": "code",
   "execution_count": 58,
   "metadata": {},
   "outputs": [
    {
     "output_type": "stream",
     "name": "stderr",
     "text": [
      "100%|██████████| 139/139 [00:28<00:00,  4.87it/s]\n"
     ]
    },
    {
     "output_type": "execute_result",
     "data": {
      "text/plain": [
       "                           site                      path      timestamp  \\\n",
       "0      5a0546857ecc773753327266  5d10a1669c50c70008fe8977  1561368762838   \n",
       "1      5a0546857ecc773753327266  5d10a1669c50c70008fe8977  1561368774057   \n",
       "2      5a0546857ecc773753327266  5d10a1669c50c70008fe8977  1561368793535   \n",
       "3      5a0546857ecc773753327266  5d10a1669c50c70008fe8977  1561368798851   \n",
       "4      5a0546857ecc773753327266  5d10a1669c50c70008fe8977  1561368814782   \n",
       "...                         ...                       ...            ...   \n",
       "69937  5dc8cea7659e181adb076a3f  5dd7c1189191710006b568d0  1574420722415   \n",
       "69938  5dc8cea7659e181adb076a3f  5dd7c119c5b77e0006b16b99  1574420726383   \n",
       "69939  5dc8cea7659e181adb076a3f  5dd7c119c5b77e0006b16b99  1574420736142   \n",
       "69940  5dc8cea7659e181adb076a3f  5dd7c119c5b77e0006b16b99  1574420742502   \n",
       "69941  5dc8cea7659e181adb076a3f  5dd7c119c5b77e0006b16b99  1574420753754   \n",
       "\n",
       "                                     site_path_timestamp  floor           x  \\\n",
       "0      5a0546857ecc773753327266_5d10a1669c50c70008fe8...    2.0   84.176931   \n",
       "1      5a0546857ecc773753327266_5d10a1669c50c70008fe8...    2.0   85.624178   \n",
       "2      5a0546857ecc773753327266_5d10a1669c50c70008fe8...    2.0   82.966574   \n",
       "3      5a0546857ecc773753327266_5d10a1669c50c70008fe8...    2.0   84.061425   \n",
       "4      5a0546857ecc773753327266_5d10a1669c50c70008fe8...    2.0   91.551105   \n",
       "...                                                  ...    ...         ...   \n",
       "69937  5dc8cea7659e181adb076a3f_5dd7c1189191710006b56...   -1.0  207.125727   \n",
       "69938  5dc8cea7659e181adb076a3f_5dd7c119c5b77e0006b16...   -1.0  210.773282   \n",
       "69939  5dc8cea7659e181adb076a3f_5dd7c119c5b77e0006b16...   -1.0  201.595911   \n",
       "69940  5dc8cea7659e181adb076a3f_5dd7c119c5b77e0006b16...   -1.0  201.058328   \n",
       "69941  5dc8cea7659e181adb076a3f_5dd7c119c5b77e0006b16...   -1.0  210.133712   \n",
       "\n",
       "                y floorNo  isTrainWaypoint  \\\n",
       "0       38.445385      F3            False   \n",
       "1       29.059366      F3            False   \n",
       "2       13.811194      F3            False   \n",
       "3       11.035576      F3            False   \n",
       "4       16.400272      F3            False   \n",
       "...           ...     ...              ...   \n",
       "69937  104.918147      B1            False   \n",
       "69938  103.974381      B1            False   \n",
       "69939  106.438348      B1            False   \n",
       "69940  104.004633      B1            False   \n",
       "69941  106.264936      B1            False   \n",
       "\n",
       "                                             xy           matched_point  \\\n",
       "0         (84.17693108866854, 38.4453852407699)    (80.6814, 39.265667)   \n",
       "1       (85.62417783484452, 29.059366436808762)    (84.22669, 27.13862)   \n",
       "2       (82.96657410558002, 13.811194304870703)   (81.30773, 15.669319)   \n",
       "3       (84.06142515821851, 11.035576099853458)   (81.30773, 15.669319)   \n",
       "4       (91.55110517504573, 16.400271925988502)   (90.43365, 18.036816)   \n",
       "...                                         ...                     ...   \n",
       "69937   (207.1257269746215, 104.91814720587736)   (208.15857, 104.7078)   \n",
       "69938   (210.7732822432144, 103.97438109714098)   (208.15857, 104.7078)   \n",
       "69939   (201.5959110104755, 106.43834773008892)  (200.75478, 106.75563)   \n",
       "69940  (201.05832767189867, 104.00463337659689)  (200.75478, 106.75563)   \n",
       "69941   (210.1337121010317, 106.26493635315668)   (208.15857, 104.7078)   \n",
       "\n",
       "       oof_min_snap_x  oof_min_snap_y  \n",
       "0            80.68140       39.265667  \n",
       "1            84.22669       27.138620  \n",
       "2            81.30773       15.669319  \n",
       "3            81.30773       15.669319  \n",
       "4            90.43365       18.036816  \n",
       "...               ...             ...  \n",
       "69937       208.15857      104.707800  \n",
       "69938       208.15857      104.707800  \n",
       "69939       200.75478      106.755630  \n",
       "69940       200.75478      106.755630  \n",
       "69941       208.15857      104.707800  \n",
       "\n",
       "[69942 rows x 13 columns]"
      ],
      "text/html": "<div>\n<style scoped>\n    .dataframe tbody tr th:only-of-type {\n        vertical-align: middle;\n    }\n\n    .dataframe tbody tr th {\n        vertical-align: top;\n    }\n\n    .dataframe thead th {\n        text-align: right;\n    }\n</style>\n<table border=\"1\" class=\"dataframe\">\n  <thead>\n    <tr style=\"text-align: right;\">\n      <th></th>\n      <th>site</th>\n      <th>path</th>\n      <th>timestamp</th>\n      <th>site_path_timestamp</th>\n      <th>floor</th>\n      <th>x</th>\n      <th>y</th>\n      <th>floorNo</th>\n      <th>isTrainWaypoint</th>\n      <th>xy</th>\n      <th>matched_point</th>\n      <th>oof_min_snap_x</th>\n      <th>oof_min_snap_y</th>\n    </tr>\n  </thead>\n  <tbody>\n    <tr>\n      <th>0</th>\n      <td>5a0546857ecc773753327266</td>\n      <td>5d10a1669c50c70008fe8977</td>\n      <td>1561368762838</td>\n      <td>5a0546857ecc773753327266_5d10a1669c50c70008fe8...</td>\n      <td>2.0</td>\n      <td>84.176931</td>\n      <td>38.445385</td>\n      <td>F3</td>\n      <td>False</td>\n      <td>(84.17693108866854, 38.4453852407699)</td>\n      <td>(80.6814, 39.265667)</td>\n      <td>80.68140</td>\n      <td>39.265667</td>\n    </tr>\n    <tr>\n      <th>1</th>\n      <td>5a0546857ecc773753327266</td>\n      <td>5d10a1669c50c70008fe8977</td>\n      <td>1561368774057</td>\n      <td>5a0546857ecc773753327266_5d10a1669c50c70008fe8...</td>\n      <td>2.0</td>\n      <td>85.624178</td>\n      <td>29.059366</td>\n      <td>F3</td>\n      <td>False</td>\n      <td>(85.62417783484452, 29.059366436808762)</td>\n      <td>(84.22669, 27.13862)</td>\n      <td>84.22669</td>\n      <td>27.138620</td>\n    </tr>\n    <tr>\n      <th>2</th>\n      <td>5a0546857ecc773753327266</td>\n      <td>5d10a1669c50c70008fe8977</td>\n      <td>1561368793535</td>\n      <td>5a0546857ecc773753327266_5d10a1669c50c70008fe8...</td>\n      <td>2.0</td>\n      <td>82.966574</td>\n      <td>13.811194</td>\n      <td>F3</td>\n      <td>False</td>\n      <td>(82.96657410558002, 13.811194304870703)</td>\n      <td>(81.30773, 15.669319)</td>\n      <td>81.30773</td>\n      <td>15.669319</td>\n    </tr>\n    <tr>\n      <th>3</th>\n      <td>5a0546857ecc773753327266</td>\n      <td>5d10a1669c50c70008fe8977</td>\n      <td>1561368798851</td>\n      <td>5a0546857ecc773753327266_5d10a1669c50c70008fe8...</td>\n      <td>2.0</td>\n      <td>84.061425</td>\n      <td>11.035576</td>\n      <td>F3</td>\n      <td>False</td>\n      <td>(84.06142515821851, 11.035576099853458)</td>\n      <td>(81.30773, 15.669319)</td>\n      <td>81.30773</td>\n      <td>15.669319</td>\n    </tr>\n    <tr>\n      <th>4</th>\n      <td>5a0546857ecc773753327266</td>\n      <td>5d10a1669c50c70008fe8977</td>\n      <td>1561368814782</td>\n      <td>5a0546857ecc773753327266_5d10a1669c50c70008fe8...</td>\n      <td>2.0</td>\n      <td>91.551105</td>\n      <td>16.400272</td>\n      <td>F3</td>\n      <td>False</td>\n      <td>(91.55110517504573, 16.400271925988502)</td>\n      <td>(90.43365, 18.036816)</td>\n      <td>90.43365</td>\n      <td>18.036816</td>\n    </tr>\n    <tr>\n      <th>...</th>\n      <td>...</td>\n      <td>...</td>\n      <td>...</td>\n      <td>...</td>\n      <td>...</td>\n      <td>...</td>\n      <td>...</td>\n      <td>...</td>\n      <td>...</td>\n      <td>...</td>\n      <td>...</td>\n      <td>...</td>\n      <td>...</td>\n    </tr>\n    <tr>\n      <th>69937</th>\n      <td>5dc8cea7659e181adb076a3f</td>\n      <td>5dd7c1189191710006b568d0</td>\n      <td>1574420722415</td>\n      <td>5dc8cea7659e181adb076a3f_5dd7c1189191710006b56...</td>\n      <td>-1.0</td>\n      <td>207.125727</td>\n      <td>104.918147</td>\n      <td>B1</td>\n      <td>False</td>\n      <td>(207.1257269746215, 104.91814720587736)</td>\n      <td>(208.15857, 104.7078)</td>\n      <td>208.15857</td>\n      <td>104.707800</td>\n    </tr>\n    <tr>\n      <th>69938</th>\n      <td>5dc8cea7659e181adb076a3f</td>\n      <td>5dd7c119c5b77e0006b16b99</td>\n      <td>1574420726383</td>\n      <td>5dc8cea7659e181adb076a3f_5dd7c119c5b77e0006b16...</td>\n      <td>-1.0</td>\n      <td>210.773282</td>\n      <td>103.974381</td>\n      <td>B1</td>\n      <td>False</td>\n      <td>(210.7732822432144, 103.97438109714098)</td>\n      <td>(208.15857, 104.7078)</td>\n      <td>208.15857</td>\n      <td>104.707800</td>\n    </tr>\n    <tr>\n      <th>69939</th>\n      <td>5dc8cea7659e181adb076a3f</td>\n      <td>5dd7c119c5b77e0006b16b99</td>\n      <td>1574420736142</td>\n      <td>5dc8cea7659e181adb076a3f_5dd7c119c5b77e0006b16...</td>\n      <td>-1.0</td>\n      <td>201.595911</td>\n      <td>106.438348</td>\n      <td>B1</td>\n      <td>False</td>\n      <td>(201.5959110104755, 106.43834773008892)</td>\n      <td>(200.75478, 106.75563)</td>\n      <td>200.75478</td>\n      <td>106.755630</td>\n    </tr>\n    <tr>\n      <th>69940</th>\n      <td>5dc8cea7659e181adb076a3f</td>\n      <td>5dd7c119c5b77e0006b16b99</td>\n      <td>1574420742502</td>\n      <td>5dc8cea7659e181adb076a3f_5dd7c119c5b77e0006b16...</td>\n      <td>-1.0</td>\n      <td>201.058328</td>\n      <td>104.004633</td>\n      <td>B1</td>\n      <td>False</td>\n      <td>(201.05832767189867, 104.00463337659689)</td>\n      <td>(200.75478, 106.75563)</td>\n      <td>200.75478</td>\n      <td>106.755630</td>\n    </tr>\n    <tr>\n      <th>69941</th>\n      <td>5dc8cea7659e181adb076a3f</td>\n      <td>5dd7c119c5b77e0006b16b99</td>\n      <td>1574420753754</td>\n      <td>5dc8cea7659e181adb076a3f_5dd7c119c5b77e0006b16...</td>\n      <td>-1.0</td>\n      <td>210.133712</td>\n      <td>106.264936</td>\n      <td>B1</td>\n      <td>False</td>\n      <td>(210.1337121010317, 106.26493635315668)</td>\n      <td>(208.15857, 104.7078)</td>\n      <td>208.15857</td>\n      <td>104.707800</td>\n    </tr>\n  </tbody>\n</table>\n<p>69942 rows × 13 columns</p>\n</div>"
     },
     "metadata": {},
     "execution_count": 58
    }
   ],
   "source": [
    "train_waypoints = pd.read_csv('../../input/indoor-location-train-waypoints/train_waypoints.csv')\n",
    "# 線形補完しているwaypointをtrain_waypoints（grid）とする。gridを増やすのが狙い。\n",
    "# train_waypoints = oofs_df[['oof_x', 'oof_y', 'timestamp', 'site_id_str', 'floor', 'floor_str', 'path']]\n",
    "# train_waypoints = train_waypoints.rename(columns={'oof_x':'x', 'oof_y':\"y\", 'site_id_str':\"site\", 'floor_str':'floorNo'})\n",
    "\n",
    "snap_df = oofs_df[['site_path_timestamp','floor','oof_min_x','oof_min_y']].copy()\n",
    "snap_df = snap_df.rename(columns={'oof_min_x':'x', 'oof_min_y':'y'})\n",
    "snap_df = sub_process(snap_df, train_waypoints)\n",
    "snap_df = add_xy(snap_df)\n",
    "train_waypoints = add_xy(train_waypoints)\n",
    "\n",
    "ds = []\n",
    "for (site, myfloor), d in tqdm(snap_df.groupby(['site','floor'])):\n",
    "    true_floor_locs = train_waypoints.loc[(train_waypoints['floor'] == myfloor) &\n",
    "                                          (train_waypoints['site'] == site)] \\\n",
    "        .reset_index(drop=True)\n",
    "    if len(true_floor_locs) == 0:\n",
    "        print(f'Skipping {site} {myfloor}')\n",
    "        continue\n",
    "    d['matched_point'] = [closest_point(x, list(true_floor_locs['xy'])) for x in d['xy']]\n",
    "    d['oof_min_snap_x'] = d['matched_point'].apply(lambda x: x[0])\n",
    "    d['oof_min_snap_y'] = d['matched_point'].apply(lambda x: x[1])\n",
    "    ds.append(d)\n",
    "\n",
    "# 上書き\n",
    "snap_df = pd.concat(ds).sort_index()\n",
    "snap_df"
   ]
  },
  {
   "cell_type": "code",
   "execution_count": 59,
   "metadata": {},
   "outputs": [
    {
     "output_type": "execute_result",
     "data": {
      "text/plain": [
       "                                     site_path_timestamp     rssi_0  \\\n",
       "0      5a0546857ecc773753327266_5d10a1669c50c70008fe8...  40.500000   \n",
       "1      5a0546857ecc773753327266_5d10a1669c50c70008fe8...  42.333333   \n",
       "2      5a0546857ecc773753327266_5d10a1669c50c70008fe8...  41.000000   \n",
       "3      5a0546857ecc773753327266_5d10a1669c50c70008fe8...  35.800000   \n",
       "4      5a0546857ecc773753327266_5d10a1669c50c70008fe8...  46.600000   \n",
       "...                                                  ...        ...   \n",
       "69937  5dc8cea7659e181adb076a3f_5dd7c1189191710006b56...  66.000000   \n",
       "69938  5dc8cea7659e181adb076a3f_5dd7c119c5b77e0006b16...  64.000000   \n",
       "69939  5dc8cea7659e181adb076a3f_5dd7c119c5b77e0006b16...  62.750000   \n",
       "69940  5dc8cea7659e181adb076a3f_5dd7c119c5b77e0006b16...  62.400000   \n",
       "69941  5dc8cea7659e181adb076a3f_5dd7c119c5b77e0006b16...  64.000000   \n",
       "\n",
       "          rssi_1     rssi_2     rssi_3     rssi_4     rssi_5     rssi_6  \\\n",
       "0      47.500000  48.000000  48.500000  49.500000  50.000000  50.000000   \n",
       "1      45.500000  46.000000  46.833333  47.000000  47.833333  48.333333   \n",
       "2      43.200000  43.200000  44.000000  44.200000  44.400000  44.800000   \n",
       "3      37.400000  37.800000  38.600000  39.400000  40.000000  40.400000   \n",
       "4      48.200000  49.000000  50.600000  50.800000  51.600000  52.400000   \n",
       "...          ...        ...        ...        ...        ...        ...   \n",
       "69937  73.000000  75.000000  76.500000  80.000000  80.500000  81.500000   \n",
       "69938  66.500000  68.500000  71.500000  76.500000  79.500000  80.000000   \n",
       "69939  64.250000  65.750000  71.000000  76.000000  76.250000  77.750000   \n",
       "69940  65.000000  67.000000  71.000000  72.000000  72.400000  74.600000   \n",
       "69941  66.666667  68.333333  76.000000  78.333333  80.000000  80.333333   \n",
       "\n",
       "          rssi_7     rssi_8  ...  oof_floor               site_id_str  \\\n",
       "0      51.000000  51.500000  ...   2.020263  5a0546857ecc773753327266   \n",
       "1      49.000000  49.000000  ...   2.337152  5a0546857ecc773753327266   \n",
       "2      45.200000  46.400000  ...   1.953328  5a0546857ecc773753327266   \n",
       "3      40.800000  40.800000  ...   1.789859  5a0546857ecc773753327266   \n",
       "4      53.000000  53.600000  ...   1.972952  5a0546857ecc773753327266   \n",
       "...          ...        ...  ...        ...                       ...   \n",
       "69937  82.500000  83.000000  ...   0.000000  5dc8cea7659e181adb076a3f   \n",
       "69938  81.500000  82.000000  ...   0.000000  5dc8cea7659e181adb076a3f   \n",
       "69939  79.000000  79.250000  ...   0.000000  5dc8cea7659e181adb076a3f   \n",
       "69940  76.000000  76.800000  ...   0.000000  5dc8cea7659e181adb076a3f   \n",
       "69941  80.666667  82.666667  ...   0.000000  5dc8cea7659e181adb076a3f   \n",
       "\n",
       "                           path  floor_str       oof_x       oof_y  \\\n",
       "0      5d10a1669c50c70008fe8977         F3   79.711162   35.530280   \n",
       "1      5d10a1669c50c70008fe8977         F3  102.009525   25.542056   \n",
       "2      5d10a1669c50c70008fe8977         F3   85.087132   17.841110   \n",
       "3      5d10a1669c50c70008fe8977         F3   82.951010   15.998105   \n",
       "4      5d10a1669c50c70008fe8977         F3   85.685172   19.938514   \n",
       "...                         ...        ...         ...         ...   \n",
       "69937  5dd7c1189191710006b568d0         B1  210.031392  101.888346   \n",
       "69938  5dd7c119c5b77e0006b16b99         B1  206.298772  106.020892   \n",
       "69939  5dd7c119c5b77e0006b16b99         B1  205.131555  106.379872   \n",
       "69940  5dd7c119c5b77e0006b16b99         B1  204.177504  102.442687   \n",
       "69941  5dd7c119c5b77e0006b16b99         B1  207.953402  105.838848   \n",
       "\n",
       "        oof_min_x   oof_min_y  oof_min_snap_x  oof_min_snap_y  \n",
       "0       84.176931   38.445385        80.68140       39.265667  \n",
       "1       85.624178   29.059366        84.22669       27.138620  \n",
       "2       82.966574   13.811194        81.30773       15.669319  \n",
       "3       84.061425   11.035576        81.30773       15.669319  \n",
       "4       91.551105   16.400272        90.43365       18.036816  \n",
       "...           ...         ...             ...             ...  \n",
       "69937  207.125727  104.918147       208.15857      104.707800  \n",
       "69938  210.773282  103.974381       208.15857      104.707800  \n",
       "69939  201.595911  106.438348       200.75478      106.755630  \n",
       "69940  201.058328  104.004633       200.75478      106.755630  \n",
       "69941  210.133712  106.264936       208.15857      104.707800  \n",
       "\n",
       "[69942 rows x 179 columns]"
      ],
      "text/html": "<div>\n<style scoped>\n    .dataframe tbody tr th:only-of-type {\n        vertical-align: middle;\n    }\n\n    .dataframe tbody tr th {\n        vertical-align: top;\n    }\n\n    .dataframe thead th {\n        text-align: right;\n    }\n</style>\n<table border=\"1\" class=\"dataframe\">\n  <thead>\n    <tr style=\"text-align: right;\">\n      <th></th>\n      <th>site_path_timestamp</th>\n      <th>rssi_0</th>\n      <th>rssi_1</th>\n      <th>rssi_2</th>\n      <th>rssi_3</th>\n      <th>rssi_4</th>\n      <th>rssi_5</th>\n      <th>rssi_6</th>\n      <th>rssi_7</th>\n      <th>rssi_8</th>\n      <th>...</th>\n      <th>oof_floor</th>\n      <th>site_id_str</th>\n      <th>path</th>\n      <th>floor_str</th>\n      <th>oof_x</th>\n      <th>oof_y</th>\n      <th>oof_min_x</th>\n      <th>oof_min_y</th>\n      <th>oof_min_snap_x</th>\n      <th>oof_min_snap_y</th>\n    </tr>\n  </thead>\n  <tbody>\n    <tr>\n      <th>0</th>\n      <td>5a0546857ecc773753327266_5d10a1669c50c70008fe8...</td>\n      <td>40.500000</td>\n      <td>47.500000</td>\n      <td>48.000000</td>\n      <td>48.500000</td>\n      <td>49.500000</td>\n      <td>50.000000</td>\n      <td>50.000000</td>\n      <td>51.000000</td>\n      <td>51.500000</td>\n      <td>...</td>\n      <td>2.020263</td>\n      <td>5a0546857ecc773753327266</td>\n      <td>5d10a1669c50c70008fe8977</td>\n      <td>F3</td>\n      <td>79.711162</td>\n      <td>35.530280</td>\n      <td>84.176931</td>\n      <td>38.445385</td>\n      <td>80.68140</td>\n      <td>39.265667</td>\n    </tr>\n    <tr>\n      <th>1</th>\n      <td>5a0546857ecc773753327266_5d10a1669c50c70008fe8...</td>\n      <td>42.333333</td>\n      <td>45.500000</td>\n      <td>46.000000</td>\n      <td>46.833333</td>\n      <td>47.000000</td>\n      <td>47.833333</td>\n      <td>48.333333</td>\n      <td>49.000000</td>\n      <td>49.000000</td>\n      <td>...</td>\n      <td>2.337152</td>\n      <td>5a0546857ecc773753327266</td>\n      <td>5d10a1669c50c70008fe8977</td>\n      <td>F3</td>\n      <td>102.009525</td>\n      <td>25.542056</td>\n      <td>85.624178</td>\n      <td>29.059366</td>\n      <td>84.22669</td>\n      <td>27.138620</td>\n    </tr>\n    <tr>\n      <th>2</th>\n      <td>5a0546857ecc773753327266_5d10a1669c50c70008fe8...</td>\n      <td>41.000000</td>\n      <td>43.200000</td>\n      <td>43.200000</td>\n      <td>44.000000</td>\n      <td>44.200000</td>\n      <td>44.400000</td>\n      <td>44.800000</td>\n      <td>45.200000</td>\n      <td>46.400000</td>\n      <td>...</td>\n      <td>1.953328</td>\n      <td>5a0546857ecc773753327266</td>\n      <td>5d10a1669c50c70008fe8977</td>\n      <td>F3</td>\n      <td>85.087132</td>\n      <td>17.841110</td>\n      <td>82.966574</td>\n      <td>13.811194</td>\n      <td>81.30773</td>\n      <td>15.669319</td>\n    </tr>\n    <tr>\n      <th>3</th>\n      <td>5a0546857ecc773753327266_5d10a1669c50c70008fe8...</td>\n      <td>35.800000</td>\n      <td>37.400000</td>\n      <td>37.800000</td>\n      <td>38.600000</td>\n      <td>39.400000</td>\n      <td>40.000000</td>\n      <td>40.400000</td>\n      <td>40.800000</td>\n      <td>40.800000</td>\n      <td>...</td>\n      <td>1.789859</td>\n      <td>5a0546857ecc773753327266</td>\n      <td>5d10a1669c50c70008fe8977</td>\n      <td>F3</td>\n      <td>82.951010</td>\n      <td>15.998105</td>\n      <td>84.061425</td>\n      <td>11.035576</td>\n      <td>81.30773</td>\n      <td>15.669319</td>\n    </tr>\n    <tr>\n      <th>4</th>\n      <td>5a0546857ecc773753327266_5d10a1669c50c70008fe8...</td>\n      <td>46.600000</td>\n      <td>48.200000</td>\n      <td>49.000000</td>\n      <td>50.600000</td>\n      <td>50.800000</td>\n      <td>51.600000</td>\n      <td>52.400000</td>\n      <td>53.000000</td>\n      <td>53.600000</td>\n      <td>...</td>\n      <td>1.972952</td>\n      <td>5a0546857ecc773753327266</td>\n      <td>5d10a1669c50c70008fe8977</td>\n      <td>F3</td>\n      <td>85.685172</td>\n      <td>19.938514</td>\n      <td>91.551105</td>\n      <td>16.400272</td>\n      <td>90.43365</td>\n      <td>18.036816</td>\n    </tr>\n    <tr>\n      <th>...</th>\n      <td>...</td>\n      <td>...</td>\n      <td>...</td>\n      <td>...</td>\n      <td>...</td>\n      <td>...</td>\n      <td>...</td>\n      <td>...</td>\n      <td>...</td>\n      <td>...</td>\n      <td>...</td>\n      <td>...</td>\n      <td>...</td>\n      <td>...</td>\n      <td>...</td>\n      <td>...</td>\n      <td>...</td>\n      <td>...</td>\n      <td>...</td>\n      <td>...</td>\n      <td>...</td>\n    </tr>\n    <tr>\n      <th>69937</th>\n      <td>5dc8cea7659e181adb076a3f_5dd7c1189191710006b56...</td>\n      <td>66.000000</td>\n      <td>73.000000</td>\n      <td>75.000000</td>\n      <td>76.500000</td>\n      <td>80.000000</td>\n      <td>80.500000</td>\n      <td>81.500000</td>\n      <td>82.500000</td>\n      <td>83.000000</td>\n      <td>...</td>\n      <td>0.000000</td>\n      <td>5dc8cea7659e181adb076a3f</td>\n      <td>5dd7c1189191710006b568d0</td>\n      <td>B1</td>\n      <td>210.031392</td>\n      <td>101.888346</td>\n      <td>207.125727</td>\n      <td>104.918147</td>\n      <td>208.15857</td>\n      <td>104.707800</td>\n    </tr>\n    <tr>\n      <th>69938</th>\n      <td>5dc8cea7659e181adb076a3f_5dd7c119c5b77e0006b16...</td>\n      <td>64.000000</td>\n      <td>66.500000</td>\n      <td>68.500000</td>\n      <td>71.500000</td>\n      <td>76.500000</td>\n      <td>79.500000</td>\n      <td>80.000000</td>\n      <td>81.500000</td>\n      <td>82.000000</td>\n      <td>...</td>\n      <td>0.000000</td>\n      <td>5dc8cea7659e181adb076a3f</td>\n      <td>5dd7c119c5b77e0006b16b99</td>\n      <td>B1</td>\n      <td>206.298772</td>\n      <td>106.020892</td>\n      <td>210.773282</td>\n      <td>103.974381</td>\n      <td>208.15857</td>\n      <td>104.707800</td>\n    </tr>\n    <tr>\n      <th>69939</th>\n      <td>5dc8cea7659e181adb076a3f_5dd7c119c5b77e0006b16...</td>\n      <td>62.750000</td>\n      <td>64.250000</td>\n      <td>65.750000</td>\n      <td>71.000000</td>\n      <td>76.000000</td>\n      <td>76.250000</td>\n      <td>77.750000</td>\n      <td>79.000000</td>\n      <td>79.250000</td>\n      <td>...</td>\n      <td>0.000000</td>\n      <td>5dc8cea7659e181adb076a3f</td>\n      <td>5dd7c119c5b77e0006b16b99</td>\n      <td>B1</td>\n      <td>205.131555</td>\n      <td>106.379872</td>\n      <td>201.595911</td>\n      <td>106.438348</td>\n      <td>200.75478</td>\n      <td>106.755630</td>\n    </tr>\n    <tr>\n      <th>69940</th>\n      <td>5dc8cea7659e181adb076a3f_5dd7c119c5b77e0006b16...</td>\n      <td>62.400000</td>\n      <td>65.000000</td>\n      <td>67.000000</td>\n      <td>71.000000</td>\n      <td>72.000000</td>\n      <td>72.400000</td>\n      <td>74.600000</td>\n      <td>76.000000</td>\n      <td>76.800000</td>\n      <td>...</td>\n      <td>0.000000</td>\n      <td>5dc8cea7659e181adb076a3f</td>\n      <td>5dd7c119c5b77e0006b16b99</td>\n      <td>B1</td>\n      <td>204.177504</td>\n      <td>102.442687</td>\n      <td>201.058328</td>\n      <td>104.004633</td>\n      <td>200.75478</td>\n      <td>106.755630</td>\n    </tr>\n    <tr>\n      <th>69941</th>\n      <td>5dc8cea7659e181adb076a3f_5dd7c119c5b77e0006b16...</td>\n      <td>64.000000</td>\n      <td>66.666667</td>\n      <td>68.333333</td>\n      <td>76.000000</td>\n      <td>78.333333</td>\n      <td>80.000000</td>\n      <td>80.333333</td>\n      <td>80.666667</td>\n      <td>82.666667</td>\n      <td>...</td>\n      <td>0.000000</td>\n      <td>5dc8cea7659e181adb076a3f</td>\n      <td>5dd7c119c5b77e0006b16b99</td>\n      <td>B1</td>\n      <td>207.953402</td>\n      <td>105.838848</td>\n      <td>210.133712</td>\n      <td>106.264936</td>\n      <td>208.15857</td>\n      <td>104.707800</td>\n    </tr>\n  </tbody>\n</table>\n<p>69942 rows × 179 columns</p>\n</div>"
     },
     "metadata": {},
     "execution_count": 59
    }
   ],
   "source": [
    "oofs_df['oof_min_snap_x'] = snap_df['oof_min_snap_x']\n",
    "oofs_df['oof_min_snap_y'] = snap_df['oof_min_snap_y']\n",
    "oofs_df"
   ]
  },
  {
   "cell_type": "code",
   "execution_count": 60,
   "metadata": {},
   "outputs": [
    {
     "output_type": "stream",
     "name": "stdout",
     "text": [
      "(after cost-min + snap) CV:4.235537958625923\n"
     ]
    }
   ],
   "source": [
    "# waypoint補正前のx,yでの評価\n",
    "oof_score_post_process = mean_position_error(\n",
    "    oofs_df['oof_min_snap_x'], oofs_df['oof_min_snap_y'], 0, \n",
    "    oofs_df['target_x'], oofs_df['target_y'], 0\n",
    "    )\n",
    "wandb_config['CV_cost_snap'] = oof_score_post_process\n",
    "print(f\"(after cost-min + snap) CV:{oof_score_post_process}\")"
   ]
  },
  {
   "cell_type": "code",
   "execution_count": 61,
   "metadata": {},
   "outputs": [
    {
     "output_type": "stream",
     "name": "stdout",
     "text": [
      "(after cost-min + snap) CV:4.813314781040444\n"
     ]
    }
   ],
   "source": [
    "# waypoint補正前のx,yでの評価\n",
    "oof_score_post_process = mean_position_error(\n",
    "    oofs_df['oof_min_snap_x'], oofs_df['oof_min_snap_y'], 0, \n",
    "    oofs_df['ix'], oofs_df['iy'], 0\n",
    "    )\n",
    "wandb_config['iCV_cost_snap'] = oof_score_post_process\n",
    "print(f\"(after cost-min + snap) CV:{oof_score_post_process}\")"
   ]
  },
  {
   "cell_type": "code",
   "execution_count": 62,
   "metadata": {},
   "outputs": [],
   "source": [
    "# x_pred = oofs_df[\"oof_min_snap_x\"]\n",
    "# y_pred = oofs_df[\"oof_min_snap_y\"]\n",
    "# f_pred = oofs_df[\"floor\"]  # 正解を与える\n",
    "# x_true = oofs_df[\"wifi_x\"]\n",
    "# y_true = oofs_df[\"wifi_y\"]\n",
    "# f_true = oofs_df[\"floor\"]\n",
    "# site_arr = oofs_df[\"site_id_str\"]\n",
    "# df_result_site3 = calc_metrics_site(x_pred, y_pred, f_pred, x_true, y_true, f_true, site_arr)\n",
    "# df_result_site3.style.bar(subset=['n_sample', 'score'], color=['teal'])"
   ]
  },
  {
   "cell_type": "code",
   "execution_count": 63,
   "metadata": {},
   "outputs": [],
   "source": [
    "# site_eval_report(df_result_site3)"
   ]
  },
  {
   "cell_type": "code",
   "execution_count": 64,
   "metadata": {},
   "outputs": [],
   "source": [
    "# train_waypoints = pd.read_csv('../../input/indoor-location-train-waypoints/train_waypoints.csv')\n",
    "\n",
    "new_sub = sub_process(new_sub, train_waypoints)\n",
    "new_sub = add_xy(new_sub)\n",
    "train_waypoints = add_xy(train_waypoints)\n",
    "\n",
    "ds = []\n",
    "for (site, myfloor), d in new_sub.groupby(['site','floor']):\n",
    "    true_floor_locs = train_waypoints.loc[(train_waypoints['floor'] == myfloor) &\n",
    "                                          (train_waypoints['site'] == site)] \\\n",
    "        .reset_index(drop=True)\n",
    "    if len(true_floor_locs) == 0:\n",
    "        print(f'Skipping {site} {myfloor}')\n",
    "        continue\n",
    "    d['matched_point'] = [closest_point(x, list(true_floor_locs['xy'])) for x in d['xy']]\n",
    "    d['x_'] = d['matched_point'].apply(lambda x: x[0])\n",
    "    d['y_'] = d['matched_point'].apply(lambda x: x[1])\n",
    "    ds.append(d)\n",
    "\n",
    "new_sub2 = pd.concat(ds)"
   ]
  },
  {
   "cell_type": "code",
   "execution_count": 65,
   "metadata": {},
   "outputs": [
    {
     "output_type": "execute_result",
     "data": {
      "text/plain": [
       "                                     site_path_timestamp  floor          x  \\\n",
       "0      5a0546857ecc773753327266_046cfa46be49fc1083481...      0   93.72847   \n",
       "1      5a0546857ecc773753327266_046cfa46be49fc1083481...      0   85.36019   \n",
       "2      5a0546857ecc773753327266_046cfa46be49fc1083481...      0   87.16283   \n",
       "3      5a0546857ecc773753327266_046cfa46be49fc1083481...      0   81.65774   \n",
       "4      5a0546857ecc773753327266_046cfa46be49fc1083481...      0   81.65774   \n",
       "...                                                  ...    ...        ...   \n",
       "10128  5dc8cea7659e181adb076a3f_fd64de8c4a2fc5ebb0e9f...      5  205.59604   \n",
       "10129  5dc8cea7659e181adb076a3f_fd64de8c4a2fc5ebb0e9f...      5  206.62791   \n",
       "10130  5dc8cea7659e181adb076a3f_fd64de8c4a2fc5ebb0e9f...      5  205.51130   \n",
       "10131  5dc8cea7659e181adb076a3f_fd64de8c4a2fc5ebb0e9f...      5  195.82588   \n",
       "10132  5dc8cea7659e181adb076a3f_fd64de8c4a2fc5ebb0e9f...      5  190.58060   \n",
       "\n",
       "                y  \n",
       "0       97.948860  \n",
       "1       99.075780  \n",
       "2      104.450550  \n",
       "3      110.509090  \n",
       "4      110.509090  \n",
       "...           ...  \n",
       "10128   98.605774  \n",
       "10129  102.635210  \n",
       "10130  107.841324  \n",
       "10131  109.711815  \n",
       "10132  115.806564  \n",
       "\n",
       "[10133 rows x 4 columns]"
      ],
      "text/html": "<div>\n<style scoped>\n    .dataframe tbody tr th:only-of-type {\n        vertical-align: middle;\n    }\n\n    .dataframe tbody tr th {\n        vertical-align: top;\n    }\n\n    .dataframe thead th {\n        text-align: right;\n    }\n</style>\n<table border=\"1\" class=\"dataframe\">\n  <thead>\n    <tr style=\"text-align: right;\">\n      <th></th>\n      <th>site_path_timestamp</th>\n      <th>floor</th>\n      <th>x</th>\n      <th>y</th>\n    </tr>\n  </thead>\n  <tbody>\n    <tr>\n      <th>0</th>\n      <td>5a0546857ecc773753327266_046cfa46be49fc1083481...</td>\n      <td>0</td>\n      <td>93.72847</td>\n      <td>97.948860</td>\n    </tr>\n    <tr>\n      <th>1</th>\n      <td>5a0546857ecc773753327266_046cfa46be49fc1083481...</td>\n      <td>0</td>\n      <td>85.36019</td>\n      <td>99.075780</td>\n    </tr>\n    <tr>\n      <th>2</th>\n      <td>5a0546857ecc773753327266_046cfa46be49fc1083481...</td>\n      <td>0</td>\n      <td>87.16283</td>\n      <td>104.450550</td>\n    </tr>\n    <tr>\n      <th>3</th>\n      <td>5a0546857ecc773753327266_046cfa46be49fc1083481...</td>\n      <td>0</td>\n      <td>81.65774</td>\n      <td>110.509090</td>\n    </tr>\n    <tr>\n      <th>4</th>\n      <td>5a0546857ecc773753327266_046cfa46be49fc1083481...</td>\n      <td>0</td>\n      <td>81.65774</td>\n      <td>110.509090</td>\n    </tr>\n    <tr>\n      <th>...</th>\n      <td>...</td>\n      <td>...</td>\n      <td>...</td>\n      <td>...</td>\n    </tr>\n    <tr>\n      <th>10128</th>\n      <td>5dc8cea7659e181adb076a3f_fd64de8c4a2fc5ebb0e9f...</td>\n      <td>5</td>\n      <td>205.59604</td>\n      <td>98.605774</td>\n    </tr>\n    <tr>\n      <th>10129</th>\n      <td>5dc8cea7659e181adb076a3f_fd64de8c4a2fc5ebb0e9f...</td>\n      <td>5</td>\n      <td>206.62791</td>\n      <td>102.635210</td>\n    </tr>\n    <tr>\n      <th>10130</th>\n      <td>5dc8cea7659e181adb076a3f_fd64de8c4a2fc5ebb0e9f...</td>\n      <td>5</td>\n      <td>205.51130</td>\n      <td>107.841324</td>\n    </tr>\n    <tr>\n      <th>10131</th>\n      <td>5dc8cea7659e181adb076a3f_fd64de8c4a2fc5ebb0e9f...</td>\n      <td>5</td>\n      <td>195.82588</td>\n      <td>109.711815</td>\n    </tr>\n    <tr>\n      <th>10132</th>\n      <td>5dc8cea7659e181adb076a3f_fd64de8c4a2fc5ebb0e9f...</td>\n      <td>5</td>\n      <td>190.58060</td>\n      <td>115.806564</td>\n    </tr>\n  </tbody>\n</table>\n<p>10133 rows × 4 columns</p>\n</div>"
     },
     "metadata": {},
     "execution_count": 65
    }
   ],
   "source": [
    "new_sub2 = new_sub2[['site_path_timestamp','floor','x_','y_']].sort_index()\n",
    "new_sub2 = new_sub2.rename(columns={'x_':'x', 'y_':'y'})\n",
    "new_sub2"
   ]
  },
  {
   "cell_type": "code",
   "execution_count": 66,
   "metadata": {},
   "outputs": [],
   "source": [
    "new_sub2.to_csv(RUN_NAME + '_cost_snap_sub.csv', index=False)"
   ]
  },
  {
   "cell_type": "code",
   "execution_count": 67,
   "metadata": {},
   "outputs": [],
   "source": [
    "# import matplotlib.pyplot as plt\n",
    "# df_result_site1['score'].plot(label='oof')\n",
    "# df_result_site2['score'].plot(label='cost')\n",
    "# df_result_site3['score'].plot(label='cost+snap')\n",
    "# plt.legend()\n",
    "# plt.grid()\n",
    "# plt.savefig('site_result.png')"
   ]
  },
  {
   "cell_type": "code",
   "execution_count": 68,
   "metadata": {},
   "outputs": [
    {
     "output_type": "display_data",
     "data": {
      "text/plain": "<IPython.core.display.HTML object>",
      "text/html": "<br/>Waiting for W&B process to finish, PID 741973<br/>Program ended successfully."
     },
     "metadata": {}
    },
    {
     "output_type": "display_data",
     "data": {
      "text/plain": "VBox(children=(Label(value=' 0.00MB of 0.00MB uploaded (0.00MB deduped)\\r'), FloatProgress(value=1.0, max=1.0)…",
      "application/vnd.jupyter.widget-view+json": {
       "version_major": 2,
       "version_minor": 0,
       "model_id": "1b36e84756874231bf5128dfaa81cfea"
      }
     },
     "metadata": {}
    },
    {
     "output_type": "display_data",
     "data": {
      "text/plain": "<IPython.core.display.HTML object>",
      "text/html": "Find user logs for this run at: <code>/home/user/work/exp/exp041/wandb/run-20210429_022418-i0nz1xf9/logs/debug.log</code>"
     },
     "metadata": {}
    },
    {
     "output_type": "display_data",
     "data": {
      "text/plain": "<IPython.core.display.HTML object>",
      "text/html": "Find internal logs for this run at: <code>/home/user/work/exp/exp041/wandb/run-20210429_022418-i0nz1xf9/logs/debug-internal.log</code>"
     },
     "metadata": {}
    },
    {
     "output_type": "display_data",
     "data": {
      "text/plain": "<IPython.core.display.HTML object>",
      "text/html": "Synced 5 W&B file(s), 0 media file(s), 0 artifact file(s) and 0 other file(s)"
     },
     "metadata": {}
    },
    {
     "output_type": "display_data",
     "data": {
      "text/plain": "<IPython.core.display.HTML object>",
      "text/html": "\n                    <br/>Synced <strong style=\"color:#cdcd00\">peachy-breeze-669</strong>: <a href=\"https://wandb.ai/kuto5046/indoor/runs/i0nz1xf9\" target=\"_blank\">https://wandb.ai/kuto5046/indoor/runs/i0nz1xf9</a><br/>\n                "
     },
     "metadata": {}
    }
   ],
   "source": [
    "wandb.finish()"
   ]
  }
 ],
 "metadata": {
  "kernelspec": {
   "display_name": "Python 3",
   "language": "python",
   "name": "python3"
  },
  "language_info": {
   "codemirror_mode": {
    "name": "ipython",
    "version": 3
   },
   "file_extension": ".py",
   "mimetype": "text/x-python",
   "name": "python",
   "nbconvert_exporter": "python",
   "pygments_lexer": "ipython3",
   "version": "3.8.5"
  }
 },
 "nbformat": 4,
 "nbformat_minor": 4
}