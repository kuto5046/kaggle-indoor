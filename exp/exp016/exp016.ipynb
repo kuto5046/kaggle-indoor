{
 "cells": [
  {
   "cell_type": "code",
   "execution_count": 1,
   "metadata": {},
   "outputs": [],
   "source": [
    "import os\n",
    "import sys\n",
    "import glob\n",
    "import yaml\n",
    "import pickle\n",
    "import random\n",
    "\n",
    "import numpy as np\n",
    "import pandas as pd\n",
    "import scipy.stats as stats\n",
    "from pathlib import Path\n",
    "\n",
    "from sklearn import model_selection\n",
    "from sklearn.preprocessing import StandardScaler, LabelEncoder\n",
    "\n",
    "import wandb\n",
    "import torch\n",
    "from torch import nn\n",
    "import torch.nn.functional as F\n",
    "from torch.utils.data import Dataset, DataLoader \n",
    "import torch.optim as optim\n",
    "\n",
    "import pytorch_lightning as pl\n",
    "from pytorch_lightning.loggers import WandbLogger\n",
    "from pytorch_lightning.callbacks import ModelCheckpoint\n",
    "from pytorch_lightning.callbacks import EarlyStopping\n",
    "from pytorch_lightning.utilities.seed import seed_everything"
   ]
  },
  {
   "cell_type": "markdown",
   "metadata": {},
   "source": [
    "## config"
   ]
  },
  {
   "cell_type": "code",
   "execution_count": 2,
   "metadata": {},
   "outputs": [
    {
     "output_type": "stream",
     "name": "stderr",
     "text": [
      "Global seed set to 1996\n"
     ]
    },
    {
     "output_type": "execute_result",
     "data": {
      "text/plain": [
       "1996"
      ]
     },
     "metadata": {},
     "execution_count": 2
    }
   ],
   "source": [
    "# config\n",
    "with open('config.yaml') as f:\n",
    "    config = yaml.safe_load(f)\n",
    "\n",
    "# globals variable\n",
    "SEED = config['globals']['seed']\n",
    "MAX_EPOCHS = config['globals']['max_epochs']\n",
    "N_SPLITS = config['globals']['n_splits']\n",
    "USE_FOLDS = config['globals']['use_folds']\n",
    "DEBUG = config['globals']['debug']\n",
    "EXP_MESSAGE = config['globals']['exp_message']\n",
    "NOTES = config['globals']['notes']\n",
    "MODEL_SAVE = config['globals']['model_save']\n",
    "ONLY_PRED = config['globals']['only_pred']\n",
    "PRETRAINED = config['globals']['pretrained']\n",
    "PRETRAINED_PATH = config['globals']['pretrained_path']\n",
    "EXP_NAME = str(Path().resolve()).split('/')[-1]\n",
    "\n",
    "# seed\n",
    "seed_everything(SEED)"
   ]
  },
  {
   "cell_type": "code",
   "execution_count": 3,
   "metadata": {},
   "outputs": [
    {
     "output_type": "execute_result",
     "data": {
      "text/plain": [
       "'exp016'"
      ]
     },
     "metadata": {},
     "execution_count": 3
    }
   ],
   "source": [
    "EXP_NAME"
   ]
  },
  {
   "cell_type": "code",
   "execution_count": 4,
   "metadata": {},
   "outputs": [
    {
     "output_type": "stream",
     "name": "stdout",
     "text": [
      "\u001b[34m\u001b[1mwandb\u001b[0m: Appending key for api.wandb.ai to your netrc file: /home/user/.netrc\n"
     ]
    }
   ],
   "source": [
    "!wandb login 1bb2d0449c11d8b987e25c38b9d8dda176310fb6"
   ]
  },
  {
   "cell_type": "markdown",
   "metadata": {},
   "source": [
    "## read data"
   ]
  },
  {
   "cell_type": "code",
   "execution_count": 5,
   "metadata": {},
   "outputs": [],
   "source": [
    "# waypointを補正したdataset\n",
    "root_dir = Path('../../input/')\n",
    "with open(root_dir/'2kaido_wifi_dataset_v1/train_20000_100_10.pkl', 'rb') as f:\n",
    "  train_df = pickle.load(f)\n",
    "\n",
    "with open(root_dir/'2kaido_wifi_dataset_v1/test_20000_100_10.pkl', 'rb') as f:\n",
    "  test_df = pickle.load(f)\n",
    "\n",
    "sub_df = pd.read_csv(root_dir/'indoor-location-navigation/sample_submission.csv', index_col=0)"
   ]
  },
  {
   "cell_type": "code",
   "execution_count": 6,
   "metadata": {},
   "outputs": [],
   "source": [
    "\n",
    "train_df = train_df.rename(columns={'wp_tmestamp':'timestamp', 'path_id':'path'})\n",
    "test_df = test_df.rename(columns={'wp_tmestamp':'timestamp', 'path_id':'path'})\n",
    "\n",
    "train_df = train_df.astype({'timestamp':int,'x': float, 'y': float, 'floor':float})\n",
    "test_df = test_df.astype({'timestamp':int})"
   ]
  },
  {
   "cell_type": "code",
   "execution_count": 7,
   "metadata": {},
   "outputs": [
    {
     "output_type": "execute_result",
     "data": {
      "text/plain": [
       "                                          ssid_0  \\\n",
       "0       356d66c73c423be835bd5d07cb1ebdfa821d8e23   \n",
       "1       356d66c73c423be835bd5d07cb1ebdfa821d8e23   \n",
       "2       f44fa6118fed7198296c8b45b2f2684903d99620   \n",
       "3       356d66c73c423be835bd5d07cb1ebdfa821d8e23   \n",
       "4       f44fa6118fed7198296c8b45b2f2684903d99620   \n",
       "...                                          ...   \n",
       "256744  18336f0964fbd470a2ee7116d33b96946c633999   \n",
       "256745  18336f0964fbd470a2ee7116d33b96946c633999   \n",
       "256746  18336f0964fbd470a2ee7116d33b96946c633999   \n",
       "256747  18336f0964fbd470a2ee7116d33b96946c633999   \n",
       "256748  18336f0964fbd470a2ee7116d33b96946c633999   \n",
       "\n",
       "                                          ssid_1  \\\n",
       "0       f44fa6118fed7198296c8b45b2f2684903d99620   \n",
       "1       f44fa6118fed7198296c8b45b2f2684903d99620   \n",
       "2       356d66c73c423be835bd5d07cb1ebdfa821d8e23   \n",
       "3       f44fa6118fed7198296c8b45b2f2684903d99620   \n",
       "4       356d66c73c423be835bd5d07cb1ebdfa821d8e23   \n",
       "...                                          ...   \n",
       "256744  072159287058774aa9b450c9163129b309bc982b   \n",
       "256745  18336f0964fbd470a2ee7116d33b96946c633999   \n",
       "256746  18336f0964fbd470a2ee7116d33b96946c633999   \n",
       "256747  18336f0964fbd470a2ee7116d33b96946c633999   \n",
       "256748  90ef6526fa145d95dc065edc3b3a3193406f3ee4   \n",
       "\n",
       "                                          ssid_2  \\\n",
       "0       c3513a636d1a813db081a2ffc33f297b4fefe28d   \n",
       "1       c3513a636d1a813db081a2ffc33f297b4fefe28d   \n",
       "2       8aed75f7c344e6a3d4916750029dd4ee47c1e7c5   \n",
       "3       5a368e0bd5050bdb4653dc39c86bee1fd2b8aeb7   \n",
       "4       990847ae755de95a44c7b1be54e66f4e56fdc7f4   \n",
       "...                                          ...   \n",
       "256744  18336f0964fbd470a2ee7116d33b96946c633999   \n",
       "256745  072159287058774aa9b450c9163129b309bc982b   \n",
       "256746  072159287058774aa9b450c9163129b309bc982b   \n",
       "256747  072159287058774aa9b450c9163129b309bc982b   \n",
       "256748  040667e2fdd3a9bbb54e970c430ad6f08416c52e   \n",
       "\n",
       "                                          ssid_3  \\\n",
       "0       990847ae755de95a44c7b1be54e66f4e56fdc7f4   \n",
       "1       990847ae755de95a44c7b1be54e66f4e56fdc7f4   \n",
       "2       c3513a636d1a813db081a2ffc33f297b4fefe28d   \n",
       "3       990847ae755de95a44c7b1be54e66f4e56fdc7f4   \n",
       "4       c3513a636d1a813db081a2ffc33f297b4fefe28d   \n",
       "...                                          ...   \n",
       "256744  1a04593c547b59266cbf0e599f87cda4f67c5ad4   \n",
       "256745  072159287058774aa9b450c9163129b309bc982b   \n",
       "256746  ea9e102c49dbc834b1059c5e8b5dc4a017a82dff   \n",
       "256747  040667e2fdd3a9bbb54e970c430ad6f08416c52e   \n",
       "256748  18336f0964fbd470a2ee7116d33b96946c633999   \n",
       "\n",
       "                                          ssid_4  \\\n",
       "0       4e601619b7c7d9df8d61490ad2c134f08ea01d61   \n",
       "1       d839a45ebe64ab48b60a407d837fb01d3c0dfef9   \n",
       "2       5a368e0bd5050bdb4653dc39c86bee1fd2b8aeb7   \n",
       "3       da39a3ee5e6b4b0d3255bfef95601890afd80709   \n",
       "4       d839a45ebe64ab48b60a407d837fb01d3c0dfef9   \n",
       "...                                          ...   \n",
       "256744  040667e2fdd3a9bbb54e970c430ad6f08416c52e   \n",
       "256745  ea9e102c49dbc834b1059c5e8b5dc4a017a82dff   \n",
       "256746  072159287058774aa9b450c9163129b309bc982b   \n",
       "256747  da39a3ee5e6b4b0d3255bfef95601890afd80709   \n",
       "256748  da39a3ee5e6b4b0d3255bfef95601890afd80709   \n",
       "\n",
       "                                          ssid_5  \\\n",
       "0       c3513a636d1a813db081a2ffc33f297b4fefe28d   \n",
       "1       b7e6027447eb1f81327d66cfd3adbe557aabf26c   \n",
       "2       4e601619b7c7d9df8d61490ad2c134f08ea01d61   \n",
       "3       b6ffe5619e02871fcd04f61c9bb4b5c53a3f46b7   \n",
       "4       b7e6027447eb1f81327d66cfd3adbe557aabf26c   \n",
       "...                                          ...   \n",
       "256744  da39a3ee5e6b4b0d3255bfef95601890afd80709   \n",
       "256745  040667e2fdd3a9bbb54e970c430ad6f08416c52e   \n",
       "256746  040667e2fdd3a9bbb54e970c430ad6f08416c52e   \n",
       "256747  072159287058774aa9b450c9163129b309bc982b   \n",
       "256748  072159287058774aa9b450c9163129b309bc982b   \n",
       "\n",
       "                                          ssid_6  \\\n",
       "0       5a368e0bd5050bdb4653dc39c86bee1fd2b8aeb7   \n",
       "1       7182afc4e5c212133d5d7d76eb3df6c24618302b   \n",
       "2       2ce029b3a3dea973a44bf0587be5e2b93a74e5f1   \n",
       "3       b7e6027447eb1f81327d66cfd3adbe557aabf26c   \n",
       "4       7182afc4e5c212133d5d7d76eb3df6c24618302b   \n",
       "...                                          ...   \n",
       "256744  072159287058774aa9b450c9163129b309bc982b   \n",
       "256745  da39a3ee5e6b4b0d3255bfef95601890afd80709   \n",
       "256746  1f09251bbfadafb11c63c87963af25238d6bc886   \n",
       "256747  90ef6526fa145d95dc065edc3b3a3193406f3ee4   \n",
       "256748  ea9e102c49dbc834b1059c5e8b5dc4a017a82dff   \n",
       "\n",
       "                                          ssid_7  \\\n",
       "0       b14c56d7cd73a5b026fc118c671e24dc2ba2558b   \n",
       "1       da39a3ee5e6b4b0d3255bfef95601890afd80709   \n",
       "2       b14c56d7cd73a5b026fc118c671e24dc2ba2558b   \n",
       "3       3fa90121039c7b6e24ae985d228e0366ae15fba4   \n",
       "4       b9f0208be00bd8b337be7f12e02e3a3ce846e22b   \n",
       "...                                          ...   \n",
       "256744  da39a3ee5e6b4b0d3255bfef95601890afd80709   \n",
       "256745  da39a3ee5e6b4b0d3255bfef95601890afd80709   \n",
       "256746  da39a3ee5e6b4b0d3255bfef95601890afd80709   \n",
       "256747  ea9e102c49dbc834b1059c5e8b5dc4a017a82dff   \n",
       "256748  072159287058774aa9b450c9163129b309bc982b   \n",
       "\n",
       "                                          ssid_8  \\\n",
       "0       d839a45ebe64ab48b60a407d837fb01d3c0dfef9   \n",
       "1       b9f0208be00bd8b337be7f12e02e3a3ce846e22b   \n",
       "2       3fa90121039c7b6e24ae985d228e0366ae15fba4   \n",
       "3       d839a45ebe64ab48b60a407d837fb01d3c0dfef9   \n",
       "4       b6ffe5619e02871fcd04f61c9bb4b5c53a3f46b7   \n",
       "...                                          ...   \n",
       "256744  da39a3ee5e6b4b0d3255bfef95601890afd80709   \n",
       "256745  da39a3ee5e6b4b0d3255bfef95601890afd80709   \n",
       "256746  da39a3ee5e6b4b0d3255bfef95601890afd80709   \n",
       "256747  1f09251bbfadafb11c63c87963af25238d6bc886   \n",
       "256748  1f09251bbfadafb11c63c87963af25238d6bc886   \n",
       "\n",
       "                                          ssid_9  ... timediff_97 timediff_98  \\\n",
       "0       7182afc4e5c212133d5d7d76eb3df6c24618302b  ...       832.0     16759.0   \n",
       "1       b6ffe5619e02871fcd04f61c9bb4b5c53a3f46b7  ...      2929.0      2927.0   \n",
       "2       3745dc080c9396d2317f4c05d7141c1df83acf9d  ...      2259.0      4671.0   \n",
       "3       d839a45ebe64ab48b60a407d837fb01d3c0dfef9  ...      6614.0      6616.0   \n",
       "4       8aed75f7c344e6a3d4916750029dd4ee47c1e7c5  ...     14537.0     14538.0   \n",
       "...                                          ...  ...         ...         ...   \n",
       "256744  da39a3ee5e6b4b0d3255bfef95601890afd80709  ...         NaN         NaN   \n",
       "256745  ea9e102c49dbc834b1059c5e8b5dc4a017a82dff  ...         NaN         NaN   \n",
       "256746  da39a3ee5e6b4b0d3255bfef95601890afd80709  ...         NaN         NaN   \n",
       "256747  da39a3ee5e6b4b0d3255bfef95601890afd80709  ...         NaN         NaN   \n",
       "256748  da39a3ee5e6b4b0d3255bfef95601890afd80709  ...         NaN         NaN   \n",
       "\n",
       "       timediff_99      timestamp          x           y floor floor_str  \\\n",
       "0            600.0  1578466132778  114.33501  156.842240  -1.0        B1   \n",
       "1           2930.0  1578466132778  114.33501  156.842240  -1.0        B1   \n",
       "2           2258.0  1578466132778  114.33501  156.842240  -1.0        B1   \n",
       "3           6612.0  1578466132778  114.33501  156.842240  -1.0        B1   \n",
       "4           8323.0  1578466149574  106.65901  154.629520  -1.0        B1   \n",
       "...            ...            ...        ...         ...   ...       ...   \n",
       "256744         NaN  1573892863738  126.63109  107.011640   6.0        F7   \n",
       "256745         NaN  1573892868972  131.79286  111.526085   6.0        F7   \n",
       "256746         NaN  1573892868972  131.79286  111.526085   6.0        F7   \n",
       "256747         NaN  1573892874306  136.65004  116.407990   6.0        F7   \n",
       "256748         NaN  1573892874306  136.65004  116.407990   6.0        F7   \n",
       "\n",
       "                            path                   site_id  \n",
       "0       5e1580d1f4c3420006d520e4  5a0546857ecc773753327266  \n",
       "1       5e1580d1f4c3420006d520e4  5a0546857ecc773753327266  \n",
       "2       5e1580d1f4c3420006d520e4  5a0546857ecc773753327266  \n",
       "3       5e1580d1f4c3420006d520e4  5a0546857ecc773753327266  \n",
       "4       5e1580d1f4c3420006d520e4  5a0546857ecc773753327266  \n",
       "...                          ...                       ...  \n",
       "256744  5dcfb393878f3300066c70a6  5dc8cea7659e181adb076a3f  \n",
       "256745  5dcfb393878f3300066c70a6  5dc8cea7659e181adb076a3f  \n",
       "256746  5dcfb393878f3300066c70a6  5dc8cea7659e181adb076a3f  \n",
       "256747  5dcfb393878f3300066c70a6  5dc8cea7659e181adb076a3f  \n",
       "256748  5dcfb393878f3300066c70a6  5dc8cea7659e181adb076a3f  \n",
       "\n",
       "[256749 rows x 507 columns]"
      ],
      "text/html": "<div>\n<style scoped>\n    .dataframe tbody tr th:only-of-type {\n        vertical-align: middle;\n    }\n\n    .dataframe tbody tr th {\n        vertical-align: top;\n    }\n\n    .dataframe thead th {\n        text-align: right;\n    }\n</style>\n<table border=\"1\" class=\"dataframe\">\n  <thead>\n    <tr style=\"text-align: right;\">\n      <th></th>\n      <th>ssid_0</th>\n      <th>ssid_1</th>\n      <th>ssid_2</th>\n      <th>ssid_3</th>\n      <th>ssid_4</th>\n      <th>ssid_5</th>\n      <th>ssid_6</th>\n      <th>ssid_7</th>\n      <th>ssid_8</th>\n      <th>ssid_9</th>\n      <th>...</th>\n      <th>timediff_97</th>\n      <th>timediff_98</th>\n      <th>timediff_99</th>\n      <th>timestamp</th>\n      <th>x</th>\n      <th>y</th>\n      <th>floor</th>\n      <th>floor_str</th>\n      <th>path</th>\n      <th>site_id</th>\n    </tr>\n  </thead>\n  <tbody>\n    <tr>\n      <th>0</th>\n      <td>356d66c73c423be835bd5d07cb1ebdfa821d8e23</td>\n      <td>f44fa6118fed7198296c8b45b2f2684903d99620</td>\n      <td>c3513a636d1a813db081a2ffc33f297b4fefe28d</td>\n      <td>990847ae755de95a44c7b1be54e66f4e56fdc7f4</td>\n      <td>4e601619b7c7d9df8d61490ad2c134f08ea01d61</td>\n      <td>c3513a636d1a813db081a2ffc33f297b4fefe28d</td>\n      <td>5a368e0bd5050bdb4653dc39c86bee1fd2b8aeb7</td>\n      <td>b14c56d7cd73a5b026fc118c671e24dc2ba2558b</td>\n      <td>d839a45ebe64ab48b60a407d837fb01d3c0dfef9</td>\n      <td>7182afc4e5c212133d5d7d76eb3df6c24618302b</td>\n      <td>...</td>\n      <td>832.0</td>\n      <td>16759.0</td>\n      <td>600.0</td>\n      <td>1578466132778</td>\n      <td>114.33501</td>\n      <td>156.842240</td>\n      <td>-1.0</td>\n      <td>B1</td>\n      <td>5e1580d1f4c3420006d520e4</td>\n      <td>5a0546857ecc773753327266</td>\n    </tr>\n    <tr>\n      <th>1</th>\n      <td>356d66c73c423be835bd5d07cb1ebdfa821d8e23</td>\n      <td>f44fa6118fed7198296c8b45b2f2684903d99620</td>\n      <td>c3513a636d1a813db081a2ffc33f297b4fefe28d</td>\n      <td>990847ae755de95a44c7b1be54e66f4e56fdc7f4</td>\n      <td>d839a45ebe64ab48b60a407d837fb01d3c0dfef9</td>\n      <td>b7e6027447eb1f81327d66cfd3adbe557aabf26c</td>\n      <td>7182afc4e5c212133d5d7d76eb3df6c24618302b</td>\n      <td>da39a3ee5e6b4b0d3255bfef95601890afd80709</td>\n      <td>b9f0208be00bd8b337be7f12e02e3a3ce846e22b</td>\n      <td>b6ffe5619e02871fcd04f61c9bb4b5c53a3f46b7</td>\n      <td>...</td>\n      <td>2929.0</td>\n      <td>2927.0</td>\n      <td>2930.0</td>\n      <td>1578466132778</td>\n      <td>114.33501</td>\n      <td>156.842240</td>\n      <td>-1.0</td>\n      <td>B1</td>\n      <td>5e1580d1f4c3420006d520e4</td>\n      <td>5a0546857ecc773753327266</td>\n    </tr>\n    <tr>\n      <th>2</th>\n      <td>f44fa6118fed7198296c8b45b2f2684903d99620</td>\n      <td>356d66c73c423be835bd5d07cb1ebdfa821d8e23</td>\n      <td>8aed75f7c344e6a3d4916750029dd4ee47c1e7c5</td>\n      <td>c3513a636d1a813db081a2ffc33f297b4fefe28d</td>\n      <td>5a368e0bd5050bdb4653dc39c86bee1fd2b8aeb7</td>\n      <td>4e601619b7c7d9df8d61490ad2c134f08ea01d61</td>\n      <td>2ce029b3a3dea973a44bf0587be5e2b93a74e5f1</td>\n      <td>b14c56d7cd73a5b026fc118c671e24dc2ba2558b</td>\n      <td>3fa90121039c7b6e24ae985d228e0366ae15fba4</td>\n      <td>3745dc080c9396d2317f4c05d7141c1df83acf9d</td>\n      <td>...</td>\n      <td>2259.0</td>\n      <td>4671.0</td>\n      <td>2258.0</td>\n      <td>1578466132778</td>\n      <td>114.33501</td>\n      <td>156.842240</td>\n      <td>-1.0</td>\n      <td>B1</td>\n      <td>5e1580d1f4c3420006d520e4</td>\n      <td>5a0546857ecc773753327266</td>\n    </tr>\n    <tr>\n      <th>3</th>\n      <td>356d66c73c423be835bd5d07cb1ebdfa821d8e23</td>\n      <td>f44fa6118fed7198296c8b45b2f2684903d99620</td>\n      <td>5a368e0bd5050bdb4653dc39c86bee1fd2b8aeb7</td>\n      <td>990847ae755de95a44c7b1be54e66f4e56fdc7f4</td>\n      <td>da39a3ee5e6b4b0d3255bfef95601890afd80709</td>\n      <td>b6ffe5619e02871fcd04f61c9bb4b5c53a3f46b7</td>\n      <td>b7e6027447eb1f81327d66cfd3adbe557aabf26c</td>\n      <td>3fa90121039c7b6e24ae985d228e0366ae15fba4</td>\n      <td>d839a45ebe64ab48b60a407d837fb01d3c0dfef9</td>\n      <td>d839a45ebe64ab48b60a407d837fb01d3c0dfef9</td>\n      <td>...</td>\n      <td>6614.0</td>\n      <td>6616.0</td>\n      <td>6612.0</td>\n      <td>1578466132778</td>\n      <td>114.33501</td>\n      <td>156.842240</td>\n      <td>-1.0</td>\n      <td>B1</td>\n      <td>5e1580d1f4c3420006d520e4</td>\n      <td>5a0546857ecc773753327266</td>\n    </tr>\n    <tr>\n      <th>4</th>\n      <td>f44fa6118fed7198296c8b45b2f2684903d99620</td>\n      <td>356d66c73c423be835bd5d07cb1ebdfa821d8e23</td>\n      <td>990847ae755de95a44c7b1be54e66f4e56fdc7f4</td>\n      <td>c3513a636d1a813db081a2ffc33f297b4fefe28d</td>\n      <td>d839a45ebe64ab48b60a407d837fb01d3c0dfef9</td>\n      <td>b7e6027447eb1f81327d66cfd3adbe557aabf26c</td>\n      <td>7182afc4e5c212133d5d7d76eb3df6c24618302b</td>\n      <td>b9f0208be00bd8b337be7f12e02e3a3ce846e22b</td>\n      <td>b6ffe5619e02871fcd04f61c9bb4b5c53a3f46b7</td>\n      <td>8aed75f7c344e6a3d4916750029dd4ee47c1e7c5</td>\n      <td>...</td>\n      <td>14537.0</td>\n      <td>14538.0</td>\n      <td>8323.0</td>\n      <td>1578466149574</td>\n      <td>106.65901</td>\n      <td>154.629520</td>\n      <td>-1.0</td>\n      <td>B1</td>\n      <td>5e1580d1f4c3420006d520e4</td>\n      <td>5a0546857ecc773753327266</td>\n    </tr>\n    <tr>\n      <th>...</th>\n      <td>...</td>\n      <td>...</td>\n      <td>...</td>\n      <td>...</td>\n      <td>...</td>\n      <td>...</td>\n      <td>...</td>\n      <td>...</td>\n      <td>...</td>\n      <td>...</td>\n      <td>...</td>\n      <td>...</td>\n      <td>...</td>\n      <td>...</td>\n      <td>...</td>\n      <td>...</td>\n      <td>...</td>\n      <td>...</td>\n      <td>...</td>\n      <td>...</td>\n      <td>...</td>\n    </tr>\n    <tr>\n      <th>256744</th>\n      <td>18336f0964fbd470a2ee7116d33b96946c633999</td>\n      <td>072159287058774aa9b450c9163129b309bc982b</td>\n      <td>18336f0964fbd470a2ee7116d33b96946c633999</td>\n      <td>1a04593c547b59266cbf0e599f87cda4f67c5ad4</td>\n      <td>040667e2fdd3a9bbb54e970c430ad6f08416c52e</td>\n      <td>da39a3ee5e6b4b0d3255bfef95601890afd80709</td>\n      <td>072159287058774aa9b450c9163129b309bc982b</td>\n      <td>da39a3ee5e6b4b0d3255bfef95601890afd80709</td>\n      <td>da39a3ee5e6b4b0d3255bfef95601890afd80709</td>\n      <td>da39a3ee5e6b4b0d3255bfef95601890afd80709</td>\n      <td>...</td>\n      <td>NaN</td>\n      <td>NaN</td>\n      <td>NaN</td>\n      <td>1573892863738</td>\n      <td>126.63109</td>\n      <td>107.011640</td>\n      <td>6.0</td>\n      <td>F7</td>\n      <td>5dcfb393878f3300066c70a6</td>\n      <td>5dc8cea7659e181adb076a3f</td>\n    </tr>\n    <tr>\n      <th>256745</th>\n      <td>18336f0964fbd470a2ee7116d33b96946c633999</td>\n      <td>18336f0964fbd470a2ee7116d33b96946c633999</td>\n      <td>072159287058774aa9b450c9163129b309bc982b</td>\n      <td>072159287058774aa9b450c9163129b309bc982b</td>\n      <td>ea9e102c49dbc834b1059c5e8b5dc4a017a82dff</td>\n      <td>040667e2fdd3a9bbb54e970c430ad6f08416c52e</td>\n      <td>da39a3ee5e6b4b0d3255bfef95601890afd80709</td>\n      <td>da39a3ee5e6b4b0d3255bfef95601890afd80709</td>\n      <td>da39a3ee5e6b4b0d3255bfef95601890afd80709</td>\n      <td>ea9e102c49dbc834b1059c5e8b5dc4a017a82dff</td>\n      <td>...</td>\n      <td>NaN</td>\n      <td>NaN</td>\n      <td>NaN</td>\n      <td>1573892868972</td>\n      <td>131.79286</td>\n      <td>111.526085</td>\n      <td>6.0</td>\n      <td>F7</td>\n      <td>5dcfb393878f3300066c70a6</td>\n      <td>5dc8cea7659e181adb076a3f</td>\n    </tr>\n    <tr>\n      <th>256746</th>\n      <td>18336f0964fbd470a2ee7116d33b96946c633999</td>\n      <td>18336f0964fbd470a2ee7116d33b96946c633999</td>\n      <td>072159287058774aa9b450c9163129b309bc982b</td>\n      <td>ea9e102c49dbc834b1059c5e8b5dc4a017a82dff</td>\n      <td>072159287058774aa9b450c9163129b309bc982b</td>\n      <td>040667e2fdd3a9bbb54e970c430ad6f08416c52e</td>\n      <td>1f09251bbfadafb11c63c87963af25238d6bc886</td>\n      <td>da39a3ee5e6b4b0d3255bfef95601890afd80709</td>\n      <td>da39a3ee5e6b4b0d3255bfef95601890afd80709</td>\n      <td>da39a3ee5e6b4b0d3255bfef95601890afd80709</td>\n      <td>...</td>\n      <td>NaN</td>\n      <td>NaN</td>\n      <td>NaN</td>\n      <td>1573892868972</td>\n      <td>131.79286</td>\n      <td>111.526085</td>\n      <td>6.0</td>\n      <td>F7</td>\n      <td>5dcfb393878f3300066c70a6</td>\n      <td>5dc8cea7659e181adb076a3f</td>\n    </tr>\n    <tr>\n      <th>256747</th>\n      <td>18336f0964fbd470a2ee7116d33b96946c633999</td>\n      <td>18336f0964fbd470a2ee7116d33b96946c633999</td>\n      <td>072159287058774aa9b450c9163129b309bc982b</td>\n      <td>040667e2fdd3a9bbb54e970c430ad6f08416c52e</td>\n      <td>da39a3ee5e6b4b0d3255bfef95601890afd80709</td>\n      <td>072159287058774aa9b450c9163129b309bc982b</td>\n      <td>90ef6526fa145d95dc065edc3b3a3193406f3ee4</td>\n      <td>ea9e102c49dbc834b1059c5e8b5dc4a017a82dff</td>\n      <td>1f09251bbfadafb11c63c87963af25238d6bc886</td>\n      <td>da39a3ee5e6b4b0d3255bfef95601890afd80709</td>\n      <td>...</td>\n      <td>NaN</td>\n      <td>NaN</td>\n      <td>NaN</td>\n      <td>1573892874306</td>\n      <td>136.65004</td>\n      <td>116.407990</td>\n      <td>6.0</td>\n      <td>F7</td>\n      <td>5dcfb393878f3300066c70a6</td>\n      <td>5dc8cea7659e181adb076a3f</td>\n    </tr>\n    <tr>\n      <th>256748</th>\n      <td>18336f0964fbd470a2ee7116d33b96946c633999</td>\n      <td>90ef6526fa145d95dc065edc3b3a3193406f3ee4</td>\n      <td>040667e2fdd3a9bbb54e970c430ad6f08416c52e</td>\n      <td>18336f0964fbd470a2ee7116d33b96946c633999</td>\n      <td>da39a3ee5e6b4b0d3255bfef95601890afd80709</td>\n      <td>072159287058774aa9b450c9163129b309bc982b</td>\n      <td>ea9e102c49dbc834b1059c5e8b5dc4a017a82dff</td>\n      <td>072159287058774aa9b450c9163129b309bc982b</td>\n      <td>1f09251bbfadafb11c63c87963af25238d6bc886</td>\n      <td>da39a3ee5e6b4b0d3255bfef95601890afd80709</td>\n      <td>...</td>\n      <td>NaN</td>\n      <td>NaN</td>\n      <td>NaN</td>\n      <td>1573892874306</td>\n      <td>136.65004</td>\n      <td>116.407990</td>\n      <td>6.0</td>\n      <td>F7</td>\n      <td>5dcfb393878f3300066c70a6</td>\n      <td>5dc8cea7659e181adb076a3f</td>\n    </tr>\n  </tbody>\n</table>\n<p>256749 rows × 507 columns</p>\n</div>"
     },
     "metadata": {},
     "execution_count": 7
    }
   ],
   "source": [
    "train_df"
   ]
  },
  {
   "cell_type": "code",
   "execution_count": 8,
   "metadata": {},
   "outputs": [
    {
     "output_type": "execute_result",
     "data": {
      "text/plain": [
       "                                         ssid_0  \\\n",
       "0      da39a3ee5e6b4b0d3255bfef95601890afd80709   \n",
       "1      da39a3ee5e6b4b0d3255bfef95601890afd80709   \n",
       "2      b6ffe5619e02871fcd04f61c9bb4b5c53a3f46b7   \n",
       "3      da39a3ee5e6b4b0d3255bfef95601890afd80709   \n",
       "4      da39a3ee5e6b4b0d3255bfef95601890afd80709   \n",
       "...                                         ...   \n",
       "10128  0f927dce74ec3475c7a39299e5bffab222ca665d   \n",
       "10129  8e69018f6343506344ab13646ccd9447fc2ffb19   \n",
       "10130  8e69018f6343506344ab13646ccd9447fc2ffb19   \n",
       "10131  5d998a8668536c4f51004c25f474117fe9555f78   \n",
       "10132  aa449fabc4dcb24836d950b5cff91f08e574c3a7   \n",
       "\n",
       "                                         ssid_1  \\\n",
       "0      b9f0208be00bd8b337be7f12e02e3a3ce846e22b   \n",
       "1      d839a45ebe64ab48b60a407d837fb01d3c0dfef9   \n",
       "2      da39a3ee5e6b4b0d3255bfef95601890afd80709   \n",
       "3      da39a3ee5e6b4b0d3255bfef95601890afd80709   \n",
       "4      da39a3ee5e6b4b0d3255bfef95601890afd80709   \n",
       "...                                         ...   \n",
       "10128  5d998a8668536c4f51004c25f474117fe9555f78   \n",
       "10129  0f927dce74ec3475c7a39299e5bffab222ca665d   \n",
       "10130  5d998a8668536c4f51004c25f474117fe9555f78   \n",
       "10131  8e69018f6343506344ab13646ccd9447fc2ffb19   \n",
       "10132  5d998a8668536c4f51004c25f474117fe9555f78   \n",
       "\n",
       "                                         ssid_2  \\\n",
       "0      ab150ecf6d972b476aeab16317bed6189d9f7cce   \n",
       "1      b6ffe5619e02871fcd04f61c9bb4b5c53a3f46b7   \n",
       "2      b7e6027447eb1f81327d66cfd3adbe557aabf26c   \n",
       "3      b9f0208be00bd8b337be7f12e02e3a3ce846e22b   \n",
       "4      da39a3ee5e6b4b0d3255bfef95601890afd80709   \n",
       "...                                         ...   \n",
       "10128  8e69018f6343506344ab13646ccd9447fc2ffb19   \n",
       "10129  efa1fe97c4b2a6c57d98de9c236a109032ceb839   \n",
       "10130  8e69018f6343506344ab13646ccd9447fc2ffb19   \n",
       "10131  5d998a8668536c4f51004c25f474117fe9555f78   \n",
       "10132  da39a3ee5e6b4b0d3255bfef95601890afd80709   \n",
       "\n",
       "                                         ssid_3  \\\n",
       "0      b6ffe5619e02871fcd04f61c9bb4b5c53a3f46b7   \n",
       "1      b7e6027447eb1f81327d66cfd3adbe557aabf26c   \n",
       "2      d839a45ebe64ab48b60a407d837fb01d3c0dfef9   \n",
       "3      d839a45ebe64ab48b60a407d837fb01d3c0dfef9   \n",
       "4      7182afc4e5c212133d5d7d76eb3df6c24618302b   \n",
       "...                                         ...   \n",
       "10128  efa1fe97c4b2a6c57d98de9c236a109032ceb839   \n",
       "10129  da39a3ee5e6b4b0d3255bfef95601890afd80709   \n",
       "10130  5d998a8668536c4f51004c25f474117fe9555f78   \n",
       "10131  8e69018f6343506344ab13646ccd9447fc2ffb19   \n",
       "10132  da39a3ee5e6b4b0d3255bfef95601890afd80709   \n",
       "\n",
       "                                         ssid_4  \\\n",
       "0      da39a3ee5e6b4b0d3255bfef95601890afd80709   \n",
       "1      d839a45ebe64ab48b60a407d837fb01d3c0dfef9   \n",
       "2      7182afc4e5c212133d5d7d76eb3df6c24618302b   \n",
       "3      b6ffe5619e02871fcd04f61c9bb4b5c53a3f46b7   \n",
       "4      b9f0208be00bd8b337be7f12e02e3a3ce846e22b   \n",
       "...                                         ...   \n",
       "10128  da39a3ee5e6b4b0d3255bfef95601890afd80709   \n",
       "10129  5d998a8668536c4f51004c25f474117fe9555f78   \n",
       "10130  c72257cf75d6a411225948bbc4e37ad554e7beda   \n",
       "10131  da39a3ee5e6b4b0d3255bfef95601890afd80709   \n",
       "10132  6381b3137285875eda5bc77d9b8cc7650f0f5d7d   \n",
       "\n",
       "                                         ssid_5  \\\n",
       "0      b7e6027447eb1f81327d66cfd3adbe557aabf26c   \n",
       "1      7182afc4e5c212133d5d7d76eb3df6c24618302b   \n",
       "2      b9f0208be00bd8b337be7f12e02e3a3ce846e22b   \n",
       "3      b7e6027447eb1f81327d66cfd3adbe557aabf26c   \n",
       "4      b6ffe5619e02871fcd04f61c9bb4b5c53a3f46b7   \n",
       "...                                         ...   \n",
       "10128  5d998a8668536c4f51004c25f474117fe9555f78   \n",
       "10129  5d998a8668536c4f51004c25f474117fe9555f78   \n",
       "10130  da39a3ee5e6b4b0d3255bfef95601890afd80709   \n",
       "10131  aa449fabc4dcb24836d950b5cff91f08e574c3a7   \n",
       "10132  efa1fe97c4b2a6c57d98de9c236a109032ceb839   \n",
       "\n",
       "                                         ssid_6  \\\n",
       "0      d839a45ebe64ab48b60a407d837fb01d3c0dfef9   \n",
       "1      b9f0208be00bd8b337be7f12e02e3a3ce846e22b   \n",
       "2      da39a3ee5e6b4b0d3255bfef95601890afd80709   \n",
       "3      b7e6027447eb1f81327d66cfd3adbe557aabf26c   \n",
       "4      b7e6027447eb1f81327d66cfd3adbe557aabf26c   \n",
       "...                                         ...   \n",
       "10128  c72257cf75d6a411225948bbc4e37ad554e7beda   \n",
       "10129  da39a3ee5e6b4b0d3255bfef95601890afd80709   \n",
       "10130  5d998a8668536c4f51004c25f474117fe9555f78   \n",
       "10131  c72257cf75d6a411225948bbc4e37ad554e7beda   \n",
       "10132  0eb4ecd03a3128e62bdff60e6f686d88e783441e   \n",
       "\n",
       "                                         ssid_7  \\\n",
       "0      7182afc4e5c212133d5d7d76eb3df6c24618302b   \n",
       "1      7182afc4e5c212133d5d7d76eb3df6c24618302b   \n",
       "2      b9f0208be00bd8b337be7f12e02e3a3ce846e22b   \n",
       "3      7182afc4e5c212133d5d7d76eb3df6c24618302b   \n",
       "4      26571eb257b6a34b6beb93c05768e751d19279a6   \n",
       "...                                         ...   \n",
       "10128  da39a3ee5e6b4b0d3255bfef95601890afd80709   \n",
       "10129  8e69018f6343506344ab13646ccd9447fc2ffb19   \n",
       "10130  da39a3ee5e6b4b0d3255bfef95601890afd80709   \n",
       "10131  da39a3ee5e6b4b0d3255bfef95601890afd80709   \n",
       "10132  8e69018f6343506344ab13646ccd9447fc2ffb19   \n",
       "\n",
       "                                         ssid_8  \\\n",
       "0      da39a3ee5e6b4b0d3255bfef95601890afd80709   \n",
       "1      b7e6027447eb1f81327d66cfd3adbe557aabf26c   \n",
       "2      b6ffe5619e02871fcd04f61c9bb4b5c53a3f46b7   \n",
       "3      5731b8e08abc69d4c4d685c58164059207c93310   \n",
       "4      d839a45ebe64ab48b60a407d837fb01d3c0dfef9   \n",
       "...                                         ...   \n",
       "10128  5d998a8668536c4f51004c25f474117fe9555f78   \n",
       "10129  5d998a8668536c4f51004c25f474117fe9555f78   \n",
       "10130  5d998a8668536c4f51004c25f474117fe9555f78   \n",
       "10131  efa1fe97c4b2a6c57d98de9c236a109032ceb839   \n",
       "10132  0f927dce74ec3475c7a39299e5bffab222ca665d   \n",
       "\n",
       "                                         ssid_9  ... timediff_94 timediff_95  \\\n",
       "0      01e78c97f2c04cdbc7c4159158bb125a9bb558ff  ...      1748.0      1749.0   \n",
       "1      b6ffe5619e02871fcd04f61c9bb4b5c53a3f46b7  ...      3245.0     18272.0   \n",
       "2      d839a45ebe64ab48b60a407d837fb01d3c0dfef9  ...      4885.0      1701.0   \n",
       "3      d839a45ebe64ab48b60a407d837fb01d3c0dfef9  ...      8098.0        19.0   \n",
       "4      d839a45ebe64ab48b60a407d837fb01d3c0dfef9  ...     16607.0      2013.0   \n",
       "...                                         ...  ...         ...         ...   \n",
       "10128  da39a3ee5e6b4b0d3255bfef95601890afd80709  ...      3783.0      3788.0   \n",
       "10129  0eb4ecd03a3128e62bdff60e6f686d88e783441e  ...      6687.0      8220.0   \n",
       "10130  5d998a8668536c4f51004c25f474117fe9555f78  ...       357.0       515.0   \n",
       "10131  6381b3137285875eda5bc77d9b8cc7650f0f5d7d  ...       108.0       478.0   \n",
       "10132  da39a3ee5e6b4b0d3255bfef95601890afd80709  ...     13156.0      1360.0   \n",
       "\n",
       "      timediff_96 timediff_97 timediff_98 timediff_99      timestamp  \\\n",
       "0          1374.0      1375.0      9179.0     15614.0  1578474563646   \n",
       "1           354.0       353.0       359.0       353.0  1578474572654   \n",
       "2          1702.0      1702.0      9442.0      9441.0  1578474578963   \n",
       "3            19.0       399.0       704.0      8322.0  1578474582400   \n",
       "4          1095.0      1091.0       645.0       647.0  1578474585965   \n",
       "...           ...         ...         ...         ...            ...   \n",
       "10128      7589.0      7774.0      3517.0      1409.0  1573731143256   \n",
       "10129      3158.0      2966.0       533.0      3074.0  1573731146426   \n",
       "10130       388.0      9308.0      7774.0       357.0  1573731151563   \n",
       "10131       478.0       212.0      8588.0       479.0  1573731157567   \n",
       "10132      1844.0      3331.0      3760.0      1839.0  1573731161115   \n",
       "\n",
       "                           path                   site_id  \\\n",
       "0      046cfa46be49fc10834815c6  5a0546857ecc773753327266   \n",
       "1      046cfa46be49fc10834815c6  5a0546857ecc773753327266   \n",
       "2      046cfa46be49fc10834815c6  5a0546857ecc773753327266   \n",
       "3      046cfa46be49fc10834815c6  5a0546857ecc773753327266   \n",
       "4      046cfa46be49fc10834815c6  5a0546857ecc773753327266   \n",
       "...                         ...                       ...   \n",
       "10128  fd64de8c4a2fc5ebb0e9f412  5dc8cea7659e181adb076a3f   \n",
       "10129  fd64de8c4a2fc5ebb0e9f412  5dc8cea7659e181adb076a3f   \n",
       "10130  fd64de8c4a2fc5ebb0e9f412  5dc8cea7659e181adb076a3f   \n",
       "10131  fd64de8c4a2fc5ebb0e9f412  5dc8cea7659e181adb076a3f   \n",
       "10132  fd64de8c4a2fc5ebb0e9f412  5dc8cea7659e181adb076a3f   \n",
       "\n",
       "                                     site_path_timestamp  \n",
       "0      5a0546857ecc773753327266_046cfa46be49fc1083481...  \n",
       "1      5a0546857ecc773753327266_046cfa46be49fc1083481...  \n",
       "2      5a0546857ecc773753327266_046cfa46be49fc1083481...  \n",
       "3      5a0546857ecc773753327266_046cfa46be49fc1083481...  \n",
       "4      5a0546857ecc773753327266_046cfa46be49fc1083481...  \n",
       "...                                                  ...  \n",
       "10128  5dc8cea7659e181adb076a3f_fd64de8c4a2fc5ebb0e9f...  \n",
       "10129  5dc8cea7659e181adb076a3f_fd64de8c4a2fc5ebb0e9f...  \n",
       "10130  5dc8cea7659e181adb076a3f_fd64de8c4a2fc5ebb0e9f...  \n",
       "10131  5dc8cea7659e181adb076a3f_fd64de8c4a2fc5ebb0e9f...  \n",
       "10132  5dc8cea7659e181adb076a3f_fd64de8c4a2fc5ebb0e9f...  \n",
       "\n",
       "[10133 rows x 504 columns]"
      ],
      "text/html": "<div>\n<style scoped>\n    .dataframe tbody tr th:only-of-type {\n        vertical-align: middle;\n    }\n\n    .dataframe tbody tr th {\n        vertical-align: top;\n    }\n\n    .dataframe thead th {\n        text-align: right;\n    }\n</style>\n<table border=\"1\" class=\"dataframe\">\n  <thead>\n    <tr style=\"text-align: right;\">\n      <th></th>\n      <th>ssid_0</th>\n      <th>ssid_1</th>\n      <th>ssid_2</th>\n      <th>ssid_3</th>\n      <th>ssid_4</th>\n      <th>ssid_5</th>\n      <th>ssid_6</th>\n      <th>ssid_7</th>\n      <th>ssid_8</th>\n      <th>ssid_9</th>\n      <th>...</th>\n      <th>timediff_94</th>\n      <th>timediff_95</th>\n      <th>timediff_96</th>\n      <th>timediff_97</th>\n      <th>timediff_98</th>\n      <th>timediff_99</th>\n      <th>timestamp</th>\n      <th>path</th>\n      <th>site_id</th>\n      <th>site_path_timestamp</th>\n    </tr>\n  </thead>\n  <tbody>\n    <tr>\n      <th>0</th>\n      <td>da39a3ee5e6b4b0d3255bfef95601890afd80709</td>\n      <td>b9f0208be00bd8b337be7f12e02e3a3ce846e22b</td>\n      <td>ab150ecf6d972b476aeab16317bed6189d9f7cce</td>\n      <td>b6ffe5619e02871fcd04f61c9bb4b5c53a3f46b7</td>\n      <td>da39a3ee5e6b4b0d3255bfef95601890afd80709</td>\n      <td>b7e6027447eb1f81327d66cfd3adbe557aabf26c</td>\n      <td>d839a45ebe64ab48b60a407d837fb01d3c0dfef9</td>\n      <td>7182afc4e5c212133d5d7d76eb3df6c24618302b</td>\n      <td>da39a3ee5e6b4b0d3255bfef95601890afd80709</td>\n      <td>01e78c97f2c04cdbc7c4159158bb125a9bb558ff</td>\n      <td>...</td>\n      <td>1748.0</td>\n      <td>1749.0</td>\n      <td>1374.0</td>\n      <td>1375.0</td>\n      <td>9179.0</td>\n      <td>15614.0</td>\n      <td>1578474563646</td>\n      <td>046cfa46be49fc10834815c6</td>\n      <td>5a0546857ecc773753327266</td>\n      <td>5a0546857ecc773753327266_046cfa46be49fc1083481...</td>\n    </tr>\n    <tr>\n      <th>1</th>\n      <td>da39a3ee5e6b4b0d3255bfef95601890afd80709</td>\n      <td>d839a45ebe64ab48b60a407d837fb01d3c0dfef9</td>\n      <td>b6ffe5619e02871fcd04f61c9bb4b5c53a3f46b7</td>\n      <td>b7e6027447eb1f81327d66cfd3adbe557aabf26c</td>\n      <td>d839a45ebe64ab48b60a407d837fb01d3c0dfef9</td>\n      <td>7182afc4e5c212133d5d7d76eb3df6c24618302b</td>\n      <td>b9f0208be00bd8b337be7f12e02e3a3ce846e22b</td>\n      <td>7182afc4e5c212133d5d7d76eb3df6c24618302b</td>\n      <td>b7e6027447eb1f81327d66cfd3adbe557aabf26c</td>\n      <td>b6ffe5619e02871fcd04f61c9bb4b5c53a3f46b7</td>\n      <td>...</td>\n      <td>3245.0</td>\n      <td>18272.0</td>\n      <td>354.0</td>\n      <td>353.0</td>\n      <td>359.0</td>\n      <td>353.0</td>\n      <td>1578474572654</td>\n      <td>046cfa46be49fc10834815c6</td>\n      <td>5a0546857ecc773753327266</td>\n      <td>5a0546857ecc773753327266_046cfa46be49fc1083481...</td>\n    </tr>\n    <tr>\n      <th>2</th>\n      <td>b6ffe5619e02871fcd04f61c9bb4b5c53a3f46b7</td>\n      <td>da39a3ee5e6b4b0d3255bfef95601890afd80709</td>\n      <td>b7e6027447eb1f81327d66cfd3adbe557aabf26c</td>\n      <td>d839a45ebe64ab48b60a407d837fb01d3c0dfef9</td>\n      <td>7182afc4e5c212133d5d7d76eb3df6c24618302b</td>\n      <td>b9f0208be00bd8b337be7f12e02e3a3ce846e22b</td>\n      <td>da39a3ee5e6b4b0d3255bfef95601890afd80709</td>\n      <td>b9f0208be00bd8b337be7f12e02e3a3ce846e22b</td>\n      <td>b6ffe5619e02871fcd04f61c9bb4b5c53a3f46b7</td>\n      <td>d839a45ebe64ab48b60a407d837fb01d3c0dfef9</td>\n      <td>...</td>\n      <td>4885.0</td>\n      <td>1701.0</td>\n      <td>1702.0</td>\n      <td>1702.0</td>\n      <td>9442.0</td>\n      <td>9441.0</td>\n      <td>1578474578963</td>\n      <td>046cfa46be49fc10834815c6</td>\n      <td>5a0546857ecc773753327266</td>\n      <td>5a0546857ecc773753327266_046cfa46be49fc1083481...</td>\n    </tr>\n    <tr>\n      <th>3</th>\n      <td>da39a3ee5e6b4b0d3255bfef95601890afd80709</td>\n      <td>da39a3ee5e6b4b0d3255bfef95601890afd80709</td>\n      <td>b9f0208be00bd8b337be7f12e02e3a3ce846e22b</td>\n      <td>d839a45ebe64ab48b60a407d837fb01d3c0dfef9</td>\n      <td>b6ffe5619e02871fcd04f61c9bb4b5c53a3f46b7</td>\n      <td>b7e6027447eb1f81327d66cfd3adbe557aabf26c</td>\n      <td>b7e6027447eb1f81327d66cfd3adbe557aabf26c</td>\n      <td>7182afc4e5c212133d5d7d76eb3df6c24618302b</td>\n      <td>5731b8e08abc69d4c4d685c58164059207c93310</td>\n      <td>d839a45ebe64ab48b60a407d837fb01d3c0dfef9</td>\n      <td>...</td>\n      <td>8098.0</td>\n      <td>19.0</td>\n      <td>19.0</td>\n      <td>399.0</td>\n      <td>704.0</td>\n      <td>8322.0</td>\n      <td>1578474582400</td>\n      <td>046cfa46be49fc10834815c6</td>\n      <td>5a0546857ecc773753327266</td>\n      <td>5a0546857ecc773753327266_046cfa46be49fc1083481...</td>\n    </tr>\n    <tr>\n      <th>4</th>\n      <td>da39a3ee5e6b4b0d3255bfef95601890afd80709</td>\n      <td>da39a3ee5e6b4b0d3255bfef95601890afd80709</td>\n      <td>da39a3ee5e6b4b0d3255bfef95601890afd80709</td>\n      <td>7182afc4e5c212133d5d7d76eb3df6c24618302b</td>\n      <td>b9f0208be00bd8b337be7f12e02e3a3ce846e22b</td>\n      <td>b6ffe5619e02871fcd04f61c9bb4b5c53a3f46b7</td>\n      <td>b7e6027447eb1f81327d66cfd3adbe557aabf26c</td>\n      <td>26571eb257b6a34b6beb93c05768e751d19279a6</td>\n      <td>d839a45ebe64ab48b60a407d837fb01d3c0dfef9</td>\n      <td>d839a45ebe64ab48b60a407d837fb01d3c0dfef9</td>\n      <td>...</td>\n      <td>16607.0</td>\n      <td>2013.0</td>\n      <td>1095.0</td>\n      <td>1091.0</td>\n      <td>645.0</td>\n      <td>647.0</td>\n      <td>1578474585965</td>\n      <td>046cfa46be49fc10834815c6</td>\n      <td>5a0546857ecc773753327266</td>\n      <td>5a0546857ecc773753327266_046cfa46be49fc1083481...</td>\n    </tr>\n    <tr>\n      <th>...</th>\n      <td>...</td>\n      <td>...</td>\n      <td>...</td>\n      <td>...</td>\n      <td>...</td>\n      <td>...</td>\n      <td>...</td>\n      <td>...</td>\n      <td>...</td>\n      <td>...</td>\n      <td>...</td>\n      <td>...</td>\n      <td>...</td>\n      <td>...</td>\n      <td>...</td>\n      <td>...</td>\n      <td>...</td>\n      <td>...</td>\n      <td>...</td>\n      <td>...</td>\n      <td>...</td>\n    </tr>\n    <tr>\n      <th>10128</th>\n      <td>0f927dce74ec3475c7a39299e5bffab222ca665d</td>\n      <td>5d998a8668536c4f51004c25f474117fe9555f78</td>\n      <td>8e69018f6343506344ab13646ccd9447fc2ffb19</td>\n      <td>efa1fe97c4b2a6c57d98de9c236a109032ceb839</td>\n      <td>da39a3ee5e6b4b0d3255bfef95601890afd80709</td>\n      <td>5d998a8668536c4f51004c25f474117fe9555f78</td>\n      <td>c72257cf75d6a411225948bbc4e37ad554e7beda</td>\n      <td>da39a3ee5e6b4b0d3255bfef95601890afd80709</td>\n      <td>5d998a8668536c4f51004c25f474117fe9555f78</td>\n      <td>da39a3ee5e6b4b0d3255bfef95601890afd80709</td>\n      <td>...</td>\n      <td>3783.0</td>\n      <td>3788.0</td>\n      <td>7589.0</td>\n      <td>7774.0</td>\n      <td>3517.0</td>\n      <td>1409.0</td>\n      <td>1573731143256</td>\n      <td>fd64de8c4a2fc5ebb0e9f412</td>\n      <td>5dc8cea7659e181adb076a3f</td>\n      <td>5dc8cea7659e181adb076a3f_fd64de8c4a2fc5ebb0e9f...</td>\n    </tr>\n    <tr>\n      <th>10129</th>\n      <td>8e69018f6343506344ab13646ccd9447fc2ffb19</td>\n      <td>0f927dce74ec3475c7a39299e5bffab222ca665d</td>\n      <td>efa1fe97c4b2a6c57d98de9c236a109032ceb839</td>\n      <td>da39a3ee5e6b4b0d3255bfef95601890afd80709</td>\n      <td>5d998a8668536c4f51004c25f474117fe9555f78</td>\n      <td>5d998a8668536c4f51004c25f474117fe9555f78</td>\n      <td>da39a3ee5e6b4b0d3255bfef95601890afd80709</td>\n      <td>8e69018f6343506344ab13646ccd9447fc2ffb19</td>\n      <td>5d998a8668536c4f51004c25f474117fe9555f78</td>\n      <td>0eb4ecd03a3128e62bdff60e6f686d88e783441e</td>\n      <td>...</td>\n      <td>6687.0</td>\n      <td>8220.0</td>\n      <td>3158.0</td>\n      <td>2966.0</td>\n      <td>533.0</td>\n      <td>3074.0</td>\n      <td>1573731146426</td>\n      <td>fd64de8c4a2fc5ebb0e9f412</td>\n      <td>5dc8cea7659e181adb076a3f</td>\n      <td>5dc8cea7659e181adb076a3f_fd64de8c4a2fc5ebb0e9f...</td>\n    </tr>\n    <tr>\n      <th>10130</th>\n      <td>8e69018f6343506344ab13646ccd9447fc2ffb19</td>\n      <td>5d998a8668536c4f51004c25f474117fe9555f78</td>\n      <td>8e69018f6343506344ab13646ccd9447fc2ffb19</td>\n      <td>5d998a8668536c4f51004c25f474117fe9555f78</td>\n      <td>c72257cf75d6a411225948bbc4e37ad554e7beda</td>\n      <td>da39a3ee5e6b4b0d3255bfef95601890afd80709</td>\n      <td>5d998a8668536c4f51004c25f474117fe9555f78</td>\n      <td>da39a3ee5e6b4b0d3255bfef95601890afd80709</td>\n      <td>5d998a8668536c4f51004c25f474117fe9555f78</td>\n      <td>5d998a8668536c4f51004c25f474117fe9555f78</td>\n      <td>...</td>\n      <td>357.0</td>\n      <td>515.0</td>\n      <td>388.0</td>\n      <td>9308.0</td>\n      <td>7774.0</td>\n      <td>357.0</td>\n      <td>1573731151563</td>\n      <td>fd64de8c4a2fc5ebb0e9f412</td>\n      <td>5dc8cea7659e181adb076a3f</td>\n      <td>5dc8cea7659e181adb076a3f_fd64de8c4a2fc5ebb0e9f...</td>\n    </tr>\n    <tr>\n      <th>10131</th>\n      <td>5d998a8668536c4f51004c25f474117fe9555f78</td>\n      <td>8e69018f6343506344ab13646ccd9447fc2ffb19</td>\n      <td>5d998a8668536c4f51004c25f474117fe9555f78</td>\n      <td>8e69018f6343506344ab13646ccd9447fc2ffb19</td>\n      <td>da39a3ee5e6b4b0d3255bfef95601890afd80709</td>\n      <td>aa449fabc4dcb24836d950b5cff91f08e574c3a7</td>\n      <td>c72257cf75d6a411225948bbc4e37ad554e7beda</td>\n      <td>da39a3ee5e6b4b0d3255bfef95601890afd80709</td>\n      <td>efa1fe97c4b2a6c57d98de9c236a109032ceb839</td>\n      <td>6381b3137285875eda5bc77d9b8cc7650f0f5d7d</td>\n      <td>...</td>\n      <td>108.0</td>\n      <td>478.0</td>\n      <td>478.0</td>\n      <td>212.0</td>\n      <td>8588.0</td>\n      <td>479.0</td>\n      <td>1573731157567</td>\n      <td>fd64de8c4a2fc5ebb0e9f412</td>\n      <td>5dc8cea7659e181adb076a3f</td>\n      <td>5dc8cea7659e181adb076a3f_fd64de8c4a2fc5ebb0e9f...</td>\n    </tr>\n    <tr>\n      <th>10132</th>\n      <td>aa449fabc4dcb24836d950b5cff91f08e574c3a7</td>\n      <td>5d998a8668536c4f51004c25f474117fe9555f78</td>\n      <td>da39a3ee5e6b4b0d3255bfef95601890afd80709</td>\n      <td>da39a3ee5e6b4b0d3255bfef95601890afd80709</td>\n      <td>6381b3137285875eda5bc77d9b8cc7650f0f5d7d</td>\n      <td>efa1fe97c4b2a6c57d98de9c236a109032ceb839</td>\n      <td>0eb4ecd03a3128e62bdff60e6f686d88e783441e</td>\n      <td>8e69018f6343506344ab13646ccd9447fc2ffb19</td>\n      <td>0f927dce74ec3475c7a39299e5bffab222ca665d</td>\n      <td>da39a3ee5e6b4b0d3255bfef95601890afd80709</td>\n      <td>...</td>\n      <td>13156.0</td>\n      <td>1360.0</td>\n      <td>1844.0</td>\n      <td>3331.0</td>\n      <td>3760.0</td>\n      <td>1839.0</td>\n      <td>1573731161115</td>\n      <td>fd64de8c4a2fc5ebb0e9f412</td>\n      <td>5dc8cea7659e181adb076a3f</td>\n      <td>5dc8cea7659e181adb076a3f_fd64de8c4a2fc5ebb0e9f...</td>\n    </tr>\n  </tbody>\n</table>\n<p>10133 rows × 504 columns</p>\n</div>"
     },
     "metadata": {},
     "execution_count": 8
    }
   ],
   "source": [
    "test_df"
   ]
  },
  {
   "cell_type": "code",
   "execution_count": 9,
   "metadata": {},
   "outputs": [],
   "source": [
    "# training target features\n",
    "NUM_FEATS = 80\n",
    "BSSID_FEATS = [f'bssid_{i}' for i in range(NUM_FEATS)]\n",
    "RSSI_FEATS  = [f'rssi_{i}' for i in range(NUM_FEATS)]"
   ]
  },
  {
   "cell_type": "markdown",
   "metadata": {},
   "source": [
    "bssid_NはN個目のBSSIDを示しておりRSSI値が大きい順に番号が振られている。\n",
    "100個しかない"
   ]
  },
  {
   "cell_type": "code",
   "execution_count": 10,
   "metadata": {},
   "outputs": [
    {
     "output_type": "stream",
     "name": "stdout",
     "text": [
      "BSSID TYPES(train): 61357\nBSSID TYPES(test): 30658\nBSSID TYPES(all): 61421\n"
     ]
    }
   ],
   "source": [
    "# get numbers of bssids to embed them in a layer\n",
    "\n",
    "# train\n",
    "wifi_bssids = []\n",
    "# bssidを列ごとにリストに入れていく\n",
    "for i in range(100, 200):\n",
    "    wifi_bssids.extend(train_df.iloc[:,i].values.tolist())\n",
    "wifi_bssids = list(set(wifi_bssids))\n",
    "\n",
    "train_wifi_bssids_size = len(wifi_bssids)\n",
    "print(f'BSSID TYPES(train): {train_wifi_bssids_size}')\n",
    "\n",
    "# test\n",
    "wifi_bssids_test = []\n",
    "for i in range(100, 200):\n",
    "    wifi_bssids_test.extend(test_df.iloc[:,i].values.tolist())\n",
    "wifi_bssids_test = list(set(wifi_bssids_test))\n",
    "\n",
    "test_wifi_bssids_size = len(wifi_bssids_test)\n",
    "print(f'BSSID TYPES(test): {test_wifi_bssids_size}')\n",
    "\n",
    "\n",
    "wifi_bssids.extend(wifi_bssids_test)\n",
    "wifi_bssids = list(set(wifi_bssids))\n",
    "wifi_bssids_size = len(wifi_bssids)\n",
    "print(f'BSSID TYPES(all): {wifi_bssids_size}')\n"
   ]
  },
  {
   "cell_type": "code",
   "execution_count": 11,
   "metadata": {},
   "outputs": [
    {
     "output_type": "stream",
     "name": "stdout",
     "text": [
      "RSSI TYPES(train): 98\nRSSI TYPES(test): 77\nRSSI TYPES(all): 175\n"
     ]
    }
   ],
   "source": [
    "# get numbers of bssids to embed them in a layer\n",
    "\n",
    "# train\n",
    "rssi_bssids = []\n",
    "# bssidを列ごとにリストに入れていく\n",
    "for i in RSSI_FEATS:\n",
    "    rssi_bssids.extend(train_df.loc[:,i].values.tolist())\n",
    "rssi_bssids = list(set(rssi_bssids))\n",
    "\n",
    "train_rssi_bssids_size = len(rssi_bssids)\n",
    "print(f'RSSI TYPES(train): {train_rssi_bssids_size}')\n",
    "\n",
    "# test\n",
    "rssi_bssids_test = []\n",
    "for i in RSSI_FEATS:\n",
    "    rssi_bssids_test.extend(test_df.loc[:,i].values.tolist())\n",
    "rssi_bssids_test = list(set(rssi_bssids_test))\n",
    "\n",
    "test_rssi_bssids_size = len(rssi_bssids_test)\n",
    "print(f'RSSI TYPES(test): {test_rssi_bssids_size}')\n",
    "\n",
    "\n",
    "rssi_bssids.extend(rssi_bssids_test)\n",
    "rssi_bssids_size = len(rssi_bssids)\n",
    "print(f'RSSI TYPES(all): {rssi_bssids_size}')"
   ]
  },
  {
   "cell_type": "markdown",
   "metadata": {},
   "source": [
    "## preprocessing"
   ]
  },
  {
   "cell_type": "code",
   "execution_count": 12,
   "metadata": {},
   "outputs": [],
   "source": [
    "# preprocess\n",
    "\n",
    "le = LabelEncoder()\n",
    "le.fit(wifi_bssids)\n",
    "le_site = LabelEncoder()\n",
    "le_site.fit(train_df['site_id'])\n",
    "le_rssi = LabelEncoder()\n",
    "le_rssi.fit(rssi_bssids)\n",
    "\n",
    "ss = StandardScaler()\n",
    "ss.fit(train_df.loc[:,RSSI_FEATS])\n",
    "\n",
    "\n",
    "def preprocess(input_df, le=le, le_site=le_site, ss=ss):\n",
    "    output_df = input_df.copy()\n",
    "    # RSSIの正規化\n",
    "    output_df.loc[:,RSSI_FEATS] = ss.transform(input_df.loc[:,RSSI_FEATS])\n",
    "\n",
    "    # BSSIDのLE(1からふる)\n",
    "    for i in BSSID_FEATS:\n",
    "        output_df.loc[:,i] = le.transform(input_df.loc[:,i])\n",
    "        # output_df.loc[:,i] = output_df.loc[:,i] + 1  # 0からではなく1から番号を振りたいため なぜ？ embeddingのpadding用のダミー変数？\n",
    "    for i in RSSI_FEATS:\n",
    "        output_df.loc[:,i] = le_rssi.transform(input_df.loc[:,i])\n",
    "\n",
    "    # site_idのLE\n",
    "    output_df['site_id_str'] = input_df['site_id'].copy()\n",
    "    output_df.loc[:, 'site_id'] = le_site.transform(input_df.loc[:, 'site_id'])\n",
    "\n",
    "    # なぜ２重でやる？\n",
    "    # output_df.loc[:,RSSI_FEATS] = ss.transform(output_df.loc[:,RSSI_FEATS])\n",
    "    return output_df\n",
    "\n",
    "train = preprocess(train_df)\n",
    "test = preprocess(test_df)"
   ]
  },
  {
   "cell_type": "code",
   "execution_count": 13,
   "metadata": {},
   "outputs": [
    {
     "output_type": "execute_result",
     "data": {
      "text/plain": [
       "24"
      ]
     },
     "metadata": {},
     "execution_count": 13
    }
   ],
   "source": [
    "site_count = len(train['site_id'].unique())\n",
    "site_count"
   ]
  },
  {
   "cell_type": "markdown",
   "metadata": {},
   "source": [
    "## PyTorch model\n",
    "- embedding layerが重要  "
   ]
  },
  {
   "cell_type": "code",
   "execution_count": 14,
   "metadata": {},
   "outputs": [],
   "source": [
    "# dataset\n",
    "from torch.utils.data import Dataset, DataLoader\n",
    "class IndoorDataset(Dataset):\n",
    "    def __init__(self, df, phase='train'):\n",
    "        self.df = df\n",
    "        self.phase = phase\n",
    "        self.bssid_feats = df[BSSID_FEATS].values.astype(int)\n",
    "        self.rssi_feats = df[RSSI_FEATS].values.astype(np.float32)\n",
    "        self.site_id = df['site_id'].values.astype(int)\n",
    "\n",
    "        if phase in ['train', 'valid']:\n",
    "            self.xy = df[['x', 'y']].values.astype(np.float32)\n",
    "            self.floor = df['floor'].values.astype(np.float32)\n",
    "        \n",
    "    def __len__(self):\n",
    "        return self.df.shape[0]\n",
    "\n",
    "    def __getitem__(self, idx):\n",
    "    \n",
    "        concat_feat = np.empty(2 * NUM_FEATS).astype(int)\n",
    "        concat_feat[0::2] = self.bssid_feats[idx]\n",
    "        concat_feat[1::2] = self.rssi_feats[idx]\n",
    "        \n",
    "        feature = {\n",
    "            'RSSI_BSSID_FEATS':concat_feat,\n",
    "            'site_id':self.site_id[idx]\n",
    "        }\n",
    "        if self.phase in ['train', 'valid']:\n",
    "            target = {\n",
    "                'xy':self.xy[idx],\n",
    "                'floor':self.floor[idx]\n",
    "            }\n",
    "        else:\n",
    "            target = {}\n",
    "        return feature, target"
   ]
  },
  {
   "cell_type": "code",
   "execution_count": 15,
   "metadata": {},
   "outputs": [],
   "source": [
    "import torch\n",
    "from torch import nn\n",
    "\n",
    "class LSTMModel(nn.Module):\n",
    "    def __init__(self, wifi_bssids_size, site_count=24, embedding_dim=64):\n",
    "        super(LSTMModel, self).__init__()\n",
    "        # bssid\n",
    "        # ->64次元に圧縮後sequence化にする\n",
    "        # wifi_bssids_sizeが辞書の数を表す\n",
    "        self.embedding_layer1 = nn.Sequential(\n",
    "            nn.Embedding(wifi_bssids_size, embedding_dim),\n",
    "            nn.Flatten(start_dim=-2)            \n",
    "        )\n",
    "        # site\n",
    "        # ->2次元に圧縮後sequence化する\n",
    "        # site_countが辞書の数を表す\n",
    "        self.embedding_layer2 = nn.Sequential(\n",
    "            nn.Embedding(site_count, 64),\n",
    "            nn.Flatten(start_dim=-1)           \n",
    "        )\n",
    "\n",
    "        # bssid, site, rssiの出力size\n",
    "        # feature_size = 2 + (2 * NUM_FEATS * embedding_dim)\n",
    "        feature_size = 64 + (2 * NUM_FEATS * 64)\n",
    "        self.linear_layer2 = nn.Sequential(\n",
    "            nn.BatchNorm1d(feature_size),\n",
    "            nn.Dropout(0.3),\n",
    "            nn.Linear(feature_size, 256),\n",
    "            nn.ReLU()\n",
    "        )\n",
    "\n",
    "        self.batch_norm1 = nn.BatchNorm1d(1)\n",
    "        self.lstm1 = nn.LSTM(input_size=256,hidden_size=128,dropout=0.3, batch_first=True)\n",
    "        self.lstm2 = nn.LSTM(input_size=128,hidden_size=16,dropout=0.1, batch_first=True)\n",
    "\n",
    "        self.fc_xy = nn.Linear(16, 2)\n",
    "        self.fc_floor = nn.Linear(16, 1)\n",
    "\n",
    "    \n",
    "    def forward(self, x):\n",
    "        # input embedding\n",
    "        batch_size = x[\"site_id\"].shape[0]\n",
    "        x_rssi_bssid = self.embedding_layer1(x['RSSI_BSSID_FEATS'])\n",
    "        x_site_id = self.embedding_layer2(x['site_id'])\n",
    "        # x_rssi = self.linear_layer1(x['RSSI_FEATS'])\n",
    "        x = torch.cat([x_rssi_bssid, x_site_id], dim=-1)\n",
    "        x = self.linear_layer2(x)\n",
    "\n",
    "        # lstm layer\n",
    "        x = x.view(batch_size, 1, -1)  # [batch, 1]->[batch, 1, 1]\n",
    "        x = self.batch_norm1(x)\n",
    "        x, _ = self.lstm1(x)\n",
    "        x = torch.relu(x)\n",
    "        x, _ = self.lstm2(x)\n",
    "        x = torch.relu(x)\n",
    "\n",
    "        # output [batch, 1, 1] -> [batch]\n",
    "        xy = self.fc_xy(x).squeeze(1)\n",
    "        floor = torch.relu(self.fc_floor(x)).view(-1)\n",
    "        return {\"xy\": xy, \"floor\": floor}"
   ]
  },
  {
   "cell_type": "code",
   "execution_count": 16,
   "metadata": {},
   "outputs": [],
   "source": [
    "def mean_position_error(xhat, yhat, fhat, x, y, f):\n",
    "    intermediate = np.sqrt(np.power(xhat-x, 2) + np.power(yhat-y, 2)) + 15 * np.abs(fhat-f)\n",
    "    return intermediate.sum()/xhat.shape[0]\n",
    "\n",
    "def to_np(input):\n",
    "    return input.detach().cpu().numpy()"
   ]
  },
  {
   "cell_type": "code",
   "execution_count": 17,
   "metadata": {},
   "outputs": [],
   "source": [
    "def get_optimizer(model: nn.Module, config: dict):\n",
    "    optimizer_config = config[\"optimizer\"]\n",
    "    optimizer_name = optimizer_config.get(\"name\")\n",
    "    base_optimizer_name = optimizer_config.get(\"base_name\")\n",
    "    optimizer_params = optimizer_config['params']\n",
    "\n",
    "    if hasattr(optim, optimizer_name):\n",
    "        optimizer = optim.__getattribute__(optimizer_name)(model.parameters(), **optimizer_params)\n",
    "        return optimizer\n",
    "    else:\n",
    "        base_optimizer = optim.__getattribute__(base_optimizer_name)\n",
    "        optimizer = globals().get(optimizer_name)(\n",
    "            model.parameters(), \n",
    "            base_optimizer,\n",
    "            **optimizer_config[\"params\"])\n",
    "        return  optimizer\n",
    "\n",
    "def get_scheduler(optimizer, config: dict):\n",
    "    scheduler_config = config[\"scheduler\"]\n",
    "    scheduler_name = scheduler_config.get(\"name\")\n",
    "\n",
    "    if scheduler_name is None:\n",
    "        return\n",
    "    else:\n",
    "        return optim.lr_scheduler.__getattribute__(scheduler_name)(\n",
    "            optimizer, **scheduler_config[\"params\"])\n",
    "\n",
    "\n",
    "def get_criterion(config: dict):\n",
    "    loss_config = config[\"loss\"]\n",
    "    loss_name = loss_config[\"name\"]\n",
    "    loss_params = {} if loss_config.get(\"params\") is None else loss_config.get(\"params\")\n",
    "    if hasattr(nn, loss_name):\n",
    "        criterion = nn.__getattribute__(loss_name)(**loss_params)\n",
    "    else:\n",
    "        criterion = globals().get(loss_name)(**loss_params)\n",
    "\n",
    "    return criterion\n",
    "\n",
    "def worker_init_fn(worker_id):                                                          \n",
    "    np.random.seed(np.random.get_state()[1][0] + worker_id)"
   ]
  },
  {
   "cell_type": "code",
   "execution_count": 18,
   "metadata": {},
   "outputs": [],
   "source": [
    "# Learner class(pytorch-lighting)\n",
    "class Learner(pl.LightningModule):\n",
    "    def __init__(self, model, config):\n",
    "        super().__init__()\n",
    "        self.model = model\n",
    "        self.config = config\n",
    "        self.xy_criterion = get_criterion(config)\n",
    "        self.f_criterion = get_criterion(config)\n",
    "    \n",
    "    def training_step(self, batch, batch_idx):\n",
    "        x, y = batch\n",
    "        output = self.model(x)\n",
    "        loss = self.xy_criterion(output[\"xy\"], y[\"xy\"])\n",
    "        return loss\n",
    "    \n",
    "    def validation_step(self, batch, batch_idx):\n",
    "        x, y = batch\n",
    "        output = self.model(x)\n",
    "        xy_loss = self.xy_criterion(output[\"xy\"], y[\"xy\"])\n",
    "        f_loss = self.f_criterion(output[\"floor\"], y[\"floor\"])\n",
    "        loss = xy_loss  # + f_loss\n",
    "        mpe = mean_position_error(\n",
    "            to_np(output['xy'][:, 0]), to_np(output['xy'][:, 1]), 0, \n",
    "            to_np(y['xy'][:, 0]), to_np(y['xy'][:, 1]), 0)\n",
    "        \n",
    "        # floor lossは現状は無視して良い\n",
    "        self.log(f'Loss/val', loss, on_step=False, on_epoch=True, prog_bar=False, logger=True)\n",
    "        self.log(f'Loss/xy', xy_loss, on_step=False, on_epoch=True, prog_bar=False, logger=True)\n",
    "        self.log(f'Loss/floor', f_loss, on_step=False, on_epoch=True, prog_bar=False, logger=True)\n",
    "        self.log(f'MPE/val', mpe, on_step=False, on_epoch=True, prog_bar=False, logger=True)\n",
    "        return loss\n",
    "\n",
    "    def configure_optimizers(self):\n",
    "        optimizer = get_optimizer(self.model, self.config)\n",
    "        scheduler = get_scheduler(optimizer, self.config)\n",
    "        return {\"optimizer\": optimizer, \"lr_scheduler\": scheduler, \"monitor\": \"Loss/val\"}"
   ]
  },
  {
   "cell_type": "code",
   "execution_count": 19,
   "metadata": {},
   "outputs": [],
   "source": [
    "# oof\n",
    "def evaluate(model, loaders, phase):\n",
    "    x_list = []\n",
    "    y_list = []\n",
    "    f_list = []\n",
    "    with torch.no_grad():\n",
    "        for batch in loaders[phase]:\n",
    "            x, y = batch\n",
    "            output = model(x)\n",
    "            x_list.append(to_np(output['xy'][:, 0]))\n",
    "            y_list.append(to_np(output['xy'][:, 1]))\n",
    "            f_list.append(to_np(output['floor']))\n",
    "\n",
    "    x_list = np.concatenate(x_list)\n",
    "    y_list = np.concatenate(y_list)\n",
    "    f_list = np.concatenate(f_list)\n",
    "    return x_list, y_list, f_list"
   ]
  },
  {
   "cell_type": "markdown",
   "metadata": {},
   "source": [
    "## train"
   ]
  },
  {
   "cell_type": "code",
   "execution_count": 20,
   "metadata": {
    "tags": []
   },
   "outputs": [
    {
     "output_type": "stream",
     "name": "stdout",
     "text": [
      "====================\n",
      "Fold 0\n",
      "====================\n",
      "/usr/local/lib/python3.8/dist-packages/torch/nn/modules/rnn.py:58: UserWarning: dropout option adds dropout after all but last recurrent layer, so non-zero dropout expects num_layers greater than 1, but got dropout=0.3 and num_layers=1\n",
      "  warnings.warn(\"dropout option adds dropout after all but last \"\n",
      "/usr/local/lib/python3.8/dist-packages/torch/nn/modules/rnn.py:58: UserWarning: dropout option adds dropout after all but last recurrent layer, so non-zero dropout expects num_layers greater than 1, but got dropout=0.1 and num_layers=1\n",
      "  warnings.warn(\"dropout option adds dropout after all but last \"\n",
      "Failed to detect the name of this notebook, you can set it manually with the WANDB_NOTEBOOK_NAME environment variable to enable code saving.\n",
      "\u001b[34m\u001b[1mwandb\u001b[0m: Currently logged in as: \u001b[33mkuto5046\u001b[0m (use `wandb login --relogin` to force relogin)\n",
      "\u001b[34m\u001b[1mwandb\u001b[0m: wandb version 0.10.27 is available!  To upgrade, please run:\n",
      "\u001b[34m\u001b[1mwandb\u001b[0m:  $ pip install wandb --upgrade\n"
     ]
    },
    {
     "output_type": "display_data",
     "data": {
      "text/plain": "<IPython.core.display.HTML object>",
      "text/html": "\n                Tracking run with wandb version 0.10.22<br/>\n                Syncing run <strong style=\"color:#cdcd00\">astral-pine-412</strong> to <a href=\"https://wandb.ai\" target=\"_blank\">Weights & Biases</a> <a href=\"https://docs.wandb.com/integrations/jupyter.html\" target=\"_blank\">(Documentation)</a>.<br/>\n                Project page: <a href=\"https://wandb.ai/kuto5046/indoor\" target=\"_blank\">https://wandb.ai/kuto5046/indoor</a><br/>\n                Run page: <a href=\"https://wandb.ai/kuto5046/indoor/runs/mdqi8mmb\" target=\"_blank\">https://wandb.ai/kuto5046/indoor/runs/mdqi8mmb</a><br/>\n                Run data is saved locally in <code>/home/user/work/exp/exp016/wandb/run-20210424_001259-mdqi8mmb</code><br/><br/>\n            "
     },
     "metadata": {}
    },
    {
     "output_type": "stream",
     "name": "stderr",
     "text": [
      "GPU available: True, used: True\n",
      "TPU available: None, using: 0 TPU cores\n",
      "\n",
      "  | Name         | Type      | Params\n",
      "-------------------------------------------\n",
      "0 | model        | LSTMModel | 6.8 M \n",
      "1 | xy_criterion | MSELoss   | 0     \n",
      "2 | f_criterion  | MSELoss   | 0     \n",
      "-------------------------------------------\n",
      "6.8 M     Trainable params\n",
      "0         Non-trainable params\n",
      "6.8 M     Total params\n",
      "27.193    Total estimated model params size (MB)\n",
      "fold 0: mean position error 7.47002504934101\n"
     ]
    },
    {
     "output_type": "display_data",
     "data": {
      "text/plain": "<IPython.core.display.HTML object>",
      "text/html": "<br/>Waiting for W&B process to finish, PID 266626<br/>Program ended successfully."
     },
     "metadata": {}
    },
    {
     "output_type": "display_data",
     "data": {
      "text/plain": "VBox(children=(Label(value=' 0.00MB of 0.00MB uploaded (0.00MB deduped)\\r'), FloatProgress(value=1.0, max=1.0)…",
      "application/vnd.jupyter.widget-view+json": {
       "version_major": 2,
       "version_minor": 0,
       "model_id": "505e69dbbbe4404faa752f085d355df5"
      }
     },
     "metadata": {}
    },
    {
     "output_type": "display_data",
     "data": {
      "text/plain": "<IPython.core.display.HTML object>",
      "text/html": "Find user logs for this run at: <code>/home/user/work/exp/exp016/wandb/run-20210424_001259-mdqi8mmb/logs/debug.log</code>"
     },
     "metadata": {}
    },
    {
     "output_type": "display_data",
     "data": {
      "text/plain": "<IPython.core.display.HTML object>",
      "text/html": "Find internal logs for this run at: <code>/home/user/work/exp/exp016/wandb/run-20210424_001259-mdqi8mmb/logs/debug-internal.log</code>"
     },
     "metadata": {}
    },
    {
     "output_type": "display_data",
     "data": {
      "text/plain": "<IPython.core.display.HTML object>",
      "text/html": "<h3>Run summary:</h3><br/><style>\n    table.wandb td:nth-child(1) { padding: 0 10px; text-align: right }\n    </style><table class=\"wandb\">\n<tr><td>Loss/val</td><td>42.10052</td></tr><tr><td>Loss/xy</td><td>42.10052</td></tr><tr><td>Loss/floor</td><td>5.60596</td></tr><tr><td>MPE/val</td><td>7.46938</td></tr><tr><td>epoch</td><td>163</td></tr><tr><td>trainer/global_step</td><td>65927</td></tr><tr><td>_runtime</td><td>743</td></tr><tr><td>_timestamp</td><td>1619191522</td></tr><tr><td>_step</td><td>163</td></tr></table>"
     },
     "metadata": {}
    },
    {
     "output_type": "display_data",
     "data": {
      "text/plain": "<IPython.core.display.HTML object>",
      "text/html": "<h3>Run history:</h3><br/><style>\n    table.wandb td:nth-child(1) { padding: 0 10px; text-align: right }\n    </style><table class=\"wandb\">\n<tr><td>Loss/val</td><td>█▆▃▃▂▁▁▁▁▁▁▁▁▁▁▁▁▁▁▁▁▁▁▁▁▁▁▁▁▁▁▁▁▁▁▁▁▁▁▁</td></tr><tr><td>Loss/xy</td><td>█▆▃▃▂▁▁▁▁▁▁▁▁▁▁▁▁▁▁▁▁▁▁▁▁▁▁▁▁▁▁▁▁▁▁▁▁▁▁▁</td></tr><tr><td>Loss/floor</td><td>██▁▂▅▅▅▅▅▄▅▄▄▄▄▄▄▄▃▃▃▃▃▃▃▃▃▃▃▃▃▃▃▃▃▃▃▃▃▃</td></tr><tr><td>MPE/val</td><td>█▇▅▄▂▁▁▁▁▁▁▁▁▁▁▁▁▁▁▁▁▁▁▁▁▁▁▁▁▁▁▁▁▁▁▁▁▁▁▁</td></tr><tr><td>epoch</td><td>▁▁▁▂▂▂▂▂▂▃▃▃▃▃▄▄▄▄▄▄▅▅▅▅▅▅▆▆▆▆▆▇▇▇▇▇▇███</td></tr><tr><td>trainer/global_step</td><td>▁▁▁▂▂▂▂▂▂▃▃▃▃▃▄▄▄▄▄▄▅▅▅▅▅▅▆▆▆▆▆▇▇▇▇▇▇███</td></tr><tr><td>_runtime</td><td>▁▁▁▂▂▂▂▂▂▃▃▃▃▃▄▄▄▄▄▄▅▅▅▅▅▅▆▆▆▆▆▇▇▇▇▇▇███</td></tr><tr><td>_timestamp</td><td>▁▁▁▂▂▂▂▂▂▃▃▃▃▃▄▄▄▄▄▄▅▅▅▅▅▅▆▆▆▆▆▇▇▇▇▇▇███</td></tr><tr><td>_step</td><td>▁▁▁▂▂▂▂▂▂▃▃▃▃▃▄▄▄▄▄▄▅▅▅▅▅▅▆▆▆▆▆▇▇▇▇▇▇███</td></tr></table><br/>"
     },
     "metadata": {}
    },
    {
     "output_type": "display_data",
     "data": {
      "text/plain": "<IPython.core.display.HTML object>",
      "text/html": "Synced 5 W&B file(s), 1 media file(s), 0 artifact file(s) and 0 other file(s)"
     },
     "metadata": {}
    },
    {
     "output_type": "display_data",
     "data": {
      "text/plain": "<IPython.core.display.HTML object>",
      "text/html": "\n                    <br/>Synced <strong style=\"color:#cdcd00\">astral-pine-412</strong>: <a href=\"https://wandb.ai/kuto5046/indoor/runs/mdqi8mmb\" target=\"_blank\">https://wandb.ai/kuto5046/indoor/runs/mdqi8mmb</a><br/>\n                "
     },
     "metadata": {}
    },
    {
     "output_type": "stream",
     "name": "stdout",
     "text": [
      "====================\n",
      "Fold 1\n",
      "====================\n",
      "\u001b[34m\u001b[1mwandb\u001b[0m: wandb version 0.10.27 is available!  To upgrade, please run:\n",
      "\u001b[34m\u001b[1mwandb\u001b[0m:  $ pip install wandb --upgrade\n"
     ]
    },
    {
     "output_type": "display_data",
     "data": {
      "text/plain": "<IPython.core.display.HTML object>",
      "text/html": "\n                Tracking run with wandb version 0.10.22<br/>\n                Syncing run <strong style=\"color:#cdcd00\">brisk-cherry-413</strong> to <a href=\"https://wandb.ai\" target=\"_blank\">Weights & Biases</a> <a href=\"https://docs.wandb.com/integrations/jupyter.html\" target=\"_blank\">(Documentation)</a>.<br/>\n                Project page: <a href=\"https://wandb.ai/kuto5046/indoor\" target=\"_blank\">https://wandb.ai/kuto5046/indoor</a><br/>\n                Run page: <a href=\"https://wandb.ai/kuto5046/indoor/runs/387c6uei\" target=\"_blank\">https://wandb.ai/kuto5046/indoor/runs/387c6uei</a><br/>\n                Run data is saved locally in <code>/home/user/work/exp/exp016/wandb/run-20210424_002532-387c6uei</code><br/><br/>\n            "
     },
     "metadata": {}
    },
    {
     "output_type": "stream",
     "name": "stderr",
     "text": [
      "GPU available: True, used: True\n",
      "TPU available: None, using: 0 TPU cores\n",
      "\n",
      "  | Name         | Type      | Params\n",
      "-------------------------------------------\n",
      "0 | model        | LSTMModel | 6.8 M \n",
      "1 | xy_criterion | MSELoss   | 0     \n",
      "2 | f_criterion  | MSELoss   | 0     \n",
      "-------------------------------------------\n",
      "6.8 M     Trainable params\n",
      "0         Non-trainable params\n",
      "6.8 M     Total params\n",
      "27.193    Total estimated model params size (MB)\n",
      "fold 1: mean position error 7.548727456312579\n"
     ]
    },
    {
     "output_type": "display_data",
     "data": {
      "text/plain": "<IPython.core.display.HTML object>",
      "text/html": "<br/>Waiting for W&B process to finish, PID 279891<br/>Program ended successfully."
     },
     "metadata": {}
    },
    {
     "output_type": "display_data",
     "data": {
      "text/plain": "VBox(children=(Label(value=' 0.00MB of 0.00MB uploaded (0.00MB deduped)\\r'), FloatProgress(value=1.0, max=1.0)…",
      "application/vnd.jupyter.widget-view+json": {
       "version_major": 2,
       "version_minor": 0,
       "model_id": "d40f5de2d9b445999d6c5cbbd80a6844"
      }
     },
     "metadata": {}
    },
    {
     "output_type": "display_data",
     "data": {
      "text/plain": "<IPython.core.display.HTML object>",
      "text/html": "Find user logs for this run at: <code>/home/user/work/exp/exp016/wandb/run-20210424_002532-387c6uei/logs/debug.log</code>"
     },
     "metadata": {}
    },
    {
     "output_type": "display_data",
     "data": {
      "text/plain": "<IPython.core.display.HTML object>",
      "text/html": "Find internal logs for this run at: <code>/home/user/work/exp/exp016/wandb/run-20210424_002532-387c6uei/logs/debug-internal.log</code>"
     },
     "metadata": {}
    },
    {
     "output_type": "display_data",
     "data": {
      "text/plain": "<IPython.core.display.HTML object>",
      "text/html": "<h3>Run summary:</h3><br/><style>\n    table.wandb td:nth-child(1) { padding: 0 10px; text-align: right }\n    </style><table class=\"wandb\">\n<tr><td>Loss/val</td><td>43.90828</td></tr><tr><td>Loss/xy</td><td>43.90828</td></tr><tr><td>Loss/floor</td><td>5.00128</td></tr><tr><td>MPE/val</td><td>7.54911</td></tr><tr><td>epoch</td><td>199</td></tr><tr><td>trainer/global_step</td><td>80399</td></tr><tr><td>_runtime</td><td>905</td></tr><tr><td>_timestamp</td><td>1619192437</td></tr><tr><td>_step</td><td>199</td></tr></table>"
     },
     "metadata": {}
    },
    {
     "output_type": "display_data",
     "data": {
      "text/plain": "<IPython.core.display.HTML object>",
      "text/html": "<h3>Run history:</h3><br/><style>\n    table.wandb td:nth-child(1) { padding: 0 10px; text-align: right }\n    </style><table class=\"wandb\">\n<tr><td>Loss/val</td><td>█▅▄▄▂▁▁▁▁▁▁▁▁▁▁▁▁▁▁▁▁▁▁▁▁▁▁▁▁▁▁▁▁▁▁▁▁▁▁▁</td></tr><tr><td>Loss/xy</td><td>█▅▄▄▂▁▁▁▁▁▁▁▁▁▁▁▁▁▁▁▁▁▁▁▁▁▁▁▁▁▁▁▁▁▁▁▁▁▁▁</td></tr><tr><td>Loss/floor</td><td>▁▁▁▁▆▇██████████████████████████████████</td></tr><tr><td>MPE/val</td><td>█▆▆▆▄▂▁▁▁▁▁▁▁▁▁▁▁▁▁▁▁▁▁▁▁▁▁▁▁▁▁▁▁▁▁▁▁▁▁▁</td></tr><tr><td>epoch</td><td>▁▁▁▁▂▂▂▂▂▃▃▃▃▃▃▄▄▄▄▄▅▅▅▅▅▅▆▆▆▆▆▇▇▇▇▇▇███</td></tr><tr><td>trainer/global_step</td><td>▁▁▁▁▂▂▂▂▂▃▃▃▃▃▃▄▄▄▄▄▅▅▅▅▅▅▆▆▆▆▆▇▇▇▇▇▇███</td></tr><tr><td>_runtime</td><td>▁▁▁▂▂▂▂▂▂▃▃▃▃▃▄▄▄▄▄▄▅▅▅▅▅▅▆▆▆▆▆▇▇▇▇▇▇███</td></tr><tr><td>_timestamp</td><td>▁▁▁▂▂▂▂▂▂▃▃▃▃▃▄▄▄▄▄▄▅▅▅▅▅▅▆▆▆▆▆▇▇▇▇▇▇███</td></tr><tr><td>_step</td><td>▁▁▁▁▂▂▂▂▂▃▃▃▃▃▃▄▄▄▄▄▅▅▅▅▅▅▆▆▆▆▆▇▇▇▇▇▇███</td></tr></table><br/>"
     },
     "metadata": {}
    },
    {
     "output_type": "display_data",
     "data": {
      "text/plain": "<IPython.core.display.HTML object>",
      "text/html": "Synced 5 W&B file(s), 1 media file(s), 0 artifact file(s) and 0 other file(s)"
     },
     "metadata": {}
    },
    {
     "output_type": "display_data",
     "data": {
      "text/plain": "<IPython.core.display.HTML object>",
      "text/html": "\n                    <br/>Synced <strong style=\"color:#cdcd00\">brisk-cherry-413</strong>: <a href=\"https://wandb.ai/kuto5046/indoor/runs/387c6uei\" target=\"_blank\">https://wandb.ai/kuto5046/indoor/runs/387c6uei</a><br/>\n                "
     },
     "metadata": {}
    },
    {
     "output_type": "stream",
     "name": "stdout",
     "text": [
      "====================\n",
      "Fold 2\n",
      "====================\n",
      "\u001b[34m\u001b[1mwandb\u001b[0m: wandb version 0.10.27 is available!  To upgrade, please run:\n",
      "\u001b[34m\u001b[1mwandb\u001b[0m:  $ pip install wandb --upgrade\n"
     ]
    },
    {
     "output_type": "display_data",
     "data": {
      "text/plain": "<IPython.core.display.HTML object>",
      "text/html": "\n                Tracking run with wandb version 0.10.22<br/>\n                Syncing run <strong style=\"color:#cdcd00\">super-grass-414</strong> to <a href=\"https://wandb.ai\" target=\"_blank\">Weights & Biases</a> <a href=\"https://docs.wandb.com/integrations/jupyter.html\" target=\"_blank\">(Documentation)</a>.<br/>\n                Project page: <a href=\"https://wandb.ai/kuto5046/indoor\" target=\"_blank\">https://wandb.ai/kuto5046/indoor</a><br/>\n                Run page: <a href=\"https://wandb.ai/kuto5046/indoor/runs/2izjowon\" target=\"_blank\">https://wandb.ai/kuto5046/indoor/runs/2izjowon</a><br/>\n                Run data is saved locally in <code>/home/user/work/exp/exp016/wandb/run-20210424_004046-2izjowon</code><br/><br/>\n            "
     },
     "metadata": {}
    },
    {
     "output_type": "stream",
     "name": "stderr",
     "text": [
      "GPU available: True, used: True\n",
      "TPU available: None, using: 0 TPU cores\n",
      "\n",
      "  | Name         | Type      | Params\n",
      "-------------------------------------------\n",
      "0 | model        | LSTMModel | 6.8 M \n",
      "1 | xy_criterion | MSELoss   | 0     \n",
      "2 | f_criterion  | MSELoss   | 0     \n",
      "-------------------------------------------\n",
      "6.8 M     Trainable params\n",
      "0         Non-trainable params\n",
      "6.8 M     Total params\n",
      "27.193    Total estimated model params size (MB)\n",
      "fold 2: mean position error 7.567119646046248\n"
     ]
    },
    {
     "output_type": "display_data",
     "data": {
      "text/plain": "<IPython.core.display.HTML object>",
      "text/html": "<br/>Waiting for W&B process to finish, PID 295895<br/>Program ended successfully."
     },
     "metadata": {}
    },
    {
     "output_type": "display_data",
     "data": {
      "text/plain": "VBox(children=(Label(value=' 0.00MB of 0.00MB uploaded (0.00MB deduped)\\r'), FloatProgress(value=1.0, max=1.0)…",
      "application/vnd.jupyter.widget-view+json": {
       "version_major": 2,
       "version_minor": 0,
       "model_id": "70817c6c62fc494f8fbf40f87a676568"
      }
     },
     "metadata": {}
    },
    {
     "output_type": "display_data",
     "data": {
      "text/plain": "<IPython.core.display.HTML object>",
      "text/html": "Find user logs for this run at: <code>/home/user/work/exp/exp016/wandb/run-20210424_004046-2izjowon/logs/debug.log</code>"
     },
     "metadata": {}
    },
    {
     "output_type": "display_data",
     "data": {
      "text/plain": "<IPython.core.display.HTML object>",
      "text/html": "Find internal logs for this run at: <code>/home/user/work/exp/exp016/wandb/run-20210424_004046-2izjowon/logs/debug-internal.log</code>"
     },
     "metadata": {}
    },
    {
     "output_type": "display_data",
     "data": {
      "text/plain": "<IPython.core.display.HTML object>",
      "text/html": "<h3>Run summary:</h3><br/><style>\n    table.wandb td:nth-child(1) { padding: 0 10px; text-align: right }\n    </style><table class=\"wandb\">\n<tr><td>Loss/val</td><td>46.2106</td></tr><tr><td>Loss/xy</td><td>46.2106</td></tr><tr><td>Loss/floor</td><td>5.15141</td></tr><tr><td>MPE/val</td><td>7.56607</td></tr><tr><td>epoch</td><td>174</td></tr><tr><td>trainer/global_step</td><td>70349</td></tr><tr><td>_runtime</td><td>797</td></tr><tr><td>_timestamp</td><td>1619193243</td></tr><tr><td>_step</td><td>174</td></tr></table>"
     },
     "metadata": {}
    },
    {
     "output_type": "display_data",
     "data": {
      "text/plain": "<IPython.core.display.HTML object>",
      "text/html": "<h3>Run history:</h3><br/><style>\n    table.wandb td:nth-child(1) { padding: 0 10px; text-align: right }\n    </style><table class=\"wandb\">\n<tr><td>Loss/val</td><td>█▅▅▅▃▂▁▁▁▁▁▁▁▁▁▁▁▁▁▁▁▁▁▁▁▁▁▁▁▁▁▁▁▁▁▁▁▁▁▁</td></tr><tr><td>Loss/xy</td><td>█▅▅▅▃▂▁▁▁▁▁▁▁▁▁▁▁▁▁▁▁▁▁▁▁▁▁▁▁▁▁▁▁▁▁▁▁▁▁▁</td></tr><tr><td>Loss/floor</td><td>▆▆▆▆▁▄▄▆▇▇▇▇▇▇▇▇▇▇▇▇█▇██████████████████</td></tr><tr><td>MPE/val</td><td>█▆▆▆▄▂▂▁▁▁▁▁▁▁▁▁▁▁▁▁▁▁▁▁▁▁▁▁▁▁▁▁▁▁▁▁▁▁▁▁</td></tr><tr><td>epoch</td><td>▁▁▁▁▂▂▂▂▂▃▃▃▃▃▃▄▄▄▄▄▅▅▅▅▅▅▆▆▆▆▆▇▇▇▇▇▇███</td></tr><tr><td>trainer/global_step</td><td>▁▁▁▁▂▂▂▂▂▃▃▃▃▃▃▄▄▄▄▄▅▅▅▅▅▅▆▆▆▆▆▇▇▇▇▇▇███</td></tr><tr><td>_runtime</td><td>▁▁▁▁▂▂▂▂▂▃▃▃▃▃▄▄▄▄▄▄▅▅▅▅▅▆▆▆▆▆▆▇▇▇▇▇▇███</td></tr><tr><td>_timestamp</td><td>▁▁▁▁▂▂▂▂▂▃▃▃▃▃▄▄▄▄▄▄▅▅▅▅▅▆▆▆▆▆▆▇▇▇▇▇▇███</td></tr><tr><td>_step</td><td>▁▁▁▁▂▂▂▂▂▃▃▃▃▃▃▄▄▄▄▄▅▅▅▅▅▅▆▆▆▆▆▇▇▇▇▇▇███</td></tr></table><br/>"
     },
     "metadata": {}
    },
    {
     "output_type": "display_data",
     "data": {
      "text/plain": "<IPython.core.display.HTML object>",
      "text/html": "Synced 5 W&B file(s), 1 media file(s), 0 artifact file(s) and 0 other file(s)"
     },
     "metadata": {}
    },
    {
     "output_type": "display_data",
     "data": {
      "text/plain": "<IPython.core.display.HTML object>",
      "text/html": "\n                    <br/>Synced <strong style=\"color:#cdcd00\">super-grass-414</strong>: <a href=\"https://wandb.ai/kuto5046/indoor/runs/2izjowon\" target=\"_blank\">https://wandb.ai/kuto5046/indoor/runs/2izjowon</a><br/>\n                "
     },
     "metadata": {}
    },
    {
     "output_type": "stream",
     "name": "stdout",
     "text": [
      "====================\n",
      "Fold 3\n",
      "====================\n",
      "\u001b[34m\u001b[1mwandb\u001b[0m: wandb version 0.10.27 is available!  To upgrade, please run:\n",
      "\u001b[34m\u001b[1mwandb\u001b[0m:  $ pip install wandb --upgrade\n"
     ]
    },
    {
     "output_type": "display_data",
     "data": {
      "text/plain": "<IPython.core.display.HTML object>",
      "text/html": "\n                Tracking run with wandb version 0.10.22<br/>\n                Syncing run <strong style=\"color:#cdcd00\">dandy-smoke-415</strong> to <a href=\"https://wandb.ai\" target=\"_blank\">Weights & Biases</a> <a href=\"https://docs.wandb.com/integrations/jupyter.html\" target=\"_blank\">(Documentation)</a>.<br/>\n                Project page: <a href=\"https://wandb.ai/kuto5046/indoor\" target=\"_blank\">https://wandb.ai/kuto5046/indoor</a><br/>\n                Run page: <a href=\"https://wandb.ai/kuto5046/indoor/runs/8q8zt0zt\" target=\"_blank\">https://wandb.ai/kuto5046/indoor/runs/8q8zt0zt</a><br/>\n                Run data is saved locally in <code>/home/user/work/exp/exp016/wandb/run-20210424_005413-8q8zt0zt</code><br/><br/>\n            "
     },
     "metadata": {}
    },
    {
     "output_type": "stream",
     "name": "stderr",
     "text": [
      "GPU available: True, used: True\n",
      "TPU available: None, using: 0 TPU cores\n",
      "\n",
      "  | Name         | Type      | Params\n",
      "-------------------------------------------\n",
      "0 | model        | LSTMModel | 6.8 M \n",
      "1 | xy_criterion | MSELoss   | 0     \n",
      "2 | f_criterion  | MSELoss   | 0     \n",
      "-------------------------------------------\n",
      "6.8 M     Trainable params\n",
      "0         Non-trainable params\n",
      "6.8 M     Total params\n",
      "27.193    Total estimated model params size (MB)\n",
      "fold 3: mean position error 7.5428590071598745\n"
     ]
    },
    {
     "output_type": "display_data",
     "data": {
      "text/plain": "<IPython.core.display.HTML object>",
      "text/html": "<br/>Waiting for W&B process to finish, PID 310015<br/>Program ended successfully."
     },
     "metadata": {}
    },
    {
     "output_type": "display_data",
     "data": {
      "text/plain": "VBox(children=(Label(value=' 0.00MB of 0.00MB uploaded (0.00MB deduped)\\r'), FloatProgress(value=1.0, max=1.0)…",
      "application/vnd.jupyter.widget-view+json": {
       "version_major": 2,
       "version_minor": 0,
       "model_id": "04595a1634a5474c9a3511bf14004e83"
      }
     },
     "metadata": {}
    },
    {
     "output_type": "display_data",
     "data": {
      "text/plain": "<IPython.core.display.HTML object>",
      "text/html": "Find user logs for this run at: <code>/home/user/work/exp/exp016/wandb/run-20210424_005413-8q8zt0zt/logs/debug.log</code>"
     },
     "metadata": {}
    },
    {
     "output_type": "display_data",
     "data": {
      "text/plain": "<IPython.core.display.HTML object>",
      "text/html": "Find internal logs for this run at: <code>/home/user/work/exp/exp016/wandb/run-20210424_005413-8q8zt0zt/logs/debug-internal.log</code>"
     },
     "metadata": {}
    },
    {
     "output_type": "display_data",
     "data": {
      "text/plain": "<IPython.core.display.HTML object>",
      "text/html": "<h3>Run summary:</h3><br/><style>\n    table.wandb td:nth-child(1) { padding: 0 10px; text-align: right }\n    </style><table class=\"wandb\">\n<tr><td>Loss/val</td><td>44.47652</td></tr><tr><td>Loss/xy</td><td>44.47652</td></tr><tr><td>Loss/floor</td><td>3.81418</td></tr><tr><td>MPE/val</td><td>7.5422</td></tr><tr><td>epoch</td><td>199</td></tr><tr><td>trainer/global_step</td><td>80399</td></tr><tr><td>_runtime</td><td>908</td></tr><tr><td>_timestamp</td><td>1619194161</td></tr><tr><td>_step</td><td>199</td></tr></table>"
     },
     "metadata": {}
    },
    {
     "output_type": "display_data",
     "data": {
      "text/plain": "<IPython.core.display.HTML object>",
      "text/html": "<h3>Run history:</h3><br/><style>\n    table.wandb td:nth-child(1) { padding: 0 10px; text-align: right }\n    </style><table class=\"wandb\">\n<tr><td>Loss/val</td><td>█▅▂▂▁▁▁▁▁▁▁▁▁▁▁▁▁▁▁▁▁▁▁▁▁▁▁▁▁▁▁▁▁▁▁▁▁▁▁▁</td></tr><tr><td>Loss/xy</td><td>█▅▂▂▁▁▁▁▁▁▁▁▁▁▁▁▁▁▁▁▁▁▁▁▁▁▁▁▁▁▁▁▁▁▁▁▁▁▁▁</td></tr><tr><td>Loss/floor</td><td>▃▃▃█▇▇▇▇▇▆▆▂▂▁▁▁▁▁▁▁▁▁▁▁▁▁▁▁▁▁▁▁▁▁▁▁▁▁▁▁</td></tr><tr><td>MPE/val</td><td>█▆▃▂▁▁▁▁▁▁▁▁▁▁▁▁▁▁▁▁▁▁▁▁▁▁▁▁▁▁▁▁▁▁▁▁▁▁▁▁</td></tr><tr><td>epoch</td><td>▁▁▁▁▂▂▂▂▂▃▃▃▃▃▃▄▄▄▄▄▅▅▅▅▅▅▆▆▆▆▆▇▇▇▇▇▇███</td></tr><tr><td>trainer/global_step</td><td>▁▁▁▁▂▂▂▂▂▃▃▃▃▃▃▄▄▄▄▄▅▅▅▅▅▅▆▆▆▆▆▇▇▇▇▇▇███</td></tr><tr><td>_runtime</td><td>▁▁▁▂▂▂▂▂▂▃▃▃▃▃▄▄▄▄▄▄▅▅▅▅▅▅▆▆▆▆▆▇▇▇▇▇▇███</td></tr><tr><td>_timestamp</td><td>▁▁▁▂▂▂▂▂▂▃▃▃▃▃▄▄▄▄▄▄▅▅▅▅▅▅▆▆▆▆▆▇▇▇▇▇▇███</td></tr><tr><td>_step</td><td>▁▁▁▁▂▂▂▂▂▃▃▃▃▃▃▄▄▄▄▄▅▅▅▅▅▅▆▆▆▆▆▇▇▇▇▇▇███</td></tr></table><br/>"
     },
     "metadata": {}
    },
    {
     "output_type": "display_data",
     "data": {
      "text/plain": "<IPython.core.display.HTML object>",
      "text/html": "Synced 5 W&B file(s), 1 media file(s), 0 artifact file(s) and 0 other file(s)"
     },
     "metadata": {}
    },
    {
     "output_type": "display_data",
     "data": {
      "text/plain": "<IPython.core.display.HTML object>",
      "text/html": "\n                    <br/>Synced <strong style=\"color:#cdcd00\">dandy-smoke-415</strong>: <a href=\"https://wandb.ai/kuto5046/indoor/runs/8q8zt0zt\" target=\"_blank\">https://wandb.ai/kuto5046/indoor/runs/8q8zt0zt</a><br/>\n                "
     },
     "metadata": {}
    },
    {
     "output_type": "stream",
     "name": "stdout",
     "text": [
      "====================\n",
      "Fold 4\n",
      "====================\n",
      "\u001b[34m\u001b[1mwandb\u001b[0m: wandb version 0.10.27 is available!  To upgrade, please run:\n",
      "\u001b[34m\u001b[1mwandb\u001b[0m:  $ pip install wandb --upgrade\n"
     ]
    },
    {
     "output_type": "display_data",
     "data": {
      "text/plain": "<IPython.core.display.HTML object>",
      "text/html": "\n                Tracking run with wandb version 0.10.22<br/>\n                Syncing run <strong style=\"color:#cdcd00\">young-morning-416</strong> to <a href=\"https://wandb.ai\" target=\"_blank\">Weights & Biases</a> <a href=\"https://docs.wandb.com/integrations/jupyter.html\" target=\"_blank\">(Documentation)</a>.<br/>\n                Project page: <a href=\"https://wandb.ai/kuto5046/indoor\" target=\"_blank\">https://wandb.ai/kuto5046/indoor</a><br/>\n                Run page: <a href=\"https://wandb.ai/kuto5046/indoor/runs/2p7t9scp\" target=\"_blank\">https://wandb.ai/kuto5046/indoor/runs/2p7t9scp</a><br/>\n                Run data is saved locally in <code>/home/user/work/exp/exp016/wandb/run-20210424_010930-2p7t9scp</code><br/><br/>\n            "
     },
     "metadata": {}
    },
    {
     "output_type": "stream",
     "name": "stderr",
     "text": [
      "GPU available: True, used: True\n",
      "TPU available: None, using: 0 TPU cores\n",
      "\n",
      "  | Name         | Type      | Params\n",
      "-------------------------------------------\n",
      "0 | model        | LSTMModel | 6.8 M \n",
      "1 | xy_criterion | MSELoss   | 0     \n",
      "2 | f_criterion  | MSELoss   | 0     \n",
      "-------------------------------------------\n",
      "6.8 M     Trainable params\n",
      "0         Non-trainable params\n",
      "6.8 M     Total params\n",
      "27.193    Total estimated model params size (MB)\n",
      "fold 4: mean position error 7.559881209199283\n"
     ]
    }
   ],
   "source": [
    "oofs = []  # 全てのoofをdfで格納する\n",
    "predictions = []  # 全ての予測値をdfで格納する\n",
    "val_scores = []\n",
    "# skf = model_selection.StratifiedKFold(n_splits=N_SPLITS, shuffle=True, random_state=SEED)\n",
    "gkf = model_selection.GroupKFold(n_splits=N_SPLITS)\n",
    "\n",
    "train_fold = [(trn_idx, val_idx) for trn_idx, val_idx in gkf.split(train.loc[:, 'path'], groups=train.loc[:, 'path'])]\n",
    "# 今回はtargetを均等に分ける必要はなくpathが均等に分かれればいいのでskf.split()にpathを与えている。\n",
    "for fold in range(5):\n",
    "    # 指定したfoldのみループを回す\n",
    "    if fold not in USE_FOLDS:\n",
    "        continue\n",
    "\n",
    "    print('=' * 20)\n",
    "    print(f'Fold {fold}')\n",
    "    print('=' * 20)\n",
    "\n",
    "    # train/valid data\n",
    "    trn_idx_for_train, val_idx_for_train = train_fold[fold]\n",
    "    trn_df = train.loc[trn_idx_for_train, :].reset_index(drop=True)\n",
    "    trn_df = trn_df.loc[:,BSSID_FEATS + RSSI_FEATS + ['site_id', 'x','y','floor']]\n",
    "    \n",
    "    val_df = train.loc[val_idx_for_train, :].reset_index(drop=True)\n",
    "    val_df = val_df.loc[:,BSSID_FEATS + RSSI_FEATS + ['site_id', 'x','y','floor']]\n",
    "\n",
    "    # data loader\n",
    "    loaders = {}\n",
    "    loader_config = config[\"loader\"]\n",
    "    loaders[\"train\"] = DataLoader(IndoorDataset(trn_df, phase=\"train\"), **loader_config[\"train\"], worker_init_fn=worker_init_fn) \n",
    "    loaders[\"valid\"] = DataLoader(IndoorDataset(val_df, phase=\"valid\"), **loader_config[\"valid\"], worker_init_fn=worker_init_fn)\n",
    "    loaders[\"test\"] = DataLoader(IndoorDataset(test, phase=\"test\"), **loader_config[\"test\"], worker_init_fn=worker_init_fn)\n",
    "\n",
    "    # model\n",
    "    model = LSTMModel(wifi_bssids_size, site_count)  # +1としているのはLEを1スタートで始めているため\n",
    "    model_name = model.__class__.__name__\n",
    "\n",
    "    # callbacks\n",
    "    callbacks = []\n",
    "    checkpoint_callback = ModelCheckpoint(\n",
    "        monitor=f'Loss/val',\n",
    "        mode='min',\n",
    "        dirpath=f\"../../model/{EXP_NAME}\",\n",
    "        verbose=False,\n",
    "        filename=f'{model_name}-{fold}')\n",
    "    \n",
    "    if MODEL_SAVE:\n",
    "        callbacks.append(checkpoint_callback)\n",
    "\n",
    "    early_stop_callback = EarlyStopping(\n",
    "        monitor='Loss/val',\n",
    "        min_delta=0.00,\n",
    "        patience=20,\n",
    "        verbose=False,\n",
    "        mode='min')\n",
    "    callbacks.append(early_stop_callback)\n",
    "\n",
    "    # loggers\n",
    "    RUN_NAME = EXP_NAME + \"_\" + EXP_MESSAGE\n",
    "    wandb.init(project='indoor', notes=NOTES, entity='kuto5046', group=RUN_NAME)\n",
    "    wandb.run.name = RUN_NAME + f'-fold-{fold}'\n",
    "    wandb_config = wandb.config\n",
    "    wandb_config['model_name'] = model_name\n",
    "    wandb.watch(model)\n",
    "    \n",
    "    \n",
    "    loggers = []\n",
    "    loggers.append(WandbLogger())\n",
    "\n",
    "    learner = Learner(model, config)\n",
    "    # pretrained flag\n",
    "    if PRETRAINED:\n",
    "        ckpt = torch.load(PRETRAINED_PATH + f'{model_name}-{fold}.ckpt')\n",
    "        learner.load_state_dict(ckpt['state_dict'])\n",
    "\n",
    "    if not ONLY_PRED:\n",
    "        trainer = pl.Trainer(\n",
    "            logger=loggers, \n",
    "            callbacks=callbacks,\n",
    "            max_epochs=MAX_EPOCHS,\n",
    "            gpus=[0],\n",
    "            fast_dev_run=DEBUG,\n",
    "            deterministic=True,\n",
    "            # precision=16,\n",
    "            progress_bar_refresh_rate=0  # vscodeの時progress barの動作が遅いので表示しない\n",
    "            )\n",
    "\n",
    "        trainer.fit(learner, train_dataloader=loaders['train'], val_dataloaders=loaders['valid'])\n",
    "\n",
    "    #############\n",
    "    # validation (to make oof)\n",
    "    #############\n",
    "    model.eval()  \n",
    "    oof_df = train.loc[val_idx_for_train, ['timestamp', 'x', 'y', 'floor', 'floor_str','path', 'site_id', 'site_id_str']].reset_index(drop=True)\n",
    "    oof_x, oof_y, oof_f = evaluate(model, loaders, phase=\"valid\")\n",
    "    oof_df[\"oof_x\"] = oof_x\n",
    "    oof_df[\"oof_y\"] = oof_y\n",
    "    oof_df[\"oof_floor\"] = oof_f\n",
    "    oofs.append(oof_df)\n",
    "    \n",
    "    val_score = mean_position_error(\n",
    "        oof_df[\"oof_x\"].values, oof_df[\"oof_y\"].values, 0,\n",
    "        oof_df['x'].values, oof_df['y'].values, 0)\n",
    "    val_scores.append(val_score)\n",
    "    print(f\"fold {fold}: mean position error {val_score}\")\n",
    "\n",
    "    #############\n",
    "    # inference\n",
    "    #############n\n",
    "\n",
    "    preds_x, preds_y, preds_f = evaluate(model, loaders, phase=\"test\")\n",
    "    test_preds = pd.DataFrame(np.stack((preds_f, preds_x, preds_y))).T\n",
    "    test_preds.columns = sub_df.columns\n",
    "    test_preds[\"site_path_timestamp\"] = test[\"site_path_timestamp\"]\n",
    "    test_preds[\"floor\"] = test_preds[\"floor\"].astype(int)\n",
    "    # test_preds.to_csv(f'{EXP_NAME}_fold{fold}.csv', index=False)\n",
    "    predictions.append(test_preds)\n",
    "\n",
    "    if fold != 4:\n",
    "        wandb.finish()"
   ]
  },
  {
   "cell_type": "markdown",
   "metadata": {},
   "source": [
    "## validation"
   ]
  },
  {
   "cell_type": "code",
   "execution_count": 21,
   "metadata": {},
   "outputs": [
    {
     "output_type": "execute_result",
     "data": {
      "text/plain": [
       "            timestamp          x           y  floor floor_str  \\\n",
       "0       1561368762838   78.21819   38.999737    2.0        F3   \n",
       "1       1561368762838   78.21819   38.999737    2.0        F3   \n",
       "2       1561368774057   76.25184   30.510840    2.0        F3   \n",
       "3       1561368774057   76.25184   30.510840    2.0        F3   \n",
       "4       1561368774057   76.25184   30.510840    2.0        F3   \n",
       "...               ...        ...         ...    ...       ...   \n",
       "256744  1574420742502  193.20488  108.001520   -1.0        B1   \n",
       "256745  1574420742502  193.20488  108.001520   -1.0        B1   \n",
       "256746  1574420753754  204.29349  107.835120   -1.0        B1   \n",
       "256747  1574420753754  204.29349  107.835120   -1.0        B1   \n",
       "256748  1574420753754  204.29349  107.835120   -1.0        B1   \n",
       "\n",
       "                            path  site_id               site_id_str  \\\n",
       "0       5d10a1669c50c70008fe8977        0  5a0546857ecc773753327266   \n",
       "1       5d10a1669c50c70008fe8977        0  5a0546857ecc773753327266   \n",
       "2       5d10a1669c50c70008fe8977        0  5a0546857ecc773753327266   \n",
       "3       5d10a1669c50c70008fe8977        0  5a0546857ecc773753327266   \n",
       "4       5d10a1669c50c70008fe8977        0  5a0546857ecc773753327266   \n",
       "...                          ...      ...                       ...   \n",
       "256744  5dd7c119c5b77e0006b16b99       23  5dc8cea7659e181adb076a3f   \n",
       "256745  5dd7c119c5b77e0006b16b99       23  5dc8cea7659e181adb076a3f   \n",
       "256746  5dd7c119c5b77e0006b16b99       23  5dc8cea7659e181adb076a3f   \n",
       "256747  5dd7c119c5b77e0006b16b99       23  5dc8cea7659e181adb076a3f   \n",
       "256748  5dd7c119c5b77e0006b16b99       23  5dc8cea7659e181adb076a3f   \n",
       "\n",
       "             oof_x       oof_y  oof_floor  \\\n",
       "0        80.769981   38.344566   0.000000   \n",
       "1        84.665276   32.181015   0.000000   \n",
       "2        80.708488   29.627096   0.000000   \n",
       "3        79.860130   27.645185   0.000000   \n",
       "4        80.092575   26.057396   0.000000   \n",
       "...            ...         ...        ...   \n",
       "256744  201.221008  103.799927   0.263081   \n",
       "256745  199.969269  104.850052   0.260668   \n",
       "256746  200.796341  104.025848   0.262820   \n",
       "256747  200.949646  102.624008   0.262498   \n",
       "256748  201.506821  102.454056   0.265368   \n",
       "\n",
       "                                      site_path_timestamp  \n",
       "0       5a0546857ecc773753327266_5d10a1669c50c70008fe8...  \n",
       "1       5a0546857ecc773753327266_5d10a1669c50c70008fe8...  \n",
       "2       5a0546857ecc773753327266_5d10a1669c50c70008fe8...  \n",
       "3       5a0546857ecc773753327266_5d10a1669c50c70008fe8...  \n",
       "4       5a0546857ecc773753327266_5d10a1669c50c70008fe8...  \n",
       "...                                                   ...  \n",
       "256744  5dc8cea7659e181adb076a3f_5dd7c119c5b77e0006b16...  \n",
       "256745  5dc8cea7659e181adb076a3f_5dd7c119c5b77e0006b16...  \n",
       "256746  5dc8cea7659e181adb076a3f_5dd7c119c5b77e0006b16...  \n",
       "256747  5dc8cea7659e181adb076a3f_5dd7c119c5b77e0006b16...  \n",
       "256748  5dc8cea7659e181adb076a3f_5dd7c119c5b77e0006b16...  \n",
       "\n",
       "[256749 rows x 12 columns]"
      ],
      "text/html": "<div>\n<style scoped>\n    .dataframe tbody tr th:only-of-type {\n        vertical-align: middle;\n    }\n\n    .dataframe tbody tr th {\n        vertical-align: top;\n    }\n\n    .dataframe thead th {\n        text-align: right;\n    }\n</style>\n<table border=\"1\" class=\"dataframe\">\n  <thead>\n    <tr style=\"text-align: right;\">\n      <th></th>\n      <th>timestamp</th>\n      <th>x</th>\n      <th>y</th>\n      <th>floor</th>\n      <th>floor_str</th>\n      <th>path</th>\n      <th>site_id</th>\n      <th>site_id_str</th>\n      <th>oof_x</th>\n      <th>oof_y</th>\n      <th>oof_floor</th>\n      <th>site_path_timestamp</th>\n    </tr>\n  </thead>\n  <tbody>\n    <tr>\n      <th>0</th>\n      <td>1561368762838</td>\n      <td>78.21819</td>\n      <td>38.999737</td>\n      <td>2.0</td>\n      <td>F3</td>\n      <td>5d10a1669c50c70008fe8977</td>\n      <td>0</td>\n      <td>5a0546857ecc773753327266</td>\n      <td>80.769981</td>\n      <td>38.344566</td>\n      <td>0.000000</td>\n      <td>5a0546857ecc773753327266_5d10a1669c50c70008fe8...</td>\n    </tr>\n    <tr>\n      <th>1</th>\n      <td>1561368762838</td>\n      <td>78.21819</td>\n      <td>38.999737</td>\n      <td>2.0</td>\n      <td>F3</td>\n      <td>5d10a1669c50c70008fe8977</td>\n      <td>0</td>\n      <td>5a0546857ecc773753327266</td>\n      <td>84.665276</td>\n      <td>32.181015</td>\n      <td>0.000000</td>\n      <td>5a0546857ecc773753327266_5d10a1669c50c70008fe8...</td>\n    </tr>\n    <tr>\n      <th>2</th>\n      <td>1561368774057</td>\n      <td>76.25184</td>\n      <td>30.510840</td>\n      <td>2.0</td>\n      <td>F3</td>\n      <td>5d10a1669c50c70008fe8977</td>\n      <td>0</td>\n      <td>5a0546857ecc773753327266</td>\n      <td>80.708488</td>\n      <td>29.627096</td>\n      <td>0.000000</td>\n      <td>5a0546857ecc773753327266_5d10a1669c50c70008fe8...</td>\n    </tr>\n    <tr>\n      <th>3</th>\n      <td>1561368774057</td>\n      <td>76.25184</td>\n      <td>30.510840</td>\n      <td>2.0</td>\n      <td>F3</td>\n      <td>5d10a1669c50c70008fe8977</td>\n      <td>0</td>\n      <td>5a0546857ecc773753327266</td>\n      <td>79.860130</td>\n      <td>27.645185</td>\n      <td>0.000000</td>\n      <td>5a0546857ecc773753327266_5d10a1669c50c70008fe8...</td>\n    </tr>\n    <tr>\n      <th>4</th>\n      <td>1561368774057</td>\n      <td>76.25184</td>\n      <td>30.510840</td>\n      <td>2.0</td>\n      <td>F3</td>\n      <td>5d10a1669c50c70008fe8977</td>\n      <td>0</td>\n      <td>5a0546857ecc773753327266</td>\n      <td>80.092575</td>\n      <td>26.057396</td>\n      <td>0.000000</td>\n      <td>5a0546857ecc773753327266_5d10a1669c50c70008fe8...</td>\n    </tr>\n    <tr>\n      <th>...</th>\n      <td>...</td>\n      <td>...</td>\n      <td>...</td>\n      <td>...</td>\n      <td>...</td>\n      <td>...</td>\n      <td>...</td>\n      <td>...</td>\n      <td>...</td>\n      <td>...</td>\n      <td>...</td>\n      <td>...</td>\n    </tr>\n    <tr>\n      <th>256744</th>\n      <td>1574420742502</td>\n      <td>193.20488</td>\n      <td>108.001520</td>\n      <td>-1.0</td>\n      <td>B1</td>\n      <td>5dd7c119c5b77e0006b16b99</td>\n      <td>23</td>\n      <td>5dc8cea7659e181adb076a3f</td>\n      <td>201.221008</td>\n      <td>103.799927</td>\n      <td>0.263081</td>\n      <td>5dc8cea7659e181adb076a3f_5dd7c119c5b77e0006b16...</td>\n    </tr>\n    <tr>\n      <th>256745</th>\n      <td>1574420742502</td>\n      <td>193.20488</td>\n      <td>108.001520</td>\n      <td>-1.0</td>\n      <td>B1</td>\n      <td>5dd7c119c5b77e0006b16b99</td>\n      <td>23</td>\n      <td>5dc8cea7659e181adb076a3f</td>\n      <td>199.969269</td>\n      <td>104.850052</td>\n      <td>0.260668</td>\n      <td>5dc8cea7659e181adb076a3f_5dd7c119c5b77e0006b16...</td>\n    </tr>\n    <tr>\n      <th>256746</th>\n      <td>1574420753754</td>\n      <td>204.29349</td>\n      <td>107.835120</td>\n      <td>-1.0</td>\n      <td>B1</td>\n      <td>5dd7c119c5b77e0006b16b99</td>\n      <td>23</td>\n      <td>5dc8cea7659e181adb076a3f</td>\n      <td>200.796341</td>\n      <td>104.025848</td>\n      <td>0.262820</td>\n      <td>5dc8cea7659e181adb076a3f_5dd7c119c5b77e0006b16...</td>\n    </tr>\n    <tr>\n      <th>256747</th>\n      <td>1574420753754</td>\n      <td>204.29349</td>\n      <td>107.835120</td>\n      <td>-1.0</td>\n      <td>B1</td>\n      <td>5dd7c119c5b77e0006b16b99</td>\n      <td>23</td>\n      <td>5dc8cea7659e181adb076a3f</td>\n      <td>200.949646</td>\n      <td>102.624008</td>\n      <td>0.262498</td>\n      <td>5dc8cea7659e181adb076a3f_5dd7c119c5b77e0006b16...</td>\n    </tr>\n    <tr>\n      <th>256748</th>\n      <td>1574420753754</td>\n      <td>204.29349</td>\n      <td>107.835120</td>\n      <td>-1.0</td>\n      <td>B1</td>\n      <td>5dd7c119c5b77e0006b16b99</td>\n      <td>23</td>\n      <td>5dc8cea7659e181adb076a3f</td>\n      <td>201.506821</td>\n      <td>102.454056</td>\n      <td>0.265368</td>\n      <td>5dc8cea7659e181adb076a3f_5dd7c119c5b77e0006b16...</td>\n    </tr>\n  </tbody>\n</table>\n<p>256749 rows × 12 columns</p>\n</div>"
     },
     "metadata": {},
     "execution_count": 21
    }
   ],
   "source": [
    "if len(USE_FOLDS) > 1:\n",
    "    oofs_df = pd.concat(oofs)\n",
    "else:\n",
    "    oofs_df = oofs[0]\n",
    "\n",
    "oofs_df['site_path_timestamp'] = oofs_df['site_id_str'].astype(str) + '_' + oofs_df['path'] + '_' + oofs_df['timestamp'].astype(str)\n",
    "oofs_df = oofs_df.sort_values('site_path_timestamp').reset_index(drop=True)\n",
    "oofs_df.to_csv(\"oof.csv\", index=False)\n",
    "oofs_df"
   ]
  },
  {
   "cell_type": "code",
   "execution_count": 22,
   "metadata": {},
   "outputs": [
    {
     "output_type": "stream",
     "name": "stdout",
     "text": [
      "CV:7.537722387306749\n"
     ]
    }
   ],
   "source": [
    "# waypoint補正前のx,yでの評価\n",
    "oof_score = mean_position_error(\n",
    "    oofs_df['oof_x'], oofs_df['oof_y'], 0, \n",
    "    oofs_df['x'], oofs_df['y'], 0\n",
    "    )\n",
    "\n",
    "wandb_config['CV'] = oof_score\n",
    "print(f\"CV:{oof_score}\")"
   ]
  },
  {
   "cell_type": "code",
   "execution_count": 23,
   "metadata": {},
   "outputs": [
    {
     "output_type": "execute_result",
     "data": {
      "text/plain": [
       "                                                    floor           x  \\\n",
       "site_path_timestamp                                                     \n",
       "5a0546857ecc773753327266_046cfa46be49fc10834815...      0   88.427124   \n",
       "5a0546857ecc773753327266_046cfa46be49fc10834815...      0   82.435730   \n",
       "5a0546857ecc773753327266_046cfa46be49fc10834815...      0   86.123703   \n",
       "5a0546857ecc773753327266_046cfa46be49fc10834815...      0   88.286575   \n",
       "5a0546857ecc773753327266_046cfa46be49fc10834815...      0   87.605873   \n",
       "...                                                   ...         ...   \n",
       "5dc8cea7659e181adb076a3f_fd64de8c4a2fc5ebb0e9f4...      0  215.092819   \n",
       "5dc8cea7659e181adb076a3f_fd64de8c4a2fc5ebb0e9f4...      0  212.359039   \n",
       "5dc8cea7659e181adb076a3f_fd64de8c4a2fc5ebb0e9f4...      0  206.607315   \n",
       "5dc8cea7659e181adb076a3f_fd64de8c4a2fc5ebb0e9f4...      0  203.744293   \n",
       "5dc8cea7659e181adb076a3f_fd64de8c4a2fc5ebb0e9f4...      0  201.610977   \n",
       "\n",
       "                                                             y  \n",
       "site_path_timestamp                                             \n",
       "5a0546857ecc773753327266_046cfa46be49fc10834815...  103.474449  \n",
       "5a0546857ecc773753327266_046cfa46be49fc10834815...  103.645454  \n",
       "5a0546857ecc773753327266_046cfa46be49fc10834815...  105.619781  \n",
       "5a0546857ecc773753327266_046cfa46be49fc10834815...  107.179955  \n",
       "5a0546857ecc773753327266_046cfa46be49fc10834815...  105.753479  \n",
       "...                                                        ...  \n",
       "5dc8cea7659e181adb076a3f_fd64de8c4a2fc5ebb0e9f4...   95.419724  \n",
       "5dc8cea7659e181adb076a3f_fd64de8c4a2fc5ebb0e9f4...   96.314903  \n",
       "5dc8cea7659e181adb076a3f_fd64de8c4a2fc5ebb0e9f4...  105.156761  \n",
       "5dc8cea7659e181adb076a3f_fd64de8c4a2fc5ebb0e9f4...  109.749443  \n",
       "5dc8cea7659e181adb076a3f_fd64de8c4a2fc5ebb0e9f4...  108.077454  \n",
       "\n",
       "[10133 rows x 3 columns]"
      ],
      "text/html": "<div>\n<style scoped>\n    .dataframe tbody tr th:only-of-type {\n        vertical-align: middle;\n    }\n\n    .dataframe tbody tr th {\n        vertical-align: top;\n    }\n\n    .dataframe thead th {\n        text-align: right;\n    }\n</style>\n<table border=\"1\" class=\"dataframe\">\n  <thead>\n    <tr style=\"text-align: right;\">\n      <th></th>\n      <th>floor</th>\n      <th>x</th>\n      <th>y</th>\n    </tr>\n    <tr>\n      <th>site_path_timestamp</th>\n      <th></th>\n      <th></th>\n      <th></th>\n    </tr>\n  </thead>\n  <tbody>\n    <tr>\n      <th>5a0546857ecc773753327266_046cfa46be49fc10834815c6_0000000000009</th>\n      <td>0</td>\n      <td>88.427124</td>\n      <td>103.474449</td>\n    </tr>\n    <tr>\n      <th>5a0546857ecc773753327266_046cfa46be49fc10834815c6_0000000009017</th>\n      <td>0</td>\n      <td>82.435730</td>\n      <td>103.645454</td>\n    </tr>\n    <tr>\n      <th>5a0546857ecc773753327266_046cfa46be49fc10834815c6_0000000015326</th>\n      <td>0</td>\n      <td>86.123703</td>\n      <td>105.619781</td>\n    </tr>\n    <tr>\n      <th>5a0546857ecc773753327266_046cfa46be49fc10834815c6_0000000018763</th>\n      <td>0</td>\n      <td>88.286575</td>\n      <td>107.179955</td>\n    </tr>\n    <tr>\n      <th>5a0546857ecc773753327266_046cfa46be49fc10834815c6_0000000022328</th>\n      <td>0</td>\n      <td>87.605873</td>\n      <td>105.753479</td>\n    </tr>\n    <tr>\n      <th>...</th>\n      <td>...</td>\n      <td>...</td>\n      <td>...</td>\n    </tr>\n    <tr>\n      <th>5dc8cea7659e181adb076a3f_fd64de8c4a2fc5ebb0e9f412_0000000082589</th>\n      <td>0</td>\n      <td>215.092819</td>\n      <td>95.419724</td>\n    </tr>\n    <tr>\n      <th>5dc8cea7659e181adb076a3f_fd64de8c4a2fc5ebb0e9f412_0000000085758</th>\n      <td>0</td>\n      <td>212.359039</td>\n      <td>96.314903</td>\n    </tr>\n    <tr>\n      <th>5dc8cea7659e181adb076a3f_fd64de8c4a2fc5ebb0e9f412_0000000090895</th>\n      <td>0</td>\n      <td>206.607315</td>\n      <td>105.156761</td>\n    </tr>\n    <tr>\n      <th>5dc8cea7659e181adb076a3f_fd64de8c4a2fc5ebb0e9f412_0000000096899</th>\n      <td>0</td>\n      <td>203.744293</td>\n      <td>109.749443</td>\n    </tr>\n    <tr>\n      <th>5dc8cea7659e181adb076a3f_fd64de8c4a2fc5ebb0e9f412_0000000100447</th>\n      <td>0</td>\n      <td>201.610977</td>\n      <td>108.077454</td>\n    </tr>\n  </tbody>\n</table>\n<p>10133 rows × 3 columns</p>\n</div>"
     },
     "metadata": {},
     "execution_count": 23
    }
   ],
   "source": [
    "if len(USE_FOLDS) > 1:\n",
    "    # foldの結果を平均した後、reindexでsubmission fileにindexを合わせる\n",
    "    sub = pd.concat(predictions).groupby('site_path_timestamp').mean()\n",
    "    sub.index = sub_df.index\n",
    "else:\n",
    "    sub = predictions[0]\n",
    "    sub.index = sub_df.index\n",
    "sub\n"
   ]
  },
  {
   "cell_type": "code",
   "execution_count": 24,
   "metadata": {},
   "outputs": [
    {
     "output_type": "execute_result",
     "data": {
      "text/plain": [
       "                                                    floor           x  \\\n",
       "site_path_timestamp                                                     \n",
       "5a0546857ecc773753327266_046cfa46be49fc10834815...      0   88.427124   \n",
       "5a0546857ecc773753327266_046cfa46be49fc10834815...      0   82.435730   \n",
       "5a0546857ecc773753327266_046cfa46be49fc10834815...      0   86.123703   \n",
       "5a0546857ecc773753327266_046cfa46be49fc10834815...      0   88.286575   \n",
       "5a0546857ecc773753327266_046cfa46be49fc10834815...      0   87.605873   \n",
       "...                                                   ...         ...   \n",
       "5dc8cea7659e181adb076a3f_fd64de8c4a2fc5ebb0e9f4...      5  215.092819   \n",
       "5dc8cea7659e181adb076a3f_fd64de8c4a2fc5ebb0e9f4...      5  212.359039   \n",
       "5dc8cea7659e181adb076a3f_fd64de8c4a2fc5ebb0e9f4...      5  206.607315   \n",
       "5dc8cea7659e181adb076a3f_fd64de8c4a2fc5ebb0e9f4...      5  203.744293   \n",
       "5dc8cea7659e181adb076a3f_fd64de8c4a2fc5ebb0e9f4...      5  201.610977   \n",
       "\n",
       "                                                             y  \n",
       "site_path_timestamp                                             \n",
       "5a0546857ecc773753327266_046cfa46be49fc10834815...  103.474449  \n",
       "5a0546857ecc773753327266_046cfa46be49fc10834815...  103.645454  \n",
       "5a0546857ecc773753327266_046cfa46be49fc10834815...  105.619781  \n",
       "5a0546857ecc773753327266_046cfa46be49fc10834815...  107.179955  \n",
       "5a0546857ecc773753327266_046cfa46be49fc10834815...  105.753479  \n",
       "...                                                        ...  \n",
       "5dc8cea7659e181adb076a3f_fd64de8c4a2fc5ebb0e9f4...   95.419724  \n",
       "5dc8cea7659e181adb076a3f_fd64de8c4a2fc5ebb0e9f4...   96.314903  \n",
       "5dc8cea7659e181adb076a3f_fd64de8c4a2fc5ebb0e9f4...  105.156761  \n",
       "5dc8cea7659e181adb076a3f_fd64de8c4a2fc5ebb0e9f4...  109.749443  \n",
       "5dc8cea7659e181adb076a3f_fd64de8c4a2fc5ebb0e9f4...  108.077454  \n",
       "\n",
       "[10133 rows x 3 columns]"
      ],
      "text/html": "<div>\n<style scoped>\n    .dataframe tbody tr th:only-of-type {\n        vertical-align: middle;\n    }\n\n    .dataframe tbody tr th {\n        vertical-align: top;\n    }\n\n    .dataframe thead th {\n        text-align: right;\n    }\n</style>\n<table border=\"1\" class=\"dataframe\">\n  <thead>\n    <tr style=\"text-align: right;\">\n      <th></th>\n      <th>floor</th>\n      <th>x</th>\n      <th>y</th>\n    </tr>\n    <tr>\n      <th>site_path_timestamp</th>\n      <th></th>\n      <th></th>\n      <th></th>\n    </tr>\n  </thead>\n  <tbody>\n    <tr>\n      <th>5a0546857ecc773753327266_046cfa46be49fc10834815c6_0000000000009</th>\n      <td>0</td>\n      <td>88.427124</td>\n      <td>103.474449</td>\n    </tr>\n    <tr>\n      <th>5a0546857ecc773753327266_046cfa46be49fc10834815c6_0000000009017</th>\n      <td>0</td>\n      <td>82.435730</td>\n      <td>103.645454</td>\n    </tr>\n    <tr>\n      <th>5a0546857ecc773753327266_046cfa46be49fc10834815c6_0000000015326</th>\n      <td>0</td>\n      <td>86.123703</td>\n      <td>105.619781</td>\n    </tr>\n    <tr>\n      <th>5a0546857ecc773753327266_046cfa46be49fc10834815c6_0000000018763</th>\n      <td>0</td>\n      <td>88.286575</td>\n      <td>107.179955</td>\n    </tr>\n    <tr>\n      <th>5a0546857ecc773753327266_046cfa46be49fc10834815c6_0000000022328</th>\n      <td>0</td>\n      <td>87.605873</td>\n      <td>105.753479</td>\n    </tr>\n    <tr>\n      <th>...</th>\n      <td>...</td>\n      <td>...</td>\n      <td>...</td>\n    </tr>\n    <tr>\n      <th>5dc8cea7659e181adb076a3f_fd64de8c4a2fc5ebb0e9f412_0000000082589</th>\n      <td>5</td>\n      <td>215.092819</td>\n      <td>95.419724</td>\n    </tr>\n    <tr>\n      <th>5dc8cea7659e181adb076a3f_fd64de8c4a2fc5ebb0e9f412_0000000085758</th>\n      <td>5</td>\n      <td>212.359039</td>\n      <td>96.314903</td>\n    </tr>\n    <tr>\n      <th>5dc8cea7659e181adb076a3f_fd64de8c4a2fc5ebb0e9f412_0000000090895</th>\n      <td>5</td>\n      <td>206.607315</td>\n      <td>105.156761</td>\n    </tr>\n    <tr>\n      <th>5dc8cea7659e181adb076a3f_fd64de8c4a2fc5ebb0e9f412_0000000096899</th>\n      <td>5</td>\n      <td>203.744293</td>\n      <td>109.749443</td>\n    </tr>\n    <tr>\n      <th>5dc8cea7659e181adb076a3f_fd64de8c4a2fc5ebb0e9f412_0000000100447</th>\n      <td>5</td>\n      <td>201.610977</td>\n      <td>108.077454</td>\n    </tr>\n  </tbody>\n</table>\n<p>10133 rows × 3 columns</p>\n</div>"
     },
     "metadata": {},
     "execution_count": 24
    }
   ],
   "source": [
    "# floorの数値を置換\n",
    "simple_accurate_99 = pd.read_csv(root_dir / 'simple-99-accurate-floor-model/submission.csv')\n",
    "sub['floor'] = simple_accurate_99['floor'].values\n",
    "sub"
   ]
  },
  {
   "cell_type": "code",
   "execution_count": 25,
   "metadata": {},
   "outputs": [],
   "source": [
    "sub.to_csv(EXP_NAME + '_sub.csv')"
   ]
  },
  {
   "cell_type": "markdown",
   "metadata": {},
   "source": [
    "## 後処理"
   ]
  },
  {
   "cell_type": "markdown",
   "metadata": {},
   "source": [
    "## cost minimaization"
   ]
  },
  {
   "cell_type": "code",
   "execution_count": 26,
   "metadata": {},
   "outputs": [],
   "source": [
    "import multiprocessing\n",
    "import scipy.interpolate\n",
    "import scipy.sparse\n",
    "from tqdm import tqdm\n",
    "import sys\n",
    "sys.path.append('../../')\n",
    "from src.io_f import read_data_file\n",
    "from src import compute_f\n",
    "from scipy.signal import butter, lfilter"
   ]
  },
  {
   "cell_type": "code",
   "execution_count": 27,
   "metadata": {},
   "outputs": [],
   "source": [
    "import math\n",
    "\n",
    "order = 3\n",
    "fs = 50.0  # sample rate, Hz\n",
    "# fs = 100\n",
    "# cutoff = 3.667  # desired cutoff frequency of the filter, Hz\n",
    "cutoff = 3\n",
    "\n",
    "step_distance = 0.8\n",
    "w_height = 1.7\n",
    "m_trans = -5"
   ]
  },
  {
   "cell_type": "code",
   "execution_count": 28,
   "metadata": {},
   "outputs": [
    {
     "output_type": "stream",
     "name": "stderr",
     "text": [
      "<>:146: SyntaxWarning: \"is\" with a literal. Did you mean \"==\"?\n<>:146: SyntaxWarning: \"is\" with a literal. Did you mean \"==\"?\n<ipython-input-28-a1a172f865b0>:146: SyntaxWarning: \"is\" with a literal. Did you mean \"==\"?\n  if current_state is 'above':\n"
     ]
    }
   ],
   "source": [
    "def compute_rel_positions(acce_datas, ahrs_datas):\n",
    "    step_timestamps, step_indexs, step_acce_max_mins = compute_f.compute_steps(acce_datas)\n",
    "    headings = compute_f.compute_headings(ahrs_datas)\n",
    "    stride_lengths = compute_f.compute_stride_length(step_acce_max_mins)\n",
    "    step_headings = compute_f.compute_step_heading(step_timestamps, headings)\n",
    "    rel_positions = compute_f.compute_rel_positions(stride_lengths, step_headings)\n",
    "    return rel_positions\n",
    "\n",
    "\n",
    "def correct_path(args):\n",
    "    path, path_df = args\n",
    "    \n",
    "    T_ref  = path_df['timestamp'].values\n",
    "    xy_hat = path_df[['x', 'y']].values\n",
    "    example = read_data_file(root_dir/ f'indoor-location-navigation/test/{path}.txt')\n",
    "    \n",
    "    # rel_positions = compute_rel_positions(example.acce, example.ahrs)\n",
    "    # ↑を↓に置き換える\n",
    "    rel_positions1 = compute_rel_positions(example.acce, example.ahrs)\n",
    "    rel_positions2 = steps_compute_rel_positions(example)\n",
    "    rel1 = rel_positions1.copy()\n",
    "    rel2 = rel_positions2.copy()\n",
    "    rel1[:,1:] = rel_positions1[:,1:] / 2\n",
    "    rel2[:,1:] = rel_positions2[:,1:] / 2\n",
    "    rel_positions = np.vstack([rel1,rel2])\n",
    "    rel_positions = rel_positions[np.argsort(rel_positions[:, 0])]\n",
    "    \n",
    "    if T_ref[-1] > rel_positions[-1, 0]:\n",
    "        rel_positions = [np.array([[0, 0, 0]]), rel_positions, np.array([[T_ref[-1], 0, 0]])]\n",
    "    else:\n",
    "        rel_positions = [np.array([[0, 0, 0]]), rel_positions]\n",
    "    rel_positions = np.concatenate(rel_positions)\n",
    "    \n",
    "    T_rel = rel_positions[:, 0]\n",
    "    delta_xy_hat = np.diff(scipy.interpolate.interp1d(T_rel, np.cumsum(rel_positions[:, 1:3], axis=0), axis=0)(T_ref), axis=0)\n",
    "\n",
    "    N = xy_hat.shape[0]\n",
    "    delta_t = np.diff(T_ref)\n",
    "    alpha = (8.1)**(-2) * np.ones(N)\n",
    "    beta  = (0.3 + 0.3 * 1e-3 * delta_t)**(-2)\n",
    "    A = scipy.sparse.spdiags(alpha, [0], N, N)\n",
    "    B = scipy.sparse.spdiags( beta, [0], N-1, N-1)\n",
    "    D = scipy.sparse.spdiags(np.stack([-np.ones(N), np.ones(N)]), [0, 1], N-1, N)\n",
    "\n",
    "    Q = A + (D.T @ B @ D)\n",
    "    c = (A @ xy_hat) + (D.T @ (B @ delta_xy_hat))\n",
    "    xy_star = scipy.sparse.linalg.spsolve(Q, c)\n",
    "\n",
    "    return pd.DataFrame({\n",
    "        'site_path_timestamp' : path_df['site_path_timestamp'],\n",
    "        'floor' : path_df['floor'],\n",
    "        'x' : xy_star[:, 0],\n",
    "        'y' : xy_star[:, 1],\n",
    "    })\n",
    "\n",
    "\n",
    "\n",
    "def correct_path_train(args):\n",
    "    #print(args)\n",
    "    (site_id, path, floor), path_df = args\n",
    "    \n",
    "    T_ref  = path_df['timestamp'].values\n",
    "    xy_hat = path_df[['x', 'y']].values\n",
    "    \n",
    "    example = read_data_file(f'{root_dir}/indoor-location-navigation/train/{site_id}/{floor}/{path}.txt')\n",
    "    \n",
    "    # rel_positions = compute_rel_positions(example.acce, example.ahrs)\n",
    "    # ↑を↓に置き換える\n",
    "    rel_positions1 = compute_rel_positions(example.acce, example.ahrs)\n",
    "    rel_positions2 = steps_compute_rel_positions(example)\n",
    "    rel1 = rel_positions1.copy()\n",
    "    rel2 = rel_positions2.copy()\n",
    "    rel1[:,1:] = rel_positions1[:,1:] / 2\n",
    "    rel2[:,1:] = rel_positions2[:,1:] / 2\n",
    "    rel_positions = np.vstack([rel1,rel2])\n",
    "    rel_positions = rel_positions[np.argsort(rel_positions[:, 0])]\n",
    "    \n",
    "    \n",
    "    if T_ref[-1] > rel_positions[-1, 0]:\n",
    "        rel_positions = [np.array([[0, 0, 0]]), rel_positions, np.array([[T_ref[-1], 0, 0]])]\n",
    "    else:\n",
    "        rel_positions = [np.array([[0, 0, 0]]), rel_positions]\n",
    "    rel_positions = np.concatenate(rel_positions)\n",
    "    \n",
    "    T_rel = rel_positions[:, 0]\n",
    "\n",
    "    try:\n",
    "        delta_xy_hat = np.diff(scipy.interpolate.interp1d(T_rel, np.cumsum(rel_positions[:, 1:3], axis=0), axis=0)(T_ref), axis=0)\n",
    "    except:\n",
    "        return pd.DataFrame({\n",
    "            'site_path_timestamp' : path_df['site_path_timestamp'],\n",
    "            'floor' : path_df['floor'],\n",
    "            'x' : path_df['x'].to_numpy(),\n",
    "            'y' : path_df['y'].to_numpy()\n",
    "        })\n",
    "    \n",
    "\n",
    "    N = xy_hat.shape[0]\n",
    "    delta_t = np.diff(T_ref)\n",
    "    alpha = (8.1)**(-2) * np.ones(N)\n",
    "    beta  = (0.3 + 0.3 * 1e-3 * delta_t)**(-2)\n",
    "    A = scipy.sparse.spdiags(alpha, [0], N, N)\n",
    "    B = scipy.sparse.spdiags( beta, [0], N-1, N-1)\n",
    "    D = scipy.sparse.spdiags(np.stack([-np.ones(N), np.ones(N)]), [0, 1], N-1, N)\n",
    "\n",
    "    Q = A + (D.T @ B @ D)\n",
    "    c = (A @ xy_hat) + (D.T @ (B @ delta_xy_hat))\n",
    "    xy_star = scipy.sparse.linalg.spsolve(Q, c)\n",
    "\n",
    "\n",
    "    return pd.DataFrame({\n",
    "        'site_path_timestamp' : path_df['site_path_timestamp'],\n",
    "        'floor' : path_df['floor'],\n",
    "        'x' : xy_star[:, 0],\n",
    "        'y' : xy_star[:, 1],\n",
    "    })\n",
    "\n",
    "\n",
    "\n",
    "def butter_lowpass(cutoff, fs, order=5):\n",
    "    nyq = 0.5 * fs\n",
    "    normal_cutoff = cutoff / nyq\n",
    "    b, a = butter(order, normal_cutoff, btype='low', analog=False)\n",
    "    return b, a\n",
    "\n",
    "def butter_lowpass_filter(data, cutoff, fs, order=5):\n",
    "    b, a = butter_lowpass(cutoff, fs, order=order)\n",
    "    y = lfilter(b, a, data)\n",
    "    return y\n",
    "\n",
    "def peak_accel_threshold(data, timestamps, threshold):\n",
    "    d_acc = []\n",
    "    last_state = 'below'\n",
    "    crest_troughs = 0\n",
    "    crossings = []\n",
    "\n",
    "    for i, datum in enumerate(data):\n",
    "        \n",
    "        current_state = last_state\n",
    "        if datum < threshold:\n",
    "            current_state = 'below'\n",
    "        elif datum > threshold:\n",
    "            current_state = 'above'\n",
    "\n",
    "        if current_state is not last_state:\n",
    "            if current_state is 'above':\n",
    "                crossing = [timestamps[i], threshold]\n",
    "                crossings.append(crossing)\n",
    "            else:\n",
    "                crossing = [timestamps[i], threshold]\n",
    "                crossings.append(crossing)\n",
    "\n",
    "            crest_troughs += 1\n",
    "        last_state = current_state\n",
    "    return np.array(crossings)\n"
   ]
  },
  {
   "cell_type": "code",
   "execution_count": 29,
   "metadata": {},
   "outputs": [],
   "source": [
    "def steps_compute_rel_positions(sample_file):\n",
    "    \n",
    "    mix_acce = np.sqrt(sample_file.acce[:,1:2]**2 + sample_file.acce[:,2:3]**2 + sample_file.acce[:,3:4]**2)\n",
    "    mix_acce = np.concatenate([sample_file.acce[:,0:1], mix_acce], 1)\n",
    "    mix_df = pd.DataFrame(mix_acce)\n",
    "    mix_df.columns = [\"timestamp\",\"acce\"]\n",
    "    \n",
    "    filtered = butter_lowpass_filter(mix_df[\"acce\"], cutoff, fs, order)\n",
    "\n",
    "    threshold = filtered.mean() * 1.1\n",
    "    crossings = peak_accel_threshold(filtered, mix_df[\"timestamp\"], threshold)\n",
    "\n",
    "    step_sum = len(crossings)/2\n",
    "    distance = w_height * 0.4 * step_sum\n",
    "\n",
    "    mag_df = pd.DataFrame(sample_file.magn)\n",
    "    mag_df.columns = [\"timestamp\",\"x\",\"y\",\"z\"]\n",
    "    \n",
    "    acce_df = pd.DataFrame(sample_file.acce)\n",
    "    acce_df.columns = [\"timestamp\",\"ax\",\"ay\",\"az\"]\n",
    "    \n",
    "    mag_df = pd.merge(mag_df,acce_df,on=\"timestamp\")\n",
    "    mag_df.dropna()\n",
    "    \n",
    "    time_di_list = []\n",
    "\n",
    "    for i in mag_df.iterrows():\n",
    "\n",
    "        gx,gy,gz = i[1][1],i[1][2],i[1][3]\n",
    "        ax,ay,az = i[1][4],i[1][5],i[1][6]\n",
    "\n",
    "        roll = math.atan2(ay,az)\n",
    "        pitch = math.atan2(-1*ax , (ay * math.sin(roll) + az * math.cos(roll)))\n",
    "\n",
    "        q = m_trans - math.degrees(math.atan2(\n",
    "            (gz*math.sin(roll)-gy*math.cos(roll)),(gx*math.cos(pitch) + gy*math.sin(roll)*math.sin(pitch) + gz*math.sin(pitch)*math.cos(roll))\n",
    "        )) -90\n",
    "        if q <= 0:\n",
    "            q += 360\n",
    "        time_di_list.append((i[1][0],q))\n",
    "\n",
    "    d_list = [x[1] for x in time_di_list]\n",
    "    \n",
    "    steps = []\n",
    "    step_time = []\n",
    "    di_dict = dict(time_di_list)\n",
    "\n",
    "    for n,i in enumerate(crossings[:,:1]):\n",
    "        if n % 2 == 1:\n",
    "            continue\n",
    "        direct_now = di_dict[i[0]]\n",
    "        dx = math.sin(math.radians(direct_now))\n",
    "        dy = math.cos(math.radians(direct_now))\n",
    "#         print(int(n/2+1),\"歩目/x:\",dx,\"/y:\",dy,\"/角度：\",direct_now)\n",
    "        steps.append((i[0],dx,dy))\n",
    "        step_time.append(i[0])\n",
    "    \n",
    "        step_dtime = np.diff(step_time)/1000\n",
    "        step_dtime = step_dtime.tolist()\n",
    "        step_dtime.insert(0,5)\n",
    "        \n",
    "        rel_position = []\n",
    "\n",
    "        wp_idx = 0\n",
    "#         print(\"WP:\",round(sample_file.waypoint[0,1],3),round(sample_file.waypoint[0,2],3),sample_file.waypoint[0,0])\n",
    "#         print(\"------------------\")\n",
    "        for p,i in enumerate(steps):\n",
    "            step_distance = 0\n",
    "            if step_dtime[p] >= 1:\n",
    "                step_distance = w_height*0.25\n",
    "            elif step_dtime[p] >= 0.75:\n",
    "                step_distance = w_height*0.3\n",
    "            elif step_dtime[p] >= 0.5:\n",
    "                step_distance = w_height*0.4\n",
    "            elif step_dtime[p] >= 0.35:\n",
    "                step_distance = w_height*0.45\n",
    "            elif step_dtime[p] >= 0.2:\n",
    "                step_distance = w_height*0.5\n",
    "            else:\n",
    "                step_distance = w_height*0.4\n",
    "\n",
    "#             step_x += i[1]*step_distance\n",
    "#             step_y += i[2]*step_distance\n",
    "            \n",
    "            rel_position.append([i[0], i[1]*step_distance, i[2]*step_distance])\n",
    "#     print(rel_position)\n",
    "    \n",
    "    return np.array(rel_position)"
   ]
  },
  {
   "cell_type": "code",
   "execution_count": 30,
   "metadata": {},
   "outputs": [
    {
     "output_type": "stream",
     "name": "stderr",
     "text": [
      "10836it [05:25, 33.25it/s]\n",
      "CPU times: user 49.8 s, sys: 12.4 s, total: 1min 2s\n",
      "Wall time: 5min 30s\n"
     ]
    },
    {
     "output_type": "execute_result",
     "data": {
      "text/plain": [
       "            timestamp   target_x    target_y  floor floor_str  \\\n",
       "0       1561368762838   78.21819   38.999737    2.0        F3   \n",
       "1       1561368762838   78.21819   38.999737    2.0        F3   \n",
       "2       1561368774057   76.25184   30.510840    2.0        F3   \n",
       "3       1561368774057   76.25184   30.510840    2.0        F3   \n",
       "4       1561368774057   76.25184   30.510840    2.0        F3   \n",
       "...               ...        ...         ...    ...       ...   \n",
       "256744  1574420742502  193.20488  108.001520   -1.0        B1   \n",
       "256745  1574420742502  193.20488  108.001520   -1.0        B1   \n",
       "256746  1574420753754  204.29349  107.835120   -1.0        B1   \n",
       "256747  1574420753754  204.29349  107.835120   -1.0        B1   \n",
       "256748  1574420753754  204.29349  107.835120   -1.0        B1   \n",
       "\n",
       "                            path  site_id               site_id_str  \\\n",
       "0       5d10a1669c50c70008fe8977        0  5a0546857ecc773753327266   \n",
       "1       5d10a1669c50c70008fe8977        0  5a0546857ecc773753327266   \n",
       "2       5d10a1669c50c70008fe8977        0  5a0546857ecc773753327266   \n",
       "3       5d10a1669c50c70008fe8977        0  5a0546857ecc773753327266   \n",
       "4       5d10a1669c50c70008fe8977        0  5a0546857ecc773753327266   \n",
       "...                          ...      ...                       ...   \n",
       "256744  5dd7c119c5b77e0006b16b99       23  5dc8cea7659e181adb076a3f   \n",
       "256745  5dd7c119c5b77e0006b16b99       23  5dc8cea7659e181adb076a3f   \n",
       "256746  5dd7c119c5b77e0006b16b99       23  5dc8cea7659e181adb076a3f   \n",
       "256747  5dd7c119c5b77e0006b16b99       23  5dc8cea7659e181adb076a3f   \n",
       "256748  5dd7c119c5b77e0006b16b99       23  5dc8cea7659e181adb076a3f   \n",
       "\n",
       "             oof_x       oof_y  oof_floor  \\\n",
       "0        80.769981   38.344566   0.000000   \n",
       "1        84.665276   32.181015   0.000000   \n",
       "2        80.708488   29.627096   0.000000   \n",
       "3        79.860130   27.645185   0.000000   \n",
       "4        80.092575   26.057396   0.000000   \n",
       "...            ...         ...        ...   \n",
       "256744  201.221008  103.799927   0.263081   \n",
       "256745  199.969269  104.850052   0.260668   \n",
       "256746  200.796341  104.025848   0.262820   \n",
       "256747  200.949646  102.624008   0.262498   \n",
       "256748  201.506821  102.454056   0.265368   \n",
       "\n",
       "                                      site_path_timestamp   oof_min_x  \\\n",
       "0       5a0546857ecc773753327266_5d10a1669c50c70008fe8...   80.877797   \n",
       "1       5a0546857ecc773753327266_5d10a1669c50c70008fe8...   80.877945   \n",
       "2       5a0546857ecc773753327266_5d10a1669c50c70008fe8...   80.656985   \n",
       "3       5a0546857ecc773753327266_5d10a1669c50c70008fe8...   80.651867   \n",
       "4       5a0546857ecc773753327266_5d10a1669c50c70008fe8...   80.647835   \n",
       "...                                                   ...         ...   \n",
       "256744  5dc8cea7659e181adb076a3f_5dd7c119c5b77e0006b16...  199.863393   \n",
       "256745  5dc8cea7659e181adb076a3f_5dd7c119c5b77e0006b16...  199.842527   \n",
       "256746  5dc8cea7659e181adb076a3f_5dd7c119c5b77e0006b16...  206.208402   \n",
       "256747  5dc8cea7659e181adb076a3f_5dd7c119c5b77e0006b16...  206.194785   \n",
       "256748  5dc8cea7659e181adb076a3f_5dd7c119c5b77e0006b16...  206.188363   \n",
       "\n",
       "         oof_min_y  \n",
       "0        38.278089  \n",
       "1        38.277998  \n",
       "2        29.530033  \n",
       "3        29.538173  \n",
       "4        29.548908  \n",
       "...            ...  \n",
       "256744  103.710059  \n",
       "256745  103.703969  \n",
       "256746  104.901882  \n",
       "256747  104.895422  \n",
       "256748  104.892078  \n",
       "\n",
       "[256749 rows x 14 columns]"
      ],
      "text/html": "<div>\n<style scoped>\n    .dataframe tbody tr th:only-of-type {\n        vertical-align: middle;\n    }\n\n    .dataframe tbody tr th {\n        vertical-align: top;\n    }\n\n    .dataframe thead th {\n        text-align: right;\n    }\n</style>\n<table border=\"1\" class=\"dataframe\">\n  <thead>\n    <tr style=\"text-align: right;\">\n      <th></th>\n      <th>timestamp</th>\n      <th>target_x</th>\n      <th>target_y</th>\n      <th>floor</th>\n      <th>floor_str</th>\n      <th>path</th>\n      <th>site_id</th>\n      <th>site_id_str</th>\n      <th>oof_x</th>\n      <th>oof_y</th>\n      <th>oof_floor</th>\n      <th>site_path_timestamp</th>\n      <th>oof_min_x</th>\n      <th>oof_min_y</th>\n    </tr>\n  </thead>\n  <tbody>\n    <tr>\n      <th>0</th>\n      <td>1561368762838</td>\n      <td>78.21819</td>\n      <td>38.999737</td>\n      <td>2.0</td>\n      <td>F3</td>\n      <td>5d10a1669c50c70008fe8977</td>\n      <td>0</td>\n      <td>5a0546857ecc773753327266</td>\n      <td>80.769981</td>\n      <td>38.344566</td>\n      <td>0.000000</td>\n      <td>5a0546857ecc773753327266_5d10a1669c50c70008fe8...</td>\n      <td>80.877797</td>\n      <td>38.278089</td>\n    </tr>\n    <tr>\n      <th>1</th>\n      <td>1561368762838</td>\n      <td>78.21819</td>\n      <td>38.999737</td>\n      <td>2.0</td>\n      <td>F3</td>\n      <td>5d10a1669c50c70008fe8977</td>\n      <td>0</td>\n      <td>5a0546857ecc773753327266</td>\n      <td>84.665276</td>\n      <td>32.181015</td>\n      <td>0.000000</td>\n      <td>5a0546857ecc773753327266_5d10a1669c50c70008fe8...</td>\n      <td>80.877945</td>\n      <td>38.277998</td>\n    </tr>\n    <tr>\n      <th>2</th>\n      <td>1561368774057</td>\n      <td>76.25184</td>\n      <td>30.510840</td>\n      <td>2.0</td>\n      <td>F3</td>\n      <td>5d10a1669c50c70008fe8977</td>\n      <td>0</td>\n      <td>5a0546857ecc773753327266</td>\n      <td>80.708488</td>\n      <td>29.627096</td>\n      <td>0.000000</td>\n      <td>5a0546857ecc773753327266_5d10a1669c50c70008fe8...</td>\n      <td>80.656985</td>\n      <td>29.530033</td>\n    </tr>\n    <tr>\n      <th>3</th>\n      <td>1561368774057</td>\n      <td>76.25184</td>\n      <td>30.510840</td>\n      <td>2.0</td>\n      <td>F3</td>\n      <td>5d10a1669c50c70008fe8977</td>\n      <td>0</td>\n      <td>5a0546857ecc773753327266</td>\n      <td>79.860130</td>\n      <td>27.645185</td>\n      <td>0.000000</td>\n      <td>5a0546857ecc773753327266_5d10a1669c50c70008fe8...</td>\n      <td>80.651867</td>\n      <td>29.538173</td>\n    </tr>\n    <tr>\n      <th>4</th>\n      <td>1561368774057</td>\n      <td>76.25184</td>\n      <td>30.510840</td>\n      <td>2.0</td>\n      <td>F3</td>\n      <td>5d10a1669c50c70008fe8977</td>\n      <td>0</td>\n      <td>5a0546857ecc773753327266</td>\n      <td>80.092575</td>\n      <td>26.057396</td>\n      <td>0.000000</td>\n      <td>5a0546857ecc773753327266_5d10a1669c50c70008fe8...</td>\n      <td>80.647835</td>\n      <td>29.548908</td>\n    </tr>\n    <tr>\n      <th>...</th>\n      <td>...</td>\n      <td>...</td>\n      <td>...</td>\n      <td>...</td>\n      <td>...</td>\n      <td>...</td>\n      <td>...</td>\n      <td>...</td>\n      <td>...</td>\n      <td>...</td>\n      <td>...</td>\n      <td>...</td>\n      <td>...</td>\n      <td>...</td>\n    </tr>\n    <tr>\n      <th>256744</th>\n      <td>1574420742502</td>\n      <td>193.20488</td>\n      <td>108.001520</td>\n      <td>-1.0</td>\n      <td>B1</td>\n      <td>5dd7c119c5b77e0006b16b99</td>\n      <td>23</td>\n      <td>5dc8cea7659e181adb076a3f</td>\n      <td>201.221008</td>\n      <td>103.799927</td>\n      <td>0.263081</td>\n      <td>5dc8cea7659e181adb076a3f_5dd7c119c5b77e0006b16...</td>\n      <td>199.863393</td>\n      <td>103.710059</td>\n    </tr>\n    <tr>\n      <th>256745</th>\n      <td>1574420742502</td>\n      <td>193.20488</td>\n      <td>108.001520</td>\n      <td>-1.0</td>\n      <td>B1</td>\n      <td>5dd7c119c5b77e0006b16b99</td>\n      <td>23</td>\n      <td>5dc8cea7659e181adb076a3f</td>\n      <td>199.969269</td>\n      <td>104.850052</td>\n      <td>0.260668</td>\n      <td>5dc8cea7659e181adb076a3f_5dd7c119c5b77e0006b16...</td>\n      <td>199.842527</td>\n      <td>103.703969</td>\n    </tr>\n    <tr>\n      <th>256746</th>\n      <td>1574420753754</td>\n      <td>204.29349</td>\n      <td>107.835120</td>\n      <td>-1.0</td>\n      <td>B1</td>\n      <td>5dd7c119c5b77e0006b16b99</td>\n      <td>23</td>\n      <td>5dc8cea7659e181adb076a3f</td>\n      <td>200.796341</td>\n      <td>104.025848</td>\n      <td>0.262820</td>\n      <td>5dc8cea7659e181adb076a3f_5dd7c119c5b77e0006b16...</td>\n      <td>206.208402</td>\n      <td>104.901882</td>\n    </tr>\n    <tr>\n      <th>256747</th>\n      <td>1574420753754</td>\n      <td>204.29349</td>\n      <td>107.835120</td>\n      <td>-1.0</td>\n      <td>B1</td>\n      <td>5dd7c119c5b77e0006b16b99</td>\n      <td>23</td>\n      <td>5dc8cea7659e181adb076a3f</td>\n      <td>200.949646</td>\n      <td>102.624008</td>\n      <td>0.262498</td>\n      <td>5dc8cea7659e181adb076a3f_5dd7c119c5b77e0006b16...</td>\n      <td>206.194785</td>\n      <td>104.895422</td>\n    </tr>\n    <tr>\n      <th>256748</th>\n      <td>1574420753754</td>\n      <td>204.29349</td>\n      <td>107.835120</td>\n      <td>-1.0</td>\n      <td>B1</td>\n      <td>5dd7c119c5b77e0006b16b99</td>\n      <td>23</td>\n      <td>5dc8cea7659e181adb076a3f</td>\n      <td>201.506821</td>\n      <td>102.454056</td>\n      <td>0.265368</td>\n      <td>5dc8cea7659e181adb076a3f_5dd7c119c5b77e0006b16...</td>\n      <td>206.188363</td>\n      <td>104.892078</td>\n    </tr>\n  </tbody>\n</table>\n<p>256749 rows × 14 columns</p>\n</div>"
     },
     "metadata": {},
     "execution_count": 30
    }
   ],
   "source": [
    "%%time\n",
    "\n",
    "oofs_df = oofs_df.rename(columns={'x':'target_x', 'y':'target_y', 'oof_x':'x', 'oof_y':'y'})\n",
    "processes = multiprocessing.cpu_count()\n",
    "with multiprocessing.Pool(processes=processes) as pool:\n",
    "    dfs = pool.imap_unordered(correct_path_train, oofs_df.groupby(['site_id_str', 'path', 'floor_str']))\n",
    "    dfs = tqdm(dfs)\n",
    "    dfs = list(dfs)\n",
    "\n",
    "oof_post_process = pd.concat(dfs).sort_index()\n",
    "oofs_df['oof_min_x'] = oof_post_process['x']\n",
    "oofs_df['oof_min_y'] = oof_post_process['y']\n",
    "\n",
    "# 元に戻す\n",
    "oofs_df = oofs_df.rename(columns={'x':'oof_x', 'y':'oof_y'})\n",
    "oofs_df"
   ]
  },
  {
   "cell_type": "code",
   "execution_count": 31,
   "metadata": {},
   "outputs": [
    {
     "output_type": "stream",
     "name": "stdout",
     "text": [
      "(after cost-min) CV:5.957635816490978\n"
     ]
    }
   ],
   "source": [
    "# waypoint補正前のx,yでの評価\n",
    "oof_score_post_process = mean_position_error(\n",
    "    oofs_df['oof_min_x'], oofs_df['oof_min_y'], 0, \n",
    "    oofs_df['target_x'], oofs_df['target_y'], 0\n",
    "    )\n",
    "wandb_config['CV_cost'] = oof_score_post_process\n",
    "print(f\"(after cost-min) CV:{oof_score_post_process}\")"
   ]
  },
  {
   "cell_type": "code",
   "execution_count": 32,
   "metadata": {},
   "outputs": [
    {
     "output_type": "execute_result",
     "data": {
      "text/plain": [
       "                                     site_path_timestamp  floor           x  \\\n",
       "0      5a0546857ecc773753327266_046cfa46be49fc1083481...      0   88.427124   \n",
       "1      5a0546857ecc773753327266_046cfa46be49fc1083481...      0   82.435730   \n",
       "2      5a0546857ecc773753327266_046cfa46be49fc1083481...      0   86.123703   \n",
       "3      5a0546857ecc773753327266_046cfa46be49fc1083481...      0   88.286575   \n",
       "4      5a0546857ecc773753327266_046cfa46be49fc1083481...      0   87.605873   \n",
       "...                                                  ...    ...         ...   \n",
       "10128  5dc8cea7659e181adb076a3f_fd64de8c4a2fc5ebb0e9f...      5  215.092819   \n",
       "10129  5dc8cea7659e181adb076a3f_fd64de8c4a2fc5ebb0e9f...      5  212.359039   \n",
       "10130  5dc8cea7659e181adb076a3f_fd64de8c4a2fc5ebb0e9f...      5  206.607315   \n",
       "10131  5dc8cea7659e181adb076a3f_fd64de8c4a2fc5ebb0e9f...      5  203.744293   \n",
       "10132  5dc8cea7659e181adb076a3f_fd64de8c4a2fc5ebb0e9f...      5  201.610977   \n",
       "\n",
       "                y                      site                      path  \\\n",
       "0      103.474449  5a0546857ecc773753327266  046cfa46be49fc10834815c6   \n",
       "1      103.645454  5a0546857ecc773753327266  046cfa46be49fc10834815c6   \n",
       "2      105.619781  5a0546857ecc773753327266  046cfa46be49fc10834815c6   \n",
       "3      107.179955  5a0546857ecc773753327266  046cfa46be49fc10834815c6   \n",
       "4      105.753479  5a0546857ecc773753327266  046cfa46be49fc10834815c6   \n",
       "...           ...                       ...                       ...   \n",
       "10128   95.419724  5dc8cea7659e181adb076a3f  fd64de8c4a2fc5ebb0e9f412   \n",
       "10129   96.314903  5dc8cea7659e181adb076a3f  fd64de8c4a2fc5ebb0e9f412   \n",
       "10130  105.156761  5dc8cea7659e181adb076a3f  fd64de8c4a2fc5ebb0e9f412   \n",
       "10131  109.749443  5dc8cea7659e181adb076a3f  fd64de8c4a2fc5ebb0e9f412   \n",
       "10132  108.077454  5dc8cea7659e181adb076a3f  fd64de8c4a2fc5ebb0e9f412   \n",
       "\n",
       "       timestamp  \n",
       "0            9.0  \n",
       "1         9017.0  \n",
       "2        15326.0  \n",
       "3        18763.0  \n",
       "4        22328.0  \n",
       "...          ...  \n",
       "10128    82589.0  \n",
       "10129    85758.0  \n",
       "10130    90895.0  \n",
       "10131    96899.0  \n",
       "10132   100447.0  \n",
       "\n",
       "[10133 rows x 7 columns]"
      ],
      "text/html": "<div>\n<style scoped>\n    .dataframe tbody tr th:only-of-type {\n        vertical-align: middle;\n    }\n\n    .dataframe tbody tr th {\n        vertical-align: top;\n    }\n\n    .dataframe thead th {\n        text-align: right;\n    }\n</style>\n<table border=\"1\" class=\"dataframe\">\n  <thead>\n    <tr style=\"text-align: right;\">\n      <th></th>\n      <th>site_path_timestamp</th>\n      <th>floor</th>\n      <th>x</th>\n      <th>y</th>\n      <th>site</th>\n      <th>path</th>\n      <th>timestamp</th>\n    </tr>\n  </thead>\n  <tbody>\n    <tr>\n      <th>0</th>\n      <td>5a0546857ecc773753327266_046cfa46be49fc1083481...</td>\n      <td>0</td>\n      <td>88.427124</td>\n      <td>103.474449</td>\n      <td>5a0546857ecc773753327266</td>\n      <td>046cfa46be49fc10834815c6</td>\n      <td>9.0</td>\n    </tr>\n    <tr>\n      <th>1</th>\n      <td>5a0546857ecc773753327266_046cfa46be49fc1083481...</td>\n      <td>0</td>\n      <td>82.435730</td>\n      <td>103.645454</td>\n      <td>5a0546857ecc773753327266</td>\n      <td>046cfa46be49fc10834815c6</td>\n      <td>9017.0</td>\n    </tr>\n    <tr>\n      <th>2</th>\n      <td>5a0546857ecc773753327266_046cfa46be49fc1083481...</td>\n      <td>0</td>\n      <td>86.123703</td>\n      <td>105.619781</td>\n      <td>5a0546857ecc773753327266</td>\n      <td>046cfa46be49fc10834815c6</td>\n      <td>15326.0</td>\n    </tr>\n    <tr>\n      <th>3</th>\n      <td>5a0546857ecc773753327266_046cfa46be49fc1083481...</td>\n      <td>0</td>\n      <td>88.286575</td>\n      <td>107.179955</td>\n      <td>5a0546857ecc773753327266</td>\n      <td>046cfa46be49fc10834815c6</td>\n      <td>18763.0</td>\n    </tr>\n    <tr>\n      <th>4</th>\n      <td>5a0546857ecc773753327266_046cfa46be49fc1083481...</td>\n      <td>0</td>\n      <td>87.605873</td>\n      <td>105.753479</td>\n      <td>5a0546857ecc773753327266</td>\n      <td>046cfa46be49fc10834815c6</td>\n      <td>22328.0</td>\n    </tr>\n    <tr>\n      <th>...</th>\n      <td>...</td>\n      <td>...</td>\n      <td>...</td>\n      <td>...</td>\n      <td>...</td>\n      <td>...</td>\n      <td>...</td>\n    </tr>\n    <tr>\n      <th>10128</th>\n      <td>5dc8cea7659e181adb076a3f_fd64de8c4a2fc5ebb0e9f...</td>\n      <td>5</td>\n      <td>215.092819</td>\n      <td>95.419724</td>\n      <td>5dc8cea7659e181adb076a3f</td>\n      <td>fd64de8c4a2fc5ebb0e9f412</td>\n      <td>82589.0</td>\n    </tr>\n    <tr>\n      <th>10129</th>\n      <td>5dc8cea7659e181adb076a3f_fd64de8c4a2fc5ebb0e9f...</td>\n      <td>5</td>\n      <td>212.359039</td>\n      <td>96.314903</td>\n      <td>5dc8cea7659e181adb076a3f</td>\n      <td>fd64de8c4a2fc5ebb0e9f412</td>\n      <td>85758.0</td>\n    </tr>\n    <tr>\n      <th>10130</th>\n      <td>5dc8cea7659e181adb076a3f_fd64de8c4a2fc5ebb0e9f...</td>\n      <td>5</td>\n      <td>206.607315</td>\n      <td>105.156761</td>\n      <td>5dc8cea7659e181adb076a3f</td>\n      <td>fd64de8c4a2fc5ebb0e9f412</td>\n      <td>90895.0</td>\n    </tr>\n    <tr>\n      <th>10131</th>\n      <td>5dc8cea7659e181adb076a3f_fd64de8c4a2fc5ebb0e9f...</td>\n      <td>5</td>\n      <td>203.744293</td>\n      <td>109.749443</td>\n      <td>5dc8cea7659e181adb076a3f</td>\n      <td>fd64de8c4a2fc5ebb0e9f412</td>\n      <td>96899.0</td>\n    </tr>\n    <tr>\n      <th>10132</th>\n      <td>5dc8cea7659e181adb076a3f_fd64de8c4a2fc5ebb0e9f...</td>\n      <td>5</td>\n      <td>201.610977</td>\n      <td>108.077454</td>\n      <td>5dc8cea7659e181adb076a3f</td>\n      <td>fd64de8c4a2fc5ebb0e9f412</td>\n      <td>100447.0</td>\n    </tr>\n  </tbody>\n</table>\n<p>10133 rows × 7 columns</p>\n</div>"
     },
     "metadata": {},
     "execution_count": 32
    }
   ],
   "source": [
    "sub = sub.reset_index()\n",
    "sub_org = sub.copy()\n",
    "tmp = sub['site_path_timestamp'].apply(lambda s : pd.Series(s.split('_')))\n",
    "sub['site'] = tmp[0]\n",
    "sub['path'] = tmp[1]\n",
    "sub['timestamp'] = tmp[2].astype(float)\n",
    "sub"
   ]
  },
  {
   "cell_type": "code",
   "execution_count": 33,
   "metadata": {},
   "outputs": [
    {
     "output_type": "stream",
     "name": "stderr",
     "text": [
      "626it [00:49, 12.64it/s]\n"
     ]
    },
    {
     "output_type": "execute_result",
     "data": {
      "text/plain": [
       "                                     site_path_timestamp  floor           x  \\\n",
       "0      5a0546857ecc773753327266_046cfa46be49fc1083481...      0   91.634082   \n",
       "1      5a0546857ecc773753327266_046cfa46be49fc1083481...      0   82.313878   \n",
       "2      5a0546857ecc773753327266_046cfa46be49fc1083481...      0   84.214631   \n",
       "3      5a0546857ecc773753327266_046cfa46be49fc1083481...      0   85.080106   \n",
       "4      5a0546857ecc773753327266_046cfa46be49fc1083481...      0   85.587069   \n",
       "...                                                  ...    ...         ...   \n",
       "10128  5dc8cea7659e181adb076a3f_fd64de8c4a2fc5ebb0e9f...      5  211.917733   \n",
       "10129  5dc8cea7659e181adb076a3f_fd64de8c4a2fc5ebb0e9f...      5  210.092497   \n",
       "10130  5dc8cea7659e181adb076a3f_fd64de8c4a2fc5ebb0e9f...      5  206.279246   \n",
       "10131  5dc8cea7659e181adb076a3f_fd64de8c4a2fc5ebb0e9f...      5  199.193799   \n",
       "10132  5dc8cea7659e181adb076a3f_fd64de8c4a2fc5ebb0e9f...      5  195.812460   \n",
       "\n",
       "                y  \n",
       "0       97.106098  \n",
       "1       99.576858  \n",
       "2      104.562710  \n",
       "3      108.279958  \n",
       "4      111.939621  \n",
       "...           ...  \n",
       "10128   97.213050  \n",
       "10129  100.612137  \n",
       "10130  106.403713  \n",
       "10131  110.834195  \n",
       "10132  114.136240  \n",
       "\n",
       "[10133 rows x 4 columns]"
      ],
      "text/html": "<div>\n<style scoped>\n    .dataframe tbody tr th:only-of-type {\n        vertical-align: middle;\n    }\n\n    .dataframe tbody tr th {\n        vertical-align: top;\n    }\n\n    .dataframe thead th {\n        text-align: right;\n    }\n</style>\n<table border=\"1\" class=\"dataframe\">\n  <thead>\n    <tr style=\"text-align: right;\">\n      <th></th>\n      <th>site_path_timestamp</th>\n      <th>floor</th>\n      <th>x</th>\n      <th>y</th>\n    </tr>\n  </thead>\n  <tbody>\n    <tr>\n      <th>0</th>\n      <td>5a0546857ecc773753327266_046cfa46be49fc1083481...</td>\n      <td>0</td>\n      <td>91.634082</td>\n      <td>97.106098</td>\n    </tr>\n    <tr>\n      <th>1</th>\n      <td>5a0546857ecc773753327266_046cfa46be49fc1083481...</td>\n      <td>0</td>\n      <td>82.313878</td>\n      <td>99.576858</td>\n    </tr>\n    <tr>\n      <th>2</th>\n      <td>5a0546857ecc773753327266_046cfa46be49fc1083481...</td>\n      <td>0</td>\n      <td>84.214631</td>\n      <td>104.562710</td>\n    </tr>\n    <tr>\n      <th>3</th>\n      <td>5a0546857ecc773753327266_046cfa46be49fc1083481...</td>\n      <td>0</td>\n      <td>85.080106</td>\n      <td>108.279958</td>\n    </tr>\n    <tr>\n      <th>4</th>\n      <td>5a0546857ecc773753327266_046cfa46be49fc1083481...</td>\n      <td>0</td>\n      <td>85.587069</td>\n      <td>111.939621</td>\n    </tr>\n    <tr>\n      <th>...</th>\n      <td>...</td>\n      <td>...</td>\n      <td>...</td>\n      <td>...</td>\n    </tr>\n    <tr>\n      <th>10128</th>\n      <td>5dc8cea7659e181adb076a3f_fd64de8c4a2fc5ebb0e9f...</td>\n      <td>5</td>\n      <td>211.917733</td>\n      <td>97.213050</td>\n    </tr>\n    <tr>\n      <th>10129</th>\n      <td>5dc8cea7659e181adb076a3f_fd64de8c4a2fc5ebb0e9f...</td>\n      <td>5</td>\n      <td>210.092497</td>\n      <td>100.612137</td>\n    </tr>\n    <tr>\n      <th>10130</th>\n      <td>5dc8cea7659e181adb076a3f_fd64de8c4a2fc5ebb0e9f...</td>\n      <td>5</td>\n      <td>206.279246</td>\n      <td>106.403713</td>\n    </tr>\n    <tr>\n      <th>10131</th>\n      <td>5dc8cea7659e181adb076a3f_fd64de8c4a2fc5ebb0e9f...</td>\n      <td>5</td>\n      <td>199.193799</td>\n      <td>110.834195</td>\n    </tr>\n    <tr>\n      <th>10132</th>\n      <td>5dc8cea7659e181adb076a3f_fd64de8c4a2fc5ebb0e9f...</td>\n      <td>5</td>\n      <td>195.812460</td>\n      <td>114.136240</td>\n    </tr>\n  </tbody>\n</table>\n<p>10133 rows × 4 columns</p>\n</div>"
     },
     "metadata": {},
     "execution_count": 33
    }
   ],
   "source": [
    "processes = multiprocessing.cpu_count()\n",
    "with multiprocessing.Pool(processes=processes) as pool:\n",
    "    dfs = pool.imap_unordered(correct_path, sub.groupby(['path']))\n",
    "    dfs = tqdm(dfs)\n",
    "    dfs = list(dfs)\n",
    "new_sub = pd.concat(dfs).sort_values('site_path_timestamp')\n",
    "new_sub"
   ]
  },
  {
   "cell_type": "code",
   "execution_count": 34,
   "metadata": {},
   "outputs": [],
   "source": [
    "new_sub.to_csv(RUN_NAME + '_cost_sub.csv', index=False)"
   ]
  },
  {
   "cell_type": "markdown",
   "metadata": {},
   "source": [
    "## snap to grid"
   ]
  },
  {
   "cell_type": "code",
   "execution_count": 35,
   "metadata": {},
   "outputs": [],
   "source": [
    "from scipy.spatial.distance import cdist\n",
    "def sub_process(sub, train_waypoints):\n",
    "    train_waypoints['isTrainWaypoint'] = True\n",
    "    sub = split_col(sub[['site_path_timestamp','floor','x','y']]).copy()\n",
    "    sub = sub.merge(train_waypoints[['site','floorNo','floor']].drop_duplicates(), how='left')\n",
    "    sub = sub.merge(\n",
    "        train_waypoints[['x','y','site','floor','isTrainWaypoint']].drop_duplicates(),\n",
    "        how='left',\n",
    "        on=['site','x','y','floor']\n",
    "             )\n",
    "    sub['isTrainWaypoint'] = sub['isTrainWaypoint'].fillna(False)\n",
    "    return sub.copy()\n",
    "\n",
    "def split_col(df):\n",
    "    df = pd.concat([\n",
    "        df['site_path_timestamp'].str.split('_', expand=True) \\\n",
    "        .rename(columns={0:'site',\n",
    "                         1:'path',\n",
    "                         2:'timestamp'}),\n",
    "        df\n",
    "    ], axis=1).copy()\n",
    "    return df\n",
    "\n",
    "floor_map = {\"B2\":-2, \"B1\":-1, \"F1\":0, \"F2\": 1, \"F3\":2,\n",
    "             \"F4\":3, \"F5\":4, \"F6\":5, \"F7\":6,\"F8\":7,\"F9\":8,\n",
    "             \"1F\":0, \"2F\":1, \"3F\":2, \"4F\":3, \"5F\":4, \"6F\":5,\n",
    "             \"7F\":6, \"8F\": 7, \"9F\":8}\n",
    "\n",
    "def add_xy(df):\n",
    "    df['xy'] = [(x, y) for x,y in zip(df['x'], df['y'])]\n",
    "    return df\n",
    "\n",
    "def closest_point(point, points):\n",
    "    \"\"\" Find closest point from a list of points. \"\"\"\n",
    "    return points[cdist([point], points).argmin()]\n",
    "\n",
    "def snap_to_grid(sub, threshold):\n",
    "    \"\"\"\n",
    "    Snap to grid if within a threshold.\n",
    "    \n",
    "    x, y are the predicted points.\n",
    "    x_, y_ are the closest grid points.\n",
    "    _x_, _y_ are the new predictions after post processing.\n",
    "    \"\"\"\n",
    "    sub['_x_'] = sub['x']\n",
    "    sub['_y_'] = sub['y']\n",
    "    sub.loc[sub['dist'] < threshold, '_x_'] = sub.loc[sub['dist'] < threshold]['x_']\n",
    "    sub.loc[sub['dist'] < threshold, '_y_'] = sub.loc[sub['dist'] < threshold]['y_']\n",
    "    return sub.copy()\n"
   ]
  },
  {
   "cell_type": "code",
   "execution_count": 36,
   "metadata": {},
   "outputs": [
    {
     "output_type": "stream",
     "name": "stderr",
     "text": [
      "100%|██████████| 139/139 [01:38<00:00,  1.42it/s]\n"
     ]
    },
    {
     "output_type": "execute_result",
     "data": {
      "text/plain": [
       "                            site                      path      timestamp  \\\n",
       "0       5a0546857ecc773753327266  5d10a1669c50c70008fe8977  1561368762838   \n",
       "1       5a0546857ecc773753327266  5d10a1669c50c70008fe8977  1561368762838   \n",
       "2       5a0546857ecc773753327266  5d10a1669c50c70008fe8977  1561368774057   \n",
       "3       5a0546857ecc773753327266  5d10a1669c50c70008fe8977  1561368774057   \n",
       "4       5a0546857ecc773753327266  5d10a1669c50c70008fe8977  1561368774057   \n",
       "...                          ...                       ...            ...   \n",
       "256744  5dc8cea7659e181adb076a3f  5dd7c119c5b77e0006b16b99  1574420742502   \n",
       "256745  5dc8cea7659e181adb076a3f  5dd7c119c5b77e0006b16b99  1574420742502   \n",
       "256746  5dc8cea7659e181adb076a3f  5dd7c119c5b77e0006b16b99  1574420753754   \n",
       "256747  5dc8cea7659e181adb076a3f  5dd7c119c5b77e0006b16b99  1574420753754   \n",
       "256748  5dc8cea7659e181adb076a3f  5dd7c119c5b77e0006b16b99  1574420753754   \n",
       "\n",
       "                                      site_path_timestamp  floor           x  \\\n",
       "0       5a0546857ecc773753327266_5d10a1669c50c70008fe8...    2.0   80.877797   \n",
       "1       5a0546857ecc773753327266_5d10a1669c50c70008fe8...    2.0   80.877945   \n",
       "2       5a0546857ecc773753327266_5d10a1669c50c70008fe8...    2.0   80.656985   \n",
       "3       5a0546857ecc773753327266_5d10a1669c50c70008fe8...    2.0   80.651867   \n",
       "4       5a0546857ecc773753327266_5d10a1669c50c70008fe8...    2.0   80.647835   \n",
       "...                                                   ...    ...         ...   \n",
       "256744  5dc8cea7659e181adb076a3f_5dd7c119c5b77e0006b16...   -1.0  199.863393   \n",
       "256745  5dc8cea7659e181adb076a3f_5dd7c119c5b77e0006b16...   -1.0  199.842527   \n",
       "256746  5dc8cea7659e181adb076a3f_5dd7c119c5b77e0006b16...   -1.0  206.208402   \n",
       "256747  5dc8cea7659e181adb076a3f_5dd7c119c5b77e0006b16...   -1.0  206.194785   \n",
       "256748  5dc8cea7659e181adb076a3f_5dd7c119c5b77e0006b16...   -1.0  206.188363   \n",
       "\n",
       "                 y floorNo  isTrainWaypoint  \\\n",
       "0        38.278089      F3            False   \n",
       "1        38.277998      F3            False   \n",
       "2        29.530033      F3            False   \n",
       "3        29.538173      F3            False   \n",
       "4        29.548908      F3            False   \n",
       "...            ...     ...              ...   \n",
       "256744  103.710059      B1            False   \n",
       "256745  103.703969      B1            False   \n",
       "256746  104.901882      B1            False   \n",
       "256747  104.895422      B1            False   \n",
       "256748  104.892078      B1            False   \n",
       "\n",
       "                                              xy  \\\n",
       "0         (80.87779728569862, 38.27808906193995)   \n",
       "1         (80.87794518131099, 38.27799787225096)   \n",
       "2         (80.65698457345638, 29.53003337520111)   \n",
       "3         (80.65186657841949, 29.53817252852536)   \n",
       "4         (80.64783464136389, 29.54890837191538)   \n",
       "...                                          ...   \n",
       "256744  (199.86339345107143, 103.71005890703742)   \n",
       "256745   (199.84252650968023, 103.7039692133884)   \n",
       "256746  (206.20840191464833, 104.90188209658345)   \n",
       "256747  (206.19478506747262, 104.89542196540549)   \n",
       "256748  (206.18836319844692, 104.89207762817361)   \n",
       "\n",
       "                          matched_point  oof_min_snap_x  oof_min_snap_y  \n",
       "0                  (80.6814, 39.265667)       80.681400       39.265667  \n",
       "1                  (80.6814, 39.265667)       80.681400       39.265667  \n",
       "2       (78.469894, 30.721445000000003)       78.469894       30.721445  \n",
       "3       (78.469894, 30.721445000000003)       78.469894       30.721445  \n",
       "4       (78.469894, 30.721445000000003)       78.469894       30.721445  \n",
       "...                                 ...             ...             ...  \n",
       "256744           (200.75478, 106.75563)      200.754780      106.755630  \n",
       "256745           (200.75478, 106.75563)      200.754780      106.755630  \n",
       "256746            (208.15857, 104.7078)      208.158570      104.707800  \n",
       "256747            (208.15857, 104.7078)      208.158570      104.707800  \n",
       "256748            (208.15857, 104.7078)      208.158570      104.707800  \n",
       "\n",
       "[256749 rows x 13 columns]"
      ],
      "text/html": "<div>\n<style scoped>\n    .dataframe tbody tr th:only-of-type {\n        vertical-align: middle;\n    }\n\n    .dataframe tbody tr th {\n        vertical-align: top;\n    }\n\n    .dataframe thead th {\n        text-align: right;\n    }\n</style>\n<table border=\"1\" class=\"dataframe\">\n  <thead>\n    <tr style=\"text-align: right;\">\n      <th></th>\n      <th>site</th>\n      <th>path</th>\n      <th>timestamp</th>\n      <th>site_path_timestamp</th>\n      <th>floor</th>\n      <th>x</th>\n      <th>y</th>\n      <th>floorNo</th>\n      <th>isTrainWaypoint</th>\n      <th>xy</th>\n      <th>matched_point</th>\n      <th>oof_min_snap_x</th>\n      <th>oof_min_snap_y</th>\n    </tr>\n  </thead>\n  <tbody>\n    <tr>\n      <th>0</th>\n      <td>5a0546857ecc773753327266</td>\n      <td>5d10a1669c50c70008fe8977</td>\n      <td>1561368762838</td>\n      <td>5a0546857ecc773753327266_5d10a1669c50c70008fe8...</td>\n      <td>2.0</td>\n      <td>80.877797</td>\n      <td>38.278089</td>\n      <td>F3</td>\n      <td>False</td>\n      <td>(80.87779728569862, 38.27808906193995)</td>\n      <td>(80.6814, 39.265667)</td>\n      <td>80.681400</td>\n      <td>39.265667</td>\n    </tr>\n    <tr>\n      <th>1</th>\n      <td>5a0546857ecc773753327266</td>\n      <td>5d10a1669c50c70008fe8977</td>\n      <td>1561368762838</td>\n      <td>5a0546857ecc773753327266_5d10a1669c50c70008fe8...</td>\n      <td>2.0</td>\n      <td>80.877945</td>\n      <td>38.277998</td>\n      <td>F3</td>\n      <td>False</td>\n      <td>(80.87794518131099, 38.27799787225096)</td>\n      <td>(80.6814, 39.265667)</td>\n      <td>80.681400</td>\n      <td>39.265667</td>\n    </tr>\n    <tr>\n      <th>2</th>\n      <td>5a0546857ecc773753327266</td>\n      <td>5d10a1669c50c70008fe8977</td>\n      <td>1561368774057</td>\n      <td>5a0546857ecc773753327266_5d10a1669c50c70008fe8...</td>\n      <td>2.0</td>\n      <td>80.656985</td>\n      <td>29.530033</td>\n      <td>F3</td>\n      <td>False</td>\n      <td>(80.65698457345638, 29.53003337520111)</td>\n      <td>(78.469894, 30.721445000000003)</td>\n      <td>78.469894</td>\n      <td>30.721445</td>\n    </tr>\n    <tr>\n      <th>3</th>\n      <td>5a0546857ecc773753327266</td>\n      <td>5d10a1669c50c70008fe8977</td>\n      <td>1561368774057</td>\n      <td>5a0546857ecc773753327266_5d10a1669c50c70008fe8...</td>\n      <td>2.0</td>\n      <td>80.651867</td>\n      <td>29.538173</td>\n      <td>F3</td>\n      <td>False</td>\n      <td>(80.65186657841949, 29.53817252852536)</td>\n      <td>(78.469894, 30.721445000000003)</td>\n      <td>78.469894</td>\n      <td>30.721445</td>\n    </tr>\n    <tr>\n      <th>4</th>\n      <td>5a0546857ecc773753327266</td>\n      <td>5d10a1669c50c70008fe8977</td>\n      <td>1561368774057</td>\n      <td>5a0546857ecc773753327266_5d10a1669c50c70008fe8...</td>\n      <td>2.0</td>\n      <td>80.647835</td>\n      <td>29.548908</td>\n      <td>F3</td>\n      <td>False</td>\n      <td>(80.64783464136389, 29.54890837191538)</td>\n      <td>(78.469894, 30.721445000000003)</td>\n      <td>78.469894</td>\n      <td>30.721445</td>\n    </tr>\n    <tr>\n      <th>...</th>\n      <td>...</td>\n      <td>...</td>\n      <td>...</td>\n      <td>...</td>\n      <td>...</td>\n      <td>...</td>\n      <td>...</td>\n      <td>...</td>\n      <td>...</td>\n      <td>...</td>\n      <td>...</td>\n      <td>...</td>\n      <td>...</td>\n    </tr>\n    <tr>\n      <th>256744</th>\n      <td>5dc8cea7659e181adb076a3f</td>\n      <td>5dd7c119c5b77e0006b16b99</td>\n      <td>1574420742502</td>\n      <td>5dc8cea7659e181adb076a3f_5dd7c119c5b77e0006b16...</td>\n      <td>-1.0</td>\n      <td>199.863393</td>\n      <td>103.710059</td>\n      <td>B1</td>\n      <td>False</td>\n      <td>(199.86339345107143, 103.71005890703742)</td>\n      <td>(200.75478, 106.75563)</td>\n      <td>200.754780</td>\n      <td>106.755630</td>\n    </tr>\n    <tr>\n      <th>256745</th>\n      <td>5dc8cea7659e181adb076a3f</td>\n      <td>5dd7c119c5b77e0006b16b99</td>\n      <td>1574420742502</td>\n      <td>5dc8cea7659e181adb076a3f_5dd7c119c5b77e0006b16...</td>\n      <td>-1.0</td>\n      <td>199.842527</td>\n      <td>103.703969</td>\n      <td>B1</td>\n      <td>False</td>\n      <td>(199.84252650968023, 103.7039692133884)</td>\n      <td>(200.75478, 106.75563)</td>\n      <td>200.754780</td>\n      <td>106.755630</td>\n    </tr>\n    <tr>\n      <th>256746</th>\n      <td>5dc8cea7659e181adb076a3f</td>\n      <td>5dd7c119c5b77e0006b16b99</td>\n      <td>1574420753754</td>\n      <td>5dc8cea7659e181adb076a3f_5dd7c119c5b77e0006b16...</td>\n      <td>-1.0</td>\n      <td>206.208402</td>\n      <td>104.901882</td>\n      <td>B1</td>\n      <td>False</td>\n      <td>(206.20840191464833, 104.90188209658345)</td>\n      <td>(208.15857, 104.7078)</td>\n      <td>208.158570</td>\n      <td>104.707800</td>\n    </tr>\n    <tr>\n      <th>256747</th>\n      <td>5dc8cea7659e181adb076a3f</td>\n      <td>5dd7c119c5b77e0006b16b99</td>\n      <td>1574420753754</td>\n      <td>5dc8cea7659e181adb076a3f_5dd7c119c5b77e0006b16...</td>\n      <td>-1.0</td>\n      <td>206.194785</td>\n      <td>104.895422</td>\n      <td>B1</td>\n      <td>False</td>\n      <td>(206.19478506747262, 104.89542196540549)</td>\n      <td>(208.15857, 104.7078)</td>\n      <td>208.158570</td>\n      <td>104.707800</td>\n    </tr>\n    <tr>\n      <th>256748</th>\n      <td>5dc8cea7659e181adb076a3f</td>\n      <td>5dd7c119c5b77e0006b16b99</td>\n      <td>1574420753754</td>\n      <td>5dc8cea7659e181adb076a3f_5dd7c119c5b77e0006b16...</td>\n      <td>-1.0</td>\n      <td>206.188363</td>\n      <td>104.892078</td>\n      <td>B1</td>\n      <td>False</td>\n      <td>(206.18836319844692, 104.89207762817361)</td>\n      <td>(208.15857, 104.7078)</td>\n      <td>208.158570</td>\n      <td>104.707800</td>\n    </tr>\n  </tbody>\n</table>\n<p>256749 rows × 13 columns</p>\n</div>"
     },
     "metadata": {},
     "execution_count": 36
    }
   ],
   "source": [
    "train_waypoints = pd.read_csv('../../input/indoor-location-train-waypoints/train_waypoints.csv')\n",
    "# 線形補完しているwaypointをtrain_waypoints（grid）とする。gridを増やすのが狙い。\n",
    "# train_waypoints = oofs_df[['oof_x', 'oof_y', 'timestamp', 'site_id_str', 'floor', 'floor_str', 'path']]\n",
    "# train_waypoints = train_waypoints.rename(columns={'oof_x':'x', 'oof_y':\"y\", 'site_id_str':\"site\", 'floor_str':'floorNo'})\n",
    "\n",
    "snap_df = oofs_df[['site_path_timestamp','floor','oof_min_x','oof_min_y']].copy()\n",
    "snap_df = snap_df.rename(columns={'oof_min_x':'x', 'oof_min_y':'y'})\n",
    "snap_df = sub_process(snap_df, train_waypoints)\n",
    "snap_df = add_xy(snap_df)\n",
    "train_waypoints = add_xy(train_waypoints)\n",
    "\n",
    "ds = []\n",
    "for (site, myfloor), d in tqdm(snap_df.groupby(['site','floor'])):\n",
    "    true_floor_locs = train_waypoints.loc[(train_waypoints['floor'] == myfloor) &\n",
    "                                          (train_waypoints['site'] == site)] \\\n",
    "        .reset_index(drop=True)\n",
    "    if len(true_floor_locs) == 0:\n",
    "        print(f'Skipping {site} {myfloor}')\n",
    "        continue\n",
    "    d['matched_point'] = [closest_point(x, list(true_floor_locs['xy'])) for x in d['xy']]\n",
    "    d['oof_min_snap_x'] = d['matched_point'].apply(lambda x: x[0])\n",
    "    d['oof_min_snap_y'] = d['matched_point'].apply(lambda x: x[1])\n",
    "    ds.append(d)\n",
    "\n",
    "# 上書き\n",
    "snap_df = pd.concat(ds).sort_index()\n",
    "snap_df"
   ]
  },
  {
   "cell_type": "code",
   "execution_count": 37,
   "metadata": {},
   "outputs": [
    {
     "output_type": "execute_result",
     "data": {
      "text/plain": [
       "            timestamp   target_x    target_y  floor floor_str  \\\n",
       "0       1561368762838   78.21819   38.999737    2.0        F3   \n",
       "1       1561368762838   78.21819   38.999737    2.0        F3   \n",
       "2       1561368774057   76.25184   30.510840    2.0        F3   \n",
       "3       1561368774057   76.25184   30.510840    2.0        F3   \n",
       "4       1561368774057   76.25184   30.510840    2.0        F3   \n",
       "...               ...        ...         ...    ...       ...   \n",
       "256744  1574420742502  193.20488  108.001520   -1.0        B1   \n",
       "256745  1574420742502  193.20488  108.001520   -1.0        B1   \n",
       "256746  1574420753754  204.29349  107.835120   -1.0        B1   \n",
       "256747  1574420753754  204.29349  107.835120   -1.0        B1   \n",
       "256748  1574420753754  204.29349  107.835120   -1.0        B1   \n",
       "\n",
       "                            path  site_id               site_id_str  \\\n",
       "0       5d10a1669c50c70008fe8977        0  5a0546857ecc773753327266   \n",
       "1       5d10a1669c50c70008fe8977        0  5a0546857ecc773753327266   \n",
       "2       5d10a1669c50c70008fe8977        0  5a0546857ecc773753327266   \n",
       "3       5d10a1669c50c70008fe8977        0  5a0546857ecc773753327266   \n",
       "4       5d10a1669c50c70008fe8977        0  5a0546857ecc773753327266   \n",
       "...                          ...      ...                       ...   \n",
       "256744  5dd7c119c5b77e0006b16b99       23  5dc8cea7659e181adb076a3f   \n",
       "256745  5dd7c119c5b77e0006b16b99       23  5dc8cea7659e181adb076a3f   \n",
       "256746  5dd7c119c5b77e0006b16b99       23  5dc8cea7659e181adb076a3f   \n",
       "256747  5dd7c119c5b77e0006b16b99       23  5dc8cea7659e181adb076a3f   \n",
       "256748  5dd7c119c5b77e0006b16b99       23  5dc8cea7659e181adb076a3f   \n",
       "\n",
       "             oof_x       oof_y  oof_floor  \\\n",
       "0        80.769981   38.344566   0.000000   \n",
       "1        84.665276   32.181015   0.000000   \n",
       "2        80.708488   29.627096   0.000000   \n",
       "3        79.860130   27.645185   0.000000   \n",
       "4        80.092575   26.057396   0.000000   \n",
       "...            ...         ...        ...   \n",
       "256744  201.221008  103.799927   0.263081   \n",
       "256745  199.969269  104.850052   0.260668   \n",
       "256746  200.796341  104.025848   0.262820   \n",
       "256747  200.949646  102.624008   0.262498   \n",
       "256748  201.506821  102.454056   0.265368   \n",
       "\n",
       "                                      site_path_timestamp   oof_min_x  \\\n",
       "0       5a0546857ecc773753327266_5d10a1669c50c70008fe8...   80.877797   \n",
       "1       5a0546857ecc773753327266_5d10a1669c50c70008fe8...   80.877945   \n",
       "2       5a0546857ecc773753327266_5d10a1669c50c70008fe8...   80.656985   \n",
       "3       5a0546857ecc773753327266_5d10a1669c50c70008fe8...   80.651867   \n",
       "4       5a0546857ecc773753327266_5d10a1669c50c70008fe8...   80.647835   \n",
       "...                                                   ...         ...   \n",
       "256744  5dc8cea7659e181adb076a3f_5dd7c119c5b77e0006b16...  199.863393   \n",
       "256745  5dc8cea7659e181adb076a3f_5dd7c119c5b77e0006b16...  199.842527   \n",
       "256746  5dc8cea7659e181adb076a3f_5dd7c119c5b77e0006b16...  206.208402   \n",
       "256747  5dc8cea7659e181adb076a3f_5dd7c119c5b77e0006b16...  206.194785   \n",
       "256748  5dc8cea7659e181adb076a3f_5dd7c119c5b77e0006b16...  206.188363   \n",
       "\n",
       "         oof_min_y  oof_min_snap_x  oof_min_snap_y  \n",
       "0        38.278089       80.681400       39.265667  \n",
       "1        38.277998       80.681400       39.265667  \n",
       "2        29.530033       78.469894       30.721445  \n",
       "3        29.538173       78.469894       30.721445  \n",
       "4        29.548908       78.469894       30.721445  \n",
       "...            ...             ...             ...  \n",
       "256744  103.710059      200.754780      106.755630  \n",
       "256745  103.703969      200.754780      106.755630  \n",
       "256746  104.901882      208.158570      104.707800  \n",
       "256747  104.895422      208.158570      104.707800  \n",
       "256748  104.892078      208.158570      104.707800  \n",
       "\n",
       "[256749 rows x 16 columns]"
      ],
      "text/html": "<div>\n<style scoped>\n    .dataframe tbody tr th:only-of-type {\n        vertical-align: middle;\n    }\n\n    .dataframe tbody tr th {\n        vertical-align: top;\n    }\n\n    .dataframe thead th {\n        text-align: right;\n    }\n</style>\n<table border=\"1\" class=\"dataframe\">\n  <thead>\n    <tr style=\"text-align: right;\">\n      <th></th>\n      <th>timestamp</th>\n      <th>target_x</th>\n      <th>target_y</th>\n      <th>floor</th>\n      <th>floor_str</th>\n      <th>path</th>\n      <th>site_id</th>\n      <th>site_id_str</th>\n      <th>oof_x</th>\n      <th>oof_y</th>\n      <th>oof_floor</th>\n      <th>site_path_timestamp</th>\n      <th>oof_min_x</th>\n      <th>oof_min_y</th>\n      <th>oof_min_snap_x</th>\n      <th>oof_min_snap_y</th>\n    </tr>\n  </thead>\n  <tbody>\n    <tr>\n      <th>0</th>\n      <td>1561368762838</td>\n      <td>78.21819</td>\n      <td>38.999737</td>\n      <td>2.0</td>\n      <td>F3</td>\n      <td>5d10a1669c50c70008fe8977</td>\n      <td>0</td>\n      <td>5a0546857ecc773753327266</td>\n      <td>80.769981</td>\n      <td>38.344566</td>\n      <td>0.000000</td>\n      <td>5a0546857ecc773753327266_5d10a1669c50c70008fe8...</td>\n      <td>80.877797</td>\n      <td>38.278089</td>\n      <td>80.681400</td>\n      <td>39.265667</td>\n    </tr>\n    <tr>\n      <th>1</th>\n      <td>1561368762838</td>\n      <td>78.21819</td>\n      <td>38.999737</td>\n      <td>2.0</td>\n      <td>F3</td>\n      <td>5d10a1669c50c70008fe8977</td>\n      <td>0</td>\n      <td>5a0546857ecc773753327266</td>\n      <td>84.665276</td>\n      <td>32.181015</td>\n      <td>0.000000</td>\n      <td>5a0546857ecc773753327266_5d10a1669c50c70008fe8...</td>\n      <td>80.877945</td>\n      <td>38.277998</td>\n      <td>80.681400</td>\n      <td>39.265667</td>\n    </tr>\n    <tr>\n      <th>2</th>\n      <td>1561368774057</td>\n      <td>76.25184</td>\n      <td>30.510840</td>\n      <td>2.0</td>\n      <td>F3</td>\n      <td>5d10a1669c50c70008fe8977</td>\n      <td>0</td>\n      <td>5a0546857ecc773753327266</td>\n      <td>80.708488</td>\n      <td>29.627096</td>\n      <td>0.000000</td>\n      <td>5a0546857ecc773753327266_5d10a1669c50c70008fe8...</td>\n      <td>80.656985</td>\n      <td>29.530033</td>\n      <td>78.469894</td>\n      <td>30.721445</td>\n    </tr>\n    <tr>\n      <th>3</th>\n      <td>1561368774057</td>\n      <td>76.25184</td>\n      <td>30.510840</td>\n      <td>2.0</td>\n      <td>F3</td>\n      <td>5d10a1669c50c70008fe8977</td>\n      <td>0</td>\n      <td>5a0546857ecc773753327266</td>\n      <td>79.860130</td>\n      <td>27.645185</td>\n      <td>0.000000</td>\n      <td>5a0546857ecc773753327266_5d10a1669c50c70008fe8...</td>\n      <td>80.651867</td>\n      <td>29.538173</td>\n      <td>78.469894</td>\n      <td>30.721445</td>\n    </tr>\n    <tr>\n      <th>4</th>\n      <td>1561368774057</td>\n      <td>76.25184</td>\n      <td>30.510840</td>\n      <td>2.0</td>\n      <td>F3</td>\n      <td>5d10a1669c50c70008fe8977</td>\n      <td>0</td>\n      <td>5a0546857ecc773753327266</td>\n      <td>80.092575</td>\n      <td>26.057396</td>\n      <td>0.000000</td>\n      <td>5a0546857ecc773753327266_5d10a1669c50c70008fe8...</td>\n      <td>80.647835</td>\n      <td>29.548908</td>\n      <td>78.469894</td>\n      <td>30.721445</td>\n    </tr>\n    <tr>\n      <th>...</th>\n      <td>...</td>\n      <td>...</td>\n      <td>...</td>\n      <td>...</td>\n      <td>...</td>\n      <td>...</td>\n      <td>...</td>\n      <td>...</td>\n      <td>...</td>\n      <td>...</td>\n      <td>...</td>\n      <td>...</td>\n      <td>...</td>\n      <td>...</td>\n      <td>...</td>\n      <td>...</td>\n    </tr>\n    <tr>\n      <th>256744</th>\n      <td>1574420742502</td>\n      <td>193.20488</td>\n      <td>108.001520</td>\n      <td>-1.0</td>\n      <td>B1</td>\n      <td>5dd7c119c5b77e0006b16b99</td>\n      <td>23</td>\n      <td>5dc8cea7659e181adb076a3f</td>\n      <td>201.221008</td>\n      <td>103.799927</td>\n      <td>0.263081</td>\n      <td>5dc8cea7659e181adb076a3f_5dd7c119c5b77e0006b16...</td>\n      <td>199.863393</td>\n      <td>103.710059</td>\n      <td>200.754780</td>\n      <td>106.755630</td>\n    </tr>\n    <tr>\n      <th>256745</th>\n      <td>1574420742502</td>\n      <td>193.20488</td>\n      <td>108.001520</td>\n      <td>-1.0</td>\n      <td>B1</td>\n      <td>5dd7c119c5b77e0006b16b99</td>\n      <td>23</td>\n      <td>5dc8cea7659e181adb076a3f</td>\n      <td>199.969269</td>\n      <td>104.850052</td>\n      <td>0.260668</td>\n      <td>5dc8cea7659e181adb076a3f_5dd7c119c5b77e0006b16...</td>\n      <td>199.842527</td>\n      <td>103.703969</td>\n      <td>200.754780</td>\n      <td>106.755630</td>\n    </tr>\n    <tr>\n      <th>256746</th>\n      <td>1574420753754</td>\n      <td>204.29349</td>\n      <td>107.835120</td>\n      <td>-1.0</td>\n      <td>B1</td>\n      <td>5dd7c119c5b77e0006b16b99</td>\n      <td>23</td>\n      <td>5dc8cea7659e181adb076a3f</td>\n      <td>200.796341</td>\n      <td>104.025848</td>\n      <td>0.262820</td>\n      <td>5dc8cea7659e181adb076a3f_5dd7c119c5b77e0006b16...</td>\n      <td>206.208402</td>\n      <td>104.901882</td>\n      <td>208.158570</td>\n      <td>104.707800</td>\n    </tr>\n    <tr>\n      <th>256747</th>\n      <td>1574420753754</td>\n      <td>204.29349</td>\n      <td>107.835120</td>\n      <td>-1.0</td>\n      <td>B1</td>\n      <td>5dd7c119c5b77e0006b16b99</td>\n      <td>23</td>\n      <td>5dc8cea7659e181adb076a3f</td>\n      <td>200.949646</td>\n      <td>102.624008</td>\n      <td>0.262498</td>\n      <td>5dc8cea7659e181adb076a3f_5dd7c119c5b77e0006b16...</td>\n      <td>206.194785</td>\n      <td>104.895422</td>\n      <td>208.158570</td>\n      <td>104.707800</td>\n    </tr>\n    <tr>\n      <th>256748</th>\n      <td>1574420753754</td>\n      <td>204.29349</td>\n      <td>107.835120</td>\n      <td>-1.0</td>\n      <td>B1</td>\n      <td>5dd7c119c5b77e0006b16b99</td>\n      <td>23</td>\n      <td>5dc8cea7659e181adb076a3f</td>\n      <td>201.506821</td>\n      <td>102.454056</td>\n      <td>0.265368</td>\n      <td>5dc8cea7659e181adb076a3f_5dd7c119c5b77e0006b16...</td>\n      <td>206.188363</td>\n      <td>104.892078</td>\n      <td>208.158570</td>\n      <td>104.707800</td>\n    </tr>\n  </tbody>\n</table>\n<p>256749 rows × 16 columns</p>\n</div>"
     },
     "metadata": {},
     "execution_count": 37
    }
   ],
   "source": [
    "oofs_df['oof_min_snap_x'] = snap_df['oof_min_snap_x']\n",
    "oofs_df['oof_min_snap_y'] = snap_df['oof_min_snap_y']\n",
    "oofs_df"
   ]
  },
  {
   "cell_type": "code",
   "execution_count": 38,
   "metadata": {},
   "outputs": [
    {
     "output_type": "stream",
     "name": "stdout",
     "text": [
      "(after cost-min + snap) CV:5.488938539525709\n"
     ]
    }
   ],
   "source": [
    "# waypoint補正前のx,yでの評価\n",
    "oof_score_post_process = mean_position_error(\n",
    "    oofs_df['oof_min_snap_x'], oofs_df['oof_min_snap_y'], 0, \n",
    "    oofs_df['target_x'], oofs_df['target_y'], 0\n",
    "    )\n",
    "\n",
    "wandb_config['CV_cost_snap'] = oof_score_post_process\n",
    "print(f\"(after cost-min + snap) CV:{oof_score_post_process}\")"
   ]
  },
  {
   "cell_type": "code",
   "execution_count": 39,
   "metadata": {},
   "outputs": [],
   "source": [
    "# train_waypoints = pd.read_csv('../../input/indoor-location-train-waypoints/train_waypoints.csv')\n",
    "\n",
    "new_sub = sub_process(new_sub, train_waypoints)\n",
    "new_sub = add_xy(new_sub)\n",
    "train_waypoints = add_xy(train_waypoints)\n",
    "\n",
    "ds = []\n",
    "for (site, myfloor), d in new_sub.groupby(['site','floor']):\n",
    "    true_floor_locs = train_waypoints.loc[(train_waypoints['floor'] == myfloor) &\n",
    "                                          (train_waypoints['site'] == site)] \\\n",
    "        .reset_index(drop=True)\n",
    "    if len(true_floor_locs) == 0:\n",
    "        print(f'Skipping {site} {myfloor}')\n",
    "        continue\n",
    "    d['matched_point'] = [closest_point(x, list(true_floor_locs['xy'])) for x in d['xy']]\n",
    "    d['x_'] = d['matched_point'].apply(lambda x: x[0])\n",
    "    d['y_'] = d['matched_point'].apply(lambda x: x[1])\n",
    "    ds.append(d)\n",
    "\n",
    "new_sub2 = pd.concat(ds)"
   ]
  },
  {
   "cell_type": "code",
   "execution_count": 40,
   "metadata": {},
   "outputs": [
    {
     "output_type": "execute_result",
     "data": {
      "text/plain": [
       "                                     site_path_timestamp  floor           x  \\\n",
       "0      5a0546857ecc773753327266_046cfa46be49fc1083481...      0   93.728470   \n",
       "1      5a0546857ecc773753327266_046cfa46be49fc1083481...      0   85.360190   \n",
       "2      5a0546857ecc773753327266_046cfa46be49fc1083481...      0   87.162830   \n",
       "3      5a0546857ecc773753327266_046cfa46be49fc1083481...      0   88.779945   \n",
       "4      5a0546857ecc773753327266_046cfa46be49fc1083481...      0   89.695300   \n",
       "...                                                  ...    ...         ...   \n",
       "10128  5dc8cea7659e181adb076a3f_fd64de8c4a2fc5ebb0e9f...      5  215.262270   \n",
       "10129  5dc8cea7659e181adb076a3f_fd64de8c4a2fc5ebb0e9f...      5  210.662190   \n",
       "10130  5dc8cea7659e181adb076a3f_fd64de8c4a2fc5ebb0e9f...      5  205.511300   \n",
       "10131  5dc8cea7659e181adb076a3f_fd64de8c4a2fc5ebb0e9f...      5  195.825880   \n",
       "10132  5dc8cea7659e181adb076a3f_fd64de8c4a2fc5ebb0e9f...      5  192.553130   \n",
       "\n",
       "                y  \n",
       "0       97.948860  \n",
       "1       99.075780  \n",
       "2      104.450550  \n",
       "3      108.933240  \n",
       "4      111.917800  \n",
       "...           ...  \n",
       "10128   97.973610  \n",
       "10129  104.351776  \n",
       "10130  107.841324  \n",
       "10131  109.711815  \n",
       "10132  111.863014  \n",
       "\n",
       "[10133 rows x 4 columns]"
      ],
      "text/html": "<div>\n<style scoped>\n    .dataframe tbody tr th:only-of-type {\n        vertical-align: middle;\n    }\n\n    .dataframe tbody tr th {\n        vertical-align: top;\n    }\n\n    .dataframe thead th {\n        text-align: right;\n    }\n</style>\n<table border=\"1\" class=\"dataframe\">\n  <thead>\n    <tr style=\"text-align: right;\">\n      <th></th>\n      <th>site_path_timestamp</th>\n      <th>floor</th>\n      <th>x</th>\n      <th>y</th>\n    </tr>\n  </thead>\n  <tbody>\n    <tr>\n      <th>0</th>\n      <td>5a0546857ecc773753327266_046cfa46be49fc1083481...</td>\n      <td>0</td>\n      <td>93.728470</td>\n      <td>97.948860</td>\n    </tr>\n    <tr>\n      <th>1</th>\n      <td>5a0546857ecc773753327266_046cfa46be49fc1083481...</td>\n      <td>0</td>\n      <td>85.360190</td>\n      <td>99.075780</td>\n    </tr>\n    <tr>\n      <th>2</th>\n      <td>5a0546857ecc773753327266_046cfa46be49fc1083481...</td>\n      <td>0</td>\n      <td>87.162830</td>\n      <td>104.450550</td>\n    </tr>\n    <tr>\n      <th>3</th>\n      <td>5a0546857ecc773753327266_046cfa46be49fc1083481...</td>\n      <td>0</td>\n      <td>88.779945</td>\n      <td>108.933240</td>\n    </tr>\n    <tr>\n      <th>4</th>\n      <td>5a0546857ecc773753327266_046cfa46be49fc1083481...</td>\n      <td>0</td>\n      <td>89.695300</td>\n      <td>111.917800</td>\n    </tr>\n    <tr>\n      <th>...</th>\n      <td>...</td>\n      <td>...</td>\n      <td>...</td>\n      <td>...</td>\n    </tr>\n    <tr>\n      <th>10128</th>\n      <td>5dc8cea7659e181adb076a3f_fd64de8c4a2fc5ebb0e9f...</td>\n      <td>5</td>\n      <td>215.262270</td>\n      <td>97.973610</td>\n    </tr>\n    <tr>\n      <th>10129</th>\n      <td>5dc8cea7659e181adb076a3f_fd64de8c4a2fc5ebb0e9f...</td>\n      <td>5</td>\n      <td>210.662190</td>\n      <td>104.351776</td>\n    </tr>\n    <tr>\n      <th>10130</th>\n      <td>5dc8cea7659e181adb076a3f_fd64de8c4a2fc5ebb0e9f...</td>\n      <td>5</td>\n      <td>205.511300</td>\n      <td>107.841324</td>\n    </tr>\n    <tr>\n      <th>10131</th>\n      <td>5dc8cea7659e181adb076a3f_fd64de8c4a2fc5ebb0e9f...</td>\n      <td>5</td>\n      <td>195.825880</td>\n      <td>109.711815</td>\n    </tr>\n    <tr>\n      <th>10132</th>\n      <td>5dc8cea7659e181adb076a3f_fd64de8c4a2fc5ebb0e9f...</td>\n      <td>5</td>\n      <td>192.553130</td>\n      <td>111.863014</td>\n    </tr>\n  </tbody>\n</table>\n<p>10133 rows × 4 columns</p>\n</div>"
     },
     "metadata": {},
     "execution_count": 40
    }
   ],
   "source": [
    "new_sub2 = new_sub2[['site_path_timestamp','floor','x_','y_']].sort_index()\n",
    "new_sub2 = new_sub2.rename(columns={'x_':'x', 'y_':'y'})\n",
    "new_sub2"
   ]
  },
  {
   "cell_type": "code",
   "execution_count": 41,
   "metadata": {},
   "outputs": [],
   "source": [
    "new_sub2.to_csv(RUN_NAME + '_cost_snap_sub.csv', index=False)"
   ]
  },
  {
   "cell_type": "code",
   "execution_count": 42,
   "metadata": {},
   "outputs": [
    {
     "output_type": "display_data",
     "data": {
      "text/plain": "<IPython.core.display.HTML object>",
      "text/html": "<br/>Waiting for W&B process to finish, PID 326053<br/>Program ended successfully."
     },
     "metadata": {}
    },
    {
     "output_type": "display_data",
     "data": {
      "text/plain": "VBox(children=(Label(value=' 0.00MB of 0.00MB uploaded (0.00MB deduped)\\r'), FloatProgress(value=1.0, max=1.0)…",
      "application/vnd.jupyter.widget-view+json": {
       "version_major": 2,
       "version_minor": 0,
       "model_id": "3dc3fe381d4b4872a75e799c3bdd44b7"
      }
     },
     "metadata": {}
    },
    {
     "output_type": "display_data",
     "data": {
      "text/plain": "<IPython.core.display.HTML object>",
      "text/html": "Find user logs for this run at: <code>/home/user/work/exp/exp016/wandb/run-20210424_010930-2p7t9scp/logs/debug.log</code>"
     },
     "metadata": {}
    },
    {
     "output_type": "display_data",
     "data": {
      "text/plain": "<IPython.core.display.HTML object>",
      "text/html": "Find internal logs for this run at: <code>/home/user/work/exp/exp016/wandb/run-20210424_010930-2p7t9scp/logs/debug-internal.log</code>"
     },
     "metadata": {}
    },
    {
     "output_type": "display_data",
     "data": {
      "text/plain": "<IPython.core.display.HTML object>",
      "text/html": "<h3>Run summary:</h3><br/><style>\n    table.wandb td:nth-child(1) { padding: 0 10px; text-align: right }\n    </style><table class=\"wandb\">\n<tr><td>Loss/val</td><td>44.18501</td></tr><tr><td>Loss/xy</td><td>44.18501</td></tr><tr><td>Loss/floor</td><td>4.70401</td></tr><tr><td>MPE/val</td><td>7.55999</td></tr><tr><td>epoch</td><td>199</td></tr><tr><td>trainer/global_step</td><td>80399</td></tr><tr><td>_runtime</td><td>913</td></tr><tr><td>_timestamp</td><td>1619195084</td></tr><tr><td>_step</td><td>199</td></tr></table>"
     },
     "metadata": {}
    },
    {
     "output_type": "display_data",
     "data": {
      "text/plain": "<IPython.core.display.HTML object>",
      "text/html": "<h3>Run history:</h3><br/><style>\n    table.wandb td:nth-child(1) { padding: 0 10px; text-align: right }\n    </style><table class=\"wandb\">\n<tr><td>Loss/val</td><td>█▅▅▅▃▂▁▁▁▁▁▁▁▁▁▁▁▁▁▁▁▁▁▁▁▁▁▁▁▁▁▁▁▁▁▁▁▁▁▁</td></tr><tr><td>Loss/xy</td><td>█▅▅▅▃▂▁▁▁▁▁▁▁▁▁▁▁▁▁▁▁▁▁▁▁▁▁▁▁▁▁▁▁▁▁▁▁▁▁▁</td></tr><tr><td>Loss/floor</td><td>████▅▃▃▂▁▁▁▁▁▁▁▁▁▁▁▁▁▁▁▁▁▁▁▁▁▁▁▁▁▁▁▁▁▁▁▁</td></tr><tr><td>MPE/val</td><td>█▆▆▆▄▄▂▁▁▁▁▁▁▁▁▁▁▁▁▁▁▁▁▁▁▁▁▁▁▁▁▁▁▁▁▁▁▁▁▁</td></tr><tr><td>epoch</td><td>▁▁▁▁▂▂▂▂▂▃▃▃▃▃▃▄▄▄▄▄▅▅▅▅▅▅▆▆▆▆▆▇▇▇▇▇▇███</td></tr><tr><td>trainer/global_step</td><td>▁▁▁▁▂▂▂▂▂▃▃▃▃▃▃▄▄▄▄▄▅▅▅▅▅▅▆▆▆▆▆▇▇▇▇▇▇███</td></tr><tr><td>_runtime</td><td>▁▁▁▁▂▂▂▂▂▃▃▃▃▃▄▄▄▄▄▄▅▅▅▅▅▅▆▆▆▆▆▇▇▇▇▇▇███</td></tr><tr><td>_timestamp</td><td>▁▁▁▁▂▂▂▂▂▃▃▃▃▃▄▄▄▄▄▄▅▅▅▅▅▅▆▆▆▆▆▇▇▇▇▇▇███</td></tr><tr><td>_step</td><td>▁▁▁▁▂▂▂▂▂▃▃▃▃▃▃▄▄▄▄▄▅▅▅▅▅▅▆▆▆▆▆▇▇▇▇▇▇███</td></tr></table><br/>"
     },
     "metadata": {}
    },
    {
     "output_type": "display_data",
     "data": {
      "text/plain": "<IPython.core.display.HTML object>",
      "text/html": "Synced 5 W&B file(s), 1 media file(s), 0 artifact file(s) and 0 other file(s)"
     },
     "metadata": {}
    },
    {
     "output_type": "display_data",
     "data": {
      "text/plain": "<IPython.core.display.HTML object>",
      "text/html": "\n                    <br/>Synced <strong style=\"color:#cdcd00\">young-morning-416</strong>: <a href=\"https://wandb.ai/kuto5046/indoor/runs/2p7t9scp\" target=\"_blank\">https://wandb.ai/kuto5046/indoor/runs/2p7t9scp</a><br/>\n                "
     },
     "metadata": {}
    }
   ],
   "source": [
    "wandb.finish()"
   ]
  }
 ],
 "metadata": {
  "kernelspec": {
   "display_name": "Python 3",
   "language": "python",
   "name": "python3"
  },
  "language_info": {
   "codemirror_mode": {
    "name": "ipython",
    "version": 3
   },
   "file_extension": ".py",
   "mimetype": "text/x-python",
   "name": "python",
   "nbconvert_exporter": "python",
   "pygments_lexer": "ipython3",
   "version": "3.8.5"
  }
 },
 "nbformat": 4,
 "nbformat_minor": 4
}