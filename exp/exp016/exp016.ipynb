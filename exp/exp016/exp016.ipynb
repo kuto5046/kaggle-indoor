{
 "cells": [
  {
   "cell_type": "code",
   "execution_count": 1,
   "metadata": {},
   "outputs": [],
   "source": [
    "import os\n",
    "import sys\n",
    "import glob\n",
    "import yaml\n",
    "import pickle\n",
    "import random\n",
    "\n",
    "import numpy as np\n",
    "import pandas as pd\n",
    "import scipy.stats as stats\n",
    "from pathlib import Path\n",
    "\n",
    "from sklearn import model_selection\n",
    "from sklearn.preprocessing import StandardScaler, LabelEncoder\n",
    "\n",
    "import wandb\n",
    "import torch\n",
    "from torch import nn\n",
    "import torch.nn.functional as F\n",
    "from torch.utils.data import Dataset, DataLoader\n",
    "import torch.optim as optim\n",
    "\n",
    "import pytorch_lightning as pl\n",
    "from pytorch_lightning.loggers import WandbLogger\n",
    "from pytorch_lightning.callbacks import ModelCheckpoint\n",
    "from pytorch_lightning.callbacks import EarlyStopping\n",
    "from pytorch_lightning.utilities.seed import seed_everything"
   ]
  },
  {
   "cell_type": "markdown",
   "metadata": {},
   "source": [
    "## config"
   ]
  },
  {
   "cell_type": "code",
   "execution_count": 2,
   "metadata": {},
   "outputs": [
    {
     "output_type": "stream",
     "name": "stderr",
     "text": [
      "Global seed set to 1996\n"
     ]
    },
    {
     "output_type": "execute_result",
     "data": {
      "text/plain": [
       "1996"
      ]
     },
     "metadata": {},
     "execution_count": 2
    }
   ],
   "source": [
    "# config\n",
    "with open('config.yaml') as f:\n",
    "    config = yaml.safe_load(f)\n",
    "\n",
    "# globals variable\n",
    "SEED = config['globals']['seed']\n",
    "MAX_EPOCHS = config['globals']['max_epochs']\n",
    "N_SPLITS = config['globals']['n_splits']\n",
    "USE_FOLDS = config['globals']['use_folds']\n",
    "DEBUG = config['globals']['debug']\n",
    "EXP_MESSAGE = config['globals']['exp_message']\n",
    "NOTES = config['globals']['notes']\n",
    "MODEL_SAVE = config['globals']['model_save']\n",
    "ONLY_PRED = config['globals']['only_pred']\n",
    "PRETRAINED = config['globals']['pretrained']\n",
    "PRETRAINED_PATH = config['globals']['pretrained_path']\n",
    "EXP_NAME = str(Path().resolve()).split('/')[-1]\n",
    "\n",
    "# seed\n",
    "seed_everything(SEED)"
   ]
  },
  {
   "cell_type": "code",
   "execution_count": 3,
   "metadata": {},
   "outputs": [
    {
     "output_type": "execute_result",
     "data": {
      "text/plain": [
       "'exp016'"
      ]
     },
     "metadata": {},
     "execution_count": 3
    }
   ],
   "source": [
    "EXP_NAME"
   ]
  },
  {
   "cell_type": "code",
   "execution_count": 4,
   "metadata": {},
   "outputs": [
    {
     "output_type": "stream",
     "name": "stdout",
     "text": [
      "\u001b[34m\u001b[1mwandb\u001b[0m: Appending key for api.wandb.ai to your netrc file: /home/user/.netrc\n"
     ]
    }
   ],
   "source": [
    "!wandb login 1bb2d0449c11d8b987e25c38b9d8dda176310fb6"
   ]
  },
  {
   "cell_type": "markdown",
   "metadata": {},
   "source": [
    "## read data"
   ]
  },
  {
   "cell_type": "code",
   "execution_count": 5,
   "metadata": {},
   "outputs": [],
   "source": [
    "# waypointを補正したdataset\n",
    "root_dir = Path('../../input/')\n",
    "with open(root_dir/'2kaido_wifi_dataset_v1/train_20000_100_10.pkl', 'rb') as f:\n",
    "  train_df = pickle.load(f)\n",
    "\n",
    "with open(root_dir/'2kaido_wifi_dataset_v1/test_20000_100_10.pkl', 'rb') as f:\n",
    "  test_df = pickle.load(f)\n",
    "\n",
    "sub_df = pd.read_csv(root_dir/'indoor-location-navigation/sample_submission.csv', index_col=0)"
   ]
  },
  {
   "cell_type": "code",
   "execution_count": 6,
   "metadata": {},
   "outputs": [],
   "source": [
    "\n",
    "train_df = train_df.rename(columns={'wp_tmestamp':'timestamp', 'path_id':'path'})\n",
    "test_df = test_df.rename(columns={'wp_tmestamp':'timestamp', 'path_id':'path'})\n",
    "\n",
    "train_df = train_df.astype({'timestamp':int,'x': float, 'y': float, 'floor':float})\n",
    "test_df = test_df.astype({'timestamp':int})"
   ]
  },
  {
   "cell_type": "code",
   "execution_count": 7,
   "metadata": {},
   "outputs": [
    {
     "output_type": "execute_result",
     "data": {
      "text/plain": [
       "                                          ssid_0  \\\n",
       "0       356d66c73c423be835bd5d07cb1ebdfa821d8e23   \n",
       "1       356d66c73c423be835bd5d07cb1ebdfa821d8e23   \n",
       "2       f44fa6118fed7198296c8b45b2f2684903d99620   \n",
       "3       356d66c73c423be835bd5d07cb1ebdfa821d8e23   \n",
       "4       f44fa6118fed7198296c8b45b2f2684903d99620   \n",
       "...                                          ...   \n",
       "255883  18336f0964fbd470a2ee7116d33b96946c633999   \n",
       "255884  18336f0964fbd470a2ee7116d33b96946c633999   \n",
       "255885  18336f0964fbd470a2ee7116d33b96946c633999   \n",
       "255886  18336f0964fbd470a2ee7116d33b96946c633999   \n",
       "255887  18336f0964fbd470a2ee7116d33b96946c633999   \n",
       "\n",
       "                                          ssid_1  \\\n",
       "0       f44fa6118fed7198296c8b45b2f2684903d99620   \n",
       "1       f44fa6118fed7198296c8b45b2f2684903d99620   \n",
       "2       356d66c73c423be835bd5d07cb1ebdfa821d8e23   \n",
       "3       f44fa6118fed7198296c8b45b2f2684903d99620   \n",
       "4       356d66c73c423be835bd5d07cb1ebdfa821d8e23   \n",
       "...                                          ...   \n",
       "255883  072159287058774aa9b450c9163129b309bc982b   \n",
       "255884  18336f0964fbd470a2ee7116d33b96946c633999   \n",
       "255885  18336f0964fbd470a2ee7116d33b96946c633999   \n",
       "255886  18336f0964fbd470a2ee7116d33b96946c633999   \n",
       "255887  90ef6526fa145d95dc065edc3b3a3193406f3ee4   \n",
       "\n",
       "                                          ssid_2  \\\n",
       "0       c3513a636d1a813db081a2ffc33f297b4fefe28d   \n",
       "1       c3513a636d1a813db081a2ffc33f297b4fefe28d   \n",
       "2       8aed75f7c344e6a3d4916750029dd4ee47c1e7c5   \n",
       "3       5a368e0bd5050bdb4653dc39c86bee1fd2b8aeb7   \n",
       "4       990847ae755de95a44c7b1be54e66f4e56fdc7f4   \n",
       "...                                          ...   \n",
       "255883  18336f0964fbd470a2ee7116d33b96946c633999   \n",
       "255884  072159287058774aa9b450c9163129b309bc982b   \n",
       "255885  072159287058774aa9b450c9163129b309bc982b   \n",
       "255886  072159287058774aa9b450c9163129b309bc982b   \n",
       "255887  040667e2fdd3a9bbb54e970c430ad6f08416c52e   \n",
       "\n",
       "                                          ssid_3  \\\n",
       "0       990847ae755de95a44c7b1be54e66f4e56fdc7f4   \n",
       "1       990847ae755de95a44c7b1be54e66f4e56fdc7f4   \n",
       "2       c3513a636d1a813db081a2ffc33f297b4fefe28d   \n",
       "3       990847ae755de95a44c7b1be54e66f4e56fdc7f4   \n",
       "4       c3513a636d1a813db081a2ffc33f297b4fefe28d   \n",
       "...                                          ...   \n",
       "255883  1a04593c547b59266cbf0e599f87cda4f67c5ad4   \n",
       "255884  072159287058774aa9b450c9163129b309bc982b   \n",
       "255885  ea9e102c49dbc834b1059c5e8b5dc4a017a82dff   \n",
       "255886  040667e2fdd3a9bbb54e970c430ad6f08416c52e   \n",
       "255887  18336f0964fbd470a2ee7116d33b96946c633999   \n",
       "\n",
       "                                          ssid_4  \\\n",
       "0       4e601619b7c7d9df8d61490ad2c134f08ea01d61   \n",
       "1       d839a45ebe64ab48b60a407d837fb01d3c0dfef9   \n",
       "2       5a368e0bd5050bdb4653dc39c86bee1fd2b8aeb7   \n",
       "3       da39a3ee5e6b4b0d3255bfef95601890afd80709   \n",
       "4       d839a45ebe64ab48b60a407d837fb01d3c0dfef9   \n",
       "...                                          ...   \n",
       "255883  040667e2fdd3a9bbb54e970c430ad6f08416c52e   \n",
       "255884  ea9e102c49dbc834b1059c5e8b5dc4a017a82dff   \n",
       "255885  072159287058774aa9b450c9163129b309bc982b   \n",
       "255886  da39a3ee5e6b4b0d3255bfef95601890afd80709   \n",
       "255887  da39a3ee5e6b4b0d3255bfef95601890afd80709   \n",
       "\n",
       "                                          ssid_5  \\\n",
       "0       c3513a636d1a813db081a2ffc33f297b4fefe28d   \n",
       "1       b7e6027447eb1f81327d66cfd3adbe557aabf26c   \n",
       "2       4e601619b7c7d9df8d61490ad2c134f08ea01d61   \n",
       "3       b6ffe5619e02871fcd04f61c9bb4b5c53a3f46b7   \n",
       "4       b7e6027447eb1f81327d66cfd3adbe557aabf26c   \n",
       "...                                          ...   \n",
       "255883  da39a3ee5e6b4b0d3255bfef95601890afd80709   \n",
       "255884  040667e2fdd3a9bbb54e970c430ad6f08416c52e   \n",
       "255885  040667e2fdd3a9bbb54e970c430ad6f08416c52e   \n",
       "255886  072159287058774aa9b450c9163129b309bc982b   \n",
       "255887  072159287058774aa9b450c9163129b309bc982b   \n",
       "\n",
       "                                          ssid_6  \\\n",
       "0       5a368e0bd5050bdb4653dc39c86bee1fd2b8aeb7   \n",
       "1       7182afc4e5c212133d5d7d76eb3df6c24618302b   \n",
       "2       2ce029b3a3dea973a44bf0587be5e2b93a74e5f1   \n",
       "3       b7e6027447eb1f81327d66cfd3adbe557aabf26c   \n",
       "4       7182afc4e5c212133d5d7d76eb3df6c24618302b   \n",
       "...                                          ...   \n",
       "255883  072159287058774aa9b450c9163129b309bc982b   \n",
       "255884  da39a3ee5e6b4b0d3255bfef95601890afd80709   \n",
       "255885  1f09251bbfadafb11c63c87963af25238d6bc886   \n",
       "255886  90ef6526fa145d95dc065edc3b3a3193406f3ee4   \n",
       "255887  ea9e102c49dbc834b1059c5e8b5dc4a017a82dff   \n",
       "\n",
       "                                          ssid_7  \\\n",
       "0       b14c56d7cd73a5b026fc118c671e24dc2ba2558b   \n",
       "1       da39a3ee5e6b4b0d3255bfef95601890afd80709   \n",
       "2       b14c56d7cd73a5b026fc118c671e24dc2ba2558b   \n",
       "3       3fa90121039c7b6e24ae985d228e0366ae15fba4   \n",
       "4       b9f0208be00bd8b337be7f12e02e3a3ce846e22b   \n",
       "...                                          ...   \n",
       "255883  da39a3ee5e6b4b0d3255bfef95601890afd80709   \n",
       "255884  da39a3ee5e6b4b0d3255bfef95601890afd80709   \n",
       "255885  da39a3ee5e6b4b0d3255bfef95601890afd80709   \n",
       "255886  ea9e102c49dbc834b1059c5e8b5dc4a017a82dff   \n",
       "255887  072159287058774aa9b450c9163129b309bc982b   \n",
       "\n",
       "                                          ssid_8  \\\n",
       "0       d839a45ebe64ab48b60a407d837fb01d3c0dfef9   \n",
       "1       b9f0208be00bd8b337be7f12e02e3a3ce846e22b   \n",
       "2       3fa90121039c7b6e24ae985d228e0366ae15fba4   \n",
       "3       d839a45ebe64ab48b60a407d837fb01d3c0dfef9   \n",
       "4       b6ffe5619e02871fcd04f61c9bb4b5c53a3f46b7   \n",
       "...                                          ...   \n",
       "255883  da39a3ee5e6b4b0d3255bfef95601890afd80709   \n",
       "255884  da39a3ee5e6b4b0d3255bfef95601890afd80709   \n",
       "255885  da39a3ee5e6b4b0d3255bfef95601890afd80709   \n",
       "255886  1f09251bbfadafb11c63c87963af25238d6bc886   \n",
       "255887  1f09251bbfadafb11c63c87963af25238d6bc886   \n",
       "\n",
       "                                          ssid_9  ... frequency_97  \\\n",
       "0       7182afc4e5c212133d5d7d76eb3df6c24618302b  ...         5785   \n",
       "1       b6ffe5619e02871fcd04f61c9bb4b5c53a3f46b7  ...         5825   \n",
       "2       3745dc080c9396d2317f4c05d7141c1df83acf9d  ...         2462   \n",
       "3       d839a45ebe64ab48b60a407d837fb01d3c0dfef9  ...         5745   \n",
       "4       8aed75f7c344e6a3d4916750029dd4ee47c1e7c5  ...         2462   \n",
       "...                                          ...  ...          ...   \n",
       "255883  da39a3ee5e6b4b0d3255bfef95601890afd80709  ...            0   \n",
       "255884  ea9e102c49dbc834b1059c5e8b5dc4a017a82dff  ...            0   \n",
       "255885  da39a3ee5e6b4b0d3255bfef95601890afd80709  ...            0   \n",
       "255886  da39a3ee5e6b4b0d3255bfef95601890afd80709  ...            0   \n",
       "255887  da39a3ee5e6b4b0d3255bfef95601890afd80709  ...            0   \n",
       "\n",
       "       frequency_98 frequency_99      timestamp          x           y floor  \\\n",
       "0              5825         5220  1578466132778  114.33501  156.842240  -1.0   \n",
       "1              5825         5825  1578466132778  114.33501  156.842240  -1.0   \n",
       "2              5745         2462  1578466132778  114.33501  156.842240  -1.0   \n",
       "3              5745         5745  1578466132778  114.33501  156.842240  -1.0   \n",
       "4              2462         5240  1578466149574  106.65901  154.629520  -1.0   \n",
       "...             ...          ...            ...        ...         ...   ...   \n",
       "255883            0            0  1573892863738  126.63109  107.011640   6.0   \n",
       "255884            0            0  1573892868972  131.79286  111.526085   6.0   \n",
       "255885            0            0  1573892868972  131.79286  111.526085   6.0   \n",
       "255886            0            0  1573892874306  136.65004  116.407990   6.0   \n",
       "255887            0            0  1573892874306  136.65004  116.407990   6.0   \n",
       "\n",
       "       floor_str                      path                   site_id  \n",
       "0             B1  5e1580d1f4c3420006d520e4  5a0546857ecc773753327266  \n",
       "1             B1  5e1580d1f4c3420006d520e4  5a0546857ecc773753327266  \n",
       "2             B1  5e1580d1f4c3420006d520e4  5a0546857ecc773753327266  \n",
       "3             B1  5e1580d1f4c3420006d520e4  5a0546857ecc773753327266  \n",
       "4             B1  5e1580d1f4c3420006d520e4  5a0546857ecc773753327266  \n",
       "...          ...                       ...                       ...  \n",
       "255883        F7  5dcfb393878f3300066c70a6  5dc8cea7659e181adb076a3f  \n",
       "255884        F7  5dcfb393878f3300066c70a6  5dc8cea7659e181adb076a3f  \n",
       "255885        F7  5dcfb393878f3300066c70a6  5dc8cea7659e181adb076a3f  \n",
       "255886        F7  5dcfb393878f3300066c70a6  5dc8cea7659e181adb076a3f  \n",
       "255887        F7  5dcfb393878f3300066c70a6  5dc8cea7659e181adb076a3f  \n",
       "\n",
       "[255888 rows x 407 columns]"
      ],
      "text/html": "<div>\n<style scoped>\n    .dataframe tbody tr th:only-of-type {\n        vertical-align: middle;\n    }\n\n    .dataframe tbody tr th {\n        vertical-align: top;\n    }\n\n    .dataframe thead th {\n        text-align: right;\n    }\n</style>\n<table border=\"1\" class=\"dataframe\">\n  <thead>\n    <tr style=\"text-align: right;\">\n      <th></th>\n      <th>ssid_0</th>\n      <th>ssid_1</th>\n      <th>ssid_2</th>\n      <th>ssid_3</th>\n      <th>ssid_4</th>\n      <th>ssid_5</th>\n      <th>ssid_6</th>\n      <th>ssid_7</th>\n      <th>ssid_8</th>\n      <th>ssid_9</th>\n      <th>...</th>\n      <th>frequency_97</th>\n      <th>frequency_98</th>\n      <th>frequency_99</th>\n      <th>timestamp</th>\n      <th>x</th>\n      <th>y</th>\n      <th>floor</th>\n      <th>floor_str</th>\n      <th>path</th>\n      <th>site_id</th>\n    </tr>\n  </thead>\n  <tbody>\n    <tr>\n      <th>0</th>\n      <td>356d66c73c423be835bd5d07cb1ebdfa821d8e23</td>\n      <td>f44fa6118fed7198296c8b45b2f2684903d99620</td>\n      <td>c3513a636d1a813db081a2ffc33f297b4fefe28d</td>\n      <td>990847ae755de95a44c7b1be54e66f4e56fdc7f4</td>\n      <td>4e601619b7c7d9df8d61490ad2c134f08ea01d61</td>\n      <td>c3513a636d1a813db081a2ffc33f297b4fefe28d</td>\n      <td>5a368e0bd5050bdb4653dc39c86bee1fd2b8aeb7</td>\n      <td>b14c56d7cd73a5b026fc118c671e24dc2ba2558b</td>\n      <td>d839a45ebe64ab48b60a407d837fb01d3c0dfef9</td>\n      <td>7182afc4e5c212133d5d7d76eb3df6c24618302b</td>\n      <td>...</td>\n      <td>5785</td>\n      <td>5825</td>\n      <td>5220</td>\n      <td>1578466132778</td>\n      <td>114.33501</td>\n      <td>156.842240</td>\n      <td>-1.0</td>\n      <td>B1</td>\n      <td>5e1580d1f4c3420006d520e4</td>\n      <td>5a0546857ecc773753327266</td>\n    </tr>\n    <tr>\n      <th>1</th>\n      <td>356d66c73c423be835bd5d07cb1ebdfa821d8e23</td>\n      <td>f44fa6118fed7198296c8b45b2f2684903d99620</td>\n      <td>c3513a636d1a813db081a2ffc33f297b4fefe28d</td>\n      <td>990847ae755de95a44c7b1be54e66f4e56fdc7f4</td>\n      <td>d839a45ebe64ab48b60a407d837fb01d3c0dfef9</td>\n      <td>b7e6027447eb1f81327d66cfd3adbe557aabf26c</td>\n      <td>7182afc4e5c212133d5d7d76eb3df6c24618302b</td>\n      <td>da39a3ee5e6b4b0d3255bfef95601890afd80709</td>\n      <td>b9f0208be00bd8b337be7f12e02e3a3ce846e22b</td>\n      <td>b6ffe5619e02871fcd04f61c9bb4b5c53a3f46b7</td>\n      <td>...</td>\n      <td>5825</td>\n      <td>5825</td>\n      <td>5825</td>\n      <td>1578466132778</td>\n      <td>114.33501</td>\n      <td>156.842240</td>\n      <td>-1.0</td>\n      <td>B1</td>\n      <td>5e1580d1f4c3420006d520e4</td>\n      <td>5a0546857ecc773753327266</td>\n    </tr>\n    <tr>\n      <th>2</th>\n      <td>f44fa6118fed7198296c8b45b2f2684903d99620</td>\n      <td>356d66c73c423be835bd5d07cb1ebdfa821d8e23</td>\n      <td>8aed75f7c344e6a3d4916750029dd4ee47c1e7c5</td>\n      <td>c3513a636d1a813db081a2ffc33f297b4fefe28d</td>\n      <td>5a368e0bd5050bdb4653dc39c86bee1fd2b8aeb7</td>\n      <td>4e601619b7c7d9df8d61490ad2c134f08ea01d61</td>\n      <td>2ce029b3a3dea973a44bf0587be5e2b93a74e5f1</td>\n      <td>b14c56d7cd73a5b026fc118c671e24dc2ba2558b</td>\n      <td>3fa90121039c7b6e24ae985d228e0366ae15fba4</td>\n      <td>3745dc080c9396d2317f4c05d7141c1df83acf9d</td>\n      <td>...</td>\n      <td>2462</td>\n      <td>5745</td>\n      <td>2462</td>\n      <td>1578466132778</td>\n      <td>114.33501</td>\n      <td>156.842240</td>\n      <td>-1.0</td>\n      <td>B1</td>\n      <td>5e1580d1f4c3420006d520e4</td>\n      <td>5a0546857ecc773753327266</td>\n    </tr>\n    <tr>\n      <th>3</th>\n      <td>356d66c73c423be835bd5d07cb1ebdfa821d8e23</td>\n      <td>f44fa6118fed7198296c8b45b2f2684903d99620</td>\n      <td>5a368e0bd5050bdb4653dc39c86bee1fd2b8aeb7</td>\n      <td>990847ae755de95a44c7b1be54e66f4e56fdc7f4</td>\n      <td>da39a3ee5e6b4b0d3255bfef95601890afd80709</td>\n      <td>b6ffe5619e02871fcd04f61c9bb4b5c53a3f46b7</td>\n      <td>b7e6027447eb1f81327d66cfd3adbe557aabf26c</td>\n      <td>3fa90121039c7b6e24ae985d228e0366ae15fba4</td>\n      <td>d839a45ebe64ab48b60a407d837fb01d3c0dfef9</td>\n      <td>d839a45ebe64ab48b60a407d837fb01d3c0dfef9</td>\n      <td>...</td>\n      <td>5745</td>\n      <td>5745</td>\n      <td>5745</td>\n      <td>1578466132778</td>\n      <td>114.33501</td>\n      <td>156.842240</td>\n      <td>-1.0</td>\n      <td>B1</td>\n      <td>5e1580d1f4c3420006d520e4</td>\n      <td>5a0546857ecc773753327266</td>\n    </tr>\n    <tr>\n      <th>4</th>\n      <td>f44fa6118fed7198296c8b45b2f2684903d99620</td>\n      <td>356d66c73c423be835bd5d07cb1ebdfa821d8e23</td>\n      <td>990847ae755de95a44c7b1be54e66f4e56fdc7f4</td>\n      <td>c3513a636d1a813db081a2ffc33f297b4fefe28d</td>\n      <td>d839a45ebe64ab48b60a407d837fb01d3c0dfef9</td>\n      <td>b7e6027447eb1f81327d66cfd3adbe557aabf26c</td>\n      <td>7182afc4e5c212133d5d7d76eb3df6c24618302b</td>\n      <td>b9f0208be00bd8b337be7f12e02e3a3ce846e22b</td>\n      <td>b6ffe5619e02871fcd04f61c9bb4b5c53a3f46b7</td>\n      <td>8aed75f7c344e6a3d4916750029dd4ee47c1e7c5</td>\n      <td>...</td>\n      <td>2462</td>\n      <td>2462</td>\n      <td>5240</td>\n      <td>1578466149574</td>\n      <td>106.65901</td>\n      <td>154.629520</td>\n      <td>-1.0</td>\n      <td>B1</td>\n      <td>5e1580d1f4c3420006d520e4</td>\n      <td>5a0546857ecc773753327266</td>\n    </tr>\n    <tr>\n      <th>...</th>\n      <td>...</td>\n      <td>...</td>\n      <td>...</td>\n      <td>...</td>\n      <td>...</td>\n      <td>...</td>\n      <td>...</td>\n      <td>...</td>\n      <td>...</td>\n      <td>...</td>\n      <td>...</td>\n      <td>...</td>\n      <td>...</td>\n      <td>...</td>\n      <td>...</td>\n      <td>...</td>\n      <td>...</td>\n      <td>...</td>\n      <td>...</td>\n      <td>...</td>\n      <td>...</td>\n    </tr>\n    <tr>\n      <th>255883</th>\n      <td>18336f0964fbd470a2ee7116d33b96946c633999</td>\n      <td>072159287058774aa9b450c9163129b309bc982b</td>\n      <td>18336f0964fbd470a2ee7116d33b96946c633999</td>\n      <td>1a04593c547b59266cbf0e599f87cda4f67c5ad4</td>\n      <td>040667e2fdd3a9bbb54e970c430ad6f08416c52e</td>\n      <td>da39a3ee5e6b4b0d3255bfef95601890afd80709</td>\n      <td>072159287058774aa9b450c9163129b309bc982b</td>\n      <td>da39a3ee5e6b4b0d3255bfef95601890afd80709</td>\n      <td>da39a3ee5e6b4b0d3255bfef95601890afd80709</td>\n      <td>da39a3ee5e6b4b0d3255bfef95601890afd80709</td>\n      <td>...</td>\n      <td>0</td>\n      <td>0</td>\n      <td>0</td>\n      <td>1573892863738</td>\n      <td>126.63109</td>\n      <td>107.011640</td>\n      <td>6.0</td>\n      <td>F7</td>\n      <td>5dcfb393878f3300066c70a6</td>\n      <td>5dc8cea7659e181adb076a3f</td>\n    </tr>\n    <tr>\n      <th>255884</th>\n      <td>18336f0964fbd470a2ee7116d33b96946c633999</td>\n      <td>18336f0964fbd470a2ee7116d33b96946c633999</td>\n      <td>072159287058774aa9b450c9163129b309bc982b</td>\n      <td>072159287058774aa9b450c9163129b309bc982b</td>\n      <td>ea9e102c49dbc834b1059c5e8b5dc4a017a82dff</td>\n      <td>040667e2fdd3a9bbb54e970c430ad6f08416c52e</td>\n      <td>da39a3ee5e6b4b0d3255bfef95601890afd80709</td>\n      <td>da39a3ee5e6b4b0d3255bfef95601890afd80709</td>\n      <td>da39a3ee5e6b4b0d3255bfef95601890afd80709</td>\n      <td>ea9e102c49dbc834b1059c5e8b5dc4a017a82dff</td>\n      <td>...</td>\n      <td>0</td>\n      <td>0</td>\n      <td>0</td>\n      <td>1573892868972</td>\n      <td>131.79286</td>\n      <td>111.526085</td>\n      <td>6.0</td>\n      <td>F7</td>\n      <td>5dcfb393878f3300066c70a6</td>\n      <td>5dc8cea7659e181adb076a3f</td>\n    </tr>\n    <tr>\n      <th>255885</th>\n      <td>18336f0964fbd470a2ee7116d33b96946c633999</td>\n      <td>18336f0964fbd470a2ee7116d33b96946c633999</td>\n      <td>072159287058774aa9b450c9163129b309bc982b</td>\n      <td>ea9e102c49dbc834b1059c5e8b5dc4a017a82dff</td>\n      <td>072159287058774aa9b450c9163129b309bc982b</td>\n      <td>040667e2fdd3a9bbb54e970c430ad6f08416c52e</td>\n      <td>1f09251bbfadafb11c63c87963af25238d6bc886</td>\n      <td>da39a3ee5e6b4b0d3255bfef95601890afd80709</td>\n      <td>da39a3ee5e6b4b0d3255bfef95601890afd80709</td>\n      <td>da39a3ee5e6b4b0d3255bfef95601890afd80709</td>\n      <td>...</td>\n      <td>0</td>\n      <td>0</td>\n      <td>0</td>\n      <td>1573892868972</td>\n      <td>131.79286</td>\n      <td>111.526085</td>\n      <td>6.0</td>\n      <td>F7</td>\n      <td>5dcfb393878f3300066c70a6</td>\n      <td>5dc8cea7659e181adb076a3f</td>\n    </tr>\n    <tr>\n      <th>255886</th>\n      <td>18336f0964fbd470a2ee7116d33b96946c633999</td>\n      <td>18336f0964fbd470a2ee7116d33b96946c633999</td>\n      <td>072159287058774aa9b450c9163129b309bc982b</td>\n      <td>040667e2fdd3a9bbb54e970c430ad6f08416c52e</td>\n      <td>da39a3ee5e6b4b0d3255bfef95601890afd80709</td>\n      <td>072159287058774aa9b450c9163129b309bc982b</td>\n      <td>90ef6526fa145d95dc065edc3b3a3193406f3ee4</td>\n      <td>ea9e102c49dbc834b1059c5e8b5dc4a017a82dff</td>\n      <td>1f09251bbfadafb11c63c87963af25238d6bc886</td>\n      <td>da39a3ee5e6b4b0d3255bfef95601890afd80709</td>\n      <td>...</td>\n      <td>0</td>\n      <td>0</td>\n      <td>0</td>\n      <td>1573892874306</td>\n      <td>136.65004</td>\n      <td>116.407990</td>\n      <td>6.0</td>\n      <td>F7</td>\n      <td>5dcfb393878f3300066c70a6</td>\n      <td>5dc8cea7659e181adb076a3f</td>\n    </tr>\n    <tr>\n      <th>255887</th>\n      <td>18336f0964fbd470a2ee7116d33b96946c633999</td>\n      <td>90ef6526fa145d95dc065edc3b3a3193406f3ee4</td>\n      <td>040667e2fdd3a9bbb54e970c430ad6f08416c52e</td>\n      <td>18336f0964fbd470a2ee7116d33b96946c633999</td>\n      <td>da39a3ee5e6b4b0d3255bfef95601890afd80709</td>\n      <td>072159287058774aa9b450c9163129b309bc982b</td>\n      <td>ea9e102c49dbc834b1059c5e8b5dc4a017a82dff</td>\n      <td>072159287058774aa9b450c9163129b309bc982b</td>\n      <td>1f09251bbfadafb11c63c87963af25238d6bc886</td>\n      <td>da39a3ee5e6b4b0d3255bfef95601890afd80709</td>\n      <td>...</td>\n      <td>0</td>\n      <td>0</td>\n      <td>0</td>\n      <td>1573892874306</td>\n      <td>136.65004</td>\n      <td>116.407990</td>\n      <td>6.0</td>\n      <td>F7</td>\n      <td>5dcfb393878f3300066c70a6</td>\n      <td>5dc8cea7659e181adb076a3f</td>\n    </tr>\n  </tbody>\n</table>\n<p>255888 rows × 407 columns</p>\n</div>"
     },
     "metadata": {},
     "execution_count": 7
    }
   ],
   "source": [
    "train_df"
   ]
  },
  {
   "cell_type": "code",
   "execution_count": 8,
   "metadata": {},
   "outputs": [],
   "source": [
    "# training target features\n",
    "NUM_FEATS = 80\n",
    "BSSID_FEATS = [f'bssid_{i}' for i in range(NUM_FEATS)]\n",
    "RSSI_FEATS  = [f'rssi_{i}' for i in range(NUM_FEATS)]"
   ]
  },
  {
   "cell_type": "markdown",
   "metadata": {},
   "source": [
    "bssid_NはN個目のBSSIDを示しておりRSSI値が大きい順に番号が振られている。\n",
    "100個しかない"
   ]
  },
  {
   "cell_type": "code",
   "execution_count": 9,
   "metadata": {},
   "outputs": [
    {
     "output_type": "stream",
     "name": "stdout",
     "text": [
      "BSSID TYPES(train): 61350\nBSSID TYPES(test): 30658\nBSSID TYPES(all): 61414\n"
     ]
    }
   ],
   "source": [
    "# get numbers of bssids to embed them in a layer\n",
    "\n",
    "# train\n",
    "wifi_bssids = []\n",
    "# bssidを列ごとにリストに入れていく\n",
    "for i in range(100, 200):\n",
    "    wifi_bssids.extend(train_df.iloc[:,i].values.tolist())\n",
    "wifi_bssids = list(set(wifi_bssids))\n",
    "\n",
    "train_wifi_bssids_size = len(wifi_bssids)\n",
    "print(f'BSSID TYPES(train): {train_wifi_bssids_size}')\n",
    "\n",
    "# test\n",
    "wifi_bssids_test = []\n",
    "for i in range(100, 200):\n",
    "    wifi_bssids_test.extend(test_df.iloc[:,i].values.tolist())\n",
    "wifi_bssids_test = list(set(wifi_bssids_test))\n",
    "\n",
    "test_wifi_bssids_size = len(wifi_bssids_test)\n",
    "print(f'BSSID TYPES(test): {test_wifi_bssids_size}')\n",
    "\n",
    "\n",
    "wifi_bssids.extend(wifi_bssids_test)\n",
    "wifi_bssids = list(set(wifi_bssids))\n",
    "wifi_bssids_size = len(wifi_bssids)\n",
    "print(f'BSSID TYPES(all): {wifi_bssids_size}')\n"
   ]
  },
  {
   "cell_type": "code",
   "execution_count": 10,
   "metadata": {},
   "outputs": [
    {
     "output_type": "stream",
     "name": "stdout",
     "text": [
      "RSSI TYPES(train): 98\nRSSI TYPES(test): 77\nRSSI TYPES(all): 175\n"
     ]
    }
   ],
   "source": [
    "# get numbers of bssids to embed them in a layer\n",
    "\n",
    "# train\n",
    "rssi_bssids = []\n",
    "# bssidを列ごとにリストに入れていく\n",
    "for i in RSSI_FEATS:\n",
    "    rssi_bssids.extend(train_df.loc[:,i].values.tolist())\n",
    "rssi_bssids = list(set(rssi_bssids))\n",
    "\n",
    "train_rssi_bssids_size = len(rssi_bssids)\n",
    "print(f'RSSI TYPES(train): {train_rssi_bssids_size}')\n",
    "\n",
    "# test\n",
    "rssi_bssids_test = []\n",
    "for i in RSSI_FEATS:\n",
    "    rssi_bssids_test.extend(test_df.loc[:,i].values.tolist())\n",
    "rssi_bssids_test = list(set(rssi_bssids_test))\n",
    "\n",
    "test_rssi_bssids_size = len(rssi_bssids_test)\n",
    "print(f'RSSI TYPES(test): {test_rssi_bssids_size}')\n",
    "\n",
    "\n",
    "rssi_bssids.extend(rssi_bssids_test)\n",
    "rssi_bssids_size = len(rssi_bssids)\n",
    "print(f'RSSI TYPES(all): {rssi_bssids_size}')"
   ]
  },
  {
   "cell_type": "markdown",
   "metadata": {},
   "source": [
    "## preprocessing"
   ]
  },
  {
   "cell_type": "code",
   "execution_count": 11,
   "metadata": {},
   "outputs": [],
   "source": [
    "# preprocess\n",
    "\n",
    "le = LabelEncoder()\n",
    "le.fit(wifi_bssids)\n",
    "le_site = LabelEncoder()\n",
    "le_site.fit(train_df['site_id'])\n",
    "le_rssi = LabelEncoder()\n",
    "le_rssi.fit(rssi_bssids)\n",
    "\n",
    "ss = StandardScaler()\n",
    "ss.fit(train_df.loc[:,RSSI_FEATS])\n",
    "\n",
    "\n",
    "def preprocess(input_df, le=le, le_site=le_site, ss=ss):\n",
    "    output_df = input_df.copy()\n",
    "    # RSSIの正規化\n",
    "    output_df.loc[:,RSSI_FEATS] = ss.transform(input_df.loc[:,RSSI_FEATS])\n",
    "\n",
    "    # BSSIDのLE(1からふる)\n",
    "    for i in BSSID_FEATS:\n",
    "        output_df.loc[:,i] = le.transform(input_df.loc[:,i])\n",
    "        # output_df.loc[:,i] = output_df.loc[:,i] + 1  # 0からではなく1から番号を振りたいため なぜ？ embeddingのpadding用のダミー変数？\n",
    "    for i in RSSI_FEATS:\n",
    "        output_df.loc[:,i] = le_rssi.transform(input_df.loc[:,i])\n",
    "\n",
    "    # site_idのLE\n",
    "    output_df['site_id_str'] = input_df['site_id'].copy()\n",
    "    output_df.loc[:, 'site_id'] = le_site.transform(input_df.loc[:, 'site_id'])\n",
    "\n",
    "    # なぜ２重でやる？\n",
    "    # output_df.loc[:,RSSI_FEATS] = ss.transform(output_df.loc[:,RSSI_FEATS])\n",
    "    return output_df\n",
    "\n",
    "train = preprocess(train_df)\n",
    "test = preprocess(test_df)"
   ]
  },
  {
   "cell_type": "code",
   "execution_count": 12,
   "metadata": {},
   "outputs": [
    {
     "output_type": "execute_result",
     "data": {
      "text/plain": [
       "24"
      ]
     },
     "metadata": {},
     "execution_count": 12
    }
   ],
   "source": [
    "site_count = len(train['site_id'].unique())\n",
    "site_count"
   ]
  },
  {
   "cell_type": "markdown",
   "metadata": {},
   "source": [
    "## PyTorch model\n",
    "- embedding layerが重要  "
   ]
  },
  {
   "cell_type": "code",
   "execution_count": 13,
   "metadata": {},
   "outputs": [],
   "source": [
    "# dataset\n",
    "from torch.utils.data import Dataset, DataLoader\n",
    "class IndoorDataset(Dataset):\n",
    "    def __init__(self, df, phase='train'):\n",
    "        self.df = df\n",
    "        self.phase = phase\n",
    "        self.bssid_feats = df[BSSID_FEATS].values.astype(int)\n",
    "        self.rssi_feats = df[RSSI_FEATS].values.astype(np.float32)\n",
    "        self.site_id = df['site_id'].values.astype(int)\n",
    "\n",
    "        if phase in ['train', 'valid']:\n",
    "            self.xy = df[['x', 'y']].values.astype(np.float32)\n",
    "            self.floor = df['floor'].values.astype(np.float32)\n",
    "        \n",
    "    def __len__(self):\n",
    "        return self.df.shape[0]\n",
    "\n",
    "    def __getitem__(self, idx):\n",
    "    \n",
    "        concat_feat = np.empty(2 * NUM_FEATS).astype(int)\n",
    "        concat_feat[0::2] = self.bssid_feats[idx]\n",
    "        concat_feat[1::2] = self.rssi_feats[idx]\n",
    "        \n",
    "        feature = {\n",
    "            'RSSI_BSSID_FEATS':concat_feat,\n",
    "            'site_id':self.site_id[idx]\n",
    "        }\n",
    "        if self.phase in ['train', 'valid']:\n",
    "            target = {\n",
    "                'xy':self.xy[idx],\n",
    "                'floor':self.floor[idx]\n",
    "            }\n",
    "        else:\n",
    "            target = {}\n",
    "        return feature, target"
   ]
  },
  {
   "cell_type": "code",
   "execution_count": 14,
   "metadata": {},
   "outputs": [],
   "source": [
    "import torch\n",
    "from torch import nn\n",
    "\n",
    "class LSTMModel(nn.Module):\n",
    "    def __init__(self, wifi_bssids_size, site_count=24, embedding_dim=64):\n",
    "        super(LSTMModel, self).__init__()\n",
    "        # bssid\n",
    "        # ->64次元に圧縮後sequence化にする\n",
    "        # wifi_bssids_sizeが辞書の数を表す\n",
    "        self.embedding_layer1 = nn.Sequential(\n",
    "            nn.Embedding(wifi_bssids_size, embedding_dim),\n",
    "            nn.Flatten(start_dim=-2)            \n",
    "        )\n",
    "        # site\n",
    "        # ->2次元に圧縮後sequence化する\n",
    "        # site_countが辞書の数を表す\n",
    "        self.embedding_layer2 = nn.Sequential(\n",
    "            nn.Embedding(site_count, 64),\n",
    "            nn.Flatten(start_dim=-1)           \n",
    "        )\n",
    "\n",
    "        # bssid, site, rssiの出力size\n",
    "        # feature_size = 2 + (2 * NUM_FEATS * embedding_dim)\n",
    "        feature_size = 64 + (2 * NUM_FEATS * 64)\n",
    "        self.linear_layer2 = nn.Sequential(\n",
    "            nn.BatchNorm1d(feature_size),\n",
    "            nn.Dropout(0.3),\n",
    "            nn.Linear(feature_size, 256),\n",
    "            nn.ReLU()\n",
    "        )\n",
    "\n",
    "        self.batch_norm1 = nn.BatchNorm1d(1)\n",
    "        self.lstm1 = nn.LSTM(input_size=256,hidden_size=128,dropout=0.3, batch_first=True)\n",
    "        self.lstm2 = nn.LSTM(input_size=128,hidden_size=16,dropout=0.1, batch_first=True)\n",
    "\n",
    "        self.fc_xy = nn.Linear(16, 2)\n",
    "        self.fc_floor = nn.Linear(16, 1)\n",
    "\n",
    "    \n",
    "    def forward(self, x):\n",
    "        # input embedding\n",
    "        batch_size = x[\"site_id\"].shape[0]\n",
    "        x_rssi_bssid = self.embedding_layer1(x['RSSI_BSSID_FEATS'])\n",
    "        x_site_id = self.embedding_layer2(x['site_id'])\n",
    "        # x_rssi = self.linear_layer1(x['RSSI_FEATS'])\n",
    "        x = torch.cat([x_rssi_bssid, x_site_id], dim=-1)\n",
    "        x = self.linear_layer2(x)\n",
    "\n",
    "        # lstm layer\n",
    "        x = x.view(batch_size, 1, -1)  # [batch, 1]->[batch, 1, 1]\n",
    "        x = self.batch_norm1(x)\n",
    "        x, _ = self.lstm1(x)\n",
    "        x = torch.relu(x)\n",
    "        x, _ = self.lstm2(x)\n",
    "        x = torch.relu(x)\n",
    "\n",
    "        # output [batch, 1, 1] -> [batch]\n",
    "        xy = self.fc_xy(x).squeeze(1)\n",
    "        floor = torch.relu(self.fc_floor(x)).view(-1)\n",
    "        return {\"xy\": xy, \"floor\": floor}"
   ]
  },
  {
   "cell_type": "code",
   "execution_count": 15,
   "metadata": {},
   "outputs": [],
   "source": [
    "def mean_position_error(xhat, yhat, fhat, x, y, f):\n",
    "    intermediate = np.sqrt(np.power(xhat-x, 2) + np.power(yhat-y, 2)) + 15 * np.abs(fhat-f)\n",
    "    return intermediate.sum()/xhat.shape[0]\n",
    "\n",
    "def to_np(input):\n",
    "    return input.detach().cpu().numpy()"
   ]
  },
  {
   "cell_type": "code",
   "execution_count": 16,
   "metadata": {},
   "outputs": [],
   "source": [
    "def get_optimizer(model: nn.Module, config: dict):\n",
    "    optimizer_config = config[\"optimizer\"]\n",
    "    optimizer_name = optimizer_config.get(\"name\")\n",
    "    base_optimizer_name = optimizer_config.get(\"base_name\")\n",
    "    optimizer_params = optimizer_config['params']\n",
    "\n",
    "    if hasattr(optim, optimizer_name):\n",
    "        optimizer = optim.__getattribute__(optimizer_name)(model.parameters(), **optimizer_params)\n",
    "        return optimizer\n",
    "    else:\n",
    "        base_optimizer = optim.__getattribute__(base_optimizer_name)\n",
    "        optimizer = globals().get(optimizer_name)(\n",
    "            model.parameters(), \n",
    "            base_optimizer,\n",
    "            **optimizer_config[\"params\"])\n",
    "        return  optimizer\n",
    "\n",
    "def get_scheduler(optimizer, config: dict):\n",
    "    scheduler_config = config[\"scheduler\"]\n",
    "    scheduler_name = scheduler_config.get(\"name\")\n",
    "\n",
    "    if scheduler_name is None:\n",
    "        return\n",
    "    else:\n",
    "        return optim.lr_scheduler.__getattribute__(scheduler_name)(\n",
    "            optimizer, **scheduler_config[\"params\"])\n",
    "\n",
    "\n",
    "def get_criterion(config: dict):\n",
    "    loss_config = config[\"loss\"]\n",
    "    loss_name = loss_config[\"name\"]\n",
    "    loss_params = {} if loss_config.get(\"params\") is None else loss_config.get(\"params\")\n",
    "    if hasattr(nn, loss_name):\n",
    "        criterion = nn.__getattribute__(loss_name)(**loss_params)\n",
    "    else:\n",
    "        criterion = globals().get(loss_name)(**loss_params)\n",
    "\n",
    "    return criterion\n",
    "\n",
    "def worker_init_fn(worker_id):                                                          \n",
    "    np.random.seed(np.random.get_state()[1][0] + worker_id)"
   ]
  },
  {
   "cell_type": "code",
   "execution_count": 17,
   "metadata": {},
   "outputs": [],
   "source": [
    "# Learner class(pytorch-lighting)\n",
    "class Learner(pl.LightningModule):\n",
    "    def __init__(self, model, config):\n",
    "        super().__init__()\n",
    "        self.model = model\n",
    "        self.config = config\n",
    "        self.xy_criterion = get_criterion(config)\n",
    "        self.f_criterion = get_criterion(config)\n",
    "    \n",
    "    def training_step(self, batch, batch_idx):\n",
    "        x, y = batch\n",
    "        output = self.model(x)\n",
    "        loss = self.xy_criterion(output[\"xy\"], y[\"xy\"])\n",
    "        return loss\n",
    "    \n",
    "    def validation_step(self, batch, batch_idx):\n",
    "        x, y = batch\n",
    "        output = self.model(x)\n",
    "        xy_loss = self.xy_criterion(output[\"xy\"], y[\"xy\"])\n",
    "        f_loss = self.f_criterion(output[\"floor\"], y[\"floor\"])\n",
    "        loss = xy_loss  # + f_loss\n",
    "        mpe = mean_position_error(\n",
    "            to_np(output['xy'][:, 0]), to_np(output['xy'][:, 1]), 0, \n",
    "            to_np(y['xy'][:, 0]), to_np(y['xy'][:, 1]), 0)\n",
    "        \n",
    "        # floor lossは現状は無視して良い\n",
    "        self.log(f'Loss/val', loss, on_step=False, on_epoch=True, prog_bar=False, logger=True)\n",
    "        self.log(f'Loss/xy', xy_loss, on_step=False, on_epoch=True, prog_bar=False, logger=True)\n",
    "        self.log(f'Loss/floor', f_loss, on_step=False, on_epoch=True, prog_bar=False, logger=True)\n",
    "        self.log(f'MPE/val', mpe, on_step=False, on_epoch=True, prog_bar=False, logger=True)\n",
    "        return loss\n",
    "\n",
    "    def configure_optimizers(self):\n",
    "        optimizer = get_optimizer(self.model, self.config)\n",
    "        scheduler = get_scheduler(optimizer, self.config)\n",
    "        return {\"optimizer\": optimizer, \"lr_scheduler\": scheduler, \"monitor\": \"Loss/val\"}"
   ]
  },
  {
   "cell_type": "code",
   "execution_count": 18,
   "metadata": {},
   "outputs": [],
   "source": [
    "# oof\n",
    "def evaluate(model, loaders, phase):\n",
    "    x_list = []\n",
    "    y_list = []\n",
    "    f_list = []\n",
    "    with torch.no_grad():\n",
    "        for batch in loaders[phase]:\n",
    "            x, y = batch\n",
    "            output = model(x)\n",
    "            x_list.append(to_np(output['xy'][:, 0]))\n",
    "            y_list.append(to_np(output['xy'][:, 1]))\n",
    "            f_list.append(to_np(output['floor']))\n",
    "\n",
    "    x_list = np.concatenate(x_list)\n",
    "    y_list = np.concatenate(y_list)\n",
    "    f_list = np.concatenate(f_list)\n",
    "    return x_list, y_list, f_list"
   ]
  },
  {
   "cell_type": "markdown",
   "metadata": {},
   "source": [
    "## train"
   ]
  },
  {
   "cell_type": "code",
   "execution_count": 20,
   "metadata": {
    "tags": []
   },
   "outputs": [
    {
     "output_type": "stream",
     "name": "stdout",
     "text": [
      "====================\n",
      "Fold 0\n",
      "====================\n",
      "/usr/local/lib/python3.8/dist-packages/torch/nn/modules/rnn.py:58: UserWarning: dropout option adds dropout after all but last recurrent layer, so non-zero dropout expects num_layers greater than 1, but got dropout=0.3 and num_layers=1\n",
      "  warnings.warn(\"dropout option adds dropout after all but last \"\n",
      "/usr/local/lib/python3.8/dist-packages/torch/nn/modules/rnn.py:58: UserWarning: dropout option adds dropout after all but last recurrent layer, so non-zero dropout expects num_layers greater than 1, but got dropout=0.1 and num_layers=1\n",
      "  warnings.warn(\"dropout option adds dropout after all but last \"\n"
     ]
    },
    {
     "output_type": "display_data",
     "data": {
      "text/plain": "<IPython.core.display.HTML object>",
      "text/html": "Finishing last run (ID:2gjpht8o) before initializing another..."
     },
     "metadata": {}
    },
    {
     "output_type": "display_data",
     "data": {
      "text/plain": "<IPython.core.display.HTML object>",
      "text/html": "<br/>Waiting for W&B process to finish, PID 5544<br/>Program ended successfully."
     },
     "metadata": {}
    },
    {
     "output_type": "display_data",
     "data": {
      "text/plain": "VBox(children=(Label(value=' 0.00MB of 0.00MB uploaded (0.00MB deduped)\\r'), FloatProgress(value=1.0, max=1.0)…",
      "application/vnd.jupyter.widget-view+json": {
       "version_major": 2,
       "version_minor": 0,
       "model_id": "bc637346900249be9ef8ea635b944439"
      }
     },
     "metadata": {}
    },
    {
     "output_type": "display_data",
     "data": {
      "text/plain": "<IPython.core.display.HTML object>",
      "text/html": "Find user logs for this run at: <code>/home/user/work/exp/exp016/wandb/run-20210423_180126-2gjpht8o/logs/debug.log</code>"
     },
     "metadata": {}
    },
    {
     "output_type": "display_data",
     "data": {
      "text/plain": "<IPython.core.display.HTML object>",
      "text/html": "Find internal logs for this run at: <code>/home/user/work/exp/exp016/wandb/run-20210423_180126-2gjpht8o/logs/debug-internal.log</code>"
     },
     "metadata": {}
    },
    {
     "output_type": "display_data",
     "data": {
      "text/plain": "<IPython.core.display.HTML object>",
      "text/html": "Synced 5 W&B file(s), 0 media file(s), 0 artifact file(s) and 0 other file(s)"
     },
     "metadata": {}
    },
    {
     "output_type": "display_data",
     "data": {
      "text/plain": "<IPython.core.display.HTML object>",
      "text/html": "\n                    <br/>Synced <strong style=\"color:#cdcd00\">generous-deluge-378</strong>: <a href=\"https://wandb.ai/kuto5046/indoor/runs/2gjpht8o\" target=\"_blank\">https://wandb.ai/kuto5046/indoor/runs/2gjpht8o</a><br/>\n                "
     },
     "metadata": {}
    },
    {
     "output_type": "display_data",
     "data": {
      "text/plain": "<IPython.core.display.HTML object>",
      "text/html": "...Successfully finished last run (ID:2gjpht8o). Initializing new run:<br/><br/>"
     },
     "metadata": {}
    },
    {
     "output_type": "stream",
     "name": "stderr",
     "text": [
      "\u001b[34m\u001b[1mwandb\u001b[0m: wandb version 0.10.27 is available!  To upgrade, please run:\n\u001b[34m\u001b[1mwandb\u001b[0m:  $ pip install wandb --upgrade\n"
     ]
    },
    {
     "output_type": "display_data",
     "data": {
      "text/plain": "<IPython.core.display.HTML object>",
      "text/html": "\n                Tracking run with wandb version 0.10.22<br/>\n                Syncing run <strong style=\"color:#cdcd00\">splendid-deluge-379</strong> to <a href=\"https://wandb.ai\" target=\"_blank\">Weights & Biases</a> <a href=\"https://docs.wandb.com/integrations/jupyter.html\" target=\"_blank\">(Documentation)</a>.<br/>\n                Project page: <a href=\"https://wandb.ai/kuto5046/indoor\" target=\"_blank\">https://wandb.ai/kuto5046/indoor</a><br/>\n                Run page: <a href=\"https://wandb.ai/kuto5046/indoor/runs/zuaxwhlj\" target=\"_blank\">https://wandb.ai/kuto5046/indoor/runs/zuaxwhlj</a><br/>\n                Run data is saved locally in <code>/home/user/work/exp/exp016/wandb/run-20210423_180403-zuaxwhlj</code><br/><br/>\n            "
     },
     "metadata": {}
    },
    {
     "output_type": "stream",
     "name": "stdout",
     "text": [
      "fold 0: mean position error 7.437144006474731\n"
     ]
    },
    {
     "output_type": "display_data",
     "data": {
      "text/plain": "<IPython.core.display.HTML object>",
      "text/html": "<br/>Waiting for W&B process to finish, PID 7606<br/>Program ended successfully."
     },
     "metadata": {}
    },
    {
     "output_type": "display_data",
     "data": {
      "text/plain": "VBox(children=(Label(value=' 0.00MB of 0.00MB uploaded (0.00MB deduped)\\r'), FloatProgress(value=1.0, max=1.0)…",
      "application/vnd.jupyter.widget-view+json": {
       "version_major": 2,
       "version_minor": 0,
       "model_id": "55b09e09d35e4c83899697ea6d37833e"
      }
     },
     "metadata": {}
    },
    {
     "output_type": "display_data",
     "data": {
      "text/plain": "<IPython.core.display.HTML object>",
      "text/html": "Find user logs for this run at: <code>/home/user/work/exp/exp016/wandb/run-20210423_180403-zuaxwhlj/logs/debug.log</code>"
     },
     "metadata": {}
    },
    {
     "output_type": "display_data",
     "data": {
      "text/plain": "<IPython.core.display.HTML object>",
      "text/html": "Find internal logs for this run at: <code>/home/user/work/exp/exp016/wandb/run-20210423_180403-zuaxwhlj/logs/debug-internal.log</code>"
     },
     "metadata": {}
    },
    {
     "output_type": "display_data",
     "data": {
      "text/plain": "<IPython.core.display.HTML object>",
      "text/html": "Synced 5 W&B file(s), 0 media file(s), 0 artifact file(s) and 0 other file(s)"
     },
     "metadata": {}
    },
    {
     "output_type": "display_data",
     "data": {
      "text/plain": "<IPython.core.display.HTML object>",
      "text/html": "\n                    <br/>Synced <strong style=\"color:#cdcd00\">splendid-deluge-379</strong>: <a href=\"https://wandb.ai/kuto5046/indoor/runs/zuaxwhlj\" target=\"_blank\">https://wandb.ai/kuto5046/indoor/runs/zuaxwhlj</a><br/>\n                "
     },
     "metadata": {}
    },
    {
     "output_type": "stream",
     "name": "stdout",
     "text": [
      "====================\n",
      "Fold 1\n",
      "====================\n",
      "\u001b[34m\u001b[1mwandb\u001b[0m: wandb version 0.10.27 is available!  To upgrade, please run:\n",
      "\u001b[34m\u001b[1mwandb\u001b[0m:  $ pip install wandb --upgrade\n"
     ]
    },
    {
     "output_type": "display_data",
     "data": {
      "text/plain": "<IPython.core.display.HTML object>",
      "text/html": "\n                Tracking run with wandb version 0.10.22<br/>\n                Syncing run <strong style=\"color:#cdcd00\">laced-dawn-380</strong> to <a href=\"https://wandb.ai\" target=\"_blank\">Weights & Biases</a> <a href=\"https://docs.wandb.com/integrations/jupyter.html\" target=\"_blank\">(Documentation)</a>.<br/>\n                Project page: <a href=\"https://wandb.ai/kuto5046/indoor\" target=\"_blank\">https://wandb.ai/kuto5046/indoor</a><br/>\n                Run page: <a href=\"https://wandb.ai/kuto5046/indoor/runs/3nd6hj47\" target=\"_blank\">https://wandb.ai/kuto5046/indoor/runs/3nd6hj47</a><br/>\n                Run data is saved locally in <code>/home/user/work/exp/exp016/wandb/run-20210423_180416-3nd6hj47</code><br/><br/>\n            "
     },
     "metadata": {}
    },
    {
     "output_type": "stream",
     "name": "stdout",
     "text": [
      "fold 1: mean position error 7.669953990136715\n"
     ]
    },
    {
     "output_type": "display_data",
     "data": {
      "text/plain": "<IPython.core.display.HTML object>",
      "text/html": "<br/>Waiting for W&B process to finish, PID 8146<br/>Program ended successfully."
     },
     "metadata": {}
    },
    {
     "output_type": "display_data",
     "data": {
      "text/plain": "VBox(children=(Label(value=' 0.00MB of 0.00MB uploaded (0.00MB deduped)\\r'), FloatProgress(value=1.0, max=1.0)…",
      "application/vnd.jupyter.widget-view+json": {
       "version_major": 2,
       "version_minor": 0,
       "model_id": "c64f91facdb940c7a93aee5ec6233997"
      }
     },
     "metadata": {}
    },
    {
     "output_type": "display_data",
     "data": {
      "text/plain": "<IPython.core.display.HTML object>",
      "text/html": "Find user logs for this run at: <code>/home/user/work/exp/exp016/wandb/run-20210423_180416-3nd6hj47/logs/debug.log</code>"
     },
     "metadata": {}
    },
    {
     "output_type": "display_data",
     "data": {
      "text/plain": "<IPython.core.display.HTML object>",
      "text/html": "Find internal logs for this run at: <code>/home/user/work/exp/exp016/wandb/run-20210423_180416-3nd6hj47/logs/debug-internal.log</code>"
     },
     "metadata": {}
    },
    {
     "output_type": "display_data",
     "data": {
      "text/plain": "<IPython.core.display.HTML object>",
      "text/html": "Synced 5 W&B file(s), 0 media file(s), 0 artifact file(s) and 0 other file(s)"
     },
     "metadata": {}
    },
    {
     "output_type": "display_data",
     "data": {
      "text/plain": "<IPython.core.display.HTML object>",
      "text/html": "\n                    <br/>Synced <strong style=\"color:#cdcd00\">laced-dawn-380</strong>: <a href=\"https://wandb.ai/kuto5046/indoor/runs/3nd6hj47\" target=\"_blank\">https://wandb.ai/kuto5046/indoor/runs/3nd6hj47</a><br/>\n                "
     },
     "metadata": {}
    },
    {
     "output_type": "stream",
     "name": "stdout",
     "text": [
      "====================\n",
      "Fold 2\n",
      "====================\n",
      "\u001b[34m\u001b[1mwandb\u001b[0m: wandb version 0.10.27 is available!  To upgrade, please run:\n",
      "\u001b[34m\u001b[1mwandb\u001b[0m:  $ pip install wandb --upgrade\n"
     ]
    },
    {
     "output_type": "display_data",
     "data": {
      "text/plain": "<IPython.core.display.HTML object>",
      "text/html": "\n                Tracking run with wandb version 0.10.22<br/>\n                Syncing run <strong style=\"color:#cdcd00\">exalted-hill-381</strong> to <a href=\"https://wandb.ai\" target=\"_blank\">Weights & Biases</a> <a href=\"https://docs.wandb.com/integrations/jupyter.html\" target=\"_blank\">(Documentation)</a>.<br/>\n                Project page: <a href=\"https://wandb.ai/kuto5046/indoor\" target=\"_blank\">https://wandb.ai/kuto5046/indoor</a><br/>\n                Run page: <a href=\"https://wandb.ai/kuto5046/indoor/runs/x32g4v80\" target=\"_blank\">https://wandb.ai/kuto5046/indoor/runs/x32g4v80</a><br/>\n                Run data is saved locally in <code>/home/user/work/exp/exp016/wandb/run-20210423_180426-x32g4v80</code><br/><br/>\n            "
     },
     "metadata": {}
    },
    {
     "output_type": "stream",
     "name": "stdout",
     "text": [
      "fold 2: mean position error 7.576720311209302\n"
     ]
    },
    {
     "output_type": "display_data",
     "data": {
      "text/plain": "<IPython.core.display.HTML object>",
      "text/html": "<br/>Waiting for W&B process to finish, PID 8702<br/>Program ended successfully."
     },
     "metadata": {}
    },
    {
     "output_type": "display_data",
     "data": {
      "text/plain": "VBox(children=(Label(value=' 0.00MB of 0.00MB uploaded (0.00MB deduped)\\r'), FloatProgress(value=1.0, max=1.0)…",
      "application/vnd.jupyter.widget-view+json": {
       "version_major": 2,
       "version_minor": 0,
       "model_id": "510e203bc2664902aa8573629fa38ce4"
      }
     },
     "metadata": {}
    },
    {
     "output_type": "display_data",
     "data": {
      "text/plain": "<IPython.core.display.HTML object>",
      "text/html": "Find user logs for this run at: <code>/home/user/work/exp/exp016/wandb/run-20210423_180426-x32g4v80/logs/debug.log</code>"
     },
     "metadata": {}
    },
    {
     "output_type": "display_data",
     "data": {
      "text/plain": "<IPython.core.display.HTML object>",
      "text/html": "Find internal logs for this run at: <code>/home/user/work/exp/exp016/wandb/run-20210423_180426-x32g4v80/logs/debug-internal.log</code>"
     },
     "metadata": {}
    },
    {
     "output_type": "display_data",
     "data": {
      "text/plain": "<IPython.core.display.HTML object>",
      "text/html": "Synced 5 W&B file(s), 0 media file(s), 0 artifact file(s) and 0 other file(s)"
     },
     "metadata": {}
    },
    {
     "output_type": "display_data",
     "data": {
      "text/plain": "<IPython.core.display.HTML object>",
      "text/html": "\n                    <br/>Synced <strong style=\"color:#cdcd00\">exalted-hill-381</strong>: <a href=\"https://wandb.ai/kuto5046/indoor/runs/x32g4v80\" target=\"_blank\">https://wandb.ai/kuto5046/indoor/runs/x32g4v80</a><br/>\n                "
     },
     "metadata": {}
    },
    {
     "output_type": "stream",
     "name": "stdout",
     "text": [
      "====================\n",
      "Fold 3\n",
      "====================\n",
      "\u001b[34m\u001b[1mwandb\u001b[0m: wandb version 0.10.27 is available!  To upgrade, please run:\n",
      "\u001b[34m\u001b[1mwandb\u001b[0m:  $ pip install wandb --upgrade\n"
     ]
    },
    {
     "output_type": "display_data",
     "data": {
      "text/plain": "<IPython.core.display.HTML object>",
      "text/html": "\n                Tracking run with wandb version 0.10.22<br/>\n                Syncing run <strong style=\"color:#cdcd00\">fluent-cherry-382</strong> to <a href=\"https://wandb.ai\" target=\"_blank\">Weights & Biases</a> <a href=\"https://docs.wandb.com/integrations/jupyter.html\" target=\"_blank\">(Documentation)</a>.<br/>\n                Project page: <a href=\"https://wandb.ai/kuto5046/indoor\" target=\"_blank\">https://wandb.ai/kuto5046/indoor</a><br/>\n                Run page: <a href=\"https://wandb.ai/kuto5046/indoor/runs/1q2jgtyv\" target=\"_blank\">https://wandb.ai/kuto5046/indoor/runs/1q2jgtyv</a><br/>\n                Run data is saved locally in <code>/home/user/work/exp/exp016/wandb/run-20210423_180436-1q2jgtyv</code><br/><br/>\n            "
     },
     "metadata": {}
    },
    {
     "output_type": "stream",
     "name": "stdout",
     "text": [
      "fold 3: mean position error 7.521781227137205\n"
     ]
    },
    {
     "output_type": "display_data",
     "data": {
      "text/plain": "<IPython.core.display.HTML object>",
      "text/html": "<br/>Waiting for W&B process to finish, PID 9248<br/>Program ended successfully."
     },
     "metadata": {}
    },
    {
     "output_type": "display_data",
     "data": {
      "text/plain": "VBox(children=(Label(value=' 0.00MB of 0.00MB uploaded (0.00MB deduped)\\r'), FloatProgress(value=1.0, max=1.0)…",
      "application/vnd.jupyter.widget-view+json": {
       "version_major": 2,
       "version_minor": 0,
       "model_id": "06f4aceba5fc409bafcd57add7ba64b7"
      }
     },
     "metadata": {}
    },
    {
     "output_type": "display_data",
     "data": {
      "text/plain": "<IPython.core.display.HTML object>",
      "text/html": "Find user logs for this run at: <code>/home/user/work/exp/exp016/wandb/run-20210423_180436-1q2jgtyv/logs/debug.log</code>"
     },
     "metadata": {}
    },
    {
     "output_type": "display_data",
     "data": {
      "text/plain": "<IPython.core.display.HTML object>",
      "text/html": "Find internal logs for this run at: <code>/home/user/work/exp/exp016/wandb/run-20210423_180436-1q2jgtyv/logs/debug-internal.log</code>"
     },
     "metadata": {}
    },
    {
     "output_type": "display_data",
     "data": {
      "text/plain": "<IPython.core.display.HTML object>",
      "text/html": "Synced 5 W&B file(s), 0 media file(s), 0 artifact file(s) and 0 other file(s)"
     },
     "metadata": {}
    },
    {
     "output_type": "display_data",
     "data": {
      "text/plain": "<IPython.core.display.HTML object>",
      "text/html": "\n                    <br/>Synced <strong style=\"color:#cdcd00\">fluent-cherry-382</strong>: <a href=\"https://wandb.ai/kuto5046/indoor/runs/1q2jgtyv\" target=\"_blank\">https://wandb.ai/kuto5046/indoor/runs/1q2jgtyv</a><br/>\n                "
     },
     "metadata": {}
    },
    {
     "output_type": "stream",
     "name": "stdout",
     "text": [
      "====================\n",
      "Fold 4\n",
      "====================\n",
      "\u001b[34m\u001b[1mwandb\u001b[0m: wandb version 0.10.27 is available!  To upgrade, please run:\n",
      "\u001b[34m\u001b[1mwandb\u001b[0m:  $ pip install wandb --upgrade\n"
     ]
    },
    {
     "output_type": "display_data",
     "data": {
      "text/plain": "<IPython.core.display.HTML object>",
      "text/html": "\n                Tracking run with wandb version 0.10.22<br/>\n                Syncing run <strong style=\"color:#cdcd00\">expert-pond-383</strong> to <a href=\"https://wandb.ai\" target=\"_blank\">Weights & Biases</a> <a href=\"https://docs.wandb.com/integrations/jupyter.html\" target=\"_blank\">(Documentation)</a>.<br/>\n                Project page: <a href=\"https://wandb.ai/kuto5046/indoor\" target=\"_blank\">https://wandb.ai/kuto5046/indoor</a><br/>\n                Run page: <a href=\"https://wandb.ai/kuto5046/indoor/runs/3kcu02h8\" target=\"_blank\">https://wandb.ai/kuto5046/indoor/runs/3kcu02h8</a><br/>\n                Run data is saved locally in <code>/home/user/work/exp/exp016/wandb/run-20210423_180446-3kcu02h8</code><br/><br/>\n            "
     },
     "metadata": {}
    },
    {
     "output_type": "stream",
     "name": "stdout",
     "text": [
      "fold 4: mean position error 7.413416500389551\n"
     ]
    }
   ],
   "source": [
    "oofs = []  # 全てのoofをdfで格納する\n",
    "predictions = []  # 全ての予測値をdfで格納する\n",
    "val_scores = []\n",
    "# skf = model_selection.StratifiedKFold(n_splits=N_SPLITS, shuffle=True, random_state=SEED)\n",
    "gkf = model_selection.GroupKFold(n_splits=N_SPLITS)\n",
    "\n",
    "train_fold = [(trn_idx, val_idx) for trn_idx, val_idx in gkf.split(train.loc[:, 'path'], groups=train.loc[:, 'path'])]\n",
    "# 今回はtargetを均等に分ける必要はなくpathが均等に分かれればいいのでskf.split()にpathを与えている。\n",
    "for fold in range(5):\n",
    "    # 指定したfoldのみループを回す\n",
    "    if fold not in USE_FOLDS:\n",
    "        continue\n",
    "\n",
    "    print('=' * 20)\n",
    "    print(f'Fold {fold}')\n",
    "    print('=' * 20)\n",
    "\n",
    "    # train/valid data\n",
    "    trn_idx_for_train, val_idx_for_train = train_fold[fold]\n",
    "    trn_df = train.loc[trn_idx_for_train, :].reset_index(drop=True)\n",
    "    trn_df = trn_df.loc[:,BSSID_FEATS + RSSI_FEATS + ['site_id', 'x','y','floor']]\n",
    "    \n",
    "    val_df = train.loc[val_idx_for_train, :].reset_index(drop=True)\n",
    "    val_df = val_df.loc[:,BSSID_FEATS + RSSI_FEATS + ['site_id', 'x','y','floor']]\n",
    "\n",
    "    # data loader\n",
    "    loaders = {}\n",
    "    loader_config = config[\"loader\"]\n",
    "    loaders[\"train\"] = DataLoader(IndoorDataset(trn_df, phase=\"train\"), **loader_config[\"train\"], worker_init_fn=worker_init_fn) \n",
    "    loaders[\"valid\"] = DataLoader(IndoorDataset(val_df, phase=\"valid\"), **loader_config[\"valid\"], worker_init_fn=worker_init_fn)\n",
    "    loaders[\"test\"] = DataLoader(IndoorDataset(test, phase=\"test\"), **loader_config[\"test\"], worker_init_fn=worker_init_fn)\n",
    "\n",
    "    # model\n",
    "    model = LSTMModel(wifi_bssids_size, site_count)  # +1としているのはLEを1スタートで始めているため\n",
    "    model_name = model.__class__.__name__\n",
    "\n",
    "    # callbacks\n",
    "    callbacks = []\n",
    "    checkpoint_callback = ModelCheckpoint(\n",
    "        monitor=f'Loss/val',\n",
    "        mode='min',\n",
    "        dirpath=f\"../../model/{EXP_NAME}\",\n",
    "        verbose=False,\n",
    "        filename=f'{model_name}-{fold}')\n",
    "    \n",
    "    if MODEL_SAVE:\n",
    "        callbacks.append(checkpoint_callback)\n",
    "\n",
    "    early_stop_callback = EarlyStopping(\n",
    "        monitor='Loss/val',\n",
    "        min_delta=0.00,\n",
    "        patience=20,\n",
    "        verbose=False,\n",
    "        mode='min')\n",
    "    callbacks.append(early_stop_callback)\n",
    "\n",
    "    # loggers\n",
    "    RUN_NAME = EXP_NAME + \"_\" + EXP_MESSAGE\n",
    "    wandb.init(project='indoor', notes=NOTES, entity='kuto5046', group=RUN_NAME)\n",
    "    wandb.run.name = RUN_NAME + f'-fold-{fold}'\n",
    "    wandb_config = wandb.config\n",
    "    wandb_config['model_name'] = model_name\n",
    "    wandb_config['LB'] = None\n",
    "    wandb.watch(model)\n",
    "    \n",
    "    \n",
    "    loggers = []\n",
    "    loggers.append(WandbLogger())\n",
    "\n",
    "    learner = Learner(model, config)\n",
    "    # pretrained flag\n",
    "    if PRETRAINED:\n",
    "        ckpt = torch.load(PRETRAINED_PATH + f'{model_name}-{fold}.ckpt')\n",
    "        learner.load_state_dict(ckpt['state_dict'])\n",
    "\n",
    "    if not ONLY_PRED:\n",
    "        trainer = pl.Trainer(\n",
    "            logger=loggers, \n",
    "            callbacks=callbacks,\n",
    "            max_epochs=MAX_EPOCHS,\n",
    "            gpus=[0],\n",
    "            fast_dev_run=DEBUG,\n",
    "            deterministic=True,\n",
    "            # precision=16,\n",
    "            progress_bar_refresh_rate=0  # vscodeの時progress barの動作が遅いので表示しない\n",
    "            )\n",
    "\n",
    "        trainer.fit(learner, train_dataloader=loaders['train'], val_dataloaders=loaders['valid'])\n",
    "\n",
    "    #############\n",
    "    # validation (to make oof)\n",
    "    #############\n",
    "    model.eval()  \n",
    "    oof_df = train.loc[val_idx_for_train, ['timestamp', 'x', 'y', 'floor', 'floor_str','path', 'site_id', 'site_id_str']].reset_index(drop=True)\n",
    "    oof_x, oof_y, oof_f = evaluate(model, loaders, phase=\"valid\")\n",
    "    oof_df[\"oof_x\"] = oof_x\n",
    "    oof_df[\"oof_y\"] = oof_y\n",
    "    oof_df[\"oof_floor\"] = oof_f\n",
    "    oofs.append(oof_df)\n",
    "    \n",
    "    val_score = mean_position_error(\n",
    "        oof_df[\"oof_x\"].values, oof_df[\"oof_y\"].values, 0,\n",
    "        oof_df['x'].values, oof_df['y'].values, 0)\n",
    "    val_scores.append(val_score)\n",
    "    print(f\"fold {fold}: mean position error {val_score}\")\n",
    "\n",
    "    #############\n",
    "    # inference\n",
    "    #############n\n",
    "\n",
    "    preds_x, preds_y, preds_f = evaluate(model, loaders, phase=\"test\")\n",
    "    test_preds = pd.DataFrame(np.stack((preds_f, preds_x, preds_y))).T\n",
    "    test_preds.columns = sub_df.columns\n",
    "    test_preds[\"site_path_timestamp\"] = test[\"site_path_timestamp\"]\n",
    "    test_preds[\"floor\"] = test_preds[\"floor\"].astype(int)\n",
    "    test_preds.to_csv(f'{EXP_NAME}_fold{fold}.csv', index=False)\n",
    "    predictions.append(test_preds)\n",
    "\n",
    "    if fold != 4:\n",
    "        wandb.finish()"
   ]
  },
  {
   "cell_type": "markdown",
   "metadata": {},
   "source": [
    "## validation"
   ]
  },
  {
   "cell_type": "code",
   "execution_count": 21,
   "metadata": {},
   "outputs": [
    {
     "output_type": "execute_result",
     "data": {
      "text/plain": [
       "            timestamp          x           y  floor floor_str  \\\n",
       "0       1561368762838   78.21819   38.999737    2.0        F3   \n",
       "1       1561368762838   78.21819   38.999737    2.0        F3   \n",
       "2       1561368774057   76.25184   30.510840    2.0        F3   \n",
       "3       1561368774057   76.25184   30.510840    2.0        F3   \n",
       "4       1561368774057   76.25184   30.510840    2.0        F3   \n",
       "...               ...        ...         ...    ...       ...   \n",
       "255883  1574420742502  193.20488  108.001520   -1.0        B1   \n",
       "255884  1574420742502  193.20488  108.001520   -1.0        B1   \n",
       "255885  1574420753754  204.29349  107.835120   -1.0        B1   \n",
       "255886  1574420753754  204.29349  107.835120   -1.0        B1   \n",
       "255887  1574420753754  204.29349  107.835120   -1.0        B1   \n",
       "\n",
       "                            path  site_id               site_id_str  \\\n",
       "0       5d10a1669c50c70008fe8977        0  5a0546857ecc773753327266   \n",
       "1       5d10a1669c50c70008fe8977        0  5a0546857ecc773753327266   \n",
       "2       5d10a1669c50c70008fe8977        0  5a0546857ecc773753327266   \n",
       "3       5d10a1669c50c70008fe8977        0  5a0546857ecc773753327266   \n",
       "4       5d10a1669c50c70008fe8977        0  5a0546857ecc773753327266   \n",
       "...                          ...      ...                       ...   \n",
       "255883  5dd7c119c5b77e0006b16b99       23  5dc8cea7659e181adb076a3f   \n",
       "255884  5dd7c119c5b77e0006b16b99       23  5dc8cea7659e181adb076a3f   \n",
       "255885  5dd7c119c5b77e0006b16b99       23  5dc8cea7659e181adb076a3f   \n",
       "255886  5dd7c119c5b77e0006b16b99       23  5dc8cea7659e181adb076a3f   \n",
       "255887  5dd7c119c5b77e0006b16b99       23  5dc8cea7659e181adb076a3f   \n",
       "\n",
       "             oof_x       oof_y  oof_floor  \\\n",
       "0        83.256050   33.078526        0.0   \n",
       "1        81.054611   29.842922        0.0   \n",
       "2        84.058441   28.704632        0.0   \n",
       "3        81.806900   27.245537        0.0   \n",
       "4        85.220657   21.922276        0.0   \n",
       "...            ...         ...        ...   \n",
       "255883  193.828201  103.797684        0.0   \n",
       "255884  195.764313  108.264069        0.0   \n",
       "255885  194.731476   99.844894        0.0   \n",
       "255886  194.066635   99.404266        0.0   \n",
       "255887  192.264389  101.778488        0.0   \n",
       "\n",
       "                                      site_path_timestamp  \n",
       "0       5a0546857ecc773753327266_5d10a1669c50c70008fe8...  \n",
       "1       5a0546857ecc773753327266_5d10a1669c50c70008fe8...  \n",
       "2       5a0546857ecc773753327266_5d10a1669c50c70008fe8...  \n",
       "3       5a0546857ecc773753327266_5d10a1669c50c70008fe8...  \n",
       "4       5a0546857ecc773753327266_5d10a1669c50c70008fe8...  \n",
       "...                                                   ...  \n",
       "255883  5dc8cea7659e181adb076a3f_5dd7c119c5b77e0006b16...  \n",
       "255884  5dc8cea7659e181adb076a3f_5dd7c119c5b77e0006b16...  \n",
       "255885  5dc8cea7659e181adb076a3f_5dd7c119c5b77e0006b16...  \n",
       "255886  5dc8cea7659e181adb076a3f_5dd7c119c5b77e0006b16...  \n",
       "255887  5dc8cea7659e181adb076a3f_5dd7c119c5b77e0006b16...  \n",
       "\n",
       "[255888 rows x 12 columns]"
      ],
      "text/html": "<div>\n<style scoped>\n    .dataframe tbody tr th:only-of-type {\n        vertical-align: middle;\n    }\n\n    .dataframe tbody tr th {\n        vertical-align: top;\n    }\n\n    .dataframe thead th {\n        text-align: right;\n    }\n</style>\n<table border=\"1\" class=\"dataframe\">\n  <thead>\n    <tr style=\"text-align: right;\">\n      <th></th>\n      <th>timestamp</th>\n      <th>x</th>\n      <th>y</th>\n      <th>floor</th>\n      <th>floor_str</th>\n      <th>path</th>\n      <th>site_id</th>\n      <th>site_id_str</th>\n      <th>oof_x</th>\n      <th>oof_y</th>\n      <th>oof_floor</th>\n      <th>site_path_timestamp</th>\n    </tr>\n  </thead>\n  <tbody>\n    <tr>\n      <th>0</th>\n      <td>1561368762838</td>\n      <td>78.21819</td>\n      <td>38.999737</td>\n      <td>2.0</td>\n      <td>F3</td>\n      <td>5d10a1669c50c70008fe8977</td>\n      <td>0</td>\n      <td>5a0546857ecc773753327266</td>\n      <td>83.256050</td>\n      <td>33.078526</td>\n      <td>0.0</td>\n      <td>5a0546857ecc773753327266_5d10a1669c50c70008fe8...</td>\n    </tr>\n    <tr>\n      <th>1</th>\n      <td>1561368762838</td>\n      <td>78.21819</td>\n      <td>38.999737</td>\n      <td>2.0</td>\n      <td>F3</td>\n      <td>5d10a1669c50c70008fe8977</td>\n      <td>0</td>\n      <td>5a0546857ecc773753327266</td>\n      <td>81.054611</td>\n      <td>29.842922</td>\n      <td>0.0</td>\n      <td>5a0546857ecc773753327266_5d10a1669c50c70008fe8...</td>\n    </tr>\n    <tr>\n      <th>2</th>\n      <td>1561368774057</td>\n      <td>76.25184</td>\n      <td>30.510840</td>\n      <td>2.0</td>\n      <td>F3</td>\n      <td>5d10a1669c50c70008fe8977</td>\n      <td>0</td>\n      <td>5a0546857ecc773753327266</td>\n      <td>84.058441</td>\n      <td>28.704632</td>\n      <td>0.0</td>\n      <td>5a0546857ecc773753327266_5d10a1669c50c70008fe8...</td>\n    </tr>\n    <tr>\n      <th>3</th>\n      <td>1561368774057</td>\n      <td>76.25184</td>\n      <td>30.510840</td>\n      <td>2.0</td>\n      <td>F3</td>\n      <td>5d10a1669c50c70008fe8977</td>\n      <td>0</td>\n      <td>5a0546857ecc773753327266</td>\n      <td>81.806900</td>\n      <td>27.245537</td>\n      <td>0.0</td>\n      <td>5a0546857ecc773753327266_5d10a1669c50c70008fe8...</td>\n    </tr>\n    <tr>\n      <th>4</th>\n      <td>1561368774057</td>\n      <td>76.25184</td>\n      <td>30.510840</td>\n      <td>2.0</td>\n      <td>F3</td>\n      <td>5d10a1669c50c70008fe8977</td>\n      <td>0</td>\n      <td>5a0546857ecc773753327266</td>\n      <td>85.220657</td>\n      <td>21.922276</td>\n      <td>0.0</td>\n      <td>5a0546857ecc773753327266_5d10a1669c50c70008fe8...</td>\n    </tr>\n    <tr>\n      <th>...</th>\n      <td>...</td>\n      <td>...</td>\n      <td>...</td>\n      <td>...</td>\n      <td>...</td>\n      <td>...</td>\n      <td>...</td>\n      <td>...</td>\n      <td>...</td>\n      <td>...</td>\n      <td>...</td>\n      <td>...</td>\n    </tr>\n    <tr>\n      <th>255883</th>\n      <td>1574420742502</td>\n      <td>193.20488</td>\n      <td>108.001520</td>\n      <td>-1.0</td>\n      <td>B1</td>\n      <td>5dd7c119c5b77e0006b16b99</td>\n      <td>23</td>\n      <td>5dc8cea7659e181adb076a3f</td>\n      <td>193.828201</td>\n      <td>103.797684</td>\n      <td>0.0</td>\n      <td>5dc8cea7659e181adb076a3f_5dd7c119c5b77e0006b16...</td>\n    </tr>\n    <tr>\n      <th>255884</th>\n      <td>1574420742502</td>\n      <td>193.20488</td>\n      <td>108.001520</td>\n      <td>-1.0</td>\n      <td>B1</td>\n      <td>5dd7c119c5b77e0006b16b99</td>\n      <td>23</td>\n      <td>5dc8cea7659e181adb076a3f</td>\n      <td>195.764313</td>\n      <td>108.264069</td>\n      <td>0.0</td>\n      <td>5dc8cea7659e181adb076a3f_5dd7c119c5b77e0006b16...</td>\n    </tr>\n    <tr>\n      <th>255885</th>\n      <td>1574420753754</td>\n      <td>204.29349</td>\n      <td>107.835120</td>\n      <td>-1.0</td>\n      <td>B1</td>\n      <td>5dd7c119c5b77e0006b16b99</td>\n      <td>23</td>\n      <td>5dc8cea7659e181adb076a3f</td>\n      <td>194.731476</td>\n      <td>99.844894</td>\n      <td>0.0</td>\n      <td>5dc8cea7659e181adb076a3f_5dd7c119c5b77e0006b16...</td>\n    </tr>\n    <tr>\n      <th>255886</th>\n      <td>1574420753754</td>\n      <td>204.29349</td>\n      <td>107.835120</td>\n      <td>-1.0</td>\n      <td>B1</td>\n      <td>5dd7c119c5b77e0006b16b99</td>\n      <td>23</td>\n      <td>5dc8cea7659e181adb076a3f</td>\n      <td>194.066635</td>\n      <td>99.404266</td>\n      <td>0.0</td>\n      <td>5dc8cea7659e181adb076a3f_5dd7c119c5b77e0006b16...</td>\n    </tr>\n    <tr>\n      <th>255887</th>\n      <td>1574420753754</td>\n      <td>204.29349</td>\n      <td>107.835120</td>\n      <td>-1.0</td>\n      <td>B1</td>\n      <td>5dd7c119c5b77e0006b16b99</td>\n      <td>23</td>\n      <td>5dc8cea7659e181adb076a3f</td>\n      <td>192.264389</td>\n      <td>101.778488</td>\n      <td>0.0</td>\n      <td>5dc8cea7659e181adb076a3f_5dd7c119c5b77e0006b16...</td>\n    </tr>\n  </tbody>\n</table>\n<p>255888 rows × 12 columns</p>\n</div>"
     },
     "metadata": {},
     "execution_count": 21
    }
   ],
   "source": [
    "if len(USE_FOLDS) > 1:\n",
    "    oofs_df = pd.concat(oofs)\n",
    "else:\n",
    "    oofs_df = oofs[0]\n",
    "\n",
    "oofs_df['site_path_timestamp'] = oofs_df['site_id_str'].astype(str) + '_' + oofs_df['path'] + '_' + oofs_df['timestamp'].astype(str)\n",
    "oofs_df = oofs_df.sort_values('site_path_timestamp').reset_index(drop=True)\n",
    "oofs_df.to_csv(\"oof.csv\", index=False)\n",
    "oofs_df"
   ]
  },
  {
   "cell_type": "code",
   "execution_count": 22,
   "metadata": {},
   "outputs": [
    {
     "output_type": "stream",
     "name": "stdout",
     "text": [
      "CV:7.523803646358123\n"
     ]
    }
   ],
   "source": [
    "# waypoint補正前のx,yでの評価\n",
    "oof_score = mean_position_error(\n",
    "    oofs_df['oof_x'], oofs_df['oof_y'], 0, \n",
    "    oofs_df['x'], oofs_df['y'], 0\n",
    "    )\n",
    "\n",
    "wandb_config['CV'] = oof_score\n",
    "print(f\"CV:{oof_score}\")"
   ]
  },
  {
   "cell_type": "markdown",
   "metadata": {},
   "source": [
    "## testのwaypointを予測結果(wifi)から再度線形補完"
   ]
  },
  {
   "cell_type": "code",
   "execution_count": 23,
   "metadata": {},
   "outputs": [
    {
     "output_type": "execute_result",
     "data": {
      "text/plain": [
       "                                                    floor   x   y\n",
       "site_path_timestamp                                              \n",
       "5a0546857ecc773753327266_046cfa46be49fc10834815...    NaN NaN NaN\n",
       "5a0546857ecc773753327266_046cfa46be49fc10834815...    NaN NaN NaN\n",
       "5a0546857ecc773753327266_046cfa46be49fc10834815...    NaN NaN NaN\n",
       "5a0546857ecc773753327266_046cfa46be49fc10834815...    NaN NaN NaN\n",
       "5a0546857ecc773753327266_046cfa46be49fc10834815...    NaN NaN NaN\n",
       "...                                                   ...  ..  ..\n",
       "5dc8cea7659e181adb076a3f_fd64de8c4a2fc5ebb0e9f4...    NaN NaN NaN\n",
       "5dc8cea7659e181adb076a3f_fd64de8c4a2fc5ebb0e9f4...    NaN NaN NaN\n",
       "5dc8cea7659e181adb076a3f_fd64de8c4a2fc5ebb0e9f4...    NaN NaN NaN\n",
       "5dc8cea7659e181adb076a3f_fd64de8c4a2fc5ebb0e9f4...    NaN NaN NaN\n",
       "5dc8cea7659e181adb076a3f_fd64de8c4a2fc5ebb0e9f4...    NaN NaN NaN\n",
       "\n",
       "[10133 rows x 3 columns]"
      ],
      "text/html": "<div>\n<style scoped>\n    .dataframe tbody tr th:only-of-type {\n        vertical-align: middle;\n    }\n\n    .dataframe tbody tr th {\n        vertical-align: top;\n    }\n\n    .dataframe thead th {\n        text-align: right;\n    }\n</style>\n<table border=\"1\" class=\"dataframe\">\n  <thead>\n    <tr style=\"text-align: right;\">\n      <th></th>\n      <th>floor</th>\n      <th>x</th>\n      <th>y</th>\n    </tr>\n    <tr>\n      <th>site_path_timestamp</th>\n      <th></th>\n      <th></th>\n      <th></th>\n    </tr>\n  </thead>\n  <tbody>\n    <tr>\n      <th>5a0546857ecc773753327266_046cfa46be49fc10834815c6_0000000000009</th>\n      <td>NaN</td>\n      <td>NaN</td>\n      <td>NaN</td>\n    </tr>\n    <tr>\n      <th>5a0546857ecc773753327266_046cfa46be49fc10834815c6_0000000009017</th>\n      <td>NaN</td>\n      <td>NaN</td>\n      <td>NaN</td>\n    </tr>\n    <tr>\n      <th>5a0546857ecc773753327266_046cfa46be49fc10834815c6_0000000015326</th>\n      <td>NaN</td>\n      <td>NaN</td>\n      <td>NaN</td>\n    </tr>\n    <tr>\n      <th>5a0546857ecc773753327266_046cfa46be49fc10834815c6_0000000018763</th>\n      <td>NaN</td>\n      <td>NaN</td>\n      <td>NaN</td>\n    </tr>\n    <tr>\n      <th>5a0546857ecc773753327266_046cfa46be49fc10834815c6_0000000022328</th>\n      <td>NaN</td>\n      <td>NaN</td>\n      <td>NaN</td>\n    </tr>\n    <tr>\n      <th>...</th>\n      <td>...</td>\n      <td>...</td>\n      <td>...</td>\n    </tr>\n    <tr>\n      <th>5dc8cea7659e181adb076a3f_fd64de8c4a2fc5ebb0e9f412_0000000082589</th>\n      <td>NaN</td>\n      <td>NaN</td>\n      <td>NaN</td>\n    </tr>\n    <tr>\n      <th>5dc8cea7659e181adb076a3f_fd64de8c4a2fc5ebb0e9f412_0000000085758</th>\n      <td>NaN</td>\n      <td>NaN</td>\n      <td>NaN</td>\n    </tr>\n    <tr>\n      <th>5dc8cea7659e181adb076a3f_fd64de8c4a2fc5ebb0e9f412_0000000090895</th>\n      <td>NaN</td>\n      <td>NaN</td>\n      <td>NaN</td>\n    </tr>\n    <tr>\n      <th>5dc8cea7659e181adb076a3f_fd64de8c4a2fc5ebb0e9f412_0000000096899</th>\n      <td>NaN</td>\n      <td>NaN</td>\n      <td>NaN</td>\n    </tr>\n    <tr>\n      <th>5dc8cea7659e181adb076a3f_fd64de8c4a2fc5ebb0e9f412_0000000100447</th>\n      <td>NaN</td>\n      <td>NaN</td>\n      <td>NaN</td>\n    </tr>\n  </tbody>\n</table>\n<p>10133 rows × 3 columns</p>\n</div>"
     },
     "metadata": {},
     "execution_count": 23
    }
   ],
   "source": [
    "if len(USE_FOLDS) > 1:\n",
    "    # foldの結果を平均した後、reindexでsubmission fileにindexを合わせる\n",
    "    sub = pd.concat(predictions).groupby('site_path_timestamp').mean().reindex(sub_df.index)\n",
    "else:\n",
    "    sub = predictions[0].reindex(sub_df.index)\n",
    "sub"
   ]
  },
  {
   "cell_type": "code",
   "execution_count": 24,
   "metadata": {},
   "outputs": [
    {
     "output_type": "execute_result",
     "data": {
      "text/plain": [
       "                                                    floor   x   y\n",
       "site_path_timestamp                                              \n",
       "5a0546857ecc773753327266_046cfa46be49fc10834815...      0 NaN NaN\n",
       "5a0546857ecc773753327266_046cfa46be49fc10834815...      0 NaN NaN\n",
       "5a0546857ecc773753327266_046cfa46be49fc10834815...      0 NaN NaN\n",
       "5a0546857ecc773753327266_046cfa46be49fc10834815...      0 NaN NaN\n",
       "5a0546857ecc773753327266_046cfa46be49fc10834815...      0 NaN NaN\n",
       "...                                                   ...  ..  ..\n",
       "5dc8cea7659e181adb076a3f_fd64de8c4a2fc5ebb0e9f4...      5 NaN NaN\n",
       "5dc8cea7659e181adb076a3f_fd64de8c4a2fc5ebb0e9f4...      5 NaN NaN\n",
       "5dc8cea7659e181adb076a3f_fd64de8c4a2fc5ebb0e9f4...      5 NaN NaN\n",
       "5dc8cea7659e181adb076a3f_fd64de8c4a2fc5ebb0e9f4...      5 NaN NaN\n",
       "5dc8cea7659e181adb076a3f_fd64de8c4a2fc5ebb0e9f4...      5 NaN NaN\n",
       "\n",
       "[10133 rows x 3 columns]"
      ],
      "text/html": "<div>\n<style scoped>\n    .dataframe tbody tr th:only-of-type {\n        vertical-align: middle;\n    }\n\n    .dataframe tbody tr th {\n        vertical-align: top;\n    }\n\n    .dataframe thead th {\n        text-align: right;\n    }\n</style>\n<table border=\"1\" class=\"dataframe\">\n  <thead>\n    <tr style=\"text-align: right;\">\n      <th></th>\n      <th>floor</th>\n      <th>x</th>\n      <th>y</th>\n    </tr>\n    <tr>\n      <th>site_path_timestamp</th>\n      <th></th>\n      <th></th>\n      <th></th>\n    </tr>\n  </thead>\n  <tbody>\n    <tr>\n      <th>5a0546857ecc773753327266_046cfa46be49fc10834815c6_0000000000009</th>\n      <td>0</td>\n      <td>NaN</td>\n      <td>NaN</td>\n    </tr>\n    <tr>\n      <th>5a0546857ecc773753327266_046cfa46be49fc10834815c6_0000000009017</th>\n      <td>0</td>\n      <td>NaN</td>\n      <td>NaN</td>\n    </tr>\n    <tr>\n      <th>5a0546857ecc773753327266_046cfa46be49fc10834815c6_0000000015326</th>\n      <td>0</td>\n      <td>NaN</td>\n      <td>NaN</td>\n    </tr>\n    <tr>\n      <th>5a0546857ecc773753327266_046cfa46be49fc10834815c6_0000000018763</th>\n      <td>0</td>\n      <td>NaN</td>\n      <td>NaN</td>\n    </tr>\n    <tr>\n      <th>5a0546857ecc773753327266_046cfa46be49fc10834815c6_0000000022328</th>\n      <td>0</td>\n      <td>NaN</td>\n      <td>NaN</td>\n    </tr>\n    <tr>\n      <th>...</th>\n      <td>...</td>\n      <td>...</td>\n      <td>...</td>\n    </tr>\n    <tr>\n      <th>5dc8cea7659e181adb076a3f_fd64de8c4a2fc5ebb0e9f412_0000000082589</th>\n      <td>5</td>\n      <td>NaN</td>\n      <td>NaN</td>\n    </tr>\n    <tr>\n      <th>5dc8cea7659e181adb076a3f_fd64de8c4a2fc5ebb0e9f412_0000000085758</th>\n      <td>5</td>\n      <td>NaN</td>\n      <td>NaN</td>\n    </tr>\n    <tr>\n      <th>5dc8cea7659e181adb076a3f_fd64de8c4a2fc5ebb0e9f412_0000000090895</th>\n      <td>5</td>\n      <td>NaN</td>\n      <td>NaN</td>\n    </tr>\n    <tr>\n      <th>5dc8cea7659e181adb076a3f_fd64de8c4a2fc5ebb0e9f412_0000000096899</th>\n      <td>5</td>\n      <td>NaN</td>\n      <td>NaN</td>\n    </tr>\n    <tr>\n      <th>5dc8cea7659e181adb076a3f_fd64de8c4a2fc5ebb0e9f412_0000000100447</th>\n      <td>5</td>\n      <td>NaN</td>\n      <td>NaN</td>\n    </tr>\n  </tbody>\n</table>\n<p>10133 rows × 3 columns</p>\n</div>"
     },
     "metadata": {},
     "execution_count": 24
    }
   ],
   "source": [
    "# floorの数値を置換\n",
    "simple_accurate_99 = pd.read_csv(root_dir / 'simple-99-accurate-floor-model/submission.csv')\n",
    "sub['floor'] = simple_accurate_99['floor'].values\n",
    "sub"
   ]
  },
  {
   "cell_type": "code",
   "execution_count": 25,
   "metadata": {},
   "outputs": [],
   "source": [
    "# import sys \n",
    "# sys.path.append(\"../../\")\n",
    "# from multiprocessing import Pool\n",
    "# from src.io_f import read_data_file\n",
    "# from scipy import interpolate\n",
    "\n",
    "# # timestampとwaypointを元に線形補完しtarget_timestampに対応するtarget_waypointを求める　\n",
    "# def wifi_waypoint_by_linear_interpolation(\n",
    "#     observed_timestamp: np.ndarray, \n",
    "#     observed_x:np.ndarray, \n",
    "#     observed_y:np.ndarray, \n",
    "#     target_timestamp:np.ndarray, \n",
    "#     delta_time=500\n",
    "#     ):\n",
    "#     \"\"\"\n",
    "#     observed: すでに知っている情報\n",
    "#     observed-timestamp,x,yは全て同じ要素数となる\n",
    "\n",
    "#     observedの情報からfitting関数を作成\n",
    "#     \"\"\"\n",
    "#     target_waypoint_list = []\n",
    "#     num_interpolation = len(observed_timestamp) - 1  # 補完回数 \n",
    "#     # 各waypoint間で線形補完\n",
    "#     for i in range(num_interpolation):\n",
    "#         # 潜在的なtimestampを作成(これのどれかにwifiを当てはめるような形)\n",
    "#         n_split = int((max(observed_timestamp[i:i+2]) - min(observed_timestamp[i:i+2])) / delta_time) + 2  # delta_time刻みとなるように分割数を指定(+2は始点と終点分)\n",
    "#         latent_timestamp = np.linspace(min(observed_timestamp[i:i+2]), max(observed_timestamp[i:i+2]), n_split).astype(int) \n",
    "        \n",
    "#         # xが昇順の場合はlatentも昇順になるようにする\n",
    "#         if observed_x[i] < observed_x[i+1]:\n",
    "#             latent_x = np.linspace(min(observed_x[i:i+2]), max(observed_x[i:i+2]), n_split)\n",
    "#         # xが降順の場合はlatentも降順になるようにする\n",
    "#         else:\n",
    "#             latent_x = np.linspace(min(observed_x[i:i+2]), max(observed_x[i:i+2]), n_split)[::-1]\n",
    "        \n",
    "#         # 線形補完関数の適用\n",
    "#         fitting_func = interpolate.interp1d(observed_x[i:i+2], observed_y[i:i+2])\n",
    "\n",
    "#         # wifiのtimestampに最も近いものをsplit_timestampから取得しそれに対応するwaypointをwifiのwaypointとして取得\n",
    "#         target_x = []\n",
    "#         target_y = []\n",
    "\n",
    "#         # 区間内のwifiデータのみ考える\n",
    "#         if i == num_interpolation-1:\n",
    "#             # pathの最後の区間にobserved timestampより未来にあるtimestampに対処\n",
    "#             target_idx = min(observed_timestamp[i:i+2]) <= target_timestamp\n",
    "#         elif i == 0:\n",
    "#             # pathの最初の区間にobserved timestampより過去にあるtimestampに対処\n",
    "#             target_idx = target_timestamp < max(observed_timestamp[i:i+2])\n",
    "#         else:\n",
    "#             target_idx = (min(observed_timestamp[i:i+2]) <= target_timestamp) & (target_timestamp < max(observed_timestamp[i:i+2]))\n",
    "#         target_use_timestamp = target_timestamp[target_idx]\n",
    "\n",
    "#         # timestampが最も近いものをtarget waypointとして取得\n",
    "#         for t in target_use_timestamp:\n",
    "#             idx = np.abs(latent_timestamp - t).argmin()  # targetとtimestampが最も近いものをlatentから取得\n",
    "#             target_x.append(latent_x[idx])\n",
    "#             # 原因はよくわからないがfittingするとnanが発生する場合がある\n",
    "#             # その場合は元の値をそのまま使う\n",
    "#             if np.isnan(fitting_func(latent_x[idx])).sum() > 0:\n",
    "#                 # print('yに欠損値あり')\n",
    "#                 idx = np.abs(observed_timestamp - t).argmin()  # 0→wifiの最初のtimestampで問題が起きている\n",
    "#                 target_y.append(observed_y[idx])\n",
    "                \n",
    "#             else:\n",
    "#                 target_y.append(fitting_func(latent_x[idx]))\n",
    "\n",
    "#         assert len(target_x) == len(target_y)\n",
    "#         target_waypoint = np.stack([target_x, target_y], axis=1)\n",
    "#         target_waypoint_list.append(target_waypoint)\n",
    "\n",
    "#     target_waypoint = np.concatenate(target_waypoint_list)\n",
    "#     return target_waypoint"
   ]
  },
  {
   "cell_type": "code",
   "execution_count": 26,
   "metadata": {},
   "outputs": [],
   "source": [
    "# test_df = test_df.merge(sub, on=\"site_path_timestamp\")\n",
    "# test_df[\"path\"] = test_df[\"site_path_timestamp\"].str.split(\"_\", expand=True)[1]\n",
    "# test_df[\"timestamp\"] = test_df[\"site_path_timestamp\"].str.split(\"_\", expand=True)[2]\n",
    "# test_df['wifi_timestamp'] = test_df['timestamp'].astype(int) - test_df['time_diff']\n",
    "# test_df"
   ]
  },
  {
   "cell_type": "code",
   "execution_count": 27,
   "metadata": {},
   "outputs": [],
   "source": [
    "# # 線形補完\n",
    "# path = test_df['path'].unique()[23]  #15\n",
    "# df = test_df[test_df['path']==path]\n",
    "\n",
    "# waypoint = wifi_waypoint_by_linear_interpolation(\n",
    "#     observed_timestamp=df['wifi_timestamp'].astype(int).values, \n",
    "#     observed_x=df['x'].values,\n",
    "#     observed_y=df['y'].values, \n",
    "#     target_timestamp=df['timestamp'].astype(int).values\n",
    "#     )\n",
    "# print(len(df), len(waypoint))\n",
    "\n",
    "# import matplotlib.pyplot as plt\n",
    "# # print(df[\"timestamp\"].astype(int) - df[\"timestamp\"].astype(int).values[0])\n",
    "# plt.plot(df[\"x\"].values, df[\"y\"].values, ls='--', marker=\"o\", label='wifi')\n",
    "# plt.plot(waypoint[:,0], waypoint[:,1], ls='--', marker=\"o\", label='waypoint')\n",
    "# plt.legend()"
   ]
  },
  {
   "cell_type": "code",
   "execution_count": 28,
   "metadata": {},
   "outputs": [],
   "source": [
    "# # 線形補完でwaypointを修正\n",
    "# waypoint_dfs = []\n",
    "# for path,df in test_df.groupby('path'):  #15\n",
    "#     tmp_waypoint = wifi_waypoint_by_linear_interpolation(\n",
    "#         observed_timestamp=df['wifi_timestamp'].astype(int).values, \n",
    "#         observed_x=df['x'].values,\n",
    "#         observed_y=df['y'].values, \n",
    "#         target_timestamp=df['timestamp'].astype(int).values\n",
    "#         )\n",
    "#     df['_x'] = tmp_waypoint[:,0]\n",
    "#     df['_y'] = tmp_waypoint[:,1]\n",
    "#     waypoint_dfs.append(df)\n",
    "\n",
    "# waypoint_df = pd.concat(waypoint_dfs).reset_index(drop=True)\n",
    "# waypoint_df"
   ]
  },
  {
   "cell_type": "code",
   "execution_count": 29,
   "metadata": {},
   "outputs": [],
   "source": [
    "# import matplotlib.pyplot as plt\n",
    "# (waypoint_df['x'] - waypoint_df['_x']).hist(label='x')\n",
    "# (waypoint_df['y'] - waypoint_df['_y']).hist(label='y')\n",
    "# plt.legend()"
   ]
  },
  {
   "cell_type": "code",
   "execution_count": 30,
   "metadata": {},
   "outputs": [],
   "source": [
    "# sub = sub.merge(waypoint_df[['site_path_timestamp', '_x', '_y']], on='site_path_timestamp').set_index('site_path_timestamp')\n",
    "# sub = sub.drop(['x','y'], axis=1).rename(columns={'_x':'x', '_y':'y'})\n",
    "# sub"
   ]
  },
  {
   "cell_type": "code",
   "execution_count": 31,
   "metadata": {},
   "outputs": [],
   "source": [
    "# sub.to_csv(EXP_NAME + '_sub.csv')"
   ]
  },
  {
   "cell_type": "markdown",
   "metadata": {},
   "source": [
    "## 後処理"
   ]
  },
  {
   "cell_type": "markdown",
   "metadata": {},
   "source": [
    "## cost minimaization"
   ]
  },
  {
   "cell_type": "code",
   "execution_count": 32,
   "metadata": {},
   "outputs": [],
   "source": [
    "import multiprocessing\n",
    "import scipy.interpolate\n",
    "import scipy.sparse\n",
    "from tqdm import tqdm\n",
    "import sys\n",
    "sys.path.append('../../')\n",
    "from src.io_f import read_data_file\n",
    "from src import compute_f\n",
    "from scipy.signal import butter, lfilter"
   ]
  },
  {
   "cell_type": "code",
   "execution_count": 33,
   "metadata": {},
   "outputs": [],
   "source": [
    "import math\n",
    "\n",
    "order = 3\n",
    "fs = 50.0  # sample rate, Hz\n",
    "# fs = 100\n",
    "# cutoff = 3.667  # desired cutoff frequency of the filter, Hz\n",
    "cutoff = 3\n",
    "\n",
    "step_distance = 0.8\n",
    "w_height = 1.7\n",
    "m_trans = -5"
   ]
  },
  {
   "cell_type": "code",
   "execution_count": 34,
   "metadata": {},
   "outputs": [
    {
     "output_type": "stream",
     "name": "stderr",
     "text": [
      "<>:146: SyntaxWarning: \"is\" with a literal. Did you mean \"==\"?\n<>:146: SyntaxWarning: \"is\" with a literal. Did you mean \"==\"?\n<ipython-input-34-a1a172f865b0>:146: SyntaxWarning: \"is\" with a literal. Did you mean \"==\"?\n  if current_state is 'above':\n"
     ]
    }
   ],
   "source": [
    "def compute_rel_positions(acce_datas, ahrs_datas):\n",
    "    step_timestamps, step_indexs, step_acce_max_mins = compute_f.compute_steps(acce_datas)\n",
    "    headings = compute_f.compute_headings(ahrs_datas)\n",
    "    stride_lengths = compute_f.compute_stride_length(step_acce_max_mins)\n",
    "    step_headings = compute_f.compute_step_heading(step_timestamps, headings)\n",
    "    rel_positions = compute_f.compute_rel_positions(stride_lengths, step_headings)\n",
    "    return rel_positions\n",
    "\n",
    "\n",
    "def correct_path(args):\n",
    "    path, path_df = args\n",
    "    \n",
    "    T_ref  = path_df['timestamp'].values\n",
    "    xy_hat = path_df[['x', 'y']].values\n",
    "    example = read_data_file(root_dir/ f'indoor-location-navigation/test/{path}.txt')\n",
    "    \n",
    "    # rel_positions = compute_rel_positions(example.acce, example.ahrs)\n",
    "    # ↑を↓に置き換える\n",
    "    rel_positions1 = compute_rel_positions(example.acce, example.ahrs)\n",
    "    rel_positions2 = steps_compute_rel_positions(example)\n",
    "    rel1 = rel_positions1.copy()\n",
    "    rel2 = rel_positions2.copy()\n",
    "    rel1[:,1:] = rel_positions1[:,1:] / 2\n",
    "    rel2[:,1:] = rel_positions2[:,1:] / 2\n",
    "    rel_positions = np.vstack([rel1,rel2])\n",
    "    rel_positions = rel_positions[np.argsort(rel_positions[:, 0])]\n",
    "    \n",
    "    if T_ref[-1] > rel_positions[-1, 0]:\n",
    "        rel_positions = [np.array([[0, 0, 0]]), rel_positions, np.array([[T_ref[-1], 0, 0]])]\n",
    "    else:\n",
    "        rel_positions = [np.array([[0, 0, 0]]), rel_positions]\n",
    "    rel_positions = np.concatenate(rel_positions)\n",
    "    \n",
    "    T_rel = rel_positions[:, 0]\n",
    "    delta_xy_hat = np.diff(scipy.interpolate.interp1d(T_rel, np.cumsum(rel_positions[:, 1:3], axis=0), axis=0)(T_ref), axis=0)\n",
    "\n",
    "    N = xy_hat.shape[0]\n",
    "    delta_t = np.diff(T_ref)\n",
    "    alpha = (8.1)**(-2) * np.ones(N)\n",
    "    beta  = (0.3 + 0.3 * 1e-3 * delta_t)**(-2)\n",
    "    A = scipy.sparse.spdiags(alpha, [0], N, N)\n",
    "    B = scipy.sparse.spdiags( beta, [0], N-1, N-1)\n",
    "    D = scipy.sparse.spdiags(np.stack([-np.ones(N), np.ones(N)]), [0, 1], N-1, N)\n",
    "\n",
    "    Q = A + (D.T @ B @ D)\n",
    "    c = (A @ xy_hat) + (D.T @ (B @ delta_xy_hat))\n",
    "    xy_star = scipy.sparse.linalg.spsolve(Q, c)\n",
    "\n",
    "    return pd.DataFrame({\n",
    "        'site_path_timestamp' : path_df['site_path_timestamp'],\n",
    "        'floor' : path_df['floor'],\n",
    "        'x' : xy_star[:, 0],\n",
    "        'y' : xy_star[:, 1],\n",
    "    })\n",
    "\n",
    "\n",
    "\n",
    "def correct_path_train(args):\n",
    "    #print(args)\n",
    "    (site_id, path, floor), path_df = args\n",
    "    \n",
    "    T_ref  = path_df['timestamp'].values\n",
    "    xy_hat = path_df[['x', 'y']].values\n",
    "    \n",
    "    example = read_data_file(f'{root_dir}/indoor-location-navigation/train/{site_id}/{floor}/{path}.txt')\n",
    "    \n",
    "    # rel_positions = compute_rel_positions(example.acce, example.ahrs)\n",
    "    # ↑を↓に置き換える\n",
    "    rel_positions1 = compute_rel_positions(example.acce, example.ahrs)\n",
    "    rel_positions2 = steps_compute_rel_positions(example)\n",
    "    rel1 = rel_positions1.copy()\n",
    "    rel2 = rel_positions2.copy()\n",
    "    rel1[:,1:] = rel_positions1[:,1:] / 2\n",
    "    rel2[:,1:] = rel_positions2[:,1:] / 2\n",
    "    rel_positions = np.vstack([rel1,rel2])\n",
    "    rel_positions = rel_positions[np.argsort(rel_positions[:, 0])]\n",
    "    \n",
    "    \n",
    "    if T_ref[-1] > rel_positions[-1, 0]:\n",
    "        rel_positions = [np.array([[0, 0, 0]]), rel_positions, np.array([[T_ref[-1], 0, 0]])]\n",
    "    else:\n",
    "        rel_positions = [np.array([[0, 0, 0]]), rel_positions]\n",
    "    rel_positions = np.concatenate(rel_positions)\n",
    "    \n",
    "    T_rel = rel_positions[:, 0]\n",
    "\n",
    "    try:\n",
    "        delta_xy_hat = np.diff(scipy.interpolate.interp1d(T_rel, np.cumsum(rel_positions[:, 1:3], axis=0), axis=0)(T_ref), axis=0)\n",
    "    except:\n",
    "        return pd.DataFrame({\n",
    "            'site_path_timestamp' : path_df['site_path_timestamp'],\n",
    "            'floor' : path_df['floor'],\n",
    "            'x' : path_df['x'].to_numpy(),\n",
    "            'y' : path_df['y'].to_numpy()\n",
    "        })\n",
    "    \n",
    "\n",
    "    N = xy_hat.shape[0]\n",
    "    delta_t = np.diff(T_ref)\n",
    "    alpha = (8.1)**(-2) * np.ones(N)\n",
    "    beta  = (0.3 + 0.3 * 1e-3 * delta_t)**(-2)\n",
    "    A = scipy.sparse.spdiags(alpha, [0], N, N)\n",
    "    B = scipy.sparse.spdiags( beta, [0], N-1, N-1)\n",
    "    D = scipy.sparse.spdiags(np.stack([-np.ones(N), np.ones(N)]), [0, 1], N-1, N)\n",
    "\n",
    "    Q = A + (D.T @ B @ D)\n",
    "    c = (A @ xy_hat) + (D.T @ (B @ delta_xy_hat))\n",
    "    xy_star = scipy.sparse.linalg.spsolve(Q, c)\n",
    "\n",
    "\n",
    "    return pd.DataFrame({\n",
    "        'site_path_timestamp' : path_df['site_path_timestamp'],\n",
    "        'floor' : path_df['floor'],\n",
    "        'x' : xy_star[:, 0],\n",
    "        'y' : xy_star[:, 1],\n",
    "    })\n",
    "\n",
    "\n",
    "\n",
    "def butter_lowpass(cutoff, fs, order=5):\n",
    "    nyq = 0.5 * fs\n",
    "    normal_cutoff = cutoff / nyq\n",
    "    b, a = butter(order, normal_cutoff, btype='low', analog=False)\n",
    "    return b, a\n",
    "\n",
    "def butter_lowpass_filter(data, cutoff, fs, order=5):\n",
    "    b, a = butter_lowpass(cutoff, fs, order=order)\n",
    "    y = lfilter(b, a, data)\n",
    "    return y\n",
    "\n",
    "def peak_accel_threshold(data, timestamps, threshold):\n",
    "    d_acc = []\n",
    "    last_state = 'below'\n",
    "    crest_troughs = 0\n",
    "    crossings = []\n",
    "\n",
    "    for i, datum in enumerate(data):\n",
    "        \n",
    "        current_state = last_state\n",
    "        if datum < threshold:\n",
    "            current_state = 'below'\n",
    "        elif datum > threshold:\n",
    "            current_state = 'above'\n",
    "\n",
    "        if current_state is not last_state:\n",
    "            if current_state is 'above':\n",
    "                crossing = [timestamps[i], threshold]\n",
    "                crossings.append(crossing)\n",
    "            else:\n",
    "                crossing = [timestamps[i], threshold]\n",
    "                crossings.append(crossing)\n",
    "\n",
    "            crest_troughs += 1\n",
    "        last_state = current_state\n",
    "    return np.array(crossings)\n"
   ]
  },
  {
   "cell_type": "code",
   "execution_count": 35,
   "metadata": {},
   "outputs": [],
   "source": [
    "def steps_compute_rel_positions(sample_file):\n",
    "    \n",
    "    mix_acce = np.sqrt(sample_file.acce[:,1:2]**2 + sample_file.acce[:,2:3]**2 + sample_file.acce[:,3:4]**2)\n",
    "    mix_acce = np.concatenate([sample_file.acce[:,0:1], mix_acce], 1)\n",
    "    mix_df = pd.DataFrame(mix_acce)\n",
    "    mix_df.columns = [\"timestamp\",\"acce\"]\n",
    "    \n",
    "    filtered = butter_lowpass_filter(mix_df[\"acce\"], cutoff, fs, order)\n",
    "\n",
    "    threshold = filtered.mean() * 1.1\n",
    "    crossings = peak_accel_threshold(filtered, mix_df[\"timestamp\"], threshold)\n",
    "\n",
    "    step_sum = len(crossings)/2\n",
    "    distance = w_height * 0.4 * step_sum\n",
    "\n",
    "    mag_df = pd.DataFrame(sample_file.magn)\n",
    "    mag_df.columns = [\"timestamp\",\"x\",\"y\",\"z\"]\n",
    "    \n",
    "    acce_df = pd.DataFrame(sample_file.acce)\n",
    "    acce_df.columns = [\"timestamp\",\"ax\",\"ay\",\"az\"]\n",
    "    \n",
    "    mag_df = pd.merge(mag_df,acce_df,on=\"timestamp\")\n",
    "    mag_df.dropna()\n",
    "    \n",
    "    time_di_list = []\n",
    "\n",
    "    for i in mag_df.iterrows():\n",
    "\n",
    "        gx,gy,gz = i[1][1],i[1][2],i[1][3]\n",
    "        ax,ay,az = i[1][4],i[1][5],i[1][6]\n",
    "\n",
    "        roll = math.atan2(ay,az)\n",
    "        pitch = math.atan2(-1*ax , (ay * math.sin(roll) + az * math.cos(roll)))\n",
    "\n",
    "        q = m_trans - math.degrees(math.atan2(\n",
    "            (gz*math.sin(roll)-gy*math.cos(roll)),(gx*math.cos(pitch) + gy*math.sin(roll)*math.sin(pitch) + gz*math.sin(pitch)*math.cos(roll))\n",
    "        )) -90\n",
    "        if q <= 0:\n",
    "            q += 360\n",
    "        time_di_list.append((i[1][0],q))\n",
    "\n",
    "    d_list = [x[1] for x in time_di_list]\n",
    "    \n",
    "    steps = []\n",
    "    step_time = []\n",
    "    di_dict = dict(time_di_list)\n",
    "\n",
    "    for n,i in enumerate(crossings[:,:1]):\n",
    "        if n % 2 == 1:\n",
    "            continue\n",
    "        direct_now = di_dict[i[0]]\n",
    "        dx = math.sin(math.radians(direct_now))\n",
    "        dy = math.cos(math.radians(direct_now))\n",
    "#         print(int(n/2+1),\"歩目/x:\",dx,\"/y:\",dy,\"/角度：\",direct_now)\n",
    "        steps.append((i[0],dx,dy))\n",
    "        step_time.append(i[0])\n",
    "    \n",
    "        step_dtime = np.diff(step_time)/1000\n",
    "        step_dtime = step_dtime.tolist()\n",
    "        step_dtime.insert(0,5)\n",
    "        \n",
    "        rel_position = []\n",
    "\n",
    "        wp_idx = 0\n",
    "#         print(\"WP:\",round(sample_file.waypoint[0,1],3),round(sample_file.waypoint[0,2],3),sample_file.waypoint[0,0])\n",
    "#         print(\"------------------\")\n",
    "        for p,i in enumerate(steps):\n",
    "            step_distance = 0\n",
    "            if step_dtime[p] >= 1:\n",
    "                step_distance = w_height*0.25\n",
    "            elif step_dtime[p] >= 0.75:\n",
    "                step_distance = w_height*0.3\n",
    "            elif step_dtime[p] >= 0.5:\n",
    "                step_distance = w_height*0.4\n",
    "            elif step_dtime[p] >= 0.35:\n",
    "                step_distance = w_height*0.45\n",
    "            elif step_dtime[p] >= 0.2:\n",
    "                step_distance = w_height*0.5\n",
    "            else:\n",
    "                step_distance = w_height*0.4\n",
    "\n",
    "#             step_x += i[1]*step_distance\n",
    "#             step_y += i[2]*step_distance\n",
    "            \n",
    "            rel_position.append([i[0], i[1]*step_distance, i[2]*step_distance])\n",
    "#     print(rel_position)\n",
    "    \n",
    "    return np.array(rel_position)"
   ]
  },
  {
   "cell_type": "code",
   "execution_count": 36,
   "metadata": {},
   "outputs": [
    {
     "output_type": "stream",
     "name": "stderr",
     "text": [
      "10814it [05:24, 33.38it/s]\n",
      "CPU times: user 52.9 s, sys: 11.2 s, total: 1min 4s\n",
      "Wall time: 5min 27s\n"
     ]
    },
    {
     "output_type": "execute_result",
     "data": {
      "text/plain": [
       "            timestamp   target_x    target_y  floor floor_str  \\\n",
       "0       1561368762838   78.21819   38.999737    2.0        F3   \n",
       "1       1561368762838   78.21819   38.999737    2.0        F3   \n",
       "2       1561368774057   76.25184   30.510840    2.0        F3   \n",
       "3       1561368774057   76.25184   30.510840    2.0        F3   \n",
       "4       1561368774057   76.25184   30.510840    2.0        F3   \n",
       "...               ...        ...         ...    ...       ...   \n",
       "255883  1574420742502  193.20488  108.001520   -1.0        B1   \n",
       "255884  1574420742502  193.20488  108.001520   -1.0        B1   \n",
       "255885  1574420753754  204.29349  107.835120   -1.0        B1   \n",
       "255886  1574420753754  204.29349  107.835120   -1.0        B1   \n",
       "255887  1574420753754  204.29349  107.835120   -1.0        B1   \n",
       "\n",
       "                            path  site_id               site_id_str  \\\n",
       "0       5d10a1669c50c70008fe8977        0  5a0546857ecc773753327266   \n",
       "1       5d10a1669c50c70008fe8977        0  5a0546857ecc773753327266   \n",
       "2       5d10a1669c50c70008fe8977        0  5a0546857ecc773753327266   \n",
       "3       5d10a1669c50c70008fe8977        0  5a0546857ecc773753327266   \n",
       "4       5d10a1669c50c70008fe8977        0  5a0546857ecc773753327266   \n",
       "...                          ...      ...                       ...   \n",
       "255883  5dd7c119c5b77e0006b16b99       23  5dc8cea7659e181adb076a3f   \n",
       "255884  5dd7c119c5b77e0006b16b99       23  5dc8cea7659e181adb076a3f   \n",
       "255885  5dd7c119c5b77e0006b16b99       23  5dc8cea7659e181adb076a3f   \n",
       "255886  5dd7c119c5b77e0006b16b99       23  5dc8cea7659e181adb076a3f   \n",
       "255887  5dd7c119c5b77e0006b16b99       23  5dc8cea7659e181adb076a3f   \n",
       "\n",
       "             oof_x       oof_y  oof_floor  \\\n",
       "0        83.256050   33.078526        0.0   \n",
       "1        81.054611   29.842922        0.0   \n",
       "2        84.058441   28.704632        0.0   \n",
       "3        81.806900   27.245537        0.0   \n",
       "4        85.220657   21.922276        0.0   \n",
       "...            ...         ...        ...   \n",
       "255883  193.828201  103.797684        0.0   \n",
       "255884  195.764313  108.264069        0.0   \n",
       "255885  194.731476   99.844894        0.0   \n",
       "255886  194.066635   99.404266        0.0   \n",
       "255887  192.264389  101.778488        0.0   \n",
       "\n",
       "                                      site_path_timestamp   oof_min_x  \\\n",
       "0       5a0546857ecc773753327266_5d10a1669c50c70008fe8...   81.840969   \n",
       "1       5a0546857ecc773753327266_5d10a1669c50c70008fe8...   81.839028   \n",
       "2       5a0546857ecc773753327266_5d10a1669c50c70008fe8...   82.242492   \n",
       "3       5a0546857ecc773753327266_5d10a1669c50c70008fe8...   82.239136   \n",
       "4       5a0546857ecc773753327266_5d10a1669c50c70008fe8...   82.236373   \n",
       "...                                                   ...         ...   \n",
       "255883  5dc8cea7659e181adb076a3f_5dd7c119c5b77e0006b16...  194.044244   \n",
       "255884  5dc8cea7659e181adb076a3f_5dd7c119c5b77e0006b16...  194.021596   \n",
       "255885  5dc8cea7659e181adb076a3f_5dd7c119c5b77e0006b16...  199.787363   \n",
       "255886  5dc8cea7659e181adb076a3f_5dd7c119c5b77e0006b16...  199.769260   \n",
       "255887  5dc8cea7659e181adb076a3f_5dd7c119c5b77e0006b16...  199.758979   \n",
       "\n",
       "         oof_min_y  \n",
       "0        34.800399  \n",
       "1        34.802761  \n",
       "2        26.188168  \n",
       "3        26.193882  \n",
       "4        26.198153  \n",
       "...            ...  \n",
       "255883  104.570772  \n",
       "255884  104.559175  \n",
       "255885  104.403577  \n",
       "255886  104.393152  \n",
       "255887  104.389570  \n",
       "\n",
       "[255888 rows x 14 columns]"
      ],
      "text/html": "<div>\n<style scoped>\n    .dataframe tbody tr th:only-of-type {\n        vertical-align: middle;\n    }\n\n    .dataframe tbody tr th {\n        vertical-align: top;\n    }\n\n    .dataframe thead th {\n        text-align: right;\n    }\n</style>\n<table border=\"1\" class=\"dataframe\">\n  <thead>\n    <tr style=\"text-align: right;\">\n      <th></th>\n      <th>timestamp</th>\n      <th>target_x</th>\n      <th>target_y</th>\n      <th>floor</th>\n      <th>floor_str</th>\n      <th>path</th>\n      <th>site_id</th>\n      <th>site_id_str</th>\n      <th>oof_x</th>\n      <th>oof_y</th>\n      <th>oof_floor</th>\n      <th>site_path_timestamp</th>\n      <th>oof_min_x</th>\n      <th>oof_min_y</th>\n    </tr>\n  </thead>\n  <tbody>\n    <tr>\n      <th>0</th>\n      <td>1561368762838</td>\n      <td>78.21819</td>\n      <td>38.999737</td>\n      <td>2.0</td>\n      <td>F3</td>\n      <td>5d10a1669c50c70008fe8977</td>\n      <td>0</td>\n      <td>5a0546857ecc773753327266</td>\n      <td>83.256050</td>\n      <td>33.078526</td>\n      <td>0.0</td>\n      <td>5a0546857ecc773753327266_5d10a1669c50c70008fe8...</td>\n      <td>81.840969</td>\n      <td>34.800399</td>\n    </tr>\n    <tr>\n      <th>1</th>\n      <td>1561368762838</td>\n      <td>78.21819</td>\n      <td>38.999737</td>\n      <td>2.0</td>\n      <td>F3</td>\n      <td>5d10a1669c50c70008fe8977</td>\n      <td>0</td>\n      <td>5a0546857ecc773753327266</td>\n      <td>81.054611</td>\n      <td>29.842922</td>\n      <td>0.0</td>\n      <td>5a0546857ecc773753327266_5d10a1669c50c70008fe8...</td>\n      <td>81.839028</td>\n      <td>34.802761</td>\n    </tr>\n    <tr>\n      <th>2</th>\n      <td>1561368774057</td>\n      <td>76.25184</td>\n      <td>30.510840</td>\n      <td>2.0</td>\n      <td>F3</td>\n      <td>5d10a1669c50c70008fe8977</td>\n      <td>0</td>\n      <td>5a0546857ecc773753327266</td>\n      <td>84.058441</td>\n      <td>28.704632</td>\n      <td>0.0</td>\n      <td>5a0546857ecc773753327266_5d10a1669c50c70008fe8...</td>\n      <td>82.242492</td>\n      <td>26.188168</td>\n    </tr>\n    <tr>\n      <th>3</th>\n      <td>1561368774057</td>\n      <td>76.25184</td>\n      <td>30.510840</td>\n      <td>2.0</td>\n      <td>F3</td>\n      <td>5d10a1669c50c70008fe8977</td>\n      <td>0</td>\n      <td>5a0546857ecc773753327266</td>\n      <td>81.806900</td>\n      <td>27.245537</td>\n      <td>0.0</td>\n      <td>5a0546857ecc773753327266_5d10a1669c50c70008fe8...</td>\n      <td>82.239136</td>\n      <td>26.193882</td>\n    </tr>\n    <tr>\n      <th>4</th>\n      <td>1561368774057</td>\n      <td>76.25184</td>\n      <td>30.510840</td>\n      <td>2.0</td>\n      <td>F3</td>\n      <td>5d10a1669c50c70008fe8977</td>\n      <td>0</td>\n      <td>5a0546857ecc773753327266</td>\n      <td>85.220657</td>\n      <td>21.922276</td>\n      <td>0.0</td>\n      <td>5a0546857ecc773753327266_5d10a1669c50c70008fe8...</td>\n      <td>82.236373</td>\n      <td>26.198153</td>\n    </tr>\n    <tr>\n      <th>...</th>\n      <td>...</td>\n      <td>...</td>\n      <td>...</td>\n      <td>...</td>\n      <td>...</td>\n      <td>...</td>\n      <td>...</td>\n      <td>...</td>\n      <td>...</td>\n      <td>...</td>\n      <td>...</td>\n      <td>...</td>\n      <td>...</td>\n      <td>...</td>\n    </tr>\n    <tr>\n      <th>255883</th>\n      <td>1574420742502</td>\n      <td>193.20488</td>\n      <td>108.001520</td>\n      <td>-1.0</td>\n      <td>B1</td>\n      <td>5dd7c119c5b77e0006b16b99</td>\n      <td>23</td>\n      <td>5dc8cea7659e181adb076a3f</td>\n      <td>193.828201</td>\n      <td>103.797684</td>\n      <td>0.0</td>\n      <td>5dc8cea7659e181adb076a3f_5dd7c119c5b77e0006b16...</td>\n      <td>194.044244</td>\n      <td>104.570772</td>\n    </tr>\n    <tr>\n      <th>255884</th>\n      <td>1574420742502</td>\n      <td>193.20488</td>\n      <td>108.001520</td>\n      <td>-1.0</td>\n      <td>B1</td>\n      <td>5dd7c119c5b77e0006b16b99</td>\n      <td>23</td>\n      <td>5dc8cea7659e181adb076a3f</td>\n      <td>195.764313</td>\n      <td>108.264069</td>\n      <td>0.0</td>\n      <td>5dc8cea7659e181adb076a3f_5dd7c119c5b77e0006b16...</td>\n      <td>194.021596</td>\n      <td>104.559175</td>\n    </tr>\n    <tr>\n      <th>255885</th>\n      <td>1574420753754</td>\n      <td>204.29349</td>\n      <td>107.835120</td>\n      <td>-1.0</td>\n      <td>B1</td>\n      <td>5dd7c119c5b77e0006b16b99</td>\n      <td>23</td>\n      <td>5dc8cea7659e181adb076a3f</td>\n      <td>194.731476</td>\n      <td>99.844894</td>\n      <td>0.0</td>\n      <td>5dc8cea7659e181adb076a3f_5dd7c119c5b77e0006b16...</td>\n      <td>199.787363</td>\n      <td>104.403577</td>\n    </tr>\n    <tr>\n      <th>255886</th>\n      <td>1574420753754</td>\n      <td>204.29349</td>\n      <td>107.835120</td>\n      <td>-1.0</td>\n      <td>B1</td>\n      <td>5dd7c119c5b77e0006b16b99</td>\n      <td>23</td>\n      <td>5dc8cea7659e181adb076a3f</td>\n      <td>194.066635</td>\n      <td>99.404266</td>\n      <td>0.0</td>\n      <td>5dc8cea7659e181adb076a3f_5dd7c119c5b77e0006b16...</td>\n      <td>199.769260</td>\n      <td>104.393152</td>\n    </tr>\n    <tr>\n      <th>255887</th>\n      <td>1574420753754</td>\n      <td>204.29349</td>\n      <td>107.835120</td>\n      <td>-1.0</td>\n      <td>B1</td>\n      <td>5dd7c119c5b77e0006b16b99</td>\n      <td>23</td>\n      <td>5dc8cea7659e181adb076a3f</td>\n      <td>192.264389</td>\n      <td>101.778488</td>\n      <td>0.0</td>\n      <td>5dc8cea7659e181adb076a3f_5dd7c119c5b77e0006b16...</td>\n      <td>199.758979</td>\n      <td>104.389570</td>\n    </tr>\n  </tbody>\n</table>\n<p>255888 rows × 14 columns</p>\n</div>"
     },
     "metadata": {},
     "execution_count": 36
    }
   ],
   "source": [
    "%%time\n",
    "\n",
    "oofs_df = oofs_df.rename(columns={'x':'target_x', 'y':'target_y', 'oof_x':'x', 'oof_y':'y'})\n",
    "processes = multiprocessing.cpu_count()\n",
    "with multiprocessing.Pool(processes=processes) as pool:\n",
    "    dfs = pool.imap_unordered(correct_path_train, oofs_df.groupby(['site_id_str', 'path', 'floor_str']))\n",
    "    dfs = tqdm(dfs)\n",
    "    dfs = list(dfs)\n",
    "\n",
    "oof_post_process = pd.concat(dfs).sort_index()\n",
    "oofs_df['oof_min_x'] = oof_post_process['x']\n",
    "oofs_df['oof_min_y'] = oof_post_process['y']\n",
    "\n",
    "# 元に戻す\n",
    "oofs_df = oofs_df.rename(columns={'x':'oof_x', 'y':'oof_y'})\n",
    "oofs_df"
   ]
  },
  {
   "cell_type": "code",
   "execution_count": 37,
   "metadata": {},
   "outputs": [
    {
     "output_type": "stream",
     "name": "stdout",
     "text": [
      "(after cost-min) CV:5.945718402158516\n"
     ]
    }
   ],
   "source": [
    "# waypoint補正前のx,yでの評価\n",
    "oof_score_post_process = mean_position_error(\n",
    "    oofs_df['oof_min_x'], oofs_df['oof_min_y'], 0, \n",
    "    oofs_df['target_x'], oofs_df['target_y'], 0\n",
    "    )\n",
    "wandb_config['CV_cost'] = oof_score_post_process\n",
    "print(f\"(after cost-min) CV:{oof_score_post_process}\")"
   ]
  },
  {
   "cell_type": "code",
   "execution_count": null,
   "metadata": {},
   "outputs": [],
   "source": [
    "# # waypoint補正後のx,yでの評価\n",
    "# oof_score_post_process = mean_position_error(\n",
    "#     oofs_df['oof_min_x'], oofs_df['oof_min_y'], 0, \n",
    "#     oofs_df['wifi_x'], oofs_df['wifi_y'], 0\n",
    "#     )\n",
    "# print(f\"(after cost-min) CV:{oof_score_post_process}\")"
   ]
  },
  {
   "cell_type": "code",
   "execution_count": null,
   "metadata": {},
   "outputs": [],
   "source": [
    "# x_pred = oofs_df[\"oof_min_x\"]\n",
    "# y_pred = oofs_df[\"oof_min_y\"]\n",
    "# f_pred = oofs_df[\"floor\"]  # 正解を与える\n",
    "# x_true = oofs_df[\"wifi_x\"]\n",
    "# y_true = oofs_df[\"wifi_y\"]\n",
    "# f_true = oofs_df[\"floor\"]\n",
    "# site_arr = oofs_df[\"site_id_str\"]\n",
    "# df_result_site2 = calc_metrics_site(x_pred, y_pred, f_pred, x_true, y_true, f_true, site_arr)\n",
    "# df_result_site2.style.bar(subset=['n_sample', 'score'], color=['teal'])"
   ]
  },
  {
   "cell_type": "code",
   "execution_count": null,
   "metadata": {},
   "outputs": [],
   "source": [
    "# site_eval_report(df_result_site2)"
   ]
  },
  {
   "cell_type": "code",
   "execution_count": 38,
   "metadata": {},
   "outputs": [
    {
     "output_type": "execute_result",
     "data": {
      "text/plain": [
       "                                     site_path_timestamp  floor   x   y  \\\n",
       "0      5a0546857ecc773753327266_046cfa46be49fc1083481...      0 NaN NaN   \n",
       "1      5a0546857ecc773753327266_046cfa46be49fc1083481...      0 NaN NaN   \n",
       "2      5a0546857ecc773753327266_046cfa46be49fc1083481...      0 NaN NaN   \n",
       "3      5a0546857ecc773753327266_046cfa46be49fc1083481...      0 NaN NaN   \n",
       "4      5a0546857ecc773753327266_046cfa46be49fc1083481...      0 NaN NaN   \n",
       "...                                                  ...    ...  ..  ..   \n",
       "10128  5dc8cea7659e181adb076a3f_fd64de8c4a2fc5ebb0e9f...      5 NaN NaN   \n",
       "10129  5dc8cea7659e181adb076a3f_fd64de8c4a2fc5ebb0e9f...      5 NaN NaN   \n",
       "10130  5dc8cea7659e181adb076a3f_fd64de8c4a2fc5ebb0e9f...      5 NaN NaN   \n",
       "10131  5dc8cea7659e181adb076a3f_fd64de8c4a2fc5ebb0e9f...      5 NaN NaN   \n",
       "10132  5dc8cea7659e181adb076a3f_fd64de8c4a2fc5ebb0e9f...      5 NaN NaN   \n",
       "\n",
       "                           site                      path  timestamp  \n",
       "0      5a0546857ecc773753327266  046cfa46be49fc10834815c6        9.0  \n",
       "1      5a0546857ecc773753327266  046cfa46be49fc10834815c6     9017.0  \n",
       "2      5a0546857ecc773753327266  046cfa46be49fc10834815c6    15326.0  \n",
       "3      5a0546857ecc773753327266  046cfa46be49fc10834815c6    18763.0  \n",
       "4      5a0546857ecc773753327266  046cfa46be49fc10834815c6    22328.0  \n",
       "...                         ...                       ...        ...  \n",
       "10128  5dc8cea7659e181adb076a3f  fd64de8c4a2fc5ebb0e9f412    82589.0  \n",
       "10129  5dc8cea7659e181adb076a3f  fd64de8c4a2fc5ebb0e9f412    85758.0  \n",
       "10130  5dc8cea7659e181adb076a3f  fd64de8c4a2fc5ebb0e9f412    90895.0  \n",
       "10131  5dc8cea7659e181adb076a3f  fd64de8c4a2fc5ebb0e9f412    96899.0  \n",
       "10132  5dc8cea7659e181adb076a3f  fd64de8c4a2fc5ebb0e9f412   100447.0  \n",
       "\n",
       "[10133 rows x 7 columns]"
      ],
      "text/html": "<div>\n<style scoped>\n    .dataframe tbody tr th:only-of-type {\n        vertical-align: middle;\n    }\n\n    .dataframe tbody tr th {\n        vertical-align: top;\n    }\n\n    .dataframe thead th {\n        text-align: right;\n    }\n</style>\n<table border=\"1\" class=\"dataframe\">\n  <thead>\n    <tr style=\"text-align: right;\">\n      <th></th>\n      <th>site_path_timestamp</th>\n      <th>floor</th>\n      <th>x</th>\n      <th>y</th>\n      <th>site</th>\n      <th>path</th>\n      <th>timestamp</th>\n    </tr>\n  </thead>\n  <tbody>\n    <tr>\n      <th>0</th>\n      <td>5a0546857ecc773753327266_046cfa46be49fc1083481...</td>\n      <td>0</td>\n      <td>NaN</td>\n      <td>NaN</td>\n      <td>5a0546857ecc773753327266</td>\n      <td>046cfa46be49fc10834815c6</td>\n      <td>9.0</td>\n    </tr>\n    <tr>\n      <th>1</th>\n      <td>5a0546857ecc773753327266_046cfa46be49fc1083481...</td>\n      <td>0</td>\n      <td>NaN</td>\n      <td>NaN</td>\n      <td>5a0546857ecc773753327266</td>\n      <td>046cfa46be49fc10834815c6</td>\n      <td>9017.0</td>\n    </tr>\n    <tr>\n      <th>2</th>\n      <td>5a0546857ecc773753327266_046cfa46be49fc1083481...</td>\n      <td>0</td>\n      <td>NaN</td>\n      <td>NaN</td>\n      <td>5a0546857ecc773753327266</td>\n      <td>046cfa46be49fc10834815c6</td>\n      <td>15326.0</td>\n    </tr>\n    <tr>\n      <th>3</th>\n      <td>5a0546857ecc773753327266_046cfa46be49fc1083481...</td>\n      <td>0</td>\n      <td>NaN</td>\n      <td>NaN</td>\n      <td>5a0546857ecc773753327266</td>\n      <td>046cfa46be49fc10834815c6</td>\n      <td>18763.0</td>\n    </tr>\n    <tr>\n      <th>4</th>\n      <td>5a0546857ecc773753327266_046cfa46be49fc1083481...</td>\n      <td>0</td>\n      <td>NaN</td>\n      <td>NaN</td>\n      <td>5a0546857ecc773753327266</td>\n      <td>046cfa46be49fc10834815c6</td>\n      <td>22328.0</td>\n    </tr>\n    <tr>\n      <th>...</th>\n      <td>...</td>\n      <td>...</td>\n      <td>...</td>\n      <td>...</td>\n      <td>...</td>\n      <td>...</td>\n      <td>...</td>\n    </tr>\n    <tr>\n      <th>10128</th>\n      <td>5dc8cea7659e181adb076a3f_fd64de8c4a2fc5ebb0e9f...</td>\n      <td>5</td>\n      <td>NaN</td>\n      <td>NaN</td>\n      <td>5dc8cea7659e181adb076a3f</td>\n      <td>fd64de8c4a2fc5ebb0e9f412</td>\n      <td>82589.0</td>\n    </tr>\n    <tr>\n      <th>10129</th>\n      <td>5dc8cea7659e181adb076a3f_fd64de8c4a2fc5ebb0e9f...</td>\n      <td>5</td>\n      <td>NaN</td>\n      <td>NaN</td>\n      <td>5dc8cea7659e181adb076a3f</td>\n      <td>fd64de8c4a2fc5ebb0e9f412</td>\n      <td>85758.0</td>\n    </tr>\n    <tr>\n      <th>10130</th>\n      <td>5dc8cea7659e181adb076a3f_fd64de8c4a2fc5ebb0e9f...</td>\n      <td>5</td>\n      <td>NaN</td>\n      <td>NaN</td>\n      <td>5dc8cea7659e181adb076a3f</td>\n      <td>fd64de8c4a2fc5ebb0e9f412</td>\n      <td>90895.0</td>\n    </tr>\n    <tr>\n      <th>10131</th>\n      <td>5dc8cea7659e181adb076a3f_fd64de8c4a2fc5ebb0e9f...</td>\n      <td>5</td>\n      <td>NaN</td>\n      <td>NaN</td>\n      <td>5dc8cea7659e181adb076a3f</td>\n      <td>fd64de8c4a2fc5ebb0e9f412</td>\n      <td>96899.0</td>\n    </tr>\n    <tr>\n      <th>10132</th>\n      <td>5dc8cea7659e181adb076a3f_fd64de8c4a2fc5ebb0e9f...</td>\n      <td>5</td>\n      <td>NaN</td>\n      <td>NaN</td>\n      <td>5dc8cea7659e181adb076a3f</td>\n      <td>fd64de8c4a2fc5ebb0e9f412</td>\n      <td>100447.0</td>\n    </tr>\n  </tbody>\n</table>\n<p>10133 rows × 7 columns</p>\n</div>"
     },
     "metadata": {},
     "execution_count": 38
    }
   ],
   "source": [
    "sub = sub.reset_index()\n",
    "sub_org = sub.copy()\n",
    "tmp = sub['site_path_timestamp'].apply(lambda s : pd.Series(s.split('_')))\n",
    "sub['site'] = tmp[0]\n",
    "sub['path'] = tmp[1]\n",
    "sub['timestamp'] = tmp[2].astype(float)\n",
    "sub"
   ]
  },
  {
   "cell_type": "code",
   "execution_count": 39,
   "metadata": {},
   "outputs": [
    {
     "output_type": "stream",
     "name": "stderr",
     "text": [
      "626it [00:49, 12.60it/s]\n"
     ]
    },
    {
     "output_type": "execute_result",
     "data": {
      "text/plain": [
       "                                     site_path_timestamp  floor   x   y\n",
       "0      5a0546857ecc773753327266_046cfa46be49fc1083481...      0 NaN NaN\n",
       "1      5a0546857ecc773753327266_046cfa46be49fc1083481...      0 NaN NaN\n",
       "2      5a0546857ecc773753327266_046cfa46be49fc1083481...      0 NaN NaN\n",
       "3      5a0546857ecc773753327266_046cfa46be49fc1083481...      0 NaN NaN\n",
       "4      5a0546857ecc773753327266_046cfa46be49fc1083481...      0 NaN NaN\n",
       "...                                                  ...    ...  ..  ..\n",
       "10128  5dc8cea7659e181adb076a3f_fd64de8c4a2fc5ebb0e9f...      5 NaN NaN\n",
       "10129  5dc8cea7659e181adb076a3f_fd64de8c4a2fc5ebb0e9f...      5 NaN NaN\n",
       "10130  5dc8cea7659e181adb076a3f_fd64de8c4a2fc5ebb0e9f...      5 NaN NaN\n",
       "10131  5dc8cea7659e181adb076a3f_fd64de8c4a2fc5ebb0e9f...      5 NaN NaN\n",
       "10132  5dc8cea7659e181adb076a3f_fd64de8c4a2fc5ebb0e9f...      5 NaN NaN\n",
       "\n",
       "[10133 rows x 4 columns]"
      ],
      "text/html": "<div>\n<style scoped>\n    .dataframe tbody tr th:only-of-type {\n        vertical-align: middle;\n    }\n\n    .dataframe tbody tr th {\n        vertical-align: top;\n    }\n\n    .dataframe thead th {\n        text-align: right;\n    }\n</style>\n<table border=\"1\" class=\"dataframe\">\n  <thead>\n    <tr style=\"text-align: right;\">\n      <th></th>\n      <th>site_path_timestamp</th>\n      <th>floor</th>\n      <th>x</th>\n      <th>y</th>\n    </tr>\n  </thead>\n  <tbody>\n    <tr>\n      <th>0</th>\n      <td>5a0546857ecc773753327266_046cfa46be49fc1083481...</td>\n      <td>0</td>\n      <td>NaN</td>\n      <td>NaN</td>\n    </tr>\n    <tr>\n      <th>1</th>\n      <td>5a0546857ecc773753327266_046cfa46be49fc1083481...</td>\n      <td>0</td>\n      <td>NaN</td>\n      <td>NaN</td>\n    </tr>\n    <tr>\n      <th>2</th>\n      <td>5a0546857ecc773753327266_046cfa46be49fc1083481...</td>\n      <td>0</td>\n      <td>NaN</td>\n      <td>NaN</td>\n    </tr>\n    <tr>\n      <th>3</th>\n      <td>5a0546857ecc773753327266_046cfa46be49fc1083481...</td>\n      <td>0</td>\n      <td>NaN</td>\n      <td>NaN</td>\n    </tr>\n    <tr>\n      <th>4</th>\n      <td>5a0546857ecc773753327266_046cfa46be49fc1083481...</td>\n      <td>0</td>\n      <td>NaN</td>\n      <td>NaN</td>\n    </tr>\n    <tr>\n      <th>...</th>\n      <td>...</td>\n      <td>...</td>\n      <td>...</td>\n      <td>...</td>\n    </tr>\n    <tr>\n      <th>10128</th>\n      <td>5dc8cea7659e181adb076a3f_fd64de8c4a2fc5ebb0e9f...</td>\n      <td>5</td>\n      <td>NaN</td>\n      <td>NaN</td>\n    </tr>\n    <tr>\n      <th>10129</th>\n      <td>5dc8cea7659e181adb076a3f_fd64de8c4a2fc5ebb0e9f...</td>\n      <td>5</td>\n      <td>NaN</td>\n      <td>NaN</td>\n    </tr>\n    <tr>\n      <th>10130</th>\n      <td>5dc8cea7659e181adb076a3f_fd64de8c4a2fc5ebb0e9f...</td>\n      <td>5</td>\n      <td>NaN</td>\n      <td>NaN</td>\n    </tr>\n    <tr>\n      <th>10131</th>\n      <td>5dc8cea7659e181adb076a3f_fd64de8c4a2fc5ebb0e9f...</td>\n      <td>5</td>\n      <td>NaN</td>\n      <td>NaN</td>\n    </tr>\n    <tr>\n      <th>10132</th>\n      <td>5dc8cea7659e181adb076a3f_fd64de8c4a2fc5ebb0e9f...</td>\n      <td>5</td>\n      <td>NaN</td>\n      <td>NaN</td>\n    </tr>\n  </tbody>\n</table>\n<p>10133 rows × 4 columns</p>\n</div>"
     },
     "metadata": {},
     "execution_count": 39
    }
   ],
   "source": [
    "processes = multiprocessing.cpu_count()\n",
    "with multiprocessing.Pool(processes=processes) as pool:\n",
    "    dfs = pool.imap_unordered(correct_path, sub.groupby(['path']))\n",
    "    dfs = tqdm(dfs)\n",
    "    dfs = list(dfs)\n",
    "new_sub = pd.concat(dfs).sort_values('site_path_timestamp')\n",
    "new_sub"
   ]
  },
  {
   "cell_type": "code",
   "execution_count": 40,
   "metadata": {},
   "outputs": [],
   "source": [
    "new_sub.to_csv(RUN_NAME + '_cost_sub.csv', index=False)"
   ]
  },
  {
   "cell_type": "markdown",
   "metadata": {},
   "source": [
    "## snap to grid"
   ]
  },
  {
   "cell_type": "code",
   "execution_count": 41,
   "metadata": {},
   "outputs": [],
   "source": [
    "from scipy.spatial.distance import cdist\n",
    "def sub_process(sub, train_waypoints):\n",
    "    train_waypoints['isTrainWaypoint'] = True\n",
    "    sub = split_col(sub[['site_path_timestamp','floor','x','y']]).copy()\n",
    "    sub = sub.merge(train_waypoints[['site','floorNo','floor']].drop_duplicates(), how='left')\n",
    "    sub = sub.merge(\n",
    "        train_waypoints[['x','y','site','floor','isTrainWaypoint']].drop_duplicates(),\n",
    "        how='left',\n",
    "        on=['site','x','y','floor']\n",
    "             )\n",
    "    sub['isTrainWaypoint'] = sub['isTrainWaypoint'].fillna(False)\n",
    "    return sub.copy()\n",
    "\n",
    "def split_col(df):\n",
    "    df = pd.concat([\n",
    "        df['site_path_timestamp'].str.split('_', expand=True) \\\n",
    "        .rename(columns={0:'site',\n",
    "                         1:'path',\n",
    "                         2:'timestamp'}),\n",
    "        df\n",
    "    ], axis=1).copy()\n",
    "    return df\n",
    "\n",
    "floor_map = {\"B2\":-2, \"B1\":-1, \"F1\":0, \"F2\": 1, \"F3\":2,\n",
    "             \"F4\":3, \"F5\":4, \"F6\":5, \"F7\":6,\"F8\":7,\"F9\":8,\n",
    "             \"1F\":0, \"2F\":1, \"3F\":2, \"4F\":3, \"5F\":4, \"6F\":5,\n",
    "             \"7F\":6, \"8F\": 7, \"9F\":8}\n",
    "\n",
    "def add_xy(df):\n",
    "    df['xy'] = [(x, y) for x,y in zip(df['x'], df['y'])]\n",
    "    return df\n",
    "\n",
    "def closest_point(point, points):\n",
    "    \"\"\" Find closest point from a list of points. \"\"\"\n",
    "    return points[cdist([point], points).argmin()]\n",
    "\n",
    "def snap_to_grid(sub, threshold):\n",
    "    \"\"\"\n",
    "    Snap to grid if within a threshold.\n",
    "    \n",
    "    x, y are the predicted points.\n",
    "    x_, y_ are the closest grid points.\n",
    "    _x_, _y_ are the new predictions after post processing.\n",
    "    \"\"\"\n",
    "    sub['_x_'] = sub['x']\n",
    "    sub['_y_'] = sub['y']\n",
    "    sub.loc[sub['dist'] < threshold, '_x_'] = sub.loc[sub['dist'] < threshold]['x_']\n",
    "    sub.loc[sub['dist'] < threshold, '_y_'] = sub.loc[sub['dist'] < threshold]['y_']\n",
    "    return sub.copy()\n"
   ]
  },
  {
   "cell_type": "code",
   "execution_count": 42,
   "metadata": {},
   "outputs": [
    {
     "output_type": "stream",
     "name": "stderr",
     "text": [
      "100%|██████████| 139/139 [01:37<00:00,  1.42it/s]\n"
     ]
    },
    {
     "output_type": "execute_result",
     "data": {
      "text/plain": [
       "                            site                      path      timestamp  \\\n",
       "0       5a0546857ecc773753327266  5d10a1669c50c70008fe8977  1561368762838   \n",
       "1       5a0546857ecc773753327266  5d10a1669c50c70008fe8977  1561368762838   \n",
       "2       5a0546857ecc773753327266  5d10a1669c50c70008fe8977  1561368774057   \n",
       "3       5a0546857ecc773753327266  5d10a1669c50c70008fe8977  1561368774057   \n",
       "4       5a0546857ecc773753327266  5d10a1669c50c70008fe8977  1561368774057   \n",
       "...                          ...                       ...            ...   \n",
       "255883  5dc8cea7659e181adb076a3f  5dd7c119c5b77e0006b16b99  1574420742502   \n",
       "255884  5dc8cea7659e181adb076a3f  5dd7c119c5b77e0006b16b99  1574420742502   \n",
       "255885  5dc8cea7659e181adb076a3f  5dd7c119c5b77e0006b16b99  1574420753754   \n",
       "255886  5dc8cea7659e181adb076a3f  5dd7c119c5b77e0006b16b99  1574420753754   \n",
       "255887  5dc8cea7659e181adb076a3f  5dd7c119c5b77e0006b16b99  1574420753754   \n",
       "\n",
       "                                      site_path_timestamp  floor           x  \\\n",
       "0       5a0546857ecc773753327266_5d10a1669c50c70008fe8...    2.0   81.840969   \n",
       "1       5a0546857ecc773753327266_5d10a1669c50c70008fe8...    2.0   81.839028   \n",
       "2       5a0546857ecc773753327266_5d10a1669c50c70008fe8...    2.0   82.242492   \n",
       "3       5a0546857ecc773753327266_5d10a1669c50c70008fe8...    2.0   82.239136   \n",
       "4       5a0546857ecc773753327266_5d10a1669c50c70008fe8...    2.0   82.236373   \n",
       "...                                                   ...    ...         ...   \n",
       "255883  5dc8cea7659e181adb076a3f_5dd7c119c5b77e0006b16...   -1.0  194.044244   \n",
       "255884  5dc8cea7659e181adb076a3f_5dd7c119c5b77e0006b16...   -1.0  194.021596   \n",
       "255885  5dc8cea7659e181adb076a3f_5dd7c119c5b77e0006b16...   -1.0  199.787363   \n",
       "255886  5dc8cea7659e181adb076a3f_5dd7c119c5b77e0006b16...   -1.0  199.769260   \n",
       "255887  5dc8cea7659e181adb076a3f_5dd7c119c5b77e0006b16...   -1.0  199.758979   \n",
       "\n",
       "                 y floorNo  isTrainWaypoint  \\\n",
       "0        34.800399      F3            False   \n",
       "1        34.802761      F3            False   \n",
       "2        26.188168      F3            False   \n",
       "3        26.193882      F3            False   \n",
       "4        26.198153      F3            False   \n",
       "...            ...     ...              ...   \n",
       "255883  104.570772      B1            False   \n",
       "255884  104.559175      B1            False   \n",
       "255885  104.403577      B1            False   \n",
       "255886  104.393152      B1            False   \n",
       "255887  104.389570      B1            False   \n",
       "\n",
       "                                              xy           matched_point  \\\n",
       "0        (81.84096922832707, 34.800399060594316)    (80.6814, 39.265667)   \n",
       "1        (81.83902810228929, 34.802761027010476)    (80.6814, 39.265667)   \n",
       "2         (82.24249198962995, 26.18816792722276)    (84.22669, 27.13862)   \n",
       "3         (82.23913586732847, 26.19388157393812)    (84.22669, 27.13862)   \n",
       "4        (82.23637266113525, 26.198152620886326)    (84.22669, 27.13862)   \n",
       "...                                          ...                     ...   \n",
       "255883   (194.0442440809392, 104.57077173806087)  (193.20488, 108.00152)   \n",
       "255884  (194.02159608931817, 104.55917536511133)  (193.20488, 108.00152)   \n",
       "255885  (199.78736318114966, 104.40357672136881)  (200.75478, 106.75563)   \n",
       "255886   (199.7692600052985, 104.39315152684692)  (200.75478, 106.75563)   \n",
       "255887  (199.75897936013794, 104.38956979620629)  (200.75478, 106.75563)   \n",
       "\n",
       "        oof_min_snap_x  oof_min_snap_y  \n",
       "0             80.68140       39.265667  \n",
       "1             80.68140       39.265667  \n",
       "2             84.22669       27.138620  \n",
       "3             84.22669       27.138620  \n",
       "4             84.22669       27.138620  \n",
       "...                ...             ...  \n",
       "255883       193.20488      108.001520  \n",
       "255884       193.20488      108.001520  \n",
       "255885       200.75478      106.755630  \n",
       "255886       200.75478      106.755630  \n",
       "255887       200.75478      106.755630  \n",
       "\n",
       "[255888 rows x 13 columns]"
      ],
      "text/html": "<div>\n<style scoped>\n    .dataframe tbody tr th:only-of-type {\n        vertical-align: middle;\n    }\n\n    .dataframe tbody tr th {\n        vertical-align: top;\n    }\n\n    .dataframe thead th {\n        text-align: right;\n    }\n</style>\n<table border=\"1\" class=\"dataframe\">\n  <thead>\n    <tr style=\"text-align: right;\">\n      <th></th>\n      <th>site</th>\n      <th>path</th>\n      <th>timestamp</th>\n      <th>site_path_timestamp</th>\n      <th>floor</th>\n      <th>x</th>\n      <th>y</th>\n      <th>floorNo</th>\n      <th>isTrainWaypoint</th>\n      <th>xy</th>\n      <th>matched_point</th>\n      <th>oof_min_snap_x</th>\n      <th>oof_min_snap_y</th>\n    </tr>\n  </thead>\n  <tbody>\n    <tr>\n      <th>0</th>\n      <td>5a0546857ecc773753327266</td>\n      <td>5d10a1669c50c70008fe8977</td>\n      <td>1561368762838</td>\n      <td>5a0546857ecc773753327266_5d10a1669c50c70008fe8...</td>\n      <td>2.0</td>\n      <td>81.840969</td>\n      <td>34.800399</td>\n      <td>F3</td>\n      <td>False</td>\n      <td>(81.84096922832707, 34.800399060594316)</td>\n      <td>(80.6814, 39.265667)</td>\n      <td>80.68140</td>\n      <td>39.265667</td>\n    </tr>\n    <tr>\n      <th>1</th>\n      <td>5a0546857ecc773753327266</td>\n      <td>5d10a1669c50c70008fe8977</td>\n      <td>1561368762838</td>\n      <td>5a0546857ecc773753327266_5d10a1669c50c70008fe8...</td>\n      <td>2.0</td>\n      <td>81.839028</td>\n      <td>34.802761</td>\n      <td>F3</td>\n      <td>False</td>\n      <td>(81.83902810228929, 34.802761027010476)</td>\n      <td>(80.6814, 39.265667)</td>\n      <td>80.68140</td>\n      <td>39.265667</td>\n    </tr>\n    <tr>\n      <th>2</th>\n      <td>5a0546857ecc773753327266</td>\n      <td>5d10a1669c50c70008fe8977</td>\n      <td>1561368774057</td>\n      <td>5a0546857ecc773753327266_5d10a1669c50c70008fe8...</td>\n      <td>2.0</td>\n      <td>82.242492</td>\n      <td>26.188168</td>\n      <td>F3</td>\n      <td>False</td>\n      <td>(82.24249198962995, 26.18816792722276)</td>\n      <td>(84.22669, 27.13862)</td>\n      <td>84.22669</td>\n      <td>27.138620</td>\n    </tr>\n    <tr>\n      <th>3</th>\n      <td>5a0546857ecc773753327266</td>\n      <td>5d10a1669c50c70008fe8977</td>\n      <td>1561368774057</td>\n      <td>5a0546857ecc773753327266_5d10a1669c50c70008fe8...</td>\n      <td>2.0</td>\n      <td>82.239136</td>\n      <td>26.193882</td>\n      <td>F3</td>\n      <td>False</td>\n      <td>(82.23913586732847, 26.19388157393812)</td>\n      <td>(84.22669, 27.13862)</td>\n      <td>84.22669</td>\n      <td>27.138620</td>\n    </tr>\n    <tr>\n      <th>4</th>\n      <td>5a0546857ecc773753327266</td>\n      <td>5d10a1669c50c70008fe8977</td>\n      <td>1561368774057</td>\n      <td>5a0546857ecc773753327266_5d10a1669c50c70008fe8...</td>\n      <td>2.0</td>\n      <td>82.236373</td>\n      <td>26.198153</td>\n      <td>F3</td>\n      <td>False</td>\n      <td>(82.23637266113525, 26.198152620886326)</td>\n      <td>(84.22669, 27.13862)</td>\n      <td>84.22669</td>\n      <td>27.138620</td>\n    </tr>\n    <tr>\n      <th>...</th>\n      <td>...</td>\n      <td>...</td>\n      <td>...</td>\n      <td>...</td>\n      <td>...</td>\n      <td>...</td>\n      <td>...</td>\n      <td>...</td>\n      <td>...</td>\n      <td>...</td>\n      <td>...</td>\n      <td>...</td>\n      <td>...</td>\n    </tr>\n    <tr>\n      <th>255883</th>\n      <td>5dc8cea7659e181adb076a3f</td>\n      <td>5dd7c119c5b77e0006b16b99</td>\n      <td>1574420742502</td>\n      <td>5dc8cea7659e181adb076a3f_5dd7c119c5b77e0006b16...</td>\n      <td>-1.0</td>\n      <td>194.044244</td>\n      <td>104.570772</td>\n      <td>B1</td>\n      <td>False</td>\n      <td>(194.0442440809392, 104.57077173806087)</td>\n      <td>(193.20488, 108.00152)</td>\n      <td>193.20488</td>\n      <td>108.001520</td>\n    </tr>\n    <tr>\n      <th>255884</th>\n      <td>5dc8cea7659e181adb076a3f</td>\n      <td>5dd7c119c5b77e0006b16b99</td>\n      <td>1574420742502</td>\n      <td>5dc8cea7659e181adb076a3f_5dd7c119c5b77e0006b16...</td>\n      <td>-1.0</td>\n      <td>194.021596</td>\n      <td>104.559175</td>\n      <td>B1</td>\n      <td>False</td>\n      <td>(194.02159608931817, 104.55917536511133)</td>\n      <td>(193.20488, 108.00152)</td>\n      <td>193.20488</td>\n      <td>108.001520</td>\n    </tr>\n    <tr>\n      <th>255885</th>\n      <td>5dc8cea7659e181adb076a3f</td>\n      <td>5dd7c119c5b77e0006b16b99</td>\n      <td>1574420753754</td>\n      <td>5dc8cea7659e181adb076a3f_5dd7c119c5b77e0006b16...</td>\n      <td>-1.0</td>\n      <td>199.787363</td>\n      <td>104.403577</td>\n      <td>B1</td>\n      <td>False</td>\n      <td>(199.78736318114966, 104.40357672136881)</td>\n      <td>(200.75478, 106.75563)</td>\n      <td>200.75478</td>\n      <td>106.755630</td>\n    </tr>\n    <tr>\n      <th>255886</th>\n      <td>5dc8cea7659e181adb076a3f</td>\n      <td>5dd7c119c5b77e0006b16b99</td>\n      <td>1574420753754</td>\n      <td>5dc8cea7659e181adb076a3f_5dd7c119c5b77e0006b16...</td>\n      <td>-1.0</td>\n      <td>199.769260</td>\n      <td>104.393152</td>\n      <td>B1</td>\n      <td>False</td>\n      <td>(199.7692600052985, 104.39315152684692)</td>\n      <td>(200.75478, 106.75563)</td>\n      <td>200.75478</td>\n      <td>106.755630</td>\n    </tr>\n    <tr>\n      <th>255887</th>\n      <td>5dc8cea7659e181adb076a3f</td>\n      <td>5dd7c119c5b77e0006b16b99</td>\n      <td>1574420753754</td>\n      <td>5dc8cea7659e181adb076a3f_5dd7c119c5b77e0006b16...</td>\n      <td>-1.0</td>\n      <td>199.758979</td>\n      <td>104.389570</td>\n      <td>B1</td>\n      <td>False</td>\n      <td>(199.75897936013794, 104.38956979620629)</td>\n      <td>(200.75478, 106.75563)</td>\n      <td>200.75478</td>\n      <td>106.755630</td>\n    </tr>\n  </tbody>\n</table>\n<p>255888 rows × 13 columns</p>\n</div>"
     },
     "metadata": {},
     "execution_count": 42
    }
   ],
   "source": [
    "train_waypoints = pd.read_csv('../../input/indoor-location-train-waypoints/train_waypoints.csv')\n",
    "# 線形補完しているwaypointをtrain_waypoints（grid）とする。gridを増やすのが狙い。\n",
    "# train_waypoints = oofs_df[['oof_x', 'oof_y', 'timestamp', 'site_id_str', 'floor', 'floor_str', 'path']]\n",
    "# train_waypoints = train_waypoints.rename(columns={'oof_x':'x', 'oof_y':\"y\", 'site_id_str':\"site\", 'floor_str':'floorNo'})\n",
    "\n",
    "snap_df = oofs_df[['site_path_timestamp','floor','oof_min_x','oof_min_y']].copy()\n",
    "snap_df = snap_df.rename(columns={'oof_min_x':'x', 'oof_min_y':'y'})\n",
    "snap_df = sub_process(snap_df, train_waypoints)\n",
    "snap_df = add_xy(snap_df)\n",
    "train_waypoints = add_xy(train_waypoints)\n",
    "\n",
    "ds = []\n",
    "for (site, myfloor), d in tqdm(snap_df.groupby(['site','floor'])):\n",
    "    true_floor_locs = train_waypoints.loc[(train_waypoints['floor'] == myfloor) &\n",
    "                                          (train_waypoints['site'] == site)] \\\n",
    "        .reset_index(drop=True)\n",
    "    if len(true_floor_locs) == 0:\n",
    "        print(f'Skipping {site} {myfloor}')\n",
    "        continue\n",
    "    d['matched_point'] = [closest_point(x, list(true_floor_locs['xy'])) for x in d['xy']]\n",
    "    d['oof_min_snap_x'] = d['matched_point'].apply(lambda x: x[0])\n",
    "    d['oof_min_snap_y'] = d['matched_point'].apply(lambda x: x[1])\n",
    "    ds.append(d)\n",
    "\n",
    "# 上書き\n",
    "snap_df = pd.concat(ds).sort_index()\n",
    "snap_df"
   ]
  },
  {
   "cell_type": "code",
   "execution_count": 43,
   "metadata": {},
   "outputs": [
    {
     "output_type": "execute_result",
     "data": {
      "text/plain": [
       "            timestamp   target_x    target_y  floor floor_str  \\\n",
       "0       1561368762838   78.21819   38.999737    2.0        F3   \n",
       "1       1561368762838   78.21819   38.999737    2.0        F3   \n",
       "2       1561368774057   76.25184   30.510840    2.0        F3   \n",
       "3       1561368774057   76.25184   30.510840    2.0        F3   \n",
       "4       1561368774057   76.25184   30.510840    2.0        F3   \n",
       "...               ...        ...         ...    ...       ...   \n",
       "255883  1574420742502  193.20488  108.001520   -1.0        B1   \n",
       "255884  1574420742502  193.20488  108.001520   -1.0        B1   \n",
       "255885  1574420753754  204.29349  107.835120   -1.0        B1   \n",
       "255886  1574420753754  204.29349  107.835120   -1.0        B1   \n",
       "255887  1574420753754  204.29349  107.835120   -1.0        B1   \n",
       "\n",
       "                            path  site_id               site_id_str  \\\n",
       "0       5d10a1669c50c70008fe8977        0  5a0546857ecc773753327266   \n",
       "1       5d10a1669c50c70008fe8977        0  5a0546857ecc773753327266   \n",
       "2       5d10a1669c50c70008fe8977        0  5a0546857ecc773753327266   \n",
       "3       5d10a1669c50c70008fe8977        0  5a0546857ecc773753327266   \n",
       "4       5d10a1669c50c70008fe8977        0  5a0546857ecc773753327266   \n",
       "...                          ...      ...                       ...   \n",
       "255883  5dd7c119c5b77e0006b16b99       23  5dc8cea7659e181adb076a3f   \n",
       "255884  5dd7c119c5b77e0006b16b99       23  5dc8cea7659e181adb076a3f   \n",
       "255885  5dd7c119c5b77e0006b16b99       23  5dc8cea7659e181adb076a3f   \n",
       "255886  5dd7c119c5b77e0006b16b99       23  5dc8cea7659e181adb076a3f   \n",
       "255887  5dd7c119c5b77e0006b16b99       23  5dc8cea7659e181adb076a3f   \n",
       "\n",
       "             oof_x       oof_y  oof_floor  \\\n",
       "0        83.256050   33.078526        0.0   \n",
       "1        81.054611   29.842922        0.0   \n",
       "2        84.058441   28.704632        0.0   \n",
       "3        81.806900   27.245537        0.0   \n",
       "4        85.220657   21.922276        0.0   \n",
       "...            ...         ...        ...   \n",
       "255883  193.828201  103.797684        0.0   \n",
       "255884  195.764313  108.264069        0.0   \n",
       "255885  194.731476   99.844894        0.0   \n",
       "255886  194.066635   99.404266        0.0   \n",
       "255887  192.264389  101.778488        0.0   \n",
       "\n",
       "                                      site_path_timestamp   oof_min_x  \\\n",
       "0       5a0546857ecc773753327266_5d10a1669c50c70008fe8...   81.840969   \n",
       "1       5a0546857ecc773753327266_5d10a1669c50c70008fe8...   81.839028   \n",
       "2       5a0546857ecc773753327266_5d10a1669c50c70008fe8...   82.242492   \n",
       "3       5a0546857ecc773753327266_5d10a1669c50c70008fe8...   82.239136   \n",
       "4       5a0546857ecc773753327266_5d10a1669c50c70008fe8...   82.236373   \n",
       "...                                                   ...         ...   \n",
       "255883  5dc8cea7659e181adb076a3f_5dd7c119c5b77e0006b16...  194.044244   \n",
       "255884  5dc8cea7659e181adb076a3f_5dd7c119c5b77e0006b16...  194.021596   \n",
       "255885  5dc8cea7659e181adb076a3f_5dd7c119c5b77e0006b16...  199.787363   \n",
       "255886  5dc8cea7659e181adb076a3f_5dd7c119c5b77e0006b16...  199.769260   \n",
       "255887  5dc8cea7659e181adb076a3f_5dd7c119c5b77e0006b16...  199.758979   \n",
       "\n",
       "         oof_min_y  oof_min_snap_x  oof_min_snap_y  \n",
       "0        34.800399        80.68140       39.265667  \n",
       "1        34.802761        80.68140       39.265667  \n",
       "2        26.188168        84.22669       27.138620  \n",
       "3        26.193882        84.22669       27.138620  \n",
       "4        26.198153        84.22669       27.138620  \n",
       "...            ...             ...             ...  \n",
       "255883  104.570772       193.20488      108.001520  \n",
       "255884  104.559175       193.20488      108.001520  \n",
       "255885  104.403577       200.75478      106.755630  \n",
       "255886  104.393152       200.75478      106.755630  \n",
       "255887  104.389570       200.75478      106.755630  \n",
       "\n",
       "[255888 rows x 16 columns]"
      ],
      "text/html": "<div>\n<style scoped>\n    .dataframe tbody tr th:only-of-type {\n        vertical-align: middle;\n    }\n\n    .dataframe tbody tr th {\n        vertical-align: top;\n    }\n\n    .dataframe thead th {\n        text-align: right;\n    }\n</style>\n<table border=\"1\" class=\"dataframe\">\n  <thead>\n    <tr style=\"text-align: right;\">\n      <th></th>\n      <th>timestamp</th>\n      <th>target_x</th>\n      <th>target_y</th>\n      <th>floor</th>\n      <th>floor_str</th>\n      <th>path</th>\n      <th>site_id</th>\n      <th>site_id_str</th>\n      <th>oof_x</th>\n      <th>oof_y</th>\n      <th>oof_floor</th>\n      <th>site_path_timestamp</th>\n      <th>oof_min_x</th>\n      <th>oof_min_y</th>\n      <th>oof_min_snap_x</th>\n      <th>oof_min_snap_y</th>\n    </tr>\n  </thead>\n  <tbody>\n    <tr>\n      <th>0</th>\n      <td>1561368762838</td>\n      <td>78.21819</td>\n      <td>38.999737</td>\n      <td>2.0</td>\n      <td>F3</td>\n      <td>5d10a1669c50c70008fe8977</td>\n      <td>0</td>\n      <td>5a0546857ecc773753327266</td>\n      <td>83.256050</td>\n      <td>33.078526</td>\n      <td>0.0</td>\n      <td>5a0546857ecc773753327266_5d10a1669c50c70008fe8...</td>\n      <td>81.840969</td>\n      <td>34.800399</td>\n      <td>80.68140</td>\n      <td>39.265667</td>\n    </tr>\n    <tr>\n      <th>1</th>\n      <td>1561368762838</td>\n      <td>78.21819</td>\n      <td>38.999737</td>\n      <td>2.0</td>\n      <td>F3</td>\n      <td>5d10a1669c50c70008fe8977</td>\n      <td>0</td>\n      <td>5a0546857ecc773753327266</td>\n      <td>81.054611</td>\n      <td>29.842922</td>\n      <td>0.0</td>\n      <td>5a0546857ecc773753327266_5d10a1669c50c70008fe8...</td>\n      <td>81.839028</td>\n      <td>34.802761</td>\n      <td>80.68140</td>\n      <td>39.265667</td>\n    </tr>\n    <tr>\n      <th>2</th>\n      <td>1561368774057</td>\n      <td>76.25184</td>\n      <td>30.510840</td>\n      <td>2.0</td>\n      <td>F3</td>\n      <td>5d10a1669c50c70008fe8977</td>\n      <td>0</td>\n      <td>5a0546857ecc773753327266</td>\n      <td>84.058441</td>\n      <td>28.704632</td>\n      <td>0.0</td>\n      <td>5a0546857ecc773753327266_5d10a1669c50c70008fe8...</td>\n      <td>82.242492</td>\n      <td>26.188168</td>\n      <td>84.22669</td>\n      <td>27.138620</td>\n    </tr>\n    <tr>\n      <th>3</th>\n      <td>1561368774057</td>\n      <td>76.25184</td>\n      <td>30.510840</td>\n      <td>2.0</td>\n      <td>F3</td>\n      <td>5d10a1669c50c70008fe8977</td>\n      <td>0</td>\n      <td>5a0546857ecc773753327266</td>\n      <td>81.806900</td>\n      <td>27.245537</td>\n      <td>0.0</td>\n      <td>5a0546857ecc773753327266_5d10a1669c50c70008fe8...</td>\n      <td>82.239136</td>\n      <td>26.193882</td>\n      <td>84.22669</td>\n      <td>27.138620</td>\n    </tr>\n    <tr>\n      <th>4</th>\n      <td>1561368774057</td>\n      <td>76.25184</td>\n      <td>30.510840</td>\n      <td>2.0</td>\n      <td>F3</td>\n      <td>5d10a1669c50c70008fe8977</td>\n      <td>0</td>\n      <td>5a0546857ecc773753327266</td>\n      <td>85.220657</td>\n      <td>21.922276</td>\n      <td>0.0</td>\n      <td>5a0546857ecc773753327266_5d10a1669c50c70008fe8...</td>\n      <td>82.236373</td>\n      <td>26.198153</td>\n      <td>84.22669</td>\n      <td>27.138620</td>\n    </tr>\n    <tr>\n      <th>...</th>\n      <td>...</td>\n      <td>...</td>\n      <td>...</td>\n      <td>...</td>\n      <td>...</td>\n      <td>...</td>\n      <td>...</td>\n      <td>...</td>\n      <td>...</td>\n      <td>...</td>\n      <td>...</td>\n      <td>...</td>\n      <td>...</td>\n      <td>...</td>\n      <td>...</td>\n      <td>...</td>\n    </tr>\n    <tr>\n      <th>255883</th>\n      <td>1574420742502</td>\n      <td>193.20488</td>\n      <td>108.001520</td>\n      <td>-1.0</td>\n      <td>B1</td>\n      <td>5dd7c119c5b77e0006b16b99</td>\n      <td>23</td>\n      <td>5dc8cea7659e181adb076a3f</td>\n      <td>193.828201</td>\n      <td>103.797684</td>\n      <td>0.0</td>\n      <td>5dc8cea7659e181adb076a3f_5dd7c119c5b77e0006b16...</td>\n      <td>194.044244</td>\n      <td>104.570772</td>\n      <td>193.20488</td>\n      <td>108.001520</td>\n    </tr>\n    <tr>\n      <th>255884</th>\n      <td>1574420742502</td>\n      <td>193.20488</td>\n      <td>108.001520</td>\n      <td>-1.0</td>\n      <td>B1</td>\n      <td>5dd7c119c5b77e0006b16b99</td>\n      <td>23</td>\n      <td>5dc8cea7659e181adb076a3f</td>\n      <td>195.764313</td>\n      <td>108.264069</td>\n      <td>0.0</td>\n      <td>5dc8cea7659e181adb076a3f_5dd7c119c5b77e0006b16...</td>\n      <td>194.021596</td>\n      <td>104.559175</td>\n      <td>193.20488</td>\n      <td>108.001520</td>\n    </tr>\n    <tr>\n      <th>255885</th>\n      <td>1574420753754</td>\n      <td>204.29349</td>\n      <td>107.835120</td>\n      <td>-1.0</td>\n      <td>B1</td>\n      <td>5dd7c119c5b77e0006b16b99</td>\n      <td>23</td>\n      <td>5dc8cea7659e181adb076a3f</td>\n      <td>194.731476</td>\n      <td>99.844894</td>\n      <td>0.0</td>\n      <td>5dc8cea7659e181adb076a3f_5dd7c119c5b77e0006b16...</td>\n      <td>199.787363</td>\n      <td>104.403577</td>\n      <td>200.75478</td>\n      <td>106.755630</td>\n    </tr>\n    <tr>\n      <th>255886</th>\n      <td>1574420753754</td>\n      <td>204.29349</td>\n      <td>107.835120</td>\n      <td>-1.0</td>\n      <td>B1</td>\n      <td>5dd7c119c5b77e0006b16b99</td>\n      <td>23</td>\n      <td>5dc8cea7659e181adb076a3f</td>\n      <td>194.066635</td>\n      <td>99.404266</td>\n      <td>0.0</td>\n      <td>5dc8cea7659e181adb076a3f_5dd7c119c5b77e0006b16...</td>\n      <td>199.769260</td>\n      <td>104.393152</td>\n      <td>200.75478</td>\n      <td>106.755630</td>\n    </tr>\n    <tr>\n      <th>255887</th>\n      <td>1574420753754</td>\n      <td>204.29349</td>\n      <td>107.835120</td>\n      <td>-1.0</td>\n      <td>B1</td>\n      <td>5dd7c119c5b77e0006b16b99</td>\n      <td>23</td>\n      <td>5dc8cea7659e181adb076a3f</td>\n      <td>192.264389</td>\n      <td>101.778488</td>\n      <td>0.0</td>\n      <td>5dc8cea7659e181adb076a3f_5dd7c119c5b77e0006b16...</td>\n      <td>199.758979</td>\n      <td>104.389570</td>\n      <td>200.75478</td>\n      <td>106.755630</td>\n    </tr>\n  </tbody>\n</table>\n<p>255888 rows × 16 columns</p>\n</div>"
     },
     "metadata": {},
     "execution_count": 43
    }
   ],
   "source": [
    "oofs_df['oof_min_snap_x'] = snap_df['oof_min_snap_x']\n",
    "oofs_df['oof_min_snap_y'] = snap_df['oof_min_snap_y']\n",
    "oofs_df"
   ]
  },
  {
   "cell_type": "code",
   "execution_count": 44,
   "metadata": {},
   "outputs": [
    {
     "output_type": "stream",
     "name": "stdout",
     "text": [
      "(after cost-min + snap) CV:5.472021419826044\n"
     ]
    }
   ],
   "source": [
    "# waypoint補正前のx,yでの評価\n",
    "oof_score_post_process = mean_position_error(\n",
    "    oofs_df['oof_min_snap_x'], oofs_df['oof_min_snap_y'], 0, \n",
    "    oofs_df['target_x'], oofs_df['target_y'], 0\n",
    "    )\n",
    "wandb_config['CV_cost_snap'] = oof_score_post_process\n",
    "print(f\"(after cost-min + snap) CV:{oof_score_post_process}\")"
   ]
  },
  {
   "cell_type": "code",
   "execution_count": 45,
   "metadata": {},
   "outputs": [],
   "source": [
    "# # waypoint補正前のx,yでの評価\n",
    "# oof_score_post_process = mean_position_error(\n",
    "#     oofs_df['oof_min_snap_x'], oofs_df['oof_min_snap_y'], 0, \n",
    "#     oofs_df['wifi_x'], oofs_df['wifi_y'], 0\n",
    "#     )\n",
    "# print(f\"(after cost-min + snap) CV:{oof_score_post_process}\")"
   ]
  },
  {
   "cell_type": "code",
   "execution_count": 46,
   "metadata": {},
   "outputs": [],
   "source": [
    "# x_pred = oofs_df[\"oof_min_snap_x\"]\n",
    "# y_pred = oofs_df[\"oof_min_snap_y\"]\n",
    "# f_pred = oofs_df[\"floor\"]  # 正解を与える\n",
    "# x_true = oofs_df[\"wifi_x\"]\n",
    "# y_true = oofs_df[\"wifi_y\"]\n",
    "# f_true = oofs_df[\"floor\"]\n",
    "# site_arr = oofs_df[\"site_id_str\"]\n",
    "# df_result_site3 = calc_metrics_site(x_pred, y_pred, f_pred, x_true, y_true, f_true, site_arr)\n",
    "# df_result_site3.style.bar(subset=['n_sample', 'score'], color=['teal'])"
   ]
  },
  {
   "cell_type": "code",
   "execution_count": 47,
   "metadata": {},
   "outputs": [],
   "source": [
    "# site_eval_report(df_result_site3)"
   ]
  },
  {
   "cell_type": "code",
   "execution_count": 48,
   "metadata": {},
   "outputs": [],
   "source": [
    "# train_waypoints = pd.read_csv('../../input/indoor-location-train-waypoints/train_waypoints.csv')\n",
    "\n",
    "new_sub = sub_process(new_sub, train_waypoints)\n",
    "new_sub = add_xy(new_sub)\n",
    "train_waypoints = add_xy(train_waypoints)\n",
    "\n",
    "ds = []\n",
    "for (site, myfloor), d in new_sub.groupby(['site','floor']):\n",
    "    true_floor_locs = train_waypoints.loc[(train_waypoints['floor'] == myfloor) &\n",
    "                                          (train_waypoints['site'] == site)] \\\n",
    "        .reset_index(drop=True)\n",
    "    if len(true_floor_locs) == 0:\n",
    "        print(f'Skipping {site} {myfloor}')\n",
    "        continue\n",
    "    d['matched_point'] = [closest_point(x, list(true_floor_locs['xy'])) for x in d['xy']]\n",
    "    d['x_'] = d['matched_point'].apply(lambda x: x[0])\n",
    "    d['y_'] = d['matched_point'].apply(lambda x: x[1])\n",
    "    ds.append(d)\n",
    "\n",
    "new_sub2 = pd.concat(ds)"
   ]
  },
  {
   "cell_type": "code",
   "execution_count": 49,
   "metadata": {},
   "outputs": [
    {
     "output_type": "execute_result",
     "data": {
      "text/plain": [
       "                                     site_path_timestamp  floor          x  \\\n",
       "0      5a0546857ecc773753327266_046cfa46be49fc1083481...      0  110.54808   \n",
       "1      5a0546857ecc773753327266_046cfa46be49fc1083481...      0  110.54808   \n",
       "2      5a0546857ecc773753327266_046cfa46be49fc1083481...      0  110.54808   \n",
       "3      5a0546857ecc773753327266_046cfa46be49fc1083481...      0  110.54808   \n",
       "4      5a0546857ecc773753327266_046cfa46be49fc1083481...      0  110.54808   \n",
       "...                                                  ...    ...        ...   \n",
       "10128  5dc8cea7659e181adb076a3f_fd64de8c4a2fc5ebb0e9f...      5  161.76324   \n",
       "10129  5dc8cea7659e181adb076a3f_fd64de8c4a2fc5ebb0e9f...      5  161.76324   \n",
       "10130  5dc8cea7659e181adb076a3f_fd64de8c4a2fc5ebb0e9f...      5  161.76324   \n",
       "10131  5dc8cea7659e181adb076a3f_fd64de8c4a2fc5ebb0e9f...      5  161.76324   \n",
       "10132  5dc8cea7659e181adb076a3f_fd64de8c4a2fc5ebb0e9f...      5  161.76324   \n",
       "\n",
       "                y  \n",
       "0      107.762535  \n",
       "1      107.762535  \n",
       "2      107.762535  \n",
       "3      107.762535  \n",
       "4      107.762535  \n",
       "...           ...  \n",
       "10128  138.191700  \n",
       "10129  138.191700  \n",
       "10130  138.191700  \n",
       "10131  138.191700  \n",
       "10132  138.191700  \n",
       "\n",
       "[10133 rows x 4 columns]"
      ],
      "text/html": "<div>\n<style scoped>\n    .dataframe tbody tr th:only-of-type {\n        vertical-align: middle;\n    }\n\n    .dataframe tbody tr th {\n        vertical-align: top;\n    }\n\n    .dataframe thead th {\n        text-align: right;\n    }\n</style>\n<table border=\"1\" class=\"dataframe\">\n  <thead>\n    <tr style=\"text-align: right;\">\n      <th></th>\n      <th>site_path_timestamp</th>\n      <th>floor</th>\n      <th>x</th>\n      <th>y</th>\n    </tr>\n  </thead>\n  <tbody>\n    <tr>\n      <th>0</th>\n      <td>5a0546857ecc773753327266_046cfa46be49fc1083481...</td>\n      <td>0</td>\n      <td>110.54808</td>\n      <td>107.762535</td>\n    </tr>\n    <tr>\n      <th>1</th>\n      <td>5a0546857ecc773753327266_046cfa46be49fc1083481...</td>\n      <td>0</td>\n      <td>110.54808</td>\n      <td>107.762535</td>\n    </tr>\n    <tr>\n      <th>2</th>\n      <td>5a0546857ecc773753327266_046cfa46be49fc1083481...</td>\n      <td>0</td>\n      <td>110.54808</td>\n      <td>107.762535</td>\n    </tr>\n    <tr>\n      <th>3</th>\n      <td>5a0546857ecc773753327266_046cfa46be49fc1083481...</td>\n      <td>0</td>\n      <td>110.54808</td>\n      <td>107.762535</td>\n    </tr>\n    <tr>\n      <th>4</th>\n      <td>5a0546857ecc773753327266_046cfa46be49fc1083481...</td>\n      <td>0</td>\n      <td>110.54808</td>\n      <td>107.762535</td>\n    </tr>\n    <tr>\n      <th>...</th>\n      <td>...</td>\n      <td>...</td>\n      <td>...</td>\n      <td>...</td>\n    </tr>\n    <tr>\n      <th>10128</th>\n      <td>5dc8cea7659e181adb076a3f_fd64de8c4a2fc5ebb0e9f...</td>\n      <td>5</td>\n      <td>161.76324</td>\n      <td>138.191700</td>\n    </tr>\n    <tr>\n      <th>10129</th>\n      <td>5dc8cea7659e181adb076a3f_fd64de8c4a2fc5ebb0e9f...</td>\n      <td>5</td>\n      <td>161.76324</td>\n      <td>138.191700</td>\n    </tr>\n    <tr>\n      <th>10130</th>\n      <td>5dc8cea7659e181adb076a3f_fd64de8c4a2fc5ebb0e9f...</td>\n      <td>5</td>\n      <td>161.76324</td>\n      <td>138.191700</td>\n    </tr>\n    <tr>\n      <th>10131</th>\n      <td>5dc8cea7659e181adb076a3f_fd64de8c4a2fc5ebb0e9f...</td>\n      <td>5</td>\n      <td>161.76324</td>\n      <td>138.191700</td>\n    </tr>\n    <tr>\n      <th>10132</th>\n      <td>5dc8cea7659e181adb076a3f_fd64de8c4a2fc5ebb0e9f...</td>\n      <td>5</td>\n      <td>161.76324</td>\n      <td>138.191700</td>\n    </tr>\n  </tbody>\n</table>\n<p>10133 rows × 4 columns</p>\n</div>"
     },
     "metadata": {},
     "execution_count": 49
    }
   ],
   "source": [
    "new_sub2 = new_sub2[['site_path_timestamp','floor','x_','y_']].sort_index()\n",
    "new_sub2 = new_sub2.rename(columns={'x_':'x', 'y_':'y'})\n",
    "new_sub2"
   ]
  },
  {
   "cell_type": "code",
   "execution_count": 50,
   "metadata": {},
   "outputs": [],
   "source": [
    "new_sub2.to_csv(RUN_NAME + '_cost_snap_sub.csv', index=False)"
   ]
  },
  {
   "cell_type": "code",
   "execution_count": 51,
   "metadata": {},
   "outputs": [],
   "source": [
    "# import matplotlib.pyplot as plt\n",
    "# df_result_site1['score'].plot(label='oof')\n",
    "# df_result_site2['score'].plot(label='cost')\n",
    "# df_result_site3['score'].plot(label='cost+snap')\n",
    "# plt.legend()\n",
    "# plt.grid()\n",
    "# plt.savefig('site_result.png')"
   ]
  },
  {
   "cell_type": "code",
   "execution_count": 52,
   "metadata": {},
   "outputs": [
    {
     "output_type": "display_data",
     "data": {
      "text/plain": "<IPython.core.display.HTML object>",
      "text/html": "<br/>Waiting for W&B process to finish, PID 9801<br/>Program ended successfully."
     },
     "metadata": {}
    },
    {
     "output_type": "display_data",
     "data": {
      "text/plain": "VBox(children=(Label(value=' 0.00MB of 0.00MB uploaded (0.00MB deduped)\\r'), FloatProgress(value=1.0, max=1.0)…",
      "application/vnd.jupyter.widget-view+json": {
       "version_major": 2,
       "version_minor": 0,
       "model_id": "5a27d77190b64ef6a32154d834ece829"
      }
     },
     "metadata": {}
    },
    {
     "output_type": "display_data",
     "data": {
      "text/plain": "<IPython.core.display.HTML object>",
      "text/html": "Find user logs for this run at: <code>/home/user/work/exp/exp016/wandb/run-20210423_180446-3kcu02h8/logs/debug.log</code>"
     },
     "metadata": {}
    },
    {
     "output_type": "display_data",
     "data": {
      "text/plain": "<IPython.core.display.HTML object>",
      "text/html": "Find internal logs for this run at: <code>/home/user/work/exp/exp016/wandb/run-20210423_180446-3kcu02h8/logs/debug-internal.log</code>"
     },
     "metadata": {}
    },
    {
     "output_type": "display_data",
     "data": {
      "text/plain": "<IPython.core.display.HTML object>",
      "text/html": "Synced 5 W&B file(s), 0 media file(s), 0 artifact file(s) and 0 other file(s)"
     },
     "metadata": {}
    },
    {
     "output_type": "display_data",
     "data": {
      "text/plain": "<IPython.core.display.HTML object>",
      "text/html": "\n                    <br/>Synced <strong style=\"color:#cdcd00\">expert-pond-383</strong>: <a href=\"https://wandb.ai/kuto5046/indoor/runs/3kcu02h8\" target=\"_blank\">https://wandb.ai/kuto5046/indoor/runs/3kcu02h8</a><br/>\n                "
     },
     "metadata": {}
    }
   ],
   "source": [
    "wandb.finish()"
   ]
  },
  {
   "cell_type": "code",
   "execution_count": null,
   "metadata": {},
   "outputs": [],
   "source": []
  }
 ],
 "metadata": {
  "kernelspec": {
   "display_name": "Python 3",
   "language": "python",
   "name": "python3"
  },
  "language_info": {
   "codemirror_mode": {
    "name": "ipython",
    "version": 3
   },
   "file_extension": ".py",
   "mimetype": "text/x-python",
   "name": "python",
   "nbconvert_exporter": "python",
   "pygments_lexer": "ipython3",
   "version": "3.8.5"
  }
 },
 "nbformat": 4,
 "nbformat_minor": 4
}