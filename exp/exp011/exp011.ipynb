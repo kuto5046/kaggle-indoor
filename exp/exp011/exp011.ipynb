{
 "cells": [
  {
   "cell_type": "code",
   "execution_count": 1,
   "metadata": {},
   "outputs": [],
   "source": [
    "import os\n",
    "import sys\n",
    "import glob\n",
    "import yaml\n",
    "import pickle\n",
    "import random\n",
    "\n",
    "import numpy as np\n",
    "import pandas as pd\n",
    "import scipy.stats as stats\n",
    "from pathlib import Path\n",
    "\n",
    "from sklearn import model_selection\n",
    "from sklearn.preprocessing import StandardScaler, LabelEncoder\n",
    "\n",
    "import wandb\n",
    "import torch\n",
    "from torch import nn\n",
    "import torch.nn.functional as F\n",
    "from torch.utils.data import Dataset, DataLoader\n",
    "import torch.optim as optim\n",
    "\n",
    "import pytorch_lightning as pl\n",
    "from pytorch_lightning.loggers import WandbLogger\n",
    "from pytorch_lightning.callbacks import ModelCheckpoint\n",
    "from pytorch_lightning.callbacks import EarlyStopping\n",
    "from pytorch_lightning.utilities.seed import seed_everything"
   ]
  },
  {
   "cell_type": "markdown",
   "metadata": {},
   "source": [
    "## config"
   ]
  },
  {
   "cell_type": "code",
   "execution_count": 2,
   "metadata": {},
   "outputs": [
    {
     "output_type": "stream",
     "name": "stderr",
     "text": [
      "Global seed set to 1996\n"
     ]
    },
    {
     "output_type": "execute_result",
     "data": {
      "text/plain": [
       "1996"
      ]
     },
     "metadata": {},
     "execution_count": 2
    }
   ],
   "source": [
    "# config\n",
    "with open('config.yaml') as f:\n",
    "    config = yaml.safe_load(f)\n",
    "\n",
    "# globals variable\n",
    "SEED = config['globals']['seed']\n",
    "MAX_EPOCHS = config['globals']['max_epochs']\n",
    "N_SPLITS = config['globals']['n_splits']\n",
    "USE_FOLDS = config['globals']['use_folds']\n",
    "DEBUG = config['globals']['debug']\n",
    "EXP_MESSAGE = config['globals']['exp_message']\n",
    "NOTES = config['globals']['notes']\n",
    "MODEL_SAVE = config['globals']['model_save']\n",
    "ONLY_PRED = config['globals']['only_pred']\n",
    "PRETRAINED = config['globals']['pretrained']\n",
    "PRETRAINED_PATH = config['globals']['pretrained_path']\n",
    "EXP_NAME = str(Path().resolve()).split('/')[-1]\n",
    "\n",
    "# seed\n",
    "seed_everything(SEED)"
   ]
  },
  {
   "cell_type": "code",
   "execution_count": 3,
   "metadata": {},
   "outputs": [
    {
     "output_type": "execute_result",
     "data": {
      "text/plain": [
       "'exp011'"
      ]
     },
     "metadata": {},
     "execution_count": 3
    }
   ],
   "source": [
    "EXP_NAME"
   ]
  },
  {
   "cell_type": "code",
   "execution_count": 4,
   "metadata": {},
   "outputs": [
    {
     "output_type": "stream",
     "name": "stdout",
     "text": [
      "\u001b[34m\u001b[1mwandb\u001b[0m: Appending key for api.wandb.ai to your netrc file: /home/user/.netrc\n"
     ]
    }
   ],
   "source": [
    "!wandb login 1bb2d0449c11d8b987e25c38b9d8dda176310fb6"
   ]
  },
  {
   "cell_type": "markdown",
   "metadata": {},
   "source": [
    "## read data"
   ]
  },
  {
   "cell_type": "code",
   "execution_count": 5,
   "metadata": {},
   "outputs": [],
   "source": [
    "# waypointを補正したdataset\n",
    "root_dir = Path('../../input/')\n",
    "with open(root_dir/'kuto_wifi_dataset_v2/train_all.pkl', 'rb') as f:\n",
    "  train_df = pickle.load(f)\n",
    "\n",
    "with open(root_dir/'kuto_wifi_dataset_v2/test_all.pkl', 'rb') as f:\n",
    "  test_df = pickle.load(f)\n",
    "\n",
    "sub_df = pd.read_csv(root_dir/'indoor-location-navigation/sample_submission.csv', index_col=0)"
   ]
  },
  {
   "cell_type": "code",
   "execution_count": 6,
   "metadata": {},
   "outputs": [
    {
     "output_type": "execute_result",
     "data": {
      "text/plain": [
       "        rssi_98  rssi_99      timestamp          x          y  floor  \\\n",
       "0           -85      -85  1571625311855  68.064926  241.94000      0   \n",
       "1           -85      -85  1571625311855  68.064926  241.94000      0   \n",
       "2           -83      -83  1571625320099  62.480465  241.71216      0   \n",
       "3           -83      -83  1571625320099  62.480465  241.71216      0   \n",
       "4           -83      -83  1571625320099  62.480465  241.71216      0   \n",
       "...         ...      ...            ...        ...        ...    ...   \n",
       "258120      -80      -80  1573822164854  12.662716  100.47756      1   \n",
       "258121      -81      -81  1573822164854  12.662716  100.47756      1   \n",
       "258122      -80      -80  1573822173051   7.799886  107.13921      1   \n",
       "258123      -81      -81  1573822173051   7.799886  107.13921      1   \n",
       "258124      -81      -81  1573822173051   7.799886  107.13921      1   \n",
       "\n",
       "       floor_str                      path  time_diff     wifi_x      wifi_y  \\\n",
       "0             F1  5dad1ca1dc3e2c0006606c3f       1952  66.823935  241.889369   \n",
       "1             F1  5dad1ca1dc3e2c0006606c3f       3900  65.582943  241.838738   \n",
       "2             F1  5dad1ca1dc3e2c0006606c3f      -2385  64.341952  241.788107   \n",
       "3             F1  5dad1ca1dc3e2c0006606c3f       -427  62.480465  241.712160   \n",
       "4             F1  5dad1ca1dc3e2c0006606c3f       1528  62.893219  240.715162   \n",
       "...          ...                       ...        ...        ...         ...   \n",
       "258120        F2  5dce9eea5516ad00065f04a7        447  12.662716  100.477560   \n",
       "258121        F2  5dce9eea5516ad00065f04a7       2393  11.041773  102.698110   \n",
       "258122        F2  5dce9eea5516ad00065f04a7      -3876   9.961144  104.178477   \n",
       "258123        F2  5dce9eea5516ad00065f04a7      -1946   8.880515  105.658843   \n",
       "258124        F2  5dce9eea5516ad00065f04a7        -17   7.799886  107.139210   \n",
       "\n",
       "                         site_id  \n",
       "0       5da958dd46f8266d0737457b  \n",
       "1       5da958dd46f8266d0737457b  \n",
       "2       5da958dd46f8266d0737457b  \n",
       "3       5da958dd46f8266d0737457b  \n",
       "4       5da958dd46f8266d0737457b  \n",
       "...                          ...  \n",
       "258120  5d27099f03f801723c32511d  \n",
       "258121  5d27099f03f801723c32511d  \n",
       "258122  5d27099f03f801723c32511d  \n",
       "258123  5d27099f03f801723c32511d  \n",
       "258124  5d27099f03f801723c32511d  \n",
       "\n",
       "[258125 rows x 12 columns]"
      ],
      "text/html": "<div>\n<style scoped>\n    .dataframe tbody tr th:only-of-type {\n        vertical-align: middle;\n    }\n\n    .dataframe tbody tr th {\n        vertical-align: top;\n    }\n\n    .dataframe thead th {\n        text-align: right;\n    }\n</style>\n<table border=\"1\" class=\"dataframe\">\n  <thead>\n    <tr style=\"text-align: right;\">\n      <th></th>\n      <th>rssi_98</th>\n      <th>rssi_99</th>\n      <th>timestamp</th>\n      <th>x</th>\n      <th>y</th>\n      <th>floor</th>\n      <th>floor_str</th>\n      <th>path</th>\n      <th>time_diff</th>\n      <th>wifi_x</th>\n      <th>wifi_y</th>\n      <th>site_id</th>\n    </tr>\n  </thead>\n  <tbody>\n    <tr>\n      <th>0</th>\n      <td>-85</td>\n      <td>-85</td>\n      <td>1571625311855</td>\n      <td>68.064926</td>\n      <td>241.94000</td>\n      <td>0</td>\n      <td>F1</td>\n      <td>5dad1ca1dc3e2c0006606c3f</td>\n      <td>1952</td>\n      <td>66.823935</td>\n      <td>241.889369</td>\n      <td>5da958dd46f8266d0737457b</td>\n    </tr>\n    <tr>\n      <th>1</th>\n      <td>-85</td>\n      <td>-85</td>\n      <td>1571625311855</td>\n      <td>68.064926</td>\n      <td>241.94000</td>\n      <td>0</td>\n      <td>F1</td>\n      <td>5dad1ca1dc3e2c0006606c3f</td>\n      <td>3900</td>\n      <td>65.582943</td>\n      <td>241.838738</td>\n      <td>5da958dd46f8266d0737457b</td>\n    </tr>\n    <tr>\n      <th>2</th>\n      <td>-83</td>\n      <td>-83</td>\n      <td>1571625320099</td>\n      <td>62.480465</td>\n      <td>241.71216</td>\n      <td>0</td>\n      <td>F1</td>\n      <td>5dad1ca1dc3e2c0006606c3f</td>\n      <td>-2385</td>\n      <td>64.341952</td>\n      <td>241.788107</td>\n      <td>5da958dd46f8266d0737457b</td>\n    </tr>\n    <tr>\n      <th>3</th>\n      <td>-83</td>\n      <td>-83</td>\n      <td>1571625320099</td>\n      <td>62.480465</td>\n      <td>241.71216</td>\n      <td>0</td>\n      <td>F1</td>\n      <td>5dad1ca1dc3e2c0006606c3f</td>\n      <td>-427</td>\n      <td>62.480465</td>\n      <td>241.712160</td>\n      <td>5da958dd46f8266d0737457b</td>\n    </tr>\n    <tr>\n      <th>4</th>\n      <td>-83</td>\n      <td>-83</td>\n      <td>1571625320099</td>\n      <td>62.480465</td>\n      <td>241.71216</td>\n      <td>0</td>\n      <td>F1</td>\n      <td>5dad1ca1dc3e2c0006606c3f</td>\n      <td>1528</td>\n      <td>62.893219</td>\n      <td>240.715162</td>\n      <td>5da958dd46f8266d0737457b</td>\n    </tr>\n    <tr>\n      <th>...</th>\n      <td>...</td>\n      <td>...</td>\n      <td>...</td>\n      <td>...</td>\n      <td>...</td>\n      <td>...</td>\n      <td>...</td>\n      <td>...</td>\n      <td>...</td>\n      <td>...</td>\n      <td>...</td>\n      <td>...</td>\n    </tr>\n    <tr>\n      <th>258120</th>\n      <td>-80</td>\n      <td>-80</td>\n      <td>1573822164854</td>\n      <td>12.662716</td>\n      <td>100.47756</td>\n      <td>1</td>\n      <td>F2</td>\n      <td>5dce9eea5516ad00065f04a7</td>\n      <td>447</td>\n      <td>12.662716</td>\n      <td>100.477560</td>\n      <td>5d27099f03f801723c32511d</td>\n    </tr>\n    <tr>\n      <th>258121</th>\n      <td>-81</td>\n      <td>-81</td>\n      <td>1573822164854</td>\n      <td>12.662716</td>\n      <td>100.47756</td>\n      <td>1</td>\n      <td>F2</td>\n      <td>5dce9eea5516ad00065f04a7</td>\n      <td>2393</td>\n      <td>11.041773</td>\n      <td>102.698110</td>\n      <td>5d27099f03f801723c32511d</td>\n    </tr>\n    <tr>\n      <th>258122</th>\n      <td>-80</td>\n      <td>-80</td>\n      <td>1573822173051</td>\n      <td>7.799886</td>\n      <td>107.13921</td>\n      <td>1</td>\n      <td>F2</td>\n      <td>5dce9eea5516ad00065f04a7</td>\n      <td>-3876</td>\n      <td>9.961144</td>\n      <td>104.178477</td>\n      <td>5d27099f03f801723c32511d</td>\n    </tr>\n    <tr>\n      <th>258123</th>\n      <td>-81</td>\n      <td>-81</td>\n      <td>1573822173051</td>\n      <td>7.799886</td>\n      <td>107.13921</td>\n      <td>1</td>\n      <td>F2</td>\n      <td>5dce9eea5516ad00065f04a7</td>\n      <td>-1946</td>\n      <td>8.880515</td>\n      <td>105.658843</td>\n      <td>5d27099f03f801723c32511d</td>\n    </tr>\n    <tr>\n      <th>258124</th>\n      <td>-81</td>\n      <td>-81</td>\n      <td>1573822173051</td>\n      <td>7.799886</td>\n      <td>107.13921</td>\n      <td>1</td>\n      <td>F2</td>\n      <td>5dce9eea5516ad00065f04a7</td>\n      <td>-17</td>\n      <td>7.799886</td>\n      <td>107.139210</td>\n      <td>5d27099f03f801723c32511d</td>\n    </tr>\n  </tbody>\n</table>\n<p>258125 rows × 12 columns</p>\n</div>"
     },
     "metadata": {},
     "execution_count": 6
    }
   ],
   "source": [
    "train_df.iloc[:, -12:]"
   ]
  },
  {
   "cell_type": "code",
   "execution_count": 7,
   "metadata": {},
   "outputs": [
    {
     "output_type": "execute_result",
     "data": {
      "text/plain": [
       "(25336, 231094)"
      ]
     },
     "metadata": {},
     "execution_count": 7
    }
   ],
   "source": [
    "train_df['x'].nunique(), train_df['wifi_x'].nunique()"
   ]
  },
  {
   "source": [
    "## time_diffの前処理\n",
    "0~3000sのものはwifi_x,wifi_yを使用  \n",
    "-1000s~0sのものはもともとのx.yを使用"
   ],
   "cell_type": "markdown",
   "metadata": {}
  },
  {
   "cell_type": "code",
   "execution_count": 8,
   "metadata": {},
   "outputs": [],
   "source": [
    "# POSI_DIFF = 4000  # i番目のwaypointを基準に算出したwifi waypointのうち基準のtimestampの直近3sを信頼できるデータとして残す\n",
    "# NEGA_DIFF = -100000  # i番目のwaypointを基準に算出したwifi waypointのうちi+1番目のwaypointに近いものにはi+1のwaypointを座標として与える\n",
    "\n",
    "# train_df.loc[(NEGA_DIFF < train_df['time_diff']) & (train_df['time_diff'] <= 0), 'wifi_x'] = train_df.loc[(NEGA_DIFF< train_df['time_diff']) & (train_df['time_diff'] <= 0), 'x']\n",
    "# train_df.loc[(NEGA_DIFF < train_df['time_diff']) & (train_df['time_diff'] <= 0), 'wifi_y'] = train_df.loc[(NEGA_DIFF < train_df['time_diff']) & (train_df['time_diff'] <= 0), 'y']\n",
    "# train_df = train_df[(NEGA_DIFF < train_df['time_diff']) & (train_df['time_diff'] < POSI_DIFF)].reset_index(drop=True)\n",
    "# train_df"
   ]
  },
  {
   "cell_type": "markdown",
   "metadata": {},
   "source": [
    "BSSIDとRSSIは100ずつ存在しているけど全てが必要なわけではないみたい  \n",
    "ここでは20だけ取り出している。"
   ]
  },
  {
   "cell_type": "code",
   "execution_count": 9,
   "metadata": {},
   "outputs": [],
   "source": [
    "# training target features\n",
    "NUM_FEATS = 80\n",
    "BSSID_FEATS = [f'bssid_{i}' for i in range(NUM_FEATS)]\n",
    "RSSI_FEATS  = [f'rssi_{i}' for i in range(NUM_FEATS)]"
   ]
  },
  {
   "cell_type": "markdown",
   "metadata": {},
   "source": [
    "bssid_NはN個目のBSSIDを示しておりRSSI値が大きい順に番号が振られている。\n",
    "100個しかない\n"
   ]
  },
  {
   "cell_type": "code",
   "execution_count": 10,
   "metadata": {},
   "outputs": [
    {
     "output_type": "stream",
     "name": "stdout",
     "text": [
      "BSSID TYPES(train): 41286\nBSSID TYPES(test): 28592\nBSSID TYPES(all): 41300\n"
     ]
    }
   ],
   "source": [
    "# get numbers of bssids to embed them in a layer\n",
    "\n",
    "# train\n",
    "wifi_bssids = []\n",
    "# bssidを列ごとにリストに入れていく\n",
    "for i in range(100):\n",
    "    wifi_bssids.extend(train_df.iloc[:,i].values.tolist())\n",
    "wifi_bssids = list(set(wifi_bssids))\n",
    "\n",
    "train_wifi_bssids_size = len(wifi_bssids)\n",
    "print(f'BSSID TYPES(train): {train_wifi_bssids_size}')\n",
    "\n",
    "# test\n",
    "wifi_bssids_test = []\n",
    "for i in range(100):\n",
    "    wifi_bssids_test.extend(test_df.iloc[:,i].values.tolist())\n",
    "wifi_bssids_test = list(set(wifi_bssids_test))\n",
    "\n",
    "test_wifi_bssids_size = len(wifi_bssids_test)\n",
    "print(f'BSSID TYPES(test): {test_wifi_bssids_size}')\n",
    "\n",
    "\n",
    "wifi_bssids.extend(wifi_bssids_test)\n",
    "wifi_bssids = list(set(wifi_bssids))\n",
    "wifi_bssids_size = len(wifi_bssids)\n",
    "print(f'BSSID TYPES(all): {wifi_bssids_size}')\n"
   ]
  },
  {
   "cell_type": "markdown",
   "metadata": {},
   "source": [
    "## preprocessing"
   ]
  },
  {
   "cell_type": "code",
   "execution_count": 11,
   "metadata": {},
   "outputs": [],
   "source": [
    "# preprocess\n",
    "\n",
    "le = LabelEncoder()\n",
    "le.fit(wifi_bssids)\n",
    "le_site = LabelEncoder()\n",
    "le_site.fit(train_df['site_id'])\n",
    "\n",
    "ss = StandardScaler()\n",
    "ss.fit(train_df.loc[:,RSSI_FEATS])\n",
    "\n",
    "\n",
    "def preprocess(input_df, le=le, le_site=le_site, ss=ss):\n",
    "    output_df = input_df.copy()\n",
    "    # RSSIの正規化\n",
    "    output_df.loc[:,RSSI_FEATS] = ss.transform(input_df.loc[:,RSSI_FEATS])\n",
    "\n",
    "    # BSSIDのLE(1からふる)\n",
    "    for i in BSSID_FEATS:\n",
    "        output_df.loc[:,i] = le.transform(input_df.loc[:,i])\n",
    "        output_df.loc[:,i] = output_df.loc[:,i] + 1  # 0からではなく1から番号を振りたいため なぜ？ embeddingのpadding用のダミー変数？\n",
    "\n",
    "    # site_idのLE\n",
    "    output_df['site_id_str'] = input_df['site_id'].copy()\n",
    "    output_df.loc[:, 'site_id'] = le_site.transform(input_df.loc[:, 'site_id'])\n",
    "\n",
    "    # なぜ２重でやる？\n",
    "    # output_df.loc[:,RSSI_FEATS] = ss.transform(output_df.loc[:,RSSI_FEATS])\n",
    "    return output_df\n",
    "\n",
    "train = preprocess(train_df)\n",
    "test = preprocess(test_df)"
   ]
  },
  {
   "cell_type": "code",
   "execution_count": 12,
   "metadata": {},
   "outputs": [
    {
     "output_type": "execute_result",
     "data": {
      "text/plain": [
       "24"
      ]
     },
     "metadata": {},
     "execution_count": 12
    }
   ],
   "source": [
    "site_count = len(train['site_id'].unique())\n",
    "site_count"
   ]
  },
  {
   "cell_type": "code",
   "execution_count": 13,
   "metadata": {},
   "outputs": [
    {
     "output_type": "execute_result",
     "data": {
      "text/plain": [
       "        rssi_96  rssi_97  rssi_98  rssi_99      timestamp          x  \\\n",
       "0           -84      -84      -85      -85  1571625311855  68.064926   \n",
       "1           -84      -84      -85      -85  1571625311855  68.064926   \n",
       "2           -83      -83      -83      -83  1571625320099  62.480465   \n",
       "3           -83      -83      -83      -83  1571625320099  62.480465   \n",
       "4           -83      -83      -83      -83  1571625320099  62.480465   \n",
       "...         ...      ...      ...      ...            ...        ...   \n",
       "258120      -79      -80      -80      -80  1573822164854  12.662716   \n",
       "258121      -80      -80      -81      -81  1573822164854  12.662716   \n",
       "258122      -80      -80      -80      -80  1573822173051   7.799886   \n",
       "258123      -81      -81      -81      -81  1573822173051   7.799886   \n",
       "258124      -81      -81      -81      -81  1573822173051   7.799886   \n",
       "\n",
       "                y  floor floor_str                      path  time_diff  \\\n",
       "0       241.94000      0        F1  5dad1ca1dc3e2c0006606c3f       1952   \n",
       "1       241.94000      0        F1  5dad1ca1dc3e2c0006606c3f       3900   \n",
       "2       241.71216      0        F1  5dad1ca1dc3e2c0006606c3f      -2385   \n",
       "3       241.71216      0        F1  5dad1ca1dc3e2c0006606c3f       -427   \n",
       "4       241.71216      0        F1  5dad1ca1dc3e2c0006606c3f       1528   \n",
       "...           ...    ...       ...                       ...        ...   \n",
       "258120  100.47756      1        F2  5dce9eea5516ad00065f04a7        447   \n",
       "258121  100.47756      1        F2  5dce9eea5516ad00065f04a7       2393   \n",
       "258122  107.13921      1        F2  5dce9eea5516ad00065f04a7      -3876   \n",
       "258123  107.13921      1        F2  5dce9eea5516ad00065f04a7      -1946   \n",
       "258124  107.13921      1        F2  5dce9eea5516ad00065f04a7        -17   \n",
       "\n",
       "           wifi_x      wifi_y  site_id               site_id_str  \n",
       "0       66.823935  241.889369       21  5da958dd46f8266d0737457b  \n",
       "1       65.582943  241.838738       21  5da958dd46f8266d0737457b  \n",
       "2       64.341952  241.788107       21  5da958dd46f8266d0737457b  \n",
       "3       62.480465  241.712160       21  5da958dd46f8266d0737457b  \n",
       "4       62.893219  240.715162       21  5da958dd46f8266d0737457b  \n",
       "...           ...         ...      ...                       ...  \n",
       "258120  12.662716  100.477560        5  5d27099f03f801723c32511d  \n",
       "258121  11.041773  102.698110        5  5d27099f03f801723c32511d  \n",
       "258122   9.961144  104.178477        5  5d27099f03f801723c32511d  \n",
       "258123   8.880515  105.658843        5  5d27099f03f801723c32511d  \n",
       "258124   7.799886  107.139210        5  5d27099f03f801723c32511d  \n",
       "\n",
       "[258125 rows x 15 columns]"
      ],
      "text/html": "<div>\n<style scoped>\n    .dataframe tbody tr th:only-of-type {\n        vertical-align: middle;\n    }\n\n    .dataframe tbody tr th {\n        vertical-align: top;\n    }\n\n    .dataframe thead th {\n        text-align: right;\n    }\n</style>\n<table border=\"1\" class=\"dataframe\">\n  <thead>\n    <tr style=\"text-align: right;\">\n      <th></th>\n      <th>rssi_96</th>\n      <th>rssi_97</th>\n      <th>rssi_98</th>\n      <th>rssi_99</th>\n      <th>timestamp</th>\n      <th>x</th>\n      <th>y</th>\n      <th>floor</th>\n      <th>floor_str</th>\n      <th>path</th>\n      <th>time_diff</th>\n      <th>wifi_x</th>\n      <th>wifi_y</th>\n      <th>site_id</th>\n      <th>site_id_str</th>\n    </tr>\n  </thead>\n  <tbody>\n    <tr>\n      <th>0</th>\n      <td>-84</td>\n      <td>-84</td>\n      <td>-85</td>\n      <td>-85</td>\n      <td>1571625311855</td>\n      <td>68.064926</td>\n      <td>241.94000</td>\n      <td>0</td>\n      <td>F1</td>\n      <td>5dad1ca1dc3e2c0006606c3f</td>\n      <td>1952</td>\n      <td>66.823935</td>\n      <td>241.889369</td>\n      <td>21</td>\n      <td>5da958dd46f8266d0737457b</td>\n    </tr>\n    <tr>\n      <th>1</th>\n      <td>-84</td>\n      <td>-84</td>\n      <td>-85</td>\n      <td>-85</td>\n      <td>1571625311855</td>\n      <td>68.064926</td>\n      <td>241.94000</td>\n      <td>0</td>\n      <td>F1</td>\n      <td>5dad1ca1dc3e2c0006606c3f</td>\n      <td>3900</td>\n      <td>65.582943</td>\n      <td>241.838738</td>\n      <td>21</td>\n      <td>5da958dd46f8266d0737457b</td>\n    </tr>\n    <tr>\n      <th>2</th>\n      <td>-83</td>\n      <td>-83</td>\n      <td>-83</td>\n      <td>-83</td>\n      <td>1571625320099</td>\n      <td>62.480465</td>\n      <td>241.71216</td>\n      <td>0</td>\n      <td>F1</td>\n      <td>5dad1ca1dc3e2c0006606c3f</td>\n      <td>-2385</td>\n      <td>64.341952</td>\n      <td>241.788107</td>\n      <td>21</td>\n      <td>5da958dd46f8266d0737457b</td>\n    </tr>\n    <tr>\n      <th>3</th>\n      <td>-83</td>\n      <td>-83</td>\n      <td>-83</td>\n      <td>-83</td>\n      <td>1571625320099</td>\n      <td>62.480465</td>\n      <td>241.71216</td>\n      <td>0</td>\n      <td>F1</td>\n      <td>5dad1ca1dc3e2c0006606c3f</td>\n      <td>-427</td>\n      <td>62.480465</td>\n      <td>241.712160</td>\n      <td>21</td>\n      <td>5da958dd46f8266d0737457b</td>\n    </tr>\n    <tr>\n      <th>4</th>\n      <td>-83</td>\n      <td>-83</td>\n      <td>-83</td>\n      <td>-83</td>\n      <td>1571625320099</td>\n      <td>62.480465</td>\n      <td>241.71216</td>\n      <td>0</td>\n      <td>F1</td>\n      <td>5dad1ca1dc3e2c0006606c3f</td>\n      <td>1528</td>\n      <td>62.893219</td>\n      <td>240.715162</td>\n      <td>21</td>\n      <td>5da958dd46f8266d0737457b</td>\n    </tr>\n    <tr>\n      <th>...</th>\n      <td>...</td>\n      <td>...</td>\n      <td>...</td>\n      <td>...</td>\n      <td>...</td>\n      <td>...</td>\n      <td>...</td>\n      <td>...</td>\n      <td>...</td>\n      <td>...</td>\n      <td>...</td>\n      <td>...</td>\n      <td>...</td>\n      <td>...</td>\n      <td>...</td>\n    </tr>\n    <tr>\n      <th>258120</th>\n      <td>-79</td>\n      <td>-80</td>\n      <td>-80</td>\n      <td>-80</td>\n      <td>1573822164854</td>\n      <td>12.662716</td>\n      <td>100.47756</td>\n      <td>1</td>\n      <td>F2</td>\n      <td>5dce9eea5516ad00065f04a7</td>\n      <td>447</td>\n      <td>12.662716</td>\n      <td>100.477560</td>\n      <td>5</td>\n      <td>5d27099f03f801723c32511d</td>\n    </tr>\n    <tr>\n      <th>258121</th>\n      <td>-80</td>\n      <td>-80</td>\n      <td>-81</td>\n      <td>-81</td>\n      <td>1573822164854</td>\n      <td>12.662716</td>\n      <td>100.47756</td>\n      <td>1</td>\n      <td>F2</td>\n      <td>5dce9eea5516ad00065f04a7</td>\n      <td>2393</td>\n      <td>11.041773</td>\n      <td>102.698110</td>\n      <td>5</td>\n      <td>5d27099f03f801723c32511d</td>\n    </tr>\n    <tr>\n      <th>258122</th>\n      <td>-80</td>\n      <td>-80</td>\n      <td>-80</td>\n      <td>-80</td>\n      <td>1573822173051</td>\n      <td>7.799886</td>\n      <td>107.13921</td>\n      <td>1</td>\n      <td>F2</td>\n      <td>5dce9eea5516ad00065f04a7</td>\n      <td>-3876</td>\n      <td>9.961144</td>\n      <td>104.178477</td>\n      <td>5</td>\n      <td>5d27099f03f801723c32511d</td>\n    </tr>\n    <tr>\n      <th>258123</th>\n      <td>-81</td>\n      <td>-81</td>\n      <td>-81</td>\n      <td>-81</td>\n      <td>1573822173051</td>\n      <td>7.799886</td>\n      <td>107.13921</td>\n      <td>1</td>\n      <td>F2</td>\n      <td>5dce9eea5516ad00065f04a7</td>\n      <td>-1946</td>\n      <td>8.880515</td>\n      <td>105.658843</td>\n      <td>5</td>\n      <td>5d27099f03f801723c32511d</td>\n    </tr>\n    <tr>\n      <th>258124</th>\n      <td>-81</td>\n      <td>-81</td>\n      <td>-81</td>\n      <td>-81</td>\n      <td>1573822173051</td>\n      <td>7.799886</td>\n      <td>107.13921</td>\n      <td>1</td>\n      <td>F2</td>\n      <td>5dce9eea5516ad00065f04a7</td>\n      <td>-17</td>\n      <td>7.799886</td>\n      <td>107.139210</td>\n      <td>5</td>\n      <td>5d27099f03f801723c32511d</td>\n    </tr>\n  </tbody>\n</table>\n<p>258125 rows × 15 columns</p>\n</div>"
     },
     "metadata": {},
     "execution_count": 13
    }
   ],
   "source": [
    "train.iloc[:, -15:]"
   ]
  },
  {
   "cell_type": "code",
   "execution_count": 14,
   "metadata": {},
   "outputs": [
    {
     "output_type": "execute_result",
     "data": {
      "text/plain": [
       "       rssi_89  rssi_90  rssi_91  rssi_92  rssi_93  rssi_94  rssi_95  rssi_96  \\\n",
       "0          -89      -89      -90      -90      -90      -90      -90      -91   \n",
       "1          -91      -91      -91      -91      -92     -999     -999     -999   \n",
       "2          -91      -91      -91      -92     -999     -999     -999     -999   \n",
       "3          -87      -87      -87      -87      -87      -87      -88      -88   \n",
       "4          -85      -85      -85      -85      -85      -86      -86      -86   \n",
       "...        ...      ...      ...      ...      ...      ...      ...      ...   \n",
       "10128      -85      -85      -85      -85      -85      -85      -85      -85   \n",
       "10129      -87      -87      -87      -87      -87      -87      -87      -87   \n",
       "10130     -999     -999     -999     -999     -999     -999     -999     -999   \n",
       "10131     -999     -999     -999     -999     -999     -999     -999     -999   \n",
       "10132      -83      -83      -83      -83      -83      -83      -83      -83   \n",
       "\n",
       "       rssi_97  rssi_98  rssi_99  \\\n",
       "0          -91      -91      -91   \n",
       "1         -999     -999     -999   \n",
       "2         -999     -999     -999   \n",
       "3          -88      -88      -88   \n",
       "4          -86      -86      -86   \n",
       "...        ...      ...      ...   \n",
       "10128      -85      -85      -86   \n",
       "10129      -87      -87      -87   \n",
       "10130     -999     -999     -999   \n",
       "10131     -999     -999     -999   \n",
       "10132      -83      -83      -83   \n",
       "\n",
       "                                     site_path_timestamp  time_diff  site_id  \\\n",
       "0      5da958dd46f8266d0737457b_053526f9012ca71531312...      -1929       21   \n",
       "1      5da958dd46f8266d0737457b_053526f9012ca71531312...        737       21   \n",
       "2      5da958dd46f8266d0737457b_053526f9012ca71531312...        411       21   \n",
       "3      5da958dd46f8266d0737457b_053526f9012ca71531312...         66       21   \n",
       "4      5da958dd46f8266d0737457b_053526f9012ca71531312...       -406       21   \n",
       "...                                                  ...        ...      ...   \n",
       "10128  5a0546857ecc773753327266_ffcd9524c80c0fa5bb859...        -83        0   \n",
       "10129  5a0546857ecc773753327266_ffcd9524c80c0fa5bb859...        244        0   \n",
       "10130  5a0546857ecc773753327266_ffcd9524c80c0fa5bb859...       -708        0   \n",
       "10131  5a0546857ecc773753327266_ffcd9524c80c0fa5bb859...        574        0   \n",
       "10132  5a0546857ecc773753327266_ffcd9524c80c0fa5bb859...       -399        0   \n",
       "\n",
       "                    site_id_str  \n",
       "0      5da958dd46f8266d0737457b  \n",
       "1      5da958dd46f8266d0737457b  \n",
       "2      5da958dd46f8266d0737457b  \n",
       "3      5da958dd46f8266d0737457b  \n",
       "4      5da958dd46f8266d0737457b  \n",
       "...                         ...  \n",
       "10128  5a0546857ecc773753327266  \n",
       "10129  5a0546857ecc773753327266  \n",
       "10130  5a0546857ecc773753327266  \n",
       "10131  5a0546857ecc773753327266  \n",
       "10132  5a0546857ecc773753327266  \n",
       "\n",
       "[10133 rows x 15 columns]"
      ],
      "text/html": "<div>\n<style scoped>\n    .dataframe tbody tr th:only-of-type {\n        vertical-align: middle;\n    }\n\n    .dataframe tbody tr th {\n        vertical-align: top;\n    }\n\n    .dataframe thead th {\n        text-align: right;\n    }\n</style>\n<table border=\"1\" class=\"dataframe\">\n  <thead>\n    <tr style=\"text-align: right;\">\n      <th></th>\n      <th>rssi_89</th>\n      <th>rssi_90</th>\n      <th>rssi_91</th>\n      <th>rssi_92</th>\n      <th>rssi_93</th>\n      <th>rssi_94</th>\n      <th>rssi_95</th>\n      <th>rssi_96</th>\n      <th>rssi_97</th>\n      <th>rssi_98</th>\n      <th>rssi_99</th>\n      <th>site_path_timestamp</th>\n      <th>time_diff</th>\n      <th>site_id</th>\n      <th>site_id_str</th>\n    </tr>\n  </thead>\n  <tbody>\n    <tr>\n      <th>0</th>\n      <td>-89</td>\n      <td>-89</td>\n      <td>-90</td>\n      <td>-90</td>\n      <td>-90</td>\n      <td>-90</td>\n      <td>-90</td>\n      <td>-91</td>\n      <td>-91</td>\n      <td>-91</td>\n      <td>-91</td>\n      <td>5da958dd46f8266d0737457b_053526f9012ca71531312...</td>\n      <td>-1929</td>\n      <td>21</td>\n      <td>5da958dd46f8266d0737457b</td>\n    </tr>\n    <tr>\n      <th>1</th>\n      <td>-91</td>\n      <td>-91</td>\n      <td>-91</td>\n      <td>-91</td>\n      <td>-92</td>\n      <td>-999</td>\n      <td>-999</td>\n      <td>-999</td>\n      <td>-999</td>\n      <td>-999</td>\n      <td>-999</td>\n      <td>5da958dd46f8266d0737457b_053526f9012ca71531312...</td>\n      <td>737</td>\n      <td>21</td>\n      <td>5da958dd46f8266d0737457b</td>\n    </tr>\n    <tr>\n      <th>2</th>\n      <td>-91</td>\n      <td>-91</td>\n      <td>-91</td>\n      <td>-92</td>\n      <td>-999</td>\n      <td>-999</td>\n      <td>-999</td>\n      <td>-999</td>\n      <td>-999</td>\n      <td>-999</td>\n      <td>-999</td>\n      <td>5da958dd46f8266d0737457b_053526f9012ca71531312...</td>\n      <td>411</td>\n      <td>21</td>\n      <td>5da958dd46f8266d0737457b</td>\n    </tr>\n    <tr>\n      <th>3</th>\n      <td>-87</td>\n      <td>-87</td>\n      <td>-87</td>\n      <td>-87</td>\n      <td>-87</td>\n      <td>-87</td>\n      <td>-88</td>\n      <td>-88</td>\n      <td>-88</td>\n      <td>-88</td>\n      <td>-88</td>\n      <td>5da958dd46f8266d0737457b_053526f9012ca71531312...</td>\n      <td>66</td>\n      <td>21</td>\n      <td>5da958dd46f8266d0737457b</td>\n    </tr>\n    <tr>\n      <th>4</th>\n      <td>-85</td>\n      <td>-85</td>\n      <td>-85</td>\n      <td>-85</td>\n      <td>-85</td>\n      <td>-86</td>\n      <td>-86</td>\n      <td>-86</td>\n      <td>-86</td>\n      <td>-86</td>\n      <td>-86</td>\n      <td>5da958dd46f8266d0737457b_053526f9012ca71531312...</td>\n      <td>-406</td>\n      <td>21</td>\n      <td>5da958dd46f8266d0737457b</td>\n    </tr>\n    <tr>\n      <th>...</th>\n      <td>...</td>\n      <td>...</td>\n      <td>...</td>\n      <td>...</td>\n      <td>...</td>\n      <td>...</td>\n      <td>...</td>\n      <td>...</td>\n      <td>...</td>\n      <td>...</td>\n      <td>...</td>\n      <td>...</td>\n      <td>...</td>\n      <td>...</td>\n      <td>...</td>\n    </tr>\n    <tr>\n      <th>10128</th>\n      <td>-85</td>\n      <td>-85</td>\n      <td>-85</td>\n      <td>-85</td>\n      <td>-85</td>\n      <td>-85</td>\n      <td>-85</td>\n      <td>-85</td>\n      <td>-85</td>\n      <td>-85</td>\n      <td>-86</td>\n      <td>5a0546857ecc773753327266_ffcd9524c80c0fa5bb859...</td>\n      <td>-83</td>\n      <td>0</td>\n      <td>5a0546857ecc773753327266</td>\n    </tr>\n    <tr>\n      <th>10129</th>\n      <td>-87</td>\n      <td>-87</td>\n      <td>-87</td>\n      <td>-87</td>\n      <td>-87</td>\n      <td>-87</td>\n      <td>-87</td>\n      <td>-87</td>\n      <td>-87</td>\n      <td>-87</td>\n      <td>-87</td>\n      <td>5a0546857ecc773753327266_ffcd9524c80c0fa5bb859...</td>\n      <td>244</td>\n      <td>0</td>\n      <td>5a0546857ecc773753327266</td>\n    </tr>\n    <tr>\n      <th>10130</th>\n      <td>-999</td>\n      <td>-999</td>\n      <td>-999</td>\n      <td>-999</td>\n      <td>-999</td>\n      <td>-999</td>\n      <td>-999</td>\n      <td>-999</td>\n      <td>-999</td>\n      <td>-999</td>\n      <td>-999</td>\n      <td>5a0546857ecc773753327266_ffcd9524c80c0fa5bb859...</td>\n      <td>-708</td>\n      <td>0</td>\n      <td>5a0546857ecc773753327266</td>\n    </tr>\n    <tr>\n      <th>10131</th>\n      <td>-999</td>\n      <td>-999</td>\n      <td>-999</td>\n      <td>-999</td>\n      <td>-999</td>\n      <td>-999</td>\n      <td>-999</td>\n      <td>-999</td>\n      <td>-999</td>\n      <td>-999</td>\n      <td>-999</td>\n      <td>5a0546857ecc773753327266_ffcd9524c80c0fa5bb859...</td>\n      <td>574</td>\n      <td>0</td>\n      <td>5a0546857ecc773753327266</td>\n    </tr>\n    <tr>\n      <th>10132</th>\n      <td>-83</td>\n      <td>-83</td>\n      <td>-83</td>\n      <td>-83</td>\n      <td>-83</td>\n      <td>-83</td>\n      <td>-83</td>\n      <td>-83</td>\n      <td>-83</td>\n      <td>-83</td>\n      <td>-83</td>\n      <td>5a0546857ecc773753327266_ffcd9524c80c0fa5bb859...</td>\n      <td>-399</td>\n      <td>0</td>\n      <td>5a0546857ecc773753327266</td>\n    </tr>\n  </tbody>\n</table>\n<p>10133 rows × 15 columns</p>\n</div>"
     },
     "metadata": {},
     "execution_count": 14
    }
   ],
   "source": [
    "test.iloc[:, -15:]"
   ]
  },
  {
   "source": [
    "## pseudo labeling "
   ],
   "cell_type": "markdown",
   "metadata": {}
  },
  {
   "cell_type": "code",
   "execution_count": 15,
   "metadata": {},
   "outputs": [
    {
     "output_type": "execute_result",
     "data": {
      "text/plain": [
       "       bssid_0  bssid_1  bssid_2  bssid_3  bssid_4  bssid_5  bssid_6  bssid_7  \\\n",
       "0        14174    19203    20746     5650    13030    21860    20853    28573   \n",
       "1        14174    20746    24779    19203    13030     3471    40574    37109   \n",
       "2        20746    14174    24779     3471    19203    13030     4372    40574   \n",
       "3        14174    20746    13030    37109    19203    26902    24779      883   \n",
       "4        14174    20746      883    19203    13030    26902    37109    24779   \n",
       "...        ...      ...      ...      ...      ...      ...      ...      ...   \n",
       "10128    11594    17564    40044    12122    21196    13256    33148     2527   \n",
       "10129    11594    17564    37044    40044    13024    32766    13256    21196   \n",
       "10130    11594    17564    32766      630    35540     9862    37044    13024   \n",
       "10131    17564    37044    11594    35540      630     9862    12553    24116   \n",
       "10132    11594    31512    22860    14692    24116    39151    19266    17564   \n",
       "\n",
       "       bssid_8  bssid_9  ...  \\\n",
       "0        40574     3471  ...   \n",
       "1          883     4372  ...   \n",
       "2        28573      883  ...   \n",
       "3         3471     4372  ...   \n",
       "4        28573     2436  ...   \n",
       "...        ...      ...  ...   \n",
       "10128     8149    19858  ...   \n",
       "10129    14692    22860  ...   \n",
       "10130    18679     2306  ...   \n",
       "10131    37754    32766  ...   \n",
       "10132     4682    34203  ...   \n",
       "\n",
       "                                     site_path_timestamp  time_diff  site_id  \\\n",
       "0      5da958dd46f8266d0737457b_053526f9012ca71531312...      -1929       21   \n",
       "1      5da958dd46f8266d0737457b_053526f9012ca71531312...        737       21   \n",
       "2      5da958dd46f8266d0737457b_053526f9012ca71531312...        411       21   \n",
       "3      5da958dd46f8266d0737457b_053526f9012ca71531312...         66       21   \n",
       "4      5da958dd46f8266d0737457b_053526f9012ca71531312...       -406       21   \n",
       "...                                                  ...        ...      ...   \n",
       "10128  5a0546857ecc773753327266_ffcd9524c80c0fa5bb859...        -83        0   \n",
       "10129  5a0546857ecc773753327266_ffcd9524c80c0fa5bb859...        244        0   \n",
       "10130  5a0546857ecc773753327266_ffcd9524c80c0fa5bb859...       -708        0   \n",
       "10131  5a0546857ecc773753327266_ffcd9524c80c0fa5bb859...        574        0   \n",
       "10132  5a0546857ecc773753327266_ffcd9524c80c0fa5bb859...       -399        0   \n",
       "\n",
       "                    site_id_str  floor      wifi_x      wifi_y  \\\n",
       "0      5da958dd46f8266d0737457b      5   71.990191  206.088838   \n",
       "1      5da958dd46f8266d0737457b      5   72.839717  214.199564   \n",
       "2      5da958dd46f8266d0737457b      5   73.313581  219.928065   \n",
       "3      5da958dd46f8266d0737457b      5   75.541398  213.613485   \n",
       "4      5da958dd46f8266d0737457b      5   77.906262  207.679899   \n",
       "...                         ...    ...         ...         ...   \n",
       "10128  5a0546857ecc773753327266     -1  133.113342  185.880293   \n",
       "10129  5a0546857ecc773753327266     -1  130.088712  187.762661   \n",
       "10130  5a0546857ecc773753327266     -1  131.369450  181.895469   \n",
       "10131  5a0546857ecc773753327266     -1  128.435360  175.490526   \n",
       "10132  5a0546857ecc773753327266     -1  129.371030  169.844116   \n",
       "\n",
       "                           path      timestamp  floor_str  \n",
       "0      053526f9012ca715313120cd  0000000000016          0  \n",
       "1      053526f9012ca715313120cd  0000000008481          0  \n",
       "2      053526f9012ca715313120cd  0000000013930          0  \n",
       "3      053526f9012ca715313120cd  0000000033126          0  \n",
       "4      053526f9012ca715313120cd  0000000044451          0  \n",
       "...                         ...            ...        ...  \n",
       "10128  ffcd9524c80c0fa5bb859eaf  0000000035117          0  \n",
       "10129  ffcd9524c80c0fa5bb859eaf  0000000041230          0  \n",
       "10130  ffcd9524c80c0fa5bb859eaf  0000000051634          0  \n",
       "10131  ffcd9524c80c0fa5bb859eaf  0000000060483          0  \n",
       "10132  ffcd9524c80c0fa5bb859eaf  0000000067146          0  \n",
       "\n",
       "[10133 rows x 210 columns]"
      ],
      "text/html": "<div>\n<style scoped>\n    .dataframe tbody tr th:only-of-type {\n        vertical-align: middle;\n    }\n\n    .dataframe tbody tr th {\n        vertical-align: top;\n    }\n\n    .dataframe thead th {\n        text-align: right;\n    }\n</style>\n<table border=\"1\" class=\"dataframe\">\n  <thead>\n    <tr style=\"text-align: right;\">\n      <th></th>\n      <th>bssid_0</th>\n      <th>bssid_1</th>\n      <th>bssid_2</th>\n      <th>bssid_3</th>\n      <th>bssid_4</th>\n      <th>bssid_5</th>\n      <th>bssid_6</th>\n      <th>bssid_7</th>\n      <th>bssid_8</th>\n      <th>bssid_9</th>\n      <th>...</th>\n      <th>site_path_timestamp</th>\n      <th>time_diff</th>\n      <th>site_id</th>\n      <th>site_id_str</th>\n      <th>floor</th>\n      <th>wifi_x</th>\n      <th>wifi_y</th>\n      <th>path</th>\n      <th>timestamp</th>\n      <th>floor_str</th>\n    </tr>\n  </thead>\n  <tbody>\n    <tr>\n      <th>0</th>\n      <td>14174</td>\n      <td>19203</td>\n      <td>20746</td>\n      <td>5650</td>\n      <td>13030</td>\n      <td>21860</td>\n      <td>20853</td>\n      <td>28573</td>\n      <td>40574</td>\n      <td>3471</td>\n      <td>...</td>\n      <td>5da958dd46f8266d0737457b_053526f9012ca71531312...</td>\n      <td>-1929</td>\n      <td>21</td>\n      <td>5da958dd46f8266d0737457b</td>\n      <td>5</td>\n      <td>71.990191</td>\n      <td>206.088838</td>\n      <td>053526f9012ca715313120cd</td>\n      <td>0000000000016</td>\n      <td>0</td>\n    </tr>\n    <tr>\n      <th>1</th>\n      <td>14174</td>\n      <td>20746</td>\n      <td>24779</td>\n      <td>19203</td>\n      <td>13030</td>\n      <td>3471</td>\n      <td>40574</td>\n      <td>37109</td>\n      <td>883</td>\n      <td>4372</td>\n      <td>...</td>\n      <td>5da958dd46f8266d0737457b_053526f9012ca71531312...</td>\n      <td>737</td>\n      <td>21</td>\n      <td>5da958dd46f8266d0737457b</td>\n      <td>5</td>\n      <td>72.839717</td>\n      <td>214.199564</td>\n      <td>053526f9012ca715313120cd</td>\n      <td>0000000008481</td>\n      <td>0</td>\n    </tr>\n    <tr>\n      <th>2</th>\n      <td>20746</td>\n      <td>14174</td>\n      <td>24779</td>\n      <td>3471</td>\n      <td>19203</td>\n      <td>13030</td>\n      <td>4372</td>\n      <td>40574</td>\n      <td>28573</td>\n      <td>883</td>\n      <td>...</td>\n      <td>5da958dd46f8266d0737457b_053526f9012ca71531312...</td>\n      <td>411</td>\n      <td>21</td>\n      <td>5da958dd46f8266d0737457b</td>\n      <td>5</td>\n      <td>73.313581</td>\n      <td>219.928065</td>\n      <td>053526f9012ca715313120cd</td>\n      <td>0000000013930</td>\n      <td>0</td>\n    </tr>\n    <tr>\n      <th>3</th>\n      <td>14174</td>\n      <td>20746</td>\n      <td>13030</td>\n      <td>37109</td>\n      <td>19203</td>\n      <td>26902</td>\n      <td>24779</td>\n      <td>883</td>\n      <td>3471</td>\n      <td>4372</td>\n      <td>...</td>\n      <td>5da958dd46f8266d0737457b_053526f9012ca71531312...</td>\n      <td>66</td>\n      <td>21</td>\n      <td>5da958dd46f8266d0737457b</td>\n      <td>5</td>\n      <td>75.541398</td>\n      <td>213.613485</td>\n      <td>053526f9012ca715313120cd</td>\n      <td>0000000033126</td>\n      <td>0</td>\n    </tr>\n    <tr>\n      <th>4</th>\n      <td>14174</td>\n      <td>20746</td>\n      <td>883</td>\n      <td>19203</td>\n      <td>13030</td>\n      <td>26902</td>\n      <td>37109</td>\n      <td>24779</td>\n      <td>28573</td>\n      <td>2436</td>\n      <td>...</td>\n      <td>5da958dd46f8266d0737457b_053526f9012ca71531312...</td>\n      <td>-406</td>\n      <td>21</td>\n      <td>5da958dd46f8266d0737457b</td>\n      <td>5</td>\n      <td>77.906262</td>\n      <td>207.679899</td>\n      <td>053526f9012ca715313120cd</td>\n      <td>0000000044451</td>\n      <td>0</td>\n    </tr>\n    <tr>\n      <th>...</th>\n      <td>...</td>\n      <td>...</td>\n      <td>...</td>\n      <td>...</td>\n      <td>...</td>\n      <td>...</td>\n      <td>...</td>\n      <td>...</td>\n      <td>...</td>\n      <td>...</td>\n      <td>...</td>\n      <td>...</td>\n      <td>...</td>\n      <td>...</td>\n      <td>...</td>\n      <td>...</td>\n      <td>...</td>\n      <td>...</td>\n      <td>...</td>\n      <td>...</td>\n      <td>...</td>\n    </tr>\n    <tr>\n      <th>10128</th>\n      <td>11594</td>\n      <td>17564</td>\n      <td>40044</td>\n      <td>12122</td>\n      <td>21196</td>\n      <td>13256</td>\n      <td>33148</td>\n      <td>2527</td>\n      <td>8149</td>\n      <td>19858</td>\n      <td>...</td>\n      <td>5a0546857ecc773753327266_ffcd9524c80c0fa5bb859...</td>\n      <td>-83</td>\n      <td>0</td>\n      <td>5a0546857ecc773753327266</td>\n      <td>-1</td>\n      <td>133.113342</td>\n      <td>185.880293</td>\n      <td>ffcd9524c80c0fa5bb859eaf</td>\n      <td>0000000035117</td>\n      <td>0</td>\n    </tr>\n    <tr>\n      <th>10129</th>\n      <td>11594</td>\n      <td>17564</td>\n      <td>37044</td>\n      <td>40044</td>\n      <td>13024</td>\n      <td>32766</td>\n      <td>13256</td>\n      <td>21196</td>\n      <td>14692</td>\n      <td>22860</td>\n      <td>...</td>\n      <td>5a0546857ecc773753327266_ffcd9524c80c0fa5bb859...</td>\n      <td>244</td>\n      <td>0</td>\n      <td>5a0546857ecc773753327266</td>\n      <td>-1</td>\n      <td>130.088712</td>\n      <td>187.762661</td>\n      <td>ffcd9524c80c0fa5bb859eaf</td>\n      <td>0000000041230</td>\n      <td>0</td>\n    </tr>\n    <tr>\n      <th>10130</th>\n      <td>11594</td>\n      <td>17564</td>\n      <td>32766</td>\n      <td>630</td>\n      <td>35540</td>\n      <td>9862</td>\n      <td>37044</td>\n      <td>13024</td>\n      <td>18679</td>\n      <td>2306</td>\n      <td>...</td>\n      <td>5a0546857ecc773753327266_ffcd9524c80c0fa5bb859...</td>\n      <td>-708</td>\n      <td>0</td>\n      <td>5a0546857ecc773753327266</td>\n      <td>-1</td>\n      <td>131.369450</td>\n      <td>181.895469</td>\n      <td>ffcd9524c80c0fa5bb859eaf</td>\n      <td>0000000051634</td>\n      <td>0</td>\n    </tr>\n    <tr>\n      <th>10131</th>\n      <td>17564</td>\n      <td>37044</td>\n      <td>11594</td>\n      <td>35540</td>\n      <td>630</td>\n      <td>9862</td>\n      <td>12553</td>\n      <td>24116</td>\n      <td>37754</td>\n      <td>32766</td>\n      <td>...</td>\n      <td>5a0546857ecc773753327266_ffcd9524c80c0fa5bb859...</td>\n      <td>574</td>\n      <td>0</td>\n      <td>5a0546857ecc773753327266</td>\n      <td>-1</td>\n      <td>128.435360</td>\n      <td>175.490526</td>\n      <td>ffcd9524c80c0fa5bb859eaf</td>\n      <td>0000000060483</td>\n      <td>0</td>\n    </tr>\n    <tr>\n      <th>10132</th>\n      <td>11594</td>\n      <td>31512</td>\n      <td>22860</td>\n      <td>14692</td>\n      <td>24116</td>\n      <td>39151</td>\n      <td>19266</td>\n      <td>17564</td>\n      <td>4682</td>\n      <td>34203</td>\n      <td>...</td>\n      <td>5a0546857ecc773753327266_ffcd9524c80c0fa5bb859...</td>\n      <td>-399</td>\n      <td>0</td>\n      <td>5a0546857ecc773753327266</td>\n      <td>-1</td>\n      <td>129.371030</td>\n      <td>169.844116</td>\n      <td>ffcd9524c80c0fa5bb859eaf</td>\n      <td>0000000067146</td>\n      <td>0</td>\n    </tr>\n  </tbody>\n</table>\n<p>10133 rows × 210 columns</p>\n</div>"
     },
     "metadata": {},
     "execution_count": 15
    }
   ],
   "source": [
    "pred = pd.read_csv('../exp008/exp008_costmin_snap2grid_costmin_snap_sub.csv')\n",
    "_test = pd.merge(test, pred, on='site_path_timestamp', how='left')\n",
    "_test = _test.rename(columns={'x':'wifi_x', 'y':'wifi_y'})\n",
    "_test['path'] = _test['site_path_timestamp'].str.split('_', expand=True)[1]\n",
    "_test['timestamp'] = _test['site_path_timestamp'].str.split('_', expand=True)[2]\n",
    "_test['floor_str'] = 0  # dummy value\n",
    "_test"
   ]
  },
  {
   "cell_type": "code",
   "execution_count": 16,
   "metadata": {},
   "outputs": [],
   "source": [
    "# train_dfを上書きしていることに注意\n",
    "_train = train.drop(['x','y'], axis=1).copy()\n",
    "_test = _test.drop(['site_path_timestamp'], axis=1)\n",
    "# _train['is_train'] = 1\n",
    "# _test['is_train'] = 0\n",
    "# whale = pd.concat([_train, _test]).reset_index(drop=True)\n",
    "# whale"
   ]
  },
  {
   "cell_type": "markdown",
   "metadata": {},
   "source": [
    "## PyTorch model\n",
    "- embedding layerが重要  "
   ]
  },
  {
   "cell_type": "code",
   "execution_count": 17,
   "metadata": {},
   "outputs": [],
   "source": [
    "# dataset\n",
    "from torch.utils.data import Dataset, DataLoader\n",
    "class IndoorDataset(Dataset):\n",
    "    def __init__(self, df, phase='train'):\n",
    "        self.df = df\n",
    "        self.phase = phase\n",
    "        self.bssid_feats = df[BSSID_FEATS].values.astype(int)\n",
    "        self.rssi_feats = df[RSSI_FEATS].values.astype(np.float32)\n",
    "        self.site_id = df['site_id'].values.astype(int)\n",
    "\n",
    "        if phase in ['train', 'valid']:\n",
    "            # self.xy = df[['x', 'y']].values.astype(np.float32)\n",
    "            self.xy = df[['wifi_x', 'wifi_y']].values.astype(np.float32)  # wifiにより補正したx,yを使用\n",
    "            self.floor = df['floor'].values.astype(np.float32)\n",
    "        \n",
    "    def __len__(self):\n",
    "        return self.df.shape[0]\n",
    "\n",
    "    def __getitem__(self, idx):\n",
    "        \n",
    "        feature = {\n",
    "            'BSSID_FEATS':self.bssid_feats[idx],\n",
    "            'RSSI_FEATS':self.rssi_feats[idx],\n",
    "            'site_id':self.site_id[idx]\n",
    "        }\n",
    "        if self.phase in ['train', 'valid']:\n",
    "            target = {\n",
    "                'xy':self.xy[idx],\n",
    "                'floor':self.floor[idx]\n",
    "            }\n",
    "        else:\n",
    "            target = {}\n",
    "        return feature, target"
   ]
  },
  {
   "cell_type": "code",
   "execution_count": 18,
   "metadata": {},
   "outputs": [],
   "source": [
    "import torch\n",
    "from torch import nn\n",
    "\n",
    "class LSTMModel(nn.Module):\n",
    "    def __init__(self, wifi_bssids_size, site_count=24, embedding_dim=64):\n",
    "        super(LSTMModel, self).__init__()\n",
    "        # bssid\n",
    "        # ->64次元に圧縮後sequence化にする\n",
    "        # wifi_bssids_sizeが辞書の数を表す\n",
    "        self.embedding_layer1 = nn.Sequential(\n",
    "            nn.Embedding(wifi_bssids_size, embedding_dim),\n",
    "            nn.Flatten(start_dim=-2)            \n",
    "        )\n",
    "        # site\n",
    "        # ->2次元に圧縮後sequence化する\n",
    "        # site_countが辞書の数を表す\n",
    "        self.embedding_layer2 = nn.Sequential(\n",
    "            nn.Embedding(site_count, 2),\n",
    "            nn.Flatten(start_dim=-1)           \n",
    "        )\n",
    "\n",
    "        # rssi\n",
    "        # 次元を64倍に線形変換\n",
    "        self.linear_layer1 = nn.Sequential(\n",
    "            nn.BatchNorm1d(NUM_FEATS),\n",
    "            nn.Linear(NUM_FEATS, NUM_FEATS * embedding_dim),\n",
    "            nn.ReLU()\n",
    "        )\n",
    "        \n",
    "        # bssid, site, rssiの出力size\n",
    "        feature_size = 2 + (2 * NUM_FEATS * embedding_dim)\n",
    "        self.linear_layer2 = nn.Sequential(\n",
    "            nn.BatchNorm1d(feature_size),\n",
    "            nn.Dropout(0.3),\n",
    "            nn.Linear(feature_size, 256),\n",
    "            nn.ReLU()\n",
    "        )\n",
    "\n",
    "        self.batch_norm1 = nn.BatchNorm1d(1)\n",
    "        self.lstm1 = nn.LSTM(input_size=256,hidden_size=128,dropout=0.3, batch_first=True)\n",
    "        self.lstm2 = nn.LSTM(input_size=128,hidden_size=16,dropout=0.1, batch_first=True)\n",
    "\n",
    "        self.fc_xy = nn.Linear(16, 2)\n",
    "        # self.fc_x = nn.Linear(16, 1)\n",
    "        # self.fc_y = nn.Linear(16, 1)\n",
    "        self.fc_floor = nn.Linear(16, 1)\n",
    "\n",
    "    \n",
    "    def forward(self, x):\n",
    "        # input embedding\n",
    "        batch_size = x[\"site_id\"].shape[0]\n",
    "        x_bssid = self.embedding_layer1(x['BSSID_FEATS'])\n",
    "        x_site_id = self.embedding_layer2(x['site_id'])\n",
    "        x_rssi = self.linear_layer1(x['RSSI_FEATS'])\n",
    "        x = torch.cat([x_bssid, x_site_id, x_rssi], dim=-1)\n",
    "        x = self.linear_layer2(x)\n",
    "\n",
    "        # lstm layer\n",
    "        x = x.view(batch_size, 1, -1)  # [batch, 1]->[batch, 1, 1]\n",
    "        x = self.batch_norm1(x)\n",
    "        x, _ = self.lstm1(x)\n",
    "        x = torch.relu(x)\n",
    "        x, _ = self.lstm2(x)\n",
    "        x = torch.relu(x)\n",
    "\n",
    "        # output [batch, 1, 1] -> [batch]\n",
    "        # x_ = self.fc_x(x).view(-1)\n",
    "        # y_ = self.fc_y(x).view(-1)\n",
    "        xy = self.fc_xy(x).squeeze(1)\n",
    "        floor = torch.relu(self.fc_floor(x)).view(-1)\n",
    "        # return {\"x\":x_, \"y\":y_, \"floor\":floor} \n",
    "        return {\"xy\": xy, \"floor\": floor}"
   ]
  },
  {
   "cell_type": "code",
   "execution_count": 19,
   "metadata": {},
   "outputs": [],
   "source": [
    "def mean_position_error(xhat, yhat, fhat, x, y, f):\n",
    "    intermediate = np.sqrt(np.power(xhat-x, 2) + np.power(yhat-y, 2)) + 15 * np.abs(fhat-f)\n",
    "    return intermediate.sum()/xhat.shape[0]\n",
    "\n",
    "def to_np(input):\n",
    "    return input.detach().cpu().numpy()"
   ]
  },
  {
   "cell_type": "code",
   "execution_count": 20,
   "metadata": {},
   "outputs": [],
   "source": [
    "def get_optimizer(model: nn.Module, config: dict):\n",
    "    optimizer_config = config[\"optimizer\"]\n",
    "    optimizer_name = optimizer_config.get(\"name\")\n",
    "    base_optimizer_name = optimizer_config.get(\"base_name\")\n",
    "    optimizer_params = optimizer_config['params']\n",
    "\n",
    "    if hasattr(optim, optimizer_name):\n",
    "        optimizer = optim.__getattribute__(optimizer_name)(model.parameters(), **optimizer_params)\n",
    "        return optimizer\n",
    "    else:\n",
    "        base_optimizer = optim.__getattribute__(base_optimizer_name)\n",
    "        optimizer = globals().get(optimizer_name)(\n",
    "            model.parameters(), \n",
    "            base_optimizer,\n",
    "            **optimizer_config[\"params\"])\n",
    "        return  optimizer\n",
    "\n",
    "def get_scheduler(optimizer, config: dict):\n",
    "    scheduler_config = config[\"scheduler\"]\n",
    "    scheduler_name = scheduler_config.get(\"name\")\n",
    "\n",
    "    if scheduler_name is None:\n",
    "        return\n",
    "    else:\n",
    "        return optim.lr_scheduler.__getattribute__(scheduler_name)(\n",
    "            optimizer, **scheduler_config[\"params\"])\n",
    "\n",
    "\n",
    "def get_criterion(config: dict):\n",
    "    loss_config = config[\"loss\"]\n",
    "    loss_name = loss_config[\"name\"]\n",
    "    loss_params = {} if loss_config.get(\"params\") is None else loss_config.get(\"params\")\n",
    "    if hasattr(nn, loss_name):\n",
    "        criterion = nn.__getattribute__(loss_name)(**loss_params)\n",
    "    else:\n",
    "        criterion = globals().get(loss_name)(**loss_params)\n",
    "\n",
    "    return criterion\n",
    "\n",
    "def worker_init_fn(worker_id):                                                          \n",
    "    np.random.seed(np.random.get_state()[1][0] + worker_id)"
   ]
  },
  {
   "cell_type": "code",
   "execution_count": 21,
   "metadata": {},
   "outputs": [],
   "source": [
    "# Learner class(pytorch-lighting)\n",
    "class Learner(pl.LightningModule):\n",
    "    def __init__(self, model, config):\n",
    "        super().__init__()\n",
    "        self.model = model\n",
    "        self.config = config\n",
    "        self.xy_criterion = get_criterion(config)\n",
    "        self.f_criterion = get_criterion(config)\n",
    "    \n",
    "    def training_step(self, batch, batch_idx):\n",
    "        x, y = batch\n",
    "        output = self.model(x)\n",
    "        loss = self.xy_criterion(output[\"xy\"], y[\"xy\"])\n",
    "        return loss\n",
    "    \n",
    "    def validation_step(self, batch, batch_idx):\n",
    "        x, y = batch\n",
    "        output = self.model(x)\n",
    "        xy_loss = self.xy_criterion(output[\"xy\"], y[\"xy\"])\n",
    "        f_loss = self.f_criterion(output[\"floor\"], y[\"floor\"])\n",
    "        loss = xy_loss  # + f_loss\n",
    "        mpe = mean_position_error(\n",
    "            to_np(output['xy'][:, 0]), to_np(output['xy'][:, 1]), 0, \n",
    "            to_np(y['xy'][:, 0]), to_np(y['xy'][:, 1]), 0)\n",
    "        \n",
    "        # floor lossは現状は無視して良い\n",
    "        self.log(f'Loss/val', loss, on_step=False, on_epoch=True, prog_bar=False, logger=True)\n",
    "        self.log(f'Loss/xy', xy_loss, on_step=False, on_epoch=True, prog_bar=False, logger=True)\n",
    "        self.log(f'Loss/floor', f_loss, on_step=False, on_epoch=True, prog_bar=False, logger=True)\n",
    "        self.log(f'MPE/val', mpe, on_step=False, on_epoch=True, prog_bar=False, logger=True)\n",
    "        return loss\n",
    "\n",
    "    def configure_optimizers(self):\n",
    "        optimizer = get_optimizer(self.model, self.config)\n",
    "        scheduler = get_scheduler(optimizer, self.config)\n",
    "        return {\"optimizer\": optimizer, \"lr_scheduler\": scheduler, \"monitor\": \"Loss/val\"}"
   ]
  },
  {
   "cell_type": "code",
   "execution_count": 22,
   "metadata": {},
   "outputs": [],
   "source": [
    "# oof\n",
    "def evaluate(model, loaders, phase):\n",
    "    x_list = []\n",
    "    y_list = []\n",
    "    f_list = []\n",
    "    with torch.no_grad():\n",
    "        for batch in loaders[phase]:\n",
    "            x, y = batch\n",
    "            output = model(x)\n",
    "            x_list.append(to_np(output['xy'][:, 0]))\n",
    "            y_list.append(to_np(output['xy'][:, 1]))\n",
    "            f_list.append(to_np(output['floor']))\n",
    "\n",
    "    x_list = np.concatenate(x_list)\n",
    "    y_list = np.concatenate(y_list)\n",
    "    f_list = np.concatenate(f_list)\n",
    "    return x_list, y_list, f_list"
   ]
  },
  {
   "cell_type": "markdown",
   "metadata": {},
   "source": [
    "## train"
   ]
  },
  {
   "cell_type": "code",
   "execution_count": 23,
   "metadata": {
    "tags": []
   },
   "outputs": [
    {
     "output_type": "stream",
     "name": "stdout",
     "text": [
      "====================\n",
      "Fold 0\n",
      "====================\n",
      "/usr/local/lib/python3.8/dist-packages/torch/nn/modules/rnn.py:58: UserWarning: dropout option adds dropout after all but last recurrent layer, so non-zero dropout expects num_layers greater than 1, but got dropout=0.3 and num_layers=1\n",
      "  warnings.warn(\"dropout option adds dropout after all but last \"\n",
      "/usr/local/lib/python3.8/dist-packages/torch/nn/modules/rnn.py:58: UserWarning: dropout option adds dropout after all but last recurrent layer, so non-zero dropout expects num_layers greater than 1, but got dropout=0.1 and num_layers=1\n",
      "  warnings.warn(\"dropout option adds dropout after all but last \"\n",
      "Failed to detect the name of this notebook, you can set it manually with the WANDB_NOTEBOOK_NAME environment variable to enable code saving.\n",
      "\u001b[34m\u001b[1mwandb\u001b[0m: Currently logged in as: \u001b[33mkuto5046\u001b[0m (use `wandb login --relogin` to force relogin)\n",
      "\u001b[34m\u001b[1mwandb\u001b[0m: wandb version 0.10.25 is available!  To upgrade, please run:\n",
      "\u001b[34m\u001b[1mwandb\u001b[0m:  $ pip install wandb --upgrade\n"
     ]
    },
    {
     "output_type": "display_data",
     "data": {
      "text/plain": "<IPython.core.display.HTML object>",
      "text/html": "\n                Tracking run with wandb version 0.10.22<br/>\n                Syncing run <strong style=\"color:#cdcd00\">tough-snowflake-291</strong> to <a href=\"https://wandb.ai\" target=\"_blank\">Weights & Biases</a> <a href=\"https://docs.wandb.com/integrations/jupyter.html\" target=\"_blank\">(Documentation)</a>.<br/>\n                Project page: <a href=\"https://wandb.ai/kuto5046/indoor\" target=\"_blank\">https://wandb.ai/kuto5046/indoor</a><br/>\n                Run page: <a href=\"https://wandb.ai/kuto5046/indoor/runs/23wgzxld\" target=\"_blank\">https://wandb.ai/kuto5046/indoor/runs/23wgzxld</a><br/>\n                Run data is saved locally in <code>/home/user/work/exp/exp011/wandb/run-20210408_090334-23wgzxld</code><br/><br/>\n            "
     },
     "metadata": {}
    },
    {
     "output_type": "stream",
     "name": "stderr",
     "text": [
      "GPU available: True, used: True\n",
      "TPU available: None, using: 0 TPU cores\n",
      "\n",
      "  | Name         | Type      | Params\n",
      "-------------------------------------------\n",
      "0 | model        | LSTMModel | 5.9 M \n",
      "1 | xy_criterion | MSELoss   | 0     \n",
      "2 | f_criterion  | MSELoss   | 0     \n",
      "-------------------------------------------\n",
      "5.9 M     Trainable params\n",
      "0         Non-trainable params\n",
      "5.9 M     Total params\n",
      "23.632    Total estimated model params size (MB)\n",
      "fold 0: mean position error 7.5882428237009085\n"
     ]
    },
    {
     "output_type": "display_data",
     "data": {
      "text/plain": "<IPython.core.display.HTML object>",
      "text/html": "<br/>Waiting for W&B process to finish, PID 1171401<br/>Program ended successfully."
     },
     "metadata": {}
    },
    {
     "output_type": "display_data",
     "data": {
      "text/plain": "VBox(children=(Label(value=' 0.00MB of 0.00MB uploaded (0.00MB deduped)\\r'), FloatProgress(value=1.0, max=1.0)…",
      "application/vnd.jupyter.widget-view+json": {
       "version_major": 2,
       "version_minor": 0,
       "model_id": "8d06b4db3c854adfaa6df6c0083d4238"
      }
     },
     "metadata": {}
    },
    {
     "output_type": "display_data",
     "data": {
      "text/plain": "<IPython.core.display.HTML object>",
      "text/html": "Find user logs for this run at: <code>/home/user/work/exp/exp011/wandb/run-20210408_090334-23wgzxld/logs/debug.log</code>"
     },
     "metadata": {}
    },
    {
     "output_type": "display_data",
     "data": {
      "text/plain": "<IPython.core.display.HTML object>",
      "text/html": "Find internal logs for this run at: <code>/home/user/work/exp/exp011/wandb/run-20210408_090334-23wgzxld/logs/debug-internal.log</code>"
     },
     "metadata": {}
    },
    {
     "output_type": "display_data",
     "data": {
      "text/plain": "<IPython.core.display.HTML object>",
      "text/html": "<h3>Run summary:</h3><br/><style>\n    table.wandb td:nth-child(1) { padding: 0 10px; text-align: right }\n    </style><table class=\"wandb\">\n<tr><td>Loss/val</td><td>48.86908</td></tr><tr><td>Loss/xy</td><td>48.86908</td></tr><tr><td>Loss/floor</td><td>5.37694</td></tr><tr><td>MPE/val</td><td>7.5883</td></tr><tr><td>epoch</td><td>30</td></tr><tr><td>trainer/global_step</td><td>13019</td></tr><tr><td>_runtime</td><td>129</td></tr><tr><td>_timestamp</td><td>1617840343</td></tr><tr><td>_step</td><td>30</td></tr></table>"
     },
     "metadata": {}
    },
    {
     "output_type": "display_data",
     "data": {
      "text/plain": "<IPython.core.display.HTML object>",
      "text/html": "<h3>Run history:</h3><br/><style>\n    table.wandb td:nth-child(1) { padding: 0 10px; text-align: right }\n    </style><table class=\"wandb\">\n<tr><td>Loss/val</td><td>▆▆▄▅▄▆▆▅▄▆▃▆██▆▃▇▂▅▆▁▅▅▃▂▆▃▂▃▃▅</td></tr><tr><td>Loss/xy</td><td>▆▆▄▅▄▆▆▅▄▆▃▆██▆▃▇▂▅▆▁▅▅▃▂▆▃▂▃▃▅</td></tr><tr><td>Loss/floor</td><td>▇█▆▆▂▃▄▄▃▅▄▃▁▃▃▃▂▄▃▃▄▄▂▄▃▃▄▃▃▃▄</td></tr><tr><td>MPE/val</td><td>█▇▄▆▅▅▄▃▃▄▂▅▆▇▅▁▄▂▄▄▁▃▄▂▁▄▂▂▂▂▃</td></tr><tr><td>epoch</td><td>▁▁▁▂▂▂▂▃▃▃▃▄▄▄▄▅▅▅▅▅▆▆▆▆▇▇▇▇███</td></tr><tr><td>trainer/global_step</td><td>▁▁▁▂▂▂▂▃▃▃▃▄▄▄▄▅▅▅▅▅▆▆▆▆▇▇▇▇███</td></tr><tr><td>_runtime</td><td>▁▁▁▂▂▂▂▃▃▃▃▄▄▄▄▅▅▅▅▅▆▆▆▆▇▇▇▇███</td></tr><tr><td>_timestamp</td><td>▁▁▁▂▂▂▂▃▃▃▃▄▄▄▄▅▅▅▅▅▆▆▆▆▇▇▇▇███</td></tr><tr><td>_step</td><td>▁▁▁▂▂▂▂▃▃▃▃▄▄▄▄▅▅▅▅▅▆▆▆▆▇▇▇▇███</td></tr></table><br/>"
     },
     "metadata": {}
    },
    {
     "output_type": "display_data",
     "data": {
      "text/plain": "<IPython.core.display.HTML object>",
      "text/html": "Synced 5 W&B file(s), 1 media file(s), 0 artifact file(s) and 0 other file(s)"
     },
     "metadata": {}
    },
    {
     "output_type": "display_data",
     "data": {
      "text/plain": "<IPython.core.display.HTML object>",
      "text/html": "\n                    <br/>Synced <strong style=\"color:#cdcd00\">tough-snowflake-291</strong>: <a href=\"https://wandb.ai/kuto5046/indoor/runs/23wgzxld\" target=\"_blank\">https://wandb.ai/kuto5046/indoor/runs/23wgzxld</a><br/>\n                "
     },
     "metadata": {}
    },
    {
     "output_type": "stream",
     "name": "stdout",
     "text": [
      "====================\n",
      "Fold 1\n",
      "====================\n",
      "\u001b[34m\u001b[1mwandb\u001b[0m: wandb version 0.10.25 is available!  To upgrade, please run:\n",
      "\u001b[34m\u001b[1mwandb\u001b[0m:  $ pip install wandb --upgrade\n"
     ]
    },
    {
     "output_type": "display_data",
     "data": {
      "text/plain": "<IPython.core.display.HTML object>",
      "text/html": "\n                Tracking run with wandb version 0.10.22<br/>\n                Syncing run <strong style=\"color:#cdcd00\">eager-serenity-292</strong> to <a href=\"https://wandb.ai\" target=\"_blank\">Weights & Biases</a> <a href=\"https://docs.wandb.com/integrations/jupyter.html\" target=\"_blank\">(Documentation)</a>.<br/>\n                Project page: <a href=\"https://wandb.ai/kuto5046/indoor\" target=\"_blank\">https://wandb.ai/kuto5046/indoor</a><br/>\n                Run page: <a href=\"https://wandb.ai/kuto5046/indoor/runs/38sxdpbp\" target=\"_blank\">https://wandb.ai/kuto5046/indoor/runs/38sxdpbp</a><br/>\n                Run data is saved locally in <code>/home/user/work/exp/exp011/wandb/run-20210408_090551-38sxdpbp</code><br/><br/>\n            "
     },
     "metadata": {}
    },
    {
     "output_type": "stream",
     "name": "stderr",
     "text": [
      "GPU available: True, used: True\n",
      "TPU available: None, using: 0 TPU cores\n",
      "\n",
      "  | Name         | Type      | Params\n",
      "-------------------------------------------\n",
      "0 | model        | LSTMModel | 5.9 M \n",
      "1 | xy_criterion | MSELoss   | 0     \n",
      "2 | f_criterion  | MSELoss   | 0     \n",
      "-------------------------------------------\n",
      "5.9 M     Trainable params\n",
      "0         Non-trainable params\n",
      "5.9 M     Total params\n",
      "23.632    Total estimated model params size (MB)\n",
      "fold 1: mean position error 7.383078817594049\n"
     ]
    },
    {
     "output_type": "display_data",
     "data": {
      "text/plain": "<IPython.core.display.HTML object>",
      "text/html": "<br/>Waiting for W&B process to finish, PID 1173283<br/>Program ended successfully."
     },
     "metadata": {}
    },
    {
     "output_type": "display_data",
     "data": {
      "text/plain": "VBox(children=(Label(value=' 0.00MB of 0.00MB uploaded (0.00MB deduped)\\r'), FloatProgress(value=1.0, max=1.0)…",
      "application/vnd.jupyter.widget-view+json": {
       "version_major": 2,
       "version_minor": 0,
       "model_id": "7c25859e41134497a8bc12ad270124b8"
      }
     },
     "metadata": {}
    },
    {
     "output_type": "display_data",
     "data": {
      "text/plain": "<IPython.core.display.HTML object>",
      "text/html": "Find user logs for this run at: <code>/home/user/work/exp/exp011/wandb/run-20210408_090551-38sxdpbp/logs/debug.log</code>"
     },
     "metadata": {}
    },
    {
     "output_type": "display_data",
     "data": {
      "text/plain": "<IPython.core.display.HTML object>",
      "text/html": "Find internal logs for this run at: <code>/home/user/work/exp/exp011/wandb/run-20210408_090551-38sxdpbp/logs/debug-internal.log</code>"
     },
     "metadata": {}
    },
    {
     "output_type": "display_data",
     "data": {
      "text/plain": "<IPython.core.display.HTML object>",
      "text/html": "<h3>Run summary:</h3><br/><style>\n    table.wandb td:nth-child(1) { padding: 0 10px; text-align: right }\n    </style><table class=\"wandb\">\n<tr><td>Loss/val</td><td>43.21696</td></tr><tr><td>Loss/xy</td><td>43.21696</td></tr><tr><td>Loss/floor</td><td>5.2511</td></tr><tr><td>MPE/val</td><td>7.38302</td></tr><tr><td>epoch</td><td>38</td></tr><tr><td>trainer/global_step</td><td>16379</td></tr><tr><td>_runtime</td><td>162</td></tr><tr><td>_timestamp</td><td>1617840513</td></tr><tr><td>_step</td><td>38</td></tr></table>"
     },
     "metadata": {}
    },
    {
     "output_type": "display_data",
     "data": {
      "text/plain": "<IPython.core.display.HTML object>",
      "text/html": "<h3>Run history:</h3><br/><style>\n    table.wandb td:nth-child(1) { padding: 0 10px; text-align: right }\n    </style><table class=\"wandb\">\n<tr><td>Loss/val</td><td>█▆▇▅▄▆▅▄▄▅▄▄▄▃▄▄▃▂▂▄▂▃▄▂▂▂▁▂▁▂▂▁▂▁▁▂▂▂▁</td></tr><tr><td>Loss/xy</td><td>█▆▇▅▄▆▅▄▄▅▄▄▄▃▄▄▃▂▂▄▂▃▄▂▂▂▁▂▁▂▂▁▂▁▁▂▂▂▁</td></tr><tr><td>Loss/floor</td><td>▁▂▂▃▃▃▃▅▄▁▄▄▄▆▄▄▅▄▇▅▇▆▆▇▇▇▇▇▇▇▇█▇▇█▇▇▇▇</td></tr><tr><td>MPE/val</td><td>█▇▇▆▅▅▆▅▅▆▅▄▄▃▄▄▄▃▃▅▂▄▄▂▂▁▁▁▁▂▁▁▂▂▁▁▂▃▁</td></tr><tr><td>epoch</td><td>▁▁▁▂▂▂▂▂▂▃▃▃▃▃▄▄▄▄▄▅▅▅▅▅▅▆▆▆▆▆▇▇▇▇▇▇███</td></tr><tr><td>trainer/global_step</td><td>▁▁▁▂▂▂▂▂▂▃▃▃▃▃▄▄▄▄▄▅▅▅▅▅▅▆▆▆▆▆▇▇▇▇▇▇███</td></tr><tr><td>_runtime</td><td>▁▁▁▂▂▂▂▂▃▃▃▃▃▃▄▄▄▄▄▅▅▅▅▅▅▆▆▆▆▆▇▇▇▇▇▇███</td></tr><tr><td>_timestamp</td><td>▁▁▁▂▂▂▂▂▃▃▃▃▃▃▄▄▄▄▄▅▅▅▅▅▅▆▆▆▆▆▇▇▇▇▇▇███</td></tr><tr><td>_step</td><td>▁▁▁▂▂▂▂▂▂▃▃▃▃▃▄▄▄▄▄▅▅▅▅▅▅▆▆▆▆▆▇▇▇▇▇▇███</td></tr></table><br/>"
     },
     "metadata": {}
    },
    {
     "output_type": "display_data",
     "data": {
      "text/plain": "<IPython.core.display.HTML object>",
      "text/html": "Synced 5 W&B file(s), 1 media file(s), 0 artifact file(s) and 0 other file(s)"
     },
     "metadata": {}
    },
    {
     "output_type": "display_data",
     "data": {
      "text/plain": "<IPython.core.display.HTML object>",
      "text/html": "\n                    <br/>Synced <strong style=\"color:#cdcd00\">eager-serenity-292</strong>: <a href=\"https://wandb.ai/kuto5046/indoor/runs/38sxdpbp\" target=\"_blank\">https://wandb.ai/kuto5046/indoor/runs/38sxdpbp</a><br/>\n                "
     },
     "metadata": {}
    },
    {
     "output_type": "stream",
     "name": "stdout",
     "text": [
      "====================\n",
      "Fold 2\n",
      "====================\n",
      "\u001b[34m\u001b[1mwandb\u001b[0m: wandb version 0.10.25 is available!  To upgrade, please run:\n",
      "\u001b[34m\u001b[1mwandb\u001b[0m:  $ pip install wandb --upgrade\n"
     ]
    },
    {
     "output_type": "display_data",
     "data": {
      "text/plain": "<IPython.core.display.HTML object>",
      "text/html": "\n                Tracking run with wandb version 0.10.22<br/>\n                Syncing run <strong style=\"color:#cdcd00\">fallen-universe-293</strong> to <a href=\"https://wandb.ai\" target=\"_blank\">Weights & Biases</a> <a href=\"https://docs.wandb.com/integrations/jupyter.html\" target=\"_blank\">(Documentation)</a>.<br/>\n                Project page: <a href=\"https://wandb.ai/kuto5046/indoor\" target=\"_blank\">https://wandb.ai/kuto5046/indoor</a><br/>\n                Run page: <a href=\"https://wandb.ai/kuto5046/indoor/runs/32bt4gze\" target=\"_blank\">https://wandb.ai/kuto5046/indoor/runs/32bt4gze</a><br/>\n                Run data is saved locally in <code>/home/user/work/exp/exp011/wandb/run-20210408_090841-32bt4gze</code><br/><br/>\n            "
     },
     "metadata": {}
    },
    {
     "output_type": "stream",
     "name": "stderr",
     "text": [
      "GPU available: True, used: True\n",
      "TPU available: None, using: 0 TPU cores\n",
      "\n",
      "  | Name         | Type      | Params\n",
      "-------------------------------------------\n",
      "0 | model        | LSTMModel | 5.9 M \n",
      "1 | xy_criterion | MSELoss   | 0     \n",
      "2 | f_criterion  | MSELoss   | 0     \n",
      "-------------------------------------------\n",
      "5.9 M     Trainable params\n",
      "0         Non-trainable params\n",
      "5.9 M     Total params\n",
      "23.632    Total estimated model params size (MB)\n",
      "fold 2: mean position error 7.11851489679354\n"
     ]
    },
    {
     "output_type": "display_data",
     "data": {
      "text/plain": "<IPython.core.display.HTML object>",
      "text/html": "<br/>Waiting for W&B process to finish, PID 1175498<br/>Program ended successfully."
     },
     "metadata": {}
    },
    {
     "output_type": "display_data",
     "data": {
      "text/plain": "VBox(children=(Label(value=' 0.00MB of 0.00MB uploaded (0.00MB deduped)\\r'), FloatProgress(value=1.0, max=1.0)…",
      "application/vnd.jupyter.widget-view+json": {
       "version_major": 2,
       "version_minor": 0,
       "model_id": "6309c98519fe4078ad782cb7d4b92ded"
      }
     },
     "metadata": {}
    },
    {
     "output_type": "display_data",
     "data": {
      "text/plain": "<IPython.core.display.HTML object>",
      "text/html": "Find user logs for this run at: <code>/home/user/work/exp/exp011/wandb/run-20210408_090841-32bt4gze/logs/debug.log</code>"
     },
     "metadata": {}
    },
    {
     "output_type": "display_data",
     "data": {
      "text/plain": "<IPython.core.display.HTML object>",
      "text/html": "Find internal logs for this run at: <code>/home/user/work/exp/exp011/wandb/run-20210408_090841-32bt4gze/logs/debug-internal.log</code>"
     },
     "metadata": {}
    },
    {
     "output_type": "display_data",
     "data": {
      "text/plain": "<IPython.core.display.HTML object>",
      "text/html": "<h3>Run summary:</h3><br/><style>\n    table.wandb td:nth-child(1) { padding: 0 10px; text-align: right }\n    </style><table class=\"wandb\">\n<tr><td>Loss/val</td><td>40.48072</td></tr><tr><td>Loss/xy</td><td>40.48072</td></tr><tr><td>Loss/floor</td><td>4.3201</td></tr><tr><td>MPE/val</td><td>7.11884</td></tr><tr><td>epoch</td><td>39</td></tr><tr><td>trainer/global_step</td><td>16799</td></tr><tr><td>_runtime</td><td>170</td></tr><tr><td>_timestamp</td><td>1617840691</td></tr><tr><td>_step</td><td>39</td></tr></table>"
     },
     "metadata": {}
    },
    {
     "output_type": "display_data",
     "data": {
      "text/plain": "<IPython.core.display.HTML object>",
      "text/html": "<h3>Run history:</h3><br/><style>\n    table.wandb td:nth-child(1) { padding: 0 10px; text-align: right }\n    </style><table class=\"wandb\">\n<tr><td>Loss/val</td><td>▇▆▆▆▆▇▅▇▅▅▅▄▄▄▃▃▃▃▃▄▄▃▄▂▇█▂▂▂▁▃▁▄▁▂▂▃▂▂▁</td></tr><tr><td>Loss/xy</td><td>▇▆▆▆▆▇▅▇▅▅▅▄▄▄▃▃▃▃▃▄▄▃▄▂▇█▂▂▂▁▃▁▄▁▂▂▃▂▂▁</td></tr><tr><td>Loss/floor</td><td>█▆█▆▆▆▇▆▅▆▄▄▄▄▅▄▃▄▃▂▃▂▂▃▂▁▃▂▂▂▂▂▂▂▂▂▁▂▁▂</td></tr><tr><td>MPE/val</td><td>▇▆▆▆▆█▅▇█▄▅▄▅▅▄▄▃▄▄▆▄▂▃▃▃▄▃▂▁▁▂▁▂▁▁▁▄▂▁▁</td></tr><tr><td>epoch</td><td>▁▁▁▂▂▂▂▂▂▃▃▃▃▃▄▄▄▄▄▄▅▅▅▅▅▅▆▆▆▆▆▇▇▇▇▇▇███</td></tr><tr><td>trainer/global_step</td><td>▁▁▁▂▂▂▂▂▂▃▃▃▃▃▄▄▄▄▄▄▅▅▅▅▅▅▆▆▆▆▆▇▇▇▇▇▇███</td></tr><tr><td>_runtime</td><td>▁▁▁▂▂▂▂▂▂▃▃▃▃▃▄▄▄▄▄▄▅▅▅▅▅▆▆▆▆▆▆▇▇▇▇▇▇███</td></tr><tr><td>_timestamp</td><td>▁▁▁▂▂▂▂▂▂▃▃▃▃▃▄▄▄▄▄▄▅▅▅▅▅▆▆▆▆▆▆▇▇▇▇▇▇███</td></tr><tr><td>_step</td><td>▁▁▁▂▂▂▂▂▂▃▃▃▃▃▄▄▄▄▄▄▅▅▅▅▅▅▆▆▆▆▆▇▇▇▇▇▇███</td></tr></table><br/>"
     },
     "metadata": {}
    },
    {
     "output_type": "display_data",
     "data": {
      "text/plain": "<IPython.core.display.HTML object>",
      "text/html": "Synced 5 W&B file(s), 1 media file(s), 0 artifact file(s) and 0 other file(s)"
     },
     "metadata": {}
    },
    {
     "output_type": "display_data",
     "data": {
      "text/plain": "<IPython.core.display.HTML object>",
      "text/html": "\n                    <br/>Synced <strong style=\"color:#cdcd00\">fallen-universe-293</strong>: <a href=\"https://wandb.ai/kuto5046/indoor/runs/32bt4gze\" target=\"_blank\">https://wandb.ai/kuto5046/indoor/runs/32bt4gze</a><br/>\n                "
     },
     "metadata": {}
    },
    {
     "output_type": "stream",
     "name": "stdout",
     "text": [
      "====================\n",
      "Fold 3\n",
      "====================\n",
      "\u001b[34m\u001b[1mwandb\u001b[0m: wandb version 0.10.25 is available!  To upgrade, please run:\n",
      "\u001b[34m\u001b[1mwandb\u001b[0m:  $ pip install wandb --upgrade\n"
     ]
    },
    {
     "output_type": "display_data",
     "data": {
      "text/plain": "<IPython.core.display.HTML object>",
      "text/html": "\n                Tracking run with wandb version 0.10.22<br/>\n                Syncing run <strong style=\"color:#cdcd00\">glamorous-cosmos-294</strong> to <a href=\"https://wandb.ai\" target=\"_blank\">Weights & Biases</a> <a href=\"https://docs.wandb.com/integrations/jupyter.html\" target=\"_blank\">(Documentation)</a>.<br/>\n                Project page: <a href=\"https://wandb.ai/kuto5046/indoor\" target=\"_blank\">https://wandb.ai/kuto5046/indoor</a><br/>\n                Run page: <a href=\"https://wandb.ai/kuto5046/indoor/runs/1qe1c7yd\" target=\"_blank\">https://wandb.ai/kuto5046/indoor/runs/1qe1c7yd</a><br/>\n                Run data is saved locally in <code>/home/user/work/exp/exp011/wandb/run-20210408_091138-1qe1c7yd</code><br/><br/>\n            "
     },
     "metadata": {}
    },
    {
     "output_type": "stream",
     "name": "stderr",
     "text": [
      "GPU available: True, used: True\n",
      "TPU available: None, using: 0 TPU cores\n",
      "\n",
      "  | Name         | Type      | Params\n",
      "-------------------------------------------\n",
      "0 | model        | LSTMModel | 5.9 M \n",
      "1 | xy_criterion | MSELoss   | 0     \n",
      "2 | f_criterion  | MSELoss   | 0     \n",
      "-------------------------------------------\n",
      "5.9 M     Trainable params\n",
      "0         Non-trainable params\n",
      "5.9 M     Total params\n",
      "23.632    Total estimated model params size (MB)\n",
      "fold 3: mean position error 7.788446978576601\n"
     ]
    },
    {
     "output_type": "display_data",
     "data": {
      "text/plain": "<IPython.core.display.HTML object>",
      "text/html": "<br/>Waiting for W&B process to finish, PID 1177763<br/>Program ended successfully."
     },
     "metadata": {}
    },
    {
     "output_type": "display_data",
     "data": {
      "text/plain": "VBox(children=(Label(value=' 0.00MB of 0.00MB uploaded (0.00MB deduped)\\r'), FloatProgress(value=1.0, max=1.0)…",
      "application/vnd.jupyter.widget-view+json": {
       "version_major": 2,
       "version_minor": 0,
       "model_id": "b39a56840bfa4476b1a420796b755030"
      }
     },
     "metadata": {}
    },
    {
     "output_type": "display_data",
     "data": {
      "text/plain": "<IPython.core.display.HTML object>",
      "text/html": "Find user logs for this run at: <code>/home/user/work/exp/exp011/wandb/run-20210408_091138-1qe1c7yd/logs/debug.log</code>"
     },
     "metadata": {}
    },
    {
     "output_type": "display_data",
     "data": {
      "text/plain": "<IPython.core.display.HTML object>",
      "text/html": "Find internal logs for this run at: <code>/home/user/work/exp/exp011/wandb/run-20210408_091138-1qe1c7yd/logs/debug-internal.log</code>"
     },
     "metadata": {}
    },
    {
     "output_type": "display_data",
     "data": {
      "text/plain": "<IPython.core.display.HTML object>",
      "text/html": "<h3>Run summary:</h3><br/><style>\n    table.wandb td:nth-child(1) { padding: 0 10px; text-align: right }\n    </style><table class=\"wandb\">\n<tr><td>Loss/val</td><td>54.08873</td></tr><tr><td>Loss/xy</td><td>54.08873</td></tr><tr><td>Loss/floor</td><td>4.4006</td></tr><tr><td>MPE/val</td><td>7.78805</td></tr><tr><td>epoch</td><td>66</td></tr><tr><td>trainer/global_step</td><td>28139</td></tr><tr><td>_runtime</td><td>287</td></tr><tr><td>_timestamp</td><td>1617840986</td></tr><tr><td>_step</td><td>66</td></tr></table>"
     },
     "metadata": {}
    },
    {
     "output_type": "display_data",
     "data": {
      "text/plain": "<IPython.core.display.HTML object>",
      "text/html": "<h3>Run history:</h3><br/><style>\n    table.wandb td:nth-child(1) { padding: 0 10px; text-align: right }\n    </style><table class=\"wandb\">\n<tr><td>Loss/val</td><td>█▆▆▅█▅▇▄▃▃▃▃▂▂▂▂▅▄▂▁▂▁▁▆▂▁▁▆▂▂▁▃▃▁▁▁▂▁▄▁</td></tr><tr><td>Loss/xy</td><td>█▆▆▅█▅▇▄▃▃▃▃▂▂▂▂▅▄▂▁▂▁▁▆▂▁▁▆▂▂▁▃▃▁▁▁▂▁▄▁</td></tr><tr><td>Loss/floor</td><td>█▇█▇▄▇▅▆▅▄▇▃▃▂▃▁▂▂▃▃▄▂▂▃▂▁▃▂▄▃▃▃▂▂▃▃▃▃▅▃</td></tr><tr><td>MPE/val</td><td>███▆▇▇▅▅▄▄▄▄▄▃▃▂▃▂▂▁▁▁▂▂▂▂▂▂▂▂▁▂▂▂▁▁▃▂▂▂</td></tr><tr><td>epoch</td><td>▁▁▁▂▂▂▂▂▂▃▃▃▃▃▃▄▄▄▄▄▅▅▅▅▅▅▆▆▆▆▆▇▇▇▇▇▇███</td></tr><tr><td>trainer/global_step</td><td>▁▁▁▂▂▂▂▂▂▃▃▃▃▃▃▄▄▄▄▄▅▅▅▅▅▅▆▆▆▆▆▇▇▇▇▇▇███</td></tr><tr><td>_runtime</td><td>▁▁▁▂▂▂▂▂▂▃▃▃▃▃▄▄▄▄▄▄▅▅▅▅▅▆▆▆▆▆▆▇▇▇▇▇▇███</td></tr><tr><td>_timestamp</td><td>▁▁▁▂▂▂▂▂▂▃▃▃▃▃▄▄▄▄▄▄▅▅▅▅▅▆▆▆▆▆▆▇▇▇▇▇▇███</td></tr><tr><td>_step</td><td>▁▁▁▂▂▂▂▂▂▃▃▃▃▃▃▄▄▄▄▄▅▅▅▅▅▅▆▆▆▆▆▇▇▇▇▇▇███</td></tr></table><br/>"
     },
     "metadata": {}
    },
    {
     "output_type": "display_data",
     "data": {
      "text/plain": "<IPython.core.display.HTML object>",
      "text/html": "Synced 5 W&B file(s), 1 media file(s), 0 artifact file(s) and 0 other file(s)"
     },
     "metadata": {}
    },
    {
     "output_type": "display_data",
     "data": {
      "text/plain": "<IPython.core.display.HTML object>",
      "text/html": "\n                    <br/>Synced <strong style=\"color:#cdcd00\">glamorous-cosmos-294</strong>: <a href=\"https://wandb.ai/kuto5046/indoor/runs/1qe1c7yd\" target=\"_blank\">https://wandb.ai/kuto5046/indoor/runs/1qe1c7yd</a><br/>\n                "
     },
     "metadata": {}
    },
    {
     "output_type": "stream",
     "name": "stdout",
     "text": [
      "====================\n",
      "Fold 4\n",
      "====================\n",
      "\u001b[34m\u001b[1mwandb\u001b[0m: wandb version 0.10.25 is available!  To upgrade, please run:\n",
      "\u001b[34m\u001b[1mwandb\u001b[0m:  $ pip install wandb --upgrade\n"
     ]
    },
    {
     "output_type": "display_data",
     "data": {
      "text/plain": "<IPython.core.display.HTML object>",
      "text/html": "\n                Tracking run with wandb version 0.10.22<br/>\n                Syncing run <strong style=\"color:#cdcd00\">unique-frog-295</strong> to <a href=\"https://wandb.ai\" target=\"_blank\">Weights & Biases</a> <a href=\"https://docs.wandb.com/integrations/jupyter.html\" target=\"_blank\">(Documentation)</a>.<br/>\n                Project page: <a href=\"https://wandb.ai/kuto5046/indoor\" target=\"_blank\">https://wandb.ai/kuto5046/indoor</a><br/>\n                Run page: <a href=\"https://wandb.ai/kuto5046/indoor/runs/3g9oa8jj\" target=\"_blank\">https://wandb.ai/kuto5046/indoor/runs/3g9oa8jj</a><br/>\n                Run data is saved locally in <code>/home/user/work/exp/exp011/wandb/run-20210408_091635-3g9oa8jj</code><br/><br/>\n            "
     },
     "metadata": {}
    },
    {
     "output_type": "stream",
     "name": "stderr",
     "text": [
      "GPU available: True, used: True\n",
      "TPU available: None, using: 0 TPU cores\n",
      "\n",
      "  | Name         | Type      | Params\n",
      "-------------------------------------------\n",
      "0 | model        | LSTMModel | 5.9 M \n",
      "1 | xy_criterion | MSELoss   | 0     \n",
      "2 | f_criterion  | MSELoss   | 0     \n",
      "-------------------------------------------\n",
      "5.9 M     Trainable params\n",
      "0         Non-trainable params\n",
      "5.9 M     Total params\n",
      "23.632    Total estimated model params size (MB)\n",
      "fold 4: mean position error 7.535554394097804\n"
     ]
    },
    {
     "output_type": "display_data",
     "data": {
      "text/plain": "<IPython.core.display.HTML object>",
      "text/html": "<br/>Waiting for W&B process to finish, PID 1181250<br/>Program ended successfully."
     },
     "metadata": {}
    },
    {
     "output_type": "display_data",
     "data": {
      "text/plain": "VBox(children=(Label(value=' 0.00MB of 0.00MB uploaded (0.00MB deduped)\\r'), FloatProgress(value=1.0, max=1.0)…",
      "application/vnd.jupyter.widget-view+json": {
       "version_major": 2,
       "version_minor": 0,
       "model_id": "380923347b114f639cddd7076db37375"
      }
     },
     "metadata": {}
    },
    {
     "output_type": "display_data",
     "data": {
      "text/plain": "<IPython.core.display.HTML object>",
      "text/html": "Find user logs for this run at: <code>/home/user/work/exp/exp011/wandb/run-20210408_091635-3g9oa8jj/logs/debug.log</code>"
     },
     "metadata": {}
    },
    {
     "output_type": "display_data",
     "data": {
      "text/plain": "<IPython.core.display.HTML object>",
      "text/html": "Find internal logs for this run at: <code>/home/user/work/exp/exp011/wandb/run-20210408_091635-3g9oa8jj/logs/debug-internal.log</code>"
     },
     "metadata": {}
    },
    {
     "output_type": "display_data",
     "data": {
      "text/plain": "<IPython.core.display.HTML object>",
      "text/html": "<h3>Run summary:</h3><br/><style>\n    table.wandb td:nth-child(1) { padding: 0 10px; text-align: right }\n    </style><table class=\"wandb\">\n<tr><td>Loss/val</td><td>47.38805</td></tr><tr><td>Loss/xy</td><td>47.38805</td></tr><tr><td>Loss/floor</td><td>4.61849</td></tr><tr><td>MPE/val</td><td>7.53581</td></tr><tr><td>epoch</td><td>33</td></tr><tr><td>trainer/global_step</td><td>14279</td></tr><tr><td>_runtime</td><td>144</td></tr><tr><td>_timestamp</td><td>1617841139</td></tr><tr><td>_step</td><td>33</td></tr></table>"
     },
     "metadata": {}
    },
    {
     "output_type": "display_data",
     "data": {
      "text/plain": "<IPython.core.display.HTML object>",
      "text/html": "<h3>Run history:</h3><br/><style>\n    table.wandb td:nth-child(1) { padding: 0 10px; text-align: right }\n    </style><table class=\"wandb\">\n<tr><td>Loss/val</td><td>█▄▅▅▃▆▃▄▂▄▃▄▃▂▁▂▂▁▁▂▁▂▂▁▃▁▂▂▁▁▃▁▂▁</td></tr><tr><td>Loss/xy</td><td>█▄▅▅▃▆▃▄▂▄▃▄▃▂▁▂▂▁▁▂▁▂▂▁▃▁▂▂▁▁▃▁▂▁</td></tr><tr><td>Loss/floor</td><td>█▆▃▆▃▁▃▄▃▇▃▅▄▃▃▂▃▃▃▃▃▃▃▃▂▂▃▃▃▃▃▄▄▃</td></tr><tr><td>MPE/val</td><td>█▄▅▆▄▇▅▄▃▄▃▃▃▂▁▂▂▁▂▂▂▂▂▁▄▁▂▂▂▁▃▁▂▁</td></tr><tr><td>epoch</td><td>▁▁▁▂▂▂▂▂▃▃▃▃▄▄▄▄▄▅▅▅▅▅▆▆▆▆▇▇▇▇▇███</td></tr><tr><td>trainer/global_step</td><td>▁▁▁▂▂▂▂▂▃▃▃▃▄▄▄▄▄▅▅▅▅▅▆▆▆▆▇▇▇▇▇███</td></tr><tr><td>_runtime</td><td>▁▁▁▂▂▂▂▂▃▃▃▃▄▄▄▄▄▅▅▅▅▅▆▆▆▆▇▇▇▇▇███</td></tr><tr><td>_timestamp</td><td>▁▁▁▂▂▂▂▂▃▃▃▃▄▄▄▄▄▅▅▅▅▅▆▆▆▆▇▇▇▇▇███</td></tr><tr><td>_step</td><td>▁▁▁▂▂▂▂▂▃▃▃▃▄▄▄▄▄▅▅▅▅▅▆▆▆▆▇▇▇▇▇███</td></tr></table><br/>"
     },
     "metadata": {}
    },
    {
     "output_type": "display_data",
     "data": {
      "text/plain": "<IPython.core.display.HTML object>",
      "text/html": "Synced 5 W&B file(s), 1 media file(s), 0 artifact file(s) and 0 other file(s)"
     },
     "metadata": {}
    },
    {
     "output_type": "display_data",
     "data": {
      "text/plain": "<IPython.core.display.HTML object>",
      "text/html": "\n                    <br/>Synced <strong style=\"color:#cdcd00\">unique-frog-295</strong>: <a href=\"https://wandb.ai/kuto5046/indoor/runs/3g9oa8jj\" target=\"_blank\">https://wandb.ai/kuto5046/indoor/runs/3g9oa8jj</a><br/>\n                "
     },
     "metadata": {}
    }
   ],
   "source": [
    "oofs = []  # 全てのoofをdfで格納する\n",
    "predictions = []  # 全ての予測値をdfで格納する\n",
    "val_scores = []\n",
    "# skf = model_selection.StratifiedKFold(n_splits=N_SPLITS, shuffle=True, random_state=SEED)\n",
    "gkf = model_selection.GroupKFold(n_splits=N_SPLITS)\n",
    "gkf2 = model_selection.GroupKFold(n_splits=N_SPLITS)\n",
    "train_fold = [(trn_idx, val_idx) for trn_idx, val_idx in gkf.split(_train.loc[:, 'path'], groups=_train.loc[:, 'path'])]\n",
    "test_fold = [(trn_idx, val_idx) for trn_idx, val_idx in gkf.split(_test.loc[:, 'path'], groups=_test.loc[:, 'path'])]\n",
    "# 今回はtargetを均等に分ける必要はなくpathが均等に分かれればいいのでskf.split()にpathを与えている。\n",
    "for fold in range(5):\n",
    "    # 指定したfoldのみループを回す\n",
    "    if fold not in USE_FOLDS:\n",
    "        continue\n",
    "\n",
    "    print('=' * 20)\n",
    "    print(f'Fold {fold}')\n",
    "    print('=' * 20)\n",
    "\n",
    "    # train/valid data\n",
    "    trn_idx_for_train, val_idx_for_train = train_fold[fold]\n",
    "    trn_idx_for_test, _ = test_fold[fold]\n",
    "    trn_df = pd.concat([_train.loc[trn_idx_for_train, :], _test.loc[trn_idx_for_test, :]]).reset_index(drop=True)\n",
    "    trn_df = trn_df.loc[:,BSSID_FEATS + RSSI_FEATS + ['site_id', 'wifi_x','wifi_y','floor']]\n",
    "    val_df = _train.loc[val_idx_for_train, :].reset_index(drop=True)\n",
    "    val_df = val_df.loc[:,BSSID_FEATS + RSSI_FEATS + ['site_id', 'wifi_x','wifi_y','floor']]\n",
    "\n",
    "    # data loader\n",
    "    loaders = {}\n",
    "    loader_config = config[\"loader\"]\n",
    "    loaders[\"train\"] = DataLoader(IndoorDataset(trn_df, phase=\"train\"), **loader_config[\"train\"], worker_init_fn=worker_init_fn) \n",
    "    loaders[\"valid\"] = DataLoader(IndoorDataset(val_df, phase=\"valid\"), **loader_config[\"valid\"], worker_init_fn=worker_init_fn)\n",
    "    loaders[\"test\"] = DataLoader(IndoorDataset(test, phase=\"test\"), **loader_config[\"test\"], worker_init_fn=worker_init_fn)\n",
    "\n",
    "    # model\n",
    "    model = LSTMModel(wifi_bssids_size+1, site_count)  # +1としているのはLEを1スタートで始めているため\n",
    "    model_name = model.__class__.__name__\n",
    "\n",
    "    # callbacks\n",
    "    callbacks = []\n",
    "    checkpoint_callback = ModelCheckpoint(\n",
    "        monitor=f'Loss/val',\n",
    "        mode='min',\n",
    "        dirpath=f\"../../model/{EXP_NAME}\",\n",
    "        verbose=False,\n",
    "        filename=f'{model_name}-{fold}')\n",
    "    \n",
    "    if MODEL_SAVE:\n",
    "        callbacks.append(checkpoint_callback)\n",
    "\n",
    "    early_stop_callback = EarlyStopping(\n",
    "        monitor='Loss/val',\n",
    "        min_delta=0.00,\n",
    "        patience=10,\n",
    "        verbose=False,\n",
    "        mode='min')\n",
    "    callbacks.append(early_stop_callback)\n",
    "\n",
    "    # loggers\n",
    "    RUN_NAME = EXP_NAME + \"_\" + EXP_MESSAGE\n",
    "    wandb.init(project='indoor', notes=NOTES, entity='kuto5046', group=RUN_NAME)\n",
    "    wandb.run.name = RUN_NAME + f'-fold-{fold}'\n",
    "    wandb_config = wandb.config\n",
    "    wandb_config.model_name = model_name\n",
    "    wandb_config.LB = None\n",
    "    wandb.watch(model)\n",
    "    \n",
    "    \n",
    "    loggers = []\n",
    "    loggers.append(WandbLogger())\n",
    "\n",
    "    learner = Learner(model, config)\n",
    "    # pretrained flag\n",
    "    if PRETRAINED:\n",
    "        ckpt = torch.load(PRETRAINED_PATH + f'{model_name}-{fold}.ckpt')\n",
    "        learner.load_state_dict(ckpt['state_dict'])\n",
    "\n",
    "    if not ONLY_PRED:\n",
    "        trainer = pl.Trainer(\n",
    "            logger=loggers, \n",
    "            callbacks=callbacks,\n",
    "            max_epochs=MAX_EPOCHS,\n",
    "            gpus=[0],\n",
    "            fast_dev_run=DEBUG,\n",
    "            deterministic=True,\n",
    "            # precision=16,\n",
    "            progress_bar_refresh_rate=0  # vscodeの時progress barの動作が遅いので表示しない\n",
    "            )\n",
    "\n",
    "        trainer.fit(learner, train_dataloader=loaders['train'], val_dataloaders=loaders['valid'])\n",
    "\n",
    "    #############\n",
    "    # validation (to make oof)\n",
    "    #############\n",
    "    model.eval()  \n",
    "    oof_df = train.loc[val_idx_for_train, ['timestamp', 'x', 'y', 'site_id','site_id_str', 'wifi_x','wifi_y', 'floor', 'floor_str', 'path', 'time_diff']].reset_index(drop=True)\n",
    "    oof_x, oof_y, oof_f = evaluate(model, loaders, phase=\"valid\")\n",
    "    oof_df[\"oof_x\"] = oof_x\n",
    "    oof_df[\"oof_y\"] = oof_y\n",
    "    oof_df[\"oof_floor\"] = oof_f\n",
    "    oofs.append(oof_df)\n",
    "    \n",
    "    val_score = mean_position_error(\n",
    "        oof_df[\"oof_x\"].values, oof_df[\"oof_y\"].values, 0,\n",
    "        oof_df['wifi_x'].values, oof_df['wifi_y'].values, 0)\n",
    "    val_scores.append(val_score)\n",
    "    print(f\"fold {fold}: mean position error {val_score}\")\n",
    "\n",
    "    #############\n",
    "    # inference\n",
    "    #############n\n",
    "\n",
    "    preds_x, preds_y, preds_f = evaluate(model, loaders, phase=\"test\")\n",
    "    test_preds = pd.DataFrame(np.stack((preds_f, preds_x, preds_y))).T\n",
    "    test_preds.columns = sub_df.columns\n",
    "    test_preds[\"site_path_timestamp\"] = test[\"site_path_timestamp\"]\n",
    "    test_preds[\"floor\"] = test_preds[\"floor\"].astype(int)\n",
    "    test_preds.to_csv(f'{EXP_NAME}_fold{fold}.csv', index=False)\n",
    "    predictions.append(test_preds)\n",
    "    wandb.finish()"
   ]
  },
  {
   "source": [
    "## validation"
   ],
   "cell_type": "markdown",
   "metadata": {}
  },
  {
   "cell_type": "code",
   "execution_count": 24,
   "metadata": {},
   "outputs": [
    {
     "output_type": "execute_result",
     "data": {
      "text/plain": [
       "            timestamp          x           y  site_id  \\\n",
       "0       1561368762838   78.21819   38.999737        0   \n",
       "1       1561368762838   78.21819   38.999737        0   \n",
       "2       1561368774057   76.25184   30.510840        0   \n",
       "3       1561368774057   76.25184   30.510840        0   \n",
       "4       1561368774057   76.25184   30.510840        0   \n",
       "...               ...        ...         ...      ...   \n",
       "258120  1574420742502  193.20488  108.001520       23   \n",
       "258121  1574420742502  193.20488  108.001520       23   \n",
       "258122  1574420753754  204.29349  107.835120       23   \n",
       "258123  1574420753754  204.29349  107.835120       23   \n",
       "258124  1574420753754  204.29349  107.835120       23   \n",
       "\n",
       "                     site_id_str      wifi_x      wifi_y  floor floor_str  \\\n",
       "0       5a0546857ecc773753327266   77.890465   37.584921      2        F3   \n",
       "1       5a0546857ecc773753327266   77.562740   36.170105      2        F3   \n",
       "2       5a0546857ecc773753327266   77.235015   34.755289      2        F3   \n",
       "3       5a0546857ecc773753327266   77.202679   21.519628      2        F3   \n",
       "4       5a0546857ecc773753327266   76.991381   23.517675      2        F3   \n",
       "...                          ...         ...         ...    ...       ...   \n",
       "258120  5dc8cea7659e181adb076a3f  197.825134  107.932187     -1        B1   \n",
       "258121  5dc8cea7659e181adb076a3f  194.128931  107.987653     -1        B1   \n",
       "258122  5dc8cea7659e181adb076a3f  199.673236  107.904453     -1        B1   \n",
       "258123  5dc8cea7659e181adb076a3f  201.521337  107.876720     -1        B1   \n",
       "258124  5dc8cea7659e181adb076a3f  203.369439  107.848987     -1        B1   \n",
       "\n",
       "                            path  time_diff       oof_x       oof_y  \\\n",
       "0       5d10a1669c50c70008fe8977       1969   82.653908   39.759499   \n",
       "1       5d10a1669c50c70008fe8977       3966   87.702225   33.811455   \n",
       "2       5d10a1669c50c70008fe8977      -5250   80.018883   29.986128   \n",
       "3       5d10a1669c50c70008fe8977       8838   85.431686   29.530434   \n",
       "4       5d10a1669c50c70008fe8977       6812   80.375404   21.628296   \n",
       "...                          ...        ...         ...         ...   \n",
       "258120  5dd7c119c5b77e0006b16b99       4790  200.134949  104.084488   \n",
       "258121  5dd7c119c5b77e0006b16b99       1006  201.191772  103.937843   \n",
       "258122  5dd7c119c5b77e0006b16b99      -4550  200.609863  102.565239   \n",
       "258123  5dd7c119c5b77e0006b16b99      -2662  201.716766  104.940292   \n",
       "258124  5dd7c119c5b77e0006b16b99       -756  203.777359  101.891953   \n",
       "\n",
       "        oof_floor                                site_path_timestamp  \n",
       "0        0.208272  5a0546857ecc773753327266_5d10a1669c50c70008fe8...  \n",
       "1        0.206890  5a0546857ecc773753327266_5d10a1669c50c70008fe8...  \n",
       "2        0.211740  5a0546857ecc773753327266_5d10a1669c50c70008fe8...  \n",
       "3        0.205813  5a0546857ecc773753327266_5d10a1669c50c70008fe8...  \n",
       "4        0.211857  5a0546857ecc773753327266_5d10a1669c50c70008fe8...  \n",
       "...           ...                                                ...  \n",
       "258120   0.000000  5dc8cea7659e181adb076a3f_5dd7c119c5b77e0006b16...  \n",
       "258121   0.000000  5dc8cea7659e181adb076a3f_5dd7c119c5b77e0006b16...  \n",
       "258122   0.000000  5dc8cea7659e181adb076a3f_5dd7c119c5b77e0006b16...  \n",
       "258123   0.000000  5dc8cea7659e181adb076a3f_5dd7c119c5b77e0006b16...  \n",
       "258124   0.000000  5dc8cea7659e181adb076a3f_5dd7c119c5b77e0006b16...  \n",
       "\n",
       "[258125 rows x 15 columns]"
      ],
      "text/html": "<div>\n<style scoped>\n    .dataframe tbody tr th:only-of-type {\n        vertical-align: middle;\n    }\n\n    .dataframe tbody tr th {\n        vertical-align: top;\n    }\n\n    .dataframe thead th {\n        text-align: right;\n    }\n</style>\n<table border=\"1\" class=\"dataframe\">\n  <thead>\n    <tr style=\"text-align: right;\">\n      <th></th>\n      <th>timestamp</th>\n      <th>x</th>\n      <th>y</th>\n      <th>site_id</th>\n      <th>site_id_str</th>\n      <th>wifi_x</th>\n      <th>wifi_y</th>\n      <th>floor</th>\n      <th>floor_str</th>\n      <th>path</th>\n      <th>time_diff</th>\n      <th>oof_x</th>\n      <th>oof_y</th>\n      <th>oof_floor</th>\n      <th>site_path_timestamp</th>\n    </tr>\n  </thead>\n  <tbody>\n    <tr>\n      <th>0</th>\n      <td>1561368762838</td>\n      <td>78.21819</td>\n      <td>38.999737</td>\n      <td>0</td>\n      <td>5a0546857ecc773753327266</td>\n      <td>77.890465</td>\n      <td>37.584921</td>\n      <td>2</td>\n      <td>F3</td>\n      <td>5d10a1669c50c70008fe8977</td>\n      <td>1969</td>\n      <td>82.653908</td>\n      <td>39.759499</td>\n      <td>0.208272</td>\n      <td>5a0546857ecc773753327266_5d10a1669c50c70008fe8...</td>\n    </tr>\n    <tr>\n      <th>1</th>\n      <td>1561368762838</td>\n      <td>78.21819</td>\n      <td>38.999737</td>\n      <td>0</td>\n      <td>5a0546857ecc773753327266</td>\n      <td>77.562740</td>\n      <td>36.170105</td>\n      <td>2</td>\n      <td>F3</td>\n      <td>5d10a1669c50c70008fe8977</td>\n      <td>3966</td>\n      <td>87.702225</td>\n      <td>33.811455</td>\n      <td>0.206890</td>\n      <td>5a0546857ecc773753327266_5d10a1669c50c70008fe8...</td>\n    </tr>\n    <tr>\n      <th>2</th>\n      <td>1561368774057</td>\n      <td>76.25184</td>\n      <td>30.510840</td>\n      <td>0</td>\n      <td>5a0546857ecc773753327266</td>\n      <td>77.235015</td>\n      <td>34.755289</td>\n      <td>2</td>\n      <td>F3</td>\n      <td>5d10a1669c50c70008fe8977</td>\n      <td>-5250</td>\n      <td>80.018883</td>\n      <td>29.986128</td>\n      <td>0.211740</td>\n      <td>5a0546857ecc773753327266_5d10a1669c50c70008fe8...</td>\n    </tr>\n    <tr>\n      <th>3</th>\n      <td>1561368774057</td>\n      <td>76.25184</td>\n      <td>30.510840</td>\n      <td>0</td>\n      <td>5a0546857ecc773753327266</td>\n      <td>77.202679</td>\n      <td>21.519628</td>\n      <td>2</td>\n      <td>F3</td>\n      <td>5d10a1669c50c70008fe8977</td>\n      <td>8838</td>\n      <td>85.431686</td>\n      <td>29.530434</td>\n      <td>0.205813</td>\n      <td>5a0546857ecc773753327266_5d10a1669c50c70008fe8...</td>\n    </tr>\n    <tr>\n      <th>4</th>\n      <td>1561368774057</td>\n      <td>76.25184</td>\n      <td>30.510840</td>\n      <td>0</td>\n      <td>5a0546857ecc773753327266</td>\n      <td>76.991381</td>\n      <td>23.517675</td>\n      <td>2</td>\n      <td>F3</td>\n      <td>5d10a1669c50c70008fe8977</td>\n      <td>6812</td>\n      <td>80.375404</td>\n      <td>21.628296</td>\n      <td>0.211857</td>\n      <td>5a0546857ecc773753327266_5d10a1669c50c70008fe8...</td>\n    </tr>\n    <tr>\n      <th>...</th>\n      <td>...</td>\n      <td>...</td>\n      <td>...</td>\n      <td>...</td>\n      <td>...</td>\n      <td>...</td>\n      <td>...</td>\n      <td>...</td>\n      <td>...</td>\n      <td>...</td>\n      <td>...</td>\n      <td>...</td>\n      <td>...</td>\n      <td>...</td>\n      <td>...</td>\n    </tr>\n    <tr>\n      <th>258120</th>\n      <td>1574420742502</td>\n      <td>193.20488</td>\n      <td>108.001520</td>\n      <td>23</td>\n      <td>5dc8cea7659e181adb076a3f</td>\n      <td>197.825134</td>\n      <td>107.932187</td>\n      <td>-1</td>\n      <td>B1</td>\n      <td>5dd7c119c5b77e0006b16b99</td>\n      <td>4790</td>\n      <td>200.134949</td>\n      <td>104.084488</td>\n      <td>0.000000</td>\n      <td>5dc8cea7659e181adb076a3f_5dd7c119c5b77e0006b16...</td>\n    </tr>\n    <tr>\n      <th>258121</th>\n      <td>1574420742502</td>\n      <td>193.20488</td>\n      <td>108.001520</td>\n      <td>23</td>\n      <td>5dc8cea7659e181adb076a3f</td>\n      <td>194.128931</td>\n      <td>107.987653</td>\n      <td>-1</td>\n      <td>B1</td>\n      <td>5dd7c119c5b77e0006b16b99</td>\n      <td>1006</td>\n      <td>201.191772</td>\n      <td>103.937843</td>\n      <td>0.000000</td>\n      <td>5dc8cea7659e181adb076a3f_5dd7c119c5b77e0006b16...</td>\n    </tr>\n    <tr>\n      <th>258122</th>\n      <td>1574420753754</td>\n      <td>204.29349</td>\n      <td>107.835120</td>\n      <td>23</td>\n      <td>5dc8cea7659e181adb076a3f</td>\n      <td>199.673236</td>\n      <td>107.904453</td>\n      <td>-1</td>\n      <td>B1</td>\n      <td>5dd7c119c5b77e0006b16b99</td>\n      <td>-4550</td>\n      <td>200.609863</td>\n      <td>102.565239</td>\n      <td>0.000000</td>\n      <td>5dc8cea7659e181adb076a3f_5dd7c119c5b77e0006b16...</td>\n    </tr>\n    <tr>\n      <th>258123</th>\n      <td>1574420753754</td>\n      <td>204.29349</td>\n      <td>107.835120</td>\n      <td>23</td>\n      <td>5dc8cea7659e181adb076a3f</td>\n      <td>201.521337</td>\n      <td>107.876720</td>\n      <td>-1</td>\n      <td>B1</td>\n      <td>5dd7c119c5b77e0006b16b99</td>\n      <td>-2662</td>\n      <td>201.716766</td>\n      <td>104.940292</td>\n      <td>0.000000</td>\n      <td>5dc8cea7659e181adb076a3f_5dd7c119c5b77e0006b16...</td>\n    </tr>\n    <tr>\n      <th>258124</th>\n      <td>1574420753754</td>\n      <td>204.29349</td>\n      <td>107.835120</td>\n      <td>23</td>\n      <td>5dc8cea7659e181adb076a3f</td>\n      <td>203.369439</td>\n      <td>107.848987</td>\n      <td>-1</td>\n      <td>B1</td>\n      <td>5dd7c119c5b77e0006b16b99</td>\n      <td>-756</td>\n      <td>203.777359</td>\n      <td>101.891953</td>\n      <td>0.000000</td>\n      <td>5dc8cea7659e181adb076a3f_5dd7c119c5b77e0006b16...</td>\n    </tr>\n  </tbody>\n</table>\n<p>258125 rows × 15 columns</p>\n</div>"
     },
     "metadata": {},
     "execution_count": 24
    }
   ],
   "source": [
    "if len(USE_FOLDS) > 1:\n",
    "    oofs_df = pd.concat(oofs)\n",
    "else:\n",
    "    oofs_df = oofs[0]\n",
    "\n",
    "oofs_df['site_path_timestamp'] = oofs_df['site_id_str'].astype(str) + '_' + oofs_df['path'] + '_' + oofs_df['timestamp'].astype(str)\n",
    "oofs_df = oofs_df.sort_values('site_path_timestamp').reset_index(drop=True)\n",
    "oofs_df.to_csv(\"oof.csv\", index=False)\n",
    "oofs_df"
   ]
  },
  {
   "cell_type": "code",
   "execution_count": 85,
   "metadata": {},
   "outputs": [
    {
     "output_type": "stream",
     "name": "stdout",
     "text": [
      "CV:7.994694617828704\n"
     ]
    }
   ],
   "source": [
    "# waypoint補正前のx,yでの評価\n",
    "oof_score = mean_position_error(\n",
    "    oofs_df['oof_x'], oofs_df['oof_y'], 0, \n",
    "    oofs_df['x'], oofs_df['y'], 0\n",
    "    )\n",
    "print(f\"CV:{oof_score}\")"
   ]
  },
  {
   "cell_type": "code",
   "execution_count": 86,
   "metadata": {},
   "outputs": [
    {
     "output_type": "stream",
     "name": "stdout",
     "text": [
      "CV:7.482767582152582\n"
     ]
    }
   ],
   "source": [
    "# waypoint補正後のx,yでの評価\n",
    "oof_score = mean_position_error(\n",
    "    oofs_df['oof_x'], oofs_df['oof_y'], 0, \n",
    "    oofs_df['wifi_x'], oofs_df['wifi_y'], 0\n",
    "    )\n",
    "print(f\"CV:{oof_score}\")"
   ]
  },
  {
   "source": [
    "## testのwaypointを予測結果(wifi)から再度線形補完"
   ],
   "cell_type": "markdown",
   "metadata": {}
  },
  {
   "cell_type": "code",
   "execution_count": 87,
   "metadata": {},
   "outputs": [
    {
     "output_type": "execute_result",
     "data": {
      "text/plain": [
       "                                                    floor           x  \\\n",
       "site_path_timestamp                                                     \n",
       "5a0546857ecc773753327266_046cfa46be49fc10834815...      0   90.631088   \n",
       "5a0546857ecc773753327266_046cfa46be49fc10834815...      0   82.889175   \n",
       "5a0546857ecc773753327266_046cfa46be49fc10834815...      0   84.954834   \n",
       "5a0546857ecc773753327266_046cfa46be49fc10834815...      0   86.293320   \n",
       "5a0546857ecc773753327266_046cfa46be49fc10834815...      0   86.199821   \n",
       "...                                                   ...         ...   \n",
       "5dc8cea7659e181adb076a3f_fd64de8c4a2fc5ebb0e9f4...      0  211.076538   \n",
       "5dc8cea7659e181adb076a3f_fd64de8c4a2fc5ebb0e9f4...      0  208.700211   \n",
       "5dc8cea7659e181adb076a3f_fd64de8c4a2fc5ebb0e9f4...      0  204.332214   \n",
       "5dc8cea7659e181adb076a3f_fd64de8c4a2fc5ebb0e9f4...      0  198.396301   \n",
       "5dc8cea7659e181adb076a3f_fd64de8c4a2fc5ebb0e9f4...      0  195.387756   \n",
       "\n",
       "                                                             y  \n",
       "site_path_timestamp                                             \n",
       "5a0546857ecc773753327266_046cfa46be49fc10834815...   97.769402  \n",
       "5a0546857ecc773753327266_046cfa46be49fc10834815...  100.430641  \n",
       "5a0546857ecc773753327266_046cfa46be49fc10834815...  104.232796  \n",
       "5a0546857ecc773753327266_046cfa46be49fc10834815...  107.191971  \n",
       "5a0546857ecc773753327266_046cfa46be49fc10834815...  109.470238  \n",
       "...                                                        ...  \n",
       "5dc8cea7659e181adb076a3f_fd64de8c4a2fc5ebb0e9f4...   96.993439  \n",
       "5dc8cea7659e181adb076a3f_fd64de8c4a2fc5ebb0e9f4...  100.820831  \n",
       "5dc8cea7659e181adb076a3f_fd64de8c4a2fc5ebb0e9f4...  107.403275  \n",
       "5dc8cea7659e181adb076a3f_fd64de8c4a2fc5ebb0e9f4...  113.670807  \n",
       "5dc8cea7659e181adb076a3f_fd64de8c4a2fc5ebb0e9f4...  115.438042  \n",
       "\n",
       "[10133 rows x 3 columns]"
      ],
      "text/html": "<div>\n<style scoped>\n    .dataframe tbody tr th:only-of-type {\n        vertical-align: middle;\n    }\n\n    .dataframe tbody tr th {\n        vertical-align: top;\n    }\n\n    .dataframe thead th {\n        text-align: right;\n    }\n</style>\n<table border=\"1\" class=\"dataframe\">\n  <thead>\n    <tr style=\"text-align: right;\">\n      <th></th>\n      <th>floor</th>\n      <th>x</th>\n      <th>y</th>\n    </tr>\n    <tr>\n      <th>site_path_timestamp</th>\n      <th></th>\n      <th></th>\n      <th></th>\n    </tr>\n  </thead>\n  <tbody>\n    <tr>\n      <th>5a0546857ecc773753327266_046cfa46be49fc10834815c6_0000000000009</th>\n      <td>0</td>\n      <td>90.631088</td>\n      <td>97.769402</td>\n    </tr>\n    <tr>\n      <th>5a0546857ecc773753327266_046cfa46be49fc10834815c6_0000000009017</th>\n      <td>0</td>\n      <td>82.889175</td>\n      <td>100.430641</td>\n    </tr>\n    <tr>\n      <th>5a0546857ecc773753327266_046cfa46be49fc10834815c6_0000000015326</th>\n      <td>0</td>\n      <td>84.954834</td>\n      <td>104.232796</td>\n    </tr>\n    <tr>\n      <th>5a0546857ecc773753327266_046cfa46be49fc10834815c6_0000000018763</th>\n      <td>0</td>\n      <td>86.293320</td>\n      <td>107.191971</td>\n    </tr>\n    <tr>\n      <th>5a0546857ecc773753327266_046cfa46be49fc10834815c6_0000000022328</th>\n      <td>0</td>\n      <td>86.199821</td>\n      <td>109.470238</td>\n    </tr>\n    <tr>\n      <th>...</th>\n      <td>...</td>\n      <td>...</td>\n      <td>...</td>\n    </tr>\n    <tr>\n      <th>5dc8cea7659e181adb076a3f_fd64de8c4a2fc5ebb0e9f412_0000000082589</th>\n      <td>0</td>\n      <td>211.076538</td>\n      <td>96.993439</td>\n    </tr>\n    <tr>\n      <th>5dc8cea7659e181adb076a3f_fd64de8c4a2fc5ebb0e9f412_0000000085758</th>\n      <td>0</td>\n      <td>208.700211</td>\n      <td>100.820831</td>\n    </tr>\n    <tr>\n      <th>5dc8cea7659e181adb076a3f_fd64de8c4a2fc5ebb0e9f412_0000000090895</th>\n      <td>0</td>\n      <td>204.332214</td>\n      <td>107.403275</td>\n    </tr>\n    <tr>\n      <th>5dc8cea7659e181adb076a3f_fd64de8c4a2fc5ebb0e9f412_0000000096899</th>\n      <td>0</td>\n      <td>198.396301</td>\n      <td>113.670807</td>\n    </tr>\n    <tr>\n      <th>5dc8cea7659e181adb076a3f_fd64de8c4a2fc5ebb0e9f412_0000000100447</th>\n      <td>0</td>\n      <td>195.387756</td>\n      <td>115.438042</td>\n    </tr>\n  </tbody>\n</table>\n<p>10133 rows × 3 columns</p>\n</div>"
     },
     "metadata": {},
     "execution_count": 87
    }
   ],
   "source": [
    "if len(USE_FOLDS) > 1:\n",
    "    # foldの結果を平均した後、reindexでsubmission fileにindexを合わせる\n",
    "    sub = pd.concat(predictions).groupby('site_path_timestamp').mean().reindex(sub_df.index)\n",
    "else:\n",
    "    sub = predictions[0].reindex(sub_df.index)\n",
    "sub"
   ]
  },
  {
   "cell_type": "code",
   "execution_count": 88,
   "metadata": {},
   "outputs": [
    {
     "output_type": "execute_result",
     "data": {
      "text/plain": [
       "                                                    floor           x  \\\n",
       "site_path_timestamp                                                     \n",
       "5a0546857ecc773753327266_046cfa46be49fc10834815...      0   90.631088   \n",
       "5a0546857ecc773753327266_046cfa46be49fc10834815...      0   82.889175   \n",
       "5a0546857ecc773753327266_046cfa46be49fc10834815...      0   84.954834   \n",
       "5a0546857ecc773753327266_046cfa46be49fc10834815...      0   86.293320   \n",
       "5a0546857ecc773753327266_046cfa46be49fc10834815...      0   86.199821   \n",
       "...                                                   ...         ...   \n",
       "5dc8cea7659e181adb076a3f_fd64de8c4a2fc5ebb0e9f4...      5  211.076538   \n",
       "5dc8cea7659e181adb076a3f_fd64de8c4a2fc5ebb0e9f4...      5  208.700211   \n",
       "5dc8cea7659e181adb076a3f_fd64de8c4a2fc5ebb0e9f4...      5  204.332214   \n",
       "5dc8cea7659e181adb076a3f_fd64de8c4a2fc5ebb0e9f4...      5  198.396301   \n",
       "5dc8cea7659e181adb076a3f_fd64de8c4a2fc5ebb0e9f4...      5  195.387756   \n",
       "\n",
       "                                                             y  \n",
       "site_path_timestamp                                             \n",
       "5a0546857ecc773753327266_046cfa46be49fc10834815...   97.769402  \n",
       "5a0546857ecc773753327266_046cfa46be49fc10834815...  100.430641  \n",
       "5a0546857ecc773753327266_046cfa46be49fc10834815...  104.232796  \n",
       "5a0546857ecc773753327266_046cfa46be49fc10834815...  107.191971  \n",
       "5a0546857ecc773753327266_046cfa46be49fc10834815...  109.470238  \n",
       "...                                                        ...  \n",
       "5dc8cea7659e181adb076a3f_fd64de8c4a2fc5ebb0e9f4...   96.993439  \n",
       "5dc8cea7659e181adb076a3f_fd64de8c4a2fc5ebb0e9f4...  100.820831  \n",
       "5dc8cea7659e181adb076a3f_fd64de8c4a2fc5ebb0e9f4...  107.403275  \n",
       "5dc8cea7659e181adb076a3f_fd64de8c4a2fc5ebb0e9f4...  113.670807  \n",
       "5dc8cea7659e181adb076a3f_fd64de8c4a2fc5ebb0e9f4...  115.438042  \n",
       "\n",
       "[10133 rows x 3 columns]"
      ],
      "text/html": "<div>\n<style scoped>\n    .dataframe tbody tr th:only-of-type {\n        vertical-align: middle;\n    }\n\n    .dataframe tbody tr th {\n        vertical-align: top;\n    }\n\n    .dataframe thead th {\n        text-align: right;\n    }\n</style>\n<table border=\"1\" class=\"dataframe\">\n  <thead>\n    <tr style=\"text-align: right;\">\n      <th></th>\n      <th>floor</th>\n      <th>x</th>\n      <th>y</th>\n    </tr>\n    <tr>\n      <th>site_path_timestamp</th>\n      <th></th>\n      <th></th>\n      <th></th>\n    </tr>\n  </thead>\n  <tbody>\n    <tr>\n      <th>5a0546857ecc773753327266_046cfa46be49fc10834815c6_0000000000009</th>\n      <td>0</td>\n      <td>90.631088</td>\n      <td>97.769402</td>\n    </tr>\n    <tr>\n      <th>5a0546857ecc773753327266_046cfa46be49fc10834815c6_0000000009017</th>\n      <td>0</td>\n      <td>82.889175</td>\n      <td>100.430641</td>\n    </tr>\n    <tr>\n      <th>5a0546857ecc773753327266_046cfa46be49fc10834815c6_0000000015326</th>\n      <td>0</td>\n      <td>84.954834</td>\n      <td>104.232796</td>\n    </tr>\n    <tr>\n      <th>5a0546857ecc773753327266_046cfa46be49fc10834815c6_0000000018763</th>\n      <td>0</td>\n      <td>86.293320</td>\n      <td>107.191971</td>\n    </tr>\n    <tr>\n      <th>5a0546857ecc773753327266_046cfa46be49fc10834815c6_0000000022328</th>\n      <td>0</td>\n      <td>86.199821</td>\n      <td>109.470238</td>\n    </tr>\n    <tr>\n      <th>...</th>\n      <td>...</td>\n      <td>...</td>\n      <td>...</td>\n    </tr>\n    <tr>\n      <th>5dc8cea7659e181adb076a3f_fd64de8c4a2fc5ebb0e9f412_0000000082589</th>\n      <td>5</td>\n      <td>211.076538</td>\n      <td>96.993439</td>\n    </tr>\n    <tr>\n      <th>5dc8cea7659e181adb076a3f_fd64de8c4a2fc5ebb0e9f412_0000000085758</th>\n      <td>5</td>\n      <td>208.700211</td>\n      <td>100.820831</td>\n    </tr>\n    <tr>\n      <th>5dc8cea7659e181adb076a3f_fd64de8c4a2fc5ebb0e9f412_0000000090895</th>\n      <td>5</td>\n      <td>204.332214</td>\n      <td>107.403275</td>\n    </tr>\n    <tr>\n      <th>5dc8cea7659e181adb076a3f_fd64de8c4a2fc5ebb0e9f412_0000000096899</th>\n      <td>5</td>\n      <td>198.396301</td>\n      <td>113.670807</td>\n    </tr>\n    <tr>\n      <th>5dc8cea7659e181adb076a3f_fd64de8c4a2fc5ebb0e9f412_0000000100447</th>\n      <td>5</td>\n      <td>195.387756</td>\n      <td>115.438042</td>\n    </tr>\n  </tbody>\n</table>\n<p>10133 rows × 3 columns</p>\n</div>"
     },
     "metadata": {},
     "execution_count": 88
    }
   ],
   "source": [
    "# floorの数値を置換\n",
    "simple_accurate_99 = pd.read_csv(root_dir / 'simple-99-accurate-floor-model/submission.csv')\n",
    "sub['floor'] = simple_accurate_99['floor'].values\n",
    "sub"
   ]
  },
  {
   "cell_type": "code",
   "execution_count": 89,
   "metadata": {},
   "outputs": [],
   "source": [
    "import sys \n",
    "sys.path.append(\"../../\")\n",
    "from multiprocessing import Pool\n",
    "from src.io_f import read_data_file\n",
    "from scipy import interpolate\n",
    "\n",
    "# timestampとwaypointを元に線形補完しtarget_timestampに対応するtarget_waypointを求める　\n",
    "def wifi_waypoint_by_linear_interpolation(\n",
    "    observed_timestamp: np.ndarray, \n",
    "    observed_x:np.ndarray, \n",
    "    observed_y:np.ndarray, \n",
    "    target_timestamp:np.ndarray, \n",
    "    delta_time=500\n",
    "    ):\n",
    "    \"\"\"\n",
    "    observed: すでに知っている情報\n",
    "    observed-timestamp,x,yは全て同じ要素数となる\n",
    "\n",
    "    observedの情報からfitting関数を作成\n",
    "    \"\"\"\n",
    "    target_waypoint_list = []\n",
    "    num_interpolation = len(observed_timestamp) - 1  # 補完回数 \n",
    "    # 各waypoint間で線形補完\n",
    "    for i in range(num_interpolation):\n",
    "        # 潜在的なtimestampを作成(これのどれかにwifiを当てはめるような形)\n",
    "        n_split = int((max(observed_timestamp[i:i+2]) - min(observed_timestamp[i:i+2])) / delta_time) + 2  # delta_time刻みとなるように分割数を指定(+2は始点と終点分)\n",
    "        latent_timestamp = np.linspace(min(observed_timestamp[i:i+2]), max(observed_timestamp[i:i+2]), n_split).astype(int) \n",
    "        \n",
    "        # xが昇順の場合はlatentも昇順になるようにする\n",
    "        if observed_x[i] < observed_x[i+1]:\n",
    "            latent_x = np.linspace(min(observed_x[i:i+2]), max(observed_x[i:i+2]), n_split)\n",
    "        # xが降順の場合はlatentも降順になるようにする\n",
    "        else:\n",
    "            latent_x = np.linspace(min(observed_x[i:i+2]), max(observed_x[i:i+2]), n_split)[::-1]\n",
    "        \n",
    "        # 線形補完関数の適用\n",
    "        fitting_func = interpolate.interp1d(observed_x[i:i+2], observed_y[i:i+2])\n",
    "\n",
    "        # wifiのtimestampに最も近いものをsplit_timestampから取得しそれに対応するwaypointをwifiのwaypointとして取得\n",
    "        target_x = []\n",
    "        target_y = []\n",
    "\n",
    "        # 区間内のwifiデータのみ考える\n",
    "        if i == num_interpolation-1:\n",
    "            # pathの最後の区間にobserved timestampより未来にあるtimestampに対処\n",
    "            target_idx = min(observed_timestamp[i:i+2]) <= target_timestamp\n",
    "        elif i == 0:\n",
    "            # pathの最初の区間にobserved timestampより過去にあるtimestampに対処\n",
    "            target_idx = target_timestamp < max(observed_timestamp[i:i+2])\n",
    "        else:\n",
    "            target_idx = (min(observed_timestamp[i:i+2]) <= target_timestamp) & (target_timestamp < max(observed_timestamp[i:i+2]))\n",
    "        target_use_timestamp = target_timestamp[target_idx]\n",
    "\n",
    "        # timestampが最も近いものをtarget waypointとして取得\n",
    "        for t in target_use_timestamp:\n",
    "            idx = np.abs(latent_timestamp - t).argmin()  # targetとtimestampが最も近いものをlatentから取得\n",
    "            target_x.append(latent_x[idx])\n",
    "            # 原因はよくわからないがfittingするとnanが発生する場合がある\n",
    "            # その場合は元の値をそのまま使う\n",
    "            if np.isnan(fitting_func(latent_x[idx])).sum() > 0:\n",
    "                # print('yに欠損値あり')\n",
    "                idx = np.abs(observed_timestamp - t).argmin()  # \b0→wifiの最初のtimestampで問題が起きている\n",
    "                target_y.append(observed_y[idx])\n",
    "                \n",
    "            else:\n",
    "                target_y.append(fitting_func(latent_x[idx]))\n",
    "\n",
    "        assert len(target_x) == len(target_y)\n",
    "        target_waypoint = np.stack([target_x, target_y], axis=1)\n",
    "        target_waypoint_list.append(target_waypoint)\n",
    "\n",
    "    target_waypoint = np.concatenate(target_waypoint_list)\n",
    "    return target_waypoint"
   ]
  },
  {
   "cell_type": "code",
   "execution_count": 90,
   "metadata": {},
   "outputs": [
    {
     "output_type": "execute_result",
     "data": {
      "text/plain": [
       "                                        bssid_0  \\\n",
       "0      574d583edd86d651086e46e635e321a0805d95fa   \n",
       "1      574d583edd86d651086e46e635e321a0805d95fa   \n",
       "2      807ac70f17923560542c51dff7b5d305709a8769   \n",
       "3      574d583edd86d651086e46e635e321a0805d95fa   \n",
       "4      574d583edd86d651086e46e635e321a0805d95fa   \n",
       "...                                         ...   \n",
       "10128  46e733fa58deea74d962874847a529fb4897e655   \n",
       "10129  46e733fa58deea74d962874847a529fb4897e655   \n",
       "10130  46e733fa58deea74d962874847a529fb4897e655   \n",
       "10131  6c381e7e7d8e984394ce02a3da912acc1b7d294e   \n",
       "10132  46e733fa58deea74d962874847a529fb4897e655   \n",
       "\n",
       "                                        bssid_1  \\\n",
       "0      76c846d6cfbfe0809ab4eb027e8bc0138383c7cd   \n",
       "1      807ac70f17923560542c51dff7b5d305709a8769   \n",
       "2      574d583edd86d651086e46e635e321a0805d95fa   \n",
       "3      807ac70f17923560542c51dff7b5d305709a8769   \n",
       "4      807ac70f17923560542c51dff7b5d305709a8769   \n",
       "...                                         ...   \n",
       "10128  6c381e7e7d8e984394ce02a3da912acc1b7d294e   \n",
       "10129  6c381e7e7d8e984394ce02a3da912acc1b7d294e   \n",
       "10130  6c381e7e7d8e984394ce02a3da912acc1b7d294e   \n",
       "10131  e5c220800a2d5ec83e355c3b1a2d7a141947e95f   \n",
       "10132  c2f60ab72a28ad3da155a5c7c591aae9d5e00061   \n",
       "\n",
       "                                        bssid_2  \\\n",
       "0      807ac70f17923560542c51dff7b5d305709a8769   \n",
       "1      9957b484f023ea3e4065e90c4a0caec01455e1d7   \n",
       "2      9957b484f023ea3e4065e90c4a0caec01455e1d7   \n",
       "3      503dba3725b3fd5c0e769a20d324c1a1e20dbc4d   \n",
       "4      0570b1a98d5815cdc245bb3b904df5cd27edb37d   \n",
       "...                                         ...   \n",
       "10128  f879db40b23c9ec1ac0f0d62418d53c3bf2e6cb5   \n",
       "10129  e5c220800a2d5ec83e355c3b1a2d7a141947e95f   \n",
       "10130  cae39a38a556f42ece02b7e8e54f55440710b034   \n",
       "10131  46e733fa58deea74d962874847a529fb4897e655   \n",
       "10132  8d8caa754528e2b2eee8bf2b6362bc950968c959   \n",
       "\n",
       "                                        bssid_3  \\\n",
       "0      22d8854d62d819f45721b4bc2552c4850c45a50f   \n",
       "1      76c846d6cfbfe0809ab4eb027e8bc0138383c7cd   \n",
       "2      15402aac56a4d7dfc43f9a19b0f26da3691c41ca   \n",
       "3      e6270dfb717fca5b1e6ef1e2e896a10e7141e505   \n",
       "4      76c846d6cfbfe0809ab4eb027e8bc0138383c7cd   \n",
       "...                                         ...   \n",
       "10128  4a6f4e041286c0e76a669ceee881942ee06ecc36   \n",
       "10129  f879db40b23c9ec1ac0f0d62418d53c3bf2e6cb5   \n",
       "10130  03ea8980e3e01a4804fbb8208a948d0b76a203fb   \n",
       "10131  dc8f08671c59b76f1d313c2e56bd1cacbe55dcac   \n",
       "10132  5a8c96dd8519e257c0c13af51cdf72e89bfc7339   \n",
       "\n",
       "                                        bssid_4  \\\n",
       "0      503dba3725b3fd5c0e769a20d324c1a1e20dbc4d   \n",
       "1      503dba3725b3fd5c0e769a20d324c1a1e20dbc4d   \n",
       "2      76c846d6cfbfe0809ab4eb027e8bc0138383c7cd   \n",
       "3      76c846d6cfbfe0809ab4eb027e8bc0138383c7cd   \n",
       "4      503dba3725b3fd5c0e769a20d324c1a1e20dbc4d   \n",
       "...                                         ...   \n",
       "10128  835e59c27eb07192538c8a9dd7bca6aa5065671b   \n",
       "10129  5024a162dfac11512ba8cb59eccd836abe70cf42   \n",
       "10130  dc8f08671c59b76f1d313c2e56bd1cacbe55dcac   \n",
       "10131  03ea8980e3e01a4804fbb8208a948d0b76a203fb   \n",
       "10132  95410888a49789e997c8956c44405129a489438a   \n",
       "\n",
       "                                        bssid_5  \\\n",
       "0      87a739fdd61e8e1900efc0eeb8534d9983d1d2ab   \n",
       "1      15402aac56a4d7dfc43f9a19b0f26da3691c41ca   \n",
       "2      503dba3725b3fd5c0e769a20d324c1a1e20dbc4d   \n",
       "3      a709d1d48dcd59b4b56675e1dbc5c58a5a48d132   \n",
       "4      a709d1d48dcd59b4b56675e1dbc5c58a5a48d132   \n",
       "...                                         ...   \n",
       "10128  51aaaf422c6bf5dcce84391b956a8aebfa41c46b   \n",
       "10129  cae39a38a556f42ece02b7e8e54f55440710b034   \n",
       "10130  3c491d07c451dec70b9eeb4209e83ac19c28e0b6   \n",
       "10131  3c491d07c451dec70b9eeb4209e83ac19c28e0b6   \n",
       "10132  f2e910cbcef80943c7283e39adca7b974055e82c   \n",
       "\n",
       "                                        bssid_6  \\\n",
       "0      8136d1f47babb115f21dceaa8227fcd796349c6d   \n",
       "1      fbb43557438922587cafbcb35f9b19ea3e9a1371   \n",
       "2      1ae2600d6b6569e82bbcd7ce1258a9248c6dcc17   \n",
       "3      9957b484f023ea3e4065e90c4a0caec01455e1d7   \n",
       "4      e6270dfb717fca5b1e6ef1e2e896a10e7141e505   \n",
       "...                                         ...   \n",
       "10128  cd31afb29b2e8c60bcb752ddee7d525184d663a2   \n",
       "10129  51aaaf422c6bf5dcce84391b956a8aebfa41c46b   \n",
       "10130  e5c220800a2d5ec83e355c3b1a2d7a141947e95f   \n",
       "10131  4d5cc880afe864ae101c6ab56dc3a065d83a3bcd   \n",
       "10132  77382b959095b32b36f5d62f47807ebfc2e37017   \n",
       "\n",
       "                                        bssid_7  \\\n",
       "0      b109d49603525755fd112ec06e80a2687a7fa417   \n",
       "1      e6270dfb717fca5b1e6ef1e2e896a10e7141e505   \n",
       "2      fbb43557438922587cafbcb35f9b19ea3e9a1371   \n",
       "3      0570b1a98d5815cdc245bb3b904df5cd27edb37d   \n",
       "4      9957b484f023ea3e4065e90c4a0caec01455e1d7   \n",
       "...                                         ...   \n",
       "10128  0f5daed11a61e0d6941a1a42ff428ca216d61003   \n",
       "10129  835e59c27eb07192538c8a9dd7bca6aa5065671b   \n",
       "10130  5024a162dfac11512ba8cb59eccd836abe70cf42   \n",
       "10131  95410888a49789e997c8956c44405129a489438a   \n",
       "10132  6c381e7e7d8e984394ce02a3da912acc1b7d294e   \n",
       "\n",
       "                                        bssid_8  \\\n",
       "0      fbb43557438922587cafbcb35f9b19ea3e9a1371   \n",
       "1      0570b1a98d5815cdc245bb3b904df5cd27edb37d   \n",
       "2      b109d49603525755fd112ec06e80a2687a7fa417   \n",
       "3      15402aac56a4d7dfc43f9a19b0f26da3691c41ca   \n",
       "4      b109d49603525755fd112ec06e80a2687a7fa417   \n",
       "...                                         ...   \n",
       "10128  320d29082914372e384fefd33584e102db06a6c3   \n",
       "10129  5a8c96dd8519e257c0c13af51cdf72e89bfc7339   \n",
       "10130  735a61d004af3adaa1331ceb38436d2d078d0cd0   \n",
       "10131  ea10558abeea1b654962c437574dc29c11498ec7   \n",
       "10132  1ccfad270acf0c810365000a5b7b1202b946a80c   \n",
       "\n",
       "                                        bssid_9  ... rssi_99  \\\n",
       "0      15402aac56a4d7dfc43f9a19b0f26da3691c41ca  ...     -91   \n",
       "1      1ae2600d6b6569e82bbcd7ce1258a9248c6dcc17  ...    -999   \n",
       "2      0570b1a98d5815cdc245bb3b904df5cd27edb37d  ...    -999   \n",
       "3      1ae2600d6b6569e82bbcd7ce1258a9248c6dcc17  ...     -88   \n",
       "4      0edcec6308b9f8a8cd43bf7ca656289aa6663c2c  ...     -86   \n",
       "...                                         ...  ...     ...   \n",
       "10128  7af4e320275401c386cfd3e8ee8554692b2120b2  ...     -86   \n",
       "10129  8d8caa754528e2b2eee8bf2b6362bc950968c959  ...     -87   \n",
       "10130  0e0654ac3d69c3ebbe3c8c65207e139a6c129a14  ...    -999   \n",
       "10131  cae39a38a556f42ece02b7e8e54f55440710b034  ...    -999   \n",
       "10132  d3d056da278ff2975a96a486e4c1f70128570110  ...     -83   \n",
       "\n",
       "                                     site_path_timestamp time_diff  \\\n",
       "0      5da958dd46f8266d0737457b_053526f9012ca71531312...     -1929   \n",
       "1      5da958dd46f8266d0737457b_053526f9012ca71531312...       737   \n",
       "2      5da958dd46f8266d0737457b_053526f9012ca71531312...       411   \n",
       "3      5da958dd46f8266d0737457b_053526f9012ca71531312...        66   \n",
       "4      5da958dd46f8266d0737457b_053526f9012ca71531312...      -406   \n",
       "...                                                  ...       ...   \n",
       "10128  5a0546857ecc773753327266_ffcd9524c80c0fa5bb859...       -83   \n",
       "10129  5a0546857ecc773753327266_ffcd9524c80c0fa5bb859...       244   \n",
       "10130  5a0546857ecc773753327266_ffcd9524c80c0fa5bb859...      -708   \n",
       "10131  5a0546857ecc773753327266_ffcd9524c80c0fa5bb859...       574   \n",
       "10132  5a0546857ecc773753327266_ffcd9524c80c0fa5bb859...      -399   \n",
       "\n",
       "                        site_id floor           x           y  \\\n",
       "0      5da958dd46f8266d0737457b     5   75.430626  206.744690   \n",
       "1      5da958dd46f8266d0737457b     5   75.683708  214.023621   \n",
       "2      5da958dd46f8266d0737457b     5   75.176628  217.944092   \n",
       "3      5da958dd46f8266d0737457b     5   76.178528  212.702744   \n",
       "4      5da958dd46f8266d0737457b     5   78.078140  209.438431   \n",
       "...                         ...   ...         ...         ...   \n",
       "10128  5a0546857ecc773753327266    -1  129.265564  184.464630   \n",
       "10129  5a0546857ecc773753327266    -1  130.018402  183.692459   \n",
       "10130  5a0546857ecc773753327266    -1  131.341995  181.596664   \n",
       "10131  5a0546857ecc773753327266    -1  130.056274  177.039612   \n",
       "10132  5a0546857ecc773753327266    -1  129.488571  172.348862   \n",
       "\n",
       "                           path      timestamp wifi_timestamp  \n",
       "0      053526f9012ca715313120cd  0000000000016           1945  \n",
       "1      053526f9012ca715313120cd  0000000008481           7744  \n",
       "2      053526f9012ca715313120cd  0000000013930          13519  \n",
       "3      053526f9012ca715313120cd  0000000033126          33060  \n",
       "4      053526f9012ca715313120cd  0000000044451          44857  \n",
       "...                         ...            ...            ...  \n",
       "10128  ffcd9524c80c0fa5bb859eaf  0000000035117          35200  \n",
       "10129  ffcd9524c80c0fa5bb859eaf  0000000041230          40986  \n",
       "10130  ffcd9524c80c0fa5bb859eaf  0000000051634          52342  \n",
       "10131  ffcd9524c80c0fa5bb859eaf  0000000060483          59909  \n",
       "10132  ffcd9524c80c0fa5bb859eaf  0000000067146          67545  \n",
       "\n",
       "[10133 rows x 209 columns]"
      ],
      "text/html": "<div>\n<style scoped>\n    .dataframe tbody tr th:only-of-type {\n        vertical-align: middle;\n    }\n\n    .dataframe tbody tr th {\n        vertical-align: top;\n    }\n\n    .dataframe thead th {\n        text-align: right;\n    }\n</style>\n<table border=\"1\" class=\"dataframe\">\n  <thead>\n    <tr style=\"text-align: right;\">\n      <th></th>\n      <th>bssid_0</th>\n      <th>bssid_1</th>\n      <th>bssid_2</th>\n      <th>bssid_3</th>\n      <th>bssid_4</th>\n      <th>bssid_5</th>\n      <th>bssid_6</th>\n      <th>bssid_7</th>\n      <th>bssid_8</th>\n      <th>bssid_9</th>\n      <th>...</th>\n      <th>rssi_99</th>\n      <th>site_path_timestamp</th>\n      <th>time_diff</th>\n      <th>site_id</th>\n      <th>floor</th>\n      <th>x</th>\n      <th>y</th>\n      <th>path</th>\n      <th>timestamp</th>\n      <th>wifi_timestamp</th>\n    </tr>\n  </thead>\n  <tbody>\n    <tr>\n      <th>0</th>\n      <td>574d583edd86d651086e46e635e321a0805d95fa</td>\n      <td>76c846d6cfbfe0809ab4eb027e8bc0138383c7cd</td>\n      <td>807ac70f17923560542c51dff7b5d305709a8769</td>\n      <td>22d8854d62d819f45721b4bc2552c4850c45a50f</td>\n      <td>503dba3725b3fd5c0e769a20d324c1a1e20dbc4d</td>\n      <td>87a739fdd61e8e1900efc0eeb8534d9983d1d2ab</td>\n      <td>8136d1f47babb115f21dceaa8227fcd796349c6d</td>\n      <td>b109d49603525755fd112ec06e80a2687a7fa417</td>\n      <td>fbb43557438922587cafbcb35f9b19ea3e9a1371</td>\n      <td>15402aac56a4d7dfc43f9a19b0f26da3691c41ca</td>\n      <td>...</td>\n      <td>-91</td>\n      <td>5da958dd46f8266d0737457b_053526f9012ca71531312...</td>\n      <td>-1929</td>\n      <td>5da958dd46f8266d0737457b</td>\n      <td>5</td>\n      <td>75.430626</td>\n      <td>206.744690</td>\n      <td>053526f9012ca715313120cd</td>\n      <td>0000000000016</td>\n      <td>1945</td>\n    </tr>\n    <tr>\n      <th>1</th>\n      <td>574d583edd86d651086e46e635e321a0805d95fa</td>\n      <td>807ac70f17923560542c51dff7b5d305709a8769</td>\n      <td>9957b484f023ea3e4065e90c4a0caec01455e1d7</td>\n      <td>76c846d6cfbfe0809ab4eb027e8bc0138383c7cd</td>\n      <td>503dba3725b3fd5c0e769a20d324c1a1e20dbc4d</td>\n      <td>15402aac56a4d7dfc43f9a19b0f26da3691c41ca</td>\n      <td>fbb43557438922587cafbcb35f9b19ea3e9a1371</td>\n      <td>e6270dfb717fca5b1e6ef1e2e896a10e7141e505</td>\n      <td>0570b1a98d5815cdc245bb3b904df5cd27edb37d</td>\n      <td>1ae2600d6b6569e82bbcd7ce1258a9248c6dcc17</td>\n      <td>...</td>\n      <td>-999</td>\n      <td>5da958dd46f8266d0737457b_053526f9012ca71531312...</td>\n      <td>737</td>\n      <td>5da958dd46f8266d0737457b</td>\n      <td>5</td>\n      <td>75.683708</td>\n      <td>214.023621</td>\n      <td>053526f9012ca715313120cd</td>\n      <td>0000000008481</td>\n      <td>7744</td>\n    </tr>\n    <tr>\n      <th>2</th>\n      <td>807ac70f17923560542c51dff7b5d305709a8769</td>\n      <td>574d583edd86d651086e46e635e321a0805d95fa</td>\n      <td>9957b484f023ea3e4065e90c4a0caec01455e1d7</td>\n      <td>15402aac56a4d7dfc43f9a19b0f26da3691c41ca</td>\n      <td>76c846d6cfbfe0809ab4eb027e8bc0138383c7cd</td>\n      <td>503dba3725b3fd5c0e769a20d324c1a1e20dbc4d</td>\n      <td>1ae2600d6b6569e82bbcd7ce1258a9248c6dcc17</td>\n      <td>fbb43557438922587cafbcb35f9b19ea3e9a1371</td>\n      <td>b109d49603525755fd112ec06e80a2687a7fa417</td>\n      <td>0570b1a98d5815cdc245bb3b904df5cd27edb37d</td>\n      <td>...</td>\n      <td>-999</td>\n      <td>5da958dd46f8266d0737457b_053526f9012ca71531312...</td>\n      <td>411</td>\n      <td>5da958dd46f8266d0737457b</td>\n      <td>5</td>\n      <td>75.176628</td>\n      <td>217.944092</td>\n      <td>053526f9012ca715313120cd</td>\n      <td>0000000013930</td>\n      <td>13519</td>\n    </tr>\n    <tr>\n      <th>3</th>\n      <td>574d583edd86d651086e46e635e321a0805d95fa</td>\n      <td>807ac70f17923560542c51dff7b5d305709a8769</td>\n      <td>503dba3725b3fd5c0e769a20d324c1a1e20dbc4d</td>\n      <td>e6270dfb717fca5b1e6ef1e2e896a10e7141e505</td>\n      <td>76c846d6cfbfe0809ab4eb027e8bc0138383c7cd</td>\n      <td>a709d1d48dcd59b4b56675e1dbc5c58a5a48d132</td>\n      <td>9957b484f023ea3e4065e90c4a0caec01455e1d7</td>\n      <td>0570b1a98d5815cdc245bb3b904df5cd27edb37d</td>\n      <td>15402aac56a4d7dfc43f9a19b0f26da3691c41ca</td>\n      <td>1ae2600d6b6569e82bbcd7ce1258a9248c6dcc17</td>\n      <td>...</td>\n      <td>-88</td>\n      <td>5da958dd46f8266d0737457b_053526f9012ca71531312...</td>\n      <td>66</td>\n      <td>5da958dd46f8266d0737457b</td>\n      <td>5</td>\n      <td>76.178528</td>\n      <td>212.702744</td>\n      <td>053526f9012ca715313120cd</td>\n      <td>0000000033126</td>\n      <td>33060</td>\n    </tr>\n    <tr>\n      <th>4</th>\n      <td>574d583edd86d651086e46e635e321a0805d95fa</td>\n      <td>807ac70f17923560542c51dff7b5d305709a8769</td>\n      <td>0570b1a98d5815cdc245bb3b904df5cd27edb37d</td>\n      <td>76c846d6cfbfe0809ab4eb027e8bc0138383c7cd</td>\n      <td>503dba3725b3fd5c0e769a20d324c1a1e20dbc4d</td>\n      <td>a709d1d48dcd59b4b56675e1dbc5c58a5a48d132</td>\n      <td>e6270dfb717fca5b1e6ef1e2e896a10e7141e505</td>\n      <td>9957b484f023ea3e4065e90c4a0caec01455e1d7</td>\n      <td>b109d49603525755fd112ec06e80a2687a7fa417</td>\n      <td>0edcec6308b9f8a8cd43bf7ca656289aa6663c2c</td>\n      <td>...</td>\n      <td>-86</td>\n      <td>5da958dd46f8266d0737457b_053526f9012ca71531312...</td>\n      <td>-406</td>\n      <td>5da958dd46f8266d0737457b</td>\n      <td>5</td>\n      <td>78.078140</td>\n      <td>209.438431</td>\n      <td>053526f9012ca715313120cd</td>\n      <td>0000000044451</td>\n      <td>44857</td>\n    </tr>\n    <tr>\n      <th>...</th>\n      <td>...</td>\n      <td>...</td>\n      <td>...</td>\n      <td>...</td>\n      <td>...</td>\n      <td>...</td>\n      <td>...</td>\n      <td>...</td>\n      <td>...</td>\n      <td>...</td>\n      <td>...</td>\n      <td>...</td>\n      <td>...</td>\n      <td>...</td>\n      <td>...</td>\n      <td>...</td>\n      <td>...</td>\n      <td>...</td>\n      <td>...</td>\n      <td>...</td>\n      <td>...</td>\n    </tr>\n    <tr>\n      <th>10128</th>\n      <td>46e733fa58deea74d962874847a529fb4897e655</td>\n      <td>6c381e7e7d8e984394ce02a3da912acc1b7d294e</td>\n      <td>f879db40b23c9ec1ac0f0d62418d53c3bf2e6cb5</td>\n      <td>4a6f4e041286c0e76a669ceee881942ee06ecc36</td>\n      <td>835e59c27eb07192538c8a9dd7bca6aa5065671b</td>\n      <td>51aaaf422c6bf5dcce84391b956a8aebfa41c46b</td>\n      <td>cd31afb29b2e8c60bcb752ddee7d525184d663a2</td>\n      <td>0f5daed11a61e0d6941a1a42ff428ca216d61003</td>\n      <td>320d29082914372e384fefd33584e102db06a6c3</td>\n      <td>7af4e320275401c386cfd3e8ee8554692b2120b2</td>\n      <td>...</td>\n      <td>-86</td>\n      <td>5a0546857ecc773753327266_ffcd9524c80c0fa5bb859...</td>\n      <td>-83</td>\n      <td>5a0546857ecc773753327266</td>\n      <td>-1</td>\n      <td>129.265564</td>\n      <td>184.464630</td>\n      <td>ffcd9524c80c0fa5bb859eaf</td>\n      <td>0000000035117</td>\n      <td>35200</td>\n    </tr>\n    <tr>\n      <th>10129</th>\n      <td>46e733fa58deea74d962874847a529fb4897e655</td>\n      <td>6c381e7e7d8e984394ce02a3da912acc1b7d294e</td>\n      <td>e5c220800a2d5ec83e355c3b1a2d7a141947e95f</td>\n      <td>f879db40b23c9ec1ac0f0d62418d53c3bf2e6cb5</td>\n      <td>5024a162dfac11512ba8cb59eccd836abe70cf42</td>\n      <td>cae39a38a556f42ece02b7e8e54f55440710b034</td>\n      <td>51aaaf422c6bf5dcce84391b956a8aebfa41c46b</td>\n      <td>835e59c27eb07192538c8a9dd7bca6aa5065671b</td>\n      <td>5a8c96dd8519e257c0c13af51cdf72e89bfc7339</td>\n      <td>8d8caa754528e2b2eee8bf2b6362bc950968c959</td>\n      <td>...</td>\n      <td>-87</td>\n      <td>5a0546857ecc773753327266_ffcd9524c80c0fa5bb859...</td>\n      <td>244</td>\n      <td>5a0546857ecc773753327266</td>\n      <td>-1</td>\n      <td>130.018402</td>\n      <td>183.692459</td>\n      <td>ffcd9524c80c0fa5bb859eaf</td>\n      <td>0000000041230</td>\n      <td>40986</td>\n    </tr>\n    <tr>\n      <th>10130</th>\n      <td>46e733fa58deea74d962874847a529fb4897e655</td>\n      <td>6c381e7e7d8e984394ce02a3da912acc1b7d294e</td>\n      <td>cae39a38a556f42ece02b7e8e54f55440710b034</td>\n      <td>03ea8980e3e01a4804fbb8208a948d0b76a203fb</td>\n      <td>dc8f08671c59b76f1d313c2e56bd1cacbe55dcac</td>\n      <td>3c491d07c451dec70b9eeb4209e83ac19c28e0b6</td>\n      <td>e5c220800a2d5ec83e355c3b1a2d7a141947e95f</td>\n      <td>5024a162dfac11512ba8cb59eccd836abe70cf42</td>\n      <td>735a61d004af3adaa1331ceb38436d2d078d0cd0</td>\n      <td>0e0654ac3d69c3ebbe3c8c65207e139a6c129a14</td>\n      <td>...</td>\n      <td>-999</td>\n      <td>5a0546857ecc773753327266_ffcd9524c80c0fa5bb859...</td>\n      <td>-708</td>\n      <td>5a0546857ecc773753327266</td>\n      <td>-1</td>\n      <td>131.341995</td>\n      <td>181.596664</td>\n      <td>ffcd9524c80c0fa5bb859eaf</td>\n      <td>0000000051634</td>\n      <td>52342</td>\n    </tr>\n    <tr>\n      <th>10131</th>\n      <td>6c381e7e7d8e984394ce02a3da912acc1b7d294e</td>\n      <td>e5c220800a2d5ec83e355c3b1a2d7a141947e95f</td>\n      <td>46e733fa58deea74d962874847a529fb4897e655</td>\n      <td>dc8f08671c59b76f1d313c2e56bd1cacbe55dcac</td>\n      <td>03ea8980e3e01a4804fbb8208a948d0b76a203fb</td>\n      <td>3c491d07c451dec70b9eeb4209e83ac19c28e0b6</td>\n      <td>4d5cc880afe864ae101c6ab56dc3a065d83a3bcd</td>\n      <td>95410888a49789e997c8956c44405129a489438a</td>\n      <td>ea10558abeea1b654962c437574dc29c11498ec7</td>\n      <td>cae39a38a556f42ece02b7e8e54f55440710b034</td>\n      <td>...</td>\n      <td>-999</td>\n      <td>5a0546857ecc773753327266_ffcd9524c80c0fa5bb859...</td>\n      <td>574</td>\n      <td>5a0546857ecc773753327266</td>\n      <td>-1</td>\n      <td>130.056274</td>\n      <td>177.039612</td>\n      <td>ffcd9524c80c0fa5bb859eaf</td>\n      <td>0000000060483</td>\n      <td>59909</td>\n    </tr>\n    <tr>\n      <th>10132</th>\n      <td>46e733fa58deea74d962874847a529fb4897e655</td>\n      <td>c2f60ab72a28ad3da155a5c7c591aae9d5e00061</td>\n      <td>8d8caa754528e2b2eee8bf2b6362bc950968c959</td>\n      <td>5a8c96dd8519e257c0c13af51cdf72e89bfc7339</td>\n      <td>95410888a49789e997c8956c44405129a489438a</td>\n      <td>f2e910cbcef80943c7283e39adca7b974055e82c</td>\n      <td>77382b959095b32b36f5d62f47807ebfc2e37017</td>\n      <td>6c381e7e7d8e984394ce02a3da912acc1b7d294e</td>\n      <td>1ccfad270acf0c810365000a5b7b1202b946a80c</td>\n      <td>d3d056da278ff2975a96a486e4c1f70128570110</td>\n      <td>...</td>\n      <td>-83</td>\n      <td>5a0546857ecc773753327266_ffcd9524c80c0fa5bb859...</td>\n      <td>-399</td>\n      <td>5a0546857ecc773753327266</td>\n      <td>-1</td>\n      <td>129.488571</td>\n      <td>172.348862</td>\n      <td>ffcd9524c80c0fa5bb859eaf</td>\n      <td>0000000067146</td>\n      <td>67545</td>\n    </tr>\n  </tbody>\n</table>\n<p>10133 rows × 209 columns</p>\n</div>"
     },
     "metadata": {},
     "execution_count": 90
    }
   ],
   "source": [
    "test_df = test_df.merge(sub, on=\"site_path_timestamp\")\n",
    "test_df[\"path\"] = test_df[\"site_path_timestamp\"].str.split(\"_\", expand=True)[1]\n",
    "test_df[\"timestamp\"] = test_df[\"site_path_timestamp\"].str.split(\"_\", expand=True)[2]\n",
    "test_df['wifi_timestamp'] = test_df['timestamp'].astype(int) - test_df['time_diff']\n",
    "test_df"
   ]
  },
  {
   "cell_type": "code",
   "execution_count": null,
   "metadata": {},
   "outputs": [],
   "source": [
    "# # 線形補完\n",
    "# path = test_df['path'].unique()[23]  #15\n",
    "# df = test_df[test_df['path']==path]\n",
    "\n",
    "# waypoint = wifi_waypoint_by_linear_interpolation(\n",
    "#     observed_timestamp=df['wifi_timestamp'].astype(int).values, \n",
    "#     observed_x=df['x'].values,\n",
    "#     observed_y=df['y'].values, \n",
    "#     target_timestamp=df['timestamp'].astype(int).values\n",
    "#     )\n",
    "# print(len(df), len(waypoint))\n",
    "\n",
    "# import matplotlib.pyplot as plt\n",
    "# # print(df[\"timestamp\"].astype(int) - df[\"timestamp\"].astype(int).values[0])\n",
    "# plt.plot(df[\"x\"].values, df[\"y\"].values, ls='--', marker=\"o\", label='wifi')\n",
    "# plt.plot(waypoint[:,0], waypoint[:,1], ls='--', marker=\"o\", label='waypoint')\n",
    "# plt.legend()"
   ]
  },
  {
   "cell_type": "code",
   "execution_count": 91,
   "metadata": {},
   "outputs": [
    {
     "output_type": "stream",
     "name": "stderr",
     "text": [
      "/usr/local/lib/python3.8/dist-packages/scipy/interpolate/interpolate.py:623: RuntimeWarning: invalid value encountered in true_divide\n  slope = (y_hi - y_lo) / (x_hi - x_lo)[:, None]\n"
     ]
    },
    {
     "output_type": "execute_result",
     "data": {
      "text/plain": [
       "                                        bssid_0  \\\n",
       "0      889bfa434d66eed8c386ccbc90f445932c43f8dd   \n",
       "1      29c7d9e757292e7b2b3d00dc4dae7514531b20b4   \n",
       "2      11567178cc5ca582a37c4733207c77739e1bf5fd   \n",
       "3      889bfa434d66eed8c386ccbc90f445932c43f8dd   \n",
       "4      889bfa434d66eed8c386ccbc90f445932c43f8dd   \n",
       "...                                         ...   \n",
       "10128  46e733fa58deea74d962874847a529fb4897e655   \n",
       "10129  46e733fa58deea74d962874847a529fb4897e655   \n",
       "10130  46e733fa58deea74d962874847a529fb4897e655   \n",
       "10131  6c381e7e7d8e984394ce02a3da912acc1b7d294e   \n",
       "10132  46e733fa58deea74d962874847a529fb4897e655   \n",
       "\n",
       "                                        bssid_1  \\\n",
       "0      29c7d9e757292e7b2b3d00dc4dae7514531b20b4   \n",
       "1      11567178cc5ca582a37c4733207c77739e1bf5fd   \n",
       "2      889bfa434d66eed8c386ccbc90f445932c43f8dd   \n",
       "3      98d67fadac518296992afddd24e97a2855af9472   \n",
       "4      11567178cc5ca582a37c4733207c77739e1bf5fd   \n",
       "...                                         ...   \n",
       "10128  6c381e7e7d8e984394ce02a3da912acc1b7d294e   \n",
       "10129  6c381e7e7d8e984394ce02a3da912acc1b7d294e   \n",
       "10130  6c381e7e7d8e984394ce02a3da912acc1b7d294e   \n",
       "10131  e5c220800a2d5ec83e355c3b1a2d7a141947e95f   \n",
       "10132  c2f60ab72a28ad3da155a5c7c591aae9d5e00061   \n",
       "\n",
       "                                        bssid_2  \\\n",
       "0      98d67fadac518296992afddd24e97a2855af9472   \n",
       "1      889bfa434d66eed8c386ccbc90f445932c43f8dd   \n",
       "2      52da0403b46bdbfe56c5c630d07ddbc47652d544   \n",
       "3      52da0403b46bdbfe56c5c630d07ddbc47652d544   \n",
       "4      29c7d9e757292e7b2b3d00dc4dae7514531b20b4   \n",
       "...                                         ...   \n",
       "10128  f879db40b23c9ec1ac0f0d62418d53c3bf2e6cb5   \n",
       "10129  e5c220800a2d5ec83e355c3b1a2d7a141947e95f   \n",
       "10130  cae39a38a556f42ece02b7e8e54f55440710b034   \n",
       "10131  46e733fa58deea74d962874847a529fb4897e655   \n",
       "10132  8d8caa754528e2b2eee8bf2b6362bc950968c959   \n",
       "\n",
       "                                        bssid_3  \\\n",
       "0      11567178cc5ca582a37c4733207c77739e1bf5fd   \n",
       "1      4a2924201ab4aaf5aedc8ca8f485bf1b343028cd   \n",
       "2      4a2924201ab4aaf5aedc8ca8f485bf1b343028cd   \n",
       "3      4a2924201ab4aaf5aedc8ca8f485bf1b343028cd   \n",
       "4      4a2924201ab4aaf5aedc8ca8f485bf1b343028cd   \n",
       "...                                         ...   \n",
       "10128  4a6f4e041286c0e76a669ceee881942ee06ecc36   \n",
       "10129  f879db40b23c9ec1ac0f0d62418d53c3bf2e6cb5   \n",
       "10130  03ea8980e3e01a4804fbb8208a948d0b76a203fb   \n",
       "10131  dc8f08671c59b76f1d313c2e56bd1cacbe55dcac   \n",
       "10132  5a8c96dd8519e257c0c13af51cdf72e89bfc7339   \n",
       "\n",
       "                                        bssid_4  \\\n",
       "0      4a2924201ab4aaf5aedc8ca8f485bf1b343028cd   \n",
       "1      2d941f9a87e1b75fe263e7cef9d51c5eeecedc6e   \n",
       "2      29c7d9e757292e7b2b3d00dc4dae7514531b20b4   \n",
       "3      11567178cc5ca582a37c4733207c77739e1bf5fd   \n",
       "4      2d941f9a87e1b75fe263e7cef9d51c5eeecedc6e   \n",
       "...                                         ...   \n",
       "10128  835e59c27eb07192538c8a9dd7bca6aa5065671b   \n",
       "10129  5024a162dfac11512ba8cb59eccd836abe70cf42   \n",
       "10130  dc8f08671c59b76f1d313c2e56bd1cacbe55dcac   \n",
       "10131  03ea8980e3e01a4804fbb8208a948d0b76a203fb   \n",
       "10132  95410888a49789e997c8956c44405129a489438a   \n",
       "\n",
       "                                        bssid_5  \\\n",
       "0      bd400fbef9b9b15143e93f8ad2efb07c076e2f5b   \n",
       "1      bd400fbef9b9b15143e93f8ad2efb07c076e2f5b   \n",
       "2      bd400fbef9b9b15143e93f8ad2efb07c076e2f5b   \n",
       "3      29c7d9e757292e7b2b3d00dc4dae7514531b20b4   \n",
       "4      52da0403b46bdbfe56c5c630d07ddbc47652d544   \n",
       "...                                         ...   \n",
       "10128  51aaaf422c6bf5dcce84391b956a8aebfa41c46b   \n",
       "10129  cae39a38a556f42ece02b7e8e54f55440710b034   \n",
       "10130  3c491d07c451dec70b9eeb4209e83ac19c28e0b6   \n",
       "10131  3c491d07c451dec70b9eeb4209e83ac19c28e0b6   \n",
       "10132  f2e910cbcef80943c7283e39adca7b974055e82c   \n",
       "\n",
       "                                        bssid_6  \\\n",
       "0      2d941f9a87e1b75fe263e7cef9d51c5eeecedc6e   \n",
       "1      98d67fadac518296992afddd24e97a2855af9472   \n",
       "2      2d941f9a87e1b75fe263e7cef9d51c5eeecedc6e   \n",
       "3      bd400fbef9b9b15143e93f8ad2efb07c076e2f5b   \n",
       "4      bd400fbef9b9b15143e93f8ad2efb07c076e2f5b   \n",
       "...                                         ...   \n",
       "10128  cd31afb29b2e8c60bcb752ddee7d525184d663a2   \n",
       "10129  51aaaf422c6bf5dcce84391b956a8aebfa41c46b   \n",
       "10130  e5c220800a2d5ec83e355c3b1a2d7a141947e95f   \n",
       "10131  4d5cc880afe864ae101c6ab56dc3a065d83a3bcd   \n",
       "10132  77382b959095b32b36f5d62f47807ebfc2e37017   \n",
       "\n",
       "                                        bssid_7  \\\n",
       "0      ddf350d0ccf75a6e540a00adbc7de2a02f093fd4   \n",
       "1      ddf350d0ccf75a6e540a00adbc7de2a02f093fd4   \n",
       "2      98d67fadac518296992afddd24e97a2855af9472   \n",
       "3      2d941f9a87e1b75fe263e7cef9d51c5eeecedc6e   \n",
       "4      98d67fadac518296992afddd24e97a2855af9472   \n",
       "...                                         ...   \n",
       "10128  0f5daed11a61e0d6941a1a42ff428ca216d61003   \n",
       "10129  835e59c27eb07192538c8a9dd7bca6aa5065671b   \n",
       "10130  5024a162dfac11512ba8cb59eccd836abe70cf42   \n",
       "10131  95410888a49789e997c8956c44405129a489438a   \n",
       "10132  6c381e7e7d8e984394ce02a3da912acc1b7d294e   \n",
       "\n",
       "                                        bssid_8  \\\n",
       "0      525ff0652e084f27434e7adcc7e1203b7750d8e3   \n",
       "1      ea26617bc19a2b6a0a3798c1f3aa1de25442e716   \n",
       "2      6481d877c7c3dd24354706980d009f2781af31aa   \n",
       "3      4e44f35a8a73e213ae458e6ed1fa8f8b969a2349   \n",
       "4      ddf350d0ccf75a6e540a00adbc7de2a02f093fd4   \n",
       "...                                         ...   \n",
       "10128  320d29082914372e384fefd33584e102db06a6c3   \n",
       "10129  5a8c96dd8519e257c0c13af51cdf72e89bfc7339   \n",
       "10130  735a61d004af3adaa1331ceb38436d2d078d0cd0   \n",
       "10131  ea10558abeea1b654962c437574dc29c11498ec7   \n",
       "10132  1ccfad270acf0c810365000a5b7b1202b946a80c   \n",
       "\n",
       "                                        bssid_9  ... time_diff  \\\n",
       "0      ea26617bc19a2b6a0a3798c1f3aa1de25442e716  ...     -1170   \n",
       "1      6481d877c7c3dd24354706980d009f2781af31aa  ...      -876   \n",
       "2      4e44f35a8a73e213ae458e6ed1fa8f8b969a2349  ...        73   \n",
       "3      ddf350d0ccf75a6e540a00adbc7de2a02f093fd4  ...      -118   \n",
       "4      4e44f35a8a73e213ae458e6ed1fa8f8b969a2349  ...        75   \n",
       "...                                         ...  ...       ...   \n",
       "10128  7af4e320275401c386cfd3e8ee8554692b2120b2  ...       -83   \n",
       "10129  8d8caa754528e2b2eee8bf2b6362bc950968c959  ...       244   \n",
       "10130  0e0654ac3d69c3ebbe3c8c65207e139a6c129a14  ...      -708   \n",
       "10131  cae39a38a556f42ece02b7e8e54f55440710b034  ...       574   \n",
       "10132  d3d056da278ff2975a96a486e4c1f70128570110  ...      -399   \n",
       "\n",
       "                        site_id floor           x           y  \\\n",
       "0      5da1389e4db8ce0c98bd0547     3   66.347862   83.650742   \n",
       "1      5da1389e4db8ce0c98bd0547     3   67.551575   83.421074   \n",
       "2      5da1389e4db8ce0c98bd0547     3   69.959229   83.439606   \n",
       "3      5da1389e4db8ce0c98bd0547     3   65.773506   84.517708   \n",
       "4      5da1389e4db8ce0c98bd0547     3   70.562469   82.481064   \n",
       "...                         ...   ...         ...         ...   \n",
       "10128  5a0546857ecc773753327266    -1  129.265564  184.464630   \n",
       "10129  5a0546857ecc773753327266    -1  130.018402  183.692459   \n",
       "10130  5a0546857ecc773753327266    -1  131.341995  181.596664   \n",
       "10131  5a0546857ecc773753327266    -1  130.056274  177.039612   \n",
       "10132  5a0546857ecc773753327266    -1  129.488571  172.348862   \n",
       "\n",
       "                           path      timestamp wifi_timestamp          _x  \\\n",
       "0      00ff0c9a71cc37a2ebdd0f05  0000000000010           1180   66.347862   \n",
       "1      00ff0c9a71cc37a2ebdd0f05  0000000004048           4924   67.250647   \n",
       "2      00ff0c9a71cc37a2ebdd0f05  0000000012526          12453   69.959229   \n",
       "3      00ff0c9a71cc37a2ebdd0f05  0000000025542          25660   65.773506   \n",
       "4      00ff0c9a71cc37a2ebdd0f05  0000000037134          37059   70.562469   \n",
       "...                         ...            ...            ...         ...   \n",
       "10128  ffcd9524c80c0fa5bb859eaf  0000000035117          35200  129.265564   \n",
       "10129  ffcd9524c80c0fa5bb859eaf  0000000041230          40986  130.018402   \n",
       "10130  ffcd9524c80c0fa5bb859eaf  0000000051634          52342  131.284448   \n",
       "10131  ffcd9524c80c0fa5bb859eaf  0000000060483          59909  130.020793   \n",
       "10132  ffcd9524c80c0fa5bb859eaf  0000000067146          67545  129.524053   \n",
       "\n",
       "               _y  \n",
       "0       83.650742  \n",
       "1       83.478491  \n",
       "2       83.439606  \n",
       "3       84.517708  \n",
       "4       82.481064  \n",
       "...           ...  \n",
       "10128  184.464630  \n",
       "10129  183.692459  \n",
       "10130  181.687786  \n",
       "10131  176.746440  \n",
       "10132  172.642034  \n",
       "\n",
       "[10133 rows x 211 columns]"
      ],
      "text/html": "<div>\n<style scoped>\n    .dataframe tbody tr th:only-of-type {\n        vertical-align: middle;\n    }\n\n    .dataframe tbody tr th {\n        vertical-align: top;\n    }\n\n    .dataframe thead th {\n        text-align: right;\n    }\n</style>\n<table border=\"1\" class=\"dataframe\">\n  <thead>\n    <tr style=\"text-align: right;\">\n      <th></th>\n      <th>bssid_0</th>\n      <th>bssid_1</th>\n      <th>bssid_2</th>\n      <th>bssid_3</th>\n      <th>bssid_4</th>\n      <th>bssid_5</th>\n      <th>bssid_6</th>\n      <th>bssid_7</th>\n      <th>bssid_8</th>\n      <th>bssid_9</th>\n      <th>...</th>\n      <th>time_diff</th>\n      <th>site_id</th>\n      <th>floor</th>\n      <th>x</th>\n      <th>y</th>\n      <th>path</th>\n      <th>timestamp</th>\n      <th>wifi_timestamp</th>\n      <th>_x</th>\n      <th>_y</th>\n    </tr>\n  </thead>\n  <tbody>\n    <tr>\n      <th>0</th>\n      <td>889bfa434d66eed8c386ccbc90f445932c43f8dd</td>\n      <td>29c7d9e757292e7b2b3d00dc4dae7514531b20b4</td>\n      <td>98d67fadac518296992afddd24e97a2855af9472</td>\n      <td>11567178cc5ca582a37c4733207c77739e1bf5fd</td>\n      <td>4a2924201ab4aaf5aedc8ca8f485bf1b343028cd</td>\n      <td>bd400fbef9b9b15143e93f8ad2efb07c076e2f5b</td>\n      <td>2d941f9a87e1b75fe263e7cef9d51c5eeecedc6e</td>\n      <td>ddf350d0ccf75a6e540a00adbc7de2a02f093fd4</td>\n      <td>525ff0652e084f27434e7adcc7e1203b7750d8e3</td>\n      <td>ea26617bc19a2b6a0a3798c1f3aa1de25442e716</td>\n      <td>...</td>\n      <td>-1170</td>\n      <td>5da1389e4db8ce0c98bd0547</td>\n      <td>3</td>\n      <td>66.347862</td>\n      <td>83.650742</td>\n      <td>00ff0c9a71cc37a2ebdd0f05</td>\n      <td>0000000000010</td>\n      <td>1180</td>\n      <td>66.347862</td>\n      <td>83.650742</td>\n    </tr>\n    <tr>\n      <th>1</th>\n      <td>29c7d9e757292e7b2b3d00dc4dae7514531b20b4</td>\n      <td>11567178cc5ca582a37c4733207c77739e1bf5fd</td>\n      <td>889bfa434d66eed8c386ccbc90f445932c43f8dd</td>\n      <td>4a2924201ab4aaf5aedc8ca8f485bf1b343028cd</td>\n      <td>2d941f9a87e1b75fe263e7cef9d51c5eeecedc6e</td>\n      <td>bd400fbef9b9b15143e93f8ad2efb07c076e2f5b</td>\n      <td>98d67fadac518296992afddd24e97a2855af9472</td>\n      <td>ddf350d0ccf75a6e540a00adbc7de2a02f093fd4</td>\n      <td>ea26617bc19a2b6a0a3798c1f3aa1de25442e716</td>\n      <td>6481d877c7c3dd24354706980d009f2781af31aa</td>\n      <td>...</td>\n      <td>-876</td>\n      <td>5da1389e4db8ce0c98bd0547</td>\n      <td>3</td>\n      <td>67.551575</td>\n      <td>83.421074</td>\n      <td>00ff0c9a71cc37a2ebdd0f05</td>\n      <td>0000000004048</td>\n      <td>4924</td>\n      <td>67.250647</td>\n      <td>83.478491</td>\n    </tr>\n    <tr>\n      <th>2</th>\n      <td>11567178cc5ca582a37c4733207c77739e1bf5fd</td>\n      <td>889bfa434d66eed8c386ccbc90f445932c43f8dd</td>\n      <td>52da0403b46bdbfe56c5c630d07ddbc47652d544</td>\n      <td>4a2924201ab4aaf5aedc8ca8f485bf1b343028cd</td>\n      <td>29c7d9e757292e7b2b3d00dc4dae7514531b20b4</td>\n      <td>bd400fbef9b9b15143e93f8ad2efb07c076e2f5b</td>\n      <td>2d941f9a87e1b75fe263e7cef9d51c5eeecedc6e</td>\n      <td>98d67fadac518296992afddd24e97a2855af9472</td>\n      <td>6481d877c7c3dd24354706980d009f2781af31aa</td>\n      <td>4e44f35a8a73e213ae458e6ed1fa8f8b969a2349</td>\n      <td>...</td>\n      <td>73</td>\n      <td>5da1389e4db8ce0c98bd0547</td>\n      <td>3</td>\n      <td>69.959229</td>\n      <td>83.439606</td>\n      <td>00ff0c9a71cc37a2ebdd0f05</td>\n      <td>0000000012526</td>\n      <td>12453</td>\n      <td>69.959229</td>\n      <td>83.439606</td>\n    </tr>\n    <tr>\n      <th>3</th>\n      <td>889bfa434d66eed8c386ccbc90f445932c43f8dd</td>\n      <td>98d67fadac518296992afddd24e97a2855af9472</td>\n      <td>52da0403b46bdbfe56c5c630d07ddbc47652d544</td>\n      <td>4a2924201ab4aaf5aedc8ca8f485bf1b343028cd</td>\n      <td>11567178cc5ca582a37c4733207c77739e1bf5fd</td>\n      <td>29c7d9e757292e7b2b3d00dc4dae7514531b20b4</td>\n      <td>bd400fbef9b9b15143e93f8ad2efb07c076e2f5b</td>\n      <td>2d941f9a87e1b75fe263e7cef9d51c5eeecedc6e</td>\n      <td>4e44f35a8a73e213ae458e6ed1fa8f8b969a2349</td>\n      <td>ddf350d0ccf75a6e540a00adbc7de2a02f093fd4</td>\n      <td>...</td>\n      <td>-118</td>\n      <td>5da1389e4db8ce0c98bd0547</td>\n      <td>3</td>\n      <td>65.773506</td>\n      <td>84.517708</td>\n      <td>00ff0c9a71cc37a2ebdd0f05</td>\n      <td>0000000025542</td>\n      <td>25660</td>\n      <td>65.773506</td>\n      <td>84.517708</td>\n    </tr>\n    <tr>\n      <th>4</th>\n      <td>889bfa434d66eed8c386ccbc90f445932c43f8dd</td>\n      <td>11567178cc5ca582a37c4733207c77739e1bf5fd</td>\n      <td>29c7d9e757292e7b2b3d00dc4dae7514531b20b4</td>\n      <td>4a2924201ab4aaf5aedc8ca8f485bf1b343028cd</td>\n      <td>2d941f9a87e1b75fe263e7cef9d51c5eeecedc6e</td>\n      <td>52da0403b46bdbfe56c5c630d07ddbc47652d544</td>\n      <td>bd400fbef9b9b15143e93f8ad2efb07c076e2f5b</td>\n      <td>98d67fadac518296992afddd24e97a2855af9472</td>\n      <td>ddf350d0ccf75a6e540a00adbc7de2a02f093fd4</td>\n      <td>4e44f35a8a73e213ae458e6ed1fa8f8b969a2349</td>\n      <td>...</td>\n      <td>75</td>\n      <td>5da1389e4db8ce0c98bd0547</td>\n      <td>3</td>\n      <td>70.562469</td>\n      <td>82.481064</td>\n      <td>00ff0c9a71cc37a2ebdd0f05</td>\n      <td>0000000037134</td>\n      <td>37059</td>\n      <td>70.562469</td>\n      <td>82.481064</td>\n    </tr>\n    <tr>\n      <th>...</th>\n      <td>...</td>\n      <td>...</td>\n      <td>...</td>\n      <td>...</td>\n      <td>...</td>\n      <td>...</td>\n      <td>...</td>\n      <td>...</td>\n      <td>...</td>\n      <td>...</td>\n      <td>...</td>\n      <td>...</td>\n      <td>...</td>\n      <td>...</td>\n      <td>...</td>\n      <td>...</td>\n      <td>...</td>\n      <td>...</td>\n      <td>...</td>\n      <td>...</td>\n      <td>...</td>\n    </tr>\n    <tr>\n      <th>10128</th>\n      <td>46e733fa58deea74d962874847a529fb4897e655</td>\n      <td>6c381e7e7d8e984394ce02a3da912acc1b7d294e</td>\n      <td>f879db40b23c9ec1ac0f0d62418d53c3bf2e6cb5</td>\n      <td>4a6f4e041286c0e76a669ceee881942ee06ecc36</td>\n      <td>835e59c27eb07192538c8a9dd7bca6aa5065671b</td>\n      <td>51aaaf422c6bf5dcce84391b956a8aebfa41c46b</td>\n      <td>cd31afb29b2e8c60bcb752ddee7d525184d663a2</td>\n      <td>0f5daed11a61e0d6941a1a42ff428ca216d61003</td>\n      <td>320d29082914372e384fefd33584e102db06a6c3</td>\n      <td>7af4e320275401c386cfd3e8ee8554692b2120b2</td>\n      <td>...</td>\n      <td>-83</td>\n      <td>5a0546857ecc773753327266</td>\n      <td>-1</td>\n      <td>129.265564</td>\n      <td>184.464630</td>\n      <td>ffcd9524c80c0fa5bb859eaf</td>\n      <td>0000000035117</td>\n      <td>35200</td>\n      <td>129.265564</td>\n      <td>184.464630</td>\n    </tr>\n    <tr>\n      <th>10129</th>\n      <td>46e733fa58deea74d962874847a529fb4897e655</td>\n      <td>6c381e7e7d8e984394ce02a3da912acc1b7d294e</td>\n      <td>e5c220800a2d5ec83e355c3b1a2d7a141947e95f</td>\n      <td>f879db40b23c9ec1ac0f0d62418d53c3bf2e6cb5</td>\n      <td>5024a162dfac11512ba8cb59eccd836abe70cf42</td>\n      <td>cae39a38a556f42ece02b7e8e54f55440710b034</td>\n      <td>51aaaf422c6bf5dcce84391b956a8aebfa41c46b</td>\n      <td>835e59c27eb07192538c8a9dd7bca6aa5065671b</td>\n      <td>5a8c96dd8519e257c0c13af51cdf72e89bfc7339</td>\n      <td>8d8caa754528e2b2eee8bf2b6362bc950968c959</td>\n      <td>...</td>\n      <td>244</td>\n      <td>5a0546857ecc773753327266</td>\n      <td>-1</td>\n      <td>130.018402</td>\n      <td>183.692459</td>\n      <td>ffcd9524c80c0fa5bb859eaf</td>\n      <td>0000000041230</td>\n      <td>40986</td>\n      <td>130.018402</td>\n      <td>183.692459</td>\n    </tr>\n    <tr>\n      <th>10130</th>\n      <td>46e733fa58deea74d962874847a529fb4897e655</td>\n      <td>6c381e7e7d8e984394ce02a3da912acc1b7d294e</td>\n      <td>cae39a38a556f42ece02b7e8e54f55440710b034</td>\n      <td>03ea8980e3e01a4804fbb8208a948d0b76a203fb</td>\n      <td>dc8f08671c59b76f1d313c2e56bd1cacbe55dcac</td>\n      <td>3c491d07c451dec70b9eeb4209e83ac19c28e0b6</td>\n      <td>e5c220800a2d5ec83e355c3b1a2d7a141947e95f</td>\n      <td>5024a162dfac11512ba8cb59eccd836abe70cf42</td>\n      <td>735a61d004af3adaa1331ceb38436d2d078d0cd0</td>\n      <td>0e0654ac3d69c3ebbe3c8c65207e139a6c129a14</td>\n      <td>...</td>\n      <td>-708</td>\n      <td>5a0546857ecc773753327266</td>\n      <td>-1</td>\n      <td>131.341995</td>\n      <td>181.596664</td>\n      <td>ffcd9524c80c0fa5bb859eaf</td>\n      <td>0000000051634</td>\n      <td>52342</td>\n      <td>131.284448</td>\n      <td>181.687786</td>\n    </tr>\n    <tr>\n      <th>10131</th>\n      <td>6c381e7e7d8e984394ce02a3da912acc1b7d294e</td>\n      <td>e5c220800a2d5ec83e355c3b1a2d7a141947e95f</td>\n      <td>46e733fa58deea74d962874847a529fb4897e655</td>\n      <td>dc8f08671c59b76f1d313c2e56bd1cacbe55dcac</td>\n      <td>03ea8980e3e01a4804fbb8208a948d0b76a203fb</td>\n      <td>3c491d07c451dec70b9eeb4209e83ac19c28e0b6</td>\n      <td>4d5cc880afe864ae101c6ab56dc3a065d83a3bcd</td>\n      <td>95410888a49789e997c8956c44405129a489438a</td>\n      <td>ea10558abeea1b654962c437574dc29c11498ec7</td>\n      <td>cae39a38a556f42ece02b7e8e54f55440710b034</td>\n      <td>...</td>\n      <td>574</td>\n      <td>5a0546857ecc773753327266</td>\n      <td>-1</td>\n      <td>130.056274</td>\n      <td>177.039612</td>\n      <td>ffcd9524c80c0fa5bb859eaf</td>\n      <td>0000000060483</td>\n      <td>59909</td>\n      <td>130.020793</td>\n      <td>176.746440</td>\n    </tr>\n    <tr>\n      <th>10132</th>\n      <td>46e733fa58deea74d962874847a529fb4897e655</td>\n      <td>c2f60ab72a28ad3da155a5c7c591aae9d5e00061</td>\n      <td>8d8caa754528e2b2eee8bf2b6362bc950968c959</td>\n      <td>5a8c96dd8519e257c0c13af51cdf72e89bfc7339</td>\n      <td>95410888a49789e997c8956c44405129a489438a</td>\n      <td>f2e910cbcef80943c7283e39adca7b974055e82c</td>\n      <td>77382b959095b32b36f5d62f47807ebfc2e37017</td>\n      <td>6c381e7e7d8e984394ce02a3da912acc1b7d294e</td>\n      <td>1ccfad270acf0c810365000a5b7b1202b946a80c</td>\n      <td>d3d056da278ff2975a96a486e4c1f70128570110</td>\n      <td>...</td>\n      <td>-399</td>\n      <td>5a0546857ecc773753327266</td>\n      <td>-1</td>\n      <td>129.488571</td>\n      <td>172.348862</td>\n      <td>ffcd9524c80c0fa5bb859eaf</td>\n      <td>0000000067146</td>\n      <td>67545</td>\n      <td>129.524053</td>\n      <td>172.642034</td>\n    </tr>\n  </tbody>\n</table>\n<p>10133 rows × 211 columns</p>\n</div>"
     },
     "metadata": {},
     "execution_count": 91
    }
   ],
   "source": [
    "# 線形補完でwaypointを修正\n",
    "waypoint_dfs = []\n",
    "for path,df in test_df.groupby('path'):  #15\n",
    "    tmp_waypoint = wifi_waypoint_by_linear_interpolation(\n",
    "        observed_timestamp=df['wifi_timestamp'].astype(int).values, \n",
    "        observed_x=df['x'].values,\n",
    "        observed_y=df['y'].values, \n",
    "        target_timestamp=df['timestamp'].astype(int).values\n",
    "        )\n",
    "    df['_x'] = tmp_waypoint[:,0]\n",
    "    df['_y'] = tmp_waypoint[:,1]\n",
    "    waypoint_dfs.append(df)\n",
    "\n",
    "waypoint_df = pd.concat(waypoint_dfs).reset_index(drop=True)\n",
    "waypoint_df"
   ]
  },
  {
   "cell_type": "code",
   "execution_count": 92,
   "metadata": {},
   "outputs": [
    {
     "output_type": "execute_result",
     "data": {
      "text/plain": [
       "<matplotlib.legend.Legend at 0x7f79246e8310>"
      ]
     },
     "metadata": {},
     "execution_count": 92
    },
    {
     "output_type": "display_data",
     "data": {
      "text/plain": "<Figure size 432x288 with 1 Axes>",
      "image/svg+xml": "<?xml version=\"1.0\" encoding=\"utf-8\" standalone=\"no\"?>\n<!DOCTYPE svg PUBLIC \"-//W3C//DTD SVG 1.1//EN\"\n  \"http://www.w3.org/Graphics/SVG/1.1/DTD/svg11.dtd\">\n<!-- Created with matplotlib (https://matplotlib.org/) -->\n<svg height=\"249.947539pt\" version=\"1.1\" viewBox=\"0 0 381.65 249.947539\" width=\"381.65pt\" xmlns=\"http://www.w3.org/2000/svg\" xmlns:xlink=\"http://www.w3.org/1999/xlink\">\n <metadata>\n  <rdf:RDF xmlns:cc=\"http://creativecommons.org/ns#\" xmlns:dc=\"http://purl.org/dc/elements/1.1/\" xmlns:rdf=\"http://www.w3.org/1999/02/22-rdf-syntax-ns#\">\n   <cc:Work>\n    <dc:type rdf:resource=\"http://purl.org/dc/dcmitype/StillImage\"/>\n    <dc:date>2021-04-08T15:36:41.710109</dc:date>\n    <dc:format>image/svg+xml</dc:format>\n    <dc:creator>\n     <cc:Agent>\n      <dc:title>Matplotlib v3.3.3, https://matplotlib.org/</dc:title>\n     </cc:Agent>\n    </dc:creator>\n   </cc:Work>\n  </rdf:RDF>\n </metadata>\n <defs>\n  <style type=\"text/css\">*{stroke-linecap:butt;stroke-linejoin:round;}</style>\n </defs>\n <g id=\"figure_1\">\n  <g id=\"patch_1\">\n   <path d=\"M -0 249.947539 \nL 381.65 249.947539 \nL 381.65 0 \nL -0 0 \nz\n\" style=\"fill:none;\"/>\n  </g>\n  <g id=\"axes_1\">\n   <g id=\"patch_2\">\n    <path d=\"M 39.65 226.069414 \nL 374.45 226.069414 \nL 374.45 8.629414 \nL 39.65 8.629414 \nz\n\" style=\"fill:#ffffff;\"/>\n   </g>\n   <g id=\"patch_3\">\n    <path clip-path=\"url(#p5f60375ffb)\" d=\"M 70.346749 226.069414 \nL 98.246694 226.069414 \nL 98.246694 225.934995 \nL 70.346749 225.934995 \nz\n\" style=\"fill:#1f77b4;\"/>\n   </g>\n   <g id=\"patch_4\">\n    <path clip-path=\"url(#p5f60375ffb)\" d=\"M 98.246694 226.069414 \nL 126.14664 226.069414 \nL 126.14664 225.39732 \nL 98.246694 225.39732 \nz\n\" style=\"fill:#1f77b4;\"/>\n   </g>\n   <g id=\"patch_5\">\n    <path clip-path=\"url(#p5f60375ffb)\" d=\"M 126.14664 226.069414 \nL 154.046585 226.069414 \nL 154.046585 219.482889 \nL 126.14664 219.482889 \nz\n\" style=\"fill:#1f77b4;\"/>\n   </g>\n   <g id=\"patch_6\">\n    <path clip-path=\"url(#p5f60375ffb)\" d=\"M 154.046585 226.069414 \nL 181.946531 226.069414 \nL 181.946531 154.397271 \nL 154.046585 154.397271 \nz\n\" style=\"fill:#1f77b4;\"/>\n   </g>\n   <g id=\"patch_7\">\n    <path clip-path=\"url(#p5f60375ffb)\" d=\"M 181.946531 226.069414 \nL 209.846476 226.069414 \nL 209.846476 45.007193 \nL 181.946531 45.007193 \nz\n\" style=\"fill:#1f77b4;\"/>\n   </g>\n   <g id=\"patch_8\">\n    <path clip-path=\"url(#p5f60375ffb)\" d=\"M 209.846476 226.069414 \nL 237.746421 226.069414 \nL 237.746421 214.966415 \nL 209.846476 214.966415 \nz\n\" style=\"fill:#1f77b4;\"/>\n   </g>\n   <g id=\"patch_9\">\n    <path clip-path=\"url(#p5f60375ffb)\" d=\"M 237.746421 226.069414 \nL 265.646367 226.069414 \nL 265.646367 225.020947 \nL 237.746421 225.020947 \nz\n\" style=\"fill:#1f77b4;\"/>\n   </g>\n   <g id=\"patch_10\">\n    <path clip-path=\"url(#p5f60375ffb)\" d=\"M 265.646367 226.069414 \nL 293.546312 226.069414 \nL 293.546312 225.988763 \nL 265.646367 225.988763 \nz\n\" style=\"fill:#1f77b4;\"/>\n   </g>\n   <g id=\"patch_11\">\n    <path clip-path=\"url(#p5f60375ffb)\" d=\"M 293.546312 226.069414 \nL 321.446258 226.069414 \nL 321.446258 226.04253 \nL 293.546312 226.04253 \nz\n\" style=\"fill:#1f77b4;\"/>\n   </g>\n   <g id=\"patch_12\">\n    <path clip-path=\"url(#p5f60375ffb)\" d=\"M 321.446258 226.069414 \nL 349.346203 226.069414 \nL 349.346203 226.04253 \nL 321.446258 226.04253 \nz\n\" style=\"fill:#1f77b4;\"/>\n   </g>\n   <g id=\"patch_13\">\n    <path clip-path=\"url(#p5f60375ffb)\" d=\"M 54.868182 226.069414 \nL 85.304545 226.069414 \nL 85.304545 226.015646 \nL 54.868182 226.015646 \nz\n\" style=\"fill:#ff7f0e;\"/>\n   </g>\n   <g id=\"patch_14\">\n    <path clip-path=\"url(#p5f60375ffb)\" d=\"M 85.304545 226.069414 \nL 115.740909 226.069414 \nL 115.740909 225.82746 \nL 85.304545 225.82746 \nz\n\" style=\"fill:#ff7f0e;\"/>\n   </g>\n   <g id=\"patch_15\">\n    <path clip-path=\"url(#p5f60375ffb)\" d=\"M 115.740909 226.069414 \nL 146.177273 226.069414 \nL 146.177273 222.386337 \nL 115.740909 222.386337 \nz\n\" style=\"fill:#ff7f0e;\"/>\n   </g>\n   <g id=\"patch_16\">\n    <path clip-path=\"url(#p5f60375ffb)\" d=\"M 146.177273 226.069414 \nL 176.613636 226.069414 \nL 176.613636 179.291647 \nL 146.177273 179.291647 \nz\n\" style=\"fill:#ff7f0e;\"/>\n   </g>\n   <g id=\"patch_17\">\n    <path clip-path=\"url(#p5f60375ffb)\" d=\"M 176.613636 226.069414 \nL 207.05 226.069414 \nL 207.05 18.9837 \nL 176.613636 18.9837 \nz\n\" style=\"fill:#ff7f0e;\"/>\n   </g>\n   <g id=\"patch_18\">\n    <path clip-path=\"url(#p5f60375ffb)\" d=\"M 207.05 226.069414 \nL 237.486364 226.069414 \nL 237.486364 212.815713 \nL 207.05 212.815713 \nz\n\" style=\"fill:#ff7f0e;\"/>\n   </g>\n   <g id=\"patch_19\">\n    <path clip-path=\"url(#p5f60375ffb)\" d=\"M 237.486364 226.069414 \nL 267.922727 226.069414 \nL 267.922727 224.913412 \nL 237.486364 224.913412 \nz\n\" style=\"fill:#ff7f0e;\"/>\n   </g>\n   <g id=\"patch_20\">\n    <path clip-path=\"url(#p5f60375ffb)\" d=\"M 267.922727 226.069414 \nL 298.359091 226.069414 \nL 298.359091 225.988763 \nL 267.922727 225.988763 \nz\n\" style=\"fill:#ff7f0e;\"/>\n   </g>\n   <g id=\"patch_21\">\n    <path clip-path=\"url(#p5f60375ffb)\" d=\"M 298.359091 226.069414 \nL 328.795455 226.069414 \nL 328.795455 226.069414 \nL 298.359091 226.069414 \nz\n\" style=\"fill:#ff7f0e;\"/>\n   </g>\n   <g id=\"patch_22\">\n    <path clip-path=\"url(#p5f60375ffb)\" d=\"M 328.795455 226.069414 \nL 359.231818 226.069414 \nL 359.231818 225.988763 \nL 328.795455 225.988763 \nz\n\" style=\"fill:#ff7f0e;\"/>\n   </g>\n   <g id=\"matplotlib.axis_1\">\n    <g id=\"xtick_1\">\n     <g id=\"line2d_1\">\n      <path clip-path=\"url(#p5f60375ffb)\" d=\"M 58.265895 226.069414 \nL 58.265895 8.629414 \n\" style=\"fill:none;stroke:#b0b0b0;stroke-linecap:square;stroke-width:0.8;\"/>\n     </g>\n     <g id=\"line2d_2\">\n      <defs>\n       <path d=\"M 0 0 \nL 0 3.5 \n\" id=\"mfce17890f8\" style=\"stroke:#000000;stroke-width:0.8;\"/>\n      </defs>\n      <g>\n       <use style=\"stroke:#000000;stroke-width:0.8;\" x=\"58.265895\" xlink:href=\"#mfce17890f8\" y=\"226.069414\"/>\n      </g>\n     </g>\n     <g id=\"text_1\">\n      <!-- −3 -->\n      <g transform=\"translate(50.894802 240.667852)scale(0.1 -0.1)\">\n       <defs>\n        <path d=\"M 10.59375 35.5 \nL 73.1875 35.5 \nL 73.1875 27.203125 \nL 10.59375 27.203125 \nz\n\" id=\"DejaVuSans-8722\"/>\n        <path d=\"M 40.578125 39.3125 \nQ 47.65625 37.796875 51.625 33 \nQ 55.609375 28.21875 55.609375 21.1875 \nQ 55.609375 10.40625 48.1875 4.484375 \nQ 40.765625 -1.421875 27.09375 -1.421875 \nQ 22.515625 -1.421875 17.65625 -0.515625 \nQ 12.796875 0.390625 7.625 2.203125 \nL 7.625 11.71875 \nQ 11.71875 9.328125 16.59375 8.109375 \nQ 21.484375 6.890625 26.8125 6.890625 \nQ 36.078125 6.890625 40.9375 10.546875 \nQ 45.796875 14.203125 45.796875 21.1875 \nQ 45.796875 27.640625 41.28125 31.265625 \nQ 36.765625 34.90625 28.71875 34.90625 \nL 20.21875 34.90625 \nL 20.21875 43.015625 \nL 29.109375 43.015625 \nQ 36.375 43.015625 40.234375 45.921875 \nQ 44.09375 48.828125 44.09375 54.296875 \nQ 44.09375 59.90625 40.109375 62.90625 \nQ 36.140625 65.921875 28.71875 65.921875 \nQ 24.65625 65.921875 20.015625 65.03125 \nQ 15.375 64.15625 9.8125 62.3125 \nL 9.8125 71.09375 \nQ 15.4375 72.65625 20.34375 73.4375 \nQ 25.25 74.21875 29.59375 74.21875 \nQ 40.828125 74.21875 47.359375 69.109375 \nQ 53.90625 64.015625 53.90625 55.328125 \nQ 53.90625 49.265625 50.4375 45.09375 \nQ 46.96875 40.921875 40.578125 39.3125 \nz\n\" id=\"DejaVuSans-51\"/>\n       </defs>\n       <use xlink:href=\"#DejaVuSans-8722\"/>\n       <use x=\"83.789062\" xlink:href=\"#DejaVuSans-51\"/>\n      </g>\n     </g>\n    </g>\n    <g id=\"xtick_2\">\n     <g id=\"line2d_3\">\n      <path clip-path=\"url(#p5f60375ffb)\" d=\"M 100.374906 226.069414 \nL 100.374906 8.629414 \n\" style=\"fill:none;stroke:#b0b0b0;stroke-linecap:square;stroke-width:0.8;\"/>\n     </g>\n     <g id=\"line2d_4\">\n      <g>\n       <use style=\"stroke:#000000;stroke-width:0.8;\" x=\"100.374906\" xlink:href=\"#mfce17890f8\" y=\"226.069414\"/>\n      </g>\n     </g>\n     <g id=\"text_2\">\n      <!-- −2 -->\n      <g transform=\"translate(93.003812 240.667852)scale(0.1 -0.1)\">\n       <defs>\n        <path d=\"M 19.1875 8.296875 \nL 53.609375 8.296875 \nL 53.609375 0 \nL 7.328125 0 \nL 7.328125 8.296875 \nQ 12.9375 14.109375 22.625 23.890625 \nQ 32.328125 33.6875 34.8125 36.53125 \nQ 39.546875 41.84375 41.421875 45.53125 \nQ 43.3125 49.21875 43.3125 52.78125 \nQ 43.3125 58.59375 39.234375 62.25 \nQ 35.15625 65.921875 28.609375 65.921875 \nQ 23.96875 65.921875 18.8125 64.3125 \nQ 13.671875 62.703125 7.8125 59.421875 \nL 7.8125 69.390625 \nQ 13.765625 71.78125 18.9375 73 \nQ 24.125 74.21875 28.421875 74.21875 \nQ 39.75 74.21875 46.484375 68.546875 \nQ 53.21875 62.890625 53.21875 53.421875 \nQ 53.21875 48.921875 51.53125 44.890625 \nQ 49.859375 40.875 45.40625 35.40625 \nQ 44.1875 33.984375 37.640625 27.21875 \nQ 31.109375 20.453125 19.1875 8.296875 \nz\n\" id=\"DejaVuSans-50\"/>\n       </defs>\n       <use xlink:href=\"#DejaVuSans-8722\"/>\n       <use x=\"83.789062\" xlink:href=\"#DejaVuSans-50\"/>\n      </g>\n     </g>\n    </g>\n    <g id=\"xtick_3\">\n     <g id=\"line2d_5\">\n      <path clip-path=\"url(#p5f60375ffb)\" d=\"M 142.483916 226.069414 \nL 142.483916 8.629414 \n\" style=\"fill:none;stroke:#b0b0b0;stroke-linecap:square;stroke-width:0.8;\"/>\n     </g>\n     <g id=\"line2d_6\">\n      <g>\n       <use style=\"stroke:#000000;stroke-width:0.8;\" x=\"142.483916\" xlink:href=\"#mfce17890f8\" y=\"226.069414\"/>\n      </g>\n     </g>\n     <g id=\"text_3\">\n      <!-- −1 -->\n      <g transform=\"translate(135.112822 240.667852)scale(0.1 -0.1)\">\n       <defs>\n        <path d=\"M 12.40625 8.296875 \nL 28.515625 8.296875 \nL 28.515625 63.921875 \nL 10.984375 60.40625 \nL 10.984375 69.390625 \nL 28.421875 72.90625 \nL 38.28125 72.90625 \nL 38.28125 8.296875 \nL 54.390625 8.296875 \nL 54.390625 0 \nL 12.40625 0 \nz\n\" id=\"DejaVuSans-49\"/>\n       </defs>\n       <use xlink:href=\"#DejaVuSans-8722\"/>\n       <use x=\"83.789062\" xlink:href=\"#DejaVuSans-49\"/>\n      </g>\n     </g>\n    </g>\n    <g id=\"xtick_4\">\n     <g id=\"line2d_7\">\n      <path clip-path=\"url(#p5f60375ffb)\" d=\"M 184.592926 226.069414 \nL 184.592926 8.629414 \n\" style=\"fill:none;stroke:#b0b0b0;stroke-linecap:square;stroke-width:0.8;\"/>\n     </g>\n     <g id=\"line2d_8\">\n      <g>\n       <use style=\"stroke:#000000;stroke-width:0.8;\" x=\"184.592926\" xlink:href=\"#mfce17890f8\" y=\"226.069414\"/>\n      </g>\n     </g>\n     <g id=\"text_4\">\n      <!-- 0 -->\n      <g transform=\"translate(181.411676 240.667852)scale(0.1 -0.1)\">\n       <defs>\n        <path d=\"M 31.78125 66.40625 \nQ 24.171875 66.40625 20.328125 58.90625 \nQ 16.5 51.421875 16.5 36.375 \nQ 16.5 21.390625 20.328125 13.890625 \nQ 24.171875 6.390625 31.78125 6.390625 \nQ 39.453125 6.390625 43.28125 13.890625 \nQ 47.125 21.390625 47.125 36.375 \nQ 47.125 51.421875 43.28125 58.90625 \nQ 39.453125 66.40625 31.78125 66.40625 \nz\nM 31.78125 74.21875 \nQ 44.046875 74.21875 50.515625 64.515625 \nQ 56.984375 54.828125 56.984375 36.375 \nQ 56.984375 17.96875 50.515625 8.265625 \nQ 44.046875 -1.421875 31.78125 -1.421875 \nQ 19.53125 -1.421875 13.0625 8.265625 \nQ 6.59375 17.96875 6.59375 36.375 \nQ 6.59375 54.828125 13.0625 64.515625 \nQ 19.53125 74.21875 31.78125 74.21875 \nz\n\" id=\"DejaVuSans-48\"/>\n       </defs>\n       <use xlink:href=\"#DejaVuSans-48\"/>\n      </g>\n     </g>\n    </g>\n    <g id=\"xtick_5\">\n     <g id=\"line2d_9\">\n      <path clip-path=\"url(#p5f60375ffb)\" d=\"M 226.701937 226.069414 \nL 226.701937 8.629414 \n\" style=\"fill:none;stroke:#b0b0b0;stroke-linecap:square;stroke-width:0.8;\"/>\n     </g>\n     <g id=\"line2d_10\">\n      <g>\n       <use style=\"stroke:#000000;stroke-width:0.8;\" x=\"226.701937\" xlink:href=\"#mfce17890f8\" y=\"226.069414\"/>\n      </g>\n     </g>\n     <g id=\"text_5\">\n      <!-- 1 -->\n      <g transform=\"translate(223.520687 240.667852)scale(0.1 -0.1)\">\n       <use xlink:href=\"#DejaVuSans-49\"/>\n      </g>\n     </g>\n    </g>\n    <g id=\"xtick_6\">\n     <g id=\"line2d_11\">\n      <path clip-path=\"url(#p5f60375ffb)\" d=\"M 268.810947 226.069414 \nL 268.810947 8.629414 \n\" style=\"fill:none;stroke:#b0b0b0;stroke-linecap:square;stroke-width:0.8;\"/>\n     </g>\n     <g id=\"line2d_12\">\n      <g>\n       <use style=\"stroke:#000000;stroke-width:0.8;\" x=\"268.810947\" xlink:href=\"#mfce17890f8\" y=\"226.069414\"/>\n      </g>\n     </g>\n     <g id=\"text_6\">\n      <!-- 2 -->\n      <g transform=\"translate(265.629697 240.667852)scale(0.1 -0.1)\">\n       <use xlink:href=\"#DejaVuSans-50\"/>\n      </g>\n     </g>\n    </g>\n    <g id=\"xtick_7\">\n     <g id=\"line2d_13\">\n      <path clip-path=\"url(#p5f60375ffb)\" d=\"M 310.919957 226.069414 \nL 310.919957 8.629414 \n\" style=\"fill:none;stroke:#b0b0b0;stroke-linecap:square;stroke-width:0.8;\"/>\n     </g>\n     <g id=\"line2d_14\">\n      <g>\n       <use style=\"stroke:#000000;stroke-width:0.8;\" x=\"310.919957\" xlink:href=\"#mfce17890f8\" y=\"226.069414\"/>\n      </g>\n     </g>\n     <g id=\"text_7\">\n      <!-- 3 -->\n      <g transform=\"translate(307.738707 240.667852)scale(0.1 -0.1)\">\n       <use xlink:href=\"#DejaVuSans-51\"/>\n      </g>\n     </g>\n    </g>\n    <g id=\"xtick_8\">\n     <g id=\"line2d_15\">\n      <path clip-path=\"url(#p5f60375ffb)\" d=\"M 353.028968 226.069414 \nL 353.028968 8.629414 \n\" style=\"fill:none;stroke:#b0b0b0;stroke-linecap:square;stroke-width:0.8;\"/>\n     </g>\n     <g id=\"line2d_16\">\n      <g>\n       <use style=\"stroke:#000000;stroke-width:0.8;\" x=\"353.028968\" xlink:href=\"#mfce17890f8\" y=\"226.069414\"/>\n      </g>\n     </g>\n     <g id=\"text_8\">\n      <!-- 4 -->\n      <g transform=\"translate(349.847718 240.667852)scale(0.1 -0.1)\">\n       <defs>\n        <path d=\"M 37.796875 64.3125 \nL 12.890625 25.390625 \nL 37.796875 25.390625 \nz\nM 35.203125 72.90625 \nL 47.609375 72.90625 \nL 47.609375 25.390625 \nL 58.015625 25.390625 \nL 58.015625 17.1875 \nL 47.609375 17.1875 \nL 47.609375 0 \nL 37.796875 0 \nL 37.796875 17.1875 \nL 4.890625 17.1875 \nL 4.890625 26.703125 \nz\n\" id=\"DejaVuSans-52\"/>\n       </defs>\n       <use xlink:href=\"#DejaVuSans-52\"/>\n      </g>\n     </g>\n    </g>\n   </g>\n   <g id=\"matplotlib.axis_2\">\n    <g id=\"ytick_1\">\n     <g id=\"line2d_17\">\n      <path clip-path=\"url(#p5f60375ffb)\" d=\"M 39.65 226.069414 \nL 374.45 226.069414 \n\" style=\"fill:none;stroke:#b0b0b0;stroke-linecap:square;stroke-width:0.8;\"/>\n     </g>\n     <g id=\"line2d_18\">\n      <defs>\n       <path d=\"M 0 0 \nL -3.5 0 \n\" id=\"m8bb277729e\" style=\"stroke:#000000;stroke-width:0.8;\"/>\n      </defs>\n      <g>\n       <use style=\"stroke:#000000;stroke-width:0.8;\" x=\"39.65\" xlink:href=\"#m8bb277729e\" y=\"226.069414\"/>\n      </g>\n     </g>\n     <g id=\"text_9\">\n      <!-- 0 -->\n      <g transform=\"translate(26.2875 229.868633)scale(0.1 -0.1)\">\n       <use xlink:href=\"#DejaVuSans-48\"/>\n      </g>\n     </g>\n    </g>\n    <g id=\"ytick_2\">\n     <g id=\"line2d_19\">\n      <path clip-path=\"url(#p5f60375ffb)\" d=\"M 39.65 199.18564 \nL 374.45 199.18564 \n\" style=\"fill:none;stroke:#b0b0b0;stroke-linecap:square;stroke-width:0.8;\"/>\n     </g>\n     <g id=\"line2d_20\">\n      <g>\n       <use style=\"stroke:#000000;stroke-width:0.8;\" x=\"39.65\" xlink:href=\"#m8bb277729e\" y=\"199.18564\"/>\n      </g>\n     </g>\n     <g id=\"text_10\">\n      <!-- 1000 -->\n      <g transform=\"translate(7.2 202.984858)scale(0.1 -0.1)\">\n       <use xlink:href=\"#DejaVuSans-49\"/>\n       <use x=\"63.623047\" xlink:href=\"#DejaVuSans-48\"/>\n       <use x=\"127.246094\" xlink:href=\"#DejaVuSans-48\"/>\n       <use x=\"190.869141\" xlink:href=\"#DejaVuSans-48\"/>\n      </g>\n     </g>\n    </g>\n    <g id=\"ytick_3\">\n     <g id=\"line2d_21\">\n      <path clip-path=\"url(#p5f60375ffb)\" d=\"M 39.65 172.301865 \nL 374.45 172.301865 \n\" style=\"fill:none;stroke:#b0b0b0;stroke-linecap:square;stroke-width:0.8;\"/>\n     </g>\n     <g id=\"line2d_22\">\n      <g>\n       <use style=\"stroke:#000000;stroke-width:0.8;\" x=\"39.65\" xlink:href=\"#m8bb277729e\" y=\"172.301865\"/>\n      </g>\n     </g>\n     <g id=\"text_11\">\n      <!-- 2000 -->\n      <g transform=\"translate(7.2 176.101084)scale(0.1 -0.1)\">\n       <use xlink:href=\"#DejaVuSans-50\"/>\n       <use x=\"63.623047\" xlink:href=\"#DejaVuSans-48\"/>\n       <use x=\"127.246094\" xlink:href=\"#DejaVuSans-48\"/>\n       <use x=\"190.869141\" xlink:href=\"#DejaVuSans-48\"/>\n      </g>\n     </g>\n    </g>\n    <g id=\"ytick_4\">\n     <g id=\"line2d_23\">\n      <path clip-path=\"url(#p5f60375ffb)\" d=\"M 39.65 145.418091 \nL 374.45 145.418091 \n\" style=\"fill:none;stroke:#b0b0b0;stroke-linecap:square;stroke-width:0.8;\"/>\n     </g>\n     <g id=\"line2d_24\">\n      <g>\n       <use style=\"stroke:#000000;stroke-width:0.8;\" x=\"39.65\" xlink:href=\"#m8bb277729e\" y=\"145.418091\"/>\n      </g>\n     </g>\n     <g id=\"text_12\">\n      <!-- 3000 -->\n      <g transform=\"translate(7.2 149.21731)scale(0.1 -0.1)\">\n       <use xlink:href=\"#DejaVuSans-51\"/>\n       <use x=\"63.623047\" xlink:href=\"#DejaVuSans-48\"/>\n       <use x=\"127.246094\" xlink:href=\"#DejaVuSans-48\"/>\n       <use x=\"190.869141\" xlink:href=\"#DejaVuSans-48\"/>\n      </g>\n     </g>\n    </g>\n    <g id=\"ytick_5\">\n     <g id=\"line2d_25\">\n      <path clip-path=\"url(#p5f60375ffb)\" d=\"M 39.65 118.534316 \nL 374.45 118.534316 \n\" style=\"fill:none;stroke:#b0b0b0;stroke-linecap:square;stroke-width:0.8;\"/>\n     </g>\n     <g id=\"line2d_26\">\n      <g>\n       <use style=\"stroke:#000000;stroke-width:0.8;\" x=\"39.65\" xlink:href=\"#m8bb277729e\" y=\"118.534316\"/>\n      </g>\n     </g>\n     <g id=\"text_13\">\n      <!-- 4000 -->\n      <g transform=\"translate(7.2 122.333535)scale(0.1 -0.1)\">\n       <use xlink:href=\"#DejaVuSans-52\"/>\n       <use x=\"63.623047\" xlink:href=\"#DejaVuSans-48\"/>\n       <use x=\"127.246094\" xlink:href=\"#DejaVuSans-48\"/>\n       <use x=\"190.869141\" xlink:href=\"#DejaVuSans-48\"/>\n      </g>\n     </g>\n    </g>\n    <g id=\"ytick_6\">\n     <g id=\"line2d_27\">\n      <path clip-path=\"url(#p5f60375ffb)\" d=\"M 39.65 91.650542 \nL 374.45 91.650542 \n\" style=\"fill:none;stroke:#b0b0b0;stroke-linecap:square;stroke-width:0.8;\"/>\n     </g>\n     <g id=\"line2d_28\">\n      <g>\n       <use style=\"stroke:#000000;stroke-width:0.8;\" x=\"39.65\" xlink:href=\"#m8bb277729e\" y=\"91.650542\"/>\n      </g>\n     </g>\n     <g id=\"text_14\">\n      <!-- 5000 -->\n      <g transform=\"translate(7.2 95.449761)scale(0.1 -0.1)\">\n       <defs>\n        <path d=\"M 10.796875 72.90625 \nL 49.515625 72.90625 \nL 49.515625 64.59375 \nL 19.828125 64.59375 \nL 19.828125 46.734375 \nQ 21.96875 47.46875 24.109375 47.828125 \nQ 26.265625 48.1875 28.421875 48.1875 \nQ 40.625 48.1875 47.75 41.5 \nQ 54.890625 34.8125 54.890625 23.390625 \nQ 54.890625 11.625 47.5625 5.09375 \nQ 40.234375 -1.421875 26.90625 -1.421875 \nQ 22.3125 -1.421875 17.546875 -0.640625 \nQ 12.796875 0.140625 7.71875 1.703125 \nL 7.71875 11.625 \nQ 12.109375 9.234375 16.796875 8.0625 \nQ 21.484375 6.890625 26.703125 6.890625 \nQ 35.15625 6.890625 40.078125 11.328125 \nQ 45.015625 15.765625 45.015625 23.390625 \nQ 45.015625 31 40.078125 35.4375 \nQ 35.15625 39.890625 26.703125 39.890625 \nQ 22.75 39.890625 18.8125 39.015625 \nQ 14.890625 38.140625 10.796875 36.28125 \nz\n\" id=\"DejaVuSans-53\"/>\n       </defs>\n       <use xlink:href=\"#DejaVuSans-53\"/>\n       <use x=\"63.623047\" xlink:href=\"#DejaVuSans-48\"/>\n       <use x=\"127.246094\" xlink:href=\"#DejaVuSans-48\"/>\n       <use x=\"190.869141\" xlink:href=\"#DejaVuSans-48\"/>\n      </g>\n     </g>\n    </g>\n    <g id=\"ytick_7\">\n     <g id=\"line2d_29\">\n      <path clip-path=\"url(#p5f60375ffb)\" d=\"M 39.65 64.766768 \nL 374.45 64.766768 \n\" style=\"fill:none;stroke:#b0b0b0;stroke-linecap:square;stroke-width:0.8;\"/>\n     </g>\n     <g id=\"line2d_30\">\n      <g>\n       <use style=\"stroke:#000000;stroke-width:0.8;\" x=\"39.65\" xlink:href=\"#m8bb277729e\" y=\"64.766768\"/>\n      </g>\n     </g>\n     <g id=\"text_15\">\n      <!-- 6000 -->\n      <g transform=\"translate(7.2 68.565986)scale(0.1 -0.1)\">\n       <defs>\n        <path d=\"M 33.015625 40.375 \nQ 26.375 40.375 22.484375 35.828125 \nQ 18.609375 31.296875 18.609375 23.390625 \nQ 18.609375 15.53125 22.484375 10.953125 \nQ 26.375 6.390625 33.015625 6.390625 \nQ 39.65625 6.390625 43.53125 10.953125 \nQ 47.40625 15.53125 47.40625 23.390625 \nQ 47.40625 31.296875 43.53125 35.828125 \nQ 39.65625 40.375 33.015625 40.375 \nz\nM 52.59375 71.296875 \nL 52.59375 62.3125 \nQ 48.875 64.0625 45.09375 64.984375 \nQ 41.3125 65.921875 37.59375 65.921875 \nQ 27.828125 65.921875 22.671875 59.328125 \nQ 17.53125 52.734375 16.796875 39.40625 \nQ 19.671875 43.65625 24.015625 45.921875 \nQ 28.375 48.1875 33.59375 48.1875 \nQ 44.578125 48.1875 50.953125 41.515625 \nQ 57.328125 34.859375 57.328125 23.390625 \nQ 57.328125 12.15625 50.6875 5.359375 \nQ 44.046875 -1.421875 33.015625 -1.421875 \nQ 20.359375 -1.421875 13.671875 8.265625 \nQ 6.984375 17.96875 6.984375 36.375 \nQ 6.984375 53.65625 15.1875 63.9375 \nQ 23.390625 74.21875 37.203125 74.21875 \nQ 40.921875 74.21875 44.703125 73.484375 \nQ 48.484375 72.75 52.59375 71.296875 \nz\n\" id=\"DejaVuSans-54\"/>\n       </defs>\n       <use xlink:href=\"#DejaVuSans-54\"/>\n       <use x=\"63.623047\" xlink:href=\"#DejaVuSans-48\"/>\n       <use x=\"127.246094\" xlink:href=\"#DejaVuSans-48\"/>\n       <use x=\"190.869141\" xlink:href=\"#DejaVuSans-48\"/>\n      </g>\n     </g>\n    </g>\n    <g id=\"ytick_8\">\n     <g id=\"line2d_31\">\n      <path clip-path=\"url(#p5f60375ffb)\" d=\"M 39.65 37.882993 \nL 374.45 37.882993 \n\" style=\"fill:none;stroke:#b0b0b0;stroke-linecap:square;stroke-width:0.8;\"/>\n     </g>\n     <g id=\"line2d_32\">\n      <g>\n       <use style=\"stroke:#000000;stroke-width:0.8;\" x=\"39.65\" xlink:href=\"#m8bb277729e\" y=\"37.882993\"/>\n      </g>\n     </g>\n     <g id=\"text_16\">\n      <!-- 7000 -->\n      <g transform=\"translate(7.2 41.682212)scale(0.1 -0.1)\">\n       <defs>\n        <path d=\"M 8.203125 72.90625 \nL 55.078125 72.90625 \nL 55.078125 68.703125 \nL 28.609375 0 \nL 18.3125 0 \nL 43.21875 64.59375 \nL 8.203125 64.59375 \nz\n\" id=\"DejaVuSans-55\"/>\n       </defs>\n       <use xlink:href=\"#DejaVuSans-55\"/>\n       <use x=\"63.623047\" xlink:href=\"#DejaVuSans-48\"/>\n       <use x=\"127.246094\" xlink:href=\"#DejaVuSans-48\"/>\n       <use x=\"190.869141\" xlink:href=\"#DejaVuSans-48\"/>\n      </g>\n     </g>\n    </g>\n    <g id=\"ytick_9\">\n     <g id=\"line2d_33\">\n      <path clip-path=\"url(#p5f60375ffb)\" d=\"M 39.65 10.999219 \nL 374.45 10.999219 \n\" style=\"fill:none;stroke:#b0b0b0;stroke-linecap:square;stroke-width:0.8;\"/>\n     </g>\n     <g id=\"line2d_34\">\n      <g>\n       <use style=\"stroke:#000000;stroke-width:0.8;\" x=\"39.65\" xlink:href=\"#m8bb277729e\" y=\"10.999219\"/>\n      </g>\n     </g>\n     <g id=\"text_17\">\n      <!-- 8000 -->\n      <g transform=\"translate(7.2 14.798437)scale(0.1 -0.1)\">\n       <defs>\n        <path d=\"M 31.78125 34.625 \nQ 24.75 34.625 20.71875 30.859375 \nQ 16.703125 27.09375 16.703125 20.515625 \nQ 16.703125 13.921875 20.71875 10.15625 \nQ 24.75 6.390625 31.78125 6.390625 \nQ 38.8125 6.390625 42.859375 10.171875 \nQ 46.921875 13.96875 46.921875 20.515625 \nQ 46.921875 27.09375 42.890625 30.859375 \nQ 38.875 34.625 31.78125 34.625 \nz\nM 21.921875 38.8125 \nQ 15.578125 40.375 12.03125 44.71875 \nQ 8.5 49.078125 8.5 55.328125 \nQ 8.5 64.0625 14.71875 69.140625 \nQ 20.953125 74.21875 31.78125 74.21875 \nQ 42.671875 74.21875 48.875 69.140625 \nQ 55.078125 64.0625 55.078125 55.328125 \nQ 55.078125 49.078125 51.53125 44.71875 \nQ 48 40.375 41.703125 38.8125 \nQ 48.828125 37.15625 52.796875 32.3125 \nQ 56.78125 27.484375 56.78125 20.515625 \nQ 56.78125 9.90625 50.3125 4.234375 \nQ 43.84375 -1.421875 31.78125 -1.421875 \nQ 19.734375 -1.421875 13.25 4.234375 \nQ 6.78125 9.90625 6.78125 20.515625 \nQ 6.78125 27.484375 10.78125 32.3125 \nQ 14.796875 37.15625 21.921875 38.8125 \nz\nM 18.3125 54.390625 \nQ 18.3125 48.734375 21.84375 45.5625 \nQ 25.390625 42.390625 31.78125 42.390625 \nQ 38.140625 42.390625 41.71875 45.5625 \nQ 45.3125 48.734375 45.3125 54.390625 \nQ 45.3125 60.0625 41.71875 63.234375 \nQ 38.140625 66.40625 31.78125 66.40625 \nQ 25.390625 66.40625 21.84375 63.234375 \nQ 18.3125 60.0625 18.3125 54.390625 \nz\n\" id=\"DejaVuSans-56\"/>\n       </defs>\n       <use xlink:href=\"#DejaVuSans-56\"/>\n       <use x=\"63.623047\" xlink:href=\"#DejaVuSans-48\"/>\n       <use x=\"127.246094\" xlink:href=\"#DejaVuSans-48\"/>\n       <use x=\"190.869141\" xlink:href=\"#DejaVuSans-48\"/>\n      </g>\n     </g>\n    </g>\n   </g>\n   <g id=\"patch_23\">\n    <path d=\"M 39.65 226.069414 \nL 39.65 8.629414 \n\" style=\"fill:none;stroke:#000000;stroke-linecap:square;stroke-linejoin:miter;stroke-width:0.8;\"/>\n   </g>\n   <g id=\"patch_24\">\n    <path d=\"M 374.45 226.069414 \nL 374.45 8.629414 \n\" style=\"fill:none;stroke:#000000;stroke-linecap:square;stroke-linejoin:miter;stroke-width:0.8;\"/>\n   </g>\n   <g id=\"patch_25\">\n    <path d=\"M 39.65 226.069414 \nL 374.45 226.069414 \n\" style=\"fill:none;stroke:#000000;stroke-linecap:square;stroke-linejoin:miter;stroke-width:0.8;\"/>\n   </g>\n   <g id=\"patch_26\">\n    <path d=\"M 39.65 8.629414 \nL 374.45 8.629414 \n\" style=\"fill:none;stroke:#000000;stroke-linecap:square;stroke-linejoin:miter;stroke-width:0.8;\"/>\n   </g>\n   <g id=\"legend_1\">\n    <g id=\"patch_27\">\n     <path d=\"M 329.53125 45.985664 \nL 367.45 45.985664 \nQ 369.45 45.985664 369.45 43.985664 \nL 369.45 15.629414 \nQ 369.45 13.629414 367.45 13.629414 \nL 329.53125 13.629414 \nQ 327.53125 13.629414 327.53125 15.629414 \nL 327.53125 43.985664 \nQ 327.53125 45.985664 329.53125 45.985664 \nz\n\" style=\"fill:#ffffff;opacity:0.8;stroke:#cccccc;stroke-linejoin:miter;\"/>\n    </g>\n    <g id=\"patch_28\">\n     <path d=\"M 331.53125 25.227852 \nL 351.53125 25.227852 \nL 351.53125 18.227852 \nL 331.53125 18.227852 \nz\n\" style=\"fill:#1f77b4;\"/>\n    </g>\n    <g id=\"text_18\">\n     <!-- x -->\n     <g transform=\"translate(359.53125 25.227852)scale(0.1 -0.1)\">\n      <defs>\n       <path d=\"M 54.890625 54.6875 \nL 35.109375 28.078125 \nL 55.90625 0 \nL 45.3125 0 \nL 29.390625 21.484375 \nL 13.484375 0 \nL 2.875 0 \nL 24.125 28.609375 \nL 4.6875 54.6875 \nL 15.28125 54.6875 \nL 29.78125 35.203125 \nL 44.28125 54.6875 \nz\n\" id=\"DejaVuSans-120\"/>\n      </defs>\n      <use xlink:href=\"#DejaVuSans-120\"/>\n     </g>\n    </g>\n    <g id=\"patch_29\">\n     <path d=\"M 331.53125 39.905977 \nL 351.53125 39.905977 \nL 351.53125 32.905977 \nL 331.53125 32.905977 \nz\n\" style=\"fill:#ff7f0e;\"/>\n    </g>\n    <g id=\"text_19\">\n     <!-- y -->\n     <g transform=\"translate(359.53125 39.905977)scale(0.1 -0.1)\">\n      <defs>\n       <path d=\"M 32.171875 -5.078125 \nQ 28.375 -14.84375 24.75 -17.8125 \nQ 21.140625 -20.796875 15.09375 -20.796875 \nL 7.90625 -20.796875 \nL 7.90625 -13.28125 \nL 13.1875 -13.28125 \nQ 16.890625 -13.28125 18.9375 -11.515625 \nQ 21 -9.765625 23.484375 -3.21875 \nL 25.09375 0.875 \nL 2.984375 54.6875 \nL 12.5 54.6875 \nL 29.59375 11.921875 \nL 46.6875 54.6875 \nL 56.203125 54.6875 \nz\n\" id=\"DejaVuSans-121\"/>\n      </defs>\n      <use xlink:href=\"#DejaVuSans-121\"/>\n     </g>\n    </g>\n   </g>\n  </g>\n </g>\n <defs>\n  <clipPath id=\"p5f60375ffb\">\n   <rect height=\"217.44\" width=\"334.8\" x=\"39.65\" y=\"8.629414\"/>\n  </clipPath>\n </defs>\n</svg>\n",
      "image/png": "[encoded data removed]"
     },
     "metadata": {
      "needs_background": "light"
     }
    }
   ],
   "source": [
    "import matplotlib.pyplot as plt\n",
    "(waypoint_df['x'] - waypoint_df['_x']).hist(label='x')\n",
    "(waypoint_df['y'] - waypoint_df['_y']).hist(label='y')\n",
    "plt.legend()"
   ]
  },
  {
   "cell_type": "code",
   "execution_count": 93,
   "metadata": {},
   "outputs": [
    {
     "output_type": "execute_result",
     "data": {
      "text/plain": [
       "                                                    floor           x  \\\n",
       "site_path_timestamp                                                     \n",
       "5a0546857ecc773753327266_046cfa46be49fc10834815...      0   90.631088   \n",
       "5a0546857ecc773753327266_046cfa46be49fc10834815...      0   83.405303   \n",
       "5a0546857ecc773753327266_046cfa46be49fc10834815...      0   85.088683   \n",
       "5a0546857ecc773753327266_046cfa46be49fc10834815...      0   86.025623   \n",
       "5a0546857ecc773753327266_046cfa46be49fc10834815...      0   85.736187   \n",
       "...                                                   ...         ...   \n",
       "5dc8cea7659e181adb076a3f_fd64de8c4a2fc5ebb0e9f4...      5  210.482456   \n",
       "5dc8cea7659e181adb076a3f_fd64de8c4a2fc5ebb0e9f4...      5  208.700211   \n",
       "5dc8cea7659e181adb076a3f_fd64de8c4a2fc5ebb0e9f4...      5  204.696214   \n",
       "5dc8cea7659e181adb076a3f_fd64de8c4a2fc5ebb0e9f4...      5  198.890961   \n",
       "5dc8cea7659e181adb076a3f_fd64de8c4a2fc5ebb0e9f4...      5  195.387756   \n",
       "\n",
       "                                                             y  \n",
       "site_path_timestamp                                             \n",
       "5a0546857ecc773753327266_046cfa46be49fc10834815...   97.769402  \n",
       "5a0546857ecc773753327266_046cfa46be49fc10834815...  100.253225  \n",
       "5a0546857ecc773753327266_046cfa46be49fc10834815...  104.528713  \n",
       "5a0546857ecc773753327266_046cfa46be49fc10834815...  106.600136  \n",
       "5a0546857ecc773753327266_046cfa46be49fc10834815...  109.594666  \n",
       "...                                                        ...  \n",
       "5dc8cea7659e181adb076a3f_fd64de8c4a2fc5ebb0e9f4...   97.950287  \n",
       "5dc8cea7659e181adb076a3f_fd64de8c4a2fc5ebb0e9f4...  100.820831  \n",
       "5dc8cea7659e181adb076a3f_fd64de8c4a2fc5ebb0e9f4...  106.854738  \n",
       "5dc8cea7659e181adb076a3f_fd64de8c4a2fc5ebb0e9f4...  113.148513  \n",
       "5dc8cea7659e181adb076a3f_fd64de8c4a2fc5ebb0e9f4...  115.438042  \n",
       "\n",
       "[10133 rows x 3 columns]"
      ],
      "text/html": "<div>\n<style scoped>\n    .dataframe tbody tr th:only-of-type {\n        vertical-align: middle;\n    }\n\n    .dataframe tbody tr th {\n        vertical-align: top;\n    }\n\n    .dataframe thead th {\n        text-align: right;\n    }\n</style>\n<table border=\"1\" class=\"dataframe\">\n  <thead>\n    <tr style=\"text-align: right;\">\n      <th></th>\n      <th>floor</th>\n      <th>x</th>\n      <th>y</th>\n    </tr>\n    <tr>\n      <th>site_path_timestamp</th>\n      <th></th>\n      <th></th>\n      <th></th>\n    </tr>\n  </thead>\n  <tbody>\n    <tr>\n      <th>5a0546857ecc773753327266_046cfa46be49fc10834815c6_0000000000009</th>\n      <td>0</td>\n      <td>90.631088</td>\n      <td>97.769402</td>\n    </tr>\n    <tr>\n      <th>5a0546857ecc773753327266_046cfa46be49fc10834815c6_0000000009017</th>\n      <td>0</td>\n      <td>83.405303</td>\n      <td>100.253225</td>\n    </tr>\n    <tr>\n      <th>5a0546857ecc773753327266_046cfa46be49fc10834815c6_0000000015326</th>\n      <td>0</td>\n      <td>85.088683</td>\n      <td>104.528713</td>\n    </tr>\n    <tr>\n      <th>5a0546857ecc773753327266_046cfa46be49fc10834815c6_0000000018763</th>\n      <td>0</td>\n      <td>86.025623</td>\n      <td>106.600136</td>\n    </tr>\n    <tr>\n      <th>5a0546857ecc773753327266_046cfa46be49fc10834815c6_0000000022328</th>\n      <td>0</td>\n      <td>85.736187</td>\n      <td>109.594666</td>\n    </tr>\n    <tr>\n      <th>...</th>\n      <td>...</td>\n      <td>...</td>\n      <td>...</td>\n    </tr>\n    <tr>\n      <th>5dc8cea7659e181adb076a3f_fd64de8c4a2fc5ebb0e9f412_0000000082589</th>\n      <td>5</td>\n      <td>210.482456</td>\n      <td>97.950287</td>\n    </tr>\n    <tr>\n      <th>5dc8cea7659e181adb076a3f_fd64de8c4a2fc5ebb0e9f412_0000000085758</th>\n      <td>5</td>\n      <td>208.700211</td>\n      <td>100.820831</td>\n    </tr>\n    <tr>\n      <th>5dc8cea7659e181adb076a3f_fd64de8c4a2fc5ebb0e9f412_0000000090895</th>\n      <td>5</td>\n      <td>204.696214</td>\n      <td>106.854738</td>\n    </tr>\n    <tr>\n      <th>5dc8cea7659e181adb076a3f_fd64de8c4a2fc5ebb0e9f412_0000000096899</th>\n      <td>5</td>\n      <td>198.890961</td>\n      <td>113.148513</td>\n    </tr>\n    <tr>\n      <th>5dc8cea7659e181adb076a3f_fd64de8c4a2fc5ebb0e9f412_0000000100447</th>\n      <td>5</td>\n      <td>195.387756</td>\n      <td>115.438042</td>\n    </tr>\n  </tbody>\n</table>\n<p>10133 rows × 3 columns</p>\n</div>"
     },
     "metadata": {},
     "execution_count": 93
    }
   ],
   "source": [
    "sub = sub.merge(waypoint_df[['site_path_timestamp', '_x', '_y']], on='site_path_timestamp').set_index('site_path_timestamp')\n",
    "sub = sub.drop(['x','y'], axis=1).rename(columns={'_x':'x', '_y':'y'})\n",
    "sub"
   ]
  },
  {
   "cell_type": "code",
   "execution_count": 34,
   "metadata": {},
   "outputs": [],
   "source": [
    "sub.to_csv(EXP_NAME + '_sub.csv')"
   ]
  },
  {
   "source": [
    "## 後処理"
   ],
   "cell_type": "markdown",
   "metadata": {}
  },
  {
   "source": [
    "## cost minimaization"
   ],
   "cell_type": "markdown",
   "metadata": {}
  },
  {
   "cell_type": "code",
   "execution_count": 94,
   "metadata": {},
   "outputs": [],
   "source": [
    "import multiprocessing\n",
    "import scipy.interpolate\n",
    "import scipy.sparse\n",
    "from tqdm import tqdm\n",
    "import sys\n",
    "sys.path.append('../../')\n",
    "from src.io_f import read_data_file\n",
    "from src import compute_f"
   ]
  },
  {
   "cell_type": "code",
   "execution_count": 95,
   "metadata": {},
   "outputs": [],
   "source": [
    "def compute_rel_positions(acce_datas, ahrs_datas):\n",
    "    step_timestamps, step_indexs, step_acce_max_mins = compute_f.compute_steps(acce_datas)\n",
    "    headings = compute_f.compute_headings(ahrs_datas)\n",
    "    stride_lengths = compute_f.compute_stride_length(step_acce_max_mins)\n",
    "    step_headings = compute_f.compute_step_heading(step_timestamps, headings)\n",
    "    rel_positions = compute_f.compute_rel_positions(stride_lengths, step_headings)\n",
    "    return rel_positions\n",
    "    \n",
    "def correct_path(args):\n",
    "    path, path_df = args\n",
    "    \n",
    "    T_ref  = path_df['timestamp'].values\n",
    "    xy_hat = path_df[['x', 'y']].values\n",
    "    \n",
    "    example = read_data_file(f'{root_dir}/indoor-location-navigation/test/{path}.txt')\n",
    "    rel_positions = compute_rel_positions(example.acce, example.ahrs)\n",
    "    if T_ref[-1] > rel_positions[-1, 0]:\n",
    "        rel_positions = [np.array([[0, 0, 0]]), rel_positions, np.array([[T_ref[-1], 0, 0]])]\n",
    "    else:\n",
    "        rel_positions = [np.array([[0, 0, 0]]), rel_positions]\n",
    "    rel_positions = np.concatenate(rel_positions)\n",
    "    \n",
    "    T_rel = rel_positions[:, 0]\n",
    "    delta_xy_hat = np.diff(scipy.interpolate.interp1d(T_rel, np.cumsum(rel_positions[:, 1:3], axis=0), axis=0)(T_ref), axis=0)\n",
    "\n",
    "    N = xy_hat.shape[0]\n",
    "    delta_t = np.diff(T_ref)\n",
    "    alpha = (8.1)**(-2) * np.ones(N)\n",
    "    beta  = (0.3 + 0.3 * 1e-3 * delta_t)**(-2)\n",
    "    A = scipy.sparse.spdiags(alpha, [0], N, N)\n",
    "    B = scipy.sparse.spdiags( beta, [0], N-1, N-1)\n",
    "    D = scipy.sparse.spdiags(np.stack([-np.ones(N), np.ones(N)]), [0, 1], N-1, N)\n",
    "\n",
    "    Q = A + (D.T @ B @ D)\n",
    "    c = (A @ xy_hat) + (D.T @ (B @ delta_xy_hat))\n",
    "    xy_star = scipy.sparse.linalg.spsolve(Q, c)\n",
    "\n",
    "    return pd.DataFrame({\n",
    "        'site_path_timestamp' : path_df['site_path_timestamp'],\n",
    "        'floor' : path_df['floor'],\n",
    "        'x' : xy_star[:, 0],\n",
    "        'y' : xy_star[:, 1],\n",
    "    })\n",
    "\n",
    "def correct_path_train(args):\n",
    "    #print(args)\n",
    "    (site_id, path, floor), path_df = args\n",
    "    \n",
    "    T_ref  = path_df['timestamp'].values\n",
    "    xy_hat = path_df[['x', 'y']].values\n",
    "    \n",
    "    example = read_data_file(f'{root_dir}/indoor-location-navigation/train/{site_id}/{floor}/{path}.txt')\n",
    "    rel_positions = compute_rel_positions(example.acce, example.ahrs)\n",
    "    if T_ref[-1] > rel_positions[-1, 0]:\n",
    "        rel_positions = [np.array([[0, 0, 0]]), rel_positions, np.array([[T_ref[-1], 0, 0]])]\n",
    "    else:\n",
    "        rel_positions = [np.array([[0, 0, 0]]), rel_positions]\n",
    "    rel_positions = np.concatenate(rel_positions)\n",
    "    \n",
    "    T_rel = rel_positions[:, 0]\n",
    "\n",
    "    try:\n",
    "        delta_xy_hat = np.diff(scipy.interpolate.interp1d(T_rel, np.cumsum(rel_positions[:, 1:3], axis=0), axis=0)(T_ref), axis=0)\n",
    "    except:\n",
    "        return pd.DataFrame({\n",
    "            'site_path_timestamp' : path_df['site_path_timestamp'],\n",
    "            'floor' : path_df['floor'],\n",
    "            'x' : path_df['x'].to_numpy(),\n",
    "            'y' : path_df['y'].to_numpy()\n",
    "        })\n",
    "    \n",
    "\n",
    "    N = xy_hat.shape[0]\n",
    "    delta_t = np.diff(T_ref)\n",
    "    alpha = (8.1)**(-2) * np.ones(N)\n",
    "    beta  = (0.3 + 0.3 * 1e-3 * delta_t)**(-2)\n",
    "    A = scipy.sparse.spdiags(alpha, [0], N, N)\n",
    "    B = scipy.sparse.spdiags( beta, [0], N-1, N-1)\n",
    "    D = scipy.sparse.spdiags(np.stack([-np.ones(N), np.ones(N)]), [0, 1], N-1, N)\n",
    "\n",
    "    Q = A + (D.T @ B @ D)\n",
    "    c = (A @ xy_hat) + (D.T @ (B @ delta_xy_hat))\n",
    "    xy_star = scipy.sparse.linalg.spsolve(Q, c)\n",
    "\n",
    "\n",
    "    return pd.DataFrame({\n",
    "        'site_path_timestamp' : path_df['site_path_timestamp'],\n",
    "        'floor' : path_df['floor'],\n",
    "        'x' : xy_star[:, 0],\n",
    "        'y' : xy_star[:, 1],\n",
    "    })"
   ]
  },
  {
   "cell_type": "code",
   "execution_count": 96,
   "metadata": {},
   "outputs": [
    {
     "output_type": "stream",
     "name": "stderr",
     "text": [
      "10852it [03:44, 48.30it/s]\n",
      "CPU times: user 41.4 s, sys: 8.26 s, total: 49.6 s\n",
      "Wall time: 3min 47s\n"
     ]
    },
    {
     "output_type": "execute_result",
     "data": {
      "text/plain": [
       "            timestamp   target_x    target_y  site_id  \\\n",
       "0       1561368762838   78.21819   38.999737        0   \n",
       "1       1561368762838   78.21819   38.999737        0   \n",
       "2       1561368774057   76.25184   30.510840        0   \n",
       "3       1561368774057   76.25184   30.510840        0   \n",
       "4       1561368774057   76.25184   30.510840        0   \n",
       "...               ...        ...         ...      ...   \n",
       "258120  1574420742502  193.20488  108.001520       23   \n",
       "258121  1574420742502  193.20488  108.001520       23   \n",
       "258122  1574420753754  204.29349  107.835120       23   \n",
       "258123  1574420753754  204.29349  107.835120       23   \n",
       "258124  1574420753754  204.29349  107.835120       23   \n",
       "\n",
       "                     site_id_str      wifi_x      wifi_y  floor floor_str  \\\n",
       "0       5a0546857ecc773753327266   77.890465   37.584921      2        F3   \n",
       "1       5a0546857ecc773753327266   77.562740   36.170105      2        F3   \n",
       "2       5a0546857ecc773753327266   77.235015   34.755289      2        F3   \n",
       "3       5a0546857ecc773753327266   77.202679   21.519628      2        F3   \n",
       "4       5a0546857ecc773753327266   76.991381   23.517675      2        F3   \n",
       "...                          ...         ...         ...    ...       ...   \n",
       "258120  5dc8cea7659e181adb076a3f  197.825134  107.932187     -1        B1   \n",
       "258121  5dc8cea7659e181adb076a3f  194.128931  107.987653     -1        B1   \n",
       "258122  5dc8cea7659e181adb076a3f  199.673236  107.904453     -1        B1   \n",
       "258123  5dc8cea7659e181adb076a3f  201.521337  107.876720     -1        B1   \n",
       "258124  5dc8cea7659e181adb076a3f  203.369439  107.848987     -1        B1   \n",
       "\n",
       "                            path  time_diff       oof_x       oof_y  \\\n",
       "0       5d10a1669c50c70008fe8977       1969   82.653908   39.759499   \n",
       "1       5d10a1669c50c70008fe8977       3966   87.702225   33.811455   \n",
       "2       5d10a1669c50c70008fe8977      -5250   80.018883   29.986128   \n",
       "3       5d10a1669c50c70008fe8977       8838   85.431686   29.530434   \n",
       "4       5d10a1669c50c70008fe8977       6812   80.375404   21.628296   \n",
       "...                          ...        ...         ...         ...   \n",
       "258120  5dd7c119c5b77e0006b16b99       4790  200.134949  104.084488   \n",
       "258121  5dd7c119c5b77e0006b16b99       1006  201.191772  103.937843   \n",
       "258122  5dd7c119c5b77e0006b16b99      -4550  200.609863  102.565239   \n",
       "258123  5dd7c119c5b77e0006b16b99      -2662  201.716766  104.940292   \n",
       "258124  5dd7c119c5b77e0006b16b99       -756  203.777359  101.891953   \n",
       "\n",
       "        oof_floor                                site_path_timestamp  \\\n",
       "0        0.208272  5a0546857ecc773753327266_5d10a1669c50c70008fe8...   \n",
       "1        0.206890  5a0546857ecc773753327266_5d10a1669c50c70008fe8...   \n",
       "2        0.211740  5a0546857ecc773753327266_5d10a1669c50c70008fe8...   \n",
       "3        0.205813  5a0546857ecc773753327266_5d10a1669c50c70008fe8...   \n",
       "4        0.211857  5a0546857ecc773753327266_5d10a1669c50c70008fe8...   \n",
       "...           ...                                                ...   \n",
       "258120   0.000000  5dc8cea7659e181adb076a3f_5dd7c119c5b77e0006b16...   \n",
       "258121   0.000000  5dc8cea7659e181adb076a3f_5dd7c119c5b77e0006b16...   \n",
       "258122   0.000000  5dc8cea7659e181adb076a3f_5dd7c119c5b77e0006b16...   \n",
       "258123   0.000000  5dc8cea7659e181adb076a3f_5dd7c119c5b77e0006b16...   \n",
       "258124   0.000000  5dc8cea7659e181adb076a3f_5dd7c119c5b77e0006b16...   \n",
       "\n",
       "        oof_smoothing_x  oof_smoothing_y   oof_min_x   oof_min_y  \n",
       "0             82.653908        39.759499   83.213419   36.591538  \n",
       "1             85.178066        36.785477   83.214187   36.587193  \n",
       "2             83.458338        34.519027   82.561058   28.285671  \n",
       "3             83.951675        33.271879   82.559157   28.282801  \n",
       "4             83.236421        30.943162   82.553314   28.278218  \n",
       "...                 ...              ...         ...         ...  \n",
       "258120       202.442116       103.575552  200.213165  103.583320  \n",
       "258121       201.897083       104.092136  200.193636  103.578458  \n",
       "258122       200.869846       103.683628  207.122516  104.436857  \n",
       "258123       200.913338       103.881966  207.110551  104.434069  \n",
       "258124       201.823940       103.333832  207.105985  104.430587  \n",
       "\n",
       "[258125 rows x 19 columns]"
      ],
      "text/html": "<div>\n<style scoped>\n    .dataframe tbody tr th:only-of-type {\n        vertical-align: middle;\n    }\n\n    .dataframe tbody tr th {\n        vertical-align: top;\n    }\n\n    .dataframe thead th {\n        text-align: right;\n    }\n</style>\n<table border=\"1\" class=\"dataframe\">\n  <thead>\n    <tr style=\"text-align: right;\">\n      <th></th>\n      <th>timestamp</th>\n      <th>target_x</th>\n      <th>target_y</th>\n      <th>site_id</th>\n      <th>site_id_str</th>\n      <th>wifi_x</th>\n      <th>wifi_y</th>\n      <th>floor</th>\n      <th>floor_str</th>\n      <th>path</th>\n      <th>time_diff</th>\n      <th>oof_x</th>\n      <th>oof_y</th>\n      <th>oof_floor</th>\n      <th>site_path_timestamp</th>\n      <th>oof_smoothing_x</th>\n      <th>oof_smoothing_y</th>\n      <th>oof_min_x</th>\n      <th>oof_min_y</th>\n    </tr>\n  </thead>\n  <tbody>\n    <tr>\n      <th>0</th>\n      <td>1561368762838</td>\n      <td>78.21819</td>\n      <td>38.999737</td>\n      <td>0</td>\n      <td>5a0546857ecc773753327266</td>\n      <td>77.890465</td>\n      <td>37.584921</td>\n      <td>2</td>\n      <td>F3</td>\n      <td>5d10a1669c50c70008fe8977</td>\n      <td>1969</td>\n      <td>82.653908</td>\n      <td>39.759499</td>\n      <td>0.208272</td>\n      <td>5a0546857ecc773753327266_5d10a1669c50c70008fe8...</td>\n      <td>82.653908</td>\n      <td>39.759499</td>\n      <td>83.213419</td>\n      <td>36.591538</td>\n    </tr>\n    <tr>\n      <th>1</th>\n      <td>1561368762838</td>\n      <td>78.21819</td>\n      <td>38.999737</td>\n      <td>0</td>\n      <td>5a0546857ecc773753327266</td>\n      <td>77.562740</td>\n      <td>36.170105</td>\n      <td>2</td>\n      <td>F3</td>\n      <td>5d10a1669c50c70008fe8977</td>\n      <td>3966</td>\n      <td>87.702225</td>\n      <td>33.811455</td>\n      <td>0.206890</td>\n      <td>5a0546857ecc773753327266_5d10a1669c50c70008fe8...</td>\n      <td>85.178066</td>\n      <td>36.785477</td>\n      <td>83.214187</td>\n      <td>36.587193</td>\n    </tr>\n    <tr>\n      <th>2</th>\n      <td>1561368774057</td>\n      <td>76.25184</td>\n      <td>30.510840</td>\n      <td>0</td>\n      <td>5a0546857ecc773753327266</td>\n      <td>77.235015</td>\n      <td>34.755289</td>\n      <td>2</td>\n      <td>F3</td>\n      <td>5d10a1669c50c70008fe8977</td>\n      <td>-5250</td>\n      <td>80.018883</td>\n      <td>29.986128</td>\n      <td>0.211740</td>\n      <td>5a0546857ecc773753327266_5d10a1669c50c70008fe8...</td>\n      <td>83.458338</td>\n      <td>34.519027</td>\n      <td>82.561058</td>\n      <td>28.285671</td>\n    </tr>\n    <tr>\n      <th>3</th>\n      <td>1561368774057</td>\n      <td>76.25184</td>\n      <td>30.510840</td>\n      <td>0</td>\n      <td>5a0546857ecc773753327266</td>\n      <td>77.202679</td>\n      <td>21.519628</td>\n      <td>2</td>\n      <td>F3</td>\n      <td>5d10a1669c50c70008fe8977</td>\n      <td>8838</td>\n      <td>85.431686</td>\n      <td>29.530434</td>\n      <td>0.205813</td>\n      <td>5a0546857ecc773753327266_5d10a1669c50c70008fe8...</td>\n      <td>83.951675</td>\n      <td>33.271879</td>\n      <td>82.559157</td>\n      <td>28.282801</td>\n    </tr>\n    <tr>\n      <th>4</th>\n      <td>1561368774057</td>\n      <td>76.25184</td>\n      <td>30.510840</td>\n      <td>0</td>\n      <td>5a0546857ecc773753327266</td>\n      <td>76.991381</td>\n      <td>23.517675</td>\n      <td>2</td>\n      <td>F3</td>\n      <td>5d10a1669c50c70008fe8977</td>\n      <td>6812</td>\n      <td>80.375404</td>\n      <td>21.628296</td>\n      <td>0.211857</td>\n      <td>5a0546857ecc773753327266_5d10a1669c50c70008fe8...</td>\n      <td>83.236421</td>\n      <td>30.943162</td>\n      <td>82.553314</td>\n      <td>28.278218</td>\n    </tr>\n    <tr>\n      <th>...</th>\n      <td>...</td>\n      <td>...</td>\n      <td>...</td>\n      <td>...</td>\n      <td>...</td>\n      <td>...</td>\n      <td>...</td>\n      <td>...</td>\n      <td>...</td>\n      <td>...</td>\n      <td>...</td>\n      <td>...</td>\n      <td>...</td>\n      <td>...</td>\n      <td>...</td>\n      <td>...</td>\n      <td>...</td>\n      <td>...</td>\n      <td>...</td>\n    </tr>\n    <tr>\n      <th>258120</th>\n      <td>1574420742502</td>\n      <td>193.20488</td>\n      <td>108.001520</td>\n      <td>23</td>\n      <td>5dc8cea7659e181adb076a3f</td>\n      <td>197.825134</td>\n      <td>107.932187</td>\n      <td>-1</td>\n      <td>B1</td>\n      <td>5dd7c119c5b77e0006b16b99</td>\n      <td>4790</td>\n      <td>200.134949</td>\n      <td>104.084488</td>\n      <td>0.000000</td>\n      <td>5dc8cea7659e181adb076a3f_5dd7c119c5b77e0006b16...</td>\n      <td>202.442116</td>\n      <td>103.575552</td>\n      <td>200.213165</td>\n      <td>103.583320</td>\n    </tr>\n    <tr>\n      <th>258121</th>\n      <td>1574420742502</td>\n      <td>193.20488</td>\n      <td>108.001520</td>\n      <td>23</td>\n      <td>5dc8cea7659e181adb076a3f</td>\n      <td>194.128931</td>\n      <td>107.987653</td>\n      <td>-1</td>\n      <td>B1</td>\n      <td>5dd7c119c5b77e0006b16b99</td>\n      <td>1006</td>\n      <td>201.191772</td>\n      <td>103.937843</td>\n      <td>0.000000</td>\n      <td>5dc8cea7659e181adb076a3f_5dd7c119c5b77e0006b16...</td>\n      <td>201.897083</td>\n      <td>104.092136</td>\n      <td>200.193636</td>\n      <td>103.578458</td>\n    </tr>\n    <tr>\n      <th>258122</th>\n      <td>1574420753754</td>\n      <td>204.29349</td>\n      <td>107.835120</td>\n      <td>23</td>\n      <td>5dc8cea7659e181adb076a3f</td>\n      <td>199.673236</td>\n      <td>107.904453</td>\n      <td>-1</td>\n      <td>B1</td>\n      <td>5dd7c119c5b77e0006b16b99</td>\n      <td>-4550</td>\n      <td>200.609863</td>\n      <td>102.565239</td>\n      <td>0.000000</td>\n      <td>5dc8cea7659e181adb076a3f_5dd7c119c5b77e0006b16...</td>\n      <td>200.869846</td>\n      <td>103.683628</td>\n      <td>207.122516</td>\n      <td>104.436857</td>\n    </tr>\n    <tr>\n      <th>258123</th>\n      <td>1574420753754</td>\n      <td>204.29349</td>\n      <td>107.835120</td>\n      <td>23</td>\n      <td>5dc8cea7659e181adb076a3f</td>\n      <td>201.521337</td>\n      <td>107.876720</td>\n      <td>-1</td>\n      <td>B1</td>\n      <td>5dd7c119c5b77e0006b16b99</td>\n      <td>-2662</td>\n      <td>201.716766</td>\n      <td>104.940292</td>\n      <td>0.000000</td>\n      <td>5dc8cea7659e181adb076a3f_5dd7c119c5b77e0006b16...</td>\n      <td>200.913338</td>\n      <td>103.881966</td>\n      <td>207.110551</td>\n      <td>104.434069</td>\n    </tr>\n    <tr>\n      <th>258124</th>\n      <td>1574420753754</td>\n      <td>204.29349</td>\n      <td>107.835120</td>\n      <td>23</td>\n      <td>5dc8cea7659e181adb076a3f</td>\n      <td>203.369439</td>\n      <td>107.848987</td>\n      <td>-1</td>\n      <td>B1</td>\n      <td>5dd7c119c5b77e0006b16b99</td>\n      <td>-756</td>\n      <td>203.777359</td>\n      <td>101.891953</td>\n      <td>0.000000</td>\n      <td>5dc8cea7659e181adb076a3f_5dd7c119c5b77e0006b16...</td>\n      <td>201.823940</td>\n      <td>103.333832</td>\n      <td>207.105985</td>\n      <td>104.430587</td>\n    </tr>\n  </tbody>\n</table>\n<p>258125 rows × 19 columns</p>\n</div>"
     },
     "metadata": {},
     "execution_count": 96
    }
   ],
   "source": [
    "%%time\n",
    "\n",
    "oofs_df = oofs_df.rename(columns={'x':'target_x', 'y':'target_y', 'oof_x':'x', 'oof_y':'y'})\n",
    "processes = multiprocessing.cpu_count()\n",
    "with multiprocessing.Pool(processes=processes) as pool:\n",
    "    dfs = pool.imap_unordered(correct_path_train, oofs_df.groupby(['site_id_str', 'path', 'floor_str']))\n",
    "    dfs = tqdm(dfs)\n",
    "    dfs = list(dfs)\n",
    "\n",
    "oof_post_process = pd.concat(dfs).sort_index()\n",
    "oofs_df['oof_min_x'] = oof_post_process['x']\n",
    "oofs_df['oof_min_y'] = oof_post_process['y']\n",
    "\n",
    "# 元に戻す\n",
    "oofs_df = oofs_df.rename(columns={'x':'oof_x', 'y':'oof_y'})\n",
    "oofs_df"
   ]
  },
  {
   "cell_type": "code",
   "execution_count": 97,
   "metadata": {},
   "outputs": [
    {
     "output_type": "stream",
     "name": "stdout",
     "text": [
      "(after cost-min) CV:6.394262933312768\n"
     ]
    }
   ],
   "source": [
    "# waypoint補正前のx,yでの評価\n",
    "oof_score_post_process = mean_position_error(\n",
    "    oofs_df['oof_min_x'], oofs_df['oof_min_y'], 0, \n",
    "    oofs_df['target_x'], oofs_df['target_y'], 0\n",
    "    )\n",
    "print(f\"(after cost-min) CV:{oof_score_post_process}\")"
   ]
  },
  {
   "cell_type": "code",
   "execution_count": 98,
   "metadata": {},
   "outputs": [
    {
     "output_type": "stream",
     "name": "stdout",
     "text": [
      "(after cost-min) CV:6.551800532078807\n"
     ]
    }
   ],
   "source": [
    "# waypoint補正後のx,yでの評価\n",
    "oof_score_post_process = mean_position_error(\n",
    "    oofs_df['oof_min_x'], oofs_df['oof_min_y'], 0, \n",
    "    oofs_df['wifi_x'], oofs_df['wifi_y'], 0\n",
    "    )\n",
    "print(f\"(after cost-min) CV:{oof_score_post_process}\")"
   ]
  },
  {
   "cell_type": "code",
   "execution_count": null,
   "metadata": {},
   "outputs": [],
   "source": [
    "# x_pred = oofs_df[\"oof_min_x\"]\n",
    "# y_pred = oofs_df[\"oof_min_y\"]\n",
    "# f_pred = oofs_df[\"floor\"]  # 正解を与える\n",
    "# x_true = oofs_df[\"wifi_x\"]\n",
    "# y_true = oofs_df[\"wifi_y\"]\n",
    "# f_true = oofs_df[\"floor\"]\n",
    "# site_arr = oofs_df[\"site_id_str\"]\n",
    "# df_result_site2 = calc_metrics_site(x_pred, y_pred, f_pred, x_true, y_true, f_true, site_arr)\n",
    "# df_result_site2.style.bar(subset=['n_sample', 'score'], color=['teal'])"
   ]
  },
  {
   "cell_type": "code",
   "execution_count": null,
   "metadata": {},
   "outputs": [],
   "source": [
    "# site_eval_report(df_result_site2)"
   ]
  },
  {
   "cell_type": "code",
   "execution_count": 40,
   "metadata": {},
   "outputs": [
    {
     "output_type": "execute_result",
     "data": {
      "text/plain": [
       "                                     site_path_timestamp  floor           x  \\\n",
       "0      5a0546857ecc773753327266_046cfa46be49fc1083481...      0   90.631088   \n",
       "1      5a0546857ecc773753327266_046cfa46be49fc1083481...      0   83.405303   \n",
       "2      5a0546857ecc773753327266_046cfa46be49fc1083481...      0   85.088683   \n",
       "3      5a0546857ecc773753327266_046cfa46be49fc1083481...      0   86.025623   \n",
       "4      5a0546857ecc773753327266_046cfa46be49fc1083481...      0   85.736187   \n",
       "...                                                  ...    ...         ...   \n",
       "10128  5dc8cea7659e181adb076a3f_fd64de8c4a2fc5ebb0e9f...      5  210.482456   \n",
       "10129  5dc8cea7659e181adb076a3f_fd64de8c4a2fc5ebb0e9f...      5  208.700211   \n",
       "10130  5dc8cea7659e181adb076a3f_fd64de8c4a2fc5ebb0e9f...      5  204.696214   \n",
       "10131  5dc8cea7659e181adb076a3f_fd64de8c4a2fc5ebb0e9f...      5  198.890961   \n",
       "10132  5dc8cea7659e181adb076a3f_fd64de8c4a2fc5ebb0e9f...      5  195.387756   \n",
       "\n",
       "                y                      site                      path  \\\n",
       "0       97.769402  5a0546857ecc773753327266  046cfa46be49fc10834815c6   \n",
       "1      100.253225  5a0546857ecc773753327266  046cfa46be49fc10834815c6   \n",
       "2      104.528713  5a0546857ecc773753327266  046cfa46be49fc10834815c6   \n",
       "3      106.600136  5a0546857ecc773753327266  046cfa46be49fc10834815c6   \n",
       "4      109.594666  5a0546857ecc773753327266  046cfa46be49fc10834815c6   \n",
       "...           ...                       ...                       ...   \n",
       "10128   97.950287  5dc8cea7659e181adb076a3f  fd64de8c4a2fc5ebb0e9f412   \n",
       "10129  100.820831  5dc8cea7659e181adb076a3f  fd64de8c4a2fc5ebb0e9f412   \n",
       "10130  106.854738  5dc8cea7659e181adb076a3f  fd64de8c4a2fc5ebb0e9f412   \n",
       "10131  113.148513  5dc8cea7659e181adb076a3f  fd64de8c4a2fc5ebb0e9f412   \n",
       "10132  115.438042  5dc8cea7659e181adb076a3f  fd64de8c4a2fc5ebb0e9f412   \n",
       "\n",
       "       timestamp  \n",
       "0            9.0  \n",
       "1         9017.0  \n",
       "2        15326.0  \n",
       "3        18763.0  \n",
       "4        22328.0  \n",
       "...          ...  \n",
       "10128    82589.0  \n",
       "10129    85758.0  \n",
       "10130    90895.0  \n",
       "10131    96899.0  \n",
       "10132   100447.0  \n",
       "\n",
       "[10133 rows x 7 columns]"
      ],
      "text/html": "<div>\n<style scoped>\n    .dataframe tbody tr th:only-of-type {\n        vertical-align: middle;\n    }\n\n    .dataframe tbody tr th {\n        vertical-align: top;\n    }\n\n    .dataframe thead th {\n        text-align: right;\n    }\n</style>\n<table border=\"1\" class=\"dataframe\">\n  <thead>\n    <tr style=\"text-align: right;\">\n      <th></th>\n      <th>site_path_timestamp</th>\n      <th>floor</th>\n      <th>x</th>\n      <th>y</th>\n      <th>site</th>\n      <th>path</th>\n      <th>timestamp</th>\n    </tr>\n  </thead>\n  <tbody>\n    <tr>\n      <th>0</th>\n      <td>5a0546857ecc773753327266_046cfa46be49fc1083481...</td>\n      <td>0</td>\n      <td>90.631088</td>\n      <td>97.769402</td>\n      <td>5a0546857ecc773753327266</td>\n      <td>046cfa46be49fc10834815c6</td>\n      <td>9.0</td>\n    </tr>\n    <tr>\n      <th>1</th>\n      <td>5a0546857ecc773753327266_046cfa46be49fc1083481...</td>\n      <td>0</td>\n      <td>83.405303</td>\n      <td>100.253225</td>\n      <td>5a0546857ecc773753327266</td>\n      <td>046cfa46be49fc10834815c6</td>\n      <td>9017.0</td>\n    </tr>\n    <tr>\n      <th>2</th>\n      <td>5a0546857ecc773753327266_046cfa46be49fc1083481...</td>\n      <td>0</td>\n      <td>85.088683</td>\n      <td>104.528713</td>\n      <td>5a0546857ecc773753327266</td>\n      <td>046cfa46be49fc10834815c6</td>\n      <td>15326.0</td>\n    </tr>\n    <tr>\n      <th>3</th>\n      <td>5a0546857ecc773753327266_046cfa46be49fc1083481...</td>\n      <td>0</td>\n      <td>86.025623</td>\n      <td>106.600136</td>\n      <td>5a0546857ecc773753327266</td>\n      <td>046cfa46be49fc10834815c6</td>\n      <td>18763.0</td>\n    </tr>\n    <tr>\n      <th>4</th>\n      <td>5a0546857ecc773753327266_046cfa46be49fc1083481...</td>\n      <td>0</td>\n      <td>85.736187</td>\n      <td>109.594666</td>\n      <td>5a0546857ecc773753327266</td>\n      <td>046cfa46be49fc10834815c6</td>\n      <td>22328.0</td>\n    </tr>\n    <tr>\n      <th>...</th>\n      <td>...</td>\n      <td>...</td>\n      <td>...</td>\n      <td>...</td>\n      <td>...</td>\n      <td>...</td>\n      <td>...</td>\n    </tr>\n    <tr>\n      <th>10128</th>\n      <td>5dc8cea7659e181adb076a3f_fd64de8c4a2fc5ebb0e9f...</td>\n      <td>5</td>\n      <td>210.482456</td>\n      <td>97.950287</td>\n      <td>5dc8cea7659e181adb076a3f</td>\n      <td>fd64de8c4a2fc5ebb0e9f412</td>\n      <td>82589.0</td>\n    </tr>\n    <tr>\n      <th>10129</th>\n      <td>5dc8cea7659e181adb076a3f_fd64de8c4a2fc5ebb0e9f...</td>\n      <td>5</td>\n      <td>208.700211</td>\n      <td>100.820831</td>\n      <td>5dc8cea7659e181adb076a3f</td>\n      <td>fd64de8c4a2fc5ebb0e9f412</td>\n      <td>85758.0</td>\n    </tr>\n    <tr>\n      <th>10130</th>\n      <td>5dc8cea7659e181adb076a3f_fd64de8c4a2fc5ebb0e9f...</td>\n      <td>5</td>\n      <td>204.696214</td>\n      <td>106.854738</td>\n      <td>5dc8cea7659e181adb076a3f</td>\n      <td>fd64de8c4a2fc5ebb0e9f412</td>\n      <td>90895.0</td>\n    </tr>\n    <tr>\n      <th>10131</th>\n      <td>5dc8cea7659e181adb076a3f_fd64de8c4a2fc5ebb0e9f...</td>\n      <td>5</td>\n      <td>198.890961</td>\n      <td>113.148513</td>\n      <td>5dc8cea7659e181adb076a3f</td>\n      <td>fd64de8c4a2fc5ebb0e9f412</td>\n      <td>96899.0</td>\n    </tr>\n    <tr>\n      <th>10132</th>\n      <td>5dc8cea7659e181adb076a3f_fd64de8c4a2fc5ebb0e9f...</td>\n      <td>5</td>\n      <td>195.387756</td>\n      <td>115.438042</td>\n      <td>5dc8cea7659e181adb076a3f</td>\n      <td>fd64de8c4a2fc5ebb0e9f412</td>\n      <td>100447.0</td>\n    </tr>\n  </tbody>\n</table>\n<p>10133 rows × 7 columns</p>\n</div>"
     },
     "metadata": {},
     "execution_count": 40
    }
   ],
   "source": [
    "sub = sub.reset_index()\n",
    "sub_org = sub.copy()\n",
    "tmp = sub['site_path_timestamp'].apply(lambda s : pd.Series(s.split('_')))\n",
    "sub['site'] = tmp[0]\n",
    "sub['path'] = tmp[1]\n",
    "sub['timestamp'] = tmp[2].astype(float)\n",
    "sub"
   ]
  },
  {
   "cell_type": "code",
   "execution_count": 41,
   "metadata": {},
   "outputs": [
    {
     "output_type": "stream",
     "name": "stderr",
     "text": [
      "626it [00:33, 18.67it/s]\n"
     ]
    },
    {
     "output_type": "execute_result",
     "data": {
      "text/plain": [
       "                                     site_path_timestamp  floor           x  \\\n",
       "0      5a0546857ecc773753327266_046cfa46be49fc1083481...      0   91.762736   \n",
       "1      5a0546857ecc773753327266_046cfa46be49fc1083481...      0   81.994890   \n",
       "2      5a0546857ecc773753327266_046cfa46be49fc1083481...      0   84.082938   \n",
       "3      5a0546857ecc773753327266_046cfa46be49fc1083481...      0   85.367632   \n",
       "4      5a0546857ecc773753327266_046cfa46be49fc1083481...      0   85.848291   \n",
       "...                                                  ...    ...         ...   \n",
       "10128  5dc8cea7659e181adb076a3f_fd64de8c4a2fc5ebb0e9f...      5  209.303940   \n",
       "10129  5dc8cea7659e181adb076a3f_fd64de8c4a2fc5ebb0e9f...      5  207.393677   \n",
       "10130  5dc8cea7659e181adb076a3f_fd64de8c4a2fc5ebb0e9f...      5  203.093196   \n",
       "10131  5dc8cea7659e181adb076a3f_fd64de8c4a2fc5ebb0e9f...      5  195.211964   \n",
       "10132  5dc8cea7659e181adb076a3f_fd64de8c4a2fc5ebb0e9f...      5  191.709178   \n",
       "\n",
       "                y  \n",
       "0       94.627682  \n",
       "1       98.627906  \n",
       "2      104.023610  \n",
       "3      107.923271  \n",
       "4      111.626391  \n",
       "...           ...  \n",
       "10128   99.911381  \n",
       "10129  103.567813  \n",
       "10130  110.532478  \n",
       "10131  116.102567  \n",
       "10132  119.704324  \n",
       "\n",
       "[10133 rows x 4 columns]"
      ],
      "text/html": "<div>\n<style scoped>\n    .dataframe tbody tr th:only-of-type {\n        vertical-align: middle;\n    }\n\n    .dataframe tbody tr th {\n        vertical-align: top;\n    }\n\n    .dataframe thead th {\n        text-align: right;\n    }\n</style>\n<table border=\"1\" class=\"dataframe\">\n  <thead>\n    <tr style=\"text-align: right;\">\n      <th></th>\n      <th>site_path_timestamp</th>\n      <th>floor</th>\n      <th>x</th>\n      <th>y</th>\n    </tr>\n  </thead>\n  <tbody>\n    <tr>\n      <th>0</th>\n      <td>5a0546857ecc773753327266_046cfa46be49fc1083481...</td>\n      <td>0</td>\n      <td>91.762736</td>\n      <td>94.627682</td>\n    </tr>\n    <tr>\n      <th>1</th>\n      <td>5a0546857ecc773753327266_046cfa46be49fc1083481...</td>\n      <td>0</td>\n      <td>81.994890</td>\n      <td>98.627906</td>\n    </tr>\n    <tr>\n      <th>2</th>\n      <td>5a0546857ecc773753327266_046cfa46be49fc1083481...</td>\n      <td>0</td>\n      <td>84.082938</td>\n      <td>104.023610</td>\n    </tr>\n    <tr>\n      <th>3</th>\n      <td>5a0546857ecc773753327266_046cfa46be49fc1083481...</td>\n      <td>0</td>\n      <td>85.367632</td>\n      <td>107.923271</td>\n    </tr>\n    <tr>\n      <th>4</th>\n      <td>5a0546857ecc773753327266_046cfa46be49fc1083481...</td>\n      <td>0</td>\n      <td>85.848291</td>\n      <td>111.626391</td>\n    </tr>\n    <tr>\n      <th>...</th>\n      <td>...</td>\n      <td>...</td>\n      <td>...</td>\n      <td>...</td>\n    </tr>\n    <tr>\n      <th>10128</th>\n      <td>5dc8cea7659e181adb076a3f_fd64de8c4a2fc5ebb0e9f...</td>\n      <td>5</td>\n      <td>209.303940</td>\n      <td>99.911381</td>\n    </tr>\n    <tr>\n      <th>10129</th>\n      <td>5dc8cea7659e181adb076a3f_fd64de8c4a2fc5ebb0e9f...</td>\n      <td>5</td>\n      <td>207.393677</td>\n      <td>103.567813</td>\n    </tr>\n    <tr>\n      <th>10130</th>\n      <td>5dc8cea7659e181adb076a3f_fd64de8c4a2fc5ebb0e9f...</td>\n      <td>5</td>\n      <td>203.093196</td>\n      <td>110.532478</td>\n    </tr>\n    <tr>\n      <th>10131</th>\n      <td>5dc8cea7659e181adb076a3f_fd64de8c4a2fc5ebb0e9f...</td>\n      <td>5</td>\n      <td>195.211964</td>\n      <td>116.102567</td>\n    </tr>\n    <tr>\n      <th>10132</th>\n      <td>5dc8cea7659e181adb076a3f_fd64de8c4a2fc5ebb0e9f...</td>\n      <td>5</td>\n      <td>191.709178</td>\n      <td>119.704324</td>\n    </tr>\n  </tbody>\n</table>\n<p>10133 rows × 4 columns</p>\n</div>"
     },
     "metadata": {},
     "execution_count": 41
    }
   ],
   "source": [
    "processes = multiprocessing.cpu_count()\n",
    "with multiprocessing.Pool(processes=processes) as pool:\n",
    "    dfs = pool.imap_unordered(correct_path, sub.groupby(['path']))\n",
    "    dfs = tqdm(dfs)\n",
    "    dfs = list(dfs)\n",
    "new_sub = pd.concat(dfs).sort_values('site_path_timestamp')\n",
    "new_sub"
   ]
  },
  {
   "cell_type": "code",
   "execution_count": 42,
   "metadata": {},
   "outputs": [],
   "source": [
    "new_sub.to_csv(RUN_NAME + '_cost_sub.csv', index=False)"
   ]
  },
  {
   "source": [
    "## snap to grid"
   ],
   "cell_type": "markdown",
   "metadata": {}
  },
  {
   "cell_type": "code",
   "execution_count": 109,
   "metadata": {},
   "outputs": [],
   "source": [
    "from scipy.spatial.distance import cdist\n",
    "def sub_process(sub, train_waypoints):\n",
    "    train_waypoints['isTrainWaypoint'] = True\n",
    "    sub = split_col(sub[['site_path_timestamp','floor','x','y']]).copy()\n",
    "    sub = sub.merge(train_waypoints[['site','floorNo','floor']].drop_duplicates(), how='left')\n",
    "    sub = sub.merge(\n",
    "        train_waypoints[['x','y','site','floor','isTrainWaypoint']].drop_duplicates(),\n",
    "        how='left',\n",
    "        on=['site','x','y','floor']\n",
    "             )\n",
    "    sub['isTrainWaypoint'] = sub['isTrainWaypoint'].fillna(False)\n",
    "    return sub.copy()\n",
    "\n",
    "def split_col(df):\n",
    "    df = pd.concat([\n",
    "        df['site_path_timestamp'].str.split('_', expand=True) \\\n",
    "        .rename(columns={0:'site',\n",
    "                         1:'path',\n",
    "                         2:'timestamp'}),\n",
    "        df\n",
    "    ], axis=1).copy()\n",
    "    return df\n",
    "\n",
    "floor_map = {\"B2\":-2, \"B1\":-1, \"F1\":0, \"F2\": 1, \"F3\":2,\n",
    "             \"F4\":3, \"F5\":4, \"F6\":5, \"F7\":6,\"F8\":7,\"F9\":8,\n",
    "             \"1F\":0, \"2F\":1, \"3F\":2, \"4F\":3, \"5F\":4, \"6F\":5,\n",
    "             \"7F\":6, \"8F\": 7, \"9F\":8}\n",
    "\n",
    "def add_xy(df):\n",
    "    df['xy'] = [(x, y) for x,y in zip(df['x'], df['y'])]\n",
    "    return df\n",
    "\n",
    "def closest_point(point, points):\n",
    "    \"\"\" Find closest point from a list of points. \"\"\"\n",
    "    return points[cdist([point], points).argmin()]\n",
    "\n",
    "def snap_to_grid(sub, threshold):\n",
    "    \"\"\"\n",
    "    Snap to grid if within a threshold.\n",
    "    \n",
    "    x, y are the predicted points.\n",
    "    x_, y_ are the closest grid points.\n",
    "    _x_, _y_ are the new predictions after post processing.\n",
    "    \"\"\"\n",
    "    sub['_x_'] = sub['x']\n",
    "    sub['_y_'] = sub['y']\n",
    "    sub.loc[sub['dist'] < threshold, '_x_'] = sub.loc[sub['dist'] < threshold]['x_']\n",
    "    sub.loc[sub['dist'] < threshold, '_y_'] = sub.loc[sub['dist'] < threshold]['y_']\n",
    "    return sub.copy()\n"
   ]
  },
  {
   "cell_type": "code",
   "execution_count": 110,
   "metadata": {},
   "outputs": [
    {
     "output_type": "execute_result",
     "data": {
      "text/plain": [
       "            timestamp   target_x    target_y  site_id  \\\n",
       "0       1561368762838   78.21819   38.999737        0   \n",
       "1       1561368762838   78.21819   38.999737        0   \n",
       "2       1561368774057   76.25184   30.510840        0   \n",
       "3       1561368774057   76.25184   30.510840        0   \n",
       "4       1561368774057   76.25184   30.510840        0   \n",
       "...               ...        ...         ...      ...   \n",
       "258120  1574420742502  193.20488  108.001520       23   \n",
       "258121  1574420742502  193.20488  108.001520       23   \n",
       "258122  1574420753754  204.29349  107.835120       23   \n",
       "258123  1574420753754  204.29349  107.835120       23   \n",
       "258124  1574420753754  204.29349  107.835120       23   \n",
       "\n",
       "                     site_id_str      wifi_x      wifi_y  floor floor_str  \\\n",
       "0       5a0546857ecc773753327266   77.890465   37.584921      2        F3   \n",
       "1       5a0546857ecc773753327266   77.562740   36.170105      2        F3   \n",
       "2       5a0546857ecc773753327266   77.235015   34.755289      2        F3   \n",
       "3       5a0546857ecc773753327266   77.202679   21.519628      2        F3   \n",
       "4       5a0546857ecc773753327266   76.991381   23.517675      2        F3   \n",
       "...                          ...         ...         ...    ...       ...   \n",
       "258120  5dc8cea7659e181adb076a3f  197.825134  107.932187     -1        B1   \n",
       "258121  5dc8cea7659e181adb076a3f  194.128931  107.987653     -1        B1   \n",
       "258122  5dc8cea7659e181adb076a3f  199.673236  107.904453     -1        B1   \n",
       "258123  5dc8cea7659e181adb076a3f  201.521337  107.876720     -1        B1   \n",
       "258124  5dc8cea7659e181adb076a3f  203.369439  107.848987     -1        B1   \n",
       "\n",
       "                            path  time_diff       oof_x       oof_y  \\\n",
       "0       5d10a1669c50c70008fe8977       1969   82.653908   39.759499   \n",
       "1       5d10a1669c50c70008fe8977       3966   87.702225   33.811455   \n",
       "2       5d10a1669c50c70008fe8977      -5250   80.018883   29.986128   \n",
       "3       5d10a1669c50c70008fe8977       8838   85.431686   29.530434   \n",
       "4       5d10a1669c50c70008fe8977       6812   80.375404   21.628296   \n",
       "...                          ...        ...         ...         ...   \n",
       "258120  5dd7c119c5b77e0006b16b99       4790  200.134949  104.084488   \n",
       "258121  5dd7c119c5b77e0006b16b99       1006  201.191772  103.937843   \n",
       "258122  5dd7c119c5b77e0006b16b99      -4550  200.609863  102.565239   \n",
       "258123  5dd7c119c5b77e0006b16b99      -2662  201.716766  104.940292   \n",
       "258124  5dd7c119c5b77e0006b16b99       -756  203.777359  101.891953   \n",
       "\n",
       "        oof_floor                                site_path_timestamp  \\\n",
       "0        0.208272  5a0546857ecc773753327266_5d10a1669c50c70008fe8...   \n",
       "1        0.206890  5a0546857ecc773753327266_5d10a1669c50c70008fe8...   \n",
       "2        0.211740  5a0546857ecc773753327266_5d10a1669c50c70008fe8...   \n",
       "3        0.205813  5a0546857ecc773753327266_5d10a1669c50c70008fe8...   \n",
       "4        0.211857  5a0546857ecc773753327266_5d10a1669c50c70008fe8...   \n",
       "...           ...                                                ...   \n",
       "258120   0.000000  5dc8cea7659e181adb076a3f_5dd7c119c5b77e0006b16...   \n",
       "258121   0.000000  5dc8cea7659e181adb076a3f_5dd7c119c5b77e0006b16...   \n",
       "258122   0.000000  5dc8cea7659e181adb076a3f_5dd7c119c5b77e0006b16...   \n",
       "258123   0.000000  5dc8cea7659e181adb076a3f_5dd7c119c5b77e0006b16...   \n",
       "258124   0.000000  5dc8cea7659e181adb076a3f_5dd7c119c5b77e0006b16...   \n",
       "\n",
       "        oof_smoothing_x  oof_smoothing_y   oof_min_x   oof_min_y  \n",
       "0             83.213419        36.591538   83.213419   36.591538  \n",
       "1             83.213803        36.589365   83.214187   36.587193  \n",
       "2             82.996221        33.821467   82.561058   28.285671  \n",
       "3             82.886955        32.436801   82.559157   28.282801  \n",
       "4             82.820227        31.605084   82.553314   28.278218  \n",
       "...                 ...              ...         ...         ...  \n",
       "258120       200.239740       103.588799  200.213165  103.583320  \n",
       "258121       200.222561       103.585044  200.193636  103.578458  \n",
       "258122       201.940530       103.796533  207.122516  104.436857  \n",
       "258123       203.659967       104.008176  207.110551  104.434069  \n",
       "258124       205.383172       104.219993  207.105985  104.430587  \n",
       "\n",
       "[258125 rows x 19 columns]"
      ],
      "text/html": "<div>\n<style scoped>\n    .dataframe tbody tr th:only-of-type {\n        vertical-align: middle;\n    }\n\n    .dataframe tbody tr th {\n        vertical-align: top;\n    }\n\n    .dataframe thead th {\n        text-align: right;\n    }\n</style>\n<table border=\"1\" class=\"dataframe\">\n  <thead>\n    <tr style=\"text-align: right;\">\n      <th></th>\n      <th>timestamp</th>\n      <th>target_x</th>\n      <th>target_y</th>\n      <th>site_id</th>\n      <th>site_id_str</th>\n      <th>wifi_x</th>\n      <th>wifi_y</th>\n      <th>floor</th>\n      <th>floor_str</th>\n      <th>path</th>\n      <th>time_diff</th>\n      <th>oof_x</th>\n      <th>oof_y</th>\n      <th>oof_floor</th>\n      <th>site_path_timestamp</th>\n      <th>oof_smoothing_x</th>\n      <th>oof_smoothing_y</th>\n      <th>oof_min_x</th>\n      <th>oof_min_y</th>\n    </tr>\n  </thead>\n  <tbody>\n    <tr>\n      <th>0</th>\n      <td>1561368762838</td>\n      <td>78.21819</td>\n      <td>38.999737</td>\n      <td>0</td>\n      <td>5a0546857ecc773753327266</td>\n      <td>77.890465</td>\n      <td>37.584921</td>\n      <td>2</td>\n      <td>F3</td>\n      <td>5d10a1669c50c70008fe8977</td>\n      <td>1969</td>\n      <td>82.653908</td>\n      <td>39.759499</td>\n      <td>0.208272</td>\n      <td>5a0546857ecc773753327266_5d10a1669c50c70008fe8...</td>\n      <td>83.213419</td>\n      <td>36.591538</td>\n      <td>83.213419</td>\n      <td>36.591538</td>\n    </tr>\n    <tr>\n      <th>1</th>\n      <td>1561368762838</td>\n      <td>78.21819</td>\n      <td>38.999737</td>\n      <td>0</td>\n      <td>5a0546857ecc773753327266</td>\n      <td>77.562740</td>\n      <td>36.170105</td>\n      <td>2</td>\n      <td>F3</td>\n      <td>5d10a1669c50c70008fe8977</td>\n      <td>3966</td>\n      <td>87.702225</td>\n      <td>33.811455</td>\n      <td>0.206890</td>\n      <td>5a0546857ecc773753327266_5d10a1669c50c70008fe8...</td>\n      <td>83.213803</td>\n      <td>36.589365</td>\n      <td>83.214187</td>\n      <td>36.587193</td>\n    </tr>\n    <tr>\n      <th>2</th>\n      <td>1561368774057</td>\n      <td>76.25184</td>\n      <td>30.510840</td>\n      <td>0</td>\n      <td>5a0546857ecc773753327266</td>\n      <td>77.235015</td>\n      <td>34.755289</td>\n      <td>2</td>\n      <td>F3</td>\n      <td>5d10a1669c50c70008fe8977</td>\n      <td>-5250</td>\n      <td>80.018883</td>\n      <td>29.986128</td>\n      <td>0.211740</td>\n      <td>5a0546857ecc773753327266_5d10a1669c50c70008fe8...</td>\n      <td>82.996221</td>\n      <td>33.821467</td>\n      <td>82.561058</td>\n      <td>28.285671</td>\n    </tr>\n    <tr>\n      <th>3</th>\n      <td>1561368774057</td>\n      <td>76.25184</td>\n      <td>30.510840</td>\n      <td>0</td>\n      <td>5a0546857ecc773753327266</td>\n      <td>77.202679</td>\n      <td>21.519628</td>\n      <td>2</td>\n      <td>F3</td>\n      <td>5d10a1669c50c70008fe8977</td>\n      <td>8838</td>\n      <td>85.431686</td>\n      <td>29.530434</td>\n      <td>0.205813</td>\n      <td>5a0546857ecc773753327266_5d10a1669c50c70008fe8...</td>\n      <td>82.886955</td>\n      <td>32.436801</td>\n      <td>82.559157</td>\n      <td>28.282801</td>\n    </tr>\n    <tr>\n      <th>4</th>\n      <td>1561368774057</td>\n      <td>76.25184</td>\n      <td>30.510840</td>\n      <td>0</td>\n      <td>5a0546857ecc773753327266</td>\n      <td>76.991381</td>\n      <td>23.517675</td>\n      <td>2</td>\n      <td>F3</td>\n      <td>5d10a1669c50c70008fe8977</td>\n      <td>6812</td>\n      <td>80.375404</td>\n      <td>21.628296</td>\n      <td>0.211857</td>\n      <td>5a0546857ecc773753327266_5d10a1669c50c70008fe8...</td>\n      <td>82.820227</td>\n      <td>31.605084</td>\n      <td>82.553314</td>\n      <td>28.278218</td>\n    </tr>\n    <tr>\n      <th>...</th>\n      <td>...</td>\n      <td>...</td>\n      <td>...</td>\n      <td>...</td>\n      <td>...</td>\n      <td>...</td>\n      <td>...</td>\n      <td>...</td>\n      <td>...</td>\n      <td>...</td>\n      <td>...</td>\n      <td>...</td>\n      <td>...</td>\n      <td>...</td>\n      <td>...</td>\n      <td>...</td>\n      <td>...</td>\n      <td>...</td>\n      <td>...</td>\n    </tr>\n    <tr>\n      <th>258120</th>\n      <td>1574420742502</td>\n      <td>193.20488</td>\n      <td>108.001520</td>\n      <td>23</td>\n      <td>5dc8cea7659e181adb076a3f</td>\n      <td>197.825134</td>\n      <td>107.932187</td>\n      <td>-1</td>\n      <td>B1</td>\n      <td>5dd7c119c5b77e0006b16b99</td>\n      <td>4790</td>\n      <td>200.134949</td>\n      <td>104.084488</td>\n      <td>0.000000</td>\n      <td>5dc8cea7659e181adb076a3f_5dd7c119c5b77e0006b16...</td>\n      <td>200.239740</td>\n      <td>103.588799</td>\n      <td>200.213165</td>\n      <td>103.583320</td>\n    </tr>\n    <tr>\n      <th>258121</th>\n      <td>1574420742502</td>\n      <td>193.20488</td>\n      <td>108.001520</td>\n      <td>23</td>\n      <td>5dc8cea7659e181adb076a3f</td>\n      <td>194.128931</td>\n      <td>107.987653</td>\n      <td>-1</td>\n      <td>B1</td>\n      <td>5dd7c119c5b77e0006b16b99</td>\n      <td>1006</td>\n      <td>201.191772</td>\n      <td>103.937843</td>\n      <td>0.000000</td>\n      <td>5dc8cea7659e181adb076a3f_5dd7c119c5b77e0006b16...</td>\n      <td>200.222561</td>\n      <td>103.585044</td>\n      <td>200.193636</td>\n      <td>103.578458</td>\n    </tr>\n    <tr>\n      <th>258122</th>\n      <td>1574420753754</td>\n      <td>204.29349</td>\n      <td>107.835120</td>\n      <td>23</td>\n      <td>5dc8cea7659e181adb076a3f</td>\n      <td>199.673236</td>\n      <td>107.904453</td>\n      <td>-1</td>\n      <td>B1</td>\n      <td>5dd7c119c5b77e0006b16b99</td>\n      <td>-4550</td>\n      <td>200.609863</td>\n      <td>102.565239</td>\n      <td>0.000000</td>\n      <td>5dc8cea7659e181adb076a3f_5dd7c119c5b77e0006b16...</td>\n      <td>201.940530</td>\n      <td>103.796533</td>\n      <td>207.122516</td>\n      <td>104.436857</td>\n    </tr>\n    <tr>\n      <th>258123</th>\n      <td>1574420753754</td>\n      <td>204.29349</td>\n      <td>107.835120</td>\n      <td>23</td>\n      <td>5dc8cea7659e181adb076a3f</td>\n      <td>201.521337</td>\n      <td>107.876720</td>\n      <td>-1</td>\n      <td>B1</td>\n      <td>5dd7c119c5b77e0006b16b99</td>\n      <td>-2662</td>\n      <td>201.716766</td>\n      <td>104.940292</td>\n      <td>0.000000</td>\n      <td>5dc8cea7659e181adb076a3f_5dd7c119c5b77e0006b16...</td>\n      <td>203.659967</td>\n      <td>104.008176</td>\n      <td>207.110551</td>\n      <td>104.434069</td>\n    </tr>\n    <tr>\n      <th>258124</th>\n      <td>1574420753754</td>\n      <td>204.29349</td>\n      <td>107.835120</td>\n      <td>23</td>\n      <td>5dc8cea7659e181adb076a3f</td>\n      <td>203.369439</td>\n      <td>107.848987</td>\n      <td>-1</td>\n      <td>B1</td>\n      <td>5dd7c119c5b77e0006b16b99</td>\n      <td>-756</td>\n      <td>203.777359</td>\n      <td>101.891953</td>\n      <td>0.000000</td>\n      <td>5dc8cea7659e181adb076a3f_5dd7c119c5b77e0006b16...</td>\n      <td>205.383172</td>\n      <td>104.219993</td>\n      <td>207.105985</td>\n      <td>104.430587</td>\n    </tr>\n  </tbody>\n</table>\n<p>258125 rows × 19 columns</p>\n</div>"
     },
     "metadata": {},
     "execution_count": 110
    }
   ],
   "source": [
    "oofs_df"
   ]
  },
  {
   "cell_type": "code",
   "execution_count": 111,
   "metadata": {},
   "outputs": [
    {
     "output_type": "stream",
     "name": "stderr",
     "text": [
      "100%|██████████| 139/139 [01:38<00:00,  1.42it/s]\n"
     ]
    },
    {
     "output_type": "execute_result",
     "data": {
      "text/plain": [
       "                            site                      path      timestamp  \\\n",
       "0       5a0546857ecc773753327266  5d10a1669c50c70008fe8977  1561368762838   \n",
       "1       5a0546857ecc773753327266  5d10a1669c50c70008fe8977  1561368762838   \n",
       "2       5a0546857ecc773753327266  5d10a1669c50c70008fe8977  1561368774057   \n",
       "3       5a0546857ecc773753327266  5d10a1669c50c70008fe8977  1561368774057   \n",
       "4       5a0546857ecc773753327266  5d10a1669c50c70008fe8977  1561368774057   \n",
       "...                          ...                       ...            ...   \n",
       "258120  5dc8cea7659e181adb076a3f  5dd7c119c5b77e0006b16b99  1574420742502   \n",
       "258121  5dc8cea7659e181adb076a3f  5dd7c119c5b77e0006b16b99  1574420742502   \n",
       "258122  5dc8cea7659e181adb076a3f  5dd7c119c5b77e0006b16b99  1574420753754   \n",
       "258123  5dc8cea7659e181adb076a3f  5dd7c119c5b77e0006b16b99  1574420753754   \n",
       "258124  5dc8cea7659e181adb076a3f  5dd7c119c5b77e0006b16b99  1574420753754   \n",
       "\n",
       "                                      site_path_timestamp  floor           x  \\\n",
       "0       5a0546857ecc773753327266_5d10a1669c50c70008fe8...      2   83.213419   \n",
       "1       5a0546857ecc773753327266_5d10a1669c50c70008fe8...      2   83.214187   \n",
       "2       5a0546857ecc773753327266_5d10a1669c50c70008fe8...      2   82.561058   \n",
       "3       5a0546857ecc773753327266_5d10a1669c50c70008fe8...      2   82.559157   \n",
       "4       5a0546857ecc773753327266_5d10a1669c50c70008fe8...      2   82.553314   \n",
       "...                                                   ...    ...         ...   \n",
       "258120  5dc8cea7659e181adb076a3f_5dd7c119c5b77e0006b16...     -1  200.213165   \n",
       "258121  5dc8cea7659e181adb076a3f_5dd7c119c5b77e0006b16...     -1  200.193636   \n",
       "258122  5dc8cea7659e181adb076a3f_5dd7c119c5b77e0006b16...     -1  207.122516   \n",
       "258123  5dc8cea7659e181adb076a3f_5dd7c119c5b77e0006b16...     -1  207.110551   \n",
       "258124  5dc8cea7659e181adb076a3f_5dd7c119c5b77e0006b16...     -1  207.105985   \n",
       "\n",
       "                 y floorNo  isTrainWaypoint  \\\n",
       "0        36.591538      F3            False   \n",
       "1        36.587193      F3            False   \n",
       "2        28.285671      F3            False   \n",
       "3        28.282801      F3            False   \n",
       "4        28.278218      F3            False   \n",
       "...            ...     ...              ...   \n",
       "258120  103.583320      B1            False   \n",
       "258121  103.578458      B1            False   \n",
       "258122  104.436857      B1            False   \n",
       "258123  104.434069      B1            False   \n",
       "258124  104.430587      B1            False   \n",
       "\n",
       "                                              xy           matched_point  \\\n",
       "0        (83.21341933342275, 36.591538238831326)    (80.6814, 39.265667)   \n",
       "1         (83.21418683898865, 36.58719261419846)    (80.6814, 39.265667)   \n",
       "2        (82.56105826616975, 28.285671122364054)    (84.22669, 27.13862)   \n",
       "3        (82.55915655036699, 28.282800506112828)    (84.22669, 27.13862)   \n",
       "4        (82.55331446439827, 28.278218458930645)    (84.22669, 27.13862)   \n",
       "...                                          ...                     ...   \n",
       "258120  (200.21316525895213, 103.58332042119343)  (200.75478, 106.75563)   \n",
       "258121    (200.1936358660745, 103.5784580847704)  (200.75478, 106.75563)   \n",
       "258122  (207.12251615476129, 104.43685685123195)   (208.15857, 104.7078)   \n",
       "258123  (207.11055125609298, 104.43406890803334)   (208.15857, 104.7078)   \n",
       "258124  (207.10598523931586, 104.43058655680953)   (208.15857, 104.7078)   \n",
       "\n",
       "        oof_min_snap_x  oof_min_snap_y  \n",
       "0             80.68140       39.265667  \n",
       "1             80.68140       39.265667  \n",
       "2             84.22669       27.138620  \n",
       "3             84.22669       27.138620  \n",
       "4             84.22669       27.138620  \n",
       "...                ...             ...  \n",
       "258120       200.75478      106.755630  \n",
       "258121       200.75478      106.755630  \n",
       "258122       208.15857      104.707800  \n",
       "258123       208.15857      104.707800  \n",
       "258124       208.15857      104.707800  \n",
       "\n",
       "[258125 rows x 13 columns]"
      ],
      "text/html": "<div>\n<style scoped>\n    .dataframe tbody tr th:only-of-type {\n        vertical-align: middle;\n    }\n\n    .dataframe tbody tr th {\n        vertical-align: top;\n    }\n\n    .dataframe thead th {\n        text-align: right;\n    }\n</style>\n<table border=\"1\" class=\"dataframe\">\n  <thead>\n    <tr style=\"text-align: right;\">\n      <th></th>\n      <th>site</th>\n      <th>path</th>\n      <th>timestamp</th>\n      <th>site_path_timestamp</th>\n      <th>floor</th>\n      <th>x</th>\n      <th>y</th>\n      <th>floorNo</th>\n      <th>isTrainWaypoint</th>\n      <th>xy</th>\n      <th>matched_point</th>\n      <th>oof_min_snap_x</th>\n      <th>oof_min_snap_y</th>\n    </tr>\n  </thead>\n  <tbody>\n    <tr>\n      <th>0</th>\n      <td>5a0546857ecc773753327266</td>\n      <td>5d10a1669c50c70008fe8977</td>\n      <td>1561368762838</td>\n      <td>5a0546857ecc773753327266_5d10a1669c50c70008fe8...</td>\n      <td>2</td>\n      <td>83.213419</td>\n      <td>36.591538</td>\n      <td>F3</td>\n      <td>False</td>\n      <td>(83.21341933342275, 36.591538238831326)</td>\n      <td>(80.6814, 39.265667)</td>\n      <td>80.68140</td>\n      <td>39.265667</td>\n    </tr>\n    <tr>\n      <th>1</th>\n      <td>5a0546857ecc773753327266</td>\n      <td>5d10a1669c50c70008fe8977</td>\n      <td>1561368762838</td>\n      <td>5a0546857ecc773753327266_5d10a1669c50c70008fe8...</td>\n      <td>2</td>\n      <td>83.214187</td>\n      <td>36.587193</td>\n      <td>F3</td>\n      <td>False</td>\n      <td>(83.21418683898865, 36.58719261419846)</td>\n      <td>(80.6814, 39.265667)</td>\n      <td>80.68140</td>\n      <td>39.265667</td>\n    </tr>\n    <tr>\n      <th>2</th>\n      <td>5a0546857ecc773753327266</td>\n      <td>5d10a1669c50c70008fe8977</td>\n      <td>1561368774057</td>\n      <td>5a0546857ecc773753327266_5d10a1669c50c70008fe8...</td>\n      <td>2</td>\n      <td>82.561058</td>\n      <td>28.285671</td>\n      <td>F3</td>\n      <td>False</td>\n      <td>(82.56105826616975, 28.285671122364054)</td>\n      <td>(84.22669, 27.13862)</td>\n      <td>84.22669</td>\n      <td>27.138620</td>\n    </tr>\n    <tr>\n      <th>3</th>\n      <td>5a0546857ecc773753327266</td>\n      <td>5d10a1669c50c70008fe8977</td>\n      <td>1561368774057</td>\n      <td>5a0546857ecc773753327266_5d10a1669c50c70008fe8...</td>\n      <td>2</td>\n      <td>82.559157</td>\n      <td>28.282801</td>\n      <td>F3</td>\n      <td>False</td>\n      <td>(82.55915655036699, 28.282800506112828)</td>\n      <td>(84.22669, 27.13862)</td>\n      <td>84.22669</td>\n      <td>27.138620</td>\n    </tr>\n    <tr>\n      <th>4</th>\n      <td>5a0546857ecc773753327266</td>\n      <td>5d10a1669c50c70008fe8977</td>\n      <td>1561368774057</td>\n      <td>5a0546857ecc773753327266_5d10a1669c50c70008fe8...</td>\n      <td>2</td>\n      <td>82.553314</td>\n      <td>28.278218</td>\n      <td>F3</td>\n      <td>False</td>\n      <td>(82.55331446439827, 28.278218458930645)</td>\n      <td>(84.22669, 27.13862)</td>\n      <td>84.22669</td>\n      <td>27.138620</td>\n    </tr>\n    <tr>\n      <th>...</th>\n      <td>...</td>\n      <td>...</td>\n      <td>...</td>\n      <td>...</td>\n      <td>...</td>\n      <td>...</td>\n      <td>...</td>\n      <td>...</td>\n      <td>...</td>\n      <td>...</td>\n      <td>...</td>\n      <td>...</td>\n      <td>...</td>\n    </tr>\n    <tr>\n      <th>258120</th>\n      <td>5dc8cea7659e181adb076a3f</td>\n      <td>5dd7c119c5b77e0006b16b99</td>\n      <td>1574420742502</td>\n      <td>5dc8cea7659e181adb076a3f_5dd7c119c5b77e0006b16...</td>\n      <td>-1</td>\n      <td>200.213165</td>\n      <td>103.583320</td>\n      <td>B1</td>\n      <td>False</td>\n      <td>(200.21316525895213, 103.58332042119343)</td>\n      <td>(200.75478, 106.75563)</td>\n      <td>200.75478</td>\n      <td>106.755630</td>\n    </tr>\n    <tr>\n      <th>258121</th>\n      <td>5dc8cea7659e181adb076a3f</td>\n      <td>5dd7c119c5b77e0006b16b99</td>\n      <td>1574420742502</td>\n      <td>5dc8cea7659e181adb076a3f_5dd7c119c5b77e0006b16...</td>\n      <td>-1</td>\n      <td>200.193636</td>\n      <td>103.578458</td>\n      <td>B1</td>\n      <td>False</td>\n      <td>(200.1936358660745, 103.5784580847704)</td>\n      <td>(200.75478, 106.75563)</td>\n      <td>200.75478</td>\n      <td>106.755630</td>\n    </tr>\n    <tr>\n      <th>258122</th>\n      <td>5dc8cea7659e181adb076a3f</td>\n      <td>5dd7c119c5b77e0006b16b99</td>\n      <td>1574420753754</td>\n      <td>5dc8cea7659e181adb076a3f_5dd7c119c5b77e0006b16...</td>\n      <td>-1</td>\n      <td>207.122516</td>\n      <td>104.436857</td>\n      <td>B1</td>\n      <td>False</td>\n      <td>(207.12251615476129, 104.43685685123195)</td>\n      <td>(208.15857, 104.7078)</td>\n      <td>208.15857</td>\n      <td>104.707800</td>\n    </tr>\n    <tr>\n      <th>258123</th>\n      <td>5dc8cea7659e181adb076a3f</td>\n      <td>5dd7c119c5b77e0006b16b99</td>\n      <td>1574420753754</td>\n      <td>5dc8cea7659e181adb076a3f_5dd7c119c5b77e0006b16...</td>\n      <td>-1</td>\n      <td>207.110551</td>\n      <td>104.434069</td>\n      <td>B1</td>\n      <td>False</td>\n      <td>(207.11055125609298, 104.43406890803334)</td>\n      <td>(208.15857, 104.7078)</td>\n      <td>208.15857</td>\n      <td>104.707800</td>\n    </tr>\n    <tr>\n      <th>258124</th>\n      <td>5dc8cea7659e181adb076a3f</td>\n      <td>5dd7c119c5b77e0006b16b99</td>\n      <td>1574420753754</td>\n      <td>5dc8cea7659e181adb076a3f_5dd7c119c5b77e0006b16...</td>\n      <td>-1</td>\n      <td>207.105985</td>\n      <td>104.430587</td>\n      <td>B1</td>\n      <td>False</td>\n      <td>(207.10598523931586, 104.43058655680953)</td>\n      <td>(208.15857, 104.7078)</td>\n      <td>208.15857</td>\n      <td>104.707800</td>\n    </tr>\n  </tbody>\n</table>\n<p>258125 rows × 13 columns</p>\n</div>"
     },
     "metadata": {},
     "execution_count": 111
    }
   ],
   "source": [
    "train_waypoints = pd.read_csv('../../input/indoor-location-train-waypoints/train_waypoints.csv')\n",
    "snap_df = oofs_df[['site_path_timestamp','floor','oof_min_x','oof_min_y']].copy()\n",
    "snap_df = snap_df.rename(columns={'oof_min_x':'x', 'oof_min_y':'y'})\n",
    "# snap_df = oofs_df[['site_path_timestamp','floor','oof_x','oof_y']].copy()\n",
    "# snap_df = snap_df.rename(columns={'oof_x':'x', 'oof_y':'y'})\n",
    "snap_df = sub_process(snap_df, train_waypoints)\n",
    "snap_df = add_xy(snap_df)\n",
    "train_waypoints = add_xy(train_waypoints)\n",
    "\n",
    "ds = []\n",
    "for (site, myfloor), d in tqdm(snap_df.groupby(['site','floor'])):\n",
    "    true_floor_locs = train_waypoints.loc[(train_waypoints['floor'] == myfloor) &\n",
    "                                          (train_waypoints['site'] == site)] \\\n",
    "        .reset_index(drop=True)\n",
    "    if len(true_floor_locs) == 0:\n",
    "        print(f'Skipping {site} {myfloor}')\n",
    "        continue\n",
    "    d['matched_point'] = [closest_point(x, list(true_floor_locs['xy'])) for x in d['xy']]\n",
    "    d['oof_min_snap_x'] = d['matched_point'].apply(lambda x: x[0])\n",
    "    d['oof_min_snap_y'] = d['matched_point'].apply(lambda x: x[1])\n",
    "    ds.append(d)\n",
    "\n",
    "# 上書き\n",
    "snap_df = pd.concat(ds).sort_index()\n",
    "snap_df"
   ]
  },
  {
   "cell_type": "code",
   "execution_count": 112,
   "metadata": {},
   "outputs": [
    {
     "output_type": "execute_result",
     "data": {
      "text/plain": [
       "            timestamp   target_x    target_y  site_id  \\\n",
       "0       1561368762838   78.21819   38.999737        0   \n",
       "1       1561368762838   78.21819   38.999737        0   \n",
       "2       1561368774057   76.25184   30.510840        0   \n",
       "3       1561368774057   76.25184   30.510840        0   \n",
       "4       1561368774057   76.25184   30.510840        0   \n",
       "...               ...        ...         ...      ...   \n",
       "258120  1574420742502  193.20488  108.001520       23   \n",
       "258121  1574420742502  193.20488  108.001520       23   \n",
       "258122  1574420753754  204.29349  107.835120       23   \n",
       "258123  1574420753754  204.29349  107.835120       23   \n",
       "258124  1574420753754  204.29349  107.835120       23   \n",
       "\n",
       "                     site_id_str      wifi_x      wifi_y  floor floor_str  \\\n",
       "0       5a0546857ecc773753327266   77.890465   37.584921      2        F3   \n",
       "1       5a0546857ecc773753327266   77.562740   36.170105      2        F3   \n",
       "2       5a0546857ecc773753327266   77.235015   34.755289      2        F3   \n",
       "3       5a0546857ecc773753327266   77.202679   21.519628      2        F3   \n",
       "4       5a0546857ecc773753327266   76.991381   23.517675      2        F3   \n",
       "...                          ...         ...         ...    ...       ...   \n",
       "258120  5dc8cea7659e181adb076a3f  197.825134  107.932187     -1        B1   \n",
       "258121  5dc8cea7659e181adb076a3f  194.128931  107.987653     -1        B1   \n",
       "258122  5dc8cea7659e181adb076a3f  199.673236  107.904453     -1        B1   \n",
       "258123  5dc8cea7659e181adb076a3f  201.521337  107.876720     -1        B1   \n",
       "258124  5dc8cea7659e181adb076a3f  203.369439  107.848987     -1        B1   \n",
       "\n",
       "                            path  ...       oof_x       oof_y  oof_floor  \\\n",
       "0       5d10a1669c50c70008fe8977  ...   82.653908   39.759499   0.208272   \n",
       "1       5d10a1669c50c70008fe8977  ...   87.702225   33.811455   0.206890   \n",
       "2       5d10a1669c50c70008fe8977  ...   80.018883   29.986128   0.211740   \n",
       "3       5d10a1669c50c70008fe8977  ...   85.431686   29.530434   0.205813   \n",
       "4       5d10a1669c50c70008fe8977  ...   80.375404   21.628296   0.211857   \n",
       "...                          ...  ...         ...         ...        ...   \n",
       "258120  5dd7c119c5b77e0006b16b99  ...  200.134949  104.084488   0.000000   \n",
       "258121  5dd7c119c5b77e0006b16b99  ...  201.191772  103.937843   0.000000   \n",
       "258122  5dd7c119c5b77e0006b16b99  ...  200.609863  102.565239   0.000000   \n",
       "258123  5dd7c119c5b77e0006b16b99  ...  201.716766  104.940292   0.000000   \n",
       "258124  5dd7c119c5b77e0006b16b99  ...  203.777359  101.891953   0.000000   \n",
       "\n",
       "                                      site_path_timestamp oof_smoothing_x  \\\n",
       "0       5a0546857ecc773753327266_5d10a1669c50c70008fe8...       83.213419   \n",
       "1       5a0546857ecc773753327266_5d10a1669c50c70008fe8...       83.213803   \n",
       "2       5a0546857ecc773753327266_5d10a1669c50c70008fe8...       82.996221   \n",
       "3       5a0546857ecc773753327266_5d10a1669c50c70008fe8...       82.886955   \n",
       "4       5a0546857ecc773753327266_5d10a1669c50c70008fe8...       82.820227   \n",
       "...                                                   ...             ...   \n",
       "258120  5dc8cea7659e181adb076a3f_5dd7c119c5b77e0006b16...      200.239740   \n",
       "258121  5dc8cea7659e181adb076a3f_5dd7c119c5b77e0006b16...      200.222561   \n",
       "258122  5dc8cea7659e181adb076a3f_5dd7c119c5b77e0006b16...      201.940530   \n",
       "258123  5dc8cea7659e181adb076a3f_5dd7c119c5b77e0006b16...      203.659967   \n",
       "258124  5dc8cea7659e181adb076a3f_5dd7c119c5b77e0006b16...      205.383172   \n",
       "\n",
       "        oof_smoothing_y   oof_min_x   oof_min_y  oof_min_snap_x  \\\n",
       "0             36.591538   83.213419   36.591538        80.68140   \n",
       "1             36.589365   83.214187   36.587193        80.68140   \n",
       "2             33.821467   82.561058   28.285671        84.22669   \n",
       "3             32.436801   82.559157   28.282801        84.22669   \n",
       "4             31.605084   82.553314   28.278218        84.22669   \n",
       "...                 ...         ...         ...             ...   \n",
       "258120       103.588799  200.213165  103.583320       200.75478   \n",
       "258121       103.585044  200.193636  103.578458       200.75478   \n",
       "258122       103.796533  207.122516  104.436857       208.15857   \n",
       "258123       104.008176  207.110551  104.434069       208.15857   \n",
       "258124       104.219993  207.105985  104.430587       208.15857   \n",
       "\n",
       "        oof_min_snap_y  \n",
       "0            39.265667  \n",
       "1            39.265667  \n",
       "2            27.138620  \n",
       "3            27.138620  \n",
       "4            27.138620  \n",
       "...                ...  \n",
       "258120      106.755630  \n",
       "258121      106.755630  \n",
       "258122      104.707800  \n",
       "258123      104.707800  \n",
       "258124      104.707800  \n",
       "\n",
       "[258125 rows x 21 columns]"
      ],
      "text/html": "<div>\n<style scoped>\n    .dataframe tbody tr th:only-of-type {\n        vertical-align: middle;\n    }\n\n    .dataframe tbody tr th {\n        vertical-align: top;\n    }\n\n    .dataframe thead th {\n        text-align: right;\n    }\n</style>\n<table border=\"1\" class=\"dataframe\">\n  <thead>\n    <tr style=\"text-align: right;\">\n      <th></th>\n      <th>timestamp</th>\n      <th>target_x</th>\n      <th>target_y</th>\n      <th>site_id</th>\n      <th>site_id_str</th>\n      <th>wifi_x</th>\n      <th>wifi_y</th>\n      <th>floor</th>\n      <th>floor_str</th>\n      <th>path</th>\n      <th>...</th>\n      <th>oof_x</th>\n      <th>oof_y</th>\n      <th>oof_floor</th>\n      <th>site_path_timestamp</th>\n      <th>oof_smoothing_x</th>\n      <th>oof_smoothing_y</th>\n      <th>oof_min_x</th>\n      <th>oof_min_y</th>\n      <th>oof_min_snap_x</th>\n      <th>oof_min_snap_y</th>\n    </tr>\n  </thead>\n  <tbody>\n    <tr>\n      <th>0</th>\n      <td>1561368762838</td>\n      <td>78.21819</td>\n      <td>38.999737</td>\n      <td>0</td>\n      <td>5a0546857ecc773753327266</td>\n      <td>77.890465</td>\n      <td>37.584921</td>\n      <td>2</td>\n      <td>F3</td>\n      <td>5d10a1669c50c70008fe8977</td>\n      <td>...</td>\n      <td>82.653908</td>\n      <td>39.759499</td>\n      <td>0.208272</td>\n      <td>5a0546857ecc773753327266_5d10a1669c50c70008fe8...</td>\n      <td>83.213419</td>\n      <td>36.591538</td>\n      <td>83.213419</td>\n      <td>36.591538</td>\n      <td>80.68140</td>\n      <td>39.265667</td>\n    </tr>\n    <tr>\n      <th>1</th>\n      <td>1561368762838</td>\n      <td>78.21819</td>\n      <td>38.999737</td>\n      <td>0</td>\n      <td>5a0546857ecc773753327266</td>\n      <td>77.562740</td>\n      <td>36.170105</td>\n      <td>2</td>\n      <td>F3</td>\n      <td>5d10a1669c50c70008fe8977</td>\n      <td>...</td>\n      <td>87.702225</td>\n      <td>33.811455</td>\n      <td>0.206890</td>\n      <td>5a0546857ecc773753327266_5d10a1669c50c70008fe8...</td>\n      <td>83.213803</td>\n      <td>36.589365</td>\n      <td>83.214187</td>\n      <td>36.587193</td>\n      <td>80.68140</td>\n      <td>39.265667</td>\n    </tr>\n    <tr>\n      <th>2</th>\n      <td>1561368774057</td>\n      <td>76.25184</td>\n      <td>30.510840</td>\n      <td>0</td>\n      <td>5a0546857ecc773753327266</td>\n      <td>77.235015</td>\n      <td>34.755289</td>\n      <td>2</td>\n      <td>F3</td>\n      <td>5d10a1669c50c70008fe8977</td>\n      <td>...</td>\n      <td>80.018883</td>\n      <td>29.986128</td>\n      <td>0.211740</td>\n      <td>5a0546857ecc773753327266_5d10a1669c50c70008fe8...</td>\n      <td>82.996221</td>\n      <td>33.821467</td>\n      <td>82.561058</td>\n      <td>28.285671</td>\n      <td>84.22669</td>\n      <td>27.138620</td>\n    </tr>\n    <tr>\n      <th>3</th>\n      <td>1561368774057</td>\n      <td>76.25184</td>\n      <td>30.510840</td>\n      <td>0</td>\n      <td>5a0546857ecc773753327266</td>\n      <td>77.202679</td>\n      <td>21.519628</td>\n      <td>2</td>\n      <td>F3</td>\n      <td>5d10a1669c50c70008fe8977</td>\n      <td>...</td>\n      <td>85.431686</td>\n      <td>29.530434</td>\n      <td>0.205813</td>\n      <td>5a0546857ecc773753327266_5d10a1669c50c70008fe8...</td>\n      <td>82.886955</td>\n      <td>32.436801</td>\n      <td>82.559157</td>\n      <td>28.282801</td>\n      <td>84.22669</td>\n      <td>27.138620</td>\n    </tr>\n    <tr>\n      <th>4</th>\n      <td>1561368774057</td>\n      <td>76.25184</td>\n      <td>30.510840</td>\n      <td>0</td>\n      <td>5a0546857ecc773753327266</td>\n      <td>76.991381</td>\n      <td>23.517675</td>\n      <td>2</td>\n      <td>F3</td>\n      <td>5d10a1669c50c70008fe8977</td>\n      <td>...</td>\n      <td>80.375404</td>\n      <td>21.628296</td>\n      <td>0.211857</td>\n      <td>5a0546857ecc773753327266_5d10a1669c50c70008fe8...</td>\n      <td>82.820227</td>\n      <td>31.605084</td>\n      <td>82.553314</td>\n      <td>28.278218</td>\n      <td>84.22669</td>\n      <td>27.138620</td>\n    </tr>\n    <tr>\n      <th>...</th>\n      <td>...</td>\n      <td>...</td>\n      <td>...</td>\n      <td>...</td>\n      <td>...</td>\n      <td>...</td>\n      <td>...</td>\n      <td>...</td>\n      <td>...</td>\n      <td>...</td>\n      <td>...</td>\n      <td>...</td>\n      <td>...</td>\n      <td>...</td>\n      <td>...</td>\n      <td>...</td>\n      <td>...</td>\n      <td>...</td>\n      <td>...</td>\n      <td>...</td>\n      <td>...</td>\n    </tr>\n    <tr>\n      <th>258120</th>\n      <td>1574420742502</td>\n      <td>193.20488</td>\n      <td>108.001520</td>\n      <td>23</td>\n      <td>5dc8cea7659e181adb076a3f</td>\n      <td>197.825134</td>\n      <td>107.932187</td>\n      <td>-1</td>\n      <td>B1</td>\n      <td>5dd7c119c5b77e0006b16b99</td>\n      <td>...</td>\n      <td>200.134949</td>\n      <td>104.084488</td>\n      <td>0.000000</td>\n      <td>5dc8cea7659e181adb076a3f_5dd7c119c5b77e0006b16...</td>\n      <td>200.239740</td>\n      <td>103.588799</td>\n      <td>200.213165</td>\n      <td>103.583320</td>\n      <td>200.75478</td>\n      <td>106.755630</td>\n    </tr>\n    <tr>\n      <th>258121</th>\n      <td>1574420742502</td>\n      <td>193.20488</td>\n      <td>108.001520</td>\n      <td>23</td>\n      <td>5dc8cea7659e181adb076a3f</td>\n      <td>194.128931</td>\n      <td>107.987653</td>\n      <td>-1</td>\n      <td>B1</td>\n      <td>5dd7c119c5b77e0006b16b99</td>\n      <td>...</td>\n      <td>201.191772</td>\n      <td>103.937843</td>\n      <td>0.000000</td>\n      <td>5dc8cea7659e181adb076a3f_5dd7c119c5b77e0006b16...</td>\n      <td>200.222561</td>\n      <td>103.585044</td>\n      <td>200.193636</td>\n      <td>103.578458</td>\n      <td>200.75478</td>\n      <td>106.755630</td>\n    </tr>\n    <tr>\n      <th>258122</th>\n      <td>1574420753754</td>\n      <td>204.29349</td>\n      <td>107.835120</td>\n      <td>23</td>\n      <td>5dc8cea7659e181adb076a3f</td>\n      <td>199.673236</td>\n      <td>107.904453</td>\n      <td>-1</td>\n      <td>B1</td>\n      <td>5dd7c119c5b77e0006b16b99</td>\n      <td>...</td>\n      <td>200.609863</td>\n      <td>102.565239</td>\n      <td>0.000000</td>\n      <td>5dc8cea7659e181adb076a3f_5dd7c119c5b77e0006b16...</td>\n      <td>201.940530</td>\n      <td>103.796533</td>\n      <td>207.122516</td>\n      <td>104.436857</td>\n      <td>208.15857</td>\n      <td>104.707800</td>\n    </tr>\n    <tr>\n      <th>258123</th>\n      <td>1574420753754</td>\n      <td>204.29349</td>\n      <td>107.835120</td>\n      <td>23</td>\n      <td>5dc8cea7659e181adb076a3f</td>\n      <td>201.521337</td>\n      <td>107.876720</td>\n      <td>-1</td>\n      <td>B1</td>\n      <td>5dd7c119c5b77e0006b16b99</td>\n      <td>...</td>\n      <td>201.716766</td>\n      <td>104.940292</td>\n      <td>0.000000</td>\n      <td>5dc8cea7659e181adb076a3f_5dd7c119c5b77e0006b16...</td>\n      <td>203.659967</td>\n      <td>104.008176</td>\n      <td>207.110551</td>\n      <td>104.434069</td>\n      <td>208.15857</td>\n      <td>104.707800</td>\n    </tr>\n    <tr>\n      <th>258124</th>\n      <td>1574420753754</td>\n      <td>204.29349</td>\n      <td>107.835120</td>\n      <td>23</td>\n      <td>5dc8cea7659e181adb076a3f</td>\n      <td>203.369439</td>\n      <td>107.848987</td>\n      <td>-1</td>\n      <td>B1</td>\n      <td>5dd7c119c5b77e0006b16b99</td>\n      <td>...</td>\n      <td>203.777359</td>\n      <td>101.891953</td>\n      <td>0.000000</td>\n      <td>5dc8cea7659e181adb076a3f_5dd7c119c5b77e0006b16...</td>\n      <td>205.383172</td>\n      <td>104.219993</td>\n      <td>207.105985</td>\n      <td>104.430587</td>\n      <td>208.15857</td>\n      <td>104.707800</td>\n    </tr>\n  </tbody>\n</table>\n<p>258125 rows × 21 columns</p>\n</div>"
     },
     "metadata": {},
     "execution_count": 112
    }
   ],
   "source": [
    "oofs_df['oof_min_snap_x'] = snap_df['oof_min_snap_x']\n",
    "oofs_df['oof_min_snap_y'] = snap_df['oof_min_snap_y']\n",
    "oofs_df"
   ]
  },
  {
   "cell_type": "code",
   "execution_count": 113,
   "metadata": {},
   "outputs": [
    {
     "output_type": "stream",
     "name": "stdout",
     "text": [
      "(after cost-min + snap) CV:5.947714253316698\n"
     ]
    }
   ],
   "source": [
    "# waypoint補正前のx,yでの評価\n",
    "oof_score_post_process = mean_position_error(\n",
    "    oofs_df['oof_min_snap_x'], oofs_df['oof_min_snap_y'], 0, \n",
    "    oofs_df['target_x'], oofs_df['target_y'], 0\n",
    "    )\n",
    "print(f\"(after cost-min + snap) CV:{oof_score_post_process}\")"
   ]
  },
  {
   "cell_type": "code",
   "execution_count": 114,
   "metadata": {},
   "outputs": [
    {
     "output_type": "stream",
     "name": "stdout",
     "text": [
      "(after cost-min + snap) CV:6.487430738903342\n"
     ]
    }
   ],
   "source": [
    "# waypoint補正前のx,yでの評価\n",
    "oof_score_post_process = mean_position_error(\n",
    "    oofs_df['oof_min_snap_x'], oofs_df['oof_min_snap_y'], 0, \n",
    "    oofs_df['wifi_x'], oofs_df['wifi_y'], 0\n",
    "    )\n",
    "print(f\"(after cost-min + snap) CV:{oof_score_post_process}\")"
   ]
  },
  {
   "cell_type": "code",
   "execution_count": 120,
   "metadata": {},
   "outputs": [],
   "source": [
    "# import matplotlib.pyplot as plt\n",
    "# path = oofs_df[\"path\"].unique()[9] # \"5d10a1669c50c70008fe8977\"\n",
    "# tmp = oofs_df[oofs_df[\"path\"]==path].copy()\n",
    "# plt.plot(tmp[\"wifi_x\"], tmp[\"wifi_y\"], marker=\"o\", label=\"target\")\n",
    "# plt.plot(tmp[\"oof_x\"], tmp[\"oof_y\"], marker=\"o\", label=\"pred\")\n",
    "# window=int(len(tmp)/5)\n",
    "# plt.plot(tmp[\"oof_x\"].rolling(window,min_periods=1).mean(), tmp[\"oof_y\"].rolling(window,min_periods=1).mean(), marker=\"o\", label=\"smoothing\")\n",
    "# plt.legend()\n",
    "\n",
    "for path, df in oofs_df.groupby(\"path\"):\n",
    "    if len(df) >= 5:\n",
    "        window = int(len(df)/5)\n",
    "        oofs_df.loc[oofs_df[\"path\"]==path, \"oof_smoothing_x\"] = df[\"oof_min_snap_x\"].rolling(window, min_periods=1).mean()\n",
    "        oofs_df.loc[oofs_df[\"path\"]==path, \"oof_smoothing_y\"] = df[\"oof_min_snap_y\"].rolling(window, min_periods=1).mean()\n",
    "    else:\n",
    "        oofs_df.loc[oofs_df[\"path\"]==path, \"oof_smoothing_x\"] = df[\"oof_min_snap_x\"]\n",
    "        oofs_df.loc[oofs_df[\"path\"]==path, \"oof_smoothing_y\"] = df[\"oof_min_snap_y\"]"
   ]
  },
  {
   "cell_type": "code",
   "execution_count": 121,
   "metadata": {},
   "outputs": [
    {
     "output_type": "stream",
     "name": "stdout",
     "text": [
      "(after cost-min) CV:8.623090032902358\n"
     ]
    }
   ],
   "source": [
    "# waypoint補正後のx,yでの評価\n",
    "oof_score_post_process = mean_position_error(\n",
    "    oofs_df['oof_smoothing_x'], oofs_df['oof_smoothing_y'], 0, \n",
    "    oofs_df['wifi_x'], oofs_df['wifi_y'], 0\n",
    "    )\n",
    "print(f\"(after cost-min) CV:{oof_score_post_process}\")"
   ]
  },
  {
   "cell_type": "code",
   "execution_count": 119,
   "metadata": {},
   "outputs": [],
   "source": [
    "# x_pred = oofs_df[\"oof_min_snap_x\"]\n",
    "# y_pred = oofs_df[\"oof_min_snap_y\"]\n",
    "# f_pred = oofs_df[\"floor\"]  # 正解を与える\n",
    "# x_true = oofs_df[\"wifi_x\"]\n",
    "# y_true = oofs_df[\"wifi_y\"]\n",
    "# f_true = oofs_df[\"floor\"]\n",
    "# site_arr = oofs_df[\"site_id_str\"]\n",
    "# df_result_site3 = calc_metrics_site(x_pred, y_pred, f_pred, x_true, y_true, f_true, site_arr)\n",
    "# df_result_site3.style.bar(subset=['n_sample', 'score'], color=['teal'])"
   ]
  },
  {
   "cell_type": "code",
   "execution_count": 60,
   "metadata": {},
   "outputs": [],
   "source": [
    "# site_eval_report(df_result_site3)"
   ]
  },
  {
   "cell_type": "code",
   "execution_count": 61,
   "metadata": {},
   "outputs": [],
   "source": [
    "train_waypoints = pd.read_csv('../../input/indoor-location-train-waypoints/train_waypoints.csv')\n",
    "\n",
    "new_sub = sub_process(new_sub, train_waypoints)\n",
    "new_sub = add_xy(new_sub)\n",
    "train_waypoints = add_xy(train_waypoints)\n",
    "\n",
    "ds = []\n",
    "for (site, myfloor), d in new_sub.groupby(['site','floor']):\n",
    "    true_floor_locs = train_waypoints.loc[(train_waypoints['floor'] == myfloor) &\n",
    "                                          (train_waypoints['site'] == site)] \\\n",
    "        .reset_index(drop=True)\n",
    "    if len(true_floor_locs) == 0:\n",
    "        print(f'Skipping {site} {myfloor}')\n",
    "        continue\n",
    "    d['matched_point'] = [closest_point(x, list(true_floor_locs['xy'])) for x in d['xy']]\n",
    "    d['x_'] = d['matched_point'].apply(lambda x: x[0])\n",
    "    d['y_'] = d['matched_point'].apply(lambda x: x[1])\n",
    "    ds.append(d)\n",
    "\n",
    "new_sub2 = pd.concat(ds)"
   ]
  },
  {
   "cell_type": "code",
   "execution_count": 62,
   "metadata": {},
   "outputs": [
    {
     "output_type": "execute_result",
     "data": {
      "text/plain": [
       "                           site                      path      timestamp  \\\n",
       "17     5a0546857ecc773753327266  0c06cc9f21d172618d74c6c8  0000000000011   \n",
       "18     5a0546857ecc773753327266  0c06cc9f21d172618d74c6c8  0000000011818   \n",
       "19     5a0546857ecc773753327266  0c06cc9f21d172618d74c6c8  0000000019825   \n",
       "20     5a0546857ecc773753327266  0c06cc9f21d172618d74c6c8  0000000027199   \n",
       "21     5a0546857ecc773753327266  0c06cc9f21d172618d74c6c8  0000000033660   \n",
       "...                         ...                       ...            ...   \n",
       "10071  5dc8cea7659e181adb076a3f  ee40c6e25fe024d5da451909  0000000155023   \n",
       "10072  5dc8cea7659e181adb076a3f  ee40c6e25fe024d5da451909  0000000157351   \n",
       "10073  5dc8cea7659e181adb076a3f  ee40c6e25fe024d5da451909  0000000166855   \n",
       "10074  5dc8cea7659e181adb076a3f  ee40c6e25fe024d5da451909  0000000169672   \n",
       "10075  5dc8cea7659e181adb076a3f  ee40c6e25fe024d5da451909  0000000179634   \n",
       "\n",
       "                                     site_path_timestamp  floor           x  \\\n",
       "17     5a0546857ecc773753327266_0c06cc9f21d172618d74c...     -1  153.483471   \n",
       "18     5a0546857ecc773753327266_0c06cc9f21d172618d74c...     -1  155.544857   \n",
       "19     5a0546857ecc773753327266_0c06cc9f21d172618d74c...     -1  156.365510   \n",
       "20     5a0546857ecc773753327266_0c06cc9f21d172618d74c...     -1  158.929741   \n",
       "21     5a0546857ecc773753327266_0c06cc9f21d172618d74c...     -1  159.527962   \n",
       "...                                                  ...    ...         ...   \n",
       "10071  5dc8cea7659e181adb076a3f_ee40c6e25fe024d5da451...      6  211.603832   \n",
       "10072  5dc8cea7659e181adb076a3f_ee40c6e25fe024d5da451...      6  209.532277   \n",
       "10073  5dc8cea7659e181adb076a3f_ee40c6e25fe024d5da451...      6  209.498421   \n",
       "10074  5dc8cea7659e181adb076a3f_ee40c6e25fe024d5da451...      6  211.087975   \n",
       "10075  5dc8cea7659e181adb076a3f_ee40c6e25fe024d5da451...      6  223.245168   \n",
       "\n",
       "                y floorNo  isTrainWaypoint  \\\n",
       "17     134.430425      B1            False   \n",
       "18     145.625541      B1            False   \n",
       "19     153.704757      B1            False   \n",
       "20     163.598776      B1            False   \n",
       "21     169.268894      B1            False   \n",
       "...           ...     ...              ...   \n",
       "10071  143.408966      F7            False   \n",
       "10072  142.955118      F7            False   \n",
       "10073  134.175367      F7            False   \n",
       "10074  133.849136      F7            False   \n",
       "10075  119.759926      F7            False   \n",
       "\n",
       "                                             xy  \\\n",
       "17     (153.48347096888466, 134.43042511756568)   \n",
       "18      (155.5448569730049, 145.62554119941612)   \n",
       "19     (156.36550987148675, 153.70475705570752)   \n",
       "20     (158.92974077176208, 163.59877584984608)   \n",
       "21      (159.52796156071383, 169.2688938192997)   \n",
       "...                                         ...   \n",
       "10071   (211.6038320790461, 143.40896550816524)   \n",
       "10072  (209.53227718684434, 142.95511769770775)   \n",
       "10073   (209.4984213654377, 134.17536705133182)   \n",
       "10074   (211.0879750831036, 133.84913628395486)   \n",
       "10075  (223.24516761199268, 119.75992593107179)   \n",
       "\n",
       "                         matched_point         x_         y_  \n",
       "17              (157.16997, 136.42146)  157.16997  136.42146  \n",
       "18              (157.20146, 144.33165)  157.20146  144.33165  \n",
       "19              (156.25189, 156.12854)  156.25189  156.12854  \n",
       "20      (160.7603, 164.57616000000002)  160.76030  164.57616  \n",
       "21               (160.61377, 172.9683)  160.61377  172.96830  \n",
       "...                                ...        ...        ...  \n",
       "10071  (211.59293, 147.61826000000002)  211.59293  147.61826  \n",
       "10072           (208.14879, 146.79065)  208.14879  146.79065  \n",
       "10073           (210.18173, 137.91167)  210.18173  137.91167  \n",
       "10074           (210.18173, 137.91167)  210.18173  137.91167  \n",
       "10075           (223.13757, 116.42064)  223.13757  116.42064  \n",
       "\n",
       "[10133 rows x 13 columns]"
      ],
      "text/html": "<div>\n<style scoped>\n    .dataframe tbody tr th:only-of-type {\n        vertical-align: middle;\n    }\n\n    .dataframe tbody tr th {\n        vertical-align: top;\n    }\n\n    .dataframe thead th {\n        text-align: right;\n    }\n</style>\n<table border=\"1\" class=\"dataframe\">\n  <thead>\n    <tr style=\"text-align: right;\">\n      <th></th>\n      <th>site</th>\n      <th>path</th>\n      <th>timestamp</th>\n      <th>site_path_timestamp</th>\n      <th>floor</th>\n      <th>x</th>\n      <th>y</th>\n      <th>floorNo</th>\n      <th>isTrainWaypoint</th>\n      <th>xy</th>\n      <th>matched_point</th>\n      <th>x_</th>\n      <th>y_</th>\n    </tr>\n  </thead>\n  <tbody>\n    <tr>\n      <th>17</th>\n      <td>5a0546857ecc773753327266</td>\n      <td>0c06cc9f21d172618d74c6c8</td>\n      <td>0000000000011</td>\n      <td>5a0546857ecc773753327266_0c06cc9f21d172618d74c...</td>\n      <td>-1</td>\n      <td>153.483471</td>\n      <td>134.430425</td>\n      <td>B1</td>\n      <td>False</td>\n      <td>(153.48347096888466, 134.43042511756568)</td>\n      <td>(157.16997, 136.42146)</td>\n      <td>157.16997</td>\n      <td>136.42146</td>\n    </tr>\n    <tr>\n      <th>18</th>\n      <td>5a0546857ecc773753327266</td>\n      <td>0c06cc9f21d172618d74c6c8</td>\n      <td>0000000011818</td>\n      <td>5a0546857ecc773753327266_0c06cc9f21d172618d74c...</td>\n      <td>-1</td>\n      <td>155.544857</td>\n      <td>145.625541</td>\n      <td>B1</td>\n      <td>False</td>\n      <td>(155.5448569730049, 145.62554119941612)</td>\n      <td>(157.20146, 144.33165)</td>\n      <td>157.20146</td>\n      <td>144.33165</td>\n    </tr>\n    <tr>\n      <th>19</th>\n      <td>5a0546857ecc773753327266</td>\n      <td>0c06cc9f21d172618d74c6c8</td>\n      <td>0000000019825</td>\n      <td>5a0546857ecc773753327266_0c06cc9f21d172618d74c...</td>\n      <td>-1</td>\n      <td>156.365510</td>\n      <td>153.704757</td>\n      <td>B1</td>\n      <td>False</td>\n      <td>(156.36550987148675, 153.70475705570752)</td>\n      <td>(156.25189, 156.12854)</td>\n      <td>156.25189</td>\n      <td>156.12854</td>\n    </tr>\n    <tr>\n      <th>20</th>\n      <td>5a0546857ecc773753327266</td>\n      <td>0c06cc9f21d172618d74c6c8</td>\n      <td>0000000027199</td>\n      <td>5a0546857ecc773753327266_0c06cc9f21d172618d74c...</td>\n      <td>-1</td>\n      <td>158.929741</td>\n      <td>163.598776</td>\n      <td>B1</td>\n      <td>False</td>\n      <td>(158.92974077176208, 163.59877584984608)</td>\n      <td>(160.7603, 164.57616000000002)</td>\n      <td>160.76030</td>\n      <td>164.57616</td>\n    </tr>\n    <tr>\n      <th>21</th>\n      <td>5a0546857ecc773753327266</td>\n      <td>0c06cc9f21d172618d74c6c8</td>\n      <td>0000000033660</td>\n      <td>5a0546857ecc773753327266_0c06cc9f21d172618d74c...</td>\n      <td>-1</td>\n      <td>159.527962</td>\n      <td>169.268894</td>\n      <td>B1</td>\n      <td>False</td>\n      <td>(159.52796156071383, 169.2688938192997)</td>\n      <td>(160.61377, 172.9683)</td>\n      <td>160.61377</td>\n      <td>172.96830</td>\n    </tr>\n    <tr>\n      <th>...</th>\n      <td>...</td>\n      <td>...</td>\n      <td>...</td>\n      <td>...</td>\n      <td>...</td>\n      <td>...</td>\n      <td>...</td>\n      <td>...</td>\n      <td>...</td>\n      <td>...</td>\n      <td>...</td>\n      <td>...</td>\n      <td>...</td>\n    </tr>\n    <tr>\n      <th>10071</th>\n      <td>5dc8cea7659e181adb076a3f</td>\n      <td>ee40c6e25fe024d5da451909</td>\n      <td>0000000155023</td>\n      <td>5dc8cea7659e181adb076a3f_ee40c6e25fe024d5da451...</td>\n      <td>6</td>\n      <td>211.603832</td>\n      <td>143.408966</td>\n      <td>F7</td>\n      <td>False</td>\n      <td>(211.6038320790461, 143.40896550816524)</td>\n      <td>(211.59293, 147.61826000000002)</td>\n      <td>211.59293</td>\n      <td>147.61826</td>\n    </tr>\n    <tr>\n      <th>10072</th>\n      <td>5dc8cea7659e181adb076a3f</td>\n      <td>ee40c6e25fe024d5da451909</td>\n      <td>0000000157351</td>\n      <td>5dc8cea7659e181adb076a3f_ee40c6e25fe024d5da451...</td>\n      <td>6</td>\n      <td>209.532277</td>\n      <td>142.955118</td>\n      <td>F7</td>\n      <td>False</td>\n      <td>(209.53227718684434, 142.95511769770775)</td>\n      <td>(208.14879, 146.79065)</td>\n      <td>208.14879</td>\n      <td>146.79065</td>\n    </tr>\n    <tr>\n      <th>10073</th>\n      <td>5dc8cea7659e181adb076a3f</td>\n      <td>ee40c6e25fe024d5da451909</td>\n      <td>0000000166855</td>\n      <td>5dc8cea7659e181adb076a3f_ee40c6e25fe024d5da451...</td>\n      <td>6</td>\n      <td>209.498421</td>\n      <td>134.175367</td>\n      <td>F7</td>\n      <td>False</td>\n      <td>(209.4984213654377, 134.17536705133182)</td>\n      <td>(210.18173, 137.91167)</td>\n      <td>210.18173</td>\n      <td>137.91167</td>\n    </tr>\n    <tr>\n      <th>10074</th>\n      <td>5dc8cea7659e181adb076a3f</td>\n      <td>ee40c6e25fe024d5da451909</td>\n      <td>0000000169672</td>\n      <td>5dc8cea7659e181adb076a3f_ee40c6e25fe024d5da451...</td>\n      <td>6</td>\n      <td>211.087975</td>\n      <td>133.849136</td>\n      <td>F7</td>\n      <td>False</td>\n      <td>(211.0879750831036, 133.84913628395486)</td>\n      <td>(210.18173, 137.91167)</td>\n      <td>210.18173</td>\n      <td>137.91167</td>\n    </tr>\n    <tr>\n      <th>10075</th>\n      <td>5dc8cea7659e181adb076a3f</td>\n      <td>ee40c6e25fe024d5da451909</td>\n      <td>0000000179634</td>\n      <td>5dc8cea7659e181adb076a3f_ee40c6e25fe024d5da451...</td>\n      <td>6</td>\n      <td>223.245168</td>\n      <td>119.759926</td>\n      <td>F7</td>\n      <td>False</td>\n      <td>(223.24516761199268, 119.75992593107179)</td>\n      <td>(223.13757, 116.42064)</td>\n      <td>223.13757</td>\n      <td>116.42064</td>\n    </tr>\n  </tbody>\n</table>\n<p>10133 rows × 13 columns</p>\n</div>"
     },
     "metadata": {},
     "execution_count": 62
    }
   ],
   "source": [
    "new_sub2.rename(columns=)"
   ]
  },
  {
   "cell_type": "code",
   "execution_count": 63,
   "metadata": {},
   "outputs": [
    {
     "output_type": "execute_result",
     "data": {
      "text/plain": [
       "                                     site_path_timestamp  floor           x  \\\n",
       "0      5a0546857ecc773753327266_046cfa46be49fc1083481...      0   93.728470   \n",
       "1      5a0546857ecc773753327266_046cfa46be49fc1083481...      0   85.360190   \n",
       "2      5a0546857ecc773753327266_046cfa46be49fc1083481...      0   87.162830   \n",
       "3      5a0546857ecc773753327266_046cfa46be49fc1083481...      0   88.779945   \n",
       "4      5a0546857ecc773753327266_046cfa46be49fc1083481...      0   89.695300   \n",
       "...                                                  ...    ...         ...   \n",
       "10128  5dc8cea7659e181adb076a3f_fd64de8c4a2fc5ebb0e9f...      5  206.627910   \n",
       "10129  5dc8cea7659e181adb076a3f_fd64de8c4a2fc5ebb0e9f...      5  206.627910   \n",
       "10130  5dc8cea7659e181adb076a3f_fd64de8c4a2fc5ebb0e9f...      5  206.334900   \n",
       "10131  5dc8cea7659e181adb076a3f_fd64de8c4a2fc5ebb0e9f...      5  195.733580   \n",
       "10132  5dc8cea7659e181adb076a3f_fd64de8c4a2fc5ebb0e9f...      5  190.807530   \n",
       "\n",
       "               y  \n",
       "0       97.94886  \n",
       "1       99.07578  \n",
       "2      104.45055  \n",
       "3      108.93324  \n",
       "4      111.91780  \n",
       "...          ...  \n",
       "10128  102.63521  \n",
       "10129  102.63521  \n",
       "10130  111.25086  \n",
       "10131  120.70842  \n",
       "10132  120.22022  \n",
       "\n",
       "[10133 rows x 4 columns]"
      ],
      "text/html": "<div>\n<style scoped>\n    .dataframe tbody tr th:only-of-type {\n        vertical-align: middle;\n    }\n\n    .dataframe tbody tr th {\n        vertical-align: top;\n    }\n\n    .dataframe thead th {\n        text-align: right;\n    }\n</style>\n<table border=\"1\" class=\"dataframe\">\n  <thead>\n    <tr style=\"text-align: right;\">\n      <th></th>\n      <th>site_path_timestamp</th>\n      <th>floor</th>\n      <th>x</th>\n      <th>y</th>\n    </tr>\n  </thead>\n  <tbody>\n    <tr>\n      <th>0</th>\n      <td>5a0546857ecc773753327266_046cfa46be49fc1083481...</td>\n      <td>0</td>\n      <td>93.728470</td>\n      <td>97.94886</td>\n    </tr>\n    <tr>\n      <th>1</th>\n      <td>5a0546857ecc773753327266_046cfa46be49fc1083481...</td>\n      <td>0</td>\n      <td>85.360190</td>\n      <td>99.07578</td>\n    </tr>\n    <tr>\n      <th>2</th>\n      <td>5a0546857ecc773753327266_046cfa46be49fc1083481...</td>\n      <td>0</td>\n      <td>87.162830</td>\n      <td>104.45055</td>\n    </tr>\n    <tr>\n      <th>3</th>\n      <td>5a0546857ecc773753327266_046cfa46be49fc1083481...</td>\n      <td>0</td>\n      <td>88.779945</td>\n      <td>108.93324</td>\n    </tr>\n    <tr>\n      <th>4</th>\n      <td>5a0546857ecc773753327266_046cfa46be49fc1083481...</td>\n      <td>0</td>\n      <td>89.695300</td>\n      <td>111.91780</td>\n    </tr>\n    <tr>\n      <th>...</th>\n      <td>...</td>\n      <td>...</td>\n      <td>...</td>\n      <td>...</td>\n    </tr>\n    <tr>\n      <th>10128</th>\n      <td>5dc8cea7659e181adb076a3f_fd64de8c4a2fc5ebb0e9f...</td>\n      <td>5</td>\n      <td>206.627910</td>\n      <td>102.63521</td>\n    </tr>\n    <tr>\n      <th>10129</th>\n      <td>5dc8cea7659e181adb076a3f_fd64de8c4a2fc5ebb0e9f...</td>\n      <td>5</td>\n      <td>206.627910</td>\n      <td>102.63521</td>\n    </tr>\n    <tr>\n      <th>10130</th>\n      <td>5dc8cea7659e181adb076a3f_fd64de8c4a2fc5ebb0e9f...</td>\n      <td>5</td>\n      <td>206.334900</td>\n      <td>111.25086</td>\n    </tr>\n    <tr>\n      <th>10131</th>\n      <td>5dc8cea7659e181adb076a3f_fd64de8c4a2fc5ebb0e9f...</td>\n      <td>5</td>\n      <td>195.733580</td>\n      <td>120.70842</td>\n    </tr>\n    <tr>\n      <th>10132</th>\n      <td>5dc8cea7659e181adb076a3f_fd64de8c4a2fc5ebb0e9f...</td>\n      <td>5</td>\n      <td>190.807530</td>\n      <td>120.22022</td>\n    </tr>\n  </tbody>\n</table>\n<p>10133 rows × 4 columns</p>\n</div>"
     },
     "metadata": {},
     "execution_count": 63
    }
   ],
   "source": [
    "new_sub2 = new_sub2[['site_path_timestamp','floor','x_','y_']].sort_index()\n",
    "new_sub2 = new_sub2.rename(columns={'x_':'x', 'y_':'y'})\n",
    "new_sub2"
   ]
  },
  {
   "cell_type": "code",
   "execution_count": 64,
   "metadata": {},
   "outputs": [],
   "source": [
    "new_sub2.to_csv(RUN_NAME + '_cost_snap_sub.csv', index=False)"
   ]
  },
  {
   "cell_type": "code",
   "execution_count": null,
   "metadata": {},
   "outputs": [],
   "source": [
    "# import matplotlib.pyplot as plt\n",
    "# df_result_site1['score'].plot(label='oof')\n",
    "# df_result_site2['score'].plot(label='cost')\n",
    "# df_result_site3['score'].plot(label='cost+snap')\n",
    "# plt.legend()\n",
    "# plt.grid()\n",
    "# plt.savefig('site_result.png')"
   ]
  },
  {
   "cell_type": "code",
   "execution_count": null,
   "metadata": {},
   "outputs": [],
   "source": []
  }
 ],
 "metadata": {
  "kernelspec": {
   "display_name": "Python 3",
   "language": "python",
   "name": "python3"
  },
  "language_info": {
   "codemirror_mode": {
    "name": "ipython",
    "version": 3
   },
   "file_extension": ".py",
   "mimetype": "text/x-python",
   "name": "python",
   "nbconvert_exporter": "python",
   "pygments_lexer": "ipython3",
   "version": "3.8.5"
  }
 },
 "nbformat": 4,
 "nbformat_minor": 4
}