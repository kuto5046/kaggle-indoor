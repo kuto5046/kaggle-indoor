{
 "cells": [
  {
   "cell_type": "code",
   "execution_count": 1,
   "metadata": {},
   "outputs": [],
   "source": [
    "import os\n",
    "import sys\n",
    "import glob\n",
    "import pickle\n",
    "import random\n",
    "\n",
    "import numpy as np\n",
    "import pandas as pd\n",
    "import scipy.stats as stats\n",
    "from pathlib import Path\n",
    "\n",
    "\n",
    "sys.path.append('../../')\n",
    "import src.utils as utils\n",
    "from sklearn import model_selection\n",
    "from sklearn.preprocessing import StandardScaler, LabelEncoder\n",
    "\n",
    "import wandb\n",
    "import torch\n",
    "from torch import nn\n",
    "import torch.nn.functional as F\n",
    "from torch.utils.data import Dataset, DataLoader\n",
    "import torch.optim as optim\n",
    "\n",
    "import pytorch_lightning as pl\n",
    "from pytorch_lightning.loggers import WandbLogger\n",
    "# from pytorch_lightning.loggers import TensorBoardLogger\n",
    "from pytorch_lightning.callbacks import ModelCheckpoint\n",
    "from pytorch_lightning.callbacks import EarlyStopping"
   ]
  },
  {
   "cell_type": "markdown",
   "metadata": {},
   "source": [
    "## config"
   ]
  },
  {
   "cell_type": "code",
   "execution_count": 2,
   "metadata": {},
   "outputs": [],
   "source": [
    "# config\n",
    "config = utils.load_config('config.yaml')\n",
    "\n",
    "# globals variable\n",
    "SEED = config['globals']['seed']\n",
    "MAX_EPOCHS = config['globals']['max_epochs']\n",
    "N_SPLITS = config['globals']['n_splits']\n",
    "USE_FOLDS = config['globals']['use_folds']\n",
    "DEBUG = config['globals']['debug']\n",
    "EXP_MESSAGE = config['globals']['exp_message']\n",
    "NOTES = config['globals']['notes']\n",
    "\n",
    "EXP_NAME = str(Path().resolve()).split('/')[-1]\n",
    "\n",
    "# seed\n",
    "utils.set_seed(SEED)"
   ]
  },
  {
   "cell_type": "code",
   "execution_count": 3,
   "metadata": {},
   "outputs": [
    {
     "output_type": "execute_result",
     "data": {
      "text/plain": [
       "'exp005'"
      ]
     },
     "metadata": {},
     "execution_count": 3
    }
   ],
   "source": [
    "EXP_NAME"
   ]
  },
  {
   "cell_type": "code",
   "execution_count": 4,
   "metadata": {},
   "outputs": [
    {
     "output_type": "stream",
     "name": "stdout",
     "text": [
      "\u001b[34m\u001b[1mwandb\u001b[0m: Appending key for api.wandb.ai to your netrc file: /home/kuzira/.netrc\n"
     ]
    }
   ],
   "source": [
    "!wandb login 1bb2d0449c11d8b987e25c38b9d8dda176310fb6"
   ]
  },
  {
   "cell_type": "markdown",
   "metadata": {},
   "source": [
    "## read data"
   ]
  },
  {
   "cell_type": "code",
   "execution_count": 5,
   "metadata": {},
   "outputs": [],
   "source": [
    "# waypointを補正したdataset\n",
    "root_dir = Path('../../input/')\n",
    "with open(root_dir/'kuto_wifi_dataset_v1/train_all.pkl', 'rb') as f:\n",
    "  train_df = pickle.load( f)\n",
    "\n",
    "with open(root_dir/'kuto_wifi_dataset_v1/test_all.pkl', 'rb') as f:\n",
    "  test_df = pickle.load(f)\n",
    "\n",
    "sub = pd.read_csv(root_dir/'indoor-location-navigation/sample_submission.csv', index_col=0)"
   ]
  },
  {
   "cell_type": "code",
   "execution_count": 6,
   "metadata": {},
   "outputs": [
    {
     "output_type": "execute_result",
     "data": {
      "text/plain": [
       "(258125, 210)"
      ]
     },
     "metadata": {},
     "execution_count": 6
    }
   ],
   "source": [
    "train_df.shape"
   ]
  },
  {
   "cell_type": "code",
   "execution_count": 7,
   "metadata": {},
   "outputs": [
    {
     "output_type": "execute_result",
     "data": {
      "text/plain": [
       "(25336, 235810)"
      ]
     },
     "metadata": {},
     "execution_count": 7
    }
   ],
   "source": [
    "train_df['x'].nunique(), train_df['wifi_x'].nunique()"
   ]
  },
  {
   "cell_type": "markdown",
   "metadata": {},
   "source": [
    "BSSIDとRSSIは100ずつ存在しているけど全てが必要なわけではないみたい  \n",
    "ここでは20だけ取り出している。"
   ]
  },
  {
   "cell_type": "code",
   "execution_count": 8,
   "metadata": {},
   "outputs": [],
   "source": [
    "# training target features\n",
    "NUM_FEATS = 20\n",
    "BSSID_FEATS = [f'bssid_{i}' for i in range(NUM_FEATS)]\n",
    "RSSI_FEATS  = [f'rssi_{i}' for i in range(NUM_FEATS)]"
   ]
  },
  {
   "cell_type": "markdown",
   "metadata": {},
   "source": [
    "bssid_NはN個目のBSSIDを示しておりRSSI値が大きい順に番号が振られている。\n",
    "100個しかない\n"
   ]
  },
  {
   "cell_type": "code",
   "execution_count": 9,
   "metadata": {},
   "outputs": [
    {
     "output_type": "stream",
     "name": "stdout",
     "text": [
      "BSSID TYPES(train): 41286\nBSSID TYPES(test): 28592\nBSSID TYPES(all): 41300\n"
     ]
    }
   ],
   "source": [
    "# get numbers of bssids to embed them in a layer\n",
    "\n",
    "# train\n",
    "wifi_bssids = []\n",
    "# bssidを列ごとにリストに入れていく\n",
    "for i in range(100):\n",
    "    wifi_bssids.extend(train_df.iloc[:,i].values.tolist())\n",
    "wifi_bssids = list(set(wifi_bssids))\n",
    "\n",
    "train_wifi_bssids_size = len(wifi_bssids)\n",
    "print(f'BSSID TYPES(train): {train_wifi_bssids_size}')\n",
    "\n",
    "# test\n",
    "wifi_bssids_test = []\n",
    "for i in range(100):\n",
    "    wifi_bssids_test.extend(test_df.iloc[:,i].values.tolist())\n",
    "wifi_bssids_test = list(set(wifi_bssids_test))\n",
    "\n",
    "test_wifi_bssids_size = len(wifi_bssids_test)\n",
    "print(f'BSSID TYPES(test): {test_wifi_bssids_size}')\n",
    "\n",
    "\n",
    "wifi_bssids.extend(wifi_bssids_test)\n",
    "wifi_bssids = list(set(wifi_bssids))\n",
    "wifi_bssids_size = len(wifi_bssids)\n",
    "print(f'BSSID TYPES(all): {wifi_bssids_size}')\n"
   ]
  },
  {
   "cell_type": "markdown",
   "metadata": {},
   "source": [
    "## preprocessing"
   ]
  },
  {
   "cell_type": "code",
   "execution_count": 10,
   "metadata": {},
   "outputs": [],
   "source": [
    "# preprocess\n",
    "\n",
    "le = LabelEncoder()\n",
    "le.fit(wifi_bssids)\n",
    "le_site = LabelEncoder()\n",
    "le_site.fit(train_df['site_id'])\n",
    "\n",
    "ss = StandardScaler()\n",
    "ss.fit(train_df.loc[:,RSSI_FEATS])\n",
    "\n",
    "\n",
    "def preprocess(input_df, le=le, le_site=le_site, ss=ss):\n",
    "    output_df = input_df.copy()\n",
    "    # RSSIの正規化\n",
    "    output_df.loc[:,RSSI_FEATS] = ss.transform(input_df.loc[:,RSSI_FEATS])\n",
    "\n",
    "    # BSSIDのLE(1からふる)\n",
    "    for i in BSSID_FEATS:\n",
    "        output_df.loc[:,i] = le.transform(input_df.loc[:,i])\n",
    "        output_df.loc[:,i] = output_df.loc[:,i] + 1  # 0からではなく1から番号を振りたいため なぜ？ embeddingのpadding用のダミー変数？\n",
    "\n",
    "    # site_idのLE\n",
    "    output_df.loc[:, 'site_id'] = le_site.transform(input_df.loc[:, 'site_id'])\n",
    "\n",
    "    # なぜ２重でやる？\n",
    "    # output_df.loc[:,RSSI_FEATS] = ss.transform(output_df.loc[:,RSSI_FEATS])\n",
    "    return output_df\n",
    "\n",
    "train = preprocess(train_df)\n",
    "test = preprocess(test_df)\n",
    "\n",
    "    "
   ]
  },
  {
   "cell_type": "code",
   "execution_count": 11,
   "metadata": {},
   "outputs": [
    {
     "output_type": "execute_result",
     "data": {
      "text/plain": [
       "24"
      ]
     },
     "metadata": {},
     "execution_count": 11
    }
   ],
   "source": [
    "site_count = len(train['site_id'].unique())\n",
    "site_count"
   ]
  },
  {
   "cell_type": "code",
   "execution_count": 12,
   "metadata": {},
   "outputs": [
    {
     "output_type": "execute_result",
     "data": {
      "text/plain": [
       "        bssid_0  bssid_1  bssid_2  bssid_3  bssid_4  bssid_5  bssid_6  \\\n",
       "0         41282    24559    14858     7722    10995    35956    20298   \n",
       "1         24559    14858    32865    41282    17447    20298    10471   \n",
       "2         24559    17447    32865    10995    10471    14618    20298   \n",
       "3         24559    10995    10471    14618    15177    11619     7722   \n",
       "4         24559    10995    14618    32865    17447    15177    14858   \n",
       "...         ...      ...      ...      ...      ...      ...      ...   \n",
       "258120    24764    19267     4143    26547    40636    32274     6222   \n",
       "258121    19267    24764     4143    40636    26547    21039    32274   \n",
       "258122    24764    19267    32274    40636    26547    21039    34595   \n",
       "258123    24764    32274    40636    19267    26547     1031    28497   \n",
       "258124    24764    32274    19267    40636    26547    21039     4143   \n",
       "\n",
       "        bssid_7  bssid_8  bssid_9  ...      timestamp          x          y  \\\n",
       "0         14618    11482    19560  ...  1571625311855  68.064926  241.94000   \n",
       "1         14618    35956    34956  ...  1571625311855  68.064926  241.94000   \n",
       "2         35956    14858     7722  ...  1571625320099  62.480465  241.71216   \n",
       "3         28393    35956    14858  ...  1571625320099  62.480465  241.71216   \n",
       "4         35956     7722    28393  ...  1571625320099  62.480465  241.71216   \n",
       "...         ...      ...      ...  ...            ...        ...        ...   \n",
       "258120    21039    34595     5614  ...  1573822164854  12.662716  100.47756   \n",
       "258121    34595    28497     6222  ...  1573822164854  12.662716  100.47756   \n",
       "258122     4009     5614     9857  ...  1573822173051   7.799886  107.13921   \n",
       "258123     9857     4143    33237  ...  1573822173051   7.799886  107.13921   \n",
       "258124     1031     9857     7595  ...  1573822173051   7.799886  107.13921   \n",
       "\n",
       "        floor  floor_str                      path  time_diff     wifi_x  \\\n",
       "0           0         F1  5dad1ca1dc3e2c0006606c3f       1952  67.055846   \n",
       "1           0         F1  5dad1ca1dc3e2c0006606c3f       3900  63.620046   \n",
       "2           0         F1  5dad1ca1dc3e2c0006606c3f      -2385  60.991024   \n",
       "3           0         F1  5dad1ca1dc3e2c0006606c3f       -427  57.878099   \n",
       "4           0         F1  5dad1ca1dc3e2c0006606c3f       1528  61.960799   \n",
       "...       ...        ...                       ...        ...        ...   \n",
       "258120      1         F2  5dce9eea5516ad00065f04a7        447  12.053943   \n",
       "258121      1         F2  5dce9eea5516ad00065f04a7       2393  10.895453   \n",
       "258122      1         F2  5dce9eea5516ad00065f04a7      -3876   9.138750   \n",
       "258123      1         F2  5dce9eea5516ad00065f04a7      -1946   6.932391   \n",
       "258124      1         F2  5dce9eea5516ad00065f04a7        -17   5.511971   \n",
       "\n",
       "            wifi_y  site_id  \n",
       "0       242.235341       21  \n",
       "1       243.155369       21  \n",
       "2       243.776220       21  \n",
       "3       244.157859       21  \n",
       "4       241.710554       21  \n",
       "...            ...      ...  \n",
       "258120  100.515005        5  \n",
       "258121  101.396328        5  \n",
       "258122  103.340829        5  \n",
       "258123  105.053928        5  \n",
       "258124  106.255858        5  \n",
       "\n",
       "[258125 rows x 210 columns]"
      ],
      "text/html": "<div>\n<style scoped>\n    .dataframe tbody tr th:only-of-type {\n        vertical-align: middle;\n    }\n\n    .dataframe tbody tr th {\n        vertical-align: top;\n    }\n\n    .dataframe thead th {\n        text-align: right;\n    }\n</style>\n<table border=\"1\" class=\"dataframe\">\n  <thead>\n    <tr style=\"text-align: right;\">\n      <th></th>\n      <th>bssid_0</th>\n      <th>bssid_1</th>\n      <th>bssid_2</th>\n      <th>bssid_3</th>\n      <th>bssid_4</th>\n      <th>bssid_5</th>\n      <th>bssid_6</th>\n      <th>bssid_7</th>\n      <th>bssid_8</th>\n      <th>bssid_9</th>\n      <th>...</th>\n      <th>timestamp</th>\n      <th>x</th>\n      <th>y</th>\n      <th>floor</th>\n      <th>floor_str</th>\n      <th>path</th>\n      <th>time_diff</th>\n      <th>wifi_x</th>\n      <th>wifi_y</th>\n      <th>site_id</th>\n    </tr>\n  </thead>\n  <tbody>\n    <tr>\n      <th>0</th>\n      <td>41282</td>\n      <td>24559</td>\n      <td>14858</td>\n      <td>7722</td>\n      <td>10995</td>\n      <td>35956</td>\n      <td>20298</td>\n      <td>14618</td>\n      <td>11482</td>\n      <td>19560</td>\n      <td>...</td>\n      <td>1571625311855</td>\n      <td>68.064926</td>\n      <td>241.94000</td>\n      <td>0</td>\n      <td>F1</td>\n      <td>5dad1ca1dc3e2c0006606c3f</td>\n      <td>1952</td>\n      <td>67.055846</td>\n      <td>242.235341</td>\n      <td>21</td>\n    </tr>\n    <tr>\n      <th>1</th>\n      <td>24559</td>\n      <td>14858</td>\n      <td>32865</td>\n      <td>41282</td>\n      <td>17447</td>\n      <td>20298</td>\n      <td>10471</td>\n      <td>14618</td>\n      <td>35956</td>\n      <td>34956</td>\n      <td>...</td>\n      <td>1571625311855</td>\n      <td>68.064926</td>\n      <td>241.94000</td>\n      <td>0</td>\n      <td>F1</td>\n      <td>5dad1ca1dc3e2c0006606c3f</td>\n      <td>3900</td>\n      <td>63.620046</td>\n      <td>243.155369</td>\n      <td>21</td>\n    </tr>\n    <tr>\n      <th>2</th>\n      <td>24559</td>\n      <td>17447</td>\n      <td>32865</td>\n      <td>10995</td>\n      <td>10471</td>\n      <td>14618</td>\n      <td>20298</td>\n      <td>35956</td>\n      <td>14858</td>\n      <td>7722</td>\n      <td>...</td>\n      <td>1571625320099</td>\n      <td>62.480465</td>\n      <td>241.71216</td>\n      <td>0</td>\n      <td>F1</td>\n      <td>5dad1ca1dc3e2c0006606c3f</td>\n      <td>-2385</td>\n      <td>60.991024</td>\n      <td>243.776220</td>\n      <td>21</td>\n    </tr>\n    <tr>\n      <th>3</th>\n      <td>24559</td>\n      <td>10995</td>\n      <td>10471</td>\n      <td>14618</td>\n      <td>15177</td>\n      <td>11619</td>\n      <td>7722</td>\n      <td>28393</td>\n      <td>35956</td>\n      <td>14858</td>\n      <td>...</td>\n      <td>1571625320099</td>\n      <td>62.480465</td>\n      <td>241.71216</td>\n      <td>0</td>\n      <td>F1</td>\n      <td>5dad1ca1dc3e2c0006606c3f</td>\n      <td>-427</td>\n      <td>57.878099</td>\n      <td>244.157859</td>\n      <td>21</td>\n    </tr>\n    <tr>\n      <th>4</th>\n      <td>24559</td>\n      <td>10995</td>\n      <td>14618</td>\n      <td>32865</td>\n      <td>17447</td>\n      <td>15177</td>\n      <td>14858</td>\n      <td>35956</td>\n      <td>7722</td>\n      <td>28393</td>\n      <td>...</td>\n      <td>1571625320099</td>\n      <td>62.480465</td>\n      <td>241.71216</td>\n      <td>0</td>\n      <td>F1</td>\n      <td>5dad1ca1dc3e2c0006606c3f</td>\n      <td>1528</td>\n      <td>61.960799</td>\n      <td>241.710554</td>\n      <td>21</td>\n    </tr>\n    <tr>\n      <th>...</th>\n      <td>...</td>\n      <td>...</td>\n      <td>...</td>\n      <td>...</td>\n      <td>...</td>\n      <td>...</td>\n      <td>...</td>\n      <td>...</td>\n      <td>...</td>\n      <td>...</td>\n      <td>...</td>\n      <td>...</td>\n      <td>...</td>\n      <td>...</td>\n      <td>...</td>\n      <td>...</td>\n      <td>...</td>\n      <td>...</td>\n      <td>...</td>\n      <td>...</td>\n      <td>...</td>\n    </tr>\n    <tr>\n      <th>258120</th>\n      <td>24764</td>\n      <td>19267</td>\n      <td>4143</td>\n      <td>26547</td>\n      <td>40636</td>\n      <td>32274</td>\n      <td>6222</td>\n      <td>21039</td>\n      <td>34595</td>\n      <td>5614</td>\n      <td>...</td>\n      <td>1573822164854</td>\n      <td>12.662716</td>\n      <td>100.47756</td>\n      <td>1</td>\n      <td>F2</td>\n      <td>5dce9eea5516ad00065f04a7</td>\n      <td>447</td>\n      <td>12.053943</td>\n      <td>100.515005</td>\n      <td>5</td>\n    </tr>\n    <tr>\n      <th>258121</th>\n      <td>19267</td>\n      <td>24764</td>\n      <td>4143</td>\n      <td>40636</td>\n      <td>26547</td>\n      <td>21039</td>\n      <td>32274</td>\n      <td>34595</td>\n      <td>28497</td>\n      <td>6222</td>\n      <td>...</td>\n      <td>1573822164854</td>\n      <td>12.662716</td>\n      <td>100.47756</td>\n      <td>1</td>\n      <td>F2</td>\n      <td>5dce9eea5516ad00065f04a7</td>\n      <td>2393</td>\n      <td>10.895453</td>\n      <td>101.396328</td>\n      <td>5</td>\n    </tr>\n    <tr>\n      <th>258122</th>\n      <td>24764</td>\n      <td>19267</td>\n      <td>32274</td>\n      <td>40636</td>\n      <td>26547</td>\n      <td>21039</td>\n      <td>34595</td>\n      <td>4009</td>\n      <td>5614</td>\n      <td>9857</td>\n      <td>...</td>\n      <td>1573822173051</td>\n      <td>7.799886</td>\n      <td>107.13921</td>\n      <td>1</td>\n      <td>F2</td>\n      <td>5dce9eea5516ad00065f04a7</td>\n      <td>-3876</td>\n      <td>9.138750</td>\n      <td>103.340829</td>\n      <td>5</td>\n    </tr>\n    <tr>\n      <th>258123</th>\n      <td>24764</td>\n      <td>32274</td>\n      <td>40636</td>\n      <td>19267</td>\n      <td>26547</td>\n      <td>1031</td>\n      <td>28497</td>\n      <td>9857</td>\n      <td>4143</td>\n      <td>33237</td>\n      <td>...</td>\n      <td>1573822173051</td>\n      <td>7.799886</td>\n      <td>107.13921</td>\n      <td>1</td>\n      <td>F2</td>\n      <td>5dce9eea5516ad00065f04a7</td>\n      <td>-1946</td>\n      <td>6.932391</td>\n      <td>105.053928</td>\n      <td>5</td>\n    </tr>\n    <tr>\n      <th>258124</th>\n      <td>24764</td>\n      <td>32274</td>\n      <td>19267</td>\n      <td>40636</td>\n      <td>26547</td>\n      <td>21039</td>\n      <td>4143</td>\n      <td>1031</td>\n      <td>9857</td>\n      <td>7595</td>\n      <td>...</td>\n      <td>1573822173051</td>\n      <td>7.799886</td>\n      <td>107.13921</td>\n      <td>1</td>\n      <td>F2</td>\n      <td>5dce9eea5516ad00065f04a7</td>\n      <td>-17</td>\n      <td>5.511971</td>\n      <td>106.255858</td>\n      <td>5</td>\n    </tr>\n  </tbody>\n</table>\n<p>258125 rows × 210 columns</p>\n</div>"
     },
     "metadata": {},
     "execution_count": 12
    }
   ],
   "source": [
    "train"
   ]
  },
  {
   "cell_type": "markdown",
   "metadata": {},
   "source": [
    "## PyTorch model\n",
    "- embedding layerが重要  "
   ]
  },
  {
   "cell_type": "code",
   "execution_count": 13,
   "metadata": {},
   "outputs": [],
   "source": [
    "# dataset\n",
    "from torch.utils.data import Dataset, DataLoader\n",
    "class IndoorDataset(Dataset):\n",
    "    def __init__(self, df, phase='train'):\n",
    "        self.df = df\n",
    "        self.phase = phase\n",
    "        self.bssid_feats = df[BSSID_FEATS].values.astype(int)\n",
    "        self.rssi_feats = df[RSSI_FEATS].values.astype(np.float32)\n",
    "        self.site_id = df['site_id'].values.astype(int)\n",
    "\n",
    "        if phase in ['train', 'valid']:\n",
    "            # self.xy = df[['x', 'y']].values.astype(np.float32)\n",
    "            self.xy = df[['wifi_x', 'wifi_y']].values.astype(np.float32)  # wifiにより補正したx,yを使用\n",
    "            self.floor = df['floor'].values.astype(np.float32)\n",
    "        \n",
    "    def __len__(self):\n",
    "        return self.df.shape[0]\n",
    "\n",
    "    def __getitem__(self, idx):\n",
    "        \n",
    "        feature = {\n",
    "            'BSSID_FEATS':self.bssid_feats[idx],\n",
    "            'RSSI_FEATS':self.rssi_feats[idx],\n",
    "            'site_id':self.site_id[idx]\n",
    "        }\n",
    "        if self.phase in ['train', 'valid']:\n",
    "            target = {\n",
    "                'xy':self.xy[idx],\n",
    "                'floor':self.floor[idx]\n",
    "            }\n",
    "        else:\n",
    "            target = {}\n",
    "        return feature, target"
   ]
  },
  {
   "cell_type": "code",
   "execution_count": 14,
   "metadata": {},
   "outputs": [],
   "source": [
    "import torch\n",
    "from torch import nn\n",
    "\n",
    "class LSTMModel(nn.Module):\n",
    "    def __init__(self, wifi_bssids_size, site_count=24, embedding_dim=64):\n",
    "        super(LSTMModel, self).__init__()\n",
    "        # bssid\n",
    "        # ->64次元に圧縮後sequence化にする\n",
    "        # wifi_bssids_sizeが辞書の数を表す\n",
    "        self.embedding_layer1 = nn.Sequential(\n",
    "            nn.Embedding(wifi_bssids_size, embedding_dim),\n",
    "            nn.Flatten(start_dim=-2)            \n",
    "        )\n",
    "        # site\n",
    "        # ->2次元に圧縮後sequence化する\n",
    "        # site_countが辞書の数を表す\n",
    "        self.embedding_layer2 = nn.Sequential(\n",
    "            nn.Embedding(site_count, 2),\n",
    "            nn.Flatten(start_dim=-1)           \n",
    "        )\n",
    "\n",
    "        # rssi\n",
    "        # 次元を64倍に線形変換\n",
    "        self.linear_layer1 = nn.Sequential(\n",
    "            nn.BatchNorm1d(NUM_FEATS),\n",
    "            nn.Linear(NUM_FEATS, NUM_FEATS * embedding_dim),\n",
    "            nn.ReLU()\n",
    "        )\n",
    "        \n",
    "        # bssid, site, rssiの出力size\n",
    "        feature_size = 2 + (2 * NUM_FEATS * embedding_dim)\n",
    "        self.linear_layer2 = nn.Sequential(\n",
    "            nn.BatchNorm1d(feature_size),\n",
    "            nn.Dropout(0.3),\n",
    "            nn.Linear(feature_size, 256),\n",
    "            nn.ReLU()\n",
    "        )\n",
    "\n",
    "        self.batch_norm1 = nn.BatchNorm1d(1)\n",
    "        self.lstm1 = nn.LSTM(input_size=256,hidden_size=128,dropout=0.3, batch_first=True)\n",
    "        self.lstm2 = nn.LSTM(input_size=128,hidden_size=16,dropout=0.1, batch_first=True)\n",
    "\n",
    "        self.fc_xy = nn.Linear(16, 2)\n",
    "        # self.fc_x = nn.Linear(16, 1)\n",
    "        # self.fc_y = nn.Linear(16, 1)\n",
    "        self.fc_floor = nn.Linear(16, 1)\n",
    "\n",
    "    \n",
    "    def forward(self, x):\n",
    "        # input embedding\n",
    "        batch_size = x[\"site_id\"].shape[0]\n",
    "        x_bssid = self.embedding_layer1(x['BSSID_FEATS'])\n",
    "        x_site_id = self.embedding_layer2(x['site_id'])\n",
    "        x_rssi = self.linear_layer1(x['RSSI_FEATS'])\n",
    "        x = torch.cat([x_bssid, x_site_id, x_rssi], dim=-1)\n",
    "        x = self.linear_layer2(x)\n",
    "\n",
    "        # lstm layer\n",
    "        x = x.view(batch_size, 1, -1)  # [batch, 1]->[batch, 1, 1]\n",
    "        x = self.batch_norm1(x)\n",
    "        x, _ = self.lstm1(x)\n",
    "        x = torch.relu(x)\n",
    "        x, _ = self.lstm2(x)\n",
    "        x = torch.relu(x)\n",
    "\n",
    "        # output [batch, 1, 1] -> [batch]\n",
    "        # x_ = self.fc_x(x).view(-1)\n",
    "        # y_ = self.fc_y(x).view(-1)\n",
    "        xy = self.fc_xy(x).squeeze(1)\n",
    "        floor = torch.relu(self.fc_floor(x)).view(-1)\n",
    "        # return {\"x\":x_, \"y\":y_, \"floor\":floor} \n",
    "        return {\"xy\": xy, \"floor\": floor}"
   ]
  },
  {
   "cell_type": "code",
   "execution_count": 15,
   "metadata": {},
   "outputs": [],
   "source": [
    "def mean_position_error(xhat, yhat, fhat, x, y, f):\n",
    "    intermediate = np.sqrt(np.power(xhat-x, 2) + np.power(yhat-y, 2)) + 15 * np.abs(fhat-f)\n",
    "    return intermediate.sum()/xhat.shape[0]\n",
    "\n",
    "def to_np(input):\n",
    "    return input.detach().cpu().numpy()"
   ]
  },
  {
   "cell_type": "code",
   "execution_count": 16,
   "metadata": {},
   "outputs": [],
   "source": [
    "def get_optimizer(model: nn.Module, config: dict):\n",
    "    optimizer_config = config[\"optimizer\"]\n",
    "    optimizer_name = optimizer_config.get(\"name\")\n",
    "    base_optimizer_name = optimizer_config.get(\"base_name\")\n",
    "    optimizer_params = optimizer_config['params']\n",
    "\n",
    "    if hasattr(optim, optimizer_name):\n",
    "        optimizer = optim.__getattribute__(optimizer_name)(model.parameters(), **optimizer_params)\n",
    "        return optimizer\n",
    "    else:\n",
    "        base_optimizer = optim.__getattribute__(base_optimizer_name)\n",
    "        optimizer = globals().get(optimizer_name)(\n",
    "            model.parameters(), \n",
    "            base_optimizer,\n",
    "            **optimizer_config[\"params\"])\n",
    "        return  optimizer\n",
    "\n",
    "def get_scheduler(optimizer, config: dict):\n",
    "    scheduler_config = config[\"scheduler\"]\n",
    "    scheduler_name = scheduler_config.get(\"name\")\n",
    "\n",
    "    if scheduler_name is None:\n",
    "        return\n",
    "    else:\n",
    "        return optim.lr_scheduler.__getattribute__(scheduler_name)(\n",
    "            optimizer, **scheduler_config[\"params\"])\n",
    "\n",
    "\n",
    "def get_criterion(config: dict):\n",
    "    loss_config = config[\"loss\"]\n",
    "    loss_name = loss_config[\"name\"]\n",
    "    loss_params = {} if loss_config.get(\"params\") is None else loss_config.get(\"params\")\n",
    "    if hasattr(nn, loss_name):\n",
    "        criterion = nn.__getattribute__(loss_name)(**loss_params)\n",
    "    else:\n",
    "        criterion = globals().get(loss_name)(**loss_params)\n",
    "\n",
    "    return criterion\n",
    "\n",
    "def worker_init_fn(worker_id):                                                          \n",
    "    np.random.seed(np.random.get_state()[1][0] + worker_id)"
   ]
  },
  {
   "cell_type": "code",
   "execution_count": 17,
   "metadata": {},
   "outputs": [],
   "source": [
    "# Learner class(pytorch-lighting)\n",
    "class Learner(pl.LightningModule):\n",
    "    def __init__(self, model, config):\n",
    "        super().__init__()\n",
    "        self.model = model\n",
    "        self.config = config\n",
    "        self.xy_criterion = get_criterion(config)\n",
    "        self.f_criterion = get_criterion(config)\n",
    "    \n",
    "    def training_step(self, batch, batch_idx):\n",
    "        x, y = batch\n",
    "        output = self.model(x)\n",
    "        loss = self.xy_criterion(output[\"xy\"], y[\"xy\"])\n",
    "        return loss\n",
    "    \n",
    "    def validation_step(self, batch, batch_idx):\n",
    "        x, y = batch\n",
    "        output = self.model(x)\n",
    "        xy_loss = self.xy_criterion(output[\"xy\"], y[\"xy\"])\n",
    "        f_loss = self.f_criterion(output[\"floor\"], y[\"floor\"])\n",
    "        loss = xy_loss  # + f_loss\n",
    "        mpe = mean_position_error(\n",
    "            to_np(output['xy'][:, 0]), to_np(output['xy'][:, 1]), 0, \n",
    "            to_np(y['xy'][:, 0]), to_np(y['xy'][:, 1]), 0)\n",
    "        \n",
    "        # floor lossは現状は無視して良い\n",
    "        self.log(f'Loss/val', loss, on_step=False, on_epoch=True, prog_bar=False, logger=True)\n",
    "        self.log(f'Loss/xy', xy_loss, on_step=False, on_epoch=True, prog_bar=False, logger=True)\n",
    "        self.log(f'Loss/floor', f_loss, on_step=False, on_epoch=True, prog_bar=False, logger=True)\n",
    "        self.log(f'MPE/val', mpe, on_step=False, on_epoch=True, prog_bar=False, logger=True)\n",
    "        return loss\n",
    "\n",
    "    def configure_optimizers(self):\n",
    "        optimizer = get_optimizer(self.model, self.config)\n",
    "        scheduler = get_scheduler(optimizer, self.config)\n",
    "        return {\"optimizer\": optimizer, \"lr_scheduler\": scheduler, \"monitor\": \"Loss/val\"}"
   ]
  },
  {
   "cell_type": "code",
   "execution_count": 18,
   "metadata": {},
   "outputs": [],
   "source": [
    "# oof\n",
    "def evaluate(model, loaders, phase):\n",
    "    x_list = []\n",
    "    y_list = []\n",
    "    f_list = []\n",
    "    with torch.no_grad():\n",
    "        for batch in loaders[phase]:\n",
    "            x, y = batch\n",
    "            output = model(x)\n",
    "            x_list.append(to_np(output['xy'][:, 0]))\n",
    "            y_list.append(to_np(output['xy'][:, 1]))\n",
    "            f_list.append(to_np(output['floor']))\n",
    "\n",
    "    x_list = np.concatenate(x_list)\n",
    "    y_list = np.concatenate(y_list)\n",
    "    f_list = np.concatenate(f_list)\n",
    "    return x_list, y_list, f_list"
   ]
  },
  {
   "cell_type": "markdown",
   "metadata": {},
   "source": [
    "## train"
   ]
  },
  {
   "cell_type": "code",
   "execution_count": 19,
   "metadata": {
    "tags": []
   },
   "outputs": [
    {
     "output_type": "stream",
     "name": "stderr",
     "text": [
      "/opt/anaconda3/lib/python3.8/site-packages/torch/nn/modules/rnn.py:58: UserWarning: dropout option adds dropout after all but last recurrent layer, so non-zero dropout expects num_layers greater than 1, but got dropout=0.3 and num_layers=1\n",
      "  warnings.warn(\"dropout option adds dropout after all but last \"\n",
      "/opt/anaconda3/lib/python3.8/site-packages/torch/nn/modules/rnn.py:58: UserWarning: dropout option adds dropout after all but last recurrent layer, so non-zero dropout expects num_layers greater than 1, but got dropout=0.1 and num_layers=1\n",
      "  warnings.warn(\"dropout option adds dropout after all but last \"\n",
      "Failed to detect the name of this notebook, you can set it manually with the WANDB_NOTEBOOK_NAME environment variable to enable code saving.\n",
      "====================\n",
      "Fold 0\n",
      "====================\n",
      "\u001b[34m\u001b[1mwandb\u001b[0m: Currently logged in as: \u001b[33mkuto5046\u001b[0m (use `wandb login --relogin` to force relogin)\n",
      "\u001b[34m\u001b[1mwandb\u001b[0m: wandb version 0.10.23 is available!  To upgrade, please run:\n",
      "\u001b[34m\u001b[1mwandb\u001b[0m:  $ pip install wandb --upgrade\n"
     ]
    },
    {
     "output_type": "display_data",
     "data": {
      "text/plain": "<IPython.core.display.HTML object>",
      "text/html": "\n                Tracking run with wandb version 0.10.22<br/>\n                Syncing run <strong style=\"color:#cdcd00\">dashing-microwave-132</strong> to <a href=\"https://wandb.ai\" target=\"_blank\">Weights & Biases</a> <a href=\"https://docs.wandb.com/integrations/jupyter.html\" target=\"_blank\">(Documentation)</a>.<br/>\n                Project page: <a href=\"https://wandb.ai/kuto5046/indoor\" target=\"_blank\">https://wandb.ai/kuto5046/indoor</a><br/>\n                Run page: <a href=\"https://wandb.ai/kuto5046/indoor/runs/19i97rqq\" target=\"_blank\">https://wandb.ai/kuto5046/indoor/runs/19i97rqq</a><br/>\n                Run data is saved locally in <code>/home/kuzira/work/exp/exp005/wandb/run-20210328_194011-19i97rqq</code><br/><br/>\n            "
     },
     "metadata": {}
    },
    {
     "output_type": "stream",
     "name": "stderr",
     "text": [
      "GPU available: True, used: True\n",
      "TPU available: None, using: 0 TPU cores\n",
      "Using native 16bit precision.\n",
      "\n",
      "  | Name         | Type      | Params\n",
      "-------------------------------------------\n",
      "0 | model        | LSTMModel | 3.5 M \n",
      "1 | xy_criterion | MSELoss   | 0     \n",
      "2 | f_criterion  | MSELoss   | 0     \n",
      "-------------------------------------------\n",
      "3.5 M     Trainable params\n",
      "0         Non-trainable params\n",
      "3.5 M     Total params\n",
      "14.154    Total estimated model params size (MB)\n",
      "fold 0: mean position error 8.79930635695913\n"
     ]
    },
    {
     "output_type": "display_data",
     "data": {
      "text/plain": "<IPython.core.display.HTML object>",
      "text/html": "<br/>Waiting for W&B process to finish, PID 2763440<br/>Program ended successfully."
     },
     "metadata": {}
    },
    {
     "output_type": "display_data",
     "data": {
      "text/plain": "VBox(children=(Label(value=' 0.00MB of 0.00MB uploaded (0.00MB deduped)\\r'), FloatProgress(value=1.0, max=1.0)…",
      "application/vnd.jupyter.widget-view+json": {
       "version_major": 2,
       "version_minor": 0,
       "model_id": "0efe2fe26b4d41a68d032ec75d25703c"
      }
     },
     "metadata": {}
    },
    {
     "output_type": "display_data",
     "data": {
      "text/plain": "<IPython.core.display.HTML object>",
      "text/html": "Find user logs for this run at: <code>/home/kuzira/work/exp/exp005/wandb/run-20210328_194011-19i97rqq/logs/debug.log</code>"
     },
     "metadata": {}
    },
    {
     "output_type": "display_data",
     "data": {
      "text/plain": "<IPython.core.display.HTML object>",
      "text/html": "Find internal logs for this run at: <code>/home/kuzira/work/exp/exp005/wandb/run-20210328_194011-19i97rqq/logs/debug-internal.log</code>"
     },
     "metadata": {}
    },
    {
     "output_type": "display_data",
     "data": {
      "text/plain": "<IPython.core.display.HTML object>",
      "text/html": "<h3>Run summary:</h3><br/><style>\n    table.wandb td:nth-child(1) { padding: 0 10px; text-align: right }\n    </style><table class=\"wandb\">\n<tr><td>Loss/val</td><td>65.30006</td></tr><tr><td>Loss/xy</td><td>65.30006</td></tr><tr><td>Loss/floor</td><td>4.43819</td></tr><tr><td>MPE/val</td><td>8.79928</td></tr><tr><td>epoch</td><td>158</td></tr><tr><td>trainer/global_step</td><td>64235</td></tr><tr><td>_runtime</td><td>676</td></tr><tr><td>_timestamp</td><td>1616928687</td></tr><tr><td>_step</td><td>158</td></tr></table>"
     },
     "metadata": {}
    },
    {
     "output_type": "display_data",
     "data": {
      "text/plain": "<IPython.core.display.HTML object>",
      "text/html": "<h3>Run history:</h3><br/><style>\n    table.wandb td:nth-child(1) { padding: 0 10px; text-align: right }\n    </style><table class=\"wandb\">\n<tr><td>Loss/val</td><td>█▇▆▆▅▅▄▄▃▃▃▂▂▂▂▂▁▁▁▁▁▁▁▁▁▁▁▁▁▁▁▁▁▁▁▁▁▁▁▁</td></tr><tr><td>Loss/xy</td><td>█▇▆▆▅▅▄▄▃▃▃▂▂▂▂▂▁▁▁▁▁▁▁▁▁▁▁▁▁▁▁▁▁▁▁▁▁▁▁▁</td></tr><tr><td>Loss/floor</td><td>███████▇▅▁▂▃▃▄▅▅▅▆▆▆▆▆▇▇▇▇▇█████████████</td></tr><tr><td>MPE/val</td><td>█▇▇▆▆▆▅▅▅▄▄▃▃▃▃▂▂▂▂▂▁▁▁▁▁▁▁▁▁▁▁▁▁▁▁▁▁▁▁▁</td></tr><tr><td>epoch</td><td>▁▁▁▂▂▂▂▂▂▃▃▃▃▃▄▄▄▄▄▄▅▅▅▅▅▅▆▆▆▆▆▇▇▇▇▇▇███</td></tr><tr><td>trainer/global_step</td><td>▁▁▁▂▂▂▂▂▂▃▃▃▃▃▄▄▄▄▄▄▅▅▅▅▅▅▆▆▆▆▆▇▇▇▇▇▇███</td></tr><tr><td>_runtime</td><td>▁▁▁▂▂▂▂▂▂▃▃▃▃▃▃▄▄▄▄▄▅▅▅▅▅▆▆▆▆▆▆▇▇▇▇▇▇███</td></tr><tr><td>_timestamp</td><td>▁▁▁▂▂▂▂▂▂▃▃▃▃▃▃▄▄▄▄▄▅▅▅▅▅▆▆▆▆▆▆▇▇▇▇▇▇███</td></tr><tr><td>_step</td><td>▁▁▁▂▂▂▂▂▂▃▃▃▃▃▄▄▄▄▄▄▅▅▅▅▅▅▆▆▆▆▆▇▇▇▇▇▇███</td></tr></table><br/>"
     },
     "metadata": {}
    },
    {
     "output_type": "display_data",
     "data": {
      "text/plain": "<IPython.core.display.HTML object>",
      "text/html": "Synced 5 W&B file(s), 1 media file(s), 0 artifact file(s) and 0 other file(s)"
     },
     "metadata": {}
    },
    {
     "output_type": "display_data",
     "data": {
      "text/plain": "<IPython.core.display.HTML object>",
      "text/html": "\n                    <br/>Synced <strong style=\"color:#cdcd00\">dashing-microwave-132</strong>: <a href=\"https://wandb.ai/kuto5046/indoor/runs/19i97rqq\" target=\"_blank\">https://wandb.ai/kuto5046/indoor/runs/19i97rqq</a><br/>\n                "
     },
     "metadata": {}
    },
    {
     "output_type": "stream",
     "name": "stdout",
     "text": [
      "====================\n",
      "Fold 1\n",
      "====================\n",
      "\u001b[34m\u001b[1mwandb\u001b[0m: wandb version 0.10.23 is available!  To upgrade, please run:\n",
      "\u001b[34m\u001b[1mwandb\u001b[0m:  $ pip install wandb --upgrade\n"
     ]
    },
    {
     "output_type": "display_data",
     "data": {
      "text/plain": "<IPython.core.display.HTML object>",
      "text/html": "\n                Tracking run with wandb version 0.10.22<br/>\n                Syncing run <strong style=\"color:#cdcd00\">trim-firebrand-133</strong> to <a href=\"https://wandb.ai\" target=\"_blank\">Weights & Biases</a> <a href=\"https://docs.wandb.com/integrations/jupyter.html\" target=\"_blank\">(Documentation)</a>.<br/>\n                Project page: <a href=\"https://wandb.ai/kuto5046/indoor\" target=\"_blank\">https://wandb.ai/kuto5046/indoor</a><br/>\n                Run page: <a href=\"https://wandb.ai/kuto5046/indoor/runs/3mh5syie\" target=\"_blank\">https://wandb.ai/kuto5046/indoor/runs/3mh5syie</a><br/>\n                Run data is saved locally in <code>/home/kuzira/work/exp/exp005/wandb/run-20210328_195132-3mh5syie</code><br/><br/>\n            "
     },
     "metadata": {}
    },
    {
     "output_type": "stream",
     "name": "stderr",
     "text": [
      "GPU available: True, used: True\n",
      "TPU available: None, using: 0 TPU cores\n",
      "Using native 16bit precision.\n",
      "\n",
      "  | Name         | Type      | Params\n",
      "-------------------------------------------\n",
      "0 | model        | LSTMModel | 3.5 M \n",
      "1 | xy_criterion | MSELoss   | 0     \n",
      "2 | f_criterion  | MSELoss   | 0     \n",
      "-------------------------------------------\n",
      "3.5 M     Trainable params\n",
      "0         Non-trainable params\n",
      "3.5 M     Total params\n",
      "14.154    Total estimated model params size (MB)\n",
      "fold 1: mean position error 8.352314405045234\n"
     ]
    },
    {
     "output_type": "display_data",
     "data": {
      "text/plain": "<IPython.core.display.HTML object>",
      "text/html": "<br/>Waiting for W&B process to finish, PID 2774628<br/>Program ended successfully."
     },
     "metadata": {}
    },
    {
     "output_type": "display_data",
     "data": {
      "text/plain": "VBox(children=(Label(value=' 0.00MB of 0.00MB uploaded (0.00MB deduped)\\r'), FloatProgress(value=1.0, max=1.0)…",
      "application/vnd.jupyter.widget-view+json": {
       "version_major": 2,
       "version_minor": 0,
       "model_id": "c0dcfc6d5dd6493ba1418cf8d360e723"
      }
     },
     "metadata": {}
    },
    {
     "output_type": "display_data",
     "data": {
      "text/plain": "<IPython.core.display.HTML object>",
      "text/html": "Find user logs for this run at: <code>/home/kuzira/work/exp/exp005/wandb/run-20210328_195132-3mh5syie/logs/debug.log</code>"
     },
     "metadata": {}
    },
    {
     "output_type": "display_data",
     "data": {
      "text/plain": "<IPython.core.display.HTML object>",
      "text/html": "Find internal logs for this run at: <code>/home/kuzira/work/exp/exp005/wandb/run-20210328_195132-3mh5syie/logs/debug-internal.log</code>"
     },
     "metadata": {}
    },
    {
     "output_type": "display_data",
     "data": {
      "text/plain": "<IPython.core.display.HTML object>",
      "text/html": "<h3>Run summary:</h3><br/><style>\n    table.wandb td:nth-child(1) { padding: 0 10px; text-align: right }\n    </style><table class=\"wandb\">\n<tr><td>Loss/val</td><td>56.56236</td></tr><tr><td>Loss/xy</td><td>56.56236</td></tr><tr><td>Loss/floor</td><td>5.24924</td></tr><tr><td>MPE/val</td><td>8.35267</td></tr><tr><td>epoch</td><td>184</td></tr><tr><td>trainer/global_step</td><td>74739</td></tr><tr><td>_runtime</td><td>798</td></tr><tr><td>_timestamp</td><td>1616929490</td></tr><tr><td>_step</td><td>184</td></tr></table>"
     },
     "metadata": {}
    },
    {
     "output_type": "display_data",
     "data": {
      "text/plain": "<IPython.core.display.HTML object>",
      "text/html": "<h3>Run history:</h3><br/><style>\n    table.wandb td:nth-child(1) { padding: 0 10px; text-align: right }\n    </style><table class=\"wandb\">\n<tr><td>Loss/val</td><td>█▇▆▅▄▄▃▃▃▃▃▃▂▂▂▁▁▁▁▁▁▁▁▁▁▁▁▁▁▁▁▁▁▁▁▁▁▁▁▁</td></tr><tr><td>Loss/xy</td><td>█▇▆▅▄▄▃▃▃▃▃▃▂▂▂▁▁▁▁▁▁▁▁▁▁▁▁▁▁▁▁▁▁▁▁▁▁▁▁▁</td></tr><tr><td>Loss/floor</td><td>▁▁▁▁▁▁▁▁▁▁▁▅▇▇▅▅▅▆▇▇████████████████████</td></tr><tr><td>MPE/val</td><td>█▇▇▆▅▅▅▄▄▄▄▄▃▃▂▂▂▂▁▁▁▁▁▁▁▁▁▁▁▁▁▁▁▁▁▁▁▁▁▁</td></tr><tr><td>epoch</td><td>▁▁▁▂▂▂▂▂▂▃▃▃▃▃▃▄▄▄▄▄▅▅▅▅▅▅▆▆▆▆▆▇▇▇▇▇▇███</td></tr><tr><td>trainer/global_step</td><td>▁▁▁▂▂▂▂▂▂▃▃▃▃▃▃▄▄▄▄▄▅▅▅▅▅▅▆▆▆▆▆▇▇▇▇▇▇███</td></tr><tr><td>_runtime</td><td>▁▁▁▂▂▂▂▂▂▃▃▃▃▃▃▄▄▄▄▄▄▅▅▅▅▅▆▆▆▆▆▇▇▇▇▇▇███</td></tr><tr><td>_timestamp</td><td>▁▁▁▂▂▂▂▂▂▃▃▃▃▃▃▄▄▄▄▄▄▅▅▅▅▅▆▆▆▆▆▇▇▇▇▇▇███</td></tr><tr><td>_step</td><td>▁▁▁▂▂▂▂▂▂▃▃▃▃▃▃▄▄▄▄▄▅▅▅▅▅▅▆▆▆▆▆▇▇▇▇▇▇███</td></tr></table><br/>"
     },
     "metadata": {}
    },
    {
     "output_type": "display_data",
     "data": {
      "text/plain": "<IPython.core.display.HTML object>",
      "text/html": "Synced 5 W&B file(s), 1 media file(s), 0 artifact file(s) and 0 other file(s)"
     },
     "metadata": {}
    },
    {
     "output_type": "display_data",
     "data": {
      "text/plain": "<IPython.core.display.HTML object>",
      "text/html": "\n                    <br/>Synced <strong style=\"color:#cdcd00\">trim-firebrand-133</strong>: <a href=\"https://wandb.ai/kuto5046/indoor/runs/3mh5syie\" target=\"_blank\">https://wandb.ai/kuto5046/indoor/runs/3mh5syie</a><br/>\n                "
     },
     "metadata": {}
    },
    {
     "output_type": "stream",
     "name": "stdout",
     "text": [
      "====================\n",
      "Fold 2\n",
      "====================\n",
      "\u001b[34m\u001b[1mwandb\u001b[0m: wandb version 0.10.23 is available!  To upgrade, please run:\n",
      "\u001b[34m\u001b[1mwandb\u001b[0m:  $ pip install wandb --upgrade\n"
     ]
    },
    {
     "output_type": "display_data",
     "data": {
      "text/plain": "<IPython.core.display.HTML object>",
      "text/html": "\n                Tracking run with wandb version 0.10.22<br/>\n                Syncing run <strong style=\"color:#cdcd00\">clear-fog-134</strong> to <a href=\"https://wandb.ai\" target=\"_blank\">Weights & Biases</a> <a href=\"https://docs.wandb.com/integrations/jupyter.html\" target=\"_blank\">(Documentation)</a>.<br/>\n                Project page: <a href=\"https://wandb.ai/kuto5046/indoor\" target=\"_blank\">https://wandb.ai/kuto5046/indoor</a><br/>\n                Run page: <a href=\"https://wandb.ai/kuto5046/indoor/runs/irm6rqgv\" target=\"_blank\">https://wandb.ai/kuto5046/indoor/runs/irm6rqgv</a><br/>\n                Run data is saved locally in <code>/home/kuzira/work/exp/exp005/wandb/run-20210328_200455-irm6rqgv</code><br/><br/>\n            "
     },
     "metadata": {}
    },
    {
     "output_type": "stream",
     "name": "stderr",
     "text": [
      "GPU available: True, used: True\n",
      "TPU available: None, using: 0 TPU cores\n",
      "Using native 16bit precision.\n",
      "\n",
      "  | Name         | Type      | Params\n",
      "-------------------------------------------\n",
      "0 | model        | LSTMModel | 3.5 M \n",
      "1 | xy_criterion | MSELoss   | 0     \n",
      "2 | f_criterion  | MSELoss   | 0     \n",
      "-------------------------------------------\n",
      "3.5 M     Trainable params\n",
      "0         Non-trainable params\n",
      "3.5 M     Total params\n",
      "14.154    Total estimated model params size (MB)\n",
      "fold 2: mean position error 8.268379051501062\n"
     ]
    },
    {
     "output_type": "display_data",
     "data": {
      "text/plain": "<IPython.core.display.HTML object>",
      "text/html": "<br/>Waiting for W&B process to finish, PID 2783552<br/>Program ended successfully."
     },
     "metadata": {}
    },
    {
     "output_type": "display_data",
     "data": {
      "text/plain": "VBox(children=(Label(value=' 0.00MB of 0.00MB uploaded (0.00MB deduped)\\r'), FloatProgress(value=1.0, max=1.0)…",
      "application/vnd.jupyter.widget-view+json": {
       "version_major": 2,
       "version_minor": 0,
       "model_id": "be9d82645f1043b38c1ea87b774a28a9"
      }
     },
     "metadata": {}
    },
    {
     "output_type": "display_data",
     "data": {
      "text/plain": "<IPython.core.display.HTML object>",
      "text/html": "Find user logs for this run at: <code>/home/kuzira/work/exp/exp005/wandb/run-20210328_200455-irm6rqgv/logs/debug.log</code>"
     },
     "metadata": {}
    },
    {
     "output_type": "display_data",
     "data": {
      "text/plain": "<IPython.core.display.HTML object>",
      "text/html": "Find internal logs for this run at: <code>/home/kuzira/work/exp/exp005/wandb/run-20210328_200455-irm6rqgv/logs/debug-internal.log</code>"
     },
     "metadata": {}
    },
    {
     "output_type": "display_data",
     "data": {
      "text/plain": "<IPython.core.display.HTML object>",
      "text/html": "<h3>Run summary:</h3><br/><style>\n    table.wandb td:nth-child(1) { padding: 0 10px; text-align: right }\n    </style><table class=\"wandb\">\n<tr><td>Loss/val</td><td>65.04008</td></tr><tr><td>Loss/xy</td><td>65.04008</td></tr><tr><td>Loss/floor</td><td>5.00438</td></tr><tr><td>MPE/val</td><td>8.268</td></tr><tr><td>epoch</td><td>174</td></tr><tr><td>trainer/global_step</td><td>70699</td></tr><tr><td>_runtime</td><td>754</td></tr><tr><td>_timestamp</td><td>1616930249</td></tr><tr><td>_step</td><td>174</td></tr></table>"
     },
     "metadata": {}
    },
    {
     "output_type": "display_data",
     "data": {
      "text/plain": "<IPython.core.display.HTML object>",
      "text/html": "<h3>Run history:</h3><br/><style>\n    table.wandb td:nth-child(1) { padding: 0 10px; text-align: right }\n    </style><table class=\"wandb\">\n<tr><td>Loss/val</td><td>█▇▆▅▄▄▃▃▃▂▂▂▂▂▁▁▁▁▁▁▁▁▁▁▁▁▁▁▁▁▁▁▁▁▁▁▁▁▁▁</td></tr><tr><td>Loss/xy</td><td>█▇▆▅▄▄▃▃▃▂▂▂▂▂▁▁▁▁▁▁▁▁▁▁▁▁▁▁▁▁▁▁▁▁▁▁▁▁▁▁</td></tr><tr><td>Loss/floor</td><td>██████████▆▂▃▃▂▂▁▁▁▂▂▂▂▂▂▂▂▂▂▁▁▁▁▁▁▁▁▁▁▁</td></tr><tr><td>MPE/val</td><td>█▇▆▆▅▅▅▄▄▃▃▃▂▂▂▂▂▂▁▁▁▁▁▁▁▁▁▁▁▁▁▁▁▁▁▁▁▁▁▁</td></tr><tr><td>epoch</td><td>▁▁▁▁▂▂▂▂▂▃▃▃▃▃▃▄▄▄▄▄▅▅▅▅▅▅▆▆▆▆▆▇▇▇▇▇▇███</td></tr><tr><td>trainer/global_step</td><td>▁▁▁▁▂▂▂▂▂▃▃▃▃▃▃▄▄▄▄▄▅▅▅▅▅▅▆▆▆▆▆▇▇▇▇▇▇███</td></tr><tr><td>_runtime</td><td>▁▁▁▁▂▂▂▂▂▃▃▃▃▃▃▄▄▄▄▄▅▅▅▅▅▆▆▆▆▆▆▇▇▇▇▇▇███</td></tr><tr><td>_timestamp</td><td>▁▁▁▁▂▂▂▂▂▃▃▃▃▃▃▄▄▄▄▄▅▅▅▅▅▆▆▆▆▆▆▇▇▇▇▇▇███</td></tr><tr><td>_step</td><td>▁▁▁▁▂▂▂▂▂▃▃▃▃▃▃▄▄▄▄▄▅▅▅▅▅▅▆▆▆▆▆▇▇▇▇▇▇███</td></tr></table><br/>"
     },
     "metadata": {}
    },
    {
     "output_type": "display_data",
     "data": {
      "text/plain": "<IPython.core.display.HTML object>",
      "text/html": "Synced 5 W&B file(s), 1 media file(s), 0 artifact file(s) and 0 other file(s)"
     },
     "metadata": {}
    },
    {
     "output_type": "display_data",
     "data": {
      "text/plain": "<IPython.core.display.HTML object>",
      "text/html": "\n                    <br/>Synced <strong style=\"color:#cdcd00\">clear-fog-134</strong>: <a href=\"https://wandb.ai/kuto5046/indoor/runs/irm6rqgv\" target=\"_blank\">https://wandb.ai/kuto5046/indoor/runs/irm6rqgv</a><br/>\n                "
     },
     "metadata": {}
    },
    {
     "output_type": "stream",
     "name": "stdout",
     "text": [
      "====================\n",
      "Fold 3\n",
      "====================\n",
      "\u001b[34m\u001b[1mwandb\u001b[0m: wandb version 0.10.23 is available!  To upgrade, please run:\n",
      "\u001b[34m\u001b[1mwandb\u001b[0m:  $ pip install wandb --upgrade\n"
     ]
    },
    {
     "output_type": "display_data",
     "data": {
      "text/plain": "<IPython.core.display.HTML object>",
      "text/html": "\n                Tracking run with wandb version 0.10.22<br/>\n                Syncing run <strong style=\"color:#cdcd00\">robust-silence-135</strong> to <a href=\"https://wandb.ai\" target=\"_blank\">Weights & Biases</a> <a href=\"https://docs.wandb.com/integrations/jupyter.html\" target=\"_blank\">(Documentation)</a>.<br/>\n                Project page: <a href=\"https://wandb.ai/kuto5046/indoor\" target=\"_blank\">https://wandb.ai/kuto5046/indoor</a><br/>\n                Run page: <a href=\"https://wandb.ai/kuto5046/indoor/runs/348x7ul5\" target=\"_blank\">https://wandb.ai/kuto5046/indoor/runs/348x7ul5</a><br/>\n                Run data is saved locally in <code>/home/kuzira/work/exp/exp005/wandb/run-20210328_201735-348x7ul5</code><br/><br/>\n            "
     },
     "metadata": {}
    },
    {
     "output_type": "stream",
     "name": "stderr",
     "text": [
      "GPU available: True, used: True\n",
      "TPU available: None, using: 0 TPU cores\n",
      "Using native 16bit precision.\n",
      "\n",
      "  | Name         | Type      | Params\n",
      "-------------------------------------------\n",
      "0 | model        | LSTMModel | 3.5 M \n",
      "1 | xy_criterion | MSELoss   | 0     \n",
      "2 | f_criterion  | MSELoss   | 0     \n",
      "-------------------------------------------\n",
      "3.5 M     Trainable params\n",
      "0         Non-trainable params\n",
      "3.5 M     Total params\n",
      "14.154    Total estimated model params size (MB)\n",
      "fold 3: mean position error 9.036171683072787\n"
     ]
    },
    {
     "output_type": "display_data",
     "data": {
      "text/plain": "<IPython.core.display.HTML object>",
      "text/html": "<br/>Waiting for W&B process to finish, PID 2789230<br/>Program ended successfully."
     },
     "metadata": {}
    },
    {
     "output_type": "display_data",
     "data": {
      "text/plain": "VBox(children=(Label(value=' 0.00MB of 0.00MB uploaded (0.00MB deduped)\\r'), FloatProgress(value=1.0, max=1.0)…",
      "application/vnd.jupyter.widget-view+json": {
       "version_major": 2,
       "version_minor": 0,
       "model_id": "51c474de1d29432597197461f4699628"
      }
     },
     "metadata": {}
    },
    {
     "output_type": "display_data",
     "data": {
      "text/plain": "<IPython.core.display.HTML object>",
      "text/html": "Find user logs for this run at: <code>/home/kuzira/work/exp/exp005/wandb/run-20210328_201735-348x7ul5/logs/debug.log</code>"
     },
     "metadata": {}
    },
    {
     "output_type": "display_data",
     "data": {
      "text/plain": "<IPython.core.display.HTML object>",
      "text/html": "Find internal logs for this run at: <code>/home/kuzira/work/exp/exp005/wandb/run-20210328_201735-348x7ul5/logs/debug-internal.log</code>"
     },
     "metadata": {}
    },
    {
     "output_type": "display_data",
     "data": {
      "text/plain": "<IPython.core.display.HTML object>",
      "text/html": "<h3>Run summary:</h3><br/><style>\n    table.wandb td:nth-child(1) { padding: 0 10px; text-align: right }\n    </style><table class=\"wandb\">\n<tr><td>Loss/val</td><td>84.88602</td></tr><tr><td>Loss/xy</td><td>84.88602</td></tr><tr><td>Loss/floor</td><td>4.35191</td></tr><tr><td>MPE/val</td><td>9.03608</td></tr><tr><td>epoch</td><td>147</td></tr><tr><td>trainer/global_step</td><td>59791</td></tr><tr><td>_runtime</td><td>627</td></tr><tr><td>_timestamp</td><td>1616930882</td></tr><tr><td>_step</td><td>147</td></tr></table>"
     },
     "metadata": {}
    },
    {
     "output_type": "display_data",
     "data": {
      "text/plain": "<IPython.core.display.HTML object>",
      "text/html": "<h3>Run history:</h3><br/><style>\n    table.wandb td:nth-child(1) { padding: 0 10px; text-align: right }\n    </style><table class=\"wandb\">\n<tr><td>Loss/val</td><td>█▇▆▆▅▄▄▃▃▃▂▂▂▂▂▂▂▁▁▁▁▁▁▁▁▁▁▁▁▁▁▁▁▁▁▁▁▁▁▁</td></tr><tr><td>Loss/xy</td><td>█▇▆▆▅▄▄▃▃▃▂▂▂▂▂▂▂▁▁▁▁▁▁▁▁▁▁▁▁▁▁▁▁▁▁▁▁▁▁▁</td></tr><tr><td>Loss/floor</td><td>▁▁▁▁▁▁▁▁▁▁▆▆▆▇████████████▇▇▇▇▇▇▇▇▆▆▆▆▆▆</td></tr><tr><td>MPE/val</td><td>██▇▆▆▅▅▅▅▄▄▃▃▃▂▂▂▂▂▂▁▁▁▁▁▁▁▁▁▁▁▁▁▁▁▁▁▁▁▁</td></tr><tr><td>epoch</td><td>▁▁▁▁▂▂▂▂▂▃▃▃▃▃▃▄▄▄▄▄▅▅▅▅▅▅▆▆▆▆▆▇▇▇▇▇▇███</td></tr><tr><td>trainer/global_step</td><td>▁▁▁▁▂▂▂▂▂▃▃▃▃▃▃▄▄▄▄▄▅▅▅▅▅▅▆▆▆▆▆▇▇▇▇▇▇███</td></tr><tr><td>_runtime</td><td>▁▁▁▁▂▂▂▂▂▃▃▃▃▃▃▄▄▄▄▄▅▅▅▅▅▅▆▆▆▆▆▇▇▇▇▇▇███</td></tr><tr><td>_timestamp</td><td>▁▁▁▁▂▂▂▂▂▃▃▃▃▃▃▄▄▄▄▄▅▅▅▅▅▅▆▆▆▆▆▇▇▇▇▇▇███</td></tr><tr><td>_step</td><td>▁▁▁▁▂▂▂▂▂▃▃▃▃▃▃▄▄▄▄▄▅▅▅▅▅▅▆▆▆▆▆▇▇▇▇▇▇███</td></tr></table><br/>"
     },
     "metadata": {}
    },
    {
     "output_type": "display_data",
     "data": {
      "text/plain": "<IPython.core.display.HTML object>",
      "text/html": "Synced 5 W&B file(s), 1 media file(s), 0 artifact file(s) and 0 other file(s)"
     },
     "metadata": {}
    },
    {
     "output_type": "display_data",
     "data": {
      "text/plain": "<IPython.core.display.HTML object>",
      "text/html": "\n                    <br/>Synced <strong style=\"color:#cdcd00\">robust-silence-135</strong>: <a href=\"https://wandb.ai/kuto5046/indoor/runs/348x7ul5\" target=\"_blank\">https://wandb.ai/kuto5046/indoor/runs/348x7ul5</a><br/>\n                "
     },
     "metadata": {}
    },
    {
     "output_type": "stream",
     "name": "stdout",
     "text": [
      "====================\n",
      "Fold 4\n",
      "====================\n",
      "\u001b[34m\u001b[1mwandb\u001b[0m: wandb version 0.10.23 is available!  To upgrade, please run:\n",
      "\u001b[34m\u001b[1mwandb\u001b[0m:  $ pip install wandb --upgrade\n"
     ]
    },
    {
     "output_type": "display_data",
     "data": {
      "text/plain": "<IPython.core.display.HTML object>",
      "text/html": "\n                Tracking run with wandb version 0.10.22<br/>\n                Syncing run <strong style=\"color:#cdcd00\">devoted-planet-136</strong> to <a href=\"https://wandb.ai\" target=\"_blank\">Weights & Biases</a> <a href=\"https://docs.wandb.com/integrations/jupyter.html\" target=\"_blank\">(Documentation)</a>.<br/>\n                Project page: <a href=\"https://wandb.ai/kuto5046/indoor\" target=\"_blank\">https://wandb.ai/kuto5046/indoor</a><br/>\n                Run page: <a href=\"https://wandb.ai/kuto5046/indoor/runs/30589zyx\" target=\"_blank\">https://wandb.ai/kuto5046/indoor/runs/30589zyx</a><br/>\n                Run data is saved locally in <code>/home/kuzira/work/exp/exp005/wandb/run-20210328_202807-30589zyx</code><br/><br/>\n            "
     },
     "metadata": {}
    },
    {
     "output_type": "stream",
     "name": "stderr",
     "text": [
      "GPU available: True, used: True\n",
      "TPU available: None, using: 0 TPU cores\n",
      "Using native 16bit precision.\n",
      "\n",
      "  | Name         | Type      | Params\n",
      "-------------------------------------------\n",
      "0 | model        | LSTMModel | 3.5 M \n",
      "1 | xy_criterion | MSELoss   | 0     \n",
      "2 | f_criterion  | MSELoss   | 0     \n",
      "-------------------------------------------\n",
      "3.5 M     Trainable params\n",
      "0         Non-trainable params\n",
      "3.5 M     Total params\n",
      "14.154    Total estimated model params size (MB)\n",
      "fold 4: mean position error 8.578856453865685\n"
     ]
    },
    {
     "output_type": "display_data",
     "data": {
      "text/plain": "<IPython.core.display.HTML object>",
      "text/html": "<br/>Waiting for W&B process to finish, PID 2794080<br/>Program ended successfully."
     },
     "metadata": {}
    },
    {
     "output_type": "display_data",
     "data": {
      "text/plain": "VBox(children=(Label(value=' 0.00MB of 0.00MB uploaded (0.00MB deduped)\\r'), FloatProgress(value=1.0, max=1.0)…",
      "application/vnd.jupyter.widget-view+json": {
       "version_major": 2,
       "version_minor": 0,
       "model_id": "84fc0ebd908c4605a3be5fd683362014"
      }
     },
     "metadata": {}
    },
    {
     "output_type": "display_data",
     "data": {
      "text/plain": "<IPython.core.display.HTML object>",
      "text/html": "Find user logs for this run at: <code>/home/kuzira/work/exp/exp005/wandb/run-20210328_202807-30589zyx/logs/debug.log</code>"
     },
     "metadata": {}
    },
    {
     "output_type": "display_data",
     "data": {
      "text/plain": "<IPython.core.display.HTML object>",
      "text/html": "Find internal logs for this run at: <code>/home/kuzira/work/exp/exp005/wandb/run-20210328_202807-30589zyx/logs/debug-internal.log</code>"
     },
     "metadata": {}
    },
    {
     "output_type": "display_data",
     "data": {
      "text/plain": "<IPython.core.display.HTML object>",
      "text/html": "<h3>Run summary:</h3><br/><style>\n    table.wandb td:nth-child(1) { padding: 0 10px; text-align: right }\n    </style><table class=\"wandb\">\n<tr><td>Loss/val</td><td>61.33182</td></tr><tr><td>Loss/xy</td><td>61.33182</td></tr><tr><td>Loss/floor</td><td>4.93885</td></tr><tr><td>MPE/val</td><td>8.57849</td></tr><tr><td>epoch</td><td>182</td></tr><tr><td>trainer/global_step</td><td>73931</td></tr><tr><td>_runtime</td><td>791</td></tr><tr><td>_timestamp</td><td>1616931678</td></tr><tr><td>_step</td><td>182</td></tr></table>"
     },
     "metadata": {}
    },
    {
     "output_type": "display_data",
     "data": {
      "text/plain": "<IPython.core.display.HTML object>",
      "text/html": "<h3>Run history:</h3><br/><style>\n    table.wandb td:nth-child(1) { padding: 0 10px; text-align: right }\n    </style><table class=\"wandb\">\n<tr><td>Loss/val</td><td>█▇▆▅▄▄▃▃▂▂▂▂▂▂▁▁▁▁▁▁▁▁▁▁▁▁▁▁▁▁▁▁▁▁▁▁▁▁▁▁</td></tr><tr><td>Loss/xy</td><td>█▇▆▅▄▄▃▃▂▂▂▂▂▂▁▁▁▁▁▁▁▁▁▁▁▁▁▁▁▁▁▁▁▁▁▁▁▁▁▁</td></tr><tr><td>Loss/floor</td><td>▁▁▁▁▁▁▁▃▃▅▄▄▄▄▇▇▇▇▇▇████████████████████</td></tr><tr><td>MPE/val</td><td>█▇▇▆▅▅▅▄▃▃▃▃▂▂▂▂▂▁▁▁▁▁▁▁▁▁▁▁▁▁▁▁▁▁▁▁▁▁▁▁</td></tr><tr><td>epoch</td><td>▁▁▁▁▂▂▂▂▂▃▃▃▃▃▄▄▄▄▄▄▅▅▅▅▅▅▆▆▆▆▆▇▇▇▇▇████</td></tr><tr><td>trainer/global_step</td><td>▁▁▁▁▂▂▂▂▂▃▃▃▃▃▄▄▄▄▄▄▅▅▅▅▅▅▆▆▆▆▆▇▇▇▇▇████</td></tr><tr><td>_runtime</td><td>▁▁▁▁▂▂▂▂▂▃▃▃▃▃▄▄▄▄▄▄▅▅▅▅▅▆▆▆▆▆▆▇▇▇▇▇████</td></tr><tr><td>_timestamp</td><td>▁▁▁▁▂▂▂▂▂▃▃▃▃▃▄▄▄▄▄▄▅▅▅▅▅▆▆▆▆▆▆▇▇▇▇▇████</td></tr><tr><td>_step</td><td>▁▁▁▁▂▂▂▂▂▃▃▃▃▃▄▄▄▄▄▄▅▅▅▅▅▅▆▆▆▆▆▇▇▇▇▇████</td></tr></table><br/>"
     },
     "metadata": {}
    },
    {
     "output_type": "display_data",
     "data": {
      "text/plain": "<IPython.core.display.HTML object>",
      "text/html": "Synced 5 W&B file(s), 1 media file(s), 0 artifact file(s) and 0 other file(s)"
     },
     "metadata": {}
    },
    {
     "output_type": "display_data",
     "data": {
      "text/plain": "<IPython.core.display.HTML object>",
      "text/html": "\n                    <br/>Synced <strong style=\"color:#cdcd00\">devoted-planet-136</strong>: <a href=\"https://wandb.ai/kuto5046/indoor/runs/30589zyx\" target=\"_blank\">https://wandb.ai/kuto5046/indoor/runs/30589zyx</a><br/>\n                "
     },
     "metadata": {}
    }
   ],
   "source": [
    "oofs = []  # 全てのoofをdfで格納する\n",
    "predictions = []  # 全ての予測値をdfで格納する\n",
    "val_scores = []\n",
    "# skf = model_selection.StratifiedKFold(n_splits=N_SPLITS, shuffle=True, random_state=SEED)\n",
    "gkf = model_selection.GroupKFold(n_splits=N_SPLITS)\n",
    "# 今回はtargetを均等に分ける必要はなくpathが均等に分かれればいいのでskf.split()にpathを与えている。\n",
    "for fold, (trn_idx, val_idx) in enumerate(gkf.split(train.loc[:, 'path'], groups=train.loc[:, 'path'])):\n",
    "    # 指定したfoldのみループを回す\n",
    "    if fold not in USE_FOLDS:\n",
    "        continue\n",
    "\n",
    "    print('=' * 20)\n",
    "    print(f'Fold {fold}')\n",
    "    print('=' * 20)\n",
    "\n",
    "    # train/valid data\n",
    "    trn_df = train.loc[trn_idx, BSSID_FEATS + RSSI_FEATS + ['site_id', 'wifi_x','wifi_y','floor']].reset_index(drop=True)\n",
    "    val_df = train.loc[val_idx, BSSID_FEATS + RSSI_FEATS + ['site_id', 'wifi_x','wifi_y','floor']].reset_index(drop=True)\n",
    "\n",
    "    # data loader\n",
    "    loaders = {}\n",
    "    loader_config = config[\"loader\"]\n",
    "    loaders[\"train\"] = DataLoader(IndoorDataset(trn_df, phase=\"train\"), **loader_config[\"train\"], worker_init_fn=worker_init_fn) \n",
    "    loaders[\"valid\"] = DataLoader(IndoorDataset(val_df, phase=\"valid\"), **loader_config[\"valid\"], worker_init_fn=worker_init_fn)\n",
    "    loaders[\"test\"] = DataLoader(IndoorDataset(test, phase=\"test\"), **loader_config[\"test\"], worker_init_fn=worker_init_fn)\n",
    "\n",
    "    # model\n",
    "    model = LSTMModel(wifi_bssids_size+1, site_count)  # +1としているのはLEを1スタートで始めているため\n",
    "    model_name = model.__class__.__name__\n",
    "\n",
    "    # callbacks\n",
    "    callbacks = []\n",
    "    checkpoint_callback = ModelCheckpoint(\n",
    "        monitor=f'Loss/val',\n",
    "        mode='min',\n",
    "        dirpath=\"./\",\n",
    "        verbose=False,\n",
    "        filename=f'{model_name}-{fold}')\n",
    "    callbacks.append(checkpoint_callback)\n",
    "\n",
    "    early_stop_callback = EarlyStopping(\n",
    "        monitor='Loss/val',\n",
    "        min_delta=0.00,\n",
    "        patience=5,\n",
    "        verbose=False,\n",
    "        mode='min')\n",
    "    callbacks.append(early_stop_callback)\n",
    "\n",
    "    # loggers\n",
    "    RUN_NAME = EXP_NAME + \"_\" + EXP_MESSAGE\n",
    "    wandb.init(project='indoor', notes=NOTES, entity='kuto5046', group=RUN_NAME)\n",
    "    wandb.run.name = RUN_NAME + f'-fold-{fold}'\n",
    "    wandb_config = wandb.config\n",
    "    wandb_config.model_name = model_name\n",
    "    wandb_config.LB = None\n",
    "    wandb.watch(model)\n",
    "    \n",
    "    \n",
    "    loggers = []\n",
    "    loggers.append(WandbLogger())\n",
    "\n",
    "    learner = Learner(model, config)\n",
    "    trainer = pl.Trainer(\n",
    "        logger=loggers, \n",
    "        callbacks=callbacks,\n",
    "        max_epochs=MAX_EPOCHS,\n",
    "        gpus=[0],\n",
    "        fast_dev_run=DEBUG,\n",
    "        deterministic=True,\n",
    "        precision=16,\n",
    "        progress_bar_refresh_rate=0  # vscodeの時progress barの動作が遅いので表示しない\n",
    "        )\n",
    "\n",
    "    trainer.fit(learner, train_dataloader=loaders['train'], val_dataloaders=loaders['valid'])\n",
    "\n",
    "    #############\n",
    "    # validation (to make oof)\n",
    "    #############\n",
    "    model.eval()\n",
    "    oof_x, oof_y, oof_f = evaluate(model, loaders, phase=\"valid\")\n",
    "    val_df[\"oof_x\"] = oof_x\n",
    "    val_df[\"oof_y\"] = oof_y\n",
    "    val_df[\"oof_floor\"] = oof_f\n",
    "    oofs.append(val_df)\n",
    "    \n",
    "    val_score = mean_position_error(\n",
    "        val_df[\"oof_x\"].values, val_df[\"oof_y\"].values, 0,\n",
    "        val_df['wifi_x'].values, val_df['wifi_y'].values, 0)\n",
    "    val_scores.append(val_score)\n",
    "    print(f\"fold {fold}: mean position error {val_score}\")\n",
    "\n",
    "    #############\n",
    "    # inference\n",
    "    #############n\n",
    "\n",
    "    preds_x, preds_y, preds_f = evaluate(model, loaders, phase=\"test\")\n",
    "    test_preds = pd.DataFrame(np.stack((preds_f, preds_x, preds_y))).T\n",
    "    test_preds.columns = sub.columns\n",
    "    test_preds[\"site_path_timestamp\"] = test[\"site_path_timestamp\"]\n",
    "    test_preds[\"floor\"] = test_preds[\"floor\"].astype(int)\n",
    "    test_preds.to_csv(f'{EXP_NAME}_fold{fold}.csv', index=False)\n",
    "    predictions.append(test_preds)\n",
    "    wandb.finish()"
   ]
  },
  {
   "cell_type": "code",
   "execution_count": 20,
   "metadata": {},
   "outputs": [
    {
     "output_type": "execute_result",
     "data": {
      "text/plain": [
       "       bssid_0  bssid_1  bssid_2  bssid_3  bssid_4  bssid_5  bssid_6  bssid_7  \\\n",
       "0         8422    17703    32959    25110     9057    16435    11252    28661   \n",
       "1        32959     9057    11252    28661    17703    38418    12088    37556   \n",
       "2        32959     9057    17703    11252    12088    38418    38846    40371   \n",
       "3        32959     9057    11252    12088    17703    38418    38846    10049   \n",
       "4        12088    32959    11252    17703    38846    39497    35941    25110   \n",
       "...        ...      ...      ...      ...      ...      ...      ...      ...   \n",
       "51620    24764    19267     4143    26547    40636    32274     6222    21039   \n",
       "51621    19267    24764     4143    40636    26547    21039    32274    34595   \n",
       "51622    24764    19267    32274    40636    26547    21039    34595     4009   \n",
       "51623    24764    32274    40636    19267    26547     1031    28497     9857   \n",
       "51624    24764    32274    19267    40636    26547    21039     4143     1031   \n",
       "\n",
       "       bssid_8  bssid_9  ...   rssi_17   rssi_18   rssi_19  site_id  \\\n",
       "0        12088    24559  ... -0.014829 -0.014307  0.003275       21   \n",
       "1        38846    24559  ... -0.040588 -0.022473 -0.004483       21   \n",
       "2         8147     4235  ... -0.032001 -0.014307 -0.004483       21   \n",
       "3        24559    33672  ... -0.023415 -0.014307  0.003275       21   \n",
       "4        33672     4235  ... -0.023415 -0.006140  0.003275       21   \n",
       "...        ...      ...  ...       ...       ...       ...      ...   \n",
       "51620    34595     5614  ...  0.122553  0.132694  0.142910        5   \n",
       "51621    28497     6222  ...  0.113966  0.124527  0.135153        5   \n",
       "51622     5614     9857  ...  0.122553  0.132694  0.142910        5   \n",
       "51623     4143    33237  ...  0.122553  0.132694  0.135153        5   \n",
       "51624     9857     7595  ...  0.131139  0.140861  0.150668        5   \n",
       "\n",
       "          wifi_x      wifi_y  floor      oof_x       oof_y  oof_floor  \n",
       "0      83.051899  211.013456      0  84.853065  213.636200   0.319242  \n",
       "1      83.256861  211.591914      0  83.718689  217.652924   0.322383  \n",
       "2      83.999819  213.656527      0  84.323853  221.117737   0.332088  \n",
       "3      84.834751  215.328593      0  81.416168  215.855011   0.331903  \n",
       "4      86.273002  217.003159      0  76.540024  212.953339   0.336827  \n",
       "...          ...         ...    ...        ...         ...        ...  \n",
       "51620  12.053943  100.515005      1  10.548859  102.138275   0.000000  \n",
       "51621  10.895453  101.396328      1  12.754536   95.600235   0.000000  \n",
       "51622   9.138750  103.340829      1   8.534599  102.572670   0.000000  \n",
       "51623   6.932391  105.053928      1  11.028503  103.103333   0.000000  \n",
       "51624   5.511971  106.255858      1  15.690720  100.328705   0.000000  \n",
       "\n",
       "[258125 rows x 47 columns]"
      ],
      "text/html": "<div>\n<style scoped>\n    .dataframe tbody tr th:only-of-type {\n        vertical-align: middle;\n    }\n\n    .dataframe tbody tr th {\n        vertical-align: top;\n    }\n\n    .dataframe thead th {\n        text-align: right;\n    }\n</style>\n<table border=\"1\" class=\"dataframe\">\n  <thead>\n    <tr style=\"text-align: right;\">\n      <th></th>\n      <th>bssid_0</th>\n      <th>bssid_1</th>\n      <th>bssid_2</th>\n      <th>bssid_3</th>\n      <th>bssid_4</th>\n      <th>bssid_5</th>\n      <th>bssid_6</th>\n      <th>bssid_7</th>\n      <th>bssid_8</th>\n      <th>bssid_9</th>\n      <th>...</th>\n      <th>rssi_17</th>\n      <th>rssi_18</th>\n      <th>rssi_19</th>\n      <th>site_id</th>\n      <th>wifi_x</th>\n      <th>wifi_y</th>\n      <th>floor</th>\n      <th>oof_x</th>\n      <th>oof_y</th>\n      <th>oof_floor</th>\n    </tr>\n  </thead>\n  <tbody>\n    <tr>\n      <th>0</th>\n      <td>8422</td>\n      <td>17703</td>\n      <td>32959</td>\n      <td>25110</td>\n      <td>9057</td>\n      <td>16435</td>\n      <td>11252</td>\n      <td>28661</td>\n      <td>12088</td>\n      <td>24559</td>\n      <td>...</td>\n      <td>-0.014829</td>\n      <td>-0.014307</td>\n      <td>0.003275</td>\n      <td>21</td>\n      <td>83.051899</td>\n      <td>211.013456</td>\n      <td>0</td>\n      <td>84.853065</td>\n      <td>213.636200</td>\n      <td>0.319242</td>\n    </tr>\n    <tr>\n      <th>1</th>\n      <td>32959</td>\n      <td>9057</td>\n      <td>11252</td>\n      <td>28661</td>\n      <td>17703</td>\n      <td>38418</td>\n      <td>12088</td>\n      <td>37556</td>\n      <td>38846</td>\n      <td>24559</td>\n      <td>...</td>\n      <td>-0.040588</td>\n      <td>-0.022473</td>\n      <td>-0.004483</td>\n      <td>21</td>\n      <td>83.256861</td>\n      <td>211.591914</td>\n      <td>0</td>\n      <td>83.718689</td>\n      <td>217.652924</td>\n      <td>0.322383</td>\n    </tr>\n    <tr>\n      <th>2</th>\n      <td>32959</td>\n      <td>9057</td>\n      <td>17703</td>\n      <td>11252</td>\n      <td>12088</td>\n      <td>38418</td>\n      <td>38846</td>\n      <td>40371</td>\n      <td>8147</td>\n      <td>4235</td>\n      <td>...</td>\n      <td>-0.032001</td>\n      <td>-0.014307</td>\n      <td>-0.004483</td>\n      <td>21</td>\n      <td>83.999819</td>\n      <td>213.656527</td>\n      <td>0</td>\n      <td>84.323853</td>\n      <td>221.117737</td>\n      <td>0.332088</td>\n    </tr>\n    <tr>\n      <th>3</th>\n      <td>32959</td>\n      <td>9057</td>\n      <td>11252</td>\n      <td>12088</td>\n      <td>17703</td>\n      <td>38418</td>\n      <td>38846</td>\n      <td>10049</td>\n      <td>24559</td>\n      <td>33672</td>\n      <td>...</td>\n      <td>-0.023415</td>\n      <td>-0.014307</td>\n      <td>0.003275</td>\n      <td>21</td>\n      <td>84.834751</td>\n      <td>215.328593</td>\n      <td>0</td>\n      <td>81.416168</td>\n      <td>215.855011</td>\n      <td>0.331903</td>\n    </tr>\n    <tr>\n      <th>4</th>\n      <td>12088</td>\n      <td>32959</td>\n      <td>11252</td>\n      <td>17703</td>\n      <td>38846</td>\n      <td>39497</td>\n      <td>35941</td>\n      <td>25110</td>\n      <td>33672</td>\n      <td>4235</td>\n      <td>...</td>\n      <td>-0.023415</td>\n      <td>-0.006140</td>\n      <td>0.003275</td>\n      <td>21</td>\n      <td>86.273002</td>\n      <td>217.003159</td>\n      <td>0</td>\n      <td>76.540024</td>\n      <td>212.953339</td>\n      <td>0.336827</td>\n    </tr>\n    <tr>\n      <th>...</th>\n      <td>...</td>\n      <td>...</td>\n      <td>...</td>\n      <td>...</td>\n      <td>...</td>\n      <td>...</td>\n      <td>...</td>\n      <td>...</td>\n      <td>...</td>\n      <td>...</td>\n      <td>...</td>\n      <td>...</td>\n      <td>...</td>\n      <td>...</td>\n      <td>...</td>\n      <td>...</td>\n      <td>...</td>\n      <td>...</td>\n      <td>...</td>\n      <td>...</td>\n      <td>...</td>\n    </tr>\n    <tr>\n      <th>51620</th>\n      <td>24764</td>\n      <td>19267</td>\n      <td>4143</td>\n      <td>26547</td>\n      <td>40636</td>\n      <td>32274</td>\n      <td>6222</td>\n      <td>21039</td>\n      <td>34595</td>\n      <td>5614</td>\n      <td>...</td>\n      <td>0.122553</td>\n      <td>0.132694</td>\n      <td>0.142910</td>\n      <td>5</td>\n      <td>12.053943</td>\n      <td>100.515005</td>\n      <td>1</td>\n      <td>10.548859</td>\n      <td>102.138275</td>\n      <td>0.000000</td>\n    </tr>\n    <tr>\n      <th>51621</th>\n      <td>19267</td>\n      <td>24764</td>\n      <td>4143</td>\n      <td>40636</td>\n      <td>26547</td>\n      <td>21039</td>\n      <td>32274</td>\n      <td>34595</td>\n      <td>28497</td>\n      <td>6222</td>\n      <td>...</td>\n      <td>0.113966</td>\n      <td>0.124527</td>\n      <td>0.135153</td>\n      <td>5</td>\n      <td>10.895453</td>\n      <td>101.396328</td>\n      <td>1</td>\n      <td>12.754536</td>\n      <td>95.600235</td>\n      <td>0.000000</td>\n    </tr>\n    <tr>\n      <th>51622</th>\n      <td>24764</td>\n      <td>19267</td>\n      <td>32274</td>\n      <td>40636</td>\n      <td>26547</td>\n      <td>21039</td>\n      <td>34595</td>\n      <td>4009</td>\n      <td>5614</td>\n      <td>9857</td>\n      <td>...</td>\n      <td>0.122553</td>\n      <td>0.132694</td>\n      <td>0.142910</td>\n      <td>5</td>\n      <td>9.138750</td>\n      <td>103.340829</td>\n      <td>1</td>\n      <td>8.534599</td>\n      <td>102.572670</td>\n      <td>0.000000</td>\n    </tr>\n    <tr>\n      <th>51623</th>\n      <td>24764</td>\n      <td>32274</td>\n      <td>40636</td>\n      <td>19267</td>\n      <td>26547</td>\n      <td>1031</td>\n      <td>28497</td>\n      <td>9857</td>\n      <td>4143</td>\n      <td>33237</td>\n      <td>...</td>\n      <td>0.122553</td>\n      <td>0.132694</td>\n      <td>0.135153</td>\n      <td>5</td>\n      <td>6.932391</td>\n      <td>105.053928</td>\n      <td>1</td>\n      <td>11.028503</td>\n      <td>103.103333</td>\n      <td>0.000000</td>\n    </tr>\n    <tr>\n      <th>51624</th>\n      <td>24764</td>\n      <td>32274</td>\n      <td>19267</td>\n      <td>40636</td>\n      <td>26547</td>\n      <td>21039</td>\n      <td>4143</td>\n      <td>1031</td>\n      <td>9857</td>\n      <td>7595</td>\n      <td>...</td>\n      <td>0.131139</td>\n      <td>0.140861</td>\n      <td>0.150668</td>\n      <td>5</td>\n      <td>5.511971</td>\n      <td>106.255858</td>\n      <td>1</td>\n      <td>15.690720</td>\n      <td>100.328705</td>\n      <td>0.000000</td>\n    </tr>\n  </tbody>\n</table>\n<p>258125 rows × 47 columns</p>\n</div>"
     },
     "metadata": {},
     "execution_count": 20
    }
   ],
   "source": [
    "if len(USE_FOLDS) > 1:\n",
    "    oofs_df = pd.concat(oofs)\n",
    "else:\n",
    "    oofs_df = oofs[0]\n",
    "oofs_df.to_csv(\"oof.csv\", index=False)\n",
    "oofs_df"
   ]
  },
  {
   "cell_type": "code",
   "execution_count": 21,
   "metadata": {},
   "outputs": [
    {
     "output_type": "execute_result",
     "data": {
      "text/plain": [
       "                                                    floor           x  \\\n",
       "site_path_timestamp                                                     \n",
       "5a0546857ecc773753327266_046cfa46be49fc10834815...      0   82.318756   \n",
       "5a0546857ecc773753327266_046cfa46be49fc10834815...      0   81.857292   \n",
       "5a0546857ecc773753327266_046cfa46be49fc10834815...      0   82.386482   \n",
       "5a0546857ecc773753327266_046cfa46be49fc10834815...      0   86.129074   \n",
       "5a0546857ecc773753327266_046cfa46be49fc10834815...      0   84.982719   \n",
       "...                                                   ...         ...   \n",
       "5dc8cea7659e181adb076a3f_fd64de8c4a2fc5ebb0e9f4...      0  213.245438   \n",
       "5dc8cea7659e181adb076a3f_fd64de8c4a2fc5ebb0e9f4...      0  209.355164   \n",
       "5dc8cea7659e181adb076a3f_fd64de8c4a2fc5ebb0e9f4...      0  204.692017   \n",
       "5dc8cea7659e181adb076a3f_fd64de8c4a2fc5ebb0e9f4...      0  199.702759   \n",
       "5dc8cea7659e181adb076a3f_fd64de8c4a2fc5ebb0e9f4...      0  199.790268   \n",
       "\n",
       "                                                             y  \n",
       "site_path_timestamp                                             \n",
       "5a0546857ecc773753327266_046cfa46be49fc10834815...  103.581322  \n",
       "5a0546857ecc773753327266_046cfa46be49fc10834815...  103.895126  \n",
       "5a0546857ecc773753327266_046cfa46be49fc10834815...  107.518250  \n",
       "5a0546857ecc773753327266_046cfa46be49fc10834815...  109.890343  \n",
       "5a0546857ecc773753327266_046cfa46be49fc10834815...  108.455605  \n",
       "...                                                        ...  \n",
       "5dc8cea7659e181adb076a3f_fd64de8c4a2fc5ebb0e9f4...   98.056030  \n",
       "5dc8cea7659e181adb076a3f_fd64de8c4a2fc5ebb0e9f4...  103.134911  \n",
       "5dc8cea7659e181adb076a3f_fd64de8c4a2fc5ebb0e9f4...  110.138382  \n",
       "5dc8cea7659e181adb076a3f_fd64de8c4a2fc5ebb0e9f4...  113.260635  \n",
       "5dc8cea7659e181adb076a3f_fd64de8c4a2fc5ebb0e9f4...  110.821777  \n",
       "\n",
       "[10133 rows x 3 columns]"
      ],
      "text/html": "<div>\n<style scoped>\n    .dataframe tbody tr th:only-of-type {\n        vertical-align: middle;\n    }\n\n    .dataframe tbody tr th {\n        vertical-align: top;\n    }\n\n    .dataframe thead th {\n        text-align: right;\n    }\n</style>\n<table border=\"1\" class=\"dataframe\">\n  <thead>\n    <tr style=\"text-align: right;\">\n      <th></th>\n      <th>floor</th>\n      <th>x</th>\n      <th>y</th>\n    </tr>\n    <tr>\n      <th>site_path_timestamp</th>\n      <th></th>\n      <th></th>\n      <th></th>\n    </tr>\n  </thead>\n  <tbody>\n    <tr>\n      <th>5a0546857ecc773753327266_046cfa46be49fc10834815c6_0000000000009</th>\n      <td>0</td>\n      <td>82.318756</td>\n      <td>103.581322</td>\n    </tr>\n    <tr>\n      <th>5a0546857ecc773753327266_046cfa46be49fc10834815c6_0000000009017</th>\n      <td>0</td>\n      <td>81.857292</td>\n      <td>103.895126</td>\n    </tr>\n    <tr>\n      <th>5a0546857ecc773753327266_046cfa46be49fc10834815c6_0000000015326</th>\n      <td>0</td>\n      <td>82.386482</td>\n      <td>107.518250</td>\n    </tr>\n    <tr>\n      <th>5a0546857ecc773753327266_046cfa46be49fc10834815c6_0000000018763</th>\n      <td>0</td>\n      <td>86.129074</td>\n      <td>109.890343</td>\n    </tr>\n    <tr>\n      <th>5a0546857ecc773753327266_046cfa46be49fc10834815c6_0000000022328</th>\n      <td>0</td>\n      <td>84.982719</td>\n      <td>108.455605</td>\n    </tr>\n    <tr>\n      <th>...</th>\n      <td>...</td>\n      <td>...</td>\n      <td>...</td>\n    </tr>\n    <tr>\n      <th>5dc8cea7659e181adb076a3f_fd64de8c4a2fc5ebb0e9f412_0000000082589</th>\n      <td>0</td>\n      <td>213.245438</td>\n      <td>98.056030</td>\n    </tr>\n    <tr>\n      <th>5dc8cea7659e181adb076a3f_fd64de8c4a2fc5ebb0e9f412_0000000085758</th>\n      <td>0</td>\n      <td>209.355164</td>\n      <td>103.134911</td>\n    </tr>\n    <tr>\n      <th>5dc8cea7659e181adb076a3f_fd64de8c4a2fc5ebb0e9f412_0000000090895</th>\n      <td>0</td>\n      <td>204.692017</td>\n      <td>110.138382</td>\n    </tr>\n    <tr>\n      <th>5dc8cea7659e181adb076a3f_fd64de8c4a2fc5ebb0e9f412_0000000096899</th>\n      <td>0</td>\n      <td>199.702759</td>\n      <td>113.260635</td>\n    </tr>\n    <tr>\n      <th>5dc8cea7659e181adb076a3f_fd64de8c4a2fc5ebb0e9f412_0000000100447</th>\n      <td>0</td>\n      <td>199.790268</td>\n      <td>110.821777</td>\n    </tr>\n  </tbody>\n</table>\n<p>10133 rows × 3 columns</p>\n</div>"
     },
     "metadata": {},
     "execution_count": 21
    }
   ],
   "source": [
    "if len(USE_FOLDS) > 1:\n",
    "    # foldの結果を平均した後、reindexでsubmission fileにindexを合わせる\n",
    "    all_preds = pd.concat(predictions).groupby('site_path_timestamp').mean().reindex(sub.index)\n",
    "else:\n",
    "    all_preds = predictions[0].reindex(sub.index)\n",
    "all_preds"
   ]
  },
  {
   "cell_type": "code",
   "execution_count": 22,
   "metadata": {},
   "outputs": [
    {
     "output_type": "execute_result",
     "data": {
      "text/plain": [
       "                                                    floor           x  \\\n",
       "site_path_timestamp                                                     \n",
       "5a0546857ecc773753327266_046cfa46be49fc10834815...      0   82.318756   \n",
       "5a0546857ecc773753327266_046cfa46be49fc10834815...      0   81.857292   \n",
       "5a0546857ecc773753327266_046cfa46be49fc10834815...      0   82.386482   \n",
       "5a0546857ecc773753327266_046cfa46be49fc10834815...      0   86.129074   \n",
       "5a0546857ecc773753327266_046cfa46be49fc10834815...      0   84.982719   \n",
       "...                                                   ...         ...   \n",
       "5dc8cea7659e181adb076a3f_fd64de8c4a2fc5ebb0e9f4...      5  213.245438   \n",
       "5dc8cea7659e181adb076a3f_fd64de8c4a2fc5ebb0e9f4...      5  209.355164   \n",
       "5dc8cea7659e181adb076a3f_fd64de8c4a2fc5ebb0e9f4...      5  204.692017   \n",
       "5dc8cea7659e181adb076a3f_fd64de8c4a2fc5ebb0e9f4...      5  199.702759   \n",
       "5dc8cea7659e181adb076a3f_fd64de8c4a2fc5ebb0e9f4...      5  199.790268   \n",
       "\n",
       "                                                             y  \n",
       "site_path_timestamp                                             \n",
       "5a0546857ecc773753327266_046cfa46be49fc10834815...  103.581322  \n",
       "5a0546857ecc773753327266_046cfa46be49fc10834815...  103.895126  \n",
       "5a0546857ecc773753327266_046cfa46be49fc10834815...  107.518250  \n",
       "5a0546857ecc773753327266_046cfa46be49fc10834815...  109.890343  \n",
       "5a0546857ecc773753327266_046cfa46be49fc10834815...  108.455605  \n",
       "...                                                        ...  \n",
       "5dc8cea7659e181adb076a3f_fd64de8c4a2fc5ebb0e9f4...   98.056030  \n",
       "5dc8cea7659e181adb076a3f_fd64de8c4a2fc5ebb0e9f4...  103.134911  \n",
       "5dc8cea7659e181adb076a3f_fd64de8c4a2fc5ebb0e9f4...  110.138382  \n",
       "5dc8cea7659e181adb076a3f_fd64de8c4a2fc5ebb0e9f4...  113.260635  \n",
       "5dc8cea7659e181adb076a3f_fd64de8c4a2fc5ebb0e9f4...  110.821777  \n",
       "\n",
       "[10133 rows x 3 columns]"
      ],
      "text/html": "<div>\n<style scoped>\n    .dataframe tbody tr th:only-of-type {\n        vertical-align: middle;\n    }\n\n    .dataframe tbody tr th {\n        vertical-align: top;\n    }\n\n    .dataframe thead th {\n        text-align: right;\n    }\n</style>\n<table border=\"1\" class=\"dataframe\">\n  <thead>\n    <tr style=\"text-align: right;\">\n      <th></th>\n      <th>floor</th>\n      <th>x</th>\n      <th>y</th>\n    </tr>\n    <tr>\n      <th>site_path_timestamp</th>\n      <th></th>\n      <th></th>\n      <th></th>\n    </tr>\n  </thead>\n  <tbody>\n    <tr>\n      <th>5a0546857ecc773753327266_046cfa46be49fc10834815c6_0000000000009</th>\n      <td>0</td>\n      <td>82.318756</td>\n      <td>103.581322</td>\n    </tr>\n    <tr>\n      <th>5a0546857ecc773753327266_046cfa46be49fc10834815c6_0000000009017</th>\n      <td>0</td>\n      <td>81.857292</td>\n      <td>103.895126</td>\n    </tr>\n    <tr>\n      <th>5a0546857ecc773753327266_046cfa46be49fc10834815c6_0000000015326</th>\n      <td>0</td>\n      <td>82.386482</td>\n      <td>107.518250</td>\n    </tr>\n    <tr>\n      <th>5a0546857ecc773753327266_046cfa46be49fc10834815c6_0000000018763</th>\n      <td>0</td>\n      <td>86.129074</td>\n      <td>109.890343</td>\n    </tr>\n    <tr>\n      <th>5a0546857ecc773753327266_046cfa46be49fc10834815c6_0000000022328</th>\n      <td>0</td>\n      <td>84.982719</td>\n      <td>108.455605</td>\n    </tr>\n    <tr>\n      <th>...</th>\n      <td>...</td>\n      <td>...</td>\n      <td>...</td>\n    </tr>\n    <tr>\n      <th>5dc8cea7659e181adb076a3f_fd64de8c4a2fc5ebb0e9f412_0000000082589</th>\n      <td>5</td>\n      <td>213.245438</td>\n      <td>98.056030</td>\n    </tr>\n    <tr>\n      <th>5dc8cea7659e181adb076a3f_fd64de8c4a2fc5ebb0e9f412_0000000085758</th>\n      <td>5</td>\n      <td>209.355164</td>\n      <td>103.134911</td>\n    </tr>\n    <tr>\n      <th>5dc8cea7659e181adb076a3f_fd64de8c4a2fc5ebb0e9f412_0000000090895</th>\n      <td>5</td>\n      <td>204.692017</td>\n      <td>110.138382</td>\n    </tr>\n    <tr>\n      <th>5dc8cea7659e181adb076a3f_fd64de8c4a2fc5ebb0e9f412_0000000096899</th>\n      <td>5</td>\n      <td>199.702759</td>\n      <td>113.260635</td>\n    </tr>\n    <tr>\n      <th>5dc8cea7659e181adb076a3f_fd64de8c4a2fc5ebb0e9f412_0000000100447</th>\n      <td>5</td>\n      <td>199.790268</td>\n      <td>110.821777</td>\n    </tr>\n  </tbody>\n</table>\n<p>10133 rows × 3 columns</p>\n</div>"
     },
     "metadata": {},
     "execution_count": 22
    }
   ],
   "source": [
    "# floorの数値を置換\n",
    "simple_accurate_99 = pd.read_csv(root_dir / 'simple-99-accurate-floor-model/submission.csv')\n",
    "all_preds['floor'] = simple_accurate_99['floor'].values\n",
    "all_preds"
   ]
  },
  {
   "cell_type": "code",
   "execution_count": 23,
   "metadata": {},
   "outputs": [],
   "source": [
    "all_preds.to_csv(RUN_NAME + '.csv')"
   ]
  },
  {
   "cell_type": "code",
   "execution_count": 24,
   "metadata": {},
   "outputs": [
    {
     "output_type": "stream",
     "name": "stdout",
     "text": [
      "CV:8.607005590088779\n"
     ]
    }
   ],
   "source": [
    "print(f\"CV:{np.mean(val_scores)}\")"
   ]
  },
  {
   "cell_type": "code",
   "execution_count": null,
   "metadata": {},
   "outputs": [],
   "source": []
  }
 ],
 "metadata": {
  "kernelspec": {
   "display_name": "Python 3",
   "language": "python",
   "name": "python3"
  },
  "language_info": {
   "codemirror_mode": {
    "name": "ipython",
    "version": 3
   },
   "file_extension": ".py",
   "mimetype": "text/x-python",
   "name": "python",
   "nbconvert_exporter": "python",
   "pygments_lexer": "ipython3",
   "version": "3.8.5"
  }
 },
 "nbformat": 4,
 "nbformat_minor": 4
}